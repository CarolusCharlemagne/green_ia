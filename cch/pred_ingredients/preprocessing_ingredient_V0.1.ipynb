{
 "cells": [
  {
   "cell_type": "code",
   "execution_count": null,
   "metadata": {},
   "outputs": [],
   "source": [
    "# split des df de train, test et valid\n",
    "cat_train_df, cat_test_df = train_test_split(cat_df, test_size=0.1, random_state=42)\n",
    "cat_train_df, cat_valid_df = train_test_split(cat_train_df, test_size=0.05, random_state=42) \n",
    "\n",
    "# sauvegarde au format csv \n",
    "cat_train_df.to_csv(project_path + f'\\\\data\\\\cat_train_df_{file_nbr}.csv', index=False, sep=\";\")\n",
    "cat_test_df.to_csv(project_path + f'\\\\data\\\\cat_test_df_{file_nbr}.csv', index=False, sep=\";\")\n",
    "cat_valid_df.to_csv(project_path + f'\\\\data\\\\cat_valid_df_{file_nbr}.csv', index=False, sep=\";\")"
   ]
  },
  {
   "cell_type": "code",
   "execution_count": null,
   "metadata": {},
   "outputs": [],
   "source": [
    "train_df = pd.read_csv(project_path + f'data\\\\cat_train_df_{nbr_to_grab}.csv', sep=';')\n",
    "test_df = pd.read_csv(project_path + f'data\\\\cat_test_df_{nbr_to_grab}.csv', sep=';')\n",
    "valid_df = pd.read_csv(project_path + f'data\\\\cat_valid_df_{nbr_to_grab}.csv', sep=';')\n",
    "train_df.tail(3)"
   ]
  }
 ],
 "metadata": {
  "language_info": {
   "name": "python"
  }
 },
 "nbformat": 4,
 "nbformat_minor": 2
}
