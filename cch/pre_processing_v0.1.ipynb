{
 "cells": [
  {
   "cell_type": "code",
   "execution_count": 24,
   "metadata": {},
   "outputs": [
    {
     "name": "stdout",
     "output_type": "stream",
     "text": [
      "config augmentation allocation mémoire gpu activée\n"
     ]
    }
   ],
   "source": [
    "import tensorflow as tf\n",
    "\n",
    "def setup_gpu():\n",
    "    physical_devices = tf.config.list_physical_devices('GPU')\n",
    "    if physical_devices:\n",
    "        try:\n",
    "            tf.config.experimental.set_memory_growth(physical_devices[0], True)\n",
    "            print(\"config augmentation allocation mémoire gpu activée\")\n",
    "        except RuntimeError as e:\n",
    "            print(e)\n",
    "\n",
    "setup_gpu()"
   ]
  },
  {
   "cell_type": "code",
   "execution_count": 25,
   "metadata": {},
   "outputs": [],
   "source": [
    "import keras\n",
    "import numpy as np\n",
    "import math\n",
    "import matplotlib.pyplot as plt\n",
    "import pandas as pd\n",
    "import seaborn as sea\n",
    "import sklearn\n",
    "import scipy as sc\n",
    "import nltk as nltk\n",
    "import statsmodels as statsmodels\n",
    "import os\n",
    "\n",
    "from sklearn.model_selection import train_test_split\n",
    "from sklearn.preprocessing import MinMaxScaler"
   ]
  },
  {
   "cell_type": "code",
   "execution_count": 26,
   "metadata": {},
   "outputs": [
    {
     "name": "stdout",
     "output_type": "stream",
     "text": [
      "Version de TensorFlow : 2.10.1\n"
     ]
    }
   ],
   "source": [
    "print(\"Version de TensorFlow :\", tf.__version__)"
   ]
  },
  {
   "cell_type": "code",
   "execution_count": 27,
   "metadata": {},
   "outputs": [
    {
     "name": "stdout",
     "output_type": "stream",
     "text": [
      "Version de Keras : 2.10.0\n"
     ]
    }
   ],
   "source": [
    "print(\"Version de Keras :\", keras.__version__)"
   ]
  },
  {
   "cell_type": "markdown",
   "metadata": {},
   "source": [
    "## Panneau de configuration"
   ]
  },
  {
   "cell_type": "code",
   "execution_count": 28,
   "metadata": {},
   "outputs": [],
   "source": [
    "project_path = \"C:\\\\Users\\\\charl\\\\Documents\\\\workspace\\\\green_ia\\\\cch\\\\\"\n",
    "file_nbr = '02' # numéro d'identification des csv à générer \n",
    "openfoodfact_csv_version = '01'"
   ]
  },
  {
   "cell_type": "code",
   "execution_count": 29,
   "metadata": {},
   "outputs": [
    {
     "name": "stderr",
     "output_type": "stream",
     "text": [
      "C:\\Users\\charl\\AppData\\Local\\Temp\\ipykernel_18568\\1547600537.py:3: DtypeWarning: Columns (0,11,12,14,15,16,17,23,24,25,26,27,31,32,33,34,35,36,37,44,46,47,48,50,52,56,67,72) have mixed types. Specify dtype option on import or set low_memory=False.\n",
      "  df = pd.read_csv(openfoodfacts_csv)\n"
     ]
    }
   ],
   "source": [
    "# import du csv de données openfoodfacts\n",
    "openfoodfacts_csv = project_path + f\"data\\\\openfoodfacts_{openfoodfact_csv_version}.csv\"\n",
    "df = pd.read_csv(openfoodfacts_csv)"
   ]
  },
  {
   "cell_type": "markdown",
   "metadata": {},
   "source": [
    "# Analyse des données "
   ]
  },
  {
   "cell_type": "code",
   "execution_count": 30,
   "metadata": {},
   "outputs": [
    {
     "name": "stdout",
     "output_type": "stream",
     "text": [
      "nbr col: 206, liste: ['code', 'url', 'creator', 'created_t', 'created_datetime', 'last_modified_t', 'last_modified_datetime', 'last_modified_by', 'last_updated_t', 'last_updated_datetime', 'product_name', 'abbreviated_product_name', 'generic_name', 'quantity', 'packaging', 'packaging_tags', 'packaging_en', 'packaging_text', 'brands', 'brands_tags', 'categories', 'categories_tags', 'categories_en', 'origins', 'origins_tags', 'origins_en', 'manufacturing_places', 'manufacturing_places_tags', 'labels', 'labels_tags', 'labels_en', 'emb_codes', 'emb_codes_tags', 'first_packaging_code_geo', 'cities', 'cities_tags', 'purchase_places', 'stores', 'countries', 'countries_tags', 'countries_en', 'ingredients_text', 'ingredients_tags', 'ingredients_analysis_tags', 'allergens', 'allergens_en', 'traces', 'traces_tags', 'traces_en', 'serving_size', 'serving_quantity', 'no_nutrition_data', 'additives_n', 'additives', 'additives_tags', 'additives_en', 'nutriscore_score', 'nutriscore_grade', 'nova_group', 'pnns_groups_1', 'pnns_groups_2', 'food_groups', 'food_groups_tags', 'food_groups_en', 'states', 'states_tags', 'states_en', 'brand_owner', 'ecoscore_score', 'ecoscore_grade', 'nutrient_levels_tags', 'product_quantity', 'owner', 'data_quality_errors_tags', 'unique_scans_n', 'popularity_tags', 'completeness', 'last_image_t', 'last_image_datetime', 'main_category', 'main_category_en', 'image_url', 'image_small_url', 'image_ingredients_url', 'image_ingredients_small_url', 'image_nutrition_url', 'image_nutrition_small_url', 'energy-kj_100g', 'energy-kcal_100g', 'energy_100g', 'energy-from-fat_100g', 'fat_100g', 'saturated-fat_100g', 'butyric-acid_100g', 'caproic-acid_100g', 'caprylic-acid_100g', 'capric-acid_100g', 'lauric-acid_100g', 'myristic-acid_100g', 'palmitic-acid_100g', 'stearic-acid_100g', 'arachidic-acid_100g', 'behenic-acid_100g', 'lignoceric-acid_100g', 'cerotic-acid_100g', 'montanic-acid_100g', 'melissic-acid_100g', 'unsaturated-fat_100g', 'monounsaturated-fat_100g', 'omega-9-fat_100g', 'polyunsaturated-fat_100g', 'omega-3-fat_100g', 'omega-6-fat_100g', 'alpha-linolenic-acid_100g', 'eicosapentaenoic-acid_100g', 'docosahexaenoic-acid_100g', 'linoleic-acid_100g', 'arachidonic-acid_100g', 'gamma-linolenic-acid_100g', 'dihomo-gamma-linolenic-acid_100g', 'oleic-acid_100g', 'elaidic-acid_100g', 'gondoic-acid_100g', 'mead-acid_100g', 'erucic-acid_100g', 'nervonic-acid_100g', 'trans-fat_100g', 'cholesterol_100g', 'carbohydrates_100g', 'sugars_100g', 'added-sugars_100g', 'sucrose_100g', 'glucose_100g', 'fructose_100g', 'lactose_100g', 'maltose_100g', 'maltodextrins_100g', 'starch_100g', 'polyols_100g', 'erythritol_100g', 'fiber_100g', 'soluble-fiber_100g', 'insoluble-fiber_100g', 'proteins_100g', 'casein_100g', 'serum-proteins_100g', 'nucleotides_100g', 'salt_100g', 'added-salt_100g', 'sodium_100g', 'alcohol_100g', 'vitamin-a_100g', 'beta-carotene_100g', 'vitamin-d_100g', 'vitamin-e_100g', 'vitamin-k_100g', 'vitamin-c_100g', 'vitamin-b1_100g', 'vitamin-b2_100g', 'vitamin-pp_100g', 'vitamin-b6_100g', 'vitamin-b9_100g', 'folates_100g', 'vitamin-b12_100g', 'biotin_100g', 'pantothenic-acid_100g', 'silica_100g', 'bicarbonate_100g', 'potassium_100g', 'chloride_100g', 'calcium_100g', 'phosphorus_100g', 'iron_100g', 'magnesium_100g', 'zinc_100g', 'copper_100g', 'manganese_100g', 'fluoride_100g', 'selenium_100g', 'chromium_100g', 'molybdenum_100g', 'iodine_100g', 'caffeine_100g', 'taurine_100g', 'ph_100g', 'fruits-vegetables-nuts_100g', 'fruits-vegetables-nuts-dried_100g', 'fruits-vegetables-nuts-estimate_100g', 'fruits-vegetables-nuts-estimate-from-ingredients_100g', 'collagen-meat-protein-ratio_100g', 'cocoa_100g', 'chlorophyl_100g', 'carbon-footprint_100g', 'carbon-footprint-from-meat-or-fish_100g', 'nutrition-score-fr_100g', 'nutrition-score-uk_100g', 'glycemic-index_100g', 'water-hardness_100g', 'choline_100g', 'phylloquinone_100g', 'beta-glucan_100g', 'inositol_100g', 'carnitine_100g', 'sulphate_100g', 'nitrate_100g', 'acidity_100g']\n"
     ]
    }
   ],
   "source": [
    "# affiche le nom de toutes les colonnes du df \n",
    "column_list = list(df.columns)\n",
    "print(f\"nbr col: {len(column_list)}, liste: {column_list}\")"
   ]
  },
  {
   "cell_type": "code",
   "execution_count": 31,
   "metadata": {},
   "outputs": [
    {
     "name": "stdout",
     "output_type": "stream",
     "text": [
      "range (0, 10]:\n",
      "['creator', 'last_modified_by', 'last_updated_t', 'last_updated_datetime', 'product_name', 'countries', 'countries_tags', 'countries_en', 'nutriscore_grade', 'pnns_groups_1', 'pnns_groups_2', 'states', 'states_tags', 'states_en', 'ecoscore_grade', 'completeness']\n",
      "\n",
      "range (10, 20]:\n",
      "['last_image_t', 'last_image_datetime', 'image_url', 'image_small_url']\n",
      "\n",
      "range (20, 30]:\n",
      "['energy-kcal_100g', 'energy_100g', 'fat_100g', 'saturated-fat_100g', 'carbohydrates_100g', 'sugars_100g', 'proteins_100g']\n",
      "\n",
      "range (30, 40]:\n",
      "['salt_100g', 'sodium_100g']\n",
      "\n",
      "range (40, 50]:\n",
      "['brands', 'brands_tags', 'image_nutrition_url', 'image_nutrition_small_url']\n",
      "\n",
      "range (50, 60]:\n",
      "['categories', 'categories_tags', 'categories_en', 'main_category', 'main_category_en']\n",
      "\n",
      "range (60, 70]:\n",
      "['quantity', 'ingredients_analysis_tags', 'nutriscore_score', 'food_groups', 'food_groups_tags', 'food_groups_en', 'nutrient_levels_tags', 'product_quantity', 'unique_scans_n', 'popularity_tags', 'fiber_100g', 'nutrition-score-fr_100g']\n",
      "\n",
      "range (70, 80]:\n",
      "['labels', 'labels_tags', 'labels_en', 'ingredients_text', 'ingredients_tags', 'serving_size', 'serving_quantity', 'additives_n', 'nova_group', 'ecoscore_score', 'image_ingredients_url', 'image_ingredients_small_url', 'fruits-vegetables-nuts-estimate-from-ingredients_100g']\n",
      "\n",
      "range (80, 90]:\n",
      "['packaging', 'packaging_tags', 'packaging_en', 'stores', 'additives_tags', 'additives_en']\n",
      "\n",
      "range (90, 100]:\n",
      "['abbreviated_product_name', 'generic_name', 'packaging_text', 'origins', 'origins_tags', 'origins_en', 'manufacturing_places', 'manufacturing_places_tags', 'emb_codes', 'emb_codes_tags', 'first_packaging_code_geo', 'cities', 'cities_tags', 'purchase_places', 'allergens', 'allergens_en', 'traces', 'traces_tags', 'traces_en', 'no_nutrition_data', 'additives', 'brand_owner', 'owner', 'data_quality_errors_tags', 'energy-kj_100g', 'energy-from-fat_100g', 'butyric-acid_100g', 'caproic-acid_100g', 'caprylic-acid_100g', 'capric-acid_100g', 'lauric-acid_100g', 'myristic-acid_100g', 'palmitic-acid_100g', 'stearic-acid_100g', 'arachidic-acid_100g', 'behenic-acid_100g', 'lignoceric-acid_100g', 'cerotic-acid_100g', 'montanic-acid_100g', 'melissic-acid_100g', 'unsaturated-fat_100g', 'monounsaturated-fat_100g', 'omega-9-fat_100g', 'polyunsaturated-fat_100g', 'omega-3-fat_100g', 'omega-6-fat_100g', 'alpha-linolenic-acid_100g', 'eicosapentaenoic-acid_100g', 'docosahexaenoic-acid_100g', 'linoleic-acid_100g', 'arachidonic-acid_100g', 'gamma-linolenic-acid_100g', 'dihomo-gamma-linolenic-acid_100g', 'oleic-acid_100g', 'elaidic-acid_100g', 'gondoic-acid_100g', 'mead-acid_100g', 'erucic-acid_100g', 'nervonic-acid_100g', 'trans-fat_100g', 'cholesterol_100g', 'added-sugars_100g', 'sucrose_100g', 'glucose_100g', 'fructose_100g', 'lactose_100g', 'maltose_100g', 'maltodextrins_100g', 'starch_100g', 'polyols_100g', 'erythritol_100g', 'soluble-fiber_100g', 'insoluble-fiber_100g', 'casein_100g', 'serum-proteins_100g', 'nucleotides_100g', 'added-salt_100g', 'alcohol_100g', 'vitamin-a_100g', 'beta-carotene_100g', 'vitamin-d_100g', 'vitamin-e_100g', 'vitamin-k_100g', 'vitamin-c_100g', 'vitamin-b1_100g', 'vitamin-b2_100g', 'vitamin-pp_100g', 'vitamin-b6_100g', 'vitamin-b9_100g', 'folates_100g', 'vitamin-b12_100g', 'biotin_100g', 'pantothenic-acid_100g', 'silica_100g', 'bicarbonate_100g', 'potassium_100g', 'chloride_100g', 'calcium_100g', 'phosphorus_100g', 'iron_100g', 'magnesium_100g', 'zinc_100g', 'copper_100g', 'manganese_100g', 'fluoride_100g', 'selenium_100g', 'chromium_100g', 'molybdenum_100g', 'iodine_100g', 'caffeine_100g', 'taurine_100g', 'ph_100g', 'fruits-vegetables-nuts_100g', 'fruits-vegetables-nuts-dried_100g', 'fruits-vegetables-nuts-estimate_100g', 'collagen-meat-protein-ratio_100g', 'cocoa_100g', 'chlorophyl_100g', 'carbon-footprint_100g', 'carbon-footprint-from-meat-or-fish_100g', 'nutrition-score-uk_100g', 'glycemic-index_100g', 'water-hardness_100g', 'choline_100g', 'phylloquinone_100g', 'beta-glucan_100g', 'inositol_100g', 'carnitine_100g', 'sulphate_100g', 'nitrate_100g', 'acidity_100g']\n",
      "\n"
     ]
    },
    {
     "name": "stderr",
     "output_type": "stream",
     "text": [
      "C:\\Users\\charl\\AppData\\Local\\Temp\\ipykernel_18568\\3943661832.py:8: FutureWarning: The default of observed=False is deprecated and will be changed to True in a future version of pandas. Pass observed=False to retain current behavior or observed=True to adopt the future default and silence this warning.\n",
      "  grouped = nan_df.groupby(pd.cut(nan_df['percentage_nan'], bins=[tranche[0] for tranche in nan_percent_range + [(100,)]]))\n"
     ]
    }
   ],
   "source": [
    "# afficher % de nan / colonne:\n",
    "total_rows = df.shape[0]\n",
    "nan_counts = df.isna().sum()\n",
    "nan_percentage = (nan_counts / total_rows) * 100\n",
    "nan_df = pd.DataFrame({'column_name': nan_percentage.index, 'percentage_nan': nan_percentage.values})\n",
    "\n",
    "nan_percent_range = [(0, 10), (10, 20), (20, 30), (30, 40), (40, 50), (50, 60), (60, 70), (70, 80), (80, 90), (90, 100)]\n",
    "grouped = nan_df.groupby(pd.cut(nan_df['percentage_nan'], bins=[tranche[0] for tranche in nan_percent_range + [(100,)]]))\n",
    "\n",
    "for tranche, group in grouped:\n",
    "    print(f\"range {tranche}:\")\n",
    "    print(group['column_name'].tolist())\n",
    "    print()"
   ]
  },
  {
   "cell_type": "markdown",
   "metadata": {},
   "source": [
    "# Traitement des données "
   ]
  },
  {
   "cell_type": "code",
   "execution_count": 32,
   "metadata": {},
   "outputs": [
    {
     "data": {
      "text/html": [
       "<div>\n",
       "<style scoped>\n",
       "    .dataframe tbody tr th:only-of-type {\n",
       "        vertical-align: middle;\n",
       "    }\n",
       "\n",
       "    .dataframe tbody tr th {\n",
       "        vertical-align: top;\n",
       "    }\n",
       "\n",
       "    .dataframe thead th {\n",
       "        text-align: right;\n",
       "    }\n",
       "</style>\n",
       "<table border=\"1\" class=\"dataframe\">\n",
       "  <thead>\n",
       "    <tr style=\"text-align: right;\">\n",
       "      <th></th>\n",
       "      <th>product_name</th>\n",
       "      <th>pnns_groups_1</th>\n",
       "      <th>pnns_groups_2</th>\n",
       "      <th>ecoscore_grade</th>\n",
       "      <th>energy-kcal_100g</th>\n",
       "      <th>fat_100g</th>\n",
       "      <th>saturated-fat_100g</th>\n",
       "      <th>carbohydrates_100g</th>\n",
       "      <th>sugars_100g</th>\n",
       "      <th>proteins_100g</th>\n",
       "      <th>salt_100g</th>\n",
       "      <th>sodium_100g</th>\n",
       "      <th>brands_tags</th>\n",
       "    </tr>\n",
       "  </thead>\n",
       "  <tbody>\n",
       "    <tr>\n",
       "      <th>3236623</th>\n",
       "      <td>Test Product Product</td>\n",
       "      <td>unknown</td>\n",
       "      <td>unknown</td>\n",
       "      <td>unknown</td>\n",
       "      <td>NaN</td>\n",
       "      <td>NaN</td>\n",
       "      <td>NaN</td>\n",
       "      <td>NaN</td>\n",
       "      <td>NaN</td>\n",
       "      <td>NaN</td>\n",
       "      <td>NaN</td>\n",
       "      <td>NaN</td>\n",
       "      <td>mtr</td>\n",
       "    </tr>\n",
       "    <tr>\n",
       "      <th>3236624</th>\n",
       "      <td>Light &amp; Free SKYR A BOIRE</td>\n",
       "      <td>Milk and dairy products</td>\n",
       "      <td>Dairy desserts</td>\n",
       "      <td>unknown</td>\n",
       "      <td>24.0</td>\n",
       "      <td>28.0</td>\n",
       "      <td>13.0</td>\n",
       "      <td>70.0</td>\n",
       "      <td>49.0</td>\n",
       "      <td>2.0</td>\n",
       "      <td>3.0</td>\n",
       "      <td>1.2</td>\n",
       "      <td>NaN</td>\n",
       "    </tr>\n",
       "    <tr>\n",
       "      <th>3236625</th>\n",
       "      <td>Salatgurke</td>\n",
       "      <td>unknown</td>\n",
       "      <td>unknown</td>\n",
       "      <td>unknown</td>\n",
       "      <td>NaN</td>\n",
       "      <td>NaN</td>\n",
       "      <td>NaN</td>\n",
       "      <td>NaN</td>\n",
       "      <td>NaN</td>\n",
       "      <td>NaN</td>\n",
       "      <td>NaN</td>\n",
       "      <td>NaN</td>\n",
       "      <td>edeka</td>\n",
       "    </tr>\n",
       "  </tbody>\n",
       "</table>\n",
       "</div>"
      ],
      "text/plain": [
       "                      product_name            pnns_groups_1   pnns_groups_2  \\\n",
       "3236623       Test Product Product                  unknown         unknown   \n",
       "3236624  Light & Free SKYR A BOIRE  Milk and dairy products  Dairy desserts   \n",
       "3236625                 Salatgurke                  unknown         unknown   \n",
       "\n",
       "        ecoscore_grade  energy-kcal_100g  fat_100g  saturated-fat_100g  \\\n",
       "3236623        unknown               NaN       NaN                 NaN   \n",
       "3236624        unknown              24.0      28.0                13.0   \n",
       "3236625        unknown               NaN       NaN                 NaN   \n",
       "\n",
       "         carbohydrates_100g  sugars_100g  proteins_100g  salt_100g  \\\n",
       "3236623                 NaN          NaN            NaN        NaN   \n",
       "3236624                70.0         49.0            2.0        3.0   \n",
       "3236625                 NaN          NaN            NaN        NaN   \n",
       "\n",
       "         sodium_100g brands_tags  \n",
       "3236623          NaN         mtr  \n",
       "3236624          1.2         NaN  \n",
       "3236625          NaN       edeka  "
      ]
     },
     "execution_count": 32,
     "metadata": {},
     "output_type": "execute_result"
    }
   ],
   "source": [
    "# récupérer les colonnes intéressantes \n",
    "col_classi = [\n",
    "    'product_name',\n",
    "    'pnns_groups_1',\n",
    "    'pnns_groups_2',\n",
    "    'ecoscore_grade',\n",
    "    'energy-kcal_100g',\n",
    "    'fat_100g',\n",
    "    'saturated-fat_100g',\n",
    "    'carbohydrates_100g',\n",
    "    'sugars_100g',\n",
    "    'proteins_100g',\n",
    "    'salt_100g',\n",
    "    'sodium_100g',\n",
    "    'brands_tags',\n",
    "]\n",
    "cat_df = df[col_classi] \n",
    "cat_df.tail(3)"
   ]
  },
  {
   "cell_type": "code",
   "execution_count": 33,
   "metadata": {},
   "outputs": [
    {
     "data": {
      "text/html": [
       "<div>\n",
       "<style scoped>\n",
       "    .dataframe tbody tr th:only-of-type {\n",
       "        vertical-align: middle;\n",
       "    }\n",
       "\n",
       "    .dataframe tbody tr th {\n",
       "        vertical-align: top;\n",
       "    }\n",
       "\n",
       "    .dataframe thead th {\n",
       "        text-align: right;\n",
       "    }\n",
       "</style>\n",
       "<table border=\"1\" class=\"dataframe\">\n",
       "  <thead>\n",
       "    <tr style=\"text-align: right;\">\n",
       "      <th></th>\n",
       "      <th>name</th>\n",
       "      <th>pnns1</th>\n",
       "      <th>pnns2</th>\n",
       "      <th>ecoscore</th>\n",
       "      <th>kcal</th>\n",
       "      <th>fat</th>\n",
       "      <th>sat_fat</th>\n",
       "      <th>carbohyd</th>\n",
       "      <th>sugar</th>\n",
       "      <th>prot</th>\n",
       "      <th>salt</th>\n",
       "      <th>sodium</th>\n",
       "      <th>brand</th>\n",
       "    </tr>\n",
       "  </thead>\n",
       "  <tbody>\n",
       "    <tr>\n",
       "      <th>3236623</th>\n",
       "      <td>Test Product Product</td>\n",
       "      <td>unknown</td>\n",
       "      <td>unknown</td>\n",
       "      <td>unknown</td>\n",
       "      <td>NaN</td>\n",
       "      <td>NaN</td>\n",
       "      <td>NaN</td>\n",
       "      <td>NaN</td>\n",
       "      <td>NaN</td>\n",
       "      <td>NaN</td>\n",
       "      <td>NaN</td>\n",
       "      <td>NaN</td>\n",
       "      <td>mtr</td>\n",
       "    </tr>\n",
       "    <tr>\n",
       "      <th>3236624</th>\n",
       "      <td>Light &amp; Free SKYR A BOIRE</td>\n",
       "      <td>Milk and dairy products</td>\n",
       "      <td>Dairy desserts</td>\n",
       "      <td>unknown</td>\n",
       "      <td>24.0</td>\n",
       "      <td>28.0</td>\n",
       "      <td>13.0</td>\n",
       "      <td>70.0</td>\n",
       "      <td>49.0</td>\n",
       "      <td>2.0</td>\n",
       "      <td>3.0</td>\n",
       "      <td>1.2</td>\n",
       "      <td>NaN</td>\n",
       "    </tr>\n",
       "    <tr>\n",
       "      <th>3236625</th>\n",
       "      <td>Salatgurke</td>\n",
       "      <td>unknown</td>\n",
       "      <td>unknown</td>\n",
       "      <td>unknown</td>\n",
       "      <td>NaN</td>\n",
       "      <td>NaN</td>\n",
       "      <td>NaN</td>\n",
       "      <td>NaN</td>\n",
       "      <td>NaN</td>\n",
       "      <td>NaN</td>\n",
       "      <td>NaN</td>\n",
       "      <td>NaN</td>\n",
       "      <td>edeka</td>\n",
       "    </tr>\n",
       "  </tbody>\n",
       "</table>\n",
       "</div>"
      ],
      "text/plain": [
       "                              name                    pnns1           pnns2  \\\n",
       "3236623       Test Product Product                  unknown         unknown   \n",
       "3236624  Light & Free SKYR A BOIRE  Milk and dairy products  Dairy desserts   \n",
       "3236625                 Salatgurke                  unknown         unknown   \n",
       "\n",
       "        ecoscore  kcal   fat  sat_fat  carbohyd  sugar  prot  salt  sodium  \\\n",
       "3236623  unknown   NaN   NaN      NaN       NaN    NaN   NaN   NaN     NaN   \n",
       "3236624  unknown  24.0  28.0     13.0      70.0   49.0   2.0   3.0     1.2   \n",
       "3236625  unknown   NaN   NaN      NaN       NaN    NaN   NaN   NaN     NaN   \n",
       "\n",
       "         brand  \n",
       "3236623    mtr  \n",
       "3236624    NaN  \n",
       "3236625  edeka  "
      ]
     },
     "execution_count": 33,
     "metadata": {},
     "output_type": "execute_result"
    }
   ],
   "source": [
    "# renommer les colonnes \n",
    "rename_col = {\n",
    "    'product_name': 'name',\n",
    "    'pnns_groups_1': 'pnns1',\n",
    "    'ecoscore_grade': 'ecoscore',\n",
    "    'energy-kcal_100g': 'kcal', \n",
    "    'fat_100g': 'fat',\n",
    "    'saturated-fat_100g': 'sat_fat',\n",
    "    'carbohydrates_100g': 'carbohyd',\n",
    "    'sugars_100g': 'sugar',\n",
    "    'proteins_100g': 'prot',\n",
    "    'salt_100g': 'salt',\n",
    "    'sodium_100g': 'sodium',\n",
    "    'brands_tags': 'brand',\n",
    "    'pnns_groups_2': 'pnns2'\n",
    "}\n",
    "cat_df = cat_df.rename(columns=rename_col)\n",
    "cat_df.tail(3)"
   ]
  },
  {
   "cell_type": "code",
   "execution_count": 34,
   "metadata": {},
   "outputs": [
    {
     "data": {
      "text/html": [
       "<div>\n",
       "<style scoped>\n",
       "    .dataframe tbody tr th:only-of-type {\n",
       "        vertical-align: middle;\n",
       "    }\n",
       "\n",
       "    .dataframe tbody tr th {\n",
       "        vertical-align: top;\n",
       "    }\n",
       "\n",
       "    .dataframe thead th {\n",
       "        text-align: right;\n",
       "    }\n",
       "</style>\n",
       "<table border=\"1\" class=\"dataframe\">\n",
       "  <thead>\n",
       "    <tr style=\"text-align: right;\">\n",
       "      <th></th>\n",
       "      <th>name</th>\n",
       "      <th>pnns1</th>\n",
       "      <th>pnns2</th>\n",
       "      <th>ecoscore</th>\n",
       "      <th>kcal</th>\n",
       "      <th>fat</th>\n",
       "      <th>sat_fat</th>\n",
       "      <th>carbohyd</th>\n",
       "      <th>sugar</th>\n",
       "      <th>prot</th>\n",
       "      <th>salt</th>\n",
       "      <th>sodium</th>\n",
       "      <th>brand</th>\n",
       "    </tr>\n",
       "  </thead>\n",
       "  <tbody>\n",
       "    <tr>\n",
       "      <th>1163139</th>\n",
       "      <td>Mayonnaise aux œufs</td>\n",
       "      <td>Fat and sauces</td>\n",
       "      <td>Dressings and sauces</td>\n",
       "      <td>d</td>\n",
       "      <td>689.0</td>\n",
       "      <td>75.7</td>\n",
       "      <td>4.4</td>\n",
       "      <td>0.3</td>\n",
       "      <td>0.3</td>\n",
       "      <td>1.4</td>\n",
       "      <td>1.02</td>\n",
       "      <td>0.408</td>\n",
       "      <td>yummys</td>\n",
       "    </tr>\n",
       "    <tr>\n",
       "      <th>1163140</th>\n",
       "      <td>Passata di pomodoro con basilico</td>\n",
       "      <td>Fat and sauces</td>\n",
       "      <td>Dressings and sauces</td>\n",
       "      <td>b</td>\n",
       "      <td>29.0</td>\n",
       "      <td>0.2</td>\n",
       "      <td>0.0</td>\n",
       "      <td>4.8</td>\n",
       "      <td>4.8</td>\n",
       "      <td>1.5</td>\n",
       "      <td>0.30</td>\n",
       "      <td>0.120</td>\n",
       "      <td>italy-d</td>\n",
       "    </tr>\n",
       "    <tr>\n",
       "      <th>1163141</th>\n",
       "      <td>Tiramisu au café</td>\n",
       "      <td>Sugary snacks</td>\n",
       "      <td>Biscuits and cakes</td>\n",
       "      <td>e</td>\n",
       "      <td>265.0</td>\n",
       "      <td>18.0</td>\n",
       "      <td>11.0</td>\n",
       "      <td>21.0</td>\n",
       "      <td>18.0</td>\n",
       "      <td>3.9</td>\n",
       "      <td>0.05</td>\n",
       "      <td>0.020</td>\n",
       "      <td>les-desserts-du-cremier</td>\n",
       "    </tr>\n",
       "  </tbody>\n",
       "</table>\n",
       "</div>"
      ],
      "text/plain": [
       "                                     name           pnns1  \\\n",
       "1163139               Mayonnaise aux œufs  Fat and sauces   \n",
       "1163140  Passata di pomodoro con basilico  Fat and sauces   \n",
       "1163141                  Tiramisu au café   Sugary snacks   \n",
       "\n",
       "                        pnns2 ecoscore   kcal   fat  sat_fat  carbohyd  sugar  \\\n",
       "1163139  Dressings and sauces        d  689.0  75.7      4.4       0.3    0.3   \n",
       "1163140  Dressings and sauces        b   29.0   0.2      0.0       4.8    4.8   \n",
       "1163141    Biscuits and cakes        e  265.0  18.0     11.0      21.0   18.0   \n",
       "\n",
       "         prot  salt  sodium                    brand  \n",
       "1163139   1.4  1.02   0.408                   yummys  \n",
       "1163140   1.5  0.30   0.120                  italy-d  \n",
       "1163141   3.9  0.05   0.020  les-desserts-du-cremier  "
      ]
     },
     "execution_count": 34,
     "metadata": {},
     "output_type": "execute_result"
    }
   ],
   "source": [
    "# suppresion des lignes où pnns2 = unknow ou NaN\n",
    "cat_df = cat_df.dropna(subset = [\"pnns2\"])\n",
    "cat_df = cat_df[cat_df['pnns2'] != 'unknown']\n",
    "\n",
    "# mélange des lignes aléatoirement \n",
    "cat_df = cat_df.sample(frac=1).reset_index(drop=True)\n",
    "\n",
    "cat_df.tail(3)"
   ]
  },
  {
   "cell_type": "code",
   "execution_count": 37,
   "metadata": {},
   "outputs": [
    {
     "data": {
      "text/html": [
       "<div>\n",
       "<style scoped>\n",
       "    .dataframe tbody tr th:only-of-type {\n",
       "        vertical-align: middle;\n",
       "    }\n",
       "\n",
       "    .dataframe tbody tr th {\n",
       "        vertical-align: top;\n",
       "    }\n",
       "\n",
       "    .dataframe thead th {\n",
       "        text-align: right;\n",
       "    }\n",
       "</style>\n",
       "<table border=\"1\" class=\"dataframe\">\n",
       "  <thead>\n",
       "    <tr style=\"text-align: right;\">\n",
       "      <th></th>\n",
       "      <th>name</th>\n",
       "      <th>pnns1</th>\n",
       "      <th>pnns2</th>\n",
       "      <th>ecoscore</th>\n",
       "      <th>kcal</th>\n",
       "      <th>fat</th>\n",
       "      <th>sat_fat</th>\n",
       "      <th>carbohyd</th>\n",
       "      <th>sugar</th>\n",
       "      <th>prot</th>\n",
       "      <th>salt</th>\n",
       "      <th>sodium</th>\n",
       "      <th>brand</th>\n",
       "    </tr>\n",
       "  </thead>\n",
       "  <tbody>\n",
       "    <tr>\n",
       "      <th>1163139</th>\n",
       "      <td>Mayonnaise aux œufs</td>\n",
       "      <td>Fat and sauces</td>\n",
       "      <td>Dressings and sauces</td>\n",
       "      <td>d</td>\n",
       "      <td>1.196923e-14</td>\n",
       "      <td>1.750596e-11</td>\n",
       "      <td>1.980000e-09</td>\n",
       "      <td>1.235968e-19</td>\n",
       "      <td>2.258216e-19</td>\n",
       "      <td>1.787727e-25</td>\n",
       "      <td>1.509842e-45</td>\n",
       "      <td>1.509842e-45</td>\n",
       "      <td>yummys</td>\n",
       "    </tr>\n",
       "    <tr>\n",
       "      <th>1163140</th>\n",
       "      <td>Passata di pomodoro con basilico</td>\n",
       "      <td>Fat and sauces</td>\n",
       "      <td>Dressings and sauces</td>\n",
       "      <td>b</td>\n",
       "      <td>5.037847e-16</td>\n",
       "      <td>4.625088e-14</td>\n",
       "      <td>0.000000e+00</td>\n",
       "      <td>1.977549e-18</td>\n",
       "      <td>1.007512e-18</td>\n",
       "      <td>1.806101e-25</td>\n",
       "      <td>4.440711e-46</td>\n",
       "      <td>4.440711e-46</td>\n",
       "      <td>italy-d</td>\n",
       "    </tr>\n",
       "    <tr>\n",
       "      <th>1163141</th>\n",
       "      <td>Tiramisu au café</td>\n",
       "      <td>Sugary snacks</td>\n",
       "      <td>Biscuits and cakes</td>\n",
       "      <td>e</td>\n",
       "      <td>4.603550e-15</td>\n",
       "      <td>4.162579e-12</td>\n",
       "      <td>4.950000e-09</td>\n",
       "      <td>8.651778e-18</td>\n",
       "      <td>3.300470e-18</td>\n",
       "      <td>2.247061e-25</td>\n",
       "      <td>7.401184e-47</td>\n",
       "      <td>7.401184e-47</td>\n",
       "      <td>les-desserts-du-cremier</td>\n",
       "    </tr>\n",
       "  </tbody>\n",
       "</table>\n",
       "</div>"
      ],
      "text/plain": [
       "                                     name           pnns1  \\\n",
       "1163139               Mayonnaise aux œufs  Fat and sauces   \n",
       "1163140  Passata di pomodoro con basilico  Fat and sauces   \n",
       "1163141                  Tiramisu au café   Sugary snacks   \n",
       "\n",
       "                        pnns2 ecoscore          kcal           fat  \\\n",
       "1163139  Dressings and sauces        d  1.196923e-14  1.750596e-11   \n",
       "1163140  Dressings and sauces        b  5.037847e-16  4.625088e-14   \n",
       "1163141    Biscuits and cakes        e  4.603550e-15  4.162579e-12   \n",
       "\n",
       "              sat_fat      carbohyd         sugar          prot          salt  \\\n",
       "1163139  1.980000e-09  1.235968e-19  2.258216e-19  1.787727e-25  1.509842e-45   \n",
       "1163140  0.000000e+00  1.977549e-18  1.007512e-18  1.806101e-25  4.440711e-46   \n",
       "1163141  4.950000e-09  8.651778e-18  3.300470e-18  2.247061e-25  7.401184e-47   \n",
       "\n",
       "               sodium                    brand  \n",
       "1163139  1.509842e-45                   yummys  \n",
       "1163140  4.440711e-46                  italy-d  \n",
       "1163141  7.401184e-47  les-desserts-du-cremier  "
      ]
     },
     "execution_count": 37,
     "metadata": {},
     "output_type": "execute_result"
    }
   ],
   "source": [
    "# normalisation des données numériques \n",
    "col_to_norm = ['kcal', 'fat', 'sat_fat', 'carbohyd', 'sugar', 'prot', 'salt', 'sodium']\n",
    "scaler = MinMaxScaler()\n",
    "cat_df[col_to_norm] = scaler.fit_transform(cat_df[col_to_norm])\n",
    "cat_df.tail(3)"
   ]
  },
  {
   "cell_type": "markdown",
   "metadata": {},
   "source": [
    "# Génération df predict catégories"
   ]
  },
  {
   "cell_type": "code",
   "execution_count": 38,
   "metadata": {},
   "outputs": [],
   "source": [
    "# split des df de train, test et valid\n",
    "cat_train_df, cat_test_df = train_test_split(cat_df, test_size=0.1, random_state=42)\n",
    "cat_train_df, cat_valid_df = train_test_split(cat_train_df, test_size=0.05, random_state=42) \n",
    "\n",
    "# sauvegarde au format csv \n",
    "cat_train_df.to_csv(project_path + f'\\\\data\\\\cat_train_df_{file_nbr}.csv', index=False, sep=\";\")\n",
    "cat_test_df.to_csv(project_path + f'\\\\data\\\\cat_test_df_{file_nbr}.csv', index=False, sep=\";\")\n",
    "cat_valid_df.to_csv(project_path + f'\\\\data\\\\cat_valid_df_{file_nbr}.csv', index=False, sep=\";\")"
   ]
  },
  {
   "cell_type": "code",
   "execution_count": null,
   "metadata": {},
   "outputs": [],
   "source": []
  }
 ],
 "metadata": {
  "kernelspec": {
   "display_name": "green_ia_dl",
   "language": "python",
   "name": "python3"
  },
  "language_info": {
   "codemirror_mode": {
    "name": "ipython",
    "version": 3
   },
   "file_extension": ".py",
   "mimetype": "text/x-python",
   "name": "python",
   "nbconvert_exporter": "python",
   "pygments_lexer": "ipython3",
   "version": "3.10.14"
  }
 },
 "nbformat": 4,
 "nbformat_minor": 2
}
