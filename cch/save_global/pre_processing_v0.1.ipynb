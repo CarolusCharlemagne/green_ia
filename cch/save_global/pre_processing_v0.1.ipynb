{
 "cells": [
  {
   "cell_type": "code",
   "execution_count": 39,
   "metadata": {},
   "outputs": [
    {
     "name": "stdout",
     "output_type": "stream",
     "text": [
      "config augmentation allocation mémoire gpu activée\n"
     ]
    }
   ],
   "source": [
    "import tensorflow as tf\n",
    "\n",
    "def setup_gpu():\n",
    "    physical_devices = tf.config.list_physical_devices('GPU')\n",
    "    if physical_devices:\n",
    "        try:\n",
    "            tf.config.experimental.set_memory_growth(physical_devices[0], True)\n",
    "            print(\"config augmentation allocation mémoire gpu activée\")\n",
    "        except RuntimeError as e:\n",
    "            print(e)\n",
    "\n",
    "setup_gpu()"
   ]
  },
  {
   "cell_type": "code",
   "execution_count": 40,
   "metadata": {},
   "outputs": [],
   "source": [
    "import keras\n",
    "import numpy as np\n",
    "import math\n",
    "import matplotlib.pyplot as plt\n",
    "import pandas as pd\n",
    "import seaborn as sea\n",
    "import sklearn\n",
    "import scipy as sc\n",
    "import nltk as nltk\n",
    "import statsmodels as statsmodels\n",
    "import os\n",
    "\n",
    "from sklearn.model_selection import train_test_split\n",
    "from sklearn.preprocessing import MinMaxScaler"
   ]
  },
  {
   "cell_type": "code",
   "execution_count": 41,
   "metadata": {},
   "outputs": [
    {
     "name": "stdout",
     "output_type": "stream",
     "text": [
      "Version de TensorFlow : 2.10.1\n"
     ]
    }
   ],
   "source": [
    "print(\"Version de TensorFlow :\", tf.__version__)"
   ]
  },
  {
   "cell_type": "code",
   "execution_count": 42,
   "metadata": {},
   "outputs": [
    {
     "name": "stdout",
     "output_type": "stream",
     "text": [
      "Version de Keras : 2.10.0\n"
     ]
    }
   ],
   "source": [
    "print(\"Version de Keras :\", keras.__version__)"
   ]
  },
  {
   "cell_type": "markdown",
   "metadata": {},
   "source": [
    "## Panneau de configuration"
   ]
  },
  {
   "cell_type": "code",
   "execution_count": 43,
   "metadata": {},
   "outputs": [],
   "source": [
    "project_path = \"C:\\\\Users\\\\charl\\\\Documents\\\\workspace\\\\green_ia\\\\cch\\\\\"\n",
    "file_nbr = '03' # numéro d'identification des csv à générer \n",
    "openfoodfact_csv_version = '01'"
   ]
  },
  {
   "cell_type": "code",
   "execution_count": 44,
   "metadata": {},
   "outputs": [
    {
     "name": "stderr",
     "output_type": "stream",
     "text": [
      "C:\\Users\\charl\\AppData\\Local\\Temp\\ipykernel_18568\\1547600537.py:3: DtypeWarning: Columns (0,11,12,14,15,16,17,23,24,25,26,27,31,32,33,34,35,36,37,44,46,47,48,50,52,56,67,72) have mixed types. Specify dtype option on import or set low_memory=False.\n",
      "  df = pd.read_csv(openfoodfacts_csv)\n"
     ]
    }
   ],
   "source": [
    "# import du csv de données openfoodfacts\n",
    "openfoodfacts_csv = project_path + f\"data\\\\openfoodfacts_{openfoodfact_csv_version}.csv\"\n",
    "df = pd.read_csv(openfoodfacts_csv)"
   ]
  },
  {
   "cell_type": "markdown",
   "metadata": {},
   "source": [
    "# Analyse des données "
   ]
  },
  {
   "cell_type": "code",
   "execution_count": 45,
   "metadata": {},
   "outputs": [
    {
     "name": "stdout",
     "output_type": "stream",
     "text": [
      "nbr col: 206, liste: ['code', 'url', 'creator', 'created_t', 'created_datetime', 'last_modified_t', 'last_modified_datetime', 'last_modified_by', 'last_updated_t', 'last_updated_datetime', 'product_name', 'abbreviated_product_name', 'generic_name', 'quantity', 'packaging', 'packaging_tags', 'packaging_en', 'packaging_text', 'brands', 'brands_tags', 'categories', 'categories_tags', 'categories_en', 'origins', 'origins_tags', 'origins_en', 'manufacturing_places', 'manufacturing_places_tags', 'labels', 'labels_tags', 'labels_en', 'emb_codes', 'emb_codes_tags', 'first_packaging_code_geo', 'cities', 'cities_tags', 'purchase_places', 'stores', 'countries', 'countries_tags', 'countries_en', 'ingredients_text', 'ingredients_tags', 'ingredients_analysis_tags', 'allergens', 'allergens_en', 'traces', 'traces_tags', 'traces_en', 'serving_size', 'serving_quantity', 'no_nutrition_data', 'additives_n', 'additives', 'additives_tags', 'additives_en', 'nutriscore_score', 'nutriscore_grade', 'nova_group', 'pnns_groups_1', 'pnns_groups_2', 'food_groups', 'food_groups_tags', 'food_groups_en', 'states', 'states_tags', 'states_en', 'brand_owner', 'ecoscore_score', 'ecoscore_grade', 'nutrient_levels_tags', 'product_quantity', 'owner', 'data_quality_errors_tags', 'unique_scans_n', 'popularity_tags', 'completeness', 'last_image_t', 'last_image_datetime', 'main_category', 'main_category_en', 'image_url', 'image_small_url', 'image_ingredients_url', 'image_ingredients_small_url', 'image_nutrition_url', 'image_nutrition_small_url', 'energy-kj_100g', 'energy-kcal_100g', 'energy_100g', 'energy-from-fat_100g', 'fat_100g', 'saturated-fat_100g', 'butyric-acid_100g', 'caproic-acid_100g', 'caprylic-acid_100g', 'capric-acid_100g', 'lauric-acid_100g', 'myristic-acid_100g', 'palmitic-acid_100g', 'stearic-acid_100g', 'arachidic-acid_100g', 'behenic-acid_100g', 'lignoceric-acid_100g', 'cerotic-acid_100g', 'montanic-acid_100g', 'melissic-acid_100g', 'unsaturated-fat_100g', 'monounsaturated-fat_100g', 'omega-9-fat_100g', 'polyunsaturated-fat_100g', 'omega-3-fat_100g', 'omega-6-fat_100g', 'alpha-linolenic-acid_100g', 'eicosapentaenoic-acid_100g', 'docosahexaenoic-acid_100g', 'linoleic-acid_100g', 'arachidonic-acid_100g', 'gamma-linolenic-acid_100g', 'dihomo-gamma-linolenic-acid_100g', 'oleic-acid_100g', 'elaidic-acid_100g', 'gondoic-acid_100g', 'mead-acid_100g', 'erucic-acid_100g', 'nervonic-acid_100g', 'trans-fat_100g', 'cholesterol_100g', 'carbohydrates_100g', 'sugars_100g', 'added-sugars_100g', 'sucrose_100g', 'glucose_100g', 'fructose_100g', 'lactose_100g', 'maltose_100g', 'maltodextrins_100g', 'starch_100g', 'polyols_100g', 'erythritol_100g', 'fiber_100g', 'soluble-fiber_100g', 'insoluble-fiber_100g', 'proteins_100g', 'casein_100g', 'serum-proteins_100g', 'nucleotides_100g', 'salt_100g', 'added-salt_100g', 'sodium_100g', 'alcohol_100g', 'vitamin-a_100g', 'beta-carotene_100g', 'vitamin-d_100g', 'vitamin-e_100g', 'vitamin-k_100g', 'vitamin-c_100g', 'vitamin-b1_100g', 'vitamin-b2_100g', 'vitamin-pp_100g', 'vitamin-b6_100g', 'vitamin-b9_100g', 'folates_100g', 'vitamin-b12_100g', 'biotin_100g', 'pantothenic-acid_100g', 'silica_100g', 'bicarbonate_100g', 'potassium_100g', 'chloride_100g', 'calcium_100g', 'phosphorus_100g', 'iron_100g', 'magnesium_100g', 'zinc_100g', 'copper_100g', 'manganese_100g', 'fluoride_100g', 'selenium_100g', 'chromium_100g', 'molybdenum_100g', 'iodine_100g', 'caffeine_100g', 'taurine_100g', 'ph_100g', 'fruits-vegetables-nuts_100g', 'fruits-vegetables-nuts-dried_100g', 'fruits-vegetables-nuts-estimate_100g', 'fruits-vegetables-nuts-estimate-from-ingredients_100g', 'collagen-meat-protein-ratio_100g', 'cocoa_100g', 'chlorophyl_100g', 'carbon-footprint_100g', 'carbon-footprint-from-meat-or-fish_100g', 'nutrition-score-fr_100g', 'nutrition-score-uk_100g', 'glycemic-index_100g', 'water-hardness_100g', 'choline_100g', 'phylloquinone_100g', 'beta-glucan_100g', 'inositol_100g', 'carnitine_100g', 'sulphate_100g', 'nitrate_100g', 'acidity_100g']\n"
     ]
    }
   ],
   "source": [
    "# affiche le nom de toutes les colonnes du df \n",
    "column_list = list(df.columns)\n",
    "print(f\"nbr col: {len(column_list)}, liste: {column_list}\")"
   ]
  },
  {
   "cell_type": "code",
   "execution_count": 46,
   "metadata": {},
   "outputs": [
    {
     "name": "stdout",
     "output_type": "stream",
     "text": [
      "range (0, 10]:\n",
      "['creator', 'last_modified_by', 'last_updated_t', 'last_updated_datetime', 'product_name', 'countries', 'countries_tags', 'countries_en', 'nutriscore_grade', 'pnns_groups_1', 'pnns_groups_2', 'states', 'states_tags', 'states_en', 'ecoscore_grade', 'completeness']\n",
      "\n",
      "range (10, 20]:\n",
      "['last_image_t', 'last_image_datetime', 'image_url', 'image_small_url']\n",
      "\n",
      "range (20, 30]:\n",
      "['energy-kcal_100g', 'energy_100g', 'fat_100g', 'saturated-fat_100g', 'carbohydrates_100g', 'sugars_100g', 'proteins_100g']\n",
      "\n",
      "range (30, 40]:\n",
      "['salt_100g', 'sodium_100g']\n",
      "\n",
      "range (40, 50]:\n",
      "['brands', 'brands_tags', 'image_nutrition_url', 'image_nutrition_small_url']\n",
      "\n",
      "range (50, 60]:\n",
      "['categories', 'categories_tags', 'categories_en', 'main_category', 'main_category_en']\n",
      "\n",
      "range (60, 70]:\n",
      "['quantity', 'ingredients_analysis_tags', 'nutriscore_score', 'food_groups', 'food_groups_tags', 'food_groups_en', 'nutrient_levels_tags', 'product_quantity', 'unique_scans_n', 'popularity_tags', 'fiber_100g', 'nutrition-score-fr_100g']\n",
      "\n",
      "range (70, 80]:\n",
      "['labels', 'labels_tags', 'labels_en', 'ingredients_text', 'ingredients_tags', 'serving_size', 'serving_quantity', 'additives_n', 'nova_group', 'ecoscore_score', 'image_ingredients_url', 'image_ingredients_small_url', 'fruits-vegetables-nuts-estimate-from-ingredients_100g']\n",
      "\n",
      "range (80, 90]:\n",
      "['packaging', 'packaging_tags', 'packaging_en', 'stores', 'additives_tags', 'additives_en']\n",
      "\n",
      "range (90, 100]:\n",
      "['abbreviated_product_name', 'generic_name', 'packaging_text', 'origins', 'origins_tags', 'origins_en', 'manufacturing_places', 'manufacturing_places_tags', 'emb_codes', 'emb_codes_tags', 'first_packaging_code_geo', 'cities', 'cities_tags', 'purchase_places', 'allergens', 'allergens_en', 'traces', 'traces_tags', 'traces_en', 'no_nutrition_data', 'additives', 'brand_owner', 'owner', 'data_quality_errors_tags', 'energy-kj_100g', 'energy-from-fat_100g', 'butyric-acid_100g', 'caproic-acid_100g', 'caprylic-acid_100g', 'capric-acid_100g', 'lauric-acid_100g', 'myristic-acid_100g', 'palmitic-acid_100g', 'stearic-acid_100g', 'arachidic-acid_100g', 'behenic-acid_100g', 'lignoceric-acid_100g', 'cerotic-acid_100g', 'montanic-acid_100g', 'melissic-acid_100g', 'unsaturated-fat_100g', 'monounsaturated-fat_100g', 'omega-9-fat_100g', 'polyunsaturated-fat_100g', 'omega-3-fat_100g', 'omega-6-fat_100g', 'alpha-linolenic-acid_100g', 'eicosapentaenoic-acid_100g', 'docosahexaenoic-acid_100g', 'linoleic-acid_100g', 'arachidonic-acid_100g', 'gamma-linolenic-acid_100g', 'dihomo-gamma-linolenic-acid_100g', 'oleic-acid_100g', 'elaidic-acid_100g', 'gondoic-acid_100g', 'mead-acid_100g', 'erucic-acid_100g', 'nervonic-acid_100g', 'trans-fat_100g', 'cholesterol_100g', 'added-sugars_100g', 'sucrose_100g', 'glucose_100g', 'fructose_100g', 'lactose_100g', 'maltose_100g', 'maltodextrins_100g', 'starch_100g', 'polyols_100g', 'erythritol_100g', 'soluble-fiber_100g', 'insoluble-fiber_100g', 'casein_100g', 'serum-proteins_100g', 'nucleotides_100g', 'added-salt_100g', 'alcohol_100g', 'vitamin-a_100g', 'beta-carotene_100g', 'vitamin-d_100g', 'vitamin-e_100g', 'vitamin-k_100g', 'vitamin-c_100g', 'vitamin-b1_100g', 'vitamin-b2_100g', 'vitamin-pp_100g', 'vitamin-b6_100g', 'vitamin-b9_100g', 'folates_100g', 'vitamin-b12_100g', 'biotin_100g', 'pantothenic-acid_100g', 'silica_100g', 'bicarbonate_100g', 'potassium_100g', 'chloride_100g', 'calcium_100g', 'phosphorus_100g', 'iron_100g', 'magnesium_100g', 'zinc_100g', 'copper_100g', 'manganese_100g', 'fluoride_100g', 'selenium_100g', 'chromium_100g', 'molybdenum_100g', 'iodine_100g', 'caffeine_100g', 'taurine_100g', 'ph_100g', 'fruits-vegetables-nuts_100g', 'fruits-vegetables-nuts-dried_100g', 'fruits-vegetables-nuts-estimate_100g', 'collagen-meat-protein-ratio_100g', 'cocoa_100g', 'chlorophyl_100g', 'carbon-footprint_100g', 'carbon-footprint-from-meat-or-fish_100g', 'nutrition-score-uk_100g', 'glycemic-index_100g', 'water-hardness_100g', 'choline_100g', 'phylloquinone_100g', 'beta-glucan_100g', 'inositol_100g', 'carnitine_100g', 'sulphate_100g', 'nitrate_100g', 'acidity_100g']\n",
      "\n"
     ]
    },
    {
     "name": "stderr",
     "output_type": "stream",
     "text": [
      "C:\\Users\\charl\\AppData\\Local\\Temp\\ipykernel_18568\\3943661832.py:8: FutureWarning: The default of observed=False is deprecated and will be changed to True in a future version of pandas. Pass observed=False to retain current behavior or observed=True to adopt the future default and silence this warning.\n",
      "  grouped = nan_df.groupby(pd.cut(nan_df['percentage_nan'], bins=[tranche[0] for tranche in nan_percent_range + [(100,)]]))\n"
     ]
    }
   ],
   "source": [
    "# afficher % de nan / colonne:\n",
    "total_rows = df.shape[0]\n",
    "nan_counts = df.isna().sum()\n",
    "nan_percentage = (nan_counts / total_rows) * 100\n",
    "nan_df = pd.DataFrame({'column_name': nan_percentage.index, 'percentage_nan': nan_percentage.values})\n",
    "\n",
    "nan_percent_range = [(0, 10), (10, 20), (20, 30), (30, 40), (40, 50), (50, 60), (60, 70), (70, 80), (80, 90), (90, 100)]\n",
    "grouped = nan_df.groupby(pd.cut(nan_df['percentage_nan'], bins=[tranche[0] for tranche in nan_percent_range + [(100,)]]))\n",
    "\n",
    "for tranche, group in grouped:\n",
    "    print(f\"range {tranche}:\")\n",
    "    print(group['column_name'].tolist())\n",
    "    print()"
   ]
  },
  {
   "cell_type": "markdown",
   "metadata": {},
   "source": [
    "# Traitement des données "
   ]
  },
  {
   "cell_type": "code",
   "execution_count": 47,
   "metadata": {},
   "outputs": [
    {
     "data": {
      "text/html": [
       "<div>\n",
       "<style scoped>\n",
       "    .dataframe tbody tr th:only-of-type {\n",
       "        vertical-align: middle;\n",
       "    }\n",
       "\n",
       "    .dataframe tbody tr th {\n",
       "        vertical-align: top;\n",
       "    }\n",
       "\n",
       "    .dataframe thead th {\n",
       "        text-align: right;\n",
       "    }\n",
       "</style>\n",
       "<table border=\"1\" class=\"dataframe\">\n",
       "  <thead>\n",
       "    <tr style=\"text-align: right;\">\n",
       "      <th></th>\n",
       "      <th>pnns_groups_1</th>\n",
       "      <th>pnns_groups_2</th>\n",
       "      <th>energy-kcal_100g</th>\n",
       "      <th>fat_100g</th>\n",
       "      <th>saturated-fat_100g</th>\n",
       "      <th>carbohydrates_100g</th>\n",
       "      <th>sugars_100g</th>\n",
       "      <th>proteins_100g</th>\n",
       "      <th>salt_100g</th>\n",
       "      <th>sodium_100g</th>\n",
       "      <th>brands_tags</th>\n",
       "    </tr>\n",
       "  </thead>\n",
       "  <tbody>\n",
       "    <tr>\n",
       "      <th>3236623</th>\n",
       "      <td>unknown</td>\n",
       "      <td>unknown</td>\n",
       "      <td>NaN</td>\n",
       "      <td>NaN</td>\n",
       "      <td>NaN</td>\n",
       "      <td>NaN</td>\n",
       "      <td>NaN</td>\n",
       "      <td>NaN</td>\n",
       "      <td>NaN</td>\n",
       "      <td>NaN</td>\n",
       "      <td>mtr</td>\n",
       "    </tr>\n",
       "    <tr>\n",
       "      <th>3236624</th>\n",
       "      <td>Milk and dairy products</td>\n",
       "      <td>Dairy desserts</td>\n",
       "      <td>24.0</td>\n",
       "      <td>28.0</td>\n",
       "      <td>13.0</td>\n",
       "      <td>70.0</td>\n",
       "      <td>49.0</td>\n",
       "      <td>2.0</td>\n",
       "      <td>3.0</td>\n",
       "      <td>1.2</td>\n",
       "      <td>NaN</td>\n",
       "    </tr>\n",
       "    <tr>\n",
       "      <th>3236625</th>\n",
       "      <td>unknown</td>\n",
       "      <td>unknown</td>\n",
       "      <td>NaN</td>\n",
       "      <td>NaN</td>\n",
       "      <td>NaN</td>\n",
       "      <td>NaN</td>\n",
       "      <td>NaN</td>\n",
       "      <td>NaN</td>\n",
       "      <td>NaN</td>\n",
       "      <td>NaN</td>\n",
       "      <td>edeka</td>\n",
       "    </tr>\n",
       "  </tbody>\n",
       "</table>\n",
       "</div>"
      ],
      "text/plain": [
       "                   pnns_groups_1   pnns_groups_2  energy-kcal_100g  fat_100g  \\\n",
       "3236623                  unknown         unknown               NaN       NaN   \n",
       "3236624  Milk and dairy products  Dairy desserts              24.0      28.0   \n",
       "3236625                  unknown         unknown               NaN       NaN   \n",
       "\n",
       "         saturated-fat_100g  carbohydrates_100g  sugars_100g  proteins_100g  \\\n",
       "3236623                 NaN                 NaN          NaN            NaN   \n",
       "3236624                13.0                70.0         49.0            2.0   \n",
       "3236625                 NaN                 NaN          NaN            NaN   \n",
       "\n",
       "         salt_100g  sodium_100g brands_tags  \n",
       "3236623        NaN          NaN         mtr  \n",
       "3236624        3.0          1.2         NaN  \n",
       "3236625        NaN          NaN       edeka  "
      ]
     },
     "execution_count": 47,
     "metadata": {},
     "output_type": "execute_result"
    }
   ],
   "source": [
    "# récupérer les colonnes intéressantes \n",
    "col_classi = [\n",
    "    'pnns_groups_1',\n",
    "    'pnns_groups_2',\n",
    "    'energy-kcal_100g',\n",
    "    'fat_100g',\n",
    "    'saturated-fat_100g',\n",
    "    'carbohydrates_100g',\n",
    "    'sugars_100g',\n",
    "    'proteins_100g',\n",
    "    'salt_100g',\n",
    "    'sodium_100g',\n",
    "    'brands_tags',\n",
    "]\n",
    "cat_df = df[col_classi] \n",
    "cat_df.tail(3)"
   ]
  },
  {
   "cell_type": "code",
   "execution_count": 48,
   "metadata": {},
   "outputs": [
    {
     "data": {
      "text/html": [
       "<div>\n",
       "<style scoped>\n",
       "    .dataframe tbody tr th:only-of-type {\n",
       "        vertical-align: middle;\n",
       "    }\n",
       "\n",
       "    .dataframe tbody tr th {\n",
       "        vertical-align: top;\n",
       "    }\n",
       "\n",
       "    .dataframe thead th {\n",
       "        text-align: right;\n",
       "    }\n",
       "</style>\n",
       "<table border=\"1\" class=\"dataframe\">\n",
       "  <thead>\n",
       "    <tr style=\"text-align: right;\">\n",
       "      <th></th>\n",
       "      <th>pnns1</th>\n",
       "      <th>pnns2</th>\n",
       "      <th>kcal</th>\n",
       "      <th>fat</th>\n",
       "      <th>sat_fat</th>\n",
       "      <th>carbohyd</th>\n",
       "      <th>sugar</th>\n",
       "      <th>prot</th>\n",
       "      <th>salt</th>\n",
       "      <th>sodium</th>\n",
       "      <th>brand</th>\n",
       "    </tr>\n",
       "  </thead>\n",
       "  <tbody>\n",
       "    <tr>\n",
       "      <th>3236623</th>\n",
       "      <td>unknown</td>\n",
       "      <td>unknown</td>\n",
       "      <td>NaN</td>\n",
       "      <td>NaN</td>\n",
       "      <td>NaN</td>\n",
       "      <td>NaN</td>\n",
       "      <td>NaN</td>\n",
       "      <td>NaN</td>\n",
       "      <td>NaN</td>\n",
       "      <td>NaN</td>\n",
       "      <td>mtr</td>\n",
       "    </tr>\n",
       "    <tr>\n",
       "      <th>3236624</th>\n",
       "      <td>Milk and dairy products</td>\n",
       "      <td>Dairy desserts</td>\n",
       "      <td>24.0</td>\n",
       "      <td>28.0</td>\n",
       "      <td>13.0</td>\n",
       "      <td>70.0</td>\n",
       "      <td>49.0</td>\n",
       "      <td>2.0</td>\n",
       "      <td>3.0</td>\n",
       "      <td>1.2</td>\n",
       "      <td>NaN</td>\n",
       "    </tr>\n",
       "    <tr>\n",
       "      <th>3236625</th>\n",
       "      <td>unknown</td>\n",
       "      <td>unknown</td>\n",
       "      <td>NaN</td>\n",
       "      <td>NaN</td>\n",
       "      <td>NaN</td>\n",
       "      <td>NaN</td>\n",
       "      <td>NaN</td>\n",
       "      <td>NaN</td>\n",
       "      <td>NaN</td>\n",
       "      <td>NaN</td>\n",
       "      <td>edeka</td>\n",
       "    </tr>\n",
       "  </tbody>\n",
       "</table>\n",
       "</div>"
      ],
      "text/plain": [
       "                           pnns1           pnns2  kcal   fat  sat_fat  \\\n",
       "3236623                  unknown         unknown   NaN   NaN      NaN   \n",
       "3236624  Milk and dairy products  Dairy desserts  24.0  28.0     13.0   \n",
       "3236625                  unknown         unknown   NaN   NaN      NaN   \n",
       "\n",
       "         carbohyd  sugar  prot  salt  sodium  brand  \n",
       "3236623       NaN    NaN   NaN   NaN     NaN    mtr  \n",
       "3236624      70.0   49.0   2.0   3.0     1.2    NaN  \n",
       "3236625       NaN    NaN   NaN   NaN     NaN  edeka  "
      ]
     },
     "execution_count": 48,
     "metadata": {},
     "output_type": "execute_result"
    }
   ],
   "source": [
    "# renommer les colonnes \n",
    "rename_col = {\n",
    "    'pnns_groups_1': 'pnns1',\n",
    "    'energy-kcal_100g': 'kcal', \n",
    "    'fat_100g': 'fat',\n",
    "    'saturated-fat_100g': 'sat_fat',\n",
    "    'carbohydrates_100g': 'carbohyd',\n",
    "    'sugars_100g': 'sugar',\n",
    "    'proteins_100g': 'prot',\n",
    "    'salt_100g': 'salt',\n",
    "    'sodium_100g': 'sodium',\n",
    "    'brands_tags': 'brand',\n",
    "    'pnns_groups_2': 'pnns2'\n",
    "}\n",
    "cat_df = cat_df.rename(columns=rename_col)\n",
    "cat_df.tail(3)"
   ]
  },
  {
   "cell_type": "code",
   "execution_count": 49,
   "metadata": {},
   "outputs": [
    {
     "data": {
      "text/html": [
       "<div>\n",
       "<style scoped>\n",
       "    .dataframe tbody tr th:only-of-type {\n",
       "        vertical-align: middle;\n",
       "    }\n",
       "\n",
       "    .dataframe tbody tr th {\n",
       "        vertical-align: top;\n",
       "    }\n",
       "\n",
       "    .dataframe thead th {\n",
       "        text-align: right;\n",
       "    }\n",
       "</style>\n",
       "<table border=\"1\" class=\"dataframe\">\n",
       "  <thead>\n",
       "    <tr style=\"text-align: right;\">\n",
       "      <th></th>\n",
       "      <th>pnns1</th>\n",
       "      <th>pnns2</th>\n",
       "      <th>kcal</th>\n",
       "      <th>fat</th>\n",
       "      <th>sat_fat</th>\n",
       "      <th>carbohyd</th>\n",
       "      <th>sugar</th>\n",
       "      <th>prot</th>\n",
       "      <th>salt</th>\n",
       "      <th>sodium</th>\n",
       "      <th>brand</th>\n",
       "    </tr>\n",
       "  </thead>\n",
       "  <tbody>\n",
       "    <tr>\n",
       "      <th>1163139</th>\n",
       "      <td>Sugary snacks</td>\n",
       "      <td>Sweets</td>\n",
       "      <td>591.0</td>\n",
       "      <td>42.0</td>\n",
       "      <td>6.6</td>\n",
       "      <td>43.0</td>\n",
       "      <td>38.0</td>\n",
       "      <td>8.2</td>\n",
       "      <td>0.0</td>\n",
       "      <td>0.00</td>\n",
       "      <td>dm-bio</td>\n",
       "    </tr>\n",
       "    <tr>\n",
       "      <th>1163140</th>\n",
       "      <td>Cereals and potatoes</td>\n",
       "      <td>Cereals</td>\n",
       "      <td>828.0</td>\n",
       "      <td>92.0</td>\n",
       "      <td>37.5</td>\n",
       "      <td>0.0</td>\n",
       "      <td>0.0</td>\n",
       "      <td>0.0</td>\n",
       "      <td>0.0</td>\n",
       "      <td>0.00</td>\n",
       "      <td>NaN</td>\n",
       "    </tr>\n",
       "    <tr>\n",
       "      <th>1163141</th>\n",
       "      <td>Cereals and potatoes</td>\n",
       "      <td>Bread</td>\n",
       "      <td>404.0</td>\n",
       "      <td>6.3</td>\n",
       "      <td>0.8</td>\n",
       "      <td>72.0</td>\n",
       "      <td>6.8</td>\n",
       "      <td>12.0</td>\n",
       "      <td>1.1</td>\n",
       "      <td>0.44</td>\n",
       "      <td>eliges</td>\n",
       "    </tr>\n",
       "  </tbody>\n",
       "</table>\n",
       "</div>"
      ],
      "text/plain": [
       "                        pnns1    pnns2   kcal   fat  sat_fat  carbohyd  sugar  \\\n",
       "1163139         Sugary snacks   Sweets  591.0  42.0      6.6      43.0   38.0   \n",
       "1163140  Cereals and potatoes  Cereals  828.0  92.0     37.5       0.0    0.0   \n",
       "1163141  Cereals and potatoes    Bread  404.0   6.3      0.8      72.0    6.8   \n",
       "\n",
       "         prot  salt  sodium   brand  \n",
       "1163139   8.2   0.0    0.00  dm-bio  \n",
       "1163140   0.0   0.0    0.00     NaN  \n",
       "1163141  12.0   1.1    0.44  eliges  "
      ]
     },
     "execution_count": 49,
     "metadata": {},
     "output_type": "execute_result"
    }
   ],
   "source": [
    "# suppresion des lignes où pnns2 = unknow ou NaN\n",
    "cat_df = cat_df.dropna(subset = [\"pnns2\"])\n",
    "cat_df = cat_df[cat_df['pnns2'] != 'unknown']\n",
    "\n",
    "# mélange des lignes aléatoirement \n",
    "cat_df = cat_df.sample(frac=1).reset_index(drop=True)\n",
    "\n",
    "cat_df.tail(3)"
   ]
  },
  {
   "cell_type": "code",
   "execution_count": 50,
   "metadata": {},
   "outputs": [
    {
     "data": {
      "text/html": [
       "<div>\n",
       "<style scoped>\n",
       "    .dataframe tbody tr th:only-of-type {\n",
       "        vertical-align: middle;\n",
       "    }\n",
       "\n",
       "    .dataframe tbody tr th {\n",
       "        vertical-align: top;\n",
       "    }\n",
       "\n",
       "    .dataframe thead th {\n",
       "        text-align: right;\n",
       "    }\n",
       "</style>\n",
       "<table border=\"1\" class=\"dataframe\">\n",
       "  <thead>\n",
       "    <tr style=\"text-align: right;\">\n",
       "      <th></th>\n",
       "      <th>pnns1</th>\n",
       "      <th>pnns2</th>\n",
       "      <th>kcal</th>\n",
       "      <th>fat</th>\n",
       "      <th>sat_fat</th>\n",
       "      <th>carbohyd</th>\n",
       "      <th>sugar</th>\n",
       "      <th>prot</th>\n",
       "      <th>salt</th>\n",
       "      <th>sodium</th>\n",
       "      <th>brand</th>\n",
       "    </tr>\n",
       "  </thead>\n",
       "  <tbody>\n",
       "    <tr>\n",
       "      <th>1163139</th>\n",
       "      <td>Sugary snacks</td>\n",
       "      <td>Sweets</td>\n",
       "      <td>1.026678e-14</td>\n",
       "      <td>9.712684e-12</td>\n",
       "      <td>2.970000e-09</td>\n",
       "      <td>1.771555e-17</td>\n",
       "      <td>6.774648e-18</td>\n",
       "      <td>3.037116e-25</td>\n",
       "      <td>0.000000e+00</td>\n",
       "      <td>0.000000e+00</td>\n",
       "      <td>dm-bio</td>\n",
       "    </tr>\n",
       "    <tr>\n",
       "      <th>1163140</th>\n",
       "      <td>Cereals and potatoes</td>\n",
       "      <td>Cereals</td>\n",
       "      <td>1.438392e-14</td>\n",
       "      <td>2.127540e-11</td>\n",
       "      <td>1.687500e-08</td>\n",
       "      <td>0.000000e+00</td>\n",
       "      <td>1.737089e-19</td>\n",
       "      <td>1.530500e-25</td>\n",
       "      <td>0.000000e+00</td>\n",
       "      <td>0.000000e+00</td>\n",
       "      <td>NaN</td>\n",
       "    </tr>\n",
       "    <tr>\n",
       "      <th>1163141</th>\n",
       "      <td>Cereals and potatoes</td>\n",
       "      <td>Bread</td>\n",
       "      <td>7.018242e-15</td>\n",
       "      <td>1.456903e-12</td>\n",
       "      <td>3.600000e-10</td>\n",
       "      <td>2.966324e-17</td>\n",
       "      <td>1.354930e-18</td>\n",
       "      <td>3.735303e-25</td>\n",
       "      <td>1.628261e-45</td>\n",
       "      <td>1.628261e-45</td>\n",
       "      <td>eliges</td>\n",
       "    </tr>\n",
       "  </tbody>\n",
       "</table>\n",
       "</div>"
      ],
      "text/plain": [
       "                        pnns1    pnns2          kcal           fat  \\\n",
       "1163139         Sugary snacks   Sweets  1.026678e-14  9.712684e-12   \n",
       "1163140  Cereals and potatoes  Cereals  1.438392e-14  2.127540e-11   \n",
       "1163141  Cereals and potatoes    Bread  7.018242e-15  1.456903e-12   \n",
       "\n",
       "              sat_fat      carbohyd         sugar          prot          salt  \\\n",
       "1163139  2.970000e-09  1.771555e-17  6.774648e-18  3.037116e-25  0.000000e+00   \n",
       "1163140  1.687500e-08  0.000000e+00  1.737089e-19  1.530500e-25  0.000000e+00   \n",
       "1163141  3.600000e-10  2.966324e-17  1.354930e-18  3.735303e-25  1.628261e-45   \n",
       "\n",
       "               sodium   brand  \n",
       "1163139  0.000000e+00  dm-bio  \n",
       "1163140  0.000000e+00     NaN  \n",
       "1163141  1.628261e-45  eliges  "
      ]
     },
     "execution_count": 50,
     "metadata": {},
     "output_type": "execute_result"
    }
   ],
   "source": [
    "# normalisation des données numériques \n",
    "col_to_norm = ['kcal', 'fat', 'sat_fat', 'carbohyd', 'sugar', 'prot', 'salt', 'sodium']\n",
    "scaler = MinMaxScaler()\n",
    "cat_df[col_to_norm] = scaler.fit_transform(cat_df[col_to_norm])\n",
    "cat_df.tail(3)"
   ]
  },
  {
   "cell_type": "markdown",
   "metadata": {},
   "source": [
    "# Génération df predict catégories"
   ]
  },
  {
   "cell_type": "code",
   "execution_count": 51,
   "metadata": {},
   "outputs": [],
   "source": [
    "# split des df de train, test et valid\n",
    "cat_train_df, cat_test_df = train_test_split(cat_df, test_size=0.1, random_state=42)\n",
    "cat_train_df, cat_valid_df = train_test_split(cat_train_df, test_size=0.05, random_state=42) \n",
    "\n",
    "# sauvegarde au format csv \n",
    "cat_train_df.to_csv(project_path + f'\\\\data\\\\cat_train_df_{file_nbr}.csv', index=False, sep=\";\")\n",
    "cat_test_df.to_csv(project_path + f'\\\\data\\\\cat_test_df_{file_nbr}.csv', index=False, sep=\";\")\n",
    "cat_valid_df.to_csv(project_path + f'\\\\data\\\\cat_valid_df_{file_nbr}.csv', index=False, sep=\";\")"
   ]
  },
  {
   "cell_type": "code",
   "execution_count": null,
   "metadata": {},
   "outputs": [],
   "source": []
  }
 ],
 "metadata": {
  "kernelspec": {
   "display_name": "green_ia_dl",
   "language": "python",
   "name": "python3"
  },
  "language_info": {
   "codemirror_mode": {
    "name": "ipython",
    "version": 3
   },
   "file_extension": ".py",
   "mimetype": "text/x-python",
   "name": "python",
   "nbconvert_exporter": "python",
   "pygments_lexer": "ipython3",
   "version": "3.10.14"
  }
 },
 "nbformat": 4,
 "nbformat_minor": 2
}
