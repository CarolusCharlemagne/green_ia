{
 "cells": [
  {
   "cell_type": "code",
   "execution_count": 1,
   "metadata": {},
   "outputs": [
    {
     "name": "stdout",
     "output_type": "stream",
     "text": [
      "config augmentation allocation mémoire gpu activée\n"
     ]
    }
   ],
   "source": [
    "import tensorflow as tf\n",
    "\n",
    "def setup_gpu():\n",
    "    physical_devices = tf.config.list_physical_devices('GPU')\n",
    "    if physical_devices:\n",
    "        try:\n",
    "            tf.config.experimental.set_memory_growth(physical_devices[0], True)\n",
    "            print(\"config augmentation allocation mémoire gpu activée\")\n",
    "        except RuntimeError as e:\n",
    "            print(e)\n",
    "\n",
    "setup_gpu()"
   ]
  },
  {
   "cell_type": "code",
   "execution_count": 2,
   "metadata": {},
   "outputs": [],
   "source": [
    "import numpy as np\n",
    "import math\n",
    "import matplotlib.pyplot as plt\n",
    "import pandas as pd\n",
    "import seaborn as sea\n",
    "import sklearn\n",
    "import scipy as sc\n",
    "import nltk as nltk\n",
    "import statsmodels as statsmodels\n",
    "import os\n",
    "import keras"
   ]
  },
  {
   "cell_type": "code",
   "execution_count": 3,
   "metadata": {},
   "outputs": [
    {
     "name": "stdout",
     "output_type": "stream",
     "text": [
      "Version de TensorFlow : 2.10.1\n"
     ]
    }
   ],
   "source": [
    "print(\"Version de TensorFlow :\", tf.__version__)"
   ]
  },
  {
   "cell_type": "code",
   "execution_count": 4,
   "metadata": {},
   "outputs": [
    {
     "name": "stdout",
     "output_type": "stream",
     "text": [
      "Version de Keras : 2.10.0\n"
     ]
    }
   ],
   "source": [
    "print(\"Version de Keras :\", keras.__version__)"
   ]
  },
  {
   "cell_type": "markdown",
   "metadata": {},
   "source": [
    "## Panneau de configuration"
   ]
  },
  {
   "cell_type": "code",
   "execution_count": 5,
   "metadata": {},
   "outputs": [],
   "source": [
    "project_path = \"C:\\\\Users\\\\charl\\\\Documents\\\\workspace\\\\green_ia\\\\cch\\\\\"\n",
    "nbr_to_grab = '01'"
   ]
  },
  {
   "cell_type": "code",
   "execution_count": 6,
   "metadata": {},
   "outputs": [
    {
     "data": {
      "text/html": [
       "<div>\n",
       "<style scoped>\n",
       "    .dataframe tbody tr th:only-of-type {\n",
       "        vertical-align: middle;\n",
       "    }\n",
       "\n",
       "    .dataframe tbody tr th {\n",
       "        vertical-align: top;\n",
       "    }\n",
       "\n",
       "    .dataframe thead th {\n",
       "        text-align: right;\n",
       "    }\n",
       "</style>\n",
       "<table border=\"1\" class=\"dataframe\">\n",
       "  <thead>\n",
       "    <tr style=\"text-align: right;\">\n",
       "      <th></th>\n",
       "      <th>product_name</th>\n",
       "      <th>pnns_groups_1</th>\n",
       "      <th>pnns_groups_2</th>\n",
       "      <th>ecoscore_grade</th>\n",
       "      <th>energy-kcal_100g</th>\n",
       "      <th>energy_100g</th>\n",
       "      <th>fat_100g</th>\n",
       "      <th>saturated-fat_100g</th>\n",
       "      <th>carbohydrates_100g</th>\n",
       "      <th>sugars_100g</th>\n",
       "      <th>proteins_100g</th>\n",
       "      <th>salt_100g</th>\n",
       "      <th>sodium_100g</th>\n",
       "      <th>brands_tags</th>\n",
       "      <th>categories_tags</th>\n",
       "      <th>main_category_en</th>\n",
       "    </tr>\n",
       "  </thead>\n",
       "  <tbody>\n",
       "    <tr>\n",
       "      <th>994482</th>\n",
       "      <td>Basilico</td>\n",
       "      <td>Fat and sauces</td>\n",
       "      <td>Dressings and sauces</td>\n",
       "      <td>b</td>\n",
       "      <td>46.0</td>\n",
       "      <td>194.0</td>\n",
       "      <td>1.2</td>\n",
       "      <td>0.2</td>\n",
       "      <td>6.900000</td>\n",
       "      <td>4.9</td>\n",
       "      <td>1.4</td>\n",
       "      <td>1.1</td>\n",
       "      <td>0.44</td>\n",
       "      <td>franz-josef</td>\n",
       "      <td>en:condiments,en:sauces,en:meal-sauces,en:toma...</td>\n",
       "      <td>Groceries</td>\n",
       "    </tr>\n",
       "    <tr>\n",
       "      <th>994483</th>\n",
       "      <td>Betteraves rouges</td>\n",
       "      <td>Fruits and vegetables</td>\n",
       "      <td>Vegetables</td>\n",
       "      <td>a</td>\n",
       "      <td>43.0</td>\n",
       "      <td>180.0</td>\n",
       "      <td>0.1</td>\n",
       "      <td>0.0</td>\n",
       "      <td>7.200000</td>\n",
       "      <td>6.7</td>\n",
       "      <td>2.3</td>\n",
       "      <td>0.1</td>\n",
       "      <td>0.04</td>\n",
       "      <td>NaN</td>\n",
       "      <td>en:plant-based-foods-and-beverages,en:plant-ba...</td>\n",
       "      <td>fr:Betteraves sous vide</td>\n",
       "    </tr>\n",
       "    <tr>\n",
       "      <th>994484</th>\n",
       "      <td>Escagaro pâtes alimentaires</td>\n",
       "      <td>Cereals and potatoes</td>\n",
       "      <td>Cereals</td>\n",
       "      <td>unknown</td>\n",
       "      <td>363.0</td>\n",
       "      <td>1519.0</td>\n",
       "      <td>3.0</td>\n",
       "      <td>0.6</td>\n",
       "      <td>74.400002</td>\n",
       "      <td>5.0</td>\n",
       "      <td>13.9</td>\n",
       "      <td>NaN</td>\n",
       "      <td>NaN</td>\n",
       "      <td>domaine-de-peries</td>\n",
       "      <td>en:plant-based-foods-and-beverages,en:plant-ba...</td>\n",
       "      <td>Pastas</td>\n",
       "    </tr>\n",
       "  </tbody>\n",
       "</table>\n",
       "</div>"
      ],
      "text/plain": [
       "                       product_name          pnns_groups_1  \\\n",
       "994482                     Basilico         Fat and sauces   \n",
       "994483            Betteraves rouges  Fruits and vegetables   \n",
       "994484  Escagaro pâtes alimentaires   Cereals and potatoes   \n",
       "\n",
       "               pnns_groups_2 ecoscore_grade  energy-kcal_100g  energy_100g  \\\n",
       "994482  Dressings and sauces              b              46.0        194.0   \n",
       "994483            Vegetables              a              43.0        180.0   \n",
       "994484               Cereals        unknown             363.0       1519.0   \n",
       "\n",
       "        fat_100g  saturated-fat_100g  carbohydrates_100g  sugars_100g  \\\n",
       "994482       1.2                 0.2            6.900000          4.9   \n",
       "994483       0.1                 0.0            7.200000          6.7   \n",
       "994484       3.0                 0.6           74.400002          5.0   \n",
       "\n",
       "        proteins_100g  salt_100g  sodium_100g        brands_tags  \\\n",
       "994482            1.4        1.1         0.44        franz-josef   \n",
       "994483            2.3        0.1         0.04                NaN   \n",
       "994484           13.9        NaN          NaN  domaine-de-peries   \n",
       "\n",
       "                                          categories_tags  \\\n",
       "994482  en:condiments,en:sauces,en:meal-sauces,en:toma...   \n",
       "994483  en:plant-based-foods-and-beverages,en:plant-ba...   \n",
       "994484  en:plant-based-foods-and-beverages,en:plant-ba...   \n",
       "\n",
       "               main_category_en  \n",
       "994482                Groceries  \n",
       "994483  fr:Betteraves sous vide  \n",
       "994484                   Pastas  "
      ]
     },
     "execution_count": 6,
     "metadata": {},
     "output_type": "execute_result"
    }
   ],
   "source": [
    "train_df = pd.read_csv(project_path + f'data\\\\cat_train_df_{nbr_to_grab}.csv', sep=';')\n",
    "test_df = pd.read_csv(project_path + f'data\\\\cat_test_df_{nbr_to_grab}.csv', sep=';')\n",
    "valid_df = pd.read_csv(project_path + f'data\\\\cat_valid_df_{nbr_to_grab}.csv', sep=';')\n",
    "train_df.tail(3)"
   ]
  },
  {
   "cell_type": "code",
   "execution_count": null,
   "metadata": {},
   "outputs": [],
   "source": []
  },
  {
   "cell_type": "code",
   "execution_count": 8,
   "metadata": {},
   "outputs": [],
   "source": []
  }
 ],
 "metadata": {
  "kernelspec": {
   "display_name": "green_ia_dl",
   "language": "python",
   "name": "python3"
  },
  "language_info": {
   "codemirror_mode": {
    "name": "ipython",
    "version": 3
   },
   "file_extension": ".py",
   "mimetype": "text/x-python",
   "name": "python",
   "nbconvert_exporter": "python",
   "pygments_lexer": "ipython3",
   "version": "3.10.14"
  }
 },
 "nbformat": 4,
 "nbformat_minor": 2
}
