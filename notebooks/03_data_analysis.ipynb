{
 "cells": [
  {
   "cell_type": "code",
   "execution_count": 1,
   "metadata": {},
   "outputs": [],
   "source": [
    "import pandas as pd\n",
    "import numpy as np\n",
    "import json\n",
    "import os\n",
    "import warnings\n",
    "from datetime import datetime \n",
    "from collections import OrderedDict\n",
    "from collections import Counter\n",
    "import plotly.express as px\n",
    "from collections import defaultdict\n",
    "import plotly.graph_objects as go\n",
    "\n",
    "\n",
    "pd.set_option('display.max_rows', 100)\n",
    "pd.set_option('display.max_colwidth', None)\n",
    "\n",
    "warnings.filterwarnings(\"ignore\", category=pd.errors.DtypeWarning)"
   ]
  },
  {
   "cell_type": "code",
   "execution_count": 2,
   "metadata": {},
   "outputs": [],
   "source": [
    "chunk_size = 1000\n",
    "file_id = '02'\n",
    "project_path = \"/home/carolus/Documents/school/green_ia/\" \n",
    "jsonl_02 = project_path + 'data/' + file_id + '_openfoodfacts_02.jsonl' \n",
    "jsonl_sample = project_path + 'data/' + file_id + \"_openfoodfacts_sample.jsonl\"\n",
    "# récupérer la date du jour \n",
    "current_date_time = datetime.now()\n",
    "date_format = \"%d/%m/%Y %H:%M:%S.%f\"\n",
    "start_date = current_date_time.strftime(\"%d/%m/%Y %H:%M:%S.%f\")[:-3]\n",
    "date_code = current_date_time.strftime('%d%m%Y%H%M%S') + f\"{current_date_time.microsecond // 1000:03d}\""
   ]
  },
  {
   "cell_type": "code",
   "execution_count": 3,
   "metadata": {},
   "outputs": [],
   "source": [
    "def add_logs(logData):\n",
    "    print(logData)\n",
    "    #with open(f\"{project_path}logs/03_analysis_{date_code}_logs.txt\", \"a\") as logFile:\n",
    "     #   logFile.write(f'{logData}\\n')"
   ]
  },
  {
   "cell_type": "code",
   "execution_count": 4,
   "metadata": {},
   "outputs": [
    {
     "name": "stdout",
     "output_type": "stream",
     "text": [
      "jsonl format valid: /home/carolus/Documents/school/green_ia/data/02_openfoodfacts_03.jsonl\n"
     ]
    }
   ],
   "source": [
    "# verifie la validité de la structure du fichier jsonl\n",
    "with open(jsonl_02, 'r') as file:\n",
    "    for line in file:\n",
    "        try:\n",
    "            json_object = json.loads(line)\n",
    "        except json.JSONDecodeError as e:\n",
    "            add_logs(f\"ERROR decoding jsonl: {e}\")\n",
    "\n",
    "add_logs(f\"jsonl format valid: {jsonl_02}\")"
   ]
  },
  {
   "cell_type": "markdown",
   "metadata": {},
   "source": [
    "# COUNTRIES:"
   ]
  },
  {
   "cell_type": "code",
   "execution_count": 5,
   "metadata": {},
   "outputs": [
    {
     "name": "stdout",
     "output_type": "stream",
     "text": [
      "italy: 6.82%\n",
      "belgium: 2.21%\n",
      "france: 30.19%\n",
      "spain: 8.85%\n",
      "far: 8.35%\n",
      "netherlands: 0.43%\n",
      "canada: 2.45%\n",
      "united states: 18.75%\n",
      "united kingdom: 3.20%\n",
      "poland: 0.23%\n",
      "germany: 7.68%\n",
      "sweden: 0.12%\n",
      "norway: 0.09%\n",
      "none: 0.37%\n",
      "australia: 1.15%\n",
      "ireland: 1.59%\n",
      "world: 1.95%\n",
      "switzerland: 2.43%\n",
      "qatar: 0.02%\n",
      "french polynesia: 0.01%\n",
      "russia: 0.27%\n",
      "czech republic: 0.09%\n",
      "austria: 0.10%\n",
      "luxembourg: 0.04%\n",
      "puerto rico: 0.01%\n",
      "new zealand: 0.07%\n",
      "united arab emirates: 0.02%\n",
      "morocco: 0.04%\n",
      "croatia: 0.03%\n",
      "singapore: 0.08%\n",
      "philippines: 0.05%\n",
      "slovakia: 0.03%\n",
      "brazil: 0.38%\n",
      "hungary: 0.04%\n",
      "malaysia: 0.02%\n",
      "mexico: 0.13%\n",
      "israel: 0.01%\n",
      "japan: 0.20%\n",
      "china: 0.01%\n",
      "kazakhstan: 0.00%\n",
      "ukraine: 0.01%\n",
      "taiwan: 0.00%\n",
      "finland: 0.08%\n",
      "greece: 0.02%\n",
      "portugal: 0.11%\n",
      "bulgaria: 0.09%\n",
      "thailand: 0.06%\n",
      "bolivia: 0.05%\n",
      ": 0.09%\n",
      "lithuania: 0.06%\n",
      "senegal: 0.00%\n",
      "south africa: 0.04%\n",
      "india: 0.11%\n",
      "algeria: 0.02%\n",
      "argentina: 0.06%\n",
      "indonesia: 0.06%\n",
      "denmark: 0.08%\n",
      "montenegro: 0.00%\n",
      "romania: 0.09%\n",
      "serbia: 0.02%\n",
      "slovenia: 0.01%\n",
      "uruguay: 0.01%\n",
      "reunion: 0.03%\n",
      "colombia: 0.01%\n",
      "suriname: 0.00%\n",
      "salvador: 0.01%\n",
      "السعودية: 0.00%\n",
      "egypt: 0.01%\n",
      "aland islands: 0.00%\n",
      "palestine: 0.01%\n",
      "saudi arabia: 0.07%\n",
      "tunisia: 0.01%\n",
      "cyprus: 0.01%\n",
      "kuwait: 0.00%\n",
      "maldives: 0.00%\n",
      "south korea: 0.00%\n",
      "hong kong: 0.01%\n",
      "paraguay: 0.01%\n",
      "georgia: 0.01%\n",
      "peru: 0.01%\n",
      "french guiana: 0.00%\n",
      "albania: 0.00%\n",
      "brunei: 0.00%\n",
      "andorra: 0.00%\n",
      "jordan: 0.00%\n",
      "iceland: 0.00%\n",
      "sint maarten: 0.00%\n",
      "estonia: 0.01%\n",
      "chile: 0.01%\n",
      "malta: 0.00%\n",
      "ivory coast: 0.00%\n",
      "iraq: 0.01%\n",
      "england: 0.00%\n",
      "lebanon: 0.01%\n",
      "moldova: 0.00%\n",
      "panama: 0.01%\n",
      "cambodia: 0.00%\n",
      "turkey: 0.02%\n",
      "guatemala: 0.00%\n",
      "bosnia and herzegovina: 0.00%\n",
      "pakistan: 0.00%\n",
      "afghanistan: 0.00%\n",
      "cameroon: 0.00%\n",
      "францыя: 0.00%\n",
      "sri lanka: 0.00%\n",
      "venezuela: 0.00%\n",
      "cuba: 0.00%\n",
      "german democratic republic: 0.00%\n",
      "nepal: 0.00%\n",
      "danemark: 0.00%\n",
      "europe: 0.01%\n",
      "armenia: 0.00%\n",
      "vietnam: 0.00%\n",
      "mauritius: 0.00%\n",
      "burkina faso: 0.00%\n",
      "monaco: 0.00%\n",
      "honduras: 0.00%\n",
      "costa rica: 0.01%\n",
      "belarus: 0.00%\n",
      "latvia: 0.00%\n",
      "north macedonia: 0.00%\n",
      "rwanda: 0.00%\n",
      "dominican republic: 0.00%\n",
      "cape verde: 0.00%\n",
      "nicaragua: 0.00%\n",
      "cote d'ivoire: 0.00%\n",
      "nigeria: 0.00%\n",
      "ecuador: 0.00%\n",
      "damam: 0.00%\n",
      "bermuda: 0.00%\n",
      "mali: 0.00%\n",
      "saint pierre and miquelon: 0.00%\n",
      "laos: 0.00%\n",
      "benin: 0.00%\n",
      "iraqi kurdistan: 0.00%\n",
      "montserrat: 0.00%\n",
      "mongolia: 0.00%\n",
      "bahamas: 0.00%\n",
      "sn: 0.00%\n",
      "kosovo: 0.00%\n",
      "martinique: 0.00%\n",
      "liechtenstein: 0.00%\n",
      "abkhazia: 0.00%\n",
      "somalia: 0.00%\n",
      "mozambique: 0.00%\n",
      "haiti: 0.00%\n",
      "east germany: 0.00%\n",
      "curaçao: 0.00%\n",
      "bahrain: 0.00%\n",
      "ethiopia: 0.00%\n",
      "north korea: 0.00%\n",
      "saint lucia: 0.00%\n",
      "oman: 0.00%\n",
      "libya: 0.00%\n",
      "mauritania: 0.00%\n",
      "unknown: 0.00%\n",
      "france  switzerland  germany: 0.00%\n",
      "aruba: 0.00%\n",
      "barbados: 0.00%\n",
      "dominica: 0.00%\n",
      "guyana: 0.00%\n",
      "jamaica: 0.00%\n",
      "trinidad and tobago: 0.00%\n",
      "benelux: 0.00%\n",
      "ghana: 0.00%\n",
      "eswatini: 0.00%\n",
      "gabon: 0.00%\n",
      "madagascar: 0.00%\n",
      "uzbekistan: 0.00%\n",
      "kyrgyzstan: 0.00%\n",
      "azerbaijan: 0.00%\n",
      "vanuatu: 0.00%\n",
      "yemen: 0.00%\n",
      "djibouti: 0.00%\n",
      "syria: 0.00%\n",
      "ประเทศอินเดีย: 0.00%\n",
      "الكويت: 0.00%\n",
      "republic of the congo: 0.00%\n",
      "iran: 0.00%\n",
      "bhutan: 0.00%\n",
      "democratic republic of the congo: 0.00%\n",
      "chad: 0.00%\n",
      "san marino: 0.00%\n",
      "?: 0.00%\n",
      "нова каледония: 0.00%\n",
      "saint martin: 0.00%\n",
      "bangladesh: 0.00%\n",
      "vatican city: 0.00%\n",
      "togo: 0.00%\n",
      "ประเทศเวียดนาม: 0.00%\n",
      "niger: 0.00%\n",
      "zambia: 0.00%\n",
      "latin america: 0.00%\n",
      "liberia: 0.00%\n",
      "cayman islands: 0.00%\n",
      "republic of ireland: 0.00%\n",
      "middle east: 0.00%\n",
      "ascension island: 0.00%\n",
      "christmas island: 0.00%\n",
      "tajikistan: 0.00%\n",
      "central america: 0.00%\n",
      "fra: 0.00%\n",
      "saint: 0.00%\n",
      "british indian ocean territory: 0.00%\n",
      "myanmar: 0.00%\n",
      "el salvador: 0.00%\n",
      "american samoa: 0.00%\n",
      "america: 0.00%\n",
      "fiji: 0.00%\n",
      "timor-leste: 0.00%\n",
      "saint vincent and the grenadines: 0.00%\n",
      "wallis and futuna: 0.00%\n",
      "macau: 0.00%\n",
      "asia: 0.00%\n",
      "ussr: 0.00%\n",
      "moldavia: 0.00%\n",
      "bahrein: 0.00%\n",
      "sierra leone: 0.00%\n",
      "grenada: 0.00%\n",
      "kenya: 0.00%\n",
      "uganda: 0.00%\n",
      "united states virgin islands: 0.00%\n",
      "tanzania: 0.00%\n",
      "congo: 0.00%\n",
      "south sudan: 0.00%\n",
      "namibia: 0.00%\n",
      "sudan: 0.00%\n",
      "central african republic: 0.00%\n",
      "guam: 0.00%\n",
      "burundi: 0.00%\n",
      "west africa: 0.00%\n",
      "anguilla: 0.00%\n",
      "botswana: 0.00%\n",
      "lesotho: 0.00%\n",
      "middle east and africa: 0.00%\n",
      "spanish: 0.00%\n",
      "turks and caicos islands: 0.00%\n",
      "سلطنة عمان: 0.00%\n",
      "angola: 0.00%\n",
      "yugoslavia: 0.00%\n",
      "caribbean netherlands: 0.00%\n",
      "ریاستہائے متحدہ امریکہ: 0.00%\n",
      "bonaire: 0.00%\n",
      "belize: 0.00%\n",
      "isle of man: 0.00%\n",
      ":: 0.00%\n",
      "sicily: 0.00%\n",
      "faroe islands: 0.00%\n",
      "soviet union: 0.00%\n",
      "people's republic of china: 0.00%\n"
     ]
    }
   ],
   "source": [
    "# retourne une liste des pays présents dans le fichier\n",
    "def extract_countries_from_jsonl(file_path):\n",
    "    countries = []\n",
    "    with open(file_path, 'r', encoding='utf-8') as file:\n",
    "        for line in file:\n",
    "            try:\n",
    "                record = json.loads(line)\n",
    "                country = record.get('countries')\n",
    "                if country is not None:\n",
    "                    countries.append(country)\n",
    "            except json.JSONDecodeError:\n",
    "                print(f\"WARNING line: {line} in {file_path}\")    \n",
    "    return countries\n",
    "countries_list = extract_countries_from_jsonl(jsonl_02)\n",
    "\n",
    "separated_countries = []\n",
    "for entry in countries_list:\n",
    "    countries = [country.strip() for country in entry.split(',')]\n",
    "    separated_countries.extend(countries)\n",
    "\n",
    "country_counts = Counter(separated_countries)\n",
    "total_countries = sum(country_counts.values())\n",
    "\n",
    "data_graph_countries = []\n",
    "for country, count in country_counts.items():\n",
    "    percentage = (count / total_countries) * 100\n",
    "    print(f\"{country}: {percentage:.2f}%\")\n",
    "    data_graph_countries.append({'countries': country, 'percentage': percentage})"
   ]
  },
  {
   "cell_type": "code",
   "execution_count": 6,
   "metadata": {},
   "outputs": [
    {
     "data": {
      "application/vnd.plotly.v1+json": {
       "config": {
        "plotlyServerURL": "https://plot.ly"
       },
       "data": [
        {
         "branchvalues": "total",
         "customdata": [
          [
           0.08744475817255176
          ],
          [
           0.000029442679519377697
          ],
          [
           0.0000883280385581331
          ],
          [
           0.000029442679519377697
          ],
          [
           0.003356465465209058
          ],
          [
           0.0001472133975968885
          ],
          [
           0.002973710631457147
          ],
          [
           0.02358358629502154
          ],
          [
           0.000029442679519377697
          ],
          [
           0.00011777071807751079
          ],
          [
           0.004593058005022921
          ],
          [
           0.0000883280385581331
          ],
          [
           0.000058885359038755394
          ],
          [
           0.05879703100019727
          ],
          [
           0.001177707180775108
          ],
          [
           0.00047108287231004315
          ],
          [
           0.000029442679519377697
          ],
          [
           0.000058885359038755394
          ],
          [
           1.1540647091210476
          ],
          [
           0.09736694117058206
          ],
          [
           0.00026498411567439927
          ],
          [
           0.001001051103658842
          ],
          [
           0.0007655096675038202
          ],
          [
           0.000029442679519377697
          ],
          [
           0.00011777071807751079
          ],
          [
           0.00023554143615502158
          ],
          [
           0.0040925324531935
          ],
          [
           2.212381824445079
          ],
          [
           0.000029442679519377697
          ],
          [
           0.00026498411567439927
          ],
          [
           0.00026498411567439927
          ],
          [
           0.0001472133975968885
          ],
          [
           0.0001766560771162662
          ],
          [
           0.04790323957802752
          ],
          [
           0.000029442679519377697
          ],
          [
           0.004799156761658565
          ],
          [
           0.0000883280385581331
          ],
          [
           0.37533527851302695
          ],
          [
           0.000029442679519377697
          ],
          [
           0.0036803349399222125
          ],
          [
           0.08994738593169888
          ],
          [
           0.0012365925398138634
          ],
          [
           0.000029442679519377697
          ],
          [
           0.002679283836263371
          ],
          [
           0.002267086322992083
          ],
          [
           2.4509558565905967
          ],
          [
           0.0000883280385581331
          ],
          [
           0.0000883280385581331
          ],
          [
           0.000029442679519377697
          ],
          [
           0.0000883280385581331
          ],
          [
           0.000029442679519377697
          ],
          [
           0.00011777071807751079
          ],
          [
           0.01495688119584387
          ],
          [
           0.011070447499286016
          ],
          [
           0.000029442679519377697
          ],
          [
           0.011011562140247259
          ],
          [
           0.000029442679519377697
          ],
          [
           0.0055057810701236295
          ],
          [
           0.0017076754121239065
          ],
          [
           0.025144048309548556
          ],
          [
           0.001560462014527018
          ],
          [
           0.0004121975132712878
          ],
          [
           0.00959831352331713
          ],
          [
           0.08862246535332689
          ],
          [
           0.000029442679519377697
          ],
          [
           0.0024142997205889713
          ],
          [
           0.00047108287231004315
          ],
          [
           0.0843827195025365
          ],
          [
           0.0001472133975968885
          ],
          [
           0.0002060987566356439
          ],
          [
           0.002973710631457147
          ],
          [
           0.0001472133975968885
          ],
          [
           0.002914825272418392
          ],
          [
           0.014161928848820672
          ],
          [
           0.0001472133975968885
          ],
          [
           0.0027970545543408816
          ],
          [
           0.005594109108681763
          ],
          [
           0.0001766560771162662
          ],
          [
           0.0006771816289456871
          ],
          [
           0.007743424713596335
          ],
          [
           8.3515927017486
          ],
          [
           0.000029442679519377697
          ],
          [
           0.0000883280385581331
          ],
          [
           0.08420606342542021
          ],
          [
           0.000029442679519377697
          ],
          [
           30.186401604037183
          ],
          [
           0.000058885359038755394
          ],
          [
           0.0037097776194415896
          ],
          [
           0.009068345291968332
          ],
          [
           0.0007360669879844425
          ],
          [
           0.005800207865317406
          ],
          [
           0.000029442679519377697
          ],
          [
           7.67841527721755
          ],
          [
           0.0005299682313487985
          ],
          [
           0.021493156049145718
          ],
          [
           0.000029442679519377697
          ],
          [
           0.00011777071807751079
          ],
          [
           0.0030620386700152807
          ],
          [
           0.000500525551829421
          ],
          [
           0.0006771816289456871
          ],
          [
           0.002914825272418392
          ],
          [
           0.00883280385581331
          ],
          [
           0.04195581831511322
          ],
          [
           0.0015310193350076403
          ],
          [
           0.10767187900236423
          ],
          [
           0.06121133072078624
          ],
          [
           0.001589904694046396
          ],
          [
           0.006300733417146827
          ],
          [
           0.0000883280385581331
          ],
          [
           1.5939972264995894
          ],
          [
           0.000029442679519377697
          ],
          [
           0.010540479267937218
          ],
          [
           6.8240181602447265
          ],
          [
           0.004121975132712878
          ],
          [
           0.0007360669879844425
          ],
          [
           0.19906195623051265
          ],
          [
           0.001383805937410752
          ],
          [
           0.0010304937831782195
          ],
          [
           0.000029442679519377697
          ],
          [
           0.0003827548337519101
          ],
          [
           0.0014426912964495072
          ],
          [
           0.0003533121542325324
          ],
          [
           0.000058885359038755394
          ],
          [
           0.000029442679519377697
          ],
          [
           0.002443742400108349
          ],
          [
           0.00562355178820114
          ],
          [
           0.000029442679519377697
          ],
          [
           0.000058885359038755394
          ],
          [
           0.001059936462697597
          ],
          [
           0.0003533121542325324
          ],
          [
           0.061476314836460634
          ],
          [
           0.03515455934613697
          ],
          [
           0.0001472133975968885
          ],
          [
           0.0002060987566356439
          ],
          [
           0.02490850687339354
          ],
          [
           0.002002102207317684
          ],
          [
           0.0006477389494263094
          ],
          [
           0.00294426795193777
          ],
          [
           0.0007655096675038202
          ],
          [
           0.00026498411567439927
          ],
          [
           0.002679283836263371
          ],
          [
           0.13090215314315326
          ],
          [
           0.000058885359038755394
          ],
          [
           0.000029442679519377697
          ],
          [
           0.00011777071807751079
          ],
          [
           0.0028853825928990143
          ],
          [
           0.001472133975968885
          ],
          [
           0.00026498411567439927
          ],
          [
           0.002826497233860259
          ],
          [
           0.0007360669879844425
          ],
          [
           0.03671502136066399
          ],
          [
           0.0003533121542325324
          ],
          [
           0.0002060987566356439
          ],
          [
           0.0000883280385581331
          ],
          [
           0.0003238694747131547
          ],
          [
           0.42574114585020145
          ],
          [
           0.07478440597921936
          ],
          [
           0.002649841156743993
          ],
          [
           0.00026498411567439927
          ],
          [
           0.000294426795193777
          ],
          [
           0.3733626189852286
          ],
          [
           0.000058885359038755394
          ],
          [
           0.00256151311818586
          ],
          [
           0.0897707298545826
          ],
          [
           0.0004121975132712878
          ],
          [
           0.002149315604914572
          ],
          [
           0.009156673330526464
          ],
          [
           0.00959831352331713
          ],
          [
           0.013749731335549386
          ],
          [
           0.000029442679519377697
          ],
          [
           0.008391163663022644
          ],
          [
           0.05237852686497292
          ],
          [
           0.23377487538385894
          ],
          [
           0.1058758755516822
          ],
          [
           0.005446895711084874
          ],
          [
           0.020786531740680656
          ],
          [
           0.000058885359038755394
          ],
          [
           0.000294426795193777
          ],
          [
           0.031915864599005424
          ],
          [
           0.0880630544424587
          ],
          [
           0.2728747537855925
          ],
          [
           0.0001472133975968885
          ],
          [
           0.000058885359038755394
          ],
          [
           0.00011777071807751079
          ],
          [
           0.0003827548337519101
          ],
          [
           0.0006182962699069317
          ],
          [
           0.000029442679519377697
          ],
          [
           0.007448997918402558
          ],
          [
           0.0003238694747131547
          ],
          [
           0.06568661800773164
          ],
          [
           0.004328073889348522
          ],
          [
           0.021345942651548832
          ],
          [
           0.000029442679519377697
          ],
          [
           0.000029442679519377697
          ],
          [
           0.07605044119855259
          ],
          [
           0.0000883280385581331
          ],
          [
           0.029884319712168365
          ],
          [
           0.011011562140247259
          ],
          [
           0.0000883280385581331
          ],
          [
           0.0009421657446200863
          ],
          [
           0.04336906693204335
          ],
          [
           0.0027087265157827484
          ],
          [
           0.000029442679519377697
          ],
          [
           0.000029442679519377697
          ],
          [
           8.848320147920022
          ],
          [
           0.000029442679519377697
          ],
          [
           0.001943216848278928
          ],
          [
           0.000029442679519377697
          ],
          [
           0.003385908144728436
          ],
          [
           0.12245210412109185
          ],
          [
           2.4316709015054045
          ],
          [
           0.000294426795193777
          ],
          [
           0.004651943364061677
          ],
          [
           0.0001472133975968885
          ],
          [
           0.000029442679519377697
          ],
          [
           0.05641217395912767
          ],
          [
           0.000029442679519377697
          ],
          [
           0.0004416401927906655
          ],
          [
           0.0006477389494263094
          ],
          [
           0.012778122911409921
          ],
          [
           0.01522186531151827
          ],
          [
           0.000029442679519377697
          ],
          [
           0.000029442679519377697
          ],
          [
           0.0063890614557049604
          ],
          [
           0.016546785889890267
          ],
          [
           3.2035401877854097
          ],
          [
           18.753985802739937
          ],
          [
           0.000058885359038755394
          ],
          [
           0.0010304937831782195
          ],
          [
           0.01024605247274344
          ],
          [
           0.000058885359038755394
          ],
          [
           0.0005299682313487985
          ],
          [
           0.00011777071807751079
          ],
          [
           0.000029442679519377697
          ],
          [
           0.004004204414635368
          ],
          [
           0.002149315604914572
          ],
          [
           0.0000883280385581331
          ],
          [
           0.000029442679519377697
          ],
          [
           1.9486931866695325
          ],
          [
           0.000294426795193777
          ],
          [
           0.000058885359038755394
          ],
          [
           0.00011777071807751079
          ],
          [
           0.000029442679519377697
          ],
          [
           0.00047108287231004315
          ],
          [
           0.001266035219333241
          ],
          [
           0.0003533121542325324
          ],
          [
           0.000029442679519377697
          ],
          [
           0.000029442679519377697
          ],
          [
           0.000029442679519377697
          ],
          [
           0.00011777071807751079
          ]
         ],
         "domain": {
          "x": [
           0,
           1
          ],
          "y": [
           0,
           1
          ]
         },
         "hovertemplate": "labels=%{label}<br>percentage_sum=%{value}<br>parent=%{parent}<br>id=%{id}<br>percentage=%{color}<extra></extra>",
         "ids": [
          "",
          ":",
          "?",
          "abkhazia",
          "afghanistan",
          "aland islands",
          "albania",
          "algeria",
          "america",
          "american samoa",
          "andorra",
          "angola",
          "anguilla",
          "argentina",
          "armenia",
          "aruba",
          "ascension island",
          "asia",
          "australia",
          "austria",
          "azerbaijan",
          "bahamas",
          "bahrain",
          "bahrein",
          "bangladesh",
          "barbados",
          "belarus",
          "belgium",
          "belize",
          "benelux",
          "benin",
          "bermuda",
          "bhutan",
          "bolivia",
          "bonaire",
          "bosnia and herzegovina",
          "botswana",
          "brazil",
          "british indian ocean territory",
          "brunei",
          "bulgaria",
          "burkina faso",
          "burundi",
          "cambodia",
          "cameroon",
          "canada",
          "cape verde",
          "caribbean netherlands",
          "cayman islands",
          "central african republic",
          "central america",
          "chad",
          "chile",
          "china",
          "christmas island",
          "colombia",
          "congo",
          "costa rica",
          "cote d'ivoire",
          "croatia",
          "cuba",
          "curaçao",
          "cyprus",
          "czech republic",
          "damam",
          "danemark",
          "democratic republic of the congo",
          "denmark",
          "djibouti",
          "dominica",
          "dominican republic",
          "east germany",
          "ecuador",
          "egypt",
          "el salvador",
          "england",
          "estonia",
          "eswatini",
          "ethiopia",
          "europe",
          "far",
          "faroe islands",
          "fiji",
          "finland",
          "fra",
          "france",
          "france  switzerland  germany",
          "french guiana",
          "french polynesia",
          "gabon",
          "georgia",
          "german democratic republic",
          "germany",
          "ghana",
          "greece",
          "grenada",
          "guam",
          "guatemala",
          "guyana",
          "haiti",
          "honduras",
          "hong kong",
          "hungary",
          "iceland",
          "india",
          "indonesia",
          "iran",
          "iraq",
          "iraqi kurdistan",
          "ireland",
          "isle of man",
          "israel",
          "italy",
          "ivory coast",
          "jamaica",
          "japan",
          "jordan",
          "kazakhstan",
          "kenya",
          "kosovo",
          "kuwait",
          "kyrgyzstan",
          "laos",
          "latin america",
          "latvia",
          "lebanon",
          "lesotho",
          "liberia",
          "libya",
          "liechtenstein",
          "lithuania",
          "luxembourg",
          "macau",
          "madagascar",
          "malaysia",
          "maldives",
          "mali",
          "malta",
          "martinique",
          "mauritania",
          "mauritius",
          "mexico",
          "middle east",
          "middle east and africa",
          "moldavia",
          "moldova",
          "monaco",
          "mongolia",
          "montenegro",
          "montserrat",
          "morocco",
          "mozambique",
          "myanmar",
          "namibia",
          "nepal",
          "netherlands",
          "new zealand",
          "nicaragua",
          "niger",
          "nigeria",
          "none",
          "north korea",
          "north macedonia",
          "norway",
          "oman",
          "pakistan",
          "palestine",
          "panama",
          "paraguay",
          "people's republic of china",
          "peru",
          "philippines",
          "poland",
          "portugal",
          "puerto rico",
          "qatar",
          "republic of ireland",
          "republic of the congo",
          "reunion",
          "romania",
          "russia",
          "rwanda",
          "saint",
          "saint lucia",
          "saint martin",
          "saint pierre and miquelon",
          "saint vincent and the grenadines",
          "salvador",
          "san marino",
          "saudi arabia",
          "senegal",
          "serbia",
          "sicily",
          "sierra leone",
          "singapore",
          "sint maarten",
          "slovakia",
          "slovenia",
          "sn",
          "somalia",
          "south africa",
          "south korea",
          "south sudan",
          "soviet union",
          "spain",
          "spanish",
          "sri lanka",
          "sudan",
          "suriname",
          "sweden",
          "switzerland",
          "syria",
          "taiwan",
          "tajikistan",
          "tanzania",
          "thailand",
          "timor-leste",
          "togo",
          "trinidad and tobago",
          "tunisia",
          "turkey",
          "turks and caicos islands",
          "uganda",
          "ukraine",
          "united arab emirates",
          "united kingdom",
          "united states",
          "united states virgin islands",
          "unknown",
          "uruguay",
          "ussr",
          "uzbekistan",
          "vanuatu",
          "vatican city",
          "venezuela",
          "vietnam",
          "wallis and futuna",
          "west africa",
          "world",
          "yemen",
          "yugoslavia",
          "zambia",
          "нова каледония",
          "францыя",
          "السعودية",
          "الكويت",
          "ریاستہائے متحدہ امریکہ",
          "سلطنة عمان",
          "ประเทศอินเดีย",
          "ประเทศเวียดนาม"
         ],
         "labels": [
          "",
          ":",
          "?",
          "abkhazia",
          "afghanistan",
          "aland islands",
          "albania",
          "algeria",
          "america",
          "american samoa",
          "andorra",
          "angola",
          "anguilla",
          "argentina",
          "armenia",
          "aruba",
          "ascension island",
          "asia",
          "australia",
          "austria",
          "azerbaijan",
          "bahamas",
          "bahrain",
          "bahrein",
          "bangladesh",
          "barbados",
          "belarus",
          "belgium",
          "belize",
          "benelux",
          "benin",
          "bermuda",
          "bhutan",
          "bolivia",
          "bonaire",
          "bosnia and herzegovina",
          "botswana",
          "brazil",
          "british indian ocean territory",
          "brunei",
          "bulgaria",
          "burkina faso",
          "burundi",
          "cambodia",
          "cameroon",
          "canada",
          "cape verde",
          "caribbean netherlands",
          "cayman islands",
          "central african republic",
          "central america",
          "chad",
          "chile",
          "china",
          "christmas island",
          "colombia",
          "congo",
          "costa rica",
          "cote d'ivoire",
          "croatia",
          "cuba",
          "curaçao",
          "cyprus",
          "czech republic",
          "damam",
          "danemark",
          "democratic republic of the congo",
          "denmark",
          "djibouti",
          "dominica",
          "dominican republic",
          "east germany",
          "ecuador",
          "egypt",
          "el salvador",
          "england",
          "estonia",
          "eswatini",
          "ethiopia",
          "europe",
          "far",
          "faroe islands",
          "fiji",
          "finland",
          "fra",
          "france",
          "france  switzerland  germany",
          "french guiana",
          "french polynesia",
          "gabon",
          "georgia",
          "german democratic republic",
          "germany",
          "ghana",
          "greece",
          "grenada",
          "guam",
          "guatemala",
          "guyana",
          "haiti",
          "honduras",
          "hong kong",
          "hungary",
          "iceland",
          "india",
          "indonesia",
          "iran",
          "iraq",
          "iraqi kurdistan",
          "ireland",
          "isle of man",
          "israel",
          "italy",
          "ivory coast",
          "jamaica",
          "japan",
          "jordan",
          "kazakhstan",
          "kenya",
          "kosovo",
          "kuwait",
          "kyrgyzstan",
          "laos",
          "latin america",
          "latvia",
          "lebanon",
          "lesotho",
          "liberia",
          "libya",
          "liechtenstein",
          "lithuania",
          "luxembourg",
          "macau",
          "madagascar",
          "malaysia",
          "maldives",
          "mali",
          "malta",
          "martinique",
          "mauritania",
          "mauritius",
          "mexico",
          "middle east",
          "middle east and africa",
          "moldavia",
          "moldova",
          "monaco",
          "mongolia",
          "montenegro",
          "montserrat",
          "morocco",
          "mozambique",
          "myanmar",
          "namibia",
          "nepal",
          "netherlands",
          "new zealand",
          "nicaragua",
          "niger",
          "nigeria",
          "none",
          "north korea",
          "north macedonia",
          "norway",
          "oman",
          "pakistan",
          "palestine",
          "panama",
          "paraguay",
          "people's republic of china",
          "peru",
          "philippines",
          "poland",
          "portugal",
          "puerto rico",
          "qatar",
          "republic of ireland",
          "republic of the congo",
          "reunion",
          "romania",
          "russia",
          "rwanda",
          "saint",
          "saint lucia",
          "saint martin",
          "saint pierre and miquelon",
          "saint vincent and the grenadines",
          "salvador",
          "san marino",
          "saudi arabia",
          "senegal",
          "serbia",
          "sicily",
          "sierra leone",
          "singapore",
          "sint maarten",
          "slovakia",
          "slovenia",
          "sn",
          "somalia",
          "south africa",
          "south korea",
          "south sudan",
          "soviet union",
          "spain",
          "spanish",
          "sri lanka",
          "sudan",
          "suriname",
          "sweden",
          "switzerland",
          "syria",
          "taiwan",
          "tajikistan",
          "tanzania",
          "thailand",
          "timor-leste",
          "togo",
          "trinidad and tobago",
          "tunisia",
          "turkey",
          "turks and caicos islands",
          "uganda",
          "ukraine",
          "united arab emirates",
          "united kingdom",
          "united states",
          "united states virgin islands",
          "unknown",
          "uruguay",
          "ussr",
          "uzbekistan",
          "vanuatu",
          "vatican city",
          "venezuela",
          "vietnam",
          "wallis and futuna",
          "west africa",
          "world",
          "yemen",
          "yugoslavia",
          "zambia",
          "нова каледония",
          "францыя",
          "السعودية",
          "الكويت",
          "ریاستہائے متحدہ امریکہ",
          "سلطنة عمان",
          "ประเทศอินเดีย",
          "ประเทศเวียดนาม"
         ],
         "marker": {
          "coloraxis": "coloraxis",
          "colors": [
           0.08744475817255176,
           0.000029442679519377697,
           0.0000883280385581331,
           0.000029442679519377697,
           0.003356465465209058,
           0.0001472133975968885,
           0.002973710631457147,
           0.02358358629502154,
           0.000029442679519377697,
           0.00011777071807751079,
           0.004593058005022921,
           0.0000883280385581331,
           0.000058885359038755394,
           0.05879703100019727,
           0.001177707180775108,
           0.00047108287231004315,
           0.000029442679519377697,
           0.000058885359038755394,
           1.1540647091210476,
           0.09736694117058206,
           0.00026498411567439927,
           0.001001051103658842,
           0.0007655096675038202,
           0.000029442679519377697,
           0.00011777071807751079,
           0.00023554143615502158,
           0.0040925324531935,
           2.212381824445079,
           0.000029442679519377697,
           0.00026498411567439927,
           0.00026498411567439927,
           0.0001472133975968885,
           0.0001766560771162662,
           0.04790323957802752,
           0.000029442679519377697,
           0.004799156761658565,
           0.0000883280385581331,
           0.37533527851302695,
           0.000029442679519377697,
           0.0036803349399222125,
           0.08994738593169888,
           0.0012365925398138634,
           0.000029442679519377697,
           0.002679283836263371,
           0.002267086322992083,
           2.4509558565905967,
           0.0000883280385581331,
           0.0000883280385581331,
           0.000029442679519377697,
           0.0000883280385581331,
           0.000029442679519377697,
           0.00011777071807751079,
           0.01495688119584387,
           0.011070447499286016,
           0.000029442679519377697,
           0.011011562140247259,
           0.000029442679519377697,
           0.0055057810701236295,
           0.0017076754121239065,
           0.025144048309548556,
           0.001560462014527018,
           0.0004121975132712878,
           0.00959831352331713,
           0.08862246535332689,
           0.000029442679519377697,
           0.0024142997205889713,
           0.00047108287231004315,
           0.0843827195025365,
           0.0001472133975968885,
           0.0002060987566356439,
           0.002973710631457147,
           0.0001472133975968885,
           0.002914825272418392,
           0.014161928848820672,
           0.0001472133975968885,
           0.0027970545543408816,
           0.005594109108681763,
           0.0001766560771162662,
           0.0006771816289456871,
           0.007743424713596335,
           8.3515927017486,
           0.000029442679519377697,
           0.0000883280385581331,
           0.08420606342542021,
           0.000029442679519377697,
           30.186401604037183,
           0.000058885359038755394,
           0.0037097776194415896,
           0.009068345291968332,
           0.0007360669879844425,
           0.005800207865317406,
           0.000029442679519377697,
           7.67841527721755,
           0.0005299682313487985,
           0.021493156049145718,
           0.000029442679519377697,
           0.00011777071807751079,
           0.0030620386700152807,
           0.000500525551829421,
           0.0006771816289456871,
           0.002914825272418392,
           0.00883280385581331,
           0.04195581831511322,
           0.0015310193350076403,
           0.10767187900236423,
           0.06121133072078624,
           0.001589904694046396,
           0.006300733417146827,
           0.0000883280385581331,
           1.5939972264995894,
           0.000029442679519377697,
           0.010540479267937218,
           6.8240181602447265,
           0.004121975132712878,
           0.0007360669879844425,
           0.19906195623051265,
           0.001383805937410752,
           0.0010304937831782195,
           0.000029442679519377697,
           0.0003827548337519101,
           0.0014426912964495072,
           0.0003533121542325324,
           0.000058885359038755394,
           0.000029442679519377697,
           0.002443742400108349,
           0.00562355178820114,
           0.000029442679519377697,
           0.000058885359038755394,
           0.001059936462697597,
           0.0003533121542325324,
           0.061476314836460634,
           0.03515455934613697,
           0.0001472133975968885,
           0.0002060987566356439,
           0.02490850687339354,
           0.002002102207317684,
           0.0006477389494263094,
           0.00294426795193777,
           0.0007655096675038202,
           0.00026498411567439927,
           0.002679283836263371,
           0.13090215314315326,
           0.000058885359038755394,
           0.000029442679519377697,
           0.00011777071807751079,
           0.0028853825928990143,
           0.001472133975968885,
           0.00026498411567439927,
           0.002826497233860259,
           0.0007360669879844425,
           0.03671502136066399,
           0.0003533121542325324,
           0.0002060987566356439,
           0.0000883280385581331,
           0.0003238694747131547,
           0.42574114585020145,
           0.07478440597921936,
           0.002649841156743993,
           0.00026498411567439927,
           0.000294426795193777,
           0.3733626189852286,
           0.000058885359038755394,
           0.00256151311818586,
           0.0897707298545826,
           0.0004121975132712878,
           0.002149315604914572,
           0.009156673330526464,
           0.00959831352331713,
           0.013749731335549386,
           0.000029442679519377697,
           0.008391163663022644,
           0.05237852686497292,
           0.23377487538385894,
           0.1058758755516822,
           0.005446895711084874,
           0.020786531740680656,
           0.000058885359038755394,
           0.000294426795193777,
           0.031915864599005424,
           0.0880630544424587,
           0.2728747537855925,
           0.0001472133975968885,
           0.000058885359038755394,
           0.00011777071807751079,
           0.0003827548337519101,
           0.0006182962699069317,
           0.000029442679519377697,
           0.007448997918402558,
           0.0003238694747131547,
           0.06568661800773164,
           0.004328073889348522,
           0.021345942651548832,
           0.000029442679519377697,
           0.000029442679519377697,
           0.07605044119855259,
           0.0000883280385581331,
           0.029884319712168365,
           0.011011562140247259,
           0.0000883280385581331,
           0.0009421657446200863,
           0.04336906693204335,
           0.0027087265157827484,
           0.000029442679519377697,
           0.000029442679519377697,
           8.848320147920022,
           0.000029442679519377697,
           0.001943216848278928,
           0.000029442679519377697,
           0.003385908144728436,
           0.12245210412109185,
           2.4316709015054045,
           0.000294426795193777,
           0.004651943364061677,
           0.0001472133975968885,
           0.000029442679519377697,
           0.05641217395912767,
           0.000029442679519377697,
           0.0004416401927906655,
           0.0006477389494263094,
           0.012778122911409921,
           0.01522186531151827,
           0.000029442679519377697,
           0.000029442679519377697,
           0.0063890614557049604,
           0.016546785889890267,
           3.2035401877854097,
           18.753985802739937,
           0.000058885359038755394,
           0.0010304937831782195,
           0.01024605247274344,
           0.000058885359038755394,
           0.0005299682313487985,
           0.00011777071807751079,
           0.000029442679519377697,
           0.004004204414635368,
           0.002149315604914572,
           0.0000883280385581331,
           0.000029442679519377697,
           1.9486931866695325,
           0.000294426795193777,
           0.000058885359038755394,
           0.00011777071807751079,
           0.000029442679519377697,
           0.00047108287231004315,
           0.001266035219333241,
           0.0003533121542325324,
           0.000029442679519377697,
           0.000029442679519377697,
           0.000029442679519377697,
           0.00011777071807751079
          ]
         },
         "name": "",
         "parents": [
          "",
          "",
          "",
          "",
          "",
          "",
          "",
          "",
          "",
          "",
          "",
          "",
          "",
          "",
          "",
          "",
          "",
          "",
          "",
          "",
          "",
          "",
          "",
          "",
          "",
          "",
          "",
          "",
          "",
          "",
          "",
          "",
          "",
          "",
          "",
          "",
          "",
          "",
          "",
          "",
          "",
          "",
          "",
          "",
          "",
          "",
          "",
          "",
          "",
          "",
          "",
          "",
          "",
          "",
          "",
          "",
          "",
          "",
          "",
          "",
          "",
          "",
          "",
          "",
          "",
          "",
          "",
          "",
          "",
          "",
          "",
          "",
          "",
          "",
          "",
          "",
          "",
          "",
          "",
          "",
          "",
          "",
          "",
          "",
          "",
          "",
          "",
          "",
          "",
          "",
          "",
          "",
          "",
          "",
          "",
          "",
          "",
          "",
          "",
          "",
          "",
          "",
          "",
          "",
          "",
          "",
          "",
          "",
          "",
          "",
          "",
          "",
          "",
          "",
          "",
          "",
          "",
          "",
          "",
          "",
          "",
          "",
          "",
          "",
          "",
          "",
          "",
          "",
          "",
          "",
          "",
          "",
          "",
          "",
          "",
          "",
          "",
          "",
          "",
          "",
          "",
          "",
          "",
          "",
          "",
          "",
          "",
          "",
          "",
          "",
          "",
          "",
          "",
          "",
          "",
          "",
          "",
          "",
          "",
          "",
          "",
          "",
          "",
          "",
          "",
          "",
          "",
          "",
          "",
          "",
          "",
          "",
          "",
          "",
          "",
          "",
          "",
          "",
          "",
          "",
          "",
          "",
          "",
          "",
          "",
          "",
          "",
          "",
          "",
          "",
          "",
          "",
          "",
          "",
          "",
          "",
          "",
          "",
          "",
          "",
          "",
          "",
          "",
          "",
          "",
          "",
          "",
          "",
          "",
          "",
          "",
          "",
          "",
          "",
          "",
          "",
          "",
          "",
          "",
          "",
          "",
          "",
          "",
          "",
          "",
          "",
          "",
          "",
          "",
          "",
          "",
          "",
          "",
          "",
          "",
          "",
          "",
          "",
          "",
          "",
          "",
          "",
          "",
          "",
          "",
          "",
          "",
          "",
          "",
          ""
         ],
         "type": "treemap",
         "values": [
          0.08744475817255176,
          0.000029442679519377697,
          0.0000883280385581331,
          0.000029442679519377697,
          0.003356465465209058,
          0.0001472133975968885,
          0.0029737106314571475,
          0.02358358629502154,
          0.000029442679519377697,
          0.00011777071807751079,
          0.004593058005022921,
          0.0000883280385581331,
          0.000058885359038755394,
          0.05879703100019727,
          0.001177707180775108,
          0.00047108287231004315,
          0.000029442679519377697,
          0.000058885359038755394,
          1.1540647091210476,
          0.09736694117058205,
          0.00026498411567439927,
          0.001001051103658842,
          0.0007655096675038203,
          0.000029442679519377697,
          0.00011777071807751079,
          0.00023554143615502158,
          0.0040925324531935,
          2.212381824445079,
          0.000029442679519377697,
          0.00026498411567439927,
          0.00026498411567439927,
          0.0001472133975968885,
          0.0001766560771162662,
          0.047903239578027515,
          0.000029442679519377697,
          0.004799156761658565,
          0.0000883280385581331,
          0.3753352785130269,
          0.000029442679519377697,
          0.0036803349399222125,
          0.08994738593169888,
          0.0012365925398138634,
          0.000029442679519377697,
          0.002679283836263371,
          0.002267086322992083,
          2.4509558565905967,
          0.0000883280385581331,
          0.0000883280385581331,
          0.000029442679519377697,
          0.0000883280385581331,
          0.000029442679519377697,
          0.00011777071807751079,
          0.01495688119584387,
          0.011070447499286016,
          0.000029442679519377697,
          0.011011562140247259,
          0.000029442679519377697,
          0.0055057810701236295,
          0.0017076754121239065,
          0.025144048309548556,
          0.001560462014527018,
          0.0004121975132712878,
          0.00959831352331713,
          0.08862246535332688,
          0.000029442679519377697,
          0.0024142997205889713,
          0.00047108287231004315,
          0.0843827195025365,
          0.0001472133975968885,
          0.0002060987566356439,
          0.0029737106314571475,
          0.0001472133975968885,
          0.0029148252724183923,
          0.014161928848820674,
          0.0001472133975968885,
          0.0027970545543408816,
          0.005594109108681763,
          0.0001766560771162662,
          0.0006771816289456871,
          0.007743424713596335,
          8.3515927017486,
          0.000029442679519377697,
          0.0000883280385581331,
          0.08420606342542021,
          0.000029442679519377697,
          30.186401604037183,
          0.000058885359038755394,
          0.0037097776194415896,
          0.009068345291968332,
          0.0007360669879844425,
          0.005800207865317406,
          0.000029442679519377697,
          7.678415277217549,
          0.0005299682313487985,
          0.021493156049145718,
          0.000029442679519377697,
          0.00011777071807751079,
          0.003062038670015281,
          0.000500525551829421,
          0.0006771816289456871,
          0.0029148252724183923,
          0.00883280385581331,
          0.04195581831511322,
          0.0015310193350076406,
          0.10767187900236423,
          0.06121133072078624,
          0.001589904694046396,
          0.006300733417146828,
          0.0000883280385581331,
          1.5939972264995894,
          0.000029442679519377697,
          0.010540479267937218,
          6.8240181602447265,
          0.004121975132712878,
          0.0007360669879844425,
          0.19906195623051265,
          0.001383805937410752,
          0.0010304937831782195,
          0.000029442679519377697,
          0.00038275483375191014,
          0.0014426912964495072,
          0.0003533121542325324,
          0.000058885359038755394,
          0.000029442679519377697,
          0.002443742400108349,
          0.005623551788201141,
          0.000029442679519377697,
          0.000058885359038755394,
          0.001059936462697597,
          0.0003533121542325324,
          0.061476314836460634,
          0.03515455934613697,
          0.0001472133975968885,
          0.0002060987566356439,
          0.024908506873393535,
          0.002002102207317684,
          0.0006477389494263094,
          0.00294426795193777,
          0.0007655096675038203,
          0.00026498411567439927,
          0.002679283836263371,
          0.13090215314315326,
          0.000058885359038755394,
          0.000029442679519377697,
          0.00011777071807751079,
          0.0028853825928990143,
          0.001472133975968885,
          0.00026498411567439927,
          0.002826497233860259,
          0.0007360669879844425,
          0.03671502136066399,
          0.0003533121542325324,
          0.0002060987566356439,
          0.0000883280385581331,
          0.0003238694747131547,
          0.4257411458502015,
          0.07478440597921936,
          0.002649841156743993,
          0.00026498411567439927,
          0.000294426795193777,
          0.3733626189852286,
          0.000058885359038755394,
          0.00256151311818586,
          0.0897707298545826,
          0.0004121975132712878,
          0.002149315604914572,
          0.009156673330526464,
          0.00959831352331713,
          0.013749731335549386,
          0.000029442679519377697,
          0.008391163663022644,
          0.05237852686497292,
          0.23377487538385894,
          0.1058758755516822,
          0.005446895711084874,
          0.020786531740680656,
          0.000058885359038755394,
          0.000294426795193777,
          0.031915864599005424,
          0.0880630544424587,
          0.2728747537855925,
          0.0001472133975968885,
          0.000058885359038755394,
          0.00011777071807751079,
          0.00038275483375191014,
          0.0006182962699069317,
          0.000029442679519377697,
          0.007448997918402558,
          0.0003238694747131547,
          0.06568661800773164,
          0.004328073889348522,
          0.021345942651548832,
          0.000029442679519377697,
          0.000029442679519377697,
          0.07605044119855259,
          0.0000883280385581331,
          0.029884319712168365,
          0.011011562140247259,
          0.0000883280385581331,
          0.0009421657446200863,
          0.04336906693204335,
          0.0027087265157827484,
          0.000029442679519377697,
          0.000029442679519377697,
          8.848320147920022,
          0.000029442679519377697,
          0.001943216848278928,
          0.000029442679519377697,
          0.003385908144728436,
          0.12245210412109185,
          2.4316709015054045,
          0.000294426795193777,
          0.004651943364061677,
          0.0001472133975968885,
          0.000029442679519377697,
          0.05641217395912767,
          0.000029442679519377697,
          0.0004416401927906655,
          0.0006477389494263094,
          0.012778122911409921,
          0.01522186531151827,
          0.000029442679519377697,
          0.000029442679519377697,
          0.0063890614557049604,
          0.016546785889890267,
          3.20354018778541,
          18.753985802739937,
          0.000058885359038755394,
          0.0010304937831782195,
          0.01024605247274344,
          0.000058885359038755394,
          0.0005299682313487985,
          0.00011777071807751079,
          0.000029442679519377697,
          0.004004204414635368,
          0.002149315604914572,
          0.0000883280385581331,
          0.000029442679519377697,
          1.9486931866695325,
          0.000294426795193777,
          0.000058885359038755394,
          0.00011777071807751079,
          0.000029442679519377697,
          0.00047108287231004315,
          0.001266035219333241,
          0.0003533121542325324,
          0.000029442679519377697,
          0.000029442679519377697,
          0.000029442679519377697,
          0.00011777071807751079
         ]
        }
       ],
       "layout": {
        "coloraxis": {
         "colorbar": {
          "title": {
           "text": "percentage"
          }
         },
         "colorscale": [
          [
           0,
           "#000004"
          ],
          [
           0.1111111111111111,
           "#180f3d"
          ],
          [
           0.2222222222222222,
           "#440f76"
          ],
          [
           0.3333333333333333,
           "#721f81"
          ],
          [
           0.4444444444444444,
           "#9e2f7f"
          ],
          [
           0.5555555555555556,
           "#cd4071"
          ],
          [
           0.6666666666666666,
           "#f1605d"
          ],
          [
           0.7777777777777778,
           "#fd9668"
          ],
          [
           0.8888888888888888,
           "#feca8d"
          ],
          [
           1,
           "#fcfdbf"
          ]
         ]
        },
        "font": {
         "color": "white"
        },
        "legend": {
         "tracegroupgap": 0
        },
        "paper_bgcolor": "black",
        "plot_bgcolor": "black",
        "template": {
         "data": {
          "bar": [
           {
            "error_x": {
             "color": "#2a3f5f"
            },
            "error_y": {
             "color": "#2a3f5f"
            },
            "marker": {
             "line": {
              "color": "#E5ECF6",
              "width": 0.5
             },
             "pattern": {
              "fillmode": "overlay",
              "size": 10,
              "solidity": 0.2
             }
            },
            "type": "bar"
           }
          ],
          "barpolar": [
           {
            "marker": {
             "line": {
              "color": "#E5ECF6",
              "width": 0.5
             },
             "pattern": {
              "fillmode": "overlay",
              "size": 10,
              "solidity": 0.2
             }
            },
            "type": "barpolar"
           }
          ],
          "carpet": [
           {
            "aaxis": {
             "endlinecolor": "#2a3f5f",
             "gridcolor": "white",
             "linecolor": "white",
             "minorgridcolor": "white",
             "startlinecolor": "#2a3f5f"
            },
            "baxis": {
             "endlinecolor": "#2a3f5f",
             "gridcolor": "white",
             "linecolor": "white",
             "minorgridcolor": "white",
             "startlinecolor": "#2a3f5f"
            },
            "type": "carpet"
           }
          ],
          "choropleth": [
           {
            "colorbar": {
             "outlinewidth": 0,
             "ticks": ""
            },
            "type": "choropleth"
           }
          ],
          "contour": [
           {
            "colorbar": {
             "outlinewidth": 0,
             "ticks": ""
            },
            "colorscale": [
             [
              0,
              "#0d0887"
             ],
             [
              0.1111111111111111,
              "#46039f"
             ],
             [
              0.2222222222222222,
              "#7201a8"
             ],
             [
              0.3333333333333333,
              "#9c179e"
             ],
             [
              0.4444444444444444,
              "#bd3786"
             ],
             [
              0.5555555555555556,
              "#d8576b"
             ],
             [
              0.6666666666666666,
              "#ed7953"
             ],
             [
              0.7777777777777778,
              "#fb9f3a"
             ],
             [
              0.8888888888888888,
              "#fdca26"
             ],
             [
              1,
              "#f0f921"
             ]
            ],
            "type": "contour"
           }
          ],
          "contourcarpet": [
           {
            "colorbar": {
             "outlinewidth": 0,
             "ticks": ""
            },
            "type": "contourcarpet"
           }
          ],
          "heatmap": [
           {
            "colorbar": {
             "outlinewidth": 0,
             "ticks": ""
            },
            "colorscale": [
             [
              0,
              "#0d0887"
             ],
             [
              0.1111111111111111,
              "#46039f"
             ],
             [
              0.2222222222222222,
              "#7201a8"
             ],
             [
              0.3333333333333333,
              "#9c179e"
             ],
             [
              0.4444444444444444,
              "#bd3786"
             ],
             [
              0.5555555555555556,
              "#d8576b"
             ],
             [
              0.6666666666666666,
              "#ed7953"
             ],
             [
              0.7777777777777778,
              "#fb9f3a"
             ],
             [
              0.8888888888888888,
              "#fdca26"
             ],
             [
              1,
              "#f0f921"
             ]
            ],
            "type": "heatmap"
           }
          ],
          "heatmapgl": [
           {
            "colorbar": {
             "outlinewidth": 0,
             "ticks": ""
            },
            "colorscale": [
             [
              0,
              "#0d0887"
             ],
             [
              0.1111111111111111,
              "#46039f"
             ],
             [
              0.2222222222222222,
              "#7201a8"
             ],
             [
              0.3333333333333333,
              "#9c179e"
             ],
             [
              0.4444444444444444,
              "#bd3786"
             ],
             [
              0.5555555555555556,
              "#d8576b"
             ],
             [
              0.6666666666666666,
              "#ed7953"
             ],
             [
              0.7777777777777778,
              "#fb9f3a"
             ],
             [
              0.8888888888888888,
              "#fdca26"
             ],
             [
              1,
              "#f0f921"
             ]
            ],
            "type": "heatmapgl"
           }
          ],
          "histogram": [
           {
            "marker": {
             "pattern": {
              "fillmode": "overlay",
              "size": 10,
              "solidity": 0.2
             }
            },
            "type": "histogram"
           }
          ],
          "histogram2d": [
           {
            "colorbar": {
             "outlinewidth": 0,
             "ticks": ""
            },
            "colorscale": [
             [
              0,
              "#0d0887"
             ],
             [
              0.1111111111111111,
              "#46039f"
             ],
             [
              0.2222222222222222,
              "#7201a8"
             ],
             [
              0.3333333333333333,
              "#9c179e"
             ],
             [
              0.4444444444444444,
              "#bd3786"
             ],
             [
              0.5555555555555556,
              "#d8576b"
             ],
             [
              0.6666666666666666,
              "#ed7953"
             ],
             [
              0.7777777777777778,
              "#fb9f3a"
             ],
             [
              0.8888888888888888,
              "#fdca26"
             ],
             [
              1,
              "#f0f921"
             ]
            ],
            "type": "histogram2d"
           }
          ],
          "histogram2dcontour": [
           {
            "colorbar": {
             "outlinewidth": 0,
             "ticks": ""
            },
            "colorscale": [
             [
              0,
              "#0d0887"
             ],
             [
              0.1111111111111111,
              "#46039f"
             ],
             [
              0.2222222222222222,
              "#7201a8"
             ],
             [
              0.3333333333333333,
              "#9c179e"
             ],
             [
              0.4444444444444444,
              "#bd3786"
             ],
             [
              0.5555555555555556,
              "#d8576b"
             ],
             [
              0.6666666666666666,
              "#ed7953"
             ],
             [
              0.7777777777777778,
              "#fb9f3a"
             ],
             [
              0.8888888888888888,
              "#fdca26"
             ],
             [
              1,
              "#f0f921"
             ]
            ],
            "type": "histogram2dcontour"
           }
          ],
          "mesh3d": [
           {
            "colorbar": {
             "outlinewidth": 0,
             "ticks": ""
            },
            "type": "mesh3d"
           }
          ],
          "parcoords": [
           {
            "line": {
             "colorbar": {
              "outlinewidth": 0,
              "ticks": ""
             }
            },
            "type": "parcoords"
           }
          ],
          "pie": [
           {
            "automargin": true,
            "type": "pie"
           }
          ],
          "scatter": [
           {
            "fillpattern": {
             "fillmode": "overlay",
             "size": 10,
             "solidity": 0.2
            },
            "type": "scatter"
           }
          ],
          "scatter3d": [
           {
            "line": {
             "colorbar": {
              "outlinewidth": 0,
              "ticks": ""
             }
            },
            "marker": {
             "colorbar": {
              "outlinewidth": 0,
              "ticks": ""
             }
            },
            "type": "scatter3d"
           }
          ],
          "scattercarpet": [
           {
            "marker": {
             "colorbar": {
              "outlinewidth": 0,
              "ticks": ""
             }
            },
            "type": "scattercarpet"
           }
          ],
          "scattergeo": [
           {
            "marker": {
             "colorbar": {
              "outlinewidth": 0,
              "ticks": ""
             }
            },
            "type": "scattergeo"
           }
          ],
          "scattergl": [
           {
            "marker": {
             "colorbar": {
              "outlinewidth": 0,
              "ticks": ""
             }
            },
            "type": "scattergl"
           }
          ],
          "scattermapbox": [
           {
            "marker": {
             "colorbar": {
              "outlinewidth": 0,
              "ticks": ""
             }
            },
            "type": "scattermapbox"
           }
          ],
          "scatterpolar": [
           {
            "marker": {
             "colorbar": {
              "outlinewidth": 0,
              "ticks": ""
             }
            },
            "type": "scatterpolar"
           }
          ],
          "scatterpolargl": [
           {
            "marker": {
             "colorbar": {
              "outlinewidth": 0,
              "ticks": ""
             }
            },
            "type": "scatterpolargl"
           }
          ],
          "scatterternary": [
           {
            "marker": {
             "colorbar": {
              "outlinewidth": 0,
              "ticks": ""
             }
            },
            "type": "scatterternary"
           }
          ],
          "surface": [
           {
            "colorbar": {
             "outlinewidth": 0,
             "ticks": ""
            },
            "colorscale": [
             [
              0,
              "#0d0887"
             ],
             [
              0.1111111111111111,
              "#46039f"
             ],
             [
              0.2222222222222222,
              "#7201a8"
             ],
             [
              0.3333333333333333,
              "#9c179e"
             ],
             [
              0.4444444444444444,
              "#bd3786"
             ],
             [
              0.5555555555555556,
              "#d8576b"
             ],
             [
              0.6666666666666666,
              "#ed7953"
             ],
             [
              0.7777777777777778,
              "#fb9f3a"
             ],
             [
              0.8888888888888888,
              "#fdca26"
             ],
             [
              1,
              "#f0f921"
             ]
            ],
            "type": "surface"
           }
          ],
          "table": [
           {
            "cells": {
             "fill": {
              "color": "#EBF0F8"
             },
             "line": {
              "color": "white"
             }
            },
            "header": {
             "fill": {
              "color": "#C8D4E3"
             },
             "line": {
              "color": "white"
             }
            },
            "type": "table"
           }
          ]
         },
         "layout": {
          "annotationdefaults": {
           "arrowcolor": "#2a3f5f",
           "arrowhead": 0,
           "arrowwidth": 1
          },
          "autotypenumbers": "strict",
          "coloraxis": {
           "colorbar": {
            "outlinewidth": 0,
            "ticks": ""
           }
          },
          "colorscale": {
           "diverging": [
            [
             0,
             "#8e0152"
            ],
            [
             0.1,
             "#c51b7d"
            ],
            [
             0.2,
             "#de77ae"
            ],
            [
             0.3,
             "#f1b6da"
            ],
            [
             0.4,
             "#fde0ef"
            ],
            [
             0.5,
             "#f7f7f7"
            ],
            [
             0.6,
             "#e6f5d0"
            ],
            [
             0.7,
             "#b8e186"
            ],
            [
             0.8,
             "#7fbc41"
            ],
            [
             0.9,
             "#4d9221"
            ],
            [
             1,
             "#276419"
            ]
           ],
           "sequential": [
            [
             0,
             "#0d0887"
            ],
            [
             0.1111111111111111,
             "#46039f"
            ],
            [
             0.2222222222222222,
             "#7201a8"
            ],
            [
             0.3333333333333333,
             "#9c179e"
            ],
            [
             0.4444444444444444,
             "#bd3786"
            ],
            [
             0.5555555555555556,
             "#d8576b"
            ],
            [
             0.6666666666666666,
             "#ed7953"
            ],
            [
             0.7777777777777778,
             "#fb9f3a"
            ],
            [
             0.8888888888888888,
             "#fdca26"
            ],
            [
             1,
             "#f0f921"
            ]
           ],
           "sequentialminus": [
            [
             0,
             "#0d0887"
            ],
            [
             0.1111111111111111,
             "#46039f"
            ],
            [
             0.2222222222222222,
             "#7201a8"
            ],
            [
             0.3333333333333333,
             "#9c179e"
            ],
            [
             0.4444444444444444,
             "#bd3786"
            ],
            [
             0.5555555555555556,
             "#d8576b"
            ],
            [
             0.6666666666666666,
             "#ed7953"
            ],
            [
             0.7777777777777778,
             "#fb9f3a"
            ],
            [
             0.8888888888888888,
             "#fdca26"
            ],
            [
             1,
             "#f0f921"
            ]
           ]
          },
          "colorway": [
           "#636efa",
           "#EF553B",
           "#00cc96",
           "#ab63fa",
           "#FFA15A",
           "#19d3f3",
           "#FF6692",
           "#B6E880",
           "#FF97FF",
           "#FECB52"
          ],
          "font": {
           "color": "#2a3f5f"
          },
          "geo": {
           "bgcolor": "white",
           "lakecolor": "white",
           "landcolor": "#E5ECF6",
           "showlakes": true,
           "showland": true,
           "subunitcolor": "white"
          },
          "hoverlabel": {
           "align": "left"
          },
          "hovermode": "closest",
          "mapbox": {
           "style": "light"
          },
          "paper_bgcolor": "white",
          "plot_bgcolor": "#E5ECF6",
          "polar": {
           "angularaxis": {
            "gridcolor": "white",
            "linecolor": "white",
            "ticks": ""
           },
           "bgcolor": "#E5ECF6",
           "radialaxis": {
            "gridcolor": "white",
            "linecolor": "white",
            "ticks": ""
           }
          },
          "scene": {
           "xaxis": {
            "backgroundcolor": "#E5ECF6",
            "gridcolor": "white",
            "gridwidth": 2,
            "linecolor": "white",
            "showbackground": true,
            "ticks": "",
            "zerolinecolor": "white"
           },
           "yaxis": {
            "backgroundcolor": "#E5ECF6",
            "gridcolor": "white",
            "gridwidth": 2,
            "linecolor": "white",
            "showbackground": true,
            "ticks": "",
            "zerolinecolor": "white"
           },
           "zaxis": {
            "backgroundcolor": "#E5ECF6",
            "gridcolor": "white",
            "gridwidth": 2,
            "linecolor": "white",
            "showbackground": true,
            "ticks": "",
            "zerolinecolor": "white"
           }
          },
          "shapedefaults": {
           "line": {
            "color": "#2a3f5f"
           }
          },
          "ternary": {
           "aaxis": {
            "gridcolor": "white",
            "linecolor": "white",
            "ticks": ""
           },
           "baxis": {
            "gridcolor": "white",
            "linecolor": "white",
            "ticks": ""
           },
           "bgcolor": "#E5ECF6",
           "caxis": {
            "gridcolor": "white",
            "linecolor": "white",
            "ticks": ""
           }
          },
          "title": {
           "x": 0.05
          },
          "xaxis": {
           "automargin": true,
           "gridcolor": "white",
           "linecolor": "white",
           "ticks": "",
           "title": {
            "standoff": 15
           },
           "zerolinecolor": "white",
           "zerolinewidth": 2
          },
          "yaxis": {
           "automargin": true,
           "gridcolor": "white",
           "linecolor": "white",
           "ticks": "",
           "title": {
            "standoff": 15
           },
           "zerolinecolor": "white",
           "zerolinewidth": 2
          }
         }
        },
        "title": {
         "text": "countries treemap"
        }
       }
      }
     },
     "metadata": {},
     "output_type": "display_data"
    }
   ],
   "source": [
    "df = pd.DataFrame(data_graph_countries)\n",
    "fig = px.treemap(df, path=['countries'], values='percentage',\n",
    "                 color='percentage', color_continuous_scale='Magma',\n",
    "                 title='countries treemap')\n",
    "fig.update_layout(\n",
    "    paper_bgcolor='black',  \n",
    "    plot_bgcolor='black',   \n",
    "    font_color='white'      \n",
    ")\n",
    "fig.show()"
   ]
  },
  {
   "cell_type": "markdown",
   "metadata": {},
   "source": [
    "# ECOSCORE GRAD:"
   ]
  },
  {
   "cell_type": "code",
   "execution_count": 7,
   "metadata": {},
   "outputs": [
    {
     "name": "stdout",
     "output_type": "stream",
     "text": [
      "999.0: 74.62%\n",
      "55.0: 0.23%\n",
      "69.0: 0.18%\n",
      "74.0: 0.31%\n",
      "25.0: 0.34%\n",
      "14.0: 0.10%\n",
      "78.0: 0.36%\n",
      "41.0: 0.17%\n",
      "15.0: 0.43%\n",
      "57.0: 0.24%\n",
      "65.0: 0.16%\n",
      "75.0: 0.48%\n",
      "95.0: 0.03%\n",
      "32.0: 0.20%\n",
      "67.0: 1.32%\n",
      "21.0: 0.50%\n",
      "31.0: 0.16%\n",
      "72.0: 0.99%\n",
      "49.0: 0.65%\n",
      "19.0: 0.32%\n",
      "79.0: 1.84%\n",
      "82.0: 0.06%\n",
      "50.0: 0.43%\n",
      "60.0: 0.38%\n",
      "76.0: 0.38%\n",
      "100.0: 0.31%\n",
      "51.0: 0.22%\n",
      "43.0: 0.39%\n",
      "77.0: 0.51%\n",
      "59.0: 0.21%\n",
      "63.0: 0.22%\n",
      "3.0: 0.08%\n",
      "34.0: 0.92%\n",
      "58.0: 0.26%\n",
      "56.0: 0.17%\n",
      "39.0: 0.51%\n",
      "1.0: 0.07%\n",
      "22.0: 0.26%\n",
      "27.0: 0.45%\n",
      "91.0: 0.07%\n",
      "45.0: 0.33%\n",
      "26.0: 0.13%\n",
      "18.0: 0.20%\n",
      "44.0: 0.38%\n",
      "36.0: 0.36%\n",
      "71.0: 0.27%\n",
      "53.0: 0.19%\n",
      "97.0: 0.02%\n",
      "66.0: 0.22%\n",
      "0.0: 0.62%\n",
      "64.0: 0.24%\n",
      "5.0: 0.10%\n",
      "73.0: 0.22%\n",
      "29.0: 0.21%\n",
      "54.0: 0.35%\n",
      "38.0: 0.31%\n",
      "28.0: 0.19%\n",
      "61.0: 0.15%\n",
      "37.0: 0.39%\n",
      "6.0: 0.11%\n",
      "2.0: 0.12%\n",
      "84.0: 0.04%\n",
      "70.0: 0.29%\n",
      "42.0: 0.46%\n",
      "35.0: 0.31%\n",
      "33.0: 0.12%\n",
      "68.0: 0.28%\n",
      "94.0: 0.04%\n",
      "8.0: 0.10%\n",
      "30.0: 0.27%\n",
      "89.0: 0.04%\n",
      "62.0: 0.22%\n",
      "16.0: 0.27%\n",
      "85.0: 0.08%\n",
      "48.0: 0.21%\n",
      "4.0: 0.19%\n",
      "11.0: 0.05%\n",
      "47.0: 0.21%\n",
      "20.0: 0.11%\n",
      "96.0: 0.03%\n",
      "12.0: 0.33%\n",
      "7.0: 0.03%\n",
      "9.0: 0.14%\n",
      "40.0: 0.20%\n",
      "46.0: 0.13%\n",
      "24.0: 0.15%\n",
      "90.0: 0.05%\n",
      "23.0: 0.17%\n",
      "17.0: 0.13%\n",
      "83.0: 0.06%\n",
      "52.0: 0.17%\n",
      "88.0: 0.04%\n",
      "81.0: 0.09%\n",
      "13.0: 0.07%\n",
      "10.0: 0.04%\n",
      "87.0: 0.04%\n",
      "92.0: 0.04%\n",
      "80.0: 0.07%\n",
      "98.0: 0.02%\n",
      "86.0: 0.03%\n",
      "93.0: 0.03%\n",
      "99.0: 0.03%\n",
      "78.4170138324: 0.00%\n"
     ]
    }
   ],
   "source": [
    "# retourne une liste des notes écoscores présentes dans le fichier\n",
    "def extract_grad_ecoscore_from_jsonl(file_path):\n",
    "    ecoscore_grad_list = []\n",
    "    with open(file_path, 'r', encoding='utf-8') as file:\n",
    "        for line in file:\n",
    "            try:\n",
    "                record = json.loads(line)\n",
    "                ecoscore_grad = record.get('ecoscore_note')\n",
    "                if ecoscore_grad is not None:\n",
    "                    ecoscore_grad_list.append(ecoscore_grad)\n",
    "            except json.JSONDecodeError:\n",
    "                print(f\"WARNING line: {line} in {file_path}\")\n",
    "    return ecoscore_grad_list\n",
    "ecoscore_grad_list = extract_grad_ecoscore_from_jsonl(jsonl_02)\n",
    "\n",
    "ecoscore_grad_counts = Counter(ecoscore_grad_list)\n",
    "total_ecoscore_grads = sum(ecoscore_grad_counts.values())\n",
    "data_graph_ecoscore_grad = []\n",
    "for ecoscore_grad, count in ecoscore_grad_counts.items():\n",
    "    percentage = (count / total_ecoscore_grads) * 100\n",
    "    print(f\"{ecoscore_grad}: {percentage:.2f}%\")\n",
    "    data_graph_ecoscore_grad.append({'ecoscore_grad': ecoscore_grad, 'percentage': percentage})"
   ]
  },
  {
   "cell_type": "code",
   "execution_count": 8,
   "metadata": {},
   "outputs": [
    {
     "data": {
      "application/vnd.plotly.v1+json": {
       "config": {
        "plotlyServerURL": "https://plot.ly"
       },
       "data": [
        {
         "branchvalues": "total",
         "customdata": [
          [
           0.617056487306271
          ],
          [
           0.06646046719316867
          ],
          [
           0.11797362287272223
          ],
          [
           0.08103016241591351
          ],
          [
           0.18861933728970315
          ],
          [
           0.09887253215953405
          ],
          [
           0.10913110806150993
          ],
          [
           0.03052398351201402
          ],
          [
           0.09959629671703545
          ],
          [
           0.14129142883396179
          ],
          [
           0.043614681595516944
          ],
          [
           0.047296440431502135
          ],
          [
           0.3324596760870393
          ],
          [
           0.07338343252579041
          ],
          [
           0.10082354966236384
          ],
          [
           0.42837421396808956
          ],
          [
           0.2708138166024666
          ],
          [
           0.1348404838649279
          ],
          [
           0.20466802965168987
          ],
          [
           0.3209109111912567
          ],
          [
           0.11492122452152083
          ],
          [
           0.4984220359245259
          ],
          [
           0.2602405604580989
          ],
          [
           0.16999026694010283
          ],
          [
           0.15123532449354574
          ],
          [
           0.33818685649857183
          ],
          [
           0.127886050508067
          ],
          [
           0.45027595883856564
          ],
          [
           0.18975218616231396
          ],
          [
           0.2134476084144238
          ],
          [
           0.2730795143476883
          ],
          [
           0.15762333341410126
          ],
          [
           0.20347224473060066
          ],
          [
           0.12215887009653446
          ],
          [
           0.9182369472995557
          ],
          [
           0.3099915067802579
          ],
          [
           0.3573508832602384
          ],
          [
           0.3897000121781254
          ],
          [
           0.3085125096410159
          ],
          [
           0.5078309751720436
          ],
          [
           0.20447922150625472
          ],
          [
           0.1672525488312933
          ],
          [
           0.4621708720009793
          ],
          [
           0.3857979771724659
          ],
          [
           0.3829343869666996
          ],
          [
           0.32858910910561895
          ],
          [
           0.12867275111404672
          ],
          [
           0.20687079134843317
          ],
          [
           0.2110875065964846
          ],
          [
           0.6513251657027487
          ],
          [
           0.4266749406591733
          ],
          [
           0.21785313180791038
          ],
          [
           0.16656025229803115
          ],
          [
           0.1891228256775302
          ],
          [
           0.3535432523272964
          ],
          [
           0.23201374271554576
          ],
          [
           0.1673154848797717
          ],
          [
           0.2419261703508905
          ],
          [
           0.25589797311309076
          ],
          [
           0.21266090780844404
          ],
          [
           0.3780568432096251
          ],
          [
           0.14824586219082272
          ],
          [
           0.2198356173349793
          ],
          [
           0.21731817539584414
          ],
          [
           0.23837028361186208
          ],
          [
           0.16259528124389322
          ],
          [
           0.21785313180791038
          ],
          [
           1.316842410337372
          ],
          [
           0.28258285766792357
          ],
          [
           0.1786125055816408
          ],
          [
           0.2910792242125049
          ],
          [
           0.2738032789051897
          ],
          [
           0.9902043187345826
          ],
          [
           0.21517834974757924
          ],
          [
           0.3132327132768944
          ],
          [
           0.47535597415719977
          ],
          [
           0.37764775889451574
          ],
          [
           0.5088694199719368
          ],
          [
           0.3597424531024168
          ],
          [
           0.00003146802423918971
          ],
          [
           1.8421066709379261
          ],
          [
           0.07121213885328631
          ],
          [
           0.08911744464538526
          ],
          [
           0.05755501633347798
          ],
          [
           0.0645409177145781
          ],
          [
           0.04348880949856018
          ],
          [
           0.0798029094705851
          ],
          [
           0.030240771293861313
          ],
          [
           0.03571620751148032
          ],
          [
           0.04323706530464666
          ],
          [
           0.040782559413989866
          ],
          [
           0.054125001691406306
          ],
          [
           0.0651388101751227
          ],
          [
           0.040153198929206074
          ],
          [
           0.03275821323299649
          ],
          [
           0.03666024823865601
          ],
          [
           0.02614992814276665
          ],
          [
           0.02618139616700584
          ],
          [
           0.02076889599786521
          ],
          [
           0.020831832046343587
          ],
          [
           0.02511148334287339
          ],
          [
           0.3086069137137335
          ],
          [
           74.61745109633023
          ]
         ],
         "domain": {
          "x": [
           0,
           1
          ],
          "y": [
           0,
           1
          ]
         },
         "hovertemplate": "labels=%{label}<br>percentage_sum=%{value}<br>parent=%{parent}<br>id=%{id}<br>percentage=%{color}<extra></extra>",
         "ids": [
          "0.0",
          "1.0",
          "2.0",
          "3.0",
          "4.0",
          "5.0",
          "6.0",
          "7.0",
          "8.0",
          "9.0",
          "10.0",
          "11.0",
          "12.0",
          "13.0",
          "14.0",
          "15.0",
          "16.0",
          "17.0",
          "18.0",
          "19.0",
          "20.0",
          "21.0",
          "22.0",
          "23.0",
          "24.0",
          "25.0",
          "26.0",
          "27.0",
          "28.0",
          "29.0",
          "30.0",
          "31.0",
          "32.0",
          "33.0",
          "34.0",
          "35.0",
          "36.0",
          "37.0",
          "38.0",
          "39.0",
          "40.0",
          "41.0",
          "42.0",
          "43.0",
          "44.0",
          "45.0",
          "46.0",
          "47.0",
          "48.0",
          "49.0",
          "50.0",
          "51.0",
          "52.0",
          "53.0",
          "54.0",
          "55.0",
          "56.0",
          "57.0",
          "58.0",
          "59.0",
          "60.0",
          "61.0",
          "62.0",
          "63.0",
          "64.0",
          "65.0",
          "66.0",
          "67.0",
          "68.0",
          "69.0",
          "70.0",
          "71.0",
          "72.0",
          "73.0",
          "74.0",
          "75.0",
          "76.0",
          "77.0",
          "78.0",
          "78.4170138324",
          "79.0",
          "80.0",
          "81.0",
          "82.0",
          "83.0",
          "84.0",
          "85.0",
          "86.0",
          "87.0",
          "88.0",
          "89.0",
          "90.0",
          "91.0",
          "92.0",
          "93.0",
          "94.0",
          "95.0",
          "96.0",
          "97.0",
          "98.0",
          "99.0",
          "100.0",
          "999.0"
         ],
         "labels": [
          "0.0",
          "1.0",
          "2.0",
          "3.0",
          "4.0",
          "5.0",
          "6.0",
          "7.0",
          "8.0",
          "9.0",
          "10.0",
          "11.0",
          "12.0",
          "13.0",
          "14.0",
          "15.0",
          "16.0",
          "17.0",
          "18.0",
          "19.0",
          "20.0",
          "21.0",
          "22.0",
          "23.0",
          "24.0",
          "25.0",
          "26.0",
          "27.0",
          "28.0",
          "29.0",
          "30.0",
          "31.0",
          "32.0",
          "33.0",
          "34.0",
          "35.0",
          "36.0",
          "37.0",
          "38.0",
          "39.0",
          "40.0",
          "41.0",
          "42.0",
          "43.0",
          "44.0",
          "45.0",
          "46.0",
          "47.0",
          "48.0",
          "49.0",
          "50.0",
          "51.0",
          "52.0",
          "53.0",
          "54.0",
          "55.0",
          "56.0",
          "57.0",
          "58.0",
          "59.0",
          "60.0",
          "61.0",
          "62.0",
          "63.0",
          "64.0",
          "65.0",
          "66.0",
          "67.0",
          "68.0",
          "69.0",
          "70.0",
          "71.0",
          "72.0",
          "73.0",
          "74.0",
          "75.0",
          "76.0",
          "77.0",
          "78.0",
          "78.4170138324",
          "79.0",
          "80.0",
          "81.0",
          "82.0",
          "83.0",
          "84.0",
          "85.0",
          "86.0",
          "87.0",
          "88.0",
          "89.0",
          "90.0",
          "91.0",
          "92.0",
          "93.0",
          "94.0",
          "95.0",
          "96.0",
          "97.0",
          "98.0",
          "99.0",
          "100.0",
          "999.0"
         ],
         "marker": {
          "coloraxis": "coloraxis",
          "colors": [
           0.617056487306271,
           0.06646046719316867,
           0.11797362287272223,
           0.08103016241591351,
           0.18861933728970315,
           0.09887253215953405,
           0.10913110806150993,
           0.03052398351201402,
           0.09959629671703545,
           0.14129142883396179,
           0.043614681595516944,
           0.047296440431502135,
           0.3324596760870393,
           0.07338343252579041,
           0.10082354966236384,
           0.42837421396808956,
           0.2708138166024666,
           0.1348404838649279,
           0.20466802965168987,
           0.3209109111912567,
           0.11492122452152083,
           0.4984220359245259,
           0.2602405604580989,
           0.16999026694010283,
           0.15123532449354574,
           0.33818685649857183,
           0.127886050508067,
           0.45027595883856564,
           0.18975218616231396,
           0.2134476084144238,
           0.2730795143476883,
           0.15762333341410126,
           0.20347224473060066,
           0.12215887009653446,
           0.9182369472995557,
           0.3099915067802579,
           0.3573508832602384,
           0.3897000121781254,
           0.3085125096410159,
           0.5078309751720436,
           0.20447922150625472,
           0.1672525488312933,
           0.4621708720009793,
           0.3857979771724659,
           0.3829343869666996,
           0.32858910910561895,
           0.12867275111404672,
           0.20687079134843317,
           0.2110875065964846,
           0.6513251657027487,
           0.4266749406591733,
           0.21785313180791038,
           0.16656025229803115,
           0.1891228256775302,
           0.3535432523272964,
           0.23201374271554576,
           0.1673154848797717,
           0.2419261703508905,
           0.25589797311309076,
           0.21266090780844404,
           0.3780568432096251,
           0.14824586219082272,
           0.2198356173349793,
           0.21731817539584414,
           0.23837028361186208,
           0.16259528124389322,
           0.21785313180791038,
           1.316842410337372,
           0.28258285766792357,
           0.1786125055816408,
           0.2910792242125049,
           0.2738032789051897,
           0.9902043187345826,
           0.21517834974757924,
           0.3132327132768944,
           0.47535597415719977,
           0.37764775889451574,
           0.5088694199719368,
           0.3597424531024168,
           0.00003146802423918971,
           1.8421066709379261,
           0.07121213885328631,
           0.08911744464538526,
           0.05755501633347798,
           0.0645409177145781,
           0.04348880949856018,
           0.0798029094705851,
           0.030240771293861313,
           0.03571620751148032,
           0.04323706530464666,
           0.040782559413989866,
           0.054125001691406306,
           0.0651388101751227,
           0.040153198929206074,
           0.03275821323299649,
           0.03666024823865601,
           0.02614992814276665,
           0.02618139616700584,
           0.02076889599786521,
           0.020831832046343587,
           0.02511148334287339,
           0.3086069137137335,
           74.61745109633023
          ]
         },
         "name": "",
         "parents": [
          "",
          "",
          "",
          "",
          "",
          "",
          "",
          "",
          "",
          "",
          "",
          "",
          "",
          "",
          "",
          "",
          "",
          "",
          "",
          "",
          "",
          "",
          "",
          "",
          "",
          "",
          "",
          "",
          "",
          "",
          "",
          "",
          "",
          "",
          "",
          "",
          "",
          "",
          "",
          "",
          "",
          "",
          "",
          "",
          "",
          "",
          "",
          "",
          "",
          "",
          "",
          "",
          "",
          "",
          "",
          "",
          "",
          "",
          "",
          "",
          "",
          "",
          "",
          "",
          "",
          "",
          "",
          "",
          "",
          "",
          "",
          "",
          "",
          "",
          "",
          "",
          "",
          "",
          "",
          "",
          "",
          "",
          "",
          "",
          "",
          "",
          "",
          "",
          "",
          "",
          "",
          "",
          "",
          "",
          "",
          "",
          "",
          "",
          "",
          "",
          "",
          "",
          ""
         ],
         "type": "treemap",
         "values": [
          0.617056487306271,
          0.06646046719316867,
          0.11797362287272223,
          0.08103016241591351,
          0.18861933728970315,
          0.09887253215953407,
          0.10913110806150993,
          0.03052398351201402,
          0.09959629671703545,
          0.14129142883396179,
          0.043614681595516944,
          0.047296440431502135,
          0.3324596760870393,
          0.07338343252579041,
          0.10082354966236384,
          0.42837421396808956,
          0.2708138166024666,
          0.1348404838649279,
          0.20466802965168987,
          0.3209109111912567,
          0.11492122452152083,
          0.4984220359245259,
          0.2602405604580989,
          0.16999026694010283,
          0.15123532449354574,
          0.33818685649857183,
          0.127886050508067,
          0.4502759588385656,
          0.18975218616231396,
          0.2134476084144238,
          0.2730795143476883,
          0.15762333341410126,
          0.20347224473060066,
          0.12215887009653446,
          0.9182369472995557,
          0.3099915067802579,
          0.3573508832602384,
          0.3897000121781254,
          0.3085125096410159,
          0.5078309751720436,
          0.20447922150625472,
          0.1672525488312933,
          0.4621708720009793,
          0.3857979771724659,
          0.38293438696669957,
          0.32858910910561895,
          0.12867275111404672,
          0.20687079134843314,
          0.2110875065964846,
          0.6513251657027487,
          0.4266749406591733,
          0.21785313180791038,
          0.16656025229803115,
          0.18912282567753017,
          0.3535432523272964,
          0.23201374271554576,
          0.1673154848797717,
          0.2419261703508905,
          0.25589797311309076,
          0.21266090780844407,
          0.3780568432096252,
          0.14824586219082272,
          0.2198356173349793,
          0.21731817539584414,
          0.23837028361186208,
          0.16259528124389322,
          0.21785313180791038,
          1.316842410337372,
          0.28258285766792357,
          0.1786125055816408,
          0.2910792242125049,
          0.2738032789051897,
          0.9902043187345826,
          0.21517834974757924,
          0.3132327132768944,
          0.47535597415719977,
          0.37764775889451574,
          0.5088694199719368,
          0.3597424531024168,
          0.00003146802423918971,
          1.8421066709379263,
          0.07121213885328631,
          0.08911744464538526,
          0.05755501633347798,
          0.0645409177145781,
          0.04348880949856018,
          0.0798029094705851,
          0.030240771293861313,
          0.03571620751148032,
          0.04323706530464666,
          0.040782559413989866,
          0.0541250016914063,
          0.0651388101751227,
          0.040153198929206074,
          0.03275821323299649,
          0.03666024823865601,
          0.02614992814276665,
          0.02618139616700584,
          0.02076889599786521,
          0.020831832046343587,
          0.02511148334287339,
          0.3086069137137335,
          74.61745109633023
         ]
        }
       ],
       "layout": {
        "coloraxis": {
         "colorbar": {
          "title": {
           "text": "percentage"
          }
         },
         "colorscale": [
          [
           0,
           "#000004"
          ],
          [
           0.1111111111111111,
           "#180f3d"
          ],
          [
           0.2222222222222222,
           "#440f76"
          ],
          [
           0.3333333333333333,
           "#721f81"
          ],
          [
           0.4444444444444444,
           "#9e2f7f"
          ],
          [
           0.5555555555555556,
           "#cd4071"
          ],
          [
           0.6666666666666666,
           "#f1605d"
          ],
          [
           0.7777777777777778,
           "#fd9668"
          ],
          [
           0.8888888888888888,
           "#feca8d"
          ],
          [
           1,
           "#fcfdbf"
          ]
         ]
        },
        "font": {
         "color": "white"
        },
        "legend": {
         "tracegroupgap": 0
        },
        "paper_bgcolor": "black",
        "plot_bgcolor": "black",
        "template": {
         "data": {
          "bar": [
           {
            "error_x": {
             "color": "#2a3f5f"
            },
            "error_y": {
             "color": "#2a3f5f"
            },
            "marker": {
             "line": {
              "color": "#E5ECF6",
              "width": 0.5
             },
             "pattern": {
              "fillmode": "overlay",
              "size": 10,
              "solidity": 0.2
             }
            },
            "type": "bar"
           }
          ],
          "barpolar": [
           {
            "marker": {
             "line": {
              "color": "#E5ECF6",
              "width": 0.5
             },
             "pattern": {
              "fillmode": "overlay",
              "size": 10,
              "solidity": 0.2
             }
            },
            "type": "barpolar"
           }
          ],
          "carpet": [
           {
            "aaxis": {
             "endlinecolor": "#2a3f5f",
             "gridcolor": "white",
             "linecolor": "white",
             "minorgridcolor": "white",
             "startlinecolor": "#2a3f5f"
            },
            "baxis": {
             "endlinecolor": "#2a3f5f",
             "gridcolor": "white",
             "linecolor": "white",
             "minorgridcolor": "white",
             "startlinecolor": "#2a3f5f"
            },
            "type": "carpet"
           }
          ],
          "choropleth": [
           {
            "colorbar": {
             "outlinewidth": 0,
             "ticks": ""
            },
            "type": "choropleth"
           }
          ],
          "contour": [
           {
            "colorbar": {
             "outlinewidth": 0,
             "ticks": ""
            },
            "colorscale": [
             [
              0,
              "#0d0887"
             ],
             [
              0.1111111111111111,
              "#46039f"
             ],
             [
              0.2222222222222222,
              "#7201a8"
             ],
             [
              0.3333333333333333,
              "#9c179e"
             ],
             [
              0.4444444444444444,
              "#bd3786"
             ],
             [
              0.5555555555555556,
              "#d8576b"
             ],
             [
              0.6666666666666666,
              "#ed7953"
             ],
             [
              0.7777777777777778,
              "#fb9f3a"
             ],
             [
              0.8888888888888888,
              "#fdca26"
             ],
             [
              1,
              "#f0f921"
             ]
            ],
            "type": "contour"
           }
          ],
          "contourcarpet": [
           {
            "colorbar": {
             "outlinewidth": 0,
             "ticks": ""
            },
            "type": "contourcarpet"
           }
          ],
          "heatmap": [
           {
            "colorbar": {
             "outlinewidth": 0,
             "ticks": ""
            },
            "colorscale": [
             [
              0,
              "#0d0887"
             ],
             [
              0.1111111111111111,
              "#46039f"
             ],
             [
              0.2222222222222222,
              "#7201a8"
             ],
             [
              0.3333333333333333,
              "#9c179e"
             ],
             [
              0.4444444444444444,
              "#bd3786"
             ],
             [
              0.5555555555555556,
              "#d8576b"
             ],
             [
              0.6666666666666666,
              "#ed7953"
             ],
             [
              0.7777777777777778,
              "#fb9f3a"
             ],
             [
              0.8888888888888888,
              "#fdca26"
             ],
             [
              1,
              "#f0f921"
             ]
            ],
            "type": "heatmap"
           }
          ],
          "heatmapgl": [
           {
            "colorbar": {
             "outlinewidth": 0,
             "ticks": ""
            },
            "colorscale": [
             [
              0,
              "#0d0887"
             ],
             [
              0.1111111111111111,
              "#46039f"
             ],
             [
              0.2222222222222222,
              "#7201a8"
             ],
             [
              0.3333333333333333,
              "#9c179e"
             ],
             [
              0.4444444444444444,
              "#bd3786"
             ],
             [
              0.5555555555555556,
              "#d8576b"
             ],
             [
              0.6666666666666666,
              "#ed7953"
             ],
             [
              0.7777777777777778,
              "#fb9f3a"
             ],
             [
              0.8888888888888888,
              "#fdca26"
             ],
             [
              1,
              "#f0f921"
             ]
            ],
            "type": "heatmapgl"
           }
          ],
          "histogram": [
           {
            "marker": {
             "pattern": {
              "fillmode": "overlay",
              "size": 10,
              "solidity": 0.2
             }
            },
            "type": "histogram"
           }
          ],
          "histogram2d": [
           {
            "colorbar": {
             "outlinewidth": 0,
             "ticks": ""
            },
            "colorscale": [
             [
              0,
              "#0d0887"
             ],
             [
              0.1111111111111111,
              "#46039f"
             ],
             [
              0.2222222222222222,
              "#7201a8"
             ],
             [
              0.3333333333333333,
              "#9c179e"
             ],
             [
              0.4444444444444444,
              "#bd3786"
             ],
             [
              0.5555555555555556,
              "#d8576b"
             ],
             [
              0.6666666666666666,
              "#ed7953"
             ],
             [
              0.7777777777777778,
              "#fb9f3a"
             ],
             [
              0.8888888888888888,
              "#fdca26"
             ],
             [
              1,
              "#f0f921"
             ]
            ],
            "type": "histogram2d"
           }
          ],
          "histogram2dcontour": [
           {
            "colorbar": {
             "outlinewidth": 0,
             "ticks": ""
            },
            "colorscale": [
             [
              0,
              "#0d0887"
             ],
             [
              0.1111111111111111,
              "#46039f"
             ],
             [
              0.2222222222222222,
              "#7201a8"
             ],
             [
              0.3333333333333333,
              "#9c179e"
             ],
             [
              0.4444444444444444,
              "#bd3786"
             ],
             [
              0.5555555555555556,
              "#d8576b"
             ],
             [
              0.6666666666666666,
              "#ed7953"
             ],
             [
              0.7777777777777778,
              "#fb9f3a"
             ],
             [
              0.8888888888888888,
              "#fdca26"
             ],
             [
              1,
              "#f0f921"
             ]
            ],
            "type": "histogram2dcontour"
           }
          ],
          "mesh3d": [
           {
            "colorbar": {
             "outlinewidth": 0,
             "ticks": ""
            },
            "type": "mesh3d"
           }
          ],
          "parcoords": [
           {
            "line": {
             "colorbar": {
              "outlinewidth": 0,
              "ticks": ""
             }
            },
            "type": "parcoords"
           }
          ],
          "pie": [
           {
            "automargin": true,
            "type": "pie"
           }
          ],
          "scatter": [
           {
            "fillpattern": {
             "fillmode": "overlay",
             "size": 10,
             "solidity": 0.2
            },
            "type": "scatter"
           }
          ],
          "scatter3d": [
           {
            "line": {
             "colorbar": {
              "outlinewidth": 0,
              "ticks": ""
             }
            },
            "marker": {
             "colorbar": {
              "outlinewidth": 0,
              "ticks": ""
             }
            },
            "type": "scatter3d"
           }
          ],
          "scattercarpet": [
           {
            "marker": {
             "colorbar": {
              "outlinewidth": 0,
              "ticks": ""
             }
            },
            "type": "scattercarpet"
           }
          ],
          "scattergeo": [
           {
            "marker": {
             "colorbar": {
              "outlinewidth": 0,
              "ticks": ""
             }
            },
            "type": "scattergeo"
           }
          ],
          "scattergl": [
           {
            "marker": {
             "colorbar": {
              "outlinewidth": 0,
              "ticks": ""
             }
            },
            "type": "scattergl"
           }
          ],
          "scattermapbox": [
           {
            "marker": {
             "colorbar": {
              "outlinewidth": 0,
              "ticks": ""
             }
            },
            "type": "scattermapbox"
           }
          ],
          "scatterpolar": [
           {
            "marker": {
             "colorbar": {
              "outlinewidth": 0,
              "ticks": ""
             }
            },
            "type": "scatterpolar"
           }
          ],
          "scatterpolargl": [
           {
            "marker": {
             "colorbar": {
              "outlinewidth": 0,
              "ticks": ""
             }
            },
            "type": "scatterpolargl"
           }
          ],
          "scatterternary": [
           {
            "marker": {
             "colorbar": {
              "outlinewidth": 0,
              "ticks": ""
             }
            },
            "type": "scatterternary"
           }
          ],
          "surface": [
           {
            "colorbar": {
             "outlinewidth": 0,
             "ticks": ""
            },
            "colorscale": [
             [
              0,
              "#0d0887"
             ],
             [
              0.1111111111111111,
              "#46039f"
             ],
             [
              0.2222222222222222,
              "#7201a8"
             ],
             [
              0.3333333333333333,
              "#9c179e"
             ],
             [
              0.4444444444444444,
              "#bd3786"
             ],
             [
              0.5555555555555556,
              "#d8576b"
             ],
             [
              0.6666666666666666,
              "#ed7953"
             ],
             [
              0.7777777777777778,
              "#fb9f3a"
             ],
             [
              0.8888888888888888,
              "#fdca26"
             ],
             [
              1,
              "#f0f921"
             ]
            ],
            "type": "surface"
           }
          ],
          "table": [
           {
            "cells": {
             "fill": {
              "color": "#EBF0F8"
             },
             "line": {
              "color": "white"
             }
            },
            "header": {
             "fill": {
              "color": "#C8D4E3"
             },
             "line": {
              "color": "white"
             }
            },
            "type": "table"
           }
          ]
         },
         "layout": {
          "annotationdefaults": {
           "arrowcolor": "#2a3f5f",
           "arrowhead": 0,
           "arrowwidth": 1
          },
          "autotypenumbers": "strict",
          "coloraxis": {
           "colorbar": {
            "outlinewidth": 0,
            "ticks": ""
           }
          },
          "colorscale": {
           "diverging": [
            [
             0,
             "#8e0152"
            ],
            [
             0.1,
             "#c51b7d"
            ],
            [
             0.2,
             "#de77ae"
            ],
            [
             0.3,
             "#f1b6da"
            ],
            [
             0.4,
             "#fde0ef"
            ],
            [
             0.5,
             "#f7f7f7"
            ],
            [
             0.6,
             "#e6f5d0"
            ],
            [
             0.7,
             "#b8e186"
            ],
            [
             0.8,
             "#7fbc41"
            ],
            [
             0.9,
             "#4d9221"
            ],
            [
             1,
             "#276419"
            ]
           ],
           "sequential": [
            [
             0,
             "#0d0887"
            ],
            [
             0.1111111111111111,
             "#46039f"
            ],
            [
             0.2222222222222222,
             "#7201a8"
            ],
            [
             0.3333333333333333,
             "#9c179e"
            ],
            [
             0.4444444444444444,
             "#bd3786"
            ],
            [
             0.5555555555555556,
             "#d8576b"
            ],
            [
             0.6666666666666666,
             "#ed7953"
            ],
            [
             0.7777777777777778,
             "#fb9f3a"
            ],
            [
             0.8888888888888888,
             "#fdca26"
            ],
            [
             1,
             "#f0f921"
            ]
           ],
           "sequentialminus": [
            [
             0,
             "#0d0887"
            ],
            [
             0.1111111111111111,
             "#46039f"
            ],
            [
             0.2222222222222222,
             "#7201a8"
            ],
            [
             0.3333333333333333,
             "#9c179e"
            ],
            [
             0.4444444444444444,
             "#bd3786"
            ],
            [
             0.5555555555555556,
             "#d8576b"
            ],
            [
             0.6666666666666666,
             "#ed7953"
            ],
            [
             0.7777777777777778,
             "#fb9f3a"
            ],
            [
             0.8888888888888888,
             "#fdca26"
            ],
            [
             1,
             "#f0f921"
            ]
           ]
          },
          "colorway": [
           "#636efa",
           "#EF553B",
           "#00cc96",
           "#ab63fa",
           "#FFA15A",
           "#19d3f3",
           "#FF6692",
           "#B6E880",
           "#FF97FF",
           "#FECB52"
          ],
          "font": {
           "color": "#2a3f5f"
          },
          "geo": {
           "bgcolor": "white",
           "lakecolor": "white",
           "landcolor": "#E5ECF6",
           "showlakes": true,
           "showland": true,
           "subunitcolor": "white"
          },
          "hoverlabel": {
           "align": "left"
          },
          "hovermode": "closest",
          "mapbox": {
           "style": "light"
          },
          "paper_bgcolor": "white",
          "plot_bgcolor": "#E5ECF6",
          "polar": {
           "angularaxis": {
            "gridcolor": "white",
            "linecolor": "white",
            "ticks": ""
           },
           "bgcolor": "#E5ECF6",
           "radialaxis": {
            "gridcolor": "white",
            "linecolor": "white",
            "ticks": ""
           }
          },
          "scene": {
           "xaxis": {
            "backgroundcolor": "#E5ECF6",
            "gridcolor": "white",
            "gridwidth": 2,
            "linecolor": "white",
            "showbackground": true,
            "ticks": "",
            "zerolinecolor": "white"
           },
           "yaxis": {
            "backgroundcolor": "#E5ECF6",
            "gridcolor": "white",
            "gridwidth": 2,
            "linecolor": "white",
            "showbackground": true,
            "ticks": "",
            "zerolinecolor": "white"
           },
           "zaxis": {
            "backgroundcolor": "#E5ECF6",
            "gridcolor": "white",
            "gridwidth": 2,
            "linecolor": "white",
            "showbackground": true,
            "ticks": "",
            "zerolinecolor": "white"
           }
          },
          "shapedefaults": {
           "line": {
            "color": "#2a3f5f"
           }
          },
          "ternary": {
           "aaxis": {
            "gridcolor": "white",
            "linecolor": "white",
            "ticks": ""
           },
           "baxis": {
            "gridcolor": "white",
            "linecolor": "white",
            "ticks": ""
           },
           "bgcolor": "#E5ECF6",
           "caxis": {
            "gridcolor": "white",
            "linecolor": "white",
            "ticks": ""
           }
          },
          "title": {
           "x": 0.05
          },
          "xaxis": {
           "automargin": true,
           "gridcolor": "white",
           "linecolor": "white",
           "ticks": "",
           "title": {
            "standoff": 15
           },
           "zerolinecolor": "white",
           "zerolinewidth": 2
          },
          "yaxis": {
           "automargin": true,
           "gridcolor": "white",
           "linecolor": "white",
           "ticks": "",
           "title": {
            "standoff": 15
           },
           "zerolinecolor": "white",
           "zerolinewidth": 2
          }
         }
        },
        "title": {
         "text": "ecoscore grad treemap"
        }
       }
      }
     },
     "metadata": {},
     "output_type": "display_data"
    }
   ],
   "source": [
    "df = pd.DataFrame(data_graph_ecoscore_grad)\n",
    "fig = px.treemap(df, path=['ecoscore_grad'], values='percentage',\n",
    "                 color='percentage', color_continuous_scale='Magma',\n",
    "                 title='ecoscore grad treemap')\n",
    "fig.update_layout(\n",
    "    paper_bgcolor='black',  \n",
    "    plot_bgcolor='black',   \n",
    "    font_color='white'      \n",
    ")\n",
    "fig.show()"
   ]
  },
  {
   "cell_type": "markdown",
   "metadata": {},
   "source": [
    "# ECOSCORE GROUPS:"
   ]
  },
  {
   "cell_type": "code",
   "execution_count": 9,
   "metadata": {},
   "outputs": [
    {
     "name": "stdout",
     "output_type": "stream",
     "text": [
      "z: 74.62%\n",
      "c: 5.59%\n",
      "b: 9.01%\n",
      "d: 6.06%\n",
      "e: 3.51%\n",
      "a: 1.21%\n"
     ]
    }
   ],
   "source": [
    "# retourne une liste des lettres écoscore présentes dans le fichier\n",
    "def extract_groups_ecoscore_from_jsonl(file_path):\n",
    "    ecoscore_groups_list = []\n",
    "    with open(file_path, 'r', encoding='utf-8') as file:\n",
    "        for line in file:\n",
    "            try:\n",
    "                record = json.loads(line)\n",
    "                ecoscore_groups = record.get('ecoscore_groups')\n",
    "                if ecoscore_groups is not None:\n",
    "                    ecoscore_groups_list.append(ecoscore_groups)\n",
    "            except json.JSONDecodeError:\n",
    "                print(f\"WARNING line: {line} in {file_path}\")\n",
    "    return ecoscore_groups_list\n",
    "ecoscore_groups_list = extract_groups_ecoscore_from_jsonl(jsonl_02)\n",
    "\n",
    "ecoscore_groups_counts = Counter(ecoscore_groups_list)\n",
    "total_ecoscore_groups = sum(ecoscore_groups_counts.values())\n",
    "\n",
    "data_graph_ecoscore_groups = []\n",
    "for ecoscore_group, count in ecoscore_groups_counts.items():\n",
    "    percentage = (count / total_ecoscore_groups) * 100\n",
    "    print(f\"{ecoscore_group}: {percentage:.2f}%\")\n",
    "    data_graph_ecoscore_groups.append({'ecoscore_group': ecoscore_group, 'percentage': percentage})\n"
   ]
  },
  {
   "cell_type": "code",
   "execution_count": 10,
   "metadata": {},
   "outputs": [
    {
     "data": {
      "application/vnd.plotly.v1+json": {
       "config": {
        "plotlyServerURL": "https://plot.ly"
       },
       "data": [
        {
         "branchvalues": "total",
         "customdata": [
          [
           1.2121482936935877
          ],
          [
           9.007596066371098
          ],
          [
           5.592749011982709
          ],
          [
           6.062314869679898
          ],
          [
           3.5077406619424774
          ],
          [
           74.61745109633023
          ]
         ],
         "domain": {
          "x": [
           0,
           1
          ],
          "y": [
           0,
           1
          ]
         },
         "hovertemplate": "labels=%{label}<br>percentage_sum=%{value}<br>parent=%{parent}<br>id=%{id}<br>percentage=%{color}<extra></extra>",
         "ids": [
          "a",
          "b",
          "c",
          "d",
          "e",
          "z"
         ],
         "labels": [
          "a",
          "b",
          "c",
          "d",
          "e",
          "z"
         ],
         "marker": {
          "coloraxis": "coloraxis",
          "colors": [
           1.2121482936935877,
           9.007596066371098,
           5.592749011982709,
           6.062314869679898,
           3.5077406619424774,
           74.61745109633023
          ]
         },
         "name": "",
         "parents": [
          "",
          "",
          "",
          "",
          "",
          ""
         ],
         "type": "treemap",
         "values": [
          1.2121482936935877,
          9.007596066371098,
          5.592749011982709,
          6.0623148696798985,
          3.5077406619424774,
          74.61745109633023
         ]
        }
       ],
       "layout": {
        "coloraxis": {
         "colorbar": {
          "title": {
           "text": "percentage"
          }
         },
         "colorscale": [
          [
           0,
           "#000004"
          ],
          [
           0.1111111111111111,
           "#180f3d"
          ],
          [
           0.2222222222222222,
           "#440f76"
          ],
          [
           0.3333333333333333,
           "#721f81"
          ],
          [
           0.4444444444444444,
           "#9e2f7f"
          ],
          [
           0.5555555555555556,
           "#cd4071"
          ],
          [
           0.6666666666666666,
           "#f1605d"
          ],
          [
           0.7777777777777778,
           "#fd9668"
          ],
          [
           0.8888888888888888,
           "#feca8d"
          ],
          [
           1,
           "#fcfdbf"
          ]
         ]
        },
        "font": {
         "color": "white"
        },
        "legend": {
         "tracegroupgap": 0
        },
        "paper_bgcolor": "black",
        "plot_bgcolor": "black",
        "template": {
         "data": {
          "bar": [
           {
            "error_x": {
             "color": "#2a3f5f"
            },
            "error_y": {
             "color": "#2a3f5f"
            },
            "marker": {
             "line": {
              "color": "#E5ECF6",
              "width": 0.5
             },
             "pattern": {
              "fillmode": "overlay",
              "size": 10,
              "solidity": 0.2
             }
            },
            "type": "bar"
           }
          ],
          "barpolar": [
           {
            "marker": {
             "line": {
              "color": "#E5ECF6",
              "width": 0.5
             },
             "pattern": {
              "fillmode": "overlay",
              "size": 10,
              "solidity": 0.2
             }
            },
            "type": "barpolar"
           }
          ],
          "carpet": [
           {
            "aaxis": {
             "endlinecolor": "#2a3f5f",
             "gridcolor": "white",
             "linecolor": "white",
             "minorgridcolor": "white",
             "startlinecolor": "#2a3f5f"
            },
            "baxis": {
             "endlinecolor": "#2a3f5f",
             "gridcolor": "white",
             "linecolor": "white",
             "minorgridcolor": "white",
             "startlinecolor": "#2a3f5f"
            },
            "type": "carpet"
           }
          ],
          "choropleth": [
           {
            "colorbar": {
             "outlinewidth": 0,
             "ticks": ""
            },
            "type": "choropleth"
           }
          ],
          "contour": [
           {
            "colorbar": {
             "outlinewidth": 0,
             "ticks": ""
            },
            "colorscale": [
             [
              0,
              "#0d0887"
             ],
             [
              0.1111111111111111,
              "#46039f"
             ],
             [
              0.2222222222222222,
              "#7201a8"
             ],
             [
              0.3333333333333333,
              "#9c179e"
             ],
             [
              0.4444444444444444,
              "#bd3786"
             ],
             [
              0.5555555555555556,
              "#d8576b"
             ],
             [
              0.6666666666666666,
              "#ed7953"
             ],
             [
              0.7777777777777778,
              "#fb9f3a"
             ],
             [
              0.8888888888888888,
              "#fdca26"
             ],
             [
              1,
              "#f0f921"
             ]
            ],
            "type": "contour"
           }
          ],
          "contourcarpet": [
           {
            "colorbar": {
             "outlinewidth": 0,
             "ticks": ""
            },
            "type": "contourcarpet"
           }
          ],
          "heatmap": [
           {
            "colorbar": {
             "outlinewidth": 0,
             "ticks": ""
            },
            "colorscale": [
             [
              0,
              "#0d0887"
             ],
             [
              0.1111111111111111,
              "#46039f"
             ],
             [
              0.2222222222222222,
              "#7201a8"
             ],
             [
              0.3333333333333333,
              "#9c179e"
             ],
             [
              0.4444444444444444,
              "#bd3786"
             ],
             [
              0.5555555555555556,
              "#d8576b"
             ],
             [
              0.6666666666666666,
              "#ed7953"
             ],
             [
              0.7777777777777778,
              "#fb9f3a"
             ],
             [
              0.8888888888888888,
              "#fdca26"
             ],
             [
              1,
              "#f0f921"
             ]
            ],
            "type": "heatmap"
           }
          ],
          "heatmapgl": [
           {
            "colorbar": {
             "outlinewidth": 0,
             "ticks": ""
            },
            "colorscale": [
             [
              0,
              "#0d0887"
             ],
             [
              0.1111111111111111,
              "#46039f"
             ],
             [
              0.2222222222222222,
              "#7201a8"
             ],
             [
              0.3333333333333333,
              "#9c179e"
             ],
             [
              0.4444444444444444,
              "#bd3786"
             ],
             [
              0.5555555555555556,
              "#d8576b"
             ],
             [
              0.6666666666666666,
              "#ed7953"
             ],
             [
              0.7777777777777778,
              "#fb9f3a"
             ],
             [
              0.8888888888888888,
              "#fdca26"
             ],
             [
              1,
              "#f0f921"
             ]
            ],
            "type": "heatmapgl"
           }
          ],
          "histogram": [
           {
            "marker": {
             "pattern": {
              "fillmode": "overlay",
              "size": 10,
              "solidity": 0.2
             }
            },
            "type": "histogram"
           }
          ],
          "histogram2d": [
           {
            "colorbar": {
             "outlinewidth": 0,
             "ticks": ""
            },
            "colorscale": [
             [
              0,
              "#0d0887"
             ],
             [
              0.1111111111111111,
              "#46039f"
             ],
             [
              0.2222222222222222,
              "#7201a8"
             ],
             [
              0.3333333333333333,
              "#9c179e"
             ],
             [
              0.4444444444444444,
              "#bd3786"
             ],
             [
              0.5555555555555556,
              "#d8576b"
             ],
             [
              0.6666666666666666,
              "#ed7953"
             ],
             [
              0.7777777777777778,
              "#fb9f3a"
             ],
             [
              0.8888888888888888,
              "#fdca26"
             ],
             [
              1,
              "#f0f921"
             ]
            ],
            "type": "histogram2d"
           }
          ],
          "histogram2dcontour": [
           {
            "colorbar": {
             "outlinewidth": 0,
             "ticks": ""
            },
            "colorscale": [
             [
              0,
              "#0d0887"
             ],
             [
              0.1111111111111111,
              "#46039f"
             ],
             [
              0.2222222222222222,
              "#7201a8"
             ],
             [
              0.3333333333333333,
              "#9c179e"
             ],
             [
              0.4444444444444444,
              "#bd3786"
             ],
             [
              0.5555555555555556,
              "#d8576b"
             ],
             [
              0.6666666666666666,
              "#ed7953"
             ],
             [
              0.7777777777777778,
              "#fb9f3a"
             ],
             [
              0.8888888888888888,
              "#fdca26"
             ],
             [
              1,
              "#f0f921"
             ]
            ],
            "type": "histogram2dcontour"
           }
          ],
          "mesh3d": [
           {
            "colorbar": {
             "outlinewidth": 0,
             "ticks": ""
            },
            "type": "mesh3d"
           }
          ],
          "parcoords": [
           {
            "line": {
             "colorbar": {
              "outlinewidth": 0,
              "ticks": ""
             }
            },
            "type": "parcoords"
           }
          ],
          "pie": [
           {
            "automargin": true,
            "type": "pie"
           }
          ],
          "scatter": [
           {
            "fillpattern": {
             "fillmode": "overlay",
             "size": 10,
             "solidity": 0.2
            },
            "type": "scatter"
           }
          ],
          "scatter3d": [
           {
            "line": {
             "colorbar": {
              "outlinewidth": 0,
              "ticks": ""
             }
            },
            "marker": {
             "colorbar": {
              "outlinewidth": 0,
              "ticks": ""
             }
            },
            "type": "scatter3d"
           }
          ],
          "scattercarpet": [
           {
            "marker": {
             "colorbar": {
              "outlinewidth": 0,
              "ticks": ""
             }
            },
            "type": "scattercarpet"
           }
          ],
          "scattergeo": [
           {
            "marker": {
             "colorbar": {
              "outlinewidth": 0,
              "ticks": ""
             }
            },
            "type": "scattergeo"
           }
          ],
          "scattergl": [
           {
            "marker": {
             "colorbar": {
              "outlinewidth": 0,
              "ticks": ""
             }
            },
            "type": "scattergl"
           }
          ],
          "scattermapbox": [
           {
            "marker": {
             "colorbar": {
              "outlinewidth": 0,
              "ticks": ""
             }
            },
            "type": "scattermapbox"
           }
          ],
          "scatterpolar": [
           {
            "marker": {
             "colorbar": {
              "outlinewidth": 0,
              "ticks": ""
             }
            },
            "type": "scatterpolar"
           }
          ],
          "scatterpolargl": [
           {
            "marker": {
             "colorbar": {
              "outlinewidth": 0,
              "ticks": ""
             }
            },
            "type": "scatterpolargl"
           }
          ],
          "scatterternary": [
           {
            "marker": {
             "colorbar": {
              "outlinewidth": 0,
              "ticks": ""
             }
            },
            "type": "scatterternary"
           }
          ],
          "surface": [
           {
            "colorbar": {
             "outlinewidth": 0,
             "ticks": ""
            },
            "colorscale": [
             [
              0,
              "#0d0887"
             ],
             [
              0.1111111111111111,
              "#46039f"
             ],
             [
              0.2222222222222222,
              "#7201a8"
             ],
             [
              0.3333333333333333,
              "#9c179e"
             ],
             [
              0.4444444444444444,
              "#bd3786"
             ],
             [
              0.5555555555555556,
              "#d8576b"
             ],
             [
              0.6666666666666666,
              "#ed7953"
             ],
             [
              0.7777777777777778,
              "#fb9f3a"
             ],
             [
              0.8888888888888888,
              "#fdca26"
             ],
             [
              1,
              "#f0f921"
             ]
            ],
            "type": "surface"
           }
          ],
          "table": [
           {
            "cells": {
             "fill": {
              "color": "#EBF0F8"
             },
             "line": {
              "color": "white"
             }
            },
            "header": {
             "fill": {
              "color": "#C8D4E3"
             },
             "line": {
              "color": "white"
             }
            },
            "type": "table"
           }
          ]
         },
         "layout": {
          "annotationdefaults": {
           "arrowcolor": "#2a3f5f",
           "arrowhead": 0,
           "arrowwidth": 1
          },
          "autotypenumbers": "strict",
          "coloraxis": {
           "colorbar": {
            "outlinewidth": 0,
            "ticks": ""
           }
          },
          "colorscale": {
           "diverging": [
            [
             0,
             "#8e0152"
            ],
            [
             0.1,
             "#c51b7d"
            ],
            [
             0.2,
             "#de77ae"
            ],
            [
             0.3,
             "#f1b6da"
            ],
            [
             0.4,
             "#fde0ef"
            ],
            [
             0.5,
             "#f7f7f7"
            ],
            [
             0.6,
             "#e6f5d0"
            ],
            [
             0.7,
             "#b8e186"
            ],
            [
             0.8,
             "#7fbc41"
            ],
            [
             0.9,
             "#4d9221"
            ],
            [
             1,
             "#276419"
            ]
           ],
           "sequential": [
            [
             0,
             "#0d0887"
            ],
            [
             0.1111111111111111,
             "#46039f"
            ],
            [
             0.2222222222222222,
             "#7201a8"
            ],
            [
             0.3333333333333333,
             "#9c179e"
            ],
            [
             0.4444444444444444,
             "#bd3786"
            ],
            [
             0.5555555555555556,
             "#d8576b"
            ],
            [
             0.6666666666666666,
             "#ed7953"
            ],
            [
             0.7777777777777778,
             "#fb9f3a"
            ],
            [
             0.8888888888888888,
             "#fdca26"
            ],
            [
             1,
             "#f0f921"
            ]
           ],
           "sequentialminus": [
            [
             0,
             "#0d0887"
            ],
            [
             0.1111111111111111,
             "#46039f"
            ],
            [
             0.2222222222222222,
             "#7201a8"
            ],
            [
             0.3333333333333333,
             "#9c179e"
            ],
            [
             0.4444444444444444,
             "#bd3786"
            ],
            [
             0.5555555555555556,
             "#d8576b"
            ],
            [
             0.6666666666666666,
             "#ed7953"
            ],
            [
             0.7777777777777778,
             "#fb9f3a"
            ],
            [
             0.8888888888888888,
             "#fdca26"
            ],
            [
             1,
             "#f0f921"
            ]
           ]
          },
          "colorway": [
           "#636efa",
           "#EF553B",
           "#00cc96",
           "#ab63fa",
           "#FFA15A",
           "#19d3f3",
           "#FF6692",
           "#B6E880",
           "#FF97FF",
           "#FECB52"
          ],
          "font": {
           "color": "#2a3f5f"
          },
          "geo": {
           "bgcolor": "white",
           "lakecolor": "white",
           "landcolor": "#E5ECF6",
           "showlakes": true,
           "showland": true,
           "subunitcolor": "white"
          },
          "hoverlabel": {
           "align": "left"
          },
          "hovermode": "closest",
          "mapbox": {
           "style": "light"
          },
          "paper_bgcolor": "white",
          "plot_bgcolor": "#E5ECF6",
          "polar": {
           "angularaxis": {
            "gridcolor": "white",
            "linecolor": "white",
            "ticks": ""
           },
           "bgcolor": "#E5ECF6",
           "radialaxis": {
            "gridcolor": "white",
            "linecolor": "white",
            "ticks": ""
           }
          },
          "scene": {
           "xaxis": {
            "backgroundcolor": "#E5ECF6",
            "gridcolor": "white",
            "gridwidth": 2,
            "linecolor": "white",
            "showbackground": true,
            "ticks": "",
            "zerolinecolor": "white"
           },
           "yaxis": {
            "backgroundcolor": "#E5ECF6",
            "gridcolor": "white",
            "gridwidth": 2,
            "linecolor": "white",
            "showbackground": true,
            "ticks": "",
            "zerolinecolor": "white"
           },
           "zaxis": {
            "backgroundcolor": "#E5ECF6",
            "gridcolor": "white",
            "gridwidth": 2,
            "linecolor": "white",
            "showbackground": true,
            "ticks": "",
            "zerolinecolor": "white"
           }
          },
          "shapedefaults": {
           "line": {
            "color": "#2a3f5f"
           }
          },
          "ternary": {
           "aaxis": {
            "gridcolor": "white",
            "linecolor": "white",
            "ticks": ""
           },
           "baxis": {
            "gridcolor": "white",
            "linecolor": "white",
            "ticks": ""
           },
           "bgcolor": "#E5ECF6",
           "caxis": {
            "gridcolor": "white",
            "linecolor": "white",
            "ticks": ""
           }
          },
          "title": {
           "x": 0.05
          },
          "xaxis": {
           "automargin": true,
           "gridcolor": "white",
           "linecolor": "white",
           "ticks": "",
           "title": {
            "standoff": 15
           },
           "zerolinecolor": "white",
           "zerolinewidth": 2
          },
          "yaxis": {
           "automargin": true,
           "gridcolor": "white",
           "linecolor": "white",
           "ticks": "",
           "title": {
            "standoff": 15
           },
           "zerolinecolor": "white",
           "zerolinewidth": 2
          }
         }
        },
        "title": {
         "text": "ecoscore groups treemap"
        }
       }
      }
     },
     "metadata": {},
     "output_type": "display_data"
    }
   ],
   "source": [
    "df = pd.DataFrame(data_graph_ecoscore_groups)\n",
    "fig = px.treemap(df, path=['ecoscore_group'], values='percentage',\n",
    "                 color='percentage', color_continuous_scale='Magma',\n",
    "                 title='ecoscore groups treemap')\n",
    "fig.update_layout(\n",
    "    paper_bgcolor='black',  \n",
    "    plot_bgcolor='black',   \n",
    "    font_color='white'      \n",
    ")\n",
    "fig.show()"
   ]
  },
  {
   "cell_type": "markdown",
   "metadata": {},
   "source": [
    "# LABELS:"
   ]
  },
  {
   "cell_type": "code",
   "execution_count": 11,
   "metadata": {},
   "outputs": [
    {
     "name": "stdout",
     "output_type": "stream",
     "text": [
      "0: 70.95%\n",
      "2: 8.13%\n",
      "1: 11.32%\n",
      "3: 4.34%\n",
      "5: 1.11%\n",
      "4: 2.05%\n",
      "7: 0.47%\n",
      "6: 0.88%\n",
      "9: 0.46%\n",
      "8: 0.29%\n"
     ]
    }
   ],
   "source": [
    "# retourne une liste des labels présents dans le fichier (sans doublons dans l'affichage)\n",
    "def extract_labels_from_jsonl(file_path):\n",
    "    labels_list = []\n",
    "    with open(file_path, 'r', encoding='utf-8') as file:\n",
    "        for line in file:\n",
    "            try:\n",
    "                record = json.loads(line)\n",
    "                labels = record.get('labels_note')\n",
    "                if labels is not None:\n",
    "                    labels_list.append(labels)\n",
    "            except json.JSONDecodeError:\n",
    "                print(f\"WARNING line: {line} in {file_path}\")\n",
    "    return labels_list\n",
    "\n",
    "labels_list = extract_labels_from_jsonl(jsonl_02)\n",
    "label_counts = Counter(labels_list)\n",
    "total_labels = sum(label_counts.values())\n",
    "\n",
    "data_graph_labels = []\n",
    "for label, count in label_counts.items():\n",
    "    percentage = (count / total_labels) * 100\n",
    "    print(f\"{label}: {percentage:.2f}%\")\n",
    "    data_graph_labels.append({'labels': label, 'percentage': percentage})"
   ]
  },
  {
   "cell_type": "code",
   "execution_count": 12,
   "metadata": {},
   "outputs": [
    {
     "data": {
      "application/vnd.plotly.v1+json": {
       "config": {
        "plotlyServerURL": "https://plot.ly"
       },
       "data": [
        {
         "branchvalues": "total",
         "customdata": [
          [
           70.9526849934342
          ],
          [
           11.319331531054692
          ],
          [
           8.129354977879553
          ],
          [
           4.336293740160342
          ],
          [
           2.050550863498319
          ],
          [
           1.1094995986253509
          ],
          [
           0.8790907251460037
          ],
          [
           0.4683071367276213
          ],
          [
           0.2911421602609832
          ],
          [
           0.4637442732129388
          ]
         ],
         "domain": {
          "x": [
           0,
           1
          ],
          "y": [
           0,
           1
          ]
         },
         "hovertemplate": "labels=%{label}<br>percentage_sum=%{value}<br>parent=%{parent}<br>id=%{id}<br>percentage=%{color}<extra></extra>",
         "ids": [
          "0",
          "1",
          "2",
          "3",
          "4",
          "5",
          "6",
          "7",
          "8",
          "9"
         ],
         "labels": [
          "0",
          "1",
          "2",
          "3",
          "4",
          "5",
          "6",
          "7",
          "8",
          "9"
         ],
         "marker": {
          "coloraxis": "coloraxis",
          "colors": [
           70.9526849934342,
           11.319331531054692,
           8.129354977879553,
           4.336293740160342,
           2.050550863498319,
           1.1094995986253509,
           0.8790907251460037,
           0.4683071367276213,
           0.2911421602609832,
           0.4637442732129388
          ]
         },
         "name": "",
         "parents": [
          "",
          "",
          "",
          "",
          "",
          "",
          "",
          "",
          "",
          ""
         ],
         "type": "treemap",
         "values": [
          70.9526849934342,
          11.319331531054692,
          8.129354977879553,
          4.336293740160342,
          2.050550863498319,
          1.1094995986253509,
          0.8790907251460037,
          0.46830713672762125,
          0.2911421602609832,
          0.46374427321293876
         ]
        }
       ],
       "layout": {
        "coloraxis": {
         "colorbar": {
          "title": {
           "text": "percentage"
          }
         },
         "colorscale": [
          [
           0,
           "#000004"
          ],
          [
           0.1111111111111111,
           "#180f3d"
          ],
          [
           0.2222222222222222,
           "#440f76"
          ],
          [
           0.3333333333333333,
           "#721f81"
          ],
          [
           0.4444444444444444,
           "#9e2f7f"
          ],
          [
           0.5555555555555556,
           "#cd4071"
          ],
          [
           0.6666666666666666,
           "#f1605d"
          ],
          [
           0.7777777777777778,
           "#fd9668"
          ],
          [
           0.8888888888888888,
           "#feca8d"
          ],
          [
           1,
           "#fcfdbf"
          ]
         ]
        },
        "font": {
         "color": "white"
        },
        "legend": {
         "tracegroupgap": 0
        },
        "paper_bgcolor": "black",
        "plot_bgcolor": "black",
        "template": {
         "data": {
          "bar": [
           {
            "error_x": {
             "color": "#2a3f5f"
            },
            "error_y": {
             "color": "#2a3f5f"
            },
            "marker": {
             "line": {
              "color": "#E5ECF6",
              "width": 0.5
             },
             "pattern": {
              "fillmode": "overlay",
              "size": 10,
              "solidity": 0.2
             }
            },
            "type": "bar"
           }
          ],
          "barpolar": [
           {
            "marker": {
             "line": {
              "color": "#E5ECF6",
              "width": 0.5
             },
             "pattern": {
              "fillmode": "overlay",
              "size": 10,
              "solidity": 0.2
             }
            },
            "type": "barpolar"
           }
          ],
          "carpet": [
           {
            "aaxis": {
             "endlinecolor": "#2a3f5f",
             "gridcolor": "white",
             "linecolor": "white",
             "minorgridcolor": "white",
             "startlinecolor": "#2a3f5f"
            },
            "baxis": {
             "endlinecolor": "#2a3f5f",
             "gridcolor": "white",
             "linecolor": "white",
             "minorgridcolor": "white",
             "startlinecolor": "#2a3f5f"
            },
            "type": "carpet"
           }
          ],
          "choropleth": [
           {
            "colorbar": {
             "outlinewidth": 0,
             "ticks": ""
            },
            "type": "choropleth"
           }
          ],
          "contour": [
           {
            "colorbar": {
             "outlinewidth": 0,
             "ticks": ""
            },
            "colorscale": [
             [
              0,
              "#0d0887"
             ],
             [
              0.1111111111111111,
              "#46039f"
             ],
             [
              0.2222222222222222,
              "#7201a8"
             ],
             [
              0.3333333333333333,
              "#9c179e"
             ],
             [
              0.4444444444444444,
              "#bd3786"
             ],
             [
              0.5555555555555556,
              "#d8576b"
             ],
             [
              0.6666666666666666,
              "#ed7953"
             ],
             [
              0.7777777777777778,
              "#fb9f3a"
             ],
             [
              0.8888888888888888,
              "#fdca26"
             ],
             [
              1,
              "#f0f921"
             ]
            ],
            "type": "contour"
           }
          ],
          "contourcarpet": [
           {
            "colorbar": {
             "outlinewidth": 0,
             "ticks": ""
            },
            "type": "contourcarpet"
           }
          ],
          "heatmap": [
           {
            "colorbar": {
             "outlinewidth": 0,
             "ticks": ""
            },
            "colorscale": [
             [
              0,
              "#0d0887"
             ],
             [
              0.1111111111111111,
              "#46039f"
             ],
             [
              0.2222222222222222,
              "#7201a8"
             ],
             [
              0.3333333333333333,
              "#9c179e"
             ],
             [
              0.4444444444444444,
              "#bd3786"
             ],
             [
              0.5555555555555556,
              "#d8576b"
             ],
             [
              0.6666666666666666,
              "#ed7953"
             ],
             [
              0.7777777777777778,
              "#fb9f3a"
             ],
             [
              0.8888888888888888,
              "#fdca26"
             ],
             [
              1,
              "#f0f921"
             ]
            ],
            "type": "heatmap"
           }
          ],
          "heatmapgl": [
           {
            "colorbar": {
             "outlinewidth": 0,
             "ticks": ""
            },
            "colorscale": [
             [
              0,
              "#0d0887"
             ],
             [
              0.1111111111111111,
              "#46039f"
             ],
             [
              0.2222222222222222,
              "#7201a8"
             ],
             [
              0.3333333333333333,
              "#9c179e"
             ],
             [
              0.4444444444444444,
              "#bd3786"
             ],
             [
              0.5555555555555556,
              "#d8576b"
             ],
             [
              0.6666666666666666,
              "#ed7953"
             ],
             [
              0.7777777777777778,
              "#fb9f3a"
             ],
             [
              0.8888888888888888,
              "#fdca26"
             ],
             [
              1,
              "#f0f921"
             ]
            ],
            "type": "heatmapgl"
           }
          ],
          "histogram": [
           {
            "marker": {
             "pattern": {
              "fillmode": "overlay",
              "size": 10,
              "solidity": 0.2
             }
            },
            "type": "histogram"
           }
          ],
          "histogram2d": [
           {
            "colorbar": {
             "outlinewidth": 0,
             "ticks": ""
            },
            "colorscale": [
             [
              0,
              "#0d0887"
             ],
             [
              0.1111111111111111,
              "#46039f"
             ],
             [
              0.2222222222222222,
              "#7201a8"
             ],
             [
              0.3333333333333333,
              "#9c179e"
             ],
             [
              0.4444444444444444,
              "#bd3786"
             ],
             [
              0.5555555555555556,
              "#d8576b"
             ],
             [
              0.6666666666666666,
              "#ed7953"
             ],
             [
              0.7777777777777778,
              "#fb9f3a"
             ],
             [
              0.8888888888888888,
              "#fdca26"
             ],
             [
              1,
              "#f0f921"
             ]
            ],
            "type": "histogram2d"
           }
          ],
          "histogram2dcontour": [
           {
            "colorbar": {
             "outlinewidth": 0,
             "ticks": ""
            },
            "colorscale": [
             [
              0,
              "#0d0887"
             ],
             [
              0.1111111111111111,
              "#46039f"
             ],
             [
              0.2222222222222222,
              "#7201a8"
             ],
             [
              0.3333333333333333,
              "#9c179e"
             ],
             [
              0.4444444444444444,
              "#bd3786"
             ],
             [
              0.5555555555555556,
              "#d8576b"
             ],
             [
              0.6666666666666666,
              "#ed7953"
             ],
             [
              0.7777777777777778,
              "#fb9f3a"
             ],
             [
              0.8888888888888888,
              "#fdca26"
             ],
             [
              1,
              "#f0f921"
             ]
            ],
            "type": "histogram2dcontour"
           }
          ],
          "mesh3d": [
           {
            "colorbar": {
             "outlinewidth": 0,
             "ticks": ""
            },
            "type": "mesh3d"
           }
          ],
          "parcoords": [
           {
            "line": {
             "colorbar": {
              "outlinewidth": 0,
              "ticks": ""
             }
            },
            "type": "parcoords"
           }
          ],
          "pie": [
           {
            "automargin": true,
            "type": "pie"
           }
          ],
          "scatter": [
           {
            "fillpattern": {
             "fillmode": "overlay",
             "size": 10,
             "solidity": 0.2
            },
            "type": "scatter"
           }
          ],
          "scatter3d": [
           {
            "line": {
             "colorbar": {
              "outlinewidth": 0,
              "ticks": ""
             }
            },
            "marker": {
             "colorbar": {
              "outlinewidth": 0,
              "ticks": ""
             }
            },
            "type": "scatter3d"
           }
          ],
          "scattercarpet": [
           {
            "marker": {
             "colorbar": {
              "outlinewidth": 0,
              "ticks": ""
             }
            },
            "type": "scattercarpet"
           }
          ],
          "scattergeo": [
           {
            "marker": {
             "colorbar": {
              "outlinewidth": 0,
              "ticks": ""
             }
            },
            "type": "scattergeo"
           }
          ],
          "scattergl": [
           {
            "marker": {
             "colorbar": {
              "outlinewidth": 0,
              "ticks": ""
             }
            },
            "type": "scattergl"
           }
          ],
          "scattermapbox": [
           {
            "marker": {
             "colorbar": {
              "outlinewidth": 0,
              "ticks": ""
             }
            },
            "type": "scattermapbox"
           }
          ],
          "scatterpolar": [
           {
            "marker": {
             "colorbar": {
              "outlinewidth": 0,
              "ticks": ""
             }
            },
            "type": "scatterpolar"
           }
          ],
          "scatterpolargl": [
           {
            "marker": {
             "colorbar": {
              "outlinewidth": 0,
              "ticks": ""
             }
            },
            "type": "scatterpolargl"
           }
          ],
          "scatterternary": [
           {
            "marker": {
             "colorbar": {
              "outlinewidth": 0,
              "ticks": ""
             }
            },
            "type": "scatterternary"
           }
          ],
          "surface": [
           {
            "colorbar": {
             "outlinewidth": 0,
             "ticks": ""
            },
            "colorscale": [
             [
              0,
              "#0d0887"
             ],
             [
              0.1111111111111111,
              "#46039f"
             ],
             [
              0.2222222222222222,
              "#7201a8"
             ],
             [
              0.3333333333333333,
              "#9c179e"
             ],
             [
              0.4444444444444444,
              "#bd3786"
             ],
             [
              0.5555555555555556,
              "#d8576b"
             ],
             [
              0.6666666666666666,
              "#ed7953"
             ],
             [
              0.7777777777777778,
              "#fb9f3a"
             ],
             [
              0.8888888888888888,
              "#fdca26"
             ],
             [
              1,
              "#f0f921"
             ]
            ],
            "type": "surface"
           }
          ],
          "table": [
           {
            "cells": {
             "fill": {
              "color": "#EBF0F8"
             },
             "line": {
              "color": "white"
             }
            },
            "header": {
             "fill": {
              "color": "#C8D4E3"
             },
             "line": {
              "color": "white"
             }
            },
            "type": "table"
           }
          ]
         },
         "layout": {
          "annotationdefaults": {
           "arrowcolor": "#2a3f5f",
           "arrowhead": 0,
           "arrowwidth": 1
          },
          "autotypenumbers": "strict",
          "coloraxis": {
           "colorbar": {
            "outlinewidth": 0,
            "ticks": ""
           }
          },
          "colorscale": {
           "diverging": [
            [
             0,
             "#8e0152"
            ],
            [
             0.1,
             "#c51b7d"
            ],
            [
             0.2,
             "#de77ae"
            ],
            [
             0.3,
             "#f1b6da"
            ],
            [
             0.4,
             "#fde0ef"
            ],
            [
             0.5,
             "#f7f7f7"
            ],
            [
             0.6,
             "#e6f5d0"
            ],
            [
             0.7,
             "#b8e186"
            ],
            [
             0.8,
             "#7fbc41"
            ],
            [
             0.9,
             "#4d9221"
            ],
            [
             1,
             "#276419"
            ]
           ],
           "sequential": [
            [
             0,
             "#0d0887"
            ],
            [
             0.1111111111111111,
             "#46039f"
            ],
            [
             0.2222222222222222,
             "#7201a8"
            ],
            [
             0.3333333333333333,
             "#9c179e"
            ],
            [
             0.4444444444444444,
             "#bd3786"
            ],
            [
             0.5555555555555556,
             "#d8576b"
            ],
            [
             0.6666666666666666,
             "#ed7953"
            ],
            [
             0.7777777777777778,
             "#fb9f3a"
            ],
            [
             0.8888888888888888,
             "#fdca26"
            ],
            [
             1,
             "#f0f921"
            ]
           ],
           "sequentialminus": [
            [
             0,
             "#0d0887"
            ],
            [
             0.1111111111111111,
             "#46039f"
            ],
            [
             0.2222222222222222,
             "#7201a8"
            ],
            [
             0.3333333333333333,
             "#9c179e"
            ],
            [
             0.4444444444444444,
             "#bd3786"
            ],
            [
             0.5555555555555556,
             "#d8576b"
            ],
            [
             0.6666666666666666,
             "#ed7953"
            ],
            [
             0.7777777777777778,
             "#fb9f3a"
            ],
            [
             0.8888888888888888,
             "#fdca26"
            ],
            [
             1,
             "#f0f921"
            ]
           ]
          },
          "colorway": [
           "#636efa",
           "#EF553B",
           "#00cc96",
           "#ab63fa",
           "#FFA15A",
           "#19d3f3",
           "#FF6692",
           "#B6E880",
           "#FF97FF",
           "#FECB52"
          ],
          "font": {
           "color": "#2a3f5f"
          },
          "geo": {
           "bgcolor": "white",
           "lakecolor": "white",
           "landcolor": "#E5ECF6",
           "showlakes": true,
           "showland": true,
           "subunitcolor": "white"
          },
          "hoverlabel": {
           "align": "left"
          },
          "hovermode": "closest",
          "mapbox": {
           "style": "light"
          },
          "paper_bgcolor": "white",
          "plot_bgcolor": "#E5ECF6",
          "polar": {
           "angularaxis": {
            "gridcolor": "white",
            "linecolor": "white",
            "ticks": ""
           },
           "bgcolor": "#E5ECF6",
           "radialaxis": {
            "gridcolor": "white",
            "linecolor": "white",
            "ticks": ""
           }
          },
          "scene": {
           "xaxis": {
            "backgroundcolor": "#E5ECF6",
            "gridcolor": "white",
            "gridwidth": 2,
            "linecolor": "white",
            "showbackground": true,
            "ticks": "",
            "zerolinecolor": "white"
           },
           "yaxis": {
            "backgroundcolor": "#E5ECF6",
            "gridcolor": "white",
            "gridwidth": 2,
            "linecolor": "white",
            "showbackground": true,
            "ticks": "",
            "zerolinecolor": "white"
           },
           "zaxis": {
            "backgroundcolor": "#E5ECF6",
            "gridcolor": "white",
            "gridwidth": 2,
            "linecolor": "white",
            "showbackground": true,
            "ticks": "",
            "zerolinecolor": "white"
           }
          },
          "shapedefaults": {
           "line": {
            "color": "#2a3f5f"
           }
          },
          "ternary": {
           "aaxis": {
            "gridcolor": "white",
            "linecolor": "white",
            "ticks": ""
           },
           "baxis": {
            "gridcolor": "white",
            "linecolor": "white",
            "ticks": ""
           },
           "bgcolor": "#E5ECF6",
           "caxis": {
            "gridcolor": "white",
            "linecolor": "white",
            "ticks": ""
           }
          },
          "title": {
           "x": 0.05
          },
          "xaxis": {
           "automargin": true,
           "gridcolor": "white",
           "linecolor": "white",
           "ticks": "",
           "title": {
            "standoff": 15
           },
           "zerolinecolor": "white",
           "zerolinewidth": 2
          },
          "yaxis": {
           "automargin": true,
           "gridcolor": "white",
           "linecolor": "white",
           "ticks": "",
           "title": {
            "standoff": 15
           },
           "zerolinecolor": "white",
           "zerolinewidth": 2
          }
         }
        },
        "title": {
         "text": "labels treemap"
        }
       }
      }
     },
     "metadata": {},
     "output_type": "display_data"
    }
   ],
   "source": [
    "df = pd.DataFrame(data_graph_labels)\n",
    "fig = px.treemap(df, path=['labels'], values='percentage',\n",
    "                 color='percentage', color_continuous_scale='Magma',\n",
    "                 title='labels treemap')\n",
    "fig.update_layout(\n",
    "    paper_bgcolor='black',  \n",
    "    plot_bgcolor='black',   \n",
    "    font_color='white'      \n",
    ")\n",
    "fig.show()"
   ]
  },
  {
   "cell_type": "markdown",
   "metadata": {},
   "source": [
    "# NONE NUMBER:"
   ]
  },
  {
   "cell_type": "code",
   "execution_count": 13,
   "metadata": {},
   "outputs": [],
   "source": [
    "def count_none_and_total_values(jsonl_file_path):\n",
    "    none_counts = defaultdict(int)\n",
    "    total_counts = defaultdict(int)\n",
    "    with open(jsonl_file_path, 'r', encoding='utf-8') as file:\n",
    "        for line in file:\n",
    "            data = json.loads(line)\n",
    "            for key, value in data.items():\n",
    "                total_counts[key] += 1\n",
    "                if value is None:\n",
    "                    none_counts[key] += 1\n",
    "    return none_counts, total_counts\n",
    "\n",
    "def calculate_percentage(none_counts, total_counts):\n",
    "    percentages = {}\n",
    "    for key in none_counts:\n",
    "        if total_counts[key] > 0:\n",
    "            percentage = (none_counts[key] / total_counts[key]) * 100\n",
    "        else:\n",
    "            percentage = 0\n",
    "        percentages[key] = percentage\n",
    "    return percentages\n",
    "\n",
    "none_counts, total_counts = count_none_and_total_values(jsonl_02)\n",
    "percentages = calculate_percentage(none_counts, total_counts)"
   ]
  },
  {
   "cell_type": "code",
   "execution_count": 14,
   "metadata": {},
   "outputs": [
    {
     "data": {
      "application/vnd.plotly.v1+json": {
       "config": {
        "plotlyServerURL": "https://plot.ly"
       },
       "data": [
        {
         "branchvalues": "total",
         "customdata": [
          [
           55.70825239495265
          ],
          [
           63.67837917018191
          ],
          [
           71.5331441685503
          ],
          [
           88.44028423178214
          ]
         ],
         "domain": {
          "x": [
           0,
           1
          ],
          "y": [
           0,
           1
          ]
         },
         "hovertemplate": "labels=%{label}<br>percentage_sum=%{value}<br>parent=%{parent}<br>id=%{id}<br>percentage=%{color}<extra></extra>",
         "ids": [
          "categories",
          "groups",
          "ingredients",
          "packaging"
         ],
         "labels": [
          "categories",
          "groups",
          "ingredients",
          "packaging"
         ],
         "marker": {
          "coloraxis": "coloraxis",
          "colors": [
           55.70825239495265,
           63.67837917018191,
           71.5331441685503,
           88.44028423178214
          ]
         },
         "name": "",
         "parents": [
          "",
          "",
          "",
          ""
         ],
         "type": "treemap",
         "values": [
          55.70825239495265,
          63.67837917018191,
          71.5331441685503,
          88.44028423178214
         ]
        }
       ],
       "layout": {
        "coloraxis": {
         "colorbar": {
          "title": {
           "text": "percentage"
          }
         },
         "colorscale": [
          [
           0,
           "#000004"
          ],
          [
           0.1111111111111111,
           "#180f3d"
          ],
          [
           0.2222222222222222,
           "#440f76"
          ],
          [
           0.3333333333333333,
           "#721f81"
          ],
          [
           0.4444444444444444,
           "#9e2f7f"
          ],
          [
           0.5555555555555556,
           "#cd4071"
          ],
          [
           0.6666666666666666,
           "#f1605d"
          ],
          [
           0.7777777777777778,
           "#fd9668"
          ],
          [
           0.8888888888888888,
           "#feca8d"
          ],
          [
           1,
           "#fcfdbf"
          ]
         ]
        },
        "font": {
         "color": "white"
        },
        "legend": {
         "tracegroupgap": 0
        },
        "paper_bgcolor": "black",
        "plot_bgcolor": "black",
        "template": {
         "data": {
          "bar": [
           {
            "error_x": {
             "color": "#2a3f5f"
            },
            "error_y": {
             "color": "#2a3f5f"
            },
            "marker": {
             "line": {
              "color": "#E5ECF6",
              "width": 0.5
             },
             "pattern": {
              "fillmode": "overlay",
              "size": 10,
              "solidity": 0.2
             }
            },
            "type": "bar"
           }
          ],
          "barpolar": [
           {
            "marker": {
             "line": {
              "color": "#E5ECF6",
              "width": 0.5
             },
             "pattern": {
              "fillmode": "overlay",
              "size": 10,
              "solidity": 0.2
             }
            },
            "type": "barpolar"
           }
          ],
          "carpet": [
           {
            "aaxis": {
             "endlinecolor": "#2a3f5f",
             "gridcolor": "white",
             "linecolor": "white",
             "minorgridcolor": "white",
             "startlinecolor": "#2a3f5f"
            },
            "baxis": {
             "endlinecolor": "#2a3f5f",
             "gridcolor": "white",
             "linecolor": "white",
             "minorgridcolor": "white",
             "startlinecolor": "#2a3f5f"
            },
            "type": "carpet"
           }
          ],
          "choropleth": [
           {
            "colorbar": {
             "outlinewidth": 0,
             "ticks": ""
            },
            "type": "choropleth"
           }
          ],
          "contour": [
           {
            "colorbar": {
             "outlinewidth": 0,
             "ticks": ""
            },
            "colorscale": [
             [
              0,
              "#0d0887"
             ],
             [
              0.1111111111111111,
              "#46039f"
             ],
             [
              0.2222222222222222,
              "#7201a8"
             ],
             [
              0.3333333333333333,
              "#9c179e"
             ],
             [
              0.4444444444444444,
              "#bd3786"
             ],
             [
              0.5555555555555556,
              "#d8576b"
             ],
             [
              0.6666666666666666,
              "#ed7953"
             ],
             [
              0.7777777777777778,
              "#fb9f3a"
             ],
             [
              0.8888888888888888,
              "#fdca26"
             ],
             [
              1,
              "#f0f921"
             ]
            ],
            "type": "contour"
           }
          ],
          "contourcarpet": [
           {
            "colorbar": {
             "outlinewidth": 0,
             "ticks": ""
            },
            "type": "contourcarpet"
           }
          ],
          "heatmap": [
           {
            "colorbar": {
             "outlinewidth": 0,
             "ticks": ""
            },
            "colorscale": [
             [
              0,
              "#0d0887"
             ],
             [
              0.1111111111111111,
              "#46039f"
             ],
             [
              0.2222222222222222,
              "#7201a8"
             ],
             [
              0.3333333333333333,
              "#9c179e"
             ],
             [
              0.4444444444444444,
              "#bd3786"
             ],
             [
              0.5555555555555556,
              "#d8576b"
             ],
             [
              0.6666666666666666,
              "#ed7953"
             ],
             [
              0.7777777777777778,
              "#fb9f3a"
             ],
             [
              0.8888888888888888,
              "#fdca26"
             ],
             [
              1,
              "#f0f921"
             ]
            ],
            "type": "heatmap"
           }
          ],
          "heatmapgl": [
           {
            "colorbar": {
             "outlinewidth": 0,
             "ticks": ""
            },
            "colorscale": [
             [
              0,
              "#0d0887"
             ],
             [
              0.1111111111111111,
              "#46039f"
             ],
             [
              0.2222222222222222,
              "#7201a8"
             ],
             [
              0.3333333333333333,
              "#9c179e"
             ],
             [
              0.4444444444444444,
              "#bd3786"
             ],
             [
              0.5555555555555556,
              "#d8576b"
             ],
             [
              0.6666666666666666,
              "#ed7953"
             ],
             [
              0.7777777777777778,
              "#fb9f3a"
             ],
             [
              0.8888888888888888,
              "#fdca26"
             ],
             [
              1,
              "#f0f921"
             ]
            ],
            "type": "heatmapgl"
           }
          ],
          "histogram": [
           {
            "marker": {
             "pattern": {
              "fillmode": "overlay",
              "size": 10,
              "solidity": 0.2
             }
            },
            "type": "histogram"
           }
          ],
          "histogram2d": [
           {
            "colorbar": {
             "outlinewidth": 0,
             "ticks": ""
            },
            "colorscale": [
             [
              0,
              "#0d0887"
             ],
             [
              0.1111111111111111,
              "#46039f"
             ],
             [
              0.2222222222222222,
              "#7201a8"
             ],
             [
              0.3333333333333333,
              "#9c179e"
             ],
             [
              0.4444444444444444,
              "#bd3786"
             ],
             [
              0.5555555555555556,
              "#d8576b"
             ],
             [
              0.6666666666666666,
              "#ed7953"
             ],
             [
              0.7777777777777778,
              "#fb9f3a"
             ],
             [
              0.8888888888888888,
              "#fdca26"
             ],
             [
              1,
              "#f0f921"
             ]
            ],
            "type": "histogram2d"
           }
          ],
          "histogram2dcontour": [
           {
            "colorbar": {
             "outlinewidth": 0,
             "ticks": ""
            },
            "colorscale": [
             [
              0,
              "#0d0887"
             ],
             [
              0.1111111111111111,
              "#46039f"
             ],
             [
              0.2222222222222222,
              "#7201a8"
             ],
             [
              0.3333333333333333,
              "#9c179e"
             ],
             [
              0.4444444444444444,
              "#bd3786"
             ],
             [
              0.5555555555555556,
              "#d8576b"
             ],
             [
              0.6666666666666666,
              "#ed7953"
             ],
             [
              0.7777777777777778,
              "#fb9f3a"
             ],
             [
              0.8888888888888888,
              "#fdca26"
             ],
             [
              1,
              "#f0f921"
             ]
            ],
            "type": "histogram2dcontour"
           }
          ],
          "mesh3d": [
           {
            "colorbar": {
             "outlinewidth": 0,
             "ticks": ""
            },
            "type": "mesh3d"
           }
          ],
          "parcoords": [
           {
            "line": {
             "colorbar": {
              "outlinewidth": 0,
              "ticks": ""
             }
            },
            "type": "parcoords"
           }
          ],
          "pie": [
           {
            "automargin": true,
            "type": "pie"
           }
          ],
          "scatter": [
           {
            "fillpattern": {
             "fillmode": "overlay",
             "size": 10,
             "solidity": 0.2
            },
            "type": "scatter"
           }
          ],
          "scatter3d": [
           {
            "line": {
             "colorbar": {
              "outlinewidth": 0,
              "ticks": ""
             }
            },
            "marker": {
             "colorbar": {
              "outlinewidth": 0,
              "ticks": ""
             }
            },
            "type": "scatter3d"
           }
          ],
          "scattercarpet": [
           {
            "marker": {
             "colorbar": {
              "outlinewidth": 0,
              "ticks": ""
             }
            },
            "type": "scattercarpet"
           }
          ],
          "scattergeo": [
           {
            "marker": {
             "colorbar": {
              "outlinewidth": 0,
              "ticks": ""
             }
            },
            "type": "scattergeo"
           }
          ],
          "scattergl": [
           {
            "marker": {
             "colorbar": {
              "outlinewidth": 0,
              "ticks": ""
             }
            },
            "type": "scattergl"
           }
          ],
          "scattermapbox": [
           {
            "marker": {
             "colorbar": {
              "outlinewidth": 0,
              "ticks": ""
             }
            },
            "type": "scattermapbox"
           }
          ],
          "scatterpolar": [
           {
            "marker": {
             "colorbar": {
              "outlinewidth": 0,
              "ticks": ""
             }
            },
            "type": "scatterpolar"
           }
          ],
          "scatterpolargl": [
           {
            "marker": {
             "colorbar": {
              "outlinewidth": 0,
              "ticks": ""
             }
            },
            "type": "scatterpolargl"
           }
          ],
          "scatterternary": [
           {
            "marker": {
             "colorbar": {
              "outlinewidth": 0,
              "ticks": ""
             }
            },
            "type": "scatterternary"
           }
          ],
          "surface": [
           {
            "colorbar": {
             "outlinewidth": 0,
             "ticks": ""
            },
            "colorscale": [
             [
              0,
              "#0d0887"
             ],
             [
              0.1111111111111111,
              "#46039f"
             ],
             [
              0.2222222222222222,
              "#7201a8"
             ],
             [
              0.3333333333333333,
              "#9c179e"
             ],
             [
              0.4444444444444444,
              "#bd3786"
             ],
             [
              0.5555555555555556,
              "#d8576b"
             ],
             [
              0.6666666666666666,
              "#ed7953"
             ],
             [
              0.7777777777777778,
              "#fb9f3a"
             ],
             [
              0.8888888888888888,
              "#fdca26"
             ],
             [
              1,
              "#f0f921"
             ]
            ],
            "type": "surface"
           }
          ],
          "table": [
           {
            "cells": {
             "fill": {
              "color": "#EBF0F8"
             },
             "line": {
              "color": "white"
             }
            },
            "header": {
             "fill": {
              "color": "#C8D4E3"
             },
             "line": {
              "color": "white"
             }
            },
            "type": "table"
           }
          ]
         },
         "layout": {
          "annotationdefaults": {
           "arrowcolor": "#2a3f5f",
           "arrowhead": 0,
           "arrowwidth": 1
          },
          "autotypenumbers": "strict",
          "coloraxis": {
           "colorbar": {
            "outlinewidth": 0,
            "ticks": ""
           }
          },
          "colorscale": {
           "diverging": [
            [
             0,
             "#8e0152"
            ],
            [
             0.1,
             "#c51b7d"
            ],
            [
             0.2,
             "#de77ae"
            ],
            [
             0.3,
             "#f1b6da"
            ],
            [
             0.4,
             "#fde0ef"
            ],
            [
             0.5,
             "#f7f7f7"
            ],
            [
             0.6,
             "#e6f5d0"
            ],
            [
             0.7,
             "#b8e186"
            ],
            [
             0.8,
             "#7fbc41"
            ],
            [
             0.9,
             "#4d9221"
            ],
            [
             1,
             "#276419"
            ]
           ],
           "sequential": [
            [
             0,
             "#0d0887"
            ],
            [
             0.1111111111111111,
             "#46039f"
            ],
            [
             0.2222222222222222,
             "#7201a8"
            ],
            [
             0.3333333333333333,
             "#9c179e"
            ],
            [
             0.4444444444444444,
             "#bd3786"
            ],
            [
             0.5555555555555556,
             "#d8576b"
            ],
            [
             0.6666666666666666,
             "#ed7953"
            ],
            [
             0.7777777777777778,
             "#fb9f3a"
            ],
            [
             0.8888888888888888,
             "#fdca26"
            ],
            [
             1,
             "#f0f921"
            ]
           ],
           "sequentialminus": [
            [
             0,
             "#0d0887"
            ],
            [
             0.1111111111111111,
             "#46039f"
            ],
            [
             0.2222222222222222,
             "#7201a8"
            ],
            [
             0.3333333333333333,
             "#9c179e"
            ],
            [
             0.4444444444444444,
             "#bd3786"
            ],
            [
             0.5555555555555556,
             "#d8576b"
            ],
            [
             0.6666666666666666,
             "#ed7953"
            ],
            [
             0.7777777777777778,
             "#fb9f3a"
            ],
            [
             0.8888888888888888,
             "#fdca26"
            ],
            [
             1,
             "#f0f921"
            ]
           ]
          },
          "colorway": [
           "#636efa",
           "#EF553B",
           "#00cc96",
           "#ab63fa",
           "#FFA15A",
           "#19d3f3",
           "#FF6692",
           "#B6E880",
           "#FF97FF",
           "#FECB52"
          ],
          "font": {
           "color": "#2a3f5f"
          },
          "geo": {
           "bgcolor": "white",
           "lakecolor": "white",
           "landcolor": "#E5ECF6",
           "showlakes": true,
           "showland": true,
           "subunitcolor": "white"
          },
          "hoverlabel": {
           "align": "left"
          },
          "hovermode": "closest",
          "mapbox": {
           "style": "light"
          },
          "paper_bgcolor": "white",
          "plot_bgcolor": "#E5ECF6",
          "polar": {
           "angularaxis": {
            "gridcolor": "white",
            "linecolor": "white",
            "ticks": ""
           },
           "bgcolor": "#E5ECF6",
           "radialaxis": {
            "gridcolor": "white",
            "linecolor": "white",
            "ticks": ""
           }
          },
          "scene": {
           "xaxis": {
            "backgroundcolor": "#E5ECF6",
            "gridcolor": "white",
            "gridwidth": 2,
            "linecolor": "white",
            "showbackground": true,
            "ticks": "",
            "zerolinecolor": "white"
           },
           "yaxis": {
            "backgroundcolor": "#E5ECF6",
            "gridcolor": "white",
            "gridwidth": 2,
            "linecolor": "white",
            "showbackground": true,
            "ticks": "",
            "zerolinecolor": "white"
           },
           "zaxis": {
            "backgroundcolor": "#E5ECF6",
            "gridcolor": "white",
            "gridwidth": 2,
            "linecolor": "white",
            "showbackground": true,
            "ticks": "",
            "zerolinecolor": "white"
           }
          },
          "shapedefaults": {
           "line": {
            "color": "#2a3f5f"
           }
          },
          "ternary": {
           "aaxis": {
            "gridcolor": "white",
            "linecolor": "white",
            "ticks": ""
           },
           "baxis": {
            "gridcolor": "white",
            "linecolor": "white",
            "ticks": ""
           },
           "bgcolor": "#E5ECF6",
           "caxis": {
            "gridcolor": "white",
            "linecolor": "white",
            "ticks": ""
           }
          },
          "title": {
           "x": 0.05
          },
          "xaxis": {
           "automargin": true,
           "gridcolor": "white",
           "linecolor": "white",
           "ticks": "",
           "title": {
            "standoff": 15
           },
           "zerolinecolor": "white",
           "zerolinewidth": 2
          },
          "yaxis": {
           "automargin": true,
           "gridcolor": "white",
           "linecolor": "white",
           "ticks": "",
           "title": {
            "standoff": 15
           },
           "zerolinecolor": "white",
           "zerolinewidth": 2
          }
         }
        },
        "title": {
         "text": "none treemap"
        }
       }
      }
     },
     "metadata": {},
     "output_type": "display_data"
    }
   ],
   "source": [
    "data_graph_none = [{'key': key, 'percentage': percentage} for key, percentage in percentages.items()]\n",
    "df = pd.DataFrame(data_graph_none)\n",
    "fig = px.treemap(df, path=['key'], values='percentage',\n",
    "                 color='percentage', color_continuous_scale='Magma',\n",
    "                 title='none treemap')\n",
    "fig.update_layout(\n",
    "    paper_bgcolor='black',  \n",
    "    plot_bgcolor='black',   \n",
    "    font_color='white'      \n",
    ")\n",
    "fig.show()"
   ]
  },
  {
   "cell_type": "markdown",
   "metadata": {},
   "source": [
    "# ECOSCORE NULL:"
   ]
  },
  {
   "cell_type": "code",
   "execution_count": 15,
   "metadata": {},
   "outputs": [],
   "source": [
    "def count_specific_values(jsonl_file_path):\n",
    "    counts = {\n",
    "        'ecoscore_groups': {'z': 0},\n",
    "        'ecoscore_note': {999: 0}\n",
    "    }\n",
    "    total_counts = {\n",
    "        'ecoscore_groups': 0,\n",
    "        'ecoscore_note': 0\n",
    "    }\n",
    "    with open(jsonl_file_path, 'r') as file:\n",
    "        for line in file:\n",
    "            data = json.loads(line)\n",
    "            for key, value in data.items():\n",
    "                if key in counts:\n",
    "                    total_counts[key] += 1\n",
    "                    if key == 'ecoscore_groups' and value == 'z':\n",
    "                        counts[key]['z'] += 1\n",
    "                    if key == 'ecoscore_note' and value == 999:\n",
    "                        counts[key][999] += 1\n",
    "    return counts, total_counts\n",
    "\n",
    "def calculate_percentage(count, total):\n",
    "    if total > 0:\n",
    "        percentage = (count / total) * 100\n",
    "    else:\n",
    "        percentage = 0\n",
    "    return percentage\n",
    "\n",
    "counts, total_counts = count_specific_values(jsonl_02)\n",
    "\n",
    "z_percentage = calculate_percentage(counts['ecoscore_groups']['z'], total_counts['ecoscore_groups'])\n",
    "number_999 = counts['ecoscore_note'][999]\n",
    "number_999_percentage = calculate_percentage(number_999, total_counts['ecoscore_note'])\n",
    "\n",
    "labels = ['Ecoscore Groups (z)', 'Ecoscore Note (999)']\n",
    "values = [z_percentage, number_999_percentage]\n",
    "counts_values = [counts['ecoscore_groups']['z'], counts['ecoscore_note'][999]]"
   ]
  },
  {
   "cell_type": "code",
   "execution_count": 16,
   "metadata": {},
   "outputs": [
    {
     "data": {
      "application/vnd.plotly.v1+json": {
       "config": {
        "plotlyServerURL": "https://plot.ly"
       },
       "data": [
        {
         "name": "Pourcentage",
         "text": [
          "74.62%",
          "74.62%"
         ],
         "textposition": "auto",
         "type": "bar",
         "x": [
          "Ecoscore Groups (z)",
          "Ecoscore Note (999)"
         ],
         "y": [
          74.61745109633023,
          74.61745109633023
         ]
        },
        {
         "name": "Nombre",
         "text": [
          "2371215",
          "2371215"
         ],
         "textposition": "auto",
         "type": "bar",
         "x": [
          "Ecoscore Groups (z)",
          "Ecoscore Note (999)"
         ],
         "y": [
          2371215,
          2371215
         ]
        }
       ],
       "layout": {
        "barmode": "group",
        "template": {
         "data": {
          "bar": [
           {
            "error_x": {
             "color": "#2a3f5f"
            },
            "error_y": {
             "color": "#2a3f5f"
            },
            "marker": {
             "line": {
              "color": "#E5ECF6",
              "width": 0.5
             },
             "pattern": {
              "fillmode": "overlay",
              "size": 10,
              "solidity": 0.2
             }
            },
            "type": "bar"
           }
          ],
          "barpolar": [
           {
            "marker": {
             "line": {
              "color": "#E5ECF6",
              "width": 0.5
             },
             "pattern": {
              "fillmode": "overlay",
              "size": 10,
              "solidity": 0.2
             }
            },
            "type": "barpolar"
           }
          ],
          "carpet": [
           {
            "aaxis": {
             "endlinecolor": "#2a3f5f",
             "gridcolor": "white",
             "linecolor": "white",
             "minorgridcolor": "white",
             "startlinecolor": "#2a3f5f"
            },
            "baxis": {
             "endlinecolor": "#2a3f5f",
             "gridcolor": "white",
             "linecolor": "white",
             "minorgridcolor": "white",
             "startlinecolor": "#2a3f5f"
            },
            "type": "carpet"
           }
          ],
          "choropleth": [
           {
            "colorbar": {
             "outlinewidth": 0,
             "ticks": ""
            },
            "type": "choropleth"
           }
          ],
          "contour": [
           {
            "colorbar": {
             "outlinewidth": 0,
             "ticks": ""
            },
            "colorscale": [
             [
              0,
              "#0d0887"
             ],
             [
              0.1111111111111111,
              "#46039f"
             ],
             [
              0.2222222222222222,
              "#7201a8"
             ],
             [
              0.3333333333333333,
              "#9c179e"
             ],
             [
              0.4444444444444444,
              "#bd3786"
             ],
             [
              0.5555555555555556,
              "#d8576b"
             ],
             [
              0.6666666666666666,
              "#ed7953"
             ],
             [
              0.7777777777777778,
              "#fb9f3a"
             ],
             [
              0.8888888888888888,
              "#fdca26"
             ],
             [
              1,
              "#f0f921"
             ]
            ],
            "type": "contour"
           }
          ],
          "contourcarpet": [
           {
            "colorbar": {
             "outlinewidth": 0,
             "ticks": ""
            },
            "type": "contourcarpet"
           }
          ],
          "heatmap": [
           {
            "colorbar": {
             "outlinewidth": 0,
             "ticks": ""
            },
            "colorscale": [
             [
              0,
              "#0d0887"
             ],
             [
              0.1111111111111111,
              "#46039f"
             ],
             [
              0.2222222222222222,
              "#7201a8"
             ],
             [
              0.3333333333333333,
              "#9c179e"
             ],
             [
              0.4444444444444444,
              "#bd3786"
             ],
             [
              0.5555555555555556,
              "#d8576b"
             ],
             [
              0.6666666666666666,
              "#ed7953"
             ],
             [
              0.7777777777777778,
              "#fb9f3a"
             ],
             [
              0.8888888888888888,
              "#fdca26"
             ],
             [
              1,
              "#f0f921"
             ]
            ],
            "type": "heatmap"
           }
          ],
          "heatmapgl": [
           {
            "colorbar": {
             "outlinewidth": 0,
             "ticks": ""
            },
            "colorscale": [
             [
              0,
              "#0d0887"
             ],
             [
              0.1111111111111111,
              "#46039f"
             ],
             [
              0.2222222222222222,
              "#7201a8"
             ],
             [
              0.3333333333333333,
              "#9c179e"
             ],
             [
              0.4444444444444444,
              "#bd3786"
             ],
             [
              0.5555555555555556,
              "#d8576b"
             ],
             [
              0.6666666666666666,
              "#ed7953"
             ],
             [
              0.7777777777777778,
              "#fb9f3a"
             ],
             [
              0.8888888888888888,
              "#fdca26"
             ],
             [
              1,
              "#f0f921"
             ]
            ],
            "type": "heatmapgl"
           }
          ],
          "histogram": [
           {
            "marker": {
             "pattern": {
              "fillmode": "overlay",
              "size": 10,
              "solidity": 0.2
             }
            },
            "type": "histogram"
           }
          ],
          "histogram2d": [
           {
            "colorbar": {
             "outlinewidth": 0,
             "ticks": ""
            },
            "colorscale": [
             [
              0,
              "#0d0887"
             ],
             [
              0.1111111111111111,
              "#46039f"
             ],
             [
              0.2222222222222222,
              "#7201a8"
             ],
             [
              0.3333333333333333,
              "#9c179e"
             ],
             [
              0.4444444444444444,
              "#bd3786"
             ],
             [
              0.5555555555555556,
              "#d8576b"
             ],
             [
              0.6666666666666666,
              "#ed7953"
             ],
             [
              0.7777777777777778,
              "#fb9f3a"
             ],
             [
              0.8888888888888888,
              "#fdca26"
             ],
             [
              1,
              "#f0f921"
             ]
            ],
            "type": "histogram2d"
           }
          ],
          "histogram2dcontour": [
           {
            "colorbar": {
             "outlinewidth": 0,
             "ticks": ""
            },
            "colorscale": [
             [
              0,
              "#0d0887"
             ],
             [
              0.1111111111111111,
              "#46039f"
             ],
             [
              0.2222222222222222,
              "#7201a8"
             ],
             [
              0.3333333333333333,
              "#9c179e"
             ],
             [
              0.4444444444444444,
              "#bd3786"
             ],
             [
              0.5555555555555556,
              "#d8576b"
             ],
             [
              0.6666666666666666,
              "#ed7953"
             ],
             [
              0.7777777777777778,
              "#fb9f3a"
             ],
             [
              0.8888888888888888,
              "#fdca26"
             ],
             [
              1,
              "#f0f921"
             ]
            ],
            "type": "histogram2dcontour"
           }
          ],
          "mesh3d": [
           {
            "colorbar": {
             "outlinewidth": 0,
             "ticks": ""
            },
            "type": "mesh3d"
           }
          ],
          "parcoords": [
           {
            "line": {
             "colorbar": {
              "outlinewidth": 0,
              "ticks": ""
             }
            },
            "type": "parcoords"
           }
          ],
          "pie": [
           {
            "automargin": true,
            "type": "pie"
           }
          ],
          "scatter": [
           {
            "fillpattern": {
             "fillmode": "overlay",
             "size": 10,
             "solidity": 0.2
            },
            "type": "scatter"
           }
          ],
          "scatter3d": [
           {
            "line": {
             "colorbar": {
              "outlinewidth": 0,
              "ticks": ""
             }
            },
            "marker": {
             "colorbar": {
              "outlinewidth": 0,
              "ticks": ""
             }
            },
            "type": "scatter3d"
           }
          ],
          "scattercarpet": [
           {
            "marker": {
             "colorbar": {
              "outlinewidth": 0,
              "ticks": ""
             }
            },
            "type": "scattercarpet"
           }
          ],
          "scattergeo": [
           {
            "marker": {
             "colorbar": {
              "outlinewidth": 0,
              "ticks": ""
             }
            },
            "type": "scattergeo"
           }
          ],
          "scattergl": [
           {
            "marker": {
             "colorbar": {
              "outlinewidth": 0,
              "ticks": ""
             }
            },
            "type": "scattergl"
           }
          ],
          "scattermapbox": [
           {
            "marker": {
             "colorbar": {
              "outlinewidth": 0,
              "ticks": ""
             }
            },
            "type": "scattermapbox"
           }
          ],
          "scatterpolar": [
           {
            "marker": {
             "colorbar": {
              "outlinewidth": 0,
              "ticks": ""
             }
            },
            "type": "scatterpolar"
           }
          ],
          "scatterpolargl": [
           {
            "marker": {
             "colorbar": {
              "outlinewidth": 0,
              "ticks": ""
             }
            },
            "type": "scatterpolargl"
           }
          ],
          "scatterternary": [
           {
            "marker": {
             "colorbar": {
              "outlinewidth": 0,
              "ticks": ""
             }
            },
            "type": "scatterternary"
           }
          ],
          "surface": [
           {
            "colorbar": {
             "outlinewidth": 0,
             "ticks": ""
            },
            "colorscale": [
             [
              0,
              "#0d0887"
             ],
             [
              0.1111111111111111,
              "#46039f"
             ],
             [
              0.2222222222222222,
              "#7201a8"
             ],
             [
              0.3333333333333333,
              "#9c179e"
             ],
             [
              0.4444444444444444,
              "#bd3786"
             ],
             [
              0.5555555555555556,
              "#d8576b"
             ],
             [
              0.6666666666666666,
              "#ed7953"
             ],
             [
              0.7777777777777778,
              "#fb9f3a"
             ],
             [
              0.8888888888888888,
              "#fdca26"
             ],
             [
              1,
              "#f0f921"
             ]
            ],
            "type": "surface"
           }
          ],
          "table": [
           {
            "cells": {
             "fill": {
              "color": "#EBF0F8"
             },
             "line": {
              "color": "white"
             }
            },
            "header": {
             "fill": {
              "color": "#C8D4E3"
             },
             "line": {
              "color": "white"
             }
            },
            "type": "table"
           }
          ]
         },
         "layout": {
          "annotationdefaults": {
           "arrowcolor": "#2a3f5f",
           "arrowhead": 0,
           "arrowwidth": 1
          },
          "autotypenumbers": "strict",
          "coloraxis": {
           "colorbar": {
            "outlinewidth": 0,
            "ticks": ""
           }
          },
          "colorscale": {
           "diverging": [
            [
             0,
             "#8e0152"
            ],
            [
             0.1,
             "#c51b7d"
            ],
            [
             0.2,
             "#de77ae"
            ],
            [
             0.3,
             "#f1b6da"
            ],
            [
             0.4,
             "#fde0ef"
            ],
            [
             0.5,
             "#f7f7f7"
            ],
            [
             0.6,
             "#e6f5d0"
            ],
            [
             0.7,
             "#b8e186"
            ],
            [
             0.8,
             "#7fbc41"
            ],
            [
             0.9,
             "#4d9221"
            ],
            [
             1,
             "#276419"
            ]
           ],
           "sequential": [
            [
             0,
             "#0d0887"
            ],
            [
             0.1111111111111111,
             "#46039f"
            ],
            [
             0.2222222222222222,
             "#7201a8"
            ],
            [
             0.3333333333333333,
             "#9c179e"
            ],
            [
             0.4444444444444444,
             "#bd3786"
            ],
            [
             0.5555555555555556,
             "#d8576b"
            ],
            [
             0.6666666666666666,
             "#ed7953"
            ],
            [
             0.7777777777777778,
             "#fb9f3a"
            ],
            [
             0.8888888888888888,
             "#fdca26"
            ],
            [
             1,
             "#f0f921"
            ]
           ],
           "sequentialminus": [
            [
             0,
             "#0d0887"
            ],
            [
             0.1111111111111111,
             "#46039f"
            ],
            [
             0.2222222222222222,
             "#7201a8"
            ],
            [
             0.3333333333333333,
             "#9c179e"
            ],
            [
             0.4444444444444444,
             "#bd3786"
            ],
            [
             0.5555555555555556,
             "#d8576b"
            ],
            [
             0.6666666666666666,
             "#ed7953"
            ],
            [
             0.7777777777777778,
             "#fb9f3a"
            ],
            [
             0.8888888888888888,
             "#fdca26"
            ],
            [
             1,
             "#f0f921"
            ]
           ]
          },
          "colorway": [
           "#636efa",
           "#EF553B",
           "#00cc96",
           "#ab63fa",
           "#FFA15A",
           "#19d3f3",
           "#FF6692",
           "#B6E880",
           "#FF97FF",
           "#FECB52"
          ],
          "font": {
           "color": "#2a3f5f"
          },
          "geo": {
           "bgcolor": "white",
           "lakecolor": "white",
           "landcolor": "#E5ECF6",
           "showlakes": true,
           "showland": true,
           "subunitcolor": "white"
          },
          "hoverlabel": {
           "align": "left"
          },
          "hovermode": "closest",
          "mapbox": {
           "style": "light"
          },
          "paper_bgcolor": "white",
          "plot_bgcolor": "#E5ECF6",
          "polar": {
           "angularaxis": {
            "gridcolor": "white",
            "linecolor": "white",
            "ticks": ""
           },
           "bgcolor": "#E5ECF6",
           "radialaxis": {
            "gridcolor": "white",
            "linecolor": "white",
            "ticks": ""
           }
          },
          "scene": {
           "xaxis": {
            "backgroundcolor": "#E5ECF6",
            "gridcolor": "white",
            "gridwidth": 2,
            "linecolor": "white",
            "showbackground": true,
            "ticks": "",
            "zerolinecolor": "white"
           },
           "yaxis": {
            "backgroundcolor": "#E5ECF6",
            "gridcolor": "white",
            "gridwidth": 2,
            "linecolor": "white",
            "showbackground": true,
            "ticks": "",
            "zerolinecolor": "white"
           },
           "zaxis": {
            "backgroundcolor": "#E5ECF6",
            "gridcolor": "white",
            "gridwidth": 2,
            "linecolor": "white",
            "showbackground": true,
            "ticks": "",
            "zerolinecolor": "white"
           }
          },
          "shapedefaults": {
           "line": {
            "color": "#2a3f5f"
           }
          },
          "ternary": {
           "aaxis": {
            "gridcolor": "white",
            "linecolor": "white",
            "ticks": ""
           },
           "baxis": {
            "gridcolor": "white",
            "linecolor": "white",
            "ticks": ""
           },
           "bgcolor": "#E5ECF6",
           "caxis": {
            "gridcolor": "white",
            "linecolor": "white",
            "ticks": ""
           }
          },
          "title": {
           "x": 0.05
          },
          "xaxis": {
           "automargin": true,
           "gridcolor": "white",
           "linecolor": "white",
           "ticks": "",
           "title": {
            "standoff": 15
           },
           "zerolinecolor": "white",
           "zerolinewidth": 2
          },
          "yaxis": {
           "automargin": true,
           "gridcolor": "white",
           "linecolor": "white",
           "ticks": "",
           "title": {
            "standoff": 15
           },
           "zerolinecolor": "white",
           "zerolinewidth": 2
          }
         }
        },
        "title": {
         "text": "percentage empty data ecoscore group and grad"
        },
        "xaxis": {
         "title": {
          "text": "Catégories"
         }
        },
        "yaxis": {
         "title": {
          "text": "Valeurs"
         }
        }
       }
      }
     },
     "metadata": {},
     "output_type": "display_data"
    }
   ],
   "source": [
    "fig = go.Figure()\n",
    "fig.add_trace(go.Bar(\n",
    "    x=labels,\n",
    "    y=values,\n",
    "    name='Pourcentage',\n",
    "    text=[f'{v:.2f}%' for v in values],\n",
    "    textposition='auto'\n",
    "))\n",
    "fig.add_trace(go.Bar(\n",
    "    x=labels,\n",
    "    y=counts_values,\n",
    "    name='Nombre',\n",
    "    text=[str(v) for v in counts_values],\n",
    "    textposition='auto'\n",
    "))\n",
    "fig.update_layout(\n",
    "    title='percentage empty data ecoscore group and grad',\n",
    "    xaxis_title='Catégories',\n",
    "    yaxis_title='Valeurs',\n",
    "    barmode='group'\n",
    ")\n",
    "fig.show()"
   ]
  },
  {
   "cell_type": "markdown",
   "metadata": {},
   "source": [
    "# TOTAL ARTICLES NUMBER:"
   ]
  },
  {
   "cell_type": "code",
   "execution_count": 17,
   "metadata": {},
   "outputs": [
    {
     "name": "stdout",
     "output_type": "stream",
     "text": [
      "total product number: 3177829\n"
     ]
    }
   ],
   "source": [
    "print(f\"total product number: {total_labels}\")"
   ]
  },
  {
   "cell_type": "markdown",
   "metadata": {},
   "source": [
    "# JSONL SAMPLE:"
   ]
  },
  {
   "cell_type": "code",
   "execution_count": 20,
   "metadata": {},
   "outputs": [
    {
     "data": {
      "text/html": [
       "<div>\n",
       "<style scoped>\n",
       "    .dataframe tbody tr th:only-of-type {\n",
       "        vertical-align: middle;\n",
       "    }\n",
       "\n",
       "    .dataframe tbody tr th {\n",
       "        vertical-align: top;\n",
       "    }\n",
       "\n",
       "    .dataframe thead th {\n",
       "        text-align: right;\n",
       "    }\n",
       "</style>\n",
       "<table border=\"1\" class=\"dataframe\">\n",
       "  <thead>\n",
       "    <tr style=\"text-align: right;\">\n",
       "      <th></th>\n",
       "      <th>groups</th>\n",
       "      <th>packaging</th>\n",
       "      <th>name</th>\n",
       "      <th>ecoscore_groups</th>\n",
       "      <th>ecoscore_note</th>\n",
       "      <th>code</th>\n",
       "      <th>countries</th>\n",
       "      <th>ingredients</th>\n",
       "      <th>categories</th>\n",
       "      <th>labels_note</th>\n",
       "    </tr>\n",
       "  </thead>\n",
       "  <tbody>\n",
       "    <tr>\n",
       "      <th>0</th>\n",
       "      <td>Sugary snacks</td>\n",
       "      <td>None</td>\n",
       "      <td>Johnvince foods, sour watermelon slices</td>\n",
       "      <td>z</td>\n",
       "      <td>999</td>\n",
       "      <td>64777813331</td>\n",
       "      <td>united states</td>\n",
       "      <td>sugar, added-sugar, disaccharide, glucose-syrup, monosaccharide, glucose, modified-corn-starch, starch, corn-starch, modified-starch, e330, e334, sodium-citrate, minerals, sodium, e270, natural-and-artificial-flavouring, flavouring, natural-flavouring, artificial-flavouring, e102, e110, e129</td>\n",
       "      <td>snacks, sweet-snacks, confectioneries</td>\n",
       "      <td>0</td>\n",
       "    </tr>\n",
       "    <tr>\n",
       "      <th>1</th>\n",
       "      <td>None</td>\n",
       "      <td>None</td>\n",
       "      <td>Beef With Teriyaki Sauce And Noodles</td>\n",
       "      <td>z</td>\n",
       "      <td>999</td>\n",
       "      <td>118894904172</td>\n",
       "      <td>united states</td>\n",
       "      <td>flour-battered-beef, noodle, dough, teriyaki-sauce, sauce, pineapple-juice, fruit, juice, fruit-juice, pineapple, beef, animal, flour, canola-oil, oil-and-fat, vegetable-oil-and-fat, rapeseed-oil, wheat-flour, cereal, wheat, cereal-flour, water, canola, vegetable, root-vegetable, rapeseed, soya-oil, vegetable-oil, dried-epp-powder, egg-white, egg, salt, corn-starch, starch, fd-c-yellow-5-and-6, e211, e297, e300, vitamins, vitamin-e, vitamin-a, soy-sauce, sugar, added-sugar, disaccharide, ginger, condiment, spice, onion, onion-family-vegetable, potato-starch, garlic, black-pepper, seed, pepper, barley-malt-flour, barley, barley-flour, e375, reduced-iron, minerals, iron, thiamin-mononitrate, thiamin, e101, folic-acid, folate, vitamin-c, soya-bean, legume, pulse, soya, rice</td>\n",
       "      <td>None</td>\n",
       "      <td>0</td>\n",
       "    </tr>\n",
       "    <tr>\n",
       "      <th>2</th>\n",
       "      <td>Sugary snacks</td>\n",
       "      <td>None</td>\n",
       "      <td>Ktm, Enjoy, Juicy Gummy Bears</td>\n",
       "      <td>b</td>\n",
       "      <td>69</td>\n",
       "      <td>679757140132</td>\n",
       "      <td>united states</td>\n",
       "      <td>corn-syrup, added-sugar, disaccharide, e428, e420, pectic, e330, e296, sodium-citrate, minerals, sodium, medium-chain-triglycerides, e903, artificial-flavouring, flavouring, plum, fruit, prunus-species-fruit, e954, sucralose-caramel-color-aspartame-fd-c-red-40, e102, e133, beef, animal, coconut-oil, oil-and-fat, vegetable-oil-and-fat, vegetable-oil</td>\n",
       "      <td>snacks, sweet-snacks, confectioneries, candies, gummi-candies, gummy-bears</td>\n",
       "      <td>0</td>\n",
       "    </tr>\n",
       "    <tr>\n",
       "      <th>3</th>\n",
       "      <td>None</td>\n",
       "      <td>None</td>\n",
       "      <td>Emmentaler Switzerland Emmentaler Gotthelf</td>\n",
       "      <td>z</td>\n",
       "      <td>999</td>\n",
       "      <td>2107879007258</td>\n",
       "      <td>switzerland</td>\n",
       "      <td>milk, dairy, salt</td>\n",
       "      <td>None</td>\n",
       "      <td>1</td>\n",
       "    </tr>\n",
       "    <tr>\n",
       "      <th>4</th>\n",
       "      <td>Cereals and potatoes</td>\n",
       "      <td>Plastique,Sachet</td>\n",
       "      <td>Muffins complets</td>\n",
       "      <td>b</td>\n",
       "      <td>71</td>\n",
       "      <td>3245412694516</td>\n",
       "      <td>france</td>\n",
       "      <td>whole-wheat-flour, cereal, flour, wheat, cereal-flour, wholemeal-flour, wheat-flour, water, wheat-gluten, gluten, yeast, durum-wheat-semolina, durum-wheat, semolina, wheat-fiber, fiber, vegetable-fiber, sugar, added-sugar, disaccharide, salt, preservative, e282, e200</td>\n",
       "      <td>plant-based-foods-and-beverages, plant-based-foods, cereals-and-potatoes, breads, special-breads, english-muffins</td>\n",
       "      <td>5</td>\n",
       "    </tr>\n",
       "    <tr>\n",
       "      <th>5</th>\n",
       "      <td>Composite foods</td>\n",
       "      <td>Frozen,Sachet plastique</td>\n",
       "      <td>Emincés de poireaux à la crème</td>\n",
       "      <td>b</td>\n",
       "      <td>79</td>\n",
       "      <td>3250390561019</td>\n",
       "      <td>france</td>\n",
       "      <td>leek, vegetable, onion-family-vegetable, fresh-cream, dairy, cream, water, wheat-flour, cereal, flour, wheat, cereal-flour, butter, salt, poultry-broth, poultry, broth, modified-potato-starch, starch, modified-starch, potato-starch, pepper, seed, nutmeg, condiment, spice, dextrose, added-sugar, monosaccharide, glucose, poultry-fat, oil-and-fat, fat, animal-fat, flavouring, sugar, disaccharide, herbs-and-spices, herb, celery, stalk-vegetable</td>\n",
       "      <td>plant-based-foods-and-beverages, plant-based-foods, fruits-and-vegetables-based-foods, vegetables-based-foods, meals, vegetables, vegetable-rods, leeks</td>\n",
       "      <td>0</td>\n",
       "    </tr>\n",
       "    <tr>\n",
       "      <th>6</th>\n",
       "      <td>None</td>\n",
       "      <td>None</td>\n",
       "      <td>Iglo Grillade Océane Côté Sud Colin D'alaska Sauge</td>\n",
       "      <td>z</td>\n",
       "      <td>999</td>\n",
       "      <td>3661405000162</td>\n",
       "      <td>france</td>\n",
       "      <td>None</td>\n",
       "      <td>None</td>\n",
       "      <td>6</td>\n",
       "    </tr>\n",
       "    <tr>\n",
       "      <th>7</th>\n",
       "      <td>Sugary snacks</td>\n",
       "      <td>None</td>\n",
       "      <td>Chocolat bonnat</td>\n",
       "      <td>e</td>\n",
       "      <td>15</td>\n",
       "      <td>3700152400747</td>\n",
       "      <td>france</td>\n",
       "      <td>None</td>\n",
       "      <td>snacks, sweet-snacks, cocoa-and-its-products, chocolates, dark-chocolates</td>\n",
       "      <td>0</td>\n",
       "    </tr>\n",
       "    <tr>\n",
       "      <th>8</th>\n",
       "      <td>None</td>\n",
       "      <td>None</td>\n",
       "      <td>Sauce Samorai</td>\n",
       "      <td>z</td>\n",
       "      <td>999</td>\n",
       "      <td>3760257870913</td>\n",
       "      <td>france</td>\n",
       "      <td>None</td>\n",
       "      <td>None</td>\n",
       "      <td>0</td>\n",
       "    </tr>\n",
       "    <tr>\n",
       "      <th>9</th>\n",
       "      <td>None</td>\n",
       "      <td>None</td>\n",
       "      <td>Nescafe</td>\n",
       "      <td>z</td>\n",
       "      <td>999</td>\n",
       "      <td>4902201406147</td>\n",
       "      <td>far</td>\n",
       "      <td>None</td>\n",
       "      <td>None</td>\n",
       "      <td>0</td>\n",
       "    </tr>\n",
       "    <tr>\n",
       "      <th>10</th>\n",
       "      <td>None</td>\n",
       "      <td>None</td>\n",
       "      <td>Gaufrettes</td>\n",
       "      <td>z</td>\n",
       "      <td>999</td>\n",
       "      <td>5055534338315</td>\n",
       "      <td>france</td>\n",
       "      <td>None</td>\n",
       "      <td>None</td>\n",
       "      <td>0</td>\n",
       "    </tr>\n",
       "    <tr>\n",
       "      <th>11</th>\n",
       "      <td>Sugary snacks</td>\n",
       "      <td>None</td>\n",
       "      <td>bonbons raspberry</td>\n",
       "      <td>c</td>\n",
       "      <td>42</td>\n",
       "      <td>6411401034510</td>\n",
       "      <td>finland, france</td>\n",
       "      <td>sweetener, firming-agent, thickener, flavouring, glazing-agent, colour, e967, e470a, e466, e414, e903, e901, e904, e120</td>\n",
       "      <td>snacks, sweet-snacks, confectioneries, candies</td>\n",
       "      <td>3</td>\n",
       "    </tr>\n",
       "    <tr>\n",
       "      <th>12</th>\n",
       "      <td>None</td>\n",
       "      <td>Boite en carton, Enveloppes individuelles en papier aluminium</td>\n",
       "      <td>Bouillon Kub légumes</td>\n",
       "      <td>z</td>\n",
       "      <td>999</td>\n",
       "      <td>7613035918177</td>\n",
       "      <td>france, switzerland</td>\n",
       "      <td>salt, flavour-enhancer, glucose-syrup, added-sugar, monosaccharide, glucose, non-hydrogenated-palm-oil, oil-and-fat, vegetable-oil-and-fat, palm-oil-and-fat, palm-oil, vegetable, onion, root-vegetable, onion-family-vegetable, carrot, taproot-vegetable, shallot, tomato, fruit-vegetable, flavouring, turmeric, condiment, spice, parsley, herb, leaf-vegetable, coriander-seed, seed, coriander, nutmeg, e621, wheat, cereal</td>\n",
       "      <td>plant-based-foods-and-beverages, plant-based-foods, dried-products, dried-plant-based-foods, dried-products-to-be-rehydrated, broths, dehydrated-broths, vegetable-broths, bouillon-cubes, dehydrated-vegetable-bouillons, groceries</td>\n",
       "      <td>3</td>\n",
       "    </tr>\n",
       "    <tr>\n",
       "      <th>13</th>\n",
       "      <td>Fat and sauces</td>\n",
       "      <td>Plastic</td>\n",
       "      <td>Sriracha sehr scharfe Chilisauce</td>\n",
       "      <td>z</td>\n",
       "      <td>999</td>\n",
       "      <td>8853662056067</td>\n",
       "      <td>austria, germany</td>\n",
       "      <td>chili-pepper, vegetable, fruit-vegetable, sugar, added-sugar, disaccharide, water, salt, acid, e330, thickener, flavour-enhancer, preservative, e260, e415, e621, e202</td>\n",
       "      <td>condiments, sauces, hot-sauces</td>\n",
       "      <td>0</td>\n",
       "    </tr>\n",
       "    <tr>\n",
       "      <th>14</th>\n",
       "      <td>Sugary snacks</td>\n",
       "      <td>None</td>\n",
       "      <td>Fruchtaufstrich 75% Frucht, Bio Aprikose</td>\n",
       "      <td>b</td>\n",
       "      <td>79</td>\n",
       "      <td>4388844087200</td>\n",
       "      <td>germany</td>\n",
       "      <td>apricot, fruit, prunus-species-fruit, cane-sugar, added-sugar, disaccharide, sugar, lemon-juice, juice, fruit-juice, gelling-agent, e440a</td>\n",
       "      <td>plant-based-foods-and-beverages, plant-based-foods, fruits-and-vegetables-based-foods, breakfasts, spreads, fruits-based-foods, plant-based-spreads, sweet-spreads, fruit-and-vegetable-preserves, jams, apricot-jams, marmalades</td>\n",
       "      <td>4</td>\n",
       "    </tr>\n",
       "    <tr>\n",
       "      <th>15</th>\n",
       "      <td>Fish Meat Eggs</td>\n",
       "      <td>None</td>\n",
       "      <td>Cooked mussel meats</td>\n",
       "      <td>c</td>\n",
       "      <td>47</td>\n",
       "      <td>614583924020</td>\n",
       "      <td>united states</td>\n",
       "      <td>None</td>\n",
       "      <td>seafood, mollusc, mussels, cooked-mussels</td>\n",
       "      <td>2</td>\n",
       "    </tr>\n",
       "    <tr>\n",
       "      <th>16</th>\n",
       "      <td>Fish Meat Eggs</td>\n",
       "      <td>None</td>\n",
       "      <td>Jamón cocido al horno</td>\n",
       "      <td>e</td>\n",
       "      <td>12</td>\n",
       "      <td>584228700419001216</td>\n",
       "      <td>spain</td>\n",
       "      <td>None</td>\n",
       "      <td>meats-and-their-products, meats, prepared-meats, hams, white-hams</td>\n",
       "      <td>1</td>\n",
       "    </tr>\n",
       "    <tr>\n",
       "      <th>17</th>\n",
       "      <td>None</td>\n",
       "      <td>None</td>\n",
       "      <td>Sal con Hierbas</td>\n",
       "      <td>b</td>\n",
       "      <td>78</td>\n",
       "      <td>8412206000753</td>\n",
       "      <td>france, spain</td>\n",
       "      <td>sea-salt, salt, rosemary, herb, thyme, marjoram, basil</td>\n",
       "      <td>condiments, salts</td>\n",
       "      <td>2</td>\n",
       "    </tr>\n",
       "    <tr>\n",
       "      <th>18</th>\n",
       "      <td>None</td>\n",
       "      <td>None</td>\n",
       "      <td>Potage aux légumes</td>\n",
       "      <td>z</td>\n",
       "      <td>999</td>\n",
       "      <td>873976011550</td>\n",
       "      <td>canada</td>\n",
       "      <td>None</td>\n",
       "      <td>None</td>\n",
       "      <td>0</td>\n",
       "    </tr>\n",
       "    <tr>\n",
       "      <th>19</th>\n",
       "      <td>None</td>\n",
       "      <td>None</td>\n",
       "      <td>Infusion Pomme Cannelle</td>\n",
       "      <td>z</td>\n",
       "      <td>999</td>\n",
       "      <td>3422150002159</td>\n",
       "      <td>france</td>\n",
       "      <td>None</td>\n",
       "      <td>None</td>\n",
       "      <td>0</td>\n",
       "    </tr>\n",
       "    <tr>\n",
       "      <th>20</th>\n",
       "      <td>None</td>\n",
       "      <td>None</td>\n",
       "      <td>Chocolate flavored baking chips</td>\n",
       "      <td>z</td>\n",
       "      <td>999</td>\n",
       "      <td>11225038389</td>\n",
       "      <td>united states</td>\n",
       "      <td>sugar, added-sugar, disaccharide, hydrogenated-palm-kernel-oil, oil-and-fat, vegetable-oil-and-fat, palm-kernel-oil-and-fat, palm-kernel-oil, cocoa, plant, cocoa-processed-with-alkali, dextrose, monosaccharide, glucose, skimmed-milk-powder, dairy, milk-powder, and-soy-lecithin</td>\n",
       "      <td>baking-decorations</td>\n",
       "      <td>0</td>\n",
       "    </tr>\n",
       "    <tr>\n",
       "      <th>21</th>\n",
       "      <td>Composite foods</td>\n",
       "      <td>None</td>\n",
       "      <td>Sausage &amp; uncured pepperoni pizza</td>\n",
       "      <td>z</td>\n",
       "      <td>999</td>\n",
       "      <td>9427119760</td>\n",
       "      <td>united states</td>\n",
       "      <td>flour-blend, flour, water, grown-tomatoes-in-heavy-puree, mozzarella, dairy, cheese, white-cheddar, cheddar, all-natural-sausage, all-natural-uncured-pepperoni, wheat-flour, cereal, wheat, cereal-flour, barley-malt-flour, barley, barley-flour, vine-ripened-fresh-unpeeled-ground-tomatoes, extra-heavy-puree, and-sea-salt, pasteurised-milk, milk, lactic-ferments, ferment, microbial-culture, salt, and-enzymes, enzyme, pork, animal, spice, condiment, sugar, added-sugar, disaccharide, natural-flavouring, flavouring, garlic, vegetable, root-vegetable, onion-family-vegetable, no-nitrites-and-nitrates-added-except-for-naturally-occurring-in-celery-juice-and-cherry-powder, contains-2-and-less-of-turbinado-sugar, celery-juice, stalk-vegetable, celery, cherry, fruit, prunus-species-fruit, lactic-acid-starter-culture, oleoresin-of-paprika, lime-juice-concentrate, citrus-fruit, juice, fruit-juice, lime, lime-juice</td>\n",
       "      <td>meals, pizzas-pies-and-quiches, pizzas</td>\n",
       "      <td>0</td>\n",
       "    </tr>\n",
       "    <tr>\n",
       "      <th>22</th>\n",
       "      <td>Fish Meat Eggs</td>\n",
       "      <td>None</td>\n",
       "      <td>Elite Tandoori Wild Tuna</td>\n",
       "      <td>d</td>\n",
       "      <td>21</td>\n",
       "      <td>859480006237</td>\n",
       "      <td>united states, world</td>\n",
       "      <td>sardine, fish, oily-fish, extra-virgin-olive-oil, oil-and-fat, vegetable-oil-and-fat, vegetable-oil, olive-oil, virgin-olive-oil, sea-salt, salt</td>\n",
       "      <td>seafood, fishes-and-their-products, canned-foods, fishes, fatty-fishes, canned-fishes, tunas, canned-tunas</td>\n",
       "      <td>2</td>\n",
       "    </tr>\n",
       "    <tr>\n",
       "      <th>23</th>\n",
       "      <td>None</td>\n",
       "      <td>None</td>\n",
       "      <td>Palomitas</td>\n",
       "      <td>z</td>\n",
       "      <td>999</td>\n",
       "      <td>8437000299271</td>\n",
       "      <td>spain</td>\n",
       "      <td>None</td>\n",
       "      <td>None</td>\n",
       "      <td>0</td>\n",
       "    </tr>\n",
       "    <tr>\n",
       "      <th>24</th>\n",
       "      <td>None</td>\n",
       "      <td>None</td>\n",
       "      <td>Pommes</td>\n",
       "      <td>z</td>\n",
       "      <td>999</td>\n",
       "      <td>66022002569</td>\n",
       "      <td>canada</td>\n",
       "      <td>None</td>\n",
       "      <td>None</td>\n",
       "      <td>0</td>\n",
       "    </tr>\n",
       "    <tr>\n",
       "      <th>25</th>\n",
       "      <td>Fruits and vegetables</td>\n",
       "      <td>None</td>\n",
       "      <td>Oignon rouge</td>\n",
       "      <td>b</td>\n",
       "      <td>78</td>\n",
       "      <td>3664636000772</td>\n",
       "      <td>france</td>\n",
       "      <td>None</td>\n",
       "      <td>plant-based-foods-and-beverages, plant-based-foods, fruits-and-vegetables-based-foods, condiments, vegetables-based-foods, culinary-plants, onions-and-their-products, onions, red-onions, groceries</td>\n",
       "      <td>0</td>\n",
       "    </tr>\n",
       "    <tr>\n",
       "      <th>26</th>\n",
       "      <td>Sugary snacks</td>\n",
       "      <td>None</td>\n",
       "      <td>Kit kat framboise</td>\n",
       "      <td>d</td>\n",
       "      <td>33</td>\n",
       "      <td>4902201175326</td>\n",
       "      <td>france</td>\n",
       "      <td>None</td>\n",
       "      <td>snacks, sweet-snacks, cocoa-and-its-products, confectioneries, bars, chocolate-candies, bars-covered-with-chocolate, chocolate-biscuity-bars</td>\n",
       "      <td>0</td>\n",
       "    </tr>\n",
       "    <tr>\n",
       "      <th>27</th>\n",
       "      <td>Composite foods</td>\n",
       "      <td>None</td>\n",
       "      <td>Che Pinsa!</td>\n",
       "      <td>z</td>\n",
       "      <td>999</td>\n",
       "      <td>8015673027683</td>\n",
       "      <td>italy</td>\n",
       "      <td>None</td>\n",
       "      <td>frozen-foods, meals, pizzas-pies-and-quiches, pizzas, frozen-pizzas-and-pies, frozen-pizzas</td>\n",
       "      <td>0</td>\n",
       "    </tr>\n",
       "    <tr>\n",
       "      <th>28</th>\n",
       "      <td>None</td>\n",
       "      <td>None</td>\n",
       "      <td>Chocolate mousse</td>\n",
       "      <td>z</td>\n",
       "      <td>999</td>\n",
       "      <td>9334330000838</td>\n",
       "      <td>far</td>\n",
       "      <td>None</td>\n",
       "      <td>None</td>\n",
       "      <td>2</td>\n",
       "    </tr>\n",
       "    <tr>\n",
       "      <th>29</th>\n",
       "      <td>None</td>\n",
       "      <td>None</td>\n",
       "      <td>Blumenkohl Kokos Suppe</td>\n",
       "      <td>z</td>\n",
       "      <td>999</td>\n",
       "      <td>4056489375753</td>\n",
       "      <td>germany</td>\n",
       "      <td>None</td>\n",
       "      <td>None</td>\n",
       "      <td>0</td>\n",
       "    </tr>\n",
       "    <tr>\n",
       "      <th>30</th>\n",
       "      <td>None</td>\n",
       "      <td>None</td>\n",
       "      <td>Crema di mandorla bio</td>\n",
       "      <td>z</td>\n",
       "      <td>999</td>\n",
       "      <td>8025367000694</td>\n",
       "      <td>italy</td>\n",
       "      <td>None</td>\n",
       "      <td>None</td>\n",
       "      <td>2</td>\n",
       "    </tr>\n",
       "    <tr>\n",
       "      <th>31</th>\n",
       "      <td>None</td>\n",
       "      <td>None</td>\n",
       "      <td>White High Fibre Wrap</td>\n",
       "      <td>z</td>\n",
       "      <td>999</td>\n",
       "      <td>9310023145116</td>\n",
       "      <td>australia</td>\n",
       "      <td>None</td>\n",
       "      <td>None</td>\n",
       "      <td>4</td>\n",
       "    </tr>\n",
       "    <tr>\n",
       "      <th>32</th>\n",
       "      <td>None</td>\n",
       "      <td>None</td>\n",
       "      <td>Coconut wafer rolls</td>\n",
       "      <td>z</td>\n",
       "      <td>999</td>\n",
       "      <td>9415748021544</td>\n",
       "      <td>far, australia</td>\n",
       "      <td>None</td>\n",
       "      <td>None</td>\n",
       "      <td>0</td>\n",
       "    </tr>\n",
       "    <tr>\n",
       "      <th>33</th>\n",
       "      <td>None</td>\n",
       "      <td>None</td>\n",
       "      <td>Granola chocolat et amatante soufflee</td>\n",
       "      <td>z</td>\n",
       "      <td>999</td>\n",
       "      <td>3760302470204</td>\n",
       "      <td>france</td>\n",
       "      <td>None</td>\n",
       "      <td>None</td>\n",
       "      <td>2</td>\n",
       "    </tr>\n",
       "    <tr>\n",
       "      <th>34</th>\n",
       "      <td>None</td>\n",
       "      <td>None</td>\n",
       "      <td>Pasta Siciliana Style</td>\n",
       "      <td>z</td>\n",
       "      <td>999</td>\n",
       "      <td>4056489471868</td>\n",
       "      <td>spain</td>\n",
       "      <td>None</td>\n",
       "      <td>None</td>\n",
       "      <td>0</td>\n",
       "    </tr>\n",
       "    <tr>\n",
       "      <th>35</th>\n",
       "      <td>None</td>\n",
       "      <td>None</td>\n",
       "      <td>Natura rice and walnut drink</td>\n",
       "      <td>z</td>\n",
       "      <td>999</td>\n",
       "      <td>725821000915</td>\n",
       "      <td>united states</td>\n",
       "      <td>None</td>\n",
       "      <td>None</td>\n",
       "      <td>3</td>\n",
       "    </tr>\n",
       "    <tr>\n",
       "      <th>36</th>\n",
       "      <td>None</td>\n",
       "      <td>None</td>\n",
       "      <td>Organic Italian Soda Pomegranate</td>\n",
       "      <td>z</td>\n",
       "      <td>999</td>\n",
       "      <td>41220113538</td>\n",
       "      <td>united states</td>\n",
       "      <td>None</td>\n",
       "      <td>None</td>\n",
       "      <td>2</td>\n",
       "    </tr>\n",
       "    <tr>\n",
       "      <th>37</th>\n",
       "      <td>None</td>\n",
       "      <td>None</td>\n",
       "      <td>Vogelnestli</td>\n",
       "      <td>z</td>\n",
       "      <td>999</td>\n",
       "      <td>7640151031565</td>\n",
       "      <td>germany</td>\n",
       "      <td>None</td>\n",
       "      <td>None</td>\n",
       "      <td>0</td>\n",
       "    </tr>\n",
       "    <tr>\n",
       "      <th>38</th>\n",
       "      <td>None</td>\n",
       "      <td>None</td>\n",
       "      <td>I’m Free From</td>\n",
       "      <td>z</td>\n",
       "      <td>999</td>\n",
       "      <td>9310645271286</td>\n",
       "      <td>australia</td>\n",
       "      <td>None</td>\n",
       "      <td>beverages</td>\n",
       "      <td>0</td>\n",
       "    </tr>\n",
       "    <tr>\n",
       "      <th>39</th>\n",
       "      <td>None</td>\n",
       "      <td>None</td>\n",
       "      <td>Garlic &amp; Herbs goat cheese</td>\n",
       "      <td>z</td>\n",
       "      <td>999</td>\n",
       "      <td>75450254273</td>\n",
       "      <td>united states</td>\n",
       "      <td>None</td>\n",
       "      <td>None</td>\n",
       "      <td>0</td>\n",
       "    </tr>\n",
       "    <tr>\n",
       "      <th>40</th>\n",
       "      <td>None</td>\n",
       "      <td>None</td>\n",
       "      <td>Lentils</td>\n",
       "      <td>z</td>\n",
       "      <td>999</td>\n",
       "      <td>758890513116</td>\n",
       "      <td>united states</td>\n",
       "      <td>None</td>\n",
       "      <td>None</td>\n",
       "      <td>0</td>\n",
       "    </tr>\n",
       "    <tr>\n",
       "      <th>41</th>\n",
       "      <td>None</td>\n",
       "      <td>None</td>\n",
       "      <td>Galettes saveur gachr</td>\n",
       "      <td>z</td>\n",
       "      <td>999</td>\n",
       "      <td>3760211203092</td>\n",
       "      <td>france</td>\n",
       "      <td>None</td>\n",
       "      <td>None</td>\n",
       "      <td>0</td>\n",
       "    </tr>\n",
       "    <tr>\n",
       "      <th>42</th>\n",
       "      <td>None</td>\n",
       "      <td>None</td>\n",
       "      <td>Teryaki Beef Jerky</td>\n",
       "      <td>z</td>\n",
       "      <td>999</td>\n",
       "      <td>791604921128</td>\n",
       "      <td>united states</td>\n",
       "      <td>None</td>\n",
       "      <td>None</td>\n",
       "      <td>0</td>\n",
       "    </tr>\n",
       "    <tr>\n",
       "      <th>43</th>\n",
       "      <td>None</td>\n",
       "      <td>None</td>\n",
       "      <td>Egg salad sandwich</td>\n",
       "      <td>z</td>\n",
       "      <td>999</td>\n",
       "      <td>1390</td>\n",
       "      <td>ireland</td>\n",
       "      <td>None</td>\n",
       "      <td>None</td>\n",
       "      <td>0</td>\n",
       "    </tr>\n",
       "    <tr>\n",
       "      <th>44</th>\n",
       "      <td>None</td>\n",
       "      <td>None</td>\n",
       "      <td>Sablés bretons froment</td>\n",
       "      <td>z</td>\n",
       "      <td>999</td>\n",
       "      <td>3760074413324</td>\n",
       "      <td>france</td>\n",
       "      <td>None</td>\n",
       "      <td>None</td>\n",
       "      <td>0</td>\n",
       "    </tr>\n",
       "    <tr>\n",
       "      <th>45</th>\n",
       "      <td>None</td>\n",
       "      <td>None</td>\n",
       "      <td>Crispiest</td>\n",
       "      <td>z</td>\n",
       "      <td>999</td>\n",
       "      <td>1114900339</td>\n",
       "      <td>united states</td>\n",
       "      <td>None</td>\n",
       "      <td>None</td>\n",
       "      <td>0</td>\n",
       "    </tr>\n",
       "    <tr>\n",
       "      <th>46</th>\n",
       "      <td>None</td>\n",
       "      <td>None</td>\n",
       "      <td>Mini plateau libanais - les délices de Djamila</td>\n",
       "      <td>z</td>\n",
       "      <td>999</td>\n",
       "      <td>3582730003164</td>\n",
       "      <td>france</td>\n",
       "      <td>None</td>\n",
       "      <td>None</td>\n",
       "      <td>0</td>\n",
       "    </tr>\n",
       "    <tr>\n",
       "      <th>47</th>\n",
       "      <td>None</td>\n",
       "      <td>None</td>\n",
       "      <td>Marinated garlic cloves</td>\n",
       "      <td>z</td>\n",
       "      <td>999</td>\n",
       "      <td>755884550010</td>\n",
       "      <td>united states</td>\n",
       "      <td>None</td>\n",
       "      <td>None</td>\n",
       "      <td>0</td>\n",
       "    </tr>\n",
       "    <tr>\n",
       "      <th>48</th>\n",
       "      <td>None</td>\n",
       "      <td>None</td>\n",
       "      <td>KICCO season jar</td>\n",
       "      <td>z</td>\n",
       "      <td>999</td>\n",
       "      <td>9556639111156</td>\n",
       "      <td>brunei</td>\n",
       "      <td>None</td>\n",
       "      <td>None</td>\n",
       "      <td>0</td>\n",
       "    </tr>\n",
       "    <tr>\n",
       "      <th>49</th>\n",
       "      <td>None</td>\n",
       "      <td>None</td>\n",
       "      <td>Pflaumen</td>\n",
       "      <td>z</td>\n",
       "      <td>999</td>\n",
       "      <td>4018905267080</td>\n",
       "      <td>germany</td>\n",
       "      <td>None</td>\n",
       "      <td>None</td>\n",
       "      <td>0</td>\n",
       "    </tr>\n",
       "    <tr>\n",
       "      <th>50</th>\n",
       "      <td>None</td>\n",
       "      <td>None</td>\n",
       "      <td>Sardellenfilets</td>\n",
       "      <td>z</td>\n",
       "      <td>999</td>\n",
       "      <td>9120087692613</td>\n",
       "      <td>germany</td>\n",
       "      <td>None</td>\n",
       "      <td>None</td>\n",
       "      <td>0</td>\n",
       "    </tr>\n",
       "    <tr>\n",
       "      <th>51</th>\n",
       "      <td>None</td>\n",
       "      <td>None</td>\n",
       "      <td>Fürst von Metternich, Sekt</td>\n",
       "      <td>z</td>\n",
       "      <td>999</td>\n",
       "      <td>4003310112100</td>\n",
       "      <td>germany</td>\n",
       "      <td>None</td>\n",
       "      <td>None</td>\n",
       "      <td>0</td>\n",
       "    </tr>\n",
       "    <tr>\n",
       "      <th>52</th>\n",
       "      <td>Fish Meat Eggs</td>\n",
       "      <td>None</td>\n",
       "      <td>Květová špička Rump steak</td>\n",
       "      <td>z</td>\n",
       "      <td>999</td>\n",
       "      <td>2801056008365</td>\n",
       "      <td>far</td>\n",
       "      <td>None</td>\n",
       "      <td>meats-and-their-products, beef-and-its-products, meats, beef</td>\n",
       "      <td>0</td>\n",
       "    </tr>\n",
       "    <tr>\n",
       "      <th>53</th>\n",
       "      <td>Beverages</td>\n",
       "      <td>None</td>\n",
       "      <td>Douceur de fruits</td>\n",
       "      <td>d</td>\n",
       "      <td>21</td>\n",
       "      <td>3580288090179</td>\n",
       "      <td>france</td>\n",
       "      <td>None</td>\n",
       "      <td>beverages-and-beverages-preparations, plant-based-foods-and-beverages, beverages, plant-based-beverages, fruit-based-beverages, juices-and-nectars, fruit-juices, multifruit-juices, squeezed-juices, squeezed-multifruit-juices</td>\n",
       "      <td>0</td>\n",
       "    </tr>\n",
       "    <tr>\n",
       "      <th>54</th>\n",
       "      <td>None</td>\n",
       "      <td>None</td>\n",
       "      <td>coca cola</td>\n",
       "      <td>z</td>\n",
       "      <td>999</td>\n",
       "      <td>7790895001413</td>\n",
       "      <td>none</td>\n",
       "      <td>None</td>\n",
       "      <td>None</td>\n",
       "      <td>0</td>\n",
       "    </tr>\n",
       "    <tr>\n",
       "      <th>55</th>\n",
       "      <td>Sugary snacks</td>\n",
       "      <td>None</td>\n",
       "      <td>Milk Chocolate Truffles</td>\n",
       "      <td>z</td>\n",
       "      <td>999</td>\n",
       "      <td>4751027953836</td>\n",
       "      <td>united states</td>\n",
       "      <td>e965, e1200, whole-milk-powder, dairy, milk-powder, vegetable-fat, oil-and-fat, vegetable-oil-and-fat, cocoa-butter, plant, cocoa, hazelnut-paste, nut, tree-nut, hazelnut, cocoa-paste, sweet-whey-powder, whey, sweet-whey, e968, cocoa-powder, macadamia-nut, soya-lecithin, e322, e322i, e476, natural-and-artificial-flavouring, flavouring, natural-flavouring, artificial-flavouring, contains, soya, this-product-is-made-on-a-production-line-that-also-handles-almonds, coconut, fruit, palm-oil, palm-oil-and-fat, palm-kernel-oil, palm-kernel-oil-and-fat, sunflower-lecithin</td>\n",
       "      <td>snacks, sweet-snacks, cocoa-and-its-products, confectioneries, chocolate-candies, bonbons, chocolates, chocolate-truffles</td>\n",
       "      <td>2</td>\n",
       "    </tr>\n",
       "    <tr>\n",
       "      <th>56</th>\n",
       "      <td>None</td>\n",
       "      <td>None</td>\n",
       "      <td>Palkjuice jugo</td>\n",
       "      <td>z</td>\n",
       "      <td>999</td>\n",
       "      <td>7503021919991</td>\n",
       "      <td>spain</td>\n",
       "      <td>None</td>\n",
       "      <td>None</td>\n",
       "      <td>0</td>\n",
       "    </tr>\n",
       "    <tr>\n",
       "      <th>57</th>\n",
       "      <td>None</td>\n",
       "      <td>None</td>\n",
       "      <td>Flavored Syrup</td>\n",
       "      <td>z</td>\n",
       "      <td>999</td>\n",
       "      <td>890366431682</td>\n",
       "      <td>united states</td>\n",
       "      <td>None</td>\n",
       "      <td>None</td>\n",
       "      <td>0</td>\n",
       "    </tr>\n",
       "    <tr>\n",
       "      <th>58</th>\n",
       "      <td>None</td>\n",
       "      <td>None</td>\n",
       "      <td>Monkfruit sweetener classic with erythritol</td>\n",
       "      <td>z</td>\n",
       "      <td>999</td>\n",
       "      <td>830946000044</td>\n",
       "      <td>united states</td>\n",
       "      <td>None</td>\n",
       "      <td>None</td>\n",
       "      <td>0</td>\n",
       "    </tr>\n",
       "    <tr>\n",
       "      <th>59</th>\n",
       "      <td>None</td>\n",
       "      <td>None</td>\n",
       "      <td>Delicious</td>\n",
       "      <td>z</td>\n",
       "      <td>999</td>\n",
       "      <td>6281100850830</td>\n",
       "      <td>qatar</td>\n",
       "      <td>None</td>\n",
       "      <td>None</td>\n",
       "      <td>0</td>\n",
       "    </tr>\n",
       "  </tbody>\n",
       "</table>\n",
       "</div>"
      ],
      "text/plain": [
       "                   groups  \\\n",
       "0           Sugary snacks   \n",
       "1                    None   \n",
       "2           Sugary snacks   \n",
       "3                    None   \n",
       "4    Cereals and potatoes   \n",
       "5         Composite foods   \n",
       "6                    None   \n",
       "7           Sugary snacks   \n",
       "8                    None   \n",
       "9                    None   \n",
       "10                   None   \n",
       "11          Sugary snacks   \n",
       "12                   None   \n",
       "13         Fat and sauces   \n",
       "14          Sugary snacks   \n",
       "15         Fish Meat Eggs   \n",
       "16         Fish Meat Eggs   \n",
       "17                   None   \n",
       "18                   None   \n",
       "19                   None   \n",
       "20                   None   \n",
       "21        Composite foods   \n",
       "22         Fish Meat Eggs   \n",
       "23                   None   \n",
       "24                   None   \n",
       "25  Fruits and vegetables   \n",
       "26          Sugary snacks   \n",
       "27        Composite foods   \n",
       "28                   None   \n",
       "29                   None   \n",
       "30                   None   \n",
       "31                   None   \n",
       "32                   None   \n",
       "33                   None   \n",
       "34                   None   \n",
       "35                   None   \n",
       "36                   None   \n",
       "37                   None   \n",
       "38                   None   \n",
       "39                   None   \n",
       "40                   None   \n",
       "41                   None   \n",
       "42                   None   \n",
       "43                   None   \n",
       "44                   None   \n",
       "45                   None   \n",
       "46                   None   \n",
       "47                   None   \n",
       "48                   None   \n",
       "49                   None   \n",
       "50                   None   \n",
       "51                   None   \n",
       "52         Fish Meat Eggs   \n",
       "53              Beverages   \n",
       "54                   None   \n",
       "55          Sugary snacks   \n",
       "56                   None   \n",
       "57                   None   \n",
       "58                   None   \n",
       "59                   None   \n",
       "\n",
       "                                                        packaging  \\\n",
       "0                                                            None   \n",
       "1                                                            None   \n",
       "2                                                            None   \n",
       "3                                                            None   \n",
       "4                                                Plastique,Sachet   \n",
       "5                                         Frozen,Sachet plastique   \n",
       "6                                                            None   \n",
       "7                                                            None   \n",
       "8                                                            None   \n",
       "9                                                            None   \n",
       "10                                                           None   \n",
       "11                                                           None   \n",
       "12  Boite en carton, Enveloppes individuelles en papier aluminium   \n",
       "13                                                        Plastic   \n",
       "14                                                           None   \n",
       "15                                                           None   \n",
       "16                                                           None   \n",
       "17                                                           None   \n",
       "18                                                           None   \n",
       "19                                                           None   \n",
       "20                                                           None   \n",
       "21                                                           None   \n",
       "22                                                           None   \n",
       "23                                                           None   \n",
       "24                                                           None   \n",
       "25                                                           None   \n",
       "26                                                           None   \n",
       "27                                                           None   \n",
       "28                                                           None   \n",
       "29                                                           None   \n",
       "30                                                           None   \n",
       "31                                                           None   \n",
       "32                                                           None   \n",
       "33                                                           None   \n",
       "34                                                           None   \n",
       "35                                                           None   \n",
       "36                                                           None   \n",
       "37                                                           None   \n",
       "38                                                           None   \n",
       "39                                                           None   \n",
       "40                                                           None   \n",
       "41                                                           None   \n",
       "42                                                           None   \n",
       "43                                                           None   \n",
       "44                                                           None   \n",
       "45                                                           None   \n",
       "46                                                           None   \n",
       "47                                                           None   \n",
       "48                                                           None   \n",
       "49                                                           None   \n",
       "50                                                           None   \n",
       "51                                                           None   \n",
       "52                                                           None   \n",
       "53                                                           None   \n",
       "54                                                           None   \n",
       "55                                                           None   \n",
       "56                                                           None   \n",
       "57                                                           None   \n",
       "58                                                           None   \n",
       "59                                                           None   \n",
       "\n",
       "                                                  name ecoscore_groups  \\\n",
       "0              Johnvince foods, sour watermelon slices               z   \n",
       "1                 Beef With Teriyaki Sauce And Noodles               z   \n",
       "2                        Ktm, Enjoy, Juicy Gummy Bears               b   \n",
       "3           Emmentaler Switzerland Emmentaler Gotthelf               z   \n",
       "4                                     Muffins complets               b   \n",
       "5                       Emincés de poireaux à la crème               b   \n",
       "6   Iglo Grillade Océane Côté Sud Colin D'alaska Sauge               z   \n",
       "7                                      Chocolat bonnat               e   \n",
       "8                                        Sauce Samorai               z   \n",
       "9                                              Nescafe               z   \n",
       "10                                          Gaufrettes               z   \n",
       "11                                   bonbons raspberry               c   \n",
       "12                                Bouillon Kub légumes               z   \n",
       "13                    Sriracha sehr scharfe Chilisauce               z   \n",
       "14            Fruchtaufstrich 75% Frucht, Bio Aprikose               b   \n",
       "15                                 Cooked mussel meats               c   \n",
       "16                               Jamón cocido al horno               e   \n",
       "17                                     Sal con Hierbas               b   \n",
       "18                                  Potage aux légumes               z   \n",
       "19                             Infusion Pomme Cannelle               z   \n",
       "20                     Chocolate flavored baking chips               z   \n",
       "21                   Sausage & uncured pepperoni pizza               z   \n",
       "22                            Elite Tandoori Wild Tuna               d   \n",
       "23                                           Palomitas               z   \n",
       "24                                              Pommes               z   \n",
       "25                                        Oignon rouge               b   \n",
       "26                                   Kit kat framboise               d   \n",
       "27                                          Che Pinsa!               z   \n",
       "28                                    Chocolate mousse               z   \n",
       "29                              Blumenkohl Kokos Suppe               z   \n",
       "30                               Crema di mandorla bio               z   \n",
       "31                               White High Fibre Wrap               z   \n",
       "32                                 Coconut wafer rolls               z   \n",
       "33               Granola chocolat et amatante soufflee               z   \n",
       "34                               Pasta Siciliana Style               z   \n",
       "35                        Natura rice and walnut drink               z   \n",
       "36                    Organic Italian Soda Pomegranate               z   \n",
       "37                                         Vogelnestli               z   \n",
       "38                                       I’m Free From               z   \n",
       "39                          Garlic & Herbs goat cheese               z   \n",
       "40                                             Lentils               z   \n",
       "41                               Galettes saveur gachr               z   \n",
       "42                                  Teryaki Beef Jerky               z   \n",
       "43                                  Egg salad sandwich               z   \n",
       "44                              Sablés bretons froment               z   \n",
       "45                                           Crispiest               z   \n",
       "46      Mini plateau libanais - les délices de Djamila               z   \n",
       "47                             Marinated garlic cloves               z   \n",
       "48                                    KICCO season jar               z   \n",
       "49                                            Pflaumen               z   \n",
       "50                                     Sardellenfilets               z   \n",
       "51                          Fürst von Metternich, Sekt               z   \n",
       "52                           Květová špička Rump steak               z   \n",
       "53                                   Douceur de fruits               d   \n",
       "54                                           coca cola               z   \n",
       "55                             Milk Chocolate Truffles               z   \n",
       "56                                      Palkjuice jugo               z   \n",
       "57                                      Flavored Syrup               z   \n",
       "58         Monkfruit sweetener classic with erythritol               z   \n",
       "59                                           Delicious               z   \n",
       "\n",
       "    ecoscore_note                code             countries  \\\n",
       "0             999         64777813331         united states   \n",
       "1             999        118894904172         united states   \n",
       "2              69        679757140132         united states   \n",
       "3             999       2107879007258           switzerland   \n",
       "4              71       3245412694516                france   \n",
       "5              79       3250390561019                france   \n",
       "6             999       3661405000162                france   \n",
       "7              15       3700152400747                france   \n",
       "8             999       3760257870913                france   \n",
       "9             999       4902201406147                   far   \n",
       "10            999       5055534338315                france   \n",
       "11             42       6411401034510       finland, france   \n",
       "12            999       7613035918177   france, switzerland   \n",
       "13            999       8853662056067      austria, germany   \n",
       "14             79       4388844087200               germany   \n",
       "15             47        614583924020         united states   \n",
       "16             12  584228700419001216                 spain   \n",
       "17             78       8412206000753         france, spain   \n",
       "18            999        873976011550                canada   \n",
       "19            999       3422150002159                france   \n",
       "20            999         11225038389         united states   \n",
       "21            999          9427119760         united states   \n",
       "22             21        859480006237  united states, world   \n",
       "23            999       8437000299271                 spain   \n",
       "24            999         66022002569                canada   \n",
       "25             78       3664636000772                france   \n",
       "26             33       4902201175326                france   \n",
       "27            999       8015673027683                 italy   \n",
       "28            999       9334330000838                   far   \n",
       "29            999       4056489375753               germany   \n",
       "30            999       8025367000694                 italy   \n",
       "31            999       9310023145116             australia   \n",
       "32            999       9415748021544        far, australia   \n",
       "33            999       3760302470204                france   \n",
       "34            999       4056489471868                 spain   \n",
       "35            999        725821000915         united states   \n",
       "36            999         41220113538         united states   \n",
       "37            999       7640151031565               germany   \n",
       "38            999       9310645271286             australia   \n",
       "39            999         75450254273         united states   \n",
       "40            999        758890513116         united states   \n",
       "41            999       3760211203092                france   \n",
       "42            999        791604921128         united states   \n",
       "43            999                1390               ireland   \n",
       "44            999       3760074413324                france   \n",
       "45            999          1114900339         united states   \n",
       "46            999       3582730003164                france   \n",
       "47            999        755884550010         united states   \n",
       "48            999       9556639111156                brunei   \n",
       "49            999       4018905267080               germany   \n",
       "50            999       9120087692613               germany   \n",
       "51            999       4003310112100               germany   \n",
       "52            999       2801056008365                   far   \n",
       "53             21       3580288090179                france   \n",
       "54            999       7790895001413                  none   \n",
       "55            999       4751027953836         united states   \n",
       "56            999       7503021919991                 spain   \n",
       "57            999        890366431682         united states   \n",
       "58            999        830946000044         united states   \n",
       "59            999       6281100850830                 qatar   \n",
       "\n",
       "                                                                                                                                                                                                                                                                                                                                                                                                                                                                                                                                                                                                                                                                                                                                                                                                                                                                                                                                          ingredients  \\\n",
       "0                                                                                                                                                                                                                                                                                                                                                                                                                                                                                                                                                                                                                                                sugar, added-sugar, disaccharide, glucose-syrup, monosaccharide, glucose, modified-corn-starch, starch, corn-starch, modified-starch, e330, e334, sodium-citrate, minerals, sodium, e270, natural-and-artificial-flavouring, flavouring, natural-flavouring, artificial-flavouring, e102, e110, e129   \n",
       "1                                                                                                                                       flour-battered-beef, noodle, dough, teriyaki-sauce, sauce, pineapple-juice, fruit, juice, fruit-juice, pineapple, beef, animal, flour, canola-oil, oil-and-fat, vegetable-oil-and-fat, rapeseed-oil, wheat-flour, cereal, wheat, cereal-flour, water, canola, vegetable, root-vegetable, rapeseed, soya-oil, vegetable-oil, dried-epp-powder, egg-white, egg, salt, corn-starch, starch, fd-c-yellow-5-and-6, e211, e297, e300, vitamins, vitamin-e, vitamin-a, soy-sauce, sugar, added-sugar, disaccharide, ginger, condiment, spice, onion, onion-family-vegetable, potato-starch, garlic, black-pepper, seed, pepper, barley-malt-flour, barley, barley-flour, e375, reduced-iron, minerals, iron, thiamin-mononitrate, thiamin, e101, folic-acid, folate, vitamin-c, soya-bean, legume, pulse, soya, rice   \n",
       "2                                                                                                                                                                                                                                                                                                                                                                                                                                                                                                                                                                                      corn-syrup, added-sugar, disaccharide, e428, e420, pectic, e330, e296, sodium-citrate, minerals, sodium, medium-chain-triglycerides, e903, artificial-flavouring, flavouring, plum, fruit, prunus-species-fruit, e954, sucralose-caramel-color-aspartame-fd-c-red-40, e102, e133, beef, animal, coconut-oil, oil-and-fat, vegetable-oil-and-fat, vegetable-oil   \n",
       "3                                                                                                                                                                                                                                                                                                                                                                                                                                                                                                                                                                                                                                                                                                                                                                                                                                                                                                                                   milk, dairy, salt   \n",
       "4                                                                                                                                                                                                                                                                                                                                                                                                                                                                                                                                                                                                                                                                         whole-wheat-flour, cereal, flour, wheat, cereal-flour, wholemeal-flour, wheat-flour, water, wheat-gluten, gluten, yeast, durum-wheat-semolina, durum-wheat, semolina, wheat-fiber, fiber, vegetable-fiber, sugar, added-sugar, disaccharide, salt, preservative, e282, e200   \n",
       "5                                                                                                                                                                                                                                                                                                                                                                                                                                                                                        leek, vegetable, onion-family-vegetable, fresh-cream, dairy, cream, water, wheat-flour, cereal, flour, wheat, cereal-flour, butter, salt, poultry-broth, poultry, broth, modified-potato-starch, starch, modified-starch, potato-starch, pepper, seed, nutmeg, condiment, spice, dextrose, added-sugar, monosaccharide, glucose, poultry-fat, oil-and-fat, fat, animal-fat, flavouring, sugar, disaccharide, herbs-and-spices, herb, celery, stalk-vegetable   \n",
       "6                                                                                                                                                                                                                                                                                                                                                                                                                                                                                                                                                                                                                                                                                                                                                                                                                                                                                                                                                None   \n",
       "7                                                                                                                                                                                                                                                                                                                                                                                                                                                                                                                                                                                                                                                                                                                                                                                                                                                                                                                                                None   \n",
       "8                                                                                                                                                                                                                                                                                                                                                                                                                                                                                                                                                                                                                                                                                                                                                                                                                                                                                                                                                None   \n",
       "9                                                                                                                                                                                                                                                                                                                                                                                                                                                                                                                                                                                                                                                                                                                                                                                                                                                                                                                                                None   \n",
       "10                                                                                                                                                                                                                                                                                                                                                                                                                                                                                                                                                                                                                                                                                                                                                                                                                                                                                                                                               None   \n",
       "11                                                                                                                                                                                                                                                                                                                                                                                                                                                                                                                                                                                                                                                                                                                                                                                                                            sweetener, firming-agent, thickener, flavouring, glazing-agent, colour, e967, e470a, e466, e414, e903, e901, e904, e120   \n",
       "12                                                                                                                                                                                                                                                                                                                                                                                                                                                                                                                 salt, flavour-enhancer, glucose-syrup, added-sugar, monosaccharide, glucose, non-hydrogenated-palm-oil, oil-and-fat, vegetable-oil-and-fat, palm-oil-and-fat, palm-oil, vegetable, onion, root-vegetable, onion-family-vegetable, carrot, taproot-vegetable, shallot, tomato, fruit-vegetable, flavouring, turmeric, condiment, spice, parsley, herb, leaf-vegetable, coriander-seed, seed, coriander, nutmeg, e621, wheat, cereal   \n",
       "13                                                                                                                                                                                                                                                                                                                                                                                                                                                                                                                                                                                                                                                                                                                                                                             chili-pepper, vegetable, fruit-vegetable, sugar, added-sugar, disaccharide, water, salt, acid, e330, thickener, flavour-enhancer, preservative, e260, e415, e621, e202   \n",
       "14                                                                                                                                                                                                                                                                                                                                                                                                                                                                                                                                                                                                                                                                                                                                                                                                          apricot, fruit, prunus-species-fruit, cane-sugar, added-sugar, disaccharide, sugar, lemon-juice, juice, fruit-juice, gelling-agent, e440a   \n",
       "15                                                                                                                                                                                                                                                                                                                                                                                                                                                                                                                                                                                                                                                                                                                                                                                                                                                                                                                                               None   \n",
       "16                                                                                                                                                                                                                                                                                                                                                                                                                                                                                                                                                                                                                                                                                                                                                                                                                                                                                                                                               None   \n",
       "17                                                                                                                                                                                                                                                                                                                                                                                                                                                                                                                                                                                                                                                                                                                                                                                                                                                                                             sea-salt, salt, rosemary, herb, thyme, marjoram, basil   \n",
       "18                                                                                                                                                                                                                                                                                                                                                                                                                                                                                                                                                                                                                                                                                                                                                                                                                                                                                                                                               None   \n",
       "19                                                                                                                                                                                                                                                                                                                                                                                                                                                                                                                                                                                                                                                                                                                                                                                                                                                                                                                                               None   \n",
       "20                                                                                                                                                                                                                                                                                                                                                                                                                                                                                                                                                                                                                                                              sugar, added-sugar, disaccharide, hydrogenated-palm-kernel-oil, oil-and-fat, vegetable-oil-and-fat, palm-kernel-oil-and-fat, palm-kernel-oil, cocoa, plant, cocoa-processed-with-alkali, dextrose, monosaccharide, glucose, skimmed-milk-powder, dairy, milk-powder, and-soy-lecithin   \n",
       "21  flour-blend, flour, water, grown-tomatoes-in-heavy-puree, mozzarella, dairy, cheese, white-cheddar, cheddar, all-natural-sausage, all-natural-uncured-pepperoni, wheat-flour, cereal, wheat, cereal-flour, barley-malt-flour, barley, barley-flour, vine-ripened-fresh-unpeeled-ground-tomatoes, extra-heavy-puree, and-sea-salt, pasteurised-milk, milk, lactic-ferments, ferment, microbial-culture, salt, and-enzymes, enzyme, pork, animal, spice, condiment, sugar, added-sugar, disaccharide, natural-flavouring, flavouring, garlic, vegetable, root-vegetable, onion-family-vegetable, no-nitrites-and-nitrates-added-except-for-naturally-occurring-in-celery-juice-and-cherry-powder, contains-2-and-less-of-turbinado-sugar, celery-juice, stalk-vegetable, celery, cherry, fruit, prunus-species-fruit, lactic-acid-starter-culture, oleoresin-of-paprika, lime-juice-concentrate, citrus-fruit, juice, fruit-juice, lime, lime-juice   \n",
       "22                                                                                                                                                                                                                                                                                                                                                                                                                                                                                                                                                                                                                                                                                                                                                                                                   sardine, fish, oily-fish, extra-virgin-olive-oil, oil-and-fat, vegetable-oil-and-fat, vegetable-oil, olive-oil, virgin-olive-oil, sea-salt, salt   \n",
       "23                                                                                                                                                                                                                                                                                                                                                                                                                                                                                                                                                                                                                                                                                                                                                                                                                                                                                                                                               None   \n",
       "24                                                                                                                                                                                                                                                                                                                                                                                                                                                                                                                                                                                                                                                                                                                                                                                                                                                                                                                                               None   \n",
       "25                                                                                                                                                                                                                                                                                                                                                                                                                                                                                                                                                                                                                                                                                                                                                                                                                                                                                                                                               None   \n",
       "26                                                                                                                                                                                                                                                                                                                                                                                                                                                                                                                                                                                                                                                                                                                                                                                                                                                                                                                                               None   \n",
       "27                                                                                                                                                                                                                                                                                                                                                                                                                                                                                                                                                                                                                                                                                                                                                                                                                                                                                                                                               None   \n",
       "28                                                                                                                                                                                                                                                                                                                                                                                                                                                                                                                                                                                                                                                                                                                                                                                                                                                                                                                                               None   \n",
       "29                                                                                                                                                                                                                                                                                                                                                                                                                                                                                                                                                                                                                                                                                                                                                                                                                                                                                                                                               None   \n",
       "30                                                                                                                                                                                                                                                                                                                                                                                                                                                                                                                                                                                                                                                                                                                                                                                                                                                                                                                                               None   \n",
       "31                                                                                                                                                                                                                                                                                                                                                                                                                                                                                                                                                                                                                                                                                                                                                                                                                                                                                                                                               None   \n",
       "32                                                                                                                                                                                                                                                                                                                                                                                                                                                                                                                                                                                                                                                                                                                                                                                                                                                                                                                                               None   \n",
       "33                                                                                                                                                                                                                                                                                                                                                                                                                                                                                                                                                                                                                                                                                                                                                                                                                                                                                                                                               None   \n",
       "34                                                                                                                                                                                                                                                                                                                                                                                                                                                                                                                                                                                                                                                                                                                                                                                                                                                                                                                                               None   \n",
       "35                                                                                                                                                                                                                                                                                                                                                                                                                                                                                                                                                                                                                                                                                                                                                                                                                                                                                                                                               None   \n",
       "36                                                                                                                                                                                                                                                                                                                                                                                                                                                                                                                                                                                                                                                                                                                                                                                                                                                                                                                                               None   \n",
       "37                                                                                                                                                                                                                                                                                                                                                                                                                                                                                                                                                                                                                                                                                                                                                                                                                                                                                                                                               None   \n",
       "38                                                                                                                                                                                                                                                                                                                                                                                                                                                                                                                                                                                                                                                                                                                                                                                                                                                                                                                                               None   \n",
       "39                                                                                                                                                                                                                                                                                                                                                                                                                                                                                                                                                                                                                                                                                                                                                                                                                                                                                                                                               None   \n",
       "40                                                                                                                                                                                                                                                                                                                                                                                                                                                                                                                                                                                                                                                                                                                                                                                                                                                                                                                                               None   \n",
       "41                                                                                                                                                                                                                                                                                                                                                                                                                                                                                                                                                                                                                                                                                                                                                                                                                                                                                                                                               None   \n",
       "42                                                                                                                                                                                                                                                                                                                                                                                                                                                                                                                                                                                                                                                                                                                                                                                                                                                                                                                                               None   \n",
       "43                                                                                                                                                                                                                                                                                                                                                                                                                                                                                                                                                                                                                                                                                                                                                                                                                                                                                                                                               None   \n",
       "44                                                                                                                                                                                                                                                                                                                                                                                                                                                                                                                                                                                                                                                                                                                                                                                                                                                                                                                                               None   \n",
       "45                                                                                                                                                                                                                                                                                                                                                                                                                                                                                                                                                                                                                                                                                                                                                                                                                                                                                                                                               None   \n",
       "46                                                                                                                                                                                                                                                                                                                                                                                                                                                                                                                                                                                                                                                                                                                                                                                                                                                                                                                                               None   \n",
       "47                                                                                                                                                                                                                                                                                                                                                                                                                                                                                                                                                                                                                                                                                                                                                                                                                                                                                                                                               None   \n",
       "48                                                                                                                                                                                                                                                                                                                                                                                                                                                                                                                                                                                                                                                                                                                                                                                                                                                                                                                                               None   \n",
       "49                                                                                                                                                                                                                                                                                                                                                                                                                                                                                                                                                                                                                                                                                                                                                                                                                                                                                                                                               None   \n",
       "50                                                                                                                                                                                                                                                                                                                                                                                                                                                                                                                                                                                                                                                                                                                                                                                                                                                                                                                                               None   \n",
       "51                                                                                                                                                                                                                                                                                                                                                                                                                                                                                                                                                                                                                                                                                                                                                                                                                                                                                                                                               None   \n",
       "52                                                                                                                                                                                                                                                                                                                                                                                                                                                                                                                                                                                                                                                                                                                                                                                                                                                                                                                                               None   \n",
       "53                                                                                                                                                                                                                                                                                                                                                                                                                                                                                                                                                                                                                                                                                                                                                                                                                                                                                                                                               None   \n",
       "54                                                                                                                                                                                                                                                                                                                                                                                                                                                                                                                                                                                                                                                                                                                                                                                                                                                                                                                                               None   \n",
       "55                                                                                                                                                                                                                                                                                                                                                         e965, e1200, whole-milk-powder, dairy, milk-powder, vegetable-fat, oil-and-fat, vegetable-oil-and-fat, cocoa-butter, plant, cocoa, hazelnut-paste, nut, tree-nut, hazelnut, cocoa-paste, sweet-whey-powder, whey, sweet-whey, e968, cocoa-powder, macadamia-nut, soya-lecithin, e322, e322i, e476, natural-and-artificial-flavouring, flavouring, natural-flavouring, artificial-flavouring, contains, soya, this-product-is-made-on-a-production-line-that-also-handles-almonds, coconut, fruit, palm-oil, palm-oil-and-fat, palm-kernel-oil, palm-kernel-oil-and-fat, sunflower-lecithin   \n",
       "56                                                                                                                                                                                                                                                                                                                                                                                                                                                                                                                                                                                                                                                                                                                                                                                                                                                                                                                                               None   \n",
       "57                                                                                                                                                                                                                                                                                                                                                                                                                                                                                                                                                                                                                                                                                                                                                                                                                                                                                                                                               None   \n",
       "58                                                                                                                                                                                                                                                                                                                                                                                                                                                                                                                                                                                                                                                                                                                                                                                                                                                                                                                                               None   \n",
       "59                                                                                                                                                                                                                                                                                                                                                                                                                                                                                                                                                                                                                                                                                                                                                                                                                                                                                                                                               None   \n",
       "\n",
       "                                                                                                                                                                                                                              categories  \\\n",
       "0                                                                                                                                                                                                  snacks, sweet-snacks, confectioneries   \n",
       "1                                                                                                                                                                                                                                   None   \n",
       "2                                                                                                                                                             snacks, sweet-snacks, confectioneries, candies, gummi-candies, gummy-bears   \n",
       "3                                                                                                                                                                                                                                   None   \n",
       "4                                                                                                                      plant-based-foods-and-beverages, plant-based-foods, cereals-and-potatoes, breads, special-breads, english-muffins   \n",
       "5                                                                                plant-based-foods-and-beverages, plant-based-foods, fruits-and-vegetables-based-foods, vegetables-based-foods, meals, vegetables, vegetable-rods, leeks   \n",
       "6                                                                                                                                                                                                                                   None   \n",
       "7                                                                                                                                                              snacks, sweet-snacks, cocoa-and-its-products, chocolates, dark-chocolates   \n",
       "8                                                                                                                                                                                                                                   None   \n",
       "9                                                                                                                                                                                                                                   None   \n",
       "10                                                                                                                                                                                                                                  None   \n",
       "11                                                                                                                                                                                        snacks, sweet-snacks, confectioneries, candies   \n",
       "12  plant-based-foods-and-beverages, plant-based-foods, dried-products, dried-plant-based-foods, dried-products-to-be-rehydrated, broths, dehydrated-broths, vegetable-broths, bouillon-cubes, dehydrated-vegetable-bouillons, groceries   \n",
       "13                                                                                                                                                                                                        condiments, sauces, hot-sauces   \n",
       "14     plant-based-foods-and-beverages, plant-based-foods, fruits-and-vegetables-based-foods, breakfasts, spreads, fruits-based-foods, plant-based-spreads, sweet-spreads, fruit-and-vegetable-preserves, jams, apricot-jams, marmalades   \n",
       "15                                                                                                                                                                                             seafood, mollusc, mussels, cooked-mussels   \n",
       "16                                                                                                                                                                     meats-and-their-products, meats, prepared-meats, hams, white-hams   \n",
       "17                                                                                                                                                                                                                     condiments, salts   \n",
       "18                                                                                                                                                                                                                                  None   \n",
       "19                                                                                                                                                                                                                                  None   \n",
       "20                                                                                                                                                                                                                    baking-decorations   \n",
       "21                                                                                                                                                                                                meals, pizzas-pies-and-quiches, pizzas   \n",
       "22                                                                                                                            seafood, fishes-and-their-products, canned-foods, fishes, fatty-fishes, canned-fishes, tunas, canned-tunas   \n",
       "23                                                                                                                                                                                                                                  None   \n",
       "24                                                                                                                                                                                                                                  None   \n",
       "25                                  plant-based-foods-and-beverages, plant-based-foods, fruits-and-vegetables-based-foods, condiments, vegetables-based-foods, culinary-plants, onions-and-their-products, onions, red-onions, groceries   \n",
       "26                                                                                          snacks, sweet-snacks, cocoa-and-its-products, confectioneries, bars, chocolate-candies, bars-covered-with-chocolate, chocolate-biscuity-bars   \n",
       "27                                                                                                                                           frozen-foods, meals, pizzas-pies-and-quiches, pizzas, frozen-pizzas-and-pies, frozen-pizzas   \n",
       "28                                                                                                                                                                                                                                  None   \n",
       "29                                                                                                                                                                                                                                  None   \n",
       "30                                                                                                                                                                                                                                  None   \n",
       "31                                                                                                                                                                                                                                  None   \n",
       "32                                                                                                                                                                                                                                  None   \n",
       "33                                                                                                                                                                                                                                  None   \n",
       "34                                                                                                                                                                                                                                  None   \n",
       "35                                                                                                                                                                                                                                  None   \n",
       "36                                                                                                                                                                                                                                  None   \n",
       "37                                                                                                                                                                                                                                  None   \n",
       "38                                                                                                                                                                                                                             beverages   \n",
       "39                                                                                                                                                                                                                                  None   \n",
       "40                                                                                                                                                                                                                                  None   \n",
       "41                                                                                                                                                                                                                                  None   \n",
       "42                                                                                                                                                                                                                                  None   \n",
       "43                                                                                                                                                                                                                                  None   \n",
       "44                                                                                                                                                                                                                                  None   \n",
       "45                                                                                                                                                                                                                                  None   \n",
       "46                                                                                                                                                                                                                                  None   \n",
       "47                                                                                                                                                                                                                                  None   \n",
       "48                                                                                                                                                                                                                                  None   \n",
       "49                                                                                                                                                                                                                                  None   \n",
       "50                                                                                                                                                                                                                                  None   \n",
       "51                                                                                                                                                                                                                                  None   \n",
       "52                                                                                                                                                                          meats-and-their-products, beef-and-its-products, meats, beef   \n",
       "53      beverages-and-beverages-preparations, plant-based-foods-and-beverages, beverages, plant-based-beverages, fruit-based-beverages, juices-and-nectars, fruit-juices, multifruit-juices, squeezed-juices, squeezed-multifruit-juices   \n",
       "54                                                                                                                                                                                                                                  None   \n",
       "55                                                                                                             snacks, sweet-snacks, cocoa-and-its-products, confectioneries, chocolate-candies, bonbons, chocolates, chocolate-truffles   \n",
       "56                                                                                                                                                                                                                                  None   \n",
       "57                                                                                                                                                                                                                                  None   \n",
       "58                                                                                                                                                                                                                                  None   \n",
       "59                                                                                                                                                                                                                                  None   \n",
       "\n",
       "    labels_note  \n",
       "0             0  \n",
       "1             0  \n",
       "2             0  \n",
       "3             1  \n",
       "4             5  \n",
       "5             0  \n",
       "6             6  \n",
       "7             0  \n",
       "8             0  \n",
       "9             0  \n",
       "10            0  \n",
       "11            3  \n",
       "12            3  \n",
       "13            0  \n",
       "14            4  \n",
       "15            2  \n",
       "16            1  \n",
       "17            2  \n",
       "18            0  \n",
       "19            0  \n",
       "20            0  \n",
       "21            0  \n",
       "22            2  \n",
       "23            0  \n",
       "24            0  \n",
       "25            0  \n",
       "26            0  \n",
       "27            0  \n",
       "28            2  \n",
       "29            0  \n",
       "30            2  \n",
       "31            4  \n",
       "32            0  \n",
       "33            2  \n",
       "34            0  \n",
       "35            3  \n",
       "36            2  \n",
       "37            0  \n",
       "38            0  \n",
       "39            0  \n",
       "40            0  \n",
       "41            0  \n",
       "42            0  \n",
       "43            0  \n",
       "44            0  \n",
       "45            0  \n",
       "46            0  \n",
       "47            0  \n",
       "48            0  \n",
       "49            0  \n",
       "50            0  \n",
       "51            0  \n",
       "52            0  \n",
       "53            0  \n",
       "54            0  \n",
       "55            2  \n",
       "56            0  \n",
       "57            0  \n",
       "58            0  \n",
       "59            0  "
      ]
     },
     "execution_count": 20,
     "metadata": {},
     "output_type": "execute_result"
    }
   ],
   "source": [
    "df = pd.read_json(jsonl_sample, lines=True)\n",
    "df.head(60)"
   ]
  },
  {
   "cell_type": "code",
   "execution_count": 24,
   "metadata": {},
   "outputs": [],
   "source": [
    "def display_first_n_lines_to_dataframe(jsonl_02, num_lines):\n",
    "    data = []\n",
    "    with open(jsonl_02, 'r', encoding='utf-8') as file:\n",
    "        for i, line in enumerate(file):\n",
    "            if i < num_lines:\n",
    "                data.append(json.loads(line.strip()))\n",
    "            else:\n",
    "                break\n",
    "    df_check = pd.DataFrame(data)\n",
    "    return df_check\n",
    "\n",
    "df_check = display_first_n_lines_to_dataframe(jsonl_02, num_lines=60)"
   ]
  },
  {
   "cell_type": "code",
   "execution_count": 25,
   "metadata": {},
   "outputs": [
    {
     "data": {
      "text/html": [
       "<div>\n",
       "<style scoped>\n",
       "    .dataframe tbody tr th:only-of-type {\n",
       "        vertical-align: middle;\n",
       "    }\n",
       "\n",
       "    .dataframe tbody tr th {\n",
       "        vertical-align: top;\n",
       "    }\n",
       "\n",
       "    .dataframe thead th {\n",
       "        text-align: right;\n",
       "    }\n",
       "</style>\n",
       "<table border=\"1\" class=\"dataframe\">\n",
       "  <thead>\n",
       "    <tr style=\"text-align: right;\">\n",
       "      <th></th>\n",
       "      <th>groups</th>\n",
       "      <th>packaging</th>\n",
       "      <th>name</th>\n",
       "      <th>ecoscore_groups</th>\n",
       "      <th>ecoscore_note</th>\n",
       "      <th>code</th>\n",
       "      <th>countries</th>\n",
       "      <th>ingredients</th>\n",
       "      <th>categories</th>\n",
       "      <th>labels_note</th>\n",
       "    </tr>\n",
       "  </thead>\n",
       "  <tbody>\n",
       "    <tr>\n",
       "      <th>0</th>\n",
       "      <td>Cereals and potatoes</td>\n",
       "      <td>None</td>\n",
       "      <td>Tripolini</td>\n",
       "      <td>z</td>\n",
       "      <td>999.0</td>\n",
       "      <td>8002330096939</td>\n",
       "      <td>italy</td>\n",
       "      <td>None</td>\n",
       "      <td>plant-based-foods-and-beverages, plant-based-foods, cereals-and-potatoes, cereals-and-their-products, pastas, cereal-pastas, dry-pastas, durum-wheat-pasta</td>\n",
       "      <td>0</td>\n",
       "    </tr>\n",
       "    <tr>\n",
       "      <th>1</th>\n",
       "      <td>None</td>\n",
       "      <td>None</td>\n",
       "      <td>Pomodoro Cigliegino cat 1</td>\n",
       "      <td>z</td>\n",
       "      <td>999.0</td>\n",
       "      <td>8023772000797</td>\n",
       "      <td>italy</td>\n",
       "      <td>None</td>\n",
       "      <td>None</td>\n",
       "      <td>0</td>\n",
       "    </tr>\n",
       "    <tr>\n",
       "      <th>2</th>\n",
       "      <td>None</td>\n",
       "      <td>None</td>\n",
       "      <td>Poulet piquant</td>\n",
       "      <td>z</td>\n",
       "      <td>999.0</td>\n",
       "      <td>5400113549062</td>\n",
       "      <td>belgium</td>\n",
       "      <td>None</td>\n",
       "      <td>None</td>\n",
       "      <td>0</td>\n",
       "    </tr>\n",
       "    <tr>\n",
       "      <th>3</th>\n",
       "      <td>None</td>\n",
       "      <td>None</td>\n",
       "      <td>Chorizo doux des pyrénées</td>\n",
       "      <td>z</td>\n",
       "      <td>999.0</td>\n",
       "      <td>3067163641478</td>\n",
       "      <td>france</td>\n",
       "      <td>None</td>\n",
       "      <td>None</td>\n",
       "      <td>2</td>\n",
       "    </tr>\n",
       "    <tr>\n",
       "      <th>4</th>\n",
       "      <td>None</td>\n",
       "      <td>None</td>\n",
       "      <td>Coctail mediterráneo</td>\n",
       "      <td>z</td>\n",
       "      <td>999.0</td>\n",
       "      <td>8410909269293</td>\n",
       "      <td>spain</td>\n",
       "      <td>None</td>\n",
       "      <td>None</td>\n",
       "      <td>0</td>\n",
       "    </tr>\n",
       "    <tr>\n",
       "      <th>5</th>\n",
       "      <td>Milk and dairy products</td>\n",
       "      <td>None</td>\n",
       "      <td>Red leicester</td>\n",
       "      <td>c</td>\n",
       "      <td>55.0</td>\n",
       "      <td>5010482618049</td>\n",
       "      <td>spain</td>\n",
       "      <td>None</td>\n",
       "      <td>dairies, fermented-foods, fermented-milk-products, cheeses, cheeses-from-the-united-kingdom, cheeses-from-england, red-leicester</td>\n",
       "      <td>1</td>\n",
       "    </tr>\n",
       "    <tr>\n",
       "      <th>6</th>\n",
       "      <td>None</td>\n",
       "      <td>None</td>\n",
       "      <td>LEAMO CITRONNADE</td>\n",
       "      <td>z</td>\n",
       "      <td>999.0</td>\n",
       "      <td>3700749305646</td>\n",
       "      <td>france</td>\n",
       "      <td>None</td>\n",
       "      <td>None</td>\n",
       "      <td>2</td>\n",
       "    </tr>\n",
       "    <tr>\n",
       "      <th>7</th>\n",
       "      <td>Sugary snacks</td>\n",
       "      <td>None</td>\n",
       "      <td>Mini-oursons gélifiés</td>\n",
       "      <td>b</td>\n",
       "      <td>69.0</td>\n",
       "      <td>3700345904250</td>\n",
       "      <td>france</td>\n",
       "      <td>sugar, added-sugar, disaccharide, corn-syrup, e428, acid, natural-lemon-flavouring, flavouring, natural-flavouring, natural-pear-flavouring, pear-flavouring, natural-orange-flavouring, natural-strawberry-flavouring, strawberry-flavouring, colour, orange, fruit, citrus-fruit, e330, pineapple, cherry, prunus-species-fruit, e122</td>\n",
       "      <td>snacks, sweet-snacks, confectioneries, candies, gummi-candies</td>\n",
       "      <td>1</td>\n",
       "    </tr>\n",
       "    <tr>\n",
       "      <th>8</th>\n",
       "      <td>Fat and sauces</td>\n",
       "      <td>None</td>\n",
       "      <td>Ketchup Neîndulcit</td>\n",
       "      <td>b</td>\n",
       "      <td>74.0</td>\n",
       "      <td>7310240604375</td>\n",
       "      <td>far</td>\n",
       "      <td>salt, natural-flavouring, flavouring, clove, condiment, spice</td>\n",
       "      <td>condiments, sauces, tomato-sauces, ketchup, tomato-ketchup</td>\n",
       "      <td>0</td>\n",
       "    </tr>\n",
       "    <tr>\n",
       "      <th>9</th>\n",
       "      <td>None</td>\n",
       "      <td>None</td>\n",
       "      <td>Mirtilli</td>\n",
       "      <td>z</td>\n",
       "      <td>999.0</td>\n",
       "      <td>8001300659532</td>\n",
       "      <td>italy</td>\n",
       "      <td>None</td>\n",
       "      <td>None</td>\n",
       "      <td>0</td>\n",
       "    </tr>\n",
       "    <tr>\n",
       "      <th>10</th>\n",
       "      <td>None</td>\n",
       "      <td>None</td>\n",
       "      <td>CREME DE PARMESAN REGGIANO AOP</td>\n",
       "      <td>z</td>\n",
       "      <td>999.0</td>\n",
       "      <td>3461953041286</td>\n",
       "      <td>france</td>\n",
       "      <td>None</td>\n",
       "      <td>None</td>\n",
       "      <td>0</td>\n",
       "    </tr>\n",
       "    <tr>\n",
       "      <th>11</th>\n",
       "      <td>None</td>\n",
       "      <td>None</td>\n",
       "      <td>Badiane fruit</td>\n",
       "      <td>z</td>\n",
       "      <td>999.0</td>\n",
       "      <td>3760184280038</td>\n",
       "      <td>france</td>\n",
       "      <td>None</td>\n",
       "      <td>None</td>\n",
       "      <td>0</td>\n",
       "    </tr>\n",
       "    <tr>\n",
       "      <th>12</th>\n",
       "      <td>None</td>\n",
       "      <td>None</td>\n",
       "      <td>Salade de museau de porc a la lyonnaise</td>\n",
       "      <td>z</td>\n",
       "      <td>999.0</td>\n",
       "      <td>3560071426712</td>\n",
       "      <td>france</td>\n",
       "      <td>None</td>\n",
       "      <td>None</td>\n",
       "      <td>0</td>\n",
       "    </tr>\n",
       "    <tr>\n",
       "      <th>13</th>\n",
       "      <td>None</td>\n",
       "      <td>None</td>\n",
       "      <td>Arrosto di pollo</td>\n",
       "      <td>z</td>\n",
       "      <td>999.0</td>\n",
       "      <td>8012666065875</td>\n",
       "      <td>italy</td>\n",
       "      <td>None</td>\n",
       "      <td>None</td>\n",
       "      <td>0</td>\n",
       "    </tr>\n",
       "    <tr>\n",
       "      <th>14</th>\n",
       "      <td>None</td>\n",
       "      <td>None</td>\n",
       "      <td>Soba noedels</td>\n",
       "      <td>z</td>\n",
       "      <td>999.0</td>\n",
       "      <td>8720604470123</td>\n",
       "      <td>netherlands</td>\n",
       "      <td>None</td>\n",
       "      <td>None</td>\n",
       "      <td>0</td>\n",
       "    </tr>\n",
       "    <tr>\n",
       "      <th>15</th>\n",
       "      <td>None</td>\n",
       "      <td>Barquette</td>\n",
       "      <td>Rognon</td>\n",
       "      <td>z</td>\n",
       "      <td>999.0</td>\n",
       "      <td>2692669029652</td>\n",
       "      <td>france</td>\n",
       "      <td>None</td>\n",
       "      <td>None</td>\n",
       "      <td>0</td>\n",
       "    </tr>\n",
       "    <tr>\n",
       "      <th>16</th>\n",
       "      <td>Sugary snacks</td>\n",
       "      <td>Tableta</td>\n",
       "      <td>Nestlé Chocolate Negro 70% Afrutado L'atelier</td>\n",
       "      <td>d</td>\n",
       "      <td>25.0</td>\n",
       "      <td>7613036203968</td>\n",
       "      <td>spain</td>\n",
       "      <td>cocoa, plant, sugar, added-sugar, disaccharide, cocoa-butter, milkfat, dairy, oil-and-fat, fat, vanilla-extract, vanilla</td>\n",
       "      <td>snacks, sweet-snacks, cocoa-and-its-products, chocolates, dark-chocolates</td>\n",
       "      <td>2</td>\n",
       "    </tr>\n",
       "    <tr>\n",
       "      <th>17</th>\n",
       "      <td>None</td>\n",
       "      <td>None</td>\n",
       "      <td>Gingerbread</td>\n",
       "      <td>z</td>\n",
       "      <td>999.0</td>\n",
       "      <td>850002887815</td>\n",
       "      <td>canada</td>\n",
       "      <td>None</td>\n",
       "      <td>None</td>\n",
       "      <td>0</td>\n",
       "    </tr>\n",
       "    <tr>\n",
       "      <th>18</th>\n",
       "      <td>None</td>\n",
       "      <td>None</td>\n",
       "      <td>Alive! Teen</td>\n",
       "      <td>z</td>\n",
       "      <td>999.0</td>\n",
       "      <td>33674133118</td>\n",
       "      <td>united states</td>\n",
       "      <td>None</td>\n",
       "      <td>None</td>\n",
       "      <td>0</td>\n",
       "    </tr>\n",
       "    <tr>\n",
       "      <th>19</th>\n",
       "      <td>None</td>\n",
       "      <td>None</td>\n",
       "      <td>Food colour</td>\n",
       "      <td>z</td>\n",
       "      <td>999.0</td>\n",
       "      <td>70896058812</td>\n",
       "      <td>united kingdom</td>\n",
       "      <td>None</td>\n",
       "      <td>None</td>\n",
       "      <td>0</td>\n",
       "    </tr>\n",
       "    <tr>\n",
       "      <th>20</th>\n",
       "      <td>None</td>\n",
       "      <td>None</td>\n",
       "      <td>Ricotta</td>\n",
       "      <td>z</td>\n",
       "      <td>999.0</td>\n",
       "      <td>2967059300014</td>\n",
       "      <td>france</td>\n",
       "      <td>None</td>\n",
       "      <td>None</td>\n",
       "      <td>0</td>\n",
       "    </tr>\n",
       "    <tr>\n",
       "      <th>21</th>\n",
       "      <td>None</td>\n",
       "      <td>None</td>\n",
       "      <td>Fesa tacchino</td>\n",
       "      <td>z</td>\n",
       "      <td>999.0</td>\n",
       "      <td>2326440007309</td>\n",
       "      <td>italy</td>\n",
       "      <td>None</td>\n",
       "      <td>None</td>\n",
       "      <td>2</td>\n",
       "    </tr>\n",
       "    <tr>\n",
       "      <th>22</th>\n",
       "      <td>Sugary snacks</td>\n",
       "      <td>Plastikowe, PS, PAP22</td>\n",
       "      <td>Śliwka Kujawska w czekoladzie</td>\n",
       "      <td>z</td>\n",
       "      <td>999.0</td>\n",
       "      <td>5900587028259</td>\n",
       "      <td>poland, far, united kingdom</td>\n",
       "      <td>prune, fruit, prunus-species-fruit, plum, chocolate, preservative, sugar, added-sugar, disaccharide, cocoa-paste, plant, cocoa, cocoa-butter, emulsifier, e476, flavouring, e202, e322, soya</td>\n",
       "      <td>snacks, sweet-snacks, cocoa-and-its-products, confectioneries, chocolate-candies, bonbons</td>\n",
       "      <td>0</td>\n",
       "    </tr>\n",
       "    <tr>\n",
       "      <th>23</th>\n",
       "      <td>None</td>\n",
       "      <td>None</td>\n",
       "      <td>Garam Masala aromatic spice blend</td>\n",
       "      <td>e</td>\n",
       "      <td>14.0</td>\n",
       "      <td>5017689003289</td>\n",
       "      <td>france, germany</td>\n",
       "      <td>None</td>\n",
       "      <td>plant-based-foods-and-beverages, plant-based-foods, condiments, spices, spice-mix</td>\n",
       "      <td>0</td>\n",
       "    </tr>\n",
       "    <tr>\n",
       "      <th>24</th>\n",
       "      <td>Cereals and potatoes</td>\n",
       "      <td>Container</td>\n",
       "      <td>Purée de pommes de terre</td>\n",
       "      <td>b</td>\n",
       "      <td>78.0</td>\n",
       "      <td>3410280021270</td>\n",
       "      <td>france, far</td>\n",
       "      <td>potato, vegetable, root-vegetable, tuber, emulsifier, stabiliser, colour, preservative, antioxidant, acid, e471, e450i, e450, e100, e223, e304, e330</td>\n",
       "      <td>plant-based-foods-and-beverages, plant-based-foods, cereals-and-potatoes, meals, dried-products, dried-products-to-be-rehydrated, purees, potato-preparations, mashed-potatoes, instant-mashed-potatoes</td>\n",
       "      <td>0</td>\n",
       "    </tr>\n",
       "    <tr>\n",
       "      <th>25</th>\n",
       "      <td>None</td>\n",
       "      <td>None</td>\n",
       "      <td>Plain walnut butter</td>\n",
       "      <td>z</td>\n",
       "      <td>999.0</td>\n",
       "      <td>856403007142</td>\n",
       "      <td>united states</td>\n",
       "      <td>None</td>\n",
       "      <td>None</td>\n",
       "      <td>0</td>\n",
       "    </tr>\n",
       "    <tr>\n",
       "      <th>26</th>\n",
       "      <td>None</td>\n",
       "      <td>None</td>\n",
       "      <td>Eier Freilandhaltung</td>\n",
       "      <td>z</td>\n",
       "      <td>999.0</td>\n",
       "      <td>4260028410038</td>\n",
       "      <td>germany</td>\n",
       "      <td>None</td>\n",
       "      <td>None</td>\n",
       "      <td>0</td>\n",
       "    </tr>\n",
       "    <tr>\n",
       "      <th>27</th>\n",
       "      <td>None</td>\n",
       "      <td>None</td>\n",
       "      <td>Funny Sweets</td>\n",
       "      <td>z</td>\n",
       "      <td>999.0</td>\n",
       "      <td>3588400262299</td>\n",
       "      <td>france</td>\n",
       "      <td>None</td>\n",
       "      <td>None</td>\n",
       "      <td>0</td>\n",
       "    </tr>\n",
       "    <tr>\n",
       "      <th>28</th>\n",
       "      <td>Fish Meat Eggs</td>\n",
       "      <td>Plastique</td>\n",
       "      <td>Filet de poulet</td>\n",
       "      <td>c</td>\n",
       "      <td>41.0</td>\n",
       "      <td>2002902003774</td>\n",
       "      <td>france</td>\n",
       "      <td>chicken-fillet, poultry, chicken, chicken-meat</td>\n",
       "      <td>meats-and-their-products, meats, chicken-and-its-products, poultries, chickens, chicken-breasts</td>\n",
       "      <td>3</td>\n",
       "    </tr>\n",
       "    <tr>\n",
       "      <th>29</th>\n",
       "      <td>None</td>\n",
       "      <td>None</td>\n",
       "      <td>Galão</td>\n",
       "      <td>z</td>\n",
       "      <td>999.0</td>\n",
       "      <td>7613034907141</td>\n",
       "      <td>france</td>\n",
       "      <td>None</td>\n",
       "      <td>None</td>\n",
       "      <td>1</td>\n",
       "    </tr>\n",
       "    <tr>\n",
       "      <th>30</th>\n",
       "      <td>Sugary snacks</td>\n",
       "      <td>None</td>\n",
       "      <td>Dark Choclate</td>\n",
       "      <td>e</td>\n",
       "      <td>15.0</td>\n",
       "      <td>4820075504694</td>\n",
       "      <td>far</td>\n",
       "      <td>None</td>\n",
       "      <td>snacks, sweet-snacks, cocoa-and-its-products, chocolates, dark-chocolates, شوكلاته</td>\n",
       "      <td>1</td>\n",
       "    </tr>\n",
       "    <tr>\n",
       "      <th>31</th>\n",
       "      <td>None</td>\n",
       "      <td>None</td>\n",
       "      <td>Cholessterol Spread</td>\n",
       "      <td>z</td>\n",
       "      <td>999.0</td>\n",
       "      <td>4088700070239</td>\n",
       "      <td>far</td>\n",
       "      <td>sunny-vale-cholessterou-spread-actively-lowers-cholesterol-absorption-no-artificial-colours-and-flavours-suitable-for-cooking, baking-and-spreading-clinically-proven-to-lower-cholesterol-absorption-by-up-to-10-in-3-weeks-r-ul-c-see-boton-of-tub-159375</td>\n",
       "      <td>None</td>\n",
       "      <td>0</td>\n",
       "    </tr>\n",
       "    <tr>\n",
       "      <th>32</th>\n",
       "      <td>None</td>\n",
       "      <td>Glas</td>\n",
       "      <td>Apfel-Birne-Banane mit Volkorn</td>\n",
       "      <td>z</td>\n",
       "      <td>999.0</td>\n",
       "      <td>4058172215292</td>\n",
       "      <td>germany</td>\n",
       "      <td>apple, fruit, malaceous-fruit, water, pear, banana, whole-grain-oat-flakes, cereal, oat, oat-flakes, whole-wheat-flakes, wheat, wheat-flakes, lemon-juice, juice, fruit-juice</td>\n",
       "      <td>baby-foods, from-6-months</td>\n",
       "      <td>5</td>\n",
       "    </tr>\n",
       "    <tr>\n",
       "      <th>33</th>\n",
       "      <td>Fish Meat Eggs</td>\n",
       "      <td>None</td>\n",
       "      <td>Terrine de campagne recette campagnarde</td>\n",
       "      <td>z</td>\n",
       "      <td>999.0</td>\n",
       "      <td>3334590002234</td>\n",
       "      <td>france</td>\n",
       "      <td>None</td>\n",
       "      <td>meats-and-their-products, meats, prepared-meats, terrines, country-terrines</td>\n",
       "      <td>0</td>\n",
       "    </tr>\n",
       "    <tr>\n",
       "      <th>34</th>\n",
       "      <td>Cereals and potatoes</td>\n",
       "      <td>None</td>\n",
       "      <td>Huile vierge de sésame biologique</td>\n",
       "      <td>c</td>\n",
       "      <td>57.0</td>\n",
       "      <td>3155700004418</td>\n",
       "      <td>france</td>\n",
       "      <td>None</td>\n",
       "      <td>plant-based-foods-and-beverages, plant-based-foods, cereals-and-potatoes, fats, cereals-and-their-products, vegetable-fats, vegetable-oils, cereal-oils, sesame-oils</td>\n",
       "      <td>3</td>\n",
       "    </tr>\n",
       "    <tr>\n",
       "      <th>35</th>\n",
       "      <td>None</td>\n",
       "      <td>None</td>\n",
       "      <td>Potato Chips-Kettle Cooked</td>\n",
       "      <td>z</td>\n",
       "      <td>999.0</td>\n",
       "      <td>724662000184</td>\n",
       "      <td>united states</td>\n",
       "      <td>None</td>\n",
       "      <td>None</td>\n",
       "      <td>0</td>\n",
       "    </tr>\n",
       "    <tr>\n",
       "      <th>36</th>\n",
       "      <td>None</td>\n",
       "      <td>None</td>\n",
       "      <td>Wheat grass</td>\n",
       "      <td>z</td>\n",
       "      <td>999.0</td>\n",
       "      <td>5060427570185</td>\n",
       "      <td>france</td>\n",
       "      <td>None</td>\n",
       "      <td>None</td>\n",
       "      <td>3</td>\n",
       "    </tr>\n",
       "    <tr>\n",
       "      <th>37</th>\n",
       "      <td>Sugary snacks</td>\n",
       "      <td>None</td>\n",
       "      <td>Chaussons aux pommes</td>\n",
       "      <td>b</td>\n",
       "      <td>65.0</td>\n",
       "      <td>209046015744</td>\n",
       "      <td>france</td>\n",
       "      <td>None</td>\n",
       "      <td>snacks, sweet-snacks, sweet-pastries-and-pies, viennoiseries, apple-turnovers</td>\n",
       "      <td>0</td>\n",
       "    </tr>\n",
       "    <tr>\n",
       "      <th>38</th>\n",
       "      <td>None</td>\n",
       "      <td>None</td>\n",
       "      <td>ARROCES CON AZAFRAN</td>\n",
       "      <td>z</td>\n",
       "      <td>999.0</td>\n",
       "      <td>7798053653214</td>\n",
       "      <td>spain</td>\n",
       "      <td>None</td>\n",
       "      <td>None</td>\n",
       "      <td>0</td>\n",
       "    </tr>\n",
       "    <tr>\n",
       "      <th>39</th>\n",
       "      <td>Cereals and potatoes</td>\n",
       "      <td>None</td>\n",
       "      <td>Biscottes Gluten Free</td>\n",
       "      <td>b</td>\n",
       "      <td>75.0</td>\n",
       "      <td>3700211223157</td>\n",
       "      <td>france</td>\n",
       "      <td>None</td>\n",
       "      <td>plant-based-foods-and-beverages, plant-based-foods, cereals-and-potatoes, breads, rusks</td>\n",
       "      <td>1</td>\n",
       "    </tr>\n",
       "    <tr>\n",
       "      <th>40</th>\n",
       "      <td>None</td>\n",
       "      <td>None</td>\n",
       "      <td>Wasser</td>\n",
       "      <td>z</td>\n",
       "      <td>999.0</td>\n",
       "      <td>4101130063432</td>\n",
       "      <td>germany</td>\n",
       "      <td>None</td>\n",
       "      <td>beverages</td>\n",
       "      <td>0</td>\n",
       "    </tr>\n",
       "    <tr>\n",
       "      <th>41</th>\n",
       "      <td>None</td>\n",
       "      <td>None</td>\n",
       "      <td>Queso Viejo Tostado</td>\n",
       "      <td>z</td>\n",
       "      <td>999.0</td>\n",
       "      <td>2350373003756</td>\n",
       "      <td>spain</td>\n",
       "      <td>None</td>\n",
       "      <td>None</td>\n",
       "      <td>1</td>\n",
       "    </tr>\n",
       "    <tr>\n",
       "      <th>42</th>\n",
       "      <td>None</td>\n",
       "      <td>None</td>\n",
       "      <td>Basturökt Skinka</td>\n",
       "      <td>z</td>\n",
       "      <td>999.0</td>\n",
       "      <td>7311041071748</td>\n",
       "      <td>sweden</td>\n",
       "      <td>None</td>\n",
       "      <td>None</td>\n",
       "      <td>0</td>\n",
       "    </tr>\n",
       "    <tr>\n",
       "      <th>43</th>\n",
       "      <td>None</td>\n",
       "      <td>None</td>\n",
       "      <td>Rijstpap</td>\n",
       "      <td>z</td>\n",
       "      <td>999.0</td>\n",
       "      <td>4068261060252</td>\n",
       "      <td>germany</td>\n",
       "      <td>None</td>\n",
       "      <td>None</td>\n",
       "      <td>0</td>\n",
       "    </tr>\n",
       "    <tr>\n",
       "      <th>44</th>\n",
       "      <td>None</td>\n",
       "      <td>None</td>\n",
       "      <td>Sweet Mix</td>\n",
       "      <td>z</td>\n",
       "      <td>999.0</td>\n",
       "      <td>4047247267120</td>\n",
       "      <td>germany</td>\n",
       "      <td>None</td>\n",
       "      <td>None</td>\n",
       "      <td>1</td>\n",
       "    </tr>\n",
       "    <tr>\n",
       "      <th>45</th>\n",
       "      <td>None</td>\n",
       "      <td>None</td>\n",
       "      <td>Salted Caramel Collagen</td>\n",
       "      <td>z</td>\n",
       "      <td>999.0</td>\n",
       "      <td>850028447246</td>\n",
       "      <td>united states</td>\n",
       "      <td>None</td>\n",
       "      <td>None</td>\n",
       "      <td>0</td>\n",
       "    </tr>\n",
       "    <tr>\n",
       "      <th>46</th>\n",
       "      <td>None</td>\n",
       "      <td>None</td>\n",
       "      <td>Fondo de pescado</td>\n",
       "      <td>z</td>\n",
       "      <td>999.0</td>\n",
       "      <td>8437015271064</td>\n",
       "      <td>spain</td>\n",
       "      <td>None</td>\n",
       "      <td>None</td>\n",
       "      <td>2</td>\n",
       "    </tr>\n",
       "    <tr>\n",
       "      <th>47</th>\n",
       "      <td>None</td>\n",
       "      <td>None</td>\n",
       "      <td>Gelee-Hasen</td>\n",
       "      <td>z</td>\n",
       "      <td>999.0</td>\n",
       "      <td>4047247156646</td>\n",
       "      <td>germany</td>\n",
       "      <td>None</td>\n",
       "      <td>None</td>\n",
       "      <td>2</td>\n",
       "    </tr>\n",
       "    <tr>\n",
       "      <th>48</th>\n",
       "      <td>None</td>\n",
       "      <td>None</td>\n",
       "      <td>Stylo glaçage</td>\n",
       "      <td>z</td>\n",
       "      <td>999.0</td>\n",
       "      <td>5401029125494</td>\n",
       "      <td>france</td>\n",
       "      <td>None</td>\n",
       "      <td>None</td>\n",
       "      <td>0</td>\n",
       "    </tr>\n",
       "    <tr>\n",
       "      <th>49</th>\n",
       "      <td>Milk and dairy products</td>\n",
       "      <td>Frais, Opercule métal recyclable, Pot et couvercle plastiques jetables</td>\n",
       "      <td>Crème fraîche épaisse 50cl</td>\n",
       "      <td>a</td>\n",
       "      <td>95.0</td>\n",
       "      <td>3271820002421</td>\n",
       "      <td>france</td>\n",
       "      <td>lactic-ferments, ferment, microbial-culture, milk, dairy</td>\n",
       "      <td>dairies, fermented-foods, fermented-milk-products, creams, fermented-creams, sour-creams</td>\n",
       "      <td>1</td>\n",
       "    </tr>\n",
       "    <tr>\n",
       "      <th>50</th>\n",
       "      <td>Milk and dairy products</td>\n",
       "      <td>Sachet plastique</td>\n",
       "      <td>Emmental Râpé</td>\n",
       "      <td>d</td>\n",
       "      <td>32.0</td>\n",
       "      <td>5400112162002</td>\n",
       "      <td>belgium, far</td>\n",
       "      <td>pasteurised-cow-s-milk, dairy, milk, pasteurised-milk, cow-s-milk, corn-starch, starch, salt, sourdough, dough, microbial-rennet, enzyme, coagulating-enzyme, rennet, vegetarian-rennet</td>\n",
       "      <td>dairies, fermented-foods, fermented-milk-products, cheeses, cow-cheeses, hard-cheeses, emmentaler, grated-cheese, grated-emmentaler</td>\n",
       "      <td>0</td>\n",
       "    </tr>\n",
       "    <tr>\n",
       "      <th>51</th>\n",
       "      <td>None</td>\n",
       "      <td>None</td>\n",
       "      <td>Scone Mix</td>\n",
       "      <td>z</td>\n",
       "      <td>999.0</td>\n",
       "      <td>850023817266</td>\n",
       "      <td>united states</td>\n",
       "      <td>None</td>\n",
       "      <td>None</td>\n",
       "      <td>5</td>\n",
       "    </tr>\n",
       "    <tr>\n",
       "      <th>52</th>\n",
       "      <td>None</td>\n",
       "      <td>None</td>\n",
       "      <td>Jambon cru désossé morceaux</td>\n",
       "      <td>z</td>\n",
       "      <td>999.0</td>\n",
       "      <td>5605209905238</td>\n",
       "      <td>france</td>\n",
       "      <td>None</td>\n",
       "      <td>None</td>\n",
       "      <td>0</td>\n",
       "    </tr>\n",
       "    <tr>\n",
       "      <th>53</th>\n",
       "      <td>Beverages</td>\n",
       "      <td>None</td>\n",
       "      <td>Eau de source</td>\n",
       "      <td>z</td>\n",
       "      <td>999.0</td>\n",
       "      <td>3277652000062</td>\n",
       "      <td>france</td>\n",
       "      <td>None</td>\n",
       "      <td>beverages, waters, spring-waters</td>\n",
       "      <td>0</td>\n",
       "    </tr>\n",
       "    <tr>\n",
       "      <th>54</th>\n",
       "      <td>Milk and dairy products</td>\n",
       "      <td>None</td>\n",
       "      <td>Bílý jogurt</td>\n",
       "      <td>b</td>\n",
       "      <td>67.0</td>\n",
       "      <td>8595121800117</td>\n",
       "      <td>far</td>\n",
       "      <td>None</td>\n",
       "      <td>dairies, fermented-foods, fermented-milk-products, desserts, dairy-desserts, fermented-dairy-desserts, yogurts</td>\n",
       "      <td>0</td>\n",
       "    </tr>\n",
       "    <tr>\n",
       "      <th>55</th>\n",
       "      <td>Fish Meat Eggs</td>\n",
       "      <td>None</td>\n",
       "      <td>Tonfisk filébitar i vatten</td>\n",
       "      <td>d</td>\n",
       "      <td>21.0</td>\n",
       "      <td>7310751163903</td>\n",
       "      <td>germany, norway</td>\n",
       "      <td>water, salt, skipjack-tuna, fish, tuna</td>\n",
       "      <td>seafood, fishes-and-their-products, canned-foods, fishes, fatty-fishes, canned-fishes, tunas, canned-tunas</td>\n",
       "      <td>0</td>\n",
       "    </tr>\n",
       "    <tr>\n",
       "      <th>56</th>\n",
       "      <td>None</td>\n",
       "      <td>None</td>\n",
       "      <td>Caramel popcorn</td>\n",
       "      <td>z</td>\n",
       "      <td>999.0</td>\n",
       "      <td>194346117048</td>\n",
       "      <td>none</td>\n",
       "      <td>None</td>\n",
       "      <td>None</td>\n",
       "      <td>0</td>\n",
       "    </tr>\n",
       "    <tr>\n",
       "      <th>57</th>\n",
       "      <td>Fat and sauces</td>\n",
       "      <td>Plastique, Frais</td>\n",
       "      <td>beurre léger 41%</td>\n",
       "      <td>d</td>\n",
       "      <td>31.0</td>\n",
       "      <td>3451790177682</td>\n",
       "      <td>france</td>\n",
       "      <td>water, milkfat, dairy, oil-and-fat, fat, modified-starch, starch, maltodextrin, lactose, natural-flavouring, flavouring, emulsifier, e472c, e476, salt, milk-proteins, protein, animal-protein, preservative, colour, vitamin-e, milk, e471, e202, e160ai, e160a</td>\n",
       "      <td>dairies, fats, spreads, spreadable-fats, animal-fats, milkfat, dairy-spread, butters, unsalted-butters, light-butter, unsalted-light-butter-with-39-41-fat</td>\n",
       "      <td>0</td>\n",
       "    </tr>\n",
       "    <tr>\n",
       "      <th>58</th>\n",
       "      <td>Sugary snacks</td>\n",
       "      <td>None</td>\n",
       "      <td>Honey</td>\n",
       "      <td>b</td>\n",
       "      <td>72.0</td>\n",
       "      <td>648114160410</td>\n",
       "      <td>united states</td>\n",
       "      <td>None</td>\n",
       "      <td>breakfasts, spreads, sweet-spreads, bee-products, farming-products, sweeteners, honeys</td>\n",
       "      <td>0</td>\n",
       "    </tr>\n",
       "    <tr>\n",
       "      <th>59</th>\n",
       "      <td>None</td>\n",
       "      <td>None</td>\n",
       "      <td>Le St-Vallier</td>\n",
       "      <td>z</td>\n",
       "      <td>999.0</td>\n",
       "      <td>623246800205</td>\n",
       "      <td>canada</td>\n",
       "      <td>None</td>\n",
       "      <td>None</td>\n",
       "      <td>0</td>\n",
       "    </tr>\n",
       "  </tbody>\n",
       "</table>\n",
       "</div>"
      ],
      "text/plain": [
       "                     groups  \\\n",
       "0      Cereals and potatoes   \n",
       "1                      None   \n",
       "2                      None   \n",
       "3                      None   \n",
       "4                      None   \n",
       "5   Milk and dairy products   \n",
       "6                      None   \n",
       "7             Sugary snacks   \n",
       "8            Fat and sauces   \n",
       "9                      None   \n",
       "10                     None   \n",
       "11                     None   \n",
       "12                     None   \n",
       "13                     None   \n",
       "14                     None   \n",
       "15                     None   \n",
       "16            Sugary snacks   \n",
       "17                     None   \n",
       "18                     None   \n",
       "19                     None   \n",
       "20                     None   \n",
       "21                     None   \n",
       "22            Sugary snacks   \n",
       "23                     None   \n",
       "24     Cereals and potatoes   \n",
       "25                     None   \n",
       "26                     None   \n",
       "27                     None   \n",
       "28           Fish Meat Eggs   \n",
       "29                     None   \n",
       "30            Sugary snacks   \n",
       "31                     None   \n",
       "32                     None   \n",
       "33           Fish Meat Eggs   \n",
       "34     Cereals and potatoes   \n",
       "35                     None   \n",
       "36                     None   \n",
       "37            Sugary snacks   \n",
       "38                     None   \n",
       "39     Cereals and potatoes   \n",
       "40                     None   \n",
       "41                     None   \n",
       "42                     None   \n",
       "43                     None   \n",
       "44                     None   \n",
       "45                     None   \n",
       "46                     None   \n",
       "47                     None   \n",
       "48                     None   \n",
       "49  Milk and dairy products   \n",
       "50  Milk and dairy products   \n",
       "51                     None   \n",
       "52                     None   \n",
       "53                Beverages   \n",
       "54  Milk and dairy products   \n",
       "55           Fish Meat Eggs   \n",
       "56                     None   \n",
       "57           Fat and sauces   \n",
       "58            Sugary snacks   \n",
       "59                     None   \n",
       "\n",
       "                                                                 packaging  \\\n",
       "0                                                                     None   \n",
       "1                                                                     None   \n",
       "2                                                                     None   \n",
       "3                                                                     None   \n",
       "4                                                                     None   \n",
       "5                                                                     None   \n",
       "6                                                                     None   \n",
       "7                                                                     None   \n",
       "8                                                                     None   \n",
       "9                                                                     None   \n",
       "10                                                                    None   \n",
       "11                                                                    None   \n",
       "12                                                                    None   \n",
       "13                                                                    None   \n",
       "14                                                                    None   \n",
       "15                                                               Barquette   \n",
       "16                                                                 Tableta   \n",
       "17                                                                    None   \n",
       "18                                                                    None   \n",
       "19                                                                    None   \n",
       "20                                                                    None   \n",
       "21                                                                    None   \n",
       "22                                                   Plastikowe, PS, PAP22   \n",
       "23                                                                    None   \n",
       "24                                                               Container   \n",
       "25                                                                    None   \n",
       "26                                                                    None   \n",
       "27                                                                    None   \n",
       "28                                                               Plastique   \n",
       "29                                                                    None   \n",
       "30                                                                    None   \n",
       "31                                                                    None   \n",
       "32                                                                    Glas   \n",
       "33                                                                    None   \n",
       "34                                                                    None   \n",
       "35                                                                    None   \n",
       "36                                                                    None   \n",
       "37                                                                    None   \n",
       "38                                                                    None   \n",
       "39                                                                    None   \n",
       "40                                                                    None   \n",
       "41                                                                    None   \n",
       "42                                                                    None   \n",
       "43                                                                    None   \n",
       "44                                                                    None   \n",
       "45                                                                    None   \n",
       "46                                                                    None   \n",
       "47                                                                    None   \n",
       "48                                                                    None   \n",
       "49  Frais, Opercule métal recyclable, Pot et couvercle plastiques jetables   \n",
       "50                                                        Sachet plastique   \n",
       "51                                                                    None   \n",
       "52                                                                    None   \n",
       "53                                                                    None   \n",
       "54                                                                    None   \n",
       "55                                                                    None   \n",
       "56                                                                    None   \n",
       "57                                                        Plastique, Frais   \n",
       "58                                                                    None   \n",
       "59                                                                    None   \n",
       "\n",
       "                                             name ecoscore_groups  \\\n",
       "0                                       Tripolini               z   \n",
       "1                       Pomodoro Cigliegino cat 1               z   \n",
       "2                                  Poulet piquant               z   \n",
       "3                       Chorizo doux des pyrénées               z   \n",
       "4                            Coctail mediterráneo               z   \n",
       "5                                   Red leicester               c   \n",
       "6                                LEAMO CITRONNADE               z   \n",
       "7                           Mini-oursons gélifiés               b   \n",
       "8                              Ketchup Neîndulcit               b   \n",
       "9                                        Mirtilli               z   \n",
       "10                 CREME DE PARMESAN REGGIANO AOP               z   \n",
       "11                                  Badiane fruit               z   \n",
       "12        Salade de museau de porc a la lyonnaise               z   \n",
       "13                               Arrosto di pollo               z   \n",
       "14                                   Soba noedels               z   \n",
       "15                                         Rognon               z   \n",
       "16  Nestlé Chocolate Negro 70% Afrutado L'atelier               d   \n",
       "17                                    Gingerbread               z   \n",
       "18                                    Alive! Teen               z   \n",
       "19                                    Food colour               z   \n",
       "20                                        Ricotta               z   \n",
       "21                                  Fesa tacchino               z   \n",
       "22                  Śliwka Kujawska w czekoladzie               z   \n",
       "23              Garam Masala aromatic spice blend               e   \n",
       "24                       Purée de pommes de terre               b   \n",
       "25                            Plain walnut butter               z   \n",
       "26                           Eier Freilandhaltung               z   \n",
       "27                                   Funny Sweets               z   \n",
       "28                                Filet de poulet               c   \n",
       "29                                          Galão               z   \n",
       "30                                  Dark Choclate               e   \n",
       "31                            Cholessterol Spread               z   \n",
       "32                 Apfel-Birne-Banane mit Volkorn               z   \n",
       "33        Terrine de campagne recette campagnarde               z   \n",
       "34              Huile vierge de sésame biologique               c   \n",
       "35                     Potato Chips-Kettle Cooked               z   \n",
       "36                                    Wheat grass               z   \n",
       "37                           Chaussons aux pommes               b   \n",
       "38                            ARROCES CON AZAFRAN               z   \n",
       "39                          Biscottes Gluten Free               b   \n",
       "40                                         Wasser               z   \n",
       "41                            Queso Viejo Tostado               z   \n",
       "42                               Basturökt Skinka               z   \n",
       "43                                       Rijstpap               z   \n",
       "44                                      Sweet Mix               z   \n",
       "45                        Salted Caramel Collagen               z   \n",
       "46                               Fondo de pescado               z   \n",
       "47                                    Gelee-Hasen               z   \n",
       "48                                  Stylo glaçage               z   \n",
       "49                     Crème fraîche épaisse 50cl               a   \n",
       "50                                  Emmental Râpé               d   \n",
       "51                                      Scone Mix               z   \n",
       "52                    Jambon cru désossé morceaux               z   \n",
       "53                                  Eau de source               z   \n",
       "54                                    Bílý jogurt               b   \n",
       "55                     Tonfisk filébitar i vatten               d   \n",
       "56                                Caramel popcorn               z   \n",
       "57                               beurre léger 41%               d   \n",
       "58                                          Honey               b   \n",
       "59                                  Le St-Vallier               z   \n",
       "\n",
       "    ecoscore_note           code                    countries  \\\n",
       "0           999.0  8002330096939                        italy   \n",
       "1           999.0  8023772000797                        italy   \n",
       "2           999.0  5400113549062                      belgium   \n",
       "3           999.0  3067163641478                       france   \n",
       "4           999.0  8410909269293                        spain   \n",
       "5            55.0  5010482618049                        spain   \n",
       "6           999.0  3700749305646                       france   \n",
       "7            69.0  3700345904250                       france   \n",
       "8            74.0  7310240604375                          far   \n",
       "9           999.0  8001300659532                        italy   \n",
       "10          999.0  3461953041286                       france   \n",
       "11          999.0  3760184280038                       france   \n",
       "12          999.0  3560071426712                       france   \n",
       "13          999.0  8012666065875                        italy   \n",
       "14          999.0  8720604470123                  netherlands   \n",
       "15          999.0  2692669029652                       france   \n",
       "16           25.0  7613036203968                        spain   \n",
       "17          999.0   850002887815                       canada   \n",
       "18          999.0    33674133118                united states   \n",
       "19          999.0    70896058812               united kingdom   \n",
       "20          999.0  2967059300014                       france   \n",
       "21          999.0  2326440007309                        italy   \n",
       "22          999.0  5900587028259  poland, far, united kingdom   \n",
       "23           14.0  5017689003289              france, germany   \n",
       "24           78.0  3410280021270                  france, far   \n",
       "25          999.0   856403007142                united states   \n",
       "26          999.0  4260028410038                      germany   \n",
       "27          999.0  3588400262299                       france   \n",
       "28           41.0  2002902003774                       france   \n",
       "29          999.0  7613034907141                       france   \n",
       "30           15.0  4820075504694                          far   \n",
       "31          999.0  4088700070239                          far   \n",
       "32          999.0  4058172215292                      germany   \n",
       "33          999.0  3334590002234                       france   \n",
       "34           57.0  3155700004418                       france   \n",
       "35          999.0   724662000184                united states   \n",
       "36          999.0  5060427570185                       france   \n",
       "37           65.0   209046015744                       france   \n",
       "38          999.0  7798053653214                        spain   \n",
       "39           75.0  3700211223157                       france   \n",
       "40          999.0  4101130063432                      germany   \n",
       "41          999.0  2350373003756                        spain   \n",
       "42          999.0  7311041071748                       sweden   \n",
       "43          999.0  4068261060252                      germany   \n",
       "44          999.0  4047247267120                      germany   \n",
       "45          999.0   850028447246                united states   \n",
       "46          999.0  8437015271064                        spain   \n",
       "47          999.0  4047247156646                      germany   \n",
       "48          999.0  5401029125494                       france   \n",
       "49           95.0  3271820002421                       france   \n",
       "50           32.0  5400112162002                 belgium, far   \n",
       "51          999.0   850023817266                united states   \n",
       "52          999.0  5605209905238                       france   \n",
       "53          999.0  3277652000062                       france   \n",
       "54           67.0  8595121800117                          far   \n",
       "55           21.0  7310751163903              germany, norway   \n",
       "56          999.0   194346117048                         none   \n",
       "57           31.0  3451790177682                       france   \n",
       "58           72.0   648114160410                united states   \n",
       "59          999.0   623246800205                       canada   \n",
       "\n",
       "                                                                                                                                                                                                                                                                                                                                ingredients  \\\n",
       "0                                                                                                                                                                                                                                                                                                                                      None   \n",
       "1                                                                                                                                                                                                                                                                                                                                      None   \n",
       "2                                                                                                                                                                                                                                                                                                                                      None   \n",
       "3                                                                                                                                                                                                                                                                                                                                      None   \n",
       "4                                                                                                                                                                                                                                                                                                                                      None   \n",
       "5                                                                                                                                                                                                                                                                                                                                      None   \n",
       "6                                                                                                                                                                                                                                                                                                                                      None   \n",
       "7   sugar, added-sugar, disaccharide, corn-syrup, e428, acid, natural-lemon-flavouring, flavouring, natural-flavouring, natural-pear-flavouring, pear-flavouring, natural-orange-flavouring, natural-strawberry-flavouring, strawberry-flavouring, colour, orange, fruit, citrus-fruit, e330, pineapple, cherry, prunus-species-fruit, e122   \n",
       "8                                                                                                                                                                                                                                                                             salt, natural-flavouring, flavouring, clove, condiment, spice   \n",
       "9                                                                                                                                                                                                                                                                                                                                      None   \n",
       "10                                                                                                                                                                                                                                                                                                                                     None   \n",
       "11                                                                                                                                                                                                                                                                                                                                     None   \n",
       "12                                                                                                                                                                                                                                                                                                                                     None   \n",
       "13                                                                                                                                                                                                                                                                                                                                     None   \n",
       "14                                                                                                                                                                                                                                                                                                                                     None   \n",
       "15                                                                                                                                                                                                                                                                                                                                     None   \n",
       "16                                                                                                                                                                                                                 cocoa, plant, sugar, added-sugar, disaccharide, cocoa-butter, milkfat, dairy, oil-and-fat, fat, vanilla-extract, vanilla   \n",
       "17                                                                                                                                                                                                                                                                                                                                     None   \n",
       "18                                                                                                                                                                                                                                                                                                                                     None   \n",
       "19                                                                                                                                                                                                                                                                                                                                     None   \n",
       "20                                                                                                                                                                                                                                                                                                                                     None   \n",
       "21                                                                                                                                                                                                                                                                                                                                     None   \n",
       "22                                                                                                                                             prune, fruit, prunus-species-fruit, plum, chocolate, preservative, sugar, added-sugar, disaccharide, cocoa-paste, plant, cocoa, cocoa-butter, emulsifier, e476, flavouring, e202, e322, soya   \n",
       "23                                                                                                                                                                                                                                                                                                                                     None   \n",
       "24                                                                                                                                                                                     potato, vegetable, root-vegetable, tuber, emulsifier, stabiliser, colour, preservative, antioxidant, acid, e471, e450i, e450, e100, e223, e304, e330   \n",
       "25                                                                                                                                                                                                                                                                                                                                     None   \n",
       "26                                                                                                                                                                                                                                                                                                                                     None   \n",
       "27                                                                                                                                                                                                                                                                                                                                     None   \n",
       "28                                                                                                                                                                                                                                                                                           chicken-fillet, poultry, chicken, chicken-meat   \n",
       "29                                                                                                                                                                                                                                                                                                                                     None   \n",
       "30                                                                                                                                                                                                                                                                                                                                     None   \n",
       "31                                                                              sunny-vale-cholessterou-spread-actively-lowers-cholesterol-absorption-no-artificial-colours-and-flavours-suitable-for-cooking, baking-and-spreading-clinically-proven-to-lower-cholesterol-absorption-by-up-to-10-in-3-weeks-r-ul-c-see-boton-of-tub-159375   \n",
       "32                                                                                                                                                            apple, fruit, malaceous-fruit, water, pear, banana, whole-grain-oat-flakes, cereal, oat, oat-flakes, whole-wheat-flakes, wheat, wheat-flakes, lemon-juice, juice, fruit-juice   \n",
       "33                                                                                                                                                                                                                                                                                                                                     None   \n",
       "34                                                                                                                                                                                                                                                                                                                                     None   \n",
       "35                                                                                                                                                                                                                                                                                                                                     None   \n",
       "36                                                                                                                                                                                                                                                                                                                                     None   \n",
       "37                                                                                                                                                                                                                                                                                                                                     None   \n",
       "38                                                                                                                                                                                                                                                                                                                                     None   \n",
       "39                                                                                                                                                                                                                                                                                                                                     None   \n",
       "40                                                                                                                                                                                                                                                                                                                                     None   \n",
       "41                                                                                                                                                                                                                                                                                                                                     None   \n",
       "42                                                                                                                                                                                                                                                                                                                                     None   \n",
       "43                                                                                                                                                                                                                                                                                                                                     None   \n",
       "44                                                                                                                                                                                                                                                                                                                                     None   \n",
       "45                                                                                                                                                                                                                                                                                                                                     None   \n",
       "46                                                                                                                                                                                                                                                                                                                                     None   \n",
       "47                                                                                                                                                                                                                                                                                                                                     None   \n",
       "48                                                                                                                                                                                                                                                                                                                                     None   \n",
       "49                                                                                                                                                                                                                                                                                 lactic-ferments, ferment, microbial-culture, milk, dairy   \n",
       "50                                                                                                                                                  pasteurised-cow-s-milk, dairy, milk, pasteurised-milk, cow-s-milk, corn-starch, starch, salt, sourdough, dough, microbial-rennet, enzyme, coagulating-enzyme, rennet, vegetarian-rennet   \n",
       "51                                                                                                                                                                                                                                                                                                                                     None   \n",
       "52                                                                                                                                                                                                                                                                                                                                     None   \n",
       "53                                                                                                                                                                                                                                                                                                                                     None   \n",
       "54                                                                                                                                                                                                                                                                                                                                     None   \n",
       "55                                                                                                                                                                                                                                                                                                   water, salt, skipjack-tuna, fish, tuna   \n",
       "56                                                                                                                                                                                                                                                                                                                                     None   \n",
       "57                                                                         water, milkfat, dairy, oil-and-fat, fat, modified-starch, starch, maltodextrin, lactose, natural-flavouring, flavouring, emulsifier, e472c, e476, salt, milk-proteins, protein, animal-protein, preservative, colour, vitamin-e, milk, e471, e202, e160ai, e160a   \n",
       "58                                                                                                                                                                                                                                                                                                                                     None   \n",
       "59                                                                                                                                                                                                                                                                                                                                     None   \n",
       "\n",
       "                                                                                                                                                                                                 categories  \\\n",
       "0                                                plant-based-foods-and-beverages, plant-based-foods, cereals-and-potatoes, cereals-and-their-products, pastas, cereal-pastas, dry-pastas, durum-wheat-pasta   \n",
       "1                                                                                                                                                                                                      None   \n",
       "2                                                                                                                                                                                                      None   \n",
       "3                                                                                                                                                                                                      None   \n",
       "4                                                                                                                                                                                                      None   \n",
       "5                                                                          dairies, fermented-foods, fermented-milk-products, cheeses, cheeses-from-the-united-kingdom, cheeses-from-england, red-leicester   \n",
       "6                                                                                                                                                                                                      None   \n",
       "7                                                                                                                                             snacks, sweet-snacks, confectioneries, candies, gummi-candies   \n",
       "8                                                                                                                                                condiments, sauces, tomato-sauces, ketchup, tomato-ketchup   \n",
       "9                                                                                                                                                                                                      None   \n",
       "10                                                                                                                                                                                                     None   \n",
       "11                                                                                                                                                                                                     None   \n",
       "12                                                                                                                                                                                                     None   \n",
       "13                                                                                                                                                                                                     None   \n",
       "14                                                                                                                                                                                                     None   \n",
       "15                                                                                                                                                                                                     None   \n",
       "16                                                                                                                                snacks, sweet-snacks, cocoa-and-its-products, chocolates, dark-chocolates   \n",
       "17                                                                                                                                                                                                     None   \n",
       "18                                                                                                                                                                                                     None   \n",
       "19                                                                                                                                                                                                     None   \n",
       "20                                                                                                                                                                                                     None   \n",
       "21                                                                                                                                                                                                     None   \n",
       "22                                                                                                                snacks, sweet-snacks, cocoa-and-its-products, confectioneries, chocolate-candies, bonbons   \n",
       "23                                                                                                                        plant-based-foods-and-beverages, plant-based-foods, condiments, spices, spice-mix   \n",
       "24  plant-based-foods-and-beverages, plant-based-foods, cereals-and-potatoes, meals, dried-products, dried-products-to-be-rehydrated, purees, potato-preparations, mashed-potatoes, instant-mashed-potatoes   \n",
       "25                                                                                                                                                                                                     None   \n",
       "26                                                                                                                                                                                                     None   \n",
       "27                                                                                                                                                                                                     None   \n",
       "28                                                                                                          meats-and-their-products, meats, chicken-and-its-products, poultries, chickens, chicken-breasts   \n",
       "29                                                                                                                                                                                                     None   \n",
       "30                                                                                                                       snacks, sweet-snacks, cocoa-and-its-products, chocolates, dark-chocolates, شوكلاته   \n",
       "31                                                                                                                                                                                                     None   \n",
       "32                                                                                                                                                                                baby-foods, from-6-months   \n",
       "33                                                                                                                              meats-and-their-products, meats, prepared-meats, terrines, country-terrines   \n",
       "34                                     plant-based-foods-and-beverages, plant-based-foods, cereals-and-potatoes, fats, cereals-and-their-products, vegetable-fats, vegetable-oils, cereal-oils, sesame-oils   \n",
       "35                                                                                                                                                                                                     None   \n",
       "36                                                                                                                                                                                                     None   \n",
       "37                                                                                                                            snacks, sweet-snacks, sweet-pastries-and-pies, viennoiseries, apple-turnovers   \n",
       "38                                                                                                                                                                                                     None   \n",
       "39                                                                                                                  plant-based-foods-and-beverages, plant-based-foods, cereals-and-potatoes, breads, rusks   \n",
       "40                                                                                                                                                                                                beverages   \n",
       "41                                                                                                                                                                                                     None   \n",
       "42                                                                                                                                                                                                     None   \n",
       "43                                                                                                                                                                                                     None   \n",
       "44                                                                                                                                                                                                     None   \n",
       "45                                                                                                                                                                                                     None   \n",
       "46                                                                                                                                                                                                     None   \n",
       "47                                                                                                                                                                                                     None   \n",
       "48                                                                                                                                                                                                     None   \n",
       "49                                                                                                                 dairies, fermented-foods, fermented-milk-products, creams, fermented-creams, sour-creams   \n",
       "50                                                                      dairies, fermented-foods, fermented-milk-products, cheeses, cow-cheeses, hard-cheeses, emmentaler, grated-cheese, grated-emmentaler   \n",
       "51                                                                                                                                                                                                     None   \n",
       "52                                                                                                                                                                                                     None   \n",
       "53                                                                                                                                                                         beverages, waters, spring-waters   \n",
       "54                                                                                           dairies, fermented-foods, fermented-milk-products, desserts, dairy-desserts, fermented-dairy-desserts, yogurts   \n",
       "55                                                                                               seafood, fishes-and-their-products, canned-foods, fishes, fatty-fishes, canned-fishes, tunas, canned-tunas   \n",
       "56                                                                                                                                                                                                     None   \n",
       "57                                               dairies, fats, spreads, spreadable-fats, animal-fats, milkfat, dairy-spread, butters, unsalted-butters, light-butter, unsalted-light-butter-with-39-41-fat   \n",
       "58                                                                                                                   breakfasts, spreads, sweet-spreads, bee-products, farming-products, sweeteners, honeys   \n",
       "59                                                                                                                                                                                                     None   \n",
       "\n",
       "    labels_note  \n",
       "0             0  \n",
       "1             0  \n",
       "2             0  \n",
       "3             2  \n",
       "4             0  \n",
       "5             1  \n",
       "6             2  \n",
       "7             1  \n",
       "8             0  \n",
       "9             0  \n",
       "10            0  \n",
       "11            0  \n",
       "12            0  \n",
       "13            0  \n",
       "14            0  \n",
       "15            0  \n",
       "16            2  \n",
       "17            0  \n",
       "18            0  \n",
       "19            0  \n",
       "20            0  \n",
       "21            2  \n",
       "22            0  \n",
       "23            0  \n",
       "24            0  \n",
       "25            0  \n",
       "26            0  \n",
       "27            0  \n",
       "28            3  \n",
       "29            1  \n",
       "30            1  \n",
       "31            0  \n",
       "32            5  \n",
       "33            0  \n",
       "34            3  \n",
       "35            0  \n",
       "36            3  \n",
       "37            0  \n",
       "38            0  \n",
       "39            1  \n",
       "40            0  \n",
       "41            1  \n",
       "42            0  \n",
       "43            0  \n",
       "44            1  \n",
       "45            0  \n",
       "46            2  \n",
       "47            2  \n",
       "48            0  \n",
       "49            1  \n",
       "50            0  \n",
       "51            5  \n",
       "52            0  \n",
       "53            0  \n",
       "54            0  \n",
       "55            0  \n",
       "56            0  \n",
       "57            0  \n",
       "58            0  \n",
       "59            0  "
      ]
     },
     "execution_count": 25,
     "metadata": {},
     "output_type": "execute_result"
    }
   ],
   "source": [
    "df_check.head(60)"
   ]
  },
  {
   "cell_type": "code",
   "execution_count": null,
   "metadata": {},
   "outputs": [],
   "source": []
  }
 ],
 "metadata": {
  "kernelspec": {
   "display_name": "greenIa",
   "language": "python",
   "name": "python3"
  },
  "language_info": {
   "codemirror_mode": {
    "name": "ipython",
    "version": 3
   },
   "file_extension": ".py",
   "mimetype": "text/x-python",
   "name": "python",
   "nbconvert_exporter": "python",
   "pygments_lexer": "ipython3",
   "version": "3.10.14"
  }
 },
 "nbformat": 4,
 "nbformat_minor": 2
}
