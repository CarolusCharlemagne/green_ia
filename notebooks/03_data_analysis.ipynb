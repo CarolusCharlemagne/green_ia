{
 "cells": [
  {
   "cell_type": "code",
   "execution_count": 37,
   "metadata": {},
   "outputs": [],
   "source": [
    "import pandas as pd\n",
    "import numpy as np\n",
    "import json\n",
    "import os\n",
    "import warnings\n",
    "from datetime import datetime \n",
    "from collections import OrderedDict\n",
    "from collections import Counter\n",
    "import plotly.express as px\n",
    "from collections import defaultdict\n",
    "import plotly.graph_objects as go\n",
    "\n",
    "\n",
    "pd.set_option('display.max_rows', 100)\n",
    "pd.set_option('display.max_colwidth', None)\n",
    "\n",
    "warnings.filterwarnings(\"ignore\", category=pd.errors.DtypeWarning)"
   ]
  },
  {
   "cell_type": "code",
   "execution_count": 38,
   "metadata": {},
   "outputs": [],
   "source": [
    "chunk_size = 1000\n",
    "file_id = '02'\n",
    "project_path = \"/home/carolus/Documents/school/green_ia/\" \n",
    "jsonl_02 = project_path + 'data/' + file_id + '_openfoodfacts_02.jsonl' \n",
    "jsonl_sample = project_path + 'data/' + file_id + \"_openfoodfacts_sample.jsonl\"\n",
    "# récupérer la date du jour \n",
    "current_date_time = datetime.now()\n",
    "date_format = \"%d/%m/%Y %H:%M:%S.%f\"\n",
    "start_date = current_date_time.strftime(\"%d/%m/%Y %H:%M:%S.%f\")[:-3]\n",
    "date_code = current_date_time.strftime('%d%m%Y%H%M%S') + f\"{current_date_time.microsecond // 1000:03d}\""
   ]
  },
  {
   "cell_type": "code",
   "execution_count": 39,
   "metadata": {},
   "outputs": [],
   "source": [
    "def add_logs(logData):\n",
    "    print(logData)\n",
    "    #with open(f\"{project_path}logs/03_analysis_{date_code}_logs.txt\", \"a\") as logFile:\n",
    "     #   logFile.write(f'{logData}\\n')"
   ]
  },
  {
   "cell_type": "code",
   "execution_count": 40,
   "metadata": {},
   "outputs": [
    {
     "name": "stdout",
     "output_type": "stream",
     "text": [
      "jsonl format valid: /home/carolus/Documents/school/green_ia/data/02_openfoodfacts_02.jsonl\n"
     ]
    }
   ],
   "source": [
    "# verifie la validité de la structure du fichier jsonl\n",
    "with open(jsonl_02, 'r') as file:\n",
    "    for line in file:\n",
    "        try:\n",
    "            json_object = json.loads(line)\n",
    "        except json.JSONDecodeError as e:\n",
    "            add_logs(f\"ERROR decoding jsonl: {e}\")\n",
    "\n",
    "add_logs(f\"jsonl format valid: {jsonl_02}\")"
   ]
  },
  {
   "cell_type": "markdown",
   "metadata": {},
   "source": [
    "# COUNTRIES:"
   ]
  },
  {
   "cell_type": "code",
   "execution_count": 41,
   "metadata": {},
   "outputs": [
    {
     "name": "stdout",
     "output_type": "stream",
     "text": [
      "far: 8.40%\n",
      "germany: 7.68%\n",
      "france: 30.19%\n",
      "united states: 18.69%\n",
      "united kingdom: 3.19%\n",
      "netherlands: 0.43%\n",
      "world: 1.95%\n",
      "bolivia: 0.05%\n",
      "mexico: 0.13%\n",
      "new zealand: 0.07%\n",
      "italy: 6.82%\n",
      "belgium: 2.21%\n",
      "danemark: 0.00%\n",
      "norway: 0.09%\n",
      "poland: 0.23%\n",
      "austria: 0.10%\n",
      "spanien: 0.03%\n",
      "franciaország: 0.00%\n",
      "nagy-britannia: 0.00%\n",
      "magyarország: 0.01%\n",
      "česko: 0.05%\n",
      "francie: 0.01%\n",
      "czech republic: 0.04%\n",
      "frankrijk: 0.02%\n",
      "verenigd koninkrijk: 0.00%\n",
      "thailand: 0.06%\n",
      "vereinigte staaten von amerika: 0.02%\n",
      "egypt: 0.01%\n",
      "spain: 8.82%\n",
      "japan: 0.20%\n",
      "la réunion: 0.01%\n",
      "svijet: 0.00%\n",
      "francuska: 0.01%\n",
      "hrvatska: 0.02%\n",
      "irska: 0.00%\n",
      "njemačka: 0.00%\n",
      "sjedinjene-američke-države: 0.00%\n",
      "švicarska: 0.00%\n",
      "australia: 1.12%\n",
      "luxembourg: 0.04%\n",
      "switzerland: 2.43%\n",
      "argentina: 0.06%\n",
      "morocco: 0.04%\n",
      "costa rica: 0.01%\n",
      "moldavia: 0.00%\n",
      "iraq: 0.01%\n",
      "sweden: 0.12%\n",
      "french polynesia: 0.01%\n",
      "canada: 2.45%\n",
      "singapore: 0.08%\n",
      "brazil: 0.31%\n",
      "russia: 0.27%\n",
      "finland: 0.08%\n",
      "saudi arabia: 0.07%\n",
      "panama: 0.01%\n",
      "lebanon: 0.01%\n",
      "stati uniti d'america: 0.00%\n",
      "philippines: 0.05%\n",
      "hong kong: 0.01%\n",
      "malaysia: 0.02%\n",
      "guyana: 0.00%\n",
      "hungary: 0.04%\n",
      ": 0.09%\n",
      "barbados: 0.00%\n",
      "ireland: 1.59%\n",
      "saint kitts and nevis: 0.00%\n",
      "haiti: 0.00%\n",
      "el salvador: 0.01%\n",
      "bahrain: 0.00%\n",
      "guatemala: 0.00%\n",
      "colombia: 0.01%\n",
      "taiwan: 0.00%\n",
      "oman: 0.00%\n",
      "dominican republic: 0.00%\n",
      "greece: 0.02%\n",
      "emiratos árabes unidos: 0.00%\n",
      "francja: 0.01%\n",
      "kuwait: 0.00%\n",
      "puerto rico: 0.01%\n",
      "united arab emirates: 0.02%\n",
      "israel: 0.01%\n",
      "none: 0.37%\n",
      "stany zjednoczone: 0.00%\n",
      "angola: 0.00%\n",
      "brasil: 0.05%\n",
      "guinea: 0.00%\n",
      "burkina faso: 0.00%\n",
      "vietnam: 0.00%\n",
      "china: 0.01%\n",
      "bulgaria: 0.09%\n",
      "ascension island: 0.00%\n",
      "ivory coast: 0.00%\n",
      "uruguay: 0.01%\n",
      "algeria: 0.02%\n",
      "mauritius: 0.00%\n",
      "indonesia: 0.06%\n",
      "armenia: 0.00%\n",
      "india: 0.10%\n",
      "south korea: 0.00%\n",
      "south africa: 0.04%\n",
      "ecuador: 0.00%\n",
      "chile: 0.01%\n",
      "peru: 0.01%\n",
      "honduras: 0.00%\n",
      "nicaragua: 0.00%\n",
      "croatia: 0.01%\n",
      "cambodia: 0.00%\n",
      "romania: 0.09%\n",
      "guernsey: 0.00%\n",
      "portugal: 0.11%\n",
      "jamaica: 0.00%\n",
      "denmark: 0.08%\n",
      "tunisia: 0.01%\n",
      "jordan: 0.00%\n",
      "serbia: 0.02%\n",
      "togo: 0.00%\n",
      "qatar: 0.02%\n",
      "french guiana: 0.00%\n",
      "somalia: 0.00%\n",
      "pakistan: 0.00%\n",
      "saint pierre and miquelon: 0.00%\n",
      "monaco: 0.00%\n",
      "cyprus: 0.01%\n",
      "paraguay: 0.01%\n",
      "senegal: 0.00%\n",
      "suriname: 0.00%\n",
      "trinidad and tobago: 0.00%\n",
      "slovakia: 0.03%\n",
      "dominica: 0.00%\n",
      "mŕxico: 0.00%\n",
      "latvia: 0.01%\n",
      "lithuania: 0.06%\n",
      "ussr: 0.00%\n",
      "ukraine: 0.01%\n",
      "macau: 0.00%\n",
      "estonia: 0.01%\n",
      "slovenia: 0.01%\n",
      "németország: 0.00%\n",
      "france  switzerland  germany: 0.00%\n",
      "litauen: 0.00%\n",
      "europe: 0.00%\n",
      "albania: 0.00%\n",
      "nigeria: 0.00%\n",
      "malta: 0.00%\n",
      "bosnia and herzegovina: 0.00%\n",
      "iran: 0.00%\n",
      "reunion: 0.01%\n",
      "afghanistan: 0.00%\n",
      "mali: 0.00%\n",
      "martinique: 0.00%\n",
      "democratic republic of the congo: 0.00%\n",
      "gabon: 0.00%\n",
      "guadeloupe: 0.00%\n",
      "saint martin: 0.00%\n",
      "belarus: 0.00%\n",
      "kazakhstan: 0.00%\n",
      "republic of the congo: 0.00%\n",
      "mayotte: 0.00%\n",
      "andorra: 0.00%\n",
      "new caledonia: 0.00%\n",
      "seychelles: 0.00%\n",
      "djibouti: 0.00%\n",
      "liechtenstein: 0.00%\n",
      "vanuatu: 0.00%\n",
      "cameroon: 0.00%\n",
      "mongolia: 0.00%\n",
      "france - la réunion: 0.01%\n",
      "jersey: 0.00%\n",
      "england: 0.00%\n",
      "madagascar: 0.00%\n",
      "turkey: 0.02%\n",
      "mauritania: 0.00%\n",
      "georgia: 0.01%\n",
      "montenegro: 0.00%\n",
      "north macedonia: 0.00%\n",
      "east germany: 0.00%\n",
      "moldova: 0.00%\n",
      "eswatini: 0.00%\n",
      "kosovo: 0.00%\n",
      "kyrgyzstan: 0.00%\n",
      "tajikistan: 0.00%\n",
      "uzbekistan: 0.00%\n",
      "azerbaijan: 0.00%\n",
      "bangladesh: 0.00%\n",
      "mozambique: 0.00%\n",
      "cape verde: 0.00%\n",
      "sudan: 0.00%\n",
      "libya: 0.00%\n",
      "iceland: 0.00%\n",
      "bahrein: 0.00%\n",
      "ghana: 0.00%\n",
      "benin: 0.00%\n",
      "niger: 0.00%\n",
      "botswana: 0.00%\n",
      "chad: 0.00%\n",
      "السعودية: 0.00%\n",
      "central african republic: 0.00%\n",
      "equatorial guinea: 0.00%\n",
      "cote d'ivoire: 0.00%\n",
      "syria: 0.00%\n",
      "yemen: 0.00%\n",
      "sri lanka: 0.00%\n",
      "benelux: 0.00%\n",
      "ریاستہائے متحدہ امریکہ: 0.00%\n",
      "venezuela: 0.00%\n",
      "aruba: 0.00%\n",
      "cuba: 0.00%\n",
      "francia  españa: 0.00%\n",
      "north korea: 0.00%\n",
      "burundi: 0.00%\n",
      "france  spain: 0.00%\n",
      "maldives: 0.00%\n",
      "palestinian territories: 0.00%\n",
      "palestine: 0.00%\n",
      "myanmar: 0.00%\n",
      "timor-leste: 0.00%\n",
      "nepal: 0.00%\n",
      "laos: 0.00%\n",
      "wallis and futuna: 0.00%\n",
      "anguilla: 0.00%\n",
      "montserrat: 0.00%\n",
      "saint lucia: 0.00%\n",
      "rwanda: 0.00%\n",
      "namibia: 0.00%\n",
      "british indian ocean territory: 0.00%\n",
      "fra: 0.00%\n",
      "sn: 0.00%\n",
      "ประเทศอินเดีย: 0.00%\n",
      "ประเทศเวียดนาม: 0.00%\n",
      "нова каледония: 0.00%\n",
      "yugoslavia: 0.00%\n",
      "францыя: 0.00%\n",
      "europäische union: 0.00%\n",
      "middle east: 0.00%\n",
      "grenada: 0.00%\n",
      "brunei: 0.00%\n",
      "papua new guinea: 0.00%\n",
      "soviet union: 0.00%\n",
      "abkhazia: 0.00%\n",
      "republic of ireland: 0.00%\n",
      "канада: 0.00%\n",
      "saint: 0.00%\n",
      "unknown: 0.00%\n",
      "bhutan: 0.00%\n",
      "christmas island: 0.00%\n",
      "?: 0.00%\n",
      "american samoa: 0.00%\n",
      "south america: 0.00%\n",
      "german democratic republic: 0.00%\n",
      "tanzania: 0.00%\n",
      "zimbabwe: 0.00%\n",
      "caribbean netherlands: 0.00%\n",
      "curaçao: 0.00%\n",
      "sint maarten: 0.00%\n",
      "bahamas: 0.00%\n",
      "الكويت: 0.00%\n",
      "saint vincent and the grenadines: 0.00%\n",
      "asia: 0.00%\n",
      "lesotho: 0.00%\n",
      "middle east and africa: 0.00%\n",
      "zambia: 0.00%\n",
      "latin america: 0.00%\n",
      "bermuda: 0.00%\n",
      "liberia: 0.00%\n",
      "congo: 0.00%\n",
      "america: 0.00%\n",
      "aland islands: 0.00%\n",
      "san marino: 0.00%\n",
      "united states virgin islands: 0.00%\n",
      "isle of man: 0.00%\n",
      "spanish: 0.00%\n",
      "vatican city: 0.00%\n",
      "sierra leone: 0.00%\n",
      "سلطنة عمان: 0.00%\n",
      "belize: 0.00%\n",
      ":: 0.00%\n",
      "bonaire: 0.00%\n",
      "people's republic of china: 0.00%\n",
      "fiji: 0.00%\n",
      "iraqi kurdistan: 0.00%\n",
      "guam: 0.00%\n",
      "south sudan: 0.00%\n",
      "turks and caicos islands: 0.00%\n",
      "kenya: 0.00%\n",
      "uganda: 0.00%\n",
      "west africa: 0.00%\n",
      "central america: 0.00%\n",
      "ethiopia: 0.00%\n",
      "faroe islands: 0.00%\n",
      "cayman islands: 0.00%\n",
      "product of usa. packed in canada.  imported by: strong international trading inc. richmond bc | www.siti.ca: 0.00%\n",
      "natural calm canada 5 idleswift dr.  thornhill on  l4j 1k6: 0.00%\n",
      "damam: 0.00%\n",
      "sicily: 0.00%\n"
     ]
    }
   ],
   "source": [
    "# retourne une liste des pays présents dans le fichier\n",
    "def extract_countries_from_jsonl(file_path):\n",
    "    countries = []\n",
    "    with open(file_path, 'r', encoding='utf-8') as file:\n",
    "        for line in file:\n",
    "            try:\n",
    "                record = json.loads(line)\n",
    "                country = record.get('countries')\n",
    "                if country is not None:\n",
    "                    countries.append(country)\n",
    "            except json.JSONDecodeError:\n",
    "                print(f\"WARNING line: {line} in {file_path}\")    \n",
    "    return countries\n",
    "countries_list = extract_countries_from_jsonl(jsonl_02)\n",
    "\n",
    "separated_countries = []\n",
    "for entry in countries_list:\n",
    "    countries = [country.strip() for country in entry.split(',')]\n",
    "    separated_countries.extend(countries)\n",
    "\n",
    "country_counts = Counter(separated_countries)\n",
    "total_countries = sum(country_counts.values())\n",
    "\n",
    "data_graph_countries = []\n",
    "for country, count in country_counts.items():\n",
    "    percentage = (count / total_countries) * 100\n",
    "    print(f\"{country}: {percentage:.2f}%\")\n",
    "    data_graph_countries.append({'countries': country, 'percentage': percentage})"
   ]
  },
  {
   "cell_type": "code",
   "execution_count": 42,
   "metadata": {},
   "outputs": [
    {
     "data": {
      "application/vnd.plotly.v1+json": {
       "config": {
        "plotlyServerURL": "https://plot.ly"
       },
       "data": [
        {
         "branchvalues": "total",
         "customdata": [
          [
           0.08744475817255176
          ],
          [
           0.000029442679519377697
          ],
          [
           0.0000883280385581331
          ],
          [
           0.000029442679519377697
          ],
          [
           0.003356465465209058
          ],
          [
           0.0001472133975968885
          ],
          [
           0.002973710631457147
          ],
          [
           0.02358358629502154
          ],
          [
           0.000029442679519377697
          ],
          [
           0.00011777071807751079
          ],
          [
           0.004593058005022921
          ],
          [
           0.0000883280385581331
          ],
          [
           0.000058885359038755394
          ],
          [
           0.05879703100019727
          ],
          [
           0.001177707180775108
          ],
          [
           0.00047108287231004315
          ],
          [
           0.000029442679519377697
          ],
          [
           0.000058885359038755394
          ],
          [
           1.116289751297686
          ],
          [
           0.09736694117058206
          ],
          [
           0.00026498411567439927
          ],
          [
           0.001001051103658842
          ],
          [
           0.0007655096675038202
          ],
          [
           0.000029442679519377697
          ],
          [
           0.0004416401927906655
          ],
          [
           0.00023554143615502158
          ],
          [
           0.0040925324531935
          ],
          [
           2.212381824445079
          ],
          [
           0.000029442679519377697
          ],
          [
           0.00026498411567439927
          ],
          [
           0.00026498411567439927
          ],
          [
           0.0001472133975968885
          ],
          [
           0.0001766560771162662
          ],
          [
           0.04790323957802752
          ],
          [
           0.000029442679519377697
          ],
          [
           0.004799156761658565
          ],
          [
           0.0000883280385581331
          ],
          [
           0.05438062907229061
          ],
          [
           0.3075582302594194
          ],
          [
           0.000029442679519377697
          ],
          [
           0.0036803349399222125
          ],
          [
           0.08994738593169888
          ],
          [
           0.0012365925398138634
          ],
          [
           0.000029442679519377697
          ],
          [
           0.002679283836263371
          ],
          [
           0.002267086322992083
          ],
          [
           2.450720315154441
          ],
          [
           0.0000883280385581331
          ],
          [
           0.0000883280385581331
          ],
          [
           0.000029442679519377697
          ],
          [
           0.0000883280385581331
          ],
          [
           0.000029442679519377697
          ],
          [
           0.00011777071807751079
          ],
          [
           0.01495688119584387
          ],
          [
           0.011070447499286016
          ],
          [
           0.000029442679519377697
          ],
          [
           0.011011562140247259
          ],
          [
           0.000029442679519377697
          ],
          [
           0.0055057810701236295
          ],
          [
           0.0017076754121239065
          ],
          [
           0.00971608424139464
          ],
          [
           0.001560462014527018
          ],
          [
           0.0004121975132712878
          ],
          [
           0.00959831352331713
          ],
          [
           0.03951207591500487
          ],
          [
           0.000029442679519377697
          ],
          [
           0.0024142997205889713
          ],
          [
           0.0003827548337519101
          ],
          [
           0.0843827195025365
          ],
          [
           0.0001472133975968885
          ],
          [
           0.0002060987566356439
          ],
          [
           0.002973710631457147
          ],
          [
           0.0001472133975968885
          ],
          [
           0.002914825272418392
          ],
          [
           0.014161928848820672
          ],
          [
           0.006683488250898737
          ],
          [
           0.00026498411567439927
          ],
          [
           0.0027970545543408816
          ],
          [
           0.000029442679519377697
          ],
          [
           0.005594109108681763
          ],
          [
           0.0001766560771162662
          ],
          [
           0.0006771816289456871
          ],
          [
           0.0037392202989609677
          ],
          [
           0.0004416401927906655
          ],
          [
           8.398730431659123
          ],
          [
           0.000029442679519377697
          ],
          [
           0.0000883280385581331
          ],
          [
           0.08420606342542021
          ],
          [
           0.000029442679519377697
          ],
          [
           30.18760875389748
          ],
          [
           0.000029442679519377697
          ],
          [
           0.000058885359038755394
          ],
          [
           0.0057118798267592735
          ],
          [
           0.0000883280385581331
          ],
          [
           0.0015310193350076403
          ],
          [
           0.008656147778697044
          ],
          [
           0.008067294188309489
          ],
          [
           0.00524079695444923
          ],
          [
           0.02493794955291291
          ],
          [
           0.0035625642218447013
          ],
          [
           0.009068345291968332
          ],
          [
           0.0007360669879844425
          ],
          [
           0.005800207865317406
          ],
          [
           0.000029442679519377697
          ],
          [
           7.676678159125906
          ],
          [
           0.0005299682313487985
          ],
          [
           0.021493156049145718
          ],
          [
           0.000029442679519377697
          ],
          [
           0.0006771816289456871
          ],
          [
           0.00011777071807751079
          ],
          [
           0.0030620386700152807
          ],
          [
           0.00026498411567439927
          ],
          [
           0.0004416401927906655
          ],
          [
           0.000500525551829421
          ],
          [
           0.0006771816289456871
          ],
          [
           0.002914825272418392
          ],
          [
           0.00883280385581331
          ],
          [
           0.016458457851332136
          ],
          [
           0.0360378397317183
          ],
          [
           0.0015310193350076403
          ],
          [
           0.1043154135371552
          ],
          [
           0.06121133072078624
          ],
          [
           0.001589904694046396
          ],
          [
           0.006300733417146827
          ],
          [
           0.0000883280385581331
          ],
          [
           1.5938794557815117
          ],
          [
           0.0003827548337519101
          ],
          [
           0.000029442679519377697
          ],
          [
           0.010540479267937218
          ],
          [
           6.8240181602447265
          ],
          [
           0.004121975132712878
          ],
          [
           0.0007360669879844425
          ],
          [
           0.19906195623051265
          ],
          [
           0.0006477389494263094
          ],
          [
           0.001383805937410752
          ],
          [
           0.0010304937831782195
          ],
          [
           0.000029442679519377697
          ],
          [
           0.0003827548337519101
          ],
          [
           0.0014426912964495072
          ],
          [
           0.0003533121542325324
          ],
          [
           0.012513138795735521
          ],
          [
           0.000058885359038755394
          ],
          [
           0.000029442679519377697
          ],
          [
           0.006477389494263093
          ],
          [
           0.00562355178820114
          ],
          [
           0.000029442679519377697
          ],
          [
           0.000058885359038755394
          ],
          [
           0.001059936462697597
          ],
          [
           0.0014132486169301296
          ],
          [
           0.0003238694747131547
          ],
          [
           0.055263909457871935
          ],
          [
           0.03515455934613697
          ],
          [
           0.0002060987566356439
          ],
          [
           0.0034742361832865686
          ],
          [
           0.008656147778697044
          ],
          [
           0.02490850687339354
          ],
          [
           0.002002102207317684
          ],
          [
           0.0006477389494263094
          ],
          [
           0.00294426795193777
          ],
          [
           0.0007655096675038202
          ],
          [
           0.00026498411567439927
          ],
          [
           0.002679283836263371
          ],
          [
           0.00023554143615502158
          ],
          [
           0.13087271046363386
          ],
          [
           0.000058885359038755394
          ],
          [
           0.000029442679519377697
          ],
          [
           0.00011777071807751079
          ],
          [
           0.0028853825928990143
          ],
          [
           0.001472133975968885
          ],
          [
           0.00026498411567439927
          ],
          [
           0.002826497233860259
          ],
          [
           0.0007360669879844425
          ],
          [
           0.03671502136066399
          ],
          [
           0.0003533121542325324
          ],
          [
           0.0002060987566356439
          ],
          [
           0.000029442679519377697
          ],
          [
           0.0003238694747131547
          ],
          [
           0.0000883280385581331
          ],
          [
           0.000029442679519377697
          ],
          [
           0.0003238694747131547
          ],
          [
           0.42574114585020145
          ],
          [
           0.0006771816289456871
          ],
          [
           0.07478440597921936
          ],
          [
           0.002649841156743993
          ],
          [
           0.00026498411567439927
          ],
          [
           0.000294426795193777
          ],
          [
           0.0037392202989609677
          ],
          [
           0.3733626189852286
          ],
          [
           0.000058885359038755394
          ],
          [
           0.00256151311818586
          ],
          [
           0.0897707298545826
          ],
          [
           0.0017960034506820397
          ],
          [
           0.0004121975132712878
          ],
          [
           0.002149315604914572
          ],
          [
           0.0040925324531935
          ],
          [
           0.004887484800216698
          ],
          [
           0.00959831352331713
          ],
          [
           0.002119872925395194
          ],
          [
           0.013749731335549386
          ],
          [
           0.000029442679519377697
          ],
          [
           0.008391163663022644
          ],
          [
           0.05237852686497292
          ],
          [
           0.23377487538385894
          ],
          [
           0.1058758755516822
          ],
          [
           0.000029442679519377697
          ],
          [
           0.005446895711084874
          ],
          [
           0.020786531740680656
          ],
          [
           0.000058885359038755394
          ],
          [
           0.0003533121542325324
          ],
          [
           0.010010511036588418
          ],
          [
           0.0880630544424587
          ],
          [
           0.2728747537855925
          ],
          [
           0.0001472133975968885
          ],
          [
           0.000058885359038755394
          ],
          [
           0.0000883280385581331
          ],
          [
           0.00011777071807751079
          ],
          [
           0.0003827548337519101
          ],
          [
           0.0006771816289456871
          ],
          [
           0.000029442679519377697
          ],
          [
           0.0003238694747131547
          ],
          [
           0.06568661800773164
          ],
          [
           0.004328073889348522
          ],
          [
           0.021345942651548832
          ],
          [
           0.0001472133975968885
          ],
          [
           0.000029442679519377697
          ],
          [
           0.000029442679519377697
          ],
          [
           0.07605044119855259
          ],
          [
           0.0000883280385581331
          ],
          [
           0.000029442679519377697
          ],
          [
           0.029884319712168365
          ],
          [
           0.011011562140247259
          ],
          [
           0.0000883280385581331
          ],
          [
           0.0009421657446200863
          ],
          [
           0.04336906693204335
          ],
          [
           0.000029442679519377697
          ],
          [
           0.0027087265157827484
          ],
          [
           0.000029442679519377697
          ],
          [
           0.000029442679519377697
          ],
          [
           8.820909013287482
          ],
          [
           0.02788221750485068
          ],
          [
           0.000029442679519377697
          ],
          [
           0.001943216848278928
          ],
          [
           0.0010893791422169749
          ],
          [
           0.0009421657446200863
          ],
          [
           0.000029442679519377697
          ],
          [
           0.003385908144728436
          ],
          [
           0.000029442679519377697
          ],
          [
           0.12245210412109185
          ],
          [
           2.428756076232986
          ],
          [
           0.000294426795193777
          ],
          [
           0.004651943364061677
          ],
          [
           0.0001472133975968885
          ],
          [
           0.000029442679519377697
          ],
          [
           0.05641217395912767
          ],
          [
           0.000029442679519377697
          ],
          [
           0.0004416401927906655
          ],
          [
           0.002767611874821504
          ],
          [
           0.012778122911409921
          ],
          [
           0.01522186531151827
          ],
          [
           0.000029442679519377697
          ],
          [
           0.000029442679519377697
          ],
          [
           0.0063890614557049604
          ],
          [
           0.016399572492293377
          ],
          [
           3.1936768901464188
          ],
          [
           18.690507385696158
          ],
          [
           0.000058885359038755394
          ],
          [
           0.0010304937831782195
          ],
          [
           0.01024605247274344
          ],
          [
           0.000058885359038755394
          ],
          [
           0.0005299682313487985
          ],
          [
           0.00011777071807751079
          ],
          [
           0.000029442679519377697
          ],
          [
           0.004004204414635368
          ],
          [
           0.022111452319052653
          ],
          [
           0.001560462014527018
          ],
          [
           0.002149315604914572
          ],
          [
           0.0000883280385581331
          ],
          [
           0.000029442679519377697
          ],
          [
           1.9486637439900132
          ],
          [
           0.000294426795193777
          ],
          [
           0.000058885359038755394
          ],
          [
           0.00011777071807751079
          ],
          [
           0.000058885359038755394
          ],
          [
           0.04560671057551606
          ],
          [
           0.0009421657446200863
          ],
          [
           0.0002060987566356439
          ],
          [
           0.000029442679519377697
          ],
          [
           0.00047108287231004315
          ],
          [
           0.001266035219333241
          ],
          [
           0.0003533121542325324
          ],
          [
           0.000029442679519377697
          ],
          [
           0.000029442679519377697
          ],
          [
           0.000029442679519377697
          ],
          [
           0.00011777071807751079
          ]
         ],
         "domain": {
          "x": [
           0,
           1
          ],
          "y": [
           0,
           1
          ]
         },
         "hovertemplate": "labels=%{label}<br>percentage_sum=%{value}<br>parent=%{parent}<br>id=%{id}<br>percentage=%{color}<extra></extra>",
         "ids": [
          "",
          ":",
          "?",
          "abkhazia",
          "afghanistan",
          "aland islands",
          "albania",
          "algeria",
          "america",
          "american samoa",
          "andorra",
          "angola",
          "anguilla",
          "argentina",
          "armenia",
          "aruba",
          "ascension island",
          "asia",
          "australia",
          "austria",
          "azerbaijan",
          "bahamas",
          "bahrain",
          "bahrein",
          "bangladesh",
          "barbados",
          "belarus",
          "belgium",
          "belize",
          "benelux",
          "benin",
          "bermuda",
          "bhutan",
          "bolivia",
          "bonaire",
          "bosnia and herzegovina",
          "botswana",
          "brasil",
          "brazil",
          "british indian ocean territory",
          "brunei",
          "bulgaria",
          "burkina faso",
          "burundi",
          "cambodia",
          "cameroon",
          "canada",
          "cape verde",
          "caribbean netherlands",
          "cayman islands",
          "central african republic",
          "central america",
          "chad",
          "chile",
          "china",
          "christmas island",
          "colombia",
          "congo",
          "costa rica",
          "cote d'ivoire",
          "croatia",
          "cuba",
          "curaçao",
          "cyprus",
          "czech republic",
          "damam",
          "danemark",
          "democratic republic of the congo",
          "denmark",
          "djibouti",
          "dominica",
          "dominican republic",
          "east germany",
          "ecuador",
          "egypt",
          "el salvador",
          "emiratos árabes unidos",
          "england",
          "equatorial guinea",
          "estonia",
          "eswatini",
          "ethiopia",
          "europe",
          "europäische union",
          "far",
          "faroe islands",
          "fiji",
          "finland",
          "fra",
          "france",
          "france  spain",
          "france  switzerland  germany",
          "france - la réunion",
          "francia  españa",
          "franciaország",
          "francie",
          "francja",
          "francuska",
          "frankrijk",
          "french guiana",
          "french polynesia",
          "gabon",
          "georgia",
          "german democratic republic",
          "germany",
          "ghana",
          "greece",
          "grenada",
          "guadeloupe",
          "guam",
          "guatemala",
          "guernsey",
          "guinea",
          "guyana",
          "haiti",
          "honduras",
          "hong kong",
          "hrvatska",
          "hungary",
          "iceland",
          "india",
          "indonesia",
          "iran",
          "iraq",
          "iraqi kurdistan",
          "ireland",
          "irska",
          "isle of man",
          "israel",
          "italy",
          "ivory coast",
          "jamaica",
          "japan",
          "jersey",
          "jordan",
          "kazakhstan",
          "kenya",
          "kosovo",
          "kuwait",
          "kyrgyzstan",
          "la réunion",
          "laos",
          "latin america",
          "latvia",
          "lebanon",
          "lesotho",
          "liberia",
          "libya",
          "liechtenstein",
          "litauen",
          "lithuania",
          "luxembourg",
          "macau",
          "madagascar",
          "magyarország",
          "malaysia",
          "maldives",
          "mali",
          "malta",
          "martinique",
          "mauritania",
          "mauritius",
          "mayotte",
          "mexico",
          "middle east",
          "middle east and africa",
          "moldavia",
          "moldova",
          "monaco",
          "mongolia",
          "montenegro",
          "montserrat",
          "morocco",
          "mozambique",
          "myanmar",
          "mŕxico",
          "nagy-britannia",
          "namibia",
          "natural calm canada 5 idleswift dr.  thornhill on  l4j 1k6",
          "nepal",
          "netherlands",
          "new caledonia",
          "new zealand",
          "nicaragua",
          "niger",
          "nigeria",
          "njemačka",
          "none",
          "north korea",
          "north macedonia",
          "norway",
          "németország",
          "oman",
          "pakistan",
          "palestine",
          "palestinian territories",
          "panama",
          "papua new guinea",
          "paraguay",
          "people's republic of china",
          "peru",
          "philippines",
          "poland",
          "portugal",
          "product of usa. packed in canada.  imported by: strong international trading inc. richmond bc | www.siti.ca",
          "puerto rico",
          "qatar",
          "republic of ireland",
          "republic of the congo",
          "reunion",
          "romania",
          "russia",
          "rwanda",
          "saint",
          "saint kitts and nevis",
          "saint lucia",
          "saint martin",
          "saint pierre and miquelon",
          "saint vincent and the grenadines",
          "san marino",
          "saudi arabia",
          "senegal",
          "serbia",
          "seychelles",
          "sicily",
          "sierra leone",
          "singapore",
          "sint maarten",
          "sjedinjene-američke-države",
          "slovakia",
          "slovenia",
          "sn",
          "somalia",
          "south africa",
          "south america",
          "south korea",
          "south sudan",
          "soviet union",
          "spain",
          "spanien",
          "spanish",
          "sri lanka",
          "stany zjednoczone",
          "stati uniti d'america",
          "sudan",
          "suriname",
          "svijet",
          "sweden",
          "switzerland",
          "syria",
          "taiwan",
          "tajikistan",
          "tanzania",
          "thailand",
          "timor-leste",
          "togo",
          "trinidad and tobago",
          "tunisia",
          "turkey",
          "turks and caicos islands",
          "uganda",
          "ukraine",
          "united arab emirates",
          "united kingdom",
          "united states",
          "united states virgin islands",
          "unknown",
          "uruguay",
          "ussr",
          "uzbekistan",
          "vanuatu",
          "vatican city",
          "venezuela",
          "vereinigte staaten von amerika",
          "verenigd koninkrijk",
          "vietnam",
          "wallis and futuna",
          "west africa",
          "world",
          "yemen",
          "yugoslavia",
          "zambia",
          "zimbabwe",
          "česko",
          "švicarska",
          "канада",
          "нова каледония",
          "францыя",
          "السعودية",
          "الكويت",
          "ریاستہائے متحدہ امریکہ",
          "سلطنة عمان",
          "ประเทศอินเดีย",
          "ประเทศเวียดนาม"
         ],
         "labels": [
          "",
          ":",
          "?",
          "abkhazia",
          "afghanistan",
          "aland islands",
          "albania",
          "algeria",
          "america",
          "american samoa",
          "andorra",
          "angola",
          "anguilla",
          "argentina",
          "armenia",
          "aruba",
          "ascension island",
          "asia",
          "australia",
          "austria",
          "azerbaijan",
          "bahamas",
          "bahrain",
          "bahrein",
          "bangladesh",
          "barbados",
          "belarus",
          "belgium",
          "belize",
          "benelux",
          "benin",
          "bermuda",
          "bhutan",
          "bolivia",
          "bonaire",
          "bosnia and herzegovina",
          "botswana",
          "brasil",
          "brazil",
          "british indian ocean territory",
          "brunei",
          "bulgaria",
          "burkina faso",
          "burundi",
          "cambodia",
          "cameroon",
          "canada",
          "cape verde",
          "caribbean netherlands",
          "cayman islands",
          "central african republic",
          "central america",
          "chad",
          "chile",
          "china",
          "christmas island",
          "colombia",
          "congo",
          "costa rica",
          "cote d'ivoire",
          "croatia",
          "cuba",
          "curaçao",
          "cyprus",
          "czech republic",
          "damam",
          "danemark",
          "democratic republic of the congo",
          "denmark",
          "djibouti",
          "dominica",
          "dominican republic",
          "east germany",
          "ecuador",
          "egypt",
          "el salvador",
          "emiratos árabes unidos",
          "england",
          "equatorial guinea",
          "estonia",
          "eswatini",
          "ethiopia",
          "europe",
          "europäische union",
          "far",
          "faroe islands",
          "fiji",
          "finland",
          "fra",
          "france",
          "france  spain",
          "france  switzerland  germany",
          "france - la réunion",
          "francia  españa",
          "franciaország",
          "francie",
          "francja",
          "francuska",
          "frankrijk",
          "french guiana",
          "french polynesia",
          "gabon",
          "georgia",
          "german democratic republic",
          "germany",
          "ghana",
          "greece",
          "grenada",
          "guadeloupe",
          "guam",
          "guatemala",
          "guernsey",
          "guinea",
          "guyana",
          "haiti",
          "honduras",
          "hong kong",
          "hrvatska",
          "hungary",
          "iceland",
          "india",
          "indonesia",
          "iran",
          "iraq",
          "iraqi kurdistan",
          "ireland",
          "irska",
          "isle of man",
          "israel",
          "italy",
          "ivory coast",
          "jamaica",
          "japan",
          "jersey",
          "jordan",
          "kazakhstan",
          "kenya",
          "kosovo",
          "kuwait",
          "kyrgyzstan",
          "la réunion",
          "laos",
          "latin america",
          "latvia",
          "lebanon",
          "lesotho",
          "liberia",
          "libya",
          "liechtenstein",
          "litauen",
          "lithuania",
          "luxembourg",
          "macau",
          "madagascar",
          "magyarország",
          "malaysia",
          "maldives",
          "mali",
          "malta",
          "martinique",
          "mauritania",
          "mauritius",
          "mayotte",
          "mexico",
          "middle east",
          "middle east and africa",
          "moldavia",
          "moldova",
          "monaco",
          "mongolia",
          "montenegro",
          "montserrat",
          "morocco",
          "mozambique",
          "myanmar",
          "mŕxico",
          "nagy-britannia",
          "namibia",
          "natural calm canada 5 idleswift dr.  thornhill on  l4j 1k6",
          "nepal",
          "netherlands",
          "new caledonia",
          "new zealand",
          "nicaragua",
          "niger",
          "nigeria",
          "njemačka",
          "none",
          "north korea",
          "north macedonia",
          "norway",
          "németország",
          "oman",
          "pakistan",
          "palestine",
          "palestinian territories",
          "panama",
          "papua new guinea",
          "paraguay",
          "people's republic of china",
          "peru",
          "philippines",
          "poland",
          "portugal",
          "product of usa. packed in canada.  imported by: strong international trading inc. richmond bc | www.siti.ca",
          "puerto rico",
          "qatar",
          "republic of ireland",
          "republic of the congo",
          "reunion",
          "romania",
          "russia",
          "rwanda",
          "saint",
          "saint kitts and nevis",
          "saint lucia",
          "saint martin",
          "saint pierre and miquelon",
          "saint vincent and the grenadines",
          "san marino",
          "saudi arabia",
          "senegal",
          "serbia",
          "seychelles",
          "sicily",
          "sierra leone",
          "singapore",
          "sint maarten",
          "sjedinjene-američke-države",
          "slovakia",
          "slovenia",
          "sn",
          "somalia",
          "south africa",
          "south america",
          "south korea",
          "south sudan",
          "soviet union",
          "spain",
          "spanien",
          "spanish",
          "sri lanka",
          "stany zjednoczone",
          "stati uniti d'america",
          "sudan",
          "suriname",
          "svijet",
          "sweden",
          "switzerland",
          "syria",
          "taiwan",
          "tajikistan",
          "tanzania",
          "thailand",
          "timor-leste",
          "togo",
          "trinidad and tobago",
          "tunisia",
          "turkey",
          "turks and caicos islands",
          "uganda",
          "ukraine",
          "united arab emirates",
          "united kingdom",
          "united states",
          "united states virgin islands",
          "unknown",
          "uruguay",
          "ussr",
          "uzbekistan",
          "vanuatu",
          "vatican city",
          "venezuela",
          "vereinigte staaten von amerika",
          "verenigd koninkrijk",
          "vietnam",
          "wallis and futuna",
          "west africa",
          "world",
          "yemen",
          "yugoslavia",
          "zambia",
          "zimbabwe",
          "česko",
          "švicarska",
          "канада",
          "нова каледония",
          "францыя",
          "السعودية",
          "الكويت",
          "ریاستہائے متحدہ امریکہ",
          "سلطنة عمان",
          "ประเทศอินเดีย",
          "ประเทศเวียดนาม"
         ],
         "marker": {
          "coloraxis": "coloraxis",
          "colors": [
           0.08744475817255176,
           0.000029442679519377697,
           0.0000883280385581331,
           0.000029442679519377697,
           0.003356465465209058,
           0.0001472133975968885,
           0.002973710631457147,
           0.02358358629502154,
           0.000029442679519377697,
           0.00011777071807751079,
           0.004593058005022921,
           0.0000883280385581331,
           0.000058885359038755394,
           0.05879703100019727,
           0.001177707180775108,
           0.00047108287231004315,
           0.000029442679519377697,
           0.000058885359038755394,
           1.116289751297686,
           0.09736694117058206,
           0.00026498411567439927,
           0.001001051103658842,
           0.0007655096675038202,
           0.000029442679519377697,
           0.0004416401927906655,
           0.00023554143615502158,
           0.0040925324531935,
           2.212381824445079,
           0.000029442679519377697,
           0.00026498411567439927,
           0.00026498411567439927,
           0.0001472133975968885,
           0.0001766560771162662,
           0.04790323957802752,
           0.000029442679519377697,
           0.004799156761658565,
           0.0000883280385581331,
           0.05438062907229061,
           0.3075582302594194,
           0.000029442679519377697,
           0.0036803349399222125,
           0.08994738593169888,
           0.0012365925398138634,
           0.000029442679519377697,
           0.002679283836263371,
           0.002267086322992083,
           2.450720315154441,
           0.0000883280385581331,
           0.0000883280385581331,
           0.000029442679519377697,
           0.0000883280385581331,
           0.000029442679519377697,
           0.00011777071807751079,
           0.01495688119584387,
           0.011070447499286016,
           0.000029442679519377697,
           0.011011562140247259,
           0.000029442679519377697,
           0.0055057810701236295,
           0.0017076754121239065,
           0.00971608424139464,
           0.001560462014527018,
           0.0004121975132712878,
           0.00959831352331713,
           0.03951207591500487,
           0.000029442679519377697,
           0.0024142997205889713,
           0.0003827548337519101,
           0.0843827195025365,
           0.0001472133975968885,
           0.0002060987566356439,
           0.002973710631457147,
           0.0001472133975968885,
           0.002914825272418392,
           0.014161928848820672,
           0.006683488250898737,
           0.00026498411567439927,
           0.0027970545543408816,
           0.000029442679519377697,
           0.005594109108681763,
           0.0001766560771162662,
           0.0006771816289456871,
           0.0037392202989609677,
           0.0004416401927906655,
           8.398730431659123,
           0.000029442679519377697,
           0.0000883280385581331,
           0.08420606342542021,
           0.000029442679519377697,
           30.18760875389748,
           0.000029442679519377697,
           0.000058885359038755394,
           0.0057118798267592735,
           0.0000883280385581331,
           0.0015310193350076403,
           0.008656147778697044,
           0.008067294188309489,
           0.00524079695444923,
           0.02493794955291291,
           0.0035625642218447013,
           0.009068345291968332,
           0.0007360669879844425,
           0.005800207865317406,
           0.000029442679519377697,
           7.676678159125906,
           0.0005299682313487985,
           0.021493156049145718,
           0.000029442679519377697,
           0.0006771816289456871,
           0.00011777071807751079,
           0.0030620386700152807,
           0.00026498411567439927,
           0.0004416401927906655,
           0.000500525551829421,
           0.0006771816289456871,
           0.002914825272418392,
           0.00883280385581331,
           0.016458457851332136,
           0.0360378397317183,
           0.0015310193350076403,
           0.1043154135371552,
           0.06121133072078624,
           0.001589904694046396,
           0.006300733417146827,
           0.0000883280385581331,
           1.5938794557815117,
           0.0003827548337519101,
           0.000029442679519377697,
           0.010540479267937218,
           6.8240181602447265,
           0.004121975132712878,
           0.0007360669879844425,
           0.19906195623051265,
           0.0006477389494263094,
           0.001383805937410752,
           0.0010304937831782195,
           0.000029442679519377697,
           0.0003827548337519101,
           0.0014426912964495072,
           0.0003533121542325324,
           0.012513138795735521,
           0.000058885359038755394,
           0.000029442679519377697,
           0.006477389494263093,
           0.00562355178820114,
           0.000029442679519377697,
           0.000058885359038755394,
           0.001059936462697597,
           0.0014132486169301296,
           0.0003238694747131547,
           0.055263909457871935,
           0.03515455934613697,
           0.0002060987566356439,
           0.0034742361832865686,
           0.008656147778697044,
           0.02490850687339354,
           0.002002102207317684,
           0.0006477389494263094,
           0.00294426795193777,
           0.0007655096675038202,
           0.00026498411567439927,
           0.002679283836263371,
           0.00023554143615502158,
           0.13087271046363386,
           0.000058885359038755394,
           0.000029442679519377697,
           0.00011777071807751079,
           0.0028853825928990143,
           0.001472133975968885,
           0.00026498411567439927,
           0.002826497233860259,
           0.0007360669879844425,
           0.03671502136066399,
           0.0003533121542325324,
           0.0002060987566356439,
           0.000029442679519377697,
           0.0003238694747131547,
           0.0000883280385581331,
           0.000029442679519377697,
           0.0003238694747131547,
           0.42574114585020145,
           0.0006771816289456871,
           0.07478440597921936,
           0.002649841156743993,
           0.00026498411567439927,
           0.000294426795193777,
           0.0037392202989609677,
           0.3733626189852286,
           0.000058885359038755394,
           0.00256151311818586,
           0.0897707298545826,
           0.0017960034506820397,
           0.0004121975132712878,
           0.002149315604914572,
           0.0040925324531935,
           0.004887484800216698,
           0.00959831352331713,
           0.002119872925395194,
           0.013749731335549386,
           0.000029442679519377697,
           0.008391163663022644,
           0.05237852686497292,
           0.23377487538385894,
           0.1058758755516822,
           0.000029442679519377697,
           0.005446895711084874,
           0.020786531740680656,
           0.000058885359038755394,
           0.0003533121542325324,
           0.010010511036588418,
           0.0880630544424587,
           0.2728747537855925,
           0.0001472133975968885,
           0.000058885359038755394,
           0.0000883280385581331,
           0.00011777071807751079,
           0.0003827548337519101,
           0.0006771816289456871,
           0.000029442679519377697,
           0.0003238694747131547,
           0.06568661800773164,
           0.004328073889348522,
           0.021345942651548832,
           0.0001472133975968885,
           0.000029442679519377697,
           0.000029442679519377697,
           0.07605044119855259,
           0.0000883280385581331,
           0.000029442679519377697,
           0.029884319712168365,
           0.011011562140247259,
           0.0000883280385581331,
           0.0009421657446200863,
           0.04336906693204335,
           0.000029442679519377697,
           0.0027087265157827484,
           0.000029442679519377697,
           0.000029442679519377697,
           8.820909013287482,
           0.02788221750485068,
           0.000029442679519377697,
           0.001943216848278928,
           0.0010893791422169749,
           0.0009421657446200863,
           0.000029442679519377697,
           0.003385908144728436,
           0.000029442679519377697,
           0.12245210412109185,
           2.428756076232986,
           0.000294426795193777,
           0.004651943364061677,
           0.0001472133975968885,
           0.000029442679519377697,
           0.05641217395912767,
           0.000029442679519377697,
           0.0004416401927906655,
           0.002767611874821504,
           0.012778122911409921,
           0.01522186531151827,
           0.000029442679519377697,
           0.000029442679519377697,
           0.0063890614557049604,
           0.016399572492293377,
           3.1936768901464188,
           18.690507385696158,
           0.000058885359038755394,
           0.0010304937831782195,
           0.01024605247274344,
           0.000058885359038755394,
           0.0005299682313487985,
           0.00011777071807751079,
           0.000029442679519377697,
           0.004004204414635368,
           0.022111452319052653,
           0.001560462014527018,
           0.002149315604914572,
           0.0000883280385581331,
           0.000029442679519377697,
           1.9486637439900132,
           0.000294426795193777,
           0.000058885359038755394,
           0.00011777071807751079,
           0.000058885359038755394,
           0.04560671057551606,
           0.0009421657446200863,
           0.0002060987566356439,
           0.000029442679519377697,
           0.00047108287231004315,
           0.001266035219333241,
           0.0003533121542325324,
           0.000029442679519377697,
           0.000029442679519377697,
           0.000029442679519377697,
           0.00011777071807751079
          ]
         },
         "name": "",
         "parents": [
          "",
          "",
          "",
          "",
          "",
          "",
          "",
          "",
          "",
          "",
          "",
          "",
          "",
          "",
          "",
          "",
          "",
          "",
          "",
          "",
          "",
          "",
          "",
          "",
          "",
          "",
          "",
          "",
          "",
          "",
          "",
          "",
          "",
          "",
          "",
          "",
          "",
          "",
          "",
          "",
          "",
          "",
          "",
          "",
          "",
          "",
          "",
          "",
          "",
          "",
          "",
          "",
          "",
          "",
          "",
          "",
          "",
          "",
          "",
          "",
          "",
          "",
          "",
          "",
          "",
          "",
          "",
          "",
          "",
          "",
          "",
          "",
          "",
          "",
          "",
          "",
          "",
          "",
          "",
          "",
          "",
          "",
          "",
          "",
          "",
          "",
          "",
          "",
          "",
          "",
          "",
          "",
          "",
          "",
          "",
          "",
          "",
          "",
          "",
          "",
          "",
          "",
          "",
          "",
          "",
          "",
          "",
          "",
          "",
          "",
          "",
          "",
          "",
          "",
          "",
          "",
          "",
          "",
          "",
          "",
          "",
          "",
          "",
          "",
          "",
          "",
          "",
          "",
          "",
          "",
          "",
          "",
          "",
          "",
          "",
          "",
          "",
          "",
          "",
          "",
          "",
          "",
          "",
          "",
          "",
          "",
          "",
          "",
          "",
          "",
          "",
          "",
          "",
          "",
          "",
          "",
          "",
          "",
          "",
          "",
          "",
          "",
          "",
          "",
          "",
          "",
          "",
          "",
          "",
          "",
          "",
          "",
          "",
          "",
          "",
          "",
          "",
          "",
          "",
          "",
          "",
          "",
          "",
          "",
          "",
          "",
          "",
          "",
          "",
          "",
          "",
          "",
          "",
          "",
          "",
          "",
          "",
          "",
          "",
          "",
          "",
          "",
          "",
          "",
          "",
          "",
          "",
          "",
          "",
          "",
          "",
          "",
          "",
          "",
          "",
          "",
          "",
          "",
          "",
          "",
          "",
          "",
          "",
          "",
          "",
          "",
          "",
          "",
          "",
          "",
          "",
          "",
          "",
          "",
          "",
          "",
          "",
          "",
          "",
          "",
          "",
          "",
          "",
          "",
          "",
          "",
          "",
          "",
          "",
          "",
          "",
          "",
          "",
          "",
          "",
          "",
          "",
          "",
          "",
          "",
          "",
          "",
          "",
          "",
          "",
          "",
          "",
          "",
          "",
          "",
          "",
          "",
          "",
          "",
          "",
          "",
          "",
          "",
          "",
          "",
          "",
          "",
          "",
          "",
          "",
          "",
          "",
          "",
          "",
          "",
          "",
          "",
          "",
          ""
         ],
         "type": "treemap",
         "values": [
          0.08744475817255176,
          0.000029442679519377697,
          0.0000883280385581331,
          0.000029442679519377697,
          0.003356465465209058,
          0.0001472133975968885,
          0.0029737106314571475,
          0.02358358629502154,
          0.000029442679519377697,
          0.00011777071807751079,
          0.004593058005022921,
          0.0000883280385581331,
          0.000058885359038755394,
          0.05879703100019727,
          0.001177707180775108,
          0.00047108287231004315,
          0.000029442679519377697,
          0.000058885359038755394,
          1.116289751297686,
          0.09736694117058205,
          0.00026498411567439927,
          0.001001051103658842,
          0.0007655096675038203,
          0.000029442679519377697,
          0.0004416401927906655,
          0.00023554143615502158,
          0.0040925324531935,
          2.212381824445079,
          0.000029442679519377697,
          0.00026498411567439927,
          0.00026498411567439927,
          0.0001472133975968885,
          0.0001766560771162662,
          0.047903239578027515,
          0.000029442679519377697,
          0.004799156761658565,
          0.0000883280385581331,
          0.05438062907229061,
          0.3075582302594194,
          0.000029442679519377697,
          0.0036803349399222125,
          0.08994738593169888,
          0.0012365925398138634,
          0.000029442679519377697,
          0.002679283836263371,
          0.002267086322992083,
          2.450720315154441,
          0.0000883280385581331,
          0.0000883280385581331,
          0.000029442679519377697,
          0.0000883280385581331,
          0.000029442679519377697,
          0.00011777071807751079,
          0.01495688119584387,
          0.011070447499286016,
          0.000029442679519377697,
          0.011011562140247259,
          0.000029442679519377697,
          0.0055057810701236295,
          0.0017076754121239065,
          0.00971608424139464,
          0.001560462014527018,
          0.0004121975132712878,
          0.00959831352331713,
          0.03951207591500487,
          0.000029442679519377697,
          0.0024142997205889713,
          0.00038275483375191014,
          0.0843827195025365,
          0.0001472133975968885,
          0.0002060987566356439,
          0.0029737106314571475,
          0.0001472133975968885,
          0.0029148252724183923,
          0.014161928848820674,
          0.006683488250898737,
          0.00026498411567439927,
          0.0027970545543408816,
          0.000029442679519377697,
          0.005594109108681763,
          0.0001766560771162662,
          0.0006771816289456871,
          0.0037392202989609677,
          0.0004416401927906655,
          8.398730431659123,
          0.000029442679519377697,
          0.0000883280385581331,
          0.08420606342542021,
          0.000029442679519377697,
          30.18760875389748,
          0.000029442679519377697,
          0.000058885359038755394,
          0.0057118798267592735,
          0.0000883280385581331,
          0.0015310193350076406,
          0.008656147778697044,
          0.008067294188309489,
          0.00524079695444923,
          0.02493794955291291,
          0.0035625642218447013,
          0.009068345291968332,
          0.0007360669879844425,
          0.005800207865317406,
          0.000029442679519377697,
          7.676678159125906,
          0.0005299682313487985,
          0.021493156049145718,
          0.000029442679519377697,
          0.0006771816289456871,
          0.00011777071807751079,
          0.003062038670015281,
          0.00026498411567439927,
          0.0004416401927906655,
          0.000500525551829421,
          0.0006771816289456871,
          0.0029148252724183923,
          0.00883280385581331,
          0.016458457851332136,
          0.0360378397317183,
          0.0015310193350076406,
          0.1043154135371552,
          0.06121133072078624,
          0.001589904694046396,
          0.006300733417146828,
          0.0000883280385581331,
          1.5938794557815117,
          0.00038275483375191014,
          0.000029442679519377697,
          0.010540479267937218,
          6.8240181602447265,
          0.004121975132712878,
          0.0007360669879844425,
          0.19906195623051265,
          0.0006477389494263094,
          0.001383805937410752,
          0.0010304937831782195,
          0.000029442679519377697,
          0.00038275483375191014,
          0.0014426912964495072,
          0.0003533121542325324,
          0.012513138795735521,
          0.000058885359038755394,
          0.000029442679519377697,
          0.006477389494263093,
          0.005623551788201141,
          0.000029442679519377697,
          0.000058885359038755394,
          0.001059936462697597,
          0.0014132486169301296,
          0.0003238694747131547,
          0.055263909457871935,
          0.03515455934613697,
          0.0002060987566356439,
          0.0034742361832865686,
          0.008656147778697044,
          0.024908506873393535,
          0.002002102207317684,
          0.0006477389494263094,
          0.00294426795193777,
          0.0007655096675038203,
          0.00026498411567439927,
          0.002679283836263371,
          0.00023554143615502158,
          0.13087271046363386,
          0.000058885359038755394,
          0.000029442679519377697,
          0.00011777071807751079,
          0.0028853825928990143,
          0.001472133975968885,
          0.00026498411567439927,
          0.002826497233860259,
          0.0007360669879844425,
          0.03671502136066399,
          0.0003533121542325324,
          0.0002060987566356439,
          0.000029442679519377697,
          0.0003238694747131547,
          0.0000883280385581331,
          0.000029442679519377697,
          0.0003238694747131547,
          0.4257411458502015,
          0.0006771816289456871,
          0.07478440597921936,
          0.002649841156743993,
          0.00026498411567439927,
          0.000294426795193777,
          0.0037392202989609677,
          0.3733626189852286,
          0.000058885359038755394,
          0.00256151311818586,
          0.0897707298545826,
          0.0017960034506820397,
          0.0004121975132712878,
          0.002149315604914572,
          0.0040925324531935,
          0.004887484800216698,
          0.00959831352331713,
          0.002119872925395194,
          0.013749731335549386,
          0.000029442679519377697,
          0.008391163663022644,
          0.05237852686497292,
          0.23377487538385894,
          0.1058758755516822,
          0.000029442679519377697,
          0.005446895711084874,
          0.020786531740680656,
          0.000058885359038755394,
          0.0003533121542325324,
          0.010010511036588418,
          0.0880630544424587,
          0.2728747537855925,
          0.0001472133975968885,
          0.000058885359038755394,
          0.0000883280385581331,
          0.00011777071807751079,
          0.00038275483375191014,
          0.0006771816289456871,
          0.000029442679519377697,
          0.0003238694747131547,
          0.06568661800773164,
          0.004328073889348522,
          0.021345942651548832,
          0.0001472133975968885,
          0.000029442679519377697,
          0.000029442679519377697,
          0.07605044119855259,
          0.0000883280385581331,
          0.000029442679519377697,
          0.029884319712168365,
          0.011011562140247259,
          0.0000883280385581331,
          0.0009421657446200863,
          0.04336906693204335,
          0.000029442679519377697,
          0.0027087265157827484,
          0.000029442679519377697,
          0.000029442679519377697,
          8.820909013287482,
          0.02788221750485068,
          0.000029442679519377697,
          0.001943216848278928,
          0.0010893791422169749,
          0.0009421657446200863,
          0.000029442679519377697,
          0.003385908144728436,
          0.000029442679519377697,
          0.12245210412109185,
          2.428756076232986,
          0.000294426795193777,
          0.004651943364061677,
          0.0001472133975968885,
          0.000029442679519377697,
          0.05641217395912767,
          0.000029442679519377697,
          0.0004416401927906655,
          0.002767611874821504,
          0.012778122911409921,
          0.01522186531151827,
          0.000029442679519377697,
          0.000029442679519377697,
          0.0063890614557049604,
          0.016399572492293377,
          3.1936768901464188,
          18.690507385696158,
          0.000058885359038755394,
          0.0010304937831782195,
          0.01024605247274344,
          0.000058885359038755394,
          0.0005299682313487985,
          0.00011777071807751079,
          0.000029442679519377697,
          0.004004204414635368,
          0.022111452319052653,
          0.001560462014527018,
          0.002149315604914572,
          0.0000883280385581331,
          0.000029442679519377697,
          1.9486637439900132,
          0.000294426795193777,
          0.000058885359038755394,
          0.00011777071807751079,
          0.000058885359038755394,
          0.04560671057551606,
          0.0009421657446200863,
          0.0002060987566356439,
          0.000029442679519377697,
          0.00047108287231004315,
          0.001266035219333241,
          0.0003533121542325324,
          0.000029442679519377697,
          0.000029442679519377697,
          0.000029442679519377697,
          0.00011777071807751079
         ]
        }
       ],
       "layout": {
        "coloraxis": {
         "colorbar": {
          "title": {
           "text": "percentage"
          }
         },
         "colorscale": [
          [
           0,
           "#000004"
          ],
          [
           0.1111111111111111,
           "#180f3d"
          ],
          [
           0.2222222222222222,
           "#440f76"
          ],
          [
           0.3333333333333333,
           "#721f81"
          ],
          [
           0.4444444444444444,
           "#9e2f7f"
          ],
          [
           0.5555555555555556,
           "#cd4071"
          ],
          [
           0.6666666666666666,
           "#f1605d"
          ],
          [
           0.7777777777777778,
           "#fd9668"
          ],
          [
           0.8888888888888888,
           "#feca8d"
          ],
          [
           1,
           "#fcfdbf"
          ]
         ]
        },
        "font": {
         "color": "white"
        },
        "legend": {
         "tracegroupgap": 0
        },
        "paper_bgcolor": "black",
        "plot_bgcolor": "black",
        "template": {
         "data": {
          "bar": [
           {
            "error_x": {
             "color": "#2a3f5f"
            },
            "error_y": {
             "color": "#2a3f5f"
            },
            "marker": {
             "line": {
              "color": "#E5ECF6",
              "width": 0.5
             },
             "pattern": {
              "fillmode": "overlay",
              "size": 10,
              "solidity": 0.2
             }
            },
            "type": "bar"
           }
          ],
          "barpolar": [
           {
            "marker": {
             "line": {
              "color": "#E5ECF6",
              "width": 0.5
             },
             "pattern": {
              "fillmode": "overlay",
              "size": 10,
              "solidity": 0.2
             }
            },
            "type": "barpolar"
           }
          ],
          "carpet": [
           {
            "aaxis": {
             "endlinecolor": "#2a3f5f",
             "gridcolor": "white",
             "linecolor": "white",
             "minorgridcolor": "white",
             "startlinecolor": "#2a3f5f"
            },
            "baxis": {
             "endlinecolor": "#2a3f5f",
             "gridcolor": "white",
             "linecolor": "white",
             "minorgridcolor": "white",
             "startlinecolor": "#2a3f5f"
            },
            "type": "carpet"
           }
          ],
          "choropleth": [
           {
            "colorbar": {
             "outlinewidth": 0,
             "ticks": ""
            },
            "type": "choropleth"
           }
          ],
          "contour": [
           {
            "colorbar": {
             "outlinewidth": 0,
             "ticks": ""
            },
            "colorscale": [
             [
              0,
              "#0d0887"
             ],
             [
              0.1111111111111111,
              "#46039f"
             ],
             [
              0.2222222222222222,
              "#7201a8"
             ],
             [
              0.3333333333333333,
              "#9c179e"
             ],
             [
              0.4444444444444444,
              "#bd3786"
             ],
             [
              0.5555555555555556,
              "#d8576b"
             ],
             [
              0.6666666666666666,
              "#ed7953"
             ],
             [
              0.7777777777777778,
              "#fb9f3a"
             ],
             [
              0.8888888888888888,
              "#fdca26"
             ],
             [
              1,
              "#f0f921"
             ]
            ],
            "type": "contour"
           }
          ],
          "contourcarpet": [
           {
            "colorbar": {
             "outlinewidth": 0,
             "ticks": ""
            },
            "type": "contourcarpet"
           }
          ],
          "heatmap": [
           {
            "colorbar": {
             "outlinewidth": 0,
             "ticks": ""
            },
            "colorscale": [
             [
              0,
              "#0d0887"
             ],
             [
              0.1111111111111111,
              "#46039f"
             ],
             [
              0.2222222222222222,
              "#7201a8"
             ],
             [
              0.3333333333333333,
              "#9c179e"
             ],
             [
              0.4444444444444444,
              "#bd3786"
             ],
             [
              0.5555555555555556,
              "#d8576b"
             ],
             [
              0.6666666666666666,
              "#ed7953"
             ],
             [
              0.7777777777777778,
              "#fb9f3a"
             ],
             [
              0.8888888888888888,
              "#fdca26"
             ],
             [
              1,
              "#f0f921"
             ]
            ],
            "type": "heatmap"
           }
          ],
          "heatmapgl": [
           {
            "colorbar": {
             "outlinewidth": 0,
             "ticks": ""
            },
            "colorscale": [
             [
              0,
              "#0d0887"
             ],
             [
              0.1111111111111111,
              "#46039f"
             ],
             [
              0.2222222222222222,
              "#7201a8"
             ],
             [
              0.3333333333333333,
              "#9c179e"
             ],
             [
              0.4444444444444444,
              "#bd3786"
             ],
             [
              0.5555555555555556,
              "#d8576b"
             ],
             [
              0.6666666666666666,
              "#ed7953"
             ],
             [
              0.7777777777777778,
              "#fb9f3a"
             ],
             [
              0.8888888888888888,
              "#fdca26"
             ],
             [
              1,
              "#f0f921"
             ]
            ],
            "type": "heatmapgl"
           }
          ],
          "histogram": [
           {
            "marker": {
             "pattern": {
              "fillmode": "overlay",
              "size": 10,
              "solidity": 0.2
             }
            },
            "type": "histogram"
           }
          ],
          "histogram2d": [
           {
            "colorbar": {
             "outlinewidth": 0,
             "ticks": ""
            },
            "colorscale": [
             [
              0,
              "#0d0887"
             ],
             [
              0.1111111111111111,
              "#46039f"
             ],
             [
              0.2222222222222222,
              "#7201a8"
             ],
             [
              0.3333333333333333,
              "#9c179e"
             ],
             [
              0.4444444444444444,
              "#bd3786"
             ],
             [
              0.5555555555555556,
              "#d8576b"
             ],
             [
              0.6666666666666666,
              "#ed7953"
             ],
             [
              0.7777777777777778,
              "#fb9f3a"
             ],
             [
              0.8888888888888888,
              "#fdca26"
             ],
             [
              1,
              "#f0f921"
             ]
            ],
            "type": "histogram2d"
           }
          ],
          "histogram2dcontour": [
           {
            "colorbar": {
             "outlinewidth": 0,
             "ticks": ""
            },
            "colorscale": [
             [
              0,
              "#0d0887"
             ],
             [
              0.1111111111111111,
              "#46039f"
             ],
             [
              0.2222222222222222,
              "#7201a8"
             ],
             [
              0.3333333333333333,
              "#9c179e"
             ],
             [
              0.4444444444444444,
              "#bd3786"
             ],
             [
              0.5555555555555556,
              "#d8576b"
             ],
             [
              0.6666666666666666,
              "#ed7953"
             ],
             [
              0.7777777777777778,
              "#fb9f3a"
             ],
             [
              0.8888888888888888,
              "#fdca26"
             ],
             [
              1,
              "#f0f921"
             ]
            ],
            "type": "histogram2dcontour"
           }
          ],
          "mesh3d": [
           {
            "colorbar": {
             "outlinewidth": 0,
             "ticks": ""
            },
            "type": "mesh3d"
           }
          ],
          "parcoords": [
           {
            "line": {
             "colorbar": {
              "outlinewidth": 0,
              "ticks": ""
             }
            },
            "type": "parcoords"
           }
          ],
          "pie": [
           {
            "automargin": true,
            "type": "pie"
           }
          ],
          "scatter": [
           {
            "fillpattern": {
             "fillmode": "overlay",
             "size": 10,
             "solidity": 0.2
            },
            "type": "scatter"
           }
          ],
          "scatter3d": [
           {
            "line": {
             "colorbar": {
              "outlinewidth": 0,
              "ticks": ""
             }
            },
            "marker": {
             "colorbar": {
              "outlinewidth": 0,
              "ticks": ""
             }
            },
            "type": "scatter3d"
           }
          ],
          "scattercarpet": [
           {
            "marker": {
             "colorbar": {
              "outlinewidth": 0,
              "ticks": ""
             }
            },
            "type": "scattercarpet"
           }
          ],
          "scattergeo": [
           {
            "marker": {
             "colorbar": {
              "outlinewidth": 0,
              "ticks": ""
             }
            },
            "type": "scattergeo"
           }
          ],
          "scattergl": [
           {
            "marker": {
             "colorbar": {
              "outlinewidth": 0,
              "ticks": ""
             }
            },
            "type": "scattergl"
           }
          ],
          "scattermapbox": [
           {
            "marker": {
             "colorbar": {
              "outlinewidth": 0,
              "ticks": ""
             }
            },
            "type": "scattermapbox"
           }
          ],
          "scatterpolar": [
           {
            "marker": {
             "colorbar": {
              "outlinewidth": 0,
              "ticks": ""
             }
            },
            "type": "scatterpolar"
           }
          ],
          "scatterpolargl": [
           {
            "marker": {
             "colorbar": {
              "outlinewidth": 0,
              "ticks": ""
             }
            },
            "type": "scatterpolargl"
           }
          ],
          "scatterternary": [
           {
            "marker": {
             "colorbar": {
              "outlinewidth": 0,
              "ticks": ""
             }
            },
            "type": "scatterternary"
           }
          ],
          "surface": [
           {
            "colorbar": {
             "outlinewidth": 0,
             "ticks": ""
            },
            "colorscale": [
             [
              0,
              "#0d0887"
             ],
             [
              0.1111111111111111,
              "#46039f"
             ],
             [
              0.2222222222222222,
              "#7201a8"
             ],
             [
              0.3333333333333333,
              "#9c179e"
             ],
             [
              0.4444444444444444,
              "#bd3786"
             ],
             [
              0.5555555555555556,
              "#d8576b"
             ],
             [
              0.6666666666666666,
              "#ed7953"
             ],
             [
              0.7777777777777778,
              "#fb9f3a"
             ],
             [
              0.8888888888888888,
              "#fdca26"
             ],
             [
              1,
              "#f0f921"
             ]
            ],
            "type": "surface"
           }
          ],
          "table": [
           {
            "cells": {
             "fill": {
              "color": "#EBF0F8"
             },
             "line": {
              "color": "white"
             }
            },
            "header": {
             "fill": {
              "color": "#C8D4E3"
             },
             "line": {
              "color": "white"
             }
            },
            "type": "table"
           }
          ]
         },
         "layout": {
          "annotationdefaults": {
           "arrowcolor": "#2a3f5f",
           "arrowhead": 0,
           "arrowwidth": 1
          },
          "autotypenumbers": "strict",
          "coloraxis": {
           "colorbar": {
            "outlinewidth": 0,
            "ticks": ""
           }
          },
          "colorscale": {
           "diverging": [
            [
             0,
             "#8e0152"
            ],
            [
             0.1,
             "#c51b7d"
            ],
            [
             0.2,
             "#de77ae"
            ],
            [
             0.3,
             "#f1b6da"
            ],
            [
             0.4,
             "#fde0ef"
            ],
            [
             0.5,
             "#f7f7f7"
            ],
            [
             0.6,
             "#e6f5d0"
            ],
            [
             0.7,
             "#b8e186"
            ],
            [
             0.8,
             "#7fbc41"
            ],
            [
             0.9,
             "#4d9221"
            ],
            [
             1,
             "#276419"
            ]
           ],
           "sequential": [
            [
             0,
             "#0d0887"
            ],
            [
             0.1111111111111111,
             "#46039f"
            ],
            [
             0.2222222222222222,
             "#7201a8"
            ],
            [
             0.3333333333333333,
             "#9c179e"
            ],
            [
             0.4444444444444444,
             "#bd3786"
            ],
            [
             0.5555555555555556,
             "#d8576b"
            ],
            [
             0.6666666666666666,
             "#ed7953"
            ],
            [
             0.7777777777777778,
             "#fb9f3a"
            ],
            [
             0.8888888888888888,
             "#fdca26"
            ],
            [
             1,
             "#f0f921"
            ]
           ],
           "sequentialminus": [
            [
             0,
             "#0d0887"
            ],
            [
             0.1111111111111111,
             "#46039f"
            ],
            [
             0.2222222222222222,
             "#7201a8"
            ],
            [
             0.3333333333333333,
             "#9c179e"
            ],
            [
             0.4444444444444444,
             "#bd3786"
            ],
            [
             0.5555555555555556,
             "#d8576b"
            ],
            [
             0.6666666666666666,
             "#ed7953"
            ],
            [
             0.7777777777777778,
             "#fb9f3a"
            ],
            [
             0.8888888888888888,
             "#fdca26"
            ],
            [
             1,
             "#f0f921"
            ]
           ]
          },
          "colorway": [
           "#636efa",
           "#EF553B",
           "#00cc96",
           "#ab63fa",
           "#FFA15A",
           "#19d3f3",
           "#FF6692",
           "#B6E880",
           "#FF97FF",
           "#FECB52"
          ],
          "font": {
           "color": "#2a3f5f"
          },
          "geo": {
           "bgcolor": "white",
           "lakecolor": "white",
           "landcolor": "#E5ECF6",
           "showlakes": true,
           "showland": true,
           "subunitcolor": "white"
          },
          "hoverlabel": {
           "align": "left"
          },
          "hovermode": "closest",
          "mapbox": {
           "style": "light"
          },
          "paper_bgcolor": "white",
          "plot_bgcolor": "#E5ECF6",
          "polar": {
           "angularaxis": {
            "gridcolor": "white",
            "linecolor": "white",
            "ticks": ""
           },
           "bgcolor": "#E5ECF6",
           "radialaxis": {
            "gridcolor": "white",
            "linecolor": "white",
            "ticks": ""
           }
          },
          "scene": {
           "xaxis": {
            "backgroundcolor": "#E5ECF6",
            "gridcolor": "white",
            "gridwidth": 2,
            "linecolor": "white",
            "showbackground": true,
            "ticks": "",
            "zerolinecolor": "white"
           },
           "yaxis": {
            "backgroundcolor": "#E5ECF6",
            "gridcolor": "white",
            "gridwidth": 2,
            "linecolor": "white",
            "showbackground": true,
            "ticks": "",
            "zerolinecolor": "white"
           },
           "zaxis": {
            "backgroundcolor": "#E5ECF6",
            "gridcolor": "white",
            "gridwidth": 2,
            "linecolor": "white",
            "showbackground": true,
            "ticks": "",
            "zerolinecolor": "white"
           }
          },
          "shapedefaults": {
           "line": {
            "color": "#2a3f5f"
           }
          },
          "ternary": {
           "aaxis": {
            "gridcolor": "white",
            "linecolor": "white",
            "ticks": ""
           },
           "baxis": {
            "gridcolor": "white",
            "linecolor": "white",
            "ticks": ""
           },
           "bgcolor": "#E5ECF6",
           "caxis": {
            "gridcolor": "white",
            "linecolor": "white",
            "ticks": ""
           }
          },
          "title": {
           "x": 0.05
          },
          "xaxis": {
           "automargin": true,
           "gridcolor": "white",
           "linecolor": "white",
           "ticks": "",
           "title": {
            "standoff": 15
           },
           "zerolinecolor": "white",
           "zerolinewidth": 2
          },
          "yaxis": {
           "automargin": true,
           "gridcolor": "white",
           "linecolor": "white",
           "ticks": "",
           "title": {
            "standoff": 15
           },
           "zerolinecolor": "white",
           "zerolinewidth": 2
          }
         }
        },
        "title": {
         "text": "countries treemap"
        }
       }
      }
     },
     "metadata": {},
     "output_type": "display_data"
    }
   ],
   "source": [
    "df = pd.DataFrame(data_graph_countries)\n",
    "fig = px.treemap(df, path=['countries'], values='percentage',\n",
    "                 color='percentage', color_continuous_scale='Magma',\n",
    "                 title='countries treemap')\n",
    "fig.update_layout(\n",
    "    paper_bgcolor='black',  \n",
    "    plot_bgcolor='black',   \n",
    "    font_color='white'      \n",
    ")\n",
    "fig.show()"
   ]
  },
  {
   "cell_type": "markdown",
   "metadata": {},
   "source": [
    "# ECOSCORE GRAD:"
   ]
  },
  {
   "cell_type": "code",
   "execution_count": 43,
   "metadata": {},
   "outputs": [
    {
     "name": "stdout",
     "output_type": "stream",
     "text": [
      "999.0: 74.62%\n",
      "54.0: 0.35%\n",
      "75.0: 0.48%\n",
      "76.0: 0.38%\n",
      "77.0: 0.51%\n",
      "52.0: 0.17%\n",
      "9.0: 0.14%\n",
      "24.0: 0.15%\n",
      "50.0: 0.43%\n",
      "65.0: 0.16%\n",
      "49.0: 0.65%\n",
      "70.0: 0.29%\n",
      "79.0: 1.84%\n",
      "63.0: 0.22%\n",
      "29.0: 0.21%\n",
      "21.0: 0.50%\n",
      "56.0: 0.17%\n",
      "92.0: 0.04%\n",
      "34.0: 0.92%\n",
      "59.0: 0.21%\n",
      "55.0: 0.23%\n",
      "73.0: 0.22%\n",
      "27.0: 0.45%\n",
      "19.0: 0.32%\n",
      "60.0: 0.38%\n",
      "23.0: 0.17%\n",
      "47.0: 0.21%\n",
      "42.0: 0.46%\n",
      "0.0: 0.62%\n",
      "41.0: 0.17%\n",
      "67.0: 1.32%\n",
      "71.0: 0.27%\n",
      "74.0: 0.31%\n",
      "30.0: 0.27%\n",
      "15.0: 0.43%\n",
      "58.0: 0.26%\n",
      "61.0: 0.15%\n",
      "39.0: 0.51%\n",
      "91.0: 0.07%\n",
      "53.0: 0.19%\n",
      "44.0: 0.38%\n",
      "14.0: 0.10%\n",
      "72.0: 0.99%\n",
      "68.0: 0.28%\n",
      "12.0: 0.33%\n",
      "18.0: 0.20%\n",
      "5.0: 0.10%\n",
      "51.0: 0.22%\n",
      "66.0: 0.22%\n",
      "69.0: 0.18%\n",
      "43.0: 0.39%\n",
      "8.0: 0.10%\n",
      "2.0: 0.12%\n",
      "22.0: 0.26%\n",
      "46.0: 0.13%\n",
      "38.0: 0.31%\n",
      "26.0: 0.13%\n",
      "10.0: 0.04%\n",
      "36.0: 0.36%\n",
      "37.0: 0.39%\n",
      "78.0: 0.36%\n",
      "25.0: 0.34%\n",
      "64.0: 0.24%\n",
      "4.0: 0.19%\n",
      "40.0: 0.20%\n",
      "35.0: 0.31%\n",
      "20.0: 0.11%\n",
      "32.0: 0.20%\n",
      "85.0: 0.08%\n",
      "62.0: 0.22%\n",
      "31.0: 0.16%\n",
      "28.0: 0.19%\n",
      "89.0: 0.04%\n",
      "48.0: 0.21%\n",
      "83.0: 0.06%\n",
      "16.0: 0.27%\n",
      "90.0: 0.05%\n",
      "57.0: 0.24%\n",
      "45.0: 0.33%\n",
      "100.0: 0.31%\n",
      "33.0: 0.12%\n",
      "82.0: 0.06%\n",
      "13.0: 0.07%\n",
      "81.0: 0.09%\n",
      "1.0: 0.07%\n",
      "17.0: 0.13%\n",
      "6.0: 0.11%\n",
      "11.0: 0.05%\n",
      "99.0: 0.03%\n",
      "80.0: 0.07%\n",
      "86.0: 0.03%\n",
      "3.0: 0.08%\n",
      "84.0: 0.04%\n",
      "94.0: 0.04%\n",
      "88.0: 0.04%\n",
      "97.0: 0.02%\n",
      "93.0: 0.03%\n",
      "95.0: 0.03%\n",
      "7.0: 0.03%\n",
      "96.0: 0.03%\n",
      "87.0: 0.04%\n",
      "98.0: 0.02%\n",
      "78.4170138324: 0.00%\n"
     ]
    }
   ],
   "source": [
    "# retourne une liste des notes écoscores présentes dans le fichier\n",
    "def extract_grad_ecoscore_from_jsonl(file_path):\n",
    "    ecoscore_grad_list = []\n",
    "    with open(file_path, 'r', encoding='utf-8') as file:\n",
    "        for line in file:\n",
    "            try:\n",
    "                record = json.loads(line)\n",
    "                ecoscore_grad = record.get('ecoscore_note')\n",
    "                if ecoscore_grad is not None:\n",
    "                    ecoscore_grad_list.append(ecoscore_grad)\n",
    "            except json.JSONDecodeError:\n",
    "                print(f\"WARNING line: {line} in {file_path}\")\n",
    "    return ecoscore_grad_list\n",
    "ecoscore_grad_list = extract_grad_ecoscore_from_jsonl(jsonl_02)\n",
    "\n",
    "ecoscore_grad_counts = Counter(ecoscore_grad_list)\n",
    "total_ecoscore_grads = sum(ecoscore_grad_counts.values())\n",
    "data_graph_ecoscore_grad = []\n",
    "for ecoscore_grad, count in ecoscore_grad_counts.items():\n",
    "    percentage = (count / total_ecoscore_grads) * 100\n",
    "    print(f\"{ecoscore_grad}: {percentage:.2f}%\")\n",
    "    data_graph_ecoscore_grad.append({'ecoscore_grad': ecoscore_grad, 'percentage': percentage})"
   ]
  },
  {
   "cell_type": "code",
   "execution_count": 44,
   "metadata": {},
   "outputs": [
    {
     "data": {
      "application/vnd.plotly.v1+json": {
       "config": {
        "plotlyServerURL": "https://plot.ly"
       },
       "data": [
        {
         "branchvalues": "total",
         "customdata": [
          [
           0.617056487306271
          ],
          [
           0.06646046719316867
          ],
          [
           0.11797362287272223
          ],
          [
           0.08103016241591351
          ],
          [
           0.18861933728970315
          ],
          [
           0.09887253215953405
          ],
          [
           0.10913110806150993
          ],
          [
           0.03052398351201402
          ],
          [
           0.09959629671703545
          ],
          [
           0.14129142883396179
          ],
          [
           0.043614681595516944
          ],
          [
           0.047296440431502135
          ],
          [
           0.3324596760870393
          ],
          [
           0.07338343252579041
          ],
          [
           0.10082354966236384
          ],
          [
           0.42837421396808956
          ],
          [
           0.2708138166024666
          ],
          [
           0.1348404838649279
          ],
          [
           0.20466802965168987
          ],
          [
           0.3209109111912567
          ],
          [
           0.11492122452152083
          ],
          [
           0.4984220359245259
          ],
          [
           0.2602405604580989
          ],
          [
           0.16999026694010283
          ],
          [
           0.15123532449354574
          ],
          [
           0.33818685649857183
          ],
          [
           0.127886050508067
          ],
          [
           0.45027595883856564
          ],
          [
           0.18975218616231396
          ],
          [
           0.2134476084144238
          ],
          [
           0.2730795143476883
          ],
          [
           0.15762333341410126
          ],
          [
           0.20347224473060066
          ],
          [
           0.12215887009653446
          ],
          [
           0.9182369472995557
          ],
          [
           0.3099915067802579
          ],
          [
           0.3573508832602384
          ],
          [
           0.3897000121781254
          ],
          [
           0.3085125096410159
          ],
          [
           0.5078309751720436
          ],
          [
           0.20447922150625472
          ],
          [
           0.1672525488312933
          ],
          [
           0.4621708720009793
          ],
          [
           0.3857979771724659
          ],
          [
           0.3829343869666996
          ],
          [
           0.32858910910561895
          ],
          [
           0.12867275111404672
          ],
          [
           0.20687079134843317
          ],
          [
           0.2110875065964846
          ],
          [
           0.6513251657027487
          ],
          [
           0.4266749406591733
          ],
          [
           0.21785313180791038
          ],
          [
           0.16656025229803115
          ],
          [
           0.1891228256775302
          ],
          [
           0.3535432523272964
          ],
          [
           0.23201374271554576
          ],
          [
           0.1673154848797717
          ],
          [
           0.2419261703508905
          ],
          [
           0.25589797311309076
          ],
          [
           0.21266090780844404
          ],
          [
           0.3780568432096251
          ],
          [
           0.14824586219082272
          ],
          [
           0.2198356173349793
          ],
          [
           0.21731817539584414
          ],
          [
           0.23837028361186208
          ],
          [
           0.16259528124389322
          ],
          [
           0.21785313180791038
          ],
          [
           1.316842410337372
          ],
          [
           0.28258285766792357
          ],
          [
           0.1786125055816408
          ],
          [
           0.2910792242125049
          ],
          [
           0.2738032789051897
          ],
          [
           0.9902043187345826
          ],
          [
           0.21517834974757924
          ],
          [
           0.3132327132768944
          ],
          [
           0.47535597415719977
          ],
          [
           0.37764775889451574
          ],
          [
           0.5088694199719368
          ],
          [
           0.3597424531024168
          ],
          [
           0.00003146802423918971
          ],
          [
           1.8421066709379261
          ],
          [
           0.07121213885328631
          ],
          [
           0.08911744464538526
          ],
          [
           0.05755501633347798
          ],
          [
           0.0645409177145781
          ],
          [
           0.04348880949856018
          ],
          [
           0.0798029094705851
          ],
          [
           0.030240771293861313
          ],
          [
           0.03571620751148032
          ],
          [
           0.04323706530464666
          ],
          [
           0.040782559413989866
          ],
          [
           0.054125001691406306
          ],
          [
           0.0651388101751227
          ],
          [
           0.040153198929206074
          ],
          [
           0.03275821323299649
          ],
          [
           0.03666024823865601
          ],
          [
           0.02614992814276665
          ],
          [
           0.02618139616700584
          ],
          [
           0.02076889599786521
          ],
          [
           0.020831832046343587
          ],
          [
           0.02511148334287339
          ],
          [
           0.3086069137137335
          ],
          [
           74.61745109633023
          ]
         ],
         "domain": {
          "x": [
           0,
           1
          ],
          "y": [
           0,
           1
          ]
         },
         "hovertemplate": "labels=%{label}<br>percentage_sum=%{value}<br>parent=%{parent}<br>id=%{id}<br>percentage=%{color}<extra></extra>",
         "ids": [
          "0.0",
          "1.0",
          "2.0",
          "3.0",
          "4.0",
          "5.0",
          "6.0",
          "7.0",
          "8.0",
          "9.0",
          "10.0",
          "11.0",
          "12.0",
          "13.0",
          "14.0",
          "15.0",
          "16.0",
          "17.0",
          "18.0",
          "19.0",
          "20.0",
          "21.0",
          "22.0",
          "23.0",
          "24.0",
          "25.0",
          "26.0",
          "27.0",
          "28.0",
          "29.0",
          "30.0",
          "31.0",
          "32.0",
          "33.0",
          "34.0",
          "35.0",
          "36.0",
          "37.0",
          "38.0",
          "39.0",
          "40.0",
          "41.0",
          "42.0",
          "43.0",
          "44.0",
          "45.0",
          "46.0",
          "47.0",
          "48.0",
          "49.0",
          "50.0",
          "51.0",
          "52.0",
          "53.0",
          "54.0",
          "55.0",
          "56.0",
          "57.0",
          "58.0",
          "59.0",
          "60.0",
          "61.0",
          "62.0",
          "63.0",
          "64.0",
          "65.0",
          "66.0",
          "67.0",
          "68.0",
          "69.0",
          "70.0",
          "71.0",
          "72.0",
          "73.0",
          "74.0",
          "75.0",
          "76.0",
          "77.0",
          "78.0",
          "78.4170138324",
          "79.0",
          "80.0",
          "81.0",
          "82.0",
          "83.0",
          "84.0",
          "85.0",
          "86.0",
          "87.0",
          "88.0",
          "89.0",
          "90.0",
          "91.0",
          "92.0",
          "93.0",
          "94.0",
          "95.0",
          "96.0",
          "97.0",
          "98.0",
          "99.0",
          "100.0",
          "999.0"
         ],
         "labels": [
          "0.0",
          "1.0",
          "2.0",
          "3.0",
          "4.0",
          "5.0",
          "6.0",
          "7.0",
          "8.0",
          "9.0",
          "10.0",
          "11.0",
          "12.0",
          "13.0",
          "14.0",
          "15.0",
          "16.0",
          "17.0",
          "18.0",
          "19.0",
          "20.0",
          "21.0",
          "22.0",
          "23.0",
          "24.0",
          "25.0",
          "26.0",
          "27.0",
          "28.0",
          "29.0",
          "30.0",
          "31.0",
          "32.0",
          "33.0",
          "34.0",
          "35.0",
          "36.0",
          "37.0",
          "38.0",
          "39.0",
          "40.0",
          "41.0",
          "42.0",
          "43.0",
          "44.0",
          "45.0",
          "46.0",
          "47.0",
          "48.0",
          "49.0",
          "50.0",
          "51.0",
          "52.0",
          "53.0",
          "54.0",
          "55.0",
          "56.0",
          "57.0",
          "58.0",
          "59.0",
          "60.0",
          "61.0",
          "62.0",
          "63.0",
          "64.0",
          "65.0",
          "66.0",
          "67.0",
          "68.0",
          "69.0",
          "70.0",
          "71.0",
          "72.0",
          "73.0",
          "74.0",
          "75.0",
          "76.0",
          "77.0",
          "78.0",
          "78.4170138324",
          "79.0",
          "80.0",
          "81.0",
          "82.0",
          "83.0",
          "84.0",
          "85.0",
          "86.0",
          "87.0",
          "88.0",
          "89.0",
          "90.0",
          "91.0",
          "92.0",
          "93.0",
          "94.0",
          "95.0",
          "96.0",
          "97.0",
          "98.0",
          "99.0",
          "100.0",
          "999.0"
         ],
         "marker": {
          "coloraxis": "coloraxis",
          "colors": [
           0.617056487306271,
           0.06646046719316867,
           0.11797362287272223,
           0.08103016241591351,
           0.18861933728970315,
           0.09887253215953405,
           0.10913110806150993,
           0.03052398351201402,
           0.09959629671703545,
           0.14129142883396179,
           0.043614681595516944,
           0.047296440431502135,
           0.3324596760870393,
           0.07338343252579041,
           0.10082354966236384,
           0.42837421396808956,
           0.2708138166024666,
           0.1348404838649279,
           0.20466802965168987,
           0.3209109111912567,
           0.11492122452152083,
           0.4984220359245259,
           0.2602405604580989,
           0.16999026694010283,
           0.15123532449354574,
           0.33818685649857183,
           0.127886050508067,
           0.45027595883856564,
           0.18975218616231396,
           0.2134476084144238,
           0.2730795143476883,
           0.15762333341410126,
           0.20347224473060066,
           0.12215887009653446,
           0.9182369472995557,
           0.3099915067802579,
           0.3573508832602384,
           0.3897000121781254,
           0.3085125096410159,
           0.5078309751720436,
           0.20447922150625472,
           0.1672525488312933,
           0.4621708720009793,
           0.3857979771724659,
           0.3829343869666996,
           0.32858910910561895,
           0.12867275111404672,
           0.20687079134843317,
           0.2110875065964846,
           0.6513251657027487,
           0.4266749406591733,
           0.21785313180791038,
           0.16656025229803115,
           0.1891228256775302,
           0.3535432523272964,
           0.23201374271554576,
           0.1673154848797717,
           0.2419261703508905,
           0.25589797311309076,
           0.21266090780844404,
           0.3780568432096251,
           0.14824586219082272,
           0.2198356173349793,
           0.21731817539584414,
           0.23837028361186208,
           0.16259528124389322,
           0.21785313180791038,
           1.316842410337372,
           0.28258285766792357,
           0.1786125055816408,
           0.2910792242125049,
           0.2738032789051897,
           0.9902043187345826,
           0.21517834974757924,
           0.3132327132768944,
           0.47535597415719977,
           0.37764775889451574,
           0.5088694199719368,
           0.3597424531024168,
           0.00003146802423918971,
           1.8421066709379261,
           0.07121213885328631,
           0.08911744464538526,
           0.05755501633347798,
           0.0645409177145781,
           0.04348880949856018,
           0.0798029094705851,
           0.030240771293861313,
           0.03571620751148032,
           0.04323706530464666,
           0.040782559413989866,
           0.054125001691406306,
           0.0651388101751227,
           0.040153198929206074,
           0.03275821323299649,
           0.03666024823865601,
           0.02614992814276665,
           0.02618139616700584,
           0.02076889599786521,
           0.020831832046343587,
           0.02511148334287339,
           0.3086069137137335,
           74.61745109633023
          ]
         },
         "name": "",
         "parents": [
          "",
          "",
          "",
          "",
          "",
          "",
          "",
          "",
          "",
          "",
          "",
          "",
          "",
          "",
          "",
          "",
          "",
          "",
          "",
          "",
          "",
          "",
          "",
          "",
          "",
          "",
          "",
          "",
          "",
          "",
          "",
          "",
          "",
          "",
          "",
          "",
          "",
          "",
          "",
          "",
          "",
          "",
          "",
          "",
          "",
          "",
          "",
          "",
          "",
          "",
          "",
          "",
          "",
          "",
          "",
          "",
          "",
          "",
          "",
          "",
          "",
          "",
          "",
          "",
          "",
          "",
          "",
          "",
          "",
          "",
          "",
          "",
          "",
          "",
          "",
          "",
          "",
          "",
          "",
          "",
          "",
          "",
          "",
          "",
          "",
          "",
          "",
          "",
          "",
          "",
          "",
          "",
          "",
          "",
          "",
          "",
          "",
          "",
          "",
          "",
          "",
          "",
          ""
         ],
         "type": "treemap",
         "values": [
          0.617056487306271,
          0.06646046719316867,
          0.11797362287272223,
          0.08103016241591351,
          0.18861933728970315,
          0.09887253215953407,
          0.10913110806150993,
          0.03052398351201402,
          0.09959629671703545,
          0.14129142883396179,
          0.043614681595516944,
          0.047296440431502135,
          0.3324596760870393,
          0.07338343252579041,
          0.10082354966236384,
          0.42837421396808956,
          0.2708138166024666,
          0.1348404838649279,
          0.20466802965168987,
          0.3209109111912567,
          0.11492122452152083,
          0.4984220359245259,
          0.2602405604580989,
          0.16999026694010283,
          0.15123532449354574,
          0.33818685649857183,
          0.127886050508067,
          0.4502759588385656,
          0.18975218616231396,
          0.2134476084144238,
          0.2730795143476883,
          0.15762333341410126,
          0.20347224473060066,
          0.12215887009653446,
          0.9182369472995557,
          0.3099915067802579,
          0.3573508832602384,
          0.3897000121781254,
          0.3085125096410159,
          0.5078309751720436,
          0.20447922150625472,
          0.1672525488312933,
          0.4621708720009793,
          0.3857979771724659,
          0.38293438696669957,
          0.32858910910561895,
          0.12867275111404672,
          0.20687079134843314,
          0.2110875065964846,
          0.6513251657027487,
          0.4266749406591733,
          0.21785313180791038,
          0.16656025229803115,
          0.18912282567753017,
          0.3535432523272964,
          0.23201374271554576,
          0.1673154848797717,
          0.2419261703508905,
          0.25589797311309076,
          0.21266090780844407,
          0.3780568432096252,
          0.14824586219082272,
          0.2198356173349793,
          0.21731817539584414,
          0.23837028361186208,
          0.16259528124389322,
          0.21785313180791038,
          1.316842410337372,
          0.28258285766792357,
          0.1786125055816408,
          0.2910792242125049,
          0.2738032789051897,
          0.9902043187345826,
          0.21517834974757924,
          0.3132327132768944,
          0.47535597415719977,
          0.37764775889451574,
          0.5088694199719368,
          0.3597424531024168,
          0.00003146802423918971,
          1.8421066709379263,
          0.07121213885328631,
          0.08911744464538526,
          0.05755501633347798,
          0.0645409177145781,
          0.04348880949856018,
          0.0798029094705851,
          0.030240771293861313,
          0.03571620751148032,
          0.04323706530464666,
          0.040782559413989866,
          0.0541250016914063,
          0.0651388101751227,
          0.040153198929206074,
          0.03275821323299649,
          0.03666024823865601,
          0.02614992814276665,
          0.02618139616700584,
          0.02076889599786521,
          0.020831832046343587,
          0.02511148334287339,
          0.3086069137137335,
          74.61745109633023
         ]
        }
       ],
       "layout": {
        "coloraxis": {
         "colorbar": {
          "title": {
           "text": "percentage"
          }
         },
         "colorscale": [
          [
           0,
           "#000004"
          ],
          [
           0.1111111111111111,
           "#180f3d"
          ],
          [
           0.2222222222222222,
           "#440f76"
          ],
          [
           0.3333333333333333,
           "#721f81"
          ],
          [
           0.4444444444444444,
           "#9e2f7f"
          ],
          [
           0.5555555555555556,
           "#cd4071"
          ],
          [
           0.6666666666666666,
           "#f1605d"
          ],
          [
           0.7777777777777778,
           "#fd9668"
          ],
          [
           0.8888888888888888,
           "#feca8d"
          ],
          [
           1,
           "#fcfdbf"
          ]
         ]
        },
        "font": {
         "color": "white"
        },
        "legend": {
         "tracegroupgap": 0
        },
        "paper_bgcolor": "black",
        "plot_bgcolor": "black",
        "template": {
         "data": {
          "bar": [
           {
            "error_x": {
             "color": "#2a3f5f"
            },
            "error_y": {
             "color": "#2a3f5f"
            },
            "marker": {
             "line": {
              "color": "#E5ECF6",
              "width": 0.5
             },
             "pattern": {
              "fillmode": "overlay",
              "size": 10,
              "solidity": 0.2
             }
            },
            "type": "bar"
           }
          ],
          "barpolar": [
           {
            "marker": {
             "line": {
              "color": "#E5ECF6",
              "width": 0.5
             },
             "pattern": {
              "fillmode": "overlay",
              "size": 10,
              "solidity": 0.2
             }
            },
            "type": "barpolar"
           }
          ],
          "carpet": [
           {
            "aaxis": {
             "endlinecolor": "#2a3f5f",
             "gridcolor": "white",
             "linecolor": "white",
             "minorgridcolor": "white",
             "startlinecolor": "#2a3f5f"
            },
            "baxis": {
             "endlinecolor": "#2a3f5f",
             "gridcolor": "white",
             "linecolor": "white",
             "minorgridcolor": "white",
             "startlinecolor": "#2a3f5f"
            },
            "type": "carpet"
           }
          ],
          "choropleth": [
           {
            "colorbar": {
             "outlinewidth": 0,
             "ticks": ""
            },
            "type": "choropleth"
           }
          ],
          "contour": [
           {
            "colorbar": {
             "outlinewidth": 0,
             "ticks": ""
            },
            "colorscale": [
             [
              0,
              "#0d0887"
             ],
             [
              0.1111111111111111,
              "#46039f"
             ],
             [
              0.2222222222222222,
              "#7201a8"
             ],
             [
              0.3333333333333333,
              "#9c179e"
             ],
             [
              0.4444444444444444,
              "#bd3786"
             ],
             [
              0.5555555555555556,
              "#d8576b"
             ],
             [
              0.6666666666666666,
              "#ed7953"
             ],
             [
              0.7777777777777778,
              "#fb9f3a"
             ],
             [
              0.8888888888888888,
              "#fdca26"
             ],
             [
              1,
              "#f0f921"
             ]
            ],
            "type": "contour"
           }
          ],
          "contourcarpet": [
           {
            "colorbar": {
             "outlinewidth": 0,
             "ticks": ""
            },
            "type": "contourcarpet"
           }
          ],
          "heatmap": [
           {
            "colorbar": {
             "outlinewidth": 0,
             "ticks": ""
            },
            "colorscale": [
             [
              0,
              "#0d0887"
             ],
             [
              0.1111111111111111,
              "#46039f"
             ],
             [
              0.2222222222222222,
              "#7201a8"
             ],
             [
              0.3333333333333333,
              "#9c179e"
             ],
             [
              0.4444444444444444,
              "#bd3786"
             ],
             [
              0.5555555555555556,
              "#d8576b"
             ],
             [
              0.6666666666666666,
              "#ed7953"
             ],
             [
              0.7777777777777778,
              "#fb9f3a"
             ],
             [
              0.8888888888888888,
              "#fdca26"
             ],
             [
              1,
              "#f0f921"
             ]
            ],
            "type": "heatmap"
           }
          ],
          "heatmapgl": [
           {
            "colorbar": {
             "outlinewidth": 0,
             "ticks": ""
            },
            "colorscale": [
             [
              0,
              "#0d0887"
             ],
             [
              0.1111111111111111,
              "#46039f"
             ],
             [
              0.2222222222222222,
              "#7201a8"
             ],
             [
              0.3333333333333333,
              "#9c179e"
             ],
             [
              0.4444444444444444,
              "#bd3786"
             ],
             [
              0.5555555555555556,
              "#d8576b"
             ],
             [
              0.6666666666666666,
              "#ed7953"
             ],
             [
              0.7777777777777778,
              "#fb9f3a"
             ],
             [
              0.8888888888888888,
              "#fdca26"
             ],
             [
              1,
              "#f0f921"
             ]
            ],
            "type": "heatmapgl"
           }
          ],
          "histogram": [
           {
            "marker": {
             "pattern": {
              "fillmode": "overlay",
              "size": 10,
              "solidity": 0.2
             }
            },
            "type": "histogram"
           }
          ],
          "histogram2d": [
           {
            "colorbar": {
             "outlinewidth": 0,
             "ticks": ""
            },
            "colorscale": [
             [
              0,
              "#0d0887"
             ],
             [
              0.1111111111111111,
              "#46039f"
             ],
             [
              0.2222222222222222,
              "#7201a8"
             ],
             [
              0.3333333333333333,
              "#9c179e"
             ],
             [
              0.4444444444444444,
              "#bd3786"
             ],
             [
              0.5555555555555556,
              "#d8576b"
             ],
             [
              0.6666666666666666,
              "#ed7953"
             ],
             [
              0.7777777777777778,
              "#fb9f3a"
             ],
             [
              0.8888888888888888,
              "#fdca26"
             ],
             [
              1,
              "#f0f921"
             ]
            ],
            "type": "histogram2d"
           }
          ],
          "histogram2dcontour": [
           {
            "colorbar": {
             "outlinewidth": 0,
             "ticks": ""
            },
            "colorscale": [
             [
              0,
              "#0d0887"
             ],
             [
              0.1111111111111111,
              "#46039f"
             ],
             [
              0.2222222222222222,
              "#7201a8"
             ],
             [
              0.3333333333333333,
              "#9c179e"
             ],
             [
              0.4444444444444444,
              "#bd3786"
             ],
             [
              0.5555555555555556,
              "#d8576b"
             ],
             [
              0.6666666666666666,
              "#ed7953"
             ],
             [
              0.7777777777777778,
              "#fb9f3a"
             ],
             [
              0.8888888888888888,
              "#fdca26"
             ],
             [
              1,
              "#f0f921"
             ]
            ],
            "type": "histogram2dcontour"
           }
          ],
          "mesh3d": [
           {
            "colorbar": {
             "outlinewidth": 0,
             "ticks": ""
            },
            "type": "mesh3d"
           }
          ],
          "parcoords": [
           {
            "line": {
             "colorbar": {
              "outlinewidth": 0,
              "ticks": ""
             }
            },
            "type": "parcoords"
           }
          ],
          "pie": [
           {
            "automargin": true,
            "type": "pie"
           }
          ],
          "scatter": [
           {
            "fillpattern": {
             "fillmode": "overlay",
             "size": 10,
             "solidity": 0.2
            },
            "type": "scatter"
           }
          ],
          "scatter3d": [
           {
            "line": {
             "colorbar": {
              "outlinewidth": 0,
              "ticks": ""
             }
            },
            "marker": {
             "colorbar": {
              "outlinewidth": 0,
              "ticks": ""
             }
            },
            "type": "scatter3d"
           }
          ],
          "scattercarpet": [
           {
            "marker": {
             "colorbar": {
              "outlinewidth": 0,
              "ticks": ""
             }
            },
            "type": "scattercarpet"
           }
          ],
          "scattergeo": [
           {
            "marker": {
             "colorbar": {
              "outlinewidth": 0,
              "ticks": ""
             }
            },
            "type": "scattergeo"
           }
          ],
          "scattergl": [
           {
            "marker": {
             "colorbar": {
              "outlinewidth": 0,
              "ticks": ""
             }
            },
            "type": "scattergl"
           }
          ],
          "scattermapbox": [
           {
            "marker": {
             "colorbar": {
              "outlinewidth": 0,
              "ticks": ""
             }
            },
            "type": "scattermapbox"
           }
          ],
          "scatterpolar": [
           {
            "marker": {
             "colorbar": {
              "outlinewidth": 0,
              "ticks": ""
             }
            },
            "type": "scatterpolar"
           }
          ],
          "scatterpolargl": [
           {
            "marker": {
             "colorbar": {
              "outlinewidth": 0,
              "ticks": ""
             }
            },
            "type": "scatterpolargl"
           }
          ],
          "scatterternary": [
           {
            "marker": {
             "colorbar": {
              "outlinewidth": 0,
              "ticks": ""
             }
            },
            "type": "scatterternary"
           }
          ],
          "surface": [
           {
            "colorbar": {
             "outlinewidth": 0,
             "ticks": ""
            },
            "colorscale": [
             [
              0,
              "#0d0887"
             ],
             [
              0.1111111111111111,
              "#46039f"
             ],
             [
              0.2222222222222222,
              "#7201a8"
             ],
             [
              0.3333333333333333,
              "#9c179e"
             ],
             [
              0.4444444444444444,
              "#bd3786"
             ],
             [
              0.5555555555555556,
              "#d8576b"
             ],
             [
              0.6666666666666666,
              "#ed7953"
             ],
             [
              0.7777777777777778,
              "#fb9f3a"
             ],
             [
              0.8888888888888888,
              "#fdca26"
             ],
             [
              1,
              "#f0f921"
             ]
            ],
            "type": "surface"
           }
          ],
          "table": [
           {
            "cells": {
             "fill": {
              "color": "#EBF0F8"
             },
             "line": {
              "color": "white"
             }
            },
            "header": {
             "fill": {
              "color": "#C8D4E3"
             },
             "line": {
              "color": "white"
             }
            },
            "type": "table"
           }
          ]
         },
         "layout": {
          "annotationdefaults": {
           "arrowcolor": "#2a3f5f",
           "arrowhead": 0,
           "arrowwidth": 1
          },
          "autotypenumbers": "strict",
          "coloraxis": {
           "colorbar": {
            "outlinewidth": 0,
            "ticks": ""
           }
          },
          "colorscale": {
           "diverging": [
            [
             0,
             "#8e0152"
            ],
            [
             0.1,
             "#c51b7d"
            ],
            [
             0.2,
             "#de77ae"
            ],
            [
             0.3,
             "#f1b6da"
            ],
            [
             0.4,
             "#fde0ef"
            ],
            [
             0.5,
             "#f7f7f7"
            ],
            [
             0.6,
             "#e6f5d0"
            ],
            [
             0.7,
             "#b8e186"
            ],
            [
             0.8,
             "#7fbc41"
            ],
            [
             0.9,
             "#4d9221"
            ],
            [
             1,
             "#276419"
            ]
           ],
           "sequential": [
            [
             0,
             "#0d0887"
            ],
            [
             0.1111111111111111,
             "#46039f"
            ],
            [
             0.2222222222222222,
             "#7201a8"
            ],
            [
             0.3333333333333333,
             "#9c179e"
            ],
            [
             0.4444444444444444,
             "#bd3786"
            ],
            [
             0.5555555555555556,
             "#d8576b"
            ],
            [
             0.6666666666666666,
             "#ed7953"
            ],
            [
             0.7777777777777778,
             "#fb9f3a"
            ],
            [
             0.8888888888888888,
             "#fdca26"
            ],
            [
             1,
             "#f0f921"
            ]
           ],
           "sequentialminus": [
            [
             0,
             "#0d0887"
            ],
            [
             0.1111111111111111,
             "#46039f"
            ],
            [
             0.2222222222222222,
             "#7201a8"
            ],
            [
             0.3333333333333333,
             "#9c179e"
            ],
            [
             0.4444444444444444,
             "#bd3786"
            ],
            [
             0.5555555555555556,
             "#d8576b"
            ],
            [
             0.6666666666666666,
             "#ed7953"
            ],
            [
             0.7777777777777778,
             "#fb9f3a"
            ],
            [
             0.8888888888888888,
             "#fdca26"
            ],
            [
             1,
             "#f0f921"
            ]
           ]
          },
          "colorway": [
           "#636efa",
           "#EF553B",
           "#00cc96",
           "#ab63fa",
           "#FFA15A",
           "#19d3f3",
           "#FF6692",
           "#B6E880",
           "#FF97FF",
           "#FECB52"
          ],
          "font": {
           "color": "#2a3f5f"
          },
          "geo": {
           "bgcolor": "white",
           "lakecolor": "white",
           "landcolor": "#E5ECF6",
           "showlakes": true,
           "showland": true,
           "subunitcolor": "white"
          },
          "hoverlabel": {
           "align": "left"
          },
          "hovermode": "closest",
          "mapbox": {
           "style": "light"
          },
          "paper_bgcolor": "white",
          "plot_bgcolor": "#E5ECF6",
          "polar": {
           "angularaxis": {
            "gridcolor": "white",
            "linecolor": "white",
            "ticks": ""
           },
           "bgcolor": "#E5ECF6",
           "radialaxis": {
            "gridcolor": "white",
            "linecolor": "white",
            "ticks": ""
           }
          },
          "scene": {
           "xaxis": {
            "backgroundcolor": "#E5ECF6",
            "gridcolor": "white",
            "gridwidth": 2,
            "linecolor": "white",
            "showbackground": true,
            "ticks": "",
            "zerolinecolor": "white"
           },
           "yaxis": {
            "backgroundcolor": "#E5ECF6",
            "gridcolor": "white",
            "gridwidth": 2,
            "linecolor": "white",
            "showbackground": true,
            "ticks": "",
            "zerolinecolor": "white"
           },
           "zaxis": {
            "backgroundcolor": "#E5ECF6",
            "gridcolor": "white",
            "gridwidth": 2,
            "linecolor": "white",
            "showbackground": true,
            "ticks": "",
            "zerolinecolor": "white"
           }
          },
          "shapedefaults": {
           "line": {
            "color": "#2a3f5f"
           }
          },
          "ternary": {
           "aaxis": {
            "gridcolor": "white",
            "linecolor": "white",
            "ticks": ""
           },
           "baxis": {
            "gridcolor": "white",
            "linecolor": "white",
            "ticks": ""
           },
           "bgcolor": "#E5ECF6",
           "caxis": {
            "gridcolor": "white",
            "linecolor": "white",
            "ticks": ""
           }
          },
          "title": {
           "x": 0.05
          },
          "xaxis": {
           "automargin": true,
           "gridcolor": "white",
           "linecolor": "white",
           "ticks": "",
           "title": {
            "standoff": 15
           },
           "zerolinecolor": "white",
           "zerolinewidth": 2
          },
          "yaxis": {
           "automargin": true,
           "gridcolor": "white",
           "linecolor": "white",
           "ticks": "",
           "title": {
            "standoff": 15
           },
           "zerolinecolor": "white",
           "zerolinewidth": 2
          }
         }
        },
        "title": {
         "text": "ecoscore grad treemap"
        }
       }
      }
     },
     "metadata": {},
     "output_type": "display_data"
    }
   ],
   "source": [
    "df = pd.DataFrame(data_graph_ecoscore_grad)\n",
    "fig = px.treemap(df, path=['ecoscore_grad'], values='percentage',\n",
    "                 color='percentage', color_continuous_scale='Magma',\n",
    "                 title='ecoscore grad treemap')\n",
    "fig.update_layout(\n",
    "    paper_bgcolor='black',  \n",
    "    plot_bgcolor='black',   \n",
    "    font_color='white'      \n",
    ")\n",
    "fig.show()"
   ]
  },
  {
   "cell_type": "markdown",
   "metadata": {},
   "source": [
    "# ECOSCORE GROUPS:"
   ]
  },
  {
   "cell_type": "code",
   "execution_count": 45,
   "metadata": {},
   "outputs": [
    {
     "name": "stdout",
     "output_type": "stream",
     "text": [
      "z: 74.62%\n",
      "c: 5.59%\n",
      "b: 9.01%\n",
      "e: 3.51%\n",
      "d: 6.06%\n",
      "a: 1.21%\n"
     ]
    }
   ],
   "source": [
    "# retourne une liste des lettres écoscore présentes dans le fichier\n",
    "def extract_groups_ecoscore_from_jsonl(file_path):\n",
    "    ecoscore_groups_list = []\n",
    "    with open(file_path, 'r', encoding='utf-8') as file:\n",
    "        for line in file:\n",
    "            try:\n",
    "                record = json.loads(line)\n",
    "                ecoscore_groups = record.get('ecoscore_groups')\n",
    "                if ecoscore_groups is not None:\n",
    "                    ecoscore_groups_list.append(ecoscore_groups)\n",
    "            except json.JSONDecodeError:\n",
    "                print(f\"WARNING line: {line} in {file_path}\")\n",
    "    return ecoscore_groups_list\n",
    "ecoscore_groups_list = extract_groups_ecoscore_from_jsonl(jsonl_02)\n",
    "\n",
    "ecoscore_groups_counts = Counter(ecoscore_groups_list)\n",
    "total_ecoscore_groups = sum(ecoscore_groups_counts.values())\n",
    "\n",
    "data_graph_ecoscore_groups = []\n",
    "for ecoscore_group, count in ecoscore_groups_counts.items():\n",
    "    percentage = (count / total_ecoscore_groups) * 100\n",
    "    print(f\"{ecoscore_group}: {percentage:.2f}%\")\n",
    "    data_graph_ecoscore_groups.append({'ecoscore_group': ecoscore_group, 'percentage': percentage})\n"
   ]
  },
  {
   "cell_type": "code",
   "execution_count": 46,
   "metadata": {},
   "outputs": [
    {
     "data": {
      "application/vnd.plotly.v1+json": {
       "config": {
        "plotlyServerURL": "https://plot.ly"
       },
       "data": [
        {
         "branchvalues": "total",
         "customdata": [
          [
           1.2121482936935877
          ],
          [
           9.007596066371098
          ],
          [
           5.592749011982709
          ],
          [
           6.062314869679898
          ],
          [
           3.5077406619424774
          ],
          [
           74.61745109633023
          ]
         ],
         "domain": {
          "x": [
           0,
           1
          ],
          "y": [
           0,
           1
          ]
         },
         "hovertemplate": "labels=%{label}<br>percentage_sum=%{value}<br>parent=%{parent}<br>id=%{id}<br>percentage=%{color}<extra></extra>",
         "ids": [
          "a",
          "b",
          "c",
          "d",
          "e",
          "z"
         ],
         "labels": [
          "a",
          "b",
          "c",
          "d",
          "e",
          "z"
         ],
         "marker": {
          "coloraxis": "coloraxis",
          "colors": [
           1.2121482936935877,
           9.007596066371098,
           5.592749011982709,
           6.062314869679898,
           3.5077406619424774,
           74.61745109633023
          ]
         },
         "name": "",
         "parents": [
          "",
          "",
          "",
          "",
          "",
          ""
         ],
         "type": "treemap",
         "values": [
          1.2121482936935877,
          9.007596066371098,
          5.592749011982709,
          6.0623148696798985,
          3.5077406619424774,
          74.61745109633023
         ]
        }
       ],
       "layout": {
        "coloraxis": {
         "colorbar": {
          "title": {
           "text": "percentage"
          }
         },
         "colorscale": [
          [
           0,
           "#000004"
          ],
          [
           0.1111111111111111,
           "#180f3d"
          ],
          [
           0.2222222222222222,
           "#440f76"
          ],
          [
           0.3333333333333333,
           "#721f81"
          ],
          [
           0.4444444444444444,
           "#9e2f7f"
          ],
          [
           0.5555555555555556,
           "#cd4071"
          ],
          [
           0.6666666666666666,
           "#f1605d"
          ],
          [
           0.7777777777777778,
           "#fd9668"
          ],
          [
           0.8888888888888888,
           "#feca8d"
          ],
          [
           1,
           "#fcfdbf"
          ]
         ]
        },
        "font": {
         "color": "white"
        },
        "legend": {
         "tracegroupgap": 0
        },
        "paper_bgcolor": "black",
        "plot_bgcolor": "black",
        "template": {
         "data": {
          "bar": [
           {
            "error_x": {
             "color": "#2a3f5f"
            },
            "error_y": {
             "color": "#2a3f5f"
            },
            "marker": {
             "line": {
              "color": "#E5ECF6",
              "width": 0.5
             },
             "pattern": {
              "fillmode": "overlay",
              "size": 10,
              "solidity": 0.2
             }
            },
            "type": "bar"
           }
          ],
          "barpolar": [
           {
            "marker": {
             "line": {
              "color": "#E5ECF6",
              "width": 0.5
             },
             "pattern": {
              "fillmode": "overlay",
              "size": 10,
              "solidity": 0.2
             }
            },
            "type": "barpolar"
           }
          ],
          "carpet": [
           {
            "aaxis": {
             "endlinecolor": "#2a3f5f",
             "gridcolor": "white",
             "linecolor": "white",
             "minorgridcolor": "white",
             "startlinecolor": "#2a3f5f"
            },
            "baxis": {
             "endlinecolor": "#2a3f5f",
             "gridcolor": "white",
             "linecolor": "white",
             "minorgridcolor": "white",
             "startlinecolor": "#2a3f5f"
            },
            "type": "carpet"
           }
          ],
          "choropleth": [
           {
            "colorbar": {
             "outlinewidth": 0,
             "ticks": ""
            },
            "type": "choropleth"
           }
          ],
          "contour": [
           {
            "colorbar": {
             "outlinewidth": 0,
             "ticks": ""
            },
            "colorscale": [
             [
              0,
              "#0d0887"
             ],
             [
              0.1111111111111111,
              "#46039f"
             ],
             [
              0.2222222222222222,
              "#7201a8"
             ],
             [
              0.3333333333333333,
              "#9c179e"
             ],
             [
              0.4444444444444444,
              "#bd3786"
             ],
             [
              0.5555555555555556,
              "#d8576b"
             ],
             [
              0.6666666666666666,
              "#ed7953"
             ],
             [
              0.7777777777777778,
              "#fb9f3a"
             ],
             [
              0.8888888888888888,
              "#fdca26"
             ],
             [
              1,
              "#f0f921"
             ]
            ],
            "type": "contour"
           }
          ],
          "contourcarpet": [
           {
            "colorbar": {
             "outlinewidth": 0,
             "ticks": ""
            },
            "type": "contourcarpet"
           }
          ],
          "heatmap": [
           {
            "colorbar": {
             "outlinewidth": 0,
             "ticks": ""
            },
            "colorscale": [
             [
              0,
              "#0d0887"
             ],
             [
              0.1111111111111111,
              "#46039f"
             ],
             [
              0.2222222222222222,
              "#7201a8"
             ],
             [
              0.3333333333333333,
              "#9c179e"
             ],
             [
              0.4444444444444444,
              "#bd3786"
             ],
             [
              0.5555555555555556,
              "#d8576b"
             ],
             [
              0.6666666666666666,
              "#ed7953"
             ],
             [
              0.7777777777777778,
              "#fb9f3a"
             ],
             [
              0.8888888888888888,
              "#fdca26"
             ],
             [
              1,
              "#f0f921"
             ]
            ],
            "type": "heatmap"
           }
          ],
          "heatmapgl": [
           {
            "colorbar": {
             "outlinewidth": 0,
             "ticks": ""
            },
            "colorscale": [
             [
              0,
              "#0d0887"
             ],
             [
              0.1111111111111111,
              "#46039f"
             ],
             [
              0.2222222222222222,
              "#7201a8"
             ],
             [
              0.3333333333333333,
              "#9c179e"
             ],
             [
              0.4444444444444444,
              "#bd3786"
             ],
             [
              0.5555555555555556,
              "#d8576b"
             ],
             [
              0.6666666666666666,
              "#ed7953"
             ],
             [
              0.7777777777777778,
              "#fb9f3a"
             ],
             [
              0.8888888888888888,
              "#fdca26"
             ],
             [
              1,
              "#f0f921"
             ]
            ],
            "type": "heatmapgl"
           }
          ],
          "histogram": [
           {
            "marker": {
             "pattern": {
              "fillmode": "overlay",
              "size": 10,
              "solidity": 0.2
             }
            },
            "type": "histogram"
           }
          ],
          "histogram2d": [
           {
            "colorbar": {
             "outlinewidth": 0,
             "ticks": ""
            },
            "colorscale": [
             [
              0,
              "#0d0887"
             ],
             [
              0.1111111111111111,
              "#46039f"
             ],
             [
              0.2222222222222222,
              "#7201a8"
             ],
             [
              0.3333333333333333,
              "#9c179e"
             ],
             [
              0.4444444444444444,
              "#bd3786"
             ],
             [
              0.5555555555555556,
              "#d8576b"
             ],
             [
              0.6666666666666666,
              "#ed7953"
             ],
             [
              0.7777777777777778,
              "#fb9f3a"
             ],
             [
              0.8888888888888888,
              "#fdca26"
             ],
             [
              1,
              "#f0f921"
             ]
            ],
            "type": "histogram2d"
           }
          ],
          "histogram2dcontour": [
           {
            "colorbar": {
             "outlinewidth": 0,
             "ticks": ""
            },
            "colorscale": [
             [
              0,
              "#0d0887"
             ],
             [
              0.1111111111111111,
              "#46039f"
             ],
             [
              0.2222222222222222,
              "#7201a8"
             ],
             [
              0.3333333333333333,
              "#9c179e"
             ],
             [
              0.4444444444444444,
              "#bd3786"
             ],
             [
              0.5555555555555556,
              "#d8576b"
             ],
             [
              0.6666666666666666,
              "#ed7953"
             ],
             [
              0.7777777777777778,
              "#fb9f3a"
             ],
             [
              0.8888888888888888,
              "#fdca26"
             ],
             [
              1,
              "#f0f921"
             ]
            ],
            "type": "histogram2dcontour"
           }
          ],
          "mesh3d": [
           {
            "colorbar": {
             "outlinewidth": 0,
             "ticks": ""
            },
            "type": "mesh3d"
           }
          ],
          "parcoords": [
           {
            "line": {
             "colorbar": {
              "outlinewidth": 0,
              "ticks": ""
             }
            },
            "type": "parcoords"
           }
          ],
          "pie": [
           {
            "automargin": true,
            "type": "pie"
           }
          ],
          "scatter": [
           {
            "fillpattern": {
             "fillmode": "overlay",
             "size": 10,
             "solidity": 0.2
            },
            "type": "scatter"
           }
          ],
          "scatter3d": [
           {
            "line": {
             "colorbar": {
              "outlinewidth": 0,
              "ticks": ""
             }
            },
            "marker": {
             "colorbar": {
              "outlinewidth": 0,
              "ticks": ""
             }
            },
            "type": "scatter3d"
           }
          ],
          "scattercarpet": [
           {
            "marker": {
             "colorbar": {
              "outlinewidth": 0,
              "ticks": ""
             }
            },
            "type": "scattercarpet"
           }
          ],
          "scattergeo": [
           {
            "marker": {
             "colorbar": {
              "outlinewidth": 0,
              "ticks": ""
             }
            },
            "type": "scattergeo"
           }
          ],
          "scattergl": [
           {
            "marker": {
             "colorbar": {
              "outlinewidth": 0,
              "ticks": ""
             }
            },
            "type": "scattergl"
           }
          ],
          "scattermapbox": [
           {
            "marker": {
             "colorbar": {
              "outlinewidth": 0,
              "ticks": ""
             }
            },
            "type": "scattermapbox"
           }
          ],
          "scatterpolar": [
           {
            "marker": {
             "colorbar": {
              "outlinewidth": 0,
              "ticks": ""
             }
            },
            "type": "scatterpolar"
           }
          ],
          "scatterpolargl": [
           {
            "marker": {
             "colorbar": {
              "outlinewidth": 0,
              "ticks": ""
             }
            },
            "type": "scatterpolargl"
           }
          ],
          "scatterternary": [
           {
            "marker": {
             "colorbar": {
              "outlinewidth": 0,
              "ticks": ""
             }
            },
            "type": "scatterternary"
           }
          ],
          "surface": [
           {
            "colorbar": {
             "outlinewidth": 0,
             "ticks": ""
            },
            "colorscale": [
             [
              0,
              "#0d0887"
             ],
             [
              0.1111111111111111,
              "#46039f"
             ],
             [
              0.2222222222222222,
              "#7201a8"
             ],
             [
              0.3333333333333333,
              "#9c179e"
             ],
             [
              0.4444444444444444,
              "#bd3786"
             ],
             [
              0.5555555555555556,
              "#d8576b"
             ],
             [
              0.6666666666666666,
              "#ed7953"
             ],
             [
              0.7777777777777778,
              "#fb9f3a"
             ],
             [
              0.8888888888888888,
              "#fdca26"
             ],
             [
              1,
              "#f0f921"
             ]
            ],
            "type": "surface"
           }
          ],
          "table": [
           {
            "cells": {
             "fill": {
              "color": "#EBF0F8"
             },
             "line": {
              "color": "white"
             }
            },
            "header": {
             "fill": {
              "color": "#C8D4E3"
             },
             "line": {
              "color": "white"
             }
            },
            "type": "table"
           }
          ]
         },
         "layout": {
          "annotationdefaults": {
           "arrowcolor": "#2a3f5f",
           "arrowhead": 0,
           "arrowwidth": 1
          },
          "autotypenumbers": "strict",
          "coloraxis": {
           "colorbar": {
            "outlinewidth": 0,
            "ticks": ""
           }
          },
          "colorscale": {
           "diverging": [
            [
             0,
             "#8e0152"
            ],
            [
             0.1,
             "#c51b7d"
            ],
            [
             0.2,
             "#de77ae"
            ],
            [
             0.3,
             "#f1b6da"
            ],
            [
             0.4,
             "#fde0ef"
            ],
            [
             0.5,
             "#f7f7f7"
            ],
            [
             0.6,
             "#e6f5d0"
            ],
            [
             0.7,
             "#b8e186"
            ],
            [
             0.8,
             "#7fbc41"
            ],
            [
             0.9,
             "#4d9221"
            ],
            [
             1,
             "#276419"
            ]
           ],
           "sequential": [
            [
             0,
             "#0d0887"
            ],
            [
             0.1111111111111111,
             "#46039f"
            ],
            [
             0.2222222222222222,
             "#7201a8"
            ],
            [
             0.3333333333333333,
             "#9c179e"
            ],
            [
             0.4444444444444444,
             "#bd3786"
            ],
            [
             0.5555555555555556,
             "#d8576b"
            ],
            [
             0.6666666666666666,
             "#ed7953"
            ],
            [
             0.7777777777777778,
             "#fb9f3a"
            ],
            [
             0.8888888888888888,
             "#fdca26"
            ],
            [
             1,
             "#f0f921"
            ]
           ],
           "sequentialminus": [
            [
             0,
             "#0d0887"
            ],
            [
             0.1111111111111111,
             "#46039f"
            ],
            [
             0.2222222222222222,
             "#7201a8"
            ],
            [
             0.3333333333333333,
             "#9c179e"
            ],
            [
             0.4444444444444444,
             "#bd3786"
            ],
            [
             0.5555555555555556,
             "#d8576b"
            ],
            [
             0.6666666666666666,
             "#ed7953"
            ],
            [
             0.7777777777777778,
             "#fb9f3a"
            ],
            [
             0.8888888888888888,
             "#fdca26"
            ],
            [
             1,
             "#f0f921"
            ]
           ]
          },
          "colorway": [
           "#636efa",
           "#EF553B",
           "#00cc96",
           "#ab63fa",
           "#FFA15A",
           "#19d3f3",
           "#FF6692",
           "#B6E880",
           "#FF97FF",
           "#FECB52"
          ],
          "font": {
           "color": "#2a3f5f"
          },
          "geo": {
           "bgcolor": "white",
           "lakecolor": "white",
           "landcolor": "#E5ECF6",
           "showlakes": true,
           "showland": true,
           "subunitcolor": "white"
          },
          "hoverlabel": {
           "align": "left"
          },
          "hovermode": "closest",
          "mapbox": {
           "style": "light"
          },
          "paper_bgcolor": "white",
          "plot_bgcolor": "#E5ECF6",
          "polar": {
           "angularaxis": {
            "gridcolor": "white",
            "linecolor": "white",
            "ticks": ""
           },
           "bgcolor": "#E5ECF6",
           "radialaxis": {
            "gridcolor": "white",
            "linecolor": "white",
            "ticks": ""
           }
          },
          "scene": {
           "xaxis": {
            "backgroundcolor": "#E5ECF6",
            "gridcolor": "white",
            "gridwidth": 2,
            "linecolor": "white",
            "showbackground": true,
            "ticks": "",
            "zerolinecolor": "white"
           },
           "yaxis": {
            "backgroundcolor": "#E5ECF6",
            "gridcolor": "white",
            "gridwidth": 2,
            "linecolor": "white",
            "showbackground": true,
            "ticks": "",
            "zerolinecolor": "white"
           },
           "zaxis": {
            "backgroundcolor": "#E5ECF6",
            "gridcolor": "white",
            "gridwidth": 2,
            "linecolor": "white",
            "showbackground": true,
            "ticks": "",
            "zerolinecolor": "white"
           }
          },
          "shapedefaults": {
           "line": {
            "color": "#2a3f5f"
           }
          },
          "ternary": {
           "aaxis": {
            "gridcolor": "white",
            "linecolor": "white",
            "ticks": ""
           },
           "baxis": {
            "gridcolor": "white",
            "linecolor": "white",
            "ticks": ""
           },
           "bgcolor": "#E5ECF6",
           "caxis": {
            "gridcolor": "white",
            "linecolor": "white",
            "ticks": ""
           }
          },
          "title": {
           "x": 0.05
          },
          "xaxis": {
           "automargin": true,
           "gridcolor": "white",
           "linecolor": "white",
           "ticks": "",
           "title": {
            "standoff": 15
           },
           "zerolinecolor": "white",
           "zerolinewidth": 2
          },
          "yaxis": {
           "automargin": true,
           "gridcolor": "white",
           "linecolor": "white",
           "ticks": "",
           "title": {
            "standoff": 15
           },
           "zerolinecolor": "white",
           "zerolinewidth": 2
          }
         }
        },
        "title": {
         "text": "ecoscore groups treemap"
        }
       }
      }
     },
     "metadata": {},
     "output_type": "display_data"
    }
   ],
   "source": [
    "df = pd.DataFrame(data_graph_ecoscore_groups)\n",
    "fig = px.treemap(df, path=['ecoscore_group'], values='percentage',\n",
    "                 color='percentage', color_continuous_scale='Magma',\n",
    "                 title='ecoscore groups treemap')\n",
    "fig.update_layout(\n",
    "    paper_bgcolor='black',  \n",
    "    plot_bgcolor='black',   \n",
    "    font_color='white'      \n",
    ")\n",
    "fig.show()"
   ]
  },
  {
   "cell_type": "markdown",
   "metadata": {},
   "source": [
    "# LABELS:"
   ]
  },
  {
   "cell_type": "code",
   "execution_count": 47,
   "metadata": {},
   "outputs": [
    {
     "name": "stdout",
     "output_type": "stream",
     "text": [
      "0: 70.95%\n",
      "6: 0.88%\n",
      "1: 11.32%\n",
      "5: 1.11%\n",
      "2: 8.13%\n",
      "3: 4.34%\n",
      "4: 2.05%\n",
      "8: 0.29%\n",
      "7: 0.47%\n",
      "9: 0.46%\n"
     ]
    }
   ],
   "source": [
    "# retourne une liste des labels présents dans le fichier (sans doublons dans l'affichage)\n",
    "def extract_labels_from_jsonl(file_path):\n",
    "    labels_list = []\n",
    "    with open(file_path, 'r', encoding='utf-8') as file:\n",
    "        for line in file:\n",
    "            try:\n",
    "                record = json.loads(line)\n",
    "                labels = record.get('labels_note')\n",
    "                if labels is not None:\n",
    "                    labels_list.append(labels)\n",
    "            except json.JSONDecodeError:\n",
    "                print(f\"WARNING line: {line} in {file_path}\")\n",
    "    return labels_list\n",
    "\n",
    "labels_list = extract_labels_from_jsonl(jsonl_02)\n",
    "label_counts = Counter(labels_list)\n",
    "total_labels = sum(label_counts.values())\n",
    "\n",
    "data_graph_labels = []\n",
    "for label, count in label_counts.items():\n",
    "    percentage = (count / total_labels) * 100\n",
    "    print(f\"{label}: {percentage:.2f}%\")\n",
    "    data_graph_labels.append({'labels': label, 'percentage': percentage})"
   ]
  },
  {
   "cell_type": "code",
   "execution_count": 48,
   "metadata": {},
   "outputs": [
    {
     "data": {
      "application/vnd.plotly.v1+json": {
       "config": {
        "plotlyServerURL": "https://plot.ly"
       },
       "data": [
        {
         "branchvalues": "total",
         "customdata": [
          [
           70.9526849934342
          ],
          [
           11.319331531054692
          ],
          [
           8.129354977879553
          ],
          [
           4.336293740160342
          ],
          [
           2.050550863498319
          ],
          [
           1.1094995986253509
          ],
          [
           0.8790907251460037
          ],
          [
           0.4683071367276213
          ],
          [
           0.2911421602609832
          ],
          [
           0.4637442732129388
          ]
         ],
         "domain": {
          "x": [
           0,
           1
          ],
          "y": [
           0,
           1
          ]
         },
         "hovertemplate": "labels=%{label}<br>percentage_sum=%{value}<br>parent=%{parent}<br>id=%{id}<br>percentage=%{color}<extra></extra>",
         "ids": [
          "0",
          "1",
          "2",
          "3",
          "4",
          "5",
          "6",
          "7",
          "8",
          "9"
         ],
         "labels": [
          "0",
          "1",
          "2",
          "3",
          "4",
          "5",
          "6",
          "7",
          "8",
          "9"
         ],
         "marker": {
          "coloraxis": "coloraxis",
          "colors": [
           70.9526849934342,
           11.319331531054692,
           8.129354977879553,
           4.336293740160342,
           2.050550863498319,
           1.1094995986253509,
           0.8790907251460037,
           0.4683071367276213,
           0.2911421602609832,
           0.4637442732129388
          ]
         },
         "name": "",
         "parents": [
          "",
          "",
          "",
          "",
          "",
          "",
          "",
          "",
          "",
          ""
         ],
         "type": "treemap",
         "values": [
          70.9526849934342,
          11.319331531054692,
          8.129354977879553,
          4.336293740160342,
          2.050550863498319,
          1.1094995986253509,
          0.8790907251460037,
          0.46830713672762125,
          0.2911421602609832,
          0.46374427321293876
         ]
        }
       ],
       "layout": {
        "coloraxis": {
         "colorbar": {
          "title": {
           "text": "percentage"
          }
         },
         "colorscale": [
          [
           0,
           "#000004"
          ],
          [
           0.1111111111111111,
           "#180f3d"
          ],
          [
           0.2222222222222222,
           "#440f76"
          ],
          [
           0.3333333333333333,
           "#721f81"
          ],
          [
           0.4444444444444444,
           "#9e2f7f"
          ],
          [
           0.5555555555555556,
           "#cd4071"
          ],
          [
           0.6666666666666666,
           "#f1605d"
          ],
          [
           0.7777777777777778,
           "#fd9668"
          ],
          [
           0.8888888888888888,
           "#feca8d"
          ],
          [
           1,
           "#fcfdbf"
          ]
         ]
        },
        "font": {
         "color": "white"
        },
        "legend": {
         "tracegroupgap": 0
        },
        "paper_bgcolor": "black",
        "plot_bgcolor": "black",
        "template": {
         "data": {
          "bar": [
           {
            "error_x": {
             "color": "#2a3f5f"
            },
            "error_y": {
             "color": "#2a3f5f"
            },
            "marker": {
             "line": {
              "color": "#E5ECF6",
              "width": 0.5
             },
             "pattern": {
              "fillmode": "overlay",
              "size": 10,
              "solidity": 0.2
             }
            },
            "type": "bar"
           }
          ],
          "barpolar": [
           {
            "marker": {
             "line": {
              "color": "#E5ECF6",
              "width": 0.5
             },
             "pattern": {
              "fillmode": "overlay",
              "size": 10,
              "solidity": 0.2
             }
            },
            "type": "barpolar"
           }
          ],
          "carpet": [
           {
            "aaxis": {
             "endlinecolor": "#2a3f5f",
             "gridcolor": "white",
             "linecolor": "white",
             "minorgridcolor": "white",
             "startlinecolor": "#2a3f5f"
            },
            "baxis": {
             "endlinecolor": "#2a3f5f",
             "gridcolor": "white",
             "linecolor": "white",
             "minorgridcolor": "white",
             "startlinecolor": "#2a3f5f"
            },
            "type": "carpet"
           }
          ],
          "choropleth": [
           {
            "colorbar": {
             "outlinewidth": 0,
             "ticks": ""
            },
            "type": "choropleth"
           }
          ],
          "contour": [
           {
            "colorbar": {
             "outlinewidth": 0,
             "ticks": ""
            },
            "colorscale": [
             [
              0,
              "#0d0887"
             ],
             [
              0.1111111111111111,
              "#46039f"
             ],
             [
              0.2222222222222222,
              "#7201a8"
             ],
             [
              0.3333333333333333,
              "#9c179e"
             ],
             [
              0.4444444444444444,
              "#bd3786"
             ],
             [
              0.5555555555555556,
              "#d8576b"
             ],
             [
              0.6666666666666666,
              "#ed7953"
             ],
             [
              0.7777777777777778,
              "#fb9f3a"
             ],
             [
              0.8888888888888888,
              "#fdca26"
             ],
             [
              1,
              "#f0f921"
             ]
            ],
            "type": "contour"
           }
          ],
          "contourcarpet": [
           {
            "colorbar": {
             "outlinewidth": 0,
             "ticks": ""
            },
            "type": "contourcarpet"
           }
          ],
          "heatmap": [
           {
            "colorbar": {
             "outlinewidth": 0,
             "ticks": ""
            },
            "colorscale": [
             [
              0,
              "#0d0887"
             ],
             [
              0.1111111111111111,
              "#46039f"
             ],
             [
              0.2222222222222222,
              "#7201a8"
             ],
             [
              0.3333333333333333,
              "#9c179e"
             ],
             [
              0.4444444444444444,
              "#bd3786"
             ],
             [
              0.5555555555555556,
              "#d8576b"
             ],
             [
              0.6666666666666666,
              "#ed7953"
             ],
             [
              0.7777777777777778,
              "#fb9f3a"
             ],
             [
              0.8888888888888888,
              "#fdca26"
             ],
             [
              1,
              "#f0f921"
             ]
            ],
            "type": "heatmap"
           }
          ],
          "heatmapgl": [
           {
            "colorbar": {
             "outlinewidth": 0,
             "ticks": ""
            },
            "colorscale": [
             [
              0,
              "#0d0887"
             ],
             [
              0.1111111111111111,
              "#46039f"
             ],
             [
              0.2222222222222222,
              "#7201a8"
             ],
             [
              0.3333333333333333,
              "#9c179e"
             ],
             [
              0.4444444444444444,
              "#bd3786"
             ],
             [
              0.5555555555555556,
              "#d8576b"
             ],
             [
              0.6666666666666666,
              "#ed7953"
             ],
             [
              0.7777777777777778,
              "#fb9f3a"
             ],
             [
              0.8888888888888888,
              "#fdca26"
             ],
             [
              1,
              "#f0f921"
             ]
            ],
            "type": "heatmapgl"
           }
          ],
          "histogram": [
           {
            "marker": {
             "pattern": {
              "fillmode": "overlay",
              "size": 10,
              "solidity": 0.2
             }
            },
            "type": "histogram"
           }
          ],
          "histogram2d": [
           {
            "colorbar": {
             "outlinewidth": 0,
             "ticks": ""
            },
            "colorscale": [
             [
              0,
              "#0d0887"
             ],
             [
              0.1111111111111111,
              "#46039f"
             ],
             [
              0.2222222222222222,
              "#7201a8"
             ],
             [
              0.3333333333333333,
              "#9c179e"
             ],
             [
              0.4444444444444444,
              "#bd3786"
             ],
             [
              0.5555555555555556,
              "#d8576b"
             ],
             [
              0.6666666666666666,
              "#ed7953"
             ],
             [
              0.7777777777777778,
              "#fb9f3a"
             ],
             [
              0.8888888888888888,
              "#fdca26"
             ],
             [
              1,
              "#f0f921"
             ]
            ],
            "type": "histogram2d"
           }
          ],
          "histogram2dcontour": [
           {
            "colorbar": {
             "outlinewidth": 0,
             "ticks": ""
            },
            "colorscale": [
             [
              0,
              "#0d0887"
             ],
             [
              0.1111111111111111,
              "#46039f"
             ],
             [
              0.2222222222222222,
              "#7201a8"
             ],
             [
              0.3333333333333333,
              "#9c179e"
             ],
             [
              0.4444444444444444,
              "#bd3786"
             ],
             [
              0.5555555555555556,
              "#d8576b"
             ],
             [
              0.6666666666666666,
              "#ed7953"
             ],
             [
              0.7777777777777778,
              "#fb9f3a"
             ],
             [
              0.8888888888888888,
              "#fdca26"
             ],
             [
              1,
              "#f0f921"
             ]
            ],
            "type": "histogram2dcontour"
           }
          ],
          "mesh3d": [
           {
            "colorbar": {
             "outlinewidth": 0,
             "ticks": ""
            },
            "type": "mesh3d"
           }
          ],
          "parcoords": [
           {
            "line": {
             "colorbar": {
              "outlinewidth": 0,
              "ticks": ""
             }
            },
            "type": "parcoords"
           }
          ],
          "pie": [
           {
            "automargin": true,
            "type": "pie"
           }
          ],
          "scatter": [
           {
            "fillpattern": {
             "fillmode": "overlay",
             "size": 10,
             "solidity": 0.2
            },
            "type": "scatter"
           }
          ],
          "scatter3d": [
           {
            "line": {
             "colorbar": {
              "outlinewidth": 0,
              "ticks": ""
             }
            },
            "marker": {
             "colorbar": {
              "outlinewidth": 0,
              "ticks": ""
             }
            },
            "type": "scatter3d"
           }
          ],
          "scattercarpet": [
           {
            "marker": {
             "colorbar": {
              "outlinewidth": 0,
              "ticks": ""
             }
            },
            "type": "scattercarpet"
           }
          ],
          "scattergeo": [
           {
            "marker": {
             "colorbar": {
              "outlinewidth": 0,
              "ticks": ""
             }
            },
            "type": "scattergeo"
           }
          ],
          "scattergl": [
           {
            "marker": {
             "colorbar": {
              "outlinewidth": 0,
              "ticks": ""
             }
            },
            "type": "scattergl"
           }
          ],
          "scattermapbox": [
           {
            "marker": {
             "colorbar": {
              "outlinewidth": 0,
              "ticks": ""
             }
            },
            "type": "scattermapbox"
           }
          ],
          "scatterpolar": [
           {
            "marker": {
             "colorbar": {
              "outlinewidth": 0,
              "ticks": ""
             }
            },
            "type": "scatterpolar"
           }
          ],
          "scatterpolargl": [
           {
            "marker": {
             "colorbar": {
              "outlinewidth": 0,
              "ticks": ""
             }
            },
            "type": "scatterpolargl"
           }
          ],
          "scatterternary": [
           {
            "marker": {
             "colorbar": {
              "outlinewidth": 0,
              "ticks": ""
             }
            },
            "type": "scatterternary"
           }
          ],
          "surface": [
           {
            "colorbar": {
             "outlinewidth": 0,
             "ticks": ""
            },
            "colorscale": [
             [
              0,
              "#0d0887"
             ],
             [
              0.1111111111111111,
              "#46039f"
             ],
             [
              0.2222222222222222,
              "#7201a8"
             ],
             [
              0.3333333333333333,
              "#9c179e"
             ],
             [
              0.4444444444444444,
              "#bd3786"
             ],
             [
              0.5555555555555556,
              "#d8576b"
             ],
             [
              0.6666666666666666,
              "#ed7953"
             ],
             [
              0.7777777777777778,
              "#fb9f3a"
             ],
             [
              0.8888888888888888,
              "#fdca26"
             ],
             [
              1,
              "#f0f921"
             ]
            ],
            "type": "surface"
           }
          ],
          "table": [
           {
            "cells": {
             "fill": {
              "color": "#EBF0F8"
             },
             "line": {
              "color": "white"
             }
            },
            "header": {
             "fill": {
              "color": "#C8D4E3"
             },
             "line": {
              "color": "white"
             }
            },
            "type": "table"
           }
          ]
         },
         "layout": {
          "annotationdefaults": {
           "arrowcolor": "#2a3f5f",
           "arrowhead": 0,
           "arrowwidth": 1
          },
          "autotypenumbers": "strict",
          "coloraxis": {
           "colorbar": {
            "outlinewidth": 0,
            "ticks": ""
           }
          },
          "colorscale": {
           "diverging": [
            [
             0,
             "#8e0152"
            ],
            [
             0.1,
             "#c51b7d"
            ],
            [
             0.2,
             "#de77ae"
            ],
            [
             0.3,
             "#f1b6da"
            ],
            [
             0.4,
             "#fde0ef"
            ],
            [
             0.5,
             "#f7f7f7"
            ],
            [
             0.6,
             "#e6f5d0"
            ],
            [
             0.7,
             "#b8e186"
            ],
            [
             0.8,
             "#7fbc41"
            ],
            [
             0.9,
             "#4d9221"
            ],
            [
             1,
             "#276419"
            ]
           ],
           "sequential": [
            [
             0,
             "#0d0887"
            ],
            [
             0.1111111111111111,
             "#46039f"
            ],
            [
             0.2222222222222222,
             "#7201a8"
            ],
            [
             0.3333333333333333,
             "#9c179e"
            ],
            [
             0.4444444444444444,
             "#bd3786"
            ],
            [
             0.5555555555555556,
             "#d8576b"
            ],
            [
             0.6666666666666666,
             "#ed7953"
            ],
            [
             0.7777777777777778,
             "#fb9f3a"
            ],
            [
             0.8888888888888888,
             "#fdca26"
            ],
            [
             1,
             "#f0f921"
            ]
           ],
           "sequentialminus": [
            [
             0,
             "#0d0887"
            ],
            [
             0.1111111111111111,
             "#46039f"
            ],
            [
             0.2222222222222222,
             "#7201a8"
            ],
            [
             0.3333333333333333,
             "#9c179e"
            ],
            [
             0.4444444444444444,
             "#bd3786"
            ],
            [
             0.5555555555555556,
             "#d8576b"
            ],
            [
             0.6666666666666666,
             "#ed7953"
            ],
            [
             0.7777777777777778,
             "#fb9f3a"
            ],
            [
             0.8888888888888888,
             "#fdca26"
            ],
            [
             1,
             "#f0f921"
            ]
           ]
          },
          "colorway": [
           "#636efa",
           "#EF553B",
           "#00cc96",
           "#ab63fa",
           "#FFA15A",
           "#19d3f3",
           "#FF6692",
           "#B6E880",
           "#FF97FF",
           "#FECB52"
          ],
          "font": {
           "color": "#2a3f5f"
          },
          "geo": {
           "bgcolor": "white",
           "lakecolor": "white",
           "landcolor": "#E5ECF6",
           "showlakes": true,
           "showland": true,
           "subunitcolor": "white"
          },
          "hoverlabel": {
           "align": "left"
          },
          "hovermode": "closest",
          "mapbox": {
           "style": "light"
          },
          "paper_bgcolor": "white",
          "plot_bgcolor": "#E5ECF6",
          "polar": {
           "angularaxis": {
            "gridcolor": "white",
            "linecolor": "white",
            "ticks": ""
           },
           "bgcolor": "#E5ECF6",
           "radialaxis": {
            "gridcolor": "white",
            "linecolor": "white",
            "ticks": ""
           }
          },
          "scene": {
           "xaxis": {
            "backgroundcolor": "#E5ECF6",
            "gridcolor": "white",
            "gridwidth": 2,
            "linecolor": "white",
            "showbackground": true,
            "ticks": "",
            "zerolinecolor": "white"
           },
           "yaxis": {
            "backgroundcolor": "#E5ECF6",
            "gridcolor": "white",
            "gridwidth": 2,
            "linecolor": "white",
            "showbackground": true,
            "ticks": "",
            "zerolinecolor": "white"
           },
           "zaxis": {
            "backgroundcolor": "#E5ECF6",
            "gridcolor": "white",
            "gridwidth": 2,
            "linecolor": "white",
            "showbackground": true,
            "ticks": "",
            "zerolinecolor": "white"
           }
          },
          "shapedefaults": {
           "line": {
            "color": "#2a3f5f"
           }
          },
          "ternary": {
           "aaxis": {
            "gridcolor": "white",
            "linecolor": "white",
            "ticks": ""
           },
           "baxis": {
            "gridcolor": "white",
            "linecolor": "white",
            "ticks": ""
           },
           "bgcolor": "#E5ECF6",
           "caxis": {
            "gridcolor": "white",
            "linecolor": "white",
            "ticks": ""
           }
          },
          "title": {
           "x": 0.05
          },
          "xaxis": {
           "automargin": true,
           "gridcolor": "white",
           "linecolor": "white",
           "ticks": "",
           "title": {
            "standoff": 15
           },
           "zerolinecolor": "white",
           "zerolinewidth": 2
          },
          "yaxis": {
           "automargin": true,
           "gridcolor": "white",
           "linecolor": "white",
           "ticks": "",
           "title": {
            "standoff": 15
           },
           "zerolinecolor": "white",
           "zerolinewidth": 2
          }
         }
        },
        "title": {
         "text": "labels treemap"
        }
       }
      }
     },
     "metadata": {},
     "output_type": "display_data"
    }
   ],
   "source": [
    "df = pd.DataFrame(data_graph_labels)\n",
    "fig = px.treemap(df, path=['labels'], values='percentage',\n",
    "                 color='percentage', color_continuous_scale='Magma',\n",
    "                 title='labels treemap')\n",
    "fig.update_layout(\n",
    "    paper_bgcolor='black',  \n",
    "    plot_bgcolor='black',   \n",
    "    font_color='white'      \n",
    ")\n",
    "fig.show()"
   ]
  },
  {
   "cell_type": "markdown",
   "metadata": {},
   "source": [
    "# NONE NUMBER:"
   ]
  },
  {
   "cell_type": "code",
   "execution_count": 49,
   "metadata": {},
   "outputs": [],
   "source": [
    "def count_none_and_total_values(jsonl_file_path):\n",
    "    none_counts = defaultdict(int)\n",
    "    total_counts = defaultdict(int)\n",
    "    with open(jsonl_file_path, 'r', encoding='utf-8') as file:\n",
    "        for line in file:\n",
    "            data = json.loads(line)\n",
    "            for key, value in data.items():\n",
    "                total_counts[key] += 1\n",
    "                if value is None:\n",
    "                    none_counts[key] += 1\n",
    "    return none_counts, total_counts\n",
    "\n",
    "def calculate_percentage(none_counts, total_counts):\n",
    "    percentages = {}\n",
    "    for key in none_counts:\n",
    "        if total_counts[key] > 0:\n",
    "            percentage = (none_counts[key] / total_counts[key]) * 100\n",
    "        else:\n",
    "            percentage = 0\n",
    "        percentages[key] = percentage\n",
    "    return percentages\n",
    "\n",
    "none_counts, total_counts = count_none_and_total_values(jsonl_02)\n",
    "percentages = calculate_percentage(none_counts, total_counts)"
   ]
  },
  {
   "cell_type": "code",
   "execution_count": 50,
   "metadata": {},
   "outputs": [
    {
     "data": {
      "application/vnd.plotly.v1+json": {
       "config": {
        "plotlyServerURL": "https://plot.ly"
       },
       "data": [
        {
         "branchvalues": "total",
         "customdata": [
          [
           55.70825239495265
          ],
          [
           63.67837917018191
          ],
          [
           71.5331441685503
          ],
          [
           88.44028423178214
          ]
         ],
         "domain": {
          "x": [
           0,
           1
          ],
          "y": [
           0,
           1
          ]
         },
         "hovertemplate": "labels=%{label}<br>percentage_sum=%{value}<br>parent=%{parent}<br>id=%{id}<br>percentage=%{color}<extra></extra>",
         "ids": [
          "categories",
          "groups",
          "ingredients",
          "packaging"
         ],
         "labels": [
          "categories",
          "groups",
          "ingredients",
          "packaging"
         ],
         "marker": {
          "coloraxis": "coloraxis",
          "colors": [
           55.70825239495265,
           63.67837917018191,
           71.5331441685503,
           88.44028423178214
          ]
         },
         "name": "",
         "parents": [
          "",
          "",
          "",
          ""
         ],
         "type": "treemap",
         "values": [
          55.70825239495265,
          63.67837917018191,
          71.5331441685503,
          88.44028423178214
         ]
        }
       ],
       "layout": {
        "coloraxis": {
         "colorbar": {
          "title": {
           "text": "percentage"
          }
         },
         "colorscale": [
          [
           0,
           "#000004"
          ],
          [
           0.1111111111111111,
           "#180f3d"
          ],
          [
           0.2222222222222222,
           "#440f76"
          ],
          [
           0.3333333333333333,
           "#721f81"
          ],
          [
           0.4444444444444444,
           "#9e2f7f"
          ],
          [
           0.5555555555555556,
           "#cd4071"
          ],
          [
           0.6666666666666666,
           "#f1605d"
          ],
          [
           0.7777777777777778,
           "#fd9668"
          ],
          [
           0.8888888888888888,
           "#feca8d"
          ],
          [
           1,
           "#fcfdbf"
          ]
         ]
        },
        "font": {
         "color": "white"
        },
        "legend": {
         "tracegroupgap": 0
        },
        "paper_bgcolor": "black",
        "plot_bgcolor": "black",
        "template": {
         "data": {
          "bar": [
           {
            "error_x": {
             "color": "#2a3f5f"
            },
            "error_y": {
             "color": "#2a3f5f"
            },
            "marker": {
             "line": {
              "color": "#E5ECF6",
              "width": 0.5
             },
             "pattern": {
              "fillmode": "overlay",
              "size": 10,
              "solidity": 0.2
             }
            },
            "type": "bar"
           }
          ],
          "barpolar": [
           {
            "marker": {
             "line": {
              "color": "#E5ECF6",
              "width": 0.5
             },
             "pattern": {
              "fillmode": "overlay",
              "size": 10,
              "solidity": 0.2
             }
            },
            "type": "barpolar"
           }
          ],
          "carpet": [
           {
            "aaxis": {
             "endlinecolor": "#2a3f5f",
             "gridcolor": "white",
             "linecolor": "white",
             "minorgridcolor": "white",
             "startlinecolor": "#2a3f5f"
            },
            "baxis": {
             "endlinecolor": "#2a3f5f",
             "gridcolor": "white",
             "linecolor": "white",
             "minorgridcolor": "white",
             "startlinecolor": "#2a3f5f"
            },
            "type": "carpet"
           }
          ],
          "choropleth": [
           {
            "colorbar": {
             "outlinewidth": 0,
             "ticks": ""
            },
            "type": "choropleth"
           }
          ],
          "contour": [
           {
            "colorbar": {
             "outlinewidth": 0,
             "ticks": ""
            },
            "colorscale": [
             [
              0,
              "#0d0887"
             ],
             [
              0.1111111111111111,
              "#46039f"
             ],
             [
              0.2222222222222222,
              "#7201a8"
             ],
             [
              0.3333333333333333,
              "#9c179e"
             ],
             [
              0.4444444444444444,
              "#bd3786"
             ],
             [
              0.5555555555555556,
              "#d8576b"
             ],
             [
              0.6666666666666666,
              "#ed7953"
             ],
             [
              0.7777777777777778,
              "#fb9f3a"
             ],
             [
              0.8888888888888888,
              "#fdca26"
             ],
             [
              1,
              "#f0f921"
             ]
            ],
            "type": "contour"
           }
          ],
          "contourcarpet": [
           {
            "colorbar": {
             "outlinewidth": 0,
             "ticks": ""
            },
            "type": "contourcarpet"
           }
          ],
          "heatmap": [
           {
            "colorbar": {
             "outlinewidth": 0,
             "ticks": ""
            },
            "colorscale": [
             [
              0,
              "#0d0887"
             ],
             [
              0.1111111111111111,
              "#46039f"
             ],
             [
              0.2222222222222222,
              "#7201a8"
             ],
             [
              0.3333333333333333,
              "#9c179e"
             ],
             [
              0.4444444444444444,
              "#bd3786"
             ],
             [
              0.5555555555555556,
              "#d8576b"
             ],
             [
              0.6666666666666666,
              "#ed7953"
             ],
             [
              0.7777777777777778,
              "#fb9f3a"
             ],
             [
              0.8888888888888888,
              "#fdca26"
             ],
             [
              1,
              "#f0f921"
             ]
            ],
            "type": "heatmap"
           }
          ],
          "heatmapgl": [
           {
            "colorbar": {
             "outlinewidth": 0,
             "ticks": ""
            },
            "colorscale": [
             [
              0,
              "#0d0887"
             ],
             [
              0.1111111111111111,
              "#46039f"
             ],
             [
              0.2222222222222222,
              "#7201a8"
             ],
             [
              0.3333333333333333,
              "#9c179e"
             ],
             [
              0.4444444444444444,
              "#bd3786"
             ],
             [
              0.5555555555555556,
              "#d8576b"
             ],
             [
              0.6666666666666666,
              "#ed7953"
             ],
             [
              0.7777777777777778,
              "#fb9f3a"
             ],
             [
              0.8888888888888888,
              "#fdca26"
             ],
             [
              1,
              "#f0f921"
             ]
            ],
            "type": "heatmapgl"
           }
          ],
          "histogram": [
           {
            "marker": {
             "pattern": {
              "fillmode": "overlay",
              "size": 10,
              "solidity": 0.2
             }
            },
            "type": "histogram"
           }
          ],
          "histogram2d": [
           {
            "colorbar": {
             "outlinewidth": 0,
             "ticks": ""
            },
            "colorscale": [
             [
              0,
              "#0d0887"
             ],
             [
              0.1111111111111111,
              "#46039f"
             ],
             [
              0.2222222222222222,
              "#7201a8"
             ],
             [
              0.3333333333333333,
              "#9c179e"
             ],
             [
              0.4444444444444444,
              "#bd3786"
             ],
             [
              0.5555555555555556,
              "#d8576b"
             ],
             [
              0.6666666666666666,
              "#ed7953"
             ],
             [
              0.7777777777777778,
              "#fb9f3a"
             ],
             [
              0.8888888888888888,
              "#fdca26"
             ],
             [
              1,
              "#f0f921"
             ]
            ],
            "type": "histogram2d"
           }
          ],
          "histogram2dcontour": [
           {
            "colorbar": {
             "outlinewidth": 0,
             "ticks": ""
            },
            "colorscale": [
             [
              0,
              "#0d0887"
             ],
             [
              0.1111111111111111,
              "#46039f"
             ],
             [
              0.2222222222222222,
              "#7201a8"
             ],
             [
              0.3333333333333333,
              "#9c179e"
             ],
             [
              0.4444444444444444,
              "#bd3786"
             ],
             [
              0.5555555555555556,
              "#d8576b"
             ],
             [
              0.6666666666666666,
              "#ed7953"
             ],
             [
              0.7777777777777778,
              "#fb9f3a"
             ],
             [
              0.8888888888888888,
              "#fdca26"
             ],
             [
              1,
              "#f0f921"
             ]
            ],
            "type": "histogram2dcontour"
           }
          ],
          "mesh3d": [
           {
            "colorbar": {
             "outlinewidth": 0,
             "ticks": ""
            },
            "type": "mesh3d"
           }
          ],
          "parcoords": [
           {
            "line": {
             "colorbar": {
              "outlinewidth": 0,
              "ticks": ""
             }
            },
            "type": "parcoords"
           }
          ],
          "pie": [
           {
            "automargin": true,
            "type": "pie"
           }
          ],
          "scatter": [
           {
            "fillpattern": {
             "fillmode": "overlay",
             "size": 10,
             "solidity": 0.2
            },
            "type": "scatter"
           }
          ],
          "scatter3d": [
           {
            "line": {
             "colorbar": {
              "outlinewidth": 0,
              "ticks": ""
             }
            },
            "marker": {
             "colorbar": {
              "outlinewidth": 0,
              "ticks": ""
             }
            },
            "type": "scatter3d"
           }
          ],
          "scattercarpet": [
           {
            "marker": {
             "colorbar": {
              "outlinewidth": 0,
              "ticks": ""
             }
            },
            "type": "scattercarpet"
           }
          ],
          "scattergeo": [
           {
            "marker": {
             "colorbar": {
              "outlinewidth": 0,
              "ticks": ""
             }
            },
            "type": "scattergeo"
           }
          ],
          "scattergl": [
           {
            "marker": {
             "colorbar": {
              "outlinewidth": 0,
              "ticks": ""
             }
            },
            "type": "scattergl"
           }
          ],
          "scattermapbox": [
           {
            "marker": {
             "colorbar": {
              "outlinewidth": 0,
              "ticks": ""
             }
            },
            "type": "scattermapbox"
           }
          ],
          "scatterpolar": [
           {
            "marker": {
             "colorbar": {
              "outlinewidth": 0,
              "ticks": ""
             }
            },
            "type": "scatterpolar"
           }
          ],
          "scatterpolargl": [
           {
            "marker": {
             "colorbar": {
              "outlinewidth": 0,
              "ticks": ""
             }
            },
            "type": "scatterpolargl"
           }
          ],
          "scatterternary": [
           {
            "marker": {
             "colorbar": {
              "outlinewidth": 0,
              "ticks": ""
             }
            },
            "type": "scatterternary"
           }
          ],
          "surface": [
           {
            "colorbar": {
             "outlinewidth": 0,
             "ticks": ""
            },
            "colorscale": [
             [
              0,
              "#0d0887"
             ],
             [
              0.1111111111111111,
              "#46039f"
             ],
             [
              0.2222222222222222,
              "#7201a8"
             ],
             [
              0.3333333333333333,
              "#9c179e"
             ],
             [
              0.4444444444444444,
              "#bd3786"
             ],
             [
              0.5555555555555556,
              "#d8576b"
             ],
             [
              0.6666666666666666,
              "#ed7953"
             ],
             [
              0.7777777777777778,
              "#fb9f3a"
             ],
             [
              0.8888888888888888,
              "#fdca26"
             ],
             [
              1,
              "#f0f921"
             ]
            ],
            "type": "surface"
           }
          ],
          "table": [
           {
            "cells": {
             "fill": {
              "color": "#EBF0F8"
             },
             "line": {
              "color": "white"
             }
            },
            "header": {
             "fill": {
              "color": "#C8D4E3"
             },
             "line": {
              "color": "white"
             }
            },
            "type": "table"
           }
          ]
         },
         "layout": {
          "annotationdefaults": {
           "arrowcolor": "#2a3f5f",
           "arrowhead": 0,
           "arrowwidth": 1
          },
          "autotypenumbers": "strict",
          "coloraxis": {
           "colorbar": {
            "outlinewidth": 0,
            "ticks": ""
           }
          },
          "colorscale": {
           "diverging": [
            [
             0,
             "#8e0152"
            ],
            [
             0.1,
             "#c51b7d"
            ],
            [
             0.2,
             "#de77ae"
            ],
            [
             0.3,
             "#f1b6da"
            ],
            [
             0.4,
             "#fde0ef"
            ],
            [
             0.5,
             "#f7f7f7"
            ],
            [
             0.6,
             "#e6f5d0"
            ],
            [
             0.7,
             "#b8e186"
            ],
            [
             0.8,
             "#7fbc41"
            ],
            [
             0.9,
             "#4d9221"
            ],
            [
             1,
             "#276419"
            ]
           ],
           "sequential": [
            [
             0,
             "#0d0887"
            ],
            [
             0.1111111111111111,
             "#46039f"
            ],
            [
             0.2222222222222222,
             "#7201a8"
            ],
            [
             0.3333333333333333,
             "#9c179e"
            ],
            [
             0.4444444444444444,
             "#bd3786"
            ],
            [
             0.5555555555555556,
             "#d8576b"
            ],
            [
             0.6666666666666666,
             "#ed7953"
            ],
            [
             0.7777777777777778,
             "#fb9f3a"
            ],
            [
             0.8888888888888888,
             "#fdca26"
            ],
            [
             1,
             "#f0f921"
            ]
           ],
           "sequentialminus": [
            [
             0,
             "#0d0887"
            ],
            [
             0.1111111111111111,
             "#46039f"
            ],
            [
             0.2222222222222222,
             "#7201a8"
            ],
            [
             0.3333333333333333,
             "#9c179e"
            ],
            [
             0.4444444444444444,
             "#bd3786"
            ],
            [
             0.5555555555555556,
             "#d8576b"
            ],
            [
             0.6666666666666666,
             "#ed7953"
            ],
            [
             0.7777777777777778,
             "#fb9f3a"
            ],
            [
             0.8888888888888888,
             "#fdca26"
            ],
            [
             1,
             "#f0f921"
            ]
           ]
          },
          "colorway": [
           "#636efa",
           "#EF553B",
           "#00cc96",
           "#ab63fa",
           "#FFA15A",
           "#19d3f3",
           "#FF6692",
           "#B6E880",
           "#FF97FF",
           "#FECB52"
          ],
          "font": {
           "color": "#2a3f5f"
          },
          "geo": {
           "bgcolor": "white",
           "lakecolor": "white",
           "landcolor": "#E5ECF6",
           "showlakes": true,
           "showland": true,
           "subunitcolor": "white"
          },
          "hoverlabel": {
           "align": "left"
          },
          "hovermode": "closest",
          "mapbox": {
           "style": "light"
          },
          "paper_bgcolor": "white",
          "plot_bgcolor": "#E5ECF6",
          "polar": {
           "angularaxis": {
            "gridcolor": "white",
            "linecolor": "white",
            "ticks": ""
           },
           "bgcolor": "#E5ECF6",
           "radialaxis": {
            "gridcolor": "white",
            "linecolor": "white",
            "ticks": ""
           }
          },
          "scene": {
           "xaxis": {
            "backgroundcolor": "#E5ECF6",
            "gridcolor": "white",
            "gridwidth": 2,
            "linecolor": "white",
            "showbackground": true,
            "ticks": "",
            "zerolinecolor": "white"
           },
           "yaxis": {
            "backgroundcolor": "#E5ECF6",
            "gridcolor": "white",
            "gridwidth": 2,
            "linecolor": "white",
            "showbackground": true,
            "ticks": "",
            "zerolinecolor": "white"
           },
           "zaxis": {
            "backgroundcolor": "#E5ECF6",
            "gridcolor": "white",
            "gridwidth": 2,
            "linecolor": "white",
            "showbackground": true,
            "ticks": "",
            "zerolinecolor": "white"
           }
          },
          "shapedefaults": {
           "line": {
            "color": "#2a3f5f"
           }
          },
          "ternary": {
           "aaxis": {
            "gridcolor": "white",
            "linecolor": "white",
            "ticks": ""
           },
           "baxis": {
            "gridcolor": "white",
            "linecolor": "white",
            "ticks": ""
           },
           "bgcolor": "#E5ECF6",
           "caxis": {
            "gridcolor": "white",
            "linecolor": "white",
            "ticks": ""
           }
          },
          "title": {
           "x": 0.05
          },
          "xaxis": {
           "automargin": true,
           "gridcolor": "white",
           "linecolor": "white",
           "ticks": "",
           "title": {
            "standoff": 15
           },
           "zerolinecolor": "white",
           "zerolinewidth": 2
          },
          "yaxis": {
           "automargin": true,
           "gridcolor": "white",
           "linecolor": "white",
           "ticks": "",
           "title": {
            "standoff": 15
           },
           "zerolinecolor": "white",
           "zerolinewidth": 2
          }
         }
        },
        "title": {
         "text": "none treemap"
        }
       }
      }
     },
     "metadata": {},
     "output_type": "display_data"
    }
   ],
   "source": [
    "data_graph_none = [{'key': key, 'percentage': percentage} for key, percentage in percentages.items()]\n",
    "df = pd.DataFrame(data_graph_none)\n",
    "fig = px.treemap(df, path=['key'], values='percentage',\n",
    "                 color='percentage', color_continuous_scale='Magma',\n",
    "                 title='none treemap')\n",
    "fig.update_layout(\n",
    "    paper_bgcolor='black',  \n",
    "    plot_bgcolor='black',   \n",
    "    font_color='white'      \n",
    ")\n",
    "fig.show()"
   ]
  },
  {
   "cell_type": "markdown",
   "metadata": {},
   "source": [
    "# ECOSCORE NULL:"
   ]
  },
  {
   "cell_type": "code",
   "execution_count": 51,
   "metadata": {},
   "outputs": [],
   "source": [
    "def count_specific_values(jsonl_file_path):\n",
    "    counts = {\n",
    "        'ecoscore_groups': {'z': 0},\n",
    "        'ecoscore_note': {999: 0}\n",
    "    }\n",
    "    total_counts = {\n",
    "        'ecoscore_groups': 0,\n",
    "        'ecoscore_note': 0\n",
    "    }\n",
    "    with open(jsonl_file_path, 'r') as file:\n",
    "        for line in file:\n",
    "            data = json.loads(line)\n",
    "            for key, value in data.items():\n",
    "                if key in counts:\n",
    "                    total_counts[key] += 1\n",
    "                    if key == 'ecoscore_groups' and value == 'z':\n",
    "                        counts[key]['z'] += 1\n",
    "                    if key == 'ecoscore_note' and value == 999:\n",
    "                        counts[key][999] += 1\n",
    "    return counts, total_counts\n",
    "\n",
    "def calculate_percentage(count, total):\n",
    "    if total > 0:\n",
    "        percentage = (count / total) * 100\n",
    "    else:\n",
    "        percentage = 0\n",
    "    return percentage\n",
    "\n",
    "counts, total_counts = count_specific_values(jsonl_02)\n",
    "\n",
    "z_percentage = calculate_percentage(counts['ecoscore_groups']['z'], total_counts['ecoscore_groups'])\n",
    "number_999 = counts['ecoscore_note'][999]\n",
    "number_999_percentage = calculate_percentage(number_999, total_counts['ecoscore_note'])\n",
    "\n",
    "labels = ['Ecoscore Groups (z)', 'Ecoscore Note (999)']\n",
    "values = [z_percentage, number_999_percentage]\n",
    "counts_values = [counts['ecoscore_groups']['z'], counts['ecoscore_note'][999]]"
   ]
  },
  {
   "cell_type": "code",
   "execution_count": 52,
   "metadata": {},
   "outputs": [
    {
     "data": {
      "application/vnd.plotly.v1+json": {
       "config": {
        "plotlyServerURL": "https://plot.ly"
       },
       "data": [
        {
         "name": "Pourcentage",
         "text": [
          "74.62%",
          "74.62%"
         ],
         "textposition": "auto",
         "type": "bar",
         "x": [
          "Ecoscore Groups (z)",
          "Ecoscore Note (999)"
         ],
         "y": [
          74.61745109633023,
          74.61745109633023
         ]
        },
        {
         "name": "Nombre",
         "text": [
          "2371215",
          "2371215"
         ],
         "textposition": "auto",
         "type": "bar",
         "x": [
          "Ecoscore Groups (z)",
          "Ecoscore Note (999)"
         ],
         "y": [
          2371215,
          2371215
         ]
        }
       ],
       "layout": {
        "barmode": "group",
        "template": {
         "data": {
          "bar": [
           {
            "error_x": {
             "color": "#2a3f5f"
            },
            "error_y": {
             "color": "#2a3f5f"
            },
            "marker": {
             "line": {
              "color": "#E5ECF6",
              "width": 0.5
             },
             "pattern": {
              "fillmode": "overlay",
              "size": 10,
              "solidity": 0.2
             }
            },
            "type": "bar"
           }
          ],
          "barpolar": [
           {
            "marker": {
             "line": {
              "color": "#E5ECF6",
              "width": 0.5
             },
             "pattern": {
              "fillmode": "overlay",
              "size": 10,
              "solidity": 0.2
             }
            },
            "type": "barpolar"
           }
          ],
          "carpet": [
           {
            "aaxis": {
             "endlinecolor": "#2a3f5f",
             "gridcolor": "white",
             "linecolor": "white",
             "minorgridcolor": "white",
             "startlinecolor": "#2a3f5f"
            },
            "baxis": {
             "endlinecolor": "#2a3f5f",
             "gridcolor": "white",
             "linecolor": "white",
             "minorgridcolor": "white",
             "startlinecolor": "#2a3f5f"
            },
            "type": "carpet"
           }
          ],
          "choropleth": [
           {
            "colorbar": {
             "outlinewidth": 0,
             "ticks": ""
            },
            "type": "choropleth"
           }
          ],
          "contour": [
           {
            "colorbar": {
             "outlinewidth": 0,
             "ticks": ""
            },
            "colorscale": [
             [
              0,
              "#0d0887"
             ],
             [
              0.1111111111111111,
              "#46039f"
             ],
             [
              0.2222222222222222,
              "#7201a8"
             ],
             [
              0.3333333333333333,
              "#9c179e"
             ],
             [
              0.4444444444444444,
              "#bd3786"
             ],
             [
              0.5555555555555556,
              "#d8576b"
             ],
             [
              0.6666666666666666,
              "#ed7953"
             ],
             [
              0.7777777777777778,
              "#fb9f3a"
             ],
             [
              0.8888888888888888,
              "#fdca26"
             ],
             [
              1,
              "#f0f921"
             ]
            ],
            "type": "contour"
           }
          ],
          "contourcarpet": [
           {
            "colorbar": {
             "outlinewidth": 0,
             "ticks": ""
            },
            "type": "contourcarpet"
           }
          ],
          "heatmap": [
           {
            "colorbar": {
             "outlinewidth": 0,
             "ticks": ""
            },
            "colorscale": [
             [
              0,
              "#0d0887"
             ],
             [
              0.1111111111111111,
              "#46039f"
             ],
             [
              0.2222222222222222,
              "#7201a8"
             ],
             [
              0.3333333333333333,
              "#9c179e"
             ],
             [
              0.4444444444444444,
              "#bd3786"
             ],
             [
              0.5555555555555556,
              "#d8576b"
             ],
             [
              0.6666666666666666,
              "#ed7953"
             ],
             [
              0.7777777777777778,
              "#fb9f3a"
             ],
             [
              0.8888888888888888,
              "#fdca26"
             ],
             [
              1,
              "#f0f921"
             ]
            ],
            "type": "heatmap"
           }
          ],
          "heatmapgl": [
           {
            "colorbar": {
             "outlinewidth": 0,
             "ticks": ""
            },
            "colorscale": [
             [
              0,
              "#0d0887"
             ],
             [
              0.1111111111111111,
              "#46039f"
             ],
             [
              0.2222222222222222,
              "#7201a8"
             ],
             [
              0.3333333333333333,
              "#9c179e"
             ],
             [
              0.4444444444444444,
              "#bd3786"
             ],
             [
              0.5555555555555556,
              "#d8576b"
             ],
             [
              0.6666666666666666,
              "#ed7953"
             ],
             [
              0.7777777777777778,
              "#fb9f3a"
             ],
             [
              0.8888888888888888,
              "#fdca26"
             ],
             [
              1,
              "#f0f921"
             ]
            ],
            "type": "heatmapgl"
           }
          ],
          "histogram": [
           {
            "marker": {
             "pattern": {
              "fillmode": "overlay",
              "size": 10,
              "solidity": 0.2
             }
            },
            "type": "histogram"
           }
          ],
          "histogram2d": [
           {
            "colorbar": {
             "outlinewidth": 0,
             "ticks": ""
            },
            "colorscale": [
             [
              0,
              "#0d0887"
             ],
             [
              0.1111111111111111,
              "#46039f"
             ],
             [
              0.2222222222222222,
              "#7201a8"
             ],
             [
              0.3333333333333333,
              "#9c179e"
             ],
             [
              0.4444444444444444,
              "#bd3786"
             ],
             [
              0.5555555555555556,
              "#d8576b"
             ],
             [
              0.6666666666666666,
              "#ed7953"
             ],
             [
              0.7777777777777778,
              "#fb9f3a"
             ],
             [
              0.8888888888888888,
              "#fdca26"
             ],
             [
              1,
              "#f0f921"
             ]
            ],
            "type": "histogram2d"
           }
          ],
          "histogram2dcontour": [
           {
            "colorbar": {
             "outlinewidth": 0,
             "ticks": ""
            },
            "colorscale": [
             [
              0,
              "#0d0887"
             ],
             [
              0.1111111111111111,
              "#46039f"
             ],
             [
              0.2222222222222222,
              "#7201a8"
             ],
             [
              0.3333333333333333,
              "#9c179e"
             ],
             [
              0.4444444444444444,
              "#bd3786"
             ],
             [
              0.5555555555555556,
              "#d8576b"
             ],
             [
              0.6666666666666666,
              "#ed7953"
             ],
             [
              0.7777777777777778,
              "#fb9f3a"
             ],
             [
              0.8888888888888888,
              "#fdca26"
             ],
             [
              1,
              "#f0f921"
             ]
            ],
            "type": "histogram2dcontour"
           }
          ],
          "mesh3d": [
           {
            "colorbar": {
             "outlinewidth": 0,
             "ticks": ""
            },
            "type": "mesh3d"
           }
          ],
          "parcoords": [
           {
            "line": {
             "colorbar": {
              "outlinewidth": 0,
              "ticks": ""
             }
            },
            "type": "parcoords"
           }
          ],
          "pie": [
           {
            "automargin": true,
            "type": "pie"
           }
          ],
          "scatter": [
           {
            "fillpattern": {
             "fillmode": "overlay",
             "size": 10,
             "solidity": 0.2
            },
            "type": "scatter"
           }
          ],
          "scatter3d": [
           {
            "line": {
             "colorbar": {
              "outlinewidth": 0,
              "ticks": ""
             }
            },
            "marker": {
             "colorbar": {
              "outlinewidth": 0,
              "ticks": ""
             }
            },
            "type": "scatter3d"
           }
          ],
          "scattercarpet": [
           {
            "marker": {
             "colorbar": {
              "outlinewidth": 0,
              "ticks": ""
             }
            },
            "type": "scattercarpet"
           }
          ],
          "scattergeo": [
           {
            "marker": {
             "colorbar": {
              "outlinewidth": 0,
              "ticks": ""
             }
            },
            "type": "scattergeo"
           }
          ],
          "scattergl": [
           {
            "marker": {
             "colorbar": {
              "outlinewidth": 0,
              "ticks": ""
             }
            },
            "type": "scattergl"
           }
          ],
          "scattermapbox": [
           {
            "marker": {
             "colorbar": {
              "outlinewidth": 0,
              "ticks": ""
             }
            },
            "type": "scattermapbox"
           }
          ],
          "scatterpolar": [
           {
            "marker": {
             "colorbar": {
              "outlinewidth": 0,
              "ticks": ""
             }
            },
            "type": "scatterpolar"
           }
          ],
          "scatterpolargl": [
           {
            "marker": {
             "colorbar": {
              "outlinewidth": 0,
              "ticks": ""
             }
            },
            "type": "scatterpolargl"
           }
          ],
          "scatterternary": [
           {
            "marker": {
             "colorbar": {
              "outlinewidth": 0,
              "ticks": ""
             }
            },
            "type": "scatterternary"
           }
          ],
          "surface": [
           {
            "colorbar": {
             "outlinewidth": 0,
             "ticks": ""
            },
            "colorscale": [
             [
              0,
              "#0d0887"
             ],
             [
              0.1111111111111111,
              "#46039f"
             ],
             [
              0.2222222222222222,
              "#7201a8"
             ],
             [
              0.3333333333333333,
              "#9c179e"
             ],
             [
              0.4444444444444444,
              "#bd3786"
             ],
             [
              0.5555555555555556,
              "#d8576b"
             ],
             [
              0.6666666666666666,
              "#ed7953"
             ],
             [
              0.7777777777777778,
              "#fb9f3a"
             ],
             [
              0.8888888888888888,
              "#fdca26"
             ],
             [
              1,
              "#f0f921"
             ]
            ],
            "type": "surface"
           }
          ],
          "table": [
           {
            "cells": {
             "fill": {
              "color": "#EBF0F8"
             },
             "line": {
              "color": "white"
             }
            },
            "header": {
             "fill": {
              "color": "#C8D4E3"
             },
             "line": {
              "color": "white"
             }
            },
            "type": "table"
           }
          ]
         },
         "layout": {
          "annotationdefaults": {
           "arrowcolor": "#2a3f5f",
           "arrowhead": 0,
           "arrowwidth": 1
          },
          "autotypenumbers": "strict",
          "coloraxis": {
           "colorbar": {
            "outlinewidth": 0,
            "ticks": ""
           }
          },
          "colorscale": {
           "diverging": [
            [
             0,
             "#8e0152"
            ],
            [
             0.1,
             "#c51b7d"
            ],
            [
             0.2,
             "#de77ae"
            ],
            [
             0.3,
             "#f1b6da"
            ],
            [
             0.4,
             "#fde0ef"
            ],
            [
             0.5,
             "#f7f7f7"
            ],
            [
             0.6,
             "#e6f5d0"
            ],
            [
             0.7,
             "#b8e186"
            ],
            [
             0.8,
             "#7fbc41"
            ],
            [
             0.9,
             "#4d9221"
            ],
            [
             1,
             "#276419"
            ]
           ],
           "sequential": [
            [
             0,
             "#0d0887"
            ],
            [
             0.1111111111111111,
             "#46039f"
            ],
            [
             0.2222222222222222,
             "#7201a8"
            ],
            [
             0.3333333333333333,
             "#9c179e"
            ],
            [
             0.4444444444444444,
             "#bd3786"
            ],
            [
             0.5555555555555556,
             "#d8576b"
            ],
            [
             0.6666666666666666,
             "#ed7953"
            ],
            [
             0.7777777777777778,
             "#fb9f3a"
            ],
            [
             0.8888888888888888,
             "#fdca26"
            ],
            [
             1,
             "#f0f921"
            ]
           ],
           "sequentialminus": [
            [
             0,
             "#0d0887"
            ],
            [
             0.1111111111111111,
             "#46039f"
            ],
            [
             0.2222222222222222,
             "#7201a8"
            ],
            [
             0.3333333333333333,
             "#9c179e"
            ],
            [
             0.4444444444444444,
             "#bd3786"
            ],
            [
             0.5555555555555556,
             "#d8576b"
            ],
            [
             0.6666666666666666,
             "#ed7953"
            ],
            [
             0.7777777777777778,
             "#fb9f3a"
            ],
            [
             0.8888888888888888,
             "#fdca26"
            ],
            [
             1,
             "#f0f921"
            ]
           ]
          },
          "colorway": [
           "#636efa",
           "#EF553B",
           "#00cc96",
           "#ab63fa",
           "#FFA15A",
           "#19d3f3",
           "#FF6692",
           "#B6E880",
           "#FF97FF",
           "#FECB52"
          ],
          "font": {
           "color": "#2a3f5f"
          },
          "geo": {
           "bgcolor": "white",
           "lakecolor": "white",
           "landcolor": "#E5ECF6",
           "showlakes": true,
           "showland": true,
           "subunitcolor": "white"
          },
          "hoverlabel": {
           "align": "left"
          },
          "hovermode": "closest",
          "mapbox": {
           "style": "light"
          },
          "paper_bgcolor": "white",
          "plot_bgcolor": "#E5ECF6",
          "polar": {
           "angularaxis": {
            "gridcolor": "white",
            "linecolor": "white",
            "ticks": ""
           },
           "bgcolor": "#E5ECF6",
           "radialaxis": {
            "gridcolor": "white",
            "linecolor": "white",
            "ticks": ""
           }
          },
          "scene": {
           "xaxis": {
            "backgroundcolor": "#E5ECF6",
            "gridcolor": "white",
            "gridwidth": 2,
            "linecolor": "white",
            "showbackground": true,
            "ticks": "",
            "zerolinecolor": "white"
           },
           "yaxis": {
            "backgroundcolor": "#E5ECF6",
            "gridcolor": "white",
            "gridwidth": 2,
            "linecolor": "white",
            "showbackground": true,
            "ticks": "",
            "zerolinecolor": "white"
           },
           "zaxis": {
            "backgroundcolor": "#E5ECF6",
            "gridcolor": "white",
            "gridwidth": 2,
            "linecolor": "white",
            "showbackground": true,
            "ticks": "",
            "zerolinecolor": "white"
           }
          },
          "shapedefaults": {
           "line": {
            "color": "#2a3f5f"
           }
          },
          "ternary": {
           "aaxis": {
            "gridcolor": "white",
            "linecolor": "white",
            "ticks": ""
           },
           "baxis": {
            "gridcolor": "white",
            "linecolor": "white",
            "ticks": ""
           },
           "bgcolor": "#E5ECF6",
           "caxis": {
            "gridcolor": "white",
            "linecolor": "white",
            "ticks": ""
           }
          },
          "title": {
           "x": 0.05
          },
          "xaxis": {
           "automargin": true,
           "gridcolor": "white",
           "linecolor": "white",
           "ticks": "",
           "title": {
            "standoff": 15
           },
           "zerolinecolor": "white",
           "zerolinewidth": 2
          },
          "yaxis": {
           "automargin": true,
           "gridcolor": "white",
           "linecolor": "white",
           "ticks": "",
           "title": {
            "standoff": 15
           },
           "zerolinecolor": "white",
           "zerolinewidth": 2
          }
         }
        },
        "title": {
         "text": "percentage empty data ecoscore group and grad"
        },
        "xaxis": {
         "title": {
          "text": "Catégories"
         }
        },
        "yaxis": {
         "title": {
          "text": "Valeurs"
         }
        }
       }
      }
     },
     "metadata": {},
     "output_type": "display_data"
    }
   ],
   "source": [
    "fig = go.Figure()\n",
    "fig.add_trace(go.Bar(\n",
    "    x=labels,\n",
    "    y=values,\n",
    "    name='Pourcentage',\n",
    "    text=[f'{v:.2f}%' for v in values],\n",
    "    textposition='auto'\n",
    "))\n",
    "fig.add_trace(go.Bar(\n",
    "    x=labels,\n",
    "    y=counts_values,\n",
    "    name='Nombre',\n",
    "    text=[str(v) for v in counts_values],\n",
    "    textposition='auto'\n",
    "))\n",
    "fig.update_layout(\n",
    "    title='percentage empty data ecoscore group and grad',\n",
    "    xaxis_title='Catégories',\n",
    "    yaxis_title='Valeurs',\n",
    "    barmode='group'\n",
    ")\n",
    "fig.show()"
   ]
  },
  {
   "cell_type": "markdown",
   "metadata": {},
   "source": [
    "# TOTAL ARTICLES NUMBER:"
   ]
  },
  {
   "cell_type": "code",
   "execution_count": 53,
   "metadata": {},
   "outputs": [
    {
     "name": "stdout",
     "output_type": "stream",
     "text": [
      "total product number: 3177829\n"
     ]
    }
   ],
   "source": [
    "print(f\"total product number: {total_labels}\")"
   ]
  },
  {
   "cell_type": "markdown",
   "metadata": {},
   "source": [
    "# JSONL SAMPLE:"
   ]
  },
  {
   "cell_type": "code",
   "execution_count": 54,
   "metadata": {},
   "outputs": [
    {
     "ename": "ValueError",
     "evalue": "Value is too big!",
     "output_type": "error",
     "traceback": [
      "\u001b[0;31m---------------------------------------------------------------------------\u001b[0m",
      "\u001b[0;31mValueError\u001b[0m                                Traceback (most recent call last)",
      "Cell \u001b[0;32mIn[54], line 1\u001b[0m\n\u001b[0;32m----> 1\u001b[0m df \u001b[38;5;241m=\u001b[39m \u001b[43mpd\u001b[49m\u001b[38;5;241;43m.\u001b[39;49m\u001b[43mread_json\u001b[49m\u001b[43m(\u001b[49m\u001b[43mjsonl_sample\u001b[49m\u001b[43m,\u001b[49m\u001b[43m \u001b[49m\u001b[43mlines\u001b[49m\u001b[38;5;241;43m=\u001b[39;49m\u001b[38;5;28;43;01mTrue\u001b[39;49;00m\u001b[43m)\u001b[49m\n\u001b[1;32m      2\u001b[0m df\u001b[38;5;241m.\u001b[39mhead(\u001b[38;5;241m60\u001b[39m)\n",
      "File \u001b[0;32m~/anaconda3/envs/greenIa/lib/python3.10/site-packages/pandas/io/json/_json.py:815\u001b[0m, in \u001b[0;36mread_json\u001b[0;34m(path_or_buf, orient, typ, dtype, convert_axes, convert_dates, keep_default_dates, precise_float, date_unit, encoding, encoding_errors, lines, chunksize, compression, nrows, storage_options, dtype_backend, engine)\u001b[0m\n\u001b[1;32m    813\u001b[0m     \u001b[38;5;28;01mreturn\u001b[39;00m json_reader\n\u001b[1;32m    814\u001b[0m \u001b[38;5;28;01melse\u001b[39;00m:\n\u001b[0;32m--> 815\u001b[0m     \u001b[38;5;28;01mreturn\u001b[39;00m \u001b[43mjson_reader\u001b[49m\u001b[38;5;241;43m.\u001b[39;49m\u001b[43mread\u001b[49m\u001b[43m(\u001b[49m\u001b[43m)\u001b[49m\n",
      "File \u001b[0;32m~/anaconda3/envs/greenIa/lib/python3.10/site-packages/pandas/io/json/_json.py:1023\u001b[0m, in \u001b[0;36mJsonReader.read\u001b[0;34m(self)\u001b[0m\n\u001b[1;32m   1021\u001b[0m         data \u001b[38;5;241m=\u001b[39m ensure_str(\u001b[38;5;28mself\u001b[39m\u001b[38;5;241m.\u001b[39mdata)\n\u001b[1;32m   1022\u001b[0m         data_lines \u001b[38;5;241m=\u001b[39m data\u001b[38;5;241m.\u001b[39msplit(\u001b[38;5;124m\"\u001b[39m\u001b[38;5;130;01m\\n\u001b[39;00m\u001b[38;5;124m\"\u001b[39m)\n\u001b[0;32m-> 1023\u001b[0m         obj \u001b[38;5;241m=\u001b[39m \u001b[38;5;28;43mself\u001b[39;49m\u001b[38;5;241;43m.\u001b[39;49m\u001b[43m_get_object_parser\u001b[49m\u001b[43m(\u001b[49m\u001b[38;5;28;43mself\u001b[39;49m\u001b[38;5;241;43m.\u001b[39;49m\u001b[43m_combine_lines\u001b[49m\u001b[43m(\u001b[49m\u001b[43mdata_lines\u001b[49m\u001b[43m)\u001b[49m\u001b[43m)\u001b[49m\n\u001b[1;32m   1024\u001b[0m \u001b[38;5;28;01melse\u001b[39;00m:\n\u001b[1;32m   1025\u001b[0m     obj \u001b[38;5;241m=\u001b[39m \u001b[38;5;28mself\u001b[39m\u001b[38;5;241m.\u001b[39m_get_object_parser(\u001b[38;5;28mself\u001b[39m\u001b[38;5;241m.\u001b[39mdata)\n",
      "File \u001b[0;32m~/anaconda3/envs/greenIa/lib/python3.10/site-packages/pandas/io/json/_json.py:1051\u001b[0m, in \u001b[0;36mJsonReader._get_object_parser\u001b[0;34m(self, json)\u001b[0m\n\u001b[1;32m   1049\u001b[0m obj \u001b[38;5;241m=\u001b[39m \u001b[38;5;28;01mNone\u001b[39;00m\n\u001b[1;32m   1050\u001b[0m \u001b[38;5;28;01mif\u001b[39;00m typ \u001b[38;5;241m==\u001b[39m \u001b[38;5;124m\"\u001b[39m\u001b[38;5;124mframe\u001b[39m\u001b[38;5;124m\"\u001b[39m:\n\u001b[0;32m-> 1051\u001b[0m     obj \u001b[38;5;241m=\u001b[39m \u001b[43mFrameParser\u001b[49m\u001b[43m(\u001b[49m\u001b[43mjson\u001b[49m\u001b[43m,\u001b[49m\u001b[43m \u001b[49m\u001b[38;5;241;43m*\u001b[39;49m\u001b[38;5;241;43m*\u001b[39;49m\u001b[43mkwargs\u001b[49m\u001b[43m)\u001b[49m\u001b[38;5;241;43m.\u001b[39;49m\u001b[43mparse\u001b[49m\u001b[43m(\u001b[49m\u001b[43m)\u001b[49m\n\u001b[1;32m   1053\u001b[0m \u001b[38;5;28;01mif\u001b[39;00m typ \u001b[38;5;241m==\u001b[39m \u001b[38;5;124m\"\u001b[39m\u001b[38;5;124mseries\u001b[39m\u001b[38;5;124m\"\u001b[39m \u001b[38;5;129;01mor\u001b[39;00m obj \u001b[38;5;129;01mis\u001b[39;00m \u001b[38;5;28;01mNone\u001b[39;00m:\n\u001b[1;32m   1054\u001b[0m     \u001b[38;5;28;01mif\u001b[39;00m \u001b[38;5;129;01mnot\u001b[39;00m \u001b[38;5;28misinstance\u001b[39m(dtype, \u001b[38;5;28mbool\u001b[39m):\n",
      "File \u001b[0;32m~/anaconda3/envs/greenIa/lib/python3.10/site-packages/pandas/io/json/_json.py:1187\u001b[0m, in \u001b[0;36mParser.parse\u001b[0;34m(self)\u001b[0m\n\u001b[1;32m   1185\u001b[0m \u001b[38;5;129m@final\u001b[39m\n\u001b[1;32m   1186\u001b[0m \u001b[38;5;28;01mdef\u001b[39;00m \u001b[38;5;21mparse\u001b[39m(\u001b[38;5;28mself\u001b[39m):\n\u001b[0;32m-> 1187\u001b[0m     \u001b[38;5;28;43mself\u001b[39;49m\u001b[38;5;241;43m.\u001b[39;49m\u001b[43m_parse\u001b[49m\u001b[43m(\u001b[49m\u001b[43m)\u001b[49m\n\u001b[1;32m   1189\u001b[0m     \u001b[38;5;28;01mif\u001b[39;00m \u001b[38;5;28mself\u001b[39m\u001b[38;5;241m.\u001b[39mobj \u001b[38;5;129;01mis\u001b[39;00m \u001b[38;5;28;01mNone\u001b[39;00m:\n\u001b[1;32m   1190\u001b[0m         \u001b[38;5;28;01mreturn\u001b[39;00m \u001b[38;5;28;01mNone\u001b[39;00m\n",
      "File \u001b[0;32m~/anaconda3/envs/greenIa/lib/python3.10/site-packages/pandas/io/json/_json.py:1403\u001b[0m, in \u001b[0;36mFrameParser._parse\u001b[0;34m(self)\u001b[0m\n\u001b[1;32m   1399\u001b[0m orient \u001b[38;5;241m=\u001b[39m \u001b[38;5;28mself\u001b[39m\u001b[38;5;241m.\u001b[39morient\n\u001b[1;32m   1401\u001b[0m \u001b[38;5;28;01mif\u001b[39;00m orient \u001b[38;5;241m==\u001b[39m \u001b[38;5;124m\"\u001b[39m\u001b[38;5;124mcolumns\u001b[39m\u001b[38;5;124m\"\u001b[39m:\n\u001b[1;32m   1402\u001b[0m     \u001b[38;5;28mself\u001b[39m\u001b[38;5;241m.\u001b[39mobj \u001b[38;5;241m=\u001b[39m DataFrame(\n\u001b[0;32m-> 1403\u001b[0m         \u001b[43mujson_loads\u001b[49m\u001b[43m(\u001b[49m\u001b[43mjson\u001b[49m\u001b[43m,\u001b[49m\u001b[43m \u001b[49m\u001b[43mprecise_float\u001b[49m\u001b[38;5;241;43m=\u001b[39;49m\u001b[38;5;28;43mself\u001b[39;49m\u001b[38;5;241;43m.\u001b[39;49m\u001b[43mprecise_float\u001b[49m\u001b[43m)\u001b[49m, dtype\u001b[38;5;241m=\u001b[39m\u001b[38;5;28;01mNone\u001b[39;00m\n\u001b[1;32m   1404\u001b[0m     )\n\u001b[1;32m   1405\u001b[0m \u001b[38;5;28;01melif\u001b[39;00m orient \u001b[38;5;241m==\u001b[39m \u001b[38;5;124m\"\u001b[39m\u001b[38;5;124msplit\u001b[39m\u001b[38;5;124m\"\u001b[39m:\n\u001b[1;32m   1406\u001b[0m     decoded \u001b[38;5;241m=\u001b[39m {\n\u001b[1;32m   1407\u001b[0m         \u001b[38;5;28mstr\u001b[39m(k): v\n\u001b[1;32m   1408\u001b[0m         \u001b[38;5;28;01mfor\u001b[39;00m k, v \u001b[38;5;129;01min\u001b[39;00m ujson_loads(json, precise_float\u001b[38;5;241m=\u001b[39m\u001b[38;5;28mself\u001b[39m\u001b[38;5;241m.\u001b[39mprecise_float)\u001b[38;5;241m.\u001b[39mitems()\n\u001b[1;32m   1409\u001b[0m     }\n",
      "\u001b[0;31mValueError\u001b[0m: Value is too big!"
     ]
    }
   ],
   "source": [
    "df = pd.read_json(jsonl_sample, lines=True)\n",
    "df.head(60)"
   ]
  },
  {
   "cell_type": "code",
   "execution_count": null,
   "metadata": {},
   "outputs": [],
   "source": []
  }
 ],
 "metadata": {
  "kernelspec": {
   "display_name": "greenIa",
   "language": "python",
   "name": "python3"
  },
  "language_info": {
   "codemirror_mode": {
    "name": "ipython",
    "version": 3
   },
   "file_extension": ".py",
   "mimetype": "text/x-python",
   "name": "python",
   "nbconvert_exporter": "python",
   "pygments_lexer": "ipython3",
   "version": "3.10.14"
  }
 },
 "nbformat": 4,
 "nbformat_minor": 2
}
