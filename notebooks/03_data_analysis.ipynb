{
 "cells": [
  {
   "cell_type": "code",
   "execution_count": 73,
   "metadata": {},
   "outputs": [],
   "source": [
    "import pandas as pd\n",
    "import numpy as np\n",
    "import json\n",
    "import os\n",
    "import warnings\n",
    "from datetime import datetime \n",
    "from collections import OrderedDict\n",
    "from collections import Counter\n",
    "import plotly.express as px\n",
    "from collections import defaultdict\n",
    "import plotly.graph_objects as go\n",
    "\n",
    "\n",
    "pd.set_option('display.max_rows', 100)\n",
    "pd.set_option('display.max_colwidth', None)\n",
    "\n",
    "warnings.filterwarnings(\"ignore\", category=pd.errors.DtypeWarning)"
   ]
  },
  {
   "cell_type": "code",
   "execution_count": 74,
   "metadata": {},
   "outputs": [],
   "source": [
    "chunk_size = 1000\n",
    "file_id = '02'\n",
    "project_path = \"/home/carolus/Documents/school/green_ia/\" \n",
    "jsonl_02 = project_path + 'data/' + file_id + '_openfoodfacts_02.jsonl' \n",
    "jsonl_sample = project_path + 'data/' + file_id + \"_openfoodfacts_sample.jsonl\"\n",
    "# récupérer la date du jour \n",
    "current_date_time = datetime.now()\n",
    "date_format = \"%d/%m/%Y %H:%M:%S.%f\"\n",
    "start_date = current_date_time.strftime(\"%d/%m/%Y %H:%M:%S.%f\")[:-3]\n",
    "date_code = current_date_time.strftime('%d%m%Y%H%M%S') + f\"{current_date_time.microsecond // 1000:03d}\""
   ]
  },
  {
   "cell_type": "code",
   "execution_count": 75,
   "metadata": {},
   "outputs": [],
   "source": [
    "def add_logs(logData):\n",
    "    print(logData)\n",
    "    #with open(f\"{project_path}logs/03_analysis_{date_code}_logs.txt\", \"a\") as logFile:\n",
    "     #   logFile.write(f'{logData}\\n')"
   ]
  },
  {
   "cell_type": "code",
   "execution_count": 76,
   "metadata": {},
   "outputs": [
    {
     "name": "stdout",
     "output_type": "stream",
     "text": [
      "jsonl format valid: /home/carolus/Documents/school/green_ia/data/02_test_03.jsonl\n"
     ]
    }
   ],
   "source": [
    "# verifie la validité de la structure du fichier jsonl\n",
    "with open(jsonl_02, 'r') as file:\n",
    "    for line in file:\n",
    "        try:\n",
    "            json_object = json.loads(line)\n",
    "        except json.JSONDecodeError as e:\n",
    "            add_logs(f\"ERROR decoding jsonl: {e}\")\n",
    "\n",
    "add_logs(f\"jsonl format valid: {jsonl_02}\")"
   ]
  },
  {
   "cell_type": "markdown",
   "metadata": {},
   "source": [
    "# COUNTRIES:"
   ]
  },
  {
   "cell_type": "code",
   "execution_count": 77,
   "metadata": {},
   "outputs": [
    {
     "name": "stdout",
     "output_type": "stream",
     "text": [
      "united states: 18.78%\n",
      "united kingdom: 3.15%\n",
      "far: 8.32%\n",
      "germany: 7.69%\n",
      "france: 30.23%\n",
      "spain: 8.80%\n",
      "world: 1.98%\n",
      "belgium: 2.17%\n",
      "australia: 1.17%\n",
      "italy: 6.84%\n",
      "pakistan: 0.00%\n",
      "bulgaria: 0.09%\n",
      "chile: 0.01%\n",
      "thailand: 0.06%\n",
      "canada: 2.47%\n",
      "kuwait: 0.00%\n",
      "switzerland: 2.43%\n",
      "finland: 0.08%\n",
      "hungary: 0.04%\n",
      "french polynesia: 0.01%\n",
      "poland: 0.24%\n",
      "romania: 0.10%\n",
      "french guiana: 0.00%\n",
      "montenegro: 0.00%\n",
      "slovenia: 0.01%\n",
      "ireland: 1.59%\n",
      "danemark: 0.00%\n",
      "mexico: 0.13%\n",
      "sweden: 0.13%\n",
      "austria: 0.10%\n",
      "serbia: 0.02%\n",
      "portugal: 0.10%\n",
      "brazil: 0.38%\n",
      "india: 0.11%\n",
      ": 0.09%\n",
      "netherlands: 0.41%\n",
      "none: 0.38%\n",
      "czech republic: 0.09%\n",
      "malaysia: 0.03%\n",
      "monaco: 0.00%\n",
      "russia: 0.27%\n",
      "bolivia: 0.04%\n",
      "moldova: 0.00%\n",
      "saudi arabia: 0.06%\n",
      "egypt: 0.01%\n",
      "singapore: 0.08%\n",
      "norway: 0.09%\n",
      "denmark: 0.08%\n",
      "kosovo: 0.00%\n",
      "colombia: 0.01%\n",
      "israel: 0.01%\n",
      "morocco: 0.04%\n",
      "new zealand: 0.08%\n",
      "croatia: 0.03%\n",
      "slovakia: 0.03%\n",
      "lithuania: 0.07%\n",
      "luxembourg: 0.03%\n",
      "tunisia: 0.01%\n",
      "philippines: 0.05%\n",
      "cambodia: 0.00%\n",
      "reunion: 0.03%\n",
      "argentina: 0.06%\n",
      "turkey: 0.02%\n",
      "hong kong: 0.01%\n",
      "united arab emirates: 0.02%\n",
      "indonesia: 0.06%\n",
      "algeria: 0.02%\n",
      "saint pierre and miquelon: 0.00%\n",
      "japan: 0.20%\n",
      "afghanistan: 0.00%\n",
      "south africa: 0.05%\n",
      "iceland: 0.00%\n",
      "europe: 0.01%\n",
      "peru: 0.01%\n",
      "cyprus: 0.01%\n",
      "bosnia and herzegovina: 0.00%\n",
      "yugoslavia: 0.00%\n",
      "albania: 0.00%\n",
      "eswatini: 0.00%\n",
      "north macedonia: 0.00%\n",
      "paraguay: 0.01%\n",
      "uruguay: 0.01%\n",
      "central african republic: 0.00%\n",
      "greece: 0.02%\n",
      "puerto rico: 0.01%\n",
      "vietnam: 0.00%\n",
      "ecuador: 0.00%\n",
      "senegal: 0.00%\n",
      "latvia: 0.00%\n",
      "democratic republic of the congo: 0.00%\n",
      "england: 0.00%\n",
      "dominican republic: 0.00%\n",
      "salvador: 0.01%\n",
      "nicaragua: 0.00%\n",
      "venezuela: 0.00%\n",
      "jordan: 0.00%\n",
      "china: 0.01%\n",
      "estonia: 0.01%\n",
      "georgia: 0.01%\n",
      "yemen: 0.00%\n",
      "cameroon: 0.00%\n",
      "guatemala: 0.00%\n",
      "trinidad and tobago: 0.00%\n",
      "jamaica: 0.00%\n",
      "costa rica: 0.01%\n",
      "taiwan: 0.00%\n",
      "honduras: 0.00%\n",
      "panama: 0.01%\n",
      "armenia: 0.00%\n",
      "iraqi kurdistan: 0.00%\n",
      "aruba: 0.00%\n",
      "ukraine: 0.01%\n",
      "cuba: 0.00%\n",
      "cote d'ivoire: 0.00%\n",
      "zambia: 0.00%\n",
      "saint martin: 0.00%\n",
      "belarus: 0.00%\n",
      "south korea: 0.00%\n",
      "france  switzerland  germany: 0.00%\n",
      "ivory coast: 0.00%\n",
      "malta: 0.00%\n",
      "togo: 0.00%\n",
      "uzbekistan: 0.00%\n",
      "mozambique: 0.00%\n",
      "burkina faso: 0.00%\n",
      "mauritius: 0.00%\n",
      "andorra: 0.00%\n",
      "botswana: 0.00%\n",
      "suriname: 0.00%\n",
      "mauritania: 0.00%\n",
      "lebanon: 0.01%\n",
      "republic of ireland: 0.00%\n",
      "kazakhstan: 0.00%\n",
      "martinique: 0.00%\n",
      "sri lanka: 0.00%\n",
      "iraq: 0.00%\n",
      "gabon: 0.00%\n",
      "الكويت: 0.00%\n",
      "السعودية: 0.00%\n",
      "oman: 0.00%\n",
      "unknown: 0.00%\n",
      "kyrgyzstan: 0.00%\n",
      "spanish: 0.00%\n",
      "ประเทศเวียดนาม: 0.00%\n",
      "curaçao: 0.00%\n",
      "somalia: 0.00%\n",
      "people's republic of china: 0.00%\n",
      "azerbaijan: 0.00%\n",
      "niger: 0.00%\n",
      "qatar: 0.02%\n",
      "nepal: 0.00%\n",
      "bhutan: 0.00%\n",
      "haiti: 0.00%\n",
      "cape verde: 0.00%\n",
      "el salvador: 0.00%\n",
      "sudan: 0.00%\n",
      "ussr: 0.00%\n",
      "vanuatu: 0.00%\n",
      "mongolia: 0.00%\n",
      "montserrat: 0.00%\n",
      "iran: 0.00%\n",
      "palestine: 0.01%\n",
      "brunei: 0.00%\n",
      "?: 0.00%\n",
      "libya: 0.00%\n",
      "sint maarten: 0.00%\n",
      "saint lucia: 0.00%\n",
      "францыя: 0.00%\n",
      "guyana: 0.00%\n",
      "bahamas: 0.00%\n",
      "mali: 0.00%\n",
      "caribbean netherlands: 0.00%\n",
      "maldives: 0.00%\n",
      "ethiopia: 0.00%\n",
      "macau: 0.00%\n",
      "myanmar: 0.00%\n",
      "republic of the congo: 0.00%\n",
      "madagascar: 0.00%\n",
      "barbados: 0.00%\n",
      "bahrain: 0.00%\n",
      "سلطنة عمان: 0.00%\n",
      "central america: 0.00%\n",
      "ghana: 0.00%\n",
      "benin: 0.00%\n",
      "nigeria: 0.00%\n",
      "san marino: 0.00%\n"
     ]
    }
   ],
   "source": [
    "# retourne une liste des pays présents dans le fichier\n",
    "def extract_countries_from_jsonl(file_path):\n",
    "    countries = []\n",
    "    with open(file_path, 'r', encoding='utf-8') as file:\n",
    "        for line in file:\n",
    "            try:\n",
    "                record = json.loads(line)\n",
    "                country = record.get('countries')\n",
    "                if country is not None:\n",
    "                    countries.append(country)\n",
    "            except json.JSONDecodeError:\n",
    "                print(f\"WARNING line: {line} in {file_path}\")    \n",
    "    return countries\n",
    "countries_list = extract_countries_from_jsonl(jsonl_02)\n",
    "\n",
    "separated_countries = []\n",
    "for entry in countries_list:\n",
    "    countries = [country.strip() for country in entry.split(',')]\n",
    "    separated_countries.extend(countries)\n",
    "\n",
    "country_counts = Counter(separated_countries)\n",
    "total_countries = sum(country_counts.values())\n",
    "\n",
    "data_graph_countries = []\n",
    "for country, count in country_counts.items():\n",
    "    percentage = (count / total_countries) * 100\n",
    "    print(f\"{country}: {percentage:.2f}%\")\n",
    "    data_graph_countries.append({'countries': country, 'percentage': percentage})"
   ]
  },
  {
   "cell_type": "code",
   "execution_count": 78,
   "metadata": {},
   "outputs": [
    {
     "data": {
      "application/vnd.plotly.v1+json": {
       "config": {
        "plotlyServerURL": "https://plot.ly"
       },
       "data": [
        {
         "branchvalues": "total",
         "customdata": [
          [
           0.09383017523472266
          ],
          [
           0.00019629743772954533
          ],
          [
           0.004122246192320452
          ],
          [
           0.0031407590036727252
          ],
          [
           0.023163097652086347
          ],
          [
           0.004122246192320452
          ],
          [
           0.056141067190649964
          ],
          [
           0.0009814871886477266
          ],
          [
           0.00019629743772954533
          ],
          [
           1.1679697544907945
          ],
          [
           0.09854131374023173
          ],
          [
           0.00039259487545909065
          ],
          [
           0.0015703795018363626
          ],
          [
           0.00039259487545909065
          ],
          [
           0.00039259487545909065
          ],
          [
           0.004711138505509088
          ],
          [
           2.168497794598287
          ],
          [
           0.00019629743772954533
          ],
          [
           0.00019629743772954533
          ],
          [
           0.04298913886277043
          ],
          [
           0.004711138505509088
          ],
          [
           0.00019629743772954533
          ],
          [
           0.37806886506710424
          ],
          [
           0.00294446156594318
          ],
          [
           0.09127830854423857
          ],
          [
           0.0009814871886477266
          ],
          [
           0.0017666769395659075
          ],
          [
           0.0015703795018363626
          ],
          [
           2.4731514179545413
          ],
          [
           0.00019629743772954533
          ],
          [
           0.00019629743772954533
          ],
          [
           0.00019629743772954533
          ],
          [
           0.00019629743772954533
          ],
          [
           0.014329712954256807
          ],
          [
           0.011385251388313627
          ],
          [
           0.010207466761936356
          ],
          [
           0.005300030818697723
          ],
          [
           0.0027481641282136346
          ],
          [
           0.028855723346243162
          ],
          [
           0.0007851897509181813
          ],
          [
           0.00019629743772954533
          ],
          [
           0.008244492384640903
          ],
          [
           0.08970792904240223
          ],
          [
           0.0027481641282136346
          ],
          [
           0.001177784626377272
          ],
          [
           0.07989305715592494
          ],
          [
           0.002551866690484089
          ],
          [
           0.0039259487545909065
          ],
          [
           0.012170441139231809
          ],
          [
           0.000588892313188636
          ],
          [
           0.002551866690484089
          ],
          [
           0.006477815445074996
          ],
          [
           0.00019629743772954533
          ],
          [
           0.0007851897509181813
          ],
          [
           0.008637087260099994
          ],
          [
           8.324385441796828
          ],
          [
           0.07832267765408858
          ],
          [
           30.23490914373095
          ],
          [
           0.00039259487545909065
          ],
          [
           0.004318543630049997
          ],
          [
           0.009225979573288629
          ],
          [
           0.00019629743772954533
          ],
          [
           0.006477815445074996
          ],
          [
           7.688774338428561
          ],
          [
           0.00019629743772954533
          ],
          [
           0.021003825837061348
          ],
          [
           0.003533353879131815
          ],
          [
           0.000588892313188636
          ],
          [
           0.00019629743772954533
          ],
          [
           0.0031407590036727252
          ],
          [
           0.008048194946911358
          ],
          [
           0.03788540548180224
          ],
          [
           0.0007851897509181813
          ],
          [
           0.10717840100033175
          ],
          [
           0.06477815445074996
          ],
          [
           0.0021592718150249984
          ],
          [
           0.004907435943238633
          ],
          [
           0.00039259487545909065
          ],
          [
           1.591775922548883
          ],
          [
           0.010207466761936356
          ],
          [
           6.837824945870982
          ],
          [
           0.003533353879131815
          ],
          [
           0.00039259487545909065
          ],
          [
           0.20002708904640668
          ],
          [
           0.0015703795018363626
          ],
          [
           0.000588892313188636
          ],
          [
           0.00039259487545909065
          ],
          [
           0.0013740820641068173
          ],
          [
           0.00039259487545909065
          ],
          [
           0.0033370564414022708
          ],
          [
           0.0062815180073454505
          ],
          [
           0.0009814871886477266
          ],
          [
           0.06615223651485677
          ],
          [
           0.030426102848079527
          ],
          [
           0.00039259487545909065
          ],
          [
           0.00019629743772954533
          ],
          [
           0.027089046406677256
          ],
          [
           0.0019629743772954533
          ],
          [
           0.000588892313188636
          ],
          [
           0.0021592718150249984
          ],
          [
           0.00039259487545909065
          ],
          [
           0.000588892313188636
          ],
          [
           0.002551866690484089
          ],
          [
           0.13132298584106583
          ],
          [
           0.003729651316861361
          ],
          [
           0.0017666769395659075
          ],
          [
           0.00039259487545909065
          ],
          [
           0.003729651316861361
          ],
          [
           0.0007851897509181813
          ],
          [
           0.036118728542236335
          ],
          [
           0.0007851897509181813
          ],
          [
           0.00019629743772954533
          ],
          [
           0.00019629743772954533
          ],
          [
           0.41418759360934065
          ],
          [
           0.08048194946911358
          ],
          [
           0.0021592718150249984
          ],
          [
           0.00039259487545909065
          ],
          [
           0.00019629743772954533
          ],
          [
           0.37630218812753846
          ],
          [
           0.0019629743772954533
          ],
          [
           0.09186720085742721
          ],
          [
           0.0007851897509181813
          ],
          [
           0.002551866690484089
          ],
          [
           0.008440789822370448
          ],
          [
           0.011188953950584082
          ],
          [
           0.011188953950584082
          ],
          [
           0.00019629743772954533
          ],
          [
           0.008244492384640903
          ],
          [
           0.05221511843605906
          ],
          [
           0.24242733559598847
          ],
          [
           0.10462653430984765
          ],
          [
           0.005692625694156813
          ],
          [
           0.02355569252754544
          ],
          [
           0.00019629743772954533
          ],
          [
           0.00019629743772954533
          ],
          [
           0.033763159289481794
          ],
          [
           0.09598944704974766
          ],
          [
           0.27049786919131347
          ],
          [
           0.00019629743772954533
          ],
          [
           0.000588892313188636
          ],
          [
           0.000588892313188636
          ],
          [
           0.007851897509181813
          ],
          [
           0.00019629743772954533
          ],
          [
           0.05712255437929769
          ],
          [
           0.003729651316861361
          ],
          [
           0.021396420712520438
          ],
          [
           0.07616340583906359
          ],
          [
           0.00019629743772954533
          ],
          [
           0.029052020783972708
          ],
          [
           0.012366738576961354
          ],
          [
           0.0015703795018363626
          ],
          [
           0.04573730299098406
          ],
          [
           0.0019629743772954533
          ],
          [
           8.803547487294647
          ],
          [
           0.00019629743772954533
          ],
          [
           0.0027481641282136346
          ],
          [
           0.00019629743772954533
          ],
          [
           0.0039259487545909065
          ],
          [
           0.12621925246009766
          ],
          [
           2.431340063718148
          ],
          [
           0.004514841067779542
          ],
          [
           0.05712255437929769
          ],
          [
           0.0007851897509181813
          ],
          [
           0.00019629743772954533
          ],
          [
           0.012563036014690901
          ],
          [
           0.01629268733155226
          ],
          [
           0.005103733380968178
          ],
          [
           0.01766676939565908
          ],
          [
           3.147433116555529
          ],
          [
           18.777420298332846
          ],
          [
           0.0015703795018363626
          ],
          [
           0.00883338469782954
          ],
          [
           0.00019629743772954533
          ],
          [
           0.0009814871886477266
          ],
          [
           0.00039259487545909065
          ],
          [
           0.00294446156594318
          ],
          [
           0.001177784626377272
          ],
          [
           1.9824078236306781
          ],
          [
           0.00039259487545909065
          ],
          [
           0.00019629743772954533
          ],
          [
           0.00019629743772954533
          ],
          [
           0.0009814871886477266
          ],
          [
           0.0009814871886477266
          ],
          [
           0.00039259487545909065
          ],
          [
           0.00019629743772954533
          ],
          [
           0.00019629743772954533
          ]
         ],
         "domain": {
          "x": [
           0,
           1
          ],
          "y": [
           0,
           1
          ]
         },
         "hovertemplate": "labels=%{label}<br>percentage_sum=%{value}<br>parent=%{parent}<br>id=%{id}<br>percentage=%{color}<extra></extra>",
         "ids": [
          "",
          "?",
          "afghanistan",
          "albania",
          "algeria",
          "andorra",
          "argentina",
          "armenia",
          "aruba",
          "australia",
          "austria",
          "azerbaijan",
          "bahamas",
          "bahrain",
          "barbados",
          "belarus",
          "belgium",
          "benin",
          "bhutan",
          "bolivia",
          "bosnia and herzegovina",
          "botswana",
          "brazil",
          "brunei",
          "bulgaria",
          "burkina faso",
          "cambodia",
          "cameroon",
          "canada",
          "cape verde",
          "caribbean netherlands",
          "central african republic",
          "central america",
          "chile",
          "china",
          "colombia",
          "costa rica",
          "cote d'ivoire",
          "croatia",
          "cuba",
          "curaçao",
          "cyprus",
          "czech republic",
          "danemark",
          "democratic republic of the congo",
          "denmark",
          "dominican republic",
          "ecuador",
          "egypt",
          "el salvador",
          "england",
          "estonia",
          "eswatini",
          "ethiopia",
          "europe",
          "far",
          "finland",
          "france",
          "france  switzerland  germany",
          "french guiana",
          "french polynesia",
          "gabon",
          "georgia",
          "germany",
          "ghana",
          "greece",
          "guatemala",
          "guyana",
          "haiti",
          "honduras",
          "hong kong",
          "hungary",
          "iceland",
          "india",
          "indonesia",
          "iran",
          "iraq",
          "iraqi kurdistan",
          "ireland",
          "israel",
          "italy",
          "ivory coast",
          "jamaica",
          "japan",
          "jordan",
          "kazakhstan",
          "kosovo",
          "kuwait",
          "kyrgyzstan",
          "latvia",
          "lebanon",
          "libya",
          "lithuania",
          "luxembourg",
          "macau",
          "madagascar",
          "malaysia",
          "maldives",
          "mali",
          "malta",
          "martinique",
          "mauritania",
          "mauritius",
          "mexico",
          "moldova",
          "monaco",
          "mongolia",
          "montenegro",
          "montserrat",
          "morocco",
          "mozambique",
          "myanmar",
          "nepal",
          "netherlands",
          "new zealand",
          "nicaragua",
          "niger",
          "nigeria",
          "none",
          "north macedonia",
          "norway",
          "oman",
          "pakistan",
          "palestine",
          "panama",
          "paraguay",
          "people's republic of china",
          "peru",
          "philippines",
          "poland",
          "portugal",
          "puerto rico",
          "qatar",
          "republic of ireland",
          "republic of the congo",
          "reunion",
          "romania",
          "russia",
          "saint lucia",
          "saint martin",
          "saint pierre and miquelon",
          "salvador",
          "san marino",
          "saudi arabia",
          "senegal",
          "serbia",
          "singapore",
          "sint maarten",
          "slovakia",
          "slovenia",
          "somalia",
          "south africa",
          "south korea",
          "spain",
          "spanish",
          "sri lanka",
          "sudan",
          "suriname",
          "sweden",
          "switzerland",
          "taiwan",
          "thailand",
          "togo",
          "trinidad and tobago",
          "tunisia",
          "turkey",
          "ukraine",
          "united arab emirates",
          "united kingdom",
          "united states",
          "unknown",
          "uruguay",
          "ussr",
          "uzbekistan",
          "vanuatu",
          "venezuela",
          "vietnam",
          "world",
          "yemen",
          "yugoslavia",
          "zambia",
          "францыя",
          "السعودية",
          "الكويت",
          "سلطنة عمان",
          "ประเทศเวียดนาม"
         ],
         "labels": [
          "",
          "?",
          "afghanistan",
          "albania",
          "algeria",
          "andorra",
          "argentina",
          "armenia",
          "aruba",
          "australia",
          "austria",
          "azerbaijan",
          "bahamas",
          "bahrain",
          "barbados",
          "belarus",
          "belgium",
          "benin",
          "bhutan",
          "bolivia",
          "bosnia and herzegovina",
          "botswana",
          "brazil",
          "brunei",
          "bulgaria",
          "burkina faso",
          "cambodia",
          "cameroon",
          "canada",
          "cape verde",
          "caribbean netherlands",
          "central african republic",
          "central america",
          "chile",
          "china",
          "colombia",
          "costa rica",
          "cote d'ivoire",
          "croatia",
          "cuba",
          "curaçao",
          "cyprus",
          "czech republic",
          "danemark",
          "democratic republic of the congo",
          "denmark",
          "dominican republic",
          "ecuador",
          "egypt",
          "el salvador",
          "england",
          "estonia",
          "eswatini",
          "ethiopia",
          "europe",
          "far",
          "finland",
          "france",
          "france  switzerland  germany",
          "french guiana",
          "french polynesia",
          "gabon",
          "georgia",
          "germany",
          "ghana",
          "greece",
          "guatemala",
          "guyana",
          "haiti",
          "honduras",
          "hong kong",
          "hungary",
          "iceland",
          "india",
          "indonesia",
          "iran",
          "iraq",
          "iraqi kurdistan",
          "ireland",
          "israel",
          "italy",
          "ivory coast",
          "jamaica",
          "japan",
          "jordan",
          "kazakhstan",
          "kosovo",
          "kuwait",
          "kyrgyzstan",
          "latvia",
          "lebanon",
          "libya",
          "lithuania",
          "luxembourg",
          "macau",
          "madagascar",
          "malaysia",
          "maldives",
          "mali",
          "malta",
          "martinique",
          "mauritania",
          "mauritius",
          "mexico",
          "moldova",
          "monaco",
          "mongolia",
          "montenegro",
          "montserrat",
          "morocco",
          "mozambique",
          "myanmar",
          "nepal",
          "netherlands",
          "new zealand",
          "nicaragua",
          "niger",
          "nigeria",
          "none",
          "north macedonia",
          "norway",
          "oman",
          "pakistan",
          "palestine",
          "panama",
          "paraguay",
          "people's republic of china",
          "peru",
          "philippines",
          "poland",
          "portugal",
          "puerto rico",
          "qatar",
          "republic of ireland",
          "republic of the congo",
          "reunion",
          "romania",
          "russia",
          "saint lucia",
          "saint martin",
          "saint pierre and miquelon",
          "salvador",
          "san marino",
          "saudi arabia",
          "senegal",
          "serbia",
          "singapore",
          "sint maarten",
          "slovakia",
          "slovenia",
          "somalia",
          "south africa",
          "south korea",
          "spain",
          "spanish",
          "sri lanka",
          "sudan",
          "suriname",
          "sweden",
          "switzerland",
          "taiwan",
          "thailand",
          "togo",
          "trinidad and tobago",
          "tunisia",
          "turkey",
          "ukraine",
          "united arab emirates",
          "united kingdom",
          "united states",
          "unknown",
          "uruguay",
          "ussr",
          "uzbekistan",
          "vanuatu",
          "venezuela",
          "vietnam",
          "world",
          "yemen",
          "yugoslavia",
          "zambia",
          "францыя",
          "السعودية",
          "الكويت",
          "سلطنة عمان",
          "ประเทศเวียดนาม"
         ],
         "marker": {
          "coloraxis": "coloraxis",
          "colors": [
           0.09383017523472266,
           0.00019629743772954533,
           0.004122246192320452,
           0.0031407590036727252,
           0.023163097652086347,
           0.004122246192320452,
           0.056141067190649964,
           0.0009814871886477266,
           0.00019629743772954533,
           1.1679697544907945,
           0.09854131374023173,
           0.00039259487545909065,
           0.0015703795018363626,
           0.00039259487545909065,
           0.00039259487545909065,
           0.004711138505509088,
           2.168497794598287,
           0.00019629743772954533,
           0.00019629743772954533,
           0.04298913886277043,
           0.004711138505509088,
           0.00019629743772954533,
           0.37806886506710424,
           0.00294446156594318,
           0.09127830854423857,
           0.0009814871886477266,
           0.0017666769395659075,
           0.0015703795018363626,
           2.4731514179545413,
           0.00019629743772954533,
           0.00019629743772954533,
           0.00019629743772954533,
           0.00019629743772954533,
           0.014329712954256807,
           0.011385251388313627,
           0.010207466761936356,
           0.005300030818697723,
           0.0027481641282136346,
           0.028855723346243162,
           0.0007851897509181813,
           0.00019629743772954533,
           0.008244492384640903,
           0.08970792904240223,
           0.0027481641282136346,
           0.001177784626377272,
           0.07989305715592494,
           0.002551866690484089,
           0.0039259487545909065,
           0.012170441139231809,
           0.000588892313188636,
           0.002551866690484089,
           0.006477815445074996,
           0.00019629743772954533,
           0.0007851897509181813,
           0.008637087260099994,
           8.324385441796828,
           0.07832267765408858,
           30.23490914373095,
           0.00039259487545909065,
           0.004318543630049997,
           0.009225979573288629,
           0.00019629743772954533,
           0.006477815445074996,
           7.688774338428561,
           0.00019629743772954533,
           0.021003825837061348,
           0.003533353879131815,
           0.000588892313188636,
           0.00019629743772954533,
           0.0031407590036727252,
           0.008048194946911358,
           0.03788540548180224,
           0.0007851897509181813,
           0.10717840100033175,
           0.06477815445074996,
           0.0021592718150249984,
           0.004907435943238633,
           0.00039259487545909065,
           1.591775922548883,
           0.010207466761936356,
           6.837824945870982,
           0.003533353879131815,
           0.00039259487545909065,
           0.20002708904640668,
           0.0015703795018363626,
           0.000588892313188636,
           0.00039259487545909065,
           0.0013740820641068173,
           0.00039259487545909065,
           0.0033370564414022708,
           0.0062815180073454505,
           0.0009814871886477266,
           0.06615223651485677,
           0.030426102848079527,
           0.00039259487545909065,
           0.00019629743772954533,
           0.027089046406677256,
           0.0019629743772954533,
           0.000588892313188636,
           0.0021592718150249984,
           0.00039259487545909065,
           0.000588892313188636,
           0.002551866690484089,
           0.13132298584106583,
           0.003729651316861361,
           0.0017666769395659075,
           0.00039259487545909065,
           0.003729651316861361,
           0.0007851897509181813,
           0.036118728542236335,
           0.0007851897509181813,
           0.00019629743772954533,
           0.00019629743772954533,
           0.41418759360934065,
           0.08048194946911358,
           0.0021592718150249984,
           0.00039259487545909065,
           0.00019629743772954533,
           0.37630218812753846,
           0.0019629743772954533,
           0.09186720085742721,
           0.0007851897509181813,
           0.002551866690484089,
           0.008440789822370448,
           0.011188953950584082,
           0.011188953950584082,
           0.00019629743772954533,
           0.008244492384640903,
           0.05221511843605906,
           0.24242733559598847,
           0.10462653430984765,
           0.005692625694156813,
           0.02355569252754544,
           0.00019629743772954533,
           0.00019629743772954533,
           0.033763159289481794,
           0.09598944704974766,
           0.27049786919131347,
           0.00019629743772954533,
           0.000588892313188636,
           0.000588892313188636,
           0.007851897509181813,
           0.00019629743772954533,
           0.05712255437929769,
           0.003729651316861361,
           0.021396420712520438,
           0.07616340583906359,
           0.00019629743772954533,
           0.029052020783972708,
           0.012366738576961354,
           0.0015703795018363626,
           0.04573730299098406,
           0.0019629743772954533,
           8.803547487294647,
           0.00019629743772954533,
           0.0027481641282136346,
           0.00019629743772954533,
           0.0039259487545909065,
           0.12621925246009766,
           2.431340063718148,
           0.004514841067779542,
           0.05712255437929769,
           0.0007851897509181813,
           0.00019629743772954533,
           0.012563036014690901,
           0.01629268733155226,
           0.005103733380968178,
           0.01766676939565908,
           3.147433116555529,
           18.777420298332846,
           0.0015703795018363626,
           0.00883338469782954,
           0.00019629743772954533,
           0.0009814871886477266,
           0.00039259487545909065,
           0.00294446156594318,
           0.001177784626377272,
           1.9824078236306781,
           0.00039259487545909065,
           0.00019629743772954533,
           0.00019629743772954533,
           0.0009814871886477266,
           0.0009814871886477266,
           0.00039259487545909065,
           0.00019629743772954533,
           0.00019629743772954533
          ]
         },
         "name": "",
         "parents": [
          "",
          "",
          "",
          "",
          "",
          "",
          "",
          "",
          "",
          "",
          "",
          "",
          "",
          "",
          "",
          "",
          "",
          "",
          "",
          "",
          "",
          "",
          "",
          "",
          "",
          "",
          "",
          "",
          "",
          "",
          "",
          "",
          "",
          "",
          "",
          "",
          "",
          "",
          "",
          "",
          "",
          "",
          "",
          "",
          "",
          "",
          "",
          "",
          "",
          "",
          "",
          "",
          "",
          "",
          "",
          "",
          "",
          "",
          "",
          "",
          "",
          "",
          "",
          "",
          "",
          "",
          "",
          "",
          "",
          "",
          "",
          "",
          "",
          "",
          "",
          "",
          "",
          "",
          "",
          "",
          "",
          "",
          "",
          "",
          "",
          "",
          "",
          "",
          "",
          "",
          "",
          "",
          "",
          "",
          "",
          "",
          "",
          "",
          "",
          "",
          "",
          "",
          "",
          "",
          "",
          "",
          "",
          "",
          "",
          "",
          "",
          "",
          "",
          "",
          "",
          "",
          "",
          "",
          "",
          "",
          "",
          "",
          "",
          "",
          "",
          "",
          "",
          "",
          "",
          "",
          "",
          "",
          "",
          "",
          "",
          "",
          "",
          "",
          "",
          "",
          "",
          "",
          "",
          "",
          "",
          "",
          "",
          "",
          "",
          "",
          "",
          "",
          "",
          "",
          "",
          "",
          "",
          "",
          "",
          "",
          "",
          "",
          "",
          "",
          "",
          "",
          "",
          "",
          "",
          "",
          "",
          "",
          "",
          "",
          "",
          "",
          "",
          "",
          "",
          "",
          "",
          "",
          "",
          "",
          "",
          ""
         ],
         "type": "treemap",
         "values": [
          0.09383017523472266,
          0.00019629743772954533,
          0.004122246192320452,
          0.0031407590036727252,
          0.023163097652086347,
          0.004122246192320452,
          0.056141067190649964,
          0.0009814871886477266,
          0.00019629743772954533,
          1.1679697544907945,
          0.09854131374023174,
          0.00039259487545909065,
          0.0015703795018363626,
          0.00039259487545909065,
          0.00039259487545909065,
          0.004711138505509088,
          2.168497794598287,
          0.00019629743772954533,
          0.00019629743772954533,
          0.04298913886277043,
          0.004711138505509088,
          0.00019629743772954533,
          0.37806886506710424,
          0.00294446156594318,
          0.09127830854423857,
          0.0009814871886477266,
          0.0017666769395659077,
          0.0015703795018363626,
          2.4731514179545413,
          0.00019629743772954533,
          0.00019629743772954533,
          0.00019629743772954533,
          0.00019629743772954533,
          0.014329712954256807,
          0.011385251388313629,
          0.010207466761936356,
          0.005300030818697723,
          0.0027481641282136346,
          0.028855723346243162,
          0.0007851897509181813,
          0.00019629743772954533,
          0.008244492384640903,
          0.08970792904240221,
          0.0027481641282136346,
          0.001177784626377272,
          0.07989305715592494,
          0.002551866690484089,
          0.0039259487545909065,
          0.012170441139231809,
          0.000588892313188636,
          0.002551866690484089,
          0.006477815445074996,
          0.00019629743772954533,
          0.0007851897509181813,
          0.008637087260099994,
          8.324385441796828,
          0.07832267765408858,
          30.23490914373095,
          0.00039259487545909065,
          0.004318543630049997,
          0.009225979573288629,
          0.00019629743772954533,
          0.006477815445074996,
          7.688774338428561,
          0.00019629743772954533,
          0.021003825837061348,
          0.0035333538791318155,
          0.000588892313188636,
          0.00019629743772954533,
          0.0031407590036727252,
          0.008048194946911358,
          0.03788540548180224,
          0.0007851897509181813,
          0.10717840100033175,
          0.06477815445074996,
          0.0021592718150249984,
          0.004907435943238633,
          0.00039259487545909065,
          1.591775922548883,
          0.010207466761936356,
          6.837824945870982,
          0.0035333538791318155,
          0.00039259487545909065,
          0.20002708904640668,
          0.0015703795018363626,
          0.000588892313188636,
          0.00039259487545909065,
          0.0013740820641068173,
          0.00039259487545909065,
          0.0033370564414022703,
          0.0062815180073454505,
          0.0009814871886477266,
          0.06615223651485677,
          0.030426102848079527,
          0.00039259487545909065,
          0.00019629743772954533,
          0.027089046406677256,
          0.0019629743772954533,
          0.000588892313188636,
          0.0021592718150249984,
          0.00039259487545909065,
          0.000588892313188636,
          0.002551866690484089,
          0.13132298584106583,
          0.003729651316861361,
          0.0017666769395659077,
          0.00039259487545909065,
          0.003729651316861361,
          0.0007851897509181813,
          0.036118728542236335,
          0.0007851897509181813,
          0.00019629743772954533,
          0.00019629743772954533,
          0.41418759360934065,
          0.08048194946911358,
          0.0021592718150249984,
          0.00039259487545909065,
          0.00019629743772954533,
          0.3763021881275384,
          0.0019629743772954533,
          0.09186720085742721,
          0.0007851897509181813,
          0.002551866690484089,
          0.008440789822370448,
          0.011188953950584082,
          0.011188953950584082,
          0.00019629743772954533,
          0.008244492384640903,
          0.05221511843605906,
          0.24242733559598847,
          0.10462653430984765,
          0.005692625694156814,
          0.02355569252754544,
          0.00019629743772954533,
          0.00019629743772954533,
          0.033763159289481794,
          0.09598944704974766,
          0.27049786919131347,
          0.00019629743772954533,
          0.000588892313188636,
          0.000588892313188636,
          0.007851897509181813,
          0.00019629743772954533,
          0.05712255437929769,
          0.003729651316861361,
          0.021396420712520438,
          0.07616340583906359,
          0.00019629743772954533,
          0.02905202078397271,
          0.012366738576961354,
          0.0015703795018363626,
          0.04573730299098406,
          0.0019629743772954533,
          8.803547487294647,
          0.00019629743772954533,
          0.0027481641282136346,
          0.00019629743772954533,
          0.0039259487545909065,
          0.12621925246009766,
          2.431340063718148,
          0.004514841067779542,
          0.05712255437929769,
          0.0007851897509181813,
          0.00019629743772954533,
          0.012563036014690901,
          0.01629268733155226,
          0.005103733380968178,
          0.01766676939565908,
          3.147433116555529,
          18.777420298332846,
          0.0015703795018363626,
          0.00883338469782954,
          0.00019629743772954533,
          0.0009814871886477266,
          0.00039259487545909065,
          0.00294446156594318,
          0.001177784626377272,
          1.9824078236306781,
          0.00039259487545909065,
          0.00019629743772954533,
          0.00019629743772954533,
          0.0009814871886477266,
          0.0009814871886477266,
          0.00039259487545909065,
          0.00019629743772954533,
          0.00019629743772954533
         ]
        }
       ],
       "layout": {
        "coloraxis": {
         "colorbar": {
          "title": {
           "text": "percentage"
          }
         },
         "colorscale": [
          [
           0,
           "#000004"
          ],
          [
           0.1111111111111111,
           "#180f3d"
          ],
          [
           0.2222222222222222,
           "#440f76"
          ],
          [
           0.3333333333333333,
           "#721f81"
          ],
          [
           0.4444444444444444,
           "#9e2f7f"
          ],
          [
           0.5555555555555556,
           "#cd4071"
          ],
          [
           0.6666666666666666,
           "#f1605d"
          ],
          [
           0.7777777777777778,
           "#fd9668"
          ],
          [
           0.8888888888888888,
           "#feca8d"
          ],
          [
           1,
           "#fcfdbf"
          ]
         ]
        },
        "font": {
         "color": "white"
        },
        "legend": {
         "tracegroupgap": 0
        },
        "paper_bgcolor": "black",
        "plot_bgcolor": "black",
        "template": {
         "data": {
          "bar": [
           {
            "error_x": {
             "color": "#2a3f5f"
            },
            "error_y": {
             "color": "#2a3f5f"
            },
            "marker": {
             "line": {
              "color": "#E5ECF6",
              "width": 0.5
             },
             "pattern": {
              "fillmode": "overlay",
              "size": 10,
              "solidity": 0.2
             }
            },
            "type": "bar"
           }
          ],
          "barpolar": [
           {
            "marker": {
             "line": {
              "color": "#E5ECF6",
              "width": 0.5
             },
             "pattern": {
              "fillmode": "overlay",
              "size": 10,
              "solidity": 0.2
             }
            },
            "type": "barpolar"
           }
          ],
          "carpet": [
           {
            "aaxis": {
             "endlinecolor": "#2a3f5f",
             "gridcolor": "white",
             "linecolor": "white",
             "minorgridcolor": "white",
             "startlinecolor": "#2a3f5f"
            },
            "baxis": {
             "endlinecolor": "#2a3f5f",
             "gridcolor": "white",
             "linecolor": "white",
             "minorgridcolor": "white",
             "startlinecolor": "#2a3f5f"
            },
            "type": "carpet"
           }
          ],
          "choropleth": [
           {
            "colorbar": {
             "outlinewidth": 0,
             "ticks": ""
            },
            "type": "choropleth"
           }
          ],
          "contour": [
           {
            "colorbar": {
             "outlinewidth": 0,
             "ticks": ""
            },
            "colorscale": [
             [
              0,
              "#0d0887"
             ],
             [
              0.1111111111111111,
              "#46039f"
             ],
             [
              0.2222222222222222,
              "#7201a8"
             ],
             [
              0.3333333333333333,
              "#9c179e"
             ],
             [
              0.4444444444444444,
              "#bd3786"
             ],
             [
              0.5555555555555556,
              "#d8576b"
             ],
             [
              0.6666666666666666,
              "#ed7953"
             ],
             [
              0.7777777777777778,
              "#fb9f3a"
             ],
             [
              0.8888888888888888,
              "#fdca26"
             ],
             [
              1,
              "#f0f921"
             ]
            ],
            "type": "contour"
           }
          ],
          "contourcarpet": [
           {
            "colorbar": {
             "outlinewidth": 0,
             "ticks": ""
            },
            "type": "contourcarpet"
           }
          ],
          "heatmap": [
           {
            "colorbar": {
             "outlinewidth": 0,
             "ticks": ""
            },
            "colorscale": [
             [
              0,
              "#0d0887"
             ],
             [
              0.1111111111111111,
              "#46039f"
             ],
             [
              0.2222222222222222,
              "#7201a8"
             ],
             [
              0.3333333333333333,
              "#9c179e"
             ],
             [
              0.4444444444444444,
              "#bd3786"
             ],
             [
              0.5555555555555556,
              "#d8576b"
             ],
             [
              0.6666666666666666,
              "#ed7953"
             ],
             [
              0.7777777777777778,
              "#fb9f3a"
             ],
             [
              0.8888888888888888,
              "#fdca26"
             ],
             [
              1,
              "#f0f921"
             ]
            ],
            "type": "heatmap"
           }
          ],
          "heatmapgl": [
           {
            "colorbar": {
             "outlinewidth": 0,
             "ticks": ""
            },
            "colorscale": [
             [
              0,
              "#0d0887"
             ],
             [
              0.1111111111111111,
              "#46039f"
             ],
             [
              0.2222222222222222,
              "#7201a8"
             ],
             [
              0.3333333333333333,
              "#9c179e"
             ],
             [
              0.4444444444444444,
              "#bd3786"
             ],
             [
              0.5555555555555556,
              "#d8576b"
             ],
             [
              0.6666666666666666,
              "#ed7953"
             ],
             [
              0.7777777777777778,
              "#fb9f3a"
             ],
             [
              0.8888888888888888,
              "#fdca26"
             ],
             [
              1,
              "#f0f921"
             ]
            ],
            "type": "heatmapgl"
           }
          ],
          "histogram": [
           {
            "marker": {
             "pattern": {
              "fillmode": "overlay",
              "size": 10,
              "solidity": 0.2
             }
            },
            "type": "histogram"
           }
          ],
          "histogram2d": [
           {
            "colorbar": {
             "outlinewidth": 0,
             "ticks": ""
            },
            "colorscale": [
             [
              0,
              "#0d0887"
             ],
             [
              0.1111111111111111,
              "#46039f"
             ],
             [
              0.2222222222222222,
              "#7201a8"
             ],
             [
              0.3333333333333333,
              "#9c179e"
             ],
             [
              0.4444444444444444,
              "#bd3786"
             ],
             [
              0.5555555555555556,
              "#d8576b"
             ],
             [
              0.6666666666666666,
              "#ed7953"
             ],
             [
              0.7777777777777778,
              "#fb9f3a"
             ],
             [
              0.8888888888888888,
              "#fdca26"
             ],
             [
              1,
              "#f0f921"
             ]
            ],
            "type": "histogram2d"
           }
          ],
          "histogram2dcontour": [
           {
            "colorbar": {
             "outlinewidth": 0,
             "ticks": ""
            },
            "colorscale": [
             [
              0,
              "#0d0887"
             ],
             [
              0.1111111111111111,
              "#46039f"
             ],
             [
              0.2222222222222222,
              "#7201a8"
             ],
             [
              0.3333333333333333,
              "#9c179e"
             ],
             [
              0.4444444444444444,
              "#bd3786"
             ],
             [
              0.5555555555555556,
              "#d8576b"
             ],
             [
              0.6666666666666666,
              "#ed7953"
             ],
             [
              0.7777777777777778,
              "#fb9f3a"
             ],
             [
              0.8888888888888888,
              "#fdca26"
             ],
             [
              1,
              "#f0f921"
             ]
            ],
            "type": "histogram2dcontour"
           }
          ],
          "mesh3d": [
           {
            "colorbar": {
             "outlinewidth": 0,
             "ticks": ""
            },
            "type": "mesh3d"
           }
          ],
          "parcoords": [
           {
            "line": {
             "colorbar": {
              "outlinewidth": 0,
              "ticks": ""
             }
            },
            "type": "parcoords"
           }
          ],
          "pie": [
           {
            "automargin": true,
            "type": "pie"
           }
          ],
          "scatter": [
           {
            "fillpattern": {
             "fillmode": "overlay",
             "size": 10,
             "solidity": 0.2
            },
            "type": "scatter"
           }
          ],
          "scatter3d": [
           {
            "line": {
             "colorbar": {
              "outlinewidth": 0,
              "ticks": ""
             }
            },
            "marker": {
             "colorbar": {
              "outlinewidth": 0,
              "ticks": ""
             }
            },
            "type": "scatter3d"
           }
          ],
          "scattercarpet": [
           {
            "marker": {
             "colorbar": {
              "outlinewidth": 0,
              "ticks": ""
             }
            },
            "type": "scattercarpet"
           }
          ],
          "scattergeo": [
           {
            "marker": {
             "colorbar": {
              "outlinewidth": 0,
              "ticks": ""
             }
            },
            "type": "scattergeo"
           }
          ],
          "scattergl": [
           {
            "marker": {
             "colorbar": {
              "outlinewidth": 0,
              "ticks": ""
             }
            },
            "type": "scattergl"
           }
          ],
          "scattermapbox": [
           {
            "marker": {
             "colorbar": {
              "outlinewidth": 0,
              "ticks": ""
             }
            },
            "type": "scattermapbox"
           }
          ],
          "scatterpolar": [
           {
            "marker": {
             "colorbar": {
              "outlinewidth": 0,
              "ticks": ""
             }
            },
            "type": "scatterpolar"
           }
          ],
          "scatterpolargl": [
           {
            "marker": {
             "colorbar": {
              "outlinewidth": 0,
              "ticks": ""
             }
            },
            "type": "scatterpolargl"
           }
          ],
          "scatterternary": [
           {
            "marker": {
             "colorbar": {
              "outlinewidth": 0,
              "ticks": ""
             }
            },
            "type": "scatterternary"
           }
          ],
          "surface": [
           {
            "colorbar": {
             "outlinewidth": 0,
             "ticks": ""
            },
            "colorscale": [
             [
              0,
              "#0d0887"
             ],
             [
              0.1111111111111111,
              "#46039f"
             ],
             [
              0.2222222222222222,
              "#7201a8"
             ],
             [
              0.3333333333333333,
              "#9c179e"
             ],
             [
              0.4444444444444444,
              "#bd3786"
             ],
             [
              0.5555555555555556,
              "#d8576b"
             ],
             [
              0.6666666666666666,
              "#ed7953"
             ],
             [
              0.7777777777777778,
              "#fb9f3a"
             ],
             [
              0.8888888888888888,
              "#fdca26"
             ],
             [
              1,
              "#f0f921"
             ]
            ],
            "type": "surface"
           }
          ],
          "table": [
           {
            "cells": {
             "fill": {
              "color": "#EBF0F8"
             },
             "line": {
              "color": "white"
             }
            },
            "header": {
             "fill": {
              "color": "#C8D4E3"
             },
             "line": {
              "color": "white"
             }
            },
            "type": "table"
           }
          ]
         },
         "layout": {
          "annotationdefaults": {
           "arrowcolor": "#2a3f5f",
           "arrowhead": 0,
           "arrowwidth": 1
          },
          "autotypenumbers": "strict",
          "coloraxis": {
           "colorbar": {
            "outlinewidth": 0,
            "ticks": ""
           }
          },
          "colorscale": {
           "diverging": [
            [
             0,
             "#8e0152"
            ],
            [
             0.1,
             "#c51b7d"
            ],
            [
             0.2,
             "#de77ae"
            ],
            [
             0.3,
             "#f1b6da"
            ],
            [
             0.4,
             "#fde0ef"
            ],
            [
             0.5,
             "#f7f7f7"
            ],
            [
             0.6,
             "#e6f5d0"
            ],
            [
             0.7,
             "#b8e186"
            ],
            [
             0.8,
             "#7fbc41"
            ],
            [
             0.9,
             "#4d9221"
            ],
            [
             1,
             "#276419"
            ]
           ],
           "sequential": [
            [
             0,
             "#0d0887"
            ],
            [
             0.1111111111111111,
             "#46039f"
            ],
            [
             0.2222222222222222,
             "#7201a8"
            ],
            [
             0.3333333333333333,
             "#9c179e"
            ],
            [
             0.4444444444444444,
             "#bd3786"
            ],
            [
             0.5555555555555556,
             "#d8576b"
            ],
            [
             0.6666666666666666,
             "#ed7953"
            ],
            [
             0.7777777777777778,
             "#fb9f3a"
            ],
            [
             0.8888888888888888,
             "#fdca26"
            ],
            [
             1,
             "#f0f921"
            ]
           ],
           "sequentialminus": [
            [
             0,
             "#0d0887"
            ],
            [
             0.1111111111111111,
             "#46039f"
            ],
            [
             0.2222222222222222,
             "#7201a8"
            ],
            [
             0.3333333333333333,
             "#9c179e"
            ],
            [
             0.4444444444444444,
             "#bd3786"
            ],
            [
             0.5555555555555556,
             "#d8576b"
            ],
            [
             0.6666666666666666,
             "#ed7953"
            ],
            [
             0.7777777777777778,
             "#fb9f3a"
            ],
            [
             0.8888888888888888,
             "#fdca26"
            ],
            [
             1,
             "#f0f921"
            ]
           ]
          },
          "colorway": [
           "#636efa",
           "#EF553B",
           "#00cc96",
           "#ab63fa",
           "#FFA15A",
           "#19d3f3",
           "#FF6692",
           "#B6E880",
           "#FF97FF",
           "#FECB52"
          ],
          "font": {
           "color": "#2a3f5f"
          },
          "geo": {
           "bgcolor": "white",
           "lakecolor": "white",
           "landcolor": "#E5ECF6",
           "showlakes": true,
           "showland": true,
           "subunitcolor": "white"
          },
          "hoverlabel": {
           "align": "left"
          },
          "hovermode": "closest",
          "mapbox": {
           "style": "light"
          },
          "paper_bgcolor": "white",
          "plot_bgcolor": "#E5ECF6",
          "polar": {
           "angularaxis": {
            "gridcolor": "white",
            "linecolor": "white",
            "ticks": ""
           },
           "bgcolor": "#E5ECF6",
           "radialaxis": {
            "gridcolor": "white",
            "linecolor": "white",
            "ticks": ""
           }
          },
          "scene": {
           "xaxis": {
            "backgroundcolor": "#E5ECF6",
            "gridcolor": "white",
            "gridwidth": 2,
            "linecolor": "white",
            "showbackground": true,
            "ticks": "",
            "zerolinecolor": "white"
           },
           "yaxis": {
            "backgroundcolor": "#E5ECF6",
            "gridcolor": "white",
            "gridwidth": 2,
            "linecolor": "white",
            "showbackground": true,
            "ticks": "",
            "zerolinecolor": "white"
           },
           "zaxis": {
            "backgroundcolor": "#E5ECF6",
            "gridcolor": "white",
            "gridwidth": 2,
            "linecolor": "white",
            "showbackground": true,
            "ticks": "",
            "zerolinecolor": "white"
           }
          },
          "shapedefaults": {
           "line": {
            "color": "#2a3f5f"
           }
          },
          "ternary": {
           "aaxis": {
            "gridcolor": "white",
            "linecolor": "white",
            "ticks": ""
           },
           "baxis": {
            "gridcolor": "white",
            "linecolor": "white",
            "ticks": ""
           },
           "bgcolor": "#E5ECF6",
           "caxis": {
            "gridcolor": "white",
            "linecolor": "white",
            "ticks": ""
           }
          },
          "title": {
           "x": 0.05
          },
          "xaxis": {
           "automargin": true,
           "gridcolor": "white",
           "linecolor": "white",
           "ticks": "",
           "title": {
            "standoff": 15
           },
           "zerolinecolor": "white",
           "zerolinewidth": 2
          },
          "yaxis": {
           "automargin": true,
           "gridcolor": "white",
           "linecolor": "white",
           "ticks": "",
           "title": {
            "standoff": 15
           },
           "zerolinecolor": "white",
           "zerolinewidth": 2
          }
         }
        },
        "title": {
         "text": "countries treemap"
        }
       }
      }
     },
     "metadata": {},
     "output_type": "display_data"
    }
   ],
   "source": [
    "df = pd.DataFrame(data_graph_countries)\n",
    "fig = px.treemap(df, path=['countries'], values='percentage',\n",
    "                 color='percentage', color_continuous_scale='Magma',\n",
    "                 title='countries treemap')\n",
    "fig.update_layout(\n",
    "    paper_bgcolor='black',  \n",
    "    plot_bgcolor='black',   \n",
    "    font_color='white'      \n",
    ")\n",
    "fig.show()"
   ]
  },
  {
   "cell_type": "markdown",
   "metadata": {},
   "source": [
    "# ECOSCORE GRAD:"
   ]
  },
  {
   "cell_type": "code",
   "execution_count": 79,
   "metadata": {},
   "outputs": [
    {
     "name": "stdout",
     "output_type": "stream",
     "text": [
      "34.0: 0.90%\n",
      "57.0: 0.25%\n",
      "42.0: 0.47%\n",
      "49.0: 0.65%\n",
      "76.0: 0.38%\n",
      "23.0: 0.17%\n",
      "62.0: 0.22%\n",
      "67.0: 1.31%\n",
      "78.0: 0.37%\n",
      "25.0: 0.35%\n",
      "30.0: 0.27%\n",
      "50.0: 0.44%\n",
      "0.0: 0.61%\n",
      "100.0: 0.31%\n",
      "79.0: 1.84%\n",
      "24.0: 0.15%\n",
      "75.0: 0.47%\n",
      "60.0: 0.37%\n",
      "59.0: 0.22%\n",
      "77.0: 0.49%\n",
      "21.0: 0.50%\n",
      "15.0: 0.43%\n",
      "72.0: 0.99%\n",
      "43.0: 0.39%\n",
      "71.0: 0.27%\n",
      "80.0: 0.07%\n",
      "2.0: 0.12%\n",
      "4.0: 0.19%\n",
      "93.0: 0.04%\n",
      "44.0: 0.39%\n",
      "58.0: 0.26%\n",
      "12.0: 0.33%\n",
      "74.0: 0.30%\n",
      "40.0: 0.21%\n",
      "26.0: 0.13%\n",
      "27.0: 0.44%\n",
      "3.0: 0.08%\n",
      "91.0: 0.07%\n",
      "37.0: 0.38%\n",
      "63.0: 0.22%\n",
      "38.0: 0.31%\n",
      "45.0: 0.33%\n",
      "54.0: 0.35%\n",
      "19.0: 0.32%\n",
      "18.0: 0.20%\n",
      "56.0: 0.17%\n",
      "41.0: 0.15%\n",
      "66.0: 0.22%\n",
      "35.0: 0.30%\n",
      "55.0: 0.25%\n",
      "96.0: 0.02%\n",
      "39.0: 0.49%\n",
      "29.0: 0.22%\n",
      "6.0: 0.10%\n",
      "28.0: 0.19%\n",
      "47.0: 0.20%\n",
      "16.0: 0.27%\n",
      "36.0: 0.35%\n",
      "68.0: 0.28%\n",
      "64.0: 0.24%\n",
      "86.0: 0.03%\n",
      "13.0: 0.08%\n",
      "51.0: 0.23%\n",
      "61.0: 0.14%\n",
      "52.0: 0.17%\n",
      "89.0: 0.05%\n",
      "81.0: 0.09%\n",
      "87.0: 0.03%\n",
      "31.0: 0.15%\n",
      "46.0: 0.13%\n",
      "70.0: 0.30%\n",
      "20.0: 0.12%\n",
      "73.0: 0.22%\n",
      "17.0: 0.14%\n",
      "85.0: 0.08%\n",
      "32.0: 0.21%\n",
      "33.0: 0.13%\n",
      "69.0: 0.18%\n",
      "48.0: 0.22%\n",
      "84.0: 0.05%\n",
      "94.0: 0.04%\n",
      "5.0: 0.09%\n",
      "11.0: 0.04%\n",
      "22.0: 0.26%\n",
      "14.0: 0.11%\n",
      "82.0: 0.06%\n",
      "90.0: 0.05%\n",
      "10.0: 0.05%\n",
      "9.0: 0.14%\n",
      "8.0: 0.10%\n",
      "95.0: 0.03%\n",
      "1.0: 0.07%\n",
      "98.0: 0.02%\n",
      "65.0: 0.16%\n",
      "83.0: 0.06%\n",
      "53.0: 0.19%\n",
      "88.0: 0.04%\n",
      "99.0: 0.03%\n",
      "97.0: 0.02%\n",
      "7.0: 0.03%\n",
      "92.0: 0.04%\n",
      "999.0: 74.62%\n"
     ]
    }
   ],
   "source": [
    "# retourne une liste des notes écoscores présentes dans le fichier\n",
    "def extract_grad_ecoscore_from_jsonl(file_path):\n",
    "    ecoscore_grad_list = []\n",
    "    with open(file_path, 'r', encoding='utf-8') as file:\n",
    "        for line in file:\n",
    "            try:\n",
    "                record = json.loads(line)\n",
    "                ecoscore_grad = record.get('ecoscore_note')\n",
    "                if ecoscore_grad is not None:\n",
    "                    ecoscore_grad_list.append(ecoscore_grad)\n",
    "            except json.JSONDecodeError:\n",
    "                print(f\"WARNING line: {line} in {file_path}\")\n",
    "    return ecoscore_grad_list\n",
    "ecoscore_grad_list = extract_grad_ecoscore_from_jsonl(jsonl_02)\n",
    "\n",
    "ecoscore_grad_counts = Counter(ecoscore_grad_list)\n",
    "total_ecoscore_grads = sum(ecoscore_grad_counts.values())\n",
    "data_graph_ecoscore_grad = []\n",
    "for ecoscore_grad, count in ecoscore_grad_counts.items():\n",
    "    percentage = (count / total_ecoscore_grads) * 100\n",
    "    print(f\"{ecoscore_grad}: {percentage:.2f}%\")\n",
    "    data_graph_ecoscore_grad.append({'ecoscore_grad': ecoscore_grad, 'percentage': percentage})"
   ]
  },
  {
   "cell_type": "code",
   "execution_count": 80,
   "metadata": {},
   "outputs": [
    {
     "data": {
      "application/vnd.plotly.v1+json": {
       "config": {
        "plotlyServerURL": "https://plot.ly"
       },
       "data": [
        {
         "branchvalues": "total",
         "customdata": [
          [
           0.6136269232221602
          ],
          [
           0.06629268640622313
          ],
          [
           0.12104708878604666
          ],
          [
           0.08244628404318256
          ],
          [
           0.19321381069661867
          ],
          [
           0.08999861540591682
          ],
          [
           0.10342498227299998
          ],
          [
           0.025384224858079105
          ],
          [
           0.09964881659163288
          ],
          [
           0.1386691952990933
          ],
          [
           0.046153136105598375
          ],
          [
           0.04468462722951116
          ],
          [
           0.32978513617273025
          ],
          [
           0.07867011836181541
          ],
          [
           0.10783050890126167
          ],
          [
           0.4317416095696431
          ],
          [
           0.27209371604073224
          ],
          [
           0.13803983435219877
          ],
          [
           0.19761933732488032
          ],
          [
           0.31740770421713793
          ],
          [
           0.11538284026399594
          ],
          [
           0.5043279054448113
          ],
          [
           0.25614990538607096
          ],
          [
           0.16594150299785598
          ],
          [
           0.15041726630779106
          ],
          [
           0.346358307774286
          ],
          [
           0.1332147337593408
          ],
          [
           0.4384547930031846
          ],
          [
           0.18796913613916427
          ],
          [
           0.21943718348389046
          ],
          [
           0.2714643550938377
          ],
          [
           0.15482279293605272
          ],
          [
           0.20936740833357806
          ],
          [
           0.12692112429039554
          ],
          [
           0.8980980712184847
          ],
          [
           0.301883467527073
          ],
          [
           0.3524421302609331
          ],
          [
           0.3797144379596957
          ],
          [
           0.31426089948266533
          ],
          [
           0.4902721776308337
          ],
          [
           0.2070597515282982
          ],
          [
           0.15482279293605272
          ],
          [
           0.4655173137196491
          ],
          [
           0.38516889949944827
          ],
          [
           0.3943995267205679
          ],
          [
           0.3333515148717992
          ],
          [
           0.12985814204256999
          ],
          [
           0.20202486395314195
          ],
          [
           0.2167099527140142
          ],
          [
           0.6534864498588134
          ],
          [
           0.43509820128641374
          ],
          [
           0.23265376336867546
          ],
          [
           0.16887852075003043
          ],
          [
           0.19300402371432052
          ],
          [
           0.3545400000839148
          ],
          [
           0.24545076928886408
          ],
          [
           0.16531214205096145
          ],
          [
           0.2511150178109148
          ],
          [
           0.26286308881961257
          ],
          [
           0.22069590537767952
          ],
          [
           0.37300125452615424
          ],
          [
           0.1411866390866714
          ],
          [
           0.22174484028917035
          ],
          [
           0.21650016573171602
          ],
          [
           0.23663971603234074
          ],
          [
           0.15880874559971805
          ],
          [
           0.21608059176711972
          ],
          [
           1.3111686393635902
          ],
          [
           0.28006562136806284
          ],
          [
           0.17789936098885192
          ],
          [
           0.3010443195978803
          ],
          [
           0.2683175503593651
          ],
          [
           0.9857890298191216
          ],
          [
           0.2192273965015923
          ],
          [
           0.30335197640316025
          ],
          [
           0.47306964508238336
          ],
          [
           0.3757284852960304
          ],
          [
           0.4917406865069209
          ],
          [
           0.3698544497916815
          ],
          [
           1.83752417794971
          ],
          [
           0.06943949114069574
          ],
          [
           0.08790074558293508
          ],
          [
           0.05769142013199797
          ],
          [
           0.06461439054783773
          ],
          [
           0.04657271007019473
          ],
          [
           0.08223649706088437
          ],
          [
           0.028531029592551722
          ],
          [
           0.034405065096900604
          ],
          [
           0.04342590533572211
          ],
          [
           0.04552377515870385
          ],
          [
           0.05370546746833266
          ],
          [
           0.07426459173355375
          ],
          [
           0.04153782249503853
          ],
          [
           0.03650293491988235
          ],
          [
           0.038181230778267745
          ],
          [
           0.02580379882267546
          ],
          [
           0.024125502964290065
          ],
          [
           0.024335289946588234
          ],
          [
           0.020139550300624746
          ],
          [
           0.025384224858079105
          ],
          [
           0.3127923906065781
          ],
          [
           74.61745343777928
          ]
         ],
         "domain": {
          "x": [
           0,
           1
          ],
          "y": [
           0,
           1
          ]
         },
         "hovertemplate": "labels=%{label}<br>percentage_sum=%{value}<br>parent=%{parent}<br>id=%{id}<br>percentage=%{color}<extra></extra>",
         "ids": [
          "0.0",
          "1.0",
          "2.0",
          "3.0",
          "4.0",
          "5.0",
          "6.0",
          "7.0",
          "8.0",
          "9.0",
          "10.0",
          "11.0",
          "12.0",
          "13.0",
          "14.0",
          "15.0",
          "16.0",
          "17.0",
          "18.0",
          "19.0",
          "20.0",
          "21.0",
          "22.0",
          "23.0",
          "24.0",
          "25.0",
          "26.0",
          "27.0",
          "28.0",
          "29.0",
          "30.0",
          "31.0",
          "32.0",
          "33.0",
          "34.0",
          "35.0",
          "36.0",
          "37.0",
          "38.0",
          "39.0",
          "40.0",
          "41.0",
          "42.0",
          "43.0",
          "44.0",
          "45.0",
          "46.0",
          "47.0",
          "48.0",
          "49.0",
          "50.0",
          "51.0",
          "52.0",
          "53.0",
          "54.0",
          "55.0",
          "56.0",
          "57.0",
          "58.0",
          "59.0",
          "60.0",
          "61.0",
          "62.0",
          "63.0",
          "64.0",
          "65.0",
          "66.0",
          "67.0",
          "68.0",
          "69.0",
          "70.0",
          "71.0",
          "72.0",
          "73.0",
          "74.0",
          "75.0",
          "76.0",
          "77.0",
          "78.0",
          "79.0",
          "80.0",
          "81.0",
          "82.0",
          "83.0",
          "84.0",
          "85.0",
          "86.0",
          "87.0",
          "88.0",
          "89.0",
          "90.0",
          "91.0",
          "92.0",
          "93.0",
          "94.0",
          "95.0",
          "96.0",
          "97.0",
          "98.0",
          "99.0",
          "100.0",
          "999.0"
         ],
         "labels": [
          "0.0",
          "1.0",
          "2.0",
          "3.0",
          "4.0",
          "5.0",
          "6.0",
          "7.0",
          "8.0",
          "9.0",
          "10.0",
          "11.0",
          "12.0",
          "13.0",
          "14.0",
          "15.0",
          "16.0",
          "17.0",
          "18.0",
          "19.0",
          "20.0",
          "21.0",
          "22.0",
          "23.0",
          "24.0",
          "25.0",
          "26.0",
          "27.0",
          "28.0",
          "29.0",
          "30.0",
          "31.0",
          "32.0",
          "33.0",
          "34.0",
          "35.0",
          "36.0",
          "37.0",
          "38.0",
          "39.0",
          "40.0",
          "41.0",
          "42.0",
          "43.0",
          "44.0",
          "45.0",
          "46.0",
          "47.0",
          "48.0",
          "49.0",
          "50.0",
          "51.0",
          "52.0",
          "53.0",
          "54.0",
          "55.0",
          "56.0",
          "57.0",
          "58.0",
          "59.0",
          "60.0",
          "61.0",
          "62.0",
          "63.0",
          "64.0",
          "65.0",
          "66.0",
          "67.0",
          "68.0",
          "69.0",
          "70.0",
          "71.0",
          "72.0",
          "73.0",
          "74.0",
          "75.0",
          "76.0",
          "77.0",
          "78.0",
          "79.0",
          "80.0",
          "81.0",
          "82.0",
          "83.0",
          "84.0",
          "85.0",
          "86.0",
          "87.0",
          "88.0",
          "89.0",
          "90.0",
          "91.0",
          "92.0",
          "93.0",
          "94.0",
          "95.0",
          "96.0",
          "97.0",
          "98.0",
          "99.0",
          "100.0",
          "999.0"
         ],
         "marker": {
          "coloraxis": "coloraxis",
          "colors": [
           0.6136269232221602,
           0.06629268640622313,
           0.12104708878604666,
           0.08244628404318256,
           0.19321381069661867,
           0.08999861540591682,
           0.10342498227299998,
           0.025384224858079105,
           0.09964881659163288,
           0.1386691952990933,
           0.046153136105598375,
           0.04468462722951116,
           0.32978513617273025,
           0.07867011836181541,
           0.10783050890126167,
           0.4317416095696431,
           0.27209371604073224,
           0.13803983435219877,
           0.19761933732488032,
           0.31740770421713793,
           0.11538284026399594,
           0.5043279054448113,
           0.25614990538607096,
           0.16594150299785598,
           0.15041726630779106,
           0.346358307774286,
           0.1332147337593408,
           0.4384547930031846,
           0.18796913613916427,
           0.21943718348389046,
           0.2714643550938377,
           0.15482279293605272,
           0.20936740833357806,
           0.12692112429039554,
           0.8980980712184847,
           0.301883467527073,
           0.3524421302609331,
           0.3797144379596957,
           0.31426089948266533,
           0.4902721776308337,
           0.2070597515282982,
           0.15482279293605272,
           0.4655173137196491,
           0.38516889949944827,
           0.3943995267205679,
           0.3333515148717992,
           0.12985814204256999,
           0.20202486395314195,
           0.2167099527140142,
           0.6534864498588134,
           0.43509820128641374,
           0.23265376336867546,
           0.16887852075003043,
           0.19300402371432052,
           0.3545400000839148,
           0.24545076928886408,
           0.16531214205096145,
           0.2511150178109148,
           0.26286308881961257,
           0.22069590537767952,
           0.37300125452615424,
           0.1411866390866714,
           0.22174484028917035,
           0.21650016573171602,
           0.23663971603234074,
           0.15880874559971805,
           0.21608059176711972,
           1.3111686393635902,
           0.28006562136806284,
           0.17789936098885192,
           0.3010443195978803,
           0.2683175503593651,
           0.9857890298191216,
           0.2192273965015923,
           0.30335197640316025,
           0.47306964508238336,
           0.3757284852960304,
           0.4917406865069209,
           0.3698544497916815,
           1.83752417794971,
           0.06943949114069574,
           0.08790074558293508,
           0.05769142013199797,
           0.06461439054783773,
           0.04657271007019473,
           0.08223649706088437,
           0.028531029592551722,
           0.034405065096900604,
           0.04342590533572211,
           0.04552377515870385,
           0.05370546746833266,
           0.07426459173355375,
           0.04153782249503853,
           0.03650293491988235,
           0.038181230778267745,
           0.02580379882267546,
           0.024125502964290065,
           0.024335289946588234,
           0.020139550300624746,
           0.025384224858079105,
           0.3127923906065781,
           74.61745343777928
          ]
         },
         "name": "",
         "parents": [
          "",
          "",
          "",
          "",
          "",
          "",
          "",
          "",
          "",
          "",
          "",
          "",
          "",
          "",
          "",
          "",
          "",
          "",
          "",
          "",
          "",
          "",
          "",
          "",
          "",
          "",
          "",
          "",
          "",
          "",
          "",
          "",
          "",
          "",
          "",
          "",
          "",
          "",
          "",
          "",
          "",
          "",
          "",
          "",
          "",
          "",
          "",
          "",
          "",
          "",
          "",
          "",
          "",
          "",
          "",
          "",
          "",
          "",
          "",
          "",
          "",
          "",
          "",
          "",
          "",
          "",
          "",
          "",
          "",
          "",
          "",
          "",
          "",
          "",
          "",
          "",
          "",
          "",
          "",
          "",
          "",
          "",
          "",
          "",
          "",
          "",
          "",
          "",
          "",
          "",
          "",
          "",
          "",
          "",
          "",
          "",
          "",
          "",
          "",
          "",
          "",
          ""
         ],
         "type": "treemap",
         "values": [
          0.6136269232221602,
          0.06629268640622313,
          0.12104708878604666,
          0.08244628404318256,
          0.19321381069661864,
          0.08999861540591683,
          0.103424982273,
          0.025384224858079105,
          0.09964881659163287,
          0.1386691952990933,
          0.046153136105598375,
          0.04468462722951115,
          0.32978513617273025,
          0.07867011836181541,
          0.10783050890126167,
          0.431741609569643,
          0.27209371604073224,
          0.13803983435219877,
          0.19761933732488032,
          0.31740770421713793,
          0.11538284026399594,
          0.5043279054448113,
          0.25614990538607096,
          0.16594150299785598,
          0.15041726630779106,
          0.346358307774286,
          0.1332147337593408,
          0.4384547930031846,
          0.1879691361391643,
          0.21943718348389046,
          0.2714643550938377,
          0.15482279293605272,
          0.2093674083335781,
          0.12692112429039554,
          0.8980980712184847,
          0.301883467527073,
          0.3524421302609331,
          0.3797144379596957,
          0.31426089948266533,
          0.4902721776308337,
          0.20705975152829817,
          0.15482279293605272,
          0.46551731371964905,
          0.38516889949944827,
          0.3943995267205679,
          0.3333515148717992,
          0.12985814204256999,
          0.20202486395314195,
          0.2167099527140142,
          0.6534864498588134,
          0.43509820128641374,
          0.23265376336867546,
          0.16887852075003043,
          0.1930040237143205,
          0.3545400000839148,
          0.24545076928886408,
          0.16531214205096145,
          0.2511150178109148,
          0.26286308881961257,
          0.22069590537767952,
          0.3730012545261542,
          0.1411866390866714,
          0.22174484028917038,
          0.21650016573171602,
          0.23663971603234074,
          0.15880874559971805,
          0.2160805917671197,
          1.3111686393635902,
          0.28006562136806284,
          0.17789936098885192,
          0.3010443195978803,
          0.2683175503593651,
          0.9857890298191216,
          0.2192273965015923,
          0.30335197640316025,
          0.47306964508238336,
          0.3757284852960304,
          0.4917406865069209,
          0.3698544497916815,
          1.83752417794971,
          0.06943949114069574,
          0.08790074558293508,
          0.05769142013199797,
          0.06461439054783773,
          0.04657271007019473,
          0.08223649706088437,
          0.028531029592551722,
          0.034405065096900604,
          0.04342590533572211,
          0.04552377515870385,
          0.05370546746833266,
          0.07426459173355375,
          0.04153782249503853,
          0.03650293491988235,
          0.038181230778267745,
          0.02580379882267546,
          0.02412550296429006,
          0.024335289946588234,
          0.020139550300624746,
          0.025384224858079105,
          0.3127923906065781,
          74.61745343777928
         ]
        }
       ],
       "layout": {
        "coloraxis": {
         "colorbar": {
          "title": {
           "text": "percentage"
          }
         },
         "colorscale": [
          [
           0,
           "#000004"
          ],
          [
           0.1111111111111111,
           "#180f3d"
          ],
          [
           0.2222222222222222,
           "#440f76"
          ],
          [
           0.3333333333333333,
           "#721f81"
          ],
          [
           0.4444444444444444,
           "#9e2f7f"
          ],
          [
           0.5555555555555556,
           "#cd4071"
          ],
          [
           0.6666666666666666,
           "#f1605d"
          ],
          [
           0.7777777777777778,
           "#fd9668"
          ],
          [
           0.8888888888888888,
           "#feca8d"
          ],
          [
           1,
           "#fcfdbf"
          ]
         ]
        },
        "font": {
         "color": "white"
        },
        "legend": {
         "tracegroupgap": 0
        },
        "paper_bgcolor": "black",
        "plot_bgcolor": "black",
        "template": {
         "data": {
          "bar": [
           {
            "error_x": {
             "color": "#2a3f5f"
            },
            "error_y": {
             "color": "#2a3f5f"
            },
            "marker": {
             "line": {
              "color": "#E5ECF6",
              "width": 0.5
             },
             "pattern": {
              "fillmode": "overlay",
              "size": 10,
              "solidity": 0.2
             }
            },
            "type": "bar"
           }
          ],
          "barpolar": [
           {
            "marker": {
             "line": {
              "color": "#E5ECF6",
              "width": 0.5
             },
             "pattern": {
              "fillmode": "overlay",
              "size": 10,
              "solidity": 0.2
             }
            },
            "type": "barpolar"
           }
          ],
          "carpet": [
           {
            "aaxis": {
             "endlinecolor": "#2a3f5f",
             "gridcolor": "white",
             "linecolor": "white",
             "minorgridcolor": "white",
             "startlinecolor": "#2a3f5f"
            },
            "baxis": {
             "endlinecolor": "#2a3f5f",
             "gridcolor": "white",
             "linecolor": "white",
             "minorgridcolor": "white",
             "startlinecolor": "#2a3f5f"
            },
            "type": "carpet"
           }
          ],
          "choropleth": [
           {
            "colorbar": {
             "outlinewidth": 0,
             "ticks": ""
            },
            "type": "choropleth"
           }
          ],
          "contour": [
           {
            "colorbar": {
             "outlinewidth": 0,
             "ticks": ""
            },
            "colorscale": [
             [
              0,
              "#0d0887"
             ],
             [
              0.1111111111111111,
              "#46039f"
             ],
             [
              0.2222222222222222,
              "#7201a8"
             ],
             [
              0.3333333333333333,
              "#9c179e"
             ],
             [
              0.4444444444444444,
              "#bd3786"
             ],
             [
              0.5555555555555556,
              "#d8576b"
             ],
             [
              0.6666666666666666,
              "#ed7953"
             ],
             [
              0.7777777777777778,
              "#fb9f3a"
             ],
             [
              0.8888888888888888,
              "#fdca26"
             ],
             [
              1,
              "#f0f921"
             ]
            ],
            "type": "contour"
           }
          ],
          "contourcarpet": [
           {
            "colorbar": {
             "outlinewidth": 0,
             "ticks": ""
            },
            "type": "contourcarpet"
           }
          ],
          "heatmap": [
           {
            "colorbar": {
             "outlinewidth": 0,
             "ticks": ""
            },
            "colorscale": [
             [
              0,
              "#0d0887"
             ],
             [
              0.1111111111111111,
              "#46039f"
             ],
             [
              0.2222222222222222,
              "#7201a8"
             ],
             [
              0.3333333333333333,
              "#9c179e"
             ],
             [
              0.4444444444444444,
              "#bd3786"
             ],
             [
              0.5555555555555556,
              "#d8576b"
             ],
             [
              0.6666666666666666,
              "#ed7953"
             ],
             [
              0.7777777777777778,
              "#fb9f3a"
             ],
             [
              0.8888888888888888,
              "#fdca26"
             ],
             [
              1,
              "#f0f921"
             ]
            ],
            "type": "heatmap"
           }
          ],
          "heatmapgl": [
           {
            "colorbar": {
             "outlinewidth": 0,
             "ticks": ""
            },
            "colorscale": [
             [
              0,
              "#0d0887"
             ],
             [
              0.1111111111111111,
              "#46039f"
             ],
             [
              0.2222222222222222,
              "#7201a8"
             ],
             [
              0.3333333333333333,
              "#9c179e"
             ],
             [
              0.4444444444444444,
              "#bd3786"
             ],
             [
              0.5555555555555556,
              "#d8576b"
             ],
             [
              0.6666666666666666,
              "#ed7953"
             ],
             [
              0.7777777777777778,
              "#fb9f3a"
             ],
             [
              0.8888888888888888,
              "#fdca26"
             ],
             [
              1,
              "#f0f921"
             ]
            ],
            "type": "heatmapgl"
           }
          ],
          "histogram": [
           {
            "marker": {
             "pattern": {
              "fillmode": "overlay",
              "size": 10,
              "solidity": 0.2
             }
            },
            "type": "histogram"
           }
          ],
          "histogram2d": [
           {
            "colorbar": {
             "outlinewidth": 0,
             "ticks": ""
            },
            "colorscale": [
             [
              0,
              "#0d0887"
             ],
             [
              0.1111111111111111,
              "#46039f"
             ],
             [
              0.2222222222222222,
              "#7201a8"
             ],
             [
              0.3333333333333333,
              "#9c179e"
             ],
             [
              0.4444444444444444,
              "#bd3786"
             ],
             [
              0.5555555555555556,
              "#d8576b"
             ],
             [
              0.6666666666666666,
              "#ed7953"
             ],
             [
              0.7777777777777778,
              "#fb9f3a"
             ],
             [
              0.8888888888888888,
              "#fdca26"
             ],
             [
              1,
              "#f0f921"
             ]
            ],
            "type": "histogram2d"
           }
          ],
          "histogram2dcontour": [
           {
            "colorbar": {
             "outlinewidth": 0,
             "ticks": ""
            },
            "colorscale": [
             [
              0,
              "#0d0887"
             ],
             [
              0.1111111111111111,
              "#46039f"
             ],
             [
              0.2222222222222222,
              "#7201a8"
             ],
             [
              0.3333333333333333,
              "#9c179e"
             ],
             [
              0.4444444444444444,
              "#bd3786"
             ],
             [
              0.5555555555555556,
              "#d8576b"
             ],
             [
              0.6666666666666666,
              "#ed7953"
             ],
             [
              0.7777777777777778,
              "#fb9f3a"
             ],
             [
              0.8888888888888888,
              "#fdca26"
             ],
             [
              1,
              "#f0f921"
             ]
            ],
            "type": "histogram2dcontour"
           }
          ],
          "mesh3d": [
           {
            "colorbar": {
             "outlinewidth": 0,
             "ticks": ""
            },
            "type": "mesh3d"
           }
          ],
          "parcoords": [
           {
            "line": {
             "colorbar": {
              "outlinewidth": 0,
              "ticks": ""
             }
            },
            "type": "parcoords"
           }
          ],
          "pie": [
           {
            "automargin": true,
            "type": "pie"
           }
          ],
          "scatter": [
           {
            "fillpattern": {
             "fillmode": "overlay",
             "size": 10,
             "solidity": 0.2
            },
            "type": "scatter"
           }
          ],
          "scatter3d": [
           {
            "line": {
             "colorbar": {
              "outlinewidth": 0,
              "ticks": ""
             }
            },
            "marker": {
             "colorbar": {
              "outlinewidth": 0,
              "ticks": ""
             }
            },
            "type": "scatter3d"
           }
          ],
          "scattercarpet": [
           {
            "marker": {
             "colorbar": {
              "outlinewidth": 0,
              "ticks": ""
             }
            },
            "type": "scattercarpet"
           }
          ],
          "scattergeo": [
           {
            "marker": {
             "colorbar": {
              "outlinewidth": 0,
              "ticks": ""
             }
            },
            "type": "scattergeo"
           }
          ],
          "scattergl": [
           {
            "marker": {
             "colorbar": {
              "outlinewidth": 0,
              "ticks": ""
             }
            },
            "type": "scattergl"
           }
          ],
          "scattermapbox": [
           {
            "marker": {
             "colorbar": {
              "outlinewidth": 0,
              "ticks": ""
             }
            },
            "type": "scattermapbox"
           }
          ],
          "scatterpolar": [
           {
            "marker": {
             "colorbar": {
              "outlinewidth": 0,
              "ticks": ""
             }
            },
            "type": "scatterpolar"
           }
          ],
          "scatterpolargl": [
           {
            "marker": {
             "colorbar": {
              "outlinewidth": 0,
              "ticks": ""
             }
            },
            "type": "scatterpolargl"
           }
          ],
          "scatterternary": [
           {
            "marker": {
             "colorbar": {
              "outlinewidth": 0,
              "ticks": ""
             }
            },
            "type": "scatterternary"
           }
          ],
          "surface": [
           {
            "colorbar": {
             "outlinewidth": 0,
             "ticks": ""
            },
            "colorscale": [
             [
              0,
              "#0d0887"
             ],
             [
              0.1111111111111111,
              "#46039f"
             ],
             [
              0.2222222222222222,
              "#7201a8"
             ],
             [
              0.3333333333333333,
              "#9c179e"
             ],
             [
              0.4444444444444444,
              "#bd3786"
             ],
             [
              0.5555555555555556,
              "#d8576b"
             ],
             [
              0.6666666666666666,
              "#ed7953"
             ],
             [
              0.7777777777777778,
              "#fb9f3a"
             ],
             [
              0.8888888888888888,
              "#fdca26"
             ],
             [
              1,
              "#f0f921"
             ]
            ],
            "type": "surface"
           }
          ],
          "table": [
           {
            "cells": {
             "fill": {
              "color": "#EBF0F8"
             },
             "line": {
              "color": "white"
             }
            },
            "header": {
             "fill": {
              "color": "#C8D4E3"
             },
             "line": {
              "color": "white"
             }
            },
            "type": "table"
           }
          ]
         },
         "layout": {
          "annotationdefaults": {
           "arrowcolor": "#2a3f5f",
           "arrowhead": 0,
           "arrowwidth": 1
          },
          "autotypenumbers": "strict",
          "coloraxis": {
           "colorbar": {
            "outlinewidth": 0,
            "ticks": ""
           }
          },
          "colorscale": {
           "diverging": [
            [
             0,
             "#8e0152"
            ],
            [
             0.1,
             "#c51b7d"
            ],
            [
             0.2,
             "#de77ae"
            ],
            [
             0.3,
             "#f1b6da"
            ],
            [
             0.4,
             "#fde0ef"
            ],
            [
             0.5,
             "#f7f7f7"
            ],
            [
             0.6,
             "#e6f5d0"
            ],
            [
             0.7,
             "#b8e186"
            ],
            [
             0.8,
             "#7fbc41"
            ],
            [
             0.9,
             "#4d9221"
            ],
            [
             1,
             "#276419"
            ]
           ],
           "sequential": [
            [
             0,
             "#0d0887"
            ],
            [
             0.1111111111111111,
             "#46039f"
            ],
            [
             0.2222222222222222,
             "#7201a8"
            ],
            [
             0.3333333333333333,
             "#9c179e"
            ],
            [
             0.4444444444444444,
             "#bd3786"
            ],
            [
             0.5555555555555556,
             "#d8576b"
            ],
            [
             0.6666666666666666,
             "#ed7953"
            ],
            [
             0.7777777777777778,
             "#fb9f3a"
            ],
            [
             0.8888888888888888,
             "#fdca26"
            ],
            [
             1,
             "#f0f921"
            ]
           ],
           "sequentialminus": [
            [
             0,
             "#0d0887"
            ],
            [
             0.1111111111111111,
             "#46039f"
            ],
            [
             0.2222222222222222,
             "#7201a8"
            ],
            [
             0.3333333333333333,
             "#9c179e"
            ],
            [
             0.4444444444444444,
             "#bd3786"
            ],
            [
             0.5555555555555556,
             "#d8576b"
            ],
            [
             0.6666666666666666,
             "#ed7953"
            ],
            [
             0.7777777777777778,
             "#fb9f3a"
            ],
            [
             0.8888888888888888,
             "#fdca26"
            ],
            [
             1,
             "#f0f921"
            ]
           ]
          },
          "colorway": [
           "#636efa",
           "#EF553B",
           "#00cc96",
           "#ab63fa",
           "#FFA15A",
           "#19d3f3",
           "#FF6692",
           "#B6E880",
           "#FF97FF",
           "#FECB52"
          ],
          "font": {
           "color": "#2a3f5f"
          },
          "geo": {
           "bgcolor": "white",
           "lakecolor": "white",
           "landcolor": "#E5ECF6",
           "showlakes": true,
           "showland": true,
           "subunitcolor": "white"
          },
          "hoverlabel": {
           "align": "left"
          },
          "hovermode": "closest",
          "mapbox": {
           "style": "light"
          },
          "paper_bgcolor": "white",
          "plot_bgcolor": "#E5ECF6",
          "polar": {
           "angularaxis": {
            "gridcolor": "white",
            "linecolor": "white",
            "ticks": ""
           },
           "bgcolor": "#E5ECF6",
           "radialaxis": {
            "gridcolor": "white",
            "linecolor": "white",
            "ticks": ""
           }
          },
          "scene": {
           "xaxis": {
            "backgroundcolor": "#E5ECF6",
            "gridcolor": "white",
            "gridwidth": 2,
            "linecolor": "white",
            "showbackground": true,
            "ticks": "",
            "zerolinecolor": "white"
           },
           "yaxis": {
            "backgroundcolor": "#E5ECF6",
            "gridcolor": "white",
            "gridwidth": 2,
            "linecolor": "white",
            "showbackground": true,
            "ticks": "",
            "zerolinecolor": "white"
           },
           "zaxis": {
            "backgroundcolor": "#E5ECF6",
            "gridcolor": "white",
            "gridwidth": 2,
            "linecolor": "white",
            "showbackground": true,
            "ticks": "",
            "zerolinecolor": "white"
           }
          },
          "shapedefaults": {
           "line": {
            "color": "#2a3f5f"
           }
          },
          "ternary": {
           "aaxis": {
            "gridcolor": "white",
            "linecolor": "white",
            "ticks": ""
           },
           "baxis": {
            "gridcolor": "white",
            "linecolor": "white",
            "ticks": ""
           },
           "bgcolor": "#E5ECF6",
           "caxis": {
            "gridcolor": "white",
            "linecolor": "white",
            "ticks": ""
           }
          },
          "title": {
           "x": 0.05
          },
          "xaxis": {
           "automargin": true,
           "gridcolor": "white",
           "linecolor": "white",
           "ticks": "",
           "title": {
            "standoff": 15
           },
           "zerolinecolor": "white",
           "zerolinewidth": 2
          },
          "yaxis": {
           "automargin": true,
           "gridcolor": "white",
           "linecolor": "white",
           "ticks": "",
           "title": {
            "standoff": 15
           },
           "zerolinecolor": "white",
           "zerolinewidth": 2
          }
         }
        },
        "title": {
         "text": "ecoscore grad treemap"
        }
       }
      }
     },
     "metadata": {},
     "output_type": "display_data"
    }
   ],
   "source": [
    "df = pd.DataFrame(data_graph_ecoscore_grad)\n",
    "fig = px.treemap(df, path=['ecoscore_grad'], values='percentage',\n",
    "                 color='percentage', color_continuous_scale='Magma',\n",
    "                 title='ecoscore grad treemap')\n",
    "fig.update_layout(\n",
    "    paper_bgcolor='black',  \n",
    "    plot_bgcolor='black',   \n",
    "    font_color='white'      \n",
    ")\n",
    "fig.show()"
   ]
  },
  {
   "cell_type": "markdown",
   "metadata": {},
   "source": [
    "# ECOSCORE GROUPS:"
   ]
  },
  {
   "cell_type": "code",
   "execution_count": 81,
   "metadata": {},
   "outputs": [
    {
     "name": "stdout",
     "output_type": "stream",
     "text": [
      "d: 6.02%\n",
      "c: 5.67%\n",
      "b: 8.96%\n",
      "e: 3.50%\n",
      "a: 1.24%\n",
      "z: 74.62%\n"
     ]
    }
   ],
   "source": [
    "# retourne une liste des lettres écoscore présentes dans le fichier\n",
    "def extract_groups_ecoscore_from_jsonl(file_path):\n",
    "    ecoscore_groups_list = []\n",
    "    with open(file_path, 'r', encoding='utf-8') as file:\n",
    "        for line in file:\n",
    "            try:\n",
    "                record = json.loads(line)\n",
    "                ecoscore_groups = record.get('ecoscore_groups')\n",
    "                if ecoscore_groups is not None:\n",
    "                    ecoscore_groups_list.append(ecoscore_groups)\n",
    "            except json.JSONDecodeError:\n",
    "                print(f\"WARNING line: {line} in {file_path}\")\n",
    "    return ecoscore_groups_list\n",
    "ecoscore_groups_list = extract_groups_ecoscore_from_jsonl(jsonl_02)\n",
    "\n",
    "ecoscore_groups_counts = Counter(ecoscore_groups_list)\n",
    "total_ecoscore_groups = sum(ecoscore_groups_counts.values())\n",
    "\n",
    "data_graph_ecoscore_groups = []\n",
    "for ecoscore_group, count in ecoscore_groups_counts.items():\n",
    "    percentage = (count / total_ecoscore_groups) * 100\n",
    "    print(f\"{ecoscore_group}: {percentage:.2f}%\")\n",
    "    data_graph_ecoscore_groups.append({'ecoscore_group': ecoscore_group, 'percentage': percentage})\n"
   ]
  },
  {
   "cell_type": "code",
   "execution_count": 82,
   "metadata": {},
   "outputs": [
    {
     "data": {
      "application/vnd.plotly.v1+json": {
       "config": {
        "plotlyServerURL": "https://plot.ly"
       },
       "data": [
        {
         "branchvalues": "total",
         "customdata": [
          [
           1.2371138346123345
          ],
          [
           8.958743292061241
          ],
          [
           5.672010640395743
          ],
          [
           6.0169004392939405
          ],
          [
           3.4977783558574624
          ],
          [
           74.61745343777928
          ]
         ],
         "domain": {
          "x": [
           0,
           1
          ],
          "y": [
           0,
           1
          ]
         },
         "hovertemplate": "labels=%{label}<br>percentage_sum=%{value}<br>parent=%{parent}<br>id=%{id}<br>percentage=%{color}<extra></extra>",
         "ids": [
          "a",
          "b",
          "c",
          "d",
          "e",
          "z"
         ],
         "labels": [
          "a",
          "b",
          "c",
          "d",
          "e",
          "z"
         ],
         "marker": {
          "coloraxis": "coloraxis",
          "colors": [
           1.2371138346123345,
           8.958743292061241,
           5.672010640395743,
           6.0169004392939405,
           3.4977783558574624,
           74.61745343777928
          ]
         },
         "name": "",
         "parents": [
          "",
          "",
          "",
          "",
          "",
          ""
         ],
         "type": "treemap",
         "values": [
          1.2371138346123345,
          8.958743292061241,
          5.672010640395742,
          6.0169004392939405,
          3.4977783558574624,
          74.61745343777928
         ]
        }
       ],
       "layout": {
        "coloraxis": {
         "colorbar": {
          "title": {
           "text": "percentage"
          }
         },
         "colorscale": [
          [
           0,
           "#000004"
          ],
          [
           0.1111111111111111,
           "#180f3d"
          ],
          [
           0.2222222222222222,
           "#440f76"
          ],
          [
           0.3333333333333333,
           "#721f81"
          ],
          [
           0.4444444444444444,
           "#9e2f7f"
          ],
          [
           0.5555555555555556,
           "#cd4071"
          ],
          [
           0.6666666666666666,
           "#f1605d"
          ],
          [
           0.7777777777777778,
           "#fd9668"
          ],
          [
           0.8888888888888888,
           "#feca8d"
          ],
          [
           1,
           "#fcfdbf"
          ]
         ]
        },
        "font": {
         "color": "white"
        },
        "legend": {
         "tracegroupgap": 0
        },
        "paper_bgcolor": "black",
        "plot_bgcolor": "black",
        "template": {
         "data": {
          "bar": [
           {
            "error_x": {
             "color": "#2a3f5f"
            },
            "error_y": {
             "color": "#2a3f5f"
            },
            "marker": {
             "line": {
              "color": "#E5ECF6",
              "width": 0.5
             },
             "pattern": {
              "fillmode": "overlay",
              "size": 10,
              "solidity": 0.2
             }
            },
            "type": "bar"
           }
          ],
          "barpolar": [
           {
            "marker": {
             "line": {
              "color": "#E5ECF6",
              "width": 0.5
             },
             "pattern": {
              "fillmode": "overlay",
              "size": 10,
              "solidity": 0.2
             }
            },
            "type": "barpolar"
           }
          ],
          "carpet": [
           {
            "aaxis": {
             "endlinecolor": "#2a3f5f",
             "gridcolor": "white",
             "linecolor": "white",
             "minorgridcolor": "white",
             "startlinecolor": "#2a3f5f"
            },
            "baxis": {
             "endlinecolor": "#2a3f5f",
             "gridcolor": "white",
             "linecolor": "white",
             "minorgridcolor": "white",
             "startlinecolor": "#2a3f5f"
            },
            "type": "carpet"
           }
          ],
          "choropleth": [
           {
            "colorbar": {
             "outlinewidth": 0,
             "ticks": ""
            },
            "type": "choropleth"
           }
          ],
          "contour": [
           {
            "colorbar": {
             "outlinewidth": 0,
             "ticks": ""
            },
            "colorscale": [
             [
              0,
              "#0d0887"
             ],
             [
              0.1111111111111111,
              "#46039f"
             ],
             [
              0.2222222222222222,
              "#7201a8"
             ],
             [
              0.3333333333333333,
              "#9c179e"
             ],
             [
              0.4444444444444444,
              "#bd3786"
             ],
             [
              0.5555555555555556,
              "#d8576b"
             ],
             [
              0.6666666666666666,
              "#ed7953"
             ],
             [
              0.7777777777777778,
              "#fb9f3a"
             ],
             [
              0.8888888888888888,
              "#fdca26"
             ],
             [
              1,
              "#f0f921"
             ]
            ],
            "type": "contour"
           }
          ],
          "contourcarpet": [
           {
            "colorbar": {
             "outlinewidth": 0,
             "ticks": ""
            },
            "type": "contourcarpet"
           }
          ],
          "heatmap": [
           {
            "colorbar": {
             "outlinewidth": 0,
             "ticks": ""
            },
            "colorscale": [
             [
              0,
              "#0d0887"
             ],
             [
              0.1111111111111111,
              "#46039f"
             ],
             [
              0.2222222222222222,
              "#7201a8"
             ],
             [
              0.3333333333333333,
              "#9c179e"
             ],
             [
              0.4444444444444444,
              "#bd3786"
             ],
             [
              0.5555555555555556,
              "#d8576b"
             ],
             [
              0.6666666666666666,
              "#ed7953"
             ],
             [
              0.7777777777777778,
              "#fb9f3a"
             ],
             [
              0.8888888888888888,
              "#fdca26"
             ],
             [
              1,
              "#f0f921"
             ]
            ],
            "type": "heatmap"
           }
          ],
          "heatmapgl": [
           {
            "colorbar": {
             "outlinewidth": 0,
             "ticks": ""
            },
            "colorscale": [
             [
              0,
              "#0d0887"
             ],
             [
              0.1111111111111111,
              "#46039f"
             ],
             [
              0.2222222222222222,
              "#7201a8"
             ],
             [
              0.3333333333333333,
              "#9c179e"
             ],
             [
              0.4444444444444444,
              "#bd3786"
             ],
             [
              0.5555555555555556,
              "#d8576b"
             ],
             [
              0.6666666666666666,
              "#ed7953"
             ],
             [
              0.7777777777777778,
              "#fb9f3a"
             ],
             [
              0.8888888888888888,
              "#fdca26"
             ],
             [
              1,
              "#f0f921"
             ]
            ],
            "type": "heatmapgl"
           }
          ],
          "histogram": [
           {
            "marker": {
             "pattern": {
              "fillmode": "overlay",
              "size": 10,
              "solidity": 0.2
             }
            },
            "type": "histogram"
           }
          ],
          "histogram2d": [
           {
            "colorbar": {
             "outlinewidth": 0,
             "ticks": ""
            },
            "colorscale": [
             [
              0,
              "#0d0887"
             ],
             [
              0.1111111111111111,
              "#46039f"
             ],
             [
              0.2222222222222222,
              "#7201a8"
             ],
             [
              0.3333333333333333,
              "#9c179e"
             ],
             [
              0.4444444444444444,
              "#bd3786"
             ],
             [
              0.5555555555555556,
              "#d8576b"
             ],
             [
              0.6666666666666666,
              "#ed7953"
             ],
             [
              0.7777777777777778,
              "#fb9f3a"
             ],
             [
              0.8888888888888888,
              "#fdca26"
             ],
             [
              1,
              "#f0f921"
             ]
            ],
            "type": "histogram2d"
           }
          ],
          "histogram2dcontour": [
           {
            "colorbar": {
             "outlinewidth": 0,
             "ticks": ""
            },
            "colorscale": [
             [
              0,
              "#0d0887"
             ],
             [
              0.1111111111111111,
              "#46039f"
             ],
             [
              0.2222222222222222,
              "#7201a8"
             ],
             [
              0.3333333333333333,
              "#9c179e"
             ],
             [
              0.4444444444444444,
              "#bd3786"
             ],
             [
              0.5555555555555556,
              "#d8576b"
             ],
             [
              0.6666666666666666,
              "#ed7953"
             ],
             [
              0.7777777777777778,
              "#fb9f3a"
             ],
             [
              0.8888888888888888,
              "#fdca26"
             ],
             [
              1,
              "#f0f921"
             ]
            ],
            "type": "histogram2dcontour"
           }
          ],
          "mesh3d": [
           {
            "colorbar": {
             "outlinewidth": 0,
             "ticks": ""
            },
            "type": "mesh3d"
           }
          ],
          "parcoords": [
           {
            "line": {
             "colorbar": {
              "outlinewidth": 0,
              "ticks": ""
             }
            },
            "type": "parcoords"
           }
          ],
          "pie": [
           {
            "automargin": true,
            "type": "pie"
           }
          ],
          "scatter": [
           {
            "fillpattern": {
             "fillmode": "overlay",
             "size": 10,
             "solidity": 0.2
            },
            "type": "scatter"
           }
          ],
          "scatter3d": [
           {
            "line": {
             "colorbar": {
              "outlinewidth": 0,
              "ticks": ""
             }
            },
            "marker": {
             "colorbar": {
              "outlinewidth": 0,
              "ticks": ""
             }
            },
            "type": "scatter3d"
           }
          ],
          "scattercarpet": [
           {
            "marker": {
             "colorbar": {
              "outlinewidth": 0,
              "ticks": ""
             }
            },
            "type": "scattercarpet"
           }
          ],
          "scattergeo": [
           {
            "marker": {
             "colorbar": {
              "outlinewidth": 0,
              "ticks": ""
             }
            },
            "type": "scattergeo"
           }
          ],
          "scattergl": [
           {
            "marker": {
             "colorbar": {
              "outlinewidth": 0,
              "ticks": ""
             }
            },
            "type": "scattergl"
           }
          ],
          "scattermapbox": [
           {
            "marker": {
             "colorbar": {
              "outlinewidth": 0,
              "ticks": ""
             }
            },
            "type": "scattermapbox"
           }
          ],
          "scatterpolar": [
           {
            "marker": {
             "colorbar": {
              "outlinewidth": 0,
              "ticks": ""
             }
            },
            "type": "scatterpolar"
           }
          ],
          "scatterpolargl": [
           {
            "marker": {
             "colorbar": {
              "outlinewidth": 0,
              "ticks": ""
             }
            },
            "type": "scatterpolargl"
           }
          ],
          "scatterternary": [
           {
            "marker": {
             "colorbar": {
              "outlinewidth": 0,
              "ticks": ""
             }
            },
            "type": "scatterternary"
           }
          ],
          "surface": [
           {
            "colorbar": {
             "outlinewidth": 0,
             "ticks": ""
            },
            "colorscale": [
             [
              0,
              "#0d0887"
             ],
             [
              0.1111111111111111,
              "#46039f"
             ],
             [
              0.2222222222222222,
              "#7201a8"
             ],
             [
              0.3333333333333333,
              "#9c179e"
             ],
             [
              0.4444444444444444,
              "#bd3786"
             ],
             [
              0.5555555555555556,
              "#d8576b"
             ],
             [
              0.6666666666666666,
              "#ed7953"
             ],
             [
              0.7777777777777778,
              "#fb9f3a"
             ],
             [
              0.8888888888888888,
              "#fdca26"
             ],
             [
              1,
              "#f0f921"
             ]
            ],
            "type": "surface"
           }
          ],
          "table": [
           {
            "cells": {
             "fill": {
              "color": "#EBF0F8"
             },
             "line": {
              "color": "white"
             }
            },
            "header": {
             "fill": {
              "color": "#C8D4E3"
             },
             "line": {
              "color": "white"
             }
            },
            "type": "table"
           }
          ]
         },
         "layout": {
          "annotationdefaults": {
           "arrowcolor": "#2a3f5f",
           "arrowhead": 0,
           "arrowwidth": 1
          },
          "autotypenumbers": "strict",
          "coloraxis": {
           "colorbar": {
            "outlinewidth": 0,
            "ticks": ""
           }
          },
          "colorscale": {
           "diverging": [
            [
             0,
             "#8e0152"
            ],
            [
             0.1,
             "#c51b7d"
            ],
            [
             0.2,
             "#de77ae"
            ],
            [
             0.3,
             "#f1b6da"
            ],
            [
             0.4,
             "#fde0ef"
            ],
            [
             0.5,
             "#f7f7f7"
            ],
            [
             0.6,
             "#e6f5d0"
            ],
            [
             0.7,
             "#b8e186"
            ],
            [
             0.8,
             "#7fbc41"
            ],
            [
             0.9,
             "#4d9221"
            ],
            [
             1,
             "#276419"
            ]
           ],
           "sequential": [
            [
             0,
             "#0d0887"
            ],
            [
             0.1111111111111111,
             "#46039f"
            ],
            [
             0.2222222222222222,
             "#7201a8"
            ],
            [
             0.3333333333333333,
             "#9c179e"
            ],
            [
             0.4444444444444444,
             "#bd3786"
            ],
            [
             0.5555555555555556,
             "#d8576b"
            ],
            [
             0.6666666666666666,
             "#ed7953"
            ],
            [
             0.7777777777777778,
             "#fb9f3a"
            ],
            [
             0.8888888888888888,
             "#fdca26"
            ],
            [
             1,
             "#f0f921"
            ]
           ],
           "sequentialminus": [
            [
             0,
             "#0d0887"
            ],
            [
             0.1111111111111111,
             "#46039f"
            ],
            [
             0.2222222222222222,
             "#7201a8"
            ],
            [
             0.3333333333333333,
             "#9c179e"
            ],
            [
             0.4444444444444444,
             "#bd3786"
            ],
            [
             0.5555555555555556,
             "#d8576b"
            ],
            [
             0.6666666666666666,
             "#ed7953"
            ],
            [
             0.7777777777777778,
             "#fb9f3a"
            ],
            [
             0.8888888888888888,
             "#fdca26"
            ],
            [
             1,
             "#f0f921"
            ]
           ]
          },
          "colorway": [
           "#636efa",
           "#EF553B",
           "#00cc96",
           "#ab63fa",
           "#FFA15A",
           "#19d3f3",
           "#FF6692",
           "#B6E880",
           "#FF97FF",
           "#FECB52"
          ],
          "font": {
           "color": "#2a3f5f"
          },
          "geo": {
           "bgcolor": "white",
           "lakecolor": "white",
           "landcolor": "#E5ECF6",
           "showlakes": true,
           "showland": true,
           "subunitcolor": "white"
          },
          "hoverlabel": {
           "align": "left"
          },
          "hovermode": "closest",
          "mapbox": {
           "style": "light"
          },
          "paper_bgcolor": "white",
          "plot_bgcolor": "#E5ECF6",
          "polar": {
           "angularaxis": {
            "gridcolor": "white",
            "linecolor": "white",
            "ticks": ""
           },
           "bgcolor": "#E5ECF6",
           "radialaxis": {
            "gridcolor": "white",
            "linecolor": "white",
            "ticks": ""
           }
          },
          "scene": {
           "xaxis": {
            "backgroundcolor": "#E5ECF6",
            "gridcolor": "white",
            "gridwidth": 2,
            "linecolor": "white",
            "showbackground": true,
            "ticks": "",
            "zerolinecolor": "white"
           },
           "yaxis": {
            "backgroundcolor": "#E5ECF6",
            "gridcolor": "white",
            "gridwidth": 2,
            "linecolor": "white",
            "showbackground": true,
            "ticks": "",
            "zerolinecolor": "white"
           },
           "zaxis": {
            "backgroundcolor": "#E5ECF6",
            "gridcolor": "white",
            "gridwidth": 2,
            "linecolor": "white",
            "showbackground": true,
            "ticks": "",
            "zerolinecolor": "white"
           }
          },
          "shapedefaults": {
           "line": {
            "color": "#2a3f5f"
           }
          },
          "ternary": {
           "aaxis": {
            "gridcolor": "white",
            "linecolor": "white",
            "ticks": ""
           },
           "baxis": {
            "gridcolor": "white",
            "linecolor": "white",
            "ticks": ""
           },
           "bgcolor": "#E5ECF6",
           "caxis": {
            "gridcolor": "white",
            "linecolor": "white",
            "ticks": ""
           }
          },
          "title": {
           "x": 0.05
          },
          "xaxis": {
           "automargin": true,
           "gridcolor": "white",
           "linecolor": "white",
           "ticks": "",
           "title": {
            "standoff": 15
           },
           "zerolinecolor": "white",
           "zerolinewidth": 2
          },
          "yaxis": {
           "automargin": true,
           "gridcolor": "white",
           "linecolor": "white",
           "ticks": "",
           "title": {
            "standoff": 15
           },
           "zerolinecolor": "white",
           "zerolinewidth": 2
          }
         }
        },
        "title": {
         "text": "ecoscore groups treemap"
        }
       }
      }
     },
     "metadata": {},
     "output_type": "display_data"
    }
   ],
   "source": [
    "df = pd.DataFrame(data_graph_ecoscore_groups)\n",
    "fig = px.treemap(df, path=['ecoscore_group'], values='percentage',\n",
    "                 color='percentage', color_continuous_scale='Magma',\n",
    "                 title='ecoscore groups treemap')\n",
    "fig.update_layout(\n",
    "    paper_bgcolor='black',  \n",
    "    plot_bgcolor='black',   \n",
    "    font_color='white'      \n",
    ")\n",
    "fig.show()"
   ]
  },
  {
   "cell_type": "markdown",
   "metadata": {},
   "source": [
    "# LABELS:"
   ]
  },
  {
   "cell_type": "code",
   "execution_count": 83,
   "metadata": {},
   "outputs": [
    {
     "name": "stdout",
     "output_type": "stream",
     "text": [
      "0: 70.98%\n",
      "1: 11.31%\n",
      "9: 0.46%\n",
      "2: 8.12%\n",
      "3: 4.33%\n",
      "6: 0.89%\n",
      "7: 0.46%\n",
      "8: 0.29%\n",
      "5: 1.11%\n",
      "4: 2.04%\n"
     ]
    }
   ],
   "source": [
    "# retourne une liste des labels présents dans le fichier (sans doublons dans l'affichage)\n",
    "def extract_labels_from_jsonl(file_path):\n",
    "    labels_list = []\n",
    "    with open(file_path, 'r', encoding='utf-8') as file:\n",
    "        for line in file:\n",
    "            try:\n",
    "                record = json.loads(line)\n",
    "                labels = record.get('labels_note')\n",
    "                if labels is not None:\n",
    "                    labels_list.append(labels)\n",
    "            except json.JSONDecodeError:\n",
    "                print(f\"WARNING line: {line} in {file_path}\")\n",
    "    return labels_list\n",
    "\n",
    "labels_list = extract_labels_from_jsonl(jsonl_02)\n",
    "label_counts = Counter(labels_list)\n",
    "total_labels = sum(label_counts.values())\n",
    "\n",
    "data_graph_labels = []\n",
    "for label, count in label_counts.items():\n",
    "    percentage = (count / total_labels) * 100\n",
    "    print(f\"{label}: {percentage:.2f}%\")\n",
    "    data_graph_labels.append({'labels': label, 'percentage': percentage})"
   ]
  },
  {
   "cell_type": "code",
   "execution_count": 84,
   "metadata": {},
   "outputs": [
    {
     "data": {
      "application/vnd.plotly.v1+json": {
       "config": {
        "plotlyServerURL": "https://plot.ly"
       },
       "data": [
        {
         "branchvalues": "total",
         "customdata": [
          [
           70.97701993395906
          ],
          [
           11.31003578965918
          ],
          [
           8.12106387174463
          ],
          [
           4.329793527652022
          ],
          [
           2.0435349945665173
          ],
          [
           1.1085144144635537
          ],
          [
           0.8926436096787322
          ],
          [
           0.46467816579045634
          ],
          [
           0.28782773971309533
          ],
          [
           0.4648879527727546
          ]
         ],
         "domain": {
          "x": [
           0,
           1
          ],
          "y": [
           0,
           1
          ]
         },
         "hovertemplate": "labels=%{label}<br>percentage_sum=%{value}<br>parent=%{parent}<br>id=%{id}<br>percentage=%{color}<extra></extra>",
         "ids": [
          "0",
          "1",
          "2",
          "3",
          "4",
          "5",
          "6",
          "7",
          "8",
          "9"
         ],
         "labels": [
          "0",
          "1",
          "2",
          "3",
          "4",
          "5",
          "6",
          "7",
          "8",
          "9"
         ],
         "marker": {
          "coloraxis": "coloraxis",
          "colors": [
           70.97701993395906,
           11.31003578965918,
           8.12106387174463,
           4.329793527652022,
           2.0435349945665173,
           1.1085144144635537,
           0.8926436096787322,
           0.46467816579045634,
           0.28782773971309533,
           0.4648879527727546
          ]
         },
         "name": "",
         "parents": [
          "",
          "",
          "",
          "",
          "",
          "",
          "",
          "",
          "",
          ""
         ],
         "type": "treemap",
         "values": [
          70.97701993395906,
          11.31003578965918,
          8.12106387174463,
          4.329793527652022,
          2.0435349945665173,
          1.1085144144635537,
          0.8926436096787322,
          0.46467816579045634,
          0.28782773971309533,
          0.4648879527727546
         ]
        }
       ],
       "layout": {
        "coloraxis": {
         "colorbar": {
          "title": {
           "text": "percentage"
          }
         },
         "colorscale": [
          [
           0,
           "#000004"
          ],
          [
           0.1111111111111111,
           "#180f3d"
          ],
          [
           0.2222222222222222,
           "#440f76"
          ],
          [
           0.3333333333333333,
           "#721f81"
          ],
          [
           0.4444444444444444,
           "#9e2f7f"
          ],
          [
           0.5555555555555556,
           "#cd4071"
          ],
          [
           0.6666666666666666,
           "#f1605d"
          ],
          [
           0.7777777777777778,
           "#fd9668"
          ],
          [
           0.8888888888888888,
           "#feca8d"
          ],
          [
           1,
           "#fcfdbf"
          ]
         ]
        },
        "font": {
         "color": "white"
        },
        "legend": {
         "tracegroupgap": 0
        },
        "paper_bgcolor": "black",
        "plot_bgcolor": "black",
        "template": {
         "data": {
          "bar": [
           {
            "error_x": {
             "color": "#2a3f5f"
            },
            "error_y": {
             "color": "#2a3f5f"
            },
            "marker": {
             "line": {
              "color": "#E5ECF6",
              "width": 0.5
             },
             "pattern": {
              "fillmode": "overlay",
              "size": 10,
              "solidity": 0.2
             }
            },
            "type": "bar"
           }
          ],
          "barpolar": [
           {
            "marker": {
             "line": {
              "color": "#E5ECF6",
              "width": 0.5
             },
             "pattern": {
              "fillmode": "overlay",
              "size": 10,
              "solidity": 0.2
             }
            },
            "type": "barpolar"
           }
          ],
          "carpet": [
           {
            "aaxis": {
             "endlinecolor": "#2a3f5f",
             "gridcolor": "white",
             "linecolor": "white",
             "minorgridcolor": "white",
             "startlinecolor": "#2a3f5f"
            },
            "baxis": {
             "endlinecolor": "#2a3f5f",
             "gridcolor": "white",
             "linecolor": "white",
             "minorgridcolor": "white",
             "startlinecolor": "#2a3f5f"
            },
            "type": "carpet"
           }
          ],
          "choropleth": [
           {
            "colorbar": {
             "outlinewidth": 0,
             "ticks": ""
            },
            "type": "choropleth"
           }
          ],
          "contour": [
           {
            "colorbar": {
             "outlinewidth": 0,
             "ticks": ""
            },
            "colorscale": [
             [
              0,
              "#0d0887"
             ],
             [
              0.1111111111111111,
              "#46039f"
             ],
             [
              0.2222222222222222,
              "#7201a8"
             ],
             [
              0.3333333333333333,
              "#9c179e"
             ],
             [
              0.4444444444444444,
              "#bd3786"
             ],
             [
              0.5555555555555556,
              "#d8576b"
             ],
             [
              0.6666666666666666,
              "#ed7953"
             ],
             [
              0.7777777777777778,
              "#fb9f3a"
             ],
             [
              0.8888888888888888,
              "#fdca26"
             ],
             [
              1,
              "#f0f921"
             ]
            ],
            "type": "contour"
           }
          ],
          "contourcarpet": [
           {
            "colorbar": {
             "outlinewidth": 0,
             "ticks": ""
            },
            "type": "contourcarpet"
           }
          ],
          "heatmap": [
           {
            "colorbar": {
             "outlinewidth": 0,
             "ticks": ""
            },
            "colorscale": [
             [
              0,
              "#0d0887"
             ],
             [
              0.1111111111111111,
              "#46039f"
             ],
             [
              0.2222222222222222,
              "#7201a8"
             ],
             [
              0.3333333333333333,
              "#9c179e"
             ],
             [
              0.4444444444444444,
              "#bd3786"
             ],
             [
              0.5555555555555556,
              "#d8576b"
             ],
             [
              0.6666666666666666,
              "#ed7953"
             ],
             [
              0.7777777777777778,
              "#fb9f3a"
             ],
             [
              0.8888888888888888,
              "#fdca26"
             ],
             [
              1,
              "#f0f921"
             ]
            ],
            "type": "heatmap"
           }
          ],
          "heatmapgl": [
           {
            "colorbar": {
             "outlinewidth": 0,
             "ticks": ""
            },
            "colorscale": [
             [
              0,
              "#0d0887"
             ],
             [
              0.1111111111111111,
              "#46039f"
             ],
             [
              0.2222222222222222,
              "#7201a8"
             ],
             [
              0.3333333333333333,
              "#9c179e"
             ],
             [
              0.4444444444444444,
              "#bd3786"
             ],
             [
              0.5555555555555556,
              "#d8576b"
             ],
             [
              0.6666666666666666,
              "#ed7953"
             ],
             [
              0.7777777777777778,
              "#fb9f3a"
             ],
             [
              0.8888888888888888,
              "#fdca26"
             ],
             [
              1,
              "#f0f921"
             ]
            ],
            "type": "heatmapgl"
           }
          ],
          "histogram": [
           {
            "marker": {
             "pattern": {
              "fillmode": "overlay",
              "size": 10,
              "solidity": 0.2
             }
            },
            "type": "histogram"
           }
          ],
          "histogram2d": [
           {
            "colorbar": {
             "outlinewidth": 0,
             "ticks": ""
            },
            "colorscale": [
             [
              0,
              "#0d0887"
             ],
             [
              0.1111111111111111,
              "#46039f"
             ],
             [
              0.2222222222222222,
              "#7201a8"
             ],
             [
              0.3333333333333333,
              "#9c179e"
             ],
             [
              0.4444444444444444,
              "#bd3786"
             ],
             [
              0.5555555555555556,
              "#d8576b"
             ],
             [
              0.6666666666666666,
              "#ed7953"
             ],
             [
              0.7777777777777778,
              "#fb9f3a"
             ],
             [
              0.8888888888888888,
              "#fdca26"
             ],
             [
              1,
              "#f0f921"
             ]
            ],
            "type": "histogram2d"
           }
          ],
          "histogram2dcontour": [
           {
            "colorbar": {
             "outlinewidth": 0,
             "ticks": ""
            },
            "colorscale": [
             [
              0,
              "#0d0887"
             ],
             [
              0.1111111111111111,
              "#46039f"
             ],
             [
              0.2222222222222222,
              "#7201a8"
             ],
             [
              0.3333333333333333,
              "#9c179e"
             ],
             [
              0.4444444444444444,
              "#bd3786"
             ],
             [
              0.5555555555555556,
              "#d8576b"
             ],
             [
              0.6666666666666666,
              "#ed7953"
             ],
             [
              0.7777777777777778,
              "#fb9f3a"
             ],
             [
              0.8888888888888888,
              "#fdca26"
             ],
             [
              1,
              "#f0f921"
             ]
            ],
            "type": "histogram2dcontour"
           }
          ],
          "mesh3d": [
           {
            "colorbar": {
             "outlinewidth": 0,
             "ticks": ""
            },
            "type": "mesh3d"
           }
          ],
          "parcoords": [
           {
            "line": {
             "colorbar": {
              "outlinewidth": 0,
              "ticks": ""
             }
            },
            "type": "parcoords"
           }
          ],
          "pie": [
           {
            "automargin": true,
            "type": "pie"
           }
          ],
          "scatter": [
           {
            "fillpattern": {
             "fillmode": "overlay",
             "size": 10,
             "solidity": 0.2
            },
            "type": "scatter"
           }
          ],
          "scatter3d": [
           {
            "line": {
             "colorbar": {
              "outlinewidth": 0,
              "ticks": ""
             }
            },
            "marker": {
             "colorbar": {
              "outlinewidth": 0,
              "ticks": ""
             }
            },
            "type": "scatter3d"
           }
          ],
          "scattercarpet": [
           {
            "marker": {
             "colorbar": {
              "outlinewidth": 0,
              "ticks": ""
             }
            },
            "type": "scattercarpet"
           }
          ],
          "scattergeo": [
           {
            "marker": {
             "colorbar": {
              "outlinewidth": 0,
              "ticks": ""
             }
            },
            "type": "scattergeo"
           }
          ],
          "scattergl": [
           {
            "marker": {
             "colorbar": {
              "outlinewidth": 0,
              "ticks": ""
             }
            },
            "type": "scattergl"
           }
          ],
          "scattermapbox": [
           {
            "marker": {
             "colorbar": {
              "outlinewidth": 0,
              "ticks": ""
             }
            },
            "type": "scattermapbox"
           }
          ],
          "scatterpolar": [
           {
            "marker": {
             "colorbar": {
              "outlinewidth": 0,
              "ticks": ""
             }
            },
            "type": "scatterpolar"
           }
          ],
          "scatterpolargl": [
           {
            "marker": {
             "colorbar": {
              "outlinewidth": 0,
              "ticks": ""
             }
            },
            "type": "scatterpolargl"
           }
          ],
          "scatterternary": [
           {
            "marker": {
             "colorbar": {
              "outlinewidth": 0,
              "ticks": ""
             }
            },
            "type": "scatterternary"
           }
          ],
          "surface": [
           {
            "colorbar": {
             "outlinewidth": 0,
             "ticks": ""
            },
            "colorscale": [
             [
              0,
              "#0d0887"
             ],
             [
              0.1111111111111111,
              "#46039f"
             ],
             [
              0.2222222222222222,
              "#7201a8"
             ],
             [
              0.3333333333333333,
              "#9c179e"
             ],
             [
              0.4444444444444444,
              "#bd3786"
             ],
             [
              0.5555555555555556,
              "#d8576b"
             ],
             [
              0.6666666666666666,
              "#ed7953"
             ],
             [
              0.7777777777777778,
              "#fb9f3a"
             ],
             [
              0.8888888888888888,
              "#fdca26"
             ],
             [
              1,
              "#f0f921"
             ]
            ],
            "type": "surface"
           }
          ],
          "table": [
           {
            "cells": {
             "fill": {
              "color": "#EBF0F8"
             },
             "line": {
              "color": "white"
             }
            },
            "header": {
             "fill": {
              "color": "#C8D4E3"
             },
             "line": {
              "color": "white"
             }
            },
            "type": "table"
           }
          ]
         },
         "layout": {
          "annotationdefaults": {
           "arrowcolor": "#2a3f5f",
           "arrowhead": 0,
           "arrowwidth": 1
          },
          "autotypenumbers": "strict",
          "coloraxis": {
           "colorbar": {
            "outlinewidth": 0,
            "ticks": ""
           }
          },
          "colorscale": {
           "diverging": [
            [
             0,
             "#8e0152"
            ],
            [
             0.1,
             "#c51b7d"
            ],
            [
             0.2,
             "#de77ae"
            ],
            [
             0.3,
             "#f1b6da"
            ],
            [
             0.4,
             "#fde0ef"
            ],
            [
             0.5,
             "#f7f7f7"
            ],
            [
             0.6,
             "#e6f5d0"
            ],
            [
             0.7,
             "#b8e186"
            ],
            [
             0.8,
             "#7fbc41"
            ],
            [
             0.9,
             "#4d9221"
            ],
            [
             1,
             "#276419"
            ]
           ],
           "sequential": [
            [
             0,
             "#0d0887"
            ],
            [
             0.1111111111111111,
             "#46039f"
            ],
            [
             0.2222222222222222,
             "#7201a8"
            ],
            [
             0.3333333333333333,
             "#9c179e"
            ],
            [
             0.4444444444444444,
             "#bd3786"
            ],
            [
             0.5555555555555556,
             "#d8576b"
            ],
            [
             0.6666666666666666,
             "#ed7953"
            ],
            [
             0.7777777777777778,
             "#fb9f3a"
            ],
            [
             0.8888888888888888,
             "#fdca26"
            ],
            [
             1,
             "#f0f921"
            ]
           ],
           "sequentialminus": [
            [
             0,
             "#0d0887"
            ],
            [
             0.1111111111111111,
             "#46039f"
            ],
            [
             0.2222222222222222,
             "#7201a8"
            ],
            [
             0.3333333333333333,
             "#9c179e"
            ],
            [
             0.4444444444444444,
             "#bd3786"
            ],
            [
             0.5555555555555556,
             "#d8576b"
            ],
            [
             0.6666666666666666,
             "#ed7953"
            ],
            [
             0.7777777777777778,
             "#fb9f3a"
            ],
            [
             0.8888888888888888,
             "#fdca26"
            ],
            [
             1,
             "#f0f921"
            ]
           ]
          },
          "colorway": [
           "#636efa",
           "#EF553B",
           "#00cc96",
           "#ab63fa",
           "#FFA15A",
           "#19d3f3",
           "#FF6692",
           "#B6E880",
           "#FF97FF",
           "#FECB52"
          ],
          "font": {
           "color": "#2a3f5f"
          },
          "geo": {
           "bgcolor": "white",
           "lakecolor": "white",
           "landcolor": "#E5ECF6",
           "showlakes": true,
           "showland": true,
           "subunitcolor": "white"
          },
          "hoverlabel": {
           "align": "left"
          },
          "hovermode": "closest",
          "mapbox": {
           "style": "light"
          },
          "paper_bgcolor": "white",
          "plot_bgcolor": "#E5ECF6",
          "polar": {
           "angularaxis": {
            "gridcolor": "white",
            "linecolor": "white",
            "ticks": ""
           },
           "bgcolor": "#E5ECF6",
           "radialaxis": {
            "gridcolor": "white",
            "linecolor": "white",
            "ticks": ""
           }
          },
          "scene": {
           "xaxis": {
            "backgroundcolor": "#E5ECF6",
            "gridcolor": "white",
            "gridwidth": 2,
            "linecolor": "white",
            "showbackground": true,
            "ticks": "",
            "zerolinecolor": "white"
           },
           "yaxis": {
            "backgroundcolor": "#E5ECF6",
            "gridcolor": "white",
            "gridwidth": 2,
            "linecolor": "white",
            "showbackground": true,
            "ticks": "",
            "zerolinecolor": "white"
           },
           "zaxis": {
            "backgroundcolor": "#E5ECF6",
            "gridcolor": "white",
            "gridwidth": 2,
            "linecolor": "white",
            "showbackground": true,
            "ticks": "",
            "zerolinecolor": "white"
           }
          },
          "shapedefaults": {
           "line": {
            "color": "#2a3f5f"
           }
          },
          "ternary": {
           "aaxis": {
            "gridcolor": "white",
            "linecolor": "white",
            "ticks": ""
           },
           "baxis": {
            "gridcolor": "white",
            "linecolor": "white",
            "ticks": ""
           },
           "bgcolor": "#E5ECF6",
           "caxis": {
            "gridcolor": "white",
            "linecolor": "white",
            "ticks": ""
           }
          },
          "title": {
           "x": 0.05
          },
          "xaxis": {
           "automargin": true,
           "gridcolor": "white",
           "linecolor": "white",
           "ticks": "",
           "title": {
            "standoff": 15
           },
           "zerolinecolor": "white",
           "zerolinewidth": 2
          },
          "yaxis": {
           "automargin": true,
           "gridcolor": "white",
           "linecolor": "white",
           "ticks": "",
           "title": {
            "standoff": 15
           },
           "zerolinecolor": "white",
           "zerolinewidth": 2
          }
         }
        },
        "title": {
         "text": "labels treemap"
        }
       }
      }
     },
     "metadata": {},
     "output_type": "display_data"
    }
   ],
   "source": [
    "df = pd.DataFrame(data_graph_labels)\n",
    "fig = px.treemap(df, path=['labels'], values='percentage',\n",
    "                 color='percentage', color_continuous_scale='Magma',\n",
    "                 title='labels treemap')\n",
    "fig.update_layout(\n",
    "    paper_bgcolor='black',  \n",
    "    plot_bgcolor='black',   \n",
    "    font_color='white'      \n",
    ")\n",
    "fig.show()"
   ]
  },
  {
   "cell_type": "markdown",
   "metadata": {},
   "source": [
    "# NONE NUMBER:"
   ]
  },
  {
   "cell_type": "code",
   "execution_count": 85,
   "metadata": {},
   "outputs": [],
   "source": [
    "def count_none_and_total_values(jsonl_file_path):\n",
    "    none_counts = defaultdict(int)\n",
    "    total_counts = defaultdict(int)\n",
    "    with open(jsonl_file_path, 'r', encoding='utf-8') as file:\n",
    "        for line in file:\n",
    "            data = json.loads(line)\n",
    "            for key, value in data.items():\n",
    "                total_counts[key] += 1\n",
    "                if value is None:\n",
    "                    none_counts[key] += 1\n",
    "    return none_counts, total_counts\n",
    "\n",
    "def calculate_percentage(none_counts, total_counts):\n",
    "    percentages = {}\n",
    "    for key in none_counts:\n",
    "        if total_counts[key] > 0:\n",
    "            percentage = (none_counts[key] / total_counts[key]) * 100\n",
    "        else:\n",
    "            percentage = 0\n",
    "        percentages[key] = percentage\n",
    "    return percentages\n",
    "\n",
    "none_counts, total_counts = count_none_and_total_values(jsonl_02)\n",
    "percentages = calculate_percentage(none_counts, total_counts)"
   ]
  },
  {
   "cell_type": "code",
   "execution_count": 86,
   "metadata": {},
   "outputs": [
    {
     "data": {
      "application/vnd.plotly.v1+json": {
       "config": {
        "plotlyServerURL": "https://plot.ly"
       },
       "data": [
        {
         "branchvalues": "total",
         "customdata": [
          [
           55.681031480634566
          ],
          [
           63.707061849398116
          ],
          [
           71.49183718851879
          ],
          [
           88.40968880199046
          ]
         ],
         "domain": {
          "x": [
           0,
           1
          ],
          "y": [
           0,
           1
          ]
         },
         "hovertemplate": "labels=%{label}<br>percentage_sum=%{value}<br>parent=%{parent}<br>id=%{id}<br>percentage=%{color}<extra></extra>",
         "ids": [
          "categories",
          "groups",
          "ingredients",
          "packaging"
         ],
         "labels": [
          "categories",
          "groups",
          "ingredients",
          "packaging"
         ],
         "marker": {
          "coloraxis": "coloraxis",
          "colors": [
           55.681031480634566,
           63.707061849398116,
           71.49183718851879,
           88.40968880199046
          ]
         },
         "name": "",
         "parents": [
          "",
          "",
          "",
          ""
         ],
         "type": "treemap",
         "values": [
          55.681031480634566,
          63.707061849398116,
          71.49183718851879,
          88.40968880199046
         ]
        }
       ],
       "layout": {
        "coloraxis": {
         "colorbar": {
          "title": {
           "text": "percentage"
          }
         },
         "colorscale": [
          [
           0,
           "#000004"
          ],
          [
           0.1111111111111111,
           "#180f3d"
          ],
          [
           0.2222222222222222,
           "#440f76"
          ],
          [
           0.3333333333333333,
           "#721f81"
          ],
          [
           0.4444444444444444,
           "#9e2f7f"
          ],
          [
           0.5555555555555556,
           "#cd4071"
          ],
          [
           0.6666666666666666,
           "#f1605d"
          ],
          [
           0.7777777777777778,
           "#fd9668"
          ],
          [
           0.8888888888888888,
           "#feca8d"
          ],
          [
           1,
           "#fcfdbf"
          ]
         ]
        },
        "font": {
         "color": "white"
        },
        "legend": {
         "tracegroupgap": 0
        },
        "paper_bgcolor": "black",
        "plot_bgcolor": "black",
        "template": {
         "data": {
          "bar": [
           {
            "error_x": {
             "color": "#2a3f5f"
            },
            "error_y": {
             "color": "#2a3f5f"
            },
            "marker": {
             "line": {
              "color": "#E5ECF6",
              "width": 0.5
             },
             "pattern": {
              "fillmode": "overlay",
              "size": 10,
              "solidity": 0.2
             }
            },
            "type": "bar"
           }
          ],
          "barpolar": [
           {
            "marker": {
             "line": {
              "color": "#E5ECF6",
              "width": 0.5
             },
             "pattern": {
              "fillmode": "overlay",
              "size": 10,
              "solidity": 0.2
             }
            },
            "type": "barpolar"
           }
          ],
          "carpet": [
           {
            "aaxis": {
             "endlinecolor": "#2a3f5f",
             "gridcolor": "white",
             "linecolor": "white",
             "minorgridcolor": "white",
             "startlinecolor": "#2a3f5f"
            },
            "baxis": {
             "endlinecolor": "#2a3f5f",
             "gridcolor": "white",
             "linecolor": "white",
             "minorgridcolor": "white",
             "startlinecolor": "#2a3f5f"
            },
            "type": "carpet"
           }
          ],
          "choropleth": [
           {
            "colorbar": {
             "outlinewidth": 0,
             "ticks": ""
            },
            "type": "choropleth"
           }
          ],
          "contour": [
           {
            "colorbar": {
             "outlinewidth": 0,
             "ticks": ""
            },
            "colorscale": [
             [
              0,
              "#0d0887"
             ],
             [
              0.1111111111111111,
              "#46039f"
             ],
             [
              0.2222222222222222,
              "#7201a8"
             ],
             [
              0.3333333333333333,
              "#9c179e"
             ],
             [
              0.4444444444444444,
              "#bd3786"
             ],
             [
              0.5555555555555556,
              "#d8576b"
             ],
             [
              0.6666666666666666,
              "#ed7953"
             ],
             [
              0.7777777777777778,
              "#fb9f3a"
             ],
             [
              0.8888888888888888,
              "#fdca26"
             ],
             [
              1,
              "#f0f921"
             ]
            ],
            "type": "contour"
           }
          ],
          "contourcarpet": [
           {
            "colorbar": {
             "outlinewidth": 0,
             "ticks": ""
            },
            "type": "contourcarpet"
           }
          ],
          "heatmap": [
           {
            "colorbar": {
             "outlinewidth": 0,
             "ticks": ""
            },
            "colorscale": [
             [
              0,
              "#0d0887"
             ],
             [
              0.1111111111111111,
              "#46039f"
             ],
             [
              0.2222222222222222,
              "#7201a8"
             ],
             [
              0.3333333333333333,
              "#9c179e"
             ],
             [
              0.4444444444444444,
              "#bd3786"
             ],
             [
              0.5555555555555556,
              "#d8576b"
             ],
             [
              0.6666666666666666,
              "#ed7953"
             ],
             [
              0.7777777777777778,
              "#fb9f3a"
             ],
             [
              0.8888888888888888,
              "#fdca26"
             ],
             [
              1,
              "#f0f921"
             ]
            ],
            "type": "heatmap"
           }
          ],
          "heatmapgl": [
           {
            "colorbar": {
             "outlinewidth": 0,
             "ticks": ""
            },
            "colorscale": [
             [
              0,
              "#0d0887"
             ],
             [
              0.1111111111111111,
              "#46039f"
             ],
             [
              0.2222222222222222,
              "#7201a8"
             ],
             [
              0.3333333333333333,
              "#9c179e"
             ],
             [
              0.4444444444444444,
              "#bd3786"
             ],
             [
              0.5555555555555556,
              "#d8576b"
             ],
             [
              0.6666666666666666,
              "#ed7953"
             ],
             [
              0.7777777777777778,
              "#fb9f3a"
             ],
             [
              0.8888888888888888,
              "#fdca26"
             ],
             [
              1,
              "#f0f921"
             ]
            ],
            "type": "heatmapgl"
           }
          ],
          "histogram": [
           {
            "marker": {
             "pattern": {
              "fillmode": "overlay",
              "size": 10,
              "solidity": 0.2
             }
            },
            "type": "histogram"
           }
          ],
          "histogram2d": [
           {
            "colorbar": {
             "outlinewidth": 0,
             "ticks": ""
            },
            "colorscale": [
             [
              0,
              "#0d0887"
             ],
             [
              0.1111111111111111,
              "#46039f"
             ],
             [
              0.2222222222222222,
              "#7201a8"
             ],
             [
              0.3333333333333333,
              "#9c179e"
             ],
             [
              0.4444444444444444,
              "#bd3786"
             ],
             [
              0.5555555555555556,
              "#d8576b"
             ],
             [
              0.6666666666666666,
              "#ed7953"
             ],
             [
              0.7777777777777778,
              "#fb9f3a"
             ],
             [
              0.8888888888888888,
              "#fdca26"
             ],
             [
              1,
              "#f0f921"
             ]
            ],
            "type": "histogram2d"
           }
          ],
          "histogram2dcontour": [
           {
            "colorbar": {
             "outlinewidth": 0,
             "ticks": ""
            },
            "colorscale": [
             [
              0,
              "#0d0887"
             ],
             [
              0.1111111111111111,
              "#46039f"
             ],
             [
              0.2222222222222222,
              "#7201a8"
             ],
             [
              0.3333333333333333,
              "#9c179e"
             ],
             [
              0.4444444444444444,
              "#bd3786"
             ],
             [
              0.5555555555555556,
              "#d8576b"
             ],
             [
              0.6666666666666666,
              "#ed7953"
             ],
             [
              0.7777777777777778,
              "#fb9f3a"
             ],
             [
              0.8888888888888888,
              "#fdca26"
             ],
             [
              1,
              "#f0f921"
             ]
            ],
            "type": "histogram2dcontour"
           }
          ],
          "mesh3d": [
           {
            "colorbar": {
             "outlinewidth": 0,
             "ticks": ""
            },
            "type": "mesh3d"
           }
          ],
          "parcoords": [
           {
            "line": {
             "colorbar": {
              "outlinewidth": 0,
              "ticks": ""
             }
            },
            "type": "parcoords"
           }
          ],
          "pie": [
           {
            "automargin": true,
            "type": "pie"
           }
          ],
          "scatter": [
           {
            "fillpattern": {
             "fillmode": "overlay",
             "size": 10,
             "solidity": 0.2
            },
            "type": "scatter"
           }
          ],
          "scatter3d": [
           {
            "line": {
             "colorbar": {
              "outlinewidth": 0,
              "ticks": ""
             }
            },
            "marker": {
             "colorbar": {
              "outlinewidth": 0,
              "ticks": ""
             }
            },
            "type": "scatter3d"
           }
          ],
          "scattercarpet": [
           {
            "marker": {
             "colorbar": {
              "outlinewidth": 0,
              "ticks": ""
             }
            },
            "type": "scattercarpet"
           }
          ],
          "scattergeo": [
           {
            "marker": {
             "colorbar": {
              "outlinewidth": 0,
              "ticks": ""
             }
            },
            "type": "scattergeo"
           }
          ],
          "scattergl": [
           {
            "marker": {
             "colorbar": {
              "outlinewidth": 0,
              "ticks": ""
             }
            },
            "type": "scattergl"
           }
          ],
          "scattermapbox": [
           {
            "marker": {
             "colorbar": {
              "outlinewidth": 0,
              "ticks": ""
             }
            },
            "type": "scattermapbox"
           }
          ],
          "scatterpolar": [
           {
            "marker": {
             "colorbar": {
              "outlinewidth": 0,
              "ticks": ""
             }
            },
            "type": "scatterpolar"
           }
          ],
          "scatterpolargl": [
           {
            "marker": {
             "colorbar": {
              "outlinewidth": 0,
              "ticks": ""
             }
            },
            "type": "scatterpolargl"
           }
          ],
          "scatterternary": [
           {
            "marker": {
             "colorbar": {
              "outlinewidth": 0,
              "ticks": ""
             }
            },
            "type": "scatterternary"
           }
          ],
          "surface": [
           {
            "colorbar": {
             "outlinewidth": 0,
             "ticks": ""
            },
            "colorscale": [
             [
              0,
              "#0d0887"
             ],
             [
              0.1111111111111111,
              "#46039f"
             ],
             [
              0.2222222222222222,
              "#7201a8"
             ],
             [
              0.3333333333333333,
              "#9c179e"
             ],
             [
              0.4444444444444444,
              "#bd3786"
             ],
             [
              0.5555555555555556,
              "#d8576b"
             ],
             [
              0.6666666666666666,
              "#ed7953"
             ],
             [
              0.7777777777777778,
              "#fb9f3a"
             ],
             [
              0.8888888888888888,
              "#fdca26"
             ],
             [
              1,
              "#f0f921"
             ]
            ],
            "type": "surface"
           }
          ],
          "table": [
           {
            "cells": {
             "fill": {
              "color": "#EBF0F8"
             },
             "line": {
              "color": "white"
             }
            },
            "header": {
             "fill": {
              "color": "#C8D4E3"
             },
             "line": {
              "color": "white"
             }
            },
            "type": "table"
           }
          ]
         },
         "layout": {
          "annotationdefaults": {
           "arrowcolor": "#2a3f5f",
           "arrowhead": 0,
           "arrowwidth": 1
          },
          "autotypenumbers": "strict",
          "coloraxis": {
           "colorbar": {
            "outlinewidth": 0,
            "ticks": ""
           }
          },
          "colorscale": {
           "diverging": [
            [
             0,
             "#8e0152"
            ],
            [
             0.1,
             "#c51b7d"
            ],
            [
             0.2,
             "#de77ae"
            ],
            [
             0.3,
             "#f1b6da"
            ],
            [
             0.4,
             "#fde0ef"
            ],
            [
             0.5,
             "#f7f7f7"
            ],
            [
             0.6,
             "#e6f5d0"
            ],
            [
             0.7,
             "#b8e186"
            ],
            [
             0.8,
             "#7fbc41"
            ],
            [
             0.9,
             "#4d9221"
            ],
            [
             1,
             "#276419"
            ]
           ],
           "sequential": [
            [
             0,
             "#0d0887"
            ],
            [
             0.1111111111111111,
             "#46039f"
            ],
            [
             0.2222222222222222,
             "#7201a8"
            ],
            [
             0.3333333333333333,
             "#9c179e"
            ],
            [
             0.4444444444444444,
             "#bd3786"
            ],
            [
             0.5555555555555556,
             "#d8576b"
            ],
            [
             0.6666666666666666,
             "#ed7953"
            ],
            [
             0.7777777777777778,
             "#fb9f3a"
            ],
            [
             0.8888888888888888,
             "#fdca26"
            ],
            [
             1,
             "#f0f921"
            ]
           ],
           "sequentialminus": [
            [
             0,
             "#0d0887"
            ],
            [
             0.1111111111111111,
             "#46039f"
            ],
            [
             0.2222222222222222,
             "#7201a8"
            ],
            [
             0.3333333333333333,
             "#9c179e"
            ],
            [
             0.4444444444444444,
             "#bd3786"
            ],
            [
             0.5555555555555556,
             "#d8576b"
            ],
            [
             0.6666666666666666,
             "#ed7953"
            ],
            [
             0.7777777777777778,
             "#fb9f3a"
            ],
            [
             0.8888888888888888,
             "#fdca26"
            ],
            [
             1,
             "#f0f921"
            ]
           ]
          },
          "colorway": [
           "#636efa",
           "#EF553B",
           "#00cc96",
           "#ab63fa",
           "#FFA15A",
           "#19d3f3",
           "#FF6692",
           "#B6E880",
           "#FF97FF",
           "#FECB52"
          ],
          "font": {
           "color": "#2a3f5f"
          },
          "geo": {
           "bgcolor": "white",
           "lakecolor": "white",
           "landcolor": "#E5ECF6",
           "showlakes": true,
           "showland": true,
           "subunitcolor": "white"
          },
          "hoverlabel": {
           "align": "left"
          },
          "hovermode": "closest",
          "mapbox": {
           "style": "light"
          },
          "paper_bgcolor": "white",
          "plot_bgcolor": "#E5ECF6",
          "polar": {
           "angularaxis": {
            "gridcolor": "white",
            "linecolor": "white",
            "ticks": ""
           },
           "bgcolor": "#E5ECF6",
           "radialaxis": {
            "gridcolor": "white",
            "linecolor": "white",
            "ticks": ""
           }
          },
          "scene": {
           "xaxis": {
            "backgroundcolor": "#E5ECF6",
            "gridcolor": "white",
            "gridwidth": 2,
            "linecolor": "white",
            "showbackground": true,
            "ticks": "",
            "zerolinecolor": "white"
           },
           "yaxis": {
            "backgroundcolor": "#E5ECF6",
            "gridcolor": "white",
            "gridwidth": 2,
            "linecolor": "white",
            "showbackground": true,
            "ticks": "",
            "zerolinecolor": "white"
           },
           "zaxis": {
            "backgroundcolor": "#E5ECF6",
            "gridcolor": "white",
            "gridwidth": 2,
            "linecolor": "white",
            "showbackground": true,
            "ticks": "",
            "zerolinecolor": "white"
           }
          },
          "shapedefaults": {
           "line": {
            "color": "#2a3f5f"
           }
          },
          "ternary": {
           "aaxis": {
            "gridcolor": "white",
            "linecolor": "white",
            "ticks": ""
           },
           "baxis": {
            "gridcolor": "white",
            "linecolor": "white",
            "ticks": ""
           },
           "bgcolor": "#E5ECF6",
           "caxis": {
            "gridcolor": "white",
            "linecolor": "white",
            "ticks": ""
           }
          },
          "title": {
           "x": 0.05
          },
          "xaxis": {
           "automargin": true,
           "gridcolor": "white",
           "linecolor": "white",
           "ticks": "",
           "title": {
            "standoff": 15
           },
           "zerolinecolor": "white",
           "zerolinewidth": 2
          },
          "yaxis": {
           "automargin": true,
           "gridcolor": "white",
           "linecolor": "white",
           "ticks": "",
           "title": {
            "standoff": 15
           },
           "zerolinecolor": "white",
           "zerolinewidth": 2
          }
         }
        },
        "title": {
         "text": "none treemap"
        }
       }
      }
     },
     "metadata": {},
     "output_type": "display_data"
    }
   ],
   "source": [
    "data_graph_none = [{'key': key, 'percentage': percentage} for key, percentage in percentages.items()]\n",
    "df = pd.DataFrame(data_graph_none)\n",
    "fig = px.treemap(df, path=['key'], values='percentage',\n",
    "                 color='percentage', color_continuous_scale='Magma',\n",
    "                 title='none treemap')\n",
    "fig.update_layout(\n",
    "    paper_bgcolor='black',  \n",
    "    plot_bgcolor='black',   \n",
    "    font_color='white'      \n",
    ")\n",
    "fig.show()"
   ]
  },
  {
   "cell_type": "markdown",
   "metadata": {},
   "source": [
    "# ECOSCORE NULL:"
   ]
  },
  {
   "cell_type": "code",
   "execution_count": 87,
   "metadata": {},
   "outputs": [],
   "source": [
    "def count_specific_values(jsonl_file_path):\n",
    "    counts = {\n",
    "        'ecoscore_groups': {'z': 0},\n",
    "        'ecoscore_note': {999: 0}\n",
    "    }\n",
    "    total_counts = {\n",
    "        'ecoscore_groups': 0,\n",
    "        'ecoscore_note': 0\n",
    "    }\n",
    "    with open(jsonl_file_path, 'r') as file:\n",
    "        for line in file:\n",
    "            data = json.loads(line)\n",
    "            for key, value in data.items():\n",
    "                if key in counts:\n",
    "                    total_counts[key] += 1\n",
    "                    if key == 'ecoscore_groups' and value == 'z':\n",
    "                        counts[key]['z'] += 1\n",
    "                    if key == 'ecoscore_note' and value == 999:\n",
    "                        counts[key][999] += 1\n",
    "    return counts, total_counts\n",
    "\n",
    "def calculate_percentage(count, total):\n",
    "    if total > 0:\n",
    "        percentage = (count / total) * 100\n",
    "    else:\n",
    "        percentage = 0\n",
    "    return percentage\n",
    "\n",
    "counts, total_counts = count_specific_values(jsonl_02)\n",
    "\n",
    "z_percentage = calculate_percentage(counts['ecoscore_groups']['z'], total_counts['ecoscore_groups'])\n",
    "number_999 = counts['ecoscore_note'][999]\n",
    "number_999_percentage = calculate_percentage(number_999, total_counts['ecoscore_note'])\n",
    "\n",
    "labels = ['Ecoscore Groups (z)', 'Ecoscore Note (999)']\n",
    "values = [z_percentage, number_999_percentage]\n",
    "counts_values = [counts['ecoscore_groups']['z'], counts['ecoscore_note'][999]]"
   ]
  },
  {
   "cell_type": "code",
   "execution_count": 88,
   "metadata": {},
   "outputs": [
    {
     "data": {
      "application/vnd.plotly.v1+json": {
       "config": {
        "plotlyServerURL": "https://plot.ly"
       },
       "data": [
        {
         "name": "Pourcentage",
         "text": [
          "74.62%",
          "74.62%"
         ],
         "textposition": "auto",
         "type": "bar",
         "x": [
          "Ecoscore Groups (z)",
          "Ecoscore Note (999)"
         ],
         "y": [
          74.61745343777928,
          74.61745343777928
         ]
        },
        {
         "name": "Nombre",
         "text": [
          "355682",
          "355682"
         ],
         "textposition": "auto",
         "type": "bar",
         "x": [
          "Ecoscore Groups (z)",
          "Ecoscore Note (999)"
         ],
         "y": [
          355682,
          355682
         ]
        }
       ],
       "layout": {
        "barmode": "group",
        "template": {
         "data": {
          "bar": [
           {
            "error_x": {
             "color": "#2a3f5f"
            },
            "error_y": {
             "color": "#2a3f5f"
            },
            "marker": {
             "line": {
              "color": "#E5ECF6",
              "width": 0.5
             },
             "pattern": {
              "fillmode": "overlay",
              "size": 10,
              "solidity": 0.2
             }
            },
            "type": "bar"
           }
          ],
          "barpolar": [
           {
            "marker": {
             "line": {
              "color": "#E5ECF6",
              "width": 0.5
             },
             "pattern": {
              "fillmode": "overlay",
              "size": 10,
              "solidity": 0.2
             }
            },
            "type": "barpolar"
           }
          ],
          "carpet": [
           {
            "aaxis": {
             "endlinecolor": "#2a3f5f",
             "gridcolor": "white",
             "linecolor": "white",
             "minorgridcolor": "white",
             "startlinecolor": "#2a3f5f"
            },
            "baxis": {
             "endlinecolor": "#2a3f5f",
             "gridcolor": "white",
             "linecolor": "white",
             "minorgridcolor": "white",
             "startlinecolor": "#2a3f5f"
            },
            "type": "carpet"
           }
          ],
          "choropleth": [
           {
            "colorbar": {
             "outlinewidth": 0,
             "ticks": ""
            },
            "type": "choropleth"
           }
          ],
          "contour": [
           {
            "colorbar": {
             "outlinewidth": 0,
             "ticks": ""
            },
            "colorscale": [
             [
              0,
              "#0d0887"
             ],
             [
              0.1111111111111111,
              "#46039f"
             ],
             [
              0.2222222222222222,
              "#7201a8"
             ],
             [
              0.3333333333333333,
              "#9c179e"
             ],
             [
              0.4444444444444444,
              "#bd3786"
             ],
             [
              0.5555555555555556,
              "#d8576b"
             ],
             [
              0.6666666666666666,
              "#ed7953"
             ],
             [
              0.7777777777777778,
              "#fb9f3a"
             ],
             [
              0.8888888888888888,
              "#fdca26"
             ],
             [
              1,
              "#f0f921"
             ]
            ],
            "type": "contour"
           }
          ],
          "contourcarpet": [
           {
            "colorbar": {
             "outlinewidth": 0,
             "ticks": ""
            },
            "type": "contourcarpet"
           }
          ],
          "heatmap": [
           {
            "colorbar": {
             "outlinewidth": 0,
             "ticks": ""
            },
            "colorscale": [
             [
              0,
              "#0d0887"
             ],
             [
              0.1111111111111111,
              "#46039f"
             ],
             [
              0.2222222222222222,
              "#7201a8"
             ],
             [
              0.3333333333333333,
              "#9c179e"
             ],
             [
              0.4444444444444444,
              "#bd3786"
             ],
             [
              0.5555555555555556,
              "#d8576b"
             ],
             [
              0.6666666666666666,
              "#ed7953"
             ],
             [
              0.7777777777777778,
              "#fb9f3a"
             ],
             [
              0.8888888888888888,
              "#fdca26"
             ],
             [
              1,
              "#f0f921"
             ]
            ],
            "type": "heatmap"
           }
          ],
          "heatmapgl": [
           {
            "colorbar": {
             "outlinewidth": 0,
             "ticks": ""
            },
            "colorscale": [
             [
              0,
              "#0d0887"
             ],
             [
              0.1111111111111111,
              "#46039f"
             ],
             [
              0.2222222222222222,
              "#7201a8"
             ],
             [
              0.3333333333333333,
              "#9c179e"
             ],
             [
              0.4444444444444444,
              "#bd3786"
             ],
             [
              0.5555555555555556,
              "#d8576b"
             ],
             [
              0.6666666666666666,
              "#ed7953"
             ],
             [
              0.7777777777777778,
              "#fb9f3a"
             ],
             [
              0.8888888888888888,
              "#fdca26"
             ],
             [
              1,
              "#f0f921"
             ]
            ],
            "type": "heatmapgl"
           }
          ],
          "histogram": [
           {
            "marker": {
             "pattern": {
              "fillmode": "overlay",
              "size": 10,
              "solidity": 0.2
             }
            },
            "type": "histogram"
           }
          ],
          "histogram2d": [
           {
            "colorbar": {
             "outlinewidth": 0,
             "ticks": ""
            },
            "colorscale": [
             [
              0,
              "#0d0887"
             ],
             [
              0.1111111111111111,
              "#46039f"
             ],
             [
              0.2222222222222222,
              "#7201a8"
             ],
             [
              0.3333333333333333,
              "#9c179e"
             ],
             [
              0.4444444444444444,
              "#bd3786"
             ],
             [
              0.5555555555555556,
              "#d8576b"
             ],
             [
              0.6666666666666666,
              "#ed7953"
             ],
             [
              0.7777777777777778,
              "#fb9f3a"
             ],
             [
              0.8888888888888888,
              "#fdca26"
             ],
             [
              1,
              "#f0f921"
             ]
            ],
            "type": "histogram2d"
           }
          ],
          "histogram2dcontour": [
           {
            "colorbar": {
             "outlinewidth": 0,
             "ticks": ""
            },
            "colorscale": [
             [
              0,
              "#0d0887"
             ],
             [
              0.1111111111111111,
              "#46039f"
             ],
             [
              0.2222222222222222,
              "#7201a8"
             ],
             [
              0.3333333333333333,
              "#9c179e"
             ],
             [
              0.4444444444444444,
              "#bd3786"
             ],
             [
              0.5555555555555556,
              "#d8576b"
             ],
             [
              0.6666666666666666,
              "#ed7953"
             ],
             [
              0.7777777777777778,
              "#fb9f3a"
             ],
             [
              0.8888888888888888,
              "#fdca26"
             ],
             [
              1,
              "#f0f921"
             ]
            ],
            "type": "histogram2dcontour"
           }
          ],
          "mesh3d": [
           {
            "colorbar": {
             "outlinewidth": 0,
             "ticks": ""
            },
            "type": "mesh3d"
           }
          ],
          "parcoords": [
           {
            "line": {
             "colorbar": {
              "outlinewidth": 0,
              "ticks": ""
             }
            },
            "type": "parcoords"
           }
          ],
          "pie": [
           {
            "automargin": true,
            "type": "pie"
           }
          ],
          "scatter": [
           {
            "fillpattern": {
             "fillmode": "overlay",
             "size": 10,
             "solidity": 0.2
            },
            "type": "scatter"
           }
          ],
          "scatter3d": [
           {
            "line": {
             "colorbar": {
              "outlinewidth": 0,
              "ticks": ""
             }
            },
            "marker": {
             "colorbar": {
              "outlinewidth": 0,
              "ticks": ""
             }
            },
            "type": "scatter3d"
           }
          ],
          "scattercarpet": [
           {
            "marker": {
             "colorbar": {
              "outlinewidth": 0,
              "ticks": ""
             }
            },
            "type": "scattercarpet"
           }
          ],
          "scattergeo": [
           {
            "marker": {
             "colorbar": {
              "outlinewidth": 0,
              "ticks": ""
             }
            },
            "type": "scattergeo"
           }
          ],
          "scattergl": [
           {
            "marker": {
             "colorbar": {
              "outlinewidth": 0,
              "ticks": ""
             }
            },
            "type": "scattergl"
           }
          ],
          "scattermapbox": [
           {
            "marker": {
             "colorbar": {
              "outlinewidth": 0,
              "ticks": ""
             }
            },
            "type": "scattermapbox"
           }
          ],
          "scatterpolar": [
           {
            "marker": {
             "colorbar": {
              "outlinewidth": 0,
              "ticks": ""
             }
            },
            "type": "scatterpolar"
           }
          ],
          "scatterpolargl": [
           {
            "marker": {
             "colorbar": {
              "outlinewidth": 0,
              "ticks": ""
             }
            },
            "type": "scatterpolargl"
           }
          ],
          "scatterternary": [
           {
            "marker": {
             "colorbar": {
              "outlinewidth": 0,
              "ticks": ""
             }
            },
            "type": "scatterternary"
           }
          ],
          "surface": [
           {
            "colorbar": {
             "outlinewidth": 0,
             "ticks": ""
            },
            "colorscale": [
             [
              0,
              "#0d0887"
             ],
             [
              0.1111111111111111,
              "#46039f"
             ],
             [
              0.2222222222222222,
              "#7201a8"
             ],
             [
              0.3333333333333333,
              "#9c179e"
             ],
             [
              0.4444444444444444,
              "#bd3786"
             ],
             [
              0.5555555555555556,
              "#d8576b"
             ],
             [
              0.6666666666666666,
              "#ed7953"
             ],
             [
              0.7777777777777778,
              "#fb9f3a"
             ],
             [
              0.8888888888888888,
              "#fdca26"
             ],
             [
              1,
              "#f0f921"
             ]
            ],
            "type": "surface"
           }
          ],
          "table": [
           {
            "cells": {
             "fill": {
              "color": "#EBF0F8"
             },
             "line": {
              "color": "white"
             }
            },
            "header": {
             "fill": {
              "color": "#C8D4E3"
             },
             "line": {
              "color": "white"
             }
            },
            "type": "table"
           }
          ]
         },
         "layout": {
          "annotationdefaults": {
           "arrowcolor": "#2a3f5f",
           "arrowhead": 0,
           "arrowwidth": 1
          },
          "autotypenumbers": "strict",
          "coloraxis": {
           "colorbar": {
            "outlinewidth": 0,
            "ticks": ""
           }
          },
          "colorscale": {
           "diverging": [
            [
             0,
             "#8e0152"
            ],
            [
             0.1,
             "#c51b7d"
            ],
            [
             0.2,
             "#de77ae"
            ],
            [
             0.3,
             "#f1b6da"
            ],
            [
             0.4,
             "#fde0ef"
            ],
            [
             0.5,
             "#f7f7f7"
            ],
            [
             0.6,
             "#e6f5d0"
            ],
            [
             0.7,
             "#b8e186"
            ],
            [
             0.8,
             "#7fbc41"
            ],
            [
             0.9,
             "#4d9221"
            ],
            [
             1,
             "#276419"
            ]
           ],
           "sequential": [
            [
             0,
             "#0d0887"
            ],
            [
             0.1111111111111111,
             "#46039f"
            ],
            [
             0.2222222222222222,
             "#7201a8"
            ],
            [
             0.3333333333333333,
             "#9c179e"
            ],
            [
             0.4444444444444444,
             "#bd3786"
            ],
            [
             0.5555555555555556,
             "#d8576b"
            ],
            [
             0.6666666666666666,
             "#ed7953"
            ],
            [
             0.7777777777777778,
             "#fb9f3a"
            ],
            [
             0.8888888888888888,
             "#fdca26"
            ],
            [
             1,
             "#f0f921"
            ]
           ],
           "sequentialminus": [
            [
             0,
             "#0d0887"
            ],
            [
             0.1111111111111111,
             "#46039f"
            ],
            [
             0.2222222222222222,
             "#7201a8"
            ],
            [
             0.3333333333333333,
             "#9c179e"
            ],
            [
             0.4444444444444444,
             "#bd3786"
            ],
            [
             0.5555555555555556,
             "#d8576b"
            ],
            [
             0.6666666666666666,
             "#ed7953"
            ],
            [
             0.7777777777777778,
             "#fb9f3a"
            ],
            [
             0.8888888888888888,
             "#fdca26"
            ],
            [
             1,
             "#f0f921"
            ]
           ]
          },
          "colorway": [
           "#636efa",
           "#EF553B",
           "#00cc96",
           "#ab63fa",
           "#FFA15A",
           "#19d3f3",
           "#FF6692",
           "#B6E880",
           "#FF97FF",
           "#FECB52"
          ],
          "font": {
           "color": "#2a3f5f"
          },
          "geo": {
           "bgcolor": "white",
           "lakecolor": "white",
           "landcolor": "#E5ECF6",
           "showlakes": true,
           "showland": true,
           "subunitcolor": "white"
          },
          "hoverlabel": {
           "align": "left"
          },
          "hovermode": "closest",
          "mapbox": {
           "style": "light"
          },
          "paper_bgcolor": "white",
          "plot_bgcolor": "#E5ECF6",
          "polar": {
           "angularaxis": {
            "gridcolor": "white",
            "linecolor": "white",
            "ticks": ""
           },
           "bgcolor": "#E5ECF6",
           "radialaxis": {
            "gridcolor": "white",
            "linecolor": "white",
            "ticks": ""
           }
          },
          "scene": {
           "xaxis": {
            "backgroundcolor": "#E5ECF6",
            "gridcolor": "white",
            "gridwidth": 2,
            "linecolor": "white",
            "showbackground": true,
            "ticks": "",
            "zerolinecolor": "white"
           },
           "yaxis": {
            "backgroundcolor": "#E5ECF6",
            "gridcolor": "white",
            "gridwidth": 2,
            "linecolor": "white",
            "showbackground": true,
            "ticks": "",
            "zerolinecolor": "white"
           },
           "zaxis": {
            "backgroundcolor": "#E5ECF6",
            "gridcolor": "white",
            "gridwidth": 2,
            "linecolor": "white",
            "showbackground": true,
            "ticks": "",
            "zerolinecolor": "white"
           }
          },
          "shapedefaults": {
           "line": {
            "color": "#2a3f5f"
           }
          },
          "ternary": {
           "aaxis": {
            "gridcolor": "white",
            "linecolor": "white",
            "ticks": ""
           },
           "baxis": {
            "gridcolor": "white",
            "linecolor": "white",
            "ticks": ""
           },
           "bgcolor": "#E5ECF6",
           "caxis": {
            "gridcolor": "white",
            "linecolor": "white",
            "ticks": ""
           }
          },
          "title": {
           "x": 0.05
          },
          "xaxis": {
           "automargin": true,
           "gridcolor": "white",
           "linecolor": "white",
           "ticks": "",
           "title": {
            "standoff": 15
           },
           "zerolinecolor": "white",
           "zerolinewidth": 2
          },
          "yaxis": {
           "automargin": true,
           "gridcolor": "white",
           "linecolor": "white",
           "ticks": "",
           "title": {
            "standoff": 15
           },
           "zerolinecolor": "white",
           "zerolinewidth": 2
          }
         }
        },
        "title": {
         "text": "percentage empty data ecoscore group and grad"
        },
        "xaxis": {
         "title": {
          "text": "Catégories"
         }
        },
        "yaxis": {
         "title": {
          "text": "Valeurs"
         }
        }
       }
      }
     },
     "metadata": {},
     "output_type": "display_data"
    }
   ],
   "source": [
    "fig = go.Figure()\n",
    "fig.add_trace(go.Bar(\n",
    "    x=labels,\n",
    "    y=values,\n",
    "    name='Pourcentage',\n",
    "    text=[f'{v:.2f}%' for v in values],\n",
    "    textposition='auto'\n",
    "))\n",
    "fig.add_trace(go.Bar(\n",
    "    x=labels,\n",
    "    y=counts_values,\n",
    "    name='Nombre',\n",
    "    text=[str(v) for v in counts_values],\n",
    "    textposition='auto'\n",
    "))\n",
    "fig.update_layout(\n",
    "    title='percentage empty data ecoscore group and grad',\n",
    "    xaxis_title='Catégories',\n",
    "    yaxis_title='Valeurs',\n",
    "    barmode='group'\n",
    ")\n",
    "fig.show()"
   ]
  },
  {
   "cell_type": "markdown",
   "metadata": {},
   "source": [
    "# TOTAL ARTICLES NUMBER:"
   ]
  },
  {
   "cell_type": "code",
   "execution_count": 89,
   "metadata": {},
   "outputs": [
    {
     "name": "stdout",
     "output_type": "stream",
     "text": [
      "total product number: 476674\n"
     ]
    }
   ],
   "source": [
    "print(f\"total product number: {total_labels}\")"
   ]
  },
  {
   "cell_type": "markdown",
   "metadata": {},
   "source": [
    "# JSONL SAMPLE:"
   ]
  },
  {
   "cell_type": "code",
   "execution_count": 90,
   "metadata": {},
   "outputs": [
    {
     "data": {
      "text/html": [
       "<div>\n",
       "<style scoped>\n",
       "    .dataframe tbody tr th:only-of-type {\n",
       "        vertical-align: middle;\n",
       "    }\n",
       "\n",
       "    .dataframe tbody tr th {\n",
       "        vertical-align: top;\n",
       "    }\n",
       "\n",
       "    .dataframe thead th {\n",
       "        text-align: right;\n",
       "    }\n",
       "</style>\n",
       "<table border=\"1\" class=\"dataframe\">\n",
       "  <thead>\n",
       "    <tr style=\"text-align: right;\">\n",
       "      <th></th>\n",
       "      <th>groups</th>\n",
       "      <th>packaging</th>\n",
       "      <th>name</th>\n",
       "      <th>ecoscore_groups</th>\n",
       "      <th>ecoscore_note</th>\n",
       "      <th>code</th>\n",
       "      <th>countries</th>\n",
       "      <th>ingredients</th>\n",
       "      <th>categories</th>\n",
       "      <th>labels_note</th>\n",
       "    </tr>\n",
       "  </thead>\n",
       "  <tbody>\n",
       "    <tr>\n",
       "      <th>0</th>\n",
       "      <td>Sugary snacks</td>\n",
       "      <td>None</td>\n",
       "      <td>Johnvince foods, sour watermelon slices</td>\n",
       "      <td>z</td>\n",
       "      <td>999</td>\n",
       "      <td>64777813331</td>\n",
       "      <td>united states</td>\n",
       "      <td>sugar, added-sugar, disaccharide, glucose-syrup, monosaccharide, glucose, modified-corn-starch, starch, corn-starch, modified-starch, e330, e334, sodium-citrate, minerals, sodium, e270, natural-and-artificial-flavouring, flavouring, natural-flavouring, artificial-flavouring, e102, e110, e129</td>\n",
       "      <td>snacks, sweet-snacks, confectioneries</td>\n",
       "      <td>0</td>\n",
       "    </tr>\n",
       "    <tr>\n",
       "      <th>1</th>\n",
       "      <td>None</td>\n",
       "      <td>None</td>\n",
       "      <td>Beef With Teriyaki Sauce And Noodles</td>\n",
       "      <td>z</td>\n",
       "      <td>999</td>\n",
       "      <td>118894904172</td>\n",
       "      <td>united states</td>\n",
       "      <td>flour-battered-beef, noodle, dough, teriyaki-sauce, sauce, pineapple-juice, fruit, juice, fruit-juice, pineapple, beef, animal, flour, canola-oil, oil-and-fat, vegetable-oil-and-fat, rapeseed-oil, wheat-flour, cereal, wheat, cereal-flour, water, canola, vegetable, root-vegetable, rapeseed, soya-oil, vegetable-oil, dried-epp-powder, egg-white, egg, salt, corn-starch, starch, fd-c-yellow-5-and-6, e211, e297, e300, vitamins, vitamin-e, vitamin-a, soy-sauce, sugar, added-sugar, disaccharide, ginger, condiment, spice, onion, onion-family-vegetable, potato-starch, garlic, black-pepper, seed, pepper, barley-malt-flour, barley, barley-flour, e375, reduced-iron, minerals, iron, thiamin-mononitrate, thiamin, e101, folic-acid, folate, vitamin-c, soya-bean, legume, pulse, soya, rice</td>\n",
       "      <td>None</td>\n",
       "      <td>0</td>\n",
       "    </tr>\n",
       "    <tr>\n",
       "      <th>2</th>\n",
       "      <td>Sugary snacks</td>\n",
       "      <td>None</td>\n",
       "      <td>Ktm, Enjoy, Juicy Gummy Bears</td>\n",
       "      <td>b</td>\n",
       "      <td>69</td>\n",
       "      <td>679757140132</td>\n",
       "      <td>united states</td>\n",
       "      <td>corn-syrup, added-sugar, disaccharide, e428, e420, pectic, e330, e296, sodium-citrate, minerals, sodium, medium-chain-triglycerides, e903, artificial-flavouring, flavouring, plum, fruit, prunus-species-fruit, e954, sucralose-caramel-color-aspartame-fd-c-red-40, e102, e133, beef, animal, coconut-oil, oil-and-fat, vegetable-oil-and-fat, vegetable-oil</td>\n",
       "      <td>snacks, sweet-snacks, confectioneries, candies, gummi-candies, gummy-bears</td>\n",
       "      <td>0</td>\n",
       "    </tr>\n",
       "    <tr>\n",
       "      <th>3</th>\n",
       "      <td>None</td>\n",
       "      <td>None</td>\n",
       "      <td>Emmentaler Switzerland Emmentaler Gotthelf</td>\n",
       "      <td>z</td>\n",
       "      <td>999</td>\n",
       "      <td>2107879007258</td>\n",
       "      <td>switzerland</td>\n",
       "      <td>milk, dairy, salt</td>\n",
       "      <td>None</td>\n",
       "      <td>1</td>\n",
       "    </tr>\n",
       "    <tr>\n",
       "      <th>4</th>\n",
       "      <td>Cereals and potatoes</td>\n",
       "      <td>Plastique,Sachet</td>\n",
       "      <td>Muffins complets</td>\n",
       "      <td>b</td>\n",
       "      <td>71</td>\n",
       "      <td>3245412694516</td>\n",
       "      <td>france</td>\n",
       "      <td>whole-wheat-flour, cereal, flour, wheat, cereal-flour, wholemeal-flour, wheat-flour, water, wheat-gluten, gluten, yeast, durum-wheat-semolina, durum-wheat, semolina, wheat-fiber, fiber, vegetable-fiber, sugar, added-sugar, disaccharide, salt, preservative, e282, e200</td>\n",
       "      <td>plant-based-foods-and-beverages, plant-based-foods, cereals-and-potatoes, breads, special-breads, english-muffins</td>\n",
       "      <td>5</td>\n",
       "    </tr>\n",
       "    <tr>\n",
       "      <th>5</th>\n",
       "      <td>Composite foods</td>\n",
       "      <td>Frozen,Sachet plastique</td>\n",
       "      <td>Emincés de poireaux à la crème</td>\n",
       "      <td>b</td>\n",
       "      <td>79</td>\n",
       "      <td>3250390561019</td>\n",
       "      <td>france</td>\n",
       "      <td>leek, vegetable, onion-family-vegetable, fresh-cream, dairy, cream, water, wheat-flour, cereal, flour, wheat, cereal-flour, butter, salt, poultry-broth, poultry, broth, modified-potato-starch, starch, modified-starch, potato-starch, pepper, seed, nutmeg, condiment, spice, dextrose, added-sugar, monosaccharide, glucose, poultry-fat, oil-and-fat, fat, animal-fat, flavouring, sugar, disaccharide, herbs-and-spices, herb, celery, stalk-vegetable</td>\n",
       "      <td>plant-based-foods-and-beverages, plant-based-foods, fruits-and-vegetables-based-foods, vegetables-based-foods, meals, vegetables, vegetable-rods, leeks</td>\n",
       "      <td>0</td>\n",
       "    </tr>\n",
       "    <tr>\n",
       "      <th>6</th>\n",
       "      <td>None</td>\n",
       "      <td>None</td>\n",
       "      <td>Iglo Grillade Océane Côté Sud Colin D'alaska Sauge</td>\n",
       "      <td>z</td>\n",
       "      <td>999</td>\n",
       "      <td>3661405000162</td>\n",
       "      <td>france</td>\n",
       "      <td>None</td>\n",
       "      <td>None</td>\n",
       "      <td>6</td>\n",
       "    </tr>\n",
       "    <tr>\n",
       "      <th>7</th>\n",
       "      <td>Sugary snacks</td>\n",
       "      <td>None</td>\n",
       "      <td>Chocolat bonnat</td>\n",
       "      <td>e</td>\n",
       "      <td>15</td>\n",
       "      <td>3700152400747</td>\n",
       "      <td>france</td>\n",
       "      <td>None</td>\n",
       "      <td>snacks, sweet-snacks, cocoa-and-its-products, chocolates, dark-chocolates</td>\n",
       "      <td>0</td>\n",
       "    </tr>\n",
       "    <tr>\n",
       "      <th>8</th>\n",
       "      <td>None</td>\n",
       "      <td>None</td>\n",
       "      <td>Sauce Samorai</td>\n",
       "      <td>z</td>\n",
       "      <td>999</td>\n",
       "      <td>3760257870913</td>\n",
       "      <td>france</td>\n",
       "      <td>None</td>\n",
       "      <td>None</td>\n",
       "      <td>0</td>\n",
       "    </tr>\n",
       "    <tr>\n",
       "      <th>9</th>\n",
       "      <td>None</td>\n",
       "      <td>None</td>\n",
       "      <td>Nescafe</td>\n",
       "      <td>z</td>\n",
       "      <td>999</td>\n",
       "      <td>4902201406147</td>\n",
       "      <td>far</td>\n",
       "      <td>None</td>\n",
       "      <td>None</td>\n",
       "      <td>0</td>\n",
       "    </tr>\n",
       "    <tr>\n",
       "      <th>10</th>\n",
       "      <td>None</td>\n",
       "      <td>None</td>\n",
       "      <td>Gaufrettes</td>\n",
       "      <td>z</td>\n",
       "      <td>999</td>\n",
       "      <td>5055534338315</td>\n",
       "      <td>france</td>\n",
       "      <td>None</td>\n",
       "      <td>None</td>\n",
       "      <td>0</td>\n",
       "    </tr>\n",
       "    <tr>\n",
       "      <th>11</th>\n",
       "      <td>Sugary snacks</td>\n",
       "      <td>None</td>\n",
       "      <td>bonbons raspberry</td>\n",
       "      <td>c</td>\n",
       "      <td>42</td>\n",
       "      <td>6411401034510</td>\n",
       "      <td>finland, france</td>\n",
       "      <td>sweetener, firming-agent, thickener, flavouring, glazing-agent, colour, e967, e470a, e466, e414, e903, e901, e904, e120</td>\n",
       "      <td>snacks, sweet-snacks, confectioneries, candies</td>\n",
       "      <td>3</td>\n",
       "    </tr>\n",
       "    <tr>\n",
       "      <th>12</th>\n",
       "      <td>None</td>\n",
       "      <td>Boite en carton, Enveloppes individuelles en papier aluminium</td>\n",
       "      <td>Bouillon Kub légumes</td>\n",
       "      <td>z</td>\n",
       "      <td>999</td>\n",
       "      <td>7613035918177</td>\n",
       "      <td>france, switzerland</td>\n",
       "      <td>salt, flavour-enhancer, glucose-syrup, added-sugar, monosaccharide, glucose, non-hydrogenated-palm-oil, oil-and-fat, vegetable-oil-and-fat, palm-oil-and-fat, palm-oil, vegetable, onion, root-vegetable, onion-family-vegetable, carrot, taproot-vegetable, shallot, tomato, fruit-vegetable, flavouring, turmeric, condiment, spice, parsley, herb, leaf-vegetable, coriander-seed, seed, coriander, nutmeg, e621, wheat, cereal</td>\n",
       "      <td>plant-based-foods-and-beverages, plant-based-foods, dried-products, dried-plant-based-foods, dried-products-to-be-rehydrated, broths, dehydrated-broths, vegetable-broths, bouillon-cubes, dehydrated-vegetable-bouillons, groceries</td>\n",
       "      <td>3</td>\n",
       "    </tr>\n",
       "    <tr>\n",
       "      <th>13</th>\n",
       "      <td>Fat and sauces</td>\n",
       "      <td>Plastic</td>\n",
       "      <td>Sriracha sehr scharfe Chilisauce</td>\n",
       "      <td>z</td>\n",
       "      <td>999</td>\n",
       "      <td>8853662056067</td>\n",
       "      <td>austria, germany</td>\n",
       "      <td>chili-pepper, vegetable, fruit-vegetable, sugar, added-sugar, disaccharide, water, salt, acid, e330, thickener, flavour-enhancer, preservative, e260, e415, e621, e202</td>\n",
       "      <td>condiments, sauces, hot-sauces</td>\n",
       "      <td>0</td>\n",
       "    </tr>\n",
       "    <tr>\n",
       "      <th>14</th>\n",
       "      <td>Sugary snacks</td>\n",
       "      <td>None</td>\n",
       "      <td>Fruchtaufstrich 75% Frucht, Bio Aprikose</td>\n",
       "      <td>b</td>\n",
       "      <td>79</td>\n",
       "      <td>4388844087200</td>\n",
       "      <td>germany</td>\n",
       "      <td>apricot, fruit, prunus-species-fruit, cane-sugar, added-sugar, disaccharide, sugar, lemon-juice, juice, fruit-juice, gelling-agent, e440a</td>\n",
       "      <td>plant-based-foods-and-beverages, plant-based-foods, fruits-and-vegetables-based-foods, breakfasts, spreads, fruits-based-foods, plant-based-spreads, sweet-spreads, fruit-and-vegetable-preserves, jams, apricot-jams, marmalades</td>\n",
       "      <td>4</td>\n",
       "    </tr>\n",
       "    <tr>\n",
       "      <th>15</th>\n",
       "      <td>Fish Meat Eggs</td>\n",
       "      <td>None</td>\n",
       "      <td>Cooked mussel meats</td>\n",
       "      <td>c</td>\n",
       "      <td>47</td>\n",
       "      <td>614583924020</td>\n",
       "      <td>united states</td>\n",
       "      <td>None</td>\n",
       "      <td>seafood, mollusc, mussels, cooked-mussels</td>\n",
       "      <td>2</td>\n",
       "    </tr>\n",
       "    <tr>\n",
       "      <th>16</th>\n",
       "      <td>Fish Meat Eggs</td>\n",
       "      <td>None</td>\n",
       "      <td>Jamón cocido al horno</td>\n",
       "      <td>e</td>\n",
       "      <td>12</td>\n",
       "      <td>584228700419001216</td>\n",
       "      <td>spain</td>\n",
       "      <td>None</td>\n",
       "      <td>meats-and-their-products, meats, prepared-meats, hams, white-hams</td>\n",
       "      <td>1</td>\n",
       "    </tr>\n",
       "    <tr>\n",
       "      <th>17</th>\n",
       "      <td>None</td>\n",
       "      <td>None</td>\n",
       "      <td>Sal con Hierbas</td>\n",
       "      <td>b</td>\n",
       "      <td>78</td>\n",
       "      <td>8412206000753</td>\n",
       "      <td>france, spain</td>\n",
       "      <td>sea-salt, salt, rosemary, herb, thyme, marjoram, basil</td>\n",
       "      <td>condiments, salts</td>\n",
       "      <td>2</td>\n",
       "    </tr>\n",
       "    <tr>\n",
       "      <th>18</th>\n",
       "      <td>None</td>\n",
       "      <td>None</td>\n",
       "      <td>Potage aux légumes</td>\n",
       "      <td>z</td>\n",
       "      <td>999</td>\n",
       "      <td>873976011550</td>\n",
       "      <td>canada</td>\n",
       "      <td>None</td>\n",
       "      <td>None</td>\n",
       "      <td>0</td>\n",
       "    </tr>\n",
       "    <tr>\n",
       "      <th>19</th>\n",
       "      <td>None</td>\n",
       "      <td>None</td>\n",
       "      <td>Infusion Pomme Cannelle</td>\n",
       "      <td>z</td>\n",
       "      <td>999</td>\n",
       "      <td>3422150002159</td>\n",
       "      <td>france</td>\n",
       "      <td>None</td>\n",
       "      <td>None</td>\n",
       "      <td>0</td>\n",
       "    </tr>\n",
       "    <tr>\n",
       "      <th>20</th>\n",
       "      <td>None</td>\n",
       "      <td>None</td>\n",
       "      <td>Chocolate flavored baking chips</td>\n",
       "      <td>z</td>\n",
       "      <td>999</td>\n",
       "      <td>11225038389</td>\n",
       "      <td>united states</td>\n",
       "      <td>sugar, added-sugar, disaccharide, hydrogenated-palm-kernel-oil, oil-and-fat, vegetable-oil-and-fat, palm-kernel-oil-and-fat, palm-kernel-oil, cocoa, plant, cocoa-processed-with-alkali, dextrose, monosaccharide, glucose, skimmed-milk-powder, dairy, milk-powder, and-soy-lecithin</td>\n",
       "      <td>baking-decorations</td>\n",
       "      <td>0</td>\n",
       "    </tr>\n",
       "    <tr>\n",
       "      <th>21</th>\n",
       "      <td>Composite foods</td>\n",
       "      <td>None</td>\n",
       "      <td>Sausage &amp; uncured pepperoni pizza</td>\n",
       "      <td>z</td>\n",
       "      <td>999</td>\n",
       "      <td>9427119760</td>\n",
       "      <td>united states</td>\n",
       "      <td>flour-blend, flour, water, grown-tomatoes-in-heavy-puree, mozzarella, dairy, cheese, white-cheddar, cheddar, all-natural-sausage, all-natural-uncured-pepperoni, wheat-flour, cereal, wheat, cereal-flour, barley-malt-flour, barley, barley-flour, vine-ripened-fresh-unpeeled-ground-tomatoes, extra-heavy-puree, and-sea-salt, pasteurised-milk, milk, lactic-ferments, ferment, microbial-culture, salt, and-enzymes, enzyme, pork, animal, spice, condiment, sugar, added-sugar, disaccharide, natural-flavouring, flavouring, garlic, vegetable, root-vegetable, onion-family-vegetable, no-nitrites-and-nitrates-added-except-for-naturally-occurring-in-celery-juice-and-cherry-powder, contains-2-and-less-of-turbinado-sugar, celery-juice, stalk-vegetable, celery, cherry, fruit, prunus-species-fruit, lactic-acid-starter-culture, oleoresin-of-paprika, lime-juice-concentrate, citrus-fruit, juice, fruit-juice, lime, lime-juice</td>\n",
       "      <td>meals, pizzas-pies-and-quiches, pizzas</td>\n",
       "      <td>0</td>\n",
       "    </tr>\n",
       "    <tr>\n",
       "      <th>22</th>\n",
       "      <td>Fish Meat Eggs</td>\n",
       "      <td>None</td>\n",
       "      <td>Elite Tandoori Wild Tuna</td>\n",
       "      <td>d</td>\n",
       "      <td>21</td>\n",
       "      <td>859480006237</td>\n",
       "      <td>united states, world</td>\n",
       "      <td>sardine, fish, oily-fish, extra-virgin-olive-oil, oil-and-fat, vegetable-oil-and-fat, vegetable-oil, olive-oil, virgin-olive-oil, sea-salt, salt</td>\n",
       "      <td>seafood, fishes-and-their-products, canned-foods, fishes, fatty-fishes, canned-fishes, tunas, canned-tunas</td>\n",
       "      <td>2</td>\n",
       "    </tr>\n",
       "    <tr>\n",
       "      <th>23</th>\n",
       "      <td>None</td>\n",
       "      <td>None</td>\n",
       "      <td>Palomitas</td>\n",
       "      <td>z</td>\n",
       "      <td>999</td>\n",
       "      <td>8437000299271</td>\n",
       "      <td>spain</td>\n",
       "      <td>None</td>\n",
       "      <td>None</td>\n",
       "      <td>0</td>\n",
       "    </tr>\n",
       "    <tr>\n",
       "      <th>24</th>\n",
       "      <td>None</td>\n",
       "      <td>None</td>\n",
       "      <td>Pommes</td>\n",
       "      <td>z</td>\n",
       "      <td>999</td>\n",
       "      <td>66022002569</td>\n",
       "      <td>canada</td>\n",
       "      <td>None</td>\n",
       "      <td>None</td>\n",
       "      <td>0</td>\n",
       "    </tr>\n",
       "    <tr>\n",
       "      <th>25</th>\n",
       "      <td>Fruits and vegetables</td>\n",
       "      <td>None</td>\n",
       "      <td>Oignon rouge</td>\n",
       "      <td>b</td>\n",
       "      <td>78</td>\n",
       "      <td>3664636000772</td>\n",
       "      <td>france</td>\n",
       "      <td>None</td>\n",
       "      <td>plant-based-foods-and-beverages, plant-based-foods, fruits-and-vegetables-based-foods, condiments, vegetables-based-foods, culinary-plants, onions-and-their-products, onions, red-onions, groceries</td>\n",
       "      <td>0</td>\n",
       "    </tr>\n",
       "    <tr>\n",
       "      <th>26</th>\n",
       "      <td>Sugary snacks</td>\n",
       "      <td>None</td>\n",
       "      <td>Kit kat framboise</td>\n",
       "      <td>d</td>\n",
       "      <td>33</td>\n",
       "      <td>4902201175326</td>\n",
       "      <td>france</td>\n",
       "      <td>None</td>\n",
       "      <td>snacks, sweet-snacks, cocoa-and-its-products, confectioneries, bars, chocolate-candies, bars-covered-with-chocolate, chocolate-biscuity-bars</td>\n",
       "      <td>0</td>\n",
       "    </tr>\n",
       "    <tr>\n",
       "      <th>27</th>\n",
       "      <td>Composite foods</td>\n",
       "      <td>None</td>\n",
       "      <td>Che Pinsa!</td>\n",
       "      <td>z</td>\n",
       "      <td>999</td>\n",
       "      <td>8015673027683</td>\n",
       "      <td>italy</td>\n",
       "      <td>None</td>\n",
       "      <td>frozen-foods, meals, pizzas-pies-and-quiches, pizzas, frozen-pizzas-and-pies, frozen-pizzas</td>\n",
       "      <td>0</td>\n",
       "    </tr>\n",
       "    <tr>\n",
       "      <th>28</th>\n",
       "      <td>None</td>\n",
       "      <td>None</td>\n",
       "      <td>Chocolate mousse</td>\n",
       "      <td>z</td>\n",
       "      <td>999</td>\n",
       "      <td>9334330000838</td>\n",
       "      <td>far</td>\n",
       "      <td>None</td>\n",
       "      <td>None</td>\n",
       "      <td>2</td>\n",
       "    </tr>\n",
       "    <tr>\n",
       "      <th>29</th>\n",
       "      <td>None</td>\n",
       "      <td>None</td>\n",
       "      <td>Blumenkohl Kokos Suppe</td>\n",
       "      <td>z</td>\n",
       "      <td>999</td>\n",
       "      <td>4056489375753</td>\n",
       "      <td>germany</td>\n",
       "      <td>None</td>\n",
       "      <td>None</td>\n",
       "      <td>0</td>\n",
       "    </tr>\n",
       "    <tr>\n",
       "      <th>30</th>\n",
       "      <td>None</td>\n",
       "      <td>None</td>\n",
       "      <td>Crema di mandorla bio</td>\n",
       "      <td>z</td>\n",
       "      <td>999</td>\n",
       "      <td>8025367000694</td>\n",
       "      <td>italy</td>\n",
       "      <td>None</td>\n",
       "      <td>None</td>\n",
       "      <td>2</td>\n",
       "    </tr>\n",
       "    <tr>\n",
       "      <th>31</th>\n",
       "      <td>None</td>\n",
       "      <td>None</td>\n",
       "      <td>White High Fibre Wrap</td>\n",
       "      <td>z</td>\n",
       "      <td>999</td>\n",
       "      <td>9310023145116</td>\n",
       "      <td>australia</td>\n",
       "      <td>None</td>\n",
       "      <td>None</td>\n",
       "      <td>4</td>\n",
       "    </tr>\n",
       "    <tr>\n",
       "      <th>32</th>\n",
       "      <td>None</td>\n",
       "      <td>None</td>\n",
       "      <td>Coconut wafer rolls</td>\n",
       "      <td>z</td>\n",
       "      <td>999</td>\n",
       "      <td>9415748021544</td>\n",
       "      <td>far, australia</td>\n",
       "      <td>None</td>\n",
       "      <td>None</td>\n",
       "      <td>0</td>\n",
       "    </tr>\n",
       "    <tr>\n",
       "      <th>33</th>\n",
       "      <td>None</td>\n",
       "      <td>None</td>\n",
       "      <td>Granola chocolat et amatante soufflee</td>\n",
       "      <td>z</td>\n",
       "      <td>999</td>\n",
       "      <td>3760302470204</td>\n",
       "      <td>france</td>\n",
       "      <td>None</td>\n",
       "      <td>None</td>\n",
       "      <td>2</td>\n",
       "    </tr>\n",
       "    <tr>\n",
       "      <th>34</th>\n",
       "      <td>None</td>\n",
       "      <td>None</td>\n",
       "      <td>Pasta Siciliana Style</td>\n",
       "      <td>z</td>\n",
       "      <td>999</td>\n",
       "      <td>4056489471868</td>\n",
       "      <td>spain</td>\n",
       "      <td>None</td>\n",
       "      <td>None</td>\n",
       "      <td>0</td>\n",
       "    </tr>\n",
       "    <tr>\n",
       "      <th>35</th>\n",
       "      <td>None</td>\n",
       "      <td>None</td>\n",
       "      <td>Natura rice and walnut drink</td>\n",
       "      <td>z</td>\n",
       "      <td>999</td>\n",
       "      <td>725821000915</td>\n",
       "      <td>united states</td>\n",
       "      <td>None</td>\n",
       "      <td>None</td>\n",
       "      <td>3</td>\n",
       "    </tr>\n",
       "    <tr>\n",
       "      <th>36</th>\n",
       "      <td>None</td>\n",
       "      <td>None</td>\n",
       "      <td>Organic Italian Soda Pomegranate</td>\n",
       "      <td>z</td>\n",
       "      <td>999</td>\n",
       "      <td>41220113538</td>\n",
       "      <td>united states</td>\n",
       "      <td>None</td>\n",
       "      <td>None</td>\n",
       "      <td>2</td>\n",
       "    </tr>\n",
       "    <tr>\n",
       "      <th>37</th>\n",
       "      <td>None</td>\n",
       "      <td>None</td>\n",
       "      <td>Vogelnestli</td>\n",
       "      <td>z</td>\n",
       "      <td>999</td>\n",
       "      <td>7640151031565</td>\n",
       "      <td>germany</td>\n",
       "      <td>None</td>\n",
       "      <td>None</td>\n",
       "      <td>0</td>\n",
       "    </tr>\n",
       "    <tr>\n",
       "      <th>38</th>\n",
       "      <td>None</td>\n",
       "      <td>None</td>\n",
       "      <td>I’m Free From</td>\n",
       "      <td>z</td>\n",
       "      <td>999</td>\n",
       "      <td>9310645271286</td>\n",
       "      <td>australia</td>\n",
       "      <td>None</td>\n",
       "      <td>beverages</td>\n",
       "      <td>0</td>\n",
       "    </tr>\n",
       "    <tr>\n",
       "      <th>39</th>\n",
       "      <td>None</td>\n",
       "      <td>None</td>\n",
       "      <td>Garlic &amp; Herbs goat cheese</td>\n",
       "      <td>z</td>\n",
       "      <td>999</td>\n",
       "      <td>75450254273</td>\n",
       "      <td>united states</td>\n",
       "      <td>None</td>\n",
       "      <td>None</td>\n",
       "      <td>0</td>\n",
       "    </tr>\n",
       "    <tr>\n",
       "      <th>40</th>\n",
       "      <td>None</td>\n",
       "      <td>None</td>\n",
       "      <td>Lentils</td>\n",
       "      <td>z</td>\n",
       "      <td>999</td>\n",
       "      <td>758890513116</td>\n",
       "      <td>united states</td>\n",
       "      <td>None</td>\n",
       "      <td>None</td>\n",
       "      <td>0</td>\n",
       "    </tr>\n",
       "    <tr>\n",
       "      <th>41</th>\n",
       "      <td>None</td>\n",
       "      <td>None</td>\n",
       "      <td>Galettes saveur gachr</td>\n",
       "      <td>z</td>\n",
       "      <td>999</td>\n",
       "      <td>3760211203092</td>\n",
       "      <td>france</td>\n",
       "      <td>None</td>\n",
       "      <td>None</td>\n",
       "      <td>0</td>\n",
       "    </tr>\n",
       "    <tr>\n",
       "      <th>42</th>\n",
       "      <td>None</td>\n",
       "      <td>None</td>\n",
       "      <td>Teryaki Beef Jerky</td>\n",
       "      <td>z</td>\n",
       "      <td>999</td>\n",
       "      <td>791604921128</td>\n",
       "      <td>united states</td>\n",
       "      <td>None</td>\n",
       "      <td>None</td>\n",
       "      <td>0</td>\n",
       "    </tr>\n",
       "    <tr>\n",
       "      <th>43</th>\n",
       "      <td>None</td>\n",
       "      <td>None</td>\n",
       "      <td>Egg salad sandwich</td>\n",
       "      <td>z</td>\n",
       "      <td>999</td>\n",
       "      <td>1390</td>\n",
       "      <td>ireland</td>\n",
       "      <td>None</td>\n",
       "      <td>None</td>\n",
       "      <td>0</td>\n",
       "    </tr>\n",
       "    <tr>\n",
       "      <th>44</th>\n",
       "      <td>None</td>\n",
       "      <td>None</td>\n",
       "      <td>Sablés bretons froment</td>\n",
       "      <td>z</td>\n",
       "      <td>999</td>\n",
       "      <td>3760074413324</td>\n",
       "      <td>france</td>\n",
       "      <td>None</td>\n",
       "      <td>None</td>\n",
       "      <td>0</td>\n",
       "    </tr>\n",
       "    <tr>\n",
       "      <th>45</th>\n",
       "      <td>None</td>\n",
       "      <td>None</td>\n",
       "      <td>Crispiest</td>\n",
       "      <td>z</td>\n",
       "      <td>999</td>\n",
       "      <td>1114900339</td>\n",
       "      <td>united states</td>\n",
       "      <td>None</td>\n",
       "      <td>None</td>\n",
       "      <td>0</td>\n",
       "    </tr>\n",
       "    <tr>\n",
       "      <th>46</th>\n",
       "      <td>None</td>\n",
       "      <td>None</td>\n",
       "      <td>Mini plateau libanais - les délices de Djamila</td>\n",
       "      <td>z</td>\n",
       "      <td>999</td>\n",
       "      <td>3582730003164</td>\n",
       "      <td>france</td>\n",
       "      <td>None</td>\n",
       "      <td>None</td>\n",
       "      <td>0</td>\n",
       "    </tr>\n",
       "    <tr>\n",
       "      <th>47</th>\n",
       "      <td>None</td>\n",
       "      <td>None</td>\n",
       "      <td>Marinated garlic cloves</td>\n",
       "      <td>z</td>\n",
       "      <td>999</td>\n",
       "      <td>755884550010</td>\n",
       "      <td>united states</td>\n",
       "      <td>None</td>\n",
       "      <td>None</td>\n",
       "      <td>0</td>\n",
       "    </tr>\n",
       "    <tr>\n",
       "      <th>48</th>\n",
       "      <td>None</td>\n",
       "      <td>None</td>\n",
       "      <td>KICCO season jar</td>\n",
       "      <td>z</td>\n",
       "      <td>999</td>\n",
       "      <td>9556639111156</td>\n",
       "      <td>brunei</td>\n",
       "      <td>None</td>\n",
       "      <td>None</td>\n",
       "      <td>0</td>\n",
       "    </tr>\n",
       "    <tr>\n",
       "      <th>49</th>\n",
       "      <td>None</td>\n",
       "      <td>None</td>\n",
       "      <td>Pflaumen</td>\n",
       "      <td>z</td>\n",
       "      <td>999</td>\n",
       "      <td>4018905267080</td>\n",
       "      <td>germany</td>\n",
       "      <td>None</td>\n",
       "      <td>None</td>\n",
       "      <td>0</td>\n",
       "    </tr>\n",
       "    <tr>\n",
       "      <th>50</th>\n",
       "      <td>None</td>\n",
       "      <td>None</td>\n",
       "      <td>Sardellenfilets</td>\n",
       "      <td>z</td>\n",
       "      <td>999</td>\n",
       "      <td>9120087692613</td>\n",
       "      <td>germany</td>\n",
       "      <td>None</td>\n",
       "      <td>None</td>\n",
       "      <td>0</td>\n",
       "    </tr>\n",
       "    <tr>\n",
       "      <th>51</th>\n",
       "      <td>None</td>\n",
       "      <td>None</td>\n",
       "      <td>Fürst von Metternich, Sekt</td>\n",
       "      <td>z</td>\n",
       "      <td>999</td>\n",
       "      <td>4003310112100</td>\n",
       "      <td>germany</td>\n",
       "      <td>None</td>\n",
       "      <td>None</td>\n",
       "      <td>0</td>\n",
       "    </tr>\n",
       "    <tr>\n",
       "      <th>52</th>\n",
       "      <td>Fish Meat Eggs</td>\n",
       "      <td>None</td>\n",
       "      <td>Květová špička Rump steak</td>\n",
       "      <td>z</td>\n",
       "      <td>999</td>\n",
       "      <td>2801056008365</td>\n",
       "      <td>far</td>\n",
       "      <td>None</td>\n",
       "      <td>meats-and-their-products, beef-and-its-products, meats, beef</td>\n",
       "      <td>0</td>\n",
       "    </tr>\n",
       "    <tr>\n",
       "      <th>53</th>\n",
       "      <td>Beverages</td>\n",
       "      <td>None</td>\n",
       "      <td>Douceur de fruits</td>\n",
       "      <td>d</td>\n",
       "      <td>21</td>\n",
       "      <td>3580288090179</td>\n",
       "      <td>france</td>\n",
       "      <td>None</td>\n",
       "      <td>beverages-and-beverages-preparations, plant-based-foods-and-beverages, beverages, plant-based-beverages, fruit-based-beverages, juices-and-nectars, fruit-juices, multifruit-juices, squeezed-juices, squeezed-multifruit-juices</td>\n",
       "      <td>0</td>\n",
       "    </tr>\n",
       "    <tr>\n",
       "      <th>54</th>\n",
       "      <td>None</td>\n",
       "      <td>None</td>\n",
       "      <td>coca cola</td>\n",
       "      <td>z</td>\n",
       "      <td>999</td>\n",
       "      <td>7790895001413</td>\n",
       "      <td>none</td>\n",
       "      <td>None</td>\n",
       "      <td>None</td>\n",
       "      <td>0</td>\n",
       "    </tr>\n",
       "    <tr>\n",
       "      <th>55</th>\n",
       "      <td>Sugary snacks</td>\n",
       "      <td>None</td>\n",
       "      <td>Milk Chocolate Truffles</td>\n",
       "      <td>z</td>\n",
       "      <td>999</td>\n",
       "      <td>4751027953836</td>\n",
       "      <td>united states</td>\n",
       "      <td>e965, e1200, whole-milk-powder, dairy, milk-powder, vegetable-fat, oil-and-fat, vegetable-oil-and-fat, cocoa-butter, plant, cocoa, hazelnut-paste, nut, tree-nut, hazelnut, cocoa-paste, sweet-whey-powder, whey, sweet-whey, e968, cocoa-powder, macadamia-nut, soya-lecithin, e322, e322i, e476, natural-and-artificial-flavouring, flavouring, natural-flavouring, artificial-flavouring, contains, soya, this-product-is-made-on-a-production-line-that-also-handles-almonds, coconut, fruit, palm-oil, palm-oil-and-fat, palm-kernel-oil, palm-kernel-oil-and-fat, sunflower-lecithin</td>\n",
       "      <td>snacks, sweet-snacks, cocoa-and-its-products, confectioneries, chocolate-candies, bonbons, chocolates, chocolate-truffles</td>\n",
       "      <td>2</td>\n",
       "    </tr>\n",
       "    <tr>\n",
       "      <th>56</th>\n",
       "      <td>None</td>\n",
       "      <td>None</td>\n",
       "      <td>Palkjuice jugo</td>\n",
       "      <td>z</td>\n",
       "      <td>999</td>\n",
       "      <td>7503021919991</td>\n",
       "      <td>spain</td>\n",
       "      <td>None</td>\n",
       "      <td>None</td>\n",
       "      <td>0</td>\n",
       "    </tr>\n",
       "    <tr>\n",
       "      <th>57</th>\n",
       "      <td>None</td>\n",
       "      <td>None</td>\n",
       "      <td>Flavored Syrup</td>\n",
       "      <td>z</td>\n",
       "      <td>999</td>\n",
       "      <td>890366431682</td>\n",
       "      <td>united states</td>\n",
       "      <td>None</td>\n",
       "      <td>None</td>\n",
       "      <td>0</td>\n",
       "    </tr>\n",
       "    <tr>\n",
       "      <th>58</th>\n",
       "      <td>None</td>\n",
       "      <td>None</td>\n",
       "      <td>Monkfruit sweetener classic with erythritol</td>\n",
       "      <td>z</td>\n",
       "      <td>999</td>\n",
       "      <td>830946000044</td>\n",
       "      <td>united states</td>\n",
       "      <td>None</td>\n",
       "      <td>None</td>\n",
       "      <td>0</td>\n",
       "    </tr>\n",
       "    <tr>\n",
       "      <th>59</th>\n",
       "      <td>None</td>\n",
       "      <td>None</td>\n",
       "      <td>Delicious</td>\n",
       "      <td>z</td>\n",
       "      <td>999</td>\n",
       "      <td>6281100850830</td>\n",
       "      <td>qatar</td>\n",
       "      <td>None</td>\n",
       "      <td>None</td>\n",
       "      <td>0</td>\n",
       "    </tr>\n",
       "  </tbody>\n",
       "</table>\n",
       "</div>"
      ],
      "text/plain": [
       "                   groups  \\\n",
       "0           Sugary snacks   \n",
       "1                    None   \n",
       "2           Sugary snacks   \n",
       "3                    None   \n",
       "4    Cereals and potatoes   \n",
       "5         Composite foods   \n",
       "6                    None   \n",
       "7           Sugary snacks   \n",
       "8                    None   \n",
       "9                    None   \n",
       "10                   None   \n",
       "11          Sugary snacks   \n",
       "12                   None   \n",
       "13         Fat and sauces   \n",
       "14          Sugary snacks   \n",
       "15         Fish Meat Eggs   \n",
       "16         Fish Meat Eggs   \n",
       "17                   None   \n",
       "18                   None   \n",
       "19                   None   \n",
       "20                   None   \n",
       "21        Composite foods   \n",
       "22         Fish Meat Eggs   \n",
       "23                   None   \n",
       "24                   None   \n",
       "25  Fruits and vegetables   \n",
       "26          Sugary snacks   \n",
       "27        Composite foods   \n",
       "28                   None   \n",
       "29                   None   \n",
       "30                   None   \n",
       "31                   None   \n",
       "32                   None   \n",
       "33                   None   \n",
       "34                   None   \n",
       "35                   None   \n",
       "36                   None   \n",
       "37                   None   \n",
       "38                   None   \n",
       "39                   None   \n",
       "40                   None   \n",
       "41                   None   \n",
       "42                   None   \n",
       "43                   None   \n",
       "44                   None   \n",
       "45                   None   \n",
       "46                   None   \n",
       "47                   None   \n",
       "48                   None   \n",
       "49                   None   \n",
       "50                   None   \n",
       "51                   None   \n",
       "52         Fish Meat Eggs   \n",
       "53              Beverages   \n",
       "54                   None   \n",
       "55          Sugary snacks   \n",
       "56                   None   \n",
       "57                   None   \n",
       "58                   None   \n",
       "59                   None   \n",
       "\n",
       "                                                        packaging  \\\n",
       "0                                                            None   \n",
       "1                                                            None   \n",
       "2                                                            None   \n",
       "3                                                            None   \n",
       "4                                                Plastique,Sachet   \n",
       "5                                         Frozen,Sachet plastique   \n",
       "6                                                            None   \n",
       "7                                                            None   \n",
       "8                                                            None   \n",
       "9                                                            None   \n",
       "10                                                           None   \n",
       "11                                                           None   \n",
       "12  Boite en carton, Enveloppes individuelles en papier aluminium   \n",
       "13                                                        Plastic   \n",
       "14                                                           None   \n",
       "15                                                           None   \n",
       "16                                                           None   \n",
       "17                                                           None   \n",
       "18                                                           None   \n",
       "19                                                           None   \n",
       "20                                                           None   \n",
       "21                                                           None   \n",
       "22                                                           None   \n",
       "23                                                           None   \n",
       "24                                                           None   \n",
       "25                                                           None   \n",
       "26                                                           None   \n",
       "27                                                           None   \n",
       "28                                                           None   \n",
       "29                                                           None   \n",
       "30                                                           None   \n",
       "31                                                           None   \n",
       "32                                                           None   \n",
       "33                                                           None   \n",
       "34                                                           None   \n",
       "35                                                           None   \n",
       "36                                                           None   \n",
       "37                                                           None   \n",
       "38                                                           None   \n",
       "39                                                           None   \n",
       "40                                                           None   \n",
       "41                                                           None   \n",
       "42                                                           None   \n",
       "43                                                           None   \n",
       "44                                                           None   \n",
       "45                                                           None   \n",
       "46                                                           None   \n",
       "47                                                           None   \n",
       "48                                                           None   \n",
       "49                                                           None   \n",
       "50                                                           None   \n",
       "51                                                           None   \n",
       "52                                                           None   \n",
       "53                                                           None   \n",
       "54                                                           None   \n",
       "55                                                           None   \n",
       "56                                                           None   \n",
       "57                                                           None   \n",
       "58                                                           None   \n",
       "59                                                           None   \n",
       "\n",
       "                                                  name ecoscore_groups  \\\n",
       "0              Johnvince foods, sour watermelon slices               z   \n",
       "1                 Beef With Teriyaki Sauce And Noodles               z   \n",
       "2                        Ktm, Enjoy, Juicy Gummy Bears               b   \n",
       "3           Emmentaler Switzerland Emmentaler Gotthelf               z   \n",
       "4                                     Muffins complets               b   \n",
       "5                       Emincés de poireaux à la crème               b   \n",
       "6   Iglo Grillade Océane Côté Sud Colin D'alaska Sauge               z   \n",
       "7                                      Chocolat bonnat               e   \n",
       "8                                        Sauce Samorai               z   \n",
       "9                                              Nescafe               z   \n",
       "10                                          Gaufrettes               z   \n",
       "11                                   bonbons raspberry               c   \n",
       "12                                Bouillon Kub légumes               z   \n",
       "13                    Sriracha sehr scharfe Chilisauce               z   \n",
       "14            Fruchtaufstrich 75% Frucht, Bio Aprikose               b   \n",
       "15                                 Cooked mussel meats               c   \n",
       "16                               Jamón cocido al horno               e   \n",
       "17                                     Sal con Hierbas               b   \n",
       "18                                  Potage aux légumes               z   \n",
       "19                             Infusion Pomme Cannelle               z   \n",
       "20                     Chocolate flavored baking chips               z   \n",
       "21                   Sausage & uncured pepperoni pizza               z   \n",
       "22                            Elite Tandoori Wild Tuna               d   \n",
       "23                                           Palomitas               z   \n",
       "24                                              Pommes               z   \n",
       "25                                        Oignon rouge               b   \n",
       "26                                   Kit kat framboise               d   \n",
       "27                                          Che Pinsa!               z   \n",
       "28                                    Chocolate mousse               z   \n",
       "29                              Blumenkohl Kokos Suppe               z   \n",
       "30                               Crema di mandorla bio               z   \n",
       "31                               White High Fibre Wrap               z   \n",
       "32                                 Coconut wafer rolls               z   \n",
       "33               Granola chocolat et amatante soufflee               z   \n",
       "34                               Pasta Siciliana Style               z   \n",
       "35                        Natura rice and walnut drink               z   \n",
       "36                    Organic Italian Soda Pomegranate               z   \n",
       "37                                         Vogelnestli               z   \n",
       "38                                       I’m Free From               z   \n",
       "39                          Garlic & Herbs goat cheese               z   \n",
       "40                                             Lentils               z   \n",
       "41                               Galettes saveur gachr               z   \n",
       "42                                  Teryaki Beef Jerky               z   \n",
       "43                                  Egg salad sandwich               z   \n",
       "44                              Sablés bretons froment               z   \n",
       "45                                           Crispiest               z   \n",
       "46      Mini plateau libanais - les délices de Djamila               z   \n",
       "47                             Marinated garlic cloves               z   \n",
       "48                                    KICCO season jar               z   \n",
       "49                                            Pflaumen               z   \n",
       "50                                     Sardellenfilets               z   \n",
       "51                          Fürst von Metternich, Sekt               z   \n",
       "52                           Květová špička Rump steak               z   \n",
       "53                                   Douceur de fruits               d   \n",
       "54                                           coca cola               z   \n",
       "55                             Milk Chocolate Truffles               z   \n",
       "56                                      Palkjuice jugo               z   \n",
       "57                                      Flavored Syrup               z   \n",
       "58         Monkfruit sweetener classic with erythritol               z   \n",
       "59                                           Delicious               z   \n",
       "\n",
       "    ecoscore_note                code             countries  \\\n",
       "0             999         64777813331         united states   \n",
       "1             999        118894904172         united states   \n",
       "2              69        679757140132         united states   \n",
       "3             999       2107879007258           switzerland   \n",
       "4              71       3245412694516                france   \n",
       "5              79       3250390561019                france   \n",
       "6             999       3661405000162                france   \n",
       "7              15       3700152400747                france   \n",
       "8             999       3760257870913                france   \n",
       "9             999       4902201406147                   far   \n",
       "10            999       5055534338315                france   \n",
       "11             42       6411401034510       finland, france   \n",
       "12            999       7613035918177   france, switzerland   \n",
       "13            999       8853662056067      austria, germany   \n",
       "14             79       4388844087200               germany   \n",
       "15             47        614583924020         united states   \n",
       "16             12  584228700419001216                 spain   \n",
       "17             78       8412206000753         france, spain   \n",
       "18            999        873976011550                canada   \n",
       "19            999       3422150002159                france   \n",
       "20            999         11225038389         united states   \n",
       "21            999          9427119760         united states   \n",
       "22             21        859480006237  united states, world   \n",
       "23            999       8437000299271                 spain   \n",
       "24            999         66022002569                canada   \n",
       "25             78       3664636000772                france   \n",
       "26             33       4902201175326                france   \n",
       "27            999       8015673027683                 italy   \n",
       "28            999       9334330000838                   far   \n",
       "29            999       4056489375753               germany   \n",
       "30            999       8025367000694                 italy   \n",
       "31            999       9310023145116             australia   \n",
       "32            999       9415748021544        far, australia   \n",
       "33            999       3760302470204                france   \n",
       "34            999       4056489471868                 spain   \n",
       "35            999        725821000915         united states   \n",
       "36            999         41220113538         united states   \n",
       "37            999       7640151031565               germany   \n",
       "38            999       9310645271286             australia   \n",
       "39            999         75450254273         united states   \n",
       "40            999        758890513116         united states   \n",
       "41            999       3760211203092                france   \n",
       "42            999        791604921128         united states   \n",
       "43            999                1390               ireland   \n",
       "44            999       3760074413324                france   \n",
       "45            999          1114900339         united states   \n",
       "46            999       3582730003164                france   \n",
       "47            999        755884550010         united states   \n",
       "48            999       9556639111156                brunei   \n",
       "49            999       4018905267080               germany   \n",
       "50            999       9120087692613               germany   \n",
       "51            999       4003310112100               germany   \n",
       "52            999       2801056008365                   far   \n",
       "53             21       3580288090179                france   \n",
       "54            999       7790895001413                  none   \n",
       "55            999       4751027953836         united states   \n",
       "56            999       7503021919991                 spain   \n",
       "57            999        890366431682         united states   \n",
       "58            999        830946000044         united states   \n",
       "59            999       6281100850830                 qatar   \n",
       "\n",
       "                                                                                                                                                                                                                                                                                                                                                                                                                                                                                                                                                                                                                                                                                                                                                                                                                                                                                                                                          ingredients  \\\n",
       "0                                                                                                                                                                                                                                                                                                                                                                                                                                                                                                                                                                                                                                                sugar, added-sugar, disaccharide, glucose-syrup, monosaccharide, glucose, modified-corn-starch, starch, corn-starch, modified-starch, e330, e334, sodium-citrate, minerals, sodium, e270, natural-and-artificial-flavouring, flavouring, natural-flavouring, artificial-flavouring, e102, e110, e129   \n",
       "1                                                                                                                                       flour-battered-beef, noodle, dough, teriyaki-sauce, sauce, pineapple-juice, fruit, juice, fruit-juice, pineapple, beef, animal, flour, canola-oil, oil-and-fat, vegetable-oil-and-fat, rapeseed-oil, wheat-flour, cereal, wheat, cereal-flour, water, canola, vegetable, root-vegetable, rapeseed, soya-oil, vegetable-oil, dried-epp-powder, egg-white, egg, salt, corn-starch, starch, fd-c-yellow-5-and-6, e211, e297, e300, vitamins, vitamin-e, vitamin-a, soy-sauce, sugar, added-sugar, disaccharide, ginger, condiment, spice, onion, onion-family-vegetable, potato-starch, garlic, black-pepper, seed, pepper, barley-malt-flour, barley, barley-flour, e375, reduced-iron, minerals, iron, thiamin-mononitrate, thiamin, e101, folic-acid, folate, vitamin-c, soya-bean, legume, pulse, soya, rice   \n",
       "2                                                                                                                                                                                                                                                                                                                                                                                                                                                                                                                                                                                      corn-syrup, added-sugar, disaccharide, e428, e420, pectic, e330, e296, sodium-citrate, minerals, sodium, medium-chain-triglycerides, e903, artificial-flavouring, flavouring, plum, fruit, prunus-species-fruit, e954, sucralose-caramel-color-aspartame-fd-c-red-40, e102, e133, beef, animal, coconut-oil, oil-and-fat, vegetable-oil-and-fat, vegetable-oil   \n",
       "3                                                                                                                                                                                                                                                                                                                                                                                                                                                                                                                                                                                                                                                                                                                                                                                                                                                                                                                                   milk, dairy, salt   \n",
       "4                                                                                                                                                                                                                                                                                                                                                                                                                                                                                                                                                                                                                                                                         whole-wheat-flour, cereal, flour, wheat, cereal-flour, wholemeal-flour, wheat-flour, water, wheat-gluten, gluten, yeast, durum-wheat-semolina, durum-wheat, semolina, wheat-fiber, fiber, vegetable-fiber, sugar, added-sugar, disaccharide, salt, preservative, e282, e200   \n",
       "5                                                                                                                                                                                                                                                                                                                                                                                                                                                                                        leek, vegetable, onion-family-vegetable, fresh-cream, dairy, cream, water, wheat-flour, cereal, flour, wheat, cereal-flour, butter, salt, poultry-broth, poultry, broth, modified-potato-starch, starch, modified-starch, potato-starch, pepper, seed, nutmeg, condiment, spice, dextrose, added-sugar, monosaccharide, glucose, poultry-fat, oil-and-fat, fat, animal-fat, flavouring, sugar, disaccharide, herbs-and-spices, herb, celery, stalk-vegetable   \n",
       "6                                                                                                                                                                                                                                                                                                                                                                                                                                                                                                                                                                                                                                                                                                                                                                                                                                                                                                                                                None   \n",
       "7                                                                                                                                                                                                                                                                                                                                                                                                                                                                                                                                                                                                                                                                                                                                                                                                                                                                                                                                                None   \n",
       "8                                                                                                                                                                                                                                                                                                                                                                                                                                                                                                                                                                                                                                                                                                                                                                                                                                                                                                                                                None   \n",
       "9                                                                                                                                                                                                                                                                                                                                                                                                                                                                                                                                                                                                                                                                                                                                                                                                                                                                                                                                                None   \n",
       "10                                                                                                                                                                                                                                                                                                                                                                                                                                                                                                                                                                                                                                                                                                                                                                                                                                                                                                                                               None   \n",
       "11                                                                                                                                                                                                                                                                                                                                                                                                                                                                                                                                                                                                                                                                                                                                                                                                                            sweetener, firming-agent, thickener, flavouring, glazing-agent, colour, e967, e470a, e466, e414, e903, e901, e904, e120   \n",
       "12                                                                                                                                                                                                                                                                                                                                                                                                                                                                                                                 salt, flavour-enhancer, glucose-syrup, added-sugar, monosaccharide, glucose, non-hydrogenated-palm-oil, oil-and-fat, vegetable-oil-and-fat, palm-oil-and-fat, palm-oil, vegetable, onion, root-vegetable, onion-family-vegetable, carrot, taproot-vegetable, shallot, tomato, fruit-vegetable, flavouring, turmeric, condiment, spice, parsley, herb, leaf-vegetable, coriander-seed, seed, coriander, nutmeg, e621, wheat, cereal   \n",
       "13                                                                                                                                                                                                                                                                                                                                                                                                                                                                                                                                                                                                                                                                                                                                                                             chili-pepper, vegetable, fruit-vegetable, sugar, added-sugar, disaccharide, water, salt, acid, e330, thickener, flavour-enhancer, preservative, e260, e415, e621, e202   \n",
       "14                                                                                                                                                                                                                                                                                                                                                                                                                                                                                                                                                                                                                                                                                                                                                                                                          apricot, fruit, prunus-species-fruit, cane-sugar, added-sugar, disaccharide, sugar, lemon-juice, juice, fruit-juice, gelling-agent, e440a   \n",
       "15                                                                                                                                                                                                                                                                                                                                                                                                                                                                                                                                                                                                                                                                                                                                                                                                                                                                                                                                               None   \n",
       "16                                                                                                                                                                                                                                                                                                                                                                                                                                                                                                                                                                                                                                                                                                                                                                                                                                                                                                                                               None   \n",
       "17                                                                                                                                                                                                                                                                                                                                                                                                                                                                                                                                                                                                                                                                                                                                                                                                                                                                                             sea-salt, salt, rosemary, herb, thyme, marjoram, basil   \n",
       "18                                                                                                                                                                                                                                                                                                                                                                                                                                                                                                                                                                                                                                                                                                                                                                                                                                                                                                                                               None   \n",
       "19                                                                                                                                                                                                                                                                                                                                                                                                                                                                                                                                                                                                                                                                                                                                                                                                                                                                                                                                               None   \n",
       "20                                                                                                                                                                                                                                                                                                                                                                                                                                                                                                                                                                                                                                                              sugar, added-sugar, disaccharide, hydrogenated-palm-kernel-oil, oil-and-fat, vegetable-oil-and-fat, palm-kernel-oil-and-fat, palm-kernel-oil, cocoa, plant, cocoa-processed-with-alkali, dextrose, monosaccharide, glucose, skimmed-milk-powder, dairy, milk-powder, and-soy-lecithin   \n",
       "21  flour-blend, flour, water, grown-tomatoes-in-heavy-puree, mozzarella, dairy, cheese, white-cheddar, cheddar, all-natural-sausage, all-natural-uncured-pepperoni, wheat-flour, cereal, wheat, cereal-flour, barley-malt-flour, barley, barley-flour, vine-ripened-fresh-unpeeled-ground-tomatoes, extra-heavy-puree, and-sea-salt, pasteurised-milk, milk, lactic-ferments, ferment, microbial-culture, salt, and-enzymes, enzyme, pork, animal, spice, condiment, sugar, added-sugar, disaccharide, natural-flavouring, flavouring, garlic, vegetable, root-vegetable, onion-family-vegetable, no-nitrites-and-nitrates-added-except-for-naturally-occurring-in-celery-juice-and-cherry-powder, contains-2-and-less-of-turbinado-sugar, celery-juice, stalk-vegetable, celery, cherry, fruit, prunus-species-fruit, lactic-acid-starter-culture, oleoresin-of-paprika, lime-juice-concentrate, citrus-fruit, juice, fruit-juice, lime, lime-juice   \n",
       "22                                                                                                                                                                                                                                                                                                                                                                                                                                                                                                                                                                                                                                                                                                                                                                                                   sardine, fish, oily-fish, extra-virgin-olive-oil, oil-and-fat, vegetable-oil-and-fat, vegetable-oil, olive-oil, virgin-olive-oil, sea-salt, salt   \n",
       "23                                                                                                                                                                                                                                                                                                                                                                                                                                                                                                                                                                                                                                                                                                                                                                                                                                                                                                                                               None   \n",
       "24                                                                                                                                                                                                                                                                                                                                                                                                                                                                                                                                                                                                                                                                                                                                                                                                                                                                                                                                               None   \n",
       "25                                                                                                                                                                                                                                                                                                                                                                                                                                                                                                                                                                                                                                                                                                                                                                                                                                                                                                                                               None   \n",
       "26                                                                                                                                                                                                                                                                                                                                                                                                                                                                                                                                                                                                                                                                                                                                                                                                                                                                                                                                               None   \n",
       "27                                                                                                                                                                                                                                                                                                                                                                                                                                                                                                                                                                                                                                                                                                                                                                                                                                                                                                                                               None   \n",
       "28                                                                                                                                                                                                                                                                                                                                                                                                                                                                                                                                                                                                                                                                                                                                                                                                                                                                                                                                               None   \n",
       "29                                                                                                                                                                                                                                                                                                                                                                                                                                                                                                                                                                                                                                                                                                                                                                                                                                                                                                                                               None   \n",
       "30                                                                                                                                                                                                                                                                                                                                                                                                                                                                                                                                                                                                                                                                                                                                                                                                                                                                                                                                               None   \n",
       "31                                                                                                                                                                                                                                                                                                                                                                                                                                                                                                                                                                                                                                                                                                                                                                                                                                                                                                                                               None   \n",
       "32                                                                                                                                                                                                                                                                                                                                                                                                                                                                                                                                                                                                                                                                                                                                                                                                                                                                                                                                               None   \n",
       "33                                                                                                                                                                                                                                                                                                                                                                                                                                                                                                                                                                                                                                                                                                                                                                                                                                                                                                                                               None   \n",
       "34                                                                                                                                                                                                                                                                                                                                                                                                                                                                                                                                                                                                                                                                                                                                                                                                                                                                                                                                               None   \n",
       "35                                                                                                                                                                                                                                                                                                                                                                                                                                                                                                                                                                                                                                                                                                                                                                                                                                                                                                                                               None   \n",
       "36                                                                                                                                                                                                                                                                                                                                                                                                                                                                                                                                                                                                                                                                                                                                                                                                                                                                                                                                               None   \n",
       "37                                                                                                                                                                                                                                                                                                                                                                                                                                                                                                                                                                                                                                                                                                                                                                                                                                                                                                                                               None   \n",
       "38                                                                                                                                                                                                                                                                                                                                                                                                                                                                                                                                                                                                                                                                                                                                                                                                                                                                                                                                               None   \n",
       "39                                                                                                                                                                                                                                                                                                                                                                                                                                                                                                                                                                                                                                                                                                                                                                                                                                                                                                                                               None   \n",
       "40                                                                                                                                                                                                                                                                                                                                                                                                                                                                                                                                                                                                                                                                                                                                                                                                                                                                                                                                               None   \n",
       "41                                                                                                                                                                                                                                                                                                                                                                                                                                                                                                                                                                                                                                                                                                                                                                                                                                                                                                                                               None   \n",
       "42                                                                                                                                                                                                                                                                                                                                                                                                                                                                                                                                                                                                                                                                                                                                                                                                                                                                                                                                               None   \n",
       "43                                                                                                                                                                                                                                                                                                                                                                                                                                                                                                                                                                                                                                                                                                                                                                                                                                                                                                                                               None   \n",
       "44                                                                                                                                                                                                                                                                                                                                                                                                                                                                                                                                                                                                                                                                                                                                                                                                                                                                                                                                               None   \n",
       "45                                                                                                                                                                                                                                                                                                                                                                                                                                                                                                                                                                                                                                                                                                                                                                                                                                                                                                                                               None   \n",
       "46                                                                                                                                                                                                                                                                                                                                                                                                                                                                                                                                                                                                                                                                                                                                                                                                                                                                                                                                               None   \n",
       "47                                                                                                                                                                                                                                                                                                                                                                                                                                                                                                                                                                                                                                                                                                                                                                                                                                                                                                                                               None   \n",
       "48                                                                                                                                                                                                                                                                                                                                                                                                                                                                                                                                                                                                                                                                                                                                                                                                                                                                                                                                               None   \n",
       "49                                                                                                                                                                                                                                                                                                                                                                                                                                                                                                                                                                                                                                                                                                                                                                                                                                                                                                                                               None   \n",
       "50                                                                                                                                                                                                                                                                                                                                                                                                                                                                                                                                                                                                                                                                                                                                                                                                                                                                                                                                               None   \n",
       "51                                                                                                                                                                                                                                                                                                                                                                                                                                                                                                                                                                                                                                                                                                                                                                                                                                                                                                                                               None   \n",
       "52                                                                                                                                                                                                                                                                                                                                                                                                                                                                                                                                                                                                                                                                                                                                                                                                                                                                                                                                               None   \n",
       "53                                                                                                                                                                                                                                                                                                                                                                                                                                                                                                                                                                                                                                                                                                                                                                                                                                                                                                                                               None   \n",
       "54                                                                                                                                                                                                                                                                                                                                                                                                                                                                                                                                                                                                                                                                                                                                                                                                                                                                                                                                               None   \n",
       "55                                                                                                                                                                                                                                                                                                                                                         e965, e1200, whole-milk-powder, dairy, milk-powder, vegetable-fat, oil-and-fat, vegetable-oil-and-fat, cocoa-butter, plant, cocoa, hazelnut-paste, nut, tree-nut, hazelnut, cocoa-paste, sweet-whey-powder, whey, sweet-whey, e968, cocoa-powder, macadamia-nut, soya-lecithin, e322, e322i, e476, natural-and-artificial-flavouring, flavouring, natural-flavouring, artificial-flavouring, contains, soya, this-product-is-made-on-a-production-line-that-also-handles-almonds, coconut, fruit, palm-oil, palm-oil-and-fat, palm-kernel-oil, palm-kernel-oil-and-fat, sunflower-lecithin   \n",
       "56                                                                                                                                                                                                                                                                                                                                                                                                                                                                                                                                                                                                                                                                                                                                                                                                                                                                                                                                               None   \n",
       "57                                                                                                                                                                                                                                                                                                                                                                                                                                                                                                                                                                                                                                                                                                                                                                                                                                                                                                                                               None   \n",
       "58                                                                                                                                                                                                                                                                                                                                                                                                                                                                                                                                                                                                                                                                                                                                                                                                                                                                                                                                               None   \n",
       "59                                                                                                                                                                                                                                                                                                                                                                                                                                                                                                                                                                                                                                                                                                                                                                                                                                                                                                                                               None   \n",
       "\n",
       "                                                                                                                                                                                                                              categories  \\\n",
       "0                                                                                                                                                                                                  snacks, sweet-snacks, confectioneries   \n",
       "1                                                                                                                                                                                                                                   None   \n",
       "2                                                                                                                                                             snacks, sweet-snacks, confectioneries, candies, gummi-candies, gummy-bears   \n",
       "3                                                                                                                                                                                                                                   None   \n",
       "4                                                                                                                      plant-based-foods-and-beverages, plant-based-foods, cereals-and-potatoes, breads, special-breads, english-muffins   \n",
       "5                                                                                plant-based-foods-and-beverages, plant-based-foods, fruits-and-vegetables-based-foods, vegetables-based-foods, meals, vegetables, vegetable-rods, leeks   \n",
       "6                                                                                                                                                                                                                                   None   \n",
       "7                                                                                                                                                              snacks, sweet-snacks, cocoa-and-its-products, chocolates, dark-chocolates   \n",
       "8                                                                                                                                                                                                                                   None   \n",
       "9                                                                                                                                                                                                                                   None   \n",
       "10                                                                                                                                                                                                                                  None   \n",
       "11                                                                                                                                                                                        snacks, sweet-snacks, confectioneries, candies   \n",
       "12  plant-based-foods-and-beverages, plant-based-foods, dried-products, dried-plant-based-foods, dried-products-to-be-rehydrated, broths, dehydrated-broths, vegetable-broths, bouillon-cubes, dehydrated-vegetable-bouillons, groceries   \n",
       "13                                                                                                                                                                                                        condiments, sauces, hot-sauces   \n",
       "14     plant-based-foods-and-beverages, plant-based-foods, fruits-and-vegetables-based-foods, breakfasts, spreads, fruits-based-foods, plant-based-spreads, sweet-spreads, fruit-and-vegetable-preserves, jams, apricot-jams, marmalades   \n",
       "15                                                                                                                                                                                             seafood, mollusc, mussels, cooked-mussels   \n",
       "16                                                                                                                                                                     meats-and-their-products, meats, prepared-meats, hams, white-hams   \n",
       "17                                                                                                                                                                                                                     condiments, salts   \n",
       "18                                                                                                                                                                                                                                  None   \n",
       "19                                                                                                                                                                                                                                  None   \n",
       "20                                                                                                                                                                                                                    baking-decorations   \n",
       "21                                                                                                                                                                                                meals, pizzas-pies-and-quiches, pizzas   \n",
       "22                                                                                                                            seafood, fishes-and-their-products, canned-foods, fishes, fatty-fishes, canned-fishes, tunas, canned-tunas   \n",
       "23                                                                                                                                                                                                                                  None   \n",
       "24                                                                                                                                                                                                                                  None   \n",
       "25                                  plant-based-foods-and-beverages, plant-based-foods, fruits-and-vegetables-based-foods, condiments, vegetables-based-foods, culinary-plants, onions-and-their-products, onions, red-onions, groceries   \n",
       "26                                                                                          snacks, sweet-snacks, cocoa-and-its-products, confectioneries, bars, chocolate-candies, bars-covered-with-chocolate, chocolate-biscuity-bars   \n",
       "27                                                                                                                                           frozen-foods, meals, pizzas-pies-and-quiches, pizzas, frozen-pizzas-and-pies, frozen-pizzas   \n",
       "28                                                                                                                                                                                                                                  None   \n",
       "29                                                                                                                                                                                                                                  None   \n",
       "30                                                                                                                                                                                                                                  None   \n",
       "31                                                                                                                                                                                                                                  None   \n",
       "32                                                                                                                                                                                                                                  None   \n",
       "33                                                                                                                                                                                                                                  None   \n",
       "34                                                                                                                                                                                                                                  None   \n",
       "35                                                                                                                                                                                                                                  None   \n",
       "36                                                                                                                                                                                                                                  None   \n",
       "37                                                                                                                                                                                                                                  None   \n",
       "38                                                                                                                                                                                                                             beverages   \n",
       "39                                                                                                                                                                                                                                  None   \n",
       "40                                                                                                                                                                                                                                  None   \n",
       "41                                                                                                                                                                                                                                  None   \n",
       "42                                                                                                                                                                                                                                  None   \n",
       "43                                                                                                                                                                                                                                  None   \n",
       "44                                                                                                                                                                                                                                  None   \n",
       "45                                                                                                                                                                                                                                  None   \n",
       "46                                                                                                                                                                                                                                  None   \n",
       "47                                                                                                                                                                                                                                  None   \n",
       "48                                                                                                                                                                                                                                  None   \n",
       "49                                                                                                                                                                                                                                  None   \n",
       "50                                                                                                                                                                                                                                  None   \n",
       "51                                                                                                                                                                                                                                  None   \n",
       "52                                                                                                                                                                          meats-and-their-products, beef-and-its-products, meats, beef   \n",
       "53      beverages-and-beverages-preparations, plant-based-foods-and-beverages, beverages, plant-based-beverages, fruit-based-beverages, juices-and-nectars, fruit-juices, multifruit-juices, squeezed-juices, squeezed-multifruit-juices   \n",
       "54                                                                                                                                                                                                                                  None   \n",
       "55                                                                                                             snacks, sweet-snacks, cocoa-and-its-products, confectioneries, chocolate-candies, bonbons, chocolates, chocolate-truffles   \n",
       "56                                                                                                                                                                                                                                  None   \n",
       "57                                                                                                                                                                                                                                  None   \n",
       "58                                                                                                                                                                                                                                  None   \n",
       "59                                                                                                                                                                                                                                  None   \n",
       "\n",
       "    labels_note  \n",
       "0             0  \n",
       "1             0  \n",
       "2             0  \n",
       "3             1  \n",
       "4             5  \n",
       "5             0  \n",
       "6             6  \n",
       "7             0  \n",
       "8             0  \n",
       "9             0  \n",
       "10            0  \n",
       "11            3  \n",
       "12            3  \n",
       "13            0  \n",
       "14            4  \n",
       "15            2  \n",
       "16            1  \n",
       "17            2  \n",
       "18            0  \n",
       "19            0  \n",
       "20            0  \n",
       "21            0  \n",
       "22            2  \n",
       "23            0  \n",
       "24            0  \n",
       "25            0  \n",
       "26            0  \n",
       "27            0  \n",
       "28            2  \n",
       "29            0  \n",
       "30            2  \n",
       "31            4  \n",
       "32            0  \n",
       "33            2  \n",
       "34            0  \n",
       "35            3  \n",
       "36            2  \n",
       "37            0  \n",
       "38            0  \n",
       "39            0  \n",
       "40            0  \n",
       "41            0  \n",
       "42            0  \n",
       "43            0  \n",
       "44            0  \n",
       "45            0  \n",
       "46            0  \n",
       "47            0  \n",
       "48            0  \n",
       "49            0  \n",
       "50            0  \n",
       "51            0  \n",
       "52            0  \n",
       "53            0  \n",
       "54            0  \n",
       "55            2  \n",
       "56            0  \n",
       "57            0  \n",
       "58            0  \n",
       "59            0  "
      ]
     },
     "execution_count": 90,
     "metadata": {},
     "output_type": "execute_result"
    }
   ],
   "source": [
    "df = pd.read_json(jsonl_sample, lines=True)\n",
    "df.head(60)"
   ]
  },
  {
   "cell_type": "code",
   "execution_count": null,
   "metadata": {},
   "outputs": [],
   "source": []
  }
 ],
 "metadata": {
  "kernelspec": {
   "display_name": "greenIa",
   "language": "python",
   "name": "python3"
  },
  "language_info": {
   "codemirror_mode": {
    "name": "ipython",
    "version": 3
   },
   "file_extension": ".py",
   "mimetype": "text/x-python",
   "name": "python",
   "nbconvert_exporter": "python",
   "pygments_lexer": "ipython3",
   "version": "3.10.14"
  }
 },
 "nbformat": 4,
 "nbformat_minor": 2
}
