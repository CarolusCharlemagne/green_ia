{
 "cells": [
  {
   "cell_type": "code",
   "execution_count": 17,
   "metadata": {},
   "outputs": [],
   "source": [
    "import json\n",
    "import random\n",
    "import pandas as pd\n",
    "import jsonlines\n",
    "import warnings\n",
    "import plotly.graph_objects as go\n",
    "\n",
    "pd.set_option('display.max_rows', 100)\n",
    "warnings.filterwarnings(\"ignore\", category=pd.errors.DtypeWarning)"
   ]
  },
  {
   "cell_type": "code",
   "execution_count": 18,
   "metadata": {},
   "outputs": [],
   "source": [
    "file_path = '/home/carolus/Documents/school/green_ia/data/07_data/07_train.jsonl'\n",
    "num_samples = 500"
   ]
  },
  {
   "cell_type": "code",
   "execution_count": 19,
   "metadata": {},
   "outputs": [],
   "source": [
    "def sample_jsonl_file(file_path, num_samples):\n",
    "    sample_lines = []\n",
    "\n",
    "    with open(file_path, 'r') as file:\n",
    "        line_count = 0\n",
    "        for line in file:\n",
    "            line_count += 1\n",
    "            if len(sample_lines) < num_samples:\n",
    "                sample_lines.append(line)\n",
    "            else:\n",
    "                idx = random.randint(0, line_count - 1)\n",
    "                if idx < num_samples:\n",
    "                    sample_lines[idx] = line\n",
    "\n",
    "    data_list = [json.loads(line) for line in sample_lines]\n",
    "    df = pd.DataFrame(data_list)\n",
    "    return df"
   ]
  },
  {
   "cell_type": "code",
   "execution_count": 20,
   "metadata": {},
   "outputs": [],
   "source": [
    "df = sample_jsonl_file(file_path, num_samples)"
   ]
  },
  {
   "cell_type": "code",
   "execution_count": 21,
   "metadata": {},
   "outputs": [
    {
     "data": {
      "text/html": [
       "<div>\n",
       "<style scoped>\n",
       "    .dataframe tbody tr th:only-of-type {\n",
       "        vertical-align: middle;\n",
       "    }\n",
       "\n",
       "    .dataframe tbody tr th {\n",
       "        vertical-align: top;\n",
       "    }\n",
       "\n",
       "    .dataframe thead th {\n",
       "        text-align: right;\n",
       "    }\n",
       "</style>\n",
       "<table border=\"1\" class=\"dataframe\">\n",
       "  <thead>\n",
       "    <tr style=\"text-align: right;\">\n",
       "      <th></th>\n",
       "      <th>groups</th>\n",
       "      <th>packaging</th>\n",
       "      <th>name</th>\n",
       "      <th>ecoscore_tags</th>\n",
       "      <th>ecoscore_score</th>\n",
       "      <th>countries</th>\n",
       "      <th>ingredients</th>\n",
       "      <th>categories</th>\n",
       "      <th>labels_note</th>\n",
       "    </tr>\n",
       "  </thead>\n",
       "  <tbody>\n",
       "    <tr>\n",
       "      <th>440</th>\n",
       "      <td>0.666667</td>\n",
       "      <td>empty</td>\n",
       "      <td>filetti di acciughe</td>\n",
       "      <td>NaN</td>\n",
       "      <td>49.0</td>\n",
       "      <td>0.420213</td>\n",
       "      <td>empty</td>\n",
       "      <td>seafood</td>\n",
       "      <td>0.000000</td>\n",
       "    </tr>\n",
       "    <tr>\n",
       "      <th>441</th>\n",
       "      <td>0.444444</td>\n",
       "      <td>empty</td>\n",
       "      <td>arzúa-ulloa</td>\n",
       "      <td>0.50</td>\n",
       "      <td>51.0</td>\n",
       "      <td>0.874317</td>\n",
       "      <td>empty</td>\n",
       "      <td>dairies, fermented-foods, fermented-milk-produ...</td>\n",
       "      <td>0.000000</td>\n",
       "    </tr>\n",
       "    <tr>\n",
       "      <th>442</th>\n",
       "      <td>0.111111</td>\n",
       "      <td>empty</td>\n",
       "      <td>apple cider</td>\n",
       "      <td>NaN</td>\n",
       "      <td>49.0</td>\n",
       "      <td>1.000000</td>\n",
       "      <td>cider-vinegar, vinegar, diluted-with-water-to-...</td>\n",
       "      <td>condiments, sauces, groceries</td>\n",
       "      <td>0.000000</td>\n",
       "    </tr>\n",
       "    <tr>\n",
       "      <th>443</th>\n",
       "      <td>0.555556</td>\n",
       "      <td>empty</td>\n",
       "      <td>fresh durum bread</td>\n",
       "      <td>0.25</td>\n",
       "      <td>73.0</td>\n",
       "      <td>0.311475</td>\n",
       "      <td>empty</td>\n",
       "      <td>plant-based-foods-and-beverages, plant-based-f...</td>\n",
       "      <td>0.000000</td>\n",
       "    </tr>\n",
       "    <tr>\n",
       "      <th>444</th>\n",
       "      <td>NaN</td>\n",
       "      <td>empty</td>\n",
       "      <td>la saint pierre basilic citron</td>\n",
       "      <td>NaN</td>\n",
       "      <td>49.0</td>\n",
       "      <td>0.311475</td>\n",
       "      <td>empty</td>\n",
       "      <td>empty</td>\n",
       "      <td>0.000000</td>\n",
       "    </tr>\n",
       "    <tr>\n",
       "      <th>445</th>\n",
       "      <td>NaN</td>\n",
       "      <td>empty</td>\n",
       "      <td>hackbällchen</td>\n",
       "      <td>NaN</td>\n",
       "      <td>49.0</td>\n",
       "      <td>0.333333</td>\n",
       "      <td>empty</td>\n",
       "      <td>empty</td>\n",
       "      <td>0.000000</td>\n",
       "    </tr>\n",
       "    <tr>\n",
       "      <th>446</th>\n",
       "      <td>NaN</td>\n",
       "      <td>empty</td>\n",
       "      <td>rybki</td>\n",
       "      <td>NaN</td>\n",
       "      <td>49.0</td>\n",
       "      <td>0.076503</td>\n",
       "      <td>empty</td>\n",
       "      <td>empty</td>\n",
       "      <td>0.000000</td>\n",
       "    </tr>\n",
       "    <tr>\n",
       "      <th>447</th>\n",
       "      <td>0.666667</td>\n",
       "      <td>empty</td>\n",
       "      <td>longaniza extra</td>\n",
       "      <td>NaN</td>\n",
       "      <td>49.0</td>\n",
       "      <td>0.874317</td>\n",
       "      <td>empty</td>\n",
       "      <td>meats-and-their-products, meats, prepared-meat...</td>\n",
       "      <td>0.111111</td>\n",
       "    </tr>\n",
       "    <tr>\n",
       "      <th>448</th>\n",
       "      <td>NaN</td>\n",
       "      <td>empty</td>\n",
       "      <td>infuso ai frutti di bosco</td>\n",
       "      <td>NaN</td>\n",
       "      <td>49.0</td>\n",
       "      <td>0.412429</td>\n",
       "      <td>empty</td>\n",
       "      <td>empty</td>\n",
       "      <td>0.000000</td>\n",
       "    </tr>\n",
       "    <tr>\n",
       "      <th>449</th>\n",
       "      <td>0.000000</td>\n",
       "      <td>empty</td>\n",
       "      <td>cioccolato al latte e riso croccante</td>\n",
       "      <td>1.00</td>\n",
       "      <td>19.0</td>\n",
       "      <td>0.420213</td>\n",
       "      <td>empty</td>\n",
       "      <td>snacks, sweet-snacks, cocoa-and-its-products, ...</td>\n",
       "      <td>0.000000</td>\n",
       "    </tr>\n",
       "    <tr>\n",
       "      <th>450</th>\n",
       "      <td>0.333333</td>\n",
       "      <td>carton</td>\n",
       "      <td>fondue de poireaux aux st jacques</td>\n",
       "      <td>0.00</td>\n",
       "      <td>98.0</td>\n",
       "      <td>0.254438</td>\n",
       "      <td>water, vegetable, fresh-cream, dairy, cream, m...</td>\n",
       "      <td>plant-based-foods-and-beverages, plant-based-f...</td>\n",
       "      <td>0.333333</td>\n",
       "    </tr>\n",
       "    <tr>\n",
       "      <th>451</th>\n",
       "      <td>NaN</td>\n",
       "      <td>empty</td>\n",
       "      <td>konfituur 3 agrumes &amp; gember 215g</td>\n",
       "      <td>NaN</td>\n",
       "      <td>49.0</td>\n",
       "      <td>0.311475</td>\n",
       "      <td>fruit, sugar, added-sugar, disaccharide, fruit...</td>\n",
       "      <td>empty</td>\n",
       "      <td>0.333333</td>\n",
       "    </tr>\n",
       "    <tr>\n",
       "      <th>452</th>\n",
       "      <td>NaN</td>\n",
       "      <td>empty</td>\n",
       "      <td>virginia peanuts cajun</td>\n",
       "      <td>NaN</td>\n",
       "      <td>49.0</td>\n",
       "      <td>NaN</td>\n",
       "      <td>empty</td>\n",
       "      <td>empty</td>\n",
       "      <td>0.222222</td>\n",
       "    </tr>\n",
       "    <tr>\n",
       "      <th>453</th>\n",
       "      <td>NaN</td>\n",
       "      <td>empty</td>\n",
       "      <td>none</td>\n",
       "      <td>NaN</td>\n",
       "      <td>49.0</td>\n",
       "      <td>1.000000</td>\n",
       "      <td>empty</td>\n",
       "      <td>empty</td>\n",
       "      <td>0.111111</td>\n",
       "    </tr>\n",
       "    <tr>\n",
       "      <th>454</th>\n",
       "      <td>NaN</td>\n",
       "      <td>empty</td>\n",
       "      <td>cheddar bratwurst patties</td>\n",
       "      <td>NaN</td>\n",
       "      <td>49.0</td>\n",
       "      <td>1.000000</td>\n",
       "      <td>pork, animal, pasteurized-process-cheddar-chee...</td>\n",
       "      <td>empty</td>\n",
       "      <td>0.000000</td>\n",
       "    </tr>\n",
       "    <tr>\n",
       "      <th>455</th>\n",
       "      <td>0.700000</td>\n",
       "      <td>empty</td>\n",
       "      <td>gatorade thirst quencher fruit punch</td>\n",
       "      <td>NaN</td>\n",
       "      <td>49.0</td>\n",
       "      <td>1.000000</td>\n",
       "      <td>water, sugar, added-sugar, disaccharide, dextr...</td>\n",
       "      <td>beverages, sweetened-beverages</td>\n",
       "      <td>0.000000</td>\n",
       "    </tr>\n",
       "    <tr>\n",
       "      <th>456</th>\n",
       "      <td>NaN</td>\n",
       "      <td>empty</td>\n",
       "      <td>proteinella hazelnut spread</td>\n",
       "      <td>NaN</td>\n",
       "      <td>49.0</td>\n",
       "      <td>1.000000</td>\n",
       "      <td>empty</td>\n",
       "      <td>empty</td>\n",
       "      <td>0.222222</td>\n",
       "    </tr>\n",
       "    <tr>\n",
       "      <th>457</th>\n",
       "      <td>0.000000</td>\n",
       "      <td>empty</td>\n",
       "      <td>minis milk chocolate peanut butter cups</td>\n",
       "      <td>NaN</td>\n",
       "      <td>49.0</td>\n",
       "      <td>1.000000</td>\n",
       "      <td>empty</td>\n",
       "      <td>snacks, sweet-snacks, cocoa-and-its-products, ...</td>\n",
       "      <td>0.000000</td>\n",
       "    </tr>\n",
       "    <tr>\n",
       "      <th>458</th>\n",
       "      <td>NaN</td>\n",
       "      <td>empty</td>\n",
       "      <td>none</td>\n",
       "      <td>NaN</td>\n",
       "      <td>49.0</td>\n",
       "      <td>0.181818</td>\n",
       "      <td>empty</td>\n",
       "      <td>empty</td>\n",
       "      <td>0.000000</td>\n",
       "    </tr>\n",
       "    <tr>\n",
       "      <th>459</th>\n",
       "      <td>0.000000</td>\n",
       "      <td>empty</td>\n",
       "      <td>haribo pinata summer game</td>\n",
       "      <td>NaN</td>\n",
       "      <td>49.0</td>\n",
       "      <td>0.311475</td>\n",
       "      <td>empty</td>\n",
       "      <td>snacks, sweet-snacks, confectioneries</td>\n",
       "      <td>0.111111</td>\n",
       "    </tr>\n",
       "    <tr>\n",
       "      <th>460</th>\n",
       "      <td>0.000000</td>\n",
       "      <td>empty</td>\n",
       "      <td>chocolate organic prebiotics + probiotics plan...</td>\n",
       "      <td>NaN</td>\n",
       "      <td>49.0</td>\n",
       "      <td>1.000000</td>\n",
       "      <td>sprouted-fermented-pea-protein-powder, cocoa, ...</td>\n",
       "      <td>snacks, sweet-snacks, cocoa-and-its-products, ...</td>\n",
       "      <td>0.111111</td>\n",
       "    </tr>\n",
       "    <tr>\n",
       "      <th>461</th>\n",
       "      <td>0.777778</td>\n",
       "      <td>empty</td>\n",
       "      <td>antares ipa verde</td>\n",
       "      <td>0.75</td>\n",
       "      <td>37.0</td>\n",
       "      <td>0.846561</td>\n",
       "      <td>empty</td>\n",
       "      <td>beverages, alcoholic-beverages, beers, ales, p...</td>\n",
       "      <td>0.000000</td>\n",
       "    </tr>\n",
       "    <tr>\n",
       "      <th>462</th>\n",
       "      <td>NaN</td>\n",
       "      <td>empty</td>\n",
       "      <td>none</td>\n",
       "      <td>NaN</td>\n",
       "      <td>49.0</td>\n",
       "      <td>0.983607</td>\n",
       "      <td>empty</td>\n",
       "      <td>empty</td>\n",
       "      <td>0.000000</td>\n",
       "    </tr>\n",
       "    <tr>\n",
       "      <th>463</th>\n",
       "      <td>NaN</td>\n",
       "      <td>empty</td>\n",
       "      <td>лапша buitoni la rasagnole феттучине</td>\n",
       "      <td>NaN</td>\n",
       "      <td>49.0</td>\n",
       "      <td>0.765027</td>\n",
       "      <td>empty</td>\n",
       "      <td>empty</td>\n",
       "      <td>0.000000</td>\n",
       "    </tr>\n",
       "    <tr>\n",
       "      <th>464</th>\n",
       "      <td>0.666667</td>\n",
       "      <td>empty</td>\n",
       "      <td>mild italian sausage, mild italian</td>\n",
       "      <td>NaN</td>\n",
       "      <td>49.0</td>\n",
       "      <td>1.000000</td>\n",
       "      <td>pork, animal, water, corn-syrup, added-sugar, ...</td>\n",
       "      <td>meats-and-their-products, meats, prepared-meat...</td>\n",
       "      <td>0.000000</td>\n",
       "    </tr>\n",
       "    <tr>\n",
       "      <th>465</th>\n",
       "      <td>NaN</td>\n",
       "      <td>empty</td>\n",
       "      <td>žirnių sriuba</td>\n",
       "      <td>NaN</td>\n",
       "      <td>49.0</td>\n",
       "      <td>0.530055</td>\n",
       "      <td>empty</td>\n",
       "      <td>empty</td>\n",
       "      <td>0.000000</td>\n",
       "    </tr>\n",
       "    <tr>\n",
       "      <th>466</th>\n",
       "      <td>NaN</td>\n",
       "      <td>empty</td>\n",
       "      <td>сацебели</td>\n",
       "      <td>NaN</td>\n",
       "      <td>49.0</td>\n",
       "      <td>0.442623</td>\n",
       "      <td>empty</td>\n",
       "      <td>empty</td>\n",
       "      <td>0.000000</td>\n",
       "    </tr>\n",
       "    <tr>\n",
       "      <th>467</th>\n",
       "      <td>0.222222</td>\n",
       "      <td>empty</td>\n",
       "      <td>sprats fumés de riga</td>\n",
       "      <td>0.25</td>\n",
       "      <td>64.0</td>\n",
       "      <td>0.296089</td>\n",
       "      <td>empty</td>\n",
       "      <td>seafood, fishes-and-their-products, fishes, me...</td>\n",
       "      <td>0.000000</td>\n",
       "    </tr>\n",
       "    <tr>\n",
       "      <th>468</th>\n",
       "      <td>0.555556</td>\n",
       "      <td>empty</td>\n",
       "      <td>arroz negro</td>\n",
       "      <td>1.00</td>\n",
       "      <td>12.0</td>\n",
       "      <td>0.874317</td>\n",
       "      <td>empty</td>\n",
       "      <td>plant-based-foods-and-beverages, plant-based-f...</td>\n",
       "      <td>0.111111</td>\n",
       "    </tr>\n",
       "    <tr>\n",
       "      <th>469</th>\n",
       "      <td>NaN</td>\n",
       "      <td>hdpe-bottle</td>\n",
       "      <td>fabric refreshner</td>\n",
       "      <td>NaN</td>\n",
       "      <td>49.0</td>\n",
       "      <td>0.968085</td>\n",
       "      <td>empty</td>\n",
       "      <td>empty</td>\n",
       "      <td>0.000000</td>\n",
       "    </tr>\n",
       "    <tr>\n",
       "      <th>470</th>\n",
       "      <td>NaN</td>\n",
       "      <td>empty</td>\n",
       "      <td>marine collagen</td>\n",
       "      <td>NaN</td>\n",
       "      <td>49.0</td>\n",
       "      <td>1.000000</td>\n",
       "      <td>empty</td>\n",
       "      <td>dietary-supplements</td>\n",
       "      <td>0.000000</td>\n",
       "    </tr>\n",
       "    <tr>\n",
       "      <th>471</th>\n",
       "      <td>NaN</td>\n",
       "      <td>empty</td>\n",
       "      <td>death reaper</td>\n",
       "      <td>NaN</td>\n",
       "      <td>49.0</td>\n",
       "      <td>1.000000</td>\n",
       "      <td>empty</td>\n",
       "      <td>empty</td>\n",
       "      <td>0.111111</td>\n",
       "    </tr>\n",
       "    <tr>\n",
       "      <th>472</th>\n",
       "      <td>0.333333</td>\n",
       "      <td>empty</td>\n",
       "      <td>pizza sauce</td>\n",
       "      <td>NaN</td>\n",
       "      <td>49.0</td>\n",
       "      <td>0.158470</td>\n",
       "      <td>empty</td>\n",
       "      <td>plant-based-foods-and-beverages, plant-based-f...</td>\n",
       "      <td>0.000000</td>\n",
       "    </tr>\n",
       "    <tr>\n",
       "      <th>473</th>\n",
       "      <td>NaN</td>\n",
       "      <td>empty</td>\n",
       "      <td>erdarnuss krokant</td>\n",
       "      <td>NaN</td>\n",
       "      <td>49.0</td>\n",
       "      <td>0.076503</td>\n",
       "      <td>empty</td>\n",
       "      <td>empty</td>\n",
       "      <td>0.000000</td>\n",
       "    </tr>\n",
       "    <tr>\n",
       "      <th>474</th>\n",
       "      <td>NaN</td>\n",
       "      <td>empty</td>\n",
       "      <td>calcium &amp; vitamin d tablets</td>\n",
       "      <td>NaN</td>\n",
       "      <td>49.0</td>\n",
       "      <td>NaN</td>\n",
       "      <td>empty</td>\n",
       "      <td>empty</td>\n",
       "      <td>0.000000</td>\n",
       "    </tr>\n",
       "    <tr>\n",
       "      <th>475</th>\n",
       "      <td>0.666667</td>\n",
       "      <td>empty</td>\n",
       "      <td>filet de poulet fermier</td>\n",
       "      <td>0.75</td>\n",
       "      <td>21.0</td>\n",
       "      <td>0.420765</td>\n",
       "      <td>empty</td>\n",
       "      <td>meats-and-their-products, meats, chicken-and-i...</td>\n",
       "      <td>0.000000</td>\n",
       "    </tr>\n",
       "    <tr>\n",
       "      <th>476</th>\n",
       "      <td>0.000000</td>\n",
       "      <td>empty</td>\n",
       "      <td>jam</td>\n",
       "      <td>NaN</td>\n",
       "      <td>49.0</td>\n",
       "      <td>1.000000</td>\n",
       "      <td>strawberry, fruit, berries, sugar, added-sugar...</td>\n",
       "      <td>plant-based-foods-and-beverages, plant-based-f...</td>\n",
       "      <td>0.000000</td>\n",
       "    </tr>\n",
       "    <tr>\n",
       "      <th>477</th>\n",
       "      <td>NaN</td>\n",
       "      <td>empty</td>\n",
       "      <td>jambon blanc</td>\n",
       "      <td>NaN</td>\n",
       "      <td>49.0</td>\n",
       "      <td>0.303191</td>\n",
       "      <td>empty</td>\n",
       "      <td>empty</td>\n",
       "      <td>0.222222</td>\n",
       "    </tr>\n",
       "    <tr>\n",
       "      <th>478</th>\n",
       "      <td>NaN</td>\n",
       "      <td>empty</td>\n",
       "      <td>none</td>\n",
       "      <td>NaN</td>\n",
       "      <td>49.0</td>\n",
       "      <td>0.622951</td>\n",
       "      <td>empty</td>\n",
       "      <td>empty</td>\n",
       "      <td>0.000000</td>\n",
       "    </tr>\n",
       "    <tr>\n",
       "      <th>479</th>\n",
       "      <td>NaN</td>\n",
       "      <td>empty</td>\n",
       "      <td>viterra classico</td>\n",
       "      <td>NaN</td>\n",
       "      <td>49.0</td>\n",
       "      <td>0.748634</td>\n",
       "      <td>empty</td>\n",
       "      <td>empty</td>\n",
       "      <td>0.000000</td>\n",
       "    </tr>\n",
       "    <tr>\n",
       "      <th>480</th>\n",
       "      <td>NaN</td>\n",
       "      <td>empty</td>\n",
       "      <td>fudge n' vanilla crunch</td>\n",
       "      <td>NaN</td>\n",
       "      <td>49.0</td>\n",
       "      <td>0.420765</td>\n",
       "      <td>empty</td>\n",
       "      <td>empty</td>\n",
       "      <td>0.222222</td>\n",
       "    </tr>\n",
       "    <tr>\n",
       "      <th>481</th>\n",
       "      <td>0.000000</td>\n",
       "      <td>plastique, boîte, carton</td>\n",
       "      <td>barres granola (beurre d'arachide)</td>\n",
       "      <td>NaN</td>\n",
       "      <td>49.0</td>\n",
       "      <td>NaN</td>\n",
       "      <td>oat-flakes, cereal, oat, sugar, added-sugar, d...</td>\n",
       "      <td>plant-based-foods-and-beverages, plant-based-f...</td>\n",
       "      <td>0.222222</td>\n",
       "    </tr>\n",
       "    <tr>\n",
       "      <th>482</th>\n",
       "      <td>0.000000</td>\n",
       "      <td>empty</td>\n",
       "      <td>jo's candies, s'more graham</td>\n",
       "      <td>NaN</td>\n",
       "      <td>49.0</td>\n",
       "      <td>1.000000</td>\n",
       "      <td>milk-chocolate, chocolate, graham, marshmallow...</td>\n",
       "      <td>snacks, sweet-snacks, cocoa-and-its-products, ...</td>\n",
       "      <td>0.000000</td>\n",
       "    </tr>\n",
       "    <tr>\n",
       "      <th>483</th>\n",
       "      <td>0.000000</td>\n",
       "      <td>empty</td>\n",
       "      <td>miel de fleurs de champagne</td>\n",
       "      <td>0.25</td>\n",
       "      <td>79.0</td>\n",
       "      <td>0.311475</td>\n",
       "      <td>empty</td>\n",
       "      <td>breakfasts, spreads, sweet-spreads, bee-produc...</td>\n",
       "      <td>0.333333</td>\n",
       "    </tr>\n",
       "    <tr>\n",
       "      <th>484</th>\n",
       "      <td>0.666667</td>\n",
       "      <td>empty</td>\n",
       "      <td>roti de porc farci fromage raclette</td>\n",
       "      <td>1.00</td>\n",
       "      <td>0.0</td>\n",
       "      <td>0.311475</td>\n",
       "      <td>empty</td>\n",
       "      <td>meats-and-their-products, meats, pork-and-its-...</td>\n",
       "      <td>0.000000</td>\n",
       "    </tr>\n",
       "    <tr>\n",
       "      <th>485</th>\n",
       "      <td>0.444444</td>\n",
       "      <td>box, composite-carton</td>\n",
       "      <td>uht cream</td>\n",
       "      <td>0.50</td>\n",
       "      <td>54.0</td>\n",
       "      <td>0.705882</td>\n",
       "      <td>cream, dairy, stabiliser, e407, e339</td>\n",
       "      <td>dairies, creams, uht-creams, unfermented-creams</td>\n",
       "      <td>0.000000</td>\n",
       "    </tr>\n",
       "    <tr>\n",
       "      <th>486</th>\n",
       "      <td>1.000000</td>\n",
       "      <td>métal, verre, bocal</td>\n",
       "      <td>paté de la fermière</td>\n",
       "      <td>NaN</td>\n",
       "      <td>49.0</td>\n",
       "      <td>0.320755</td>\n",
       "      <td>animal, meat, pork, pork-meat, onion, vegetabl...</td>\n",
       "      <td>snacks, meats-and-their-products, salty-snacks...</td>\n",
       "      <td>0.555556</td>\n",
       "    </tr>\n",
       "    <tr>\n",
       "      <th>487</th>\n",
       "      <td>NaN</td>\n",
       "      <td>empty</td>\n",
       "      <td>agua pura salvavidas</td>\n",
       "      <td>NaN</td>\n",
       "      <td>49.0</td>\n",
       "      <td>NaN</td>\n",
       "      <td>filtered-water, water</td>\n",
       "      <td>empty</td>\n",
       "      <td>0.222222</td>\n",
       "    </tr>\n",
       "    <tr>\n",
       "      <th>488</th>\n",
       "      <td>NaN</td>\n",
       "      <td>empty</td>\n",
       "      <td>sour neon worms</td>\n",
       "      <td>NaN</td>\n",
       "      <td>49.0</td>\n",
       "      <td>0.158470</td>\n",
       "      <td>empty</td>\n",
       "      <td>empty</td>\n",
       "      <td>0.000000</td>\n",
       "    </tr>\n",
       "    <tr>\n",
       "      <th>489</th>\n",
       "      <td>NaN</td>\n",
       "      <td>empty</td>\n",
       "      <td></td>\n",
       "      <td>NaN</td>\n",
       "      <td>49.0</td>\n",
       "      <td>0.032787</td>\n",
       "      <td>empty</td>\n",
       "      <td>empty</td>\n",
       "      <td>0.000000</td>\n",
       "    </tr>\n",
       "    <tr>\n",
       "      <th>490</th>\n",
       "      <td>NaN</td>\n",
       "      <td>empty</td>\n",
       "      <td>kerchup</td>\n",
       "      <td>NaN</td>\n",
       "      <td>49.0</td>\n",
       "      <td>0.158470</td>\n",
       "      <td>empty</td>\n",
       "      <td>empty</td>\n",
       "      <td>0.000000</td>\n",
       "    </tr>\n",
       "    <tr>\n",
       "      <th>491</th>\n",
       "      <td>0.777778</td>\n",
       "      <td>verre, bouteille</td>\n",
       "      <td>blended scotch whisky</td>\n",
       "      <td>0.25</td>\n",
       "      <td>72.0</td>\n",
       "      <td>NaN</td>\n",
       "      <td>empty</td>\n",
       "      <td>beverages, alcoholic-beverages, distilled-beve...</td>\n",
       "      <td>0.000000</td>\n",
       "    </tr>\n",
       "    <tr>\n",
       "      <th>492</th>\n",
       "      <td>NaN</td>\n",
       "      <td>empty</td>\n",
       "      <td>marmelade clémentine</td>\n",
       "      <td>NaN</td>\n",
       "      <td>49.0</td>\n",
       "      <td>0.311475</td>\n",
       "      <td>empty</td>\n",
       "      <td>empty</td>\n",
       "      <td>0.000000</td>\n",
       "    </tr>\n",
       "    <tr>\n",
       "      <th>493</th>\n",
       "      <td>NaN</td>\n",
       "      <td>empty</td>\n",
       "      <td>sourires de campagne</td>\n",
       "      <td>NaN</td>\n",
       "      <td>49.0</td>\n",
       "      <td>0.301587</td>\n",
       "      <td>empty</td>\n",
       "      <td>empty</td>\n",
       "      <td>0.444444</td>\n",
       "    </tr>\n",
       "    <tr>\n",
       "      <th>494</th>\n",
       "      <td>NaN</td>\n",
       "      <td>empty</td>\n",
       "      <td>chips goût steak cheetos</td>\n",
       "      <td>NaN</td>\n",
       "      <td>49.0</td>\n",
       "      <td>0.902174</td>\n",
       "      <td>empty</td>\n",
       "      <td>empty</td>\n",
       "      <td>0.000000</td>\n",
       "    </tr>\n",
       "    <tr>\n",
       "      <th>495</th>\n",
       "      <td>NaN</td>\n",
       "      <td>empty</td>\n",
       "      <td>apfelsaft naturtrüb</td>\n",
       "      <td>NaN</td>\n",
       "      <td>49.0</td>\n",
       "      <td>0.288136</td>\n",
       "      <td>empty</td>\n",
       "      <td>empty</td>\n",
       "      <td>0.000000</td>\n",
       "    </tr>\n",
       "    <tr>\n",
       "      <th>496</th>\n",
       "      <td>NaN</td>\n",
       "      <td>empty</td>\n",
       "      <td>pão de hambúrguer - d'massa</td>\n",
       "      <td>NaN</td>\n",
       "      <td>49.0</td>\n",
       "      <td>0.114754</td>\n",
       "      <td>empty</td>\n",
       "      <td>empty</td>\n",
       "      <td>0.000000</td>\n",
       "    </tr>\n",
       "    <tr>\n",
       "      <th>497</th>\n",
       "      <td>0.444444</td>\n",
       "      <td>empty</td>\n",
       "      <td>string low-moisture part-skim mozzarella chees...</td>\n",
       "      <td>0.75</td>\n",
       "      <td>34.0</td>\n",
       "      <td>1.000000</td>\n",
       "      <td>pasteurized-semi-skimmed-milk, dairy, milk, se...</td>\n",
       "      <td>dairies, fermented-foods, fermented-milk-produ...</td>\n",
       "      <td>0.000000</td>\n",
       "    </tr>\n",
       "    <tr>\n",
       "      <th>498</th>\n",
       "      <td>NaN</td>\n",
       "      <td>empty</td>\n",
       "      <td>sirop de caramel</td>\n",
       "      <td>NaN</td>\n",
       "      <td>49.0</td>\n",
       "      <td>0.284768</td>\n",
       "      <td>empty</td>\n",
       "      <td>empty</td>\n",
       "      <td>0.000000</td>\n",
       "    </tr>\n",
       "    <tr>\n",
       "      <th>499</th>\n",
       "      <td>0.666667</td>\n",
       "      <td>plastique, sachet, surgelé</td>\n",
       "      <td>nuggets de volailles</td>\n",
       "      <td>0.75</td>\n",
       "      <td>22.0</td>\n",
       "      <td>0.000000</td>\n",
       "      <td>chicken-meat, poultry, chicken, water, sunflow...</td>\n",
       "      <td>meats-and-their-products, meat-preparations, m...</td>\n",
       "      <td>0.000000</td>\n",
       "    </tr>\n",
       "  </tbody>\n",
       "</table>\n",
       "</div>"
      ],
      "text/plain": [
       "       groups                   packaging  \\\n",
       "440  0.666667                       empty   \n",
       "441  0.444444                       empty   \n",
       "442  0.111111                       empty   \n",
       "443  0.555556                       empty   \n",
       "444       NaN                       empty   \n",
       "445       NaN                       empty   \n",
       "446       NaN                       empty   \n",
       "447  0.666667                       empty   \n",
       "448       NaN                       empty   \n",
       "449  0.000000                       empty   \n",
       "450  0.333333                      carton   \n",
       "451       NaN                       empty   \n",
       "452       NaN                       empty   \n",
       "453       NaN                       empty   \n",
       "454       NaN                       empty   \n",
       "455  0.700000                       empty   \n",
       "456       NaN                       empty   \n",
       "457  0.000000                       empty   \n",
       "458       NaN                       empty   \n",
       "459  0.000000                       empty   \n",
       "460  0.000000                       empty   \n",
       "461  0.777778                       empty   \n",
       "462       NaN                       empty   \n",
       "463       NaN                       empty   \n",
       "464  0.666667                       empty   \n",
       "465       NaN                       empty   \n",
       "466       NaN                       empty   \n",
       "467  0.222222                       empty   \n",
       "468  0.555556                       empty   \n",
       "469       NaN                 hdpe-bottle   \n",
       "470       NaN                       empty   \n",
       "471       NaN                       empty   \n",
       "472  0.333333                       empty   \n",
       "473       NaN                       empty   \n",
       "474       NaN                       empty   \n",
       "475  0.666667                       empty   \n",
       "476  0.000000                       empty   \n",
       "477       NaN                       empty   \n",
       "478       NaN                       empty   \n",
       "479       NaN                       empty   \n",
       "480       NaN                       empty   \n",
       "481  0.000000    plastique, boîte, carton   \n",
       "482  0.000000                       empty   \n",
       "483  0.000000                       empty   \n",
       "484  0.666667                       empty   \n",
       "485  0.444444       box, composite-carton   \n",
       "486  1.000000         métal, verre, bocal   \n",
       "487       NaN                       empty   \n",
       "488       NaN                       empty   \n",
       "489       NaN                       empty   \n",
       "490       NaN                       empty   \n",
       "491  0.777778            verre, bouteille   \n",
       "492       NaN                       empty   \n",
       "493       NaN                       empty   \n",
       "494       NaN                       empty   \n",
       "495       NaN                       empty   \n",
       "496       NaN                       empty   \n",
       "497  0.444444                       empty   \n",
       "498       NaN                       empty   \n",
       "499  0.666667  plastique, sachet, surgelé   \n",
       "\n",
       "                                                  name  ecoscore_tags  \\\n",
       "440                                filetti di acciughe            NaN   \n",
       "441                                        arzúa-ulloa           0.50   \n",
       "442                                        apple cider            NaN   \n",
       "443                                  fresh durum bread           0.25   \n",
       "444                     la saint pierre basilic citron            NaN   \n",
       "445                                       hackbällchen            NaN   \n",
       "446                                              rybki            NaN   \n",
       "447                                    longaniza extra            NaN   \n",
       "448                          infuso ai frutti di bosco            NaN   \n",
       "449               cioccolato al latte e riso croccante           1.00   \n",
       "450                  fondue de poireaux aux st jacques           0.00   \n",
       "451                  konfituur 3 agrumes & gember 215g            NaN   \n",
       "452                             virginia peanuts cajun            NaN   \n",
       "453                                               none            NaN   \n",
       "454                          cheddar bratwurst patties            NaN   \n",
       "455               gatorade thirst quencher fruit punch            NaN   \n",
       "456                        proteinella hazelnut spread            NaN   \n",
       "457            minis milk chocolate peanut butter cups            NaN   \n",
       "458                                               none            NaN   \n",
       "459                          haribo pinata summer game            NaN   \n",
       "460  chocolate organic prebiotics + probiotics plan...            NaN   \n",
       "461                                  antares ipa verde           0.75   \n",
       "462                                               none            NaN   \n",
       "463               лапша buitoni la rasagnole феттучине            NaN   \n",
       "464                 mild italian sausage, mild italian            NaN   \n",
       "465                                      žirnių sriuba            NaN   \n",
       "466                                           сацебели            NaN   \n",
       "467                               sprats fumés de riga           0.25   \n",
       "468                                        arroz negro           1.00   \n",
       "469                                  fabric refreshner            NaN   \n",
       "470                                    marine collagen            NaN   \n",
       "471                                       death reaper            NaN   \n",
       "472                                        pizza sauce            NaN   \n",
       "473                                  erdarnuss krokant            NaN   \n",
       "474                        calcium & vitamin d tablets            NaN   \n",
       "475                            filet de poulet fermier           0.75   \n",
       "476                                                jam            NaN   \n",
       "477                                       jambon blanc            NaN   \n",
       "478                                               none            NaN   \n",
       "479                                   viterra classico            NaN   \n",
       "480                            fudge n' vanilla crunch            NaN   \n",
       "481                 barres granola (beurre d'arachide)            NaN   \n",
       "482                        jo's candies, s'more graham            NaN   \n",
       "483                        miel de fleurs de champagne           0.25   \n",
       "484                roti de porc farci fromage raclette           1.00   \n",
       "485                                          uht cream           0.50   \n",
       "486                                paté de la fermière            NaN   \n",
       "487                               agua pura salvavidas            NaN   \n",
       "488                                    sour neon worms            NaN   \n",
       "489                                                               NaN   \n",
       "490                                            kerchup            NaN   \n",
       "491                              blended scotch whisky           0.25   \n",
       "492                               marmelade clémentine            NaN   \n",
       "493                               sourires de campagne            NaN   \n",
       "494                           chips goût steak cheetos            NaN   \n",
       "495                                apfelsaft naturtrüb            NaN   \n",
       "496                        pão de hambúrguer - d'massa            NaN   \n",
       "497  string low-moisture part-skim mozzarella chees...           0.75   \n",
       "498                                   sirop de caramel            NaN   \n",
       "499                               nuggets de volailles           0.75   \n",
       "\n",
       "     ecoscore_score  countries  \\\n",
       "440            49.0   0.420213   \n",
       "441            51.0   0.874317   \n",
       "442            49.0   1.000000   \n",
       "443            73.0   0.311475   \n",
       "444            49.0   0.311475   \n",
       "445            49.0   0.333333   \n",
       "446            49.0   0.076503   \n",
       "447            49.0   0.874317   \n",
       "448            49.0   0.412429   \n",
       "449            19.0   0.420213   \n",
       "450            98.0   0.254438   \n",
       "451            49.0   0.311475   \n",
       "452            49.0        NaN   \n",
       "453            49.0   1.000000   \n",
       "454            49.0   1.000000   \n",
       "455            49.0   1.000000   \n",
       "456            49.0   1.000000   \n",
       "457            49.0   1.000000   \n",
       "458            49.0   0.181818   \n",
       "459            49.0   0.311475   \n",
       "460            49.0   1.000000   \n",
       "461            37.0   0.846561   \n",
       "462            49.0   0.983607   \n",
       "463            49.0   0.765027   \n",
       "464            49.0   1.000000   \n",
       "465            49.0   0.530055   \n",
       "466            49.0   0.442623   \n",
       "467            64.0   0.296089   \n",
       "468            12.0   0.874317   \n",
       "469            49.0   0.968085   \n",
       "470            49.0   1.000000   \n",
       "471            49.0   1.000000   \n",
       "472            49.0   0.158470   \n",
       "473            49.0   0.076503   \n",
       "474            49.0        NaN   \n",
       "475            21.0   0.420765   \n",
       "476            49.0   1.000000   \n",
       "477            49.0   0.303191   \n",
       "478            49.0   0.622951   \n",
       "479            49.0   0.748634   \n",
       "480            49.0   0.420765   \n",
       "481            49.0        NaN   \n",
       "482            49.0   1.000000   \n",
       "483            79.0   0.311475   \n",
       "484             0.0   0.311475   \n",
       "485            54.0   0.705882   \n",
       "486            49.0   0.320755   \n",
       "487            49.0        NaN   \n",
       "488            49.0   0.158470   \n",
       "489            49.0   0.032787   \n",
       "490            49.0   0.158470   \n",
       "491            72.0        NaN   \n",
       "492            49.0   0.311475   \n",
       "493            49.0   0.301587   \n",
       "494            49.0   0.902174   \n",
       "495            49.0   0.288136   \n",
       "496            49.0   0.114754   \n",
       "497            34.0   1.000000   \n",
       "498            49.0   0.284768   \n",
       "499            22.0   0.000000   \n",
       "\n",
       "                                           ingredients  \\\n",
       "440                                              empty   \n",
       "441                                              empty   \n",
       "442  cider-vinegar, vinegar, diluted-with-water-to-...   \n",
       "443                                              empty   \n",
       "444                                              empty   \n",
       "445                                              empty   \n",
       "446                                              empty   \n",
       "447                                              empty   \n",
       "448                                              empty   \n",
       "449                                              empty   \n",
       "450  water, vegetable, fresh-cream, dairy, cream, m...   \n",
       "451  fruit, sugar, added-sugar, disaccharide, fruit...   \n",
       "452                                              empty   \n",
       "453                                              empty   \n",
       "454  pork, animal, pasteurized-process-cheddar-chee...   \n",
       "455  water, sugar, added-sugar, disaccharide, dextr...   \n",
       "456                                              empty   \n",
       "457                                              empty   \n",
       "458                                              empty   \n",
       "459                                              empty   \n",
       "460  sprouted-fermented-pea-protein-powder, cocoa, ...   \n",
       "461                                              empty   \n",
       "462                                              empty   \n",
       "463                                              empty   \n",
       "464  pork, animal, water, corn-syrup, added-sugar, ...   \n",
       "465                                              empty   \n",
       "466                                              empty   \n",
       "467                                              empty   \n",
       "468                                              empty   \n",
       "469                                              empty   \n",
       "470                                              empty   \n",
       "471                                              empty   \n",
       "472                                              empty   \n",
       "473                                              empty   \n",
       "474                                              empty   \n",
       "475                                              empty   \n",
       "476  strawberry, fruit, berries, sugar, added-sugar...   \n",
       "477                                              empty   \n",
       "478                                              empty   \n",
       "479                                              empty   \n",
       "480                                              empty   \n",
       "481  oat-flakes, cereal, oat, sugar, added-sugar, d...   \n",
       "482  milk-chocolate, chocolate, graham, marshmallow...   \n",
       "483                                              empty   \n",
       "484                                              empty   \n",
       "485               cream, dairy, stabiliser, e407, e339   \n",
       "486  animal, meat, pork, pork-meat, onion, vegetabl...   \n",
       "487                              filtered-water, water   \n",
       "488                                              empty   \n",
       "489                                              empty   \n",
       "490                                              empty   \n",
       "491                                              empty   \n",
       "492                                              empty   \n",
       "493                                              empty   \n",
       "494                                              empty   \n",
       "495                                              empty   \n",
       "496                                              empty   \n",
       "497  pasteurized-semi-skimmed-milk, dairy, milk, se...   \n",
       "498                                              empty   \n",
       "499  chicken-meat, poultry, chicken, water, sunflow...   \n",
       "\n",
       "                                            categories  labels_note  \n",
       "440                                            seafood     0.000000  \n",
       "441  dairies, fermented-foods, fermented-milk-produ...     0.000000  \n",
       "442                      condiments, sauces, groceries     0.000000  \n",
       "443  plant-based-foods-and-beverages, plant-based-f...     0.000000  \n",
       "444                                              empty     0.000000  \n",
       "445                                              empty     0.000000  \n",
       "446                                              empty     0.000000  \n",
       "447  meats-and-their-products, meats, prepared-meat...     0.111111  \n",
       "448                                              empty     0.000000  \n",
       "449  snacks, sweet-snacks, cocoa-and-its-products, ...     0.000000  \n",
       "450  plant-based-foods-and-beverages, plant-based-f...     0.333333  \n",
       "451                                              empty     0.333333  \n",
       "452                                              empty     0.222222  \n",
       "453                                              empty     0.111111  \n",
       "454                                              empty     0.000000  \n",
       "455                     beverages, sweetened-beverages     0.000000  \n",
       "456                                              empty     0.222222  \n",
       "457  snacks, sweet-snacks, cocoa-and-its-products, ...     0.000000  \n",
       "458                                              empty     0.000000  \n",
       "459              snacks, sweet-snacks, confectioneries     0.111111  \n",
       "460  snacks, sweet-snacks, cocoa-and-its-products, ...     0.111111  \n",
       "461  beverages, alcoholic-beverages, beers, ales, p...     0.000000  \n",
       "462                                              empty     0.000000  \n",
       "463                                              empty     0.000000  \n",
       "464  meats-and-their-products, meats, prepared-meat...     0.000000  \n",
       "465                                              empty     0.000000  \n",
       "466                                              empty     0.000000  \n",
       "467  seafood, fishes-and-their-products, fishes, me...     0.000000  \n",
       "468  plant-based-foods-and-beverages, plant-based-f...     0.111111  \n",
       "469                                              empty     0.000000  \n",
       "470                                dietary-supplements     0.000000  \n",
       "471                                              empty     0.111111  \n",
       "472  plant-based-foods-and-beverages, plant-based-f...     0.000000  \n",
       "473                                              empty     0.000000  \n",
       "474                                              empty     0.000000  \n",
       "475  meats-and-their-products, meats, chicken-and-i...     0.000000  \n",
       "476  plant-based-foods-and-beverages, plant-based-f...     0.000000  \n",
       "477                                              empty     0.222222  \n",
       "478                                              empty     0.000000  \n",
       "479                                              empty     0.000000  \n",
       "480                                              empty     0.222222  \n",
       "481  plant-based-foods-and-beverages, plant-based-f...     0.222222  \n",
       "482  snacks, sweet-snacks, cocoa-and-its-products, ...     0.000000  \n",
       "483  breakfasts, spreads, sweet-spreads, bee-produc...     0.333333  \n",
       "484  meats-and-their-products, meats, pork-and-its-...     0.000000  \n",
       "485    dairies, creams, uht-creams, unfermented-creams     0.000000  \n",
       "486  snacks, meats-and-their-products, salty-snacks...     0.555556  \n",
       "487                                              empty     0.222222  \n",
       "488                                              empty     0.000000  \n",
       "489                                              empty     0.000000  \n",
       "490                                              empty     0.000000  \n",
       "491  beverages, alcoholic-beverages, distilled-beve...     0.000000  \n",
       "492                                              empty     0.000000  \n",
       "493                                              empty     0.444444  \n",
       "494                                              empty     0.000000  \n",
       "495                                              empty     0.000000  \n",
       "496                                              empty     0.000000  \n",
       "497  dairies, fermented-foods, fermented-milk-produ...     0.000000  \n",
       "498                                              empty     0.000000  \n",
       "499  meats-and-their-products, meat-preparations, m...     0.000000  "
      ]
     },
     "execution_count": 21,
     "metadata": {},
     "output_type": "execute_result"
    }
   ],
   "source": [
    "df.tail(60)"
   ]
  },
  {
   "cell_type": "code",
   "execution_count": 22,
   "metadata": {},
   "outputs": [
    {
     "name": "stdout",
     "output_type": "stream",
     "text": [
      "nan\n",
      "0.6666666667\n",
      "0.2222222222\n",
      "0.7777777778\n",
      "1.0\n",
      "0.0\n",
      "0.1111111111\n",
      "0.3333333333\n",
      "0.5555555556\n",
      "0.5\n",
      "0.4444444444\n",
      "0.2\n",
      "0.3\n",
      "0.4\n",
      "0.7\n"
     ]
    }
   ],
   "source": [
    "uniques_groups = df['groups'].unique()\n",
    "uniques_groups_list = list(uniques_groups)\n",
    "for value in uniques_groups_list:\n",
    "    print(value)"
   ]
  },
  {
   "cell_type": "code",
   "execution_count": 23,
   "metadata": {},
   "outputs": [
    {
     "name": "stdout",
     "output_type": "stream",
     "text": [
      "keto bites\n",
      "dragées for reveurs\n",
      "chocolate\n",
      "teriyaki & ginger wild caught yellowfin tuna steaks, teriyaki & ginger\n",
      "bullt energydrink fruity taste grapefruit\n",
      "onglet de bœuf\n",
      "mozzarella di bufala campana dop\n",
      "lentilles vertes cuisinées aux carottes et aux oignons\n",
      "none\n",
      "korean boiled egg\n",
      "vitamin d whole milk\n",
      "perleo\n",
      "chicken & bacon caesar\n",
      "\n",
      "hillsburg regular\n",
      "gratinkäse\n",
      "american style cream & onion 10rs\n",
      "til chikki\n",
      "huile d'olive classico 1 litre\n",
      "endives bouville catégorie i\n",
      "gourmet salatmix\n",
      "gomme\n",
      "original crescent rolls\n",
      "cha-ching, sandwich cookies, vanilla creme\n",
      "pitted prunes\n",
      "eier\n",
      "roulades alsaciennes aux olives\n",
      "riz basmati bio complet\n",
      "manzanila camomile tea\n",
      "wedges seasoned\n",
      "lychee nectar\n",
      "lasagna, enriched macaroni product\n",
      "blue agave organic sweetener\n",
      "bio apfelringe\n",
      "gum ball\n",
      "mix pour pain - multicéréales\n",
      "terrine de caille aux raisins quatrefages\n",
      "chew mix\n",
      "modelo\n",
      "hot cocoa bombs\n",
      "protein packed chicken parm\n",
      "cocoa powder\n",
      "pâté de canard aux figues\n",
      "vegane bärchen\n",
      "latte fresco parzialmente scremato\n",
      "galletas avena y centeno\n",
      "cereales blevit plus optimum\n",
      "jus d'orange\n",
      "farine à gateaux avec poudre à lever\n",
      "wye river, eastern shore style oyster stew\n",
      "голубика\n",
      "whisps baked cheese bites - asiago pepper jack\n",
      "en-cas d’apero petit boudin de canard au pilent d’espelette\n",
      "nakotne majas desa\n",
      "mozzarella bites\n",
      "graines de tournesol\n",
      "spiruline\n",
      "slikkepind - lollipop\n",
      "flan patissier x2\n",
      "jamón de pato lonchas\n",
      "italian dressing\n",
      "le pâté pur porc\n",
      "fanta pêche blanche\n",
      "latte frappe\n",
      "sablés céréales nappés chocolat lait\n",
      "osso-buco de veau\n",
      "melange japonais\n",
      "айрян\n",
      "whey protéin\n",
      "kirin ichiban\n",
      "pan de cristal\n",
      "pomme d'amour 0 nicotine\n",
      "tomatoes cherub\n",
      "tartare\n",
      "paella scampi\n",
      "yogur natural de oveja\n",
      "protein brownie caramel\n",
      "enfagrow\n",
      "esparragos enteros pelados blancos\n",
      "kaffee 2er pack\n",
      "fruit'activ\n",
      "pesto\n",
      "peras al vino en almíbar\n",
      "perry the pug\n",
      "cake aromatisé saveur citron\n",
      "crunchy craker fromage\n",
      "jamón cocido\n",
      "brownies\n",
      "sucre vanillé\n",
      "poron kylmäsavupaisti\n",
      "xxxxxxxxxxx\n",
      "amora ketchup ingrédients d'origine naturelle flacon souple 469g\n",
      "deli sweet corn\n",
      "cherry chocolate chunk non-dairy frozen dessert, cherry chocolate chunk\n",
      "préparation moelleux saveur citron\n",
      "pinapple juice 100% juicy\n",
      "allison's candy, kabob\n",
      "mandorlino pistacchio\n",
      "salsa verde\n",
      "raženi kruh\n",
      "kidneybohnen\n",
      "black eye peas\n",
      "infant drops\n",
      "confiture planet bio, framboise\n",
      "westpac, quick 'n easy combos, asparagus stir fry\n",
      "chateau aigues vives\n",
      "nora choco cookies\n",
      "tonic water\n",
      "jelly beans\n",
      "sliced extra sour french bread\n",
      "barrel o’ snacks pretzels\n",
      "paluszki gumisie\n",
      "irish shortbread\n",
      "formaggio tilsit a fette\n",
      "walnut baker's pieces\n",
      "boudin de lyon à la crème\n",
      "7 grain bread\n",
      "camping salát\n",
      "cidre à la bergamote\n",
      "rohschinkenwürfel\n",
      "chewy fruity fun\n",
      "solid white tuna albacore in water\n",
      "bavette d'aloyau vbf ~110gx10\n",
      "kinder chocolat noir\n",
      "frollini di riso integrali\n",
      "les cœur de macarons amandes & lavandes\n",
      "yab\n",
      "san jacobo cerdo\n",
      "spicy falafels\n",
      "caramel spread product of france\n",
      "olive oil\n",
      "pure whey protein peaches cream\n",
      "soda surf cola-geschmack\n",
      "paprika rosenscharf\n",
      "belgian cuberdon icecream\n",
      "pur brebis au piment d'espelette\n",
      "passata di pomodorini\n",
      "bacho\n",
      "vinho ital. bacaro terre siciliane nero davol\n",
      "badreiniger\n",
      "medium ležák\n",
      "graven sweets co., lollipops, assorted fruit\n",
      "gemüse\n",
      "oreo cookies & cream candy canes\n",
      "chorizo tapas\n",
      "véritable andouillette de troyes\n",
      "thymus-citron au miel\n",
      "domaći voćni jogurt borovnica\n",
      "weihnkraut mit bohnen\n",
      "balsamique de pomme\n",
      "crème glacée vanille\n",
      "purée de pommes de terre bio\n",
      "light & free skyr granola noisette noix cajou et noixcoco 145g x 1\n",
      "babybio tarrito manzana y arándanos\n",
      "corned beef on marble rye\n",
      "filet z piersi kurczaka\n",
      "butterball, everyday fresh lean ground turkey\n",
      "chanflor\n",
      "entrecot madurat de vaca\n",
      "happy summer   mango-kokos-geschmack\n",
      "vitae kombucha citron menthe\n",
      "gelundener brotaufstrich mager, glundner\n",
      "moules marinées ail et persil\n",
      "schoko-croissants glutenfrei\n",
      "eau de source\n",
      "coca-cola\n",
      "strained fruit\n",
      "chocolate covered caramels\n",
      "coconut milk powder\n",
      "potato salad\n",
      "milch uht\n",
      "solomillo de pollo empanado\n",
      "farine de blé\n",
      "black beans\n",
      "fingers de mozzarella\n",
      "wild mushroom ravioli\n",
      "country style loaf\n",
      "spring cookie platter gourmet cookies\n",
      "petit beurre tablette de chocolat noir\n",
      "spicy mexican style riced cauliflower\n",
      "barrita energética\n",
      "mochi au thé vert\n",
      "las originales\n",
      "blütenhonig wien 6. bezirk der mariahilfer 960g von\n",
      "refried beans instant mexican style refried pinto beans each\n",
      "t.b. hierba buena\n",
      "le p'tit goudoulet\n",
      "classic root beer\n",
      "croûtons à l'ail\n",
      "casarecce pasta integrale\n",
      "dados de queso de cabra congelados\n",
      "l'arche de la rebellerie\n",
      "barquitas\n",
      "cocoa bar original\n",
      "candy'up\n",
      "épices biryani masala\n",
      "yogurt\n",
      "ciabatta\n",
      "yop framboise\n",
      "nocciocream\n",
      "snack pack\n",
      "pez\n",
      "cooper’s mill angry peach\n",
      "southern king crab\n",
      "rooilbos aux epices\n",
      "salsa huichol hot sauce\n",
      "filets de merlu blanc façon fish & chips\n",
      "panirani riblji stapici\n",
      "bouillon de poule\n",
      "crunchie sundae caramel\n",
      "delicate extra virgin olive o\n",
      "zucchero a velo vanigliato\n",
      "einmachmeister\n",
      "tortillas de harina\n",
      "ananas en morceau\n",
      "duo ananas fruits rouges\n",
      "bubblegum balls\n",
      "fibersource\n",
      "pilon poulet\n",
      "pilsner\n",
      "mccormick roasted cinnamon\n",
      "galletas de queso y almendra\n",
      "coco road refined organic coconut oil\n",
      "roquefort\n",
      "ghilty\n",
      "spezialzahncreme\n",
      "mermelada maxifruta granada frambuesa y arandano\n",
      "panettone al moscato scorzè di agrumi\n",
      "terrine de legumes d'été\n",
      "legumes pour pot-au-feu\n",
      "mini quiche collection\n",
      "guisantes bio\n",
      "mini knödel semmel\n",
      "potaje de lentejas\n",
      "mostachol\n",
      "barre moelleuse canelle et pacanes\n",
      "riso\n",
      "tortellini\n",
      "2% reduced fat milk\n",
      "2% reduced fat milk\n",
      "crispy bar 32%\n",
      "cerveza\n",
      "muesli croccante con cioccolato e nocciole\n",
      "southern greens blend\n",
      "salami käse-chili\n",
      "кукуруза сладкая в початках\n",
      "candy cane chocolate truffle cocoa mix, candy cane\n",
      "weizenbrötchen\n",
      "multivitaminico light\n",
      "chocolate whey protein powder\n",
      "saumon fumé au bois de hêtre élevé en ecosse\n",
      "chicken parmesan\n",
      "кисело краве мляко 3.6%\n",
      "candy sticks\n",
      "streuobst apfelsaft\n",
      "salchichas coctel\n",
      "calendrier de l’avant lindt\n",
      "saucisse aux herbes\n",
      "great value, finely shredded mild cheddar cheese\n",
      "creme cacao et noisettes\n",
      "erbazzone\n",
      "pesto catalan\n",
      "bouchée lait\n",
      "sok 100% pomarańczowy\n",
      "gnocchi freschi di patate\n",
      "sweet party\n",
      "aroma de vainilla\n",
      "pain aux raisins x2\n",
      "delicious authentic restaurant style gyro kit, restaurant style\n",
      "tri-color rotini\n",
      "bio ramen nudeln\n",
      "pechuga empanada marinada\n",
      "organic salted butter made with organic sweet cream\n",
      "optima lift\n",
      "carob bar\n",
      "sultaninen\n",
      "tonno all’olio d’oliva\n",
      "moringa en poudre\n",
      "kruidvat proteine bar cookie dought flavour\n",
      "keto granola\n",
      "tadellemaxinu\n",
      "gusto italiano quattro formaggi\n",
      "atún claro en aceite de oliva\n",
      "lentil & bacon soup\n",
      "cottage cheese with peaches\n",
      "corn dusted kaiser enriched buns\n",
      "colby jack shredded colby & monterey jack cheeses\n",
      "cocobio\n",
      "pepper jack shredded cheese\n",
      "fiorini gourmet pizza tosca mozzarella jambon speck olives 380 g\n",
      "grandpa’s beef stew seasoning\n",
      "centros de merluza\n",
      "fufu\n",
      "melocotón\n",
      "miel flore sauvage des pyrénées\n",
      "sauce coupe danmark\n",
      "pa de motlle sense crosta\n",
      "polenta\n",
      "baguette rustique\n",
      "teriyaki marinade\n",
      "saumon sauvage du pacifique\n",
      "sandwich cookies\n",
      "reflex 100% native whey choc perf 1800g\n",
      "pomme de terre\n",
      "6 vegan sausages\n",
      "queso mezcla de leche cruda\n",
      "mini canelés\n",
      "salsa yakitori\n",
      "poulet\n",
      "thé earl grey arôme bergamote\n",
      "multigrain crunchy rye breads\n",
      "rising crust pizza, four cheese\n",
      "costillas barbacoa\n",
      "lays classic potato chips 200gm\n",
      "escalopines de lomo (cerdo)\n",
      "palette a la diable moritz\n",
      "protein wraps\n",
      "fruit roll\n",
      "zitrone-basilikum\n",
      "spremuta mela arancia lampone pompelmo rosa\n",
      "aceitunas rellenas de anchoas\n",
      "chocolat lapin\n",
      "uova\n",
      "p'tit gourmand - mini semoule au lait\n",
      "bruisend mineraal water citroen\n",
      "chiptole vegetable quesadilla\n",
      "noisettes décortiquées\n",
      "uht whipping cream\n",
      "huile de cumin noir\n",
      "colorante alimentario\n",
      "elixir kefir camerise églantier\n",
      "brauner zucker\n",
      "kimchi\n",
      "mozarella\n",
      "hazelnut praline\n",
      "soupe de poisson de roche\n",
      "aceitunas gazpacha\n",
      "ground cinnamon\n",
      "emmental grosjean 250\n",
      "soufflés ricotta épinards\n",
      "mini roule babybel\n",
      "flageolets vert\n",
      "oxbringa\n",
      "giant value sea salt and vinegar kettle cooked potato chips\n",
      "pate a tartiner blanc noisette\n",
      "gelée de cèdre\n",
      "laccrem leche desnatada\n",
      "moussaka\n",
      "zoo 100\n",
      "soft cheese\n",
      "moutarde bio saveur truffe et poivre noir à l'huile d'olive\n",
      "casaro, fontina gold quality cheese\n",
      "chargrilled chicken & edamame\n",
      "fresón\n",
      "sweetened condensed milk, sweetened\n",
      "torsades de légumes\n",
      "terry’s chocolate organge truffles\n",
      "rewe mousse\n",
      "fairly nuts\n",
      "flower\n",
      "pur jus de pomme\n",
      "buttery homestyle mashed potatoes 140g\n",
      "cojo cojo\n",
      "bananes bio\n",
      "kombucha thé vert-thé pu'erh\n",
      "chocolate pound cake, chocolate\n",
      "better than noodle\n",
      "gouda vieux\n",
      "الضيعة الغيرة\n",
      "formaggio a pasta dura italiano\n",
      "frumentini all'avena\n",
      "chocolate melon pan\n",
      "happy rolls\n",
      "klarspühler\n",
      "vanilla greek yogurt\n",
      "frischeiwaffeln\n",
      "dark chocolate with sea salt - sugar free\n",
      "tarti'toast champignons\n",
      "crackets cachuetes\n",
      "buche crunchy\n",
      "caramel tendre\n",
      "watermelon sticks\n",
      "casa planta datiles\n",
      "eau minérale finement pétillante\n",
      "sour cream\n",
      "diego mangue letchi\n",
      "chocolate negro 80% con stevia\n",
      "5 chipolatas qualité supérieure\n",
      "muesli fruits du verger\n",
      "green beans\n",
      "spicy penne arrabbiata\n",
      "evol, scramble cups egg white, veggie & cheese\n",
      "форель в масле делси\n",
      "formule éclat\n",
      "ica ost- och skinksallad\n",
      "junge erbsen und möhren\n",
      "poitrine de porc\n",
      "glazed decorated cookie\n",
      "organic cooked brown jasmine rice\n",
      "ghee\n",
      "ceconsa frutos secos\n",
      "biozyme whey protein - ice-cream chocolate\n",
      "flert macchiato\n",
      "lait sans lactose\n",
      "bruschetta\n",
      "gormet gummi teddies vegan\n",
      "le pot au lait nature\n",
      "ambassade du terroir\n",
      "energy+ focus\n",
      "complete protein blend\n",
      "thon pâle entier\n",
      "skyr\n",
      "kefir\n",
      "pasta di mais e riso\n",
      "otex ear drops\n",
      "miel de printemps\n",
      "bakery\n",
      "aplicacio da los roca\n",
      "le matasse\n",
      "øko ingefær shot\n",
      "black mamba peri-peri sauce\n",
      "filetti di acciughe\n",
      "arzúa-ulloa\n",
      "apple cider\n",
      "fresh durum bread\n",
      "la saint pierre basilic citron\n",
      "hackbällchen\n",
      "rybki\n",
      "longaniza extra\n",
      "infuso ai frutti di bosco\n",
      "cioccolato al latte e riso croccante\n",
      "fondue de poireaux aux st jacques\n",
      "konfituur 3 agrumes & gember 215g\n",
      "virginia peanuts cajun\n",
      "cheddar bratwurst patties\n",
      "gatorade thirst quencher fruit punch\n",
      "proteinella hazelnut spread\n",
      "minis milk chocolate peanut butter cups\n",
      "haribo pinata summer game\n",
      "chocolate organic prebiotics + probiotics plant protein shake\n",
      "antares ipa verde\n",
      "лапша buitoni la rasagnole феттучине\n",
      "mild italian sausage, mild italian\n",
      "žirnių sriuba\n",
      "сацебели\n",
      "sprats fumés de riga\n",
      "arroz negro\n",
      "fabric refreshner\n",
      "marine collagen\n",
      "death reaper\n",
      "pizza sauce\n",
      "erdarnuss krokant\n",
      "calcium & vitamin d tablets\n",
      "filet de poulet fermier\n",
      "jam\n",
      "jambon blanc\n",
      "viterra classico\n",
      "fudge n' vanilla crunch\n",
      "barres granola (beurre d'arachide)\n",
      "jo's candies, s'more graham\n",
      "miel de fleurs de champagne\n",
      "roti de porc farci fromage raclette\n",
      "uht cream\n",
      "paté de la fermière\n",
      "agua pura salvavidas\n",
      "sour neon worms\n",
      "kerchup\n",
      "blended scotch whisky\n",
      "marmelade clémentine\n",
      "sourires de campagne\n",
      "chips goût steak cheetos\n",
      "apfelsaft naturtrüb\n",
      "pão de hambúrguer - d'massa\n",
      "string low-moisture part-skim mozzarella cheese, string cheese\n",
      "sirop de caramel\n",
      "nuggets de volailles\n"
     ]
    }
   ],
   "source": [
    "uniques_name = df['name'].unique()\n",
    "uniques_name_list = list(uniques_name)\n",
    "for value in uniques_name_list:\n",
    "    print(value)"
   ]
  },
  {
   "cell_type": "code",
   "execution_count": 24,
   "metadata": {},
   "outputs": [
    {
     "name": "stdout",
     "output_type": "stream",
     "text": [
      "1.0\n",
      "0.3114754098\n",
      "nan\n",
      "0.2960893855\n",
      "0.3015873016\n",
      "0.0\n",
      "0.4426229508\n",
      "0.9945355191\n",
      "0.6557377049\n",
      "0.4207650273\n",
      "0.3661202186\n",
      "0.2544378698\n",
      "0.3333333333\n",
      "0.3184357542\n",
      "0.8743169399\n",
      "0.0756756757\n",
      "0.3031914894\n",
      "0.0327868852\n",
      "0.2881355932\n",
      "0.3244680851\n",
      "0.8715083799\n",
      "0.3\n",
      "0.3152173913\n",
      "0.7650273224\n",
      "0.9016393443\n",
      "0.1256830601\n",
      "0.0765027322\n",
      "0.5251396648\n",
      "0.8639053254\n",
      "0.2945205479\n",
      "0.4347826087\n",
      "0.1584699454\n",
      "0.320754717\n",
      "0.9625\n",
      "0.875\n",
      "0.4316939891\n",
      "0.9734042553\n",
      "0.2295081967\n",
      "0.2880434783\n",
      "0.2074468085\n",
      "0.2834224599\n",
      "0.8994413408\n",
      "0.2131147541\n",
      "0.8988095238\n",
      "0.7431693989\n",
      "0.3076923077\n",
      "0.4078212291\n",
      "0.0382513661\n",
      "0.9945652174\n",
      "0.6195652174\n",
      "0.722513089\n",
      "0.0451977401\n",
      "0.4124293785\n",
      "0.5901639344\n",
      "0.1818181818\n",
      "0.972826087\n",
      "0.2847682119\n",
      "0.0218579235\n",
      "0.4189944134\n",
      "0.0558659218\n",
      "0.0216216216\n",
      "0.8465608466\n",
      "0.4095744681\n",
      "0.9617486339\n",
      "0.420212766\n",
      "0.255952381\n",
      "0.3107344633\n",
      "0.7872340426\n",
      "0.8961748634\n",
      "0.3442622951\n",
      "0.6229508197\n",
      "0.3989071038\n",
      "0.6063829787\n",
      "0.1542553191\n",
      "0.6612021858\n",
      "0.4076086957\n",
      "0.9891891892\n",
      "0.8510638298\n",
      "0.9836065574\n",
      "0.5300546448\n",
      "0.9680851064\n",
      "0.7486338798\n",
      "0.7058823529\n",
      "0.902173913\n",
      "0.1147540984\n"
     ]
    }
   ],
   "source": [
    "uniques_countries = df['countries'].unique()\n",
    "uniques_countries_list = list(uniques_countries)\n",
    "for value in uniques_countries_list:\n",
    "    print(value)"
   ]
  },
  {
   "cell_type": "code",
   "execution_count": 25,
   "metadata": {},
   "outputs": [
    {
     "name": "stdout",
     "output_type": "stream",
     "text": [
      "empty\n",
      "g\n",
      "verre, bocal\n",
      "plastic\n",
      "bouteille\n",
      "plastique, sous atmosphère protectrice, barquette\n",
      "carton\n",
      "conserve\n",
      "pocket\n",
      "пластмаса\n",
      "boîte de conserve ou canette\n",
      "glass bottle\n",
      "pet-tray\n",
      "bote de vidrio\n",
      "plastique, sachet\n",
      "papier,sachet plastique\n",
      "plastique, bouteille, opercule, flacon souple, bouteille en plastique, bouteille plastique\n",
      "canned\n",
      "plástico,pp,kunststoff\n",
      "dose\n",
      "plastique, frais, barquette, bois\n",
      "steel-can, wrapper\n",
      "metal,recyclable metals,41 alu,can\n",
      "métal,plastique,recyclable metals,aluminium\n",
      "plastique, bouteille\n",
      "verre, bouteille\n",
      "plastique, sachet, carton, etui carton à recycler, sachet plastique à jeter, tablette pocket, triman\n",
      "plastic,cardboard\n",
      "plastic, pp - polypropylene\n",
      "plastique\n",
      "aluminium-can\n",
      "barquette\n",
      "kunststoff, stück\n",
      "kunststoff\n",
      "plastica,carta,c/pap 84,confezione tetrapack,pe-hd 02/pp 05,tappo\n",
      "plastique, carton, frais, sous-vide\n",
      "plastique, papier\n",
      "tetra pak\n",
      "sachet, carton\n",
      "card-box\n",
      "plastique, pot\n",
      "1 film plastique à jeter, film en plastique\n",
      "box\n",
      "kunststoff, packung(en), vorratsdose\n",
      "plastique, frais\n",
      "paper\n",
      "verre, bouteille, frais, bouteille ou flacon\n",
      "pp 5 - polypropen\n",
      "hdpe-bottle\n",
      "plastique, boîte, carton\n",
      "box, composite-carton\n",
      "métal, verre, bocal\n",
      "plastique, sachet, surgelé\n"
     ]
    }
   ],
   "source": [
    "uniques_packaging = df['packaging'].unique()\n",
    "uniques_packaging_list = list(uniques_packaging)\n",
    "for value in uniques_packaging_list:\n",
    "    print(value)"
   ]
  },
  {
   "cell_type": "code",
   "execution_count": 26,
   "metadata": {},
   "outputs": [
    {
     "name": "stdout",
     "output_type": "stream",
     "text": [
      "nan\n",
      "1.0\n",
      "0.0\n",
      "0.25\n",
      "0.5\n",
      "0.75\n"
     ]
    }
   ],
   "source": [
    "uniques_ecoscore_tags = df['ecoscore_tags'].unique()\n",
    "uniques_ecoscore_tags_list = list(uniques_ecoscore_tags)\n",
    "for value in uniques_ecoscore_tags_list:\n",
    "    print(value)"
   ]
  },
  {
   "cell_type": "code",
   "execution_count": 27,
   "metadata": {},
   "outputs": [
    {
     "name": "stdout",
     "output_type": "stream",
     "text": [
      "49.0\n",
      "8.0\n",
      "88.0\n",
      "63.0\n",
      "47.0\n",
      "32.0\n",
      "39.0\n",
      "27.0\n",
      "76.0\n",
      "74.0\n",
      "69.0\n",
      "37.0\n",
      "43.0\n",
      "41.0\n",
      "6.0\n",
      "66.0\n",
      "65.0\n",
      "34.0\n",
      "44.0\n",
      "58.0\n",
      "78.0\n",
      "70.0\n",
      "57.0\n",
      "90.0\n",
      "72.0\n",
      "12.0\n",
      "79.0\n",
      "71.0\n",
      "83.0\n",
      "100.0\n",
      "35.0\n",
      "21.0\n",
      "67.0\n",
      "46.0\n",
      "42.0\n",
      "15.0\n",
      "36.0\n",
      "91.0\n",
      "38.0\n",
      "23.0\n",
      "1.0\n",
      "25.0\n",
      "45.0\n",
      "62.0\n",
      "13.0\n",
      "64.0\n",
      "48.0\n",
      "31.0\n",
      "54.0\n",
      "77.0\n",
      "59.0\n",
      "20.0\n",
      "19.0\n",
      "94.0\n",
      "30.0\n",
      "50.0\n",
      "73.0\n",
      "24.0\n",
      "51.0\n",
      "98.0\n",
      "0.0\n",
      "22.0\n"
     ]
    }
   ],
   "source": [
    "uniques_ecoscore_score = df['ecoscore_score'].unique()\n",
    "uniques_ecoscore_score_list = list(uniques_ecoscore_score)\n",
    "for value in uniques_ecoscore_score_list:\n",
    "    print(value)"
   ]
  },
  {
   "cell_type": "code",
   "execution_count": 28,
   "metadata": {},
   "outputs": [
    {
     "name": "stdout",
     "output_type": "stream",
     "text": [
      "empty\n",
      "sugar, added-sugar, disaccharide, skimmed-milk-powder, dairy, milk-powder, butteroil, e476, r, keep-in-a-cool-and-dry-place, stabiliser, glazing-agent, colour, e129, tabrazine, brilliant-blue, e110, e132, artificial-flavouring, flavouring, derivatives-of-wheat, made-in-argentina-contains-tartrazine, mantener-en-ambiente-fresco-y-seco, 20-c, vin-c, cocoa-butter-whole-milk-powder, cocoa-paste, plant, cocoa, emulsifiers-soybean-lecithin, h, 68-f-60-rh, e414, e903, e171, e102, e133, vanilla-flavouring, derivatives-of-soybean\n",
      "yellowfin-tuna, fish, tuna, water, soy-sauce, sauce, brown-sugar, added-sugar, disaccharide, sugar, onion, vegetable, root-vegetable, onion-family-vegetable, sunflower-oil, oil-and-fat, vegetable-oil-and-fat, vegetable-oil, wine-vinegar, vinegar, salt, garlic, ginger, condiment, spice, natural-flavouring, flavouring, e415, citric-acid-as-acidity-regulator, black-pepper, seed, pepper, thunnus-albacores, soya, corn-flour, cereal, flour, corn, e150a\n",
      "cooked-green-lentils, vegetable, legume, pulse, lentils, green-lentils, water, carrot, root-vegetable, taproot-vegetable, onion, onion-family-vegetable, salt, garlic, thyme, herb, bay-leaf\n",
      "carbonated-water, water, non-alcoholic-malt, natural-flavors-ascorbic-acid, e211\n",
      "potato, vegetable, root-vegetable, tuber, vegetable-oil, oil-and-fat, vegetable-oil-and-fat, coating, as-fiavouring-agent, palm-olein, palm-oil-and-fat, palm-oil, rice-bran-oil, sugar, added-sugar, disaccharide, iodised-sat, milk-solids, dairy, milk, spice, condiment, maltodextrin, flavouring, cheese-powder, cheese, hydrolysed-vegetable-protein, protein, plant-protein, flavour-enhancer, coconut-oil, anti-caking-agent, natural-flavouring, nature-identical-flavouring, 627, 631, 551\n",
      "sugar, added-sugar, disaccharide, sesame-seeds, seed, sesame, glucose, monosaccharide, clarified-butter, dairy, oil-and-fat, fat, milkfat, butterfat, pistachio-nuts, nut, tree-nut, cardamom, condiment, spice, sucrose, desi-ghee\n",
      "flour, water, vegetable-fat, oil-and-fat, vegetable-oil-and-fat, sugar, added-sugar, disaccharide, soya-oil, vegetable-oil, baking-powder, contains-2-and-less-of, dextrose, monosaccharide, glucose, monoglycerides, salt, e508, e415, e160b, wheat-flour, cereal, wheat, cereal-flour, e375, ferrous-sulfate, minerals, iron, thiamin-mononitrate, thiamin, e101, folic-acid, folate, soya-bean, vegetable, legume, pulse, soya, palm-oil, palm-oil-and-fat, hydrogenated-palm-oil, oil, hydrogenated-oil, hydrogenated-vegetable-oil, fractionated-palm-oil, e471, e319, e330, e160ai, e160a, e500ii, e500, e450i, e450, e541, vital-wheat-gluten, colour, preservative\n",
      "flour, sugar, added-sugar, disaccharide, palm, oil-and-fat, vegetable-oil-and-fat, palm-oil-and-fat, palm-oil, soya-oil, vegetable-oil, dextrose, monosaccharide, glucose, high-fructose-corn-syrup, fructose, corn-syrup, glucose-fructose-syrup, corn-starch, starch, salt, raising-agent, soya-lecithin, e322, e322i, artificial-flavouring, flavouring, wheat-flour, cereal, wheat, cereal-flour, e375, reduced-iron, minerals, iron, thiamin-mononitrate, thiamin, e101, folic-acid, folate, e500ii, e500, e341i, e341, emulsifier\n",
      "chia-seed, seed, chia\n",
      "pork-meat, animal, meat, pork, water, olive, vegetable, fruit-vegetable, salt, glucose-syrup, added-sugar, monosaccharide, glucose, flavouring, stabiliser, herb, dextrose, pork-by-product, antioxidant, e250, e451, e301\n",
      "durum-wheat-semolina, cereal, wheat, durum-wheat, semolina, iron, minerals, b-vitamins, e375, thiamin-mononitrate, thiamin, e101, folic-acid, folate, ferrous-sulfate\n",
      "blue-agave-nectar\n",
      "sweetened-condensed-milk, dairy, milk, condensed-milk, glucose-syrup, added-sugar, monosaccharide, glucose, cane-sugar, disaccharide, sugar, vegetable-oil, oil-and-fat, vegetable-oil-and-fat, bưt, flavouring, contains-10-milk-solids, made-in-new-zealand-from-local-and-imported-ingredients, the-quantity-of-each-type-of-lolly-in-this-bag-may-vary, best-before-0031-monx, corn, cereal, from-mik\n",
      "pineapple, fruit, water, sugar, added-sugar, disaccharide, acid, e330\n",
      "glucose-syrup, added-sugar, monosaccharide, glucose, sugar, disaccharide, fruit-juice-content-from-fruit-juice-concentrates, gelling-agent, acid, acidity-regulator, natural-flavouring, flavouring, colour, glazing-agent, raspberry, fruit, berries, peach, prunus-species-fruit, orange, citrus-fruit, blackcurrant, e440a, e330, e332ii, e332, carrot, vegetable, root-vegetable, taproot-vegetable, pumpkin, fruit-vegetable, safflower, plant, apple, malaceous-fruit, black-carrot, e163, e903\n",
      "oat-flakes, cereal, oat, oat-flour, flour, cereal-flour, wholemeal-spelt-flour, wholemeal-flour, spelt-flour, wholemeal-barley-flour, barley, barley-flour, whole-wheat-flour, wheat, wheat-flour, sugar, added-sugar, disaccharide, colza-oil, oil-and-fat, vegetable-oil-and-fat, rapeseed-oil, cane-sugar, raising-agent, e500ii, e500, e503ii, e503, e450i, e450, minerals, e170i, e170, e504i, e504, elemental-iron, iron, salt, invert-sugar-syrup, monosaccharide, invert-sugar, sugar-syrup, barley-malt-extract, malt, malted-barley, skimmed-milk-powder, dairy, milk-powder\n",
      "water, oyster, shellfish, mollusc, modified-starch, starch, celery, vegetable, stalk-vegetable, onion, root-vegetable, onion-family-vegetable, wheat-flour, cereal, flour, wheat, cereal-flour, butter, dairy, soya-oil, oil-and-fat, vegetable-oil-and-fat, vegetable-oil, soy-protein-isolated, salt, e621, sugar, added-sugar, disaccharide, wye-river-seasoning, spice, condiment, cream, maltodextrin, paprika\n",
      "sugar, added-sugar, disaccharide, non-dairy-creamer, skimmed-milk-powder, dairy, milk-powder, dextrose, monosaccharide, glucose, toffee-bits, natural-and-artificial-flavouring, flavouring, natural-flavouring, artificial-flavouring, coffee, salt, cocoa-powder, plant, cocoa, gum-blend, e551, e150a, fd, c-yellow-5, c-yellow-6, coconut-oil, oil-and-fat, vegetable-oil-and-fat, vegetable-oil, corn-syrup-solids, corn-syrup, sodium-caseinate, caseinate, e340ii, e340, e477, e471, e407, colour, dairy-butter, almond, nut, tree-nut, contains-2-and-less-of, milk-chocolate, chocolate, sunflower-oil, arabica-coffee, processed-with-alkali, e466, e415, anti-caking-agent, c-yellow-5-lake, c-red-40-lake, c-yellow-6-lake, c-blue-1-lake, a-milk-derivative, sweetened-condensed-milk, milk, condensed-milk, cocoa-butter, skimmed-milk, butterfat, fat, milkfat, lactose, soya-lecithin, e322, e322i\n",
      "milk-chocolate, chocolate, wheat-flour, cereal, flour, wheat, cereal-flour, wheat-starch, starch, sunflower-oil, oil-and-fat, vegetable-oil-and-fat, vegetable-oil, sugar, added-sugar, disaccharide, whole-wheat-flour, wholemeal-flour, raising-agent, e500, e450, monosaccharide, invert-sugar, sugar-syrup, invert-sugar-syrup, salt, wheat-bran, flavouring, emulsifier, cocoa-butter, plant, cocoa, cocoa-paste, skimmed-milk-powder, dairy, milk-powder, lactose, whey-powder, whey, e503, sunflower-lecithin, e322, e322i\n",
      "cow-s-milk, dairy, milk, water, salt\n",
      "concentrated-whey-protein, protein, animal-protein, milk-proteins, whey-protein, whey-protein-isolate, flavouring, emulsifier, sweetener, sunflower-lecithin, e322, e322i, e955, e960\n",
      "pear, fruit, wine, alcohol, water, sugar, added-sugar, disaccharide, cinnamon, condiment, spice, acid, antioxidant, e330, e300\n",
      "wheat-flour, cereal, flour, wheat, cereal-flour, whole-wheat-flour, wholemeal-flour, colza-oil, oil-and-fat, vegetable-oil-and-fat, rapeseed-oil, glucose-syrup, added-sugar, monosaccharide, glucose, barley-malt-extract, malt, malted-barley, cheese, dairy, salt, raising-agent, plant-protein, protein, sunflower-oil, vegetable-oil, parsley, vegetable, herb, leaf-vegetable, dextrose, maltodextrin, corn-starch, starch, pea, legume, pod-and-seed-vegetable, potato, root-vegetable, tuber\n",
      "sugar, added-sugar, disaccharide, vanilla-pod, plant, vanilla, corn-starch, starch\n",
      "reindeer-meat, meat, game-animal, deer, reindeer, venison, salt, acidity-regulator, sucrose, added-sugar, disaccharide, sugar, dextrose, monosaccharide, glucose, antioxidant, spice, condiment, juniper-berry-flavouring, flavouring, rum, alcohol, preservative, e575, e301, e316, garlic, vegetable, root-vegetable, onion-family-vegetable, e250\n",
      "tomato, vegetable, fruit-vegetable, white-wine-vinegar, vinegar, wine-vinegar, honey, added-sugar, salt, spice, condiment\n",
      "corn, cereal, water, salt, sugar, added-sugar, disaccharide\n",
      "filtered-water, water, whey-protein, protein, animal-protein, milk-proteins, cane-sugar, added-sugar, disaccharide, sugar, chicory-root, vegetable, shoot-vegetable, chicory, sugarcane-fiber, fiber, sugarcane, cherry, fruit, prunus-species-fruit, gmo-free-corn-starch, e330, red-beetroot, root-vegetable, taproot-vegetable, beetroot, chocolate-chunk, chocolate, e412, e415, natural-flavouring, flavouring, sea-salt, salt, monk-fruit-concentrate, coconut-oil, oil-and-fat, vegetable-oil-and-fat, vegetable-oil, dutch-processed-cocoa-powder-with-alkali, e322i, e322, vanilla-extract, plant, vanilla\n",
      "sugar, added-sugar, disaccharide, wheat-flour, cereal, flour, wheat, cereal-flour, corn-starch, starch, emulsifier, e472a, raising-agent, e575, e450, glucose-syrup, monosaccharide, glucose, skimmed-milk-powder, dairy, milk-powder, natural-lemon-flavouring, flavouring, natural-flavouring, powdered-egg-white, egg, egg-white, thickener, colour, e472b, e500, e415, e160b\n",
      "sugar, added-sugar, disaccharide, glucose-fructose, monosaccharide, fructose, glucose, apple-juice, fruit, juice, malaceous-fruit, apple, fruit-juice, corn-syrup, water, modified-corn-starch, starch, corn-starch, modified-starch, dextrose, e428, e420, e330, coconut-oil, oil-and-fat, vegetable-oil-and-fat, vegetable-oil, e903, e901, palm-kernel-oil, palm-kernel-oil-and-fat, palm-oil, palm-oil-and-fat, artificial-flavouring, flavouring, sodium-citrate, minerals, sodium, sodium-lactic, e440a, e334, e270, e297, e296, e452i, e452, fd-and-c, yellow-5-and-6, e133, e129, e171\n",
      "water, sourdough, dough, invert-sugar-syrup, added-sugar, disaccharide, monosaccharide, invert-sugar, sugar-syrup, rye-flour, flour, cereal-flour, wheat-flour, cereal, wheat\n",
      "red-bean, vegetable, legume, pulse, water, sugar, added-sugar, disaccharide, salt\n",
      "black-eyed-pea, vegetable, legume, pulse, water, salt, calcium-chloride-to-help-maintain-firmness, calcium-disodium-edta-added-to-help-promote-color-retention\n",
      "raspberry, fruit, berries, brown-sugar, added-sugar, disaccharide, sugar, concentrated-lemon-juice, juice, fruit-juice, lemon-juice\n",
      "asparagus, vegetable, shoot-vegetable, carrot, root-vegetable, taproot-vegetable, green-bean, legume, pod-and-seed-vegetable, cauliflower, brassica, yellow-squash, celery, stalk-vegetable, onion, onion-family-vegetable, mushroom\n",
      "flour, water, wheat-gluten, gluten, salt, palm-oil, oil-and-fat, vegetable-oil-and-fat, palm-oil-and-fat, yeast, e516, e282, wheat-flour, cereal, wheat, cereal-flour, barley-malt-flour, barley, barley-flour, e375, reduced-iron, minerals, iron, thiamin-mononitrate, thiamin, e101, folic-acid, folate, preservative\n",
      "walnut, nut, tree-nut\n",
      "animal, pork, pork-by-product, onion, vegetable, root-vegetable, onion-family-vegetable, spinach, leaf-vegetable, pork-fat, oil-and-fat, fat, animal-fat, milk, dairy, cream, wheat-flour, cereal, flour, wheat, cereal-flour, dextrose, added-sugar, monosaccharide, glucose, milk-proteins, protein, animal-protein, salt, spice, condiment, casing, collagen, pork-collagen\n",
      "mayonnaise, sauce, ketchup, sugar, added-sugar, disaccharide, mustard, salt, preservative, pork-meat, animal, meat, pork, water, potato-starch, starch, garlic, vegetable, root-vegetable, onion-family-vegetable, dextrose, monosaccharide, glucose, spice, condiment, rapeseed-oil, oil-and-fat, vegetable-oil-and-fat, stabiliser, modified-corn-starch, corn-starch, modified-starch, acidity-regulator, onion, red-bell-pepper, fruit-vegetable, bell-pepper, e250, e412, e330\n",
      "pork-meat, animal, meat, pork, iodised-salt, salt, dextrose, added-sugar, monosaccharide, glucose, spice, condiment, antioxidant, preservative, glazing-agent, beech-wood-smoke, smoke, e917, e301, e250\n",
      "beef, animal\n",
      "cocoa-butter, plant, cocoa, milk-powder, dairy, soya, vanillin, skimmed-milk-powder, sugar, added-sugar, disaccharide, vegetable-fat, oil-and-fat, vegetable-oil-and-fat, butterfat, fat, milkfat, emulsifier, shea-butter\n",
      "sweetened-condensed-milk, dairy, milk, condensed-milk, glucose-syrup, added-sugar, monosaccharide, glucose, sugar, disaccharide, water, sodium-citrate, minerals, sodium, salt, fruit-pectin, e440a\n",
      "refined-olive-oil, oil-and-fat, vegetable-oil-and-fat, vegetable-oil, olive-oil, extra-virgin-oil\n",
      "zucker, wasser, farbstoff, sauerungsmittel, sussungsmittel, saureregulator, aroma-koffein, naturliches-aroma\n",
      "water\n",
      "sugar-corn-syrup, e330, titanium-dioxide-color, natural-and-artificial-flavouring, flavouring, natural-flavouring, artificial-flavouring, colour, soya-lecithin, e322, e322i, e129, yellow-5-blue-1, e127, e110\n",
      "sugar, added-sugar, disaccharide, corn-syrup, natural-artificial-flavor, colour, e129, e133, e102\n",
      "dextrose, added-sugar, monosaccharide, glucose, preservative, colour, pork-meat, animal, meat, pork, e301, e252, e250, e120\n",
      "onion, vegetable, root-vegetable, onion-family-vegetable, mustard, salt, pepper, seed, preservative, casing, water, mustard-seed, condiment, spice, vinegar, e250\n",
      "pasteurised-milk, dairy, milk, yogurt-cultures, ferment, microbial-culture, lactic-ferments, blueberry, fruit, berries, water, stabiliser, natural-flavouring, flavouring, e330, sucrose, added-sugar, disaccharide, sugar, modified-corn-starch, starch, corn-starch, modified-starch, e440a\n",
      "apple-vinegar, vinegar, concentrated-apple-juice, fruit, juice, malaceous-fruit, apple, fruit-juice, apple-juice, caramelised-sugar, added-sugar, disaccharide, sugar\n",
      "lactic-ferments, ferment, microbial-culture, muesli, honey, added-sugar, rice-flour, flour, rice, cashew-nuts, nut, tree-nut, hazelnut, sunflower-oil, oil-and-fat, vegetable-oil-and-fat, vegetable-oil, cereal-crispies, cereal, coconut, fruit, milk, dairy, skimmed-milk, oat-flakes, oat, corn, wholemeal-cereal, fat-reduced-cocoa-powder, plant, cocoa, cocoa-powder, salt, wheat, rye, barley\n",
      "marble-rye-bread, corned-beef, swiss-cheese, dairy, cheese, savoy-cabbage, vegetable, brassica, cabbage, dijon-mustard, mustard, fortified-wheat-flour, cereal, flour, wheat, cereal-flour, wheat-flour, water, rye-flour, contains-2-and-less-of-each-of, wheat-gluten, gluten, rye-meal, salt, caraway-seed, condiment, spice, caraway, yeast, molasses, added-sugar, disaccharide, sugar, cultured-wheat-starch, e150a, vinegar, beef-cured-with, contains-less-than-2-sodium-lactate, e339, e262ii, e262, flavouring, e316, e250, pasteurized-semi-skimmed-milk, milk, semi-skimmed-milk, lactic-ferments, ferment, microbial-culture, enzyme, mustard-seed, white-wine, alcohol, wine, fruit-pectin, e440a, e330, e334, barley-malt-flour, barley, barley-flour, e375, reduced-iron, minerals, iron, thiamin-mononitrate, thiamin, e101, folic-acid, folate, vegetable-oil, oil-and-fat, vegetable-oil-and-fat, canola-oil, rapeseed-oil, soya-oil\n",
      "turkey, poultry, less-than-2-of-salt, maltodextrin, natural-flavouring, flavouring\n",
      "carbonated-water, water, sugar, added-sugar, disaccharide, colour, acid, natural-flavouring, flavouring, caffeine, e150d, e338, extract\n",
      "corn-syrup, added-sugar, disaccharide, milk-chocolate, chocolate, sweetened-condensed-milk, dairy, milk, condensed-milk, sugar, vegetable-oil, oil-and-fat, vegetable-oil-and-fat, evaporated-milk, whey, salt, cocoa-processed-with-alkali, plant, cocoa, artificial-flavouring, flavouring, soya-lecithin, e322, e322i, cocoa-butter, cocoa-paste, skimmed-milk, palm-kernel-oil, palm-kernel-oil-and-fat, soya-oil, vitamin-d, emulsifier\n",
      "coconut, fruit, tapioca-maltodextrin, maltodextrin\n",
      "durum-wheat-flour, cereal, flour, wheat, cereal-flour, wheat-flour, whole-milk-ricotta-cheese, water, whole-egg, egg, crimini-mushrooms, shitake-mus, iron, minerals, b-vitamins, e375, thiamin, e101, folic-acid, folate, sweet-whey, dairy, whey, whole-milk, milk, sweet-cream, microbial-culture, ferment, vinegar, salt, ferrous-sulfate\n",
      "flour, all-purpose-shortening, sugar, added-sugar, disaccharide, water, cake, whole-egg, egg, margarine, butter, dairy, salt, yellow-color, vanilla-flavouring, flavouring, butter-flavouring, raspberry, fruit, berries, cocoa-drops, cocoa-processed-with-alkali, plant, cocoa, dextrose, monosaccharide, glucose, whey-powder, whey, soya-lecithin, e322, e322i, and-vanillin, chocolate, sprinkles, wheat-flour, cereal, wheat, cereal-flour, barley-malt-flour, barley, barley-flour, e375, reduced-iron, minerals, iron, thiamin-mononitrate, thiamin, e101, folic-acid, folate, palm-oil, oil-and-fat, vegetable-oil-and-fat, palm-oil-and-fat, soya-oil, vegetable-oil, e471, natural-flavouring, annatto-color, retinyl-palmitate, vitamins, vitamin-a, e490, artificial-flavouring, e150a, e330, e415, e211, e320, e306, corn-syrup, apple, malaceous-fruit, contains-2-and-less-of-the-following, e440a, emulsifier, palm-kernel-oil, palm-kernel-oil-and-fat, cooca-powder-processed-with-alkali, buttermilk, cocoa-powder, milkfat, fat, hydrogenated-palm-oil, oil, hydrogenated-oil, hydrogenated-vegetable-oil, sorbitan-monostearate-and-soya-lecithin-and-polysorbate-60, and-natural-and-artificial-flavors, corn-starch, starch, color-confectioners-glaze, f-d-c-colors-yellow-5, e110, e127, e133, e129, sulfite, e338, coconut, palm\n",
      "dark-chocolate, chocolate, wheat-flour, cereal, flour, wheat, cereal-flour, sugar, added-sugar, disaccharide, butterfat, dairy, oil-and-fat, fat, milkfat, egg, skimmed-milk-powder, milk-powder, raising-agent, e500, e450, salt, cocoa-paste, plant, cocoa, cocoa-butter, lactose, emulsifier, natural-vanilla-flavouring, flavouring, natural-flavouring, vanilla-flavouring, e503, sunflower-lecithin, e322, e322i\n",
      "cauliflower, vegetable, brassica, tumatoes, red-bell-pepper, fruit-vegetable, bell-pepper, yellow-bell-pepper, green-bell-pepper, water, jalapeno-pepper, chili-pepper, coriander-leaf, herb, coriander, extra-virgin-olive-oil, oil-and-fat, vegetable-oil-and-fat, vegetable-oil, olive-oil, virgin-olive-oil, tomato-concentrate, tomato, salt, lime-juice, fruit, citrus-fruit, juice, fruit-juice, lime, cayenne-pepper, condiment, spice, cumin, seed, garlic-puree, root-vegetable, onion-family-vegetable, garlic, alcohol-vinegar, vinegar, e509, turmeric-oleoresin, colour\n",
      "maltose, added-sugar, disaccharide, sugar, stabiliser, palm-oil, oil-and-fat, vegetable-oil-and-fat, palm-oil-and-fat, preservative, green-tea, plant, tea, e1442, e200\n",
      "honey, added-sugar\n",
      "cow-s-milk, dairy, milk\n",
      "sugar, added-sugar, disaccharide, cocoa, plant, rice-flour, flour, rice, chicory-root, vegetable, shoot-vegetable, chicory, coconut-oil, oil-and-fat, vegetable-oil-and-fat, vegetable-oil, emulsifier, cocoa-butter, cocoa-paste, sunflower-lecithin, e322, e322i\n",
      "wheat-flour, cereal, flour, wheat, cereal-flour, water, alcohol, wheat-gluten, gluten, yeast, salt, extra-virgin-olive-oil, oil-and-fat, vegetable-oil-and-fat, vegetable-oil, olive-oil, virgin-olive-oil, rye-sourdough, dough, sourdough, malted-wheat-flour, emulsifier, e472e\n",
      "dairy, milk-powder, sugar, added-sugar, disaccharide, cream, natural-flavouring, flavouring, milk-mineral-concentrate, milk-minerals, lactic-ferments, ferment, microbial-culture, vitamin-d, milk\n",
      "saltwater-fish, fish, european-sprat, wheat-flour, cereal, flour, wheat, cereal-flour, colza-oil, oil-and-fat, vegetable-oil-and-fat, rapeseed-oil, water, pea-fiber, fiber, vegetable-fiber, pea-protein, protein, plant-protein, squid, shellfish, mollusc, teuthida, salt, dextrose, added-sugar, monosaccharide, glucose, mustard, onion, vegetable, root-vegetable, onion-family-vegetable, dill, herb, garlic, lemon, fruit, citrus-fruit, black-pepper, seed, pepper, red-bell-pepper, fruit-vegetable, bell-pepper, paprika-powder, condiment, spice, paprika, turmeric, flavour-enhancer, raising-agent, e621, e503\n",
      "iodised-salt, salt, animal-fat, oil-and-fat, fat, flavour-enhancer, chicken-meat, poultry, chicken, condiment, flavouring, spice, yeast-extract, yeast, maltodextrin, vegetable-fat, vegetable-oil-and-fat, e310, e330, e621, e635\n",
      "sugar, added-sugar, disaccharide, dextrose, monosaccharide, glucose, corn-syrup, gum-base, e414, tapioca-dextrin, e1400, e171, confectioners-glaze, e903, corn-starch, starch, artificial-flavouring, flavouring, colour, e321, to-maintain-freshn, e129, e133, e102, e110, e127\n",
      "protects-tetra-fak-rats-60c-water, glucose-syrup, added-sugar, monosaccharide, glucose, soy-protein-isolate, protein, plant-protein, soy-protein, shula-oil, and-less-than-2-of-sodium-caseinate, pea-fiber, fiber, vegetable-fiber, medium-chain-triglycerides, calcium-caseinate, dairy, caseinate, fructooligosaccharide, sweetener, fotassium-citrate, inulin, maltodexirin, calcium-phosphaie-magnesium-phosphate, salt, soya-lecithin, e322, e322i, e508, e301, choline-chloride, e333, e407, taurine-i-caritine, e530, dl-alpha-tocopheryl-acetate, vitamin-e, zinc-sulfate, minerals, zinc, ferrous-sulfate, iron, e375, calcium-pantothenate, vitamins, pantothenic-acid, manganese-sulfate, manganese, pyridoxine-hydrochloride, vitamin-b6, thiamin-hydrochloride, thiamin, e519, e101, e160ai, e160a, retinyl-palmitate, vitamin-a, folic-acid, folate, chromium-chloride, chromium, potassium-iodide, iodine, sodium-molybdate, molybdenum, sodium-selenite, selenium, phylloquinone, vitamin-k, biotin, cholecalciferol, vitamin-d, vitamin-b12-access-tube-fen-resources-and-sy, helpful-information-aboute, get-connected-to-tube-let-support-organizations-wwwmytubefeeding-scan-here-for-mor-food-information-and-a-1-800-422-ask, manufactured-for-nestie-healthcare-nutrition, inc, bridgewater, nj-08807-usa-us-only-coated-pa-carton-not-for-parent-use-unc-medical-sup-suitable-for-t-14-years-44159275-j20, from-chicort\n",
      "carrot, vegetable, root-vegetable, taproot-vegetable, leek, onion-family-vegetable, turnip, onion, thyme, herb\n",
      "water, modified-starch, starch, rice-flour, flour, rice, onion, vegetable, root-vegetable, onion-family-vegetable, sugar, added-sugar, disaccharide, preservative, flavouring, spice, condiment, yeast-extract, yeast, dextrose, monosaccharide, glucose, wheat-flour, cereal, wheat, cereal-flour, salt, sunflower-oil, oil-and-fat, vegetable-oil-and-fat, vegetable-oil, spice-or-bell-pepper, fruit-vegetable, bell-pepper, e202, celery, stalk-vegetable, nutmeg-nut, nutmeg, turmeric\n",
      "chicken-egg, egg, durum-wheat-semolina, cereal, wheat, durum-wheat, semolina, milk, dairy, cream, salt, acid, mozzarella, cheese, breadcrumbs, coating, sunflower-oil, oil-and-fat, vegetable-oil-and-fat, vegetable-oil, whey-product, whey, flavouring, potato-flakes, vegetable, root-vegetable, tuber, potato, garlic, onion-family-vegetable, black-pepper, seed, pepper, wheat-flour, flour, cereal-flour, ricotta, sweet-whey, e330, lactic-ferments, ferment, microbial-culture, microbial-coagulating-enzyme, enzyme, coagulating-enzyme, water, yeast, animal-based-rennet, rennet, emulsifier, e471\n",
      "salami, meat, kase-chili, ummantelung, schweinefleisch, speisesalz, traubenzucker, gewurze, flavouring, hefeextrakt, antioxidationsmittel, ascorbinsaure, farbstoff, konservierungsstoff, potassium, minerals, iodat, reifekulturen, rauch, kase, speisegelatine, chilis-getrocknet, rapsol, natriumascorbat, echtes-karmin, natriumnitrit, schwein\n",
      "sugar, added-sugar, disaccharide, whey, dairy, skimmed-milk-powder, milk-powder, cocoa-powder, plant, cocoa, creaming-powder, natural-and-artificial-flavouring, flavouring, natural-flavouring, artificial-flavouring, salt, e412, dutch-process, coconut-oil, oil-and-fat, vegetable-oil-and-fat, vegetable-oil, corn-syrup-solids, corn-syrup, sodium-caseinate, caseinate, e340ii, e340\n",
      "packung-nahrwerte, 69-624-an-378-196-a-portion-70g-botchen-s-3706, e-in-089-atg-34-90-138-199, 8-x\n",
      "water, acid, sweetener, e950, flavouring, vitamin-c, e375, vitamin-e, vitamin-a, vitamins, pantothenic-acid, vitamin-b6, thiamin, folic-acid, folate, biotin, vitamin-b12, apple, fruit, malaceous-fruit, grape, berries, pear, orange, citrus-fruit, pineapple, banana, lemon, passionfruit, guava, mango, apricot, prunus-species-fruit, peach, e330, e955\n",
      "atlantic-salmon, fish, oily-fish, salmon, salt\n",
      "apple-juice, fruit, juice, malaceous-fruit, apple, fruit-juice\n",
      "cheddar, dairy, cheese, potato-starch-and-powdered-cellulose-added-to-prevent-caking, e235, pasteurised-milk, milk, lactic-ferments, ferment, microbial-culture, salt, enzyme, annatto-color, preservative\n",
      "cane-sugar, added-sugar, disaccharide, sugar, hazelnut-paste, nut, tree-nut, hazelnut, sunflower-oil, oil-and-fat, vegetable-oil-and-fat, vegetable-oil, fat-reduced-cocoa-powder, plant, cocoa, cocoa-powder, skimmed-milk-powder, dairy, milk-powder, emulsifier, sunflower-lecithin, e322, e322i\n",
      "sugar, added-sugar, disaccharide, whole-milk-powder, dairy, milk-powder, hazelnut, nut, tree-nut, cocoa-paste, plant, cocoa, vegetable-fat, oil-and-fat, vegetable-oil-and-fat, almond, cocoa-butter, whey-powder, whey, emulsifier, flavouring, palmist, palm, palm-oil-and-fat, palm-oil, soya-lecithin, e322, e322i, sunflower-lecithin\n",
      "water, e150d\n",
      "wheat-flour, cereal, flour, wheat, cereal-flour, butter, dairy, water, raisin, fruit, berries, grape, sugar, added-sugar, disaccharide, semi-skimmed-milk, milk, yeast, wheat-gluten, gluten, salt, malted-wheat-flour, barley-malt-extract, malt, malted-barley, flour-treatment-agent, egg, egg-white, modified-corn-starch, starch, corn-starch, modified-starch, thickener, natural-vanilla-flavouring, flavouring, natural-flavouring, vanilla-flavouring, colour, e300, e412, e415, e100, e160\n",
      "carved-beef-and-lamb-slices, water, lamb, animal, sheep, breadcrumbs, coating, stabiliser, and-less-of, dehydrated-onion, vegetable, root-vegetable, onion-family-vegetable, onion, garlic, soya-oil, oil-and-fat, vegetable-oil-and-fat, vegetable-oil, salt, concentrated-lemon-juice, fruit, juice, fruit-juice, lemon-juice, flat-bread, barley-malt-flour, cereal, flour, cereal-flour, barley, barley-flour, e375, reduced-iron, minerals, iron, thiamin-mononitrate, thiamin, and-or-canola-oil, contains-2-and-less-of, sugar, added-sugar, disaccharide, flour-treatment-agent, baking-powder, e282, e202, e263, yeast-nutrients, greek-dressing, tomato, fruit-vegetable, white-balsamic-vinegar, vinegar, balsamic-vinegar, extra-virgin-olive-oil, olive-oil, virgin-olive-oil, white-distilled-vinegar, white-vinegar, distilled-vinegar, lemon-peel, citrus-fruit, lemon, natural-flavouring, flavouring, cucumber, oregano, herb, e415, dried-oregano, chili-pepper, white-pepper, seed, pepper, tzatziki-sauce, e440a, contains, corn-starch, starch, dill, black-pepper, e412, beef, wheat-flour, wheat, yeast, e503i, e503, e460, sodium-citrate, sodium, e330, e461, e576, e500i, e500, potato-starch, e471, e339, spice, condiment, fortified-wheat-flour, e101, folic-acid, folate, e516, e414, and-enzymes, e450i, e450, e500ii, e341i, e341, preservative, e517, e300, enzyme, e509, wine-vinegar, grape-must, must, e220, skimmed-yogurt, dairy, yogurt, cultured-pasteurized-skim-milk, streptococcus-thermophilus, ferment, microbial-culture, lactic-ferments, lactobacillus-bulgaricus, lactobacillus, lactobacillus-lactis, lactobacillus-casei, lactobacillus-acidophilus, bifidus, concentrated-grape-must\n",
      "pasteurized-sweet-cream, salt\n",
      "sultana, fruit, berries, grape, sunflower-oil, oil-and-fat, vegetable-oil-and-fat, vegetable-oil\n",
      "water, red-split-lentils, carrot, vegetable, root-vegetable, taproot-vegetable, smoked-bacon, animal, meat, pork, pork-meat, bacon, lentils, legume, pulse, onion, onion-family-vegetable, tomato, fruit-vegetable, spinach, leaf-vegetable, celery, stalk-vegetable, corn-flour, cereal, flour, corn, rapeseed-oil, oil-and-fat, vegetable-oil-and-fat, lemon-juice, fruit, juice, fruit-juice, garlic, salt, thyme, herb, english-mustard, mustard, paprika, condiment, spice, black-pepper, seed, pepper, bay-leaf, dextrose, added-sugar, monosaccharide, glucose, preservative, sea-salt, turmeric, pimiento, chili-pepper, see-ingredients-in-bold-and-underlined, not-36-ional-information-serving-per-half-carton-typical-values-per-100g-per-300g-serving-typical-values-reference-intake, e250, adult\n",
      "fortified-wheat-flour, cereal, flour, wheat, cereal-flour, wheat-flour, water, sugar, added-sugar, disaccharide, yeast, cornmeal, corn, soya-oil, oil-and-fat, vegetable-oil-and-fat, vegetable-oil, wheat-gluten, gluten, salt, monoglycerides, e282, e472e, grain-vinegar, vinegar, e330, e516, e917, e341i, e341, soya-lecithin, e322, e322i, barley-malt-flour, barley, barley-flour, reduced-iron, minerals, iron, e375, thiamin-mononitrate, thiamin, e101, folic-acid, folate, preservative\n",
      "colby-cheese, dairy, cheese, monterey-jack, anti-caking-agent, e235, cultured-pasteurized-milk, milk, salt, enzyme, annatto-color, potato-starch, starch, corn-starch, e460ii, e460, preservative\n",
      "pasteurised-milk, dairy, milk, jalapeno-pepper, vegetable, fruit-vegetable, chili-pepper, lactic-ferments, ferment, microbial-culture, sea-salt, salt, vegetable-enzymes, e460ii, e460, anti-caking-agent\n",
      "salt, dehydrated-onion, vegetable, root-vegetable, onion-family-vegetable, onion, cane-sugar, added-sugar, disaccharide, sugar, garlic, spice, condiment, paprika, yeast-extract, yeast, sunflower-oil, oil-and-fat, vegetable-oil-and-fat, vegetable-oil, rice, natural-flavouring, flavouring\n",
      "peach-puree, fruit, prunus-species-fruit, peach, water, acid, vitamins, vitamin-c, vitamin-e, vitamin-a, sweetener, e330, e955, e950\n",
      "water, high-fructose-corn-syrup, added-sugar, disaccharide, monosaccharide, fructose, glucose, corn-syrup, glucose-fructose-syrup, salt, soy-sauce, sauce, pineapple, fruit, sake, alcohol, red-wine-vinegar, vinegar, less-than, modified-starch, starch, spice, condiment, e330, e415, e211, wheat, cereal, soya-bean, vegetable, legume, pulse, soya, e150a, preservative\n",
      "wheat-flour, cereal, flour, wheat, cereal-flour, sugarcane-juice, sugarcane, palm-oil-and-sunflower-oil-and-canola-oil, invert-sugar, added-sugar, monosaccharide, sea-salt, salt, vanilla-extract, plant, vanilla, cooking-soda, soya-lecithin, e322, e322i\n",
      "e466, e955, e160ai, e160a, e960, bifidobacterium-bifidum, ferment, microbial-culture, lactic-ferments, bifidus, lactobacillus-acidophilus, lactobacillus\n",
      "black-tea, plant, tea, bergamot-orange-flavouring, flavouring\n",
      "rye, cereal, seed, grains, salt, buckwheat, brown-flax-seeds, flax, flax-seed, kibbled-soya, sesame-seeds, sesame, kibbled-rye, flour, bran\n",
      "crust, water, soya-oil, oil-and-fat, vegetable-oil-and-fat, vegetable-oil, sugar, added-sugar, disaccharide, cornmeal, cereal, corn, vital-wheat-gluten, yeast, flour-treatment-agent, e300, enzyme, e481, salt, e500ii, e500, e541, dextrose, monosaccharide, glucose, artificial-flavouring, flavouring, soya-lecithin, e322, e322i, cheese, dairy, sauce, flour, wheat-flour, wheat, cereal-flour, e472e, processing-aid, low-moisture-part-skim-mozzarella, mozzarella, part-skim-mozzarella, low-moisture-mozzarella, parmesan-and-asiago-cheese-blend, tomato-concentrate, vegetable, fruit-vegetable, tomato, spice, condiment, garlic, root-vegetable, onion-family-vegetable, natural-flavouring, e296, pasteurized-semi-skimmed-milk, milk, semi-skimmed-milk, lactic-ferments, ferment, microbial-culture, broth-made-from-pasteurized-milk\n",
      "potato, vegetable, root-vegetable, tuber, vegetable-oil, oil-and-fat, vegetable-oil-and-fat, and-salt, sunflower, plant, corn, cereal, canola-oil, rapeseed-oil\n",
      "whole-milk, dairy, milk, sugar, added-sugar, disaccharide, wheat-semolina, cereal, wheat, semolina, modified-starch, starch, milk-mineral-concentrate, milk-minerals, minerals, zinc-sulfate, zinc, thickener, vanillin, acidity-regulator, e345, carob-seed-flour, flour, vegetable, legume, pulse, carob-bean-locust-bean, e525\n",
      "hazelnut, nut, tree-nut\n",
      "cow-s-milk, dairy, milk, stabiliser, e407\n",
      "water, salt, grape-sugar, added-sugar, monosaccharide, antioxidant, white-pepper, seed, pepper, bay-leaf, herb, preservative, e301, e250\n",
      "semi-skimmed-milk, dairy, milk, pork-meat, animal, meat, pork, potato, vegetable, root-vegetable, tuber, aubergine, fruit-vegetable, tomato-concentrate, tomato, courgette, cheese, palm-fat, oil-and-fat, vegetable-oil-and-fat, palm-oil-and-fat, colza-oil, rapeseed-oil, sunflower-oil, vegetable-oil, modified-corn-starch, starch, corn-starch, modified-starch, onion, onion-family-vegetable, olive-oil, wheat-flour, cereal, flour, wheat, cereal-flour, salt, potato-starch, spice, condiment, herb, lactose, garlic, flavouring\n",
      "crafted-from-cultured-pasteurized-milk, enzyme, salt\n",
      "milk, dairy, sugar, added-sugar, disaccharide\n",
      "skimmed-milk, dairy, milk, milk-proteins, protein, animal-protein, cocoa, plant, modified-starch, starch, e428, fat-reduced-cocoa, thickener, stabiliser, sweetener, lactase, enzyme, beef, animal, e412, e407, e500, e955, e950\n",
      "cream, dairy, water, condensed-skimmed-milk, milk, condensed-milk, sugar, added-sugar, disaccharide, glucose-syrup, monosaccharide, glucose, almond, nut, tree-nut, egg-yolk, egg, coconut-oil, oil-and-fat, vegetable-oil-and-fat, vegetable-oil, milkfat, fat, sweetened-condensed-semi-skimmed-milk, sweetened-condensed-milk, lactose, skimmed-milk-powder, milk-powder, stabiliser, salt, raising-agent, natural-flavouring, flavouring, vanilla-extract, plant, vanilla, acidity-regulator, e412, e407, soya-lecithin, e322, e322i, e500ii, e500, e330\n",
      "cocoa-bean, plant, cocoa, coconut-sugar, added-sugar, disaccharide, sugar, palm-sugar, cocoa-butter, rose-petals, dried-flowers, e967, cornflower, herb, geranium\n",
      "kombucha-culture, ferment, microbial-culture, blonde-cane-sugar, added-sugar, disaccharide, sugar, cane-sugar, filtered-water, water\n",
      "fortified-wheat-flour, cereal, flour, wheat, cereal-flour, wheat-flour, sugar, added-sugar, disaccharide, whole-egg, egg, vegetable-oil, oil-and-fat, vegetable-oil-and-fat, modified-corn-starch, starch, corn-starch, modified-starch, cocoa, plant, whey, dairy, baking-powder, emulsifier, salt, e150a, soya-lecithin, e322, e322i, e471, natural-and-artificial-flavouring, flavouring, natural-flavouring, artificial-flavouring, e202, e330, e129, ferrous-sulfite, e375, thiamin-mononitrate, thiamin, e101, folic-acid, folate, soya-bean, vegetable, legume, pulse, soya, cottonseed, seed, raising-agent, propylene-glycol-monoesters, preservative\n",
      "water, mineral-water, carbonated-water, natural-mineral-water, carbonated-natural-mineral-water, calcium, minerals\n",
      "cultured-pasteurized-grade-a-cream, skimmed-milk, dairy, milk, enzyme\n",
      "green-bean, vegetable, legume, pod-and-seed-vegetable, olive-oil, oil-and-fat, vegetable-oil-and-fat, vegetable-oil, sea-salt, salt, onion, root-vegetable, onion-family-vegetable, garlic, spice, condiment, oregano, herb, basil, marjoram, thyme, tarragon\n",
      "scrambled-egg-whites, potato, vegetable, root-vegetable, tuber, bell-pepper, fruit-vegetable, kale, brassica, cabbage, tomato, gouda, dairy, cheese, cheese-sauce, sauce, corn-starch, starch, salt, egg-white, egg, e415, e330, semi-skimmed-milk, milk, microbial-culture, ferment, smoke-flavouring, flavouring, enzyme, e160b, whole-milk, cheddar, fresh-cream, cream, butter, water, potato-flour, flour, onion, onion-family-vegetable, rice-starch, parmigiano-reggiano, sea-salt, spice, condiment, colour, lactic-ferments\n",
      "pasta, dough, marinade, sauce, vegetable, salad, ham, animal, meat, pork, pork-meat, corn, cereal, cheese, dairy, durum-wheat, wheat, water, salt, rapeseed-oil, oil-and-fat, vegetable-oil-and-fat, white-wine-vinegar, vinegar, wine-vinegar, modified-potato-starch, starch, modified-starch, potato-starch, preservative, curly-endive, leaf-vegetable, endive, white-cabbage, brassica, cabbage, carrot, root-vegetable, taproot-vegetable, radicchio, antioxidant, maltodextrin, grape-sugar, added-sugar, monosaccharide, stabiliser, herb-extract, herb, tomato-puree, fruit-vegetable, tomato, egg-yolk, egg, onion, onion-family-vegetable, spice-or-bell-pepper, condiment, spice, bell-pepper, honey, chili-pepper, white-pepper, seed, pepper, thickener, milk, lactic-ferments, ferment, microbial-culture, microbial-rennet, enzyme, coagulating-enzyme, rennet, vegetarian-rennet, e509, e202, e211, e325, e301, e451, nutmeg-nut, nutmeg, black-pepper, e250, e415\n",
      "cookies, e375, iron, minerals, e1100, e300, thiamin-mononitrate, thiamin, e101, folic-acid, folate, sugar, added-sugar, disaccharide, vegetable-fat, oil-and-fat, vegetable-oil-and-fat, invert-sugar, monosaccharide, whole-egg, egg, skimmed-milk-powder, dairy, milk-powder, e500ii, e500, salt, artificial-flavouring, flavouring, icing-decorations, egg-white, e171, soy-protein, protein, plant-protein, corn-starch, starch, e414, e336i, e336, ammonium-alum, colour, fortified-wheat-flour, cereal, flour, wheat, cereal-flour, wheat-flour, soya-bean, vegetable, legume, pulse, soya, cottonseed-oil, vegetable-oil, raising-agent, confectioner-s-sugar, partially-hydrogenated-soybean-oil, soya-oil, corn-syrup-solids, corn-syrup, sodium-caseinate, caseinate, e471, e102, e110, e129, e133, e127\n",
      "cultured-cow-s-milk-butter\n",
      "cider-vinegar, vinegar, diluted-with-water-to-5-acidity\n",
      "water, vegetable, fresh-cream, dairy, cream, modified-corn-starch, starch, corn-starch, modified-starch, vegetable-oil, oil-and-fat, vegetable-oil-and-fat, salt, butter, flavouring, flavour-enhancer, lactose-and-milk-proteins, protein, animal-protein, milk-proteins, lactose, carrot, root-vegetable, taproot-vegetable, e621\n",
      "fruit, sugar, added-sugar, disaccharide, fruit-pectin, e440a, ginger, condiment, spice, orange, citrus-fruit, mandarin, grapefruit, lemon-juice, juice, fruit-juice\n",
      "pork, animal, pasteurized-process-cheddar-cheese, cheddar, dairy, cheese, water, cream, enzyme-modified-cheese, e339, milk, lactic-ferments, ferment, microbial-culture, salt, enzyme, e160b, lipolyzed-cream, e415\n",
      "water, sugar, added-sugar, disaccharide, dextrose, monosaccharide, glucose, e330, salt, sodium-citrate, minerals, sodium, e340i, e340, modified-starch, starch, natural-flavouring, flavouring, glycerol-ester-of-rosin, e129, e150a\n",
      "sprouted-fermented-pea-protein-powder, cocoa, plant, sprouted-brown-rice-protein, baobab-fruit, natural-chocolate-flavouring, flavouring, natural-flavouring, e412, quinoa, monk-fruit-extract, digestive-enzymes, probiotic, e1101, e1100, cellulase, enzyme, lactase, e1104, bacillus-coagulans, ferment, microbial-culture, lactic-ferments\n",
      "pork, animal, water, corn-syrup, added-sugar, disaccharide, contains-less-than-2-salt, dextrose, monosaccharide, glucose, flavouring, e320, e310, e330\n",
      "strawberry, fruit, berries, sugar, added-sugar, disaccharide, fructose, monosaccharide, water, e440a, e330\n",
      "oat-flakes, cereal, oat, sugar, added-sugar, disaccharide, peanut-paste, nut, peanut, oat-bran, salt, rice-flour, flour, rice, soya-lecithin, e322, e322i\n",
      "milk-chocolate, chocolate, graham, marshmallow, sugar, added-sugar, disaccharide, cocoa-butter, plant, cocoa, milk, dairy, soya-lecithin, e322, e322i, pure-vanilla, vanilla, wheat-flour, cereal, flour, wheat, cereal-flour, whole-wheat-flour, wholemeal-flour, evaporated-cane-juice, sugarcane, sugarcane-juice, vegetable-oil, oil-and-fat, vegetable-oil-and-fat, honey, raising-agent, e503ii, e503, sea-salt, salt, e336i, e336, corn-syrup, water, e428, egg-white, egg, corn-starch, starch, safflower, sunflower, e500ii, e500\n",
      "cream, dairy, stabiliser, e407, e339\n",
      "animal, meat, pork, pork-meat, onion, vegetable, root-vegetable, onion-family-vegetable, salt, garlic, rum, alcohol, pepper, seed, turkey, poultry, chicken\n",
      "filtered-water, water\n",
      "pasteurized-semi-skimmed-milk, dairy, milk, semi-skimmed-milk, lactic-ferments, ferment, microbial-culture, salt, enzyme\n",
      "chicken-meat, poultry, chicken, water, sunflower-oil, oil-and-fat, vegetable-oil-and-fat, vegetable-oil, wheat-flour, cereal, flour, wheat, cereal-flour, dehydrated-potato-flakes, vegetable, root-vegetable, tuber, potato, potato-flakes, soy-protein, protein, plant-protein, wheat-gluten, gluten, salt, maltodextrin, wheat-fiber, fiber, vegetable-fiber, egg-powder, egg, flavouring, flavour-enhancer, e631, e627, natural-flavouring, modified-potato-starch, starch, modified-starch, potato-starch, yeast, turmeric, condiment, spice, e621\n"
     ]
    }
   ],
   "source": [
    "uniques_ingredients = df['ingredients'].unique()\n",
    "uniques_ingredients_list = list(uniques_ingredients)\n",
    "for value in uniques_ingredients_list:\n",
    "    print(value)"
   ]
  },
  {
   "cell_type": "code",
   "execution_count": 29,
   "metadata": {},
   "outputs": [
    {
     "name": "stdout",
     "output_type": "stream",
     "text": [
      "empty\n",
      "seafood, frozen-foods, frozen-seafood\n",
      "طاقه\n",
      "meats-and-their-products, beef-and-its-products, meats, beef, beef-hanger-steak\n",
      "plant-based-foods-and-beverages, plant-based-foods, legumes-and-their-products, legumes, seeds, legume-seeds, meals, pulses, lentils, prepared-lentils\n",
      "non-food-products, open-beauty-facts\n",
      "beverages\n",
      "plant-based-foods-and-beverages, plant-based-foods, snacks, cereals-and-potatoes, salty-snacks, appetizers, chips-and-fries, crisps, potato-crisps, flavoured-potato-crisps\n",
      "plant-based-foods-and-beverages, plant-based-foods, snacks, cereals-and-potatoes, seeds, sweet-snacks, cereals-and-their-products, confectioneries, nuts-and-their-products, bars, candies, nut-bars\n",
      "plant-based-foods-and-beverages, plant-based-foods, fats, vegetable-fats, olive-tree-products, vegetable-oils, olive-oils, extra-virgin-olive-oils, virgin-olive-oils\n",
      "plant-based-foods-and-beverages, plant-based-foods, fruits-and-vegetables-based-foods, vegetables-based-foods, vegetables, leaf-vegetables, chicory\n",
      "plant-based-foods-and-beverages, plant-based-foods, fruits-and-vegetables-based-foods, vegetables-based-foods, vegetables, salads-without-dressing\n",
      "cooking-helpers\n",
      "snacks, sweet-snacks, biscuits-and-cakes, biscuits\n",
      "plant-based-foods-and-beverages, plant-based-foods, seeds\n",
      "meats-and-their-products, meats, prepared-meats\n",
      "plant-based-foods-and-beverages, plant-based-foods, cereals-and-potatoes, seeds, cereals-and-their-products, frozen-foods, cereal-grains, rices, aromatic-rices, indica-rices, long-grain-rices, brown-rices, basmati-rices, brown-basmati-rices\n",
      "plant-based-foods-and-beverages, plant-based-foods, cereals-and-potatoes, cereals-and-their-products, pastas\n",
      "sweeteners, sugars\n",
      "meats-and-their-products, prepared-meats, terrines, poultry-terrines\n",
      "plant-based-foods-and-beverages, plant-based-foods, fruits-and-vegetables-based-foods, canned-foods, desserts, canned-plant-based-foods, fruits-based-foods, canned-fruits, fruits-in-syrup, pineapple-in-syrup\n",
      "meats-and-their-products, prepared-meats, pate, duck-pates\n",
      "snacks, sweet-snacks, confectioneries, candies, gummi-candies, gummy-bears\n",
      "dairies, milks, semi-skimmed-milks\n",
      "plant-based-foods-and-beverages, beverages, plant-based-beverages, fruit-based-beverages, juices-and-nectars, fruit-juices, orange-juices\n",
      "canned-foods, meals, soups, canned-meals, canned-soups\n",
      "snacks, sweet-snacks, biscuits-and-cakes, pastries, tiramisu\n",
      "plant-based-foods-and-beverages, plant-based-foods, seeds, sunflower-seeds-and-their-products, sunflower-seeds\n",
      "dietary-supplements, spirulina\n",
      "snacks, sweet-snacks, confectioneries, candies, lollipops\n",
      "snacks, sweet-snacks, biscuits-and-cakes, pastries, open-pies\n",
      "condiments, sauces, salad-dressings, italian-dressing, groceries\n",
      "beverages, carbonated-drinks, sodas\n",
      "snacks, sweet-snacks, biscuits-and-cakes, biscuits, chocolate-biscuits, digestives-covered-with-chocolate\n",
      "beverages, dairies, fermented-foods, fermented-milk-products, dairy-drinks, fermented-drinks, fermented-milk-drinks, doogh-and-ayran, ayran\n",
      "dietary-supplements, bodybuilding-supplements, protein-powders\n",
      "beverages, alcoholic-beverages, beers, 5-beer\n",
      "plant-based-foods-and-beverages, plant-based-foods, cereals-and-potatoes, breads\n",
      "plant-based-foods-and-beverages, plant-based-foods, fruits-and-vegetables-based-foods, vegetables-based-foods, vegetables, tomatoes-and-their-products, tomatoes, cherry-tomatoes\n",
      "condiments, sauces, tartare-sauces, groceries\n",
      "plant-based-foods-and-beverages, plant-based-foods, fruits-and-vegetables-based-foods, vegetables-based-foods, vegetables, vegetable-rods, asparagus, white-asparagus\n",
      "plant-based-foods-and-beverages, plant-based-foods, fruits-and-vegetables-based-foods, canned-foods, desserts, canned-plant-based-foods, fruits-based-foods, canned-fruits, fruits-in-syrup, pears-in-syrup\n",
      "snacks, sweet-snacks, cocoa-and-its-products, chocolates, chocolate-molds, chocolate-sculptures\n",
      "snacks, salty-snacks, appetizers, crackers\n",
      "meats-and-their-products, meats, prepared-meats, hams, white-hams\n",
      "sweeteners, sugars, vanilla-sugars\n",
      "meats-and-their-products, meats, reindeer-meat\n",
      "condiments, sauces, tomato-sauces, ketchup, groceries\n",
      "plant-based-foods-and-beverages, plant-based-foods, fruits-and-vegetables-based-foods, canned-foods, cereals-and-potatoes, seeds, vegetables-based-foods, canned-plant-based-foods, cereals-and-their-products, canned-vegetables, cereal-grains, corn, canned-cereals, canned-corn, canned-sweet-corn\n",
      "desserts, frozen-foods, frozen-desserts\n",
      "snacks, sweet-snacks, confectioneries\n",
      "plant-based-foods-and-beverages, plant-based-foods, cereals-and-potatoes\n",
      "plant-based-foods-and-beverages, plant-based-foods, cereals-and-potatoes, breads, rye-breads, wholemeal-breads\n",
      "plant-based-foods-and-beverages, plant-based-foods, legumes-and-their-products, canned-foods, legumes, seeds, canned-plant-based-foods, legume-seeds, pulses, common-beans, canned-legumes, red-beans, canned-common-beans, canned-red-kidney-beans\n",
      "plant-based-foods-and-beverages, plant-based-foods, legumes-and-their-products, canned-foods, legumes, seeds, canned-plant-based-foods, canned-legumes, canned-common-beans\n",
      "plant-based-foods-and-beverages, plant-based-foods, fruits-and-vegetables-based-foods, breakfasts, spreads, fruits-based-foods, plant-based-spreads, sweet-spreads, fruit-and-vegetable-preserves, jams, berry-jams, raspberry-jams\n",
      "plant-based-foods-and-beverages, plant-based-foods, fruits-and-vegetables-based-foods, vegetables-based-foods, frozen-foods, frozen-plant-based-foods, frozen-vegetables\n",
      "beverages, alcoholic-beverages, wines\n",
      "dairies, fermented-foods, fermented-milk-products, cheeses, cow-cheeses, sliced-cheeses, tilsit\n",
      "meats-and-their-products, meals, meats, prepared-meats, fish-and-meat-and-eggs, fresh-foods, offals, fresh-meals, refrigerated-foods, tripe-dishes, black-pudding, sauteed-black-pudding\n",
      "meats-and-their-products, meats, prepared-meats, hams\n",
      "90\n",
      "seafood, fishes-and-their-products, canned-foods, fishes, fatty-fishes, canned-fishes, tunas, canned-tunas\n",
      "meats-and-their-products, beef-and-its-products, meats, beef, beef-flank-steak\n",
      "snacks, cacao-et-derives, chocolats, snacks-sucres\n",
      "snacks, sweet-snacks, confectioneries, caramels\n",
      "plant-based-foods-and-beverages, plant-based-foods, fats, vegetable-fats, olive-tree-products, vegetable-oils, olive-oils\n",
      "beverages-and-beverages-preparations, beverage-preparations, syrups, flavoured-syrups, cola-syrups\n",
      "desserts, frozen-foods, frozen-desserts, ice-creams-and-sorbets, ice-creams\n",
      "beverages, alcoholic-beverages, beers, country-specific-beers, beers-from-czech-republic\n",
      "snacks, sweet-snacks, confectioneries, candies\n",
      "meats-and-their-products, prepared-meats\n",
      "dairies, fermented-foods, fermented-milk-products, desserts, dairy-desserts, fermented-dairy-desserts, yogurts\n",
      "condiments, vinegars\n",
      "desserts, frozen-foods, frozen-desserts, ice-creams-and-sorbets, ice-creams, ice-cream-tubs\n",
      "dairies, fermented-foods, fermented-milk-products, desserts, dairy-desserts, fermented-dairy-desserts, skyrs\n",
      "sandwiches\n",
      "meats-and-their-products, meats, poultries\n",
      "beverages, fermented-foods, fermented-drinks, tea-based-beverages, kombuchas\n",
      "beverages, waters, spring-waters\n",
      "beverages, carbonated-drinks, sodas, colas, sweetened-beverages\n",
      "plant-based-foods-and-beverages, vegetable-based-foods-and-beverages\n",
      "beverages, dairies, milks\n",
      "plant-based-foods-and-beverages, plant-based-foods, cereals-and-potatoes, cereals-and-their-products, flours, cereal-flours, wheat-flours\n",
      "snacks, sweet-snacks, biscuits-and-cakes, biscuits, chocolate-biscuits, dark-chocolate-biscuits, petit-beurre, biscuit-with-a-chocolate-bar-covering, biscuit-with-a-dark-chocolate-bar-covering, butter-biscuit-with-chocolate\n",
      "snacks, desserts, sweet-snacks, biscuits-and-cakes, cakes, pastries, mochi\n",
      "breakfasts, spreads, sweet-spreads, bee-products, farming-products, sweeteners, honeys\n",
      "plant-based-foods-and-beverages, plant-based-foods, cereals-and-potatoes, breads, croutons, croutons-with-garlic\n",
      "beverages, alcoholic-beverages\n",
      "snacks, sweet-snacks, cocoa-and-its-products, confectioneries, bars, chocolate-candies, bars-covered-with-chocolate\n",
      "plant-based-foods-and-beverages, plant-based-foods, cereals-and-potatoes, breads, pre-baked-breads\n",
      "beverages, dairies, fermented-foods, fermented-milk-products, desserts, dairy-desserts, dairy-drinks, fermented-dairy-desserts, fermented-drinks, yogurts, fermented-milk-drinks, drinkable-yogurts\n",
      "condiments, sauces, groceries\n",
      "seafood, fishes-and-their-products, fish-preparations, breaded-products, breaded-fish\n",
      "dried-products, dried-products-to-be-rehydrated, broths, dehydrated-broths\n",
      "meats-and-their-products, meats, chicken-and-its-products, poultries, chickens, cooked-poultries, cooked-chicken, chicken-drumsticks\n",
      "snacks, sweet-snacks, biscuits-and-cakes\n",
      "dairies, fermented-foods, fermented-milk-products, cheeses, blue-veined-cheeses, french-blue-veined-cheeses, sheep-s-milk-cheeses, roquefort-cheeses\n",
      "snacks, sweet-snacks, sweet-pastries-and-pies, viennoiseries, brioches, panettone\n",
      "terrines, vegetables-terrines\n",
      "plant-based-foods-and-beverages, plant-based-foods, fruits-and-vegetables-based-foods, legumes-and-their-products, canned-foods, legumes, vegetables-based-foods, canned-plant-based-foods, vegetables, canned-vegetables, canned-legumes, green-peas, canned-peas\n",
      "dried-products, dried-products-to-be-rehydrated\n",
      "plant-based-foods-and-beverages, plant-based-foods\n",
      "meals, pasta-dishes, stuffed-pastas, tortellini\n",
      "snacks, sweet-snacks, bars\n",
      "beverages, alcoholic-beverages, beers\n",
      "plant-based-foods-and-beverages, plant-based-foods, breakfasts, cereals-and-potatoes, cereals-and-their-products, breakfast-cereals, mueslis\n",
      "beverages, dried-products, dried-products-to-be-rehydrated, dehydrated-beverages\n",
      "plant-based-foods-and-beverages, plant-based-foods, cereals-and-potatoes, breads, buns\n",
      "beverages, artificially-sweetened-beverages\n",
      "seafood, fishes-and-their-products, fishes, fatty-fishes, salmons, smoked-fishes, smoked-salmons, smoked-salmons-from-farming\n",
      "frozen-foods\n",
      "dairies, fermented-foods, fermented-milk-products, desserts, dairy-desserts, fermented-dairy-desserts, yogurts, cow-milk-yogurts\n",
      "plant-based-foods-and-beverages, beverages, plant-based-beverages, fruit-based-beverages, juices-and-nectars, fruit-juices, unsweetened-beverages, apple-juices\n",
      "festive-foods, christmas-foods-and-drinks, advent-calendars\n",
      "meats-and-their-products, meats, prepared-meats, sausages, french-sausages\n",
      "dairies, fermented-foods, fermented-milk-products, cheeses, cow-cheeses, cheeses-from-the-united-kingdom, cheeses-from-england, cheddar-cheese, grated-cheese\n",
      "breakfasts, spreads, sweet-spreads, hazelnut-spreads, chocolate-spreads, cocoa-and-hazelnuts-spreads\n",
      "snacks, sweet-snacks, cocoa-and-its-products, confectioneries, chocolate-candies, bonbons\n",
      "plant-based-foods-and-beverages, plant-based-foods, cereals-and-potatoes, gnocchi, potato-gnocchi\n",
      "snacks, sweet-snacks, sweet-pastries-and-pies, viennoiseries, breads-with-raisins, pains-aux-raisins, snacks-sucres\n",
      "dairies, fats, spreads, spreadable-fats, animal-fats, milkfat, dairy-spread, butters, salted-butters\n",
      "plant-based-foods-and-beverages, plant-based-foods, fruits-and-vegetables-based-foods, fruits-based-foods, dried-products, fruits, dried-plant-based-foods, dried-fruits, grapes, raisins, sultana-raisins\n",
      "meals, soups\n",
      "dairies, fermented-foods, fermented-milk-products, cheeses\n",
      "meals, pizzas-pies-and-quiches, pizzas\n",
      "plant-based-foods-and-beverages, plant-based-foods, fruits-and-vegetables-based-foods, fruits-based-foods, fruits, peaches\n",
      "breakfasts, spreads, sweet-spreads, bee-products, farming-products, sweeteners, honeys, flower-honeys\n",
      "condiments, cooking-helpers, sauces, pastry-helpers\n",
      "plant-based-foods-and-beverages, plant-based-foods, cereals-and-potatoes, breads, sliced-breads\n",
      "plant-based-foods-and-beverages, plant-based-foods, cereals-and-potatoes, cereals-and-their-products, cereal-semolinas, corn-semolinas, corn-semolinas-for-polenta, delhaize\n",
      "condiments, groceries\n",
      "seafood, fishes-and-their-products, fishes, fatty-fishes, salmons, wild-salmons\n",
      "plant-based-foods-and-beverages, beverages, plant-based-foods, hot-beverages, plant-based-beverages, teas, herbal-teas, black-teas, flavored-teas, unsweetened-beverages\n",
      "plant-based-foods-and-beverages, plant-based-foods, snacks, cereals-and-potatoes, salty-snacks, appetizers, breads, crackers, plain-salty-snacks\n",
      "plant-based-foods-and-beverages, plant-based-foods, snacks, cereals-and-potatoes, salty-snacks, appetizers, chips-and-fries, crisps, potato-crisps\n",
      "plant-based-foods-and-beverages, plant-based-foods, cereals-and-potatoes, breads, white-breads\n",
      "snacks, sweet-snacks, cocoa-and-its-products, festive-foods, chocolates, chocolate-molds, easter-food, chocolate-rabbits\n",
      "baby-foods, snacks-and-desserts-for-babies, dairy-dessert-for-baby, from-6-months\n",
      "plant-based-foods-and-beverages, plant-based-foods, nuts-and-their-products, nuts, hazelnuts, shelled-nuts, shelled-hazelnuts\n",
      "dairies, fermented-foods, fermented-milk-products, creams, fermented-creams, sour-creams, smetana, smetana-with-15-to-34-fat\n",
      "food-additives, food-colorings\n",
      "sweeteners, sugars, brown-sugars\n",
      "meals, soups, reheatable-soups, fish-soups\n",
      "plant-based-foods-and-beverages, plant-based-foods, pickles\n",
      "meats-and-their-products, meals, meats\n",
      "dairies, milks\n",
      "meals, refrigerated-foods, microwave-meals, refrigerated-meals\n",
      "condiments, sauces, mustards, groceries\n",
      "dairies, desserts, dairy-desserts, chocolate-desserts, sweet-mousses, dairy-mousses, chocolate-mousses\n",
      "snacks, sweet-snacks, cocoa-and-its-products, chocolates\n",
      "plant-based-foods-and-beverages, plant-based-foods, fruits-and-vegetables-based-foods, fruits-based-foods, fruits, tropical-fruits, bananas\n",
      "plant-based-foods-and-beverages, beverages, fermented-foods, hot-beverages, plant-based-beverages, teas, fermented-drinks, non-alcoholic-beverages, tea-based-beverages, kombuchas\n",
      "snacks, sweet-snacks, biscuits-and-cakes, cakes\n",
      "desserts, frozen-foods, frozen-desserts, ice-pops\n",
      "dairies, fermented-foods, fermented-milk-products, creams, fermented-creams, sour-creams\n",
      "snacks, sweet-snacks, cocoa-and-its-products, chocolates, chocolates-with-sweeteners, dark-chocolates, dark-chocolates-with-sweeteners\n",
      "viande\n",
      "meals\n",
      "meals, pasta-dishes, prepared-salads, pasta-salads, salads-with-meat, pasta-salad-with-meat\n",
      "plant-based-foods-and-beverages, plant-based-foods, fruits-and-vegetables-based-foods, canned-foods, vegetables-based-foods, canned-plant-based-foods, canned-vegetables, canned-peas-and-carrots\n",
      "meats-and-their-products, meats, pork-and-its-products, pork, pork-belly\n",
      "fats\n",
      "dietary-supplements\n",
      "dairies, milks, lactose-free-milk\n",
      "dairies\n",
      "beverages-and-beverages-preparations, beverages, dairies, fermented-foods, fermented-milk-products, dairy-drinks, fermented-drinks, fermented-milk-drinks, kefir\n",
      "plant-based-foods-and-beverages, beverages, plant-based-beverages, vegetable-based-foods-and-beverages, juices-and-nectars, vegetable-based-beverages, vegetable-juices\n",
      "seafood\n",
      "dairies, fermented-foods, fermented-milk-products, cheeses, cow-cheeses, spanish-cheeses\n",
      "plant-based-foods-and-beverages, plant-based-foods, cereals-and-potatoes, breads, flatbreads, white-breads, wheat-breads, wheat-flatbreads\n",
      "meats-and-their-products, meats, prepared-meats, sausages\n",
      "snacks, sweet-snacks, cocoa-and-its-products, chocolates, milk-chocolates, rice-chocolates, rice-milk-chocolates\n",
      "plant-based-foods-and-beverages, plant-based-foods, fruits-and-vegetables-based-foods, meals, soups, vegetable-soups\n",
      "beverages, sweetened-beverages\n",
      "snacks, sweet-snacks, cocoa-and-its-products, confectioneries, chocolate-candies, bonbons, milk-chocolate-candies, peanut-butter-cups\n",
      "snacks, sweet-snacks, cocoa-and-its-products, confectioneries, chocolate-candies\n",
      "beverages, alcoholic-beverages, beers, ales, pale-ales\n",
      "seafood, fishes-and-their-products, fishes, meals, meals-with-fish, smoked-fishes, european-sprat\n",
      "plant-based-foods-and-beverages, plant-based-foods, cereals-and-potatoes, seeds, cereals-and-their-products, cereal-grains, rices\n",
      "plant-based-foods-and-beverages, plant-based-foods, fruits-and-vegetables-based-foods, vegetables-based-foods, tomatoes-and-their-products\n",
      "meats-and-their-products, meats, chicken-and-its-products, poultries, chickens, chicken-breasts\n",
      "plant-based-foods-and-beverages, plant-based-foods, breakfasts, spreads, plant-based-spreads, sweet-spreads, fruit-and-vegetable-preserves\n",
      "plant-based-foods-and-beverages, plant-based-foods, snacks, sweet-snacks, nuts-and-their-products, bars, nut-bars, peanut-bars\n",
      "meats-and-their-products, meats, pork-and-its-products, pork, pork-roasts\n",
      "dairies, creams, uht-creams, unfermented-creams\n",
      "snacks, meats-and-their-products, salty-snacks, spreads, appetizers, meats, prepared-meats, salted-spreads\n",
      "beverages, alcoholic-beverages, distilled-beverages, hard-liquors, eaux-de-vie, whisky, scotch-whisky\n",
      "meats-and-their-products, meat-preparations, meats, chicken-and-its-products, poultries, chicken-preparations, breaded-products, chickens, cooked-poultries, cooked-chicken, poultry-nuggets, breaded-chicken, chicken-nuggets\n"
     ]
    }
   ],
   "source": [
    "uniques_categories = df['categories'].unique()\n",
    "uniques_categories_list = list(uniques_categories)\n",
    "for value in uniques_categories_list:\n",
    "    print(value)"
   ]
  },
  {
   "cell_type": "code",
   "execution_count": 30,
   "metadata": {},
   "outputs": [
    {
     "name": "stdout",
     "output_type": "stream",
     "text": [
      "0.0\n",
      "0.1111111111\n",
      "0.2222222222\n",
      "0.3333333333\n",
      "0.6666666667\n",
      "0.5555555556\n",
      "0.4444444444\n",
      "1.0\n",
      "0.8888888889\n",
      "0.7777777778\n"
     ]
    }
   ],
   "source": [
    "uniques_labels_note = df['labels_note'].unique()\n",
    "uniques_labels_note_list = list(uniques_labels_note)\n",
    "for value in uniques_labels_note_list:\n",
    "    print(value)"
   ]
  },
  {
   "cell_type": "code",
   "execution_count": 31,
   "metadata": {},
   "outputs": [
    {
     "data": {
      "text/html": [
       "<div>\n",
       "<style scoped>\n",
       "    .dataframe tbody tr th:only-of-type {\n",
       "        vertical-align: middle;\n",
       "    }\n",
       "\n",
       "    .dataframe tbody tr th {\n",
       "        vertical-align: top;\n",
       "    }\n",
       "\n",
       "    .dataframe thead th {\n",
       "        text-align: right;\n",
       "    }\n",
       "</style>\n",
       "<table border=\"1\" class=\"dataframe\">\n",
       "  <thead>\n",
       "    <tr style=\"text-align: right;\">\n",
       "      <th></th>\n",
       "      <th>groups</th>\n",
       "      <th>ecoscore_tags</th>\n",
       "      <th>ecoscore_score</th>\n",
       "      <th>countries</th>\n",
       "      <th>labels_note</th>\n",
       "    </tr>\n",
       "  </thead>\n",
       "  <tbody>\n",
       "    <tr>\n",
       "      <th>count</th>\n",
       "      <td>196.000000</td>\n",
       "      <td>131.000000</td>\n",
       "      <td>500.000000</td>\n",
       "      <td>447.000000</td>\n",
       "      <td>500.000000</td>\n",
       "    </tr>\n",
       "    <tr>\n",
       "      <th>mean</th>\n",
       "      <td>0.389739</td>\n",
       "      <td>0.482824</td>\n",
       "      <td>49.526000</td>\n",
       "      <td>0.540454</td>\n",
       "      <td>0.066667</td>\n",
       "    </tr>\n",
       "    <tr>\n",
       "      <th>std</th>\n",
       "      <td>0.299824</td>\n",
       "      <td>0.292849</td>\n",
       "      <td>12.134571</td>\n",
       "      <td>0.337666</td>\n",
       "      <td>0.142608</td>\n",
       "    </tr>\n",
       "    <tr>\n",
       "      <th>min</th>\n",
       "      <td>0.000000</td>\n",
       "      <td>0.000000</td>\n",
       "      <td>0.000000</td>\n",
       "      <td>0.000000</td>\n",
       "      <td>0.000000</td>\n",
       "    </tr>\n",
       "    <tr>\n",
       "      <th>25%</th>\n",
       "      <td>0.111111</td>\n",
       "      <td>0.250000</td>\n",
       "      <td>49.000000</td>\n",
       "      <td>0.311475</td>\n",
       "      <td>0.000000</td>\n",
       "    </tr>\n",
       "    <tr>\n",
       "      <th>50%</th>\n",
       "      <td>0.444444</td>\n",
       "      <td>0.500000</td>\n",
       "      <td>49.000000</td>\n",
       "      <td>0.366120</td>\n",
       "      <td>0.000000</td>\n",
       "    </tr>\n",
       "    <tr>\n",
       "      <th>75%</th>\n",
       "      <td>0.666667</td>\n",
       "      <td>0.750000</td>\n",
       "      <td>49.000000</td>\n",
       "      <td>0.885587</td>\n",
       "      <td>0.111111</td>\n",
       "    </tr>\n",
       "    <tr>\n",
       "      <th>max</th>\n",
       "      <td>1.000000</td>\n",
       "      <td>1.000000</td>\n",
       "      <td>100.000000</td>\n",
       "      <td>1.000000</td>\n",
       "      <td>1.000000</td>\n",
       "    </tr>\n",
       "  </tbody>\n",
       "</table>\n",
       "</div>"
      ],
      "text/plain": [
       "           groups  ecoscore_tags  ecoscore_score   countries  labels_note\n",
       "count  196.000000     131.000000      500.000000  447.000000   500.000000\n",
       "mean     0.389739       0.482824       49.526000    0.540454     0.066667\n",
       "std      0.299824       0.292849       12.134571    0.337666     0.142608\n",
       "min      0.000000       0.000000        0.000000    0.000000     0.000000\n",
       "25%      0.111111       0.250000       49.000000    0.311475     0.000000\n",
       "50%      0.444444       0.500000       49.000000    0.366120     0.000000\n",
       "75%      0.666667       0.750000       49.000000    0.885587     0.111111\n",
       "max      1.000000       1.000000      100.000000    1.000000     1.000000"
      ]
     },
     "execution_count": 31,
     "metadata": {},
     "output_type": "execute_result"
    }
   ],
   "source": [
    "df.describe()"
   ]
  },
  {
   "cell_type": "code",
   "execution_count": 32,
   "metadata": {},
   "outputs": [],
   "source": [
    "def load_jsonl_to_dataframe(file_path):\n",
    "    data = []\n",
    "    with open(file_path, 'r') as file:\n",
    "        for line in file:\n",
    "            data.append(json.loads(line))\n",
    "    df = pd.DataFrame(data)\n",
    "    return df\n",
    "\n",
    "def create_treemap_for_column(df, column_name):\n",
    "    if column_name not in df.columns:\n",
    "        print(f\"warning, column: '{column_name}'does not exists\")\n",
    "        return\n",
    "    data = df[column_name].value_counts().reset_index()\n",
    "    data.columns = [column_name, 'count']\n",
    "    fig = go.Figure(go.Treemap(\n",
    "        labels=data[column_name],\n",
    "        parents=[\"\"] * len(data),\n",
    "        values=data['count'],\n",
    "        textinfo='label+value',  \n",
    "    ))\n",
    "    fig.update_layout(\n",
    "        title=f'treemap column: {column_name}',\n",
    "        paper_bgcolor='black',  \n",
    "        plot_bgcolor='grey',   \n",
    "        font_color='white'      \n",
    "    )\n",
    "    fig.show()"
   ]
  },
  {
   "cell_type": "code",
   "execution_count": 33,
   "metadata": {},
   "outputs": [
    {
     "data": {
      "application/vnd.plotly.v1+json": {
       "config": {
        "plotlyServerURL": "https://plot.ly"
       },
       "data": [
        {
         "labels": [
          0.25,
          0.75,
          0.5,
          1,
          0,
          0.3333333333,
          0.6666666667
         ],
         "parents": [
          "",
          "",
          "",
          "",
          "",
          "",
          ""
         ],
         "textinfo": "label+value",
         "type": "treemap",
         "values": [
          234764,
          158255,
          145405,
          90827,
          61237,
          4,
          2
         ]
        }
       ],
       "layout": {
        "font": {
         "color": "white"
        },
        "paper_bgcolor": "black",
        "plot_bgcolor": "grey",
        "template": {
         "data": {
          "bar": [
           {
            "error_x": {
             "color": "#2a3f5f"
            },
            "error_y": {
             "color": "#2a3f5f"
            },
            "marker": {
             "line": {
              "color": "#E5ECF6",
              "width": 0.5
             },
             "pattern": {
              "fillmode": "overlay",
              "size": 10,
              "solidity": 0.2
             }
            },
            "type": "bar"
           }
          ],
          "barpolar": [
           {
            "marker": {
             "line": {
              "color": "#E5ECF6",
              "width": 0.5
             },
             "pattern": {
              "fillmode": "overlay",
              "size": 10,
              "solidity": 0.2
             }
            },
            "type": "barpolar"
           }
          ],
          "carpet": [
           {
            "aaxis": {
             "endlinecolor": "#2a3f5f",
             "gridcolor": "white",
             "linecolor": "white",
             "minorgridcolor": "white",
             "startlinecolor": "#2a3f5f"
            },
            "baxis": {
             "endlinecolor": "#2a3f5f",
             "gridcolor": "white",
             "linecolor": "white",
             "minorgridcolor": "white",
             "startlinecolor": "#2a3f5f"
            },
            "type": "carpet"
           }
          ],
          "choropleth": [
           {
            "colorbar": {
             "outlinewidth": 0,
             "ticks": ""
            },
            "type": "choropleth"
           }
          ],
          "contour": [
           {
            "colorbar": {
             "outlinewidth": 0,
             "ticks": ""
            },
            "colorscale": [
             [
              0,
              "#0d0887"
             ],
             [
              0.1111111111111111,
              "#46039f"
             ],
             [
              0.2222222222222222,
              "#7201a8"
             ],
             [
              0.3333333333333333,
              "#9c179e"
             ],
             [
              0.4444444444444444,
              "#bd3786"
             ],
             [
              0.5555555555555556,
              "#d8576b"
             ],
             [
              0.6666666666666666,
              "#ed7953"
             ],
             [
              0.7777777777777778,
              "#fb9f3a"
             ],
             [
              0.8888888888888888,
              "#fdca26"
             ],
             [
              1,
              "#f0f921"
             ]
            ],
            "type": "contour"
           }
          ],
          "contourcarpet": [
           {
            "colorbar": {
             "outlinewidth": 0,
             "ticks": ""
            },
            "type": "contourcarpet"
           }
          ],
          "heatmap": [
           {
            "colorbar": {
             "outlinewidth": 0,
             "ticks": ""
            },
            "colorscale": [
             [
              0,
              "#0d0887"
             ],
             [
              0.1111111111111111,
              "#46039f"
             ],
             [
              0.2222222222222222,
              "#7201a8"
             ],
             [
              0.3333333333333333,
              "#9c179e"
             ],
             [
              0.4444444444444444,
              "#bd3786"
             ],
             [
              0.5555555555555556,
              "#d8576b"
             ],
             [
              0.6666666666666666,
              "#ed7953"
             ],
             [
              0.7777777777777778,
              "#fb9f3a"
             ],
             [
              0.8888888888888888,
              "#fdca26"
             ],
             [
              1,
              "#f0f921"
             ]
            ],
            "type": "heatmap"
           }
          ],
          "heatmapgl": [
           {
            "colorbar": {
             "outlinewidth": 0,
             "ticks": ""
            },
            "colorscale": [
             [
              0,
              "#0d0887"
             ],
             [
              0.1111111111111111,
              "#46039f"
             ],
             [
              0.2222222222222222,
              "#7201a8"
             ],
             [
              0.3333333333333333,
              "#9c179e"
             ],
             [
              0.4444444444444444,
              "#bd3786"
             ],
             [
              0.5555555555555556,
              "#d8576b"
             ],
             [
              0.6666666666666666,
              "#ed7953"
             ],
             [
              0.7777777777777778,
              "#fb9f3a"
             ],
             [
              0.8888888888888888,
              "#fdca26"
             ],
             [
              1,
              "#f0f921"
             ]
            ],
            "type": "heatmapgl"
           }
          ],
          "histogram": [
           {
            "marker": {
             "pattern": {
              "fillmode": "overlay",
              "size": 10,
              "solidity": 0.2
             }
            },
            "type": "histogram"
           }
          ],
          "histogram2d": [
           {
            "colorbar": {
             "outlinewidth": 0,
             "ticks": ""
            },
            "colorscale": [
             [
              0,
              "#0d0887"
             ],
             [
              0.1111111111111111,
              "#46039f"
             ],
             [
              0.2222222222222222,
              "#7201a8"
             ],
             [
              0.3333333333333333,
              "#9c179e"
             ],
             [
              0.4444444444444444,
              "#bd3786"
             ],
             [
              0.5555555555555556,
              "#d8576b"
             ],
             [
              0.6666666666666666,
              "#ed7953"
             ],
             [
              0.7777777777777778,
              "#fb9f3a"
             ],
             [
              0.8888888888888888,
              "#fdca26"
             ],
             [
              1,
              "#f0f921"
             ]
            ],
            "type": "histogram2d"
           }
          ],
          "histogram2dcontour": [
           {
            "colorbar": {
             "outlinewidth": 0,
             "ticks": ""
            },
            "colorscale": [
             [
              0,
              "#0d0887"
             ],
             [
              0.1111111111111111,
              "#46039f"
             ],
             [
              0.2222222222222222,
              "#7201a8"
             ],
             [
              0.3333333333333333,
              "#9c179e"
             ],
             [
              0.4444444444444444,
              "#bd3786"
             ],
             [
              0.5555555555555556,
              "#d8576b"
             ],
             [
              0.6666666666666666,
              "#ed7953"
             ],
             [
              0.7777777777777778,
              "#fb9f3a"
             ],
             [
              0.8888888888888888,
              "#fdca26"
             ],
             [
              1,
              "#f0f921"
             ]
            ],
            "type": "histogram2dcontour"
           }
          ],
          "mesh3d": [
           {
            "colorbar": {
             "outlinewidth": 0,
             "ticks": ""
            },
            "type": "mesh3d"
           }
          ],
          "parcoords": [
           {
            "line": {
             "colorbar": {
              "outlinewidth": 0,
              "ticks": ""
             }
            },
            "type": "parcoords"
           }
          ],
          "pie": [
           {
            "automargin": true,
            "type": "pie"
           }
          ],
          "scatter": [
           {
            "fillpattern": {
             "fillmode": "overlay",
             "size": 10,
             "solidity": 0.2
            },
            "type": "scatter"
           }
          ],
          "scatter3d": [
           {
            "line": {
             "colorbar": {
              "outlinewidth": 0,
              "ticks": ""
             }
            },
            "marker": {
             "colorbar": {
              "outlinewidth": 0,
              "ticks": ""
             }
            },
            "type": "scatter3d"
           }
          ],
          "scattercarpet": [
           {
            "marker": {
             "colorbar": {
              "outlinewidth": 0,
              "ticks": ""
             }
            },
            "type": "scattercarpet"
           }
          ],
          "scattergeo": [
           {
            "marker": {
             "colorbar": {
              "outlinewidth": 0,
              "ticks": ""
             }
            },
            "type": "scattergeo"
           }
          ],
          "scattergl": [
           {
            "marker": {
             "colorbar": {
              "outlinewidth": 0,
              "ticks": ""
             }
            },
            "type": "scattergl"
           }
          ],
          "scattermapbox": [
           {
            "marker": {
             "colorbar": {
              "outlinewidth": 0,
              "ticks": ""
             }
            },
            "type": "scattermapbox"
           }
          ],
          "scatterpolar": [
           {
            "marker": {
             "colorbar": {
              "outlinewidth": 0,
              "ticks": ""
             }
            },
            "type": "scatterpolar"
           }
          ],
          "scatterpolargl": [
           {
            "marker": {
             "colorbar": {
              "outlinewidth": 0,
              "ticks": ""
             }
            },
            "type": "scatterpolargl"
           }
          ],
          "scatterternary": [
           {
            "marker": {
             "colorbar": {
              "outlinewidth": 0,
              "ticks": ""
             }
            },
            "type": "scatterternary"
           }
          ],
          "surface": [
           {
            "colorbar": {
             "outlinewidth": 0,
             "ticks": ""
            },
            "colorscale": [
             [
              0,
              "#0d0887"
             ],
             [
              0.1111111111111111,
              "#46039f"
             ],
             [
              0.2222222222222222,
              "#7201a8"
             ],
             [
              0.3333333333333333,
              "#9c179e"
             ],
             [
              0.4444444444444444,
              "#bd3786"
             ],
             [
              0.5555555555555556,
              "#d8576b"
             ],
             [
              0.6666666666666666,
              "#ed7953"
             ],
             [
              0.7777777777777778,
              "#fb9f3a"
             ],
             [
              0.8888888888888888,
              "#fdca26"
             ],
             [
              1,
              "#f0f921"
             ]
            ],
            "type": "surface"
           }
          ],
          "table": [
           {
            "cells": {
             "fill": {
              "color": "#EBF0F8"
             },
             "line": {
              "color": "white"
             }
            },
            "header": {
             "fill": {
              "color": "#C8D4E3"
             },
             "line": {
              "color": "white"
             }
            },
            "type": "table"
           }
          ]
         },
         "layout": {
          "annotationdefaults": {
           "arrowcolor": "#2a3f5f",
           "arrowhead": 0,
           "arrowwidth": 1
          },
          "autotypenumbers": "strict",
          "coloraxis": {
           "colorbar": {
            "outlinewidth": 0,
            "ticks": ""
           }
          },
          "colorscale": {
           "diverging": [
            [
             0,
             "#8e0152"
            ],
            [
             0.1,
             "#c51b7d"
            ],
            [
             0.2,
             "#de77ae"
            ],
            [
             0.3,
             "#f1b6da"
            ],
            [
             0.4,
             "#fde0ef"
            ],
            [
             0.5,
             "#f7f7f7"
            ],
            [
             0.6,
             "#e6f5d0"
            ],
            [
             0.7,
             "#b8e186"
            ],
            [
             0.8,
             "#7fbc41"
            ],
            [
             0.9,
             "#4d9221"
            ],
            [
             1,
             "#276419"
            ]
           ],
           "sequential": [
            [
             0,
             "#0d0887"
            ],
            [
             0.1111111111111111,
             "#46039f"
            ],
            [
             0.2222222222222222,
             "#7201a8"
            ],
            [
             0.3333333333333333,
             "#9c179e"
            ],
            [
             0.4444444444444444,
             "#bd3786"
            ],
            [
             0.5555555555555556,
             "#d8576b"
            ],
            [
             0.6666666666666666,
             "#ed7953"
            ],
            [
             0.7777777777777778,
             "#fb9f3a"
            ],
            [
             0.8888888888888888,
             "#fdca26"
            ],
            [
             1,
             "#f0f921"
            ]
           ],
           "sequentialminus": [
            [
             0,
             "#0d0887"
            ],
            [
             0.1111111111111111,
             "#46039f"
            ],
            [
             0.2222222222222222,
             "#7201a8"
            ],
            [
             0.3333333333333333,
             "#9c179e"
            ],
            [
             0.4444444444444444,
             "#bd3786"
            ],
            [
             0.5555555555555556,
             "#d8576b"
            ],
            [
             0.6666666666666666,
             "#ed7953"
            ],
            [
             0.7777777777777778,
             "#fb9f3a"
            ],
            [
             0.8888888888888888,
             "#fdca26"
            ],
            [
             1,
             "#f0f921"
            ]
           ]
          },
          "colorway": [
           "#636efa",
           "#EF553B",
           "#00cc96",
           "#ab63fa",
           "#FFA15A",
           "#19d3f3",
           "#FF6692",
           "#B6E880",
           "#FF97FF",
           "#FECB52"
          ],
          "font": {
           "color": "#2a3f5f"
          },
          "geo": {
           "bgcolor": "white",
           "lakecolor": "white",
           "landcolor": "#E5ECF6",
           "showlakes": true,
           "showland": true,
           "subunitcolor": "white"
          },
          "hoverlabel": {
           "align": "left"
          },
          "hovermode": "closest",
          "mapbox": {
           "style": "light"
          },
          "paper_bgcolor": "white",
          "plot_bgcolor": "#E5ECF6",
          "polar": {
           "angularaxis": {
            "gridcolor": "white",
            "linecolor": "white",
            "ticks": ""
           },
           "bgcolor": "#E5ECF6",
           "radialaxis": {
            "gridcolor": "white",
            "linecolor": "white",
            "ticks": ""
           }
          },
          "scene": {
           "xaxis": {
            "backgroundcolor": "#E5ECF6",
            "gridcolor": "white",
            "gridwidth": 2,
            "linecolor": "white",
            "showbackground": true,
            "ticks": "",
            "zerolinecolor": "white"
           },
           "yaxis": {
            "backgroundcolor": "#E5ECF6",
            "gridcolor": "white",
            "gridwidth": 2,
            "linecolor": "white",
            "showbackground": true,
            "ticks": "",
            "zerolinecolor": "white"
           },
           "zaxis": {
            "backgroundcolor": "#E5ECF6",
            "gridcolor": "white",
            "gridwidth": 2,
            "linecolor": "white",
            "showbackground": true,
            "ticks": "",
            "zerolinecolor": "white"
           }
          },
          "shapedefaults": {
           "line": {
            "color": "#2a3f5f"
           }
          },
          "ternary": {
           "aaxis": {
            "gridcolor": "white",
            "linecolor": "white",
            "ticks": ""
           },
           "baxis": {
            "gridcolor": "white",
            "linecolor": "white",
            "ticks": ""
           },
           "bgcolor": "#E5ECF6",
           "caxis": {
            "gridcolor": "white",
            "linecolor": "white",
            "ticks": ""
           }
          },
          "title": {
           "x": 0.05
          },
          "xaxis": {
           "automargin": true,
           "gridcolor": "white",
           "linecolor": "white",
           "ticks": "",
           "title": {
            "standoff": 15
           },
           "zerolinecolor": "white",
           "zerolinewidth": 2
          },
          "yaxis": {
           "automargin": true,
           "gridcolor": "white",
           "linecolor": "white",
           "ticks": "",
           "title": {
            "standoff": 15
           },
           "zerolinecolor": "white",
           "zerolinewidth": 2
          }
         }
        },
        "title": {
         "text": "treemap column: ecoscore_tags"
        }
       }
      }
     },
     "metadata": {},
     "output_type": "display_data"
    },
    {
     "data": {
      "application/vnd.plotly.v1+json": {
       "config": {
        "plotlyServerURL": "https://plot.ly"
       },
       "data": [
        {
         "labels": [
          49,
          79,
          67,
          72,
          34,
          0,
          77,
          21,
          39,
          42,
          75,
          27,
          50,
          15,
          37,
          43,
          44,
          60,
          76,
          36,
          78,
          54,
          25,
          12,
          45,
          35,
          38,
          19,
          74,
          100,
          64,
          70,
          68,
          62,
          71,
          16,
          30,
          22,
          58,
          57,
          55,
          18,
          73,
          59,
          29,
          66,
          51,
          48,
          47,
          40,
          32,
          28,
          4,
          69,
          53,
          23,
          52,
          41,
          56,
          65,
          63,
          31,
          24,
          9,
          46,
          26,
          33,
          20,
          2,
          17,
          6,
          14,
          5,
          8,
          61,
          81,
          3,
          85,
          13,
          80,
          91,
          1,
          83,
          82,
          90,
          11,
          10,
          84,
          88,
          89,
          92,
          94,
          87,
          93,
          7,
          86,
          96,
          95,
          99,
          97,
          98,
          78.4170138324
         ],
         "parents": [
          "",
          "",
          "",
          "",
          "",
          "",
          "",
          "",
          "",
          "",
          "",
          "",
          "",
          "",
          "",
          "",
          "",
          "",
          "",
          "",
          "",
          "",
          "",
          "",
          "",
          "",
          "",
          "",
          "",
          "",
          "",
          "",
          "",
          "",
          "",
          "",
          "",
          "",
          "",
          "",
          "",
          "",
          "",
          "",
          "",
          "",
          "",
          "",
          "",
          "",
          "",
          "",
          "",
          "",
          "",
          "",
          "",
          "",
          "",
          "",
          "",
          "",
          "",
          "",
          "",
          "",
          "",
          "",
          "",
          "",
          "",
          "",
          "",
          "",
          "",
          "",
          "",
          "",
          "",
          "",
          "",
          "",
          "",
          "",
          "",
          "",
          "",
          "",
          "",
          "",
          "",
          "",
          "",
          "",
          "",
          "",
          "",
          "",
          "",
          "",
          "",
          ""
         ],
         "textinfo": "label+value",
         "type": "treemap",
         "values": [
          2059112,
          48082,
          34835,
          25534,
          23652,
          16015,
          13986,
          12957,
          12755,
          12200,
          12020,
          11726,
          11314,
          11097,
          10641,
          10027,
          9834,
          9804,
          9578,
          9267,
          9240,
          9066,
          8987,
          8647,
          8458,
          8301,
          8284,
          8277,
          8128,
          8026,
          7746,
          7396,
          7279,
          7230,
          7205,
          7059,
          7037,
          6739,
          6577,
          6311,
          6060,
          5897,
          5697,
          5674,
          5545,
          5514,
          5513,
          5468,
          5395,
          5383,
          5304,
          4955,
          4936,
          4919,
          4842,
          4639,
          4444,
          4310,
          4309,
          4110,
          4108,
          4105,
          3823,
          3603,
          3334,
          3307,
          3200,
          3034,
          3029,
          2898,
          2791,
          2604,
          2576,
          2565,
          2357,
          2263,
          2091,
          2084,
          1908,
          1845,
          1747,
          1671,
          1655,
          1529,
          1344,
          1219,
          1157,
          1127,
          1098,
          1028,
          1009,
          970,
          923,
          861,
          785,
          784,
          680,
          662,
          650,
          540,
          531,
          1
         ]
        }
       ],
       "layout": {
        "font": {
         "color": "white"
        },
        "paper_bgcolor": "black",
        "plot_bgcolor": "grey",
        "template": {
         "data": {
          "bar": [
           {
            "error_x": {
             "color": "#2a3f5f"
            },
            "error_y": {
             "color": "#2a3f5f"
            },
            "marker": {
             "line": {
              "color": "#E5ECF6",
              "width": 0.5
             },
             "pattern": {
              "fillmode": "overlay",
              "size": 10,
              "solidity": 0.2
             }
            },
            "type": "bar"
           }
          ],
          "barpolar": [
           {
            "marker": {
             "line": {
              "color": "#E5ECF6",
              "width": 0.5
             },
             "pattern": {
              "fillmode": "overlay",
              "size": 10,
              "solidity": 0.2
             }
            },
            "type": "barpolar"
           }
          ],
          "carpet": [
           {
            "aaxis": {
             "endlinecolor": "#2a3f5f",
             "gridcolor": "white",
             "linecolor": "white",
             "minorgridcolor": "white",
             "startlinecolor": "#2a3f5f"
            },
            "baxis": {
             "endlinecolor": "#2a3f5f",
             "gridcolor": "white",
             "linecolor": "white",
             "minorgridcolor": "white",
             "startlinecolor": "#2a3f5f"
            },
            "type": "carpet"
           }
          ],
          "choropleth": [
           {
            "colorbar": {
             "outlinewidth": 0,
             "ticks": ""
            },
            "type": "choropleth"
           }
          ],
          "contour": [
           {
            "colorbar": {
             "outlinewidth": 0,
             "ticks": ""
            },
            "colorscale": [
             [
              0,
              "#0d0887"
             ],
             [
              0.1111111111111111,
              "#46039f"
             ],
             [
              0.2222222222222222,
              "#7201a8"
             ],
             [
              0.3333333333333333,
              "#9c179e"
             ],
             [
              0.4444444444444444,
              "#bd3786"
             ],
             [
              0.5555555555555556,
              "#d8576b"
             ],
             [
              0.6666666666666666,
              "#ed7953"
             ],
             [
              0.7777777777777778,
              "#fb9f3a"
             ],
             [
              0.8888888888888888,
              "#fdca26"
             ],
             [
              1,
              "#f0f921"
             ]
            ],
            "type": "contour"
           }
          ],
          "contourcarpet": [
           {
            "colorbar": {
             "outlinewidth": 0,
             "ticks": ""
            },
            "type": "contourcarpet"
           }
          ],
          "heatmap": [
           {
            "colorbar": {
             "outlinewidth": 0,
             "ticks": ""
            },
            "colorscale": [
             [
              0,
              "#0d0887"
             ],
             [
              0.1111111111111111,
              "#46039f"
             ],
             [
              0.2222222222222222,
              "#7201a8"
             ],
             [
              0.3333333333333333,
              "#9c179e"
             ],
             [
              0.4444444444444444,
              "#bd3786"
             ],
             [
              0.5555555555555556,
              "#d8576b"
             ],
             [
              0.6666666666666666,
              "#ed7953"
             ],
             [
              0.7777777777777778,
              "#fb9f3a"
             ],
             [
              0.8888888888888888,
              "#fdca26"
             ],
             [
              1,
              "#f0f921"
             ]
            ],
            "type": "heatmap"
           }
          ],
          "heatmapgl": [
           {
            "colorbar": {
             "outlinewidth": 0,
             "ticks": ""
            },
            "colorscale": [
             [
              0,
              "#0d0887"
             ],
             [
              0.1111111111111111,
              "#46039f"
             ],
             [
              0.2222222222222222,
              "#7201a8"
             ],
             [
              0.3333333333333333,
              "#9c179e"
             ],
             [
              0.4444444444444444,
              "#bd3786"
             ],
             [
              0.5555555555555556,
              "#d8576b"
             ],
             [
              0.6666666666666666,
              "#ed7953"
             ],
             [
              0.7777777777777778,
              "#fb9f3a"
             ],
             [
              0.8888888888888888,
              "#fdca26"
             ],
             [
              1,
              "#f0f921"
             ]
            ],
            "type": "heatmapgl"
           }
          ],
          "histogram": [
           {
            "marker": {
             "pattern": {
              "fillmode": "overlay",
              "size": 10,
              "solidity": 0.2
             }
            },
            "type": "histogram"
           }
          ],
          "histogram2d": [
           {
            "colorbar": {
             "outlinewidth": 0,
             "ticks": ""
            },
            "colorscale": [
             [
              0,
              "#0d0887"
             ],
             [
              0.1111111111111111,
              "#46039f"
             ],
             [
              0.2222222222222222,
              "#7201a8"
             ],
             [
              0.3333333333333333,
              "#9c179e"
             ],
             [
              0.4444444444444444,
              "#bd3786"
             ],
             [
              0.5555555555555556,
              "#d8576b"
             ],
             [
              0.6666666666666666,
              "#ed7953"
             ],
             [
              0.7777777777777778,
              "#fb9f3a"
             ],
             [
              0.8888888888888888,
              "#fdca26"
             ],
             [
              1,
              "#f0f921"
             ]
            ],
            "type": "histogram2d"
           }
          ],
          "histogram2dcontour": [
           {
            "colorbar": {
             "outlinewidth": 0,
             "ticks": ""
            },
            "colorscale": [
             [
              0,
              "#0d0887"
             ],
             [
              0.1111111111111111,
              "#46039f"
             ],
             [
              0.2222222222222222,
              "#7201a8"
             ],
             [
              0.3333333333333333,
              "#9c179e"
             ],
             [
              0.4444444444444444,
              "#bd3786"
             ],
             [
              0.5555555555555556,
              "#d8576b"
             ],
             [
              0.6666666666666666,
              "#ed7953"
             ],
             [
              0.7777777777777778,
              "#fb9f3a"
             ],
             [
              0.8888888888888888,
              "#fdca26"
             ],
             [
              1,
              "#f0f921"
             ]
            ],
            "type": "histogram2dcontour"
           }
          ],
          "mesh3d": [
           {
            "colorbar": {
             "outlinewidth": 0,
             "ticks": ""
            },
            "type": "mesh3d"
           }
          ],
          "parcoords": [
           {
            "line": {
             "colorbar": {
              "outlinewidth": 0,
              "ticks": ""
             }
            },
            "type": "parcoords"
           }
          ],
          "pie": [
           {
            "automargin": true,
            "type": "pie"
           }
          ],
          "scatter": [
           {
            "fillpattern": {
             "fillmode": "overlay",
             "size": 10,
             "solidity": 0.2
            },
            "type": "scatter"
           }
          ],
          "scatter3d": [
           {
            "line": {
             "colorbar": {
              "outlinewidth": 0,
              "ticks": ""
             }
            },
            "marker": {
             "colorbar": {
              "outlinewidth": 0,
              "ticks": ""
             }
            },
            "type": "scatter3d"
           }
          ],
          "scattercarpet": [
           {
            "marker": {
             "colorbar": {
              "outlinewidth": 0,
              "ticks": ""
             }
            },
            "type": "scattercarpet"
           }
          ],
          "scattergeo": [
           {
            "marker": {
             "colorbar": {
              "outlinewidth": 0,
              "ticks": ""
             }
            },
            "type": "scattergeo"
           }
          ],
          "scattergl": [
           {
            "marker": {
             "colorbar": {
              "outlinewidth": 0,
              "ticks": ""
             }
            },
            "type": "scattergl"
           }
          ],
          "scattermapbox": [
           {
            "marker": {
             "colorbar": {
              "outlinewidth": 0,
              "ticks": ""
             }
            },
            "type": "scattermapbox"
           }
          ],
          "scatterpolar": [
           {
            "marker": {
             "colorbar": {
              "outlinewidth": 0,
              "ticks": ""
             }
            },
            "type": "scatterpolar"
           }
          ],
          "scatterpolargl": [
           {
            "marker": {
             "colorbar": {
              "outlinewidth": 0,
              "ticks": ""
             }
            },
            "type": "scatterpolargl"
           }
          ],
          "scatterternary": [
           {
            "marker": {
             "colorbar": {
              "outlinewidth": 0,
              "ticks": ""
             }
            },
            "type": "scatterternary"
           }
          ],
          "surface": [
           {
            "colorbar": {
             "outlinewidth": 0,
             "ticks": ""
            },
            "colorscale": [
             [
              0,
              "#0d0887"
             ],
             [
              0.1111111111111111,
              "#46039f"
             ],
             [
              0.2222222222222222,
              "#7201a8"
             ],
             [
              0.3333333333333333,
              "#9c179e"
             ],
             [
              0.4444444444444444,
              "#bd3786"
             ],
             [
              0.5555555555555556,
              "#d8576b"
             ],
             [
              0.6666666666666666,
              "#ed7953"
             ],
             [
              0.7777777777777778,
              "#fb9f3a"
             ],
             [
              0.8888888888888888,
              "#fdca26"
             ],
             [
              1,
              "#f0f921"
             ]
            ],
            "type": "surface"
           }
          ],
          "table": [
           {
            "cells": {
             "fill": {
              "color": "#EBF0F8"
             },
             "line": {
              "color": "white"
             }
            },
            "header": {
             "fill": {
              "color": "#C8D4E3"
             },
             "line": {
              "color": "white"
             }
            },
            "type": "table"
           }
          ]
         },
         "layout": {
          "annotationdefaults": {
           "arrowcolor": "#2a3f5f",
           "arrowhead": 0,
           "arrowwidth": 1
          },
          "autotypenumbers": "strict",
          "coloraxis": {
           "colorbar": {
            "outlinewidth": 0,
            "ticks": ""
           }
          },
          "colorscale": {
           "diverging": [
            [
             0,
             "#8e0152"
            ],
            [
             0.1,
             "#c51b7d"
            ],
            [
             0.2,
             "#de77ae"
            ],
            [
             0.3,
             "#f1b6da"
            ],
            [
             0.4,
             "#fde0ef"
            ],
            [
             0.5,
             "#f7f7f7"
            ],
            [
             0.6,
             "#e6f5d0"
            ],
            [
             0.7,
             "#b8e186"
            ],
            [
             0.8,
             "#7fbc41"
            ],
            [
             0.9,
             "#4d9221"
            ],
            [
             1,
             "#276419"
            ]
           ],
           "sequential": [
            [
             0,
             "#0d0887"
            ],
            [
             0.1111111111111111,
             "#46039f"
            ],
            [
             0.2222222222222222,
             "#7201a8"
            ],
            [
             0.3333333333333333,
             "#9c179e"
            ],
            [
             0.4444444444444444,
             "#bd3786"
            ],
            [
             0.5555555555555556,
             "#d8576b"
            ],
            [
             0.6666666666666666,
             "#ed7953"
            ],
            [
             0.7777777777777778,
             "#fb9f3a"
            ],
            [
             0.8888888888888888,
             "#fdca26"
            ],
            [
             1,
             "#f0f921"
            ]
           ],
           "sequentialminus": [
            [
             0,
             "#0d0887"
            ],
            [
             0.1111111111111111,
             "#46039f"
            ],
            [
             0.2222222222222222,
             "#7201a8"
            ],
            [
             0.3333333333333333,
             "#9c179e"
            ],
            [
             0.4444444444444444,
             "#bd3786"
            ],
            [
             0.5555555555555556,
             "#d8576b"
            ],
            [
             0.6666666666666666,
             "#ed7953"
            ],
            [
             0.7777777777777778,
             "#fb9f3a"
            ],
            [
             0.8888888888888888,
             "#fdca26"
            ],
            [
             1,
             "#f0f921"
            ]
           ]
          },
          "colorway": [
           "#636efa",
           "#EF553B",
           "#00cc96",
           "#ab63fa",
           "#FFA15A",
           "#19d3f3",
           "#FF6692",
           "#B6E880",
           "#FF97FF",
           "#FECB52"
          ],
          "font": {
           "color": "#2a3f5f"
          },
          "geo": {
           "bgcolor": "white",
           "lakecolor": "white",
           "landcolor": "#E5ECF6",
           "showlakes": true,
           "showland": true,
           "subunitcolor": "white"
          },
          "hoverlabel": {
           "align": "left"
          },
          "hovermode": "closest",
          "mapbox": {
           "style": "light"
          },
          "paper_bgcolor": "white",
          "plot_bgcolor": "#E5ECF6",
          "polar": {
           "angularaxis": {
            "gridcolor": "white",
            "linecolor": "white",
            "ticks": ""
           },
           "bgcolor": "#E5ECF6",
           "radialaxis": {
            "gridcolor": "white",
            "linecolor": "white",
            "ticks": ""
           }
          },
          "scene": {
           "xaxis": {
            "backgroundcolor": "#E5ECF6",
            "gridcolor": "white",
            "gridwidth": 2,
            "linecolor": "white",
            "showbackground": true,
            "ticks": "",
            "zerolinecolor": "white"
           },
           "yaxis": {
            "backgroundcolor": "#E5ECF6",
            "gridcolor": "white",
            "gridwidth": 2,
            "linecolor": "white",
            "showbackground": true,
            "ticks": "",
            "zerolinecolor": "white"
           },
           "zaxis": {
            "backgroundcolor": "#E5ECF6",
            "gridcolor": "white",
            "gridwidth": 2,
            "linecolor": "white",
            "showbackground": true,
            "ticks": "",
            "zerolinecolor": "white"
           }
          },
          "shapedefaults": {
           "line": {
            "color": "#2a3f5f"
           }
          },
          "ternary": {
           "aaxis": {
            "gridcolor": "white",
            "linecolor": "white",
            "ticks": ""
           },
           "baxis": {
            "gridcolor": "white",
            "linecolor": "white",
            "ticks": ""
           },
           "bgcolor": "#E5ECF6",
           "caxis": {
            "gridcolor": "white",
            "linecolor": "white",
            "ticks": ""
           }
          },
          "title": {
           "x": 0.05
          },
          "xaxis": {
           "automargin": true,
           "gridcolor": "white",
           "linecolor": "white",
           "ticks": "",
           "title": {
            "standoff": 15
           },
           "zerolinecolor": "white",
           "zerolinewidth": 2
          },
          "yaxis": {
           "automargin": true,
           "gridcolor": "white",
           "linecolor": "white",
           "ticks": "",
           "title": {
            "standoff": 15
           },
           "zerolinecolor": "white",
           "zerolinewidth": 2
          }
         }
        },
        "title": {
         "text": "treemap column: ecoscore_score"
        }
       }
      }
     },
     "metadata": {},
     "output_type": "display_data"
    },
    {
     "data": {
      "application/vnd.plotly.v1+json": {
       "config": {
        "plotlyServerURL": "https://plot.ly"
       },
       "data": [
        {
         "labels": [
          1,
          0.3114754098,
          0.8743169399,
          0,
          0.3333333333,
          0.4316939891,
          0.9945355191,
          0.2960893855,
          0.1584699454,
          0.2881355932,
          0.2544378698,
          0.0765027322,
          0.9016393443,
          0.4207650273,
          0.0327868852,
          0.9734042553,
          0.4189944134,
          0.8715083799,
          0.3031914894,
          0.320754717,
          0.3184357542,
          0.3015873016,
          0.3152173913,
          0.6557377049,
          0.420212766,
          0.4347826087,
          0.1818181818,
          0.1147540984,
          0.7431693989,
          0.3244680851,
          0.4124293785,
          0.7650273224,
          0.2786885246,
          0.8510638298,
          0.7595628415,
          0.2847682119,
          0.9625,
          0.4426229508,
          0.2945205479,
          0.9944134078,
          0.6229508197,
          0.7486338798,
          0.8994413408,
          0.8961748634,
          0.3989071038,
          0.9680851064,
          0.1396648045,
          0.5901639344,
          0.3107344633,
          0.0218579235,
          0.9682539683,
          0.6885245902,
          0.306010929,
          0.1256830601,
          0.3369565217,
          0.1542553191,
          0.8639053254,
          0.875,
          0.5355191257,
          0.0382513661,
          0.2781065089,
          0.3227513228,
          0.2349726776,
          0.2295081967,
          0.8465608466,
          0.3,
          0.0558659218,
          0.9945652174,
          0.5300546448,
          0.9289617486,
          0.8087431694,
          0.417989418,
          0.8988095238,
          0.4095744681,
          0.2857142857,
          0.3879781421,
          0.6612021858,
          0.2921348315,
          0.8633879781,
          0.9891891892,
          0.3085714286,
          0.2834224599,
          0.1630434783,
          0.0319148936,
          0.4078212291,
          0.0451977401,
          0.8736263736,
          0.0111731844,
          0.9943502825,
          0.3076923077,
          0.8776595745,
          0.8360655738,
          0.255952381,
          0.737704918,
          0.4043715847,
          0.8700564972,
          0.3442622951,
          0.9889502762,
          0.972826087,
          0.3097826087,
          0.8983050847,
          0.962962963,
          0.0744680851,
          0.1857923497,
          0.4293478261,
          0.3081081081,
          0.9890710383,
          0.3297297297,
          0.2880434783,
          0.4262295082,
          0.9617486339,
          0.0815217391,
          0.174863388,
          0.8342245989,
          0.902173913,
          0.4378378378,
          0.2131147541,
          0.9685863874,
          0.9836065574,
          0.7584269663,
          0.4074074074,
          0.8415300546,
          0.427027027,
          0.8196721311,
          0.1534391534,
          0.6480446927,
          0.5762711864,
          0.3149171271,
          0.0380434783,
          0.4143646409,
          0.2928176796,
          0.5519125683,
          0.0740740741,
          0.3089005236,
          0.873015873,
          0.4076086957,
          0.3405405405,
          0.9935064935,
          0.7540983607,
          0.0736842105,
          0.1117021277,
          0.956284153,
          0.3189189189,
          0.8648648649,
          0.0317460317,
          0.4239130435,
          0.8695652174,
          0.9943820225,
          0.1299435028,
          0.6382978723,
          0.8934911243,
          0.4162162162,
          0.9837837838,
          0.8926553672,
          0.4308510638,
          0.094972067,
          0.7374301676,
          0.4153005464,
          0.4808743169,
          0.8756756757,
          0.3298429319,
          0.262295082,
          0.861878453,
          0.3846153846,
          0.7234042553,
          0.9572192513,
          0.8938547486,
          0.4301675978,
          0.847826087,
          0.8421052632,
          0.7430167598,
          0.218579235,
          0.8684210526,
          0.5251396648,
          0.0714285714,
          0.9940828402,
          0.1111111111,
          0.1567567568,
          0.4136125654,
          0.3146067416,
          0.3315217391,
          0.9633507853,
          0.8723404255,
          0.6272189349,
          0.7446808511,
          0.0167597765,
          0.138121547,
          0.1223404255,
          0.8469945355,
          0.9672131148,
          0.1336898396,
          0.5810055866,
          0.6145251397,
          0.9891304348,
          0.6815642458,
          0.4011299435,
          0.0324324324,
          0.2905027933,
          0.2841530055,
          0.3005464481,
          0.2978723404,
          0.6349206349,
          0.7541899441,
          0.670212766,
          0.5573770492,
          0.4010695187,
          0.7278106509,
          0.2122905028,
          0.4285714286,
          0.1358695652,
          0.7195767196,
          0.3882978723,
          0.1675675676,
          0.5212765957,
          0.9518716578,
          0.6436170213,
          0.9673913043,
          0.175,
          0.217877095,
          0.0983606557,
          0.7393617021,
          0.3210526316,
          0.9945945946,
          0.1061452514,
          0.5744680851,
          0.6063829787,
          0.9273743017,
          0.1576086957,
          0.7597765363,
          0.8967391304,
          0.1135135135,
          0.9945054945,
          0.7340425532,
          0.0372340426,
          0.0212765957,
          0.2240437158,
          0.7354497354,
          0.3854748603,
          0.7287234043,
          0.5027322404,
          0.7103825137,
          0.9834254144,
          0.393442623,
          0.4345549738,
          0.6576086957,
          0.0534759358,
          0.6536312849,
          0.8481675393,
          0.9010989011,
          0.0108695652,
          0.7322404372,
          0.0418848168,
          0.2287234043,
          0.3862433862,
          0.3296703297,
          0.6486486486,
          0.4184782609,
          0.5714285714,
          0.8918918919,
          0.0054644809,
          0.7407407407,
          0.8047337278,
          0.4269662921,
          0.2234042553,
          0.8603351955,
          0.7445652174,
          0.6010928962,
          0.827027027,
          0.8404255319,
          0.037037037,
          0.1204188482,
          0.5185185185,
          0.1656804734,
          0.1538461538,
          0.9027027027,
          0.4240837696,
          0.2076502732,
          0.8947368421,
          0.3048128342,
          0.7158469945,
          0.3278688525,
          0.156424581,
          0.1243243243,
          0.0432432432,
          0.1623036649,
          0.7872340426,
          0.3661202186,
          0.9042553191,
          0.1675977654,
          0.3967391304,
          0.8609625668,
          0.8895027624,
          0.2797619048,
          0.2275132275,
          0.8677248677,
          0.5195530726,
          0.6387434555,
          0.3296089385,
          0.4098360656,
          0.7570621469,
          0.6779661017,
          0.043715847,
          0.5132275132,
          0.625,
          0.75,
          0.9619565217,
          0.1808510638,
          0.7248677249,
          0.4033149171,
          0.8108108108,
          0.6666666667,
          0.0760869565,
          0.0543478261,
          0.9361702128,
          0.7608695652,
          0.2962962963,
          0.6440677966,
          0.0756756757,
          0.6994535519,
          0.5380434783,
          0.0054347826,
          0.374301676,
          0.8138297872,
          0.0552486188,
          0.6031746032,
          0.0056497175,
          0.1216931217,
          0.5683060109,
          0.5159574468,
          0.0110497238,
          0.8864864865,
          0.2553191489,
          0.7830687831,
          0.2356020942,
          0.7351351351,
          0.9028571429,
          0.0710382514,
          0.3936170213,
          0.402173913,
          0.1304347826,
          0.2336956522,
          0.1202185792,
          0.8994708995,
          0.0211640212,
          0.2222222222,
          0.7663043478,
          0.912568306,
          0.7434554974,
          0.6902173913,
          0.868852459,
          0.2074468085,
          0.7459459459,
          0.8743455497,
          0.8044692737,
          0.1525423729,
          0.0434782609,
          0.027173913,
          0.8,
          0.9627659574,
          0.8691099476,
          0.3027027027,
          0.5846994536,
          0.335106383,
          0.170212766,
          0.2950819672,
          0.0864864865,
          0.9608938547,
          0.6810810811,
          0.0326086957,
          0.209039548,
          0.835978836,
          0.8142076503,
          0.3036649215,
          0.4456521739,
          0.5923913043,
          0.9578947368,
          0.3926701571,
          0.722513089,
          0.5372340426,
          0.8907103825,
          0.7567567568,
          0.2513661202,
          0.6402116402,
          0.2324324324,
          0.9101123596,
          0.308988764,
          0.512987013,
          0.2824858757,
          0.5326086957,
          0.2568306011,
          0.7513513514,
          0.197740113,
          0.6701570681,
          0.0887573964,
          0.7318435754,
          0.7297297297,
          0.7401129944,
          0.3756613757,
          0.4126984127,
          0.0960451977,
          0.1693121693,
          0.0216216216,
          0.3915343915,
          0.1955307263,
          0.3776595745,
          0.9631578947,
          0.7514124294,
          0.227027027,
          0.9553072626,
          0.3945945946,
          0.1902173913,
          0.9293478261,
          0.6540540541,
          0.1803278689,
          0.3220338983,
          0.8148148148,
          0.8095238095,
          0.6630434783,
          0.4042553191,
          0.0837696335,
          0.7127659574,
          0.1195652174,
          0.0106951872,
          0.9312169312,
          0.8052631579,
          0.1308900524,
          0.1475409836,
          0.9888268156,
          0.8324022346,
          0.0378378378,
          0.0471204188,
          0.5191256831,
          0.6101694915,
          0.7554347826,
          0.1526315789,
          0.5197740113,
          0.8097826087,
          0.4157894737,
          0.347826087,
          0.9581151832,
          0.8376963351,
          0.5243243243,
          0.7277486911,
          0.7853403141,
          0.2765957447,
          0.9576719577,
          0.1798941799,
          0.9548022599,
          0.5837837838,
          0.8115183246,
          0.7344632768,
          0.7172774869,
          0.7455621302,
          0.7391304348,
          0.414893617,
          0.3672316384,
          0.2127659574,
          0.5297297297,
          0.25,
          0.0315789474,
          0.406779661,
          0.7405405405,
          0.4535519126,
          0.95625,
          0.4680851064,
          0.4134078212,
          0.802259887,
          0.2391304348,
          0.7978723404,
          0.7058823529,
          0.6315789474,
          0.5759162304,
          0.4480874317,
          0.8875739645,
          0.8540540541,
          0.2077922078,
          0.6439790576,
          0.9920634921,
          0.2033898305,
          0.5078534031,
          0.5168539326,
          0.6162162162,
          0.8797814208,
          0.3551912568,
          0.652173913,
          0.2063492063,
          0.5054347826,
          0.2173913043,
          0.3135135135,
          0.7173913043,
          0.3913043478,
          0.4216216216,
          0.7180851064,
          0.3715846995,
          0.869047619,
          0.2780748663,
          0.4022346369,
          0.7112299465,
          0.312849162,
          0.7396449704,
          0.8156424581,
          0.2458100559,
          0.9585798817,
          0.3785310734,
          0.8988764045,
          0.0274725275,
          0.0314136126,
          0.9259259259,
          0.2303664921,
          0.6304347826,
          0.2677595628,
          0.2021276596,
          0.6830601093,
          0.3910614525,
          0.8831168831,
          0.4188481675,
          0.5652173913,
          0.5235602094,
          0.4970414201,
          0.3837837838,
          0.5193370166,
          0.3829787234,
          0.9005235602,
          0.5561497326,
          0.9537037037,
          0.2119565217,
          0.6847826087,
          0.1832460733,
          0.7157894737,
          0.186440678,
          0.5882352941,
          0.7142857143,
          0.6203208556,
          0.2108108108,
          0.1793478261,
          0.3903743316,
          0.722826087,
          0.8369565217,
          0.3513513514,
          0.6208791209,
          0.2827225131,
          0.4893617021,
          0.0785340314,
          0.8174603175,
          0.3825136612,
          0.0782122905,
          0.6077348066,
          0.032967033,
          0.6968085106,
          0.1530054645,
          0.9621621622,
          0.2011173184,
          0.9523809524,
          0.5343915344,
          0.0056179775,
          0.0505617978,
          0.7262569832,
          0.8191489362,
          0.597826087,
          0.5157894737,
          0.8378378378,
          0.6775956284,
          0.6408839779,
          0.7336956522,
          0.972972973,
          0.8641304348,
          0.8244680851,
          0.0847457627,
          0.0491803279,
          0.988700565,
          0.4237288136,
          0.8032786885,
          0.4114285714,
          0.7621621622,
          0.0957446809,
          0.2681564246,
          0.8877005348,
          0.627027027,
          0.9574468085,
          0.4021164021,
          0.0531914894,
          0.3979057592,
          0.131147541,
          0.4052631579,
          0.5405405405,
          0.8972972973,
          0.9783783784,
          0.3459119497,
          0.3191489362,
          0.4254143646,
          0.9285714286,
          0.0335195531,
          0.5945945946,
          0.4054054054,
          0.8579234973,
          0.3155080214,
          0.04,
          0.7039106145,
          0.7675675676,
          0.813559322,
          0.4361702128,
          0.9513513514,
          0.6594594595,
          0.4836956522,
          0.2162162162,
          0.2751322751,
          0.4486486486,
          0.8379888268,
          0.5108695652,
          0.0939226519,
          0.5351351351,
          0.2372881356,
          0.532967033,
          0.1141304348,
          0.7267759563,
          0.7382198953,
          0.2378378378,
          0.0217391304,
          0.4,
          0.3727810651,
          0.6195652174,
          0.9831460674,
          0.9565217391,
          0.3403141361,
          0.7272727273,
          0.0368421053,
          0.1587301587,
          0.729281768,
          0.8587570621,
          0.0546448087,
          0.1837837838,
          0.5418994413,
          0.4402173913,
          0.6,
          0.9832402235,
          0.9189189189,
          0.6918918919,
          0.1871657754,
          0.3050847458,
          0.5026737968,
          0.6864864865,
          0.2810810811,
          0.1807909605,
          0.0486486486,
          0.4656084656,
          0.4916201117,
          0.1049723757,
          0.2116402116,
          0.7936507937,
          0.8742857143,
          0.0160427807,
          0.7582417582,
          0.9308510638,
          0.1351351351,
          0.7348066298,
          0.6538461538,
          0.1780104712,
          0.1847826087,
          0.7303370787,
          0.3812154696,
          0.7458563536,
          0.1340782123,
          0.469273743,
          0.5869565217,
          0.8839779006,
          0.0273224044,
          0.2446808511,
          0.2346368715,
          0.5183246073,
          0.6284153005,
          0.2702702703,
          0.8913043478,
          0.9347826087,
          0.585106383,
          0.3821989529,
          0.7301587302,
          0.3858695652,
          0.0503144654,
          0.7210526316,
          0.6648648649,
          0.8956043956,
          0.8556149733,
          0.8707865169,
          0.8571428571,
          0.5879120879,
          0.4972677596,
          0.3206521739,
          0.9947089947,
          0.8631578947,
          0.395480226,
          0.2146596859,
          0.6740331492,
          0.1038251366,
          0.0165745856,
          0.893258427,
          0.0108108108,
          0.3423913043,
          0.2216216216,
          0.0837988827,
          0.3372781065,
          0.251396648,
          0.219895288,
          0.9685534591,
          0.9144385027,
          0.2486772487,
          0.172972973,
          0.8079096045,
          0.3043478261,
          0.1348314607,
          0.6073298429,
          0.2087912088,
          0.2282608696,
          0.8324324324,
          0.8508287293,
          0.9319371728,
          0.7005347594,
          0.2010582011,
          0.1967213115,
          0.8848167539,
          0.0597826087,
          0.4175824176,
          0.7637362637,
          0.2402234637,
          0.1945945946,
          0.2840909091,
          0.253968254,
          0.6358695652,
          0.5684210526,
          0.3891891892,
          0.8167539267,
          0.2099447514,
          0.4863387978,
          0.2065217391,
          0.7094972067,
          0.1703296703,
          0.3723404255,
          0.2554347826,
          0.0923913043,
          0.2432432432,
          0.7282608696,
          0.0584415584,
          0.9297297297,
          0.4712041885,
          0.0054054054,
          0.3376623377,
          0.2094240838,
          0.7513812155,
          0.4245810056,
          0.7417582418,
          0.2485207101,
          0.3021978022,
          0.7958115183,
          0.748603352,
          0.8201058201,
          0.4324324324,
          0.4130434783,
          0.4382022472,
          0.7472527473,
          0.52,
          0.9528795812,
          0.3798882682,
          0.8418079096,
          0.8152173913,
          0.6931216931,
          0.9510869565,
          0.2617801047,
          0.1497326203,
          0.3668639053,
          0.2826086957,
          0.1739130435,
          0.7074468085,
          0.0952380952,
          0.6497175141,
          0.4858757062,
          0.8043478261,
          0.8206521739,
          0.5957446809,
          0.7807486631,
          0.0210526316,
          0.3989361702,
          0.1604278075,
          0.3457446809,
          0.7826086957,
          0.8586956522,
          0.8284023669,
          0.7315789474,
          0.7321428571,
          0.097826087,
          0.9836956522,
          0.7883597884,
          0.606557377,
          0.2608695652,
          0.5053191489,
          0.5392670157,
          0.3406593407,
          0.387434555,
          0.1016042781,
          0.3977900552,
          0.0163043478,
          0.1105263158,
          0.2054054054,
          0.404494382,
          0.4371584699,
          0.7027027027,
          0.4157303371,
          0.2872928177,
          0.1071428571,
          0.4756756757,
          0.6033519553,
          0.5562130178,
          0.6759776536,
          0.1032608696,
          0.1884816754,
          0.2032085561,
          0.8423913043,
          0.9567567568,
          0.6808510638,
          0.5543478261,
          0.3169398907,
          0.2540540541,
          0.1813186813,
          0.1276595745,
          0.4469273743,
          0.1715976331,
          0.8162162162,
          0.5531914894,
          0.6595744681,
          0.8306010929,
          0.7081081081,
          0.8219895288,
          0.3898305085,
          0.6141304348,
          0.8971428571,
          0.2663043478,
          0.7219251337,
          0.4867724868,
          0.7934782609,
          0.9459459459,
          0.843575419,
          0.9239130435,
          0.2592592593,
          0.2021857923,
          0.8928571429,
          0.9071038251,
          0.3701657459,
          0.4591194969,
          0.3689839572,
          0.9210526316,
          0.6054054054,
          0.5974025974,
          0.3387978142,
          0.5079365079,
          0.0677966102,
          0.4860335196,
          0.625698324,
          0.56875,
          0.7792207792,
          0.6174863388,
          0.0502793296,
          0.1086956522,
          0.0928961749,
          0.3796296296,
          0.6514285714,
          0.0337078652,
          0.9255319149,
          0.9405405405,
          0.8425925926,
          0.693989071,
          0.0601092896,
          0.6170212766,
          0.4465408805,
          0.3901098901,
          0.604519774,
          0.626984127,
          0.4057142857,
          0.4814814815,
          0.6120218579,
          0.0947368421,
          0.4590163934,
          0.5136612022
         ],
         "parents": [
          "",
          "",
          "",
          "",
          "",
          "",
          "",
          "",
          "",
          "",
          "",
          "",
          "",
          "",
          "",
          "",
          "",
          "",
          "",
          "",
          "",
          "",
          "",
          "",
          "",
          "",
          "",
          "",
          "",
          "",
          "",
          "",
          "",
          "",
          "",
          "",
          "",
          "",
          "",
          "",
          "",
          "",
          "",
          "",
          "",
          "",
          "",
          "",
          "",
          "",
          "",
          "",
          "",
          "",
          "",
          "",
          "",
          "",
          "",
          "",
          "",
          "",
          "",
          "",
          "",
          "",
          "",
          "",
          "",
          "",
          "",
          "",
          "",
          "",
          "",
          "",
          "",
          "",
          "",
          "",
          "",
          "",
          "",
          "",
          "",
          "",
          "",
          "",
          "",
          "",
          "",
          "",
          "",
          "",
          "",
          "",
          "",
          "",
          "",
          "",
          "",
          "",
          "",
          "",
          "",
          "",
          "",
          "",
          "",
          "",
          "",
          "",
          "",
          "",
          "",
          "",
          "",
          "",
          "",
          "",
          "",
          "",
          "",
          "",
          "",
          "",
          "",
          "",
          "",
          "",
          "",
          "",
          "",
          "",
          "",
          "",
          "",
          "",
          "",
          "",
          "",
          "",
          "",
          "",
          "",
          "",
          "",
          "",
          "",
          "",
          "",
          "",
          "",
          "",
          "",
          "",
          "",
          "",
          "",
          "",
          "",
          "",
          "",
          "",
          "",
          "",
          "",
          "",
          "",
          "",
          "",
          "",
          "",
          "",
          "",
          "",
          "",
          "",
          "",
          "",
          "",
          "",
          "",
          "",
          "",
          "",
          "",
          "",
          "",
          "",
          "",
          "",
          "",
          "",
          "",
          "",
          "",
          "",
          "",
          "",
          "",
          "",
          "",
          "",
          "",
          "",
          "",
          "",
          "",
          "",
          "",
          "",
          "",
          "",
          "",
          "",
          "",
          "",
          "",
          "",
          "",
          "",
          "",
          "",
          "",
          "",
          "",
          "",
          "",
          "",
          "",
          "",
          "",
          "",
          "",
          "",
          "",
          "",
          "",
          "",
          "",
          "",
          "",
          "",
          "",
          "",
          "",
          "",
          "",
          "",
          "",
          "",
          "",
          "",
          "",
          "",
          "",
          "",
          "",
          "",
          "",
          "",
          "",
          "",
          "",
          "",
          "",
          "",
          "",
          "",
          "",
          "",
          "",
          "",
          "",
          "",
          "",
          "",
          "",
          "",
          "",
          "",
          "",
          "",
          "",
          "",
          "",
          "",
          "",
          "",
          "",
          "",
          "",
          "",
          "",
          "",
          "",
          "",
          "",
          "",
          "",
          "",
          "",
          "",
          "",
          "",
          "",
          "",
          "",
          "",
          "",
          "",
          "",
          "",
          "",
          "",
          "",
          "",
          "",
          "",
          "",
          "",
          "",
          "",
          "",
          "",
          "",
          "",
          "",
          "",
          "",
          "",
          "",
          "",
          "",
          "",
          "",
          "",
          "",
          "",
          "",
          "",
          "",
          "",
          "",
          "",
          "",
          "",
          "",
          "",
          "",
          "",
          "",
          "",
          "",
          "",
          "",
          "",
          "",
          "",
          "",
          "",
          "",
          "",
          "",
          "",
          "",
          "",
          "",
          "",
          "",
          "",
          "",
          "",
          "",
          "",
          "",
          "",
          "",
          "",
          "",
          "",
          "",
          "",
          "",
          "",
          "",
          "",
          "",
          "",
          "",
          "",
          "",
          "",
          "",
          "",
          "",
          "",
          "",
          "",
          "",
          "",
          "",
          "",
          "",
          "",
          "",
          "",
          "",
          "",
          "",
          "",
          "",
          "",
          "",
          "",
          "",
          "",
          "",
          "",
          "",
          "",
          "",
          "",
          "",
          "",
          "",
          "",
          "",
          "",
          "",
          "",
          "",
          "",
          "",
          "",
          "",
          "",
          "",
          "",
          "",
          "",
          "",
          "",
          "",
          "",
          "",
          "",
          "",
          "",
          "",
          "",
          "",
          "",
          "",
          "",
          "",
          "",
          "",
          "",
          "",
          "",
          "",
          "",
          "",
          "",
          "",
          "",
          "",
          "",
          "",
          "",
          "",
          "",
          "",
          "",
          "",
          "",
          "",
          "",
          "",
          "",
          "",
          "",
          "",
          "",
          "",
          "",
          "",
          "",
          "",
          "",
          "",
          "",
          "",
          "",
          "",
          "",
          "",
          "",
          "",
          "",
          "",
          "",
          "",
          "",
          "",
          "",
          "",
          "",
          "",
          "",
          "",
          "",
          "",
          "",
          "",
          "",
          "",
          "",
          "",
          "",
          "",
          "",
          "",
          "",
          "",
          "",
          "",
          "",
          "",
          "",
          "",
          "",
          "",
          "",
          "",
          "",
          "",
          "",
          "",
          "",
          "",
          "",
          "",
          "",
          "",
          "",
          "",
          "",
          "",
          "",
          "",
          "",
          "",
          "",
          "",
          "",
          "",
          "",
          "",
          "",
          "",
          "",
          "",
          "",
          "",
          "",
          "",
          "",
          "",
          "",
          "",
          "",
          "",
          "",
          "",
          "",
          "",
          "",
          "",
          "",
          "",
          "",
          "",
          "",
          "",
          "",
          "",
          "",
          "",
          "",
          "",
          "",
          "",
          "",
          "",
          "",
          "",
          "",
          "",
          "",
          "",
          "",
          "",
          "",
          "",
          "",
          "",
          "",
          "",
          "",
          "",
          "",
          "",
          "",
          "",
          "",
          "",
          "",
          "",
          "",
          "",
          "",
          "",
          "",
          "",
          "",
          "",
          "",
          "",
          "",
          "",
          "",
          "",
          "",
          "",
          "",
          "",
          "",
          "",
          "",
          "",
          "",
          "",
          "",
          "",
          "",
          "",
          "",
          "",
          "",
          "",
          "",
          "",
          "",
          "",
          "",
          "",
          "",
          "",
          "",
          "",
          "",
          "",
          "",
          "",
          "",
          "",
          "",
          "",
          "",
          "",
          "",
          "",
          "",
          "",
          "",
          "",
          "",
          "",
          "",
          "",
          "",
          "",
          "",
          "",
          "",
          "",
          "",
          "",
          "",
          "",
          "",
          "",
          "",
          "",
          "",
          "",
          "",
          "",
          "",
          "",
          "",
          "",
          "",
          "",
          "",
          "",
          "",
          "",
          "",
          "",
          "",
          "",
          "",
          "",
          "",
          "",
          "",
          "",
          "",
          "",
          "",
          "",
          "",
          "",
          "",
          "",
          "",
          "",
          "",
          "",
          "",
          "",
          "",
          "",
          "",
          "",
          "",
          "",
          "",
          "",
          "",
          "",
          "",
          "",
          "",
          "",
          "",
          "",
          "",
          "",
          "",
          "",
          "",
          "",
          "",
          "",
          "",
          "",
          "",
          "",
          "",
          "",
          "",
          "",
          "",
          "",
          "",
          "",
          "",
          "",
          "",
          "",
          "",
          "",
          "",
          "",
          "",
          "",
          "",
          "",
          "",
          "",
          "",
          "",
          "",
          "",
          "",
          "",
          "",
          "",
          "",
          "",
          "",
          "",
          "",
          "",
          "",
          "",
          "",
          "",
          "",
          "",
          "",
          "",
          "",
          "",
          "",
          "",
          "",
          "",
          "",
          "",
          "",
          "",
          "",
          "",
          "",
          "",
          "",
          "",
          "",
          "",
          "",
          "",
          "",
          "",
          "",
          "",
          "",
          "",
          "",
          "",
          "",
          "",
          "",
          "",
          "",
          "",
          "",
          "",
          "",
          "",
          "",
          "",
          "",
          "",
          "",
          "",
          "",
          "",
          "",
          "",
          "",
          "",
          "",
          "",
          "",
          "",
          "",
          "",
          "",
          "",
          "",
          "",
          "",
          "",
          "",
          "",
          "",
          "",
          "",
          "",
          "",
          "",
          "",
          "",
          ""
         ],
         "textinfo": "label+value",
         "type": "treemap",
         "values": [
          434307,
          406781,
          191052,
          129824,
          125674,
          113063,
          69016,
          48336,
          47817,
          44074,
          43964,
          41180,
          37033,
          35083,
          25030,
          24647,
          20731,
          18233,
          15884,
          14922,
          14474,
          14350,
          14146,
          13408,
          13009,
          12585,
          11770,
          11190,
          10375,
          10194,
          9956,
          9791,
          9522,
          9199,
          9002,
          7651,
          7160,
          6776,
          6756,
          6558,
          6406,
          6325,
          6186,
          6179,
          6016,
          5570,
          5518,
          5180,
          5034,
          5024,
          5019,
          4968,
          4959,
          4955,
          4897,
          4896,
          4856,
          4811,
          4778,
          4765,
          4626,
          4248,
          4178,
          4075,
          4001,
          3769,
          3724,
          3679,
          3540,
          3452,
          3321,
          3212,
          3179,
          3126,
          3073,
          3044,
          3028,
          2863,
          2818,
          2817,
          2749,
          2743,
          2739,
          2725,
          2716,
          2605,
          2571,
          2557,
          2515,
          2469,
          2382,
          2371,
          2253,
          2232,
          2147,
          2081,
          2080,
          2030,
          1973,
          1950,
          1916,
          1904,
          1816,
          1657,
          1626,
          1545,
          1538,
          1521,
          1489,
          1445,
          1419,
          1343,
          1323,
          1321,
          1318,
          1303,
          1289,
          1286,
          1261,
          1259,
          1221,
          1191,
          1181,
          1175,
          1136,
          1077,
          1037,
          1031,
          1027,
          1024,
          1023,
          1008,
          1007,
          998,
          988,
          975,
          973,
          954,
          951,
          934,
          929,
          912,
          903,
          853,
          846,
          835,
          832,
          823,
          812,
          810,
          793,
          791,
          786,
          785,
          750,
          749,
          739,
          734,
          728,
          721,
          713,
          656,
          642,
          641,
          641,
          636,
          599,
          588,
          584,
          579,
          559,
          541,
          538,
          517,
          514,
          509,
          506,
          504,
          501,
          498,
          481,
          472,
          469,
          467,
          463,
          461,
          461,
          460,
          458,
          457,
          454,
          450,
          450,
          449,
          447,
          441,
          440,
          438,
          432,
          421,
          420,
          415,
          414,
          411,
          403,
          397,
          394,
          385,
          381,
          377,
          374,
          370,
          368,
          364,
          361,
          355,
          353,
          352,
          351,
          346,
          346,
          338,
          335,
          334,
          331,
          328,
          324,
          322,
          322,
          322,
          316,
          313,
          312,
          311,
          311,
          309,
          302,
          296,
          294,
          293,
          292,
          291,
          291,
          289,
          280,
          279,
          277,
          272,
          271,
          266,
          264,
          263,
          260,
          250,
          248,
          244,
          243,
          242,
          236,
          235,
          235,
          234,
          234,
          234,
          229,
          224,
          224,
          222,
          221,
          220,
          216,
          215,
          215,
          214,
          213,
          211,
          208,
          207,
          205,
          203,
          203,
          201,
          201,
          198,
          196,
          194,
          189,
          188,
          188,
          186,
          186,
          185,
          184,
          184,
          177,
          177,
          173,
          173,
          171,
          170,
          170,
          170,
          169,
          168,
          165,
          165,
          163,
          161,
          161,
          160,
          159,
          159,
          158,
          158,
          156,
          155,
          153,
          150,
          149,
          149,
          149,
          148,
          146,
          144,
          143,
          139,
          138,
          138,
          138,
          137,
          136,
          136,
          135,
          134,
          134,
          132,
          131,
          130,
          130,
          130,
          129,
          129,
          128,
          127,
          126,
          125,
          124,
          123,
          123,
          123,
          123,
          122,
          122,
          121,
          121,
          120,
          120,
          119,
          118,
          118,
          116,
          114,
          113,
          111,
          109,
          108,
          107,
          107,
          107,
          104,
          103,
          100,
          98,
          97,
          97,
          97,
          97,
          97,
          96,
          94,
          94,
          93,
          93,
          92,
          92,
          91,
          90,
          90,
          89,
          89,
          89,
          88,
          88,
          87,
          87,
          85,
          85,
          84,
          84,
          84,
          84,
          83,
          82,
          82,
          81,
          81,
          78,
          78,
          78,
          77,
          75,
          75,
          74,
          74,
          74,
          73,
          72,
          72,
          71,
          71,
          71,
          71,
          71,
          70,
          69,
          69,
          69,
          68,
          68,
          67,
          67,
          67,
          67,
          66,
          66,
          65,
          64,
          63,
          62,
          62,
          62,
          61,
          61,
          61,
          61,
          60,
          60,
          60,
          59,
          58,
          58,
          58,
          57,
          56,
          55,
          55,
          55,
          54,
          54,
          54,
          54,
          53,
          53,
          51,
          51,
          51,
          51,
          50,
          50,
          50,
          49,
          49,
          48,
          48,
          48,
          47,
          47,
          46,
          46,
          45,
          45,
          45,
          44,
          44,
          44,
          44,
          44,
          43,
          43,
          43,
          43,
          43,
          43,
          43,
          43,
          43,
          42,
          42,
          42,
          42,
          42,
          41,
          41,
          41,
          40,
          40,
          40,
          40,
          39,
          39,
          39,
          39,
          39,
          38,
          38,
          37,
          37,
          37,
          36,
          36,
          36,
          36,
          36,
          36,
          36,
          36,
          36,
          35,
          35,
          35,
          35,
          35,
          34,
          34,
          34,
          34,
          34,
          34,
          34,
          34,
          34,
          33,
          33,
          33,
          32,
          32,
          32,
          32,
          32,
          31,
          31,
          31,
          31,
          30,
          30,
          30,
          30,
          30,
          29,
          29,
          29,
          29,
          28,
          28,
          28,
          28,
          27,
          27,
          27,
          27,
          27,
          27,
          27,
          26,
          26,
          26,
          26,
          26,
          26,
          26,
          26,
          26,
          26,
          25,
          25,
          25,
          25,
          25,
          25,
          25,
          25,
          25,
          25,
          25,
          25,
          25,
          25,
          24,
          24,
          24,
          24,
          24,
          24,
          24,
          24,
          24,
          23,
          23,
          23,
          23,
          23,
          23,
          23,
          23,
          23,
          22,
          22,
          22,
          22,
          22,
          22,
          22,
          22,
          22,
          22,
          21,
          21,
          21,
          21,
          21,
          21,
          21,
          21,
          21,
          21,
          21,
          21,
          21,
          21,
          20,
          20,
          20,
          20,
          20,
          20,
          20,
          20,
          20,
          20,
          20,
          20,
          20,
          20,
          20,
          20,
          19,
          19,
          19,
          19,
          19,
          19,
          19,
          19,
          19,
          18,
          18,
          18,
          18,
          18,
          18,
          18,
          18,
          18,
          17,
          17,
          17,
          17,
          17,
          17,
          17,
          16,
          16,
          16,
          16,
          16,
          16,
          16,
          16,
          16,
          16,
          16,
          16,
          15,
          15,
          15,
          15,
          15,
          15,
          15,
          15,
          15,
          15,
          15,
          15,
          15,
          14,
          14,
          14,
          14,
          14,
          14,
          14,
          14,
          14,
          13,
          13,
          13,
          13,
          13,
          13,
          13,
          13,
          13,
          13,
          13,
          13,
          12,
          12,
          12,
          12,
          12,
          12,
          12,
          12,
          12,
          12,
          12,
          12,
          12,
          12,
          12,
          12,
          12,
          12,
          12,
          12,
          12,
          12,
          11,
          11,
          11,
          11,
          11,
          11,
          11,
          11,
          11,
          11,
          11,
          11,
          11,
          11,
          11,
          11,
          11,
          11,
          11,
          11,
          11,
          11,
          11,
          11,
          11,
          11,
          11,
          11,
          10,
          10,
          10,
          10,
          10,
          10,
          10,
          10,
          10,
          10,
          10,
          10,
          10,
          10,
          10,
          10,
          9,
          9,
          9,
          9,
          9,
          9,
          9,
          9,
          9,
          9,
          9,
          9,
          9,
          9,
          9,
          9,
          9,
          9,
          9,
          9,
          9,
          9,
          9,
          9,
          9,
          9,
          8,
          8,
          8,
          8,
          8,
          8,
          8,
          8,
          8,
          8,
          8,
          8,
          8,
          8,
          8,
          8,
          8,
          8,
          8,
          7,
          7,
          7,
          7,
          7,
          7,
          7,
          7,
          6,
          6,
          6,
          5,
          4,
          3,
          3,
          1,
          1,
          1,
          1,
          1,
          1,
          1,
          1,
          1,
          1,
          1,
          1,
          1,
          1,
          1,
          1,
          1,
          1,
          1,
          1,
          1,
          1,
          1,
          1,
          1,
          1,
          1,
          1
         ]
        }
       ],
       "layout": {
        "font": {
         "color": "white"
        },
        "paper_bgcolor": "black",
        "plot_bgcolor": "grey",
        "template": {
         "data": {
          "bar": [
           {
            "error_x": {
             "color": "#2a3f5f"
            },
            "error_y": {
             "color": "#2a3f5f"
            },
            "marker": {
             "line": {
              "color": "#E5ECF6",
              "width": 0.5
             },
             "pattern": {
              "fillmode": "overlay",
              "size": 10,
              "solidity": 0.2
             }
            },
            "type": "bar"
           }
          ],
          "barpolar": [
           {
            "marker": {
             "line": {
              "color": "#E5ECF6",
              "width": 0.5
             },
             "pattern": {
              "fillmode": "overlay",
              "size": 10,
              "solidity": 0.2
             }
            },
            "type": "barpolar"
           }
          ],
          "carpet": [
           {
            "aaxis": {
             "endlinecolor": "#2a3f5f",
             "gridcolor": "white",
             "linecolor": "white",
             "minorgridcolor": "white",
             "startlinecolor": "#2a3f5f"
            },
            "baxis": {
             "endlinecolor": "#2a3f5f",
             "gridcolor": "white",
             "linecolor": "white",
             "minorgridcolor": "white",
             "startlinecolor": "#2a3f5f"
            },
            "type": "carpet"
           }
          ],
          "choropleth": [
           {
            "colorbar": {
             "outlinewidth": 0,
             "ticks": ""
            },
            "type": "choropleth"
           }
          ],
          "contour": [
           {
            "colorbar": {
             "outlinewidth": 0,
             "ticks": ""
            },
            "colorscale": [
             [
              0,
              "#0d0887"
             ],
             [
              0.1111111111111111,
              "#46039f"
             ],
             [
              0.2222222222222222,
              "#7201a8"
             ],
             [
              0.3333333333333333,
              "#9c179e"
             ],
             [
              0.4444444444444444,
              "#bd3786"
             ],
             [
              0.5555555555555556,
              "#d8576b"
             ],
             [
              0.6666666666666666,
              "#ed7953"
             ],
             [
              0.7777777777777778,
              "#fb9f3a"
             ],
             [
              0.8888888888888888,
              "#fdca26"
             ],
             [
              1,
              "#f0f921"
             ]
            ],
            "type": "contour"
           }
          ],
          "contourcarpet": [
           {
            "colorbar": {
             "outlinewidth": 0,
             "ticks": ""
            },
            "type": "contourcarpet"
           }
          ],
          "heatmap": [
           {
            "colorbar": {
             "outlinewidth": 0,
             "ticks": ""
            },
            "colorscale": [
             [
              0,
              "#0d0887"
             ],
             [
              0.1111111111111111,
              "#46039f"
             ],
             [
              0.2222222222222222,
              "#7201a8"
             ],
             [
              0.3333333333333333,
              "#9c179e"
             ],
             [
              0.4444444444444444,
              "#bd3786"
             ],
             [
              0.5555555555555556,
              "#d8576b"
             ],
             [
              0.6666666666666666,
              "#ed7953"
             ],
             [
              0.7777777777777778,
              "#fb9f3a"
             ],
             [
              0.8888888888888888,
              "#fdca26"
             ],
             [
              1,
              "#f0f921"
             ]
            ],
            "type": "heatmap"
           }
          ],
          "heatmapgl": [
           {
            "colorbar": {
             "outlinewidth": 0,
             "ticks": ""
            },
            "colorscale": [
             [
              0,
              "#0d0887"
             ],
             [
              0.1111111111111111,
              "#46039f"
             ],
             [
              0.2222222222222222,
              "#7201a8"
             ],
             [
              0.3333333333333333,
              "#9c179e"
             ],
             [
              0.4444444444444444,
              "#bd3786"
             ],
             [
              0.5555555555555556,
              "#d8576b"
             ],
             [
              0.6666666666666666,
              "#ed7953"
             ],
             [
              0.7777777777777778,
              "#fb9f3a"
             ],
             [
              0.8888888888888888,
              "#fdca26"
             ],
             [
              1,
              "#f0f921"
             ]
            ],
            "type": "heatmapgl"
           }
          ],
          "histogram": [
           {
            "marker": {
             "pattern": {
              "fillmode": "overlay",
              "size": 10,
              "solidity": 0.2
             }
            },
            "type": "histogram"
           }
          ],
          "histogram2d": [
           {
            "colorbar": {
             "outlinewidth": 0,
             "ticks": ""
            },
            "colorscale": [
             [
              0,
              "#0d0887"
             ],
             [
              0.1111111111111111,
              "#46039f"
             ],
             [
              0.2222222222222222,
              "#7201a8"
             ],
             [
              0.3333333333333333,
              "#9c179e"
             ],
             [
              0.4444444444444444,
              "#bd3786"
             ],
             [
              0.5555555555555556,
              "#d8576b"
             ],
             [
              0.6666666666666666,
              "#ed7953"
             ],
             [
              0.7777777777777778,
              "#fb9f3a"
             ],
             [
              0.8888888888888888,
              "#fdca26"
             ],
             [
              1,
              "#f0f921"
             ]
            ],
            "type": "histogram2d"
           }
          ],
          "histogram2dcontour": [
           {
            "colorbar": {
             "outlinewidth": 0,
             "ticks": ""
            },
            "colorscale": [
             [
              0,
              "#0d0887"
             ],
             [
              0.1111111111111111,
              "#46039f"
             ],
             [
              0.2222222222222222,
              "#7201a8"
             ],
             [
              0.3333333333333333,
              "#9c179e"
             ],
             [
              0.4444444444444444,
              "#bd3786"
             ],
             [
              0.5555555555555556,
              "#d8576b"
             ],
             [
              0.6666666666666666,
              "#ed7953"
             ],
             [
              0.7777777777777778,
              "#fb9f3a"
             ],
             [
              0.8888888888888888,
              "#fdca26"
             ],
             [
              1,
              "#f0f921"
             ]
            ],
            "type": "histogram2dcontour"
           }
          ],
          "mesh3d": [
           {
            "colorbar": {
             "outlinewidth": 0,
             "ticks": ""
            },
            "type": "mesh3d"
           }
          ],
          "parcoords": [
           {
            "line": {
             "colorbar": {
              "outlinewidth": 0,
              "ticks": ""
             }
            },
            "type": "parcoords"
           }
          ],
          "pie": [
           {
            "automargin": true,
            "type": "pie"
           }
          ],
          "scatter": [
           {
            "fillpattern": {
             "fillmode": "overlay",
             "size": 10,
             "solidity": 0.2
            },
            "type": "scatter"
           }
          ],
          "scatter3d": [
           {
            "line": {
             "colorbar": {
              "outlinewidth": 0,
              "ticks": ""
             }
            },
            "marker": {
             "colorbar": {
              "outlinewidth": 0,
              "ticks": ""
             }
            },
            "type": "scatter3d"
           }
          ],
          "scattercarpet": [
           {
            "marker": {
             "colorbar": {
              "outlinewidth": 0,
              "ticks": ""
             }
            },
            "type": "scattercarpet"
           }
          ],
          "scattergeo": [
           {
            "marker": {
             "colorbar": {
              "outlinewidth": 0,
              "ticks": ""
             }
            },
            "type": "scattergeo"
           }
          ],
          "scattergl": [
           {
            "marker": {
             "colorbar": {
              "outlinewidth": 0,
              "ticks": ""
             }
            },
            "type": "scattergl"
           }
          ],
          "scattermapbox": [
           {
            "marker": {
             "colorbar": {
              "outlinewidth": 0,
              "ticks": ""
             }
            },
            "type": "scattermapbox"
           }
          ],
          "scatterpolar": [
           {
            "marker": {
             "colorbar": {
              "outlinewidth": 0,
              "ticks": ""
             }
            },
            "type": "scatterpolar"
           }
          ],
          "scatterpolargl": [
           {
            "marker": {
             "colorbar": {
              "outlinewidth": 0,
              "ticks": ""
             }
            },
            "type": "scatterpolargl"
           }
          ],
          "scatterternary": [
           {
            "marker": {
             "colorbar": {
              "outlinewidth": 0,
              "ticks": ""
             }
            },
            "type": "scatterternary"
           }
          ],
          "surface": [
           {
            "colorbar": {
             "outlinewidth": 0,
             "ticks": ""
            },
            "colorscale": [
             [
              0,
              "#0d0887"
             ],
             [
              0.1111111111111111,
              "#46039f"
             ],
             [
              0.2222222222222222,
              "#7201a8"
             ],
             [
              0.3333333333333333,
              "#9c179e"
             ],
             [
              0.4444444444444444,
              "#bd3786"
             ],
             [
              0.5555555555555556,
              "#d8576b"
             ],
             [
              0.6666666666666666,
              "#ed7953"
             ],
             [
              0.7777777777777778,
              "#fb9f3a"
             ],
             [
              0.8888888888888888,
              "#fdca26"
             ],
             [
              1,
              "#f0f921"
             ]
            ],
            "type": "surface"
           }
          ],
          "table": [
           {
            "cells": {
             "fill": {
              "color": "#EBF0F8"
             },
             "line": {
              "color": "white"
             }
            },
            "header": {
             "fill": {
              "color": "#C8D4E3"
             },
             "line": {
              "color": "white"
             }
            },
            "type": "table"
           }
          ]
         },
         "layout": {
          "annotationdefaults": {
           "arrowcolor": "#2a3f5f",
           "arrowhead": 0,
           "arrowwidth": 1
          },
          "autotypenumbers": "strict",
          "coloraxis": {
           "colorbar": {
            "outlinewidth": 0,
            "ticks": ""
           }
          },
          "colorscale": {
           "diverging": [
            [
             0,
             "#8e0152"
            ],
            [
             0.1,
             "#c51b7d"
            ],
            [
             0.2,
             "#de77ae"
            ],
            [
             0.3,
             "#f1b6da"
            ],
            [
             0.4,
             "#fde0ef"
            ],
            [
             0.5,
             "#f7f7f7"
            ],
            [
             0.6,
             "#e6f5d0"
            ],
            [
             0.7,
             "#b8e186"
            ],
            [
             0.8,
             "#7fbc41"
            ],
            [
             0.9,
             "#4d9221"
            ],
            [
             1,
             "#276419"
            ]
           ],
           "sequential": [
            [
             0,
             "#0d0887"
            ],
            [
             0.1111111111111111,
             "#46039f"
            ],
            [
             0.2222222222222222,
             "#7201a8"
            ],
            [
             0.3333333333333333,
             "#9c179e"
            ],
            [
             0.4444444444444444,
             "#bd3786"
            ],
            [
             0.5555555555555556,
             "#d8576b"
            ],
            [
             0.6666666666666666,
             "#ed7953"
            ],
            [
             0.7777777777777778,
             "#fb9f3a"
            ],
            [
             0.8888888888888888,
             "#fdca26"
            ],
            [
             1,
             "#f0f921"
            ]
           ],
           "sequentialminus": [
            [
             0,
             "#0d0887"
            ],
            [
             0.1111111111111111,
             "#46039f"
            ],
            [
             0.2222222222222222,
             "#7201a8"
            ],
            [
             0.3333333333333333,
             "#9c179e"
            ],
            [
             0.4444444444444444,
             "#bd3786"
            ],
            [
             0.5555555555555556,
             "#d8576b"
            ],
            [
             0.6666666666666666,
             "#ed7953"
            ],
            [
             0.7777777777777778,
             "#fb9f3a"
            ],
            [
             0.8888888888888888,
             "#fdca26"
            ],
            [
             1,
             "#f0f921"
            ]
           ]
          },
          "colorway": [
           "#636efa",
           "#EF553B",
           "#00cc96",
           "#ab63fa",
           "#FFA15A",
           "#19d3f3",
           "#FF6692",
           "#B6E880",
           "#FF97FF",
           "#FECB52"
          ],
          "font": {
           "color": "#2a3f5f"
          },
          "geo": {
           "bgcolor": "white",
           "lakecolor": "white",
           "landcolor": "#E5ECF6",
           "showlakes": true,
           "showland": true,
           "subunitcolor": "white"
          },
          "hoverlabel": {
           "align": "left"
          },
          "hovermode": "closest",
          "mapbox": {
           "style": "light"
          },
          "paper_bgcolor": "white",
          "plot_bgcolor": "#E5ECF6",
          "polar": {
           "angularaxis": {
            "gridcolor": "white",
            "linecolor": "white",
            "ticks": ""
           },
           "bgcolor": "#E5ECF6",
           "radialaxis": {
            "gridcolor": "white",
            "linecolor": "white",
            "ticks": ""
           }
          },
          "scene": {
           "xaxis": {
            "backgroundcolor": "#E5ECF6",
            "gridcolor": "white",
            "gridwidth": 2,
            "linecolor": "white",
            "showbackground": true,
            "ticks": "",
            "zerolinecolor": "white"
           },
           "yaxis": {
            "backgroundcolor": "#E5ECF6",
            "gridcolor": "white",
            "gridwidth": 2,
            "linecolor": "white",
            "showbackground": true,
            "ticks": "",
            "zerolinecolor": "white"
           },
           "zaxis": {
            "backgroundcolor": "#E5ECF6",
            "gridcolor": "white",
            "gridwidth": 2,
            "linecolor": "white",
            "showbackground": true,
            "ticks": "",
            "zerolinecolor": "white"
           }
          },
          "shapedefaults": {
           "line": {
            "color": "#2a3f5f"
           }
          },
          "ternary": {
           "aaxis": {
            "gridcolor": "white",
            "linecolor": "white",
            "ticks": ""
           },
           "baxis": {
            "gridcolor": "white",
            "linecolor": "white",
            "ticks": ""
           },
           "bgcolor": "#E5ECF6",
           "caxis": {
            "gridcolor": "white",
            "linecolor": "white",
            "ticks": ""
           }
          },
          "title": {
           "x": 0.05
          },
          "xaxis": {
           "automargin": true,
           "gridcolor": "white",
           "linecolor": "white",
           "ticks": "",
           "title": {
            "standoff": 15
           },
           "zerolinecolor": "white",
           "zerolinewidth": 2
          },
          "yaxis": {
           "automargin": true,
           "gridcolor": "white",
           "linecolor": "white",
           "ticks": "",
           "title": {
            "standoff": 15
           },
           "zerolinecolor": "white",
           "zerolinewidth": 2
          }
         }
        },
        "title": {
         "text": "treemap column: countries"
        }
       }
      }
     },
     "metadata": {},
     "output_type": "display_data"
    },
    {
     "data": {
      "application/vnd.plotly.v1+json": {
       "config": {
        "plotlyServerURL": "https://plot.ly"
       },
       "data": [
        {
         "labels": [
          0,
          0.1111111111,
          0.2222222222,
          0.3333333333,
          0.4444444444,
          0.5555555556,
          0.6666666667,
          0.7777777778,
          1,
          0.8888888889
         ],
         "parents": [
          "",
          "",
          "",
          "",
          "",
          "",
          "",
          "",
          "",
          ""
         ],
         "textinfo": "label+value",
         "type": "treemap",
         "values": [
          1932961,
          302210,
          214708,
          114517,
          54259,
          29086,
          23089,
          12311,
          12124,
          7574
         ]
        }
       ],
       "layout": {
        "font": {
         "color": "white"
        },
        "paper_bgcolor": "black",
        "plot_bgcolor": "grey",
        "template": {
         "data": {
          "bar": [
           {
            "error_x": {
             "color": "#2a3f5f"
            },
            "error_y": {
             "color": "#2a3f5f"
            },
            "marker": {
             "line": {
              "color": "#E5ECF6",
              "width": 0.5
             },
             "pattern": {
              "fillmode": "overlay",
              "size": 10,
              "solidity": 0.2
             }
            },
            "type": "bar"
           }
          ],
          "barpolar": [
           {
            "marker": {
             "line": {
              "color": "#E5ECF6",
              "width": 0.5
             },
             "pattern": {
              "fillmode": "overlay",
              "size": 10,
              "solidity": 0.2
             }
            },
            "type": "barpolar"
           }
          ],
          "carpet": [
           {
            "aaxis": {
             "endlinecolor": "#2a3f5f",
             "gridcolor": "white",
             "linecolor": "white",
             "minorgridcolor": "white",
             "startlinecolor": "#2a3f5f"
            },
            "baxis": {
             "endlinecolor": "#2a3f5f",
             "gridcolor": "white",
             "linecolor": "white",
             "minorgridcolor": "white",
             "startlinecolor": "#2a3f5f"
            },
            "type": "carpet"
           }
          ],
          "choropleth": [
           {
            "colorbar": {
             "outlinewidth": 0,
             "ticks": ""
            },
            "type": "choropleth"
           }
          ],
          "contour": [
           {
            "colorbar": {
             "outlinewidth": 0,
             "ticks": ""
            },
            "colorscale": [
             [
              0,
              "#0d0887"
             ],
             [
              0.1111111111111111,
              "#46039f"
             ],
             [
              0.2222222222222222,
              "#7201a8"
             ],
             [
              0.3333333333333333,
              "#9c179e"
             ],
             [
              0.4444444444444444,
              "#bd3786"
             ],
             [
              0.5555555555555556,
              "#d8576b"
             ],
             [
              0.6666666666666666,
              "#ed7953"
             ],
             [
              0.7777777777777778,
              "#fb9f3a"
             ],
             [
              0.8888888888888888,
              "#fdca26"
             ],
             [
              1,
              "#f0f921"
             ]
            ],
            "type": "contour"
           }
          ],
          "contourcarpet": [
           {
            "colorbar": {
             "outlinewidth": 0,
             "ticks": ""
            },
            "type": "contourcarpet"
           }
          ],
          "heatmap": [
           {
            "colorbar": {
             "outlinewidth": 0,
             "ticks": ""
            },
            "colorscale": [
             [
              0,
              "#0d0887"
             ],
             [
              0.1111111111111111,
              "#46039f"
             ],
             [
              0.2222222222222222,
              "#7201a8"
             ],
             [
              0.3333333333333333,
              "#9c179e"
             ],
             [
              0.4444444444444444,
              "#bd3786"
             ],
             [
              0.5555555555555556,
              "#d8576b"
             ],
             [
              0.6666666666666666,
              "#ed7953"
             ],
             [
              0.7777777777777778,
              "#fb9f3a"
             ],
             [
              0.8888888888888888,
              "#fdca26"
             ],
             [
              1,
              "#f0f921"
             ]
            ],
            "type": "heatmap"
           }
          ],
          "heatmapgl": [
           {
            "colorbar": {
             "outlinewidth": 0,
             "ticks": ""
            },
            "colorscale": [
             [
              0,
              "#0d0887"
             ],
             [
              0.1111111111111111,
              "#46039f"
             ],
             [
              0.2222222222222222,
              "#7201a8"
             ],
             [
              0.3333333333333333,
              "#9c179e"
             ],
             [
              0.4444444444444444,
              "#bd3786"
             ],
             [
              0.5555555555555556,
              "#d8576b"
             ],
             [
              0.6666666666666666,
              "#ed7953"
             ],
             [
              0.7777777777777778,
              "#fb9f3a"
             ],
             [
              0.8888888888888888,
              "#fdca26"
             ],
             [
              1,
              "#f0f921"
             ]
            ],
            "type": "heatmapgl"
           }
          ],
          "histogram": [
           {
            "marker": {
             "pattern": {
              "fillmode": "overlay",
              "size": 10,
              "solidity": 0.2
             }
            },
            "type": "histogram"
           }
          ],
          "histogram2d": [
           {
            "colorbar": {
             "outlinewidth": 0,
             "ticks": ""
            },
            "colorscale": [
             [
              0,
              "#0d0887"
             ],
             [
              0.1111111111111111,
              "#46039f"
             ],
             [
              0.2222222222222222,
              "#7201a8"
             ],
             [
              0.3333333333333333,
              "#9c179e"
             ],
             [
              0.4444444444444444,
              "#bd3786"
             ],
             [
              0.5555555555555556,
              "#d8576b"
             ],
             [
              0.6666666666666666,
              "#ed7953"
             ],
             [
              0.7777777777777778,
              "#fb9f3a"
             ],
             [
              0.8888888888888888,
              "#fdca26"
             ],
             [
              1,
              "#f0f921"
             ]
            ],
            "type": "histogram2d"
           }
          ],
          "histogram2dcontour": [
           {
            "colorbar": {
             "outlinewidth": 0,
             "ticks": ""
            },
            "colorscale": [
             [
              0,
              "#0d0887"
             ],
             [
              0.1111111111111111,
              "#46039f"
             ],
             [
              0.2222222222222222,
              "#7201a8"
             ],
             [
              0.3333333333333333,
              "#9c179e"
             ],
             [
              0.4444444444444444,
              "#bd3786"
             ],
             [
              0.5555555555555556,
              "#d8576b"
             ],
             [
              0.6666666666666666,
              "#ed7953"
             ],
             [
              0.7777777777777778,
              "#fb9f3a"
             ],
             [
              0.8888888888888888,
              "#fdca26"
             ],
             [
              1,
              "#f0f921"
             ]
            ],
            "type": "histogram2dcontour"
           }
          ],
          "mesh3d": [
           {
            "colorbar": {
             "outlinewidth": 0,
             "ticks": ""
            },
            "type": "mesh3d"
           }
          ],
          "parcoords": [
           {
            "line": {
             "colorbar": {
              "outlinewidth": 0,
              "ticks": ""
             }
            },
            "type": "parcoords"
           }
          ],
          "pie": [
           {
            "automargin": true,
            "type": "pie"
           }
          ],
          "scatter": [
           {
            "fillpattern": {
             "fillmode": "overlay",
             "size": 10,
             "solidity": 0.2
            },
            "type": "scatter"
           }
          ],
          "scatter3d": [
           {
            "line": {
             "colorbar": {
              "outlinewidth": 0,
              "ticks": ""
             }
            },
            "marker": {
             "colorbar": {
              "outlinewidth": 0,
              "ticks": ""
             }
            },
            "type": "scatter3d"
           }
          ],
          "scattercarpet": [
           {
            "marker": {
             "colorbar": {
              "outlinewidth": 0,
              "ticks": ""
             }
            },
            "type": "scattercarpet"
           }
          ],
          "scattergeo": [
           {
            "marker": {
             "colorbar": {
              "outlinewidth": 0,
              "ticks": ""
             }
            },
            "type": "scattergeo"
           }
          ],
          "scattergl": [
           {
            "marker": {
             "colorbar": {
              "outlinewidth": 0,
              "ticks": ""
             }
            },
            "type": "scattergl"
           }
          ],
          "scattermapbox": [
           {
            "marker": {
             "colorbar": {
              "outlinewidth": 0,
              "ticks": ""
             }
            },
            "type": "scattermapbox"
           }
          ],
          "scatterpolar": [
           {
            "marker": {
             "colorbar": {
              "outlinewidth": 0,
              "ticks": ""
             }
            },
            "type": "scatterpolar"
           }
          ],
          "scatterpolargl": [
           {
            "marker": {
             "colorbar": {
              "outlinewidth": 0,
              "ticks": ""
             }
            },
            "type": "scatterpolargl"
           }
          ],
          "scatterternary": [
           {
            "marker": {
             "colorbar": {
              "outlinewidth": 0,
              "ticks": ""
             }
            },
            "type": "scatterternary"
           }
          ],
          "surface": [
           {
            "colorbar": {
             "outlinewidth": 0,
             "ticks": ""
            },
            "colorscale": [
             [
              0,
              "#0d0887"
             ],
             [
              0.1111111111111111,
              "#46039f"
             ],
             [
              0.2222222222222222,
              "#7201a8"
             ],
             [
              0.3333333333333333,
              "#9c179e"
             ],
             [
              0.4444444444444444,
              "#bd3786"
             ],
             [
              0.5555555555555556,
              "#d8576b"
             ],
             [
              0.6666666666666666,
              "#ed7953"
             ],
             [
              0.7777777777777778,
              "#fb9f3a"
             ],
             [
              0.8888888888888888,
              "#fdca26"
             ],
             [
              1,
              "#f0f921"
             ]
            ],
            "type": "surface"
           }
          ],
          "table": [
           {
            "cells": {
             "fill": {
              "color": "#EBF0F8"
             },
             "line": {
              "color": "white"
             }
            },
            "header": {
             "fill": {
              "color": "#C8D4E3"
             },
             "line": {
              "color": "white"
             }
            },
            "type": "table"
           }
          ]
         },
         "layout": {
          "annotationdefaults": {
           "arrowcolor": "#2a3f5f",
           "arrowhead": 0,
           "arrowwidth": 1
          },
          "autotypenumbers": "strict",
          "coloraxis": {
           "colorbar": {
            "outlinewidth": 0,
            "ticks": ""
           }
          },
          "colorscale": {
           "diverging": [
            [
             0,
             "#8e0152"
            ],
            [
             0.1,
             "#c51b7d"
            ],
            [
             0.2,
             "#de77ae"
            ],
            [
             0.3,
             "#f1b6da"
            ],
            [
             0.4,
             "#fde0ef"
            ],
            [
             0.5,
             "#f7f7f7"
            ],
            [
             0.6,
             "#e6f5d0"
            ],
            [
             0.7,
             "#b8e186"
            ],
            [
             0.8,
             "#7fbc41"
            ],
            [
             0.9,
             "#4d9221"
            ],
            [
             1,
             "#276419"
            ]
           ],
           "sequential": [
            [
             0,
             "#0d0887"
            ],
            [
             0.1111111111111111,
             "#46039f"
            ],
            [
             0.2222222222222222,
             "#7201a8"
            ],
            [
             0.3333333333333333,
             "#9c179e"
            ],
            [
             0.4444444444444444,
             "#bd3786"
            ],
            [
             0.5555555555555556,
             "#d8576b"
            ],
            [
             0.6666666666666666,
             "#ed7953"
            ],
            [
             0.7777777777777778,
             "#fb9f3a"
            ],
            [
             0.8888888888888888,
             "#fdca26"
            ],
            [
             1,
             "#f0f921"
            ]
           ],
           "sequentialminus": [
            [
             0,
             "#0d0887"
            ],
            [
             0.1111111111111111,
             "#46039f"
            ],
            [
             0.2222222222222222,
             "#7201a8"
            ],
            [
             0.3333333333333333,
             "#9c179e"
            ],
            [
             0.4444444444444444,
             "#bd3786"
            ],
            [
             0.5555555555555556,
             "#d8576b"
            ],
            [
             0.6666666666666666,
             "#ed7953"
            ],
            [
             0.7777777777777778,
             "#fb9f3a"
            ],
            [
             0.8888888888888888,
             "#fdca26"
            ],
            [
             1,
             "#f0f921"
            ]
           ]
          },
          "colorway": [
           "#636efa",
           "#EF553B",
           "#00cc96",
           "#ab63fa",
           "#FFA15A",
           "#19d3f3",
           "#FF6692",
           "#B6E880",
           "#FF97FF",
           "#FECB52"
          ],
          "font": {
           "color": "#2a3f5f"
          },
          "geo": {
           "bgcolor": "white",
           "lakecolor": "white",
           "landcolor": "#E5ECF6",
           "showlakes": true,
           "showland": true,
           "subunitcolor": "white"
          },
          "hoverlabel": {
           "align": "left"
          },
          "hovermode": "closest",
          "mapbox": {
           "style": "light"
          },
          "paper_bgcolor": "white",
          "plot_bgcolor": "#E5ECF6",
          "polar": {
           "angularaxis": {
            "gridcolor": "white",
            "linecolor": "white",
            "ticks": ""
           },
           "bgcolor": "#E5ECF6",
           "radialaxis": {
            "gridcolor": "white",
            "linecolor": "white",
            "ticks": ""
           }
          },
          "scene": {
           "xaxis": {
            "backgroundcolor": "#E5ECF6",
            "gridcolor": "white",
            "gridwidth": 2,
            "linecolor": "white",
            "showbackground": true,
            "ticks": "",
            "zerolinecolor": "white"
           },
           "yaxis": {
            "backgroundcolor": "#E5ECF6",
            "gridcolor": "white",
            "gridwidth": 2,
            "linecolor": "white",
            "showbackground": true,
            "ticks": "",
            "zerolinecolor": "white"
           },
           "zaxis": {
            "backgroundcolor": "#E5ECF6",
            "gridcolor": "white",
            "gridwidth": 2,
            "linecolor": "white",
            "showbackground": true,
            "ticks": "",
            "zerolinecolor": "white"
           }
          },
          "shapedefaults": {
           "line": {
            "color": "#2a3f5f"
           }
          },
          "ternary": {
           "aaxis": {
            "gridcolor": "white",
            "linecolor": "white",
            "ticks": ""
           },
           "baxis": {
            "gridcolor": "white",
            "linecolor": "white",
            "ticks": ""
           },
           "bgcolor": "#E5ECF6",
           "caxis": {
            "gridcolor": "white",
            "linecolor": "white",
            "ticks": ""
           }
          },
          "title": {
           "x": 0.05
          },
          "xaxis": {
           "automargin": true,
           "gridcolor": "white",
           "linecolor": "white",
           "ticks": "",
           "title": {
            "standoff": 15
           },
           "zerolinecolor": "white",
           "zerolinewidth": 2
          },
          "yaxis": {
           "automargin": true,
           "gridcolor": "white",
           "linecolor": "white",
           "ticks": "",
           "title": {
            "standoff": 15
           },
           "zerolinecolor": "white",
           "zerolinewidth": 2
          }
         }
        },
        "title": {
         "text": "treemap column: labels_note"
        }
       }
      }
     },
     "metadata": {},
     "output_type": "display_data"
    }
   ],
   "source": [
    "colonnes_a_travailler = ['ecoscore_tags', 'ecoscore_score', 'countries', 'labels_note']  \n",
    "df = load_jsonl_to_dataframe(file_path)\n",
    "for column in colonnes_a_travailler:\n",
    "    create_treemap_for_column(df, column)"
   ]
  },
  {
   "cell_type": "code",
   "execution_count": 34,
   "metadata": {},
   "outputs": [],
   "source": [
    "def count_unique_values(jsonl_file_path, colonnes_a_travailler):\n",
    "    data = []\n",
    "    with open(jsonl_file_path, 'r') as file:\n",
    "        for line in file:\n",
    "            data.append(json.loads(line))\n",
    "    df = pd.DataFrame(data)\n",
    "    unique_counts = {}\n",
    "    for column in colonnes_a_travailler:\n",
    "        if column in df.columns:\n",
    "            unique_count = df[column].nunique()\n",
    "            if pd.api.types.is_numeric_dtype(df[column]):\n",
    "                min_val = df[column].min()\n",
    "                max_val = df[column].max()\n",
    "                unique_counts[column] = {\n",
    "                    'unique_count': unique_count,\n",
    "                    'min': min_val,\n",
    "                    'max': max_val\n",
    "                }\n",
    "            else:\n",
    "                unique_counts[column] = {\n",
    "                    'unique_count': unique_count\n",
    "                }\n",
    "        else:\n",
    "            unique_counts[column] = 'Column not found in data'\n",
    "    return unique_counts"
   ]
  },
  {
   "cell_type": "code",
   "execution_count": 35,
   "metadata": {},
   "outputs": [
    {
     "name": "stdout",
     "output_type": "stream",
     "text": [
      "{'ecoscore_tags': {'unique_count': 7, 'min': 0.0, 'max': 1.0}, 'ecoscore_score': {'unique_count': 102, 'min': 0.0, 'max': 100.0}, 'countries': {'unique_count': 880, 'min': 0.0, 'max': 1.0}, 'labels_note': {'unique_count': 10, 'min': 0.0, 'max': 1.0}}\n"
     ]
    }
   ],
   "source": [
    "unique_values = count_unique_values(file_path, colonnes_a_travailler)\n",
    "print(unique_values)"
   ]
  },
  {
   "cell_type": "code",
   "execution_count": null,
   "metadata": {},
   "outputs": [],
   "source": []
  }
 ],
 "metadata": {
  "kernelspec": {
   "display_name": "greenIa",
   "language": "python",
   "name": "python3"
  },
  "language_info": {
   "codemirror_mode": {
    "name": "ipython",
    "version": 3
   },
   "file_extension": ".py",
   "mimetype": "text/x-python",
   "name": "python",
   "nbconvert_exporter": "python",
   "pygments_lexer": "ipython3",
   "version": "3.9.18"
  }
 },
 "nbformat": 4,
 "nbformat_minor": 2
}
