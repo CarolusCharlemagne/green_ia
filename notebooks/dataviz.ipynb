{
 "cells": [
  {
   "cell_type": "code",
   "execution_count": null,
   "metadata": {},
   "outputs": [],
   "source": [
    "import json\n",
    "import random\n",
    "import pandas as pd\n",
    "import jsonlines\n",
    "import warnings\n",
    "import plotly.graph_objects as go\n",
    "\n",
    "warnings.filterwarnings(\"ignore\", category=pd.errors.DtypeWarning)\n",
    "pd.set_option('display.max_rows', None)\n",
    "pd.set_option('display.max_columns', None)\n",
    "pd.set_option('display.colheader_justify', 'left') \n",
    "pd.set_option('display.max_colwidth', None)  \n",
    "pd.set_option('display.width', None)  "
   ]
  },
  {
   "cell_type": "code",
   "execution_count": null,
   "metadata": {},
   "outputs": [],
   "source": [
    "file_path = '/home/carolus/Documents/school/green_ia/data/10_data/10_train_02.jsonl'\n",
    "#file_path_bis = '/home/carolus/Documents/school/green_ia/data/17_data/17_openfoodfacts_02.jsonl'\n",
    "num_samples = 500"
   ]
  },
  {
   "cell_type": "code",
   "execution_count": null,
   "metadata": {},
   "outputs": [],
   "source": [
    "def count_objects_in_jsonl(file_path):\n",
    "    count = 0\n",
    "    with open(file_path, 'r', encoding='utf-8') as file:\n",
    "        for line in file:\n",
    "            count += 1\n",
    "    return count\n",
    "print(f\"nombre objets {file_path}: {count_objects_in_jsonl(file_path)}\")\n"
   ]
  },
  {
   "cell_type": "code",
   "execution_count": null,
   "metadata": {},
   "outputs": [],
   "source": [
    "def sample_jsonl_file(file_path, num_samples):\n",
    "    sample_lines = []\n",
    "\n",
    "    with open(file_path, 'r') as file:\n",
    "        line_count = 0\n",
    "        for line in file:\n",
    "            line_count += 1\n",
    "            if len(sample_lines) < num_samples:\n",
    "                sample_lines.append(line)\n",
    "            else:\n",
    "                idx = random.randint(0, line_count - 1)\n",
    "                if idx < num_samples:\n",
    "                    sample_lines[idx] = line\n",
    "\n",
    "    data_list = [json.loads(line) for line in sample_lines]\n",
    "    df = pd.DataFrame(data_list)\n",
    "    return df\n",
    "df = sample_jsonl_file(file_path, num_samples)"
   ]
  },
  {
   "cell_type": "code",
   "execution_count": null,
   "metadata": {},
   "outputs": [],
   "source": [
    "#occurrences = df['food_group'].value_counts()\n",
    "#print(occurrences)"
   ]
  },
  {
   "cell_type": "code",
   "execution_count": null,
   "metadata": {},
   "outputs": [],
   "source": [
    "df.tail(1)"
   ]
  },
  {
   "cell_type": "code",
   "execution_count": null,
   "metadata": {},
   "outputs": [],
   "source": [
    "df.tail(100)"
   ]
  },
  {
   "cell_type": "code",
   "execution_count": null,
   "metadata": {},
   "outputs": [],
   "source": [
    "col_nan = 'additives'\n",
    "nb_empty = (df[col_nan].isna()).sum() \n",
    "#nb_empty = (df[col_nan] == 'empty').sum() \n",
    "nb_total = len(df)\n",
    "pourcentage_empty = (nb_empty / nb_total) * 100\n",
    "print(f\"percetange empty in {col_nan}: {pourcentage_empty:.2f}%\")"
   ]
  },
  {
   "cell_type": "code",
   "execution_count": null,
   "metadata": {},
   "outputs": [],
   "source": [
    "#def load_jsonl_to_dataframe(file_path):\n",
    "#    data = []\n",
    "#    with open(file_path, 'r') as file:\n",
    "#        for line in file:\n",
    "#            data.append(json.loads(line))\n",
    "#    df = pd.DataFrame(data)\n",
    "#    return df\n",
    "#\n",
    "#def create_treemap_for_column(df, column_name):\n",
    "#    if column_name not in df.columns:\n",
    "#        print(f\"warning, column: '{column_name}'does not exists\")\n",
    "#        return\n",
    "#    data = df[column_name].value_counts().reset_index()\n",
    "#    data.columns = [column_name, 'count']\n",
    "#    fig = go.Figure(go.Treemap(\n",
    "#        labels=data[column_name],\n",
    "#        parents=[\"\"] * len(data),\n",
    "#        values=data['count'],\n",
    "#        textinfo='label+value',  \n",
    "#    ))\n",
    "#    fig.update_layout(\n",
    "#        title=f'treemap column: {column_name}',\n",
    "#        paper_bgcolor='white',  \n",
    "#        plot_bgcolor='white',   \n",
    "#        font_color='black'      \n",
    "#    )\n",
    "#    fig.show()"
   ]
  },
  {
   "cell_type": "code",
   "execution_count": null,
   "metadata": {},
   "outputs": [],
   "source": [
    "#colonnes_a_travailler = ['stores']  \n",
    "#df = load_jsonl_to_dataframe(file_path)\n",
    "#for column in colonnes_a_travailler:\n",
    "#    create_treemap_for_column(df, column)"
   ]
  },
  {
   "cell_type": "code",
   "execution_count": null,
   "metadata": {},
   "outputs": [],
   "source": [
    "#nb_empty = df['ecoscore_score'].isna().sum()\n",
    "#nb_total = len(df)\n",
    "#pourcentage_empty = (nb_empty / nb_total) * 100\n",
    "#print(f\"percetange empty in ecoscore_score before NaN reduction : {pourcentage_empty:.2f}%\")"
   ]
  },
  {
   "cell_type": "code",
   "execution_count": null,
   "metadata": {},
   "outputs": [],
   "source": [
    "#nb_empty = df['countries'].isna().sum()\n",
    "#nb_total = len(df)\n",
    "#pourcentage_empty = (nb_empty / nb_total) * 100\n",
    "#print(f\"percetange empty in countries before NaN reduction : {pourcentage_empty:.2f}%\")"
   ]
  },
  {
   "cell_type": "code",
   "execution_count": null,
   "metadata": {},
   "outputs": [],
   "source": [
    "#nb_empty = df['groups'].isna().sum()\n",
    "#nb_total = len(df)\n",
    "#pourcentage_empty = (nb_empty / nb_total) * 100\n",
    "#print(f\"percetange empty in groups before NaN reduction : {pourcentage_empty:.2f}%\")"
   ]
  },
  {
   "cell_type": "code",
   "execution_count": null,
   "metadata": {},
   "outputs": [],
   "source": [
    "#nb_empty = df['text_data'].isna().sum()\n",
    "#nb_total = len(df)\n",
    "#pourcentage_empty = (nb_empty / nb_total) * 100\n",
    "#print(f\"percetange empty in text_data before NaN reduction : {pourcentage_empty:.2f}%\")"
   ]
  },
  {
   "cell_type": "code",
   "execution_count": null,
   "metadata": {},
   "outputs": [],
   "source": [
    "#nb_empty = df['labels_note'].isna().sum()\n",
    "#nb_total = len(df)\n",
    "#pourcentage_empty = (nb_empty / nb_total) * 100\n",
    "#print(f\"percetange empty in labels_note before NaN reduction : {pourcentage_empty:.2f}%\")"
   ]
  },
  {
   "cell_type": "code",
   "execution_count": null,
   "metadata": {},
   "outputs": [],
   "source": [
    "#nb_empty = df['categories'].isna().sum()\n",
    "#nb_total = len(df)\n",
    "#pourcentage_empty = (nb_empty / nb_total) * 100\n",
    "#print(f\"percetange empty in categories before NaN reduction : {pourcentage_empty:.2f}%\")"
   ]
  },
  {
   "cell_type": "code",
   "execution_count": null,
   "metadata": {},
   "outputs": [],
   "source": [
    "#file_path_csv = '/home/carolus/Documents/school/green_ia/scripts/validation_predictions.csv'\n",
    "#df_csv = pd.read_csv(file_path_csv)"
   ]
  },
  {
   "cell_type": "code",
   "execution_count": null,
   "metadata": {},
   "outputs": [],
   "source": [
    "#df_csv.head(60)"
   ]
  },
  {
   "cell_type": "code",
   "execution_count": null,
   "metadata": {},
   "outputs": [],
   "source": [
    "#df_csv['difference'] = df_csv['true'] - df_csv['predictions']\n",
    "#max_diff = df_csv['difference'].max()\n",
    "#min_diff = df_csv['difference'].min()\n",
    "#mean_diff = df_csv['difference'].mean()  \n",
    "#median_diff = df_csv['difference'].median()  \n",
    "#total_rows = df_csv.shape[0]\n",
    "#df_csv['difference'] = df_csv['true'] - df_csv['predictions']\n",
    "#count_greater_than_2 = (df_csv['difference'].abs() > 2).sum()\n",
    "#percentage = (count_greater_than_2 / total_rows) * 100\n",
    "\n",
    "#print(f\"Écart maximum: {max_diff}\")\n",
    "#print(f\"Écart minimum: {min_diff}\")\n",
    "#print(f\"Écart moyen: {mean_diff}\")\n",
    "#print(f\"Écart médian: {median_diff}\")\n",
    "#print(f\"poucentage lignes écart supérieur à 2% : {percentage}%\")"
   ]
  },
  {
   "cell_type": "code",
   "execution_count": null,
   "metadata": {},
   "outputs": [],
   "source": []
  }
 ],
 "metadata": {
  "kernelspec": {
   "display_name": "greenIa",
   "language": "python",
   "name": "python3"
  },
  "language_info": {
   "codemirror_mode": {
    "name": "ipython",
    "version": 3
   },
   "file_extension": ".py",
   "mimetype": "text/x-python",
   "name": "python",
   "nbconvert_exporter": "python",
   "pygments_lexer": "ipython3",
   "version": "3.9.18"
  }
 },
 "nbformat": 4,
 "nbformat_minor": 2
}
