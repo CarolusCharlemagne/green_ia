{
 "cells": [
  {
   "cell_type": "code",
   "execution_count": 331,
   "metadata": {},
   "outputs": [],
   "source": [
    "import json\n",
    "import random\n",
    "import pandas as pd\n",
    "import jsonlines\n",
    "import warnings\n",
    "import plotly.graph_objects as go\n",
    "\n",
    "pd.set_option('display.max_rows', 100)\n",
    "warnings.filterwarnings(\"ignore\", category=pd.errors.DtypeWarning)"
   ]
  },
  {
   "cell_type": "code",
   "execution_count": 332,
   "metadata": {},
   "outputs": [],
   "source": [
    "file_path = '/home/carolus/Documents/school/green_ia/data/05_data/05_openfoodfacts_05.jsonl'\n",
    "num_samples = 500"
   ]
  },
  {
   "cell_type": "code",
   "execution_count": 333,
   "metadata": {},
   "outputs": [],
   "source": [
    "def sample_jsonl_file(file_path, num_samples):\n",
    "    sample_lines = []\n",
    "\n",
    "    with open(file_path, 'r') as file:\n",
    "        line_count = 0\n",
    "        for line in file:\n",
    "            line_count += 1\n",
    "            if len(sample_lines) < num_samples:\n",
    "                sample_lines.append(line)\n",
    "            else:\n",
    "                idx = random.randint(0, line_count - 1)\n",
    "                if idx < num_samples:\n",
    "                    sample_lines[idx] = line\n",
    "\n",
    "    data_list = [json.loads(line) for line in sample_lines]\n",
    "    df = pd.DataFrame(data_list)\n",
    "    return df"
   ]
  },
  {
   "cell_type": "code",
   "execution_count": 334,
   "metadata": {},
   "outputs": [],
   "source": [
    "df = sample_jsonl_file(file_path, num_samples)"
   ]
  },
  {
   "cell_type": "code",
   "execution_count": 335,
   "metadata": {},
   "outputs": [
    {
     "data": {
      "text/html": [
       "<div>\n",
       "<style scoped>\n",
       "    .dataframe tbody tr th:only-of-type {\n",
       "        vertical-align: middle;\n",
       "    }\n",
       "\n",
       "    .dataframe tbody tr th {\n",
       "        vertical-align: top;\n",
       "    }\n",
       "\n",
       "    .dataframe thead th {\n",
       "        text-align: right;\n",
       "    }\n",
       "</style>\n",
       "<table border=\"1\" class=\"dataframe\">\n",
       "  <thead>\n",
       "    <tr style=\"text-align: right;\">\n",
       "      <th></th>\n",
       "      <th>groups</th>\n",
       "      <th>packaging</th>\n",
       "      <th>name</th>\n",
       "      <th>ecoscore_tags</th>\n",
       "      <th>ecoscore_score</th>\n",
       "      <th>countries</th>\n",
       "      <th>ingredients</th>\n",
       "      <th>categories</th>\n",
       "      <th>labels_note</th>\n",
       "    </tr>\n",
       "  </thead>\n",
       "  <tbody>\n",
       "    <tr>\n",
       "      <th>440</th>\n",
       "      <td>0.000000</td>\n",
       "      <td>none</td>\n",
       "      <td>gluten vrije oaties</td>\n",
       "      <td>0.75</td>\n",
       "      <td>36.0</td>\n",
       "      <td>0.655738</td>\n",
       "      <td>none</td>\n",
       "      <td>sweetsnacks snacks</td>\n",
       "      <td>0.000000</td>\n",
       "    </tr>\n",
       "    <tr>\n",
       "      <th>441</th>\n",
       "      <td>NaN</td>\n",
       "      <td>none</td>\n",
       "      <td>still water</td>\n",
       "      <td>NaN</td>\n",
       "      <td>NaN</td>\n",
       "      <td>0.994536</td>\n",
       "      <td>none</td>\n",
       "      <td>none</td>\n",
       "      <td>0.000000</td>\n",
       "    </tr>\n",
       "    <tr>\n",
       "      <th>442</th>\n",
       "      <td>NaN</td>\n",
       "      <td>none</td>\n",
       "      <td>none</td>\n",
       "      <td>NaN</td>\n",
       "      <td>NaN</td>\n",
       "      <td>0.896175</td>\n",
       "      <td>none</td>\n",
       "      <td>none</td>\n",
       "      <td>0.000000</td>\n",
       "    </tr>\n",
       "    <tr>\n",
       "      <th>443</th>\n",
       "      <td>NaN</td>\n",
       "      <td></td>\n",
       "      <td>argan oil heat defence leave in spray</td>\n",
       "      <td>NaN</td>\n",
       "      <td>NaN</td>\n",
       "      <td>0.994536</td>\n",
       "      <td>none</td>\n",
       "      <td>none</td>\n",
       "      <td>0.000000</td>\n",
       "    </tr>\n",
       "    <tr>\n",
       "      <th>444</th>\n",
       "      <td>NaN</td>\n",
       "      <td>carton</td>\n",
       "      <td>cafe en saquitos</td>\n",
       "      <td>NaN</td>\n",
       "      <td>NaN</td>\n",
       "      <td>0.021858</td>\n",
       "      <td>sugar disaccharide addedsugar</td>\n",
       "      <td>plantbasedfoods plantbasedfoodsandbeverages</td>\n",
       "      <td>0.111111</td>\n",
       "    </tr>\n",
       "    <tr>\n",
       "      <th>445</th>\n",
       "      <td>NaN</td>\n",
       "      <td>none</td>\n",
       "      <td>del monte pfirsiche schnitten</td>\n",
       "      <td>NaN</td>\n",
       "      <td>NaN</td>\n",
       "      <td>0.311475</td>\n",
       "      <td>none</td>\n",
       "      <td>none</td>\n",
       "      <td>0.000000</td>\n",
       "    </tr>\n",
       "    <tr>\n",
       "      <th>446</th>\n",
       "      <td>NaN</td>\n",
       "      <td>none</td>\n",
       "      <td>shot gingembre et fruits rouges</td>\n",
       "      <td>NaN</td>\n",
       "      <td>NaN</td>\n",
       "      <td>0.086486</td>\n",
       "      <td>none</td>\n",
       "      <td>none</td>\n",
       "      <td>0.333333</td>\n",
       "    </tr>\n",
       "    <tr>\n",
       "      <th>447</th>\n",
       "      <td>NaN</td>\n",
       "      <td>none</td>\n",
       "      <td>kel crunchy nut c / f 375g</td>\n",
       "      <td>NaN</td>\n",
       "      <td>NaN</td>\n",
       "      <td>0.292135</td>\n",
       "      <td>none</td>\n",
       "      <td>none</td>\n",
       "      <td>0.000000</td>\n",
       "    </tr>\n",
       "    <tr>\n",
       "      <th>448</th>\n",
       "      <td>NaN</td>\n",
       "      <td>none</td>\n",
       "      <td>fresh mint breath spray</td>\n",
       "      <td>NaN</td>\n",
       "      <td>NaN</td>\n",
       "      <td>0.181818</td>\n",
       "      <td></td>\n",
       "      <td>none</td>\n",
       "      <td>0.000000</td>\n",
       "    </tr>\n",
       "    <tr>\n",
       "      <th>449</th>\n",
       "      <td>NaN</td>\n",
       "      <td></td>\n",
       "      <td>fiambre cubos</td>\n",
       "      <td>NaN</td>\n",
       "      <td>NaN</td>\n",
       "      <td>0.748634</td>\n",
       "      <td>salt addedsugar</td>\n",
       "      <td>none</td>\n",
       "      <td>0.111111</td>\n",
       "    </tr>\n",
       "    <tr>\n",
       "      <th>450</th>\n",
       "      <td>NaN</td>\n",
       "      <td>none</td>\n",
       "      <td>bananen</td>\n",
       "      <td>NaN</td>\n",
       "      <td>NaN</td>\n",
       "      <td>0.333333</td>\n",
       "      <td>none</td>\n",
       "      <td>none</td>\n",
       "      <td>0.000000</td>\n",
       "    </tr>\n",
       "    <tr>\n",
       "      <th>451</th>\n",
       "      <td>NaN</td>\n",
       "      <td>none</td>\n",
       "      <td>energy gum</td>\n",
       "      <td>NaN</td>\n",
       "      <td>NaN</td>\n",
       "      <td>0.076503</td>\n",
       "      <td>none</td>\n",
       "      <td>none</td>\n",
       "      <td>0.000000</td>\n",
       "    </tr>\n",
       "    <tr>\n",
       "      <th>452</th>\n",
       "      <td>NaN</td>\n",
       "      <td>none</td>\n",
       "      <td>choco cereal bar</td>\n",
       "      <td>NaN</td>\n",
       "      <td>NaN</td>\n",
       "      <td>0.000000</td>\n",
       "      <td>none</td>\n",
       "      <td>none</td>\n",
       "      <td>0.000000</td>\n",
       "    </tr>\n",
       "    <tr>\n",
       "      <th>453</th>\n",
       "      <td>NaN</td>\n",
       "      <td>none</td>\n",
       "      <td>pita chips sea salt</td>\n",
       "      <td>NaN</td>\n",
       "      <td>NaN</td>\n",
       "      <td>1.000000</td>\n",
       "      <td>none</td>\n",
       "      <td>none</td>\n",
       "      <td>0.222222</td>\n",
       "    </tr>\n",
       "    <tr>\n",
       "      <th>454</th>\n",
       "      <td>NaN</td>\n",
       "      <td>none</td>\n",
       "      <td>cauliflower rice</td>\n",
       "      <td>NaN</td>\n",
       "      <td>NaN</td>\n",
       "      <td>0.994536</td>\n",
       "      <td>none</td>\n",
       "      <td>none</td>\n",
       "      <td>0.000000</td>\n",
       "    </tr>\n",
       "    <tr>\n",
       "      <th>455</th>\n",
       "      <td>NaN</td>\n",
       "      <td>plastic</td>\n",
       "      <td>chocolate caramel flavour flapjack</td>\n",
       "      <td>NaN</td>\n",
       "      <td>NaN</td>\n",
       "      <td>0.994536</td>\n",
       "      <td>none</td>\n",
       "      <td></td>\n",
       "      <td>0.000000</td>\n",
       "    </tr>\n",
       "    <tr>\n",
       "      <th>456</th>\n",
       "      <td>0.777778</td>\n",
       "      <td>bouteille verre</td>\n",
       "      <td>la trappe tripel</td>\n",
       "      <td>0.50</td>\n",
       "      <td>50.0</td>\n",
       "      <td>0.288136</td>\n",
       "      <td>water addedsugar</td>\n",
       "      <td>beverages</td>\n",
       "      <td>0.000000</td>\n",
       "    </tr>\n",
       "    <tr>\n",
       "      <th>457</th>\n",
       "      <td>0.777778</td>\n",
       "      <td>none</td>\n",
       "      <td>bayon fresh water</td>\n",
       "      <td>0.00</td>\n",
       "      <td>NaN</td>\n",
       "      <td>NaN</td>\n",
       "      <td>water</td>\n",
       "      <td>beverages</td>\n",
       "      <td>0.000000</td>\n",
       "    </tr>\n",
       "    <tr>\n",
       "      <th>458</th>\n",
       "      <td>0.555556</td>\n",
       "      <td>none</td>\n",
       "      <td>traditional sweetbread</td>\n",
       "      <td>NaN</td>\n",
       "      <td>NaN</td>\n",
       "      <td>1.000000</td>\n",
       "      <td>vegetableoilandfat flavouring oilandfat sugar ...</td>\n",
       "      <td>plantbasedfoods plantbasedfoodsandbeverages</td>\n",
       "      <td>0.000000</td>\n",
       "    </tr>\n",
       "    <tr>\n",
       "      <th>459</th>\n",
       "      <td>0.666667</td>\n",
       "      <td>en plastique</td>\n",
       "      <td>2 dos de cabillaud</td>\n",
       "      <td>1.00</td>\n",
       "      <td>18.0</td>\n",
       "      <td>0.296089</td>\n",
       "      <td></td>\n",
       "      <td></td>\n",
       "      <td>0.555556</td>\n",
       "    </tr>\n",
       "    <tr>\n",
       "      <th>460</th>\n",
       "      <td>NaN</td>\n",
       "      <td>none</td>\n",
       "      <td>none</td>\n",
       "      <td>NaN</td>\n",
       "      <td>NaN</td>\n",
       "      <td>0.032787</td>\n",
       "      <td>none</td>\n",
       "      <td>none</td>\n",
       "      <td>0.000000</td>\n",
       "    </tr>\n",
       "    <tr>\n",
       "      <th>461</th>\n",
       "      <td>NaN</td>\n",
       "      <td>none</td>\n",
       "      <td>6 croissants jambon fromage</td>\n",
       "      <td>NaN</td>\n",
       "      <td>NaN</td>\n",
       "      <td>0.296089</td>\n",
       "      <td>none</td>\n",
       "      <td>none</td>\n",
       "      <td>0.222222</td>\n",
       "    </tr>\n",
       "    <tr>\n",
       "      <th>462</th>\n",
       "      <td>0.000000</td>\n",
       "      <td>carton plastique</td>\n",
       "      <td>tiramisu au fruit de la passion</td>\n",
       "      <td>1.00</td>\n",
       "      <td>1.0</td>\n",
       "      <td>0.294521</td>\n",
       "      <td>oilandfat water flavouring sugar disaccharide ...</td>\n",
       "      <td>sweetsnacks snacks</td>\n",
       "      <td>0.222222</td>\n",
       "    </tr>\n",
       "    <tr>\n",
       "      <th>463</th>\n",
       "      <td>0.555556</td>\n",
       "      <td>none</td>\n",
       "      <td>crozets de savoie au sarrasin</td>\n",
       "      <td>NaN</td>\n",
       "      <td>NaN</td>\n",
       "      <td>0.000000</td>\n",
       "      <td>water</td>\n",
       "      <td>plantbasedfoods plantbasedfoodsandbeverages</td>\n",
       "      <td>0.666667</td>\n",
       "    </tr>\n",
       "    <tr>\n",
       "      <th>464</th>\n",
       "      <td>NaN</td>\n",
       "      <td>none</td>\n",
       "      <td>dugestive gemista</td>\n",
       "      <td>NaN</td>\n",
       "      <td>NaN</td>\n",
       "      <td>0.347826</td>\n",
       "      <td>none</td>\n",
       "      <td>none</td>\n",
       "      <td>0.000000</td>\n",
       "    </tr>\n",
       "    <tr>\n",
       "      <th>465</th>\n",
       "      <td>NaN</td>\n",
       "      <td>none</td>\n",
       "      <td>oeufs de lompe rouge</td>\n",
       "      <td>NaN</td>\n",
       "      <td>NaN</td>\n",
       "      <td>0.254438</td>\n",
       "      <td>salt</td>\n",
       "      <td></td>\n",
       "      <td>0.000000</td>\n",
       "    </tr>\n",
       "    <tr>\n",
       "      <th>466</th>\n",
       "      <td>NaN</td>\n",
       "      <td>none</td>\n",
       "      <td>fruit &amp; almond mix w/ yoghurt</td>\n",
       "      <td>NaN</td>\n",
       "      <td>NaN</td>\n",
       "      <td>0.032787</td>\n",
       "      <td>none</td>\n",
       "      <td>none</td>\n",
       "      <td>0.000000</td>\n",
       "    </tr>\n",
       "    <tr>\n",
       "      <th>467</th>\n",
       "      <td>0.600000</td>\n",
       "      <td></td>\n",
       "      <td>languettes de poitrine de poulet grillées</td>\n",
       "      <td>0.75</td>\n",
       "      <td>21.0</td>\n",
       "      <td>0.000000</td>\n",
       "      <td>salt</td>\n",
       "      <td></td>\n",
       "      <td>0.111111</td>\n",
       "    </tr>\n",
       "    <tr>\n",
       "      <th>468</th>\n",
       "      <td>0.555556</td>\n",
       "      <td>none</td>\n",
       "      <td>wegmans instant oatmeal variety pack</td>\n",
       "      <td>0.75</td>\n",
       "      <td>25.0</td>\n",
       "      <td>0.973404</td>\n",
       "      <td>none</td>\n",
       "      <td>cerealsandpotatoes plantbasedfoods plantbasedf...</td>\n",
       "      <td>0.000000</td>\n",
       "    </tr>\n",
       "    <tr>\n",
       "      <th>469</th>\n",
       "      <td>NaN</td>\n",
       "      <td>none</td>\n",
       "      <td>hazelnut cream k - cups</td>\n",
       "      <td>NaN</td>\n",
       "      <td>NaN</td>\n",
       "      <td>1.000000</td>\n",
       "      <td>none</td>\n",
       "      <td>none</td>\n",
       "      <td>0.000000</td>\n",
       "    </tr>\n",
       "    <tr>\n",
       "      <th>470</th>\n",
       "      <td>NaN</td>\n",
       "      <td></td>\n",
       "      <td>oua proaspete</td>\n",
       "      <td>NaN</td>\n",
       "      <td>NaN</td>\n",
       "      <td>0.759563</td>\n",
       "      <td>none</td>\n",
       "      <td>none</td>\n",
       "      <td>0.000000</td>\n",
       "    </tr>\n",
       "    <tr>\n",
       "      <th>471</th>\n",
       "      <td>0.111111</td>\n",
       "      <td>none</td>\n",
       "      <td>huile d'olive</td>\n",
       "      <td>0.75</td>\n",
       "      <td>27.0</td>\n",
       "      <td>0.294521</td>\n",
       "      <td></td>\n",
       "      <td>plantbasedfoods plantbasedfoodsandbeverages</td>\n",
       "      <td>0.000000</td>\n",
       "    </tr>\n",
       "    <tr>\n",
       "      <th>472</th>\n",
       "      <td>NaN</td>\n",
       "      <td>none</td>\n",
       "      <td>rösti galettes</td>\n",
       "      <td>0.25</td>\n",
       "      <td>70.0</td>\n",
       "      <td>0.901639</td>\n",
       "      <td>none</td>\n",
       "      <td>plantbasedfoods plantbasedfoodsandbeverages</td>\n",
       "      <td>0.333333</td>\n",
       "    </tr>\n",
       "    <tr>\n",
       "      <th>473</th>\n",
       "      <td>NaN</td>\n",
       "      <td>none</td>\n",
       "      <td>puff corn</td>\n",
       "      <td>NaN</td>\n",
       "      <td>NaN</td>\n",
       "      <td>1.000000</td>\n",
       "      <td>vegetableoilandfat oilandfat salt</td>\n",
       "      <td>none</td>\n",
       "      <td>0.000000</td>\n",
       "    </tr>\n",
       "    <tr>\n",
       "      <th>474</th>\n",
       "      <td>NaN</td>\n",
       "      <td>none</td>\n",
       "      <td>barilla emiliane pasta grattini n. 113</td>\n",
       "      <td>NaN</td>\n",
       "      <td>NaN</td>\n",
       "      <td>0.254438</td>\n",
       "      <td>none</td>\n",
       "      <td>none</td>\n",
       "      <td>0.000000</td>\n",
       "    </tr>\n",
       "    <tr>\n",
       "      <th>475</th>\n",
       "      <td>0.333333</td>\n",
       "      <td>kunststoff</td>\n",
       "      <td>mini-roma-tomaten</td>\n",
       "      <td>0.00</td>\n",
       "      <td>NaN</td>\n",
       "      <td>0.278107</td>\n",
       "      <td>none</td>\n",
       "      <td>plantbasedfoods plantbasedfoodsandbeverages</td>\n",
       "      <td>0.000000</td>\n",
       "    </tr>\n",
       "    <tr>\n",
       "      <th>476</th>\n",
       "      <td>NaN</td>\n",
       "      <td>none</td>\n",
       "      <td>choco pinda melk</td>\n",
       "      <td>NaN</td>\n",
       "      <td>NaN</td>\n",
       "      <td>0.311475</td>\n",
       "      <td>none</td>\n",
       "      <td>none</td>\n",
       "      <td>0.111111</td>\n",
       "    </tr>\n",
       "    <tr>\n",
       "      <th>477</th>\n",
       "      <td>0.111111</td>\n",
       "      <td>none</td>\n",
       "      <td>vinaigre de cidre bio à la pulpe de framboise</td>\n",
       "      <td>0.25</td>\n",
       "      <td>75.0</td>\n",
       "      <td>0.296089</td>\n",
       "      <td>none</td>\n",
       "      <td></td>\n",
       "      <td>0.111111</td>\n",
       "    </tr>\n",
       "    <tr>\n",
       "      <th>478</th>\n",
       "      <td>NaN</td>\n",
       "      <td>none</td>\n",
       "      <td>walnuts chopped</td>\n",
       "      <td>NaN</td>\n",
       "      <td>NaN</td>\n",
       "      <td>NaN</td>\n",
       "      <td></td>\n",
       "      <td>snacks</td>\n",
       "      <td>0.222222</td>\n",
       "    </tr>\n",
       "    <tr>\n",
       "      <th>479</th>\n",
       "      <td>0.333333</td>\n",
       "      <td>none</td>\n",
       "      <td>fresca &amp; pura</td>\n",
       "      <td>NaN</td>\n",
       "      <td>NaN</td>\n",
       "      <td>0.412429</td>\n",
       "      <td>none</td>\n",
       "      <td>plantbasedfoods plantbasedfoodsandbeverages</td>\n",
       "      <td>0.000000</td>\n",
       "    </tr>\n",
       "    <tr>\n",
       "      <th>480</th>\n",
       "      <td>NaN</td>\n",
       "      <td>none</td>\n",
       "      <td>extra sharp cheese</td>\n",
       "      <td>NaN</td>\n",
       "      <td>NaN</td>\n",
       "      <td>0.032787</td>\n",
       "      <td>none</td>\n",
       "      <td>none</td>\n",
       "      <td>0.000000</td>\n",
       "    </tr>\n",
       "    <tr>\n",
       "      <th>481</th>\n",
       "      <td>0.777778</td>\n",
       "      <td></td>\n",
       "      <td>orange juice</td>\n",
       "      <td>0.50</td>\n",
       "      <td>54.0</td>\n",
       "      <td>1.000000</td>\n",
       "      <td></td>\n",
       "      <td>beverages plantbasedfoodsandbeverages</td>\n",
       "      <td>0.111111</td>\n",
       "    </tr>\n",
       "    <tr>\n",
       "      <th>482</th>\n",
       "      <td>NaN</td>\n",
       "      <td>none</td>\n",
       "      <td>saltine crackers</td>\n",
       "      <td>NaN</td>\n",
       "      <td>NaN</td>\n",
       "      <td>1.000000</td>\n",
       "      <td>none</td>\n",
       "      <td>none</td>\n",
       "      <td>0.000000</td>\n",
       "    </tr>\n",
       "    <tr>\n",
       "      <th>483</th>\n",
       "      <td>0.444444</td>\n",
       "      <td>none</td>\n",
       "      <td>lemon curd yogurt</td>\n",
       "      <td>0.25</td>\n",
       "      <td>67.0</td>\n",
       "      <td>0.994536</td>\n",
       "      <td>none</td>\n",
       "      <td>dairies</td>\n",
       "      <td>0.000000</td>\n",
       "    </tr>\n",
       "    <tr>\n",
       "      <th>484</th>\n",
       "      <td>NaN</td>\n",
       "      <td>none</td>\n",
       "      <td>atlantinių silkių filė gabalėliai su paprikomis</td>\n",
       "      <td>NaN</td>\n",
       "      <td>NaN</td>\n",
       "      <td>0.333333</td>\n",
       "      <td>none</td>\n",
       "      <td>none</td>\n",
       "      <td>0.000000</td>\n",
       "    </tr>\n",
       "    <tr>\n",
       "      <th>485</th>\n",
       "      <td>0.666667</td>\n",
       "      <td>none</td>\n",
       "      <td>oeufs fermier plein air</td>\n",
       "      <td>0.75</td>\n",
       "      <td>30.0</td>\n",
       "      <td>0.311475</td>\n",
       "      <td>none</td>\n",
       "      <td></td>\n",
       "      <td>0.000000</td>\n",
       "    </tr>\n",
       "    <tr>\n",
       "      <th>486</th>\n",
       "      <td>NaN</td>\n",
       "      <td>none</td>\n",
       "      <td>limobasilic</td>\n",
       "      <td>NaN</td>\n",
       "      <td>NaN</td>\n",
       "      <td>0.311475</td>\n",
       "      <td>none</td>\n",
       "      <td>none</td>\n",
       "      <td>0.000000</td>\n",
       "    </tr>\n",
       "    <tr>\n",
       "      <th>487</th>\n",
       "      <td>0.555556</td>\n",
       "      <td>none</td>\n",
       "      <td>baltās pupiņas</td>\n",
       "      <td>NaN</td>\n",
       "      <td>NaN</td>\n",
       "      <td>0.530055</td>\n",
       "      <td>none</td>\n",
       "      <td>plantbasedfoods plantbasedfoodsandbeverages</td>\n",
       "      <td>0.000000</td>\n",
       "    </tr>\n",
       "    <tr>\n",
       "      <th>488</th>\n",
       "      <td>NaN</td>\n",
       "      <td>none</td>\n",
       "      <td>smooth vegetable with creme fraiche &amp; garden h...</td>\n",
       "      <td>NaN</td>\n",
       "      <td>NaN</td>\n",
       "      <td>0.420765</td>\n",
       "      <td>none</td>\n",
       "      <td>none</td>\n",
       "      <td>0.111111</td>\n",
       "    </tr>\n",
       "    <tr>\n",
       "      <th>489</th>\n",
       "      <td>0.111111</td>\n",
       "      <td>none</td>\n",
       "      <td>whole grain mustard</td>\n",
       "      <td>0.50</td>\n",
       "      <td>54.0</td>\n",
       "      <td>1.000000</td>\n",
       "      <td>water salt</td>\n",
       "      <td></td>\n",
       "      <td>0.000000</td>\n",
       "    </tr>\n",
       "    <tr>\n",
       "      <th>490</th>\n",
       "      <td>NaN</td>\n",
       "      <td>none</td>\n",
       "      <td>milmex diet chocolate with cranberries and stevia</td>\n",
       "      <td>NaN</td>\n",
       "      <td>NaN</td>\n",
       "      <td>0.125683</td>\n",
       "      <td></td>\n",
       "      <td>none</td>\n",
       "      <td>0.000000</td>\n",
       "    </tr>\n",
       "    <tr>\n",
       "      <th>491</th>\n",
       "      <td>1.000000</td>\n",
       "      <td>none</td>\n",
       "      <td>crackers légume en ratatouille</td>\n",
       "      <td>0.25</td>\n",
       "      <td>67.0</td>\n",
       "      <td>0.311475</td>\n",
       "      <td>none</td>\n",
       "      <td>snacks</td>\n",
       "      <td>0.000000</td>\n",
       "    </tr>\n",
       "    <tr>\n",
       "      <th>492</th>\n",
       "      <td>NaN</td>\n",
       "      <td>none</td>\n",
       "      <td>aceto balsamico di midena invecchiato</td>\n",
       "      <td>NaN</td>\n",
       "      <td>NaN</td>\n",
       "      <td>0.412429</td>\n",
       "      <td>none</td>\n",
       "      <td>none</td>\n",
       "      <td>0.000000</td>\n",
       "    </tr>\n",
       "    <tr>\n",
       "      <th>493</th>\n",
       "      <td>NaN</td>\n",
       "      <td>none</td>\n",
       "      <td>mr. jack</td>\n",
       "      <td>NaN</td>\n",
       "      <td>NaN</td>\n",
       "      <td>0.333333</td>\n",
       "      <td>none</td>\n",
       "      <td>none</td>\n",
       "      <td>0.222222</td>\n",
       "    </tr>\n",
       "    <tr>\n",
       "      <th>494</th>\n",
       "      <td>NaN</td>\n",
       "      <td>none</td>\n",
       "      <td>brauerei berghammer kupfer vollbier unfiltrier...</td>\n",
       "      <td>NaN</td>\n",
       "      <td>NaN</td>\n",
       "      <td>0.333333</td>\n",
       "      <td>none</td>\n",
       "      <td>none</td>\n",
       "      <td>0.000000</td>\n",
       "    </tr>\n",
       "    <tr>\n",
       "      <th>495</th>\n",
       "      <td>NaN</td>\n",
       "      <td>none</td>\n",
       "      <td>protein whey chocolate bomb</td>\n",
       "      <td>NaN</td>\n",
       "      <td>NaN</td>\n",
       "      <td>0.864865</td>\n",
       "      <td>none</td>\n",
       "      <td>none</td>\n",
       "      <td>0.000000</td>\n",
       "    </tr>\n",
       "    <tr>\n",
       "      <th>496</th>\n",
       "      <td>NaN</td>\n",
       "      <td>none</td>\n",
       "      <td>spinach penne rigate</td>\n",
       "      <td>NaN</td>\n",
       "      <td>NaN</td>\n",
       "      <td>NaN</td>\n",
       "      <td>none</td>\n",
       "      <td>none</td>\n",
       "      <td>0.222222</td>\n",
       "    </tr>\n",
       "    <tr>\n",
       "      <th>497</th>\n",
       "      <td>0.444444</td>\n",
       "      <td>none</td>\n",
       "      <td>ricotta di capra</td>\n",
       "      <td>0.50</td>\n",
       "      <td>49.0</td>\n",
       "      <td>0.288136</td>\n",
       "      <td>none</td>\n",
       "      <td></td>\n",
       "      <td>0.000000</td>\n",
       "    </tr>\n",
       "    <tr>\n",
       "      <th>498</th>\n",
       "      <td>0.666667</td>\n",
       "      <td>none</td>\n",
       "      <td>tuna chunks</td>\n",
       "      <td>0.75</td>\n",
       "      <td>21.0</td>\n",
       "      <td>0.994536</td>\n",
       "      <td>none</td>\n",
       "      <td></td>\n",
       "      <td>0.000000</td>\n",
       "    </tr>\n",
       "    <tr>\n",
       "      <th>499</th>\n",
       "      <td>0.222222</td>\n",
       "      <td>none</td>\n",
       "      <td>gratin de pommes de terres, champignons et cou...</td>\n",
       "      <td>0.25</td>\n",
       "      <td>70.0</td>\n",
       "      <td>0.320755</td>\n",
       "      <td>water dairy</td>\n",
       "      <td>meals</td>\n",
       "      <td>0.111111</td>\n",
       "    </tr>\n",
       "  </tbody>\n",
       "</table>\n",
       "</div>"
      ],
      "text/plain": [
       "       groups         packaging  \\\n",
       "440  0.000000              none   \n",
       "441       NaN              none   \n",
       "442       NaN              none   \n",
       "443       NaN                     \n",
       "444       NaN            carton   \n",
       "445       NaN              none   \n",
       "446       NaN              none   \n",
       "447       NaN              none   \n",
       "448       NaN              none   \n",
       "449       NaN                     \n",
       "450       NaN              none   \n",
       "451       NaN              none   \n",
       "452       NaN              none   \n",
       "453       NaN              none   \n",
       "454       NaN              none   \n",
       "455       NaN           plastic   \n",
       "456  0.777778   bouteille verre   \n",
       "457  0.777778              none   \n",
       "458  0.555556              none   \n",
       "459  0.666667      en plastique   \n",
       "460       NaN              none   \n",
       "461       NaN              none   \n",
       "462  0.000000  carton plastique   \n",
       "463  0.555556              none   \n",
       "464       NaN              none   \n",
       "465       NaN              none   \n",
       "466       NaN              none   \n",
       "467  0.600000                     \n",
       "468  0.555556              none   \n",
       "469       NaN              none   \n",
       "470       NaN                     \n",
       "471  0.111111              none   \n",
       "472       NaN              none   \n",
       "473       NaN              none   \n",
       "474       NaN              none   \n",
       "475  0.333333        kunststoff   \n",
       "476       NaN              none   \n",
       "477  0.111111              none   \n",
       "478       NaN              none   \n",
       "479  0.333333              none   \n",
       "480       NaN              none   \n",
       "481  0.777778                     \n",
       "482       NaN              none   \n",
       "483  0.444444              none   \n",
       "484       NaN              none   \n",
       "485  0.666667              none   \n",
       "486       NaN              none   \n",
       "487  0.555556              none   \n",
       "488       NaN              none   \n",
       "489  0.111111              none   \n",
       "490       NaN              none   \n",
       "491  1.000000              none   \n",
       "492       NaN              none   \n",
       "493       NaN              none   \n",
       "494       NaN              none   \n",
       "495       NaN              none   \n",
       "496       NaN              none   \n",
       "497  0.444444              none   \n",
       "498  0.666667              none   \n",
       "499  0.222222              none   \n",
       "\n",
       "                                                  name  ecoscore_tags  \\\n",
       "440                                gluten vrije oaties           0.75   \n",
       "441                                        still water            NaN   \n",
       "442                                               none            NaN   \n",
       "443              argan oil heat defence leave in spray            NaN   \n",
       "444                                   cafe en saquitos            NaN   \n",
       "445                      del monte pfirsiche schnitten            NaN   \n",
       "446                    shot gingembre et fruits rouges            NaN   \n",
       "447                         kel crunchy nut c / f 375g            NaN   \n",
       "448                            fresh mint breath spray            NaN   \n",
       "449                                      fiambre cubos            NaN   \n",
       "450                                            bananen            NaN   \n",
       "451                                         energy gum            NaN   \n",
       "452                                   choco cereal bar            NaN   \n",
       "453                                pita chips sea salt            NaN   \n",
       "454                                   cauliflower rice            NaN   \n",
       "455                 chocolate caramel flavour flapjack            NaN   \n",
       "456                                   la trappe tripel           0.50   \n",
       "457                                  bayon fresh water           0.00   \n",
       "458                             traditional sweetbread            NaN   \n",
       "459                                 2 dos de cabillaud           1.00   \n",
       "460                                               none            NaN   \n",
       "461                        6 croissants jambon fromage            NaN   \n",
       "462                    tiramisu au fruit de la passion           1.00   \n",
       "463                      crozets de savoie au sarrasin            NaN   \n",
       "464                                  dugestive gemista            NaN   \n",
       "465                               oeufs de lompe rouge            NaN   \n",
       "466                      fruit & almond mix w/ yoghurt            NaN   \n",
       "467          languettes de poitrine de poulet grillées           0.75   \n",
       "468               wegmans instant oatmeal variety pack           0.75   \n",
       "469                            hazelnut cream k - cups            NaN   \n",
       "470                                      oua proaspete            NaN   \n",
       "471                                      huile d'olive           0.75   \n",
       "472                                     rösti galettes           0.25   \n",
       "473                                          puff corn            NaN   \n",
       "474             barilla emiliane pasta grattini n. 113            NaN   \n",
       "475                                  mini-roma-tomaten           0.00   \n",
       "476                                   choco pinda melk            NaN   \n",
       "477      vinaigre de cidre bio à la pulpe de framboise           0.25   \n",
       "478                                    walnuts chopped            NaN   \n",
       "479                                      fresca & pura            NaN   \n",
       "480                                 extra sharp cheese            NaN   \n",
       "481                                       orange juice           0.50   \n",
       "482                                   saltine crackers            NaN   \n",
       "483                                  lemon curd yogurt           0.25   \n",
       "484    atlantinių silkių filė gabalėliai su paprikomis            NaN   \n",
       "485                            oeufs fermier plein air           0.75   \n",
       "486                                        limobasilic            NaN   \n",
       "487                                     baltās pupiņas            NaN   \n",
       "488  smooth vegetable with creme fraiche & garden h...            NaN   \n",
       "489                                whole grain mustard           0.50   \n",
       "490  milmex diet chocolate with cranberries and stevia            NaN   \n",
       "491                     crackers légume en ratatouille           0.25   \n",
       "492              aceto balsamico di midena invecchiato            NaN   \n",
       "493                                           mr. jack            NaN   \n",
       "494  brauerei berghammer kupfer vollbier unfiltrier...            NaN   \n",
       "495                        protein whey chocolate bomb            NaN   \n",
       "496                               spinach penne rigate            NaN   \n",
       "497                                   ricotta di capra           0.50   \n",
       "498                                        tuna chunks           0.75   \n",
       "499  gratin de pommes de terres, champignons et cou...           0.25   \n",
       "\n",
       "     ecoscore_score  countries  \\\n",
       "440            36.0   0.655738   \n",
       "441             NaN   0.994536   \n",
       "442             NaN   0.896175   \n",
       "443             NaN   0.994536   \n",
       "444             NaN   0.021858   \n",
       "445             NaN   0.311475   \n",
       "446             NaN   0.086486   \n",
       "447             NaN   0.292135   \n",
       "448             NaN   0.181818   \n",
       "449             NaN   0.748634   \n",
       "450             NaN   0.333333   \n",
       "451             NaN   0.076503   \n",
       "452             NaN   0.000000   \n",
       "453             NaN   1.000000   \n",
       "454             NaN   0.994536   \n",
       "455             NaN   0.994536   \n",
       "456            50.0   0.288136   \n",
       "457             NaN        NaN   \n",
       "458             NaN   1.000000   \n",
       "459            18.0   0.296089   \n",
       "460             NaN   0.032787   \n",
       "461             NaN   0.296089   \n",
       "462             1.0   0.294521   \n",
       "463             NaN   0.000000   \n",
       "464             NaN   0.347826   \n",
       "465             NaN   0.254438   \n",
       "466             NaN   0.032787   \n",
       "467            21.0   0.000000   \n",
       "468            25.0   0.973404   \n",
       "469             NaN   1.000000   \n",
       "470             NaN   0.759563   \n",
       "471            27.0   0.294521   \n",
       "472            70.0   0.901639   \n",
       "473             NaN   1.000000   \n",
       "474             NaN   0.254438   \n",
       "475             NaN   0.278107   \n",
       "476             NaN   0.311475   \n",
       "477            75.0   0.296089   \n",
       "478             NaN        NaN   \n",
       "479             NaN   0.412429   \n",
       "480             NaN   0.032787   \n",
       "481            54.0   1.000000   \n",
       "482             NaN   1.000000   \n",
       "483            67.0   0.994536   \n",
       "484             NaN   0.333333   \n",
       "485            30.0   0.311475   \n",
       "486             NaN   0.311475   \n",
       "487             NaN   0.530055   \n",
       "488             NaN   0.420765   \n",
       "489            54.0   1.000000   \n",
       "490             NaN   0.125683   \n",
       "491            67.0   0.311475   \n",
       "492             NaN   0.412429   \n",
       "493             NaN   0.333333   \n",
       "494             NaN   0.333333   \n",
       "495             NaN   0.864865   \n",
       "496             NaN        NaN   \n",
       "497            49.0   0.288136   \n",
       "498            21.0   0.994536   \n",
       "499            70.0   0.320755   \n",
       "\n",
       "                                           ingredients  \\\n",
       "440                                               none   \n",
       "441                                               none   \n",
       "442                                               none   \n",
       "443                                               none   \n",
       "444                      sugar disaccharide addedsugar   \n",
       "445                                               none   \n",
       "446                                               none   \n",
       "447                                               none   \n",
       "448                                                      \n",
       "449                                    salt addedsugar   \n",
       "450                                               none   \n",
       "451                                               none   \n",
       "452                                               none   \n",
       "453                                               none   \n",
       "454                                               none   \n",
       "455                                               none   \n",
       "456                                   water addedsugar   \n",
       "457                                              water   \n",
       "458  vegetableoilandfat flavouring oilandfat sugar ...   \n",
       "459                                                      \n",
       "460                                               none   \n",
       "461                                               none   \n",
       "462  oilandfat water flavouring sugar disaccharide ...   \n",
       "463                                              water   \n",
       "464                                               none   \n",
       "465                                               salt   \n",
       "466                                               none   \n",
       "467                                               salt   \n",
       "468                                               none   \n",
       "469                                               none   \n",
       "470                                               none   \n",
       "471                                                      \n",
       "472                                               none   \n",
       "473                  vegetableoilandfat oilandfat salt   \n",
       "474                                               none   \n",
       "475                                               none   \n",
       "476                                               none   \n",
       "477                                               none   \n",
       "478                                                      \n",
       "479                                               none   \n",
       "480                                               none   \n",
       "481                                                      \n",
       "482                                               none   \n",
       "483                                               none   \n",
       "484                                               none   \n",
       "485                                               none   \n",
       "486                                               none   \n",
       "487                                               none   \n",
       "488                                               none   \n",
       "489                                         water salt   \n",
       "490                                                      \n",
       "491                                               none   \n",
       "492                                               none   \n",
       "493                                               none   \n",
       "494                                               none   \n",
       "495                                               none   \n",
       "496                                               none   \n",
       "497                                               none   \n",
       "498                                               none   \n",
       "499                                        water dairy   \n",
       "\n",
       "                                            categories  labels_note  \n",
       "440                                 sweetsnacks snacks     0.000000  \n",
       "441                                               none     0.000000  \n",
       "442                                               none     0.000000  \n",
       "443                                               none     0.000000  \n",
       "444        plantbasedfoods plantbasedfoodsandbeverages     0.111111  \n",
       "445                                               none     0.000000  \n",
       "446                                               none     0.333333  \n",
       "447                                               none     0.000000  \n",
       "448                                               none     0.000000  \n",
       "449                                               none     0.111111  \n",
       "450                                               none     0.000000  \n",
       "451                                               none     0.000000  \n",
       "452                                               none     0.000000  \n",
       "453                                               none     0.222222  \n",
       "454                                               none     0.000000  \n",
       "455                                                        0.000000  \n",
       "456                                          beverages     0.000000  \n",
       "457                                          beverages     0.000000  \n",
       "458        plantbasedfoods plantbasedfoodsandbeverages     0.000000  \n",
       "459                                                        0.555556  \n",
       "460                                               none     0.000000  \n",
       "461                                               none     0.222222  \n",
       "462                                 sweetsnacks snacks     0.222222  \n",
       "463        plantbasedfoods plantbasedfoodsandbeverages     0.666667  \n",
       "464                                               none     0.000000  \n",
       "465                                                        0.000000  \n",
       "466                                               none     0.000000  \n",
       "467                                                        0.111111  \n",
       "468  cerealsandpotatoes plantbasedfoods plantbasedf...     0.000000  \n",
       "469                                               none     0.000000  \n",
       "470                                               none     0.000000  \n",
       "471        plantbasedfoods plantbasedfoodsandbeverages     0.000000  \n",
       "472        plantbasedfoods plantbasedfoodsandbeverages     0.333333  \n",
       "473                                               none     0.000000  \n",
       "474                                               none     0.000000  \n",
       "475        plantbasedfoods plantbasedfoodsandbeverages     0.000000  \n",
       "476                                               none     0.111111  \n",
       "477                                                        0.111111  \n",
       "478                                             snacks     0.222222  \n",
       "479        plantbasedfoods plantbasedfoodsandbeverages     0.000000  \n",
       "480                                               none     0.000000  \n",
       "481              beverages plantbasedfoodsandbeverages     0.111111  \n",
       "482                                               none     0.000000  \n",
       "483                                            dairies     0.000000  \n",
       "484                                               none     0.000000  \n",
       "485                                                        0.000000  \n",
       "486                                               none     0.000000  \n",
       "487        plantbasedfoods plantbasedfoodsandbeverages     0.000000  \n",
       "488                                               none     0.111111  \n",
       "489                                                        0.000000  \n",
       "490                                               none     0.000000  \n",
       "491                                             snacks     0.000000  \n",
       "492                                               none     0.000000  \n",
       "493                                               none     0.222222  \n",
       "494                                               none     0.000000  \n",
       "495                                               none     0.000000  \n",
       "496                                               none     0.222222  \n",
       "497                                                        0.000000  \n",
       "498                                                        0.000000  \n",
       "499                                              meals     0.111111  "
      ]
     },
     "execution_count": 335,
     "metadata": {},
     "output_type": "execute_result"
    }
   ],
   "source": [
    "df.tail(60)"
   ]
  },
  {
   "cell_type": "code",
   "execution_count": 336,
   "metadata": {},
   "outputs": [
    {
     "name": "stdout",
     "output_type": "stream",
     "text": [
      "0.7777777778\n",
      "nan\n",
      "0.6666666667\n",
      "0.5555555556\n",
      "0.3333333333\n",
      "0.4444444444\n",
      "0.0\n",
      "0.2222222222\n",
      "1.0\n",
      "0.1111111111\n",
      "0.4\n",
      "0.6\n",
      "0.3\n",
      "0.1\n"
     ]
    }
   ],
   "source": [
    "uniques_groups = df['groups'].unique()\n",
    "uniques_groups_list = list(uniques_groups)\n",
    "for value in uniques_groups_list:\n",
    "    print(value)"
   ]
  },
  {
   "cell_type": "code",
   "execution_count": 337,
   "metadata": {},
   "outputs": [
    {
     "name": "stdout",
     "output_type": "stream",
     "text": [
      "sève de bouleau\n",
      "none\n",
      "hamburger dill pickle chips\n",
      "4 saucisses de strasbourg qualité superieure\n",
      "ossau iraty aop\n",
      "knäckebröd sesam\n",
      "cuisses de poulet rôti\n",
      "ananas au sirop léger\n",
      "aceite de oliva virgen extra sierra de gata\n",
      "pão são\n",
      "brandt genuss-zwieback zartbitter\n",
      "velvare erdnussöl\n",
      "présséa\n",
      "himbeeressig\n",
      "patatas especial freir\n",
      "lemonade\n",
      "houmous\n",
      "british salted butter\n",
      "hühnerfrikassee\n",
      "רסק תפוח בננה אורגני\n",
      "хлебцы\n",
      "basilikum\n",
      "alubias\n",
      "amish country, natural baby swiss cheese\n",
      "plum drink\n",
      "jambon barbecue grille\n",
      "olives stuffed with jalapeno peppers\n",
      "celebration medley, cashews, dark chocolate chunks, almonds, dried cranberries, peanuts, white chocolate drops\n",
      "palette de porc\n",
      "zalamito sweets\n",
      "qelq\n",
      "low calorie drink mix\n",
      "burger vegetal\n",
      "little bro´\n",
      "jamón de cebo ibérico\n",
      "oregano gerebelt\n",
      "blt\n",
      "freekeh\n",
      "kikkererwten\n",
      "gogi & cranberry gluten free muesli\n",
      "protein powder\n",
      "\n",
      "haricot vert fins\n",
      "lapins fourrés à la crème noisette\n",
      "marmelada extra fresa\n",
      "foie gras dégustation\n",
      "sauce chili\n",
      "choco nut (wenig zucker)\n",
      "mix bon pied bon oeil\n",
      "cacao\n",
      "gouda\n",
      "hühnervollei\n",
      "mini fripon choc caprice\n",
      "queso viejo tostado\n",
      "scheidegger bergkäse würzig\n",
      "shanta g khakhra\n",
      "pain aux 4 farines sans blé nature bio\n",
      "mr. noodles\n",
      "pea pair and broccoli\n",
      "fromage blanc\n",
      "bar de céréales crunchy beurre de cacahuète\n",
      "ananas en morceaux\n",
      "whaou! crêpes cracky caramel & céréales croustillantes les 8 crêpes de 32 g\n",
      "gold saffron brittle\n",
      "snacks rolls chicken hawaii\n",
      "whey protein vanilla\n",
      "sweet chili heat doritos\n",
      "saldomar (meersalz)\n",
      "lc1 vital\n",
      "garden fresh spinach dip\n",
      "ginger ale\n",
      "tagliatelles aux pois chiches\n",
      "pate penne rigate\n",
      "ananas déshydraté en cube\n",
      "arrangés de ced\n",
      "tarte fine ananas\n",
      "paladín maestro\n",
      "apple and watermelon duals\n",
      "gelato\n",
      "100 % pur jus de pomme artisanal gala\n",
      "mon bio a boire\n",
      "extra lean ground beef\n",
      "queso añejo fuerte\n",
      "petits poids et carottes en rondelles\n",
      "spécialité suisse plat du valais\n",
      "nappge chocolat\n",
      "jamón serrano medias lonchas\n",
      "filets de cabillauds congelés \n",
      "my pene academia\n",
      "poule chocolat\n",
      "violetas\n",
      "chocolate almond butter\n",
      "marche passerina\n",
      "bublizz\n",
      "lentilles cuisinees\n",
      "lentilles chataignes\n",
      "miel d'acacia\n",
      "orchard\n",
      "biscuit coco\n",
      "habas finas\n",
      "rainbow cauliflower\n",
      "aceto di vino bianco\n",
      "ananas\n",
      "celestial, dirty chai\n",
      "jamón\n",
      "leite integral\n",
      "cacahuetes\n",
      "prefou chevre miel\n",
      "avocado\n",
      "original chocolat suisse chartreuse\n",
      "madras hake, dhal, roasted cauli and fennel salad\n",
      "pure plus, premium aloe vera drink, lychee\n",
      "high juice\n",
      "joggeli wurst\n",
      "organic colby - loaf\n",
      "vanilla superfood creamer\n",
      "pencas de acelga\n",
      "karma caffè\n",
      "original langkorn reis\n",
      "turbid\n",
      "chili lime seasoning\n",
      "brookie\n",
      "trio of kendal mint cake\n",
      "chicken taquitos\n",
      "milkshake\n",
      "hummus de garbanzos\n",
      "birthday cake chocolate bar\n",
      "sardines à la sauce citronnée\n",
      "chocolat\n",
      "gambas congeladas\n",
      "orange vanilla\n",
      "aceite de oliva virgen extra\n",
      "côtes du rhône vin rouge\n",
      "coquille aux fruits de mer\n",
      "buttered kettle corn\n",
      "peeled fans beans with chilli\n",
      "soursop juice drink with pulp\n",
      "fourrés caramel au beurre salé\n",
      "tonno al naturale\n",
      "champignons\n",
      "madeleines jeannette choco nature\n",
      "hot dog buns\n",
      "овсяные хлопья ясно солнышко без барки\n",
      "mushrooms sliced in butter sauce\n",
      "jagody goiji\n",
      "moussaka\n",
      "cidre bio\n",
      "unsweetened chai tea latte\n",
      "yazoo strawberry\n",
      "mix tamari\n",
      "vanilla sandwich cookies\n",
      "smoothie ananas mangue\n",
      "cauliflower quick meal indian vegetable curry\n",
      "rosehip and apple\n",
      "mistura de requeijão e amido\n",
      "grancotto di vignola\n",
      "thon listao\n",
      "torrone friabile alle mandorle\n",
      "thick bacon\n",
      "pesto and chicken scribbles\n",
      "salade de lentilles corail et légumes\n",
      "avocado mayo\n",
      "macaroni and cheese with beef t\n",
      "vaniliai ledai\n",
      "zimt zucker\n",
      "dulce de leche\n",
      "erlesene himbeere\n",
      "creme legere ramli\n",
      "eau minérale naturelle\n",
      "arreglos vacuno cerdo gallina\n",
      "homestyle cinnamon sugar rice krispies\n",
      "lieu jaune\n",
      "salame ungherese nazionale\n",
      "2 pouletbrust\n",
      "betty crocker whipped fluffy white frosting\n",
      "perfomance whey protein strawberry\n",
      "bio tea\n",
      "4 cheese southwest sliced natural cheese that blends the creaminess of monterey jack with chipotle cheddar, colby and pepper jack cheeses, 4 cheese southwest\n",
      "beef for stew\n",
      "crushed tomatoes with basil\n",
      "chipotle\n",
      "milk straws\n",
      "chair à saucisse\n",
      "smoked & sliced barbeque ham\n",
      "andouille de vire (poussoir)\n",
      "limonade\n",
      "boudins cocktail nature\n",
      "palmera con chocolate\n",
      "butter bio\n",
      "fruitmania\n",
      "haribo beerenreaum\n",
      "l'original finger\n",
      "cantaloupe\n",
      "sandwich panna-cacao\n",
      "organic plum nectar\n",
      "filet mignon de porc\n",
      "body lotion french lavender\n",
      "pâte d'olives vertes lucques du languedoc\n",
      "refresco de infusión de té negro y melocotón bajo calorías\n",
      "mijoté de canard à l’orange\n",
      "schinkenrotwurst\n",
      "nudeln\n",
      "weizenmehl type 550\n",
      "ibiscus\n",
      "brach's, greek yogurt granola bites, straweberry\n",
      "long grain brown rice\n",
      "carré de cote porc cuit\n",
      "rosco casero blister 350 gr\n",
      "tomato sauce\n",
      "fresh goat cheese\n",
      "lomo de salomón ahumado\n",
      "cubipunch\n",
      "100% orange mango juice\n",
      "bombay sapphire\n",
      "de aldea\n",
      "boulette aux légumes au pesto\n",
      "hella tahiti vibes\n",
      "plum cake\n",
      "chipolatas\n",
      "keebler eagle salty snacks crisps sea salt .71oz\n",
      "acqua frizzante\n",
      "balsamessig\n",
      "aceto balsamico di modena\n",
      "crispy chocolate vanills\n",
      "dragées\n",
      "nido\n",
      "cabbage rolls\n",
      "chicken tenderloins\n",
      "gateau basque prunaux\n",
      "organic blueberry bliss protein bar mix\n",
      "yogurt sabor fresa y plátano\n",
      "eggo waffles with maple syrup creamer\n",
      "easter eggs\n",
      "plant-based cheese alternative - white cheddar variety\n",
      "simply organic, wicked aioli sauce mix\n",
      "culinary circle, preserves, apricot peach\n",
      "bootygen collagen\n",
      "sardinillas en aceite de oliva\n",
      "harder wołowy pet\n",
      "vegeburguer seitan y shitake\n",
      "date syrup\n",
      "grasa bovina comestible refinada\n",
      "poli hammy\n",
      "a l\\'italienne vanille chocolat\n",
      "giant, dunker cookies, chocolate chips\n",
      "orange juice\n",
      "barretta\n",
      "stir-fry blend\n",
      "tex-mex fusion\n",
      "mermelada de melocotón\n",
      "ratatouille cuisinée bio\n",
      "acqua\n",
      "organic almond milk- unsweetened\n",
      "vin: marquis de sublet\n",
      "french brioche chocolate croissants made with real butter & dark chocolate, french brioche chocolate\n",
      "mangues séchées brooks\n",
      "eau pétillante\n",
      "super8\n",
      "fitness\n",
      "pizza chèvre/lardons\n",
      "boneless skinless chicken breast\n",
      "thé vert saveur menthe\n",
      "pimentón de la vera\n",
      "schweinenackensteak knoblauch kräuter\n",
      "hors piste\n",
      "lemon and paeroa\n",
      "starbucks medium roast coffee with easential vitamins\n",
      "kaszka\n",
      "turo bonbon\n",
      "smart team\n",
      "langhesini al latte\n",
      "pain\n",
      "lentille\n",
      "yaourt à boire\n",
      "olives cassees pimentées\n",
      "cerelaes tres\n",
      "cornetto classico\n",
      "cacahuètes délicatement salées\n",
      "double chocolate soft baked bar\n",
      "irish stew\n",
      "olives colossales pérou\n",
      "mousse fine de truite aux algues\n",
      "choucroute cuisinée\n",
      "summer truffle puree\n",
      "single zero chocolate ice cream\n",
      "nudeln schwarz spirulina\n",
      "dinkel brötchen\n",
      "escamas de pimentón ahumado agridulce\n",
      "falafel\n",
      "whey isolate double chocolate\n",
      "platanito chips\n",
      "nachos\n",
      "beurre d'isigny doux\n",
      "whole kernel corn\n",
      "protein wraps\n",
      "pfeffer\n",
      "pâte de curry - kashmir masala\n",
      "saucisson vaudois naturafarm\n",
      "skyr\n",
      "anacardi tostati\n",
      "esparrago blanco extra\n",
      "pizza crust\n",
      "bresaola della valtellina\n",
      "coupelle confiture papaye 30g royal bourbon x 144\n",
      "chili venegar\n",
      "jambon traditionnel fumé au bois de hetre\n",
      "harina de fuerza\n",
      "suisse chocolat\n",
      "rôti cuit\n",
      "faisselle de brebis fermier (lait entier issu de la ferme)\n",
      "tortillas chips nature\n",
      "pizza bolognaise\n",
      "cacao amaro in polvere\n",
      "carry saus\n",
      "basilikum bruschetta\n",
      "miel\n",
      "dewberry strawberries 'n cream\n",
      "bio sonnenblumenöl\n",
      "pane azzimo biologico\n",
      "xips de patata\n",
      "pommes\n",
      "filetes de anchoa\n",
      "great value chocolate chip cookies\n",
      "dattes dénoyautées\n",
      "paleta de cebo iberico\n",
      "cocacola\n",
      "mayo 770 g bénédicta\n",
      "pan leggero\n",
      "blueberries\n",
      "crème de châtaignes aux écorces d'orange confites\n",
      "weizenmehl vollkorn dk\n",
      "légumes et croûtons\n",
      "lapin rôti aux 2 moutardes\n",
      "snickers арахисовый крем\n",
      "capesante gratin\n",
      "hazelnuts and cocoa spread\n",
      "sale iodato\n",
      "jugo de durazno\n",
      "huile de tournesol\n",
      "salade 4 fromage\n",
      "sugo pizza\n",
      "gemüse pfanne\n",
      "coffee\n",
      "katsuobushi\n",
      "beeren-mischung\n",
      "beignet cocolat noisettes\n",
      "chuletas lomo\n",
      "butter syrup\n",
      "jagermeister\n",
      "tastee, classic cookies'n cream\n",
      "feuilles de lasagnes\n",
      "cordon bleu\n",
      "bazin jambonneau fume sous vide\n",
      "chocolate oat milk\n",
      "bircher müsli\n",
      "rapiditas clasicas\n",
      "bio-eis himbeer\n",
      "ciambelline all’uvetta\n",
      "wiener iskaffe laktosfri\n",
      "peanut m&m’s mini ice cream\n",
      "fettuccini aux œufs frais\n",
      "violife cremy with tomato & basil\n",
      "kräutersalat salatmix\n",
      "fusilli\n",
      "harry & david, truffles, peppermint\n",
      "couscous lentille corail\n",
      "moose munch premium popcorn, dark chocolate peppermint\n",
      "parfait\n",
      "marmite cheese\n",
      "curry vert\n",
      "6 pains hot-dog\n",
      "chorizo\n",
      "arroz extra\n",
      "mirin\n",
      "mini-donuts\n",
      "steinofenpizza salami\n",
      "camembert krémový\n",
      "poké bowl chicken & cauliflower\n",
      "mix caramelos blandos\n",
      "poppy calif orange\n",
      "cherrios\n",
      "eier\n",
      "keto bread mix hemp n' seeds\n",
      "all purpose seasoning\n",
      "camel\n",
      "bio olivenöl\n",
      "quinola\n",
      "sun dried tomatoes\n",
      "fardelejos\n",
      "pier 33 gourmet, mussels in white wine suace\n",
      "asia noodles beef taste\n",
      "erdbeer maracuja traum\n",
      "céréales formes magiques\n",
      "فرماج شيزي 8 حبات\n",
      "surtido de antaño\n",
      "lätta original\n",
      "taboulé oriental à la menthe\n",
      "tang\n",
      "sopressata\n",
      "petit salé aux lentilles\n",
      "olives noires\n",
      "pâtes de fruits\n",
      "sealer\n",
      "plaque à casser chocolat chocolat lait noisettes\n",
      "eggs\n",
      "finest bittersweet chocolate\n",
      "choco & caramel\n",
      "bombones crema catalana\n",
      "saucisson sec au jambon\n",
      "strawberry real fruit yoyos\n",
      "ice cream, vanilla\n",
      "limon\n",
      "re-built mass xp\n",
      "cancoillotte au lait pasteurise nature raguin, 11%mg\n",
      "mumbai masala\n",
      "latte intero uht  a lunga conservazione\n",
      "birra nazionale bianca\n",
      "bollos de marañuela\n",
      "majdanoz\n",
      "gluten vrije oaties\n",
      "still water\n",
      "argan oil heat defence leave in spray\n",
      "cafe en saquitos\n",
      "del monte pfirsiche schnitten\n",
      "shot gingembre et fruits rouges\n",
      "kel crunchy nut c / f 375g\n",
      "fresh mint breath spray\n",
      "fiambre cubos\n",
      "bananen\n",
      "energy gum\n",
      "choco cereal bar\n",
      "pita chips sea salt\n",
      "cauliflower rice\n",
      "chocolate caramel flavour flapjack\n",
      "la trappe tripel\n",
      "bayon fresh water\n",
      "traditional sweetbread\n",
      "2 dos de cabillaud\n",
      "6 croissants jambon fromage\n",
      "tiramisu au fruit de la passion\n",
      "crozets de savoie au sarrasin\n",
      "dugestive gemista\n",
      "oeufs de lompe rouge\n",
      "fruit & almond mix w/ yoghurt\n",
      "languettes de poitrine de poulet grillées\n",
      "wegmans instant oatmeal variety pack\n",
      "hazelnut cream k - cups\n",
      "oua proaspete\n",
      "huile d'olive\n",
      "rösti galettes\n",
      "puff corn\n",
      "barilla emiliane pasta grattini n. 113\n",
      "mini-roma-tomaten\n",
      "choco pinda melk\n",
      "vinaigre de cidre bio à la pulpe de framboise\n",
      "walnuts chopped\n",
      "fresca & pura\n",
      "extra sharp cheese\n",
      "saltine crackers\n",
      "lemon curd yogurt\n",
      "atlantinių silkių filė gabalėliai su paprikomis\n",
      "oeufs fermier plein air\n",
      "limobasilic\n",
      "baltās pupiņas\n",
      "smooth vegetable with creme fraiche & garden herbs\n",
      "whole grain mustard\n",
      "milmex diet chocolate with cranberries and stevia\n",
      "crackers légume en ratatouille\n",
      "aceto balsamico di midena invecchiato\n",
      "mr. jack\n",
      "brauerei berghammer kupfer vollbier unfiltriert, naturtrüb\n",
      "protein whey chocolate bomb\n",
      "spinach penne rigate\n",
      "ricotta di capra\n",
      "tuna chunks\n",
      "gratin de pommes de terres, champignons et courges butternut\n"
     ]
    }
   ],
   "source": [
    "uniques_name = df['name'].unique()\n",
    "uniques_name_list = list(uniques_name)\n",
    "for value in uniques_name_list:\n",
    "    print(value)"
   ]
  },
  {
   "cell_type": "code",
   "execution_count": 338,
   "metadata": {},
   "outputs": [
    {
     "name": "stdout",
     "output_type": "stream",
     "text": [
      "0.2881355932\n",
      "0.0211640212\n",
      "1.0\n",
      "0.2960893855\n",
      "0.3114754098\n",
      "nan\n",
      "0.1818181818\n",
      "0.8743169399\n",
      "0.7486338798\n",
      "0.3107344633\n",
      "0.3333333333\n",
      "0.3315217391\n",
      "0.4207650273\n",
      "0.4262295082\n",
      "0.7650273224\n",
      "0.0558659218\n",
      "0.5561497326\n",
      "0.3184357542\n",
      "0.7595628415\n",
      "0.2786885246\n",
      "0.9945355191\n",
      "0.3076923077\n",
      "0.0\n",
      "0.0765027322\n",
      "0.2834224599\n",
      "0.1396648045\n",
      "0.0327868852\n",
      "0.320754717\n",
      "0.2544378698\n",
      "0.5901639344\n",
      "0.9890710383\n",
      "0.4316939891\n",
      "0.3152173913\n",
      "0.1584699454\n",
      "0.8715083799\n",
      "0.1832460733\n",
      "0.9016393443\n",
      "0.875\n",
      "0.3031914894\n",
      "0.4124293785\n",
      "0.2077922078\n",
      "0.8052631579\n",
      "0.8510638298\n",
      "0.1147540984\n",
      "0.4378378378\n",
      "0.8639053254\n",
      "0.6557377049\n",
      "0.1542553191\n",
      "0.0319148936\n",
      "0.7597765363\n",
      "0.7431693989\n",
      "0.9682539683\n",
      "0.9944134078\n",
      "0.3015873016\n",
      "0.3945945946\n",
      "0.4308510638\n",
      "0.0218579235\n",
      "0.2857142857\n",
      "0.956284153\n",
      "0.8994413408\n",
      "0.2131147541\n",
      "0.2781065089\n",
      "0.420212766\n",
      "0.1630434783\n",
      "0.9734042553\n",
      "0.8421052632\n",
      "0.9027027027\n",
      "0.0111731844\n",
      "0.3879781421\n",
      "0.5684210526\n",
      "0.962962963\n",
      "0.417989418\n",
      "0.3989071038\n",
      "0.4347826087\n",
      "0.0382513661\n",
      "0.2847682119\n",
      "0.7446808511\n",
      "0.8723404255\n",
      "0.1813186813\n",
      "0.2945205479\n",
      "0.2122905028\n",
      "0.2921348315\n",
      "0.3\n",
      "0.8961748634\n",
      "0.0864864865\n",
      "0.347826087\n",
      "0.5300546448\n",
      "0.1256830601\n",
      "0.8648648649\n"
     ]
    }
   ],
   "source": [
    "uniques_countries = df['countries'].unique()\n",
    "uniques_countries_list = list(uniques_countries)\n",
    "for value in uniques_countries_list:\n",
    "    print(value)"
   ]
  },
  {
   "cell_type": "code",
   "execution_count": 339,
   "metadata": {},
   "outputs": [
    {
     "name": "stdout",
     "output_type": "stream",
     "text": [
      "none\n",
      "\n",
      "carton en\n",
      "film\n",
      "plastique\n",
      "bouteille en verre\n",
      "vidrio\n",
      "carton\n",
      "bote vidrio de\n",
      "plastica\n",
      "en\n",
      "en plastique\n",
      "plastic\n",
      "sachet plastique\n",
      "verre\n",
      "sachet\n",
      "conserve\n",
      "kunststoff\n",
      "plastique en\n",
      "bouteille verre\n",
      "carton plastique\n"
     ]
    }
   ],
   "source": [
    "uniques_packaging = df['packaging'].unique()\n",
    "uniques_packaging_list = list(uniques_packaging)\n",
    "for value in uniques_packaging_list:\n",
    "    print(value)"
   ]
  },
  {
   "cell_type": "code",
   "execution_count": 340,
   "metadata": {},
   "outputs": [
    {
     "name": "stdout",
     "output_type": "stream",
     "text": [
      "nan\n",
      "1.0\n",
      "0.5\n",
      "0.25\n",
      "0.0\n",
      "0.75\n"
     ]
    }
   ],
   "source": [
    "uniques_ecoscore_tags = df['ecoscore_tags'].unique()\n",
    "uniques_ecoscore_tags_list = list(uniques_ecoscore_tags)\n",
    "for value in uniques_ecoscore_tags_list:\n",
    "    print(value)"
   ]
  },
  {
   "cell_type": "code",
   "execution_count": 341,
   "metadata": {},
   "outputs": [
    {
     "name": "stdout",
     "output_type": "stream",
     "text": [
      "nan\n",
      "2.0\n",
      "45.0\n",
      "79.0\n",
      "89.0\n",
      "34.0\n",
      "50.0\n",
      "68.0\n",
      "44.0\n",
      "67.0\n",
      "77.0\n",
      "48.0\n",
      "62.0\n",
      "100.0\n",
      "72.0\n",
      "4.0\n",
      "28.0\n",
      "32.0\n",
      "36.0\n",
      "75.0\n",
      "15.0\n",
      "27.0\n",
      "22.0\n",
      "65.0\n",
      "91.0\n",
      "0.0\n",
      "39.0\n",
      "18.0\n",
      "38.0\n",
      "76.0\n",
      "60.0\n",
      "64.0\n",
      "29.0\n",
      "19.0\n",
      "94.0\n",
      "74.0\n",
      "12.0\n",
      "21.0\n",
      "42.0\n",
      "20.0\n",
      "25.0\n",
      "70.0\n",
      "40.0\n",
      "33.0\n",
      "59.0\n",
      "88.0\n",
      "43.0\n",
      "57.0\n",
      "8.0\n",
      "54.0\n",
      "73.0\n",
      "31.0\n",
      "26.0\n",
      "35.0\n",
      "16.0\n",
      "30.0\n",
      "52.0\n",
      "1.0\n",
      "49.0\n"
     ]
    }
   ],
   "source": [
    "uniques_ecoscore_score = df['ecoscore_score'].unique()\n",
    "uniques_ecoscore_score_list = list(uniques_ecoscore_score)\n",
    "for value in uniques_ecoscore_score_list:\n",
    "    print(value)"
   ]
  },
  {
   "cell_type": "code",
   "execution_count": 342,
   "metadata": {},
   "outputs": [
    {
     "name": "stdout",
     "output_type": "stream",
     "text": [
      "\n",
      "none\n",
      "salt sugar disaccharide addedsugar\n",
      "flavouring water sugar disaccharide addedsugar\n",
      "salt\n",
      "oilandfat sugar disaccharide addedsugar salt\n",
      "naturalflavouring flavouring salt\n",
      "vegetableoilandfat oilandfat sugar disaccharide salt addedsugar\n",
      "vegetableoilandfat oilandfat sugar disaccharide addedsugar salt\n",
      "oilandfat flavouring salt\n",
      "oilandfat water sugar disaccharide addedsugar salt\n",
      "flavouring sugar disaccharide addedsugar\n",
      "water dairy sugar disaccharide salt addedsugar\n",
      "oilandfat flavouring water disaccharide addedsugar salt\n",
      "vegetable\n",
      "sugar disaccharide addedsugar\n",
      "water salt addedsugar\n",
      "water sugar disaccharide addedsugar\n",
      "vegetableoilandfat oilandfat\n",
      "water flavouring sugar disaccharide salt addedsugar\n",
      "dairy oilandfat water addedsugar salt\n",
      "water disaccharide salt addedsugar\n",
      "water salt\n",
      "oilandfat flavouring sugar disaccharide addedsugar salt\n",
      "oilandfat salt\n",
      "addedsugar salt\n",
      "water sugar disaccharide salt addedsugar\n",
      "water\n",
      "oilandfat flavouring sugar disaccharide salt addedsugar\n",
      "vegetable salt\n",
      "fruit water vegetable sugar disaccharide salt addedsugar\n",
      "vegetableoilandfat oilandfat water sugar disaccharide salt addedsugar\n",
      "vegetableoilandfat oilandfat sugar disaccharide addedsugar\n",
      "naturalflavouring flavouring sugar disaccharide addedsugar\n",
      "sugar disaccharide salt addedsugar\n",
      "oilandfat sugar disaccharide addedsugar\n",
      "vegetable sugar disaccharide addedsugar salt\n",
      "oilandfat\n",
      "flavouring oilandfat sugar disaccharide salt addedsugar\n",
      "oilandfat water salt\n",
      "oilandfat flavouring water sugar disaccharide addedsugar salt\n",
      "dairy sugar disaccharide addedsugar\n",
      "water oilandfat sugar disaccharide salt addedsugar\n",
      "salt oilandfat\n",
      "flavouring water sugar disaccharide salt addedsugar\n",
      "flavouring sugar disaccharide addedsugar salt\n",
      "dairy flavouring sugar disaccharide salt addedsugar\n",
      "water oilandfat salt\n",
      "vegetableoilandfat oilandfat flavouring sugar disaccharide salt addedsugar\n",
      "vegetableoilandfat oilandfat salt\n",
      "oilandfat flavouring water sugar disaccharide salt addedsugar\n",
      "vegetable oilandfat sugar disaccharide addedsugar\n",
      "flavouring oilandfat salt\n",
      "oilandfat sugar disaccharide water addedsugar salt\n",
      "oilandfat flavouring water salt\n",
      "oilandfat flavouring sugar disaccharide addedsugar\n",
      "salt addedsugar\n",
      "water addedsugar\n",
      "vegetableoilandfat flavouring oilandfat sugar disaccharide addedsugar salt\n",
      "oilandfat water flavouring sugar disaccharide addedsugar\n",
      "water dairy\n"
     ]
    }
   ],
   "source": [
    "uniques_ingredients = df['ingredients'].unique()\n",
    "uniques_ingredients_list = list(uniques_ingredients)\n",
    "for value in uniques_ingredients_list:\n",
    "    print(value)"
   ]
  },
  {
   "cell_type": "code",
   "execution_count": 343,
   "metadata": {},
   "outputs": [
    {
     "name": "stdout",
     "output_type": "stream",
     "text": [
      "beverages\n",
      "none\n",
      "\n",
      "plantbasedfoods plantbasedfoodsandbeverages\n",
      "poultries meats meatsandtheirproducts\n",
      "cerealsandpotatoes plantbasedfoods plantbasedfoodsandbeverages\n",
      "snacks\n",
      "sweetsnacks snacks\n",
      "dairies\n",
      "groceries condiments\n",
      "beverages plantbasedfoodsandbeverages\n",
      "plantbasedfoodsandbeverages\n",
      "condiments\n",
      "meatsandtheirproducts\n",
      "meats meatsandtheirproducts\n",
      "cocoaanditsproducts sweetsnacks snacks\n",
      "snacks plantbasedfoods plantbasedfoodsandbeverages\n",
      "fruitsandvegetablesbasedfoods plantbasedfoods plantbasedfoodsandbeverages\n",
      "meals fruitsandvegetablesbasedfoods plantbasedfoods plantbasedfoodsandbeverages\n",
      "confectioneries sweetsnacks snacks\n",
      "meals\n",
      "sweetsnacks snacks plantbasedfoods plantbasedfoodsandbeverages\n"
     ]
    }
   ],
   "source": [
    "uniques_categories = df['categories'].unique()\n",
    "uniques_categories_list = list(uniques_categories)\n",
    "for value in uniques_categories_list:\n",
    "    print(value)"
   ]
  },
  {
   "cell_type": "code",
   "execution_count": 344,
   "metadata": {},
   "outputs": [
    {
     "name": "stdout",
     "output_type": "stream",
     "text": [
      "0.1111111111\n",
      "0.0\n",
      "0.3333333333\n",
      "0.6666666667\n",
      "0.2222222222\n",
      "0.4444444444\n",
      "0.5555555556\n",
      "0.7777777778\n",
      "1.0\n"
     ]
    }
   ],
   "source": [
    "uniques_labels_note = df['labels_note'].unique()\n",
    "uniques_labels_note_list = list(uniques_labels_note)\n",
    "for value in uniques_labels_note_list:\n",
    "    print(value)"
   ]
  },
  {
   "cell_type": "code",
   "execution_count": 345,
   "metadata": {},
   "outputs": [
    {
     "data": {
      "text/html": [
       "<div>\n",
       "<style scoped>\n",
       "    .dataframe tbody tr th:only-of-type {\n",
       "        vertical-align: middle;\n",
       "    }\n",
       "\n",
       "    .dataframe tbody tr th {\n",
       "        vertical-align: top;\n",
       "    }\n",
       "\n",
       "    .dataframe thead th {\n",
       "        text-align: right;\n",
       "    }\n",
       "</style>\n",
       "<table border=\"1\" class=\"dataframe\">\n",
       "  <thead>\n",
       "    <tr style=\"text-align: right;\">\n",
       "      <th></th>\n",
       "      <th>groups</th>\n",
       "      <th>ecoscore_tags</th>\n",
       "      <th>ecoscore_score</th>\n",
       "      <th>countries</th>\n",
       "      <th>labels_note</th>\n",
       "    </tr>\n",
       "  </thead>\n",
       "  <tbody>\n",
       "    <tr>\n",
       "      <th>count</th>\n",
       "      <td>188.000000</td>\n",
       "      <td>137.000000</td>\n",
       "      <td>128.000000</td>\n",
       "      <td>453.000000</td>\n",
       "      <td>500.000000</td>\n",
       "    </tr>\n",
       "    <tr>\n",
       "      <th>mean</th>\n",
       "      <td>0.412530</td>\n",
       "      <td>0.467153</td>\n",
       "      <td>50.187500</td>\n",
       "      <td>0.528730</td>\n",
       "      <td>0.078889</td>\n",
       "    </tr>\n",
       "    <tr>\n",
       "      <th>std</th>\n",
       "      <td>0.295637</td>\n",
       "      <td>0.305912</td>\n",
       "      <td>24.736963</td>\n",
       "      <td>0.342462</td>\n",
       "      <td>0.162167</td>\n",
       "    </tr>\n",
       "    <tr>\n",
       "      <th>min</th>\n",
       "      <td>0.000000</td>\n",
       "      <td>0.000000</td>\n",
       "      <td>0.000000</td>\n",
       "      <td>0.000000</td>\n",
       "      <td>0.000000</td>\n",
       "    </tr>\n",
       "    <tr>\n",
       "      <th>25%</th>\n",
       "      <td>0.111111</td>\n",
       "      <td>0.250000</td>\n",
       "      <td>30.750000</td>\n",
       "      <td>0.303191</td>\n",
       "      <td>0.000000</td>\n",
       "    </tr>\n",
       "    <tr>\n",
       "      <th>50%</th>\n",
       "      <td>0.444444</td>\n",
       "      <td>0.500000</td>\n",
       "      <td>50.000000</td>\n",
       "      <td>0.333333</td>\n",
       "      <td>0.000000</td>\n",
       "    </tr>\n",
       "    <tr>\n",
       "      <th>75%</th>\n",
       "      <td>0.666667</td>\n",
       "      <td>0.750000</td>\n",
       "      <td>70.000000</td>\n",
       "      <td>0.899441</td>\n",
       "      <td>0.111111</td>\n",
       "    </tr>\n",
       "    <tr>\n",
       "      <th>max</th>\n",
       "      <td>1.000000</td>\n",
       "      <td>1.000000</td>\n",
       "      <td>100.000000</td>\n",
       "      <td>1.000000</td>\n",
       "      <td>1.000000</td>\n",
       "    </tr>\n",
       "  </tbody>\n",
       "</table>\n",
       "</div>"
      ],
      "text/plain": [
       "           groups  ecoscore_tags  ecoscore_score   countries  labels_note\n",
       "count  188.000000     137.000000      128.000000  453.000000   500.000000\n",
       "mean     0.412530       0.467153       50.187500    0.528730     0.078889\n",
       "std      0.295637       0.305912       24.736963    0.342462     0.162167\n",
       "min      0.000000       0.000000        0.000000    0.000000     0.000000\n",
       "25%      0.111111       0.250000       30.750000    0.303191     0.000000\n",
       "50%      0.444444       0.500000       50.000000    0.333333     0.000000\n",
       "75%      0.666667       0.750000       70.000000    0.899441     0.111111\n",
       "max      1.000000       1.000000      100.000000    1.000000     1.000000"
      ]
     },
     "execution_count": 345,
     "metadata": {},
     "output_type": "execute_result"
    }
   ],
   "source": [
    "df.describe()"
   ]
  },
  {
   "cell_type": "code",
   "execution_count": 346,
   "metadata": {},
   "outputs": [],
   "source": [
    "def load_jsonl_to_dataframe(file_path):\n",
    "    data = []\n",
    "    with open(file_path, 'r') as file:\n",
    "        for line in file:\n",
    "            data.append(json.loads(line))\n",
    "    df = pd.DataFrame(data)\n",
    "    return df\n",
    "\n",
    "def create_treemap_for_column(df, column_name):\n",
    "    if column_name not in df.columns:\n",
    "        print(f\"warning, column: '{column_name}'does not exists\")\n",
    "        return\n",
    "    data = df[column_name].value_counts().reset_index()\n",
    "    data.columns = [column_name, 'count']\n",
    "    fig = go.Figure(go.Treemap(\n",
    "        labels=data[column_name],\n",
    "        parents=[\"\"] * len(data),\n",
    "        values=data['count'],\n",
    "        textinfo='label+value',  \n",
    "    ))\n",
    "    fig.update_layout(\n",
    "        title=f'treemap column: {column_name}',\n",
    "        paper_bgcolor='black',  \n",
    "        plot_bgcolor='grey',   \n",
    "        font_color='white'      \n",
    "    )\n",
    "    fig.show()"
   ]
  },
  {
   "cell_type": "code",
   "execution_count": 347,
   "metadata": {},
   "outputs": [
    {
     "data": {
      "application/vnd.plotly.v1+json": {
       "config": {
        "plotlyServerURL": "https://plot.ly"
       },
       "data": [
        {
         "labels": [
          0.25,
          0.75,
          0.5,
          1,
          0,
          0.3333333333,
          0.6666666667
         ],
         "parents": [
          "",
          "",
          "",
          "",
          "",
          "",
          ""
         ],
         "textinfo": "label+value",
         "type": "treemap",
         "values": [
          292855,
          197589,
          181755,
          113391,
          76418,
          3,
          1
         ]
        }
       ],
       "layout": {
        "font": {
         "color": "white"
        },
        "paper_bgcolor": "black",
        "plot_bgcolor": "grey",
        "template": {
         "data": {
          "bar": [
           {
            "error_x": {
             "color": "#2a3f5f"
            },
            "error_y": {
             "color": "#2a3f5f"
            },
            "marker": {
             "line": {
              "color": "#E5ECF6",
              "width": 0.5
             },
             "pattern": {
              "fillmode": "overlay",
              "size": 10,
              "solidity": 0.2
             }
            },
            "type": "bar"
           }
          ],
          "barpolar": [
           {
            "marker": {
             "line": {
              "color": "#E5ECF6",
              "width": 0.5
             },
             "pattern": {
              "fillmode": "overlay",
              "size": 10,
              "solidity": 0.2
             }
            },
            "type": "barpolar"
           }
          ],
          "carpet": [
           {
            "aaxis": {
             "endlinecolor": "#2a3f5f",
             "gridcolor": "white",
             "linecolor": "white",
             "minorgridcolor": "white",
             "startlinecolor": "#2a3f5f"
            },
            "baxis": {
             "endlinecolor": "#2a3f5f",
             "gridcolor": "white",
             "linecolor": "white",
             "minorgridcolor": "white",
             "startlinecolor": "#2a3f5f"
            },
            "type": "carpet"
           }
          ],
          "choropleth": [
           {
            "colorbar": {
             "outlinewidth": 0,
             "ticks": ""
            },
            "type": "choropleth"
           }
          ],
          "contour": [
           {
            "colorbar": {
             "outlinewidth": 0,
             "ticks": ""
            },
            "colorscale": [
             [
              0,
              "#0d0887"
             ],
             [
              0.1111111111111111,
              "#46039f"
             ],
             [
              0.2222222222222222,
              "#7201a8"
             ],
             [
              0.3333333333333333,
              "#9c179e"
             ],
             [
              0.4444444444444444,
              "#bd3786"
             ],
             [
              0.5555555555555556,
              "#d8576b"
             ],
             [
              0.6666666666666666,
              "#ed7953"
             ],
             [
              0.7777777777777778,
              "#fb9f3a"
             ],
             [
              0.8888888888888888,
              "#fdca26"
             ],
             [
              1,
              "#f0f921"
             ]
            ],
            "type": "contour"
           }
          ],
          "contourcarpet": [
           {
            "colorbar": {
             "outlinewidth": 0,
             "ticks": ""
            },
            "type": "contourcarpet"
           }
          ],
          "heatmap": [
           {
            "colorbar": {
             "outlinewidth": 0,
             "ticks": ""
            },
            "colorscale": [
             [
              0,
              "#0d0887"
             ],
             [
              0.1111111111111111,
              "#46039f"
             ],
             [
              0.2222222222222222,
              "#7201a8"
             ],
             [
              0.3333333333333333,
              "#9c179e"
             ],
             [
              0.4444444444444444,
              "#bd3786"
             ],
             [
              0.5555555555555556,
              "#d8576b"
             ],
             [
              0.6666666666666666,
              "#ed7953"
             ],
             [
              0.7777777777777778,
              "#fb9f3a"
             ],
             [
              0.8888888888888888,
              "#fdca26"
             ],
             [
              1,
              "#f0f921"
             ]
            ],
            "type": "heatmap"
           }
          ],
          "heatmapgl": [
           {
            "colorbar": {
             "outlinewidth": 0,
             "ticks": ""
            },
            "colorscale": [
             [
              0,
              "#0d0887"
             ],
             [
              0.1111111111111111,
              "#46039f"
             ],
             [
              0.2222222222222222,
              "#7201a8"
             ],
             [
              0.3333333333333333,
              "#9c179e"
             ],
             [
              0.4444444444444444,
              "#bd3786"
             ],
             [
              0.5555555555555556,
              "#d8576b"
             ],
             [
              0.6666666666666666,
              "#ed7953"
             ],
             [
              0.7777777777777778,
              "#fb9f3a"
             ],
             [
              0.8888888888888888,
              "#fdca26"
             ],
             [
              1,
              "#f0f921"
             ]
            ],
            "type": "heatmapgl"
           }
          ],
          "histogram": [
           {
            "marker": {
             "pattern": {
              "fillmode": "overlay",
              "size": 10,
              "solidity": 0.2
             }
            },
            "type": "histogram"
           }
          ],
          "histogram2d": [
           {
            "colorbar": {
             "outlinewidth": 0,
             "ticks": ""
            },
            "colorscale": [
             [
              0,
              "#0d0887"
             ],
             [
              0.1111111111111111,
              "#46039f"
             ],
             [
              0.2222222222222222,
              "#7201a8"
             ],
             [
              0.3333333333333333,
              "#9c179e"
             ],
             [
              0.4444444444444444,
              "#bd3786"
             ],
             [
              0.5555555555555556,
              "#d8576b"
             ],
             [
              0.6666666666666666,
              "#ed7953"
             ],
             [
              0.7777777777777778,
              "#fb9f3a"
             ],
             [
              0.8888888888888888,
              "#fdca26"
             ],
             [
              1,
              "#f0f921"
             ]
            ],
            "type": "histogram2d"
           }
          ],
          "histogram2dcontour": [
           {
            "colorbar": {
             "outlinewidth": 0,
             "ticks": ""
            },
            "colorscale": [
             [
              0,
              "#0d0887"
             ],
             [
              0.1111111111111111,
              "#46039f"
             ],
             [
              0.2222222222222222,
              "#7201a8"
             ],
             [
              0.3333333333333333,
              "#9c179e"
             ],
             [
              0.4444444444444444,
              "#bd3786"
             ],
             [
              0.5555555555555556,
              "#d8576b"
             ],
             [
              0.6666666666666666,
              "#ed7953"
             ],
             [
              0.7777777777777778,
              "#fb9f3a"
             ],
             [
              0.8888888888888888,
              "#fdca26"
             ],
             [
              1,
              "#f0f921"
             ]
            ],
            "type": "histogram2dcontour"
           }
          ],
          "mesh3d": [
           {
            "colorbar": {
             "outlinewidth": 0,
             "ticks": ""
            },
            "type": "mesh3d"
           }
          ],
          "parcoords": [
           {
            "line": {
             "colorbar": {
              "outlinewidth": 0,
              "ticks": ""
             }
            },
            "type": "parcoords"
           }
          ],
          "pie": [
           {
            "automargin": true,
            "type": "pie"
           }
          ],
          "scatter": [
           {
            "fillpattern": {
             "fillmode": "overlay",
             "size": 10,
             "solidity": 0.2
            },
            "type": "scatter"
           }
          ],
          "scatter3d": [
           {
            "line": {
             "colorbar": {
              "outlinewidth": 0,
              "ticks": ""
             }
            },
            "marker": {
             "colorbar": {
              "outlinewidth": 0,
              "ticks": ""
             }
            },
            "type": "scatter3d"
           }
          ],
          "scattercarpet": [
           {
            "marker": {
             "colorbar": {
              "outlinewidth": 0,
              "ticks": ""
             }
            },
            "type": "scattercarpet"
           }
          ],
          "scattergeo": [
           {
            "marker": {
             "colorbar": {
              "outlinewidth": 0,
              "ticks": ""
             }
            },
            "type": "scattergeo"
           }
          ],
          "scattergl": [
           {
            "marker": {
             "colorbar": {
              "outlinewidth": 0,
              "ticks": ""
             }
            },
            "type": "scattergl"
           }
          ],
          "scattermapbox": [
           {
            "marker": {
             "colorbar": {
              "outlinewidth": 0,
              "ticks": ""
             }
            },
            "type": "scattermapbox"
           }
          ],
          "scatterpolar": [
           {
            "marker": {
             "colorbar": {
              "outlinewidth": 0,
              "ticks": ""
             }
            },
            "type": "scatterpolar"
           }
          ],
          "scatterpolargl": [
           {
            "marker": {
             "colorbar": {
              "outlinewidth": 0,
              "ticks": ""
             }
            },
            "type": "scatterpolargl"
           }
          ],
          "scatterternary": [
           {
            "marker": {
             "colorbar": {
              "outlinewidth": 0,
              "ticks": ""
             }
            },
            "type": "scatterternary"
           }
          ],
          "surface": [
           {
            "colorbar": {
             "outlinewidth": 0,
             "ticks": ""
            },
            "colorscale": [
             [
              0,
              "#0d0887"
             ],
             [
              0.1111111111111111,
              "#46039f"
             ],
             [
              0.2222222222222222,
              "#7201a8"
             ],
             [
              0.3333333333333333,
              "#9c179e"
             ],
             [
              0.4444444444444444,
              "#bd3786"
             ],
             [
              0.5555555555555556,
              "#d8576b"
             ],
             [
              0.6666666666666666,
              "#ed7953"
             ],
             [
              0.7777777777777778,
              "#fb9f3a"
             ],
             [
              0.8888888888888888,
              "#fdca26"
             ],
             [
              1,
              "#f0f921"
             ]
            ],
            "type": "surface"
           }
          ],
          "table": [
           {
            "cells": {
             "fill": {
              "color": "#EBF0F8"
             },
             "line": {
              "color": "white"
             }
            },
            "header": {
             "fill": {
              "color": "#C8D4E3"
             },
             "line": {
              "color": "white"
             }
            },
            "type": "table"
           }
          ]
         },
         "layout": {
          "annotationdefaults": {
           "arrowcolor": "#2a3f5f",
           "arrowhead": 0,
           "arrowwidth": 1
          },
          "autotypenumbers": "strict",
          "coloraxis": {
           "colorbar": {
            "outlinewidth": 0,
            "ticks": ""
           }
          },
          "colorscale": {
           "diverging": [
            [
             0,
             "#8e0152"
            ],
            [
             0.1,
             "#c51b7d"
            ],
            [
             0.2,
             "#de77ae"
            ],
            [
             0.3,
             "#f1b6da"
            ],
            [
             0.4,
             "#fde0ef"
            ],
            [
             0.5,
             "#f7f7f7"
            ],
            [
             0.6,
             "#e6f5d0"
            ],
            [
             0.7,
             "#b8e186"
            ],
            [
             0.8,
             "#7fbc41"
            ],
            [
             0.9,
             "#4d9221"
            ],
            [
             1,
             "#276419"
            ]
           ],
           "sequential": [
            [
             0,
             "#0d0887"
            ],
            [
             0.1111111111111111,
             "#46039f"
            ],
            [
             0.2222222222222222,
             "#7201a8"
            ],
            [
             0.3333333333333333,
             "#9c179e"
            ],
            [
             0.4444444444444444,
             "#bd3786"
            ],
            [
             0.5555555555555556,
             "#d8576b"
            ],
            [
             0.6666666666666666,
             "#ed7953"
            ],
            [
             0.7777777777777778,
             "#fb9f3a"
            ],
            [
             0.8888888888888888,
             "#fdca26"
            ],
            [
             1,
             "#f0f921"
            ]
           ],
           "sequentialminus": [
            [
             0,
             "#0d0887"
            ],
            [
             0.1111111111111111,
             "#46039f"
            ],
            [
             0.2222222222222222,
             "#7201a8"
            ],
            [
             0.3333333333333333,
             "#9c179e"
            ],
            [
             0.4444444444444444,
             "#bd3786"
            ],
            [
             0.5555555555555556,
             "#d8576b"
            ],
            [
             0.6666666666666666,
             "#ed7953"
            ],
            [
             0.7777777777777778,
             "#fb9f3a"
            ],
            [
             0.8888888888888888,
             "#fdca26"
            ],
            [
             1,
             "#f0f921"
            ]
           ]
          },
          "colorway": [
           "#636efa",
           "#EF553B",
           "#00cc96",
           "#ab63fa",
           "#FFA15A",
           "#19d3f3",
           "#FF6692",
           "#B6E880",
           "#FF97FF",
           "#FECB52"
          ],
          "font": {
           "color": "#2a3f5f"
          },
          "geo": {
           "bgcolor": "white",
           "lakecolor": "white",
           "landcolor": "#E5ECF6",
           "showlakes": true,
           "showland": true,
           "subunitcolor": "white"
          },
          "hoverlabel": {
           "align": "left"
          },
          "hovermode": "closest",
          "mapbox": {
           "style": "light"
          },
          "paper_bgcolor": "white",
          "plot_bgcolor": "#E5ECF6",
          "polar": {
           "angularaxis": {
            "gridcolor": "white",
            "linecolor": "white",
            "ticks": ""
           },
           "bgcolor": "#E5ECF6",
           "radialaxis": {
            "gridcolor": "white",
            "linecolor": "white",
            "ticks": ""
           }
          },
          "scene": {
           "xaxis": {
            "backgroundcolor": "#E5ECF6",
            "gridcolor": "white",
            "gridwidth": 2,
            "linecolor": "white",
            "showbackground": true,
            "ticks": "",
            "zerolinecolor": "white"
           },
           "yaxis": {
            "backgroundcolor": "#E5ECF6",
            "gridcolor": "white",
            "gridwidth": 2,
            "linecolor": "white",
            "showbackground": true,
            "ticks": "",
            "zerolinecolor": "white"
           },
           "zaxis": {
            "backgroundcolor": "#E5ECF6",
            "gridcolor": "white",
            "gridwidth": 2,
            "linecolor": "white",
            "showbackground": true,
            "ticks": "",
            "zerolinecolor": "white"
           }
          },
          "shapedefaults": {
           "line": {
            "color": "#2a3f5f"
           }
          },
          "ternary": {
           "aaxis": {
            "gridcolor": "white",
            "linecolor": "white",
            "ticks": ""
           },
           "baxis": {
            "gridcolor": "white",
            "linecolor": "white",
            "ticks": ""
           },
           "bgcolor": "#E5ECF6",
           "caxis": {
            "gridcolor": "white",
            "linecolor": "white",
            "ticks": ""
           }
          },
          "title": {
           "x": 0.05
          },
          "xaxis": {
           "automargin": true,
           "gridcolor": "white",
           "linecolor": "white",
           "ticks": "",
           "title": {
            "standoff": 15
           },
           "zerolinecolor": "white",
           "zerolinewidth": 2
          },
          "yaxis": {
           "automargin": true,
           "gridcolor": "white",
           "linecolor": "white",
           "ticks": "",
           "title": {
            "standoff": 15
           },
           "zerolinecolor": "white",
           "zerolinewidth": 2
          }
         }
        },
        "title": {
         "text": "treemap column: ecoscore_tags"
        }
       }
      }
     },
     "metadata": {},
     "output_type": "display_data"
    },
    {
     "data": {
      "application/vnd.plotly.v1+json": {
       "config": {
        "plotlyServerURL": "https://plot.ly"
       },
       "data": [
        {
         "labels": [
          79,
          67,
          72,
          34,
          49,
          0,
          77,
          21,
          39,
          42,
          75,
          27,
          50,
          15,
          37,
          43,
          60,
          44,
          76,
          36,
          78,
          54,
          25,
          12,
          45,
          38,
          19,
          35,
          74,
          100,
          64,
          70,
          68,
          62,
          71,
          30,
          16,
          22,
          58,
          57,
          55,
          18,
          73,
          59,
          51,
          29,
          66,
          48,
          47,
          40,
          32,
          28,
          69,
          4,
          53,
          23,
          52,
          41,
          56,
          31,
          63,
          65,
          24,
          9,
          46,
          26,
          33,
          2,
          20,
          17,
          6,
          14,
          8,
          5,
          61,
          81,
          3,
          85,
          13,
          80,
          91,
          1,
          83,
          82,
          90,
          11,
          84,
          10,
          88,
          89,
          92,
          94,
          87,
          93,
          7,
          86,
          96,
          95,
          99,
          97,
          98,
          78.4170138324
         ],
         "parents": [
          "",
          "",
          "",
          "",
          "",
          "",
          "",
          "",
          "",
          "",
          "",
          "",
          "",
          "",
          "",
          "",
          "",
          "",
          "",
          "",
          "",
          "",
          "",
          "",
          "",
          "",
          "",
          "",
          "",
          "",
          "",
          "",
          "",
          "",
          "",
          "",
          "",
          "",
          "",
          "",
          "",
          "",
          "",
          "",
          "",
          "",
          "",
          "",
          "",
          "",
          "",
          "",
          "",
          "",
          "",
          "",
          "",
          "",
          "",
          "",
          "",
          "",
          "",
          "",
          "",
          "",
          "",
          "",
          "",
          "",
          "",
          "",
          "",
          "",
          "",
          "",
          "",
          "",
          "",
          "",
          "",
          "",
          "",
          "",
          "",
          "",
          "",
          "",
          "",
          "",
          "",
          "",
          "",
          "",
          "",
          "",
          "",
          "",
          "",
          "",
          "",
          ""
         ],
         "textinfo": "label+value",
         "type": "treemap",
         "values": [
          59928,
          43342,
          31988,
          29585,
          21132,
          20015,
          17283,
          16126,
          15986,
          15280,
          14986,
          14607,
          14090,
          13914,
          13269,
          12500,
          12331,
          12323,
          11950,
          11576,
          11519,
          11395,
          11183,
          10749,
          10598,
          10379,
          10374,
          10310,
          10169,
          9947,
          9683,
          9251,
          9119,
          9097,
          8987,
          8838,
          8763,
          8400,
          8244,
          7886,
          7522,
          7316,
          7061,
          7038,
          6900,
          6891,
          6884,
          6785,
          6753,
          6670,
          6601,
          6208,
          6176,
          6134,
          6110,
          5757,
          5580,
          5390,
          5375,
          5165,
          5090,
          5066,
          4822,
          4526,
          4185,
          4135,
          3984,
          3787,
          3770,
          3642,
          3507,
          3257,
          3201,
          3184,
          2952,
          2799,
          2595,
          2576,
          2363,
          2294,
          2159,
          2130,
          2068,
          1938,
          1686,
          1537,
          1414,
          1411,
          1401,
          1288,
          1278,
          1186,
          1166,
          1083,
          983,
          970,
          846,
          835,
          799,
          685,
          671,
          1
         ]
        }
       ],
       "layout": {
        "font": {
         "color": "white"
        },
        "paper_bgcolor": "black",
        "plot_bgcolor": "grey",
        "template": {
         "data": {
          "bar": [
           {
            "error_x": {
             "color": "#2a3f5f"
            },
            "error_y": {
             "color": "#2a3f5f"
            },
            "marker": {
             "line": {
              "color": "#E5ECF6",
              "width": 0.5
             },
             "pattern": {
              "fillmode": "overlay",
              "size": 10,
              "solidity": 0.2
             }
            },
            "type": "bar"
           }
          ],
          "barpolar": [
           {
            "marker": {
             "line": {
              "color": "#E5ECF6",
              "width": 0.5
             },
             "pattern": {
              "fillmode": "overlay",
              "size": 10,
              "solidity": 0.2
             }
            },
            "type": "barpolar"
           }
          ],
          "carpet": [
           {
            "aaxis": {
             "endlinecolor": "#2a3f5f",
             "gridcolor": "white",
             "linecolor": "white",
             "minorgridcolor": "white",
             "startlinecolor": "#2a3f5f"
            },
            "baxis": {
             "endlinecolor": "#2a3f5f",
             "gridcolor": "white",
             "linecolor": "white",
             "minorgridcolor": "white",
             "startlinecolor": "#2a3f5f"
            },
            "type": "carpet"
           }
          ],
          "choropleth": [
           {
            "colorbar": {
             "outlinewidth": 0,
             "ticks": ""
            },
            "type": "choropleth"
           }
          ],
          "contour": [
           {
            "colorbar": {
             "outlinewidth": 0,
             "ticks": ""
            },
            "colorscale": [
             [
              0,
              "#0d0887"
             ],
             [
              0.1111111111111111,
              "#46039f"
             ],
             [
              0.2222222222222222,
              "#7201a8"
             ],
             [
              0.3333333333333333,
              "#9c179e"
             ],
             [
              0.4444444444444444,
              "#bd3786"
             ],
             [
              0.5555555555555556,
              "#d8576b"
             ],
             [
              0.6666666666666666,
              "#ed7953"
             ],
             [
              0.7777777777777778,
              "#fb9f3a"
             ],
             [
              0.8888888888888888,
              "#fdca26"
             ],
             [
              1,
              "#f0f921"
             ]
            ],
            "type": "contour"
           }
          ],
          "contourcarpet": [
           {
            "colorbar": {
             "outlinewidth": 0,
             "ticks": ""
            },
            "type": "contourcarpet"
           }
          ],
          "heatmap": [
           {
            "colorbar": {
             "outlinewidth": 0,
             "ticks": ""
            },
            "colorscale": [
             [
              0,
              "#0d0887"
             ],
             [
              0.1111111111111111,
              "#46039f"
             ],
             [
              0.2222222222222222,
              "#7201a8"
             ],
             [
              0.3333333333333333,
              "#9c179e"
             ],
             [
              0.4444444444444444,
              "#bd3786"
             ],
             [
              0.5555555555555556,
              "#d8576b"
             ],
             [
              0.6666666666666666,
              "#ed7953"
             ],
             [
              0.7777777777777778,
              "#fb9f3a"
             ],
             [
              0.8888888888888888,
              "#fdca26"
             ],
             [
              1,
              "#f0f921"
             ]
            ],
            "type": "heatmap"
           }
          ],
          "heatmapgl": [
           {
            "colorbar": {
             "outlinewidth": 0,
             "ticks": ""
            },
            "colorscale": [
             [
              0,
              "#0d0887"
             ],
             [
              0.1111111111111111,
              "#46039f"
             ],
             [
              0.2222222222222222,
              "#7201a8"
             ],
             [
              0.3333333333333333,
              "#9c179e"
             ],
             [
              0.4444444444444444,
              "#bd3786"
             ],
             [
              0.5555555555555556,
              "#d8576b"
             ],
             [
              0.6666666666666666,
              "#ed7953"
             ],
             [
              0.7777777777777778,
              "#fb9f3a"
             ],
             [
              0.8888888888888888,
              "#fdca26"
             ],
             [
              1,
              "#f0f921"
             ]
            ],
            "type": "heatmapgl"
           }
          ],
          "histogram": [
           {
            "marker": {
             "pattern": {
              "fillmode": "overlay",
              "size": 10,
              "solidity": 0.2
             }
            },
            "type": "histogram"
           }
          ],
          "histogram2d": [
           {
            "colorbar": {
             "outlinewidth": 0,
             "ticks": ""
            },
            "colorscale": [
             [
              0,
              "#0d0887"
             ],
             [
              0.1111111111111111,
              "#46039f"
             ],
             [
              0.2222222222222222,
              "#7201a8"
             ],
             [
              0.3333333333333333,
              "#9c179e"
             ],
             [
              0.4444444444444444,
              "#bd3786"
             ],
             [
              0.5555555555555556,
              "#d8576b"
             ],
             [
              0.6666666666666666,
              "#ed7953"
             ],
             [
              0.7777777777777778,
              "#fb9f3a"
             ],
             [
              0.8888888888888888,
              "#fdca26"
             ],
             [
              1,
              "#f0f921"
             ]
            ],
            "type": "histogram2d"
           }
          ],
          "histogram2dcontour": [
           {
            "colorbar": {
             "outlinewidth": 0,
             "ticks": ""
            },
            "colorscale": [
             [
              0,
              "#0d0887"
             ],
             [
              0.1111111111111111,
              "#46039f"
             ],
             [
              0.2222222222222222,
              "#7201a8"
             ],
             [
              0.3333333333333333,
              "#9c179e"
             ],
             [
              0.4444444444444444,
              "#bd3786"
             ],
             [
              0.5555555555555556,
              "#d8576b"
             ],
             [
              0.6666666666666666,
              "#ed7953"
             ],
             [
              0.7777777777777778,
              "#fb9f3a"
             ],
             [
              0.8888888888888888,
              "#fdca26"
             ],
             [
              1,
              "#f0f921"
             ]
            ],
            "type": "histogram2dcontour"
           }
          ],
          "mesh3d": [
           {
            "colorbar": {
             "outlinewidth": 0,
             "ticks": ""
            },
            "type": "mesh3d"
           }
          ],
          "parcoords": [
           {
            "line": {
             "colorbar": {
              "outlinewidth": 0,
              "ticks": ""
             }
            },
            "type": "parcoords"
           }
          ],
          "pie": [
           {
            "automargin": true,
            "type": "pie"
           }
          ],
          "scatter": [
           {
            "fillpattern": {
             "fillmode": "overlay",
             "size": 10,
             "solidity": 0.2
            },
            "type": "scatter"
           }
          ],
          "scatter3d": [
           {
            "line": {
             "colorbar": {
              "outlinewidth": 0,
              "ticks": ""
             }
            },
            "marker": {
             "colorbar": {
              "outlinewidth": 0,
              "ticks": ""
             }
            },
            "type": "scatter3d"
           }
          ],
          "scattercarpet": [
           {
            "marker": {
             "colorbar": {
              "outlinewidth": 0,
              "ticks": ""
             }
            },
            "type": "scattercarpet"
           }
          ],
          "scattergeo": [
           {
            "marker": {
             "colorbar": {
              "outlinewidth": 0,
              "ticks": ""
             }
            },
            "type": "scattergeo"
           }
          ],
          "scattergl": [
           {
            "marker": {
             "colorbar": {
              "outlinewidth": 0,
              "ticks": ""
             }
            },
            "type": "scattergl"
           }
          ],
          "scattermapbox": [
           {
            "marker": {
             "colorbar": {
              "outlinewidth": 0,
              "ticks": ""
             }
            },
            "type": "scattermapbox"
           }
          ],
          "scatterpolar": [
           {
            "marker": {
             "colorbar": {
              "outlinewidth": 0,
              "ticks": ""
             }
            },
            "type": "scatterpolar"
           }
          ],
          "scatterpolargl": [
           {
            "marker": {
             "colorbar": {
              "outlinewidth": 0,
              "ticks": ""
             }
            },
            "type": "scatterpolargl"
           }
          ],
          "scatterternary": [
           {
            "marker": {
             "colorbar": {
              "outlinewidth": 0,
              "ticks": ""
             }
            },
            "type": "scatterternary"
           }
          ],
          "surface": [
           {
            "colorbar": {
             "outlinewidth": 0,
             "ticks": ""
            },
            "colorscale": [
             [
              0,
              "#0d0887"
             ],
             [
              0.1111111111111111,
              "#46039f"
             ],
             [
              0.2222222222222222,
              "#7201a8"
             ],
             [
              0.3333333333333333,
              "#9c179e"
             ],
             [
              0.4444444444444444,
              "#bd3786"
             ],
             [
              0.5555555555555556,
              "#d8576b"
             ],
             [
              0.6666666666666666,
              "#ed7953"
             ],
             [
              0.7777777777777778,
              "#fb9f3a"
             ],
             [
              0.8888888888888888,
              "#fdca26"
             ],
             [
              1,
              "#f0f921"
             ]
            ],
            "type": "surface"
           }
          ],
          "table": [
           {
            "cells": {
             "fill": {
              "color": "#EBF0F8"
             },
             "line": {
              "color": "white"
             }
            },
            "header": {
             "fill": {
              "color": "#C8D4E3"
             },
             "line": {
              "color": "white"
             }
            },
            "type": "table"
           }
          ]
         },
         "layout": {
          "annotationdefaults": {
           "arrowcolor": "#2a3f5f",
           "arrowhead": 0,
           "arrowwidth": 1
          },
          "autotypenumbers": "strict",
          "coloraxis": {
           "colorbar": {
            "outlinewidth": 0,
            "ticks": ""
           }
          },
          "colorscale": {
           "diverging": [
            [
             0,
             "#8e0152"
            ],
            [
             0.1,
             "#c51b7d"
            ],
            [
             0.2,
             "#de77ae"
            ],
            [
             0.3,
             "#f1b6da"
            ],
            [
             0.4,
             "#fde0ef"
            ],
            [
             0.5,
             "#f7f7f7"
            ],
            [
             0.6,
             "#e6f5d0"
            ],
            [
             0.7,
             "#b8e186"
            ],
            [
             0.8,
             "#7fbc41"
            ],
            [
             0.9,
             "#4d9221"
            ],
            [
             1,
             "#276419"
            ]
           ],
           "sequential": [
            [
             0,
             "#0d0887"
            ],
            [
             0.1111111111111111,
             "#46039f"
            ],
            [
             0.2222222222222222,
             "#7201a8"
            ],
            [
             0.3333333333333333,
             "#9c179e"
            ],
            [
             0.4444444444444444,
             "#bd3786"
            ],
            [
             0.5555555555555556,
             "#d8576b"
            ],
            [
             0.6666666666666666,
             "#ed7953"
            ],
            [
             0.7777777777777778,
             "#fb9f3a"
            ],
            [
             0.8888888888888888,
             "#fdca26"
            ],
            [
             1,
             "#f0f921"
            ]
           ],
           "sequentialminus": [
            [
             0,
             "#0d0887"
            ],
            [
             0.1111111111111111,
             "#46039f"
            ],
            [
             0.2222222222222222,
             "#7201a8"
            ],
            [
             0.3333333333333333,
             "#9c179e"
            ],
            [
             0.4444444444444444,
             "#bd3786"
            ],
            [
             0.5555555555555556,
             "#d8576b"
            ],
            [
             0.6666666666666666,
             "#ed7953"
            ],
            [
             0.7777777777777778,
             "#fb9f3a"
            ],
            [
             0.8888888888888888,
             "#fdca26"
            ],
            [
             1,
             "#f0f921"
            ]
           ]
          },
          "colorway": [
           "#636efa",
           "#EF553B",
           "#00cc96",
           "#ab63fa",
           "#FFA15A",
           "#19d3f3",
           "#FF6692",
           "#B6E880",
           "#FF97FF",
           "#FECB52"
          ],
          "font": {
           "color": "#2a3f5f"
          },
          "geo": {
           "bgcolor": "white",
           "lakecolor": "white",
           "landcolor": "#E5ECF6",
           "showlakes": true,
           "showland": true,
           "subunitcolor": "white"
          },
          "hoverlabel": {
           "align": "left"
          },
          "hovermode": "closest",
          "mapbox": {
           "style": "light"
          },
          "paper_bgcolor": "white",
          "plot_bgcolor": "#E5ECF6",
          "polar": {
           "angularaxis": {
            "gridcolor": "white",
            "linecolor": "white",
            "ticks": ""
           },
           "bgcolor": "#E5ECF6",
           "radialaxis": {
            "gridcolor": "white",
            "linecolor": "white",
            "ticks": ""
           }
          },
          "scene": {
           "xaxis": {
            "backgroundcolor": "#E5ECF6",
            "gridcolor": "white",
            "gridwidth": 2,
            "linecolor": "white",
            "showbackground": true,
            "ticks": "",
            "zerolinecolor": "white"
           },
           "yaxis": {
            "backgroundcolor": "#E5ECF6",
            "gridcolor": "white",
            "gridwidth": 2,
            "linecolor": "white",
            "showbackground": true,
            "ticks": "",
            "zerolinecolor": "white"
           },
           "zaxis": {
            "backgroundcolor": "#E5ECF6",
            "gridcolor": "white",
            "gridwidth": 2,
            "linecolor": "white",
            "showbackground": true,
            "ticks": "",
            "zerolinecolor": "white"
           }
          },
          "shapedefaults": {
           "line": {
            "color": "#2a3f5f"
           }
          },
          "ternary": {
           "aaxis": {
            "gridcolor": "white",
            "linecolor": "white",
            "ticks": ""
           },
           "baxis": {
            "gridcolor": "white",
            "linecolor": "white",
            "ticks": ""
           },
           "bgcolor": "#E5ECF6",
           "caxis": {
            "gridcolor": "white",
            "linecolor": "white",
            "ticks": ""
           }
          },
          "title": {
           "x": 0.05
          },
          "xaxis": {
           "automargin": true,
           "gridcolor": "white",
           "linecolor": "white",
           "ticks": "",
           "title": {
            "standoff": 15
           },
           "zerolinecolor": "white",
           "zerolinewidth": 2
          },
          "yaxis": {
           "automargin": true,
           "gridcolor": "white",
           "linecolor": "white",
           "ticks": "",
           "title": {
            "standoff": 15
           },
           "zerolinecolor": "white",
           "zerolinewidth": 2
          }
         }
        },
        "title": {
         "text": "treemap column: ecoscore_score"
        }
       }
      }
     },
     "metadata": {},
     "output_type": "display_data"
    },
    {
     "data": {
      "application/vnd.plotly.v1+json": {
       "config": {
        "plotlyServerURL": "https://plot.ly"
       },
       "data": [
        {
         "labels": [
          1,
          0.3114754098,
          0.8743169399,
          0,
          0.3333333333,
          0.4316939891,
          0.9945355191,
          0.2960893855,
          0.1584699454,
          0.2544378698,
          0.2881355932,
          0.0765027322,
          0.9016393443,
          0.4207650273,
          0.0327868852,
          0.9734042553,
          0.4189944134,
          0.8715083799,
          0.3152173913,
          0.3031914894,
          0.320754717,
          0.3184357542,
          0.6557377049,
          0.420212766,
          0.3015873016,
          0.1818181818,
          0.4347826087,
          0.4124293785,
          0.1147540984,
          0.7431693989,
          0.3244680851,
          0.7650273224,
          0.2786885246,
          0.8510638298,
          0.7595628415,
          0.2847682119,
          0.9625,
          0.2945205479,
          0.9944134078,
          0.8994413408,
          0.4426229508,
          0.6229508197,
          0.7486338798,
          0.8961748634,
          0.3989071038,
          0.3107344633,
          0.1396648045,
          0.9680851064,
          0.5901639344,
          0.0218579235,
          0.1256830601,
          0.8639053254,
          0.1542553191,
          0.6885245902,
          0.306010929,
          0.5355191257,
          0.0382513661,
          0.2781065089,
          0.3369565217,
          0.0558659218,
          0.9682539683,
          0.875,
          0.2349726776,
          0.2295081967,
          0.3,
          0.8465608466,
          0.5300546448,
          0.9945652174,
          0.3227513228,
          0.9289617486,
          0.8087431694,
          0.8988095238,
          0.4095744681,
          0.2857142857,
          0.3879781421,
          0.0815217391,
          0.417989418,
          0.6612021858,
          0.2921348315,
          0.3081081081,
          0.8700564972,
          0.0319148936,
          0.4078212291,
          0.9943502825,
          0.3085714286,
          0.2834224599,
          0.8633879781,
          0.0111731844,
          0.8736263736,
          0.3076923077,
          0.2864864865,
          0.1630434783,
          0.8776595745,
          0.8360655738,
          0.9675675676,
          0.255952381,
          0.737704918,
          0.4043715847,
          0.3442622951,
          0.8983050847,
          0.972826087,
          0.9889502762,
          0.3097826087,
          0.0744680851,
          0.1857923497,
          0.4293478261,
          0.9891891892,
          0.9890710383,
          0.962962963,
          0.2880434783,
          0.9617486339,
          0.4262295082,
          0.9685863874,
          0.8342245989,
          0.174863388,
          0.3945945946,
          0.2131147541,
          0.7584269663,
          0.9836065574,
          0.1299435028,
          0.902173913,
          0.8415300546,
          0.8196721311,
          0.6480446927,
          0.4378378378,
          0.5762711864,
          0.4143646409,
          0.1534391534,
          0.3149171271,
          0.5519125683,
          0.2928176796,
          0.3089005236,
          0.3189189189,
          0.427027027,
          0.0740740741,
          0.3405405405,
          0.4076086957,
          0.0736842105,
          0.9935064935,
          0.7540983607,
          0.1117021277,
          0.9621621622,
          0.956284153,
          0.873015873,
          0.0451977401,
          0.3297297297,
          0.0380434783,
          0.8695652174,
          0.9943820225,
          0.6382978723,
          0.8934911243,
          0.8648648649,
          0.8926553672,
          0.094972067,
          0.4308510638,
          0.7374301676,
          0.8756756757,
          0.4153005464,
          0.4808743169,
          0.3298429319,
          0.4162162162,
          0.0317460317,
          0.0918918919,
          0.4239130435,
          0.8421052632,
          0.7234042553,
          0.3846153846,
          0.9572192513,
          0.861878453,
          0.8938547486,
          0.262295082,
          0.847826087,
          0.8432432432,
          0.8684210526,
          0.4301675978,
          0.7430167598,
          0.4074074074,
          0.4011299435,
          0.5251396648,
          0.218579235,
          0.9940828402,
          0.4054054054,
          0.0714285714,
          0.4136125654,
          0.3146067416,
          0.3315217391,
          0.9273743017,
          0.6145251397,
          0.3210526316,
          0.9633507853,
          0.0167597765,
          0.6272189349,
          0.0108108108,
          0.2905027933,
          0.8723404255,
          0.6815642458,
          0.8469945355,
          0.138121547,
          0.5810055866,
          0.1223404255,
          0.9672131148,
          0.9891304348,
          0.7446808511,
          0.1336898396,
          0.2978723404,
          0.3005464481,
          0.5573770492,
          0.7541899441,
          0.670212766,
          0.2122905028,
          0.4010695187,
          0.3882978723,
          0.1358695652,
          0.2841530055,
          0.1675675676,
          0.627027027,
          0.7278106509,
          0.5212765957,
          0.6436170213,
          0.0983606557,
          0.217877095,
          0.1567567568,
          0.175,
          0.9518716578,
          0.1061452514,
          0.7393617021,
          0.1351351351,
          0.9945945946,
          0.9673913043,
          0.5744680851,
          0.1576086957,
          0.7597765363,
          0.9945054945,
          0.0372340426,
          0.5027322404,
          0.9837837838,
          0.7340425532,
          0.6063829787,
          0.0212765957,
          0.0534759358,
          0.9834254144,
          0.8967391304,
          0.7287234043,
          0.2240437158,
          0.7103825137,
          0.7195767196,
          0.8481675393,
          0.3854748603,
          0.0108695652,
          0.9631578947,
          0.7351351351,
          0.6536312849,
          0.372972973,
          0.7322404372,
          0.4345549738,
          0.393442623,
          0.6576086957,
          0.7354497354,
          0.9010989011,
          0.2287234043,
          0.6349206349,
          0.0324324324,
          0.4269662921,
          0.1204188482,
          0.3296703297,
          0.8603351955,
          0.0054644809,
          0.4184782609,
          0.8047337278,
          0.2234042553,
          0.3048128342,
          0.8404255319,
          0.1538461538,
          0.4285714286,
          0.8702702703,
          0.6010928962,
          0.9027027027,
          0.2108108108,
          0.1656804734,
          0.156424581,
          0.0432432432,
          0.4240837696,
          0.8947368421,
          0.6779661017,
          0.7158469945,
          0.8609625668,
          0.8895027624,
          0.3278688525,
          0.827027027,
          0.1623036649,
          0.9578947368,
          0.3661202186,
          0.0418848168,
          0.3967391304,
          0.7872340426,
          0.6440677966,
          0.8108108108,
          0.5714285714,
          0.6594594595,
          0.1675977654,
          0.7570621469,
          0.0162162162,
          0.2797619048,
          0.9042553191,
          0.2076502732,
          0.7297297297,
          0.7445652174,
          0.5195530726,
          0.6387434555,
          0.3296089385,
          0.2810810811,
          0.7135135135,
          0.4033149171,
          0.043715847,
          0.9361702128,
          0.1808510638,
          0.5185185185,
          0.1243243243,
          0.6994535519,
          0.7608695652,
          0.0760869565,
          0.8138297872,
          0.625,
          0.5132275132,
          0.3936170213,
          0.9619565217,
          0.0543478261,
          0.374301676,
          0.0056497175,
          0.8918918919,
          0.5380434783,
          0.0552486188,
          0.0110497238,
          0.75,
          0.5159574468,
          0.5683060109,
          0.0710382514,
          0.0054347826,
          0.2356020942,
          0.2553191489,
          0.8743455497,
          0.2074468085,
          0.4098360656,
          0.6031746032,
          0.1525423729,
          0.8044692737,
          0.8691099476,
          0.335106383,
          0.0960451977,
          0.9028571429,
          0.037037037,
          0.1111111111,
          0.912568306,
          0.402173913,
          0.9627659574,
          0.1202185792,
          0.7434554974,
          0.0756756757,
          0.7248677249,
          0.2824858757,
          0.0326086957,
          0.868852459,
          0.1216931217,
          0.0864864865,
          0.5846994536,
          0.209039548,
          0.170212766,
          0.2033898305,
          0.347826087,
          0.8994708995,
          0.2950819672,
          0.5621621622,
          0.3862433862,
          0.8677248677,
          0.1304347826,
          0.9608938547,
          0.2275132275,
          0.5081081081,
          0.2336956522,
          0.6902173913,
          0.3036649215,
          0.7407407407,
          0.5372340426,
          0.0434782609,
          0.2282608696,
          0.2513661202,
          0.8907103825,
          0.722513089,
          0.1526315789,
          0.8142076503,
          0.7401129944,
          0.7189189189,
          0.027173913,
          0.9101123596,
          0.512987013,
          0.6324324324,
          0.8324324324,
          0.7783783784,
          0.4157894737,
          0.5326086957,
          0.5923913043,
          0.3926701571,
          0.0887573964,
          0.4052631579,
          0.7663043478,
          0.7344632768,
          0.0211640212,
          0.308988764,
          0.6701570681,
          0.2222222222,
          0.7514124294,
          0.0315789474,
          0.2962962963,
          0.3776595745,
          0.1955307263,
          0.7318435754,
          0.6315789474,
          0.2568306011,
          0.0106951872,
          0.7127659574,
          0.2054054054,
          0.1308900524,
          0.9553072626,
          0.5197740113,
          0.7830687831,
          0.8324022346,
          0.6666666667,
          0.0471204188,
          0.8052631579,
          0.6101694915,
          0.1902173913,
          0.1475409836,
          0.0540540541,
          0.1803278689,
          0.0837696335,
          0.5191256831,
          0.3756613757,
          0.1027027027,
          0.9293478261,
          0.2765957447,
          0.4126984127,
          0.1693121693,
          0.835978836,
          0.3672316384,
          0.8376963351,
          0.5945945946,
          0.4042553191,
          0.4680851064,
          0.8972972973,
          0.6630434783,
          0.9888268156,
          0.8115183246,
          0.802259887,
          0.7853403141,
          0.7172774869,
          0.5054347826,
          0.9581151832,
          0.9548022599,
          0.6402116402,
          0.3785310734,
          0.25,
          0.4,
          0.414893617,
          0.5027027027,
          0.8095238095,
          0.7277486911,
          0.6486486486,
          0.1105263158,
          0.1195652174,
          0.4237288136,
          0.7455621302,
          0.4456521739,
          0.7157894737,
          0.3837837838,
          0.2378378378,
          0.9312169312,
          0.7978723404,
          0.2127659574,
          0.4480874317,
          0.4134078212,
          0.7513513514,
          0.1798941799,
          0.8054054054,
          0.8097826087,
          0.8875739645,
          0.5168539326,
          0.4535519126,
          0.5759162304,
          0.95625,
          0.7058823529,
          0.9576719577,
          0.9920634921,
          0.7391304348,
          0.0847457627,
          0.3551912568,
          0.0210526316,
          0.406779661,
          0.2594594595,
          0.2780748663,
          0.7554347826,
          0.1135135135,
          0.4263157895,
          0.186440678,
          0.7180851064,
          0.3783783784,
          0.3915343915,
          0.3913043478,
          0.6830601093,
          0.1945945946,
          0.8797814208,
          0.0314136126,
          0.652173913,
          0.6439790576,
          0.7112299465,
          0.9567567568,
          0.5157894737,
          0.8988764045,
          0.2458100559,
          0.869047619,
          0.3715846995,
          0.2077922078,
          0.7396449704,
          0.312849162,
          0.5078534031,
          0.4893617021,
          0.2021276596,
          0.4022346369,
          0.6304347826,
          0.5235602094,
          0.8148148148,
          0.9297297297,
          0.7173913043,
          0.9537037037,
          0.813559322,
          0.2303664921,
          0.3135135135,
          0.5652173913,
          0.8831168831,
          0.6208791209,
          0.0274725275,
          0.9585798817,
          0.3910614525,
          0.8587570621,
          0.7262569832,
          0.227027027,
          0.2677595628,
          0.988700565,
          0.1530054645,
          0.8631578947,
          0.3027027027,
          0.4188481675,
          0.0785340314,
          0.2173913043,
          0.722826087,
          0.5882352941,
          0.6203208556,
          0.4970414201,
          0.2391304348,
          0.3903743316,
          0.7459459459,
          0.2119565217,
          0.5561497326,
          0.2827225131,
          0.3513513514,
          0.3829787234,
          0.6775956284,
          0.5243243243,
          0.6847826087,
          0.6968085106,
          0.2011173184,
          0.5193370166,
          0.8156424581,
          0.9574468085,
          0.1832460733,
          0.6408839779,
          0.6864864865,
          0.6,
          0.8174603175,
          0.3825136612,
          0.7405405405,
          0.6077348066,
          0.9005235602,
          0.3191489362,
          0.7142857143,
          0.032967033,
          0.0782122905,
          0.8032786885,
          0.8641304348,
          0.2681564246,
          0.2063492063,
          0.8191489362,
          0.7368421053,
          0.0378378378,
          0.0491803279,
          0.0056179775,
          0.7336956522,
          0.0505617978,
          0.0531914894,
          0.4361702128,
          0.1513513514,
          0.9513513514,
          0.7675675676,
          0.597826087,
          0.0368421053,
          0.7267759563,
          0.04,
          0.2372881356,
          0.3155080214,
          0.1141304348,
          0.3621621622,
          0.7039106145,
          0.8579234973,
          0.4114285714,
          0.3891891892,
          0.3979057592,
          0.1621621622,
          0.2324324324,
          0.4254143646,
          0.5297297297,
          0.0217391304,
          0.7621621622,
          0.8877005348,
          0.5108695652,
          0.9259259259,
          0.0546448087,
          0.5351351351,
          0.9243243243,
          0.5405405405,
          0.8244680851,
          0.4402173913,
          0.8864864865,
          0.7210526316,
          0.7458563536,
          0.5026737968,
          0.6810810811,
          0.0335195531,
          0.7382198953,
          0.8378378378,
          0.131147541,
          0.2446808511,
          0.0957446809,
          0.7272727273,
          0.7789473684,
          0.4836956522,
          0.9831460674,
          0.6918918919,
          0.9832402235,
          0.3050847458,
          0.1891891892,
          0.5343915344,
          0.4486486486,
          0.9285714286,
          0.0939226519,
          0.1587301587,
          0.8379888268,
          0.7891891892,
          0.0486486486,
          0.6497175141,
          0.3459119497,
          0.9523809524,
          0.8162162162,
          0.8742857143,
          0.9565217391,
          0.2346368715,
          0.9308510638,
          0.3727810651,
          0.8369565217,
          0.1049723757,
          0.1871657754,
          0.5418994413,
          0.6162162162,
          0.3403141361,
          0.3812154696,
          0.0160427807,
          0.4916201117,
          0.7315789474,
          0.3206521739,
          0.7081081081,
          0.6740331492,
          0.1807909605,
          0.5869565217,
          0.7303370787,
          0.729281768,
          0.2947368421,
          0.6538461538,
          0.1780104712,
          0.469273743,
          0.6195652174,
          0.2702702703,
          0.1847826087,
          0.5684210526,
          0.532967033,
          0.8839779006,
          0.1793478261,
          0.7582417582,
          0.972972973,
          0.2432432432,
          0.0273224044,
          0.3220338983,
          0.0503144654,
          0.1340782123,
          0.8571428571,
          0.7348066298,
          0.3821989529,
          0.9347826087,
          0.6284153005,
          0.4216216216,
          0.1038251366,
          0.5837837838,
          0.9319371728,
          0.6631578947,
          0.1348314607,
          0.8913043478,
          0.5879120879,
          0.7958115183,
          0.6648648649,
          0.5183246073,
          0.0597826087,
          0.6368421053,
          0.3043478261,
          0.6073298429,
          0.251396648,
          0.8540540541,
          0.2216216216,
          0.9685534591,
          0.3372781065,
          0.8556149733,
          0.8956043956,
          0.7567567568,
          0.2402234637,
          0.2146596859,
          0.585106383,
          0.219895288,
          0.3858695652,
          0.0165745856,
          0.3842105263,
          0.395480226,
          0.9144385027,
          0.5536723164,
          0.3423913043,
          0.4972677596,
          0.2087912088,
          0.2099447514,
          0.7005347594,
          0.893258427,
          0.0837988827,
          0.7263157895,
          0.4175824176,
          0.1837837838,
          0.7094972067,
          0.3376623377,
          0.2840909091,
          0.8167539267,
          0.0216216216,
          0.1967213115,
          0.8707865169,
          0.8508287293,
          0.2486772487,
          0.6358695652,
          0.8079096045,
          0.2554347826,
          0.4863387978,
          0.1703296703,
          0.7417582418,
          0.2010582011,
          0.748603352,
          0.7321428571,
          0.4245810056,
          0.0054054054,
          0.7637362637,
          0.8848167539,
          0.2826086957,
          0.3668639053,
          0.3723404255,
          0.606557377,
          0.4656084656,
          0.8201058201,
          0.4540540541,
          0.6759776536,
          0.2094240838,
          0.7513812155,
          0.4712041885,
          0.3675675676,
          0.1497326203,
          0.7074468085,
          0.2617801047,
          0.2485207101,
          0.2032085561,
          0.0923913043,
          0.8418079096,
          0.3977900552,
          0.0952380952,
          0.52,
          0.0584415584,
          0.8043478261,
          0.4021164021,
          0.1739130435,
          0.2065217391,
          0.843575419,
          0.4130434783,
          0.3798882682,
          0.5957446809,
          0.3689839572,
          0.7282608696,
          0.5392670157,
          0.6808510638,
          0.8152173913,
          0.9947089947,
          0.9510869565,
          0.9528795812,
          0.8306010929,
          0.9836956522,
          0.4324324324,
          0.8206521739,
          0.7472527473,
          0.387434555,
          0.4382022472,
          0.7883597884,
          0.3021978022,
          0.3457446809,
          0.4157303371,
          0.2263157895,
          0.1016042781,
          0.404494382,
          0.7826086957,
          0.2663043478,
          0.5562130178,
          0.2872928177,
          0.2608695652,
          0.4371584699,
          0.7936507937,
          0.2751322751,
          0.8423913043,
          0.6033519553,
          0.1813186813,
          0.8219895288,
          0.7243243243,
          0.1071428571,
          0.8971428571,
          0.5543478261,
          0.3169398907,
          0.1715976331,
          0.7807486631,
          0.1032608696,
          0.1884816754,
          0.1604278075,
          0.7219251337,
          0.6540540541,
          0.1581920904,
          0.3406593407,
          0.097826087,
          0.6120218579,
          0.5531914894,
          0.3898305085,
          0.4591194969,
          0.7934782609,
          0.9267015707,
          0.9210526316,
          0.7955801105,
          0.3701657459,
          0.8928571429,
          0.4469273743,
          0.8305084746,
          0.4756756757,
          0.6595744681,
          0.9239130435,
          0.9830508475,
          0.2021857923,
          0.7027027027,
          0.5053191489,
          0.1276595745,
          0.9738219895,
          0.8284023669,
          0.2052631579,
          0.3989361702,
          0.0163043478,
          0.6054054054,
          0.2105263158,
          0.5105263158,
          0.1210526316,
          0.2210526316,
          0.3315789474,
          0.9526315789,
          0.5974025974,
          0.8315789474,
          0.1789473684,
          0.9263157895,
          0.7894736842,
          0.8789473684,
          0.2736842105,
          0.3387978142,
          0.3736842105,
          0.1684210526,
          0.4105263158,
          0.5079365079,
          0.8157894737,
          0.4631578947,
          0.2,
          0.0502793296,
          0.0677966102,
          0.6526315789,
          0.4860335196,
          0.3894736842,
          0.1736842105,
          0.0601092896,
          0.9894736842,
          0.025,
          0.5136612022,
          0.1065088757,
          0.3796296296,
          0.0337078652,
          0.3901098901,
          0.4465408805,
          0.6956521739,
          0.4413407821,
          0.1086956522,
          0.8425925926,
          0.0928961749,
          0.6331360947,
          0.6514285714,
          0.604519774,
          0.6373626374,
          0.6174863388,
          0.7704918033,
          0.4814814815,
          0.2922077922,
          0.6170212766,
          0.7792207792,
          0.56875,
          0.0655737705,
          0.9398907104,
          0.575,
          0.9255319149,
          0.4590163934,
          0.7857142857,
          0.693989071,
          0.650273224,
          0.626984127,
          0.0947368421,
          0.625698324,
          0.4057142857
         ],
         "parents": [
          "",
          "",
          "",
          "",
          "",
          "",
          "",
          "",
          "",
          "",
          "",
          "",
          "",
          "",
          "",
          "",
          "",
          "",
          "",
          "",
          "",
          "",
          "",
          "",
          "",
          "",
          "",
          "",
          "",
          "",
          "",
          "",
          "",
          "",
          "",
          "",
          "",
          "",
          "",
          "",
          "",
          "",
          "",
          "",
          "",
          "",
          "",
          "",
          "",
          "",
          "",
          "",
          "",
          "",
          "",
          "",
          "",
          "",
          "",
          "",
          "",
          "",
          "",
          "",
          "",
          "",
          "",
          "",
          "",
          "",
          "",
          "",
          "",
          "",
          "",
          "",
          "",
          "",
          "",
          "",
          "",
          "",
          "",
          "",
          "",
          "",
          "",
          "",
          "",
          "",
          "",
          "",
          "",
          "",
          "",
          "",
          "",
          "",
          "",
          "",
          "",
          "",
          "",
          "",
          "",
          "",
          "",
          "",
          "",
          "",
          "",
          "",
          "",
          "",
          "",
          "",
          "",
          "",
          "",
          "",
          "",
          "",
          "",
          "",
          "",
          "",
          "",
          "",
          "",
          "",
          "",
          "",
          "",
          "",
          "",
          "",
          "",
          "",
          "",
          "",
          "",
          "",
          "",
          "",
          "",
          "",
          "",
          "",
          "",
          "",
          "",
          "",
          "",
          "",
          "",
          "",
          "",
          "",
          "",
          "",
          "",
          "",
          "",
          "",
          "",
          "",
          "",
          "",
          "",
          "",
          "",
          "",
          "",
          "",
          "",
          "",
          "",
          "",
          "",
          "",
          "",
          "",
          "",
          "",
          "",
          "",
          "",
          "",
          "",
          "",
          "",
          "",
          "",
          "",
          "",
          "",
          "",
          "",
          "",
          "",
          "",
          "",
          "",
          "",
          "",
          "",
          "",
          "",
          "",
          "",
          "",
          "",
          "",
          "",
          "",
          "",
          "",
          "",
          "",
          "",
          "",
          "",
          "",
          "",
          "",
          "",
          "",
          "",
          "",
          "",
          "",
          "",
          "",
          "",
          "",
          "",
          "",
          "",
          "",
          "",
          "",
          "",
          "",
          "",
          "",
          "",
          "",
          "",
          "",
          "",
          "",
          "",
          "",
          "",
          "",
          "",
          "",
          "",
          "",
          "",
          "",
          "",
          "",
          "",
          "",
          "",
          "",
          "",
          "",
          "",
          "",
          "",
          "",
          "",
          "",
          "",
          "",
          "",
          "",
          "",
          "",
          "",
          "",
          "",
          "",
          "",
          "",
          "",
          "",
          "",
          "",
          "",
          "",
          "",
          "",
          "",
          "",
          "",
          "",
          "",
          "",
          "",
          "",
          "",
          "",
          "",
          "",
          "",
          "",
          "",
          "",
          "",
          "",
          "",
          "",
          "",
          "",
          "",
          "",
          "",
          "",
          "",
          "",
          "",
          "",
          "",
          "",
          "",
          "",
          "",
          "",
          "",
          "",
          "",
          "",
          "",
          "",
          "",
          "",
          "",
          "",
          "",
          "",
          "",
          "",
          "",
          "",
          "",
          "",
          "",
          "",
          "",
          "",
          "",
          "",
          "",
          "",
          "",
          "",
          "",
          "",
          "",
          "",
          "",
          "",
          "",
          "",
          "",
          "",
          "",
          "",
          "",
          "",
          "",
          "",
          "",
          "",
          "",
          "",
          "",
          "",
          "",
          "",
          "",
          "",
          "",
          "",
          "",
          "",
          "",
          "",
          "",
          "",
          "",
          "",
          "",
          "",
          "",
          "",
          "",
          "",
          "",
          "",
          "",
          "",
          "",
          "",
          "",
          "",
          "",
          "",
          "",
          "",
          "",
          "",
          "",
          "",
          "",
          "",
          "",
          "",
          "",
          "",
          "",
          "",
          "",
          "",
          "",
          "",
          "",
          "",
          "",
          "",
          "",
          "",
          "",
          "",
          "",
          "",
          "",
          "",
          "",
          "",
          "",
          "",
          "",
          "",
          "",
          "",
          "",
          "",
          "",
          "",
          "",
          "",
          "",
          "",
          "",
          "",
          "",
          "",
          "",
          "",
          "",
          "",
          "",
          "",
          "",
          "",
          "",
          "",
          "",
          "",
          "",
          "",
          "",
          "",
          "",
          "",
          "",
          "",
          "",
          "",
          "",
          "",
          "",
          "",
          "",
          "",
          "",
          "",
          "",
          "",
          "",
          "",
          "",
          "",
          "",
          "",
          "",
          "",
          "",
          "",
          "",
          "",
          "",
          "",
          "",
          "",
          "",
          "",
          "",
          "",
          "",
          "",
          "",
          "",
          "",
          "",
          "",
          "",
          "",
          "",
          "",
          "",
          "",
          "",
          "",
          "",
          "",
          "",
          "",
          "",
          "",
          "",
          "",
          "",
          "",
          "",
          "",
          "",
          "",
          "",
          "",
          "",
          "",
          "",
          "",
          "",
          "",
          "",
          "",
          "",
          "",
          "",
          "",
          "",
          "",
          "",
          "",
          "",
          "",
          "",
          "",
          "",
          "",
          "",
          "",
          "",
          "",
          "",
          "",
          "",
          "",
          "",
          "",
          "",
          "",
          "",
          "",
          "",
          "",
          "",
          "",
          "",
          "",
          "",
          "",
          "",
          "",
          "",
          "",
          "",
          "",
          "",
          "",
          "",
          "",
          "",
          "",
          "",
          "",
          "",
          "",
          "",
          "",
          "",
          "",
          "",
          "",
          "",
          "",
          "",
          "",
          "",
          "",
          "",
          "",
          "",
          "",
          "",
          "",
          "",
          "",
          "",
          "",
          "",
          "",
          "",
          "",
          "",
          "",
          "",
          "",
          "",
          "",
          "",
          "",
          "",
          "",
          "",
          "",
          "",
          "",
          "",
          "",
          "",
          "",
          "",
          "",
          "",
          "",
          "",
          "",
          "",
          "",
          "",
          "",
          "",
          "",
          "",
          "",
          "",
          "",
          "",
          "",
          "",
          "",
          "",
          "",
          "",
          "",
          "",
          "",
          "",
          "",
          "",
          "",
          "",
          "",
          "",
          "",
          "",
          "",
          "",
          "",
          "",
          "",
          "",
          "",
          "",
          "",
          "",
          "",
          "",
          "",
          "",
          "",
          "",
          "",
          "",
          "",
          "",
          "",
          "",
          "",
          "",
          "",
          "",
          "",
          "",
          "",
          "",
          "",
          "",
          "",
          "",
          "",
          "",
          "",
          "",
          "",
          "",
          "",
          "",
          "",
          "",
          "",
          "",
          "",
          "",
          "",
          "",
          "",
          "",
          "",
          "",
          "",
          "",
          "",
          "",
          "",
          "",
          "",
          "",
          "",
          "",
          "",
          "",
          "",
          "",
          "",
          "",
          "",
          "",
          "",
          "",
          "",
          "",
          "",
          "",
          "",
          "",
          "",
          "",
          "",
          "",
          "",
          "",
          "",
          "",
          "",
          "",
          "",
          "",
          "",
          "",
          "",
          "",
          "",
          "",
          "",
          "",
          "",
          "",
          "",
          "",
          "",
          "",
          "",
          "",
          "",
          "",
          "",
          "",
          "",
          "",
          "",
          "",
          "",
          "",
          "",
          "",
          "",
          "",
          "",
          "",
          "",
          "",
          "",
          "",
          "",
          "",
          "",
          "",
          "",
          "",
          "",
          "",
          "",
          "",
          "",
          "",
          "",
          "",
          "",
          "",
          "",
          "",
          "",
          "",
          "",
          "",
          "",
          "",
          "",
          "",
          "",
          "",
          "",
          "",
          "",
          "",
          "",
          "",
          "",
          "",
          "",
          "",
          "",
          "",
          "",
          "",
          "",
          "",
          "",
          "",
          "",
          "",
          "",
          "",
          "",
          "",
          "",
          "",
          "",
          "",
          "",
          "",
          "",
          "",
          "",
          "",
          "",
          "",
          "",
          "",
          "",
          "",
          "",
          "",
          "",
          "",
          "",
          "",
          "",
          "",
          "",
          "",
          "",
          "",
          "",
          "",
          "",
          "",
          "",
          "",
          "",
          "",
          "",
          "",
          "",
          "",
          "",
          "",
          "",
          "",
          "",
          "",
          "",
          "",
          "",
          "",
          "",
          "",
          "",
          "",
          "",
          "",
          "",
          "",
          "",
          "",
          "",
          "",
          "",
          "",
          "",
          "",
          "",
          "",
          "",
          "",
          "",
          "",
          "",
          "",
          "",
          "",
          "",
          ""
         ],
         "textinfo": "label+value",
         "type": "treemap",
         "values": [
          541032,
          504112,
          236044,
          162479,
          155275,
          140746,
          85461,
          64693,
          59388,
          54748,
          51736,
          50484,
          45768,
          43079,
          30861,
          30561,
          26029,
          24771,
          20830,
          19928,
          18641,
          18467,
          16470,
          16377,
          16011,
          14759,
          14742,
          13712,
          13617,
          12808,
          12724,
          12224,
          11971,
          11566,
          11223,
          9568,
          8915,
          8460,
          8273,
          8160,
          8108,
          7918,
          7906,
          7466,
          7401,
          7249,
          7045,
          6922,
          6399,
          6291,
          6164,
          6127,
          6104,
          6097,
          6078,
          5893,
          5866,
          5793,
          5589,
          5558,
          5191,
          5182,
          5082,
          5006,
          4791,
          4625,
          4427,
          4266,
          4116,
          4059,
          4052,
          3994,
          3924,
          3839,
          3768,
          3766,
          3766,
          3676,
          3523,
          3522,
          3511,
          3466,
          3460,
          3460,
          3457,
          3427,
          3403,
          3289,
          3241,
          3126,
          3003,
          2975,
          2931,
          2856,
          2803,
          2749,
          2729,
          2696,
          2625,
          2522,
          2518,
          2480,
          2391,
          2247,
          2064,
          2054,
          1974,
          1936,
          1911,
          1842,
          1786,
          1749,
          1670,
          1663,
          1639,
          1627,
          1591,
          1562,
          1558,
          1520,
          1518,
          1452,
          1443,
          1363,
          1349,
          1334,
          1315,
          1301,
          1286,
          1285,
          1267,
          1245,
          1216,
          1216,
          1214,
          1204,
          1200,
          1196,
          1183,
          1178,
          1177,
          1162,
          1129,
          1112,
          1100,
          1087,
          1064,
          1034,
          1019,
          1012,
          993,
          986,
          971,
          960,
          956,
          941,
          918,
          915,
          893,
          889,
          869,
          865,
          843,
          836,
          823,
          818,
          814,
          804,
          803,
          781,
          778,
          733,
          721,
          717,
          711,
          702,
          688,
          678,
          670,
          659,
          648,
          645,
          640,
          639,
          637,
          625,
          624,
          608,
          607,
          602,
          592,
          590,
          585,
          585,
          578,
          577,
          571,
          565,
          563,
          563,
          560,
          558,
          551,
          550,
          530,
          524,
          522,
          520,
          509,
          499,
          493,
          485,
          485,
          484,
          483,
          480,
          472,
          467,
          449,
          443,
          441,
          439,
          437,
          436,
          433,
          431,
          424,
          423,
          420,
          418,
          417,
          411,
          406,
          404,
          402,
          400,
          397,
          392,
          387,
          374,
          371,
          371,
          366,
          366,
          363,
          361,
          357,
          353,
          350,
          349,
          346,
          346,
          343,
          342,
          337,
          337,
          337,
          333,
          332,
          332,
          331,
          321,
          303,
          298,
          297,
          296,
          291,
          289,
          287,
          286,
          277,
          273,
          272,
          268,
          268,
          266,
          266,
          262,
          261,
          258,
          257,
          257,
          254,
          249,
          248,
          245,
          245,
          244,
          244,
          242,
          241,
          241,
          240,
          239,
          238,
          238,
          237,
          233,
          231,
          229,
          226,
          225,
          225,
          224,
          223,
          222,
          222,
          221,
          220,
          217,
          216,
          213,
          212,
          210,
          204,
          200,
          199,
          198,
          194,
          192,
          192,
          190,
          187,
          187,
          184,
          184,
          184,
          183,
          182,
          180,
          180,
          179,
          175,
          171,
          167,
          167,
          166,
          165,
          162,
          160,
          160,
          158,
          157,
          156,
          155,
          154,
          154,
          151,
          150,
          150,
          148,
          148,
          148,
          148,
          148,
          147,
          146,
          146,
          143,
          143,
          142,
          141,
          139,
          138,
          137,
          137,
          137,
          137,
          136,
          136,
          136,
          135,
          133,
          132,
          131,
          131,
          131,
          130,
          130,
          129,
          128,
          127,
          126,
          126,
          125,
          123,
          122,
          122,
          121,
          121,
          118,
          117,
          115,
          115,
          114,
          113,
          113,
          113,
          113,
          113,
          112,
          112,
          112,
          112,
          111,
          110,
          108,
          108,
          107,
          107,
          106,
          105,
          104,
          103,
          103,
          102,
          102,
          101,
          98,
          96,
          95,
          94,
          94,
          93,
          91,
          91,
          91,
          90,
          90,
          89,
          89,
          89,
          89,
          88,
          88,
          88,
          87,
          86,
          84,
          82,
          81,
          81,
          81,
          80,
          79,
          78,
          78,
          78,
          78,
          77,
          76,
          76,
          75,
          75,
          74,
          73,
          73,
          73,
          73,
          72,
          71,
          71,
          70,
          70,
          69,
          69,
          69,
          69,
          69,
          68,
          68,
          67,
          67,
          67,
          67,
          67,
          66,
          66,
          65,
          64,
          64,
          63,
          63,
          63,
          63,
          63,
          62,
          62,
          62,
          62,
          61,
          61,
          61,
          61,
          60,
          60,
          60,
          60,
          59,
          59,
          59,
          59,
          59,
          58,
          58,
          57,
          57,
          56,
          55,
          55,
          54,
          54,
          54,
          53,
          53,
          53,
          52,
          52,
          52,
          52,
          52,
          52,
          52,
          52,
          52,
          51,
          50,
          50,
          50,
          50,
          50,
          50,
          49,
          49,
          49,
          49,
          48,
          47,
          47,
          47,
          47,
          47,
          47,
          46,
          46,
          46,
          46,
          46,
          46,
          45,
          45,
          45,
          44,
          44,
          43,
          43,
          43,
          42,
          42,
          42,
          42,
          41,
          41,
          41,
          41,
          41,
          41,
          41,
          40,
          40,
          40,
          40,
          39,
          39,
          39,
          39,
          38,
          38,
          38,
          38,
          38,
          37,
          37,
          37,
          37,
          37,
          36,
          36,
          35,
          35,
          35,
          35,
          35,
          34,
          34,
          34,
          34,
          34,
          34,
          34,
          34,
          34,
          34,
          34,
          33,
          32,
          32,
          32,
          32,
          31,
          31,
          31,
          31,
          31,
          31,
          30,
          30,
          30,
          30,
          30,
          30,
          30,
          30,
          30,
          29,
          29,
          29,
          29,
          29,
          29,
          29,
          29,
          29,
          29,
          29,
          29,
          28,
          28,
          28,
          28,
          28,
          28,
          28,
          28,
          27,
          27,
          27,
          27,
          27,
          27,
          27,
          27,
          27,
          26,
          26,
          26,
          26,
          26,
          26,
          26,
          26,
          26,
          25,
          25,
          25,
          25,
          25,
          25,
          25,
          25,
          25,
          25,
          25,
          24,
          24,
          24,
          24,
          24,
          24,
          24,
          24,
          24,
          24,
          24,
          23,
          23,
          23,
          23,
          23,
          23,
          23,
          23,
          22,
          22,
          22,
          22,
          22,
          22,
          22,
          22,
          22,
          21,
          21,
          21,
          21,
          21,
          21,
          21,
          20,
          20,
          20,
          20,
          20,
          20,
          20,
          20,
          20,
          20,
          20,
          19,
          19,
          19,
          19,
          19,
          19,
          19,
          19,
          18,
          18,
          18,
          18,
          18,
          18,
          18,
          18,
          18,
          18,
          18,
          18,
          18,
          18,
          17,
          17,
          17,
          17,
          17,
          17,
          16,
          16,
          16,
          16,
          16,
          16,
          16,
          16,
          16,
          15,
          15,
          15,
          15,
          15,
          15,
          15,
          15,
          15,
          15,
          15,
          15,
          15,
          15,
          15,
          14,
          14,
          14,
          14,
          14,
          14,
          14,
          14,
          14,
          14,
          14,
          14,
          14,
          13,
          13,
          13,
          13,
          13,
          13,
          13,
          13,
          13,
          13,
          13,
          13,
          13,
          13,
          13,
          13,
          13,
          13,
          13,
          13,
          13,
          12,
          12,
          12,
          12,
          12,
          12,
          12,
          12,
          12,
          12,
          12,
          12,
          12,
          12,
          12,
          12,
          12,
          12,
          12,
          12,
          12,
          12,
          12,
          12,
          11,
          11,
          11,
          11,
          11,
          11,
          11,
          11,
          11,
          11,
          11,
          11,
          11,
          11,
          11,
          11,
          11,
          11,
          11,
          11,
          11,
          11,
          11,
          11,
          10,
          10,
          10,
          10,
          10,
          10,
          10,
          10,
          10,
          10,
          10,
          10,
          10,
          10,
          10,
          10,
          10,
          10,
          10,
          10,
          10,
          10,
          10,
          10,
          9,
          8,
          8,
          7,
          7,
          7,
          6,
          6,
          6,
          5,
          5,
          5,
          4,
          4,
          4,
          4,
          4,
          3,
          2,
          2,
          2,
          2,
          2,
          2,
          2,
          2,
          2,
          2,
          2,
          1,
          1,
          1,
          1,
          1,
          1,
          1,
          1,
          1,
          1,
          1,
          1,
          1,
          1,
          1,
          1,
          1,
          1,
          1,
          1,
          1,
          1,
          1,
          1,
          1,
          1,
          1,
          1,
          1,
          1,
          1,
          1,
          1,
          1,
          1
         ]
        }
       ],
       "layout": {
        "font": {
         "color": "white"
        },
        "paper_bgcolor": "black",
        "plot_bgcolor": "grey",
        "template": {
         "data": {
          "bar": [
           {
            "error_x": {
             "color": "#2a3f5f"
            },
            "error_y": {
             "color": "#2a3f5f"
            },
            "marker": {
             "line": {
              "color": "#E5ECF6",
              "width": 0.5
             },
             "pattern": {
              "fillmode": "overlay",
              "size": 10,
              "solidity": 0.2
             }
            },
            "type": "bar"
           }
          ],
          "barpolar": [
           {
            "marker": {
             "line": {
              "color": "#E5ECF6",
              "width": 0.5
             },
             "pattern": {
              "fillmode": "overlay",
              "size": 10,
              "solidity": 0.2
             }
            },
            "type": "barpolar"
           }
          ],
          "carpet": [
           {
            "aaxis": {
             "endlinecolor": "#2a3f5f",
             "gridcolor": "white",
             "linecolor": "white",
             "minorgridcolor": "white",
             "startlinecolor": "#2a3f5f"
            },
            "baxis": {
             "endlinecolor": "#2a3f5f",
             "gridcolor": "white",
             "linecolor": "white",
             "minorgridcolor": "white",
             "startlinecolor": "#2a3f5f"
            },
            "type": "carpet"
           }
          ],
          "choropleth": [
           {
            "colorbar": {
             "outlinewidth": 0,
             "ticks": ""
            },
            "type": "choropleth"
           }
          ],
          "contour": [
           {
            "colorbar": {
             "outlinewidth": 0,
             "ticks": ""
            },
            "colorscale": [
             [
              0,
              "#0d0887"
             ],
             [
              0.1111111111111111,
              "#46039f"
             ],
             [
              0.2222222222222222,
              "#7201a8"
             ],
             [
              0.3333333333333333,
              "#9c179e"
             ],
             [
              0.4444444444444444,
              "#bd3786"
             ],
             [
              0.5555555555555556,
              "#d8576b"
             ],
             [
              0.6666666666666666,
              "#ed7953"
             ],
             [
              0.7777777777777778,
              "#fb9f3a"
             ],
             [
              0.8888888888888888,
              "#fdca26"
             ],
             [
              1,
              "#f0f921"
             ]
            ],
            "type": "contour"
           }
          ],
          "contourcarpet": [
           {
            "colorbar": {
             "outlinewidth": 0,
             "ticks": ""
            },
            "type": "contourcarpet"
           }
          ],
          "heatmap": [
           {
            "colorbar": {
             "outlinewidth": 0,
             "ticks": ""
            },
            "colorscale": [
             [
              0,
              "#0d0887"
             ],
             [
              0.1111111111111111,
              "#46039f"
             ],
             [
              0.2222222222222222,
              "#7201a8"
             ],
             [
              0.3333333333333333,
              "#9c179e"
             ],
             [
              0.4444444444444444,
              "#bd3786"
             ],
             [
              0.5555555555555556,
              "#d8576b"
             ],
             [
              0.6666666666666666,
              "#ed7953"
             ],
             [
              0.7777777777777778,
              "#fb9f3a"
             ],
             [
              0.8888888888888888,
              "#fdca26"
             ],
             [
              1,
              "#f0f921"
             ]
            ],
            "type": "heatmap"
           }
          ],
          "heatmapgl": [
           {
            "colorbar": {
             "outlinewidth": 0,
             "ticks": ""
            },
            "colorscale": [
             [
              0,
              "#0d0887"
             ],
             [
              0.1111111111111111,
              "#46039f"
             ],
             [
              0.2222222222222222,
              "#7201a8"
             ],
             [
              0.3333333333333333,
              "#9c179e"
             ],
             [
              0.4444444444444444,
              "#bd3786"
             ],
             [
              0.5555555555555556,
              "#d8576b"
             ],
             [
              0.6666666666666666,
              "#ed7953"
             ],
             [
              0.7777777777777778,
              "#fb9f3a"
             ],
             [
              0.8888888888888888,
              "#fdca26"
             ],
             [
              1,
              "#f0f921"
             ]
            ],
            "type": "heatmapgl"
           }
          ],
          "histogram": [
           {
            "marker": {
             "pattern": {
              "fillmode": "overlay",
              "size": 10,
              "solidity": 0.2
             }
            },
            "type": "histogram"
           }
          ],
          "histogram2d": [
           {
            "colorbar": {
             "outlinewidth": 0,
             "ticks": ""
            },
            "colorscale": [
             [
              0,
              "#0d0887"
             ],
             [
              0.1111111111111111,
              "#46039f"
             ],
             [
              0.2222222222222222,
              "#7201a8"
             ],
             [
              0.3333333333333333,
              "#9c179e"
             ],
             [
              0.4444444444444444,
              "#bd3786"
             ],
             [
              0.5555555555555556,
              "#d8576b"
             ],
             [
              0.6666666666666666,
              "#ed7953"
             ],
             [
              0.7777777777777778,
              "#fb9f3a"
             ],
             [
              0.8888888888888888,
              "#fdca26"
             ],
             [
              1,
              "#f0f921"
             ]
            ],
            "type": "histogram2d"
           }
          ],
          "histogram2dcontour": [
           {
            "colorbar": {
             "outlinewidth": 0,
             "ticks": ""
            },
            "colorscale": [
             [
              0,
              "#0d0887"
             ],
             [
              0.1111111111111111,
              "#46039f"
             ],
             [
              0.2222222222222222,
              "#7201a8"
             ],
             [
              0.3333333333333333,
              "#9c179e"
             ],
             [
              0.4444444444444444,
              "#bd3786"
             ],
             [
              0.5555555555555556,
              "#d8576b"
             ],
             [
              0.6666666666666666,
              "#ed7953"
             ],
             [
              0.7777777777777778,
              "#fb9f3a"
             ],
             [
              0.8888888888888888,
              "#fdca26"
             ],
             [
              1,
              "#f0f921"
             ]
            ],
            "type": "histogram2dcontour"
           }
          ],
          "mesh3d": [
           {
            "colorbar": {
             "outlinewidth": 0,
             "ticks": ""
            },
            "type": "mesh3d"
           }
          ],
          "parcoords": [
           {
            "line": {
             "colorbar": {
              "outlinewidth": 0,
              "ticks": ""
             }
            },
            "type": "parcoords"
           }
          ],
          "pie": [
           {
            "automargin": true,
            "type": "pie"
           }
          ],
          "scatter": [
           {
            "fillpattern": {
             "fillmode": "overlay",
             "size": 10,
             "solidity": 0.2
            },
            "type": "scatter"
           }
          ],
          "scatter3d": [
           {
            "line": {
             "colorbar": {
              "outlinewidth": 0,
              "ticks": ""
             }
            },
            "marker": {
             "colorbar": {
              "outlinewidth": 0,
              "ticks": ""
             }
            },
            "type": "scatter3d"
           }
          ],
          "scattercarpet": [
           {
            "marker": {
             "colorbar": {
              "outlinewidth": 0,
              "ticks": ""
             }
            },
            "type": "scattercarpet"
           }
          ],
          "scattergeo": [
           {
            "marker": {
             "colorbar": {
              "outlinewidth": 0,
              "ticks": ""
             }
            },
            "type": "scattergeo"
           }
          ],
          "scattergl": [
           {
            "marker": {
             "colorbar": {
              "outlinewidth": 0,
              "ticks": ""
             }
            },
            "type": "scattergl"
           }
          ],
          "scattermapbox": [
           {
            "marker": {
             "colorbar": {
              "outlinewidth": 0,
              "ticks": ""
             }
            },
            "type": "scattermapbox"
           }
          ],
          "scatterpolar": [
           {
            "marker": {
             "colorbar": {
              "outlinewidth": 0,
              "ticks": ""
             }
            },
            "type": "scatterpolar"
           }
          ],
          "scatterpolargl": [
           {
            "marker": {
             "colorbar": {
              "outlinewidth": 0,
              "ticks": ""
             }
            },
            "type": "scatterpolargl"
           }
          ],
          "scatterternary": [
           {
            "marker": {
             "colorbar": {
              "outlinewidth": 0,
              "ticks": ""
             }
            },
            "type": "scatterternary"
           }
          ],
          "surface": [
           {
            "colorbar": {
             "outlinewidth": 0,
             "ticks": ""
            },
            "colorscale": [
             [
              0,
              "#0d0887"
             ],
             [
              0.1111111111111111,
              "#46039f"
             ],
             [
              0.2222222222222222,
              "#7201a8"
             ],
             [
              0.3333333333333333,
              "#9c179e"
             ],
             [
              0.4444444444444444,
              "#bd3786"
             ],
             [
              0.5555555555555556,
              "#d8576b"
             ],
             [
              0.6666666666666666,
              "#ed7953"
             ],
             [
              0.7777777777777778,
              "#fb9f3a"
             ],
             [
              0.8888888888888888,
              "#fdca26"
             ],
             [
              1,
              "#f0f921"
             ]
            ],
            "type": "surface"
           }
          ],
          "table": [
           {
            "cells": {
             "fill": {
              "color": "#EBF0F8"
             },
             "line": {
              "color": "white"
             }
            },
            "header": {
             "fill": {
              "color": "#C8D4E3"
             },
             "line": {
              "color": "white"
             }
            },
            "type": "table"
           }
          ]
         },
         "layout": {
          "annotationdefaults": {
           "arrowcolor": "#2a3f5f",
           "arrowhead": 0,
           "arrowwidth": 1
          },
          "autotypenumbers": "strict",
          "coloraxis": {
           "colorbar": {
            "outlinewidth": 0,
            "ticks": ""
           }
          },
          "colorscale": {
           "diverging": [
            [
             0,
             "#8e0152"
            ],
            [
             0.1,
             "#c51b7d"
            ],
            [
             0.2,
             "#de77ae"
            ],
            [
             0.3,
             "#f1b6da"
            ],
            [
             0.4,
             "#fde0ef"
            ],
            [
             0.5,
             "#f7f7f7"
            ],
            [
             0.6,
             "#e6f5d0"
            ],
            [
             0.7,
             "#b8e186"
            ],
            [
             0.8,
             "#7fbc41"
            ],
            [
             0.9,
             "#4d9221"
            ],
            [
             1,
             "#276419"
            ]
           ],
           "sequential": [
            [
             0,
             "#0d0887"
            ],
            [
             0.1111111111111111,
             "#46039f"
            ],
            [
             0.2222222222222222,
             "#7201a8"
            ],
            [
             0.3333333333333333,
             "#9c179e"
            ],
            [
             0.4444444444444444,
             "#bd3786"
            ],
            [
             0.5555555555555556,
             "#d8576b"
            ],
            [
             0.6666666666666666,
             "#ed7953"
            ],
            [
             0.7777777777777778,
             "#fb9f3a"
            ],
            [
             0.8888888888888888,
             "#fdca26"
            ],
            [
             1,
             "#f0f921"
            ]
           ],
           "sequentialminus": [
            [
             0,
             "#0d0887"
            ],
            [
             0.1111111111111111,
             "#46039f"
            ],
            [
             0.2222222222222222,
             "#7201a8"
            ],
            [
             0.3333333333333333,
             "#9c179e"
            ],
            [
             0.4444444444444444,
             "#bd3786"
            ],
            [
             0.5555555555555556,
             "#d8576b"
            ],
            [
             0.6666666666666666,
             "#ed7953"
            ],
            [
             0.7777777777777778,
             "#fb9f3a"
            ],
            [
             0.8888888888888888,
             "#fdca26"
            ],
            [
             1,
             "#f0f921"
            ]
           ]
          },
          "colorway": [
           "#636efa",
           "#EF553B",
           "#00cc96",
           "#ab63fa",
           "#FFA15A",
           "#19d3f3",
           "#FF6692",
           "#B6E880",
           "#FF97FF",
           "#FECB52"
          ],
          "font": {
           "color": "#2a3f5f"
          },
          "geo": {
           "bgcolor": "white",
           "lakecolor": "white",
           "landcolor": "#E5ECF6",
           "showlakes": true,
           "showland": true,
           "subunitcolor": "white"
          },
          "hoverlabel": {
           "align": "left"
          },
          "hovermode": "closest",
          "mapbox": {
           "style": "light"
          },
          "paper_bgcolor": "white",
          "plot_bgcolor": "#E5ECF6",
          "polar": {
           "angularaxis": {
            "gridcolor": "white",
            "linecolor": "white",
            "ticks": ""
           },
           "bgcolor": "#E5ECF6",
           "radialaxis": {
            "gridcolor": "white",
            "linecolor": "white",
            "ticks": ""
           }
          },
          "scene": {
           "xaxis": {
            "backgroundcolor": "#E5ECF6",
            "gridcolor": "white",
            "gridwidth": 2,
            "linecolor": "white",
            "showbackground": true,
            "ticks": "",
            "zerolinecolor": "white"
           },
           "yaxis": {
            "backgroundcolor": "#E5ECF6",
            "gridcolor": "white",
            "gridwidth": 2,
            "linecolor": "white",
            "showbackground": true,
            "ticks": "",
            "zerolinecolor": "white"
           },
           "zaxis": {
            "backgroundcolor": "#E5ECF6",
            "gridcolor": "white",
            "gridwidth": 2,
            "linecolor": "white",
            "showbackground": true,
            "ticks": "",
            "zerolinecolor": "white"
           }
          },
          "shapedefaults": {
           "line": {
            "color": "#2a3f5f"
           }
          },
          "ternary": {
           "aaxis": {
            "gridcolor": "white",
            "linecolor": "white",
            "ticks": ""
           },
           "baxis": {
            "gridcolor": "white",
            "linecolor": "white",
            "ticks": ""
           },
           "bgcolor": "#E5ECF6",
           "caxis": {
            "gridcolor": "white",
            "linecolor": "white",
            "ticks": ""
           }
          },
          "title": {
           "x": 0.05
          },
          "xaxis": {
           "automargin": true,
           "gridcolor": "white",
           "linecolor": "white",
           "ticks": "",
           "title": {
            "standoff": 15
           },
           "zerolinecolor": "white",
           "zerolinewidth": 2
          },
          "yaxis": {
           "automargin": true,
           "gridcolor": "white",
           "linecolor": "white",
           "ticks": "",
           "title": {
            "standoff": 15
           },
           "zerolinecolor": "white",
           "zerolinewidth": 2
          }
         }
        },
        "title": {
         "text": "treemap column: countries"
        }
       }
      }
     },
     "metadata": {},
     "output_type": "display_data"
    },
    {
     "data": {
      "application/vnd.plotly.v1+json": {
       "config": {
        "plotlyServerURL": "https://plot.ly"
       },
       "data": [
        {
         "labels": [
          0,
          0.1111111111,
          0.2222222222,
          0.3333333333,
          0.4444444444,
          0.5555555556,
          0.6666666667,
          0.7777777778,
          1,
          0.8888888889
         ],
         "parents": [
          "",
          "",
          "",
          "",
          "",
          "",
          "",
          "",
          "",
          ""
         ],
         "textinfo": "label+value",
         "type": "treemap",
         "values": [
          2409886,
          377711,
          267932,
          143121,
          67536,
          36409,
          28967,
          15366,
          15120,
          9511
         ]
        }
       ],
       "layout": {
        "font": {
         "color": "white"
        },
        "paper_bgcolor": "black",
        "plot_bgcolor": "grey",
        "template": {
         "data": {
          "bar": [
           {
            "error_x": {
             "color": "#2a3f5f"
            },
            "error_y": {
             "color": "#2a3f5f"
            },
            "marker": {
             "line": {
              "color": "#E5ECF6",
              "width": 0.5
             },
             "pattern": {
              "fillmode": "overlay",
              "size": 10,
              "solidity": 0.2
             }
            },
            "type": "bar"
           }
          ],
          "barpolar": [
           {
            "marker": {
             "line": {
              "color": "#E5ECF6",
              "width": 0.5
             },
             "pattern": {
              "fillmode": "overlay",
              "size": 10,
              "solidity": 0.2
             }
            },
            "type": "barpolar"
           }
          ],
          "carpet": [
           {
            "aaxis": {
             "endlinecolor": "#2a3f5f",
             "gridcolor": "white",
             "linecolor": "white",
             "minorgridcolor": "white",
             "startlinecolor": "#2a3f5f"
            },
            "baxis": {
             "endlinecolor": "#2a3f5f",
             "gridcolor": "white",
             "linecolor": "white",
             "minorgridcolor": "white",
             "startlinecolor": "#2a3f5f"
            },
            "type": "carpet"
           }
          ],
          "choropleth": [
           {
            "colorbar": {
             "outlinewidth": 0,
             "ticks": ""
            },
            "type": "choropleth"
           }
          ],
          "contour": [
           {
            "colorbar": {
             "outlinewidth": 0,
             "ticks": ""
            },
            "colorscale": [
             [
              0,
              "#0d0887"
             ],
             [
              0.1111111111111111,
              "#46039f"
             ],
             [
              0.2222222222222222,
              "#7201a8"
             ],
             [
              0.3333333333333333,
              "#9c179e"
             ],
             [
              0.4444444444444444,
              "#bd3786"
             ],
             [
              0.5555555555555556,
              "#d8576b"
             ],
             [
              0.6666666666666666,
              "#ed7953"
             ],
             [
              0.7777777777777778,
              "#fb9f3a"
             ],
             [
              0.8888888888888888,
              "#fdca26"
             ],
             [
              1,
              "#f0f921"
             ]
            ],
            "type": "contour"
           }
          ],
          "contourcarpet": [
           {
            "colorbar": {
             "outlinewidth": 0,
             "ticks": ""
            },
            "type": "contourcarpet"
           }
          ],
          "heatmap": [
           {
            "colorbar": {
             "outlinewidth": 0,
             "ticks": ""
            },
            "colorscale": [
             [
              0,
              "#0d0887"
             ],
             [
              0.1111111111111111,
              "#46039f"
             ],
             [
              0.2222222222222222,
              "#7201a8"
             ],
             [
              0.3333333333333333,
              "#9c179e"
             ],
             [
              0.4444444444444444,
              "#bd3786"
             ],
             [
              0.5555555555555556,
              "#d8576b"
             ],
             [
              0.6666666666666666,
              "#ed7953"
             ],
             [
              0.7777777777777778,
              "#fb9f3a"
             ],
             [
              0.8888888888888888,
              "#fdca26"
             ],
             [
              1,
              "#f0f921"
             ]
            ],
            "type": "heatmap"
           }
          ],
          "heatmapgl": [
           {
            "colorbar": {
             "outlinewidth": 0,
             "ticks": ""
            },
            "colorscale": [
             [
              0,
              "#0d0887"
             ],
             [
              0.1111111111111111,
              "#46039f"
             ],
             [
              0.2222222222222222,
              "#7201a8"
             ],
             [
              0.3333333333333333,
              "#9c179e"
             ],
             [
              0.4444444444444444,
              "#bd3786"
             ],
             [
              0.5555555555555556,
              "#d8576b"
             ],
             [
              0.6666666666666666,
              "#ed7953"
             ],
             [
              0.7777777777777778,
              "#fb9f3a"
             ],
             [
              0.8888888888888888,
              "#fdca26"
             ],
             [
              1,
              "#f0f921"
             ]
            ],
            "type": "heatmapgl"
           }
          ],
          "histogram": [
           {
            "marker": {
             "pattern": {
              "fillmode": "overlay",
              "size": 10,
              "solidity": 0.2
             }
            },
            "type": "histogram"
           }
          ],
          "histogram2d": [
           {
            "colorbar": {
             "outlinewidth": 0,
             "ticks": ""
            },
            "colorscale": [
             [
              0,
              "#0d0887"
             ],
             [
              0.1111111111111111,
              "#46039f"
             ],
             [
              0.2222222222222222,
              "#7201a8"
             ],
             [
              0.3333333333333333,
              "#9c179e"
             ],
             [
              0.4444444444444444,
              "#bd3786"
             ],
             [
              0.5555555555555556,
              "#d8576b"
             ],
             [
              0.6666666666666666,
              "#ed7953"
             ],
             [
              0.7777777777777778,
              "#fb9f3a"
             ],
             [
              0.8888888888888888,
              "#fdca26"
             ],
             [
              1,
              "#f0f921"
             ]
            ],
            "type": "histogram2d"
           }
          ],
          "histogram2dcontour": [
           {
            "colorbar": {
             "outlinewidth": 0,
             "ticks": ""
            },
            "colorscale": [
             [
              0,
              "#0d0887"
             ],
             [
              0.1111111111111111,
              "#46039f"
             ],
             [
              0.2222222222222222,
              "#7201a8"
             ],
             [
              0.3333333333333333,
              "#9c179e"
             ],
             [
              0.4444444444444444,
              "#bd3786"
             ],
             [
              0.5555555555555556,
              "#d8576b"
             ],
             [
              0.6666666666666666,
              "#ed7953"
             ],
             [
              0.7777777777777778,
              "#fb9f3a"
             ],
             [
              0.8888888888888888,
              "#fdca26"
             ],
             [
              1,
              "#f0f921"
             ]
            ],
            "type": "histogram2dcontour"
           }
          ],
          "mesh3d": [
           {
            "colorbar": {
             "outlinewidth": 0,
             "ticks": ""
            },
            "type": "mesh3d"
           }
          ],
          "parcoords": [
           {
            "line": {
             "colorbar": {
              "outlinewidth": 0,
              "ticks": ""
             }
            },
            "type": "parcoords"
           }
          ],
          "pie": [
           {
            "automargin": true,
            "type": "pie"
           }
          ],
          "scatter": [
           {
            "fillpattern": {
             "fillmode": "overlay",
             "size": 10,
             "solidity": 0.2
            },
            "type": "scatter"
           }
          ],
          "scatter3d": [
           {
            "line": {
             "colorbar": {
              "outlinewidth": 0,
              "ticks": ""
             }
            },
            "marker": {
             "colorbar": {
              "outlinewidth": 0,
              "ticks": ""
             }
            },
            "type": "scatter3d"
           }
          ],
          "scattercarpet": [
           {
            "marker": {
             "colorbar": {
              "outlinewidth": 0,
              "ticks": ""
             }
            },
            "type": "scattercarpet"
           }
          ],
          "scattergeo": [
           {
            "marker": {
             "colorbar": {
              "outlinewidth": 0,
              "ticks": ""
             }
            },
            "type": "scattergeo"
           }
          ],
          "scattergl": [
           {
            "marker": {
             "colorbar": {
              "outlinewidth": 0,
              "ticks": ""
             }
            },
            "type": "scattergl"
           }
          ],
          "scattermapbox": [
           {
            "marker": {
             "colorbar": {
              "outlinewidth": 0,
              "ticks": ""
             }
            },
            "type": "scattermapbox"
           }
          ],
          "scatterpolar": [
           {
            "marker": {
             "colorbar": {
              "outlinewidth": 0,
              "ticks": ""
             }
            },
            "type": "scatterpolar"
           }
          ],
          "scatterpolargl": [
           {
            "marker": {
             "colorbar": {
              "outlinewidth": 0,
              "ticks": ""
             }
            },
            "type": "scatterpolargl"
           }
          ],
          "scatterternary": [
           {
            "marker": {
             "colorbar": {
              "outlinewidth": 0,
              "ticks": ""
             }
            },
            "type": "scatterternary"
           }
          ],
          "surface": [
           {
            "colorbar": {
             "outlinewidth": 0,
             "ticks": ""
            },
            "colorscale": [
             [
              0,
              "#0d0887"
             ],
             [
              0.1111111111111111,
              "#46039f"
             ],
             [
              0.2222222222222222,
              "#7201a8"
             ],
             [
              0.3333333333333333,
              "#9c179e"
             ],
             [
              0.4444444444444444,
              "#bd3786"
             ],
             [
              0.5555555555555556,
              "#d8576b"
             ],
             [
              0.6666666666666666,
              "#ed7953"
             ],
             [
              0.7777777777777778,
              "#fb9f3a"
             ],
             [
              0.8888888888888888,
              "#fdca26"
             ],
             [
              1,
              "#f0f921"
             ]
            ],
            "type": "surface"
           }
          ],
          "table": [
           {
            "cells": {
             "fill": {
              "color": "#EBF0F8"
             },
             "line": {
              "color": "white"
             }
            },
            "header": {
             "fill": {
              "color": "#C8D4E3"
             },
             "line": {
              "color": "white"
             }
            },
            "type": "table"
           }
          ]
         },
         "layout": {
          "annotationdefaults": {
           "arrowcolor": "#2a3f5f",
           "arrowhead": 0,
           "arrowwidth": 1
          },
          "autotypenumbers": "strict",
          "coloraxis": {
           "colorbar": {
            "outlinewidth": 0,
            "ticks": ""
           }
          },
          "colorscale": {
           "diverging": [
            [
             0,
             "#8e0152"
            ],
            [
             0.1,
             "#c51b7d"
            ],
            [
             0.2,
             "#de77ae"
            ],
            [
             0.3,
             "#f1b6da"
            ],
            [
             0.4,
             "#fde0ef"
            ],
            [
             0.5,
             "#f7f7f7"
            ],
            [
             0.6,
             "#e6f5d0"
            ],
            [
             0.7,
             "#b8e186"
            ],
            [
             0.8,
             "#7fbc41"
            ],
            [
             0.9,
             "#4d9221"
            ],
            [
             1,
             "#276419"
            ]
           ],
           "sequential": [
            [
             0,
             "#0d0887"
            ],
            [
             0.1111111111111111,
             "#46039f"
            ],
            [
             0.2222222222222222,
             "#7201a8"
            ],
            [
             0.3333333333333333,
             "#9c179e"
            ],
            [
             0.4444444444444444,
             "#bd3786"
            ],
            [
             0.5555555555555556,
             "#d8576b"
            ],
            [
             0.6666666666666666,
             "#ed7953"
            ],
            [
             0.7777777777777778,
             "#fb9f3a"
            ],
            [
             0.8888888888888888,
             "#fdca26"
            ],
            [
             1,
             "#f0f921"
            ]
           ],
           "sequentialminus": [
            [
             0,
             "#0d0887"
            ],
            [
             0.1111111111111111,
             "#46039f"
            ],
            [
             0.2222222222222222,
             "#7201a8"
            ],
            [
             0.3333333333333333,
             "#9c179e"
            ],
            [
             0.4444444444444444,
             "#bd3786"
            ],
            [
             0.5555555555555556,
             "#d8576b"
            ],
            [
             0.6666666666666666,
             "#ed7953"
            ],
            [
             0.7777777777777778,
             "#fb9f3a"
            ],
            [
             0.8888888888888888,
             "#fdca26"
            ],
            [
             1,
             "#f0f921"
            ]
           ]
          },
          "colorway": [
           "#636efa",
           "#EF553B",
           "#00cc96",
           "#ab63fa",
           "#FFA15A",
           "#19d3f3",
           "#FF6692",
           "#B6E880",
           "#FF97FF",
           "#FECB52"
          ],
          "font": {
           "color": "#2a3f5f"
          },
          "geo": {
           "bgcolor": "white",
           "lakecolor": "white",
           "landcolor": "#E5ECF6",
           "showlakes": true,
           "showland": true,
           "subunitcolor": "white"
          },
          "hoverlabel": {
           "align": "left"
          },
          "hovermode": "closest",
          "mapbox": {
           "style": "light"
          },
          "paper_bgcolor": "white",
          "plot_bgcolor": "#E5ECF6",
          "polar": {
           "angularaxis": {
            "gridcolor": "white",
            "linecolor": "white",
            "ticks": ""
           },
           "bgcolor": "#E5ECF6",
           "radialaxis": {
            "gridcolor": "white",
            "linecolor": "white",
            "ticks": ""
           }
          },
          "scene": {
           "xaxis": {
            "backgroundcolor": "#E5ECF6",
            "gridcolor": "white",
            "gridwidth": 2,
            "linecolor": "white",
            "showbackground": true,
            "ticks": "",
            "zerolinecolor": "white"
           },
           "yaxis": {
            "backgroundcolor": "#E5ECF6",
            "gridcolor": "white",
            "gridwidth": 2,
            "linecolor": "white",
            "showbackground": true,
            "ticks": "",
            "zerolinecolor": "white"
           },
           "zaxis": {
            "backgroundcolor": "#E5ECF6",
            "gridcolor": "white",
            "gridwidth": 2,
            "linecolor": "white",
            "showbackground": true,
            "ticks": "",
            "zerolinecolor": "white"
           }
          },
          "shapedefaults": {
           "line": {
            "color": "#2a3f5f"
           }
          },
          "ternary": {
           "aaxis": {
            "gridcolor": "white",
            "linecolor": "white",
            "ticks": ""
           },
           "baxis": {
            "gridcolor": "white",
            "linecolor": "white",
            "ticks": ""
           },
           "bgcolor": "#E5ECF6",
           "caxis": {
            "gridcolor": "white",
            "linecolor": "white",
            "ticks": ""
           }
          },
          "title": {
           "x": 0.05
          },
          "xaxis": {
           "automargin": true,
           "gridcolor": "white",
           "linecolor": "white",
           "ticks": "",
           "title": {
            "standoff": 15
           },
           "zerolinecolor": "white",
           "zerolinewidth": 2
          },
          "yaxis": {
           "automargin": true,
           "gridcolor": "white",
           "linecolor": "white",
           "ticks": "",
           "title": {
            "standoff": 15
           },
           "zerolinecolor": "white",
           "zerolinewidth": 2
          }
         }
        },
        "title": {
         "text": "treemap column: labels_note"
        }
       }
      }
     },
     "metadata": {},
     "output_type": "display_data"
    }
   ],
   "source": [
    "colonnes_a_travailler = ['ecoscore_tags', 'ecoscore_score', 'countries', 'labels_note']  \n",
    "df = load_jsonl_to_dataframe(file_path)\n",
    "for column in colonnes_a_travailler:\n",
    "    create_treemap_for_column(df, column)"
   ]
  },
  {
   "cell_type": "code",
   "execution_count": 348,
   "metadata": {},
   "outputs": [],
   "source": [
    "def count_unique_values(jsonl_file_path, colonnes_a_travailler):\n",
    "    data = []\n",
    "    with open(jsonl_file_path, 'r') as file:\n",
    "        for line in file:\n",
    "            data.append(json.loads(line))\n",
    "    df = pd.DataFrame(data)\n",
    "    unique_counts = {}\n",
    "    for column in colonnes_a_travailler:\n",
    "        if column in df.columns:\n",
    "            unique_count = df[column].nunique()\n",
    "            if pd.api.types.is_numeric_dtype(df[column]):\n",
    "                min_val = df[column].min()\n",
    "                max_val = df[column].max()\n",
    "                unique_counts[column] = {\n",
    "                    'unique_count': unique_count,\n",
    "                    'min': min_val,\n",
    "                    'max': max_val\n",
    "                }\n",
    "            else:\n",
    "                unique_counts[column] = {\n",
    "                    'unique_count': unique_count\n",
    "                }\n",
    "        else:\n",
    "            unique_counts[column] = 'Column not found in data'\n",
    "    return unique_counts"
   ]
  },
  {
   "cell_type": "code",
   "execution_count": 349,
   "metadata": {},
   "outputs": [
    {
     "name": "stdout",
     "output_type": "stream",
     "text": [
      "{'ecoscore_tags': {'unique_count': 7, 'min': 0.0, 'max': 1.0}, 'ecoscore_score': {'unique_count': 102, 'min': 0.0, 'max': 100.0}, 'countries': {'unique_count': 941, 'min': 0.0, 'max': 1.0}, 'labels_note': {'unique_count': 10, 'min': 0.0, 'max': 1.0}}\n"
     ]
    }
   ],
   "source": [
    "unique_values = count_unique_values(file_path, colonnes_a_travailler)\n",
    "print(unique_values)"
   ]
  },
  {
   "cell_type": "code",
   "execution_count": null,
   "metadata": {},
   "outputs": [],
   "source": []
  }
 ],
 "metadata": {
  "kernelspec": {
   "display_name": "greenIa",
   "language": "python",
   "name": "python3"
  },
  "language_info": {
   "codemirror_mode": {
    "name": "ipython",
    "version": 3
   },
   "file_extension": ".py",
   "mimetype": "text/x-python",
   "name": "python",
   "nbconvert_exporter": "python",
   "pygments_lexer": "ipython3",
   "version": "3.10.14"
  }
 },
 "nbformat": 4,
 "nbformat_minor": 2
}
