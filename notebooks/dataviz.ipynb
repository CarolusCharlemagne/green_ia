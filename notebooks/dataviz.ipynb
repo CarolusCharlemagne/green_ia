{
 "cells": [
  {
   "cell_type": "code",
   "execution_count": 4,
   "metadata": {},
   "outputs": [],
   "source": [
    "import json\n",
    "import random\n",
    "import pandas as pd\n",
    "import jsonlines\n",
    "import warnings\n",
    "import plotly.graph_objects as go\n",
    "\n",
    "pd.set_option('display.max_rows', 100)\n",
    "warnings.filterwarnings(\"ignore\", category=pd.errors.DtypeWarning)"
   ]
  },
  {
   "cell_type": "code",
   "execution_count": 5,
   "metadata": {},
   "outputs": [],
   "source": [
    "file_path = '/home/carolus/Documents/school/green_ia/data/05_data/05_train_01.jsonl'\n",
    "num_samples = 500"
   ]
  },
  {
   "cell_type": "code",
   "execution_count": 6,
   "metadata": {},
   "outputs": [
    {
     "name": "stdout",
     "output_type": "stream",
     "text": [
      "nombre objets /home/carolus/Documents/school/green_ia/data/05_data/05_train_01.jsonl: 804406\n"
     ]
    }
   ],
   "source": [
    "def count_objects_in_jsonl(file_path):\n",
    "    count = 0\n",
    "    with open(file_path, 'r', encoding='utf-8') as file:\n",
    "        for line in file:\n",
    "            count += 1\n",
    "    return count\n",
    "print(f\"nombre objets {file_path}: {count_objects_in_jsonl(file_path)}\")\n"
   ]
  },
  {
   "cell_type": "code",
   "execution_count": 7,
   "metadata": {},
   "outputs": [],
   "source": [
    "def sample_jsonl_file(file_path, num_samples):\n",
    "    sample_lines = []\n",
    "\n",
    "    with open(file_path, 'r') as file:\n",
    "        line_count = 0\n",
    "        for line in file:\n",
    "            line_count += 1\n",
    "            if len(sample_lines) < num_samples:\n",
    "                sample_lines.append(line)\n",
    "            else:\n",
    "                idx = random.randint(0, line_count - 1)\n",
    "                if idx < num_samples:\n",
    "                    sample_lines[idx] = line\n",
    "\n",
    "    data_list = [json.loads(line) for line in sample_lines]\n",
    "    df = pd.DataFrame(data_list)\n",
    "    return df"
   ]
  },
  {
   "cell_type": "code",
   "execution_count": 8,
   "metadata": {},
   "outputs": [],
   "source": [
    "df = sample_jsonl_file(file_path, num_samples)"
   ]
  },
  {
   "cell_type": "code",
   "execution_count": 9,
   "metadata": {},
   "outputs": [
    {
     "name": "stdout",
     "output_type": "stream",
     "text": [
      "percetange empty in ecoscore_tags : 13.60%\n"
     ]
    }
   ],
   "source": [
    "nb_empty = (df['ecoscore_tags'] == 'empty').sum()\n",
    "nb_total = len(df)\n",
    "pourcentage_empty = (nb_empty / nb_total) * 100\n",
    "print(f\"percetange empty in ecoscore_tags : {pourcentage_empty:.2f}%\")"
   ]
  },
  {
   "cell_type": "code",
   "execution_count": 10,
   "metadata": {},
   "outputs": [
    {
     "name": "stdout",
     "output_type": "stream",
     "text": [
      "percetange empty in packaging : 77.00%\n"
     ]
    }
   ],
   "source": [
    "nb_empty = (df['packaging'] == 'empty').sum()\n",
    "nb_total = len(df)\n",
    "pourcentage_empty = (nb_empty / nb_total) * 100\n",
    "print(f\"percetange empty in packaging : {pourcentage_empty:.2f}%\")"
   ]
  },
  {
   "cell_type": "code",
   "execution_count": 11,
   "metadata": {},
   "outputs": [
    {
     "name": "stdout",
     "output_type": "stream",
     "text": [
      "percetange empty in categories : 10.80%\n"
     ]
    }
   ],
   "source": [
    "nb_empty = (df['categories'] == 'empty').sum()\n",
    "nb_total = len(df)\n",
    "pourcentage_empty = (nb_empty / nb_total) * 100\n",
    "print(f\"percetange empty in categories : {pourcentage_empty:.2f}%\")"
   ]
  },
  {
   "cell_type": "code",
   "execution_count": 12,
   "metadata": {},
   "outputs": [
    {
     "name": "stdout",
     "output_type": "stream",
     "text": [
      "percetange empty in ingredients : 57.80%\n"
     ]
    }
   ],
   "source": [
    "nb_empty = (df['ingredients'] == 'empty').sum()\n",
    "nb_total = len(df)\n",
    "pourcentage_empty = (nb_empty / nb_total) * 100\n",
    "print(f\"percetange empty in ingredients : {pourcentage_empty:.2f}%\")"
   ]
  },
  {
   "cell_type": "code",
   "execution_count": 13,
   "metadata": {},
   "outputs": [
    {
     "data": {
      "text/html": [
       "<div>\n",
       "<style scoped>\n",
       "    .dataframe tbody tr th:only-of-type {\n",
       "        vertical-align: middle;\n",
       "    }\n",
       "\n",
       "    .dataframe tbody tr th {\n",
       "        vertical-align: top;\n",
       "    }\n",
       "\n",
       "    .dataframe thead th {\n",
       "        text-align: right;\n",
       "    }\n",
       "</style>\n",
       "<table border=\"1\" class=\"dataframe\">\n",
       "  <thead>\n",
       "    <tr style=\"text-align: right;\">\n",
       "      <th></th>\n",
       "      <th>groups</th>\n",
       "      <th>packaging</th>\n",
       "      <th>name</th>\n",
       "      <th>ecoscore_tags</th>\n",
       "      <th>ecoscore_score</th>\n",
       "      <th>countries</th>\n",
       "      <th>ingredients</th>\n",
       "      <th>categories</th>\n",
       "      <th>labels_note</th>\n",
       "    </tr>\n",
       "  </thead>\n",
       "  <tbody>\n",
       "    <tr>\n",
       "      <th>450</th>\n",
       "      <td>0.555556</td>\n",
       "      <td>empty</td>\n",
       "      <td>riz basmati</td>\n",
       "      <td>e</td>\n",
       "      <td>0.0</td>\n",
       "      <td>32.0</td>\n",
       "      <td>empty</td>\n",
       "      <td>plant-based-foods-and-beverages, plant-based-f...</td>\n",
       "      <td>0.000000</td>\n",
       "    </tr>\n",
       "    <tr>\n",
       "      <th>451</th>\n",
       "      <td>0.111111</td>\n",
       "      <td>empty</td>\n",
       "      <td>salsa barbecue</td>\n",
       "      <td>b</td>\n",
       "      <td>67.0</td>\n",
       "      <td>82.0</td>\n",
       "      <td>tomato-concentrate, vegetable, fruit-vegetable...</td>\n",
       "      <td>condiments, sauces, barbecue-sauces</td>\n",
       "      <td>0.111111</td>\n",
       "    </tr>\n",
       "    <tr>\n",
       "      <th>452</th>\n",
       "      <td>0.444444</td>\n",
       "      <td>bote de plastico</td>\n",
       "      <td>vitalinea sin azucar sabor manzana verde</td>\n",
       "      <td>b</td>\n",
       "      <td>79.0</td>\n",
       "      <td>111.0</td>\n",
       "      <td>pasteurized-skimmed-milk, dairy, milk, pasteur...</td>\n",
       "      <td>dairies, fermented-foods, fermented-milk-produ...</td>\n",
       "      <td>0.000000</td>\n",
       "    </tr>\n",
       "    <tr>\n",
       "      <th>453</th>\n",
       "      <td>0.444444</td>\n",
       "      <td>empty</td>\n",
       "      <td>cœur de liégeois cappuccino cœur chocolat</td>\n",
       "      <td>c</td>\n",
       "      <td>53.0</td>\n",
       "      <td>60.0</td>\n",
       "      <td>skimmed-milk-powder, dairy, milk-powder</td>\n",
       "      <td>dairies, desserts, dairy-desserts, coffee-dess...</td>\n",
       "      <td>0.000000</td>\n",
       "    </tr>\n",
       "    <tr>\n",
       "      <th>454</th>\n",
       "      <td>0.333333</td>\n",
       "      <td>empty</td>\n",
       "      <td>nams roterno</td>\n",
       "      <td>b</td>\n",
       "      <td>77.0</td>\n",
       "      <td>59.0</td>\n",
       "      <td>empty</td>\n",
       "      <td>plant-based-foods-and-beverages, plant-based-f...</td>\n",
       "      <td>0.000000</td>\n",
       "    </tr>\n",
       "    <tr>\n",
       "      <th>455</th>\n",
       "      <td>0.666667</td>\n",
       "      <td>conserve</td>\n",
       "      <td>gésiers de canard</td>\n",
       "      <td>e</td>\n",
       "      <td>15.0</td>\n",
       "      <td>60.0</td>\n",
       "      <td>empty</td>\n",
       "      <td>meats-and-their-products, meats, fish-and-meat...</td>\n",
       "      <td>0.000000</td>\n",
       "    </tr>\n",
       "    <tr>\n",
       "      <th>456</th>\n",
       "      <td>0.777778</td>\n",
       "      <td>empty</td>\n",
       "      <td>herbal tea</td>\n",
       "      <td>c</td>\n",
       "      <td>43.0</td>\n",
       "      <td>186.0</td>\n",
       "      <td>water, sugar, added-sugar, disaccharide, meson...</td>\n",
       "      <td>plant-based-foods-and-beverages, beverages, ho...</td>\n",
       "      <td>0.000000</td>\n",
       "    </tr>\n",
       "    <tr>\n",
       "      <th>457</th>\n",
       "      <td>0.222222</td>\n",
       "      <td>plastic, cardboard, tray, opercule en plastiqu...</td>\n",
       "      <td>risotto poulet champignon</td>\n",
       "      <td>b</td>\n",
       "      <td>66.0</td>\n",
       "      <td>60.0</td>\n",
       "      <td>water, poultry, chicken, chicken-meat, cultiva...</td>\n",
       "      <td>meats-and-their-products, frozen-foods, meals,...</td>\n",
       "      <td>0.222222</td>\n",
       "    </tr>\n",
       "    <tr>\n",
       "      <th>458</th>\n",
       "      <td>0.444444</td>\n",
       "      <td>empty</td>\n",
       "      <td>plant-bases falafel burger</td>\n",
       "      <td>b</td>\n",
       "      <td>74.0</td>\n",
       "      <td>168.0</td>\n",
       "      <td>empty</td>\n",
       "      <td>meat-alternatives, meat-analogues, vegetarian-...</td>\n",
       "      <td>0.444444</td>\n",
       "    </tr>\n",
       "    <tr>\n",
       "      <th>459</th>\n",
       "      <td>0.666667</td>\n",
       "      <td>empty</td>\n",
       "      <td>aiguillettes de poulet</td>\n",
       "      <td>c</td>\n",
       "      <td>45.0</td>\n",
       "      <td>60.0</td>\n",
       "      <td>empty</td>\n",
       "      <td>meats-and-their-products, meats, chicken-and-i...</td>\n",
       "      <td>0.222222</td>\n",
       "    </tr>\n",
       "    <tr>\n",
       "      <th>460</th>\n",
       "      <td>0.444444</td>\n",
       "      <td>empty</td>\n",
       "      <td>pure vanilla extract</td>\n",
       "      <td>b</td>\n",
       "      <td>63.0</td>\n",
       "      <td>186.0</td>\n",
       "      <td>vanilla-bean-extractives-in-water, alcohol, an...</td>\n",
       "      <td>plant-based-foods-and-beverages, plant-based-f...</td>\n",
       "      <td>0.000000</td>\n",
       "    </tr>\n",
       "    <tr>\n",
       "      <th>461</th>\n",
       "      <td>0.444444</td>\n",
       "      <td>empty</td>\n",
       "      <td>ingwer gemahlen</td>\n",
       "      <td>b</td>\n",
       "      <td>75.0</td>\n",
       "      <td>64.0</td>\n",
       "      <td>empty</td>\n",
       "      <td>plant-based-foods-and-beverages, plant-based-f...</td>\n",
       "      <td>0.000000</td>\n",
       "    </tr>\n",
       "    <tr>\n",
       "      <th>462</th>\n",
       "      <td>0.333333</td>\n",
       "      <td>empty</td>\n",
       "      <td>california seedless raisins</td>\n",
       "      <td>b</td>\n",
       "      <td>62.0</td>\n",
       "      <td>186.0</td>\n",
       "      <td>raisin, fruit, berries, grape</td>\n",
       "      <td>plant-based-foods-and-beverages, plant-based-f...</td>\n",
       "      <td>0.000000</td>\n",
       "    </tr>\n",
       "    <tr>\n",
       "      <th>463</th>\n",
       "      <td>0.444444</td>\n",
       "      <td>empty</td>\n",
       "      <td>raw pecan halves</td>\n",
       "      <td>empty</td>\n",
       "      <td>49.0</td>\n",
       "      <td>186.0</td>\n",
       "      <td>pecan-nut, nut, tree-nut</td>\n",
       "      <td>snacks</td>\n",
       "      <td>0.000000</td>\n",
       "    </tr>\n",
       "    <tr>\n",
       "      <th>464</th>\n",
       "      <td>0.333333</td>\n",
       "      <td>empty</td>\n",
       "      <td>guisantes</td>\n",
       "      <td>b</td>\n",
       "      <td>72.0</td>\n",
       "      <td>60.0</td>\n",
       "      <td>empty</td>\n",
       "      <td>plant-based-foods-and-beverages, plant-based-f...</td>\n",
       "      <td>0.000000</td>\n",
       "    </tr>\n",
       "    <tr>\n",
       "      <th>465</th>\n",
       "      <td>0.666667</td>\n",
       "      <td>empty</td>\n",
       "      <td>côté de porc (x2)</td>\n",
       "      <td>e</td>\n",
       "      <td>0.0</td>\n",
       "      <td>60.0</td>\n",
       "      <td>empty</td>\n",
       "      <td>meats-and-their-products, meats, pork-and-its-...</td>\n",
       "      <td>0.000000</td>\n",
       "    </tr>\n",
       "    <tr>\n",
       "      <th>466</th>\n",
       "      <td>0.444444</td>\n",
       "      <td>empty</td>\n",
       "      <td>hand crafted provençal vegetable tart</td>\n",
       "      <td>empty</td>\n",
       "      <td>49.0</td>\n",
       "      <td>185.0</td>\n",
       "      <td>empty</td>\n",
       "      <td>empty</td>\n",
       "      <td>0.000000</td>\n",
       "    </tr>\n",
       "    <tr>\n",
       "      <th>467</th>\n",
       "      <td>0.555556</td>\n",
       "      <td>empty</td>\n",
       "      <td>nibbs gepuffter hafer und weizen mit honig</td>\n",
       "      <td>d</td>\n",
       "      <td>25.0</td>\n",
       "      <td>64.0</td>\n",
       "      <td>cereal, sugar, added-sugar, disaccharide, gluc...</td>\n",
       "      <td>plant-based-foods-and-beverages, plant-based-f...</td>\n",
       "      <td>0.000000</td>\n",
       "    </tr>\n",
       "    <tr>\n",
       "      <th>468</th>\n",
       "      <td>0.555556</td>\n",
       "      <td>empty</td>\n",
       "      <td>tortilla wraps</td>\n",
       "      <td>b</td>\n",
       "      <td>73.0</td>\n",
       "      <td>123.0</td>\n",
       "      <td>empty</td>\n",
       "      <td>plant-based-foods-and-beverages, plant-based-f...</td>\n",
       "      <td>0.000000</td>\n",
       "    </tr>\n",
       "    <tr>\n",
       "      <th>469</th>\n",
       "      <td>0.444444</td>\n",
       "      <td>plastique,support,carton,film</td>\n",
       "      <td>bouton de chèvre bio</td>\n",
       "      <td>d</td>\n",
       "      <td>23.0</td>\n",
       "      <td>60.0</td>\n",
       "      <td>milk, dairy, lactic-ferments, ferment, microbi...</td>\n",
       "      <td>dairies, fermented-foods, fermented-milk-produ...</td>\n",
       "      <td>0.333333</td>\n",
       "    </tr>\n",
       "    <tr>\n",
       "      <th>470</th>\n",
       "      <td>0.222222</td>\n",
       "      <td>empty</td>\n",
       "      <td>gretchen's grans, fully cooked brown rice</td>\n",
       "      <td>empty</td>\n",
       "      <td>49.0</td>\n",
       "      <td>186.0</td>\n",
       "      <td>brown-rice, rice</td>\n",
       "      <td>meals</td>\n",
       "      <td>0.000000</td>\n",
       "    </tr>\n",
       "    <tr>\n",
       "      <th>471</th>\n",
       "      <td>0.111111</td>\n",
       "      <td>empty</td>\n",
       "      <td>aceite de oliva virgen extra variedad picual</td>\n",
       "      <td>d</td>\n",
       "      <td>27.0</td>\n",
       "      <td>60.0</td>\n",
       "      <td>empty</td>\n",
       "      <td>plant-based-foods-and-beverages, plant-based-f...</td>\n",
       "      <td>0.000000</td>\n",
       "    </tr>\n",
       "    <tr>\n",
       "      <th>472</th>\n",
       "      <td>0.000000</td>\n",
       "      <td>empty</td>\n",
       "      <td>brioche tranchee pur beurre</td>\n",
       "      <td>b</td>\n",
       "      <td>60.0</td>\n",
       "      <td>60.0</td>\n",
       "      <td>empty</td>\n",
       "      <td>snacks, sweet-snacks, sweet-pastries-and-pies,...</td>\n",
       "      <td>0.777778</td>\n",
       "    </tr>\n",
       "    <tr>\n",
       "      <th>473</th>\n",
       "      <td>0.444444</td>\n",
       "      <td>empty</td>\n",
       "      <td>low fat lassi</td>\n",
       "      <td>b</td>\n",
       "      <td>67.0</td>\n",
       "      <td>186.0</td>\n",
       "      <td>cultured-pasteurized-low-fat-milk, mango-puree...</td>\n",
       "      <td>dairies, fermented-foods, fermented-milk-produ...</td>\n",
       "      <td>0.000000</td>\n",
       "    </tr>\n",
       "    <tr>\n",
       "      <th>474</th>\n",
       "      <td>0.444444</td>\n",
       "      <td>empty</td>\n",
       "      <td>maryland choc chip</td>\n",
       "      <td>empty</td>\n",
       "      <td>49.0</td>\n",
       "      <td>10.0</td>\n",
       "      <td>empty</td>\n",
       "      <td>empty</td>\n",
       "      <td>0.000000</td>\n",
       "    </tr>\n",
       "    <tr>\n",
       "      <th>475</th>\n",
       "      <td>0.111111</td>\n",
       "      <td>plastique,sachet</td>\n",
       "      <td>ketchup</td>\n",
       "      <td>d</td>\n",
       "      <td>39.0</td>\n",
       "      <td>60.0</td>\n",
       "      <td>sunflower-oil, oil-and-fat, vegetable-oil-and-...</td>\n",
       "      <td>condiments, sauces, mayonnaises</td>\n",
       "      <td>0.000000</td>\n",
       "    </tr>\n",
       "    <tr>\n",
       "      <th>476</th>\n",
       "      <td>0.444444</td>\n",
       "      <td>empty</td>\n",
       "      <td>poivre de cayenne</td>\n",
       "      <td>e</td>\n",
       "      <td>4.0</td>\n",
       "      <td>17.0</td>\n",
       "      <td>cayenne-pepper, condiment, spice</td>\n",
       "      <td>plant-based-foods-and-beverages, plant-based-f...</td>\n",
       "      <td>0.000000</td>\n",
       "    </tr>\n",
       "    <tr>\n",
       "      <th>477</th>\n",
       "      <td>0.777778</td>\n",
       "      <td>empty</td>\n",
       "      <td>london dry gin</td>\n",
       "      <td>d</td>\n",
       "      <td>39.0</td>\n",
       "      <td>60.0</td>\n",
       "      <td>empty</td>\n",
       "      <td>beverages-and-beverages-preparations, beverage...</td>\n",
       "      <td>0.000000</td>\n",
       "    </tr>\n",
       "    <tr>\n",
       "      <th>478</th>\n",
       "      <td>0.666667</td>\n",
       "      <td>empty</td>\n",
       "      <td>jamón serrano gran reserva</td>\n",
       "      <td>e</td>\n",
       "      <td>3.0</td>\n",
       "      <td>168.0</td>\n",
       "      <td>pork-meat, animal, meat, pork, e250, sugar, ad...</td>\n",
       "      <td>meats-and-their-products, prepared-meats, hams...</td>\n",
       "      <td>0.000000</td>\n",
       "    </tr>\n",
       "    <tr>\n",
       "      <th>479</th>\n",
       "      <td>0.555556</td>\n",
       "      <td>plastic</td>\n",
       "      <td>snabbnudlar</td>\n",
       "      <td>b</td>\n",
       "      <td>67.0</td>\n",
       "      <td>167.0</td>\n",
       "      <td>noodle, dough, mixed-spices, condiment, spice,...</td>\n",
       "      <td>plant-based-foods-and-beverages, plant-based-f...</td>\n",
       "      <td>0.222222</td>\n",
       "    </tr>\n",
       "    <tr>\n",
       "      <th>480</th>\n",
       "      <td>0.111111</td>\n",
       "      <td>empty</td>\n",
       "      <td>salsa de soja tradicional</td>\n",
       "      <td>b</td>\n",
       "      <td>77.0</td>\n",
       "      <td>163.0</td>\n",
       "      <td>empty</td>\n",
       "      <td>condiments, sauces, soy-sauces, groceries</td>\n",
       "      <td>0.222222</td>\n",
       "    </tr>\n",
       "    <tr>\n",
       "      <th>481</th>\n",
       "      <td>0.777778</td>\n",
       "      <td>tetra pak</td>\n",
       "      <td></td>\n",
       "      <td>d</td>\n",
       "      <td>32.0</td>\n",
       "      <td>60.0</td>\n",
       "      <td>orange, fruit, citrus-fruit</td>\n",
       "      <td>plant-based-foods-and-beverages, beverages, pl...</td>\n",
       "      <td>0.000000</td>\n",
       "    </tr>\n",
       "    <tr>\n",
       "      <th>482</th>\n",
       "      <td>0.444444</td>\n",
       "      <td>empty</td>\n",
       "      <td>mozzarella</td>\n",
       "      <td>empty</td>\n",
       "      <td>49.0</td>\n",
       "      <td>82.0</td>\n",
       "      <td>empty</td>\n",
       "      <td>empty</td>\n",
       "      <td>0.000000</td>\n",
       "    </tr>\n",
       "    <tr>\n",
       "      <th>483</th>\n",
       "      <td>0.444444</td>\n",
       "      <td>empty</td>\n",
       "      <td>whipped cream cheese spread</td>\n",
       "      <td>d</td>\n",
       "      <td>34.0</td>\n",
       "      <td>186.0</td>\n",
       "      <td>pasteurized-milk-and-cream, dairy, cream, whey...</td>\n",
       "      <td>dairies, fermented-foods, fermented-milk-produ...</td>\n",
       "      <td>0.000000</td>\n",
       "    </tr>\n",
       "    <tr>\n",
       "      <th>484</th>\n",
       "      <td>1.000000</td>\n",
       "      <td>empty</td>\n",
       "      <td>thaas chips oignon</td>\n",
       "      <td>b</td>\n",
       "      <td>68.0</td>\n",
       "      <td>60.0</td>\n",
       "      <td>empty</td>\n",
       "      <td>plant-based-foods-and-beverages, plant-based-f...</td>\n",
       "      <td>0.333333</td>\n",
       "    </tr>\n",
       "    <tr>\n",
       "      <th>485</th>\n",
       "      <td>0.444444</td>\n",
       "      <td>empty</td>\n",
       "      <td>cigares choco</td>\n",
       "      <td>empty</td>\n",
       "      <td>49.0</td>\n",
       "      <td>60.0</td>\n",
       "      <td>empty</td>\n",
       "      <td>empty</td>\n",
       "      <td>0.222222</td>\n",
       "    </tr>\n",
       "    <tr>\n",
       "      <th>486</th>\n",
       "      <td>0.666667</td>\n",
       "      <td>empty</td>\n",
       "      <td>le poulet nourri aux graines de lin, bleu blan...</td>\n",
       "      <td>c</td>\n",
       "      <td>55.0</td>\n",
       "      <td>60.0</td>\n",
       "      <td>empty</td>\n",
       "      <td>meats-and-their-products, meats, chicken-and-i...</td>\n",
       "      <td>0.444444</td>\n",
       "    </tr>\n",
       "    <tr>\n",
       "      <th>487</th>\n",
       "      <td>0.000000</td>\n",
       "      <td>empty</td>\n",
       "      <td></td>\n",
       "      <td>d</td>\n",
       "      <td>33.0</td>\n",
       "      <td>123.0</td>\n",
       "      <td>empty</td>\n",
       "      <td>snacks, sweet-snacks, cocoa-and-its-products, ...</td>\n",
       "      <td>0.222222</td>\n",
       "    </tr>\n",
       "    <tr>\n",
       "      <th>488</th>\n",
       "      <td>0.666667</td>\n",
       "      <td>empty</td>\n",
       "      <td>eggs</td>\n",
       "      <td>c</td>\n",
       "      <td>46.0</td>\n",
       "      <td>17.0</td>\n",
       "      <td>empty</td>\n",
       "      <td>farming-products, eggs</td>\n",
       "      <td>0.333333</td>\n",
       "    </tr>\n",
       "    <tr>\n",
       "      <th>489</th>\n",
       "      <td>0.555556</td>\n",
       "      <td>empty</td>\n",
       "      <td>farine de riz blanc</td>\n",
       "      <td>d</td>\n",
       "      <td>22.0</td>\n",
       "      <td>60.0</td>\n",
       "      <td>white-rice, rice</td>\n",
       "      <td>plant-based-foods-and-beverages, plant-based-f...</td>\n",
       "      <td>0.222222</td>\n",
       "    </tr>\n",
       "    <tr>\n",
       "      <th>490</th>\n",
       "      <td>0.444444</td>\n",
       "      <td>empty</td>\n",
       "      <td>organs blend supplement</td>\n",
       "      <td>empty</td>\n",
       "      <td>49.0</td>\n",
       "      <td>186.0</td>\n",
       "      <td>empty</td>\n",
       "      <td>empty</td>\n",
       "      <td>0.000000</td>\n",
       "    </tr>\n",
       "    <tr>\n",
       "      <th>491</th>\n",
       "      <td>0.000000</td>\n",
       "      <td>empty</td>\n",
       "      <td>honey</td>\n",
       "      <td>b</td>\n",
       "      <td>72.0</td>\n",
       "      <td>186.0</td>\n",
       "      <td>empty</td>\n",
       "      <td>breakfasts, spreads, sweet-spreads, bee-produc...</td>\n",
       "      <td>0.000000</td>\n",
       "    </tr>\n",
       "    <tr>\n",
       "      <th>492</th>\n",
       "      <td>0.333333</td>\n",
       "      <td>empty</td>\n",
       "      <td>betteraves mariner</td>\n",
       "      <td>b</td>\n",
       "      <td>79.0</td>\n",
       "      <td>32.0</td>\n",
       "      <td>red-beetroot, vegetable, root-vegetable, tapro...</td>\n",
       "      <td>plant-based-foods-and-beverages, plant-based-f...</td>\n",
       "      <td>0.000000</td>\n",
       "    </tr>\n",
       "    <tr>\n",
       "      <th>493</th>\n",
       "      <td>0.666667</td>\n",
       "      <td>empty</td>\n",
       "      <td>pancetta paesana nazionale</td>\n",
       "      <td>e</td>\n",
       "      <td>0.0</td>\n",
       "      <td>82.0</td>\n",
       "      <td>salt, dextrose, added-sugar, monosaccharide, g...</td>\n",
       "      <td>meats-and-their-products, meats, pork-and-its-...</td>\n",
       "      <td>0.111111</td>\n",
       "    </tr>\n",
       "    <tr>\n",
       "      <th>494</th>\n",
       "      <td>0.555556</td>\n",
       "      <td>empty</td>\n",
       "      <td>pommes de terre primeur de noirmoutier</td>\n",
       "      <td>b</td>\n",
       "      <td>79.0</td>\n",
       "      <td>60.0</td>\n",
       "      <td>empty</td>\n",
       "      <td>plant-based-foods-and-beverages, plant-based-f...</td>\n",
       "      <td>0.000000</td>\n",
       "    </tr>\n",
       "    <tr>\n",
       "      <th>495</th>\n",
       "      <td>0.111111</td>\n",
       "      <td>empty</td>\n",
       "      <td>sauce poivre</td>\n",
       "      <td>b</td>\n",
       "      <td>70.0</td>\n",
       "      <td>60.0</td>\n",
       "      <td>empty</td>\n",
       "      <td>condiments, sauces, pepper-sauces, groceries</td>\n",
       "      <td>0.000000</td>\n",
       "    </tr>\n",
       "    <tr>\n",
       "      <th>496</th>\n",
       "      <td>0.666667</td>\n",
       "      <td>empty</td>\n",
       "      <td>poulet cuit fumé au bois de hêtre</td>\n",
       "      <td>c</td>\n",
       "      <td>45.0</td>\n",
       "      <td>60.0</td>\n",
       "      <td>empty</td>\n",
       "      <td>meats-and-their-products, meats, chicken-and-i...</td>\n",
       "      <td>0.333333</td>\n",
       "    </tr>\n",
       "    <tr>\n",
       "      <th>497</th>\n",
       "      <td>0.333333</td>\n",
       "      <td>empty</td>\n",
       "      <td>diced tomatoes with garlic &amp; onion</td>\n",
       "      <td>b</td>\n",
       "      <td>77.0</td>\n",
       "      <td>186.0</td>\n",
       "      <td>tomato, vegetable, fruit-vegetable, tomato-jui...</td>\n",
       "      <td>plant-based-foods-and-beverages, plant-based-f...</td>\n",
       "      <td>0.000000</td>\n",
       "    </tr>\n",
       "    <tr>\n",
       "      <th>498</th>\n",
       "      <td>0.000000</td>\n",
       "      <td>plastic</td>\n",
       "      <td>mini cookies</td>\n",
       "      <td>c</td>\n",
       "      <td>54.0</td>\n",
       "      <td>60.0</td>\n",
       "      <td>rice-flour, flour, rice, brown-sugar, added-su...</td>\n",
       "      <td>snacks, sweet-snacks, biscuits-and-cakes, bisc...</td>\n",
       "      <td>0.111111</td>\n",
       "    </tr>\n",
       "    <tr>\n",
       "      <th>499</th>\n",
       "      <td>0.444444</td>\n",
       "      <td>empty</td>\n",
       "      <td></td>\n",
       "      <td>empty</td>\n",
       "      <td>49.0</td>\n",
       "      <td>186.0</td>\n",
       "      <td>magermilch, milcheiweisserzeugnis, vanille-aro...</td>\n",
       "      <td>empty</td>\n",
       "      <td>0.000000</td>\n",
       "    </tr>\n",
       "  </tbody>\n",
       "</table>\n",
       "</div>"
      ],
      "text/plain": [
       "       groups                                          packaging  \\\n",
       "450  0.555556                                              empty   \n",
       "451  0.111111                                              empty   \n",
       "452  0.444444                                   bote de plastico   \n",
       "453  0.444444                                              empty   \n",
       "454  0.333333                                              empty   \n",
       "455  0.666667                                           conserve   \n",
       "456  0.777778                                              empty   \n",
       "457  0.222222  plastic, cardboard, tray, opercule en plastiqu...   \n",
       "458  0.444444                                              empty   \n",
       "459  0.666667                                              empty   \n",
       "460  0.444444                                              empty   \n",
       "461  0.444444                                              empty   \n",
       "462  0.333333                                              empty   \n",
       "463  0.444444                                              empty   \n",
       "464  0.333333                                              empty   \n",
       "465  0.666667                                              empty   \n",
       "466  0.444444                                              empty   \n",
       "467  0.555556                                              empty   \n",
       "468  0.555556                                              empty   \n",
       "469  0.444444                      plastique,support,carton,film   \n",
       "470  0.222222                                              empty   \n",
       "471  0.111111                                              empty   \n",
       "472  0.000000                                              empty   \n",
       "473  0.444444                                              empty   \n",
       "474  0.444444                                              empty   \n",
       "475  0.111111                                   plastique,sachet   \n",
       "476  0.444444                                              empty   \n",
       "477  0.777778                                              empty   \n",
       "478  0.666667                                              empty   \n",
       "479  0.555556                                            plastic   \n",
       "480  0.111111                                              empty   \n",
       "481  0.777778                                          tetra pak   \n",
       "482  0.444444                                              empty   \n",
       "483  0.444444                                              empty   \n",
       "484  1.000000                                              empty   \n",
       "485  0.444444                                              empty   \n",
       "486  0.666667                                              empty   \n",
       "487  0.000000                                              empty   \n",
       "488  0.666667                                              empty   \n",
       "489  0.555556                                              empty   \n",
       "490  0.444444                                              empty   \n",
       "491  0.000000                                              empty   \n",
       "492  0.333333                                              empty   \n",
       "493  0.666667                                              empty   \n",
       "494  0.555556                                              empty   \n",
       "495  0.111111                                              empty   \n",
       "496  0.666667                                              empty   \n",
       "497  0.333333                                              empty   \n",
       "498  0.000000                                            plastic   \n",
       "499  0.444444                                              empty   \n",
       "\n",
       "                                                  name ecoscore_tags  \\\n",
       "450                                        riz basmati             e   \n",
       "451                                     salsa barbecue             b   \n",
       "452           vitalinea sin azucar sabor manzana verde             b   \n",
       "453          cœur de liégeois cappuccino cœur chocolat             c   \n",
       "454                                       nams roterno             b   \n",
       "455                                  gésiers de canard             e   \n",
       "456                                         herbal tea             c   \n",
       "457                          risotto poulet champignon             b   \n",
       "458                         plant-bases falafel burger             b   \n",
       "459                             aiguillettes de poulet             c   \n",
       "460                               pure vanilla extract             b   \n",
       "461                                    ingwer gemahlen             b   \n",
       "462                        california seedless raisins             b   \n",
       "463                                   raw pecan halves         empty   \n",
       "464                                          guisantes             b   \n",
       "465                                  côté de porc (x2)             e   \n",
       "466              hand crafted provençal vegetable tart         empty   \n",
       "467         nibbs gepuffter hafer und weizen mit honig             d   \n",
       "468                                     tortilla wraps             b   \n",
       "469                               bouton de chèvre bio             d   \n",
       "470          gretchen's grans, fully cooked brown rice         empty   \n",
       "471       aceite de oliva virgen extra variedad picual             d   \n",
       "472                        brioche tranchee pur beurre             b   \n",
       "473                                      low fat lassi             b   \n",
       "474                                 maryland choc chip         empty   \n",
       "475                                            ketchup             d   \n",
       "476                                  poivre de cayenne             e   \n",
       "477                                     london dry gin             d   \n",
       "478                         jamón serrano gran reserva             e   \n",
       "479                                        snabbnudlar             b   \n",
       "480                          salsa de soja tradicional             b   \n",
       "481                                                                d   \n",
       "482                                         mozzarella         empty   \n",
       "483                        whipped cream cheese spread             d   \n",
       "484                                 thaas chips oignon             b   \n",
       "485                                      cigares choco         empty   \n",
       "486  le poulet nourri aux graines de lin, bleu blan...             c   \n",
       "487                                                                d   \n",
       "488                                               eggs             c   \n",
       "489                                farine de riz blanc             d   \n",
       "490                            organs blend supplement         empty   \n",
       "491                                              honey             b   \n",
       "492                                 betteraves mariner             b   \n",
       "493                         pancetta paesana nazionale             e   \n",
       "494             pommes de terre primeur de noirmoutier             b   \n",
       "495                                       sauce poivre             b   \n",
       "496                  poulet cuit fumé au bois de hêtre             c   \n",
       "497                 diced tomatoes with garlic & onion             b   \n",
       "498                                       mini cookies             c   \n",
       "499                                                            empty   \n",
       "\n",
       "     ecoscore_score  countries  \\\n",
       "450             0.0       32.0   \n",
       "451            67.0       82.0   \n",
       "452            79.0      111.0   \n",
       "453            53.0       60.0   \n",
       "454            77.0       59.0   \n",
       "455            15.0       60.0   \n",
       "456            43.0      186.0   \n",
       "457            66.0       60.0   \n",
       "458            74.0      168.0   \n",
       "459            45.0       60.0   \n",
       "460            63.0      186.0   \n",
       "461            75.0       64.0   \n",
       "462            62.0      186.0   \n",
       "463            49.0      186.0   \n",
       "464            72.0       60.0   \n",
       "465             0.0       60.0   \n",
       "466            49.0      185.0   \n",
       "467            25.0       64.0   \n",
       "468            73.0      123.0   \n",
       "469            23.0       60.0   \n",
       "470            49.0      186.0   \n",
       "471            27.0       60.0   \n",
       "472            60.0       60.0   \n",
       "473            67.0      186.0   \n",
       "474            49.0       10.0   \n",
       "475            39.0       60.0   \n",
       "476             4.0       17.0   \n",
       "477            39.0       60.0   \n",
       "478             3.0      168.0   \n",
       "479            67.0      167.0   \n",
       "480            77.0      163.0   \n",
       "481            32.0       60.0   \n",
       "482            49.0       82.0   \n",
       "483            34.0      186.0   \n",
       "484            68.0       60.0   \n",
       "485            49.0       60.0   \n",
       "486            55.0       60.0   \n",
       "487            33.0      123.0   \n",
       "488            46.0       17.0   \n",
       "489            22.0       60.0   \n",
       "490            49.0      186.0   \n",
       "491            72.0      186.0   \n",
       "492            79.0       32.0   \n",
       "493             0.0       82.0   \n",
       "494            79.0       60.0   \n",
       "495            70.0       60.0   \n",
       "496            45.0       60.0   \n",
       "497            77.0      186.0   \n",
       "498            54.0       60.0   \n",
       "499            49.0      186.0   \n",
       "\n",
       "                                           ingredients  \\\n",
       "450                                              empty   \n",
       "451  tomato-concentrate, vegetable, fruit-vegetable...   \n",
       "452  pasteurized-skimmed-milk, dairy, milk, pasteur...   \n",
       "453            skimmed-milk-powder, dairy, milk-powder   \n",
       "454                                              empty   \n",
       "455                                              empty   \n",
       "456  water, sugar, added-sugar, disaccharide, meson...   \n",
       "457  water, poultry, chicken, chicken-meat, cultiva...   \n",
       "458                                              empty   \n",
       "459                                              empty   \n",
       "460  vanilla-bean-extractives-in-water, alcohol, an...   \n",
       "461                                              empty   \n",
       "462                      raisin, fruit, berries, grape   \n",
       "463                           pecan-nut, nut, tree-nut   \n",
       "464                                              empty   \n",
       "465                                              empty   \n",
       "466                                              empty   \n",
       "467  cereal, sugar, added-sugar, disaccharide, gluc...   \n",
       "468                                              empty   \n",
       "469  milk, dairy, lactic-ferments, ferment, microbi...   \n",
       "470                                   brown-rice, rice   \n",
       "471                                              empty   \n",
       "472                                              empty   \n",
       "473  cultured-pasteurized-low-fat-milk, mango-puree...   \n",
       "474                                              empty   \n",
       "475  sunflower-oil, oil-and-fat, vegetable-oil-and-...   \n",
       "476                   cayenne-pepper, condiment, spice   \n",
       "477                                              empty   \n",
       "478  pork-meat, animal, meat, pork, e250, sugar, ad...   \n",
       "479  noodle, dough, mixed-spices, condiment, spice,...   \n",
       "480                                              empty   \n",
       "481                        orange, fruit, citrus-fruit   \n",
       "482                                              empty   \n",
       "483  pasteurized-milk-and-cream, dairy, cream, whey...   \n",
       "484                                              empty   \n",
       "485                                              empty   \n",
       "486                                              empty   \n",
       "487                                              empty   \n",
       "488                                              empty   \n",
       "489                                   white-rice, rice   \n",
       "490                                              empty   \n",
       "491                                              empty   \n",
       "492  red-beetroot, vegetable, root-vegetable, tapro...   \n",
       "493  salt, dextrose, added-sugar, monosaccharide, g...   \n",
       "494                                              empty   \n",
       "495                                              empty   \n",
       "496                                              empty   \n",
       "497  tomato, vegetable, fruit-vegetable, tomato-jui...   \n",
       "498  rice-flour, flour, rice, brown-sugar, added-su...   \n",
       "499  magermilch, milcheiweisserzeugnis, vanille-aro...   \n",
       "\n",
       "                                            categories  labels_note  \n",
       "450  plant-based-foods-and-beverages, plant-based-f...     0.000000  \n",
       "451                condiments, sauces, barbecue-sauces     0.111111  \n",
       "452  dairies, fermented-foods, fermented-milk-produ...     0.000000  \n",
       "453  dairies, desserts, dairy-desserts, coffee-dess...     0.000000  \n",
       "454  plant-based-foods-and-beverages, plant-based-f...     0.000000  \n",
       "455  meats-and-their-products, meats, fish-and-meat...     0.000000  \n",
       "456  plant-based-foods-and-beverages, beverages, ho...     0.000000  \n",
       "457  meats-and-their-products, frozen-foods, meals,...     0.222222  \n",
       "458  meat-alternatives, meat-analogues, vegetarian-...     0.444444  \n",
       "459  meats-and-their-products, meats, chicken-and-i...     0.222222  \n",
       "460  plant-based-foods-and-beverages, plant-based-f...     0.000000  \n",
       "461  plant-based-foods-and-beverages, plant-based-f...     0.000000  \n",
       "462  plant-based-foods-and-beverages, plant-based-f...     0.000000  \n",
       "463                                             snacks     0.000000  \n",
       "464  plant-based-foods-and-beverages, plant-based-f...     0.000000  \n",
       "465  meats-and-their-products, meats, pork-and-its-...     0.000000  \n",
       "466                                              empty     0.000000  \n",
       "467  plant-based-foods-and-beverages, plant-based-f...     0.000000  \n",
       "468  plant-based-foods-and-beverages, plant-based-f...     0.000000  \n",
       "469  dairies, fermented-foods, fermented-milk-produ...     0.333333  \n",
       "470                                              meals     0.000000  \n",
       "471  plant-based-foods-and-beverages, plant-based-f...     0.000000  \n",
       "472  snacks, sweet-snacks, sweet-pastries-and-pies,...     0.777778  \n",
       "473  dairies, fermented-foods, fermented-milk-produ...     0.000000  \n",
       "474                                              empty     0.000000  \n",
       "475                    condiments, sauces, mayonnaises     0.000000  \n",
       "476  plant-based-foods-and-beverages, plant-based-f...     0.000000  \n",
       "477  beverages-and-beverages-preparations, beverage...     0.000000  \n",
       "478  meats-and-their-products, prepared-meats, hams...     0.000000  \n",
       "479  plant-based-foods-and-beverages, plant-based-f...     0.222222  \n",
       "480          condiments, sauces, soy-sauces, groceries     0.222222  \n",
       "481  plant-based-foods-and-beverages, beverages, pl...     0.000000  \n",
       "482                                              empty     0.000000  \n",
       "483  dairies, fermented-foods, fermented-milk-produ...     0.000000  \n",
       "484  plant-based-foods-and-beverages, plant-based-f...     0.333333  \n",
       "485                                              empty     0.222222  \n",
       "486  meats-and-their-products, meats, chicken-and-i...     0.444444  \n",
       "487  snacks, sweet-snacks, cocoa-and-its-products, ...     0.222222  \n",
       "488                             farming-products, eggs     0.333333  \n",
       "489  plant-based-foods-and-beverages, plant-based-f...     0.222222  \n",
       "490                                              empty     0.000000  \n",
       "491  breakfasts, spreads, sweet-spreads, bee-produc...     0.000000  \n",
       "492  plant-based-foods-and-beverages, plant-based-f...     0.000000  \n",
       "493  meats-and-their-products, meats, pork-and-its-...     0.111111  \n",
       "494  plant-based-foods-and-beverages, plant-based-f...     0.000000  \n",
       "495       condiments, sauces, pepper-sauces, groceries     0.000000  \n",
       "496  meats-and-their-products, meats, chicken-and-i...     0.333333  \n",
       "497  plant-based-foods-and-beverages, plant-based-f...     0.000000  \n",
       "498  snacks, sweet-snacks, biscuits-and-cakes, bisc...     0.111111  \n",
       "499                                              empty     0.000000  "
      ]
     },
     "execution_count": 13,
     "metadata": {},
     "output_type": "execute_result"
    }
   ],
   "source": [
    "df.tail(50)"
   ]
  },
  {
   "cell_type": "code",
   "execution_count": 14,
   "metadata": {},
   "outputs": [],
   "source": [
    "def load_jsonl_to_dataframe(file_path):\n",
    "    data = []\n",
    "    with open(file_path, 'r') as file:\n",
    "        for line in file:\n",
    "            data.append(json.loads(line))\n",
    "    df = pd.DataFrame(data)\n",
    "    return df\n",
    "\n",
    "def create_treemap_for_column(df, column_name):\n",
    "    if column_name not in df.columns:\n",
    "        print(f\"warning, column: '{column_name}'does not exists\")\n",
    "        return\n",
    "    data = df[column_name].value_counts().reset_index()\n",
    "    data.columns = [column_name, 'count']\n",
    "    fig = go.Figure(go.Treemap(\n",
    "        labels=data[column_name],\n",
    "        parents=[\"\"] * len(data),\n",
    "        values=data['count'],\n",
    "        textinfo='label+value',  \n",
    "    ))\n",
    "    fig.update_layout(\n",
    "        title=f'treemap column: {column_name}',\n",
    "        paper_bgcolor='white',  \n",
    "        plot_bgcolor='white',   \n",
    "        font_color='black'      \n",
    "    )\n",
    "    fig.show()"
   ]
  },
  {
   "cell_type": "code",
   "execution_count": 15,
   "metadata": {},
   "outputs": [
    {
     "data": {
      "application/vnd.plotly.v1+json": {
       "config": {
        "plotlyServerURL": "https://plot.ly"
       },
       "data": [
        {
         "labels": [
          "b",
          "d",
          "c",
          "empty",
          "e",
          "a"
         ],
         "parents": [
          "",
          "",
          "",
          "",
          "",
          ""
         ],
         "textinfo": "label+value",
         "type": "treemap",
         "values": [
          249710,
          168633,
          155017,
          101205,
          96524,
          33317
         ]
        }
       ],
       "layout": {
        "font": {
         "color": "black"
        },
        "paper_bgcolor": "white",
        "plot_bgcolor": "white",
        "template": {
         "data": {
          "bar": [
           {
            "error_x": {
             "color": "#2a3f5f"
            },
            "error_y": {
             "color": "#2a3f5f"
            },
            "marker": {
             "line": {
              "color": "#E5ECF6",
              "width": 0.5
             },
             "pattern": {
              "fillmode": "overlay",
              "size": 10,
              "solidity": 0.2
             }
            },
            "type": "bar"
           }
          ],
          "barpolar": [
           {
            "marker": {
             "line": {
              "color": "#E5ECF6",
              "width": 0.5
             },
             "pattern": {
              "fillmode": "overlay",
              "size": 10,
              "solidity": 0.2
             }
            },
            "type": "barpolar"
           }
          ],
          "carpet": [
           {
            "aaxis": {
             "endlinecolor": "#2a3f5f",
             "gridcolor": "white",
             "linecolor": "white",
             "minorgridcolor": "white",
             "startlinecolor": "#2a3f5f"
            },
            "baxis": {
             "endlinecolor": "#2a3f5f",
             "gridcolor": "white",
             "linecolor": "white",
             "minorgridcolor": "white",
             "startlinecolor": "#2a3f5f"
            },
            "type": "carpet"
           }
          ],
          "choropleth": [
           {
            "colorbar": {
             "outlinewidth": 0,
             "ticks": ""
            },
            "type": "choropleth"
           }
          ],
          "contour": [
           {
            "colorbar": {
             "outlinewidth": 0,
             "ticks": ""
            },
            "colorscale": [
             [
              0,
              "#0d0887"
             ],
             [
              0.1111111111111111,
              "#46039f"
             ],
             [
              0.2222222222222222,
              "#7201a8"
             ],
             [
              0.3333333333333333,
              "#9c179e"
             ],
             [
              0.4444444444444444,
              "#bd3786"
             ],
             [
              0.5555555555555556,
              "#d8576b"
             ],
             [
              0.6666666666666666,
              "#ed7953"
             ],
             [
              0.7777777777777778,
              "#fb9f3a"
             ],
             [
              0.8888888888888888,
              "#fdca26"
             ],
             [
              1,
              "#f0f921"
             ]
            ],
            "type": "contour"
           }
          ],
          "contourcarpet": [
           {
            "colorbar": {
             "outlinewidth": 0,
             "ticks": ""
            },
            "type": "contourcarpet"
           }
          ],
          "heatmap": [
           {
            "colorbar": {
             "outlinewidth": 0,
             "ticks": ""
            },
            "colorscale": [
             [
              0,
              "#0d0887"
             ],
             [
              0.1111111111111111,
              "#46039f"
             ],
             [
              0.2222222222222222,
              "#7201a8"
             ],
             [
              0.3333333333333333,
              "#9c179e"
             ],
             [
              0.4444444444444444,
              "#bd3786"
             ],
             [
              0.5555555555555556,
              "#d8576b"
             ],
             [
              0.6666666666666666,
              "#ed7953"
             ],
             [
              0.7777777777777778,
              "#fb9f3a"
             ],
             [
              0.8888888888888888,
              "#fdca26"
             ],
             [
              1,
              "#f0f921"
             ]
            ],
            "type": "heatmap"
           }
          ],
          "heatmapgl": [
           {
            "colorbar": {
             "outlinewidth": 0,
             "ticks": ""
            },
            "colorscale": [
             [
              0,
              "#0d0887"
             ],
             [
              0.1111111111111111,
              "#46039f"
             ],
             [
              0.2222222222222222,
              "#7201a8"
             ],
             [
              0.3333333333333333,
              "#9c179e"
             ],
             [
              0.4444444444444444,
              "#bd3786"
             ],
             [
              0.5555555555555556,
              "#d8576b"
             ],
             [
              0.6666666666666666,
              "#ed7953"
             ],
             [
              0.7777777777777778,
              "#fb9f3a"
             ],
             [
              0.8888888888888888,
              "#fdca26"
             ],
             [
              1,
              "#f0f921"
             ]
            ],
            "type": "heatmapgl"
           }
          ],
          "histogram": [
           {
            "marker": {
             "pattern": {
              "fillmode": "overlay",
              "size": 10,
              "solidity": 0.2
             }
            },
            "type": "histogram"
           }
          ],
          "histogram2d": [
           {
            "colorbar": {
             "outlinewidth": 0,
             "ticks": ""
            },
            "colorscale": [
             [
              0,
              "#0d0887"
             ],
             [
              0.1111111111111111,
              "#46039f"
             ],
             [
              0.2222222222222222,
              "#7201a8"
             ],
             [
              0.3333333333333333,
              "#9c179e"
             ],
             [
              0.4444444444444444,
              "#bd3786"
             ],
             [
              0.5555555555555556,
              "#d8576b"
             ],
             [
              0.6666666666666666,
              "#ed7953"
             ],
             [
              0.7777777777777778,
              "#fb9f3a"
             ],
             [
              0.8888888888888888,
              "#fdca26"
             ],
             [
              1,
              "#f0f921"
             ]
            ],
            "type": "histogram2d"
           }
          ],
          "histogram2dcontour": [
           {
            "colorbar": {
             "outlinewidth": 0,
             "ticks": ""
            },
            "colorscale": [
             [
              0,
              "#0d0887"
             ],
             [
              0.1111111111111111,
              "#46039f"
             ],
             [
              0.2222222222222222,
              "#7201a8"
             ],
             [
              0.3333333333333333,
              "#9c179e"
             ],
             [
              0.4444444444444444,
              "#bd3786"
             ],
             [
              0.5555555555555556,
              "#d8576b"
             ],
             [
              0.6666666666666666,
              "#ed7953"
             ],
             [
              0.7777777777777778,
              "#fb9f3a"
             ],
             [
              0.8888888888888888,
              "#fdca26"
             ],
             [
              1,
              "#f0f921"
             ]
            ],
            "type": "histogram2dcontour"
           }
          ],
          "mesh3d": [
           {
            "colorbar": {
             "outlinewidth": 0,
             "ticks": ""
            },
            "type": "mesh3d"
           }
          ],
          "parcoords": [
           {
            "line": {
             "colorbar": {
              "outlinewidth": 0,
              "ticks": ""
             }
            },
            "type": "parcoords"
           }
          ],
          "pie": [
           {
            "automargin": true,
            "type": "pie"
           }
          ],
          "scatter": [
           {
            "fillpattern": {
             "fillmode": "overlay",
             "size": 10,
             "solidity": 0.2
            },
            "type": "scatter"
           }
          ],
          "scatter3d": [
           {
            "line": {
             "colorbar": {
              "outlinewidth": 0,
              "ticks": ""
             }
            },
            "marker": {
             "colorbar": {
              "outlinewidth": 0,
              "ticks": ""
             }
            },
            "type": "scatter3d"
           }
          ],
          "scattercarpet": [
           {
            "marker": {
             "colorbar": {
              "outlinewidth": 0,
              "ticks": ""
             }
            },
            "type": "scattercarpet"
           }
          ],
          "scattergeo": [
           {
            "marker": {
             "colorbar": {
              "outlinewidth": 0,
              "ticks": ""
             }
            },
            "type": "scattergeo"
           }
          ],
          "scattergl": [
           {
            "marker": {
             "colorbar": {
              "outlinewidth": 0,
              "ticks": ""
             }
            },
            "type": "scattergl"
           }
          ],
          "scattermapbox": [
           {
            "marker": {
             "colorbar": {
              "outlinewidth": 0,
              "ticks": ""
             }
            },
            "type": "scattermapbox"
           }
          ],
          "scatterpolar": [
           {
            "marker": {
             "colorbar": {
              "outlinewidth": 0,
              "ticks": ""
             }
            },
            "type": "scatterpolar"
           }
          ],
          "scatterpolargl": [
           {
            "marker": {
             "colorbar": {
              "outlinewidth": 0,
              "ticks": ""
             }
            },
            "type": "scatterpolargl"
           }
          ],
          "scatterternary": [
           {
            "marker": {
             "colorbar": {
              "outlinewidth": 0,
              "ticks": ""
             }
            },
            "type": "scatterternary"
           }
          ],
          "surface": [
           {
            "colorbar": {
             "outlinewidth": 0,
             "ticks": ""
            },
            "colorscale": [
             [
              0,
              "#0d0887"
             ],
             [
              0.1111111111111111,
              "#46039f"
             ],
             [
              0.2222222222222222,
              "#7201a8"
             ],
             [
              0.3333333333333333,
              "#9c179e"
             ],
             [
              0.4444444444444444,
              "#bd3786"
             ],
             [
              0.5555555555555556,
              "#d8576b"
             ],
             [
              0.6666666666666666,
              "#ed7953"
             ],
             [
              0.7777777777777778,
              "#fb9f3a"
             ],
             [
              0.8888888888888888,
              "#fdca26"
             ],
             [
              1,
              "#f0f921"
             ]
            ],
            "type": "surface"
           }
          ],
          "table": [
           {
            "cells": {
             "fill": {
              "color": "#EBF0F8"
             },
             "line": {
              "color": "white"
             }
            },
            "header": {
             "fill": {
              "color": "#C8D4E3"
             },
             "line": {
              "color": "white"
             }
            },
            "type": "table"
           }
          ]
         },
         "layout": {
          "annotationdefaults": {
           "arrowcolor": "#2a3f5f",
           "arrowhead": 0,
           "arrowwidth": 1
          },
          "autotypenumbers": "strict",
          "coloraxis": {
           "colorbar": {
            "outlinewidth": 0,
            "ticks": ""
           }
          },
          "colorscale": {
           "diverging": [
            [
             0,
             "#8e0152"
            ],
            [
             0.1,
             "#c51b7d"
            ],
            [
             0.2,
             "#de77ae"
            ],
            [
             0.3,
             "#f1b6da"
            ],
            [
             0.4,
             "#fde0ef"
            ],
            [
             0.5,
             "#f7f7f7"
            ],
            [
             0.6,
             "#e6f5d0"
            ],
            [
             0.7,
             "#b8e186"
            ],
            [
             0.8,
             "#7fbc41"
            ],
            [
             0.9,
             "#4d9221"
            ],
            [
             1,
             "#276419"
            ]
           ],
           "sequential": [
            [
             0,
             "#0d0887"
            ],
            [
             0.1111111111111111,
             "#46039f"
            ],
            [
             0.2222222222222222,
             "#7201a8"
            ],
            [
             0.3333333333333333,
             "#9c179e"
            ],
            [
             0.4444444444444444,
             "#bd3786"
            ],
            [
             0.5555555555555556,
             "#d8576b"
            ],
            [
             0.6666666666666666,
             "#ed7953"
            ],
            [
             0.7777777777777778,
             "#fb9f3a"
            ],
            [
             0.8888888888888888,
             "#fdca26"
            ],
            [
             1,
             "#f0f921"
            ]
           ],
           "sequentialminus": [
            [
             0,
             "#0d0887"
            ],
            [
             0.1111111111111111,
             "#46039f"
            ],
            [
             0.2222222222222222,
             "#7201a8"
            ],
            [
             0.3333333333333333,
             "#9c179e"
            ],
            [
             0.4444444444444444,
             "#bd3786"
            ],
            [
             0.5555555555555556,
             "#d8576b"
            ],
            [
             0.6666666666666666,
             "#ed7953"
            ],
            [
             0.7777777777777778,
             "#fb9f3a"
            ],
            [
             0.8888888888888888,
             "#fdca26"
            ],
            [
             1,
             "#f0f921"
            ]
           ]
          },
          "colorway": [
           "#636efa",
           "#EF553B",
           "#00cc96",
           "#ab63fa",
           "#FFA15A",
           "#19d3f3",
           "#FF6692",
           "#B6E880",
           "#FF97FF",
           "#FECB52"
          ],
          "font": {
           "color": "#2a3f5f"
          },
          "geo": {
           "bgcolor": "white",
           "lakecolor": "white",
           "landcolor": "#E5ECF6",
           "showlakes": true,
           "showland": true,
           "subunitcolor": "white"
          },
          "hoverlabel": {
           "align": "left"
          },
          "hovermode": "closest",
          "mapbox": {
           "style": "light"
          },
          "paper_bgcolor": "white",
          "plot_bgcolor": "#E5ECF6",
          "polar": {
           "angularaxis": {
            "gridcolor": "white",
            "linecolor": "white",
            "ticks": ""
           },
           "bgcolor": "#E5ECF6",
           "radialaxis": {
            "gridcolor": "white",
            "linecolor": "white",
            "ticks": ""
           }
          },
          "scene": {
           "xaxis": {
            "backgroundcolor": "#E5ECF6",
            "gridcolor": "white",
            "gridwidth": 2,
            "linecolor": "white",
            "showbackground": true,
            "ticks": "",
            "zerolinecolor": "white"
           },
           "yaxis": {
            "backgroundcolor": "#E5ECF6",
            "gridcolor": "white",
            "gridwidth": 2,
            "linecolor": "white",
            "showbackground": true,
            "ticks": "",
            "zerolinecolor": "white"
           },
           "zaxis": {
            "backgroundcolor": "#E5ECF6",
            "gridcolor": "white",
            "gridwidth": 2,
            "linecolor": "white",
            "showbackground": true,
            "ticks": "",
            "zerolinecolor": "white"
           }
          },
          "shapedefaults": {
           "line": {
            "color": "#2a3f5f"
           }
          },
          "ternary": {
           "aaxis": {
            "gridcolor": "white",
            "linecolor": "white",
            "ticks": ""
           },
           "baxis": {
            "gridcolor": "white",
            "linecolor": "white",
            "ticks": ""
           },
           "bgcolor": "#E5ECF6",
           "caxis": {
            "gridcolor": "white",
            "linecolor": "white",
            "ticks": ""
           }
          },
          "title": {
           "x": 0.05
          },
          "xaxis": {
           "automargin": true,
           "gridcolor": "white",
           "linecolor": "white",
           "ticks": "",
           "title": {
            "standoff": 15
           },
           "zerolinecolor": "white",
           "zerolinewidth": 2
          },
          "yaxis": {
           "automargin": true,
           "gridcolor": "white",
           "linecolor": "white",
           "ticks": "",
           "title": {
            "standoff": 15
           },
           "zerolinecolor": "white",
           "zerolinewidth": 2
          }
         }
        },
        "title": {
         "text": "treemap column: ecoscore_tags"
        }
       }
      }
     },
     "metadata": {},
     "output_type": "display_data"
    },
    {
     "data": {
      "application/vnd.plotly.v1+json": {
       "config": {
        "plotlyServerURL": "https://plot.ly"
       },
       "data": [
        {
         "labels": [
          49,
          79,
          67,
          72,
          34,
          0,
          77,
          21,
          39,
          42,
          75,
          27,
          50,
          15,
          37,
          43,
          60,
          44,
          76,
          36,
          78,
          54,
          25,
          12,
          45,
          35,
          38,
          19,
          74,
          100,
          64,
          70,
          68,
          62,
          71,
          30,
          16,
          22,
          58,
          57,
          55,
          18,
          73,
          59,
          66,
          29,
          51,
          48,
          47,
          40,
          32,
          28,
          69,
          53,
          4,
          23,
          52,
          56,
          41,
          31,
          65,
          63,
          24,
          9,
          46,
          26,
          33,
          20,
          2,
          17,
          6,
          14,
          5,
          8,
          61,
          81,
          85,
          3,
          13,
          80,
          91,
          1,
          83,
          82,
          90,
          11,
          84,
          10,
          88,
          92,
          89,
          94,
          87,
          93,
          86,
          7,
          96,
          95,
          99,
          98,
          97
         ],
         "parents": [
          "",
          "",
          "",
          "",
          "",
          "",
          "",
          "",
          "",
          "",
          "",
          "",
          "",
          "",
          "",
          "",
          "",
          "",
          "",
          "",
          "",
          "",
          "",
          "",
          "",
          "",
          "",
          "",
          "",
          "",
          "",
          "",
          "",
          "",
          "",
          "",
          "",
          "",
          "",
          "",
          "",
          "",
          "",
          "",
          "",
          "",
          "",
          "",
          "",
          "",
          "",
          "",
          "",
          "",
          "",
          "",
          "",
          "",
          "",
          "",
          "",
          "",
          "",
          "",
          "",
          "",
          "",
          "",
          "",
          "",
          "",
          "",
          "",
          "",
          "",
          "",
          "",
          "",
          "",
          "",
          "",
          "",
          "",
          "",
          "",
          "",
          "",
          "",
          "",
          "",
          "",
          "",
          "",
          "",
          "",
          "",
          "",
          "",
          "",
          "",
          ""
         ],
         "textinfo": "label+value",
         "type": "treemap",
         "values": [
          119147,
          50982,
          36940,
          27191,
          24986,
          17067,
          14981,
          13706,
          13557,
          12975,
          12818,
          12433,
          12127,
          11887,
          11384,
          10672,
          10547,
          10512,
          10107,
          9896,
          9835,
          9713,
          9610,
          9141,
          9061,
          8928,
          8848,
          8807,
          8611,
          8473,
          8154,
          7901,
          7788,
          7755,
          7667,
          7509,
          7451,
          7234,
          6967,
          6715,
          6429,
          6165,
          6083,
          6012,
          5899,
          5899,
          5859,
          5799,
          5748,
          5705,
          5630,
          5414,
          5269,
          5239,
          5231,
          4932,
          4808,
          4591,
          4566,
          4399,
          4383,
          4306,
          4070,
          3857,
          3577,
          3524,
          3407,
          3267,
          3205,
          3109,
          3007,
          2795,
          2719,
          2686,
          2493,
          2411,
          2214,
          2194,
          2055,
          1950,
          1830,
          1820,
          1774,
          1670,
          1426,
          1304,
          1210,
          1194,
          1192,
          1094,
          1077,
          1019,
          979,
          920,
          834,
          830,
          700,
          695,
          685,
          584,
          580
         ]
        }
       ],
       "layout": {
        "font": {
         "color": "black"
        },
        "paper_bgcolor": "white",
        "plot_bgcolor": "white",
        "template": {
         "data": {
          "bar": [
           {
            "error_x": {
             "color": "#2a3f5f"
            },
            "error_y": {
             "color": "#2a3f5f"
            },
            "marker": {
             "line": {
              "color": "#E5ECF6",
              "width": 0.5
             },
             "pattern": {
              "fillmode": "overlay",
              "size": 10,
              "solidity": 0.2
             }
            },
            "type": "bar"
           }
          ],
          "barpolar": [
           {
            "marker": {
             "line": {
              "color": "#E5ECF6",
              "width": 0.5
             },
             "pattern": {
              "fillmode": "overlay",
              "size": 10,
              "solidity": 0.2
             }
            },
            "type": "barpolar"
           }
          ],
          "carpet": [
           {
            "aaxis": {
             "endlinecolor": "#2a3f5f",
             "gridcolor": "white",
             "linecolor": "white",
             "minorgridcolor": "white",
             "startlinecolor": "#2a3f5f"
            },
            "baxis": {
             "endlinecolor": "#2a3f5f",
             "gridcolor": "white",
             "linecolor": "white",
             "minorgridcolor": "white",
             "startlinecolor": "#2a3f5f"
            },
            "type": "carpet"
           }
          ],
          "choropleth": [
           {
            "colorbar": {
             "outlinewidth": 0,
             "ticks": ""
            },
            "type": "choropleth"
           }
          ],
          "contour": [
           {
            "colorbar": {
             "outlinewidth": 0,
             "ticks": ""
            },
            "colorscale": [
             [
              0,
              "#0d0887"
             ],
             [
              0.1111111111111111,
              "#46039f"
             ],
             [
              0.2222222222222222,
              "#7201a8"
             ],
             [
              0.3333333333333333,
              "#9c179e"
             ],
             [
              0.4444444444444444,
              "#bd3786"
             ],
             [
              0.5555555555555556,
              "#d8576b"
             ],
             [
              0.6666666666666666,
              "#ed7953"
             ],
             [
              0.7777777777777778,
              "#fb9f3a"
             ],
             [
              0.8888888888888888,
              "#fdca26"
             ],
             [
              1,
              "#f0f921"
             ]
            ],
            "type": "contour"
           }
          ],
          "contourcarpet": [
           {
            "colorbar": {
             "outlinewidth": 0,
             "ticks": ""
            },
            "type": "contourcarpet"
           }
          ],
          "heatmap": [
           {
            "colorbar": {
             "outlinewidth": 0,
             "ticks": ""
            },
            "colorscale": [
             [
              0,
              "#0d0887"
             ],
             [
              0.1111111111111111,
              "#46039f"
             ],
             [
              0.2222222222222222,
              "#7201a8"
             ],
             [
              0.3333333333333333,
              "#9c179e"
             ],
             [
              0.4444444444444444,
              "#bd3786"
             ],
             [
              0.5555555555555556,
              "#d8576b"
             ],
             [
              0.6666666666666666,
              "#ed7953"
             ],
             [
              0.7777777777777778,
              "#fb9f3a"
             ],
             [
              0.8888888888888888,
              "#fdca26"
             ],
             [
              1,
              "#f0f921"
             ]
            ],
            "type": "heatmap"
           }
          ],
          "heatmapgl": [
           {
            "colorbar": {
             "outlinewidth": 0,
             "ticks": ""
            },
            "colorscale": [
             [
              0,
              "#0d0887"
             ],
             [
              0.1111111111111111,
              "#46039f"
             ],
             [
              0.2222222222222222,
              "#7201a8"
             ],
             [
              0.3333333333333333,
              "#9c179e"
             ],
             [
              0.4444444444444444,
              "#bd3786"
             ],
             [
              0.5555555555555556,
              "#d8576b"
             ],
             [
              0.6666666666666666,
              "#ed7953"
             ],
             [
              0.7777777777777778,
              "#fb9f3a"
             ],
             [
              0.8888888888888888,
              "#fdca26"
             ],
             [
              1,
              "#f0f921"
             ]
            ],
            "type": "heatmapgl"
           }
          ],
          "histogram": [
           {
            "marker": {
             "pattern": {
              "fillmode": "overlay",
              "size": 10,
              "solidity": 0.2
             }
            },
            "type": "histogram"
           }
          ],
          "histogram2d": [
           {
            "colorbar": {
             "outlinewidth": 0,
             "ticks": ""
            },
            "colorscale": [
             [
              0,
              "#0d0887"
             ],
             [
              0.1111111111111111,
              "#46039f"
             ],
             [
              0.2222222222222222,
              "#7201a8"
             ],
             [
              0.3333333333333333,
              "#9c179e"
             ],
             [
              0.4444444444444444,
              "#bd3786"
             ],
             [
              0.5555555555555556,
              "#d8576b"
             ],
             [
              0.6666666666666666,
              "#ed7953"
             ],
             [
              0.7777777777777778,
              "#fb9f3a"
             ],
             [
              0.8888888888888888,
              "#fdca26"
             ],
             [
              1,
              "#f0f921"
             ]
            ],
            "type": "histogram2d"
           }
          ],
          "histogram2dcontour": [
           {
            "colorbar": {
             "outlinewidth": 0,
             "ticks": ""
            },
            "colorscale": [
             [
              0,
              "#0d0887"
             ],
             [
              0.1111111111111111,
              "#46039f"
             ],
             [
              0.2222222222222222,
              "#7201a8"
             ],
             [
              0.3333333333333333,
              "#9c179e"
             ],
             [
              0.4444444444444444,
              "#bd3786"
             ],
             [
              0.5555555555555556,
              "#d8576b"
             ],
             [
              0.6666666666666666,
              "#ed7953"
             ],
             [
              0.7777777777777778,
              "#fb9f3a"
             ],
             [
              0.8888888888888888,
              "#fdca26"
             ],
             [
              1,
              "#f0f921"
             ]
            ],
            "type": "histogram2dcontour"
           }
          ],
          "mesh3d": [
           {
            "colorbar": {
             "outlinewidth": 0,
             "ticks": ""
            },
            "type": "mesh3d"
           }
          ],
          "parcoords": [
           {
            "line": {
             "colorbar": {
              "outlinewidth": 0,
              "ticks": ""
             }
            },
            "type": "parcoords"
           }
          ],
          "pie": [
           {
            "automargin": true,
            "type": "pie"
           }
          ],
          "scatter": [
           {
            "fillpattern": {
             "fillmode": "overlay",
             "size": 10,
             "solidity": 0.2
            },
            "type": "scatter"
           }
          ],
          "scatter3d": [
           {
            "line": {
             "colorbar": {
              "outlinewidth": 0,
              "ticks": ""
             }
            },
            "marker": {
             "colorbar": {
              "outlinewidth": 0,
              "ticks": ""
             }
            },
            "type": "scatter3d"
           }
          ],
          "scattercarpet": [
           {
            "marker": {
             "colorbar": {
              "outlinewidth": 0,
              "ticks": ""
             }
            },
            "type": "scattercarpet"
           }
          ],
          "scattergeo": [
           {
            "marker": {
             "colorbar": {
              "outlinewidth": 0,
              "ticks": ""
             }
            },
            "type": "scattergeo"
           }
          ],
          "scattergl": [
           {
            "marker": {
             "colorbar": {
              "outlinewidth": 0,
              "ticks": ""
             }
            },
            "type": "scattergl"
           }
          ],
          "scattermapbox": [
           {
            "marker": {
             "colorbar": {
              "outlinewidth": 0,
              "ticks": ""
             }
            },
            "type": "scattermapbox"
           }
          ],
          "scatterpolar": [
           {
            "marker": {
             "colorbar": {
              "outlinewidth": 0,
              "ticks": ""
             }
            },
            "type": "scatterpolar"
           }
          ],
          "scatterpolargl": [
           {
            "marker": {
             "colorbar": {
              "outlinewidth": 0,
              "ticks": ""
             }
            },
            "type": "scatterpolargl"
           }
          ],
          "scatterternary": [
           {
            "marker": {
             "colorbar": {
              "outlinewidth": 0,
              "ticks": ""
             }
            },
            "type": "scatterternary"
           }
          ],
          "surface": [
           {
            "colorbar": {
             "outlinewidth": 0,
             "ticks": ""
            },
            "colorscale": [
             [
              0,
              "#0d0887"
             ],
             [
              0.1111111111111111,
              "#46039f"
             ],
             [
              0.2222222222222222,
              "#7201a8"
             ],
             [
              0.3333333333333333,
              "#9c179e"
             ],
             [
              0.4444444444444444,
              "#bd3786"
             ],
             [
              0.5555555555555556,
              "#d8576b"
             ],
             [
              0.6666666666666666,
              "#ed7953"
             ],
             [
              0.7777777777777778,
              "#fb9f3a"
             ],
             [
              0.8888888888888888,
              "#fdca26"
             ],
             [
              1,
              "#f0f921"
             ]
            ],
            "type": "surface"
           }
          ],
          "table": [
           {
            "cells": {
             "fill": {
              "color": "#EBF0F8"
             },
             "line": {
              "color": "white"
             }
            },
            "header": {
             "fill": {
              "color": "#C8D4E3"
             },
             "line": {
              "color": "white"
             }
            },
            "type": "table"
           }
          ]
         },
         "layout": {
          "annotationdefaults": {
           "arrowcolor": "#2a3f5f",
           "arrowhead": 0,
           "arrowwidth": 1
          },
          "autotypenumbers": "strict",
          "coloraxis": {
           "colorbar": {
            "outlinewidth": 0,
            "ticks": ""
           }
          },
          "colorscale": {
           "diverging": [
            [
             0,
             "#8e0152"
            ],
            [
             0.1,
             "#c51b7d"
            ],
            [
             0.2,
             "#de77ae"
            ],
            [
             0.3,
             "#f1b6da"
            ],
            [
             0.4,
             "#fde0ef"
            ],
            [
             0.5,
             "#f7f7f7"
            ],
            [
             0.6,
             "#e6f5d0"
            ],
            [
             0.7,
             "#b8e186"
            ],
            [
             0.8,
             "#7fbc41"
            ],
            [
             0.9,
             "#4d9221"
            ],
            [
             1,
             "#276419"
            ]
           ],
           "sequential": [
            [
             0,
             "#0d0887"
            ],
            [
             0.1111111111111111,
             "#46039f"
            ],
            [
             0.2222222222222222,
             "#7201a8"
            ],
            [
             0.3333333333333333,
             "#9c179e"
            ],
            [
             0.4444444444444444,
             "#bd3786"
            ],
            [
             0.5555555555555556,
             "#d8576b"
            ],
            [
             0.6666666666666666,
             "#ed7953"
            ],
            [
             0.7777777777777778,
             "#fb9f3a"
            ],
            [
             0.8888888888888888,
             "#fdca26"
            ],
            [
             1,
             "#f0f921"
            ]
           ],
           "sequentialminus": [
            [
             0,
             "#0d0887"
            ],
            [
             0.1111111111111111,
             "#46039f"
            ],
            [
             0.2222222222222222,
             "#7201a8"
            ],
            [
             0.3333333333333333,
             "#9c179e"
            ],
            [
             0.4444444444444444,
             "#bd3786"
            ],
            [
             0.5555555555555556,
             "#d8576b"
            ],
            [
             0.6666666666666666,
             "#ed7953"
            ],
            [
             0.7777777777777778,
             "#fb9f3a"
            ],
            [
             0.8888888888888888,
             "#fdca26"
            ],
            [
             1,
             "#f0f921"
            ]
           ]
          },
          "colorway": [
           "#636efa",
           "#EF553B",
           "#00cc96",
           "#ab63fa",
           "#FFA15A",
           "#19d3f3",
           "#FF6692",
           "#B6E880",
           "#FF97FF",
           "#FECB52"
          ],
          "font": {
           "color": "#2a3f5f"
          },
          "geo": {
           "bgcolor": "white",
           "lakecolor": "white",
           "landcolor": "#E5ECF6",
           "showlakes": true,
           "showland": true,
           "subunitcolor": "white"
          },
          "hoverlabel": {
           "align": "left"
          },
          "hovermode": "closest",
          "mapbox": {
           "style": "light"
          },
          "paper_bgcolor": "white",
          "plot_bgcolor": "#E5ECF6",
          "polar": {
           "angularaxis": {
            "gridcolor": "white",
            "linecolor": "white",
            "ticks": ""
           },
           "bgcolor": "#E5ECF6",
           "radialaxis": {
            "gridcolor": "white",
            "linecolor": "white",
            "ticks": ""
           }
          },
          "scene": {
           "xaxis": {
            "backgroundcolor": "#E5ECF6",
            "gridcolor": "white",
            "gridwidth": 2,
            "linecolor": "white",
            "showbackground": true,
            "ticks": "",
            "zerolinecolor": "white"
           },
           "yaxis": {
            "backgroundcolor": "#E5ECF6",
            "gridcolor": "white",
            "gridwidth": 2,
            "linecolor": "white",
            "showbackground": true,
            "ticks": "",
            "zerolinecolor": "white"
           },
           "zaxis": {
            "backgroundcolor": "#E5ECF6",
            "gridcolor": "white",
            "gridwidth": 2,
            "linecolor": "white",
            "showbackground": true,
            "ticks": "",
            "zerolinecolor": "white"
           }
          },
          "shapedefaults": {
           "line": {
            "color": "#2a3f5f"
           }
          },
          "ternary": {
           "aaxis": {
            "gridcolor": "white",
            "linecolor": "white",
            "ticks": ""
           },
           "baxis": {
            "gridcolor": "white",
            "linecolor": "white",
            "ticks": ""
           },
           "bgcolor": "#E5ECF6",
           "caxis": {
            "gridcolor": "white",
            "linecolor": "white",
            "ticks": ""
           }
          },
          "title": {
           "x": 0.05
          },
          "xaxis": {
           "automargin": true,
           "gridcolor": "white",
           "linecolor": "white",
           "ticks": "",
           "title": {
            "standoff": 15
           },
           "zerolinecolor": "white",
           "zerolinewidth": 2
          },
          "yaxis": {
           "automargin": true,
           "gridcolor": "white",
           "linecolor": "white",
           "ticks": "",
           "title": {
            "standoff": 15
           },
           "zerolinecolor": "white",
           "zerolinewidth": 2
          }
         }
        },
        "title": {
         "text": "treemap column: ecoscore_score"
        }
       }
      }
     },
     "metadata": {},
     "output_type": "display_data"
    },
    {
     "data": {
      "application/vnd.plotly.v1+json": {
       "config": {
        "plotlyServerURL": "https://plot.ly"
       },
       "data": [
        {
         "labels": [
          60,
          186,
          163,
          64,
          82,
          185,
          168,
          17,
          32,
          123,
          9,
          80,
          139,
          140,
          111,
          167,
          142,
          129,
          143,
          26,
          45,
          7,
          10,
          59,
          24,
          76,
          173,
          117,
          100,
          124,
          101,
          3,
          46,
          42,
          84,
          74,
          37,
          178,
          161,
          66,
          156,
          35,
          151,
          153,
          21,
          81,
          179,
          184,
          138,
          77,
          157,
          183,
          104,
          79,
          91,
          141,
          51,
          158,
          55,
          137,
          75,
          131,
          36,
          63,
          170,
          41,
          95,
          16,
          43,
          44,
          152,
          192,
          110,
          134,
          86,
          49,
          107,
          113,
          50,
          4,
          133,
          2,
          191,
          128,
          13,
          25,
          31,
          30,
          27,
          98,
          73,
          78,
          8,
          94,
          105,
          136,
          22,
          52,
          57,
          85,
          160,
          68,
          11,
          1,
          83,
          166,
          127,
          65,
          61,
          187,
          164,
          14,
          116,
          12,
          194,
          120,
          130,
          122,
          119,
          169,
          20,
          114,
          115,
          193,
          58
         ],
         "parents": [
          "",
          "",
          "",
          "",
          "",
          "",
          "",
          "",
          "",
          "",
          "",
          "",
          "",
          "",
          "",
          "",
          "",
          "",
          "",
          "",
          "",
          "",
          "",
          "",
          "",
          "",
          "",
          "",
          "",
          "",
          "",
          "",
          "",
          "",
          "",
          "",
          "",
          "",
          "",
          "",
          "",
          "",
          "",
          "",
          "",
          "",
          "",
          "",
          "",
          "",
          "",
          "",
          "",
          "",
          "",
          "",
          "",
          "",
          "",
          "",
          "",
          "",
          "",
          "",
          "",
          "",
          "",
          "",
          "",
          "",
          "",
          "",
          "",
          "",
          "",
          "",
          "",
          "",
          "",
          "",
          "",
          "",
          "",
          "",
          "",
          "",
          "",
          "",
          "",
          "",
          "",
          "",
          "",
          "",
          "",
          "",
          "",
          "",
          "",
          "",
          "",
          "",
          "",
          "",
          "",
          "",
          "",
          "",
          "",
          "",
          "",
          "",
          "",
          "",
          "",
          "",
          "",
          "",
          "",
          "",
          "",
          "",
          "",
          "",
          ""
         ],
         "textinfo": "label+value",
         "type": "treemap",
         "values": [
          400232,
          101918,
          63065,
          47593,
          43047,
          23109,
          19896,
          19889,
          11292,
          8140,
          6748,
          5643,
          5200,
          3751,
          2727,
          2623,
          2301,
          2234,
          2132,
          2089,
          2020,
          1985,
          1937,
          1937,
          1892,
          1713,
          1677,
          1544,
          1403,
          1357,
          1025,
          945,
          910,
          886,
          882,
          864,
          788,
          551,
          532,
          510,
          467,
          436,
          393,
          365,
          334,
          321,
          281,
          268,
          259,
          234,
          175,
          160,
          103,
          101,
          94,
          93,
          93,
          85,
          79,
          68,
          66,
          55,
          51,
          48,
          47,
          47,
          45,
          42,
          41,
          38,
          37,
          36,
          29,
          29,
          25,
          24,
          22,
          22,
          21,
          21,
          20,
          16,
          15,
          13,
          12,
          12,
          12,
          11,
          11,
          11,
          10,
          9,
          8,
          8,
          8,
          8,
          8,
          7,
          7,
          5,
          5,
          5,
          4,
          4,
          3,
          3,
          3,
          3,
          3,
          2,
          2,
          2,
          2,
          1,
          1,
          1,
          1,
          1,
          1,
          1,
          1,
          1,
          1,
          1,
          1
         ]
        }
       ],
       "layout": {
        "font": {
         "color": "black"
        },
        "paper_bgcolor": "white",
        "plot_bgcolor": "white",
        "template": {
         "data": {
          "bar": [
           {
            "error_x": {
             "color": "#2a3f5f"
            },
            "error_y": {
             "color": "#2a3f5f"
            },
            "marker": {
             "line": {
              "color": "#E5ECF6",
              "width": 0.5
             },
             "pattern": {
              "fillmode": "overlay",
              "size": 10,
              "solidity": 0.2
             }
            },
            "type": "bar"
           }
          ],
          "barpolar": [
           {
            "marker": {
             "line": {
              "color": "#E5ECF6",
              "width": 0.5
             },
             "pattern": {
              "fillmode": "overlay",
              "size": 10,
              "solidity": 0.2
             }
            },
            "type": "barpolar"
           }
          ],
          "carpet": [
           {
            "aaxis": {
             "endlinecolor": "#2a3f5f",
             "gridcolor": "white",
             "linecolor": "white",
             "minorgridcolor": "white",
             "startlinecolor": "#2a3f5f"
            },
            "baxis": {
             "endlinecolor": "#2a3f5f",
             "gridcolor": "white",
             "linecolor": "white",
             "minorgridcolor": "white",
             "startlinecolor": "#2a3f5f"
            },
            "type": "carpet"
           }
          ],
          "choropleth": [
           {
            "colorbar": {
             "outlinewidth": 0,
             "ticks": ""
            },
            "type": "choropleth"
           }
          ],
          "contour": [
           {
            "colorbar": {
             "outlinewidth": 0,
             "ticks": ""
            },
            "colorscale": [
             [
              0,
              "#0d0887"
             ],
             [
              0.1111111111111111,
              "#46039f"
             ],
             [
              0.2222222222222222,
              "#7201a8"
             ],
             [
              0.3333333333333333,
              "#9c179e"
             ],
             [
              0.4444444444444444,
              "#bd3786"
             ],
             [
              0.5555555555555556,
              "#d8576b"
             ],
             [
              0.6666666666666666,
              "#ed7953"
             ],
             [
              0.7777777777777778,
              "#fb9f3a"
             ],
             [
              0.8888888888888888,
              "#fdca26"
             ],
             [
              1,
              "#f0f921"
             ]
            ],
            "type": "contour"
           }
          ],
          "contourcarpet": [
           {
            "colorbar": {
             "outlinewidth": 0,
             "ticks": ""
            },
            "type": "contourcarpet"
           }
          ],
          "heatmap": [
           {
            "colorbar": {
             "outlinewidth": 0,
             "ticks": ""
            },
            "colorscale": [
             [
              0,
              "#0d0887"
             ],
             [
              0.1111111111111111,
              "#46039f"
             ],
             [
              0.2222222222222222,
              "#7201a8"
             ],
             [
              0.3333333333333333,
              "#9c179e"
             ],
             [
              0.4444444444444444,
              "#bd3786"
             ],
             [
              0.5555555555555556,
              "#d8576b"
             ],
             [
              0.6666666666666666,
              "#ed7953"
             ],
             [
              0.7777777777777778,
              "#fb9f3a"
             ],
             [
              0.8888888888888888,
              "#fdca26"
             ],
             [
              1,
              "#f0f921"
             ]
            ],
            "type": "heatmap"
           }
          ],
          "heatmapgl": [
           {
            "colorbar": {
             "outlinewidth": 0,
             "ticks": ""
            },
            "colorscale": [
             [
              0,
              "#0d0887"
             ],
             [
              0.1111111111111111,
              "#46039f"
             ],
             [
              0.2222222222222222,
              "#7201a8"
             ],
             [
              0.3333333333333333,
              "#9c179e"
             ],
             [
              0.4444444444444444,
              "#bd3786"
             ],
             [
              0.5555555555555556,
              "#d8576b"
             ],
             [
              0.6666666666666666,
              "#ed7953"
             ],
             [
              0.7777777777777778,
              "#fb9f3a"
             ],
             [
              0.8888888888888888,
              "#fdca26"
             ],
             [
              1,
              "#f0f921"
             ]
            ],
            "type": "heatmapgl"
           }
          ],
          "histogram": [
           {
            "marker": {
             "pattern": {
              "fillmode": "overlay",
              "size": 10,
              "solidity": 0.2
             }
            },
            "type": "histogram"
           }
          ],
          "histogram2d": [
           {
            "colorbar": {
             "outlinewidth": 0,
             "ticks": ""
            },
            "colorscale": [
             [
              0,
              "#0d0887"
             ],
             [
              0.1111111111111111,
              "#46039f"
             ],
             [
              0.2222222222222222,
              "#7201a8"
             ],
             [
              0.3333333333333333,
              "#9c179e"
             ],
             [
              0.4444444444444444,
              "#bd3786"
             ],
             [
              0.5555555555555556,
              "#d8576b"
             ],
             [
              0.6666666666666666,
              "#ed7953"
             ],
             [
              0.7777777777777778,
              "#fb9f3a"
             ],
             [
              0.8888888888888888,
              "#fdca26"
             ],
             [
              1,
              "#f0f921"
             ]
            ],
            "type": "histogram2d"
           }
          ],
          "histogram2dcontour": [
           {
            "colorbar": {
             "outlinewidth": 0,
             "ticks": ""
            },
            "colorscale": [
             [
              0,
              "#0d0887"
             ],
             [
              0.1111111111111111,
              "#46039f"
             ],
             [
              0.2222222222222222,
              "#7201a8"
             ],
             [
              0.3333333333333333,
              "#9c179e"
             ],
             [
              0.4444444444444444,
              "#bd3786"
             ],
             [
              0.5555555555555556,
              "#d8576b"
             ],
             [
              0.6666666666666666,
              "#ed7953"
             ],
             [
              0.7777777777777778,
              "#fb9f3a"
             ],
             [
              0.8888888888888888,
              "#fdca26"
             ],
             [
              1,
              "#f0f921"
             ]
            ],
            "type": "histogram2dcontour"
           }
          ],
          "mesh3d": [
           {
            "colorbar": {
             "outlinewidth": 0,
             "ticks": ""
            },
            "type": "mesh3d"
           }
          ],
          "parcoords": [
           {
            "line": {
             "colorbar": {
              "outlinewidth": 0,
              "ticks": ""
             }
            },
            "type": "parcoords"
           }
          ],
          "pie": [
           {
            "automargin": true,
            "type": "pie"
           }
          ],
          "scatter": [
           {
            "fillpattern": {
             "fillmode": "overlay",
             "size": 10,
             "solidity": 0.2
            },
            "type": "scatter"
           }
          ],
          "scatter3d": [
           {
            "line": {
             "colorbar": {
              "outlinewidth": 0,
              "ticks": ""
             }
            },
            "marker": {
             "colorbar": {
              "outlinewidth": 0,
              "ticks": ""
             }
            },
            "type": "scatter3d"
           }
          ],
          "scattercarpet": [
           {
            "marker": {
             "colorbar": {
              "outlinewidth": 0,
              "ticks": ""
             }
            },
            "type": "scattercarpet"
           }
          ],
          "scattergeo": [
           {
            "marker": {
             "colorbar": {
              "outlinewidth": 0,
              "ticks": ""
             }
            },
            "type": "scattergeo"
           }
          ],
          "scattergl": [
           {
            "marker": {
             "colorbar": {
              "outlinewidth": 0,
              "ticks": ""
             }
            },
            "type": "scattergl"
           }
          ],
          "scattermapbox": [
           {
            "marker": {
             "colorbar": {
              "outlinewidth": 0,
              "ticks": ""
             }
            },
            "type": "scattermapbox"
           }
          ],
          "scatterpolar": [
           {
            "marker": {
             "colorbar": {
              "outlinewidth": 0,
              "ticks": ""
             }
            },
            "type": "scatterpolar"
           }
          ],
          "scatterpolargl": [
           {
            "marker": {
             "colorbar": {
              "outlinewidth": 0,
              "ticks": ""
             }
            },
            "type": "scatterpolargl"
           }
          ],
          "scatterternary": [
           {
            "marker": {
             "colorbar": {
              "outlinewidth": 0,
              "ticks": ""
             }
            },
            "type": "scatterternary"
           }
          ],
          "surface": [
           {
            "colorbar": {
             "outlinewidth": 0,
             "ticks": ""
            },
            "colorscale": [
             [
              0,
              "#0d0887"
             ],
             [
              0.1111111111111111,
              "#46039f"
             ],
             [
              0.2222222222222222,
              "#7201a8"
             ],
             [
              0.3333333333333333,
              "#9c179e"
             ],
             [
              0.4444444444444444,
              "#bd3786"
             ],
             [
              0.5555555555555556,
              "#d8576b"
             ],
             [
              0.6666666666666666,
              "#ed7953"
             ],
             [
              0.7777777777777778,
              "#fb9f3a"
             ],
             [
              0.8888888888888888,
              "#fdca26"
             ],
             [
              1,
              "#f0f921"
             ]
            ],
            "type": "surface"
           }
          ],
          "table": [
           {
            "cells": {
             "fill": {
              "color": "#EBF0F8"
             },
             "line": {
              "color": "white"
             }
            },
            "header": {
             "fill": {
              "color": "#C8D4E3"
             },
             "line": {
              "color": "white"
             }
            },
            "type": "table"
           }
          ]
         },
         "layout": {
          "annotationdefaults": {
           "arrowcolor": "#2a3f5f",
           "arrowhead": 0,
           "arrowwidth": 1
          },
          "autotypenumbers": "strict",
          "coloraxis": {
           "colorbar": {
            "outlinewidth": 0,
            "ticks": ""
           }
          },
          "colorscale": {
           "diverging": [
            [
             0,
             "#8e0152"
            ],
            [
             0.1,
             "#c51b7d"
            ],
            [
             0.2,
             "#de77ae"
            ],
            [
             0.3,
             "#f1b6da"
            ],
            [
             0.4,
             "#fde0ef"
            ],
            [
             0.5,
             "#f7f7f7"
            ],
            [
             0.6,
             "#e6f5d0"
            ],
            [
             0.7,
             "#b8e186"
            ],
            [
             0.8,
             "#7fbc41"
            ],
            [
             0.9,
             "#4d9221"
            ],
            [
             1,
             "#276419"
            ]
           ],
           "sequential": [
            [
             0,
             "#0d0887"
            ],
            [
             0.1111111111111111,
             "#46039f"
            ],
            [
             0.2222222222222222,
             "#7201a8"
            ],
            [
             0.3333333333333333,
             "#9c179e"
            ],
            [
             0.4444444444444444,
             "#bd3786"
            ],
            [
             0.5555555555555556,
             "#d8576b"
            ],
            [
             0.6666666666666666,
             "#ed7953"
            ],
            [
             0.7777777777777778,
             "#fb9f3a"
            ],
            [
             0.8888888888888888,
             "#fdca26"
            ],
            [
             1,
             "#f0f921"
            ]
           ],
           "sequentialminus": [
            [
             0,
             "#0d0887"
            ],
            [
             0.1111111111111111,
             "#46039f"
            ],
            [
             0.2222222222222222,
             "#7201a8"
            ],
            [
             0.3333333333333333,
             "#9c179e"
            ],
            [
             0.4444444444444444,
             "#bd3786"
            ],
            [
             0.5555555555555556,
             "#d8576b"
            ],
            [
             0.6666666666666666,
             "#ed7953"
            ],
            [
             0.7777777777777778,
             "#fb9f3a"
            ],
            [
             0.8888888888888888,
             "#fdca26"
            ],
            [
             1,
             "#f0f921"
            ]
           ]
          },
          "colorway": [
           "#636efa",
           "#EF553B",
           "#00cc96",
           "#ab63fa",
           "#FFA15A",
           "#19d3f3",
           "#FF6692",
           "#B6E880",
           "#FF97FF",
           "#FECB52"
          ],
          "font": {
           "color": "#2a3f5f"
          },
          "geo": {
           "bgcolor": "white",
           "lakecolor": "white",
           "landcolor": "#E5ECF6",
           "showlakes": true,
           "showland": true,
           "subunitcolor": "white"
          },
          "hoverlabel": {
           "align": "left"
          },
          "hovermode": "closest",
          "mapbox": {
           "style": "light"
          },
          "paper_bgcolor": "white",
          "plot_bgcolor": "#E5ECF6",
          "polar": {
           "angularaxis": {
            "gridcolor": "white",
            "linecolor": "white",
            "ticks": ""
           },
           "bgcolor": "#E5ECF6",
           "radialaxis": {
            "gridcolor": "white",
            "linecolor": "white",
            "ticks": ""
           }
          },
          "scene": {
           "xaxis": {
            "backgroundcolor": "#E5ECF6",
            "gridcolor": "white",
            "gridwidth": 2,
            "linecolor": "white",
            "showbackground": true,
            "ticks": "",
            "zerolinecolor": "white"
           },
           "yaxis": {
            "backgroundcolor": "#E5ECF6",
            "gridcolor": "white",
            "gridwidth": 2,
            "linecolor": "white",
            "showbackground": true,
            "ticks": "",
            "zerolinecolor": "white"
           },
           "zaxis": {
            "backgroundcolor": "#E5ECF6",
            "gridcolor": "white",
            "gridwidth": 2,
            "linecolor": "white",
            "showbackground": true,
            "ticks": "",
            "zerolinecolor": "white"
           }
          },
          "shapedefaults": {
           "line": {
            "color": "#2a3f5f"
           }
          },
          "ternary": {
           "aaxis": {
            "gridcolor": "white",
            "linecolor": "white",
            "ticks": ""
           },
           "baxis": {
            "gridcolor": "white",
            "linecolor": "white",
            "ticks": ""
           },
           "bgcolor": "#E5ECF6",
           "caxis": {
            "gridcolor": "white",
            "linecolor": "white",
            "ticks": ""
           }
          },
          "title": {
           "x": 0.05
          },
          "xaxis": {
           "automargin": true,
           "gridcolor": "white",
           "linecolor": "white",
           "ticks": "",
           "title": {
            "standoff": 15
           },
           "zerolinecolor": "white",
           "zerolinewidth": 2
          },
          "yaxis": {
           "automargin": true,
           "gridcolor": "white",
           "linecolor": "white",
           "ticks": "",
           "title": {
            "standoff": 15
           },
           "zerolinecolor": "white",
           "zerolinewidth": 2
          }
         }
        },
        "title": {
         "text": "treemap column: countries"
        }
       }
      }
     },
     "metadata": {},
     "output_type": "display_data"
    },
    {
     "data": {
      "application/vnd.plotly.v1+json": {
       "config": {
        "plotlyServerURL": "https://plot.ly"
       },
       "data": [
        {
         "labels": [
          0,
          0.1111111111,
          0.2222222222,
          0.3333333333,
          0.4444444444,
          0.5555555556,
          0.6666666667,
          1,
          0.7777777778,
          0.8888888889
         ],
         "parents": [
          "",
          "",
          "",
          "",
          "",
          "",
          "",
          "",
          "",
          ""
         ],
         "textinfo": "label+value",
         "type": "treemap",
         "values": [
          469366,
          118245,
          85494,
          51717,
          28881,
          16508,
          13129,
          8462,
          7605,
          4999
         ]
        }
       ],
       "layout": {
        "font": {
         "color": "black"
        },
        "paper_bgcolor": "white",
        "plot_bgcolor": "white",
        "template": {
         "data": {
          "bar": [
           {
            "error_x": {
             "color": "#2a3f5f"
            },
            "error_y": {
             "color": "#2a3f5f"
            },
            "marker": {
             "line": {
              "color": "#E5ECF6",
              "width": 0.5
             },
             "pattern": {
              "fillmode": "overlay",
              "size": 10,
              "solidity": 0.2
             }
            },
            "type": "bar"
           }
          ],
          "barpolar": [
           {
            "marker": {
             "line": {
              "color": "#E5ECF6",
              "width": 0.5
             },
             "pattern": {
              "fillmode": "overlay",
              "size": 10,
              "solidity": 0.2
             }
            },
            "type": "barpolar"
           }
          ],
          "carpet": [
           {
            "aaxis": {
             "endlinecolor": "#2a3f5f",
             "gridcolor": "white",
             "linecolor": "white",
             "minorgridcolor": "white",
             "startlinecolor": "#2a3f5f"
            },
            "baxis": {
             "endlinecolor": "#2a3f5f",
             "gridcolor": "white",
             "linecolor": "white",
             "minorgridcolor": "white",
             "startlinecolor": "#2a3f5f"
            },
            "type": "carpet"
           }
          ],
          "choropleth": [
           {
            "colorbar": {
             "outlinewidth": 0,
             "ticks": ""
            },
            "type": "choropleth"
           }
          ],
          "contour": [
           {
            "colorbar": {
             "outlinewidth": 0,
             "ticks": ""
            },
            "colorscale": [
             [
              0,
              "#0d0887"
             ],
             [
              0.1111111111111111,
              "#46039f"
             ],
             [
              0.2222222222222222,
              "#7201a8"
             ],
             [
              0.3333333333333333,
              "#9c179e"
             ],
             [
              0.4444444444444444,
              "#bd3786"
             ],
             [
              0.5555555555555556,
              "#d8576b"
             ],
             [
              0.6666666666666666,
              "#ed7953"
             ],
             [
              0.7777777777777778,
              "#fb9f3a"
             ],
             [
              0.8888888888888888,
              "#fdca26"
             ],
             [
              1,
              "#f0f921"
             ]
            ],
            "type": "contour"
           }
          ],
          "contourcarpet": [
           {
            "colorbar": {
             "outlinewidth": 0,
             "ticks": ""
            },
            "type": "contourcarpet"
           }
          ],
          "heatmap": [
           {
            "colorbar": {
             "outlinewidth": 0,
             "ticks": ""
            },
            "colorscale": [
             [
              0,
              "#0d0887"
             ],
             [
              0.1111111111111111,
              "#46039f"
             ],
             [
              0.2222222222222222,
              "#7201a8"
             ],
             [
              0.3333333333333333,
              "#9c179e"
             ],
             [
              0.4444444444444444,
              "#bd3786"
             ],
             [
              0.5555555555555556,
              "#d8576b"
             ],
             [
              0.6666666666666666,
              "#ed7953"
             ],
             [
              0.7777777777777778,
              "#fb9f3a"
             ],
             [
              0.8888888888888888,
              "#fdca26"
             ],
             [
              1,
              "#f0f921"
             ]
            ],
            "type": "heatmap"
           }
          ],
          "heatmapgl": [
           {
            "colorbar": {
             "outlinewidth": 0,
             "ticks": ""
            },
            "colorscale": [
             [
              0,
              "#0d0887"
             ],
             [
              0.1111111111111111,
              "#46039f"
             ],
             [
              0.2222222222222222,
              "#7201a8"
             ],
             [
              0.3333333333333333,
              "#9c179e"
             ],
             [
              0.4444444444444444,
              "#bd3786"
             ],
             [
              0.5555555555555556,
              "#d8576b"
             ],
             [
              0.6666666666666666,
              "#ed7953"
             ],
             [
              0.7777777777777778,
              "#fb9f3a"
             ],
             [
              0.8888888888888888,
              "#fdca26"
             ],
             [
              1,
              "#f0f921"
             ]
            ],
            "type": "heatmapgl"
           }
          ],
          "histogram": [
           {
            "marker": {
             "pattern": {
              "fillmode": "overlay",
              "size": 10,
              "solidity": 0.2
             }
            },
            "type": "histogram"
           }
          ],
          "histogram2d": [
           {
            "colorbar": {
             "outlinewidth": 0,
             "ticks": ""
            },
            "colorscale": [
             [
              0,
              "#0d0887"
             ],
             [
              0.1111111111111111,
              "#46039f"
             ],
             [
              0.2222222222222222,
              "#7201a8"
             ],
             [
              0.3333333333333333,
              "#9c179e"
             ],
             [
              0.4444444444444444,
              "#bd3786"
             ],
             [
              0.5555555555555556,
              "#d8576b"
             ],
             [
              0.6666666666666666,
              "#ed7953"
             ],
             [
              0.7777777777777778,
              "#fb9f3a"
             ],
             [
              0.8888888888888888,
              "#fdca26"
             ],
             [
              1,
              "#f0f921"
             ]
            ],
            "type": "histogram2d"
           }
          ],
          "histogram2dcontour": [
           {
            "colorbar": {
             "outlinewidth": 0,
             "ticks": ""
            },
            "colorscale": [
             [
              0,
              "#0d0887"
             ],
             [
              0.1111111111111111,
              "#46039f"
             ],
             [
              0.2222222222222222,
              "#7201a8"
             ],
             [
              0.3333333333333333,
              "#9c179e"
             ],
             [
              0.4444444444444444,
              "#bd3786"
             ],
             [
              0.5555555555555556,
              "#d8576b"
             ],
             [
              0.6666666666666666,
              "#ed7953"
             ],
             [
              0.7777777777777778,
              "#fb9f3a"
             ],
             [
              0.8888888888888888,
              "#fdca26"
             ],
             [
              1,
              "#f0f921"
             ]
            ],
            "type": "histogram2dcontour"
           }
          ],
          "mesh3d": [
           {
            "colorbar": {
             "outlinewidth": 0,
             "ticks": ""
            },
            "type": "mesh3d"
           }
          ],
          "parcoords": [
           {
            "line": {
             "colorbar": {
              "outlinewidth": 0,
              "ticks": ""
             }
            },
            "type": "parcoords"
           }
          ],
          "pie": [
           {
            "automargin": true,
            "type": "pie"
           }
          ],
          "scatter": [
           {
            "fillpattern": {
             "fillmode": "overlay",
             "size": 10,
             "solidity": 0.2
            },
            "type": "scatter"
           }
          ],
          "scatter3d": [
           {
            "line": {
             "colorbar": {
              "outlinewidth": 0,
              "ticks": ""
             }
            },
            "marker": {
             "colorbar": {
              "outlinewidth": 0,
              "ticks": ""
             }
            },
            "type": "scatter3d"
           }
          ],
          "scattercarpet": [
           {
            "marker": {
             "colorbar": {
              "outlinewidth": 0,
              "ticks": ""
             }
            },
            "type": "scattercarpet"
           }
          ],
          "scattergeo": [
           {
            "marker": {
             "colorbar": {
              "outlinewidth": 0,
              "ticks": ""
             }
            },
            "type": "scattergeo"
           }
          ],
          "scattergl": [
           {
            "marker": {
             "colorbar": {
              "outlinewidth": 0,
              "ticks": ""
             }
            },
            "type": "scattergl"
           }
          ],
          "scattermapbox": [
           {
            "marker": {
             "colorbar": {
              "outlinewidth": 0,
              "ticks": ""
             }
            },
            "type": "scattermapbox"
           }
          ],
          "scatterpolar": [
           {
            "marker": {
             "colorbar": {
              "outlinewidth": 0,
              "ticks": ""
             }
            },
            "type": "scatterpolar"
           }
          ],
          "scatterpolargl": [
           {
            "marker": {
             "colorbar": {
              "outlinewidth": 0,
              "ticks": ""
             }
            },
            "type": "scatterpolargl"
           }
          ],
          "scatterternary": [
           {
            "marker": {
             "colorbar": {
              "outlinewidth": 0,
              "ticks": ""
             }
            },
            "type": "scatterternary"
           }
          ],
          "surface": [
           {
            "colorbar": {
             "outlinewidth": 0,
             "ticks": ""
            },
            "colorscale": [
             [
              0,
              "#0d0887"
             ],
             [
              0.1111111111111111,
              "#46039f"
             ],
             [
              0.2222222222222222,
              "#7201a8"
             ],
             [
              0.3333333333333333,
              "#9c179e"
             ],
             [
              0.4444444444444444,
              "#bd3786"
             ],
             [
              0.5555555555555556,
              "#d8576b"
             ],
             [
              0.6666666666666666,
              "#ed7953"
             ],
             [
              0.7777777777777778,
              "#fb9f3a"
             ],
             [
              0.8888888888888888,
              "#fdca26"
             ],
             [
              1,
              "#f0f921"
             ]
            ],
            "type": "surface"
           }
          ],
          "table": [
           {
            "cells": {
             "fill": {
              "color": "#EBF0F8"
             },
             "line": {
              "color": "white"
             }
            },
            "header": {
             "fill": {
              "color": "#C8D4E3"
             },
             "line": {
              "color": "white"
             }
            },
            "type": "table"
           }
          ]
         },
         "layout": {
          "annotationdefaults": {
           "arrowcolor": "#2a3f5f",
           "arrowhead": 0,
           "arrowwidth": 1
          },
          "autotypenumbers": "strict",
          "coloraxis": {
           "colorbar": {
            "outlinewidth": 0,
            "ticks": ""
           }
          },
          "colorscale": {
           "diverging": [
            [
             0,
             "#8e0152"
            ],
            [
             0.1,
             "#c51b7d"
            ],
            [
             0.2,
             "#de77ae"
            ],
            [
             0.3,
             "#f1b6da"
            ],
            [
             0.4,
             "#fde0ef"
            ],
            [
             0.5,
             "#f7f7f7"
            ],
            [
             0.6,
             "#e6f5d0"
            ],
            [
             0.7,
             "#b8e186"
            ],
            [
             0.8,
             "#7fbc41"
            ],
            [
             0.9,
             "#4d9221"
            ],
            [
             1,
             "#276419"
            ]
           ],
           "sequential": [
            [
             0,
             "#0d0887"
            ],
            [
             0.1111111111111111,
             "#46039f"
            ],
            [
             0.2222222222222222,
             "#7201a8"
            ],
            [
             0.3333333333333333,
             "#9c179e"
            ],
            [
             0.4444444444444444,
             "#bd3786"
            ],
            [
             0.5555555555555556,
             "#d8576b"
            ],
            [
             0.6666666666666666,
             "#ed7953"
            ],
            [
             0.7777777777777778,
             "#fb9f3a"
            ],
            [
             0.8888888888888888,
             "#fdca26"
            ],
            [
             1,
             "#f0f921"
            ]
           ],
           "sequentialminus": [
            [
             0,
             "#0d0887"
            ],
            [
             0.1111111111111111,
             "#46039f"
            ],
            [
             0.2222222222222222,
             "#7201a8"
            ],
            [
             0.3333333333333333,
             "#9c179e"
            ],
            [
             0.4444444444444444,
             "#bd3786"
            ],
            [
             0.5555555555555556,
             "#d8576b"
            ],
            [
             0.6666666666666666,
             "#ed7953"
            ],
            [
             0.7777777777777778,
             "#fb9f3a"
            ],
            [
             0.8888888888888888,
             "#fdca26"
            ],
            [
             1,
             "#f0f921"
            ]
           ]
          },
          "colorway": [
           "#636efa",
           "#EF553B",
           "#00cc96",
           "#ab63fa",
           "#FFA15A",
           "#19d3f3",
           "#FF6692",
           "#B6E880",
           "#FF97FF",
           "#FECB52"
          ],
          "font": {
           "color": "#2a3f5f"
          },
          "geo": {
           "bgcolor": "white",
           "lakecolor": "white",
           "landcolor": "#E5ECF6",
           "showlakes": true,
           "showland": true,
           "subunitcolor": "white"
          },
          "hoverlabel": {
           "align": "left"
          },
          "hovermode": "closest",
          "mapbox": {
           "style": "light"
          },
          "paper_bgcolor": "white",
          "plot_bgcolor": "#E5ECF6",
          "polar": {
           "angularaxis": {
            "gridcolor": "white",
            "linecolor": "white",
            "ticks": ""
           },
           "bgcolor": "#E5ECF6",
           "radialaxis": {
            "gridcolor": "white",
            "linecolor": "white",
            "ticks": ""
           }
          },
          "scene": {
           "xaxis": {
            "backgroundcolor": "#E5ECF6",
            "gridcolor": "white",
            "gridwidth": 2,
            "linecolor": "white",
            "showbackground": true,
            "ticks": "",
            "zerolinecolor": "white"
           },
           "yaxis": {
            "backgroundcolor": "#E5ECF6",
            "gridcolor": "white",
            "gridwidth": 2,
            "linecolor": "white",
            "showbackground": true,
            "ticks": "",
            "zerolinecolor": "white"
           },
           "zaxis": {
            "backgroundcolor": "#E5ECF6",
            "gridcolor": "white",
            "gridwidth": 2,
            "linecolor": "white",
            "showbackground": true,
            "ticks": "",
            "zerolinecolor": "white"
           }
          },
          "shapedefaults": {
           "line": {
            "color": "#2a3f5f"
           }
          },
          "ternary": {
           "aaxis": {
            "gridcolor": "white",
            "linecolor": "white",
            "ticks": ""
           },
           "baxis": {
            "gridcolor": "white",
            "linecolor": "white",
            "ticks": ""
           },
           "bgcolor": "#E5ECF6",
           "caxis": {
            "gridcolor": "white",
            "linecolor": "white",
            "ticks": ""
           }
          },
          "title": {
           "x": 0.05
          },
          "xaxis": {
           "automargin": true,
           "gridcolor": "white",
           "linecolor": "white",
           "ticks": "",
           "title": {
            "standoff": 15
           },
           "zerolinecolor": "white",
           "zerolinewidth": 2
          },
          "yaxis": {
           "automargin": true,
           "gridcolor": "white",
           "linecolor": "white",
           "ticks": "",
           "title": {
            "standoff": 15
           },
           "zerolinecolor": "white",
           "zerolinewidth": 2
          }
         }
        },
        "title": {
         "text": "treemap column: labels_note"
        }
       }
      }
     },
     "metadata": {},
     "output_type": "display_data"
    },
    {
     "data": {
      "application/vnd.plotly.v1+json": {
       "config": {
        "plotlyServerURL": "https://plot.ly"
       },
       "data": [
        {
         "labels": [
          0.4444444444,
          0,
          0.6666666667,
          0.5555555556,
          0.7777777778,
          0.1111111111,
          0.3333333333,
          1,
          0.2222222222,
          0.4,
          0.5,
          0.1,
          0.7,
          0.6,
          0.3,
          0.9,
          0.2
         ],
         "parents": [
          "",
          "",
          "",
          "",
          "",
          "",
          "",
          "",
          "",
          "",
          "",
          "",
          "",
          "",
          "",
          "",
          ""
         ],
         "textinfo": "label+value",
         "type": "treemap",
         "values": [
          250869,
          141461,
          91920,
          77307,
          60486,
          60406,
          45836,
          43884,
          29197,
          1044,
          426,
          348,
          313,
          303,
          253,
          211,
          142
         ]
        }
       ],
       "layout": {
        "font": {
         "color": "black"
        },
        "paper_bgcolor": "white",
        "plot_bgcolor": "white",
        "template": {
         "data": {
          "bar": [
           {
            "error_x": {
             "color": "#2a3f5f"
            },
            "error_y": {
             "color": "#2a3f5f"
            },
            "marker": {
             "line": {
              "color": "#E5ECF6",
              "width": 0.5
             },
             "pattern": {
              "fillmode": "overlay",
              "size": 10,
              "solidity": 0.2
             }
            },
            "type": "bar"
           }
          ],
          "barpolar": [
           {
            "marker": {
             "line": {
              "color": "#E5ECF6",
              "width": 0.5
             },
             "pattern": {
              "fillmode": "overlay",
              "size": 10,
              "solidity": 0.2
             }
            },
            "type": "barpolar"
           }
          ],
          "carpet": [
           {
            "aaxis": {
             "endlinecolor": "#2a3f5f",
             "gridcolor": "white",
             "linecolor": "white",
             "minorgridcolor": "white",
             "startlinecolor": "#2a3f5f"
            },
            "baxis": {
             "endlinecolor": "#2a3f5f",
             "gridcolor": "white",
             "linecolor": "white",
             "minorgridcolor": "white",
             "startlinecolor": "#2a3f5f"
            },
            "type": "carpet"
           }
          ],
          "choropleth": [
           {
            "colorbar": {
             "outlinewidth": 0,
             "ticks": ""
            },
            "type": "choropleth"
           }
          ],
          "contour": [
           {
            "colorbar": {
             "outlinewidth": 0,
             "ticks": ""
            },
            "colorscale": [
             [
              0,
              "#0d0887"
             ],
             [
              0.1111111111111111,
              "#46039f"
             ],
             [
              0.2222222222222222,
              "#7201a8"
             ],
             [
              0.3333333333333333,
              "#9c179e"
             ],
             [
              0.4444444444444444,
              "#bd3786"
             ],
             [
              0.5555555555555556,
              "#d8576b"
             ],
             [
              0.6666666666666666,
              "#ed7953"
             ],
             [
              0.7777777777777778,
              "#fb9f3a"
             ],
             [
              0.8888888888888888,
              "#fdca26"
             ],
             [
              1,
              "#f0f921"
             ]
            ],
            "type": "contour"
           }
          ],
          "contourcarpet": [
           {
            "colorbar": {
             "outlinewidth": 0,
             "ticks": ""
            },
            "type": "contourcarpet"
           }
          ],
          "heatmap": [
           {
            "colorbar": {
             "outlinewidth": 0,
             "ticks": ""
            },
            "colorscale": [
             [
              0,
              "#0d0887"
             ],
             [
              0.1111111111111111,
              "#46039f"
             ],
             [
              0.2222222222222222,
              "#7201a8"
             ],
             [
              0.3333333333333333,
              "#9c179e"
             ],
             [
              0.4444444444444444,
              "#bd3786"
             ],
             [
              0.5555555555555556,
              "#d8576b"
             ],
             [
              0.6666666666666666,
              "#ed7953"
             ],
             [
              0.7777777777777778,
              "#fb9f3a"
             ],
             [
              0.8888888888888888,
              "#fdca26"
             ],
             [
              1,
              "#f0f921"
             ]
            ],
            "type": "heatmap"
           }
          ],
          "heatmapgl": [
           {
            "colorbar": {
             "outlinewidth": 0,
             "ticks": ""
            },
            "colorscale": [
             [
              0,
              "#0d0887"
             ],
             [
              0.1111111111111111,
              "#46039f"
             ],
             [
              0.2222222222222222,
              "#7201a8"
             ],
             [
              0.3333333333333333,
              "#9c179e"
             ],
             [
              0.4444444444444444,
              "#bd3786"
             ],
             [
              0.5555555555555556,
              "#d8576b"
             ],
             [
              0.6666666666666666,
              "#ed7953"
             ],
             [
              0.7777777777777778,
              "#fb9f3a"
             ],
             [
              0.8888888888888888,
              "#fdca26"
             ],
             [
              1,
              "#f0f921"
             ]
            ],
            "type": "heatmapgl"
           }
          ],
          "histogram": [
           {
            "marker": {
             "pattern": {
              "fillmode": "overlay",
              "size": 10,
              "solidity": 0.2
             }
            },
            "type": "histogram"
           }
          ],
          "histogram2d": [
           {
            "colorbar": {
             "outlinewidth": 0,
             "ticks": ""
            },
            "colorscale": [
             [
              0,
              "#0d0887"
             ],
             [
              0.1111111111111111,
              "#46039f"
             ],
             [
              0.2222222222222222,
              "#7201a8"
             ],
             [
              0.3333333333333333,
              "#9c179e"
             ],
             [
              0.4444444444444444,
              "#bd3786"
             ],
             [
              0.5555555555555556,
              "#d8576b"
             ],
             [
              0.6666666666666666,
              "#ed7953"
             ],
             [
              0.7777777777777778,
              "#fb9f3a"
             ],
             [
              0.8888888888888888,
              "#fdca26"
             ],
             [
              1,
              "#f0f921"
             ]
            ],
            "type": "histogram2d"
           }
          ],
          "histogram2dcontour": [
           {
            "colorbar": {
             "outlinewidth": 0,
             "ticks": ""
            },
            "colorscale": [
             [
              0,
              "#0d0887"
             ],
             [
              0.1111111111111111,
              "#46039f"
             ],
             [
              0.2222222222222222,
              "#7201a8"
             ],
             [
              0.3333333333333333,
              "#9c179e"
             ],
             [
              0.4444444444444444,
              "#bd3786"
             ],
             [
              0.5555555555555556,
              "#d8576b"
             ],
             [
              0.6666666666666666,
              "#ed7953"
             ],
             [
              0.7777777777777778,
              "#fb9f3a"
             ],
             [
              0.8888888888888888,
              "#fdca26"
             ],
             [
              1,
              "#f0f921"
             ]
            ],
            "type": "histogram2dcontour"
           }
          ],
          "mesh3d": [
           {
            "colorbar": {
             "outlinewidth": 0,
             "ticks": ""
            },
            "type": "mesh3d"
           }
          ],
          "parcoords": [
           {
            "line": {
             "colorbar": {
              "outlinewidth": 0,
              "ticks": ""
             }
            },
            "type": "parcoords"
           }
          ],
          "pie": [
           {
            "automargin": true,
            "type": "pie"
           }
          ],
          "scatter": [
           {
            "fillpattern": {
             "fillmode": "overlay",
             "size": 10,
             "solidity": 0.2
            },
            "type": "scatter"
           }
          ],
          "scatter3d": [
           {
            "line": {
             "colorbar": {
              "outlinewidth": 0,
              "ticks": ""
             }
            },
            "marker": {
             "colorbar": {
              "outlinewidth": 0,
              "ticks": ""
             }
            },
            "type": "scatter3d"
           }
          ],
          "scattercarpet": [
           {
            "marker": {
             "colorbar": {
              "outlinewidth": 0,
              "ticks": ""
             }
            },
            "type": "scattercarpet"
           }
          ],
          "scattergeo": [
           {
            "marker": {
             "colorbar": {
              "outlinewidth": 0,
              "ticks": ""
             }
            },
            "type": "scattergeo"
           }
          ],
          "scattergl": [
           {
            "marker": {
             "colorbar": {
              "outlinewidth": 0,
              "ticks": ""
             }
            },
            "type": "scattergl"
           }
          ],
          "scattermapbox": [
           {
            "marker": {
             "colorbar": {
              "outlinewidth": 0,
              "ticks": ""
             }
            },
            "type": "scattermapbox"
           }
          ],
          "scatterpolar": [
           {
            "marker": {
             "colorbar": {
              "outlinewidth": 0,
              "ticks": ""
             }
            },
            "type": "scatterpolar"
           }
          ],
          "scatterpolargl": [
           {
            "marker": {
             "colorbar": {
              "outlinewidth": 0,
              "ticks": ""
             }
            },
            "type": "scatterpolargl"
           }
          ],
          "scatterternary": [
           {
            "marker": {
             "colorbar": {
              "outlinewidth": 0,
              "ticks": ""
             }
            },
            "type": "scatterternary"
           }
          ],
          "surface": [
           {
            "colorbar": {
             "outlinewidth": 0,
             "ticks": ""
            },
            "colorscale": [
             [
              0,
              "#0d0887"
             ],
             [
              0.1111111111111111,
              "#46039f"
             ],
             [
              0.2222222222222222,
              "#7201a8"
             ],
             [
              0.3333333333333333,
              "#9c179e"
             ],
             [
              0.4444444444444444,
              "#bd3786"
             ],
             [
              0.5555555555555556,
              "#d8576b"
             ],
             [
              0.6666666666666666,
              "#ed7953"
             ],
             [
              0.7777777777777778,
              "#fb9f3a"
             ],
             [
              0.8888888888888888,
              "#fdca26"
             ],
             [
              1,
              "#f0f921"
             ]
            ],
            "type": "surface"
           }
          ],
          "table": [
           {
            "cells": {
             "fill": {
              "color": "#EBF0F8"
             },
             "line": {
              "color": "white"
             }
            },
            "header": {
             "fill": {
              "color": "#C8D4E3"
             },
             "line": {
              "color": "white"
             }
            },
            "type": "table"
           }
          ]
         },
         "layout": {
          "annotationdefaults": {
           "arrowcolor": "#2a3f5f",
           "arrowhead": 0,
           "arrowwidth": 1
          },
          "autotypenumbers": "strict",
          "coloraxis": {
           "colorbar": {
            "outlinewidth": 0,
            "ticks": ""
           }
          },
          "colorscale": {
           "diverging": [
            [
             0,
             "#8e0152"
            ],
            [
             0.1,
             "#c51b7d"
            ],
            [
             0.2,
             "#de77ae"
            ],
            [
             0.3,
             "#f1b6da"
            ],
            [
             0.4,
             "#fde0ef"
            ],
            [
             0.5,
             "#f7f7f7"
            ],
            [
             0.6,
             "#e6f5d0"
            ],
            [
             0.7,
             "#b8e186"
            ],
            [
             0.8,
             "#7fbc41"
            ],
            [
             0.9,
             "#4d9221"
            ],
            [
             1,
             "#276419"
            ]
           ],
           "sequential": [
            [
             0,
             "#0d0887"
            ],
            [
             0.1111111111111111,
             "#46039f"
            ],
            [
             0.2222222222222222,
             "#7201a8"
            ],
            [
             0.3333333333333333,
             "#9c179e"
            ],
            [
             0.4444444444444444,
             "#bd3786"
            ],
            [
             0.5555555555555556,
             "#d8576b"
            ],
            [
             0.6666666666666666,
             "#ed7953"
            ],
            [
             0.7777777777777778,
             "#fb9f3a"
            ],
            [
             0.8888888888888888,
             "#fdca26"
            ],
            [
             1,
             "#f0f921"
            ]
           ],
           "sequentialminus": [
            [
             0,
             "#0d0887"
            ],
            [
             0.1111111111111111,
             "#46039f"
            ],
            [
             0.2222222222222222,
             "#7201a8"
            ],
            [
             0.3333333333333333,
             "#9c179e"
            ],
            [
             0.4444444444444444,
             "#bd3786"
            ],
            [
             0.5555555555555556,
             "#d8576b"
            ],
            [
             0.6666666666666666,
             "#ed7953"
            ],
            [
             0.7777777777777778,
             "#fb9f3a"
            ],
            [
             0.8888888888888888,
             "#fdca26"
            ],
            [
             1,
             "#f0f921"
            ]
           ]
          },
          "colorway": [
           "#636efa",
           "#EF553B",
           "#00cc96",
           "#ab63fa",
           "#FFA15A",
           "#19d3f3",
           "#FF6692",
           "#B6E880",
           "#FF97FF",
           "#FECB52"
          ],
          "font": {
           "color": "#2a3f5f"
          },
          "geo": {
           "bgcolor": "white",
           "lakecolor": "white",
           "landcolor": "#E5ECF6",
           "showlakes": true,
           "showland": true,
           "subunitcolor": "white"
          },
          "hoverlabel": {
           "align": "left"
          },
          "hovermode": "closest",
          "mapbox": {
           "style": "light"
          },
          "paper_bgcolor": "white",
          "plot_bgcolor": "#E5ECF6",
          "polar": {
           "angularaxis": {
            "gridcolor": "white",
            "linecolor": "white",
            "ticks": ""
           },
           "bgcolor": "#E5ECF6",
           "radialaxis": {
            "gridcolor": "white",
            "linecolor": "white",
            "ticks": ""
           }
          },
          "scene": {
           "xaxis": {
            "backgroundcolor": "#E5ECF6",
            "gridcolor": "white",
            "gridwidth": 2,
            "linecolor": "white",
            "showbackground": true,
            "ticks": "",
            "zerolinecolor": "white"
           },
           "yaxis": {
            "backgroundcolor": "#E5ECF6",
            "gridcolor": "white",
            "gridwidth": 2,
            "linecolor": "white",
            "showbackground": true,
            "ticks": "",
            "zerolinecolor": "white"
           },
           "zaxis": {
            "backgroundcolor": "#E5ECF6",
            "gridcolor": "white",
            "gridwidth": 2,
            "linecolor": "white",
            "showbackground": true,
            "ticks": "",
            "zerolinecolor": "white"
           }
          },
          "shapedefaults": {
           "line": {
            "color": "#2a3f5f"
           }
          },
          "ternary": {
           "aaxis": {
            "gridcolor": "white",
            "linecolor": "white",
            "ticks": ""
           },
           "baxis": {
            "gridcolor": "white",
            "linecolor": "white",
            "ticks": ""
           },
           "bgcolor": "#E5ECF6",
           "caxis": {
            "gridcolor": "white",
            "linecolor": "white",
            "ticks": ""
           }
          },
          "title": {
           "x": 0.05
          },
          "xaxis": {
           "automargin": true,
           "gridcolor": "white",
           "linecolor": "white",
           "ticks": "",
           "title": {
            "standoff": 15
           },
           "zerolinecolor": "white",
           "zerolinewidth": 2
          },
          "yaxis": {
           "automargin": true,
           "gridcolor": "white",
           "linecolor": "white",
           "ticks": "",
           "title": {
            "standoff": 15
           },
           "zerolinecolor": "white",
           "zerolinewidth": 2
          }
         }
        },
        "title": {
         "text": "treemap column: groups"
        }
       }
      }
     },
     "metadata": {},
     "output_type": "display_data"
    }
   ],
   "source": [
    "colonnes_a_travailler = ['ecoscore_tags', 'ecoscore_score', 'countries', 'labels_note', 'groups']  \n",
    "df = load_jsonl_to_dataframe(file_path)\n",
    "for column in colonnes_a_travailler:\n",
    "    create_treemap_for_column(df, column)"
   ]
  },
  {
   "cell_type": "code",
   "execution_count": 18,
   "metadata": {},
   "outputs": [],
   "source": [
    "file_path_csv = '/home/carolus/Documents/school/green_ia/data/05_data/05_validation_data.csv'\n",
    "df_csv = pd.read_csv(file_path_csv)"
   ]
  },
  {
   "cell_type": "code",
   "execution_count": 19,
   "metadata": {},
   "outputs": [
    {
     "data": {
      "text/html": [
       "<div>\n",
       "<style scoped>\n",
       "    .dataframe tbody tr th:only-of-type {\n",
       "        vertical-align: middle;\n",
       "    }\n",
       "\n",
       "    .dataframe tbody tr th {\n",
       "        vertical-align: top;\n",
       "    }\n",
       "\n",
       "    .dataframe thead th {\n",
       "        text-align: right;\n",
       "    }\n",
       "</style>\n",
       "<table border=\"1\" class=\"dataframe\">\n",
       "  <thead>\n",
       "    <tr style=\"text-align: right;\">\n",
       "      <th></th>\n",
       "      <th>groups</th>\n",
       "      <th>packaging</th>\n",
       "      <th>name</th>\n",
       "      <th>ecoscore_tags</th>\n",
       "      <th>ecoscore_score</th>\n",
       "      <th>countries</th>\n",
       "      <th>ingredients</th>\n",
       "      <th>categories</th>\n",
       "      <th>labels_note</th>\n",
       "      <th>predictions</th>\n",
       "    </tr>\n",
       "  </thead>\n",
       "  <tbody>\n",
       "    <tr>\n",
       "      <th>0</th>\n",
       "      <td>0.000000</td>\n",
       "      <td>boîte, carton, surgelé, barquette, etui en car...</td>\n",
       "      <td>cheesecake au citron</td>\n",
       "      <td>b</td>\n",
       "      <td>62</td>\n",
       "      <td>60.0</td>\n",
       "      <td>cream-cheese, dairy, cheese, sugar, added-suga...</td>\n",
       "      <td>snacks, desserts, sweet-snacks, frozen-foods, ...</td>\n",
       "      <td>0.333333</td>\n",
       "      <td>64.448891</td>\n",
       "    </tr>\n",
       "    <tr>\n",
       "      <th>1</th>\n",
       "      <td>0.444444</td>\n",
       "      <td>bocal en verre</td>\n",
       "      <td>nescafe gold decaf</td>\n",
       "      <td>e</td>\n",
       "      <td>0</td>\n",
       "      <td>17.0</td>\n",
       "      <td>empty</td>\n",
       "      <td>plant-based-foods-and-beverages, beverages, pl...</td>\n",
       "      <td>0.000000</td>\n",
       "      <td>-2.446124</td>\n",
       "    </tr>\n",
       "    <tr>\n",
       "      <th>2</th>\n",
       "      <td>0.777778</td>\n",
       "      <td>plastic</td>\n",
       "      <td>vegan drink vanille</td>\n",
       "      <td>c</td>\n",
       "      <td>52</td>\n",
       "      <td>64.0</td>\n",
       "      <td>water, oat-base, sugar, added-sugar, disacchar...</td>\n",
       "      <td>plant-based-foods-and-beverages, beverages, pl...</td>\n",
       "      <td>0.444444</td>\n",
       "      <td>57.680958</td>\n",
       "    </tr>\n",
       "    <tr>\n",
       "      <th>3</th>\n",
       "      <td>0.111111</td>\n",
       "      <td>empty</td>\n",
       "      <td>aceite de oliva virgen extra</td>\n",
       "      <td>d</td>\n",
       "      <td>27</td>\n",
       "      <td>163.0</td>\n",
       "      <td>empty</td>\n",
       "      <td>plant-based-foods-and-beverages, plant-based-f...</td>\n",
       "      <td>0.000000</td>\n",
       "      <td>27.488888</td>\n",
       "    </tr>\n",
       "    <tr>\n",
       "      <th>4</th>\n",
       "      <td>0.555556</td>\n",
       "      <td>empty</td>\n",
       "      <td>grissini croccanti, olio extravergine d'oliva</td>\n",
       "      <td>b</td>\n",
       "      <td>74</td>\n",
       "      <td>60.0</td>\n",
       "      <td>extra-virgin-olive-oil, oil-and-fat, vegetable...</td>\n",
       "      <td>plant-based-foods-and-beverages, plant-based-f...</td>\n",
       "      <td>0.111111</td>\n",
       "      <td>73.921745</td>\n",
       "    </tr>\n",
       "    <tr>\n",
       "      <th>5</th>\n",
       "      <td>0.111111</td>\n",
       "      <td>papier, plaquette</td>\n",
       "      <td>beurre doux 82%mg</td>\n",
       "      <td>b</td>\n",
       "      <td>64</td>\n",
       "      <td>60.0</td>\n",
       "      <td>cream, dairy, ferment, milk</td>\n",
       "      <td>dairies, fats, spreads, spreadable-fats, anima...</td>\n",
       "      <td>0.666667</td>\n",
       "      <td>44.970097</td>\n",
       "    </tr>\n",
       "    <tr>\n",
       "      <th>6</th>\n",
       "      <td>0.666667</td>\n",
       "      <td>plastique, barquette, film en plastique</td>\n",
       "      <td>l'aiguillette de poulet</td>\n",
       "      <td>c</td>\n",
       "      <td>49</td>\n",
       "      <td>60.0</td>\n",
       "      <td>poultry, chicken, chicken-meat</td>\n",
       "      <td>meats-and-their-products, meats, chicken-and-i...</td>\n",
       "      <td>0.333333</td>\n",
       "      <td>48.329090</td>\n",
       "    </tr>\n",
       "    <tr>\n",
       "      <th>7</th>\n",
       "      <td>0.444444</td>\n",
       "      <td>empty</td>\n",
       "      <td>thé matcha</td>\n",
       "      <td>b</td>\n",
       "      <td>79</td>\n",
       "      <td>60.0</td>\n",
       "      <td>empty</td>\n",
       "      <td>plant-based-foods-and-beverages, beverages, ho...</td>\n",
       "      <td>0.222222</td>\n",
       "      <td>80.835548</td>\n",
       "    </tr>\n",
       "    <tr>\n",
       "      <th>8</th>\n",
       "      <td>0.444444</td>\n",
       "      <td>busta</td>\n",
       "      <td>santa lucia mozzarella light tris</td>\n",
       "      <td>c</td>\n",
       "      <td>55</td>\n",
       "      <td>82.0</td>\n",
       "      <td>semi-skimmed-milk, dairy, milk, salt, rennet, ...</td>\n",
       "      <td>dairies, fermented-foods, fermented-milk-produ...</td>\n",
       "      <td>0.111111</td>\n",
       "      <td>64.820564</td>\n",
       "    </tr>\n",
       "    <tr>\n",
       "      <th>9</th>\n",
       "      <td>0.111111</td>\n",
       "      <td>empty</td>\n",
       "      <td>passata di pomodoro extra raccolto a mano</td>\n",
       "      <td>b</td>\n",
       "      <td>72</td>\n",
       "      <td>82.0</td>\n",
       "      <td>empty</td>\n",
       "      <td>condiments, sauces, tomato-sauces</td>\n",
       "      <td>0.000000</td>\n",
       "      <td>73.577599</td>\n",
       "    </tr>\n",
       "    <tr>\n",
       "      <th>10</th>\n",
       "      <td>0.555556</td>\n",
       "      <td>empty</td>\n",
       "      <td>flocons d'avoine bio</td>\n",
       "      <td>b</td>\n",
       "      <td>62</td>\n",
       "      <td>60.0</td>\n",
       "      <td>empty</td>\n",
       "      <td>plant-based-foods-and-beverages, plant-based-f...</td>\n",
       "      <td>0.111111</td>\n",
       "      <td>61.009323</td>\n",
       "    </tr>\n",
       "    <tr>\n",
       "      <th>11</th>\n",
       "      <td>0.444444</td>\n",
       "      <td>papier,pappe,karton</td>\n",
       "      <td>blue note</td>\n",
       "      <td>c</td>\n",
       "      <td>48</td>\n",
       "      <td>64.0</td>\n",
       "      <td>milk, dairy, cream, salt, lactic-ferments, fer...</td>\n",
       "      <td>dairies, fermented-foods, fermented-milk-produ...</td>\n",
       "      <td>0.000000</td>\n",
       "      <td>58.444698</td>\n",
       "    </tr>\n",
       "    <tr>\n",
       "      <th>12</th>\n",
       "      <td>0.000000</td>\n",
       "      <td>empty</td>\n",
       "      <td>bio ovocná oplatka višeň-jogurt</td>\n",
       "      <td>c</td>\n",
       "      <td>49</td>\n",
       "      <td>60.0</td>\n",
       "      <td>empty</td>\n",
       "      <td>snacks, sweet-snacks, biscuits-and-cakes, bisc...</td>\n",
       "      <td>0.000000</td>\n",
       "      <td>49.172405</td>\n",
       "    </tr>\n",
       "    <tr>\n",
       "      <th>13</th>\n",
       "      <td>0.444444</td>\n",
       "      <td>empty</td>\n",
       "      <td>reblochon de savoie</td>\n",
       "      <td>c</td>\n",
       "      <td>57</td>\n",
       "      <td>60.0</td>\n",
       "      <td>empty</td>\n",
       "      <td>dairies, fermented-foods, fermented-milk-produ...</td>\n",
       "      <td>0.000000</td>\n",
       "      <td>48.690350</td>\n",
       "    </tr>\n",
       "    <tr>\n",
       "      <th>14</th>\n",
       "      <td>0.555556</td>\n",
       "      <td>plastique, sachet</td>\n",
       "      <td>le pain au seigle</td>\n",
       "      <td>b</td>\n",
       "      <td>79</td>\n",
       "      <td>60.0</td>\n",
       "      <td>wheat-flour, cereal, flour, wheat, cereal-flou...</td>\n",
       "      <td>plant-based-foods-and-beverages, plant-based-f...</td>\n",
       "      <td>0.444444</td>\n",
       "      <td>81.977623</td>\n",
       "    </tr>\n",
       "    <tr>\n",
       "      <th>15</th>\n",
       "      <td>0.000000</td>\n",
       "      <td>empty</td>\n",
       "      <td>soja sur lit de fraises</td>\n",
       "      <td>b</td>\n",
       "      <td>79</td>\n",
       "      <td>60.0</td>\n",
       "      <td>soy-base, sugar, added-sugar, disaccharide, st...</td>\n",
       "      <td>plant-based-foods-and-beverages, fermented-foo...</td>\n",
       "      <td>0.000000</td>\n",
       "      <td>76.483315</td>\n",
       "    </tr>\n",
       "    <tr>\n",
       "      <th>16</th>\n",
       "      <td>0.444444</td>\n",
       "      <td>tetra pak</td>\n",
       "      <td>ไมโล สูตร น้ำตาลน้อยกว่า 30%</td>\n",
       "      <td>c</td>\n",
       "      <td>40</td>\n",
       "      <td>173.0</td>\n",
       "      <td>empty</td>\n",
       "      <td>beverages, dairies, dairy-drinks, flavoured-mi...</td>\n",
       "      <td>0.222222</td>\n",
       "      <td>38.193966</td>\n",
       "    </tr>\n",
       "    <tr>\n",
       "      <th>17</th>\n",
       "      <td>0.222222</td>\n",
       "      <td>empty</td>\n",
       "      <td>chicken tikka and mango chutney sandwich</td>\n",
       "      <td>d</td>\n",
       "      <td>36</td>\n",
       "      <td>185.0</td>\n",
       "      <td>empty</td>\n",
       "      <td>sandwiches, poultry-sandwiches, chicken-sandwi...</td>\n",
       "      <td>0.000000</td>\n",
       "      <td>39.226284</td>\n",
       "    </tr>\n",
       "    <tr>\n",
       "      <th>18</th>\n",
       "      <td>0.111111</td>\n",
       "      <td>tarrina</td>\n",
       "      <td>mantequilla con aceite vegetal</td>\n",
       "      <td>d</td>\n",
       "      <td>24</td>\n",
       "      <td>60.0</td>\n",
       "      <td>butter, dairy, colza-oil, oil-and-fat, vegetab...</td>\n",
       "      <td>dairies, fats, spreads, spreadable-fats, anima...</td>\n",
       "      <td>0.000000</td>\n",
       "      <td>28.362509</td>\n",
       "    </tr>\n",
       "    <tr>\n",
       "      <th>19</th>\n",
       "      <td>0.333333</td>\n",
       "      <td>empty</td>\n",
       "      <td>no salt added whole tomatoes</td>\n",
       "      <td>b</td>\n",
       "      <td>77</td>\n",
       "      <td>186.0</td>\n",
       "      <td>tomato, vegetable, fruit-vegetable, tomato-jui...</td>\n",
       "      <td>plant-based-foods-and-beverages, plant-based-f...</td>\n",
       "      <td>0.000000</td>\n",
       "      <td>78.443848</td>\n",
       "    </tr>\n",
       "    <tr>\n",
       "      <th>20</th>\n",
       "      <td>0.666667</td>\n",
       "      <td>empty</td>\n",
       "      <td>jambon sec de savoie</td>\n",
       "      <td>e</td>\n",
       "      <td>0</td>\n",
       "      <td>60.0</td>\n",
       "      <td>empty</td>\n",
       "      <td>meats-and-their-products, meats, prepared-meat...</td>\n",
       "      <td>0.000000</td>\n",
       "      <td>-0.273112</td>\n",
       "    </tr>\n",
       "    <tr>\n",
       "      <th>21</th>\n",
       "      <td>0.666667</td>\n",
       "      <td>empty</td>\n",
       "      <td>brisure de saumon fumé</td>\n",
       "      <td>e</td>\n",
       "      <td>9</td>\n",
       "      <td>60.0</td>\n",
       "      <td>empty</td>\n",
       "      <td>seafood, fishes-and-their-products, fishes, fa...</td>\n",
       "      <td>0.000000</td>\n",
       "      <td>5.104557</td>\n",
       "    </tr>\n",
       "    <tr>\n",
       "      <th>22</th>\n",
       "      <td>0.444444</td>\n",
       "      <td>empty</td>\n",
       "      <td>roquefort</td>\n",
       "      <td>c</td>\n",
       "      <td>43</td>\n",
       "      <td>60.0</td>\n",
       "      <td>empty</td>\n",
       "      <td>dairies, fermented-foods, fermented-milk-produ...</td>\n",
       "      <td>0.111111</td>\n",
       "      <td>38.868008</td>\n",
       "    </tr>\n",
       "    <tr>\n",
       "      <th>23</th>\n",
       "      <td>1.000000</td>\n",
       "      <td>plastique, sachet</td>\n",
       "      <td>chips saveur moutarde pickles</td>\n",
       "      <td>b</td>\n",
       "      <td>72</td>\n",
       "      <td>60.0</td>\n",
       "      <td>potato, vegetable, root-vegetable, tuber, sunf...</td>\n",
       "      <td>plant-based-foods-and-beverages, plant-based-f...</td>\n",
       "      <td>0.000000</td>\n",
       "      <td>72.009697</td>\n",
       "    </tr>\n",
       "    <tr>\n",
       "      <th>24</th>\n",
       "      <td>0.444444</td>\n",
       "      <td>empty</td>\n",
       "      <td>fruit popsicle</td>\n",
       "      <td>b</td>\n",
       "      <td>74</td>\n",
       "      <td>186.0</td>\n",
       "      <td>empty</td>\n",
       "      <td>desserts, frozen-foods, frozen-desserts, ice-pops</td>\n",
       "      <td>0.000000</td>\n",
       "      <td>73.486671</td>\n",
       "    </tr>\n",
       "    <tr>\n",
       "      <th>25</th>\n",
       "      <td>0.000000</td>\n",
       "      <td>metal,paper,recyclable metals,aluminium,box,fi...</td>\n",
       "      <td>schweizer edel-zartbitter schokolade</td>\n",
       "      <td>d</td>\n",
       "      <td>39</td>\n",
       "      <td>64.0</td>\n",
       "      <td>cocoa-paste, plant, cocoa, cocoa-butter, sugar...</td>\n",
       "      <td>snacks, sweet-snacks, cocoa-and-its-products, ...</td>\n",
       "      <td>0.555556</td>\n",
       "      <td>44.917179</td>\n",
       "    </tr>\n",
       "    <tr>\n",
       "      <th>26</th>\n",
       "      <td>0.666667</td>\n",
       "      <td>empty</td>\n",
       "      <td>le poulet rôti</td>\n",
       "      <td>d</td>\n",
       "      <td>21</td>\n",
       "      <td>60.0</td>\n",
       "      <td>empty</td>\n",
       "      <td>meats-and-their-products, meats, chicken-and-i...</td>\n",
       "      <td>0.111111</td>\n",
       "      <td>22.225376</td>\n",
       "    </tr>\n",
       "    <tr>\n",
       "      <th>27</th>\n",
       "      <td>0.000000</td>\n",
       "      <td>empty</td>\n",
       "      <td>miele millefiori</td>\n",
       "      <td>b</td>\n",
       "      <td>72</td>\n",
       "      <td>82.0</td>\n",
       "      <td>empty</td>\n",
       "      <td>breakfasts, spreads, sweet-spreads, bee-produc...</td>\n",
       "      <td>0.000000</td>\n",
       "      <td>72.093895</td>\n",
       "    </tr>\n",
       "    <tr>\n",
       "      <th>28</th>\n",
       "      <td>0.444444</td>\n",
       "      <td>empty</td>\n",
       "      <td>reblochon de savoie</td>\n",
       "      <td>c</td>\n",
       "      <td>57</td>\n",
       "      <td>60.0</td>\n",
       "      <td>empty</td>\n",
       "      <td>dairies, fermented-foods, fermented-milk-produ...</td>\n",
       "      <td>0.111111</td>\n",
       "      <td>50.235035</td>\n",
       "    </tr>\n",
       "    <tr>\n",
       "      <th>29</th>\n",
       "      <td>0.444444</td>\n",
       "      <td>empty</td>\n",
       "      <td>crystal farms, garlic jack, monterey jack chee...</td>\n",
       "      <td>d</td>\n",
       "      <td>34</td>\n",
       "      <td>186.0</td>\n",
       "      <td>garlic-jack-cheese, potato-starch, starch, e46...</td>\n",
       "      <td>dairies, fermented-foods, fermented-milk-produ...</td>\n",
       "      <td>0.000000</td>\n",
       "      <td>33.080311</td>\n",
       "    </tr>\n",
       "    <tr>\n",
       "      <th>30</th>\n",
       "      <td>1.000000</td>\n",
       "      <td>empty</td>\n",
       "      <td>mini blinis bio</td>\n",
       "      <td>b</td>\n",
       "      <td>79</td>\n",
       "      <td>60.0</td>\n",
       "      <td>wheat-flour, cereal, flour, wheat, cereal-flou...</td>\n",
       "      <td>snacks, salty-snacks, appetizers</td>\n",
       "      <td>0.444444</td>\n",
       "      <td>78.991829</td>\n",
       "    </tr>\n",
       "    <tr>\n",
       "      <th>31</th>\n",
       "      <td>0.444444</td>\n",
       "      <td>plastique, pot, frais</td>\n",
       "      <td>fromage blanc lisse 0%</td>\n",
       "      <td>b</td>\n",
       "      <td>79</td>\n",
       "      <td>60.0</td>\n",
       "      <td>milk, dairy, rennet, enzyme, coagulating-enzym...</td>\n",
       "      <td>dairies, fermented-foods, fermented-milk-produ...</td>\n",
       "      <td>0.444444</td>\n",
       "      <td>79.049911</td>\n",
       "    </tr>\n",
       "    <tr>\n",
       "      <th>32</th>\n",
       "      <td>0.222222</td>\n",
       "      <td>empty</td>\n",
       "      <td>parmentier de canard, patates douces, carottes</td>\n",
       "      <td>d</td>\n",
       "      <td>32</td>\n",
       "      <td>60.0</td>\n",
       "      <td>sweet-potato, vegetable, root-vegetable, tuber...</td>\n",
       "      <td>meats-and-their-products, meals, meals-with-me...</td>\n",
       "      <td>0.000000</td>\n",
       "      <td>30.832397</td>\n",
       "    </tr>\n",
       "    <tr>\n",
       "      <th>33</th>\n",
       "      <td>0.666667</td>\n",
       "      <td>empty</td>\n",
       "      <td>cuisse de dinde</td>\n",
       "      <td>d</td>\n",
       "      <td>39</td>\n",
       "      <td>60.0</td>\n",
       "      <td>empty</td>\n",
       "      <td>meats-and-their-products, meats, poultries, tu...</td>\n",
       "      <td>0.333333</td>\n",
       "      <td>38.930950</td>\n",
       "    </tr>\n",
       "    <tr>\n",
       "      <th>34</th>\n",
       "      <td>0.666667</td>\n",
       "      <td>empty</td>\n",
       "      <td>filet de poulet marinés thym citron</td>\n",
       "      <td>d</td>\n",
       "      <td>21</td>\n",
       "      <td>80.0</td>\n",
       "      <td>empty</td>\n",
       "      <td>meats-and-their-products, meats, chicken-and-i...</td>\n",
       "      <td>0.000000</td>\n",
       "      <td>22.192650</td>\n",
       "    </tr>\n",
       "    <tr>\n",
       "      <th>35</th>\n",
       "      <td>0.444444</td>\n",
       "      <td>plastique, pot, réfrigéré</td>\n",
       "      <td>yaourts des pyrenees aux citrons (fabriqué a l...</td>\n",
       "      <td>b</td>\n",
       "      <td>69</td>\n",
       "      <td>60.0</td>\n",
       "      <td>semi-skimmed-milk, dairy, milk, sugar, added-s...</td>\n",
       "      <td>dairies, fermented-foods, fermented-milk-produ...</td>\n",
       "      <td>0.000000</td>\n",
       "      <td>71.657372</td>\n",
       "    </tr>\n",
       "    <tr>\n",
       "      <th>36</th>\n",
       "      <td>0.000000</td>\n",
       "      <td>empty</td>\n",
       "      <td>cramique carre</td>\n",
       "      <td>d</td>\n",
       "      <td>34</td>\n",
       "      <td>60.0</td>\n",
       "      <td>wheat-flour, cereal, flour, wheat, cereal-flou...</td>\n",
       "      <td>snacks, sweet-snacks, sweet-pastries-and-pies,...</td>\n",
       "      <td>0.000000</td>\n",
       "      <td>36.486694</td>\n",
       "    </tr>\n",
       "    <tr>\n",
       "      <th>37</th>\n",
       "      <td>0.555556</td>\n",
       "      <td>carton, etui en carton, film en plastique, sac...</td>\n",
       "      <td>grilletine blé complet x12</td>\n",
       "      <td>b</td>\n",
       "      <td>65</td>\n",
       "      <td>60.0</td>\n",
       "      <td>wheat-flour, cereal, flour, wheat, cereal-flou...</td>\n",
       "      <td>plant-based-foods-and-beverages, plant-based-f...</td>\n",
       "      <td>0.333333</td>\n",
       "      <td>52.428783</td>\n",
       "    </tr>\n",
       "    <tr>\n",
       "      <th>38</th>\n",
       "      <td>0.777778</td>\n",
       "      <td>empty</td>\n",
       "      <td>kiwi+limette</td>\n",
       "      <td>c</td>\n",
       "      <td>44</td>\n",
       "      <td>64.0</td>\n",
       "      <td>water, sugar, added-sugar, disaccharide, acid,...</td>\n",
       "      <td>plant-based-foods-and-beverages, beverages, pl...</td>\n",
       "      <td>0.000000</td>\n",
       "      <td>47.489651</td>\n",
       "    </tr>\n",
       "    <tr>\n",
       "      <th>39</th>\n",
       "      <td>0.000000</td>\n",
       "      <td>empty</td>\n",
       "      <td>fret</td>\n",
       "      <td>c</td>\n",
       "      <td>56</td>\n",
       "      <td>60.0</td>\n",
       "      <td>sugar, added-sugar, disaccharide, palm-fat, oi...</td>\n",
       "      <td>snacks, sweet-snacks, cocoa-and-its-products, ...</td>\n",
       "      <td>0.666667</td>\n",
       "      <td>55.976730</td>\n",
       "    </tr>\n",
       "    <tr>\n",
       "      <th>40</th>\n",
       "      <td>0.111111</td>\n",
       "      <td>empty</td>\n",
       "      <td>crème de vinaigre de cidre et miel</td>\n",
       "      <td>b</td>\n",
       "      <td>71</td>\n",
       "      <td>60.0</td>\n",
       "      <td>honey-from-the-gatinais, added-sugar, honey, h...</td>\n",
       "      <td>condiments, vinegars, glazes-with-vinegar, gro...</td>\n",
       "      <td>0.000000</td>\n",
       "      <td>75.193016</td>\n",
       "    </tr>\n",
       "    <tr>\n",
       "      <th>41</th>\n",
       "      <td>0.444444</td>\n",
       "      <td>empty</td>\n",
       "      <td>nata para montar</td>\n",
       "      <td>b</td>\n",
       "      <td>79</td>\n",
       "      <td>163.0</td>\n",
       "      <td>cream, dairy, stabiliser, milk, e460i, e460, e...</td>\n",
       "      <td>dairies, creams</td>\n",
       "      <td>0.222222</td>\n",
       "      <td>69.720985</td>\n",
       "    </tr>\n",
       "    <tr>\n",
       "      <th>42</th>\n",
       "      <td>0.333333</td>\n",
       "      <td>empty</td>\n",
       "      <td>compote pomme banane</td>\n",
       "      <td>b</td>\n",
       "      <td>76</td>\n",
       "      <td>60.0</td>\n",
       "      <td>empty</td>\n",
       "      <td>plant-based-foods-and-beverages, plant-based-f...</td>\n",
       "      <td>0.111111</td>\n",
       "      <td>77.715355</td>\n",
       "    </tr>\n",
       "    <tr>\n",
       "      <th>43</th>\n",
       "      <td>0.666667</td>\n",
       "      <td>empty</td>\n",
       "      <td>poulet blanc pac bridé nu 1,4kgx8</td>\n",
       "      <td>d</td>\n",
       "      <td>39</td>\n",
       "      <td>60.0</td>\n",
       "      <td>chicken, poultry</td>\n",
       "      <td>meats-and-their-products, meats, chicken-and-i...</td>\n",
       "      <td>0.000000</td>\n",
       "      <td>37.218239</td>\n",
       "    </tr>\n",
       "    <tr>\n",
       "      <th>44</th>\n",
       "      <td>0.000000</td>\n",
       "      <td>22 pap</td>\n",
       "      <td>sætres beste fine rugkjeks</td>\n",
       "      <td>b</td>\n",
       "      <td>63</td>\n",
       "      <td>129.0</td>\n",
       "      <td>wheat-flour, cereal, flour, wheat, cereal-flou...</td>\n",
       "      <td>snacks, sweet-snacks, biscuits-and-cakes, bisc...</td>\n",
       "      <td>0.000000</td>\n",
       "      <td>62.421829</td>\n",
       "    </tr>\n",
       "    <tr>\n",
       "      <th>45</th>\n",
       "      <td>0.666667</td>\n",
       "      <td>lata,lata de comida</td>\n",
       "      <td>atún en aceite de oliva</td>\n",
       "      <td>e</td>\n",
       "      <td>16</td>\n",
       "      <td>163.0</td>\n",
       "      <td>empty</td>\n",
       "      <td>seafood, fishes-and-their-products, canned-foo...</td>\n",
       "      <td>0.222222</td>\n",
       "      <td>20.038935</td>\n",
       "    </tr>\n",
       "    <tr>\n",
       "      <th>46</th>\n",
       "      <td>0.555556</td>\n",
       "      <td>empty</td>\n",
       "      <td>fette biscottate farro seminintegrale</td>\n",
       "      <td>b</td>\n",
       "      <td>76</td>\n",
       "      <td>82.0</td>\n",
       "      <td>empty</td>\n",
       "      <td>plant-based-foods-and-beverages, plant-based-f...</td>\n",
       "      <td>0.000000</td>\n",
       "      <td>75.955200</td>\n",
       "    </tr>\n",
       "    <tr>\n",
       "      <th>47</th>\n",
       "      <td>0.444444</td>\n",
       "      <td>plastic, box, pp</td>\n",
       "      <td>NaN</td>\n",
       "      <td>c</td>\n",
       "      <td>42</td>\n",
       "      <td>153.0</td>\n",
       "      <td>pasteurized-ultrafiltered-milk, kitchen-salt, ...</td>\n",
       "      <td>dairies, fermented-foods, fermented-milk-produ...</td>\n",
       "      <td>0.000000</td>\n",
       "      <td>39.626236</td>\n",
       "    </tr>\n",
       "    <tr>\n",
       "      <th>48</th>\n",
       "      <td>0.666667</td>\n",
       "      <td>empty</td>\n",
       "      <td>jambon de paris sans couenne</td>\n",
       "      <td>d</td>\n",
       "      <td>35</td>\n",
       "      <td>60.0</td>\n",
       "      <td>ham, animal, meat, pork, pork-meat, salt, dext...</td>\n",
       "      <td>meats-and-their-products, meats, prepared-meat...</td>\n",
       "      <td>0.444444</td>\n",
       "      <td>33.506596</td>\n",
       "    </tr>\n",
       "    <tr>\n",
       "      <th>49</th>\n",
       "      <td>0.444444</td>\n",
       "      <td>empty</td>\n",
       "      <td>levure de bière revivifiable 320 mg - 90 gél.</td>\n",
       "      <td>c</td>\n",
       "      <td>41</td>\n",
       "      <td>60.0</td>\n",
       "      <td>empty</td>\n",
       "      <td>food-additives, yeast</td>\n",
       "      <td>0.000000</td>\n",
       "      <td>40.998959</td>\n",
       "    </tr>\n",
       "    <tr>\n",
       "      <th>50</th>\n",
       "      <td>0.666667</td>\n",
       "      <td>empty</td>\n",
       "      <td>filet de dinde</td>\n",
       "      <td>d</td>\n",
       "      <td>22</td>\n",
       "      <td>17.0</td>\n",
       "      <td>empty</td>\n",
       "      <td>meats-and-their-products, meats, poultries, tu...</td>\n",
       "      <td>0.333333</td>\n",
       "      <td>31.245903</td>\n",
       "    </tr>\n",
       "    <tr>\n",
       "      <th>51</th>\n",
       "      <td>0.333333</td>\n",
       "      <td>empty</td>\n",
       "      <td>strawberries</td>\n",
       "      <td>b</td>\n",
       "      <td>75</td>\n",
       "      <td>186.0</td>\n",
       "      <td>empty</td>\n",
       "      <td>plant-based-foods-and-beverages, plant-based-f...</td>\n",
       "      <td>0.111111</td>\n",
       "      <td>76.027397</td>\n",
       "    </tr>\n",
       "    <tr>\n",
       "      <th>52</th>\n",
       "      <td>0.777778</td>\n",
       "      <td>empty</td>\n",
       "      <td>zweigelt lieblich</td>\n",
       "      <td>d</td>\n",
       "      <td>22</td>\n",
       "      <td>64.0</td>\n",
       "      <td>empty</td>\n",
       "      <td>beverages-and-beverages-preparations, beverage...</td>\n",
       "      <td>0.000000</td>\n",
       "      <td>23.905407</td>\n",
       "    </tr>\n",
       "    <tr>\n",
       "      <th>53</th>\n",
       "      <td>0.444444</td>\n",
       "      <td>empty</td>\n",
       "      <td>appenzeller fondue</td>\n",
       "      <td>c</td>\n",
       "      <td>51</td>\n",
       "      <td>168.0</td>\n",
       "      <td>swiss-cheese, dairy, cheese, white-wine, alcoh...</td>\n",
       "      <td>dairies, fermented-foods, fermented-milk-produ...</td>\n",
       "      <td>0.000000</td>\n",
       "      <td>45.661694</td>\n",
       "    </tr>\n",
       "    <tr>\n",
       "      <th>54</th>\n",
       "      <td>0.000000</td>\n",
       "      <td>empty</td>\n",
       "      <td>original iced circus animal cookies ounce</td>\n",
       "      <td>d</td>\n",
       "      <td>39</td>\n",
       "      <td>186.0</td>\n",
       "      <td>sugar, added-sugar, disaccharide, flour, hydro...</td>\n",
       "      <td>snacks, sweet-snacks, biscuits-and-cakes, bisc...</td>\n",
       "      <td>0.000000</td>\n",
       "      <td>40.432392</td>\n",
       "    </tr>\n",
       "    <tr>\n",
       "      <th>55</th>\n",
       "      <td>0.666667</td>\n",
       "      <td>empty</td>\n",
       "      <td>uova fresche biologiche</td>\n",
       "      <td>d</td>\n",
       "      <td>31</td>\n",
       "      <td>82.0</td>\n",
       "      <td>empty</td>\n",
       "      <td>farming-products, eggs, fresh-eggs</td>\n",
       "      <td>0.000000</td>\n",
       "      <td>38.650043</td>\n",
       "    </tr>\n",
       "    <tr>\n",
       "      <th>56</th>\n",
       "      <td>0.444444</td>\n",
       "      <td>muovi, pp, 81, 84</td>\n",
       "      <td>kaakaojuomajauhe</td>\n",
       "      <td>c</td>\n",
       "      <td>55</td>\n",
       "      <td>59.0</td>\n",
       "      <td>sugar, added-sugar, disaccharide, fat-reduced-...</td>\n",
       "      <td>beverages-and-beverages-preparations, beverage...</td>\n",
       "      <td>0.888889</td>\n",
       "      <td>54.024113</td>\n",
       "    </tr>\n",
       "    <tr>\n",
       "      <th>57</th>\n",
       "      <td>0.444444</td>\n",
       "      <td>empty</td>\n",
       "      <td>queso de mezcla tierno light</td>\n",
       "      <td>d</td>\n",
       "      <td>34</td>\n",
       "      <td>163.0</td>\n",
       "      <td>empty</td>\n",
       "      <td>dairies, fermented-foods, fermented-milk-produ...</td>\n",
       "      <td>0.111111</td>\n",
       "      <td>32.213142</td>\n",
       "    </tr>\n",
       "    <tr>\n",
       "      <th>58</th>\n",
       "      <td>0.000000</td>\n",
       "      <td>empty</td>\n",
       "      <td>bolacha relieve com mél e coco</td>\n",
       "      <td>d</td>\n",
       "      <td>39</td>\n",
       "      <td>140.0</td>\n",
       "      <td>wheat-flour, cereal, flour, wheat, cereal-flou...</td>\n",
       "      <td>snacks, sweet-snacks, biscuits-and-cakes, bisc...</td>\n",
       "      <td>0.000000</td>\n",
       "      <td>43.004639</td>\n",
       "    </tr>\n",
       "    <tr>\n",
       "      <th>59</th>\n",
       "      <td>0.555556</td>\n",
       "      <td>empty</td>\n",
       "      <td>rice krispies</td>\n",
       "      <td>d</td>\n",
       "      <td>25</td>\n",
       "      <td>32.0</td>\n",
       "      <td>empty</td>\n",
       "      <td>plant-based-foods-and-beverages, plant-based-f...</td>\n",
       "      <td>0.000000</td>\n",
       "      <td>20.388798</td>\n",
       "    </tr>\n",
       "  </tbody>\n",
       "</table>\n",
       "</div>"
      ],
      "text/plain": [
       "      groups                                          packaging  \\\n",
       "0   0.000000  boîte, carton, surgelé, barquette, etui en car...   \n",
       "1   0.444444                                     bocal en verre   \n",
       "2   0.777778                                            plastic   \n",
       "3   0.111111                                              empty   \n",
       "4   0.555556                                              empty   \n",
       "5   0.111111                                  papier, plaquette   \n",
       "6   0.666667            plastique, barquette, film en plastique   \n",
       "7   0.444444                                              empty   \n",
       "8   0.444444                                              busta   \n",
       "9   0.111111                                              empty   \n",
       "10  0.555556                                              empty   \n",
       "11  0.444444                                papier,pappe,karton   \n",
       "12  0.000000                                              empty   \n",
       "13  0.444444                                              empty   \n",
       "14  0.555556                                  plastique, sachet   \n",
       "15  0.000000                                              empty   \n",
       "16  0.444444                                          tetra pak   \n",
       "17  0.222222                                              empty   \n",
       "18  0.111111                                            tarrina   \n",
       "19  0.333333                                              empty   \n",
       "20  0.666667                                              empty   \n",
       "21  0.666667                                              empty   \n",
       "22  0.444444                                              empty   \n",
       "23  1.000000                                  plastique, sachet   \n",
       "24  0.444444                                              empty   \n",
       "25  0.000000  metal,paper,recyclable metals,aluminium,box,fi...   \n",
       "26  0.666667                                              empty   \n",
       "27  0.000000                                              empty   \n",
       "28  0.444444                                              empty   \n",
       "29  0.444444                                              empty   \n",
       "30  1.000000                                              empty   \n",
       "31  0.444444                              plastique, pot, frais   \n",
       "32  0.222222                                              empty   \n",
       "33  0.666667                                              empty   \n",
       "34  0.666667                                              empty   \n",
       "35  0.444444                          plastique, pot, réfrigéré   \n",
       "36  0.000000                                              empty   \n",
       "37  0.555556  carton, etui en carton, film en plastique, sac...   \n",
       "38  0.777778                                              empty   \n",
       "39  0.000000                                              empty   \n",
       "40  0.111111                                              empty   \n",
       "41  0.444444                                              empty   \n",
       "42  0.333333                                              empty   \n",
       "43  0.666667                                              empty   \n",
       "44  0.000000                                             22 pap   \n",
       "45  0.666667                                lata,lata de comida   \n",
       "46  0.555556                                              empty   \n",
       "47  0.444444                                   plastic, box, pp   \n",
       "48  0.666667                                              empty   \n",
       "49  0.444444                                              empty   \n",
       "50  0.666667                                              empty   \n",
       "51  0.333333                                              empty   \n",
       "52  0.777778                                              empty   \n",
       "53  0.444444                                              empty   \n",
       "54  0.000000                                              empty   \n",
       "55  0.666667                                              empty   \n",
       "56  0.444444                                  muovi, pp, 81, 84   \n",
       "57  0.444444                                              empty   \n",
       "58  0.000000                                              empty   \n",
       "59  0.555556                                              empty   \n",
       "\n",
       "                                                 name ecoscore_tags  \\\n",
       "0                                cheesecake au citron             b   \n",
       "1                                  nescafe gold decaf             e   \n",
       "2                                 vegan drink vanille             c   \n",
       "3                        aceite de oliva virgen extra             d   \n",
       "4       grissini croccanti, olio extravergine d'oliva             b   \n",
       "5                                   beurre doux 82%mg             b   \n",
       "6                             l'aiguillette de poulet             c   \n",
       "7                                          thé matcha             b   \n",
       "8                   santa lucia mozzarella light tris             c   \n",
       "9           passata di pomodoro extra raccolto a mano             b   \n",
       "10                               flocons d'avoine bio             b   \n",
       "11                                          blue note             c   \n",
       "12                    bio ovocná oplatka višeň-jogurt             c   \n",
       "13                                reblochon de savoie             c   \n",
       "14                                  le pain au seigle             b   \n",
       "15                            soja sur lit de fraises             b   \n",
       "16                       ไมโล สูตร น้ำตาลน้อยกว่า 30%             c   \n",
       "17           chicken tikka and mango chutney sandwich             d   \n",
       "18                     mantequilla con aceite vegetal             d   \n",
       "19                       no salt added whole tomatoes             b   \n",
       "20                               jambon sec de savoie             e   \n",
       "21                             brisure de saumon fumé             e   \n",
       "22                                          roquefort             c   \n",
       "23                      chips saveur moutarde pickles             b   \n",
       "24                                     fruit popsicle             b   \n",
       "25               schweizer edel-zartbitter schokolade             d   \n",
       "26                                     le poulet rôti             d   \n",
       "27                                   miele millefiori             b   \n",
       "28                                reblochon de savoie             c   \n",
       "29  crystal farms, garlic jack, monterey jack chee...             d   \n",
       "30                                    mini blinis bio             b   \n",
       "31                             fromage blanc lisse 0%             b   \n",
       "32     parmentier de canard, patates douces, carottes             d   \n",
       "33                                    cuisse de dinde             d   \n",
       "34                filet de poulet marinés thym citron             d   \n",
       "35  yaourts des pyrenees aux citrons (fabriqué a l...             b   \n",
       "36                                     cramique carre             d   \n",
       "37                         grilletine blé complet x12             b   \n",
       "38                                       kiwi+limette             c   \n",
       "39                                               fret             c   \n",
       "40                 crème de vinaigre de cidre et miel             b   \n",
       "41                                   nata para montar             b   \n",
       "42                               compote pomme banane             b   \n",
       "43                  poulet blanc pac bridé nu 1,4kgx8             d   \n",
       "44                         sætres beste fine rugkjeks             b   \n",
       "45                            atún en aceite de oliva             e   \n",
       "46              fette biscottate farro seminintegrale             b   \n",
       "47                                                NaN             c   \n",
       "48                       jambon de paris sans couenne             d   \n",
       "49      levure de bière revivifiable 320 mg - 90 gél.             c   \n",
       "50                                     filet de dinde             d   \n",
       "51                                       strawberries             b   \n",
       "52                                  zweigelt lieblich             d   \n",
       "53                                 appenzeller fondue             c   \n",
       "54          original iced circus animal cookies ounce             d   \n",
       "55                            uova fresche biologiche             d   \n",
       "56                                   kaakaojuomajauhe             c   \n",
       "57                       queso de mezcla tierno light             d   \n",
       "58                     bolacha relieve com mél e coco             d   \n",
       "59                                      rice krispies             d   \n",
       "\n",
       "    ecoscore_score  countries  \\\n",
       "0               62       60.0   \n",
       "1                0       17.0   \n",
       "2               52       64.0   \n",
       "3               27      163.0   \n",
       "4               74       60.0   \n",
       "5               64       60.0   \n",
       "6               49       60.0   \n",
       "7               79       60.0   \n",
       "8               55       82.0   \n",
       "9               72       82.0   \n",
       "10              62       60.0   \n",
       "11              48       64.0   \n",
       "12              49       60.0   \n",
       "13              57       60.0   \n",
       "14              79       60.0   \n",
       "15              79       60.0   \n",
       "16              40      173.0   \n",
       "17              36      185.0   \n",
       "18              24       60.0   \n",
       "19              77      186.0   \n",
       "20               0       60.0   \n",
       "21               9       60.0   \n",
       "22              43       60.0   \n",
       "23              72       60.0   \n",
       "24              74      186.0   \n",
       "25              39       64.0   \n",
       "26              21       60.0   \n",
       "27              72       82.0   \n",
       "28              57       60.0   \n",
       "29              34      186.0   \n",
       "30              79       60.0   \n",
       "31              79       60.0   \n",
       "32              32       60.0   \n",
       "33              39       60.0   \n",
       "34              21       80.0   \n",
       "35              69       60.0   \n",
       "36              34       60.0   \n",
       "37              65       60.0   \n",
       "38              44       64.0   \n",
       "39              56       60.0   \n",
       "40              71       60.0   \n",
       "41              79      163.0   \n",
       "42              76       60.0   \n",
       "43              39       60.0   \n",
       "44              63      129.0   \n",
       "45              16      163.0   \n",
       "46              76       82.0   \n",
       "47              42      153.0   \n",
       "48              35       60.0   \n",
       "49              41       60.0   \n",
       "50              22       17.0   \n",
       "51              75      186.0   \n",
       "52              22       64.0   \n",
       "53              51      168.0   \n",
       "54              39      186.0   \n",
       "55              31       82.0   \n",
       "56              55       59.0   \n",
       "57              34      163.0   \n",
       "58              39      140.0   \n",
       "59              25       32.0   \n",
       "\n",
       "                                          ingredients  \\\n",
       "0   cream-cheese, dairy, cheese, sugar, added-suga...   \n",
       "1                                               empty   \n",
       "2   water, oat-base, sugar, added-sugar, disacchar...   \n",
       "3                                               empty   \n",
       "4   extra-virgin-olive-oil, oil-and-fat, vegetable...   \n",
       "5                         cream, dairy, ferment, milk   \n",
       "6                      poultry, chicken, chicken-meat   \n",
       "7                                               empty   \n",
       "8   semi-skimmed-milk, dairy, milk, salt, rennet, ...   \n",
       "9                                               empty   \n",
       "10                                              empty   \n",
       "11  milk, dairy, cream, salt, lactic-ferments, fer...   \n",
       "12                                              empty   \n",
       "13                                              empty   \n",
       "14  wheat-flour, cereal, flour, wheat, cereal-flou...   \n",
       "15  soy-base, sugar, added-sugar, disaccharide, st...   \n",
       "16                                              empty   \n",
       "17                                              empty   \n",
       "18  butter, dairy, colza-oil, oil-and-fat, vegetab...   \n",
       "19  tomato, vegetable, fruit-vegetable, tomato-jui...   \n",
       "20                                              empty   \n",
       "21                                              empty   \n",
       "22                                              empty   \n",
       "23  potato, vegetable, root-vegetable, tuber, sunf...   \n",
       "24                                              empty   \n",
       "25  cocoa-paste, plant, cocoa, cocoa-butter, sugar...   \n",
       "26                                              empty   \n",
       "27                                              empty   \n",
       "28                                              empty   \n",
       "29  garlic-jack-cheese, potato-starch, starch, e46...   \n",
       "30  wheat-flour, cereal, flour, wheat, cereal-flou...   \n",
       "31  milk, dairy, rennet, enzyme, coagulating-enzym...   \n",
       "32  sweet-potato, vegetable, root-vegetable, tuber...   \n",
       "33                                              empty   \n",
       "34                                              empty   \n",
       "35  semi-skimmed-milk, dairy, milk, sugar, added-s...   \n",
       "36  wheat-flour, cereal, flour, wheat, cereal-flou...   \n",
       "37  wheat-flour, cereal, flour, wheat, cereal-flou...   \n",
       "38  water, sugar, added-sugar, disaccharide, acid,...   \n",
       "39  sugar, added-sugar, disaccharide, palm-fat, oi...   \n",
       "40  honey-from-the-gatinais, added-sugar, honey, h...   \n",
       "41  cream, dairy, stabiliser, milk, e460i, e460, e...   \n",
       "42                                              empty   \n",
       "43                                   chicken, poultry   \n",
       "44  wheat-flour, cereal, flour, wheat, cereal-flou...   \n",
       "45                                              empty   \n",
       "46                                              empty   \n",
       "47  pasteurized-ultrafiltered-milk, kitchen-salt, ...   \n",
       "48  ham, animal, meat, pork, pork-meat, salt, dext...   \n",
       "49                                              empty   \n",
       "50                                              empty   \n",
       "51                                              empty   \n",
       "52                                              empty   \n",
       "53  swiss-cheese, dairy, cheese, white-wine, alcoh...   \n",
       "54  sugar, added-sugar, disaccharide, flour, hydro...   \n",
       "55                                              empty   \n",
       "56  sugar, added-sugar, disaccharide, fat-reduced-...   \n",
       "57                                              empty   \n",
       "58  wheat-flour, cereal, flour, wheat, cereal-flou...   \n",
       "59                                              empty   \n",
       "\n",
       "                                           categories  labels_note  \\\n",
       "0   snacks, desserts, sweet-snacks, frozen-foods, ...     0.333333   \n",
       "1   plant-based-foods-and-beverages, beverages, pl...     0.000000   \n",
       "2   plant-based-foods-and-beverages, beverages, pl...     0.444444   \n",
       "3   plant-based-foods-and-beverages, plant-based-f...     0.000000   \n",
       "4   plant-based-foods-and-beverages, plant-based-f...     0.111111   \n",
       "5   dairies, fats, spreads, spreadable-fats, anima...     0.666667   \n",
       "6   meats-and-their-products, meats, chicken-and-i...     0.333333   \n",
       "7   plant-based-foods-and-beverages, beverages, ho...     0.222222   \n",
       "8   dairies, fermented-foods, fermented-milk-produ...     0.111111   \n",
       "9                   condiments, sauces, tomato-sauces     0.000000   \n",
       "10  plant-based-foods-and-beverages, plant-based-f...     0.111111   \n",
       "11  dairies, fermented-foods, fermented-milk-produ...     0.000000   \n",
       "12  snacks, sweet-snacks, biscuits-and-cakes, bisc...     0.000000   \n",
       "13  dairies, fermented-foods, fermented-milk-produ...     0.000000   \n",
       "14  plant-based-foods-and-beverages, plant-based-f...     0.444444   \n",
       "15  plant-based-foods-and-beverages, fermented-foo...     0.000000   \n",
       "16  beverages, dairies, dairy-drinks, flavoured-mi...     0.222222   \n",
       "17  sandwiches, poultry-sandwiches, chicken-sandwi...     0.000000   \n",
       "18  dairies, fats, spreads, spreadable-fats, anima...     0.000000   \n",
       "19  plant-based-foods-and-beverages, plant-based-f...     0.000000   \n",
       "20  meats-and-their-products, meats, prepared-meat...     0.000000   \n",
       "21  seafood, fishes-and-their-products, fishes, fa...     0.000000   \n",
       "22  dairies, fermented-foods, fermented-milk-produ...     0.111111   \n",
       "23  plant-based-foods-and-beverages, plant-based-f...     0.000000   \n",
       "24  desserts, frozen-foods, frozen-desserts, ice-pops     0.000000   \n",
       "25  snacks, sweet-snacks, cocoa-and-its-products, ...     0.555556   \n",
       "26  meats-and-their-products, meats, chicken-and-i...     0.111111   \n",
       "27  breakfasts, spreads, sweet-spreads, bee-produc...     0.000000   \n",
       "28  dairies, fermented-foods, fermented-milk-produ...     0.111111   \n",
       "29  dairies, fermented-foods, fermented-milk-produ...     0.000000   \n",
       "30                   snacks, salty-snacks, appetizers     0.444444   \n",
       "31  dairies, fermented-foods, fermented-milk-produ...     0.444444   \n",
       "32  meats-and-their-products, meals, meals-with-me...     0.000000   \n",
       "33  meats-and-their-products, meats, poultries, tu...     0.333333   \n",
       "34  meats-and-their-products, meats, chicken-and-i...     0.000000   \n",
       "35  dairies, fermented-foods, fermented-milk-produ...     0.000000   \n",
       "36  snacks, sweet-snacks, sweet-pastries-and-pies,...     0.000000   \n",
       "37  plant-based-foods-and-beverages, plant-based-f...     0.333333   \n",
       "38  plant-based-foods-and-beverages, beverages, pl...     0.000000   \n",
       "39  snacks, sweet-snacks, cocoa-and-its-products, ...     0.666667   \n",
       "40  condiments, vinegars, glazes-with-vinegar, gro...     0.000000   \n",
       "41                                    dairies, creams     0.222222   \n",
       "42  plant-based-foods-and-beverages, plant-based-f...     0.111111   \n",
       "43  meats-and-their-products, meats, chicken-and-i...     0.000000   \n",
       "44  snacks, sweet-snacks, biscuits-and-cakes, bisc...     0.000000   \n",
       "45  seafood, fishes-and-their-products, canned-foo...     0.222222   \n",
       "46  plant-based-foods-and-beverages, plant-based-f...     0.000000   \n",
       "47  dairies, fermented-foods, fermented-milk-produ...     0.000000   \n",
       "48  meats-and-their-products, meats, prepared-meat...     0.444444   \n",
       "49                              food-additives, yeast     0.000000   \n",
       "50  meats-and-their-products, meats, poultries, tu...     0.333333   \n",
       "51  plant-based-foods-and-beverages, plant-based-f...     0.111111   \n",
       "52  beverages-and-beverages-preparations, beverage...     0.000000   \n",
       "53  dairies, fermented-foods, fermented-milk-produ...     0.000000   \n",
       "54  snacks, sweet-snacks, biscuits-and-cakes, bisc...     0.000000   \n",
       "55                 farming-products, eggs, fresh-eggs     0.000000   \n",
       "56  beverages-and-beverages-preparations, beverage...     0.888889   \n",
       "57  dairies, fermented-foods, fermented-milk-produ...     0.111111   \n",
       "58  snacks, sweet-snacks, biscuits-and-cakes, bisc...     0.000000   \n",
       "59  plant-based-foods-and-beverages, plant-based-f...     0.000000   \n",
       "\n",
       "    predictions  \n",
       "0     64.448891  \n",
       "1     -2.446124  \n",
       "2     57.680958  \n",
       "3     27.488888  \n",
       "4     73.921745  \n",
       "5     44.970097  \n",
       "6     48.329090  \n",
       "7     80.835548  \n",
       "8     64.820564  \n",
       "9     73.577599  \n",
       "10    61.009323  \n",
       "11    58.444698  \n",
       "12    49.172405  \n",
       "13    48.690350  \n",
       "14    81.977623  \n",
       "15    76.483315  \n",
       "16    38.193966  \n",
       "17    39.226284  \n",
       "18    28.362509  \n",
       "19    78.443848  \n",
       "20    -0.273112  \n",
       "21     5.104557  \n",
       "22    38.868008  \n",
       "23    72.009697  \n",
       "24    73.486671  \n",
       "25    44.917179  \n",
       "26    22.225376  \n",
       "27    72.093895  \n",
       "28    50.235035  \n",
       "29    33.080311  \n",
       "30    78.991829  \n",
       "31    79.049911  \n",
       "32    30.832397  \n",
       "33    38.930950  \n",
       "34    22.192650  \n",
       "35    71.657372  \n",
       "36    36.486694  \n",
       "37    52.428783  \n",
       "38    47.489651  \n",
       "39    55.976730  \n",
       "40    75.193016  \n",
       "41    69.720985  \n",
       "42    77.715355  \n",
       "43    37.218239  \n",
       "44    62.421829  \n",
       "45    20.038935  \n",
       "46    75.955200  \n",
       "47    39.626236  \n",
       "48    33.506596  \n",
       "49    40.998959  \n",
       "50    31.245903  \n",
       "51    76.027397  \n",
       "52    23.905407  \n",
       "53    45.661694  \n",
       "54    40.432392  \n",
       "55    38.650043  \n",
       "56    54.024113  \n",
       "57    32.213142  \n",
       "58    43.004639  \n",
       "59    20.388798  "
      ]
     },
     "execution_count": 19,
     "metadata": {},
     "output_type": "execute_result"
    }
   ],
   "source": [
    "df_csv.head(60)"
   ]
  },
  {
   "cell_type": "code",
   "execution_count": 30,
   "metadata": {},
   "outputs": [
    {
     "name": "stdout",
     "output_type": "stream",
     "text": [
      "Écart maximum: 29.152313232421875\n",
      "Écart minimum: -56.77560806274414\n",
      "Écart moyen: 0.0012149977439266852\n",
      "Écart médian: 0.0021228790283203125\n",
      "poucentage lignes écart supérieur à 2% : 50.96618357487923%\n"
     ]
    }
   ],
   "source": [
    "df_csv['difference'] = df_csv['ecoscore_score'] - df_csv['predictions']\n",
    "max_diff = df_csv['difference'].max()\n",
    "min_diff = df_csv['difference'].min()\n",
    "mean_diff = df_csv['difference'].mean()  \n",
    "median_diff = df_csv['difference'].median()  \n",
    "total_rows = df_csv.shape[0]\n",
    "df_csv['difference'] = df_csv['ecoscore_score'] - df_csv['predictions']\n",
    "count_greater_than_2 = (df_csv['difference'].abs() > 2).sum()\n",
    "percentage = (count_greater_than_2 / total_rows) * 100\n",
    "\n",
    "print(f\"Écart maximum: {max_diff}\")\n",
    "print(f\"Écart minimum: {min_diff}\")\n",
    "print(f\"Écart moyen: {mean_diff}\")\n",
    "print(f\"Écart médian: {median_diff}\")\n",
    "print(f\"poucentage lignes écart supérieur à 2% : {percentage}%\")"
   ]
  },
  {
   "cell_type": "code",
   "execution_count": null,
   "metadata": {},
   "outputs": [],
   "source": []
  }
 ],
 "metadata": {
  "kernelspec": {
   "display_name": "greenIa",
   "language": "python",
   "name": "python3"
  },
  "language_info": {
   "codemirror_mode": {
    "name": "ipython",
    "version": 3
   },
   "file_extension": ".py",
   "mimetype": "text/x-python",
   "name": "python",
   "nbconvert_exporter": "python",
   "pygments_lexer": "ipython3",
   "version": "3.9.18"
  }
 },
 "nbformat": 4,
 "nbformat_minor": 2
}
