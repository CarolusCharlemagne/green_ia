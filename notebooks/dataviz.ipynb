{
 "cells": [
  {
   "cell_type": "code",
   "execution_count": 1,
   "metadata": {},
   "outputs": [],
   "source": [
    "import json\n",
    "import random\n",
    "import pandas as pd\n",
    "import jsonlines\n",
    "import warnings\n",
    "import plotly.graph_objects as go\n",
    "\n",
    "pd.set_option('display.max_rows', 100)\n",
    "warnings.filterwarnings(\"ignore\", category=pd.errors.DtypeWarning)"
   ]
  },
  {
   "cell_type": "code",
   "execution_count": 2,
   "metadata": {},
   "outputs": [
    {
     "name": "stderr",
     "output_type": "stream",
     "text": [
      "2024-08-26 21:30:50.165589: I tensorflow/core/platform/cpu_feature_guard.cc:193] This TensorFlow binary is optimized with oneAPI Deep Neural Network Library (oneDNN) to use the following CPU instructions in performance-critical operations:  SSE4.1 SSE4.2 AVX AVX2 AVX_VNNI FMA\n",
      "To enable them in other operations, rebuild TensorFlow with the appropriate compiler flags.\n",
      "2024-08-26 21:30:50.192899: I tensorflow/core/util/port.cc:104] oneDNN custom operations are on. You may see slightly different numerical results due to floating-point round-off errors from different computation orders. To turn them off, set the environment variable `TF_ENABLE_ONEDNN_OPTS=0`.\n"
     ]
    },
    {
     "name": "stdout",
     "output_type": "stream",
     "text": [
      "ERROR\n"
     ]
    }
   ],
   "source": [
    "import tensorflow as tf\n",
    "\n",
    "def setup_gpu():\n",
    "    physical_devices = tf.config.list_physical_devices('GPU')\n",
    "    if physical_devices:\n",
    "        try:\n",
    "            tf.config.experimental.set_memory_growth(physical_devices[0], True)\n",
    "            print(\"config augmentation allocation mémoire gpu activée\")\n",
    "        except RuntimeError as e:\n",
    "            print(f\"ERROR: {e}\")\n",
    "    else: \n",
    "        print(f\"ERROR\")        \n",
    "\n",
    "setup_gpu()"
   ]
  },
  {
   "cell_type": "code",
   "execution_count": 3,
   "metadata": {},
   "outputs": [],
   "source": [
    "file_path = '/home/carolus/Documents/school/green_ia/data/05_data/05_openfoodfacts_03.jsonl'\n",
    "num_samples = 500"
   ]
  },
  {
   "cell_type": "code",
   "execution_count": 4,
   "metadata": {},
   "outputs": [],
   "source": [
    "def sample_jsonl_file(file_path, num_samples):\n",
    "    sample_lines = []\n",
    "\n",
    "    with open(file_path, 'r') as file:\n",
    "        line_count = 0\n",
    "        for line in file:\n",
    "            line_count += 1\n",
    "            if len(sample_lines) < num_samples:\n",
    "                sample_lines.append(line)\n",
    "            else:\n",
    "                idx = random.randint(0, line_count - 1)\n",
    "                if idx < num_samples:\n",
    "                    sample_lines[idx] = line\n",
    "\n",
    "    data_list = [json.loads(line) for line in sample_lines]\n",
    "    df = pd.DataFrame(data_list)\n",
    "    return df"
   ]
  },
  {
   "cell_type": "code",
   "execution_count": 5,
   "metadata": {},
   "outputs": [],
   "source": [
    "df = sample_jsonl_file(file_path, num_samples)"
   ]
  },
  {
   "cell_type": "code",
   "execution_count": 6,
   "metadata": {},
   "outputs": [
    {
     "data": {
      "text/html": [
       "<div>\n",
       "<style scoped>\n",
       "    .dataframe tbody tr th:only-of-type {\n",
       "        vertical-align: middle;\n",
       "    }\n",
       "\n",
       "    .dataframe tbody tr th {\n",
       "        vertical-align: top;\n",
       "    }\n",
       "\n",
       "    .dataframe thead th {\n",
       "        text-align: right;\n",
       "    }\n",
       "</style>\n",
       "<table border=\"1\" class=\"dataframe\">\n",
       "  <thead>\n",
       "    <tr style=\"text-align: right;\">\n",
       "      <th></th>\n",
       "      <th>groups</th>\n",
       "      <th>packaging</th>\n",
       "      <th>name</th>\n",
       "      <th>ecoscore_tags</th>\n",
       "      <th>ecoscore_score</th>\n",
       "      <th>countries</th>\n",
       "      <th>ingredients</th>\n",
       "      <th>categories</th>\n",
       "      <th>labels_note</th>\n",
       "    </tr>\n",
       "  </thead>\n",
       "  <tbody>\n",
       "    <tr>\n",
       "      <th>440</th>\n",
       "      <td>0.000000</td>\n",
       "      <td>kunststoff</td>\n",
       "      <td>karriere pille</td>\n",
       "      <td>NaN</td>\n",
       "      <td>NaN</td>\n",
       "      <td>0.318436</td>\n",
       "      <td>empty</td>\n",
       "      <td>snacks, sweet-snacks, confectioneries, chewing...</td>\n",
       "      <td>0.000000</td>\n",
       "    </tr>\n",
       "    <tr>\n",
       "      <th>441</th>\n",
       "      <td>NaN</td>\n",
       "      <td>empty</td>\n",
       "      <td>morcilla cebolla negra</td>\n",
       "      <td>NaN</td>\n",
       "      <td>NaN</td>\n",
       "      <td>0.874317</td>\n",
       "      <td>empty</td>\n",
       "      <td>empty</td>\n",
       "      <td>0.111111</td>\n",
       "    </tr>\n",
       "    <tr>\n",
       "      <th>442</th>\n",
       "      <td>0.111111</td>\n",
       "      <td>empty</td>\n",
       "      <td>масло сладкосливочное несоленое крестьянское 7...</td>\n",
       "      <td>1.00</td>\n",
       "      <td>19.0</td>\n",
       "      <td>0.071038</td>\n",
       "      <td>empty</td>\n",
       "      <td>dairies, fats, spreads, spreadable-fats, anima...</td>\n",
       "      <td>0.000000</td>\n",
       "    </tr>\n",
       "    <tr>\n",
       "      <th>443</th>\n",
       "      <td>NaN</td>\n",
       "      <td>empty</td>\n",
       "      <td>hundreds and thousands</td>\n",
       "      <td>NaN</td>\n",
       "      <td>NaN</td>\n",
       "      <td>0.994536</td>\n",
       "      <td>ntion-information-typical-values-pernte-r-papr...</td>\n",
       "      <td>empty</td>\n",
       "      <td>0.000000</td>\n",
       "    </tr>\n",
       "    <tr>\n",
       "      <th>444</th>\n",
       "      <td>NaN</td>\n",
       "      <td>empty</td>\n",
       "      <td>100% pure whey concentrate</td>\n",
       "      <td>NaN</td>\n",
       "      <td>NaN</td>\n",
       "      <td>0.840426</td>\n",
       "      <td>empty</td>\n",
       "      <td>empty</td>\n",
       "      <td>0.111111</td>\n",
       "    </tr>\n",
       "    <tr>\n",
       "      <th>445</th>\n",
       "      <td>NaN</td>\n",
       "      <td>empty</td>\n",
       "      <td>épidor</td>\n",
       "      <td>NaN</td>\n",
       "      <td>NaN</td>\n",
       "      <td>NaN</td>\n",
       "      <td>empty</td>\n",
       "      <td>empty</td>\n",
       "      <td>0.000000</td>\n",
       "    </tr>\n",
       "    <tr>\n",
       "      <th>446</th>\n",
       "      <td>0.666667</td>\n",
       "      <td>kunststoff</td>\n",
       "      <td>pastrami</td>\n",
       "      <td>NaN</td>\n",
       "      <td>NaN</td>\n",
       "      <td>0.038251</td>\n",
       "      <td>beef-meat, animal, meat, beef, nitrite-curing-...</td>\n",
       "      <td>meats-and-their-products, meats, prepared-meat...</td>\n",
       "      <td>0.111111</td>\n",
       "    </tr>\n",
       "    <tr>\n",
       "      <th>447</th>\n",
       "      <td>NaN</td>\n",
       "      <td>empty</td>\n",
       "      <td>basler brot</td>\n",
       "      <td>NaN</td>\n",
       "      <td>NaN</td>\n",
       "      <td>0.899441</td>\n",
       "      <td>empty</td>\n",
       "      <td>empty</td>\n",
       "      <td>0.000000</td>\n",
       "    </tr>\n",
       "    <tr>\n",
       "      <th>448</th>\n",
       "      <td>0.111111</td>\n",
       "      <td>empty</td>\n",
       "      <td>bellino, extra virgin olive oil</td>\n",
       "      <td>0.75</td>\n",
       "      <td>27.0</td>\n",
       "      <td>1.000000</td>\n",
       "      <td>italian-extra-virgin-olive-oil</td>\n",
       "      <td>plant-based-foods-and-beverages, plant-based-f...</td>\n",
       "      <td>0.000000</td>\n",
       "    </tr>\n",
       "    <tr>\n",
       "      <th>449</th>\n",
       "      <td>0.444444</td>\n",
       "      <td>empty</td>\n",
       "      <td>h - vollmilch 3,8%</td>\n",
       "      <td>0.50</td>\n",
       "      <td>47.0</td>\n",
       "      <td>0.333333</td>\n",
       "      <td>empty</td>\n",
       "      <td>dairies, milks, homogenized-milks, uht-milks, ...</td>\n",
       "      <td>0.222222</td>\n",
       "    </tr>\n",
       "    <tr>\n",
       "      <th>450</th>\n",
       "      <td>0.666667</td>\n",
       "      <td>empty</td>\n",
       "      <td>tonno all’olio di oliva</td>\n",
       "      <td>0.75</td>\n",
       "      <td>21.0</td>\n",
       "      <td>0.431694</td>\n",
       "      <td>empty</td>\n",
       "      <td>seafood, fishes-and-their-products, canned-foo...</td>\n",
       "      <td>0.000000</td>\n",
       "    </tr>\n",
       "    <tr>\n",
       "      <th>451</th>\n",
       "      <td>NaN</td>\n",
       "      <td>empty</td>\n",
       "      <td>pilar as chocolate</td>\n",
       "      <td>NaN</td>\n",
       "      <td>NaN</td>\n",
       "      <td>0.874317</td>\n",
       "      <td>empty</td>\n",
       "      <td>empty</td>\n",
       "      <td>0.000000</td>\n",
       "    </tr>\n",
       "    <tr>\n",
       "      <th>452</th>\n",
       "      <td>NaN</td>\n",
       "      <td>empty</td>\n",
       "      <td>fegato di manzo a fette</td>\n",
       "      <td>NaN</td>\n",
       "      <td>NaN</td>\n",
       "      <td>0.901639</td>\n",
       "      <td>empty</td>\n",
       "      <td>empty</td>\n",
       "      <td>0.000000</td>\n",
       "    </tr>\n",
       "    <tr>\n",
       "      <th>453</th>\n",
       "      <td>NaN</td>\n",
       "      <td>empty</td>\n",
       "      <td>room spray</td>\n",
       "      <td>NaN</td>\n",
       "      <td>NaN</td>\n",
       "      <td>0.994536</td>\n",
       "      <td>empty</td>\n",
       "      <td>empty</td>\n",
       "      <td>0.000000</td>\n",
       "    </tr>\n",
       "    <tr>\n",
       "      <th>454</th>\n",
       "      <td>NaN</td>\n",
       "      <td>empty</td>\n",
       "      <td>glam hair spray 60ml</td>\n",
       "      <td>NaN</td>\n",
       "      <td>NaN</td>\n",
       "      <td>0.737705</td>\n",
       "      <td>empty</td>\n",
       "      <td>empty</td>\n",
       "      <td>0.000000</td>\n",
       "    </tr>\n",
       "    <tr>\n",
       "      <th>455</th>\n",
       "      <td>NaN</td>\n",
       "      <td>empty</td>\n",
       "      <td>fake natty pré treino</td>\n",
       "      <td>NaN</td>\n",
       "      <td>NaN</td>\n",
       "      <td>0.091892</td>\n",
       "      <td>empty</td>\n",
       "      <td>empty</td>\n",
       "      <td>0.000000</td>\n",
       "    </tr>\n",
       "    <tr>\n",
       "      <th>456</th>\n",
       "      <td>NaN</td>\n",
       "      <td>empty</td>\n",
       "      <td>feigenaufstrich</td>\n",
       "      <td>NaN</td>\n",
       "      <td>NaN</td>\n",
       "      <td>0.318436</td>\n",
       "      <td>empty</td>\n",
       "      <td>empty</td>\n",
       "      <td>0.000000</td>\n",
       "    </tr>\n",
       "    <tr>\n",
       "      <th>457</th>\n",
       "      <td>0.111111</td>\n",
       "      <td>empty</td>\n",
       "      <td>bio schwarzkümmel öl</td>\n",
       "      <td>NaN</td>\n",
       "      <td>NaN</td>\n",
       "      <td>0.333333</td>\n",
       "      <td>empty</td>\n",
       "      <td>plant-based-foods-and-beverages, plant-based-f...</td>\n",
       "      <td>0.000000</td>\n",
       "    </tr>\n",
       "    <tr>\n",
       "      <th>458</th>\n",
       "      <td>NaN</td>\n",
       "      <td>botella</td>\n",
       "      <td>marques de arienzo crianza tinto</td>\n",
       "      <td>NaN</td>\n",
       "      <td>NaN</td>\n",
       "      <td>0.311475</td>\n",
       "      <td>empty</td>\n",
       "      <td>empty</td>\n",
       "      <td>0.333333</td>\n",
       "    </tr>\n",
       "    <tr>\n",
       "      <th>459</th>\n",
       "      <td>0.777778</td>\n",
       "      <td>empty</td>\n",
       "      <td>iced tea pêssego</td>\n",
       "      <td>0.50</td>\n",
       "      <td>43.0</td>\n",
       "      <td>0.311475</td>\n",
       "      <td>empty</td>\n",
       "      <td>beverages, tea-based-beverages, iced-teas</td>\n",
       "      <td>0.000000</td>\n",
       "    </tr>\n",
       "    <tr>\n",
       "      <th>460</th>\n",
       "      <td>NaN</td>\n",
       "      <td>empty</td>\n",
       "      <td>frutos secos</td>\n",
       "      <td>NaN</td>\n",
       "      <td>NaN</td>\n",
       "      <td>0.874317</td>\n",
       "      <td>empty</td>\n",
       "      <td>empty</td>\n",
       "      <td>0.000000</td>\n",
       "    </tr>\n",
       "    <tr>\n",
       "      <th>461</th>\n",
       "      <td>NaN</td>\n",
       "      <td>empty</td>\n",
       "      <td>kreuzkümmel</td>\n",
       "      <td>NaN</td>\n",
       "      <td>NaN</td>\n",
       "      <td>0.318436</td>\n",
       "      <td>empty</td>\n",
       "      <td>empty</td>\n",
       "      <td>0.000000</td>\n",
       "    </tr>\n",
       "    <tr>\n",
       "      <th>462</th>\n",
       "      <td>NaN</td>\n",
       "      <td>empty</td>\n",
       "      <td>puree de noux de cajou</td>\n",
       "      <td>NaN</td>\n",
       "      <td>NaN</td>\n",
       "      <td>0.296089</td>\n",
       "      <td>empty</td>\n",
       "      <td>plant-based-foods-and-beverages, plant-based-f...</td>\n",
       "      <td>0.111111</td>\n",
       "    </tr>\n",
       "    <tr>\n",
       "      <th>463</th>\n",
       "      <td>0.000000</td>\n",
       "      <td>empty</td>\n",
       "      <td>bonbons glaçons</td>\n",
       "      <td>0.50</td>\n",
       "      <td>42.0</td>\n",
       "      <td>0.898810</td>\n",
       "      <td>sugar, added-sugar, disaccharide, glucose-syru...</td>\n",
       "      <td>snacks, sweet-snacks, confectioneries, candies</td>\n",
       "      <td>0.000000</td>\n",
       "    </tr>\n",
       "    <tr>\n",
       "      <th>464</th>\n",
       "      <td>NaN</td>\n",
       "      <td>empty</td>\n",
       "      <td>super foods organic pears, green beans &amp; peas ...</td>\n",
       "      <td>NaN</td>\n",
       "      <td>NaN</td>\n",
       "      <td>1.000000</td>\n",
       "      <td>pear-puree, fruit, pear, puree, pea, vegetable...</td>\n",
       "      <td>empty</td>\n",
       "      <td>0.333333</td>\n",
       "    </tr>\n",
       "    <tr>\n",
       "      <th>465</th>\n",
       "      <td>NaN</td>\n",
       "      <td>empty</td>\n",
       "      <td>melange randonnee classique</td>\n",
       "      <td>NaN</td>\n",
       "      <td>NaN</td>\n",
       "      <td>0.158470</td>\n",
       "      <td>empty</td>\n",
       "      <td>empty</td>\n",
       "      <td>0.000000</td>\n",
       "    </tr>\n",
       "    <tr>\n",
       "      <th>466</th>\n",
       "      <td>NaN</td>\n",
       "      <td>empty</td>\n",
       "      <td>winter suppe</td>\n",
       "      <td>NaN</td>\n",
       "      <td>NaN</td>\n",
       "      <td>0.333333</td>\n",
       "      <td>empty</td>\n",
       "      <td>empty</td>\n",
       "      <td>0.000000</td>\n",
       "    </tr>\n",
       "    <tr>\n",
       "      <th>467</th>\n",
       "      <td>0.333333</td>\n",
       "      <td>empty</td>\n",
       "      <td>baby lima beans</td>\n",
       "      <td>NaN</td>\n",
       "      <td>NaN</td>\n",
       "      <td>1.000000</td>\n",
       "      <td>lima-bean, vegetable, pod-and-seed-vegetable</td>\n",
       "      <td>plant-based-foods-and-beverages, plant-based-f...</td>\n",
       "      <td>0.000000</td>\n",
       "    </tr>\n",
       "    <tr>\n",
       "      <th>468</th>\n",
       "      <td>0.000000</td>\n",
       "      <td>empty</td>\n",
       "      <td>fettuccine gummi cola</td>\n",
       "      <td>0.25</td>\n",
       "      <td>69.0</td>\n",
       "      <td>NaN</td>\n",
       "      <td>empty</td>\n",
       "      <td>snacks, sweet-snacks, confectioneries, candies...</td>\n",
       "      <td>0.000000</td>\n",
       "    </tr>\n",
       "    <tr>\n",
       "      <th>469</th>\n",
       "      <td>0.444444</td>\n",
       "      <td>empty</td>\n",
       "      <td>queso especial hamburguesas fresco picante</td>\n",
       "      <td>0.50</td>\n",
       "      <td>53.0</td>\n",
       "      <td>0.874317</td>\n",
       "      <td>pasteurised-cow-s-milk, dairy, milk, pasteuris...</td>\n",
       "      <td>dairies, fermented-foods, fermented-milk-produ...</td>\n",
       "      <td>0.000000</td>\n",
       "    </tr>\n",
       "    <tr>\n",
       "      <th>470</th>\n",
       "      <td>0.777778</td>\n",
       "      <td>vidro</td>\n",
       "      <td>cerveja puro malte ribeirão lager - lager com ...</td>\n",
       "      <td>0.50</td>\n",
       "      <td>51.0</td>\n",
       "      <td>NaN</td>\n",
       "      <td>empty</td>\n",
       "      <td>beverages, alcoholic-beverages, beers</td>\n",
       "      <td>0.000000</td>\n",
       "    </tr>\n",
       "    <tr>\n",
       "      <th>471</th>\n",
       "      <td>NaN</td>\n",
       "      <td>empty</td>\n",
       "      <td>collection barista</td>\n",
       "      <td>NaN</td>\n",
       "      <td>NaN</td>\n",
       "      <td>0.311475</td>\n",
       "      <td>cream, dairy, sugar, added-sugar, disaccharide...</td>\n",
       "      <td>desserts</td>\n",
       "      <td>0.000000</td>\n",
       "    </tr>\n",
       "    <tr>\n",
       "      <th>472</th>\n",
       "      <td>NaN</td>\n",
       "      <td>empty</td>\n",
       "      <td>popcorn salt ballpark style</td>\n",
       "      <td>NaN</td>\n",
       "      <td>NaN</td>\n",
       "      <td>0.968254</td>\n",
       "      <td>empty</td>\n",
       "      <td>empty</td>\n",
       "      <td>0.000000</td>\n",
       "    </tr>\n",
       "    <tr>\n",
       "      <th>473</th>\n",
       "      <td>0.222222</td>\n",
       "      <td>barquette, etui en carton, film en plastique</td>\n",
       "      <td>parmentier de canard</td>\n",
       "      <td>0.75</td>\n",
       "      <td>29.0</td>\n",
       "      <td>0.000000</td>\n",
       "      <td>potato, vegetable, root-vegetable, tuber, duck...</td>\n",
       "      <td>meats-and-their-products, meals, meals-with-me...</td>\n",
       "      <td>0.555556</td>\n",
       "    </tr>\n",
       "    <tr>\n",
       "      <th>474</th>\n",
       "      <td>NaN</td>\n",
       "      <td>empty</td>\n",
       "      <td>kit kat 4 finger 3 pack + 1 free</td>\n",
       "      <td>NaN</td>\n",
       "      <td>NaN</td>\n",
       "      <td>0.255952</td>\n",
       "      <td>empty</td>\n",
       "      <td>empty</td>\n",
       "      <td>0.000000</td>\n",
       "    </tr>\n",
       "    <tr>\n",
       "      <th>475</th>\n",
       "      <td>NaN</td>\n",
       "      <td>empty</td>\n",
       "      <td>french vanilla ice cream</td>\n",
       "      <td>NaN</td>\n",
       "      <td>NaN</td>\n",
       "      <td>1.000000</td>\n",
       "      <td>empty</td>\n",
       "      <td>empty</td>\n",
       "      <td>0.111111</td>\n",
       "    </tr>\n",
       "    <tr>\n",
       "      <th>476</th>\n",
       "      <td>NaN</td>\n",
       "      <td>empty</td>\n",
       "      <td>surgelati</td>\n",
       "      <td>NaN</td>\n",
       "      <td>NaN</td>\n",
       "      <td>0.417989</td>\n",
       "      <td>empty</td>\n",
       "      <td>empty</td>\n",
       "      <td>0.000000</td>\n",
       "    </tr>\n",
       "    <tr>\n",
       "      <th>477</th>\n",
       "      <td>NaN</td>\n",
       "      <td>empty</td>\n",
       "      <td>none</td>\n",
       "      <td>NaN</td>\n",
       "      <td>NaN</td>\n",
       "      <td>0.181818</td>\n",
       "      <td>empty</td>\n",
       "      <td>empty</td>\n",
       "      <td>0.666667</td>\n",
       "    </tr>\n",
       "    <tr>\n",
       "      <th>478</th>\n",
       "      <td>0.555556</td>\n",
       "      <td>empty</td>\n",
       "      <td>old fashion enriched bread</td>\n",
       "      <td>NaN</td>\n",
       "      <td>NaN</td>\n",
       "      <td>1.000000</td>\n",
       "      <td>fortified-wheat-flour, cereal, flour, wheat, c...</td>\n",
       "      <td>plant-based-foods-and-beverages, plant-based-f...</td>\n",
       "      <td>0.000000</td>\n",
       "    </tr>\n",
       "    <tr>\n",
       "      <th>479</th>\n",
       "      <td>NaN</td>\n",
       "      <td>empty</td>\n",
       "      <td>spargelspitzen</td>\n",
       "      <td>NaN</td>\n",
       "      <td>NaN</td>\n",
       "      <td>0.333333</td>\n",
       "      <td>empty</td>\n",
       "      <td>empty</td>\n",
       "      <td>0.000000</td>\n",
       "    </tr>\n",
       "    <tr>\n",
       "      <th>480</th>\n",
       "      <td>NaN</td>\n",
       "      <td>empty</td>\n",
       "      <td>filety śledziowe w sosie musztardowym</td>\n",
       "      <td>NaN</td>\n",
       "      <td>NaN</td>\n",
       "      <td>0.743169</td>\n",
       "      <td>empty</td>\n",
       "      <td>empty</td>\n",
       "      <td>0.000000</td>\n",
       "    </tr>\n",
       "    <tr>\n",
       "      <th>481</th>\n",
       "      <td>NaN</td>\n",
       "      <td>empty</td>\n",
       "      <td>caffino cappuccino hazelnut</td>\n",
       "      <td>NaN</td>\n",
       "      <td>NaN</td>\n",
       "      <td>0.734043</td>\n",
       "      <td>empty</td>\n",
       "      <td>empty</td>\n",
       "      <td>0.000000</td>\n",
       "    </tr>\n",
       "    <tr>\n",
       "      <th>482</th>\n",
       "      <td>NaN</td>\n",
       "      <td>empty</td>\n",
       "      <td>μαργαρινη soft light</td>\n",
       "      <td>NaN</td>\n",
       "      <td>NaN</td>\n",
       "      <td>0.655738</td>\n",
       "      <td>water, vegetable-oil, oil-and-fat, vegetable-o...</td>\n",
       "      <td>spreads, spreadable-fats</td>\n",
       "      <td>0.000000</td>\n",
       "    </tr>\n",
       "    <tr>\n",
       "      <th>483</th>\n",
       "      <td>NaN</td>\n",
       "      <td>empty</td>\n",
       "      <td>nitro wood</td>\n",
       "      <td>NaN</td>\n",
       "      <td>NaN</td>\n",
       "      <td>1.000000</td>\n",
       "      <td>empty</td>\n",
       "      <td>empty</td>\n",
       "      <td>0.000000</td>\n",
       "    </tr>\n",
       "    <tr>\n",
       "      <th>484</th>\n",
       "      <td>0.333333</td>\n",
       "      <td>empty</td>\n",
       "      <td>asperges blanche</td>\n",
       "      <td>0.50</td>\n",
       "      <td>57.0</td>\n",
       "      <td>0.311475</td>\n",
       "      <td>empty</td>\n",
       "      <td>plant-based-foods-and-beverages, plant-based-f...</td>\n",
       "      <td>0.111111</td>\n",
       "    </tr>\n",
       "    <tr>\n",
       "      <th>485</th>\n",
       "      <td>0.777778</td>\n",
       "      <td>empty</td>\n",
       "      <td>kentucky straight bourbon whiskey</td>\n",
       "      <td>0.50</td>\n",
       "      <td>44.0</td>\n",
       "      <td>0.292135</td>\n",
       "      <td>empty</td>\n",
       "      <td>beverages, alcoholic-beverages, distilled-beve...</td>\n",
       "      <td>0.000000</td>\n",
       "    </tr>\n",
       "    <tr>\n",
       "      <th>486</th>\n",
       "      <td>0.000000</td>\n",
       "      <td>empty</td>\n",
       "      <td>ricciarelli di siena</td>\n",
       "      <td>0.25</td>\n",
       "      <td>65.0</td>\n",
       "      <td>0.431694</td>\n",
       "      <td>empty</td>\n",
       "      <td>snacks, sweet-snacks, biscuits-and-cakes, bisc...</td>\n",
       "      <td>0.222222</td>\n",
       "    </tr>\n",
       "    <tr>\n",
       "      <th>487</th>\n",
       "      <td>0.000000</td>\n",
       "      <td>empty</td>\n",
       "      <td>engelse drop</td>\n",
       "      <td>0.25</td>\n",
       "      <td>69.0</td>\n",
       "      <td>0.634921</td>\n",
       "      <td>empty</td>\n",
       "      <td>snacks, sweet-snacks, confectioneries, candies...</td>\n",
       "      <td>0.000000</td>\n",
       "    </tr>\n",
       "    <tr>\n",
       "      <th>488</th>\n",
       "      <td>NaN</td>\n",
       "      <td>empty</td>\n",
       "      <td>merguez camarguaise</td>\n",
       "      <td>NaN</td>\n",
       "      <td>NaN</td>\n",
       "      <td>0.301587</td>\n",
       "      <td>empty</td>\n",
       "      <td>empty</td>\n",
       "      <td>0.111111</td>\n",
       "    </tr>\n",
       "    <tr>\n",
       "      <th>489</th>\n",
       "      <td>0.444444</td>\n",
       "      <td>empty</td>\n",
       "      <td></td>\n",
       "      <td>0.75</td>\n",
       "      <td>36.0</td>\n",
       "      <td>NaN</td>\n",
       "      <td>empty</td>\n",
       "      <td>dairies, milks</td>\n",
       "      <td>0.333333</td>\n",
       "    </tr>\n",
       "    <tr>\n",
       "      <th>490</th>\n",
       "      <td>0.555556</td>\n",
       "      <td>empty</td>\n",
       "      <td>champion</td>\n",
       "      <td>0.25</td>\n",
       "      <td>79.0</td>\n",
       "      <td>0.898305</td>\n",
       "      <td>whole-grain-oat-flakes, cereal, oat, oat-flake...</td>\n",
       "      <td>plant-based-foods-and-beverages, plant-based-f...</td>\n",
       "      <td>0.111111</td>\n",
       "    </tr>\n",
       "    <tr>\n",
       "      <th>491</th>\n",
       "      <td>NaN</td>\n",
       "      <td>empty</td>\n",
       "      <td>pretzel sticks</td>\n",
       "      <td>NaN</td>\n",
       "      <td>NaN</td>\n",
       "      <td>1.000000</td>\n",
       "      <td>empty</td>\n",
       "      <td>empty</td>\n",
       "      <td>0.000000</td>\n",
       "    </tr>\n",
       "    <tr>\n",
       "      <th>492</th>\n",
       "      <td>NaN</td>\n",
       "      <td>empty</td>\n",
       "      <td>tapolive</td>\n",
       "      <td>NaN</td>\n",
       "      <td>NaN</td>\n",
       "      <td>0.284768</td>\n",
       "      <td>empty</td>\n",
       "      <td>empty</td>\n",
       "      <td>0.000000</td>\n",
       "    </tr>\n",
       "    <tr>\n",
       "      <th>493</th>\n",
       "      <td>NaN</td>\n",
       "      <td>empty</td>\n",
       "      <td>pasta</td>\n",
       "      <td>NaN</td>\n",
       "      <td>NaN</td>\n",
       "      <td>0.874317</td>\n",
       "      <td>empty</td>\n",
       "      <td>empty</td>\n",
       "      <td>0.000000</td>\n",
       "    </tr>\n",
       "    <tr>\n",
       "      <th>494</th>\n",
       "      <td>0.777778</td>\n",
       "      <td>empty</td>\n",
       "      <td>caffeine free orange soda</td>\n",
       "      <td>0.00</td>\n",
       "      <td>NaN</td>\n",
       "      <td>0.000000</td>\n",
       "      <td>carbonated-water, water, high-fructose-corn-sy...</td>\n",
       "      <td>beverages, carbonated-drinks, sodas</td>\n",
       "      <td>0.000000</td>\n",
       "    </tr>\n",
       "    <tr>\n",
       "      <th>495</th>\n",
       "      <td>NaN</td>\n",
       "      <td>empty</td>\n",
       "      <td>salamella</td>\n",
       "      <td>NaN</td>\n",
       "      <td>NaN</td>\n",
       "      <td>0.431694</td>\n",
       "      <td>empty</td>\n",
       "      <td>empty</td>\n",
       "      <td>0.111111</td>\n",
       "    </tr>\n",
       "    <tr>\n",
       "      <th>496</th>\n",
       "      <td>NaN</td>\n",
       "      <td>empty</td>\n",
       "      <td>dry roasted &amp; salted pistachios</td>\n",
       "      <td>NaN</td>\n",
       "      <td>NaN</td>\n",
       "      <td>NaN</td>\n",
       "      <td>empty</td>\n",
       "      <td>empty</td>\n",
       "      <td>0.222222</td>\n",
       "    </tr>\n",
       "    <tr>\n",
       "      <th>497</th>\n",
       "      <td>NaN</td>\n",
       "      <td>empty</td>\n",
       "      <td>maison taillefer</td>\n",
       "      <td>1.00</td>\n",
       "      <td>0.0</td>\n",
       "      <td>0.000000</td>\n",
       "      <td>empty</td>\n",
       "      <td>plant-based-foods-and-beverages, beverages, pl...</td>\n",
       "      <td>0.000000</td>\n",
       "    </tr>\n",
       "    <tr>\n",
       "      <th>498</th>\n",
       "      <td>NaN</td>\n",
       "      <td>empty</td>\n",
       "      <td>heritage flakes cereak</td>\n",
       "      <td>NaN</td>\n",
       "      <td>NaN</td>\n",
       "      <td>1.000000</td>\n",
       "      <td>empty</td>\n",
       "      <td>empty</td>\n",
       "      <td>0.666667</td>\n",
       "    </tr>\n",
       "    <tr>\n",
       "      <th>499</th>\n",
       "      <td>NaN</td>\n",
       "      <td>empty</td>\n",
       "      <td>southwest chicken salad croissant pack</td>\n",
       "      <td>NaN</td>\n",
       "      <td>NaN</td>\n",
       "      <td>0.420765</td>\n",
       "      <td>empty</td>\n",
       "      <td>empty</td>\n",
       "      <td>0.000000</td>\n",
       "    </tr>\n",
       "  </tbody>\n",
       "</table>\n",
       "</div>"
      ],
      "text/plain": [
       "       groups                                     packaging  \\\n",
       "440  0.000000                                    kunststoff   \n",
       "441       NaN                                         empty   \n",
       "442  0.111111                                         empty   \n",
       "443       NaN                                         empty   \n",
       "444       NaN                                         empty   \n",
       "445       NaN                                         empty   \n",
       "446  0.666667                                    kunststoff   \n",
       "447       NaN                                         empty   \n",
       "448  0.111111                                         empty   \n",
       "449  0.444444                                         empty   \n",
       "450  0.666667                                         empty   \n",
       "451       NaN                                         empty   \n",
       "452       NaN                                         empty   \n",
       "453       NaN                                         empty   \n",
       "454       NaN                                         empty   \n",
       "455       NaN                                         empty   \n",
       "456       NaN                                         empty   \n",
       "457  0.111111                                         empty   \n",
       "458       NaN                                       botella   \n",
       "459  0.777778                                         empty   \n",
       "460       NaN                                         empty   \n",
       "461       NaN                                         empty   \n",
       "462       NaN                                         empty   \n",
       "463  0.000000                                         empty   \n",
       "464       NaN                                         empty   \n",
       "465       NaN                                         empty   \n",
       "466       NaN                                         empty   \n",
       "467  0.333333                                         empty   \n",
       "468  0.000000                                         empty   \n",
       "469  0.444444                                         empty   \n",
       "470  0.777778                                         vidro   \n",
       "471       NaN                                         empty   \n",
       "472       NaN                                         empty   \n",
       "473  0.222222  barquette, etui en carton, film en plastique   \n",
       "474       NaN                                         empty   \n",
       "475       NaN                                         empty   \n",
       "476       NaN                                         empty   \n",
       "477       NaN                                         empty   \n",
       "478  0.555556                                         empty   \n",
       "479       NaN                                         empty   \n",
       "480       NaN                                         empty   \n",
       "481       NaN                                         empty   \n",
       "482       NaN                                         empty   \n",
       "483       NaN                                         empty   \n",
       "484  0.333333                                         empty   \n",
       "485  0.777778                                         empty   \n",
       "486  0.000000                                         empty   \n",
       "487  0.000000                                         empty   \n",
       "488       NaN                                         empty   \n",
       "489  0.444444                                         empty   \n",
       "490  0.555556                                         empty   \n",
       "491       NaN                                         empty   \n",
       "492       NaN                                         empty   \n",
       "493       NaN                                         empty   \n",
       "494  0.777778                                         empty   \n",
       "495       NaN                                         empty   \n",
       "496       NaN                                         empty   \n",
       "497       NaN                                         empty   \n",
       "498       NaN                                         empty   \n",
       "499       NaN                                         empty   \n",
       "\n",
       "                                                  name  ecoscore_tags  \\\n",
       "440                                     karriere pille            NaN   \n",
       "441                             morcilla cebolla negra            NaN   \n",
       "442  масло сладкосливочное несоленое крестьянское 7...           1.00   \n",
       "443                             hundreds and thousands            NaN   \n",
       "444                         100% pure whey concentrate            NaN   \n",
       "445                                             épidor            NaN   \n",
       "446                                           pastrami            NaN   \n",
       "447                                        basler brot            NaN   \n",
       "448                    bellino, extra virgin olive oil           0.75   \n",
       "449                                 h - vollmilch 3,8%           0.50   \n",
       "450                            tonno all’olio di oliva           0.75   \n",
       "451                                 pilar as chocolate            NaN   \n",
       "452                            fegato di manzo a fette            NaN   \n",
       "453                                         room spray            NaN   \n",
       "454                               glam hair spray 60ml            NaN   \n",
       "455                              fake natty pré treino            NaN   \n",
       "456                                    feigenaufstrich            NaN   \n",
       "457                               bio schwarzkümmel öl            NaN   \n",
       "458                   marques de arienzo crianza tinto            NaN   \n",
       "459                                   iced tea pêssego           0.50   \n",
       "460                                       frutos secos            NaN   \n",
       "461                                        kreuzkümmel            NaN   \n",
       "462                             puree de noux de cajou            NaN   \n",
       "463                                    bonbons glaçons           0.50   \n",
       "464  super foods organic pears, green beans & peas ...            NaN   \n",
       "465                        melange randonnee classique            NaN   \n",
       "466                                       winter suppe            NaN   \n",
       "467                                    baby lima beans            NaN   \n",
       "468                              fettuccine gummi cola           0.25   \n",
       "469         queso especial hamburguesas fresco picante           0.50   \n",
       "470  cerveja puro malte ribeirão lager - lager com ...           0.50   \n",
       "471                                 collection barista            NaN   \n",
       "472                        popcorn salt ballpark style            NaN   \n",
       "473                               parmentier de canard           0.75   \n",
       "474                   kit kat 4 finger 3 pack + 1 free            NaN   \n",
       "475                           french vanilla ice cream            NaN   \n",
       "476                                          surgelati            NaN   \n",
       "477                                               none            NaN   \n",
       "478                         old fashion enriched bread            NaN   \n",
       "479                                     spargelspitzen            NaN   \n",
       "480              filety śledziowe w sosie musztardowym            NaN   \n",
       "481                        caffino cappuccino hazelnut            NaN   \n",
       "482                               μαργαρινη soft light            NaN   \n",
       "483                                         nitro wood            NaN   \n",
       "484                                   asperges blanche           0.50   \n",
       "485                  kentucky straight bourbon whiskey           0.50   \n",
       "486                               ricciarelli di siena           0.25   \n",
       "487                                       engelse drop           0.25   \n",
       "488                                merguez camarguaise            NaN   \n",
       "489                                                              0.75   \n",
       "490                                           champion           0.25   \n",
       "491                                     pretzel sticks            NaN   \n",
       "492                                           tapolive            NaN   \n",
       "493                                              pasta            NaN   \n",
       "494                          caffeine free orange soda           0.00   \n",
       "495                                          salamella            NaN   \n",
       "496                    dry roasted & salted pistachios            NaN   \n",
       "497                                   maison taillefer           1.00   \n",
       "498                             heritage flakes cereak            NaN   \n",
       "499             southwest chicken salad croissant pack            NaN   \n",
       "\n",
       "     ecoscore_score  countries  \\\n",
       "440             NaN   0.318436   \n",
       "441             NaN   0.874317   \n",
       "442            19.0   0.071038   \n",
       "443             NaN   0.994536   \n",
       "444             NaN   0.840426   \n",
       "445             NaN        NaN   \n",
       "446             NaN   0.038251   \n",
       "447             NaN   0.899441   \n",
       "448            27.0   1.000000   \n",
       "449            47.0   0.333333   \n",
       "450            21.0   0.431694   \n",
       "451             NaN   0.874317   \n",
       "452             NaN   0.901639   \n",
       "453             NaN   0.994536   \n",
       "454             NaN   0.737705   \n",
       "455             NaN   0.091892   \n",
       "456             NaN   0.318436   \n",
       "457             NaN   0.333333   \n",
       "458             NaN   0.311475   \n",
       "459            43.0   0.311475   \n",
       "460             NaN   0.874317   \n",
       "461             NaN   0.318436   \n",
       "462             NaN   0.296089   \n",
       "463            42.0   0.898810   \n",
       "464             NaN   1.000000   \n",
       "465             NaN   0.158470   \n",
       "466             NaN   0.333333   \n",
       "467             NaN   1.000000   \n",
       "468            69.0        NaN   \n",
       "469            53.0   0.874317   \n",
       "470            51.0        NaN   \n",
       "471             NaN   0.311475   \n",
       "472             NaN   0.968254   \n",
       "473            29.0   0.000000   \n",
       "474             NaN   0.255952   \n",
       "475             NaN   1.000000   \n",
       "476             NaN   0.417989   \n",
       "477             NaN   0.181818   \n",
       "478             NaN   1.000000   \n",
       "479             NaN   0.333333   \n",
       "480             NaN   0.743169   \n",
       "481             NaN   0.734043   \n",
       "482             NaN   0.655738   \n",
       "483             NaN   1.000000   \n",
       "484            57.0   0.311475   \n",
       "485            44.0   0.292135   \n",
       "486            65.0   0.431694   \n",
       "487            69.0   0.634921   \n",
       "488             NaN   0.301587   \n",
       "489            36.0        NaN   \n",
       "490            79.0   0.898305   \n",
       "491             NaN   1.000000   \n",
       "492             NaN   0.284768   \n",
       "493             NaN   0.874317   \n",
       "494             NaN   0.000000   \n",
       "495             NaN   0.431694   \n",
       "496             NaN        NaN   \n",
       "497             0.0   0.000000   \n",
       "498             NaN   1.000000   \n",
       "499             NaN   0.420765   \n",
       "\n",
       "                                           ingredients  \\\n",
       "440                                              empty   \n",
       "441                                              empty   \n",
       "442                                              empty   \n",
       "443  ntion-information-typical-values-pernte-r-papr...   \n",
       "444                                              empty   \n",
       "445                                              empty   \n",
       "446  beef-meat, animal, meat, beef, nitrite-curing-...   \n",
       "447                                              empty   \n",
       "448                     italian-extra-virgin-olive-oil   \n",
       "449                                              empty   \n",
       "450                                              empty   \n",
       "451                                              empty   \n",
       "452                                              empty   \n",
       "453                                              empty   \n",
       "454                                              empty   \n",
       "455                                              empty   \n",
       "456                                              empty   \n",
       "457                                              empty   \n",
       "458                                              empty   \n",
       "459                                              empty   \n",
       "460                                              empty   \n",
       "461                                              empty   \n",
       "462                                              empty   \n",
       "463  sugar, added-sugar, disaccharide, glucose-syru...   \n",
       "464  pear-puree, fruit, pear, puree, pea, vegetable...   \n",
       "465                                              empty   \n",
       "466                                              empty   \n",
       "467       lima-bean, vegetable, pod-and-seed-vegetable   \n",
       "468                                              empty   \n",
       "469  pasteurised-cow-s-milk, dairy, milk, pasteuris...   \n",
       "470                                              empty   \n",
       "471  cream, dairy, sugar, added-sugar, disaccharide...   \n",
       "472                                              empty   \n",
       "473  potato, vegetable, root-vegetable, tuber, duck...   \n",
       "474                                              empty   \n",
       "475                                              empty   \n",
       "476                                              empty   \n",
       "477                                              empty   \n",
       "478  fortified-wheat-flour, cereal, flour, wheat, c...   \n",
       "479                                              empty   \n",
       "480                                              empty   \n",
       "481                                              empty   \n",
       "482  water, vegetable-oil, oil-and-fat, vegetable-o...   \n",
       "483                                              empty   \n",
       "484                                              empty   \n",
       "485                                              empty   \n",
       "486                                              empty   \n",
       "487                                              empty   \n",
       "488                                              empty   \n",
       "489                                              empty   \n",
       "490  whole-grain-oat-flakes, cereal, oat, oat-flake...   \n",
       "491                                              empty   \n",
       "492                                              empty   \n",
       "493                                              empty   \n",
       "494  carbonated-water, water, high-fructose-corn-sy...   \n",
       "495                                              empty   \n",
       "496                                              empty   \n",
       "497                                              empty   \n",
       "498                                              empty   \n",
       "499                                              empty   \n",
       "\n",
       "                                            categories  labels_note  \n",
       "440  snacks, sweet-snacks, confectioneries, chewing...     0.000000  \n",
       "441                                              empty     0.111111  \n",
       "442  dairies, fats, spreads, spreadable-fats, anima...     0.000000  \n",
       "443                                              empty     0.000000  \n",
       "444                                              empty     0.111111  \n",
       "445                                              empty     0.000000  \n",
       "446  meats-and-their-products, meats, prepared-meat...     0.111111  \n",
       "447                                              empty     0.000000  \n",
       "448  plant-based-foods-and-beverages, plant-based-f...     0.000000  \n",
       "449  dairies, milks, homogenized-milks, uht-milks, ...     0.222222  \n",
       "450  seafood, fishes-and-their-products, canned-foo...     0.000000  \n",
       "451                                              empty     0.000000  \n",
       "452                                              empty     0.000000  \n",
       "453                                              empty     0.000000  \n",
       "454                                              empty     0.000000  \n",
       "455                                              empty     0.000000  \n",
       "456                                              empty     0.000000  \n",
       "457  plant-based-foods-and-beverages, plant-based-f...     0.000000  \n",
       "458                                              empty     0.333333  \n",
       "459          beverages, tea-based-beverages, iced-teas     0.000000  \n",
       "460                                              empty     0.000000  \n",
       "461                                              empty     0.000000  \n",
       "462  plant-based-foods-and-beverages, plant-based-f...     0.111111  \n",
       "463     snacks, sweet-snacks, confectioneries, candies     0.000000  \n",
       "464                                              empty     0.333333  \n",
       "465                                              empty     0.000000  \n",
       "466                                              empty     0.000000  \n",
       "467  plant-based-foods-and-beverages, plant-based-f...     0.000000  \n",
       "468  snacks, sweet-snacks, confectioneries, candies...     0.000000  \n",
       "469  dairies, fermented-foods, fermented-milk-produ...     0.000000  \n",
       "470              beverages, alcoholic-beverages, beers     0.000000  \n",
       "471                                           desserts     0.000000  \n",
       "472                                              empty     0.000000  \n",
       "473  meats-and-their-products, meals, meals-with-me...     0.555556  \n",
       "474                                              empty     0.000000  \n",
       "475                                              empty     0.111111  \n",
       "476                                              empty     0.000000  \n",
       "477                                              empty     0.666667  \n",
       "478  plant-based-foods-and-beverages, plant-based-f...     0.000000  \n",
       "479                                              empty     0.000000  \n",
       "480                                              empty     0.000000  \n",
       "481                                              empty     0.000000  \n",
       "482                           spreads, spreadable-fats     0.000000  \n",
       "483                                              empty     0.000000  \n",
       "484  plant-based-foods-and-beverages, plant-based-f...     0.111111  \n",
       "485  beverages, alcoholic-beverages, distilled-beve...     0.000000  \n",
       "486  snacks, sweet-snacks, biscuits-and-cakes, bisc...     0.222222  \n",
       "487  snacks, sweet-snacks, confectioneries, candies...     0.000000  \n",
       "488                                              empty     0.111111  \n",
       "489                                     dairies, milks     0.333333  \n",
       "490  plant-based-foods-and-beverages, plant-based-f...     0.111111  \n",
       "491                                              empty     0.000000  \n",
       "492                                              empty     0.000000  \n",
       "493                                              empty     0.000000  \n",
       "494                beverages, carbonated-drinks, sodas     0.000000  \n",
       "495                                              empty     0.111111  \n",
       "496                                              empty     0.222222  \n",
       "497  plant-based-foods-and-beverages, beverages, pl...     0.000000  \n",
       "498                                              empty     0.666667  \n",
       "499                                              empty     0.000000  "
      ]
     },
     "execution_count": 6,
     "metadata": {},
     "output_type": "execute_result"
    }
   ],
   "source": [
    "df.tail(60)"
   ]
  },
  {
   "cell_type": "code",
   "execution_count": 7,
   "metadata": {},
   "outputs": [
    {
     "name": "stdout",
     "output_type": "stream",
     "text": [
      "nan\n",
      "0.6666666667\n",
      "0.1111111111\n",
      "0.0\n",
      "0.3333333333\n",
      "0.5555555556\n",
      "0.7777777778\n",
      "0.4444444444\n",
      "1.0\n",
      "0.2222222222\n",
      "0.1\n"
     ]
    }
   ],
   "source": [
    "uniques_groups = df['groups'].unique()\n",
    "uniques_groups_list = list(uniques_groups)\n",
    "for value in uniques_groups_list:\n",
    "    print(value)"
   ]
  },
  {
   "cell_type": "code",
   "execution_count": 8,
   "metadata": {},
   "outputs": [
    {
     "name": "stdout",
     "output_type": "stream",
     "text": [
      "pro recovery\n",
      "none\n",
      "pretzels\n",
      "nestle clusters\n",
      "lard séché herbes\n",
      "würstchen\n",
      "miniwürfel zum streuen\n",
      "\n",
      "mentas candy\n",
      "carottes en rondelles\n",
      "salami, geräuchert spitzenqualität\n",
      "boulgour de blé dur\n",
      "galettes bretonnes pur beurre aux pépites de chocolat\n",
      "dornfelder halbtrocken\n",
      "chuleta de sajonia\n",
      "graines de tournesol\n",
      "instant pancake mix nature\n",
      "gâteau de riz\n",
      "small corn tortillas\n",
      "alzola\n",
      "rinah’s hot papaya sauce\n",
      "crunchy granola bars\n",
      "cocoa milk\n",
      "carboxy\n",
      "maple & brown sugar instant oatmeal, maple & brown sugar\n",
      "skin, hair & nails\n",
      "5 ocak karadut 1 litre\n",
      "limonade\n",
      "olive oil\n",
      "mocha cold brew with almondmilk\n",
      "blanc et kiwi mangue passion\n",
      "chickpea twists\n",
      "luglio olio extra vergine di oliva\n",
      "gland rhum\n",
      "tarallucci al finocchietto\n",
      "roggenmehl 1150\n",
      "berry bubbly\n",
      "white roll\n",
      "magret de canard séché\n",
      "king sandwich\n",
      "sun dried dark apricots\n",
      "le filet végétal\n",
      "baby lima beans\n",
      "soft white wheat\n",
      "expresso instant coffee\n",
      "boa fruto\n",
      "muscheln\n",
      "barco negro\n",
      "white baguette\n",
      "champiñon laminado\n",
      "chicken donuts in backteig\n",
      "wraps mexican style\n",
      "préparation moelleux au chocolat\n",
      "cornichons extra-fins\n",
      "fridge raiders smoky bbq\n",
      "sprouted cookies, spiced chai\n",
      "kentucky csirkemelles bagett\n",
      "boulettes pour potage\n",
      "tom kha paste\n",
      "fancy & festive sprinkles set\n",
      "sports drink\n",
      "jugo rica naranja\n",
      "cheddar cheese potato mash\n",
      "munster au cumin\n",
      "2 burger di salmone\n",
      "framboise\n",
      "poulet fumé\n",
      "melatonin\n",
      "king fish light meat tuna\n",
      "bio eier vom naturlans-hof\n",
      "miel de flores\n",
      "mini spring daisies cookies\n",
      "tomate ministar dulcita\n",
      "demi-queue de langouste\n",
      "india gate brown basmati rice\n",
      "raisin\n",
      "kreol sparkling\n",
      "organic protein powder vanilla bean flavored\n",
      "pizza individuelle au chorizo\n",
      "american classic carrot pound cake\n",
      "pistachios\n",
      "gallette di riso biologiche\n",
      "beurre de baratte\n",
      "ryba po węgiersku\n",
      "bauletto\n",
      "greek strained nonfat togurt\n",
      "beurre de cacahouètes\n",
      "organic granny smith apples\n",
      "taiwan mochi\n",
      "pringles - original\n",
      "pâte sablée pur beurre\n",
      "tapenadine olives vertes\n",
      "coffee cake protein bar\n",
      "banana\n",
      "banane schoko porrdige\n",
      "shortbread cookies with fig filling\n",
      "jambon supérieur fumé\n",
      "frozen dessert bites\n",
      "baby leaf spinach\n",
      "cooked shrimp\n",
      "bicarbonaat\n",
      "miel gingembre\n",
      "chicken breast meat with rib meat in buffalo style sauce, buffalo style\n",
      "yogurt intero bianco biologico\n",
      "gourmet triffe d’été\n",
      "frosted brown sugar cinnamon toaster pastries\n",
      "trockenhefe\n",
      "cooked ham\n",
      "falafel tortilla\n",
      "orange trink\n",
      "thyme leaf\n",
      "ensaladilla jardineira\n",
      "comfetti deluxe cake in a cup\n",
      "le chocolat bio de gnaw amande et café\n",
      "tom sturgis, chris b's pretzels\n",
      "jambon cuit superieur 4t\n",
      "vino\n",
      "zebra cakes ice cream\n",
      "chaussée aux moines 17% mg\n",
      "tortilla flour\n",
      "milka naps mix\n",
      "my muesli eiskönigin ii\n",
      "saumon fumé\n",
      "perfectly tender chicken bites jalapeño\n",
      "piment d'espelette\n",
      "jambon cuit supérieur\n",
      "l'intendant louis\n",
      "fast pack\n",
      "premium tofu silken\n",
      "pipas de girasol peladas\n",
      "dinkel cracker\n",
      "roti de porc qualité supérieure 4 tranches\n",
      "le chocolat du roi 72 %\n",
      "dailys cocktails strawberry mix alcoholic made with real juice\n",
      "turrón blando de almendra\n",
      "pepper palace\n",
      "bledina les recoltes bio pots cocktail de fruits 2x130g dès 6 mois\n",
      "fiskuburger\n",
      "karamele zana\n",
      "kiwi jaune bio\n",
      "arabica coffee\n",
      "aceite de oliva ecológico\n",
      "uovo di pasqua cioccolato al latte\n",
      "lime juice\n",
      "cubed steak\n",
      "cereales rellenitos\n",
      "bruschette gusto aglio\n",
      "finísimo de pechuga de pavo\n",
      "sultanas\n",
      "bacon ahumado con madera de haya\n",
      "multifruits\n",
      "gemarineerde scharrel kipfiletreepjes\n",
      "bacalhau em azeite e alho\n",
      "organic oatmeal bread\n",
      "sach.past.rondes frts ass,\n",
      "ginger slices\n",
      "cocktail whole rye bread\n",
      "strawberry cupcakes\n",
      "vegan collagen\n",
      "la citronnade bio\n",
      "chair de tomate\n",
      "pilau rice\n",
      "sitloin tip steak\n",
      "preferred canola oil for frying\n",
      "carlota dark chocolate bar 75%\n",
      "uncured center cut smokehouse bacon\n",
      "ferme & fondant, ananas-coco\n",
      "zorba yaourt à la grecque\n",
      "пель мини\n",
      "honeyglow\n",
      "japanese candy gift box 130pcs set japanese food snack sweet dagashi box\n",
      "skyr\n",
      "duo carotte chou atlas\n",
      "diabla salsa picante\n",
      "cornichons extra fins\n",
      "nachos\n",
      "chicken balls cordon bleu\n",
      "italian ameretti\n",
      "aldi spargel grün kl. 1 400g bund 2.69€ 1kg 6.73€\n",
      "pure orange juice from concentrate\n",
      "lollipop world\n",
      "züber date bar\n",
      "biscotto mirtillo\n",
      "el ranchero\n",
      "happy bear\n",
      "bio branche\n",
      "tartufo\n",
      "terrine brocolis-chou 840 gr\n",
      "céréale infantile riz nature\n",
      "fruit punch flavored marshmallow\n",
      "salade de batavia blonde\n",
      "glaces des alpes\n",
      "flan à l'arôme de vanille nappé de caramel\n",
      "granola pineapple & coconut\n",
      "trehalose\n",
      "crispy sweet & sour chicken with egg fried rice\n",
      "eiweissbrot classic\n",
      "squiggly knife cut style noodles\n",
      "pain de campagne\n",
      "gluten free focaccia\n",
      "coulis de caramel\n",
      "super premium fountain ice cream\n",
      "nature\n",
      "smoked garlic aïoli\n",
      "cold brew\n",
      "pipas blancs (whitte pipas)\n",
      "stracciatella cake\n",
      "mogettes\n",
      "chicken breast  herbs - betagro\n",
      "piz sardona\n",
      "red bean mochie\n",
      "2 entrecotes\n",
      "なっちゃん！そのままりんご\n",
      "juice blend, orange pineapple\n",
      "möhren\n",
      "tin roof sundae\n",
      "l'épinette bière blonde fermière bio\n",
      "رايبي\n",
      "käseaufschnitt\n",
      "rostirondjes\n",
      "obst  himbeeren ganze früchte\n",
      "mix légumes préparés nordic style\n",
      "tofu\n",
      "shoprite, sliced yellow cling peaches in pear juice\n",
      "da bai tu cream prune candy 168g\n",
      "fueld foods\n",
      "message a croquer &quot;merci&quot;\n",
      "salame tipo hambúrgues\n",
      "petrella\n",
      "terrine de campagne\n",
      "high protein milk\n",
      "terrine gourmande à la moutarde à l’ancienne\n",
      "konserwa z łopatką wieprzowa\n",
      "raw & organic kombucha, green tea lemon balm\n",
      "rôti de porc sauce moutarde et ses petits légumes\n",
      "creme de munster gewurztramin\n",
      "chocolat noir noisette\n",
      "chunky blue cheese dressing\n",
      "litchi jelly\n",
      "chocolate alpino\n",
      "beef korma\n",
      "uea crown date 1kg\n",
      "white pizza\n",
      "champiñón blanco laminado bio\n",
      "linea drink\n",
      "cabochon\n",
      "yellowfin tuna\n",
      "biologische volkoren havervlokken grof\n",
      "croustimoelleuse à partager 4 fromages\n",
      "zitronensaft\n",
      "sprinkles halloween mix\n",
      "soft nougat mit gerösteten mandeln und haselnüssen\n",
      "erbette campagnole\n",
      "bsan\n",
      "tropi champan soda\n",
      "bûche caprifeuille\n",
      "tramezzini beinschinken\n",
      "organic date syrup\n",
      "sirup vanille\n",
      "paté de champiñones\n",
      "peperony dinamit\n",
      "americain natuur\n",
      "süßer senf\n",
      "ahornsirup\n",
      "amora sauce crudités nature offre saisonnière\n",
      "finisimo jamon cocido menos sal\n",
      "ricottine\n",
      "love corn\n",
      "filet de poulet\n",
      "gluten fri skagens klapper\n",
      "olio essenziale di menta piperita\n",
      "puisseguin saint emilion 14,5château fongaban\n",
      "hericium basic\n",
      "salame piccante al peperoncino\n",
      "lasagne(egg)\n",
      "petto di tacchino al forno\n",
      "pasta fresca\n",
      "dark chocolate yogurt flavored raisins, dark chocolate\n",
      "the dog, hot dog bun\n",
      "u saveur tropical\n",
      "печени пикантни фъстъци\n",
      "cashew butter\n",
      "huel v2 meal replacement powder\n",
      "pérail\n",
      "eat this, tomato jalapeno marmalade\n",
      "queso de oveja añejo fuerte\n",
      "tartine & cuisson au tournesol\n",
      "classic cinnamon oatmeal\n",
      "l’orginal\n",
      "chocolate mints\n",
      "popcorn new york\n",
      "pizza crostata hawai\n",
      "pastas de te\n",
      "thin sandwhich 100% whole wheat\n",
      "graine de citrouille\n",
      "petits coraya\n",
      "pate a sucre\n",
      "toffolossus biscuit\n",
      "saure bänder\n",
      "100% frutta mela, pera, banana\n",
      "ravioli\n",
      "jamón serrano\n",
      "capsules de café espresso ristretto\n",
      "шалфей\n",
      "gourmet spreadable cheese\n",
      "pralines amandes naturelles concassées\n",
      "peperoncino macinato\n",
      "ventresca di tonno\n",
      "emmental au lait cru\n",
      "crackers 3 graines\n",
      "taquitos\n",
      "l'ultime gâteau d'anniversaire\n",
      "nouilles de riz déshydratées\n",
      "pure butter shortbread triangles\n",
      "paves aux noix\n",
      "havre crisp jordgubb\n",
      "boudin à l'ancienne aux oignons\n",
      "frollini montanari\n",
      "pigs in blanket\n",
      "panko prézli\n",
      "creamy white chocolate\n",
      "mini baba\n",
      "lardo del norcino\n",
      "gouda jeune moutarde\n",
      "cut green beans\n",
      "sirop vanille\n",
      "eau minérale naturelle\n",
      "giant eagle, milk chocolate double dipped peanuts\n",
      "petit chevre doux\n",
      "brotbackmischung\n",
      "organic pure madagascar vanilla extract\n",
      "agar agar\n",
      "желе dr.oetker со вкусом вишни\n",
      "épeautre\n",
      "merluza argentina\n",
      "pâté  croûte aux pistaches\n",
      "crêpes dentelle l'authentique\n",
      "esparragos blancos de navarra\n",
      "thé gingembre sucré\n",
      "miel 4 saveurs\n",
      "enriched white corn meal\n",
      "jalapeño nut mix\n",
      "pomodorini\n",
      "tomato ketchup\n",
      "pre-workout\n",
      "pinto beans\n",
      "son de blé\n",
      "maionese senza uova\n",
      "confettura extra di albicocche\n",
      "saint-jacques gratinées fondue de poireaux et pommes de terre\n",
      "thonon natural mineral water from the alps\n",
      "fancy\n",
      "ortolan l’original\n",
      "hverdagbrød\n",
      "club sandwich thon\n",
      "au bonheur des boîtes\n",
      "bob's red mill, stone ground raisin bran muffin mix\n",
      "mayonnaise\n",
      "member’s mark pork burnt ends with bbq sauce\n",
      "turrón blando\n",
      "pink grapefruit gin\n",
      "choc chunk cookie\n",
      "escalope\n",
      "u sauce provençale\n",
      "queijo ralado vegetal sabor parmesão sora\n",
      "herr's\n",
      "butchers select | 6 chicken sausages\n",
      "fromage fermier de vache au lait cru\n",
      "hair shine\n",
      "top of the pop\n",
      "vinaigrette nature\n",
      "organic forbidden rice\n",
      "rainbow slaw\n",
      "poudre de cacao\n",
      "fette biscottate\n",
      "full cream milk\n",
      "frozen whole strawberries\n",
      "extrait à base de 100% pépins de pamplemousse\n",
      "coca cola\n",
      "horse radish\n",
      "knusper-weihnachtsmann\n",
      "galletas rellenas con crema de chocolate\n",
      "jambon grillé\n",
      "biscotti chocolate chip\n",
      "vegan all in one\n",
      "protein delite shake\n",
      "anaca 3 + 12 en 1\n",
      "aperitiv'o carpaccio aromatique de mopur et tofu\n",
      "cafe capsulas cafe con leche\n",
      "yogur para beber sabor limon\n",
      "schorlefranz\n",
      "choucroute garnie\n",
      "foie de veau\n",
      "organic full cream milk\n",
      "+ imunitetas kiwi\n",
      "ekologisk  majs\n",
      "marg doriana pote\n",
      "gouda au cumin\n",
      "polpa casareccio\n",
      "soft baked biscuits\n",
      "pain o muesli\n",
      "dark chocolate granola\n",
      "penne pasta gf\n",
      "roundy's, hot cocoa coffee mix\n",
      "fat cat purrypurry sauce hot sauce preservativefree\n",
      "tea drops\n",
      "corn, whole kernel\n",
      "honey  chicken\n",
      "thon blanc\n",
      "soupe carotte lait de coco\n",
      "brooklyn, carnival hot cocoa, salted caramel\n",
      "diced tomatoes\n",
      "now calcium & magnesium softgels\n",
      "karriere pille\n",
      "morcilla cebolla negra\n",
      "масло сладкосливочное несоленое крестьянское 72,5%\n",
      "hundreds and thousands\n",
      "100% pure whey concentrate\n",
      "épidor\n",
      "pastrami\n",
      "basler brot\n",
      "bellino, extra virgin olive oil\n",
      "h - vollmilch 3,8%\n",
      "tonno all’olio di oliva\n",
      "pilar as chocolate\n",
      "fegato di manzo a fette\n",
      "room spray\n",
      "glam hair spray 60ml\n",
      "fake natty pré treino\n",
      "feigenaufstrich\n",
      "bio schwarzkümmel öl\n",
      "marques de arienzo crianza tinto\n",
      "iced tea pêssego\n",
      "frutos secos\n",
      "kreuzkümmel\n",
      "puree de noux de cajou\n",
      "bonbons glaçons\n",
      "super foods organic pears, green beans & peas + super chia - stage 4\n",
      "melange randonnee classique\n",
      "winter suppe\n",
      "fettuccine gummi cola\n",
      "queso especial hamburguesas fresco picante\n",
      "cerveja puro malte ribeirão lager - lager com casca de laranja\n",
      "collection barista\n",
      "popcorn salt ballpark style\n",
      "parmentier de canard\n",
      "kit kat 4 finger 3 pack + 1 free\n",
      "french vanilla ice cream\n",
      "surgelati\n",
      "old fashion enriched bread\n",
      "spargelspitzen\n",
      "filety śledziowe w sosie musztardowym\n",
      "caffino cappuccino hazelnut\n",
      "μαργαρινη soft light\n",
      "nitro wood\n",
      "asperges blanche\n",
      "kentucky straight bourbon whiskey\n",
      "ricciarelli di siena\n",
      "engelse drop\n",
      "merguez camarguaise\n",
      "champion\n",
      "pretzel sticks\n",
      "tapolive\n",
      "pasta\n",
      "caffeine free orange soda\n",
      "salamella\n",
      "dry roasted & salted pistachios\n",
      "maison taillefer\n",
      "heritage flakes cereak\n",
      "southwest chicken salad croissant pack\n"
     ]
    }
   ],
   "source": [
    "uniques_name = df['name'].unique()\n",
    "uniques_name_list = list(uniques_name)\n",
    "for value in uniques_name_list:\n",
    "    print(value)"
   ]
  },
  {
   "cell_type": "code",
   "execution_count": 9,
   "metadata": {},
   "outputs": [
    {
     "name": "stdout",
     "output_type": "stream",
     "text": [
      "0.9016393443\n",
      "nan\n",
      "1.0\n",
      "0.0765027322\n",
      "0.3333333333\n",
      "0.7431693989\n",
      "0.3114754098\n",
      "0.3184357542\n",
      "0.8743169399\n",
      "0.0\n",
      "0.2544378698\n",
      "0.9361702128\n",
      "0.1336898396\n",
      "0.9945355191\n",
      "0.6557377049\n",
      "0.0319148936\n",
      "0.4316939891\n",
      "0.3244680851\n",
      "0.4207650273\n",
      "0.3031914894\n",
      "0.374301676\n",
      "0.4245810056\n",
      "0.6010928962\n",
      "0.4095744681\n",
      "0.1584699454\n",
      "0.7340425532\n",
      "0.2513661202\n",
      "0.4970414201\n",
      "0.2960893855\n",
      "0.2881355932\n",
      "0.2945205479\n",
      "0.4124293785\n",
      "0.7234042553\n",
      "0.4189944134\n",
      "0.5901639344\n",
      "0.0815217391\n",
      "0.7541899441\n",
      "0.0744680851\n",
      "0.9682539683\n",
      "0.1542553191\n",
      "0.4347826087\n",
      "0.9734042553\n",
      "0.0382513661\n",
      "0.6701570681\n",
      "0.9943820225\n",
      "0.8639053254\n",
      "0.7278106509\n",
      "0.8961748634\n",
      "0.320754717\n",
      "0.4426229508\n",
      "0.420212766\n",
      "0.2921348315\n",
      "0.962962963\n",
      "0.4378378378\n",
      "0.1256830601\n",
      "0.8988095238\n",
      "0.2131147541\n",
      "0.1147540984\n",
      "0.8994413408\n",
      "0.3442622951\n",
      "0.9289617486\n",
      "0.4269662921\n",
      "0.3315217391\n",
      "0.5355191257\n",
      "0.9617486339\n",
      "0.8510638298\n",
      "0.3152173913\n",
      "0.2349726776\n",
      "0.3036649215\n",
      "0.9675675676\n",
      "0.7486338798\n",
      "0.8715083799\n",
      "0.8776595745\n",
      "0.7650273224\n",
      "0.9625\n",
      "0.2786885246\n",
      "0.8938547486\n",
      "0.0960451977\n",
      "0.3089005236\n",
      "0.3227513228\n",
      "0.3015873016\n",
      "0.0111731844\n",
      "0.0558659218\n",
      "0.9572192513\n",
      "0.2122905028\n",
      "0.0327868852\n",
      "0.9890710383\n",
      "0.0710382514\n",
      "0.8404255319\n",
      "0.737704918\n",
      "0.0918918919\n",
      "0.255952381\n",
      "0.417989418\n",
      "0.1818181818\n",
      "0.6349206349\n",
      "0.8983050847\n",
      "0.2847682119\n"
     ]
    }
   ],
   "source": [
    "uniques_countries = df['countries'].unique()\n",
    "uniques_countries_list = list(uniques_countries)\n",
    "for value in uniques_countries_list:\n",
    "    print(value)"
   ]
  },
  {
   "cell_type": "code",
   "execution_count": 10,
   "metadata": {},
   "outputs": [
    {
     "name": "stdout",
     "output_type": "stream",
     "text": [
      "empty\n",
      "bag\n",
      "szkło,słoik\n",
      "etui en carton\n",
      "cardboard, tetra pak\n",
      "plastique, carton, frais\n",
      "carton\n",
      "sachet\n",
      "pappe\n",
      "pp-tub, pp-lid\n",
      "tubo de cartón\n",
      "métal, verre, bocal\n",
      "frais, empballage et étiquette papier\n",
      "plastique, barquette\n",
      "karton\n",
      "plastique\n",
      "brique, carton\n",
      "cartão,caixa,lata,lata de alimentos,metais,canned\n",
      "1 bouteille plastique à recycler, 1 bouchon plastique à recycler\n",
      "métal, boîte, conserve\n",
      "plastic\n",
      "stück\n",
      "plastic bottle\n",
      "métal, recyclable metals, aluminium, conserve\n",
      "plastique, carton, barquette\n",
      "kunststoff\n",
      "glass,produkt,bocal verre\n",
      "plastique, bouteille, format pour sauce vinaigrette\n",
      "bouteille verre\n",
      "plastique,sachet,07,komposit,o\n",
      "caja de cartón,envoltorio de plástico,soporte de plástico\n",
      "box,cardboard\n",
      "05 pp,21 pap,22 pap\n",
      "etui en carton,capsule de café aluminium\n",
      "plastique,bouteille\n",
      "bouteille plastique\n",
      "glass-bottle\n",
      "plástico\n",
      "papier\n",
      "alufolie\n",
      "22 pap\n",
      "can\n",
      "botella\n",
      "vidro\n",
      "barquette, etui en carton, film en plastique\n"
     ]
    }
   ],
   "source": [
    "uniques_packaging = df['packaging'].unique()\n",
    "uniques_packaging_list = list(uniques_packaging)\n",
    "for value in uniques_packaging_list:\n",
    "    print(value)"
   ]
  },
  {
   "cell_type": "code",
   "execution_count": 11,
   "metadata": {},
   "outputs": [
    {
     "name": "stdout",
     "output_type": "stream",
     "text": [
      "nan\n",
      "0.25\n",
      "1.0\n",
      "0.5\n",
      "0.0\n",
      "0.75\n"
     ]
    }
   ],
   "source": [
    "uniques_ecoscore_tags = df['ecoscore_tags'].unique()\n",
    "uniques_ecoscore_tags_list = list(uniques_ecoscore_tags)\n",
    "for value in uniques_ecoscore_tags_list:\n",
    "    print(value)"
   ]
  },
  {
   "cell_type": "code",
   "execution_count": 12,
   "metadata": {},
   "outputs": [
    {
     "name": "stdout",
     "output_type": "stream",
     "text": [
      "nan\n",
      "77.0\n",
      "16.0\n",
      "79.0\n",
      "60.0\n",
      "41.0\n",
      "40.0\n",
      "27.0\n",
      "10.0\n",
      "78.0\n",
      "57.0\n",
      "59.0\n",
      "0.0\n",
      "50.0\n",
      "22.0\n",
      "19.0\n",
      "67.0\n",
      "87.0\n",
      "76.0\n",
      "31.0\n",
      "72.0\n",
      "43.0\n",
      "45.0\n",
      "25.0\n",
      "38.0\n",
      "42.0\n",
      "21.0\n",
      "17.0\n",
      "8.0\n",
      "100.0\n",
      "34.0\n",
      "54.0\n",
      "71.0\n",
      "55.0\n",
      "37.0\n",
      "18.0\n",
      "26.0\n",
      "39.0\n",
      "15.0\n",
      "28.0\n",
      "46.0\n",
      "70.0\n",
      "9.0\n",
      "32.0\n",
      "3.0\n",
      "48.0\n",
      "6.0\n",
      "69.0\n",
      "30.0\n",
      "82.0\n",
      "47.0\n",
      "53.0\n",
      "51.0\n",
      "29.0\n",
      "44.0\n",
      "65.0\n",
      "36.0\n"
     ]
    }
   ],
   "source": [
    "uniques_ecoscore_score = df['ecoscore_score'].unique()\n",
    "uniques_ecoscore_score_list = list(uniques_ecoscore_score)\n",
    "for value in uniques_ecoscore_score_list:\n",
    "    print(value)"
   ]
  },
  {
   "cell_type": "code",
   "execution_count": 13,
   "metadata": {},
   "outputs": [
    {
     "name": "stdout",
     "output_type": "stream",
     "text": [
      "empty\n",
      "yogurt-flavored-coating, pretzels, cinnamon, condiment, spice, artificial-flavouring, flavouring, sugar, added-sugar, disaccharide, palm-kernel-oil, oil-and-fat, vegetable-oil-and-fat, palm-kernel-oil-and-fat, palm-oil, palm-oil-and-fat, skimmed-milk-powder, dairy, milk-powder, whey-powder, whey, nonfat-yogurt-powder, e171, soya-lecithin, e322, e322i, e270, vanilla-flavouring, fortified-wheat-flour, cereal, flour, wheat, cereal-flour, wheat-flour, salt, corn-syrup, sodium-bicarbonate-yeast, cultured-whey, skimmed-milk, milk, colour, emulsifier, e375, reduced-iron, minerals, iron, thiamin-mononitrate, thiamin, e101, folic-acid, folate\n",
      "rapeseed-oil, oil-and-fat, vegetable-oil-and-fat, water, vinegar, sugar, added-sugar, disaccharide, juice, salt, plant-protein, protein, spice, condiment, flavouring, thickener, garlic, vegetable, root-vegetable, onion-family-vegetable, onion, antioxidant, apple-juice-from-concentrate, fruit, malaceous-fruit, apple, fruit-juice, apple-juice, concentrated-apple-juice, lemon-juice-from-concentrate, lemon-juice, broad-bean, pod-and-seed-vegetable, mustard, e410, e385\n",
      "cane-sugar, added-sugar, disaccharide, sugar, invert-sugar, monosaccharide, oil-of-peppermint, e129\n",
      "wheat-flour, cereal, flour, wheat, cereal-flour, sugar, added-sugar, disaccharide, butter, dairy, chocolate-chunk, chocolate, egg, salt, e500, cocoa-paste, plant, cocoa, cocoa-butter, fat-reduced-cocoa-powder, cocoa-powder, emulsifier, flavouring, e450, soya-lecithin, e322, e322i\n",
      "oat-flour, cereal, flour, cereal-flour, oat, buckwheat, flax, coconut-sugar, added-sugar, disaccharide, sugar, palm-sugar, yeast, himalayan-pink-salt, salt, himalayan-salt, pink-salt, raising-agent, corn-starch, starch, e341, e500ii, e500\n",
      "specially-ground-and-dehydrated-whole-white-corn, water, calcium-propionate-and-a-trace-of-lime\n",
      "suliato, coruro, sii\n",
      "whole-grain-oat-flakes, cereal, oat, oat-flakes, sugar, added-sugar, disaccharide, high-oleic-canola-oil, peanut-paste, nut, peanut, brown-rice-flour, flour, cereal-flour, rice, wholemeal-flour, rice-flour, contains-less-than-2-of, salt, e500ii, e500, soya-lecithin, e322, e322i, brown-sugar-syrup, sugar-syrup\n",
      "semi-skimmed-milk, dairy, milk, sugar, added-sugar, disaccharide, fat-reduced-cocoa-powder, plant, cocoa, cocoa-powder, stabiliser, e407, e466\n",
      "whole-grain-oat-flakes, cereal, oat, oat-flakes, soy-protein-isolate, protein, plant-protein, soy-protein, e1200, wholemeal-oat-flour, flour, cereal-flour, wholemeal-flour, oat-flour, salt, e412, natural-and-artificial-flavouring, flavouring, natural-flavouring, artificial-flavouring, soya-lecithin, e322, e322i, e955, e150a, vitamins, minerals, reduced-iron, iron, e375, pyridoxine-hydrochloride, vitamin-b6, retinyl-palmitate, vitamin-a, e101, thiamin-mononitrate, thiamin, folic-acid, folate, e170i, e170\n",
      "olive-oil, oil-and-fat, vegetable-oil-and-fat, vegetable-oil\n",
      "water, cold-brew-coffee, coffee, cane-sugar, added-sugar, disaccharide, sugar, almond, nut, tree-nut, e968, natural-flavouring, flavouring, cocoa-powder, plant, cocoa, e414, e500ii, e500, sunflower-lecithin, e322, e322i, sea-salt, salt, monk-fruit-extract\n",
      "extra-vierge-olijfolie-100-italiaans-olijfolie-van-de-superieure-categorie-die-rechtstreeks-uit-olijven-en-uitsluitend-met-mechanische-middelen, bewaar-op-een-koele-plaats, weg-van-warmtebronnen-en-uit-de-buurt-van-licht, rechtstreeks-afkomstig-van-olijven, het-beste-voor-het-einde, bottled-by, 37, zona-a-s-i, molfetta, 70056, tel, 080-3375629, www-olioluglio-it-750-mle, azienda-certificata-certified-company-euk-hia-ita-00053-hia-حلال-www-halalint-org-rispetta-l-ambiente-bottiglia-vetro-glass-indifferenziata-bottle-tappo-cap-mixed-waste-gl71-caldpe90-versatore-pourer-plastica-ldpe-04-plastic-consulta-le-indicazioni-del-tuo-comune-8018440002142-da-consumarsi-preferibilmente-entro, bbd-28, 05, 2025-lot-10an11318l1, zie-op-de-dop-en, of-label-dichiarazione-nutrizionale-nutrition-facts-valori-medi, med-value-per-100-ml-energia, energy-kj-3404, kcal-828-grassi, fat-92-g-di-cui-acidi-grassi-saturi-14-g-of-which-saturates-carboidrati, carbohydrate-og-di-cui-zuccheri, of-which-sugars-og-proteine, protein-og-sale, salt-og-prodotto-confezionato-da, medsol-srl-viale-a, olivetti, 39, 26-fl-oz, best-before\n",
      "duck-breast, poultry, duck, poultry-meat, duck-meat, salt, flavouring, pepper-extract, seed, pepper, ferment, preservative, antioxidant, e250\n",
      "wheat-flour, cereal, flour, wheat, cereal-flour, sugar, added-sugar, disaccharide, e150a, dextrose, monosaccharide, glucose, palm-oil, oil-and-fat, vegetable-oil-and-fat, palm-oil-and-fat, corn-flour, corn, cocoa-high-fructose-corn-syrup, corn-syrup, modified-corn-starch, starch, corn-starch, modified-starch, e500ii, e500, salt, e471, soya-lecithin, e322, e322i\n",
      "water, pea-protein, protein, plant-protein, wheat, cereal, sunflower-oil, oil-and-fat, vegetable-oil-and-fat, vegetable-oil, coconut-oil, natural-flavouring, flavouring, soy-protein-isolate, soy-protein, starch, vegetable-fiber, fiber, stabiliser, salt, potato, vegetable, root-vegetable, tuber, tapioca, bamboo, shoot-vegetable, citrus-fruit, fruit, psyllium, e461\n",
      "baby-lima-beans, vegetable, pod-and-seed-vegetable, lima-bean\n",
      "wheat-flour, cereal, flour, wheat, cereal-flour, water, palm-fat, oil-and-fat, vegetable-oil-and-fat, palm-oil-and-fat, colza-oil, rapeseed-oil, stabiliser, e466, e412, raising-agent, e450, acid, preservative, e202, salt, emulsifier, e422, e500, e296, e282\n",
      "gherkin, vegetable, fruit-vegetable, cucumber, water, salt, acidity-regulator, vinegar, spice, condiment, stabiliser, preservative, e260, e509, e224\n",
      "coconut, fruit, sprouted-sesame-seeds, date, spice, condiment, unsulphured\n",
      "north-pole-fancy-sprinkles, alpine-for-you-fancy-sprinkles, glacier-bae-fancy-sugar, sugar, added-sugar, disaccharide, dextrose, monosaccharide, glucose, palm-kernel-oil, oil-and-fat, vegetable-oil-and-fat, palm-kernel-oil-and-fat, corn-starch, starch, water, e1400, cocoa-butter, plant, cocoa, whole-milk-powder, dairy, milk-powder, cocoa-paste, maltodextrin, e903, natural-flavouring, flavouring, e572, e127, e102, e133, confectioner-s-glaze, mica-based-pearlescent-pigment, e129, e171, e110, corn-syrup, vanilla, e414, salt, soya-lecithin, e322, e322i, e172ii, e172, e466, e418, e415, vanillin, sprinkles, peppermint-candy, e464, e490, vegetable-juice-color\n",
      "potato, vegetable, root-vegetable, tuber, mature-cheddar, dairy, cheese, cheddar, semi-skimmed-milk, milk, butter, sea-salt, salt, cracked-black-pepper, seed, pepper, black-pepper\n",
      "raspberry, fruit, berries\n",
      "fat-0-5g-3-og-omg-0-omg-12-ohydrate-15g-5-fiber-less-than-1g-0-ugars-og-des-og-added-sugars-0-ritol-5g-on-taste-is-based-on-my-belief-that-real-foods-can-make-a-real-difference, that-passion-fuels-our-mission-to-help-people-live-vibrant-lives-through-good, clean-nutrition, in-good-health, аганей-andrew-abraham, m-d, founder, cancer-survivor-and-food-entrepreneur-21g-37-in-d-omcg-0-um-70mg-6-35-2-p-f-64mg-assium-80mg-daily-value, tells-you-how-much-a-nutrient-serving-of-food-contributes-to-a-daily-diet, 2-000-ories-a-day-is-used-for-general-nutrition-advice, orgain-com-see-website-for-pro-gredients, brown-rice-prote-rganic-chia-seed, orgain-creamer-base-tm, acacia, high-oleic-erythritol-natural-flavors, sea-salt, salt, reba, e412, e415, natural-flavouring, flavouring, dv, orgain-protein-blendtm, pea-protein, protein, plant-protein, stevia-unflower-oil-rice-dextrin, sunflower-lecithin, e322, e322i, e392\n",
      "cooked-pasta, dough, pasta, sauce, tomato-sauce, chorizo, meat, red-bell-pepper, vegetable, fruit-vegetable, bell-pepper, yellow-bell-pepper, emmental, dairy, cheese, oregano, herb, basil, wheat-flour, cereal, flour, wheat, cereal-flour, water, yeast, salt, sugar, added-sugar, disaccharide, double-concentrated-tomato, tomato, tomato-concentrate, extra-virgin-olive-oil, oil-and-fat, vegetable-oil-and-fat, vegetable-oil, olive-oil, virgin-olive-oil, onion, root-vegetable, onion-family-vegetable, natural-oregano-flavouring, flavouring, natural-flavouring, garlic, chili-pepper, pork-meat, animal, pork, pork-fat, fat, animal-fat, dextrose, monosaccharide, glucose, spice, condiment, spice-extract, ferment, preservative, e250, e301\n",
      "pistachio-nuts, nut, tree-nut, salt, as-indicated-in-bol-type, ty\n",
      "cultured-pasteurized-grade-a-nonfat-milk\n",
      "wheat-dextrose, added-sugar, monosaccharide, glucose, dextrose, salt, emulsifier\n",
      "green-olive, vegetable, fruit-vegetable, olive, olive-oil, oil-and-fat, vegetable-oil-and-fat, vegetable-oil, colza-oil, rapeseed-oil, capers, plant, salt, natural-flavouring, flavouring\n",
      "ham, animal, meat, pork, pork-meat, water, salt, natural-flavouring, flavouring, sugar, added-sugar, disaccharide, carrot-extract, vegetable, root-vegetable, taproot-vegetable, carrot, spice-extract, condiment, spice, antioxidant, preservative, e301, e250\n",
      "filling, evaporated-cane-syrup, almond, nut, tree-nut, oil, oil-and-fat, tapioca-maltodextrin, maltodextrin, natural-vanilla-extract, plant, vanilla, vanilla-extract, potato-starch, starch, e412, e410, e407, sunflower-lecithin, e322, e322i, sea-salt, salt, natural-flavouring, flavouring, coating, chocolate, soya-lecithin, filtered-water, water, sunflower, safflower, coconut-oil, vegetable-oil-and-fat, vegetable-oil\n",
      "spinach, vegetable, leaf-vegetable\n",
      "shrimp, shellfish, crustacean, salt, e452vi, e452\n",
      "chicken-breast-meat-with-rib-meat, water, cayenne-pepper-sauce, white-vinegar, vinegar, contains-2-and-less-of-heavy-cream, sugar, added-sugar, disaccharide, sea-salt, salt, modified-corn-starch, starch, corn-starch, modified-starch, tabasco-brand-dry-red-seasoning, e339, flavouring, e160c, chicken-flavouring, e415, spice, condiment, fractionated-coconut-oil, oil-and-fat, vegetable-oil-and-fat, vegetable-oil, coconut-oil, e262ii, e262, aged-cayenne-red-peppers, distilled-vinegar, garlic, vegetable, root-vegetable, onion-family-vegetable, e407, red-bell-pepper, fruit-vegetable, bell-pepper, cottonseed-oil, e471, e330, vitamin-e, chicken-broth, poultry, chicken, broth, poultry-broth, natural-flavouring, antioxidant\n",
      "colza-oil, oil-and-fat, vegetable-oil-and-fat, rapeseed-oil, water, alcohol-vinegar, vinegar, sugar, added-sugar, disaccharide, pasteurised-egg-yolk, egg, egg-yolk, summer-truffle, mushroom, truffle, salt, starch, dijon-mustard, mustard, wine-vinegar, flavouring, colour, e160ai, e160a, natural-flavouring, spice, condiment, mustard-seed, e150a\n",
      "crumbed-ham-poked-ham-formed-from-cuts-of-irish-pork-leg-meat-with-a-crumb-coating-gredients, salt, crumb, dextrose, added-sugar, monosaccharide, glucose, pork-atine, stabiliser, flavouring, antioxidant, sodium-ascorbate-servative, also-contain-a-gluten-containing-cereal, tional-information-al-values-saturates-drate-sugars-per, irish-pork, pea-flour, flour, colour, sodium-di, tri-phosphate, e250, paprika-e160c\n",
      "concentrated-orange-juice, fruit, citrus-fruit, juice, fruit-juice, orange, orange-juice\n",
      "choice-blended-wheat-flour, canola-oil, oil-and-fat, vegetable-oil-and-fat, rapeseed-oil, malt-syrup, added-sugar, disaccharide, syrup, yeast, salt, and-soda\n",
      "pasteurised-cow-s-milk, dairy, milk, pasteurised-milk, cow-s-milk, salt, ferment, preservative, e235\n",
      "lupin-bean, vegetable, legume, pulse, sesame, seed, wheat-flour, cereal, flour, wheat, cereal-flour, rice-flour, rice, rice-syrup, added-sugar, disaccharide\n",
      "ham, animal, meat, pork, pork-meat, water, salt, dextrose, added-sugar, monosaccharide, glucose, glucose-syrup, flavouring, antioxidant, preservative, e316, e250\n",
      "high-fructose-corn-syrup, added-sugar, disaccharide, monosaccharide, fructose, glucose, corn-syrup, glucose-fructose-syrup, water, strawberry-puree, fruit, berries, puree, strawberry, e296, cellulose-gel, e466, e211, e202, concentrated-lemon-juice, juice, fruit-juice, lemon-juice, natural-flavouring, flavouring, e129, e385, bl, preservative\n",
      "antioxidant, fruit, puree\n",
      "menthol\n",
      "lime-juice-concentrate, fruit, citrus-fruit, juice, fruit-juice, lime, lime-juice, lime-oil, essential-oil, preservative, e224\n",
      "pork-breast, animal, meat, pork, pork-meat, breast, salt, dextrose, added-sugar, monosaccharide, glucose, stabiliser, preservative, sugar, disaccharide, antioxidant, e451, e452, e262, e243, e250, e316, e301\n",
      "juice, fruit, puree, mandarin, citrus-fruit, apricot, prunus-species-fruit, banana, orange, passionfruit, water, vitamins, pantothenic-acid, folic-acid, folate, grape, berries\n",
      "cod, fish, white-fish, garlic, vegetable, root-vegetable, onion-family-vegetable, salt\n",
      "wheat-flour, cereal, flour, wheat, cereal-flour, filtered-water, water, oat, whole-wheat-flour, wholemeal-flour, cracked-wheat, honey, added-sugar, canola-oil, oil-and-fat, vegetable-oil-and-fat, rapeseed-oil, salt, yeast, cultured-wheat-flour, dough-improver, barley-malt-flour, barley, barley-flour\n",
      "nts, filtered-water, water, rye-flour, flour, cereal-flour, potato-starch, starch, sea-salt, salt, caraway, condiment, spice, yeast, sourdough-starter, ferment, microbial-culture, lactic-ferments, ents, eau-filtree, farine-de-seigle, fecule-de-de-pomme-de-terre, sel-de-mer, poudre-de-carv-levure, culture-de-levain-naturel, peut-contenir-des-traces-de-noix, www, kasselerbreads, com-0-0-quode-28g-10-8-69-hon-facts-s-daly-value-fdprodcts-inc-on-mp-no, rye-meal, semoule-de-seigle\n",
      "price-1-5\n",
      "water, lemon-juice, fruit, juice, fruit-juice, cane-sugar, added-sugar, disaccharide, sugar, antioxidant, e300\n",
      "modified-corn-starch, starch, corn-starch, modified-starch, sugar, added-sugar, disaccharide, salt, acid, e330\n",
      "canola-oil-with-tbhq, methyl-silicone, to-preserve-stability, to-inhibit-foaming\n",
      "pork, animal, water, sea-salt, salt, cane-sugar, added-sugar, disaccharide, sugar\n",
      "skimmed-milk, dairy, milk, milk-proteins, protein, animal-protein, lactic-ferments, ferment, microbial-culture, skimmed-milk-powder, milk-powder, pork-gelatin, animal, pork, e428, flavouring, sweetener, e951, e950\n",
      "sugar, added-sugar, disaccharide, whole-milk-powder, dairy, milk-powder, vegetable-oil, oil-and-fat, vegetable-oil-and-fat, lactose, wheat-flour, cereal, flour, wheat, cereal-flour, starch, salt, modified-starch, emulsifier, e150\n",
      "carrot, vegetable, root-vegetable, taproot-vegetable\n",
      "corn, cereal, sunflower-oil, oil-and-fat, vegetable-oil-and-fat, vegetable-oil, spicy-barbeque-flavour-seasoning, sugar, added-sugar, disaccharide, salt, tomato, vegetable, fruit-vegetable, acid, malic-acid-onion-powder, garlic, root-vegetable, onion-family-vegetable, yeast-extract, yeast, chili-pepper, flavouring, colour, e330, e160c\n",
      "orange-juice-from-concentrate, fruit, citrus-fruit, juice, fruit-juice, orange, orange-juice\n",
      "rice-flour, flour, rice, yeast\n",
      "sugar, added-sugar, disaccharide, corn-syrup, e428, e330, e440a, contains-less-than-0-5-of-the-following, e129, e202, e127, e903, natural-and-artificial-flavouring, flavouring, natural-flavouring, artificial-flavouring, preservative\n",
      "semi-skimmed-milk, dairy, milk, sugar, added-sugar, disaccharide, water, caramelised-sugar, glucose-fructose-syrup, monosaccharide, fructose, glucose, modified-corn-starch, starch, corn-starch, modified-starch, thickener, flavouring, colour, e1422, e407, e440a, e415, e160b\n",
      "muesli, coconut-chips, fruit, coconut, candied-pinapple, oat-flakes, cereal, oat, sugar, added-sugar, disaccharide, rapeseed-oil, oil-and-fat, vegetable-oil-and-fat, com-wheat-crispies, wheat-flour, flour, wheat, cereal-flour, cereal-crispies, wheat-starch, starch, blossom-honey, salt, antioxidant, e306, pineapple, cane-sugar, acidity-regulator, com-grits, corn-flour, corn, e304, e330\n",
      "cooked-egg-fried-rice, water, chicken, poultry, sugar, added-sugar, disaccharide, red-bell-pepper, vegetable, fruit-vegetable, bell-pepper, yellow-bell-pepper, pineapple, fruit, tomato-ketchup, onion, root-vegetable, onion-family-vegetable, rapeseed-oil, oil-and-fat, vegetable-oil-and-fat, red-wine-vinegar, vinegar, corn-flour, cereal, flour, corn, garlic-puree, garlic, ginger, condiment, spice, soy-sauce, sauce, sesame-oil, vegetable-oil, salt, colour, long-grain-rice, rice, scrambled-egg, pea, legume, pod-and-seed-vegetable, chicken-breast, chicken-meat, potato-starch, starch, skimmed-yogurt, dairy, yogurt, concentrated-lemon-juice, juice, fruit-juice, lemon-juice, tomato-concentrate, tomato, spirit-vinegar, white-pepper, seed, pepper, preservative, molasses, e160c, egg, skimmed-milk-powder, milk-powder, e223, soya-bean, pulse, soya, wheat, e1510\n",
      "corn-starch, starch, water, natural-rice-sourdough, dough, sourdough, sunflower-oil, oil-and-fat, vegetable-oil-and-fat, vegetable-oil, corn-flour, cereal, flour, corn, psyllium, fiber, vegetable-fiber, pea-protein, protein, plant-protein, flax-flour, seed, flax, flax-seed, yeast, dextrose, added-sugar, monosaccharide, glucose, sea-salt, salt, apple-fiber, thickener, e415, spice, condiment, rice-flour, rice, e412\n",
      "fresh-milk, dairy, milk, fresh-cream, cream, strawberry, fruit, berries, sugar, added-sugar, disaccharide, corn-syrup-solids, corn-syrup, skimmed-milk, e471, cellulose-gel, e466, e410, e407, e330, red-color, water, modified-starch, starch, natural-flavouring, flavouring, e129, e211, and-potassium-sorbate, e490, preservative\n",
      "soy-base, natural-flavouring, flavouring, vitamin-d\n",
      "sugar, added-sugar, disaccharide, salt, emulsifier, soya, lupin-bean, vegetable, legume, pulse, barley, cereal, oat, rye, almond, nut, tree-nut, hazelnut\n",
      "orange-juice, fruit, citrus-fruit, juice, fruit-juice, orange, pineapple-juice, pineapple\n",
      "pasteurised-cow-s-milk, dairy, milk, pasteurised-milk, cow-s-milk, salt, lactic-ferments, ferment, microbial-culture, microbial-rennet, enzyme, coagulating-enzyme, rennet, vegetarian-rennet\n",
      "sunflower-oil, oil-and-fat, vegetable-oil-and-fat, vegetable-oil, potato-starch, starch, dextrose, added-sugar, monosaccharide, glucose, corn-starch, sugar, disaccharide, spice, condiment, flavouring\n",
      "peach, fruit, prunus-species-fruit, water, pear-juice-concentrate, juice, fruit-juice, pear, pear-juice\n",
      "animal, meat, pork, pork-meat, pork-liver, egg, milk, dairy, salt, pepper, seed, garlic, vegetable, root-vegetable, onion-family-vegetable, spice, condiment, onion, shallot\n",
      "pork-liver, animal, meat, pork, pork-meat, salt, natural-flavouring, flavouring\n",
      "pilsner-laden-water, cane-sugar, added-sugar, disaccharide, sugar, japanese-bancha-green-tea, lemon-balm, herb, kombucha, microbial-culture, ferment, medusomyces-gisevi\n",
      "rye, cereal, wheat, lupin-bean, vegetable, legume, pulse, nut, peanut\n",
      "dough, mozzarella, dairy, cheese, edam, emmental, fresh-cream, cream, fromage-blanc, bleu-d-auvergne, blue-cheese, water, corn-starch, starch, salt, oregano, herb, nutmeg, condiment, spice, wheat-flour, cereal, flour, wheat, cereal-flour, colza-oil, oil-and-fat, vegetable-oil-and-fat, rapeseed-oil, baker-s-yeast, yeast, sugar, added-sugar, disaccharide\n",
      "lemon-juice, fruit, juice, fruit-juice, e224\n",
      "sugar, added-sugar, disaccharide, corn-starch, starch, vegetable-oil, oil-and-fat, vegetable-oil-and-fat, rice-flour, flour, rice, cocoa, plant, confectioners-glaze, e903, e127, e133, e110, fd-c-yellow-6-lake, e102, e129, soya-lecithin, e322, e322i, e1400, natural-and-artificial-flavouring, flavouring, natural-flavouring, artificial-flavouring, fd-c-blue-2-lake, fd-c-red-40-lake, e414, e466, e407, cottonseed, seed, soya-bean, vegetable, legume, pulse, soya, processed-with-alkali\n",
      "carbonated-water, water, high-fructose-corn-syrup, added-sugar, disaccharide, monosaccharide, fructose, glucose, corn-syrup, glucose-fructose-syrup, natural-flavouring, flavouring, e330, e211, modified-starch, starch, e110, e102, preservative\n",
      "water, brown-sugar, added-sugar, disaccharide, sugar, mustard-seed, condiment, mustard, spice, spirit-vinegar, vinegar, glucose-syrup, monosaccharide, glucose\n",
      "water, colza-oil, oil-and-fat, vegetable-oil-and-fat, rapeseed-oil, alcohol-vinegar, vinegar, egg-yolk, egg, sugar, added-sugar, disaccharide, salt, modified-starch, starch, milk-proteins, protein, animal-protein, concentrated-lemon-juice, fruit, juice, fruit-juice, lemon-juice, flavouring, thickener, acid, apple-extract, fruit-extract, roselle-flower, plant, molasses, antioxidant, e415, e334, e385\n",
      "corn-starch, starch, rice, flour, rapeseed-oil, oil-and-fat, vegetable-oil-and-fat, yeast, buckwheat-flour, cereal, buckwheat, sunflower-seed, plant, seed, sunflower, syrup, stabiliser, powdered-egg-white, egg, egg-white, sugar, added-sugar, disaccharide, iodised-salt, salt, thickener, water, e464, e412\n",
      "dark-chocolate-yogurt-flavored-coating, raisin, fruit, berries, grape, tapioca-dextrin, e1400, confectioners-glaze, sugar, added-sugar, disaccharide, hydrogenated-palm-kernel-oil, oil-and-fat, vegetable-oil-and-fat, palm-kernel-oil-and-fat, palm-kernel-oil, cocoa-powder, plant, cocoa, whey-powder, dairy, whey, skimmed-milk-powder, milk-powder, yogurt-powder, yogurt, soy-lecithin-an-emulsifier, and-natural-vanilla-flavor, cultured-whey-and-nonfat-milk\n",
      "peanut, nut, salt, wheat-flour, cereal, flour, wheat, cereal-flour, gelling-agent, stabiliser, potato-starch, starch, yeast-extract, yeast, condiment, flavouring, colour, e414, e160c\n",
      "milk, dairy\n",
      "tomato, vegetable, fruit-vegetable, sugar, added-sugar, disaccharide, orange, fruit, citrus-fruit, lemon, jalapeno-pepper, chili-pepper, cinnamon, condiment, spice, clove, salt\n",
      "dark-chocolate, chocolate, sugar, added-sugar, disaccharide, glucose-syrup, monosaccharide, glucose, water, invert-sugar-syrup, invert-sugar, sugar-syrup, mint-oil, herb, mint, cocoa-paste, plant, cocoa, cocoa-butter, emulsifier, flavouring, e322\n",
      "whole-grain-whole-wheat-flour-including-the-germ, water, sugar, added-sugar, disaccharide, wheat-gluten, gluten, yeast, vegetable-oil, oil-and-fat, vegetable-oil-and-fat, salt, e282, e200, soybean-lecithit-order-may-change, canola, vegetable, root-vegetable, rapeseed, soya-bean, legume, pulse, soya\n",
      "calcium, minerals\n",
      "fruit, vitamin-c, concentrated-lemon-juice, juice, fruit-juice, lemon-juice, apple, malaceous-fruit, pear, banana\n",
      "ground-coffee, coffee\n",
      "cheddar, dairy, cheese, gouda, water, cream, milk, e339, lactic-ferments, ferment, microbial-culture, salt, enzyme, e282, preservative\n",
      "tortilla, bread, water, filling, modified-starch, starch, salt, e339, dark-meat-chicken, tomato, vegetable, fruit-vegetable, green-chili-pepper, chili-pepper, onion, root-vegetable, onion-family-vegetable, contains-less-than-2-of, vinegar, coating, yeast-extract, yeast, fortified-wheat-flour, cereal, flour, wheat, cereal-flour, wheat-flour, textured-soy-flour, prefried-in-vegetable-oil, stone-ground-corn-masa-flour, chicken, poultry, tomato-juice, e330, e509, jalapeno-pepper, spice, condiment, garlic, paprika, coriander-leaf, herb, coriander, e375, reduced-iron, minerals, iron, thiamin-mononitrate, thiamin, e101, folic-acid, folate, with-trace-of-lime\n",
      "rice, rice-starch, starch, salt, thickener, e412\n",
      "animal, pork, pork-by-product, onion, vegetable, root-vegetable, onion-family-vegetable, pork-fat, oil-and-fat, fat, animal-fat, meat, pork-meat, salt, sugar, added-sugar, disaccharide, spice, condiment, herb, collagen, pork-collagen\n",
      "potato-starch, starch, maltodextrin, palm-fat, oil-and-fat, vegetable-oil-and-fat, palm-oil-and-fat, salt, wheat-flour, cereal, flour, wheat, cereal-flour, colour, flavour-enhancer, yeast-extract-powder, yeast, yeast-extract, onion, vegetable, root-vegetable, onion-family-vegetable, e508, sugar, added-sugar, disaccharide, flavouring, emulsifier, bay-leaf, herb, black-pepper, seed, pepper, acidity-regulator, tomato, fruit-vegetable, smoke-flavouring, thyme, acid, ground-clove-sage-extract, e392, calcium, minerals, iron, e375, thiamin, e150a, e160c, e621, e635, soya-lecithin, e322, e322i, e262ii, e262, e330\n",
      "wheat-flour, cereal, flour, wheat, cereal-flour, iodised-salt, salt, sugar, added-sugar, disaccharide, yeast, water, coconut-fat, oil-and-fat, vegetable-oil-and-fat, vegetable-fat\n",
      "sugar, added-sugar, disaccharide, glucose-syrup, monosaccharide, glucose, baba, 0-wheat-flour, egg, margarine, alcohol, distilled-rhum, flavouring, antioxidant, oils-an-fats, water, acidity-corrector, salt, natural-yeast, yeast, e300, sunflower, plant, e330\n",
      "green-bean, vegetable, legume, pod-and-seed-vegetable, water, salt\n",
      "natural-mineral-water, water, mineral-water\n",
      "confectionery-coating, milk-chocolate, chocolate, peanut, nut, corn-oil, oil-and-fat, vegetable-oil-and-fat, vegetable-oil, sugar, added-sugar, disaccharide, hydrogenated-palm-kernel-oil, palm-kernel-oil-and-fat, palm-kernel-oil, cocoa-powder, plant, cocoa, whey-powder, dairy, whey, skimmed-milk-powder, milk-powder, soy-lecthin, vanilla, cocoa-butter, cocoa-paste, whole-milk-powder, soya-lecithin, e322, e322i, salt, emulsifier\n",
      "e406\n",
      "tomato-concentrate, vegetable, fruit-vegetable, tomato, high-fructose-corn-syrup, added-sugar, disaccharide, monosaccharide, fructose, glucose, corn-syrup, glucose-fructose-syrup, distilled-vinegar, vinegar, salt, less-than-2-of, spice, condiment, natural-flavouring, flavouring, onion, root-vegetable, onion-family-vegetable\n",
      "spelt, cereal\n",
      "water\n",
      "stone-ground-whole-wheat-pastry-flour, pastry, dough, wheat-bran, cereal, wheat, raisin, fruit, berries, grape, skimmed-milk-powder, dairy, milk-powder, e500ii, e500, baking-powder, wheat-flour, flour, cereal-flour, e375, iron, minerals, e101, folic-acid, folate, e450i, e450, corn-starch, starch, e341i, e341\n",
      "peanut, nut, chestnut, tree-nut, cassava, vegetable, root-vegetable, tuber, salt, garlic, onion-family-vegetable, flavouring\n",
      "p-monou-omg-400mg-carbohydrate-24g-2g-ster-sodium-total-carb-dietary-fibe-total-sugars-protein-39-eorum-added-sugars-17-9-7-4-0-2-2-10-490mg-daily-value, tells-you-how-much-a-nutrient-in-of-food-contributes-to-a-daily-diet, 2-000-calories-is-used-for-general-nutrition-advice, ng-redients, vegetable-oil, oil-and-fat, vegetable-oil-and-fat, soning, whey, dairy, skimmed-milk-powder, milk-powder, dextrose, added-sugar, monosaccharide, glucose, e1400, buttermilk-solids, buttermilk, salt, sugar, disaccharide, butter, e621, corn, cereal, e330, parsley, vegetable, herb, leaf-vegetable, artificial-flavouring, flavouring, acd, e262ii, e262, lactose, aus-milk, herr-foods, inc, p, o, box-300-nottingham, pa-19362-0300, u, s, a, dv, potato, root-vegetable, tuber, contains-one-and-of-the-following, cottonseed, seed, sunflower, plant, cream, sour-cream, at-milk, microbial-culture, ferment\n",
      "chicken, poultry, water, rice-flour, flour, rice, chickpea-flour, vegetable, legume, pulse, chickpea, potato-fiber, fiber, vegetable-fiber, sea-salt, salt, stabiliser, black-pepper, seed, pepper, corn-flour, cereal, corn, flavouring, dextrose, added-sugar, monosaccharide, glucose, preservative, antioxidant, use-by, suitable-allergy-advice, warning, some-small-bones-may-remain, values-per-2-sausage-saturates, carb, defrost-thoroughly-a-never-defrost-in-a-wa-il-aldi-340g-uk, jf062-ec, e450, e223, e300, filled-into-vegetable-based-casings, typical-values-per-10-carbohydrate, see-front-of-this-product-is-suitable-for-cooking-in-an-air-fryer, please-refer-to-fridge, once-opened-the-manufacturer-s-instructions-for-your-air-fryer, freezing, although-every-effort-has-been-made-to-remove-bones, e404\n",
      "black-rice, rice, water\n",
      "broccoli, vegetable, brassica, cauliflower, carrot, root-vegetable, taproot-vegetable, red-cabbage, cabbage\n",
      "salt\n",
      "carbonated-water, water, added-sugar, e150d, e338, flavouring, e955, caffeine\n",
      "pinto-beans, vegetable, legume, pulse\n",
      "horseradish, vegetable, root-vegetable, passover-vinegar, salt, flavouring\n",
      "sugar, added-sugar, disaccharide, cocoa-butter, plant, cocoa, skimmed-milk-powder, dairy, milk-powder, cocoa-paste, sweet-whey-powder, whey, sweet-whey, butterfat, oil-and-fat, fat, milkfat, rice-flour, flour, rice, emulsifier, hazelnut-paste, nut, tree-nut, hazelnut, malted-wheat-flour, cereal, wheat, cereal-flour, wheat-flour, palm-oil, vegetable-oil-and-fat, palm-oil-and-fat, salt, flavouring, milk, soya-lecithin, e322, e322i, e476, e471\n",
      "salt, spice, condiment, black-olive, vegetable, fruit-vegetable, olive, oil, oil-and-fat, yeast, sunflower-oil, vegetable-oil-and-fat, vegetable-oil, sunflower, plant, pumpkin, rice-protein, protein, plant-protein, sugar, added-sugar, disaccharide, dextrose, monosaccharide, glucose, apple-pectin, fruit, malaceous-fruit, apple, e440a, fruit-pectin, pea, legume, pod-and-seed-vegetable\n",
      "skimmed-milk, dairy, milk, cocoa, plant, maltodextrin, salt, e341iii, e341, e951, e407, e1400, artificial-flavouring, flavouring, processed-with-alkali\n",
      "corn, cereal, water\n",
      "water, carrot, vegetable, root-vegetable, taproot-vegetable, coconut-cream, fruit, coconut, wheat-flour, cereal, flour, wheat, cereal-flour, salt, pepper, seed, maltodextrin, sodium-caseinate, dairy, caseinate\n",
      "cane-sugar, added-sugar, disaccharide, sugar, non-dairy-creamer, maltodextrin, cocoa, plant, artificial-flavouring, flavouring, salt, e551, corn-syrup-solids, corn-syrup, hydrogenated-coconut-oil, oil-and-fat, vegetable-oil-and-fat, vegetable-oil, coconut-oil, sodium-caseinate, dairy, caseinate, e340ii, e340, e471, sodium-citrate, minerals, sodium, e554, soya-lecithin, e322, e322i, colour, a-milk-derivative\n",
      "tomato, vegetable, fruit-vegetable, tomato-juice, less-than-2-of, e509, e330, salt\n",
      "ntion-information-typical-values-pernte-r-paprika-extract, e161b, apple, fruit, malaceous-fruit, lemon, citrus-fruit, carrot, vegetable, root-vegetable, taproot-vegetable, roselle-flower, plant, coconut-o-pant-concentrates, spirulina, algae, safflower, sweet-foe-multi-coloured-sugar-based-edible-decorations, glazing-agent-de-ush\n",
      "beef-meat, animal, meat, beef, nitrite-curing-salt, curing-salt, spice, condiment, spice-extract, dextrose, added-sugar, monosaccharide, glucose, antioxidant, stabiliser, e452, e407a, smoke-flavouring, flavouring, smoke, salt, preservative, e250\n",
      "italian-extra-virgin-olive-oil\n",
      "sugar, added-sugar, disaccharide, glucose-syrup, monosaccharide, glucose, water, acid, flavouring, menthol, colour, e330, e296, e133\n",
      "pear-puree, fruit, pear, puree, pea, vegetable, legume, pod-and-seed-vegetable, green-bean, milled-chia-seed, e300, concentrated-lemon-juice, juice, fruit-juice, lemon-juice, vitamin-c\n",
      "lima-bean, vegetable, pod-and-seed-vegetable\n",
      "pasteurised-cow-s-milk, dairy, milk, pasteurised-milk, cow-s-milk, sheeps-milk, chili-pepper, vegetable, fruit-vegetable, salt, sequestrant, coagulant, lactic-ferments, ferment, microbial-culture, e509\n",
      "cream, dairy, sugar, added-sugar, disaccharide, chocolate-powder, chocolate, egg-yolk, egg, cocoa-powder, plant, cocoa, cocoa-paste, fat-reduced-cocoa-powder\n",
      "potato, vegetable, root-vegetable, tuber, duck-meat, poultry, duck, poultry-meat, water, duck-fat, oil-and-fat, fat, animal-fat, poultry-fat, carrot, taproot-vegetable, onion, onion-family-vegetable, unsalted-butter, dairy, butter, fresh-cream, cream, poultry-broth, broth, potato-fiber, fiber, vegetable-fiber, parsley, herb, leaf-vegetable, garlic, port, alcohol, wine, liqueur-wine, thickener, pepper, seed, nutmeg, condiment, spice, turmeric, salt, potato-maltodextrin, maltodextrin, natural-flavouring, flavouring, chicken-fat, herbs-and-spices, e412, e415\n",
      "fortified-wheat-flour, cereal, flour, wheat, cereal-flour, wheat-flour, iron, minerals, thiamin-mononitrate, thiamin, e101, folic-acid, folate, water, corn-syrup, added-sugar, disaccharide, yeast, contains-2-and-less-of-the-following, soya-oil, oil-and-fat, vegetable-oil-and-fat, vegetable-oil, salt, wheat-gluten, gluten, flour-treatment-agent, e282, e200, soya-flour, vegetable, legume, pulse, soya, soya-bean, yeast-nutrients, hydrogenated-vegetable-oil, oil, hydrogenated-oil, soya-lecithin, e322, e322i, malted-barley, malt, niacin-vitamin-b3, e471, e481, e300, to-retain-freshness, e170i, e170, e516, e341i, e341, e517, e330\n",
      "water, vegetable-oil, oil-and-fat, vegetable-oil-and-fat, salt, preservative, acid, colza-oil, rapeseed-oil, sunflower-oil, linseed-oil, palm-oil, palm-oil-and-fat\n",
      "whole-grain-oat-flakes, cereal, oat, oat-flakes, corn-flakes, corn, fruit, malaceous-fruit, apple, dextrose, added-sugar, monosaccharide, glucose, raisin, berries, grape, soya, hazelnut, nut, tree-nut, apple-pieces, unrefined-sugar, disaccharide, sugar, dried-apricots, prunus-species-fruit, apricot, malt, rose-hip, e345, vitamins, e300, vitamin-e, e375, pantothenic-acid, vitamin-d, vitamin-b6, e101, thiamin, folic-acid, folate, biotin, vitamin-b12, guarana-extract, plant, guarana, zinc-gluconate, minerals, zinc, salt, malted-barley, wholemeal-flour, flour, cereal-flour, cottonseed-oil, oil-and-fat, vegetable-oil-and-fat, vegetable-oil, preservative, wheat, fructose, wheat-germ, wheat-starch, starch, wheat-flour, gluten, honey, pear-juice, juice, fruit-juice, pear, cinnamon, condiment, spice, soya-lecithin, e322, e322i, orange, citrus-fruit, acid, natural-orange-flavouring, flavouring, natural-flavouring, maltodextrin, rye, barley, e220, e330\n",
      "carbonated-water, water, high-fructose-corn-syrup, added-sugar, disaccharide, monosaccharide, fructose, glucose, corn-syrup, glucose-fructose-syrup, e330, e211, modified-starch, starch, e110, e445, natural-flavouring, flavouring, e129, preservative\n"
     ]
    }
   ],
   "source": [
    "uniques_ingredients = df['ingredients'].unique()\n",
    "uniques_ingredients_list = list(uniques_ingredients)\n",
    "for value in uniques_ingredients_list:\n",
    "    print(value)"
   ]
  },
  {
   "cell_type": "code",
   "execution_count": 14,
   "metadata": {},
   "outputs": [
    {
     "name": "stdout",
     "output_type": "stream",
     "text": [
      "empty\n",
      "beverages\n",
      "snacks\n",
      "meats-and-their-products, meats, pork-and-its-products, pork, bacon\n",
      "condiments, sauces, vegetarian-sauces, vegan-sauces, egg-free-mayonnaises\n",
      "snacks, sweet-snacks, confectioneries\n",
      "plant-based-foods-and-beverages, plant-based-foods, fruits-and-vegetables-based-foods, vegetables-based-foods, frozen-foods, vegetables, frozen-plant-based-foods, frozen-vegetables, carrots, frozen-carrots, frozen-chopped-carrots\n",
      "meats-and-their-products, prepared-meats, cured-sausages, salami\n",
      "plant-based-foods-and-beverages, plant-based-foods, cereals-and-potatoes, cereals-and-their-products, groats, wheat-groats, bulgur\n",
      "snacks, sweet-snacks, biscuits-and-cakes, biscuits, shortbread-cookies, shortbread-cookies-from-brittany\n",
      "plant-based-foods-and-beverages, plant-based-foods, seeds, sunflower-seeds-and-their-products, sunflower-seeds\n",
      "cooking-helpers, dessert-mixes, pancake-mixes\n",
      "beverages, dairies, dairy-drinks, flavoured-milks, chocolate-milks, sweetened-beverages\n",
      "plant-based-foods-and-beverages, plant-based-foods, cereals-and-potatoes, cereals-and-their-products\n",
      "beverages, carbonated-drinks, sodas, lemonade\n",
      "plant-based-foods-and-beverages, plant-based-foods, fats, vegetable-fats, olive-tree-products, vegetable-oils, olive-oils, virgin-olive-oils\n",
      "beverages, coffee-drinks\n",
      "plant-based-foods-and-beverages, plant-based-foods, fats, vegetable-fats, olive-tree-products, vegetable-oils, olive-oils, extra-virgin-olive-oils\n",
      "meats-and-their-products, meals, meats, prepared-meats, poultries, meals-with-meat, ducks, poultry-meals, duck-dishes, duck-breasts\n",
      "desserts, frozen-foods, frozen-desserts\n",
      "plant-based-foods-and-beverages, plant-based-foods, meat-alternatives, meat-analogues, meat-analogous\n",
      "plant-based-foods-and-beverages, plant-based-foods, fruits-and-vegetables-based-foods, vegetables-based-foods, frozen-foods, frozen-plant-based-foods, frozen-vegetables\n",
      "plant-based-foods-and-beverages, plant-based-foods, fruits-and-vegetables-based-foods, vegetables-based-foods, mushrooms-and-their-products, mushrooms, champignon-mushrooms, sliced-champignon-mushrooms\n",
      "plant-based-foods-and-beverages, plant-based-foods, fruits-and-vegetables-based-foods, canned-foods, vegetables-based-foods, canned-plant-based-foods, pickles, canned-vegetables, plant-based-pickles, pickled-vegetables, pickled-cucumbers, gherkins, extra-fine-gherkins\n",
      "beverages, flavoured-drinks\n",
      "bread-coverings, cooking-helpers, food-decorations, pastry-helpers, sprinkles\n",
      "plant-based-foods-and-beverages, plant-based-foods, cereals-and-potatoes, meals, purees, potato-preparations, refrigerated-foods, mashed-potatoes, refrigerated-meals\n",
      "plant-based-foods-and-beverages, plant-based-foods, fruits-and-vegetables-based-foods, frozen-foods, fruits-based-foods, frozen-plant-based-foods, fruits, berries, frozen-fruits, raspberries, frozen-berries, frozen-raspberries\n",
      "farming-products, eggs, fresh-eggs\n",
      "plant-based-foods-and-beverages, plant-based-foods, fruits-and-vegetables-based-foods, vegetables-based-foods, vegetables, tomatoes-and-their-products, tomatoes\n",
      "plant-based-foods-and-beverages, plant-based-foods, cereals-and-potatoes, seeds, cereals-and-their-products, cereal-grains, rices, aromatic-rices, indica-rices, long-grain-rices, basmati-rices\n",
      "plant-based-foods-and-beverages, plant-based-foods, fruits-and-vegetables-based-foods, fruits-based-foods, fruits, grapes, fresh-grapes\n",
      "dietary-supplements, bodybuilding-supplements, protein-powders\n",
      "meals, pizzas-pies-and-quiches, pizzas, chorizo-pizzas\n",
      "plant-based-foods-and-beverages, plant-based-foods, snacks, salty-snacks, nuts-and-their-products, nuts, pistachios, salted-nuts, salted-pistachios\n",
      "dairies, fats, spreads, spreadable-fats, animal-fats, milkfat, dairy-spread, butters\n",
      "seafood, fishes-and-their-products, fishes\n",
      "plant-based-foods-and-beverages, plant-based-foods\n",
      "dairies, fermented-foods, fermented-milk-products, desserts, dairy-desserts, fermented-dairy-desserts, yogurts\n",
      "snacks, desserts, sweet-snacks, biscuits-and-cakes, pastries, mochi\n",
      "snacks, salty-snacks, appetizers, chips-and-fries, crisps, salty-snacks-made-from-potato\n",
      "plant-based-foods-and-beverages, plant-based-foods, spreads, plant-based-spreads, salted-spreads, plant-based-pates\n",
      "plant-based-foods-and-beverages, plant-based-foods, fruits-and-vegetables-based-foods, fruits-based-foods, fruits, tropical-fruits, bananas\n",
      "meats-and-their-products, prepared-meats, hams, white-hams\n",
      "food-additives, anticaking-agents, bicarbonates-of-soda\n",
      "breakfasts, spreads, sweet-spreads, bee-products, farming-products, sweeteners, honeys\n",
      "canned-foods, meats-and-their-products, meats, canned-meats\n",
      "plant-based-foods-and-beverages, beverages, plant-based-beverages, fruit-based-beverages, juices-and-nectars, fruit-juices, orange-juices, orangensafte\n",
      "snacks, sweet-snacks, biscuits-and-cakes, cakes\n",
      "dairies, fermented-foods, fermented-milk-products, cheeses, french-cheeses, uncooked-pressed-cheeses, pasteurized-cheeses\n",
      "seafood, fishes-and-their-products, fishes, fatty-fishes, salmons, smoked-fishes, smoked-salmons\n",
      "meats-and-their-products, meats, prepared-meats, hams, white-hams, cooked-ham-of-superior-quality\n",
      "plant-based-foods-and-beverages, plant-based-foods, legumes-and-their-products, meat-alternatives, tofu\n",
      "beverages, alcoholic-beverages\n",
      "snacks, sweet-snacks, confectioneries, festive-foods, christmas-foods-and-drinks, christmas-sweets, turron, almond-turron, creamy-almond-turron\n",
      "snacks, sweet-snacks, confectioneries, candies\n",
      "cocoa-and-its-products, festive-foods, easter-food, chocolate-eggs, easter-eggs\n",
      "plant-based-foods-and-beverages, beverages, plant-based-beverages, fruit-based-beverages, juices-and-nectars, fruit-juices, lime-juices\n",
      "plant-based-foods-and-beverages, plant-based-foods, breakfasts, cereals-and-potatoes, cereals-and-their-products, breakfast-cereals\n",
      "plant-based-foods-and-beverages, plant-based-foods, fruits-and-vegetables-based-foods, fruits-based-foods, fruits, grapes, seedless-grapes, green-grapes, green-seedless-grapes\n",
      "plant-based-foods-and-beverages, beverages, plant-based-beverages, fruit-based-beverages, juices-and-nectars, fruit-nectars, fruit-juices, multifruit-juices, multifruit-nectars\n",
      "seafood, fishes-and-their-products, fishes, fatty-fishes, lean-fishes, cods, portuguese-sea-products\n",
      "plant-based-foods-and-beverages, plant-based-foods, fruits-and-vegetables-based-foods, canned-foods, vegetables-based-foods, canned-plant-based-foods, vegetables, canned-vegetables, tomatoes-and-their-products, tomatoes, canned-tomatoes, peeled-tomatoes\n",
      "plant-based-foods-and-beverages, plant-based-foods, fruits-and-vegetables-based-foods, vegetables-based-foods, vegetables, spanish-vegetables, rice\n",
      "plant-based-foods-and-beverages, plant-based-foods, fats, vegetable-fats, vegetable-oils\n",
      "meats-and-their-products, meats, prepared-meats\n",
      "dairies, fermented-foods, fermented-milk-products, desserts, dairy-desserts, fermented-dairy-desserts\n",
      "dairies, fermented-foods, fermented-milk-products, desserts, dairy-desserts, fermented-dairy-desserts, yogurts, greek-style-yogurts\n",
      "condiments, sauces, groceries\n",
      "plant-based-foods-and-beverages, beverages, plant-based-beverages, fruit-based-beverages, juices-and-nectars, fruit-juices, orange-juices\n",
      "snacks, sweet-snacks, confectioneries, candies, lollipops\n",
      "desserts, frozen-foods, frozen-desserts, tartufo\n",
      "desserts, frozen-foods, frozen-desserts, ice-creams-and-sorbets\n",
      "plant-based-foods-and-beverages, plant-based-foods, breakfasts, cereals-and-potatoes, cereals-and-their-products, breakfast-cereals, mueslis\n",
      "beverages-and-beverages-preparations, beverages, waters, spring-waters, mineral-waters, natural-mineral-waters\n",
      "meats-and-their-products, meals, meals-with-meat, rice-dishes, poultry-meals, meals-with-chicken\n",
      "plant-based-foods-and-beverages, plant-based-foods, cereals-and-potatoes, frozen-foods, breads\n",
      "plant-based-foods-and-beverages, fermented-foods, dairy-substitutes, desserts, non-dairy-desserts, non-dairy-fermented-foods, non-dairy-yogurts, soy-milk-yogurts, plain-soy-yogurts\n",
      "plant-based-foods-and-beverages, beverages, plant-based-foods, coffees, arabica-coffees, coffee-drinks\n",
      "dairies, desserts, dairy-desserts\n",
      "plant-based-foods-and-beverages, beverages, plant-based-beverages, carbonated-drinks, fruit-based-beverages, sodas, fruit-sodas, apple-soft-drinks\n",
      "plant-based-foods-and-beverages, plant-based-foods, fruits-and-vegetables-based-foods, vegetables-based-foods, fresh-foods, fresh-plant-based-foods, carrots, fresh-vegetables, fresh-carrots\n",
      "dairies, fermented-foods, fermented-milk-products, cheeses, cow-cheeses, sliced-cheeses\n",
      "plant-based-foods-and-beverages, plant-based-foods, fruits-and-vegetables-based-foods, fruits-based-foods, fruits, berries, raspberries\n",
      "plant-based-foods-and-beverages, plant-based-foods, fruits-and-vegetables-based-foods, canned-foods, desserts, canned-plant-based-foods, fruits-based-foods, fruits, canned-fruits, fruits-in-syrup, peaches, peaches-in-syrup\n",
      "meats-and-their-products, meats, prepared-meats, pork-and-its-products, pate, pork, pork-pates, terrines, country-style-pates, country-terrines\n",
      "dairies, milks\n",
      "meats-and-their-products, meals, meals-with-meat, pork-meals, microwave-meals\n",
      "beverages, dairies, fermented-foods, fermented-milk-products, desserts, dairy-desserts, dairy-drinks, fermented-dairy-desserts, fermented-drinks, yogurts, fermented-milk-drinks, drinkable-yogurts\n",
      "plant-based-foods-and-beverages, plant-based-foods, breakfasts, cereals-and-potatoes, cereals-and-their-products, breakfast-cereals, flakes, cereal-flakes, rolled-flakes, rolled-oats\n",
      "frozen-foods\n",
      "plant-based-foods-and-beverages, beverages, plant-based-beverages, fruit-based-beverages, juices-and-nectars, fruit-juices, lemon-juice, squeezed-lemon-juices\n",
      "baking-decorations\n",
      "snacks, sweet-snacks, confectioneries, nougats\n",
      "beverages, carbonated-drinks, sodas\n",
      "sweeteners, syrups, simple-syrups, fruit-syrups, date-syrups\n",
      "condiments, sauces, mustards, sweet-mustards, groceries\n",
      "sweeteners, syrups, simple-syrups, maple-syrups\n",
      "condiments, sauces, salad-dressings, vinaigrettes, groceries\n",
      "dairies, fermented-foods, fermented-milk-products, cheeses, italian-cheeses, ricotta\n",
      "meats-and-their-products, meats, chicken-and-its-products, poultries, chickens, chicken-breasts\n",
      "beverages, alcoholic-beverages, wines, red-wines\n",
      "meats-and-their-products, prepared-meats, italian-meat-products, poultry-hams, cooked-turkey-breast-slices\n",
      "plant-based-foods-and-beverages, beverages, plant-based-beverages, fruit-based-beverages, still-fruit-soft-drinks, still-fruit-soft-drink-with-sugar\n",
      "plant-based-foods-and-beverages, plant-based-foods, legumes-and-their-products, snacks, legumes, nuts-and-their-products, nuts, roasted-nuts, peanuts, roasted-peanuts\n",
      "dairies, fermented-foods, fermented-milk-products, cheeses, sheep-s-milk-cheeses\n",
      "plant-based-foods-and-beverages, plant-based-foods, breakfasts, spreads, plant-based-spreads, sweet-spreads, fruit-and-vegetable-preserves, marmalades\n",
      "snacks, sweet-snacks, cocoa-and-its-products, chocolates, filled-chocolates\n",
      "snacks, popcorn\n",
      "frozen-foods, meals, pizzas-pies-and-quiches, pizzas, frozen-pizzas-and-pies, frozen-pizzas\n",
      "plant-based-foods-and-beverages, plant-based-foods, cereals-and-potatoes, breads, sliced-breads\n",
      "plant-based-foods-and-beverages, plant-based-foods, seeds, pumpkin-and-squash-plant-products, cucurbitacea-seeds, pumpkin-seeds-and-their-products, pumpkin-seeds\n",
      "seafood, fishes-and-their-products, fish-preparations, surimi\n",
      "cooking-helpers, pastry-helpers, fondants\n",
      "snacks, sweet-snacks, biscuits-and-cakes, biscuits, biscuit-with-chocolate-covering\n",
      "plant-based-foods-and-beverages, plant-based-foods, fruits-and-vegetables-based-foods, desserts, fruits-based-foods, compotes, compotes-to-drink\n",
      "meals, pasta-dishes, stuffed-pastas, ravioli\n",
      "meats-and-their-products, prepared-meats, hams, cured-hams, dried-hams, spanish-meat-products, serrano-ham\n",
      "plant-based-foods-and-beverages, beverages, plant-based-foods, hot-beverages, coffees, capsules, coffee-capsules, nespresso-compatible-coffee-capsules\n",
      "dairies, fermented-foods, fermented-milk-products, cheeses\n",
      "dairies, fermented-foods, fermented-milk-products, cheeses, cow-cheeses, hard-cheeses, emmentaler\n",
      "meats-and-their-products, prepared-meats, fish-and-meat-and-eggs, offals, tripe-dishes, black-pudding, black-pudding-with-onions\n",
      "condiments, sauces\n",
      "plant-based-foods-and-beverages, plant-based-foods, cereals-and-potatoes, breads, bread-crumbs, panko\n",
      "meats-and-their-products, italian-meat-products\n",
      "dairies, fermented-foods, fermented-milk-products, cheeses, cow-cheeses, uncooked-pressed-cheeses, gouda, young-goudas\n",
      "plant-based-foods-and-beverages, plant-based-foods, fruits-and-vegetables-based-foods, canned-foods, vegetables-based-foods, canned-plant-based-foods, canned-vegetables\n",
      "syrups\n",
      "beverages, waters, spring-waters, mineral-waters, unsweetened-beverages, natural-mineral-waters\n",
      "plant-based-foods-and-beverages, plant-based-foods, seafood, seaweeds-and-their-products, seaweed-products, agar-agar\n",
      "meats-and-their-products, prepared-meats, pate-in-crust\n",
      "plant-based-foods-and-beverages, plant-based-foods, fruits-and-vegetables-based-foods, vegetables-based-foods, vegetables, vegetable-rods, asparagus, white-asparagus\n",
      "beverages, waters\n",
      "sandwiches, fish-sandwiches, tuna-sandwiches\n",
      "cooking-helpers\n",
      "condiments, sauces, mayonnaises, groceries\n",
      "plant-based-foods-and-beverages, dairies, fermented-foods, plant-based-foods, fermented-milk-products, cheeses, dried-products\n",
      "meats-and-their-products, meat-preparations, prepared-meats, chicken-and-its-products, sausages, chicken-preparations, poultry-sausages, chicken-sausages\n",
      "non-food-products, open-beauty-facts\n",
      "meals\n",
      "plant-based-foods-and-beverages, plant-based-foods, fruits-and-vegetables-based-foods\n",
      "snacks, sweet-snacks, cocoa-and-its-products, chocolates\n",
      "beverages, carbonated-drinks, artificially-sweetened-beverages, sodas, colas\n",
      "plant-based-foods-and-beverages, plant-based-foods, fruits-and-vegetables-based-foods, legumes-and-their-products, legumes, seeds, vegetables-based-foods, legume-seeds, vegetables, pulses, common-beans, mixed-vegetables, pinto-beans\n",
      "snacks, sweet-snacks, cocoa-and-its-products, festive-foods, christmas-foods-and-drinks, chocolates, chocolate-molds, chocolate-sculptures, christmas-chocolates, chocolate-santa-clauses\n",
      "snacks, sweet-snacks, biscuits-and-cakes\n",
      "dairies\n",
      "plant-based-foods-and-beverages, plant-based-foods, fruits-and-vegetables-based-foods, vegetables-based-foods, meals, fermented-vegetables, sauerkrauts, sauerkraut-with-garnish\n",
      "plant-based-foods-and-beverages, beverages, plant-based-beverages, fruit-based-beverages, juices-and-nectars, fruit-nectars, kiwi-nectars\n",
      "dairies, fermented-foods, fermented-milk-products, cheeses, cow-cheeses, uncooked-pressed-cheeses, cheeses-of-the-netherlands, gouda, goudas-with-cumin\n",
      "beverages, dried-products, dried-products-to-be-rehydrated, dehydrated-beverages\n",
      "plant-based-foods-and-beverages, plant-based-foods, fruits-and-vegetables-based-foods, canned-foods, cereals-and-potatoes, seeds, vegetables-based-foods, canned-plant-based-foods, cereals-and-their-products, canned-vegetables, cereal-grains, corn, canned-cereals, canned-corn, canned-sweet-corn\n",
      "snacks, sweet-snacks, confectioneries, chewing-gum\n",
      "dairies, fats, spreads, spreadable-fats, animal-fats, milkfat, dairy-spread, butters, sweet-cream-butters\n",
      "meats-and-their-products, meats, prepared-meats, cut\n",
      "plant-based-foods-and-beverages, plant-based-foods, fats, vegetable-fats, olive-tree-products, vegetable-oils, olive-oils, extra-virgin-olive-oils, virgin-olive-oils\n",
      "dairies, milks, homogenized-milks, uht-milks, whole-milks\n",
      "seafood, fishes-and-their-products, canned-foods, fishes, fatty-fishes, canned-fishes, tunas\n",
      "beverages, tea-based-beverages, iced-teas\n",
      "plant-based-foods-and-beverages, plant-based-foods, spreads, nuts-and-their-products, plant-based-spreads, oilseed-purees, nut-butters, cashew-butters\n",
      "snacks, sweet-snacks, confectioneries, candies, gummi-candies\n",
      "dairies, fermented-foods, fermented-milk-products, cheeses, sliced-cheeses\n",
      "beverages, alcoholic-beverages, beers\n",
      "desserts\n",
      "meats-and-their-products, meals, meals-with-meat, poultry-meals, duck-dishes, shepherd-s-pie-with-duck\n",
      "plant-based-foods-and-beverages, plant-based-foods, cereals-and-potatoes, breads\n",
      "spreads, spreadable-fats\n",
      "beverages, alcoholic-beverages, distilled-beverages, hard-liquors, eaux-de-vie, whisky, american-whiskeys, bourbon-whiskeys\n",
      "snacks, sweet-snacks, biscuits-and-cakes, biscuits, ricciarelli\n",
      "plant-based-foods-and-beverages, plant-based-foods, breakfasts, cereals-and-potatoes, cereals-and-their-products, breakfast-cereals, cereals-with-fruits, mueslis, mueslis-with-fruits\n"
     ]
    }
   ],
   "source": [
    "uniques_categories = df['categories'].unique()\n",
    "uniques_categories_list = list(uniques_categories)\n",
    "for value in uniques_categories_list:\n",
    "    print(value)"
   ]
  },
  {
   "cell_type": "code",
   "execution_count": 15,
   "metadata": {},
   "outputs": [
    {
     "name": "stdout",
     "output_type": "stream",
     "text": [
      "0.0\n",
      "0.2222222222\n",
      "0.1111111111\n",
      "0.5555555556\n",
      "0.3333333333\n",
      "0.7777777778\n",
      "0.6666666667\n",
      "0.4444444444\n",
      "0.8888888889\n"
     ]
    }
   ],
   "source": [
    "uniques_labels_note = df['labels_note'].unique()\n",
    "uniques_labels_note_list = list(uniques_labels_note)\n",
    "for value in uniques_labels_note_list:\n",
    "    print(value)"
   ]
  },
  {
   "cell_type": "code",
   "execution_count": 16,
   "metadata": {},
   "outputs": [
    {
     "data": {
      "text/html": [
       "<div>\n",
       "<style scoped>\n",
       "    .dataframe tbody tr th:only-of-type {\n",
       "        vertical-align: middle;\n",
       "    }\n",
       "\n",
       "    .dataframe tbody tr th {\n",
       "        vertical-align: top;\n",
       "    }\n",
       "\n",
       "    .dataframe thead th {\n",
       "        text-align: right;\n",
       "    }\n",
       "</style>\n",
       "<table border=\"1\" class=\"dataframe\">\n",
       "  <thead>\n",
       "    <tr style=\"text-align: right;\">\n",
       "      <th></th>\n",
       "      <th>groups</th>\n",
       "      <th>ecoscore_tags</th>\n",
       "      <th>ecoscore_score</th>\n",
       "      <th>countries</th>\n",
       "      <th>labels_note</th>\n",
       "    </tr>\n",
       "  </thead>\n",
       "  <tbody>\n",
       "    <tr>\n",
       "      <th>count</th>\n",
       "      <td>166.000000</td>\n",
       "      <td>115.000000</td>\n",
       "      <td>107.000000</td>\n",
       "      <td>450.000000</td>\n",
       "      <td>500.000000</td>\n",
       "    </tr>\n",
       "    <tr>\n",
       "      <th>mean</th>\n",
       "      <td>0.439692</td>\n",
       "      <td>0.513043</td>\n",
       "      <td>45.915888</td>\n",
       "      <td>0.542828</td>\n",
       "      <td>0.082889</td>\n",
       "    </tr>\n",
       "    <tr>\n",
       "      <th>std</th>\n",
       "      <td>0.286536</td>\n",
       "      <td>0.303206</td>\n",
       "      <td>24.358223</td>\n",
       "      <td>0.341202</td>\n",
       "      <td>0.158603</td>\n",
       "    </tr>\n",
       "    <tr>\n",
       "      <th>min</th>\n",
       "      <td>0.000000</td>\n",
       "      <td>0.000000</td>\n",
       "      <td>0.000000</td>\n",
       "      <td>0.000000</td>\n",
       "      <td>0.000000</td>\n",
       "    </tr>\n",
       "    <tr>\n",
       "      <th>25%</th>\n",
       "      <td>0.222222</td>\n",
       "      <td>0.250000</td>\n",
       "      <td>27.000000</td>\n",
       "      <td>0.311475</td>\n",
       "      <td>0.000000</td>\n",
       "    </tr>\n",
       "    <tr>\n",
       "      <th>50%</th>\n",
       "      <td>0.444444</td>\n",
       "      <td>0.500000</td>\n",
       "      <td>44.000000</td>\n",
       "      <td>0.420765</td>\n",
       "      <td>0.000000</td>\n",
       "    </tr>\n",
       "    <tr>\n",
       "      <th>75%</th>\n",
       "      <td>0.666667</td>\n",
       "      <td>0.750000</td>\n",
       "      <td>68.000000</td>\n",
       "      <td>0.901639</td>\n",
       "      <td>0.111111</td>\n",
       "    </tr>\n",
       "    <tr>\n",
       "      <th>max</th>\n",
       "      <td>1.000000</td>\n",
       "      <td>1.000000</td>\n",
       "      <td>100.000000</td>\n",
       "      <td>1.000000</td>\n",
       "      <td>0.888889</td>\n",
       "    </tr>\n",
       "  </tbody>\n",
       "</table>\n",
       "</div>"
      ],
      "text/plain": [
       "           groups  ecoscore_tags  ecoscore_score   countries  labels_note\n",
       "count  166.000000     115.000000      107.000000  450.000000   500.000000\n",
       "mean     0.439692       0.513043       45.915888    0.542828     0.082889\n",
       "std      0.286536       0.303206       24.358223    0.341202     0.158603\n",
       "min      0.000000       0.000000        0.000000    0.000000     0.000000\n",
       "25%      0.222222       0.250000       27.000000    0.311475     0.000000\n",
       "50%      0.444444       0.500000       44.000000    0.420765     0.000000\n",
       "75%      0.666667       0.750000       68.000000    0.901639     0.111111\n",
       "max      1.000000       1.000000      100.000000    1.000000     0.888889"
      ]
     },
     "execution_count": 16,
     "metadata": {},
     "output_type": "execute_result"
    }
   ],
   "source": [
    "df.describe()"
   ]
  },
  {
   "cell_type": "code",
   "execution_count": 17,
   "metadata": {},
   "outputs": [],
   "source": [
    "def load_jsonl_to_dataframe(file_path):\n",
    "    data = []\n",
    "    with open(file_path, 'r') as file:\n",
    "        for line in file:\n",
    "            data.append(json.loads(line))\n",
    "    df = pd.DataFrame(data)\n",
    "    return df\n",
    "\n",
    "def create_treemap_for_column(df, column_name):\n",
    "    if column_name not in df.columns:\n",
    "        print(f\"warning, column: '{column_name}'does not exists\")\n",
    "        return\n",
    "    data = df[column_name].value_counts().reset_index()\n",
    "    data.columns = [column_name, 'count']\n",
    "    fig = go.Figure(go.Treemap(\n",
    "        labels=data[column_name],\n",
    "        parents=[\"\"] * len(data),\n",
    "        values=data['count'],\n",
    "        textinfo='label+value',  \n",
    "    ))\n",
    "    fig.update_layout(\n",
    "        title=f'treemap column: {column_name}',\n",
    "        paper_bgcolor='black',  \n",
    "        plot_bgcolor='grey',   \n",
    "        font_color='white'      \n",
    "    )\n",
    "    fig.show()"
   ]
  },
  {
   "cell_type": "code",
   "execution_count": 18,
   "metadata": {},
   "outputs": [
    {
     "data": {
      "application/vnd.plotly.v1+json": {
       "config": {
        "plotlyServerURL": "https://plot.ly"
       },
       "data": [
        {
         "labels": [
          0.25,
          0.75,
          0.5,
          1,
          0,
          0.3333333333,
          0.6666666667
         ],
         "parents": [
          "",
          "",
          "",
          "",
          "",
          "",
          ""
         ],
         "textinfo": "label+value",
         "type": "treemap",
         "values": [
          292855,
          197589,
          181755,
          113391,
          76418,
          3,
          1
         ]
        }
       ],
       "layout": {
        "font": {
         "color": "white"
        },
        "paper_bgcolor": "black",
        "plot_bgcolor": "grey",
        "template": {
         "data": {
          "bar": [
           {
            "error_x": {
             "color": "#2a3f5f"
            },
            "error_y": {
             "color": "#2a3f5f"
            },
            "marker": {
             "line": {
              "color": "#E5ECF6",
              "width": 0.5
             },
             "pattern": {
              "fillmode": "overlay",
              "size": 10,
              "solidity": 0.2
             }
            },
            "type": "bar"
           }
          ],
          "barpolar": [
           {
            "marker": {
             "line": {
              "color": "#E5ECF6",
              "width": 0.5
             },
             "pattern": {
              "fillmode": "overlay",
              "size": 10,
              "solidity": 0.2
             }
            },
            "type": "barpolar"
           }
          ],
          "carpet": [
           {
            "aaxis": {
             "endlinecolor": "#2a3f5f",
             "gridcolor": "white",
             "linecolor": "white",
             "minorgridcolor": "white",
             "startlinecolor": "#2a3f5f"
            },
            "baxis": {
             "endlinecolor": "#2a3f5f",
             "gridcolor": "white",
             "linecolor": "white",
             "minorgridcolor": "white",
             "startlinecolor": "#2a3f5f"
            },
            "type": "carpet"
           }
          ],
          "choropleth": [
           {
            "colorbar": {
             "outlinewidth": 0,
             "ticks": ""
            },
            "type": "choropleth"
           }
          ],
          "contour": [
           {
            "colorbar": {
             "outlinewidth": 0,
             "ticks": ""
            },
            "colorscale": [
             [
              0,
              "#0d0887"
             ],
             [
              0.1111111111111111,
              "#46039f"
             ],
             [
              0.2222222222222222,
              "#7201a8"
             ],
             [
              0.3333333333333333,
              "#9c179e"
             ],
             [
              0.4444444444444444,
              "#bd3786"
             ],
             [
              0.5555555555555556,
              "#d8576b"
             ],
             [
              0.6666666666666666,
              "#ed7953"
             ],
             [
              0.7777777777777778,
              "#fb9f3a"
             ],
             [
              0.8888888888888888,
              "#fdca26"
             ],
             [
              1,
              "#f0f921"
             ]
            ],
            "type": "contour"
           }
          ],
          "contourcarpet": [
           {
            "colorbar": {
             "outlinewidth": 0,
             "ticks": ""
            },
            "type": "contourcarpet"
           }
          ],
          "heatmap": [
           {
            "colorbar": {
             "outlinewidth": 0,
             "ticks": ""
            },
            "colorscale": [
             [
              0,
              "#0d0887"
             ],
             [
              0.1111111111111111,
              "#46039f"
             ],
             [
              0.2222222222222222,
              "#7201a8"
             ],
             [
              0.3333333333333333,
              "#9c179e"
             ],
             [
              0.4444444444444444,
              "#bd3786"
             ],
             [
              0.5555555555555556,
              "#d8576b"
             ],
             [
              0.6666666666666666,
              "#ed7953"
             ],
             [
              0.7777777777777778,
              "#fb9f3a"
             ],
             [
              0.8888888888888888,
              "#fdca26"
             ],
             [
              1,
              "#f0f921"
             ]
            ],
            "type": "heatmap"
           }
          ],
          "heatmapgl": [
           {
            "colorbar": {
             "outlinewidth": 0,
             "ticks": ""
            },
            "colorscale": [
             [
              0,
              "#0d0887"
             ],
             [
              0.1111111111111111,
              "#46039f"
             ],
             [
              0.2222222222222222,
              "#7201a8"
             ],
             [
              0.3333333333333333,
              "#9c179e"
             ],
             [
              0.4444444444444444,
              "#bd3786"
             ],
             [
              0.5555555555555556,
              "#d8576b"
             ],
             [
              0.6666666666666666,
              "#ed7953"
             ],
             [
              0.7777777777777778,
              "#fb9f3a"
             ],
             [
              0.8888888888888888,
              "#fdca26"
             ],
             [
              1,
              "#f0f921"
             ]
            ],
            "type": "heatmapgl"
           }
          ],
          "histogram": [
           {
            "marker": {
             "pattern": {
              "fillmode": "overlay",
              "size": 10,
              "solidity": 0.2
             }
            },
            "type": "histogram"
           }
          ],
          "histogram2d": [
           {
            "colorbar": {
             "outlinewidth": 0,
             "ticks": ""
            },
            "colorscale": [
             [
              0,
              "#0d0887"
             ],
             [
              0.1111111111111111,
              "#46039f"
             ],
             [
              0.2222222222222222,
              "#7201a8"
             ],
             [
              0.3333333333333333,
              "#9c179e"
             ],
             [
              0.4444444444444444,
              "#bd3786"
             ],
             [
              0.5555555555555556,
              "#d8576b"
             ],
             [
              0.6666666666666666,
              "#ed7953"
             ],
             [
              0.7777777777777778,
              "#fb9f3a"
             ],
             [
              0.8888888888888888,
              "#fdca26"
             ],
             [
              1,
              "#f0f921"
             ]
            ],
            "type": "histogram2d"
           }
          ],
          "histogram2dcontour": [
           {
            "colorbar": {
             "outlinewidth": 0,
             "ticks": ""
            },
            "colorscale": [
             [
              0,
              "#0d0887"
             ],
             [
              0.1111111111111111,
              "#46039f"
             ],
             [
              0.2222222222222222,
              "#7201a8"
             ],
             [
              0.3333333333333333,
              "#9c179e"
             ],
             [
              0.4444444444444444,
              "#bd3786"
             ],
             [
              0.5555555555555556,
              "#d8576b"
             ],
             [
              0.6666666666666666,
              "#ed7953"
             ],
             [
              0.7777777777777778,
              "#fb9f3a"
             ],
             [
              0.8888888888888888,
              "#fdca26"
             ],
             [
              1,
              "#f0f921"
             ]
            ],
            "type": "histogram2dcontour"
           }
          ],
          "mesh3d": [
           {
            "colorbar": {
             "outlinewidth": 0,
             "ticks": ""
            },
            "type": "mesh3d"
           }
          ],
          "parcoords": [
           {
            "line": {
             "colorbar": {
              "outlinewidth": 0,
              "ticks": ""
             }
            },
            "type": "parcoords"
           }
          ],
          "pie": [
           {
            "automargin": true,
            "type": "pie"
           }
          ],
          "scatter": [
           {
            "fillpattern": {
             "fillmode": "overlay",
             "size": 10,
             "solidity": 0.2
            },
            "type": "scatter"
           }
          ],
          "scatter3d": [
           {
            "line": {
             "colorbar": {
              "outlinewidth": 0,
              "ticks": ""
             }
            },
            "marker": {
             "colorbar": {
              "outlinewidth": 0,
              "ticks": ""
             }
            },
            "type": "scatter3d"
           }
          ],
          "scattercarpet": [
           {
            "marker": {
             "colorbar": {
              "outlinewidth": 0,
              "ticks": ""
             }
            },
            "type": "scattercarpet"
           }
          ],
          "scattergeo": [
           {
            "marker": {
             "colorbar": {
              "outlinewidth": 0,
              "ticks": ""
             }
            },
            "type": "scattergeo"
           }
          ],
          "scattergl": [
           {
            "marker": {
             "colorbar": {
              "outlinewidth": 0,
              "ticks": ""
             }
            },
            "type": "scattergl"
           }
          ],
          "scattermapbox": [
           {
            "marker": {
             "colorbar": {
              "outlinewidth": 0,
              "ticks": ""
             }
            },
            "type": "scattermapbox"
           }
          ],
          "scatterpolar": [
           {
            "marker": {
             "colorbar": {
              "outlinewidth": 0,
              "ticks": ""
             }
            },
            "type": "scatterpolar"
           }
          ],
          "scatterpolargl": [
           {
            "marker": {
             "colorbar": {
              "outlinewidth": 0,
              "ticks": ""
             }
            },
            "type": "scatterpolargl"
           }
          ],
          "scatterternary": [
           {
            "marker": {
             "colorbar": {
              "outlinewidth": 0,
              "ticks": ""
             }
            },
            "type": "scatterternary"
           }
          ],
          "surface": [
           {
            "colorbar": {
             "outlinewidth": 0,
             "ticks": ""
            },
            "colorscale": [
             [
              0,
              "#0d0887"
             ],
             [
              0.1111111111111111,
              "#46039f"
             ],
             [
              0.2222222222222222,
              "#7201a8"
             ],
             [
              0.3333333333333333,
              "#9c179e"
             ],
             [
              0.4444444444444444,
              "#bd3786"
             ],
             [
              0.5555555555555556,
              "#d8576b"
             ],
             [
              0.6666666666666666,
              "#ed7953"
             ],
             [
              0.7777777777777778,
              "#fb9f3a"
             ],
             [
              0.8888888888888888,
              "#fdca26"
             ],
             [
              1,
              "#f0f921"
             ]
            ],
            "type": "surface"
           }
          ],
          "table": [
           {
            "cells": {
             "fill": {
              "color": "#EBF0F8"
             },
             "line": {
              "color": "white"
             }
            },
            "header": {
             "fill": {
              "color": "#C8D4E3"
             },
             "line": {
              "color": "white"
             }
            },
            "type": "table"
           }
          ]
         },
         "layout": {
          "annotationdefaults": {
           "arrowcolor": "#2a3f5f",
           "arrowhead": 0,
           "arrowwidth": 1
          },
          "autotypenumbers": "strict",
          "coloraxis": {
           "colorbar": {
            "outlinewidth": 0,
            "ticks": ""
           }
          },
          "colorscale": {
           "diverging": [
            [
             0,
             "#8e0152"
            ],
            [
             0.1,
             "#c51b7d"
            ],
            [
             0.2,
             "#de77ae"
            ],
            [
             0.3,
             "#f1b6da"
            ],
            [
             0.4,
             "#fde0ef"
            ],
            [
             0.5,
             "#f7f7f7"
            ],
            [
             0.6,
             "#e6f5d0"
            ],
            [
             0.7,
             "#b8e186"
            ],
            [
             0.8,
             "#7fbc41"
            ],
            [
             0.9,
             "#4d9221"
            ],
            [
             1,
             "#276419"
            ]
           ],
           "sequential": [
            [
             0,
             "#0d0887"
            ],
            [
             0.1111111111111111,
             "#46039f"
            ],
            [
             0.2222222222222222,
             "#7201a8"
            ],
            [
             0.3333333333333333,
             "#9c179e"
            ],
            [
             0.4444444444444444,
             "#bd3786"
            ],
            [
             0.5555555555555556,
             "#d8576b"
            ],
            [
             0.6666666666666666,
             "#ed7953"
            ],
            [
             0.7777777777777778,
             "#fb9f3a"
            ],
            [
             0.8888888888888888,
             "#fdca26"
            ],
            [
             1,
             "#f0f921"
            ]
           ],
           "sequentialminus": [
            [
             0,
             "#0d0887"
            ],
            [
             0.1111111111111111,
             "#46039f"
            ],
            [
             0.2222222222222222,
             "#7201a8"
            ],
            [
             0.3333333333333333,
             "#9c179e"
            ],
            [
             0.4444444444444444,
             "#bd3786"
            ],
            [
             0.5555555555555556,
             "#d8576b"
            ],
            [
             0.6666666666666666,
             "#ed7953"
            ],
            [
             0.7777777777777778,
             "#fb9f3a"
            ],
            [
             0.8888888888888888,
             "#fdca26"
            ],
            [
             1,
             "#f0f921"
            ]
           ]
          },
          "colorway": [
           "#636efa",
           "#EF553B",
           "#00cc96",
           "#ab63fa",
           "#FFA15A",
           "#19d3f3",
           "#FF6692",
           "#B6E880",
           "#FF97FF",
           "#FECB52"
          ],
          "font": {
           "color": "#2a3f5f"
          },
          "geo": {
           "bgcolor": "white",
           "lakecolor": "white",
           "landcolor": "#E5ECF6",
           "showlakes": true,
           "showland": true,
           "subunitcolor": "white"
          },
          "hoverlabel": {
           "align": "left"
          },
          "hovermode": "closest",
          "mapbox": {
           "style": "light"
          },
          "paper_bgcolor": "white",
          "plot_bgcolor": "#E5ECF6",
          "polar": {
           "angularaxis": {
            "gridcolor": "white",
            "linecolor": "white",
            "ticks": ""
           },
           "bgcolor": "#E5ECF6",
           "radialaxis": {
            "gridcolor": "white",
            "linecolor": "white",
            "ticks": ""
           }
          },
          "scene": {
           "xaxis": {
            "backgroundcolor": "#E5ECF6",
            "gridcolor": "white",
            "gridwidth": 2,
            "linecolor": "white",
            "showbackground": true,
            "ticks": "",
            "zerolinecolor": "white"
           },
           "yaxis": {
            "backgroundcolor": "#E5ECF6",
            "gridcolor": "white",
            "gridwidth": 2,
            "linecolor": "white",
            "showbackground": true,
            "ticks": "",
            "zerolinecolor": "white"
           },
           "zaxis": {
            "backgroundcolor": "#E5ECF6",
            "gridcolor": "white",
            "gridwidth": 2,
            "linecolor": "white",
            "showbackground": true,
            "ticks": "",
            "zerolinecolor": "white"
           }
          },
          "shapedefaults": {
           "line": {
            "color": "#2a3f5f"
           }
          },
          "ternary": {
           "aaxis": {
            "gridcolor": "white",
            "linecolor": "white",
            "ticks": ""
           },
           "baxis": {
            "gridcolor": "white",
            "linecolor": "white",
            "ticks": ""
           },
           "bgcolor": "#E5ECF6",
           "caxis": {
            "gridcolor": "white",
            "linecolor": "white",
            "ticks": ""
           }
          },
          "title": {
           "x": 0.05
          },
          "xaxis": {
           "automargin": true,
           "gridcolor": "white",
           "linecolor": "white",
           "ticks": "",
           "title": {
            "standoff": 15
           },
           "zerolinecolor": "white",
           "zerolinewidth": 2
          },
          "yaxis": {
           "automargin": true,
           "gridcolor": "white",
           "linecolor": "white",
           "ticks": "",
           "title": {
            "standoff": 15
           },
           "zerolinecolor": "white",
           "zerolinewidth": 2
          }
         }
        },
        "title": {
         "text": "treemap column: ecoscore_tags"
        }
       }
      }
     },
     "metadata": {},
     "output_type": "display_data"
    },
    {
     "data": {
      "application/vnd.plotly.v1+json": {
       "config": {
        "plotlyServerURL": "https://plot.ly"
       },
       "data": [
        {
         "labels": [
          79,
          67,
          72,
          34,
          49,
          0,
          77,
          21,
          39,
          42,
          75,
          27,
          50,
          15,
          37,
          43,
          60,
          44,
          76,
          36,
          78,
          54,
          25,
          12,
          45,
          38,
          19,
          35,
          74,
          100,
          64,
          70,
          68,
          62,
          71,
          30,
          16,
          22,
          58,
          57,
          55,
          18,
          73,
          59,
          51,
          29,
          66,
          48,
          47,
          40,
          32,
          28,
          69,
          4,
          53,
          23,
          52,
          41,
          56,
          31,
          63,
          65,
          24,
          9,
          46,
          26,
          33,
          2,
          20,
          17,
          6,
          14,
          8,
          5,
          61,
          81,
          3,
          85,
          13,
          80,
          91,
          1,
          83,
          82,
          90,
          11,
          84,
          10,
          88,
          89,
          92,
          94,
          87,
          93,
          7,
          86,
          96,
          95,
          99,
          97,
          98,
          78.4170138324
         ],
         "parents": [
          "",
          "",
          "",
          "",
          "",
          "",
          "",
          "",
          "",
          "",
          "",
          "",
          "",
          "",
          "",
          "",
          "",
          "",
          "",
          "",
          "",
          "",
          "",
          "",
          "",
          "",
          "",
          "",
          "",
          "",
          "",
          "",
          "",
          "",
          "",
          "",
          "",
          "",
          "",
          "",
          "",
          "",
          "",
          "",
          "",
          "",
          "",
          "",
          "",
          "",
          "",
          "",
          "",
          "",
          "",
          "",
          "",
          "",
          "",
          "",
          "",
          "",
          "",
          "",
          "",
          "",
          "",
          "",
          "",
          "",
          "",
          "",
          "",
          "",
          "",
          "",
          "",
          "",
          "",
          "",
          "",
          "",
          "",
          "",
          "",
          "",
          "",
          "",
          "",
          "",
          "",
          "",
          "",
          "",
          "",
          "",
          "",
          "",
          "",
          "",
          "",
          ""
         ],
         "textinfo": "label+value",
         "type": "treemap",
         "values": [
          59928,
          43342,
          31988,
          29585,
          21132,
          20015,
          17283,
          16126,
          15986,
          15280,
          14986,
          14607,
          14090,
          13914,
          13269,
          12500,
          12331,
          12323,
          11950,
          11576,
          11519,
          11395,
          11183,
          10749,
          10598,
          10379,
          10374,
          10310,
          10169,
          9947,
          9683,
          9251,
          9119,
          9097,
          8987,
          8838,
          8763,
          8400,
          8244,
          7886,
          7522,
          7316,
          7061,
          7038,
          6900,
          6891,
          6884,
          6785,
          6753,
          6670,
          6601,
          6208,
          6176,
          6134,
          6110,
          5757,
          5580,
          5390,
          5375,
          5165,
          5090,
          5066,
          4822,
          4526,
          4185,
          4135,
          3984,
          3787,
          3770,
          3642,
          3507,
          3257,
          3201,
          3184,
          2952,
          2799,
          2595,
          2576,
          2363,
          2294,
          2159,
          2130,
          2068,
          1938,
          1686,
          1537,
          1414,
          1411,
          1401,
          1288,
          1278,
          1186,
          1166,
          1083,
          983,
          970,
          846,
          835,
          799,
          685,
          671,
          1
         ]
        }
       ],
       "layout": {
        "font": {
         "color": "white"
        },
        "paper_bgcolor": "black",
        "plot_bgcolor": "grey",
        "template": {
         "data": {
          "bar": [
           {
            "error_x": {
             "color": "#2a3f5f"
            },
            "error_y": {
             "color": "#2a3f5f"
            },
            "marker": {
             "line": {
              "color": "#E5ECF6",
              "width": 0.5
             },
             "pattern": {
              "fillmode": "overlay",
              "size": 10,
              "solidity": 0.2
             }
            },
            "type": "bar"
           }
          ],
          "barpolar": [
           {
            "marker": {
             "line": {
              "color": "#E5ECF6",
              "width": 0.5
             },
             "pattern": {
              "fillmode": "overlay",
              "size": 10,
              "solidity": 0.2
             }
            },
            "type": "barpolar"
           }
          ],
          "carpet": [
           {
            "aaxis": {
             "endlinecolor": "#2a3f5f",
             "gridcolor": "white",
             "linecolor": "white",
             "minorgridcolor": "white",
             "startlinecolor": "#2a3f5f"
            },
            "baxis": {
             "endlinecolor": "#2a3f5f",
             "gridcolor": "white",
             "linecolor": "white",
             "minorgridcolor": "white",
             "startlinecolor": "#2a3f5f"
            },
            "type": "carpet"
           }
          ],
          "choropleth": [
           {
            "colorbar": {
             "outlinewidth": 0,
             "ticks": ""
            },
            "type": "choropleth"
           }
          ],
          "contour": [
           {
            "colorbar": {
             "outlinewidth": 0,
             "ticks": ""
            },
            "colorscale": [
             [
              0,
              "#0d0887"
             ],
             [
              0.1111111111111111,
              "#46039f"
             ],
             [
              0.2222222222222222,
              "#7201a8"
             ],
             [
              0.3333333333333333,
              "#9c179e"
             ],
             [
              0.4444444444444444,
              "#bd3786"
             ],
             [
              0.5555555555555556,
              "#d8576b"
             ],
             [
              0.6666666666666666,
              "#ed7953"
             ],
             [
              0.7777777777777778,
              "#fb9f3a"
             ],
             [
              0.8888888888888888,
              "#fdca26"
             ],
             [
              1,
              "#f0f921"
             ]
            ],
            "type": "contour"
           }
          ],
          "contourcarpet": [
           {
            "colorbar": {
             "outlinewidth": 0,
             "ticks": ""
            },
            "type": "contourcarpet"
           }
          ],
          "heatmap": [
           {
            "colorbar": {
             "outlinewidth": 0,
             "ticks": ""
            },
            "colorscale": [
             [
              0,
              "#0d0887"
             ],
             [
              0.1111111111111111,
              "#46039f"
             ],
             [
              0.2222222222222222,
              "#7201a8"
             ],
             [
              0.3333333333333333,
              "#9c179e"
             ],
             [
              0.4444444444444444,
              "#bd3786"
             ],
             [
              0.5555555555555556,
              "#d8576b"
             ],
             [
              0.6666666666666666,
              "#ed7953"
             ],
             [
              0.7777777777777778,
              "#fb9f3a"
             ],
             [
              0.8888888888888888,
              "#fdca26"
             ],
             [
              1,
              "#f0f921"
             ]
            ],
            "type": "heatmap"
           }
          ],
          "heatmapgl": [
           {
            "colorbar": {
             "outlinewidth": 0,
             "ticks": ""
            },
            "colorscale": [
             [
              0,
              "#0d0887"
             ],
             [
              0.1111111111111111,
              "#46039f"
             ],
             [
              0.2222222222222222,
              "#7201a8"
             ],
             [
              0.3333333333333333,
              "#9c179e"
             ],
             [
              0.4444444444444444,
              "#bd3786"
             ],
             [
              0.5555555555555556,
              "#d8576b"
             ],
             [
              0.6666666666666666,
              "#ed7953"
             ],
             [
              0.7777777777777778,
              "#fb9f3a"
             ],
             [
              0.8888888888888888,
              "#fdca26"
             ],
             [
              1,
              "#f0f921"
             ]
            ],
            "type": "heatmapgl"
           }
          ],
          "histogram": [
           {
            "marker": {
             "pattern": {
              "fillmode": "overlay",
              "size": 10,
              "solidity": 0.2
             }
            },
            "type": "histogram"
           }
          ],
          "histogram2d": [
           {
            "colorbar": {
             "outlinewidth": 0,
             "ticks": ""
            },
            "colorscale": [
             [
              0,
              "#0d0887"
             ],
             [
              0.1111111111111111,
              "#46039f"
             ],
             [
              0.2222222222222222,
              "#7201a8"
             ],
             [
              0.3333333333333333,
              "#9c179e"
             ],
             [
              0.4444444444444444,
              "#bd3786"
             ],
             [
              0.5555555555555556,
              "#d8576b"
             ],
             [
              0.6666666666666666,
              "#ed7953"
             ],
             [
              0.7777777777777778,
              "#fb9f3a"
             ],
             [
              0.8888888888888888,
              "#fdca26"
             ],
             [
              1,
              "#f0f921"
             ]
            ],
            "type": "histogram2d"
           }
          ],
          "histogram2dcontour": [
           {
            "colorbar": {
             "outlinewidth": 0,
             "ticks": ""
            },
            "colorscale": [
             [
              0,
              "#0d0887"
             ],
             [
              0.1111111111111111,
              "#46039f"
             ],
             [
              0.2222222222222222,
              "#7201a8"
             ],
             [
              0.3333333333333333,
              "#9c179e"
             ],
             [
              0.4444444444444444,
              "#bd3786"
             ],
             [
              0.5555555555555556,
              "#d8576b"
             ],
             [
              0.6666666666666666,
              "#ed7953"
             ],
             [
              0.7777777777777778,
              "#fb9f3a"
             ],
             [
              0.8888888888888888,
              "#fdca26"
             ],
             [
              1,
              "#f0f921"
             ]
            ],
            "type": "histogram2dcontour"
           }
          ],
          "mesh3d": [
           {
            "colorbar": {
             "outlinewidth": 0,
             "ticks": ""
            },
            "type": "mesh3d"
           }
          ],
          "parcoords": [
           {
            "line": {
             "colorbar": {
              "outlinewidth": 0,
              "ticks": ""
             }
            },
            "type": "parcoords"
           }
          ],
          "pie": [
           {
            "automargin": true,
            "type": "pie"
           }
          ],
          "scatter": [
           {
            "fillpattern": {
             "fillmode": "overlay",
             "size": 10,
             "solidity": 0.2
            },
            "type": "scatter"
           }
          ],
          "scatter3d": [
           {
            "line": {
             "colorbar": {
              "outlinewidth": 0,
              "ticks": ""
             }
            },
            "marker": {
             "colorbar": {
              "outlinewidth": 0,
              "ticks": ""
             }
            },
            "type": "scatter3d"
           }
          ],
          "scattercarpet": [
           {
            "marker": {
             "colorbar": {
              "outlinewidth": 0,
              "ticks": ""
             }
            },
            "type": "scattercarpet"
           }
          ],
          "scattergeo": [
           {
            "marker": {
             "colorbar": {
              "outlinewidth": 0,
              "ticks": ""
             }
            },
            "type": "scattergeo"
           }
          ],
          "scattergl": [
           {
            "marker": {
             "colorbar": {
              "outlinewidth": 0,
              "ticks": ""
             }
            },
            "type": "scattergl"
           }
          ],
          "scattermapbox": [
           {
            "marker": {
             "colorbar": {
              "outlinewidth": 0,
              "ticks": ""
             }
            },
            "type": "scattermapbox"
           }
          ],
          "scatterpolar": [
           {
            "marker": {
             "colorbar": {
              "outlinewidth": 0,
              "ticks": ""
             }
            },
            "type": "scatterpolar"
           }
          ],
          "scatterpolargl": [
           {
            "marker": {
             "colorbar": {
              "outlinewidth": 0,
              "ticks": ""
             }
            },
            "type": "scatterpolargl"
           }
          ],
          "scatterternary": [
           {
            "marker": {
             "colorbar": {
              "outlinewidth": 0,
              "ticks": ""
             }
            },
            "type": "scatterternary"
           }
          ],
          "surface": [
           {
            "colorbar": {
             "outlinewidth": 0,
             "ticks": ""
            },
            "colorscale": [
             [
              0,
              "#0d0887"
             ],
             [
              0.1111111111111111,
              "#46039f"
             ],
             [
              0.2222222222222222,
              "#7201a8"
             ],
             [
              0.3333333333333333,
              "#9c179e"
             ],
             [
              0.4444444444444444,
              "#bd3786"
             ],
             [
              0.5555555555555556,
              "#d8576b"
             ],
             [
              0.6666666666666666,
              "#ed7953"
             ],
             [
              0.7777777777777778,
              "#fb9f3a"
             ],
             [
              0.8888888888888888,
              "#fdca26"
             ],
             [
              1,
              "#f0f921"
             ]
            ],
            "type": "surface"
           }
          ],
          "table": [
           {
            "cells": {
             "fill": {
              "color": "#EBF0F8"
             },
             "line": {
              "color": "white"
             }
            },
            "header": {
             "fill": {
              "color": "#C8D4E3"
             },
             "line": {
              "color": "white"
             }
            },
            "type": "table"
           }
          ]
         },
         "layout": {
          "annotationdefaults": {
           "arrowcolor": "#2a3f5f",
           "arrowhead": 0,
           "arrowwidth": 1
          },
          "autotypenumbers": "strict",
          "coloraxis": {
           "colorbar": {
            "outlinewidth": 0,
            "ticks": ""
           }
          },
          "colorscale": {
           "diverging": [
            [
             0,
             "#8e0152"
            ],
            [
             0.1,
             "#c51b7d"
            ],
            [
             0.2,
             "#de77ae"
            ],
            [
             0.3,
             "#f1b6da"
            ],
            [
             0.4,
             "#fde0ef"
            ],
            [
             0.5,
             "#f7f7f7"
            ],
            [
             0.6,
             "#e6f5d0"
            ],
            [
             0.7,
             "#b8e186"
            ],
            [
             0.8,
             "#7fbc41"
            ],
            [
             0.9,
             "#4d9221"
            ],
            [
             1,
             "#276419"
            ]
           ],
           "sequential": [
            [
             0,
             "#0d0887"
            ],
            [
             0.1111111111111111,
             "#46039f"
            ],
            [
             0.2222222222222222,
             "#7201a8"
            ],
            [
             0.3333333333333333,
             "#9c179e"
            ],
            [
             0.4444444444444444,
             "#bd3786"
            ],
            [
             0.5555555555555556,
             "#d8576b"
            ],
            [
             0.6666666666666666,
             "#ed7953"
            ],
            [
             0.7777777777777778,
             "#fb9f3a"
            ],
            [
             0.8888888888888888,
             "#fdca26"
            ],
            [
             1,
             "#f0f921"
            ]
           ],
           "sequentialminus": [
            [
             0,
             "#0d0887"
            ],
            [
             0.1111111111111111,
             "#46039f"
            ],
            [
             0.2222222222222222,
             "#7201a8"
            ],
            [
             0.3333333333333333,
             "#9c179e"
            ],
            [
             0.4444444444444444,
             "#bd3786"
            ],
            [
             0.5555555555555556,
             "#d8576b"
            ],
            [
             0.6666666666666666,
             "#ed7953"
            ],
            [
             0.7777777777777778,
             "#fb9f3a"
            ],
            [
             0.8888888888888888,
             "#fdca26"
            ],
            [
             1,
             "#f0f921"
            ]
           ]
          },
          "colorway": [
           "#636efa",
           "#EF553B",
           "#00cc96",
           "#ab63fa",
           "#FFA15A",
           "#19d3f3",
           "#FF6692",
           "#B6E880",
           "#FF97FF",
           "#FECB52"
          ],
          "font": {
           "color": "#2a3f5f"
          },
          "geo": {
           "bgcolor": "white",
           "lakecolor": "white",
           "landcolor": "#E5ECF6",
           "showlakes": true,
           "showland": true,
           "subunitcolor": "white"
          },
          "hoverlabel": {
           "align": "left"
          },
          "hovermode": "closest",
          "mapbox": {
           "style": "light"
          },
          "paper_bgcolor": "white",
          "plot_bgcolor": "#E5ECF6",
          "polar": {
           "angularaxis": {
            "gridcolor": "white",
            "linecolor": "white",
            "ticks": ""
           },
           "bgcolor": "#E5ECF6",
           "radialaxis": {
            "gridcolor": "white",
            "linecolor": "white",
            "ticks": ""
           }
          },
          "scene": {
           "xaxis": {
            "backgroundcolor": "#E5ECF6",
            "gridcolor": "white",
            "gridwidth": 2,
            "linecolor": "white",
            "showbackground": true,
            "ticks": "",
            "zerolinecolor": "white"
           },
           "yaxis": {
            "backgroundcolor": "#E5ECF6",
            "gridcolor": "white",
            "gridwidth": 2,
            "linecolor": "white",
            "showbackground": true,
            "ticks": "",
            "zerolinecolor": "white"
           },
           "zaxis": {
            "backgroundcolor": "#E5ECF6",
            "gridcolor": "white",
            "gridwidth": 2,
            "linecolor": "white",
            "showbackground": true,
            "ticks": "",
            "zerolinecolor": "white"
           }
          },
          "shapedefaults": {
           "line": {
            "color": "#2a3f5f"
           }
          },
          "ternary": {
           "aaxis": {
            "gridcolor": "white",
            "linecolor": "white",
            "ticks": ""
           },
           "baxis": {
            "gridcolor": "white",
            "linecolor": "white",
            "ticks": ""
           },
           "bgcolor": "#E5ECF6",
           "caxis": {
            "gridcolor": "white",
            "linecolor": "white",
            "ticks": ""
           }
          },
          "title": {
           "x": 0.05
          },
          "xaxis": {
           "automargin": true,
           "gridcolor": "white",
           "linecolor": "white",
           "ticks": "",
           "title": {
            "standoff": 15
           },
           "zerolinecolor": "white",
           "zerolinewidth": 2
          },
          "yaxis": {
           "automargin": true,
           "gridcolor": "white",
           "linecolor": "white",
           "ticks": "",
           "title": {
            "standoff": 15
           },
           "zerolinecolor": "white",
           "zerolinewidth": 2
          }
         }
        },
        "title": {
         "text": "treemap column: ecoscore_score"
        }
       }
      }
     },
     "metadata": {},
     "output_type": "display_data"
    },
    {
     "data": {
      "application/vnd.plotly.v1+json": {
       "config": {
        "plotlyServerURL": "https://plot.ly"
       },
       "data": [
        {
         "labels": [
          1,
          0.3114754098,
          0.8743169399,
          0,
          0.3333333333,
          0.4316939891,
          0.9945355191,
          0.2960893855,
          0.1584699454,
          0.2544378698,
          0.2881355932,
          0.0765027322,
          0.9016393443,
          0.4207650273,
          0.0327868852,
          0.9734042553,
          0.4189944134,
          0.8715083799,
          0.3152173913,
          0.3031914894,
          0.320754717,
          0.3184357542,
          0.6557377049,
          0.420212766,
          0.3015873016,
          0.1818181818,
          0.4347826087,
          0.4124293785,
          0.1147540984,
          0.7431693989,
          0.3244680851,
          0.7650273224,
          0.2786885246,
          0.8510638298,
          0.7595628415,
          0.2847682119,
          0.9625,
          0.2945205479,
          0.9944134078,
          0.8994413408,
          0.4426229508,
          0.6229508197,
          0.7486338798,
          0.8961748634,
          0.3989071038,
          0.3107344633,
          0.1396648045,
          0.9680851064,
          0.5901639344,
          0.0218579235,
          0.1256830601,
          0.8639053254,
          0.1542553191,
          0.6885245902,
          0.306010929,
          0.5355191257,
          0.0382513661,
          0.2781065089,
          0.3369565217,
          0.0558659218,
          0.9682539683,
          0.875,
          0.2349726776,
          0.2295081967,
          0.3,
          0.8465608466,
          0.5300546448,
          0.9945652174,
          0.3227513228,
          0.9289617486,
          0.8087431694,
          0.8988095238,
          0.4095744681,
          0.2857142857,
          0.3879781421,
          0.0815217391,
          0.417989418,
          0.6612021858,
          0.2921348315,
          0.3081081081,
          0.8700564972,
          0.0319148936,
          0.9943502825,
          0.4078212291,
          0.3085714286,
          0.2834224599,
          0.8633879781,
          0.0111731844,
          0.8736263736,
          0.3076923077,
          0.2864864865,
          0.1630434783,
          0.8776595745,
          0.8360655738,
          0.9675675676,
          0.255952381,
          0.737704918,
          0.4043715847,
          0.3442622951,
          0.8983050847,
          0.972826087,
          0.9889502762,
          0.3097826087,
          0.0744680851,
          0.1857923497,
          0.4293478261,
          0.9891891892,
          0.9890710383,
          0.962962963,
          0.2880434783,
          0.9617486339,
          0.4262295082,
          0.9685863874,
          0.8342245989,
          0.174863388,
          0.3945945946,
          0.2131147541,
          0.7584269663,
          0.9836065574,
          0.1299435028,
          0.902173913,
          0.8415300546,
          0.8196721311,
          0.6480446927,
          0.4378378378,
          0.5762711864,
          0.4143646409,
          0.1534391534,
          0.3149171271,
          0.5519125683,
          0.2928176796,
          0.3089005236,
          0.427027027,
          0.3189189189,
          0.0740740741,
          0.3405405405,
          0.4076086957,
          0.0736842105,
          0.9935064935,
          0.7540983607,
          0.1117021277,
          0.9621621622,
          0.956284153,
          0.873015873,
          0.0451977401,
          0.3297297297,
          0.0380434783,
          0.8695652174,
          0.9943820225,
          0.6382978723,
          0.8934911243,
          0.8648648649,
          0.8926553672,
          0.094972067,
          0.4308510638,
          0.7374301676,
          0.8756756757,
          0.4153005464,
          0.4808743169,
          0.3298429319,
          0.4162162162,
          0.0317460317,
          0.0918918919,
          0.4239130435,
          0.8421052632,
          0.7234042553,
          0.3846153846,
          0.9572192513,
          0.861878453,
          0.8938547486,
          0.262295082,
          0.847826087,
          0.8432432432,
          0.8684210526,
          0.4301675978,
          0.7430167598,
          0.4074074074,
          0.4011299435,
          0.5251396648,
          0.218579235,
          0.9940828402,
          0.4054054054,
          0.0714285714,
          0.4136125654,
          0.3146067416,
          0.3315217391,
          0.9273743017,
          0.6145251397,
          0.3210526316,
          0.9633507853,
          0.0167597765,
          0.6272189349,
          0.0108108108,
          0.2905027933,
          0.8723404255,
          0.6815642458,
          0.8469945355,
          0.138121547,
          0.5810055866,
          0.1223404255,
          0.9672131148,
          0.9891304348,
          0.7446808511,
          0.1336898396,
          0.2978723404,
          0.3005464481,
          0.5573770492,
          0.7541899441,
          0.670212766,
          0.2122905028,
          0.4010695187,
          0.1358695652,
          0.3882978723,
          0.2841530055,
          0.1675675676,
          0.627027027,
          0.7278106509,
          0.5212765957,
          0.6436170213,
          0.0983606557,
          0.217877095,
          0.1567567568,
          0.175,
          0.9518716578,
          0.1061452514,
          0.7393617021,
          0.1351351351,
          0.9945945946,
          0.9673913043,
          0.5744680851,
          0.1576086957,
          0.7597765363,
          0.9945054945,
          0.0372340426,
          0.5027322404,
          0.9837837838,
          0.7340425532,
          0.6063829787,
          0.0212765957,
          0.0534759358,
          0.8967391304,
          0.9834254144,
          0.2240437158,
          0.7287234043,
          0.7103825137,
          0.7195767196,
          0.8481675393,
          0.3854748603,
          0.0108695652,
          0.9631578947,
          0.6536312849,
          0.7351351351,
          0.372972973,
          0.7322404372,
          0.393442623,
          0.4345549738,
          0.6576086957,
          0.7354497354,
          0.2287234043,
          0.9010989011,
          0.6349206349,
          0.0324324324,
          0.4269662921,
          0.1204188482,
          0.3296703297,
          0.8603351955,
          0.0054644809,
          0.4184782609,
          0.8047337278,
          0.2234042553,
          0.3048128342,
          0.8404255319,
          0.1538461538,
          0.8702702703,
          0.4285714286,
          0.9027027027,
          0.6010928962,
          0.2108108108,
          0.1656804734,
          0.156424581,
          0.0432432432,
          0.4240837696,
          0.8947368421,
          0.6779661017,
          0.7158469945,
          0.8895027624,
          0.8609625668,
          0.3278688525,
          0.827027027,
          0.1623036649,
          0.9578947368,
          0.3661202186,
          0.0418848168,
          0.3967391304,
          0.6440677966,
          0.7872340426,
          0.8108108108,
          0.5714285714,
          0.6594594595,
          0.1675977654,
          0.7570621469,
          0.0162162162,
          0.2797619048,
          0.9042553191,
          0.2076502732,
          0.7445652174,
          0.7297297297,
          0.5195530726,
          0.6387434555,
          0.3296089385,
          0.2810810811,
          0.7135135135,
          0.4033149171,
          0.043715847,
          0.9361702128,
          0.1808510638,
          0.5185185185,
          0.1243243243,
          0.6994535519,
          0.0760869565,
          0.7608695652,
          0.8138297872,
          0.625,
          0.5132275132,
          0.9619565217,
          0.3936170213,
          0.0543478261,
          0.374301676,
          0.0056497175,
          0.8918918919,
          0.5380434783,
          0.0552486188,
          0.0110497238,
          0.75,
          0.5683060109,
          0.5159574468,
          0.0710382514,
          0.0054347826,
          0.2356020942,
          0.2553191489,
          0.8743455497,
          0.2074468085,
          0.4098360656,
          0.6031746032,
          0.1525423729,
          0.8691099476,
          0.8044692737,
          0.335106383,
          0.0960451977,
          0.9028571429,
          0.1111111111,
          0.9627659574,
          0.912568306,
          0.037037037,
          0.402173913,
          0.1202185792,
          0.0756756757,
          0.7434554974,
          0.2824858757,
          0.7248677249,
          0.0326086957,
          0.868852459,
          0.1216931217,
          0.0864864865,
          0.209039548,
          0.5846994536,
          0.170212766,
          0.2033898305,
          0.2950819672,
          0.8994708995,
          0.347826087,
          0.5621621622,
          0.3862433862,
          0.8677248677,
          0.2275132275,
          0.9608938547,
          0.1304347826,
          0.2336956522,
          0.5081081081,
          0.6902173913,
          0.3036649215,
          0.7407407407,
          0.0434782609,
          0.5372340426,
          0.2282608696,
          0.2513661202,
          0.8907103825,
          0.722513089,
          0.1526315789,
          0.8142076503,
          0.7401129944,
          0.7189189189,
          0.027173913,
          0.9101123596,
          0.512987013,
          0.5326086957,
          0.8324324324,
          0.6324324324,
          0.4157894737,
          0.7783783784,
          0.4052631579,
          0.3926701571,
          0.0887573964,
          0.5923913043,
          0.7663043478,
          0.7344632768,
          0.308988764,
          0.0211640212,
          0.6701570681,
          0.2222222222,
          0.7514124294,
          0.0315789474,
          0.2962962963,
          0.3776595745,
          0.1955307263,
          0.6315789474,
          0.7318435754,
          0.2568306011,
          0.0106951872,
          0.7127659574,
          0.2054054054,
          0.1308900524,
          0.9553072626,
          0.5197740113,
          0.6666666667,
          0.7830687831,
          0.8324022346,
          0.8052631579,
          0.0471204188,
          0.1902173913,
          0.0540540541,
          0.1475409836,
          0.6101694915,
          0.5191256831,
          0.1803278689,
          0.0837696335,
          0.3756613757,
          0.1027027027,
          0.9293478261,
          0.2765957447,
          0.4126984127,
          0.1693121693,
          0.835978836,
          0.3672316384,
          0.8376963351,
          0.4680851064,
          0.8972972973,
          0.4042553191,
          0.5945945946,
          0.6630434783,
          0.9888268156,
          0.8115183246,
          0.7853403141,
          0.802259887,
          0.7172774869,
          0.9548022599,
          0.6402116402,
          0.9581151832,
          0.5054347826,
          0.3785310734,
          0.4,
          0.25,
          0.5027027027,
          0.414893617,
          0.1195652174,
          0.6486486486,
          0.8095238095,
          0.1105263158,
          0.7277486911,
          0.4237288136,
          0.7455621302,
          0.4456521739,
          0.7157894737,
          0.2378378378,
          0.9312169312,
          0.3837837838,
          0.7978723404,
          0.2127659574,
          0.4480874317,
          0.7513513514,
          0.4134078212,
          0.8097826087,
          0.1798941799,
          0.8054054054,
          0.8875739645,
          0.5168539326,
          0.7058823529,
          0.95625,
          0.5759162304,
          0.4535519126,
          0.7391304348,
          0.0847457627,
          0.9576719577,
          0.9920634921,
          0.2594594595,
          0.3551912568,
          0.406779661,
          0.0210526316,
          0.7554347826,
          0.186440678,
          0.4263157895,
          0.2780748663,
          0.1135135135,
          0.3783783784,
          0.7180851064,
          0.3913043478,
          0.3915343915,
          0.6830601093,
          0.1945945946,
          0.8797814208,
          0.652173913,
          0.0314136126,
          0.6439790576,
          0.7112299465,
          0.5157894737,
          0.9567567568,
          0.8988764045,
          0.3715846995,
          0.869047619,
          0.312849162,
          0.2077922078,
          0.4893617021,
          0.5078534031,
          0.2458100559,
          0.7396449704,
          0.2021276596,
          0.4022346369,
          0.5235602094,
          0.6304347826,
          0.8148148148,
          0.9297297297,
          0.7173913043,
          0.3135135135,
          0.813559322,
          0.2303664921,
          0.9537037037,
          0.5652173913,
          0.0274725275,
          0.8831168831,
          0.9585798817,
          0.8587570621,
          0.3910614525,
          0.6208791209,
          0.8631578947,
          0.7262569832,
          0.227027027,
          0.2677595628,
          0.988700565,
          0.1530054645,
          0.4188481675,
          0.3027027027,
          0.0785340314,
          0.2173913043,
          0.722826087,
          0.5882352941,
          0.4970414201,
          0.6203208556,
          0.7459459459,
          0.3903743316,
          0.2119565217,
          0.2391304348,
          0.3513513514,
          0.2827225131,
          0.5243243243,
          0.3829787234,
          0.6847826087,
          0.6775956284,
          0.5561497326,
          0.8156424581,
          0.5193370166,
          0.6968085106,
          0.2011173184,
          0.9574468085,
          0.6864864865,
          0.6408839779,
          0.1832460733,
          0.7405405405,
          0.3825136612,
          0.6077348066,
          0.8174603175,
          0.6,
          0.7142857143,
          0.032967033,
          0.9005235602,
          0.0782122905,
          0.3191489362,
          0.8032786885,
          0.8641304348,
          0.8191489362,
          0.0378378378,
          0.7368421053,
          0.2063492063,
          0.2681564246,
          0.597826087,
          0.0056179775,
          0.0491803279,
          0.7675675676,
          0.1513513514,
          0.9513513514,
          0.7336956522,
          0.0505617978,
          0.0531914894,
          0.0368421053,
          0.4361702128,
          0.7267759563,
          0.2372881356,
          0.3155080214,
          0.1141304348,
          0.04,
          0.8579234973,
          0.3979057592,
          0.4114285714,
          0.3621621622,
          0.7039106145,
          0.3891891892,
          0.9259259259,
          0.5297297297,
          0.1621621622,
          0.2324324324,
          0.4254143646,
          0.0217391304,
          0.5108695652,
          0.8877005348,
          0.7621621622,
          0.4402173913,
          0.9243243243,
          0.5351351351,
          0.7210526316,
          0.8244680851,
          0.8864864865,
          0.5405405405,
          0.6810810811,
          0.0335195531,
          0.0546448087,
          0.5026737968,
          0.7458563536,
          0.7272727273,
          0.8378378378,
          0.4836956522,
          0.131147541,
          0.7382198953,
          0.0957446809,
          0.7789473684,
          0.2446808511,
          0.9285714286,
          0.9831460674,
          0.9832402235,
          0.5343915344,
          0.0939226519,
          0.6918918919,
          0.4486486486,
          0.1891891892,
          0.3050847458,
          0.8162162162,
          0.6497175141,
          0.3459119497,
          0.8742857143,
          0.8379888268,
          0.7891891892,
          0.0486486486,
          0.1587301587,
          0.9523809524,
          0.6162162162,
          0.9308510638,
          0.3727810651,
          0.2346368715,
          0.8369565217,
          0.5418994413,
          0.1049723757,
          0.1871657754,
          0.3403141361,
          0.9565217391,
          0.3812154696,
          0.7303370787,
          0.0160427807,
          0.1807909605,
          0.4916201117,
          0.7315789474,
          0.6740331492,
          0.3206521739,
          0.7081081081,
          0.5869565217,
          0.2947368421,
          0.729281768,
          0.469273743,
          0.6538461538,
          0.6195652174,
          0.1847826087,
          0.2702702703,
          0.5684210526,
          0.1780104712,
          0.532967033,
          0.972972973,
          0.3220338983,
          0.0273224044,
          0.8839779006,
          0.0503144654,
          0.7582417582,
          0.2432432432,
          0.1340782123,
          0.1793478261,
          0.4216216216,
          0.3821989529,
          0.7348066298,
          0.9347826087,
          0.8571428571,
          0.1038251366,
          0.6284153005,
          0.1348314607,
          0.6648648649,
          0.0597826087,
          0.7958115183,
          0.5879120879,
          0.6368421053,
          0.8913043478,
          0.6631578947,
          0.9319371728,
          0.5183246073,
          0.5837837838,
          0.2216216216,
          0.251396648,
          0.8540540541,
          0.6073298429,
          0.9685534591,
          0.3372781065,
          0.8556149733,
          0.3043478261,
          0.219895288,
          0.3858695652,
          0.2146596859,
          0.7567567568,
          0.0165745856,
          0.5536723164,
          0.2402234637,
          0.4972677596,
          0.8956043956,
          0.3423913043,
          0.585106383,
          0.9144385027,
          0.395480226,
          0.3842105263,
          0.893258427,
          0.0837988827,
          0.2087912088,
          0.2099447514,
          0.7005347594,
          0.7263157895,
          0.1837837838,
          0.2840909091,
          0.1967213115,
          0.3376623377,
          0.0216216216,
          0.8707865169,
          0.8167539267,
          0.7094972067,
          0.4175824176,
          0.7321428571,
          0.8848167539,
          0.2010582011,
          0.7637362637,
          0.748603352,
          0.6358695652,
          0.8079096045,
          0.0054054054,
          0.2486772487,
          0.4863387978,
          0.8508287293,
          0.2554347826,
          0.7417582418,
          0.1703296703,
          0.4245810056,
          0.4712041885,
          0.2094240838,
          0.606557377,
          0.4656084656,
          0.1497326203,
          0.7513812155,
          0.8201058201,
          0.3723404255,
          0.4540540541,
          0.3668639053,
          0.3675675676,
          0.2826086957,
          0.6759776536,
          0.5392670157,
          0.3977900552,
          0.3689839572,
          0.0923913043,
          0.843575419,
          0.2032085561,
          0.7074468085,
          0.4130434783,
          0.8418079096,
          0.8043478261,
          0.1739130435,
          0.4021164021,
          0.2617801047,
          0.52,
          0.7282608696,
          0.5957446809,
          0.0584415584,
          0.3798882682,
          0.2065217391,
          0.0952380952,
          0.2485207101,
          0.9528795812,
          0.4157303371,
          0.6808510638,
          0.2872928177,
          0.3457446809,
          0.3021978022,
          0.387434555,
          0.9947089947,
          0.5562130178,
          0.7883597884,
          0.7826086957,
          0.8206521739,
          0.4382022472,
          0.404494382,
          0.9510869565,
          0.9836956522,
          0.8152173913,
          0.2263157895,
          0.7472527473,
          0.2663043478,
          0.2608695652,
          0.8306010929,
          0.1016042781,
          0.4324324324,
          0.6033519553,
          0.1884816754,
          0.3406593407,
          0.5543478261,
          0.1715976331,
          0.2751322751,
          0.8423913043,
          0.5531914894,
          0.6540540541,
          0.8219895288,
          0.7219251337,
          0.1071428571,
          0.097826087,
          0.7807486631,
          0.1581920904,
          0.7243243243,
          0.1032608696,
          0.1813186813,
          0.1604278075,
          0.4371584699,
          0.7936507937,
          0.3169398907,
          0.6120218579,
          0.8971428571,
          0.9830508475,
          0.8305084746,
          0.9239130435,
          0.7934782609,
          0.4469273743,
          0.3898305085,
          0.9210526316,
          0.3989361702,
          0.6595744681,
          0.8284023669,
          0.8928571429,
          0.9267015707,
          0.1276595745,
          0.9738219895,
          0.3701657459,
          0.2052631579,
          0.7955801105,
          0.4756756757,
          0.5053191489,
          0.7027027027,
          0.0163043478,
          0.4591194969,
          0.2021857923,
          0.6054054054,
          0.2105263158,
          0.1210526316,
          0.5105263158,
          0.3315789474,
          0.9526315789,
          0.2210526316,
          0.8315789474,
          0.1789473684,
          0.5974025974,
          0.7894736842,
          0.8789473684,
          0.9263157895,
          0.3736842105,
          0.3387978142,
          0.4105263158,
          0.1684210526,
          0.2736842105,
          0.5079365079,
          0.2,
          0.9894736842,
          0.8157894737,
          0.6526315789,
          0.3894736842,
          0.1736842105,
          0.4631578947,
          0.0677966102,
          0.0601092896,
          0.0502793296,
          0.4860335196,
          0.3796296296,
          0.650273224,
          0.4590163934,
          0.0928961749,
          0.6331360947,
          0.0947368421,
          0.625698324,
          0.6373626374,
          0.0655737705,
          0.4465408805,
          0.8425925926,
          0.4057142857,
          0.6514285714,
          0.1065088757,
          0.0337078652,
          0.9398907104,
          0.7704918033,
          0.5136612022,
          0.3901098901,
          0.4814814815,
          0.56875,
          0.025,
          0.9255319149,
          0.6170212766,
          0.693989071,
          0.7857142857,
          0.2922077922,
          0.575,
          0.6956521739,
          0.604519774,
          0.7792207792,
          0.1086956522,
          0.6174863388,
          0.626984127,
          0.4413407821
         ],
         "parents": [
          "",
          "",
          "",
          "",
          "",
          "",
          "",
          "",
          "",
          "",
          "",
          "",
          "",
          "",
          "",
          "",
          "",
          "",
          "",
          "",
          "",
          "",
          "",
          "",
          "",
          "",
          "",
          "",
          "",
          "",
          "",
          "",
          "",
          "",
          "",
          "",
          "",
          "",
          "",
          "",
          "",
          "",
          "",
          "",
          "",
          "",
          "",
          "",
          "",
          "",
          "",
          "",
          "",
          "",
          "",
          "",
          "",
          "",
          "",
          "",
          "",
          "",
          "",
          "",
          "",
          "",
          "",
          "",
          "",
          "",
          "",
          "",
          "",
          "",
          "",
          "",
          "",
          "",
          "",
          "",
          "",
          "",
          "",
          "",
          "",
          "",
          "",
          "",
          "",
          "",
          "",
          "",
          "",
          "",
          "",
          "",
          "",
          "",
          "",
          "",
          "",
          "",
          "",
          "",
          "",
          "",
          "",
          "",
          "",
          "",
          "",
          "",
          "",
          "",
          "",
          "",
          "",
          "",
          "",
          "",
          "",
          "",
          "",
          "",
          "",
          "",
          "",
          "",
          "",
          "",
          "",
          "",
          "",
          "",
          "",
          "",
          "",
          "",
          "",
          "",
          "",
          "",
          "",
          "",
          "",
          "",
          "",
          "",
          "",
          "",
          "",
          "",
          "",
          "",
          "",
          "",
          "",
          "",
          "",
          "",
          "",
          "",
          "",
          "",
          "",
          "",
          "",
          "",
          "",
          "",
          "",
          "",
          "",
          "",
          "",
          "",
          "",
          "",
          "",
          "",
          "",
          "",
          "",
          "",
          "",
          "",
          "",
          "",
          "",
          "",
          "",
          "",
          "",
          "",
          "",
          "",
          "",
          "",
          "",
          "",
          "",
          "",
          "",
          "",
          "",
          "",
          "",
          "",
          "",
          "",
          "",
          "",
          "",
          "",
          "",
          "",
          "",
          "",
          "",
          "",
          "",
          "",
          "",
          "",
          "",
          "",
          "",
          "",
          "",
          "",
          "",
          "",
          "",
          "",
          "",
          "",
          "",
          "",
          "",
          "",
          "",
          "",
          "",
          "",
          "",
          "",
          "",
          "",
          "",
          "",
          "",
          "",
          "",
          "",
          "",
          "",
          "",
          "",
          "",
          "",
          "",
          "",
          "",
          "",
          "",
          "",
          "",
          "",
          "",
          "",
          "",
          "",
          "",
          "",
          "",
          "",
          "",
          "",
          "",
          "",
          "",
          "",
          "",
          "",
          "",
          "",
          "",
          "",
          "",
          "",
          "",
          "",
          "",
          "",
          "",
          "",
          "",
          "",
          "",
          "",
          "",
          "",
          "",
          "",
          "",
          "",
          "",
          "",
          "",
          "",
          "",
          "",
          "",
          "",
          "",
          "",
          "",
          "",
          "",
          "",
          "",
          "",
          "",
          "",
          "",
          "",
          "",
          "",
          "",
          "",
          "",
          "",
          "",
          "",
          "",
          "",
          "",
          "",
          "",
          "",
          "",
          "",
          "",
          "",
          "",
          "",
          "",
          "",
          "",
          "",
          "",
          "",
          "",
          "",
          "",
          "",
          "",
          "",
          "",
          "",
          "",
          "",
          "",
          "",
          "",
          "",
          "",
          "",
          "",
          "",
          "",
          "",
          "",
          "",
          "",
          "",
          "",
          "",
          "",
          "",
          "",
          "",
          "",
          "",
          "",
          "",
          "",
          "",
          "",
          "",
          "",
          "",
          "",
          "",
          "",
          "",
          "",
          "",
          "",
          "",
          "",
          "",
          "",
          "",
          "",
          "",
          "",
          "",
          "",
          "",
          "",
          "",
          "",
          "",
          "",
          "",
          "",
          "",
          "",
          "",
          "",
          "",
          "",
          "",
          "",
          "",
          "",
          "",
          "",
          "",
          "",
          "",
          "",
          "",
          "",
          "",
          "",
          "",
          "",
          "",
          "",
          "",
          "",
          "",
          "",
          "",
          "",
          "",
          "",
          "",
          "",
          "",
          "",
          "",
          "",
          "",
          "",
          "",
          "",
          "",
          "",
          "",
          "",
          "",
          "",
          "",
          "",
          "",
          "",
          "",
          "",
          "",
          "",
          "",
          "",
          "",
          "",
          "",
          "",
          "",
          "",
          "",
          "",
          "",
          "",
          "",
          "",
          "",
          "",
          "",
          "",
          "",
          "",
          "",
          "",
          "",
          "",
          "",
          "",
          "",
          "",
          "",
          "",
          "",
          "",
          "",
          "",
          "",
          "",
          "",
          "",
          "",
          "",
          "",
          "",
          "",
          "",
          "",
          "",
          "",
          "",
          "",
          "",
          "",
          "",
          "",
          "",
          "",
          "",
          "",
          "",
          "",
          "",
          "",
          "",
          "",
          "",
          "",
          "",
          "",
          "",
          "",
          "",
          "",
          "",
          "",
          "",
          "",
          "",
          "",
          "",
          "",
          "",
          "",
          "",
          "",
          "",
          "",
          "",
          "",
          "",
          "",
          "",
          "",
          "",
          "",
          "",
          "",
          "",
          "",
          "",
          "",
          "",
          "",
          "",
          "",
          "",
          "",
          "",
          "",
          "",
          "",
          "",
          "",
          "",
          "",
          "",
          "",
          "",
          "",
          "",
          "",
          "",
          "",
          "",
          "",
          "",
          "",
          "",
          "",
          "",
          "",
          "",
          "",
          "",
          "",
          "",
          "",
          "",
          "",
          "",
          "",
          "",
          "",
          "",
          "",
          "",
          "",
          "",
          "",
          "",
          "",
          "",
          "",
          "",
          "",
          "",
          "",
          "",
          "",
          "",
          "",
          "",
          "",
          "",
          "",
          "",
          "",
          "",
          "",
          "",
          "",
          "",
          "",
          "",
          "",
          "",
          "",
          "",
          "",
          "",
          "",
          "",
          "",
          "",
          "",
          "",
          "",
          "",
          "",
          "",
          "",
          "",
          "",
          "",
          "",
          "",
          "",
          "",
          "",
          "",
          "",
          "",
          "",
          "",
          "",
          "",
          "",
          "",
          "",
          "",
          "",
          "",
          "",
          "",
          "",
          "",
          "",
          "",
          "",
          "",
          "",
          "",
          "",
          "",
          "",
          "",
          "",
          "",
          "",
          "",
          "",
          "",
          "",
          "",
          "",
          "",
          "",
          "",
          "",
          "",
          "",
          "",
          "",
          "",
          "",
          "",
          "",
          "",
          "",
          "",
          "",
          "",
          "",
          "",
          "",
          "",
          "",
          "",
          "",
          "",
          "",
          "",
          "",
          "",
          "",
          "",
          "",
          "",
          "",
          "",
          "",
          "",
          "",
          "",
          "",
          "",
          "",
          "",
          "",
          "",
          "",
          "",
          "",
          "",
          "",
          "",
          "",
          "",
          "",
          "",
          "",
          "",
          "",
          "",
          "",
          "",
          "",
          "",
          "",
          "",
          "",
          "",
          "",
          "",
          "",
          "",
          "",
          "",
          "",
          "",
          "",
          "",
          "",
          "",
          "",
          "",
          "",
          "",
          "",
          "",
          "",
          "",
          "",
          "",
          "",
          "",
          "",
          "",
          "",
          "",
          "",
          "",
          "",
          "",
          "",
          "",
          "",
          "",
          "",
          "",
          "",
          "",
          "",
          "",
          "",
          "",
          "",
          "",
          "",
          "",
          "",
          "",
          "",
          "",
          "",
          "",
          "",
          "",
          "",
          "",
          "",
          "",
          "",
          "",
          "",
          "",
          "",
          "",
          "",
          "",
          "",
          "",
          "",
          "",
          "",
          "",
          "",
          "",
          "",
          "",
          "",
          "",
          "",
          "",
          "",
          "",
          "",
          "",
          "",
          "",
          "",
          "",
          "",
          "",
          "",
          "",
          "",
          "",
          "",
          "",
          "",
          "",
          "",
          "",
          "",
          "",
          "",
          "",
          "",
          "",
          "",
          "",
          "",
          "",
          "",
          "",
          "",
          "",
          "",
          "",
          "",
          "",
          "",
          "",
          "",
          "",
          "",
          "",
          "",
          "",
          "",
          "",
          "",
          "",
          "",
          "",
          "",
          "",
          "",
          "",
          "",
          "",
          "",
          "",
          "",
          "",
          "",
          "",
          "",
          "",
          "",
          "",
          "",
          "",
          "",
          "",
          "",
          "",
          "",
          "",
          "",
          "",
          "",
          "",
          "",
          "",
          "",
          "",
          "",
          ""
         ],
         "textinfo": "label+value",
         "type": "treemap",
         "values": [
          541032,
          504112,
          236044,
          162479,
          155275,
          140746,
          85461,
          64693,
          59388,
          54748,
          51736,
          50484,
          45768,
          43079,
          30861,
          30561,
          26029,
          24771,
          20830,
          19928,
          18641,
          18467,
          16470,
          16377,
          16011,
          14759,
          14742,
          13712,
          13617,
          12808,
          12724,
          12224,
          11971,
          11566,
          11223,
          9568,
          8915,
          8460,
          8273,
          8160,
          8108,
          7918,
          7906,
          7466,
          7401,
          7249,
          7045,
          6922,
          6399,
          6291,
          6164,
          6127,
          6104,
          6097,
          6078,
          5893,
          5866,
          5793,
          5589,
          5558,
          5191,
          5182,
          5082,
          5006,
          4791,
          4625,
          4427,
          4266,
          4116,
          4059,
          4052,
          3994,
          3924,
          3839,
          3768,
          3766,
          3766,
          3676,
          3523,
          3522,
          3511,
          3466,
          3460,
          3460,
          3457,
          3427,
          3403,
          3289,
          3241,
          3126,
          3003,
          2975,
          2931,
          2856,
          2803,
          2749,
          2729,
          2696,
          2625,
          2522,
          2518,
          2480,
          2391,
          2247,
          2064,
          2054,
          1974,
          1936,
          1911,
          1842,
          1786,
          1749,
          1670,
          1663,
          1639,
          1627,
          1591,
          1562,
          1558,
          1520,
          1518,
          1452,
          1443,
          1363,
          1349,
          1334,
          1315,
          1301,
          1286,
          1285,
          1267,
          1245,
          1216,
          1216,
          1214,
          1204,
          1200,
          1196,
          1183,
          1178,
          1177,
          1162,
          1129,
          1112,
          1100,
          1087,
          1064,
          1034,
          1019,
          1012,
          993,
          986,
          971,
          960,
          956,
          941,
          918,
          915,
          893,
          889,
          869,
          865,
          843,
          836,
          823,
          818,
          814,
          804,
          803,
          781,
          778,
          733,
          721,
          717,
          711,
          702,
          688,
          678,
          670,
          659,
          648,
          645,
          640,
          639,
          637,
          625,
          624,
          608,
          607,
          602,
          592,
          590,
          585,
          585,
          578,
          577,
          571,
          565,
          563,
          563,
          560,
          558,
          551,
          550,
          530,
          524,
          522,
          520,
          509,
          499,
          493,
          485,
          485,
          484,
          483,
          480,
          472,
          467,
          449,
          443,
          441,
          439,
          437,
          436,
          433,
          431,
          424,
          423,
          420,
          418,
          417,
          411,
          406,
          404,
          402,
          400,
          397,
          392,
          387,
          374,
          371,
          371,
          366,
          366,
          363,
          361,
          357,
          353,
          350,
          349,
          346,
          346,
          343,
          342,
          337,
          337,
          337,
          333,
          332,
          332,
          331,
          321,
          303,
          298,
          297,
          296,
          291,
          289,
          287,
          286,
          277,
          273,
          272,
          268,
          268,
          266,
          266,
          262,
          261,
          258,
          257,
          257,
          254,
          249,
          248,
          245,
          245,
          244,
          244,
          242,
          241,
          241,
          240,
          239,
          238,
          238,
          237,
          233,
          231,
          229,
          226,
          225,
          225,
          224,
          223,
          222,
          222,
          221,
          220,
          217,
          216,
          213,
          212,
          210,
          204,
          200,
          199,
          198,
          194,
          192,
          192,
          190,
          187,
          187,
          184,
          184,
          184,
          183,
          182,
          180,
          180,
          179,
          175,
          171,
          167,
          167,
          166,
          165,
          162,
          160,
          160,
          158,
          157,
          156,
          155,
          154,
          154,
          151,
          150,
          150,
          148,
          148,
          148,
          148,
          148,
          147,
          146,
          146,
          143,
          143,
          142,
          141,
          139,
          138,
          137,
          137,
          137,
          137,
          136,
          136,
          136,
          135,
          133,
          132,
          131,
          131,
          131,
          130,
          130,
          129,
          128,
          127,
          126,
          126,
          125,
          123,
          122,
          122,
          121,
          121,
          118,
          117,
          115,
          115,
          114,
          113,
          113,
          113,
          113,
          113,
          112,
          112,
          112,
          112,
          111,
          110,
          108,
          108,
          107,
          107,
          106,
          105,
          104,
          103,
          103,
          102,
          102,
          101,
          98,
          96,
          95,
          94,
          94,
          93,
          91,
          91,
          91,
          90,
          90,
          89,
          89,
          89,
          89,
          88,
          88,
          88,
          87,
          86,
          84,
          82,
          81,
          81,
          81,
          80,
          79,
          78,
          78,
          78,
          78,
          77,
          76,
          76,
          75,
          75,
          74,
          73,
          73,
          73,
          73,
          72,
          71,
          71,
          70,
          70,
          69,
          69,
          69,
          69,
          69,
          68,
          68,
          67,
          67,
          67,
          67,
          67,
          66,
          66,
          65,
          64,
          64,
          63,
          63,
          63,
          63,
          63,
          62,
          62,
          62,
          62,
          61,
          61,
          61,
          61,
          60,
          60,
          60,
          60,
          59,
          59,
          59,
          59,
          59,
          58,
          58,
          57,
          57,
          56,
          55,
          55,
          54,
          54,
          54,
          53,
          53,
          53,
          52,
          52,
          52,
          52,
          52,
          52,
          52,
          52,
          52,
          51,
          50,
          50,
          50,
          50,
          50,
          50,
          49,
          49,
          49,
          49,
          48,
          47,
          47,
          47,
          47,
          47,
          47,
          46,
          46,
          46,
          46,
          46,
          46,
          45,
          45,
          45,
          44,
          44,
          43,
          43,
          43,
          42,
          42,
          42,
          42,
          41,
          41,
          41,
          41,
          41,
          41,
          41,
          40,
          40,
          40,
          40,
          39,
          39,
          39,
          39,
          38,
          38,
          38,
          38,
          38,
          37,
          37,
          37,
          37,
          37,
          36,
          36,
          35,
          35,
          35,
          35,
          35,
          34,
          34,
          34,
          34,
          34,
          34,
          34,
          34,
          34,
          34,
          34,
          33,
          32,
          32,
          32,
          32,
          31,
          31,
          31,
          31,
          31,
          31,
          30,
          30,
          30,
          30,
          30,
          30,
          30,
          30,
          30,
          29,
          29,
          29,
          29,
          29,
          29,
          29,
          29,
          29,
          29,
          29,
          29,
          28,
          28,
          28,
          28,
          28,
          28,
          28,
          28,
          27,
          27,
          27,
          27,
          27,
          27,
          27,
          27,
          27,
          26,
          26,
          26,
          26,
          26,
          26,
          26,
          26,
          26,
          25,
          25,
          25,
          25,
          25,
          25,
          25,
          25,
          25,
          25,
          25,
          24,
          24,
          24,
          24,
          24,
          24,
          24,
          24,
          24,
          24,
          24,
          23,
          23,
          23,
          23,
          23,
          23,
          23,
          23,
          22,
          22,
          22,
          22,
          22,
          22,
          22,
          22,
          22,
          21,
          21,
          21,
          21,
          21,
          21,
          21,
          20,
          20,
          20,
          20,
          20,
          20,
          20,
          20,
          20,
          20,
          20,
          19,
          19,
          19,
          19,
          19,
          19,
          19,
          19,
          18,
          18,
          18,
          18,
          18,
          18,
          18,
          18,
          18,
          18,
          18,
          18,
          18,
          18,
          17,
          17,
          17,
          17,
          17,
          17,
          16,
          16,
          16,
          16,
          16,
          16,
          16,
          16,
          16,
          15,
          15,
          15,
          15,
          15,
          15,
          15,
          15,
          15,
          15,
          15,
          15,
          15,
          15,
          15,
          14,
          14,
          14,
          14,
          14,
          14,
          14,
          14,
          14,
          14,
          14,
          14,
          14,
          13,
          13,
          13,
          13,
          13,
          13,
          13,
          13,
          13,
          13,
          13,
          13,
          13,
          13,
          13,
          13,
          13,
          13,
          13,
          13,
          13,
          12,
          12,
          12,
          12,
          12,
          12,
          12,
          12,
          12,
          12,
          12,
          12,
          12,
          12,
          12,
          12,
          12,
          12,
          12,
          12,
          12,
          12,
          12,
          12,
          11,
          11,
          11,
          11,
          11,
          11,
          11,
          11,
          11,
          11,
          11,
          11,
          11,
          11,
          11,
          11,
          11,
          11,
          11,
          11,
          11,
          11,
          11,
          11,
          10,
          10,
          10,
          10,
          10,
          10,
          10,
          10,
          10,
          10,
          10,
          10,
          10,
          10,
          10,
          10,
          10,
          10,
          10,
          10,
          10,
          10,
          10,
          10,
          9,
          8,
          8,
          7,
          7,
          7,
          6,
          6,
          6,
          5,
          5,
          5,
          4,
          4,
          4,
          4,
          4,
          3,
          2,
          2,
          2,
          2,
          2,
          2,
          2,
          2,
          2,
          2,
          2,
          1,
          1,
          1,
          1,
          1,
          1,
          1,
          1,
          1,
          1,
          1,
          1,
          1,
          1,
          1,
          1,
          1,
          1,
          1,
          1,
          1,
          1,
          1,
          1,
          1,
          1,
          1,
          1,
          1,
          1,
          1,
          1,
          1,
          1,
          1
         ]
        }
       ],
       "layout": {
        "font": {
         "color": "white"
        },
        "paper_bgcolor": "black",
        "plot_bgcolor": "grey",
        "template": {
         "data": {
          "bar": [
           {
            "error_x": {
             "color": "#2a3f5f"
            },
            "error_y": {
             "color": "#2a3f5f"
            },
            "marker": {
             "line": {
              "color": "#E5ECF6",
              "width": 0.5
             },
             "pattern": {
              "fillmode": "overlay",
              "size": 10,
              "solidity": 0.2
             }
            },
            "type": "bar"
           }
          ],
          "barpolar": [
           {
            "marker": {
             "line": {
              "color": "#E5ECF6",
              "width": 0.5
             },
             "pattern": {
              "fillmode": "overlay",
              "size": 10,
              "solidity": 0.2
             }
            },
            "type": "barpolar"
           }
          ],
          "carpet": [
           {
            "aaxis": {
             "endlinecolor": "#2a3f5f",
             "gridcolor": "white",
             "linecolor": "white",
             "minorgridcolor": "white",
             "startlinecolor": "#2a3f5f"
            },
            "baxis": {
             "endlinecolor": "#2a3f5f",
             "gridcolor": "white",
             "linecolor": "white",
             "minorgridcolor": "white",
             "startlinecolor": "#2a3f5f"
            },
            "type": "carpet"
           }
          ],
          "choropleth": [
           {
            "colorbar": {
             "outlinewidth": 0,
             "ticks": ""
            },
            "type": "choropleth"
           }
          ],
          "contour": [
           {
            "colorbar": {
             "outlinewidth": 0,
             "ticks": ""
            },
            "colorscale": [
             [
              0,
              "#0d0887"
             ],
             [
              0.1111111111111111,
              "#46039f"
             ],
             [
              0.2222222222222222,
              "#7201a8"
             ],
             [
              0.3333333333333333,
              "#9c179e"
             ],
             [
              0.4444444444444444,
              "#bd3786"
             ],
             [
              0.5555555555555556,
              "#d8576b"
             ],
             [
              0.6666666666666666,
              "#ed7953"
             ],
             [
              0.7777777777777778,
              "#fb9f3a"
             ],
             [
              0.8888888888888888,
              "#fdca26"
             ],
             [
              1,
              "#f0f921"
             ]
            ],
            "type": "contour"
           }
          ],
          "contourcarpet": [
           {
            "colorbar": {
             "outlinewidth": 0,
             "ticks": ""
            },
            "type": "contourcarpet"
           }
          ],
          "heatmap": [
           {
            "colorbar": {
             "outlinewidth": 0,
             "ticks": ""
            },
            "colorscale": [
             [
              0,
              "#0d0887"
             ],
             [
              0.1111111111111111,
              "#46039f"
             ],
             [
              0.2222222222222222,
              "#7201a8"
             ],
             [
              0.3333333333333333,
              "#9c179e"
             ],
             [
              0.4444444444444444,
              "#bd3786"
             ],
             [
              0.5555555555555556,
              "#d8576b"
             ],
             [
              0.6666666666666666,
              "#ed7953"
             ],
             [
              0.7777777777777778,
              "#fb9f3a"
             ],
             [
              0.8888888888888888,
              "#fdca26"
             ],
             [
              1,
              "#f0f921"
             ]
            ],
            "type": "heatmap"
           }
          ],
          "heatmapgl": [
           {
            "colorbar": {
             "outlinewidth": 0,
             "ticks": ""
            },
            "colorscale": [
             [
              0,
              "#0d0887"
             ],
             [
              0.1111111111111111,
              "#46039f"
             ],
             [
              0.2222222222222222,
              "#7201a8"
             ],
             [
              0.3333333333333333,
              "#9c179e"
             ],
             [
              0.4444444444444444,
              "#bd3786"
             ],
             [
              0.5555555555555556,
              "#d8576b"
             ],
             [
              0.6666666666666666,
              "#ed7953"
             ],
             [
              0.7777777777777778,
              "#fb9f3a"
             ],
             [
              0.8888888888888888,
              "#fdca26"
             ],
             [
              1,
              "#f0f921"
             ]
            ],
            "type": "heatmapgl"
           }
          ],
          "histogram": [
           {
            "marker": {
             "pattern": {
              "fillmode": "overlay",
              "size": 10,
              "solidity": 0.2
             }
            },
            "type": "histogram"
           }
          ],
          "histogram2d": [
           {
            "colorbar": {
             "outlinewidth": 0,
             "ticks": ""
            },
            "colorscale": [
             [
              0,
              "#0d0887"
             ],
             [
              0.1111111111111111,
              "#46039f"
             ],
             [
              0.2222222222222222,
              "#7201a8"
             ],
             [
              0.3333333333333333,
              "#9c179e"
             ],
             [
              0.4444444444444444,
              "#bd3786"
             ],
             [
              0.5555555555555556,
              "#d8576b"
             ],
             [
              0.6666666666666666,
              "#ed7953"
             ],
             [
              0.7777777777777778,
              "#fb9f3a"
             ],
             [
              0.8888888888888888,
              "#fdca26"
             ],
             [
              1,
              "#f0f921"
             ]
            ],
            "type": "histogram2d"
           }
          ],
          "histogram2dcontour": [
           {
            "colorbar": {
             "outlinewidth": 0,
             "ticks": ""
            },
            "colorscale": [
             [
              0,
              "#0d0887"
             ],
             [
              0.1111111111111111,
              "#46039f"
             ],
             [
              0.2222222222222222,
              "#7201a8"
             ],
             [
              0.3333333333333333,
              "#9c179e"
             ],
             [
              0.4444444444444444,
              "#bd3786"
             ],
             [
              0.5555555555555556,
              "#d8576b"
             ],
             [
              0.6666666666666666,
              "#ed7953"
             ],
             [
              0.7777777777777778,
              "#fb9f3a"
             ],
             [
              0.8888888888888888,
              "#fdca26"
             ],
             [
              1,
              "#f0f921"
             ]
            ],
            "type": "histogram2dcontour"
           }
          ],
          "mesh3d": [
           {
            "colorbar": {
             "outlinewidth": 0,
             "ticks": ""
            },
            "type": "mesh3d"
           }
          ],
          "parcoords": [
           {
            "line": {
             "colorbar": {
              "outlinewidth": 0,
              "ticks": ""
             }
            },
            "type": "parcoords"
           }
          ],
          "pie": [
           {
            "automargin": true,
            "type": "pie"
           }
          ],
          "scatter": [
           {
            "fillpattern": {
             "fillmode": "overlay",
             "size": 10,
             "solidity": 0.2
            },
            "type": "scatter"
           }
          ],
          "scatter3d": [
           {
            "line": {
             "colorbar": {
              "outlinewidth": 0,
              "ticks": ""
             }
            },
            "marker": {
             "colorbar": {
              "outlinewidth": 0,
              "ticks": ""
             }
            },
            "type": "scatter3d"
           }
          ],
          "scattercarpet": [
           {
            "marker": {
             "colorbar": {
              "outlinewidth": 0,
              "ticks": ""
             }
            },
            "type": "scattercarpet"
           }
          ],
          "scattergeo": [
           {
            "marker": {
             "colorbar": {
              "outlinewidth": 0,
              "ticks": ""
             }
            },
            "type": "scattergeo"
           }
          ],
          "scattergl": [
           {
            "marker": {
             "colorbar": {
              "outlinewidth": 0,
              "ticks": ""
             }
            },
            "type": "scattergl"
           }
          ],
          "scattermapbox": [
           {
            "marker": {
             "colorbar": {
              "outlinewidth": 0,
              "ticks": ""
             }
            },
            "type": "scattermapbox"
           }
          ],
          "scatterpolar": [
           {
            "marker": {
             "colorbar": {
              "outlinewidth": 0,
              "ticks": ""
             }
            },
            "type": "scatterpolar"
           }
          ],
          "scatterpolargl": [
           {
            "marker": {
             "colorbar": {
              "outlinewidth": 0,
              "ticks": ""
             }
            },
            "type": "scatterpolargl"
           }
          ],
          "scatterternary": [
           {
            "marker": {
             "colorbar": {
              "outlinewidth": 0,
              "ticks": ""
             }
            },
            "type": "scatterternary"
           }
          ],
          "surface": [
           {
            "colorbar": {
             "outlinewidth": 0,
             "ticks": ""
            },
            "colorscale": [
             [
              0,
              "#0d0887"
             ],
             [
              0.1111111111111111,
              "#46039f"
             ],
             [
              0.2222222222222222,
              "#7201a8"
             ],
             [
              0.3333333333333333,
              "#9c179e"
             ],
             [
              0.4444444444444444,
              "#bd3786"
             ],
             [
              0.5555555555555556,
              "#d8576b"
             ],
             [
              0.6666666666666666,
              "#ed7953"
             ],
             [
              0.7777777777777778,
              "#fb9f3a"
             ],
             [
              0.8888888888888888,
              "#fdca26"
             ],
             [
              1,
              "#f0f921"
             ]
            ],
            "type": "surface"
           }
          ],
          "table": [
           {
            "cells": {
             "fill": {
              "color": "#EBF0F8"
             },
             "line": {
              "color": "white"
             }
            },
            "header": {
             "fill": {
              "color": "#C8D4E3"
             },
             "line": {
              "color": "white"
             }
            },
            "type": "table"
           }
          ]
         },
         "layout": {
          "annotationdefaults": {
           "arrowcolor": "#2a3f5f",
           "arrowhead": 0,
           "arrowwidth": 1
          },
          "autotypenumbers": "strict",
          "coloraxis": {
           "colorbar": {
            "outlinewidth": 0,
            "ticks": ""
           }
          },
          "colorscale": {
           "diverging": [
            [
             0,
             "#8e0152"
            ],
            [
             0.1,
             "#c51b7d"
            ],
            [
             0.2,
             "#de77ae"
            ],
            [
             0.3,
             "#f1b6da"
            ],
            [
             0.4,
             "#fde0ef"
            ],
            [
             0.5,
             "#f7f7f7"
            ],
            [
             0.6,
             "#e6f5d0"
            ],
            [
             0.7,
             "#b8e186"
            ],
            [
             0.8,
             "#7fbc41"
            ],
            [
             0.9,
             "#4d9221"
            ],
            [
             1,
             "#276419"
            ]
           ],
           "sequential": [
            [
             0,
             "#0d0887"
            ],
            [
             0.1111111111111111,
             "#46039f"
            ],
            [
             0.2222222222222222,
             "#7201a8"
            ],
            [
             0.3333333333333333,
             "#9c179e"
            ],
            [
             0.4444444444444444,
             "#bd3786"
            ],
            [
             0.5555555555555556,
             "#d8576b"
            ],
            [
             0.6666666666666666,
             "#ed7953"
            ],
            [
             0.7777777777777778,
             "#fb9f3a"
            ],
            [
             0.8888888888888888,
             "#fdca26"
            ],
            [
             1,
             "#f0f921"
            ]
           ],
           "sequentialminus": [
            [
             0,
             "#0d0887"
            ],
            [
             0.1111111111111111,
             "#46039f"
            ],
            [
             0.2222222222222222,
             "#7201a8"
            ],
            [
             0.3333333333333333,
             "#9c179e"
            ],
            [
             0.4444444444444444,
             "#bd3786"
            ],
            [
             0.5555555555555556,
             "#d8576b"
            ],
            [
             0.6666666666666666,
             "#ed7953"
            ],
            [
             0.7777777777777778,
             "#fb9f3a"
            ],
            [
             0.8888888888888888,
             "#fdca26"
            ],
            [
             1,
             "#f0f921"
            ]
           ]
          },
          "colorway": [
           "#636efa",
           "#EF553B",
           "#00cc96",
           "#ab63fa",
           "#FFA15A",
           "#19d3f3",
           "#FF6692",
           "#B6E880",
           "#FF97FF",
           "#FECB52"
          ],
          "font": {
           "color": "#2a3f5f"
          },
          "geo": {
           "bgcolor": "white",
           "lakecolor": "white",
           "landcolor": "#E5ECF6",
           "showlakes": true,
           "showland": true,
           "subunitcolor": "white"
          },
          "hoverlabel": {
           "align": "left"
          },
          "hovermode": "closest",
          "mapbox": {
           "style": "light"
          },
          "paper_bgcolor": "white",
          "plot_bgcolor": "#E5ECF6",
          "polar": {
           "angularaxis": {
            "gridcolor": "white",
            "linecolor": "white",
            "ticks": ""
           },
           "bgcolor": "#E5ECF6",
           "radialaxis": {
            "gridcolor": "white",
            "linecolor": "white",
            "ticks": ""
           }
          },
          "scene": {
           "xaxis": {
            "backgroundcolor": "#E5ECF6",
            "gridcolor": "white",
            "gridwidth": 2,
            "linecolor": "white",
            "showbackground": true,
            "ticks": "",
            "zerolinecolor": "white"
           },
           "yaxis": {
            "backgroundcolor": "#E5ECF6",
            "gridcolor": "white",
            "gridwidth": 2,
            "linecolor": "white",
            "showbackground": true,
            "ticks": "",
            "zerolinecolor": "white"
           },
           "zaxis": {
            "backgroundcolor": "#E5ECF6",
            "gridcolor": "white",
            "gridwidth": 2,
            "linecolor": "white",
            "showbackground": true,
            "ticks": "",
            "zerolinecolor": "white"
           }
          },
          "shapedefaults": {
           "line": {
            "color": "#2a3f5f"
           }
          },
          "ternary": {
           "aaxis": {
            "gridcolor": "white",
            "linecolor": "white",
            "ticks": ""
           },
           "baxis": {
            "gridcolor": "white",
            "linecolor": "white",
            "ticks": ""
           },
           "bgcolor": "#E5ECF6",
           "caxis": {
            "gridcolor": "white",
            "linecolor": "white",
            "ticks": ""
           }
          },
          "title": {
           "x": 0.05
          },
          "xaxis": {
           "automargin": true,
           "gridcolor": "white",
           "linecolor": "white",
           "ticks": "",
           "title": {
            "standoff": 15
           },
           "zerolinecolor": "white",
           "zerolinewidth": 2
          },
          "yaxis": {
           "automargin": true,
           "gridcolor": "white",
           "linecolor": "white",
           "ticks": "",
           "title": {
            "standoff": 15
           },
           "zerolinecolor": "white",
           "zerolinewidth": 2
          }
         }
        },
        "title": {
         "text": "treemap column: countries"
        }
       }
      }
     },
     "metadata": {},
     "output_type": "display_data"
    },
    {
     "data": {
      "application/vnd.plotly.v1+json": {
       "config": {
        "plotlyServerURL": "https://plot.ly"
       },
       "data": [
        {
         "labels": [
          0,
          0.1111111111,
          0.2222222222,
          0.3333333333,
          0.4444444444,
          0.5555555556,
          0.6666666667,
          0.7777777778,
          1,
          0.8888888889
         ],
         "parents": [
          "",
          "",
          "",
          "",
          "",
          "",
          "",
          "",
          "",
          ""
         ],
         "textinfo": "label+value",
         "type": "treemap",
         "values": [
          2409886,
          377711,
          267932,
          143121,
          67536,
          36409,
          28967,
          15366,
          15120,
          9511
         ]
        }
       ],
       "layout": {
        "font": {
         "color": "white"
        },
        "paper_bgcolor": "black",
        "plot_bgcolor": "grey",
        "template": {
         "data": {
          "bar": [
           {
            "error_x": {
             "color": "#2a3f5f"
            },
            "error_y": {
             "color": "#2a3f5f"
            },
            "marker": {
             "line": {
              "color": "#E5ECF6",
              "width": 0.5
             },
             "pattern": {
              "fillmode": "overlay",
              "size": 10,
              "solidity": 0.2
             }
            },
            "type": "bar"
           }
          ],
          "barpolar": [
           {
            "marker": {
             "line": {
              "color": "#E5ECF6",
              "width": 0.5
             },
             "pattern": {
              "fillmode": "overlay",
              "size": 10,
              "solidity": 0.2
             }
            },
            "type": "barpolar"
           }
          ],
          "carpet": [
           {
            "aaxis": {
             "endlinecolor": "#2a3f5f",
             "gridcolor": "white",
             "linecolor": "white",
             "minorgridcolor": "white",
             "startlinecolor": "#2a3f5f"
            },
            "baxis": {
             "endlinecolor": "#2a3f5f",
             "gridcolor": "white",
             "linecolor": "white",
             "minorgridcolor": "white",
             "startlinecolor": "#2a3f5f"
            },
            "type": "carpet"
           }
          ],
          "choropleth": [
           {
            "colorbar": {
             "outlinewidth": 0,
             "ticks": ""
            },
            "type": "choropleth"
           }
          ],
          "contour": [
           {
            "colorbar": {
             "outlinewidth": 0,
             "ticks": ""
            },
            "colorscale": [
             [
              0,
              "#0d0887"
             ],
             [
              0.1111111111111111,
              "#46039f"
             ],
             [
              0.2222222222222222,
              "#7201a8"
             ],
             [
              0.3333333333333333,
              "#9c179e"
             ],
             [
              0.4444444444444444,
              "#bd3786"
             ],
             [
              0.5555555555555556,
              "#d8576b"
             ],
             [
              0.6666666666666666,
              "#ed7953"
             ],
             [
              0.7777777777777778,
              "#fb9f3a"
             ],
             [
              0.8888888888888888,
              "#fdca26"
             ],
             [
              1,
              "#f0f921"
             ]
            ],
            "type": "contour"
           }
          ],
          "contourcarpet": [
           {
            "colorbar": {
             "outlinewidth": 0,
             "ticks": ""
            },
            "type": "contourcarpet"
           }
          ],
          "heatmap": [
           {
            "colorbar": {
             "outlinewidth": 0,
             "ticks": ""
            },
            "colorscale": [
             [
              0,
              "#0d0887"
             ],
             [
              0.1111111111111111,
              "#46039f"
             ],
             [
              0.2222222222222222,
              "#7201a8"
             ],
             [
              0.3333333333333333,
              "#9c179e"
             ],
             [
              0.4444444444444444,
              "#bd3786"
             ],
             [
              0.5555555555555556,
              "#d8576b"
             ],
             [
              0.6666666666666666,
              "#ed7953"
             ],
             [
              0.7777777777777778,
              "#fb9f3a"
             ],
             [
              0.8888888888888888,
              "#fdca26"
             ],
             [
              1,
              "#f0f921"
             ]
            ],
            "type": "heatmap"
           }
          ],
          "heatmapgl": [
           {
            "colorbar": {
             "outlinewidth": 0,
             "ticks": ""
            },
            "colorscale": [
             [
              0,
              "#0d0887"
             ],
             [
              0.1111111111111111,
              "#46039f"
             ],
             [
              0.2222222222222222,
              "#7201a8"
             ],
             [
              0.3333333333333333,
              "#9c179e"
             ],
             [
              0.4444444444444444,
              "#bd3786"
             ],
             [
              0.5555555555555556,
              "#d8576b"
             ],
             [
              0.6666666666666666,
              "#ed7953"
             ],
             [
              0.7777777777777778,
              "#fb9f3a"
             ],
             [
              0.8888888888888888,
              "#fdca26"
             ],
             [
              1,
              "#f0f921"
             ]
            ],
            "type": "heatmapgl"
           }
          ],
          "histogram": [
           {
            "marker": {
             "pattern": {
              "fillmode": "overlay",
              "size": 10,
              "solidity": 0.2
             }
            },
            "type": "histogram"
           }
          ],
          "histogram2d": [
           {
            "colorbar": {
             "outlinewidth": 0,
             "ticks": ""
            },
            "colorscale": [
             [
              0,
              "#0d0887"
             ],
             [
              0.1111111111111111,
              "#46039f"
             ],
             [
              0.2222222222222222,
              "#7201a8"
             ],
             [
              0.3333333333333333,
              "#9c179e"
             ],
             [
              0.4444444444444444,
              "#bd3786"
             ],
             [
              0.5555555555555556,
              "#d8576b"
             ],
             [
              0.6666666666666666,
              "#ed7953"
             ],
             [
              0.7777777777777778,
              "#fb9f3a"
             ],
             [
              0.8888888888888888,
              "#fdca26"
             ],
             [
              1,
              "#f0f921"
             ]
            ],
            "type": "histogram2d"
           }
          ],
          "histogram2dcontour": [
           {
            "colorbar": {
             "outlinewidth": 0,
             "ticks": ""
            },
            "colorscale": [
             [
              0,
              "#0d0887"
             ],
             [
              0.1111111111111111,
              "#46039f"
             ],
             [
              0.2222222222222222,
              "#7201a8"
             ],
             [
              0.3333333333333333,
              "#9c179e"
             ],
             [
              0.4444444444444444,
              "#bd3786"
             ],
             [
              0.5555555555555556,
              "#d8576b"
             ],
             [
              0.6666666666666666,
              "#ed7953"
             ],
             [
              0.7777777777777778,
              "#fb9f3a"
             ],
             [
              0.8888888888888888,
              "#fdca26"
             ],
             [
              1,
              "#f0f921"
             ]
            ],
            "type": "histogram2dcontour"
           }
          ],
          "mesh3d": [
           {
            "colorbar": {
             "outlinewidth": 0,
             "ticks": ""
            },
            "type": "mesh3d"
           }
          ],
          "parcoords": [
           {
            "line": {
             "colorbar": {
              "outlinewidth": 0,
              "ticks": ""
             }
            },
            "type": "parcoords"
           }
          ],
          "pie": [
           {
            "automargin": true,
            "type": "pie"
           }
          ],
          "scatter": [
           {
            "fillpattern": {
             "fillmode": "overlay",
             "size": 10,
             "solidity": 0.2
            },
            "type": "scatter"
           }
          ],
          "scatter3d": [
           {
            "line": {
             "colorbar": {
              "outlinewidth": 0,
              "ticks": ""
             }
            },
            "marker": {
             "colorbar": {
              "outlinewidth": 0,
              "ticks": ""
             }
            },
            "type": "scatter3d"
           }
          ],
          "scattercarpet": [
           {
            "marker": {
             "colorbar": {
              "outlinewidth": 0,
              "ticks": ""
             }
            },
            "type": "scattercarpet"
           }
          ],
          "scattergeo": [
           {
            "marker": {
             "colorbar": {
              "outlinewidth": 0,
              "ticks": ""
             }
            },
            "type": "scattergeo"
           }
          ],
          "scattergl": [
           {
            "marker": {
             "colorbar": {
              "outlinewidth": 0,
              "ticks": ""
             }
            },
            "type": "scattergl"
           }
          ],
          "scattermapbox": [
           {
            "marker": {
             "colorbar": {
              "outlinewidth": 0,
              "ticks": ""
             }
            },
            "type": "scattermapbox"
           }
          ],
          "scatterpolar": [
           {
            "marker": {
             "colorbar": {
              "outlinewidth": 0,
              "ticks": ""
             }
            },
            "type": "scatterpolar"
           }
          ],
          "scatterpolargl": [
           {
            "marker": {
             "colorbar": {
              "outlinewidth": 0,
              "ticks": ""
             }
            },
            "type": "scatterpolargl"
           }
          ],
          "scatterternary": [
           {
            "marker": {
             "colorbar": {
              "outlinewidth": 0,
              "ticks": ""
             }
            },
            "type": "scatterternary"
           }
          ],
          "surface": [
           {
            "colorbar": {
             "outlinewidth": 0,
             "ticks": ""
            },
            "colorscale": [
             [
              0,
              "#0d0887"
             ],
             [
              0.1111111111111111,
              "#46039f"
             ],
             [
              0.2222222222222222,
              "#7201a8"
             ],
             [
              0.3333333333333333,
              "#9c179e"
             ],
             [
              0.4444444444444444,
              "#bd3786"
             ],
             [
              0.5555555555555556,
              "#d8576b"
             ],
             [
              0.6666666666666666,
              "#ed7953"
             ],
             [
              0.7777777777777778,
              "#fb9f3a"
             ],
             [
              0.8888888888888888,
              "#fdca26"
             ],
             [
              1,
              "#f0f921"
             ]
            ],
            "type": "surface"
           }
          ],
          "table": [
           {
            "cells": {
             "fill": {
              "color": "#EBF0F8"
             },
             "line": {
              "color": "white"
             }
            },
            "header": {
             "fill": {
              "color": "#C8D4E3"
             },
             "line": {
              "color": "white"
             }
            },
            "type": "table"
           }
          ]
         },
         "layout": {
          "annotationdefaults": {
           "arrowcolor": "#2a3f5f",
           "arrowhead": 0,
           "arrowwidth": 1
          },
          "autotypenumbers": "strict",
          "coloraxis": {
           "colorbar": {
            "outlinewidth": 0,
            "ticks": ""
           }
          },
          "colorscale": {
           "diverging": [
            [
             0,
             "#8e0152"
            ],
            [
             0.1,
             "#c51b7d"
            ],
            [
             0.2,
             "#de77ae"
            ],
            [
             0.3,
             "#f1b6da"
            ],
            [
             0.4,
             "#fde0ef"
            ],
            [
             0.5,
             "#f7f7f7"
            ],
            [
             0.6,
             "#e6f5d0"
            ],
            [
             0.7,
             "#b8e186"
            ],
            [
             0.8,
             "#7fbc41"
            ],
            [
             0.9,
             "#4d9221"
            ],
            [
             1,
             "#276419"
            ]
           ],
           "sequential": [
            [
             0,
             "#0d0887"
            ],
            [
             0.1111111111111111,
             "#46039f"
            ],
            [
             0.2222222222222222,
             "#7201a8"
            ],
            [
             0.3333333333333333,
             "#9c179e"
            ],
            [
             0.4444444444444444,
             "#bd3786"
            ],
            [
             0.5555555555555556,
             "#d8576b"
            ],
            [
             0.6666666666666666,
             "#ed7953"
            ],
            [
             0.7777777777777778,
             "#fb9f3a"
            ],
            [
             0.8888888888888888,
             "#fdca26"
            ],
            [
             1,
             "#f0f921"
            ]
           ],
           "sequentialminus": [
            [
             0,
             "#0d0887"
            ],
            [
             0.1111111111111111,
             "#46039f"
            ],
            [
             0.2222222222222222,
             "#7201a8"
            ],
            [
             0.3333333333333333,
             "#9c179e"
            ],
            [
             0.4444444444444444,
             "#bd3786"
            ],
            [
             0.5555555555555556,
             "#d8576b"
            ],
            [
             0.6666666666666666,
             "#ed7953"
            ],
            [
             0.7777777777777778,
             "#fb9f3a"
            ],
            [
             0.8888888888888888,
             "#fdca26"
            ],
            [
             1,
             "#f0f921"
            ]
           ]
          },
          "colorway": [
           "#636efa",
           "#EF553B",
           "#00cc96",
           "#ab63fa",
           "#FFA15A",
           "#19d3f3",
           "#FF6692",
           "#B6E880",
           "#FF97FF",
           "#FECB52"
          ],
          "font": {
           "color": "#2a3f5f"
          },
          "geo": {
           "bgcolor": "white",
           "lakecolor": "white",
           "landcolor": "#E5ECF6",
           "showlakes": true,
           "showland": true,
           "subunitcolor": "white"
          },
          "hoverlabel": {
           "align": "left"
          },
          "hovermode": "closest",
          "mapbox": {
           "style": "light"
          },
          "paper_bgcolor": "white",
          "plot_bgcolor": "#E5ECF6",
          "polar": {
           "angularaxis": {
            "gridcolor": "white",
            "linecolor": "white",
            "ticks": ""
           },
           "bgcolor": "#E5ECF6",
           "radialaxis": {
            "gridcolor": "white",
            "linecolor": "white",
            "ticks": ""
           }
          },
          "scene": {
           "xaxis": {
            "backgroundcolor": "#E5ECF6",
            "gridcolor": "white",
            "gridwidth": 2,
            "linecolor": "white",
            "showbackground": true,
            "ticks": "",
            "zerolinecolor": "white"
           },
           "yaxis": {
            "backgroundcolor": "#E5ECF6",
            "gridcolor": "white",
            "gridwidth": 2,
            "linecolor": "white",
            "showbackground": true,
            "ticks": "",
            "zerolinecolor": "white"
           },
           "zaxis": {
            "backgroundcolor": "#E5ECF6",
            "gridcolor": "white",
            "gridwidth": 2,
            "linecolor": "white",
            "showbackground": true,
            "ticks": "",
            "zerolinecolor": "white"
           }
          },
          "shapedefaults": {
           "line": {
            "color": "#2a3f5f"
           }
          },
          "ternary": {
           "aaxis": {
            "gridcolor": "white",
            "linecolor": "white",
            "ticks": ""
           },
           "baxis": {
            "gridcolor": "white",
            "linecolor": "white",
            "ticks": ""
           },
           "bgcolor": "#E5ECF6",
           "caxis": {
            "gridcolor": "white",
            "linecolor": "white",
            "ticks": ""
           }
          },
          "title": {
           "x": 0.05
          },
          "xaxis": {
           "automargin": true,
           "gridcolor": "white",
           "linecolor": "white",
           "ticks": "",
           "title": {
            "standoff": 15
           },
           "zerolinecolor": "white",
           "zerolinewidth": 2
          },
          "yaxis": {
           "automargin": true,
           "gridcolor": "white",
           "linecolor": "white",
           "ticks": "",
           "title": {
            "standoff": 15
           },
           "zerolinecolor": "white",
           "zerolinewidth": 2
          }
         }
        },
        "title": {
         "text": "treemap column: labels_note"
        }
       }
      }
     },
     "metadata": {},
     "output_type": "display_data"
    }
   ],
   "source": [
    "colonnes_a_travailler = ['ecoscore_tags', 'ecoscore_score', 'countries', 'labels_note']  \n",
    "df = load_jsonl_to_dataframe(file_path)\n",
    "for column in colonnes_a_travailler:\n",
    "    create_treemap_for_column(df, column)"
   ]
  },
  {
   "cell_type": "code",
   "execution_count": 19,
   "metadata": {},
   "outputs": [],
   "source": [
    "def count_unique_values(jsonl_file_path, colonnes_a_travailler):\n",
    "    data = []\n",
    "    with open(jsonl_file_path, 'r') as file:\n",
    "        for line in file:\n",
    "            data.append(json.loads(line))\n",
    "    df = pd.DataFrame(data)\n",
    "    unique_counts = {}\n",
    "    for column in colonnes_a_travailler:\n",
    "        if column in df.columns:\n",
    "            unique_count = df[column].nunique()\n",
    "            if pd.api.types.is_numeric_dtype(df[column]):\n",
    "                min_val = df[column].min()\n",
    "                max_val = df[column].max()\n",
    "                unique_counts[column] = {\n",
    "                    'unique_count': unique_count,\n",
    "                    'min': min_val,\n",
    "                    'max': max_val\n",
    "                }\n",
    "            else:\n",
    "                unique_counts[column] = {\n",
    "                    'unique_count': unique_count\n",
    "                }\n",
    "        else:\n",
    "            unique_counts[column] = 'Column not found in data'\n",
    "    return unique_counts"
   ]
  },
  {
   "cell_type": "code",
   "execution_count": 20,
   "metadata": {},
   "outputs": [
    {
     "name": "stdout",
     "output_type": "stream",
     "text": [
      "{'ecoscore_tags': {'unique_count': 7, 'min': 0.0, 'max': 1.0}, 'ecoscore_score': {'unique_count': 102, 'min': 0.0, 'max': 100.0}, 'countries': {'unique_count': 941, 'min': 0.0, 'max': 1.0}, 'labels_note': {'unique_count': 10, 'min': 0.0, 'max': 1.0}}\n"
     ]
    }
   ],
   "source": [
    "unique_values = count_unique_values(file_path, colonnes_a_travailler)\n",
    "print(unique_values)"
   ]
  },
  {
   "cell_type": "code",
   "execution_count": null,
   "metadata": {},
   "outputs": [],
   "source": []
  }
 ],
 "metadata": {
  "kernelspec": {
   "display_name": "greenIa",
   "language": "python",
   "name": "python3"
  },
  "language_info": {
   "codemirror_mode": {
    "name": "ipython",
    "version": 3
   },
   "file_extension": ".py",
   "mimetype": "text/x-python",
   "name": "python",
   "nbconvert_exporter": "python",
   "pygments_lexer": "ipython3",
   "version": "3.10.14"
  }
 },
 "nbformat": 4,
 "nbformat_minor": 2
}
