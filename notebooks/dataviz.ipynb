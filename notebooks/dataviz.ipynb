{
 "cells": [
  {
   "cell_type": "code",
   "execution_count": 23,
   "metadata": {},
   "outputs": [],
   "source": [
    "import json\n",
    "import random\n",
    "import pandas as pd\n",
    "import jsonlines\n",
    "import warnings\n",
    "import plotly.graph_objects as go\n",
    "\n",
    "pd.set_option('display.max_rows', 100)\n",
    "warnings.filterwarnings(\"ignore\", category=pd.errors.DtypeWarning)"
   ]
  },
  {
   "cell_type": "code",
   "execution_count": 24,
   "metadata": {},
   "outputs": [],
   "source": [
    "file_path = '/home/carolus/Documents/school/green_ia/data/174_data/174_test_01.jsonl'\n",
    "num_samples = 500"
   ]
  },
  {
   "cell_type": "code",
   "execution_count": 25,
   "metadata": {},
   "outputs": [],
   "source": [
    "def sample_jsonl_file(file_path, num_samples):\n",
    "    sample_lines = []\n",
    "\n",
    "    with open(file_path, 'r') as file:\n",
    "        line_count = 0\n",
    "        for line in file:\n",
    "            line_count += 1\n",
    "            if len(sample_lines) < num_samples:\n",
    "                sample_lines.append(line)\n",
    "            else:\n",
    "                idx = random.randint(0, line_count - 1)\n",
    "                if idx < num_samples:\n",
    "                    sample_lines[idx] = line\n",
    "\n",
    "    data_list = [json.loads(line) for line in sample_lines]\n",
    "    df = pd.DataFrame(data_list)\n",
    "    return df"
   ]
  },
  {
   "cell_type": "code",
   "execution_count": 26,
   "metadata": {},
   "outputs": [],
   "source": [
    "df = sample_jsonl_file(file_path, num_samples)"
   ]
  },
  {
   "cell_type": "code",
   "execution_count": 27,
   "metadata": {},
   "outputs": [
    {
     "data": {
      "text/html": [
       "<div>\n",
       "<style scoped>\n",
       "    .dataframe tbody tr th:only-of-type {\n",
       "        vertical-align: middle;\n",
       "    }\n",
       "\n",
       "    .dataframe tbody tr th {\n",
       "        vertical-align: top;\n",
       "    }\n",
       "\n",
       "    .dataframe thead th {\n",
       "        text-align: right;\n",
       "    }\n",
       "</style>\n",
       "<table border=\"1\" class=\"dataframe\">\n",
       "  <thead>\n",
       "    <tr style=\"text-align: right;\">\n",
       "      <th></th>\n",
       "      <th>groups</th>\n",
       "      <th>packaging</th>\n",
       "      <th>name</th>\n",
       "      <th>ecoscore_tags</th>\n",
       "      <th>ecoscore_score</th>\n",
       "      <th>countries</th>\n",
       "      <th>ingredients</th>\n",
       "      <th>categories</th>\n",
       "      <th>labels_note</th>\n",
       "    </tr>\n",
       "  </thead>\n",
       "  <tbody>\n",
       "    <tr>\n",
       "      <th>480</th>\n",
       "      <td>0.444444</td>\n",
       "      <td>empty</td>\n",
       "      <td>goat mozzarella</td>\n",
       "      <td>empty</td>\n",
       "      <td>49.0</td>\n",
       "      <td>1.000000</td>\n",
       "      <td>whole-pasteurized-cultured-goat-milk, salt, en...</td>\n",
       "      <td>empty</td>\n",
       "      <td>0.000000</td>\n",
       "    </tr>\n",
       "    <tr>\n",
       "      <th>481</th>\n",
       "      <td>0.444444</td>\n",
       "      <td>empty</td>\n",
       "      <td>crema de almendras</td>\n",
       "      <td>empty</td>\n",
       "      <td>49.0</td>\n",
       "      <td>0.871508</td>\n",
       "      <td>empty</td>\n",
       "      <td>empty</td>\n",
       "      <td>0.000000</td>\n",
       "    </tr>\n",
       "    <tr>\n",
       "      <th>482</th>\n",
       "      <td>0.666667</td>\n",
       "      <td>empty</td>\n",
       "      <td>boudin noir a l'ancienne aux oignons</td>\n",
       "      <td>b</td>\n",
       "      <td>79.0</td>\n",
       "      <td>0.303191</td>\n",
       "      <td>empty</td>\n",
       "      <td>meats-and-their-products, meats, prepared-meat...</td>\n",
       "      <td>0.444444</td>\n",
       "    </tr>\n",
       "    <tr>\n",
       "      <th>483</th>\n",
       "      <td>0.444444</td>\n",
       "      <td>empty</td>\n",
       "      <td>hefe</td>\n",
       "      <td>empty</td>\n",
       "      <td>49.0</td>\n",
       "      <td>0.314917</td>\n",
       "      <td>empty</td>\n",
       "      <td>empty</td>\n",
       "      <td>0.000000</td>\n",
       "    </tr>\n",
       "    <tr>\n",
       "      <th>484</th>\n",
       "      <td>0.444444</td>\n",
       "      <td>empty</td>\n",
       "      <td>queijo ibérico reserva maturado em azeite virg...</td>\n",
       "      <td>d</td>\n",
       "      <td>22.0</td>\n",
       "      <td>0.724868</td>\n",
       "      <td>pasteurised-cow-s-milk, dairy, milk, pasteuris...</td>\n",
       "      <td>dairies, fermented-foods, fermented-milk-produ...</td>\n",
       "      <td>0.333333</td>\n",
       "    </tr>\n",
       "    <tr>\n",
       "      <th>485</th>\n",
       "      <td>0.100000</td>\n",
       "      <td>empty</td>\n",
       "      <td>campbell's gravy chicken</td>\n",
       "      <td>empty</td>\n",
       "      <td>49.0</td>\n",
       "      <td>1.000000</td>\n",
       "      <td>chicken-broth, poultry, chicken, broth, poultr...</td>\n",
       "      <td>condiments, sauces, groceries</td>\n",
       "      <td>0.000000</td>\n",
       "    </tr>\n",
       "    <tr>\n",
       "      <th>486</th>\n",
       "      <td>0.333333</td>\n",
       "      <td>empty</td>\n",
       "      <td>raisins secs sultanines</td>\n",
       "      <td>b</td>\n",
       "      <td>62.0</td>\n",
       "      <td>0.311475</td>\n",
       "      <td>empty</td>\n",
       "      <td>plant-based-foods-and-beverages, plant-based-f...</td>\n",
       "      <td>0.111111</td>\n",
       "    </tr>\n",
       "    <tr>\n",
       "      <th>487</th>\n",
       "      <td>0.444444</td>\n",
       "      <td>empty</td>\n",
       "      <td>potito de platano manzana pera y mandarina</td>\n",
       "      <td>empty</td>\n",
       "      <td>49.0</td>\n",
       "      <td>0.874317</td>\n",
       "      <td>empty</td>\n",
       "      <td>empty</td>\n",
       "      <td>0.000000</td>\n",
       "    </tr>\n",
       "    <tr>\n",
       "      <th>488</th>\n",
       "      <td>0.444444</td>\n",
       "      <td>empty</td>\n",
       "      <td>anti-falten feuchtigkeitscreme</td>\n",
       "      <td>empty</td>\n",
       "      <td>49.0</td>\n",
       "      <td>0.318436</td>\n",
       "      <td>empty</td>\n",
       "      <td>empty</td>\n",
       "      <td>0.000000</td>\n",
       "    </tr>\n",
       "    <tr>\n",
       "      <th>489</th>\n",
       "      <td>0.444444</td>\n",
       "      <td>empty</td>\n",
       "      <td>fancy pimientos</td>\n",
       "      <td>empty</td>\n",
       "      <td>49.0</td>\n",
       "      <td>1.000000</td>\n",
       "      <td>pimiento, vegetable, fruit-vegetable, chili-pe...</td>\n",
       "      <td>salted-snacks</td>\n",
       "      <td>0.000000</td>\n",
       "    </tr>\n",
       "    <tr>\n",
       "      <th>490</th>\n",
       "      <td>0.444444</td>\n",
       "      <td>empty</td>\n",
       "      <td>tea earl gray biologico</td>\n",
       "      <td>empty</td>\n",
       "      <td>49.0</td>\n",
       "      <td>0.431694</td>\n",
       "      <td>empty</td>\n",
       "      <td>empty</td>\n",
       "      <td>0.000000</td>\n",
       "    </tr>\n",
       "    <tr>\n",
       "      <th>491</th>\n",
       "      <td>0.444444</td>\n",
       "      <td>empty</td>\n",
       "      <td>barbecue sauce</td>\n",
       "      <td>empty</td>\n",
       "      <td>49.0</td>\n",
       "      <td>0.333333</td>\n",
       "      <td>empty</td>\n",
       "      <td>empty</td>\n",
       "      <td>0.000000</td>\n",
       "    </tr>\n",
       "    <tr>\n",
       "      <th>492</th>\n",
       "      <td>0.555556</td>\n",
       "      <td>empty</td>\n",
       "      <td>fusillo integrale</td>\n",
       "      <td>empty</td>\n",
       "      <td>49.0</td>\n",
       "      <td>0.076503</td>\n",
       "      <td>whole-durum-wheat-semolina, cereal, wheat, dur...</td>\n",
       "      <td>plant-based-foods-and-beverages, plant-based-f...</td>\n",
       "      <td>0.111111</td>\n",
       "    </tr>\n",
       "    <tr>\n",
       "      <th>493</th>\n",
       "      <td>0.444444</td>\n",
       "      <td>empty</td>\n",
       "      <td>neon gummy worms</td>\n",
       "      <td>empty</td>\n",
       "      <td>49.0</td>\n",
       "      <td>1.000000</td>\n",
       "      <td>empty</td>\n",
       "      <td>empty</td>\n",
       "      <td>0.000000</td>\n",
       "    </tr>\n",
       "    <tr>\n",
       "      <th>494</th>\n",
       "      <td>0.444444</td>\n",
       "      <td>empty</td>\n",
       "      <td>enjoy fruchtig leicht apfel johannisbeere</td>\n",
       "      <td>empty</td>\n",
       "      <td>49.0</td>\n",
       "      <td>0.333333</td>\n",
       "      <td>empty</td>\n",
       "      <td>empty</td>\n",
       "      <td>0.000000</td>\n",
       "    </tr>\n",
       "    <tr>\n",
       "      <th>495</th>\n",
       "      <td>0.444444</td>\n",
       "      <td>film en plastique</td>\n",
       "      <td>croquant sésame</td>\n",
       "      <td>empty</td>\n",
       "      <td>49.0</td>\n",
       "      <td>0.000000</td>\n",
       "      <td>empty</td>\n",
       "      <td>empty</td>\n",
       "      <td>0.222222</td>\n",
       "    </tr>\n",
       "    <tr>\n",
       "      <th>496</th>\n",
       "      <td>0.666667</td>\n",
       "      <td>empty</td>\n",
       "      <td>les milanaises chapelure nature</td>\n",
       "      <td>e</td>\n",
       "      <td>16.0</td>\n",
       "      <td>0.288136</td>\n",
       "      <td>coating, breadcrumbs, yeast, salt, water, spic...</td>\n",
       "      <td>meats-and-their-products, meat-preparations, m...</td>\n",
       "      <td>0.000000</td>\n",
       "    </tr>\n",
       "    <tr>\n",
       "      <th>497</th>\n",
       "      <td>0.444444</td>\n",
       "      <td>kunststoff</td>\n",
       "      <td>bio-fruchtmus</td>\n",
       "      <td>empty</td>\n",
       "      <td>49.0</td>\n",
       "      <td>0.038251</td>\n",
       "      <td>apple-puree, fruit, malaceous-fruit, apple, puree</td>\n",
       "      <td>baby-foods</td>\n",
       "      <td>0.666667</td>\n",
       "    </tr>\n",
       "    <tr>\n",
       "      <th>498</th>\n",
       "      <td>0.444444</td>\n",
       "      <td>empty</td>\n",
       "      <td>dark chocolate chunk chewy granola bar</td>\n",
       "      <td>empty</td>\n",
       "      <td>49.0</td>\n",
       "      <td>1.000000</td>\n",
       "      <td>empty</td>\n",
       "      <td>empty</td>\n",
       "      <td>0.111111</td>\n",
       "    </tr>\n",
       "    <tr>\n",
       "      <th>499</th>\n",
       "      <td>0.444444</td>\n",
       "      <td>empty</td>\n",
       "      <td>velouté de legumes</td>\n",
       "      <td>empty</td>\n",
       "      <td>49.0</td>\n",
       "      <td>0.311475</td>\n",
       "      <td>empty</td>\n",
       "      <td>empty</td>\n",
       "      <td>0.000000</td>\n",
       "    </tr>\n",
       "  </tbody>\n",
       "</table>\n",
       "</div>"
      ],
      "text/plain": [
       "       groups          packaging  \\\n",
       "480  0.444444              empty   \n",
       "481  0.444444              empty   \n",
       "482  0.666667              empty   \n",
       "483  0.444444              empty   \n",
       "484  0.444444              empty   \n",
       "485  0.100000              empty   \n",
       "486  0.333333              empty   \n",
       "487  0.444444              empty   \n",
       "488  0.444444              empty   \n",
       "489  0.444444              empty   \n",
       "490  0.444444              empty   \n",
       "491  0.444444              empty   \n",
       "492  0.555556              empty   \n",
       "493  0.444444              empty   \n",
       "494  0.444444              empty   \n",
       "495  0.444444  film en plastique   \n",
       "496  0.666667              empty   \n",
       "497  0.444444         kunststoff   \n",
       "498  0.444444              empty   \n",
       "499  0.444444              empty   \n",
       "\n",
       "                                                  name ecoscore_tags  \\\n",
       "480                                    goat mozzarella         empty   \n",
       "481                                 crema de almendras         empty   \n",
       "482               boudin noir a l'ancienne aux oignons             b   \n",
       "483                                               hefe         empty   \n",
       "484  queijo ibérico reserva maturado em azeite virg...             d   \n",
       "485                           campbell's gravy chicken         empty   \n",
       "486                            raisins secs sultanines             b   \n",
       "487         potito de platano manzana pera y mandarina         empty   \n",
       "488                     anti-falten feuchtigkeitscreme         empty   \n",
       "489                                    fancy pimientos         empty   \n",
       "490                            tea earl gray biologico         empty   \n",
       "491                                     barbecue sauce         empty   \n",
       "492                                  fusillo integrale         empty   \n",
       "493                                   neon gummy worms         empty   \n",
       "494          enjoy fruchtig leicht apfel johannisbeere         empty   \n",
       "495                                    croquant sésame         empty   \n",
       "496                    les milanaises chapelure nature             e   \n",
       "497                                      bio-fruchtmus         empty   \n",
       "498             dark chocolate chunk chewy granola bar         empty   \n",
       "499                                 velouté de legumes         empty   \n",
       "\n",
       "     ecoscore_score  countries  \\\n",
       "480            49.0   1.000000   \n",
       "481            49.0   0.871508   \n",
       "482            79.0   0.303191   \n",
       "483            49.0   0.314917   \n",
       "484            22.0   0.724868   \n",
       "485            49.0   1.000000   \n",
       "486            62.0   0.311475   \n",
       "487            49.0   0.874317   \n",
       "488            49.0   0.318436   \n",
       "489            49.0   1.000000   \n",
       "490            49.0   0.431694   \n",
       "491            49.0   0.333333   \n",
       "492            49.0   0.076503   \n",
       "493            49.0   1.000000   \n",
       "494            49.0   0.333333   \n",
       "495            49.0   0.000000   \n",
       "496            16.0   0.288136   \n",
       "497            49.0   0.038251   \n",
       "498            49.0   1.000000   \n",
       "499            49.0   0.311475   \n",
       "\n",
       "                                           ingredients  \\\n",
       "480  whole-pasteurized-cultured-goat-milk, salt, en...   \n",
       "481                                              empty   \n",
       "482                                              empty   \n",
       "483                                              empty   \n",
       "484  pasteurised-cow-s-milk, dairy, milk, pasteuris...   \n",
       "485  chicken-broth, poultry, chicken, broth, poultr...   \n",
       "486                                              empty   \n",
       "487                                              empty   \n",
       "488                                              empty   \n",
       "489  pimiento, vegetable, fruit-vegetable, chili-pe...   \n",
       "490                                              empty   \n",
       "491                                              empty   \n",
       "492  whole-durum-wheat-semolina, cereal, wheat, dur...   \n",
       "493                                              empty   \n",
       "494                                              empty   \n",
       "495                                              empty   \n",
       "496  coating, breadcrumbs, yeast, salt, water, spic...   \n",
       "497  apple-puree, fruit, malaceous-fruit, apple, puree   \n",
       "498                                              empty   \n",
       "499                                              empty   \n",
       "\n",
       "                                            categories  labels_note  \n",
       "480                                              empty     0.000000  \n",
       "481                                              empty     0.000000  \n",
       "482  meats-and-their-products, meats, prepared-meat...     0.444444  \n",
       "483                                              empty     0.000000  \n",
       "484  dairies, fermented-foods, fermented-milk-produ...     0.333333  \n",
       "485                      condiments, sauces, groceries     0.000000  \n",
       "486  plant-based-foods-and-beverages, plant-based-f...     0.111111  \n",
       "487                                              empty     0.000000  \n",
       "488                                              empty     0.000000  \n",
       "489                                      salted-snacks     0.000000  \n",
       "490                                              empty     0.000000  \n",
       "491                                              empty     0.000000  \n",
       "492  plant-based-foods-and-beverages, plant-based-f...     0.111111  \n",
       "493                                              empty     0.000000  \n",
       "494                                              empty     0.000000  \n",
       "495                                              empty     0.222222  \n",
       "496  meats-and-their-products, meat-preparations, m...     0.000000  \n",
       "497                                         baby-foods     0.666667  \n",
       "498                                              empty     0.111111  \n",
       "499                                              empty     0.000000  "
      ]
     },
     "execution_count": 27,
     "metadata": {},
     "output_type": "execute_result"
    }
   ],
   "source": [
    "df.tail(20)"
   ]
  },
  {
   "cell_type": "code",
   "execution_count": 28,
   "metadata": {},
   "outputs": [
    {
     "name": "stdout",
     "output_type": "stream",
     "text": [
      "0.4444444444\n",
      "0.3333333333\n",
      "0.5555555556\n",
      "0.6666666667\n",
      "1.0\n",
      "0.2\n",
      "0.0\n",
      "0.1111111111\n",
      "0.2222222222\n",
      "0.7777777778\n",
      "0.4\n",
      "0.9\n",
      "0.6\n",
      "0.1\n"
     ]
    }
   ],
   "source": [
    "uniques_groups = df['groups'].unique()\n",
    "uniques_groups_list = list(uniques_groups)\n",
    "for value in uniques_groups_list:\n",
    "    print(value)"
   ]
  },
  {
   "cell_type": "code",
   "execution_count": 29,
   "metadata": {},
   "outputs": [
    {
     "name": "stdout",
     "output_type": "stream",
     "text": [
      "schiacciatine\n",
      "sale marino iodato grosso\n",
      "smile\n",
      "quinoa-mix\n",
      "saucisson sec pur porc qualité supérieure\n",
      "sweet almond oil\n",
      "oliven hojiblanca - geschwärzt, entsteint\n",
      "compote pomme, pomme / poire, pomme / abricot, allégée en sucres\n",
      "tikka masala\n",
      "sauce sésame\n",
      "protein salat med oksekød og hummus\n",
      "ketoinen\n",
      "gold flips\n",
      "butterfinger\n",
      "sauce tomates basilic\n",
      "pure fresh eiweiß\n",
      "all bitter mince pies\n",
      "bio energy\n",
      "solomillo cerdo\n",
      "aiguillettes de poulet rôti barbecue - 150 g\n",
      "ground cinnamon\n",
      "filetti di tonno\n",
      "carrelot des amants\n",
      "petits pois et carottes multicolores\n",
      "vitaflor bio tisane camomille\n",
      "mermelada de naranja light arcor\n",
      "grains de chocolat\n",
      "trius\n",
      "schweineohren mit kakaoglasur\n",
      "elbrouz\n",
      "mandarine\n",
      "schmand\n",
      "oven baked prawn cocktail\n",
      "hot cocoa kisses\n",
      "sesam\n",
      "none\n",
      "yogurt ecológico azucarado\n",
      "natural extra\n",
      "pastel de merluza y gambas\n",
      "p’tits gressini\n",
      "salsa zero sabor barbacoa\n",
      "milkfat low-fat small curd cheese cottage\n",
      "piyale kremali mantar\n",
      "asahi 6s 350ml super dry\n",
      "traditional lasagna with meat sauce\n",
      "caramel biscuit bites\n",
      "ceaser kip\n",
      "bacon extra\n",
      "codillo salmuerizado\n",
      "myrtille\n",
      "l'olive arbequine bio\n",
      "hot and spicy nut mix\n",
      "oeufs\n",
      "blood sugar balance tea\n",
      "iartschmelzende kugela\n",
      "butter plätzchen\n",
      "salade thon fumé\n",
      "refrigerante  lemon ice - iti\n",
      "confiture de figues\n",
      "coffee pods\n",
      "pâte a pizza\n",
      "twisted bread sticks\n",
      "2 galettes au blé noir paysanne\n",
      "crêpes dentelle chocolat au lait\n",
      "thin sliced honey ham\n",
      "hamburger hash dinner diced potatoes & beef flavored sauce mix with minced onions skillet meal\n",
      "nestlé p'tit onctueux\n",
      "4 mini burgers falafel 4 mini hot-dogs\n",
      "sweet & savory trail mix\n",
      "pescabivona\n",
      "eclair cafe\n",
      "tomillo\n",
      "large raw shrimp\n",
      "patak's hot mango chutney\n",
      "fision\n",
      "snyder's of hanover, sourdough specials pretzels\n",
      "mini burger vegana\n",
      "mie gemez enaak spic\n",
      "panettone limoncello\n",
      "chamia\n",
      "laugencroissant\n",
      "double gloucester with onion and chives\n",
      "diced tomatoes\n",
      "olive verdi\n",
      "goood beanz\n",
      "crusty’ni\n",
      "panini 4 quesos\n",
      "saucy noodles poulet\n",
      "carciofi al mirto\n",
      "pollo al ajillo\n",
      "tartar sauce\n",
      "fine grind mediterranean sea salt\n",
      "maulwurf mix\n",
      "porridge\n",
      "pickles légumes au vinaigre\n",
      "sauce menthe paloise\n",
      "longaniza/llangonissa del celler\n",
      "kinley grapefruit 0.5\n",
      "queijo curado\n",
      "flûte 6 céréales\n",
      "chips hot dog\n",
      "longaniza fresca salchicha 100% pollo\n",
      "lokum\n",
      "edeka guten morgen weizen brötchen\n",
      "organic mango & blueberry whole fruit gummies\n",
      "aroma gold classic\n",
      "apfelkraut\n",
      "sorbet fraise\n",
      "whole wheat naan\n",
      "les mal cassés\n",
      "pesto houmous\n",
      "wrap\n",
      "milk chocolate swiss classic grandes\n",
      "dino track whole wheat cheese pizza\n",
      "branche\n",
      "candied black cherries in syrup\n",
      "semoule banche de blé\n",
      "solomillo crujiente de pollo\n",
      "chicken drumsticks\n",
      "cinnamon ginger mints\n",
      "enriched spaghetti product, spaghetti\n",
      "jambon serrano\n",
      "omega 3 dha\n",
      "gorgonzola & sundried tomato ravioli\n",
      "sirop cloudy lemonade\n",
      "bran flakes\n",
      "vinaigre de cidre\n",
      "brassè saveur abricot\n",
      "queso de oveja curado\n",
      "organic brown eggs\n",
      "edena\n",
      "pâte feuilletée\n",
      "noir intense\n",
      "lean protein bar\n",
      "petit poire\n",
      "mini bratwürste vegan\n",
      "lean ground beef\n",
      "banane\n",
      "premium ice cream\n",
      "vitalkorn\n",
      "bistro express\n",
      "fiorentini\n",
      "nasa esh's 20 bolsitas aromáticas de hoja de coca\n",
      "tropical sunshine bowl\n",
      "cannellono ricotta et aux epinards\n",
      "chips de bananes\n",
      "focaccine\n",
      "m&m's caramel salted\n",
      "wasabi peas\n",
      "fruit-a-peel sweet juicy mango\n",
      "pate fraiche\n",
      "les galettes de la mère poularde\n",
      "fruits croustillants bananes\n",
      "cut green beans\n",
      "ketchup\n",
      "chocomil\n",
      "hühnerfilet\n",
      "merguez\n",
      "mélange d'arachides épicées\n",
      "baby\n",
      "pea protein isolate\n",
      "zest atlantic salmon with lemon pepper spices\n",
      "homestyle food southern flavor\n",
      "tomme artisanale de la venoge\n",
      "\n",
      "chuleta de sajonia\n",
      "grana padano\n",
      "perwoll schwarz\n",
      "calendario con cioccolatini\n",
      "swiss rock honey & almond\n",
      "snackers snack crackers\n",
      "hot & spicy  sausage sticks\n",
      "flip flap\n",
      "café coïc\n",
      "arnold, nature's harvest, 18 grains and seeds bread\n",
      "beignets au chocolat\n",
      "chateau\n",
      "gaufrettes avec fourrage vanille\n",
      "pasta madre essiccata con lievito biologica\n",
      "fichi e noci\n",
      "pulp free orange juice\n",
      "tortelloni de jamón\n",
      "mix saveurs chia et fleurs parfumees citron\n",
      "les drôles d'amandes\n",
      "rotwein\n",
      "crème de caramel au beurre salé au sel de guérande\n",
      "gaseosa big cola x 1.035lt\n",
      "go-gurt spongebob squarepants strawberry and cotton candy yogurt tubes\n",
      "olive verdi giganti in salamoia\n",
      "jambon supérieur sans couenne\n",
      "chocolat au lait et fleur de sel\n",
      "croissants x2\n",
      "esparrago de navarra\n",
      "lemon & ginger ice cream\n",
      "raspberry fruit & oat bars, apple & date based\n",
      "cookies de teverga artesanas\n",
      "sucette au bloc de foie gras enrobées à la figue\n",
      "kaurajuoma kahviin\n",
      "oatmeal cookie 2 pack bakery\n",
      "okra chips\n",
      "riz cantonnais\n",
      "croustilles pommes de terre ietchup\n",
      "moose munch premium popcorn\n",
      "chana обжаренный нут с куркумой и чёрным перцем\n",
      "pinot grigio delle venezie\n",
      "dattes\n",
      "piimälimppu\n",
      "not milk\n",
      "original bbq sauce\n",
      "plant-based triple bean chili\n",
      "vn white sesame candy\n",
      "shrimp\n",
      "chouricao\n",
      "getost\n",
      "prune séché chen pui mui\n",
      "crostatina integrale frutti rossi\n",
      "brie\n",
      "citronnade menthe\n",
      "coeur de veau\n",
      "barbeque seasoned meat stick\n",
      "sofnfree creme relaxer\n",
      "old amsterdam\n",
      "rio banana syrup\n",
      "xxl long grain sella biryani rice\n",
      "kippers\n",
      "acqua\n",
      "atlantic sockeye salmon\n",
      "variety pack (apple apple/apple strawberry/apple banana) fruit on the go\n",
      "plenty kitchen roll\n",
      "pastaroma olive & basilico\n",
      "echina defens\n",
      "huile aromatique olive & basilic frais\n",
      "mega monster energy ultra zero\n",
      "cacahuete chocolate negro\n",
      "plantains chips\n",
      "aussie lamington “jam” filled balls\n",
      "gourmet spice tin\n",
      "pinoli\n",
      "dark chocolate hazelnut spice\n",
      "meio gordo\n",
      "gulaschsuppe\n",
      "mûoi ot tom shrimp chilli salt\n",
      "morbier fqc\n",
      "spicchi di mela senza buccia disidratati\n",
      "asperges blanches\n",
      "mature and creamy cheddar\n",
      "peach mango energy shot\n",
      "dark roast koffiebonen\n",
      "grond black papper\n",
      "café saveur noisette (dosettes souples)\n",
      "popcorn ball\n",
      "superfood protein smoothie blend (vanilla sky)\n",
      "lördagsgodis\n",
      "portuguese rolls\n",
      "morning mix\n",
      "double force energy drink\n",
      "salmone norvegese affumicato a fette\n",
      "bio-miesmuscheln\n",
      "pureed baby food, apples green beans + raisins\n",
      "miel fleurs de la bleuetieres\n",
      "casein\n",
      "chocolate muffin\n",
      "tomato basil pasta salad\n",
      "disney disque de décoration en sucre 16 cm\n",
      "salchicha blanca\n",
      "paradies creme schoko\n",
      "elite barre proteinee\n",
      "pruneaux d'agen dénoyautés mi-cuits\n",
      "root beer barrels candy\n",
      "saila liquirizia purissima ft\n",
      "cuit sur place baguette aux céréales la pièce de 250 gr\n",
      "whey dux - frutas vermelhas - dux nutrition lab\n",
      "colgate  strong teeth\n",
      "apfel hafer fruchtriegel\n",
      "galette\n",
      "bio-stracke\n",
      "pintade farcie aux figues et foie gras de canard.\n",
      "beyond churros\n",
      "premium whole almonds\n",
      "bio buche\n",
      "inti's cola oro\n",
      "aunt jemima original pancake and waffle mix\n",
      "delaurenti, triple stuffed olives\n",
      "arabica\n",
      "agua de azahar\n",
      "lindor\n",
      "jambon cuit\n",
      "ovega-3 plant-based omega-3\n",
      "assorted fine chocolates\n",
      "lenticchie verdi giganti\n",
      "baby wash\n",
      "chorizos\n",
      "barra proteica com sabor a cookie & cream\n",
      "977 cuisson avec 350ml d'eau\n",
      "pommes de terre\n",
      "tortilla patata\n",
      "leche fresca semidesnatada\n",
      "mini crackers\n",
      "пшено\n",
      "mélange vitalité\n",
      "macaroni & cheese\n",
      "pretzel crisps\n",
      "aceite de oliva virgen extra\n",
      "green ice tea\n",
      "munster fermier bio au lait cru\n",
      "turron\n",
      "lacti pro erdbeere\n",
      "poudre de spiruline\n",
      "fairprice grd 10kg\n",
      "bol nutritif poulet barbecue\n",
      "spark of the heart, fiesta bean salad\n",
      "flan chocolat et saveur vanille\n",
      "chili con carne\n",
      "raspberry panna cotta\n",
      "revuela\n",
      "queso en polvo\n",
      "saucisson sec le haute loire\n",
      "marie callenders parmesan garlic family recipes, 10.4 oz\n",
      "millavoise\n",
      "sopa de cocido\n",
      "0% milk fat plain greek yogurt\n",
      "fratelli laurieri bruschetta with garlic\n",
      "quail eggs\n",
      "pain au raisins\n",
      "baked beans\n",
      "lasagne à la bolognaise\n",
      "tesco bag for life\n",
      "simmenthal menosale\n",
      "pan fitness\n",
      "pain tranche\n",
      "uncured breakfast sausage\n",
      "apple cider vinegar raw and unfiltered\n",
      "sesamo\n",
      "atun aleta amarilla\n",
      "double espresso organic energy mini bar\n",
      "geleia amora queensberry 100 fruta vidro 170g\n",
      "ficoli\n",
      "smidge & spoon ground cinnamon\n",
      "pera en almibar en dados\n",
      "rillette de marlin\n",
      "white hot dog stadium buns\n",
      "fiesta\n",
      "original bratwurst sausages\n",
      "virgin groundnut oil\n",
      "delice de foie gras\n",
      "black beans\n",
      "cidre bio\n",
      "bresaola della valtellina igp\n",
      "rose water\n",
      "pinto beans\n",
      "plant kitchen\n",
      "bockworst\n",
      "nugenix ultimate\n",
      "streichcreme paprika-chili\n",
      "miami pik\n",
      "weet-bix\n",
      "tofu natur\n",
      "jambon cuit bio sans nitrite\n",
      "château ramon\n",
      "rapsöl\n",
      "lecitina di soia\n",
      "blanched sliced almonds\n",
      "soya frankfurters chilli\n",
      "amy's, premium organic pasta sauce, tomato basil\n",
      "sweet soy sauce\n",
      "imperial apricot, mandarin & lemon sour\n",
      "green tea peach mango\n",
      "confitura de figues\n",
      "coca-cola\n",
      "lait demi écrémé stérilisé uht\n",
      "paté royal\n",
      "woly bison\n",
      "poulpe à l'huile d'olive\n",
      "muesli floconneux aux fruits secs et aux grzined\n",
      "protein bread walnut\n",
      "iberico bellota salchichon\n",
      "sorbet cassis - eismann\n",
      "wild caught sea scallops\n",
      "chocolate con almendras enteras\n",
      "cones\n",
      "victorina, tomato paste\n",
      "java 68% dark chocolate\n",
      "orzo perlato\n",
      "kroger 50% less sugar & sodium bbq sauce\n",
      "curado cortado en cuñitas\n",
      "rillettes de truite\n",
      "yunnan\n",
      "oriental pack\n",
      "milka\n",
      "cuisse de canard sud-oues\n",
      "filets d'anchois fumés à chaud\n",
      "chourição\n",
      "mango premium drink\n",
      "haricot vert\n",
      "ursus\n",
      "omega-3-mik\n",
      "orange cool cosmic cubes\n",
      "matzos\n",
      "costilla bbq cortada\n",
      "papillons bio oeufs frais\n",
      "oasis tropical\n",
      "emmental français rapé -30% de sel réduit\n",
      "deli style thin shaved black forest smoked ham, smoked\n",
      "lake district dairy cheese\n",
      "fresón\n",
      "ombar oat m'lk hazelnut\n",
      "premense-t\n",
      "noci brasiliane sgusciate\n",
      "biscuits p'tit déj céréales, chocolat et miel\n",
      "eistee ice mints raspberry\n",
      "panettone\n",
      "vermicelli | mungobohnen glasnudeln\n",
      "saveurs d'artichaut du leon\n",
      "i misti bio armonia\n",
      "cafè mescla\n",
      "dampfbürste\n",
      "joghurt mango\n",
      "seaweed chips\n",
      "burger vegetariana\n",
      "magnesium citrate\n",
      "arroz inflado murmura\n",
      "plant-based spread/tartinade végétale - tomato & herbs\n",
      "gambas\n",
      "candy duo spray\n",
      "catrina halloween\n",
      "huile d'olive vierge extra 10% espagne\n",
      "peanut butter & jelly stuff'd bites\n",
      "pechuga fileteada blanca\n",
      "knoblauchwurst\n",
      "rewe joghurt\n",
      "agave lemon tonique\n",
      "ロースハム\n",
      "mousse au chocolat\n",
      "pâté creole\n",
      "lean turkey mince\n",
      "melster candies, fall festival mix taffy\n",
      "bastoncini pipas\n",
      "crevettes\n",
      "ensaimadas espolvoreadas con azúcar\n",
      "frosted pink sugar cookie\n",
      "light oudendijk jeune\n",
      "soupe 9 légumes & pointe de crème fraîche\n",
      "fruit’nut cashew cheese\n",
      "premium italian bread\n",
      "protein muesli noisette\n",
      "agua mineral fondetal\n",
      "पतंजली च्य्वन्प्राश\n",
      "queso curado\n",
      "eau mineral naturel\n",
      "garnacha\n",
      "guacamole\n",
      "tomme des pyrenees\n",
      "spicy salsa flatbread with nacho cheese\n",
      "diced peaches in natural juice\n",
      "고소한 현미\n",
      "goat mozzarella\n",
      "crema de almendras\n",
      "boudin noir a l'ancienne aux oignons\n",
      "hefe\n",
      "queijo ibérico reserva maturado em azeite virgem extra\n",
      "campbell's gravy chicken\n",
      "raisins secs sultanines\n",
      "potito de platano manzana pera y mandarina\n",
      "anti-falten feuchtigkeitscreme\n",
      "fancy pimientos\n",
      "tea earl gray biologico\n",
      "barbecue sauce\n",
      "fusillo integrale\n",
      "neon gummy worms\n",
      "enjoy fruchtig leicht apfel johannisbeere\n",
      "croquant sésame\n",
      "les milanaises chapelure nature\n",
      "bio-fruchtmus\n",
      "dark chocolate chunk chewy granola bar\n",
      "velouté de legumes\n"
     ]
    }
   ],
   "source": [
    "uniques_name = df['name'].unique()\n",
    "uniques_name_list = list(uniques_name)\n",
    "for value in uniques_name_list:\n",
    "    print(value)"
   ]
  },
  {
   "cell_type": "code",
   "execution_count": 30,
   "metadata": {},
   "outputs": [
    {
     "name": "stdout",
     "output_type": "stream",
     "text": [
      "0.4124293785\n",
      "0.4316939891\n",
      "0.3333333333\n",
      "0.0\n",
      "0.3114754098\n",
      "1.0\n",
      "0.2349726776\n",
      "0.306010929\n",
      "0.9682539683\n",
      "0.1584699454\n",
      "0.4207650273\n",
      "0.2544378698\n",
      "0.320754717\n",
      "0.8743169399\n",
      "0.2857142857\n",
      "0.9016393443\n",
      "0.0558659218\n",
      "0.9945355191\n",
      "0.1396648045\n",
      "0.875\n",
      "0.9625\n",
      "0.7340425532\n",
      "0.8360655738\n",
      "0.3184357542\n",
      "0.6557377049\n",
      "0.3031914894\n",
      "0.3\n",
      "0.4074074074\n",
      "0.1117021277\n",
      "0.8994413408\n",
      "0.0765027322\n",
      "0.0744680851\n",
      "0.2881355932\n",
      "0.4043715847\n",
      "0.3152173913\n",
      "0.5355191257\n",
      "0.3097826087\n",
      "0.2847682119\n",
      "0.7431693989\n",
      "0.2781065089\n",
      "0.5300546448\n",
      "0.9734042553\n",
      "0.9943502825\n",
      "0.1147540984\n",
      "0.8510638298\n",
      "0.8196721311\n",
      "0.255952381\n",
      "0.0451977401\n",
      "0.0471204188\n",
      "0.8961748634\n",
      "0.8715083799\n",
      "0.8776595745\n",
      "0.8677248677\n",
      "0.4189944134\n",
      "0.420212766\n",
      "0.2945205479\n",
      "0.1542553191\n",
      "0.0212765957\n",
      "0.9889502762\n",
      "0.2960893855\n",
      "0.2786885246\n",
      "0.0327868852\n",
      "0.8633879781\n",
      "0.2240437158\n",
      "0.8342245989\n",
      "0.0111731844\n",
      "0.3879781421\n",
      "0.7486338798\n",
      "0.0319148936\n",
      "0.9890710383\n",
      "0.5901639344\n",
      "0.3989071038\n",
      "0.9945652174\n",
      "0.8926553672\n",
      "0.6229508197\n",
      "0.0218579235\n",
      "0.7650273224\n",
      "0.8138297872\n",
      "0.217877095\n",
      "0.9944134078\n",
      "0.8603351955\n",
      "0.2131147541\n",
      "0.1256830601\n",
      "0.4347826087\n",
      "0.7595628415\n",
      "0.2834224599\n",
      "0.9680851064\n",
      "0.0382513661\n",
      "0.3244680851\n",
      "0.3146067416\n",
      "0.3015873016\n",
      "0.4301675978\n",
      "0.3661202186\n",
      "0.3442622951\n",
      "0.3149171271\n",
      "0.7248677249\n"
     ]
    }
   ],
   "source": [
    "uniques_countries = df['countries'].unique()\n",
    "uniques_countries_list = list(uniques_countries)\n",
    "for value in uniques_countries_list:\n",
    "    print(value)"
   ]
  },
  {
   "cell_type": "code",
   "execution_count": 31,
   "metadata": {},
   "outputs": [
    {
     "name": "stdout",
     "output_type": "stream",
     "text": [
      "empty\n",
      "kunststoff, pappe, karton\n",
      "sachet plastique\n",
      "metall, glas\n",
      "plastique, carton, frais\n",
      "kanne, stück\n",
      "bote\n",
      "kunststoff\n",
      "petit pot verre\n",
      "plastic\n",
      "verre, bouteille\n",
      "plastique\n",
      "green dot, papier de cuisson et film plastique à jeter, pensez au tri!, étui carton à recycler\n",
      "recipiente\n",
      "plastique, sachet\n",
      "métal, plastique, boîte\n",
      "plastique, frais, barquette\n",
      "barquette plastique, film plastique\n",
      "tetra pak\n",
      "roll\n",
      "pacote\n",
      "kunststoff,papier\n",
      "papiertüte\n",
      "carton\n",
      "scatola, cartone, 21 pap\n",
      "papier, frais\n",
      "box\n",
      "pet-bottle\n",
      "бумага\n",
      "métal, recyclable metals, aluminium, conserve\n",
      "ldpe-bag\n",
      "pp-bottle, pp-cap\n",
      "glass\n",
      "pot aluminium\n",
      "metale,recyclable metals,aluminij\n",
      "green dot\n",
      "plastik\n",
      "mixed plastic-packet\n",
      "carta\n",
      "pot\n",
      "प्लास्टिक डब्बा\n",
      "film en plastique\n"
     ]
    }
   ],
   "source": [
    "uniques_packaging = df['packaging'].unique()\n",
    "uniques_packaging_list = list(uniques_packaging)\n",
    "for value in uniques_packaging_list:\n",
    "    print(value)"
   ]
  },
  {
   "cell_type": "code",
   "execution_count": 32,
   "metadata": {},
   "outputs": [
    {
     "name": "stdout",
     "output_type": "stream",
     "text": [
      "empty\n",
      "a\n",
      "d\n",
      "c\n",
      "b\n",
      "e\n"
     ]
    }
   ],
   "source": [
    "uniques_ecoscore_tags = df['ecoscore_tags'].unique()\n",
    "uniques_ecoscore_tags_list = list(uniques_ecoscore_tags)\n",
    "for value in uniques_ecoscore_tags_list:\n",
    "    print(value)"
   ]
  },
  {
   "cell_type": "code",
   "execution_count": 33,
   "metadata": {},
   "outputs": [
    {
     "name": "stdout",
     "output_type": "stream",
     "text": [
      "49.0\n",
      "86.0\n",
      "26.0\n",
      "21.0\n",
      "42.0\n",
      "68.0\n",
      "74.0\n",
      "72.0\n",
      "34.0\n",
      "41.0\n",
      "59.0\n",
      "60.0\n",
      "71.0\n",
      "76.0\n",
      "32.0\n",
      "84.0\n",
      "15.0\n",
      "54.0\n",
      "18.0\n",
      "44.0\n",
      "25.0\n",
      "79.0\n",
      "100.0\n",
      "30.0\n",
      "45.0\n",
      "29.0\n",
      "73.0\n",
      "57.0\n",
      "52.0\n",
      "36.0\n",
      "50.0\n",
      "47.0\n",
      "53.0\n",
      "51.0\n",
      "39.0\n",
      "0.0\n",
      "56.0\n",
      "19.0\n",
      "75.0\n",
      "37.0\n",
      "43.0\n",
      "38.0\n",
      "6.0\n",
      "16.0\n",
      "91.0\n",
      "67.0\n",
      "27.0\n",
      "22.0\n",
      "62.0\n"
     ]
    }
   ],
   "source": [
    "uniques_ecoscore_score = df['ecoscore_score'].unique()\n",
    "uniques_ecoscore_score_list = list(uniques_ecoscore_score)\n",
    "for value in uniques_ecoscore_score_list:\n",
    "    print(value)"
   ]
  },
  {
   "cell_type": "code",
   "execution_count": 34,
   "metadata": {},
   "outputs": [
    {
     "name": "stdout",
     "output_type": "stream",
     "text": [
      "empty\n",
      "white-quinoa, plant, quinoa, red-quinoa, black-quinoa\n",
      "pork-meat, animal, meat, pork, salt, lactose, pepper, seed, sugar, added-sugar, disaccharide, dextrose, monosaccharide, glucose, garlic, vegetable, root-vegetable, onion-family-vegetable, nutmeg, condiment, spice, antioxidant, preservative, e252, ferment, collagen, pork-collagen, anti-caking-agent, e170i, e170, e300, e250, e553b, e553\n",
      "water, salt, olive, vegetable, fruit-vegetable, e574\n",
      "chicken-breast, poultry, chicken, chicken-meat, onion, vegetable, root-vegetable, onion-family-vegetable, british-cream, dairy, cream, colza-oil, oil-and-fat, vegetable-oil-and-fat, rapeseed-oil, tomato-concentrate, fruit-vegetable, tomato, british-yogurt, yogurt, ginger, condiment, spice, garlic-puree, garlic, skimmed-yogurt, salt, lemon-juice, fruit, juice, fruit-juice, coriander, herb, red-chili-puree, chili-pepper, red-chili-pepper, corn-starch, starch, cumin, seed, colour, sugar, added-sugar, disaccharide, turmeric, green-cardamom, cardamom, cumin-seeds, paprika, cinnamon-powder, cinnamon, e160c, black-pepper, pepper, mace, fennel, stalk-vegetable, clove, nutmeg-nut, nutmeg, bay-leaf\n",
      "poultry, chicken, chicken-meat, acid, salt, tapioca, starch, sugar, added-sugar, disaccharide, soy-sauce, sauce, tomato-concentrate, vegetable, fruit-vegetable, tomato, white-wine-vinegar, vinegar, wine-vinegar, colza-oil, oil-and-fat, vegetable-oil-and-fat, rapeseed-oil, molasses, spice, condiment, onion, root-vegetable, onion-family-vegetable, garlic, natural-flavouring, flavouring, curry, e326, water, soya, wheat-flour, cereal, flour, wheat, cereal-flour, fennel, stalk-vegetable\n",
      "ingredientes, naranjas\n",
      "potato-flakes, vegetable, root-vegetable, tuber, potato, starch, rapeseed-oil, oil-and-fat, vegetable-oil-and-fat, prawn-cockei-seasoning, sugar, added-sugar, disaccharide, emulsifier-isunflower-lecithin, sunflower-colour, prawn-cocktail-seasoning, yeast-powder, yeast, slt-dextrose, acid, e508, onion-power, tomato, fruit-vegetable, colour, sweetener, sucralse, e160b, flavouring, e330, e160c\n",
      "water, sweetener, alcohol-vinegar, vinegar, bamboo-fibre, fiber, vegetable-fiber, stabiliser, flavouring, acid, preservative, salt, colour, e968, e955, e415, e270, e202, e150d\n",
      "cultured-pasteurized-grade-a-nonfat-milk, milk-and-creame, whey, dairy, contains-less-than-2-of-modified-food-starch, salt, e330, e341, e415, e412, natural-flavouring, flavouring, retinyl-palmitate, vitamins, vitamin-a, cholecalciferol, vitamin-d\n",
      "meat-sauce, cooked-enriched-macaroni-product, ricotta-cheese-filling, mixed-cheese, dairy, cheese, water, tomato-concentrate, vegetable, fruit-vegetable, tomato, cooked-seasoned-meat-crumbles, onion, root-vegetable, onion-family-vegetable, red-bell-pepper, bell-pepper, corn-oil, oil-and-fat, vegetable-oil-and-fat, vegetable-oil, corn-starch, starch, beef-broth, animal, beef, broth, parmigiano-reggiano, carrot-juice, taproot-vegetable, carrot, vegetable-juice, salt, spice, condiment, dried-garlic, garlic, beef-fat, fat, animal-fat, flavouring, semolina, cereal, wheat, ricotta, milk, cream, parsley, herb, leaf-vegetable, dehydrated-onion, part-skim-mozzarella, mozzarella, modified-starch, skimmed-milk, pork, tomato-puree, e330, cultured-part-skim-milk, enzyme, durum-wheat-flour, flour, cereal-flour, wheat-flour, e375, ferrous-sulfate, minerals, iron, thiamin-mononitrate, thiamin, e101, folic-acid, folate, whey, vinegar, e407, semi-skimmed-milk, lactic-ferments, ferment, microbial-culture\n",
      "sugar, added-sugar, disaccharide, wheat-flour, cereal, flour, wheat, cereal-flour, palm-fat, oil-and-fat, vegetable-oil-and-fat, palm-oil-and-fat, glucose-syrup, monosaccharide, glucose, cocoa-butter, plant, cocoa, whole-milk-powder, dairy, milk-powder, condensed-skimmed-milk, milk, condensed-milk, cocoa-paste, humectant, lactose, sweet-whey-powder, whey, sweet-whey, salt, caramelised-sugar-syrup, caramel-syrup, emulsifier, fat-reduced-cocoa-powder, cocoa-powder, barley-malt-extract, malt, malted-barley, raising-agent, vanilla-extract, vanilla, e420, e322, e500\n",
      "dough, e375, reduced-iron, minerals, iron, thiamin-mononitrate, thiamin, e101, enzyme, folic-acid, folate, water, dextrose, added-sugar, monosaccharide, glucose, contains-less-than-2-of-each-of-the-following, interesterified-soybean-oil, yeast, salt, e516, ascorbic-acid-added-as-a-dough-conditioner, e341, e491, e466, cheese-filling, microbial-culture, ferment, topping, butter, dairy, parmigiano-reggiano, cheese, garlic, vegetable, root-vegetable, onion-family-vegetable, coating, dehydrated-onion, onion, mono-and-diglycerides-with-citric-acid-preservative, natural-flavouring, flavouring, soya-oil, oil-and-fat, vegetable-oil-and-fat, vegetable-oil, annatto-extract-color, flour, wheat-flour, cereal, wheat, cereal-flour, wheat-gluten, gluten, low-moisture-part-skim-mozzarella, mozzarella, part-skim-mozzarella, low-moisture-mozzarella, pasteurized-semi-skimmed-milk, milk, semi-skimmed-milk, cream, pasteurised-milk, lactic-ferments, e460ii, e460, sorbic-acid-preservative, black-pepper, seed, pepper, brown-sugar, disaccharide, sugar, bell-pepper, fruit-vegetable, parsley, herb, leaf-vegetable, e551\n",
      "dehydrated-potato-with-preservative, dehydrated-onion, vegetable, root-vegetable, onion-family-vegetable, onion, corn-syrup-solids, added-sugar, disaccharide, corn-syrup, hydrolyzed-corn-and-soy-and-wheat-protein, salt, partially-hydrogenated-soybean-and-cottonseed-oil-with-emulsifier, contains-2-and-less-of, colour, modified-corn-starch, starch, corn-starch, modified-starch, sodium-caseinate, dairy, caseinate, e621, autolyzed-yeast-extract, yeast, yeast-extract, garlic, sugar, e330, e270, natural-flavouring, flavouring, maltodextrin, beef-extract, animal, beef, e627, e631, e222, e471, spice, condiment, e150, e160ai, e160a\n",
      "buttermilk, dairy, water, peach-puree, fruit, prunus-species-fruit, peach, sugar, added-sugar, disaccharide, cream, starch, milk-proteins, protein, animal-protein, acid, whole-milk, milk, lactic-ferments, ferment, microbial-culture, e330\n",
      "tomato-sauce, sauce, cheese-sauce, gherkin, vegetable, fruit-vegetable, cucumber, mustard, chickpea, legume, pulse, water, cheese, dairy, wheat-flour, cereal, flour, wheat, cereal-flour, onion, root-vegetable, onion-family-vegetable, egg, sunflower-oil, oil-and-fat, vegetable-oil-and-fat, vegetable-oil, yeast-extract, yeast, sea-salt, salt, celery, stalk-vegetable, mustard-seed, condiment, spice, pepper-extract, seed, pepper, oat-flakes, oat, sugar, added-sugar, disaccharide, whey-powder, whey, emulsifier, e471, antioxidant, turmeric, enzyme, malt-extract, malt, double-concentrated-tomato, tomato, tomato-concentrate, corn-starch, starch, grated-emmental-cheese, emmental, skimmed-milk, milk, spice-extract, thickener, acid, e326, powdered-egg-white, egg-white, soy-protein, protein, plant-protein, dextrose, monosaccharide, glucose, herb, flavouring, lemon-powder, fruit, juice, fruit-juice, lemon-juice, e410, e407, colour, vinegar, stabiliser, e415, potato-starch, lactic-ferments, ferment, microbial-culture, microbial-coagulating-enzyme, coagulating-enzyme, e481, e300, barley, corn, potato, tuber, e461, e261, e330, e160ai, e160a, tapioca, e412\n",
      "shrimp, shellfish, crustacean, salt, e452vi, e452\n",
      "1litre\n",
      "flour, water, canola-oil, oil-and-fat, vegetable-oil-and-fat, rapeseed-oil, salt, malt, cereal, corn-starch, starch, e270, yeast, wheat-gluten, gluten, bromelain, soda, wheat-flour, wheat, cereal-flour, e375, reduced-iron, minerals, iron, thiamin-mononitrate, thiamin, e101, folic-acid, folate, tapioca-syrup, added-sugar, disaccharide, syrup, malt-extract\n",
      "3x26\n",
      "tahini, seed, sesame, sesame-paste, coconut-milk, fruit, coconut, milk-powder, dairy, almond, nut, tree-nut\n",
      "tomato, vegetable, fruit-vegetable, tomato-juice, salt, e330, e509\n",
      "water, soya-oil, oil-and-fat, vegetable-oil-and-fat, vegetable-oil, chopped-pickles, distilled-vinegar, vinegar, corn-starch, starch, salt, dehydrated-onion, vegetable, root-vegetable, onion-family-vegetable, onion, garlic, mustard, spice, condiment, concentrated-lemon-juice, fruit, juice, fruit-juice, lemon-juice, e415, e414, natural-flavouring, flavouring, e509, e385, e202, e211, to-protect-quality, used-as-preservatives\n",
      "sea-salt, salt, e530, e535, anti-caking-agent\n",
      "natural-mineral-water, water, mineral-water, grape-juice, fruit, berries, juice, fruit-juice, grape, apple-juice, malaceous-fruit, apple\n",
      "whole-grain-oat-flakes, cereal, oat, oat-flakes, milk-proteins, protein, animal-protein, sugar, added-sugar, disaccharide, oat-bran, maltodextrin, minerals, sunflower-oil, oil-and-fat, vegetable-oil-and-fat, vegetable-oil, thickener, inulin, fiber, vegetable-fiber, glucose-syrup, monosaccharide, glucose, flavouring, vitamins, e300, vitamin-e, vitamin-a, vitamin-d, vitamin-k, e101, pantothenic-acid, vitamin-b6, emulsifier, antioxidant, potassium, sodium, magnesium, calcium, iron, zinc, iodine, manganese, copper, selenium, e466, e472c, e304\n",
      "vegetable, water, salt, wine-vinegar, vinegar, cauliflower, brassica, carrot, root-vegetable, taproot-vegetable, gherkin, fruit-vegetable, cucumber, bell-pepper\n",
      "cooked-chickpeas, vegetable, legume, pulse, chickpea, water, rapeseed-oil, oil-and-fat, vegetable-oil-and-fat, sesame-paste, seed, sesame, green-pesto, basil, herb, sunflower-oil, vegetable-oil, medium-fat-italian-style-hard-cheese, white-wine-vinegar, vinegar, wine-vinegar, extra-virgin-olive-oil, olive-oil, virgin-olive-oil, garlic, root-vegetable, onion-family-vegetable, salt, concentrated-lemon-juice, fruit, juice, fruit-juice, lemon-juice, garlic-puree, preservative, milk, dairy, e202\n",
      "sugar, added-sugar, disaccharide, hazelnut, nut, tree-nut, cocoa-butter, plant, cocoa, cocoa-paste, milk-ingredients, lactose, soya-lecithin, e322, e322i, almond, barley-malt-extract, cereal, malt, malted-barley, artificial-flavouring, flavouring\n",
      "semolina, cereal, wheat, e375, ferrous-sulfate, minerals, iron, thiamin-mononitrate, thiamin, e101, folic-acid, folate\n",
      "filling, whey, dairy, cream, vinegar, salt, stabiliser, gorgonzola, cheese, cow-cheese, milk, sundried-tomatoes, vegetable, fruit-vegetable, tomato, dried-tomatoes, fresh-cream, egg, black-pepper, seed, pepper, pasta, dough, water, parsley, herb, leaf-vegetable, spinach-powder, spinach, e160ai, e160a, ricotta, pasteurised-milk, e412, e410, e415, enzyme, microbial-rennet, coagulating-enzyme, rennet, vegetarian-rennet, wheat-flour, cereal, flour, wheat, cereal-flour\n",
      "cider-vinegar, vinegar, preservative, sulfite, e224\n",
      "brown-eggs\n",
      "wheat-flour, cereal, flour, wheat, cereal-flour, palm-oil, oil-and-fat, vegetable-oil-and-fat, palm-oil-and-fat, colza-oil, rapeseed-oil, sunflower-oil, vegetable-oil, water, concentrated-lemon-juice, fruit, juice, fruit-juice, lemon-juice, salt, alcohol, fruit-and-vegetable-concentrates, vegetable, preparation, fruit-concentrate, vegetable-concentrate, yeast, carrot, root-vegetable, taproot-vegetable, apple, malaceous-fruit, lemon, citrus-fruit\n",
      "minced-beef, animal, meat, beef, beef-meat\n",
      "milk, dairy, cream, corn-syrup, added-sugar, disaccharide, chocolate-cookie-swirl, sugar, chocolate-crunchies, whey, skimmed-milk, natural-and-artificial-flavouring, flavouring, natural-flavouring, artificial-flavouring, cellulose-gel, e466, e471, e407, annatto-color, soya-oil, oil-and-fat, vegetable-oil-and-fat, vegetable-oil, chocolate-cookies, cocoa-processed-with-alkali, plant, cocoa, corn-starch, starch, salt, soya-lecithin, e322, e322i, wheat-flour, cereal, flour, wheat, cereal-flour, palm-kernel-oil, palm-kernel-oil-and-fat, e150a, e500ii, e500, palm-and-palm-kernel-oil, palm-oil-and-fat, palm-oil\n",
      "e290, bone\n",
      "garden-peas, vegetable, legume, pod-and-seed-vegetable, pea, green-peas, modified-corn-starch, starch, corn-starch, modified-starch, sugar, added-sugar, disaccharide, palm-oil, oil-and-fat, vegetable-oil-and-fat, palm-oil-and-fat, salt, maltodextrin, wasabi, plant, colour, e100, e140i, e140\n",
      "wheat-flour, cereal, flour, wheat, cereal-flour, butter, dairy, sugar, added-sugar, disaccharide, salted-butter-caramel, egg, natural-flavouring, flavouring, salt, e150, glucose-syrup, monosaccharide, glucose, water, cream, salt-from-guerande, sea-salt\n",
      "green-bean, vegetable, legume, pod-and-seed-vegetable\n",
      "meat, beef-fat, oil-and-fat, fat, animal-fat, water, spice, condiment, herb, salt, acid, e262, e263, flavouring, dextrose, added-sugar, monosaccharide, glucose, antioxidant, e301, colour, gelling-agent, e336, e300, e120, e404\n",
      "farm-raised-atlantic-salmon, flavorpack, color-added-through-feed, vegetable-blend, vegetable, spice, condiment, sea-salt, salt, sugar, added-sugar, disaccharide, lemon-juice, fruit, juice, fruit-juice, lemon-peel, citrus-fruit, lemon, citric-acid-preservative, e551, garlic, root-vegetable, onion-family-vegetable, onion, e330, e296, lemon-oil, e300, maltodextrin, sodium-citrate, minerals, sodium, e440a, turmeric-color, vitamin-c\n",
      "flour, soya-oil, oil-and-fat, vegetable-oil-and-fat, vegetable-oil, palm-oil, palm-oil-and-fat, sugar, added-sugar, disaccharide, raising-agent, corn-syrup, salt, natural-flavouring, flavouring, soya-lecithin, e322, e322i, corn-starch, starch, wheat-flour, cereal, wheat, cereal-flour, e375, reduced-iron, minerals, iron, thiamin-mononitrate, thiamin, e101, folic-acid, folate, e341i, e341, e500ii, e500, e503ii, e503, emulsifier\n",
      "whole-wheat-flour, cereal, flour, wheat, cereal-flour, wholemeal-flour, wheat-flour, water, fortified-wheat-flour, sugar, added-sugar, disaccharide, whole-grains, wheat-gluten, gluten, sunflower-seed, plant, seed, sunflower, yeast, molasses, salt, soya-oil, oil-and-fat, vegetable-oil-and-fat, vegetable-oil, cornmeal, corn, sesame-seeds, sesame, flax-seed, flax, e282, e471, e472e, poppyseed, poppy, grain-vinegar, vinegar, e516, e341i, e341, corn-starch, starch, soya-lecithin, e322, e322i, e330, e917, barley-malt-flour, barley, barley-flour, reduced-iron, minerals, iron, e375, thiamin-mononitrate, thiamin, e101, folic-acid, folate, cracked-wheat, rye, oat, triticale, millet, buckwheat, brown-rice, rice, spelt, sorghum, e123, quinoa, teff, preservative\n",
      "sesame, seed, lemon-oil, fruit, citrus-fruit, lemon\n",
      "cocoa-paste, plant, cocoa, almond, nut, tree-nut, cane-sugar, added-sugar, disaccharide, sugar, cocoa-butter, e414\n",
      "strawberry-splash, sugar, added-sugar, disaccharide, modified-corn-starch, starch, corn-starch, modified-starch, contains-1-and-less-of, e341iii, e341, natural-flavouring, flavouring, vegetable-juice, vegetable, potassium-sorbate-added-to-maintain-freshness, e407, retinyl-acetate, vitamins, vitamin-a, cholecalciferol, vitamin-d, cool-cotton-candy, spirulina-concentrate, algae, spirulina, cultured-pasteurized-grade-a-low-fat-milk, e428, colour\n",
      "ham, animal, meat, pork, pork-meat, salt, preservative, flavouring, dextrose, added-sugar, monosaccharide, glucose, antioxidant, e508, e250, e316\n",
      "water, margarine, salt\n",
      "light-brown-sugar, flour, raisin, fruit, berries, grape, butter, dairy, oat-flakes, cereal, oat, whole-egg, egg, canola-oil, oil-and-fat, vegetable-oil-and-fat, rapeseed-oil, invert-cane-sugar, added-sugar, monosaccharide, invert-sugar, pure-vanilla, plant, vanilla, cinn, wheat-flour, wheat, cereal-flour, barley-malt-flour, barley, barley-flour, niacin-reduced-iron, thiamin-mononitrate, thiamin, e101, folic-acid, folate, cream, natural, flavouring\n",
      "water, cooked-white-rice, rice, cooked-rice, ham, animal, meat, pork, pork-meat, egg, garden-peas, vegetable, legume, pod-and-seed-vegetable, pea, green-peas, onion, root-vegetable, onion-family-vegetable, carrot, taproot-vegetable, soya-oil, oil-and-fat, vegetable-oil-and-fat, vegetable-oil, soy-sauce, sauce, herb, salt, spice, condiment, sugar, added-sugar, disaccharide, sunflower-oil, natural-flavouring, flavouring, glucose-syrup, monosaccharide, glucose, e407, e451, antioxidant, preservative, soya-bean, pulse, soya, wheat-flour, cereal, flour, wheat, cereal-flour, e316, e250, e202\n",
      "iodised-salt, salt, turmeric, condiment, spice, chili-pepper, vegetable, fruit-vegetable, e330, soya\n",
      "water, pea-protein, protein, plant-protein, sugar, added-sugar, disaccharide, coconut-oil, oil-and-fat, vegetable-oil-and-fat, vegetable-oil, chicory-fibre, vegetable, fiber, shoot-vegetable, vegetable-fiber, chicory, pineapple, fruit, high-oleic-sunflower-oil, sunflower-oil, cabbage, brassica, ergocalciferol, vitamin-d, vitamin-b12, e340ii, e340, e341iii, e341, e418, e385\n",
      "tomato, vegetable, fruit-vegetable, salsa-base, honey, added-sugar, cane-sugar-syrup, disaccharide, ketchup, sauce, strawberry, fruit, berries, corn-starch, starch, cola, worchterchire-sauce, orange-juice, citrus-fruit, juice, fruit-juice, orange, crab-boil, garlic, root-vegetable, onion-family-vegetable, celery-seed, seed, stalk-vegetable, celery, thyme, herb, szechuan-pepercorns, e202, e211, water, iodised-salt, salt, black-pepper, pepper, liquid-smoke, smoke, spice, condiment, crushed-tomato, chopped-tomatoes, fresh-onions, onion, jalapeno-pepper, chili-pepper, distilled-vinegar, vinegar, dehydrated-onion, purple-onions, preservative\n",
      "sugar, added-sugar, disaccharide, vanilla-flavouring, flavouring\n",
      "farm-raised-shrimp, salt, e452vi, e452, to-retain-moisture\n",
      "goat-milk, dairy, milk, sea-salt, salt, vegetarian-rennet, enzyme, coagulating-enzyme, rennet, lactic-ferments, ferment, microbial-culture\n",
      "water, lemon-juice, fruit, juice, fruit-juice, mint, herb, essential-oil, natural-mint-flavouring, flavouring, natural-flavouring, mint-flavouring, cane-sugar, added-sugar, disaccharide, sugar\n",
      "milk, dairy, salt, lactic-ferments, ferment, microbial-culture, rennet, enzyme, coagulating-enzyme, preservative, colour, e251, e160a\n",
      "salt, flavouring, glucose-syrup, added-sugar, monosaccharide, glucose, flavour-enhancer, corn-starch, starch, extra-virgin-olive-oil, oil-and-fat, vegetable-oil-and-fat, vegetable-oil, olive-oil, virgin-olive-oil, sunflower-oil, herb, tomato, vegetable, fruit-vegetable, turmeric, condiment, spice, colour, e621, e627, e631, oregano, parsley, leaf-vegetable, basil, e150a\n",
      "hazelnut, nut, tree-nut, cashew-nuts, peanut, chicory-fibre, vegetable, fiber, shoot-vegetable, vegetable-fiber, chicory, almond, sugar, added-sugar, disaccharide, honey, palm-kernel-oil, oil-and-fat, vegetable-oil-and-fat, palm-kernel-oil-and-fat, glucose-syrup, monosaccharide, glucose, rice-flour, flour, rice, chocolate, cocoa-powder, plant, cocoa, cocoa-nibs, cocoa-bean, nutmeg, condiment, spice, soya-lecithin, e322, e322i, vanilla, salt, cinnamon, natural-flavouring, flavouring, cocoa-butter\n",
      "raw-cow-s-milk, dairy, milk, cow-s-milk, raw-milk, rennet, enzyme, coagulating-enzyme, salt\n",
      "salt, lactic-ferments, ferment, microbial-culture, coagulant, colour, pasteurised-cow-s-milk, dairy, milk, pasteurised-milk, cow-s-milk, e160b\n",
      "e270, e325, e330, e331, e903\n",
      "mussel, shellfish, mollusc\n",
      "apple, fruit, malaceous-fruit, green-bean, vegetable, legume, pod-and-seed-vegetable, raisin, berries, grape, concentrated-lemon-juice, juice, fruit-juice, lemon-juice\n",
      "bocconcini-pasta, canola-oil, oil-and-fat, vegetable-oil-and-fat, rapeseed-oil, water, red-bell-pepper, vegetable, fruit-vegetable, bell-pepper, black-olive, olive, mozzarella, dairy, cheese, tomato, sundried-tomatoes, dried-tomatoes, spring-onion, root-vegetable, onion-family-vegetable, onion, balsamic-vinegar, vinegar, red-wine-vinegar, sugar, added-sugar, disaccharide, garlic, basil, herb, parsley, leaf-vegetable, e330, spice, condiment, durum-wheat-semolina, cereal, wheat, durum-wheat, semolina, e375, folic-acid, folate, ferrous-sulfate, minerals, iron, e101, thiamin-mononitrate, thiamin, pasteurised-milk, milk, modified-milk-ingredients, salt, e460ii, e460, microbial-coagulating-enzyme, enzyme, coagulating-enzyme, bacterial-culture, e235\n",
      "sugar, added-sugar, disaccharide, fat-reduced-cocoa-powder, plant, cocoa, cocoa-powder, modified-starch, starch, glucose-syrup, monosaccharide, glucose, palm-kernel-fat, oil-and-fat, vegetable-oil-and-fat, palm-kernel-oil-and-fat, palm-fat, palm-oil-and-fat, emulsifier, stabiliser, milk-proteins, protein, animal-protein, gelling-agent, flavouring, e472b, e327, e407\n",
      "sugar, added-sugar, disaccharide, corn-syrup, artificial-flavouring, flavouring, e133, e102, e129\n",
      "liquorice-extract, plant, liquorice, natural-flavouring, flavouring, menthol, mint, herb\n",
      "almond, nut, tree-nut\n",
      "pasteurised-goat-milk, dairy, milk, goat-milk\n",
      "contains, water, salt, pimiento, vegetable, fruit-vegetable, chili-pepper, almond, nut, tree-nut, onion, root-vegetable, onion-family-vegetable, e270, e401, e412, e509, and-potassium-sorbate, olive\n",
      "algal-oil, corn-starch, starch, e422, e420, e407, filtered-water, water, colour, e160ai, e160a, e150, which-contains-high-oleic-sunflower-oil, rosemary-extract-antioxidants, palm-oil, oil-and-fat, vegetable-oil-and-fat, palm-oil-and-fat, e306, e304i, e304\n",
      "consist-of-chocolate, sugar, added-sugar, disaccharide, corn-syrup, condensed-milk-peanut-butter, dairy-cream, coconut-with-sodium-metabisulfite, brown-sugar, palm-kernel-oil, oil-and-fat, vegetable-oil-and-fat, palm-kernel-oil-and-fat, walnut, nut, tree-nut, pecan-nut, molasses, almond, whole-milk, dairy, milk, skimmed-milk, cherry, fruit, prunus-species-fruit, salt, cocoa-powder, plant, cocoa, white-chocolate, chocolate, hydrogenated-vegetable-oil, oil, vegetable-oil, hydrogenated-oil, raspberry, berries, e420, egg-white, egg, natural-and-artificial-flavouring, flavouring, natural-flavouring, artificial-flavouring, honey, raisin, grape, strawberry, apricots-with-sulfur-dioxide, e1103, mono-and-diglycerides-with-citric-acid, soya-lecithin, e322, e322i, butter, maple-sugar, tapioca-flour, flour, starch, tapioca, spice, condiment, fd-c-colors, e211, e306, invert-sugar-and-carmine-color, 6225-103, chocolate-processed-with-alkali, cocoa-butter, milkfat, fat, vanillin, peanut, cottonseed, seed, rapeseed-oil, soya-oil, to-promote-color-retention, water, e330, e202, e220, e129, soya-bean, vegetable, legume, pulse, soya, enzyme, to-help-protect-flavor, emulsifier, yellow-5-and-6, e133, preservative, natural-antioxidant, antioxidant\n",
      "pork, animal, maltodextorin, salt-peprika, water, e330, spice, condiment, sugar, added-sugar, disaccharide, wine, alcohol, garlic, vegetable, root-vegetable, onion-family-vegetable, extractives, of-paprika-sodium-erythorbate, e250, natural-smoke-flavouring, flavouring, natural-flavouring\n",
      "millet, cereal\n",
      "enriched-macaroni-product, cheese-sauce-mix, maltodextrin, semisoft-cheese, whey, dairy, palm-oil, oil-and-fat, vegetable-oil-and-fat, palm-oil-and-fat, salt, corn, cereal, wheat-flour, flour, wheat, cereal-flour, glycerol-monostearate, e375, iron, minerals, thiamin-mononitrate, thiamin, e101, folic-acid, folate, milk, lactic-ferments, ferment, microbial-culture, enzyme, ferrous-sulfate\n",
      "wheat-flour, cereal, flour, wheat, cereal-flour, coating, whey, dairy, maltodextrin, salt, e621, e262ii, e262, dextrose, added-sugar, monosaccharide, glucose, cayenne-pepper-sauce, modified-corn-starch, starch, corn-starch, modified-starch, vinegar, spice, condiment, e330, e160c, spice-extract, e631, e627, sunflower-oil, oil-and-fat, vegetable-oil-and-fat, vegetable-oil, and-less-than-2-silicon-dioxide, soya-oil, sugar, disaccharide, malt-syrup, syrup, cayenne-pepper, garlic, vegetable, root-vegetable, onion-family-vegetable, colour, anti-caking-agent\n",
      "almond, nut, tree-nut, walnut, glucose-syrup, added-sugar, monosaccharide, glucose, milk-powder, dairy, cream, preservative, cream-flavouring, flavouring, e200\n",
      "beans, vegetable, legume, pulse, air-dried-veggies, spice, condiment, white, black-and-pinto, green-pepper, seed, pepper, corn, cereal, parsley, herb, leaf-vegetable, spring-onion, root-vegetable, onion-family-vegetable, onion\n",
      "animal, meat, beef, beef-meat, vegetable, legume, pulse, red-bean, water, red-bell-pepper, fruit-vegetable, bell-pepper, green-bell-pepper, onion, root-vegetable, onion-family-vegetable, tomato-concentrate, tomato, salt, sugar, added-sugar, disaccharide, colza-oil, oil-and-fat, vegetable-oil-and-fat, rapeseed-oil, modified-corn-starch, starch, corn-starch, modified-starch, flavouring, chili-pepper, firming-agent, e509\n",
      "pasta, dough, e375, reduced-iron, minerals, iron, thiamin-mononitrate, thiamin, e101, folic-acid-seasoning-blend, palm-oil, oil-and-fat, vegetable-oil-and-fat, palm-oil-and-fat, natural-flavouring, flavouring, salt, modified-corn-starch, starch, corn-starch, modified-starch, whey-powder, dairy, whey, cream, autolyzed-yeast-and-dried-yeast, monoglycerides, parsley, vegetable, herb, leaf-vegetable, e270, e415, e631, e627, butter, and-less-than-2-silicon-dioxide, durum-wheat-semolina, cereal, wheat, durum-wheat, semolina, garlic, root-vegetable, onion-family-vegetable, parmigiano-reggiano, cheese, buttermilk-solids, buttermilk, e339, skimmed-milk-powder, milk-powder, e306, e304i, e304, contains-brewer-s-yeast-from-barley, sodium-caseinate, caseinate, e321, anti-caking-agent, semi-skimmed-milk, milk, microbial-culture, ferment, enzyme, preservative\n",
      "white-beans, vegetable, legume, pulse, tomato-sauce, sauce, water, tomato-concentrate, fruit-vegetable, tomato, sugar, added-sugar, disaccharide, modified-corn-starch, starch, corn-starch, modified-starch, salt, wine-vinegar, vinegar, onion, root-vegetable, onion-family-vegetable, spice-or-bell-pepper, condiment, spice, bell-pepper, rapeseed-oil, oil-and-fat, vegetable-oil-and-fat, herb-extract, herb, flavouring\n",
      "water, tomato, vegetable, fruit-vegetable, emmental, dairy, cheese, milk, salt, lactic-ferments, ferment, microbial-culture, coagulating-enzyme, enzyme, potato-starch, starch, double-concentrated-tomato, tomato-concentrate, carrot, root-vegetable, taproot-vegetable, onion, onion-family-vegetable, modified-corn-starch, corn-starch, modified-starch, skimmed-milk-powder, milk-powder, fresh-cream, cream, white-wine, alcohol, wine, wheat-flour, cereal, flour, wheat, cereal-flour, colza-oil, oil-and-fat, vegetable-oil-and-fat, rapeseed-oil, basil, herb, veal-fond, animal, beef, broth, veal, garlic, natural-pepper-flavouring, flavouring, natural-flavouring, sugar, added-sugar, disaccharide, thyme, thickener, cumin, seed, oregano, beef-fat, fat, animal-fat, mushroom, leek, spices-and-spices-extracts, condiment, spice, e415\n",
      "flour, water, high-fructose-corn-syrup, added-sugar, disaccharide, monosaccharide, fructose, glucose, corn-syrup, glucose-fructose-syrup, yeast, soya-oil, oil-and-fat, vegetable-oil-and-fat, vegetable-oil, salt, wheat-gluten, gluten, monoglycerides, e282, e481, vinegar, e516, e330, e300, wheat-flour, cereal, wheat, cereal-flour, barley-malt-flour, barley, barley-flour, reduced-iron, minerals, iron, thiamin-mononitrate, thiamin, e101, e375, folic-acid, folate, preservative\n",
      "pork, animal, water, sugar, added-sugar, disaccharide, salt, e621, lemon-juice, fruit, juice, fruit-juice, spice-extract, condiment, spice, modified-vinegar, corn-syrup, dextrose, monosaccharide, glucose, lemon, citrus-fruit, natural-flavouring, flavouring\n",
      "prepared-black-beans, water, salt, e509, added-to-help-maintain-firmness\n",
      "pinto-beans, vegetable, legume, pulse\n",
      "pork-meat, animal, meat, pork, water, iodised-salt, salt, spice, condiment, spice-extract, dextrose, added-sugar, monosaccharide, glucose, stabiliser, antioxidant, preservative, e917, garlic, vegetable, root-vegetable, onion-family-vegetable, nutmeg, onion, ginger, caraway, coriander, herb, lovage, pepper-extract, seed, pepper, e450, e300, e250\n",
      "croscarmellose-sodium, e463, e341ii, e341, e464, e570, e572, e422, e551\n",
      "water, sunflower-oil, oil-and-fat, vegetable-oil-and-fat, vegetable-oil, sunflower-seed, plant, seed, sunflower, spice-or-bell-pepper, vegetable, condiment, fruit-vegetable, spice, bell-pepper, tomato-concentrate, tomato, onion, root-vegetable, onion-family-vegetable, concentrated-apple-juice, fruit, juice, malaceous-fruit, apple, fruit-juice, apple-juice, concentrated-lemon-juice, lemon-juice, salt, potato-starch, starch, garlic, apple-vinegar, vinegar, chili-pepper, herb\n",
      "lait-entier, eau, riz-12-6, sucre-caramel, eufs-51-informations, sucre, arome, amidon-modife-de-mais-epaississants, a-conserver-entre-0-c-et-6c-maximum, gomme-xanthane-et-pectines\n",
      "water, soya-bean, vegetable, legume, pulse, soya, coagulant, e516\n",
      "raw-blanched-almonds, nut, tree-nut, almond, blanches-almonds\n",
      "filtered-water, water, onion, vegetable, root-vegetable, onion-family-vegetable, extra-virgin-olive-oil, oil-and-fat, vegetable-oil-and-fat, vegetable-oil, olive-oil, virgin-olive-oil, basil, herb, sea-salt, salt, garlic, cane-sugar, added-sugar, disaccharide, sugar, black-pepper, seed, pepper\n",
      "water, yeast, malted-barley, cereal, malt, wheat, oat, lactose\n",
      "sea-scallops\n",
      "sugar, added-sugar, disaccharide, whole-almonds, nut, tree-nut, almond, whole-milk-powder, dairy, milk-powder, cocoa-butter, plant, cocoa, cocoa-paste, hazelnut-paste, hazelnut, emulsifier, flavouring, sunflower-lecithin, e322, e322i, vanillin\n",
      "producto-de-aperitivo-de-maiz-ie-sabor-a-queso-y-bacon-ingredientes, aceites-vegetales, maiz-y-girasol-en-proporciones-variablesl, aroma-a-queso-y-bacon, suero-de-leche-en-polvo, sal-tree, plant, queso-en-polvo, de-lechel, preparaciones-y-sustancias-aromatizantes, potenciadores-del-sabor, glutamato-monosodico, guanilato-e-inosinato-disodico-acidulante, colorante, aromas-de-humol, azucar, semola-de-maiz, acido-citrico, extro-de-pimenton\n",
      "fresh-tomatoes, vegetable, fruit-vegetable, tomato\n",
      "water, high-fructose-corn-syrup, added-sugar, disaccharide, monosaccharide, fructose, glucose, corn-syrup, glucose-fructose-syrup, tomato-puree, vegetable, fruit-vegetable, tomato, distilled-vinegar, vinegar, cider-vinegar, molasses, sugar, modified-corn-starch, starch, corn-starch, modified-starch, salt, e150a, contain-2-and-less-of, mustard-seed, condiment, mustard, spice, dried-garlic, root-vegetable, onion-family-vegetable, garlic, dehydrated-onion, onion, tomato-concentrate, natural-smoke-flavouring, flavouring, natural-flavouring\n",
      "sugar, added-sugar, disaccharide, cocoa-butter, plant, cocoa, praline, skimmed-milk-powder, dairy, milk-powder, whey-powder, whey, palm-fat, oil-and-fat, vegetable-oil-and-fat, palm-oil-and-fat, shea-butter, vegetable-fat, cocoa-paste, butterfat, fat, milkfat, emulsifier, flavouring, hazelnut, nut, tree-nut, soya-lecithin, e322, e322i\n",
      "water, sugar, added-sugar, disaccharide, e428, e330, sodium-citrate, minerals, sodium, e202, salt, natural-flavouring, flavouring, e110, preservative\n",
      "pasteurised-cow-s-milk, dairy, milk, pasteurised-milk, cow-s-milk, salt, ferment\n",
      "water, salt, contains-2-and-less-of-the-following, dextrose, added-sugar, monosaccharide, glucose, e339, e316, e250, vinegar\n",
      "cereal, sunflower-oil, oil-and-fat, vegetable-oil-and-fat, vegetable-oil, unrefined-cane-sugar, added-sugar, disaccharide, sugar, cane-sugar, unrefined-sugar, chocolate-chunk, chocolate, honey, cocoa-butter, plant, cocoa, hazelnut, nut, tree-nut, oat-fiber, fiber, vegetable-fiber, raising-agent, e503i, e503, malt-extract, malt, sea-salt, salt, concentrated-lemon-juice, fruit, juice, fruit-juice, lemon-juice, oat-flakes, oat, rye-flour-type-130, flour, cereal-flour, rye-flour, barley-flour, barley, cocoa-paste, vanilla-extract, vanilla, e500ii, e500\n",
      "brazil-nut, nut, tree-nut, almond, cashew-nuts\n",
      "white-chocolate, chocolate, cocoa-butter, plant, cocoa, coating, chocolate-coating, dark-chocolate, cocoa-paste, sugar, added-sugar, disaccharide, fat-reduced-cocoa-powder, cocoa-powder, emulsifier, whole-milk-powder, dairy, milk-powder, natural-vanilla-flavouring, flavouring, natural-flavouring, vanilla-flavouring, colour, sunflower-lecithin, e322, e322i, soya-lecithin, e160c, e120, e161b\n",
      "corn-syrup, added-sugar, disaccharide, sugar, hydrogenated-soy-oil, oil-and-fat, vegetable-oil-and-fat, vegetable-oil, soya-oil, modified-corn-starch, starch, corn-starch, modified-starch, e471, salt, soya-lecithin, e322, e322i, dextrose, monosaccharide, glucose, high-fructose-corn-syrup, fructose, glucose-fructose-syrup, modified-soy-protein, e452i, e452, e428, hydrogenated-palm-oil, oil, palm-oil-and-fat, hydrogenated-oil, palm-oil, hydrogenated-vegetable-oil, e110, e102, e129, e133, artificial-flavouring, flavouring, emulsifier\n",
      "fortified-wheat-flour, cereal, flour, wheat, cereal-flour, wheat-flour, water, yeast, salt, sugar, added-sugar, disaccharide, soya-oil, oil-and-fat, vegetable-oil-and-fat, vegetable-oil, e282, e472e, monoglycerides, grain-vinegar, vinegar, soya-lecithin, e322, e322i, e330, wheat-gluten, gluten, e917, e516, barley-malt-flour, barley, barley-flour, reduced-iron, minerals, iron, e375, thiamin-mononitrate, thiamin, e101, folic-acid, folate, preservative\n",
      "oat-flakes, cereal, oat, sweetener, dried-apricots, fruit, prunus-species-fruit, apricot, wheat-flakes, wheat, humectant, coconut-fat, oil-and-fat, vegetable-oil-and-fat, vegetable-fat, colza-oil, rapeseed-oil, emulsifier, e330, salt, flavouring, cholecalciferol, vitamin-d, iron-fumarate, minerals, iron, e965, e422, e322, rice, corn\n",
      "pasteurised-cow-s-milk, dairy, milk, pasteurised-milk, cow-s-milk, salt, ferment, rennet, enzyme, coagulating-enzyme, preservative, e235, e202, e153\n",
      "whole-pasteurized-cultured-goat-milk, salt, enzyme\n",
      "pasteurised-cow-s-milk, dairy, milk, pasteurised-milk, cow-s-milk, sheeps-milk, salt, rennet, enzyme, coagulating-enzyme, stabiliser, lactic-ferments, ferment, microbial-culture, e509, preservative, e235\n",
      "chicken-broth, poultry, chicken, broth, poultry-broth, chicken-fat, oil-and-fat, fat, animal-fat, poultry-fat, wheat-flour, cereal, flour, wheat, cereal-flour, modified-starch, starch, contains-less-than-2-of, salt, dehydrated-onion, vegetable, root-vegetable, onion-family-vegetable, onion, flavouring, yeast-extract, yeast, spice, condiment, chicken-meat, sugar, added-sugar, disaccharide, beta-carotene-for-color, turmeric, whey, dairy\n",
      "pimiento, vegetable, fruit-vegetable, chili-pepper, water, salt, e330\n",
      "whole-durum-wheat-semolina, cereal, wheat, durum-wheat, semolina, durum-wheat-semolina, water\n",
      "coating, breadcrumbs, yeast, salt, water, spice-extract, condiment, spice, acid, e327, wheat-flour, cereal, flour, wheat, cereal-flour, e262i, e262\n",
      "apple-puree, fruit, malaceous-fruit, apple, puree\n"
     ]
    }
   ],
   "source": [
    "uniques_ingredients = df['ingredients'].unique()\n",
    "uniques_ingredients_list = list(uniques_ingredients)\n",
    "for value in uniques_ingredients_list:\n",
    "    print(value)"
   ]
  },
  {
   "cell_type": "code",
   "execution_count": 35,
   "metadata": {},
   "outputs": [
    {
     "name": "stdout",
     "output_type": "stream",
     "text": [
      "snacks\n",
      "empty\n",
      "plant-based-foods-and-beverages, plant-based-foods, fruits-and-vegetables-based-foods, vegetables-based-foods\n",
      "plant-based-foods-and-beverages, plant-based-foods, cereals-and-potatoes, seeds, cereals-and-their-products, cereal-grains\n",
      "meats-and-their-products, meats, prepared-meats, cured-sausages\n",
      "plant-based-foods-and-beverages, plant-based-foods, fruits-and-vegetables-based-foods, canned-foods, vegetables-based-foods, canned-plant-based-foods, pickles, canned-vegetables, olive-tree-products, plant-based-pickles, olives, pickled-vegetables\n",
      "meats-and-their-products, meals, meals-with-meat, poultry-meals, meals-with-chicken, microwave-meals\n",
      "sweet-pies\n",
      "meats-and-their-products, meats, chicken-and-its-products, poultries, chickens\n",
      "snacks, sweet-snacks, confectioneries, candies\n",
      "plant-based-foods-and-beverages, plant-based-foods, snacks, cereals-and-potatoes, salty-snacks, appetizers, chips-and-fries, crisps, potato-crisps\n",
      "snacks, sweet-snacks, cocoa-and-its-products, confectioneries, chocolate-candies\n",
      "seafood\n",
      "plant-based-foods-and-beverages, plant-based-foods, cereals-and-potatoes, breads, breadsticks\n",
      "condiments, sauces, barbecue-sauces\n",
      "dairies, fermented-foods, fermented-milk-products, cheeses, fresh-cheeses, cottage-cheeses\n",
      "frozen-foods\n",
      "snacks, sweet-snacks, biscuits-and-cakes, biscuits, chocolate-biscuits, milk-chocolate-biscuits\n",
      "plant-based-foods-and-beverages, plant-based-foods, fruits-and-vegetables-based-foods, fruits-based-foods, fruits, berries, blueberries\n",
      "snacks, sweet-snacks, cocoa-and-its-products, confectioneries, chocolate-candies, bonbons\n",
      "meals, prepared-salads, meals-with-fish, salads-with-fish, tuna-salads, salads\n",
      "plant-based-foods-and-beverages, plant-based-foods, breakfasts, spreads, plant-based-spreads, sweet-spreads, fruit-and-vegetable-preserves, jams, figs-jams\n",
      "plant-based-foods-and-beverages, plant-based-foods, coffees\n",
      "plant-based-foods-and-beverages, plant-based-foods, cereals-and-potatoes, bakery-products, pizza-dough\n",
      "crepes-and-galettes, galettes, plain-buckwheat-crepes\n",
      "snacks, sweet-snacks, biscuits-and-cakes, biscuits, chocolate-biscuits, crepes-dentelle, crepes-dentelle-with-chocolate\n",
      "dairies, fermented-foods, fermented-milk-products, desserts, dairy-desserts, fermented-dairy-desserts\n",
      "sandwiches, hamburgers\n",
      "plant-based-foods-and-beverages, plant-based-foods, cereals-and-potatoes, seeds, cereals-and-their-products, cereal-grains, chia\n",
      "breakfasts, spreads, sweet-spreads\n",
      "snacks, sweet-snacks, biscuits-and-cakes, pastries, eclairs, coffee-eclairs\n",
      "seafood, frozen-foods, crustaceans, frozen-seafood, shrimps\n",
      "plant-based-foods-and-beverages, plant-based-foods, spreads, plant-based-spreads, chutneys, fruit-chutneys, mango-chutneys\n",
      "meat-alternatives, meat-analogues\n",
      "snacks, sweet-snacks, sweet-pastries-and-pies, viennoiseries, brioches, panettone\n",
      "condiments, sauces, groceries\n",
      "condiments, groceries\n",
      "plant-based-foods-and-beverages, plant-based-foods, breakfasts, cereals-and-potatoes, cereals-and-their-products, frozen-foods, breakfast-cereals, porridge\n",
      "condiments\n",
      "desserts, frozen-foods, frozen-desserts, ice-creams-and-sorbets, sorbets, strawberry-sorbets\n",
      "plant-based-foods-and-beverages, plant-based-foods, condiments, spreads, plant-based-spreads, salted-spreads, sauces, dips, hummus\n",
      "snacks, sweet-snacks, bars\n",
      "meats-and-their-products, meats, poultries\n",
      "plant-based-foods-and-beverages, plant-based-foods, cereals-and-potatoes, cereals-and-their-products, pastas, spaghetti\n",
      "meals, pasta-dishes, stuffed-pastas, ravioli\n",
      "condiments, vinegars, cider-vinegars\n",
      "farming-products, eggs\n",
      "plant-based-foods-and-beverages, plant-based-foods, cereals-and-potatoes, cereals-and-their-products, pie-dough, puff-pastry-sheets, refrigerated-foods\n",
      "meats-and-their-products, meats\n",
      "desserts, frozen-foods, frozen-desserts\n",
      "plant-based-foods-and-beverages, beverages, hot-beverages, plant-based-beverages, herbal-teas, herbal-tea-beverages\n",
      "meals, pasta-dishes, stuffed-pastas\n",
      "plant-based-foods-and-beverages, plant-based-foods, fruits-and-vegetables-based-foods, fruits-based-foods, dried-products, dried-plant-based-foods, dried-fruits, dried-bananas\n",
      "frozen-foods, meals, pizzas-pies-and-quiches, pizzas, frozen-pizzas-and-pies, frozen-pizzas\n",
      "snacks, salty-snacks, appetizers\n",
      "snacks, sweet-snacks, biscuits-and-cakes, biscuits, dry-biscuits\n",
      "plant-based-foods-and-beverages, plant-based-foods, fruits-and-vegetables-based-foods, vegetables-based-foods, frozen-foods, frozen-plant-based-foods, frozen-vegetables\n",
      "condiments, sauces, tomato-sauces, ketchup\n",
      "dairies, fermented-foods, fermented-milk-products, cheeses, italian-cheeses, grana-padano\n",
      "snacks, sweet-snacks, cocoa-and-its-products, confectioneries, bars, chocolate-candies, bars-covered-with-chocolate\n",
      "snacks, salty-snacks, sweet-snacks, appetizers, biscuits-and-cakes, crackers\n",
      "plant-based-foods-and-beverages, plant-based-foods, cereals-and-potatoes, breads\n",
      "snacks, sweet-snacks, sweet-fritters\n",
      "spreads\n",
      "dairies, fermented-foods, fermented-milk-products, desserts, dairy-desserts, fermented-dairy-desserts, yogurts\n",
      "meats-and-their-products, meats, prepared-meats, specific-products, hams, products-for-specific-diets, white-hams, products-with-reduced-salt, prepared-meats-with-less-salt, white-hams-with-less-salt\n",
      "plant-based-foods-and-beverages, beverages, plant-based-foods, cereals-and-potatoes, dairy-substitutes, cereals-and-their-products, milk-substitutes, plant-based-beverages, plant-based-milk-alternatives, cereal-based-drinks, oat-based-drinks\n",
      "meals, refrigerated-foods, prepared-rices, refrigerated-meals, fried-rice\n",
      "plant-based-foods-and-beverages, plant-based-foods, fruits-and-vegetables-based-foods, fruits-based-foods, fruits, dates\n",
      "plant-based-foods-and-beverages, beverages, dairies, dairy-substitutes, milk-substitutes, plant-based-beverages, milks, plant-based-milk-alternatives\n",
      "sweet-pies, pies, tartlets, crostatina\n",
      "beverages, sweetened-beverages\n",
      "non-food-products, open-beauty-facts\n",
      "dairies, fermented-foods, fermented-milk-products, cheeses, cheeses-of-the-netherlands\n",
      "plant-based-foods-and-beverages, plant-based-foods, fruits-and-vegetables-based-foods, desserts, fruits-based-foods, compotes, apple-compotes, banana-apple-compotes\n",
      "plant-based-foods-and-beverages, plant-based-foods, fats, vegetable-fats, olive-tree-products, vegetable-oils, olive-oils\n",
      "plantain-chips\n",
      "snacks, sweet-snacks, confectioneries, festive-foods, christmas-foods-and-drinks, christmas-sweets, chocolate-covered-coconut-balls\n",
      "dairies, milks, lactose-free-milk\n",
      "dairies, fermented-foods, fermented-milk-products, cheeses, cow-cheeses, french-cheeses, uncooked-pressed-cheeses, morbier\n",
      "plant-based-foods-and-beverages, plant-based-foods, fruits-and-vegetables-based-foods, fruits-based-foods, dried-products, dried-plant-based-foods, dried-fruits, dried-apples\n",
      "plant-based-foods-and-beverages, plant-based-foods, fruits-and-vegetables-based-foods, vegetables-based-foods, vegetables, vegetable-rods, asparagus, white-asparagus\n",
      "dairies, fermented-foods, fermented-milk-products, cheeses, pasteurized-cheeses\n",
      "plant-based-foods-and-beverages, plant-based-foods, coffees, coffee-beans\n",
      "plant-based-foods-and-beverages, beverages, plant-based-foods, hot-beverages, coffees, capsules, coffee-capsules, senseo-compatible-coffee-capsules\n",
      "seafood, fishes-and-their-products, fishes, fatty-fishes, salmons, norwegian-salmon\n",
      "seafood, mollusc, mussels\n",
      "breakfasts, spreads, sweet-spreads, bee-products, farming-products, sweeteners, honeys, flower-honeys\n",
      "plant-based-foods-and-beverages, plant-based-foods, condiments, spices, food-additives, flavors, vanilla, vanilla-extract\n",
      "meals, prepared-salads, salads\n",
      "specific-products, licensed-products\n",
      "desserts, puddings\n",
      "dietary-supplements, bodybuilding-supplements, protein-bars\n",
      "plant-based-foods-and-beverages, plant-based-foods, fruits-and-vegetables-based-foods, fruits-based-foods, dried-products, fruits, dried-plant-based-foods, dried-fruits, french-fruits, dried-prunes\n",
      "snacks, sweet-snacks, confectioneries\n",
      "snacks, sweet-snacks, confectioneries, candies, liquorice-candies\n",
      "plant-based-foods-and-beverages, plant-based-foods, snacks, nuts-and-their-products, nuts, almonds, whole-almonds\n",
      "dairies, fermented-foods, fermented-milk-products, cheeses\n",
      "plant-based-foods-and-beverages, plant-based-foods, pickles, olive-tree-products, plant-based-pickles, olives, stuffed-olives, salted-snacks\n",
      "dietary-supplements, vitamins\n",
      "snacks, sweet-snacks, cocoa-and-its-products, confectioneries, chocolate-candies, chocolates, assorted-chocolates\n",
      "meats-and-their-products, meats, prepared-meats, sausages\n",
      "dairies, milks, cow-milks\n",
      "plant-based-foods-and-beverages, plant-based-foods, cereals-and-potatoes, cereals-and-their-products, groats\n",
      "plant-based-foods-and-beverages, beverages, plant-based-beverages, tea-based-beverages, iced-teas\n",
      "snacks, sweet-snacks, confectioneries, festive-foods, christmas-foods-and-drinks, christmas-sweets, turron\n",
      "dietary-supplements, spirulina\n",
      "plant-based-foods-and-beverages, plant-based-foods, fruits-and-vegetables-based-foods, vegetables-based-foods, vegetables, mixed-vegetables\n",
      "canned-foods, meats-and-their-products, meals, meals-with-meat, beef-dishes, canned-meals, chili-con-carne\n",
      "meats-and-their-products, meats, prepared-meats, cured-sausages, dry-sausages\n",
      "snacks, sweet-snacks, sweet-pastries-and-pies, viennoiseries, breads-with-raisins\n",
      "plant-based-foods-and-beverages, plant-based-foods, prepared-vegetables, baked-beans-in-tomato-sauce\n",
      "meals, pasta-dishes, prepared-lasagne, meat-lasagnas, bolognese-lasagne\n",
      "canned-foods\n",
      "plant-based-foods-and-beverages, plant-based-foods, cereals-and-potatoes, breads, special-breads\n",
      "meats-and-their-products, prepared-meats, sausages\n",
      "plant-based-foods-and-beverages, plant-based-foods, legumes-and-their-products, canned-foods, legumes, canned-plant-based-foods, canned-legumes, canned-common-beans\n",
      "ingredient\n",
      "meats-and-their-products, prepared-meats, sausages, german-sausages\n",
      "plant-based-foods-and-beverages, plant-based-foods, spreads, plant-based-spreads, salted-spreads, vegan-vegetable-spreads, streichcreme\n",
      "beverages-and-beverages-preparations, beverages, alcoholic-beverages\n",
      "dairies, snacks, desserts, sweet-snacks, dairy-desserts, biscuits-and-cakes, cakes\n",
      "plant-based-foods-and-beverages, plant-based-foods, legumes-and-their-products, meat-alternatives, meat-analogues, tofu, plain-tofu\n",
      "beverages, alcoholic-beverages, wines\n",
      "plant-based-foods-and-beverages, plant-based-foods, food-additives\n",
      "condiments, sauces, meal-sauces, pasta-sauces, tomato-sauces, tomato-sauces-with-basil, groceries\n",
      "beverages, alcoholic-beverages, beers, artisan-products, artisanal-spirits, craft-beers\n",
      "beverages\n",
      "dairies, milks, homogenized-milks, semi-skimmed-milks, uht-milks\n",
      "desserts, frozen-foods, frozen-desserts, ice-creams-and-sorbets, sorbets, blackcurrent-sorbets\n",
      "snacks, sweet-snacks, cocoa-and-its-products, chocolates, milk-chocolates, chocolates-with-almonds, milk-chocolates-with-almonds\n",
      "plant-based-foods-and-beverages, plant-based-foods, fruits-and-vegetables-based-foods, vegetables-based-foods, vegetables, tomatoes-and-their-products, tomatoes, tomato-pastes\n",
      "condiments, sauces, barbecue-sauces, groceries\n",
      "plant-based-foods-and-beverages, beverages, hot-beverages, plant-based-beverages, herbal-teas\n",
      "plant-based-foods-and-beverages, plant-based-foods, fruits-and-vegetables-based-foods, legumes-and-their-products, canned-foods, legumes, vegetables-based-foods, canned-plant-based-foods, vegetables, canned-vegetables, green-beans, canned-legumes, canned-green-beans\n",
      "beverages-and-beverages-preparations, beverages, alcoholic-beverages, beers\n",
      "meats-and-their-products, meats, pork-and-its-products, pork, pork-ribs\n",
      "plant-based-foods-and-beverages, plant-based-foods, pastas, egg-pastas\n",
      "dairies, fermented-foods, fermented-milk-products, cheeses, cow-cheeses, hard-cheeses, emmentaler, french-cheeses, french-emmentaler, grated-cheese, grated-emmentaler\n",
      "meats-and-their-products, meats, prepared-meats\n",
      "snacks, sweet-snacks, cocoa-and-its-products, chocolates, plant-milk-chocolates\n",
      "plant-based-foods-and-beverages, plant-based-foods\n",
      "plant-based-foods-and-beverages, plant-based-foods, fruits-and-vegetables-based-foods, fruits-based-foods, dried-products, dried-plant-based-foods, dried-fruits\n",
      "snacks, sweet-snacks, confectioneries, festive-foods, halloween-foods-and-drinks\n",
      "plant-based-foods-and-beverages, plant-based-foods, fats, vegetable-fats, olive-tree-products, vegetable-oils, olive-oils, extra-virgin-olive-oils, virgin-olive-oils, huile-d-olive-vierge-extra\n",
      "dairies, desserts, dairy-desserts, chocolate-desserts, sweet-mousses, dairy-mousses, chocolate-mousses\n",
      "snacks, sweet-snacks, bars, cereal-bars\n",
      "plant-based-foods-and-beverages, plant-based-foods, condiments, spreads, plant-based-spreads, sauces, dips, guacamoles, groceries\n",
      "dairies, fermented-foods, fermented-milk-products, cheeses, mountain-products, french-cheeses, mountain-cheeses, tomme-cheese-from-cow-s-milk\n",
      "meats-and-their-products, meats, prepared-meats, fish-and-meat-and-eggs, offals, tripe-dishes, black-pudding, sauteed-black-pudding\n",
      "dairies, fermented-foods, fermented-milk-products, cheeses, cow-cheeses, sheep-s-milk-cheeses\n",
      "plant-based-foods-and-beverages, plant-based-foods, fruits-and-vegetables-based-foods, fruits-based-foods, dried-products, dried-plant-based-foods, dried-fruits, raisins, sultana-raisins\n",
      "salted-snacks\n",
      "plant-based-foods-and-beverages, plant-based-foods, cereals-and-potatoes, cereals-and-their-products, pastas, cereal-pastas, durum-wheat-pasta, whole-durum-wheat-pasta\n",
      "meats-and-their-products, meat-preparations, meats, poultries, turkey-and-its-products, breaded-products, cooked-poultries, turkeys, breaded-meat-cutlets, turkey-cutlets, turkey-preparations, breaded-turkey, breaded-turkey-cutlets\n",
      "baby-foods\n"
     ]
    }
   ],
   "source": [
    "uniques_categories = df['categories'].unique()\n",
    "uniques_categories_list = list(uniques_categories)\n",
    "for value in uniques_categories_list:\n",
    "    print(value)"
   ]
  },
  {
   "cell_type": "code",
   "execution_count": 36,
   "metadata": {},
   "outputs": [
    {
     "name": "stdout",
     "output_type": "stream",
     "text": [
      "0.0\n",
      "0.5555555556\n",
      "0.1111111111\n",
      "0.2222222222\n",
      "0.3333333333\n",
      "1.0\n",
      "0.4444444444\n",
      "0.6666666667\n",
      "0.7777777778\n"
     ]
    }
   ],
   "source": [
    "uniques_labels_note = df['labels_note'].unique()\n",
    "uniques_labels_note_list = list(uniques_labels_note)\n",
    "for value in uniques_labels_note_list:\n",
    "    print(value)"
   ]
  },
  {
   "cell_type": "code",
   "execution_count": 37,
   "metadata": {},
   "outputs": [
    {
     "data": {
      "text/html": [
       "<div>\n",
       "<style scoped>\n",
       "    .dataframe tbody tr th:only-of-type {\n",
       "        vertical-align: middle;\n",
       "    }\n",
       "\n",
       "    .dataframe tbody tr th {\n",
       "        vertical-align: top;\n",
       "    }\n",
       "\n",
       "    .dataframe thead th {\n",
       "        text-align: right;\n",
       "    }\n",
       "</style>\n",
       "<table border=\"1\" class=\"dataframe\">\n",
       "  <thead>\n",
       "    <tr style=\"text-align: right;\">\n",
       "      <th></th>\n",
       "      <th>groups</th>\n",
       "      <th>ecoscore_score</th>\n",
       "      <th>countries</th>\n",
       "      <th>labels_note</th>\n",
       "    </tr>\n",
       "  </thead>\n",
       "  <tbody>\n",
       "    <tr>\n",
       "      <th>count</th>\n",
       "      <td>500.000000</td>\n",
       "      <td>500.000000</td>\n",
       "      <td>500.000000</td>\n",
       "      <td>500.000000</td>\n",
       "    </tr>\n",
       "    <tr>\n",
       "      <th>mean</th>\n",
       "      <td>0.423511</td>\n",
       "      <td>49.312000</td>\n",
       "      <td>0.534275</td>\n",
       "      <td>0.068889</td>\n",
       "    </tr>\n",
       "    <tr>\n",
       "      <th>std</th>\n",
       "      <td>0.156317</td>\n",
       "      <td>9.701696</td>\n",
       "      <td>0.340564</td>\n",
       "      <td>0.146358</td>\n",
       "    </tr>\n",
       "    <tr>\n",
       "      <th>min</th>\n",
       "      <td>0.000000</td>\n",
       "      <td>0.000000</td>\n",
       "      <td>0.000000</td>\n",
       "      <td>0.000000</td>\n",
       "    </tr>\n",
       "    <tr>\n",
       "      <th>25%</th>\n",
       "      <td>0.444444</td>\n",
       "      <td>49.000000</td>\n",
       "      <td>0.311475</td>\n",
       "      <td>0.000000</td>\n",
       "    </tr>\n",
       "    <tr>\n",
       "      <th>50%</th>\n",
       "      <td>0.444444</td>\n",
       "      <td>49.000000</td>\n",
       "      <td>0.333333</td>\n",
       "      <td>0.000000</td>\n",
       "    </tr>\n",
       "    <tr>\n",
       "      <th>75%</th>\n",
       "      <td>0.444444</td>\n",
       "      <td>49.000000</td>\n",
       "      <td>0.874488</td>\n",
       "      <td>0.111111</td>\n",
       "    </tr>\n",
       "    <tr>\n",
       "      <th>max</th>\n",
       "      <td>1.000000</td>\n",
       "      <td>100.000000</td>\n",
       "      <td>1.000000</td>\n",
       "      <td>1.000000</td>\n",
       "    </tr>\n",
       "  </tbody>\n",
       "</table>\n",
       "</div>"
      ],
      "text/plain": [
       "           groups  ecoscore_score   countries  labels_note\n",
       "count  500.000000      500.000000  500.000000   500.000000\n",
       "mean     0.423511       49.312000    0.534275     0.068889\n",
       "std      0.156317        9.701696    0.340564     0.146358\n",
       "min      0.000000        0.000000    0.000000     0.000000\n",
       "25%      0.444444       49.000000    0.311475     0.000000\n",
       "50%      0.444444       49.000000    0.333333     0.000000\n",
       "75%      0.444444       49.000000    0.874488     0.111111\n",
       "max      1.000000      100.000000    1.000000     1.000000"
      ]
     },
     "execution_count": 37,
     "metadata": {},
     "output_type": "execute_result"
    }
   ],
   "source": [
    "df.describe()"
   ]
  },
  {
   "cell_type": "code",
   "execution_count": 38,
   "metadata": {},
   "outputs": [],
   "source": [
    "def load_jsonl_to_dataframe(file_path):\n",
    "    data = []\n",
    "    with open(file_path, 'r') as file:\n",
    "        for line in file:\n",
    "            data.append(json.loads(line))\n",
    "    df = pd.DataFrame(data)\n",
    "    return df\n",
    "\n",
    "def create_treemap_for_column(df, column_name):\n",
    "    if column_name not in df.columns:\n",
    "        print(f\"warning, column: '{column_name}'does not exists\")\n",
    "        return\n",
    "    data = df[column_name].value_counts().reset_index()\n",
    "    data.columns = [column_name, 'count']\n",
    "    fig = go.Figure(go.Treemap(\n",
    "        labels=data[column_name],\n",
    "        parents=[\"\"] * len(data),\n",
    "        values=data['count'],\n",
    "        textinfo='label+value',  \n",
    "    ))\n",
    "    fig.update_layout(\n",
    "        title=f'treemap column: {column_name}',\n",
    "        paper_bgcolor='black',  \n",
    "        plot_bgcolor='grey',   \n",
    "        font_color='white'      \n",
    "    )\n",
    "    fig.show()"
   ]
  },
  {
   "cell_type": "code",
   "execution_count": 39,
   "metadata": {},
   "outputs": [
    {
     "data": {
      "application/vnd.plotly.v1+json": {
       "config": {
        "plotlyServerURL": "https://plot.ly"
       },
       "data": [
        {
         "labels": [
          "empty",
          "b",
          "d",
          "c",
          "e",
          "a"
         ],
         "parents": [
          "",
          "",
          "",
          "",
          "",
          ""
         ],
         "textinfo": "label+value",
         "type": "treemap",
         "values": [
          503823,
          43845,
          29990,
          27243,
          17095,
          5792
         ]
        }
       ],
       "layout": {
        "font": {
         "color": "white"
        },
        "paper_bgcolor": "black",
        "plot_bgcolor": "grey",
        "template": {
         "data": {
          "bar": [
           {
            "error_x": {
             "color": "#2a3f5f"
            },
            "error_y": {
             "color": "#2a3f5f"
            },
            "marker": {
             "line": {
              "color": "#E5ECF6",
              "width": 0.5
             },
             "pattern": {
              "fillmode": "overlay",
              "size": 10,
              "solidity": 0.2
             }
            },
            "type": "bar"
           }
          ],
          "barpolar": [
           {
            "marker": {
             "line": {
              "color": "#E5ECF6",
              "width": 0.5
             },
             "pattern": {
              "fillmode": "overlay",
              "size": 10,
              "solidity": 0.2
             }
            },
            "type": "barpolar"
           }
          ],
          "carpet": [
           {
            "aaxis": {
             "endlinecolor": "#2a3f5f",
             "gridcolor": "white",
             "linecolor": "white",
             "minorgridcolor": "white",
             "startlinecolor": "#2a3f5f"
            },
            "baxis": {
             "endlinecolor": "#2a3f5f",
             "gridcolor": "white",
             "linecolor": "white",
             "minorgridcolor": "white",
             "startlinecolor": "#2a3f5f"
            },
            "type": "carpet"
           }
          ],
          "choropleth": [
           {
            "colorbar": {
             "outlinewidth": 0,
             "ticks": ""
            },
            "type": "choropleth"
           }
          ],
          "contour": [
           {
            "colorbar": {
             "outlinewidth": 0,
             "ticks": ""
            },
            "colorscale": [
             [
              0,
              "#0d0887"
             ],
             [
              0.1111111111111111,
              "#46039f"
             ],
             [
              0.2222222222222222,
              "#7201a8"
             ],
             [
              0.3333333333333333,
              "#9c179e"
             ],
             [
              0.4444444444444444,
              "#bd3786"
             ],
             [
              0.5555555555555556,
              "#d8576b"
             ],
             [
              0.6666666666666666,
              "#ed7953"
             ],
             [
              0.7777777777777778,
              "#fb9f3a"
             ],
             [
              0.8888888888888888,
              "#fdca26"
             ],
             [
              1,
              "#f0f921"
             ]
            ],
            "type": "contour"
           }
          ],
          "contourcarpet": [
           {
            "colorbar": {
             "outlinewidth": 0,
             "ticks": ""
            },
            "type": "contourcarpet"
           }
          ],
          "heatmap": [
           {
            "colorbar": {
             "outlinewidth": 0,
             "ticks": ""
            },
            "colorscale": [
             [
              0,
              "#0d0887"
             ],
             [
              0.1111111111111111,
              "#46039f"
             ],
             [
              0.2222222222222222,
              "#7201a8"
             ],
             [
              0.3333333333333333,
              "#9c179e"
             ],
             [
              0.4444444444444444,
              "#bd3786"
             ],
             [
              0.5555555555555556,
              "#d8576b"
             ],
             [
              0.6666666666666666,
              "#ed7953"
             ],
             [
              0.7777777777777778,
              "#fb9f3a"
             ],
             [
              0.8888888888888888,
              "#fdca26"
             ],
             [
              1,
              "#f0f921"
             ]
            ],
            "type": "heatmap"
           }
          ],
          "heatmapgl": [
           {
            "colorbar": {
             "outlinewidth": 0,
             "ticks": ""
            },
            "colorscale": [
             [
              0,
              "#0d0887"
             ],
             [
              0.1111111111111111,
              "#46039f"
             ],
             [
              0.2222222222222222,
              "#7201a8"
             ],
             [
              0.3333333333333333,
              "#9c179e"
             ],
             [
              0.4444444444444444,
              "#bd3786"
             ],
             [
              0.5555555555555556,
              "#d8576b"
             ],
             [
              0.6666666666666666,
              "#ed7953"
             ],
             [
              0.7777777777777778,
              "#fb9f3a"
             ],
             [
              0.8888888888888888,
              "#fdca26"
             ],
             [
              1,
              "#f0f921"
             ]
            ],
            "type": "heatmapgl"
           }
          ],
          "histogram": [
           {
            "marker": {
             "pattern": {
              "fillmode": "overlay",
              "size": 10,
              "solidity": 0.2
             }
            },
            "type": "histogram"
           }
          ],
          "histogram2d": [
           {
            "colorbar": {
             "outlinewidth": 0,
             "ticks": ""
            },
            "colorscale": [
             [
              0,
              "#0d0887"
             ],
             [
              0.1111111111111111,
              "#46039f"
             ],
             [
              0.2222222222222222,
              "#7201a8"
             ],
             [
              0.3333333333333333,
              "#9c179e"
             ],
             [
              0.4444444444444444,
              "#bd3786"
             ],
             [
              0.5555555555555556,
              "#d8576b"
             ],
             [
              0.6666666666666666,
              "#ed7953"
             ],
             [
              0.7777777777777778,
              "#fb9f3a"
             ],
             [
              0.8888888888888888,
              "#fdca26"
             ],
             [
              1,
              "#f0f921"
             ]
            ],
            "type": "histogram2d"
           }
          ],
          "histogram2dcontour": [
           {
            "colorbar": {
             "outlinewidth": 0,
             "ticks": ""
            },
            "colorscale": [
             [
              0,
              "#0d0887"
             ],
             [
              0.1111111111111111,
              "#46039f"
             ],
             [
              0.2222222222222222,
              "#7201a8"
             ],
             [
              0.3333333333333333,
              "#9c179e"
             ],
             [
              0.4444444444444444,
              "#bd3786"
             ],
             [
              0.5555555555555556,
              "#d8576b"
             ],
             [
              0.6666666666666666,
              "#ed7953"
             ],
             [
              0.7777777777777778,
              "#fb9f3a"
             ],
             [
              0.8888888888888888,
              "#fdca26"
             ],
             [
              1,
              "#f0f921"
             ]
            ],
            "type": "histogram2dcontour"
           }
          ],
          "mesh3d": [
           {
            "colorbar": {
             "outlinewidth": 0,
             "ticks": ""
            },
            "type": "mesh3d"
           }
          ],
          "parcoords": [
           {
            "line": {
             "colorbar": {
              "outlinewidth": 0,
              "ticks": ""
             }
            },
            "type": "parcoords"
           }
          ],
          "pie": [
           {
            "automargin": true,
            "type": "pie"
           }
          ],
          "scatter": [
           {
            "fillpattern": {
             "fillmode": "overlay",
             "size": 10,
             "solidity": 0.2
            },
            "type": "scatter"
           }
          ],
          "scatter3d": [
           {
            "line": {
             "colorbar": {
              "outlinewidth": 0,
              "ticks": ""
             }
            },
            "marker": {
             "colorbar": {
              "outlinewidth": 0,
              "ticks": ""
             }
            },
            "type": "scatter3d"
           }
          ],
          "scattercarpet": [
           {
            "marker": {
             "colorbar": {
              "outlinewidth": 0,
              "ticks": ""
             }
            },
            "type": "scattercarpet"
           }
          ],
          "scattergeo": [
           {
            "marker": {
             "colorbar": {
              "outlinewidth": 0,
              "ticks": ""
             }
            },
            "type": "scattergeo"
           }
          ],
          "scattergl": [
           {
            "marker": {
             "colorbar": {
              "outlinewidth": 0,
              "ticks": ""
             }
            },
            "type": "scattergl"
           }
          ],
          "scattermapbox": [
           {
            "marker": {
             "colorbar": {
              "outlinewidth": 0,
              "ticks": ""
             }
            },
            "type": "scattermapbox"
           }
          ],
          "scatterpolar": [
           {
            "marker": {
             "colorbar": {
              "outlinewidth": 0,
              "ticks": ""
             }
            },
            "type": "scatterpolar"
           }
          ],
          "scatterpolargl": [
           {
            "marker": {
             "colorbar": {
              "outlinewidth": 0,
              "ticks": ""
             }
            },
            "type": "scatterpolargl"
           }
          ],
          "scatterternary": [
           {
            "marker": {
             "colorbar": {
              "outlinewidth": 0,
              "ticks": ""
             }
            },
            "type": "scatterternary"
           }
          ],
          "surface": [
           {
            "colorbar": {
             "outlinewidth": 0,
             "ticks": ""
            },
            "colorscale": [
             [
              0,
              "#0d0887"
             ],
             [
              0.1111111111111111,
              "#46039f"
             ],
             [
              0.2222222222222222,
              "#7201a8"
             ],
             [
              0.3333333333333333,
              "#9c179e"
             ],
             [
              0.4444444444444444,
              "#bd3786"
             ],
             [
              0.5555555555555556,
              "#d8576b"
             ],
             [
              0.6666666666666666,
              "#ed7953"
             ],
             [
              0.7777777777777778,
              "#fb9f3a"
             ],
             [
              0.8888888888888888,
              "#fdca26"
             ],
             [
              1,
              "#f0f921"
             ]
            ],
            "type": "surface"
           }
          ],
          "table": [
           {
            "cells": {
             "fill": {
              "color": "#EBF0F8"
             },
             "line": {
              "color": "white"
             }
            },
            "header": {
             "fill": {
              "color": "#C8D4E3"
             },
             "line": {
              "color": "white"
             }
            },
            "type": "table"
           }
          ]
         },
         "layout": {
          "annotationdefaults": {
           "arrowcolor": "#2a3f5f",
           "arrowhead": 0,
           "arrowwidth": 1
          },
          "autotypenumbers": "strict",
          "coloraxis": {
           "colorbar": {
            "outlinewidth": 0,
            "ticks": ""
           }
          },
          "colorscale": {
           "diverging": [
            [
             0,
             "#8e0152"
            ],
            [
             0.1,
             "#c51b7d"
            ],
            [
             0.2,
             "#de77ae"
            ],
            [
             0.3,
             "#f1b6da"
            ],
            [
             0.4,
             "#fde0ef"
            ],
            [
             0.5,
             "#f7f7f7"
            ],
            [
             0.6,
             "#e6f5d0"
            ],
            [
             0.7,
             "#b8e186"
            ],
            [
             0.8,
             "#7fbc41"
            ],
            [
             0.9,
             "#4d9221"
            ],
            [
             1,
             "#276419"
            ]
           ],
           "sequential": [
            [
             0,
             "#0d0887"
            ],
            [
             0.1111111111111111,
             "#46039f"
            ],
            [
             0.2222222222222222,
             "#7201a8"
            ],
            [
             0.3333333333333333,
             "#9c179e"
            ],
            [
             0.4444444444444444,
             "#bd3786"
            ],
            [
             0.5555555555555556,
             "#d8576b"
            ],
            [
             0.6666666666666666,
             "#ed7953"
            ],
            [
             0.7777777777777778,
             "#fb9f3a"
            ],
            [
             0.8888888888888888,
             "#fdca26"
            ],
            [
             1,
             "#f0f921"
            ]
           ],
           "sequentialminus": [
            [
             0,
             "#0d0887"
            ],
            [
             0.1111111111111111,
             "#46039f"
            ],
            [
             0.2222222222222222,
             "#7201a8"
            ],
            [
             0.3333333333333333,
             "#9c179e"
            ],
            [
             0.4444444444444444,
             "#bd3786"
            ],
            [
             0.5555555555555556,
             "#d8576b"
            ],
            [
             0.6666666666666666,
             "#ed7953"
            ],
            [
             0.7777777777777778,
             "#fb9f3a"
            ],
            [
             0.8888888888888888,
             "#fdca26"
            ],
            [
             1,
             "#f0f921"
            ]
           ]
          },
          "colorway": [
           "#636efa",
           "#EF553B",
           "#00cc96",
           "#ab63fa",
           "#FFA15A",
           "#19d3f3",
           "#FF6692",
           "#B6E880",
           "#FF97FF",
           "#FECB52"
          ],
          "font": {
           "color": "#2a3f5f"
          },
          "geo": {
           "bgcolor": "white",
           "lakecolor": "white",
           "landcolor": "#E5ECF6",
           "showlakes": true,
           "showland": true,
           "subunitcolor": "white"
          },
          "hoverlabel": {
           "align": "left"
          },
          "hovermode": "closest",
          "mapbox": {
           "style": "light"
          },
          "paper_bgcolor": "white",
          "plot_bgcolor": "#E5ECF6",
          "polar": {
           "angularaxis": {
            "gridcolor": "white",
            "linecolor": "white",
            "ticks": ""
           },
           "bgcolor": "#E5ECF6",
           "radialaxis": {
            "gridcolor": "white",
            "linecolor": "white",
            "ticks": ""
           }
          },
          "scene": {
           "xaxis": {
            "backgroundcolor": "#E5ECF6",
            "gridcolor": "white",
            "gridwidth": 2,
            "linecolor": "white",
            "showbackground": true,
            "ticks": "",
            "zerolinecolor": "white"
           },
           "yaxis": {
            "backgroundcolor": "#E5ECF6",
            "gridcolor": "white",
            "gridwidth": 2,
            "linecolor": "white",
            "showbackground": true,
            "ticks": "",
            "zerolinecolor": "white"
           },
           "zaxis": {
            "backgroundcolor": "#E5ECF6",
            "gridcolor": "white",
            "gridwidth": 2,
            "linecolor": "white",
            "showbackground": true,
            "ticks": "",
            "zerolinecolor": "white"
           }
          },
          "shapedefaults": {
           "line": {
            "color": "#2a3f5f"
           }
          },
          "ternary": {
           "aaxis": {
            "gridcolor": "white",
            "linecolor": "white",
            "ticks": ""
           },
           "baxis": {
            "gridcolor": "white",
            "linecolor": "white",
            "ticks": ""
           },
           "bgcolor": "#E5ECF6",
           "caxis": {
            "gridcolor": "white",
            "linecolor": "white",
            "ticks": ""
           }
          },
          "title": {
           "x": 0.05
          },
          "xaxis": {
           "automargin": true,
           "gridcolor": "white",
           "linecolor": "white",
           "ticks": "",
           "title": {
            "standoff": 15
           },
           "zerolinecolor": "white",
           "zerolinewidth": 2
          },
          "yaxis": {
           "automargin": true,
           "gridcolor": "white",
           "linecolor": "white",
           "ticks": "",
           "title": {
            "standoff": 15
           },
           "zerolinecolor": "white",
           "zerolinewidth": 2
          }
         }
        },
        "title": {
         "text": "treemap column: ecoscore_tags"
        }
       }
      }
     },
     "metadata": {},
     "output_type": "display_data"
    },
    {
     "data": {
      "application/vnd.plotly.v1+json": {
       "config": {
        "plotlyServerURL": "https://plot.ly"
       },
       "data": [
        {
         "labels": [
          49,
          79,
          67,
          72,
          34,
          0,
          77,
          21,
          39,
          42,
          27,
          50,
          75,
          15,
          37,
          43,
          44,
          76,
          60,
          36,
          25,
          54,
          78,
          38,
          45,
          12,
          35,
          74,
          100,
          64,
          19,
          68,
          70,
          62,
          16,
          30,
          71,
          58,
          22,
          57,
          18,
          55,
          59,
          73,
          48,
          47,
          32,
          66,
          29,
          40,
          51,
          69,
          28,
          4,
          53,
          23,
          52,
          56,
          41,
          24,
          31,
          65,
          63,
          9,
          46,
          26,
          20,
          33,
          2,
          17,
          6,
          8,
          14,
          5,
          81,
          61,
          85,
          3,
          13,
          1,
          80,
          91,
          83,
          82,
          11,
          88,
          10,
          90,
          84,
          92,
          89,
          87,
          94,
          93,
          7,
          86,
          95,
          96,
          99,
          98,
          97
         ],
         "parents": [
          "",
          "",
          "",
          "",
          "",
          "",
          "",
          "",
          "",
          "",
          "",
          "",
          "",
          "",
          "",
          "",
          "",
          "",
          "",
          "",
          "",
          "",
          "",
          "",
          "",
          "",
          "",
          "",
          "",
          "",
          "",
          "",
          "",
          "",
          "",
          "",
          "",
          "",
          "",
          "",
          "",
          "",
          "",
          "",
          "",
          "",
          "",
          "",
          "",
          "",
          "",
          "",
          "",
          "",
          "",
          "",
          "",
          "",
          "",
          "",
          "",
          "",
          "",
          "",
          "",
          "",
          "",
          "",
          "",
          "",
          "",
          "",
          "",
          "",
          "",
          "",
          "",
          "",
          "",
          "",
          "",
          "",
          "",
          "",
          "",
          "",
          "",
          "",
          "",
          "",
          "",
          "",
          "",
          "",
          "",
          "",
          "",
          "",
          "",
          "",
          ""
         ],
         "textinfo": "label+value",
         "type": "treemap",
         "values": [
          506925,
          9127,
          6377,
          4853,
          4482,
          3000,
          2644,
          2474,
          2380,
          2263,
          2193,
          2177,
          2176,
          2095,
          2016,
          1873,
          1822,
          1804,
          1790,
          1767,
          1759,
          1759,
          1687,
          1643,
          1617,
          1589,
          1578,
          1518,
          1501,
          1466,
          1461,
          1415,
          1392,
          1379,
          1340,
          1318,
          1260,
          1199,
          1195,
          1193,
          1129,
          1098,
          1092,
          1089,
          1044,
          1043,
          1031,
          1002,
          997,
          986,
          981,
          948,
          944,
          907,
          892,
          880,
          855,
          830,
          780,
          776,
          756,
          741,
          735,
          706,
          637,
          628,
          598,
          575,
          571,
          570,
          566,
          545,
          504,
          457,
          447,
          442,
          394,
          363,
          357,
          336,
          336,
          331,
          286,
          273,
          231,
          225,
          220,
          217,
          204,
          194,
          180,
          168,
          166,
          153,
          148,
          144,
          128,
          121,
          117,
          110,
          97
         ]
        }
       ],
       "layout": {
        "font": {
         "color": "white"
        },
        "paper_bgcolor": "black",
        "plot_bgcolor": "grey",
        "template": {
         "data": {
          "bar": [
           {
            "error_x": {
             "color": "#2a3f5f"
            },
            "error_y": {
             "color": "#2a3f5f"
            },
            "marker": {
             "line": {
              "color": "#E5ECF6",
              "width": 0.5
             },
             "pattern": {
              "fillmode": "overlay",
              "size": 10,
              "solidity": 0.2
             }
            },
            "type": "bar"
           }
          ],
          "barpolar": [
           {
            "marker": {
             "line": {
              "color": "#E5ECF6",
              "width": 0.5
             },
             "pattern": {
              "fillmode": "overlay",
              "size": 10,
              "solidity": 0.2
             }
            },
            "type": "barpolar"
           }
          ],
          "carpet": [
           {
            "aaxis": {
             "endlinecolor": "#2a3f5f",
             "gridcolor": "white",
             "linecolor": "white",
             "minorgridcolor": "white",
             "startlinecolor": "#2a3f5f"
            },
            "baxis": {
             "endlinecolor": "#2a3f5f",
             "gridcolor": "white",
             "linecolor": "white",
             "minorgridcolor": "white",
             "startlinecolor": "#2a3f5f"
            },
            "type": "carpet"
           }
          ],
          "choropleth": [
           {
            "colorbar": {
             "outlinewidth": 0,
             "ticks": ""
            },
            "type": "choropleth"
           }
          ],
          "contour": [
           {
            "colorbar": {
             "outlinewidth": 0,
             "ticks": ""
            },
            "colorscale": [
             [
              0,
              "#0d0887"
             ],
             [
              0.1111111111111111,
              "#46039f"
             ],
             [
              0.2222222222222222,
              "#7201a8"
             ],
             [
              0.3333333333333333,
              "#9c179e"
             ],
             [
              0.4444444444444444,
              "#bd3786"
             ],
             [
              0.5555555555555556,
              "#d8576b"
             ],
             [
              0.6666666666666666,
              "#ed7953"
             ],
             [
              0.7777777777777778,
              "#fb9f3a"
             ],
             [
              0.8888888888888888,
              "#fdca26"
             ],
             [
              1,
              "#f0f921"
             ]
            ],
            "type": "contour"
           }
          ],
          "contourcarpet": [
           {
            "colorbar": {
             "outlinewidth": 0,
             "ticks": ""
            },
            "type": "contourcarpet"
           }
          ],
          "heatmap": [
           {
            "colorbar": {
             "outlinewidth": 0,
             "ticks": ""
            },
            "colorscale": [
             [
              0,
              "#0d0887"
             ],
             [
              0.1111111111111111,
              "#46039f"
             ],
             [
              0.2222222222222222,
              "#7201a8"
             ],
             [
              0.3333333333333333,
              "#9c179e"
             ],
             [
              0.4444444444444444,
              "#bd3786"
             ],
             [
              0.5555555555555556,
              "#d8576b"
             ],
             [
              0.6666666666666666,
              "#ed7953"
             ],
             [
              0.7777777777777778,
              "#fb9f3a"
             ],
             [
              0.8888888888888888,
              "#fdca26"
             ],
             [
              1,
              "#f0f921"
             ]
            ],
            "type": "heatmap"
           }
          ],
          "heatmapgl": [
           {
            "colorbar": {
             "outlinewidth": 0,
             "ticks": ""
            },
            "colorscale": [
             [
              0,
              "#0d0887"
             ],
             [
              0.1111111111111111,
              "#46039f"
             ],
             [
              0.2222222222222222,
              "#7201a8"
             ],
             [
              0.3333333333333333,
              "#9c179e"
             ],
             [
              0.4444444444444444,
              "#bd3786"
             ],
             [
              0.5555555555555556,
              "#d8576b"
             ],
             [
              0.6666666666666666,
              "#ed7953"
             ],
             [
              0.7777777777777778,
              "#fb9f3a"
             ],
             [
              0.8888888888888888,
              "#fdca26"
             ],
             [
              1,
              "#f0f921"
             ]
            ],
            "type": "heatmapgl"
           }
          ],
          "histogram": [
           {
            "marker": {
             "pattern": {
              "fillmode": "overlay",
              "size": 10,
              "solidity": 0.2
             }
            },
            "type": "histogram"
           }
          ],
          "histogram2d": [
           {
            "colorbar": {
             "outlinewidth": 0,
             "ticks": ""
            },
            "colorscale": [
             [
              0,
              "#0d0887"
             ],
             [
              0.1111111111111111,
              "#46039f"
             ],
             [
              0.2222222222222222,
              "#7201a8"
             ],
             [
              0.3333333333333333,
              "#9c179e"
             ],
             [
              0.4444444444444444,
              "#bd3786"
             ],
             [
              0.5555555555555556,
              "#d8576b"
             ],
             [
              0.6666666666666666,
              "#ed7953"
             ],
             [
              0.7777777777777778,
              "#fb9f3a"
             ],
             [
              0.8888888888888888,
              "#fdca26"
             ],
             [
              1,
              "#f0f921"
             ]
            ],
            "type": "histogram2d"
           }
          ],
          "histogram2dcontour": [
           {
            "colorbar": {
             "outlinewidth": 0,
             "ticks": ""
            },
            "colorscale": [
             [
              0,
              "#0d0887"
             ],
             [
              0.1111111111111111,
              "#46039f"
             ],
             [
              0.2222222222222222,
              "#7201a8"
             ],
             [
              0.3333333333333333,
              "#9c179e"
             ],
             [
              0.4444444444444444,
              "#bd3786"
             ],
             [
              0.5555555555555556,
              "#d8576b"
             ],
             [
              0.6666666666666666,
              "#ed7953"
             ],
             [
              0.7777777777777778,
              "#fb9f3a"
             ],
             [
              0.8888888888888888,
              "#fdca26"
             ],
             [
              1,
              "#f0f921"
             ]
            ],
            "type": "histogram2dcontour"
           }
          ],
          "mesh3d": [
           {
            "colorbar": {
             "outlinewidth": 0,
             "ticks": ""
            },
            "type": "mesh3d"
           }
          ],
          "parcoords": [
           {
            "line": {
             "colorbar": {
              "outlinewidth": 0,
              "ticks": ""
             }
            },
            "type": "parcoords"
           }
          ],
          "pie": [
           {
            "automargin": true,
            "type": "pie"
           }
          ],
          "scatter": [
           {
            "fillpattern": {
             "fillmode": "overlay",
             "size": 10,
             "solidity": 0.2
            },
            "type": "scatter"
           }
          ],
          "scatter3d": [
           {
            "line": {
             "colorbar": {
              "outlinewidth": 0,
              "ticks": ""
             }
            },
            "marker": {
             "colorbar": {
              "outlinewidth": 0,
              "ticks": ""
             }
            },
            "type": "scatter3d"
           }
          ],
          "scattercarpet": [
           {
            "marker": {
             "colorbar": {
              "outlinewidth": 0,
              "ticks": ""
             }
            },
            "type": "scattercarpet"
           }
          ],
          "scattergeo": [
           {
            "marker": {
             "colorbar": {
              "outlinewidth": 0,
              "ticks": ""
             }
            },
            "type": "scattergeo"
           }
          ],
          "scattergl": [
           {
            "marker": {
             "colorbar": {
              "outlinewidth": 0,
              "ticks": ""
             }
            },
            "type": "scattergl"
           }
          ],
          "scattermapbox": [
           {
            "marker": {
             "colorbar": {
              "outlinewidth": 0,
              "ticks": ""
             }
            },
            "type": "scattermapbox"
           }
          ],
          "scatterpolar": [
           {
            "marker": {
             "colorbar": {
              "outlinewidth": 0,
              "ticks": ""
             }
            },
            "type": "scatterpolar"
           }
          ],
          "scatterpolargl": [
           {
            "marker": {
             "colorbar": {
              "outlinewidth": 0,
              "ticks": ""
             }
            },
            "type": "scatterpolargl"
           }
          ],
          "scatterternary": [
           {
            "marker": {
             "colorbar": {
              "outlinewidth": 0,
              "ticks": ""
             }
            },
            "type": "scatterternary"
           }
          ],
          "surface": [
           {
            "colorbar": {
             "outlinewidth": 0,
             "ticks": ""
            },
            "colorscale": [
             [
              0,
              "#0d0887"
             ],
             [
              0.1111111111111111,
              "#46039f"
             ],
             [
              0.2222222222222222,
              "#7201a8"
             ],
             [
              0.3333333333333333,
              "#9c179e"
             ],
             [
              0.4444444444444444,
              "#bd3786"
             ],
             [
              0.5555555555555556,
              "#d8576b"
             ],
             [
              0.6666666666666666,
              "#ed7953"
             ],
             [
              0.7777777777777778,
              "#fb9f3a"
             ],
             [
              0.8888888888888888,
              "#fdca26"
             ],
             [
              1,
              "#f0f921"
             ]
            ],
            "type": "surface"
           }
          ],
          "table": [
           {
            "cells": {
             "fill": {
              "color": "#EBF0F8"
             },
             "line": {
              "color": "white"
             }
            },
            "header": {
             "fill": {
              "color": "#C8D4E3"
             },
             "line": {
              "color": "white"
             }
            },
            "type": "table"
           }
          ]
         },
         "layout": {
          "annotationdefaults": {
           "arrowcolor": "#2a3f5f",
           "arrowhead": 0,
           "arrowwidth": 1
          },
          "autotypenumbers": "strict",
          "coloraxis": {
           "colorbar": {
            "outlinewidth": 0,
            "ticks": ""
           }
          },
          "colorscale": {
           "diverging": [
            [
             0,
             "#8e0152"
            ],
            [
             0.1,
             "#c51b7d"
            ],
            [
             0.2,
             "#de77ae"
            ],
            [
             0.3,
             "#f1b6da"
            ],
            [
             0.4,
             "#fde0ef"
            ],
            [
             0.5,
             "#f7f7f7"
            ],
            [
             0.6,
             "#e6f5d0"
            ],
            [
             0.7,
             "#b8e186"
            ],
            [
             0.8,
             "#7fbc41"
            ],
            [
             0.9,
             "#4d9221"
            ],
            [
             1,
             "#276419"
            ]
           ],
           "sequential": [
            [
             0,
             "#0d0887"
            ],
            [
             0.1111111111111111,
             "#46039f"
            ],
            [
             0.2222222222222222,
             "#7201a8"
            ],
            [
             0.3333333333333333,
             "#9c179e"
            ],
            [
             0.4444444444444444,
             "#bd3786"
            ],
            [
             0.5555555555555556,
             "#d8576b"
            ],
            [
             0.6666666666666666,
             "#ed7953"
            ],
            [
             0.7777777777777778,
             "#fb9f3a"
            ],
            [
             0.8888888888888888,
             "#fdca26"
            ],
            [
             1,
             "#f0f921"
            ]
           ],
           "sequentialminus": [
            [
             0,
             "#0d0887"
            ],
            [
             0.1111111111111111,
             "#46039f"
            ],
            [
             0.2222222222222222,
             "#7201a8"
            ],
            [
             0.3333333333333333,
             "#9c179e"
            ],
            [
             0.4444444444444444,
             "#bd3786"
            ],
            [
             0.5555555555555556,
             "#d8576b"
            ],
            [
             0.6666666666666666,
             "#ed7953"
            ],
            [
             0.7777777777777778,
             "#fb9f3a"
            ],
            [
             0.8888888888888888,
             "#fdca26"
            ],
            [
             1,
             "#f0f921"
            ]
           ]
          },
          "colorway": [
           "#636efa",
           "#EF553B",
           "#00cc96",
           "#ab63fa",
           "#FFA15A",
           "#19d3f3",
           "#FF6692",
           "#B6E880",
           "#FF97FF",
           "#FECB52"
          ],
          "font": {
           "color": "#2a3f5f"
          },
          "geo": {
           "bgcolor": "white",
           "lakecolor": "white",
           "landcolor": "#E5ECF6",
           "showlakes": true,
           "showland": true,
           "subunitcolor": "white"
          },
          "hoverlabel": {
           "align": "left"
          },
          "hovermode": "closest",
          "mapbox": {
           "style": "light"
          },
          "paper_bgcolor": "white",
          "plot_bgcolor": "#E5ECF6",
          "polar": {
           "angularaxis": {
            "gridcolor": "white",
            "linecolor": "white",
            "ticks": ""
           },
           "bgcolor": "#E5ECF6",
           "radialaxis": {
            "gridcolor": "white",
            "linecolor": "white",
            "ticks": ""
           }
          },
          "scene": {
           "xaxis": {
            "backgroundcolor": "#E5ECF6",
            "gridcolor": "white",
            "gridwidth": 2,
            "linecolor": "white",
            "showbackground": true,
            "ticks": "",
            "zerolinecolor": "white"
           },
           "yaxis": {
            "backgroundcolor": "#E5ECF6",
            "gridcolor": "white",
            "gridwidth": 2,
            "linecolor": "white",
            "showbackground": true,
            "ticks": "",
            "zerolinecolor": "white"
           },
           "zaxis": {
            "backgroundcolor": "#E5ECF6",
            "gridcolor": "white",
            "gridwidth": 2,
            "linecolor": "white",
            "showbackground": true,
            "ticks": "",
            "zerolinecolor": "white"
           }
          },
          "shapedefaults": {
           "line": {
            "color": "#2a3f5f"
           }
          },
          "ternary": {
           "aaxis": {
            "gridcolor": "white",
            "linecolor": "white",
            "ticks": ""
           },
           "baxis": {
            "gridcolor": "white",
            "linecolor": "white",
            "ticks": ""
           },
           "bgcolor": "#E5ECF6",
           "caxis": {
            "gridcolor": "white",
            "linecolor": "white",
            "ticks": ""
           }
          },
          "title": {
           "x": 0.05
          },
          "xaxis": {
           "automargin": true,
           "gridcolor": "white",
           "linecolor": "white",
           "ticks": "",
           "title": {
            "standoff": 15
           },
           "zerolinecolor": "white",
           "zerolinewidth": 2
          },
          "yaxis": {
           "automargin": true,
           "gridcolor": "white",
           "linecolor": "white",
           "ticks": "",
           "title": {
            "standoff": 15
           },
           "zerolinecolor": "white",
           "zerolinewidth": 2
          }
         }
        },
        "title": {
         "text": "treemap column: ecoscore_score"
        }
       }
      }
     },
     "metadata": {},
     "output_type": "display_data"
    },
    {
     "data": {
      "application/vnd.plotly.v1+json": {
       "config": {
        "plotlyServerURL": "https://plot.ly"
       },
       "data": [
        {
         "labels": [
          0.3114754098,
          1,
          0.8743169399,
          0.3333333333,
          0,
          0.4316939891,
          0.9945355191,
          0.1584699454,
          0.2960893855,
          0.2881355932,
          0.2544378698,
          0.0765027322,
          0.4207650273,
          0.9016393443,
          0.9734042553,
          0.0327868852,
          0.4189944134,
          0.8715083799,
          0.3031914894,
          0.3184357542,
          0.3152173913,
          0.3015873016,
          0.320754717,
          0.420212766,
          0.4347826087,
          0.6557377049,
          0.1147540984,
          0.1818181818,
          0.3244680851,
          0.7650273224,
          0.4124293785,
          0.7431693989,
          0.8510638298,
          0.2786885246,
          0.7595628415,
          0.4426229508,
          0.9625,
          0.2847682119,
          0.9944134078,
          0.6229508197,
          0.8961748634,
          0.2945205479,
          0.3989071038,
          0.8994413408,
          0.7486338798,
          0.1396648045,
          0.9680851064,
          0.5901639344,
          0.306010929,
          0.9682539683,
          0.1542553191,
          0.1256830601,
          0.3369565217,
          0.0218579235,
          0.5355191257,
          0.875,
          0.0382513661,
          0.6885245902,
          0.3107344633,
          0.3227513228,
          0.2349726776,
          0.8639053254,
          0.2295081967,
          0.9945652174,
          0.2781065089,
          0.8465608466,
          0.3,
          0.0558659218,
          0.8087431694,
          0.9289617486,
          0.5300546448,
          0.4095744681,
          0.3879781421,
          0.417989418,
          0.2857142857,
          0.8988095238,
          0.8633879781,
          0.0319148936,
          0.6612021858,
          0.0111731844,
          0.4078212291,
          0.1630434783,
          0.8736263736,
          0.2834224599,
          0.3076923077,
          0.2921348315,
          0.8360655738,
          0.3085714286,
          0.8776595745,
          0.0451977401,
          0.4043715847,
          0.737704918,
          0.9943502825,
          0.9889502762,
          0.255952381,
          0.3442622951,
          0.972826087,
          0.962962963,
          0.3097826087,
          0.0744680851,
          0.8700564972,
          0.9891891892,
          0.4293478261,
          0.8983050847,
          0.9890710383,
          0.9617486339,
          0.1857923497,
          0.4262295082,
          0.2880434783,
          0.174863388,
          0.9685863874,
          0.0815217391,
          0.8342245989,
          0.4074074074,
          0.9836065574,
          0.902173913,
          0.3081081081,
          0.2131147541,
          0.3149171271,
          0.1534391534,
          0.0380434783,
          0.7540983607,
          0.8196721311,
          0.7584269663,
          0.873015873,
          0.3405405405,
          0.3089005236,
          0.5519125683,
          0.4378378378,
          0.4143646409,
          0.0740740741,
          0.6480446927,
          0.427027027,
          0.1117021277,
          0.8415300546,
          0.2928176796,
          0.3297297297,
          0.0736842105,
          0.4076086957,
          0.5762711864,
          0.0317460317,
          0.4239130435,
          0.4308510638,
          0.3189189189,
          0.8695652174,
          0.956284153,
          0.9935064935,
          0.6382978723,
          0.1299435028,
          0.4808743169,
          0.8756756757,
          0.094972067,
          0.8926553672,
          0.4153005464,
          0.9943820225,
          0.3298429319,
          0.861878453,
          0.9572192513,
          0.8934911243,
          0.218579235,
          0.3846153846,
          0.8648648649,
          0.4301675978,
          0.8421052632,
          0.7234042553,
          0.847826087,
          0.262295082,
          0.4136125654,
          0.7374301676,
          0.8723404255,
          0.0714285714,
          0.5251396648,
          0.7430167598,
          0.8938547486,
          0.4011299435,
          0.9891304348,
          0.2841530055,
          0.7446808511,
          0.9633507853,
          0.8684210526,
          0.5810055866,
          0.3315217391,
          0.1336898396,
          0.6272189349,
          0.1223404255,
          0.2905027933,
          0.0167597765,
          0.138121547,
          0.1111111111,
          0.8469945355,
          0.6145251397,
          0.4010695187,
          0.5573770492,
          0.2122905028,
          0.9940828402,
          0.3882978723,
          0.9518716578,
          0.7541899441,
          0.4285714286,
          0.6349206349,
          0.9673913043,
          0.6815642458,
          0.9672131148,
          0.1576086957,
          0.670212766,
          0.6436170213,
          0.3146067416,
          0.2978723404,
          0.175,
          0.1061452514,
          0.1358695652,
          0.0372340426,
          0.7195767196,
          0.3005464481,
          0.7322404372,
          0.393442623,
          0.5212765957,
          0.9834254144,
          0.5027322404,
          0.5744680851,
          0.0108695652,
          0.7340425532,
          0.1675675676,
          0.7354497354,
          0.1567567568,
          0.7278106509,
          0.7597765363,
          0.9273743017,
          0.8481675393,
          0.4162162162,
          0.217877095,
          0.2240437158,
          0.9945945946,
          0.0534759358,
          0.9837837838,
          0.6063829787,
          0.3210526316,
          0.7393617021,
          0.0418848168,
          0.2287234043,
          0.9945054945,
          0.2076502732,
          0.9010989011,
          0.7103825137,
          0.8603351955,
          0.4345549738,
          0.3862433862,
          0.2234042553,
          0.3854748603,
          0.0212765957,
          0.4184782609,
          0.6536312849,
          0.6576086957,
          0.3967391304,
          0.0324324324,
          0.8967391304,
          0.0054644809,
          0.4240837696,
          0.1204188482,
          0.4269662921,
          0.3278688525,
          0.3661202186,
          0.7287234043,
          0.7158469945,
          0.037037037,
          0.3296703297,
          0.8047337278,
          0.827027027,
          0.3048128342,
          0.9027027027,
          0.8609625668,
          0.0983606557,
          0.1243243243,
          0.8404255319,
          0.2275132275,
          0.6010928962,
          0.6387434555,
          0.625,
          0.5185185185,
          0.3296089385,
          0.5714285714,
          0.8895027624,
          0.7445652174,
          0.156424581,
          0.9361702128,
          0.7872340426,
          0.8677248677,
          0.8947368421,
          0.0760869565,
          0.4033149171,
          0.9042553191,
          0.1538461538,
          0.0432432432,
          0.0552486188,
          0.8108108108,
          0.4098360656,
          0.7407407407,
          0.8138297872,
          0.1808510638,
          0.1656804734,
          0.1623036649,
          0.6031746032,
          0.5132275132,
          0.2797619048,
          0.2962962963,
          0.75,
          0.6994535519,
          0.8691099476,
          0.8743455497,
          0.6779661017,
          0.7248677249,
          0.1675977654,
          0.5195530726,
          0.7570621469,
          0.912568306,
          0.1216931217,
          0.9028571429,
          0.8918918919,
          0.5380434783,
          0.0110497238,
          0.0054347826,
          0.7434554974,
          0.835978836,
          0.7830687831,
          0.5372340426,
          0.0211640212,
          0.8994708995,
          0.2222222222,
          0.2336956522,
          0.6666666667,
          0.043715847,
          0.308988764,
          0.6902173913,
          0.9578947368,
          0.0326086957,
          0.0864864865,
          0.2950819672,
          0.374301676,
          0.170212766,
          0.7608695652,
          0.9619565217,
          0.3936170213,
          0.7663043478,
          0.6440677966,
          0.1202185792,
          0.8044692737,
          0.722513089,
          0.402173913,
          0.4456521739,
          0.8907103825,
          0.0756756757,
          0.3926701571,
          0.5846994536,
          0.335106383,
          0.1304347826,
          0.0471204188,
          0.0543478261,
          0.1308900524,
          0.0434782609,
          0.2074468085,
          0.868852459,
          0.0960451977,
          0.9631578947,
          0.8142076503,
          0.5923913043,
          0.6402116402,
          0.027173913,
          0.2356020942,
          0.5683060109,
          0.9627659574,
          0.197740113,
          0.2568306011,
          0.0056497175,
          0.5159574468,
          0.4126984127,
          0.1525423729,
          0.0887573964,
          0.2513661202,
          0.3915343915,
          0.6630434783,
          0.9608938547,
          0.0837696335,
          0.0710382514,
          0.3220338983,
          0.6701570681,
          0.2765957447,
          0.1955307263,
          0.0106951872,
          0.3776595745,
          0.209039548,
          0.4157894737,
          0.7318435754,
          0.8052631579,
          0.2553191489,
          0.9576719577,
          0.7297297297,
          0.9581151832,
          0.1798941799,
          0.3036649215,
          0.8376963351,
          0.7401129944,
          0.3756613757,
          0.9293478261,
          0.9312169312,
          0.7455621302,
          0.5054347826,
          0.9101123596,
          0.1135135135,
          0.1526315789,
          0.2391304348,
          0.1803278689,
          0.8148148148,
          0.4042553191,
          0.9888268156,
          0.1475409836,
          0.512987013,
          0.1693121693,
          0.4535519126,
          0.8324022346,
          0.95625,
          0.2824858757,
          0.7391304348,
          0.2458100559,
          0.406779661,
          0.2033898305,
          0.5157894737,
          0.7853403141,
          0.4480874317,
          0.2780748663,
          0.8115183246,
          0.7172774869,
          0.2127659574,
          0.9553072626,
          0.9920634921,
          0.6101694915,
          0.6486486486,
          0.7514124294,
          0.7554347826,
          0.5235602094,
          0.7344632768,
          0.347826087,
          0.1195652174,
          0.7127659574,
          0.3191489362,
          0.4680851064,
          0.032967033,
          0.7351351351,
          0.8875739645,
          0.2303664921,
          0.5561497326,
          0.6830601093,
          0.4188481675,
          0.5326086957,
          0.8095238095,
          0.3672316384,
          0.6968085106,
          0.7277486911,
          0.5191256831,
          0.8797814208,
          0.2063492063,
          0.5759162304,
          0.2677595628,
          0.5168539326,
          0.8097826087,
          0.652173913,
          0.7513513514,
          0.3513513514,
          0.7978723404,
          0.2173913043,
          0.1793478261,
          0.4486486486,
          0.4402173913,
          0.9548022599,
          0.414893617,
          0.3913043478,
          0.4022346369,
          0.6315789474,
          0.9621621622,
          0.0314136126,
          0.3715846995,
          0.7396449704,
          0.9259259259,
          0.227027027,
          0.8156424581,
          0.3135135135,
          0.2077922078,
          0.802259887,
          0.3551912568,
          0.4134078212,
          0.6203208556,
          0.6304347826,
          0.8864864865,
          0.25,
          0.9308510638,
          0.9523809524,
          0.6439790576,
          0.6740331492,
          0.0785340314,
          0.2011173184,
          0.9005235602,
          0.6208791209,
          0.0782122905,
          0.4656084656,
          0.3837837838,
          0.312849162,
          0.8587570621,
          0.1832460733,
          0.722826087,
          0.6775956284,
          0.2021276596,
          0.0505617978,
          0.7142857143,
          0.9574468085,
          0.1902173913,
          0.1348314607,
          0.2346368715,
          0.8369565217,
          0.7267759563,
          0.8032786885,
          0.4893617021,
          0.4021164021,
          0.3829787234,
          0.5652173913,
          0.1141304348,
          0.7180851064,
          0.0957446809,
          0.0315789474,
          0.9585798817,
          0.8579234973,
          0.9831460674,
          0.5193370166,
          0.7459459459,
          0.8831168831,
          0.3376623377,
          0.7112299465,
          0.597826087,
          0.5882352941,
          0.988700565,
          0.2446808511,
          0.7173913043,
          0.0491803279,
          0.0056179775,
          0.3825136612,
          0.9347826087,
          0.7157894737,
          0.7675675676,
          0.3206521739,
          0.7405405405,
          0.6077348066,
          0.6847826087,
          0.7348066298,
          0.5078534031,
          0.0546448087,
          0.3403141361,
          0.0274725275,
          0.4254143646,
          0.0378378378,
          0.8191489362,
          0.3785310734,
          0.2827225131,
          0.7958115183,
          0.5945945946,
          0.4114285714,
          0.4237288136,
          0.2702702703,
          0.8641304348,
          0.3910614525,
          0.6284153005,
          0.4,
          0.7039106145,
          0.7210526316,
          0.2751322751,
          0.9947089947,
          0.8956043956,
          0.5197740113,
          0.5351351351,
          0.1780104712,
          0.813559322,
          0.3027027027,
          0.2681564246,
          0.5297297297,
          0.5957446809,
          0.7262569832,
          0.1807909605,
          0.3050847458,
          0.3727810651,
          0.2108108108,
          0.5343915344,
          0.04,
          0.3945945946,
          0.0368421053,
          0.8877005348,
          0.2116402116,
          0.5026737968,
          0.7382198953,
          0.6594594595,
          0.1530054645,
          0.6864864865,
          0.8839779006,
          0.627027027,
          0.7301587302,
          0.7621621622,
          0.1340782123,
          0.729281768,
          0.8848167539,
          0.3155080214,
          0.4216216216,
          0.8244680851,
          0.6408839779,
          0.7567567568,
          0.869047619,
          0.0160427807,
          0.7936507937,
          0.7458563536,
          0.5108695652,
          0.3979057592,
          0.7582417582,
          0.6538461538,
          0.9071038251,
          0.8972972973,
          0.9285714286,
          0.1049723757,
          0.2282608696,
          0.0165745856,
          0.1276595745,
          0.1967213115,
          0.2432432432,
          0.2119565217,
          0.9832402235,
          0.7094972067,
          0.4361702128,
          0.2324324324,
          0.1105263158,
          0.4054054054,
          0.7058823529,
          0.8631578947,
          0.8167539267,
          0.2486772487,
          0.6810810811,
          0.8379888268,
          0.2372881356,
          0.2099447514,
          0.186440678,
          0.0273224044,
          0.532967033,
          0.3898305085,
          0.0503144654,
          0.9210526316,
          0.4052631579,
          0.0335195531,
          0.2378378378,
          0.4591194969,
          0.3903743316,
          0.6054054054,
          0.469273743,
          0.7282608696,
          0.6162162162,
          0.3812154696,
          0.7934782609,
          0.1871657754,
          0.7336956522,
          0.4382022472,
          0.0531914894,
          0.5405405405,
          0.3821989529,
          0.2872928177,
          0.1945945946,
          0.4970414201,
          0.3043478261,
          0.131147541,
          0.2094240838,
          0.0163043478,
          0.7417582418,
          0.3459119497,
          0.5869565217,
          0.0597826087,
          0.5531914894,
          0.5543478261,
          0.6759776536,
          0.7826086957,
          0.8508287293,
          0.5243243243,
          0.1032608696,
          0.0217391304,
          0.4858757062,
          0.6195652174,
          0.9144385027,
          0.8988764045,
          0.7272727273,
          0.1739130435,
          0.9528795812,
          0.748603352,
          0.1016042781,
          0.0923913043,
          0.9565217391,
          0.1587301587,
          0.1813186813,
          0.7005347594,
          0.3798882682,
          0.5418994413,
          0.0216216216,
          0.8174603175,
          0.3457446809,
          0.3169398907,
          0.2663043478,
          0.972972973,
          0.8928571429,
          0.2216216216,
          0.0486486486,
          0.6931216931,
          0.4916201117,
          0.0210526316,
          0.3858695652,
          0.4371584699,
          0.1715976331,
          0.4836956522,
          0.8378378378,
          0.2840909091,
          0.2010582011,
          0.404494382,
          0.585106383,
          0.251396648,
          0.1038251366,
          0.219895288,
          0.8152173913,
          0.8971428571,
          0.7637362637,
          0.7074468085,
          0.1071428571,
          0.2065217391,
          0.9319371728,
          0.9537037037,
          0.6540540541,
          0.8423913043,
          0.893258427,
          0.5562130178,
          0.1351351351,
          0.8079096045,
          0.4712041885,
          0.3406593407,
          0.6358695652,
          0.4863387978,
          0.606557377,
          0.8540540541,
          0.1604278075,
          0.8201058201,
          0.6073298429,
          0.4324324324,
          0.0584415584,
          0.6,
          0.8306010929,
          0.6918918919,
          0.8707865169,
          0.387434555,
          0.2617801047,
          0.097826087,
          0.5879120879,
          0.6497175141,
          0.0108108108,
          0.2608695652,
          0.5837837838,
          0.6141304348,
          0.7303370787,
          0.7807486631,
          0.52,
          0.8556149733,
          0.0939226519,
          0.843575419,
          0.7321428571,
          0.4130434783,
          0.395480226,
          0.6595744681,
          0.0054054054,
          0.1847826087,
          0.2087912088,
          0.9510869565,
          0.8162162162,
          0.2402234637,
          0.2554347826,
          0.8742857143,
          0.5684210526,
          0.3977900552,
          0.4175824176,
          0.0847457627,
          0.6648648649,
          0.8586956522,
          0.6120218579,
          0.3021978022,
          0.8219895288,
          0.9567567568,
          0.8418079096,
          0.4814814815,
          0.5974025974,
          0.1703296703,
          0.4469273743,
          0.626984127,
          0.0837988827,
          0.8571428571,
          0.8,
          0.5053191489,
          0.6956521739,
          0.3423913043,
          0.6808510638,
          0.3372781065,
          0.7027027027,
          0.8284023669,
          0.3901098901,
          0.3668639053,
          0.9836956522,
          0.8206521739,
          0.5183246073,
          0.3689839572,
          0.9297297297,
          0.2146596859,
          0.3989361702,
          0.8913043478,
          0.7513812155,
          0.1884816754,
          0.0952380952,
          0.2485207101,
          0.2826086957,
          0.650273224,
          0.9685534591,
          0.3723404255,
          0.575,
          0.4972677596,
          0.9255319149,
          0.0337078652,
          0.8043478261
         ],
         "parents": [
          "",
          "",
          "",
          "",
          "",
          "",
          "",
          "",
          "",
          "",
          "",
          "",
          "",
          "",
          "",
          "",
          "",
          "",
          "",
          "",
          "",
          "",
          "",
          "",
          "",
          "",
          "",
          "",
          "",
          "",
          "",
          "",
          "",
          "",
          "",
          "",
          "",
          "",
          "",
          "",
          "",
          "",
          "",
          "",
          "",
          "",
          "",
          "",
          "",
          "",
          "",
          "",
          "",
          "",
          "",
          "",
          "",
          "",
          "",
          "",
          "",
          "",
          "",
          "",
          "",
          "",
          "",
          "",
          "",
          "",
          "",
          "",
          "",
          "",
          "",
          "",
          "",
          "",
          "",
          "",
          "",
          "",
          "",
          "",
          "",
          "",
          "",
          "",
          "",
          "",
          "",
          "",
          "",
          "",
          "",
          "",
          "",
          "",
          "",
          "",
          "",
          "",
          "",
          "",
          "",
          "",
          "",
          "",
          "",
          "",
          "",
          "",
          "",
          "",
          "",
          "",
          "",
          "",
          "",
          "",
          "",
          "",
          "",
          "",
          "",
          "",
          "",
          "",
          "",
          "",
          "",
          "",
          "",
          "",
          "",
          "",
          "",
          "",
          "",
          "",
          "",
          "",
          "",
          "",
          "",
          "",
          "",
          "",
          "",
          "",
          "",
          "",
          "",
          "",
          "",
          "",
          "",
          "",
          "",
          "",
          "",
          "",
          "",
          "",
          "",
          "",
          "",
          "",
          "",
          "",
          "",
          "",
          "",
          "",
          "",
          "",
          "",
          "",
          "",
          "",
          "",
          "",
          "",
          "",
          "",
          "",
          "",
          "",
          "",
          "",
          "",
          "",
          "",
          "",
          "",
          "",
          "",
          "",
          "",
          "",
          "",
          "",
          "",
          "",
          "",
          "",
          "",
          "",
          "",
          "",
          "",
          "",
          "",
          "",
          "",
          "",
          "",
          "",
          "",
          "",
          "",
          "",
          "",
          "",
          "",
          "",
          "",
          "",
          "",
          "",
          "",
          "",
          "",
          "",
          "",
          "",
          "",
          "",
          "",
          "",
          "",
          "",
          "",
          "",
          "",
          "",
          "",
          "",
          "",
          "",
          "",
          "",
          "",
          "",
          "",
          "",
          "",
          "",
          "",
          "",
          "",
          "",
          "",
          "",
          "",
          "",
          "",
          "",
          "",
          "",
          "",
          "",
          "",
          "",
          "",
          "",
          "",
          "",
          "",
          "",
          "",
          "",
          "",
          "",
          "",
          "",
          "",
          "",
          "",
          "",
          "",
          "",
          "",
          "",
          "",
          "",
          "",
          "",
          "",
          "",
          "",
          "",
          "",
          "",
          "",
          "",
          "",
          "",
          "",
          "",
          "",
          "",
          "",
          "",
          "",
          "",
          "",
          "",
          "",
          "",
          "",
          "",
          "",
          "",
          "",
          "",
          "",
          "",
          "",
          "",
          "",
          "",
          "",
          "",
          "",
          "",
          "",
          "",
          "",
          "",
          "",
          "",
          "",
          "",
          "",
          "",
          "",
          "",
          "",
          "",
          "",
          "",
          "",
          "",
          "",
          "",
          "",
          "",
          "",
          "",
          "",
          "",
          "",
          "",
          "",
          "",
          "",
          "",
          "",
          "",
          "",
          "",
          "",
          "",
          "",
          "",
          "",
          "",
          "",
          "",
          "",
          "",
          "",
          "",
          "",
          "",
          "",
          "",
          "",
          "",
          "",
          "",
          "",
          "",
          "",
          "",
          "",
          "",
          "",
          "",
          "",
          "",
          "",
          "",
          "",
          "",
          "",
          "",
          "",
          "",
          "",
          "",
          "",
          "",
          "",
          "",
          "",
          "",
          "",
          "",
          "",
          "",
          "",
          "",
          "",
          "",
          "",
          "",
          "",
          "",
          "",
          "",
          "",
          "",
          "",
          "",
          "",
          "",
          "",
          "",
          "",
          "",
          "",
          "",
          "",
          "",
          "",
          "",
          "",
          "",
          "",
          "",
          "",
          "",
          "",
          "",
          "",
          "",
          "",
          "",
          "",
          "",
          "",
          "",
          "",
          "",
          "",
          "",
          "",
          "",
          "",
          "",
          "",
          "",
          "",
          "",
          "",
          "",
          "",
          "",
          "",
          "",
          "",
          "",
          "",
          "",
          "",
          "",
          "",
          "",
          "",
          "",
          "",
          "",
          "",
          "",
          "",
          "",
          "",
          "",
          "",
          "",
          "",
          "",
          "",
          "",
          "",
          "",
          "",
          "",
          "",
          "",
          "",
          "",
          "",
          "",
          "",
          "",
          "",
          "",
          "",
          "",
          "",
          "",
          "",
          "",
          "",
          "",
          "",
          "",
          "",
          "",
          "",
          "",
          "",
          "",
          "",
          "",
          "",
          "",
          "",
          "",
          "",
          "",
          "",
          "",
          "",
          "",
          "",
          "",
          "",
          "",
          "",
          "",
          "",
          "",
          "",
          "",
          "",
          "",
          "",
          "",
          "",
          "",
          "",
          "",
          "",
          "",
          "",
          "",
          "",
          "",
          "",
          "",
          "",
          "",
          "",
          "",
          "",
          "",
          "",
          "",
          "",
          "",
          "",
          "",
          "",
          "",
          "",
          "",
          "",
          "",
          "",
          "",
          "",
          "",
          "",
          "",
          "",
          "",
          "",
          "",
          "",
          "",
          "",
          "",
          "",
          "",
          "",
          "",
          "",
          "",
          "",
          "",
          "",
          "",
          "",
          "",
          "",
          "",
          "",
          "",
          "",
          "",
          "",
          "",
          "",
          "",
          "",
          "",
          "",
          "",
          "",
          "",
          "",
          "",
          "",
          "",
          "",
          "",
          "",
          "",
          "",
          "",
          "",
          "",
          "",
          "",
          "",
          "",
          "",
          "",
          "",
          "",
          "",
          "",
          "",
          "",
          "",
          "",
          "",
          "",
          "",
          "",
          "",
          "",
          "",
          "",
          "",
          "",
          "",
          "",
          "",
          "",
          "",
          "",
          "",
          "",
          "",
          "",
          "",
          "",
          "",
          "",
          "",
          "",
          "",
          "",
          "",
          "",
          "",
          "",
          "",
          "",
          "",
          "",
          "",
          "",
          "",
          "",
          "",
          "",
          "",
          "",
          "",
          "",
          "",
          "",
          "",
          "",
          "",
          "",
          "",
          "",
          "",
          "",
          "",
          "",
          "",
          "",
          "",
          "",
          "",
          "",
          "",
          "",
          "",
          "",
          "",
          "",
          "",
          "",
          "",
          "",
          "",
          "",
          "",
          "",
          "",
          "",
          "",
          "",
          "",
          "",
          "",
          "",
          "",
          "",
          "",
          "",
          "",
          "",
          "",
          "",
          "",
          "",
          "",
          "",
          "",
          "",
          "",
          "",
          "",
          "",
          "",
          "",
          "",
          "",
          "",
          "",
          "",
          "",
          "",
          "",
          "",
          "",
          "",
          "",
          "",
          "",
          "",
          "",
          "",
          "",
          "",
          "",
          "",
          "",
          "",
          "",
          "",
          "",
          "",
          "",
          "",
          "",
          "",
          "",
          "",
          "",
          "",
          "",
          "",
          "",
          "",
          "",
          "",
          "",
          "",
          "",
          "",
          "",
          "",
          "",
          "",
          "",
          "",
          "",
          "",
          "",
          "",
          "",
          "",
          "",
          "",
          "",
          "",
          "",
          ""
         ],
         "textinfo": "label+value",
         "type": "treemap",
         "values": [
          150157,
          102863,
          45061,
          29684,
          27763,
          26903,
          16638,
          11540,
          11063,
          9750,
          9539,
          9453,
          8749,
          8585,
          5991,
          5990,
          4952,
          4244,
          3673,
          3400,
          3301,
          3257,
          3146,
          3108,
          3009,
          2906,
          2777,
          2606,
          2440,
          2415,
          2379,
          2275,
          2263,
          2171,
          2152,
          1780,
          1630,
          1627,
          1578,
          1522,
          1481,
          1415,
          1402,
          1397,
          1378,
          1352,
          1287,
          1232,
          1230,
          1227,
          1206,
          1201,
          1198,
          1175,
          1126,
          1118,
          1102,
          1095,
          1058,
          997,
          985,
          951,
          928,
          902,
          897,
          897,
          867,
          840,
          811,
          809,
          808,
          803,
          755,
          732,
          709,
          706,
          690,
          685,
          680,
          667,
          662,
          662,
          628,
          626,
          623,
          605,
          595,
          591,
          563,
          549,
          547,
          546,
          544,
          537,
          507,
          507,
          487,
          469,
          443,
          441,
          440,
          408,
          399,
          396,
          387,
          383,
          381,
          352,
          347,
          332,
          322,
          320,
          319,
          307,
          303,
          299,
          289,
          284,
          276,
          276,
          272,
          269,
          263,
          262,
          260,
          257,
          256,
          256,
          252,
          242,
          241,
          241,
          237,
          235,
          235,
          235,
          232,
          229,
          225,
          215,
          214,
          203,
          202,
          194,
          193,
          193,
          191,
          190,
          186,
          180,
          178,
          174,
          162,
          161,
          161,
          160,
          158,
          157,
          153,
          150,
          149,
          143,
          142,
          141,
          140,
          139,
          138,
          137,
          136,
          133,
          133,
          126,
          125,
          122,
          119,
          117,
          116,
          116,
          113,
          111,
          111,
          109,
          109,
          109,
          108,
          106,
          106,
          105,
          105,
          104,
          103,
          102,
          102,
          101,
          100,
          99,
          97,
          97,
          97,
          96,
          94,
          93,
          92,
          92,
          90,
          90,
          89,
          89,
          87,
          87,
          86,
          86,
          85,
          85,
          84,
          83,
          83,
          83,
          82,
          82,
          81,
          81,
          80,
          76,
          76,
          75,
          75,
          75,
          74,
          74,
          74,
          72,
          72,
          72,
          71,
          71,
          70,
          70,
          69,
          69,
          68,
          66,
          66,
          66,
          65,
          65,
          65,
          64,
          63,
          62,
          61,
          60,
          60,
          60,
          58,
          58,
          57,
          57,
          56,
          56,
          55,
          54,
          53,
          53,
          53,
          52,
          52,
          52,
          52,
          51,
          51,
          50,
          49,
          48,
          48,
          47,
          47,
          47,
          47,
          47,
          46,
          46,
          46,
          45,
          45,
          45,
          44,
          43,
          43,
          43,
          43,
          43,
          43,
          42,
          42,
          42,
          42,
          42,
          41,
          41,
          40,
          40,
          39,
          38,
          38,
          37,
          37,
          37,
          37,
          37,
          36,
          36,
          36,
          35,
          34,
          34,
          34,
          33,
          33,
          33,
          32,
          32,
          32,
          32,
          31,
          31,
          31,
          31,
          31,
          30,
          30,
          30,
          30,
          30,
          29,
          29,
          29,
          29,
          29,
          29,
          28,
          28,
          28,
          28,
          28,
          28,
          28,
          28,
          27,
          27,
          27,
          27,
          27,
          26,
          26,
          25,
          25,
          25,
          25,
          25,
          25,
          25,
          25,
          25,
          25,
          24,
          24,
          24,
          24,
          24,
          23,
          23,
          23,
          22,
          22,
          22,
          22,
          22,
          22,
          21,
          21,
          21,
          21,
          20,
          20,
          20,
          20,
          20,
          19,
          19,
          19,
          19,
          19,
          19,
          19,
          19,
          18,
          18,
          18,
          18,
          18,
          17,
          17,
          17,
          17,
          16,
          16,
          16,
          16,
          16,
          16,
          16,
          16,
          16,
          16,
          15,
          15,
          15,
          15,
          14,
          14,
          14,
          14,
          14,
          14,
          14,
          14,
          14,
          13,
          13,
          13,
          13,
          13,
          13,
          13,
          13,
          13,
          13,
          13,
          13,
          13,
          13,
          12,
          12,
          12,
          12,
          12,
          12,
          12,
          12,
          12,
          12,
          12,
          12,
          12,
          11,
          11,
          11,
          11,
          11,
          11,
          11,
          11,
          11,
          11,
          11,
          11,
          11,
          11,
          11,
          10,
          10,
          10,
          10,
          10,
          10,
          10,
          10,
          10,
          10,
          10,
          10,
          10,
          10,
          10,
          9,
          9,
          9,
          9,
          9,
          9,
          9,
          9,
          9,
          9,
          9,
          9,
          9,
          9,
          9,
          8,
          8,
          8,
          8,
          8,
          8,
          8,
          8,
          8,
          8,
          8,
          8,
          8,
          8,
          8,
          8,
          8,
          8,
          8,
          8,
          8,
          8,
          8,
          8,
          8,
          7,
          7,
          7,
          7,
          7,
          7,
          7,
          7,
          7,
          7,
          7,
          7,
          7,
          7,
          7,
          7,
          7,
          7,
          7,
          7,
          7,
          7,
          7,
          7,
          7,
          7,
          7,
          7,
          7,
          7,
          7,
          6,
          6,
          6,
          6,
          6,
          6,
          6,
          6,
          6,
          6,
          6,
          6,
          6,
          6,
          6,
          6,
          6,
          6,
          6,
          6,
          6,
          6,
          6,
          6,
          6,
          6,
          6,
          6,
          6,
          5,
          5,
          5,
          5,
          5,
          5,
          5,
          5,
          5,
          5,
          5,
          5,
          5,
          5,
          5,
          5,
          5,
          5,
          5,
          5,
          5,
          5,
          5,
          5,
          5,
          5,
          5,
          5,
          5,
          5,
          5,
          5,
          5,
          4,
          4,
          4,
          4,
          4,
          4,
          4,
          4,
          4,
          4,
          4,
          4,
          4,
          4,
          4,
          4,
          4,
          4,
          4,
          4,
          4,
          4,
          4,
          4,
          4,
          4,
          4,
          4,
          4,
          4,
          4,
          4,
          4,
          4,
          4,
          4,
          4,
          4,
          4,
          4,
          4,
          4,
          4,
          4,
          4,
          4,
          4,
          4,
          4,
          4,
          4,
          4,
          3,
          3,
          3,
          3,
          3,
          3,
          3,
          3,
          3,
          3,
          3,
          3,
          3,
          3,
          3,
          3,
          3,
          3,
          3,
          3,
          3,
          3,
          3,
          3,
          3,
          3,
          3,
          3,
          3,
          3,
          3,
          3,
          3,
          3,
          3,
          3,
          3,
          3,
          3,
          3,
          3,
          3,
          3,
          3,
          3,
          3,
          3,
          3,
          3,
          3,
          3,
          3,
          3,
          3,
          3,
          2,
          2,
          2,
          2,
          2,
          2,
          2,
          2,
          2,
          2,
          2,
          2,
          2,
          2,
          2,
          2,
          2,
          2,
          2,
          2,
          2,
          2,
          2,
          2,
          2,
          2,
          2,
          2,
          2,
          2,
          2,
          2,
          2,
          2,
          2,
          2,
          2,
          2,
          2,
          2,
          2,
          2,
          2,
          2,
          2,
          2,
          2,
          2,
          2,
          2,
          2,
          2,
          2,
          2,
          2,
          2,
          2,
          2,
          2,
          2,
          1,
          1,
          1,
          1,
          1,
          1,
          1,
          1,
          1,
          1,
          1,
          1,
          1,
          1,
          1,
          1,
          1,
          1,
          1,
          1,
          1,
          1,
          1,
          1,
          1,
          1,
          1,
          1,
          1,
          1,
          1,
          1,
          1,
          1,
          1,
          1,
          1,
          1,
          1,
          1,
          1,
          1,
          1,
          1
         ]
        }
       ],
       "layout": {
        "font": {
         "color": "white"
        },
        "paper_bgcolor": "black",
        "plot_bgcolor": "grey",
        "template": {
         "data": {
          "bar": [
           {
            "error_x": {
             "color": "#2a3f5f"
            },
            "error_y": {
             "color": "#2a3f5f"
            },
            "marker": {
             "line": {
              "color": "#E5ECF6",
              "width": 0.5
             },
             "pattern": {
              "fillmode": "overlay",
              "size": 10,
              "solidity": 0.2
             }
            },
            "type": "bar"
           }
          ],
          "barpolar": [
           {
            "marker": {
             "line": {
              "color": "#E5ECF6",
              "width": 0.5
             },
             "pattern": {
              "fillmode": "overlay",
              "size": 10,
              "solidity": 0.2
             }
            },
            "type": "barpolar"
           }
          ],
          "carpet": [
           {
            "aaxis": {
             "endlinecolor": "#2a3f5f",
             "gridcolor": "white",
             "linecolor": "white",
             "minorgridcolor": "white",
             "startlinecolor": "#2a3f5f"
            },
            "baxis": {
             "endlinecolor": "#2a3f5f",
             "gridcolor": "white",
             "linecolor": "white",
             "minorgridcolor": "white",
             "startlinecolor": "#2a3f5f"
            },
            "type": "carpet"
           }
          ],
          "choropleth": [
           {
            "colorbar": {
             "outlinewidth": 0,
             "ticks": ""
            },
            "type": "choropleth"
           }
          ],
          "contour": [
           {
            "colorbar": {
             "outlinewidth": 0,
             "ticks": ""
            },
            "colorscale": [
             [
              0,
              "#0d0887"
             ],
             [
              0.1111111111111111,
              "#46039f"
             ],
             [
              0.2222222222222222,
              "#7201a8"
             ],
             [
              0.3333333333333333,
              "#9c179e"
             ],
             [
              0.4444444444444444,
              "#bd3786"
             ],
             [
              0.5555555555555556,
              "#d8576b"
             ],
             [
              0.6666666666666666,
              "#ed7953"
             ],
             [
              0.7777777777777778,
              "#fb9f3a"
             ],
             [
              0.8888888888888888,
              "#fdca26"
             ],
             [
              1,
              "#f0f921"
             ]
            ],
            "type": "contour"
           }
          ],
          "contourcarpet": [
           {
            "colorbar": {
             "outlinewidth": 0,
             "ticks": ""
            },
            "type": "contourcarpet"
           }
          ],
          "heatmap": [
           {
            "colorbar": {
             "outlinewidth": 0,
             "ticks": ""
            },
            "colorscale": [
             [
              0,
              "#0d0887"
             ],
             [
              0.1111111111111111,
              "#46039f"
             ],
             [
              0.2222222222222222,
              "#7201a8"
             ],
             [
              0.3333333333333333,
              "#9c179e"
             ],
             [
              0.4444444444444444,
              "#bd3786"
             ],
             [
              0.5555555555555556,
              "#d8576b"
             ],
             [
              0.6666666666666666,
              "#ed7953"
             ],
             [
              0.7777777777777778,
              "#fb9f3a"
             ],
             [
              0.8888888888888888,
              "#fdca26"
             ],
             [
              1,
              "#f0f921"
             ]
            ],
            "type": "heatmap"
           }
          ],
          "heatmapgl": [
           {
            "colorbar": {
             "outlinewidth": 0,
             "ticks": ""
            },
            "colorscale": [
             [
              0,
              "#0d0887"
             ],
             [
              0.1111111111111111,
              "#46039f"
             ],
             [
              0.2222222222222222,
              "#7201a8"
             ],
             [
              0.3333333333333333,
              "#9c179e"
             ],
             [
              0.4444444444444444,
              "#bd3786"
             ],
             [
              0.5555555555555556,
              "#d8576b"
             ],
             [
              0.6666666666666666,
              "#ed7953"
             ],
             [
              0.7777777777777778,
              "#fb9f3a"
             ],
             [
              0.8888888888888888,
              "#fdca26"
             ],
             [
              1,
              "#f0f921"
             ]
            ],
            "type": "heatmapgl"
           }
          ],
          "histogram": [
           {
            "marker": {
             "pattern": {
              "fillmode": "overlay",
              "size": 10,
              "solidity": 0.2
             }
            },
            "type": "histogram"
           }
          ],
          "histogram2d": [
           {
            "colorbar": {
             "outlinewidth": 0,
             "ticks": ""
            },
            "colorscale": [
             [
              0,
              "#0d0887"
             ],
             [
              0.1111111111111111,
              "#46039f"
             ],
             [
              0.2222222222222222,
              "#7201a8"
             ],
             [
              0.3333333333333333,
              "#9c179e"
             ],
             [
              0.4444444444444444,
              "#bd3786"
             ],
             [
              0.5555555555555556,
              "#d8576b"
             ],
             [
              0.6666666666666666,
              "#ed7953"
             ],
             [
              0.7777777777777778,
              "#fb9f3a"
             ],
             [
              0.8888888888888888,
              "#fdca26"
             ],
             [
              1,
              "#f0f921"
             ]
            ],
            "type": "histogram2d"
           }
          ],
          "histogram2dcontour": [
           {
            "colorbar": {
             "outlinewidth": 0,
             "ticks": ""
            },
            "colorscale": [
             [
              0,
              "#0d0887"
             ],
             [
              0.1111111111111111,
              "#46039f"
             ],
             [
              0.2222222222222222,
              "#7201a8"
             ],
             [
              0.3333333333333333,
              "#9c179e"
             ],
             [
              0.4444444444444444,
              "#bd3786"
             ],
             [
              0.5555555555555556,
              "#d8576b"
             ],
             [
              0.6666666666666666,
              "#ed7953"
             ],
             [
              0.7777777777777778,
              "#fb9f3a"
             ],
             [
              0.8888888888888888,
              "#fdca26"
             ],
             [
              1,
              "#f0f921"
             ]
            ],
            "type": "histogram2dcontour"
           }
          ],
          "mesh3d": [
           {
            "colorbar": {
             "outlinewidth": 0,
             "ticks": ""
            },
            "type": "mesh3d"
           }
          ],
          "parcoords": [
           {
            "line": {
             "colorbar": {
              "outlinewidth": 0,
              "ticks": ""
             }
            },
            "type": "parcoords"
           }
          ],
          "pie": [
           {
            "automargin": true,
            "type": "pie"
           }
          ],
          "scatter": [
           {
            "fillpattern": {
             "fillmode": "overlay",
             "size": 10,
             "solidity": 0.2
            },
            "type": "scatter"
           }
          ],
          "scatter3d": [
           {
            "line": {
             "colorbar": {
              "outlinewidth": 0,
              "ticks": ""
             }
            },
            "marker": {
             "colorbar": {
              "outlinewidth": 0,
              "ticks": ""
             }
            },
            "type": "scatter3d"
           }
          ],
          "scattercarpet": [
           {
            "marker": {
             "colorbar": {
              "outlinewidth": 0,
              "ticks": ""
             }
            },
            "type": "scattercarpet"
           }
          ],
          "scattergeo": [
           {
            "marker": {
             "colorbar": {
              "outlinewidth": 0,
              "ticks": ""
             }
            },
            "type": "scattergeo"
           }
          ],
          "scattergl": [
           {
            "marker": {
             "colorbar": {
              "outlinewidth": 0,
              "ticks": ""
             }
            },
            "type": "scattergl"
           }
          ],
          "scattermapbox": [
           {
            "marker": {
             "colorbar": {
              "outlinewidth": 0,
              "ticks": ""
             }
            },
            "type": "scattermapbox"
           }
          ],
          "scatterpolar": [
           {
            "marker": {
             "colorbar": {
              "outlinewidth": 0,
              "ticks": ""
             }
            },
            "type": "scatterpolar"
           }
          ],
          "scatterpolargl": [
           {
            "marker": {
             "colorbar": {
              "outlinewidth": 0,
              "ticks": ""
             }
            },
            "type": "scatterpolargl"
           }
          ],
          "scatterternary": [
           {
            "marker": {
             "colorbar": {
              "outlinewidth": 0,
              "ticks": ""
             }
            },
            "type": "scatterternary"
           }
          ],
          "surface": [
           {
            "colorbar": {
             "outlinewidth": 0,
             "ticks": ""
            },
            "colorscale": [
             [
              0,
              "#0d0887"
             ],
             [
              0.1111111111111111,
              "#46039f"
             ],
             [
              0.2222222222222222,
              "#7201a8"
             ],
             [
              0.3333333333333333,
              "#9c179e"
             ],
             [
              0.4444444444444444,
              "#bd3786"
             ],
             [
              0.5555555555555556,
              "#d8576b"
             ],
             [
              0.6666666666666666,
              "#ed7953"
             ],
             [
              0.7777777777777778,
              "#fb9f3a"
             ],
             [
              0.8888888888888888,
              "#fdca26"
             ],
             [
              1,
              "#f0f921"
             ]
            ],
            "type": "surface"
           }
          ],
          "table": [
           {
            "cells": {
             "fill": {
              "color": "#EBF0F8"
             },
             "line": {
              "color": "white"
             }
            },
            "header": {
             "fill": {
              "color": "#C8D4E3"
             },
             "line": {
              "color": "white"
             }
            },
            "type": "table"
           }
          ]
         },
         "layout": {
          "annotationdefaults": {
           "arrowcolor": "#2a3f5f",
           "arrowhead": 0,
           "arrowwidth": 1
          },
          "autotypenumbers": "strict",
          "coloraxis": {
           "colorbar": {
            "outlinewidth": 0,
            "ticks": ""
           }
          },
          "colorscale": {
           "diverging": [
            [
             0,
             "#8e0152"
            ],
            [
             0.1,
             "#c51b7d"
            ],
            [
             0.2,
             "#de77ae"
            ],
            [
             0.3,
             "#f1b6da"
            ],
            [
             0.4,
             "#fde0ef"
            ],
            [
             0.5,
             "#f7f7f7"
            ],
            [
             0.6,
             "#e6f5d0"
            ],
            [
             0.7,
             "#b8e186"
            ],
            [
             0.8,
             "#7fbc41"
            ],
            [
             0.9,
             "#4d9221"
            ],
            [
             1,
             "#276419"
            ]
           ],
           "sequential": [
            [
             0,
             "#0d0887"
            ],
            [
             0.1111111111111111,
             "#46039f"
            ],
            [
             0.2222222222222222,
             "#7201a8"
            ],
            [
             0.3333333333333333,
             "#9c179e"
            ],
            [
             0.4444444444444444,
             "#bd3786"
            ],
            [
             0.5555555555555556,
             "#d8576b"
            ],
            [
             0.6666666666666666,
             "#ed7953"
            ],
            [
             0.7777777777777778,
             "#fb9f3a"
            ],
            [
             0.8888888888888888,
             "#fdca26"
            ],
            [
             1,
             "#f0f921"
            ]
           ],
           "sequentialminus": [
            [
             0,
             "#0d0887"
            ],
            [
             0.1111111111111111,
             "#46039f"
            ],
            [
             0.2222222222222222,
             "#7201a8"
            ],
            [
             0.3333333333333333,
             "#9c179e"
            ],
            [
             0.4444444444444444,
             "#bd3786"
            ],
            [
             0.5555555555555556,
             "#d8576b"
            ],
            [
             0.6666666666666666,
             "#ed7953"
            ],
            [
             0.7777777777777778,
             "#fb9f3a"
            ],
            [
             0.8888888888888888,
             "#fdca26"
            ],
            [
             1,
             "#f0f921"
            ]
           ]
          },
          "colorway": [
           "#636efa",
           "#EF553B",
           "#00cc96",
           "#ab63fa",
           "#FFA15A",
           "#19d3f3",
           "#FF6692",
           "#B6E880",
           "#FF97FF",
           "#FECB52"
          ],
          "font": {
           "color": "#2a3f5f"
          },
          "geo": {
           "bgcolor": "white",
           "lakecolor": "white",
           "landcolor": "#E5ECF6",
           "showlakes": true,
           "showland": true,
           "subunitcolor": "white"
          },
          "hoverlabel": {
           "align": "left"
          },
          "hovermode": "closest",
          "mapbox": {
           "style": "light"
          },
          "paper_bgcolor": "white",
          "plot_bgcolor": "#E5ECF6",
          "polar": {
           "angularaxis": {
            "gridcolor": "white",
            "linecolor": "white",
            "ticks": ""
           },
           "bgcolor": "#E5ECF6",
           "radialaxis": {
            "gridcolor": "white",
            "linecolor": "white",
            "ticks": ""
           }
          },
          "scene": {
           "xaxis": {
            "backgroundcolor": "#E5ECF6",
            "gridcolor": "white",
            "gridwidth": 2,
            "linecolor": "white",
            "showbackground": true,
            "ticks": "",
            "zerolinecolor": "white"
           },
           "yaxis": {
            "backgroundcolor": "#E5ECF6",
            "gridcolor": "white",
            "gridwidth": 2,
            "linecolor": "white",
            "showbackground": true,
            "ticks": "",
            "zerolinecolor": "white"
           },
           "zaxis": {
            "backgroundcolor": "#E5ECF6",
            "gridcolor": "white",
            "gridwidth": 2,
            "linecolor": "white",
            "showbackground": true,
            "ticks": "",
            "zerolinecolor": "white"
           }
          },
          "shapedefaults": {
           "line": {
            "color": "#2a3f5f"
           }
          },
          "ternary": {
           "aaxis": {
            "gridcolor": "white",
            "linecolor": "white",
            "ticks": ""
           },
           "baxis": {
            "gridcolor": "white",
            "linecolor": "white",
            "ticks": ""
           },
           "bgcolor": "#E5ECF6",
           "caxis": {
            "gridcolor": "white",
            "linecolor": "white",
            "ticks": ""
           }
          },
          "title": {
           "x": 0.05
          },
          "xaxis": {
           "automargin": true,
           "gridcolor": "white",
           "linecolor": "white",
           "ticks": "",
           "title": {
            "standoff": 15
           },
           "zerolinecolor": "white",
           "zerolinewidth": 2
          },
          "yaxis": {
           "automargin": true,
           "gridcolor": "white",
           "linecolor": "white",
           "ticks": "",
           "title": {
            "standoff": 15
           },
           "zerolinecolor": "white",
           "zerolinewidth": 2
          }
         }
        },
        "title": {
         "text": "treemap column: countries"
        }
       }
      }
     },
     "metadata": {},
     "output_type": "display_data"
    },
    {
     "data": {
      "application/vnd.plotly.v1+json": {
       "config": {
        "plotlyServerURL": "https://plot.ly"
       },
       "data": [
        {
         "labels": [
          0,
          0.1111111111,
          0.2222222222,
          0.3333333333,
          0.4444444444,
          0.5555555556,
          0.6666666667,
          0.7777777778,
          1,
          0.8888888889
         ],
         "parents": [
          "",
          "",
          "",
          "",
          "",
          "",
          "",
          "",
          "",
          ""
         ],
         "textinfo": "label+value",
         "type": "treemap",
         "values": [
          455636,
          68258,
          48363,
          25572,
          11918,
          6261,
          4973,
          2639,
          2530,
          1638
         ]
        }
       ],
       "layout": {
        "font": {
         "color": "white"
        },
        "paper_bgcolor": "black",
        "plot_bgcolor": "grey",
        "template": {
         "data": {
          "bar": [
           {
            "error_x": {
             "color": "#2a3f5f"
            },
            "error_y": {
             "color": "#2a3f5f"
            },
            "marker": {
             "line": {
              "color": "#E5ECF6",
              "width": 0.5
             },
             "pattern": {
              "fillmode": "overlay",
              "size": 10,
              "solidity": 0.2
             }
            },
            "type": "bar"
           }
          ],
          "barpolar": [
           {
            "marker": {
             "line": {
              "color": "#E5ECF6",
              "width": 0.5
             },
             "pattern": {
              "fillmode": "overlay",
              "size": 10,
              "solidity": 0.2
             }
            },
            "type": "barpolar"
           }
          ],
          "carpet": [
           {
            "aaxis": {
             "endlinecolor": "#2a3f5f",
             "gridcolor": "white",
             "linecolor": "white",
             "minorgridcolor": "white",
             "startlinecolor": "#2a3f5f"
            },
            "baxis": {
             "endlinecolor": "#2a3f5f",
             "gridcolor": "white",
             "linecolor": "white",
             "minorgridcolor": "white",
             "startlinecolor": "#2a3f5f"
            },
            "type": "carpet"
           }
          ],
          "choropleth": [
           {
            "colorbar": {
             "outlinewidth": 0,
             "ticks": ""
            },
            "type": "choropleth"
           }
          ],
          "contour": [
           {
            "colorbar": {
             "outlinewidth": 0,
             "ticks": ""
            },
            "colorscale": [
             [
              0,
              "#0d0887"
             ],
             [
              0.1111111111111111,
              "#46039f"
             ],
             [
              0.2222222222222222,
              "#7201a8"
             ],
             [
              0.3333333333333333,
              "#9c179e"
             ],
             [
              0.4444444444444444,
              "#bd3786"
             ],
             [
              0.5555555555555556,
              "#d8576b"
             ],
             [
              0.6666666666666666,
              "#ed7953"
             ],
             [
              0.7777777777777778,
              "#fb9f3a"
             ],
             [
              0.8888888888888888,
              "#fdca26"
             ],
             [
              1,
              "#f0f921"
             ]
            ],
            "type": "contour"
           }
          ],
          "contourcarpet": [
           {
            "colorbar": {
             "outlinewidth": 0,
             "ticks": ""
            },
            "type": "contourcarpet"
           }
          ],
          "heatmap": [
           {
            "colorbar": {
             "outlinewidth": 0,
             "ticks": ""
            },
            "colorscale": [
             [
              0,
              "#0d0887"
             ],
             [
              0.1111111111111111,
              "#46039f"
             ],
             [
              0.2222222222222222,
              "#7201a8"
             ],
             [
              0.3333333333333333,
              "#9c179e"
             ],
             [
              0.4444444444444444,
              "#bd3786"
             ],
             [
              0.5555555555555556,
              "#d8576b"
             ],
             [
              0.6666666666666666,
              "#ed7953"
             ],
             [
              0.7777777777777778,
              "#fb9f3a"
             ],
             [
              0.8888888888888888,
              "#fdca26"
             ],
             [
              1,
              "#f0f921"
             ]
            ],
            "type": "heatmap"
           }
          ],
          "heatmapgl": [
           {
            "colorbar": {
             "outlinewidth": 0,
             "ticks": ""
            },
            "colorscale": [
             [
              0,
              "#0d0887"
             ],
             [
              0.1111111111111111,
              "#46039f"
             ],
             [
              0.2222222222222222,
              "#7201a8"
             ],
             [
              0.3333333333333333,
              "#9c179e"
             ],
             [
              0.4444444444444444,
              "#bd3786"
             ],
             [
              0.5555555555555556,
              "#d8576b"
             ],
             [
              0.6666666666666666,
              "#ed7953"
             ],
             [
              0.7777777777777778,
              "#fb9f3a"
             ],
             [
              0.8888888888888888,
              "#fdca26"
             ],
             [
              1,
              "#f0f921"
             ]
            ],
            "type": "heatmapgl"
           }
          ],
          "histogram": [
           {
            "marker": {
             "pattern": {
              "fillmode": "overlay",
              "size": 10,
              "solidity": 0.2
             }
            },
            "type": "histogram"
           }
          ],
          "histogram2d": [
           {
            "colorbar": {
             "outlinewidth": 0,
             "ticks": ""
            },
            "colorscale": [
             [
              0,
              "#0d0887"
             ],
             [
              0.1111111111111111,
              "#46039f"
             ],
             [
              0.2222222222222222,
              "#7201a8"
             ],
             [
              0.3333333333333333,
              "#9c179e"
             ],
             [
              0.4444444444444444,
              "#bd3786"
             ],
             [
              0.5555555555555556,
              "#d8576b"
             ],
             [
              0.6666666666666666,
              "#ed7953"
             ],
             [
              0.7777777777777778,
              "#fb9f3a"
             ],
             [
              0.8888888888888888,
              "#fdca26"
             ],
             [
              1,
              "#f0f921"
             ]
            ],
            "type": "histogram2d"
           }
          ],
          "histogram2dcontour": [
           {
            "colorbar": {
             "outlinewidth": 0,
             "ticks": ""
            },
            "colorscale": [
             [
              0,
              "#0d0887"
             ],
             [
              0.1111111111111111,
              "#46039f"
             ],
             [
              0.2222222222222222,
              "#7201a8"
             ],
             [
              0.3333333333333333,
              "#9c179e"
             ],
             [
              0.4444444444444444,
              "#bd3786"
             ],
             [
              0.5555555555555556,
              "#d8576b"
             ],
             [
              0.6666666666666666,
              "#ed7953"
             ],
             [
              0.7777777777777778,
              "#fb9f3a"
             ],
             [
              0.8888888888888888,
              "#fdca26"
             ],
             [
              1,
              "#f0f921"
             ]
            ],
            "type": "histogram2dcontour"
           }
          ],
          "mesh3d": [
           {
            "colorbar": {
             "outlinewidth": 0,
             "ticks": ""
            },
            "type": "mesh3d"
           }
          ],
          "parcoords": [
           {
            "line": {
             "colorbar": {
              "outlinewidth": 0,
              "ticks": ""
             }
            },
            "type": "parcoords"
           }
          ],
          "pie": [
           {
            "automargin": true,
            "type": "pie"
           }
          ],
          "scatter": [
           {
            "fillpattern": {
             "fillmode": "overlay",
             "size": 10,
             "solidity": 0.2
            },
            "type": "scatter"
           }
          ],
          "scatter3d": [
           {
            "line": {
             "colorbar": {
              "outlinewidth": 0,
              "ticks": ""
             }
            },
            "marker": {
             "colorbar": {
              "outlinewidth": 0,
              "ticks": ""
             }
            },
            "type": "scatter3d"
           }
          ],
          "scattercarpet": [
           {
            "marker": {
             "colorbar": {
              "outlinewidth": 0,
              "ticks": ""
             }
            },
            "type": "scattercarpet"
           }
          ],
          "scattergeo": [
           {
            "marker": {
             "colorbar": {
              "outlinewidth": 0,
              "ticks": ""
             }
            },
            "type": "scattergeo"
           }
          ],
          "scattergl": [
           {
            "marker": {
             "colorbar": {
              "outlinewidth": 0,
              "ticks": ""
             }
            },
            "type": "scattergl"
           }
          ],
          "scattermapbox": [
           {
            "marker": {
             "colorbar": {
              "outlinewidth": 0,
              "ticks": ""
             }
            },
            "type": "scattermapbox"
           }
          ],
          "scatterpolar": [
           {
            "marker": {
             "colorbar": {
              "outlinewidth": 0,
              "ticks": ""
             }
            },
            "type": "scatterpolar"
           }
          ],
          "scatterpolargl": [
           {
            "marker": {
             "colorbar": {
              "outlinewidth": 0,
              "ticks": ""
             }
            },
            "type": "scatterpolargl"
           }
          ],
          "scatterternary": [
           {
            "marker": {
             "colorbar": {
              "outlinewidth": 0,
              "ticks": ""
             }
            },
            "type": "scatterternary"
           }
          ],
          "surface": [
           {
            "colorbar": {
             "outlinewidth": 0,
             "ticks": ""
            },
            "colorscale": [
             [
              0,
              "#0d0887"
             ],
             [
              0.1111111111111111,
              "#46039f"
             ],
             [
              0.2222222222222222,
              "#7201a8"
             ],
             [
              0.3333333333333333,
              "#9c179e"
             ],
             [
              0.4444444444444444,
              "#bd3786"
             ],
             [
              0.5555555555555556,
              "#d8576b"
             ],
             [
              0.6666666666666666,
              "#ed7953"
             ],
             [
              0.7777777777777778,
              "#fb9f3a"
             ],
             [
              0.8888888888888888,
              "#fdca26"
             ],
             [
              1,
              "#f0f921"
             ]
            ],
            "type": "surface"
           }
          ],
          "table": [
           {
            "cells": {
             "fill": {
              "color": "#EBF0F8"
             },
             "line": {
              "color": "white"
             }
            },
            "header": {
             "fill": {
              "color": "#C8D4E3"
             },
             "line": {
              "color": "white"
             }
            },
            "type": "table"
           }
          ]
         },
         "layout": {
          "annotationdefaults": {
           "arrowcolor": "#2a3f5f",
           "arrowhead": 0,
           "arrowwidth": 1
          },
          "autotypenumbers": "strict",
          "coloraxis": {
           "colorbar": {
            "outlinewidth": 0,
            "ticks": ""
           }
          },
          "colorscale": {
           "diverging": [
            [
             0,
             "#8e0152"
            ],
            [
             0.1,
             "#c51b7d"
            ],
            [
             0.2,
             "#de77ae"
            ],
            [
             0.3,
             "#f1b6da"
            ],
            [
             0.4,
             "#fde0ef"
            ],
            [
             0.5,
             "#f7f7f7"
            ],
            [
             0.6,
             "#e6f5d0"
            ],
            [
             0.7,
             "#b8e186"
            ],
            [
             0.8,
             "#7fbc41"
            ],
            [
             0.9,
             "#4d9221"
            ],
            [
             1,
             "#276419"
            ]
           ],
           "sequential": [
            [
             0,
             "#0d0887"
            ],
            [
             0.1111111111111111,
             "#46039f"
            ],
            [
             0.2222222222222222,
             "#7201a8"
            ],
            [
             0.3333333333333333,
             "#9c179e"
            ],
            [
             0.4444444444444444,
             "#bd3786"
            ],
            [
             0.5555555555555556,
             "#d8576b"
            ],
            [
             0.6666666666666666,
             "#ed7953"
            ],
            [
             0.7777777777777778,
             "#fb9f3a"
            ],
            [
             0.8888888888888888,
             "#fdca26"
            ],
            [
             1,
             "#f0f921"
            ]
           ],
           "sequentialminus": [
            [
             0,
             "#0d0887"
            ],
            [
             0.1111111111111111,
             "#46039f"
            ],
            [
             0.2222222222222222,
             "#7201a8"
            ],
            [
             0.3333333333333333,
             "#9c179e"
            ],
            [
             0.4444444444444444,
             "#bd3786"
            ],
            [
             0.5555555555555556,
             "#d8576b"
            ],
            [
             0.6666666666666666,
             "#ed7953"
            ],
            [
             0.7777777777777778,
             "#fb9f3a"
            ],
            [
             0.8888888888888888,
             "#fdca26"
            ],
            [
             1,
             "#f0f921"
            ]
           ]
          },
          "colorway": [
           "#636efa",
           "#EF553B",
           "#00cc96",
           "#ab63fa",
           "#FFA15A",
           "#19d3f3",
           "#FF6692",
           "#B6E880",
           "#FF97FF",
           "#FECB52"
          ],
          "font": {
           "color": "#2a3f5f"
          },
          "geo": {
           "bgcolor": "white",
           "lakecolor": "white",
           "landcolor": "#E5ECF6",
           "showlakes": true,
           "showland": true,
           "subunitcolor": "white"
          },
          "hoverlabel": {
           "align": "left"
          },
          "hovermode": "closest",
          "mapbox": {
           "style": "light"
          },
          "paper_bgcolor": "white",
          "plot_bgcolor": "#E5ECF6",
          "polar": {
           "angularaxis": {
            "gridcolor": "white",
            "linecolor": "white",
            "ticks": ""
           },
           "bgcolor": "#E5ECF6",
           "radialaxis": {
            "gridcolor": "white",
            "linecolor": "white",
            "ticks": ""
           }
          },
          "scene": {
           "xaxis": {
            "backgroundcolor": "#E5ECF6",
            "gridcolor": "white",
            "gridwidth": 2,
            "linecolor": "white",
            "showbackground": true,
            "ticks": "",
            "zerolinecolor": "white"
           },
           "yaxis": {
            "backgroundcolor": "#E5ECF6",
            "gridcolor": "white",
            "gridwidth": 2,
            "linecolor": "white",
            "showbackground": true,
            "ticks": "",
            "zerolinecolor": "white"
           },
           "zaxis": {
            "backgroundcolor": "#E5ECF6",
            "gridcolor": "white",
            "gridwidth": 2,
            "linecolor": "white",
            "showbackground": true,
            "ticks": "",
            "zerolinecolor": "white"
           }
          },
          "shapedefaults": {
           "line": {
            "color": "#2a3f5f"
           }
          },
          "ternary": {
           "aaxis": {
            "gridcolor": "white",
            "linecolor": "white",
            "ticks": ""
           },
           "baxis": {
            "gridcolor": "white",
            "linecolor": "white",
            "ticks": ""
           },
           "bgcolor": "#E5ECF6",
           "caxis": {
            "gridcolor": "white",
            "linecolor": "white",
            "ticks": ""
           }
          },
          "title": {
           "x": 0.05
          },
          "xaxis": {
           "automargin": true,
           "gridcolor": "white",
           "linecolor": "white",
           "ticks": "",
           "title": {
            "standoff": 15
           },
           "zerolinecolor": "white",
           "zerolinewidth": 2
          },
          "yaxis": {
           "automargin": true,
           "gridcolor": "white",
           "linecolor": "white",
           "ticks": "",
           "title": {
            "standoff": 15
           },
           "zerolinecolor": "white",
           "zerolinewidth": 2
          }
         }
        },
        "title": {
         "text": "treemap column: labels_note"
        }
       }
      }
     },
     "metadata": {},
     "output_type": "display_data"
    }
   ],
   "source": [
    "colonnes_a_travailler = ['ecoscore_tags', 'ecoscore_score', 'countries', 'labels_note']  \n",
    "df = load_jsonl_to_dataframe(file_path)\n",
    "for column in colonnes_a_travailler:\n",
    "    create_treemap_for_column(df, column)"
   ]
  },
  {
   "cell_type": "code",
   "execution_count": 40,
   "metadata": {},
   "outputs": [],
   "source": [
    "def count_unique_values(jsonl_file_path, colonnes_a_travailler):\n",
    "    data = []\n",
    "    with open(jsonl_file_path, 'r') as file:\n",
    "        for line in file:\n",
    "            data.append(json.loads(line))\n",
    "    df = pd.DataFrame(data)\n",
    "    unique_counts = {}\n",
    "    for column in colonnes_a_travailler:\n",
    "        if column in df.columns:\n",
    "            unique_count = df[column].nunique()\n",
    "            if pd.api.types.is_numeric_dtype(df[column]):\n",
    "                min_val = df[column].min()\n",
    "                max_val = df[column].max()\n",
    "                unique_counts[column] = {\n",
    "                    'unique_count': unique_count,\n",
    "                    'min': min_val,\n",
    "                    'max': max_val\n",
    "                }\n",
    "            else:\n",
    "                unique_counts[column] = {\n",
    "                    'unique_count': unique_count\n",
    "                }\n",
    "        else:\n",
    "            unique_counts[column] = 'Column not found in data'\n",
    "    return unique_counts"
   ]
  },
  {
   "cell_type": "code",
   "execution_count": 41,
   "metadata": {},
   "outputs": [
    {
     "name": "stdout",
     "output_type": "stream",
     "text": [
      "{'ecoscore_tags': {'unique_count': 6}, 'ecoscore_score': {'unique_count': 101, 'min': 0.0, 'max': 100.0}, 'countries': {'unique_count': 829, 'min': 0.0, 'max': 1.0}, 'labels_note': {'unique_count': 10, 'min': 0.0, 'max': 1.0}}\n"
     ]
    }
   ],
   "source": [
    "unique_values = count_unique_values(file_path, colonnes_a_travailler)\n",
    "print(unique_values)"
   ]
  },
  {
   "cell_type": "code",
   "execution_count": 42,
   "metadata": {},
   "outputs": [
    {
     "name": "stdout",
     "output_type": "stream",
     "text": [
      "groups                       0.444444\n",
      "packaging                       empty\n",
      "name              marmelade de citron\n",
      "ecoscore_tags                   empty\n",
      "ecoscore_score                   49.0\n",
      "countries                    0.296089\n",
      "ingredients                     empty\n",
      "categories                      empty\n",
      "labels_note                       0.0\n",
      "Name: 996, dtype: object\n"
     ]
    }
   ],
   "source": [
    "ligne_12 = df.iloc[996]  \n",
    "print(ligne_12)"
   ]
  },
  {
   "cell_type": "code",
   "execution_count": null,
   "metadata": {},
   "outputs": [],
   "source": []
  }
 ],
 "metadata": {
  "kernelspec": {
   "display_name": "greenIa",
   "language": "python",
   "name": "python3"
  },
  "language_info": {
   "codemirror_mode": {
    "name": "ipython",
    "version": 3
   },
   "file_extension": ".py",
   "mimetype": "text/x-python",
   "name": "python",
   "nbconvert_exporter": "python",
   "pygments_lexer": "ipython3",
   "version": "3.9.18"
  }
 },
 "nbformat": 4,
 "nbformat_minor": 2
}
