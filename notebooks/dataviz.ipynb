{
 "cells": [
  {
   "cell_type": "code",
   "execution_count": 418,
   "metadata": {},
   "outputs": [],
   "source": [
    "import json\n",
    "import random\n",
    "import pandas as pd\n",
    "import jsonlines\n",
    "import warnings\n",
    "import plotly.graph_objects as go\n",
    "\n",
    "pd.set_option('display.max_rows', 100)\n",
    "warnings.filterwarnings(\"ignore\", category=pd.errors.DtypeWarning)"
   ]
  },
  {
   "cell_type": "code",
   "execution_count": 437,
   "metadata": {},
   "outputs": [],
   "source": [
    "file_path = '/home/carolus/Documents/school/green_ia/data/05_data/05_valid.jsonl'\n",
    "num_samples = 500"
   ]
  },
  {
   "cell_type": "code",
   "execution_count": 438,
   "metadata": {},
   "outputs": [],
   "source": [
    "def sample_jsonl_file(file_path, num_samples):\n",
    "    sample_lines = []\n",
    "\n",
    "    with open(file_path, 'r') as file:\n",
    "        line_count = 0\n",
    "        for line in file:\n",
    "            line_count += 1\n",
    "            if len(sample_lines) < num_samples:\n",
    "                sample_lines.append(line)\n",
    "            else:\n",
    "                idx = random.randint(0, line_count - 1)\n",
    "                if idx < num_samples:\n",
    "                    sample_lines[idx] = line\n",
    "\n",
    "    data_list = [json.loads(line) for line in sample_lines]\n",
    "    df = pd.DataFrame(data_list)\n",
    "    return df"
   ]
  },
  {
   "cell_type": "code",
   "execution_count": 439,
   "metadata": {},
   "outputs": [],
   "source": [
    "df = sample_jsonl_file(file_path, num_samples)"
   ]
  },
  {
   "cell_type": "code",
   "execution_count": 440,
   "metadata": {},
   "outputs": [
    {
     "data": {
      "text/html": [
       "<div>\n",
       "<style scoped>\n",
       "    .dataframe tbody tr th:only-of-type {\n",
       "        vertical-align: middle;\n",
       "    }\n",
       "\n",
       "    .dataframe tbody tr th {\n",
       "        vertical-align: top;\n",
       "    }\n",
       "\n",
       "    .dataframe thead th {\n",
       "        text-align: right;\n",
       "    }\n",
       "</style>\n",
       "<table border=\"1\" class=\"dataframe\">\n",
       "  <thead>\n",
       "    <tr style=\"text-align: right;\">\n",
       "      <th></th>\n",
       "      <th>groups</th>\n",
       "      <th>packaging</th>\n",
       "      <th>name</th>\n",
       "      <th>ecoscore_tags</th>\n",
       "      <th>ecoscore_score</th>\n",
       "      <th>countries</th>\n",
       "      <th>ingredients</th>\n",
       "      <th>categories</th>\n",
       "      <th>labels_note</th>\n",
       "    </tr>\n",
       "  </thead>\n",
       "  <tbody>\n",
       "    <tr>\n",
       "      <th>440</th>\n",
       "      <td>0.444444</td>\n",
       "      <td>empty</td>\n",
       "      <td>lait demi ecreme</td>\n",
       "      <td>0.75</td>\n",
       "      <td>36.0</td>\n",
       "      <td>0.311475</td>\n",
       "      <td>empty</td>\n",
       "      <td></td>\n",
       "      <td>0.000000</td>\n",
       "    </tr>\n",
       "    <tr>\n",
       "      <th>441</th>\n",
       "      <td>0.111111</td>\n",
       "      <td>empty</td>\n",
       "      <td>organic poppy seed dressing</td>\n",
       "      <td>0.75</td>\n",
       "      <td>34.0</td>\n",
       "      <td>1.000000</td>\n",
       "      <td>empty</td>\n",
       "      <td></td>\n",
       "      <td>0.222222</td>\n",
       "    </tr>\n",
       "    <tr>\n",
       "      <th>442</th>\n",
       "      <td>0.777778</td>\n",
       "      <td>empty</td>\n",
       "      <td>sweet peach tea</td>\n",
       "      <td>0.50</td>\n",
       "      <td>43.0</td>\n",
       "      <td>1.000000</td>\n",
       "      <td>water sugar disaccharide addedsugar</td>\n",
       "      <td></td>\n",
       "      <td>0.000000</td>\n",
       "    </tr>\n",
       "    <tr>\n",
       "      <th>443</th>\n",
       "      <td>0.000000</td>\n",
       "      <td></td>\n",
       "      <td>joghurt erdbeer</td>\n",
       "      <td>0.50</td>\n",
       "      <td>51.0</td>\n",
       "      <td>0.333333</td>\n",
       "      <td>sugar disaccharide addedsugar</td>\n",
       "      <td>snacks</td>\n",
       "      <td>0.777778</td>\n",
       "    </tr>\n",
       "    <tr>\n",
       "      <th>444</th>\n",
       "      <td>0.222222</td>\n",
       "      <td>empty</td>\n",
       "      <td>sałatka z makrelą, pikantna.</td>\n",
       "      <td>1.00</td>\n",
       "      <td>0.0</td>\n",
       "      <td>0.737430</td>\n",
       "      <td>water oilandfat sugar disaccharide salt addeds...</td>\n",
       "      <td></td>\n",
       "      <td>0.000000</td>\n",
       "    </tr>\n",
       "    <tr>\n",
       "      <th>445</th>\n",
       "      <td>0.000000</td>\n",
       "      <td>empty</td>\n",
       "      <td>fondant menthe subtile</td>\n",
       "      <td>1.00</td>\n",
       "      <td>15.0</td>\n",
       "      <td>0.000000</td>\n",
       "      <td>sugar disaccharide addedsugar</td>\n",
       "      <td></td>\n",
       "      <td>0.000000</td>\n",
       "    </tr>\n",
       "    <tr>\n",
       "      <th>446</th>\n",
       "      <td>0.000000</td>\n",
       "      <td>empty</td>\n",
       "      <td>whole foods market, dark chocolate almonds</td>\n",
       "      <td>0.75</td>\n",
       "      <td>22.0</td>\n",
       "      <td>1.000000</td>\n",
       "      <td>oilandfat sugar disaccharide addedsugar</td>\n",
       "      <td>confectioneries sweetsnacks snacks</td>\n",
       "      <td>0.000000</td>\n",
       "    </tr>\n",
       "    <tr>\n",
       "      <th>447</th>\n",
       "      <td>0.000000</td>\n",
       "      <td>empty</td>\n",
       "      <td>croissant glaseado y relleno de crema de cacao...</td>\n",
       "      <td>0.25</td>\n",
       "      <td>68.0</td>\n",
       "      <td>0.874317</td>\n",
       "      <td>empty</td>\n",
       "      <td>sweetsnacks snacks</td>\n",
       "      <td>0.000000</td>\n",
       "    </tr>\n",
       "    <tr>\n",
       "      <th>448</th>\n",
       "      <td>0.666667</td>\n",
       "      <td>empty</td>\n",
       "      <td>jambon a l'ancienne</td>\n",
       "      <td>1.00</td>\n",
       "      <td>12.0</td>\n",
       "      <td>0.288136</td>\n",
       "      <td>empty</td>\n",
       "      <td>meats meatsandtheirproducts</td>\n",
       "      <td>0.000000</td>\n",
       "    </tr>\n",
       "    <tr>\n",
       "      <th>449</th>\n",
       "      <td>0.000000</td>\n",
       "      <td>empty</td>\n",
       "      <td>miel de mûrier</td>\n",
       "      <td>0.25</td>\n",
       "      <td>72.0</td>\n",
       "      <td>0.311475</td>\n",
       "      <td>empty</td>\n",
       "      <td></td>\n",
       "      <td>0.000000</td>\n",
       "    </tr>\n",
       "    <tr>\n",
       "      <th>450</th>\n",
       "      <td>0.000000</td>\n",
       "      <td>empty</td>\n",
       "      <td></td>\n",
       "      <td>0.50</td>\n",
       "      <td>49.0</td>\n",
       "      <td>0.638298</td>\n",
       "      <td>vegetableoilandfat oilandfat sugar disaccharid...</td>\n",
       "      <td>sweetsnacks snacks</td>\n",
       "      <td>0.000000</td>\n",
       "    </tr>\n",
       "    <tr>\n",
       "      <th>451</th>\n",
       "      <td>NaN</td>\n",
       "      <td>empty</td>\n",
       "      <td>vegeese saveur fumé</td>\n",
       "      <td>0.50</td>\n",
       "      <td>46.0</td>\n",
       "      <td>0.000000</td>\n",
       "      <td>oilandfat salt</td>\n",
       "      <td>plantbasedfoods plantbasedfoodsandbeverages</td>\n",
       "      <td>1.000000</td>\n",
       "    </tr>\n",
       "    <tr>\n",
       "      <th>452</th>\n",
       "      <td>0.333333</td>\n",
       "      <td>empty</td>\n",
       "      <td>none</td>\n",
       "      <td>1.00</td>\n",
       "      <td>0.0</td>\n",
       "      <td>0.994536</td>\n",
       "      <td></td>\n",
       "      <td>plantbasedfoods plantbasedfoodsandbeverages</td>\n",
       "      <td>0.333333</td>\n",
       "    </tr>\n",
       "    <tr>\n",
       "      <th>453</th>\n",
       "      <td>NaN</td>\n",
       "      <td>empty</td>\n",
       "      <td>arome vanille</td>\n",
       "      <td>0.25</td>\n",
       "      <td>63.0</td>\n",
       "      <td>0.311475</td>\n",
       "      <td>empty</td>\n",
       "      <td>plantbasedfoods plantbasedfoodsandbeverages</td>\n",
       "      <td>0.000000</td>\n",
       "    </tr>\n",
       "    <tr>\n",
       "      <th>454</th>\n",
       "      <td>NaN</td>\n",
       "      <td></td>\n",
       "      <td>salchicha de tofu ecológica estilo frankfurt</td>\n",
       "      <td>0.25</td>\n",
       "      <td>79.0</td>\n",
       "      <td>0.968553</td>\n",
       "      <td>oilandfat salt</td>\n",
       "      <td>plantbasedfoods plantbasedfoodsandbeverages</td>\n",
       "      <td>1.000000</td>\n",
       "    </tr>\n",
       "    <tr>\n",
       "      <th>455</th>\n",
       "      <td>0.555556</td>\n",
       "      <td>empty</td>\n",
       "      <td>copos de arroz y trigo integral</td>\n",
       "      <td>0.75</td>\n",
       "      <td>25.0</td>\n",
       "      <td>0.874317</td>\n",
       "      <td>sugar disaccharide addedsugar salt</td>\n",
       "      <td>plantbasedfoods plantbasedfoodsandbeverages</td>\n",
       "      <td>0.000000</td>\n",
       "    </tr>\n",
       "    <tr>\n",
       "      <th>456</th>\n",
       "      <td>0.222222</td>\n",
       "      <td>empty</td>\n",
       "      <td>1 boîte haricots blancs à la tomate</td>\n",
       "      <td>0.00</td>\n",
       "      <td>81.0</td>\n",
       "      <td>0.311475</td>\n",
       "      <td>water salt</td>\n",
       "      <td>plantbasedfoods plantbasedfoodsandbeverages</td>\n",
       "      <td>0.222222</td>\n",
       "    </tr>\n",
       "    <tr>\n",
       "      <th>457</th>\n",
       "      <td>0.111111</td>\n",
       "      <td>empty</td>\n",
       "      <td>extra virgin olive oil cold press</td>\n",
       "      <td>0.75</td>\n",
       "      <td>27.0</td>\n",
       "      <td>1.000000</td>\n",
       "      <td>empty</td>\n",
       "      <td>plantbasedfoods plantbasedfoodsandbeverages</td>\n",
       "      <td>0.000000</td>\n",
       "    </tr>\n",
       "    <tr>\n",
       "      <th>458</th>\n",
       "      <td>0.111111</td>\n",
       "      <td>empty</td>\n",
       "      <td>sauce barbecue</td>\n",
       "      <td>0.25</td>\n",
       "      <td>67.0</td>\n",
       "      <td>0.254438</td>\n",
       "      <td>empty</td>\n",
       "      <td></td>\n",
       "      <td>0.000000</td>\n",
       "    </tr>\n",
       "    <tr>\n",
       "      <th>459</th>\n",
       "      <td>0.111111</td>\n",
       "      <td>empty</td>\n",
       "      <td>miel y mostaza con arándanos</td>\n",
       "      <td>0.50</td>\n",
       "      <td>54.0</td>\n",
       "      <td>NaN</td>\n",
       "      <td>empty</td>\n",
       "      <td></td>\n",
       "      <td>0.111111</td>\n",
       "    </tr>\n",
       "    <tr>\n",
       "      <th>460</th>\n",
       "      <td>0.444444</td>\n",
       "      <td>empty</td>\n",
       "      <td>grana padano</td>\n",
       "      <td>0.50</td>\n",
       "      <td>43.0</td>\n",
       "      <td>0.874317</td>\n",
       "      <td>empty</td>\n",
       "      <td></td>\n",
       "      <td>0.111111</td>\n",
       "    </tr>\n",
       "    <tr>\n",
       "      <th>461</th>\n",
       "      <td>0.444444</td>\n",
       "      <td>empty</td>\n",
       "      <td>gouda holland igp jeune cumin</td>\n",
       "      <td>0.50</td>\n",
       "      <td>48.0</td>\n",
       "      <td>0.296089</td>\n",
       "      <td>empty</td>\n",
       "      <td></td>\n",
       "      <td>0.111111</td>\n",
       "    </tr>\n",
       "    <tr>\n",
       "      <th>462</th>\n",
       "      <td>0.444444</td>\n",
       "      <td></td>\n",
       "      <td>emmental</td>\n",
       "      <td>0.75</td>\n",
       "      <td>33.0</td>\n",
       "      <td>NaN</td>\n",
       "      <td>salt</td>\n",
       "      <td>dairies</td>\n",
       "      <td>0.000000</td>\n",
       "    </tr>\n",
       "    <tr>\n",
       "      <th>463</th>\n",
       "      <td>0.444444</td>\n",
       "      <td>empty</td>\n",
       "      <td>muller, corner, choco balls with vanilla lowfa...</td>\n",
       "      <td>0.25</td>\n",
       "      <td>67.0</td>\n",
       "      <td>1.000000</td>\n",
       "      <td>flavouring water sugar disaccharide salt added...</td>\n",
       "      <td></td>\n",
       "      <td>0.000000</td>\n",
       "    </tr>\n",
       "    <tr>\n",
       "      <th>464</th>\n",
       "      <td>0.444444</td>\n",
       "      <td>empty</td>\n",
       "      <td>lait</td>\n",
       "      <td>0.75</td>\n",
       "      <td>36.0</td>\n",
       "      <td>0.901639</td>\n",
       "      <td>empty</td>\n",
       "      <td>dairies</td>\n",
       "      <td>0.000000</td>\n",
       "    </tr>\n",
       "    <tr>\n",
       "      <th>465</th>\n",
       "      <td>0.000000</td>\n",
       "      <td></td>\n",
       "      <td>noir dessert</td>\n",
       "      <td>0.50</td>\n",
       "      <td>49.0</td>\n",
       "      <td>0.000000</td>\n",
       "      <td>flavouring sugar disaccharide addedsugar</td>\n",
       "      <td>sweetsnacks snacks</td>\n",
       "      <td>0.888889</td>\n",
       "    </tr>\n",
       "    <tr>\n",
       "      <th>466</th>\n",
       "      <td>0.777778</td>\n",
       "      <td></td>\n",
       "      <td>sweet blueberry wine</td>\n",
       "      <td>0.50</td>\n",
       "      <td>45.0</td>\n",
       "      <td>1.000000</td>\n",
       "      <td>empty</td>\n",
       "      <td>beverages</td>\n",
       "      <td>0.000000</td>\n",
       "    </tr>\n",
       "    <tr>\n",
       "      <th>467</th>\n",
       "      <td>0.666667</td>\n",
       "      <td>empty</td>\n",
       "      <td>salami de gênes piquant - hot genoa salami</td>\n",
       "      <td>1.00</td>\n",
       "      <td>16.0</td>\n",
       "      <td>0.158470</td>\n",
       "      <td>empty</td>\n",
       "      <td>meatsandtheirproducts</td>\n",
       "      <td>0.222222</td>\n",
       "    </tr>\n",
       "    <tr>\n",
       "      <th>468</th>\n",
       "      <td>NaN</td>\n",
       "      <td>empty</td>\n",
       "      <td>poudre de cacao</td>\n",
       "      <td>1.00</td>\n",
       "      <td>5.0</td>\n",
       "      <td>0.153439</td>\n",
       "      <td>empty</td>\n",
       "      <td></td>\n",
       "      <td>0.666667</td>\n",
       "    </tr>\n",
       "    <tr>\n",
       "      <th>469</th>\n",
       "      <td>0.666667</td>\n",
       "      <td>empty</td>\n",
       "      <td>kükenherz eier</td>\n",
       "      <td>0.75</td>\n",
       "      <td>30.0</td>\n",
       "      <td>0.333333</td>\n",
       "      <td></td>\n",
       "      <td></td>\n",
       "      <td>0.000000</td>\n",
       "    </tr>\n",
       "    <tr>\n",
       "      <th>470</th>\n",
       "      <td>0.666667</td>\n",
       "      <td>empty</td>\n",
       "      <td>roti filet de porc facon orloff</td>\n",
       "      <td>0.75</td>\n",
       "      <td>24.0</td>\n",
       "      <td>0.315217</td>\n",
       "      <td>empty</td>\n",
       "      <td></td>\n",
       "      <td>0.222222</td>\n",
       "    </tr>\n",
       "    <tr>\n",
       "      <th>471</th>\n",
       "      <td>0.666667</td>\n",
       "      <td>kunststoff</td>\n",
       "      <td>edelsalami mit rindfleisch</td>\n",
       "      <td>0.75</td>\n",
       "      <td>39.0</td>\n",
       "      <td>0.324468</td>\n",
       "      <td>addedsugar salt</td>\n",
       "      <td></td>\n",
       "      <td>0.000000</td>\n",
       "    </tr>\n",
       "    <tr>\n",
       "      <th>472</th>\n",
       "      <td>0.000000</td>\n",
       "      <td>empty</td>\n",
       "      <td>almendras chocolate negro</td>\n",
       "      <td>0.75</td>\n",
       "      <td>22.0</td>\n",
       "      <td>0.874317</td>\n",
       "      <td></td>\n",
       "      <td>sweetsnacks snacks</td>\n",
       "      <td>0.333333</td>\n",
       "    </tr>\n",
       "    <tr>\n",
       "      <th>473</th>\n",
       "      <td>0.666667</td>\n",
       "      <td>empty</td>\n",
       "      <td>pilons de poulet</td>\n",
       "      <td>0.75</td>\n",
       "      <td>39.0</td>\n",
       "      <td>0.311475</td>\n",
       "      <td>empty</td>\n",
       "      <td>meatsandtheirproducts</td>\n",
       "      <td>0.222222</td>\n",
       "    </tr>\n",
       "    <tr>\n",
       "      <th>474</th>\n",
       "      <td>0.444444</td>\n",
       "      <td>empty</td>\n",
       "      <td>whole milk</td>\n",
       "      <td>0.75</td>\n",
       "      <td>32.0</td>\n",
       "      <td>0.994565</td>\n",
       "      <td>empty</td>\n",
       "      <td>dairies</td>\n",
       "      <td>0.111111</td>\n",
       "    </tr>\n",
       "    <tr>\n",
       "      <th>475</th>\n",
       "      <td>NaN</td>\n",
       "      <td>de plástico</td>\n",
       "      <td>agave syrup</td>\n",
       "      <td>0.50</td>\n",
       "      <td>43.0</td>\n",
       "      <td>0.863905</td>\n",
       "      <td>disaccharide addedsugar</td>\n",
       "      <td></td>\n",
       "      <td>0.333333</td>\n",
       "    </tr>\n",
       "    <tr>\n",
       "      <th>476</th>\n",
       "      <td>0.000000</td>\n",
       "      <td>empty</td>\n",
       "      <td>f**king delicious snack bar caramel peanut</td>\n",
       "      <td>0.50</td>\n",
       "      <td>42.0</td>\n",
       "      <td>NaN</td>\n",
       "      <td>vegetableoilandfat oilandfat salt</td>\n",
       "      <td>sweetsnacks snacks</td>\n",
       "      <td>0.111111</td>\n",
       "    </tr>\n",
       "    <tr>\n",
       "      <th>477</th>\n",
       "      <td>0.777778</td>\n",
       "      <td>empty</td>\n",
       "      <td>скопско</td>\n",
       "      <td>0.75</td>\n",
       "      <td>37.0</td>\n",
       "      <td>0.683060</td>\n",
       "      <td>empty</td>\n",
       "      <td>beverages</td>\n",
       "      <td>0.000000</td>\n",
       "    </tr>\n",
       "    <tr>\n",
       "      <th>478</th>\n",
       "      <td>0.444444</td>\n",
       "      <td>empty</td>\n",
       "      <td>comte</td>\n",
       "      <td>0.50</td>\n",
       "      <td>51.0</td>\n",
       "      <td>0.288136</td>\n",
       "      <td>empty</td>\n",
       "      <td>fermentedfoods dairies</td>\n",
       "      <td>0.000000</td>\n",
       "    </tr>\n",
       "    <tr>\n",
       "      <th>479</th>\n",
       "      <td>0.666667</td>\n",
       "      <td>empty</td>\n",
       "      <td>saucisses de volaille savoyardes</td>\n",
       "      <td>1.00</td>\n",
       "      <td>0.0</td>\n",
       "      <td>0.311475</td>\n",
       "      <td>water oilandfat salt addedsugar</td>\n",
       "      <td></td>\n",
       "      <td>0.000000</td>\n",
       "    </tr>\n",
       "    <tr>\n",
       "      <th>480</th>\n",
       "      <td>0.000000</td>\n",
       "      <td>empty</td>\n",
       "      <td>panetón reyna con chispas sabor a chocolate</td>\n",
       "      <td>0.75</td>\n",
       "      <td>39.0</td>\n",
       "      <td>0.098361</td>\n",
       "      <td>oilandfat sugar disaccharide salt addedsugar</td>\n",
       "      <td>sweetsnacks snacks</td>\n",
       "      <td>0.111111</td>\n",
       "    </tr>\n",
       "    <tr>\n",
       "      <th>481</th>\n",
       "      <td>0.333333</td>\n",
       "      <td>empty</td>\n",
       "      <td>salade de fruit</td>\n",
       "      <td>0.25</td>\n",
       "      <td>69.0</td>\n",
       "      <td>0.315217</td>\n",
       "      <td>empty</td>\n",
       "      <td>plantbasedfoods plantbasedfoodsandbeverages</td>\n",
       "      <td>0.111111</td>\n",
       "    </tr>\n",
       "    <tr>\n",
       "      <th>482</th>\n",
       "      <td>0.111111</td>\n",
       "      <td>plastique</td>\n",
       "      <td>huile de palme rouge</td>\n",
       "      <td>0.50</td>\n",
       "      <td>45.0</td>\n",
       "      <td>0.284768</td>\n",
       "      <td>empty</td>\n",
       "      <td>plantbasedfoods plantbasedfoodsandbeverages</td>\n",
       "      <td>0.000000</td>\n",
       "    </tr>\n",
       "    <tr>\n",
       "      <th>483</th>\n",
       "      <td>0.111111</td>\n",
       "      <td>empty</td>\n",
       "      <td>thousand island dressing</td>\n",
       "      <td>0.75</td>\n",
       "      <td>34.0</td>\n",
       "      <td>1.000000</td>\n",
       "      <td>water flavouring oilandfat sugar salt disaccha...</td>\n",
       "      <td>condiments</td>\n",
       "      <td>0.000000</td>\n",
       "    </tr>\n",
       "    <tr>\n",
       "      <th>484</th>\n",
       "      <td>0.444444</td>\n",
       "      <td>empty</td>\n",
       "      <td>queso curado</td>\n",
       "      <td>0.75</td>\n",
       "      <td>34.0</td>\n",
       "      <td>0.871508</td>\n",
       "      <td>empty</td>\n",
       "      <td>dairies</td>\n",
       "      <td>0.111111</td>\n",
       "    </tr>\n",
       "    <tr>\n",
       "      <th>485</th>\n",
       "      <td>NaN</td>\n",
       "      <td>empty</td>\n",
       "      <td>thé vert hibiscus-myrtille</td>\n",
       "      <td>0.25</td>\n",
       "      <td>79.0</td>\n",
       "      <td>0.311475</td>\n",
       "      <td>empty</td>\n",
       "      <td>beverages plantbasedfoodsandbeverages</td>\n",
       "      <td>0.000000</td>\n",
       "    </tr>\n",
       "    <tr>\n",
       "      <th>486</th>\n",
       "      <td>0.444444</td>\n",
       "      <td>plastique</td>\n",
       "      <td>m&amp;m's mix</td>\n",
       "      <td>0.25</td>\n",
       "      <td>72.0</td>\n",
       "      <td>NaN</td>\n",
       "      <td>vegetableoilandfat oilandfat salt sugar disacc...</td>\n",
       "      <td>dairies sweetsnacks snacks</td>\n",
       "      <td>0.111111</td>\n",
       "    </tr>\n",
       "    <tr>\n",
       "      <th>487</th>\n",
       "      <td>NaN</td>\n",
       "      <td>empty</td>\n",
       "      <td>lait de croissance</td>\n",
       "      <td>0.25</td>\n",
       "      <td>74.0</td>\n",
       "      <td>0.000000</td>\n",
       "      <td>empty</td>\n",
       "      <td></td>\n",
       "      <td>0.000000</td>\n",
       "    </tr>\n",
       "    <tr>\n",
       "      <th>488</th>\n",
       "      <td>NaN</td>\n",
       "      <td>empty</td>\n",
       "      <td>té negro sueños del sena</td>\n",
       "      <td>0.25</td>\n",
       "      <td>79.0</td>\n",
       "      <td>0.300000</td>\n",
       "      <td>empty</td>\n",
       "      <td>beverages plantbasedfoodsandbeverages</td>\n",
       "      <td>0.000000</td>\n",
       "    </tr>\n",
       "    <tr>\n",
       "      <th>489</th>\n",
       "      <td>0.777778</td>\n",
       "      <td>empty</td>\n",
       "      <td>rully</td>\n",
       "      <td>0.50</td>\n",
       "      <td>46.0</td>\n",
       "      <td>0.311475</td>\n",
       "      <td>empty</td>\n",
       "      <td></td>\n",
       "      <td>0.000000</td>\n",
       "    </tr>\n",
       "    <tr>\n",
       "      <th>490</th>\n",
       "      <td>0.000000</td>\n",
       "      <td>empty</td>\n",
       "      <td>bonne maman confiture</td>\n",
       "      <td>0.25</td>\n",
       "      <td>72.0</td>\n",
       "      <td>0.901639</td>\n",
       "      <td>sugar disaccharide addedsugar</td>\n",
       "      <td>plantbasedfoods plantbasedfoodsandbeverages</td>\n",
       "      <td>0.000000</td>\n",
       "    </tr>\n",
       "    <tr>\n",
       "      <th>491</th>\n",
       "      <td>0.666667</td>\n",
       "      <td>empty</td>\n",
       "      <td>gentaly smoked norwegian salmon slices</td>\n",
       "      <td>1.00</td>\n",
       "      <td>9.0</td>\n",
       "      <td>1.000000</td>\n",
       "      <td>salt</td>\n",
       "      <td></td>\n",
       "      <td>0.000000</td>\n",
       "    </tr>\n",
       "    <tr>\n",
       "      <th>492</th>\n",
       "      <td>0.111111</td>\n",
       "      <td>empty</td>\n",
       "      <td>bertolli extra light olive oil canada</td>\n",
       "      <td>0.75</td>\n",
       "      <td>27.0</td>\n",
       "      <td>NaN</td>\n",
       "      <td></td>\n",
       "      <td>plantbasedfoods plantbasedfoodsandbeverages</td>\n",
       "      <td>0.222222</td>\n",
       "    </tr>\n",
       "    <tr>\n",
       "      <th>493</th>\n",
       "      <td>0.666667</td>\n",
       "      <td>empty</td>\n",
       "      <td>chorizo sarta doux</td>\n",
       "      <td>1.00</td>\n",
       "      <td>15.0</td>\n",
       "      <td>0.296089</td>\n",
       "      <td>empty</td>\n",
       "      <td></td>\n",
       "      <td>0.222222</td>\n",
       "    </tr>\n",
       "    <tr>\n",
       "      <th>494</th>\n",
       "      <td>0.555556</td>\n",
       "      <td></td>\n",
       "      <td>rainbo mallows</td>\n",
       "      <td>0.75</td>\n",
       "      <td>30.0</td>\n",
       "      <td>NaN</td>\n",
       "      <td>empty</td>\n",
       "      <td>plantbasedfoods plantbasedfoodsandbeverages</td>\n",
       "      <td>0.000000</td>\n",
       "    </tr>\n",
       "    <tr>\n",
       "      <th>495</th>\n",
       "      <td>0.000000</td>\n",
       "      <td>empty</td>\n",
       "      <td>pannocchie</td>\n",
       "      <td>0.50</td>\n",
       "      <td>50.0</td>\n",
       "      <td>0.420213</td>\n",
       "      <td>empty</td>\n",
       "      <td>sweetsnacks snacks</td>\n",
       "      <td>0.111111</td>\n",
       "    </tr>\n",
       "    <tr>\n",
       "      <th>496</th>\n",
       "      <td>0.111111</td>\n",
       "      <td>empty</td>\n",
       "      <td>harissa berbere</td>\n",
       "      <td>0.50</td>\n",
       "      <td>58.0</td>\n",
       "      <td>0.315217</td>\n",
       "      <td>empty</td>\n",
       "      <td></td>\n",
       "      <td>0.000000</td>\n",
       "    </tr>\n",
       "    <tr>\n",
       "      <th>497</th>\n",
       "      <td>0.444444</td>\n",
       "      <td>empty</td>\n",
       "      <td>white chocolate almond</td>\n",
       "      <td>0.25</td>\n",
       "      <td>77.0</td>\n",
       "      <td>0.283422</td>\n",
       "      <td>oilandfat water sugar disaccharide addedsugar</td>\n",
       "      <td></td>\n",
       "      <td>0.222222</td>\n",
       "    </tr>\n",
       "    <tr>\n",
       "      <th>498</th>\n",
       "      <td>0.111111</td>\n",
       "      <td>empty</td>\n",
       "      <td>sauce soja fumee</td>\n",
       "      <td>0.25</td>\n",
       "      <td>77.0</td>\n",
       "      <td>0.296089</td>\n",
       "      <td>empty</td>\n",
       "      <td></td>\n",
       "      <td>0.000000</td>\n",
       "    </tr>\n",
       "    <tr>\n",
       "      <th>499</th>\n",
       "      <td>0.111111</td>\n",
       "      <td>empty</td>\n",
       "      <td>houmous olive citron vert</td>\n",
       "      <td>0.25</td>\n",
       "      <td>72.0</td>\n",
       "      <td>0.311475</td>\n",
       "      <td>empty</td>\n",
       "      <td>plantbasedfoods plantbasedfoodsandbeverages</td>\n",
       "      <td>0.000000</td>\n",
       "    </tr>\n",
       "  </tbody>\n",
       "</table>\n",
       "</div>"
      ],
      "text/plain": [
       "       groups    packaging                                               name  \\\n",
       "440  0.444444        empty                                   lait demi ecreme   \n",
       "441  0.111111        empty                        organic poppy seed dressing   \n",
       "442  0.777778        empty                                    sweet peach tea   \n",
       "443  0.000000                                                 joghurt erdbeer   \n",
       "444  0.222222        empty                       sałatka z makrelą, pikantna.   \n",
       "445  0.000000        empty                             fondant menthe subtile   \n",
       "446  0.000000        empty         whole foods market, dark chocolate almonds   \n",
       "447  0.000000        empty  croissant glaseado y relleno de crema de cacao...   \n",
       "448  0.666667        empty                                jambon a l'ancienne   \n",
       "449  0.000000        empty                                     miel de mûrier   \n",
       "450  0.000000        empty                                                      \n",
       "451       NaN        empty                                vegeese saveur fumé   \n",
       "452  0.333333        empty                                               none   \n",
       "453       NaN        empty                                      arome vanille   \n",
       "454       NaN                    salchicha de tofu ecológica estilo frankfurt   \n",
       "455  0.555556        empty                    copos de arroz y trigo integral   \n",
       "456  0.222222        empty                1 boîte haricots blancs à la tomate   \n",
       "457  0.111111        empty                  extra virgin olive oil cold press   \n",
       "458  0.111111        empty                                     sauce barbecue   \n",
       "459  0.111111        empty                       miel y mostaza con arándanos   \n",
       "460  0.444444        empty                                       grana padano   \n",
       "461  0.444444        empty                      gouda holland igp jeune cumin   \n",
       "462  0.444444                                                        emmental   \n",
       "463  0.444444        empty  muller, corner, choco balls with vanilla lowfa...   \n",
       "464  0.444444        empty                                               lait   \n",
       "465  0.000000                                                    noir dessert   \n",
       "466  0.777778                                            sweet blueberry wine   \n",
       "467  0.666667        empty         salami de gênes piquant - hot genoa salami   \n",
       "468       NaN        empty                                    poudre de cacao   \n",
       "469  0.666667        empty                                     kükenherz eier   \n",
       "470  0.666667        empty                    roti filet de porc facon orloff   \n",
       "471  0.666667   kunststoff                         edelsalami mit rindfleisch   \n",
       "472  0.000000        empty                          almendras chocolate negro   \n",
       "473  0.666667        empty                                   pilons de poulet   \n",
       "474  0.444444        empty                                         whole milk   \n",
       "475       NaN  de plástico                                        agave syrup   \n",
       "476  0.000000        empty         f**king delicious snack bar caramel peanut   \n",
       "477  0.777778        empty                                            скопско   \n",
       "478  0.444444        empty                                              comte   \n",
       "479  0.666667        empty                   saucisses de volaille savoyardes   \n",
       "480  0.000000        empty        panetón reyna con chispas sabor a chocolate   \n",
       "481  0.333333        empty                                    salade de fruit   \n",
       "482  0.111111    plastique                               huile de palme rouge   \n",
       "483  0.111111        empty                           thousand island dressing   \n",
       "484  0.444444        empty                                       queso curado   \n",
       "485       NaN        empty                         thé vert hibiscus-myrtille   \n",
       "486  0.444444    plastique                                          m&m's mix   \n",
       "487       NaN        empty                                 lait de croissance   \n",
       "488       NaN        empty                           té negro sueños del sena   \n",
       "489  0.777778        empty                                              rully   \n",
       "490  0.000000        empty                              bonne maman confiture   \n",
       "491  0.666667        empty             gentaly smoked norwegian salmon slices   \n",
       "492  0.111111        empty              bertolli extra light olive oil canada   \n",
       "493  0.666667        empty                                 chorizo sarta doux   \n",
       "494  0.555556                                                  rainbo mallows   \n",
       "495  0.000000        empty                                         pannocchie   \n",
       "496  0.111111        empty                                    harissa berbere   \n",
       "497  0.444444        empty                             white chocolate almond   \n",
       "498  0.111111        empty                                   sauce soja fumee   \n",
       "499  0.111111        empty                          houmous olive citron vert   \n",
       "\n",
       "     ecoscore_tags  ecoscore_score  countries  \\\n",
       "440           0.75            36.0   0.311475   \n",
       "441           0.75            34.0   1.000000   \n",
       "442           0.50            43.0   1.000000   \n",
       "443           0.50            51.0   0.333333   \n",
       "444           1.00             0.0   0.737430   \n",
       "445           1.00            15.0   0.000000   \n",
       "446           0.75            22.0   1.000000   \n",
       "447           0.25            68.0   0.874317   \n",
       "448           1.00            12.0   0.288136   \n",
       "449           0.25            72.0   0.311475   \n",
       "450           0.50            49.0   0.638298   \n",
       "451           0.50            46.0   0.000000   \n",
       "452           1.00             0.0   0.994536   \n",
       "453           0.25            63.0   0.311475   \n",
       "454           0.25            79.0   0.968553   \n",
       "455           0.75            25.0   0.874317   \n",
       "456           0.00            81.0   0.311475   \n",
       "457           0.75            27.0   1.000000   \n",
       "458           0.25            67.0   0.254438   \n",
       "459           0.50            54.0        NaN   \n",
       "460           0.50            43.0   0.874317   \n",
       "461           0.50            48.0   0.296089   \n",
       "462           0.75            33.0        NaN   \n",
       "463           0.25            67.0   1.000000   \n",
       "464           0.75            36.0   0.901639   \n",
       "465           0.50            49.0   0.000000   \n",
       "466           0.50            45.0   1.000000   \n",
       "467           1.00            16.0   0.158470   \n",
       "468           1.00             5.0   0.153439   \n",
       "469           0.75            30.0   0.333333   \n",
       "470           0.75            24.0   0.315217   \n",
       "471           0.75            39.0   0.324468   \n",
       "472           0.75            22.0   0.874317   \n",
       "473           0.75            39.0   0.311475   \n",
       "474           0.75            32.0   0.994565   \n",
       "475           0.50            43.0   0.863905   \n",
       "476           0.50            42.0        NaN   \n",
       "477           0.75            37.0   0.683060   \n",
       "478           0.50            51.0   0.288136   \n",
       "479           1.00             0.0   0.311475   \n",
       "480           0.75            39.0   0.098361   \n",
       "481           0.25            69.0   0.315217   \n",
       "482           0.50            45.0   0.284768   \n",
       "483           0.75            34.0   1.000000   \n",
       "484           0.75            34.0   0.871508   \n",
       "485           0.25            79.0   0.311475   \n",
       "486           0.25            72.0        NaN   \n",
       "487           0.25            74.0   0.000000   \n",
       "488           0.25            79.0   0.300000   \n",
       "489           0.50            46.0   0.311475   \n",
       "490           0.25            72.0   0.901639   \n",
       "491           1.00             9.0   1.000000   \n",
       "492           0.75            27.0        NaN   \n",
       "493           1.00            15.0   0.296089   \n",
       "494           0.75            30.0        NaN   \n",
       "495           0.50            50.0   0.420213   \n",
       "496           0.50            58.0   0.315217   \n",
       "497           0.25            77.0   0.283422   \n",
       "498           0.25            77.0   0.296089   \n",
       "499           0.25            72.0   0.311475   \n",
       "\n",
       "                                           ingredients  \\\n",
       "440                                              empty   \n",
       "441                                              empty   \n",
       "442                water sugar disaccharide addedsugar   \n",
       "443                      sugar disaccharide addedsugar   \n",
       "444  water oilandfat sugar disaccharide salt addeds...   \n",
       "445                      sugar disaccharide addedsugar   \n",
       "446            oilandfat sugar disaccharide addedsugar   \n",
       "447                                              empty   \n",
       "448                                              empty   \n",
       "449                                              empty   \n",
       "450  vegetableoilandfat oilandfat sugar disaccharid...   \n",
       "451                                     oilandfat salt   \n",
       "452                                                      \n",
       "453                                              empty   \n",
       "454                                     oilandfat salt   \n",
       "455                 sugar disaccharide addedsugar salt   \n",
       "456                                         water salt   \n",
       "457                                              empty   \n",
       "458                                              empty   \n",
       "459                                              empty   \n",
       "460                                              empty   \n",
       "461                                              empty   \n",
       "462                                               salt   \n",
       "463  flavouring water sugar disaccharide salt added...   \n",
       "464                                              empty   \n",
       "465           flavouring sugar disaccharide addedsugar   \n",
       "466                                              empty   \n",
       "467                                              empty   \n",
       "468                                              empty   \n",
       "469                                                      \n",
       "470                                              empty   \n",
       "471                                    addedsugar salt   \n",
       "472                                                      \n",
       "473                                              empty   \n",
       "474                                              empty   \n",
       "475                            disaccharide addedsugar   \n",
       "476                  vegetableoilandfat oilandfat salt   \n",
       "477                                              empty   \n",
       "478                                              empty   \n",
       "479                    water oilandfat salt addedsugar   \n",
       "480       oilandfat sugar disaccharide salt addedsugar   \n",
       "481                                              empty   \n",
       "482                                              empty   \n",
       "483  water flavouring oilandfat sugar salt disaccha...   \n",
       "484                                              empty   \n",
       "485                                              empty   \n",
       "486  vegetableoilandfat oilandfat salt sugar disacc...   \n",
       "487                                              empty   \n",
       "488                                              empty   \n",
       "489                                              empty   \n",
       "490                      sugar disaccharide addedsugar   \n",
       "491                                               salt   \n",
       "492                                                      \n",
       "493                                              empty   \n",
       "494                                              empty   \n",
       "495                                              empty   \n",
       "496                                              empty   \n",
       "497      oilandfat water sugar disaccharide addedsugar   \n",
       "498                                              empty   \n",
       "499                                              empty   \n",
       "\n",
       "                                      categories  labels_note  \n",
       "440                                                  0.000000  \n",
       "441                                                  0.222222  \n",
       "442                                                  0.000000  \n",
       "443                                       snacks     0.777778  \n",
       "444                                                  0.000000  \n",
       "445                                                  0.000000  \n",
       "446           confectioneries sweetsnacks snacks     0.000000  \n",
       "447                           sweetsnacks snacks     0.000000  \n",
       "448                  meats meatsandtheirproducts     0.000000  \n",
       "449                                                  0.000000  \n",
       "450                           sweetsnacks snacks     0.000000  \n",
       "451  plantbasedfoods plantbasedfoodsandbeverages     1.000000  \n",
       "452  plantbasedfoods plantbasedfoodsandbeverages     0.333333  \n",
       "453  plantbasedfoods plantbasedfoodsandbeverages     0.000000  \n",
       "454  plantbasedfoods plantbasedfoodsandbeverages     1.000000  \n",
       "455  plantbasedfoods plantbasedfoodsandbeverages     0.000000  \n",
       "456  plantbasedfoods plantbasedfoodsandbeverages     0.222222  \n",
       "457  plantbasedfoods plantbasedfoodsandbeverages     0.000000  \n",
       "458                                                  0.000000  \n",
       "459                                                  0.111111  \n",
       "460                                                  0.111111  \n",
       "461                                                  0.111111  \n",
       "462                                      dairies     0.000000  \n",
       "463                                                  0.000000  \n",
       "464                                      dairies     0.000000  \n",
       "465                           sweetsnacks snacks     0.888889  \n",
       "466                                    beverages     0.000000  \n",
       "467                        meatsandtheirproducts     0.222222  \n",
       "468                                                  0.666667  \n",
       "469                                                  0.000000  \n",
       "470                                                  0.222222  \n",
       "471                                                  0.000000  \n",
       "472                           sweetsnacks snacks     0.333333  \n",
       "473                        meatsandtheirproducts     0.222222  \n",
       "474                                      dairies     0.111111  \n",
       "475                                                  0.333333  \n",
       "476                           sweetsnacks snacks     0.111111  \n",
       "477                                    beverages     0.000000  \n",
       "478                       fermentedfoods dairies     0.000000  \n",
       "479                                                  0.000000  \n",
       "480                           sweetsnacks snacks     0.111111  \n",
       "481  plantbasedfoods plantbasedfoodsandbeverages     0.111111  \n",
       "482  plantbasedfoods plantbasedfoodsandbeverages     0.000000  \n",
       "483                                   condiments     0.000000  \n",
       "484                                      dairies     0.111111  \n",
       "485        beverages plantbasedfoodsandbeverages     0.000000  \n",
       "486                   dairies sweetsnacks snacks     0.111111  \n",
       "487                                                  0.000000  \n",
       "488        beverages plantbasedfoodsandbeverages     0.000000  \n",
       "489                                                  0.000000  \n",
       "490  plantbasedfoods plantbasedfoodsandbeverages     0.000000  \n",
       "491                                                  0.000000  \n",
       "492  plantbasedfoods plantbasedfoodsandbeverages     0.222222  \n",
       "493                                                  0.222222  \n",
       "494  plantbasedfoods plantbasedfoodsandbeverages     0.000000  \n",
       "495                           sweetsnacks snacks     0.111111  \n",
       "496                                                  0.000000  \n",
       "497                                                  0.222222  \n",
       "498                                                  0.000000  \n",
       "499  plantbasedfoods plantbasedfoodsandbeverages     0.000000  "
      ]
     },
     "execution_count": 440,
     "metadata": {},
     "output_type": "execute_result"
    }
   ],
   "source": [
    "df.tail(60)"
   ]
  },
  {
   "cell_type": "code",
   "execution_count": 423,
   "metadata": {},
   "outputs": [
    {
     "name": "stdout",
     "output_type": "stream",
     "text": [
      "nan\n",
      "0.0\n",
      "0.5555555556\n",
      "0.6666666667\n",
      "0.2222222222\n",
      "0.3333333333\n",
      "0.4444444444\n",
      "1.0\n",
      "0.1111111111\n",
      "0.7777777778\n",
      "0.7\n",
      "0.5\n",
      "0.3\n"
     ]
    }
   ],
   "source": [
    "uniques_groups = df['groups'].unique()\n",
    "uniques_groups_list = list(uniques_groups)\n",
    "for value in uniques_groups_list:\n",
    "    print(value)"
   ]
  },
  {
   "cell_type": "code",
   "execution_count": 424,
   "metadata": {},
   "outputs": [
    {
     "name": "stdout",
     "output_type": "stream",
     "text": [
      "drizzle topping\n",
      "stat warq\n",
      "filet de saumon bio - lidl\n",
      "frozen spring roll\n",
      "milk chocolate eggs with soft fondant center\n",
      "bananas\n",
      "none\n",
      "tagliatelle\n",
      "cocktail sauce\n",
      "penne blancs bio italie\n",
      "avocado oil\n",
      "non gmo polyfloral honey\n",
      "yogourt framboise bio\n",
      "oeuf en chocolat\n",
      "chewits\n",
      "pencils strawberry flavour\n",
      "fuet iberico\n",
      "yoghurt framboises\n",
      "jambon belge séché\n",
      "gluten free super fudge brownie single serve mix\n",
      "assiette petits pois veau macaroni\n",
      "core nutrition bar\n",
      "mirepoix blend onions, celery, carrots, mirepoix blend\n",
      "фасоль натуральная красная\n",
      "fried rice seasoning\n",
      "melange à crêpe mince\n",
      "market basket root beer\n",
      "filetti di alici distesi in olio delicato\n",
      "goat cheese\n",
      "whole grain chicken breast nuggets\n",
      "гюбек\n",
      "carrot puffs\n",
      "transfers\n",
      "sauce apéro citron basilic\n",
      "jabón glicerinado\n",
      "œufs de lompe\n",
      "notte rossa\n",
      "sustenium magnesio e potassio\n",
      "fresh churned butter, honey butter\n",
      "matcha green fasting tea\n",
      "ciobar\n",
      "company sushi chef wasabi powder\n",
      "protein bar, chocolate caramel pecan, minis\n",
      "saucisson sec au poivre\n",
      "cabillaud et écrevisses, sauce au citron confit\n",
      "ora frutta kaki séché\n",
      "salami-sticks klassisch (stickado)\n",
      "charboiled chicken burgers\n",
      "de picao, apple chamoy cover, chamoy\n",
      "gelbes limo\n",
      "chocolat noir\n",
      "omega 3 +\n",
      "spargelspitzen\n",
      "pomodorini mini\n",
      "cheddar bloc 48%\n",
      "crème de poulet (sans sel ajouté)\n",
      "tandoor chef, chicken biryani\n",
      "spumante dolce\n",
      "risotto aux asperges\n",
      "кроасан с пълнеж с аромат на ванилия и пълнеж с вишни\n",
      "laktoositon ruoka-kerma kolme sipulia\n",
      "linsen eintopf\n",
      "pasture pride, juusto italiano, baked cheese with italian spiced\n",
      "queso tierno vaca/cabra/obeja\n",
      "agua mineral lunares\n",
      "patatón a la paja bolsa 180 g\n",
      "salchichón cervecero\n",
      "pistou vert\n",
      "serrano le quart tranché (+10% gratuit)\n",
      "matcha misto + trumarine® collagen\n",
      "lomo de cebo ibérico\n",
      "banane\n",
      "tortellini fromage avec sauce rosée\n",
      "organic gluten free spaghetti\n",
      "ravioli ricotta e spinaci sin gluten sin lactosa\n",
      "dinkel backerbsen\n",
      "chocolat madagascar 50% cacao\n",
      "moment big choco chips\n",
      "pflanzliche kraftbrühe\n",
      "tartelettes fraise\n",
      "succo tropicale\n",
      "quenelles brochet morilles crevette\n",
      "100% virgin pecan oil\n",
      "pork skins\n",
      "poppolo\n",
      "jambon à l'os\n",
      "fruit bars\n",
      "croquant amandes\n",
      "pain complet bio\n",
      "laktosefreier frischkäse\n",
      "pomme\n",
      "tallarines de espelta con kale\n",
      "tartinable de poulet\n",
      "brioche nature\n",
      "cafe moulu tradition\n",
      "riso baldo integrale\n",
      "veganes rotes thai curry\n",
      "moose munch premium popcorn, milk chocolate\n",
      "miel de tilleul\n",
      "\n",
      "filete de pechuga (pollo rural)\n",
      "nutty puffs organic peanut butter + strawberry\n",
      "velouté de fruit à pain à la créole\n",
      "mix rallado especial gratinado\n",
      "passatelli\n",
      "mortadella\n",
      "cottage cheese - 1debeste\n",
      "le coeur frais\n",
      "santa cruz organic, organic berry nectar, berry\n",
      "gyoza poulet et légumes\n",
      "trio douceur\n",
      "chucrut tradicional\n",
      "platanito - plantain chips\n",
      "edulcorant de table\n",
      "pure whey protein\n",
      "confiture\n",
      "hot aioli\n",
      "fromage chedar\n",
      "life savers sugar free wintogreen hard candy\n",
      "couscous blanc bio\n",
      "french toaste\n",
      "gozleme spinach feta\n",
      "grace’s homestyle pimento spread\n",
      "sauce bearnaise\n",
      "fleckerl\n",
      "reblochon de savoie\n",
      "parsley freeze dried organic\n",
      "onion poppy ciabatta rolls\n",
      "filets de poulet rôti\n",
      "wilde kruiden\n",
      "ghee\n",
      "chíavena\n",
      "edler dillhappen\n",
      "graines de nigelle\n",
      "blue crab crabmeat\n",
      "prime mass\n",
      "pâté de campagne au piment d espelette\n",
      "sureau\n",
      "mélange sambahia\n",
      "s’mores colliders chopped\n",
      "arachide en tranche\n",
      "pulpo cocido\n",
      "shaved parmesan cheese\n",
      "hash brown bites\n",
      "dark chocolate almonds\n",
      "parmigiano reggiano 24m appellation dorigine protegée\n",
      "shells\n",
      "crema de calabaza\n",
      "celeri remoulade\n",
      "shredded wheat bite size shredded whole grain wheat cereal, shredded wheat\n",
      "chocolat au lait pistaches\n",
      "douradinhos sem glúten\n",
      "macedoine de fruits au sirop léger\n",
      "geschirrspültaps\n",
      "sargento, mozzarella & provolone cheese\n",
      "sea scallops halves\n",
      "salt & vinegar original chips\n",
      "jambon cru du valais igp\n",
      "veggie straws corn snacks\n",
      "cóctel ensaladas\n",
      "matte glüh gin\n",
      "sour neon worms\n",
      "bourbon creams\n",
      "saucisses endives-poireaux\n",
      "olive\n",
      "honig waffeln\n",
      "tarte aux pommes\n",
      "herb seasoned cubed stuffing\n",
      "huile d'olive\n",
      "sandia\n",
      "soft pretzels\n",
      "aloe fusion drink, mango\n",
      "posole spice blend\n",
      "malaysian satay sauce\n",
      "gruninger\n",
      "cranberry juice drink\n",
      "gâteau marbré\n",
      "mulanoi\n",
      "gommes propolis ravintsara bio\n",
      "желе манго малина зеро калорий\n",
      "pistaches grillées à sec et salées\n",
      "distilled white vinegar\n",
      "diet soda\n",
      "il bene della frutta\n",
      "charcuterie folacci\n",
      "luovo dalle dolomiti\n",
      "sparkling citrus tangerine\n",
      "fermenti lattici\n",
      "cerveza\n",
      "levissima+ anti-oxydant\n",
      "graines de courge bio\n",
      "corn flakes\n",
      "les gaufres de tom\n",
      "ala porle oh plancha\n",
      "j/daniel&no sugar cola 4*375ml\n",
      "maishendlkeulen\n",
      "claras de huevo\n",
      "lemon cake\n",
      "bonito flakes (katsuobushi)\n",
      "farci poitevin\n",
      "saucisse de toulouse\n",
      "choco silk diet whey isolate 90\n",
      "orange cream soda\n",
      "chantaboon rice stick 10mm\n",
      "caramels au beurre salè\n",
      "fricassée de poulet champignons et riz complet bio\n",
      "green beans\n",
      "masa para empanada\n",
      "epinard feuilles entières\n",
      "buttermilk and vanilla protien waffels\n",
      "protein bar\n",
      "wurstel tipo bochwurst\n",
      "delicious et good\n",
      "délicate mousseline d'asperger vertes  au parmesan\n",
      "100% ananas\n",
      "polar ice sugarfree gum, polar ice\n",
      "spianatina pane tipico sardo\n",
      "caramel short cake\n",
      "part-skim mozzarella cheese sticks, mozzarella\n",
      "mais jumbo\n",
      "volcatonic\n",
      "arizona snack company, cherry slices\n",
      "up water\n",
      "mango chainsaw flavoured sparkling water\n",
      "la choza vainilla\n",
      "akte 2\n",
      "viva\n",
      "dattilo\n",
      "e-acetara-essig-7,30€/13..7.22\n",
      "brownie - chocolat\n",
      "coppa\n",
      "maury island farms, marionberry dream fruit topping\n",
      "darkmilk chocolate\n",
      "canned chicken low sodium\n",
      "erekxln\n",
      "escalopes de dinde à la viennoise, surgelées\n",
      "400 bâtons boulangers\n",
      "white wine spritz\n",
      "les doodingues - pétales choco\n",
      "keebler, animals crackers\n",
      "lemon apple ginger\n",
      "salsitxa de pollastre\n",
      "tanoshi ramen yakisoba 370g\n",
      "месомания неврозно кюфте\n",
      "lc1 probiotic mocca\n",
      "ribs à grillet\n",
      "strawberry\n",
      "gr. tomaten\n",
      "le médaillon au magret de canard et au foie de canard\n",
      "gli affettati\n",
      "gouda gerieben\n",
      "750g ratatouille nicoise\n",
      "organic apricot unsulphured\n",
      "riz long grain\n",
      "green leaf lettuce (shredded)\n",
      "ciro derable\n",
      "pain complet\n",
      "götterpuls intra\n",
      "saucisson artisanal de savoie\n",
      "cooked shrimp\n",
      "orange a presser\n",
      "frollini con farina integrale di grano saraceno\n",
      "flan aux oeufs cuits au four\n",
      "organic honey\n",
      "galette de riz\n",
      "apple cinnamon mini muffin loaf\n",
      "sour punch candycane\n",
      "lati uht demi-ecreme\n",
      "kale & chicken chopped salad\n",
      "hemp seed oil\n",
      "gelbe speisezwiebeln\n",
      "les pieds de porc supérieurs\n",
      "weinbrand\n",
      "dents de dracula\n",
      "flan entremets chocolat saveur noisette\n",
      "organic peruvian mocha crunch\n",
      "halloween gummi missing body parts\n",
      "bread\n",
      "cup ananas\n",
      "black sweet cherry ice cream\n",
      "hidratein de nutrinovex\n",
      "melange superfruits\n",
      "dark red kidney beans\n",
      "dark chocolate nut\n",
      "lomos de sardina ahumada\n",
      "brookshire's, corn starch\n",
      "barista noir intense\n",
      "gummi worms\n",
      "tennessee honey pecan\n",
      "alles gute pralinen\n",
      "champignons à la crème\n",
      "bresaola punta d’anca\n",
      "lean ground beef\n",
      "d'aucy veggie couscous aux legumes et boulettes aux lentilles\n",
      "instant oatmeal\n",
      "lait praliné noisettes et riz croquant\n",
      "potato chips\n",
      "tiger bloomer\n",
      "cochon chataigne\n",
      "3 chocolats\n",
      "long chips &quot;sea salt vinegar&quot;\n",
      "cioccolata calda arancia e cannella\n",
      "caldo vegetal\n",
      "ravioli\n",
      "mini cookies\n",
      "original wraps boni\n",
      "refreshers\n",
      "goat milk\n",
      "potato pancake mix\n",
      "nuggets tempura\n",
      "sguscionka s saharom produs cu continut de lapte concentrat, cu zahar\n",
      "pate a la bierre\n",
      "mini tartelettes aperitives surgelées\n",
      "chocolate cake pop\n",
      "butter pop corn\n",
      "taralli piccoli\n",
      "taeyangcho gold gochujang\n",
      "vinacafe\n",
      "betteraves rouges tranchées 37cl\n",
      "velouté de légumes et tomates\n",
      "choucroute\n",
      "macaroni\n",
      ".\n",
      "pismis peynirli su böregi\n",
      "burman's worcestershire sauce\n",
      "bifidus\n",
      "vin petite arvine\n",
      "cofler cookies\n",
      "shells & cheese\n",
      "rillettes de saumon biologique\n",
      "crocco frolla\n",
      "cuori di merluzzo\n",
      "wild argentinian shrimp\n",
      "sweet chilli\n",
      "brooks street bakery, classic european pastry rugalah, raspberry\n",
      "compote de pommes pâtissière\n",
      "miel d'acacia du morvan\n",
      "moutarde d'orléans aux graines de sésame\n",
      "miel\n",
      "taste of asia thai suppe\n",
      "pepper sauce\n",
      "alitas asadas\n",
      "doritos xxtra flamin hot nacho\n",
      "mistura para bolo aipim\n",
      "muesli croustillant aux noix de pécan et au sirop d'érable\n",
      "jogurt mild laktosefrei\n",
      "dziov. vaisiu mis. sunny frutown\n",
      "purée d'amandes\n",
      "premium italian extra virgin olive oil\n",
      "rapido\n",
      "wild planet\n",
      "pesto con basilico genovese d.o.p.\n",
      "binaigre balsamique vieilli de californie\n",
      "mint imperial\n",
      "super raw honey\n",
      "lebanese bread  wholemeal\n",
      "moulin sel de guerande\n",
      "alpen-blüten\n",
      "jus de tomate\n",
      "nougat aux amandes\n",
      "poulet fermier bio\n",
      "donuts chocolat lait\n",
      "gnocchi a poeler extra raclette\n",
      "pâte à tartiner rawnella bio 220g my raw joy\n",
      "polpettine di tacchino e suino\n",
      "pépites crunchy muesli en sachet\n",
      "washed & rinsed organic quinoa: inca red quinoa gluten free\n",
      "organic hazelnut extract\n",
      "snacks fantasmas\n",
      "organilicious, sundried tomato jalapeno spread\n",
      "thé vert et noir jasmin, fraise et pamplemousse\n",
      "كوكي ناجتس ٢٠ قطعة علبة\n",
      "kidney beans\n",
      "perfect cream pistacchio\n",
      "authentique huile d'olive\n",
      "museau de bœuf\n",
      "mini quatre-quarts\n",
      "mejillón de las rías gallegas\n",
      "zamburiñas en salsa de vieira\n",
      "almond flour cookie\n",
      "soupe de poisson artisanale\n",
      "confettura extra amarena\n",
      "tea cakes\n",
      "salade mechouia douce\n",
      "caldo verde\n",
      "filosofo\n",
      "multivitamin\n",
      "insto regular\n",
      "birthday cake ice cream\n",
      "prime deli chicken vienna sausage\n",
      "omega grade aa eggs\n",
      "pepperoni\n",
      "jambon bien élevé taux de sel réduit 4 tranches\n",
      "peperoni kräuter knoblauch\n",
      "polline\n",
      "remolacha en tiras\n",
      "rôti de filet de bœuf\n",
      "ap inhaler\n",
      "mincemeat\n",
      "camembert +10% gratuit\n",
      "pollo troceado\n",
      "сирене медковец\n",
      "gildas zubelzu\n",
      "mélange pour cocktail rhum paradis\n",
      "carotte lavée cat 2 bio 12kg\n",
      "la rosette supérieure\n",
      "merguez pur porc\n",
      "le pâté des thoniers\n",
      "red kidney beans\n",
      "onglet\n",
      "thé noir litchi\n",
      "caramel et noisettes extra gourmand\n",
      "sweety honig gurken\n",
      "funbar\n",
      "l'eau\n",
      "viande bovine à griller\n",
      "chicken katsu\n",
      "lasca páprica picante\n",
      "arroz con leche\n",
      "fontainebleau framboises\n",
      "abricot sec\n",
      "shrimp crackers\n",
      "natural whey iogurte sabor natural\n",
      "six18 gin dark chocolate truffles\n",
      "cherry lollipops candy, cherry\n",
      "albanski raj mojito\n",
      "lentilles corail bio\n",
      "american wagyu ground beef\n",
      "riso\n",
      "kenco cappuccino\n",
      "courge\n",
      "chocolate negro 74%\n",
      "mix olives\n",
      "panes especiales sabor trufa\n",
      "vita world multivitamins & minerals\n",
      "sour cherry jam\n",
      "canola nonstick cooking spray\n",
      "plazma keks mini\n",
      "wine gums\n",
      "papas corte recto\n",
      "eistee pfirsich\n",
      "chá preto limão villa piva garrafa 1l\n",
      "fleischkäse\n",
      "cardo\n",
      "snackn waffles\n",
      "popcorn\n",
      "célèbre soupe de l'oncle pistou\n",
      "multi-seed roasted garlic\n",
      "croissant bacon\n",
      "chocolat noir au quinoa et riz soufflés\n",
      "plant based meal replacement shake\n",
      "thai curry mild\n",
      "lean ground chicken\n",
      "chou rouge\n",
      "geflügelwurst\n",
      "brodo vegetale\n",
      "multiseed lavash flatbread crackers, multiseed\n",
      "thousand island dressing\n",
      "hard seltzer\n",
      "wok peps de nouilles poulet\n",
      "coulis caramel\n",
      "cidre\n",
      "thé glacé\n",
      "saint felicien\n",
      "chuleta de aguja de cerdo\n",
      "choco pops\n",
      "ultraviolet kombucha\n"
     ]
    }
   ],
   "source": [
    "uniques_name = df['name'].unique()\n",
    "uniques_name_list = list(uniques_name)\n",
    "for value in uniques_name_list:\n",
    "    print(value)"
   ]
  },
  {
   "cell_type": "code",
   "execution_count": 425,
   "metadata": {},
   "outputs": [
    {
     "name": "stdout",
     "output_type": "stream",
     "text": [
      "1.0\n",
      "0.3114754098\n",
      "0.3333333333\n",
      "0.138121547\n",
      "0.3152173913\n",
      "0.4316939891\n",
      "0.1584699454\n",
      "0.2960893855\n",
      "nan\n",
      "0.2881355932\n",
      "0.8743169399\n",
      "0.9945355191\n",
      "0.0765027322\n",
      "0.0\n",
      "0.7650273224\n",
      "0.4347826087\n",
      "0.9734042553\n",
      "0.1256830601\n",
      "0.3184357542\n",
      "0.0218579235\n",
      "0.0558659218\n",
      "0.2945205479\n",
      "0.320754717\n",
      "0.4189944134\n",
      "0.5355191257\n",
      "0.9016393443\n",
      "0.1223404255\n",
      "0.6229508197\n",
      "0.306010929\n",
      "0.8510638298\n",
      "0.3031914894\n",
      "0.2544378698\n",
      "0.4293478261\n",
      "0.3015873016\n",
      "0.7595628415\n",
      "0.0451977401\n",
      "0.847826087\n",
      "0.4124293785\n",
      "0.6557377049\n",
      "0.3715846995\n",
      "0.3369565217\n",
      "0.8715083799\n",
      "0.9680851064\n",
      "0.4207650273\n",
      "0.0327868852\n",
      "0.7486338798\n",
      "0.6440677966\n",
      "0.9943502825\n",
      "0.3081081081\n",
      "0.4285714286\n",
      "0.7446808511\n",
      "0.8700564972\n",
      "0.6576086957\n",
      "0.9890710383\n",
      "0.0744680851\n",
      "0.2336956522\n",
      "0.8684210526\n",
      "0.4143646409\n",
      "0.3405405405\n",
      "0.9625\n",
      "0.9944134078\n",
      "0.3227513228\n",
      "0.0740740741\n",
      "0.2921348315\n",
      "0.1542553191\n",
      "0.9273743017\n",
      "0.1630434783\n",
      "0.8988095238\n",
      "0.1396648045\n",
      "0.4378378378\n",
      "0.7431693989\n",
      "0.3442622951\n",
      "0.5300546448\n",
      "0.2786885246\n",
      "0.2553191489\n",
      "0.5901639344\n",
      "0.1147540984\n",
      "0.737704918\n",
      "0.2847682119\n",
      "0.3989071038\n",
      "0.2781065089\n",
      "0.7540983607\n",
      "0.094972067\n",
      "0.956284153\n",
      "0.9945652174\n",
      "0.6885245902\n",
      "0.8994413408\n",
      "0.8469945355\n",
      "0.4426229508\n",
      "0.262295082\n"
     ]
    }
   ],
   "source": [
    "uniques_countries = df['countries'].unique()\n",
    "uniques_countries_list = list(uniques_countries)\n",
    "for value in uniques_countries_list:\n",
    "    print(value)"
   ]
  },
  {
   "cell_type": "code",
   "execution_count": 426,
   "metadata": {},
   "outputs": [
    {
     "name": "stdout",
     "output_type": "stream",
     "text": [
      "empty\n",
      "en plastique\n",
      "carton plastique\n",
      "\n",
      "glas\n",
      "plastique\n",
      "frais\n",
      "kunststoff\n",
      "en métal verre\n",
      "sachet plastique\n",
      "plastic\n",
      "plastique carton\n",
      "bottle\n",
      "en bouteille plastique\n",
      "bag\n",
      "verre\n",
      "bouteille verre\n",
      "en sachet plastique\n"
     ]
    }
   ],
   "source": [
    "uniques_packaging = df['packaging'].unique()\n",
    "uniques_packaging_list = list(uniques_packaging)\n",
    "for value in uniques_packaging_list:\n",
    "    print(value)"
   ]
  },
  {
   "cell_type": "code",
   "execution_count": 427,
   "metadata": {},
   "outputs": [
    {
     "name": "stdout",
     "output_type": "stream",
     "text": [
      "nan\n",
      "0.25\n",
      "0.0\n",
      "0.75\n",
      "1.0\n",
      "0.5\n"
     ]
    }
   ],
   "source": [
    "uniques_ecoscore_tags = df['ecoscore_tags'].unique()\n",
    "uniques_ecoscore_tags_list = list(uniques_ecoscore_tags)\n",
    "for value in uniques_ecoscore_tags_list:\n",
    "    print(value)"
   ]
  },
  {
   "cell_type": "code",
   "execution_count": 428,
   "metadata": {},
   "outputs": [
    {
     "name": "stdout",
     "output_type": "stream",
     "text": [
      "49.0\n",
      "69.0\n",
      "97.0\n",
      "72.0\n",
      "34.0\n",
      "16.0\n",
      "20.0\n",
      "70.0\n",
      "63.0\n",
      "8.0\n",
      "35.0\n",
      "55.0\n",
      "5.0\n",
      "27.0\n",
      "1.0\n",
      "60.0\n",
      "29.0\n",
      "57.0\n",
      "39.0\n",
      "19.0\n",
      "71.0\n",
      "43.0\n",
      "78.0\n",
      "73.0\n",
      "18.0\n",
      "83.0\n",
      "44.0\n",
      "22.0\n",
      "31.0\n",
      "45.0\n",
      "26.0\n",
      "74.0\n",
      "51.0\n",
      "30.0\n",
      "21.0\n",
      "15.0\n",
      "40.0\n",
      "67.0\n",
      "64.0\n",
      "42.0\n",
      "79.0\n",
      "54.0\n",
      "58.0\n",
      "32.0\n",
      "38.0\n",
      "77.0\n",
      "24.0\n",
      "41.0\n",
      "37.0\n",
      "100.0\n",
      "0.0\n",
      "75.0\n",
      "80.0\n",
      "13.0\n",
      "25.0\n"
     ]
    }
   ],
   "source": [
    "uniques_ecoscore_score = df['ecoscore_score'].unique()\n",
    "uniques_ecoscore_score_list = list(uniques_ecoscore_score)\n",
    "for value in uniques_ecoscore_score_list:\n",
    "    print(value)"
   ]
  },
  {
   "cell_type": "code",
   "execution_count": 429,
   "metadata": {},
   "outputs": [
    {
     "name": "stdout",
     "output_type": "stream",
     "text": [
      "fruit water sugar disaccharide salt addedsugar\n",
      "empty\n",
      "oilandfat sugar disaccharide addedsugar\n",
      "sugar disaccharide addedsugar\n",
      "oilandfat water addedsugar salt\n",
      "water\n",
      "flavouring oilandfat addedsugar\n",
      "sugar disaccharide addedsugar salt\n",
      "\n",
      "flavouring water sugar disaccharide addedsugar salt\n",
      "salt\n",
      "oilandfat\n",
      "sugar disaccharide salt addedsugar\n",
      "salt addedsugar\n",
      "vegetable sugar disaccharide salt addedsugar\n",
      "water salt\n",
      "water oilandfat\n",
      "oilandfat sugar disaccharide addedsugar salt\n",
      "flavouring oilandfat sugar disaccharide addedsugar salt\n",
      "flavouring sugar disaccharide addedsugar salt\n",
      "water sugar disaccharide addedsugar\n",
      "water naturalflavouring flavouring sugar disaccharide addedsugar\n",
      "oilandfat flavouring water sugar disaccharide salt addedsugar\n",
      "water dairy sugar disaccharide salt addedsugar\n",
      "vegetableoilandfat oilandfat sugar disaccharide addedsugar salt\n",
      "flavouring oilandfat water sugar disaccharide salt addedsugar\n",
      "oilandfat water sugar disaccharide addedsugar salt\n",
      "oilandfat salt\n",
      "flavouring sugar disaccharide addedsugar\n",
      "water vegetable sugar disaccharide addedsugar\n",
      "flavouring water\n",
      "disaccharide salt addedsugar\n",
      "flavouring sugar disaccharide salt addedsugar\n",
      "flavouring water addedsugar salt\n",
      "dairy flavouring salt\n",
      "water addedsugar salt\n",
      "vegetableoilandfat oilandfat flavouring sugar disaccharide salt addedsugar\n",
      "dairy flavouring sugar disaccharide salt addedsugar\n",
      "water flavouring sugar disaccharide addedsugar salt\n",
      "oilandfat flavouring sugar water disaccharide addedsugar salt\n",
      "water sugar disaccharide addedsugar salt\n",
      "vegetable\n",
      "vegetableoilandfat oilandfat addedsugar salt\n",
      "vegetableoilandfat oilandfat salt\n",
      "naturalflavouring flavouring sugar disaccharide addedsugar salt\n",
      "flavouring water sugar disaccharide salt addedsugar\n",
      "oilandfat salt sugar disaccharide addedsugar\n",
      "water disaccharide addedsugar\n",
      "fruit vegetable\n",
      "oilandfat flavouring water sugar disaccharide addedsugar salt\n",
      "flavouring water salt addedsugar\n",
      "flavouring salt oilandfat sugar disaccharide addedsugar\n",
      "oilandfat sugar disaccharide salt addedsugar\n",
      "oilandfat addedsugar salt\n"
     ]
    }
   ],
   "source": [
    "uniques_ingredients = df['ingredients'].unique()\n",
    "uniques_ingredients_list = list(uniques_ingredients)\n",
    "for value in uniques_ingredients_list:\n",
    "    print(value)"
   ]
  },
  {
   "cell_type": "code",
   "execution_count": 430,
   "metadata": {},
   "outputs": [
    {
     "name": "stdout",
     "output_type": "stream",
     "text": [
      "\n",
      "empty\n",
      "sweetsnacks snacks\n",
      "plantbasedfoods plantbasedfoodsandbeverages\n",
      "meatsandtheirproducts\n",
      "frozenfoods\n",
      "dairies\n",
      "snacks\n",
      "meats meatsandtheirproducts\n",
      "beverages plantbasedfoodsandbeverages\n",
      "beverages\n",
      "plantbasedfoodsandbeverages\n",
      "cheeses fermentedmilkproducts fermentedfoods dairies\n",
      "cerealsandpotatoes plantbasedfoods plantbasedfoodsandbeverages\n",
      "spreads fruitsandvegetablesbasedfoods plantbasedfoods plantbasedfoodsandbeverages\n",
      "cerealsandpotatoes snacks plantbasedfoods plantbasedfoodsandbeverages\n",
      "beverages sweetsnacks snacks\n",
      "condiments plantbasedfoods plantbasedfoodsandbeverages\n",
      "condiments\n",
      "beverages beveragesandbeveragespreparations\n",
      "biscuitsandcakes sweetsnacks snacks\n",
      "snacks plantbasedfoods plantbasedfoodsandbeverages\n",
      "fruitsandvegetablesbasedfoods beverages plantbasedfoods plantbasedfoodsandbeverages\n",
      "vegetablesbasedfoods fruitsandvegetablesbasedfoods plantbasedfoods plantbasedfoodsandbeverages\n",
      "beverages plantbasedfoods plantbasedfoodsandbeverages\n",
      "cocoaanditsproducts sweetsnacks snacks\n",
      "confectioneries sweetsnacks snacks\n"
     ]
    }
   ],
   "source": [
    "uniques_categories = df['categories'].unique()\n",
    "uniques_categories_list = list(uniques_categories)\n",
    "for value in uniques_categories_list:\n",
    "    print(value)"
   ]
  },
  {
   "cell_type": "code",
   "execution_count": 431,
   "metadata": {},
   "outputs": [
    {
     "name": "stdout",
     "output_type": "stream",
     "text": [
      "0.0\n",
      "0.1111111111\n",
      "0.2222222222\n",
      "0.4444444444\n",
      "0.3333333333\n",
      "0.6666666667\n",
      "1.0\n",
      "0.8888888889\n",
      "0.5555555556\n",
      "0.7777777778\n"
     ]
    }
   ],
   "source": [
    "uniques_labels_note = df['labels_note'].unique()\n",
    "uniques_labels_note_list = list(uniques_labels_note)\n",
    "for value in uniques_labels_note_list:\n",
    "    print(value)"
   ]
  },
  {
   "cell_type": "code",
   "execution_count": 432,
   "metadata": {},
   "outputs": [
    {
     "data": {
      "text/html": [
       "<div>\n",
       "<style scoped>\n",
       "    .dataframe tbody tr th:only-of-type {\n",
       "        vertical-align: middle;\n",
       "    }\n",
       "\n",
       "    .dataframe tbody tr th {\n",
       "        vertical-align: top;\n",
       "    }\n",
       "\n",
       "    .dataframe thead th {\n",
       "        text-align: right;\n",
       "    }\n",
       "</style>\n",
       "<table border=\"1\" class=\"dataframe\">\n",
       "  <thead>\n",
       "    <tr style=\"text-align: right;\">\n",
       "      <th></th>\n",
       "      <th>groups</th>\n",
       "      <th>ecoscore_tags</th>\n",
       "      <th>ecoscore_score</th>\n",
       "      <th>countries</th>\n",
       "      <th>labels_note</th>\n",
       "    </tr>\n",
       "  </thead>\n",
       "  <tbody>\n",
       "    <tr>\n",
       "      <th>count</th>\n",
       "      <td>164.000000</td>\n",
       "      <td>107.000000</td>\n",
       "      <td>500.000000</td>\n",
       "      <td>461.000000</td>\n",
       "      <td>500.000000</td>\n",
       "    </tr>\n",
       "    <tr>\n",
       "      <th>mean</th>\n",
       "      <td>0.395325</td>\n",
       "      <td>0.532710</td>\n",
       "      <td>48.446000</td>\n",
       "      <td>0.508058</td>\n",
       "      <td>0.070444</td>\n",
       "    </tr>\n",
       "    <tr>\n",
       "      <th>std</th>\n",
       "      <td>0.302127</td>\n",
       "      <td>0.297561</td>\n",
       "      <td>11.229572</td>\n",
       "      <td>0.344125</td>\n",
       "      <td>0.163465</td>\n",
       "    </tr>\n",
       "    <tr>\n",
       "      <th>min</th>\n",
       "      <td>0.000000</td>\n",
       "      <td>0.000000</td>\n",
       "      <td>0.000000</td>\n",
       "      <td>0.000000</td>\n",
       "      <td>0.000000</td>\n",
       "    </tr>\n",
       "    <tr>\n",
       "      <th>25%</th>\n",
       "      <td>0.111111</td>\n",
       "      <td>0.250000</td>\n",
       "      <td>49.000000</td>\n",
       "      <td>0.296089</td>\n",
       "      <td>0.000000</td>\n",
       "    </tr>\n",
       "    <tr>\n",
       "      <th>50%</th>\n",
       "      <td>0.444444</td>\n",
       "      <td>0.500000</td>\n",
       "      <td>49.000000</td>\n",
       "      <td>0.333333</td>\n",
       "      <td>0.000000</td>\n",
       "    </tr>\n",
       "    <tr>\n",
       "      <th>75%</th>\n",
       "      <td>0.666667</td>\n",
       "      <td>0.750000</td>\n",
       "      <td>49.000000</td>\n",
       "      <td>0.874317</td>\n",
       "      <td>0.000000</td>\n",
       "    </tr>\n",
       "    <tr>\n",
       "      <th>max</th>\n",
       "      <td>1.000000</td>\n",
       "      <td>1.000000</td>\n",
       "      <td>100.000000</td>\n",
       "      <td>1.000000</td>\n",
       "      <td>1.000000</td>\n",
       "    </tr>\n",
       "  </tbody>\n",
       "</table>\n",
       "</div>"
      ],
      "text/plain": [
       "           groups  ecoscore_tags  ecoscore_score   countries  labels_note\n",
       "count  164.000000     107.000000      500.000000  461.000000   500.000000\n",
       "mean     0.395325       0.532710       48.446000    0.508058     0.070444\n",
       "std      0.302127       0.297561       11.229572    0.344125     0.163465\n",
       "min      0.000000       0.000000        0.000000    0.000000     0.000000\n",
       "25%      0.111111       0.250000       49.000000    0.296089     0.000000\n",
       "50%      0.444444       0.500000       49.000000    0.333333     0.000000\n",
       "75%      0.666667       0.750000       49.000000    0.874317     0.000000\n",
       "max      1.000000       1.000000      100.000000    1.000000     1.000000"
      ]
     },
     "execution_count": 432,
     "metadata": {},
     "output_type": "execute_result"
    }
   ],
   "source": [
    "df.describe()"
   ]
  },
  {
   "cell_type": "code",
   "execution_count": 433,
   "metadata": {},
   "outputs": [],
   "source": [
    "def load_jsonl_to_dataframe(file_path):\n",
    "    data = []\n",
    "    with open(file_path, 'r') as file:\n",
    "        for line in file:\n",
    "            data.append(json.loads(line))\n",
    "    df = pd.DataFrame(data)\n",
    "    return df\n",
    "\n",
    "def create_treemap_for_column(df, column_name):\n",
    "    if column_name not in df.columns:\n",
    "        print(f\"warning, column: '{column_name}'does not exists\")\n",
    "        return\n",
    "    data = df[column_name].value_counts().reset_index()\n",
    "    data.columns = [column_name, 'count']\n",
    "    fig = go.Figure(go.Treemap(\n",
    "        labels=data[column_name],\n",
    "        parents=[\"\"] * len(data),\n",
    "        values=data['count'],\n",
    "        textinfo='label+value',  \n",
    "    ))\n",
    "    fig.update_layout(\n",
    "        title=f'treemap column: {column_name}',\n",
    "        paper_bgcolor='black',  \n",
    "        plot_bgcolor='grey',   \n",
    "        font_color='white'      \n",
    "    )\n",
    "    fig.show()"
   ]
  },
  {
   "cell_type": "code",
   "execution_count": 434,
   "metadata": {},
   "outputs": [
    {
     "data": {
      "application/vnd.plotly.v1+json": {
       "config": {
        "plotlyServerURL": "https://plot.ly"
       },
       "data": [
        {
         "labels": [
          0.25,
          0.75,
          0.5,
          1,
          0,
          0.3333333333,
          0.6666666667
         ],
         "parents": [
          "",
          "",
          "",
          "",
          "",
          "",
          ""
         ],
         "textinfo": "label+value",
         "type": "treemap",
         "values": [
          43698,
          29790,
          27162,
          17157,
          13417,
          1,
          1
         ]
        }
       ],
       "layout": {
        "font": {
         "color": "white"
        },
        "paper_bgcolor": "black",
        "plot_bgcolor": "grey",
        "template": {
         "data": {
          "bar": [
           {
            "error_x": {
             "color": "#2a3f5f"
            },
            "error_y": {
             "color": "#2a3f5f"
            },
            "marker": {
             "line": {
              "color": "#E5ECF6",
              "width": 0.5
             },
             "pattern": {
              "fillmode": "overlay",
              "size": 10,
              "solidity": 0.2
             }
            },
            "type": "bar"
           }
          ],
          "barpolar": [
           {
            "marker": {
             "line": {
              "color": "#E5ECF6",
              "width": 0.5
             },
             "pattern": {
              "fillmode": "overlay",
              "size": 10,
              "solidity": 0.2
             }
            },
            "type": "barpolar"
           }
          ],
          "carpet": [
           {
            "aaxis": {
             "endlinecolor": "#2a3f5f",
             "gridcolor": "white",
             "linecolor": "white",
             "minorgridcolor": "white",
             "startlinecolor": "#2a3f5f"
            },
            "baxis": {
             "endlinecolor": "#2a3f5f",
             "gridcolor": "white",
             "linecolor": "white",
             "minorgridcolor": "white",
             "startlinecolor": "#2a3f5f"
            },
            "type": "carpet"
           }
          ],
          "choropleth": [
           {
            "colorbar": {
             "outlinewidth": 0,
             "ticks": ""
            },
            "type": "choropleth"
           }
          ],
          "contour": [
           {
            "colorbar": {
             "outlinewidth": 0,
             "ticks": ""
            },
            "colorscale": [
             [
              0,
              "#0d0887"
             ],
             [
              0.1111111111111111,
              "#46039f"
             ],
             [
              0.2222222222222222,
              "#7201a8"
             ],
             [
              0.3333333333333333,
              "#9c179e"
             ],
             [
              0.4444444444444444,
              "#bd3786"
             ],
             [
              0.5555555555555556,
              "#d8576b"
             ],
             [
              0.6666666666666666,
              "#ed7953"
             ],
             [
              0.7777777777777778,
              "#fb9f3a"
             ],
             [
              0.8888888888888888,
              "#fdca26"
             ],
             [
              1,
              "#f0f921"
             ]
            ],
            "type": "contour"
           }
          ],
          "contourcarpet": [
           {
            "colorbar": {
             "outlinewidth": 0,
             "ticks": ""
            },
            "type": "contourcarpet"
           }
          ],
          "heatmap": [
           {
            "colorbar": {
             "outlinewidth": 0,
             "ticks": ""
            },
            "colorscale": [
             [
              0,
              "#0d0887"
             ],
             [
              0.1111111111111111,
              "#46039f"
             ],
             [
              0.2222222222222222,
              "#7201a8"
             ],
             [
              0.3333333333333333,
              "#9c179e"
             ],
             [
              0.4444444444444444,
              "#bd3786"
             ],
             [
              0.5555555555555556,
              "#d8576b"
             ],
             [
              0.6666666666666666,
              "#ed7953"
             ],
             [
              0.7777777777777778,
              "#fb9f3a"
             ],
             [
              0.8888888888888888,
              "#fdca26"
             ],
             [
              1,
              "#f0f921"
             ]
            ],
            "type": "heatmap"
           }
          ],
          "heatmapgl": [
           {
            "colorbar": {
             "outlinewidth": 0,
             "ticks": ""
            },
            "colorscale": [
             [
              0,
              "#0d0887"
             ],
             [
              0.1111111111111111,
              "#46039f"
             ],
             [
              0.2222222222222222,
              "#7201a8"
             ],
             [
              0.3333333333333333,
              "#9c179e"
             ],
             [
              0.4444444444444444,
              "#bd3786"
             ],
             [
              0.5555555555555556,
              "#d8576b"
             ],
             [
              0.6666666666666666,
              "#ed7953"
             ],
             [
              0.7777777777777778,
              "#fb9f3a"
             ],
             [
              0.8888888888888888,
              "#fdca26"
             ],
             [
              1,
              "#f0f921"
             ]
            ],
            "type": "heatmapgl"
           }
          ],
          "histogram": [
           {
            "marker": {
             "pattern": {
              "fillmode": "overlay",
              "size": 10,
              "solidity": 0.2
             }
            },
            "type": "histogram"
           }
          ],
          "histogram2d": [
           {
            "colorbar": {
             "outlinewidth": 0,
             "ticks": ""
            },
            "colorscale": [
             [
              0,
              "#0d0887"
             ],
             [
              0.1111111111111111,
              "#46039f"
             ],
             [
              0.2222222222222222,
              "#7201a8"
             ],
             [
              0.3333333333333333,
              "#9c179e"
             ],
             [
              0.4444444444444444,
              "#bd3786"
             ],
             [
              0.5555555555555556,
              "#d8576b"
             ],
             [
              0.6666666666666666,
              "#ed7953"
             ],
             [
              0.7777777777777778,
              "#fb9f3a"
             ],
             [
              0.8888888888888888,
              "#fdca26"
             ],
             [
              1,
              "#f0f921"
             ]
            ],
            "type": "histogram2d"
           }
          ],
          "histogram2dcontour": [
           {
            "colorbar": {
             "outlinewidth": 0,
             "ticks": ""
            },
            "colorscale": [
             [
              0,
              "#0d0887"
             ],
             [
              0.1111111111111111,
              "#46039f"
             ],
             [
              0.2222222222222222,
              "#7201a8"
             ],
             [
              0.3333333333333333,
              "#9c179e"
             ],
             [
              0.4444444444444444,
              "#bd3786"
             ],
             [
              0.5555555555555556,
              "#d8576b"
             ],
             [
              0.6666666666666666,
              "#ed7953"
             ],
             [
              0.7777777777777778,
              "#fb9f3a"
             ],
             [
              0.8888888888888888,
              "#fdca26"
             ],
             [
              1,
              "#f0f921"
             ]
            ],
            "type": "histogram2dcontour"
           }
          ],
          "mesh3d": [
           {
            "colorbar": {
             "outlinewidth": 0,
             "ticks": ""
            },
            "type": "mesh3d"
           }
          ],
          "parcoords": [
           {
            "line": {
             "colorbar": {
              "outlinewidth": 0,
              "ticks": ""
             }
            },
            "type": "parcoords"
           }
          ],
          "pie": [
           {
            "automargin": true,
            "type": "pie"
           }
          ],
          "scatter": [
           {
            "fillpattern": {
             "fillmode": "overlay",
             "size": 10,
             "solidity": 0.2
            },
            "type": "scatter"
           }
          ],
          "scatter3d": [
           {
            "line": {
             "colorbar": {
              "outlinewidth": 0,
              "ticks": ""
             }
            },
            "marker": {
             "colorbar": {
              "outlinewidth": 0,
              "ticks": ""
             }
            },
            "type": "scatter3d"
           }
          ],
          "scattercarpet": [
           {
            "marker": {
             "colorbar": {
              "outlinewidth": 0,
              "ticks": ""
             }
            },
            "type": "scattercarpet"
           }
          ],
          "scattergeo": [
           {
            "marker": {
             "colorbar": {
              "outlinewidth": 0,
              "ticks": ""
             }
            },
            "type": "scattergeo"
           }
          ],
          "scattergl": [
           {
            "marker": {
             "colorbar": {
              "outlinewidth": 0,
              "ticks": ""
             }
            },
            "type": "scattergl"
           }
          ],
          "scattermapbox": [
           {
            "marker": {
             "colorbar": {
              "outlinewidth": 0,
              "ticks": ""
             }
            },
            "type": "scattermapbox"
           }
          ],
          "scatterpolar": [
           {
            "marker": {
             "colorbar": {
              "outlinewidth": 0,
              "ticks": ""
             }
            },
            "type": "scatterpolar"
           }
          ],
          "scatterpolargl": [
           {
            "marker": {
             "colorbar": {
              "outlinewidth": 0,
              "ticks": ""
             }
            },
            "type": "scatterpolargl"
           }
          ],
          "scatterternary": [
           {
            "marker": {
             "colorbar": {
              "outlinewidth": 0,
              "ticks": ""
             }
            },
            "type": "scatterternary"
           }
          ],
          "surface": [
           {
            "colorbar": {
             "outlinewidth": 0,
             "ticks": ""
            },
            "colorscale": [
             [
              0,
              "#0d0887"
             ],
             [
              0.1111111111111111,
              "#46039f"
             ],
             [
              0.2222222222222222,
              "#7201a8"
             ],
             [
              0.3333333333333333,
              "#9c179e"
             ],
             [
              0.4444444444444444,
              "#bd3786"
             ],
             [
              0.5555555555555556,
              "#d8576b"
             ],
             [
              0.6666666666666666,
              "#ed7953"
             ],
             [
              0.7777777777777778,
              "#fb9f3a"
             ],
             [
              0.8888888888888888,
              "#fdca26"
             ],
             [
              1,
              "#f0f921"
             ]
            ],
            "type": "surface"
           }
          ],
          "table": [
           {
            "cells": {
             "fill": {
              "color": "#EBF0F8"
             },
             "line": {
              "color": "white"
             }
            },
            "header": {
             "fill": {
              "color": "#C8D4E3"
             },
             "line": {
              "color": "white"
             }
            },
            "type": "table"
           }
          ]
         },
         "layout": {
          "annotationdefaults": {
           "arrowcolor": "#2a3f5f",
           "arrowhead": 0,
           "arrowwidth": 1
          },
          "autotypenumbers": "strict",
          "coloraxis": {
           "colorbar": {
            "outlinewidth": 0,
            "ticks": ""
           }
          },
          "colorscale": {
           "diverging": [
            [
             0,
             "#8e0152"
            ],
            [
             0.1,
             "#c51b7d"
            ],
            [
             0.2,
             "#de77ae"
            ],
            [
             0.3,
             "#f1b6da"
            ],
            [
             0.4,
             "#fde0ef"
            ],
            [
             0.5,
             "#f7f7f7"
            ],
            [
             0.6,
             "#e6f5d0"
            ],
            [
             0.7,
             "#b8e186"
            ],
            [
             0.8,
             "#7fbc41"
            ],
            [
             0.9,
             "#4d9221"
            ],
            [
             1,
             "#276419"
            ]
           ],
           "sequential": [
            [
             0,
             "#0d0887"
            ],
            [
             0.1111111111111111,
             "#46039f"
            ],
            [
             0.2222222222222222,
             "#7201a8"
            ],
            [
             0.3333333333333333,
             "#9c179e"
            ],
            [
             0.4444444444444444,
             "#bd3786"
            ],
            [
             0.5555555555555556,
             "#d8576b"
            ],
            [
             0.6666666666666666,
             "#ed7953"
            ],
            [
             0.7777777777777778,
             "#fb9f3a"
            ],
            [
             0.8888888888888888,
             "#fdca26"
            ],
            [
             1,
             "#f0f921"
            ]
           ],
           "sequentialminus": [
            [
             0,
             "#0d0887"
            ],
            [
             0.1111111111111111,
             "#46039f"
            ],
            [
             0.2222222222222222,
             "#7201a8"
            ],
            [
             0.3333333333333333,
             "#9c179e"
            ],
            [
             0.4444444444444444,
             "#bd3786"
            ],
            [
             0.5555555555555556,
             "#d8576b"
            ],
            [
             0.6666666666666666,
             "#ed7953"
            ],
            [
             0.7777777777777778,
             "#fb9f3a"
            ],
            [
             0.8888888888888888,
             "#fdca26"
            ],
            [
             1,
             "#f0f921"
            ]
           ]
          },
          "colorway": [
           "#636efa",
           "#EF553B",
           "#00cc96",
           "#ab63fa",
           "#FFA15A",
           "#19d3f3",
           "#FF6692",
           "#B6E880",
           "#FF97FF",
           "#FECB52"
          ],
          "font": {
           "color": "#2a3f5f"
          },
          "geo": {
           "bgcolor": "white",
           "lakecolor": "white",
           "landcolor": "#E5ECF6",
           "showlakes": true,
           "showland": true,
           "subunitcolor": "white"
          },
          "hoverlabel": {
           "align": "left"
          },
          "hovermode": "closest",
          "mapbox": {
           "style": "light"
          },
          "paper_bgcolor": "white",
          "plot_bgcolor": "#E5ECF6",
          "polar": {
           "angularaxis": {
            "gridcolor": "white",
            "linecolor": "white",
            "ticks": ""
           },
           "bgcolor": "#E5ECF6",
           "radialaxis": {
            "gridcolor": "white",
            "linecolor": "white",
            "ticks": ""
           }
          },
          "scene": {
           "xaxis": {
            "backgroundcolor": "#E5ECF6",
            "gridcolor": "white",
            "gridwidth": 2,
            "linecolor": "white",
            "showbackground": true,
            "ticks": "",
            "zerolinecolor": "white"
           },
           "yaxis": {
            "backgroundcolor": "#E5ECF6",
            "gridcolor": "white",
            "gridwidth": 2,
            "linecolor": "white",
            "showbackground": true,
            "ticks": "",
            "zerolinecolor": "white"
           },
           "zaxis": {
            "backgroundcolor": "#E5ECF6",
            "gridcolor": "white",
            "gridwidth": 2,
            "linecolor": "white",
            "showbackground": true,
            "ticks": "",
            "zerolinecolor": "white"
           }
          },
          "shapedefaults": {
           "line": {
            "color": "#2a3f5f"
           }
          },
          "ternary": {
           "aaxis": {
            "gridcolor": "white",
            "linecolor": "white",
            "ticks": ""
           },
           "baxis": {
            "gridcolor": "white",
            "linecolor": "white",
            "ticks": ""
           },
           "bgcolor": "#E5ECF6",
           "caxis": {
            "gridcolor": "white",
            "linecolor": "white",
            "ticks": ""
           }
          },
          "title": {
           "x": 0.05
          },
          "xaxis": {
           "automargin": true,
           "gridcolor": "white",
           "linecolor": "white",
           "ticks": "",
           "title": {
            "standoff": 15
           },
           "zerolinecolor": "white",
           "zerolinewidth": 2
          },
          "yaxis": {
           "automargin": true,
           "gridcolor": "white",
           "linecolor": "white",
           "ticks": "",
           "title": {
            "standoff": 15
           },
           "zerolinecolor": "white",
           "zerolinewidth": 2
          }
         }
        },
        "title": {
         "text": "treemap column: ecoscore_tags"
        }
       }
      }
     },
     "metadata": {},
     "output_type": "display_data"
    },
    {
     "data": {
      "application/vnd.plotly.v1+json": {
       "config": {
        "plotlyServerURL": "https://plot.ly"
       },
       "data": [
        {
         "labels": [
          49,
          79,
          67,
          72,
          34,
          0,
          77,
          39,
          21,
          42,
          27,
          50,
          75,
          15,
          37,
          43,
          44,
          60,
          76,
          36,
          78,
          54,
          25,
          12,
          19,
          45,
          38,
          35,
          100,
          74,
          64,
          70,
          71,
          62,
          68,
          22,
          30,
          58,
          16,
          57,
          18,
          73,
          55,
          66,
          59,
          29,
          51,
          47,
          48,
          32,
          40,
          28,
          53,
          69,
          4,
          23,
          31,
          41,
          56,
          63,
          52,
          65,
          9,
          24,
          46,
          33,
          26,
          17,
          20,
          6,
          2,
          14,
          5,
          8,
          81,
          61,
          85,
          3,
          13,
          83,
          1,
          80,
          91,
          82,
          90,
          88,
          11,
          84,
          10,
          92,
          89,
          94,
          87,
          7,
          93,
          86,
          96,
          97,
          95,
          98,
          99,
          78.4170138324
         ],
         "parents": [
          "",
          "",
          "",
          "",
          "",
          "",
          "",
          "",
          "",
          "",
          "",
          "",
          "",
          "",
          "",
          "",
          "",
          "",
          "",
          "",
          "",
          "",
          "",
          "",
          "",
          "",
          "",
          "",
          "",
          "",
          "",
          "",
          "",
          "",
          "",
          "",
          "",
          "",
          "",
          "",
          "",
          "",
          "",
          "",
          "",
          "",
          "",
          "",
          "",
          "",
          "",
          "",
          "",
          "",
          "",
          "",
          "",
          "",
          "",
          "",
          "",
          "",
          "",
          "",
          "",
          "",
          "",
          "",
          "",
          "",
          "",
          "",
          "",
          "",
          "",
          "",
          "",
          "",
          "",
          "",
          "",
          "",
          "",
          "",
          "",
          "",
          "",
          "",
          "",
          "",
          "",
          "",
          "",
          "",
          "",
          "",
          "",
          "",
          "",
          "",
          "",
          ""
         ],
         "textinfo": "label+value",
         "type": "treemap",
         "values": [
          512503,
          8927,
          6631,
          4664,
          4548,
          3116,
          2531,
          2452,
          2423,
          2292,
          2224,
          2199,
          2188,
          2069,
          1989,
          1942,
          1835,
          1830,
          1780,
          1741,
          1721,
          1681,
          1674,
          1628,
          1616,
          1612,
          1551,
          1516,
          1492,
          1481,
          1462,
          1405,
          1363,
          1362,
          1341,
          1320,
          1294,
          1262,
          1260,
          1134,
          1103,
          1091,
          1079,
          1063,
          1062,
          1054,
          1050,
          1042,
          1023,
          972,
          949,
          948,
          926,
          907,
          905,
          901,
          796,
          786,
          777,
          775,
          771,
          768,
          682,
          674,
          612,
          584,
          583,
          563,
          546,
          544,
          544,
          504,
          498,
          475,
          436,
          409,
          397,
          391,
          349,
          333,
          330,
          329,
          322,
          299,
          294,
          230,
          219,
          201,
          201,
          191,
          182,
          181,
          175,
          160,
          154,
          141,
          117,
          109,
          109,
          101,
          100,
          1
         ]
        }
       ],
       "layout": {
        "font": {
         "color": "white"
        },
        "paper_bgcolor": "black",
        "plot_bgcolor": "grey",
        "template": {
         "data": {
          "bar": [
           {
            "error_x": {
             "color": "#2a3f5f"
            },
            "error_y": {
             "color": "#2a3f5f"
            },
            "marker": {
             "line": {
              "color": "#E5ECF6",
              "width": 0.5
             },
             "pattern": {
              "fillmode": "overlay",
              "size": 10,
              "solidity": 0.2
             }
            },
            "type": "bar"
           }
          ],
          "barpolar": [
           {
            "marker": {
             "line": {
              "color": "#E5ECF6",
              "width": 0.5
             },
             "pattern": {
              "fillmode": "overlay",
              "size": 10,
              "solidity": 0.2
             }
            },
            "type": "barpolar"
           }
          ],
          "carpet": [
           {
            "aaxis": {
             "endlinecolor": "#2a3f5f",
             "gridcolor": "white",
             "linecolor": "white",
             "minorgridcolor": "white",
             "startlinecolor": "#2a3f5f"
            },
            "baxis": {
             "endlinecolor": "#2a3f5f",
             "gridcolor": "white",
             "linecolor": "white",
             "minorgridcolor": "white",
             "startlinecolor": "#2a3f5f"
            },
            "type": "carpet"
           }
          ],
          "choropleth": [
           {
            "colorbar": {
             "outlinewidth": 0,
             "ticks": ""
            },
            "type": "choropleth"
           }
          ],
          "contour": [
           {
            "colorbar": {
             "outlinewidth": 0,
             "ticks": ""
            },
            "colorscale": [
             [
              0,
              "#0d0887"
             ],
             [
              0.1111111111111111,
              "#46039f"
             ],
             [
              0.2222222222222222,
              "#7201a8"
             ],
             [
              0.3333333333333333,
              "#9c179e"
             ],
             [
              0.4444444444444444,
              "#bd3786"
             ],
             [
              0.5555555555555556,
              "#d8576b"
             ],
             [
              0.6666666666666666,
              "#ed7953"
             ],
             [
              0.7777777777777778,
              "#fb9f3a"
             ],
             [
              0.8888888888888888,
              "#fdca26"
             ],
             [
              1,
              "#f0f921"
             ]
            ],
            "type": "contour"
           }
          ],
          "contourcarpet": [
           {
            "colorbar": {
             "outlinewidth": 0,
             "ticks": ""
            },
            "type": "contourcarpet"
           }
          ],
          "heatmap": [
           {
            "colorbar": {
             "outlinewidth": 0,
             "ticks": ""
            },
            "colorscale": [
             [
              0,
              "#0d0887"
             ],
             [
              0.1111111111111111,
              "#46039f"
             ],
             [
              0.2222222222222222,
              "#7201a8"
             ],
             [
              0.3333333333333333,
              "#9c179e"
             ],
             [
              0.4444444444444444,
              "#bd3786"
             ],
             [
              0.5555555555555556,
              "#d8576b"
             ],
             [
              0.6666666666666666,
              "#ed7953"
             ],
             [
              0.7777777777777778,
              "#fb9f3a"
             ],
             [
              0.8888888888888888,
              "#fdca26"
             ],
             [
              1,
              "#f0f921"
             ]
            ],
            "type": "heatmap"
           }
          ],
          "heatmapgl": [
           {
            "colorbar": {
             "outlinewidth": 0,
             "ticks": ""
            },
            "colorscale": [
             [
              0,
              "#0d0887"
             ],
             [
              0.1111111111111111,
              "#46039f"
             ],
             [
              0.2222222222222222,
              "#7201a8"
             ],
             [
              0.3333333333333333,
              "#9c179e"
             ],
             [
              0.4444444444444444,
              "#bd3786"
             ],
             [
              0.5555555555555556,
              "#d8576b"
             ],
             [
              0.6666666666666666,
              "#ed7953"
             ],
             [
              0.7777777777777778,
              "#fb9f3a"
             ],
             [
              0.8888888888888888,
              "#fdca26"
             ],
             [
              1,
              "#f0f921"
             ]
            ],
            "type": "heatmapgl"
           }
          ],
          "histogram": [
           {
            "marker": {
             "pattern": {
              "fillmode": "overlay",
              "size": 10,
              "solidity": 0.2
             }
            },
            "type": "histogram"
           }
          ],
          "histogram2d": [
           {
            "colorbar": {
             "outlinewidth": 0,
             "ticks": ""
            },
            "colorscale": [
             [
              0,
              "#0d0887"
             ],
             [
              0.1111111111111111,
              "#46039f"
             ],
             [
              0.2222222222222222,
              "#7201a8"
             ],
             [
              0.3333333333333333,
              "#9c179e"
             ],
             [
              0.4444444444444444,
              "#bd3786"
             ],
             [
              0.5555555555555556,
              "#d8576b"
             ],
             [
              0.6666666666666666,
              "#ed7953"
             ],
             [
              0.7777777777777778,
              "#fb9f3a"
             ],
             [
              0.8888888888888888,
              "#fdca26"
             ],
             [
              1,
              "#f0f921"
             ]
            ],
            "type": "histogram2d"
           }
          ],
          "histogram2dcontour": [
           {
            "colorbar": {
             "outlinewidth": 0,
             "ticks": ""
            },
            "colorscale": [
             [
              0,
              "#0d0887"
             ],
             [
              0.1111111111111111,
              "#46039f"
             ],
             [
              0.2222222222222222,
              "#7201a8"
             ],
             [
              0.3333333333333333,
              "#9c179e"
             ],
             [
              0.4444444444444444,
              "#bd3786"
             ],
             [
              0.5555555555555556,
              "#d8576b"
             ],
             [
              0.6666666666666666,
              "#ed7953"
             ],
             [
              0.7777777777777778,
              "#fb9f3a"
             ],
             [
              0.8888888888888888,
              "#fdca26"
             ],
             [
              1,
              "#f0f921"
             ]
            ],
            "type": "histogram2dcontour"
           }
          ],
          "mesh3d": [
           {
            "colorbar": {
             "outlinewidth": 0,
             "ticks": ""
            },
            "type": "mesh3d"
           }
          ],
          "parcoords": [
           {
            "line": {
             "colorbar": {
              "outlinewidth": 0,
              "ticks": ""
             }
            },
            "type": "parcoords"
           }
          ],
          "pie": [
           {
            "automargin": true,
            "type": "pie"
           }
          ],
          "scatter": [
           {
            "fillpattern": {
             "fillmode": "overlay",
             "size": 10,
             "solidity": 0.2
            },
            "type": "scatter"
           }
          ],
          "scatter3d": [
           {
            "line": {
             "colorbar": {
              "outlinewidth": 0,
              "ticks": ""
             }
            },
            "marker": {
             "colorbar": {
              "outlinewidth": 0,
              "ticks": ""
             }
            },
            "type": "scatter3d"
           }
          ],
          "scattercarpet": [
           {
            "marker": {
             "colorbar": {
              "outlinewidth": 0,
              "ticks": ""
             }
            },
            "type": "scattercarpet"
           }
          ],
          "scattergeo": [
           {
            "marker": {
             "colorbar": {
              "outlinewidth": 0,
              "ticks": ""
             }
            },
            "type": "scattergeo"
           }
          ],
          "scattergl": [
           {
            "marker": {
             "colorbar": {
              "outlinewidth": 0,
              "ticks": ""
             }
            },
            "type": "scattergl"
           }
          ],
          "scattermapbox": [
           {
            "marker": {
             "colorbar": {
              "outlinewidth": 0,
              "ticks": ""
             }
            },
            "type": "scattermapbox"
           }
          ],
          "scatterpolar": [
           {
            "marker": {
             "colorbar": {
              "outlinewidth": 0,
              "ticks": ""
             }
            },
            "type": "scatterpolar"
           }
          ],
          "scatterpolargl": [
           {
            "marker": {
             "colorbar": {
              "outlinewidth": 0,
              "ticks": ""
             }
            },
            "type": "scatterpolargl"
           }
          ],
          "scatterternary": [
           {
            "marker": {
             "colorbar": {
              "outlinewidth": 0,
              "ticks": ""
             }
            },
            "type": "scatterternary"
           }
          ],
          "surface": [
           {
            "colorbar": {
             "outlinewidth": 0,
             "ticks": ""
            },
            "colorscale": [
             [
              0,
              "#0d0887"
             ],
             [
              0.1111111111111111,
              "#46039f"
             ],
             [
              0.2222222222222222,
              "#7201a8"
             ],
             [
              0.3333333333333333,
              "#9c179e"
             ],
             [
              0.4444444444444444,
              "#bd3786"
             ],
             [
              0.5555555555555556,
              "#d8576b"
             ],
             [
              0.6666666666666666,
              "#ed7953"
             ],
             [
              0.7777777777777778,
              "#fb9f3a"
             ],
             [
              0.8888888888888888,
              "#fdca26"
             ],
             [
              1,
              "#f0f921"
             ]
            ],
            "type": "surface"
           }
          ],
          "table": [
           {
            "cells": {
             "fill": {
              "color": "#EBF0F8"
             },
             "line": {
              "color": "white"
             }
            },
            "header": {
             "fill": {
              "color": "#C8D4E3"
             },
             "line": {
              "color": "white"
             }
            },
            "type": "table"
           }
          ]
         },
         "layout": {
          "annotationdefaults": {
           "arrowcolor": "#2a3f5f",
           "arrowhead": 0,
           "arrowwidth": 1
          },
          "autotypenumbers": "strict",
          "coloraxis": {
           "colorbar": {
            "outlinewidth": 0,
            "ticks": ""
           }
          },
          "colorscale": {
           "diverging": [
            [
             0,
             "#8e0152"
            ],
            [
             0.1,
             "#c51b7d"
            ],
            [
             0.2,
             "#de77ae"
            ],
            [
             0.3,
             "#f1b6da"
            ],
            [
             0.4,
             "#fde0ef"
            ],
            [
             0.5,
             "#f7f7f7"
            ],
            [
             0.6,
             "#e6f5d0"
            ],
            [
             0.7,
             "#b8e186"
            ],
            [
             0.8,
             "#7fbc41"
            ],
            [
             0.9,
             "#4d9221"
            ],
            [
             1,
             "#276419"
            ]
           ],
           "sequential": [
            [
             0,
             "#0d0887"
            ],
            [
             0.1111111111111111,
             "#46039f"
            ],
            [
             0.2222222222222222,
             "#7201a8"
            ],
            [
             0.3333333333333333,
             "#9c179e"
            ],
            [
             0.4444444444444444,
             "#bd3786"
            ],
            [
             0.5555555555555556,
             "#d8576b"
            ],
            [
             0.6666666666666666,
             "#ed7953"
            ],
            [
             0.7777777777777778,
             "#fb9f3a"
            ],
            [
             0.8888888888888888,
             "#fdca26"
            ],
            [
             1,
             "#f0f921"
            ]
           ],
           "sequentialminus": [
            [
             0,
             "#0d0887"
            ],
            [
             0.1111111111111111,
             "#46039f"
            ],
            [
             0.2222222222222222,
             "#7201a8"
            ],
            [
             0.3333333333333333,
             "#9c179e"
            ],
            [
             0.4444444444444444,
             "#bd3786"
            ],
            [
             0.5555555555555556,
             "#d8576b"
            ],
            [
             0.6666666666666666,
             "#ed7953"
            ],
            [
             0.7777777777777778,
             "#fb9f3a"
            ],
            [
             0.8888888888888888,
             "#fdca26"
            ],
            [
             1,
             "#f0f921"
            ]
           ]
          },
          "colorway": [
           "#636efa",
           "#EF553B",
           "#00cc96",
           "#ab63fa",
           "#FFA15A",
           "#19d3f3",
           "#FF6692",
           "#B6E880",
           "#FF97FF",
           "#FECB52"
          ],
          "font": {
           "color": "#2a3f5f"
          },
          "geo": {
           "bgcolor": "white",
           "lakecolor": "white",
           "landcolor": "#E5ECF6",
           "showlakes": true,
           "showland": true,
           "subunitcolor": "white"
          },
          "hoverlabel": {
           "align": "left"
          },
          "hovermode": "closest",
          "mapbox": {
           "style": "light"
          },
          "paper_bgcolor": "white",
          "plot_bgcolor": "#E5ECF6",
          "polar": {
           "angularaxis": {
            "gridcolor": "white",
            "linecolor": "white",
            "ticks": ""
           },
           "bgcolor": "#E5ECF6",
           "radialaxis": {
            "gridcolor": "white",
            "linecolor": "white",
            "ticks": ""
           }
          },
          "scene": {
           "xaxis": {
            "backgroundcolor": "#E5ECF6",
            "gridcolor": "white",
            "gridwidth": 2,
            "linecolor": "white",
            "showbackground": true,
            "ticks": "",
            "zerolinecolor": "white"
           },
           "yaxis": {
            "backgroundcolor": "#E5ECF6",
            "gridcolor": "white",
            "gridwidth": 2,
            "linecolor": "white",
            "showbackground": true,
            "ticks": "",
            "zerolinecolor": "white"
           },
           "zaxis": {
            "backgroundcolor": "#E5ECF6",
            "gridcolor": "white",
            "gridwidth": 2,
            "linecolor": "white",
            "showbackground": true,
            "ticks": "",
            "zerolinecolor": "white"
           }
          },
          "shapedefaults": {
           "line": {
            "color": "#2a3f5f"
           }
          },
          "ternary": {
           "aaxis": {
            "gridcolor": "white",
            "linecolor": "white",
            "ticks": ""
           },
           "baxis": {
            "gridcolor": "white",
            "linecolor": "white",
            "ticks": ""
           },
           "bgcolor": "#E5ECF6",
           "caxis": {
            "gridcolor": "white",
            "linecolor": "white",
            "ticks": ""
           }
          },
          "title": {
           "x": 0.05
          },
          "xaxis": {
           "automargin": true,
           "gridcolor": "white",
           "linecolor": "white",
           "ticks": "",
           "title": {
            "standoff": 15
           },
           "zerolinecolor": "white",
           "zerolinewidth": 2
          },
          "yaxis": {
           "automargin": true,
           "gridcolor": "white",
           "linecolor": "white",
           "ticks": "",
           "title": {
            "standoff": 15
           },
           "zerolinecolor": "white",
           "zerolinewidth": 2
          }
         }
        },
        "title": {
         "text": "treemap column: ecoscore_score"
        }
       }
      }
     },
     "metadata": {},
     "output_type": "display_data"
    },
    {
     "data": {
      "application/vnd.plotly.v1+json": {
       "config": {
        "plotlyServerURL": "https://plot.ly"
       },
       "data": [
        {
         "labels": [
          1,
          0.3114754098,
          0.8743169399,
          0.3333333333,
          0,
          0.4316939891,
          0.9945355191,
          0.2960893855,
          0.1584699454,
          0.2544378698,
          0.2881355932,
          0.0765027322,
          0.9016393443,
          0.4207650273,
          0.9734042553,
          0.0327868852,
          0.4189944134,
          0.8715083799,
          0.3152173913,
          0.3031914894,
          0.3184357542,
          0.420212766,
          0.320754717,
          0.3015873016,
          0.6557377049,
          0.4347826087,
          0.1818181818,
          0.1147540984,
          0.4124293785,
          0.3244680851,
          0.8510638298,
          0.7650273224,
          0.7431693989,
          0.2786885246,
          0.7595628415,
          0.2847682119,
          0.9625,
          0.4426229508,
          0.9944134078,
          0.6229508197,
          0.8994413408,
          0.8961748634,
          0.7486338798,
          0.3107344633,
          0.3989071038,
          0.1396648045,
          0.2945205479,
          0.9680851064,
          0.1542553191,
          0.0218579235,
          0.6885245902,
          0.306010929,
          0.5355191257,
          0.5901639344,
          0.1256830601,
          0.0382513661,
          0.0558659218,
          0.3369565217,
          0.8639053254,
          0.9682539683,
          0.875,
          0.2781065089,
          0.2349726776,
          0.2295081967,
          0.3,
          0.5300546448,
          0.9945652174,
          0.8465608466,
          0.8087431694,
          0.4095744681,
          0.3227513228,
          0.9289617486,
          0.417989418,
          0.2857142857,
          0.4078212291,
          0.0815217391,
          0.3879781421,
          0.3081081081,
          0.8633879781,
          0.8988095238,
          0.0319148936,
          0.2834224599,
          0.6612021858,
          0.0111731844,
          0.2921348315,
          0.8736263736,
          0.9943502825,
          0.1630434783,
          0.8700564972,
          0.3076923077,
          0.2864864865,
          0.8776595745,
          0.3085714286,
          0.4043715847,
          0.8360655738,
          0.3442622951,
          0.737704918,
          0.9675675676,
          0.9889502762,
          0.255952381,
          0.8983050847,
          0.972826087,
          0.3097826087,
          0.0744680851,
          0.4293478261,
          0.962962963,
          0.9890710383,
          0.1857923497,
          0.9891891892,
          0.2880434783,
          0.9685863874,
          0.8342245989,
          0.174863388,
          0.4262295082,
          0.9836065574,
          0.3945945946,
          0.9617486339,
          0.1299435028,
          0.8415300546,
          0.8196721311,
          0.2131147541,
          0.7584269663,
          0.1534391534,
          0.9621621622,
          0.2928176796,
          0.902173913,
          0.5519125683,
          0.6480446927,
          0.7540983607,
          0.3149171271,
          0.4378378378,
          0.5762711864,
          0.3089005236,
          0.1117021277,
          0.427027027,
          0.4143646409,
          0.3189189189,
          0.873015873,
          0.9935064935,
          0.8695652174,
          0.3405405405,
          0.0740740741,
          0.0736842105,
          0.0380434783,
          0.3297297297,
          0.956284153,
          0.4076086957,
          0.0451977401,
          0.8648648649,
          0.6382978723,
          0.9943820225,
          0.4308510638,
          0.094972067,
          0.8756756757,
          0.3298429319,
          0.4808743169,
          0.0918918919,
          0.7374301676,
          0.4153005464,
          0.8926553672,
          0.4162162162,
          0.8421052632,
          0.9572192513,
          0.8938547486,
          0.8934911243,
          0.262295082,
          0.5251396648,
          0.7234042553,
          0.4239130435,
          0.0317460317,
          0.861878453,
          0.3846153846,
          0.4074074074,
          0.4011299435,
          0.218579235,
          0.4301675978,
          0.9940828402,
          0.847826087,
          0.4054054054,
          0.8432432432,
          0.7430167598,
          0.8684210526,
          0.3315217391,
          0.4136125654,
          0.0714285714,
          0.9633507853,
          0.8723404255,
          0.3210526316,
          0.3005464481,
          0.9672131148,
          0.6145251397,
          0.2905027933,
          0.9891304348,
          0.7446808511,
          0.0108108108,
          0.8469945355,
          0.138121547,
          0.9273743017,
          0.0167597765,
          0.6815642458,
          0.1223404255,
          0.5810055866,
          0.2841530055,
          0.5573770492,
          0.3882978723,
          0.670212766,
          0.2978723404,
          0.627027027,
          0.1358695652,
          0.1675675676,
          0.6272189349,
          0.7393617021,
          0.1336898396,
          0.1567567568,
          0.217877095,
          0.5212765957,
          0.1576086957,
          0.3146067416,
          0.9945945946,
          0.9673913043,
          0.7541899441,
          0.2240437158,
          0.2122905028,
          0.5744680851,
          0.0212765957,
          0.6063829787,
          0.6436170213,
          0.7340425532,
          0.4345549738,
          0.4010695187,
          0.7597765363,
          0.9518716578,
          0.1061452514,
          0.5027322404,
          0.9834254144,
          0.0983606557,
          0.9631578947,
          0.9945054945,
          0.8603351955,
          0.9010989011,
          0.0372340426,
          0.7278106509,
          0.1351351351,
          0.9837837838,
          0.0534759358,
          0.3854748603,
          0.6349206349,
          0.7287234043,
          0.175,
          0.2287234043,
          0.7322404372,
          0.8481675393,
          0.0108695652,
          0.372972973,
          0.6536312849,
          0.1204188482,
          0.8967391304,
          0.393442623,
          0.4184782609,
          0.2108108108,
          0.4269662921,
          0.7351351351,
          0.7872340426,
          0.827027027,
          0.1538461538,
          0.8609625668,
          0.7195767196,
          0.7103825137,
          0.0418848168,
          0.3278688525,
          0.2234042553,
          0.0324324324,
          0.8702702703,
          0.7354497354,
          0.156424581,
          0.4285714286,
          0.1623036649,
          0.7158469945,
          0.0432432432,
          0.3296089385,
          0.3967391304,
          0.6576086957,
          0.3296703297,
          0.9027027027,
          0.7135135135,
          0.0054644809,
          0.2076502732,
          0.8108108108,
          0.2810810811,
          0.7297297297,
          0.8404255319,
          0.4240837696,
          0.7570621469,
          0.2797619048,
          0.2356020942,
          0.6010928962,
          0.8947368421,
          0.8895027624,
          0.8047337278,
          0.3661202186,
          0.5132275132,
          0.6387434555,
          0.5185185185,
          0.9619565217,
          0.8138297872,
          0.9578947368,
          0.625,
          0.3048128342,
          0.0710382514,
          0.5159574468,
          0.6594594595,
          0.7445652174,
          0.5195530726,
          0.9042553191,
          0.8691099476,
          0.1243243243,
          0.7248677249,
          0.043715847,
          0.6440677966,
          0.0162162162,
          0.6779661017,
          0.5683060109,
          0.209039548,
          0.1656804734,
          0.3936170213,
          0.6031746032,
          0.7608695652,
          0.5714285714,
          0.6994535519,
          0.9028571429,
          0.2074468085,
          0.4033149171,
          0.2275132275,
          0.9361702128,
          0.335106383,
          0.5380434783,
          0.0056497175,
          0.9627659574,
          0.1675977654,
          0.0110497238,
          0.1808510638,
          0.75,
          0.9101123596,
          0.0326086957,
          0.4098360656,
          0.0760869565,
          0.0552486188,
          0.1202185792,
          0.0543478261,
          0.037037037,
          0.8743455497,
          0.3036649215,
          0.0960451977,
          0.0054347826,
          0.1525423729,
          0.2824858757,
          0.868852459,
          0.8044692737,
          0.2950819672,
          0.374301676,
          0.1304347826,
          0.5846994536,
          0.5621621622,
          0.0887573964,
          0.170212766,
          0.2033898305,
          0.8994708995,
          0.3862433862,
          0.0756756757,
          0.5081081081,
          0.347826087,
          0.0864864865,
          0.2282608696,
          0.4052631579,
          0.402173913,
          0.2553191489,
          0.8907103825,
          0.7407407407,
          0.5923913043,
          0.3926701571,
          0.6701570681,
          0.0540540541,
          0.1475409836,
          0.512987013,
          0.0434782609,
          0.8677248677,
          0.6902173913,
          0.8142076503,
          0.1216931217,
          0.912568306,
          0.308988764,
          0.6324324324,
          0.722513089,
          0.2336956522,
          0.0211640212,
          0.5326086957,
          0.1111111111,
          0.2513661202,
          0.7434554974,
          0.414893617,
          0.7663043478,
          0.5372340426,
          0.7783783784,
          0.7318435754,
          0.0837696335,
          0.1135135135,
          0.2222222222,
          0.2765957447,
          0.6315789474,
          0.2054054054,
          0.5054347826,
          0.7401129944,
          0.7344632768,
          0.7853403141,
          0.2962962963,
          0.9888268156,
          0.7127659574,
          0.027173913,
          0.9293478261,
          0.0315789474,
          0.6666666667,
          0.7189189189,
          0.8052631579,
          0.9553072626,
          0.3776595745,
          0.8918918919,
          0.4157894737,
          0.1526315789,
          0.1955307263,
          0.8875739645,
          0.4456521739,
          0.4126984127,
          0.0471204188,
          0.802259887,
          0.5027027027,
          0.7157894737,
          0.8972972973,
          0.8115183246,
          0.7514124294,
          0.7830687831,
          0.4,
          0.406779661,
          0.3915343915,
          0.7180851064,
          0.9920634921,
          0.5078534031,
          0.1803278689,
          0.5945945946,
          0.9608938547,
          0.5759162304,
          0.4680851064,
          0.25,
          0.3785310734,
          0.9312169312,
          0.8095238095,
          0.7173913043,
          0.1027027027,
          0.6830601093,
          0.4263157895,
          0.4042553191,
          0.8376963351,
          0.227027027,
          0.0106951872,
          0.2568306011,
          0.4134078212,
          0.6439790576,
          0.5157894737,
          0.2127659574,
          0.7978723404,
          0.7172774869,
          0.835978836,
          0.7277486911,
          0.8324022346,
          0.8324324324,
          0.1308900524,
          0.2173913043,
          0.1693121693,
          0.7455621302,
          0.5197740113,
          0.7554347826,
          0.0847457627,
          0.4480874317,
          0.3513513514,
          0.3756613757,
          0.8097826087,
          0.2780748663,
          0.7058823529,
          0.1195652174,
          0.8587570621,
          0.9548022599,
          0.1105263158,
          0.3551912568,
          0.1902173913,
          0.1798941799,
          0.6486486486,
          0.6630434783,
          0.7142857143,
          0.5193370166,
          0.5191256831,
          0.7513513514,
          0.4535519126,
          0.6968085106,
          0.0210526316,
          0.1530054645,
          0.7112299465,
          0.5882352941,
          0.5561497326,
          0.3672316384,
          0.6402116402,
          0.988700565,
          0.0491803279,
          0.6101694915,
          0.2077922078,
          0.0314136126,
          0.9297297297,
          0.6775956284,
          0.9581151832,
          0.8378378378,
          0.8797814208,
          0.2011173184,
          0.2594594595,
          0.3837837838,
          0.6,
          0.6203208556,
          0.7391304348,
          0.6408839779,
          0.5235602094,
          0.3155080214,
          0.2378378378,
          0.3715846995,
          0.0368421053,
          0.597826087,
          0.4893617021,
          0.2021276596,
          0.4486486486,
          0.6847826087,
          0.8156424581,
          0.3913043478,
          0.5108695652,
          0.8831168831,
          0.7405405405,
          0.6864864865,
          0.3903743316,
          0.9513513514,
          0.8054054054,
          0.5243243243,
          0.9567567568,
          0.312849162,
          0.652173913,
          0.5168539326,
          0.7675675676,
          0.0056179775,
          0.3783783784,
          0.9576719577,
          0.8148148148,
          0.1807909605,
          0.3191489362,
          0.3829787234,
          0.8244680851,
          0.3910614525,
          0.1891891892,
          0.7891891892,
          0.7368421053,
          0.7459459459,
          0.186440678,
          0.5652173913,
          0.5026737968,
          0.9285714286,
          0.0274725275,
          0.9537037037,
          0.2391304348,
          0.9574468085,
          0.1945945946,
          0.4836956522,
          0.1587301587,
          0.9308510638,
          0.2446808511,
          0.8556149733,
          0.3821989529,
          0.8631578947,
          0.3376623377,
          0.4022346369,
          0.7267759563,
          0.6208791209,
          0.6077348066,
          0.8641304348,
          0.2827225131,
          0.3723404255,
          0.4970414201,
          0.5343915344,
          0.0054054054,
          0.0546448087,
          0.2677595628,
          0.5351351351,
          0.9243243243,
          0.2303664921,
          0.7081081081,
          0.2063492063,
          0.4237288136,
          0.3668639053,
          0.1832460733,
          0.8032786885,
          0.9319371728,
          0.7039106145,
          0.3621621622,
          0.0505617978,
          0.8988764045,
          0.8201058201,
          0.4916201117,
          0.0165745856,
          0.8174603175,
          0.7262569832,
          0.6810810811,
          0.2458100559,
          0.219895288,
          0.5183246073,
          0.4188481675,
          0.3135135135,
          0.2119565217,
          0.9832402235,
          0.2702702703,
          0.4361702128,
          0.7396449704,
          0.0782122905,
          0.6304347826,
          0.032967033,
          0.2372881356,
          0.5684210526,
          0.1038251366,
          0.3027027027,
          0.3825136612,
          0.8848167539,
          0.0273224044,
          0.0486486486,
          0.2432432432,
          0.0597826087,
          0.6631578947,
          0.1813186813,
          0.7789473684,
          0.6918918919,
          0.8079096045,
          0.0531914894,
          0.3979057592,
          0.722826087,
          0.6195652174,
          0.2087912088,
          0.3812154696,
          0.4114285714,
          0.2947368421,
          0.813559322,
          0.4254143646,
          0.7210526316,
          0.7303370787,
          0.8191489362,
          0.1621621622,
          0.3858695652,
          0.5418994413,
          0.729281768,
          0.2486772487,
          0.469273743,
          0.2402234637,
          0.8864864865,
          0.0378378378,
          0.8162162162,
          0.1739130435,
          0.4382022472,
          0.04,
          0.7621621622,
          0.7005347594,
          0.1847826087,
          0.9585798817,
          0.1780104712,
          0.1348314607,
          0.95625,
          0.0217391304,
          0.3423913043,
          0.8423913043,
          0.7263157895,
          0.6162162162,
          0.869047619,
          0.8877005348,
          0.2010582011,
          0.0837988827,
          0.131147541,
          0.0216216216,
          0.3206521739,
          0.1793478261,
          0.972972973,
          0.8839779006,
          0.2324324324,
          0.8913043478,
          0.4245810056,
          0.3043478261,
          0.6368421053,
          0.6740331492,
          0.2146596859,
          0.8579234973,
          0.2485207101,
          0.585106383,
          0.2872928177,
          0.532967033,
          0.9005235602,
          0.7336956522,
          0.6358695652,
          0.9565217391,
          0.3977900552,
          0.1513513514,
          0.8742857143,
          0.0584415584,
          0.8369565217,
          0.7315789474,
          0.1967213115,
          0.8043478261,
          0.5536723164,
          0.5405405405,
          0.8418079096,
          0.9947089947,
          0.7637362637,
          0.9831460674,
          0.0785340314,
          0.5297297297,
          0.5837837838,
          0.3689839572,
          0.251396648,
          0.4130434783,
          0.9259259259,
          0.3727810651,
          0.0923913043,
          0.2216216216,
          0.0952380952,
          0.2617801047,
          0.3459119497,
          0.7348066298,
          0.7272727273,
          0.52,
          0.5053191489,
          0.6284153005,
          0.5531914894,
          0.9267015707,
          0.7074468085,
          0.3387978142,
          0.0957446809,
          0.2663043478,
          0.3989361702,
          0.2032085561,
          0.1837837838,
          0.2052631579,
          0.8152173913,
          0.1340782123,
          0.1032608696,
          0.9347826087,
          0.9510869565,
          0.748603352,
          0.7567567568,
          0.6054054054,
          0.1497326203,
          0.8219895288,
          0.8707865169,
          0.5562130178,
          0.7321428571,
          0.4402173913,
          0.0503144654,
          0.4021164021,
          0.8540540541,
          0.0335195531,
          0.395480226,
          0.7094972067,
          0.4216216216,
          0.7382198953,
          0.4863387978,
          0.8928571429,
          0.4540540541,
          0.4469273743,
          0.7282608696,
          0.4157303371,
          0.0939226519,
          0.3169398907,
          0.404494382,
          0.606557377,
          0.3457446809,
          0.1871657754,
          0.7826086957,
          0.6808510638,
          0.8305084746,
          0.3842105263,
          0.7582417582,
          0.7883597884,
          0.3798882682,
          0.6120218579,
          0.3891891892,
          0.2263157895,
          0.2099447514,
          0.8956043956,
          0.5879120879,
          0.2105263158,
          0.9528795812,
          0.7458563536,
          0.9830508475,
          0.4175824176,
          0.7955801105,
          0.2751322751,
          0.9685534591,
          0.3220338983,
          0.8306010929,
          0.4324324324,
          0.1049723757,
          0.6073298429,
          0.2210526316,
          0.3898305085,
          0.1715976331,
          0.1141304348,
          0.8971428571,
          0.3050847458,
          0.1703296703,
          0.6759776536,
          0.7027027027,
          0.5957446809,
          0.1604278075,
          0.6033519553,
          0.3315789474,
          0.9239130435,
          0.8206521739,
          0.6538461538,
          0.4371584699,
          0.387434555,
          0.1071428571,
          0.2608695652,
          0.8571428571,
          0.8379888268,
          0.9738219895,
          0.9523809524,
          0.650273224,
          0.8315789474,
          0.9526315789,
          0.8284023669,
          0.6648648649,
          0.8157894737,
          0.1581920904,
          0.7807486631,
          0.9255319149,
          0.9263157895,
          0.893258427,
          0.4712041885,
          0.7936507937,
          0.7417582418,
          0.5136612022,
          0.3406593407,
          0.1016042781,
          0.7243243243,
          0.0163043478,
          0.2681564246,
          0.1276595745,
          0.9836956522,
          0.0160427807,
          0.1736842105,
          0.1789473684,
          0.7513812155,
          0.3021978022,
          0.5105263158,
          0.2826086957,
          0.6497175141,
          0.4656084656,
          0.7934782609,
          0.0947368421,
          0.7894736842,
          0.5392670157,
          0.9210526316,
          0.1210526316,
          0.3372781065,
          0.5869565217,
          0.8789473684,
          0.8508287293,
          0.3675675676,
          0.6540540541,
          0.7958115183,
          0.7472527473,
          0.7219251337,
          0.2736842105,
          0.2346368715,
          0.2065217391,
          0.4972677596,
          0.843575419,
          0.2554347826,
          0.5974025974,
          0.2094240838,
          0.6526315789,
          0.4860335196,
          0.9144385027
         ],
         "parents": [
          "",
          "",
          "",
          "",
          "",
          "",
          "",
          "",
          "",
          "",
          "",
          "",
          "",
          "",
          "",
          "",
          "",
          "",
          "",
          "",
          "",
          "",
          "",
          "",
          "",
          "",
          "",
          "",
          "",
          "",
          "",
          "",
          "",
          "",
          "",
          "",
          "",
          "",
          "",
          "",
          "",
          "",
          "",
          "",
          "",
          "",
          "",
          "",
          "",
          "",
          "",
          "",
          "",
          "",
          "",
          "",
          "",
          "",
          "",
          "",
          "",
          "",
          "",
          "",
          "",
          "",
          "",
          "",
          "",
          "",
          "",
          "",
          "",
          "",
          "",
          "",
          "",
          "",
          "",
          "",
          "",
          "",
          "",
          "",
          "",
          "",
          "",
          "",
          "",
          "",
          "",
          "",
          "",
          "",
          "",
          "",
          "",
          "",
          "",
          "",
          "",
          "",
          "",
          "",
          "",
          "",
          "",
          "",
          "",
          "",
          "",
          "",
          "",
          "",
          "",
          "",
          "",
          "",
          "",
          "",
          "",
          "",
          "",
          "",
          "",
          "",
          "",
          "",
          "",
          "",
          "",
          "",
          "",
          "",
          "",
          "",
          "",
          "",
          "",
          "",
          "",
          "",
          "",
          "",
          "",
          "",
          "",
          "",
          "",
          "",
          "",
          "",
          "",
          "",
          "",
          "",
          "",
          "",
          "",
          "",
          "",
          "",
          "",
          "",
          "",
          "",
          "",
          "",
          "",
          "",
          "",
          "",
          "",
          "",
          "",
          "",
          "",
          "",
          "",
          "",
          "",
          "",
          "",
          "",
          "",
          "",
          "",
          "",
          "",
          "",
          "",
          "",
          "",
          "",
          "",
          "",
          "",
          "",
          "",
          "",
          "",
          "",
          "",
          "",
          "",
          "",
          "",
          "",
          "",
          "",
          "",
          "",
          "",
          "",
          "",
          "",
          "",
          "",
          "",
          "",
          "",
          "",
          "",
          "",
          "",
          "",
          "",
          "",
          "",
          "",
          "",
          "",
          "",
          "",
          "",
          "",
          "",
          "",
          "",
          "",
          "",
          "",
          "",
          "",
          "",
          "",
          "",
          "",
          "",
          "",
          "",
          "",
          "",
          "",
          "",
          "",
          "",
          "",
          "",
          "",
          "",
          "",
          "",
          "",
          "",
          "",
          "",
          "",
          "",
          "",
          "",
          "",
          "",
          "",
          "",
          "",
          "",
          "",
          "",
          "",
          "",
          "",
          "",
          "",
          "",
          "",
          "",
          "",
          "",
          "",
          "",
          "",
          "",
          "",
          "",
          "",
          "",
          "",
          "",
          "",
          "",
          "",
          "",
          "",
          "",
          "",
          "",
          "",
          "",
          "",
          "",
          "",
          "",
          "",
          "",
          "",
          "",
          "",
          "",
          "",
          "",
          "",
          "",
          "",
          "",
          "",
          "",
          "",
          "",
          "",
          "",
          "",
          "",
          "",
          "",
          "",
          "",
          "",
          "",
          "",
          "",
          "",
          "",
          "",
          "",
          "",
          "",
          "",
          "",
          "",
          "",
          "",
          "",
          "",
          "",
          "",
          "",
          "",
          "",
          "",
          "",
          "",
          "",
          "",
          "",
          "",
          "",
          "",
          "",
          "",
          "",
          "",
          "",
          "",
          "",
          "",
          "",
          "",
          "",
          "",
          "",
          "",
          "",
          "",
          "",
          "",
          "",
          "",
          "",
          "",
          "",
          "",
          "",
          "",
          "",
          "",
          "",
          "",
          "",
          "",
          "",
          "",
          "",
          "",
          "",
          "",
          "",
          "",
          "",
          "",
          "",
          "",
          "",
          "",
          "",
          "",
          "",
          "",
          "",
          "",
          "",
          "",
          "",
          "",
          "",
          "",
          "",
          "",
          "",
          "",
          "",
          "",
          "",
          "",
          "",
          "",
          "",
          "",
          "",
          "",
          "",
          "",
          "",
          "",
          "",
          "",
          "",
          "",
          "",
          "",
          "",
          "",
          "",
          "",
          "",
          "",
          "",
          "",
          "",
          "",
          "",
          "",
          "",
          "",
          "",
          "",
          "",
          "",
          "",
          "",
          "",
          "",
          "",
          "",
          "",
          "",
          "",
          "",
          "",
          "",
          "",
          "",
          "",
          "",
          "",
          "",
          "",
          "",
          "",
          "",
          "",
          "",
          "",
          "",
          "",
          "",
          "",
          "",
          "",
          "",
          "",
          "",
          "",
          "",
          "",
          "",
          "",
          "",
          "",
          "",
          "",
          "",
          "",
          "",
          "",
          "",
          "",
          "",
          "",
          "",
          "",
          "",
          "",
          "",
          "",
          "",
          "",
          "",
          "",
          "",
          "",
          "",
          "",
          "",
          "",
          "",
          "",
          "",
          "",
          "",
          "",
          "",
          "",
          "",
          "",
          "",
          "",
          "",
          "",
          "",
          "",
          "",
          "",
          "",
          "",
          "",
          "",
          "",
          "",
          "",
          "",
          "",
          "",
          "",
          "",
          "",
          "",
          "",
          "",
          "",
          "",
          "",
          "",
          "",
          "",
          "",
          "",
          "",
          "",
          "",
          "",
          "",
          "",
          "",
          "",
          "",
          "",
          "",
          "",
          "",
          "",
          "",
          "",
          "",
          "",
          "",
          "",
          "",
          "",
          "",
          "",
          "",
          "",
          "",
          "",
          "",
          "",
          "",
          "",
          "",
          "",
          "",
          "",
          "",
          "",
          "",
          "",
          "",
          "",
          "",
          "",
          "",
          "",
          "",
          "",
          "",
          "",
          "",
          "",
          "",
          "",
          "",
          "",
          "",
          "",
          "",
          "",
          "",
          "",
          "",
          "",
          "",
          "",
          "",
          "",
          "",
          "",
          "",
          "",
          "",
          "",
          "",
          "",
          "",
          "",
          "",
          "",
          "",
          "",
          "",
          "",
          "",
          "",
          "",
          "",
          "",
          "",
          "",
          "",
          "",
          "",
          "",
          "",
          "",
          "",
          "",
          "",
          "",
          "",
          "",
          "",
          "",
          "",
          "",
          "",
          "",
          "",
          "",
          "",
          "",
          "",
          "",
          "",
          "",
          "",
          "",
          "",
          "",
          "",
          "",
          "",
          "",
          "",
          "",
          "",
          "",
          "",
          "",
          "",
          "",
          "",
          "",
          "",
          "",
          "",
          "",
          "",
          "",
          "",
          "",
          "",
          "",
          "",
          "",
          "",
          "",
          "",
          "",
          "",
          "",
          "",
          "",
          "",
          "",
          "",
          "",
          "",
          "",
          "",
          "",
          "",
          "",
          "",
          "",
          "",
          "",
          "",
          "",
          "",
          "",
          "",
          "",
          "",
          "",
          "",
          "",
          "",
          "",
          "",
          "",
          "",
          "",
          "",
          "",
          "",
          "",
          "",
          "",
          "",
          "",
          "",
          "",
          "",
          "",
          "",
          "",
          "",
          "",
          "",
          "",
          "",
          "",
          "",
          "",
          "",
          "",
          "",
          "",
          "",
          "",
          "",
          "",
          "",
          "",
          "",
          "",
          "",
          "",
          "",
          "",
          "",
          "",
          "",
          "",
          "",
          "",
          "",
          "",
          "",
          "",
          "",
          "",
          "",
          "",
          "",
          "",
          "",
          "",
          "",
          "",
          "",
          "",
          "",
          "",
          "",
          "",
          "",
          "",
          "",
          "",
          "",
          "",
          "",
          "",
          "",
          "",
          "",
          "",
          "",
          "",
          "",
          "",
          "",
          "",
          "",
          "",
          "",
          "",
          "",
          "",
          "",
          "",
          "",
          "",
          "",
          "",
          "",
          "",
          "",
          "",
          "",
          "",
          "",
          "",
          "",
          "",
          "",
          "",
          "",
          "",
          "",
          "",
          "",
          "",
          "",
          "",
          "",
          "",
          "",
          "",
          "",
          "",
          "",
          "",
          "",
          "",
          "",
          ""
         ],
         "textinfo": "label+value",
         "type": "treemap",
         "values": [
          104041,
          94236,
          44857,
          29605,
          28423,
          26706,
          16328,
          11937,
          11337,
          9781,
          9347,
          9256,
          8434,
          8342,
          6060,
          5894,
          5030,
          4653,
          3882,
          3759,
          3419,
          3245,
          3190,
          2908,
          2900,
          2728,
          2686,
          2652,
          2563,
          2363,
          2363,
          2336,
          2289,
          2207,
          2148,
          1714,
          1693,
          1612,
          1593,
          1516,
          1485,
          1465,
          1404,
          1392,
          1390,
          1387,
          1383,
          1353,
          1265,
          1203,
          1183,
          1179,
          1177,
          1171,
          1131,
          1104,
          1055,
          1039,
          1021,
          987,
          980,
          970,
          958,
          952,
          932,
          840,
          839,
          834,
          809,
          753,
          752,
          745,
          742,
          738,
          708,
          707,
          706,
          701,
          698,
          693,
          687,
          664,
          657,
          649,
          647,
          628,
          601,
          600,
          597,
          580,
          579,
          573,
          564,
          560,
          539,
          524,
          517,
          514,
          494,
          485,
          460,
          457,
          448,
          423,
          395,
          365,
          365,
          361,
          351,
          345,
          336,
          336,
          334,
          323,
          319,
          318,
          316,
          315,
          311,
          304,
          286,
          277,
          277,
          268,
          267,
          260,
          256,
          252,
          245,
          245,
          243,
          242,
          240,
          240,
          238,
          231,
          226,
          221,
          221,
          220,
          218,
          217,
          216,
          214,
          214,
          206,
          204,
          201,
          191,
          190,
          186,
          185,
          184,
          183,
          181,
          181,
          175,
          173,
          173,
          170,
          169,
          168,
          165,
          165,
          158,
          155,
          154,
          150,
          149,
          144,
          144,
          143,
          143,
          141,
          140,
          139,
          135,
          133,
          131,
          129,
          129,
          129,
          128,
          127,
          119,
          119,
          115,
          114,
          111,
          110,
          110,
          109,
          109,
          109,
          107,
          106,
          104,
          103,
          102,
          102,
          102,
          99,
          99,
          98,
          97,
          97,
          97,
          96,
          96,
          95,
          94,
          93,
          93,
          91,
          91,
          89,
          89,
          89,
          89,
          88,
          87,
          86,
          86,
          86,
          83,
          81,
          80,
          79,
          78,
          77,
          77,
          77,
          76,
          75,
          75,
          75,
          74,
          74,
          74,
          74,
          73,
          72,
          70,
          70,
          69,
          68,
          68,
          67,
          67,
          66,
          66,
          66,
          65,
          63,
          62,
          61,
          61,
          61,
          60,
          59,
          59,
          58,
          58,
          58,
          58,
          57,
          57,
          56,
          56,
          56,
          55,
          54,
          54,
          53,
          52,
          50,
          50,
          50,
          49,
          49,
          49,
          49,
          49,
          49,
          48,
          48,
          48,
          48,
          47,
          45,
          45,
          45,
          45,
          44,
          43,
          43,
          43,
          42,
          42,
          42,
          42,
          42,
          41,
          41,
          41,
          41,
          40,
          40,
          40,
          40,
          39,
          39,
          39,
          39,
          39,
          38,
          38,
          38,
          38,
          38,
          38,
          38,
          37,
          37,
          37,
          37,
          36,
          36,
          36,
          35,
          35,
          35,
          35,
          35,
          34,
          33,
          33,
          33,
          33,
          32,
          32,
          32,
          31,
          31,
          30,
          30,
          30,
          30,
          29,
          29,
          29,
          29,
          29,
          28,
          28,
          27,
          27,
          27,
          27,
          27,
          27,
          27,
          27,
          26,
          26,
          26,
          26,
          26,
          26,
          25,
          25,
          25,
          25,
          25,
          25,
          25,
          25,
          24,
          24,
          24,
          24,
          24,
          24,
          23,
          23,
          23,
          23,
          23,
          23,
          23,
          23,
          22,
          22,
          22,
          22,
          22,
          22,
          22,
          22,
          21,
          21,
          21,
          21,
          21,
          20,
          20,
          20,
          20,
          20,
          19,
          19,
          19,
          19,
          19,
          18,
          18,
          18,
          18,
          18,
          18,
          18,
          18,
          18,
          17,
          17,
          17,
          17,
          17,
          17,
          17,
          17,
          17,
          17,
          16,
          16,
          16,
          16,
          15,
          15,
          15,
          15,
          15,
          15,
          15,
          15,
          15,
          15,
          15,
          15,
          15,
          14,
          14,
          14,
          14,
          14,
          14,
          14,
          14,
          14,
          14,
          14,
          13,
          13,
          13,
          13,
          13,
          13,
          13,
          13,
          13,
          13,
          13,
          13,
          13,
          13,
          12,
          12,
          12,
          12,
          12,
          12,
          12,
          12,
          12,
          12,
          12,
          11,
          11,
          11,
          11,
          11,
          11,
          11,
          11,
          11,
          11,
          11,
          11,
          11,
          11,
          10,
          10,
          10,
          10,
          10,
          10,
          10,
          10,
          10,
          10,
          10,
          10,
          10,
          10,
          10,
          10,
          10,
          10,
          10,
          10,
          10,
          10,
          10,
          10,
          10,
          10,
          10,
          10,
          9,
          9,
          9,
          9,
          9,
          9,
          9,
          9,
          9,
          9,
          9,
          9,
          9,
          9,
          9,
          9,
          9,
          9,
          8,
          8,
          8,
          8,
          8,
          8,
          8,
          8,
          8,
          8,
          8,
          8,
          8,
          8,
          8,
          8,
          8,
          8,
          8,
          8,
          8,
          8,
          8,
          8,
          8,
          8,
          8,
          8,
          8,
          7,
          7,
          7,
          7,
          7,
          7,
          7,
          7,
          7,
          7,
          7,
          7,
          7,
          7,
          7,
          7,
          7,
          7,
          7,
          7,
          7,
          7,
          7,
          7,
          7,
          7,
          7,
          7,
          7,
          7,
          7,
          6,
          6,
          6,
          6,
          6,
          6,
          6,
          6,
          6,
          6,
          6,
          6,
          6,
          6,
          6,
          6,
          6,
          6,
          6,
          6,
          6,
          6,
          6,
          6,
          6,
          6,
          6,
          6,
          5,
          5,
          5,
          5,
          5,
          5,
          5,
          5,
          5,
          5,
          5,
          5,
          5,
          5,
          5,
          5,
          5,
          5,
          5,
          5,
          5,
          5,
          5,
          5,
          5,
          5,
          5,
          5,
          5,
          5,
          5,
          5,
          5,
          5,
          5,
          5,
          5,
          5,
          5,
          5,
          5,
          5,
          4,
          4,
          4,
          4,
          4,
          4,
          4,
          4,
          4,
          4,
          4,
          4,
          4,
          4,
          4,
          4,
          4,
          4,
          4,
          4,
          4,
          4,
          4,
          4,
          4,
          4,
          4,
          4,
          4,
          4,
          4,
          4,
          4,
          4,
          4,
          4,
          4,
          4,
          4,
          4,
          4,
          4,
          4,
          4,
          4,
          4,
          4,
          4,
          4,
          4,
          3,
          3,
          3,
          3,
          3,
          3,
          3,
          3,
          3,
          3,
          3,
          3,
          3,
          3,
          3,
          3,
          3,
          3,
          3,
          3,
          3,
          3,
          3,
          3,
          3,
          3,
          3,
          3,
          3,
          3,
          3,
          3,
          3,
          3,
          3,
          3,
          3,
          3,
          3,
          3,
          3,
          3,
          3,
          3,
          3,
          3,
          3,
          3,
          3,
          3,
          3,
          2,
          2,
          2,
          2,
          2,
          2,
          2,
          2,
          2,
          2,
          2,
          2,
          2,
          2,
          2,
          2,
          2,
          2,
          2,
          2,
          2,
          2,
          2,
          2,
          2,
          2,
          2,
          2,
          2,
          2,
          2,
          2,
          2,
          2,
          2,
          2,
          2,
          2,
          2,
          2,
          2,
          2,
          2,
          2,
          2,
          2,
          2,
          2,
          2,
          2,
          2,
          1,
          1,
          1,
          1,
          1,
          1,
          1,
          1,
          1,
          1,
          1,
          1,
          1,
          1,
          1,
          1,
          1,
          1,
          1,
          1,
          1,
          1,
          1,
          1,
          1,
          1,
          1,
          1,
          1,
          1,
          1,
          1,
          1,
          1,
          1,
          1,
          1,
          1,
          1,
          1,
          1,
          1,
          1,
          1,
          1,
          1,
          1,
          1,
          1,
          1,
          1,
          1,
          1,
          1,
          1,
          1,
          1,
          1,
          1,
          1
         ]
        }
       ],
       "layout": {
        "font": {
         "color": "white"
        },
        "paper_bgcolor": "black",
        "plot_bgcolor": "grey",
        "template": {
         "data": {
          "bar": [
           {
            "error_x": {
             "color": "#2a3f5f"
            },
            "error_y": {
             "color": "#2a3f5f"
            },
            "marker": {
             "line": {
              "color": "#E5ECF6",
              "width": 0.5
             },
             "pattern": {
              "fillmode": "overlay",
              "size": 10,
              "solidity": 0.2
             }
            },
            "type": "bar"
           }
          ],
          "barpolar": [
           {
            "marker": {
             "line": {
              "color": "#E5ECF6",
              "width": 0.5
             },
             "pattern": {
              "fillmode": "overlay",
              "size": 10,
              "solidity": 0.2
             }
            },
            "type": "barpolar"
           }
          ],
          "carpet": [
           {
            "aaxis": {
             "endlinecolor": "#2a3f5f",
             "gridcolor": "white",
             "linecolor": "white",
             "minorgridcolor": "white",
             "startlinecolor": "#2a3f5f"
            },
            "baxis": {
             "endlinecolor": "#2a3f5f",
             "gridcolor": "white",
             "linecolor": "white",
             "minorgridcolor": "white",
             "startlinecolor": "#2a3f5f"
            },
            "type": "carpet"
           }
          ],
          "choropleth": [
           {
            "colorbar": {
             "outlinewidth": 0,
             "ticks": ""
            },
            "type": "choropleth"
           }
          ],
          "contour": [
           {
            "colorbar": {
             "outlinewidth": 0,
             "ticks": ""
            },
            "colorscale": [
             [
              0,
              "#0d0887"
             ],
             [
              0.1111111111111111,
              "#46039f"
             ],
             [
              0.2222222222222222,
              "#7201a8"
             ],
             [
              0.3333333333333333,
              "#9c179e"
             ],
             [
              0.4444444444444444,
              "#bd3786"
             ],
             [
              0.5555555555555556,
              "#d8576b"
             ],
             [
              0.6666666666666666,
              "#ed7953"
             ],
             [
              0.7777777777777778,
              "#fb9f3a"
             ],
             [
              0.8888888888888888,
              "#fdca26"
             ],
             [
              1,
              "#f0f921"
             ]
            ],
            "type": "contour"
           }
          ],
          "contourcarpet": [
           {
            "colorbar": {
             "outlinewidth": 0,
             "ticks": ""
            },
            "type": "contourcarpet"
           }
          ],
          "heatmap": [
           {
            "colorbar": {
             "outlinewidth": 0,
             "ticks": ""
            },
            "colorscale": [
             [
              0,
              "#0d0887"
             ],
             [
              0.1111111111111111,
              "#46039f"
             ],
             [
              0.2222222222222222,
              "#7201a8"
             ],
             [
              0.3333333333333333,
              "#9c179e"
             ],
             [
              0.4444444444444444,
              "#bd3786"
             ],
             [
              0.5555555555555556,
              "#d8576b"
             ],
             [
              0.6666666666666666,
              "#ed7953"
             ],
             [
              0.7777777777777778,
              "#fb9f3a"
             ],
             [
              0.8888888888888888,
              "#fdca26"
             ],
             [
              1,
              "#f0f921"
             ]
            ],
            "type": "heatmap"
           }
          ],
          "heatmapgl": [
           {
            "colorbar": {
             "outlinewidth": 0,
             "ticks": ""
            },
            "colorscale": [
             [
              0,
              "#0d0887"
             ],
             [
              0.1111111111111111,
              "#46039f"
             ],
             [
              0.2222222222222222,
              "#7201a8"
             ],
             [
              0.3333333333333333,
              "#9c179e"
             ],
             [
              0.4444444444444444,
              "#bd3786"
             ],
             [
              0.5555555555555556,
              "#d8576b"
             ],
             [
              0.6666666666666666,
              "#ed7953"
             ],
             [
              0.7777777777777778,
              "#fb9f3a"
             ],
             [
              0.8888888888888888,
              "#fdca26"
             ],
             [
              1,
              "#f0f921"
             ]
            ],
            "type": "heatmapgl"
           }
          ],
          "histogram": [
           {
            "marker": {
             "pattern": {
              "fillmode": "overlay",
              "size": 10,
              "solidity": 0.2
             }
            },
            "type": "histogram"
           }
          ],
          "histogram2d": [
           {
            "colorbar": {
             "outlinewidth": 0,
             "ticks": ""
            },
            "colorscale": [
             [
              0,
              "#0d0887"
             ],
             [
              0.1111111111111111,
              "#46039f"
             ],
             [
              0.2222222222222222,
              "#7201a8"
             ],
             [
              0.3333333333333333,
              "#9c179e"
             ],
             [
              0.4444444444444444,
              "#bd3786"
             ],
             [
              0.5555555555555556,
              "#d8576b"
             ],
             [
              0.6666666666666666,
              "#ed7953"
             ],
             [
              0.7777777777777778,
              "#fb9f3a"
             ],
             [
              0.8888888888888888,
              "#fdca26"
             ],
             [
              1,
              "#f0f921"
             ]
            ],
            "type": "histogram2d"
           }
          ],
          "histogram2dcontour": [
           {
            "colorbar": {
             "outlinewidth": 0,
             "ticks": ""
            },
            "colorscale": [
             [
              0,
              "#0d0887"
             ],
             [
              0.1111111111111111,
              "#46039f"
             ],
             [
              0.2222222222222222,
              "#7201a8"
             ],
             [
              0.3333333333333333,
              "#9c179e"
             ],
             [
              0.4444444444444444,
              "#bd3786"
             ],
             [
              0.5555555555555556,
              "#d8576b"
             ],
             [
              0.6666666666666666,
              "#ed7953"
             ],
             [
              0.7777777777777778,
              "#fb9f3a"
             ],
             [
              0.8888888888888888,
              "#fdca26"
             ],
             [
              1,
              "#f0f921"
             ]
            ],
            "type": "histogram2dcontour"
           }
          ],
          "mesh3d": [
           {
            "colorbar": {
             "outlinewidth": 0,
             "ticks": ""
            },
            "type": "mesh3d"
           }
          ],
          "parcoords": [
           {
            "line": {
             "colorbar": {
              "outlinewidth": 0,
              "ticks": ""
             }
            },
            "type": "parcoords"
           }
          ],
          "pie": [
           {
            "automargin": true,
            "type": "pie"
           }
          ],
          "scatter": [
           {
            "fillpattern": {
             "fillmode": "overlay",
             "size": 10,
             "solidity": 0.2
            },
            "type": "scatter"
           }
          ],
          "scatter3d": [
           {
            "line": {
             "colorbar": {
              "outlinewidth": 0,
              "ticks": ""
             }
            },
            "marker": {
             "colorbar": {
              "outlinewidth": 0,
              "ticks": ""
             }
            },
            "type": "scatter3d"
           }
          ],
          "scattercarpet": [
           {
            "marker": {
             "colorbar": {
              "outlinewidth": 0,
              "ticks": ""
             }
            },
            "type": "scattercarpet"
           }
          ],
          "scattergeo": [
           {
            "marker": {
             "colorbar": {
              "outlinewidth": 0,
              "ticks": ""
             }
            },
            "type": "scattergeo"
           }
          ],
          "scattergl": [
           {
            "marker": {
             "colorbar": {
              "outlinewidth": 0,
              "ticks": ""
             }
            },
            "type": "scattergl"
           }
          ],
          "scattermapbox": [
           {
            "marker": {
             "colorbar": {
              "outlinewidth": 0,
              "ticks": ""
             }
            },
            "type": "scattermapbox"
           }
          ],
          "scatterpolar": [
           {
            "marker": {
             "colorbar": {
              "outlinewidth": 0,
              "ticks": ""
             }
            },
            "type": "scatterpolar"
           }
          ],
          "scatterpolargl": [
           {
            "marker": {
             "colorbar": {
              "outlinewidth": 0,
              "ticks": ""
             }
            },
            "type": "scatterpolargl"
           }
          ],
          "scatterternary": [
           {
            "marker": {
             "colorbar": {
              "outlinewidth": 0,
              "ticks": ""
             }
            },
            "type": "scatterternary"
           }
          ],
          "surface": [
           {
            "colorbar": {
             "outlinewidth": 0,
             "ticks": ""
            },
            "colorscale": [
             [
              0,
              "#0d0887"
             ],
             [
              0.1111111111111111,
              "#46039f"
             ],
             [
              0.2222222222222222,
              "#7201a8"
             ],
             [
              0.3333333333333333,
              "#9c179e"
             ],
             [
              0.4444444444444444,
              "#bd3786"
             ],
             [
              0.5555555555555556,
              "#d8576b"
             ],
             [
              0.6666666666666666,
              "#ed7953"
             ],
             [
              0.7777777777777778,
              "#fb9f3a"
             ],
             [
              0.8888888888888888,
              "#fdca26"
             ],
             [
              1,
              "#f0f921"
             ]
            ],
            "type": "surface"
           }
          ],
          "table": [
           {
            "cells": {
             "fill": {
              "color": "#EBF0F8"
             },
             "line": {
              "color": "white"
             }
            },
            "header": {
             "fill": {
              "color": "#C8D4E3"
             },
             "line": {
              "color": "white"
             }
            },
            "type": "table"
           }
          ]
         },
         "layout": {
          "annotationdefaults": {
           "arrowcolor": "#2a3f5f",
           "arrowhead": 0,
           "arrowwidth": 1
          },
          "autotypenumbers": "strict",
          "coloraxis": {
           "colorbar": {
            "outlinewidth": 0,
            "ticks": ""
           }
          },
          "colorscale": {
           "diverging": [
            [
             0,
             "#8e0152"
            ],
            [
             0.1,
             "#c51b7d"
            ],
            [
             0.2,
             "#de77ae"
            ],
            [
             0.3,
             "#f1b6da"
            ],
            [
             0.4,
             "#fde0ef"
            ],
            [
             0.5,
             "#f7f7f7"
            ],
            [
             0.6,
             "#e6f5d0"
            ],
            [
             0.7,
             "#b8e186"
            ],
            [
             0.8,
             "#7fbc41"
            ],
            [
             0.9,
             "#4d9221"
            ],
            [
             1,
             "#276419"
            ]
           ],
           "sequential": [
            [
             0,
             "#0d0887"
            ],
            [
             0.1111111111111111,
             "#46039f"
            ],
            [
             0.2222222222222222,
             "#7201a8"
            ],
            [
             0.3333333333333333,
             "#9c179e"
            ],
            [
             0.4444444444444444,
             "#bd3786"
            ],
            [
             0.5555555555555556,
             "#d8576b"
            ],
            [
             0.6666666666666666,
             "#ed7953"
            ],
            [
             0.7777777777777778,
             "#fb9f3a"
            ],
            [
             0.8888888888888888,
             "#fdca26"
            ],
            [
             1,
             "#f0f921"
            ]
           ],
           "sequentialminus": [
            [
             0,
             "#0d0887"
            ],
            [
             0.1111111111111111,
             "#46039f"
            ],
            [
             0.2222222222222222,
             "#7201a8"
            ],
            [
             0.3333333333333333,
             "#9c179e"
            ],
            [
             0.4444444444444444,
             "#bd3786"
            ],
            [
             0.5555555555555556,
             "#d8576b"
            ],
            [
             0.6666666666666666,
             "#ed7953"
            ],
            [
             0.7777777777777778,
             "#fb9f3a"
            ],
            [
             0.8888888888888888,
             "#fdca26"
            ],
            [
             1,
             "#f0f921"
            ]
           ]
          },
          "colorway": [
           "#636efa",
           "#EF553B",
           "#00cc96",
           "#ab63fa",
           "#FFA15A",
           "#19d3f3",
           "#FF6692",
           "#B6E880",
           "#FF97FF",
           "#FECB52"
          ],
          "font": {
           "color": "#2a3f5f"
          },
          "geo": {
           "bgcolor": "white",
           "lakecolor": "white",
           "landcolor": "#E5ECF6",
           "showlakes": true,
           "showland": true,
           "subunitcolor": "white"
          },
          "hoverlabel": {
           "align": "left"
          },
          "hovermode": "closest",
          "mapbox": {
           "style": "light"
          },
          "paper_bgcolor": "white",
          "plot_bgcolor": "#E5ECF6",
          "polar": {
           "angularaxis": {
            "gridcolor": "white",
            "linecolor": "white",
            "ticks": ""
           },
           "bgcolor": "#E5ECF6",
           "radialaxis": {
            "gridcolor": "white",
            "linecolor": "white",
            "ticks": ""
           }
          },
          "scene": {
           "xaxis": {
            "backgroundcolor": "#E5ECF6",
            "gridcolor": "white",
            "gridwidth": 2,
            "linecolor": "white",
            "showbackground": true,
            "ticks": "",
            "zerolinecolor": "white"
           },
           "yaxis": {
            "backgroundcolor": "#E5ECF6",
            "gridcolor": "white",
            "gridwidth": 2,
            "linecolor": "white",
            "showbackground": true,
            "ticks": "",
            "zerolinecolor": "white"
           },
           "zaxis": {
            "backgroundcolor": "#E5ECF6",
            "gridcolor": "white",
            "gridwidth": 2,
            "linecolor": "white",
            "showbackground": true,
            "ticks": "",
            "zerolinecolor": "white"
           }
          },
          "shapedefaults": {
           "line": {
            "color": "#2a3f5f"
           }
          },
          "ternary": {
           "aaxis": {
            "gridcolor": "white",
            "linecolor": "white",
            "ticks": ""
           },
           "baxis": {
            "gridcolor": "white",
            "linecolor": "white",
            "ticks": ""
           },
           "bgcolor": "#E5ECF6",
           "caxis": {
            "gridcolor": "white",
            "linecolor": "white",
            "ticks": ""
           }
          },
          "title": {
           "x": 0.05
          },
          "xaxis": {
           "automargin": true,
           "gridcolor": "white",
           "linecolor": "white",
           "ticks": "",
           "title": {
            "standoff": 15
           },
           "zerolinecolor": "white",
           "zerolinewidth": 2
          },
          "yaxis": {
           "automargin": true,
           "gridcolor": "white",
           "linecolor": "white",
           "ticks": "",
           "title": {
            "standoff": 15
           },
           "zerolinecolor": "white",
           "zerolinewidth": 2
          }
         }
        },
        "title": {
         "text": "treemap column: countries"
        }
       }
      }
     },
     "metadata": {},
     "output_type": "display_data"
    },
    {
     "data": {
      "application/vnd.plotly.v1+json": {
       "config": {
        "plotlyServerURL": "https://plot.ly"
       },
       "data": [
        {
         "labels": [
          0,
          0.1111111111,
          0.2222222222,
          0.3333333333,
          0.4444444444,
          0.5555555556,
          0.6666666667,
          0.7777777778,
          1,
          0.8888888889
         ],
         "parents": [
          "",
          "",
          "",
          "",
          "",
          "",
          "",
          "",
          "",
          ""
         ],
         "textinfo": "label+value",
         "type": "treemap",
         "values": [
          459504,
          68910,
          48967,
          25531,
          11884,
          6451,
          5056,
          2656,
          2550,
          1568
         ]
        }
       ],
       "layout": {
        "font": {
         "color": "white"
        },
        "paper_bgcolor": "black",
        "plot_bgcolor": "grey",
        "template": {
         "data": {
          "bar": [
           {
            "error_x": {
             "color": "#2a3f5f"
            },
            "error_y": {
             "color": "#2a3f5f"
            },
            "marker": {
             "line": {
              "color": "#E5ECF6",
              "width": 0.5
             },
             "pattern": {
              "fillmode": "overlay",
              "size": 10,
              "solidity": 0.2
             }
            },
            "type": "bar"
           }
          ],
          "barpolar": [
           {
            "marker": {
             "line": {
              "color": "#E5ECF6",
              "width": 0.5
             },
             "pattern": {
              "fillmode": "overlay",
              "size": 10,
              "solidity": 0.2
             }
            },
            "type": "barpolar"
           }
          ],
          "carpet": [
           {
            "aaxis": {
             "endlinecolor": "#2a3f5f",
             "gridcolor": "white",
             "linecolor": "white",
             "minorgridcolor": "white",
             "startlinecolor": "#2a3f5f"
            },
            "baxis": {
             "endlinecolor": "#2a3f5f",
             "gridcolor": "white",
             "linecolor": "white",
             "minorgridcolor": "white",
             "startlinecolor": "#2a3f5f"
            },
            "type": "carpet"
           }
          ],
          "choropleth": [
           {
            "colorbar": {
             "outlinewidth": 0,
             "ticks": ""
            },
            "type": "choropleth"
           }
          ],
          "contour": [
           {
            "colorbar": {
             "outlinewidth": 0,
             "ticks": ""
            },
            "colorscale": [
             [
              0,
              "#0d0887"
             ],
             [
              0.1111111111111111,
              "#46039f"
             ],
             [
              0.2222222222222222,
              "#7201a8"
             ],
             [
              0.3333333333333333,
              "#9c179e"
             ],
             [
              0.4444444444444444,
              "#bd3786"
             ],
             [
              0.5555555555555556,
              "#d8576b"
             ],
             [
              0.6666666666666666,
              "#ed7953"
             ],
             [
              0.7777777777777778,
              "#fb9f3a"
             ],
             [
              0.8888888888888888,
              "#fdca26"
             ],
             [
              1,
              "#f0f921"
             ]
            ],
            "type": "contour"
           }
          ],
          "contourcarpet": [
           {
            "colorbar": {
             "outlinewidth": 0,
             "ticks": ""
            },
            "type": "contourcarpet"
           }
          ],
          "heatmap": [
           {
            "colorbar": {
             "outlinewidth": 0,
             "ticks": ""
            },
            "colorscale": [
             [
              0,
              "#0d0887"
             ],
             [
              0.1111111111111111,
              "#46039f"
             ],
             [
              0.2222222222222222,
              "#7201a8"
             ],
             [
              0.3333333333333333,
              "#9c179e"
             ],
             [
              0.4444444444444444,
              "#bd3786"
             ],
             [
              0.5555555555555556,
              "#d8576b"
             ],
             [
              0.6666666666666666,
              "#ed7953"
             ],
             [
              0.7777777777777778,
              "#fb9f3a"
             ],
             [
              0.8888888888888888,
              "#fdca26"
             ],
             [
              1,
              "#f0f921"
             ]
            ],
            "type": "heatmap"
           }
          ],
          "heatmapgl": [
           {
            "colorbar": {
             "outlinewidth": 0,
             "ticks": ""
            },
            "colorscale": [
             [
              0,
              "#0d0887"
             ],
             [
              0.1111111111111111,
              "#46039f"
             ],
             [
              0.2222222222222222,
              "#7201a8"
             ],
             [
              0.3333333333333333,
              "#9c179e"
             ],
             [
              0.4444444444444444,
              "#bd3786"
             ],
             [
              0.5555555555555556,
              "#d8576b"
             ],
             [
              0.6666666666666666,
              "#ed7953"
             ],
             [
              0.7777777777777778,
              "#fb9f3a"
             ],
             [
              0.8888888888888888,
              "#fdca26"
             ],
             [
              1,
              "#f0f921"
             ]
            ],
            "type": "heatmapgl"
           }
          ],
          "histogram": [
           {
            "marker": {
             "pattern": {
              "fillmode": "overlay",
              "size": 10,
              "solidity": 0.2
             }
            },
            "type": "histogram"
           }
          ],
          "histogram2d": [
           {
            "colorbar": {
             "outlinewidth": 0,
             "ticks": ""
            },
            "colorscale": [
             [
              0,
              "#0d0887"
             ],
             [
              0.1111111111111111,
              "#46039f"
             ],
             [
              0.2222222222222222,
              "#7201a8"
             ],
             [
              0.3333333333333333,
              "#9c179e"
             ],
             [
              0.4444444444444444,
              "#bd3786"
             ],
             [
              0.5555555555555556,
              "#d8576b"
             ],
             [
              0.6666666666666666,
              "#ed7953"
             ],
             [
              0.7777777777777778,
              "#fb9f3a"
             ],
             [
              0.8888888888888888,
              "#fdca26"
             ],
             [
              1,
              "#f0f921"
             ]
            ],
            "type": "histogram2d"
           }
          ],
          "histogram2dcontour": [
           {
            "colorbar": {
             "outlinewidth": 0,
             "ticks": ""
            },
            "colorscale": [
             [
              0,
              "#0d0887"
             ],
             [
              0.1111111111111111,
              "#46039f"
             ],
             [
              0.2222222222222222,
              "#7201a8"
             ],
             [
              0.3333333333333333,
              "#9c179e"
             ],
             [
              0.4444444444444444,
              "#bd3786"
             ],
             [
              0.5555555555555556,
              "#d8576b"
             ],
             [
              0.6666666666666666,
              "#ed7953"
             ],
             [
              0.7777777777777778,
              "#fb9f3a"
             ],
             [
              0.8888888888888888,
              "#fdca26"
             ],
             [
              1,
              "#f0f921"
             ]
            ],
            "type": "histogram2dcontour"
           }
          ],
          "mesh3d": [
           {
            "colorbar": {
             "outlinewidth": 0,
             "ticks": ""
            },
            "type": "mesh3d"
           }
          ],
          "parcoords": [
           {
            "line": {
             "colorbar": {
              "outlinewidth": 0,
              "ticks": ""
             }
            },
            "type": "parcoords"
           }
          ],
          "pie": [
           {
            "automargin": true,
            "type": "pie"
           }
          ],
          "scatter": [
           {
            "fillpattern": {
             "fillmode": "overlay",
             "size": 10,
             "solidity": 0.2
            },
            "type": "scatter"
           }
          ],
          "scatter3d": [
           {
            "line": {
             "colorbar": {
              "outlinewidth": 0,
              "ticks": ""
             }
            },
            "marker": {
             "colorbar": {
              "outlinewidth": 0,
              "ticks": ""
             }
            },
            "type": "scatter3d"
           }
          ],
          "scattercarpet": [
           {
            "marker": {
             "colorbar": {
              "outlinewidth": 0,
              "ticks": ""
             }
            },
            "type": "scattercarpet"
           }
          ],
          "scattergeo": [
           {
            "marker": {
             "colorbar": {
              "outlinewidth": 0,
              "ticks": ""
             }
            },
            "type": "scattergeo"
           }
          ],
          "scattergl": [
           {
            "marker": {
             "colorbar": {
              "outlinewidth": 0,
              "ticks": ""
             }
            },
            "type": "scattergl"
           }
          ],
          "scattermapbox": [
           {
            "marker": {
             "colorbar": {
              "outlinewidth": 0,
              "ticks": ""
             }
            },
            "type": "scattermapbox"
           }
          ],
          "scatterpolar": [
           {
            "marker": {
             "colorbar": {
              "outlinewidth": 0,
              "ticks": ""
             }
            },
            "type": "scatterpolar"
           }
          ],
          "scatterpolargl": [
           {
            "marker": {
             "colorbar": {
              "outlinewidth": 0,
              "ticks": ""
             }
            },
            "type": "scatterpolargl"
           }
          ],
          "scatterternary": [
           {
            "marker": {
             "colorbar": {
              "outlinewidth": 0,
              "ticks": ""
             }
            },
            "type": "scatterternary"
           }
          ],
          "surface": [
           {
            "colorbar": {
             "outlinewidth": 0,
             "ticks": ""
            },
            "colorscale": [
             [
              0,
              "#0d0887"
             ],
             [
              0.1111111111111111,
              "#46039f"
             ],
             [
              0.2222222222222222,
              "#7201a8"
             ],
             [
              0.3333333333333333,
              "#9c179e"
             ],
             [
              0.4444444444444444,
              "#bd3786"
             ],
             [
              0.5555555555555556,
              "#d8576b"
             ],
             [
              0.6666666666666666,
              "#ed7953"
             ],
             [
              0.7777777777777778,
              "#fb9f3a"
             ],
             [
              0.8888888888888888,
              "#fdca26"
             ],
             [
              1,
              "#f0f921"
             ]
            ],
            "type": "surface"
           }
          ],
          "table": [
           {
            "cells": {
             "fill": {
              "color": "#EBF0F8"
             },
             "line": {
              "color": "white"
             }
            },
            "header": {
             "fill": {
              "color": "#C8D4E3"
             },
             "line": {
              "color": "white"
             }
            },
            "type": "table"
           }
          ]
         },
         "layout": {
          "annotationdefaults": {
           "arrowcolor": "#2a3f5f",
           "arrowhead": 0,
           "arrowwidth": 1
          },
          "autotypenumbers": "strict",
          "coloraxis": {
           "colorbar": {
            "outlinewidth": 0,
            "ticks": ""
           }
          },
          "colorscale": {
           "diverging": [
            [
             0,
             "#8e0152"
            ],
            [
             0.1,
             "#c51b7d"
            ],
            [
             0.2,
             "#de77ae"
            ],
            [
             0.3,
             "#f1b6da"
            ],
            [
             0.4,
             "#fde0ef"
            ],
            [
             0.5,
             "#f7f7f7"
            ],
            [
             0.6,
             "#e6f5d0"
            ],
            [
             0.7,
             "#b8e186"
            ],
            [
             0.8,
             "#7fbc41"
            ],
            [
             0.9,
             "#4d9221"
            ],
            [
             1,
             "#276419"
            ]
           ],
           "sequential": [
            [
             0,
             "#0d0887"
            ],
            [
             0.1111111111111111,
             "#46039f"
            ],
            [
             0.2222222222222222,
             "#7201a8"
            ],
            [
             0.3333333333333333,
             "#9c179e"
            ],
            [
             0.4444444444444444,
             "#bd3786"
            ],
            [
             0.5555555555555556,
             "#d8576b"
            ],
            [
             0.6666666666666666,
             "#ed7953"
            ],
            [
             0.7777777777777778,
             "#fb9f3a"
            ],
            [
             0.8888888888888888,
             "#fdca26"
            ],
            [
             1,
             "#f0f921"
            ]
           ],
           "sequentialminus": [
            [
             0,
             "#0d0887"
            ],
            [
             0.1111111111111111,
             "#46039f"
            ],
            [
             0.2222222222222222,
             "#7201a8"
            ],
            [
             0.3333333333333333,
             "#9c179e"
            ],
            [
             0.4444444444444444,
             "#bd3786"
            ],
            [
             0.5555555555555556,
             "#d8576b"
            ],
            [
             0.6666666666666666,
             "#ed7953"
            ],
            [
             0.7777777777777778,
             "#fb9f3a"
            ],
            [
             0.8888888888888888,
             "#fdca26"
            ],
            [
             1,
             "#f0f921"
            ]
           ]
          },
          "colorway": [
           "#636efa",
           "#EF553B",
           "#00cc96",
           "#ab63fa",
           "#FFA15A",
           "#19d3f3",
           "#FF6692",
           "#B6E880",
           "#FF97FF",
           "#FECB52"
          ],
          "font": {
           "color": "#2a3f5f"
          },
          "geo": {
           "bgcolor": "white",
           "lakecolor": "white",
           "landcolor": "#E5ECF6",
           "showlakes": true,
           "showland": true,
           "subunitcolor": "white"
          },
          "hoverlabel": {
           "align": "left"
          },
          "hovermode": "closest",
          "mapbox": {
           "style": "light"
          },
          "paper_bgcolor": "white",
          "plot_bgcolor": "#E5ECF6",
          "polar": {
           "angularaxis": {
            "gridcolor": "white",
            "linecolor": "white",
            "ticks": ""
           },
           "bgcolor": "#E5ECF6",
           "radialaxis": {
            "gridcolor": "white",
            "linecolor": "white",
            "ticks": ""
           }
          },
          "scene": {
           "xaxis": {
            "backgroundcolor": "#E5ECF6",
            "gridcolor": "white",
            "gridwidth": 2,
            "linecolor": "white",
            "showbackground": true,
            "ticks": "",
            "zerolinecolor": "white"
           },
           "yaxis": {
            "backgroundcolor": "#E5ECF6",
            "gridcolor": "white",
            "gridwidth": 2,
            "linecolor": "white",
            "showbackground": true,
            "ticks": "",
            "zerolinecolor": "white"
           },
           "zaxis": {
            "backgroundcolor": "#E5ECF6",
            "gridcolor": "white",
            "gridwidth": 2,
            "linecolor": "white",
            "showbackground": true,
            "ticks": "",
            "zerolinecolor": "white"
           }
          },
          "shapedefaults": {
           "line": {
            "color": "#2a3f5f"
           }
          },
          "ternary": {
           "aaxis": {
            "gridcolor": "white",
            "linecolor": "white",
            "ticks": ""
           },
           "baxis": {
            "gridcolor": "white",
            "linecolor": "white",
            "ticks": ""
           },
           "bgcolor": "#E5ECF6",
           "caxis": {
            "gridcolor": "white",
            "linecolor": "white",
            "ticks": ""
           }
          },
          "title": {
           "x": 0.05
          },
          "xaxis": {
           "automargin": true,
           "gridcolor": "white",
           "linecolor": "white",
           "ticks": "",
           "title": {
            "standoff": 15
           },
           "zerolinecolor": "white",
           "zerolinewidth": 2
          },
          "yaxis": {
           "automargin": true,
           "gridcolor": "white",
           "linecolor": "white",
           "ticks": "",
           "title": {
            "standoff": 15
           },
           "zerolinecolor": "white",
           "zerolinewidth": 2
          }
         }
        },
        "title": {
         "text": "treemap column: labels_note"
        }
       }
      }
     },
     "metadata": {},
     "output_type": "display_data"
    }
   ],
   "source": [
    "colonnes_a_travailler = ['ecoscore_tags', 'ecoscore_score', 'countries', 'labels_note']  \n",
    "df = load_jsonl_to_dataframe(file_path)\n",
    "for column in colonnes_a_travailler:\n",
    "    create_treemap_for_column(df, column)"
   ]
  },
  {
   "cell_type": "code",
   "execution_count": 435,
   "metadata": {},
   "outputs": [],
   "source": [
    "def count_unique_values(jsonl_file_path, colonnes_a_travailler):\n",
    "    data = []\n",
    "    with open(jsonl_file_path, 'r') as file:\n",
    "        for line in file:\n",
    "            data.append(json.loads(line))\n",
    "    df = pd.DataFrame(data)\n",
    "    unique_counts = {}\n",
    "    for column in colonnes_a_travailler:\n",
    "        if column in df.columns:\n",
    "            unique_count = df[column].nunique()\n",
    "            if pd.api.types.is_numeric_dtype(df[column]):\n",
    "                min_val = df[column].min()\n",
    "                max_val = df[column].max()\n",
    "                unique_counts[column] = {\n",
    "                    'unique_count': unique_count,\n",
    "                    'min': min_val,\n",
    "                    'max': max_val\n",
    "                }\n",
    "            else:\n",
    "                unique_counts[column] = {\n",
    "                    'unique_count': unique_count\n",
    "                }\n",
    "        else:\n",
    "            unique_counts[column] = 'Column not found in data'\n",
    "    return unique_counts"
   ]
  },
  {
   "cell_type": "code",
   "execution_count": 436,
   "metadata": {},
   "outputs": [
    {
     "name": "stdout",
     "output_type": "stream",
     "text": [
      "{'ecoscore_tags': {'unique_count': 7, 'min': 0.0, 'max': 1.0}, 'ecoscore_score': {'unique_count': 102, 'min': 0.0, 'max': 100.0}, 'countries': {'unique_count': 888, 'min': 0.0, 'max': 1.0}, 'labels_note': {'unique_count': 10, 'min': 0.0, 'max': 1.0}}\n"
     ]
    }
   ],
   "source": [
    "unique_values = count_unique_values(file_path, colonnes_a_travailler)\n",
    "print(unique_values)"
   ]
  },
  {
   "cell_type": "code",
   "execution_count": null,
   "metadata": {},
   "outputs": [],
   "source": []
  }
 ],
 "metadata": {
  "kernelspec": {
   "display_name": "greenIa",
   "language": "python",
   "name": "python3"
  },
  "language_info": {
   "codemirror_mode": {
    "name": "ipython",
    "version": 3
   },
   "file_extension": ".py",
   "mimetype": "text/x-python",
   "name": "python",
   "nbconvert_exporter": "python",
   "pygments_lexer": "ipython3",
   "version": "3.10.14"
  }
 },
 "nbformat": 4,
 "nbformat_minor": 2
}
