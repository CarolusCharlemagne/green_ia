{
 "cells": [
  {
   "cell_type": "code",
   "execution_count": 4,
   "metadata": {},
   "outputs": [],
   "source": [
    "import json\n",
    "import random\n",
    "import pandas as pd\n",
    "import jsonlines\n",
    "import warnings\n",
    "import plotly.graph_objects as go\n",
    "\n",
    "pd.set_option('display.max_rows', 100)\n",
    "warnings.filterwarnings(\"ignore\", category=pd.errors.DtypeWarning)"
   ]
  },
  {
   "cell_type": "code",
   "execution_count": 13,
   "metadata": {},
   "outputs": [],
   "source": [
    "file_path = '/home/carolus/Documents/school/green_ia/data/07_data/07_train.jsonl'\n",
    "num_samples = 500"
   ]
  },
  {
   "cell_type": "code",
   "execution_count": 14,
   "metadata": {},
   "outputs": [],
   "source": [
    "def sample_jsonl_file(file_path, num_samples):\n",
    "    sample_lines = []\n",
    "\n",
    "    with open(file_path, 'r') as file:\n",
    "        line_count = 0\n",
    "        for line in file:\n",
    "            line_count += 1\n",
    "            if len(sample_lines) < num_samples:\n",
    "                sample_lines.append(line)\n",
    "            else:\n",
    "                idx = random.randint(0, line_count - 1)\n",
    "                if idx < num_samples:\n",
    "                    sample_lines[idx] = line\n",
    "\n",
    "    data_list = [json.loads(line) for line in sample_lines]\n",
    "    df = pd.DataFrame(data_list)\n",
    "    return df"
   ]
  },
  {
   "cell_type": "code",
   "execution_count": 15,
   "metadata": {},
   "outputs": [],
   "source": [
    "df = sample_jsonl_file(file_path, num_samples)"
   ]
  },
  {
   "cell_type": "code",
   "execution_count": 16,
   "metadata": {},
   "outputs": [
    {
     "data": {
      "text/html": [
       "<div>\n",
       "<style scoped>\n",
       "    .dataframe tbody tr th:only-of-type {\n",
       "        vertical-align: middle;\n",
       "    }\n",
       "\n",
       "    .dataframe tbody tr th {\n",
       "        vertical-align: top;\n",
       "    }\n",
       "\n",
       "    .dataframe thead th {\n",
       "        text-align: right;\n",
       "    }\n",
       "</style>\n",
       "<table border=\"1\" class=\"dataframe\">\n",
       "  <thead>\n",
       "    <tr style=\"text-align: right;\">\n",
       "      <th></th>\n",
       "      <th>groups</th>\n",
       "      <th>packaging</th>\n",
       "      <th>name</th>\n",
       "      <th>ecoscore_tags</th>\n",
       "      <th>ecoscore_score</th>\n",
       "      <th>countries</th>\n",
       "      <th>ingredients</th>\n",
       "      <th>categories</th>\n",
       "      <th>labels_note</th>\n",
       "    </tr>\n",
       "  </thead>\n",
       "  <tbody>\n",
       "    <tr>\n",
       "      <th>440</th>\n",
       "      <td>NaN</td>\n",
       "      <td>empty</td>\n",
       "      <td>old passioned</td>\n",
       "      <td>NaN</td>\n",
       "      <td>49.0</td>\n",
       "      <td>0.994536</td>\n",
       "      <td>empty</td>\n",
       "      <td>empty</td>\n",
       "      <td>0.000000</td>\n",
       "    </tr>\n",
       "    <tr>\n",
       "      <th>441</th>\n",
       "      <td>NaN</td>\n",
       "      <td>empty</td>\n",
       "      <td>coeur de museau de porc cuit</td>\n",
       "      <td>NaN</td>\n",
       "      <td>49.0</td>\n",
       "      <td>0.311475</td>\n",
       "      <td>empty</td>\n",
       "      <td>empty</td>\n",
       "      <td>0.000000</td>\n",
       "    </tr>\n",
       "    <tr>\n",
       "      <th>442</th>\n",
       "      <td>NaN</td>\n",
       "      <td>box</td>\n",
       "      <td>candy canes cherry artificially flavored</td>\n",
       "      <td>NaN</td>\n",
       "      <td>49.0</td>\n",
       "      <td>NaN</td>\n",
       "      <td>empty</td>\n",
       "      <td>empty</td>\n",
       "      <td>0.000000</td>\n",
       "    </tr>\n",
       "    <tr>\n",
       "      <th>443</th>\n",
       "      <td>NaN</td>\n",
       "      <td>empty</td>\n",
       "      <td>precision protein</td>\n",
       "      <td>NaN</td>\n",
       "      <td>49.0</td>\n",
       "      <td>0.973404</td>\n",
       "      <td>empty</td>\n",
       "      <td>empty</td>\n",
       "      <td>0.111111</td>\n",
       "    </tr>\n",
       "    <tr>\n",
       "      <th>444</th>\n",
       "      <td>NaN</td>\n",
       "      <td>empty</td>\n",
       "      <td>dark cannabis chocolate</td>\n",
       "      <td>NaN</td>\n",
       "      <td>49.0</td>\n",
       "      <td>0.300000</td>\n",
       "      <td>empty</td>\n",
       "      <td>empty</td>\n",
       "      <td>0.000000</td>\n",
       "    </tr>\n",
       "    <tr>\n",
       "      <th>445</th>\n",
       "      <td>NaN</td>\n",
       "      <td>empty</td>\n",
       "      <td>fette biscottate cioccolato e arancia</td>\n",
       "      <td>NaN</td>\n",
       "      <td>49.0</td>\n",
       "      <td>0.431694</td>\n",
       "      <td>empty</td>\n",
       "      <td>empty</td>\n",
       "      <td>0.000000</td>\n",
       "    </tr>\n",
       "    <tr>\n",
       "      <th>446</th>\n",
       "      <td>0.111111</td>\n",
       "      <td>empty</td>\n",
       "      <td>aceite de oliva virgen extra</td>\n",
       "      <td>0.75</td>\n",
       "      <td>27.0</td>\n",
       "      <td>0.874317</td>\n",
       "      <td>empty</td>\n",
       "      <td>plant-based-foods-and-beverages, plant-based-f...</td>\n",
       "      <td>0.111111</td>\n",
       "    </tr>\n",
       "    <tr>\n",
       "      <th>447</th>\n",
       "      <td>0.555556</td>\n",
       "      <td>plastikowe</td>\n",
       "      <td>cosnazab</td>\n",
       "      <td>0.25</td>\n",
       "      <td>67.0</td>\n",
       "      <td>0.743169</td>\n",
       "      <td>oat-flakes, cereal, oat, skimmed-milk-powder, ...</td>\n",
       "      <td>plant-based-foods-and-beverages, plant-based-f...</td>\n",
       "      <td>0.111111</td>\n",
       "    </tr>\n",
       "    <tr>\n",
       "      <th>448</th>\n",
       "      <td>NaN</td>\n",
       "      <td>empty</td>\n",
       "      <td>bravo</td>\n",
       "      <td>NaN</td>\n",
       "      <td>49.0</td>\n",
       "      <td>0.418994</td>\n",
       "      <td>empty</td>\n",
       "      <td>empty</td>\n",
       "      <td>0.000000</td>\n",
       "    </tr>\n",
       "    <tr>\n",
       "      <th>449</th>\n",
       "      <td>0.000000</td>\n",
       "      <td>empty</td>\n",
       "      <td>miel d eucalyptus</td>\n",
       "      <td>0.25</td>\n",
       "      <td>72.0</td>\n",
       "      <td>0.311475</td>\n",
       "      <td>empty</td>\n",
       "      <td>breakfasts, spreads, sweet-spreads, bee-produc...</td>\n",
       "      <td>0.111111</td>\n",
       "    </tr>\n",
       "    <tr>\n",
       "      <th>450</th>\n",
       "      <td>NaN</td>\n",
       "      <td>empty</td>\n",
       "      <td>bohnenkraut</td>\n",
       "      <td>NaN</td>\n",
       "      <td>49.0</td>\n",
       "      <td>0.324468</td>\n",
       "      <td>empty</td>\n",
       "      <td>empty</td>\n",
       "      <td>0.000000</td>\n",
       "    </tr>\n",
       "    <tr>\n",
       "      <th>451</th>\n",
       "      <td>0.000000</td>\n",
       "      <td>glass jar, steel cap</td>\n",
       "      <td>ziedu medus</td>\n",
       "      <td>0.00</td>\n",
       "      <td>97.0</td>\n",
       "      <td>0.530055</td>\n",
       "      <td>empty</td>\n",
       "      <td>breakfasts, spreads, sweet-spreads, bee-produc...</td>\n",
       "      <td>0.000000</td>\n",
       "    </tr>\n",
       "    <tr>\n",
       "      <th>452</th>\n",
       "      <td>NaN</td>\n",
       "      <td>empty</td>\n",
       "      <td>vanilla &amp; goji plant protein superfood + adapt...</td>\n",
       "      <td>NaN</td>\n",
       "      <td>49.0</td>\n",
       "      <td>NaN</td>\n",
       "      <td>empty</td>\n",
       "      <td>empty</td>\n",
       "      <td>0.333333</td>\n",
       "    </tr>\n",
       "    <tr>\n",
       "      <th>453</th>\n",
       "      <td>NaN</td>\n",
       "      <td>empty</td>\n",
       "      <td>sea dog lime &amp; sea salt dark chocolate</td>\n",
       "      <td>NaN</td>\n",
       "      <td>49.0</td>\n",
       "      <td>0.994536</td>\n",
       "      <td>empty</td>\n",
       "      <td>empty</td>\n",
       "      <td>0.000000</td>\n",
       "    </tr>\n",
       "    <tr>\n",
       "      <th>454</th>\n",
       "      <td>0.444444</td>\n",
       "      <td>empty</td>\n",
       "      <td>chocolate chip cookie dough ice cream</td>\n",
       "      <td>0.25</td>\n",
       "      <td>67.0</td>\n",
       "      <td>0.973404</td>\n",
       "      <td>empty</td>\n",
       "      <td>desserts, frozen-foods, frozen-desserts, ice-c...</td>\n",
       "      <td>0.000000</td>\n",
       "    </tr>\n",
       "    <tr>\n",
       "      <th>455</th>\n",
       "      <td>NaN</td>\n",
       "      <td>empty</td>\n",
       "      <td>fiji water</td>\n",
       "      <td>NaN</td>\n",
       "      <td>49.0</td>\n",
       "      <td>0.158470</td>\n",
       "      <td>empty</td>\n",
       "      <td>empty</td>\n",
       "      <td>0.000000</td>\n",
       "    </tr>\n",
       "    <tr>\n",
       "      <th>456</th>\n",
       "      <td>0.111111</td>\n",
       "      <td>empty</td>\n",
       "      <td>sweet &amp; sour sauce</td>\n",
       "      <td>0.25</td>\n",
       "      <td>73.0</td>\n",
       "      <td>1.000000</td>\n",
       "      <td>empty</td>\n",
       "      <td>condiments, sauces, sweet-and-sour-sauces</td>\n",
       "      <td>0.000000</td>\n",
       "    </tr>\n",
       "    <tr>\n",
       "      <th>457</th>\n",
       "      <td>0.666667</td>\n",
       "      <td>empty</td>\n",
       "      <td>thon blanc germon au naturel</td>\n",
       "      <td>1.00</td>\n",
       "      <td>0.0</td>\n",
       "      <td>0.000000</td>\n",
       "      <td>albacore, fish, tuna, water, salt</td>\n",
       "      <td>seafood, fishes-and-their-products, fishes, fa...</td>\n",
       "      <td>0.000000</td>\n",
       "    </tr>\n",
       "    <tr>\n",
       "      <th>458</th>\n",
       "      <td>NaN</td>\n",
       "      <td>empty</td>\n",
       "      <td>burguer vegana</td>\n",
       "      <td>NaN</td>\n",
       "      <td>49.0</td>\n",
       "      <td>0.871508</td>\n",
       "      <td>empty</td>\n",
       "      <td>empty</td>\n",
       "      <td>0.111111</td>\n",
       "    </tr>\n",
       "    <tr>\n",
       "      <th>459</th>\n",
       "      <td>NaN</td>\n",
       "      <td>empty</td>\n",
       "      <td>none</td>\n",
       "      <td>NaN</td>\n",
       "      <td>49.0</td>\n",
       "      <td>0.874317</td>\n",
       "      <td>empty</td>\n",
       "      <td>non-food-products, open-beauty-facts</td>\n",
       "      <td>0.000000</td>\n",
       "    </tr>\n",
       "    <tr>\n",
       "      <th>460</th>\n",
       "      <td>NaN</td>\n",
       "      <td>empty</td>\n",
       "      <td>burguer vegetariana</td>\n",
       "      <td>NaN</td>\n",
       "      <td>49.0</td>\n",
       "      <td>0.874317</td>\n",
       "      <td>empty</td>\n",
       "      <td>empty</td>\n",
       "      <td>0.111111</td>\n",
       "    </tr>\n",
       "    <tr>\n",
       "      <th>461</th>\n",
       "      <td>NaN</td>\n",
       "      <td>empty</td>\n",
       "      <td>extra dark cacao</td>\n",
       "      <td>1.00</td>\n",
       "      <td>5.0</td>\n",
       "      <td>NaN</td>\n",
       "      <td>cocoa, plant, acidity-regulator, e501</td>\n",
       "      <td>cocoa-and-its-products, cocoa-and-chocolate-po...</td>\n",
       "      <td>0.000000</td>\n",
       "    </tr>\n",
       "    <tr>\n",
       "      <th>462</th>\n",
       "      <td>0.111111</td>\n",
       "      <td>empty</td>\n",
       "      <td>feigen-senf-sauce</td>\n",
       "      <td>0.50</td>\n",
       "      <td>54.0</td>\n",
       "      <td>0.333333</td>\n",
       "      <td>empty</td>\n",
       "      <td>condiments, sauces, mustards</td>\n",
       "      <td>0.000000</td>\n",
       "    </tr>\n",
       "    <tr>\n",
       "      <th>463</th>\n",
       "      <td>0.333333</td>\n",
       "      <td>empty</td>\n",
       "      <td>edemame</td>\n",
       "      <td>NaN</td>\n",
       "      <td>49.0</td>\n",
       "      <td>0.000000</td>\n",
       "      <td>edamame, vegetable, legume, pulse, soya, soya-...</td>\n",
       "      <td>plant-based-foods-and-beverages, plant-based-f...</td>\n",
       "      <td>0.000000</td>\n",
       "    </tr>\n",
       "    <tr>\n",
       "      <th>464</th>\n",
       "      <td>NaN</td>\n",
       "      <td>empty</td>\n",
       "      <td>jackfruit</td>\n",
       "      <td>NaN</td>\n",
       "      <td>49.0</td>\n",
       "      <td>0.333333</td>\n",
       "      <td>empty</td>\n",
       "      <td>empty</td>\n",
       "      <td>0.000000</td>\n",
       "    </tr>\n",
       "    <tr>\n",
       "      <th>465</th>\n",
       "      <td>NaN</td>\n",
       "      <td>empty</td>\n",
       "      <td>barinutrics</td>\n",
       "      <td>NaN</td>\n",
       "      <td>49.0</td>\n",
       "      <td>0.076503</td>\n",
       "      <td>empty</td>\n",
       "      <td>empty</td>\n",
       "      <td>0.000000</td>\n",
       "    </tr>\n",
       "    <tr>\n",
       "      <th>466</th>\n",
       "      <td>0.111111</td>\n",
       "      <td>empty</td>\n",
       "      <td>french style dressing</td>\n",
       "      <td>0.75</td>\n",
       "      <td>34.0</td>\n",
       "      <td>1.000000</td>\n",
       "      <td>high-fructose-corn-syrup, added-sugar, disacch...</td>\n",
       "      <td>condiments, sauces, salad-dressings, groceries</td>\n",
       "      <td>0.000000</td>\n",
       "    </tr>\n",
       "    <tr>\n",
       "      <th>467</th>\n",
       "      <td>NaN</td>\n",
       "      <td>empty</td>\n",
       "      <td>base 1000</td>\n",
       "      <td>NaN</td>\n",
       "      <td>49.0</td>\n",
       "      <td>0.311475</td>\n",
       "      <td>empty</td>\n",
       "      <td>empty</td>\n",
       "      <td>0.000000</td>\n",
       "    </tr>\n",
       "    <tr>\n",
       "      <th>468</th>\n",
       "      <td>NaN</td>\n",
       "      <td>empty</td>\n",
       "      <td>none</td>\n",
       "      <td>NaN</td>\n",
       "      <td>49.0</td>\n",
       "      <td>0.874317</td>\n",
       "      <td>empty</td>\n",
       "      <td>empty</td>\n",
       "      <td>0.000000</td>\n",
       "    </tr>\n",
       "    <tr>\n",
       "      <th>469</th>\n",
       "      <td>NaN</td>\n",
       "      <td>empty</td>\n",
       "      <td>cookies</td>\n",
       "      <td>NaN</td>\n",
       "      <td>49.0</td>\n",
       "      <td>0.420765</td>\n",
       "      <td>empty</td>\n",
       "      <td>empty</td>\n",
       "      <td>0.333333</td>\n",
       "    </tr>\n",
       "    <tr>\n",
       "      <th>470</th>\n",
       "      <td>0.000000</td>\n",
       "      <td>empty</td>\n",
       "      <td>wildflower honey</td>\n",
       "      <td>0.25</td>\n",
       "      <td>72.0</td>\n",
       "      <td>1.000000</td>\n",
       "      <td>empty</td>\n",
       "      <td>breakfasts, spreads, sweet-spreads, bee-produc...</td>\n",
       "      <td>0.000000</td>\n",
       "    </tr>\n",
       "    <tr>\n",
       "      <th>471</th>\n",
       "      <td>NaN</td>\n",
       "      <td>empty</td>\n",
       "      <td>organic coconut aminos</td>\n",
       "      <td>NaN</td>\n",
       "      <td>49.0</td>\n",
       "      <td>1.000000</td>\n",
       "      <td>empty</td>\n",
       "      <td>empty</td>\n",
       "      <td>0.000000</td>\n",
       "    </tr>\n",
       "    <tr>\n",
       "      <th>472</th>\n",
       "      <td>NaN</td>\n",
       "      <td>empty</td>\n",
       "      <td>none</td>\n",
       "      <td>NaN</td>\n",
       "      <td>49.0</td>\n",
       "      <td>0.311475</td>\n",
       "      <td>empty</td>\n",
       "      <td>empty</td>\n",
       "      <td>0.000000</td>\n",
       "    </tr>\n",
       "    <tr>\n",
       "      <th>473</th>\n",
       "      <td>NaN</td>\n",
       "      <td>empty</td>\n",
       "      <td>llonganissa</td>\n",
       "      <td>NaN</td>\n",
       "      <td>49.0</td>\n",
       "      <td>0.874317</td>\n",
       "      <td>empty</td>\n",
       "      <td>empty</td>\n",
       "      <td>0.000000</td>\n",
       "    </tr>\n",
       "    <tr>\n",
       "      <th>474</th>\n",
       "      <td>NaN</td>\n",
       "      <td>empty</td>\n",
       "      <td>gianduia 1865</td>\n",
       "      <td>NaN</td>\n",
       "      <td>49.0</td>\n",
       "      <td>0.431694</td>\n",
       "      <td>empty</td>\n",
       "      <td>empty</td>\n",
       "      <td>0.222222</td>\n",
       "    </tr>\n",
       "    <tr>\n",
       "      <th>475</th>\n",
       "      <td>0.666667</td>\n",
       "      <td>empty</td>\n",
       "      <td>salami allemand</td>\n",
       "      <td>NaN</td>\n",
       "      <td>49.0</td>\n",
       "      <td>0.158470</td>\n",
       "      <td>empty</td>\n",
       "      <td>meats-and-their-products, meats, prepared-meats</td>\n",
       "      <td>0.222222</td>\n",
       "    </tr>\n",
       "    <tr>\n",
       "      <th>476</th>\n",
       "      <td>0.666667</td>\n",
       "      <td>empty</td>\n",
       "      <td>filet de poulet</td>\n",
       "      <td>0.75</td>\n",
       "      <td>21.0</td>\n",
       "      <td>0.254438</td>\n",
       "      <td>empty</td>\n",
       "      <td>meats-and-their-products, meats, chicken-and-i...</td>\n",
       "      <td>0.000000</td>\n",
       "    </tr>\n",
       "    <tr>\n",
       "      <th>477</th>\n",
       "      <td>NaN</td>\n",
       "      <td>empty</td>\n",
       "      <td>banane</td>\n",
       "      <td>NaN</td>\n",
       "      <td>49.0</td>\n",
       "      <td>0.311475</td>\n",
       "      <td>empty</td>\n",
       "      <td>empty</td>\n",
       "      <td>0.000000</td>\n",
       "    </tr>\n",
       "    <tr>\n",
       "      <th>478</th>\n",
       "      <td>0.333333</td>\n",
       "      <td>empty</td>\n",
       "      <td>castellina</td>\n",
       "      <td>0.75</td>\n",
       "      <td>37.0</td>\n",
       "      <td>0.431694</td>\n",
       "      <td>empty</td>\n",
       "      <td>plant-based-foods-and-beverages, beverages, pl...</td>\n",
       "      <td>0.000000</td>\n",
       "    </tr>\n",
       "    <tr>\n",
       "      <th>479</th>\n",
       "      <td>NaN</td>\n",
       "      <td>empty</td>\n",
       "      <td>cœurs de volaille</td>\n",
       "      <td>NaN</td>\n",
       "      <td>49.0</td>\n",
       "      <td>0.311475</td>\n",
       "      <td>empty</td>\n",
       "      <td>empty</td>\n",
       "      <td>0.000000</td>\n",
       "    </tr>\n",
       "    <tr>\n",
       "      <th>480</th>\n",
       "      <td>NaN</td>\n",
       "      <td>empty</td>\n",
       "      <td>choco shells</td>\n",
       "      <td>NaN</td>\n",
       "      <td>49.0</td>\n",
       "      <td>0.874317</td>\n",
       "      <td>empty</td>\n",
       "      <td>empty</td>\n",
       "      <td>0.000000</td>\n",
       "    </tr>\n",
       "    <tr>\n",
       "      <th>481</th>\n",
       "      <td>0.000000</td>\n",
       "      <td>empty</td>\n",
       "      <td>loukoum noisette et cacahuète goût grenade</td>\n",
       "      <td>NaN</td>\n",
       "      <td>49.0</td>\n",
       "      <td>0.311475</td>\n",
       "      <td>empty</td>\n",
       "      <td>snacks, sweet-snacks, confectioneries, turkish...</td>\n",
       "      <td>0.000000</td>\n",
       "    </tr>\n",
       "    <tr>\n",
       "      <th>482</th>\n",
       "      <td>0.777778</td>\n",
       "      <td>empty</td>\n",
       "      <td>inferno vino</td>\n",
       "      <td>NaN</td>\n",
       "      <td>49.0</td>\n",
       "      <td>0.431694</td>\n",
       "      <td>empty</td>\n",
       "      <td>beverages, alcoholic-beverages, wines</td>\n",
       "      <td>0.000000</td>\n",
       "    </tr>\n",
       "    <tr>\n",
       "      <th>483</th>\n",
       "      <td>0.555556</td>\n",
       "      <td>empty</td>\n",
       "      <td>patate douce bio</td>\n",
       "      <td>0.25</td>\n",
       "      <td>79.0</td>\n",
       "      <td>0.311475</td>\n",
       "      <td>sweet-potato, vegetable, root-vegetable, tuber</td>\n",
       "      <td>plant-based-foods-and-beverages, plant-based-f...</td>\n",
       "      <td>0.222222</td>\n",
       "    </tr>\n",
       "    <tr>\n",
       "      <th>484</th>\n",
       "      <td>0.555556</td>\n",
       "      <td>empty</td>\n",
       "      <td>rosquilletas</td>\n",
       "      <td>NaN</td>\n",
       "      <td>49.0</td>\n",
       "      <td>0.874317</td>\n",
       "      <td>empty</td>\n",
       "      <td>plant-based-foods-and-beverages, plant-based-f...</td>\n",
       "      <td>0.000000</td>\n",
       "    </tr>\n",
       "    <tr>\n",
       "      <th>485</th>\n",
       "      <td>0.222222</td>\n",
       "      <td>empty</td>\n",
       "      <td>pizza with roasted garlic cheese</td>\n",
       "      <td>NaN</td>\n",
       "      <td>49.0</td>\n",
       "      <td>1.000000</td>\n",
       "      <td>crust, wheat-flour, cereal, flour, wheat, cere...</td>\n",
       "      <td>meals, pizzas-pies-and-quiches, pizzas</td>\n",
       "      <td>0.000000</td>\n",
       "    </tr>\n",
       "    <tr>\n",
       "      <th>486</th>\n",
       "      <td>0.222222</td>\n",
       "      <td>empty</td>\n",
       "      <td>steak and real ale chutney sandwich</td>\n",
       "      <td>NaN</td>\n",
       "      <td>49.0</td>\n",
       "      <td>0.994536</td>\n",
       "      <td>empty</td>\n",
       "      <td>sandwiches</td>\n",
       "      <td>0.000000</td>\n",
       "    </tr>\n",
       "    <tr>\n",
       "      <th>487</th>\n",
       "      <td>NaN</td>\n",
       "      <td>empty</td>\n",
       "      <td>vitamin c</td>\n",
       "      <td>NaN</td>\n",
       "      <td>49.0</td>\n",
       "      <td>1.000000</td>\n",
       "      <td>empty</td>\n",
       "      <td>empty</td>\n",
       "      <td>0.000000</td>\n",
       "    </tr>\n",
       "    <tr>\n",
       "      <th>488</th>\n",
       "      <td>0.666667</td>\n",
       "      <td>empty</td>\n",
       "      <td>bacon wrapped stuffed chicken breast</td>\n",
       "      <td>NaN</td>\n",
       "      <td>49.0</td>\n",
       "      <td>1.000000</td>\n",
       "      <td>chicken-breast, poultry, chicken, chicken-meat...</td>\n",
       "      <td>meats-and-their-products, meats, poultries</td>\n",
       "      <td>0.000000</td>\n",
       "    </tr>\n",
       "    <tr>\n",
       "      <th>489</th>\n",
       "      <td>NaN</td>\n",
       "      <td>empty</td>\n",
       "      <td>singles swiss style</td>\n",
       "      <td>NaN</td>\n",
       "      <td>49.0</td>\n",
       "      <td>1.000000</td>\n",
       "      <td>empty</td>\n",
       "      <td>empty</td>\n",
       "      <td>0.000000</td>\n",
       "    </tr>\n",
       "    <tr>\n",
       "      <th>490</th>\n",
       "      <td>1.000000</td>\n",
       "      <td>empty</td>\n",
       "      <td>cocteleo</td>\n",
       "      <td>NaN</td>\n",
       "      <td>49.0</td>\n",
       "      <td>NaN</td>\n",
       "      <td>sal-tree, plant, e621, e635, e330, e160c, e160b</td>\n",
       "      <td>plant-based-foods-and-beverages, plant-based-f...</td>\n",
       "      <td>0.111111</td>\n",
       "    </tr>\n",
       "    <tr>\n",
       "      <th>491</th>\n",
       "      <td>NaN</td>\n",
       "      <td>empty</td>\n",
       "      <td>merguez</td>\n",
       "      <td>NaN</td>\n",
       "      <td>49.0</td>\n",
       "      <td>0.311475</td>\n",
       "      <td>empty</td>\n",
       "      <td>empty</td>\n",
       "      <td>0.000000</td>\n",
       "    </tr>\n",
       "    <tr>\n",
       "      <th>492</th>\n",
       "      <td>0.111111</td>\n",
       "      <td>empty</td>\n",
       "      <td>vinaigre d'alcool cristal</td>\n",
       "      <td>0.25</td>\n",
       "      <td>71.0</td>\n",
       "      <td>0.000000</td>\n",
       "      <td>empty</td>\n",
       "      <td>condiments, vinegars, alcohol-vinegars</td>\n",
       "      <td>0.111111</td>\n",
       "    </tr>\n",
       "    <tr>\n",
       "      <th>493</th>\n",
       "      <td>NaN</td>\n",
       "      <td>empty</td>\n",
       "      <td>店内焼き上げ 玉子焼き(ほのあかね)</td>\n",
       "      <td>NaN</td>\n",
       "      <td>49.0</td>\n",
       "      <td>0.442623</td>\n",
       "      <td>empty</td>\n",
       "      <td>empty</td>\n",
       "      <td>0.000000</td>\n",
       "    </tr>\n",
       "    <tr>\n",
       "      <th>494</th>\n",
       "      <td>0.444444</td>\n",
       "      <td>empty</td>\n",
       "      <td>mozzarella</td>\n",
       "      <td>0.50</td>\n",
       "      <td>54.0</td>\n",
       "      <td>0.973404</td>\n",
       "      <td>empty</td>\n",
       "      <td>dairies, fermented-foods, fermented-milk-produ...</td>\n",
       "      <td>0.000000</td>\n",
       "    </tr>\n",
       "    <tr>\n",
       "      <th>495</th>\n",
       "      <td>NaN</td>\n",
       "      <td>empty</td>\n",
       "      <td>chicharron en salsa morita</td>\n",
       "      <td>NaN</td>\n",
       "      <td>49.0</td>\n",
       "      <td>0.874317</td>\n",
       "      <td>empty</td>\n",
       "      <td>empty</td>\n",
       "      <td>0.000000</td>\n",
       "    </tr>\n",
       "    <tr>\n",
       "      <th>496</th>\n",
       "      <td>NaN</td>\n",
       "      <td>empty</td>\n",
       "      <td>okra</td>\n",
       "      <td>NaN</td>\n",
       "      <td>49.0</td>\n",
       "      <td>1.000000</td>\n",
       "      <td>empty</td>\n",
       "      <td>empty</td>\n",
       "      <td>0.000000</td>\n",
       "    </tr>\n",
       "    <tr>\n",
       "      <th>497</th>\n",
       "      <td>NaN</td>\n",
       "      <td>empty</td>\n",
       "      <td>filet mignon séché</td>\n",
       "      <td>NaN</td>\n",
       "      <td>49.0</td>\n",
       "      <td>0.311475</td>\n",
       "      <td>empty</td>\n",
       "      <td>empty</td>\n",
       "      <td>0.000000</td>\n",
       "    </tr>\n",
       "    <tr>\n",
       "      <th>498</th>\n",
       "      <td>NaN</td>\n",
       "      <td>empty</td>\n",
       "      <td>a-fil</td>\n",
       "      <td>NaN</td>\n",
       "      <td>49.0</td>\n",
       "      <td>0.896175</td>\n",
       "      <td>empty</td>\n",
       "      <td>empty</td>\n",
       "      <td>0.000000</td>\n",
       "    </tr>\n",
       "    <tr>\n",
       "      <th>499</th>\n",
       "      <td>NaN</td>\n",
       "      <td>empty</td>\n",
       "      <td>berenjenas rellenas de carne</td>\n",
       "      <td>NaN</td>\n",
       "      <td>49.0</td>\n",
       "      <td>0.873626</td>\n",
       "      <td>empty</td>\n",
       "      <td>empty</td>\n",
       "      <td>0.111111</td>\n",
       "    </tr>\n",
       "  </tbody>\n",
       "</table>\n",
       "</div>"
      ],
      "text/plain": [
       "       groups             packaging  \\\n",
       "440       NaN                 empty   \n",
       "441       NaN                 empty   \n",
       "442       NaN                   box   \n",
       "443       NaN                 empty   \n",
       "444       NaN                 empty   \n",
       "445       NaN                 empty   \n",
       "446  0.111111                 empty   \n",
       "447  0.555556            plastikowe   \n",
       "448       NaN                 empty   \n",
       "449  0.000000                 empty   \n",
       "450       NaN                 empty   \n",
       "451  0.000000  glass jar, steel cap   \n",
       "452       NaN                 empty   \n",
       "453       NaN                 empty   \n",
       "454  0.444444                 empty   \n",
       "455       NaN                 empty   \n",
       "456  0.111111                 empty   \n",
       "457  0.666667                 empty   \n",
       "458       NaN                 empty   \n",
       "459       NaN                 empty   \n",
       "460       NaN                 empty   \n",
       "461       NaN                 empty   \n",
       "462  0.111111                 empty   \n",
       "463  0.333333                 empty   \n",
       "464       NaN                 empty   \n",
       "465       NaN                 empty   \n",
       "466  0.111111                 empty   \n",
       "467       NaN                 empty   \n",
       "468       NaN                 empty   \n",
       "469       NaN                 empty   \n",
       "470  0.000000                 empty   \n",
       "471       NaN                 empty   \n",
       "472       NaN                 empty   \n",
       "473       NaN                 empty   \n",
       "474       NaN                 empty   \n",
       "475  0.666667                 empty   \n",
       "476  0.666667                 empty   \n",
       "477       NaN                 empty   \n",
       "478  0.333333                 empty   \n",
       "479       NaN                 empty   \n",
       "480       NaN                 empty   \n",
       "481  0.000000                 empty   \n",
       "482  0.777778                 empty   \n",
       "483  0.555556                 empty   \n",
       "484  0.555556                 empty   \n",
       "485  0.222222                 empty   \n",
       "486  0.222222                 empty   \n",
       "487       NaN                 empty   \n",
       "488  0.666667                 empty   \n",
       "489       NaN                 empty   \n",
       "490  1.000000                 empty   \n",
       "491       NaN                 empty   \n",
       "492  0.111111                 empty   \n",
       "493       NaN                 empty   \n",
       "494  0.444444                 empty   \n",
       "495       NaN                 empty   \n",
       "496       NaN                 empty   \n",
       "497       NaN                 empty   \n",
       "498       NaN                 empty   \n",
       "499       NaN                 empty   \n",
       "\n",
       "                                                  name  ecoscore_tags  \\\n",
       "440                                      old passioned            NaN   \n",
       "441                       coeur de museau de porc cuit            NaN   \n",
       "442           candy canes cherry artificially flavored            NaN   \n",
       "443                                  precision protein            NaN   \n",
       "444                            dark cannabis chocolate            NaN   \n",
       "445              fette biscottate cioccolato e arancia            NaN   \n",
       "446                       aceite de oliva virgen extra           0.75   \n",
       "447                                           cosnazab           0.25   \n",
       "448                                              bravo            NaN   \n",
       "449                                  miel d eucalyptus           0.25   \n",
       "450                                        bohnenkraut            NaN   \n",
       "451                                        ziedu medus           0.00   \n",
       "452  vanilla & goji plant protein superfood + adapt...            NaN   \n",
       "453             sea dog lime & sea salt dark chocolate            NaN   \n",
       "454              chocolate chip cookie dough ice cream           0.25   \n",
       "455                                         fiji water            NaN   \n",
       "456                                 sweet & sour sauce           0.25   \n",
       "457                       thon blanc germon au naturel           1.00   \n",
       "458                                     burguer vegana            NaN   \n",
       "459                                               none            NaN   \n",
       "460                                burguer vegetariana            NaN   \n",
       "461                                   extra dark cacao           1.00   \n",
       "462                                  feigen-senf-sauce           0.50   \n",
       "463                                            edemame            NaN   \n",
       "464                                          jackfruit            NaN   \n",
       "465                                        barinutrics            NaN   \n",
       "466                              french style dressing           0.75   \n",
       "467                                          base 1000            NaN   \n",
       "468                                               none            NaN   \n",
       "469                                            cookies            NaN   \n",
       "470                                   wildflower honey           0.25   \n",
       "471                             organic coconut aminos            NaN   \n",
       "472                                               none            NaN   \n",
       "473                                        llonganissa            NaN   \n",
       "474                                      gianduia 1865            NaN   \n",
       "475                                    salami allemand            NaN   \n",
       "476                                    filet de poulet           0.75   \n",
       "477                                             banane            NaN   \n",
       "478                                         castellina           0.75   \n",
       "479                                  cœurs de volaille            NaN   \n",
       "480                                       choco shells            NaN   \n",
       "481         loukoum noisette et cacahuète goût grenade            NaN   \n",
       "482                                       inferno vino            NaN   \n",
       "483                                   patate douce bio           0.25   \n",
       "484                                       rosquilletas            NaN   \n",
       "485                   pizza with roasted garlic cheese            NaN   \n",
       "486                steak and real ale chutney sandwich            NaN   \n",
       "487                                          vitamin c            NaN   \n",
       "488               bacon wrapped stuffed chicken breast            NaN   \n",
       "489                                singles swiss style            NaN   \n",
       "490                                           cocteleo            NaN   \n",
       "491                                            merguez            NaN   \n",
       "492                          vinaigre d'alcool cristal           0.25   \n",
       "493                                 店内焼き上げ 玉子焼き(ほのあかね)            NaN   \n",
       "494                                         mozzarella           0.50   \n",
       "495                         chicharron en salsa morita            NaN   \n",
       "496                                               okra            NaN   \n",
       "497                                 filet mignon séché            NaN   \n",
       "498                                              a-fil            NaN   \n",
       "499                       berenjenas rellenas de carne            NaN   \n",
       "\n",
       "     ecoscore_score  countries  \\\n",
       "440            49.0   0.994536   \n",
       "441            49.0   0.311475   \n",
       "442            49.0        NaN   \n",
       "443            49.0   0.973404   \n",
       "444            49.0   0.300000   \n",
       "445            49.0   0.431694   \n",
       "446            27.0   0.874317   \n",
       "447            67.0   0.743169   \n",
       "448            49.0   0.418994   \n",
       "449            72.0   0.311475   \n",
       "450            49.0   0.324468   \n",
       "451            97.0   0.530055   \n",
       "452            49.0        NaN   \n",
       "453            49.0   0.994536   \n",
       "454            67.0   0.973404   \n",
       "455            49.0   0.158470   \n",
       "456            73.0   1.000000   \n",
       "457             0.0   0.000000   \n",
       "458            49.0   0.871508   \n",
       "459            49.0   0.874317   \n",
       "460            49.0   0.874317   \n",
       "461             5.0        NaN   \n",
       "462            54.0   0.333333   \n",
       "463            49.0   0.000000   \n",
       "464            49.0   0.333333   \n",
       "465            49.0   0.076503   \n",
       "466            34.0   1.000000   \n",
       "467            49.0   0.311475   \n",
       "468            49.0   0.874317   \n",
       "469            49.0   0.420765   \n",
       "470            72.0   1.000000   \n",
       "471            49.0   1.000000   \n",
       "472            49.0   0.311475   \n",
       "473            49.0   0.874317   \n",
       "474            49.0   0.431694   \n",
       "475            49.0   0.158470   \n",
       "476            21.0   0.254438   \n",
       "477            49.0   0.311475   \n",
       "478            37.0   0.431694   \n",
       "479            49.0   0.311475   \n",
       "480            49.0   0.874317   \n",
       "481            49.0   0.311475   \n",
       "482            49.0   0.431694   \n",
       "483            79.0   0.311475   \n",
       "484            49.0   0.874317   \n",
       "485            49.0   1.000000   \n",
       "486            49.0   0.994536   \n",
       "487            49.0   1.000000   \n",
       "488            49.0   1.000000   \n",
       "489            49.0   1.000000   \n",
       "490            49.0        NaN   \n",
       "491            49.0   0.311475   \n",
       "492            71.0   0.000000   \n",
       "493            49.0   0.442623   \n",
       "494            54.0   0.973404   \n",
       "495            49.0   0.874317   \n",
       "496            49.0   1.000000   \n",
       "497            49.0   0.311475   \n",
       "498            49.0   0.896175   \n",
       "499            49.0   0.873626   \n",
       "\n",
       "                                           ingredients  \\\n",
       "440                                              empty   \n",
       "441                                              empty   \n",
       "442                                              empty   \n",
       "443                                              empty   \n",
       "444                                              empty   \n",
       "445                                              empty   \n",
       "446                                              empty   \n",
       "447  oat-flakes, cereal, oat, skimmed-milk-powder, ...   \n",
       "448                                              empty   \n",
       "449                                              empty   \n",
       "450                                              empty   \n",
       "451                                              empty   \n",
       "452                                              empty   \n",
       "453                                              empty   \n",
       "454                                              empty   \n",
       "455                                              empty   \n",
       "456                                              empty   \n",
       "457                  albacore, fish, tuna, water, salt   \n",
       "458                                              empty   \n",
       "459                                              empty   \n",
       "460                                              empty   \n",
       "461              cocoa, plant, acidity-regulator, e501   \n",
       "462                                              empty   \n",
       "463  edamame, vegetable, legume, pulse, soya, soya-...   \n",
       "464                                              empty   \n",
       "465                                              empty   \n",
       "466  high-fructose-corn-syrup, added-sugar, disacch...   \n",
       "467                                              empty   \n",
       "468                                              empty   \n",
       "469                                              empty   \n",
       "470                                              empty   \n",
       "471                                              empty   \n",
       "472                                              empty   \n",
       "473                                              empty   \n",
       "474                                              empty   \n",
       "475                                              empty   \n",
       "476                                              empty   \n",
       "477                                              empty   \n",
       "478                                              empty   \n",
       "479                                              empty   \n",
       "480                                              empty   \n",
       "481                                              empty   \n",
       "482                                              empty   \n",
       "483     sweet-potato, vegetable, root-vegetable, tuber   \n",
       "484                                              empty   \n",
       "485  crust, wheat-flour, cereal, flour, wheat, cere...   \n",
       "486                                              empty   \n",
       "487                                              empty   \n",
       "488  chicken-breast, poultry, chicken, chicken-meat...   \n",
       "489                                              empty   \n",
       "490    sal-tree, plant, e621, e635, e330, e160c, e160b   \n",
       "491                                              empty   \n",
       "492                                              empty   \n",
       "493                                              empty   \n",
       "494                                              empty   \n",
       "495                                              empty   \n",
       "496                                              empty   \n",
       "497                                              empty   \n",
       "498                                              empty   \n",
       "499                                              empty   \n",
       "\n",
       "                                            categories  labels_note  \n",
       "440                                              empty     0.000000  \n",
       "441                                              empty     0.000000  \n",
       "442                                              empty     0.000000  \n",
       "443                                              empty     0.111111  \n",
       "444                                              empty     0.000000  \n",
       "445                                              empty     0.000000  \n",
       "446  plant-based-foods-and-beverages, plant-based-f...     0.111111  \n",
       "447  plant-based-foods-and-beverages, plant-based-f...     0.111111  \n",
       "448                                              empty     0.000000  \n",
       "449  breakfasts, spreads, sweet-spreads, bee-produc...     0.111111  \n",
       "450                                              empty     0.000000  \n",
       "451  breakfasts, spreads, sweet-spreads, bee-produc...     0.000000  \n",
       "452                                              empty     0.333333  \n",
       "453                                              empty     0.000000  \n",
       "454  desserts, frozen-foods, frozen-desserts, ice-c...     0.000000  \n",
       "455                                              empty     0.000000  \n",
       "456          condiments, sauces, sweet-and-sour-sauces     0.000000  \n",
       "457  seafood, fishes-and-their-products, fishes, fa...     0.000000  \n",
       "458                                              empty     0.111111  \n",
       "459               non-food-products, open-beauty-facts     0.000000  \n",
       "460                                              empty     0.111111  \n",
       "461  cocoa-and-its-products, cocoa-and-chocolate-po...     0.000000  \n",
       "462                       condiments, sauces, mustards     0.000000  \n",
       "463  plant-based-foods-and-beverages, plant-based-f...     0.000000  \n",
       "464                                              empty     0.000000  \n",
       "465                                              empty     0.000000  \n",
       "466     condiments, sauces, salad-dressings, groceries     0.000000  \n",
       "467                                              empty     0.000000  \n",
       "468                                              empty     0.000000  \n",
       "469                                              empty     0.333333  \n",
       "470  breakfasts, spreads, sweet-spreads, bee-produc...     0.000000  \n",
       "471                                              empty     0.000000  \n",
       "472                                              empty     0.000000  \n",
       "473                                              empty     0.000000  \n",
       "474                                              empty     0.222222  \n",
       "475    meats-and-their-products, meats, prepared-meats     0.222222  \n",
       "476  meats-and-their-products, meats, chicken-and-i...     0.000000  \n",
       "477                                              empty     0.000000  \n",
       "478  plant-based-foods-and-beverages, beverages, pl...     0.000000  \n",
       "479                                              empty     0.000000  \n",
       "480                                              empty     0.000000  \n",
       "481  snacks, sweet-snacks, confectioneries, turkish...     0.000000  \n",
       "482              beverages, alcoholic-beverages, wines     0.000000  \n",
       "483  plant-based-foods-and-beverages, plant-based-f...     0.222222  \n",
       "484  plant-based-foods-and-beverages, plant-based-f...     0.000000  \n",
       "485             meals, pizzas-pies-and-quiches, pizzas     0.000000  \n",
       "486                                         sandwiches     0.000000  \n",
       "487                                              empty     0.000000  \n",
       "488         meats-and-their-products, meats, poultries     0.000000  \n",
       "489                                              empty     0.000000  \n",
       "490  plant-based-foods-and-beverages, plant-based-f...     0.111111  \n",
       "491                                              empty     0.000000  \n",
       "492             condiments, vinegars, alcohol-vinegars     0.111111  \n",
       "493                                              empty     0.000000  \n",
       "494  dairies, fermented-foods, fermented-milk-produ...     0.000000  \n",
       "495                                              empty     0.000000  \n",
       "496                                              empty     0.000000  \n",
       "497                                              empty     0.000000  \n",
       "498                                              empty     0.000000  \n",
       "499                                              empty     0.111111  "
      ]
     },
     "execution_count": 16,
     "metadata": {},
     "output_type": "execute_result"
    }
   ],
   "source": [
    "df.tail(60)"
   ]
  },
  {
   "cell_type": "code",
   "execution_count": 6,
   "metadata": {},
   "outputs": [
    {
     "name": "stdout",
     "output_type": "stream",
     "text": [
      "0.3333333333\n",
      "nan\n",
      "0.0\n",
      "0.5555555556\n",
      "1.0\n",
      "0.4444444444\n",
      "0.1111111111\n",
      "0.7777777778\n",
      "0.6666666667\n",
      "0.2222222222\n",
      "0.5\n"
     ]
    }
   ],
   "source": [
    "uniques_groups = df['groups'].unique()\n",
    "uniques_groups_list = list(uniques_groups)\n",
    "for value in uniques_groups_list:\n",
    "    print(value)"
   ]
  },
  {
   "cell_type": "code",
   "execution_count": 7,
   "metadata": {},
   "outputs": [
    {
     "name": "stdout",
     "output_type": "stream",
     "text": [
      "grünkohl\n",
      "\n",
      "datte medjoul\n",
      "te alla pesca\n",
      "wasabi piment doux\n",
      "cafe ole\n",
      "chewing-gum, sans sucre\n",
      "les madeleines nature\n",
      "bresaola\n",
      "pizza\n",
      "soup croutons nature\n",
      "sélection de 3 riz\n",
      "achards salade de légumes aigre-doux\n",
      "bifi\n",
      "ultra-thin crust pizza\n",
      "sucette à la myrtille\n",
      "bonbon\n",
      "queso bola edam tierno\n",
      "biscuit baie de goji saveur cassis\n",
      "de luigi penne rigate\n",
      "none\n",
      "castella cream cake\n",
      "witte chocolade\n",
      "mini pretzel twists\n",
      "eat me biscuits classic\n",
      "herbed  chicken parmesan\n",
      "girasoli chèvre miel\n",
      "brioche parisienne\n",
      "miel de forêt\n",
      "epicerie / epicerie sucrée / gâteaux, biscuits, encas\n",
      "schoko dessertsauce\n",
      "mandel spritzgebäck\n",
      "chamberyzette\n",
      "mandeln sahne-kakao\n",
      "classic toast de blé\n",
      "sweet chili & sour cream kettle cooked potato chips\n",
      "thé agrumes\n",
      "organic extra virgin coconut oil\n",
      "stroopwafels\n",
      "organic date nectar\n",
      "quinoa chips, barbecue\n",
      "lait de coco\n",
      "cookies\n",
      "pate a tartiner\n",
      "craquotte completes\n",
      "queso\n",
      "plateau saveurs à la mexicaine\n",
      "dextro\n",
      "pure dextrose\n",
      "huile d'olive\n",
      "wafer cacao\n",
      "chanpiñon grande\n",
      "نستله ظغاط\n",
      "roti saumure fume\n",
      "garlic granules\n",
      "pimentón de la vera picante\n",
      "panetti sticks\n",
      "appeltart\n",
      "miel de lavande de provence\n",
      "lait entier\n",
      "fiambre de paleta cocida\n",
      "unsweetened coconut flakes\n",
      "lentilles dorées\n",
      "pois chiches decortiqués bio\n",
      "cocktail multifruit\n",
      "honey wheat bread\n",
      "entrepinares semicurado\n",
      "insalatini di cavolo cappuccio e carota\n",
      "gâteau aux noix du perigord\n",
      "квас хлібний\n",
      "limon y chocolate negro\n",
      "dark chocolate ginger\n",
      "amande rôties et salées\n",
      "butternut squash soup\n",
      "la savoureuse salade de fruit au sirop léger\n",
      "fritada de hortalizas\n",
      "zapps voodoo heat peg bag\n",
      "rosette\n",
      "saucisse aux herbes\n",
      "pizzeria style medium crust pizza\n",
      "thon\n",
      "jus mangue-passion\n",
      "tournedos\n",
      "pain au chocolat beurre\n",
      "chicha camba\n",
      "sweet garlic dill pickles\n",
      "black bean salad\n",
      "chef boyardee chicken marinara pasta, 15 oz\n",
      "5 ciabatta rolls\n",
      "lentilles vertes\n",
      "jus carotte\n",
      "chips ahoy! 2 pack\n",
      "organic super greens powder\n",
      "goldfish cheddar\n",
      "bocata cereales\n",
      "mini surimi 2 sauces mayonnaise\n",
      "cancoillotte à l'ail\n",
      "multivitamins and iron\n",
      "fusillis de lentejas rojas\n",
      "infuso tentazioni al mirtillo\n",
      "френско плато\n",
      "قوفريط دوبل ميكس\n",
      "huile de pepins de raisins aromatise a la truffe\n",
      "karamell bonbons\n",
      "feuilletés au saumon et aux épinards\n",
      "unigel\n",
      "sarrasin soufflé au miel\n",
      "original white flour tortillas\n",
      "twarog\n",
      "pastèque\n",
      "mistura de sementes\n",
      "mayonesa alteza\n",
      "back bacon\n",
      "fromage blanc au lait de ferme\n",
      "tortelloni\n",
      "vache quirit\n",
      "cake hôtel\n",
      "bugles\n",
      "tomates semi sechees\n",
      "cherry almond low fat yogurt\n",
      "whole milk\n",
      "cola, cherry\n",
      "acrylic paint\n",
      "karpuz ve çilek gazoz\n",
      "soft baked cookies\n",
      "köstliche kakao waffeln 450g beutel feiny biscuits\n",
      "brillâat savarin affiné\n",
      "zucchine alla brace\n",
      "umaibo cheese\n",
      "army brand\n",
      "unfiltered honey\n",
      "goûters cacao'lait\n",
      "queso semicirado\n",
      "puten chili con carne\n",
      "pizza biquette\n",
      "waldhonig\n",
      "jus de pomme clos renaux bio\n",
      "vaporub\n",
      "spaghetti\n",
      "reines rapsöl\n",
      "knusper milch riegel\n",
      "nuez pecana\n",
      "natural casing cheddarbest smoked sausage\n",
      "tartinade tomates séchées douces\n",
      "bière\n",
      "rondin papillon\n",
      "ketchup\n",
      "capsules café\n",
      "boulettes de viande hachees aux fusillis\n",
      "wild pasture\n",
      "mousse au chocolat au lait\n",
      "cookie dough bar\n",
      "feine knusper pralinen, zartbitter\n",
      "riz basmati\n",
      "filets de maquereaux à la moutarde\n",
      "pranarom bergamotier huile essentielle bio 10ml\n",
      "almond beverage, unsweetened vanilla\n",
      "surtido de bombones\n",
      "l'haricocotte\n",
      "kruidcakemix\n",
      "fripon pb choco/noisette\n",
      "remolacha encurtida rallada\n",
      "johnnie walker black label\n",
      "trappista light\n",
      "wellness mix\n",
      "weight gainer crash 5000\n",
      "porridge cu banane\n",
      "spaghetti nero\n",
      "chapelure semoule craquante\n",
      "aktiv grapefruit\n",
      "bulgur\n",
      "jambon cuit supérieur bio\n",
      "cola coke 0\n",
      "croquette au four\n",
      "thé vert bio macaron amande\n",
      "zumo de piña golden sweet\n",
      "crema di mandorle pelate bio\n",
      "capitán maní sport\n",
      "olive bitter\n",
      "sparkle gel\n",
      "milder sahne joghurt kirsche\n",
      "agurkmix\n",
      "kosher dill whole pickles\n",
      "gamberi\n",
      "maccheroni\n",
      "cheetos crunch cheese, baked\n",
      "pancarrè (soffice e morbido)\n",
      "asda trail mix\n",
      "pomme pépites\n",
      "ananas in sciroppo\n",
      "red thai curry prix garantie\n",
      "organic crunchy rice\n",
      "schnitt bohnen\n",
      "tangy honey bbq saus\n",
      "cocoa granola\n",
      "dulce maria\n",
      "bière épicée de lozère\n",
      "citron mélisse\n",
      "smoked haddock fillets\n",
      "risotto alle ortiche\n",
      "plstinum hot and spicy cashews\n",
      "restaurant style cheese & garlic croutons\n",
      "superfruit c shot\n",
      "strawberry rocky road - moogurt\n",
      "labneh\n",
      "poulet feuilleté\n",
      "deluxe mixed nuts\n",
      "maggi bouillon goût bœuf halal 8 tablettes, 80g\n",
      "salade de blé, fromage de brebis et petits légumes\n",
      "spätzle in champignon-sauce\n",
      "aceite refinado de girasol\n",
      "yaourt avec fruits (ananas)\n",
      "noix a l'érable\n",
      "sauce au fromage\n",
      "deutscher caviar aus seehasenrogen\n",
      "exotic lux\n",
      "california sun veggie bratlinge\n",
      "pimientos del piquillo\n",
      "протеинови тарали\n",
      "oignon jaune bio\n",
      "pimiento del pequillo\n",
      "gelato alla panna senza glutine\n",
      "gelatina-durazno\n",
      "vanilla almond quinoa granola\n",
      "whole grain oat cereal\n",
      "prokudent kräuter zahncreme\n",
      "peanut paradise\n",
      "aroma vanila\n",
      "girasoli ricotta épinard\n",
      "pain aux olives\n",
      "café hawaiano\n",
      "linecké koláčky\n",
      "mini swiss rolls\n",
      "chips zweiffel inferno\n",
      "orange à jus\n",
      "soft cheese\n",
      "boisson au litchi\n",
      "spaghetti 500g\n",
      "rote traube acai\n",
      "poulet mariné petits pois carottes\n",
      "jambon blanc\n",
      "dark chocolate fruit & nut\n",
      "garlic prawns\n",
      "unsmoked muscovado and orange gammon joint\n",
      "mix'pizza\n",
      "dinkelmehl hell\n",
      "deli’light\n",
      "natural goat’s milk yogurt\n",
      "natural smooth peanut butter\n",
      "morcilla patatera dulce\n",
      "5% distilled white vinegar\n",
      "olives noires\n",
      "gaufres de liège avec chocolat noir\n",
      "proteína de guisante en polvo\n",
      "poulet\n",
      "pommes de terre rissolées et asaisonnées\n",
      "frosta gemüsepfanne\n",
      "organic cotton candy grapes\n",
      "chicken street tacos\n",
      "molly mallow\n",
      "hähnchenflügel\n",
      "biscuits européens chocolat belge\n",
      "cheez puffs\n",
      "miel de thym\n",
      "muesli\n",
      "confiture de fraise\n",
      "spicy ranch pretzel crisps bites\n",
      "organic probiotic water\n",
      "azeitonas verdes com caroço 300g\n",
      "pollo rural\n",
      "butter süssrahm - k-bio - 250 g\n",
      "marinara pasta sauce\n",
      "filets de poulet\n",
      "lavender matcha latte\n",
      "sauce tomates avec basilic\n",
      "crunchy mix\n",
      "organic fairtrade honey\n",
      "junge brechbohnen\n",
      "land o lakes half and half\n",
      "remolacha agridulce\n",
      "assortiment de chocolats\n",
      "roland, chestnut puree\n",
      "giant, oat & quinoa granola bars, blueberry\n",
      "jambon à l'ancienne\n",
      "cornflakes  with honey & peanuts\n",
      "sauce bbq au citron gingembre\n",
      "framboise yaourt au lait du jour\n",
      "vino ol. (vino blanco)\n",
      "bouillion\n",
      "parmigiano reggiano\n",
      "ritebrand\n",
      "nutritional yeast flakes\n",
      "buffalo chicken ravioli\n",
      "échine allumette nature\n",
      "waffle pretzels\n",
      "pepper sauce\n",
      "yogurt da bere\n",
      "sticks turrón de chocolate con turrón blando\n",
      "crackers bio grano saraceno\n",
      "heumilch butter\n",
      "macinato ragù\n",
      "raclette le cavalier\n",
      "cosmic crisp apples\n",
      "reissumies tosi ohut\n",
      "black bean hummus\n",
      "sour jelly beans\n",
      "frituurolie\n",
      "demi poitrine de porc cuite fumee de qualite superieure\n",
      "tortilla whole wheat\n",
      "filet de poulet\n",
      "sesame brown rice crackers\n",
      "jumbo assorted fruit slices\n",
      "bun chay hué\n",
      "crunchy peanut butter\n",
      "roti filet de porc demi-sel\n",
      "chocolate candies, white chocolate\n",
      "custard creams\n",
      "ratatouille à la bretonne\n",
      "polen garcía sanchón\n",
      "pop-up knödel\n",
      "1670 marquise de sablé\n",
      "alfredo's potato chips salt\n",
      "glister\n",
      "bouteille de bière oldarki 6° pays basque\n",
      "blanco y negro (val/mur)\n",
      "demi baguette poulet curry\n",
      "samoussa a la crevette\n",
      "pasteli mit zimt\n",
      "canelle baton\n",
      "milk chocolate\n",
      "pesto vegano\n",
      "cacahuetes fritos piel\n",
      "queso fresco de cabra y vaca\n",
      "chipolatas à la provençale\n",
      "light et free citron\n",
      "vin rouge\n",
      "acisso\n",
      "calabrese salame\n",
      "premium still water\n",
      "margarina\n",
      "strawberry preserves\n",
      "vongole al naturale\n",
      "pte brie moulin du boulay\n",
      "jagode\n",
      "noix de jambon fumé\n",
      "dafyna\n",
      "burro cistella\n",
      "cèpes extra\n",
      "marinade texane\n",
      "seafood chowder\n",
      "jambon cuit superieur engagé et bon\n",
      "röst-knobi & basilikum\n",
      "bio-putenbrust\n",
      "nesquik shake\n",
      "grissini a l'huile d'olive\n",
      "pavin\n",
      "emmental\n",
      "la tortina classica tomarchio\n",
      "velvet spray brown\n",
      "organic a medley baby lettuces & greens of spring mix\n",
      "les glaces de kerheu\n",
      "blueberry preserves\n",
      "terrine de ris de veau\n",
      "gluteeniton runebergintorttu\n",
      "gelato tiramisu\n",
      "chia-sticks\n",
      "duo dough&brownie\n",
      "tisane marseillaise\n",
      "trevisan sugo allo scoglio\n",
      "trader joe's organic apple filtered\n",
      "jambon\n",
      "fins gourmets l’originale\n",
      "bitter rosso\n",
      "chorizo iberici extra\n",
      "kakaonibs\n",
      "just egg\n",
      "galletas de avena con chocolate belga\n",
      "gumball dispenser\n",
      "belgian milk chocolate chunk cookies\n",
      "frambons amargo\n",
      "bresaola della valtellina\n",
      "butifarra fresca\n",
      "saurer apfelwein\n",
      "yogurt\n",
      "airwaves cool cassis\n",
      "kalelia olive\n",
      "rillons sarhois\n",
      "chicken pâté\n",
      "pain de mie\n",
      "roasted corn chowder soup mix\n",
      "carte d'or les authentiques glace chocolat blanc 1.4l\n",
      "epinacas\n",
      "apple mini bites\n",
      "kasuri methi\n",
      "fruit & nut medley\n",
      "cara oranges\n",
      "latte\n",
      "75% cocoa sea salt\n",
      "мясо вяленое свинина\n",
      "pissaladière niçoise\n",
      "ombar baies de goji\n",
      "arizona green tea zero\n",
      "cioccolato di modica io al pistacchio\n",
      "coulommiers tradition lait crus\n",
      "roi huile\n",
      "fromage saint agur\n",
      "asolo\n",
      "sour cream\n",
      "ameixa seca\n",
      "multifruit juice\n",
      "turkey prestronomy\n",
      "vollkorn in apfel-banane\n",
      "pavé de saumon de norvège\n",
      "misch pilze\n",
      "mochi\n",
      "iberus iberus natives olivenöl extra rosario d.o. baena 2, 5 l\n",
      "salsa di pecorino romano dop\n",
      "melange sportif\n",
      "bizcocho avena cacao\n",
      "roasted turkey with green beans - wegmans\n",
      "fromage cottage\n",
      "spiced basmati rice\n",
      "tuna trozos en aceite\n",
      "cacau 100%\n",
      "jamie's hive to table raw honey comb\n",
      "confiture vio equitable\n",
      "organic protein drink, chocolate sea salt\n",
      "yogurt intero cremoso\n",
      "parè di olive taggiasche\n",
      "croix basques pur beurre\n",
      "cimory uht strawberry 125ml\n",
      "wagyu beef picante aldi\n",
      "overnight oats bar\n",
      "salus dark grissini\n",
      "crément de bourgogne\n",
      "tortelloni spinat-pinienkerne\n",
      "georgia boy smoked sausage\n",
      "stevia\n",
      "smiles di cocco biologico\n",
      "pure vanilla extract\n",
      "oettinger pils\n",
      "zuppa d'orzo biologica\n",
      "erdnuss butter cookies\n",
      "pops de poulet epicee\n",
      "teriyaki beef jerky\n",
      "les brassés banane mangue 6x95g dès 10 mois\n",
      "doritos mild salsa\n",
      "il latte che dura più a lungo\n",
      "oat flour confetti cookie mix\n",
      "tagliatelles aux tomates\n",
      "organic jackfruit\n",
      "concord grape\n",
      "bologna\n",
      "mon pesto vert\n",
      "poplets, crunch perfected!, toasted corn centers\n",
      "kellogg's fruit pieces disney disney cars .8oz\n",
      "sucralose sweetener\n",
      "break n' bake snickerdoodle cookie dough\n",
      "poitrine fumée à l'ancienne\n",
      "helado strawberry cheesecake\n",
      "penne rigate\n",
      "biologische rucola slamelange\n",
      "qauwi\n",
      "powidll taschen\n",
      "ciabatta integrale\n",
      "apperleys 4 oz beefy burger\n",
      "trio fraise kiwi melon\n",
      "ground turkey\n",
      "lucky layla farms mango\n",
      "chicken wings\n",
      "yaourt activia\n",
      "manteca de coco\n",
      "smoothie ananas-banane-coco\n",
      "ładowanie…\n",
      "fideua\n",
      "strawberry jam\n",
      "kefír černý rybíz\n",
      "nocellara & leccino olives\n",
      "coffret makis- 12 pièces\n"
     ]
    }
   ],
   "source": [
    "uniques_name = df['name'].unique()\n",
    "uniques_name_list = list(uniques_name)\n",
    "for value in uniques_name_list:\n",
    "    print(value)"
   ]
  },
  {
   "cell_type": "code",
   "execution_count": 8,
   "metadata": {},
   "outputs": [
    {
     "name": "stdout",
     "output_type": "stream",
     "text": [
      "nan\n",
      "0.3114754098\n",
      "0.4316939891\n",
      "0.4426229508\n",
      "0.0\n",
      "0.3184357542\n",
      "0.1584699454\n",
      "0.0765027322\n",
      "0.2544378698\n",
      "1.0\n",
      "0.2881355932\n",
      "0.2960893855\n",
      "0.8743169399\n",
      "0.3945945946\n",
      "0.5901639344\n",
      "0.5300546448\n",
      "0.6480446927\n",
      "0.347826087\n",
      "0.4095744681\n",
      "0.3333333333\n",
      "0.2864864865\n",
      "0.4262295082\n",
      "0.8715083799\n",
      "0.8087431694\n",
      "0.3031914894\n",
      "0.1396648045\n",
      "0.1542553191\n",
      "0.9836065574\n",
      "0.3152173913\n",
      "0.8700564972\n",
      "0.0983606557\n",
      "0.2295081967\n",
      "0.9945652174\n",
      "0.6557377049\n",
      "0.9945355191\n",
      "0.4114285714\n",
      "0.1256830601\n",
      "0.0218579235\n",
      "0.1818181818\n",
      "0.9685863874\n",
      "0.7486338798\n",
      "0.0558659218\n",
      "0.9734042553\n",
      "0.875\n",
      "0.2786885246\n",
      "0.902173913\n",
      "0.4189944134\n",
      "0.9016393443\n",
      "0.8983050847\n",
      "0.6229508197\n",
      "0.873015873\n",
      "0.2857142857\n",
      "0.7595628415\n",
      "0.6576086957\n",
      "0.8639053254\n",
      "0.6304347826\n",
      "0.4143646409\n",
      "0.3298429319\n",
      "0.0327868852\n",
      "0.3015873016\n",
      "0.4124293785\n",
      "0.3149171271\n",
      "0.6885245902\n",
      "0.4347826087\n",
      "0.6612021858\n",
      "0.1299435028\n",
      "0.1061452514\n",
      "0.320754717\n",
      "0.174863388\n",
      "0.4207650273\n",
      "0.2921348315\n",
      "0.1358695652\n",
      "0.9943502825\n",
      "0.0108108108\n",
      "0.0382513661\n",
      "0.306010929\n",
      "0.3227513228\n",
      "0.1147540984\n",
      "0.2781065089\n",
      "0.8994413408\n",
      "0.8633879781\n",
      "0.8736263736\n",
      "0.3989071038\n",
      "0.3107344633\n",
      "0.2131147541\n",
      "0.3967391304\n",
      "0.3027027027\n",
      "0.3\n",
      "0.9680851064\n",
      "0.7540983607\n",
      "0.9940828402\n",
      "0.4308510638\n",
      "0.9889502762\n",
      "0.2847682119\n",
      "0.420212766\n",
      "0.4043715847\n",
      "0.1534391534\n",
      "0.417989418\n",
      "0.3085714286\n"
     ]
    }
   ],
   "source": [
    "uniques_countries = df['countries'].unique()\n",
    "uniques_countries_list = list(uniques_countries)\n",
    "for value in uniques_countries_list:\n",
    "    print(value)"
   ]
  },
  {
   "cell_type": "code",
   "execution_count": 9,
   "metadata": {},
   "outputs": [
    {
     "name": "stdout",
     "output_type": "stream",
     "text": [
      "empty\n",
      "sachet plastique\n",
      "de\n",
      "\n",
      "kunststoff\n",
      "plastic\n",
      "plastique\n",
      "frais plastique\n",
      "mixed\n",
      "carton\n",
      "en plastique\n",
      "verre en\n",
      "verre\n",
      "frais\n",
      "karton pappe kunststoff\n"
     ]
    }
   ],
   "source": [
    "uniques_packaging = df['packaging'].unique()\n",
    "uniques_packaging_list = list(uniques_packaging)\n",
    "for value in uniques_packaging_list:\n",
    "    print(value)"
   ]
  },
  {
   "cell_type": "code",
   "execution_count": 10,
   "metadata": {},
   "outputs": [
    {
     "name": "stdout",
     "output_type": "stream",
     "text": [
      "nan\n",
      "0.5\n",
      "1.0\n",
      "0.25\n",
      "0.75\n",
      "0.0\n"
     ]
    }
   ],
   "source": [
    "uniques_ecoscore_tags = df['ecoscore_tags'].unique()\n",
    "uniques_ecoscore_tags_list = list(uniques_ecoscore_tags)\n",
    "for value in uniques_ecoscore_tags_list:\n",
    "    print(value)"
   ]
  },
  {
   "cell_type": "code",
   "execution_count": 11,
   "metadata": {},
   "outputs": [
    {
     "name": "stdout",
     "output_type": "stream",
     "text": [
      "nan\n",
      "50.0\n",
      "58.0\n",
      "16.0\n",
      "66.0\n",
      "42.0\n",
      "30.0\n",
      "67.0\n",
      "29.0\n",
      "72.0\n",
      "32.0\n",
      "77.0\n",
      "79.0\n",
      "57.0\n",
      "92.0\n",
      "39.0\n",
      "34.0\n",
      "21.0\n",
      "17.0\n",
      "35.0\n",
      "75.0\n",
      "36.0\n",
      "65.0\n",
      "0.0\n",
      "37.0\n",
      "74.0\n",
      "4.0\n",
      "59.0\n",
      "27.0\n",
      "64.0\n",
      "70.0\n",
      "43.0\n",
      "25.0\n",
      "81.0\n",
      "71.0\n",
      "69.0\n",
      "76.0\n",
      "40.0\n",
      "100.0\n",
      "23.0\n",
      "44.0\n",
      "78.0\n",
      "20.0\n",
      "24.0\n",
      "38.0\n",
      "55.0\n",
      "15.0\n",
      "8.0\n",
      "19.0\n",
      "68.0\n",
      "49.0\n",
      "85.0\n",
      "18.0\n",
      "60.0\n"
     ]
    }
   ],
   "source": [
    "uniques_ecoscore_score = df['ecoscore_score'].unique()\n",
    "uniques_ecoscore_score_list = list(uniques_ecoscore_score)\n",
    "for value in uniques_ecoscore_score_list:\n",
    "    print(value)"
   ]
  },
  {
   "cell_type": "code",
   "execution_count": 12,
   "metadata": {},
   "outputs": [
    {
     "name": "stdout",
     "output_type": "stream",
     "text": [
      "water salt\n",
      "empty\n",
      "flavouring sugar disaccharide salt addedsugar\n",
      "\n",
      "oilandfat flavouring water sugar disaccharide addedsugar salt\n",
      "salt\n",
      "water oilandfat sugar disaccharide addedsugar salt\n",
      "water addedsugar salt\n",
      "sugar disaccharide addedsugar\n",
      "dairy sugar disaccharide addedsugar\n",
      "flavouring\n",
      "naturalflavouring flavouring sugar salt disaccharide addedsugar\n",
      "water\n",
      "oilandfat sugar disaccharide addedsugar salt\n",
      "vegetable flavouring water sugar disaccharide addedsugar salt\n",
      "water sugar disaccharide addedsugar\n",
      "flavouring disaccharide salt addedsugar\n",
      "sugar disaccharide addedsugar salt\n",
      "vegetable\n",
      "dairy sugar disaccharide salt addedsugar\n",
      "disaccharide water addedsugar\n",
      "oilandfat sugar disaccharide salt addedsugar\n",
      "oilandfat salt sugar disaccharide addedsugar\n",
      "cereal oilandfat sugar disaccharide addedsugar salt\n",
      "water disaccharide addedsugar salt\n",
      "salt sugar disaccharide addedsugar\n",
      "vegetable sugar disaccharide addedsugar salt\n",
      "sugar disaccharide salt addedsugar\n",
      "naturalflavouring flavouring water\n",
      "vegetable flavouring salt\n",
      "sugar water disaccharide addedsugar salt\n",
      "addedsugar salt\n",
      "vegetable flavouring sugar disaccharide addedsugar salt\n",
      "vegetableoilandfat oilandfat salt\n",
      "sugar salt disaccharide addedsugar\n",
      "oilandfat sugar disaccharide vegetable addedsugar salt\n",
      "oilandfat water salt\n",
      "flavouring oilandfat sugar disaccharide salt addedsugar\n",
      "oilandfat salt\n",
      "vegetable salt\n",
      "flavouring sugar disaccharide addedsugar\n",
      "water sugar disaccharide salt addedsugar\n",
      "vegetableoilandfat oilandfat addedsugar salt\n",
      "vegetableoilandfat oilandfat salt addedsugar\n",
      "naturalflavouring oilandfat flavouring sugar disaccharide addedsugar salt\n",
      "flavouring sugar disaccharide water addedsugar salt\n",
      "vegetableoilandfat oilandfat sugar disaccharide addedsugar\n",
      "water sugar disaccharide addedsugar salt\n",
      "oilandfat sugar disaccharide addedsugar\n",
      "oilandfat water sugar disaccharide addedsugar salt\n",
      "monosaccharide addedsugar salt\n",
      "oilandfat addedsugar salt\n",
      "water oilandfat\n",
      "vegetable sugar disaccharide salt addedsugar\n",
      "disaccharide addedsugar\n",
      "oilandfat flavouring salt\n",
      "oilandfat vegetable water sugar disaccharide addedsugar salt\n"
     ]
    }
   ],
   "source": [
    "uniques_ingredients = df['ingredients'].unique()\n",
    "uniques_ingredients_list = list(uniques_ingredients)\n",
    "for value in uniques_ingredients_list:\n",
    "    print(value)"
   ]
  },
  {
   "cell_type": "code",
   "execution_count": 13,
   "metadata": {},
   "outputs": [
    {
     "name": "stdout",
     "output_type": "stream",
     "text": [
      "plantbasedfoods plantbasedfoodsandbeverages\n",
      "empty\n",
      "snacks desserts\n",
      "sweetsnacks snacks\n",
      "\n",
      "beverages\n",
      "sweetsnacks snacks plantbasedfoods plantbasedfoodsandbeverages\n",
      "beverages plantbasedfoodsandbeverages\n",
      "beverages plantbasedfoods plantbasedfoodsandbeverages\n",
      "dairies\n",
      "beverages beveragesandbeveragespreparations\n",
      "meatsandtheirproducts\n",
      "plantbasedbeverages beverages plantbasedfoodsandbeverages\n",
      "snacks\n",
      "fruitsandvegetablesbasedfoods plantbasedfoods plantbasedfoodsandbeverages\n",
      "cerealsandpotatoes plantbasedfoods plantbasedfoodsandbeverages\n",
      "meats meatsandtheirproducts\n",
      "desserts\n",
      "groceries condiments\n",
      "biscuitsandcakes sweetsnacks snacks\n",
      "poultries meats meatsandtheirproducts\n",
      "cheeses fermentedmilkproducts fermentedfoods dairies\n",
      "confectioneries sweetsnacks snacks\n",
      "plantbasedfoodsandbeverages\n",
      "fermentedfoods dairies\n",
      "dairies beverages\n"
     ]
    }
   ],
   "source": [
    "uniques_categories = df['categories'].unique()\n",
    "uniques_categories_list = list(uniques_categories)\n",
    "for value in uniques_categories_list:\n",
    "    print(value)"
   ]
  },
  {
   "cell_type": "code",
   "execution_count": 14,
   "metadata": {},
   "outputs": [
    {
     "name": "stdout",
     "output_type": "stream",
     "text": [
      "0.7777777778\n",
      "0.0\n",
      "0.2222222222\n",
      "0.4444444444\n",
      "0.1111111111\n",
      "0.6666666667\n",
      "1.0\n",
      "0.3333333333\n",
      "0.8888888889\n",
      "0.5555555556\n"
     ]
    }
   ],
   "source": [
    "uniques_labels_note = df['labels_note'].unique()\n",
    "uniques_labels_note_list = list(uniques_labels_note)\n",
    "for value in uniques_labels_note_list:\n",
    "    print(value)"
   ]
  },
  {
   "cell_type": "code",
   "execution_count": 15,
   "metadata": {},
   "outputs": [
    {
     "data": {
      "text/html": [
       "<div>\n",
       "<style scoped>\n",
       "    .dataframe tbody tr th:only-of-type {\n",
       "        vertical-align: middle;\n",
       "    }\n",
       "\n",
       "    .dataframe tbody tr th {\n",
       "        vertical-align: top;\n",
       "    }\n",
       "\n",
       "    .dataframe thead th {\n",
       "        text-align: right;\n",
       "    }\n",
       "</style>\n",
       "<table border=\"1\" class=\"dataframe\">\n",
       "  <thead>\n",
       "    <tr style=\"text-align: right;\">\n",
       "      <th></th>\n",
       "      <th>groups</th>\n",
       "      <th>ecoscore_tags</th>\n",
       "      <th>ecoscore_score</th>\n",
       "      <th>countries</th>\n",
       "      <th>labels_note</th>\n",
       "    </tr>\n",
       "  </thead>\n",
       "  <tbody>\n",
       "    <tr>\n",
       "      <th>count</th>\n",
       "      <td>179.000000</td>\n",
       "      <td>122.000000</td>\n",
       "      <td>118.000000</td>\n",
       "      <td>454.000000</td>\n",
       "      <td>500.000000</td>\n",
       "    </tr>\n",
       "    <tr>\n",
       "      <th>mean</th>\n",
       "      <td>0.406269</td>\n",
       "      <td>0.481557</td>\n",
       "      <td>51.677966</td>\n",
       "      <td>0.516976</td>\n",
       "      <td>0.085111</td>\n",
       "    </tr>\n",
       "    <tr>\n",
       "      <th>std</th>\n",
       "      <td>0.308604</td>\n",
       "      <td>0.294874</td>\n",
       "      <td>24.308868</td>\n",
       "      <td>0.329963</td>\n",
       "      <td>0.179453</td>\n",
       "    </tr>\n",
       "    <tr>\n",
       "      <th>min</th>\n",
       "      <td>0.000000</td>\n",
       "      <td>0.000000</td>\n",
       "      <td>0.000000</td>\n",
       "      <td>0.000000</td>\n",
       "      <td>0.000000</td>\n",
       "    </tr>\n",
       "    <tr>\n",
       "      <th>25%</th>\n",
       "      <td>0.111111</td>\n",
       "      <td>0.250000</td>\n",
       "      <td>34.000000</td>\n",
       "      <td>0.309112</td>\n",
       "      <td>0.000000</td>\n",
       "    </tr>\n",
       "    <tr>\n",
       "      <th>50%</th>\n",
       "      <td>0.444444</td>\n",
       "      <td>0.500000</td>\n",
       "      <td>50.000000</td>\n",
       "      <td>0.333333</td>\n",
       "      <td>0.000000</td>\n",
       "    </tr>\n",
       "    <tr>\n",
       "      <th>75%</th>\n",
       "      <td>0.666667</td>\n",
       "      <td>0.750000</td>\n",
       "      <td>73.500000</td>\n",
       "      <td>0.874317</td>\n",
       "      <td>0.111111</td>\n",
       "    </tr>\n",
       "    <tr>\n",
       "      <th>max</th>\n",
       "      <td>1.000000</td>\n",
       "      <td>1.000000</td>\n",
       "      <td>100.000000</td>\n",
       "      <td>1.000000</td>\n",
       "      <td>1.000000</td>\n",
       "    </tr>\n",
       "  </tbody>\n",
       "</table>\n",
       "</div>"
      ],
      "text/plain": [
       "           groups  ecoscore_tags  ecoscore_score   countries  labels_note\n",
       "count  179.000000     122.000000      118.000000  454.000000   500.000000\n",
       "mean     0.406269       0.481557       51.677966    0.516976     0.085111\n",
       "std      0.308604       0.294874       24.308868    0.329963     0.179453\n",
       "min      0.000000       0.000000        0.000000    0.000000     0.000000\n",
       "25%      0.111111       0.250000       34.000000    0.309112     0.000000\n",
       "50%      0.444444       0.500000       50.000000    0.333333     0.000000\n",
       "75%      0.666667       0.750000       73.500000    0.874317     0.111111\n",
       "max      1.000000       1.000000      100.000000    1.000000     1.000000"
      ]
     },
     "execution_count": 15,
     "metadata": {},
     "output_type": "execute_result"
    }
   ],
   "source": [
    "df.describe()"
   ]
  },
  {
   "cell_type": "code",
   "execution_count": 16,
   "metadata": {},
   "outputs": [],
   "source": [
    "def load_jsonl_to_dataframe(file_path):\n",
    "    data = []\n",
    "    with open(file_path, 'r') as file:\n",
    "        for line in file:\n",
    "            data.append(json.loads(line))\n",
    "    df = pd.DataFrame(data)\n",
    "    return df\n",
    "\n",
    "def create_treemap_for_column(df, column_name):\n",
    "    if column_name not in df.columns:\n",
    "        print(f\"warning, column: '{column_name}'does not exists\")\n",
    "        return\n",
    "    data = df[column_name].value_counts().reset_index()\n",
    "    data.columns = [column_name, 'count']\n",
    "    fig = go.Figure(go.Treemap(\n",
    "        labels=data[column_name],\n",
    "        parents=[\"\"] * len(data),\n",
    "        values=data['count'],\n",
    "        textinfo='label+value',  \n",
    "    ))\n",
    "    fig.update_layout(\n",
    "        title=f'treemap column: {column_name}',\n",
    "        paper_bgcolor='black',  \n",
    "        plot_bgcolor='grey',   \n",
    "        font_color='white'      \n",
    "    )\n",
    "    fig.show()"
   ]
  },
  {
   "cell_type": "code",
   "execution_count": 17,
   "metadata": {},
   "outputs": [
    {
     "data": {
      "application/vnd.plotly.v1+json": {
       "config": {
        "plotlyServerURL": "https://plot.ly"
       },
       "data": [
        {
         "labels": [
          0.25,
          0.75,
          0.5,
          1,
          0,
          0.3333333333,
          0.6666666667
         ],
         "parents": [
          "",
          "",
          "",
          "",
          "",
          "",
          ""
         ],
         "textinfo": "label+value",
         "type": "treemap",
         "values": [
          292855,
          197589,
          181755,
          113391,
          76418,
          3,
          1
         ]
        }
       ],
       "layout": {
        "font": {
         "color": "white"
        },
        "paper_bgcolor": "black",
        "plot_bgcolor": "grey",
        "template": {
         "data": {
          "bar": [
           {
            "error_x": {
             "color": "#2a3f5f"
            },
            "error_y": {
             "color": "#2a3f5f"
            },
            "marker": {
             "line": {
              "color": "#E5ECF6",
              "width": 0.5
             },
             "pattern": {
              "fillmode": "overlay",
              "size": 10,
              "solidity": 0.2
             }
            },
            "type": "bar"
           }
          ],
          "barpolar": [
           {
            "marker": {
             "line": {
              "color": "#E5ECF6",
              "width": 0.5
             },
             "pattern": {
              "fillmode": "overlay",
              "size": 10,
              "solidity": 0.2
             }
            },
            "type": "barpolar"
           }
          ],
          "carpet": [
           {
            "aaxis": {
             "endlinecolor": "#2a3f5f",
             "gridcolor": "white",
             "linecolor": "white",
             "minorgridcolor": "white",
             "startlinecolor": "#2a3f5f"
            },
            "baxis": {
             "endlinecolor": "#2a3f5f",
             "gridcolor": "white",
             "linecolor": "white",
             "minorgridcolor": "white",
             "startlinecolor": "#2a3f5f"
            },
            "type": "carpet"
           }
          ],
          "choropleth": [
           {
            "colorbar": {
             "outlinewidth": 0,
             "ticks": ""
            },
            "type": "choropleth"
           }
          ],
          "contour": [
           {
            "colorbar": {
             "outlinewidth": 0,
             "ticks": ""
            },
            "colorscale": [
             [
              0,
              "#0d0887"
             ],
             [
              0.1111111111111111,
              "#46039f"
             ],
             [
              0.2222222222222222,
              "#7201a8"
             ],
             [
              0.3333333333333333,
              "#9c179e"
             ],
             [
              0.4444444444444444,
              "#bd3786"
             ],
             [
              0.5555555555555556,
              "#d8576b"
             ],
             [
              0.6666666666666666,
              "#ed7953"
             ],
             [
              0.7777777777777778,
              "#fb9f3a"
             ],
             [
              0.8888888888888888,
              "#fdca26"
             ],
             [
              1,
              "#f0f921"
             ]
            ],
            "type": "contour"
           }
          ],
          "contourcarpet": [
           {
            "colorbar": {
             "outlinewidth": 0,
             "ticks": ""
            },
            "type": "contourcarpet"
           }
          ],
          "heatmap": [
           {
            "colorbar": {
             "outlinewidth": 0,
             "ticks": ""
            },
            "colorscale": [
             [
              0,
              "#0d0887"
             ],
             [
              0.1111111111111111,
              "#46039f"
             ],
             [
              0.2222222222222222,
              "#7201a8"
             ],
             [
              0.3333333333333333,
              "#9c179e"
             ],
             [
              0.4444444444444444,
              "#bd3786"
             ],
             [
              0.5555555555555556,
              "#d8576b"
             ],
             [
              0.6666666666666666,
              "#ed7953"
             ],
             [
              0.7777777777777778,
              "#fb9f3a"
             ],
             [
              0.8888888888888888,
              "#fdca26"
             ],
             [
              1,
              "#f0f921"
             ]
            ],
            "type": "heatmap"
           }
          ],
          "heatmapgl": [
           {
            "colorbar": {
             "outlinewidth": 0,
             "ticks": ""
            },
            "colorscale": [
             [
              0,
              "#0d0887"
             ],
             [
              0.1111111111111111,
              "#46039f"
             ],
             [
              0.2222222222222222,
              "#7201a8"
             ],
             [
              0.3333333333333333,
              "#9c179e"
             ],
             [
              0.4444444444444444,
              "#bd3786"
             ],
             [
              0.5555555555555556,
              "#d8576b"
             ],
             [
              0.6666666666666666,
              "#ed7953"
             ],
             [
              0.7777777777777778,
              "#fb9f3a"
             ],
             [
              0.8888888888888888,
              "#fdca26"
             ],
             [
              1,
              "#f0f921"
             ]
            ],
            "type": "heatmapgl"
           }
          ],
          "histogram": [
           {
            "marker": {
             "pattern": {
              "fillmode": "overlay",
              "size": 10,
              "solidity": 0.2
             }
            },
            "type": "histogram"
           }
          ],
          "histogram2d": [
           {
            "colorbar": {
             "outlinewidth": 0,
             "ticks": ""
            },
            "colorscale": [
             [
              0,
              "#0d0887"
             ],
             [
              0.1111111111111111,
              "#46039f"
             ],
             [
              0.2222222222222222,
              "#7201a8"
             ],
             [
              0.3333333333333333,
              "#9c179e"
             ],
             [
              0.4444444444444444,
              "#bd3786"
             ],
             [
              0.5555555555555556,
              "#d8576b"
             ],
             [
              0.6666666666666666,
              "#ed7953"
             ],
             [
              0.7777777777777778,
              "#fb9f3a"
             ],
             [
              0.8888888888888888,
              "#fdca26"
             ],
             [
              1,
              "#f0f921"
             ]
            ],
            "type": "histogram2d"
           }
          ],
          "histogram2dcontour": [
           {
            "colorbar": {
             "outlinewidth": 0,
             "ticks": ""
            },
            "colorscale": [
             [
              0,
              "#0d0887"
             ],
             [
              0.1111111111111111,
              "#46039f"
             ],
             [
              0.2222222222222222,
              "#7201a8"
             ],
             [
              0.3333333333333333,
              "#9c179e"
             ],
             [
              0.4444444444444444,
              "#bd3786"
             ],
             [
              0.5555555555555556,
              "#d8576b"
             ],
             [
              0.6666666666666666,
              "#ed7953"
             ],
             [
              0.7777777777777778,
              "#fb9f3a"
             ],
             [
              0.8888888888888888,
              "#fdca26"
             ],
             [
              1,
              "#f0f921"
             ]
            ],
            "type": "histogram2dcontour"
           }
          ],
          "mesh3d": [
           {
            "colorbar": {
             "outlinewidth": 0,
             "ticks": ""
            },
            "type": "mesh3d"
           }
          ],
          "parcoords": [
           {
            "line": {
             "colorbar": {
              "outlinewidth": 0,
              "ticks": ""
             }
            },
            "type": "parcoords"
           }
          ],
          "pie": [
           {
            "automargin": true,
            "type": "pie"
           }
          ],
          "scatter": [
           {
            "fillpattern": {
             "fillmode": "overlay",
             "size": 10,
             "solidity": 0.2
            },
            "type": "scatter"
           }
          ],
          "scatter3d": [
           {
            "line": {
             "colorbar": {
              "outlinewidth": 0,
              "ticks": ""
             }
            },
            "marker": {
             "colorbar": {
              "outlinewidth": 0,
              "ticks": ""
             }
            },
            "type": "scatter3d"
           }
          ],
          "scattercarpet": [
           {
            "marker": {
             "colorbar": {
              "outlinewidth": 0,
              "ticks": ""
             }
            },
            "type": "scattercarpet"
           }
          ],
          "scattergeo": [
           {
            "marker": {
             "colorbar": {
              "outlinewidth": 0,
              "ticks": ""
             }
            },
            "type": "scattergeo"
           }
          ],
          "scattergl": [
           {
            "marker": {
             "colorbar": {
              "outlinewidth": 0,
              "ticks": ""
             }
            },
            "type": "scattergl"
           }
          ],
          "scattermapbox": [
           {
            "marker": {
             "colorbar": {
              "outlinewidth": 0,
              "ticks": ""
             }
            },
            "type": "scattermapbox"
           }
          ],
          "scatterpolar": [
           {
            "marker": {
             "colorbar": {
              "outlinewidth": 0,
              "ticks": ""
             }
            },
            "type": "scatterpolar"
           }
          ],
          "scatterpolargl": [
           {
            "marker": {
             "colorbar": {
              "outlinewidth": 0,
              "ticks": ""
             }
            },
            "type": "scatterpolargl"
           }
          ],
          "scatterternary": [
           {
            "marker": {
             "colorbar": {
              "outlinewidth": 0,
              "ticks": ""
             }
            },
            "type": "scatterternary"
           }
          ],
          "surface": [
           {
            "colorbar": {
             "outlinewidth": 0,
             "ticks": ""
            },
            "colorscale": [
             [
              0,
              "#0d0887"
             ],
             [
              0.1111111111111111,
              "#46039f"
             ],
             [
              0.2222222222222222,
              "#7201a8"
             ],
             [
              0.3333333333333333,
              "#9c179e"
             ],
             [
              0.4444444444444444,
              "#bd3786"
             ],
             [
              0.5555555555555556,
              "#d8576b"
             ],
             [
              0.6666666666666666,
              "#ed7953"
             ],
             [
              0.7777777777777778,
              "#fb9f3a"
             ],
             [
              0.8888888888888888,
              "#fdca26"
             ],
             [
              1,
              "#f0f921"
             ]
            ],
            "type": "surface"
           }
          ],
          "table": [
           {
            "cells": {
             "fill": {
              "color": "#EBF0F8"
             },
             "line": {
              "color": "white"
             }
            },
            "header": {
             "fill": {
              "color": "#C8D4E3"
             },
             "line": {
              "color": "white"
             }
            },
            "type": "table"
           }
          ]
         },
         "layout": {
          "annotationdefaults": {
           "arrowcolor": "#2a3f5f",
           "arrowhead": 0,
           "arrowwidth": 1
          },
          "autotypenumbers": "strict",
          "coloraxis": {
           "colorbar": {
            "outlinewidth": 0,
            "ticks": ""
           }
          },
          "colorscale": {
           "diverging": [
            [
             0,
             "#8e0152"
            ],
            [
             0.1,
             "#c51b7d"
            ],
            [
             0.2,
             "#de77ae"
            ],
            [
             0.3,
             "#f1b6da"
            ],
            [
             0.4,
             "#fde0ef"
            ],
            [
             0.5,
             "#f7f7f7"
            ],
            [
             0.6,
             "#e6f5d0"
            ],
            [
             0.7,
             "#b8e186"
            ],
            [
             0.8,
             "#7fbc41"
            ],
            [
             0.9,
             "#4d9221"
            ],
            [
             1,
             "#276419"
            ]
           ],
           "sequential": [
            [
             0,
             "#0d0887"
            ],
            [
             0.1111111111111111,
             "#46039f"
            ],
            [
             0.2222222222222222,
             "#7201a8"
            ],
            [
             0.3333333333333333,
             "#9c179e"
            ],
            [
             0.4444444444444444,
             "#bd3786"
            ],
            [
             0.5555555555555556,
             "#d8576b"
            ],
            [
             0.6666666666666666,
             "#ed7953"
            ],
            [
             0.7777777777777778,
             "#fb9f3a"
            ],
            [
             0.8888888888888888,
             "#fdca26"
            ],
            [
             1,
             "#f0f921"
            ]
           ],
           "sequentialminus": [
            [
             0,
             "#0d0887"
            ],
            [
             0.1111111111111111,
             "#46039f"
            ],
            [
             0.2222222222222222,
             "#7201a8"
            ],
            [
             0.3333333333333333,
             "#9c179e"
            ],
            [
             0.4444444444444444,
             "#bd3786"
            ],
            [
             0.5555555555555556,
             "#d8576b"
            ],
            [
             0.6666666666666666,
             "#ed7953"
            ],
            [
             0.7777777777777778,
             "#fb9f3a"
            ],
            [
             0.8888888888888888,
             "#fdca26"
            ],
            [
             1,
             "#f0f921"
            ]
           ]
          },
          "colorway": [
           "#636efa",
           "#EF553B",
           "#00cc96",
           "#ab63fa",
           "#FFA15A",
           "#19d3f3",
           "#FF6692",
           "#B6E880",
           "#FF97FF",
           "#FECB52"
          ],
          "font": {
           "color": "#2a3f5f"
          },
          "geo": {
           "bgcolor": "white",
           "lakecolor": "white",
           "landcolor": "#E5ECF6",
           "showlakes": true,
           "showland": true,
           "subunitcolor": "white"
          },
          "hoverlabel": {
           "align": "left"
          },
          "hovermode": "closest",
          "mapbox": {
           "style": "light"
          },
          "paper_bgcolor": "white",
          "plot_bgcolor": "#E5ECF6",
          "polar": {
           "angularaxis": {
            "gridcolor": "white",
            "linecolor": "white",
            "ticks": ""
           },
           "bgcolor": "#E5ECF6",
           "radialaxis": {
            "gridcolor": "white",
            "linecolor": "white",
            "ticks": ""
           }
          },
          "scene": {
           "xaxis": {
            "backgroundcolor": "#E5ECF6",
            "gridcolor": "white",
            "gridwidth": 2,
            "linecolor": "white",
            "showbackground": true,
            "ticks": "",
            "zerolinecolor": "white"
           },
           "yaxis": {
            "backgroundcolor": "#E5ECF6",
            "gridcolor": "white",
            "gridwidth": 2,
            "linecolor": "white",
            "showbackground": true,
            "ticks": "",
            "zerolinecolor": "white"
           },
           "zaxis": {
            "backgroundcolor": "#E5ECF6",
            "gridcolor": "white",
            "gridwidth": 2,
            "linecolor": "white",
            "showbackground": true,
            "ticks": "",
            "zerolinecolor": "white"
           }
          },
          "shapedefaults": {
           "line": {
            "color": "#2a3f5f"
           }
          },
          "ternary": {
           "aaxis": {
            "gridcolor": "white",
            "linecolor": "white",
            "ticks": ""
           },
           "baxis": {
            "gridcolor": "white",
            "linecolor": "white",
            "ticks": ""
           },
           "bgcolor": "#E5ECF6",
           "caxis": {
            "gridcolor": "white",
            "linecolor": "white",
            "ticks": ""
           }
          },
          "title": {
           "x": 0.05
          },
          "xaxis": {
           "automargin": true,
           "gridcolor": "white",
           "linecolor": "white",
           "ticks": "",
           "title": {
            "standoff": 15
           },
           "zerolinecolor": "white",
           "zerolinewidth": 2
          },
          "yaxis": {
           "automargin": true,
           "gridcolor": "white",
           "linecolor": "white",
           "ticks": "",
           "title": {
            "standoff": 15
           },
           "zerolinecolor": "white",
           "zerolinewidth": 2
          }
         }
        },
        "title": {
         "text": "treemap column: ecoscore_tags"
        }
       }
      }
     },
     "metadata": {},
     "output_type": "display_data"
    },
    {
     "data": {
      "application/vnd.plotly.v1+json": {
       "config": {
        "plotlyServerURL": "https://plot.ly"
       },
       "data": [
        {
         "labels": [
          79,
          67,
          72,
          34,
          49,
          0,
          77,
          21,
          39,
          42,
          75,
          27,
          50,
          15,
          37,
          43,
          60,
          44,
          76,
          36,
          78,
          54,
          25,
          12,
          45,
          38,
          19,
          35,
          74,
          100,
          64,
          70,
          68,
          62,
          71,
          30,
          16,
          22,
          58,
          57,
          55,
          18,
          73,
          59,
          51,
          29,
          66,
          48,
          47,
          40,
          32,
          28,
          69,
          4,
          53,
          23,
          52,
          41,
          56,
          31,
          63,
          65,
          24,
          9,
          46,
          26,
          33,
          2,
          20,
          17,
          6,
          14,
          8,
          5,
          61,
          81,
          3,
          85,
          13,
          80,
          91,
          1,
          83,
          82,
          90,
          11,
          84,
          10,
          88,
          89,
          92,
          94,
          87,
          93,
          7,
          86,
          96,
          95,
          99,
          97,
          98,
          78.4170138324
         ],
         "parents": [
          "",
          "",
          "",
          "",
          "",
          "",
          "",
          "",
          "",
          "",
          "",
          "",
          "",
          "",
          "",
          "",
          "",
          "",
          "",
          "",
          "",
          "",
          "",
          "",
          "",
          "",
          "",
          "",
          "",
          "",
          "",
          "",
          "",
          "",
          "",
          "",
          "",
          "",
          "",
          "",
          "",
          "",
          "",
          "",
          "",
          "",
          "",
          "",
          "",
          "",
          "",
          "",
          "",
          "",
          "",
          "",
          "",
          "",
          "",
          "",
          "",
          "",
          "",
          "",
          "",
          "",
          "",
          "",
          "",
          "",
          "",
          "",
          "",
          "",
          "",
          "",
          "",
          "",
          "",
          "",
          "",
          "",
          "",
          "",
          "",
          "",
          "",
          "",
          "",
          "",
          "",
          "",
          "",
          "",
          "",
          "",
          "",
          "",
          "",
          "",
          "",
          ""
         ],
         "textinfo": "label+value",
         "type": "treemap",
         "values": [
          59928,
          43342,
          31988,
          29585,
          21132,
          20015,
          17283,
          16126,
          15986,
          15280,
          14986,
          14607,
          14090,
          13914,
          13269,
          12500,
          12331,
          12323,
          11950,
          11576,
          11519,
          11395,
          11183,
          10749,
          10598,
          10379,
          10374,
          10310,
          10169,
          9947,
          9683,
          9251,
          9119,
          9097,
          8987,
          8838,
          8763,
          8400,
          8244,
          7886,
          7522,
          7316,
          7061,
          7038,
          6900,
          6891,
          6884,
          6785,
          6753,
          6670,
          6601,
          6208,
          6176,
          6134,
          6110,
          5757,
          5580,
          5390,
          5375,
          5165,
          5090,
          5066,
          4822,
          4526,
          4185,
          4135,
          3984,
          3787,
          3770,
          3642,
          3507,
          3257,
          3201,
          3184,
          2952,
          2799,
          2595,
          2576,
          2363,
          2294,
          2159,
          2130,
          2068,
          1938,
          1686,
          1537,
          1414,
          1411,
          1401,
          1288,
          1278,
          1186,
          1166,
          1083,
          983,
          970,
          846,
          835,
          799,
          685,
          671,
          1
         ]
        }
       ],
       "layout": {
        "font": {
         "color": "white"
        },
        "paper_bgcolor": "black",
        "plot_bgcolor": "grey",
        "template": {
         "data": {
          "bar": [
           {
            "error_x": {
             "color": "#2a3f5f"
            },
            "error_y": {
             "color": "#2a3f5f"
            },
            "marker": {
             "line": {
              "color": "#E5ECF6",
              "width": 0.5
             },
             "pattern": {
              "fillmode": "overlay",
              "size": 10,
              "solidity": 0.2
             }
            },
            "type": "bar"
           }
          ],
          "barpolar": [
           {
            "marker": {
             "line": {
              "color": "#E5ECF6",
              "width": 0.5
             },
             "pattern": {
              "fillmode": "overlay",
              "size": 10,
              "solidity": 0.2
             }
            },
            "type": "barpolar"
           }
          ],
          "carpet": [
           {
            "aaxis": {
             "endlinecolor": "#2a3f5f",
             "gridcolor": "white",
             "linecolor": "white",
             "minorgridcolor": "white",
             "startlinecolor": "#2a3f5f"
            },
            "baxis": {
             "endlinecolor": "#2a3f5f",
             "gridcolor": "white",
             "linecolor": "white",
             "minorgridcolor": "white",
             "startlinecolor": "#2a3f5f"
            },
            "type": "carpet"
           }
          ],
          "choropleth": [
           {
            "colorbar": {
             "outlinewidth": 0,
             "ticks": ""
            },
            "type": "choropleth"
           }
          ],
          "contour": [
           {
            "colorbar": {
             "outlinewidth": 0,
             "ticks": ""
            },
            "colorscale": [
             [
              0,
              "#0d0887"
             ],
             [
              0.1111111111111111,
              "#46039f"
             ],
             [
              0.2222222222222222,
              "#7201a8"
             ],
             [
              0.3333333333333333,
              "#9c179e"
             ],
             [
              0.4444444444444444,
              "#bd3786"
             ],
             [
              0.5555555555555556,
              "#d8576b"
             ],
             [
              0.6666666666666666,
              "#ed7953"
             ],
             [
              0.7777777777777778,
              "#fb9f3a"
             ],
             [
              0.8888888888888888,
              "#fdca26"
             ],
             [
              1,
              "#f0f921"
             ]
            ],
            "type": "contour"
           }
          ],
          "contourcarpet": [
           {
            "colorbar": {
             "outlinewidth": 0,
             "ticks": ""
            },
            "type": "contourcarpet"
           }
          ],
          "heatmap": [
           {
            "colorbar": {
             "outlinewidth": 0,
             "ticks": ""
            },
            "colorscale": [
             [
              0,
              "#0d0887"
             ],
             [
              0.1111111111111111,
              "#46039f"
             ],
             [
              0.2222222222222222,
              "#7201a8"
             ],
             [
              0.3333333333333333,
              "#9c179e"
             ],
             [
              0.4444444444444444,
              "#bd3786"
             ],
             [
              0.5555555555555556,
              "#d8576b"
             ],
             [
              0.6666666666666666,
              "#ed7953"
             ],
             [
              0.7777777777777778,
              "#fb9f3a"
             ],
             [
              0.8888888888888888,
              "#fdca26"
             ],
             [
              1,
              "#f0f921"
             ]
            ],
            "type": "heatmap"
           }
          ],
          "heatmapgl": [
           {
            "colorbar": {
             "outlinewidth": 0,
             "ticks": ""
            },
            "colorscale": [
             [
              0,
              "#0d0887"
             ],
             [
              0.1111111111111111,
              "#46039f"
             ],
             [
              0.2222222222222222,
              "#7201a8"
             ],
             [
              0.3333333333333333,
              "#9c179e"
             ],
             [
              0.4444444444444444,
              "#bd3786"
             ],
             [
              0.5555555555555556,
              "#d8576b"
             ],
             [
              0.6666666666666666,
              "#ed7953"
             ],
             [
              0.7777777777777778,
              "#fb9f3a"
             ],
             [
              0.8888888888888888,
              "#fdca26"
             ],
             [
              1,
              "#f0f921"
             ]
            ],
            "type": "heatmapgl"
           }
          ],
          "histogram": [
           {
            "marker": {
             "pattern": {
              "fillmode": "overlay",
              "size": 10,
              "solidity": 0.2
             }
            },
            "type": "histogram"
           }
          ],
          "histogram2d": [
           {
            "colorbar": {
             "outlinewidth": 0,
             "ticks": ""
            },
            "colorscale": [
             [
              0,
              "#0d0887"
             ],
             [
              0.1111111111111111,
              "#46039f"
             ],
             [
              0.2222222222222222,
              "#7201a8"
             ],
             [
              0.3333333333333333,
              "#9c179e"
             ],
             [
              0.4444444444444444,
              "#bd3786"
             ],
             [
              0.5555555555555556,
              "#d8576b"
             ],
             [
              0.6666666666666666,
              "#ed7953"
             ],
             [
              0.7777777777777778,
              "#fb9f3a"
             ],
             [
              0.8888888888888888,
              "#fdca26"
             ],
             [
              1,
              "#f0f921"
             ]
            ],
            "type": "histogram2d"
           }
          ],
          "histogram2dcontour": [
           {
            "colorbar": {
             "outlinewidth": 0,
             "ticks": ""
            },
            "colorscale": [
             [
              0,
              "#0d0887"
             ],
             [
              0.1111111111111111,
              "#46039f"
             ],
             [
              0.2222222222222222,
              "#7201a8"
             ],
             [
              0.3333333333333333,
              "#9c179e"
             ],
             [
              0.4444444444444444,
              "#bd3786"
             ],
             [
              0.5555555555555556,
              "#d8576b"
             ],
             [
              0.6666666666666666,
              "#ed7953"
             ],
             [
              0.7777777777777778,
              "#fb9f3a"
             ],
             [
              0.8888888888888888,
              "#fdca26"
             ],
             [
              1,
              "#f0f921"
             ]
            ],
            "type": "histogram2dcontour"
           }
          ],
          "mesh3d": [
           {
            "colorbar": {
             "outlinewidth": 0,
             "ticks": ""
            },
            "type": "mesh3d"
           }
          ],
          "parcoords": [
           {
            "line": {
             "colorbar": {
              "outlinewidth": 0,
              "ticks": ""
             }
            },
            "type": "parcoords"
           }
          ],
          "pie": [
           {
            "automargin": true,
            "type": "pie"
           }
          ],
          "scatter": [
           {
            "fillpattern": {
             "fillmode": "overlay",
             "size": 10,
             "solidity": 0.2
            },
            "type": "scatter"
           }
          ],
          "scatter3d": [
           {
            "line": {
             "colorbar": {
              "outlinewidth": 0,
              "ticks": ""
             }
            },
            "marker": {
             "colorbar": {
              "outlinewidth": 0,
              "ticks": ""
             }
            },
            "type": "scatter3d"
           }
          ],
          "scattercarpet": [
           {
            "marker": {
             "colorbar": {
              "outlinewidth": 0,
              "ticks": ""
             }
            },
            "type": "scattercarpet"
           }
          ],
          "scattergeo": [
           {
            "marker": {
             "colorbar": {
              "outlinewidth": 0,
              "ticks": ""
             }
            },
            "type": "scattergeo"
           }
          ],
          "scattergl": [
           {
            "marker": {
             "colorbar": {
              "outlinewidth": 0,
              "ticks": ""
             }
            },
            "type": "scattergl"
           }
          ],
          "scattermapbox": [
           {
            "marker": {
             "colorbar": {
              "outlinewidth": 0,
              "ticks": ""
             }
            },
            "type": "scattermapbox"
           }
          ],
          "scatterpolar": [
           {
            "marker": {
             "colorbar": {
              "outlinewidth": 0,
              "ticks": ""
             }
            },
            "type": "scatterpolar"
           }
          ],
          "scatterpolargl": [
           {
            "marker": {
             "colorbar": {
              "outlinewidth": 0,
              "ticks": ""
             }
            },
            "type": "scatterpolargl"
           }
          ],
          "scatterternary": [
           {
            "marker": {
             "colorbar": {
              "outlinewidth": 0,
              "ticks": ""
             }
            },
            "type": "scatterternary"
           }
          ],
          "surface": [
           {
            "colorbar": {
             "outlinewidth": 0,
             "ticks": ""
            },
            "colorscale": [
             [
              0,
              "#0d0887"
             ],
             [
              0.1111111111111111,
              "#46039f"
             ],
             [
              0.2222222222222222,
              "#7201a8"
             ],
             [
              0.3333333333333333,
              "#9c179e"
             ],
             [
              0.4444444444444444,
              "#bd3786"
             ],
             [
              0.5555555555555556,
              "#d8576b"
             ],
             [
              0.6666666666666666,
              "#ed7953"
             ],
             [
              0.7777777777777778,
              "#fb9f3a"
             ],
             [
              0.8888888888888888,
              "#fdca26"
             ],
             [
              1,
              "#f0f921"
             ]
            ],
            "type": "surface"
           }
          ],
          "table": [
           {
            "cells": {
             "fill": {
              "color": "#EBF0F8"
             },
             "line": {
              "color": "white"
             }
            },
            "header": {
             "fill": {
              "color": "#C8D4E3"
             },
             "line": {
              "color": "white"
             }
            },
            "type": "table"
           }
          ]
         },
         "layout": {
          "annotationdefaults": {
           "arrowcolor": "#2a3f5f",
           "arrowhead": 0,
           "arrowwidth": 1
          },
          "autotypenumbers": "strict",
          "coloraxis": {
           "colorbar": {
            "outlinewidth": 0,
            "ticks": ""
           }
          },
          "colorscale": {
           "diverging": [
            [
             0,
             "#8e0152"
            ],
            [
             0.1,
             "#c51b7d"
            ],
            [
             0.2,
             "#de77ae"
            ],
            [
             0.3,
             "#f1b6da"
            ],
            [
             0.4,
             "#fde0ef"
            ],
            [
             0.5,
             "#f7f7f7"
            ],
            [
             0.6,
             "#e6f5d0"
            ],
            [
             0.7,
             "#b8e186"
            ],
            [
             0.8,
             "#7fbc41"
            ],
            [
             0.9,
             "#4d9221"
            ],
            [
             1,
             "#276419"
            ]
           ],
           "sequential": [
            [
             0,
             "#0d0887"
            ],
            [
             0.1111111111111111,
             "#46039f"
            ],
            [
             0.2222222222222222,
             "#7201a8"
            ],
            [
             0.3333333333333333,
             "#9c179e"
            ],
            [
             0.4444444444444444,
             "#bd3786"
            ],
            [
             0.5555555555555556,
             "#d8576b"
            ],
            [
             0.6666666666666666,
             "#ed7953"
            ],
            [
             0.7777777777777778,
             "#fb9f3a"
            ],
            [
             0.8888888888888888,
             "#fdca26"
            ],
            [
             1,
             "#f0f921"
            ]
           ],
           "sequentialminus": [
            [
             0,
             "#0d0887"
            ],
            [
             0.1111111111111111,
             "#46039f"
            ],
            [
             0.2222222222222222,
             "#7201a8"
            ],
            [
             0.3333333333333333,
             "#9c179e"
            ],
            [
             0.4444444444444444,
             "#bd3786"
            ],
            [
             0.5555555555555556,
             "#d8576b"
            ],
            [
             0.6666666666666666,
             "#ed7953"
            ],
            [
             0.7777777777777778,
             "#fb9f3a"
            ],
            [
             0.8888888888888888,
             "#fdca26"
            ],
            [
             1,
             "#f0f921"
            ]
           ]
          },
          "colorway": [
           "#636efa",
           "#EF553B",
           "#00cc96",
           "#ab63fa",
           "#FFA15A",
           "#19d3f3",
           "#FF6692",
           "#B6E880",
           "#FF97FF",
           "#FECB52"
          ],
          "font": {
           "color": "#2a3f5f"
          },
          "geo": {
           "bgcolor": "white",
           "lakecolor": "white",
           "landcolor": "#E5ECF6",
           "showlakes": true,
           "showland": true,
           "subunitcolor": "white"
          },
          "hoverlabel": {
           "align": "left"
          },
          "hovermode": "closest",
          "mapbox": {
           "style": "light"
          },
          "paper_bgcolor": "white",
          "plot_bgcolor": "#E5ECF6",
          "polar": {
           "angularaxis": {
            "gridcolor": "white",
            "linecolor": "white",
            "ticks": ""
           },
           "bgcolor": "#E5ECF6",
           "radialaxis": {
            "gridcolor": "white",
            "linecolor": "white",
            "ticks": ""
           }
          },
          "scene": {
           "xaxis": {
            "backgroundcolor": "#E5ECF6",
            "gridcolor": "white",
            "gridwidth": 2,
            "linecolor": "white",
            "showbackground": true,
            "ticks": "",
            "zerolinecolor": "white"
           },
           "yaxis": {
            "backgroundcolor": "#E5ECF6",
            "gridcolor": "white",
            "gridwidth": 2,
            "linecolor": "white",
            "showbackground": true,
            "ticks": "",
            "zerolinecolor": "white"
           },
           "zaxis": {
            "backgroundcolor": "#E5ECF6",
            "gridcolor": "white",
            "gridwidth": 2,
            "linecolor": "white",
            "showbackground": true,
            "ticks": "",
            "zerolinecolor": "white"
           }
          },
          "shapedefaults": {
           "line": {
            "color": "#2a3f5f"
           }
          },
          "ternary": {
           "aaxis": {
            "gridcolor": "white",
            "linecolor": "white",
            "ticks": ""
           },
           "baxis": {
            "gridcolor": "white",
            "linecolor": "white",
            "ticks": ""
           },
           "bgcolor": "#E5ECF6",
           "caxis": {
            "gridcolor": "white",
            "linecolor": "white",
            "ticks": ""
           }
          },
          "title": {
           "x": 0.05
          },
          "xaxis": {
           "automargin": true,
           "gridcolor": "white",
           "linecolor": "white",
           "ticks": "",
           "title": {
            "standoff": 15
           },
           "zerolinecolor": "white",
           "zerolinewidth": 2
          },
          "yaxis": {
           "automargin": true,
           "gridcolor": "white",
           "linecolor": "white",
           "ticks": "",
           "title": {
            "standoff": 15
           },
           "zerolinecolor": "white",
           "zerolinewidth": 2
          }
         }
        },
        "title": {
         "text": "treemap column: ecoscore_score"
        }
       }
      }
     },
     "metadata": {},
     "output_type": "display_data"
    },
    {
     "data": {
      "application/vnd.plotly.v1+json": {
       "config": {
        "plotlyServerURL": "https://plot.ly"
       },
       "data": [
        {
         "labels": [
          1,
          0.3114754098,
          0.8743169399,
          0,
          0.3333333333,
          0.4316939891,
          0.9945355191,
          0.2960893855,
          0.1584699454,
          0.2544378698,
          0.2881355932,
          0.0765027322,
          0.9016393443,
          0.4207650273,
          0.0327868852,
          0.9734042553,
          0.4189944134,
          0.8715083799,
          0.3152173913,
          0.3031914894,
          0.320754717,
          0.3184357542,
          0.6557377049,
          0.420212766,
          0.3015873016,
          0.1818181818,
          0.4347826087,
          0.4124293785,
          0.1147540984,
          0.7431693989,
          0.3244680851,
          0.7650273224,
          0.2786885246,
          0.8510638298,
          0.7595628415,
          0.2847682119,
          0.9625,
          0.2945205479,
          0.9944134078,
          0.8994413408,
          0.4426229508,
          0.6229508197,
          0.7486338798,
          0.8961748634,
          0.3989071038,
          0.3107344633,
          0.1396648045,
          0.9680851064,
          0.5901639344,
          0.0218579235,
          0.1256830601,
          0.8639053254,
          0.1542553191,
          0.6885245902,
          0.306010929,
          0.5355191257,
          0.0382513661,
          0.2781065089,
          0.3369565217,
          0.0558659218,
          0.9682539683,
          0.875,
          0.2349726776,
          0.2295081967,
          0.3,
          0.8465608466,
          0.5300546448,
          0.9945652174,
          0.3227513228,
          0.9289617486,
          0.8087431694,
          0.8988095238,
          0.4095744681,
          0.2857142857,
          0.3879781421,
          0.0815217391,
          0.417989418,
          0.6612021858,
          0.2921348315,
          0.3081081081,
          0.8700564972,
          0.0319148936,
          0.4078212291,
          0.9943502825,
          0.3085714286,
          0.2834224599,
          0.8633879781,
          0.0111731844,
          0.8736263736,
          0.3076923077,
          0.2864864865,
          0.1630434783,
          0.8776595745,
          0.8360655738,
          0.9675675676,
          0.255952381,
          0.737704918,
          0.4043715847,
          0.3442622951,
          0.8983050847,
          0.972826087,
          0.9889502762,
          0.3097826087,
          0.0744680851,
          0.1857923497,
          0.4293478261,
          0.9891891892,
          0.9890710383,
          0.962962963,
          0.2880434783,
          0.9617486339,
          0.4262295082,
          0.9685863874,
          0.8342245989,
          0.174863388,
          0.3945945946,
          0.2131147541,
          0.7584269663,
          0.9836065574,
          0.1299435028,
          0.902173913,
          0.8415300546,
          0.8196721311,
          0.6480446927,
          0.4378378378,
          0.5762711864,
          0.4143646409,
          0.1534391534,
          0.3149171271,
          0.5519125683,
          0.2928176796,
          0.3089005236,
          0.427027027,
          0.3189189189,
          0.0740740741,
          0.3405405405,
          0.4076086957,
          0.0736842105,
          0.9935064935,
          0.7540983607,
          0.1117021277,
          0.9621621622,
          0.956284153,
          0.873015873,
          0.0451977401,
          0.3297297297,
          0.0380434783,
          0.8695652174,
          0.9943820225,
          0.6382978723,
          0.8934911243,
          0.8648648649,
          0.8926553672,
          0.094972067,
          0.4308510638,
          0.7374301676,
          0.8756756757,
          0.4153005464,
          0.4808743169,
          0.3298429319,
          0.4162162162,
          0.0317460317,
          0.0918918919,
          0.4239130435,
          0.8421052632,
          0.7234042553,
          0.3846153846,
          0.9572192513,
          0.861878453,
          0.8938547486,
          0.262295082,
          0.847826087,
          0.8432432432,
          0.8684210526,
          0.4301675978,
          0.7430167598,
          0.4074074074,
          0.4011299435,
          0.5251396648,
          0.218579235,
          0.9940828402,
          0.4054054054,
          0.0714285714,
          0.4136125654,
          0.3146067416,
          0.3315217391,
          0.9273743017,
          0.6145251397,
          0.3210526316,
          0.9633507853,
          0.0167597765,
          0.6272189349,
          0.0108108108,
          0.2905027933,
          0.8723404255,
          0.6815642458,
          0.8469945355,
          0.138121547,
          0.5810055866,
          0.1223404255,
          0.9672131148,
          0.9891304348,
          0.7446808511,
          0.1336898396,
          0.2978723404,
          0.3005464481,
          0.5573770492,
          0.7541899441,
          0.670212766,
          0.2122905028,
          0.4010695187,
          0.3882978723,
          0.1358695652,
          0.2841530055,
          0.1675675676,
          0.627027027,
          0.7278106509,
          0.5212765957,
          0.6436170213,
          0.0983606557,
          0.217877095,
          0.1567567568,
          0.175,
          0.9518716578,
          0.1061452514,
          0.7393617021,
          0.1351351351,
          0.9945945946,
          0.9673913043,
          0.5744680851,
          0.1576086957,
          0.7597765363,
          0.9945054945,
          0.0372340426,
          0.5027322404,
          0.9837837838,
          0.7340425532,
          0.6063829787,
          0.0212765957,
          0.0534759358,
          0.9834254144,
          0.8967391304,
          0.7287234043,
          0.2240437158,
          0.7103825137,
          0.7195767196,
          0.8481675393,
          0.3854748603,
          0.0108695652,
          0.9631578947,
          0.7351351351,
          0.6536312849,
          0.372972973,
          0.7322404372,
          0.4345549738,
          0.6576086957,
          0.393442623,
          0.7354497354,
          0.2287234043,
          0.9010989011,
          0.6349206349,
          0.0324324324,
          0.4269662921,
          0.1204188482,
          0.3296703297,
          0.8603351955,
          0.0054644809,
          0.4184782609,
          0.8047337278,
          0.2234042553,
          0.3048128342,
          0.8404255319,
          0.1538461538,
          0.4285714286,
          0.8702702703,
          0.9027027027,
          0.6010928962,
          0.2108108108,
          0.1656804734,
          0.156424581,
          0.0432432432,
          0.4240837696,
          0.8947368421,
          0.6779661017,
          0.7158469945,
          0.8895027624,
          0.8609625668,
          0.827027027,
          0.3278688525,
          0.1623036649,
          0.9578947368,
          0.3661202186,
          0.0418848168,
          0.3967391304,
          0.7872340426,
          0.6440677966,
          0.8108108108,
          0.5714285714,
          0.6594594595,
          0.1675977654,
          0.7570621469,
          0.0162162162,
          0.2797619048,
          0.9042553191,
          0.2076502732,
          0.7297297297,
          0.7445652174,
          0.5195530726,
          0.6387434555,
          0.3296089385,
          0.2810810811,
          0.7135135135,
          0.4033149171,
          0.043715847,
          0.9361702128,
          0.1808510638,
          0.5185185185,
          0.1243243243,
          0.6994535519,
          0.7608695652,
          0.0760869565,
          0.8138297872,
          0.5132275132,
          0.625,
          0.9619565217,
          0.3936170213,
          0.0543478261,
          0.374301676,
          0.0056497175,
          0.8918918919,
          0.5380434783,
          0.0552486188,
          0.0110497238,
          0.75,
          0.5683060109,
          0.5159574468,
          0.0710382514,
          0.0054347826,
          0.2356020942,
          0.2553191489,
          0.8743455497,
          0.2074468085,
          0.4098360656,
          0.6031746032,
          0.1525423729,
          0.8044692737,
          0.8691099476,
          0.335106383,
          0.0960451977,
          0.9028571429,
          0.1111111111,
          0.912568306,
          0.9627659574,
          0.402173913,
          0.037037037,
          0.1202185792,
          0.7434554974,
          0.0756756757,
          0.2824858757,
          0.7248677249,
          0.0326086957,
          0.868852459,
          0.1216931217,
          0.0864864865,
          0.209039548,
          0.2033898305,
          0.170212766,
          0.5846994536,
          0.347826087,
          0.8994708995,
          0.2950819672,
          0.5621621622,
          0.3862433862,
          0.8677248677,
          0.9608938547,
          0.1304347826,
          0.2275132275,
          0.2336956522,
          0.5081081081,
          0.6902173913,
          0.3036649215,
          0.7407407407,
          0.5372340426,
          0.0434782609,
          0.2282608696,
          0.2513661202,
          0.722513089,
          0.8907103825,
          0.8142076503,
          0.1526315789,
          0.7401129944,
          0.7189189189,
          0.027173913,
          0.9101123596,
          0.512987013,
          0.7783783784,
          0.4157894737,
          0.8324324324,
          0.6324324324,
          0.5326086957,
          0.4052631579,
          0.0887573964,
          0.5923913043,
          0.3926701571,
          0.7663043478,
          0.7344632768,
          0.308988764,
          0.0211640212,
          0.6701570681,
          0.2222222222,
          0.7514124294,
          0.0315789474,
          0.2962962963,
          0.3776595745,
          0.1955307263,
          0.7318435754,
          0.6315789474,
          0.2568306011,
          0.0106951872,
          0.7127659574,
          0.2054054054,
          0.9553072626,
          0.1308900524,
          0.5197740113,
          0.8324022346,
          0.6666666667,
          0.7830687831,
          0.8052631579,
          0.0471204188,
          0.1475409836,
          0.0540540541,
          0.6101694915,
          0.1902173913,
          0.5191256831,
          0.0837696335,
          0.1803278689,
          0.3756613757,
          0.1027027027,
          0.9293478261,
          0.2765957447,
          0.4126984127,
          0.835978836,
          0.1693121693,
          0.3672316384,
          0.8376963351,
          0.4042553191,
          0.4680851064,
          0.8972972973,
          0.5945945946,
          0.6630434783,
          0.9888268156,
          0.8115183246,
          0.802259887,
          0.7853403141,
          0.7172774869,
          0.6402116402,
          0.5054347826,
          0.9581151832,
          0.9548022599,
          0.3785310734,
          0.4,
          0.25,
          0.5027027027,
          0.414893617,
          0.1195652174,
          0.7277486911,
          0.1105263158,
          0.6486486486,
          0.8095238095,
          0.7455621302,
          0.4237288136,
          0.9312169312,
          0.7157894737,
          0.3837837838,
          0.4456521739,
          0.2378378378,
          0.2127659574,
          0.7978723404,
          0.4480874317,
          0.7513513514,
          0.4134078212,
          0.1798941799,
          0.8097826087,
          0.8054054054,
          0.5168539326,
          0.8875739645,
          0.5759162304,
          0.95625,
          0.7058823529,
          0.4535519126,
          0.0847457627,
          0.7391304348,
          0.9920634921,
          0.9576719577,
          0.0210526316,
          0.2594594595,
          0.406779661,
          0.3551912568,
          0.7554347826,
          0.2780748663,
          0.4263157895,
          0.186440678,
          0.1135135135,
          0.7180851064,
          0.3783783784,
          0.3913043478,
          0.3915343915,
          0.6830601093,
          0.8797814208,
          0.1945945946,
          0.6439790576,
          0.652173913,
          0.0314136126,
          0.5157894737,
          0.7112299465,
          0.9567567568,
          0.3715846995,
          0.4893617021,
          0.7396449704,
          0.5078534031,
          0.869047619,
          0.2458100559,
          0.312849162,
          0.2077922078,
          0.8988764045,
          0.2021276596,
          0.7173913043,
          0.8148148148,
          0.9297297297,
          0.6304347826,
          0.5235602094,
          0.4022346369,
          0.9537037037,
          0.813559322,
          0.3135135135,
          0.2303664921,
          0.5652173913,
          0.8831168831,
          0.6208791209,
          0.8587570621,
          0.3910614525,
          0.9585798817,
          0.0274725275,
          0.7262569832,
          0.2677595628,
          0.8631578947,
          0.1530054645,
          0.988700565,
          0.227027027,
          0.3027027027,
          0.0785340314,
          0.4188481675,
          0.722826087,
          0.2173913043,
          0.5882352941,
          0.6203208556,
          0.4970414201,
          0.3903743316,
          0.2119565217,
          0.2391304348,
          0.7459459459,
          0.2827225131,
          0.5243243243,
          0.3829787234,
          0.6775956284,
          0.3513513514,
          0.6847826087,
          0.5561497326,
          0.8156424581,
          0.2011173184,
          0.6968085106,
          0.5193370166,
          0.1832460733,
          0.6864864865,
          0.9574468085,
          0.6408839779,
          0.8174603175,
          0.3825136612,
          0.6077348066,
          0.7405405405,
          0.6,
          0.3191489362,
          0.7142857143,
          0.032967033,
          0.9005235602,
          0.0782122905,
          0.8641304348,
          0.8032786885,
          0.2681564246,
          0.2063492063,
          0.8191489362,
          0.0378378378,
          0.7368421053,
          0.597826087,
          0.9513513514,
          0.7675675676,
          0.7336956522,
          0.0531914894,
          0.0056179775,
          0.1513513514,
          0.0368421053,
          0.0505617978,
          0.0491803279,
          0.4361702128,
          0.7267759563,
          0.1141304348,
          0.04,
          0.3155080214,
          0.2372881356,
          0.7039106145,
          0.3621621622,
          0.4114285714,
          0.3979057592,
          0.8579234973,
          0.3891891892,
          0.1621621622,
          0.2324324324,
          0.7621621622,
          0.4254143646,
          0.8877005348,
          0.5297297297,
          0.5108695652,
          0.9259259259,
          0.0217391304,
          0.6810810811,
          0.4402173913,
          0.5405405405,
          0.0546448087,
          0.8244680851,
          0.5351351351,
          0.7458563536,
          0.5026737968,
          0.8864864865,
          0.9243243243,
          0.0335195531,
          0.7210526316,
          0.7382198953,
          0.7272727273,
          0.0957446809,
          0.4836956522,
          0.7789473684,
          0.2446808511,
          0.131147541,
          0.8378378378,
          0.1891891892,
          0.3050847458,
          0.9831460674,
          0.9832402235,
          0.0939226519,
          0.4486486486,
          0.6918918919,
          0.9285714286,
          0.5343915344,
          0.6497175141,
          0.8162162162,
          0.1587301587,
          0.7891891892,
          0.9523809524,
          0.0486486486,
          0.8379888268,
          0.3459119497,
          0.8742857143,
          0.6162162162,
          0.3403141361,
          0.3727810651,
          0.1049723757,
          0.8369565217,
          0.3812154696,
          0.1871657754,
          0.5418994413,
          0.2346368715,
          0.9565217391,
          0.9308510638,
          0.1807909605,
          0.2947368421,
          0.3206521739,
          0.4916201117,
          0.0160427807,
          0.5869565217,
          0.7303370787,
          0.729281768,
          0.7315789474,
          0.7081081081,
          0.6740331492,
          0.469273743,
          0.5684210526,
          0.6195652174,
          0.2702702703,
          0.532967033,
          0.1780104712,
          0.1847826087,
          0.6538461538,
          0.0273224044,
          0.8839779006,
          0.7582417582,
          0.972972973,
          0.1340782123,
          0.3220338983,
          0.2432432432,
          0.1793478261,
          0.0503144654,
          0.6284153005,
          0.1038251366,
          0.4216216216,
          0.9347826087,
          0.7348066298,
          0.8571428571,
          0.3821989529,
          0.5837837838,
          0.6648648649,
          0.5183246073,
          0.9319371728,
          0.7958115183,
          0.6368421053,
          0.5879120879,
          0.0597826087,
          0.6631578947,
          0.8913043478,
          0.1348314607,
          0.6073298429,
          0.8540540541,
          0.9685534591,
          0.8556149733,
          0.3372781065,
          0.2216216216,
          0.251396648,
          0.3043478261,
          0.4972677596,
          0.0165745856,
          0.3423913043,
          0.8956043956,
          0.9144385027,
          0.2402234637,
          0.3842105263,
          0.3858695652,
          0.2146596859,
          0.395480226,
          0.219895288,
          0.7567567568,
          0.5536723164,
          0.585106383,
          0.893258427,
          0.0837988827,
          0.2099447514,
          0.7263157895,
          0.2087912088,
          0.7005347594,
          0.8167539267,
          0.8707865169,
          0.2840909091,
          0.7094972067,
          0.4175824176,
          0.0216216216,
          0.3376623377,
          0.1967213115,
          0.1837837838,
          0.8079096045,
          0.2486772487,
          0.0054054054,
          0.7321428571,
          0.4245810056,
          0.1703296703,
          0.8848167539,
          0.7637362637,
          0.8508287293,
          0.2010582011,
          0.748603352,
          0.6358695652,
          0.4863387978,
          0.7417582418,
          0.2554347826,
          0.6759776536,
          0.7513812155,
          0.4712041885,
          0.3723404255,
          0.4656084656,
          0.1497326203,
          0.4540540541,
          0.3668639053,
          0.8201058201,
          0.606557377,
          0.3675675676,
          0.2094240838,
          0.2826086957,
          0.0584415584,
          0.3798882682,
          0.2617801047,
          0.4130434783,
          0.3977900552,
          0.3689839572,
          0.2065217391,
          0.2032085561,
          0.7074468085,
          0.1739130435,
          0.0923913043,
          0.843575419,
          0.52,
          0.8043478261,
          0.5957446809,
          0.2485207101,
          0.5392670157,
          0.7282608696,
          0.8418079096,
          0.4021164021,
          0.0952380952,
          0.3021978022,
          0.3457446809,
          0.4382022472,
          0.4324324324,
          0.404494382,
          0.9510869565,
          0.9528795812,
          0.387434555,
          0.2263157895,
          0.8306010929,
          0.2872928177,
          0.5562130178,
          0.7826086957,
          0.9947089947,
          0.7472527473,
          0.8206521739,
          0.7883597884,
          0.2663043478,
          0.4157303371,
          0.6808510638,
          0.9836956522,
          0.2608695652,
          0.1016042781,
          0.8152173913,
          0.7243243243,
          0.6033519553,
          0.1715976331,
          0.1581920904,
          0.2751322751,
          0.8423913043,
          0.097826087,
          0.5531914894,
          0.1032608696,
          0.7807486631,
          0.3169398907,
          0.6120218579,
          0.1604278075,
          0.1071428571,
          0.8219895288,
          0.5543478261,
          0.8971428571,
          0.1813186813,
          0.6540540541,
          0.4371584699,
          0.3406593407,
          0.1884816754,
          0.7219251337,
          0.7936507937,
          0.6054054054,
          0.9210526316,
          0.9239130435,
          0.1276595745,
          0.4469273743,
          0.9267015707,
          0.8284023669,
          0.3701657459,
          0.4591194969,
          0.7027027027,
          0.5053191489,
          0.3898305085,
          0.7955801105,
          0.8928571429,
          0.2052631579,
          0.2021857923,
          0.6595744681,
          0.0163043478,
          0.7934782609,
          0.9738219895,
          0.8305084746,
          0.4756756757,
          0.3989361702,
          0.9830508475,
          0.2105263158,
          0.1210526316,
          0.5105263158,
          0.2210526316,
          0.9526315789,
          0.3315789474,
          0.1789473684,
          0.5974025974,
          0.8315789474,
          0.7894736842,
          0.8789473684,
          0.9263157895,
          0.1684210526,
          0.2736842105,
          0.4105263158,
          0.3736842105,
          0.3387978142,
          0.5079365079,
          0.6526315789,
          0.4631578947,
          0.2,
          0.1736842105,
          0.0601092896,
          0.0502793296,
          0.9894736842,
          0.4860335196,
          0.3894736842,
          0.8157894737,
          0.0677966102,
          0.3796296296,
          0.025,
          0.1086956522,
          0.6174863388,
          0.2922077922,
          0.575,
          0.6373626374,
          0.9255319149,
          0.650273224,
          0.7704918033,
          0.1065088757,
          0.6956521739,
          0.0928961749,
          0.8425925926,
          0.6170212766,
          0.625698324,
          0.0655737705,
          0.6514285714,
          0.693989071,
          0.7857142857,
          0.3901098901,
          0.604519774,
          0.7792207792,
          0.4465408805,
          0.626984127,
          0.5136612022,
          0.56875,
          0.0947368421,
          0.4814814815,
          0.4590163934,
          0.6331360947,
          0.4057142857,
          0.4413407821,
          0.0337078652,
          0.9398907104
         ],
         "parents": [
          "",
          "",
          "",
          "",
          "",
          "",
          "",
          "",
          "",
          "",
          "",
          "",
          "",
          "",
          "",
          "",
          "",
          "",
          "",
          "",
          "",
          "",
          "",
          "",
          "",
          "",
          "",
          "",
          "",
          "",
          "",
          "",
          "",
          "",
          "",
          "",
          "",
          "",
          "",
          "",
          "",
          "",
          "",
          "",
          "",
          "",
          "",
          "",
          "",
          "",
          "",
          "",
          "",
          "",
          "",
          "",
          "",
          "",
          "",
          "",
          "",
          "",
          "",
          "",
          "",
          "",
          "",
          "",
          "",
          "",
          "",
          "",
          "",
          "",
          "",
          "",
          "",
          "",
          "",
          "",
          "",
          "",
          "",
          "",
          "",
          "",
          "",
          "",
          "",
          "",
          "",
          "",
          "",
          "",
          "",
          "",
          "",
          "",
          "",
          "",
          "",
          "",
          "",
          "",
          "",
          "",
          "",
          "",
          "",
          "",
          "",
          "",
          "",
          "",
          "",
          "",
          "",
          "",
          "",
          "",
          "",
          "",
          "",
          "",
          "",
          "",
          "",
          "",
          "",
          "",
          "",
          "",
          "",
          "",
          "",
          "",
          "",
          "",
          "",
          "",
          "",
          "",
          "",
          "",
          "",
          "",
          "",
          "",
          "",
          "",
          "",
          "",
          "",
          "",
          "",
          "",
          "",
          "",
          "",
          "",
          "",
          "",
          "",
          "",
          "",
          "",
          "",
          "",
          "",
          "",
          "",
          "",
          "",
          "",
          "",
          "",
          "",
          "",
          "",
          "",
          "",
          "",
          "",
          "",
          "",
          "",
          "",
          "",
          "",
          "",
          "",
          "",
          "",
          "",
          "",
          "",
          "",
          "",
          "",
          "",
          "",
          "",
          "",
          "",
          "",
          "",
          "",
          "",
          "",
          "",
          "",
          "",
          "",
          "",
          "",
          "",
          "",
          "",
          "",
          "",
          "",
          "",
          "",
          "",
          "",
          "",
          "",
          "",
          "",
          "",
          "",
          "",
          "",
          "",
          "",
          "",
          "",
          "",
          "",
          "",
          "",
          "",
          "",
          "",
          "",
          "",
          "",
          "",
          "",
          "",
          "",
          "",
          "",
          "",
          "",
          "",
          "",
          "",
          "",
          "",
          "",
          "",
          "",
          "",
          "",
          "",
          "",
          "",
          "",
          "",
          "",
          "",
          "",
          "",
          "",
          "",
          "",
          "",
          "",
          "",
          "",
          "",
          "",
          "",
          "",
          "",
          "",
          "",
          "",
          "",
          "",
          "",
          "",
          "",
          "",
          "",
          "",
          "",
          "",
          "",
          "",
          "",
          "",
          "",
          "",
          "",
          "",
          "",
          "",
          "",
          "",
          "",
          "",
          "",
          "",
          "",
          "",
          "",
          "",
          "",
          "",
          "",
          "",
          "",
          "",
          "",
          "",
          "",
          "",
          "",
          "",
          "",
          "",
          "",
          "",
          "",
          "",
          "",
          "",
          "",
          "",
          "",
          "",
          "",
          "",
          "",
          "",
          "",
          "",
          "",
          "",
          "",
          "",
          "",
          "",
          "",
          "",
          "",
          "",
          "",
          "",
          "",
          "",
          "",
          "",
          "",
          "",
          "",
          "",
          "",
          "",
          "",
          "",
          "",
          "",
          "",
          "",
          "",
          "",
          "",
          "",
          "",
          "",
          "",
          "",
          "",
          "",
          "",
          "",
          "",
          "",
          "",
          "",
          "",
          "",
          "",
          "",
          "",
          "",
          "",
          "",
          "",
          "",
          "",
          "",
          "",
          "",
          "",
          "",
          "",
          "",
          "",
          "",
          "",
          "",
          "",
          "",
          "",
          "",
          "",
          "",
          "",
          "",
          "",
          "",
          "",
          "",
          "",
          "",
          "",
          "",
          "",
          "",
          "",
          "",
          "",
          "",
          "",
          "",
          "",
          "",
          "",
          "",
          "",
          "",
          "",
          "",
          "",
          "",
          "",
          "",
          "",
          "",
          "",
          "",
          "",
          "",
          "",
          "",
          "",
          "",
          "",
          "",
          "",
          "",
          "",
          "",
          "",
          "",
          "",
          "",
          "",
          "",
          "",
          "",
          "",
          "",
          "",
          "",
          "",
          "",
          "",
          "",
          "",
          "",
          "",
          "",
          "",
          "",
          "",
          "",
          "",
          "",
          "",
          "",
          "",
          "",
          "",
          "",
          "",
          "",
          "",
          "",
          "",
          "",
          "",
          "",
          "",
          "",
          "",
          "",
          "",
          "",
          "",
          "",
          "",
          "",
          "",
          "",
          "",
          "",
          "",
          "",
          "",
          "",
          "",
          "",
          "",
          "",
          "",
          "",
          "",
          "",
          "",
          "",
          "",
          "",
          "",
          "",
          "",
          "",
          "",
          "",
          "",
          "",
          "",
          "",
          "",
          "",
          "",
          "",
          "",
          "",
          "",
          "",
          "",
          "",
          "",
          "",
          "",
          "",
          "",
          "",
          "",
          "",
          "",
          "",
          "",
          "",
          "",
          "",
          "",
          "",
          "",
          "",
          "",
          "",
          "",
          "",
          "",
          "",
          "",
          "",
          "",
          "",
          "",
          "",
          "",
          "",
          "",
          "",
          "",
          "",
          "",
          "",
          "",
          "",
          "",
          "",
          "",
          "",
          "",
          "",
          "",
          "",
          "",
          "",
          "",
          "",
          "",
          "",
          "",
          "",
          "",
          "",
          "",
          "",
          "",
          "",
          "",
          "",
          "",
          "",
          "",
          "",
          "",
          "",
          "",
          "",
          "",
          "",
          "",
          "",
          "",
          "",
          "",
          "",
          "",
          "",
          "",
          "",
          "",
          "",
          "",
          "",
          "",
          "",
          "",
          "",
          "",
          "",
          "",
          "",
          "",
          "",
          "",
          "",
          "",
          "",
          "",
          "",
          "",
          "",
          "",
          "",
          "",
          "",
          "",
          "",
          "",
          "",
          "",
          "",
          "",
          "",
          "",
          "",
          "",
          "",
          "",
          "",
          "",
          "",
          "",
          "",
          "",
          "",
          "",
          "",
          "",
          "",
          "",
          "",
          "",
          "",
          "",
          "",
          "",
          "",
          "",
          "",
          "",
          "",
          "",
          "",
          "",
          "",
          "",
          "",
          "",
          "",
          "",
          "",
          "",
          "",
          "",
          "",
          "",
          "",
          "",
          "",
          "",
          "",
          "",
          "",
          "",
          "",
          "",
          "",
          "",
          "",
          "",
          "",
          "",
          "",
          "",
          "",
          "",
          "",
          "",
          "",
          "",
          "",
          "",
          "",
          "",
          "",
          "",
          "",
          "",
          "",
          "",
          "",
          "",
          "",
          "",
          "",
          "",
          "",
          "",
          "",
          "",
          "",
          "",
          "",
          "",
          "",
          "",
          "",
          "",
          "",
          "",
          "",
          "",
          "",
          "",
          "",
          "",
          "",
          "",
          "",
          "",
          "",
          "",
          "",
          "",
          "",
          "",
          "",
          "",
          "",
          "",
          "",
          "",
          "",
          "",
          "",
          "",
          "",
          "",
          "",
          "",
          "",
          "",
          "",
          "",
          "",
          "",
          "",
          "",
          "",
          "",
          "",
          "",
          "",
          "",
          "",
          "",
          "",
          "",
          "",
          "",
          "",
          "",
          "",
          "",
          "",
          "",
          "",
          "",
          "",
          "",
          "",
          "",
          "",
          "",
          "",
          "",
          "",
          "",
          "",
          "",
          "",
          "",
          "",
          "",
          "",
          "",
          "",
          "",
          "",
          "",
          "",
          "",
          "",
          "",
          "",
          "",
          "",
          "",
          "",
          "",
          "",
          "",
          "",
          "",
          "",
          "",
          "",
          "",
          "",
          "",
          "",
          "",
          "",
          "",
          "",
          "",
          "",
          "",
          "",
          "",
          "",
          "",
          "",
          "",
          "",
          "",
          "",
          "",
          "",
          "",
          "",
          "",
          "",
          "",
          "",
          "",
          "",
          "",
          "",
          "",
          "",
          "",
          "",
          "",
          "",
          "",
          "",
          "",
          "",
          "",
          "",
          "",
          "",
          "",
          "",
          "",
          "",
          "",
          "",
          "",
          "",
          "",
          "",
          "",
          "",
          "",
          "",
          "",
          "",
          "",
          "",
          "",
          "",
          "",
          "",
          "",
          "",
          "",
          ""
         ],
         "textinfo": "label+value",
         "type": "treemap",
         "values": [
          541032,
          504112,
          236044,
          162479,
          155275,
          140746,
          85461,
          64693,
          59388,
          54748,
          51736,
          50484,
          45768,
          43079,
          30861,
          30561,
          26029,
          24771,
          20830,
          19928,
          18641,
          18467,
          16470,
          16377,
          16011,
          14759,
          14742,
          13712,
          13617,
          12808,
          12724,
          12224,
          11971,
          11566,
          11223,
          9568,
          8915,
          8460,
          8273,
          8160,
          8108,
          7918,
          7906,
          7466,
          7401,
          7249,
          7045,
          6922,
          6399,
          6291,
          6164,
          6127,
          6104,
          6097,
          6078,
          5893,
          5866,
          5793,
          5589,
          5558,
          5191,
          5182,
          5082,
          5006,
          4791,
          4625,
          4427,
          4266,
          4116,
          4059,
          4052,
          3994,
          3924,
          3839,
          3768,
          3766,
          3766,
          3676,
          3523,
          3522,
          3511,
          3466,
          3460,
          3460,
          3457,
          3427,
          3403,
          3289,
          3241,
          3126,
          3003,
          2975,
          2931,
          2856,
          2803,
          2749,
          2729,
          2696,
          2625,
          2522,
          2518,
          2480,
          2391,
          2247,
          2064,
          2054,
          1974,
          1936,
          1911,
          1842,
          1786,
          1749,
          1670,
          1663,
          1639,
          1627,
          1591,
          1562,
          1558,
          1520,
          1518,
          1452,
          1443,
          1363,
          1349,
          1334,
          1315,
          1301,
          1286,
          1285,
          1267,
          1245,
          1216,
          1216,
          1214,
          1204,
          1200,
          1196,
          1183,
          1178,
          1177,
          1162,
          1129,
          1112,
          1100,
          1087,
          1064,
          1034,
          1019,
          1012,
          993,
          986,
          971,
          960,
          956,
          941,
          918,
          915,
          893,
          889,
          869,
          865,
          843,
          836,
          823,
          818,
          814,
          804,
          803,
          781,
          778,
          733,
          721,
          717,
          711,
          702,
          688,
          678,
          670,
          659,
          648,
          645,
          640,
          639,
          637,
          625,
          624,
          608,
          607,
          602,
          592,
          590,
          585,
          585,
          578,
          577,
          571,
          565,
          563,
          563,
          560,
          558,
          551,
          550,
          530,
          524,
          522,
          520,
          509,
          499,
          493,
          485,
          485,
          484,
          483,
          480,
          472,
          467,
          449,
          443,
          441,
          439,
          437,
          436,
          433,
          431,
          424,
          423,
          420,
          418,
          417,
          411,
          406,
          404,
          402,
          400,
          397,
          392,
          387,
          374,
          371,
          371,
          366,
          366,
          363,
          361,
          357,
          353,
          350,
          349,
          346,
          346,
          343,
          342,
          337,
          337,
          337,
          333,
          332,
          332,
          331,
          321,
          303,
          298,
          297,
          296,
          291,
          289,
          287,
          286,
          277,
          273,
          272,
          268,
          268,
          266,
          266,
          262,
          261,
          258,
          257,
          257,
          254,
          249,
          248,
          245,
          245,
          244,
          244,
          242,
          241,
          241,
          240,
          239,
          238,
          238,
          237,
          233,
          231,
          229,
          226,
          225,
          225,
          224,
          223,
          222,
          222,
          221,
          220,
          217,
          216,
          213,
          212,
          210,
          204,
          200,
          199,
          198,
          194,
          192,
          192,
          190,
          187,
          187,
          184,
          184,
          184,
          183,
          182,
          180,
          180,
          179,
          175,
          171,
          167,
          167,
          166,
          165,
          162,
          160,
          160,
          158,
          157,
          156,
          155,
          154,
          154,
          151,
          150,
          150,
          148,
          148,
          148,
          148,
          148,
          147,
          146,
          146,
          143,
          143,
          142,
          141,
          139,
          138,
          137,
          137,
          137,
          137,
          136,
          136,
          136,
          135,
          133,
          132,
          131,
          131,
          131,
          130,
          130,
          129,
          128,
          127,
          126,
          126,
          125,
          123,
          122,
          122,
          121,
          121,
          118,
          117,
          115,
          115,
          114,
          113,
          113,
          113,
          113,
          113,
          112,
          112,
          112,
          112,
          111,
          110,
          108,
          108,
          107,
          107,
          106,
          105,
          104,
          103,
          103,
          102,
          102,
          101,
          98,
          96,
          95,
          94,
          94,
          93,
          91,
          91,
          91,
          90,
          90,
          89,
          89,
          89,
          89,
          88,
          88,
          88,
          87,
          86,
          84,
          82,
          81,
          81,
          81,
          80,
          79,
          78,
          78,
          78,
          78,
          77,
          76,
          76,
          75,
          75,
          74,
          73,
          73,
          73,
          73,
          72,
          71,
          71,
          70,
          70,
          69,
          69,
          69,
          69,
          69,
          68,
          68,
          67,
          67,
          67,
          67,
          67,
          66,
          66,
          65,
          64,
          64,
          63,
          63,
          63,
          63,
          63,
          62,
          62,
          62,
          62,
          61,
          61,
          61,
          61,
          60,
          60,
          60,
          60,
          59,
          59,
          59,
          59,
          59,
          58,
          58,
          57,
          57,
          56,
          55,
          55,
          54,
          54,
          54,
          53,
          53,
          53,
          52,
          52,
          52,
          52,
          52,
          52,
          52,
          52,
          52,
          51,
          50,
          50,
          50,
          50,
          50,
          50,
          49,
          49,
          49,
          49,
          48,
          47,
          47,
          47,
          47,
          47,
          47,
          46,
          46,
          46,
          46,
          46,
          46,
          45,
          45,
          45,
          44,
          44,
          43,
          43,
          43,
          42,
          42,
          42,
          42,
          41,
          41,
          41,
          41,
          41,
          41,
          41,
          40,
          40,
          40,
          40,
          39,
          39,
          39,
          39,
          38,
          38,
          38,
          38,
          38,
          37,
          37,
          37,
          37,
          37,
          36,
          36,
          35,
          35,
          35,
          35,
          35,
          34,
          34,
          34,
          34,
          34,
          34,
          34,
          34,
          34,
          34,
          34,
          33,
          32,
          32,
          32,
          32,
          31,
          31,
          31,
          31,
          31,
          31,
          30,
          30,
          30,
          30,
          30,
          30,
          30,
          30,
          30,
          29,
          29,
          29,
          29,
          29,
          29,
          29,
          29,
          29,
          29,
          29,
          29,
          28,
          28,
          28,
          28,
          28,
          28,
          28,
          28,
          27,
          27,
          27,
          27,
          27,
          27,
          27,
          27,
          27,
          26,
          26,
          26,
          26,
          26,
          26,
          26,
          26,
          26,
          25,
          25,
          25,
          25,
          25,
          25,
          25,
          25,
          25,
          25,
          25,
          24,
          24,
          24,
          24,
          24,
          24,
          24,
          24,
          24,
          24,
          24,
          23,
          23,
          23,
          23,
          23,
          23,
          23,
          23,
          22,
          22,
          22,
          22,
          22,
          22,
          22,
          22,
          22,
          21,
          21,
          21,
          21,
          21,
          21,
          21,
          20,
          20,
          20,
          20,
          20,
          20,
          20,
          20,
          20,
          20,
          20,
          19,
          19,
          19,
          19,
          19,
          19,
          19,
          19,
          18,
          18,
          18,
          18,
          18,
          18,
          18,
          18,
          18,
          18,
          18,
          18,
          18,
          18,
          17,
          17,
          17,
          17,
          17,
          17,
          16,
          16,
          16,
          16,
          16,
          16,
          16,
          16,
          16,
          15,
          15,
          15,
          15,
          15,
          15,
          15,
          15,
          15,
          15,
          15,
          15,
          15,
          15,
          15,
          14,
          14,
          14,
          14,
          14,
          14,
          14,
          14,
          14,
          14,
          14,
          14,
          14,
          13,
          13,
          13,
          13,
          13,
          13,
          13,
          13,
          13,
          13,
          13,
          13,
          13,
          13,
          13,
          13,
          13,
          13,
          13,
          13,
          13,
          12,
          12,
          12,
          12,
          12,
          12,
          12,
          12,
          12,
          12,
          12,
          12,
          12,
          12,
          12,
          12,
          12,
          12,
          12,
          12,
          12,
          12,
          12,
          12,
          11,
          11,
          11,
          11,
          11,
          11,
          11,
          11,
          11,
          11,
          11,
          11,
          11,
          11,
          11,
          11,
          11,
          11,
          11,
          11,
          11,
          11,
          11,
          11,
          10,
          10,
          10,
          10,
          10,
          10,
          10,
          10,
          10,
          10,
          10,
          10,
          10,
          10,
          10,
          10,
          10,
          10,
          10,
          10,
          10,
          10,
          10,
          10,
          9,
          8,
          8,
          7,
          7,
          7,
          6,
          6,
          6,
          5,
          5,
          5,
          4,
          4,
          4,
          4,
          4,
          3,
          2,
          2,
          2,
          2,
          2,
          2,
          2,
          2,
          2,
          2,
          2,
          1,
          1,
          1,
          1,
          1,
          1,
          1,
          1,
          1,
          1,
          1,
          1,
          1,
          1,
          1,
          1,
          1,
          1,
          1,
          1,
          1,
          1,
          1,
          1,
          1,
          1,
          1,
          1,
          1,
          1,
          1,
          1,
          1,
          1,
          1
         ]
        }
       ],
       "layout": {
        "font": {
         "color": "white"
        },
        "paper_bgcolor": "black",
        "plot_bgcolor": "grey",
        "template": {
         "data": {
          "bar": [
           {
            "error_x": {
             "color": "#2a3f5f"
            },
            "error_y": {
             "color": "#2a3f5f"
            },
            "marker": {
             "line": {
              "color": "#E5ECF6",
              "width": 0.5
             },
             "pattern": {
              "fillmode": "overlay",
              "size": 10,
              "solidity": 0.2
             }
            },
            "type": "bar"
           }
          ],
          "barpolar": [
           {
            "marker": {
             "line": {
              "color": "#E5ECF6",
              "width": 0.5
             },
             "pattern": {
              "fillmode": "overlay",
              "size": 10,
              "solidity": 0.2
             }
            },
            "type": "barpolar"
           }
          ],
          "carpet": [
           {
            "aaxis": {
             "endlinecolor": "#2a3f5f",
             "gridcolor": "white",
             "linecolor": "white",
             "minorgridcolor": "white",
             "startlinecolor": "#2a3f5f"
            },
            "baxis": {
             "endlinecolor": "#2a3f5f",
             "gridcolor": "white",
             "linecolor": "white",
             "minorgridcolor": "white",
             "startlinecolor": "#2a3f5f"
            },
            "type": "carpet"
           }
          ],
          "choropleth": [
           {
            "colorbar": {
             "outlinewidth": 0,
             "ticks": ""
            },
            "type": "choropleth"
           }
          ],
          "contour": [
           {
            "colorbar": {
             "outlinewidth": 0,
             "ticks": ""
            },
            "colorscale": [
             [
              0,
              "#0d0887"
             ],
             [
              0.1111111111111111,
              "#46039f"
             ],
             [
              0.2222222222222222,
              "#7201a8"
             ],
             [
              0.3333333333333333,
              "#9c179e"
             ],
             [
              0.4444444444444444,
              "#bd3786"
             ],
             [
              0.5555555555555556,
              "#d8576b"
             ],
             [
              0.6666666666666666,
              "#ed7953"
             ],
             [
              0.7777777777777778,
              "#fb9f3a"
             ],
             [
              0.8888888888888888,
              "#fdca26"
             ],
             [
              1,
              "#f0f921"
             ]
            ],
            "type": "contour"
           }
          ],
          "contourcarpet": [
           {
            "colorbar": {
             "outlinewidth": 0,
             "ticks": ""
            },
            "type": "contourcarpet"
           }
          ],
          "heatmap": [
           {
            "colorbar": {
             "outlinewidth": 0,
             "ticks": ""
            },
            "colorscale": [
             [
              0,
              "#0d0887"
             ],
             [
              0.1111111111111111,
              "#46039f"
             ],
             [
              0.2222222222222222,
              "#7201a8"
             ],
             [
              0.3333333333333333,
              "#9c179e"
             ],
             [
              0.4444444444444444,
              "#bd3786"
             ],
             [
              0.5555555555555556,
              "#d8576b"
             ],
             [
              0.6666666666666666,
              "#ed7953"
             ],
             [
              0.7777777777777778,
              "#fb9f3a"
             ],
             [
              0.8888888888888888,
              "#fdca26"
             ],
             [
              1,
              "#f0f921"
             ]
            ],
            "type": "heatmap"
           }
          ],
          "heatmapgl": [
           {
            "colorbar": {
             "outlinewidth": 0,
             "ticks": ""
            },
            "colorscale": [
             [
              0,
              "#0d0887"
             ],
             [
              0.1111111111111111,
              "#46039f"
             ],
             [
              0.2222222222222222,
              "#7201a8"
             ],
             [
              0.3333333333333333,
              "#9c179e"
             ],
             [
              0.4444444444444444,
              "#bd3786"
             ],
             [
              0.5555555555555556,
              "#d8576b"
             ],
             [
              0.6666666666666666,
              "#ed7953"
             ],
             [
              0.7777777777777778,
              "#fb9f3a"
             ],
             [
              0.8888888888888888,
              "#fdca26"
             ],
             [
              1,
              "#f0f921"
             ]
            ],
            "type": "heatmapgl"
           }
          ],
          "histogram": [
           {
            "marker": {
             "pattern": {
              "fillmode": "overlay",
              "size": 10,
              "solidity": 0.2
             }
            },
            "type": "histogram"
           }
          ],
          "histogram2d": [
           {
            "colorbar": {
             "outlinewidth": 0,
             "ticks": ""
            },
            "colorscale": [
             [
              0,
              "#0d0887"
             ],
             [
              0.1111111111111111,
              "#46039f"
             ],
             [
              0.2222222222222222,
              "#7201a8"
             ],
             [
              0.3333333333333333,
              "#9c179e"
             ],
             [
              0.4444444444444444,
              "#bd3786"
             ],
             [
              0.5555555555555556,
              "#d8576b"
             ],
             [
              0.6666666666666666,
              "#ed7953"
             ],
             [
              0.7777777777777778,
              "#fb9f3a"
             ],
             [
              0.8888888888888888,
              "#fdca26"
             ],
             [
              1,
              "#f0f921"
             ]
            ],
            "type": "histogram2d"
           }
          ],
          "histogram2dcontour": [
           {
            "colorbar": {
             "outlinewidth": 0,
             "ticks": ""
            },
            "colorscale": [
             [
              0,
              "#0d0887"
             ],
             [
              0.1111111111111111,
              "#46039f"
             ],
             [
              0.2222222222222222,
              "#7201a8"
             ],
             [
              0.3333333333333333,
              "#9c179e"
             ],
             [
              0.4444444444444444,
              "#bd3786"
             ],
             [
              0.5555555555555556,
              "#d8576b"
             ],
             [
              0.6666666666666666,
              "#ed7953"
             ],
             [
              0.7777777777777778,
              "#fb9f3a"
             ],
             [
              0.8888888888888888,
              "#fdca26"
             ],
             [
              1,
              "#f0f921"
             ]
            ],
            "type": "histogram2dcontour"
           }
          ],
          "mesh3d": [
           {
            "colorbar": {
             "outlinewidth": 0,
             "ticks": ""
            },
            "type": "mesh3d"
           }
          ],
          "parcoords": [
           {
            "line": {
             "colorbar": {
              "outlinewidth": 0,
              "ticks": ""
             }
            },
            "type": "parcoords"
           }
          ],
          "pie": [
           {
            "automargin": true,
            "type": "pie"
           }
          ],
          "scatter": [
           {
            "fillpattern": {
             "fillmode": "overlay",
             "size": 10,
             "solidity": 0.2
            },
            "type": "scatter"
           }
          ],
          "scatter3d": [
           {
            "line": {
             "colorbar": {
              "outlinewidth": 0,
              "ticks": ""
             }
            },
            "marker": {
             "colorbar": {
              "outlinewidth": 0,
              "ticks": ""
             }
            },
            "type": "scatter3d"
           }
          ],
          "scattercarpet": [
           {
            "marker": {
             "colorbar": {
              "outlinewidth": 0,
              "ticks": ""
             }
            },
            "type": "scattercarpet"
           }
          ],
          "scattergeo": [
           {
            "marker": {
             "colorbar": {
              "outlinewidth": 0,
              "ticks": ""
             }
            },
            "type": "scattergeo"
           }
          ],
          "scattergl": [
           {
            "marker": {
             "colorbar": {
              "outlinewidth": 0,
              "ticks": ""
             }
            },
            "type": "scattergl"
           }
          ],
          "scattermapbox": [
           {
            "marker": {
             "colorbar": {
              "outlinewidth": 0,
              "ticks": ""
             }
            },
            "type": "scattermapbox"
           }
          ],
          "scatterpolar": [
           {
            "marker": {
             "colorbar": {
              "outlinewidth": 0,
              "ticks": ""
             }
            },
            "type": "scatterpolar"
           }
          ],
          "scatterpolargl": [
           {
            "marker": {
             "colorbar": {
              "outlinewidth": 0,
              "ticks": ""
             }
            },
            "type": "scatterpolargl"
           }
          ],
          "scatterternary": [
           {
            "marker": {
             "colorbar": {
              "outlinewidth": 0,
              "ticks": ""
             }
            },
            "type": "scatterternary"
           }
          ],
          "surface": [
           {
            "colorbar": {
             "outlinewidth": 0,
             "ticks": ""
            },
            "colorscale": [
             [
              0,
              "#0d0887"
             ],
             [
              0.1111111111111111,
              "#46039f"
             ],
             [
              0.2222222222222222,
              "#7201a8"
             ],
             [
              0.3333333333333333,
              "#9c179e"
             ],
             [
              0.4444444444444444,
              "#bd3786"
             ],
             [
              0.5555555555555556,
              "#d8576b"
             ],
             [
              0.6666666666666666,
              "#ed7953"
             ],
             [
              0.7777777777777778,
              "#fb9f3a"
             ],
             [
              0.8888888888888888,
              "#fdca26"
             ],
             [
              1,
              "#f0f921"
             ]
            ],
            "type": "surface"
           }
          ],
          "table": [
           {
            "cells": {
             "fill": {
              "color": "#EBF0F8"
             },
             "line": {
              "color": "white"
             }
            },
            "header": {
             "fill": {
              "color": "#C8D4E3"
             },
             "line": {
              "color": "white"
             }
            },
            "type": "table"
           }
          ]
         },
         "layout": {
          "annotationdefaults": {
           "arrowcolor": "#2a3f5f",
           "arrowhead": 0,
           "arrowwidth": 1
          },
          "autotypenumbers": "strict",
          "coloraxis": {
           "colorbar": {
            "outlinewidth": 0,
            "ticks": ""
           }
          },
          "colorscale": {
           "diverging": [
            [
             0,
             "#8e0152"
            ],
            [
             0.1,
             "#c51b7d"
            ],
            [
             0.2,
             "#de77ae"
            ],
            [
             0.3,
             "#f1b6da"
            ],
            [
             0.4,
             "#fde0ef"
            ],
            [
             0.5,
             "#f7f7f7"
            ],
            [
             0.6,
             "#e6f5d0"
            ],
            [
             0.7,
             "#b8e186"
            ],
            [
             0.8,
             "#7fbc41"
            ],
            [
             0.9,
             "#4d9221"
            ],
            [
             1,
             "#276419"
            ]
           ],
           "sequential": [
            [
             0,
             "#0d0887"
            ],
            [
             0.1111111111111111,
             "#46039f"
            ],
            [
             0.2222222222222222,
             "#7201a8"
            ],
            [
             0.3333333333333333,
             "#9c179e"
            ],
            [
             0.4444444444444444,
             "#bd3786"
            ],
            [
             0.5555555555555556,
             "#d8576b"
            ],
            [
             0.6666666666666666,
             "#ed7953"
            ],
            [
             0.7777777777777778,
             "#fb9f3a"
            ],
            [
             0.8888888888888888,
             "#fdca26"
            ],
            [
             1,
             "#f0f921"
            ]
           ],
           "sequentialminus": [
            [
             0,
             "#0d0887"
            ],
            [
             0.1111111111111111,
             "#46039f"
            ],
            [
             0.2222222222222222,
             "#7201a8"
            ],
            [
             0.3333333333333333,
             "#9c179e"
            ],
            [
             0.4444444444444444,
             "#bd3786"
            ],
            [
             0.5555555555555556,
             "#d8576b"
            ],
            [
             0.6666666666666666,
             "#ed7953"
            ],
            [
             0.7777777777777778,
             "#fb9f3a"
            ],
            [
             0.8888888888888888,
             "#fdca26"
            ],
            [
             1,
             "#f0f921"
            ]
           ]
          },
          "colorway": [
           "#636efa",
           "#EF553B",
           "#00cc96",
           "#ab63fa",
           "#FFA15A",
           "#19d3f3",
           "#FF6692",
           "#B6E880",
           "#FF97FF",
           "#FECB52"
          ],
          "font": {
           "color": "#2a3f5f"
          },
          "geo": {
           "bgcolor": "white",
           "lakecolor": "white",
           "landcolor": "#E5ECF6",
           "showlakes": true,
           "showland": true,
           "subunitcolor": "white"
          },
          "hoverlabel": {
           "align": "left"
          },
          "hovermode": "closest",
          "mapbox": {
           "style": "light"
          },
          "paper_bgcolor": "white",
          "plot_bgcolor": "#E5ECF6",
          "polar": {
           "angularaxis": {
            "gridcolor": "white",
            "linecolor": "white",
            "ticks": ""
           },
           "bgcolor": "#E5ECF6",
           "radialaxis": {
            "gridcolor": "white",
            "linecolor": "white",
            "ticks": ""
           }
          },
          "scene": {
           "xaxis": {
            "backgroundcolor": "#E5ECF6",
            "gridcolor": "white",
            "gridwidth": 2,
            "linecolor": "white",
            "showbackground": true,
            "ticks": "",
            "zerolinecolor": "white"
           },
           "yaxis": {
            "backgroundcolor": "#E5ECF6",
            "gridcolor": "white",
            "gridwidth": 2,
            "linecolor": "white",
            "showbackground": true,
            "ticks": "",
            "zerolinecolor": "white"
           },
           "zaxis": {
            "backgroundcolor": "#E5ECF6",
            "gridcolor": "white",
            "gridwidth": 2,
            "linecolor": "white",
            "showbackground": true,
            "ticks": "",
            "zerolinecolor": "white"
           }
          },
          "shapedefaults": {
           "line": {
            "color": "#2a3f5f"
           }
          },
          "ternary": {
           "aaxis": {
            "gridcolor": "white",
            "linecolor": "white",
            "ticks": ""
           },
           "baxis": {
            "gridcolor": "white",
            "linecolor": "white",
            "ticks": ""
           },
           "bgcolor": "#E5ECF6",
           "caxis": {
            "gridcolor": "white",
            "linecolor": "white",
            "ticks": ""
           }
          },
          "title": {
           "x": 0.05
          },
          "xaxis": {
           "automargin": true,
           "gridcolor": "white",
           "linecolor": "white",
           "ticks": "",
           "title": {
            "standoff": 15
           },
           "zerolinecolor": "white",
           "zerolinewidth": 2
          },
          "yaxis": {
           "automargin": true,
           "gridcolor": "white",
           "linecolor": "white",
           "ticks": "",
           "title": {
            "standoff": 15
           },
           "zerolinecolor": "white",
           "zerolinewidth": 2
          }
         }
        },
        "title": {
         "text": "treemap column: countries"
        }
       }
      }
     },
     "metadata": {},
     "output_type": "display_data"
    },
    {
     "data": {
      "application/vnd.plotly.v1+json": {
       "config": {
        "plotlyServerURL": "https://plot.ly"
       },
       "data": [
        {
         "labels": [
          0,
          0.1111111111,
          0.2222222222,
          0.3333333333,
          0.4444444444,
          0.5555555556,
          0.6666666667,
          0.7777777778,
          1,
          0.8888888889
         ],
         "parents": [
          "",
          "",
          "",
          "",
          "",
          "",
          "",
          "",
          "",
          ""
         ],
         "textinfo": "label+value",
         "type": "treemap",
         "values": [
          2409886,
          377711,
          267932,
          143121,
          67536,
          36409,
          28967,
          15366,
          15120,
          9511
         ]
        }
       ],
       "layout": {
        "font": {
         "color": "white"
        },
        "paper_bgcolor": "black",
        "plot_bgcolor": "grey",
        "template": {
         "data": {
          "bar": [
           {
            "error_x": {
             "color": "#2a3f5f"
            },
            "error_y": {
             "color": "#2a3f5f"
            },
            "marker": {
             "line": {
              "color": "#E5ECF6",
              "width": 0.5
             },
             "pattern": {
              "fillmode": "overlay",
              "size": 10,
              "solidity": 0.2
             }
            },
            "type": "bar"
           }
          ],
          "barpolar": [
           {
            "marker": {
             "line": {
              "color": "#E5ECF6",
              "width": 0.5
             },
             "pattern": {
              "fillmode": "overlay",
              "size": 10,
              "solidity": 0.2
             }
            },
            "type": "barpolar"
           }
          ],
          "carpet": [
           {
            "aaxis": {
             "endlinecolor": "#2a3f5f",
             "gridcolor": "white",
             "linecolor": "white",
             "minorgridcolor": "white",
             "startlinecolor": "#2a3f5f"
            },
            "baxis": {
             "endlinecolor": "#2a3f5f",
             "gridcolor": "white",
             "linecolor": "white",
             "minorgridcolor": "white",
             "startlinecolor": "#2a3f5f"
            },
            "type": "carpet"
           }
          ],
          "choropleth": [
           {
            "colorbar": {
             "outlinewidth": 0,
             "ticks": ""
            },
            "type": "choropleth"
           }
          ],
          "contour": [
           {
            "colorbar": {
             "outlinewidth": 0,
             "ticks": ""
            },
            "colorscale": [
             [
              0,
              "#0d0887"
             ],
             [
              0.1111111111111111,
              "#46039f"
             ],
             [
              0.2222222222222222,
              "#7201a8"
             ],
             [
              0.3333333333333333,
              "#9c179e"
             ],
             [
              0.4444444444444444,
              "#bd3786"
             ],
             [
              0.5555555555555556,
              "#d8576b"
             ],
             [
              0.6666666666666666,
              "#ed7953"
             ],
             [
              0.7777777777777778,
              "#fb9f3a"
             ],
             [
              0.8888888888888888,
              "#fdca26"
             ],
             [
              1,
              "#f0f921"
             ]
            ],
            "type": "contour"
           }
          ],
          "contourcarpet": [
           {
            "colorbar": {
             "outlinewidth": 0,
             "ticks": ""
            },
            "type": "contourcarpet"
           }
          ],
          "heatmap": [
           {
            "colorbar": {
             "outlinewidth": 0,
             "ticks": ""
            },
            "colorscale": [
             [
              0,
              "#0d0887"
             ],
             [
              0.1111111111111111,
              "#46039f"
             ],
             [
              0.2222222222222222,
              "#7201a8"
             ],
             [
              0.3333333333333333,
              "#9c179e"
             ],
             [
              0.4444444444444444,
              "#bd3786"
             ],
             [
              0.5555555555555556,
              "#d8576b"
             ],
             [
              0.6666666666666666,
              "#ed7953"
             ],
             [
              0.7777777777777778,
              "#fb9f3a"
             ],
             [
              0.8888888888888888,
              "#fdca26"
             ],
             [
              1,
              "#f0f921"
             ]
            ],
            "type": "heatmap"
           }
          ],
          "heatmapgl": [
           {
            "colorbar": {
             "outlinewidth": 0,
             "ticks": ""
            },
            "colorscale": [
             [
              0,
              "#0d0887"
             ],
             [
              0.1111111111111111,
              "#46039f"
             ],
             [
              0.2222222222222222,
              "#7201a8"
             ],
             [
              0.3333333333333333,
              "#9c179e"
             ],
             [
              0.4444444444444444,
              "#bd3786"
             ],
             [
              0.5555555555555556,
              "#d8576b"
             ],
             [
              0.6666666666666666,
              "#ed7953"
             ],
             [
              0.7777777777777778,
              "#fb9f3a"
             ],
             [
              0.8888888888888888,
              "#fdca26"
             ],
             [
              1,
              "#f0f921"
             ]
            ],
            "type": "heatmapgl"
           }
          ],
          "histogram": [
           {
            "marker": {
             "pattern": {
              "fillmode": "overlay",
              "size": 10,
              "solidity": 0.2
             }
            },
            "type": "histogram"
           }
          ],
          "histogram2d": [
           {
            "colorbar": {
             "outlinewidth": 0,
             "ticks": ""
            },
            "colorscale": [
             [
              0,
              "#0d0887"
             ],
             [
              0.1111111111111111,
              "#46039f"
             ],
             [
              0.2222222222222222,
              "#7201a8"
             ],
             [
              0.3333333333333333,
              "#9c179e"
             ],
             [
              0.4444444444444444,
              "#bd3786"
             ],
             [
              0.5555555555555556,
              "#d8576b"
             ],
             [
              0.6666666666666666,
              "#ed7953"
             ],
             [
              0.7777777777777778,
              "#fb9f3a"
             ],
             [
              0.8888888888888888,
              "#fdca26"
             ],
             [
              1,
              "#f0f921"
             ]
            ],
            "type": "histogram2d"
           }
          ],
          "histogram2dcontour": [
           {
            "colorbar": {
             "outlinewidth": 0,
             "ticks": ""
            },
            "colorscale": [
             [
              0,
              "#0d0887"
             ],
             [
              0.1111111111111111,
              "#46039f"
             ],
             [
              0.2222222222222222,
              "#7201a8"
             ],
             [
              0.3333333333333333,
              "#9c179e"
             ],
             [
              0.4444444444444444,
              "#bd3786"
             ],
             [
              0.5555555555555556,
              "#d8576b"
             ],
             [
              0.6666666666666666,
              "#ed7953"
             ],
             [
              0.7777777777777778,
              "#fb9f3a"
             ],
             [
              0.8888888888888888,
              "#fdca26"
             ],
             [
              1,
              "#f0f921"
             ]
            ],
            "type": "histogram2dcontour"
           }
          ],
          "mesh3d": [
           {
            "colorbar": {
             "outlinewidth": 0,
             "ticks": ""
            },
            "type": "mesh3d"
           }
          ],
          "parcoords": [
           {
            "line": {
             "colorbar": {
              "outlinewidth": 0,
              "ticks": ""
             }
            },
            "type": "parcoords"
           }
          ],
          "pie": [
           {
            "automargin": true,
            "type": "pie"
           }
          ],
          "scatter": [
           {
            "fillpattern": {
             "fillmode": "overlay",
             "size": 10,
             "solidity": 0.2
            },
            "type": "scatter"
           }
          ],
          "scatter3d": [
           {
            "line": {
             "colorbar": {
              "outlinewidth": 0,
              "ticks": ""
             }
            },
            "marker": {
             "colorbar": {
              "outlinewidth": 0,
              "ticks": ""
             }
            },
            "type": "scatter3d"
           }
          ],
          "scattercarpet": [
           {
            "marker": {
             "colorbar": {
              "outlinewidth": 0,
              "ticks": ""
             }
            },
            "type": "scattercarpet"
           }
          ],
          "scattergeo": [
           {
            "marker": {
             "colorbar": {
              "outlinewidth": 0,
              "ticks": ""
             }
            },
            "type": "scattergeo"
           }
          ],
          "scattergl": [
           {
            "marker": {
             "colorbar": {
              "outlinewidth": 0,
              "ticks": ""
             }
            },
            "type": "scattergl"
           }
          ],
          "scattermapbox": [
           {
            "marker": {
             "colorbar": {
              "outlinewidth": 0,
              "ticks": ""
             }
            },
            "type": "scattermapbox"
           }
          ],
          "scatterpolar": [
           {
            "marker": {
             "colorbar": {
              "outlinewidth": 0,
              "ticks": ""
             }
            },
            "type": "scatterpolar"
           }
          ],
          "scatterpolargl": [
           {
            "marker": {
             "colorbar": {
              "outlinewidth": 0,
              "ticks": ""
             }
            },
            "type": "scatterpolargl"
           }
          ],
          "scatterternary": [
           {
            "marker": {
             "colorbar": {
              "outlinewidth": 0,
              "ticks": ""
             }
            },
            "type": "scatterternary"
           }
          ],
          "surface": [
           {
            "colorbar": {
             "outlinewidth": 0,
             "ticks": ""
            },
            "colorscale": [
             [
              0,
              "#0d0887"
             ],
             [
              0.1111111111111111,
              "#46039f"
             ],
             [
              0.2222222222222222,
              "#7201a8"
             ],
             [
              0.3333333333333333,
              "#9c179e"
             ],
             [
              0.4444444444444444,
              "#bd3786"
             ],
             [
              0.5555555555555556,
              "#d8576b"
             ],
             [
              0.6666666666666666,
              "#ed7953"
             ],
             [
              0.7777777777777778,
              "#fb9f3a"
             ],
             [
              0.8888888888888888,
              "#fdca26"
             ],
             [
              1,
              "#f0f921"
             ]
            ],
            "type": "surface"
           }
          ],
          "table": [
           {
            "cells": {
             "fill": {
              "color": "#EBF0F8"
             },
             "line": {
              "color": "white"
             }
            },
            "header": {
             "fill": {
              "color": "#C8D4E3"
             },
             "line": {
              "color": "white"
             }
            },
            "type": "table"
           }
          ]
         },
         "layout": {
          "annotationdefaults": {
           "arrowcolor": "#2a3f5f",
           "arrowhead": 0,
           "arrowwidth": 1
          },
          "autotypenumbers": "strict",
          "coloraxis": {
           "colorbar": {
            "outlinewidth": 0,
            "ticks": ""
           }
          },
          "colorscale": {
           "diverging": [
            [
             0,
             "#8e0152"
            ],
            [
             0.1,
             "#c51b7d"
            ],
            [
             0.2,
             "#de77ae"
            ],
            [
             0.3,
             "#f1b6da"
            ],
            [
             0.4,
             "#fde0ef"
            ],
            [
             0.5,
             "#f7f7f7"
            ],
            [
             0.6,
             "#e6f5d0"
            ],
            [
             0.7,
             "#b8e186"
            ],
            [
             0.8,
             "#7fbc41"
            ],
            [
             0.9,
             "#4d9221"
            ],
            [
             1,
             "#276419"
            ]
           ],
           "sequential": [
            [
             0,
             "#0d0887"
            ],
            [
             0.1111111111111111,
             "#46039f"
            ],
            [
             0.2222222222222222,
             "#7201a8"
            ],
            [
             0.3333333333333333,
             "#9c179e"
            ],
            [
             0.4444444444444444,
             "#bd3786"
            ],
            [
             0.5555555555555556,
             "#d8576b"
            ],
            [
             0.6666666666666666,
             "#ed7953"
            ],
            [
             0.7777777777777778,
             "#fb9f3a"
            ],
            [
             0.8888888888888888,
             "#fdca26"
            ],
            [
             1,
             "#f0f921"
            ]
           ],
           "sequentialminus": [
            [
             0,
             "#0d0887"
            ],
            [
             0.1111111111111111,
             "#46039f"
            ],
            [
             0.2222222222222222,
             "#7201a8"
            ],
            [
             0.3333333333333333,
             "#9c179e"
            ],
            [
             0.4444444444444444,
             "#bd3786"
            ],
            [
             0.5555555555555556,
             "#d8576b"
            ],
            [
             0.6666666666666666,
             "#ed7953"
            ],
            [
             0.7777777777777778,
             "#fb9f3a"
            ],
            [
             0.8888888888888888,
             "#fdca26"
            ],
            [
             1,
             "#f0f921"
            ]
           ]
          },
          "colorway": [
           "#636efa",
           "#EF553B",
           "#00cc96",
           "#ab63fa",
           "#FFA15A",
           "#19d3f3",
           "#FF6692",
           "#B6E880",
           "#FF97FF",
           "#FECB52"
          ],
          "font": {
           "color": "#2a3f5f"
          },
          "geo": {
           "bgcolor": "white",
           "lakecolor": "white",
           "landcolor": "#E5ECF6",
           "showlakes": true,
           "showland": true,
           "subunitcolor": "white"
          },
          "hoverlabel": {
           "align": "left"
          },
          "hovermode": "closest",
          "mapbox": {
           "style": "light"
          },
          "paper_bgcolor": "white",
          "plot_bgcolor": "#E5ECF6",
          "polar": {
           "angularaxis": {
            "gridcolor": "white",
            "linecolor": "white",
            "ticks": ""
           },
           "bgcolor": "#E5ECF6",
           "radialaxis": {
            "gridcolor": "white",
            "linecolor": "white",
            "ticks": ""
           }
          },
          "scene": {
           "xaxis": {
            "backgroundcolor": "#E5ECF6",
            "gridcolor": "white",
            "gridwidth": 2,
            "linecolor": "white",
            "showbackground": true,
            "ticks": "",
            "zerolinecolor": "white"
           },
           "yaxis": {
            "backgroundcolor": "#E5ECF6",
            "gridcolor": "white",
            "gridwidth": 2,
            "linecolor": "white",
            "showbackground": true,
            "ticks": "",
            "zerolinecolor": "white"
           },
           "zaxis": {
            "backgroundcolor": "#E5ECF6",
            "gridcolor": "white",
            "gridwidth": 2,
            "linecolor": "white",
            "showbackground": true,
            "ticks": "",
            "zerolinecolor": "white"
           }
          },
          "shapedefaults": {
           "line": {
            "color": "#2a3f5f"
           }
          },
          "ternary": {
           "aaxis": {
            "gridcolor": "white",
            "linecolor": "white",
            "ticks": ""
           },
           "baxis": {
            "gridcolor": "white",
            "linecolor": "white",
            "ticks": ""
           },
           "bgcolor": "#E5ECF6",
           "caxis": {
            "gridcolor": "white",
            "linecolor": "white",
            "ticks": ""
           }
          },
          "title": {
           "x": 0.05
          },
          "xaxis": {
           "automargin": true,
           "gridcolor": "white",
           "linecolor": "white",
           "ticks": "",
           "title": {
            "standoff": 15
           },
           "zerolinecolor": "white",
           "zerolinewidth": 2
          },
          "yaxis": {
           "automargin": true,
           "gridcolor": "white",
           "linecolor": "white",
           "ticks": "",
           "title": {
            "standoff": 15
           },
           "zerolinecolor": "white",
           "zerolinewidth": 2
          }
         }
        },
        "title": {
         "text": "treemap column: labels_note"
        }
       }
      }
     },
     "metadata": {},
     "output_type": "display_data"
    }
   ],
   "source": [
    "colonnes_a_travailler = ['ecoscore_tags', 'ecoscore_score', 'countries', 'labels_note']  \n",
    "df = load_jsonl_to_dataframe(file_path)\n",
    "for column in colonnes_a_travailler:\n",
    "    create_treemap_for_column(df, column)"
   ]
  },
  {
   "cell_type": "code",
   "execution_count": 18,
   "metadata": {},
   "outputs": [],
   "source": [
    "def count_unique_values(jsonl_file_path, colonnes_a_travailler):\n",
    "    data = []\n",
    "    with open(jsonl_file_path, 'r') as file:\n",
    "        for line in file:\n",
    "            data.append(json.loads(line))\n",
    "    df = pd.DataFrame(data)\n",
    "    unique_counts = {}\n",
    "    for column in colonnes_a_travailler:\n",
    "        if column in df.columns:\n",
    "            unique_count = df[column].nunique()\n",
    "            if pd.api.types.is_numeric_dtype(df[column]):\n",
    "                min_val = df[column].min()\n",
    "                max_val = df[column].max()\n",
    "                unique_counts[column] = {\n",
    "                    'unique_count': unique_count,\n",
    "                    'min': min_val,\n",
    "                    'max': max_val\n",
    "                }\n",
    "            else:\n",
    "                unique_counts[column] = {\n",
    "                    'unique_count': unique_count\n",
    "                }\n",
    "        else:\n",
    "            unique_counts[column] = 'Column not found in data'\n",
    "    return unique_counts"
   ]
  },
  {
   "cell_type": "code",
   "execution_count": 19,
   "metadata": {},
   "outputs": [
    {
     "name": "stdout",
     "output_type": "stream",
     "text": [
      "{'ecoscore_tags': {'unique_count': 7, 'min': 0.0, 'max': 1.0}, 'ecoscore_score': {'unique_count': 102, 'min': 0.0, 'max': 100.0}, 'countries': {'unique_count': 941, 'min': 0.0, 'max': 1.0}, 'labels_note': {'unique_count': 10, 'min': 0.0, 'max': 1.0}}\n"
     ]
    }
   ],
   "source": [
    "unique_values = count_unique_values(file_path, colonnes_a_travailler)\n",
    "print(unique_values)"
   ]
  },
  {
   "cell_type": "code",
   "execution_count": null,
   "metadata": {},
   "outputs": [],
   "source": []
  }
 ],
 "metadata": {
  "kernelspec": {
   "display_name": "greenIa",
   "language": "python",
   "name": "python3"
  },
  "language_info": {
   "codemirror_mode": {
    "name": "ipython",
    "version": 3
   },
   "file_extension": ".py",
   "mimetype": "text/x-python",
   "name": "python",
   "nbconvert_exporter": "python",
   "pygments_lexer": "ipython3",
   "version": "3.9.18"
  }
 },
 "nbformat": 4,
 "nbformat_minor": 2
}
