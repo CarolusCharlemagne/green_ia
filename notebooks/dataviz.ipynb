{
 "cells": [
  {
   "cell_type": "code",
   "execution_count": 107,
   "metadata": {},
   "outputs": [],
   "source": [
    "import json\n",
    "import random\n",
    "import pandas as pd\n",
    "import jsonlines\n",
    "import warnings\n",
    "import plotly.graph_objects as go\n",
    "\n",
    "pd.set_option('display.max_rows', 100)\n",
    "warnings.filterwarnings(\"ignore\", category=pd.errors.DtypeWarning)"
   ]
  },
  {
   "cell_type": "code",
   "execution_count": 108,
   "metadata": {},
   "outputs": [],
   "source": [
    "file_path = '/home/carolus/Documents/school/green_ia/data/01_data/01_openfoodfacts_04.jsonl'\n",
    "num_samples = 60"
   ]
  },
  {
   "cell_type": "code",
   "execution_count": 109,
   "metadata": {},
   "outputs": [],
   "source": [
    "def sample_jsonl_file(file_path, num_samples):\n",
    "    sample_lines = []\n",
    "\n",
    "    with open(file_path, 'r') as file:\n",
    "        line_count = 0\n",
    "        for line in file:\n",
    "            line_count += 1\n",
    "            if len(sample_lines) < num_samples:\n",
    "                sample_lines.append(line)\n",
    "            else:\n",
    "                idx = random.randint(0, line_count - 1)\n",
    "                if idx < num_samples:\n",
    "                    sample_lines[idx] = line\n",
    "\n",
    "    data_list = [json.loads(line) for line in sample_lines]\n",
    "    df = pd.DataFrame(data_list)\n",
    "    return df"
   ]
  },
  {
   "cell_type": "code",
   "execution_count": 110,
   "metadata": {},
   "outputs": [],
   "source": [
    "df = sample_jsonl_file(file_path, num_samples)"
   ]
  },
  {
   "cell_type": "code",
   "execution_count": null,
   "metadata": {},
   "outputs": [],
   "source": [
    "df.tail(50)"
   ]
  },
  {
   "cell_type": "code",
   "execution_count": null,
   "metadata": {},
   "outputs": [],
   "source": [
    "uniques_groups = df['groups'].unique()\n",
    "uniques_groups_list = list(uniques_groups)\n",
    "for value in uniques_groups_list:\n",
    "    print(value)"
   ]
  },
  {
   "cell_type": "code",
   "execution_count": null,
   "metadata": {},
   "outputs": [],
   "source": [
    "uniques_packaging = df['packaging'].unique()\n",
    "uniques_packaging_list = list(uniques_packaging)\n",
    "for value in uniques_packaging_list:\n",
    "    print(value)"
   ]
  },
  {
   "cell_type": "code",
   "execution_count": null,
   "metadata": {},
   "outputs": [],
   "source": [
    "uniques_ecoscore_tags = df['ecoscore_tags'].unique()\n",
    "uniques_ecoscore_tags_list = list(uniques_ecoscore_tags)\n",
    "for value in uniques_ecoscore_tags_list:\n",
    "    print(value)"
   ]
  },
  {
   "cell_type": "code",
   "execution_count": null,
   "metadata": {},
   "outputs": [],
   "source": [
    "uniques_ecoscore_score = df['ecoscore_score'].unique()\n",
    "uniques_ecoscore_score_list = list(uniques_ecoscore_score)\n",
    "for value in uniques_ecoscore_score_list:\n",
    "    print(value)"
   ]
  },
  {
   "cell_type": "code",
   "execution_count": null,
   "metadata": {},
   "outputs": [],
   "source": [
    "uniques_countries = df['countries'].unique()\n",
    "uniques_countries_list = list(uniques_countries)\n",
    "for value in uniques_countries_list:\n",
    "    print(value)"
   ]
  },
  {
   "cell_type": "code",
   "execution_count": null,
   "metadata": {},
   "outputs": [],
   "source": [
    "uniques_ingredients = df['ingredients'].unique()\n",
    "uniques_ingredients_list = list(uniques_ingredients)\n",
    "for value in uniques_ingredients_list:\n",
    "    print(value)"
   ]
  },
  {
   "cell_type": "code",
   "execution_count": null,
   "metadata": {},
   "outputs": [],
   "source": [
    "uniques_categories = df['categories'].unique()\n",
    "uniques_categories_list = list(uniques_categories)\n",
    "for value in uniques_categories_list:\n",
    "    print(value)"
   ]
  },
  {
   "cell_type": "code",
   "execution_count": null,
   "metadata": {},
   "outputs": [],
   "source": [
    "uniques_labels_note = df['labels_note'].unique()\n",
    "uniques_labels_note_list = list(uniques_labels_note)\n",
    "for value in uniques_labels_note_list:\n",
    "    print(value)"
   ]
  },
  {
   "cell_type": "code",
   "execution_count": null,
   "metadata": {},
   "outputs": [],
   "source": [
    "df.describe()"
   ]
  },
  {
   "cell_type": "code",
   "execution_count": null,
   "metadata": {},
   "outputs": [],
   "source": [
    "def load_jsonl_to_dataframe(file_path):\n",
    "    data = []\n",
    "    with open(file_path, 'r') as file:\n",
    "        for line in file:\n",
    "            data.append(json.loads(line))\n",
    "    df = pd.DataFrame(data)\n",
    "    return df\n",
    "\n",
    "def create_treemap_for_column(df, column_name):\n",
    "    if column_name not in df.columns:\n",
    "        print(f\"warning, column: '{column_name}'does not exists\")\n",
    "        return\n",
    "    data = df[column_name].value_counts().reset_index()\n",
    "    data.columns = [column_name, 'count']\n",
    "    fig = go.Figure(go.Treemap(\n",
    "        labels=data[column_name],\n",
    "        parents=[\"\"] * len(data),\n",
    "        values=data['count'],\n",
    "        textinfo='label+value',  \n",
    "    ))\n",
    "    fig.update_layout(\n",
    "        title=f'treemap column: {column_name}',\n",
    "        paper_bgcolor='black',  \n",
    "        plot_bgcolor='grey',   \n",
    "        font_color='white'      \n",
    "    )\n",
    "    fig.show()"
   ]
  },
  {
   "cell_type": "code",
   "execution_count": null,
   "metadata": {},
   "outputs": [],
   "source": [
    "colonnes_a_travailler = ['ecoscore_tags', 'ecoscore_score', 'countries', 'labels_note']  \n",
    "df = load_jsonl_to_dataframe(file_path)\n",
    "for column in colonnes_a_travailler:\n",
    "    create_treemap_for_column(df, column)"
   ]
  },
  {
   "cell_type": "code",
   "execution_count": null,
   "metadata": {},
   "outputs": [],
   "source": [
    "def count_unique_values(jsonl_file_path, colonnes_a_travailler):\n",
    "    data = []\n",
    "    with open(jsonl_file_path, 'r') as file:\n",
    "        for line in file:\n",
    "            data.append(json.loads(line))\n",
    "    df = pd.DataFrame(data)\n",
    "    unique_counts = {}\n",
    "    for column in colonnes_a_travailler:\n",
    "        if column in df.columns:\n",
    "            unique_count = df[column].nunique()\n",
    "            if pd.api.types.is_numeric_dtype(df[column]):\n",
    "                min_val = df[column].min()\n",
    "                max_val = df[column].max()\n",
    "                unique_counts[column] = {\n",
    "                    'unique_count': unique_count,\n",
    "                    'min': min_val,\n",
    "                    'max': max_val\n",
    "                }\n",
    "            else:\n",
    "                unique_counts[column] = {\n",
    "                    'unique_count': unique_count\n",
    "                }\n",
    "        else:\n",
    "            unique_counts[column] = 'Column not found in data'\n",
    "    return unique_counts"
   ]
  },
  {
   "cell_type": "code",
   "execution_count": null,
   "metadata": {},
   "outputs": [],
   "source": [
    "unique_values = count_unique_values(file_path, colonnes_a_travailler)\n",
    "print(unique_values)"
   ]
  },
  {
   "cell_type": "code",
   "execution_count": null,
   "metadata": {},
   "outputs": [],
   "source": []
  }
 ],
 "metadata": {
  "kernelspec": {
   "display_name": "greenIa",
   "language": "python",
   "name": "python3"
  },
  "language_info": {
   "codemirror_mode": {
    "name": "ipython",
    "version": 3
   },
   "file_extension": ".py",
   "mimetype": "text/x-python",
   "name": "python",
   "nbconvert_exporter": "python",
   "pygments_lexer": "ipython3",
   "version": "3.10.14"
  }
 },
 "nbformat": 4,
 "nbformat_minor": 2
}
