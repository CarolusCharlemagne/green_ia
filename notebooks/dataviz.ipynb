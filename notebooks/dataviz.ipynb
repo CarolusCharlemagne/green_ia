{
 "cells": [
  {
   "cell_type": "code",
   "execution_count": 39,
   "metadata": {},
   "outputs": [],
   "source": [
    "import json\n",
    "import random\n",
    "import pandas as pd\n",
    "import jsonlines\n",
    "import warnings\n",
    "import plotly.graph_objects as go\n",
    "\n",
    "pd.set_option('display.max_rows', 100)\n",
    "warnings.filterwarnings(\"ignore\", category=pd.errors.DtypeWarning)"
   ]
  },
  {
   "cell_type": "code",
   "execution_count": 44,
   "metadata": {},
   "outputs": [],
   "source": [
    "file_path = '/home/carolus/Documents/school/green_ia/data/05_data/05_valid_01.jsonl'\n",
    "num_samples = 500"
   ]
  },
  {
   "cell_type": "code",
   "execution_count": 45,
   "metadata": {},
   "outputs": [],
   "source": [
    "def sample_jsonl_file(file_path, num_samples):\n",
    "    sample_lines = []\n",
    "\n",
    "    with open(file_path, 'r') as file:\n",
    "        line_count = 0\n",
    "        for line in file:\n",
    "            line_count += 1\n",
    "            if len(sample_lines) < num_samples:\n",
    "                sample_lines.append(line)\n",
    "            else:\n",
    "                idx = random.randint(0, line_count - 1)\n",
    "                if idx < num_samples:\n",
    "                    sample_lines[idx] = line\n",
    "\n",
    "    data_list = [json.loads(line) for line in sample_lines]\n",
    "    df = pd.DataFrame(data_list)\n",
    "    return df"
   ]
  },
  {
   "cell_type": "code",
   "execution_count": 46,
   "metadata": {},
   "outputs": [],
   "source": [
    "df = sample_jsonl_file(file_path, num_samples)"
   ]
  },
  {
   "cell_type": "code",
   "execution_count": 47,
   "metadata": {},
   "outputs": [
    {
     "data": {
      "text/html": [
       "<div>\n",
       "<style scoped>\n",
       "    .dataframe tbody tr th:only-of-type {\n",
       "        vertical-align: middle;\n",
       "    }\n",
       "\n",
       "    .dataframe tbody tr th {\n",
       "        vertical-align: top;\n",
       "    }\n",
       "\n",
       "    .dataframe thead th {\n",
       "        text-align: right;\n",
       "    }\n",
       "</style>\n",
       "<table border=\"1\" class=\"dataframe\">\n",
       "  <thead>\n",
       "    <tr style=\"text-align: right;\">\n",
       "      <th></th>\n",
       "      <th>groups</th>\n",
       "      <th>packaging</th>\n",
       "      <th>name</th>\n",
       "      <th>ecoscore_tags</th>\n",
       "      <th>ecoscore_score</th>\n",
       "      <th>countries</th>\n",
       "      <th>ingredients</th>\n",
       "      <th>categories</th>\n",
       "      <th>labels_note</th>\n",
       "    </tr>\n",
       "  </thead>\n",
       "  <tbody>\n",
       "    <tr>\n",
       "      <th>440</th>\n",
       "      <td>0.444444</td>\n",
       "      <td>empty</td>\n",
       "      <td>ultra-pasteurized half &amp; half</td>\n",
       "      <td>b</td>\n",
       "      <td>64</td>\n",
       "      <td>1.000000</td>\n",
       "      <td>milk, dairy, cream, contains-less-than-1-of, e...</td>\n",
       "      <td>dairies, creams</td>\n",
       "      <td>0.000000</td>\n",
       "    </tr>\n",
       "    <tr>\n",
       "      <th>441</th>\n",
       "      <td>0.000000</td>\n",
       "      <td>empty</td>\n",
       "      <td>arataki manuka honey</td>\n",
       "      <td>b</td>\n",
       "      <td>72</td>\n",
       "      <td>0.311475</td>\n",
       "      <td>empty</td>\n",
       "      <td>breakfasts, spreads, sweet-spreads, bee-produc...</td>\n",
       "      <td>0.000000</td>\n",
       "    </tr>\n",
       "    <tr>\n",
       "      <th>442</th>\n",
       "      <td>0.222222</td>\n",
       "      <td>plastique, carton, frais</td>\n",
       "      <td>bœuf bourguignon mitonné au vin de bourgogne</td>\n",
       "      <td>e</td>\n",
       "      <td>16</td>\n",
       "      <td>0.000000</td>\n",
       "      <td>beef-meat, animal, meat, beef, water, red-wine...</td>\n",
       "      <td>meats-and-their-products, meals, meals-with-me...</td>\n",
       "      <td>0.555556</td>\n",
       "    </tr>\n",
       "    <tr>\n",
       "      <th>443</th>\n",
       "      <td>0.777778</td>\n",
       "      <td>empty</td>\n",
       "      <td>soya drink unsweetened</td>\n",
       "      <td>b</td>\n",
       "      <td>69</td>\n",
       "      <td>0.968085</td>\n",
       "      <td>water, soya-bean, vegetable, legume, pulse, so...</td>\n",
       "      <td>beverages-and-beverages-preparations, plant-ba...</td>\n",
       "      <td>0.333333</td>\n",
       "    </tr>\n",
       "    <tr>\n",
       "      <th>444</th>\n",
       "      <td>0.444444</td>\n",
       "      <td>plástico</td>\n",
       "      <td>inline deligurt yogurt líquido arándano</td>\n",
       "      <td>d</td>\n",
       "      <td>23</td>\n",
       "      <td>0.311475</td>\n",
       "      <td>empty</td>\n",
       "      <td>beverages, dairies, fermented-foods, fermented...</td>\n",
       "      <td>0.000000</td>\n",
       "    </tr>\n",
       "    <tr>\n",
       "      <th>445</th>\n",
       "      <td>0.555556</td>\n",
       "      <td>pet 1 jar, pp 5 lid</td>\n",
       "      <td>chunky peanut butter</td>\n",
       "      <td>c</td>\n",
       "      <td>41</td>\n",
       "      <td>0.813830</td>\n",
       "      <td>roasted-peanuts, nut, peanut, peanut-oil, oil-...</td>\n",
       "      <td>plant-based-foods-and-beverages, plant-based-f...</td>\n",
       "      <td>0.111111</td>\n",
       "    </tr>\n",
       "    <tr>\n",
       "      <th>446</th>\n",
       "      <td>0.000000</td>\n",
       "      <td>empty</td>\n",
       "      <td>chocolat au lait noisette du piemont</td>\n",
       "      <td>d</td>\n",
       "      <td>33</td>\n",
       "      <td>0.311475</td>\n",
       "      <td>empty</td>\n",
       "      <td>snacks, sweet-snacks, cocoa-and-its-products, ...</td>\n",
       "      <td>0.444444</td>\n",
       "    </tr>\n",
       "    <tr>\n",
       "      <th>447</th>\n",
       "      <td>0.666667</td>\n",
       "      <td>empty</td>\n",
       "      <td>cadbury micro mini eggs</td>\n",
       "      <td>d</td>\n",
       "      <td>30</td>\n",
       "      <td>0.158470</td>\n",
       "      <td>empty</td>\n",
       "      <td>farming-products, eggs</td>\n",
       "      <td>0.000000</td>\n",
       "    </tr>\n",
       "    <tr>\n",
       "      <th>448</th>\n",
       "      <td>0.555556</td>\n",
       "      <td>empty</td>\n",
       "      <td>seminte 300g negre fara sare</td>\n",
       "      <td>d</td>\n",
       "      <td>29</td>\n",
       "      <td>0.311475</td>\n",
       "      <td>empty</td>\n",
       "      <td>plant-based-foods-and-beverages, plant-based-f...</td>\n",
       "      <td>0.000000</td>\n",
       "    </tr>\n",
       "    <tr>\n",
       "      <th>449</th>\n",
       "      <td>0.555556</td>\n",
       "      <td>empty</td>\n",
       "      <td>gourmet granola</td>\n",
       "      <td>d</td>\n",
       "      <td>25</td>\n",
       "      <td>0.158470</td>\n",
       "      <td>wholemeal-spelt-flour, flour, cereal-flour, wh...</td>\n",
       "      <td>plant-based-foods-and-beverages, plant-based-f...</td>\n",
       "      <td>0.111111</td>\n",
       "    </tr>\n",
       "    <tr>\n",
       "      <th>450</th>\n",
       "      <td>0.333333</td>\n",
       "      <td>empty</td>\n",
       "      <td>dessert fruitier</td>\n",
       "      <td>b</td>\n",
       "      <td>76</td>\n",
       "      <td>0.311475</td>\n",
       "      <td>empty</td>\n",
       "      <td>plant-based-foods-and-beverages, plant-based-f...</td>\n",
       "      <td>0.000000</td>\n",
       "    </tr>\n",
       "    <tr>\n",
       "      <th>451</th>\n",
       "      <td>0.111111</td>\n",
       "      <td>empty</td>\n",
       "      <td>reines sonnenblumenöl</td>\n",
       "      <td>c</td>\n",
       "      <td>42</td>\n",
       "      <td>0.333333</td>\n",
       "      <td>empty</td>\n",
       "      <td>plant-based-foods-and-beverages, plant-based-f...</td>\n",
       "      <td>0.000000</td>\n",
       "    </tr>\n",
       "    <tr>\n",
       "      <th>452</th>\n",
       "      <td>0.555556</td>\n",
       "      <td>empty</td>\n",
       "      <td>muesli croustillant bio choco</td>\n",
       "      <td>b</td>\n",
       "      <td>72</td>\n",
       "      <td>0.311475</td>\n",
       "      <td>sunflower-oil, oil-and-fat, vegetable-oil-and-...</td>\n",
       "      <td>plant-based-foods-and-beverages, plant-based-f...</td>\n",
       "      <td>0.333333</td>\n",
       "    </tr>\n",
       "    <tr>\n",
       "      <th>453</th>\n",
       "      <td>0.666667</td>\n",
       "      <td>empty</td>\n",
       "      <td>magret de canard cru</td>\n",
       "      <td>e</td>\n",
       "      <td>6</td>\n",
       "      <td>0.311475</td>\n",
       "      <td>empty</td>\n",
       "      <td>meats-and-their-products, meats, poultries, du...</td>\n",
       "      <td>0.000000</td>\n",
       "    </tr>\n",
       "    <tr>\n",
       "      <th>454</th>\n",
       "      <td>0.444444</td>\n",
       "      <td>empty</td>\n",
       "      <td>aged swiss cheese thin sliced</td>\n",
       "      <td>d</td>\n",
       "      <td>34</td>\n",
       "      <td>0.000000</td>\n",
       "      <td>pasteurized-semi-skimmed-milk, dairy, milk, se...</td>\n",
       "      <td>dairies, fermented-foods, fermented-milk-produ...</td>\n",
       "      <td>0.000000</td>\n",
       "    </tr>\n",
       "    <tr>\n",
       "      <th>455</th>\n",
       "      <td>0.111111</td>\n",
       "      <td>empty</td>\n",
       "      <td>pesto alla genovese</td>\n",
       "      <td>d</td>\n",
       "      <td>38</td>\n",
       "      <td>0.418994</td>\n",
       "      <td>empty</td>\n",
       "      <td>condiments, sauces, pestos, green-pestos, groc...</td>\n",
       "      <td>0.111111</td>\n",
       "    </tr>\n",
       "    <tr>\n",
       "      <th>456</th>\n",
       "      <td>0.444444</td>\n",
       "      <td>empty</td>\n",
       "      <td>mozzarella partiellement écrémé</td>\n",
       "      <td>d</td>\n",
       "      <td>34</td>\n",
       "      <td>0.154255</td>\n",
       "      <td>empty</td>\n",
       "      <td>dairies, fermented-foods, fermented-milk-produ...</td>\n",
       "      <td>0.000000</td>\n",
       "    </tr>\n",
       "    <tr>\n",
       "      <th>457</th>\n",
       "      <td>0.666667</td>\n",
       "      <td>empty</td>\n",
       "      <td>2 filets de poulet roties</td>\n",
       "      <td>c</td>\n",
       "      <td>45</td>\n",
       "      <td>0.301587</td>\n",
       "      <td>empty</td>\n",
       "      <td>meats-and-their-products, meats, chicken-and-i...</td>\n",
       "      <td>0.333333</td>\n",
       "    </tr>\n",
       "    <tr>\n",
       "      <th>458</th>\n",
       "      <td>0.777778</td>\n",
       "      <td>empty</td>\n",
       "      <td>raw and organic kombucha</td>\n",
       "      <td>c</td>\n",
       "      <td>43</td>\n",
       "      <td>0.311475</td>\n",
       "      <td>empty</td>\n",
       "      <td>beverages, fermented-foods, fermented-drinks, ...</td>\n",
       "      <td>0.111111</td>\n",
       "    </tr>\n",
       "    <tr>\n",
       "      <th>459</th>\n",
       "      <td>0.777778</td>\n",
       "      <td>empty</td>\n",
       "      <td>orange juice</td>\n",
       "      <td>c</td>\n",
       "      <td>43</td>\n",
       "      <td>1.000000</td>\n",
       "      <td>empty</td>\n",
       "      <td>plant-based-foods-and-beverages, beverages, pl...</td>\n",
       "      <td>0.000000</td>\n",
       "    </tr>\n",
       "    <tr>\n",
       "      <th>460</th>\n",
       "      <td>0.333333</td>\n",
       "      <td>empty</td>\n",
       "      <td>organic tomato sauce</td>\n",
       "      <td>b</td>\n",
       "      <td>77</td>\n",
       "      <td>1.000000</td>\n",
       "      <td>tomato-puree, vegetable, fruit-vegetable, toma...</td>\n",
       "      <td>plant-based-foods-and-beverages, plant-based-f...</td>\n",
       "      <td>0.111111</td>\n",
       "    </tr>\n",
       "    <tr>\n",
       "      <th>461</th>\n",
       "      <td>0.444444</td>\n",
       "      <td>métal, boîte</td>\n",
       "      <td>blédilait croissance</td>\n",
       "      <td>b</td>\n",
       "      <td>69</td>\n",
       "      <td>0.254438</td>\n",
       "      <td>skimmed-milk, dairy, milk, whey, demineralised...</td>\n",
       "      <td>baby-foods, baby-milks, growth-milks</td>\n",
       "      <td>0.000000</td>\n",
       "    </tr>\n",
       "    <tr>\n",
       "      <th>462</th>\n",
       "      <td>0.666667</td>\n",
       "      <td>empty</td>\n",
       "      <td>jarret demi-sel de porc</td>\n",
       "      <td>d</td>\n",
       "      <td>24</td>\n",
       "      <td>0.311475</td>\n",
       "      <td>empty</td>\n",
       "      <td>meats-and-their-products, meats, pork-and-its-...</td>\n",
       "      <td>0.222222</td>\n",
       "    </tr>\n",
       "    <tr>\n",
       "      <th>463</th>\n",
       "      <td>0.777778</td>\n",
       "      <td>bouteille, bouteille en plastique</td>\n",
       "      <td>pur jus de pomme</td>\n",
       "      <td>b</td>\n",
       "      <td>78</td>\n",
       "      <td>0.000000</td>\n",
       "      <td>apple-juice, fruit, juice, malaceous-fruit, ap...</td>\n",
       "      <td>plant-based-foods-and-beverages, beverages, pl...</td>\n",
       "      <td>0.333333</td>\n",
       "    </tr>\n",
       "    <tr>\n",
       "      <th>464</th>\n",
       "      <td>0.555556</td>\n",
       "      <td>empty</td>\n",
       "      <td>graines de chia</td>\n",
       "      <td>e</td>\n",
       "      <td>15</td>\n",
       "      <td>0.288136</td>\n",
       "      <td>empty</td>\n",
       "      <td>plant-based-foods-and-beverages, plant-based-f...</td>\n",
       "      <td>0.111111</td>\n",
       "    </tr>\n",
       "    <tr>\n",
       "      <th>465</th>\n",
       "      <td>0.777778</td>\n",
       "      <td>botella de vidrio</td>\n",
       "      <td>vino tinto crianza 2008</td>\n",
       "      <td>c</td>\n",
       "      <td>52</td>\n",
       "      <td>0.870056</td>\n",
       "      <td>red-wine, alcohol, wine</td>\n",
       "      <td>beverages, alcoholic-beverages, wines, red-win...</td>\n",
       "      <td>0.333333</td>\n",
       "    </tr>\n",
       "    <tr>\n",
       "      <th>466</th>\n",
       "      <td>0.555556</td>\n",
       "      <td>empty</td>\n",
       "      <td>no added sugar</td>\n",
       "      <td>d</td>\n",
       "      <td>25</td>\n",
       "      <td>0.311475</td>\n",
       "      <td>whole-wheat, cereal, wheat, whole-grain-oat-fl...</td>\n",
       "      <td>plant-based-foods-and-beverages, plant-based-f...</td>\n",
       "      <td>0.111111</td>\n",
       "    </tr>\n",
       "    <tr>\n",
       "      <th>467</th>\n",
       "      <td>0.444444</td>\n",
       "      <td>empty</td>\n",
       "      <td>semi-skimmed milk</td>\n",
       "      <td>d</td>\n",
       "      <td>37</td>\n",
       "      <td>0.426230</td>\n",
       "      <td>empty</td>\n",
       "      <td>dairies, milks, semi-skimmed-milks</td>\n",
       "      <td>0.000000</td>\n",
       "    </tr>\n",
       "    <tr>\n",
       "      <th>468</th>\n",
       "      <td>0.444444</td>\n",
       "      <td>bag</td>\n",
       "      <td>โอวัลติน สวิส ริช ช็อกโกแลต</td>\n",
       "      <td>c</td>\n",
       "      <td>41</td>\n",
       "      <td>0.927374</td>\n",
       "      <td>empty</td>\n",
       "      <td>beverages, dairies, milks</td>\n",
       "      <td>0.222222</td>\n",
       "    </tr>\n",
       "    <tr>\n",
       "      <th>469</th>\n",
       "      <td>0.777778</td>\n",
       "      <td>plastique, bouteille</td>\n",
       "      <td>saveur pomme kiwi à l'eau de source</td>\n",
       "      <td>c</td>\n",
       "      <td>49</td>\n",
       "      <td>0.000000</td>\n",
       "      <td>spring-water, water, fruit-juice-from-concentr...</td>\n",
       "      <td>plant-based-foods-and-beverages, beverages, pl...</td>\n",
       "      <td>0.000000</td>\n",
       "    </tr>\n",
       "    <tr>\n",
       "      <th>470</th>\n",
       "      <td>0.111111</td>\n",
       "      <td>empty</td>\n",
       "      <td>cleopatra hummus</td>\n",
       "      <td>b</td>\n",
       "      <td>72</td>\n",
       "      <td>0.994536</td>\n",
       "      <td>empty</td>\n",
       "      <td>plant-based-foods-and-beverages, plant-based-f...</td>\n",
       "      <td>0.000000</td>\n",
       "    </tr>\n",
       "    <tr>\n",
       "      <th>471</th>\n",
       "      <td>0.444444</td>\n",
       "      <td>empty</td>\n",
       "      <td>cocoa vanilla ice cream</td>\n",
       "      <td>b</td>\n",
       "      <td>67</td>\n",
       "      <td>0.344262</td>\n",
       "      <td>sugar, added-sugar, disaccharide, glucose-syru...</td>\n",
       "      <td>desserts, frozen-foods, frozen-desserts, ice-c...</td>\n",
       "      <td>0.000000</td>\n",
       "    </tr>\n",
       "    <tr>\n",
       "      <th>472</th>\n",
       "      <td>1.000000</td>\n",
       "      <td>vasetto vetro, coperchio metallo</td>\n",
       "      <td>olive riviera denocciolate</td>\n",
       "      <td>a</td>\n",
       "      <td>100</td>\n",
       "      <td>0.431694</td>\n",
       "      <td>extra-virgin-olive-oil, oil-and-fat, vegetable...</td>\n",
       "      <td>plant-based-foods-and-beverages, plant-based-f...</td>\n",
       "      <td>0.111111</td>\n",
       "    </tr>\n",
       "    <tr>\n",
       "      <th>473</th>\n",
       "      <td>0.444444</td>\n",
       "      <td>goblet plastique,stück</td>\n",
       "      <td>yogurt greek style</td>\n",
       "      <td>b</td>\n",
       "      <td>69</td>\n",
       "      <td>0.898810</td>\n",
       "      <td>strawberry, fruit, berries, sugar, added-sugar...</td>\n",
       "      <td>dairies, fermented-foods, fermented-milk-produ...</td>\n",
       "      <td>0.000000</td>\n",
       "    </tr>\n",
       "    <tr>\n",
       "      <th>474</th>\n",
       "      <td>0.444444</td>\n",
       "      <td>empty</td>\n",
       "      <td>soignon fromage blanc vanille au lait de chevre</td>\n",
       "      <td>b</td>\n",
       "      <td>79</td>\n",
       "      <td>0.000000</td>\n",
       "      <td>empty</td>\n",
       "      <td>dairies, fermented-foods, fermented-milk-produ...</td>\n",
       "      <td>0.111111</td>\n",
       "    </tr>\n",
       "    <tr>\n",
       "      <th>475</th>\n",
       "      <td>0.222222</td>\n",
       "      <td>empty</td>\n",
       "      <td>carottes râpées</td>\n",
       "      <td>b</td>\n",
       "      <td>75</td>\n",
       "      <td>0.278689</td>\n",
       "      <td>empty</td>\n",
       "      <td>plant-based-foods-and-beverages, plant-based-f...</td>\n",
       "      <td>0.000000</td>\n",
       "    </tr>\n",
       "    <tr>\n",
       "      <th>476</th>\n",
       "      <td>0.444444</td>\n",
       "      <td>plastique, frais, sous atmosphère protectrice,...</td>\n",
       "      <td>pâte à pizza épaisse et rectangulaire</td>\n",
       "      <td>b</td>\n",
       "      <td>65</td>\n",
       "      <td>0.255952</td>\n",
       "      <td>wheat-flour, cereal, flour, wheat, cereal-flou...</td>\n",
       "      <td>plant-based-foods-and-beverages, plant-based-f...</td>\n",
       "      <td>0.222222</td>\n",
       "    </tr>\n",
       "    <tr>\n",
       "      <th>477</th>\n",
       "      <td>0.444444</td>\n",
       "      <td>plastik</td>\n",
       "      <td>jogurt do picia</td>\n",
       "      <td>b</td>\n",
       "      <td>78</td>\n",
       "      <td>0.737430</td>\n",
       "      <td>pasteurised-milk, dairy, milk, sugar, added-su...</td>\n",
       "      <td>dairies, fermented-foods, fermented-milk-produ...</td>\n",
       "      <td>0.111111</td>\n",
       "    </tr>\n",
       "    <tr>\n",
       "      <th>478</th>\n",
       "      <td>0.000000</td>\n",
       "      <td>karton</td>\n",
       "      <td>hustenbonbons mit kirsche</td>\n",
       "      <td>c</td>\n",
       "      <td>56</td>\n",
       "      <td>0.311475</td>\n",
       "      <td>sweetener, acid, concentrated-lemon-juice, fru...</td>\n",
       "      <td>snacks, sweet-snacks, confectioneries, candies</td>\n",
       "      <td>0.333333</td>\n",
       "    </tr>\n",
       "    <tr>\n",
       "      <th>479</th>\n",
       "      <td>0.444444</td>\n",
       "      <td>empty</td>\n",
       "      <td>activia framboise</td>\n",
       "      <td>b</td>\n",
       "      <td>60</td>\n",
       "      <td>0.254438</td>\n",
       "      <td>whole-milk, dairy, milk, condensed-skimmed-mil...</td>\n",
       "      <td>dairies, fermented-foods, fermented-milk-produ...</td>\n",
       "      <td>0.111111</td>\n",
       "    </tr>\n",
       "    <tr>\n",
       "      <th>480</th>\n",
       "      <td>1.000000</td>\n",
       "      <td>empty</td>\n",
       "      <td>foie gras canard</td>\n",
       "      <td>b</td>\n",
       "      <td>67</td>\n",
       "      <td>0.000000</td>\n",
       "      <td>empty</td>\n",
       "      <td>fish-and-meat-and-eggs, foies-gras, foies-gras...</td>\n",
       "      <td>0.111111</td>\n",
       "    </tr>\n",
       "    <tr>\n",
       "      <th>481</th>\n",
       "      <td>0.333333</td>\n",
       "      <td>empty</td>\n",
       "      <td>delallo, grilled artichoke hearts</td>\n",
       "      <td>c</td>\n",
       "      <td>46</td>\n",
       "      <td>1.000000</td>\n",
       "      <td>artichoke, vegetable, shoot-vegetable, sunflow...</td>\n",
       "      <td>plant-based-foods-and-beverages, plant-based-f...</td>\n",
       "      <td>0.000000</td>\n",
       "    </tr>\n",
       "    <tr>\n",
       "      <th>482</th>\n",
       "      <td>0.000000</td>\n",
       "      <td>empty</td>\n",
       "      <td>miel</td>\n",
       "      <td>b</td>\n",
       "      <td>72</td>\n",
       "      <td>0.311475</td>\n",
       "      <td>empty</td>\n",
       "      <td>breakfasts, spreads, sweet-spreads, bee-produc...</td>\n",
       "      <td>0.000000</td>\n",
       "    </tr>\n",
       "    <tr>\n",
       "      <th>483</th>\n",
       "      <td>0.777778</td>\n",
       "      <td>empty</td>\n",
       "      <td>sirup - zitrone</td>\n",
       "      <td>b</td>\n",
       "      <td>79</td>\n",
       "      <td>0.311475</td>\n",
       "      <td>empty</td>\n",
       "      <td>beverages, syrups, flavoured-syrups, lemon-syrups</td>\n",
       "      <td>0.000000</td>\n",
       "    </tr>\n",
       "    <tr>\n",
       "      <th>484</th>\n",
       "      <td>0.444444</td>\n",
       "      <td>empty</td>\n",
       "      <td>comté 12 mois</td>\n",
       "      <td>c</td>\n",
       "      <td>51</td>\n",
       "      <td>0.315217</td>\n",
       "      <td>empty</td>\n",
       "      <td>dairies, fermented-foods, fermented-milk-produ...</td>\n",
       "      <td>0.000000</td>\n",
       "    </tr>\n",
       "    <tr>\n",
       "      <th>485</th>\n",
       "      <td>0.222222</td>\n",
       "      <td>empty</td>\n",
       "      <td>chicken and tomato pasta bake</td>\n",
       "      <td>d</td>\n",
       "      <td>23</td>\n",
       "      <td>0.994565</td>\n",
       "      <td>penne, dough, pasta, tomato, vegetable, fruit-...</td>\n",
       "      <td>meats-and-their-products, meals, pasta-dishes,...</td>\n",
       "      <td>0.000000</td>\n",
       "    </tr>\n",
       "    <tr>\n",
       "      <th>486</th>\n",
       "      <td>1.000000</td>\n",
       "      <td>empty</td>\n",
       "      <td>olives vertes</td>\n",
       "      <td>b</td>\n",
       "      <td>75</td>\n",
       "      <td>0.311475</td>\n",
       "      <td>empty</td>\n",
       "      <td>plant-based-foods-and-beverages, plant-based-f...</td>\n",
       "      <td>0.000000</td>\n",
       "    </tr>\n",
       "    <tr>\n",
       "      <th>487</th>\n",
       "      <td>0.666667</td>\n",
       "      <td>empty</td>\n",
       "      <td>le bon paris à l'étouffée</td>\n",
       "      <td>e</td>\n",
       "      <td>12</td>\n",
       "      <td>0.311475</td>\n",
       "      <td>animal, meat, pork, pork-meat, ham, salt, anti...</td>\n",
       "      <td>meats-and-their-products, prepared-meats, hams...</td>\n",
       "      <td>0.111111</td>\n",
       "    </tr>\n",
       "    <tr>\n",
       "      <th>488</th>\n",
       "      <td>0.000000</td>\n",
       "      <td>empty</td>\n",
       "      <td>mel eucaliptus</td>\n",
       "      <td>b</td>\n",
       "      <td>72</td>\n",
       "      <td>0.874317</td>\n",
       "      <td>empty</td>\n",
       "      <td>breakfasts, spreads, sweet-spreads, bee-produc...</td>\n",
       "      <td>0.000000</td>\n",
       "    </tr>\n",
       "    <tr>\n",
       "      <th>489</th>\n",
       "      <td>0.444444</td>\n",
       "      <td>empty</td>\n",
       "      <td>golden blossom maple syrup</td>\n",
       "      <td>b</td>\n",
       "      <td>64</td>\n",
       "      <td>1.000000</td>\n",
       "      <td>empty</td>\n",
       "      <td>sweeteners, syrups, simple-syrups, maple-syrups</td>\n",
       "      <td>0.000000</td>\n",
       "    </tr>\n",
       "    <tr>\n",
       "      <th>490</th>\n",
       "      <td>0.444444</td>\n",
       "      <td>empty</td>\n",
       "      <td>queso bulgaro (feta/sirene)</td>\n",
       "      <td>d</td>\n",
       "      <td>35</td>\n",
       "      <td>0.874317</td>\n",
       "      <td>empty</td>\n",
       "      <td>dairies, fermented-foods, fermented-milk-produ...</td>\n",
       "      <td>0.000000</td>\n",
       "    </tr>\n",
       "    <tr>\n",
       "      <th>491</th>\n",
       "      <td>0.111111</td>\n",
       "      <td>empty</td>\n",
       "      <td>pasta sauce</td>\n",
       "      <td>b</td>\n",
       "      <td>72</td>\n",
       "      <td>1.000000</td>\n",
       "      <td>plum-tomatoes, diced-tomatoes-in-juice, crushe...</td>\n",
       "      <td>condiments, sauces, pasta-sauces, tomato-sauce...</td>\n",
       "      <td>0.000000</td>\n",
       "    </tr>\n",
       "    <tr>\n",
       "      <th>492</th>\n",
       "      <td>0.000000</td>\n",
       "      <td>empty</td>\n",
       "      <td>american style cookies</td>\n",
       "      <td>d</td>\n",
       "      <td>36</td>\n",
       "      <td>0.311475</td>\n",
       "      <td>wheat-flour, cereal, flour, wheat, cereal-flou...</td>\n",
       "      <td>snacks, sweet-snacks, biscuits-and-cakes, bisc...</td>\n",
       "      <td>0.666667</td>\n",
       "    </tr>\n",
       "    <tr>\n",
       "      <th>493</th>\n",
       "      <td>0.777778</td>\n",
       "      <td>drankkarton</td>\n",
       "      <td>amandel drink - ongezoet</td>\n",
       "      <td>a</td>\n",
       "      <td>83</td>\n",
       "      <td>0.655738</td>\n",
       "      <td>water, calcium, minerals, sea-salt, salt, e410...</td>\n",
       "      <td>plant-based-foods-and-beverages, beverages, pl...</td>\n",
       "      <td>1.000000</td>\n",
       "    </tr>\n",
       "    <tr>\n",
       "      <th>494</th>\n",
       "      <td>0.444444</td>\n",
       "      <td>empty</td>\n",
       "      <td>select half &amp; half</td>\n",
       "      <td>b</td>\n",
       "      <td>64</td>\n",
       "      <td>1.000000</td>\n",
       "      <td>milk, dairy, cream</td>\n",
       "      <td>dairies, creams</td>\n",
       "      <td>0.000000</td>\n",
       "    </tr>\n",
       "    <tr>\n",
       "      <th>495</th>\n",
       "      <td>0.444444</td>\n",
       "      <td>boîte en carton, etui en carton</td>\n",
       "      <td>banania bio</td>\n",
       "      <td>b</td>\n",
       "      <td>61</td>\n",
       "      <td>0.311475</td>\n",
       "      <td>sugar, added-sugar, disaccharide, skimmed-milk...</td>\n",
       "      <td>beverages, breakfasts, cocoa-and-its-products,...</td>\n",
       "      <td>0.888889</td>\n",
       "    </tr>\n",
       "    <tr>\n",
       "      <th>496</th>\n",
       "      <td>0.777778</td>\n",
       "      <td>empty</td>\n",
       "      <td>soja vanille</td>\n",
       "      <td>b</td>\n",
       "      <td>69</td>\n",
       "      <td>0.076503</td>\n",
       "      <td>empty</td>\n",
       "      <td>plant-based-foods-and-beverages, beverages, pl...</td>\n",
       "      <td>0.000000</td>\n",
       "    </tr>\n",
       "    <tr>\n",
       "      <th>497</th>\n",
       "      <td>0.000000</td>\n",
       "      <td>empty</td>\n",
       "      <td>rotelle bio</td>\n",
       "      <td>c</td>\n",
       "      <td>42</td>\n",
       "      <td>0.414365</td>\n",
       "      <td>empty</td>\n",
       "      <td>snacks, sweet-snacks, confectioneries, candies</td>\n",
       "      <td>0.000000</td>\n",
       "    </tr>\n",
       "    <tr>\n",
       "      <th>498</th>\n",
       "      <td>0.444444</td>\n",
       "      <td>empty</td>\n",
       "      <td>lait demi écrémé eleveurs de bretagne bouteill...</td>\n",
       "      <td>d</td>\n",
       "      <td>36</td>\n",
       "      <td>0.000000</td>\n",
       "      <td>empty</td>\n",
       "      <td>dairies, milks, semi-skimmed-milks</td>\n",
       "      <td>0.000000</td>\n",
       "    </tr>\n",
       "    <tr>\n",
       "      <th>499</th>\n",
       "      <td>0.000000</td>\n",
       "      <td>empty</td>\n",
       "      <td>petit beurre au chocolat sans huile de palme</td>\n",
       "      <td>b</td>\n",
       "      <td>62</td>\n",
       "      <td>0.000000</td>\n",
       "      <td>petit-beurre, chocolate-chunk, chocolate, coco...</td>\n",
       "      <td>snacks, sweet-snacks, biscuits-and-cakes, bisc...</td>\n",
       "      <td>0.111111</td>\n",
       "    </tr>\n",
       "  </tbody>\n",
       "</table>\n",
       "</div>"
      ],
      "text/plain": [
       "       groups                                          packaging  \\\n",
       "440  0.444444                                              empty   \n",
       "441  0.000000                                              empty   \n",
       "442  0.222222                           plastique, carton, frais   \n",
       "443  0.777778                                              empty   \n",
       "444  0.444444                                           plástico   \n",
       "445  0.555556                                pet 1 jar, pp 5 lid   \n",
       "446  0.000000                                              empty   \n",
       "447  0.666667                                              empty   \n",
       "448  0.555556                                              empty   \n",
       "449  0.555556                                              empty   \n",
       "450  0.333333                                              empty   \n",
       "451  0.111111                                              empty   \n",
       "452  0.555556                                              empty   \n",
       "453  0.666667                                              empty   \n",
       "454  0.444444                                              empty   \n",
       "455  0.111111                                              empty   \n",
       "456  0.444444                                              empty   \n",
       "457  0.666667                                              empty   \n",
       "458  0.777778                                              empty   \n",
       "459  0.777778                                              empty   \n",
       "460  0.333333                                              empty   \n",
       "461  0.444444                                       métal, boîte   \n",
       "462  0.666667                                              empty   \n",
       "463  0.777778                  bouteille, bouteille en plastique   \n",
       "464  0.555556                                              empty   \n",
       "465  0.777778                                  botella de vidrio   \n",
       "466  0.555556                                              empty   \n",
       "467  0.444444                                              empty   \n",
       "468  0.444444                                                bag   \n",
       "469  0.777778                               plastique, bouteille   \n",
       "470  0.111111                                              empty   \n",
       "471  0.444444                                              empty   \n",
       "472  1.000000                   vasetto vetro, coperchio metallo   \n",
       "473  0.444444                             goblet plastique,stück   \n",
       "474  0.444444                                              empty   \n",
       "475  0.222222                                              empty   \n",
       "476  0.444444  plastique, frais, sous atmosphère protectrice,...   \n",
       "477  0.444444                                            plastik   \n",
       "478  0.000000                                             karton   \n",
       "479  0.444444                                              empty   \n",
       "480  1.000000                                              empty   \n",
       "481  0.333333                                              empty   \n",
       "482  0.000000                                              empty   \n",
       "483  0.777778                                              empty   \n",
       "484  0.444444                                              empty   \n",
       "485  0.222222                                              empty   \n",
       "486  1.000000                                              empty   \n",
       "487  0.666667                                              empty   \n",
       "488  0.000000                                              empty   \n",
       "489  0.444444                                              empty   \n",
       "490  0.444444                                              empty   \n",
       "491  0.111111                                              empty   \n",
       "492  0.000000                                              empty   \n",
       "493  0.777778                                        drankkarton   \n",
       "494  0.444444                                              empty   \n",
       "495  0.444444                    boîte en carton, etui en carton   \n",
       "496  0.777778                                              empty   \n",
       "497  0.000000                                              empty   \n",
       "498  0.444444                                              empty   \n",
       "499  0.000000                                              empty   \n",
       "\n",
       "                                                  name ecoscore_tags  \\\n",
       "440                      ultra-pasteurized half & half             b   \n",
       "441                               arataki manuka honey             b   \n",
       "442       bœuf bourguignon mitonné au vin de bourgogne             e   \n",
       "443                             soya drink unsweetened             b   \n",
       "444            inline deligurt yogurt líquido arándano             d   \n",
       "445                               chunky peanut butter             c   \n",
       "446               chocolat au lait noisette du piemont             d   \n",
       "447                            cadbury micro mini eggs             d   \n",
       "448                       seminte 300g negre fara sare             d   \n",
       "449                                    gourmet granola             d   \n",
       "450                                   dessert fruitier             b   \n",
       "451                              reines sonnenblumenöl             c   \n",
       "452                      muesli croustillant bio choco             b   \n",
       "453                               magret de canard cru             e   \n",
       "454                      aged swiss cheese thin sliced             d   \n",
       "455                                pesto alla genovese             d   \n",
       "456                    mozzarella partiellement écrémé             d   \n",
       "457                          2 filets de poulet roties             c   \n",
       "458                           raw and organic kombucha             c   \n",
       "459                                       orange juice             c   \n",
       "460                               organic tomato sauce             b   \n",
       "461                               blédilait croissance             b   \n",
       "462                            jarret demi-sel de porc             d   \n",
       "463                                   pur jus de pomme             b   \n",
       "464                                    graines de chia             e   \n",
       "465                            vino tinto crianza 2008             c   \n",
       "466                                     no added sugar             d   \n",
       "467                                  semi-skimmed milk             d   \n",
       "468                        โอวัลติน สวิส ริช ช็อกโกแลต             c   \n",
       "469                saveur pomme kiwi à l'eau de source             c   \n",
       "470                                   cleopatra hummus             b   \n",
       "471                            cocoa vanilla ice cream             b   \n",
       "472                         olive riviera denocciolate             a   \n",
       "473                                 yogurt greek style             b   \n",
       "474    soignon fromage blanc vanille au lait de chevre             b   \n",
       "475                                    carottes râpées             b   \n",
       "476              pâte à pizza épaisse et rectangulaire             b   \n",
       "477                                    jogurt do picia             b   \n",
       "478                          hustenbonbons mit kirsche             c   \n",
       "479                                  activia framboise             b   \n",
       "480                                   foie gras canard             b   \n",
       "481                  delallo, grilled artichoke hearts             c   \n",
       "482                                               miel             b   \n",
       "483                                    sirup - zitrone             b   \n",
       "484                                      comté 12 mois             c   \n",
       "485                      chicken and tomato pasta bake             d   \n",
       "486                                      olives vertes             b   \n",
       "487                          le bon paris à l'étouffée             e   \n",
       "488                                     mel eucaliptus             b   \n",
       "489                         golden blossom maple syrup             b   \n",
       "490                        queso bulgaro (feta/sirene)             d   \n",
       "491                                        pasta sauce             b   \n",
       "492                             american style cookies             d   \n",
       "493                           amandel drink - ongezoet             a   \n",
       "494                                 select half & half             b   \n",
       "495                                        banania bio             b   \n",
       "496                                       soja vanille             b   \n",
       "497                                        rotelle bio             c   \n",
       "498  lait demi écrémé eleveurs de bretagne bouteill...             d   \n",
       "499       petit beurre au chocolat sans huile de palme             b   \n",
       "\n",
       "     ecoscore_score  countries  \\\n",
       "440              64   1.000000   \n",
       "441              72   0.311475   \n",
       "442              16   0.000000   \n",
       "443              69   0.968085   \n",
       "444              23   0.311475   \n",
       "445              41   0.813830   \n",
       "446              33   0.311475   \n",
       "447              30   0.158470   \n",
       "448              29   0.311475   \n",
       "449              25   0.158470   \n",
       "450              76   0.311475   \n",
       "451              42   0.333333   \n",
       "452              72   0.311475   \n",
       "453               6   0.311475   \n",
       "454              34   0.000000   \n",
       "455              38   0.418994   \n",
       "456              34   0.154255   \n",
       "457              45   0.301587   \n",
       "458              43   0.311475   \n",
       "459              43   1.000000   \n",
       "460              77   1.000000   \n",
       "461              69   0.254438   \n",
       "462              24   0.311475   \n",
       "463              78   0.000000   \n",
       "464              15   0.288136   \n",
       "465              52   0.870056   \n",
       "466              25   0.311475   \n",
       "467              37   0.426230   \n",
       "468              41   0.927374   \n",
       "469              49   0.000000   \n",
       "470              72   0.994536   \n",
       "471              67   0.344262   \n",
       "472             100   0.431694   \n",
       "473              69   0.898810   \n",
       "474              79   0.000000   \n",
       "475              75   0.278689   \n",
       "476              65   0.255952   \n",
       "477              78   0.737430   \n",
       "478              56   0.311475   \n",
       "479              60   0.254438   \n",
       "480              67   0.000000   \n",
       "481              46   1.000000   \n",
       "482              72   0.311475   \n",
       "483              79   0.311475   \n",
       "484              51   0.315217   \n",
       "485              23   0.994565   \n",
       "486              75   0.311475   \n",
       "487              12   0.311475   \n",
       "488              72   0.874317   \n",
       "489              64   1.000000   \n",
       "490              35   0.874317   \n",
       "491              72   1.000000   \n",
       "492              36   0.311475   \n",
       "493              83   0.655738   \n",
       "494              64   1.000000   \n",
       "495              61   0.311475   \n",
       "496              69   0.076503   \n",
       "497              42   0.414365   \n",
       "498              36   0.000000   \n",
       "499              62   0.000000   \n",
       "\n",
       "                                           ingredients  \\\n",
       "440  milk, dairy, cream, contains-less-than-1-of, e...   \n",
       "441                                              empty   \n",
       "442  beef-meat, animal, meat, beef, water, red-wine...   \n",
       "443  water, soya-bean, vegetable, legume, pulse, so...   \n",
       "444                                              empty   \n",
       "445  roasted-peanuts, nut, peanut, peanut-oil, oil-...   \n",
       "446                                              empty   \n",
       "447                                              empty   \n",
       "448                                              empty   \n",
       "449  wholemeal-spelt-flour, flour, cereal-flour, wh...   \n",
       "450                                              empty   \n",
       "451                                              empty   \n",
       "452  sunflower-oil, oil-and-fat, vegetable-oil-and-...   \n",
       "453                                              empty   \n",
       "454  pasteurized-semi-skimmed-milk, dairy, milk, se...   \n",
       "455                                              empty   \n",
       "456                                              empty   \n",
       "457                                              empty   \n",
       "458                                              empty   \n",
       "459                                              empty   \n",
       "460  tomato-puree, vegetable, fruit-vegetable, toma...   \n",
       "461  skimmed-milk, dairy, milk, whey, demineralised...   \n",
       "462                                              empty   \n",
       "463  apple-juice, fruit, juice, malaceous-fruit, ap...   \n",
       "464                                              empty   \n",
       "465                            red-wine, alcohol, wine   \n",
       "466  whole-wheat, cereal, wheat, whole-grain-oat-fl...   \n",
       "467                                              empty   \n",
       "468                                              empty   \n",
       "469  spring-water, water, fruit-juice-from-concentr...   \n",
       "470                                              empty   \n",
       "471  sugar, added-sugar, disaccharide, glucose-syru...   \n",
       "472  extra-virgin-olive-oil, oil-and-fat, vegetable...   \n",
       "473  strawberry, fruit, berries, sugar, added-sugar...   \n",
       "474                                              empty   \n",
       "475                                              empty   \n",
       "476  wheat-flour, cereal, flour, wheat, cereal-flou...   \n",
       "477  pasteurised-milk, dairy, milk, sugar, added-su...   \n",
       "478  sweetener, acid, concentrated-lemon-juice, fru...   \n",
       "479  whole-milk, dairy, milk, condensed-skimmed-mil...   \n",
       "480                                              empty   \n",
       "481  artichoke, vegetable, shoot-vegetable, sunflow...   \n",
       "482                                              empty   \n",
       "483                                              empty   \n",
       "484                                              empty   \n",
       "485  penne, dough, pasta, tomato, vegetable, fruit-...   \n",
       "486                                              empty   \n",
       "487  animal, meat, pork, pork-meat, ham, salt, anti...   \n",
       "488                                              empty   \n",
       "489                                              empty   \n",
       "490                                              empty   \n",
       "491  plum-tomatoes, diced-tomatoes-in-juice, crushe...   \n",
       "492  wheat-flour, cereal, flour, wheat, cereal-flou...   \n",
       "493  water, calcium, minerals, sea-salt, salt, e410...   \n",
       "494                                 milk, dairy, cream   \n",
       "495  sugar, added-sugar, disaccharide, skimmed-milk...   \n",
       "496                                              empty   \n",
       "497                                              empty   \n",
       "498                                              empty   \n",
       "499  petit-beurre, chocolate-chunk, chocolate, coco...   \n",
       "\n",
       "                                            categories  labels_note  \n",
       "440                                    dairies, creams     0.000000  \n",
       "441  breakfasts, spreads, sweet-spreads, bee-produc...     0.000000  \n",
       "442  meats-and-their-products, meals, meals-with-me...     0.555556  \n",
       "443  beverages-and-beverages-preparations, plant-ba...     0.333333  \n",
       "444  beverages, dairies, fermented-foods, fermented...     0.000000  \n",
       "445  plant-based-foods-and-beverages, plant-based-f...     0.111111  \n",
       "446  snacks, sweet-snacks, cocoa-and-its-products, ...     0.444444  \n",
       "447                             farming-products, eggs     0.000000  \n",
       "448  plant-based-foods-and-beverages, plant-based-f...     0.000000  \n",
       "449  plant-based-foods-and-beverages, plant-based-f...     0.111111  \n",
       "450  plant-based-foods-and-beverages, plant-based-f...     0.000000  \n",
       "451  plant-based-foods-and-beverages, plant-based-f...     0.000000  \n",
       "452  plant-based-foods-and-beverages, plant-based-f...     0.333333  \n",
       "453  meats-and-their-products, meats, poultries, du...     0.000000  \n",
       "454  dairies, fermented-foods, fermented-milk-produ...     0.000000  \n",
       "455  condiments, sauces, pestos, green-pestos, groc...     0.111111  \n",
       "456  dairies, fermented-foods, fermented-milk-produ...     0.000000  \n",
       "457  meats-and-their-products, meats, chicken-and-i...     0.333333  \n",
       "458  beverages, fermented-foods, fermented-drinks, ...     0.111111  \n",
       "459  plant-based-foods-and-beverages, beverages, pl...     0.000000  \n",
       "460  plant-based-foods-and-beverages, plant-based-f...     0.111111  \n",
       "461               baby-foods, baby-milks, growth-milks     0.000000  \n",
       "462  meats-and-their-products, meats, pork-and-its-...     0.222222  \n",
       "463  plant-based-foods-and-beverages, beverages, pl...     0.333333  \n",
       "464  plant-based-foods-and-beverages, plant-based-f...     0.111111  \n",
       "465  beverages, alcoholic-beverages, wines, red-win...     0.333333  \n",
       "466  plant-based-foods-and-beverages, plant-based-f...     0.111111  \n",
       "467                 dairies, milks, semi-skimmed-milks     0.000000  \n",
       "468                          beverages, dairies, milks     0.222222  \n",
       "469  plant-based-foods-and-beverages, beverages, pl...     0.000000  \n",
       "470  plant-based-foods-and-beverages, plant-based-f...     0.000000  \n",
       "471  desserts, frozen-foods, frozen-desserts, ice-c...     0.000000  \n",
       "472  plant-based-foods-and-beverages, plant-based-f...     0.111111  \n",
       "473  dairies, fermented-foods, fermented-milk-produ...     0.000000  \n",
       "474  dairies, fermented-foods, fermented-milk-produ...     0.111111  \n",
       "475  plant-based-foods-and-beverages, plant-based-f...     0.000000  \n",
       "476  plant-based-foods-and-beverages, plant-based-f...     0.222222  \n",
       "477  dairies, fermented-foods, fermented-milk-produ...     0.111111  \n",
       "478     snacks, sweet-snacks, confectioneries, candies     0.333333  \n",
       "479  dairies, fermented-foods, fermented-milk-produ...     0.111111  \n",
       "480  fish-and-meat-and-eggs, foies-gras, foies-gras...     0.111111  \n",
       "481  plant-based-foods-and-beverages, plant-based-f...     0.000000  \n",
       "482  breakfasts, spreads, sweet-spreads, bee-produc...     0.000000  \n",
       "483  beverages, syrups, flavoured-syrups, lemon-syrups     0.000000  \n",
       "484  dairies, fermented-foods, fermented-milk-produ...     0.000000  \n",
       "485  meats-and-their-products, meals, pasta-dishes,...     0.000000  \n",
       "486  plant-based-foods-and-beverages, plant-based-f...     0.000000  \n",
       "487  meats-and-their-products, prepared-meats, hams...     0.111111  \n",
       "488  breakfasts, spreads, sweet-spreads, bee-produc...     0.000000  \n",
       "489    sweeteners, syrups, simple-syrups, maple-syrups     0.000000  \n",
       "490  dairies, fermented-foods, fermented-milk-produ...     0.000000  \n",
       "491  condiments, sauces, pasta-sauces, tomato-sauce...     0.000000  \n",
       "492  snacks, sweet-snacks, biscuits-and-cakes, bisc...     0.666667  \n",
       "493  plant-based-foods-and-beverages, beverages, pl...     1.000000  \n",
       "494                                    dairies, creams     0.000000  \n",
       "495  beverages, breakfasts, cocoa-and-its-products,...     0.888889  \n",
       "496  plant-based-foods-and-beverages, beverages, pl...     0.000000  \n",
       "497     snacks, sweet-snacks, confectioneries, candies     0.000000  \n",
       "498                 dairies, milks, semi-skimmed-milks     0.000000  \n",
       "499  snacks, sweet-snacks, biscuits-and-cakes, bisc...     0.111111  "
      ]
     },
     "execution_count": 47,
     "metadata": {},
     "output_type": "execute_result"
    }
   ],
   "source": [
    "df.tail(60)"
   ]
  },
  {
   "cell_type": "code",
   "execution_count": 25,
   "metadata": {},
   "outputs": [
    {
     "name": "stdout",
     "output_type": "stream",
     "text": [
      "0.4444444444\n",
      "0.6666666667\n",
      "1.0\n",
      "0.2222222222\n",
      "0.3333333333\n",
      "0.5555555556\n",
      "0.7777777778\n",
      "0.1111111111\n",
      "0.0\n"
     ]
    }
   ],
   "source": [
    "uniques_groups = df['groups'].unique()\n",
    "uniques_groups_list = list(uniques_groups)\n",
    "for value in uniques_groups_list:\n",
    "    print(value)"
   ]
  },
  {
   "cell_type": "code",
   "execution_count": 26,
   "metadata": {},
   "outputs": [
    {
     "name": "stdout",
     "output_type": "stream",
     "text": [
      "crujientes de bacalao sabor curry\n",
      "confiture noix verte\n",
      "liesa varske\n",
      "schweizer poulet zum gekochtessen\n",
      "schaschlik\n",
      "froxitos\n",
      "latte intero\n",
      "багет зерновой\n",
      "hähnchen innefilet\n",
      "4 quesos rallado\n",
      "rhythm superfoods, kool ranch kale chips\n",
      "fondue de quesos suizos\n",
      "chocolate mini cupcakes\n",
      "yogurt bio myrtille\n",
      "kraft extra sharp cheddar 24oz\n",
      "foie gras de cabard entier du dud ouest\n",
      "besciamella\n",
      "orelha suína salgada sem osso prieto 400g\n",
      "mortadella gran selezionr\n",
      "kibbeh\n",
      "wald honig\n",
      "pipoca doce\n",
      "pasta di mandorle\n",
      "tomate cube 1kg\n",
      "lait choco\n",
      "bob's red mill, organic whole grain stone ground spelt flour\n",
      "spicy sauce au piments français\n",
      "maionese al tartufo\n",
      "energy refreshed lifestyle beverage\n",
      "organic brown rice lentil patties\n",
      "melange bio energisant\n",
      "rainbow peppercorn wild alaskan salmon jerky, rainbow peppercorn\n",
      "mélange jeunes pousses\n",
      "buffalo sauce\n",
      "bodyvit vitamin drink\n",
      "pizzasaus tomat - chiliflakes krydret med sort pepper\n",
      "car mix noix grille sel\n",
      "none\n",
      "pompelmo in rosa\n",
      "schinken räucher\n",
      "panettone amarena e cioccolato\n",
      "petits coroya avec 2 sauces mayonnaise\n",
      "toxic waste hazardously sour candy\n",
      "jambon à l' ancienne\n",
      "pêssego e maracujá\n",
      "paleta coconut\n",
      "les brassés banane mangue 6x95g dès 10 mois\n",
      "plant based sausage tortelloni\n",
      "graine de citrouille poudre\n",
      "caramel dogestives\n",
      "comté bio aop\n",
      "ourson chocolat noisette\n",
      "iced vovo\n",
      "6 larges free range british eggs\n",
      "in-shell large walnuts\n",
      "midnight mini cookies\n",
      "chakchouka verte\n",
      "keralla mixture\n",
      "b12 tablets\n",
      "lean shake forest fruit\n",
      "granola sucré salé\n",
      "печенье овсяное с клюквой\n",
      "échine séchée fumee au bois\n",
      "pappardelle\n",
      "sommer time fruit congelé\n",
      "chocolate con leche\n",
      "joghurt reiswaffeln\n",
      "tortilla cheese chips\n",
      "flipz, white fudge covered mini pretzels\n",
      "maes honey - miel de fleurs en pot de 3 kg\n",
      "spinach knishes\n",
      "bio kürbiskerne\n",
      "catfish nuggets\n",
      "organic french vanilla yogurr\n",
      "apple cinnamon instant oatmeal\n",
      "snacks\n",
      "spécialité laitière sucrée, au citron, aromatisée\n",
      "nutabreizh\n",
      "energy bites\n",
      "peperoni creme\n",
      "sausage links\n",
      "salade caesar\n",
      "chocolat noir jalousie\n",
      "tomme brebis corse\n",
      "anier verdejo vino\n",
      "bebida del valle tropical punch x 500ml\n",
      "deutsche hähnchen-unterschenkel\n",
      "sirop thé menthe\n",
      "mirinda naranja\n",
      "black like me\n",
      "almiron leche para lactantes\n",
      "suprema de atún de aleta amarill\n",
      "mes p'tits secrets biscuit chocolat au lait\n",
      "soured cream\n",
      "lot 4x250g cafe moulu tradition maison du cafe\n",
      "new york style coffee cake, new york style\n",
      "tablete laka 17x90g\n",
      "soy-rich tofu soft\n",
      "smeerbare roomboter\n",
      "moutarde\n",
      "b/gold bavarian choc\n",
      "zimt-paste\n",
      "fideos chinos\n",
      "saucisse fumée la finoise bbc\n",
      "kiwi zespri sungold\n",
      "patatas raquel\n",
      "ryba po grecku\n",
      "spiced mango boneless butterflied chicken\n",
      "la meridionale id'halal\n",
      "cajun style mix\n",
      "pasta\n",
      "zefir\n",
      "porc façon grand mère\n",
      "bagel fromage jalapeno\n",
      "cabello, piel y uñas\n",
      "peanut choco snack\n",
      "grass fed bone broth protein\n",
      "beurre doux (82 % mg) extra fin congelé \n",
      "tradicionalni musli\n",
      "hot & spicy chicken strips - new york diner (home bargains)\n",
      "holunder punsch\n",
      "lemon\n",
      "chicken paste\n",
      "maïs croquant\n",
      "orange flavor\n",
      "crepinettes\n",
      "pita\n",
      "cheeze curls\n",
      "york con queso crema\n",
      "yaourt fraise\n",
      "chocolat ecuador 75%\n",
      "sorbet pomme\n",
      "verde green chile no 3\n",
      "au cœur du fruit\n",
      "peaceful greens\n",
      "nrg meal bar\n",
      "bio-mandel drink\n",
      "3 p'tits farcis de poulet ail et fines herbes\n",
      "amstel cerveza\n",
      "flageolets extra-fins\n",
      "sauce bolognaise\n",
      "lollipops\n",
      "shredded wheat red berries and vanilla\n",
      "leche entera\n",
      "hiball energy, sparkling energy water, lemon & lime\n",
      "capsule rooibos classique\n",
      "tropical traditions liquid soap\n",
      "zakuska sauerampfer 275gr\n",
      "organic golden bbq sauce\n",
      "aceitunas verdes rellenas de pimiento rojo\n",
      "citrons bio\n",
      "bourbon whiskey\n",
      "vin nouveau 2022 méthode nature rouge bio\n",
      "kelp (item# 14508, 14500, 10429, 30664)\n",
      "\n",
      "crocodiller\n",
      "yaourt grenadine\n",
      "infusion citronnelle et morceaux de pomme et gingembre\n",
      "assortiment de biscuits artisanaux\n",
      "boulettes de haricots flageolets\n",
      "cappuccino mix caramel\n",
      "cuisse de poulet blanc déjointée\n",
      "spaghetti n. 06\n",
      "les belles tranches rosette\n",
      "poudre de baobab\n",
      "water whey+watt\n",
      "tortellini jamón sin gluten\n",
      "sapori naturali\n",
      "crunchy chocolate chip cookies\n",
      "emincés de dinde\n",
      "dulceata de prune\n",
      "organic classic yellow cake\n",
      "café molido\n",
      "cottage cheese\n",
      "daporosa di puglia\n",
      "can tray\n",
      "calabacín\n",
      "cerneaux de noix\n",
      "yogurt cremoso\n",
      "lebensmittelhandel erdbeererot\n",
      "toilettenpapier\n",
      "tmp60\n",
      "sparkling italian apple presse\n",
      "bamboo shoot sour\n",
      "yogurt natural\n",
      "petite sardines\n",
      "les dragées perles d'argent\n",
      "pure via\n",
      "avena\n",
      "les p’tits vénètes salés, chèvre et envre de seiche\n",
      "juice\n",
      "plant based meatless meatballs\n",
      "belpaese\n",
      "100% orange juice\n",
      "maxi pouletbrust\n",
      "free range white\n",
      "huile d'olive\n",
      "deerfields bakery, lemon buttons cookies\n",
      "pâtes trois fromages emmental, gorgonzola, fourme d'ambert\n",
      "sopa de pollo con maravilla sin conservantes\n",
      "game over 15\n",
      "tesco bbq sauce\n",
      "moutarde d'alsace\n",
      "poulet burger\n",
      "hamburger buns\n",
      "kit boisson tres gourmande\n",
      "pure coconut water + pure pineapple juice\n",
      "verrines apero\n",
      "eaa lemon iced tea\n",
      "tortilla 3 quesos\n",
      "organic sesame sriracha sauce\n",
      "azul hojas\n",
      "pâté volaille nature\n",
      "sriracha\n",
      "bakepulver\n",
      "truffle parmesan garlic seasoning\n",
      "clementine\n",
      "light taste in olive oil, mild\n",
      "ginseng coffee compatibili con sistema nespresso capsule\n",
      "hipp baby biscuite\n",
      "frischkäse mager\n",
      "caramel or blanc\n",
      "tostas canapé romero y sal\n",
      "hysope eau tonique fleur de sureau\n",
      "saucisses végétales\n",
      "véritable saucisson à cuire de lyon nature\n",
      "amandină selena kaufland\n",
      "goat cheese\n",
      "tandoori style chicken kebabs\n",
      "recette d'indesamossas legumessauces aigre douce4+1 offert\n",
      "aminogen complex\n",
      "nectar de mirtille\n",
      "jambon paysan\n",
      "sablés et palets bretons\n",
      "cardamomo verde\n",
      "barra de cereal coco + amêndoas\n",
      "unfrosted berry strawberry toaster pastries\n",
      "dierbergs kitchen, gregs crazy good crispy snickerdoodle cookies\n",
      "kefir 2,5%\n",
      "perle de tapioca\n",
      "lipton zielona herbata z nutą cytrusów\n",
      "sama-universal\n",
      "funfetti\n",
      "asperges blanches coupees\n",
      "theobroma c o o a †\n",
      "quiche poireaux & lardons\n",
      "muller rice\n",
      "olives noires entières à la grecque\n",
      "fat free skim milk\n",
      "ice cubes\n",
      "honey wheat braided pretzels\n",
      "assorted mint flavour\n",
      "ranch dressing\n",
      "confettura\n",
      "saucission sec pur porc qualité supérieure\n",
      "prosecco\n",
      "leche\n",
      "orange pêche abricot\n",
      "lays papryka\n",
      "sirop de menthe bio 50cl\n",
      "dippies beetroot & caramelised onion\n",
      "mojito zéro sans alcool\n",
      "florentins\n",
      "la auténtica individuales de g.\n",
      "veloute provencal\n",
      "apples, oats, & cinnamon\n",
      "olio extra vergine oliva\n",
      "tortilla chips - sea salt\n",
      "hydrator berry\n",
      "filetti di tonno al naturale\n",
      "filete pechuga de pavo\n",
      "hawaiian\n",
      "stone baked pitta bread\n",
      "pain d'épices au miel\n",
      "chorizo pamplona\n",
      "chestnut flour pancake and waffle mix\n",
      "leinöl\n",
      "pan proteico\n",
      "dill pickle cashews\n",
      "habanero jack cheese\n",
      "miel multiflores\n",
      "belize black\n",
      "queso de mezcla fresco\n",
      "purunchon, sea tangle crisps\n",
      "cream soda\n",
      "garlic bread\n",
      "viande de boeuf fumée\n",
      "mie noodles\n",
      "gamibg booster\n",
      "skimmed milk\n",
      "beurre d'isigny demi-sel aop\n",
      "filet de thon blanc germon à l'huile d'olive\n",
      "grisbí street passion\n",
      "beurre extra fin doux 82%mg\n",
      "strawberry essence\n",
      "healthy chickpea & soya snack\n",
      "meatballs with pepper sauce\n",
      "glace vanille\n",
      "лайм\n",
      "poire\n",
      "veganer schinken spicker grillgemüse\n",
      "sour 12 flavor mini gummi worms\n",
      "sticks\n",
      "chicle trident hortelã 21unidade x 8,5g\n",
      "麺にかけるだけ 鮭レモンつゆ\n",
      "capuccino\n",
      "banana bread mix\n",
      "confiture de fraise\n",
      "light spreadable butter\n",
      "mini rocher noix coco\n",
      "eyguebelle - sirop de citron acide zest 100 cl\n",
      "crushed pineapple\n",
      "roti de porc supérieur\n",
      "burger vegetariana\n",
      "miel des forêts\n",
      "salchichón sarta rústico\n",
      "colorant alimentaire pate\n",
      "boneless skinless chiken\n",
      "mantequilla de maní\n",
      "cajohns, picante sauce, gourmet salsa, mild\n",
      "truthahnbrust\n",
      "galletas integrales artesanales\n",
      "provola\n",
      "ramen noodles\n",
      "boisson aux jus de fruits - tropical - à l'eau de source - goût tropical\n",
      "only sourcherry juice\n",
      "whole weat penne\n",
      "frambuesas\n",
      "chilisaus\n",
      "organic desert jewels medley\n",
      "major\n",
      "açúcar cristal branco\n",
      "café moulu ocoa iguanarepublique dominicaine\n",
      "gerolsteiner medium\n",
      "eau de bouleau bio à la rhubarbe\n",
      "omega 3 6 9\n",
      "mélange vitalité\n",
      "biftecks\n",
      "yogur con melocotón\n",
      "protein  puffs\n",
      "frozen fruit blend\n",
      "moutarde au miel\n",
      "roasted in-shell peanuts\n",
      "blueberry stressed muffin\n",
      "rocoto\n",
      "tacos maxi format\n",
      "milk chocolate digestive\n",
      "ready brek\n",
      "rafael espresso cremoso in cialde\n",
      "granité pommes\n",
      "scottona\n",
      "multigrain baguette\n",
      "vino uva di troia\n",
      "syrup\n",
      "amandes, cramberries , noix de coco et du bresil\n",
      "chausson aux pommes\n",
      "château saint antoine\n",
      "soy protein powder\n",
      "chupapanza\n",
      "thon a l'huile\n",
      "chai latte, lovely india\n",
      "lg1 sports drink\n",
      "turmeric superfood powder\n",
      "amandes décortiquées\n",
      "organic whole grain energy snack bar\n",
      "whole grain rotini\n",
      "bolo de mel de cana de madeira\n",
      "gouda hollande igp jeune\n",
      "batido sustitutivo cappucino\n",
      "chloe’s\n",
      "lomo adobado de cerdo iberico\n",
      "2 hampes\n",
      "erdbeer marmelad\n",
      "adega ponte de lima vingão\n",
      "confettura fragole\n",
      "vanille\n",
      "brioche tranchée\n",
      "baron de saint laurent\n",
      "gouda jeune\n",
      "lasaña de carne\n",
      "freedom's choice strawberry preserves\n",
      "spirale blanche de blé dur biologique\n",
      "chiktaye de morue colin guad'epices\n",
      "aceitunas kalamon con tomate deshidratado\n",
      "whey protein smoothie\n",
      "torta farcita al cacao\n",
      "abricots\n",
      "madalenas sabor coco rellenas con dulce de leche\n",
      "hot sauce company smokey serrano hot sauce\n",
      "pessac-léognan (1999)\n",
      "penna\n",
      "lomo ajillo\n",
      "pane baquette\n",
      "caramel sirop d’érable\n",
      "chocolat de ménage au lait\n",
      "pepinillos en vinagre\n",
      "amandelcroissant\n",
      "pain au chocolat au beurre x2\n",
      "queso arzua-ulloa\n",
      "dinkel-stangen\n",
      "ravioli ricotta e spinaci\n",
      "fully cooked elbows\n",
      "salsiccia\n",
      "pur jus de pomme\n",
      "trüffel auslese\n",
      "confiture myrtille sauvage\n",
      "zuegg confettura frutti di bosco gr. 700\n",
      "potato classics, au gratin potatoes with a creamy sauce mix, au gratin\n",
      "bobun coréen\n",
      "jaffa\n",
      "peanuts sour cream chives\n",
      "échine de porc séchée\n",
      "maté bio\n",
      "chocolate chip crunchy almond flour cookies\n",
      "assorted pretzel tray\n",
      "lemon cake mix\n",
      "cranberries moelleuses bio fructivia - sachet 200g\n",
      "tartare ail & fines herbes\n",
      "chorizo claro iberico extra\n",
      "emmermehl\n",
      "big mac\n",
      "chocolate artesano con naranja\n",
      "gran maremma\n",
      "baci\n",
      "ranch\n",
      "ninfa\n",
      "feinste knusperwaffeln\n",
      "milk chocolate castle cookies\n",
      "market pantry, low-moisture part-skim shredded mozzarella cheese\n",
      "schwarztee\n",
      "chompie's\n",
      "pain ciabatta aux herbes de provence, poivrons et courgettes\n",
      "p'tit brassé\n",
      "muesli protéines\n",
      "soufflés tomate\n",
      "farina tipo 00\n",
      "amande california\n",
      "manchego\n",
      "entertaining crackers\n",
      "bonito del norte, en aceite de oliva\n",
      "greek style plant based yoghurt\n",
      "stop n shop boneless chicken\n",
      "sparkling clementine (fortified)\n",
      "dunkin donut holiday cheer\n",
      "queso havarti light madurado danés\n",
      "imitation sour creme\n",
      "anglesey sea salt crisps\n",
      "filetes lomo cerdo\n",
      "mango fresco deshidratado\n",
      "tartine p'tit dej nature\n",
      "mini eggnog mix\n",
      "fettuccine ninho\n",
      "erdnuss buddha bulgur bowl\n",
      "radiatore macaroni\n",
      "mineralwasser medium\n",
      "the big dig\n",
      "red apple slices\n",
      "ring bologna\n",
      "8 fresh pork sausage patties\n",
      "mustard seed oil\n",
      "gherkin creamy dreamy dip\n",
      "organic eucalyptus oil\n",
      "taqueria style corn tortillas\n",
      "cipolle borettane\n",
      "chipotle peppers in adobo sauce\n",
      "step\n",
      "olive calamata en saumure\n",
      "minions\n",
      "saucisses herbes de volaille bio\n",
      "kakao\n",
      "adrenal decaf coffee\n",
      "aiguillettes poulet\n",
      "roasted garlic hummus\n",
      "lindt merry christmas\n",
      "sirop d erable\n",
      "mushroom pasta sauce\n",
      "pâté di melanzane\n"
     ]
    }
   ],
   "source": [
    "uniques_name = df['name'].unique()\n",
    "uniques_name_list = list(uniques_name)\n",
    "for value in uniques_name_list:\n",
    "    print(value)"
   ]
  },
  {
   "cell_type": "code",
   "execution_count": 27,
   "metadata": {},
   "outputs": [
    {
     "name": "stdout",
     "output_type": "stream",
     "text": [
      "0.8707865169\n",
      "0.0\n",
      "0.9945355191\n",
      "0.3114754098\n",
      "0.3333333333\n",
      "0.8743169399\n",
      "0.4316939891\n",
      "0.7446808511\n",
      "1.0\n",
      "0.5762711864\n",
      "0.9016393443\n",
      "0.9572192513\n",
      "0.4124293785\n",
      "0.1147540984\n",
      "0.1117021277\n",
      "0.420212766\n",
      "0.5355191257\n",
      "0.2960893855\n",
      "0.6885245902\n",
      "0.0765027322\n",
      "0.2864864865\n",
      "0.2881355932\n",
      "0.7486338798\n",
      "0.2544378698\n",
      "0.9734042553\n",
      "0.0558659218\n",
      "0.9940828402\n",
      "0.218579235\n",
      "0.0327868852\n",
      "0.6557377049\n",
      "0.1584699454\n",
      "0.7650273224\n",
      "0.8715083799\n",
      "0.2786885246\n",
      "0.3031914894\n",
      "0.9890710383\n",
      "0.8432432432\n",
      "0.3107344633\n",
      "0.8639053254\n",
      "0.3152173913\n",
      "0.7431693989\n",
      "0.4426229508\n",
      "0.4207650273\n",
      "0.8510638298\n",
      "0.7595628415\n",
      "0.2131147541\n",
      "0.3149171271\n",
      "0.4078212291\n",
      "0.6536312849\n",
      "0.6229508197\n",
      "0.0167597765\n",
      "0.2945205479\n",
      "0.2857142857\n",
      "0.8700564972\n",
      "0.8961748634\n",
      "0.3442622951\n",
      "0.8994413408\n",
      "0.7393617021\n",
      "0.3184357542\n",
      "0.2847682119\n",
      "0.737704918\n",
      "0.2834224599\n",
      "0.5901639344\n",
      "0.4033149171\n",
      "0.8776595745\n",
      "0.868852459\n",
      "0.320754717\n",
      "0.7514124294\n",
      "0.1818181818\n",
      "0.4301675978\n",
      "0.4189944134\n",
      "0.9625\n",
      "0.9943502825\n",
      "0.8684210526\n",
      "0.0756756757\n",
      "0.4308510638\n",
      "0.3244680851\n",
      "0.6382978723\n",
      "0.956284153\n",
      "0.1111111111\n",
      "0.0740740741\n",
      "0.5923913043\n",
      "0.1675675676\n",
      "0.3076923077\n",
      "0.7248677249\n",
      "0.4347826087\n",
      "0.8465608466\n",
      "0.3015873016\n",
      "0.1256830601\n",
      "0.0218579235\n",
      "0.1630434783\n",
      "0.9891891892\n",
      "0.3227513228\n",
      "0.962962963\n",
      "0.8342245989\n",
      "0.0918918919\n",
      "0.427027027\n",
      "0.2349726776\n",
      "0.873015873\n",
      "0.3081081081\n"
     ]
    }
   ],
   "source": [
    "uniques_countries = df['countries'].unique()\n",
    "uniques_countries_list = list(uniques_countries)\n",
    "for value in uniques_countries_list:\n",
    "    print(value)"
   ]
  },
  {
   "cell_type": "code",
   "execution_count": 28,
   "metadata": {},
   "outputs": [
    {
     "name": "stdout",
     "output_type": "stream",
     "text": [
      "plástico\n",
      "empty\n",
      "ldpe - polyethylen niedriger dichte\n",
      "empaque de carton\n",
      "plastique,frais,réfrigéré\n",
      "kunststoff, tablettverpackung\n",
      "sachet plastique\n",
      "plastique, carton\n",
      "plastic\n",
      "backing\n",
      "пластик\n",
      "kunststoff\n",
      "flacon plastique\n",
      "etui en carton,pot en plastique\n",
      "plastique\n",
      "plastikowe\n",
      "papier, surgelé\n",
      "metal, can, 40 fe\n",
      "boîte, conserve, boite métal\n",
      "métal, verre, bocal, couvercle\n",
      "lata, pasteurizado\n",
      "plastique, barquette\n",
      "verre\n",
      "frais\n",
      "glass-bottle\n",
      "barquette plastique\n",
      "pot\n",
      "plástico, 07 other\n",
      "paper carton\n",
      "cardboard\n",
      "plastique, frais, sous-vide\n",
      "pet-pot, ldpe-wrapper\n",
      "plastique, bouchon de bouteille, brique, carton, bouchon de bouteille de vin\n",
      "glass,bottle\n",
      "bag, mixed plastic film-packet\n",
      "pet-bottle, pp-lid\n",
      "papier\n",
      "plastique, frais, barquette, barquette en plastique, jetez le barquette avec les déchets ménagers, point vert\n",
      "plastique, sachet, carton\n",
      "métal, plastique, recycler, verre, jeter, film, bocal, couvercle, bocal en verre, couvercle en métal, film en plastique\n",
      "plastique, pp05\n",
      "vidrio, bote, pasteurizado\n",
      "sachet en alluminium, sachet papier\n",
      "sachet\n",
      "métal, plastique, papier, carton, bocal\n",
      "kasten, pappe, karton\n",
      "plastique, sachet\n",
      "sachet, mixed plastic film-packet\n",
      "enveloppe, clip en plastique, sachet en plastique\n",
      "flasche\n"
     ]
    }
   ],
   "source": [
    "uniques_packaging = df['packaging'].unique()\n",
    "uniques_packaging_list = list(uniques_packaging)\n",
    "for value in uniques_packaging_list:\n",
    "    print(value)"
   ]
  },
  {
   "cell_type": "code",
   "execution_count": 29,
   "metadata": {},
   "outputs": [
    {
     "name": "stdout",
     "output_type": "stream",
     "text": [
      "empty\n",
      "c\n",
      "d\n",
      "b\n",
      "a\n",
      "not-applicable\n",
      "e\n"
     ]
    }
   ],
   "source": [
    "uniques_ecoscore_tags = df['ecoscore_tags'].unique()\n",
    "uniques_ecoscore_tags_list = list(uniques_ecoscore_tags)\n",
    "for value in uniques_ecoscore_tags_list:\n",
    "    print(value)"
   ]
  },
  {
   "cell_type": "code",
   "execution_count": 30,
   "metadata": {},
   "outputs": [
    {
     "name": "stdout",
     "output_type": "stream",
     "text": [
      "49.0\n",
      "52.0\n",
      "33.0\n",
      "21.0\n",
      "35.0\n",
      "74.0\n",
      "67.0\n",
      "100.0\n",
      "13.0\n",
      "39.0\n",
      "44.0\n",
      "12.0\n",
      "15.0\n",
      "51.0\n",
      "62.0\n",
      "56.0\n",
      "18.0\n",
      "68.0\n",
      "78.0\n",
      "31.0\n",
      "46.0\n",
      "79.0\n",
      "64.0\n",
      "77.0\n",
      "59.0\n",
      "54.0\n",
      "72.0\n",
      "66.0\n",
      "22.0\n",
      "80.0\n",
      "10.0\n",
      "25.0\n",
      "97.0\n",
      "40.0\n",
      "57.0\n",
      "55.0\n",
      "45.0\n",
      "34.0\n",
      "28.0\n",
      "47.0\n",
      "27.0\n",
      "58.0\n",
      "71.0\n",
      "7.0\n",
      "0.0\n",
      "36.0\n",
      "43.0\n",
      "17.0\n",
      "75.0\n",
      "30.0\n",
      "24.0\n",
      "76.0\n",
      "48.0\n",
      "65.0\n",
      "19.0\n",
      "8.0\n",
      "60.0\n",
      "88.0\n",
      "70.0\n"
     ]
    }
   ],
   "source": [
    "uniques_ecoscore_score = df['ecoscore_score'].unique()\n",
    "uniques_ecoscore_score_list = list(uniques_ecoscore_score)\n",
    "for value in uniques_ecoscore_score_list:\n",
    "    print(value)"
   ]
  },
  {
   "cell_type": "code",
   "execution_count": 31,
   "metadata": {},
   "outputs": [
    {
     "name": "stdout",
     "output_type": "stream",
     "text": [
      "cod, fish, white-fish, high-oleic-sunflower-oil, oil-and-fat, vegetable-oil-and-fat, vegetable-oil, sunflower-oil, curry, condiment, spice, e621\n",
      "water\n",
      "empty\n",
      "whole-chicken, poultry, chicken\n",
      "kale, vegetable, brassica, cabbage, sunflower-seed, plant, seed, sunflower, tahini, sesame, sesame-paste, carrot, root-vegetable, taproot-vegetable, cane-sugar, added-sugar, disaccharide, sugar, cider-vinegar, vinegar, onion, onion-family-vegetable, sea-salt, salt, lemon-juice, fruit, juice, fruit-juice, dill-weed, garlic-white-pepper, sesame-seeds\n",
      "white-wine, alcohol, wine, potato-starch, starch, e410, iodised-salt, salt, spice, condiment, pasteurised-cow-s-milk, dairy, milk, pasteurised-milk, cow-s-milk, enzyme, lactic-ferments, ferment, microbial-culture\n",
      "cooked-beef-meat, animal, meat, beef, beef-meat, onion, vegetable, root-vegetable, onion-family-vegetable, water, cracked-bulgur-wheat, flour, paprika, condiment, spice, salt, black-pepper, seed, pepper, allspice, fruit-vegetable, chili-pepper, cumin, coriander, herb, sunflower, plant, canola-oil, oil-and-fat, vegetable-oil-and-fat, rapeseed-oil\n",
      "tomato, vegetable, fruit-vegetable\n",
      "whole-spelt, cereal, spelt, wheat\n",
      "reverse-osmosis-filtered-water, crystalline-fructose, natural-flavouring, flavouring, caffeine, l-theanine, reduced-sugar-fruit-extracts, e330, e296, fruit, vegetable-juice, vegetable, e211, e202, e955, alpha-gpc, pyridoxine-hcl, cyanocobalamin, vitamin-b12, ergocalciferol, vitamin-d, l-teaactive, green-tea, plant, tea, acai-berry, pomegranate, blueberry, berries, colour, to-preserve-freshness\n",
      "wild-alaskan-keta-salmon, sugar, added-sugar, disaccharide, salt, contains-2-and-less-of, spice, condiment, lemon-powder, fruit, juice, fruit-juice, lemon-juice, onion, vegetable, root-vegetable, onion-family-vegetable, garlic, black-pepper-extract, seed, pepper, black-pepper, e392, sunflower-oil, oil-and-fat, vegetable-oil-and-fat, vegetable-oil, water\n",
      "water, sugar, added-sugar, disaccharide, salt, pepper, seed, acidity-regulator, preservative, e270, e262, e202\n",
      "peanut, nut, hazelnut, tree-nut, cashew-nuts, almond, peanut-oil, oil-and-fat, vegetable-oil-and-fat, vegetable-oil, sunflower-oil, salt\n",
      "cheese, dairy, water, butter, ham, animal, meat, pork, pork-meat, milk-proteins, protein, animal-protein, whey-product, whey, emulsifying-salts, e450, e452, smoke, milk, microbial-culture, ferment, microbial-coagulating-enzyme, enzyme, coagulating-enzyme, animal-based-rennet, rennet, salt, colour, dextrose, added-sugar, monosaccharide, glucose, maltodextrin, preservative, e331, e160a, e250\n",
      "pasteurised-milk, dairy, milk, milk-proteins, protein, animal-protein, corn-starch, starch, natural-flavouring, flavouring, lemon, fruit, citrus-fruit, lactase, enzyme, lactic-ferments, ferment, microbial-culture, e950, e955\n",
      "skimmed-milk, dairy, milk, whey, cream, banana, fruit, mango-puree, puree, mango, sugar, added-sugar, disaccharide, modified-corn-starch, starch, corn-starch, modified-starch, natural-flavouring, flavouring, thickener, acid, emulsifier, e300, carob-seed-flour, flour, vegetable, legume, pulse, carob-bean-locust-bean, e330, oil-and-fat, vegetable-oil-and-fat, rapeseed-oil, colza-oil\n",
      "wheat-flour, cereal, flour, wheat, cereal-flour, sugar, added-sugar, disaccharide, vegetable-oil, oil-and-fat, vegetable-oil-and-fat, egg, glucose-syrup, monosaccharide, glucose, chocolate, stabiliser, glucose-fructose-syrup, fructose, lactose-and-milk-proteins, protein, animal-protein, milk-proteins, lactose, raising-agent, emulsifier, salt, flavouring, colza-oil, rapeseed-oil, palm, palm-oil-and-fat, palm-oil, sunflower, plant, cottonseed, seed, cocoa-paste, cocoa, fat-reduced-cocoa-powder, cocoa-powder, e422, e450i, e450, e500ii, e500, e471, vanilla, hazelnut, nut, tree-nut, soya-lecithin, e322, e322i\n",
      "sucre, farine-de-ble, garniture-arome-framboise, pommes, glucose, added-sugar, monosaccharide, framboises, fibre-de-fruit, gelifiant, acides-alimentaires, colorants-alimentaires, noix-de-coco-sechee, huile-vegetale, lait-en-poudre, sel, humidifiant, e428, levure-chimique, arome, emulsifiant, colorant-alimentaire, de-ble, pectine, e330, e331, rouge-allure, ac, e150, iii, e422, lecithine-de-soja, rouge-allura-ac\n",
      "free-range-chicken-eggs, egg, chicken-egg, free-range-eggs\n",
      "mecobalamin, 1000-microgan-friendly, e955, gluten, co-methylcobalamin, active-vitamin-b12\n",
      "sugar, added-sugar, disaccharide, wheat-flour, cereal, flour, wheat, cereal-flour, butter, dairy, oat-flour, oat, raisin, fruit, berries, grape, e500ii, e500, salt, e330, cinnamon, condiment, spice, vanillin, fat, oil-and-fat, protein\n",
      "rice, cocoa-butter, plant, cocoa, unrefined-cane-sugar, added-sugar, disaccharide, sugar, cane-sugar, unrefined-sugar, skimmed-milk-yogurt-powder, dairy, yogurt, yogurt-powder, brown-rice, sesame-seeds, seed, sesame, sea-salt, salt\n",
      "sunflower-oil, oil-and-fat, vegetable-oil-and-fat, vegetable-oil, whey-powder, dairy, whey, salt, dextrose, added-sugar, monosaccharide, glucose, lactose, flavouring, spice, condiment, acid, e330\n",
      "white-fudge, flour, corn-syrup, added-sugar, disaccharide, soya-lecithin, e322, e322i, salt, yeast, malted-barley, cereal, malt, e500ii, e500, sugar, palm-kernel-oil, oil-and-fat, vegetable-oil-and-fat, palm-kernel-oil-and-fat, palm-oil, palm-oil-and-fat, milk, dairy, skimmed-milk, artificial-flavouring, flavouring, wheat-flour, wheat, cereal-flour, e375, reduced-iron, minerals, iron, thiamin-mononitrate, thiamin, e101, folic-acid, folate, barley, dextrose, monosaccharide, glucose\n",
      "blend-of-eu-and-non-eu-honeys, added-sugar, honey, blend-of-honeys\n",
      "catfish, water, e452vi, e452, and-salt\n",
      "apple-juice-from-concentrate, fruit, juice, malaceous-fruit, apple, fruit-juice, apple-juice, concentrated-apple-juice, corn-syrup, added-sugar, disaccharide, sugar, e428, modified-corn-starch, starch, corn-starch, modified-starch, e330, e300, natural-and-artificial-flavouring, flavouring, natural-flavouring, artificial-flavouring, sodium-citrate, minerals, sodium, e903, colour, vitamin-c, e129, e110, e102, e133, e127\n",
      "skimmed-milk, dairy, milk, cream, sugar, added-sugar, disaccharide, water, lemon, fruit, citrus-fruit, modified-rice-starch, starch, modified-starch, rice-starch, corn, cereal, skimmed-milk-powder, milk-powder, milk-mineral-concentrate, milk-minerals, flavouring, lactic-ferments, ferment, microbial-culture, colour\n",
      "pork, animal, water, salt, spice, condiment, natural-and-artificial-maple-flavor, sugar, added-sugar, disaccharide, e621, with-not-more-than-2-tricalcium-phosphate-and-silicon-dioxide-added-as-anti-caking-agents, enclosed-in-a-regenerated-collagen-casing, maltodextrin, e150a\n",
      "zucker, mandeln, glukosesirup, palmfett, haselnusse, kakaomasse, kakaobutter, magermilchpulver, sussmolkenpulver, vollmilchpulver, butterreinfet-emulgatoren, naturliches-aroma, kann-andere-schalenfruchte, erdnusse, ei, gluten, lupine-und-sesam-enthalten, lecithine, enthalt-soja\n",
      "250-ml\n",
      "milk-chocolate, chocolate, corn-starch, starch, sugar, added-sugar, disaccharide, sunflower-oil, oil-and-fat, vegetable-oil-and-fat, vegetable-oil, rice-starch, egg, whole-milk-powder, dairy, milk-powder, honey, rice-flour, flour, rice, emulsifier, salt, natural-flavouring, flavouring, sesame-seeds, seed, sesame, cocoa-butter, plant, cocoa, cocoa-paste, natural-vanilla-flavouring, vanilla-flavouring, soya-lecithin, e322, e322i, e450, e500, almond, nut, tree-nut, hazelnut\n",
      "sour-cream, dairy, cream\n",
      "sugar, added-sugar, disaccharide, flour, wheat-flour, cereal, wheat, cereal-flour, water, soya-oil, oil-and-fat, vegetable-oil-and-fat, vegetable-oil, egg, vegetable-fat, palm-oil, palm-oil-and-fat, e471, e435, e319, e330, contains-less-than-2-of-each-of-the-following, dextrose, monosaccharide, glucose, modified-starch, starch, whey, dairy, salt, corn-starch, cinnamon, condiment, spice, e500ii, e500, e541, wheat-gluten, gluten, natural-and-artificial-flavouring, flavouring, natural-flavouring, artificial-flavouring, e450i, e450, cottonseed-oil, rice-flour, rice, soya-lecithin, e322, e322i, e281, e481, e341i, e341, e466, e171, e160b, enzyme, e100, barley-malt-flour, barley, barley-flour, e375, reduced-iron, minerals, iron, thiamin-mononitrate, thiamin, e101, folic-acid, folate, preservative, butter, colour\n",
      "butter, dairy, rapeseed-oil, oil-and-fat, vegetable-oil-and-fat, water, emulsifier, salt, preservative, acid, colour, e322i, e322, e202, e270, e160a\n",
      "agavendicksaft, zimtpulver, zimtrindenol, verdickungsmittel, guarkernmehl, e415\n",
      "water, milk-proteins, protein, animal-protein, salt, sugar, added-sugar, disaccharide, flavour-enhancer, egg, e621\n",
      "sugar, added-sugar, disaccharide, strawberry, fruit, berries, corn-starch, starch, natural-flavouring, flavouring, concentrated-lemon-juice, juice, fruit-juice, lemon-juice, lactic-ferments, ferment, microbial-culture\n",
      "water, almond, nut, tree-nut, sugar, added-sugar, disaccharide, maltodextrin, emulsifier, e322\n",
      "turkey-meat, poultry, turkey, herb, calf-fat, oil-and-fat, fat, animal-fat, garlic, vegetable, root-vegetable, onion-family-vegetable, salt, sunflower-oil, vegetable-oil-and-fat, vegetable-oil, acid, e262, dextrose, added-sugar, monosaccharide, glucose, spice, condiment, concentrated-lemon-juice, fruit, juice, fruit-juice, lemon-juice, antioxidant, e326, e301\n",
      "vegetable, legume, pulse, flageolets, green-flageolets, water, salt\n",
      "water, vegetable, fruit-vegetable, tomato, chopped-tomatoes, crushed-tomato, crushed-peeled-tomato, tomato-puree, cooked-beef-meat, animal, meat, beef, beef-meat, pork, pork-meat, carrot, root-vegetable, taproot-vegetable, onion, onion-family-vegetable, sunflower-oil, oil-and-fat, vegetable-oil-and-fat, vegetable-oil, sugar, added-sugar, disaccharide, modified-corn-starch, starch, corn-starch, modified-starch, salt, parsley, herb, leaf-vegetable, acid, flavouring, garlic, tomato-juice, e270, e330\n",
      "whole-wheat, cereal, wheat, humectant, glucose-syrup, added-sugar, monosaccharide, glucose, sugar, disaccharide, dextrose, maltodextrin, raspberry-puree, fruit, berries, puree, raspberry, strawberry-puree, strawberry, cranberry, carrot-concentrate, vegetable, root-vegetable, taproot-vegetable, carrot, roselle-flower, plant, gelling-agent, firming-agent, natural-flavouring, flavouring, concentrated-lemon-juice, juice, fruit-juice, lemon-juice, e422, e440a, e333\n",
      "whole-cow-s-milk, dairy, milk, whole-milk, cow-s-milk\n",
      "carbonated-purified-water, natural-flavouring, flavouring, caffeine, guarana-extract, plant, guarana, panax-ginseng-extract, d-calcium-pantothenate, e375, pyridoxine-hydrochloride, vitamins, vitamin-b6, cyanocobalamin, vitamin-b12, pantothenic-acid\n",
      "water, salt, sorrel, vegetable, leaf-vegetable, salad\n",
      "water-crushed-tomatoes, yellow-mustard, cider-vinegar, vinegar, balsamic-vinegar, sea-salt, salt, cumin-tapioca-starch, mustard, black-pepper, seed, pepper, chipotle, vegetable, fruit-vegetable, chili-pepper, jalapeno-pepper, onion, root-vegetable, onion-family-vegetable, natural-smoke-flavouring, flavouring, natural-flavouring, ancho-powder, garlic-garlic-powder, water, mustard-seed, condiment, spice, turmeric-paprika, wine-vinegar, concentrated-grape-must, fruit, must, grape-must\n",
      "water, salt, bell-pepper, vegetable, fruit-vegetable, acid, e270, flavour-enhancer, antioxidant, e220, e330, e621, e300\n",
      "glucose-syrup, added-sugar, monosaccharide, glucose, sugar, disaccharide, e428, water, acid, flavouring, vegetable-oil, oil-and-fat, vegetable-oil-and-fat, colour, glazing-agent, e330, coconut-oil, radish, vegetable, root-vegetable, taproot-vegetable, safflower, plant, e901\n",
      "ginger, condiment, spice, orange-zest, fruit, citrus-fruit, orange, lime-oil, essential-oil\n",
      "green-flageolets, vegetable, legume, pulse, flageolets, rice, sunflower-oil, oil-and-fat, vegetable-oil-and-fat, vegetable-oil, wheat-flour, cereal, flour, wheat, cereal-flour, cauliflower, brassica, onion, root-vegetable, onion-family-vegetable, spinach, leaf-vegetable, sea-salt, salt\n",
      "sugar, added-sugar, disaccharide, coconut-oil, oil-and-fat, vegetable-oil-and-fat, vegetable-oil, corn-syrup-solids, corn-syrup, instant-coffee, coffee, salt, sodium-caseinate, dairy, caseinate, cocoa, plant, e471, e340ii, e340, e955, natural-flavouring, flavouring, e150a, molasses, processed-with-alkali\n",
      "pro-heart-we-put-our-passion-into-creating-wines-prosecco-extra-dry-wines-for-you-to-simply-enjoi-whatever-the-occasion, elegant-and-bubbly, this-fruity-sparkling-wine-is-full-of-sweet-peach-and-apple-flavours, prose-ideal-as-an-aperitif, and-great-with-foods-such-as-prosciutto-and-shellfish, and-enjoy-on-its-owwn, osecco-find-us-on-iheartwines-co-uk-00\n",
      "pork-meat, animal, meat, pork, salt, lactose, spice, condiment, dextrose, added-sugar, monosaccharide, glucose, sugar, disaccharide, alcohol, preservative, e252, ferment, rum, natural-flavouring, flavouring, e300\n",
      "flour-blend, flour, cane-sugar, added-sugar, disaccharide, sugar, non-gmo-sunflower-oil, chocolate-chunk, chocolate, oat, cereal, water, tapioca, starch, tapioca-fiber-syrup, vanilla-extract, plant, vanilla, sea-salt, salt, e500ii, e500, e392, light-buckwheat-flour, cassava-flour, vegetable, root-vegetable, tuber, cassava, oat-flour, cereal-flour, tapioca-flour, cocoa-butter, cocoa\n",
      "sugar, added-sugar, disaccharide, corn-starch, starch, thickener, e414, colour, maltodextrin, e174\n",
      "e960, e955\n",
      "water, e330, lime-juice-concentrate, fruit, citrus-fruit, juice, fruit-juice, lime, lime-juice, natural-lime-flavouring, flavouring, natural-flavouring, e202, e211\n",
      "orange-juice, fruit, citrus-fruit, juice, fruit-juice, orange\n",
      "icing-sugar, added-sugar, disaccharide, sugar, brown-rice-flour, flour, cereal-flour, rice, wholemeal-flour, rice-flour, unsalted-butter, dairy, butter, evaporated-cane-juice, sugarcane, sugarcane-juice, potato-starch, starch, egg, lemon-puree, fruit, citrus-fruit, lemon, almond-flour, nut, tree-nut, almond, coconut-flour, coconut, water, honey, e415, salt, baking-powder, includes-up-to-3-cornstarch, e341i, e341, e500ii, e500, corn-starch\n",
      "water, whole-yogurt, dairy, yogurt, cream, emmental, cheese, gorgonzola, cow-cheese, fourme-d-ambert, blue-cheese, salt, corn-starch, starch, garlic, vegetable, root-vegetable, onion-family-vegetable, white-pepper, seed, pepper, celery, stalk-vegetable, fish, crustacean, shellfish, mollusc, mustard, sesame-seeds, sesame, nut, peanut, penne, dough, pasta, colza-oil, oil-and-fat, vegetable-oil-and-fat, rapeseed-oil, durum-wheat-semolina, cereal, wheat, durum-wheat, semolina\n",
      "tomato-puree, vegetable, fruit-vegetable, tomato, sugar, added-sugar, disaccharide, spirit-vinegar, vinegar, water, mo-ch, caramelised-sugar-syrup, caramel-syrup, dextrose, monosaccharide, glucose, s-thickeners, garlic, root-vegetable, onion-family-vegetable, wder, smoke-flavouring, flavouring, e415, e412\n",
      "water, brown-rice-flour, flour, cereal-flour, rice, wholemeal-flour, rice-flour, tapioca-flour, starch, tapioca, cane-sugar, added-sugar, disaccharide, sugar, whole-sorghum-flour, cereal, sorghum, sorghum-flour, cultured-rice-flour, potato-starch, canola-oil, oil-and-fat, vegetable-oil-and-fat, rapeseed-oil, e415, yeast, egg, potato-flour, vegetable, root-vegetable, tuber, potato, sea-salt, salt, whole-grain-millet-flour, millet-flour, palm-oil, palm-oil-and-fat, enzyme\n",
      "trout, fish, oily-fish, milk, dairy, colza-oil, oil-and-fat, vegetable-oil-and-fat, rapeseed-oil, carrot, vegetable, root-vegetable, taproot-vegetable, courgette, fruit-vegetable, soft-white-cheese, cheese, garden-peas, legume, pod-and-seed-vegetable, pea, green-peas, water, celery, stalk-vegetable, lemon-juice, fruit, juice, fruit-juice, almond, nut, tree-nut, shallot, onion-family-vegetable, fresh-cream, cream, parsley, herb, leaf-vegetable, cider-vinegar, vinegar, mustard, milk-proteins, protein, animal-protein, tapioca, starch, wheat-flour, cereal, flour, wheat, cereal-flour, salt, double-concentrated-tomato, tomato, tomato-concentrate, sugar, added-sugar, disaccharide, lemon-zest, citrus-fruit, lemon, corn-starch, ginger, condiment, spice, garlic, pepper, seed, mustard-seed, alcohol-vinegar\n",
      "water, tamari, sauce, soy-sauce, brown-sugar, added-sugar, disaccharide, sugar, red-jalapeno-roasted, lime-juice, fruit, citrus-fruit, juice, fruit-juice, lime, corn-starch, starch, sesame-oil, oil-and-fat, vegetable-oil-and-fat, vegetable-oil, ginger, condiment, spice, garlic, vegetable, root-vegetable, onion-family-vegetable, concentrated-lemon-juice, lemon-juice, onion, sea-salt, salt, e415, soya-bean, legume, pulse, soya, alcohol, to-preserve-freshness\n",
      "raising-agent, potato-starch, starch, e450, e500\n",
      "black-truffle-salt, parmigiano-reggiano, dairy, cheese, cheese-flavouring, flavouring, corn-starch, starch, cane-sugar-syrup, added-sugar, disaccharide, black-garlic, vegetable, root-vegetable, onion-family-vegetable, garlic, e460, spice, condiment, lemon-powder, fruit, juice, fruit-juice, lemon-juice, onion, artificial-truffle-flavored-oil, packed-by, salt, artificial-truffle-flavor, truffles-canola-oil, pasteurized-semi-skimmed-milk, milk, semi-skimmed-milk, lactic-ferments, ferment, microbial-culture, enzyme, e339, e270, concentrated-lemon-juice, lemon-oil, citrus-fruit, lemon, olive-oil, oil-and-fat, vegetable-oil-and-fat, vegetable-oil, natural-flavouring, pasteurized-part-skim-milk-cheese-culture\n",
      "olive-oil, oil-and-fat, vegetable-oil-and-fat, vegetable-oil\n",
      "pasteurized-skimmed-milk, dairy, milk, pasteurised-milk, skimmed-milk, lactic-ferments, ferment, microbial-culture, rennet, enzyme, coagulating-enzyme\n",
      "pork-meat, animal, meat, pork, beef-casing, beef, collagen, spice, condiment, salt, garlic-paste, vegetable, root-vegetable, onion-family-vegetable, garlic, lactose, dextrose, added-sugar, monosaccharide, glucose, preservative, e250\n",
      "egg, sugar, added-sugar, disaccharide, cocoa, plant, water, glucose-syrup, monosaccharide, glucose, salt\n",
      "tandoori-style-chicken-kebabs, chicken, poultry, tandoori-paste, wheat-flour, cereal, flour, wheat, cereal-flour, rapeseed-oil, oil-and-fat, vegetable-oil-and-fat, sugar, added-sugar, disaccharide, salt, yeast-extract, yeast, garlic, vegetable, root-vegetable, onion-family-vegetable, stabiliser, cayenne-pepper, condiment, spice, ginger, ginger-extract, mint-dip, whole-milk, dairy, milk, water, unsalted-butter, butter, cream, white-wine-vinegar, vinegar, wine-vinegar, cucumber, fruit-vegetable, corn-flour, corn, spearmint, herb, mint, lemon-juice, fruit, juice, fruit-juice, garlic-puree, acidity-regulator, preservative, cereals-containing-gluten, yogurt, tomato-puree, tomato, whipping-cream, bell-pepper, turmeric, sunflower-oil, vegetable-oil, cane-sugar, paprike-concentrate, e450, e452, e330, e415, e202, onion, cumin, seed, chili-pepper, cardamom, nutmeg, mace, clove\n",
      "wheat-flour, cereal, flour, wheat, cereal-flour, sunflower-oil, oil-and-fat, vegetable-oil-and-fat, vegetable-oil, powdered-egg-white, egg, egg-white, salt, emulsifier, vegetable, onion, root-vegetable, onion-family-vegetable, textured-soy-protein, protein, plant-protein, soy-protein, dehydrated-potato-flakes, tuber, potato, potato-flakes, garlic, curry, condiment, spice, whole-egg, corn-starch, starch, sugar, added-sugar, disaccharide, cumin, seed, sweet-and-sour-sauce, sauce, alcohol-vinegar, vinegar, pineapple, fruit, red-bell-pepper, fruit-vegetable, bell-pepper, modified-corn-starch, modified-starch, acid, herbs-and-spices, herb, stabiliser, e415, wheat-cakes, water, rapeseed-lecithin, e322, e322i, cauliflower, brassica, carrot, taproot-vegetable, courgette, broccoli, garden-peas, legume, pod-and-seed-vegetable, pea, green-peas, e330, ginger, e412\n",
      "consulta-a-tu-medico, ingredientes, amodimeticona, fenil-trimeticona, peg-12-dimeticona, pantenol, extracto-de-semilla-de-girasol, extracto-jojoba, extracto-de-cola-de-caballo, extracto-de-romero, extracto-de-arnica, aminoacidos-de-queratina, proteina-hidrolizada-de-trigo, ciclopentasiloxano, aminoacidos-de-seda, aminoacidos-de-trigo, colageno-hidrolizado, fragancia, imidazolidinil-urea, tetrasodio-de-edta, acido-citrico, metilcloroisotiazolinona, amarillo-5, azul-1, metilisotiazolinona, icture, agua-desmineralizada, helianthus-annuus, simmondsia-chinensis, equisetum-arvense, plant, rosemary, herb, arnica-montana, ci-19140, ci-42090\n",
      "water, cane-sugar, added-sugar, disaccharide, sugar\n",
      "wheat-flour, cereal, flour, wheat, cereal-flour, cane-sugar, added-sugar, disaccharide, sugar, cane-invert-syrup, monosaccharide, invert-sugar, sugar-syrup, invert-sugar-syrup, palm-oil, oil-and-fat, vegetable-oil-and-fat, palm-oil-and-fat, apple, fruit, malaceous-fruit, whole-wheat-flour, wholemeal-flour, corn-starch, starch, vital-wheat-gluten, dextrose, glucose, strawberry, berries, rice-starch, strawberry-flavouring, flavouring, sea-salt, salt, raising-agent, tapioca, honey, molasses, e330, colored-with-betalains, e160c, vanilla-flavouring, e500ii, e500, e336i, e336\n",
      "sugar, added-sugar, disaccharide, unbleached, flour, butter, dairy, cinnamon, condiment, spice, whole-egg, egg, invert-cane-sugar, monosaccharide, invert-sugar, water, vanilla-flavouring, flavouring, salt, e500ii, e500, wheat-flour, cereal, wheat, cereal-flour, barley-malt-flour, barley, barley-flour, e375, reduced-iron, minerals, iron, thiamin-mononitrate, thiamin, e101, folic-acid, folate, cream-natural-flavoring, palm-oil, oil-and-fat, vegetable-oil-and-fat, palm-oil-and-fat, skimmed-milk-powder, milk-powder, and-soya-lecithin, emulsifier\n",
      "flavouring, lemon-peel, fruit, citrus-fruit, lemon, orange-zest, orange\n",
      "ua-yhibepcahv-chtetmhh-bacis-a9-mpahha-sama-universal-8780g5-8o, o-2840\n",
      "tfrosting, palm-oil, oil-and-fat, vegetable-oil-and-fat, palm-oil-and-fat, water, corn-syrup, added-sugar, disaccharide, corn-starch, starch, camua-6, and-less-of, e471, artificial-color-incud-blpolysorbate-60, modified-corn-starch, modified-starch, e202, modified-corn-sta-5, e903, e110, e133, e129, s-soybean-ingredients, best-if-used-by, sugar, salt, preservt-gum, natural-and-artificial-flavouring, flavouring, natural-flavouring, artificial-flavouring, e330, antioxidant, palm-vegetable-oil-kernel, asco-tocopherols, camomile, herb, e392\n",
      "shortcrust-dough, dough, milk, dairy, egg, leek, vegetable, onion-family-vegetable, smoked-lardoons, animal, meat, pork, pork-meat, bacon, lardon, cooked-ham, ham, cream, grated-emmental-cheese, cheese, emmental, wheat-flour, cereal, flour, wheat, cereal-flour, modified-corn-starch, starch, corn-starch, modified-starch, butter, salt, white-pepper, seed, pepper, nutmeg-nut, condiment, spice, nutmeg, colza-oil, oil-and-fat, vegetable-oil-and-fat, rapeseed-oil, water, butterfat, fat, milkfat, dextrose, added-sugar, monosaccharide, glucose, antioxidant, preservative, e252, natural-flavouring, flavouring, garlic, root-vegetable, iodised-salt, pork-stock, stabiliser, e450v, e450, e451i, e451, e301, e250, potassium-iodide, minerals, iodine, glucose-syrup, e450i, e407\n",
      "buttermilk, dairy, water, sugar, added-sugar, disaccharide, rice, skimmed-milk, milk, apple, fruit, malaceous-fruit, cream, apple-juice-from-concentrate, juice, fruit-juice, apple-juice, concentrated-apple-juice, modified-corn-starch, starch, corn-starch, modified-starch, stabiliser, salt, acidity-regulator, e331, e330, flavouring, e412, e300\n",
      "fat-free-skim-milk, retinyl-palmitate, vitamins, vitamin-a, cholecalciferol, vitamin-d\n",
      "salt, buttermilk, dairy, onion, vegetable, root-vegetable, onion-family-vegetable, garlic, whey, maltodextrin, e330, e407, lactose, e296, spice, condiment, e631, e627, e415, natural-flavouring, flavouring, e260\n",
      "fruit-juice-from-concentrate, fruit-juice-concentrate, fruit, puree, water, antioxidant, grape, berries, orange, citrus-fruit, peach, prunus-species-fruit, apricot, e300\n",
      "water, lime-juice, fruit, citrus-fruit, juice, fruit-juice, lime, lemon-juice, natural-flavouring, flavouring, sweetener, e955, e950\n",
      "surimi, fish, water, sunflower-oil, oil-and-fat, vegetable-oil-and-fat, vegetable-oil, wheat-flour, cereal, flour, wheat, cereal-flour, salt, soy-protein, protein, plant-protein, flavouring, flavour-enhancer, stabiliser, acidity-regulator, cephalopod-ink, shellfish, mollusc, teuthida, squid, e621, e415, e420, e452, e270\n",
      "stone-ground-yellow-corn, canola-oil, oil-and-fat, vegetable-oil-and-fat, rapeseed-oil, sunflower-oil, vegetable-oil, sea-salt, salt, lime, fruit, citrus-fruit\n",
      "water, rice-flour, flour, rice, potato-flour, vegetable, root-vegetable, tuber, potato, corn-starch, starch, tapioca, buckwheat-flour, cereal, buckwheat, corn-flour, corn, e422, inulin, fiber, vegetable-fiber, psyllium, pea-protein, protein, plant-protein, pea-fiber, apple-juice, fruit, juice, malaceous-fruit, apple, fruit-juice, thickener, rapeseed-oil, oil-and-fat, vegetable-oil-and-fat, yeast, salt, sourdough, dough, raising-agent, acid, preservative, e415, e412, e464, quinoa-flour, plant, quinoa, glucono, delta-lactone, e330, e296, e334, e200\n",
      "linseed-oil, oil-and-fat, vegetable-oil-and-fat, vegetable-oil\n",
      "cashew-nuts, nut, tree-nut, coating, peanut-oil, oil-and-fat, vegetable-oil-and-fat, vegetable-oil, soya-oil, salt, vinegar, garlic, vegetable, root-vegetable, onion-family-vegetable, onion, spice, condiment, e262ii, e262, e330, e296, natural-flavouring, flavouring, maltodextrin, distilled-vinegar, modified-starch, starch, dill-weed\n",
      "seaweed, algae, almond, nut, tree-nut, coating, sesame-seeds, seed, sesame, anchovy, fish, oily-fish, shrimp, shellfish, crustacean, kelp, red-bell-pepper, vegetable, fruit-vegetable, bell-pepper, sugar, added-sugar, disaccharide, soy-sauce, sauce, water\n",
      "durum-wheat-flour, cereal, flour, wheat, cereal-flour, wheat-flour, water, salt\n",
      "cream, dairy, ferment, salt\n",
      "albacore, fish, tuna, extra-virgin-olive-oil, oil-and-fat, vegetable-oil-and-fat, vegetable-oil, olive-oil, virgin-olive-oil, bay-leaf, herb, sea-salt, salt\n",
      "cream, dairy, ferment, milk\n",
      "wheat-flour, cereal, flour, wheat, cereal-flour, palm-oil, oil-and-fat, vegetable-oil-and-fat, palm-oil-and-fat, sugar, added-sugar, disaccharide, salt, raising-agent, yeast, soya, sesame, seed, e503\n",
      "wheat-flour, cereal, flour, wheat, cereal-flour, pecan-nut, nut, tree-nut, wheat-gluten, gluten, spice, condiment, raising-agent, e500, iodised-salt, salt, e450\n",
      "strawberry, fruit, berries, sugar, added-sugar, disaccharide, unrefined-cane-sugar, cane-sugar, unrefined-sugar, gelling-agent, acid, e440a, e330\n",
      "cane-sugar, added-sugar, disaccharide, sugar, water, lemon-juice-from-concentrate, fruit, juice, fruit-juice, lemon-juice, acid, natural-lemon-flavouring, flavouring, natural-flavouring, natural-citrus-flavouring, citrus-flavouring, preservative, e330, e202\n",
      "tomato, vegetable, fruit-vegetable, onion, root-vegetable, onion-family-vegetable, turbinado-sugar, jalapeno-pepper, chili-pepper, vinegar, garlic, salt, spice, condiment\n",
      "contains-only, juice, puree, sour-cherry, fruit, prunus-species-fruit, cherry, fiber\n",
      "wheat-flour, cereal, flour, wheat, cereal-flour, sugar, added-sugar, disaccharide, vegetable-fat, oil-and-fat, vegetable-oil-and-fat, whey, dairy, cocoa-powder, plant, cocoa, corn-starch, starch, salt, flavouring, peanut, nut, egg, colour, emulsifier, flour-treatment-agent, almond, tree-nut, hazelnut, e503ii, e503, e150b, e500ii, e500, soya-lecithin, e322, e322i\n",
      "fruit, berries, herb, blueberry, cornflower, dried-goji-berries, goji, cranberry, grape, sunflower-oil, oil-and-fat, vegetable-oil-and-fat, vegetable-oil, e220, sugar, added-sugar, disaccharide\n",
      "mustard-seed, condiment, mustard, spice, alcohol-vinegar, vinegar, water, sugar, added-sugar, disaccharide, honey, salt\n",
      "peanut, nut, salt\n",
      "sugar, added-sugar, disaccharide, acidity-regulator, antioxidant, e330, e300\n",
      "corn-syrup, added-sugar, disaccharide, water, sugar, natural-and-artificial-flavouring, flavouring, natural-flavouring, artificial-flavouring, e211, salt, e466, e330, preservative\n",
      "nut, tree-nut, almond, cranberry, fruit, brazil-nut, coconut, sugar, added-sugar, disaccharide, sunflower-oil, oil-and-fat, vegetable-oil-and-fat, vegetable-oil\n",
      "oat-blend, tapioca-syrup, added-sugar, disaccharide, syrup, chocolate-chunk, chocolate, fig-paste, fruit, fig, cane-sugar-syrup, maple-syrup, soy-butter, milled-flaxseed, natural-flavouring, flavouring, e500ii, e500, sea-salt, salt, vitamins, minerals, e341ii, e341, e300, ferric-orthophosphate, iron, zinc-oxide, zinc, e375, e160ai, e160a, thiamin-mononitrate, thiamin, e101, pyridoxine-hydrochloride, vitamin-b6, folic-acid, folate, cyanocobalamin, vitamin-b12, oat-flakes, cereal, oat, oat-flour, flour, cereal-flour, oat-fiber, fiber, vegetable-fiber, cocoa-butter, plant, cocoa, soya-lecithin, e322, e322i, vanilla-extract, vanilla, soya-bean, vegetable, legume, pulse, soya, soya-oil, oil-and-fat, vegetable-oil-and-fat, vegetable-oil, e170i, e170, vitamin-c, vitamin-a\n",
      "water, e1200, skimmed-milk-powder, dairy, milk-powder, e953, oligofructose, milk-proteins, protein, animal-protein, citrus-fibre, fiber, vegetable-fiber, emulsifier, flavouring, stabiliser, e407, vanilla-extract, plant, vanilla, sweetener, colour, e160ai, e160a, e471, carob-seed-flour, flour, vegetable, legume, pulse, carob-bean-locust-bean, e950, e955, e101\n",
      "strawberry, fruit, berries, corn-syrup, added-sugar, disaccharide, high-fructose-corn-syrup, monosaccharide, fructose, glucose, glucose-fructose-syrup, sugar, e330, e440a, added-as-preservative-only\n",
      "durum-wheat-semolina, cereal, wheat, durum-wheat, semolina\n",
      "kalamon-olive, vegetable, fruit-vegetable, olive, black-olive, olive-oil, oil-and-fat, vegetable-oil-and-fat, vegetable-oil, tomato, salt\n",
      "emulsifier, banana, fruit, strawberry-powder, berries, strawberry, colour, sweetener, soya-lecithin, e322, e322i, e955\n",
      "apricot, fruit, prunus-species-fruit\n",
      "sweetened-condensed-semi-skimmed-milk, dairy, milk, condensed-milk, sweetened-condensed-milk, cereal, flour, wheat, cereal-flour, wheat-flour, sugar, added-sugar, disaccharide, liquid-whole-egg, egg, whole-egg, sunflower-oil, oil-and-fat, vegetable-oil-and-fat, vegetable-oil, water, coconut, fruit, whey, salt, humectant, acidity-regulator, emulsifier, e415, acid, preservative, iron, minerals, folic-acid, folate, thiamin, e101, e375, e420, e490, e503i, e503, e471, e475, e330, e282, e202\n",
      "wholemeal-spelt-flour, flour, cereal-flour, wholemeal-flour, spelt-flour, sesame, seed, palm-oil, oil-and-fat, vegetable-oil-and-fat, palm-oil-and-fat, yeast\n",
      "sugar, added-sugar, disaccharide, cocoa-butter, plant, cocoa, cocoa-paste, whipped-cream, dairy, cream, whole-milk-powder, milk-powder, advocaat, alcohol, liqueur, butter, skimmed-milk-powder, glucose-syrup, monosaccharide, glucose, water, butterfat, oil-and-fat, fat, milkfat, humectant, emulsifier, brandy, natural-flavouring, flavouring, spice, condiment, vanilla-extract, vanilla, bourbon-vanilla, orange-essential-oil, essential-oil, e420ii, e420, soya-lecithin, e322, e322i\n",
      "dehydrated-potato-with-preservative, corn-starch, starch, maltodextrin, salt, flour, whey, dairy, cheddar, cheese, dehydrated-onion, vegetable, root-vegetable, onion-family-vegetable, onion, e508, butter, e500ii, e500, garlic, natural-flavouring, flavouring, colour, buttermilk-solids, buttermilk, e339, modified-corn-starch, modified-starch, enzyme-modified-cheese, e270, e631, e627, e222, wheat-flour, cereal, wheat, cereal-flour, e375, iron, minerals, thiamin-mononitrate, thiamin, e101, folic-acid, folate, milk, lactic-ferments, ferment, microbial-culture, enzyme, e102, e110, yellow-lake-5, e339ii, e415, salt-enzymes\n",
      "nut, flour-blend, flour, tapioca, starch, chocolate-chunk, chocolate, coconut-sugar, added-sugar, disaccharide, sugar, palm-sugar, coconut-oil, oil-and-fat, vegetable-oil-and-fat, vegetable-oil, arrowroot, vanilla-extract, plant, vanilla, sea-salt, salt, e500ii, e500, e336i, e336, e392, almond, tree-nut, coconut, fruit, flax-seed, seed, flax, cane-sugar, cocoa-butter, cocoa\n",
      "milk, dairy, cream, garlic, vegetable, root-vegetable, onion-family-vegetable, salt, herb, pepper, seed\n",
      "wheat-flour, cereal, flour, wheat, cereal-flour, sugar, added-sugar, disaccharide, butter, dairy, whole-egg, egg, wheat-starch, starch, salt, raising-agent, e503i, e503\n",
      "cookie, milk-chocolate, chocolate, flour, sugar, added-sugar, disaccharide, soya-bean, vegetable, legume, pulse, soya, palm-oil, oil-and-fat, vegetable-oil-and-fat, palm-oil-and-fat, high-fructose-corn-syrup, monosaccharide, fructose, glucose, corn-syrup, glucose-fructose-syrup, corn-flour, cereal, corn, salt, natural-and-artificial-flavouring, flavouring, natural-flavouring, artificial-flavouring, e500ii, e500, soya-lecithin, e322, e322i, cocoa-butter, plant, cocoa, milk-powder, dairy, cocoa-paste, vanilla, wheat-flour, wheat, cereal-flour, e375, reduced-iron, minerals, iron, thiamin-mononitrate, thiamin, e101, folic-acid, folate, emulsifier\n",
      "pasteurized-semi-skimmed-milk, dairy, milk, semi-skimmed-milk, lactic-ferments, ferment, microbial-culture, salt, enzyme, potato-starch, starch, corn-starch-and-powdered-cellulose-added-to-prevent-caking, e235, mold-inhibitor\n",
      "date, fruit, grape, berries, sunflower-oil, oil-and-fat, vegetable-oil-and-fat, vegetable-oil, rice-flour, flour, rice, strawberry\n",
      "cornmeal, cereal, corn, milled-roasted-peanuts, nut, peanut, roasted-peanuts, sunflower-oil, oil-and-fat, vegetable-oil-and-fat, vegetable-oil, tomato, vegetable, fruit-vegetable, salt, flavouring, dextrose, added-sugar, monosaccharide, glucose, colour, e160c\n",
      "wheat-flour, cereal, flour, wheat, cereal-flour, canola-oil, oil-and-fat, vegetable-oil-and-fat, rapeseed-oil, sugar, added-sugar, disaccharide, malt, sea-salt, salt, e503i, e503, e500ii, e500, butter-natural-flavouring, flavouring, natural-flavouring, e341i, e341, e1101, modified-corn-starch, starch, corn-starch, modified-starch, corn-maltodextrin, maltodextrin, fractionated-coconut-oil, vegetable-oil, coconut-oil, flour-treatment-agent\n",
      "orange, fruit, citrus-fruit, e330, e160ai, e160a, e375\n",
      "potato, vegetable, root-vegetable, tuber, sunflower-oil, oil-and-fat, vegetable-oil-and-fat, vegetable-oil\n",
      "wheat-flour, cereal, flour, wheat, cereal-flour, water, colza-oil, oil-and-fat, vegetable-oil-and-fat, rapeseed-oil, yeast, natural-flavouring, flavouring, salt, corn, broad-bean-flour, wheat-gluten, gluten, acerola-juice, fruit, juice, fruit-juice, acerola\n",
      "sugar, added-sugar, disaccharide, whey-powder, dairy, whey, skimmed-milk-powder, milk-powder, partially-hydrogenated-soybean-oil, oil-and-fat, vegetable-oil-and-fat, vegetable-oil, soya-oil, corn-syrup-solids, corn-syrup, modified-corn-starch, starch, corn-starch, modified-starch, egg-yolk, egg, egg-white, spice, condiment, artificial-flavouring, flavouring, sodium-caseinate, caseinate, dipotassi, yeast, e330\n",
      "water, sodium, minerals, potassium, magnesium, calcium, sulfates\n",
      "apples-with-calcium-ascorbate-to-promote-whiteness-and-maintain-texture\n",
      "pork, animal, water, contains-2-and-less-of, dextrose, added-sugar, monosaccharide, glucose, vinegar, sugar, disaccharide, spice, condiment, natural-flavouring, flavouring, salt\n",
      "chipotle, vegetable, fruit-vegetable, chili-pepper, jalapeno-pepper, water, vinegar, onion, root-vegetable, onion-family-vegetable, soya-oil, oil-and-fat, vegetable-oil-and-fat, vegetable-oil, iodised-salt, salt, garlic, spice, condiment\n",
      "cocoa-powder, plant, cocoa, acidity-regulator, e501, e525\n",
      "tomato-puree, vegetable, fruit-vegetable, tomato, diced-tomatoes-in-tomato-juice, sugar, added-sugar, disaccharide, mushroom, soya-oil, oil-and-fat, vegetable-oil-and-fat, vegetable-oil, salt, dehydrated-onion, root-vegetable, onion-family-vegetable, onion, spice, condiment, dried-garlic, garlic, e330, water, tomato-concentrate\n"
     ]
    }
   ],
   "source": [
    "uniques_ingredients = df['ingredients'].unique()\n",
    "uniques_ingredients_list = list(uniques_ingredients)\n",
    "for value in uniques_ingredients_list:\n",
    "    print(value)"
   ]
  },
  {
   "cell_type": "code",
   "execution_count": 32,
   "metadata": {},
   "outputs": [
    {
     "name": "stdout",
     "output_type": "stream",
     "text": [
      "empty\n",
      "meats-and-their-products, frozen-foods, meats, chicken-and-its-products, poultries, frozen-meats, chickens, whole-chickens\n",
      "dairies, milks, whole-milks\n",
      "meats-and-their-products, meats, chicken-and-its-products, poultries, chickens\n",
      "dairies, fermented-foods, fermented-milk-products, cheeses, grated-cheese\n",
      "dairies, fermented-foods, fermented-milk-products, cheeses, spreads, salted-spreads, cheese-spreads\n",
      "dairies, fermented-foods, fermented-milk-products, desserts, dairy-desserts, fermented-dairy-desserts, yogurts\n",
      "meats-and-their-products, beef-and-its-products, frozen-foods, meals, frozen-ready-made-meals, kibbeh\n",
      "plant-based-foods-and-beverages, plant-based-foods, fruits-and-vegetables-based-foods, vegetables-based-foods, vegetables, tomatoes-and-their-products, tomatoes\n",
      "plant-based-foods-and-beverages, plant-based-foods, cereals-and-potatoes, cereals-and-their-products\n",
      "beverages, carbonated-drinks, sodas\n",
      "snacks\n",
      "plant-based-foods-and-beverages, plant-based-foods, fruits-and-vegetables-based-foods, vegetables-based-foods, vegetables, fresh-foods, fresh-plant-based-foods, leaf-vegetables, sprouts, fresh-vegetables, leaf-salads\n",
      "condiments, sauces\n",
      "condiments, sauces, tomato-sauces, pizza-sauces\n",
      "plant-based-foods-and-beverages, plant-based-foods, fruits-and-vegetables-based-foods, fruits-based-foods, nuts-and-their-products, dried-products, nuts, dried-plant-based-foods, dried-fruits, walnuts\n",
      "dairies, fermented-foods, fermented-milk-products, cheeses\n",
      "snacks, sweet-snacks, sweet-pastries-and-pies, viennoiseries, brioches, panettone\n",
      "meats-and-their-products, meats, prepared-meats, hams, white-hams\n",
      "plant-based-foods-and-beverages, plant-based-foods, seeds, pumpkin-and-squash-plant-products, cucurbitacea-seeds, pumpkin-seeds-and-their-products, pumpkin-seeds\n",
      "dairies, fermented-foods, fermented-milk-products, cheeses, hard-cheeses, french-cheeses, comte\n",
      "snacks, desserts, sweet-snacks, biscuits-and-cakes, cakes, chocolate-cakes\n",
      "snacks, sweet-snacks, biscuits-and-cakes, biscuits\n",
      "farming-products, eggs\n",
      "snacks, sweet-snacks, cocoa-and-its-products, chocolates, milk-chocolates\n",
      "plant-based-foods-and-beverages, plant-based-foods, cereals-and-potatoes, cereals-and-their-products, puffed-cereal-cakes, puffed-rice-cakes, puffed-rice-cakes-with-yogurt\n",
      "snacks, salty-snacks, appetizers, chips-and-fries, crisps, corn-chips\n",
      "breakfasts, spreads, sweet-spreads, bee-products, farming-products, sweeteners, honeys, flower-honeys\n",
      "seafood, frozen-foods, frozen-seafood\n",
      "snacks, sweet-snacks, confectioneries\n",
      "dairies, fermented-foods, fermented-milk-products, desserts, dairy-desserts, fermented-dairy-desserts, fermented-dairy-desserts-with-fruits\n",
      "breakfasts, spreads, sweet-spreads, hazelnut-spreads, chocolate-spreads, cocoa-and-hazelnuts-spreads\n",
      "meats-and-their-products, frozen-foods, meats, frozen-meats\n",
      "meals, prepared-salads, caesar-salads, salads\n",
      "beverages, alcoholic-beverages, wines\n",
      "beverages, syrups, flavoured-syrups, mint-syrups\n",
      "snacks, sweet-snacks, biscuits-and-cakes\n",
      "dairies, fermented-foods, fermented-milk-products, creams, fermented-creams, sour-creams\n",
      "snacks, sweet-snacks, biscuits-and-cakes, cakes\n",
      "plant-based-foods-and-beverages, plant-based-foods, legumes-and-their-products, meat-alternatives, tofu, plain-tofu\n",
      "plant-based-foods-and-beverages, plant-based-foods, fats, spreads, plant-based-spreads, spreadable-fats, vegetable-fats, margarines\n",
      "condiments, sauces, mustards\n",
      "plant-based-foods-and-beverages, plant-based-foods, cereals-and-potatoes, cereals-and-their-products, pastas, noodles, chinese-noodles\n",
      "plant-based-foods-and-beverages, plant-based-foods, fruits-and-vegetables-based-foods, fruits-based-foods, fruits, kiwifruits\n",
      "seafood, fishes-and-their-products, fishes\n",
      "plant-based-foods-and-beverages, plant-based-foods, pastas\n",
      "dairies, fats, spreads, frozen-foods, spreadable-fats, animal-fats, milkfat, dairy-spread, butters, pasteurized-butters, sweet-cream-butters\n",
      "beverages\n",
      "meats-and-their-products, prepared-meats, pate\n",
      "sandwiches\n",
      "dairies, fermented-foods, fermented-milk-products, desserts, dairy-desserts, fermented-dairy-desserts, fermented-dairy-desserts-with-fruits, yogurts, fruit-yogurts, cow-milk-yogurts, strawberry-yogurts\n",
      "desserts, frozen-foods, frozen-desserts, ice-creams-and-sorbets, sorbets, apple-sorbets\n",
      "plant-based-foods-and-beverages, beverages, plant-based-foods, dairy-substitutes, milk-substitutes, nuts-and-their-products, plant-based-beverages, plant-based-milk-alternatives, nut-based-drinks, almond-based-drinks\n",
      "meats-and-their-products, meals, meals-with-meat, poultry-meals, meals-with-chicken\n",
      "plant-based-foods-and-beverages, plant-based-foods, legumes-and-their-products, canned-foods, legumes, canned-plant-based-foods, canned-legumes, canned-common-beans, canned-flageolet-beans\n",
      "condiments, meats-and-their-products, sauces, meat-based-sauces, pasta-sauces, meat-based-pasta-sauces, bolognese-sauces, groceries\n",
      "plant-based-foods-and-beverages, plant-based-foods, breakfasts, cereals-and-potatoes, cereals-and-their-products, breakfast-cereals, extruded-cereals, filled-cereals\n",
      "dairies, milks, homogenized-milks, uht-milks, whole-milks, cow-milks\n",
      "beverages, waters\n",
      "condiments, sauces, groceries\n",
      "plant-based-foods-and-beverages, plant-based-foods, fruits-and-vegetables-based-foods, canned-foods, vegetables-based-foods, canned-plant-based-foods, pickles, olive-tree-products, plant-based-pickles, olives, green-olives, stuffed-olives, green-stuffed-olives, green-olives-stuffed-of-peppers\n",
      "plant-based-foods-and-beverages, plant-based-foods, fruits-and-vegetables-based-foods, fruits-based-foods, fruits, citrus, fresh-fruits, lemons, fresh-lemons\n",
      "beverages, alcoholic-beverages, distilled-beverages, hard-liquors, eaux-de-vie, whisky\n",
      "snacks, sweet-snacks, biscuits-and-cakes, biscuits, assortments-of-biscuits\n",
      "plant-based-foods-and-beverages, plant-based-foods, meat-alternatives, vegetarian-balls\n",
      "beverages, dried-products, dried-products-to-be-rehydrated, dehydrated-beverages\n",
      "meats-and-their-products, meats, chicken-and-its-products, poultries, chickens, chicken-thighs\n",
      "spaghetti-pasta\n",
      "meats-and-their-products, meats, prepared-meats, cured-sausages, rosette-dry-sausage\n",
      "specific-products, products-for-specific-diets\n",
      "plant-based-foods-and-beverages, plant-based-foods, cereals-and-potatoes, cereals-and-their-products, meals, pasta-dishes, pastas, stuffed-pastas, egg-pastas, fresh-pasta, tortellini\n",
      "snacks, sweet-snacks, biscuits-and-cakes, biscuits, chocolate-biscuits, drop-cookies, chocolate-chip-cookies\n",
      "dairies, fermented-foods, fermented-milk-products, cheeses, fresh-cheeses, cottage-cheeses\n",
      "plant-based-foods-and-beverages, plant-based-foods, fruits-and-vegetables-based-foods, vegetables-based-foods, vegetables, fresh-foods, fresh-plant-based-foods, fresh-vegetables, zucchini, fresh-zucchini\n",
      "plant-based-foods-and-beverages, plant-based-foods, nuts-and-their-products, nuts, shelled-nuts, walnuts, walnut-kernels\n",
      "snacks, sweet-snacks, confectioneries, candies\n",
      "sweeteners\n",
      "plant-based-foods-and-beverages, beverages, plant-based-beverages\n",
      "plant-based-foods-and-beverages, plant-based-foods, condiments, fats, vegetable-fats, olive-tree-products, vegetable-oils, olive-oils, extra-virgin-olive-oils, virgin-olive-oils\n",
      "meals, microwave-meals\n",
      "non-food-products\n",
      "condiments, sauces, barbecue-sauces, groceries\n",
      "condiments, sauces, mustards, groceries\n",
      "plant-based-foods-and-beverages, plant-based-foods, cereals-and-potatoes, breads, special-breads, hamburger-buns\n",
      "condiments, sauces, hot-sauces, sriracha-sauces, groceries\n",
      "food-additives, baking-powder-or-raising-agent\n",
      "capsules\n",
      "baby-foods\n",
      "dairies, fermented-foods, fermented-milk-products, cheeses, desserts, dairy-desserts, fermented-dairy-desserts, plain-fermented-dairy-desserts, cream-cheeses, fresh-cream-cheese-with-cow-s-milk\n",
      "meats-and-their-products, meats, prepared-meats, cured-sausages\n",
      "meats-and-their-products, meat-preparations, meats, skewers, chicken-and-its-products, meat-skewers, poultries, chicken-preparations, poultry-skewers, chicken-skewers\n",
      "meals, samosas, vegetable-samosas\n",
      "plant-based-foods-and-beverages, beverages, plant-based-beverages, fruit-based-beverages, juices-and-nectars, fruit-nectars\n",
      "snacks, sweet-snacks, biscuits-and-cakes, biscuits, shortbread-cookies\n",
      "snacks, sweet-snacks, biscuits-and-cakes, biscuits, pastries, toaster-pastries\n",
      "beverages, dairies, fermented-foods, fermented-milk-products, dairy-drinks, fermented-drinks, fermented-milk-drinks\n",
      "beverages, tea-based-beverages\n",
      "plant-based-foods-and-beverages, beverages, hot-beverages, plant-based-beverages, teas, green-teas\n",
      "plant-based-foods-and-beverages, plant-based-foods, fruits-and-vegetables-based-foods, vegetables-based-foods, vegetables, vegetable-rods, asparagus, white-asparagus\n",
      "meals, pizzas-pies-and-quiches, quiches\n",
      "dairies, milks\n",
      "snacks, salty-snacks, appetizers, crackers, pretzel\n",
      "condiments, sauces, salad-dressings\n",
      "beverages-and-beverages-preparations, beverages, alcoholic-beverages\n",
      "beverages, alcoholic-beverages, distilled-beverages, hard-liquors, eaux-de-vie, rums\n",
      "plant-based-foods-and-beverages, beverages, plant-based-beverages, fruit-based-beverages, juices-and-nectars, fruit-nectars, multifruit-nectars\n",
      "snacks, salty-snacks, appetizers, chips-and-fries, crisps\n",
      "beverages, artificially-sweetened-beverages\n",
      "plant-based-foods-and-beverages, plant-based-foods, fats, vegetable-fats, olive-tree-products, vegetable-oils, olive-oils, extra-virgin-olive-oils\n",
      "seafood, fishes-and-their-products, fishes, fatty-fishes, tunas, tuna-in-brine\n",
      "plant-based-foods-and-beverages, plant-based-foods, cereals-and-potatoes, breads, flatbreads, special-breads, pitas\n",
      "snacks, sweet-snacks, biscuits-and-cakes, gingerbreads\n",
      "plant-based-foods-and-beverages, plant-based-foods, cereals-and-potatoes, fats, cereals-and-their-products, vegetable-fats, vegetable-oils, cereal-oils, linseed-oils\n",
      "breakfasts, spreads, sweet-spreads, bee-products, farming-products, sweeteners, honeys\n",
      "snacks, sweet-snacks, cocoa-and-its-products, chocolates, dark-chocolates\n",
      "plant-based-foods-and-beverages, plant-based-foods\n",
      "plant-based-foods-and-beverages, plant-based-foods, cereals-and-potatoes, cereals-and-their-products, pastas, noodles\n",
      "dairies, fats, spreads, spreadable-fats, animal-fats, milkfat, dairy-spread, butters, french-butters, half-salted-butter, pasteurized-butters\n",
      "seafood, fishes-and-their-products, canned-foods, fishes, fatty-fishes, canned-fishes, tunas, canned-tunas, tunas-in-oil, tuna-in-olive-oil, albacore, canned-drained-albacore-in-olive-oil\n",
      "snacks, sweet-snacks, biscuits-and-cakes, biscuits, wafers, stuffed-wafers\n",
      "dairies, fats, spreads, spreadable-fats, animal-fats, fresh-foods, milkfat, dairy-spread, butters, sweet-cream-butters\n",
      "plant-based-foods-and-beverages, plant-based-foods, fruits-and-vegetables-based-foods, fruits-based-foods, fruits, citrus, limes\n",
      "snacks, salty-snacks, appetizers, crackers\n",
      "snacks, sweet-snacks, biscuits-and-cakes, dried-products, cakes, cooking-helpers, dried-products-to-be-rehydrated, dessert-mixes, pastry-helpers, baking-mixes, cake-mixes\n",
      "plant-based-foods-and-beverages, plant-based-foods, fruits-and-vegetables-based-foods, breakfasts, spreads, fruits-based-foods, plant-based-spreads, sweet-spreads, fruit-and-vegetable-preserves, jams, berry-jams, strawberry-jams\n",
      "snacks, sweet-snacks, biscuits-and-cakes, pastries, coconut-macaroons\n",
      "beverages, sweetened-beverages\n",
      "meats-and-their-products, meats, pork-and-its-products, pork, pork-roasts\n",
      "breakfasts, spreads, sweet-spreads, bee-products, farming-products, sweeteners, honeys, forest-honeys\n",
      "condiments, sauces, dips, groceries\n",
      "snacks, sweet-snacks, biscuits-and-cakes, biscuits, chocolate-biscuits, filled-biscuits\n",
      "sweeteners, sugars\n",
      "beverages-and-beverages-preparations, beverages, waters\n",
      "dairies, fermented-foods, fermented-milk-products, desserts, dairy-desserts, fermented-dairy-desserts, fermented-dairy-desserts-with-fruits, yogurts, fruit-yogurts, peach-yogurts\n",
      "condiments, sauces, mustards, honey-mustards, groceries\n",
      "plant-based-foods-and-beverages, plant-based-foods, fruits-and-vegetables-based-foods, desserts, fruits-based-foods, compotes, apple-compotes\n",
      "beverages, alcoholic-beverages\n",
      "sweeteners, syrups, simple-syrups\n",
      "plant-based-foods-and-beverages, plant-based-foods, nuts-and-their-products, nuts, almonds\n",
      "snacks, sweet-snacks, sweet-pastries-and-pies, viennoiseries, apple-turnovers\n",
      "dietary-supplements\n",
      "plant-based-foods-and-beverages, plant-based-foods, nuts-and-their-products, nuts, shelled-nuts, almonds, shelled-almonds\n",
      "dairies, fermented-foods, fermented-milk-products, cheeses, cow-cheeses, uncooked-pressed-cheeses, cheeses-of-the-netherlands, gouda, young-goudas\n",
      "plant-based-foods-and-beverages, beverages, plant-based-foods, dried-products, dried-products-to-be-rehydrated, coffees, dehydrated-beverages, instant-cappuccino-without-sugar\n",
      "meats-and-their-products, meats\n",
      "meats-and-their-products, beef-and-its-products, meats, beef, beef-thin-flank\n",
      "plant-based-foods-and-beverages, plant-based-foods, breakfasts, spreads, plant-based-spreads, sweet-spreads, fruit-and-vegetable-preserves, jams, berry-jams, strawberry-jams\n",
      "plant-based-foods-and-beverages, plant-based-foods, condiments, desserts, frozen-foods, frozen-desserts, spices, ice-creams-and-sorbets, ice-creams, vanilla, groceries\n",
      "plant-based-foods-and-beverages, plant-based-foods, breakfasts, spreads, plant-based-spreads, sweet-spreads, fruit-and-vegetable-preserves\n",
      "plant-based-foods-and-beverages, plant-based-foods, cereals-and-potatoes, cereals-and-their-products, pastas, cereal-pastas, dry-pastas, durum-wheat-pasta\n",
      "plant-based-foods-and-beverages, plant-based-foods, pickles, olive-tree-products, plant-based-pickles, olives\n",
      "plant-based-foods-and-beverages, plant-based-foods, fruits-and-vegetables-based-foods, fruits-based-foods, fruits, apricots, fresh-fruits, fresh-apricots\n",
      "snacks, sweet-snacks, biscuits-and-cakes, cakes, madeleines\n",
      "snacks, sweet-snacks, sweet-pastries-and-pies, viennoiseries, chocolate-croissant\n",
      "dairies, fermented-foods, fermented-milk-products, cheeses, cow-cheeses, spanish-cheeses\n",
      "snacks, salty-snacks\n",
      "plant-based-foods-and-beverages, beverages, plant-based-beverages, fruit-based-beverages, juices-and-nectars, fruit-juices, unsweetened-beverages, apple-juices, squeezed-juices, squeezed-apple-juices\n",
      "snacks, sweet-snacks, cocoa-and-its-products, confectioneries, chocolate-candies, bonbons, assorted-chocolate-candies\n",
      "plant-based-foods-and-beverages, plant-based-foods, breakfasts, spreads, plant-based-spreads, sweet-spreads, fruit-and-vegetable-preserves, jams, berry-jams, bilberries-jams\n",
      "plant-based-foods-and-beverages, plant-based-foods, breakfasts, spreads, plant-based-spreads, sweet-spreads, fruit-and-vegetable-preserves, jams, berry-jams\n",
      "plant-based-foods-and-beverages, plant-based-foods, fruits-and-vegetables-based-foods, vegetables-based-foods, vegetables, mixed-vegetables\n",
      "plant-based-foods-and-beverages, plant-based-foods, legumes-and-their-products, legumes, nuts-and-their-products, nuts, peanuts, coated-peanuts\n",
      "plant-based-foods-and-beverages, beverages, hot-beverages, plant-based-beverages, herbal-teas\n",
      "plant-based-foods-and-beverages, plant-based-foods, fruits-and-vegetables-based-foods, fruits-based-foods, dried-products, dried-plant-based-foods, dried-fruits, dried-cranberries\n",
      "dairies, fermented-foods, fermented-milk-products, cheeses, spreads, salted-spreads, cow-cheeses, pasteurized-cheeses, cheese-spreads, cream-cheeses, uncured-soft-cheese-spreadable-around-30-40-fat-flavoured\n",
      "sandwiches, hamburgers, hamburgers-from-fast-food\n",
      "snacks, sweet-snacks, cocoa-and-its-products, chocolates, dark-chocolates, dark-chocolates-with-orange\n",
      "snacks, sweet-snacks, cocoa-and-its-products, confectioneries, chocolate-candies, bonbons\n",
      "snacks, sweet-snacks, biscuits-and-cakes, pastries, waffles\n",
      "snacks, salty-snacks, appetizers, crackers, puffed-salty-snacks, puffed-salty-snacks-made-from-maize\n",
      "dairies, fermented-foods, fermented-milk-products, cheeses, sheep-s-milk-cheeses, spanish-cheeses, manchego\n",
      "plant-based-foods-and-beverages, fermented-foods, plant-based-foods, dairy-substitutes, desserts, non-dairy-desserts, non-dairy-fermented-foods, non-dairy-yogurts, soy-milk-yogurts\n",
      "beverages, carbonated-drinks, unsweetened-beverages\n",
      "snacks, sweet-snacks, biscuits-and-cakes, cakes, doughnuts\n",
      "dairies, fermented-foods, fermented-milk-products, cheeses, cow-cheeses, danish-cheeses, havarti\n",
      "plant-based-foods-and-beverages, plant-based-foods, snacks, cereals-and-potatoes, salty-snacks, appetizers, chips-and-fries, crisps, potato-crisps, potato-crisps-in-sunflower-oil\n",
      "plant-based-foods-and-beverages, plant-based-foods, cereals-and-potatoes, breads, sliced-breads\n",
      "plant-based-foods-and-beverages, plant-based-foods, cereals-and-potatoes, cereals-and-their-products, pastas\n",
      "getranke, kohlensaurehaltige-getranke, mineralwasser, naturliches-mineralwasser, naturliches-mineralwasser-mit-kohlensaure-versetzt, naturliches-mineralwasser-mit-wenig-kohlensaure-versetzt, quellwasser, selterswasser, wasser\n",
      "plant-based-foods-and-beverages, plant-based-foods, fruits-and-vegetables-based-foods\n",
      "salted-snacks\n",
      "meats-and-their-products, meats, prepared-meats, sausages, poultry-sausages\n",
      "cocoa-and-its-products, cocoa-and-chocolate-powders, cocoa-powders\n",
      "plant-based-foods-and-beverages, plant-based-foods, condiments, spreads, plant-based-spreads, salted-spreads, sauces, dips, hummus\n",
      "sweeteners, syrups, simple-syrups, maple-syrups\n",
      "condiments, sauces, pasta-sauces, groceries\n"
     ]
    }
   ],
   "source": [
    "uniques_categories = df['categories'].unique()\n",
    "uniques_categories_list = list(uniques_categories)\n",
    "for value in uniques_categories_list:\n",
    "    print(value)"
   ]
  },
  {
   "cell_type": "code",
   "execution_count": 33,
   "metadata": {},
   "outputs": [
    {
     "name": "stdout",
     "output_type": "stream",
     "text": [
      "0.1111111111\n",
      "0.2222222222\n",
      "0.0\n",
      "0.3333333333\n",
      "0.4444444444\n",
      "0.5555555556\n",
      "1.0\n",
      "0.6666666667\n",
      "0.7777777778\n",
      "0.8888888889\n"
     ]
    }
   ],
   "source": [
    "uniques_labels_note = df['labels_note'].unique()\n",
    "uniques_labels_note_list = list(uniques_labels_note)\n",
    "for value in uniques_labels_note_list:\n",
    "    print(value)"
   ]
  },
  {
   "cell_type": "code",
   "execution_count": 34,
   "metadata": {},
   "outputs": [
    {
     "data": {
      "text/html": [
       "<div>\n",
       "<style scoped>\n",
       "    .dataframe tbody tr th:only-of-type {\n",
       "        vertical-align: middle;\n",
       "    }\n",
       "\n",
       "    .dataframe tbody tr th {\n",
       "        vertical-align: top;\n",
       "    }\n",
       "\n",
       "    .dataframe thead th {\n",
       "        text-align: right;\n",
       "    }\n",
       "</style>\n",
       "<table border=\"1\" class=\"dataframe\">\n",
       "  <thead>\n",
       "    <tr style=\"text-align: right;\">\n",
       "      <th></th>\n",
       "      <th>groups</th>\n",
       "      <th>ecoscore_score</th>\n",
       "      <th>countries</th>\n",
       "      <th>labels_note</th>\n",
       "    </tr>\n",
       "  </thead>\n",
       "  <tbody>\n",
       "    <tr>\n",
       "      <th>count</th>\n",
       "      <td>500.000000</td>\n",
       "      <td>500.000000</td>\n",
       "      <td>500.000000</td>\n",
       "      <td>500.000000</td>\n",
       "    </tr>\n",
       "    <tr>\n",
       "      <th>mean</th>\n",
       "      <td>0.434000</td>\n",
       "      <td>49.256000</td>\n",
       "      <td>0.527731</td>\n",
       "      <td>0.072000</td>\n",
       "    </tr>\n",
       "    <tr>\n",
       "      <th>std</th>\n",
       "      <td>0.201836</td>\n",
       "      <td>11.786786</td>\n",
       "      <td>0.336454</td>\n",
       "      <td>0.142612</td>\n",
       "    </tr>\n",
       "    <tr>\n",
       "      <th>min</th>\n",
       "      <td>0.000000</td>\n",
       "      <td>0.000000</td>\n",
       "      <td>0.000000</td>\n",
       "      <td>0.000000</td>\n",
       "    </tr>\n",
       "    <tr>\n",
       "      <th>25%</th>\n",
       "      <td>0.444444</td>\n",
       "      <td>49.000000</td>\n",
       "      <td>0.311475</td>\n",
       "      <td>0.000000</td>\n",
       "    </tr>\n",
       "    <tr>\n",
       "      <th>50%</th>\n",
       "      <td>0.444444</td>\n",
       "      <td>49.000000</td>\n",
       "      <td>0.333333</td>\n",
       "      <td>0.000000</td>\n",
       "    </tr>\n",
       "    <tr>\n",
       "      <th>75%</th>\n",
       "      <td>0.444444</td>\n",
       "      <td>49.000000</td>\n",
       "      <td>0.874317</td>\n",
       "      <td>0.111111</td>\n",
       "    </tr>\n",
       "    <tr>\n",
       "      <th>max</th>\n",
       "      <td>1.000000</td>\n",
       "      <td>100.000000</td>\n",
       "      <td>1.000000</td>\n",
       "      <td>1.000000</td>\n",
       "    </tr>\n",
       "  </tbody>\n",
       "</table>\n",
       "</div>"
      ],
      "text/plain": [
       "           groups  ecoscore_score   countries  labels_note\n",
       "count  500.000000      500.000000  500.000000   500.000000\n",
       "mean     0.434000       49.256000    0.527731     0.072000\n",
       "std      0.201836       11.786786    0.336454     0.142612\n",
       "min      0.000000        0.000000    0.000000     0.000000\n",
       "25%      0.444444       49.000000    0.311475     0.000000\n",
       "50%      0.444444       49.000000    0.333333     0.000000\n",
       "75%      0.444444       49.000000    0.874317     0.111111\n",
       "max      1.000000      100.000000    1.000000     1.000000"
      ]
     },
     "execution_count": 34,
     "metadata": {},
     "output_type": "execute_result"
    }
   ],
   "source": [
    "df.describe()"
   ]
  },
  {
   "cell_type": "code",
   "execution_count": 35,
   "metadata": {},
   "outputs": [],
   "source": [
    "def load_jsonl_to_dataframe(file_path):\n",
    "    data = []\n",
    "    with open(file_path, 'r') as file:\n",
    "        for line in file:\n",
    "            data.append(json.loads(line))\n",
    "    df = pd.DataFrame(data)\n",
    "    return df\n",
    "\n",
    "def create_treemap_for_column(df, column_name):\n",
    "    if column_name not in df.columns:\n",
    "        print(f\"warning, column: '{column_name}'does not exists\")\n",
    "        return\n",
    "    data = df[column_name].value_counts().reset_index()\n",
    "    data.columns = [column_name, 'count']\n",
    "    fig = go.Figure(go.Treemap(\n",
    "        labels=data[column_name],\n",
    "        parents=[\"\"] * len(data),\n",
    "        values=data['count'],\n",
    "        textinfo='label+value',  \n",
    "    ))\n",
    "    fig.update_layout(\n",
    "        title=f'treemap column: {column_name}',\n",
    "        paper_bgcolor='black',  \n",
    "        plot_bgcolor='grey',   \n",
    "        font_color='white'      \n",
    "    )\n",
    "    fig.show()"
   ]
  },
  {
   "cell_type": "code",
   "execution_count": 36,
   "metadata": {},
   "outputs": [
    {
     "data": {
      "application/vnd.plotly.v1+json": {
       "config": {
        "plotlyServerURL": "https://plot.ly"
       },
       "data": [
        {
         "labels": [
          "empty",
          "b",
          "d",
          "c",
          "e",
          "a",
          "not-applicable"
         ],
         "parents": [
          "",
          "",
          "",
          "",
          "",
          "",
          ""
         ],
         "textinfo": "label+value",
         "type": "treemap",
         "values": [
          2007606,
          234389,
          158224,
          145347,
          90422,
          31368,
          29890
         ]
        }
       ],
       "layout": {
        "font": {
         "color": "white"
        },
        "paper_bgcolor": "black",
        "plot_bgcolor": "grey",
        "template": {
         "data": {
          "bar": [
           {
            "error_x": {
             "color": "#2a3f5f"
            },
            "error_y": {
             "color": "#2a3f5f"
            },
            "marker": {
             "line": {
              "color": "#E5ECF6",
              "width": 0.5
             },
             "pattern": {
              "fillmode": "overlay",
              "size": 10,
              "solidity": 0.2
             }
            },
            "type": "bar"
           }
          ],
          "barpolar": [
           {
            "marker": {
             "line": {
              "color": "#E5ECF6",
              "width": 0.5
             },
             "pattern": {
              "fillmode": "overlay",
              "size": 10,
              "solidity": 0.2
             }
            },
            "type": "barpolar"
           }
          ],
          "carpet": [
           {
            "aaxis": {
             "endlinecolor": "#2a3f5f",
             "gridcolor": "white",
             "linecolor": "white",
             "minorgridcolor": "white",
             "startlinecolor": "#2a3f5f"
            },
            "baxis": {
             "endlinecolor": "#2a3f5f",
             "gridcolor": "white",
             "linecolor": "white",
             "minorgridcolor": "white",
             "startlinecolor": "#2a3f5f"
            },
            "type": "carpet"
           }
          ],
          "choropleth": [
           {
            "colorbar": {
             "outlinewidth": 0,
             "ticks": ""
            },
            "type": "choropleth"
           }
          ],
          "contour": [
           {
            "colorbar": {
             "outlinewidth": 0,
             "ticks": ""
            },
            "colorscale": [
             [
              0,
              "#0d0887"
             ],
             [
              0.1111111111111111,
              "#46039f"
             ],
             [
              0.2222222222222222,
              "#7201a8"
             ],
             [
              0.3333333333333333,
              "#9c179e"
             ],
             [
              0.4444444444444444,
              "#bd3786"
             ],
             [
              0.5555555555555556,
              "#d8576b"
             ],
             [
              0.6666666666666666,
              "#ed7953"
             ],
             [
              0.7777777777777778,
              "#fb9f3a"
             ],
             [
              0.8888888888888888,
              "#fdca26"
             ],
             [
              1,
              "#f0f921"
             ]
            ],
            "type": "contour"
           }
          ],
          "contourcarpet": [
           {
            "colorbar": {
             "outlinewidth": 0,
             "ticks": ""
            },
            "type": "contourcarpet"
           }
          ],
          "heatmap": [
           {
            "colorbar": {
             "outlinewidth": 0,
             "ticks": ""
            },
            "colorscale": [
             [
              0,
              "#0d0887"
             ],
             [
              0.1111111111111111,
              "#46039f"
             ],
             [
              0.2222222222222222,
              "#7201a8"
             ],
             [
              0.3333333333333333,
              "#9c179e"
             ],
             [
              0.4444444444444444,
              "#bd3786"
             ],
             [
              0.5555555555555556,
              "#d8576b"
             ],
             [
              0.6666666666666666,
              "#ed7953"
             ],
             [
              0.7777777777777778,
              "#fb9f3a"
             ],
             [
              0.8888888888888888,
              "#fdca26"
             ],
             [
              1,
              "#f0f921"
             ]
            ],
            "type": "heatmap"
           }
          ],
          "heatmapgl": [
           {
            "colorbar": {
             "outlinewidth": 0,
             "ticks": ""
            },
            "colorscale": [
             [
              0,
              "#0d0887"
             ],
             [
              0.1111111111111111,
              "#46039f"
             ],
             [
              0.2222222222222222,
              "#7201a8"
             ],
             [
              0.3333333333333333,
              "#9c179e"
             ],
             [
              0.4444444444444444,
              "#bd3786"
             ],
             [
              0.5555555555555556,
              "#d8576b"
             ],
             [
              0.6666666666666666,
              "#ed7953"
             ],
             [
              0.7777777777777778,
              "#fb9f3a"
             ],
             [
              0.8888888888888888,
              "#fdca26"
             ],
             [
              1,
              "#f0f921"
             ]
            ],
            "type": "heatmapgl"
           }
          ],
          "histogram": [
           {
            "marker": {
             "pattern": {
              "fillmode": "overlay",
              "size": 10,
              "solidity": 0.2
             }
            },
            "type": "histogram"
           }
          ],
          "histogram2d": [
           {
            "colorbar": {
             "outlinewidth": 0,
             "ticks": ""
            },
            "colorscale": [
             [
              0,
              "#0d0887"
             ],
             [
              0.1111111111111111,
              "#46039f"
             ],
             [
              0.2222222222222222,
              "#7201a8"
             ],
             [
              0.3333333333333333,
              "#9c179e"
             ],
             [
              0.4444444444444444,
              "#bd3786"
             ],
             [
              0.5555555555555556,
              "#d8576b"
             ],
             [
              0.6666666666666666,
              "#ed7953"
             ],
             [
              0.7777777777777778,
              "#fb9f3a"
             ],
             [
              0.8888888888888888,
              "#fdca26"
             ],
             [
              1,
              "#f0f921"
             ]
            ],
            "type": "histogram2d"
           }
          ],
          "histogram2dcontour": [
           {
            "colorbar": {
             "outlinewidth": 0,
             "ticks": ""
            },
            "colorscale": [
             [
              0,
              "#0d0887"
             ],
             [
              0.1111111111111111,
              "#46039f"
             ],
             [
              0.2222222222222222,
              "#7201a8"
             ],
             [
              0.3333333333333333,
              "#9c179e"
             ],
             [
              0.4444444444444444,
              "#bd3786"
             ],
             [
              0.5555555555555556,
              "#d8576b"
             ],
             [
              0.6666666666666666,
              "#ed7953"
             ],
             [
              0.7777777777777778,
              "#fb9f3a"
             ],
             [
              0.8888888888888888,
              "#fdca26"
             ],
             [
              1,
              "#f0f921"
             ]
            ],
            "type": "histogram2dcontour"
           }
          ],
          "mesh3d": [
           {
            "colorbar": {
             "outlinewidth": 0,
             "ticks": ""
            },
            "type": "mesh3d"
           }
          ],
          "parcoords": [
           {
            "line": {
             "colorbar": {
              "outlinewidth": 0,
              "ticks": ""
             }
            },
            "type": "parcoords"
           }
          ],
          "pie": [
           {
            "automargin": true,
            "type": "pie"
           }
          ],
          "scatter": [
           {
            "fillpattern": {
             "fillmode": "overlay",
             "size": 10,
             "solidity": 0.2
            },
            "type": "scatter"
           }
          ],
          "scatter3d": [
           {
            "line": {
             "colorbar": {
              "outlinewidth": 0,
              "ticks": ""
             }
            },
            "marker": {
             "colorbar": {
              "outlinewidth": 0,
              "ticks": ""
             }
            },
            "type": "scatter3d"
           }
          ],
          "scattercarpet": [
           {
            "marker": {
             "colorbar": {
              "outlinewidth": 0,
              "ticks": ""
             }
            },
            "type": "scattercarpet"
           }
          ],
          "scattergeo": [
           {
            "marker": {
             "colorbar": {
              "outlinewidth": 0,
              "ticks": ""
             }
            },
            "type": "scattergeo"
           }
          ],
          "scattergl": [
           {
            "marker": {
             "colorbar": {
              "outlinewidth": 0,
              "ticks": ""
             }
            },
            "type": "scattergl"
           }
          ],
          "scattermapbox": [
           {
            "marker": {
             "colorbar": {
              "outlinewidth": 0,
              "ticks": ""
             }
            },
            "type": "scattermapbox"
           }
          ],
          "scatterpolar": [
           {
            "marker": {
             "colorbar": {
              "outlinewidth": 0,
              "ticks": ""
             }
            },
            "type": "scatterpolar"
           }
          ],
          "scatterpolargl": [
           {
            "marker": {
             "colorbar": {
              "outlinewidth": 0,
              "ticks": ""
             }
            },
            "type": "scatterpolargl"
           }
          ],
          "scatterternary": [
           {
            "marker": {
             "colorbar": {
              "outlinewidth": 0,
              "ticks": ""
             }
            },
            "type": "scatterternary"
           }
          ],
          "surface": [
           {
            "colorbar": {
             "outlinewidth": 0,
             "ticks": ""
            },
            "colorscale": [
             [
              0,
              "#0d0887"
             ],
             [
              0.1111111111111111,
              "#46039f"
             ],
             [
              0.2222222222222222,
              "#7201a8"
             ],
             [
              0.3333333333333333,
              "#9c179e"
             ],
             [
              0.4444444444444444,
              "#bd3786"
             ],
             [
              0.5555555555555556,
              "#d8576b"
             ],
             [
              0.6666666666666666,
              "#ed7953"
             ],
             [
              0.7777777777777778,
              "#fb9f3a"
             ],
             [
              0.8888888888888888,
              "#fdca26"
             ],
             [
              1,
              "#f0f921"
             ]
            ],
            "type": "surface"
           }
          ],
          "table": [
           {
            "cells": {
             "fill": {
              "color": "#EBF0F8"
             },
             "line": {
              "color": "white"
             }
            },
            "header": {
             "fill": {
              "color": "#C8D4E3"
             },
             "line": {
              "color": "white"
             }
            },
            "type": "table"
           }
          ]
         },
         "layout": {
          "annotationdefaults": {
           "arrowcolor": "#2a3f5f",
           "arrowhead": 0,
           "arrowwidth": 1
          },
          "autotypenumbers": "strict",
          "coloraxis": {
           "colorbar": {
            "outlinewidth": 0,
            "ticks": ""
           }
          },
          "colorscale": {
           "diverging": [
            [
             0,
             "#8e0152"
            ],
            [
             0.1,
             "#c51b7d"
            ],
            [
             0.2,
             "#de77ae"
            ],
            [
             0.3,
             "#f1b6da"
            ],
            [
             0.4,
             "#fde0ef"
            ],
            [
             0.5,
             "#f7f7f7"
            ],
            [
             0.6,
             "#e6f5d0"
            ],
            [
             0.7,
             "#b8e186"
            ],
            [
             0.8,
             "#7fbc41"
            ],
            [
             0.9,
             "#4d9221"
            ],
            [
             1,
             "#276419"
            ]
           ],
           "sequential": [
            [
             0,
             "#0d0887"
            ],
            [
             0.1111111111111111,
             "#46039f"
            ],
            [
             0.2222222222222222,
             "#7201a8"
            ],
            [
             0.3333333333333333,
             "#9c179e"
            ],
            [
             0.4444444444444444,
             "#bd3786"
            ],
            [
             0.5555555555555556,
             "#d8576b"
            ],
            [
             0.6666666666666666,
             "#ed7953"
            ],
            [
             0.7777777777777778,
             "#fb9f3a"
            ],
            [
             0.8888888888888888,
             "#fdca26"
            ],
            [
             1,
             "#f0f921"
            ]
           ],
           "sequentialminus": [
            [
             0,
             "#0d0887"
            ],
            [
             0.1111111111111111,
             "#46039f"
            ],
            [
             0.2222222222222222,
             "#7201a8"
            ],
            [
             0.3333333333333333,
             "#9c179e"
            ],
            [
             0.4444444444444444,
             "#bd3786"
            ],
            [
             0.5555555555555556,
             "#d8576b"
            ],
            [
             0.6666666666666666,
             "#ed7953"
            ],
            [
             0.7777777777777778,
             "#fb9f3a"
            ],
            [
             0.8888888888888888,
             "#fdca26"
            ],
            [
             1,
             "#f0f921"
            ]
           ]
          },
          "colorway": [
           "#636efa",
           "#EF553B",
           "#00cc96",
           "#ab63fa",
           "#FFA15A",
           "#19d3f3",
           "#FF6692",
           "#B6E880",
           "#FF97FF",
           "#FECB52"
          ],
          "font": {
           "color": "#2a3f5f"
          },
          "geo": {
           "bgcolor": "white",
           "lakecolor": "white",
           "landcolor": "#E5ECF6",
           "showlakes": true,
           "showland": true,
           "subunitcolor": "white"
          },
          "hoverlabel": {
           "align": "left"
          },
          "hovermode": "closest",
          "mapbox": {
           "style": "light"
          },
          "paper_bgcolor": "white",
          "plot_bgcolor": "#E5ECF6",
          "polar": {
           "angularaxis": {
            "gridcolor": "white",
            "linecolor": "white",
            "ticks": ""
           },
           "bgcolor": "#E5ECF6",
           "radialaxis": {
            "gridcolor": "white",
            "linecolor": "white",
            "ticks": ""
           }
          },
          "scene": {
           "xaxis": {
            "backgroundcolor": "#E5ECF6",
            "gridcolor": "white",
            "gridwidth": 2,
            "linecolor": "white",
            "showbackground": true,
            "ticks": "",
            "zerolinecolor": "white"
           },
           "yaxis": {
            "backgroundcolor": "#E5ECF6",
            "gridcolor": "white",
            "gridwidth": 2,
            "linecolor": "white",
            "showbackground": true,
            "ticks": "",
            "zerolinecolor": "white"
           },
           "zaxis": {
            "backgroundcolor": "#E5ECF6",
            "gridcolor": "white",
            "gridwidth": 2,
            "linecolor": "white",
            "showbackground": true,
            "ticks": "",
            "zerolinecolor": "white"
           }
          },
          "shapedefaults": {
           "line": {
            "color": "#2a3f5f"
           }
          },
          "ternary": {
           "aaxis": {
            "gridcolor": "white",
            "linecolor": "white",
            "ticks": ""
           },
           "baxis": {
            "gridcolor": "white",
            "linecolor": "white",
            "ticks": ""
           },
           "bgcolor": "#E5ECF6",
           "caxis": {
            "gridcolor": "white",
            "linecolor": "white",
            "ticks": ""
           }
          },
          "title": {
           "x": 0.05
          },
          "xaxis": {
           "automargin": true,
           "gridcolor": "white",
           "linecolor": "white",
           "ticks": "",
           "title": {
            "standoff": 15
           },
           "zerolinecolor": "white",
           "zerolinewidth": 2
          },
          "yaxis": {
           "automargin": true,
           "gridcolor": "white",
           "linecolor": "white",
           "ticks": "",
           "title": {
            "standoff": 15
           },
           "zerolinecolor": "white",
           "zerolinewidth": 2
          }
         }
        },
        "title": {
         "text": "treemap column: ecoscore_tags"
        }
       }
      }
     },
     "metadata": {},
     "output_type": "display_data"
    },
    {
     "data": {
      "application/vnd.plotly.v1+json": {
       "config": {
        "plotlyServerURL": "https://plot.ly"
       },
       "data": [
        {
         "labels": [
          49,
          79,
          67,
          72,
          34,
          0,
          77,
          39,
          21,
          42,
          75,
          27,
          50,
          15,
          37,
          43,
          60,
          44,
          76,
          36,
          78,
          54,
          25,
          12,
          45,
          38,
          19,
          35,
          74,
          100,
          64,
          70,
          62,
          68,
          71,
          30,
          16,
          22,
          58,
          57,
          55,
          18,
          73,
          59,
          66,
          51,
          29,
          47,
          48,
          40,
          32,
          69,
          28,
          53,
          4,
          23,
          52,
          41,
          56,
          31,
          63,
          65,
          24,
          9,
          46,
          26,
          33,
          2,
          20,
          17,
          6,
          14,
          8,
          5,
          61,
          81,
          85,
          3,
          13,
          80,
          91,
          1,
          83,
          82,
          90,
          11,
          84,
          88,
          10,
          92,
          89,
          94,
          87,
          93,
          7,
          86,
          96,
          95,
          99,
          97,
          98,
          78.4170138324
         ],
         "parents": [
          "",
          "",
          "",
          "",
          "",
          "",
          "",
          "",
          "",
          "",
          "",
          "",
          "",
          "",
          "",
          "",
          "",
          "",
          "",
          "",
          "",
          "",
          "",
          "",
          "",
          "",
          "",
          "",
          "",
          "",
          "",
          "",
          "",
          "",
          "",
          "",
          "",
          "",
          "",
          "",
          "",
          "",
          "",
          "",
          "",
          "",
          "",
          "",
          "",
          "",
          "",
          "",
          "",
          "",
          "",
          "",
          "",
          "",
          "",
          "",
          "",
          "",
          "",
          "",
          "",
          "",
          "",
          "",
          "",
          "",
          "",
          "",
          "",
          "",
          "",
          "",
          "",
          "",
          "",
          "",
          "",
          "",
          "",
          "",
          "",
          "",
          "",
          "",
          "",
          "",
          "",
          "",
          "",
          "",
          "",
          "",
          "",
          "",
          "",
          "",
          "",
          ""
         ],
         "textinfo": "label+value",
         "type": "treemap",
         "values": [
          2054481,
          47852,
          34575,
          25551,
          23683,
          16023,
          13876,
          12868,
          12862,
          12140,
          12016,
          11747,
          11299,
          11078,
          10653,
          9947,
          9898,
          9788,
          9555,
          9261,
          9218,
          9094,
          8887,
          8524,
          8436,
          8375,
          8278,
          8236,
          8200,
          7994,
          7756,
          7375,
          7271,
          7246,
          7219,
          7103,
          6968,
          6767,
          6579,
          6364,
          6034,
          5835,
          5667,
          5595,
          5593,
          5501,
          5480,
          5425,
          5423,
          5356,
          5301,
          5029,
          4907,
          4900,
          4841,
          4614,
          4479,
          4323,
          4310,
          4147,
          4072,
          4054,
          3870,
          3634,
          3369,
          3300,
          3166,
          3052,
          2997,
          2914,
          2808,
          2595,
          2554,
          2528,
          2365,
          2264,
          2095,
          2062,
          1878,
          1844,
          1725,
          1710,
          1631,
          1559,
          1373,
          1233,
          1145,
          1132,
          1115,
          1014,
          1008,
          947,
          915,
          889,
          792,
          778,
          677,
          668,
          635,
          553,
          522,
          1
         ]
        }
       ],
       "layout": {
        "font": {
         "color": "white"
        },
        "paper_bgcolor": "black",
        "plot_bgcolor": "grey",
        "template": {
         "data": {
          "bar": [
           {
            "error_x": {
             "color": "#2a3f5f"
            },
            "error_y": {
             "color": "#2a3f5f"
            },
            "marker": {
             "line": {
              "color": "#E5ECF6",
              "width": 0.5
             },
             "pattern": {
              "fillmode": "overlay",
              "size": 10,
              "solidity": 0.2
             }
            },
            "type": "bar"
           }
          ],
          "barpolar": [
           {
            "marker": {
             "line": {
              "color": "#E5ECF6",
              "width": 0.5
             },
             "pattern": {
              "fillmode": "overlay",
              "size": 10,
              "solidity": 0.2
             }
            },
            "type": "barpolar"
           }
          ],
          "carpet": [
           {
            "aaxis": {
             "endlinecolor": "#2a3f5f",
             "gridcolor": "white",
             "linecolor": "white",
             "minorgridcolor": "white",
             "startlinecolor": "#2a3f5f"
            },
            "baxis": {
             "endlinecolor": "#2a3f5f",
             "gridcolor": "white",
             "linecolor": "white",
             "minorgridcolor": "white",
             "startlinecolor": "#2a3f5f"
            },
            "type": "carpet"
           }
          ],
          "choropleth": [
           {
            "colorbar": {
             "outlinewidth": 0,
             "ticks": ""
            },
            "type": "choropleth"
           }
          ],
          "contour": [
           {
            "colorbar": {
             "outlinewidth": 0,
             "ticks": ""
            },
            "colorscale": [
             [
              0,
              "#0d0887"
             ],
             [
              0.1111111111111111,
              "#46039f"
             ],
             [
              0.2222222222222222,
              "#7201a8"
             ],
             [
              0.3333333333333333,
              "#9c179e"
             ],
             [
              0.4444444444444444,
              "#bd3786"
             ],
             [
              0.5555555555555556,
              "#d8576b"
             ],
             [
              0.6666666666666666,
              "#ed7953"
             ],
             [
              0.7777777777777778,
              "#fb9f3a"
             ],
             [
              0.8888888888888888,
              "#fdca26"
             ],
             [
              1,
              "#f0f921"
             ]
            ],
            "type": "contour"
           }
          ],
          "contourcarpet": [
           {
            "colorbar": {
             "outlinewidth": 0,
             "ticks": ""
            },
            "type": "contourcarpet"
           }
          ],
          "heatmap": [
           {
            "colorbar": {
             "outlinewidth": 0,
             "ticks": ""
            },
            "colorscale": [
             [
              0,
              "#0d0887"
             ],
             [
              0.1111111111111111,
              "#46039f"
             ],
             [
              0.2222222222222222,
              "#7201a8"
             ],
             [
              0.3333333333333333,
              "#9c179e"
             ],
             [
              0.4444444444444444,
              "#bd3786"
             ],
             [
              0.5555555555555556,
              "#d8576b"
             ],
             [
              0.6666666666666666,
              "#ed7953"
             ],
             [
              0.7777777777777778,
              "#fb9f3a"
             ],
             [
              0.8888888888888888,
              "#fdca26"
             ],
             [
              1,
              "#f0f921"
             ]
            ],
            "type": "heatmap"
           }
          ],
          "heatmapgl": [
           {
            "colorbar": {
             "outlinewidth": 0,
             "ticks": ""
            },
            "colorscale": [
             [
              0,
              "#0d0887"
             ],
             [
              0.1111111111111111,
              "#46039f"
             ],
             [
              0.2222222222222222,
              "#7201a8"
             ],
             [
              0.3333333333333333,
              "#9c179e"
             ],
             [
              0.4444444444444444,
              "#bd3786"
             ],
             [
              0.5555555555555556,
              "#d8576b"
             ],
             [
              0.6666666666666666,
              "#ed7953"
             ],
             [
              0.7777777777777778,
              "#fb9f3a"
             ],
             [
              0.8888888888888888,
              "#fdca26"
             ],
             [
              1,
              "#f0f921"
             ]
            ],
            "type": "heatmapgl"
           }
          ],
          "histogram": [
           {
            "marker": {
             "pattern": {
              "fillmode": "overlay",
              "size": 10,
              "solidity": 0.2
             }
            },
            "type": "histogram"
           }
          ],
          "histogram2d": [
           {
            "colorbar": {
             "outlinewidth": 0,
             "ticks": ""
            },
            "colorscale": [
             [
              0,
              "#0d0887"
             ],
             [
              0.1111111111111111,
              "#46039f"
             ],
             [
              0.2222222222222222,
              "#7201a8"
             ],
             [
              0.3333333333333333,
              "#9c179e"
             ],
             [
              0.4444444444444444,
              "#bd3786"
             ],
             [
              0.5555555555555556,
              "#d8576b"
             ],
             [
              0.6666666666666666,
              "#ed7953"
             ],
             [
              0.7777777777777778,
              "#fb9f3a"
             ],
             [
              0.8888888888888888,
              "#fdca26"
             ],
             [
              1,
              "#f0f921"
             ]
            ],
            "type": "histogram2d"
           }
          ],
          "histogram2dcontour": [
           {
            "colorbar": {
             "outlinewidth": 0,
             "ticks": ""
            },
            "colorscale": [
             [
              0,
              "#0d0887"
             ],
             [
              0.1111111111111111,
              "#46039f"
             ],
             [
              0.2222222222222222,
              "#7201a8"
             ],
             [
              0.3333333333333333,
              "#9c179e"
             ],
             [
              0.4444444444444444,
              "#bd3786"
             ],
             [
              0.5555555555555556,
              "#d8576b"
             ],
             [
              0.6666666666666666,
              "#ed7953"
             ],
             [
              0.7777777777777778,
              "#fb9f3a"
             ],
             [
              0.8888888888888888,
              "#fdca26"
             ],
             [
              1,
              "#f0f921"
             ]
            ],
            "type": "histogram2dcontour"
           }
          ],
          "mesh3d": [
           {
            "colorbar": {
             "outlinewidth": 0,
             "ticks": ""
            },
            "type": "mesh3d"
           }
          ],
          "parcoords": [
           {
            "line": {
             "colorbar": {
              "outlinewidth": 0,
              "ticks": ""
             }
            },
            "type": "parcoords"
           }
          ],
          "pie": [
           {
            "automargin": true,
            "type": "pie"
           }
          ],
          "scatter": [
           {
            "fillpattern": {
             "fillmode": "overlay",
             "size": 10,
             "solidity": 0.2
            },
            "type": "scatter"
           }
          ],
          "scatter3d": [
           {
            "line": {
             "colorbar": {
              "outlinewidth": 0,
              "ticks": ""
             }
            },
            "marker": {
             "colorbar": {
              "outlinewidth": 0,
              "ticks": ""
             }
            },
            "type": "scatter3d"
           }
          ],
          "scattercarpet": [
           {
            "marker": {
             "colorbar": {
              "outlinewidth": 0,
              "ticks": ""
             }
            },
            "type": "scattercarpet"
           }
          ],
          "scattergeo": [
           {
            "marker": {
             "colorbar": {
              "outlinewidth": 0,
              "ticks": ""
             }
            },
            "type": "scattergeo"
           }
          ],
          "scattergl": [
           {
            "marker": {
             "colorbar": {
              "outlinewidth": 0,
              "ticks": ""
             }
            },
            "type": "scattergl"
           }
          ],
          "scattermapbox": [
           {
            "marker": {
             "colorbar": {
              "outlinewidth": 0,
              "ticks": ""
             }
            },
            "type": "scattermapbox"
           }
          ],
          "scatterpolar": [
           {
            "marker": {
             "colorbar": {
              "outlinewidth": 0,
              "ticks": ""
             }
            },
            "type": "scatterpolar"
           }
          ],
          "scatterpolargl": [
           {
            "marker": {
             "colorbar": {
              "outlinewidth": 0,
              "ticks": ""
             }
            },
            "type": "scatterpolargl"
           }
          ],
          "scatterternary": [
           {
            "marker": {
             "colorbar": {
              "outlinewidth": 0,
              "ticks": ""
             }
            },
            "type": "scatterternary"
           }
          ],
          "surface": [
           {
            "colorbar": {
             "outlinewidth": 0,
             "ticks": ""
            },
            "colorscale": [
             [
              0,
              "#0d0887"
             ],
             [
              0.1111111111111111,
              "#46039f"
             ],
             [
              0.2222222222222222,
              "#7201a8"
             ],
             [
              0.3333333333333333,
              "#9c179e"
             ],
             [
              0.4444444444444444,
              "#bd3786"
             ],
             [
              0.5555555555555556,
              "#d8576b"
             ],
             [
              0.6666666666666666,
              "#ed7953"
             ],
             [
              0.7777777777777778,
              "#fb9f3a"
             ],
             [
              0.8888888888888888,
              "#fdca26"
             ],
             [
              1,
              "#f0f921"
             ]
            ],
            "type": "surface"
           }
          ],
          "table": [
           {
            "cells": {
             "fill": {
              "color": "#EBF0F8"
             },
             "line": {
              "color": "white"
             }
            },
            "header": {
             "fill": {
              "color": "#C8D4E3"
             },
             "line": {
              "color": "white"
             }
            },
            "type": "table"
           }
          ]
         },
         "layout": {
          "annotationdefaults": {
           "arrowcolor": "#2a3f5f",
           "arrowhead": 0,
           "arrowwidth": 1
          },
          "autotypenumbers": "strict",
          "coloraxis": {
           "colorbar": {
            "outlinewidth": 0,
            "ticks": ""
           }
          },
          "colorscale": {
           "diverging": [
            [
             0,
             "#8e0152"
            ],
            [
             0.1,
             "#c51b7d"
            ],
            [
             0.2,
             "#de77ae"
            ],
            [
             0.3,
             "#f1b6da"
            ],
            [
             0.4,
             "#fde0ef"
            ],
            [
             0.5,
             "#f7f7f7"
            ],
            [
             0.6,
             "#e6f5d0"
            ],
            [
             0.7,
             "#b8e186"
            ],
            [
             0.8,
             "#7fbc41"
            ],
            [
             0.9,
             "#4d9221"
            ],
            [
             1,
             "#276419"
            ]
           ],
           "sequential": [
            [
             0,
             "#0d0887"
            ],
            [
             0.1111111111111111,
             "#46039f"
            ],
            [
             0.2222222222222222,
             "#7201a8"
            ],
            [
             0.3333333333333333,
             "#9c179e"
            ],
            [
             0.4444444444444444,
             "#bd3786"
            ],
            [
             0.5555555555555556,
             "#d8576b"
            ],
            [
             0.6666666666666666,
             "#ed7953"
            ],
            [
             0.7777777777777778,
             "#fb9f3a"
            ],
            [
             0.8888888888888888,
             "#fdca26"
            ],
            [
             1,
             "#f0f921"
            ]
           ],
           "sequentialminus": [
            [
             0,
             "#0d0887"
            ],
            [
             0.1111111111111111,
             "#46039f"
            ],
            [
             0.2222222222222222,
             "#7201a8"
            ],
            [
             0.3333333333333333,
             "#9c179e"
            ],
            [
             0.4444444444444444,
             "#bd3786"
            ],
            [
             0.5555555555555556,
             "#d8576b"
            ],
            [
             0.6666666666666666,
             "#ed7953"
            ],
            [
             0.7777777777777778,
             "#fb9f3a"
            ],
            [
             0.8888888888888888,
             "#fdca26"
            ],
            [
             1,
             "#f0f921"
            ]
           ]
          },
          "colorway": [
           "#636efa",
           "#EF553B",
           "#00cc96",
           "#ab63fa",
           "#FFA15A",
           "#19d3f3",
           "#FF6692",
           "#B6E880",
           "#FF97FF",
           "#FECB52"
          ],
          "font": {
           "color": "#2a3f5f"
          },
          "geo": {
           "bgcolor": "white",
           "lakecolor": "white",
           "landcolor": "#E5ECF6",
           "showlakes": true,
           "showland": true,
           "subunitcolor": "white"
          },
          "hoverlabel": {
           "align": "left"
          },
          "hovermode": "closest",
          "mapbox": {
           "style": "light"
          },
          "paper_bgcolor": "white",
          "plot_bgcolor": "#E5ECF6",
          "polar": {
           "angularaxis": {
            "gridcolor": "white",
            "linecolor": "white",
            "ticks": ""
           },
           "bgcolor": "#E5ECF6",
           "radialaxis": {
            "gridcolor": "white",
            "linecolor": "white",
            "ticks": ""
           }
          },
          "scene": {
           "xaxis": {
            "backgroundcolor": "#E5ECF6",
            "gridcolor": "white",
            "gridwidth": 2,
            "linecolor": "white",
            "showbackground": true,
            "ticks": "",
            "zerolinecolor": "white"
           },
           "yaxis": {
            "backgroundcolor": "#E5ECF6",
            "gridcolor": "white",
            "gridwidth": 2,
            "linecolor": "white",
            "showbackground": true,
            "ticks": "",
            "zerolinecolor": "white"
           },
           "zaxis": {
            "backgroundcolor": "#E5ECF6",
            "gridcolor": "white",
            "gridwidth": 2,
            "linecolor": "white",
            "showbackground": true,
            "ticks": "",
            "zerolinecolor": "white"
           }
          },
          "shapedefaults": {
           "line": {
            "color": "#2a3f5f"
           }
          },
          "ternary": {
           "aaxis": {
            "gridcolor": "white",
            "linecolor": "white",
            "ticks": ""
           },
           "baxis": {
            "gridcolor": "white",
            "linecolor": "white",
            "ticks": ""
           },
           "bgcolor": "#E5ECF6",
           "caxis": {
            "gridcolor": "white",
            "linecolor": "white",
            "ticks": ""
           }
          },
          "title": {
           "x": 0.05
          },
          "xaxis": {
           "automargin": true,
           "gridcolor": "white",
           "linecolor": "white",
           "ticks": "",
           "title": {
            "standoff": 15
           },
           "zerolinecolor": "white",
           "zerolinewidth": 2
          },
          "yaxis": {
           "automargin": true,
           "gridcolor": "white",
           "linecolor": "white",
           "ticks": "",
           "title": {
            "standoff": 15
           },
           "zerolinecolor": "white",
           "zerolinewidth": 2
          }
         }
        },
        "title": {
         "text": "treemap column: ecoscore_score"
        }
       }
      }
     },
     "metadata": {},
     "output_type": "display_data"
    },
    {
     "data": {
      "application/vnd.plotly.v1+json": {
       "config": {
        "plotlyServerURL": "https://plot.ly"
       },
       "data": [
        {
         "labels": [
          0.3114754098,
          1,
          0.8743169399,
          0,
          0.3333333333,
          0.4316939891,
          0.9945355191,
          0.2960893855,
          0.1584699454,
          0.2544378698,
          0.2881355932,
          0.0765027322,
          0.9016393443,
          0.4207650273,
          0.0327868852,
          0.9734042553,
          0.4189944134,
          0.8715083799,
          0.3152173913,
          0.3031914894,
          0.320754717,
          0.3184357542,
          0.6557377049,
          0.420212766,
          0.3015873016,
          0.1818181818,
          0.4347826087,
          0.4124293785,
          0.1147540984,
          0.7431693989,
          0.3244680851,
          0.7650273224,
          0.2786885246,
          0.8510638298,
          0.7595628415,
          0.2847682119,
          0.9625,
          0.2945205479,
          0.9944134078,
          0.8994413408,
          0.4426229508,
          0.7486338798,
          0.6229508197,
          0.8961748634,
          0.3989071038,
          0.3107344633,
          0.1396648045,
          0.9680851064,
          0.5901639344,
          0.0218579235,
          0.1256830601,
          0.1542553191,
          0.8639053254,
          0.6885245902,
          0.306010929,
          0.0382513661,
          0.5355191257,
          0.2781065089,
          0.3369565217,
          0.0558659218,
          0.9682539683,
          0.875,
          0.2349726776,
          0.2295081967,
          0.3,
          0.8465608466,
          0.5300546448,
          0.9945652174,
          0.3227513228,
          0.8087431694,
          0.9289617486,
          0.8988095238,
          0.4095744681,
          0.2857142857,
          0.0815217391,
          0.3879781421,
          0.417989418,
          0.6612021858,
          0.2921348315,
          0.3081081081,
          0.8700564972,
          0.0319148936,
          0.2834224599,
          0.3085714286,
          0.4078212291,
          0.9943502825,
          0.8633879781,
          0.0111731844,
          0.8736263736,
          0.3076923077,
          0.2864864865,
          0.1630434783,
          0.8776595745,
          0.8360655738,
          0.9675675676,
          0.255952381,
          0.737704918,
          0.4043715847,
          0.3442622951,
          0.8983050847,
          0.972826087,
          0.9889502762,
          0.3097826087,
          0.0744680851,
          0.1857923497,
          0.4293478261,
          0.9891891892,
          0.962962963,
          0.9890710383,
          0.2880434783,
          0.4262295082,
          0.9617486339,
          0.8342245989,
          0.9685863874,
          0.174863388,
          0.3945945946,
          0.2131147541,
          0.7584269663,
          0.9836065574,
          0.902173913,
          0.1299435028,
          0.8415300546,
          0.8196721311,
          0.6480446927,
          0.4378378378,
          0.4143646409,
          0.5762711864,
          0.1534391534,
          0.5519125683,
          0.3149171271,
          0.3089005236,
          0.3405405405,
          0.2928176796,
          0.0740740741,
          0.3189189189,
          0.427027027,
          0.9935064935,
          0.0736842105,
          0.7540983607,
          0.1117021277,
          0.4076086957,
          0.9621621622,
          0.956284153,
          0.3297297297,
          0.873015873,
          0.0451977401,
          0.0380434783,
          0.8695652174,
          0.6382978723,
          0.9943820225,
          0.8648648649,
          0.8934911243,
          0.094972067,
          0.4308510638,
          0.8926553672,
          0.7374301676,
          0.8756756757,
          0.3298429319,
          0.4153005464,
          0.4808743169,
          0.0317460317,
          0.4162162162,
          0.0918918919,
          0.4239130435,
          0.8421052632,
          0.7234042553,
          0.9572192513,
          0.3846153846,
          0.861878453,
          0.8938547486,
          0.262295082,
          0.847826087,
          0.8432432432,
          0.8684210526,
          0.4301675978,
          0.7430167598,
          0.4074074074,
          0.4011299435,
          0.5251396648,
          0.218579235,
          0.9940828402,
          0.4136125654,
          0.4054054054,
          0.3315217391,
          0.0714285714,
          0.3146067416,
          0.3210526316,
          0.9273743017,
          0.6145251397,
          0.9633507853,
          0.0167597765,
          0.0108108108,
          0.6272189349,
          0.2905027933,
          0.6815642458,
          0.8723404255,
          0.7446808511,
          0.138121547,
          0.1336898396,
          0.9672131148,
          0.8469945355,
          0.1223404255,
          0.9891304348,
          0.5810055866,
          0.3005464481,
          0.7541899441,
          0.2978723404,
          0.5573770492,
          0.670212766,
          0.3882978723,
          0.1675675676,
          0.4010695187,
          0.2122905028,
          0.2841530055,
          0.5212765957,
          0.627027027,
          0.1358695652,
          0.217877095,
          0.6436170213,
          0.7278106509,
          0.9518716578,
          0.1567567568,
          0.1061452514,
          0.0983606557,
          0.175,
          0.7393617021,
          0.1576086957,
          0.5744680851,
          0.7597765363,
          0.9673913043,
          0.1351351351,
          0.9945054945,
          0.9945945946,
          0.7340425532,
          0.5027322404,
          0.0372340426,
          0.9837837838,
          0.6063829787,
          0.9834254144,
          0.0212765957,
          0.7195767196,
          0.8967391304,
          0.3854748603,
          0.2240437158,
          0.0108695652,
          0.0534759358,
          0.7103825137,
          0.7287234043,
          0.7351351351,
          0.8481675393,
          0.7354497354,
          0.9631578947,
          0.2287234043,
          0.393442623,
          0.4345549738,
          0.6576086957,
          0.6536312849,
          0.9010989011,
          0.372972973,
          0.7322404372,
          0.6349206349,
          0.0324324324,
          0.3296703297,
          0.4269662921,
          0.0054644809,
          0.8603351955,
          0.2234042553,
          0.4184782609,
          0.8047337278,
          0.4240837696,
          0.1204188482,
          0.3048128342,
          0.8702702703,
          0.4285714286,
          0.8404255319,
          0.6010928962,
          0.9027027027,
          0.2108108108,
          0.8947368421,
          0.1538461538,
          0.1656804734,
          0.1623036649,
          0.6779661017,
          0.156424581,
          0.0432432432,
          0.7158469945,
          0.8895027624,
          0.8108108108,
          0.3967391304,
          0.8609625668,
          0.9578947368,
          0.3278688525,
          0.5714285714,
          0.6440677966,
          0.3661202186,
          0.6594594595,
          0.7872340426,
          0.9042553191,
          0.827027027,
          0.7570621469,
          0.1675977654,
          0.3296089385,
          0.0418848168,
          0.7135135135,
          0.5195530726,
          0.2076502732,
          0.7445652174,
          0.0162162162,
          0.043715847,
          0.7297297297,
          0.2810810811,
          0.4033149171,
          0.6387434555,
          0.2797619048,
          0.6994535519,
          0.5132275132,
          0.1808510638,
          0.0543478261,
          0.8138297872,
          0.7608695652,
          0.5185185185,
          0.1243243243,
          0.9361702128,
          0.625,
          0.0760869565,
          0.9619565217,
          0.0110497238,
          0.0056497175,
          0.0552486188,
          0.5159574468,
          0.374301676,
          0.3936170213,
          0.8918918919,
          0.5380434783,
          0.4098360656,
          0.75,
          0.5683060109,
          0.0710382514,
          0.335106383,
          0.2356020942,
          0.2553191489,
          0.6031746032,
          0.402173913,
          0.2074468085,
          0.1202185792,
          0.9028571429,
          0.7434554974,
          0.8044692737,
          0.0960451977,
          0.8743455497,
          0.1525423729,
          0.0756756757,
          0.0054347826,
          0.037037037,
          0.1111111111,
          0.9627659574,
          0.8691099476,
          0.1216931217,
          0.0326086957,
          0.209039548,
          0.2950819672,
          0.2824858757,
          0.5846994536,
          0.0864864865,
          0.2275132275,
          0.868852459,
          0.170212766,
          0.8677248677,
          0.2033898305,
          0.8994708995,
          0.5372340426,
          0.912568306,
          0.5621621622,
          0.7248677249,
          0.9608938547,
          0.1304347826,
          0.3036649215,
          0.2336956522,
          0.3862433862,
          0.347826087,
          0.7189189189,
          0.0434782609,
          0.8142076503,
          0.1526315789,
          0.0887573964,
          0.7407407407,
          0.6902173913,
          0.8324324324,
          0.7401129944,
          0.9101123596,
          0.7783783784,
          0.512987013,
          0.8907103825,
          0.5081081081,
          0.722513089,
          0.5326086957,
          0.4157894737,
          0.2282608696,
          0.5923913043,
          0.2513661202,
          0.4052631579,
          0.308988764,
          0.7514124294,
          0.0211640212,
          0.7344632768,
          0.3926701571,
          0.3776595745,
          0.7663043478,
          0.2962962963,
          0.6324324324,
          0.6315789474,
          0.1955307263,
          0.2568306011,
          0.0315789474,
          0.2222222222,
          0.027173913,
          0.0106951872,
          0.7318435754,
          0.6666666667,
          0.6701570681,
          0.6101694915,
          0.1902173913,
          0.1308900524,
          0.2054054054,
          0.1475409836,
          0.5191256831,
          0.9553072626,
          0.5197740113,
          0.0471204188,
          0.0837696335,
          0.7127659574,
          0.0540540541,
          0.7830687831,
          0.8052631579,
          0.9293478261,
          0.5945945946,
          0.8324022346,
          0.3756613757,
          0.2765957447,
          0.8972972973,
          0.1027027027,
          0.1693121693,
          0.1803278689,
          0.802259887,
          0.5054347826,
          0.8376963351,
          0.835978836,
          0.3785310734,
          0.7172774869,
          0.3672316384,
          0.4042553191,
          0.4126984127,
          0.6630434783,
          0.6402116402,
          0.9548022599,
          0.414893617,
          0.8095238095,
          0.9581151832,
          0.4237288136,
          0.7853403141,
          0.25,
          0.1195652174,
          0.9888268156,
          0.4535519126,
          0.7513513514,
          0.8115183246,
          0.2127659574,
          0.3783783784,
          0.7157894737,
          0.5027027027,
          0.7277486911,
          0.4456521739,
          0.8097826087,
          0.2378378378,
          0.7455621302,
          0.4680851064,
          0.8054054054,
          0.0847457627,
          0.4,
          0.6486486486,
          0.1105263158,
          0.7978723404,
          0.9312169312,
          0.2594594595,
          0.406779661,
          0.8875739645,
          0.3837837838,
          0.7058823529,
          0.7180851064,
          0.7391304348,
          0.3913043478,
          0.9920634921,
          0.4480874317,
          0.7554347826,
          0.5168539326,
          0.2021276596,
          0.8797814208,
          0.1798941799,
          0.652173913,
          0.95625,
          0.9576719577,
          0.5759162304,
          0.3915343915,
          0.6830601093,
          0.0314136126,
          0.9567567568,
          0.4263157895,
          0.4134078212,
          0.1135135135,
          0.8988764045,
          0.0210526316,
          0.6439790576,
          0.3715846995,
          0.7396449704,
          0.5157894737,
          0.186440678,
          0.4893617021,
          0.7112299465,
          0.2780748663,
          0.9297297297,
          0.2458100559,
          0.6304347826,
          0.3135135135,
          0.5078534031,
          0.9585798817,
          0.8631578947,
          0.869047619,
          0.312849162,
          0.3551912568,
          0.813559322,
          0.1945945946,
          0.4022346369,
          0.5235602094,
          0.2077922078,
          0.7173913043,
          0.4188481675,
          0.8148148148,
          0.3910614525,
          0.5652173913,
          0.2677595628,
          0.2173913043,
          0.5882352941,
          0.9537037037,
          0.2303664921,
          0.0274725275,
          0.7262569832,
          0.1530054645,
          0.988700565,
          0.6203208556,
          0.8587570621,
          0.227027027,
          0.2827225131,
          0.8831168831,
          0.2011173184,
          0.6208791209,
          0.5243243243,
          0.5193370166,
          0.6847826087,
          0.1832460733,
          0.722826087,
          0.8156424581,
          0.7459459459,
          0.3829787234,
          0.8174603175,
          0.2119565217,
          0.6775956284,
          0.8032786885,
          0.7142857143,
          0.2681564246,
          0.2391304348,
          0.6864864865,
          0.3513513514,
          0.3825136612,
          0.3027027027,
          0.3903743316,
          0.4970414201,
          0.9574468085,
          0.0785340314,
          0.8191489362,
          0.9513513514,
          0.6408839779,
          0.7368421053,
          0.0368421053,
          0.0782122905,
          0.4361702128,
          0.1513513514,
          0.6077348066,
          0.3191489362,
          0.6,
          0.9005235602,
          0.7675675676,
          0.032967033,
          0.04,
          0.597826087,
          0.4114285714,
          0.0378378378,
          0.6968085106,
          0.7405405405,
          0.2063492063,
          0.7336956522,
          0.0531914894,
          0.8877005348,
          0.2446808511,
          0.3621621622,
          0.3155080214,
          0.1621621622,
          0.8641304348,
          0.7272727273,
          0.1141304348,
          0.3891891892,
          0.0217391304,
          0.5561497326,
          0.8378378378,
          0.5297297297,
          0.7621621622,
          0.1891891892,
          0.4836956522,
          0.9259259259,
          0.0056179775,
          0.0505617978,
          0.7210526316,
          0.3979057592,
          0.3812154696,
          0.8579234973,
          0.4402173913,
          0.7039106145,
          0.0491803279,
          0.2372881356,
          0.5405405405,
          0.5026737968,
          0.5351351351,
          0.6810810811,
          0.2324324324,
          0.131147541,
          0.9565217391,
          0.7267759563,
          0.0160427807,
          0.0335195531,
          0.3050847458,
          0.4486486486,
          0.3206521739,
          0.1587301587,
          0.7891891892,
          0.5108695652,
          0.9243243243,
          0.3459119497,
          0.7382198953,
          0.4916201117,
          0.1780104712,
          0.8244680851,
          0.5343915344,
          0.6918918919,
          0.9285714286,
          0.0957446809,
          0.4254143646,
          0.7789473684,
          0.7582417582,
          0.8864864865,
          0.8742857143,
          0.5684210526,
          0.9831460674,
          0.1807909605,
          0.9832402235,
          0.3220338983,
          0.0486486486,
          0.532967033,
          0.1049723757,
          0.6740331492,
          0.3403141361,
          0.0939226519,
          0.2702702703,
          0.7458563536,
          0.8379888268,
          0.3727810651,
          0.7303370787,
          0.2346368715,
          0.8162162162,
          0.0546448087,
          0.1871657754,
          0.2947368421,
          0.0273224044,
          0.469273743,
          0.5869565217,
          0.7081081081,
          0.8571428571,
          0.9523809524,
          0.6284153005,
          0.8369565217,
          0.6631578947,
          0.0503144654,
          0.729281768,
          0.1340782123,
          0.251396648,
          0.6538461538,
          0.5418994413,
          0.7348066298,
          0.7315789474,
          0.8839779006,
          0.5183246073,
          0.2099447514,
          0.7958115183,
          0.6497175141,
          0.2432432432,
          0.8556149733,
          0.9347826087,
          0.6195652174,
          0.6648648649,
          0.8913043478,
          0.972972973,
          0.9308510638,
          0.6162162162,
          0.1793478261,
          0.3423913043,
          0.585106383,
          0.1847826087,
          0.5837837838,
          0.0597826087,
          0.395480226,
          0.219895288,
          0.3821989529,
          0.1348314607,
          0.2087912088,
          0.5536723164,
          0.2146596859,
          0.4972677596,
          0.3372781065,
          0.6368421053,
          0.8540540541,
          0.9319371728,
          0.3043478261,
          0.2216216216,
          0.0165745856,
          0.2094240838,
          0.8707865169,
          0.4216216216,
          0.9144385027,
          0.3842105263,
          0.6073298429,
          0.0837988827,
          0.3376623377,
          0.2402234637,
          0.5879120879,
          0.7263157895,
          0.2010582011,
          0.893258427,
          0.7637362637,
          0.3858695652,
          0.9685534591,
          0.1038251366,
          0.7513812155,
          0.8848167539,
          0.8079096045,
          0.8167539267,
          0.7094972067,
          0.7005347594,
          0.7567567568,
          0.1967213115,
          0.748603352,
          0.0216216216,
          0.4175824176,
          0.2840909091,
          0.7417582418,
          0.8508287293,
          0.1739130435,
          0.1703296703,
          0.3668639053,
          0.3675675676,
          0.4130434783,
          0.4540540541,
          0.2032085561,
          0.3457446809,
          0.3723404255,
          0.7321428571,
          0.6358695652,
          0.2486772487,
          0.4863387978,
          0.6808510638,
          0.2554347826,
          0.3798882682,
          0.0054054054,
          0.0584415584,
          0.1837837838,
          0.8956043956,
          0.4712041885,
          0.0923913043,
          0.387434555,
          0.2826086957,
          0.843575419,
          0.6759776536,
          0.2608695652,
          0.52,
          0.097826087,
          0.606557377,
          0.7883597884,
          0.7282608696,
          0.7074468085,
          0.2263157895,
          0.8043478261,
          0.2617801047,
          0.7807486631,
          0.3977900552,
          0.5543478261,
          0.6120218579,
          0.4656084656,
          0.1715976331,
          0.4382022472,
          0.8284023669,
          0.1016042781,
          0.3406593407,
          0.0952380952,
          0.8423913043,
          0.3689839572,
          0.4021164021,
          0.5392670157,
          0.1604278075,
          0.9510869565,
          0.404494382,
          0.2663043478,
          0.6595744681,
          0.7219251337,
          0.2065217391,
          0.7936507937,
          0.8201058201,
          0.3701657459,
          0.4245810056,
          0.1032608696,
          0.4324324324,
          0.7826086957,
          0.2052631579,
          0.8418079096,
          0.6033519553,
          0.8206521739,
          0.2485207101,
          0.1581920904,
          0.1497326203,
          0.1884816754,
          0.8219895288,
          0.1813186813,
          0.9210526316,
          0.2105263158,
          0.1071428571,
          0.2751322751,
          0.4371584699,
          0.5053191489,
          0.3021978022,
          0.2021857923,
          0.6540540541,
          0.4756756757,
          0.5531914894,
          0.5105263158,
          0.8152173913,
          0.9738219895,
          0.8928571429,
          0.9947089947,
          0.8305084746,
          0.8306010929,
          0.4157303371,
          0.6054054054,
          0.8971428571,
          0.9528795812,
          0.5957446809,
          0.3169398907,
          0.5562130178,
          0.3989361702,
          0.7472527473,
          0.9267015707,
          0.9239130435,
          0.7934782609,
          0.4469273743,
          0.7955801105,
          0.3898305085,
          0.2872928177,
          0.1276595745,
          0.9830508475,
          0.7243243243,
          0.0163043478,
          0.4591194969,
          0.1210526316,
          0.9836956522,
          0.8315789474,
          0.7027027027,
          0.3315789474,
          0.8789473684,
          0.4105263158,
          0.1684210526,
          0.2210526316,
          0.1789473684,
          0.9526315789,
          0.3736842105,
          0.5974025974,
          0.9263157895,
          0.7894736842,
          0.5079365079,
          0.3894736842,
          0.6526315789,
          0.0677966102,
          0.4631578947,
          0.3387978142,
          0.4860335196,
          0.9894736842,
          0.2736842105,
          0.8157894737,
          0.2,
          0.626984127,
          0.7857142857,
          0.650273224,
          0.4057142857,
          0.7704918033,
          0.4814814815,
          0.6514285714,
          0.56875,
          0.2922077922,
          0.0337078652,
          0.693989071,
          0.9255319149,
          0.0502793296,
          0.4413407821,
          0.0601092896,
          0.1736842105,
          0.604519774,
          0.3901098901,
          0.0928961749,
          0.0655737705,
          0.6170212766,
          0.9398907104,
          0.625698324,
          0.4465408805,
          0.6373626374,
          0.0947368421,
          0.7792207792,
          0.6956521739,
          0.6174863388
         ],
         "parents": [
          "",
          "",
          "",
          "",
          "",
          "",
          "",
          "",
          "",
          "",
          "",
          "",
          "",
          "",
          "",
          "",
          "",
          "",
          "",
          "",
          "",
          "",
          "",
          "",
          "",
          "",
          "",
          "",
          "",
          "",
          "",
          "",
          "",
          "",
          "",
          "",
          "",
          "",
          "",
          "",
          "",
          "",
          "",
          "",
          "",
          "",
          "",
          "",
          "",
          "",
          "",
          "",
          "",
          "",
          "",
          "",
          "",
          "",
          "",
          "",
          "",
          "",
          "",
          "",
          "",
          "",
          "",
          "",
          "",
          "",
          "",
          "",
          "",
          "",
          "",
          "",
          "",
          "",
          "",
          "",
          "",
          "",
          "",
          "",
          "",
          "",
          "",
          "",
          "",
          "",
          "",
          "",
          "",
          "",
          "",
          "",
          "",
          "",
          "",
          "",
          "",
          "",
          "",
          "",
          "",
          "",
          "",
          "",
          "",
          "",
          "",
          "",
          "",
          "",
          "",
          "",
          "",
          "",
          "",
          "",
          "",
          "",
          "",
          "",
          "",
          "",
          "",
          "",
          "",
          "",
          "",
          "",
          "",
          "",
          "",
          "",
          "",
          "",
          "",
          "",
          "",
          "",
          "",
          "",
          "",
          "",
          "",
          "",
          "",
          "",
          "",
          "",
          "",
          "",
          "",
          "",
          "",
          "",
          "",
          "",
          "",
          "",
          "",
          "",
          "",
          "",
          "",
          "",
          "",
          "",
          "",
          "",
          "",
          "",
          "",
          "",
          "",
          "",
          "",
          "",
          "",
          "",
          "",
          "",
          "",
          "",
          "",
          "",
          "",
          "",
          "",
          "",
          "",
          "",
          "",
          "",
          "",
          "",
          "",
          "",
          "",
          "",
          "",
          "",
          "",
          "",
          "",
          "",
          "",
          "",
          "",
          "",
          "",
          "",
          "",
          "",
          "",
          "",
          "",
          "",
          "",
          "",
          "",
          "",
          "",
          "",
          "",
          "",
          "",
          "",
          "",
          "",
          "",
          "",
          "",
          "",
          "",
          "",
          "",
          "",
          "",
          "",
          "",
          "",
          "",
          "",
          "",
          "",
          "",
          "",
          "",
          "",
          "",
          "",
          "",
          "",
          "",
          "",
          "",
          "",
          "",
          "",
          "",
          "",
          "",
          "",
          "",
          "",
          "",
          "",
          "",
          "",
          "",
          "",
          "",
          "",
          "",
          "",
          "",
          "",
          "",
          "",
          "",
          "",
          "",
          "",
          "",
          "",
          "",
          "",
          "",
          "",
          "",
          "",
          "",
          "",
          "",
          "",
          "",
          "",
          "",
          "",
          "",
          "",
          "",
          "",
          "",
          "",
          "",
          "",
          "",
          "",
          "",
          "",
          "",
          "",
          "",
          "",
          "",
          "",
          "",
          "",
          "",
          "",
          "",
          "",
          "",
          "",
          "",
          "",
          "",
          "",
          "",
          "",
          "",
          "",
          "",
          "",
          "",
          "",
          "",
          "",
          "",
          "",
          "",
          "",
          "",
          "",
          "",
          "",
          "",
          "",
          "",
          "",
          "",
          "",
          "",
          "",
          "",
          "",
          "",
          "",
          "",
          "",
          "",
          "",
          "",
          "",
          "",
          "",
          "",
          "",
          "",
          "",
          "",
          "",
          "",
          "",
          "",
          "",
          "",
          "",
          "",
          "",
          "",
          "",
          "",
          "",
          "",
          "",
          "",
          "",
          "",
          "",
          "",
          "",
          "",
          "",
          "",
          "",
          "",
          "",
          "",
          "",
          "",
          "",
          "",
          "",
          "",
          "",
          "",
          "",
          "",
          "",
          "",
          "",
          "",
          "",
          "",
          "",
          "",
          "",
          "",
          "",
          "",
          "",
          "",
          "",
          "",
          "",
          "",
          "",
          "",
          "",
          "",
          "",
          "",
          "",
          "",
          "",
          "",
          "",
          "",
          "",
          "",
          "",
          "",
          "",
          "",
          "",
          "",
          "",
          "",
          "",
          "",
          "",
          "",
          "",
          "",
          "",
          "",
          "",
          "",
          "",
          "",
          "",
          "",
          "",
          "",
          "",
          "",
          "",
          "",
          "",
          "",
          "",
          "",
          "",
          "",
          "",
          "",
          "",
          "",
          "",
          "",
          "",
          "",
          "",
          "",
          "",
          "",
          "",
          "",
          "",
          "",
          "",
          "",
          "",
          "",
          "",
          "",
          "",
          "",
          "",
          "",
          "",
          "",
          "",
          "",
          "",
          "",
          "",
          "",
          "",
          "",
          "",
          "",
          "",
          "",
          "",
          "",
          "",
          "",
          "",
          "",
          "",
          "",
          "",
          "",
          "",
          "",
          "",
          "",
          "",
          "",
          "",
          "",
          "",
          "",
          "",
          "",
          "",
          "",
          "",
          "",
          "",
          "",
          "",
          "",
          "",
          "",
          "",
          "",
          "",
          "",
          "",
          "",
          "",
          "",
          "",
          "",
          "",
          "",
          "",
          "",
          "",
          "",
          "",
          "",
          "",
          "",
          "",
          "",
          "",
          "",
          "",
          "",
          "",
          "",
          "",
          "",
          "",
          "",
          "",
          "",
          "",
          "",
          "",
          "",
          "",
          "",
          "",
          "",
          "",
          "",
          "",
          "",
          "",
          "",
          "",
          "",
          "",
          "",
          "",
          "",
          "",
          "",
          "",
          "",
          "",
          "",
          "",
          "",
          "",
          "",
          "",
          "",
          "",
          "",
          "",
          "",
          "",
          "",
          "",
          "",
          "",
          "",
          "",
          "",
          "",
          "",
          "",
          "",
          "",
          "",
          "",
          "",
          "",
          "",
          "",
          "",
          "",
          "",
          "",
          "",
          "",
          "",
          "",
          "",
          "",
          "",
          "",
          "",
          "",
          "",
          "",
          "",
          "",
          "",
          "",
          "",
          "",
          "",
          "",
          "",
          "",
          "",
          "",
          "",
          "",
          "",
          "",
          "",
          "",
          "",
          "",
          "",
          "",
          "",
          "",
          "",
          "",
          "",
          "",
          "",
          "",
          "",
          "",
          "",
          "",
          "",
          "",
          "",
          "",
          "",
          "",
          "",
          "",
          "",
          "",
          "",
          "",
          "",
          "",
          "",
          "",
          "",
          "",
          "",
          "",
          "",
          "",
          "",
          "",
          "",
          "",
          "",
          "",
          "",
          "",
          "",
          "",
          "",
          "",
          "",
          "",
          "",
          "",
          "",
          "",
          "",
          "",
          "",
          "",
          "",
          "",
          "",
          "",
          "",
          "",
          "",
          "",
          "",
          "",
          "",
          "",
          "",
          "",
          "",
          "",
          "",
          "",
          "",
          "",
          "",
          "",
          "",
          "",
          "",
          "",
          "",
          "",
          "",
          "",
          "",
          "",
          "",
          "",
          "",
          "",
          "",
          "",
          "",
          "",
          "",
          "",
          "",
          "",
          "",
          "",
          "",
          "",
          "",
          "",
          "",
          "",
          "",
          "",
          "",
          "",
          "",
          "",
          "",
          "",
          "",
          "",
          "",
          "",
          "",
          "",
          "",
          "",
          "",
          "",
          "",
          "",
          "",
          "",
          "",
          "",
          "",
          "",
          "",
          "",
          "",
          "",
          "",
          "",
          "",
          "",
          "",
          "",
          "",
          "",
          "",
          "",
          "",
          "",
          "",
          "",
          "",
          "",
          "",
          "",
          "",
          "",
          "",
          "",
          "",
          "",
          "",
          "",
          "",
          "",
          "",
          "",
          "",
          "",
          "",
          "",
          "",
          "",
          "",
          "",
          "",
          "",
          "",
          "",
          "",
          "",
          "",
          "",
          "",
          "",
          "",
          "",
          "",
          "",
          "",
          "",
          "",
          "",
          "",
          "",
          "",
          "",
          "",
          "",
          "",
          "",
          "",
          "",
          "",
          "",
          "",
          "",
          "",
          "",
          "",
          "",
          "",
          "",
          "",
          "",
          "",
          "",
          "",
          "",
          "",
          "",
          "",
          "",
          "",
          "",
          "",
          "",
          "",
          "",
          "",
          "",
          "",
          "",
          "",
          "",
          "",
          "",
          "",
          "",
          "",
          "",
          "",
          "",
          "",
          "",
          "",
          "",
          "",
          "",
          "",
          "",
          "",
          ""
         ],
         "textinfo": "label+value",
         "type": "treemap",
         "values": [
          648167,
          432650,
          188842,
          130178,
          124385,
          112484,
          68335,
          51610,
          47457,
          43671,
          41371,
          40609,
          36621,
          34499,
          24686,
          24363,
          20914,
          19829,
          16557,
          15869,
          14882,
          14876,
          13183,
          13088,
          12959,
          11851,
          11723,
          11078,
          10849,
          10299,
          10115,
          9761,
          9619,
          9269,
          8929,
          7662,
          7069,
          6695,
          6587,
          6576,
          6554,
          6359,
          6336,
          5963,
          5882,
          5720,
          5605,
          5506,
          5151,
          5042,
          4914,
          4867,
          4827,
          4824,
          4794,
          4713,
          4701,
          4647,
          4458,
          4444,
          4176,
          4105,
          4068,
          4020,
          3852,
          3680,
          3501,
          3414,
          3313,
          3248,
          3221,
          3193,
          3154,
          3112,
          3043,
          3031,
          3014,
          2944,
          2834,
          2819,
          2815,
          2794,
          2752,
          2744,
          2739,
          2731,
          2730,
          2646,
          2596,
          2497,
          2381,
          2351,
          2342,
          2270,
          2242,
          2206,
          2195,
          2161,
          2095,
          2035,
          1989,
          1959,
          1910,
          1816,
          1640,
          1626,
          1569,
          1533,
          1525,
          1469,
          1417,
          1408,
          1355,
          1330,
          1298,
          1297,
          1295,
          1243,
          1233,
          1225,
          1221,
          1163,
          1150,
          1103,
          1091,
          1069,
          1063,
          1034,
          1027,
          1020,
          1004,
          999,
          989,
          974,
          964,
          958,
          952,
          945,
          940,
          937,
          935,
          930,
          925,
          878,
          877,
          874,
          842,
          823,
          811,
          804,
          803,
          800,
          777,
          776,
          762,
          750,
          744,
          733,
          729,
          712,
          705,
          693,
          682,
          677,
          671,
          656,
          644,
          635,
          631,
          625,
          603,
          582,
          576,
          569,
          568,
          564,
          542,
          541,
          539,
          530,
          529,
          521,
          515,
          510,
          508,
          507,
          497,
          487,
          484,
          482,
          475,
          473,
          471,
          465,
          458,
          455,
          454,
          452,
          451,
          451,
          445,
          444,
          442,
          439,
          433,
          423,
          420,
          420,
          397,
          396,
          394,
          393,
          392,
          392,
          381,
          376,
          373,
          371,
          367,
          365,
          360,
          360,
          354,
          351,
          350,
          340,
          339,
          336,
          336,
          335,
          332,
          332,
          332,
          325,
          324,
          324,
          321,
          313,
          307,
          307,
          300,
          298,
          294,
          289,
          289,
          284,
          284,
          283,
          283,
          282,
          274,
          273,
          273,
          272,
          272,
          270,
          270,
          268,
          266,
          263,
          258,
          254,
          239,
          236,
          235,
          235,
          234,
          233,
          227,
          221,
          220,
          218,
          217,
          212,
          212,
          211,
          209,
          209,
          209,
          209,
          206,
          204,
          204,
          204,
          202,
          200,
          199,
          198,
          195,
          194,
          194,
          193,
          192,
          192,
          189,
          188,
          188,
          186,
          185,
          185,
          184,
          182,
          182,
          182,
          181,
          177,
          176,
          175,
          174,
          174,
          173,
          172,
          172,
          170,
          165,
          162,
          161,
          159,
          157,
          157,
          155,
          155,
          154,
          152,
          150,
          149,
          146,
          143,
          142,
          141,
          139,
          139,
          138,
          138,
          137,
          134,
          134,
          131,
          131,
          129,
          127,
          126,
          126,
          125,
          125,
          123,
          123,
          122,
          122,
          122,
          121,
          120,
          120,
          120,
          118,
          117,
          117,
          116,
          115,
          115,
          115,
          113,
          113,
          111,
          111,
          108,
          107,
          106,
          106,
          105,
          105,
          105,
          104,
          104,
          103,
          103,
          102,
          102,
          102,
          101,
          101,
          101,
          100,
          100,
          99,
          98,
          97,
          96,
          96,
          95,
          95,
          94,
          94,
          94,
          94,
          93,
          92,
          92,
          92,
          92,
          91,
          91,
          90,
          89,
          89,
          89,
          88,
          88,
          87,
          86,
          85,
          85,
          84,
          83,
          83,
          83,
          81,
          79,
          78,
          78,
          78,
          77,
          77,
          76,
          76,
          76,
          75,
          73,
          72,
          72,
          72,
          72,
          72,
          71,
          70,
          70,
          69,
          69,
          69,
          68,
          67,
          67,
          66,
          66,
          65,
          64,
          62,
          62,
          61,
          60,
          60,
          59,
          59,
          59,
          58,
          57,
          57,
          57,
          57,
          57,
          56,
          56,
          56,
          55,
          55,
          55,
          55,
          55,
          54,
          54,
          54,
          54,
          54,
          54,
          54,
          54,
          53,
          53,
          52,
          52,
          52,
          52,
          52,
          52,
          52,
          51,
          51,
          51,
          50,
          50,
          49,
          49,
          49,
          49,
          49,
          48,
          48,
          47,
          47,
          47,
          47,
          46,
          46,
          45,
          44,
          44,
          44,
          44,
          44,
          43,
          43,
          43,
          43,
          43,
          43,
          42,
          42,
          42,
          42,
          42,
          41,
          41,
          41,
          41,
          41,
          41,
          40,
          40,
          40,
          40,
          40,
          40,
          40,
          40,
          39,
          39,
          39,
          39,
          39,
          38,
          38,
          38,
          37,
          37,
          36,
          36,
          36,
          36,
          36,
          36,
          36,
          35,
          35,
          34,
          34,
          34,
          34,
          33,
          33,
          33,
          33,
          33,
          32,
          32,
          32,
          32,
          32,
          32,
          32,
          31,
          31,
          31,
          31,
          30,
          30,
          30,
          30,
          30,
          30,
          30,
          30,
          30,
          29,
          29,
          29,
          29,
          29,
          29,
          29,
          29,
          29,
          29,
          28,
          28,
          28,
          28,
          28,
          27,
          27,
          27,
          27,
          26,
          26,
          26,
          26,
          26,
          26,
          26,
          26,
          25,
          25,
          25,
          25,
          25,
          25,
          25,
          25,
          25,
          25,
          25,
          25,
          24,
          24,
          24,
          24,
          24,
          24,
          24,
          24,
          24,
          24,
          23,
          23,
          23,
          23,
          23,
          23,
          23,
          23,
          23,
          22,
          22,
          22,
          22,
          22,
          22,
          22,
          22,
          22,
          22,
          22,
          22,
          22,
          22,
          22,
          21,
          21,
          21,
          21,
          21,
          21,
          21,
          21,
          21,
          21,
          21,
          21,
          21,
          21,
          21,
          20,
          20,
          20,
          20,
          20,
          20,
          20,
          19,
          19,
          19,
          19,
          19,
          19,
          19,
          19,
          18,
          18,
          18,
          18,
          18,
          18,
          18,
          18,
          18,
          18,
          18,
          18,
          18,
          17,
          17,
          17,
          17,
          17,
          17,
          17,
          17,
          17,
          17,
          17,
          17,
          17,
          16,
          16,
          16,
          16,
          16,
          16,
          16,
          15,
          15,
          15,
          15,
          15,
          15,
          15,
          15,
          15,
          15,
          15,
          15,
          15,
          14,
          14,
          14,
          14,
          14,
          14,
          14,
          14,
          14,
          14,
          14,
          14,
          13,
          13,
          13,
          13,
          13,
          13,
          13,
          13,
          13,
          13,
          13,
          13,
          13,
          13,
          13,
          13,
          12,
          12,
          12,
          12,
          12,
          12,
          12,
          12,
          12,
          12,
          12,
          12,
          12,
          12,
          12,
          12,
          12,
          12,
          12,
          12,
          12,
          12,
          12,
          12,
          12,
          11,
          11,
          11,
          11,
          11,
          11,
          11,
          11,
          11,
          11,
          11,
          11,
          11,
          11,
          11,
          11,
          11,
          10,
          10,
          10,
          10,
          10,
          10,
          10,
          10,
          10,
          10,
          10,
          10,
          10,
          10,
          10,
          10,
          10,
          10,
          9,
          9,
          9,
          9,
          9,
          9,
          9,
          9,
          9,
          9,
          9,
          9,
          9,
          9,
          9,
          9,
          9,
          9,
          9,
          8,
          8,
          8,
          8,
          8,
          8,
          8,
          8,
          8,
          8,
          8,
          8,
          8,
          8,
          8,
          8,
          8,
          8,
          8,
          8,
          8,
          8,
          8,
          8,
          8,
          8,
          8,
          7,
          7,
          7,
          7,
          7,
          7,
          7,
          7,
          7,
          7,
          7,
          6,
          6,
          6,
          6,
          5,
          5,
          5,
          4,
          4,
          4,
          4,
          4,
          4,
          4,
          4,
          3,
          3,
          2,
          2,
          2,
          2,
          2,
          2,
          2,
          2,
          2,
          2,
          1,
          1,
          1,
          1,
          1,
          1,
          1,
          1,
          1,
          1,
          1,
          1,
          1,
          1,
          1,
          1,
          1,
          1,
          1,
          1,
          1,
          1,
          1,
          1,
          1,
          1,
          1,
          1,
          1
         ]
        }
       ],
       "layout": {
        "font": {
         "color": "white"
        },
        "paper_bgcolor": "black",
        "plot_bgcolor": "grey",
        "template": {
         "data": {
          "bar": [
           {
            "error_x": {
             "color": "#2a3f5f"
            },
            "error_y": {
             "color": "#2a3f5f"
            },
            "marker": {
             "line": {
              "color": "#E5ECF6",
              "width": 0.5
             },
             "pattern": {
              "fillmode": "overlay",
              "size": 10,
              "solidity": 0.2
             }
            },
            "type": "bar"
           }
          ],
          "barpolar": [
           {
            "marker": {
             "line": {
              "color": "#E5ECF6",
              "width": 0.5
             },
             "pattern": {
              "fillmode": "overlay",
              "size": 10,
              "solidity": 0.2
             }
            },
            "type": "barpolar"
           }
          ],
          "carpet": [
           {
            "aaxis": {
             "endlinecolor": "#2a3f5f",
             "gridcolor": "white",
             "linecolor": "white",
             "minorgridcolor": "white",
             "startlinecolor": "#2a3f5f"
            },
            "baxis": {
             "endlinecolor": "#2a3f5f",
             "gridcolor": "white",
             "linecolor": "white",
             "minorgridcolor": "white",
             "startlinecolor": "#2a3f5f"
            },
            "type": "carpet"
           }
          ],
          "choropleth": [
           {
            "colorbar": {
             "outlinewidth": 0,
             "ticks": ""
            },
            "type": "choropleth"
           }
          ],
          "contour": [
           {
            "colorbar": {
             "outlinewidth": 0,
             "ticks": ""
            },
            "colorscale": [
             [
              0,
              "#0d0887"
             ],
             [
              0.1111111111111111,
              "#46039f"
             ],
             [
              0.2222222222222222,
              "#7201a8"
             ],
             [
              0.3333333333333333,
              "#9c179e"
             ],
             [
              0.4444444444444444,
              "#bd3786"
             ],
             [
              0.5555555555555556,
              "#d8576b"
             ],
             [
              0.6666666666666666,
              "#ed7953"
             ],
             [
              0.7777777777777778,
              "#fb9f3a"
             ],
             [
              0.8888888888888888,
              "#fdca26"
             ],
             [
              1,
              "#f0f921"
             ]
            ],
            "type": "contour"
           }
          ],
          "contourcarpet": [
           {
            "colorbar": {
             "outlinewidth": 0,
             "ticks": ""
            },
            "type": "contourcarpet"
           }
          ],
          "heatmap": [
           {
            "colorbar": {
             "outlinewidth": 0,
             "ticks": ""
            },
            "colorscale": [
             [
              0,
              "#0d0887"
             ],
             [
              0.1111111111111111,
              "#46039f"
             ],
             [
              0.2222222222222222,
              "#7201a8"
             ],
             [
              0.3333333333333333,
              "#9c179e"
             ],
             [
              0.4444444444444444,
              "#bd3786"
             ],
             [
              0.5555555555555556,
              "#d8576b"
             ],
             [
              0.6666666666666666,
              "#ed7953"
             ],
             [
              0.7777777777777778,
              "#fb9f3a"
             ],
             [
              0.8888888888888888,
              "#fdca26"
             ],
             [
              1,
              "#f0f921"
             ]
            ],
            "type": "heatmap"
           }
          ],
          "heatmapgl": [
           {
            "colorbar": {
             "outlinewidth": 0,
             "ticks": ""
            },
            "colorscale": [
             [
              0,
              "#0d0887"
             ],
             [
              0.1111111111111111,
              "#46039f"
             ],
             [
              0.2222222222222222,
              "#7201a8"
             ],
             [
              0.3333333333333333,
              "#9c179e"
             ],
             [
              0.4444444444444444,
              "#bd3786"
             ],
             [
              0.5555555555555556,
              "#d8576b"
             ],
             [
              0.6666666666666666,
              "#ed7953"
             ],
             [
              0.7777777777777778,
              "#fb9f3a"
             ],
             [
              0.8888888888888888,
              "#fdca26"
             ],
             [
              1,
              "#f0f921"
             ]
            ],
            "type": "heatmapgl"
           }
          ],
          "histogram": [
           {
            "marker": {
             "pattern": {
              "fillmode": "overlay",
              "size": 10,
              "solidity": 0.2
             }
            },
            "type": "histogram"
           }
          ],
          "histogram2d": [
           {
            "colorbar": {
             "outlinewidth": 0,
             "ticks": ""
            },
            "colorscale": [
             [
              0,
              "#0d0887"
             ],
             [
              0.1111111111111111,
              "#46039f"
             ],
             [
              0.2222222222222222,
              "#7201a8"
             ],
             [
              0.3333333333333333,
              "#9c179e"
             ],
             [
              0.4444444444444444,
              "#bd3786"
             ],
             [
              0.5555555555555556,
              "#d8576b"
             ],
             [
              0.6666666666666666,
              "#ed7953"
             ],
             [
              0.7777777777777778,
              "#fb9f3a"
             ],
             [
              0.8888888888888888,
              "#fdca26"
             ],
             [
              1,
              "#f0f921"
             ]
            ],
            "type": "histogram2d"
           }
          ],
          "histogram2dcontour": [
           {
            "colorbar": {
             "outlinewidth": 0,
             "ticks": ""
            },
            "colorscale": [
             [
              0,
              "#0d0887"
             ],
             [
              0.1111111111111111,
              "#46039f"
             ],
             [
              0.2222222222222222,
              "#7201a8"
             ],
             [
              0.3333333333333333,
              "#9c179e"
             ],
             [
              0.4444444444444444,
              "#bd3786"
             ],
             [
              0.5555555555555556,
              "#d8576b"
             ],
             [
              0.6666666666666666,
              "#ed7953"
             ],
             [
              0.7777777777777778,
              "#fb9f3a"
             ],
             [
              0.8888888888888888,
              "#fdca26"
             ],
             [
              1,
              "#f0f921"
             ]
            ],
            "type": "histogram2dcontour"
           }
          ],
          "mesh3d": [
           {
            "colorbar": {
             "outlinewidth": 0,
             "ticks": ""
            },
            "type": "mesh3d"
           }
          ],
          "parcoords": [
           {
            "line": {
             "colorbar": {
              "outlinewidth": 0,
              "ticks": ""
             }
            },
            "type": "parcoords"
           }
          ],
          "pie": [
           {
            "automargin": true,
            "type": "pie"
           }
          ],
          "scatter": [
           {
            "fillpattern": {
             "fillmode": "overlay",
             "size": 10,
             "solidity": 0.2
            },
            "type": "scatter"
           }
          ],
          "scatter3d": [
           {
            "line": {
             "colorbar": {
              "outlinewidth": 0,
              "ticks": ""
             }
            },
            "marker": {
             "colorbar": {
              "outlinewidth": 0,
              "ticks": ""
             }
            },
            "type": "scatter3d"
           }
          ],
          "scattercarpet": [
           {
            "marker": {
             "colorbar": {
              "outlinewidth": 0,
              "ticks": ""
             }
            },
            "type": "scattercarpet"
           }
          ],
          "scattergeo": [
           {
            "marker": {
             "colorbar": {
              "outlinewidth": 0,
              "ticks": ""
             }
            },
            "type": "scattergeo"
           }
          ],
          "scattergl": [
           {
            "marker": {
             "colorbar": {
              "outlinewidth": 0,
              "ticks": ""
             }
            },
            "type": "scattergl"
           }
          ],
          "scattermapbox": [
           {
            "marker": {
             "colorbar": {
              "outlinewidth": 0,
              "ticks": ""
             }
            },
            "type": "scattermapbox"
           }
          ],
          "scatterpolar": [
           {
            "marker": {
             "colorbar": {
              "outlinewidth": 0,
              "ticks": ""
             }
            },
            "type": "scatterpolar"
           }
          ],
          "scatterpolargl": [
           {
            "marker": {
             "colorbar": {
              "outlinewidth": 0,
              "ticks": ""
             }
            },
            "type": "scatterpolargl"
           }
          ],
          "scatterternary": [
           {
            "marker": {
             "colorbar": {
              "outlinewidth": 0,
              "ticks": ""
             }
            },
            "type": "scatterternary"
           }
          ],
          "surface": [
           {
            "colorbar": {
             "outlinewidth": 0,
             "ticks": ""
            },
            "colorscale": [
             [
              0,
              "#0d0887"
             ],
             [
              0.1111111111111111,
              "#46039f"
             ],
             [
              0.2222222222222222,
              "#7201a8"
             ],
             [
              0.3333333333333333,
              "#9c179e"
             ],
             [
              0.4444444444444444,
              "#bd3786"
             ],
             [
              0.5555555555555556,
              "#d8576b"
             ],
             [
              0.6666666666666666,
              "#ed7953"
             ],
             [
              0.7777777777777778,
              "#fb9f3a"
             ],
             [
              0.8888888888888888,
              "#fdca26"
             ],
             [
              1,
              "#f0f921"
             ]
            ],
            "type": "surface"
           }
          ],
          "table": [
           {
            "cells": {
             "fill": {
              "color": "#EBF0F8"
             },
             "line": {
              "color": "white"
             }
            },
            "header": {
             "fill": {
              "color": "#C8D4E3"
             },
             "line": {
              "color": "white"
             }
            },
            "type": "table"
           }
          ]
         },
         "layout": {
          "annotationdefaults": {
           "arrowcolor": "#2a3f5f",
           "arrowhead": 0,
           "arrowwidth": 1
          },
          "autotypenumbers": "strict",
          "coloraxis": {
           "colorbar": {
            "outlinewidth": 0,
            "ticks": ""
           }
          },
          "colorscale": {
           "diverging": [
            [
             0,
             "#8e0152"
            ],
            [
             0.1,
             "#c51b7d"
            ],
            [
             0.2,
             "#de77ae"
            ],
            [
             0.3,
             "#f1b6da"
            ],
            [
             0.4,
             "#fde0ef"
            ],
            [
             0.5,
             "#f7f7f7"
            ],
            [
             0.6,
             "#e6f5d0"
            ],
            [
             0.7,
             "#b8e186"
            ],
            [
             0.8,
             "#7fbc41"
            ],
            [
             0.9,
             "#4d9221"
            ],
            [
             1,
             "#276419"
            ]
           ],
           "sequential": [
            [
             0,
             "#0d0887"
            ],
            [
             0.1111111111111111,
             "#46039f"
            ],
            [
             0.2222222222222222,
             "#7201a8"
            ],
            [
             0.3333333333333333,
             "#9c179e"
            ],
            [
             0.4444444444444444,
             "#bd3786"
            ],
            [
             0.5555555555555556,
             "#d8576b"
            ],
            [
             0.6666666666666666,
             "#ed7953"
            ],
            [
             0.7777777777777778,
             "#fb9f3a"
            ],
            [
             0.8888888888888888,
             "#fdca26"
            ],
            [
             1,
             "#f0f921"
            ]
           ],
           "sequentialminus": [
            [
             0,
             "#0d0887"
            ],
            [
             0.1111111111111111,
             "#46039f"
            ],
            [
             0.2222222222222222,
             "#7201a8"
            ],
            [
             0.3333333333333333,
             "#9c179e"
            ],
            [
             0.4444444444444444,
             "#bd3786"
            ],
            [
             0.5555555555555556,
             "#d8576b"
            ],
            [
             0.6666666666666666,
             "#ed7953"
            ],
            [
             0.7777777777777778,
             "#fb9f3a"
            ],
            [
             0.8888888888888888,
             "#fdca26"
            ],
            [
             1,
             "#f0f921"
            ]
           ]
          },
          "colorway": [
           "#636efa",
           "#EF553B",
           "#00cc96",
           "#ab63fa",
           "#FFA15A",
           "#19d3f3",
           "#FF6692",
           "#B6E880",
           "#FF97FF",
           "#FECB52"
          ],
          "font": {
           "color": "#2a3f5f"
          },
          "geo": {
           "bgcolor": "white",
           "lakecolor": "white",
           "landcolor": "#E5ECF6",
           "showlakes": true,
           "showland": true,
           "subunitcolor": "white"
          },
          "hoverlabel": {
           "align": "left"
          },
          "hovermode": "closest",
          "mapbox": {
           "style": "light"
          },
          "paper_bgcolor": "white",
          "plot_bgcolor": "#E5ECF6",
          "polar": {
           "angularaxis": {
            "gridcolor": "white",
            "linecolor": "white",
            "ticks": ""
           },
           "bgcolor": "#E5ECF6",
           "radialaxis": {
            "gridcolor": "white",
            "linecolor": "white",
            "ticks": ""
           }
          },
          "scene": {
           "xaxis": {
            "backgroundcolor": "#E5ECF6",
            "gridcolor": "white",
            "gridwidth": 2,
            "linecolor": "white",
            "showbackground": true,
            "ticks": "",
            "zerolinecolor": "white"
           },
           "yaxis": {
            "backgroundcolor": "#E5ECF6",
            "gridcolor": "white",
            "gridwidth": 2,
            "linecolor": "white",
            "showbackground": true,
            "ticks": "",
            "zerolinecolor": "white"
           },
           "zaxis": {
            "backgroundcolor": "#E5ECF6",
            "gridcolor": "white",
            "gridwidth": 2,
            "linecolor": "white",
            "showbackground": true,
            "ticks": "",
            "zerolinecolor": "white"
           }
          },
          "shapedefaults": {
           "line": {
            "color": "#2a3f5f"
           }
          },
          "ternary": {
           "aaxis": {
            "gridcolor": "white",
            "linecolor": "white",
            "ticks": ""
           },
           "baxis": {
            "gridcolor": "white",
            "linecolor": "white",
            "ticks": ""
           },
           "bgcolor": "#E5ECF6",
           "caxis": {
            "gridcolor": "white",
            "linecolor": "white",
            "ticks": ""
           }
          },
          "title": {
           "x": 0.05
          },
          "xaxis": {
           "automargin": true,
           "gridcolor": "white",
           "linecolor": "white",
           "ticks": "",
           "title": {
            "standoff": 15
           },
           "zerolinecolor": "white",
           "zerolinewidth": 2
          },
          "yaxis": {
           "automargin": true,
           "gridcolor": "white",
           "linecolor": "white",
           "ticks": "",
           "title": {
            "standoff": 15
           },
           "zerolinecolor": "white",
           "zerolinewidth": 2
          }
         }
        },
        "title": {
         "text": "treemap column: countries"
        }
       }
      }
     },
     "metadata": {},
     "output_type": "display_data"
    },
    {
     "data": {
      "application/vnd.plotly.v1+json": {
       "config": {
        "plotlyServerURL": "https://plot.ly"
       },
       "data": [
        {
         "labels": [
          0,
          0.1111111111,
          0.2222222222,
          0.3333333333,
          0.4444444444,
          0.5555555556,
          0.6666666667,
          0.7777777778,
          1,
          0.8888888889
         ],
         "parents": [
          "",
          "",
          "",
          "",
          "",
          "",
          "",
          "",
          "",
          ""
         ],
         "textinfo": "label+value",
         "type": "treemap",
         "values": [
          1927991,
          302014,
          214329,
          114324,
          54215,
          29135,
          23187,
          12364,
          12105,
          7582
         ]
        }
       ],
       "layout": {
        "font": {
         "color": "white"
        },
        "paper_bgcolor": "black",
        "plot_bgcolor": "grey",
        "template": {
         "data": {
          "bar": [
           {
            "error_x": {
             "color": "#2a3f5f"
            },
            "error_y": {
             "color": "#2a3f5f"
            },
            "marker": {
             "line": {
              "color": "#E5ECF6",
              "width": 0.5
             },
             "pattern": {
              "fillmode": "overlay",
              "size": 10,
              "solidity": 0.2
             }
            },
            "type": "bar"
           }
          ],
          "barpolar": [
           {
            "marker": {
             "line": {
              "color": "#E5ECF6",
              "width": 0.5
             },
             "pattern": {
              "fillmode": "overlay",
              "size": 10,
              "solidity": 0.2
             }
            },
            "type": "barpolar"
           }
          ],
          "carpet": [
           {
            "aaxis": {
             "endlinecolor": "#2a3f5f",
             "gridcolor": "white",
             "linecolor": "white",
             "minorgridcolor": "white",
             "startlinecolor": "#2a3f5f"
            },
            "baxis": {
             "endlinecolor": "#2a3f5f",
             "gridcolor": "white",
             "linecolor": "white",
             "minorgridcolor": "white",
             "startlinecolor": "#2a3f5f"
            },
            "type": "carpet"
           }
          ],
          "choropleth": [
           {
            "colorbar": {
             "outlinewidth": 0,
             "ticks": ""
            },
            "type": "choropleth"
           }
          ],
          "contour": [
           {
            "colorbar": {
             "outlinewidth": 0,
             "ticks": ""
            },
            "colorscale": [
             [
              0,
              "#0d0887"
             ],
             [
              0.1111111111111111,
              "#46039f"
             ],
             [
              0.2222222222222222,
              "#7201a8"
             ],
             [
              0.3333333333333333,
              "#9c179e"
             ],
             [
              0.4444444444444444,
              "#bd3786"
             ],
             [
              0.5555555555555556,
              "#d8576b"
             ],
             [
              0.6666666666666666,
              "#ed7953"
             ],
             [
              0.7777777777777778,
              "#fb9f3a"
             ],
             [
              0.8888888888888888,
              "#fdca26"
             ],
             [
              1,
              "#f0f921"
             ]
            ],
            "type": "contour"
           }
          ],
          "contourcarpet": [
           {
            "colorbar": {
             "outlinewidth": 0,
             "ticks": ""
            },
            "type": "contourcarpet"
           }
          ],
          "heatmap": [
           {
            "colorbar": {
             "outlinewidth": 0,
             "ticks": ""
            },
            "colorscale": [
             [
              0,
              "#0d0887"
             ],
             [
              0.1111111111111111,
              "#46039f"
             ],
             [
              0.2222222222222222,
              "#7201a8"
             ],
             [
              0.3333333333333333,
              "#9c179e"
             ],
             [
              0.4444444444444444,
              "#bd3786"
             ],
             [
              0.5555555555555556,
              "#d8576b"
             ],
             [
              0.6666666666666666,
              "#ed7953"
             ],
             [
              0.7777777777777778,
              "#fb9f3a"
             ],
             [
              0.8888888888888888,
              "#fdca26"
             ],
             [
              1,
              "#f0f921"
             ]
            ],
            "type": "heatmap"
           }
          ],
          "heatmapgl": [
           {
            "colorbar": {
             "outlinewidth": 0,
             "ticks": ""
            },
            "colorscale": [
             [
              0,
              "#0d0887"
             ],
             [
              0.1111111111111111,
              "#46039f"
             ],
             [
              0.2222222222222222,
              "#7201a8"
             ],
             [
              0.3333333333333333,
              "#9c179e"
             ],
             [
              0.4444444444444444,
              "#bd3786"
             ],
             [
              0.5555555555555556,
              "#d8576b"
             ],
             [
              0.6666666666666666,
              "#ed7953"
             ],
             [
              0.7777777777777778,
              "#fb9f3a"
             ],
             [
              0.8888888888888888,
              "#fdca26"
             ],
             [
              1,
              "#f0f921"
             ]
            ],
            "type": "heatmapgl"
           }
          ],
          "histogram": [
           {
            "marker": {
             "pattern": {
              "fillmode": "overlay",
              "size": 10,
              "solidity": 0.2
             }
            },
            "type": "histogram"
           }
          ],
          "histogram2d": [
           {
            "colorbar": {
             "outlinewidth": 0,
             "ticks": ""
            },
            "colorscale": [
             [
              0,
              "#0d0887"
             ],
             [
              0.1111111111111111,
              "#46039f"
             ],
             [
              0.2222222222222222,
              "#7201a8"
             ],
             [
              0.3333333333333333,
              "#9c179e"
             ],
             [
              0.4444444444444444,
              "#bd3786"
             ],
             [
              0.5555555555555556,
              "#d8576b"
             ],
             [
              0.6666666666666666,
              "#ed7953"
             ],
             [
              0.7777777777777778,
              "#fb9f3a"
             ],
             [
              0.8888888888888888,
              "#fdca26"
             ],
             [
              1,
              "#f0f921"
             ]
            ],
            "type": "histogram2d"
           }
          ],
          "histogram2dcontour": [
           {
            "colorbar": {
             "outlinewidth": 0,
             "ticks": ""
            },
            "colorscale": [
             [
              0,
              "#0d0887"
             ],
             [
              0.1111111111111111,
              "#46039f"
             ],
             [
              0.2222222222222222,
              "#7201a8"
             ],
             [
              0.3333333333333333,
              "#9c179e"
             ],
             [
              0.4444444444444444,
              "#bd3786"
             ],
             [
              0.5555555555555556,
              "#d8576b"
             ],
             [
              0.6666666666666666,
              "#ed7953"
             ],
             [
              0.7777777777777778,
              "#fb9f3a"
             ],
             [
              0.8888888888888888,
              "#fdca26"
             ],
             [
              1,
              "#f0f921"
             ]
            ],
            "type": "histogram2dcontour"
           }
          ],
          "mesh3d": [
           {
            "colorbar": {
             "outlinewidth": 0,
             "ticks": ""
            },
            "type": "mesh3d"
           }
          ],
          "parcoords": [
           {
            "line": {
             "colorbar": {
              "outlinewidth": 0,
              "ticks": ""
             }
            },
            "type": "parcoords"
           }
          ],
          "pie": [
           {
            "automargin": true,
            "type": "pie"
           }
          ],
          "scatter": [
           {
            "fillpattern": {
             "fillmode": "overlay",
             "size": 10,
             "solidity": 0.2
            },
            "type": "scatter"
           }
          ],
          "scatter3d": [
           {
            "line": {
             "colorbar": {
              "outlinewidth": 0,
              "ticks": ""
             }
            },
            "marker": {
             "colorbar": {
              "outlinewidth": 0,
              "ticks": ""
             }
            },
            "type": "scatter3d"
           }
          ],
          "scattercarpet": [
           {
            "marker": {
             "colorbar": {
              "outlinewidth": 0,
              "ticks": ""
             }
            },
            "type": "scattercarpet"
           }
          ],
          "scattergeo": [
           {
            "marker": {
             "colorbar": {
              "outlinewidth": 0,
              "ticks": ""
             }
            },
            "type": "scattergeo"
           }
          ],
          "scattergl": [
           {
            "marker": {
             "colorbar": {
              "outlinewidth": 0,
              "ticks": ""
             }
            },
            "type": "scattergl"
           }
          ],
          "scattermapbox": [
           {
            "marker": {
             "colorbar": {
              "outlinewidth": 0,
              "ticks": ""
             }
            },
            "type": "scattermapbox"
           }
          ],
          "scatterpolar": [
           {
            "marker": {
             "colorbar": {
              "outlinewidth": 0,
              "ticks": ""
             }
            },
            "type": "scatterpolar"
           }
          ],
          "scatterpolargl": [
           {
            "marker": {
             "colorbar": {
              "outlinewidth": 0,
              "ticks": ""
             }
            },
            "type": "scatterpolargl"
           }
          ],
          "scatterternary": [
           {
            "marker": {
             "colorbar": {
              "outlinewidth": 0,
              "ticks": ""
             }
            },
            "type": "scatterternary"
           }
          ],
          "surface": [
           {
            "colorbar": {
             "outlinewidth": 0,
             "ticks": ""
            },
            "colorscale": [
             [
              0,
              "#0d0887"
             ],
             [
              0.1111111111111111,
              "#46039f"
             ],
             [
              0.2222222222222222,
              "#7201a8"
             ],
             [
              0.3333333333333333,
              "#9c179e"
             ],
             [
              0.4444444444444444,
              "#bd3786"
             ],
             [
              0.5555555555555556,
              "#d8576b"
             ],
             [
              0.6666666666666666,
              "#ed7953"
             ],
             [
              0.7777777777777778,
              "#fb9f3a"
             ],
             [
              0.8888888888888888,
              "#fdca26"
             ],
             [
              1,
              "#f0f921"
             ]
            ],
            "type": "surface"
           }
          ],
          "table": [
           {
            "cells": {
             "fill": {
              "color": "#EBF0F8"
             },
             "line": {
              "color": "white"
             }
            },
            "header": {
             "fill": {
              "color": "#C8D4E3"
             },
             "line": {
              "color": "white"
             }
            },
            "type": "table"
           }
          ]
         },
         "layout": {
          "annotationdefaults": {
           "arrowcolor": "#2a3f5f",
           "arrowhead": 0,
           "arrowwidth": 1
          },
          "autotypenumbers": "strict",
          "coloraxis": {
           "colorbar": {
            "outlinewidth": 0,
            "ticks": ""
           }
          },
          "colorscale": {
           "diverging": [
            [
             0,
             "#8e0152"
            ],
            [
             0.1,
             "#c51b7d"
            ],
            [
             0.2,
             "#de77ae"
            ],
            [
             0.3,
             "#f1b6da"
            ],
            [
             0.4,
             "#fde0ef"
            ],
            [
             0.5,
             "#f7f7f7"
            ],
            [
             0.6,
             "#e6f5d0"
            ],
            [
             0.7,
             "#b8e186"
            ],
            [
             0.8,
             "#7fbc41"
            ],
            [
             0.9,
             "#4d9221"
            ],
            [
             1,
             "#276419"
            ]
           ],
           "sequential": [
            [
             0,
             "#0d0887"
            ],
            [
             0.1111111111111111,
             "#46039f"
            ],
            [
             0.2222222222222222,
             "#7201a8"
            ],
            [
             0.3333333333333333,
             "#9c179e"
            ],
            [
             0.4444444444444444,
             "#bd3786"
            ],
            [
             0.5555555555555556,
             "#d8576b"
            ],
            [
             0.6666666666666666,
             "#ed7953"
            ],
            [
             0.7777777777777778,
             "#fb9f3a"
            ],
            [
             0.8888888888888888,
             "#fdca26"
            ],
            [
             1,
             "#f0f921"
            ]
           ],
           "sequentialminus": [
            [
             0,
             "#0d0887"
            ],
            [
             0.1111111111111111,
             "#46039f"
            ],
            [
             0.2222222222222222,
             "#7201a8"
            ],
            [
             0.3333333333333333,
             "#9c179e"
            ],
            [
             0.4444444444444444,
             "#bd3786"
            ],
            [
             0.5555555555555556,
             "#d8576b"
            ],
            [
             0.6666666666666666,
             "#ed7953"
            ],
            [
             0.7777777777777778,
             "#fb9f3a"
            ],
            [
             0.8888888888888888,
             "#fdca26"
            ],
            [
             1,
             "#f0f921"
            ]
           ]
          },
          "colorway": [
           "#636efa",
           "#EF553B",
           "#00cc96",
           "#ab63fa",
           "#FFA15A",
           "#19d3f3",
           "#FF6692",
           "#B6E880",
           "#FF97FF",
           "#FECB52"
          ],
          "font": {
           "color": "#2a3f5f"
          },
          "geo": {
           "bgcolor": "white",
           "lakecolor": "white",
           "landcolor": "#E5ECF6",
           "showlakes": true,
           "showland": true,
           "subunitcolor": "white"
          },
          "hoverlabel": {
           "align": "left"
          },
          "hovermode": "closest",
          "mapbox": {
           "style": "light"
          },
          "paper_bgcolor": "white",
          "plot_bgcolor": "#E5ECF6",
          "polar": {
           "angularaxis": {
            "gridcolor": "white",
            "linecolor": "white",
            "ticks": ""
           },
           "bgcolor": "#E5ECF6",
           "radialaxis": {
            "gridcolor": "white",
            "linecolor": "white",
            "ticks": ""
           }
          },
          "scene": {
           "xaxis": {
            "backgroundcolor": "#E5ECF6",
            "gridcolor": "white",
            "gridwidth": 2,
            "linecolor": "white",
            "showbackground": true,
            "ticks": "",
            "zerolinecolor": "white"
           },
           "yaxis": {
            "backgroundcolor": "#E5ECF6",
            "gridcolor": "white",
            "gridwidth": 2,
            "linecolor": "white",
            "showbackground": true,
            "ticks": "",
            "zerolinecolor": "white"
           },
           "zaxis": {
            "backgroundcolor": "#E5ECF6",
            "gridcolor": "white",
            "gridwidth": 2,
            "linecolor": "white",
            "showbackground": true,
            "ticks": "",
            "zerolinecolor": "white"
           }
          },
          "shapedefaults": {
           "line": {
            "color": "#2a3f5f"
           }
          },
          "ternary": {
           "aaxis": {
            "gridcolor": "white",
            "linecolor": "white",
            "ticks": ""
           },
           "baxis": {
            "gridcolor": "white",
            "linecolor": "white",
            "ticks": ""
           },
           "bgcolor": "#E5ECF6",
           "caxis": {
            "gridcolor": "white",
            "linecolor": "white",
            "ticks": ""
           }
          },
          "title": {
           "x": 0.05
          },
          "xaxis": {
           "automargin": true,
           "gridcolor": "white",
           "linecolor": "white",
           "ticks": "",
           "title": {
            "standoff": 15
           },
           "zerolinecolor": "white",
           "zerolinewidth": 2
          },
          "yaxis": {
           "automargin": true,
           "gridcolor": "white",
           "linecolor": "white",
           "ticks": "",
           "title": {
            "standoff": 15
           },
           "zerolinecolor": "white",
           "zerolinewidth": 2
          }
         }
        },
        "title": {
         "text": "treemap column: labels_note"
        }
       }
      }
     },
     "metadata": {},
     "output_type": "display_data"
    }
   ],
   "source": [
    "colonnes_a_travailler = ['ecoscore_tags', 'ecoscore_score', 'countries', 'labels_note']  \n",
    "df = load_jsonl_to_dataframe(file_path)\n",
    "for column in colonnes_a_travailler:\n",
    "    create_treemap_for_column(df, column)"
   ]
  },
  {
   "cell_type": "code",
   "execution_count": 37,
   "metadata": {},
   "outputs": [],
   "source": [
    "def count_unique_values(jsonl_file_path, colonnes_a_travailler):\n",
    "    data = []\n",
    "    with open(jsonl_file_path, 'r') as file:\n",
    "        for line in file:\n",
    "            data.append(json.loads(line))\n",
    "    df = pd.DataFrame(data)\n",
    "    unique_counts = {}\n",
    "    for column in colonnes_a_travailler:\n",
    "        if column in df.columns:\n",
    "            unique_count = df[column].nunique()\n",
    "            if pd.api.types.is_numeric_dtype(df[column]):\n",
    "                min_val = df[column].min()\n",
    "                max_val = df[column].max()\n",
    "                unique_counts[column] = {\n",
    "                    'unique_count': unique_count,\n",
    "                    'min': min_val,\n",
    "                    'max': max_val\n",
    "                }\n",
    "            else:\n",
    "                unique_counts[column] = {\n",
    "                    'unique_count': unique_count\n",
    "                }\n",
    "        else:\n",
    "            unique_counts[column] = 'Column not found in data'\n",
    "    return unique_counts"
   ]
  },
  {
   "cell_type": "code",
   "execution_count": 38,
   "metadata": {},
   "outputs": [
    {
     "name": "stdout",
     "output_type": "stream",
     "text": [
      "{'ecoscore_tags': {'unique_count': 7}, 'ecoscore_score': {'unique_count': 102, 'min': 0.0, 'max': 100.0}, 'countries': {'unique_count': 932, 'min': 0.0, 'max': 1.0}, 'labels_note': {'unique_count': 10, 'min': 0.0, 'max': 1.0}}\n"
     ]
    }
   ],
   "source": [
    "unique_values = count_unique_values(file_path, colonnes_a_travailler)\n",
    "print(unique_values)"
   ]
  },
  {
   "cell_type": "code",
   "execution_count": null,
   "metadata": {},
   "outputs": [],
   "source": []
  }
 ],
 "metadata": {
  "kernelspec": {
   "display_name": "greenIa",
   "language": "python",
   "name": "python3"
  },
  "language_info": {
   "codemirror_mode": {
    "name": "ipython",
    "version": 3
   },
   "file_extension": ".py",
   "mimetype": "text/x-python",
   "name": "python",
   "nbconvert_exporter": "python",
   "pygments_lexer": "ipython3",
   "version": "3.9.18"
  }
 },
 "nbformat": 4,
 "nbformat_minor": 2
}
