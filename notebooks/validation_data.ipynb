{
 "cells": [
  {
   "cell_type": "code",
   "execution_count": 1,
   "metadata": {},
   "outputs": [],
   "source": [
    "import pandas as pd\n",
    "import numpy as np\n",
    "import json\n",
    "import os\n",
    "import warnings\n",
    "from datetime import datetime \n",
    "from collections import OrderedDict\n",
    "\n",
    "pd.set_option('display.max_rows', 100)\n",
    "pd.set_option('display.max_colwidth', None)\n",
    "\n",
    "warnings.filterwarnings(\"ignore\", category=pd.errors.DtypeWarning)"
   ]
  },
  {
   "cell_type": "code",
   "execution_count": 2,
   "metadata": {},
   "outputs": [],
   "source": [
    "chunk_size = 1000\n",
    "file_id = '00'\n",
    "project_path = \"/home/carolus/Documents/school/green_ia/\" \n",
    "jsonl_02 = project_path + 'data/' + file_id + '_openfoodfacts_02.jsonl' \n",
    "\n",
    "# récupérer la date du jour \n",
    "current_date_time = datetime.now()\n",
    "date_format = \"%d/%m/%Y %H:%M:%S.%f\"\n",
    "start_date = current_date_time.strftime(\"%d/%m/%Y %H:%M:%S.%f\")[:-3]\n",
    "date_code = current_date_time.strftime('%d%m%Y%H%M%S') + f\"{current_date_time.microsecond // 1000:03d}\""
   ]
  },
  {
   "cell_type": "code",
   "execution_count": 3,
   "metadata": {},
   "outputs": [],
   "source": [
    "def add_logs(logData):\n",
    "    print(logData)\n",
    "    #with open(f\"{project_path}logs/03_analysis_{date_code}_logs.txt\", \"a\") as logFile:\n",
    "     #   logFile.write(f'{logData}\\n')"
   ]
  },
  {
   "cell_type": "code",
   "execution_count": 4,
   "metadata": {},
   "outputs": [
    {
     "name": "stdout",
     "output_type": "stream",
     "text": [
      "jsonl format valid: /home/carolus/Documents/school/green_ia/data/00_openfoodfacts_02.jsonl\n"
     ]
    }
   ],
   "source": [
    "# verifie la validité de la structure du fichier jsonl\n",
    "with open(jsonl_02, 'r') as file:\n",
    "    for line in file:\n",
    "        try:\n",
    "            json_object = json.loads(line)\n",
    "        except json.JSONDecodeError as e:\n",
    "            add_logs(f\"ERROR decoding jsonl: {e}\")\n",
    "\n",
    "add_logs(f\"jsonl format valid: {jsonl_02}\")"
   ]
  },
  {
   "cell_type": "code",
   "execution_count": 5,
   "metadata": {},
   "outputs": [
    {
     "name": "stdout",
     "output_type": "stream",
     "text": [
      "'italien', 'germany', 'france', 'united states', 'irlande', 'united kingdom', 'canada', 'switzerland', 'spain', 'deutschland', 'slovenia', 'netherlands', 'italy', 'romania', 'australia', 'world', 'guadeloupe', 'república dominicana', 'estados unidos', 'bolivia', 'méxico', 'new zealand', 'sweden', 'alemania', 'italia', 'antarctic', 'royaume-uni', 'belgique', 'pays-bas', 'suède', 'danemark', 'norvège', 'espagne', 'pologne', 'none', 'inde', 'austria', 'spanien', 'united-kingdom', 'franciaország', 'nagy-britannia', 'magyarország', 'česko', 'united-states', 'czech republic', 'frankrijk', 'verenigd koninkrijk', 'thailand', 'vereinigte staaten von amerika', 'egypt', 'stati uniti d'america', 'territoires palestiniens', 'ireland', 'stany zjednoczone', 'japan', 'la réunion', 'svijet', 'francuska', 'hrvatska', 'irska', 'njemačka', 'sjedinjene-američke-države', 'švicarska', 'taiwan', 'belgium', 'luxembourg', 'argentina', 'morocco', 'brasil', 'allemagne', 'francja', 'guatemala', 'australie', 'mexico', 'السعودية', 'saudi arabia', 'emiratos árabes unidos', 'iraq', 'الكويت', 'united arab emirates', 'roumanie', 'costa rica', 'moldavia', 'martinique', 'new caledonia', 'singapore', 'sverige', 'usa', 'polynésie française', 'french polynesia', 'suiza', 'mexique', 'panamá', 'nouvelle-calédonie', 'panama', 'brazil', 'australien', 'kanada', 'russia', 'vereinigtes königreich', 'países bajos', 'norway', 'reino unido', 'yhdysvallat', 'suomi', 'made in canada from domestic and imported ingredients.', 'regno unito', 'finland', 'ประเทศฝรั่งเศส', 'สหราชอาณาจักร', '法国', '香港', 'hong kong', 'maurice', 'ประเทศไทย (thai)', '中华人民共和国', 'liban', 'philippines', 'niederlande', 'belgien', 'belgio', 'germania', 'belgia', 'sveitsi', 'saksa', 'ranska', 'espanja', 'yhdistynyt kuningaskunta', 'spagna', 'malaysia', 'guyana', 'hungary', 'mundo', 'canadá', '', 'barbados', '中華民國', 'mexiko', 'saint kitts and nevis', 'haïti', 'el salvador', 'china', 'bahreïn', 'italie', 'serbia', 'フランス', 'colombia', 'réunion', 'lebanon', 'oman', 'corée du sud', 'trinidad and tobago', 'sénégal', 'francia  españa', 'γαλλία', 'greece', 'niemcy', 'cuba', 'portugal', 'kuwait', 'österreich', 'französisch-polynesien', 'israël', 'israel', 'puerto rico', 'the bahamas', 'en', 'polen', 'schweden', 'aruba', 'polinesia francesa', '美国', 'uk', 'angola', 'bolivie', 'frança', 'maroc', 'アメリカ合衆国', 'noruega', 'dominican republic', 'wielka brytania', 'guinée', 'jordan', 'burkina faso', 'vietnam', 'pakistan', 'العراق', 'россия', 'франция', 'българия', 'algérie', 'saint pierre and miquelon', 'كندا', 'saint-pierre-et-miquelon', 'ascension island', 'côte d'ivoire', 'jan mayen', 'uruguay', 'haiti', '加拿大', 'new-caledonia', 'england', 'svizzera', 'bélgica', 'russland', 'mauritius', 'indonésie', 'arménie', '瑞士', 'autriche', 'grecia', 'grèce', 'india', 'poland', 'curaçao', 'perancis', 'indonesia', 'selandia baru', 'swiss', 'finnland', 'südkorea', 'south africa', 'ecuador', 'chile', 'perú', 'honduras', 'nicaragua', 'turkey', 'arabie saoudite', 'spojené státy americké', 'meksyk', 'émirats arabes unis', 'croatia', 'cambodia', 'neukaledonien', 'republik china', 'spojené království', 'guernsey', 'mauricio', 'singapour', 'european union', 'jamaica', 'denmark', 'luxemburg', 'hawaii', 'corea del sur', 'tunisia', 'algeria', 'jordanie', 'ประเทศสวิตเซอร์แลนด์', 'hongkong', 'verenigde staten van amerika', 'ηνωμένο βασίλειο', 'république démocratique du congo', 'tunísia', 'togo', 'qatar', 'dinamarca', 'guyane', 'union européenne', 'bulgaria', 'zjednoczone królestwo', 'somalía', 'unión europea', 'líbano', 'belgië', 'peru', 'luxemburgo', 'zwitserland', 'jordanien', 'تونس', 'république tchèque', 'românia', 'saint-pierre und miquelon', 'égypte', 'monaco', 'cyprus', 'الجزائر', 'venezuela', 'koweït', 'finlande', '日本', 'afrique du sud', 'cayman islands', 'الإمارات العربية المتحدة', 'irlanda', 'paraguay', 'denemarken', 'italië', 'noorwegen', 'spanje', 'zweden', 'لبنان', 'فرنسا', 'cameroon', 'mongolia', 'irland', 'myanmar', 'marruecos', 'भारत', 'senegal', 'tchad', 'suriname', 'bulgarie', 'albania', 'chili', 'norwegen', 'cameroun', 'virgin islands of the united states', 'japón', 'الولايات المتحدة', 'bangladesh', 'australië', 'nieuw-zeeland', 'slowakije', 'dominica', 'mŕxico', 'suecia', 'бельгия', 'nigeria', 'mađarska', 'italija', 'poljska', 'japon', 'বাংলাদেশ', 'włochy', 'hiszpania', 'szwajcaria', 'frankrike', 'lotyšsko', 'litva', 'polsko', 'djibouti', 'tyskland', 'finlândia', 'espanha', 'suécia', 'lithuania', 'suíça', 'south korea', 'švedska', 'německo', 'islande', 'grécia', 'itália', 'polónia', 'hongrie', 'serbie', 'союз советских социалистических республик', 'brésil', 'ukraine', 'ísland', 'türkiye', 'madagascar', 'macau', 'franța', 'україна', 'latvia', 'estonia', 'германия', 'швейцария', 'duitsland', 'südafrika', 'bulharsko', 'czech-republic', 'nizozemsko', 'austrija', 'alemanha', 'áustria', 'németország', 'kroatien', 'csehország', 'lengyelország', 'svédország', 'rumania', 'ungarn', 'países baixos', 'австрия', 'финландия', 'швеция', 'bulgarien', 'tschechien', 'slowakei', 'slowenien', 'lituania', 'испания', 'república checa', 'marrocos', 'полша', 'румъния', 'сърбия', 'хърватия', 'ungheria', 'storbritannien', 'rumänien', 'finlandia', 'polonia', 'италия', 'украина', 'белгия', 'griechenland', 'alankomaat', 'olaszország', 'románia', 'danmark', 'amerikai egyesült államok', 'ruotsi', 'tanska', 'paesi bassi', 'france  switzerland  germany', 'nederländerna', 'унгария', 'nizozemska', 'španjolska', 'ujedinjeno kraljevstvo', 'espanya', 'regne unit', 'norwegia', 'hongarije', 'češka', 'slovačka', 'república da irlanda', 'švédsko', 'rakousko', 'litauen', 'serbien', 'czechy', 'litwa', 'holandia', 'słowacja', 'itálie', 'prancūzija', 'vokietija', 'šveicarija', 'lietuva', 'slovensko', 'croácia', 'sérvia', 'eslováquia', 'eslovénia', 'birleşik krallık', 'slovakia', 'republik zypern', 'bułgaria', 'eslovenia', 'bulgária', 'hungria', 'roménia', 'puola', 'slovenija', 'srbija', 'bugarska', 'svezia', 'nouvelle-zélande', 'görögország', 'belgicko', 'francúzsko', 'nemecko', 'rusko', 'croatie', 'croacia', 'hungría', 'švýcarsko', 'dania', 'grecja', 'szwecja', 'albanien', 'estonija', 'latvija', 'švajčiarsko', 'oostenrijk', 'united kingdom & ireland', 'eslovaquia', 'słowenia', 'francija', 'moldova', 'malta', 'съединени американски щати', 'обединено кралство великобритания и северна ирландия', 'slovénie', 'rumunsko', 'tsjechië', 'slovacchia', 'slovaquie', 'łotwa', 'lituânia', 'maďarsko', 'španělsko', 'gabon', 'španielsko', 'belgija', 'grčka', 'frankrig', 'rumunjska', 'portogallo', 'إيطاليا', 'чехия', 'republika srpska', 'cn', 'chine', 'austrália', 'iran', 'algerien', 'nederlân', 'pérou', 'švica', 'スペイン', 'kína', 'ausztria', 'bèlgica', 'belgie', 'austrálie', '대한민국', 'french guiana', 'reunion', 'af', 'argelia', 'argentine', 'colombie', 'russie', 'mali', 'martinica', 'reunión', 'guadalupe', 'cote-d-ivoire', 'казахстан', 'afghanistan', 'saint-martin', 'marocco', 'biélorussie', 'mq', 'kazakhstan', 'marokko', 'république du congo', 'maroko', 'mayotte', 'estonie', 'french-polynesia', 'thaïlande', 'австралия', 'мароко', 'нова зеландия', 'estónia', 'andorra', 'nova zelândia', 'rússia', 'tailandia', 'ประเทศออสเตรเลีย', 'ประเทศออสเตรีย', 'ประเทศเบลเยียม', 'ประเทศเยอรมนี', 'ประเทศอิตาลี', 'ประเทศเลบานอน', 'ประเทศโมร็อกโก', 'ประเทศโรมาเนีย', 'ประเทศสเปน', 'åland islands', 'bielorussia', 'frakland', '#value!', 'koeweit', 'dom tom', 'алжир', 'reunião', 'dom-tom', 'ประเทศรัสเซีย', 'สหรัฐอเมริกา', 'sg', 'svájc', 'латвия', 'грузия', 'nueva caledonia', 'ru', 'seychelles', 'costa de marfil', 'sjedinjene američke države', 'danska', 'rusija', 'burkina-faso', 'norge', 'li', 'реюнион', 'lussemburgo', 'vanuatu', 'roemenië', 'rumunia', 'viêt nam', 'albanie', 'argélia', 'pas', 'kh', 'الأردن', 'mf', 'french-guiana', 'mongolie', 'gp', 'französisch-guayana', 'nuova caledonia', 'france - la réunion', 'сенегал', 'cambodge', 'jersey', 'france 🇨🇵🇫🇷', 'gf', 'angleterre', 'andorre', 'irak', 'emirats arabes unis', 'democratic republic of the congo', 'bulgarije', 'griekenland', 'république dominicaine', 'spania', 'ucrania', 'liechtenstein', 'estland', 'hollande', 'turquie', 'mauritanie', 'iceland', 'сингапур', 'szerbia', 'srbsko', 'georgia', 'ungaria', 'avstrija', 'hrvaška', 'republika srbska', 'bosna in hercegovina', 'črna gora', 'bosna i hercegovina', 'sjeverna makedonija', 'albanija', 'saudijska arabija', 'republic of macedonia', 'bosnia and herzegovina', 'montenegro', 'nordmazedonien', 'szlovákia', 'француска', 'босна и херцеговина', 'crna gora', 'црна гора', 'nya kaledonien', 'singapur', 'русија', 'prantsusmaa', 'hispaania', 'eesti', 'saksamaa', 'dánsko', 'chińska republika ludowa', 'нидерландия', 'estija', 'suomija', 'rumunija', 'švedija', 'jungtinė karalystė', 'chipre', 'κύπρος', 'белоруссия', 'bělorusko', 'argentinien', 'saudi-arabien', 'イギリス', 'bahrain', 'deutsche demokratische republik', 'немачка', 'німеччина', 'польща', 'węgry', 'north macedonia', 'swaziland', 'elveția', 'macédoine du nord', 'east germany', 'chypre', 'بلجيكا', 'ألمانيا', 'island', 'alemanya', 'ليبيا', 'росія', 'unkari', 'lucembursko', 'chorvatsko', 'rusland', 'danimarca', 'kosovo', 'bolivien', 'deut', 'rusia', 'belarus', 'kyrgyzstan', 'tajikistan', 'uzbekistan', 'armenia', 'азербайджан', 'azerbaijan', 'australija', 'lettonie', 'lettland', 'fransa', 'aserbaidschan', 'lituanie', 'jungtinės amerikos valstijos', 'sri lanka', 'เขตบริหารพิเศษฮ่องกง', 'นิวแคลิโดเนีย', 'neuseeland', 'таджикистан', 'франція', 'латвія', 'ucrânia', 'ucraina', 'republica moldova', 'moldavie', 'géorgie', 'საქართველო', 'hong-kong', 'قطر', '中華民国', '澳门', 'mozambique', 'arabia saudita', 'ישראל', 'irlandia', 'zjednoczone emiraty arabskie', 'norja', 'المملكة المتحدة', 'المغرب', 'åland', 'european-union', 'cap-vert', 'república de china', 'sudán', 'scotland', 'nueva zelanda', 'libye', 'великобритания', 'رومانيا', 'burundi', 'galmudug', 'østrig', 'holland', 'libya', 'bahrein', 'islanda', 'belgica', 'irsko', 'βουλγαρία', 'гърция', 'islandia', 'olanda', 'worldwide', 'malawi', 'bénin', 'shqipëria', 'republic-of-macedonia', 'северна македония', 'албания', 'белгија', 'democratic-republic-of-the-congo', 'ghana', 'europese unie', 'volksrepubliek china', 'united-arab-emirates', 'arménia', 'norvegia', 'nový zéland', 'portugali', 'albânia', 'ierland', 'poľsko', 'nyderlandai', 'central african republic', 'algieria', 'bośnia i hercegowina', 'chorwacja', 'rosja', 'benin', 'sudáfrica', 'áfrica do sul', 'benín', 'belçika', 'i̇sviçre', 'кот д'ивоар', 'кувейт', 'люксембург', 'paquistão', 'gibraltar', 'iraque', 'monténégro', 'kenya', 'portugalia', 'azerbaïdjan', 'malte', 'kroatia', 'sveits', 'guinea', 'հայաստան', 'estonsko', 'kuwejt', 'bulgaaria', 'rumeenia', 'словенија', 'thajsko', 'สาธารณรัฐเช็ก', 'ประเทศสโลวาเกีย', 'мађарска', 'namibia', 'niger', 'namibie', 'sudafrica', 'botswana', 'tanzania', 'algerie', 'republic of the congo', 'république centrafricaine', 'guinée équatoriale', 'wybrzeże kości słoniowej', 'costa d'avorio', 'tunezja', 'tunesië', 'brunei', 'مصر', 'ایالات متحده آمریکا', 'soomaaliya', 'katar', 'سوريا', 'اليمن', 'yemen', 'venäjä', 'finsko', 'viro', 'salvador', '英国', 'luksemburg', 'turquía', 'bosnia y herzegovina', 'bósnia e herzegovina', 'turquia', 'irlanti', 'ruoŧŧa', 'sri-lanka', 'se', 'an fhraing', 'a' ghearmailt', 'poblachd na h-èireann', 'an rìoghachd aonaichte', 'dominican-republic', 'messico', 'indien', 'benelux', 'new-zealand', 'فرانس', 'جمہوریہ آئرستان', 'پاکستان', 'ریاستہائے متحدہ امریکہ', 'република македонија', 'la-reunion', 'portugalsko', 'kolumbien', 'mauritania', 'isle of man', 'haití', 'cile', 'équateur', 'brasilien', 'írán', 'צרפת', 'איטליה', 'principato di monaco', 'repubblica ceca', 'letónia', 'guadalupa', 'cipro', 'macedonia del norte', 'finska', 'algerije', 'spanyolország', 'dánmárku', 'βέλγιο', 'guiana francesa', 'polinésia francesa', 'jordânia', 'north korea', 'ประเทศจีน', 'islândia', 'zuid-afrika', 'letonia', 'república democrática del congo', 'santoña', 'cantabria', 'france  spain', 'costa do marfim', 'túnez', 'португалия', 'tunesien', 'угорщина', 'італія', 'іспанія', 'марокко', 'mónaco', 'jordania', 'cabo verde', 'franca', 'ισπανία', 'arábia saudita', 'andora', 'maldives', 'tunisko', 'martinik', 'bosnia-and-herzegovina', 'швајцарска', 'bosnie-herzégovine', 'кипар', 'türkei', 'تركيا', 'amerika birleşik devletleri', 'řecko', 'royaume uni', 'cz', 'singapura', 'frankriika', 'nemčija', 'nuova zelanda', 'kroatië', 'elfenbeinküste', 'philippinen', 'palestinian territories', 'índia', 'nova caledónia', 'moldavsko', 'slovinsko', '프랑스', '독일', 'filipini', 'južna koreja', 'zuid-korea', 'corea del sud', '캐나다', '네덜란드', 'tšekki', 'cambogia', 'saudi-arabia', 'laos', 'соединённые штаты америки', 'ประเทศกัมพูชา', 'kamerun', 'ประเทศอินโดนีเซีย', 'timor-leste', 'wereld', 'fiji', 'ประเทศแคนาดา', 'ประเทศสิงคโปร์', 'bangladés', 'nepal', 'pháp', 'việt nam', 'irán', 'kirgisistan', 'bosnien und herzegowina', 'albánie', 'bosna a hercegovina', 'saúdská arábie', 'evropska unija', '澳大利亚', 'wallis and futuna', 'البحرين', 'cook islands', 'fidji', 'malaisie', 'anguilla', 'montserrat', 'габон', 'almanya', 'スイス', 'فرانسه', 'ایران', 'baréin', 'fas', 'népal', 'ประเทศโกตดิวัวร์', 'saint lucia', 'regatul unit al marii britanii și al irlandei de nord', 'somalia', 'rwanda', 'ફ્રાન્સ', 'syria', 'канада', 'عربي متحده امارات', 'سلطنة عمان', 'british indian ocean territory', 'riunione', 'europäische union', 'jemen', 'fra', 'ประเทศอินเดีย', 'ประเทศเวียดนาม', 'sierra leone', 'nijer', 'brasile', 'cehia', 'slovacia', 'ue', 'demokratická republika kongo', 'нова каледония', 'jugoslavija', 'canadà', 'turcia', 'polynésie francaise', 'бельгія', 'францыя', 'antigua and barbuda', 'trinidad y tobago', 'republic of ireland', 'frantsa', 'γουαδελούπη', 'كوت ديفوار', 'cina', 'statele unite ale americii', 'hu', 'словения', 'nieuw-caledonië', 'algéria', 'marokkó', 'république de macédoine', 'macao', 'греция', 'lesotho', 'libanon', 'palästinensische autonomiegebiete', 'vereinigte arabische emirate', 'bg', 'mo', 'gn', 'th', 'cl', 'nz', 'in', 'id', 'gr', 'co', 'hk', 'rs', 'dk', 'ae', 'sc', 'middle east', 'kasachstan', 'tn', 'ci', 'kw', 'pt', 'ar', 'tw', 'ga', 'tg', 'bh', 'pk', 'pa', 'etats-unis', 'mu', 'faroe islands', 'ht', 'ドイツ', 'fi', 'litvánia', 'ua', 'il', 'si', 'sk', 'south-africa', 'east-germany', 'tr', 'pl', 'mk', 'île maurice', 'ne', 'cr', 'my', 'bj', 'ec', 'vn', 'ba', 'qa', 'by', 'gd', 'mx', 'eg', 'eu', 'cm', 'ng', 'ml', 'om', 'gt', 'grenada', 'thaimaa', 'lt', 'mr', 'papua new guinea', 'białoruś', 'ph', 'itàlia', 'u.s.a', 'sv', 'kz', 'lv', 'cg', 'arabia saudyjska', 'turcja', 'saint martin', 'bf', 'bd', 'gh', 'mz', 'al', 'uz', 'pm', 'gy', 'dj', 'uy', 'cd', 'sowjetunion', 'frantzia', 'espainia', 'mg', 'ke', 'uae', 'td', 'méxico  españa', 'az', 'norveška', 'republik kongo', 'np', 'ad', 'yugoslavia', 'porto rico', 'czechia', 'kr', 'md', 'ประเทศนิวซีแลนด์', 'абхазия', 'zimbabwe', 'mc', 'република ирландия', 'lr', 'yt', 'cy', 'nowa kaledonia', 'je', 'gg', 'hashemite kingdom of jordan', 'lëtzebuerg (land)', 'santona', 'هولندا', 'congo', 'ivory coast', 'norsko', 'lc', 'macedonia', 'emirados árabes unidos', 'tajlandia', 'me', 'america', 'wf', 'do', 'united-states-of-america', 'indonesië', 'maleisië', 'filipijnen', 'republika chińska', 'ge', 'croazia', 'uniunea europeană', 'evropská unie', 'cape verde', 'szlovénia', '++', 'kolumbia', 'タイ王国', 'grekland', 'polinesia perancis', 'libano', 'usbekistan', 'tadschikistan', 'weißrussland', 'republic-of-the-congo', 'ky', 'republic of lithuania', 'توغو', 'is', 'bhutan', 'paraguai', 'uruguai', 'it:..', 'am', '荷蘭', 'japāna', 'japonija', 'ir', 'izrael', 'py', 'cu', 'yu', 'ประเทศตุรกี', 'netherlands  france', 'ägypten', 'lk', 'турция', 'palestine', 'wyspy owcze', 'остров рождества', 'hr', 'état unis', 'jo', '?', 'iq', 'ni', 'パキスタン', '中国', 'american samoa', 'mm', 'cv', 'словакия', 'km', 'syrie', 'kambodscha', 'la', 'bn', 'south america', 'turkije', 'surinam', 'ukrajina', 'vu', 'filipinas', 'm', 'cypr', 'république démocratique allemande', 'tunis', 'естония', 'storbritannia', 'tz', 'cw', 'bosnia', 'thailandia', 'fo', 'lenkija', 'ee', 'costa-rica', 'republic of moldova', 'na', 'объединённые арабские эмираты', 'unione europea', 'beļģija', 'caribisch nederland', 'south-korea', 'el-salvador', 'spánia', 'الكاميرون', 'santa lucía', 'romanya', 'i̇spanya', 'reino-unido', 'curazao', 'узбекистан', 'guayana francesa', 'mv', 'bosznia-hercegovina', 'észtország', 'jm', 'et', 'ao', 'sint maarten', 'bulgarija', 'chad', 'cezayir', 'suopma', 'iraqi kurdistan', '---', 'egipto', 'caribbean netherlands', 'fr  €', 'zambia', 'bs', 'cf', 'uganda', 'sr', 'gq', 'guinea ecuatorial', 'bb', '西班牙', 'san martín', 'san vicente y las granadinas', 'sx', 'argentyna', 'ukraina', 'san marino', 'arabia saudită', 'polinesia francese', 'ประเทศเม็กซิโก', 'pobřeží slonoviny', 'spojené arabské emiráty', 'gabun', 'österrike', 'argentina - español', 'armenia - pyсский', 'aruba - español', 'asia pacific', 'australia - english', 'austria - deutsch', 'azerbaijan - русский', 'belarus - pyсский', 'belgium - français', 'belgium - nederlands', 'bolivia - español', 'bosnia i hercegovina - bosnian', 'botswana - english', 'brazil - português', 'bulgaria - български', 'cambodia - english', 'cambodia - ភាសាខ្មែរ', 'canada - english', 'canada - français', 'chile - español', 'china - 中文', 'colombia - español', 'costa rica - español', 'croatia - hrvatski', 'cyprus - ελληνικά', 'czech republic - čeština', 'denmark - dansk', 'ecuador - español', 'el salvador - español', 'estonia - eesti', 'europe', 'finland - suomi', 'france - français', 'georgia - ქართული', 'germany - deutsch', 'ghana - english', 'greece - ελληνικά', 'guatemala - español', 'honduras - español', 'hong kong - 粵語', 'hungary - magyar', 'iceland - íslenska', 'india - english', 'indonesia - bahasa indonesia', 'ireland - english', 'israel - עברית', 'italy - italiano', 'jamaica - english', 'japan - 日本語', 'kazakhstan - pyсский', 'korea - 한국어', 'kyrgyzstan - русский', 'latvia - latviešu', 'lebanon - english', 'lesotho - english', 'lithuania - lietuvių', 'macau - 中文', 'malaysia - bahasa melayu', 'malaysia - english', 'malaysia - 中文', 'mexico - español', 'middle east & africa', 'moldova - român', 'mongolia - монгол хэл', 'namibia - english', 'netherlands - nederlands', 'new zealand - english', 'nicaragua - español', 'north macedonia - македонски јазик', 'norway - norsk', 'panamá - español', 'paraguay - español', 'perú - español', 'philippines - english', 'poland - polski', 'portugal - português', 'puerto rico - español', 'república dominicana - español', 'romania - română', 'russia - русский', 'serbia - srpski', 'singapore - english', 'slovak republic - slovenčina', 'slovenia - slovene', 'south africa -english', 'spain - español', 'swaziland - english', 'sweden - svenska', 'switzerland - deutsch', 'switzerland - français', 'taiwan - 中文', 'thailand - ไทย', 'trinidad & tobago - english', 'turkey - türkçe', 'ukraine - yкраї́нська', 'united kingdom - english', 'united states - english', 'united states - español', 'uruguay - español', 'venezuela - español', 'vietnam - tiếng việt', 'zambia - english', 'mongolei', 'xk', 'zentralafrikanische republik', 'latinoamerica', 'bermuda', 'zm', 'pakistán', '5018 rue harwood', 'allemagne nazi', 'шпанија', 'london', 'slovenië', 'bhoutan', 'madagascar - toamasina', 'madžarska', 'maurícia', 'tailândia', 'lybia', 'ベルギー', 'camerún', 'gambia', 'united states minor outlying islands', 'írország', 'литва', 'itävalta', 'malasia', 'birmanie', 'camerun', 'liberia', 'السنغال', 'bahamas', 'américa', 'belleville wa', 'kazachstan', 'ps', 'tt', 'ethiopia', 'الاتحاد الأوروبي', 'ryssland', 'îles cook', 'fj', 'カナダ', 'уједињено краљевство', 'サウジアラビア', 'černá hora', 'coreia do sul', 'chorvátsko', 'malezja', 'либия', 'liettua', 'oroszország', 'lux', 'libia', 'brazylia', 'korean tasavalta', 'northern mariana islands', 'puerto-rico', 'ahvenanmaan maakunta', 'moldávia', 'state of palestine', 'unknown', 'イタリア', 'azərbaycan', 'virgin-islands-of-the-united-states', 'čekija', 'suedia', 'guam', 'bq', 'france.', 'bm', 'sudan', 'yémen', 'north-macedonia', 'belize', 'モロッコ', 'egito', 'السودان', 'u.s.a.', 'pw', 'sambia', 'ameriketako estatu batuak', 'soudan', 'airija', '.', 'bw', 'equatorial guinea', 'кипър', 'camboya', 'ss', 'gu', 'ai', 'meksiko', 'saint vincent and the grenadines', 'китайская народная республика', 'オーストラリア', 'γερμανία', 'stato di palestina', 'prepared for siwin foods edmonton alberta t6b 3v2', 'sierra-leone', 'maldive', 'pg', 'united states of america', 'monako', 'finlanda', 'česká republika', 'mn', 'ευρωπαϊκή ένωση', 'greenland', 'er', 'обединени арабски емирства', 'ルクセンブルク', 'アイルランド', 'ニュージーランド', 'severní makedonie', 'ليتوانيا', 'cipar', 'sm', 'tunézia', 'repubblica dominicana', 'colômbia', 'aw', 'sao tomé and príncipe', 'যুক্তরাজ্য', 'comoros', 'germa', 'moldawien', 'малта', 'hellas', 'ug', 'ニューカレドニア', 'aland-islands', 'vi', 'rw', 'sardinia', 'японія', 'mannin', 'reeriaght unnaneysit', 'republica mexicana', 'republika południowej afryki', 'georgien', '南アフリカ共和国', 'espagnol', 'ye', 'vatican city', 'indonesien', 'kn', 'bo', 'en: españa', 'северна македонија', 'албанија', 'sy', 'im', 'beyaz rusya', 'nowa zelandia', 'المجر', 'norga', 'tjeckien', 'eeuu', 'birmania', 'македонија', 'sd', 'ливан', 'tasty foods αβγε', 'камерун', 'монгол улс', 'mp', 'so', 'русия', ':', 'イラク', 'macedonia de nord', 'líbia', 'japani', 'ag', '中華人民共和国', 'turkiye', 'ประเทศญี่ปุ่น', 'indian subcontinent', 'エルサルバドル', 'emirati arabi uniti', 'saint-marin', 'british virgin islands', 'tjekkiet', '意大利', 'tonga', 'obala bjelokosti', 'wietnam', 'jamaïque', 'turks and caicos islands', 'moçambique', 'cc', 'filipiny', 'kurdistan irakien', 'va', 'servië', '沙特阿拉伯', 'zw', 'mondo', 'macedonia del nord', 'sl', 'moldavië', 'нидерланды', 'kp', 'iirimaa', 'egitto', 'islanti', 'na stàitean aonaichte', 'bz', 'belice', 'bi', 'bellingham wa usa', 'as', 'الاردن', 'dm', 'ken', 'アラブ首長国連邦', 'nyl', 'samoa', 'wit-rusland', 'txekia', 'luxenburgo', 'индия', 'brazil  france', 'dél-korea', 'bermudas', 'īrija', 'coquitlam bc', 'salwador', 'amerika syarikat', 'جميع البلدان', 'киргизия', 'kuba', 'bih', 'аржентина', 'молдова', 'indie', 'omán', 'sudán del sur', 'украйна', 'дания', 'جنوب أفريقيا', 'japonsko', 'армения', 'gm', 'fiyi', 'st', 'slov', 'šveice', 'デンマーク', 'albanië', 'tc', 'الهند', 'maldivas', 'შვეიცარია', 'ශ් රී ලංකාව', 'roemenie', 'russian federation', 'jordánsko', 'ভুটান', 'ভারত', 'নেপাল', 'মার্কিন যুক্তরাষ্ট্র', 'mw', 'y deyrnas unedig', 'ck', 'монголия', 'territorios palestinos', 'giappone', 'ประเทศซาอุดีอาระเบีย', 'éthiopie', 'эстония', 'польша', 'kıbrıs cumhuriyeti', 'vc', 'ireland & uk', 'yhdistyneet arabiemiirikunnat', 'chint', 'малайзия', 'egipt', 'malásia', 'u.s. minor outlying islands', 'leedu', 'gruusia', 'république serbe de bosnie', 'япония', 'romani', 'afganistán', 'the-bahamas', 'filippinene', 'ôsterreich', 'spojené kráľovstvo', 'west africa', 'νότια αφρική', 'tanzanie', 'ประเทศมาเลเซีย', 'jordanië', 'vatican', 'sb', 'sz', 'armenië', 'territori palestinesi', 'ประเทศฟิลิปปินส์', 'bg::bulgaria', 'läti', 'letland', 'велика британія', 'тунис', 'bosnië en herzegovina', 'central america', 'france 🇫🇷', 'urugwaj', 'cocoa horizons', 'arab saudi', 'british-indian-ocean-territory', 'ruanda', 'färöer', 'ijsland', 'færøerne', 'belanda', 'korea selatan', 'nouvelle caledonie', 'northern ireland', 'wales', 'antigua-and-barbuda', 'ouganda', 'kroatija', 'etiopía', 'saint-kitts-and-nevis', 'nouvelle-aquitaine', 'virazeil', 'quebec', 'the netherlands', 'japonia', 'word', 'aus', 'беларусь', 'made in the u k (ni)', 'wa usa', 'baden', 'ouzbékistan', 'dr congo', 'ariège', 'imported by mccormick canada', 'on canada n6a 4z2', 'vancouver canada', 'vancouver bc canada', 'product of usa. packed in canada.  imported by: strong international trading inc. richmond bc | www.siti.ca', 'rakúsko', 'norwa', '马来西亚', 'natural calm canada 5 idleswift dr.  thornhill on  l4j 1k6', 'マダガスカル', 'santo domingo', 'hoa kỳ', 'svalbard et jan mayen', 'europa', 'corsica', 'الدمام', 'dubai', 'asia', 'brasill', 'sicile', 'surrey bc canada'\n"
     ]
    }
   ],
   "source": [
    "# retourne une liste des pays présents dans le fichier (sans doublons dans l'affichage)\n",
    "def extract_countries_from_jsonl(file_path):\n",
    "    countries = []\n",
    "    with open(file_path, 'r', encoding='utf-8') as file:\n",
    "        for line in file:\n",
    "            try:\n",
    "                record = json.loads(line)\n",
    "                country = record.get('countries')\n",
    "                \n",
    "                if country is not None:\n",
    "                    countries.append(country)\n",
    "            except json.JSONDecodeError:\n",
    "                print(f\"WARNING line: {line} in {file_path}\")\n",
    "    \n",
    "    return countries\n",
    "\n",
    "countries_list = extract_countries_from_jsonl(jsonl_02)\n",
    "\n",
    "separated_countries = []\n",
    "for entry in countries_list:\n",
    "    countries = [country.strip() for country in entry.split(',')]\n",
    "    separated_countries.extend(countries)\n",
    "unique_countries = list(OrderedDict.fromkeys(separated_countries))\n",
    "formatted_countries = [f\"'{country}'\" for country in unique_countries]\n",
    "\n",
    "print(\", \".join(formatted_countries))"
   ]
  },
  {
   "cell_type": "code",
   "execution_count": null,
   "metadata": {},
   "outputs": [],
   "source": []
  }
 ],
 "metadata": {
  "kernelspec": {
   "display_name": "greenIa",
   "language": "python",
   "name": "python3"
  },
  "language_info": {
   "codemirror_mode": {
    "name": "ipython",
    "version": 3
   },
   "file_extension": ".py",
   "mimetype": "text/x-python",
   "name": "python",
   "nbconvert_exporter": "python",
   "pygments_lexer": "ipython3",
   "version": "3.10.14"
  }
 },
 "nbformat": 4,
 "nbformat_minor": 2
}
