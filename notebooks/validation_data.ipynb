{
 "cells": [
  {
   "cell_type": "code",
   "execution_count": 23,
   "metadata": {},
   "outputs": [],
   "source": [
    "import pandas as pd\n",
    "import numpy as np\n",
    "import json\n",
    "import os\n",
    "import warnings\n",
    "from datetime import datetime \n",
    "from collections import OrderedDict\n",
    "from collections import Counter\n",
    "import plotly.express as px\n",
    "from collections import defaultdict\n",
    "import plotly.graph_objects as go\n",
    "\n",
    "\n",
    "pd.set_option('display.max_rows', 100)\n",
    "pd.set_option('display.max_colwidth', None)\n",
    "\n",
    "warnings.filterwarnings(\"ignore\", category=pd.errors.DtypeWarning)"
   ]
  },
  {
   "cell_type": "code",
   "execution_count": 43,
   "metadata": {},
   "outputs": [],
   "source": [
    "chunk_size = 1000\n",
    "file_id = '01'\n",
    "project_path = \"/home/carolus/Documents/school/green_ia/\" \n",
    "jsonl_02 = project_path + 'data/' + file_id + '_openfoodfacts_02.jsonl' \n",
    "jsonl_sample = project_path + 'data/' + file_id + \"_openfoodfacts_sample.jsonl\"\n",
    "# récupérer la date du jour \n",
    "current_date_time = datetime.now()\n",
    "date_format = \"%d/%m/%Y %H:%M:%S.%f\"\n",
    "start_date = current_date_time.strftime(\"%d/%m/%Y %H:%M:%S.%f\")[:-3]\n",
    "date_code = current_date_time.strftime('%d%m%Y%H%M%S') + f\"{current_date_time.microsecond // 1000:03d}\""
   ]
  },
  {
   "cell_type": "code",
   "execution_count": 25,
   "metadata": {},
   "outputs": [],
   "source": [
    "def add_logs(logData):\n",
    "    print(logData)\n",
    "    #with open(f\"{project_path}logs/03_analysis_{date_code}_logs.txt\", \"a\") as logFile:\n",
    "     #   logFile.write(f'{logData}\\n')"
   ]
  },
  {
   "cell_type": "code",
   "execution_count": 26,
   "metadata": {},
   "outputs": [
    {
     "name": "stdout",
     "output_type": "stream",
     "text": [
      "jsonl format valid: /home/carolus/Documents/school/green_ia/data/01_openfoodfacts_02.jsonl\n"
     ]
    }
   ],
   "source": [
    "# verifie la validité de la structure du fichier jsonl\n",
    "with open(jsonl_02, 'r') as file:\n",
    "    for line in file:\n",
    "        try:\n",
    "            json_object = json.loads(line)\n",
    "        except json.JSONDecodeError as e:\n",
    "            add_logs(f\"ERROR decoding jsonl: {e}\")\n",
    "\n",
    "add_logs(f\"jsonl format valid: {jsonl_02}\")"
   ]
  },
  {
   "cell_type": "markdown",
   "metadata": {},
   "source": [
    "# COUNTRIES:"
   ]
  },
  {
   "cell_type": "code",
   "execution_count": 27,
   "metadata": {},
   "outputs": [
    {
     "name": "stdout",
     "output_type": "stream",
     "text": [
      "italy: 7.06%\n",
      "germany: 7.84%\n",
      "france: 30.16%\n",
      "united states: 18.80%\n",
      "irlande: 0.01%\n",
      "united kingdom: 3.29%\n",
      "canada: 2.56%\n",
      "switzerland: 2.66%\n",
      "spain: 8.99%\n",
      "slovenia: 0.03%\n",
      "netherlands: 0.59%\n",
      "romania: 0.22%\n",
      "australia: 1.31%\n",
      "world: 2.02%\n",
      "guadeloupe: 0.02%\n",
      "dominican republic: 0.01%\n",
      "bolivia: 0.10%\n",
      "mexico: 0.23%\n",
      "new zealand: 0.28%\n",
      "sweden: 0.23%\n",
      "antarctic: 0.00%\n",
      "belgium: 2.39%\n",
      "denmark: 0.10%\n",
      "norway: 0.23%\n",
      "poland: 0.39%\n",
      "none: 0.46%\n",
      "india: 0.20%\n",
      "austria: 0.36%\n",
      "francia: 0.00%\n",
      "hungary: 0.10%\n",
      "czech republic: 0.22%\n",
      "thailand: 0.14%\n",
      "egypt: 0.03%\n",
      "palestinian territories: 0.01%\n",
      "ireland: 1.74%\n",
      "japan: 0.31%\n",
      "réunion: 0.04%\n",
      "croatia: 0.09%\n",
      "taiwan: 0.01%\n",
      "luxembourg: 0.28%\n",
      "argentina: 0.19%\n",
      "morocco: 0.22%\n",
      "brazil: 0.49%\n",
      "guatemala: 0.01%\n",
      "saudi arabia: 0.14%\n",
      "united arab emirates: 0.04%\n",
      "iraq: 0.02%\n",
      "kuwait: 0.01%\n",
      "costa rica: 0.02%\n",
      "moldova: 0.00%\n",
      "martinique: 0.02%\n",
      "new caledonia: 0.07%\n",
      "singapore: 0.12%\n",
      "french polynesia: 0.05%\n",
      "panama: 0.02%\n",
      "russia: 0.39%\n",
      "finland: 0.20%\n",
      "made in canada from domestic and imported ingredients.: 0.00%\n",
      "hong kong: 0.03%\n",
      "mauritius: 0.01%\n",
      "china: 0.02%\n",
      "lebanon: 0.04%\n",
      "philippines: 0.09%\n",
      "malaysia: 0.05%\n",
      "guyana: 0.00%\n",
      ": 0.09%\n",
      "barbados: 0.00%\n",
      "saint kitts and nevis: 0.00%\n",
      "haiti: 0.00%\n",
      "el salvador: 0.01%\n",
      "bahrain: 0.00%\n",
      "serbia: 0.04%\n",
      "colombia: 0.06%\n",
      "oman: 0.00%\n",
      "south korea: 0.01%\n",
      "trinidad and tobago: 0.01%\n",
      "senegal: 0.03%\n",
      "francia  españa: 0.00%\n",
      "greece: 0.06%\n",
      "cuba: 0.00%\n",
      "portugal: 0.27%\n",
      "israel: 0.03%\n",
      "puerto rico: 0.07%\n",
      "the bahamas: 0.00%\n",
      "england: 0.00%\n",
      "aruba: 0.00%\n",
      "angola: 0.00%\n",
      "guinea: 0.00%\n",
      "jordan: 0.00%\n",
      "burkina faso: 0.01%\n",
      "vietnam: 0.01%\n",
      "pakistan: 0.02%\n",
      "bulgaria: 0.19%\n",
      "algeria: 0.12%\n",
      "saint pierre and miquelon: 0.00%\n",
      "ascension island: 0.00%\n",
      "ivory coast: 0.01%\n",
      "jan mayen: 0.00%\n",
      "uruguay: 0.02%\n",
      "indonesia: 0.09%\n",
      "armenia: 0.00%\n",
      "curaçao: 0.00%\n",
      "south africa: 0.13%\n",
      "ecuador: 0.01%\n",
      "chile: 0.05%\n",
      "peru: 0.04%\n",
      "honduras: 0.01%\n",
      "nicaragua: 0.00%\n",
      "turkey: 0.03%\n",
      "cambodia: 0.01%\n",
      "neukaledonien: 0.00%\n",
      "republik china: 0.00%\n",
      "spojené království: 0.00%\n",
      "guernsey: 0.00%\n",
      "european union: 0.00%\n",
      "jamaica: 0.00%\n",
      "hawaii: 0.00%\n",
      "tunisia: 0.05%\n",
      "jordanie: 0.00%\n",
      "hongkong: 0.00%\n",
      "verenigde staten van amerika: 0.00%\n",
      "ηνωμένο βασίλειο: 0.00%\n",
      "république démocratique du congo: 0.00%\n",
      "tunísia: 0.00%\n",
      "togo: 0.00%\n",
      "qatar: 0.04%\n",
      "dinamarca: 0.00%\n",
      "guyane: 0.00%\n",
      "union européenne: 0.00%\n",
      "zjednoczone królestwo: 0.00%\n",
      "somalía: 0.00%\n",
      "unión europea: 0.00%\n",
      "belgië: 0.05%\n",
      "luxemburgo: 0.00%\n",
      "zwitserland: 0.00%\n",
      "jordanien: 0.00%\n",
      "تونس: 0.00%\n",
      "république tchèque: 0.00%\n",
      "românia: 0.03%\n",
      "saint-pierre und miquelon: 0.00%\n",
      "égypte: 0.00%\n",
      "monaco: 0.00%\n",
      "cyprus: 0.02%\n",
      "الجزائر: 0.00%\n",
      "venezuela: 0.03%\n",
      "koweït: 0.00%\n",
      "finlande: 0.00%\n",
      "日本: 0.01%\n",
      "afrique du sud: 0.00%\n",
      "cayman islands: 0.00%\n",
      "الإمارات العربية المتحدة: 0.00%\n",
      "irlanda: 0.00%\n",
      "paraguay: 0.02%\n",
      "denemarken: 0.00%\n",
      "italië: 0.00%\n",
      "noorwegen: 0.00%\n",
      "spanje: 0.00%\n",
      "zweden: 0.00%\n",
      "لبنان: 0.00%\n",
      "فرنسا: 0.00%\n",
      "cameroon: 0.00%\n",
      "mongolia: 0.00%\n",
      "irland: 0.03%\n",
      "myanmar: 0.00%\n",
      "भारत: 0.00%\n",
      "tchad: 0.00%\n",
      "suriname: 0.00%\n",
      "albania: 0.01%\n",
      "chili: 0.00%\n",
      "norwegen: 0.00%\n",
      "cameroun: 0.00%\n",
      "virgin islands of the united states: 0.00%\n",
      "japón: 0.00%\n",
      "الولايات المتحدة: 0.00%\n",
      "bangladesh: 0.01%\n",
      "australië: 0.00%\n",
      "nieuw-zeeland: 0.00%\n",
      "slowakije: 0.00%\n",
      "dominica: 0.00%\n",
      "mŕxico: 0.00%\n",
      "suecia: 0.00%\n",
      "бельгия: 0.00%\n",
      "nigeria: 0.01%\n",
      "mađarska: 0.00%\n",
      "italija: 0.00%\n",
      "poljska: 0.00%\n",
      "japon: 0.01%\n",
      "বাংলাদেশ: 0.00%\n",
      "włochy: 0.00%\n",
      "hiszpania: 0.00%\n",
      "szwajcaria: 0.00%\n",
      "frankrike: 0.00%\n",
      "lotyšsko: 0.00%\n",
      "litva: 0.00%\n",
      "polsko: 0.00%\n",
      "djibouti: 0.00%\n",
      "tyskland: 0.00%\n",
      "finlândia: 0.00%\n",
      "suécia: 0.00%\n",
      "lithuania: 0.06%\n",
      "suíça: 0.00%\n",
      "švedska: 0.00%\n",
      "německo: 0.01%\n",
      "islande: 0.00%\n",
      "grécia: 0.00%\n",
      "polónia: 0.00%\n",
      "hongrie: 0.00%\n",
      "serbie: 0.00%\n",
      "союз советских социалистических республик: 0.00%\n",
      "brésil: 0.00%\n",
      "ukraine: 0.03%\n",
      "ísland: 0.00%\n",
      "türkiye: 0.01%\n",
      "madagascar: 0.01%\n",
      "macau: 0.00%\n",
      "franța: 0.00%\n",
      "україна: 0.00%\n",
      "latvia: 0.02%\n",
      "estonia: 0.03%\n",
      "германия: 0.00%\n",
      "швейцария: 0.00%\n",
      "duitsland: 0.01%\n",
      "südafrika: 0.00%\n",
      "bulharsko: 0.00%\n",
      "czech-republic: 0.00%\n",
      "nizozemsko: 0.00%\n",
      "austrija: 0.00%\n",
      "áustria: 0.00%\n",
      "németország: 0.00%\n",
      "kroatien: 0.00%\n",
      "csehország: 0.00%\n",
      "lengyelország: 0.00%\n",
      "svédország: 0.00%\n",
      "rumania: 0.00%\n",
      "ungarn: 0.00%\n",
      "países baixos: 0.00%\n",
      "австрия: 0.00%\n",
      "финландия: 0.00%\n",
      "швеция: 0.00%\n",
      "bulgarien: 0.00%\n",
      "tschechien: 0.01%\n",
      "slowakei: 0.00%\n",
      "slowenien: 0.00%\n",
      "lituania: 0.00%\n",
      "испания: 0.00%\n",
      "полша: 0.00%\n",
      "румъния: 0.00%\n",
      "сърбия: 0.00%\n",
      "хърватия: 0.00%\n",
      "ungheria: 0.00%\n",
      "storbritannien: 0.00%\n",
      "rumänien: 0.00%\n",
      "finlandia: 0.00%\n",
      "polonia: 0.00%\n",
      "италия: 0.00%\n",
      "украина: 0.00%\n",
      "белгия: 0.00%\n",
      "griechenland: 0.00%\n",
      "alankomaat: 0.00%\n",
      "olaszország: 0.00%\n",
      "románia: 0.00%\n",
      "danmark: 0.01%\n",
      "amerikai egyesült államok: 0.00%\n",
      "ruotsi: 0.00%\n",
      "tanska: 0.00%\n",
      "paesi bassi: 0.00%\n",
      "france  switzerland  germany: 0.00%\n",
      "nederländerna: 0.00%\n",
      "унгария: 0.00%\n",
      "nizozemska: 0.00%\n",
      "španjolska: 0.00%\n",
      "ujedinjeno kraljevstvo: 0.00%\n",
      "espanya: 0.00%\n",
      "regne unit: 0.00%\n",
      "norwegia: 0.00%\n",
      "hongarije: 0.00%\n",
      "češka: 0.00%\n",
      "slovačka: 0.00%\n",
      "švédsko: 0.00%\n",
      "rakousko: 0.00%\n",
      "litauen: 0.00%\n",
      "serbien: 0.00%\n",
      "czechy: 0.00%\n",
      "litwa: 0.00%\n",
      "holandia: 0.00%\n",
      "słowacja: 0.00%\n",
      "itálie: 0.00%\n",
      "prancūzija: 0.00%\n",
      "vokietija: 0.00%\n",
      "šveicarija: 0.00%\n",
      "lietuva: 0.02%\n",
      "slovensko: 0.02%\n",
      "croácia: 0.00%\n",
      "sérvia: 0.00%\n",
      "eslováquia: 0.00%\n",
      "eslovénia: 0.00%\n",
      "birleşik krallık: 0.00%\n",
      "slovakia: 0.04%\n",
      "republik zypern: 0.00%\n",
      "bułgaria: 0.00%\n",
      "eslovenia: 0.00%\n",
      "bulgária: 0.00%\n",
      "hungria: 0.00%\n",
      "roménia: 0.00%\n",
      "puola: 0.00%\n",
      "slovenija: 0.01%\n",
      "srbija: 0.00%\n",
      "bugarska: 0.00%\n",
      "svezia: 0.00%\n",
      "nouvelle-zélande: 0.00%\n",
      "görögország: 0.00%\n",
      "belgicko: 0.00%\n",
      "francúzsko: 0.00%\n",
      "nemecko: 0.00%\n",
      "rusko: 0.00%\n",
      "croatie: 0.00%\n",
      "croacia: 0.00%\n",
      "hungría: 0.00%\n",
      "švýcarsko: 0.00%\n",
      "dania: 0.00%\n",
      "grecja: 0.00%\n",
      "szwecja: 0.00%\n",
      "albanien: 0.00%\n",
      "estonija: 0.00%\n",
      "latvija: 0.00%\n",
      "švajčiarsko: 0.00%\n",
      "oostenrijk: 0.00%\n",
      "united kingdom & ireland: 0.00%\n",
      "eslovaquia: 0.00%\n",
      "słowenia: 0.00%\n",
      "francija: 0.00%\n",
      "malta: 0.03%\n",
      "съединени американски щати: 0.00%\n",
      "обединено кралство великобритания и северна ирландия: 0.00%\n",
      "slovénie: 0.00%\n",
      "rumunsko: 0.00%\n",
      "tsjechië: 0.00%\n",
      "slovacchia: 0.00%\n",
      "slovaquie: 0.00%\n",
      "łotwa: 0.00%\n",
      "lituânia: 0.00%\n",
      "maďarsko: 0.00%\n",
      "španělsko: 0.00%\n",
      "gabon: 0.00%\n",
      "španielsko: 0.00%\n",
      "belgija: 0.00%\n",
      "grčka: 0.00%\n",
      "frankrig: 0.00%\n",
      "rumunjska: 0.00%\n",
      "portogallo: 0.00%\n",
      "إيطاليا: 0.00%\n",
      "чехия: 0.00%\n",
      "republika srpska: 0.00%\n",
      "cn: 0.01%\n",
      "chine: 0.00%\n",
      "austrália: 0.00%\n",
      "iran: 0.00%\n",
      "algerien: 0.00%\n",
      "nederlân: 0.00%\n",
      "pérou: 0.00%\n",
      "švica: 0.00%\n",
      "スペイン: 0.00%\n",
      "kína: 0.00%\n",
      "ausztria: 0.00%\n",
      "bèlgica: 0.00%\n",
      "belgie: 0.00%\n",
      "austrálie: 0.00%\n",
      "대한민국: 0.00%\n",
      "french guiana: 0.00%\n",
      "reunion: 0.08%\n",
      "af: 0.00%\n",
      "argelia: 0.00%\n",
      "argentine: 0.00%\n",
      "colombie: 0.00%\n",
      "russie: 0.00%\n",
      "mali: 0.00%\n",
      "martinica: 0.00%\n",
      "reunión: 0.00%\n",
      "guadalupe: 0.00%\n",
      "cote-d-ivoire: 0.00%\n",
      "казахстан: 0.00%\n",
      "afghanistan: 0.00%\n",
      "saint-martin: 0.00%\n",
      "marocco: 0.00%\n",
      "biélorussie: 0.00%\n",
      "mq: 0.01%\n",
      "kazakhstan: 0.00%\n",
      "marokko: 0.00%\n",
      "république du congo: 0.00%\n",
      "maroko: 0.00%\n",
      "mayotte: 0.00%\n",
      "estonie: 0.00%\n",
      "french-polynesia: 0.00%\n",
      "thaïlande: 0.00%\n",
      "австралия: 0.00%\n",
      "мароко: 0.00%\n",
      "нова зеландия: 0.00%\n",
      "estónia: 0.00%\n",
      "andorra: 0.01%\n",
      "nova zelândia: 0.00%\n",
      "rússia: 0.00%\n",
      "tailandia: 0.00%\n",
      "ประเทศออสเตรเลีย: 0.00%\n",
      "ประเทศออสเตรีย: 0.00%\n",
      "ประเทศเบลเยียม: 0.00%\n",
      "ประเทศเยอรมนี: 0.00%\n",
      "ประเทศอิตาลี: 0.00%\n",
      "ประเทศเลบานอน: 0.00%\n",
      "ประเทศโมร็อกโก: 0.00%\n",
      "ประเทศโรมาเนีย: 0.00%\n",
      "ประเทศสเปน: 0.00%\n",
      "åland islands: 0.00%\n",
      "bielorussia: 0.00%\n",
      "frakland: 0.00%\n",
      "#value!: 0.00%\n",
      "koeweit: 0.00%\n",
      "dom tom: 0.00%\n",
      "алжир: 0.00%\n",
      "reunião: 0.00%\n",
      "dom-tom: 0.00%\n",
      "ประเทศรัสเซีย: 0.00%\n",
      "สหรัฐอเมริกา: 0.00%\n",
      "sg: 0.02%\n",
      "svájc: 0.00%\n",
      "латвия: 0.00%\n",
      "грузия: 0.00%\n",
      "nueva caledonia: 0.00%\n",
      "ru: 0.00%\n",
      "seychelles: 0.00%\n",
      "costa de marfil: 0.00%\n",
      "sjedinjene američke države: 0.00%\n",
      "danska: 0.00%\n",
      "rusija: 0.00%\n",
      "burkina-faso: 0.00%\n",
      "norge: 0.01%\n",
      "li: 0.00%\n",
      "реюнион: 0.00%\n",
      "lussemburgo: 0.00%\n",
      "vanuatu: 0.00%\n",
      "roemenië: 0.00%\n",
      "rumunia: 0.00%\n",
      "viêt nam: 0.00%\n",
      "albanie: 0.00%\n",
      "argélia: 0.00%\n",
      "pas: 0.00%\n",
      "kh: 0.00%\n",
      "الأردن: 0.00%\n",
      "mf: 0.00%\n",
      "french-guiana: 0.00%\n",
      "mongolie: 0.00%\n",
      "gp: 0.02%\n",
      "französisch-guayana: 0.00%\n",
      "nuova caledonia: 0.00%\n",
      "france - la réunion: 0.01%\n",
      "сенегал: 0.00%\n",
      "cambodge: 0.00%\n",
      "jersey: 0.00%\n",
      "france 🇨🇵🇫🇷: 0.00%\n",
      "gf: 0.00%\n",
      "angleterre: 0.00%\n",
      "andorre: 0.00%\n",
      "irak: 0.00%\n",
      "emirats arabes unis: 0.00%\n",
      "democratic republic of the congo: 0.00%\n",
      "bulgarije: 0.00%\n",
      "griekenland: 0.00%\n",
      "république dominicaine: 0.00%\n",
      "spania: 0.00%\n",
      "ucrania: 0.00%\n",
      "liechtenstein: 0.00%\n",
      "estland: 0.00%\n",
      "hollande: 0.00%\n",
      "turquie: 0.00%\n",
      "mauritanie: 0.00%\n",
      "iceland: 0.02%\n",
      "сингапур: 0.00%\n",
      "szerbia: 0.00%\n",
      "srbsko: 0.00%\n",
      "georgia: 0.01%\n",
      "ungaria: 0.00%\n",
      "avstrija: 0.00%\n",
      "hrvaška: 0.00%\n",
      "republika srbska: 0.00%\n",
      "bosna in hercegovina: 0.00%\n",
      "črna gora: 0.00%\n",
      "bosna i hercegovina: 0.00%\n",
      "sjeverna makedonija: 0.00%\n",
      "albanija: 0.00%\n",
      "saudijska arabija: 0.00%\n",
      "republic of macedonia: 0.00%\n",
      "bosnia and herzegovina: 0.01%\n",
      "montenegro: 0.00%\n",
      "nordmazedonien: 0.00%\n",
      "szlovákia: 0.00%\n",
      "француска: 0.00%\n",
      "босна и херцеговина: 0.00%\n",
      "crna gora: 0.00%\n",
      "црна гора: 0.00%\n",
      "nya kaledonien: 0.00%\n",
      "singapur: 0.00%\n",
      "русија: 0.00%\n",
      "prantsusmaa: 0.00%\n",
      "hispaania: 0.00%\n",
      "eesti: 0.00%\n",
      "saksamaa: 0.00%\n",
      "dánsko: 0.00%\n",
      "chińska republika ludowa: 0.00%\n",
      "нидерландия: 0.00%\n",
      "estija: 0.00%\n",
      "suomija: 0.00%\n",
      "rumunija: 0.00%\n",
      "švedija: 0.00%\n",
      "jungtinė karalystė: 0.00%\n",
      "chipre: 0.00%\n",
      "κύπρος: 0.00%\n",
      "белоруссия: 0.00%\n",
      "bělorusko: 0.00%\n",
      "argentinien: 0.00%\n",
      "saudi-arabien: 0.00%\n",
      "イギリス: 0.00%\n",
      "deutsche demokratische republik: 0.00%\n",
      "немачка: 0.00%\n",
      "німеччина: 0.00%\n",
      "польща: 0.00%\n",
      "węgry: 0.00%\n",
      "north macedonia: 0.00%\n",
      "swaziland: 0.00%\n",
      "elveția: 0.00%\n",
      "macédoine du nord: 0.00%\n",
      "east germany: 0.00%\n",
      "chypre: 0.00%\n",
      "بلجيكا: 0.00%\n",
      "ألمانيا: 0.00%\n",
      "island: 0.00%\n",
      "alemanya: 0.00%\n",
      "ليبيا: 0.00%\n",
      "росія: 0.00%\n",
      "unkari: 0.00%\n",
      "lucembursko: 0.00%\n",
      "chorvatsko: 0.00%\n",
      "rusland: 0.00%\n",
      "danimarca: 0.00%\n",
      "kosovo: 0.00%\n",
      "bolivien: 0.00%\n",
      "deut: 0.00%\n",
      "rusia: 0.00%\n",
      "belarus: 0.01%\n",
      "kyrgyzstan: 0.00%\n",
      "tajikistan: 0.00%\n",
      "uzbekistan: 0.01%\n",
      "азербайджан: 0.00%\n",
      "azerbaijan: 0.00%\n",
      "australija: 0.00%\n",
      "lettonie: 0.00%\n",
      "lettland: 0.00%\n",
      "fransa: 0.00%\n",
      "aserbaidschan: 0.00%\n",
      "lituanie: 0.00%\n",
      "jungtinės amerikos valstijos: 0.00%\n",
      "sri lanka: 0.00%\n",
      "เขตบริหารพิเศษฮ่องกง: 0.00%\n",
      "นิวแคลิโดเนีย: 0.00%\n",
      "neuseeland: 0.00%\n",
      "таджикистан: 0.00%\n",
      "франція: 0.00%\n",
      "латвія: 0.00%\n",
      "ucrânia: 0.00%\n",
      "ucraina: 0.00%\n",
      "republica moldova: 0.00%\n",
      "moldavie: 0.00%\n",
      "géorgie: 0.00%\n",
      "საქართველო: 0.00%\n",
      "hong-kong: 0.00%\n",
      "قطر: 0.00%\n",
      "中華民国: 0.00%\n",
      "澳门: 0.00%\n",
      "mozambique: 0.00%\n",
      "arabia saudita: 0.00%\n",
      "ישראל: 0.00%\n",
      "irlandia: 0.00%\n",
      "zjednoczone emiraty arabskie: 0.00%\n",
      "norja: 0.00%\n",
      "المملكة المتحدة: 0.00%\n",
      "المغرب: 0.00%\n",
      "åland: 0.00%\n",
      "european-union: 0.00%\n",
      "cap-vert: 0.00%\n",
      "república de china: 0.00%\n",
      "sudán: 0.00%\n",
      "scotland: 0.00%\n",
      "nueva zelanda: 0.00%\n",
      "libye: 0.00%\n",
      "великобритания: 0.00%\n",
      "رومانيا: 0.00%\n",
      "burundi: 0.00%\n",
      "galmudug: 0.00%\n",
      "østrig: 0.00%\n",
      "holland: 0.00%\n",
      "libya: 0.01%\n",
      "bahrein: 0.00%\n",
      "islanda: 0.00%\n",
      "belgica: 0.00%\n",
      "irsko: 0.00%\n",
      "βουλγαρία: 0.00%\n",
      "гърция: 0.00%\n",
      "islandia: 0.00%\n",
      "olanda: 0.00%\n",
      "worldwide: 0.00%\n",
      "malawi: 0.00%\n",
      "bénin: 0.00%\n",
      "shqipëria: 0.00%\n",
      "republic-of-macedonia: 0.00%\n",
      "северна македония: 0.00%\n",
      "албания: 0.00%\n",
      "белгија: 0.00%\n",
      "democratic-republic-of-the-congo: 0.00%\n",
      "ghana: 0.00%\n",
      "europese unie: 0.00%\n",
      "volksrepubliek china: 0.00%\n",
      "united-arab-emirates: 0.00%\n",
      "arménia: 0.00%\n",
      "norvegia: 0.00%\n",
      "nový zéland: 0.00%\n",
      "portugali: 0.00%\n",
      "albânia: 0.00%\n",
      "ierland: 0.00%\n",
      "poľsko: 0.00%\n",
      "nyderlandai: 0.00%\n",
      "central african republic: 0.00%\n",
      "algieria: 0.00%\n",
      "bośnia i hercegowina: 0.00%\n",
      "chorwacja: 0.00%\n",
      "rosja: 0.00%\n",
      "benin: 0.00%\n",
      "sudáfrica: 0.00%\n",
      "áfrica do sul: 0.00%\n",
      "benín: 0.00%\n",
      "belçika: 0.00%\n",
      "i̇sviçre: 0.00%\n",
      "кот д'ивоар: 0.00%\n",
      "кувейт: 0.00%\n",
      "люксембург: 0.00%\n",
      "paquistão: 0.00%\n",
      "gibraltar: 0.01%\n",
      "iraque: 0.00%\n",
      "kenya: 0.00%\n",
      "portugalia: 0.00%\n",
      "azerbaïdjan: 0.00%\n",
      "malte: 0.00%\n",
      "kroatia: 0.00%\n",
      "sveits: 0.00%\n",
      "հայաստան: 0.00%\n",
      "estonsko: 0.00%\n",
      "kuwejt: 0.00%\n",
      "bulgaaria: 0.00%\n",
      "rumeenia: 0.00%\n",
      "словенија: 0.00%\n",
      "thajsko: 0.00%\n",
      "สาธารณรัฐเช็ก: 0.00%\n",
      "ประเทศสโลวาเกีย: 0.00%\n",
      "мађарска: 0.00%\n",
      "namibia: 0.00%\n",
      "niger: 0.00%\n",
      "namibie: 0.00%\n",
      "sudafrica: 0.00%\n",
      "botswana: 0.00%\n",
      "tanzania: 0.00%\n",
      "algerie: 0.00%\n",
      "republic of the congo: 0.00%\n",
      "république centrafricaine: 0.00%\n",
      "guinée équatoriale: 0.00%\n",
      "wybrzeże kości słoniowej: 0.00%\n",
      "costa d'avorio: 0.00%\n",
      "tunezja: 0.00%\n",
      "tunesië: 0.00%\n",
      "brunei: 0.01%\n",
      "مصر: 0.00%\n",
      "ایالات متحده آمریکا: 0.00%\n",
      "soomaaliya: 0.00%\n",
      "katar: 0.00%\n",
      "سوريا: 0.00%\n",
      "اليمن: 0.00%\n",
      "yemen: 0.00%\n",
      "venäjä: 0.00%\n",
      "finsko: 0.00%\n",
      "viro: 0.00%\n",
      "salvador: 0.00%\n",
      "英国: 0.00%\n",
      "luksemburg: 0.00%\n",
      "turquía: 0.00%\n",
      "bosnia y herzegovina: 0.00%\n",
      "bósnia e herzegovina: 0.00%\n",
      "turquia: 0.00%\n",
      "irlanti: 0.00%\n",
      "ruoŧŧa: 0.00%\n",
      "sri-lanka: 0.00%\n",
      "se: 0.07%\n",
      "an fhraing: 0.00%\n",
      "a' ghearmailt: 0.00%\n",
      "poblachd na h-èireann: 0.00%\n",
      "an rìoghachd aonaichte: 0.00%\n",
      "dominican-republic: 0.00%\n",
      "messico: 0.00%\n",
      "indien: 0.00%\n",
      "benelux: 0.00%\n",
      "new-zealand: 0.00%\n",
      "فرانس: 0.00%\n",
      "جمہوریہ آئرستان: 0.00%\n",
      "پاکستان: 0.00%\n",
      "ریاستہائے متحدہ امریکہ: 0.00%\n",
      "република македонија: 0.00%\n",
      "la-reunion: 0.00%\n",
      "portugalsko: 0.00%\n",
      "kolumbien: 0.00%\n",
      "mauritania: 0.00%\n",
      "isle of man: 0.00%\n",
      "haití: 0.00%\n",
      "cile: 0.00%\n",
      "équateur: 0.00%\n",
      "brasilien: 0.00%\n",
      "írán: 0.00%\n",
      "צרפת: 0.00%\n",
      "איטליה: 0.00%\n",
      "principato di monaco: 0.00%\n",
      "repubblica ceca: 0.00%\n",
      "letónia: 0.00%\n",
      "guadalupa: 0.00%\n",
      "cipro: 0.00%\n",
      "macedonia del norte: 0.00%\n",
      "finska: 0.00%\n",
      "algerije: 0.00%\n",
      "spanyolország: 0.00%\n",
      "dánmárku: 0.00%\n",
      "βέλγιο: 0.00%\n",
      "guiana francesa: 0.00%\n",
      "polinésia francesa: 0.00%\n",
      "jordânia: 0.00%\n",
      "north korea: 0.00%\n",
      "ประเทศจีน: 0.00%\n",
      "islândia: 0.00%\n",
      "zuid-afrika: 0.00%\n",
      "letonia: 0.00%\n",
      "república democrática del congo: 0.00%\n",
      "santoña: 0.00%\n",
      "cantabria: 0.00%\n",
      "france  spain: 0.00%\n",
      "costa do marfim: 0.00%\n",
      "túnez: 0.00%\n",
      "португалия: 0.00%\n",
      "tunesien: 0.00%\n",
      "угорщина: 0.00%\n",
      "італія: 0.00%\n",
      "іспанія: 0.00%\n",
      "марокко: 0.00%\n",
      "mónaco: 0.00%\n",
      "jordania: 0.00%\n",
      "cabo verde: 0.00%\n",
      "franca: 0.00%\n",
      "ισπανία: 0.00%\n",
      "arábia saudita: 0.00%\n",
      "andora: 0.00%\n",
      "maldives: 0.00%\n",
      "tunisko: 0.00%\n",
      "martinik: 0.00%\n",
      "bosnia-and-herzegovina: 0.00%\n",
      "швајцарска: 0.00%\n",
      "bosnie-herzégovine: 0.00%\n",
      "кипар: 0.00%\n",
      "türkei: 0.00%\n",
      "تركيا: 0.00%\n",
      "amerika birleşik devletleri: 0.00%\n",
      "řecko: 0.00%\n",
      "royaume uni: 0.00%\n",
      "cz: 0.01%\n",
      "singapura: 0.00%\n",
      "frankriika: 0.00%\n",
      "nemčija: 0.00%\n",
      "nuova zelanda: 0.00%\n",
      "kroatië: 0.00%\n",
      "elfenbeinküste: 0.00%\n",
      "philippinen: 0.00%\n",
      "índia: 0.00%\n",
      "nova caledónia: 0.00%\n",
      "moldavsko: 0.00%\n",
      "slovinsko: 0.00%\n",
      "프랑스: 0.00%\n",
      "독일: 0.00%\n",
      "filipini: 0.00%\n",
      "južna koreja: 0.00%\n",
      "zuid-korea: 0.00%\n",
      "corea del sud: 0.00%\n",
      "캐나다: 0.00%\n",
      "네덜란드: 0.00%\n",
      "tšekki: 0.00%\n",
      "cambogia: 0.00%\n",
      "saudi-arabia: 0.00%\n",
      "laos: 0.00%\n",
      "соединённые штаты америки: 0.00%\n",
      "ประเทศกัมพูชา: 0.00%\n",
      "kamerun: 0.00%\n",
      "ประเทศอินโดนีเซีย: 0.00%\n",
      "timor-leste: 0.00%\n",
      "wereld: 0.00%\n",
      "fiji: 0.00%\n",
      "ประเทศแคนาดา: 0.00%\n",
      "ประเทศสิงคโปร์: 0.00%\n",
      "bangladés: 0.00%\n",
      "nepal: 0.00%\n",
      "pháp: 0.00%\n",
      "việt nam: 0.00%\n",
      "irán: 0.00%\n",
      "kirgisistan: 0.00%\n",
      "bosnien und herzegowina: 0.00%\n",
      "albánie: 0.00%\n",
      "bosna a hercegovina: 0.00%\n",
      "saúdská arábie: 0.00%\n",
      "evropska unija: 0.00%\n",
      "澳大利亚: 0.00%\n",
      "wallis and futuna: 0.00%\n",
      "البحرين: 0.00%\n",
      "cook islands: 0.00%\n",
      "fidji: 0.00%\n",
      "malaisie: 0.00%\n",
      "anguilla: 0.00%\n",
      "montserrat: 0.00%\n",
      "габон: 0.00%\n",
      "almanya: 0.00%\n",
      "スイス: 0.00%\n",
      "فرانسه: 0.00%\n",
      "ایران: 0.00%\n",
      "baréin: 0.00%\n",
      "fas: 0.00%\n",
      "népal: 0.00%\n",
      "ประเทศโกตดิวัวร์: 0.00%\n",
      "saint lucia: 0.00%\n",
      "regatul unit al marii britanii și al irlandei de nord: 0.00%\n",
      "somalia: 0.00%\n",
      "rwanda: 0.00%\n",
      "ફ્રાન્સ: 0.00%\n",
      "syria: 0.00%\n",
      "канада: 0.00%\n",
      "عربي متحده امارات: 0.00%\n",
      "سلطنة عمان: 0.00%\n",
      "british indian ocean territory: 0.00%\n",
      "riunione: 0.00%\n",
      "europäische union: 0.00%\n",
      "jemen: 0.00%\n",
      "fra: 0.00%\n",
      "ประเทศอินเดีย: 0.00%\n",
      "ประเทศเวียดนาม: 0.00%\n",
      "sierra leone: 0.00%\n",
      "nijer: 0.00%\n",
      "brasile: 0.00%\n",
      "cehia: 0.00%\n",
      "slovacia: 0.00%\n",
      "ue: 0.00%\n",
      "demokratická republika kongo: 0.00%\n",
      "нова каледония: 0.00%\n",
      "jugoslavija: 0.00%\n",
      "canadà: 0.00%\n",
      "turcia: 0.00%\n",
      "polynésie francaise: 0.00%\n",
      "бельгія: 0.00%\n",
      "францыя: 0.00%\n",
      "antigua and barbuda: 0.00%\n",
      "trinidad y tobago: 0.00%\n",
      "republic of ireland: 0.00%\n",
      "frantsa: 0.00%\n",
      "γουαδελούπη: 0.00%\n",
      "كوت ديفوار: 0.00%\n",
      "cina: 0.00%\n",
      "statele unite ale americii: 0.00%\n",
      "hu: 0.03%\n",
      "словения: 0.00%\n",
      "nieuw-caledonië: 0.00%\n",
      "algéria: 0.00%\n",
      "marokkó: 0.00%\n",
      "république de macédoine: 0.00%\n",
      "macao: 0.00%\n",
      "греция: 0.00%\n",
      "lesotho: 0.00%\n",
      "libanon: 0.00%\n",
      "palästinensische autonomiegebiete: 0.00%\n",
      "vereinigte arabische emirate: 0.00%\n",
      "bg: 0.02%\n",
      "mo: 0.00%\n",
      "gn: 0.00%\n",
      "th: 0.02%\n",
      "cl: 0.03%\n",
      "nz: 0.04%\n",
      "in: 0.02%\n",
      "id: 0.01%\n",
      "gr: 0.04%\n",
      "co: 0.02%\n",
      "hk: 0.01%\n",
      "rs: 0.01%\n",
      "dk: 0.07%\n",
      "ae: 0.04%\n",
      "sc: 0.00%\n",
      "middle east: 0.00%\n",
      "kasachstan: 0.00%\n",
      "tn: 0.02%\n",
      "ci: 0.01%\n",
      "kw: 0.02%\n",
      "pt: 0.06%\n",
      "ar: 0.03%\n",
      "tw: 0.00%\n",
      "ga: 0.00%\n",
      "tg: 0.00%\n",
      "bh: 0.01%\n",
      "pk: 0.00%\n",
      "pa: 0.01%\n",
      "etats-unis: 0.00%\n",
      "mu: 0.02%\n",
      "faroe islands: 0.01%\n",
      "ht: 0.00%\n",
      "ドイツ: 0.00%\n",
      "fi: 0.06%\n",
      "litvánia: 0.00%\n",
      "ua: 0.00%\n",
      "il: 0.04%\n",
      "si: 0.01%\n",
      "sk: 0.01%\n",
      "south-africa: 0.00%\n",
      "east-germany: 0.00%\n",
      "tr: 0.02%\n",
      "pl: 0.05%\n",
      "mk: 0.01%\n",
      "île maurice: 0.00%\n",
      "ne: 0.00%\n",
      "cr: 0.02%\n",
      "my: 0.01%\n",
      "bj: 0.00%\n",
      "ec: 0.01%\n",
      "vn: 0.01%\n",
      "ba: 0.00%\n",
      "qa: 0.02%\n",
      "by: 0.00%\n",
      "gd: 0.00%\n",
      "mx: 0.06%\n",
      "eg: 0.02%\n",
      "eu: 0.00%\n",
      "cm: 0.00%\n",
      "ng: 0.00%\n",
      "ml: 0.00%\n",
      "om: 0.00%\n",
      "gt: 0.01%\n",
      "grenada: 0.00%\n",
      "thaimaa: 0.00%\n",
      "lt: 0.00%\n",
      "mr: 0.00%\n",
      "papua new guinea: 0.00%\n",
      "białoruś: 0.00%\n",
      "ph: 0.01%\n",
      "itàlia: 0.00%\n",
      "u.s.a: 0.00%\n",
      "sv: 0.01%\n",
      "kz: 0.00%\n",
      "lv: 0.00%\n",
      "cg: 0.00%\n",
      "arabia saudyjska: 0.00%\n",
      "turcja: 0.00%\n",
      "saint martin: 0.00%\n",
      "bf: 0.00%\n",
      "bd: 0.00%\n",
      "gh: 0.00%\n",
      "mz: 0.00%\n",
      "al: 0.01%\n",
      "uz: 0.00%\n",
      "pm: 0.00%\n",
      "gy: 0.00%\n",
      "dj: 0.00%\n",
      "uy: 0.01%\n",
      "cd: 0.00%\n",
      "sowjetunion: 0.00%\n",
      "frantzia: 0.00%\n",
      "espainia: 0.00%\n",
      "mg: 0.00%\n",
      "ke: 0.00%\n",
      "uae: 0.00%\n",
      "td: 0.00%\n",
      "méxico  españa: 0.00%\n",
      "az: 0.00%\n",
      "norveška: 0.00%\n",
      "republik kongo: 0.00%\n",
      "np: 0.00%\n",
      "ad: 0.02%\n",
      "yugoslavia: 0.00%\n",
      "porto rico: 0.00%\n",
      "czechia: 0.02%\n",
      "kr: 0.02%\n",
      "md: 0.00%\n",
      "ประเทศนิวซีแลนด์: 0.00%\n",
      "абхазия: 0.00%\n",
      "zimbabwe: 0.00%\n",
      "mc: 0.01%\n",
      "република ирландия: 0.00%\n",
      "lr: 0.00%\n",
      "yt: 0.00%\n",
      "cy: 0.01%\n",
      "nowa kaledonia: 0.00%\n",
      "je: 0.00%\n",
      "gg: 0.00%\n",
      "hashemite kingdom of jordan: 0.00%\n",
      "lëtzebuerg (land): 0.00%\n",
      "santona: 0.00%\n",
      "هولندا: 0.00%\n",
      "congo: 0.00%\n",
      "norsko: 0.00%\n",
      "lc: 0.00%\n",
      "macedonia: 0.01%\n",
      "emirados árabes unidos: 0.00%\n",
      "tajlandia: 0.00%\n",
      "me: 0.00%\n",
      "america: 0.00%\n",
      "wf: 0.00%\n",
      "do: 0.02%\n",
      "united-states-of-america: 0.00%\n",
      "indonesië: 0.00%\n",
      "maleisië: 0.00%\n",
      "filipijnen: 0.00%\n",
      "republika chińska: 0.00%\n",
      "ge: 0.02%\n",
      "croazia: 0.00%\n",
      "uniunea europeană: 0.00%\n",
      "evropská unie: 0.00%\n",
      "cape verde: 0.00%\n",
      "szlovénia: 0.00%\n",
      "++: 0.00%\n",
      "kolumbia: 0.00%\n",
      "タイ王国: 0.00%\n",
      "grekland: 0.00%\n",
      "polinesia perancis: 0.00%\n",
      "libano: 0.00%\n",
      "usbekistan: 0.00%\n",
      "tadschikistan: 0.00%\n",
      "weißrussland: 0.00%\n",
      "republic-of-the-congo: 0.00%\n",
      "ky: 0.00%\n",
      "republic of lithuania: 0.02%\n",
      "توغو: 0.00%\n",
      "is: 0.01%\n",
      "bhutan: 0.00%\n",
      "paraguai: 0.00%\n",
      "uruguai: 0.00%\n",
      "it:..: 0.00%\n",
      "am: 0.00%\n",
      "荷蘭: 0.00%\n",
      "japāna: 0.00%\n",
      "japonija: 0.00%\n",
      "ir: 0.00%\n",
      "izrael: 0.00%\n",
      "py: 0.00%\n",
      "cu: 0.03%\n",
      "yu: 0.01%\n",
      "ประเทศตุรกี: 0.00%\n",
      "netherlands  france: 0.00%\n",
      "ägypten: 0.00%\n",
      "lk: 0.00%\n",
      "турция: 0.00%\n",
      "palestine: 0.01%\n",
      "wyspy owcze: 0.00%\n",
      "остров рождества: 0.00%\n",
      "hr: 0.00%\n",
      "état unis: 0.00%\n",
      "jo: 0.01%\n",
      "?: 0.00%\n",
      "iq: 0.02%\n",
      "ni: 0.00%\n",
      "パキスタン: 0.00%\n",
      "中国: 0.00%\n",
      "american samoa: 0.00%\n",
      "mm: 0.00%\n",
      "cv: 0.00%\n",
      "словакия: 0.00%\n",
      "km: 0.00%\n",
      "syrie: 0.00%\n",
      "kambodscha: 0.00%\n",
      "la: 0.00%\n",
      "bn: 0.00%\n",
      "south america: 0.00%\n",
      "turkije: 0.00%\n",
      "surinam: 0.00%\n",
      "ukrajina: 0.00%\n",
      "vu: 0.00%\n",
      "filipinas: 0.00%\n",
      "m: 0.00%\n",
      "cypr: 0.00%\n",
      "république démocratique allemande: 0.00%\n",
      "tunis: 0.00%\n",
      "естония: 0.00%\n",
      "storbritannia: 0.00%\n",
      "tz: 0.00%\n",
      "cw: 0.00%\n",
      "bosnia: 0.00%\n",
      "thailandia: 0.00%\n",
      "fo: 0.00%\n",
      "lenkija: 0.00%\n",
      "ee: 0.00%\n",
      "costa-rica: 0.00%\n",
      "republic of moldova: 0.00%\n",
      "na: 0.00%\n",
      "объединённые арабские эмираты: 0.00%\n",
      "unione europea: 0.00%\n",
      "beļģija: 0.00%\n",
      "caribisch nederland: 0.00%\n",
      "south-korea: 0.00%\n",
      "el-salvador: 0.00%\n",
      "spánia: 0.00%\n",
      "الكاميرون: 0.00%\n",
      "santa lucía: 0.00%\n",
      "romanya: 0.00%\n",
      "i̇spanya: 0.00%\n",
      "reino-unido: 0.00%\n",
      "curazao: 0.00%\n",
      "узбекистан: 0.00%\n",
      "guayana francesa: 0.00%\n",
      "mv: 0.00%\n",
      "bosznia-hercegovina: 0.00%\n",
      "észtország: 0.00%\n",
      "jm: 0.01%\n",
      "et: 0.00%\n",
      "ao: 0.00%\n",
      "sint maarten: 0.00%\n",
      "bulgarija: 0.00%\n",
      "chad: 0.00%\n",
      "cezayir: 0.00%\n",
      "suopma: 0.00%\n",
      "iraqi kurdistan: 0.00%\n",
      "---: 0.00%\n",
      "egipto: 0.00%\n",
      "caribbean netherlands: 0.00%\n",
      "fr  €: 0.00%\n",
      "zambia: 0.00%\n",
      "bs: 0.00%\n",
      "cf: 0.00%\n",
      "uganda: 0.00%\n",
      "sr: 0.00%\n",
      "gq: 0.00%\n",
      "guinea ecuatorial: 0.00%\n",
      "bb: 0.00%\n",
      "西班牙: 0.00%\n",
      "san martín: 0.00%\n",
      "san vicente y las granadinas: 0.00%\n",
      "sx: 0.00%\n",
      "argentyna: 0.00%\n",
      "ukraina: 0.00%\n",
      "san marino: 0.00%\n",
      "arabia saudită: 0.00%\n",
      "polinesia francese: 0.00%\n",
      "ประเทศเม็กซิโก: 0.00%\n",
      "pobřeží slonoviny: 0.00%\n",
      "spojené arabské emiráty: 0.00%\n",
      "gabun: 0.00%\n",
      "österrike: 0.00%\n",
      "argentina - español: 0.00%\n",
      "armenia - pyсский: 0.00%\n",
      "aruba - español: 0.00%\n",
      "asia pacific: 0.00%\n",
      "australia - english: 0.00%\n",
      "austria - deutsch: 0.00%\n",
      "azerbaijan - русский: 0.00%\n",
      "belarus - pyсский: 0.00%\n",
      "belgium - français: 0.00%\n",
      "belgium - nederlands: 0.00%\n",
      "bolivia - español: 0.00%\n",
      "bosnia i hercegovina - bosnian: 0.00%\n",
      "botswana - english: 0.00%\n",
      "brazil - português: 0.00%\n",
      "bulgaria - български: 0.00%\n",
      "cambodia - english: 0.00%\n",
      "cambodia - ភាសាខ្មែរ: 0.00%\n",
      "canada - english: 0.00%\n",
      "canada - français: 0.00%\n",
      "chile - español: 0.00%\n",
      "china - 中文: 0.00%\n",
      "colombia - español: 0.00%\n",
      "costa rica - español: 0.00%\n",
      "croatia - hrvatski: 0.00%\n",
      "cyprus - ελληνικά: 0.00%\n",
      "czech republic - čeština: 0.00%\n",
      "denmark - dansk: 0.00%\n",
      "ecuador - español: 0.00%\n",
      "el salvador - español: 0.00%\n",
      "estonia - eesti: 0.00%\n",
      "europe: 0.00%\n",
      "finland - suomi: 0.00%\n",
      "france - français: 0.00%\n",
      "georgia - ქართული: 0.00%\n",
      "germany - deutsch: 0.00%\n",
      "ghana - english: 0.00%\n",
      "greece - ελληνικά: 0.00%\n",
      "guatemala - español: 0.00%\n",
      "honduras - español: 0.00%\n",
      "hong kong - 粵語: 0.00%\n",
      "hungary - magyar: 0.00%\n",
      "iceland - íslenska: 0.00%\n",
      "india - english: 0.00%\n",
      "indonesia - bahasa indonesia: 0.00%\n",
      "ireland - english: 0.00%\n",
      "israel - עברית: 0.00%\n",
      "italy - italiano: 0.00%\n",
      "jamaica - english: 0.00%\n",
      "japan - 日本語: 0.00%\n",
      "kazakhstan - pyсский: 0.00%\n",
      "korea - 한국어: 0.00%\n",
      "kyrgyzstan - русский: 0.00%\n",
      "latvia - latviešu: 0.00%\n",
      "lebanon - english: 0.00%\n",
      "lesotho - english: 0.00%\n",
      "lithuania - lietuvių: 0.00%\n",
      "macau - 中文: 0.00%\n",
      "malaysia - bahasa melayu: 0.00%\n",
      "malaysia - english: 0.00%\n",
      "malaysia - 中文: 0.00%\n",
      "mexico - español: 0.00%\n",
      "middle east & africa: 0.00%\n",
      "moldova - român: 0.00%\n",
      "mongolia - монгол хэл: 0.00%\n",
      "namibia - english: 0.00%\n",
      "netherlands - nederlands: 0.00%\n",
      "new zealand - english: 0.00%\n",
      "nicaragua - español: 0.00%\n",
      "north macedonia - македонски јазик: 0.00%\n",
      "norway - norsk: 0.00%\n",
      "panamá - español: 0.00%\n",
      "paraguay - español: 0.00%\n",
      "perú - español: 0.00%\n",
      "philippines - english: 0.00%\n",
      "poland - polski: 0.00%\n",
      "portugal - português: 0.00%\n",
      "puerto rico - español: 0.00%\n",
      "república dominicana - español: 0.00%\n",
      "romania - română: 0.00%\n",
      "russia - русский: 0.00%\n",
      "serbia - srpski: 0.00%\n",
      "singapore - english: 0.00%\n",
      "slovak republic - slovenčina: 0.00%\n",
      "slovenia - slovene: 0.00%\n",
      "south africa -english: 0.00%\n",
      "spain - español: 0.00%\n",
      "swaziland - english: 0.00%\n",
      "sweden - svenska: 0.00%\n",
      "switzerland - deutsch: 0.00%\n",
      "switzerland - français: 0.00%\n",
      "taiwan - 中文: 0.00%\n",
      "thailand - ไทย: 0.00%\n",
      "trinidad & tobago - english: 0.00%\n",
      "turkey - türkçe: 0.00%\n",
      "ukraine - yкраї́нська: 0.00%\n",
      "united kingdom - english: 0.00%\n",
      "united states - english: 0.00%\n",
      "united states - español: 0.00%\n",
      "uruguay - español: 0.00%\n",
      "venezuela - español: 0.00%\n",
      "vietnam - tiếng việt: 0.00%\n",
      "zambia - english: 0.00%\n",
      "mongolei: 0.00%\n",
      "xk: 0.00%\n",
      "zentralafrikanische republik: 0.00%\n",
      "latinoamerica: 0.00%\n",
      "bermuda: 0.00%\n",
      "zm: 0.00%\n",
      "pakistán: 0.00%\n",
      "5018 rue harwood: 0.00%\n",
      "allemagne nazi: 0.00%\n",
      "шпанија: 0.00%\n",
      "london: 0.00%\n",
      "slovenië: 0.00%\n",
      "bhoutan: 0.00%\n",
      "madagascar - toamasina: 0.00%\n",
      "madžarska: 0.00%\n",
      "maurícia: 0.00%\n",
      "tailândia: 0.00%\n",
      "lybia: 0.01%\n",
      "ベルギー: 0.00%\n",
      "camerún: 0.00%\n",
      "gambia: 0.00%\n",
      "united states minor outlying islands: 0.00%\n",
      "írország: 0.00%\n",
      "литва: 0.00%\n",
      "itävalta: 0.00%\n",
      "malasia: 0.00%\n",
      "birmanie: 0.00%\n",
      "camerun: 0.00%\n",
      "liberia: 0.00%\n",
      "السنغال: 0.00%\n",
      "bahamas: 0.00%\n",
      "américa: 0.00%\n",
      "belleville wa: 0.00%\n",
      "kazachstan: 0.00%\n",
      "ps: 0.00%\n",
      "tt: 0.00%\n",
      "ethiopia: 0.00%\n",
      "الاتحاد الأوروبي: 0.00%\n",
      "ryssland: 0.00%\n",
      "îles cook: 0.00%\n",
      "fj: 0.00%\n",
      "カナダ: 0.00%\n",
      "уједињено краљевство: 0.00%\n",
      "サウジアラビア: 0.00%\n",
      "černá hora: 0.00%\n",
      "coreia do sul: 0.00%\n",
      "chorvátsko: 0.00%\n",
      "malezja: 0.00%\n",
      "либия: 0.00%\n",
      "liettua: 0.00%\n",
      "oroszország: 0.00%\n",
      "lux: 0.00%\n",
      "libia: 0.00%\n",
      "brazylia: 0.00%\n",
      "korean tasavalta: 0.00%\n",
      "northern mariana islands: 0.00%\n",
      "puerto-rico: 0.00%\n",
      "ahvenanmaan maakunta: 0.00%\n",
      "moldávia: 0.00%\n",
      "state of palestine: 0.00%\n",
      "unknown: 0.00%\n",
      "イタリア: 0.00%\n",
      "azərbaycan: 0.00%\n",
      "virgin-islands-of-the-united-states: 0.01%\n",
      "čekija: 0.00%\n",
      "suedia: 0.00%\n",
      "guam: 0.00%\n",
      "bq: 0.00%\n",
      "france.: 0.00%\n",
      "bm: 0.00%\n",
      "sudan: 0.00%\n",
      "yémen: 0.00%\n",
      "north-macedonia: 0.00%\n",
      "belize: 0.00%\n",
      "モロッコ: 0.00%\n",
      "egito: 0.00%\n",
      "السودان: 0.00%\n",
      "u.s.a.: 0.00%\n",
      "pw: 0.00%\n",
      "sambia: 0.00%\n",
      "ameriketako estatu batuak: 0.00%\n",
      "soudan: 0.00%\n",
      "airija: 0.00%\n",
      ".: 0.00%\n",
      "bw: 0.00%\n",
      "equatorial guinea: 0.00%\n",
      "кипър: 0.00%\n",
      "camboya: 0.00%\n",
      "ss: 0.00%\n",
      "gu: 0.00%\n",
      "ai: 0.00%\n",
      "meksiko: 0.00%\n",
      "saint vincent and the grenadines: 0.00%\n",
      "китайская народная республика: 0.00%\n",
      "オーストラリア: 0.00%\n",
      "γερμανία: 0.00%\n",
      "stato di palestina: 0.00%\n",
      "prepared for siwin foods edmonton alberta t6b 3v2: 0.00%\n",
      "sierra-leone: 0.00%\n",
      "maldive: 0.00%\n",
      "pg: 0.00%\n",
      "united states of america: 0.00%\n",
      "monako: 0.00%\n",
      "finlanda: 0.00%\n",
      "česká republika: 0.00%\n",
      "mn: 0.00%\n",
      "ευρωπαϊκή ένωση: 0.00%\n",
      "greenland: 0.00%\n",
      "er: 0.00%\n",
      "обединени арабски емирства: 0.00%\n",
      "ルクセンブルク: 0.00%\n",
      "アイルランド: 0.00%\n",
      "ニュージーランド: 0.00%\n",
      "severní makedonie: 0.00%\n",
      "ليتوانيا: 0.00%\n",
      "cipar: 0.00%\n",
      "sm: 0.00%\n",
      "tunézia: 0.00%\n",
      "repubblica dominicana: 0.00%\n",
      "colômbia: 0.00%\n",
      "aw: 0.00%\n",
      "sao tomé and príncipe: 0.00%\n",
      "যুক্তরাজ্য: 0.00%\n",
      "comoros: 0.00%\n",
      "germa: 0.00%\n",
      "moldawien: 0.00%\n",
      "малта: 0.00%\n",
      "hellas: 0.00%\n",
      "ug: 0.00%\n",
      "ニューカレドニア: 0.00%\n",
      "aland-islands: 0.00%\n",
      "vi: 0.00%\n",
      "rw: 0.00%\n",
      "sardinia: 0.00%\n",
      "японія: 0.00%\n",
      "mannin: 0.00%\n",
      "reeriaght unnaneysit: 0.00%\n",
      "republica mexicana: 0.00%\n",
      "republika południowej afryki: 0.00%\n",
      "georgien: 0.00%\n",
      "南アフリカ共和国: 0.00%\n",
      "espagnol: 0.00%\n",
      "ye: 0.00%\n",
      "vatican city: 0.00%\n",
      "indonesien: 0.00%\n",
      "kn: 0.00%\n",
      "bo: 0.00%\n",
      "en: españa: 0.00%\n",
      "северна македонија: 0.00%\n",
      "албанија: 0.00%\n",
      "sy: 0.00%\n",
      "im: 0.00%\n",
      "beyaz rusya: 0.00%\n",
      "nowa zelandia: 0.00%\n",
      "المجر: 0.00%\n",
      "norga: 0.00%\n",
      "tjeckien: 0.00%\n",
      "eeuu: 0.00%\n",
      "birmania: 0.00%\n",
      "македонија: 0.00%\n",
      "sd: 0.00%\n",
      "ливан: 0.00%\n",
      "tasty foods αβγε: 0.00%\n",
      "камерун: 0.00%\n",
      "монгол улс: 0.00%\n",
      "mp: 0.00%\n",
      "so: 0.00%\n",
      "русия: 0.00%\n",
      ":: 0.00%\n",
      "イラク: 0.00%\n",
      "macedonia de nord: 0.00%\n",
      "líbia: 0.00%\n",
      "japani: 0.00%\n",
      "ag: 0.00%\n",
      "中華人民共和国: 0.00%\n",
      "turkiye: 0.00%\n",
      "ประเทศญี่ปุ่น: 0.00%\n",
      "indian subcontinent: 0.00%\n",
      "エルサルバドル: 0.00%\n",
      "emirati arabi uniti: 0.00%\n",
      "saint-marin: 0.00%\n",
      "british virgin islands: 0.00%\n",
      "tjekkiet: 0.00%\n",
      "意大利: 0.00%\n",
      "tonga: 0.00%\n",
      "obala bjelokosti: 0.00%\n",
      "wietnam: 0.00%\n",
      "jamaïque: 0.00%\n",
      "turks and caicos islands: 0.00%\n",
      "moçambique: 0.00%\n",
      "cc: 0.00%\n",
      "filipiny: 0.00%\n",
      "kurdistan irakien: 0.00%\n",
      "va: 0.00%\n",
      "servië: 0.00%\n",
      "沙特阿拉伯: 0.00%\n",
      "zw: 0.00%\n",
      "mondo: 0.00%\n",
      "macedonia del nord: 0.00%\n",
      "sl: 0.00%\n",
      "moldavië: 0.00%\n",
      "нидерланды: 0.00%\n",
      "kp: 0.00%\n",
      "iirimaa: 0.00%\n",
      "egitto: 0.00%\n",
      "islanti: 0.00%\n",
      "na stàitean aonaichte: 0.00%\n",
      "bz: 0.00%\n",
      "belice: 0.00%\n",
      "bi: 0.00%\n",
      "bellingham wa usa: 0.00%\n",
      "as: 0.00%\n",
      "الاردن: 0.00%\n",
      "dm: 0.00%\n",
      "ken: 0.00%\n",
      "アラブ首長国連邦: 0.00%\n",
      "nyl: 0.00%\n",
      "samoa: 0.00%\n",
      "wit-rusland: 0.00%\n",
      "txekia: 0.00%\n",
      "luxenburgo: 0.00%\n",
      "индия: 0.00%\n",
      "brazil  france: 0.00%\n",
      "dél-korea: 0.00%\n",
      "bermudas: 0.00%\n",
      "īrija: 0.00%\n",
      "coquitlam bc: 0.00%\n",
      "salwador: 0.00%\n",
      "amerika syarikat: 0.00%\n",
      "جميع البلدان: 0.00%\n",
      "киргизия: 0.00%\n",
      "kuba: 0.00%\n",
      "bih: 0.00%\n",
      "аржентина: 0.00%\n",
      "молдова: 0.00%\n",
      "indie: 0.00%\n",
      "omán: 0.00%\n",
      "sudán del sur: 0.00%\n",
      "украйна: 0.00%\n",
      "дания: 0.00%\n",
      "جنوب أفريقيا: 0.00%\n",
      "japonsko: 0.00%\n",
      "армения: 0.00%\n",
      "gm: 0.00%\n",
      "fiyi: 0.00%\n",
      "st: 0.00%\n",
      "slov: 0.00%\n",
      "šveice: 0.00%\n",
      "デンマーク: 0.00%\n",
      "albanië: 0.00%\n",
      "tc: 0.00%\n",
      "الهند: 0.00%\n",
      "maldivas: 0.00%\n",
      "შვეიცარია: 0.00%\n",
      "ශ් රී ලංකාව: 0.00%\n",
      "roemenie: 0.00%\n",
      "russian federation: 0.00%\n",
      "jordánsko: 0.00%\n",
      "ভুটান: 0.00%\n",
      "ভারত: 0.00%\n",
      "নেপাল: 0.00%\n",
      "মার্কিন যুক্তরাষ্ট্র: 0.00%\n",
      "mw: 0.00%\n",
      "y deyrnas unedig: 0.00%\n",
      "ck: 0.00%\n",
      "монголия: 0.00%\n",
      "territorios palestinos: 0.00%\n",
      "giappone: 0.00%\n",
      "ประเทศซาอุดีอาระเบีย: 0.00%\n",
      "éthiopie: 0.00%\n",
      "эстония: 0.00%\n",
      "польша: 0.00%\n",
      "kıbrıs cumhuriyeti: 0.00%\n",
      "vc: 0.00%\n",
      "ireland & uk: 0.00%\n",
      "yhdistyneet arabiemiirikunnat: 0.00%\n",
      "chint: 0.00%\n",
      "малайзия: 0.00%\n",
      "egipt: 0.00%\n",
      "malásia: 0.00%\n",
      "u.s. minor outlying islands: 0.00%\n",
      "leedu: 0.00%\n",
      "gruusia: 0.00%\n",
      "république serbe de bosnie: 0.00%\n",
      "япония: 0.00%\n",
      "romani: 0.00%\n",
      "afganistán: 0.00%\n",
      "the-bahamas: 0.00%\n",
      "filippinene: 0.00%\n",
      "ôsterreich: 0.00%\n",
      "spojené kráľovstvo: 0.00%\n",
      "west africa: 0.00%\n",
      "νότια αφρική: 0.00%\n",
      "tanzanie: 0.00%\n",
      "ประเทศมาเลเซีย: 0.00%\n",
      "jordanië: 0.00%\n",
      "vatican: 0.00%\n",
      "sb: 0.00%\n",
      "sz: 0.00%\n",
      "armenië: 0.00%\n",
      "territori palestinesi: 0.00%\n",
      "ประเทศฟิลิปปินส์: 0.00%\n",
      "bg::bulgaria: 0.00%\n",
      "läti: 0.00%\n",
      "letland: 0.00%\n",
      "велика британія: 0.00%\n",
      "тунис: 0.00%\n",
      "bosnië en herzegovina: 0.00%\n",
      "central america: 0.00%\n",
      "france 🇫🇷: 0.00%\n",
      "urugwaj: 0.00%\n",
      "cocoa horizons: 0.00%\n",
      "arab saudi: 0.00%\n",
      "british-indian-ocean-territory: 0.00%\n",
      "ruanda: 0.00%\n",
      "färöer: 0.00%\n",
      "ijsland: 0.00%\n",
      "færøerne: 0.00%\n",
      "belanda: 0.00%\n",
      "korea selatan: 0.00%\n",
      "nouvelle caledonie: 0.00%\n",
      "northern ireland: 0.00%\n",
      "wales: 0.00%\n",
      "antigua-and-barbuda: 0.00%\n",
      "ouganda: 0.00%\n",
      "kroatija: 0.00%\n",
      "etiopía: 0.00%\n",
      "saint-kitts-and-nevis: 0.00%\n",
      "nouvelle-aquitaine: 0.00%\n",
      "virazeil: 0.00%\n",
      "quebec: 0.00%\n",
      "the netherlands: 0.06%\n",
      "japonia: 0.00%\n",
      "word: 0.00%\n",
      "aus: 0.00%\n",
      "беларусь: 0.00%\n",
      "made in the u k (ni): 0.00%\n",
      "wa usa: 0.00%\n",
      "baden: 0.00%\n",
      "ouzbékistan: 0.00%\n",
      "dr congo: 0.00%\n",
      "ariège: 0.00%\n",
      "imported by mccormick canada: 0.00%\n",
      "on canada n6a 4z2: 0.00%\n",
      "vancouver canada: 0.00%\n",
      "vancouver bc canada: 0.00%\n",
      "product of usa. packed in canada.  imported by: strong international trading inc. richmond bc | www.siti.ca: 0.00%\n",
      "rakúsko: 0.00%\n",
      "norwa: 0.00%\n",
      "马来西亚: 0.00%\n",
      "natural calm canada 5 idleswift dr.  thornhill on  l4j 1k6: 0.00%\n",
      "マダガスカル: 0.00%\n",
      "santo domingo: 0.00%\n",
      "hoa kỳ: 0.00%\n",
      "svalbard et jan mayen: 0.00%\n",
      "europa: 0.00%\n",
      "corsica: 0.00%\n",
      "الدمام: 0.00%\n",
      "dubai: 0.00%\n",
      "asia: 0.00%\n",
      "brasill: 0.00%\n",
      "sicile: 0.00%\n",
      "surrey bc canada: 0.00%\n"
     ]
    }
   ],
   "source": [
    "# retourne une liste des pays présents dans le fichier\n",
    "def extract_countries_from_jsonl(file_path):\n",
    "    countries = []\n",
    "    with open(file_path, 'r', encoding='utf-8') as file:\n",
    "        for line in file:\n",
    "            try:\n",
    "                record = json.loads(line)\n",
    "                country = record.get('countries')\n",
    "                if country is not None:\n",
    "                    countries.append(country)\n",
    "            except json.JSONDecodeError:\n",
    "                print(f\"WARNING line: {line} in {file_path}\")    \n",
    "    return countries\n",
    "countries_list = extract_countries_from_jsonl(jsonl_02)\n",
    "\n",
    "separated_countries = []\n",
    "for entry in countries_list:\n",
    "    countries = [country.strip() for country in entry.split(',')]\n",
    "    separated_countries.extend(countries)\n",
    "\n",
    "country_counts = Counter(separated_countries)\n",
    "total_countries = sum(country_counts.values())\n",
    "\n",
    "data_graph_countries = []\n",
    "for country, count in country_counts.items():\n",
    "    percentage = (count / total_countries) * 100\n",
    "    print(f\"{country}: {percentage:.2f}%\")\n",
    "    data_graph_countries.append({'countries': country, 'percentage': percentage})"
   ]
  },
  {
   "cell_type": "code",
   "execution_count": 28,
   "metadata": {},
   "outputs": [
    {
     "data": {
      "application/vnd.plotly.v1+json": {
       "config": {
        "plotlyServerURL": "https://plot.ly"
       },
       "data": [
        {
         "branchvalues": "total",
         "customdata": [
          [
           0.08963680157746631
          ],
          [
           0.00026511048774143837
          ],
          [
           0.000029456720860159817
          ],
          [
           0.000029456720860159817
          ],
          [
           0.000058913441720319633
          ],
          [
           0.000029456720860159817
          ],
          [
           0.000029456720860159817
          ],
          [
           0.00011782688344063927
          ],
          [
           0.000029456720860159817
          ],
          [
           0.01611282631050742
          ],
          [
           0.0441261678485194
          ],
          [
           0.0023270809479526257
          ],
          [
           0.000029456720860159817
          ],
          [
           0.0028867586442956616
          ],
          [
           0.0021797973436518264
          ],
          [
           0.0004123940920422374
          ],
          [
           0.00011782688344063927
          ],
          [
           0.000324023929461758
          ],
          [
           0.000029456720860159817
          ],
          [
           0.005950257613752282
          ],
          [
           0.000029456720860159817
          ],
          [
           0.00026511048774143837
          ],
          [
           0.007275810052459473
          ],
          [
           0.0002061970460211187
          ],
          [
           0.000324023929461758
          ],
          [
           0.0005596776963430365
          ],
          [
           0.000058913441720319633
          ],
          [
           0.00008837016258047944
          ],
          [
           0.000029456720860159817
          ],
          [
           0.000029456720860159817
          ],
          [
           0.11997722406343093
          ],
          [
           0.00011782688344063927
          ],
          [
           0.0001767403251609589
          ],
          [
           0.000058913441720319633
          ],
          [
           0.00011782688344063927
          ],
          [
           0.000029456720860159817
          ],
          [
           0.000029456720860159817
          ],
          [
           0.0001767403251609589
          ],
          [
           0.0004123940920422374
          ],
          [
           0.00008837016258047944
          ],
          [
           0.00026511048774143837
          ],
          [
           0.000029456720860159817
          ],
          [
           0.000029456720860159817
          ],
          [
           0.00008837016258047944
          ],
          [
           0.000058913441720319633
          ],
          [
           0.000029456720860159817
          ],
          [
           0.000058913441720319633
          ],
          [
           0.00029456720860159815
          ],
          [
           0.000029456720860159817
          ],
          [
           0.0074230936567602724
          ],
          [
           0.0012077255552665523
          ],
          [
           0.0027983884817151827
          ],
          [
           0.0007658747423641552
          ],
          [
           0.00011782688344063927
          ],
          [
           0.000029456720860159817
          ],
          [
           0.00047130753376255707
          ],
          [
           0.000058913441720319633
          ],
          [
           0.00029456720860159815
          ],
          [
           0.030458249369405246
          ],
          [
           0.000058913441720319633
          ],
          [
           0.0007069613006438355
          ],
          [
           0.000029456720860159817
          ],
          [
           0.000058913441720319633
          ],
          [
           0.000618591138063356
          ],
          [
           0.19002530626889097
          ],
          [
           0.000029456720860159817
          ],
          [
           0.001413922601287671
          ],
          [
           0.0002061970460211187
          ],
          [
           0.00014728360430079908
          ],
          [
           0.00026511048774143837
          ],
          [
           0.000029456720860159817
          ],
          [
           0.002562734714833904
          ],
          [
           0.000029456720860159817
          ],
          [
           0.000058913441720319633
          ],
          [
           0.000029456720860159817
          ],
          [
           0.0010604419509657535
          ],
          [
           0.000029456720860159817
          ],
          [
           0.000058913441720319633
          ],
          [
           0.00014728360430079908
          ],
          [
           0.000029456720860159817
          ],
          [
           0.000029456720860159817
          ],
          [
           0.000029456720860159817
          ],
          [
           0.000029456720860159817
          ],
          [
           0.000029456720860159817
          ],
          [
           1.3057280655683041
          ],
          [
           0.000029456720860159817
          ],
          [
           0.00014728360430079908
          ],
          [
           0.0001767403251609589
          ],
          [
           0.35533642373610785
          ],
          [
           0.000029456720860159817
          ],
          [
           0.0011488121135462327
          ],
          [
           0.0003534806503219178
          ],
          [
           0.00008837016258047944
          ],
          [
           0.000648047858923516
          ],
          [
           0.00011782688344063927
          ],
          [
           0.0011488121135462327
          ],
          [
           0.0003534806503219178
          ],
          [
           0.0029456720860159815
          ],
          [
           0.000029456720860159817
          ],
          [
           0.000058913441720319633
          ],
          [
           0.000029456720860159817
          ],
          [
           0.003917743874401255
          ],
          [
           0.000029456720860159817
          ],
          [
           0.0006775045797836757
          ],
          [
           0.004565791733324771
          ],
          [
           0.000029456720860159817
          ],
          [
           0.00621536810149372
          ],
          [
           0.00026511048774143837
          ],
          [
           0.001413922601287671
          ],
          [
           0.000029456720860159817
          ],
          [
           0.002503821273113584
          ],
          [
           0.0023270809479526257
          ],
          [
           0.000029456720860159817
          ],
          [
           0.010339309021916095
          ],
          [
           0.000029456720860159817
          ],
          [
           0.000058913441720319633
          ],
          [
           0.00008837016258047944
          ],
          [
           0.0008542449049446346
          ],
          [
           0.00044185081290239723
          ],
          [
           2.387643966041114
          ],
          [
           0.000029456720860159817
          ],
          [
           0.000029456720860159817
          ],
          [
           0.05255079001452511
          ],
          [
           0.000029456720860159817
          ],
          [
           0.0002061970460211187
          ],
          [
           0.000029456720860159817
          ],
          [
           0.000029456720860159817
          ],
          [
           0.00011782688344063927
          ],
          [
           0.00026511048774143837
          ],
          [
           0.0010015285092454336
          ],
          [
           0.000029456720860159817
          ],
          [
           0.00044185081290239723
          ],
          [
           0.000029456720860159817
          ],
          [
           0.000029456720860159817
          ],
          [
           0.000029456720860159817
          ],
          [
           0.0006775045797836757
          ],
          [
           0.015052384359541664
          ],
          [
           0.000029456720860159817
          ],
          [
           0.008365708724285386
          ],
          [
           0.000029456720860159817
          ],
          [
           0.00014728360430079908
          ],
          [
           0.000058913441720319633
          ],
          [
           0.00014728360430079908
          ],
          [
           0.000029456720860159817
          ],
          [
           0.000029456720860159817
          ],
          [
           0.00008837016258047944
          ],
          [
           0.000058913441720319633
          ],
          [
           0.000029456720860159817
          ],
          [
           0.00014728360430079908
          ],
          [
           0.0013255524387071917
          ],
          [
           0.0010604419509657535
          ],
          [
           0.0013550091595673514
          ],
          [
           0.0008837016258047945
          ],
          [
           0.09700098179250627
          ],
          [
           0.000029456720860159817
          ],
          [
           0.000058913441720319633
          ],
          [
           0.00014728360430079908
          ],
          [
           0.0022976242270924653
          ],
          [
           0.00008837016258047944
          ],
          [
           0.000029456720860159817
          ],
          [
           0.0060386277763327615
          ],
          [
           0.000029456720860159817
          ],
          [
           0.0005596776963430365
          ],
          [
           0.00008837016258047944
          ],
          [
           0.0001767403251609589
          ],
          [
           0.00026511048774143837
          ],
          [
           0.000029456720860159817
          ],
          [
           0.000029456720860159817
          ],
          [
           0.00029456720860159815
          ],
          [
           0.000029456720860159817
          ],
          [
           0.00008837016258047944
          ],
          [
           0.0002061970460211187
          ],
          [
           0.000058913441720319633
          ],
          [
           0.00023565376688127853
          ],
          [
           0.000029456720860159817
          ],
          [
           0.49390083866229956
          ],
          [
           0.000029456720860159817
          ],
          [
           0.000029456720860159817
          ],
          [
           0.00008837016258047944
          ],
          [
           0.000029456720860159817
          ],
          [
           0.000058913441720319633
          ],
          [
           0.000029456720860159817
          ],
          [
           0.005626233684290524
          ],
          [
           0.0018852301350502283
          ],
          [
           0.00159066292644863
          ],
          [
           0.0010015285092454336
          ],
          [
           0.000029456720860159817
          ],
          [
           0.19043770036093322
          ],
          [
           0.000029456720860159817
          ],
          [
           0.002533277993973744
          ],
          [
           0.000029456720860159817
          ],
          [
           0.0002061970460211187
          ],
          [
           0.0008247881840844748
          ],
          [
           0.000795331463224315
          ],
          [
           0.005596776963430365
          ],
          [
           0.0002061970460211187
          ],
          [
           0.00023565376688127853
          ],
          [
           0.0005596776963430365
          ],
          [
           0.00008837016258047944
          ],
          [
           0.00047130753376255707
          ],
          [
           0.0003534806503219178
          ],
          [
           0.000058913441720319633
          ],
          [
           0.00047130753376255707
          ],
          [
           0.000058913441720319633
          ],
          [
           0.000029456720860159817
          ],
          [
           0.00014728360430079908
          ],
          [
           0.00026511048774143837
          ],
          [
           0.005802974009451484
          ],
          [
           0.000029456720860159817
          ],
          [
           0.000029456720860159817
          ],
          [
           0.000029456720860159817
          ],
          [
           0.000058913441720319633
          ],
          [
           0.00480144550020605
          ],
          [
           0.002739475039994863
          ],
          [
           0.000029456720860159817
          ],
          [
           0.00011782688344063927
          ],
          [
           2.564796685294115
          ],
          [
           0.000029456720860159817
          ],
          [
           0.000029456720860159817
          ],
          [
           0.0008542449049446346
          ],
          [
           0.00044185081290239723
          ],
          [
           0.000029456720860159817
          ],
          [
           0.000058913441720319633
          ],
          [
           0.00008837016258047944
          ],
          [
           0.000029456720860159817
          ],
          [
           0.00023565376688127853
          ],
          [
           0.000058913441720319633
          ],
          [
           0.002032513739351027
          ],
          [
           0.00023565376688127853
          ],
          [
           0.000029456720860159817
          ],
          [
           0.000029456720860159817
          ],
          [
           0.000029456720860159817
          ],
          [
           0.000058913441720319633
          ],
          [
           0.0010898986718259132
          ],
          [
           0.00026511048774143837
          ],
          [
           0.0538763424532323
          ],
          [
           0.000029456720860159817
          ],
          [
           0.0027983884817151827
          ],
          [
           0.019647632813726595
          ],
          [
           0.000029456720860159817
          ],
          [
           0.0019441435767705477
          ],
          [
           0.000029456720860159817
          ],
          [
           0.00026511048774143837
          ],
          [
           0.000029456720860159817
          ],
          [
           0.0004123940920422374
          ],
          [
           0.00008837016258047944
          ],
          [
           0.00029456720860159815
          ],
          [
           0.0003829373711820776
          ],
          [
           0.008012228073963469
          ],
          [
           0.0002061970460211187
          ],
          [
           0.00008837016258047944
          ],
          [
           0.000058913441720319633
          ],
          [
           0.000029456720860159817
          ],
          [
           0.000029456720860159817
          ],
          [
           0.033551205059722033
          ],
          [
           0.0034169796197785385
          ],
          [
           0.005213839592248287
          ],
          [
           0.023948314059309923
          ],
          [
           0.000029456720860159817
          ],
          [
           0.06498152621751256
          ],
          [
           0.000029456720860159817
          ],
          [
           0.000648047858923516
          ],
          [
           0.000029456720860159817
          ],
          [
           0.00011782688344063927
          ],
          [
           0.0014433793221478308
          ],
          [
           0.00011782688344063927
          ],
          [
           0.000029456720860159817
          ],
          [
           0.000029456720860159817
          ],
          [
           0.000029456720860159817
          ],
          [
           0.000029456720860159817
          ],
          [
           0.00011782688344063927
          ],
          [
           0.0002061970460211187
          ],
          [
           0.000029456720860159817
          ],
          [
           0.018557734141900685
          ],
          [
           0.000029456720860159817
          ],
          [
           0.0008837016258047945
          ],
          [
           0.0007658747423641552
          ],
          [
           0.015376408289003421
          ],
          [
           0.0010309852301055935
          ],
          [
           0.000648047858923516
          ],
          [
           0.0870151534209121
          ],
          [
           0.000029456720860159817
          ],
          [
           0.0009426150675251141
          ],
          [
           0.00014728360430079908
          ],
          [
           0.0005596776963430365
          ],
          [
           0.00023565376688127853
          ],
          [
           0.033492291618001706
          ],
          [
           0.002827845202575342
          ],
          [
           0.0003534806503219178
          ],
          [
           0.0005596776963430365
          ],
          [
           0.0007658747423641552
          ],
          [
           0.00159066292644863
          ],
          [
           0.006657218914396118
          ],
          [
           0.000029456720860159817
          ],
          [
           0.020295680672650113
          ],
          [
           0.000029456720860159817
          ],
          [
           0.01257801980728824
          ],
          [
           0.21833321501550457
          ],
          [
           0.000029456720860159817
          ],
          [
           0.0022976242270924653
          ],
          [
           0.02403668422189041
          ],
          [
           0.0024154511105331047
          ],
          [
           0.00023565376688127853
          ],
          [
           0.00011782688344063927
          ],
          [
           0.008483535607726028
          ],
          [
           0.00014728360430079908
          ],
          [
           0.000648047858923516
          ],
          [
           0.00011782688344063927
          ],
          [
           0.000029456720860159817
          ],
          [
           0.0005891344172031963
          ],
          [
           0.10342254694002112
          ],
          [
           0.000029456720860159817
          ],
          [
           0.000029456720860159817
          ],
          [
           0.00014728360430079908
          ],
          [
           0.002592191435694064
          ],
          [
           0.0009131583466649542
          ],
          [
           0.00047130753376255707
          ],
          [
           0.07084341366868435
          ],
          [
           0.00008837016258047944
          ],
          [
           0.016849244332011414
          ],
          [
           0.00047130753376255707
          ],
          [
           0.000058913441720319633
          ],
          [
           0.00023565376688127853
          ],
          [
           0.009426150675251141
          ],
          [
           0.000324023929461758
          ],
          [
           0.000029456720860159817
          ],
          [
           0.000029456720860159817
          ],
          [
           0.00954397755869178
          ],
          [
           0.000029456720860159817
          ],
          [
           0.00011782688344063927
          ],
          [
           0.000029456720860159817
          ],
          [
           0.00011782688344063927
          ],
          [
           0.000029456720860159817
          ],
          [
           0.013343894549652395
          ],
          [
           0.011753231623203766
          ],
          [
           0.000029456720860159817
          ],
          [
           0.002061970460211187
          ],
          [
           0.0005007642546227168
          ],
          [
           0.000029456720860159817
          ],
          [
           0.01852827742104052
          ],
          [
           0.00008837016258047944
          ],
          [
           0.00011782688344063927
          ],
          [
           0.000029456720860159817
          ],
          [
           0.000058913441720319633
          ],
          [
           0.02877921628037614
          ],
          [
           0.010250938859335616
          ],
          [
           0.000029456720860159817
          ],
          [
           0.002710018319134703
          ],
          [
           0.000058913441720319633
          ],
          [
           0.00008837016258047944
          ],
          [
           0.000029456720860159817
          ],
          [
           0.000058913441720319633
          ],
          [
           0.000618591138063356
          ],
          [
           0.000029456720860159817
          ],
          [
           0.00486035894192637
          ],
          [
           0.00011782688344063927
          ],
          [
           0.00008837016258047944
          ],
          [
           0.0003534806503219178
          ],
          [
           0.00029456720860159815
          ],
          [
           0.0005302209754828767
          ],
          [
           0.00044185081290239723
          ],
          [
           0.000029456720860159817
          ],
          [
           0.00008837016258047944
          ],
          [
           0.002533277993973744
          ],
          [
           0.00008837016258047944
          ],
          [
           0.0001767403251609589
          ],
          [
           0.027866057933711184
          ],
          [
           0.000029456720860159817
          ],
          [
           0.00026511048774143837
          ],
          [
           0.00014728360430079908
          ],
          [
           0.00008837016258047944
          ],
          [
           0.0005302209754828767
          ],
          [
           0.0014728360430079908
          ],
          [
           0.000029456720860159817
          ],
          [
           0.004359594687303653
          ],
          [
           0.000029456720860159817
          ],
          [
           0.00014728360430079908
          ],
          [
           0.000029456720860159817
          ],
          [
           0.00008837016258047944
          ],
          [
           0.002592191435694064
          ],
          [
           0.0002061970460211187
          ],
          [
           0.00014728360430079908
          ],
          [
           0.00047130753376255707
          ],
          [
           0.000058913441720319633
          ],
          [
           0.000029456720860159817
          ],
          [
           0.011782688344063926
          ],
          [
           0.00008837016258047944
          ],
          [
           0.05808865353623515
          ],
          [
           0.000029456720860159817
          ],
          [
           0.000618591138063356
          ],
          [
           0.000029456720860159817
          ],
          [
           0.0005302209754828767
          ],
          [
           0.000029456720860159817
          ],
          [
           0.00008837016258047944
          ],
          [
           0.000029456720860159817
          ],
          [
           0.1954158861863002
          ],
          [
           0.000029456720860159817
          ],
          [
           0.000029456720860159817
          ],
          [
           0.002032513739351027
          ],
          [
           0.0013844658804275111
          ],
          [
           0.0013844658804275111
          ],
          [
           0.0001767403251609589
          ],
          [
           0.00014728360430079908
          ],
          [
           0.000029456720860159817
          ],
          [
           0.00044185081290239723
          ],
          [
           0.00011782688344063927
          ],
          [
           0.000029456720860159817
          ],
          [
           0.000029456720860159817
          ],
          [
           0.000029456720860159817
          ],
          [
           0.000058913441720319633
          ],
          [
           30.15979387365011
          ],
          [
           0.00029456720860159815
          ],
          [
           0.000058913441720319633
          ],
          [
           0.000029456720860159817
          ],
          [
           0.005714603846871005
          ],
          [
           0.000029456720860159817
          ],
          [
           0.000029456720860159817
          ],
          [
           0.000029456720860159817
          ],
          [
           0.0016201196473087896
          ],
          [
           0.0016495763681689496
          ],
          [
           0.00047130753376255707
          ],
          [
           0.00029456720860159815
          ],
          [
           0.0008837016258047945
          ],
          [
           0.0002061970460211187
          ],
          [
           0.0037410035492402966
          ],
          [
           0.0006775045797836757
          ],
          [
           0.000029456720860159817
          ],
          [
           0.000058913441720319633
          ],
          [
           0.00011782688344063927
          ],
          [
           0.002120883901931507
          ],
          [
           0.0015612062055884702
          ],
          [
           0.04942837760334818
          ],
          [
           0.00014728360430079908
          ],
          [
           0.0009426150675251141
          ],
          [
           0.000058913441720319633
          ],
          [
           0.000058913441720319633
          ],
          [
           0.004035570757841895
          ],
          [
           0.0028867586442956616
          ],
          [
           0.000029456720860159817
          ],
          [
           0.00008837016258047944
          ],
          [
           0.00014728360430079908
          ],
          [
           0.00014728360430079908
          ],
          [
           0.017114354819752854
          ],
          [
           0.006598305472675798
          ],
          [
           0.000029456720860159817
          ],
          [
           0.00011782688344063927
          ],
          [
           0.000029456720860159817
          ],
          [
           7.836194710103155
          ],
          [
           0.000029456720860159817
          ],
          [
           0.004389051408163812
          ],
          [
           0.000795331463224315
          ],
          [
           0.001914686855910388
          ],
          [
           0.0032107825737574197
          ],
          [
           0.000029456720860159817
          ],
          [
           0.00011782688344063927
          ],
          [
           0.005891344172031963
          ],
          [
           0.000029456720860159817
          ],
          [
           0.0010309852301055935
          ],
          [
           0.022563848178882417
          ],
          [
           0.0001767403251609589
          ],
          [
           0.040591361345300225
          ],
          [
           0.00023565376688127853
          ],
          [
           0.06227150789837784
          ],
          [
           0.000029456720860159817
          ],
          [
           0.000648047858923516
          ],
          [
           0.000029456720860159817
          ],
          [
           0.00008837016258047944
          ],
          [
           0.0007364180215039954
          ],
          [
           0.0016495763681689496
          ],
          [
           0.000029456720860159817
          ],
          [
           0.0009131583466649542
          ],
          [
           0.00014728360430079908
          ],
          [
           0.007040156285578195
          ],
          [
           0.0042123110830028536
          ],
          [
           0.000029456720860159817
          ],
          [
           0.0003534806503219178
          ],
          [
           0.02406614094275057
          ],
          [
           0.0005302209754828767
          ],
          [
           0.008630819212026826
          ],
          [
           0.000029456720860159817
          ],
          [
           0.00008837016258047944
          ],
          [
           0.0013844658804275111
          ],
          [
           0.000029456720860159817
          ],
          [
           0.0017379465307494292
          ],
          [
           0.000029456720860159817
          ],
          [
           0.000029456720860159817
          ],
          [
           0.0010898986718259132
          ],
          [
           0.0047130753376255705
          ],
          [
           0.0011488121135462327
          ],
          [
           0.00026511048774143837
          ],
          [
           0.000058913441720319633
          ],
          [
           0.0009720717883852739
          ],
          [
           0.0007069613006438355
          ],
          [
           0.0035053497823590175
          ],
          [
           0.000029456720860159817
          ],
          [
           0.000058913441720319633
          ],
          [
           0.000029456720860159817
          ],
          [
           0.003534806503219178
          ],
          [
           0.010162568696755137
          ],
          [
           0.000029456720860159817
          ],
          [
           0.0010309852301055935
          ],
          [
           0.000058913441720319633
          ],
          [
           0.00008837016258047944
          ],
          [
           0.013638461758253994
          ],
          [
           0.000029456720860159817
          ],
          [
           0.033050440805099314
          ],
          [
           0.000029456720860159817
          ],
          [
           0.0002061970460211187
          ],
          [
           0.0003534806503219178
          ],
          [
           0.0003534806503219178
          ],
          [
           0.002533277993973744
          ],
          [
           0.003328609457198059
          ],
          [
           0.00023565376688127853
          ],
          [
           0.002003057018490867
          ],
          [
           0.026452135332423514
          ],
          [
           0.1041589649615251
          ],
          [
           0.000029456720860159817
          ],
          [
           0.0008837016258047945
          ],
          [
           0.0010898986718259132
          ],
          [
           0.015258581405562785
          ],
          [
           0.000029456720860159817
          ],
          [
           0.009573434279551941
          ],
          [
           0.0006775045797836757
          ],
          [
           0.000029456720860159817
          ],
          [
           0.000058913441720319633
          ],
          [
           0.03608448305369577
          ],
          [
           0.00159066292644863
          ],
          [
           0.000029456720860159817
          ],
          [
           0.022976242270924655
          ],
          [
           0.1983615582723162
          ],
          [
           0.000029456720860159817
          ],
          [
           0.000058913441720319633
          ],
          [
           0.00008837016258047944
          ],
          [
           0.00026511048774143837
          ],
          [
           0.09305378119724485
          ],
          [
           0.000029456720860159817
          ],
          [
           0.0002061970460211187
          ],
          [
           0.00014728360430079908
          ],
          [
           0.01570043221846518
          ],
          [
           0.003446436340638698
          ],
          [
           0.001119355392686073
          ],
          [
           0.004889815662786529
          ],
          [
           0.02041350755609075
          ],
          [
           0.000058913441720319633
          ],
          [
           0.000029456720860159817
          ],
          [
           1.7423061254367327
          ],
          [
           0.000058913441720319633
          ],
          [
           0.000029456720860159817
          ],
          [
           0.03154814804123116
          ],
          [
           0.0023565376688127852
          ],
          [
           0.006274281543214041
          ],
          [
           0.0010015285092454336
          ],
          [
           0.00008837016258047944
          ],
          [
           0.0004123940920422374
          ],
          [
           0.000058913441720319633
          ],
          [
           0.00636265170579452
          ],
          [
           0.0002061970460211187
          ],
          [
           0.000029456720860159817
          ],
          [
           0.0004123940920422374
          ],
          [
           0.000029456720860159817
          ],
          [
           0.00008837016258047944
          ],
          [
           0.001237182276126712
          ],
          [
           0.00011782688344063927
          ],
          [
           0.032520219829616434
          ],
          [
           0.000029456720860159817
          ],
          [
           0.000029456720860159817
          ],
          [
           0.0026511048774143834
          ],
          [
           0.0029162153651558216
          ],
          [
           7.062366653106757
          ],
          [
           0.000029456720860159817
          ],
          [
           0.000029456720860159817
          ],
          [
           0.0019441435767705477
          ],
          [
           0.000058913441720319633
          ],
          [
           0.013991942408575911
          ],
          [
           0.000058913441720319633
          ],
          [
           0.000058913441720319633
          ],
          [
           0.000029456720860159817
          ],
          [
           0.0032107825737574197
          ],
          [
           0.000029456720860159817
          ],
          [
           0.000029456720860159817
          ],
          [
           0.000029456720860159817
          ],
          [
           0.3124474381637152
          ],
          [
           0.000029456720860159817
          ],
          [
           0.000058913441720319633
          ],
          [
           0.006568848751815639
          ],
          [
           0.000029456720860159817
          ],
          [
           0.00011782688344063927
          ],
          [
           0.00011782688344063927
          ],
          [
           0.000618591138063356
          ],
          [
           0.000058913441720319633
          ],
          [
           0.001914686855910388
          ],
          [
           0.000029456720860159817
          ],
          [
           0.002385994389672945
          ],
          [
           0.00636265170579452
          ],
          [
           0.007747117586222031
          ],
          [
           0.0024154511105331047
          ],
          [
           0.00011782688344063927
          ],
          [
           0.0004123940920422374
          ],
          [
           0.00011782688344063927
          ],
          [
           0.000029456720860159817
          ],
          [
           0.000029456720860159817
          ],
          [
           0.000058913441720319633
          ],
          [
           0.000058913441720319633
          ],
          [
           0.0002061970460211187
          ],
          [
           0.000029456720860159817
          ],
          [
           0.000029456720860159817
          ],
          [
           0.000029456720860159817
          ],
          [
           0.00008837016258047944
          ],
          [
           0.00008837016258047944
          ],
          [
           0.0001767403251609589
          ],
          [
           0.000058913441720319633
          ],
          [
           0.004359594687303653
          ],
          [
           0.000029456720860159817
          ],
          [
           0.0046541618959052514
          ],
          [
           0.000029456720860159817
          ],
          [
           0.002710018319134703
          ],
          [
           0.001767403251609589
          ],
          [
           0.00008837016258047944
          ],
          [
           0.0003829373711820776
          ],
          [
           0.00011782688344063927
          ],
          [
           0.000029456720860159817
          ],
          [
           0.00023565376688127853
          ],
          [
           0.00011782688344063927
          ],
          [
           0.000029456720860159817
          ],
          [
           0.000029456720860159817
          ],
          [
           0.000029456720860159817
          ],
          [
           0.0008837016258047945
          ],
          [
           0.0006775045797836757
          ],
          [
           0.00044185081290239723
          ],
          [
           0.019706546255446915
          ],
          [
           0.000058913441720319633
          ],
          [
           0.0016495763681689496
          ],
          [
           0.000029456720860159817
          ],
          [
           0.00011782688344063927
          ],
          [
           0.000058913441720319633
          ],
          [
           0.00008837016258047944
          ],
          [
           0.013756288641694633
          ],
          [
           0.000029456720860159817
          ],
          [
           0.02486147240597488
          ],
          [
           0.0003534806503219178
          ],
          [
           0.001296095717847032
          ],
          [
           0.000029456720860159817
          ],
          [
           0.000324023929461758
          ],
          [
           0.000029456720860159817
          ],
          [
           0.000029456720860159817
          ],
          [
           0.0003534806503219178
          ],
          [
           0.000029456720860159817
          ],
          [
           0.00047130753376255707
          ],
          [
           0.000029456720860159817
          ],
          [
           0.024920385847695205
          ],
          [
           0.000029456720860159817
          ],
          [
           0.0010898986718259132
          ],
          [
           0.001119355392686073
          ],
          [
           0.0411215823207831
          ],
          [
           0.000029456720860159817
          ],
          [
           0.000029456720860159817
          ],
          [
           0.00029456720860159815
          ],
          [
           0.00011782688344063927
          ],
          [
           0.000058913441720319633
          ],
          [
           0.000029456720860159817
          ],
          [
           0.000058913441720319633
          ],
          [
           0.000324023929461758
          ],
          [
           0.000058913441720319633
          ],
          [
           0.0003829373711820776
          ],
          [
           0.00044185081290239723
          ],
          [
           0.001266638996986872
          ],
          [
           0.000058913441720319633
          ],
          [
           0.00011782688344063927
          ],
          [
           0.000324023929461758
          ],
          [
           0.00014728360430079908
          ],
          [
           0.006686675635256278
          ],
          [
           0.0007364180215039954
          ],
          [
           0.0014433793221478308
          ],
          [
           0.00008837016258047944
          ],
          [
           0.02047242099781107
          ],
          [
           0.000324023929461758
          ],
          [
           0.05531972177538013
          ],
          [
           0.000029456720860159817
          ],
          [
           0.0004123940920422374
          ],
          [
           0.0005302209754828767
          ],
          [
           0.0007364180215039954
          ],
          [
           0.0007364180215039954
          ],
          [
           0.000029456720860159817
          ],
          [
           0.0009426150675251141
          ],
          [
           0.0007658747423641552
          ],
          [
           0.000058913441720319633
          ],
          [
           0.00014728360430079908
          ],
          [
           0.00008837016258047944
          ],
          [
           0.002562734714833904
          ],
          [
           0.0001767403251609589
          ],
          [
           0.00011782688344063927
          ],
          [
           0.0005302209754828767
          ],
          [
           0.000029456720860159817
          ],
          [
           0.27851329573281103
          ],
          [
           0.002003057018490867
          ],
          [
           0.000029456720860159817
          ],
          [
           0.002003057018490867
          ],
          [
           0.005272753033968606
          ],
          [
           0.000029456720860159817
          ],
          [
           0.000029456720860159817
          ],
          [
           0.000029456720860159817
          ],
          [
           0.000029456720860159817
          ],
          [
           0.0004123940920422374
          ],
          [
           0.00014728360430079908
          ],
          [
           0.000029456720860159817
          ],
          [
           0.005537863521710045
          ],
          [
           0.000029456720860159817
          ],
          [
           0.000029456720860159817
          ],
          [
           0.00014728360430079908
          ],
          [
           0.00014728360430079908
          ],
          [
           0.0060386277763327615
          ],
          [
           0.0001767403251609589
          ],
          [
           0.000029456720860159817
          ],
          [
           0.000029456720860159817
          ],
          [
           0.000058913441720319633
          ],
          [
           0.0005891344172031963
          ],
          [
           0.00011782688344063927
          ],
          [
           0.000324023929461758
          ],
          [
           0.04633542191303139
          ],
          [
           0.000029456720860159817
          ],
          [
           0.000029456720860159817
          ],
          [
           0.000029456720860159817
          ],
          [
           0.00008837016258047944
          ],
          [
           0.000029456720860159817
          ],
          [
           0.0029456720860159815
          ],
          [
           0.000029456720860159817
          ],
          [
           0.000029456720860159817
          ],
          [
           0.003299152736337899
          ],
          [
           0.025627347148339037
          ],
          [
           0.00011782688344063927
          ],
          [
           0.000029456720860159817
          ],
          [
           0.000029456720860159817
          ],
          [
           0.0004123940920422374
          ],
          [
           0.001266638996986872
          ],
          [
           0.000029456720860159817
          ],
          [
           0.000324023929461758
          ],
          [
           0.00047130753376255707
          ],
          [
           0.000029456720860159817
          ],
          [
           0.020325137393510273
          ],
          [
           0.0008542449049446346
          ],
          [
           0.00011782688344063927
          ],
          [
           0.010516049347077054
          ],
          [
           0.000029456720860159817
          ],
          [
           0.0008837016258047945
          ],
          [
           0.002592191435694064
          ],
          [
           0.001237182276126712
          ],
          [
           0.005125469429667808
          ],
          [
           0.002592191435694064
          ],
          [
           0.003328609457198059
          ],
          [
           0.000029456720860159817
          ],
          [
           0.00023565376688127853
          ],
          [
           0.2323840708658008
          ],
          [
           0.000029456720860159817
          ],
          [
           0.000029456720860159817
          ],
          [
           0.003799916990960616
          ],
          [
           0.000058913441720319633
          ],
          [
           0.000029456720860159817
          ],
          [
           0.007128526448158676
          ],
          [
           0.001119355392686073
          ],
          [
           0.0008542449049446346
          ],
          [
           0.000648047858923516
          ],
          [
           0.0017084898098892692
          ],
          [
           0.0001767403251609589
          ],
          [
           0.000058913441720319633
          ],
          [
           0.0001767403251609589
          ],
          [
           0.000058913441720319633
          ],
          [
           0.0046541618959052514
          ],
          [
           0.000029456720860159817
          ],
          [
           0.000029456720860159817
          ],
          [
           0.002268167506232306
          ],
          [
           0.000029456720860159817
          ],
          [
           0.000058913441720319633
          ],
          [
           0.000029456720860159817
          ],
          [
           0.0018557734141900681
          ],
          [
           0.000029456720860159817
          ],
          [
           0.00008837016258047944
          ],
          [
           0.004065027478702054
          ],
          [
           0.0014728360430079908
          ],
          [
           0.22057192580087667
          ],
          [
           0.0008247881840844748
          ],
          [
           0.000029456720860159817
          ],
          [
           0.0003829373711820776
          ],
          [
           0.011547034577182647
          ],
          [
           0.0007658747423641552
          ],
          [
           0.01614228303136758
          ],
          [
           0.001119355392686073
          ],
          [
           0.00029456720860159815
          ],
          [
           0.05967931646268378
          ],
          [
           0.013638461758253994
          ],
          [
           0.0016495763681689496
          ],
          [
           0.000795331463224315
          ],
          [
           0.000058913441720319633
          ],
          [
           0.00008837016258047944
          ],
          [
           0.000029456720860159817
          ],
          [
           0.000618591138063356
          ],
          [
           0.000029456720860159817
          ],
          [
           0.0008837016258047945
          ],
          [
           0.000029456720860159817
          ],
          [
           0.000058913441720319633
          ],
          [
           0.000029456720860159817
          ],
          [
           0.0008837016258047945
          ],
          [
           0.000029456720860159817
          ],
          [
           0.00008837016258047944
          ],
          [
           0.0006775045797836757
          ],
          [
           0.00008837016258047944
          ],
          [
           0.0019736002976307077
          ],
          [
           0.5919622624057717
          ],
          [
           0.000029456720860159817
          ],
          [
           0.000029456720860159817
          ],
          [
           0.00029456720860159815
          ],
          [
           0.0003829373711820776
          ],
          [
           0.07013645236804052
          ],
          [
           0.2794853675211963
          ],
          [
           0.000029456720860159817
          ],
          [
           0.0010309852301055935
          ],
          [
           0.0018557734141900681
          ],
          [
           0.002503821273113584
          ],
          [
           0.0038588304326809355
          ],
          [
           0.000029456720860159817
          ],
          [
           0.000029456720860159817
          ],
          [
           0.000029456720860159817
          ],
          [
           0.0011488121135462327
          ],
          [
           0.005567320242570204
          ],
          [
           0.000029456720860159817
          ],
          [
           0.00023565376688127853
          ],
          [
           0.0004123940920422374
          ],
          [
           0.4613806188326831
          ],
          [
           0.0003829373711820776
          ],
          [
           0.00023565376688127853
          ],
          [
           0.000029456720860159817
          ],
          [
           0.009956371650734017
          ],
          [
           0.0005302209754828767
          ],
          [
           0.000058913441720319633
          ],
          [
           0.000058913441720319633
          ],
          [
           0.001914686855910388
          ],
          [
           0.000029456720860159817
          ],
          [
           0.00026511048774143837
          ],
          [
           0.000029456720860159817
          ],
          [
           0.00008837016258047944
          ],
          [
           0.000029456720860159817
          ],
          [
           0.00008837016258047944
          ],
          [
           0.000029456720860159817
          ],
          [
           0.23421038755913068
          ],
          [
           0.000029456720860159817
          ],
          [
           0.001119355392686073
          ],
          [
           0.00023565376688127853
          ],
          [
           0.000058913441720319633
          ],
          [
           0.000029456720860159817
          ],
          [
           0.0018263166933299084
          ],
          [
           0.000029456720860159817
          ],
          [
           0.00011782688344063927
          ],
          [
           0.000029456720860159817
          ],
          [
           0.000029456720860159817
          ],
          [
           0.000029456720860159817
          ],
          [
           0.00159066292644863
          ],
          [
           0.00023565376688127853
          ],
          [
           0.001119355392686073
          ],
          [
           0.000029456720860159817
          ],
          [
           0.000058913441720319633
          ],
          [
           0.000029456720860159817
          ],
          [
           0.00008837016258047944
          ],
          [
           0.0008247881840844748
          ],
          [
           0.04268278852637157
          ],
          [
           0.0018557734141900681
          ],
          [
           0.00008837016258047944
          ],
          [
           0.009219953629230022
          ],
          [
           0.000029456720860159817
          ],
          [
           0.000058913441720319633
          ],
          [
           0.0005596776963430365
          ],
          [
           0.0021797973436518264
          ],
          [
           0.003917743874401255
          ],
          [
           0.000029456720860159817
          ],
          [
           0.000029456720860159817
          ],
          [
           0.0010015285092454336
          ],
          [
           0.000029456720860159817
          ],
          [
           0.000029456720860159817
          ],
          [
           0.000029456720860159817
          ],
          [
           0.012047798831805364
          ],
          [
           0.0007658747423641552
          ],
          [
           0.01587717254362614
          ],
          [
           0.00014728360430079908
          ],
          [
           0.008247881840844748
          ],
          [
           0.006126997938913242
          ],
          [
           0.000029456720860159817
          ],
          [
           0.016613590565130135
          ],
          [
           0.000029456720860159817
          ],
          [
           0.002562734714833904
          ],
          [
           0.000029456720860159817
          ],
          [
           0.00008837016258047944
          ],
          [
           0.018705017746201483
          ],
          [
           0.000029456720860159817
          ],
          [
           0.000029456720860159817
          ],
          [
           0.002385994389672945
          ],
          [
           0.03917743874401255
          ],
          [
           0.000029456720860159817
          ],
          [
           0.00008837016258047944
          ],
          [
           0.005390579917409246
          ],
          [
           0.00008837016258047944
          ],
          [
           0.09275921398864326
          ],
          [
           0.000029456720860159817
          ],
          [
           0.0001767403251609589
          ],
          [
           0.003799916990960616
          ],
          [
           0.04954620448678881
          ],
          [
           0.0023565376688127852
          ],
          [
           0.000029456720860159817
          ],
          [
           0.000029456720860159817
          ],
          [
           0.38603032687239436
          ],
          [
           0.000029456720860159817
          ],
          [
           0.000029456720860159817
          ],
          [
           0.000029456720860159817
          ],
          [
           0.000029456720860159817
          ],
          [
           0.0008247881840844748
          ],
          [
           0.0018852301350502283
          ],
          [
           0.002827845202575342
          ],
          [
           0.000029456720860159817
          ],
          [
           0.0017084898098892692
          ],
          [
           0.0002061970460211187
          ],
          [
           0.00023565376688127853
          ],
          [
           0.26531668478745946
          ],
          [
           0.000029456720860159817
          ],
          [
           0.00008837016258047944
          ],
          [
           0.00014728360430079908
          ],
          [
           0.000029456720860159817
          ],
          [
           0.00029456720860159815
          ],
          [
           0.0005007642546227168
          ],
          [
           0.00008837016258047944
          ],
          [
           0.000029456720860159817
          ],
          [
           0.00008837016258047944
          ],
          [
           0.000029456720860159817
          ],
          [
           0.0008247881840844748
          ],
          [
           0.05649799060978652
          ],
          [
           0.07202168250309075
          ],
          [
           0.000029456720860159817
          ],
          [
           0.000029456720860159817
          ],
          [
           0.00023565376688127853
          ],
          [
           0.00023565376688127853
          ],
          [
           0.004153397641282534
          ],
          [
           0.0005007642546227168
          ],
          [
           0.015199667963842464
          ],
          [
           0.03685035779605993
          ],
          [
           0.000058913441720319633
          ],
          [
           0.001413922601287671
          ],
          [
           0.000029456720860159817
          ],
          [
           0.000029456720860159817
          ],
          [
           0.0002061970460211187
          ],
          [
           0.000029456720860159817
          ],
          [
           0.000029456720860159817
          ],
          [
           0.0001767403251609589
          ],
          [
           0.000029456720860159817
          ],
          [
           0.000029456720860159817
          ],
          [
           0.021503406227916664
          ],
          [
           0.0004123940920422374
          ],
          [
           0.003446436340638698
          ],
          [
           0.0005596776963430365
          ],
          [
           0.00044185081290239723
          ],
          [
           0.000029456720860159817
          ],
          [
           0.000029456720860159817
          ],
          [
           0.0005596776963430365
          ],
          [
           0.000058913441720319633
          ],
          [
           0.000058913441720319633
          ],
          [
           0.00011782688344063927
          ],
          [
           0.000029456720860159817
          ],
          [
           0.000029456720860159817
          ],
          [
           0.000058913441720319633
          ],
          [
           0.0005891344172031963
          ],
          [
           0.00008837016258047944
          ],
          [
           0.000029456720860159817
          ],
          [
           0.000029456720860159817
          ],
          [
           0.08012228073963469
          ],
          [
           0.00023565376688127853
          ],
          [
           0.000795331463224315
          ],
          [
           0.00008837016258047944
          ],
          [
           0.000058913441720319633
          ],
          [
           0.0005596776963430365
          ],
          [
           0.000029456720860159817
          ],
          [
           0.21638907143873404
          ],
          [
           0.000029456720860159817
          ],
          [
           0.000029456720860159817
          ],
          [
           0.001266638996986872
          ],
          [
           0.02542115010231792
          ],
          [
           0.0009131583466649542
          ],
          [
           0.0003829373711820776
          ],
          [
           0.000029456720860159817
          ],
          [
           0.009190496908369861
          ],
          [
           0.00491927238364669
          ],
          [
           0.000029456720860159817
          ],
          [
           0.0019736002976307077
          ],
          [
           0.000029456720860159817
          ],
          [
           0.0011782688344063926
          ],
          [
           0.000058913441720319633
          ],
          [
           0.0013844658804275111
          ],
          [
           0.0013255524387071917
          ],
          [
           0.0027983884817151827
          ],
          [
           0.0024154511105331047
          ],
          [
           0.00011782688344063927
          ],
          [
           0.0008247881840844748
          ],
          [
           0.000324023929461758
          ],
          [
           0.0026216481565542234
          ],
          [
           0.003034042248596461
          ],
          [
           0.3906255753265793
          ],
          [
           0.000029456720860159817
          ],
          [
           0.000029456720860159817
          ],
          [
           0.0016495763681689496
          ],
          [
           0.0005302209754828767
          ],
          [
           0.0013550091595673514
          ],
          [
           0.000058913441720319633
          ],
          [
           0.000058913441720319633
          ],
          [
           0.000058913441720319633
          ],
          [
           0.00014728360430079908
          ],
          [
           0.0007069613006438355
          ],
          [
           0.000029456720860159817
          ],
          [
           0.000795331463224315
          ],
          [
           0.000029456720860159817
          ],
          [
           0.002710018319134703
          ],
          [
           0.04029679413669863
          ],
          [
           0.0005007642546227168
          ],
          [
           0.00008837016258047944
          ],
          [
           0.000324023929461758
          ],
          [
           0.0005302209754828767
          ],
          [
           0.002120883901931507
          ],
          [
           0.0003534806503219178
          ],
          [
           0.000029456720860159817
          ],
          [
           0.000058913441720319633
          ],
          [
           0.00029456720860159815
          ],
          [
           0.000029456720860159817
          ],
          [
           0.000029456720860159817
          ],
          [
           0.0002061970460211187
          ],
          [
           0.000029456720860159817
          ],
          [
           0.000058913441720319633
          ],
          [
           0.000029456720860159817
          ],
          [
           0.0005302209754828767
          ],
          [
           0.00011782688344063927
          ],
          [
           0.000058913441720319633
          ],
          [
           0.000058913441720319633
          ],
          [
           0.000029456720860159817
          ],
          [
           0.000058913441720319633
          ],
          [
           0.00026511048774143837
          ],
          [
           0.000029456720860159817
          ],
          [
           0.000058913441720319633
          ],
          [
           0.143954994843601
          ],
          [
           0.0008542449049446346
          ],
          [
           0.00011782688344063927
          ],
          [
           0.000058913441720319633
          ],
          [
           0.000058913441720319633
          ],
          [
           0.000058913441720319633
          ],
          [
           0.0008247881840844748
          ],
          [
           0.0001767403251609589
          ],
          [
           0.000324023929461758
          ],
          [
           0.07325886477921746
          ],
          [
           0.02671724582016495
          ],
          [
           0.04409671112765924
          ],
          [
           0.000029456720860159817
          ],
          [
           0.002238710785372146
          ],
          [
           0.0007364180215039954
          ],
          [
           0.00008837016258047944
          ],
          [
           0.000029456720860159817
          ],
          [
           0.0010015285092454336
          ],
          [
           0.015582605335024542
          ],
          [
           0.00014728360430079908
          ],
          [
           0.008571905770306506
          ],
          [
           0.000029456720860159817
          ],
          [
           0.0005596776963430365
          ],
          [
           0.000618591138063356
          ],
          [
           0.12209810796536243
          ],
          [
           0.000029456720860159817
          ],
          [
           0.00159066292644863
          ],
          [
           0.00011782688344063927
          ],
          [
           0.00011782688344063927
          ],
          [
           0.0001767403251609589
          ],
          [
           0.0008247881840844748
          ],
          [
           0.00948506411697146
          ],
          [
           0.00008837016258047944
          ],
          [
           0.000029456720860159817
          ],
          [
           0.00014728360430079908
          ],
          [
           0.00014728360430079908
          ],
          [
           0.000029456720860159817
          ],
          [
           0.03888287153541096
          ],
          [
           0.0012077255552665523
          ],
          [
           0.0007658747423641552
          ],
          [
           0.030634989694566208
          ],
          [
           0.000029456720860159817
          ],
          [
           0.005478950079989726
          ],
          [
           0.000029456720860159817
          ],
          [
           0.02073753148555251
          ],
          [
           0.0002061970460211187
          ],
          [
           0.0007069613006438355
          ],
          [
           0.0005596776963430365
          ],
          [
           0.0001767403251609589
          ],
          [
           0.001767403251609589
          ],
          [
           0.002032513739351027
          ],
          [
           0.0003829373711820776
          ],
          [
           0.0024154511105331047
          ],
          [
           0.000029456720860159817
          ],
          [
           0.000029456720860159817
          ],
          [
           0.000029456720860159817
          ],
          [
           0.12952120162212272
          ],
          [
           0.000029456720860159817
          ],
          [
           0.000029456720860159817
          ],
          [
           0.009161040187509703
          ],
          [
           0.0019736002976307077
          ],
          [
           0.00014728360430079908
          ],
          [
           0.000029456720860159817
          ],
          [
           8.987923039014543
          ],
          [
           0.000029456720860159817
          ],
          [
           0.00026511048774143837
          ],
          [
           0.004359594687303653
          ],
          [
           0.0002061970460211187
          ],
          [
           0.000029456720860159817
          ],
          [
           0.0012077255552665523
          ],
          [
           0.000029456720860159817
          ],
          [
           0.000029456720860159817
          ],
          [
           0.0010309852301055935
          ],
          [
           0.0019736002976307077
          ],
          [
           0.0003829373711820776
          ],
          [
           0.004948729104506848
          ],
          [
           0.000058913441720319633
          ],
          [
           0.0002061970460211187
          ],
          [
           0.000029456720860159817
          ],
          [
           0.00008837016258047944
          ],
          [
           0.00008837016258047944
          ],
          [
           0.000058913441720319633
          ],
          [
           0.0001767403251609589
          ],
          [
           0.000324023929461758
          ],
          [
           0.00008837016258047944
          ],
          [
           0.00023565376688127853
          ],
          [
           0.0010015285092454336
          ],
          [
           0.000029456720860159817
          ],
          [
           0.000029456720860159817
          ],
          [
           0.001413922601287671
          ],
          [
           0.000029456720860159817
          ],
          [
           0.000029456720860159817
          ],
          [
           0.000029456720860159817
          ],
          [
           0.0003829373711820776
          ],
          [
           0.004624705175045091
          ],
          [
           0.000029456720860159817
          ],
          [
           0.001413922601287671
          ],
          [
           0.004094484199562215
          ],
          [
           0.007334723494179794
          ],
          [
           0.000029456720860159817
          ],
          [
           0.000058913441720319633
          ],
          [
           0.0002061970460211187
          ],
          [
           0.0008247881840844748
          ],
          [
           0.000058913441720319633
          ],
          [
           0.0001767403251609589
          ],
          [
           0.000029456720860159817
          ],
          [
           0.23197167677375852
          ],
          [
           0.000029456720860159817
          ],
          [
           2.6566132842152332
          ],
          [
           0.000029456720860159817
          ],
          [
           0.000029456720860159817
          ],
          [
           0.0005596776963430365
          ],
          [
           0.002268167506232306
          ],
          [
           0.0007658747423641552
          ],
          [
           0.00029456720860159815
          ],
          [
           0.000058913441720319633
          ],
          [
           0.0001767403251609589
          ],
          [
           0.0001767403251609589
          ],
          [
           0.000029456720860159817
          ],
          [
           0.002061970460211187
          ],
          [
           0.0003829373711820776
          ],
          [
           0.00044185081290239723
          ],
          [
           0.00029456720860159815
          ],
          [
           0.0017084898098892692
          ],
          [
           0.0002061970460211187
          ],
          [
           0.000058913441720319633
          ],
          [
           0.0003534806503219178
          ],
          [
           0.000029456720860159817
          ],
          [
           0.01116409720600057
          ],
          [
           0.000029456720860159817
          ],
          [
           0.00026511048774143837
          ],
          [
           0.00014728360430079908
          ],
          [
           0.0009426150675251141
          ],
          [
           0.000618591138063356
          ],
          [
           0.000029456720860159817
          ],
          [
           0.000029456720860159817
          ],
          [
           0.000058913441720319633
          ],
          [
           0.0002061970460211187
          ],
          [
           0.00026511048774143837
          ],
          [
           0.000029456720860159817
          ],
          [
           0.000029456720860159817
          ],
          [
           0.0013255524387071917
          ],
          [
           0.016554677123409814
          ],
          [
           0.13865278508877224
          ],
          [
           0.000029456720860159817
          ],
          [
           0.00008837016258047944
          ],
          [
           0.000029456720860159817
          ],
          [
           0.00011782688344063927
          ],
          [
           0.001413922601287671
          ],
          [
           0.00011782688344063927
          ],
          [
           0.06265444526955992
          ],
          [
           0.001119355392686073
          ],
          [
           0.00008837016258047944
          ],
          [
           0.000029456720860159817
          ],
          [
           0.000029456720860159817
          ],
          [
           0.01593608598534646
          ],
          [
           0.0013550091595673514
          ],
          [
           0.000029456720860159817
          ],
          [
           0.024301794709631848
          ],
          [
           0.000029456720860159817
          ],
          [
           0.00621536810149372
          ],
          [
           0.000648047858923516
          ],
          [
           0.005950257613752282
          ],
          [
           0.0005007642546227168
          ],
          [
           0.0024449078313932646
          ],
          [
           0.0001767403251609589
          ],
          [
           0.000029456720860159817
          ],
          [
           0.00011782688344063927
          ],
          [
           0.000029456720860159817
          ],
          [
           0.051284151017538235
          ],
          [
           0.000029456720860159817
          ],
          [
           0.000029456720860159817
          ],
          [
           0.0005302209754828767
          ],
          [
           0.0001767403251609589
          ],
          [
           0.00011782688344063927
          ],
          [
           0.03472947389412842
          ],
          [
           0.000029456720860159817
          ],
          [
           0.000324023929461758
          ],
          [
           0.00014728360430079908
          ],
          [
           0.00014728360430079908
          ],
          [
           0.00008837016258047944
          ],
          [
           0.002120883901931507
          ],
          [
           0.0003534806503219178
          ],
          [
           0.0009720717883852739
          ],
          [
           0.000029456720860159817
          ],
          [
           0.002562734714833904
          ],
          [
           0.0007658747423641552
          ],
          [
           0.0003534806503219178
          ],
          [
           0.00044185081290239723
          ],
          [
           0.010427679184496575
          ],
          [
           0.00011782688344063927
          ],
          [
           0.000058913441720319633
          ],
          [
           0.000029456720860159817
          ],
          [
           0.000058913441720319633
          ],
          [
           0.002032513739351027
          ],
          [
           0.00011782688344063927
          ],
          [
           0.00023565376688127853
          ],
          [
           0.00047130753376255707
          ],
          [
           0.000058913441720319633
          ],
          [
           0.00008837016258047944
          ],
          [
           0.0002061970460211187
          ],
          [
           0.0004123940920422374
          ],
          [
           0.00044185081290239723
          ],
          [
           0.00011782688344063927
          ],
          [
           0.034405449964666664
          ],
          [
           0.000029456720860159817
          ],
          [
           0.0002061970460211187
          ],
          [
           0.0005596776963430365
          ],
          [
           0.004506878291604452
          ],
          [
           0.0003829373711820776
          ],
          [
           0.0016495763681689496
          ],
          [
           0.00008837016258047944
          ],
          [
           0.04118049576250342
          ],
          [
           3.285160793929323
          ],
          [
           0.000029456720860159817
          ],
          [
           0.000029456720860159817
          ],
          [
           18.803344280432697
          ],
          [
           0.000029456720860159817
          ],
          [
           0.000029456720860159817
          ],
          [
           0.000029456720860159817
          ],
          [
           0.000029456720860159817
          ],
          [
           0.00047130753376255707
          ],
          [
           0.00008837016258047944
          ],
          [
           0.000058913441720319633
          ],
          [
           0.00047130753376255707
          ],
          [
           0.000058913441720319633
          ],
          [
           0.00008837016258047944
          ],
          [
           0.000029456720860159817
          ],
          [
           0.017880229562117007
          ],
          [
           0.000029456720860159817
          ],
          [
           0.000029456720860159817
          ],
          [
           0.00008837016258047944
          ],
          [
           0.008807559537187783
          ],
          [
           0.00029456720860159815
          ],
          [
           0.005537863521710045
          ],
          [
           0.000058913441720319633
          ],
          [
           0.000029456720860159817
          ],
          [
           0.000029456720860159817
          ],
          [
           0.000324023929461758
          ],
          [
           0.000029456720860159817
          ],
          [
           0.000029456720860159817
          ],
          [
           0.000058913441720319633
          ],
          [
           0.026628875657584473
          ],
          [
           0.000029456720860159817
          ],
          [
           0.0002061970460211187
          ],
          [
           0.00014728360430079908
          ],
          [
           0.0019441435767705477
          ],
          [
           0.0024154511105331047
          ],
          [
           0.00789440119052283
          ],
          [
           0.000029456720860159817
          ],
          [
           0.000029456720860159817
          ],
          [
           0.002061970460211187
          ],
          [
           0.007923857911382991
          ],
          [
           0.00026511048774143837
          ],
          [
           0.0007069613006438355
          ],
          [
           0.0010309852301055935
          ],
          [
           0.010339309021916095
          ],
          [
           0.00023565376688127853
          ],
          [
           0.00008837016258047944
          ],
          [
           0.0003829373711820776
          ],
          [
           0.000029456720860159817
          ],
          [
           0.000029456720860159817
          ],
          [
           0.0001767403251609589
          ],
          [
           0.000058913441720319633
          ],
          [
           0.0002061970460211187
          ],
          [
           0.000029456720860159817
          ],
          [
           0.00044185081290239723
          ],
          [
           0.000029456720860159817
          ],
          [
           0.0007364180215039954
          ],
          [
           0.00011782688344063927
          ],
          [
           2.0181977730129894
          ],
          [
           0.001119355392686073
          ],
          [
           0.000029456720860159817
          ],
          [
           0.000029456720860159817
          ],
          [
           0.0017379465307494292
          ],
          [
           0.0029162153651558216
          ],
          [
           0.00014728360430079908
          ],
          [
           0.000058913441720319633
          ],
          [
           0.000058913441720319633
          ],
          [
           0.0016790330890291097
          ],
          [
           0.000029456720860159817
          ],
          [
           0.0009426150675251141
          ],
          [
           0.014905100755240866
          ],
          [
           0.00023565376688127853
          ],
          [
           0.00047130753376255707
          ],
          [
           0.0009131583466649542
          ],
          [
           0.000029456720860159817
          ],
          [
           0.000029456720860159817
          ],
          [
           0.0003829373711820776
          ],
          [
           0.000058913441720319633
          ],
          [
           0.00026511048774143837
          ],
          [
           0.0013550091595673514
          ],
          [
           0.000058913441720319633
          ],
          [
           0.000029456720860159817
          ],
          [
           0.0004123940920422374
          ],
          [
           0.0007364180215039954
          ],
          [
           0.0023565376688127852
          ],
          [
           0.000029456720860159817
          ],
          [
           0.0013255524387071917
          ],
          [
           0.00014728360430079908
          ],
          [
           0.0016201196473087896
          ],
          [
           0.0010898986718259132
          ],
          [
           0.000795331463224315
          ],
          [
           0.0016201196473087896
          ],
          [
           0.000029456720860159817
          ],
          [
           0.000029456720860159817
          ],
          [
           0.000029456720860159817
          ],
          [
           0.000029456720860159817
          ],
          [
           0.00014728360430079908
          ],
          [
           0.000058913441720319633
          ],
          [
           0.00047130753376255707
          ],
          [
           0.000029456720860159817
          ],
          [
           0.000029456720860159817
          ],
          [
           0.000058913441720319633
          ],
          [
           0.000029456720860159817
          ],
          [
           0.000029456720860159817
          ],
          [
           0.00008837016258047944
          ],
          [
           0.000029456720860159817
          ],
          [
           0.000029456720860159817
          ],
          [
           0.0010898986718259132
          ],
          [
           0.000058913441720319633
          ],
          [
           0.000029456720860159817
          ],
          [
           0.000795331463224315
          ],
          [
           0.00026511048774143837
          ],
          [
           0.000058913441720319633
          ],
          [
           0.0009720717883852739
          ],
          [
           0.00159066292644863
          ],
          [
           0.00008837016258047944
          ],
          [
           0.00008837016258047944
          ],
          [
           0.00026511048774143837
          ],
          [
           0.00008837016258047944
          ],
          [
           0.000029456720860159817
          ],
          [
           0.00011782688344063927
          ],
          [
           0.00023565376688127853
          ],
          [
           0.001119355392686073
          ],
          [
           0.000029456720860159817
          ],
          [
           0.000029456720860159817
          ],
          [
           0.000029456720860159817
          ],
          [
           0.000029456720860159817
          ],
          [
           0.000058913441720319633
          ],
          [
           0.000058913441720319633
          ],
          [
           0.000029456720860159817
          ],
          [
           0.00011782688344063927
          ],
          [
           0.000029456720860159817
          ],
          [
           0.000029456720860159817
          ],
          [
           0.00014728360430079908
          ],
          [
           0.0001767403251609589
          ],
          [
           0.00011782688344063927
          ],
          [
           0.00011782688344063927
          ],
          [
           0.000029456720860159817
          ],
          [
           0.000058913441720319633
          ],
          [
           0.000029456720860159817
          ],
          [
           0.000058913441720319633
          ],
          [
           0.000058913441720319633
          ],
          [
           0.0009720717883852739
          ],
          [
           0.0003534806503219178
          ],
          [
           0.0017084898098892692
          ],
          [
           0.00014728360430079908
          ],
          [
           0.0005007642546227168
          ],
          [
           0.00026511048774143837
          ],
          [
           0.000029456720860159817
          ],
          [
           0.000029456720860159817
          ],
          [
           0.000029456720860159817
          ],
          [
           0.0042123110830028536
          ],
          [
           0.000029456720860159817
          ],
          [
           0.00014728360430079908
          ],
          [
           0.000324023929461758
          ],
          [
           0.000058913441720319633
          ],
          [
           0.000058913441720319633
          ],
          [
           0.000029456720860159817
          ],
          [
           0.00159066292644863
          ],
          [
           0.001296095717847032
          ],
          [
           0.002503821273113584
          ],
          [
           0.000029456720860159817
          ],
          [
           0.00023565376688127853
          ],
          [
           0.000029456720860159817
          ],
          [
           0.000058913441720319633
          ],
          [
           0.00008837016258047944
          ],
          [
           0.000058913441720319633
          ],
          [
           0.00008837016258047944
          ],
          [
           0.000029456720860159817
          ],
          [
           0.00011782688344063927
          ],
          [
           0.000029456720860159817
          ],
          [
           0.000029456720860159817
          ],
          [
           0.000029456720860159817
          ],
          [
           0.0002061970460211187
          ],
          [
           0.000058913441720319633
          ],
          [
           0.000058913441720319633
          ],
          [
           0.000029456720860159817
          ],
          [
           0.000029456720860159817
          ],
          [
           0.000029456720860159817
          ],
          [
           0.00014728360430079908
          ],
          [
           0.000058913441720319633
          ],
          [
           0.000029456720860159817
          ],
          [
           0.000029456720860159817
          ],
          [
           0.000029456720860159817
          ],
          [
           0.000058913441720319633
          ],
          [
           0.00014728360430079908
          ],
          [
           0.0010309852301055935
          ],
          [
           0.000029456720860159817
          ],
          [
           0.000029456720860159817
          ],
          [
           0.00011782688344063927
          ],
          [
           0.000029456720860159817
          ],
          [
           0.00047130753376255707
          ],
          [
           0.000029456720860159817
          ],
          [
           0.000029456720860159817
          ],
          [
           0.0005596776963430365
          ],
          [
           0.000029456720860159817
          ],
          [
           0.00008837016258047944
          ],
          [
           0.000029456720860159817
          ],
          [
           0.000058913441720319633
          ],
          [
           0.00023565376688127853
          ],
          [
           0.000029456720860159817
          ],
          [
           0.000058913441720319633
          ],
          [
           0.0017084898098892692
          ],
          [
           0.000058913441720319633
          ],
          [
           0.000029456720860159817
          ],
          [
           0.000029456720860159817
          ],
          [
           0.000029456720860159817
          ],
          [
           0.000058913441720319633
          ],
          [
           0.000058913441720319633
          ],
          [
           0.0001767403251609589
          ],
          [
           0.00011782688344063927
          ],
          [
           0.000029456720860159817
          ],
          [
           0.00011782688344063927
          ],
          [
           0.000058913441720319633
          ],
          [
           0.00014728360430079908
          ],
          [
           0.0003829373711820776
          ],
          [
           0.000058913441720319633
          ],
          [
           0.000029456720860159817
          ],
          [
           0.00008837016258047944
          ],
          [
           0.000029456720860159817
          ],
          [
           0.00014728360430079908
          ],
          [
           0.0007069613006438355
          ],
          [
           0.000029456720860159817
          ],
          [
           0.0007364180215039954
          ],
          [
           0.00044185081290239723
          ],
          [
           0.000029456720860159817
          ],
          [
           0.00011782688344063927
          ],
          [
           0.0006775045797836757
          ],
          [
           0.00047130753376255707
          ],
          [
           0.0001767403251609589
          ],
          [
           0.0003829373711820776
          ],
          [
           0.0005596776963430365
          ],
          [
           0.00029456720860159815
          ],
          [
           0.00008837016258047944
          ],
          [
           0.0008247881840844748
          ],
          [
           0.0002061970460211187
          ],
          [
           0.000058913441720319633
          ],
          [
           0.000029456720860159817
          ],
          [
           0.0001767403251609589
          ],
          [
           0.000029456720860159817
          ],
          [
           0.00008837016258047944
          ],
          [
           0.000029456720860159817
          ],
          [
           0.000058913441720319633
          ],
          [
           0.000029456720860159817
          ],
          [
           0.0020914271810713466
          ],
          [
           0.000058913441720319633
          ],
          [
           0.000058913441720319633
          ],
          [
           0.000058913441720319633
          ],
          [
           0.0002061970460211187
          ],
          [
           0.000324023929461758
          ],
          [
           0.000029456720860159817
          ],
          [
           0.00008837016258047944
          ],
          [
           0.000029456720860159817
          ],
          [
           0.0010309852301055935
          ],
          [
           0.000029456720860159817
          ],
          [
           0.000029456720860159817
          ],
          [
           0.000029456720860159817
          ],
          [
           0.000029456720860159817
          ],
          [
           0.000029456720860159817
          ],
          [
           0.0009426150675251141
          ],
          [
           0.00011782688344063927
          ],
          [
           0.000029456720860159817
          ],
          [
           0.00008837016258047944
          ],
          [
           0.00023565376688127853
          ],
          [
           0.000029456720860159817
          ],
          [
           0.000029456720860159817
          ],
          [
           0.00008837016258047944
          ],
          [
           0.000058913441720319633
          ],
          [
           0.000029456720860159817
          ],
          [
           0.0011488121135462327
          ],
          [
           0.000058913441720319633
          ],
          [
           0.000029456720860159817
          ],
          [
           0.000029456720860159817
          ],
          [
           0.000029456720860159817
          ],
          [
           0.000029456720860159817
          ],
          [
           0.00008837016258047944
          ],
          [
           0.000029456720860159817
          ],
          [
           0.000029456720860159817
          ],
          [
           0.000029456720860159817
          ],
          [
           0.000029456720860159817
          ],
          [
           0.0012077255552665523
          ],
          [
           0.00014728360430079908
          ],
          [
           0.000029456720860159817
          ],
          [
           0.00026511048774143837
          ],
          [
           0.000029456720860159817
          ],
          [
           0.000029456720860159817
          ],
          [
           0.0005007642546227168
          ],
          [
           0.000029456720860159817
          ],
          [
           0.000058913441720319633
          ],
          [
           0.0001767403251609589
          ],
          [
           0.000029456720860159817
          ],
          [
           0.00029456720860159815
          ],
          [
           0.000029456720860159817
          ],
          [
           0.000029456720860159817
          ],
          [
           0.000029456720860159817
          ],
          [
           0.000029456720860159817
          ],
          [
           0.000029456720860159817
          ],
          [
           0.000029456720860159817
          ],
          [
           0.000029456720860159817
          ],
          [
           0.000029456720860159817
          ],
          [
           0.000029456720860159817
          ],
          [
           0.000029456720860159817
          ],
          [
           0.000029456720860159817
          ],
          [
           0.000029456720860159817
          ],
          [
           0.000058913441720319633
          ],
          [
           0.000058913441720319633
          ],
          [
           0.00008837016258047944
          ],
          [
           0.000029456720860159817
          ],
          [
           0.00026511048774143837
          ],
          [
           0.00026511048774143837
          ],
          [
           0.000029456720860159817
          ],
          [
           0.00008837016258047944
          ],
          [
           0.0003534806503219178
          ],
          [
           0.00014728360430079908
          ],
          [
           0.000029456720860159817
          ],
          [
           0.00008837016258047944
          ],
          [
           0.00014728360430079908
          ],
          [
           0.000029456720860159817
          ],
          [
           0.0003534806503219178
          ],
          [
           0.000029456720860159817
          ],
          [
           0.00011782688344063927
          ],
          [
           0.000058913441720319633
          ],
          [
           0.000029456720860159817
          ],
          [
           0.00008837016258047944
          ],
          [
           0.000058913441720319633
          ],
          [
           0.0002061970460211187
          ],
          [
           0.000029456720860159817
          ],
          [
           0.000029456720860159817
          ],
          [
           0.0018852301350502283
          ],
          [
           0.000029456720860159817
          ],
          [
           0.00008837016258047944
          ],
          [
           0.000029456720860159817
          ],
          [
           0.0005007642546227168
          ],
          [
           0.0018263166933299084
          ],
          [
           0.000029456720860159817
          ],
          [
           0.000029456720860159817
          ],
          [
           0.00008837016258047944
          ],
          [
           0.0001767403251609589
          ],
          [
           0.000029456720860159817
          ],
          [
           0.00008837016258047944
          ],
          [
           0.0008837016258047945
          ],
          [
           0.000029456720860159817
          ],
          [
           0.000029456720860159817
          ],
          [
           0.00026511048774143837
          ],
          [
           0.000058913441720319633
          ],
          [
           0.000058913441720319633
          ],
          [
           0.000029456720860159817
          ],
          [
           0.0001767403251609589
          ],
          [
           0.000029456720860159817
          ],
          [
           0.000029456720860159817
          ],
          [
           0.000029456720860159817
          ],
          [
           0.00014728360430079908
          ],
          [
           0.000029456720860159817
          ],
          [
           0.000029456720860159817
          ],
          [
           0.000029456720860159817
          ],
          [
           0.000058913441720319633
          ],
          [
           0.00786494446966267
          ],
          [
           0.000029456720860159817
          ],
          [
           0.000029456720860159817
          ],
          [
           0.000029456720860159817
          ],
          [
           0.000029456720860159817
          ],
          [
           0.000029456720860159817
          ],
          [
           0.000029456720860159817
          ],
          [
           0.000029456720860159817
          ],
          [
           0.000029456720860159817
          ],
          [
           0.0005007642546227168
          ],
          [
           0.000058913441720319633
          ],
          [
           0.000029456720860159817
          ],
          [
           0.000058913441720319633
          ]
         ],
         "domain": {
          "x": [
           0,
           1
          ],
          "y": [
           0,
           1
          ]
         },
         "hovertemplate": "labels=%{label}<br>percentage_sum=%{value}<br>parent=%{parent}<br>id=%{id}<br>percentage=%{color}<extra></extra>",
         "ids": [
          "",
          "#value!",
          "++",
          "---",
          ".",
          "5018 rue harwood",
          ":",
          "?",
          "a' ghearmailt",
          "ad",
          "ae",
          "af",
          "afganistán",
          "afghanistan",
          "afrique du sud",
          "ag",
          "ahvenanmaan maakunta",
          "ai",
          "airija",
          "al",
          "aland-islands",
          "alankomaat",
          "albania",
          "albanie",
          "albanien",
          "albanija",
          "albanië",
          "albánie",
          "albânia",
          "alemanya",
          "algeria",
          "algerie",
          "algerien",
          "algerije",
          "algieria",
          "algéria",
          "allemagne nazi",
          "almanya",
          "am",
          "america",
          "american samoa",
          "amerika birleşik devletleri",
          "amerika syarikat",
          "amerikai egyesült államok",
          "ameriketako estatu batuak",
          "américa",
          "an fhraing",
          "an rìoghachd aonaichte",
          "andora",
          "andorra",
          "andorre",
          "angleterre",
          "angola",
          "anguilla",
          "antarctic",
          "antigua and barbuda",
          "antigua-and-barbuda",
          "ao",
          "ar",
          "arab saudi",
          "arabia saudita",
          "arabia saudită",
          "arabia saudyjska",
          "argelia",
          "argentina",
          "argentina - español",
          "argentine",
          "argentinien",
          "argentyna",
          "argélia",
          "ariège",
          "armenia",
          "armenia - pyсский",
          "armenië",
          "arménia",
          "aruba",
          "aruba - español",
          "arábia saudita",
          "as",
          "ascension island",
          "aserbaidschan",
          "asia",
          "asia pacific",
          "aus",
          "australia",
          "australia - english",
          "australija",
          "australië",
          "austria",
          "austria - deutsch",
          "austrija",
          "austrália",
          "austrálie",
          "ausztria",
          "avstrija",
          "aw",
          "az",
          "azerbaijan",
          "azerbaijan - русский",
          "azerbaïdjan",
          "azərbaycan",
          "ba",
          "baden",
          "bahamas",
          "bahrain",
          "bahrein",
          "bangladesh",
          "bangladés",
          "barbados",
          "baréin",
          "bb",
          "bd",
          "belanda",
          "belarus",
          "belarus - pyсский",
          "belgica",
          "belgicko",
          "belgie",
          "belgija",
          "belgium",
          "belgium - français",
          "belgium - nederlands",
          "belgië",
          "belice",
          "belize",
          "belleville wa",
          "bellingham wa usa",
          "belçika",
          "benelux",
          "benin",
          "benín",
          "bermuda",
          "bermudas",
          "beyaz rusya",
          "beļģija",
          "bf",
          "bg",
          "bg::bulgaria",
          "bh",
          "bhoutan",
          "bhutan",
          "bi",
          "białoruś",
          "bielorussia",
          "bih",
          "birleşik krallık",
          "birmania",
          "birmanie",
          "biélorussie",
          "bj",
          "bm",
          "bn",
          "bo",
          "bolivia",
          "bolivia - español",
          "bolivien",
          "bosna a hercegovina",
          "bosna i hercegovina",
          "bosna in hercegovina",
          "bosnia",
          "bosnia and herzegovina",
          "bosnia i hercegovina - bosnian",
          "bosnia y herzegovina",
          "bosnia-and-herzegovina",
          "bosnie-herzégovine",
          "bosnien und herzegowina",
          "bosnië en herzegovina",
          "bosznia-hercegovina",
          "botswana",
          "botswana - english",
          "bośnia i hercegowina",
          "bq",
          "brasile",
          "brasilien",
          "brasill",
          "brazil",
          "brazil  france",
          "brazil - português",
          "brazylia",
          "british indian ocean territory",
          "british virgin islands",
          "british-indian-ocean-territory",
          "brunei",
          "brésil",
          "bs",
          "bugarska",
          "bulgaaria",
          "bulgaria",
          "bulgaria - български",
          "bulgarien",
          "bulgarija",
          "bulgarije",
          "bulgária",
          "bulharsko",
          "burkina faso",
          "burkina-faso",
          "burundi",
          "bułgaria",
          "bw",
          "by",
          "bz",
          "bèlgica",
          "bénin",
          "bósnia e herzegovina",
          "bělorusko",
          "cabo verde",
          "cambodge",
          "cambodia",
          "cambodia - english",
          "cambodia - ភាសាខ្មែរ",
          "cambogia",
          "camboya",
          "cameroon",
          "cameroun",
          "camerun",
          "camerún",
          "canada",
          "canada - english",
          "canada - français",
          "canadà",
          "cantabria",
          "cap-vert",
          "cape verde",
          "caribbean netherlands",
          "caribisch nederland",
          "cayman islands",
          "cc",
          "cd",
          "cehia",
          "central african republic",
          "central america",
          "cezayir",
          "cf",
          "cg",
          "chad",
          "chile",
          "chile - español",
          "chili",
          "china",
          "china - 中文",
          "chine",
          "chint",
          "chipre",
          "chińska republika ludowa",
          "chorvatsko",
          "chorvátsko",
          "chorwacja",
          "chypre",
          "ci",
          "cile",
          "cina",
          "cipar",
          "cipro",
          "ck",
          "cl",
          "cm",
          "cn",
          "co",
          "cocoa horizons",
          "colombia",
          "colombia - español",
          "colombie",
          "colômbia",
          "comoros",
          "congo",
          "cook islands",
          "coquitlam bc",
          "corea del sud",
          "coreia do sul",
          "corsica",
          "costa d'avorio",
          "costa de marfil",
          "costa do marfim",
          "costa rica",
          "costa rica - español",
          "costa-rica",
          "cote-d-ivoire",
          "cr",
          "crna gora",
          "croacia",
          "croatia",
          "croatia - hrvatski",
          "croatie",
          "croazia",
          "croácia",
          "csehország",
          "cu",
          "cuba",
          "curazao",
          "curaçao",
          "cv",
          "cw",
          "cy",
          "cypr",
          "cyprus",
          "cyprus - ελληνικά",
          "cz",
          "czech republic",
          "czech republic - čeština",
          "czech-republic",
          "czechia",
          "czechy",
          "dania",
          "danimarca",
          "danmark",
          "danska",
          "democratic republic of the congo",
          "democratic-republic-of-the-congo",
          "demokratická republika kongo",
          "denemarken",
          "denmark",
          "denmark - dansk",
          "deut",
          "deutsche demokratische republik",
          "dinamarca",
          "dj",
          "djibouti",
          "dk",
          "dm",
          "do",
          "dom tom",
          "dom-tom",
          "dominica",
          "dominican republic",
          "dominican-republic",
          "dr congo",
          "dubai",
          "duitsland",
          "dánmárku",
          "dánsko",
          "dél-korea",
          "east germany",
          "east-germany",
          "ec",
          "ecuador",
          "ecuador - español",
          "ee",
          "eesti",
          "eeuu",
          "eg",
          "egipt",
          "egipto",
          "egito",
          "egitto",
          "egypt",
          "el salvador",
          "el salvador - español",
          "el-salvador",
          "elfenbeinküste",
          "elveția",
          "emirados árabes unidos",
          "emirati arabi uniti",
          "emirats arabes unis",
          "en: españa",
          "england",
          "equatorial guinea",
          "er",
          "eslovaquia",
          "eslovenia",
          "eslováquia",
          "eslovénia",
          "espagnol",
          "espainia",
          "espanya",
          "estija",
          "estland",
          "estonia",
          "estonia - eesti",
          "estonie",
          "estonija",
          "estonsko",
          "estónia",
          "et",
          "etats-unis",
          "ethiopia",
          "etiopía",
          "eu",
          "europa",
          "europe",
          "european union",
          "european-union",
          "europese unie",
          "europäische union",
          "evropska unija",
          "evropská unie",
          "faroe islands",
          "fas",
          "fi",
          "fidji",
          "fiji",
          "filipijnen",
          "filipinas",
          "filipini",
          "filipiny",
          "filippinene",
          "finland",
          "finland - suomi",
          "finlanda",
          "finlande",
          "finlandia",
          "finlândia",
          "finska",
          "finsko",
          "fiyi",
          "fj",
          "fo",
          "fr  €",
          "fra",
          "frakland",
          "franca",
          "france",
          "france  spain",
          "france  switzerland  germany",
          "france - français",
          "france - la réunion",
          "france 🇨🇵🇫🇷",
          "france 🇫🇷",
          "france.",
          "francia",
          "francia  españa",
          "francija",
          "francúzsko",
          "frankrig",
          "frankriika",
          "frankrike",
          "fransa",
          "frantsa",
          "frantzia",
          "französisch-guayana",
          "franța",
          "french guiana",
          "french polynesia",
          "french-guiana",
          "french-polynesia",
          "färöer",
          "færøerne",
          "ga",
          "gabon",
          "gabun",
          "galmudug",
          "gambia",
          "gd",
          "ge",
          "georgia",
          "georgia - ქართული",
          "georgien",
          "germa",
          "germany",
          "germany - deutsch",
          "gf",
          "gg",
          "gh",
          "ghana",
          "ghana - english",
          "giappone",
          "gibraltar",
          "gm",
          "gn",
          "gp",
          "gq",
          "gr",
          "grecja",
          "greece",
          "greece - ελληνικά",
          "greenland",
          "grekland",
          "grenada",
          "griechenland",
          "griekenland",
          "gruusia",
          "grécia",
          "grčka",
          "gt",
          "gu",
          "guadalupa",
          "guadalupe",
          "guadeloupe",
          "guam",
          "guatemala",
          "guatemala - español",
          "guayana francesa",
          "guernsey",
          "guiana francesa",
          "guinea",
          "guinea ecuatorial",
          "guinée équatoriale",
          "guyana",
          "guyane",
          "gy",
          "géorgie",
          "görögország",
          "haiti",
          "haití",
          "hashemite kingdom of jordan",
          "hawaii",
          "hellas",
          "hispaania",
          "hiszpania",
          "hk",
          "hoa kỳ",
          "holandia",
          "holland",
          "hollande",
          "honduras",
          "honduras - español",
          "hong kong",
          "hong kong - 粵語",
          "hong-kong",
          "hongarije",
          "hongkong",
          "hongrie",
          "hr",
          "hrvaška",
          "ht",
          "hu",
          "hungary",
          "hungary - magyar",
          "hungria",
          "hungría",
          "iceland",
          "iceland - íslenska",
          "id",
          "ierland",
          "iirimaa",
          "ijsland",
          "il",
          "im",
          "imported by mccormick canada",
          "in",
          "india",
          "india - english",
          "indian subcontinent",
          "indie",
          "indien",
          "indonesia",
          "indonesia - bahasa indonesia",
          "indonesien",
          "indonesië",
          "iq",
          "ir",
          "irak",
          "iran",
          "iraq",
          "iraqi kurdistan",
          "iraque",
          "ireland",
          "ireland & uk",
          "ireland - english",
          "irland",
          "irlanda",
          "irlande",
          "irlandia",
          "irlanti",
          "irsko",
          "irán",
          "is",
          "island",
          "islanda",
          "islande",
          "islandia",
          "islanti",
          "isle of man",
          "islândia",
          "israel",
          "israel - עברית",
          "it:..",
          "italija",
          "italië",
          "italy",
          "italy - italiano",
          "itàlia",
          "itálie",
          "itävalta",
          "ivory coast",
          "izrael",
          "i̇spanya",
          "i̇sviçre",
          "jamaica",
          "jamaica - english",
          "jamaïque",
          "jan mayen",
          "japan",
          "japan - 日本語",
          "japani",
          "japon",
          "japonia",
          "japonija",
          "japonsko",
          "japón",
          "japāna",
          "je",
          "jemen",
          "jersey",
          "jm",
          "jo",
          "jordan",
          "jordania",
          "jordanie",
          "jordanien",
          "jordanië",
          "jordánsko",
          "jordânia",
          "jugoslavija",
          "jungtinė karalystė",
          "jungtinės amerikos valstijos",
          "južna koreja",
          "kambodscha",
          "kamerun",
          "kasachstan",
          "katar",
          "kazachstan",
          "kazakhstan",
          "kazakhstan - pyсский",
          "ke",
          "ken",
          "kenya",
          "kh",
          "kirgisistan",
          "km",
          "kn",
          "koeweit",
          "kolumbia",
          "kolumbien",
          "korea - 한국어",
          "korea selatan",
          "korean tasavalta",
          "kosovo",
          "koweït",
          "kp",
          "kr",
          "kroatia",
          "kroatien",
          "kroatija",
          "kroatië",
          "kuba",
          "kurdistan irakien",
          "kuwait",
          "kuwejt",
          "kw",
          "ky",
          "kyrgyzstan",
          "kyrgyzstan - русский",
          "kz",
          "kína",
          "kıbrıs cumhuriyeti",
          "la",
          "la-reunion",
          "laos",
          "latinoamerica",
          "latvia",
          "latvia - latviešu",
          "latvija",
          "lc",
          "lebanon",
          "lebanon - english",
          "leedu",
          "lengyelország",
          "lenkija",
          "lesotho",
          "lesotho - english",
          "letland",
          "letonia",
          "lettland",
          "lettonie",
          "letónia",
          "li",
          "libano",
          "libanon",
          "liberia",
          "libia",
          "libya",
          "libye",
          "liechtenstein",
          "liettua",
          "lietuva",
          "litauen",
          "lithuania",
          "lithuania - lietuvių",
          "lituania",
          "lituanie",
          "lituânia",
          "litva",
          "litvánia",
          "litwa",
          "lk",
          "london",
          "lotyšsko",
          "lr",
          "lt",
          "lucembursko",
          "luksemburg",
          "lussemburgo",
          "lux",
          "luxembourg",
          "luxemburgo",
          "luxenburgo",
          "lv",
          "lybia",
          "läti",
          "lëtzebuerg (land)",
          "líbia",
          "m",
          "macao",
          "macau",
          "macau - 中文",
          "macedonia",
          "macedonia de nord",
          "macedonia del nord",
          "macedonia del norte",
          "macédoine du nord",
          "madagascar",
          "madagascar - toamasina",
          "made in canada from domestic and imported ingredients.",
          "made in the u k (ni)",
          "madžarska",
          "malaisie",
          "malasia",
          "malawi",
          "malaysia",
          "malaysia - bahasa melayu",
          "malaysia - english",
          "malaysia - 中文",
          "maldivas",
          "maldive",
          "maldives",
          "maleisië",
          "malezja",
          "mali",
          "malta",
          "malte",
          "malásia",
          "mannin",
          "marocco",
          "marokko",
          "marokkó",
          "maroko",
          "martinica",
          "martinik",
          "martinique",
          "mauritania",
          "mauritanie",
          "mauritius",
          "maurícia",
          "mayotte",
          "maďarsko",
          "mađarska",
          "mc",
          "md",
          "me",
          "meksiko",
          "messico",
          "mexico",
          "mexico - español",
          "mf",
          "mg",
          "middle east",
          "middle east & africa",
          "mk",
          "ml",
          "mm",
          "mn",
          "mo",
          "moldavie",
          "moldavië",
          "moldavsko",
          "moldawien",
          "moldova",
          "moldova - român",
          "moldávia",
          "monaco",
          "monako",
          "mondo",
          "mongolei",
          "mongolia",
          "mongolia - монгол хэл",
          "mongolie",
          "montenegro",
          "montserrat",
          "morocco",
          "mozambique",
          "moçambique",
          "mp",
          "mq",
          "mr",
          "mu",
          "mv",
          "mw",
          "mx",
          "my",
          "myanmar",
          "mz",
          "méxico  españa",
          "mónaco",
          "mŕxico",
          "na",
          "na stàitean aonaichte",
          "namibia",
          "namibia - english",
          "namibie",
          "natural calm canada 5 idleswift dr.  thornhill on  l4j 1k6",
          "ne",
          "nederlân",
          "nederländerna",
          "nemecko",
          "nemčija",
          "nepal",
          "netherlands",
          "netherlands  france",
          "netherlands - nederlands",
          "neukaledonien",
          "neuseeland",
          "new caledonia",
          "new zealand",
          "new zealand - english",
          "new-zealand",
          "ng",
          "ni",
          "nicaragua",
          "nicaragua - español",
          "nieuw-caledonië",
          "nieuw-zeeland",
          "niger",
          "nigeria",
          "nijer",
          "nizozemska",
          "nizozemsko",
          "none",
          "noorwegen",
          "nordmazedonien",
          "norga",
          "norge",
          "norja",
          "norsko",
          "north korea",
          "north macedonia",
          "north macedonia - македонски јазик",
          "north-macedonia",
          "northern ireland",
          "northern mariana islands",
          "norvegia",
          "norveška",
          "norwa",
          "norway",
          "norway - norsk",
          "norwegen",
          "norwegia",
          "nouvelle caledonie",
          "nouvelle-aquitaine",
          "nouvelle-zélande",
          "nova caledónia",
          "nova zelândia",
          "nový zéland",
          "nowa kaledonia",
          "nowa zelandia",
          "np",
          "nueva caledonia",
          "nueva zelanda",
          "nuova caledonia",
          "nuova zelanda",
          "nya kaledonien",
          "nyderlandai",
          "nyl",
          "nz",
          "németország",
          "népal",
          "německo",
          "obala bjelokosti",
          "olanda",
          "olaszország",
          "om",
          "oman",
          "omán",
          "on canada n6a 4z2",
          "oostenrijk",
          "oroszország",
          "ouganda",
          "ouzbékistan",
          "pa",
          "paesi bassi",
          "pakistan",
          "pakistán",
          "palestine",
          "palestinian territories",
          "palästinensische autonomiegebiete",
          "panama",
          "panamá - español",
          "papua new guinea",
          "paquistão",
          "paraguai",
          "paraguay",
          "paraguay - español",
          "pas",
          "países baixos",
          "peru",
          "perú - español",
          "pg",
          "ph",
          "philippinen",
          "philippines",
          "philippines - english",
          "pháp",
          "pk",
          "pl",
          "pm",
          "poblachd na h-èireann",
          "pobřeží slonoviny",
          "poland",
          "poland - polski",
          "polinesia francese",
          "polinesia perancis",
          "polinésia francesa",
          "poljska",
          "polonia",
          "polsko",
          "polynésie francaise",
          "polónia",
          "porto rico",
          "portogallo",
          "portugal",
          "portugal - português",
          "portugali",
          "portugalia",
          "portugalsko",
          "poľsko",
          "prancūzija",
          "prantsusmaa",
          "prepared for siwin foods edmonton alberta t6b 3v2",
          "principato di monaco",
          "product of usa. packed in canada.  imported by: strong international trading inc. richmond bc | www.siti.ca",
          "ps",
          "pt",
          "puerto rico",
          "puerto rico - español",
          "puerto-rico",
          "puola",
          "pw",
          "py",
          "pérou",
          "qa",
          "qatar",
          "quebec",
          "rakousko",
          "rakúsko",
          "reeriaght unnaneysit",
          "regatul unit al marii britanii și al irlandei de nord",
          "regne unit",
          "reino-unido",
          "repubblica ceca",
          "repubblica dominicana",
          "republic of ireland",
          "republic of lithuania",
          "republic of macedonia",
          "republic of moldova",
          "republic of the congo",
          "republic-of-macedonia",
          "republic-of-the-congo",
          "republica mexicana",
          "republica moldova",
          "republik china",
          "republik kongo",
          "republik zypern",
          "republika chińska",
          "republika południowej afryki",
          "republika srbska",
          "republika srpska",
          "república de china",
          "república democrática del congo",
          "república dominicana - español",
          "reunion",
          "reunião",
          "reunión",
          "riunione",
          "roemenie",
          "roemenië",
          "romani",
          "romania",
          "romania - română",
          "romanya",
          "románia",
          "românia",
          "roménia",
          "rosja",
          "royaume uni",
          "rs",
          "ru",
          "ruanda",
          "rumania",
          "rumeenia",
          "rumunia",
          "rumunija",
          "rumunjska",
          "rumunsko",
          "rumänien",
          "ruotsi",
          "ruoŧŧa",
          "rusia",
          "rusija",
          "rusko",
          "rusland",
          "russia",
          "russia - русский",
          "russian federation",
          "russie",
          "rw",
          "rwanda",
          "ryssland",
          "république centrafricaine",
          "république de macédoine",
          "république dominicaine",
          "république du congo",
          "république démocratique allemande",
          "république démocratique du congo",
          "république serbe de bosnie",
          "république tchèque",
          "réunion",
          "rússia",
          "saint kitts and nevis",
          "saint lucia",
          "saint martin",
          "saint pierre and miquelon",
          "saint vincent and the grenadines",
          "saint-kitts-and-nevis",
          "saint-marin",
          "saint-martin",
          "saint-pierre und miquelon",
          "saksamaa",
          "salvador",
          "salwador",
          "sambia",
          "samoa",
          "san marino",
          "san martín",
          "san vicente y las granadinas",
          "santa lucía",
          "santo domingo",
          "santona",
          "santoña",
          "sao tomé and príncipe",
          "sardinia",
          "saudi arabia",
          "saudi-arabia",
          "saudi-arabien",
          "saudijska arabija",
          "saúdská arábie",
          "sb",
          "sc",
          "scotland",
          "sd",
          "se",
          "senegal",
          "serbia",
          "serbia - srpski",
          "serbie",
          "serbien",
          "servië",
          "severní makedonie",
          "seychelles",
          "sg",
          "shqipëria",
          "si",
          "sicile",
          "sierra leone",
          "sierra-leone",
          "singapore",
          "singapore - english",
          "singapur",
          "singapura",
          "sint maarten",
          "sjedinjene američke države",
          "sjeverna makedonija",
          "sk",
          "sl",
          "slov",
          "slovacchia",
          "slovacia",
          "slovak republic - slovenčina",
          "slovakia",
          "slovaquie",
          "slovačka",
          "slovenia",
          "slovenia - slovene",
          "slovenija",
          "slovenië",
          "slovensko",
          "slovinsko",
          "slovénie",
          "slowakei",
          "slowakije",
          "slowenien",
          "sm",
          "so",
          "somalia",
          "somalía",
          "soomaaliya",
          "soudan",
          "south africa",
          "south africa -english",
          "south america",
          "south korea",
          "south-africa",
          "south-korea",
          "sowjetunion",
          "spain",
          "spain - español",
          "spania",
          "spanje",
          "spanyolország",
          "spojené arabské emiráty",
          "spojené království",
          "spojené kráľovstvo",
          "spánia",
          "sr",
          "srbija",
          "srbsko",
          "sri lanka",
          "sri-lanka",
          "ss",
          "st",
          "state of palestine",
          "statele unite ale americii",
          "stato di palestina",
          "storbritannia",
          "storbritannien",
          "sudafrica",
          "sudan",
          "sudáfrica",
          "sudán",
          "sudán del sur",
          "suecia",
          "suedia",
          "suomija",
          "suopma",
          "surinam",
          "suriname",
          "surrey bc canada",
          "suécia",
          "suíça",
          "sv",
          "svalbard et jan mayen",
          "sveits",
          "svezia",
          "svájc",
          "svédország",
          "swaziland",
          "swaziland - english",
          "sweden",
          "sweden - svenska",
          "switzerland",
          "switzerland - deutsch",
          "switzerland - français",
          "sx",
          "sy",
          "syria",
          "syrie",
          "sz",
          "szerbia",
          "szlovákia",
          "szlovénia",
          "szwajcaria",
          "szwecja",
          "sérvia",
          "südafrika",
          "słowacja",
          "słowenia",
          "tadschikistan",
          "tailandia",
          "tailândia",
          "taiwan",
          "taiwan - 中文",
          "tajikistan",
          "tajlandia",
          "tanska",
          "tanzania",
          "tanzanie",
          "tasty foods αβγε",
          "tc",
          "tchad",
          "td",
          "territori palestinesi",
          "territorios palestinos",
          "tg",
          "th",
          "thailand",
          "thailand - ไทย",
          "thailandia",
          "thaimaa",
          "thajsko",
          "thaïlande",
          "the bahamas",
          "the netherlands",
          "the-bahamas",
          "timor-leste",
          "tjeckien",
          "tjekkiet",
          "tn",
          "togo",
          "tonga",
          "tr",
          "trinidad & tobago - english",
          "trinidad and tobago",
          "trinidad y tobago",
          "tschechien",
          "tsjechië",
          "tt",
          "tunesien",
          "tunesië",
          "tunezja",
          "tunis",
          "tunisia",
          "tunisko",
          "tunézia",
          "tunísia",
          "turcia",
          "turcja",
          "turkey",
          "turkey - türkçe",
          "turkije",
          "turkiye",
          "turks and caicos islands",
          "turquia",
          "turquie",
          "turquía",
          "tw",
          "txekia",
          "tyskland",
          "tz",
          "túnez",
          "türkei",
          "türkiye",
          "tšekki",
          "u.s. minor outlying islands",
          "u.s.a",
          "u.s.a.",
          "ua",
          "uae",
          "ucraina",
          "ucrania",
          "ucrânia",
          "ue",
          "ug",
          "uganda",
          "ujedinjeno kraljevstvo",
          "ukraina",
          "ukraine",
          "ukraine - yкраї́нська",
          "ukrajina",
          "ungaria",
          "ungarn",
          "ungheria",
          "union européenne",
          "unione europea",
          "united arab emirates",
          "united kingdom",
          "united kingdom & ireland",
          "united kingdom - english",
          "united states",
          "united states - english",
          "united states - español",
          "united states minor outlying islands",
          "united states of america",
          "united-arab-emirates",
          "united-states-of-america",
          "uniunea europeană",
          "unión europea",
          "unkari",
          "unknown",
          "uruguai",
          "uruguay",
          "uruguay - español",
          "urugwaj",
          "usbekistan",
          "uy",
          "uz",
          "uzbekistan",
          "va",
          "vancouver bc canada",
          "vancouver canada",
          "vanuatu",
          "vatican",
          "vatican city",
          "vc",
          "venezuela",
          "venezuela - español",
          "venäjä",
          "vereinigte arabische emirate",
          "verenigde staten van amerika",
          "vi",
          "vietnam",
          "vietnam - tiếng việt",
          "virazeil",
          "virgin islands of the united states",
          "virgin-islands-of-the-united-states",
          "viro",
          "viêt nam",
          "việt nam",
          "vn",
          "vokietija",
          "volksrepubliek china",
          "vu",
          "wa usa",
          "wales",
          "wallis and futuna",
          "weißrussland",
          "wereld",
          "west africa",
          "wf",
          "wietnam",
          "wit-rusland",
          "word",
          "world",
          "worldwide",
          "wybrzeże kości słoniowej",
          "wyspy owcze",
          "węgry",
          "włochy",
          "xk",
          "y deyrnas unedig",
          "ye",
          "yemen",
          "yhdistyneet arabiemiirikunnat",
          "yt",
          "yu",
          "yugoslavia",
          "yémen",
          "zambia",
          "zambia - english",
          "zentralafrikanische republik",
          "zimbabwe",
          "zjednoczone emiraty arabskie",
          "zjednoczone królestwo",
          "zm",
          "zuid-afrika",
          "zuid-korea",
          "zw",
          "zweden",
          "zwitserland",
          "áfrica do sul",
          "áustria",
          "ägypten",
          "åland",
          "åland islands",
          "égypte",
          "équateur",
          "észtország",
          "état unis",
          "éthiopie",
          "índia",
          "írország",
          "írán",
          "ísland",
          "île maurice",
          "îles cook",
          "ôsterreich",
          "österrike",
          "østrig",
          "čekija",
          "černá hora",
          "česká republika",
          "češka",
          "črna gora",
          "īrija",
          "łotwa",
          "řecko",
          "španielsko",
          "španjolska",
          "španělsko",
          "švajčiarsko",
          "švedija",
          "švedska",
          "šveicarija",
          "šveice",
          "švica",
          "švédsko",
          "švýcarsko",
          "βέλγιο",
          "βουλγαρία",
          "γερμανία",
          "γουαδελούπη",
          "ευρωπαϊκή ένωση",
          "ηνωμένο βασίλειο",
          "ισπανία",
          "κύπρος",
          "νότια αφρική",
          "абхазия",
          "австралия",
          "австрия",
          "азербайджан",
          "албания",
          "албанија",
          "алжир",
          "аржентина",
          "армения",
          "беларусь",
          "белгия",
          "белгија",
          "белоруссия",
          "бельгия",
          "бельгія",
          "босна и херцеговина",
          "велика британія",
          "великобритания",
          "габон",
          "германия",
          "греция",
          "грузия",
          "гърция",
          "дания",
          "естония",
          "индия",
          "испания",
          "италия",
          "казахстан",
          "камерун",
          "канада",
          "кипар",
          "кипър",
          "киргизия",
          "китайская народная республика",
          "кот д'ивоар",
          "кувейт",
          "латвия",
          "латвія",
          "либия",
          "ливан",
          "литва",
          "люксембург",
          "македонија",
          "малайзия",
          "малта",
          "марокко",
          "мароко",
          "мађарска",
          "молдова",
          "монгол улс",
          "монголия",
          "немачка",
          "нидерландия",
          "нидерланды",
          "нова зеландия",
          "нова каледония",
          "німеччина",
          "обединени арабски емирства",
          "обединено кралство великобритания и северна ирландия",
          "объединённые арабские эмираты",
          "остров рождества",
          "полша",
          "польша",
          "польща",
          "португалия",
          "република ирландия",
          "република македонија",
          "реюнион",
          "росія",
          "румъния",
          "русия",
          "русија",
          "северна македония",
          "северна македонија",
          "сенегал",
          "сингапур",
          "словакия",
          "словения",
          "словенија",
          "соединённые штаты америки",
          "союз советских социалистических республик",
          "съединени американски щати",
          "сърбия",
          "таджикистан",
          "тунис",
          "турция",
          "угорщина",
          "узбекистан",
          "украина",
          "украйна",
          "україна",
          "унгария",
          "уједињено краљевство",
          "финландия",
          "француска",
          "францыя",
          "франція",
          "хърватия",
          "црна гора",
          "чехия",
          "швајцарска",
          "швейцария",
          "швеция",
          "шпанија",
          "эстония",
          "япония",
          "японія",
          "іспанія",
          "італія",
          "հայաստան",
          "איטליה",
          "ישראל",
          "צרפת",
          "ألمانيا",
          "إيطاليا",
          "الأردن",
          "الإمارات العربية المتحدة",
          "الاتحاد الأوروبي",
          "الاردن",
          "البحرين",
          "الجزائر",
          "الدمام",
          "السنغال",
          "السودان",
          "الكاميرون",
          "المجر",
          "المغرب",
          "المملكة المتحدة",
          "الهند",
          "الولايات المتحدة",
          "اليمن",
          "ایالات متحده آمریکا",
          "ایران",
          "بلجيكا",
          "تركيا",
          "توغو",
          "تونس",
          "جميع البلدان",
          "جمہوریہ آئرستان",
          "جنوب أفريقيا",
          "رومانيا",
          "ریاستہائے متحدہ امریکہ",
          "سلطنة عمان",
          "سوريا",
          "عربي متحده امارات",
          "فرانس",
          "فرانسه",
          "فرنسا",
          "قطر",
          "كوت ديفوار",
          "لبنان",
          "ليبيا",
          "ليتوانيا",
          "مصر",
          "هولندا",
          "پاکستان",
          "भारत",
          "নেপাল",
          "বাংলাদেশ",
          "ভারত",
          "ভুটান",
          "মার্কিন যুক্তরাষ্ট্র",
          "যুক্তরাজ্য",
          "ફ્રાન્સ",
          "ශ් රී ලංකාව",
          "นิวแคลิโดเนีย",
          "ประเทศกัมพูชา",
          "ประเทศจีน",
          "ประเทศซาอุดีอาระเบีย",
          "ประเทศญี่ปุ่น",
          "ประเทศตุรกี",
          "ประเทศนิวซีแลนด์",
          "ประเทศฟิลิปปินส์",
          "ประเทศมาเลเซีย",
          "ประเทศรัสเซีย",
          "ประเทศสิงคโปร์",
          "ประเทศสเปน",
          "ประเทศสโลวาเกีย",
          "ประเทศออสเตรีย",
          "ประเทศออสเตรเลีย",
          "ประเทศอิตาลี",
          "ประเทศอินเดีย",
          "ประเทศอินโดนีเซีย",
          "ประเทศเบลเยียม",
          "ประเทศเม็กซิโก",
          "ประเทศเยอรมนี",
          "ประเทศเลบานอน",
          "ประเทศเวียดนาม",
          "ประเทศแคนาดา",
          "ประเทศโกตดิวัวร์",
          "ประเทศโมร็อกโก",
          "ประเทศโรมาเนีย",
          "สหรัฐอเมริกา",
          "สาธารณรัฐเช็ก",
          "เขตบริหารพิเศษฮ่องกง",
          "საქართველო",
          "შვეიცარია",
          "アイルランド",
          "アラブ首長国連邦",
          "イギリス",
          "イタリア",
          "イラク",
          "エルサルバドル",
          "オーストラリア",
          "カナダ",
          "サウジアラビア",
          "スイス",
          "スペイン",
          "タイ王国",
          "デンマーク",
          "ドイツ",
          "ニューカレドニア",
          "ニュージーランド",
          "パキスタン",
          "ベルギー",
          "マダガスカル",
          "モロッコ",
          "ルクセンブルク",
          "中国",
          "中華人民共和国",
          "中華民国",
          "南アフリカ共和国",
          "意大利",
          "日本",
          "沙特阿拉伯",
          "澳大利亚",
          "澳门",
          "英国",
          "荷蘭",
          "西班牙",
          "马来西亚",
          "네덜란드",
          "대한민국",
          "독일",
          "캐나다",
          "프랑스"
         ],
         "labels": [
          "",
          "#value!",
          "++",
          "---",
          ".",
          "5018 rue harwood",
          ":",
          "?",
          "a' ghearmailt",
          "ad",
          "ae",
          "af",
          "afganistán",
          "afghanistan",
          "afrique du sud",
          "ag",
          "ahvenanmaan maakunta",
          "ai",
          "airija",
          "al",
          "aland-islands",
          "alankomaat",
          "albania",
          "albanie",
          "albanien",
          "albanija",
          "albanië",
          "albánie",
          "albânia",
          "alemanya",
          "algeria",
          "algerie",
          "algerien",
          "algerije",
          "algieria",
          "algéria",
          "allemagne nazi",
          "almanya",
          "am",
          "america",
          "american samoa",
          "amerika birleşik devletleri",
          "amerika syarikat",
          "amerikai egyesült államok",
          "ameriketako estatu batuak",
          "américa",
          "an fhraing",
          "an rìoghachd aonaichte",
          "andora",
          "andorra",
          "andorre",
          "angleterre",
          "angola",
          "anguilla",
          "antarctic",
          "antigua and barbuda",
          "antigua-and-barbuda",
          "ao",
          "ar",
          "arab saudi",
          "arabia saudita",
          "arabia saudită",
          "arabia saudyjska",
          "argelia",
          "argentina",
          "argentina - español",
          "argentine",
          "argentinien",
          "argentyna",
          "argélia",
          "ariège",
          "armenia",
          "armenia - pyсский",
          "armenië",
          "arménia",
          "aruba",
          "aruba - español",
          "arábia saudita",
          "as",
          "ascension island",
          "aserbaidschan",
          "asia",
          "asia pacific",
          "aus",
          "australia",
          "australia - english",
          "australija",
          "australië",
          "austria",
          "austria - deutsch",
          "austrija",
          "austrália",
          "austrálie",
          "ausztria",
          "avstrija",
          "aw",
          "az",
          "azerbaijan",
          "azerbaijan - русский",
          "azerbaïdjan",
          "azərbaycan",
          "ba",
          "baden",
          "bahamas",
          "bahrain",
          "bahrein",
          "bangladesh",
          "bangladés",
          "barbados",
          "baréin",
          "bb",
          "bd",
          "belanda",
          "belarus",
          "belarus - pyсский",
          "belgica",
          "belgicko",
          "belgie",
          "belgija",
          "belgium",
          "belgium - français",
          "belgium - nederlands",
          "belgië",
          "belice",
          "belize",
          "belleville wa",
          "bellingham wa usa",
          "belçika",
          "benelux",
          "benin",
          "benín",
          "bermuda",
          "bermudas",
          "beyaz rusya",
          "beļģija",
          "bf",
          "bg",
          "bg::bulgaria",
          "bh",
          "bhoutan",
          "bhutan",
          "bi",
          "białoruś",
          "bielorussia",
          "bih",
          "birleşik krallık",
          "birmania",
          "birmanie",
          "biélorussie",
          "bj",
          "bm",
          "bn",
          "bo",
          "bolivia",
          "bolivia - español",
          "bolivien",
          "bosna a hercegovina",
          "bosna i hercegovina",
          "bosna in hercegovina",
          "bosnia",
          "bosnia and herzegovina",
          "bosnia i hercegovina - bosnian",
          "bosnia y herzegovina",
          "bosnia-and-herzegovina",
          "bosnie-herzégovine",
          "bosnien und herzegowina",
          "bosnië en herzegovina",
          "bosznia-hercegovina",
          "botswana",
          "botswana - english",
          "bośnia i hercegowina",
          "bq",
          "brasile",
          "brasilien",
          "brasill",
          "brazil",
          "brazil  france",
          "brazil - português",
          "brazylia",
          "british indian ocean territory",
          "british virgin islands",
          "british-indian-ocean-territory",
          "brunei",
          "brésil",
          "bs",
          "bugarska",
          "bulgaaria",
          "bulgaria",
          "bulgaria - български",
          "bulgarien",
          "bulgarija",
          "bulgarije",
          "bulgária",
          "bulharsko",
          "burkina faso",
          "burkina-faso",
          "burundi",
          "bułgaria",
          "bw",
          "by",
          "bz",
          "bèlgica",
          "bénin",
          "bósnia e herzegovina",
          "bělorusko",
          "cabo verde",
          "cambodge",
          "cambodia",
          "cambodia - english",
          "cambodia - ភាសាខ្មែរ",
          "cambogia",
          "camboya",
          "cameroon",
          "cameroun",
          "camerun",
          "camerún",
          "canada",
          "canada - english",
          "canada - français",
          "canadà",
          "cantabria",
          "cap-vert",
          "cape verde",
          "caribbean netherlands",
          "caribisch nederland",
          "cayman islands",
          "cc",
          "cd",
          "cehia",
          "central african republic",
          "central america",
          "cezayir",
          "cf",
          "cg",
          "chad",
          "chile",
          "chile - español",
          "chili",
          "china",
          "china - 中文",
          "chine",
          "chint",
          "chipre",
          "chińska republika ludowa",
          "chorvatsko",
          "chorvátsko",
          "chorwacja",
          "chypre",
          "ci",
          "cile",
          "cina",
          "cipar",
          "cipro",
          "ck",
          "cl",
          "cm",
          "cn",
          "co",
          "cocoa horizons",
          "colombia",
          "colombia - español",
          "colombie",
          "colômbia",
          "comoros",
          "congo",
          "cook islands",
          "coquitlam bc",
          "corea del sud",
          "coreia do sul",
          "corsica",
          "costa d'avorio",
          "costa de marfil",
          "costa do marfim",
          "costa rica",
          "costa rica - español",
          "costa-rica",
          "cote-d-ivoire",
          "cr",
          "crna gora",
          "croacia",
          "croatia",
          "croatia - hrvatski",
          "croatie",
          "croazia",
          "croácia",
          "csehország",
          "cu",
          "cuba",
          "curazao",
          "curaçao",
          "cv",
          "cw",
          "cy",
          "cypr",
          "cyprus",
          "cyprus - ελληνικά",
          "cz",
          "czech republic",
          "czech republic - čeština",
          "czech-republic",
          "czechia",
          "czechy",
          "dania",
          "danimarca",
          "danmark",
          "danska",
          "democratic republic of the congo",
          "democratic-republic-of-the-congo",
          "demokratická republika kongo",
          "denemarken",
          "denmark",
          "denmark - dansk",
          "deut",
          "deutsche demokratische republik",
          "dinamarca",
          "dj",
          "djibouti",
          "dk",
          "dm",
          "do",
          "dom tom",
          "dom-tom",
          "dominica",
          "dominican republic",
          "dominican-republic",
          "dr congo",
          "dubai",
          "duitsland",
          "dánmárku",
          "dánsko",
          "dél-korea",
          "east germany",
          "east-germany",
          "ec",
          "ecuador",
          "ecuador - español",
          "ee",
          "eesti",
          "eeuu",
          "eg",
          "egipt",
          "egipto",
          "egito",
          "egitto",
          "egypt",
          "el salvador",
          "el salvador - español",
          "el-salvador",
          "elfenbeinküste",
          "elveția",
          "emirados árabes unidos",
          "emirati arabi uniti",
          "emirats arabes unis",
          "en: españa",
          "england",
          "equatorial guinea",
          "er",
          "eslovaquia",
          "eslovenia",
          "eslováquia",
          "eslovénia",
          "espagnol",
          "espainia",
          "espanya",
          "estija",
          "estland",
          "estonia",
          "estonia - eesti",
          "estonie",
          "estonija",
          "estonsko",
          "estónia",
          "et",
          "etats-unis",
          "ethiopia",
          "etiopía",
          "eu",
          "europa",
          "europe",
          "european union",
          "european-union",
          "europese unie",
          "europäische union",
          "evropska unija",
          "evropská unie",
          "faroe islands",
          "fas",
          "fi",
          "fidji",
          "fiji",
          "filipijnen",
          "filipinas",
          "filipini",
          "filipiny",
          "filippinene",
          "finland",
          "finland - suomi",
          "finlanda",
          "finlande",
          "finlandia",
          "finlândia",
          "finska",
          "finsko",
          "fiyi",
          "fj",
          "fo",
          "fr  €",
          "fra",
          "frakland",
          "franca",
          "france",
          "france  spain",
          "france  switzerland  germany",
          "france - français",
          "france - la réunion",
          "france 🇨🇵🇫🇷",
          "france 🇫🇷",
          "france.",
          "francia",
          "francia  españa",
          "francija",
          "francúzsko",
          "frankrig",
          "frankriika",
          "frankrike",
          "fransa",
          "frantsa",
          "frantzia",
          "französisch-guayana",
          "franța",
          "french guiana",
          "french polynesia",
          "french-guiana",
          "french-polynesia",
          "färöer",
          "færøerne",
          "ga",
          "gabon",
          "gabun",
          "galmudug",
          "gambia",
          "gd",
          "ge",
          "georgia",
          "georgia - ქართული",
          "georgien",
          "germa",
          "germany",
          "germany - deutsch",
          "gf",
          "gg",
          "gh",
          "ghana",
          "ghana - english",
          "giappone",
          "gibraltar",
          "gm",
          "gn",
          "gp",
          "gq",
          "gr",
          "grecja",
          "greece",
          "greece - ελληνικά",
          "greenland",
          "grekland",
          "grenada",
          "griechenland",
          "griekenland",
          "gruusia",
          "grécia",
          "grčka",
          "gt",
          "gu",
          "guadalupa",
          "guadalupe",
          "guadeloupe",
          "guam",
          "guatemala",
          "guatemala - español",
          "guayana francesa",
          "guernsey",
          "guiana francesa",
          "guinea",
          "guinea ecuatorial",
          "guinée équatoriale",
          "guyana",
          "guyane",
          "gy",
          "géorgie",
          "görögország",
          "haiti",
          "haití",
          "hashemite kingdom of jordan",
          "hawaii",
          "hellas",
          "hispaania",
          "hiszpania",
          "hk",
          "hoa kỳ",
          "holandia",
          "holland",
          "hollande",
          "honduras",
          "honduras - español",
          "hong kong",
          "hong kong - 粵語",
          "hong-kong",
          "hongarije",
          "hongkong",
          "hongrie",
          "hr",
          "hrvaška",
          "ht",
          "hu",
          "hungary",
          "hungary - magyar",
          "hungria",
          "hungría",
          "iceland",
          "iceland - íslenska",
          "id",
          "ierland",
          "iirimaa",
          "ijsland",
          "il",
          "im",
          "imported by mccormick canada",
          "in",
          "india",
          "india - english",
          "indian subcontinent",
          "indie",
          "indien",
          "indonesia",
          "indonesia - bahasa indonesia",
          "indonesien",
          "indonesië",
          "iq",
          "ir",
          "irak",
          "iran",
          "iraq",
          "iraqi kurdistan",
          "iraque",
          "ireland",
          "ireland & uk",
          "ireland - english",
          "irland",
          "irlanda",
          "irlande",
          "irlandia",
          "irlanti",
          "irsko",
          "irán",
          "is",
          "island",
          "islanda",
          "islande",
          "islandia",
          "islanti",
          "isle of man",
          "islândia",
          "israel",
          "israel - עברית",
          "it:..",
          "italija",
          "italië",
          "italy",
          "italy - italiano",
          "itàlia",
          "itálie",
          "itävalta",
          "ivory coast",
          "izrael",
          "i̇spanya",
          "i̇sviçre",
          "jamaica",
          "jamaica - english",
          "jamaïque",
          "jan mayen",
          "japan",
          "japan - 日本語",
          "japani",
          "japon",
          "japonia",
          "japonija",
          "japonsko",
          "japón",
          "japāna",
          "je",
          "jemen",
          "jersey",
          "jm",
          "jo",
          "jordan",
          "jordania",
          "jordanie",
          "jordanien",
          "jordanië",
          "jordánsko",
          "jordânia",
          "jugoslavija",
          "jungtinė karalystė",
          "jungtinės amerikos valstijos",
          "južna koreja",
          "kambodscha",
          "kamerun",
          "kasachstan",
          "katar",
          "kazachstan",
          "kazakhstan",
          "kazakhstan - pyсский",
          "ke",
          "ken",
          "kenya",
          "kh",
          "kirgisistan",
          "km",
          "kn",
          "koeweit",
          "kolumbia",
          "kolumbien",
          "korea - 한국어",
          "korea selatan",
          "korean tasavalta",
          "kosovo",
          "koweït",
          "kp",
          "kr",
          "kroatia",
          "kroatien",
          "kroatija",
          "kroatië",
          "kuba",
          "kurdistan irakien",
          "kuwait",
          "kuwejt",
          "kw",
          "ky",
          "kyrgyzstan",
          "kyrgyzstan - русский",
          "kz",
          "kína",
          "kıbrıs cumhuriyeti",
          "la",
          "la-reunion",
          "laos",
          "latinoamerica",
          "latvia",
          "latvia - latviešu",
          "latvija",
          "lc",
          "lebanon",
          "lebanon - english",
          "leedu",
          "lengyelország",
          "lenkija",
          "lesotho",
          "lesotho - english",
          "letland",
          "letonia",
          "lettland",
          "lettonie",
          "letónia",
          "li",
          "libano",
          "libanon",
          "liberia",
          "libia",
          "libya",
          "libye",
          "liechtenstein",
          "liettua",
          "lietuva",
          "litauen",
          "lithuania",
          "lithuania - lietuvių",
          "lituania",
          "lituanie",
          "lituânia",
          "litva",
          "litvánia",
          "litwa",
          "lk",
          "london",
          "lotyšsko",
          "lr",
          "lt",
          "lucembursko",
          "luksemburg",
          "lussemburgo",
          "lux",
          "luxembourg",
          "luxemburgo",
          "luxenburgo",
          "lv",
          "lybia",
          "läti",
          "lëtzebuerg (land)",
          "líbia",
          "m",
          "macao",
          "macau",
          "macau - 中文",
          "macedonia",
          "macedonia de nord",
          "macedonia del nord",
          "macedonia del norte",
          "macédoine du nord",
          "madagascar",
          "madagascar - toamasina",
          "made in canada from domestic and imported ingredients.",
          "made in the u k (ni)",
          "madžarska",
          "malaisie",
          "malasia",
          "malawi",
          "malaysia",
          "malaysia - bahasa melayu",
          "malaysia - english",
          "malaysia - 中文",
          "maldivas",
          "maldive",
          "maldives",
          "maleisië",
          "malezja",
          "mali",
          "malta",
          "malte",
          "malásia",
          "mannin",
          "marocco",
          "marokko",
          "marokkó",
          "maroko",
          "martinica",
          "martinik",
          "martinique",
          "mauritania",
          "mauritanie",
          "mauritius",
          "maurícia",
          "mayotte",
          "maďarsko",
          "mađarska",
          "mc",
          "md",
          "me",
          "meksiko",
          "messico",
          "mexico",
          "mexico - español",
          "mf",
          "mg",
          "middle east",
          "middle east & africa",
          "mk",
          "ml",
          "mm",
          "mn",
          "mo",
          "moldavie",
          "moldavië",
          "moldavsko",
          "moldawien",
          "moldova",
          "moldova - român",
          "moldávia",
          "monaco",
          "monako",
          "mondo",
          "mongolei",
          "mongolia",
          "mongolia - монгол хэл",
          "mongolie",
          "montenegro",
          "montserrat",
          "morocco",
          "mozambique",
          "moçambique",
          "mp",
          "mq",
          "mr",
          "mu",
          "mv",
          "mw",
          "mx",
          "my",
          "myanmar",
          "mz",
          "méxico  españa",
          "mónaco",
          "mŕxico",
          "na",
          "na stàitean aonaichte",
          "namibia",
          "namibia - english",
          "namibie",
          "natural calm canada 5 idleswift dr.  thornhill on  l4j 1k6",
          "ne",
          "nederlân",
          "nederländerna",
          "nemecko",
          "nemčija",
          "nepal",
          "netherlands",
          "netherlands  france",
          "netherlands - nederlands",
          "neukaledonien",
          "neuseeland",
          "new caledonia",
          "new zealand",
          "new zealand - english",
          "new-zealand",
          "ng",
          "ni",
          "nicaragua",
          "nicaragua - español",
          "nieuw-caledonië",
          "nieuw-zeeland",
          "niger",
          "nigeria",
          "nijer",
          "nizozemska",
          "nizozemsko",
          "none",
          "noorwegen",
          "nordmazedonien",
          "norga",
          "norge",
          "norja",
          "norsko",
          "north korea",
          "north macedonia",
          "north macedonia - македонски јазик",
          "north-macedonia",
          "northern ireland",
          "northern mariana islands",
          "norvegia",
          "norveška",
          "norwa",
          "norway",
          "norway - norsk",
          "norwegen",
          "norwegia",
          "nouvelle caledonie",
          "nouvelle-aquitaine",
          "nouvelle-zélande",
          "nova caledónia",
          "nova zelândia",
          "nový zéland",
          "nowa kaledonia",
          "nowa zelandia",
          "np",
          "nueva caledonia",
          "nueva zelanda",
          "nuova caledonia",
          "nuova zelanda",
          "nya kaledonien",
          "nyderlandai",
          "nyl",
          "nz",
          "németország",
          "népal",
          "německo",
          "obala bjelokosti",
          "olanda",
          "olaszország",
          "om",
          "oman",
          "omán",
          "on canada n6a 4z2",
          "oostenrijk",
          "oroszország",
          "ouganda",
          "ouzbékistan",
          "pa",
          "paesi bassi",
          "pakistan",
          "pakistán",
          "palestine",
          "palestinian territories",
          "palästinensische autonomiegebiete",
          "panama",
          "panamá - español",
          "papua new guinea",
          "paquistão",
          "paraguai",
          "paraguay",
          "paraguay - español",
          "pas",
          "países baixos",
          "peru",
          "perú - español",
          "pg",
          "ph",
          "philippinen",
          "philippines",
          "philippines - english",
          "pháp",
          "pk",
          "pl",
          "pm",
          "poblachd na h-èireann",
          "pobřeží slonoviny",
          "poland",
          "poland - polski",
          "polinesia francese",
          "polinesia perancis",
          "polinésia francesa",
          "poljska",
          "polonia",
          "polsko",
          "polynésie francaise",
          "polónia",
          "porto rico",
          "portogallo",
          "portugal",
          "portugal - português",
          "portugali",
          "portugalia",
          "portugalsko",
          "poľsko",
          "prancūzija",
          "prantsusmaa",
          "prepared for siwin foods edmonton alberta t6b 3v2",
          "principato di monaco",
          "product of usa. packed in canada.  imported by: strong international trading inc. richmond bc | www.siti.ca",
          "ps",
          "pt",
          "puerto rico",
          "puerto rico - español",
          "puerto-rico",
          "puola",
          "pw",
          "py",
          "pérou",
          "qa",
          "qatar",
          "quebec",
          "rakousko",
          "rakúsko",
          "reeriaght unnaneysit",
          "regatul unit al marii britanii și al irlandei de nord",
          "regne unit",
          "reino-unido",
          "repubblica ceca",
          "repubblica dominicana",
          "republic of ireland",
          "republic of lithuania",
          "republic of macedonia",
          "republic of moldova",
          "republic of the congo",
          "republic-of-macedonia",
          "republic-of-the-congo",
          "republica mexicana",
          "republica moldova",
          "republik china",
          "republik kongo",
          "republik zypern",
          "republika chińska",
          "republika południowej afryki",
          "republika srbska",
          "republika srpska",
          "república de china",
          "república democrática del congo",
          "república dominicana - español",
          "reunion",
          "reunião",
          "reunión",
          "riunione",
          "roemenie",
          "roemenië",
          "romani",
          "romania",
          "romania - română",
          "romanya",
          "románia",
          "românia",
          "roménia",
          "rosja",
          "royaume uni",
          "rs",
          "ru",
          "ruanda",
          "rumania",
          "rumeenia",
          "rumunia",
          "rumunija",
          "rumunjska",
          "rumunsko",
          "rumänien",
          "ruotsi",
          "ruoŧŧa",
          "rusia",
          "rusija",
          "rusko",
          "rusland",
          "russia",
          "russia - русский",
          "russian federation",
          "russie",
          "rw",
          "rwanda",
          "ryssland",
          "république centrafricaine",
          "république de macédoine",
          "république dominicaine",
          "république du congo",
          "république démocratique allemande",
          "république démocratique du congo",
          "république serbe de bosnie",
          "république tchèque",
          "réunion",
          "rússia",
          "saint kitts and nevis",
          "saint lucia",
          "saint martin",
          "saint pierre and miquelon",
          "saint vincent and the grenadines",
          "saint-kitts-and-nevis",
          "saint-marin",
          "saint-martin",
          "saint-pierre und miquelon",
          "saksamaa",
          "salvador",
          "salwador",
          "sambia",
          "samoa",
          "san marino",
          "san martín",
          "san vicente y las granadinas",
          "santa lucía",
          "santo domingo",
          "santona",
          "santoña",
          "sao tomé and príncipe",
          "sardinia",
          "saudi arabia",
          "saudi-arabia",
          "saudi-arabien",
          "saudijska arabija",
          "saúdská arábie",
          "sb",
          "sc",
          "scotland",
          "sd",
          "se",
          "senegal",
          "serbia",
          "serbia - srpski",
          "serbie",
          "serbien",
          "servië",
          "severní makedonie",
          "seychelles",
          "sg",
          "shqipëria",
          "si",
          "sicile",
          "sierra leone",
          "sierra-leone",
          "singapore",
          "singapore - english",
          "singapur",
          "singapura",
          "sint maarten",
          "sjedinjene američke države",
          "sjeverna makedonija",
          "sk",
          "sl",
          "slov",
          "slovacchia",
          "slovacia",
          "slovak republic - slovenčina",
          "slovakia",
          "slovaquie",
          "slovačka",
          "slovenia",
          "slovenia - slovene",
          "slovenija",
          "slovenië",
          "slovensko",
          "slovinsko",
          "slovénie",
          "slowakei",
          "slowakije",
          "slowenien",
          "sm",
          "so",
          "somalia",
          "somalía",
          "soomaaliya",
          "soudan",
          "south africa",
          "south africa -english",
          "south america",
          "south korea",
          "south-africa",
          "south-korea",
          "sowjetunion",
          "spain",
          "spain - español",
          "spania",
          "spanje",
          "spanyolország",
          "spojené arabské emiráty",
          "spojené království",
          "spojené kráľovstvo",
          "spánia",
          "sr",
          "srbija",
          "srbsko",
          "sri lanka",
          "sri-lanka",
          "ss",
          "st",
          "state of palestine",
          "statele unite ale americii",
          "stato di palestina",
          "storbritannia",
          "storbritannien",
          "sudafrica",
          "sudan",
          "sudáfrica",
          "sudán",
          "sudán del sur",
          "suecia",
          "suedia",
          "suomija",
          "suopma",
          "surinam",
          "suriname",
          "surrey bc canada",
          "suécia",
          "suíça",
          "sv",
          "svalbard et jan mayen",
          "sveits",
          "svezia",
          "svájc",
          "svédország",
          "swaziland",
          "swaziland - english",
          "sweden",
          "sweden - svenska",
          "switzerland",
          "switzerland - deutsch",
          "switzerland - français",
          "sx",
          "sy",
          "syria",
          "syrie",
          "sz",
          "szerbia",
          "szlovákia",
          "szlovénia",
          "szwajcaria",
          "szwecja",
          "sérvia",
          "südafrika",
          "słowacja",
          "słowenia",
          "tadschikistan",
          "tailandia",
          "tailândia",
          "taiwan",
          "taiwan - 中文",
          "tajikistan",
          "tajlandia",
          "tanska",
          "tanzania",
          "tanzanie",
          "tasty foods αβγε",
          "tc",
          "tchad",
          "td",
          "territori palestinesi",
          "territorios palestinos",
          "tg",
          "th",
          "thailand",
          "thailand - ไทย",
          "thailandia",
          "thaimaa",
          "thajsko",
          "thaïlande",
          "the bahamas",
          "the netherlands",
          "the-bahamas",
          "timor-leste",
          "tjeckien",
          "tjekkiet",
          "tn",
          "togo",
          "tonga",
          "tr",
          "trinidad & tobago - english",
          "trinidad and tobago",
          "trinidad y tobago",
          "tschechien",
          "tsjechië",
          "tt",
          "tunesien",
          "tunesië",
          "tunezja",
          "tunis",
          "tunisia",
          "tunisko",
          "tunézia",
          "tunísia",
          "turcia",
          "turcja",
          "turkey",
          "turkey - türkçe",
          "turkije",
          "turkiye",
          "turks and caicos islands",
          "turquia",
          "turquie",
          "turquía",
          "tw",
          "txekia",
          "tyskland",
          "tz",
          "túnez",
          "türkei",
          "türkiye",
          "tšekki",
          "u.s. minor outlying islands",
          "u.s.a",
          "u.s.a.",
          "ua",
          "uae",
          "ucraina",
          "ucrania",
          "ucrânia",
          "ue",
          "ug",
          "uganda",
          "ujedinjeno kraljevstvo",
          "ukraina",
          "ukraine",
          "ukraine - yкраї́нська",
          "ukrajina",
          "ungaria",
          "ungarn",
          "ungheria",
          "union européenne",
          "unione europea",
          "united arab emirates",
          "united kingdom",
          "united kingdom & ireland",
          "united kingdom - english",
          "united states",
          "united states - english",
          "united states - español",
          "united states minor outlying islands",
          "united states of america",
          "united-arab-emirates",
          "united-states-of-america",
          "uniunea europeană",
          "unión europea",
          "unkari",
          "unknown",
          "uruguai",
          "uruguay",
          "uruguay - español",
          "urugwaj",
          "usbekistan",
          "uy",
          "uz",
          "uzbekistan",
          "va",
          "vancouver bc canada",
          "vancouver canada",
          "vanuatu",
          "vatican",
          "vatican city",
          "vc",
          "venezuela",
          "venezuela - español",
          "venäjä",
          "vereinigte arabische emirate",
          "verenigde staten van amerika",
          "vi",
          "vietnam",
          "vietnam - tiếng việt",
          "virazeil",
          "virgin islands of the united states",
          "virgin-islands-of-the-united-states",
          "viro",
          "viêt nam",
          "việt nam",
          "vn",
          "vokietija",
          "volksrepubliek china",
          "vu",
          "wa usa",
          "wales",
          "wallis and futuna",
          "weißrussland",
          "wereld",
          "west africa",
          "wf",
          "wietnam",
          "wit-rusland",
          "word",
          "world",
          "worldwide",
          "wybrzeże kości słoniowej",
          "wyspy owcze",
          "węgry",
          "włochy",
          "xk",
          "y deyrnas unedig",
          "ye",
          "yemen",
          "yhdistyneet arabiemiirikunnat",
          "yt",
          "yu",
          "yugoslavia",
          "yémen",
          "zambia",
          "zambia - english",
          "zentralafrikanische republik",
          "zimbabwe",
          "zjednoczone emiraty arabskie",
          "zjednoczone królestwo",
          "zm",
          "zuid-afrika",
          "zuid-korea",
          "zw",
          "zweden",
          "zwitserland",
          "áfrica do sul",
          "áustria",
          "ägypten",
          "åland",
          "åland islands",
          "égypte",
          "équateur",
          "észtország",
          "état unis",
          "éthiopie",
          "índia",
          "írország",
          "írán",
          "ísland",
          "île maurice",
          "îles cook",
          "ôsterreich",
          "österrike",
          "østrig",
          "čekija",
          "černá hora",
          "česká republika",
          "češka",
          "črna gora",
          "īrija",
          "łotwa",
          "řecko",
          "španielsko",
          "španjolska",
          "španělsko",
          "švajčiarsko",
          "švedija",
          "švedska",
          "šveicarija",
          "šveice",
          "švica",
          "švédsko",
          "švýcarsko",
          "βέλγιο",
          "βουλγαρία",
          "γερμανία",
          "γουαδελούπη",
          "ευρωπαϊκή ένωση",
          "ηνωμένο βασίλειο",
          "ισπανία",
          "κύπρος",
          "νότια αφρική",
          "абхазия",
          "австралия",
          "австрия",
          "азербайджан",
          "албания",
          "албанија",
          "алжир",
          "аржентина",
          "армения",
          "беларусь",
          "белгия",
          "белгија",
          "белоруссия",
          "бельгия",
          "бельгія",
          "босна и херцеговина",
          "велика британія",
          "великобритания",
          "габон",
          "германия",
          "греция",
          "грузия",
          "гърция",
          "дания",
          "естония",
          "индия",
          "испания",
          "италия",
          "казахстан",
          "камерун",
          "канада",
          "кипар",
          "кипър",
          "киргизия",
          "китайская народная республика",
          "кот д'ивоар",
          "кувейт",
          "латвия",
          "латвія",
          "либия",
          "ливан",
          "литва",
          "люксембург",
          "македонија",
          "малайзия",
          "малта",
          "марокко",
          "мароко",
          "мађарска",
          "молдова",
          "монгол улс",
          "монголия",
          "немачка",
          "нидерландия",
          "нидерланды",
          "нова зеландия",
          "нова каледония",
          "німеччина",
          "обединени арабски емирства",
          "обединено кралство великобритания и северна ирландия",
          "объединённые арабские эмираты",
          "остров рождества",
          "полша",
          "польша",
          "польща",
          "португалия",
          "република ирландия",
          "република македонија",
          "реюнион",
          "росія",
          "румъния",
          "русия",
          "русија",
          "северна македония",
          "северна македонија",
          "сенегал",
          "сингапур",
          "словакия",
          "словения",
          "словенија",
          "соединённые штаты америки",
          "союз советских социалистических республик",
          "съединени американски щати",
          "сърбия",
          "таджикистан",
          "тунис",
          "турция",
          "угорщина",
          "узбекистан",
          "украина",
          "украйна",
          "україна",
          "унгария",
          "уједињено краљевство",
          "финландия",
          "француска",
          "францыя",
          "франція",
          "хърватия",
          "црна гора",
          "чехия",
          "швајцарска",
          "швейцария",
          "швеция",
          "шпанија",
          "эстония",
          "япония",
          "японія",
          "іспанія",
          "італія",
          "հայաստան",
          "איטליה",
          "ישראל",
          "צרפת",
          "ألمانيا",
          "إيطاليا",
          "الأردن",
          "الإمارات العربية المتحدة",
          "الاتحاد الأوروبي",
          "الاردن",
          "البحرين",
          "الجزائر",
          "الدمام",
          "السنغال",
          "السودان",
          "الكاميرون",
          "المجر",
          "المغرب",
          "المملكة المتحدة",
          "الهند",
          "الولايات المتحدة",
          "اليمن",
          "ایالات متحده آمریکا",
          "ایران",
          "بلجيكا",
          "تركيا",
          "توغو",
          "تونس",
          "جميع البلدان",
          "جمہوریہ آئرستان",
          "جنوب أفريقيا",
          "رومانيا",
          "ریاستہائے متحدہ امریکہ",
          "سلطنة عمان",
          "سوريا",
          "عربي متحده امارات",
          "فرانس",
          "فرانسه",
          "فرنسا",
          "قطر",
          "كوت ديفوار",
          "لبنان",
          "ليبيا",
          "ليتوانيا",
          "مصر",
          "هولندا",
          "پاکستان",
          "भारत",
          "নেপাল",
          "বাংলাদেশ",
          "ভারত",
          "ভুটান",
          "মার্কিন যুক্তরাষ্ট্র",
          "যুক্তরাজ্য",
          "ફ્રાન્સ",
          "ශ් රී ලංකාව",
          "นิวแคลิโดเนีย",
          "ประเทศกัมพูชา",
          "ประเทศจีน",
          "ประเทศซาอุดีอาระเบีย",
          "ประเทศญี่ปุ่น",
          "ประเทศตุรกี",
          "ประเทศนิวซีแลนด์",
          "ประเทศฟิลิปปินส์",
          "ประเทศมาเลเซีย",
          "ประเทศรัสเซีย",
          "ประเทศสิงคโปร์",
          "ประเทศสเปน",
          "ประเทศสโลวาเกีย",
          "ประเทศออสเตรีย",
          "ประเทศออสเตรเลีย",
          "ประเทศอิตาลี",
          "ประเทศอินเดีย",
          "ประเทศอินโดนีเซีย",
          "ประเทศเบลเยียม",
          "ประเทศเม็กซิโก",
          "ประเทศเยอรมนี",
          "ประเทศเลบานอน",
          "ประเทศเวียดนาม",
          "ประเทศแคนาดา",
          "ประเทศโกตดิวัวร์",
          "ประเทศโมร็อกโก",
          "ประเทศโรมาเนีย",
          "สหรัฐอเมริกา",
          "สาธารณรัฐเช็ก",
          "เขตบริหารพิเศษฮ่องกง",
          "საქართველო",
          "შვეიცარია",
          "アイルランド",
          "アラブ首長国連邦",
          "イギリス",
          "イタリア",
          "イラク",
          "エルサルバドル",
          "オーストラリア",
          "カナダ",
          "サウジアラビア",
          "スイス",
          "スペイン",
          "タイ王国",
          "デンマーク",
          "ドイツ",
          "ニューカレドニア",
          "ニュージーランド",
          "パキスタン",
          "ベルギー",
          "マダガスカル",
          "モロッコ",
          "ルクセンブルク",
          "中国",
          "中華人民共和国",
          "中華民国",
          "南アフリカ共和国",
          "意大利",
          "日本",
          "沙特阿拉伯",
          "澳大利亚",
          "澳门",
          "英国",
          "荷蘭",
          "西班牙",
          "马来西亚",
          "네덜란드",
          "대한민국",
          "독일",
          "캐나다",
          "프랑스"
         ],
         "marker": {
          "coloraxis": "coloraxis",
          "colors": [
           0.08963680157746631,
           0.00026511048774143837,
           0.000029456720860159817,
           0.000029456720860159817,
           0.000058913441720319633,
           0.000029456720860159817,
           0.000029456720860159817,
           0.00011782688344063927,
           0.000029456720860159817,
           0.01611282631050742,
           0.0441261678485194,
           0.0023270809479526257,
           0.000029456720860159817,
           0.0028867586442956616,
           0.0021797973436518264,
           0.0004123940920422374,
           0.00011782688344063927,
           0.000324023929461758,
           0.000029456720860159817,
           0.005950257613752282,
           0.000029456720860159817,
           0.00026511048774143837,
           0.007275810052459473,
           0.0002061970460211187,
           0.000324023929461758,
           0.0005596776963430365,
           0.000058913441720319633,
           0.00008837016258047944,
           0.000029456720860159817,
           0.000029456720860159817,
           0.11997722406343093,
           0.00011782688344063927,
           0.0001767403251609589,
           0.000058913441720319633,
           0.00011782688344063927,
           0.000029456720860159817,
           0.000029456720860159817,
           0.0001767403251609589,
           0.0004123940920422374,
           0.00008837016258047944,
           0.00026511048774143837,
           0.000029456720860159817,
           0.000029456720860159817,
           0.00008837016258047944,
           0.000058913441720319633,
           0.000029456720860159817,
           0.000058913441720319633,
           0.00029456720860159815,
           0.000029456720860159817,
           0.0074230936567602724,
           0.0012077255552665523,
           0.0027983884817151827,
           0.0007658747423641552,
           0.00011782688344063927,
           0.000029456720860159817,
           0.00047130753376255707,
           0.000058913441720319633,
           0.00029456720860159815,
           0.030458249369405246,
           0.000058913441720319633,
           0.0007069613006438355,
           0.000029456720860159817,
           0.000058913441720319633,
           0.000618591138063356,
           0.19002530626889097,
           0.000029456720860159817,
           0.001413922601287671,
           0.0002061970460211187,
           0.00014728360430079908,
           0.00026511048774143837,
           0.000029456720860159817,
           0.002562734714833904,
           0.000029456720860159817,
           0.000058913441720319633,
           0.000029456720860159817,
           0.0010604419509657535,
           0.000029456720860159817,
           0.000058913441720319633,
           0.00014728360430079908,
           0.000029456720860159817,
           0.000029456720860159817,
           0.000029456720860159817,
           0.000029456720860159817,
           0.000029456720860159817,
           1.3057280655683041,
           0.000029456720860159817,
           0.00014728360430079908,
           0.0001767403251609589,
           0.35533642373610785,
           0.000029456720860159817,
           0.0011488121135462327,
           0.0003534806503219178,
           0.00008837016258047944,
           0.000648047858923516,
           0.00011782688344063927,
           0.0011488121135462327,
           0.0003534806503219178,
           0.0029456720860159815,
           0.000029456720860159817,
           0.000058913441720319633,
           0.000029456720860159817,
           0.003917743874401255,
           0.000029456720860159817,
           0.0006775045797836757,
           0.004565791733324771,
           0.000029456720860159817,
           0.00621536810149372,
           0.00026511048774143837,
           0.001413922601287671,
           0.000029456720860159817,
           0.002503821273113584,
           0.0023270809479526257,
           0.000029456720860159817,
           0.010339309021916095,
           0.000029456720860159817,
           0.000058913441720319633,
           0.00008837016258047944,
           0.0008542449049446346,
           0.00044185081290239723,
           2.387643966041114,
           0.000029456720860159817,
           0.000029456720860159817,
           0.05255079001452511,
           0.000029456720860159817,
           0.0002061970460211187,
           0.000029456720860159817,
           0.000029456720860159817,
           0.00011782688344063927,
           0.00026511048774143837,
           0.0010015285092454336,
           0.000029456720860159817,
           0.00044185081290239723,
           0.000029456720860159817,
           0.000029456720860159817,
           0.000029456720860159817,
           0.0006775045797836757,
           0.015052384359541664,
           0.000029456720860159817,
           0.008365708724285386,
           0.000029456720860159817,
           0.00014728360430079908,
           0.000058913441720319633,
           0.00014728360430079908,
           0.000029456720860159817,
           0.000029456720860159817,
           0.00008837016258047944,
           0.000058913441720319633,
           0.000029456720860159817,
           0.00014728360430079908,
           0.0013255524387071917,
           0.0010604419509657535,
           0.0013550091595673514,
           0.0008837016258047945,
           0.09700098179250627,
           0.000029456720860159817,
           0.000058913441720319633,
           0.00014728360430079908,
           0.0022976242270924653,
           0.00008837016258047944,
           0.000029456720860159817,
           0.0060386277763327615,
           0.000029456720860159817,
           0.0005596776963430365,
           0.00008837016258047944,
           0.0001767403251609589,
           0.00026511048774143837,
           0.000029456720860159817,
           0.000029456720860159817,
           0.00029456720860159815,
           0.000029456720860159817,
           0.00008837016258047944,
           0.0002061970460211187,
           0.000058913441720319633,
           0.00023565376688127853,
           0.000029456720860159817,
           0.49390083866229956,
           0.000029456720860159817,
           0.000029456720860159817,
           0.00008837016258047944,
           0.000029456720860159817,
           0.000058913441720319633,
           0.000029456720860159817,
           0.005626233684290524,
           0.0018852301350502283,
           0.00159066292644863,
           0.0010015285092454336,
           0.000029456720860159817,
           0.19043770036093322,
           0.000029456720860159817,
           0.002533277993973744,
           0.000029456720860159817,
           0.0002061970460211187,
           0.0008247881840844748,
           0.000795331463224315,
           0.005596776963430365,
           0.0002061970460211187,
           0.00023565376688127853,
           0.0005596776963430365,
           0.00008837016258047944,
           0.00047130753376255707,
           0.0003534806503219178,
           0.000058913441720319633,
           0.00047130753376255707,
           0.000058913441720319633,
           0.000029456720860159817,
           0.00014728360430079908,
           0.00026511048774143837,
           0.005802974009451484,
           0.000029456720860159817,
           0.000029456720860159817,
           0.000029456720860159817,
           0.000058913441720319633,
           0.00480144550020605,
           0.002739475039994863,
           0.000029456720860159817,
           0.00011782688344063927,
           2.564796685294115,
           0.000029456720860159817,
           0.000029456720860159817,
           0.0008542449049446346,
           0.00044185081290239723,
           0.000029456720860159817,
           0.000058913441720319633,
           0.00008837016258047944,
           0.000029456720860159817,
           0.00023565376688127853,
           0.000058913441720319633,
           0.002032513739351027,
           0.00023565376688127853,
           0.000029456720860159817,
           0.000029456720860159817,
           0.000029456720860159817,
           0.000058913441720319633,
           0.0010898986718259132,
           0.00026511048774143837,
           0.0538763424532323,
           0.000029456720860159817,
           0.0027983884817151827,
           0.019647632813726595,
           0.000029456720860159817,
           0.0019441435767705477,
           0.000029456720860159817,
           0.00026511048774143837,
           0.000029456720860159817,
           0.0004123940920422374,
           0.00008837016258047944,
           0.00029456720860159815,
           0.0003829373711820776,
           0.008012228073963469,
           0.0002061970460211187,
           0.00008837016258047944,
           0.000058913441720319633,
           0.000029456720860159817,
           0.000029456720860159817,
           0.033551205059722033,
           0.0034169796197785385,
           0.005213839592248287,
           0.023948314059309923,
           0.000029456720860159817,
           0.06498152621751256,
           0.000029456720860159817,
           0.000648047858923516,
           0.000029456720860159817,
           0.00011782688344063927,
           0.0014433793221478308,
           0.00011782688344063927,
           0.000029456720860159817,
           0.000029456720860159817,
           0.000029456720860159817,
           0.000029456720860159817,
           0.00011782688344063927,
           0.0002061970460211187,
           0.000029456720860159817,
           0.018557734141900685,
           0.000029456720860159817,
           0.0008837016258047945,
           0.0007658747423641552,
           0.015376408289003421,
           0.0010309852301055935,
           0.000648047858923516,
           0.0870151534209121,
           0.000029456720860159817,
           0.0009426150675251141,
           0.00014728360430079908,
           0.0005596776963430365,
           0.00023565376688127853,
           0.033492291618001706,
           0.002827845202575342,
           0.0003534806503219178,
           0.0005596776963430365,
           0.0007658747423641552,
           0.00159066292644863,
           0.006657218914396118,
           0.000029456720860159817,
           0.020295680672650113,
           0.000029456720860159817,
           0.01257801980728824,
           0.21833321501550457,
           0.000029456720860159817,
           0.0022976242270924653,
           0.02403668422189041,
           0.0024154511105331047,
           0.00023565376688127853,
           0.00011782688344063927,
           0.008483535607726028,
           0.00014728360430079908,
           0.000648047858923516,
           0.00011782688344063927,
           0.000029456720860159817,
           0.0005891344172031963,
           0.10342254694002112,
           0.000029456720860159817,
           0.000029456720860159817,
           0.00014728360430079908,
           0.002592191435694064,
           0.0009131583466649542,
           0.00047130753376255707,
           0.07084341366868435,
           0.00008837016258047944,
           0.016849244332011414,
           0.00047130753376255707,
           0.000058913441720319633,
           0.00023565376688127853,
           0.009426150675251141,
           0.000324023929461758,
           0.000029456720860159817,
           0.000029456720860159817,
           0.00954397755869178,
           0.000029456720860159817,
           0.00011782688344063927,
           0.000029456720860159817,
           0.00011782688344063927,
           0.000029456720860159817,
           0.013343894549652395,
           0.011753231623203766,
           0.000029456720860159817,
           0.002061970460211187,
           0.0005007642546227168,
           0.000029456720860159817,
           0.01852827742104052,
           0.00008837016258047944,
           0.00011782688344063927,
           0.000029456720860159817,
           0.000058913441720319633,
           0.02877921628037614,
           0.010250938859335616,
           0.000029456720860159817,
           0.002710018319134703,
           0.000058913441720319633,
           0.00008837016258047944,
           0.000029456720860159817,
           0.000058913441720319633,
           0.000618591138063356,
           0.000029456720860159817,
           0.00486035894192637,
           0.00011782688344063927,
           0.00008837016258047944,
           0.0003534806503219178,
           0.00029456720860159815,
           0.0005302209754828767,
           0.00044185081290239723,
           0.000029456720860159817,
           0.00008837016258047944,
           0.002533277993973744,
           0.00008837016258047944,
           0.0001767403251609589,
           0.027866057933711184,
           0.000029456720860159817,
           0.00026511048774143837,
           0.00014728360430079908,
           0.00008837016258047944,
           0.0005302209754828767,
           0.0014728360430079908,
           0.000029456720860159817,
           0.004359594687303653,
           0.000029456720860159817,
           0.00014728360430079908,
           0.000029456720860159817,
           0.00008837016258047944,
           0.002592191435694064,
           0.0002061970460211187,
           0.00014728360430079908,
           0.00047130753376255707,
           0.000058913441720319633,
           0.000029456720860159817,
           0.011782688344063926,
           0.00008837016258047944,
           0.05808865353623515,
           0.000029456720860159817,
           0.000618591138063356,
           0.000029456720860159817,
           0.0005302209754828767,
           0.000029456720860159817,
           0.00008837016258047944,
           0.000029456720860159817,
           0.1954158861863002,
           0.000029456720860159817,
           0.000029456720860159817,
           0.002032513739351027,
           0.0013844658804275111,
           0.0013844658804275111,
           0.0001767403251609589,
           0.00014728360430079908,
           0.000029456720860159817,
           0.00044185081290239723,
           0.00011782688344063927,
           0.000029456720860159817,
           0.000029456720860159817,
           0.000029456720860159817,
           0.000058913441720319633,
           30.15979387365011,
           0.00029456720860159815,
           0.000058913441720319633,
           0.000029456720860159817,
           0.005714603846871005,
           0.000029456720860159817,
           0.000029456720860159817,
           0.000029456720860159817,
           0.0016201196473087896,
           0.0016495763681689496,
           0.00047130753376255707,
           0.00029456720860159815,
           0.0008837016258047945,
           0.0002061970460211187,
           0.0037410035492402966,
           0.0006775045797836757,
           0.000029456720860159817,
           0.000058913441720319633,
           0.00011782688344063927,
           0.002120883901931507,
           0.0015612062055884702,
           0.04942837760334818,
           0.00014728360430079908,
           0.0009426150675251141,
           0.000058913441720319633,
           0.000058913441720319633,
           0.004035570757841895,
           0.0028867586442956616,
           0.000029456720860159817,
           0.00008837016258047944,
           0.00014728360430079908,
           0.00014728360430079908,
           0.017114354819752854,
           0.006598305472675798,
           0.000029456720860159817,
           0.00011782688344063927,
           0.000029456720860159817,
           7.836194710103155,
           0.000029456720860159817,
           0.004389051408163812,
           0.000795331463224315,
           0.001914686855910388,
           0.0032107825737574197,
           0.000029456720860159817,
           0.00011782688344063927,
           0.005891344172031963,
           0.000029456720860159817,
           0.0010309852301055935,
           0.022563848178882417,
           0.0001767403251609589,
           0.040591361345300225,
           0.00023565376688127853,
           0.06227150789837784,
           0.000029456720860159817,
           0.000648047858923516,
           0.000029456720860159817,
           0.00008837016258047944,
           0.0007364180215039954,
           0.0016495763681689496,
           0.000029456720860159817,
           0.0009131583466649542,
           0.00014728360430079908,
           0.007040156285578195,
           0.0042123110830028536,
           0.000029456720860159817,
           0.0003534806503219178,
           0.02406614094275057,
           0.0005302209754828767,
           0.008630819212026826,
           0.000029456720860159817,
           0.00008837016258047944,
           0.0013844658804275111,
           0.000029456720860159817,
           0.0017379465307494292,
           0.000029456720860159817,
           0.000029456720860159817,
           0.0010898986718259132,
           0.0047130753376255705,
           0.0011488121135462327,
           0.00026511048774143837,
           0.000058913441720319633,
           0.0009720717883852739,
           0.0007069613006438355,
           0.0035053497823590175,
           0.000029456720860159817,
           0.000058913441720319633,
           0.000029456720860159817,
           0.003534806503219178,
           0.010162568696755137,
           0.000029456720860159817,
           0.0010309852301055935,
           0.000058913441720319633,
           0.00008837016258047944,
           0.013638461758253994,
           0.000029456720860159817,
           0.033050440805099314,
           0.000029456720860159817,
           0.0002061970460211187,
           0.0003534806503219178,
           0.0003534806503219178,
           0.002533277993973744,
           0.003328609457198059,
           0.00023565376688127853,
           0.002003057018490867,
           0.026452135332423514,
           0.1041589649615251,
           0.000029456720860159817,
           0.0008837016258047945,
           0.0010898986718259132,
           0.015258581405562785,
           0.000029456720860159817,
           0.009573434279551941,
           0.0006775045797836757,
           0.000029456720860159817,
           0.000058913441720319633,
           0.03608448305369577,
           0.00159066292644863,
           0.000029456720860159817,
           0.022976242270924655,
           0.1983615582723162,
           0.000029456720860159817,
           0.000058913441720319633,
           0.00008837016258047944,
           0.00026511048774143837,
           0.09305378119724485,
           0.000029456720860159817,
           0.0002061970460211187,
           0.00014728360430079908,
           0.01570043221846518,
           0.003446436340638698,
           0.001119355392686073,
           0.004889815662786529,
           0.02041350755609075,
           0.000058913441720319633,
           0.000029456720860159817,
           1.7423061254367327,
           0.000058913441720319633,
           0.000029456720860159817,
           0.03154814804123116,
           0.0023565376688127852,
           0.006274281543214041,
           0.0010015285092454336,
           0.00008837016258047944,
           0.0004123940920422374,
           0.000058913441720319633,
           0.00636265170579452,
           0.0002061970460211187,
           0.000029456720860159817,
           0.0004123940920422374,
           0.000029456720860159817,
           0.00008837016258047944,
           0.001237182276126712,
           0.00011782688344063927,
           0.032520219829616434,
           0.000029456720860159817,
           0.000029456720860159817,
           0.0026511048774143834,
           0.0029162153651558216,
           7.062366653106757,
           0.000029456720860159817,
           0.000029456720860159817,
           0.0019441435767705477,
           0.000058913441720319633,
           0.013991942408575911,
           0.000058913441720319633,
           0.000058913441720319633,
           0.000029456720860159817,
           0.0032107825737574197,
           0.000029456720860159817,
           0.000029456720860159817,
           0.000029456720860159817,
           0.3124474381637152,
           0.000029456720860159817,
           0.000058913441720319633,
           0.006568848751815639,
           0.000029456720860159817,
           0.00011782688344063927,
           0.00011782688344063927,
           0.000618591138063356,
           0.000058913441720319633,
           0.001914686855910388,
           0.000029456720860159817,
           0.002385994389672945,
           0.00636265170579452,
           0.007747117586222031,
           0.0024154511105331047,
           0.00011782688344063927,
           0.0004123940920422374,
           0.00011782688344063927,
           0.000029456720860159817,
           0.000029456720860159817,
           0.000058913441720319633,
           0.000058913441720319633,
           0.0002061970460211187,
           0.000029456720860159817,
           0.000029456720860159817,
           0.000029456720860159817,
           0.00008837016258047944,
           0.00008837016258047944,
           0.0001767403251609589,
           0.000058913441720319633,
           0.004359594687303653,
           0.000029456720860159817,
           0.0046541618959052514,
           0.000029456720860159817,
           0.002710018319134703,
           0.001767403251609589,
           0.00008837016258047944,
           0.0003829373711820776,
           0.00011782688344063927,
           0.000029456720860159817,
           0.00023565376688127853,
           0.00011782688344063927,
           0.000029456720860159817,
           0.000029456720860159817,
           0.000029456720860159817,
           0.0008837016258047945,
           0.0006775045797836757,
           0.00044185081290239723,
           0.019706546255446915,
           0.000058913441720319633,
           0.0016495763681689496,
           0.000029456720860159817,
           0.00011782688344063927,
           0.000058913441720319633,
           0.00008837016258047944,
           0.013756288641694633,
           0.000029456720860159817,
           0.02486147240597488,
           0.0003534806503219178,
           0.001296095717847032,
           0.000029456720860159817,
           0.000324023929461758,
           0.000029456720860159817,
           0.000029456720860159817,
           0.0003534806503219178,
           0.000029456720860159817,
           0.00047130753376255707,
           0.000029456720860159817,
           0.024920385847695205,
           0.000029456720860159817,
           0.0010898986718259132,
           0.001119355392686073,
           0.0411215823207831,
           0.000029456720860159817,
           0.000029456720860159817,
           0.00029456720860159815,
           0.00011782688344063927,
           0.000058913441720319633,
           0.000029456720860159817,
           0.000058913441720319633,
           0.000324023929461758,
           0.000058913441720319633,
           0.0003829373711820776,
           0.00044185081290239723,
           0.001266638996986872,
           0.000058913441720319633,
           0.00011782688344063927,
           0.000324023929461758,
           0.00014728360430079908,
           0.006686675635256278,
           0.0007364180215039954,
           0.0014433793221478308,
           0.00008837016258047944,
           0.02047242099781107,
           0.000324023929461758,
           0.05531972177538013,
           0.000029456720860159817,
           0.0004123940920422374,
           0.0005302209754828767,
           0.0007364180215039954,
           0.0007364180215039954,
           0.000029456720860159817,
           0.0009426150675251141,
           0.0007658747423641552,
           0.000058913441720319633,
           0.00014728360430079908,
           0.00008837016258047944,
           0.002562734714833904,
           0.0001767403251609589,
           0.00011782688344063927,
           0.0005302209754828767,
           0.000029456720860159817,
           0.27851329573281103,
           0.002003057018490867,
           0.000029456720860159817,
           0.002003057018490867,
           0.005272753033968606,
           0.000029456720860159817,
           0.000029456720860159817,
           0.000029456720860159817,
           0.000029456720860159817,
           0.0004123940920422374,
           0.00014728360430079908,
           0.000029456720860159817,
           0.005537863521710045,
           0.000029456720860159817,
           0.000029456720860159817,
           0.00014728360430079908,
           0.00014728360430079908,
           0.0060386277763327615,
           0.0001767403251609589,
           0.000029456720860159817,
           0.000029456720860159817,
           0.000058913441720319633,
           0.0005891344172031963,
           0.00011782688344063927,
           0.000324023929461758,
           0.04633542191303139,
           0.000029456720860159817,
           0.000029456720860159817,
           0.000029456720860159817,
           0.00008837016258047944,
           0.000029456720860159817,
           0.0029456720860159815,
           0.000029456720860159817,
           0.000029456720860159817,
           0.003299152736337899,
           0.025627347148339037,
           0.00011782688344063927,
           0.000029456720860159817,
           0.000029456720860159817,
           0.0004123940920422374,
           0.001266638996986872,
           0.000029456720860159817,
           0.000324023929461758,
           0.00047130753376255707,
           0.000029456720860159817,
           0.020325137393510273,
           0.0008542449049446346,
           0.00011782688344063927,
           0.010516049347077054,
           0.000029456720860159817,
           0.0008837016258047945,
           0.002592191435694064,
           0.001237182276126712,
           0.005125469429667808,
           0.002592191435694064,
           0.003328609457198059,
           0.000029456720860159817,
           0.00023565376688127853,
           0.2323840708658008,
           0.000029456720860159817,
           0.000029456720860159817,
           0.003799916990960616,
           0.000058913441720319633,
           0.000029456720860159817,
           0.007128526448158676,
           0.001119355392686073,
           0.0008542449049446346,
           0.000648047858923516,
           0.0017084898098892692,
           0.0001767403251609589,
           0.000058913441720319633,
           0.0001767403251609589,
           0.000058913441720319633,
           0.0046541618959052514,
           0.000029456720860159817,
           0.000029456720860159817,
           0.002268167506232306,
           0.000029456720860159817,
           0.000058913441720319633,
           0.000029456720860159817,
           0.0018557734141900681,
           0.000029456720860159817,
           0.00008837016258047944,
           0.004065027478702054,
           0.0014728360430079908,
           0.22057192580087667,
           0.0008247881840844748,
           0.000029456720860159817,
           0.0003829373711820776,
           0.011547034577182647,
           0.0007658747423641552,
           0.01614228303136758,
           0.001119355392686073,
           0.00029456720860159815,
           0.05967931646268378,
           0.013638461758253994,
           0.0016495763681689496,
           0.000795331463224315,
           0.000058913441720319633,
           0.00008837016258047944,
           0.000029456720860159817,
           0.000618591138063356,
           0.000029456720860159817,
           0.0008837016258047945,
           0.000029456720860159817,
           0.000058913441720319633,
           0.000029456720860159817,
           0.0008837016258047945,
           0.000029456720860159817,
           0.00008837016258047944,
           0.0006775045797836757,
           0.00008837016258047944,
           0.0019736002976307077,
           0.5919622624057717,
           0.000029456720860159817,
           0.000029456720860159817,
           0.00029456720860159815,
           0.0003829373711820776,
           0.07013645236804052,
           0.2794853675211963,
           0.000029456720860159817,
           0.0010309852301055935,
           0.0018557734141900681,
           0.002503821273113584,
           0.0038588304326809355,
           0.000029456720860159817,
           0.000029456720860159817,
           0.000029456720860159817,
           0.0011488121135462327,
           0.005567320242570204,
           0.000029456720860159817,
           0.00023565376688127853,
           0.0004123940920422374,
           0.4613806188326831,
           0.0003829373711820776,
           0.00023565376688127853,
           0.000029456720860159817,
           0.009956371650734017,
           0.0005302209754828767,
           0.000058913441720319633,
           0.000058913441720319633,
           0.001914686855910388,
           0.000029456720860159817,
           0.00026511048774143837,
           0.000029456720860159817,
           0.00008837016258047944,
           0.000029456720860159817,
           0.00008837016258047944,
           0.000029456720860159817,
           0.23421038755913068,
           0.000029456720860159817,
           0.001119355392686073,
           0.00023565376688127853,
           0.000058913441720319633,
           0.000029456720860159817,
           0.0018263166933299084,
           0.000029456720860159817,
           0.00011782688344063927,
           0.000029456720860159817,
           0.000029456720860159817,
           0.000029456720860159817,
           0.00159066292644863,
           0.00023565376688127853,
           0.001119355392686073,
           0.000029456720860159817,
           0.000058913441720319633,
           0.000029456720860159817,
           0.00008837016258047944,
           0.0008247881840844748,
           0.04268278852637157,
           0.0018557734141900681,
           0.00008837016258047944,
           0.009219953629230022,
           0.000029456720860159817,
           0.000058913441720319633,
           0.0005596776963430365,
           0.0021797973436518264,
           0.003917743874401255,
           0.000029456720860159817,
           0.000029456720860159817,
           0.0010015285092454336,
           0.000029456720860159817,
           0.000029456720860159817,
           0.000029456720860159817,
           0.012047798831805364,
           0.0007658747423641552,
           0.01587717254362614,
           0.00014728360430079908,
           0.008247881840844748,
           0.006126997938913242,
           0.000029456720860159817,
           0.016613590565130135,
           0.000029456720860159817,
           0.002562734714833904,
           0.000029456720860159817,
           0.00008837016258047944,
           0.018705017746201483,
           0.000029456720860159817,
           0.000029456720860159817,
           0.002385994389672945,
           0.03917743874401255,
           0.000029456720860159817,
           0.00008837016258047944,
           0.005390579917409246,
           0.00008837016258047944,
           0.09275921398864326,
           0.000029456720860159817,
           0.0001767403251609589,
           0.003799916990960616,
           0.04954620448678881,
           0.0023565376688127852,
           0.000029456720860159817,
           0.000029456720860159817,
           0.38603032687239436,
           0.000029456720860159817,
           0.000029456720860159817,
           0.000029456720860159817,
           0.000029456720860159817,
           0.0008247881840844748,
           0.0018852301350502283,
           0.002827845202575342,
           0.000029456720860159817,
           0.0017084898098892692,
           0.0002061970460211187,
           0.00023565376688127853,
           0.26531668478745946,
           0.000029456720860159817,
           0.00008837016258047944,
           0.00014728360430079908,
           0.000029456720860159817,
           0.00029456720860159815,
           0.0005007642546227168,
           0.00008837016258047944,
           0.000029456720860159817,
           0.00008837016258047944,
           0.000029456720860159817,
           0.0008247881840844748,
           0.05649799060978652,
           0.07202168250309075,
           0.000029456720860159817,
           0.000029456720860159817,
           0.00023565376688127853,
           0.00023565376688127853,
           0.004153397641282534,
           0.0005007642546227168,
           0.015199667963842464,
           0.03685035779605993,
           0.000058913441720319633,
           0.001413922601287671,
           0.000029456720860159817,
           0.000029456720860159817,
           0.0002061970460211187,
           0.000029456720860159817,
           0.000029456720860159817,
           0.0001767403251609589,
           0.000029456720860159817,
           0.000029456720860159817,
           0.021503406227916664,
           0.0004123940920422374,
           0.003446436340638698,
           0.0005596776963430365,
           0.00044185081290239723,
           0.000029456720860159817,
           0.000029456720860159817,
           0.0005596776963430365,
           0.000058913441720319633,
           0.000058913441720319633,
           0.00011782688344063927,
           0.000029456720860159817,
           0.000029456720860159817,
           0.000058913441720319633,
           0.0005891344172031963,
           0.00008837016258047944,
           0.000029456720860159817,
           0.000029456720860159817,
           0.08012228073963469,
           0.00023565376688127853,
           0.000795331463224315,
           0.00008837016258047944,
           0.000058913441720319633,
           0.0005596776963430365,
           0.000029456720860159817,
           0.21638907143873404,
           0.000029456720860159817,
           0.000029456720860159817,
           0.001266638996986872,
           0.02542115010231792,
           0.0009131583466649542,
           0.0003829373711820776,
           0.000029456720860159817,
           0.009190496908369861,
           0.00491927238364669,
           0.000029456720860159817,
           0.0019736002976307077,
           0.000029456720860159817,
           0.0011782688344063926,
           0.000058913441720319633,
           0.0013844658804275111,
           0.0013255524387071917,
           0.0027983884817151827,
           0.0024154511105331047,
           0.00011782688344063927,
           0.0008247881840844748,
           0.000324023929461758,
           0.0026216481565542234,
           0.003034042248596461,
           0.3906255753265793,
           0.000029456720860159817,
           0.000029456720860159817,
           0.0016495763681689496,
           0.0005302209754828767,
           0.0013550091595673514,
           0.000058913441720319633,
           0.000058913441720319633,
           0.000058913441720319633,
           0.00014728360430079908,
           0.0007069613006438355,
           0.000029456720860159817,
           0.000795331463224315,
           0.000029456720860159817,
           0.002710018319134703,
           0.04029679413669863,
           0.0005007642546227168,
           0.00008837016258047944,
           0.000324023929461758,
           0.0005302209754828767,
           0.002120883901931507,
           0.0003534806503219178,
           0.000029456720860159817,
           0.000058913441720319633,
           0.00029456720860159815,
           0.000029456720860159817,
           0.000029456720860159817,
           0.0002061970460211187,
           0.000029456720860159817,
           0.000058913441720319633,
           0.000029456720860159817,
           0.0005302209754828767,
           0.00011782688344063927,
           0.000058913441720319633,
           0.000058913441720319633,
           0.000029456720860159817,
           0.000058913441720319633,
           0.00026511048774143837,
           0.000029456720860159817,
           0.000058913441720319633,
           0.143954994843601,
           0.0008542449049446346,
           0.00011782688344063927,
           0.000058913441720319633,
           0.000058913441720319633,
           0.000058913441720319633,
           0.0008247881840844748,
           0.0001767403251609589,
           0.000324023929461758,
           0.07325886477921746,
           0.02671724582016495,
           0.04409671112765924,
           0.000029456720860159817,
           0.002238710785372146,
           0.0007364180215039954,
           0.00008837016258047944,
           0.000029456720860159817,
           0.0010015285092454336,
           0.015582605335024542,
           0.00014728360430079908,
           0.008571905770306506,
           0.000029456720860159817,
           0.0005596776963430365,
           0.000618591138063356,
           0.12209810796536243,
           0.000029456720860159817,
           0.00159066292644863,
           0.00011782688344063927,
           0.00011782688344063927,
           0.0001767403251609589,
           0.0008247881840844748,
           0.00948506411697146,
           0.00008837016258047944,
           0.000029456720860159817,
           0.00014728360430079908,
           0.00014728360430079908,
           0.000029456720860159817,
           0.03888287153541096,
           0.0012077255552665523,
           0.0007658747423641552,
           0.030634989694566208,
           0.000029456720860159817,
           0.005478950079989726,
           0.000029456720860159817,
           0.02073753148555251,
           0.0002061970460211187,
           0.0007069613006438355,
           0.0005596776963430365,
           0.0001767403251609589,
           0.001767403251609589,
           0.002032513739351027,
           0.0003829373711820776,
           0.0024154511105331047,
           0.000029456720860159817,
           0.000029456720860159817,
           0.000029456720860159817,
           0.12952120162212272,
           0.000029456720860159817,
           0.000029456720860159817,
           0.009161040187509703,
           0.0019736002976307077,
           0.00014728360430079908,
           0.000029456720860159817,
           8.987923039014543,
           0.000029456720860159817,
           0.00026511048774143837,
           0.004359594687303653,
           0.0002061970460211187,
           0.000029456720860159817,
           0.0012077255552665523,
           0.000029456720860159817,
           0.000029456720860159817,
           0.0010309852301055935,
           0.0019736002976307077,
           0.0003829373711820776,
           0.004948729104506848,
           0.000058913441720319633,
           0.0002061970460211187,
           0.000029456720860159817,
           0.00008837016258047944,
           0.00008837016258047944,
           0.000058913441720319633,
           0.0001767403251609589,
           0.000324023929461758,
           0.00008837016258047944,
           0.00023565376688127853,
           0.0010015285092454336,
           0.000029456720860159817,
           0.000029456720860159817,
           0.001413922601287671,
           0.000029456720860159817,
           0.000029456720860159817,
           0.000029456720860159817,
           0.0003829373711820776,
           0.004624705175045091,
           0.000029456720860159817,
           0.001413922601287671,
           0.004094484199562215,
           0.007334723494179794,
           0.000029456720860159817,
           0.000058913441720319633,
           0.0002061970460211187,
           0.0008247881840844748,
           0.000058913441720319633,
           0.0001767403251609589,
           0.000029456720860159817,
           0.23197167677375852,
           0.000029456720860159817,
           2.6566132842152332,
           0.000029456720860159817,
           0.000029456720860159817,
           0.0005596776963430365,
           0.002268167506232306,
           0.0007658747423641552,
           0.00029456720860159815,
           0.000058913441720319633,
           0.0001767403251609589,
           0.0001767403251609589,
           0.000029456720860159817,
           0.002061970460211187,
           0.0003829373711820776,
           0.00044185081290239723,
           0.00029456720860159815,
           0.0017084898098892692,
           0.0002061970460211187,
           0.000058913441720319633,
           0.0003534806503219178,
           0.000029456720860159817,
           0.01116409720600057,
           0.000029456720860159817,
           0.00026511048774143837,
           0.00014728360430079908,
           0.0009426150675251141,
           0.000618591138063356,
           0.000029456720860159817,
           0.000029456720860159817,
           0.000058913441720319633,
           0.0002061970460211187,
           0.00026511048774143837,
           0.000029456720860159817,
           0.000029456720860159817,
           0.0013255524387071917,
           0.016554677123409814,
           0.13865278508877224,
           0.000029456720860159817,
           0.00008837016258047944,
           0.000029456720860159817,
           0.00011782688344063927,
           0.001413922601287671,
           0.00011782688344063927,
           0.06265444526955992,
           0.001119355392686073,
           0.00008837016258047944,
           0.000029456720860159817,
           0.000029456720860159817,
           0.01593608598534646,
           0.0013550091595673514,
           0.000029456720860159817,
           0.024301794709631848,
           0.000029456720860159817,
           0.00621536810149372,
           0.000648047858923516,
           0.005950257613752282,
           0.0005007642546227168,
           0.0024449078313932646,
           0.0001767403251609589,
           0.000029456720860159817,
           0.00011782688344063927,
           0.000029456720860159817,
           0.051284151017538235,
           0.000029456720860159817,
           0.000029456720860159817,
           0.0005302209754828767,
           0.0001767403251609589,
           0.00011782688344063927,
           0.03472947389412842,
           0.000029456720860159817,
           0.000324023929461758,
           0.00014728360430079908,
           0.00014728360430079908,
           0.00008837016258047944,
           0.002120883901931507,
           0.0003534806503219178,
           0.0009720717883852739,
           0.000029456720860159817,
           0.002562734714833904,
           0.0007658747423641552,
           0.0003534806503219178,
           0.00044185081290239723,
           0.010427679184496575,
           0.00011782688344063927,
           0.000058913441720319633,
           0.000029456720860159817,
           0.000058913441720319633,
           0.002032513739351027,
           0.00011782688344063927,
           0.00023565376688127853,
           0.00047130753376255707,
           0.000058913441720319633,
           0.00008837016258047944,
           0.0002061970460211187,
           0.0004123940920422374,
           0.00044185081290239723,
           0.00011782688344063927,
           0.034405449964666664,
           0.000029456720860159817,
           0.0002061970460211187,
           0.0005596776963430365,
           0.004506878291604452,
           0.0003829373711820776,
           0.0016495763681689496,
           0.00008837016258047944,
           0.04118049576250342,
           3.285160793929323,
           0.000029456720860159817,
           0.000029456720860159817,
           18.803344280432697,
           0.000029456720860159817,
           0.000029456720860159817,
           0.000029456720860159817,
           0.000029456720860159817,
           0.00047130753376255707,
           0.00008837016258047944,
           0.000058913441720319633,
           0.00047130753376255707,
           0.000058913441720319633,
           0.00008837016258047944,
           0.000029456720860159817,
           0.017880229562117007,
           0.000029456720860159817,
           0.000029456720860159817,
           0.00008837016258047944,
           0.008807559537187783,
           0.00029456720860159815,
           0.005537863521710045,
           0.000058913441720319633,
           0.000029456720860159817,
           0.000029456720860159817,
           0.000324023929461758,
           0.000029456720860159817,
           0.000029456720860159817,
           0.000058913441720319633,
           0.026628875657584473,
           0.000029456720860159817,
           0.0002061970460211187,
           0.00014728360430079908,
           0.0019441435767705477,
           0.0024154511105331047,
           0.00789440119052283,
           0.000029456720860159817,
           0.000029456720860159817,
           0.002061970460211187,
           0.007923857911382991,
           0.00026511048774143837,
           0.0007069613006438355,
           0.0010309852301055935,
           0.010339309021916095,
           0.00023565376688127853,
           0.00008837016258047944,
           0.0003829373711820776,
           0.000029456720860159817,
           0.000029456720860159817,
           0.0001767403251609589,
           0.000058913441720319633,
           0.0002061970460211187,
           0.000029456720860159817,
           0.00044185081290239723,
           0.000029456720860159817,
           0.0007364180215039954,
           0.00011782688344063927,
           2.0181977730129894,
           0.001119355392686073,
           0.000029456720860159817,
           0.000029456720860159817,
           0.0017379465307494292,
           0.0029162153651558216,
           0.00014728360430079908,
           0.000058913441720319633,
           0.000058913441720319633,
           0.0016790330890291097,
           0.000029456720860159817,
           0.0009426150675251141,
           0.014905100755240866,
           0.00023565376688127853,
           0.00047130753376255707,
           0.0009131583466649542,
           0.000029456720860159817,
           0.000029456720860159817,
           0.0003829373711820776,
           0.000058913441720319633,
           0.00026511048774143837,
           0.0013550091595673514,
           0.000058913441720319633,
           0.000029456720860159817,
           0.0004123940920422374,
           0.0007364180215039954,
           0.0023565376688127852,
           0.000029456720860159817,
           0.0013255524387071917,
           0.00014728360430079908,
           0.0016201196473087896,
           0.0010898986718259132,
           0.000795331463224315,
           0.0016201196473087896,
           0.000029456720860159817,
           0.000029456720860159817,
           0.000029456720860159817,
           0.000029456720860159817,
           0.00014728360430079908,
           0.000058913441720319633,
           0.00047130753376255707,
           0.000029456720860159817,
           0.000029456720860159817,
           0.000058913441720319633,
           0.000029456720860159817,
           0.000029456720860159817,
           0.00008837016258047944,
           0.000029456720860159817,
           0.000029456720860159817,
           0.0010898986718259132,
           0.000058913441720319633,
           0.000029456720860159817,
           0.000795331463224315,
           0.00026511048774143837,
           0.000058913441720319633,
           0.0009720717883852739,
           0.00159066292644863,
           0.00008837016258047944,
           0.00008837016258047944,
           0.00026511048774143837,
           0.00008837016258047944,
           0.000029456720860159817,
           0.00011782688344063927,
           0.00023565376688127853,
           0.001119355392686073,
           0.000029456720860159817,
           0.000029456720860159817,
           0.000029456720860159817,
           0.000029456720860159817,
           0.000058913441720319633,
           0.000058913441720319633,
           0.000029456720860159817,
           0.00011782688344063927,
           0.000029456720860159817,
           0.000029456720860159817,
           0.00014728360430079908,
           0.0001767403251609589,
           0.00011782688344063927,
           0.00011782688344063927,
           0.000029456720860159817,
           0.000058913441720319633,
           0.000029456720860159817,
           0.000058913441720319633,
           0.000058913441720319633,
           0.0009720717883852739,
           0.0003534806503219178,
           0.0017084898098892692,
           0.00014728360430079908,
           0.0005007642546227168,
           0.00026511048774143837,
           0.000029456720860159817,
           0.000029456720860159817,
           0.000029456720860159817,
           0.0042123110830028536,
           0.000029456720860159817,
           0.00014728360430079908,
           0.000324023929461758,
           0.000058913441720319633,
           0.000058913441720319633,
           0.000029456720860159817,
           0.00159066292644863,
           0.001296095717847032,
           0.002503821273113584,
           0.000029456720860159817,
           0.00023565376688127853,
           0.000029456720860159817,
           0.000058913441720319633,
           0.00008837016258047944,
           0.000058913441720319633,
           0.00008837016258047944,
           0.000029456720860159817,
           0.00011782688344063927,
           0.000029456720860159817,
           0.000029456720860159817,
           0.000029456720860159817,
           0.0002061970460211187,
           0.000058913441720319633,
           0.000058913441720319633,
           0.000029456720860159817,
           0.000029456720860159817,
           0.000029456720860159817,
           0.00014728360430079908,
           0.000058913441720319633,
           0.000029456720860159817,
           0.000029456720860159817,
           0.000029456720860159817,
           0.000058913441720319633,
           0.00014728360430079908,
           0.0010309852301055935,
           0.000029456720860159817,
           0.000029456720860159817,
           0.00011782688344063927,
           0.000029456720860159817,
           0.00047130753376255707,
           0.000029456720860159817,
           0.000029456720860159817,
           0.0005596776963430365,
           0.000029456720860159817,
           0.00008837016258047944,
           0.000029456720860159817,
           0.000058913441720319633,
           0.00023565376688127853,
           0.000029456720860159817,
           0.000058913441720319633,
           0.0017084898098892692,
           0.000058913441720319633,
           0.000029456720860159817,
           0.000029456720860159817,
           0.000029456720860159817,
           0.000058913441720319633,
           0.000058913441720319633,
           0.0001767403251609589,
           0.00011782688344063927,
           0.000029456720860159817,
           0.00011782688344063927,
           0.000058913441720319633,
           0.00014728360430079908,
           0.0003829373711820776,
           0.000058913441720319633,
           0.000029456720860159817,
           0.00008837016258047944,
           0.000029456720860159817,
           0.00014728360430079908,
           0.0007069613006438355,
           0.000029456720860159817,
           0.0007364180215039954,
           0.00044185081290239723,
           0.000029456720860159817,
           0.00011782688344063927,
           0.0006775045797836757,
           0.00047130753376255707,
           0.0001767403251609589,
           0.0003829373711820776,
           0.0005596776963430365,
           0.00029456720860159815,
           0.00008837016258047944,
           0.0008247881840844748,
           0.0002061970460211187,
           0.000058913441720319633,
           0.000029456720860159817,
           0.0001767403251609589,
           0.000029456720860159817,
           0.00008837016258047944,
           0.000029456720860159817,
           0.000058913441720319633,
           0.000029456720860159817,
           0.0020914271810713466,
           0.000058913441720319633,
           0.000058913441720319633,
           0.000058913441720319633,
           0.0002061970460211187,
           0.000324023929461758,
           0.000029456720860159817,
           0.00008837016258047944,
           0.000029456720860159817,
           0.0010309852301055935,
           0.000029456720860159817,
           0.000029456720860159817,
           0.000029456720860159817,
           0.000029456720860159817,
           0.000029456720860159817,
           0.0009426150675251141,
           0.00011782688344063927,
           0.000029456720860159817,
           0.00008837016258047944,
           0.00023565376688127853,
           0.000029456720860159817,
           0.000029456720860159817,
           0.00008837016258047944,
           0.000058913441720319633,
           0.000029456720860159817,
           0.0011488121135462327,
           0.000058913441720319633,
           0.000029456720860159817,
           0.000029456720860159817,
           0.000029456720860159817,
           0.000029456720860159817,
           0.00008837016258047944,
           0.000029456720860159817,
           0.000029456720860159817,
           0.000029456720860159817,
           0.000029456720860159817,
           0.0012077255552665523,
           0.00014728360430079908,
           0.000029456720860159817,
           0.00026511048774143837,
           0.000029456720860159817,
           0.000029456720860159817,
           0.0005007642546227168,
           0.000029456720860159817,
           0.000058913441720319633,
           0.0001767403251609589,
           0.000029456720860159817,
           0.00029456720860159815,
           0.000029456720860159817,
           0.000029456720860159817,
           0.000029456720860159817,
           0.000029456720860159817,
           0.000029456720860159817,
           0.000029456720860159817,
           0.000029456720860159817,
           0.000029456720860159817,
           0.000029456720860159817,
           0.000029456720860159817,
           0.000029456720860159817,
           0.000029456720860159817,
           0.000058913441720319633,
           0.000058913441720319633,
           0.00008837016258047944,
           0.000029456720860159817,
           0.00026511048774143837,
           0.00026511048774143837,
           0.000029456720860159817,
           0.00008837016258047944,
           0.0003534806503219178,
           0.00014728360430079908,
           0.000029456720860159817,
           0.00008837016258047944,
           0.00014728360430079908,
           0.000029456720860159817,
           0.0003534806503219178,
           0.000029456720860159817,
           0.00011782688344063927,
           0.000058913441720319633,
           0.000029456720860159817,
           0.00008837016258047944,
           0.000058913441720319633,
           0.0002061970460211187,
           0.000029456720860159817,
           0.000029456720860159817,
           0.0018852301350502283,
           0.000029456720860159817,
           0.00008837016258047944,
           0.000029456720860159817,
           0.0005007642546227168,
           0.0018263166933299084,
           0.000029456720860159817,
           0.000029456720860159817,
           0.00008837016258047944,
           0.0001767403251609589,
           0.000029456720860159817,
           0.00008837016258047944,
           0.0008837016258047945,
           0.000029456720860159817,
           0.000029456720860159817,
           0.00026511048774143837,
           0.000058913441720319633,
           0.000058913441720319633,
           0.000029456720860159817,
           0.0001767403251609589,
           0.000029456720860159817,
           0.000029456720860159817,
           0.000029456720860159817,
           0.00014728360430079908,
           0.000029456720860159817,
           0.000029456720860159817,
           0.000029456720860159817,
           0.000058913441720319633,
           0.00786494446966267,
           0.000029456720860159817,
           0.000029456720860159817,
           0.000029456720860159817,
           0.000029456720860159817,
           0.000029456720860159817,
           0.000029456720860159817,
           0.000029456720860159817,
           0.000029456720860159817,
           0.0005007642546227168,
           0.000058913441720319633,
           0.000029456720860159817,
           0.000058913441720319633
          ]
         },
         "name": "",
         "parents": [
          "",
          "",
          "",
          "",
          "",
          "",
          "",
          "",
          "",
          "",
          "",
          "",
          "",
          "",
          "",
          "",
          "",
          "",
          "",
          "",
          "",
          "",
          "",
          "",
          "",
          "",
          "",
          "",
          "",
          "",
          "",
          "",
          "",
          "",
          "",
          "",
          "",
          "",
          "",
          "",
          "",
          "",
          "",
          "",
          "",
          "",
          "",
          "",
          "",
          "",
          "",
          "",
          "",
          "",
          "",
          "",
          "",
          "",
          "",
          "",
          "",
          "",
          "",
          "",
          "",
          "",
          "",
          "",
          "",
          "",
          "",
          "",
          "",
          "",
          "",
          "",
          "",
          "",
          "",
          "",
          "",
          "",
          "",
          "",
          "",
          "",
          "",
          "",
          "",
          "",
          "",
          "",
          "",
          "",
          "",
          "",
          "",
          "",
          "",
          "",
          "",
          "",
          "",
          "",
          "",
          "",
          "",
          "",
          "",
          "",
          "",
          "",
          "",
          "",
          "",
          "",
          "",
          "",
          "",
          "",
          "",
          "",
          "",
          "",
          "",
          "",
          "",
          "",
          "",
          "",
          "",
          "",
          "",
          "",
          "",
          "",
          "",
          "",
          "",
          "",
          "",
          "",
          "",
          "",
          "",
          "",
          "",
          "",
          "",
          "",
          "",
          "",
          "",
          "",
          "",
          "",
          "",
          "",
          "",
          "",
          "",
          "",
          "",
          "",
          "",
          "",
          "",
          "",
          "",
          "",
          "",
          "",
          "",
          "",
          "",
          "",
          "",
          "",
          "",
          "",
          "",
          "",
          "",
          "",
          "",
          "",
          "",
          "",
          "",
          "",
          "",
          "",
          "",
          "",
          "",
          "",
          "",
          "",
          "",
          "",
          "",
          "",
          "",
          "",
          "",
          "",
          "",
          "",
          "",
          "",
          "",
          "",
          "",
          "",
          "",
          "",
          "",
          "",
          "",
          "",
          "",
          "",
          "",
          "",
          "",
          "",
          "",
          "",
          "",
          "",
          "",
          "",
          "",
          "",
          "",
          "",
          "",
          "",
          "",
          "",
          "",
          "",
          "",
          "",
          "",
          "",
          "",
          "",
          "",
          "",
          "",
          "",
          "",
          "",
          "",
          "",
          "",
          "",
          "",
          "",
          "",
          "",
          "",
          "",
          "",
          "",
          "",
          "",
          "",
          "",
          "",
          "",
          "",
          "",
          "",
          "",
          "",
          "",
          "",
          "",
          "",
          "",
          "",
          "",
          "",
          "",
          "",
          "",
          "",
          "",
          "",
          "",
          "",
          "",
          "",
          "",
          "",
          "",
          "",
          "",
          "",
          "",
          "",
          "",
          "",
          "",
          "",
          "",
          "",
          "",
          "",
          "",
          "",
          "",
          "",
          "",
          "",
          "",
          "",
          "",
          "",
          "",
          "",
          "",
          "",
          "",
          "",
          "",
          "",
          "",
          "",
          "",
          "",
          "",
          "",
          "",
          "",
          "",
          "",
          "",
          "",
          "",
          "",
          "",
          "",
          "",
          "",
          "",
          "",
          "",
          "",
          "",
          "",
          "",
          "",
          "",
          "",
          "",
          "",
          "",
          "",
          "",
          "",
          "",
          "",
          "",
          "",
          "",
          "",
          "",
          "",
          "",
          "",
          "",
          "",
          "",
          "",
          "",
          "",
          "",
          "",
          "",
          "",
          "",
          "",
          "",
          "",
          "",
          "",
          "",
          "",
          "",
          "",
          "",
          "",
          "",
          "",
          "",
          "",
          "",
          "",
          "",
          "",
          "",
          "",
          "",
          "",
          "",
          "",
          "",
          "",
          "",
          "",
          "",
          "",
          "",
          "",
          "",
          "",
          "",
          "",
          "",
          "",
          "",
          "",
          "",
          "",
          "",
          "",
          "",
          "",
          "",
          "",
          "",
          "",
          "",
          "",
          "",
          "",
          "",
          "",
          "",
          "",
          "",
          "",
          "",
          "",
          "",
          "",
          "",
          "",
          "",
          "",
          "",
          "",
          "",
          "",
          "",
          "",
          "",
          "",
          "",
          "",
          "",
          "",
          "",
          "",
          "",
          "",
          "",
          "",
          "",
          "",
          "",
          "",
          "",
          "",
          "",
          "",
          "",
          "",
          "",
          "",
          "",
          "",
          "",
          "",
          "",
          "",
          "",
          "",
          "",
          "",
          "",
          "",
          "",
          "",
          "",
          "",
          "",
          "",
          "",
          "",
          "",
          "",
          "",
          "",
          "",
          "",
          "",
          "",
          "",
          "",
          "",
          "",
          "",
          "",
          "",
          "",
          "",
          "",
          "",
          "",
          "",
          "",
          "",
          "",
          "",
          "",
          "",
          "",
          "",
          "",
          "",
          "",
          "",
          "",
          "",
          "",
          "",
          "",
          "",
          "",
          "",
          "",
          "",
          "",
          "",
          "",
          "",
          "",
          "",
          "",
          "",
          "",
          "",
          "",
          "",
          "",
          "",
          "",
          "",
          "",
          "",
          "",
          "",
          "",
          "",
          "",
          "",
          "",
          "",
          "",
          "",
          "",
          "",
          "",
          "",
          "",
          "",
          "",
          "",
          "",
          "",
          "",
          "",
          "",
          "",
          "",
          "",
          "",
          "",
          "",
          "",
          "",
          "",
          "",
          "",
          "",
          "",
          "",
          "",
          "",
          "",
          "",
          "",
          "",
          "",
          "",
          "",
          "",
          "",
          "",
          "",
          "",
          "",
          "",
          "",
          "",
          "",
          "",
          "",
          "",
          "",
          "",
          "",
          "",
          "",
          "",
          "",
          "",
          "",
          "",
          "",
          "",
          "",
          "",
          "",
          "",
          "",
          "",
          "",
          "",
          "",
          "",
          "",
          "",
          "",
          "",
          "",
          "",
          "",
          "",
          "",
          "",
          "",
          "",
          "",
          "",
          "",
          "",
          "",
          "",
          "",
          "",
          "",
          "",
          "",
          "",
          "",
          "",
          "",
          "",
          "",
          "",
          "",
          "",
          "",
          "",
          "",
          "",
          "",
          "",
          "",
          "",
          "",
          "",
          "",
          "",
          "",
          "",
          "",
          "",
          "",
          "",
          "",
          "",
          "",
          "",
          "",
          "",
          "",
          "",
          "",
          "",
          "",
          "",
          "",
          "",
          "",
          "",
          "",
          "",
          "",
          "",
          "",
          "",
          "",
          "",
          "",
          "",
          "",
          "",
          "",
          "",
          "",
          "",
          "",
          "",
          "",
          "",
          "",
          "",
          "",
          "",
          "",
          "",
          "",
          "",
          "",
          "",
          "",
          "",
          "",
          "",
          "",
          "",
          "",
          "",
          "",
          "",
          "",
          "",
          "",
          "",
          "",
          "",
          "",
          "",
          "",
          "",
          "",
          "",
          "",
          "",
          "",
          "",
          "",
          "",
          "",
          "",
          "",
          "",
          "",
          "",
          "",
          "",
          "",
          "",
          "",
          "",
          "",
          "",
          "",
          "",
          "",
          "",
          "",
          "",
          "",
          "",
          "",
          "",
          "",
          "",
          "",
          "",
          "",
          "",
          "",
          "",
          "",
          "",
          "",
          "",
          "",
          "",
          "",
          "",
          "",
          "",
          "",
          "",
          "",
          "",
          "",
          "",
          "",
          "",
          "",
          "",
          "",
          "",
          "",
          "",
          "",
          "",
          "",
          "",
          "",
          "",
          "",
          "",
          "",
          "",
          "",
          "",
          "",
          "",
          "",
          "",
          "",
          "",
          "",
          "",
          "",
          "",
          "",
          "",
          "",
          "",
          "",
          "",
          "",
          "",
          "",
          "",
          "",
          "",
          "",
          "",
          "",
          "",
          "",
          "",
          "",
          "",
          "",
          "",
          "",
          "",
          "",
          "",
          "",
          "",
          "",
          "",
          "",
          "",
          "",
          "",
          "",
          "",
          "",
          "",
          "",
          "",
          "",
          "",
          "",
          "",
          "",
          "",
          "",
          "",
          "",
          "",
          "",
          "",
          "",
          "",
          "",
          "",
          "",
          "",
          "",
          "",
          "",
          "",
          "",
          "",
          "",
          "",
          "",
          "",
          "",
          "",
          "",
          "",
          "",
          "",
          "",
          "",
          "",
          "",
          "",
          "",
          "",
          "",
          "",
          "",
          "",
          "",
          "",
          "",
          "",
          "",
          "",
          "",
          "",
          "",
          "",
          "",
          "",
          "",
          "",
          "",
          "",
          "",
          "",
          "",
          "",
          "",
          "",
          "",
          "",
          "",
          "",
          "",
          "",
          "",
          "",
          "",
          "",
          "",
          "",
          "",
          "",
          "",
          "",
          "",
          "",
          "",
          "",
          "",
          "",
          "",
          "",
          "",
          "",
          "",
          "",
          "",
          "",
          "",
          "",
          "",
          "",
          "",
          "",
          "",
          "",
          "",
          "",
          "",
          "",
          "",
          "",
          "",
          "",
          "",
          "",
          "",
          "",
          "",
          "",
          "",
          "",
          "",
          "",
          "",
          "",
          "",
          "",
          "",
          "",
          "",
          "",
          "",
          "",
          "",
          "",
          "",
          "",
          "",
          "",
          "",
          "",
          "",
          "",
          "",
          "",
          "",
          "",
          "",
          "",
          "",
          "",
          "",
          "",
          "",
          "",
          "",
          "",
          "",
          "",
          "",
          "",
          "",
          "",
          "",
          "",
          "",
          "",
          "",
          "",
          "",
          "",
          "",
          "",
          "",
          "",
          "",
          "",
          "",
          "",
          "",
          "",
          "",
          "",
          "",
          "",
          "",
          "",
          "",
          "",
          "",
          "",
          "",
          "",
          "",
          "",
          "",
          "",
          "",
          "",
          "",
          "",
          "",
          "",
          "",
          "",
          "",
          "",
          "",
          "",
          "",
          "",
          "",
          "",
          "",
          "",
          "",
          "",
          "",
          "",
          "",
          "",
          "",
          "",
          "",
          "",
          "",
          "",
          "",
          "",
          "",
          "",
          "",
          "",
          "",
          "",
          "",
          "",
          "",
          "",
          "",
          "",
          "",
          "",
          "",
          "",
          "",
          "",
          "",
          "",
          "",
          "",
          "",
          "",
          "",
          "",
          "",
          "",
          "",
          "",
          "",
          "",
          "",
          "",
          "",
          "",
          "",
          "",
          "",
          "",
          "",
          "",
          "",
          "",
          "",
          "",
          "",
          "",
          "",
          "",
          "",
          "",
          "",
          "",
          "",
          "",
          "",
          "",
          "",
          "",
          "",
          "",
          "",
          "",
          "",
          "",
          "",
          "",
          "",
          "",
          "",
          "",
          "",
          "",
          "",
          "",
          "",
          "",
          "",
          "",
          "",
          "",
          "",
          "",
          "",
          "",
          "",
          "",
          "",
          "",
          "",
          "",
          "",
          "",
          "",
          "",
          "",
          "",
          "",
          "",
          "",
          "",
          "",
          "",
          "",
          "",
          "",
          "",
          "",
          "",
          "",
          "",
          "",
          "",
          "",
          "",
          "",
          "",
          "",
          "",
          "",
          "",
          "",
          "",
          "",
          "",
          "",
          "",
          "",
          "",
          "",
          "",
          "",
          "",
          "",
          "",
          "",
          "",
          "",
          "",
          "",
          "",
          "",
          "",
          "",
          "",
          "",
          "",
          "",
          "",
          "",
          "",
          "",
          "",
          "",
          "",
          "",
          "",
          "",
          "",
          "",
          "",
          "",
          "",
          "",
          "",
          "",
          "",
          "",
          "",
          "",
          "",
          "",
          "",
          "",
          "",
          "",
          "",
          "",
          "",
          "",
          "",
          "",
          "",
          "",
          "",
          "",
          "",
          "",
          "",
          "",
          "",
          "",
          "",
          "",
          "",
          "",
          "",
          "",
          "",
          "",
          "",
          "",
          "",
          "",
          "",
          "",
          "",
          "",
          "",
          "",
          "",
          "",
          "",
          "",
          "",
          "",
          "",
          "",
          "",
          "",
          "",
          "",
          "",
          "",
          "",
          "",
          "",
          "",
          "",
          "",
          "",
          "",
          "",
          "",
          "",
          "",
          "",
          "",
          "",
          "",
          "",
          "",
          "",
          "",
          "",
          "",
          "",
          "",
          "",
          "",
          "",
          "",
          "",
          "",
          "",
          "",
          "",
          "",
          "",
          "",
          "",
          "",
          "",
          "",
          "",
          "",
          "",
          "",
          "",
          "",
          "",
          "",
          "",
          "",
          "",
          "",
          "",
          "",
          "",
          "",
          "",
          "",
          "",
          "",
          "",
          "",
          "",
          "",
          "",
          "",
          "",
          "",
          "",
          "",
          "",
          "",
          "",
          "",
          "",
          "",
          "",
          "",
          "",
          "",
          "",
          "",
          "",
          "",
          "",
          "",
          "",
          "",
          "",
          "",
          "",
          "",
          "",
          "",
          "",
          "",
          "",
          "",
          "",
          "",
          "",
          "",
          "",
          "",
          "",
          "",
          "",
          "",
          "",
          "",
          "",
          "",
          "",
          "",
          "",
          "",
          "",
          "",
          "",
          "",
          "",
          "",
          "",
          "",
          "",
          "",
          "",
          "",
          "",
          "",
          "",
          "",
          "",
          "",
          "",
          "",
          "",
          "",
          "",
          "",
          "",
          "",
          "",
          "",
          "",
          "",
          "",
          "",
          "",
          "",
          "",
          "",
          "",
          "",
          "",
          "",
          "",
          "",
          "",
          "",
          "",
          "",
          "",
          "",
          "",
          "",
          "",
          "",
          "",
          "",
          "",
          "",
          "",
          "",
          "",
          "",
          "",
          "",
          "",
          "",
          "",
          "",
          "",
          "",
          "",
          "",
          "",
          "",
          "",
          "",
          "",
          "",
          "",
          "",
          "",
          "",
          "",
          "",
          "",
          "",
          "",
          "",
          "",
          "",
          "",
          "",
          "",
          "",
          "",
          "",
          "",
          "",
          "",
          "",
          "",
          "",
          "",
          "",
          "",
          "",
          "",
          "",
          "",
          "",
          "",
          "",
          "",
          "",
          "",
          "",
          "",
          "",
          "",
          "",
          "",
          "",
          "",
          "",
          "",
          "",
          "",
          "",
          "",
          "",
          "",
          "",
          "",
          "",
          "",
          "",
          "",
          "",
          "",
          "",
          "",
          "",
          "",
          "",
          "",
          "",
          "",
          "",
          "",
          "",
          "",
          "",
          "",
          "",
          "",
          "",
          "",
          "",
          "",
          "",
          "",
          "",
          "",
          "",
          ""
         ],
         "type": "treemap",
         "values": [
          0.08963680157746631,
          0.00026511048774143837,
          0.000029456720860159817,
          0.000029456720860159817,
          0.000058913441720319633,
          0.000029456720860159817,
          0.000029456720860159817,
          0.00011782688344063927,
          0.000029456720860159817,
          0.01611282631050742,
          0.0441261678485194,
          0.0023270809479526257,
          0.000029456720860159817,
          0.0028867586442956616,
          0.0021797973436518264,
          0.00041239409204223734,
          0.00011782688344063927,
          0.000324023929461758,
          0.000029456720860159817,
          0.005950257613752282,
          0.000029456720860159817,
          0.00026511048774143837,
          0.007275810052459473,
          0.00020619704602111867,
          0.000324023929461758,
          0.0005596776963430365,
          0.000058913441720319633,
          0.00008837016258047944,
          0.000029456720860159817,
          0.000029456720860159817,
          0.11997722406343093,
          0.00011782688344063927,
          0.0001767403251609589,
          0.000058913441720319633,
          0.00011782688344063927,
          0.000029456720860159817,
          0.000029456720860159817,
          0.0001767403251609589,
          0.00041239409204223734,
          0.00008837016258047944,
          0.00026511048774143837,
          0.000029456720860159817,
          0.000029456720860159817,
          0.00008837016258047944,
          0.000058913441720319633,
          0.000029456720860159817,
          0.000058913441720319633,
          0.00029456720860159815,
          0.000029456720860159817,
          0.0074230936567602724,
          0.0012077255552665523,
          0.0027983884817151827,
          0.0007658747423641552,
          0.00011782688344063927,
          0.000029456720860159817,
          0.00047130753376255707,
          0.000058913441720319633,
          0.00029456720860159815,
          0.030458249369405246,
          0.000058913441720319633,
          0.0007069613006438355,
          0.000029456720860159817,
          0.000058913441720319633,
          0.000618591138063356,
          0.19002530626889097,
          0.000029456720860159817,
          0.001413922601287671,
          0.00020619704602111867,
          0.00014728360430079908,
          0.00026511048774143837,
          0.000029456720860159817,
          0.002562734714833904,
          0.000029456720860159817,
          0.000058913441720319633,
          0.000029456720860159817,
          0.0010604419509657535,
          0.000029456720860159817,
          0.000058913441720319633,
          0.00014728360430079908,
          0.000029456720860159817,
          0.000029456720860159817,
          0.000029456720860159817,
          0.000029456720860159817,
          0.000029456720860159817,
          1.3057280655683041,
          0.000029456720860159817,
          0.00014728360430079908,
          0.0001767403251609589,
          0.35533642373610785,
          0.000029456720860159817,
          0.0011488121135462327,
          0.0003534806503219178,
          0.00008837016258047944,
          0.000648047858923516,
          0.00011782688344063927,
          0.0011488121135462327,
          0.0003534806503219178,
          0.0029456720860159815,
          0.000029456720860159817,
          0.000058913441720319633,
          0.000029456720860159817,
          0.003917743874401255,
          0.000029456720860159817,
          0.0006775045797836757,
          0.004565791733324771,
          0.000029456720860159817,
          0.00621536810149372,
          0.00026511048774143837,
          0.001413922601287671,
          0.000029456720860159817,
          0.002503821273113584,
          0.0023270809479526257,
          0.000029456720860159817,
          0.010339309021916095,
          0.000029456720860159817,
          0.000058913441720319633,
          0.00008837016258047944,
          0.0008542449049446346,
          0.00044185081290239723,
          2.387643966041114,
          0.000029456720860159817,
          0.000029456720860159817,
          0.05255079001452511,
          0.000029456720860159817,
          0.00020619704602111867,
          0.000029456720860159817,
          0.000029456720860159817,
          0.00011782688344063927,
          0.00026511048774143837,
          0.0010015285092454336,
          0.000029456720860159817,
          0.00044185081290239723,
          0.000029456720860159817,
          0.000029456720860159817,
          0.000029456720860159817,
          0.0006775045797836757,
          0.015052384359541664,
          0.000029456720860159817,
          0.008365708724285386,
          0.000029456720860159817,
          0.00014728360430079908,
          0.000058913441720319633,
          0.00014728360430079908,
          0.000029456720860159817,
          0.000029456720860159817,
          0.00008837016258047944,
          0.000058913441720319633,
          0.000029456720860159817,
          0.00014728360430079908,
          0.0013255524387071917,
          0.0010604419509657535,
          0.0013550091595673514,
          0.0008837016258047945,
          0.09700098179250627,
          0.000029456720860159817,
          0.000058913441720319633,
          0.00014728360430079908,
          0.0022976242270924653,
          0.00008837016258047944,
          0.000029456720860159817,
          0.0060386277763327615,
          0.000029456720860159817,
          0.0005596776963430365,
          0.00008837016258047944,
          0.0001767403251609589,
          0.00026511048774143837,
          0.000029456720860159817,
          0.000029456720860159817,
          0.00029456720860159815,
          0.000029456720860159817,
          0.00008837016258047944,
          0.00020619704602111867,
          0.000058913441720319633,
          0.00023565376688127853,
          0.000029456720860159817,
          0.49390083866229956,
          0.000029456720860159817,
          0.000029456720860159817,
          0.00008837016258047944,
          0.000029456720860159817,
          0.000058913441720319633,
          0.000029456720860159817,
          0.005626233684290524,
          0.0018852301350502283,
          0.00159066292644863,
          0.0010015285092454336,
          0.000029456720860159817,
          0.19043770036093322,
          0.000029456720860159817,
          0.002533277993973744,
          0.000029456720860159817,
          0.00020619704602111867,
          0.0008247881840844747,
          0.000795331463224315,
          0.005596776963430365,
          0.00020619704602111867,
          0.00023565376688127853,
          0.0005596776963430365,
          0.00008837016258047944,
          0.00047130753376255707,
          0.0003534806503219178,
          0.000058913441720319633,
          0.00047130753376255707,
          0.000058913441720319633,
          0.000029456720860159817,
          0.00014728360430079908,
          0.00026511048774143837,
          0.005802974009451484,
          0.000029456720860159817,
          0.000029456720860159817,
          0.000029456720860159817,
          0.000058913441720319633,
          0.00480144550020605,
          0.002739475039994863,
          0.000029456720860159817,
          0.00011782688344063927,
          2.564796685294115,
          0.000029456720860159817,
          0.000029456720860159817,
          0.0008542449049446346,
          0.00044185081290239723,
          0.000029456720860159817,
          0.000058913441720319633,
          0.00008837016258047944,
          0.000029456720860159817,
          0.00023565376688127853,
          0.000058913441720319633,
          0.002032513739351027,
          0.00023565376688127853,
          0.000029456720860159817,
          0.000029456720860159817,
          0.000029456720860159817,
          0.000058913441720319633,
          0.0010898986718259132,
          0.00026511048774143837,
          0.0538763424532323,
          0.000029456720860159817,
          0.0027983884817151827,
          0.019647632813726595,
          0.000029456720860159817,
          0.0019441435767705477,
          0.000029456720860159817,
          0.00026511048774143837,
          0.000029456720860159817,
          0.00041239409204223734,
          0.00008837016258047944,
          0.00029456720860159815,
          0.0003829373711820776,
          0.008012228073963469,
          0.00020619704602111867,
          0.00008837016258047944,
          0.000058913441720319633,
          0.000029456720860159817,
          0.000029456720860159817,
          0.033551205059722033,
          0.0034169796197785385,
          0.005213839592248287,
          0.023948314059309927,
          0.000029456720860159817,
          0.06498152621751256,
          0.000029456720860159817,
          0.000648047858923516,
          0.000029456720860159817,
          0.00011782688344063927,
          0.0014433793221478308,
          0.00011782688344063927,
          0.000029456720860159817,
          0.000029456720860159817,
          0.000029456720860159817,
          0.000029456720860159817,
          0.00011782688344063927,
          0.00020619704602111867,
          0.000029456720860159817,
          0.018557734141900685,
          0.000029456720860159817,
          0.0008837016258047945,
          0.0007658747423641552,
          0.015376408289003421,
          0.0010309852301055935,
          0.000648047858923516,
          0.0870151534209121,
          0.000029456720860159817,
          0.0009426150675251141,
          0.00014728360430079908,
          0.0005596776963430365,
          0.00023565376688127853,
          0.033492291618001706,
          0.002827845202575342,
          0.0003534806503219178,
          0.0005596776963430365,
          0.0007658747423641552,
          0.00159066292644863,
          0.006657218914396118,
          0.000029456720860159817,
          0.020295680672650113,
          0.000029456720860159817,
          0.01257801980728824,
          0.21833321501550457,
          0.000029456720860159817,
          0.0022976242270924653,
          0.02403668422189041,
          0.0024154511105331047,
          0.00023565376688127853,
          0.00011782688344063927,
          0.008483535607726028,
          0.00014728360430079908,
          0.000648047858923516,
          0.00011782688344063927,
          0.000029456720860159817,
          0.0005891344172031963,
          0.10342254694002112,
          0.000029456720860159817,
          0.000029456720860159817,
          0.00014728360430079908,
          0.002592191435694064,
          0.0009131583466649542,
          0.00047130753376255707,
          0.07084341366868435,
          0.00008837016258047944,
          0.016849244332011414,
          0.00047130753376255707,
          0.000058913441720319633,
          0.00023565376688127853,
          0.009426150675251141,
          0.000324023929461758,
          0.000029456720860159817,
          0.000029456720860159817,
          0.00954397755869178,
          0.000029456720860159817,
          0.00011782688344063927,
          0.000029456720860159817,
          0.00011782688344063927,
          0.000029456720860159817,
          0.013343894549652395,
          0.011753231623203766,
          0.000029456720860159817,
          0.002061970460211187,
          0.0005007642546227168,
          0.000029456720860159817,
          0.01852827742104052,
          0.00008837016258047944,
          0.00011782688344063927,
          0.000029456720860159817,
          0.000058913441720319633,
          0.02877921628037614,
          0.010250938859335616,
          0.000029456720860159817,
          0.002710018319134703,
          0.000058913441720319633,
          0.00008837016258047944,
          0.000029456720860159817,
          0.000058913441720319633,
          0.000618591138063356,
          0.000029456720860159817,
          0.00486035894192637,
          0.00011782688344063927,
          0.00008837016258047944,
          0.0003534806503219178,
          0.00029456720860159815,
          0.0005302209754828767,
          0.00044185081290239723,
          0.000029456720860159817,
          0.00008837016258047944,
          0.002533277993973744,
          0.00008837016258047944,
          0.0001767403251609589,
          0.027866057933711184,
          0.000029456720860159817,
          0.00026511048774143837,
          0.00014728360430079908,
          0.00008837016258047944,
          0.0005302209754828767,
          0.0014728360430079908,
          0.000029456720860159817,
          0.004359594687303653,
          0.000029456720860159817,
          0.00014728360430079908,
          0.000029456720860159817,
          0.00008837016258047944,
          0.002592191435694064,
          0.00020619704602111867,
          0.00014728360430079908,
          0.00047130753376255707,
          0.000058913441720319633,
          0.000029456720860159817,
          0.011782688344063926,
          0.00008837016258047944,
          0.05808865353623515,
          0.000029456720860159817,
          0.000618591138063356,
          0.000029456720860159817,
          0.0005302209754828767,
          0.000029456720860159817,
          0.00008837016258047944,
          0.000029456720860159817,
          0.1954158861863002,
          0.000029456720860159817,
          0.000029456720860159817,
          0.002032513739351027,
          0.0013844658804275114,
          0.0013844658804275114,
          0.0001767403251609589,
          0.00014728360430079908,
          0.000029456720860159817,
          0.00044185081290239723,
          0.00011782688344063927,
          0.000029456720860159817,
          0.000029456720860159817,
          0.000029456720860159817,
          0.000058913441720319633,
          30.15979387365011,
          0.00029456720860159815,
          0.000058913441720319633,
          0.000029456720860159817,
          0.005714603846871004,
          0.000029456720860159817,
          0.000029456720860159817,
          0.000029456720860159817,
          0.0016201196473087896,
          0.0016495763681689494,
          0.00047130753376255707,
          0.00029456720860159815,
          0.0008837016258047945,
          0.00020619704602111867,
          0.0037410035492402966,
          0.0006775045797836757,
          0.000029456720860159817,
          0.000058913441720319633,
          0.00011782688344063927,
          0.002120883901931507,
          0.0015612062055884702,
          0.04942837760334817,
          0.00014728360430079908,
          0.0009426150675251141,
          0.000058913441720319633,
          0.000058913441720319633,
          0.004035570757841895,
          0.0028867586442956616,
          0.000029456720860159817,
          0.00008837016258047944,
          0.00014728360430079908,
          0.00014728360430079908,
          0.017114354819752854,
          0.006598305472675797,
          0.000029456720860159817,
          0.00011782688344063927,
          0.000029456720860159817,
          7.836194710103155,
          0.000029456720860159817,
          0.004389051408163812,
          0.000795331463224315,
          0.001914686855910388,
          0.0032107825737574197,
          0.000029456720860159817,
          0.00011782688344063927,
          0.005891344172031963,
          0.000029456720860159817,
          0.0010309852301055935,
          0.022563848178882417,
          0.0001767403251609589,
          0.040591361345300225,
          0.00023565376688127853,
          0.06227150789837784,
          0.000029456720860159817,
          0.000648047858923516,
          0.000029456720860159817,
          0.00008837016258047944,
          0.0007364180215039954,
          0.0016495763681689494,
          0.000029456720860159817,
          0.0009131583466649542,
          0.00014728360430079908,
          0.007040156285578195,
          0.0042123110830028536,
          0.000029456720860159817,
          0.0003534806503219178,
          0.02406614094275057,
          0.0005302209754828767,
          0.008630819212026826,
          0.000029456720860159817,
          0.00008837016258047944,
          0.0013844658804275114,
          0.000029456720860159817,
          0.0017379465307494292,
          0.000029456720860159817,
          0.000029456720860159817,
          0.0010898986718259132,
          0.0047130753376255705,
          0.0011488121135462327,
          0.00026511048774143837,
          0.000058913441720319633,
          0.0009720717883852739,
          0.0007069613006438355,
          0.0035053497823590175,
          0.000029456720860159817,
          0.000058913441720319633,
          0.000029456720860159817,
          0.003534806503219178,
          0.010162568696755137,
          0.000029456720860159817,
          0.0010309852301055935,
          0.000058913441720319633,
          0.00008837016258047944,
          0.013638461758253994,
          0.000029456720860159817,
          0.033050440805099314,
          0.000029456720860159817,
          0.00020619704602111867,
          0.0003534806503219178,
          0.0003534806503219178,
          0.002533277993973744,
          0.003328609457198059,
          0.00023565376688127853,
          0.002003057018490867,
          0.026452135332423514,
          0.1041589649615251,
          0.000029456720860159817,
          0.0008837016258047945,
          0.0010898986718259132,
          0.015258581405562785,
          0.000029456720860159817,
          0.009573434279551941,
          0.0006775045797836757,
          0.000029456720860159817,
          0.000058913441720319633,
          0.03608448305369577,
          0.00159066292644863,
          0.000029456720860159817,
          0.022976242270924655,
          0.1983615582723162,
          0.000029456720860159817,
          0.000058913441720319633,
          0.00008837016258047944,
          0.00026511048774143837,
          0.09305378119724485,
          0.000029456720860159817,
          0.00020619704602111867,
          0.00014728360430079908,
          0.01570043221846518,
          0.003446436340638698,
          0.001119355392686073,
          0.004889815662786529,
          0.02041350755609075,
          0.000058913441720319633,
          0.000029456720860159817,
          1.7423061254367327,
          0.000058913441720319633,
          0.000029456720860159817,
          0.03154814804123116,
          0.0023565376688127852,
          0.006274281543214041,
          0.0010015285092454336,
          0.00008837016258047944,
          0.00041239409204223734,
          0.000058913441720319633,
          0.00636265170579452,
          0.00020619704602111867,
          0.000029456720860159817,
          0.00041239409204223734,
          0.000029456720860159817,
          0.00008837016258047944,
          0.001237182276126712,
          0.00011782688344063927,
          0.032520219829616434,
          0.000029456720860159817,
          0.000029456720860159817,
          0.0026511048774143834,
          0.0029162153651558216,
          7.062366653106757,
          0.000029456720860159817,
          0.000029456720860159817,
          0.0019441435767705477,
          0.000058913441720319633,
          0.013991942408575911,
          0.000058913441720319633,
          0.000058913441720319633,
          0.000029456720860159817,
          0.0032107825737574197,
          0.000029456720860159817,
          0.000029456720860159817,
          0.000029456720860159817,
          0.3124474381637152,
          0.000029456720860159817,
          0.000058913441720319633,
          0.006568848751815639,
          0.000029456720860159817,
          0.00011782688344063927,
          0.00011782688344063927,
          0.000618591138063356,
          0.000058913441720319633,
          0.001914686855910388,
          0.000029456720860159817,
          0.002385994389672945,
          0.00636265170579452,
          0.007747117586222031,
          0.0024154511105331047,
          0.00011782688344063927,
          0.00041239409204223734,
          0.00011782688344063927,
          0.000029456720860159817,
          0.000029456720860159817,
          0.000058913441720319633,
          0.000058913441720319633,
          0.00020619704602111867,
          0.000029456720860159817,
          0.000029456720860159817,
          0.000029456720860159817,
          0.00008837016258047944,
          0.00008837016258047944,
          0.0001767403251609589,
          0.000058913441720319633,
          0.004359594687303653,
          0.000029456720860159817,
          0.0046541618959052514,
          0.000029456720860159817,
          0.002710018319134703,
          0.001767403251609589,
          0.00008837016258047944,
          0.0003829373711820776,
          0.00011782688344063927,
          0.000029456720860159817,
          0.00023565376688127853,
          0.00011782688344063927,
          0.000029456720860159817,
          0.000029456720860159817,
          0.000029456720860159817,
          0.0008837016258047945,
          0.0006775045797836757,
          0.00044185081290239723,
          0.019706546255446915,
          0.000058913441720319633,
          0.0016495763681689494,
          0.000029456720860159817,
          0.00011782688344063927,
          0.000058913441720319633,
          0.00008837016258047944,
          0.013756288641694633,
          0.000029456720860159817,
          0.02486147240597488,
          0.0003534806503219178,
          0.001296095717847032,
          0.000029456720860159817,
          0.000324023929461758,
          0.000029456720860159817,
          0.000029456720860159817,
          0.0003534806503219178,
          0.000029456720860159817,
          0.00047130753376255707,
          0.000029456720860159817,
          0.024920385847695205,
          0.000029456720860159817,
          0.0010898986718259132,
          0.001119355392686073,
          0.0411215823207831,
          0.000029456720860159817,
          0.000029456720860159817,
          0.00029456720860159815,
          0.00011782688344063927,
          0.000058913441720319633,
          0.000029456720860159817,
          0.000058913441720319633,
          0.000324023929461758,
          0.000058913441720319633,
          0.0003829373711820776,
          0.00044185081290239723,
          0.001266638996986872,
          0.000058913441720319633,
          0.00011782688344063927,
          0.000324023929461758,
          0.00014728360430079908,
          0.006686675635256278,
          0.0007364180215039954,
          0.0014433793221478308,
          0.00008837016258047944,
          0.02047242099781107,
          0.000324023929461758,
          0.05531972177538013,
          0.000029456720860159817,
          0.00041239409204223734,
          0.0005302209754828767,
          0.0007364180215039954,
          0.0007364180215039954,
          0.000029456720860159817,
          0.0009426150675251141,
          0.0007658747423641552,
          0.000058913441720319633,
          0.00014728360430079908,
          0.00008837016258047944,
          0.002562734714833904,
          0.0001767403251609589,
          0.00011782688344063927,
          0.0005302209754828767,
          0.000029456720860159817,
          0.27851329573281103,
          0.002003057018490867,
          0.000029456720860159817,
          0.002003057018490867,
          0.005272753033968606,
          0.000029456720860159817,
          0.000029456720860159817,
          0.000029456720860159817,
          0.000029456720860159817,
          0.00041239409204223734,
          0.00014728360430079908,
          0.000029456720860159817,
          0.0055378635217100455,
          0.000029456720860159817,
          0.000029456720860159817,
          0.00014728360430079908,
          0.00014728360430079908,
          0.0060386277763327615,
          0.0001767403251609589,
          0.000029456720860159817,
          0.000029456720860159817,
          0.000058913441720319633,
          0.0005891344172031963,
          0.00011782688344063927,
          0.000324023929461758,
          0.04633542191303139,
          0.000029456720860159817,
          0.000029456720860159817,
          0.000029456720860159817,
          0.00008837016258047944,
          0.000029456720860159817,
          0.0029456720860159815,
          0.000029456720860159817,
          0.000029456720860159817,
          0.0032991527363378987,
          0.025627347148339037,
          0.00011782688344063927,
          0.000029456720860159817,
          0.000029456720860159817,
          0.00041239409204223734,
          0.001266638996986872,
          0.000029456720860159817,
          0.000324023929461758,
          0.00047130753376255707,
          0.000029456720860159817,
          0.020325137393510273,
          0.0008542449049446346,
          0.00011782688344063927,
          0.010516049347077054,
          0.000029456720860159817,
          0.0008837016258047945,
          0.002592191435694064,
          0.001237182276126712,
          0.005125469429667808,
          0.002592191435694064,
          0.003328609457198059,
          0.000029456720860159817,
          0.00023565376688127853,
          0.2323840708658008,
          0.000029456720860159817,
          0.000029456720860159817,
          0.003799916990960616,
          0.000058913441720319633,
          0.000029456720860159817,
          0.007128526448158676,
          0.001119355392686073,
          0.0008542449049446346,
          0.000648047858923516,
          0.0017084898098892692,
          0.0001767403251609589,
          0.000058913441720319633,
          0.0001767403251609589,
          0.000058913441720319633,
          0.0046541618959052514,
          0.000029456720860159817,
          0.000029456720860159817,
          0.002268167506232306,
          0.000029456720860159817,
          0.000058913441720319633,
          0.000029456720860159817,
          0.0018557734141900681,
          0.000029456720860159817,
          0.00008837016258047944,
          0.004065027478702054,
          0.0014728360430079908,
          0.22057192580087667,
          0.0008247881840844747,
          0.000029456720860159817,
          0.0003829373711820776,
          0.011547034577182647,
          0.0007658747423641552,
          0.01614228303136758,
          0.001119355392686073,
          0.00029456720860159815,
          0.05967931646268378,
          0.013638461758253994,
          0.0016495763681689494,
          0.000795331463224315,
          0.000058913441720319633,
          0.00008837016258047944,
          0.000029456720860159817,
          0.000618591138063356,
          0.000029456720860159817,
          0.0008837016258047945,
          0.000029456720860159817,
          0.000058913441720319633,
          0.000029456720860159817,
          0.0008837016258047945,
          0.000029456720860159817,
          0.00008837016258047944,
          0.0006775045797836757,
          0.00008837016258047944,
          0.0019736002976307077,
          0.5919622624057717,
          0.000029456720860159817,
          0.000029456720860159817,
          0.00029456720860159815,
          0.0003829373711820776,
          0.07013645236804052,
          0.2794853675211963,
          0.000029456720860159817,
          0.0010309852301055935,
          0.0018557734141900681,
          0.002503821273113584,
          0.0038588304326809355,
          0.000029456720860159817,
          0.000029456720860159817,
          0.000029456720860159817,
          0.0011488121135462327,
          0.005567320242570205,
          0.000029456720860159817,
          0.00023565376688127853,
          0.00041239409204223734,
          0.4613806188326831,
          0.0003829373711820776,
          0.00023565376688127853,
          0.000029456720860159817,
          0.009956371650734017,
          0.0005302209754828767,
          0.000058913441720319633,
          0.000058913441720319633,
          0.001914686855910388,
          0.000029456720860159817,
          0.00026511048774143837,
          0.000029456720860159817,
          0.00008837016258047944,
          0.000029456720860159817,
          0.00008837016258047944,
          0.000029456720860159817,
          0.23421038755913068,
          0.000029456720860159817,
          0.001119355392686073,
          0.00023565376688127853,
          0.000058913441720319633,
          0.000029456720860159817,
          0.0018263166933299084,
          0.000029456720860159817,
          0.00011782688344063927,
          0.000029456720860159817,
          0.000029456720860159817,
          0.000029456720860159817,
          0.00159066292644863,
          0.00023565376688127853,
          0.001119355392686073,
          0.000029456720860159817,
          0.000058913441720319633,
          0.000029456720860159817,
          0.00008837016258047944,
          0.0008247881840844747,
          0.04268278852637157,
          0.0018557734141900681,
          0.00008837016258047944,
          0.009219953629230022,
          0.000029456720860159817,
          0.000058913441720319633,
          0.0005596776963430365,
          0.0021797973436518264,
          0.003917743874401255,
          0.000029456720860159817,
          0.000029456720860159817,
          0.0010015285092454336,
          0.000029456720860159817,
          0.000029456720860159817,
          0.000029456720860159817,
          0.012047798831805364,
          0.0007658747423641552,
          0.01587717254362614,
          0.00014728360430079908,
          0.008247881840844748,
          0.006126997938913242,
          0.000029456720860159817,
          0.016613590565130135,
          0.000029456720860159817,
          0.002562734714833904,
          0.000029456720860159817,
          0.00008837016258047944,
          0.018705017746201483,
          0.000029456720860159817,
          0.000029456720860159817,
          0.002385994389672945,
          0.03917743874401255,
          0.000029456720860159817,
          0.00008837016258047944,
          0.005390579917409246,
          0.00008837016258047944,
          0.09275921398864326,
          0.000029456720860159817,
          0.0001767403251609589,
          0.003799916990960616,
          0.04954620448678881,
          0.0023565376688127852,
          0.000029456720860159817,
          0.000029456720860159817,
          0.38603032687239436,
          0.000029456720860159817,
          0.000029456720860159817,
          0.000029456720860159817,
          0.000029456720860159817,
          0.0008247881840844747,
          0.0018852301350502283,
          0.002827845202575342,
          0.000029456720860159817,
          0.0017084898098892692,
          0.00020619704602111867,
          0.00023565376688127853,
          0.26531668478745946,
          0.000029456720860159817,
          0.00008837016258047944,
          0.00014728360430079908,
          0.000029456720860159817,
          0.00029456720860159815,
          0.0005007642546227168,
          0.00008837016258047944,
          0.000029456720860159817,
          0.00008837016258047944,
          0.000029456720860159817,
          0.0008247881840844747,
          0.05649799060978652,
          0.07202168250309075,
          0.000029456720860159817,
          0.000029456720860159817,
          0.00023565376688127853,
          0.00023565376688127853,
          0.004153397641282534,
          0.0005007642546227168,
          0.015199667963842464,
          0.03685035779605993,
          0.000058913441720319633,
          0.001413922601287671,
          0.000029456720860159817,
          0.000029456720860159817,
          0.00020619704602111867,
          0.000029456720860159817,
          0.000029456720860159817,
          0.0001767403251609589,
          0.000029456720860159817,
          0.000029456720860159817,
          0.021503406227916664,
          0.00041239409204223734,
          0.003446436340638698,
          0.0005596776963430365,
          0.00044185081290239723,
          0.000029456720860159817,
          0.000029456720860159817,
          0.0005596776963430365,
          0.000058913441720319633,
          0.000058913441720319633,
          0.00011782688344063927,
          0.000029456720860159817,
          0.000029456720860159817,
          0.000058913441720319633,
          0.0005891344172031963,
          0.00008837016258047944,
          0.000029456720860159817,
          0.000029456720860159817,
          0.08012228073963469,
          0.00023565376688127853,
          0.000795331463224315,
          0.00008837016258047944,
          0.000058913441720319633,
          0.0005596776963430365,
          0.000029456720860159817,
          0.216389071438734,
          0.000029456720860159817,
          0.000029456720860159817,
          0.001266638996986872,
          0.02542115010231792,
          0.0009131583466649542,
          0.0003829373711820776,
          0.000029456720860159817,
          0.009190496908369861,
          0.00491927238364669,
          0.000029456720860159817,
          0.0019736002976307077,
          0.000029456720860159817,
          0.0011782688344063926,
          0.000058913441720319633,
          0.0013844658804275114,
          0.0013255524387071917,
          0.0027983884817151827,
          0.0024154511105331047,
          0.00011782688344063927,
          0.0008247881840844747,
          0.000324023929461758,
          0.0026216481565542234,
          0.003034042248596461,
          0.39062557532657927,
          0.000029456720860159817,
          0.000029456720860159817,
          0.0016495763681689494,
          0.0005302209754828767,
          0.0013550091595673514,
          0.000058913441720319633,
          0.000058913441720319633,
          0.000058913441720319633,
          0.00014728360430079908,
          0.0007069613006438355,
          0.000029456720860159817,
          0.000795331463224315,
          0.000029456720860159817,
          0.002710018319134703,
          0.04029679413669863,
          0.0005007642546227168,
          0.00008837016258047944,
          0.000324023929461758,
          0.0005302209754828767,
          0.002120883901931507,
          0.0003534806503219178,
          0.000029456720860159817,
          0.000058913441720319633,
          0.00029456720860159815,
          0.000029456720860159817,
          0.000029456720860159817,
          0.00020619704602111867,
          0.000029456720860159817,
          0.000058913441720319633,
          0.000029456720860159817,
          0.0005302209754828767,
          0.00011782688344063927,
          0.000058913441720319633,
          0.000058913441720319633,
          0.000029456720860159817,
          0.000058913441720319633,
          0.00026511048774143837,
          0.000029456720860159817,
          0.000058913441720319633,
          0.143954994843601,
          0.0008542449049446346,
          0.00011782688344063927,
          0.000058913441720319633,
          0.000058913441720319633,
          0.000058913441720319633,
          0.0008247881840844747,
          0.0001767403251609589,
          0.000324023929461758,
          0.07325886477921746,
          0.02671724582016495,
          0.04409671112765924,
          0.000029456720860159817,
          0.002238710785372146,
          0.0007364180215039954,
          0.00008837016258047944,
          0.000029456720860159817,
          0.0010015285092454336,
          0.015582605335024542,
          0.00014728360430079908,
          0.008571905770306506,
          0.000029456720860159817,
          0.0005596776963430365,
          0.000618591138063356,
          0.12209810796536243,
          0.000029456720860159817,
          0.00159066292644863,
          0.00011782688344063927,
          0.00011782688344063927,
          0.0001767403251609589,
          0.0008247881840844747,
          0.00948506411697146,
          0.00008837016258047944,
          0.000029456720860159817,
          0.00014728360430079908,
          0.00014728360430079908,
          0.000029456720860159817,
          0.03888287153541096,
          0.0012077255552665523,
          0.0007658747423641552,
          0.030634989694566208,
          0.000029456720860159817,
          0.005478950079989726,
          0.000029456720860159817,
          0.02073753148555251,
          0.00020619704602111867,
          0.0007069613006438355,
          0.0005596776963430365,
          0.0001767403251609589,
          0.001767403251609589,
          0.002032513739351027,
          0.0003829373711820776,
          0.0024154511105331047,
          0.000029456720860159817,
          0.000029456720860159817,
          0.000029456720860159817,
          0.12952120162212272,
          0.000029456720860159817,
          0.000029456720860159817,
          0.009161040187509703,
          0.0019736002976307077,
          0.00014728360430079908,
          0.000029456720860159817,
          8.987923039014543,
          0.000029456720860159817,
          0.00026511048774143837,
          0.004359594687303653,
          0.00020619704602111867,
          0.000029456720860159817,
          0.0012077255552665523,
          0.000029456720860159817,
          0.000029456720860159817,
          0.0010309852301055935,
          0.0019736002976307077,
          0.0003829373711820776,
          0.004948729104506848,
          0.000058913441720319633,
          0.00020619704602111867,
          0.000029456720860159817,
          0.00008837016258047944,
          0.00008837016258047944,
          0.000058913441720319633,
          0.0001767403251609589,
          0.000324023929461758,
          0.00008837016258047944,
          0.00023565376688127853,
          0.0010015285092454336,
          0.000029456720860159817,
          0.000029456720860159817,
          0.001413922601287671,
          0.000029456720860159817,
          0.000029456720860159817,
          0.000029456720860159817,
          0.0003829373711820776,
          0.004624705175045091,
          0.000029456720860159817,
          0.001413922601287671,
          0.004094484199562215,
          0.007334723494179794,
          0.000029456720860159817,
          0.000058913441720319633,
          0.00020619704602111867,
          0.0008247881840844747,
          0.000058913441720319633,
          0.0001767403251609589,
          0.000029456720860159817,
          0.23197167677375852,
          0.000029456720860159817,
          2.6566132842152332,
          0.000029456720860159817,
          0.000029456720860159817,
          0.0005596776963430365,
          0.002268167506232306,
          0.0007658747423641552,
          0.00029456720860159815,
          0.000058913441720319633,
          0.0001767403251609589,
          0.0001767403251609589,
          0.000029456720860159817,
          0.002061970460211187,
          0.0003829373711820776,
          0.00044185081290239723,
          0.00029456720860159815,
          0.0017084898098892692,
          0.00020619704602111867,
          0.000058913441720319633,
          0.0003534806503219178,
          0.000029456720860159817,
          0.01116409720600057,
          0.000029456720860159817,
          0.00026511048774143837,
          0.00014728360430079908,
          0.0009426150675251141,
          0.000618591138063356,
          0.000029456720860159817,
          0.000029456720860159817,
          0.000058913441720319633,
          0.00020619704602111867,
          0.00026511048774143837,
          0.000029456720860159817,
          0.000029456720860159817,
          0.0013255524387071917,
          0.016554677123409814,
          0.13865278508877224,
          0.000029456720860159817,
          0.00008837016258047944,
          0.000029456720860159817,
          0.00011782688344063927,
          0.001413922601287671,
          0.00011782688344063927,
          0.06265444526955992,
          0.001119355392686073,
          0.00008837016258047944,
          0.000029456720860159817,
          0.000029456720860159817,
          0.01593608598534646,
          0.0013550091595673514,
          0.000029456720860159817,
          0.024301794709631848,
          0.000029456720860159817,
          0.00621536810149372,
          0.000648047858923516,
          0.005950257613752282,
          0.0005007642546227168,
          0.0024449078313932646,
          0.0001767403251609589,
          0.000029456720860159817,
          0.00011782688344063927,
          0.000029456720860159817,
          0.05128415101753824,
          0.000029456720860159817,
          0.000029456720860159817,
          0.0005302209754828767,
          0.0001767403251609589,
          0.00011782688344063927,
          0.03472947389412842,
          0.000029456720860159817,
          0.000324023929461758,
          0.00014728360430079908,
          0.00014728360430079908,
          0.00008837016258047944,
          0.002120883901931507,
          0.0003534806503219178,
          0.0009720717883852739,
          0.000029456720860159817,
          0.002562734714833904,
          0.0007658747423641552,
          0.0003534806503219178,
          0.00044185081290239723,
          0.010427679184496575,
          0.00011782688344063927,
          0.000058913441720319633,
          0.000029456720860159817,
          0.000058913441720319633,
          0.002032513739351027,
          0.00011782688344063927,
          0.00023565376688127853,
          0.00047130753376255707,
          0.000058913441720319633,
          0.00008837016258047944,
          0.00020619704602111867,
          0.00041239409204223734,
          0.00044185081290239723,
          0.00011782688344063927,
          0.034405449964666664,
          0.000029456720860159817,
          0.00020619704602111867,
          0.0005596776963430365,
          0.004506878291604452,
          0.0003829373711820776,
          0.0016495763681689494,
          0.00008837016258047944,
          0.04118049576250342,
          3.285160793929323,
          0.000029456720860159817,
          0.000029456720860159817,
          18.803344280432697,
          0.000029456720860159817,
          0.000029456720860159817,
          0.000029456720860159817,
          0.000029456720860159817,
          0.00047130753376255707,
          0.00008837016258047944,
          0.000058913441720319633,
          0.00047130753376255707,
          0.000058913441720319633,
          0.00008837016258047944,
          0.000029456720860159817,
          0.017880229562117007,
          0.000029456720860159817,
          0.000029456720860159817,
          0.00008837016258047944,
          0.008807559537187783,
          0.00029456720860159815,
          0.0055378635217100455,
          0.000058913441720319633,
          0.000029456720860159817,
          0.000029456720860159817,
          0.000324023929461758,
          0.000029456720860159817,
          0.000029456720860159817,
          0.000058913441720319633,
          0.026628875657584473,
          0.000029456720860159817,
          0.00020619704602111867,
          0.00014728360430079908,
          0.0019441435767705477,
          0.0024154511105331047,
          0.00789440119052283,
          0.000029456720860159817,
          0.000029456720860159817,
          0.002061970460211187,
          0.007923857911382991,
          0.00026511048774143837,
          0.0007069613006438355,
          0.0010309852301055935,
          0.010339309021916095,
          0.00023565376688127853,
          0.00008837016258047944,
          0.0003829373711820776,
          0.000029456720860159817,
          0.000029456720860159817,
          0.0001767403251609589,
          0.000058913441720319633,
          0.00020619704602111867,
          0.000029456720860159817,
          0.00044185081290239723,
          0.000029456720860159817,
          0.0007364180215039954,
          0.00011782688344063927,
          2.0181977730129894,
          0.001119355392686073,
          0.000029456720860159817,
          0.000029456720860159817,
          0.0017379465307494292,
          0.0029162153651558216,
          0.00014728360430079908,
          0.000058913441720319633,
          0.000058913441720319633,
          0.0016790330890291095,
          0.000029456720860159817,
          0.0009426150675251141,
          0.014905100755240866,
          0.00023565376688127853,
          0.00047130753376255707,
          0.0009131583466649542,
          0.000029456720860159817,
          0.000029456720860159817,
          0.0003829373711820776,
          0.000058913441720319633,
          0.00026511048774143837,
          0.0013550091595673514,
          0.000058913441720319633,
          0.000029456720860159817,
          0.00041239409204223734,
          0.0007364180215039954,
          0.0023565376688127852,
          0.000029456720860159817,
          0.0013255524387071917,
          0.00014728360430079908,
          0.0016201196473087896,
          0.0010898986718259132,
          0.000795331463224315,
          0.0016201196473087896,
          0.000029456720860159817,
          0.000029456720860159817,
          0.000029456720860159817,
          0.000029456720860159817,
          0.00014728360430079908,
          0.000058913441720319633,
          0.00047130753376255707,
          0.000029456720860159817,
          0.000029456720860159817,
          0.000058913441720319633,
          0.000029456720860159817,
          0.000029456720860159817,
          0.00008837016258047944,
          0.000029456720860159817,
          0.000029456720860159817,
          0.0010898986718259132,
          0.000058913441720319633,
          0.000029456720860159817,
          0.000795331463224315,
          0.00026511048774143837,
          0.000058913441720319633,
          0.0009720717883852739,
          0.00159066292644863,
          0.00008837016258047944,
          0.00008837016258047944,
          0.00026511048774143837,
          0.00008837016258047944,
          0.000029456720860159817,
          0.00011782688344063927,
          0.00023565376688127853,
          0.001119355392686073,
          0.000029456720860159817,
          0.000029456720860159817,
          0.000029456720860159817,
          0.000029456720860159817,
          0.000058913441720319633,
          0.000058913441720319633,
          0.000029456720860159817,
          0.00011782688344063927,
          0.000029456720860159817,
          0.000029456720860159817,
          0.00014728360430079908,
          0.0001767403251609589,
          0.00011782688344063927,
          0.00011782688344063927,
          0.000029456720860159817,
          0.000058913441720319633,
          0.000029456720860159817,
          0.000058913441720319633,
          0.000058913441720319633,
          0.0009720717883852739,
          0.0003534806503219178,
          0.0017084898098892692,
          0.00014728360430079908,
          0.0005007642546227168,
          0.00026511048774143837,
          0.000029456720860159817,
          0.000029456720860159817,
          0.000029456720860159817,
          0.0042123110830028536,
          0.000029456720860159817,
          0.00014728360430079908,
          0.000324023929461758,
          0.000058913441720319633,
          0.000058913441720319633,
          0.000029456720860159817,
          0.00159066292644863,
          0.001296095717847032,
          0.002503821273113584,
          0.000029456720860159817,
          0.00023565376688127853,
          0.000029456720860159817,
          0.000058913441720319633,
          0.00008837016258047944,
          0.000058913441720319633,
          0.00008837016258047944,
          0.000029456720860159817,
          0.00011782688344063927,
          0.000029456720860159817,
          0.000029456720860159817,
          0.000029456720860159817,
          0.00020619704602111867,
          0.000058913441720319633,
          0.000058913441720319633,
          0.000029456720860159817,
          0.000029456720860159817,
          0.000029456720860159817,
          0.00014728360430079908,
          0.000058913441720319633,
          0.000029456720860159817,
          0.000029456720860159817,
          0.000029456720860159817,
          0.000058913441720319633,
          0.00014728360430079908,
          0.0010309852301055935,
          0.000029456720860159817,
          0.000029456720860159817,
          0.00011782688344063927,
          0.000029456720860159817,
          0.00047130753376255707,
          0.000029456720860159817,
          0.000029456720860159817,
          0.0005596776963430365,
          0.000029456720860159817,
          0.00008837016258047944,
          0.000029456720860159817,
          0.000058913441720319633,
          0.00023565376688127853,
          0.000029456720860159817,
          0.000058913441720319633,
          0.0017084898098892692,
          0.000058913441720319633,
          0.000029456720860159817,
          0.000029456720860159817,
          0.000029456720860159817,
          0.000058913441720319633,
          0.000058913441720319633,
          0.0001767403251609589,
          0.00011782688344063927,
          0.000029456720860159817,
          0.00011782688344063927,
          0.000058913441720319633,
          0.00014728360430079908,
          0.0003829373711820776,
          0.000058913441720319633,
          0.000029456720860159817,
          0.00008837016258047944,
          0.000029456720860159817,
          0.00014728360430079908,
          0.0007069613006438355,
          0.000029456720860159817,
          0.0007364180215039954,
          0.00044185081290239723,
          0.000029456720860159817,
          0.00011782688344063927,
          0.0006775045797836757,
          0.00047130753376255707,
          0.0001767403251609589,
          0.0003829373711820776,
          0.0005596776963430365,
          0.00029456720860159815,
          0.00008837016258047944,
          0.0008247881840844747,
          0.00020619704602111867,
          0.000058913441720319633,
          0.000029456720860159817,
          0.0001767403251609589,
          0.000029456720860159817,
          0.00008837016258047944,
          0.000029456720860159817,
          0.000058913441720319633,
          0.000029456720860159817,
          0.0020914271810713466,
          0.000058913441720319633,
          0.000058913441720319633,
          0.000058913441720319633,
          0.00020619704602111867,
          0.000324023929461758,
          0.000029456720860159817,
          0.00008837016258047944,
          0.000029456720860159817,
          0.0010309852301055935,
          0.000029456720860159817,
          0.000029456720860159817,
          0.000029456720860159817,
          0.000029456720860159817,
          0.000029456720860159817,
          0.0009426150675251141,
          0.00011782688344063927,
          0.000029456720860159817,
          0.00008837016258047944,
          0.00023565376688127853,
          0.000029456720860159817,
          0.000029456720860159817,
          0.00008837016258047944,
          0.000058913441720319633,
          0.000029456720860159817,
          0.0011488121135462327,
          0.000058913441720319633,
          0.000029456720860159817,
          0.000029456720860159817,
          0.000029456720860159817,
          0.000029456720860159817,
          0.00008837016258047944,
          0.000029456720860159817,
          0.000029456720860159817,
          0.000029456720860159817,
          0.000029456720860159817,
          0.0012077255552665523,
          0.00014728360430079908,
          0.000029456720860159817,
          0.00026511048774143837,
          0.000029456720860159817,
          0.000029456720860159817,
          0.0005007642546227168,
          0.000029456720860159817,
          0.000058913441720319633,
          0.0001767403251609589,
          0.000029456720860159817,
          0.00029456720860159815,
          0.000029456720860159817,
          0.000029456720860159817,
          0.000029456720860159817,
          0.000029456720860159817,
          0.000029456720860159817,
          0.000029456720860159817,
          0.000029456720860159817,
          0.000029456720860159817,
          0.000029456720860159817,
          0.000029456720860159817,
          0.000029456720860159817,
          0.000029456720860159817,
          0.000058913441720319633,
          0.000058913441720319633,
          0.00008837016258047944,
          0.000029456720860159817,
          0.00026511048774143837,
          0.00026511048774143837,
          0.000029456720860159817,
          0.00008837016258047944,
          0.0003534806503219178,
          0.00014728360430079908,
          0.000029456720860159817,
          0.00008837016258047944,
          0.00014728360430079908,
          0.000029456720860159817,
          0.0003534806503219178,
          0.000029456720860159817,
          0.00011782688344063927,
          0.000058913441720319633,
          0.000029456720860159817,
          0.00008837016258047944,
          0.000058913441720319633,
          0.00020619704602111867,
          0.000029456720860159817,
          0.000029456720860159817,
          0.0018852301350502283,
          0.000029456720860159817,
          0.00008837016258047944,
          0.000029456720860159817,
          0.0005007642546227168,
          0.0018263166933299084,
          0.000029456720860159817,
          0.000029456720860159817,
          0.00008837016258047944,
          0.0001767403251609589,
          0.000029456720860159817,
          0.00008837016258047944,
          0.0008837016258047945,
          0.000029456720860159817,
          0.000029456720860159817,
          0.00026511048774143837,
          0.000058913441720319633,
          0.000058913441720319633,
          0.000029456720860159817,
          0.0001767403251609589,
          0.000029456720860159817,
          0.000029456720860159817,
          0.000029456720860159817,
          0.00014728360430079908,
          0.000029456720860159817,
          0.000029456720860159817,
          0.000029456720860159817,
          0.000058913441720319633,
          0.00786494446966267,
          0.000029456720860159817,
          0.000029456720860159817,
          0.000029456720860159817,
          0.000029456720860159817,
          0.000029456720860159817,
          0.000029456720860159817,
          0.000029456720860159817,
          0.000029456720860159817,
          0.0005007642546227168,
          0.000058913441720319633,
          0.000029456720860159817,
          0.000058913441720319633
         ]
        }
       ],
       "layout": {
        "coloraxis": {
         "colorbar": {
          "title": {
           "text": "percentage"
          }
         },
         "colorscale": [
          [
           0,
           "#000004"
          ],
          [
           0.1111111111111111,
           "#180f3d"
          ],
          [
           0.2222222222222222,
           "#440f76"
          ],
          [
           0.3333333333333333,
           "#721f81"
          ],
          [
           0.4444444444444444,
           "#9e2f7f"
          ],
          [
           0.5555555555555556,
           "#cd4071"
          ],
          [
           0.6666666666666666,
           "#f1605d"
          ],
          [
           0.7777777777777778,
           "#fd9668"
          ],
          [
           0.8888888888888888,
           "#feca8d"
          ],
          [
           1,
           "#fcfdbf"
          ]
         ]
        },
        "font": {
         "color": "white"
        },
        "legend": {
         "tracegroupgap": 0
        },
        "paper_bgcolor": "black",
        "plot_bgcolor": "black",
        "template": {
         "data": {
          "bar": [
           {
            "error_x": {
             "color": "#2a3f5f"
            },
            "error_y": {
             "color": "#2a3f5f"
            },
            "marker": {
             "line": {
              "color": "#E5ECF6",
              "width": 0.5
             },
             "pattern": {
              "fillmode": "overlay",
              "size": 10,
              "solidity": 0.2
             }
            },
            "type": "bar"
           }
          ],
          "barpolar": [
           {
            "marker": {
             "line": {
              "color": "#E5ECF6",
              "width": 0.5
             },
             "pattern": {
              "fillmode": "overlay",
              "size": 10,
              "solidity": 0.2
             }
            },
            "type": "barpolar"
           }
          ],
          "carpet": [
           {
            "aaxis": {
             "endlinecolor": "#2a3f5f",
             "gridcolor": "white",
             "linecolor": "white",
             "minorgridcolor": "white",
             "startlinecolor": "#2a3f5f"
            },
            "baxis": {
             "endlinecolor": "#2a3f5f",
             "gridcolor": "white",
             "linecolor": "white",
             "minorgridcolor": "white",
             "startlinecolor": "#2a3f5f"
            },
            "type": "carpet"
           }
          ],
          "choropleth": [
           {
            "colorbar": {
             "outlinewidth": 0,
             "ticks": ""
            },
            "type": "choropleth"
           }
          ],
          "contour": [
           {
            "colorbar": {
             "outlinewidth": 0,
             "ticks": ""
            },
            "colorscale": [
             [
              0,
              "#0d0887"
             ],
             [
              0.1111111111111111,
              "#46039f"
             ],
             [
              0.2222222222222222,
              "#7201a8"
             ],
             [
              0.3333333333333333,
              "#9c179e"
             ],
             [
              0.4444444444444444,
              "#bd3786"
             ],
             [
              0.5555555555555556,
              "#d8576b"
             ],
             [
              0.6666666666666666,
              "#ed7953"
             ],
             [
              0.7777777777777778,
              "#fb9f3a"
             ],
             [
              0.8888888888888888,
              "#fdca26"
             ],
             [
              1,
              "#f0f921"
             ]
            ],
            "type": "contour"
           }
          ],
          "contourcarpet": [
           {
            "colorbar": {
             "outlinewidth": 0,
             "ticks": ""
            },
            "type": "contourcarpet"
           }
          ],
          "heatmap": [
           {
            "colorbar": {
             "outlinewidth": 0,
             "ticks": ""
            },
            "colorscale": [
             [
              0,
              "#0d0887"
             ],
             [
              0.1111111111111111,
              "#46039f"
             ],
             [
              0.2222222222222222,
              "#7201a8"
             ],
             [
              0.3333333333333333,
              "#9c179e"
             ],
             [
              0.4444444444444444,
              "#bd3786"
             ],
             [
              0.5555555555555556,
              "#d8576b"
             ],
             [
              0.6666666666666666,
              "#ed7953"
             ],
             [
              0.7777777777777778,
              "#fb9f3a"
             ],
             [
              0.8888888888888888,
              "#fdca26"
             ],
             [
              1,
              "#f0f921"
             ]
            ],
            "type": "heatmap"
           }
          ],
          "heatmapgl": [
           {
            "colorbar": {
             "outlinewidth": 0,
             "ticks": ""
            },
            "colorscale": [
             [
              0,
              "#0d0887"
             ],
             [
              0.1111111111111111,
              "#46039f"
             ],
             [
              0.2222222222222222,
              "#7201a8"
             ],
             [
              0.3333333333333333,
              "#9c179e"
             ],
             [
              0.4444444444444444,
              "#bd3786"
             ],
             [
              0.5555555555555556,
              "#d8576b"
             ],
             [
              0.6666666666666666,
              "#ed7953"
             ],
             [
              0.7777777777777778,
              "#fb9f3a"
             ],
             [
              0.8888888888888888,
              "#fdca26"
             ],
             [
              1,
              "#f0f921"
             ]
            ],
            "type": "heatmapgl"
           }
          ],
          "histogram": [
           {
            "marker": {
             "pattern": {
              "fillmode": "overlay",
              "size": 10,
              "solidity": 0.2
             }
            },
            "type": "histogram"
           }
          ],
          "histogram2d": [
           {
            "colorbar": {
             "outlinewidth": 0,
             "ticks": ""
            },
            "colorscale": [
             [
              0,
              "#0d0887"
             ],
             [
              0.1111111111111111,
              "#46039f"
             ],
             [
              0.2222222222222222,
              "#7201a8"
             ],
             [
              0.3333333333333333,
              "#9c179e"
             ],
             [
              0.4444444444444444,
              "#bd3786"
             ],
             [
              0.5555555555555556,
              "#d8576b"
             ],
             [
              0.6666666666666666,
              "#ed7953"
             ],
             [
              0.7777777777777778,
              "#fb9f3a"
             ],
             [
              0.8888888888888888,
              "#fdca26"
             ],
             [
              1,
              "#f0f921"
             ]
            ],
            "type": "histogram2d"
           }
          ],
          "histogram2dcontour": [
           {
            "colorbar": {
             "outlinewidth": 0,
             "ticks": ""
            },
            "colorscale": [
             [
              0,
              "#0d0887"
             ],
             [
              0.1111111111111111,
              "#46039f"
             ],
             [
              0.2222222222222222,
              "#7201a8"
             ],
             [
              0.3333333333333333,
              "#9c179e"
             ],
             [
              0.4444444444444444,
              "#bd3786"
             ],
             [
              0.5555555555555556,
              "#d8576b"
             ],
             [
              0.6666666666666666,
              "#ed7953"
             ],
             [
              0.7777777777777778,
              "#fb9f3a"
             ],
             [
              0.8888888888888888,
              "#fdca26"
             ],
             [
              1,
              "#f0f921"
             ]
            ],
            "type": "histogram2dcontour"
           }
          ],
          "mesh3d": [
           {
            "colorbar": {
             "outlinewidth": 0,
             "ticks": ""
            },
            "type": "mesh3d"
           }
          ],
          "parcoords": [
           {
            "line": {
             "colorbar": {
              "outlinewidth": 0,
              "ticks": ""
             }
            },
            "type": "parcoords"
           }
          ],
          "pie": [
           {
            "automargin": true,
            "type": "pie"
           }
          ],
          "scatter": [
           {
            "fillpattern": {
             "fillmode": "overlay",
             "size": 10,
             "solidity": 0.2
            },
            "type": "scatter"
           }
          ],
          "scatter3d": [
           {
            "line": {
             "colorbar": {
              "outlinewidth": 0,
              "ticks": ""
             }
            },
            "marker": {
             "colorbar": {
              "outlinewidth": 0,
              "ticks": ""
             }
            },
            "type": "scatter3d"
           }
          ],
          "scattercarpet": [
           {
            "marker": {
             "colorbar": {
              "outlinewidth": 0,
              "ticks": ""
             }
            },
            "type": "scattercarpet"
           }
          ],
          "scattergeo": [
           {
            "marker": {
             "colorbar": {
              "outlinewidth": 0,
              "ticks": ""
             }
            },
            "type": "scattergeo"
           }
          ],
          "scattergl": [
           {
            "marker": {
             "colorbar": {
              "outlinewidth": 0,
              "ticks": ""
             }
            },
            "type": "scattergl"
           }
          ],
          "scattermapbox": [
           {
            "marker": {
             "colorbar": {
              "outlinewidth": 0,
              "ticks": ""
             }
            },
            "type": "scattermapbox"
           }
          ],
          "scatterpolar": [
           {
            "marker": {
             "colorbar": {
              "outlinewidth": 0,
              "ticks": ""
             }
            },
            "type": "scatterpolar"
           }
          ],
          "scatterpolargl": [
           {
            "marker": {
             "colorbar": {
              "outlinewidth": 0,
              "ticks": ""
             }
            },
            "type": "scatterpolargl"
           }
          ],
          "scatterternary": [
           {
            "marker": {
             "colorbar": {
              "outlinewidth": 0,
              "ticks": ""
             }
            },
            "type": "scatterternary"
           }
          ],
          "surface": [
           {
            "colorbar": {
             "outlinewidth": 0,
             "ticks": ""
            },
            "colorscale": [
             [
              0,
              "#0d0887"
             ],
             [
              0.1111111111111111,
              "#46039f"
             ],
             [
              0.2222222222222222,
              "#7201a8"
             ],
             [
              0.3333333333333333,
              "#9c179e"
             ],
             [
              0.4444444444444444,
              "#bd3786"
             ],
             [
              0.5555555555555556,
              "#d8576b"
             ],
             [
              0.6666666666666666,
              "#ed7953"
             ],
             [
              0.7777777777777778,
              "#fb9f3a"
             ],
             [
              0.8888888888888888,
              "#fdca26"
             ],
             [
              1,
              "#f0f921"
             ]
            ],
            "type": "surface"
           }
          ],
          "table": [
           {
            "cells": {
             "fill": {
              "color": "#EBF0F8"
             },
             "line": {
              "color": "white"
             }
            },
            "header": {
             "fill": {
              "color": "#C8D4E3"
             },
             "line": {
              "color": "white"
             }
            },
            "type": "table"
           }
          ]
         },
         "layout": {
          "annotationdefaults": {
           "arrowcolor": "#2a3f5f",
           "arrowhead": 0,
           "arrowwidth": 1
          },
          "autotypenumbers": "strict",
          "coloraxis": {
           "colorbar": {
            "outlinewidth": 0,
            "ticks": ""
           }
          },
          "colorscale": {
           "diverging": [
            [
             0,
             "#8e0152"
            ],
            [
             0.1,
             "#c51b7d"
            ],
            [
             0.2,
             "#de77ae"
            ],
            [
             0.3,
             "#f1b6da"
            ],
            [
             0.4,
             "#fde0ef"
            ],
            [
             0.5,
             "#f7f7f7"
            ],
            [
             0.6,
             "#e6f5d0"
            ],
            [
             0.7,
             "#b8e186"
            ],
            [
             0.8,
             "#7fbc41"
            ],
            [
             0.9,
             "#4d9221"
            ],
            [
             1,
             "#276419"
            ]
           ],
           "sequential": [
            [
             0,
             "#0d0887"
            ],
            [
             0.1111111111111111,
             "#46039f"
            ],
            [
             0.2222222222222222,
             "#7201a8"
            ],
            [
             0.3333333333333333,
             "#9c179e"
            ],
            [
             0.4444444444444444,
             "#bd3786"
            ],
            [
             0.5555555555555556,
             "#d8576b"
            ],
            [
             0.6666666666666666,
             "#ed7953"
            ],
            [
             0.7777777777777778,
             "#fb9f3a"
            ],
            [
             0.8888888888888888,
             "#fdca26"
            ],
            [
             1,
             "#f0f921"
            ]
           ],
           "sequentialminus": [
            [
             0,
             "#0d0887"
            ],
            [
             0.1111111111111111,
             "#46039f"
            ],
            [
             0.2222222222222222,
             "#7201a8"
            ],
            [
             0.3333333333333333,
             "#9c179e"
            ],
            [
             0.4444444444444444,
             "#bd3786"
            ],
            [
             0.5555555555555556,
             "#d8576b"
            ],
            [
             0.6666666666666666,
             "#ed7953"
            ],
            [
             0.7777777777777778,
             "#fb9f3a"
            ],
            [
             0.8888888888888888,
             "#fdca26"
            ],
            [
             1,
             "#f0f921"
            ]
           ]
          },
          "colorway": [
           "#636efa",
           "#EF553B",
           "#00cc96",
           "#ab63fa",
           "#FFA15A",
           "#19d3f3",
           "#FF6692",
           "#B6E880",
           "#FF97FF",
           "#FECB52"
          ],
          "font": {
           "color": "#2a3f5f"
          },
          "geo": {
           "bgcolor": "white",
           "lakecolor": "white",
           "landcolor": "#E5ECF6",
           "showlakes": true,
           "showland": true,
           "subunitcolor": "white"
          },
          "hoverlabel": {
           "align": "left"
          },
          "hovermode": "closest",
          "mapbox": {
           "style": "light"
          },
          "paper_bgcolor": "white",
          "plot_bgcolor": "#E5ECF6",
          "polar": {
           "angularaxis": {
            "gridcolor": "white",
            "linecolor": "white",
            "ticks": ""
           },
           "bgcolor": "#E5ECF6",
           "radialaxis": {
            "gridcolor": "white",
            "linecolor": "white",
            "ticks": ""
           }
          },
          "scene": {
           "xaxis": {
            "backgroundcolor": "#E5ECF6",
            "gridcolor": "white",
            "gridwidth": 2,
            "linecolor": "white",
            "showbackground": true,
            "ticks": "",
            "zerolinecolor": "white"
           },
           "yaxis": {
            "backgroundcolor": "#E5ECF6",
            "gridcolor": "white",
            "gridwidth": 2,
            "linecolor": "white",
            "showbackground": true,
            "ticks": "",
            "zerolinecolor": "white"
           },
           "zaxis": {
            "backgroundcolor": "#E5ECF6",
            "gridcolor": "white",
            "gridwidth": 2,
            "linecolor": "white",
            "showbackground": true,
            "ticks": "",
            "zerolinecolor": "white"
           }
          },
          "shapedefaults": {
           "line": {
            "color": "#2a3f5f"
           }
          },
          "ternary": {
           "aaxis": {
            "gridcolor": "white",
            "linecolor": "white",
            "ticks": ""
           },
           "baxis": {
            "gridcolor": "white",
            "linecolor": "white",
            "ticks": ""
           },
           "bgcolor": "#E5ECF6",
           "caxis": {
            "gridcolor": "white",
            "linecolor": "white",
            "ticks": ""
           }
          },
          "title": {
           "x": 0.05
          },
          "xaxis": {
           "automargin": true,
           "gridcolor": "white",
           "linecolor": "white",
           "ticks": "",
           "title": {
            "standoff": 15
           },
           "zerolinecolor": "white",
           "zerolinewidth": 2
          },
          "yaxis": {
           "automargin": true,
           "gridcolor": "white",
           "linecolor": "white",
           "ticks": "",
           "title": {
            "standoff": 15
           },
           "zerolinecolor": "white",
           "zerolinewidth": 2
          }
         }
        },
        "title": {
         "text": "countries treemap"
        }
       }
      }
     },
     "metadata": {},
     "output_type": "display_data"
    }
   ],
   "source": [
    "df = pd.DataFrame(data_graph_countries)\n",
    "fig = px.treemap(df, path=['countries'], values='percentage',\n",
    "                 color='percentage', color_continuous_scale='Magma',\n",
    "                 title='countries treemap')\n",
    "fig.update_layout(\n",
    "    paper_bgcolor='black',  \n",
    "    plot_bgcolor='black',   \n",
    "    font_color='white'      \n",
    ")\n",
    "fig.show()"
   ]
  },
  {
   "cell_type": "markdown",
   "metadata": {},
   "source": [
    "# ECOSCORE GRAD:"
   ]
  },
  {
   "cell_type": "code",
   "execution_count": 42,
   "metadata": {},
   "outputs": [
    {
     "name": "stdout",
     "output_type": "stream",
     "text": [
      "999.0: 74.61%\n",
      "54.0: 0.35%\n",
      "75.0: 0.48%\n",
      "76.0: 0.38%\n",
      "77.0: 0.51%\n",
      "52.0: 0.17%\n",
      "9.0: 0.14%\n",
      "24.0: 0.15%\n",
      "50.0: 0.43%\n",
      "65.0: 0.16%\n",
      "49.0: 0.65%\n",
      "70.0: 0.29%\n",
      "79.0: 1.84%\n",
      "63.0: 0.22%\n",
      "29.0: 0.21%\n",
      "21.0: 0.50%\n",
      "56.0: 0.17%\n",
      "92.0: 0.04%\n",
      "34.0: 0.92%\n",
      "59.0: 0.21%\n",
      "55.0: 0.23%\n",
      "73.0: 0.22%\n",
      "27.0: 0.45%\n",
      "19.0: 0.32%\n",
      "60.0: 0.38%\n",
      "23.0: 0.17%\n",
      "47.0: 0.21%\n",
      "42.0: 0.46%\n",
      "-4.0: 0.01%\n",
      "41.0: 0.17%\n",
      "67.0: 1.32%\n",
      "71.0: 0.27%\n",
      "74.0: 0.31%\n",
      "30.0: 0.27%\n",
      "15.0: 0.43%\n",
      "58.0: 0.26%\n",
      "61.0: 0.15%\n",
      "39.0: 0.51%\n",
      "91.0: 0.07%\n",
      "53.0: 0.19%\n",
      "44.0: 0.38%\n",
      "14.0: 0.10%\n",
      "72.0: 0.99%\n",
      "68.0: 0.28%\n",
      "12.0: 0.33%\n",
      "18.0: 0.20%\n",
      "5.0: 0.10%\n",
      "51.0: 0.22%\n",
      "-8.0: 0.02%\n",
      "66.0: 0.22%\n",
      "69.0: 0.18%\n",
      "43.0: 0.39%\n",
      "-9.0: 0.04%\n",
      "-16.0: 0.03%\n",
      "8.0: 0.10%\n",
      "2.0: 0.12%\n",
      "22.0: 0.26%\n",
      "46.0: 0.13%\n",
      "38.0: 0.31%\n",
      "26.0: 0.13%\n",
      "10.0: 0.04%\n",
      "36.0: 0.36%\n",
      "37.0: 0.39%\n",
      "78.0: 0.36%\n",
      "25.0: 0.34%\n",
      "64.0: 0.24%\n",
      "4.0: 0.19%\n",
      "40.0: 0.20%\n",
      "35.0: 0.31%\n",
      "20.0: 0.11%\n",
      "32.0: 0.20%\n",
      "85.0: 0.08%\n",
      "62.0: 0.22%\n",
      "31.0: 0.16%\n",
      "28.0: 0.19%\n",
      "89.0: 0.04%\n",
      "48.0: 0.21%\n",
      "83.0: 0.06%\n",
      "-1.0: 0.03%\n",
      "16.0: 0.27%\n",
      "90.0: 0.05%\n",
      "57.0: 0.24%\n",
      "45.0: 0.33%\n",
      "112.0: 0.01%\n",
      "33.0: 0.12%\n",
      "82.0: 0.06%\n",
      "-5.0: 0.03%\n",
      "13.0: 0.07%\n",
      "-3.0: 0.01%\n",
      "81.0: 0.09%\n",
      "1.0: 0.07%\n",
      "-2.0: 0.09%\n",
      "17.0: 0.13%\n",
      "-20.0: 0.10%\n",
      "6.0: 0.11%\n",
      "11.0: 0.05%\n",
      "99.0: 0.03%\n",
      "80.0: 0.07%\n",
      "114.0: 0.01%\n",
      "-6.0: 0.05%\n",
      "-11.0: 0.01%\n",
      "86.0: 0.03%\n",
      "3.0: 0.08%\n",
      "84.0: 0.04%\n",
      "-14.0: 0.03%\n",
      "100.0: 0.03%\n",
      "111.0: 0.01%\n",
      "94.0: 0.04%\n",
      "88.0: 0.04%\n",
      "120.0: 0.01%\n",
      "-30.0: 0.00%\n",
      "-25.0: 0.00%\n",
      "-17.0: 0.00%\n",
      "97.0: 0.02%\n",
      "-7.0: 0.03%\n",
      "0.0: 0.07%\n",
      "93.0: 0.03%\n",
      "108.0: 0.01%\n",
      "95.0: 0.03%\n",
      "7.0: 0.03%\n",
      "96.0: 0.03%\n",
      "87.0: 0.04%\n",
      "113.0: 0.01%\n",
      "110.0: 0.01%\n",
      "-15.0: 0.02%\n",
      "-18.0: 0.00%\n",
      "-13.0: 0.02%\n",
      "109.0: 0.03%\n",
      "106.0: 0.02%\n",
      "98.0: 0.02%\n",
      "107.0: 0.02%\n",
      "104.0: 0.03%\n",
      "101.0: 0.02%\n",
      "105.0: 0.03%\n",
      "122.0: 0.01%\n",
      "103.0: 0.02%\n",
      "-12.0: 0.01%\n",
      "-10.0: 0.02%\n",
      "117.0: 0.01%\n",
      "121.0: 0.01%\n",
      "115.0: 0.01%\n",
      "123.0: 0.00%\n",
      "116.0: 0.01%\n",
      "-21.0: 0.00%\n",
      "102.0: 0.02%\n",
      "119.0: 0.00%\n",
      "-19.0: 0.00%\n",
      "124.0: 0.00%\n",
      "118.0: 0.00%\n",
      "-26.0: 0.00%\n",
      "125.0: 0.00%\n",
      "-22.0: 0.00%\n",
      "-24.0: 0.00%\n",
      "-23.0: 0.00%\n",
      "-29.0: 0.00%\n",
      "78.4170138324: 0.00%\n"
     ]
    }
   ],
   "source": [
    "# retourne une liste des notes écoscores présentes dans le fichier\n",
    "def extract_grad_ecoscore_from_jsonl(file_path):\n",
    "    ecoscore_grad_list = []\n",
    "    with open(file_path, 'r', encoding='utf-8') as file:\n",
    "        for line in file:\n",
    "            try:\n",
    "                record = json.loads(line)\n",
    "                ecoscore_grad = record.get('ecoscore_note')\n",
    "                if ecoscore_grad is not None:\n",
    "                    ecoscore_grad_list.append(ecoscore_grad)\n",
    "            except json.JSONDecodeError:\n",
    "                print(f\"WARNING line: {line} in {file_path}\")\n",
    "    return ecoscore_grad_list\n",
    "ecoscore_grad_list = extract_grad_ecoscore_from_jsonl(jsonl_02)\n",
    "\n",
    "ecoscore_grad_counts = Counter(ecoscore_grad_list)\n",
    "total_ecoscore_grads = sum(ecoscore_grad_counts.values())\n",
    "data_graph_ecoscore_grad = []\n",
    "for ecoscore_grad, count in ecoscore_grad_counts.items():\n",
    "    percentage = (count / total_ecoscore_grads) * 100\n",
    "    print(f\"{ecoscore_grad}: {percentage:.2f}%\")\n",
    "    data_graph_ecoscore_grad.append({'ecoscore_grad': ecoscore_grad, 'percentage': percentage})"
   ]
  },
  {
   "cell_type": "code",
   "execution_count": 30,
   "metadata": {},
   "outputs": [
    {
     "data": {
      "application/vnd.plotly.v1+json": {
       "config": {
        "plotlyServerURL": "https://plot.ly"
       },
       "data": [
        {
         "branchvalues": "total",
         "customdata": [
          [
           0.0007556046978462748
          ],
          [
           0.00003148352907692811
          ],
          [
           0.0001889011744615687
          ],
          [
           0.0005037364652308498
          ],
          [
           0.00006296705815385622
          ],
          [
           0.0001889011744615687
          ],
          [
           0.00012593411630771245
          ],
          [
           0.00006296705815385622
          ],
          [
           0.10178624950570858
          ],
          [
           0.0006926376396924186
          ],
          [
           0.0018260446864618305
          ],
          [
           0.0026131329133850336
          ],
          [
           0.033750343170466934
          ],
          [
           0.02021242566738785
          ],
          [
           0.026792483244465825
          ],
          [
           0.017630776283079744
          ],
          [
           0.005415167001231636
          ],
          [
           0.0051947822976931395
          ],
          [
           0.018984568033387654
          ],
          [
           0.036269025496621185
          ],
          [
           0.018606765684464517
          ],
          [
           0.03264841965277445
          ],
          [
           0.053805351192470145
          ],
          [
           0.03293177141446681
          ],
          [
           0.009791377542924643
          ],
          [
           0.01451390690446386
          ],
          [
           0.08670563907786002
          ],
          [
           0.02968896791954321
          ],
          [
           0.0650764546020104
          ],
          [
           0.06649321341047218
          ],
          [
           0.1180317505094035
          ],
          [
           0.08103860384401296
          ],
          [
           0.18861782269987634
          ],
          [
           0.09892124835970816
          ],
          [
           0.10921636236786363
          ],
          [
           0.030507539675543344
          ],
          [
           0.09958240247032361
          ],
          [
           0.14139252908448416
          ],
          [
           0.04360468777154544
          ],
          [
           0.047351227731699884
          ],
          [
           0.33186787999989925
          ],
          [
           0.07338810627831943
          ],
          [
           0.1007787765752469
          ],
          [
           0.42845934720791473
          ],
          [
           0.270663899474351
          ],
          [
           0.13487543856556006
          ],
          [
           0.2047373895872635
          ],
          [
           0.3210690295265129
          ],
          [
           0.11482043054355683
          ],
          [
           0.4986361335203875
          ],
          [
           0.2600539501754262
          ],
          [
           0.16994808995725796
          ],
          [
           0.15127835721463959
          ],
          [
           0.33835348698974643
          ],
          [
           0.12788609511048202
          ],
          [
           0.45034039991637975
          ],
          [
           0.1897197462175688
          ],
          [
           0.21348981067064954
          ],
          [
           0.2732455488586591
          ],
          [
           0.15748061244279443
          ],
          [
           0.20360398254049414
          ],
          [
           0.1220616422312503
          ],
          [
           0.9188467961101469
          ],
          [
           0.309640508471588
          ],
          [
           0.35758992325574956
          ],
          [
           0.38970312291421616
          ],
          [
           0.3086645190702032
          ],
          [
           0.5082386098888505
          ],
          [
           0.2043910707674173
          ],
          [
           0.167303473514796
          ],
          [
           0.4623356244946894
          ],
          [
           0.3857676817796002
          ],
          [
           0.3829971312208305
          ],
          [
           0.3287195270922064
          ],
          [
           0.128767633924636
          ],
          [
           0.20703568720987928
          ],
          [
           0.21122299657711074
          ],
          [
           0.6513942166016428
          ],
          [
           0.42653885193422214
          ],
          [
           0.2179919553286503
          ],
          [
           0.16645341822971893
          ],
          [
           0.18927897681049183
          ],
          [
           0.3536229985920566
          ],
          [
           0.2320021257678833
          ],
          [
           0.16711457234033444
          ],
          [
           0.24204537154342334
          ],
          [
           0.2559296078663486
          ],
          [
           0.21267123891464942
          ],
          [
           0.3782746018592913
          ],
          [
           0.14831890548140833
          ],
          [
           0.21972354942788133
          ],
          [
           0.2174567353343425
          ],
          [
           0.23902295275203828
          ],
          [
           0.1627068782695645
          ],
          [
           0.21783453768326563
          ],
          [
           1.3171764059914415
          ],
          [
           0.28247022287819906
          ],
          [
           0.17851160986618242
          ],
          [
           0.2911596769034312
          ],
          [
           0.2738437359111207
          ],
          [
           0.9906922094636971
          ],
          [
           0.21512695418264982
          ],
          [
           0.3132296307863578
          ],
          [
           0.47552722317792223
          ],
          [
           0.3777393818649835
          ],
          [
           0.5088367969413121
          ],
          [
           0.3596048691166729
          ],
          [
           0.00003148352907692811
          ],
          [
           1.8426050227562947
          ],
          [
           0.0712157427720114
          ],
          [
           0.08909838728770654
          ],
          [
           0.05755189115262459
          ],
          [
           0.06457271813677956
          ],
          [
           0.043510237184314654
          ],
          [
           0.07977926268093584
          ],
          [
           0.03028715497200485
          ],
          [
           0.035639354915082626
          ],
          [
           0.04328985248077616
          ],
          [
           0.04077117015462191
          ],
          [
           0.054151670012316355
          ],
          [
           0.06517090518924121
          ],
          [
           0.040172983102160276
          ],
          [
           0.03271138671092831
          ],
          [
           0.03674127843277511
          ],
          [
           0.026131329133850335
          ],
          [
           0.026194296192004193
          ],
          [
           0.020779129190772558
          ],
          [
           0.02084209624892641
          ],
          [
           0.025123856203388636
          ],
          [
           0.03132611143154347
          ],
          [
           0.015930665712925625
          ],
          [
           0.015206544544156278
          ],
          [
           0.017347424521387392
          ],
          [
           0.02559610913954256
          ],
          [
           0.02587946090123491
          ],
          [
           0.022605173877234392
          ],
          [
           0.017567809224925887
          ],
          [
           0.014230555142771509
          ],
          [
           0.027768472645850598
          ],
          [
           0.006359672873539479
          ],
          [
           0.005698518762923988
          ],
          [
           0.0077134646238473875
          ],
          [
           0.007115277571385754
          ],
          [
           0.011050718706001769
          ],
          [
           0.009350608135847649
          ],
          [
           0.006580057577077975
          ],
          [
           0.00950802578123229
          ],
          [
           0.003148352907692811
          ],
          [
           0.0037465399601544457
          ],
          [
           0.005761485821077845
          ],
          [
           0.006107804640924055
          ],
          [
           0.006359672873539479
          ],
          [
           0.002518682326154249
          ],
          [
           0.0024242317389234647
          ],
          [
           0.0017315940992310463
          ],
          [
           74.61309891117362
          ]
         ],
         "domain": {
          "x": [
           0,
           1
          ],
          "y": [
           0,
           1
          ]
         },
         "hovertemplate": "labels=%{label}<br>percentage_sum=%{value}<br>parent=%{parent}<br>id=%{id}<br>percentage=%{color}<extra></extra>",
         "ids": [
          "-30.0",
          "-29.0",
          "-26.0",
          "-25.0",
          "-24.0",
          "-23.0",
          "-22.0",
          "-21.0",
          "-20.0",
          "-19.0",
          "-18.0",
          "-17.0",
          "-16.0",
          "-15.0",
          "-14.0",
          "-13.0",
          "-12.0",
          "-11.0",
          "-10.0",
          "-9.0",
          "-8.0",
          "-7.0",
          "-6.0",
          "-5.0",
          "-4.0",
          "-3.0",
          "-2.0",
          "-1.0",
          "0.0",
          "1.0",
          "2.0",
          "3.0",
          "4.0",
          "5.0",
          "6.0",
          "7.0",
          "8.0",
          "9.0",
          "10.0",
          "11.0",
          "12.0",
          "13.0",
          "14.0",
          "15.0",
          "16.0",
          "17.0",
          "18.0",
          "19.0",
          "20.0",
          "21.0",
          "22.0",
          "23.0",
          "24.0",
          "25.0",
          "26.0",
          "27.0",
          "28.0",
          "29.0",
          "30.0",
          "31.0",
          "32.0",
          "33.0",
          "34.0",
          "35.0",
          "36.0",
          "37.0",
          "38.0",
          "39.0",
          "40.0",
          "41.0",
          "42.0",
          "43.0",
          "44.0",
          "45.0",
          "46.0",
          "47.0",
          "48.0",
          "49.0",
          "50.0",
          "51.0",
          "52.0",
          "53.0",
          "54.0",
          "55.0",
          "56.0",
          "57.0",
          "58.0",
          "59.0",
          "60.0",
          "61.0",
          "62.0",
          "63.0",
          "64.0",
          "65.0",
          "66.0",
          "67.0",
          "68.0",
          "69.0",
          "70.0",
          "71.0",
          "72.0",
          "73.0",
          "74.0",
          "75.0",
          "76.0",
          "77.0",
          "78.0",
          "78.4170138324",
          "79.0",
          "80.0",
          "81.0",
          "82.0",
          "83.0",
          "84.0",
          "85.0",
          "86.0",
          "87.0",
          "88.0",
          "89.0",
          "90.0",
          "91.0",
          "92.0",
          "93.0",
          "94.0",
          "95.0",
          "96.0",
          "97.0",
          "98.0",
          "99.0",
          "100.0",
          "101.0",
          "102.0",
          "103.0",
          "104.0",
          "105.0",
          "106.0",
          "107.0",
          "108.0",
          "109.0",
          "110.0",
          "111.0",
          "112.0",
          "113.0",
          "114.0",
          "115.0",
          "116.0",
          "117.0",
          "118.0",
          "119.0",
          "120.0",
          "121.0",
          "122.0",
          "123.0",
          "124.0",
          "125.0",
          "999.0"
         ],
         "labels": [
          "-30.0",
          "-29.0",
          "-26.0",
          "-25.0",
          "-24.0",
          "-23.0",
          "-22.0",
          "-21.0",
          "-20.0",
          "-19.0",
          "-18.0",
          "-17.0",
          "-16.0",
          "-15.0",
          "-14.0",
          "-13.0",
          "-12.0",
          "-11.0",
          "-10.0",
          "-9.0",
          "-8.0",
          "-7.0",
          "-6.0",
          "-5.0",
          "-4.0",
          "-3.0",
          "-2.0",
          "-1.0",
          "0.0",
          "1.0",
          "2.0",
          "3.0",
          "4.0",
          "5.0",
          "6.0",
          "7.0",
          "8.0",
          "9.0",
          "10.0",
          "11.0",
          "12.0",
          "13.0",
          "14.0",
          "15.0",
          "16.0",
          "17.0",
          "18.0",
          "19.0",
          "20.0",
          "21.0",
          "22.0",
          "23.0",
          "24.0",
          "25.0",
          "26.0",
          "27.0",
          "28.0",
          "29.0",
          "30.0",
          "31.0",
          "32.0",
          "33.0",
          "34.0",
          "35.0",
          "36.0",
          "37.0",
          "38.0",
          "39.0",
          "40.0",
          "41.0",
          "42.0",
          "43.0",
          "44.0",
          "45.0",
          "46.0",
          "47.0",
          "48.0",
          "49.0",
          "50.0",
          "51.0",
          "52.0",
          "53.0",
          "54.0",
          "55.0",
          "56.0",
          "57.0",
          "58.0",
          "59.0",
          "60.0",
          "61.0",
          "62.0",
          "63.0",
          "64.0",
          "65.0",
          "66.0",
          "67.0",
          "68.0",
          "69.0",
          "70.0",
          "71.0",
          "72.0",
          "73.0",
          "74.0",
          "75.0",
          "76.0",
          "77.0",
          "78.0",
          "78.4170138324",
          "79.0",
          "80.0",
          "81.0",
          "82.0",
          "83.0",
          "84.0",
          "85.0",
          "86.0",
          "87.0",
          "88.0",
          "89.0",
          "90.0",
          "91.0",
          "92.0",
          "93.0",
          "94.0",
          "95.0",
          "96.0",
          "97.0",
          "98.0",
          "99.0",
          "100.0",
          "101.0",
          "102.0",
          "103.0",
          "104.0",
          "105.0",
          "106.0",
          "107.0",
          "108.0",
          "109.0",
          "110.0",
          "111.0",
          "112.0",
          "113.0",
          "114.0",
          "115.0",
          "116.0",
          "117.0",
          "118.0",
          "119.0",
          "120.0",
          "121.0",
          "122.0",
          "123.0",
          "124.0",
          "125.0",
          "999.0"
         ],
         "marker": {
          "coloraxis": "coloraxis",
          "colors": [
           0.0007556046978462748,
           0.00003148352907692811,
           0.0001889011744615687,
           0.0005037364652308498,
           0.00006296705815385622,
           0.0001889011744615687,
           0.00012593411630771245,
           0.00006296705815385622,
           0.10178624950570858,
           0.0006926376396924186,
           0.0018260446864618305,
           0.0026131329133850336,
           0.033750343170466934,
           0.02021242566738785,
           0.026792483244465825,
           0.017630776283079744,
           0.005415167001231636,
           0.0051947822976931395,
           0.018984568033387654,
           0.036269025496621185,
           0.018606765684464517,
           0.03264841965277445,
           0.053805351192470145,
           0.03293177141446681,
           0.009791377542924643,
           0.01451390690446386,
           0.08670563907786002,
           0.02968896791954321,
           0.0650764546020104,
           0.06649321341047218,
           0.1180317505094035,
           0.08103860384401296,
           0.18861782269987634,
           0.09892124835970816,
           0.10921636236786363,
           0.030507539675543344,
           0.09958240247032361,
           0.14139252908448416,
           0.04360468777154544,
           0.047351227731699884,
           0.33186787999989925,
           0.07338810627831943,
           0.1007787765752469,
           0.42845934720791473,
           0.270663899474351,
           0.13487543856556006,
           0.2047373895872635,
           0.3210690295265129,
           0.11482043054355683,
           0.4986361335203875,
           0.2600539501754262,
           0.16994808995725796,
           0.15127835721463959,
           0.33835348698974643,
           0.12788609511048202,
           0.45034039991637975,
           0.1897197462175688,
           0.21348981067064954,
           0.2732455488586591,
           0.15748061244279443,
           0.20360398254049414,
           0.1220616422312503,
           0.9188467961101469,
           0.309640508471588,
           0.35758992325574956,
           0.38970312291421616,
           0.3086645190702032,
           0.5082386098888505,
           0.2043910707674173,
           0.167303473514796,
           0.4623356244946894,
           0.3857676817796002,
           0.3829971312208305,
           0.3287195270922064,
           0.128767633924636,
           0.20703568720987928,
           0.21122299657711074,
           0.6513942166016428,
           0.42653885193422214,
           0.2179919553286503,
           0.16645341822971893,
           0.18927897681049183,
           0.3536229985920566,
           0.2320021257678833,
           0.16711457234033444,
           0.24204537154342334,
           0.2559296078663486,
           0.21267123891464942,
           0.3782746018592913,
           0.14831890548140833,
           0.21972354942788133,
           0.2174567353343425,
           0.23902295275203828,
           0.1627068782695645,
           0.21783453768326563,
           1.3171764059914415,
           0.28247022287819906,
           0.17851160986618242,
           0.2911596769034312,
           0.2738437359111207,
           0.9906922094636971,
           0.21512695418264982,
           0.3132296307863578,
           0.47552722317792223,
           0.3777393818649835,
           0.5088367969413121,
           0.3596048691166729,
           0.00003148352907692811,
           1.8426050227562947,
           0.0712157427720114,
           0.08909838728770654,
           0.05755189115262459,
           0.06457271813677956,
           0.043510237184314654,
           0.07977926268093584,
           0.03028715497200485,
           0.035639354915082626,
           0.04328985248077616,
           0.04077117015462191,
           0.054151670012316355,
           0.06517090518924121,
           0.040172983102160276,
           0.03271138671092831,
           0.03674127843277511,
           0.026131329133850335,
           0.026194296192004193,
           0.020779129190772558,
           0.02084209624892641,
           0.025123856203388636,
           0.03132611143154347,
           0.015930665712925625,
           0.015206544544156278,
           0.017347424521387392,
           0.02559610913954256,
           0.02587946090123491,
           0.022605173877234392,
           0.017567809224925887,
           0.014230555142771509,
           0.027768472645850598,
           0.006359672873539479,
           0.005698518762923988,
           0.0077134646238473875,
           0.007115277571385754,
           0.011050718706001769,
           0.009350608135847649,
           0.006580057577077975,
           0.00950802578123229,
           0.003148352907692811,
           0.0037465399601544457,
           0.005761485821077845,
           0.006107804640924055,
           0.006359672873539479,
           0.002518682326154249,
           0.0024242317389234647,
           0.0017315940992310463,
           74.61309891117362
          ]
         },
         "name": "",
         "parents": [
          "",
          "",
          "",
          "",
          "",
          "",
          "",
          "",
          "",
          "",
          "",
          "",
          "",
          "",
          "",
          "",
          "",
          "",
          "",
          "",
          "",
          "",
          "",
          "",
          "",
          "",
          "",
          "",
          "",
          "",
          "",
          "",
          "",
          "",
          "",
          "",
          "",
          "",
          "",
          "",
          "",
          "",
          "",
          "",
          "",
          "",
          "",
          "",
          "",
          "",
          "",
          "",
          "",
          "",
          "",
          "",
          "",
          "",
          "",
          "",
          "",
          "",
          "",
          "",
          "",
          "",
          "",
          "",
          "",
          "",
          "",
          "",
          "",
          "",
          "",
          "",
          "",
          "",
          "",
          "",
          "",
          "",
          "",
          "",
          "",
          "",
          "",
          "",
          "",
          "",
          "",
          "",
          "",
          "",
          "",
          "",
          "",
          "",
          "",
          "",
          "",
          "",
          "",
          "",
          "",
          "",
          "",
          "",
          "",
          "",
          "",
          "",
          "",
          "",
          "",
          "",
          "",
          "",
          "",
          "",
          "",
          "",
          "",
          "",
          "",
          "",
          "",
          "",
          "",
          "",
          "",
          "",
          "",
          "",
          "",
          "",
          "",
          "",
          "",
          "",
          "",
          "",
          "",
          "",
          "",
          "",
          "",
          "",
          "",
          "",
          "",
          "",
          "",
          "",
          "",
          ""
         ],
         "type": "treemap",
         "values": [
          0.0007556046978462748,
          0.00003148352907692811,
          0.0001889011744615687,
          0.0005037364652308498,
          0.00006296705815385622,
          0.0001889011744615687,
          0.00012593411630771245,
          0.00006296705815385622,
          0.10178624950570858,
          0.0006926376396924185,
          0.0018260446864618305,
          0.0026131329133850336,
          0.033750343170466934,
          0.02021242566738785,
          0.026792483244465825,
          0.017630776283079744,
          0.005415167001231636,
          0.0051947822976931395,
          0.018984568033387654,
          0.036269025496621185,
          0.018606765684464517,
          0.03264841965277445,
          0.053805351192470145,
          0.03293177141446681,
          0.009791377542924643,
          0.01451390690446386,
          0.08670563907786002,
          0.02968896791954321,
          0.0650764546020104,
          0.06649321341047218,
          0.1180317505094035,
          0.08103860384401296,
          0.18861782269987634,
          0.09892124835970814,
          0.10921636236786363,
          0.030507539675543344,
          0.09958240247032361,
          0.14139252908448416,
          0.04360468777154544,
          0.047351227731699884,
          0.33186787999989925,
          0.07338810627831943,
          0.1007787765752469,
          0.42845934720791473,
          0.270663899474351,
          0.13487543856556006,
          0.2047373895872635,
          0.3210690295265129,
          0.11482043054355683,
          0.4986361335203875,
          0.2600539501754262,
          0.16994808995725796,
          0.15127835721463959,
          0.33835348698974643,
          0.12788609511048202,
          0.45034039991637975,
          0.18971974621756882,
          0.21348981067064954,
          0.2732455488586591,
          0.15748061244279443,
          0.20360398254049414,
          0.1220616422312503,
          0.918846796110147,
          0.309640508471588,
          0.35758992325574956,
          0.38970312291421616,
          0.3086645190702032,
          0.5082386098888505,
          0.2043910707674173,
          0.167303473514796,
          0.4623356244946894,
          0.3857676817796002,
          0.3829971312208305,
          0.3287195270922064,
          0.128767633924636,
          0.20703568720987928,
          0.21122299657711074,
          0.6513942166016428,
          0.42653885193422214,
          0.2179919553286503,
          0.16645341822971893,
          0.18927897681049183,
          0.3536229985920566,
          0.2320021257678833,
          0.16711457234033444,
          0.24204537154342334,
          0.2559296078663486,
          0.21267123891464942,
          0.3782746018592913,
          0.14831890548140833,
          0.21972354942788133,
          0.21745673533434248,
          0.23902295275203828,
          0.1627068782695645,
          0.2178345376832656,
          1.3171764059914415,
          0.28247022287819906,
          0.17851160986618242,
          0.2911596769034312,
          0.2738437359111207,
          0.9906922094636971,
          0.21512695418264982,
          0.3132296307863578,
          0.47552722317792223,
          0.3777393818649835,
          0.5088367969413121,
          0.3596048691166729,
          0.00003148352907692811,
          1.8426050227562947,
          0.0712157427720114,
          0.08909838728770655,
          0.05755189115262459,
          0.06457271813677956,
          0.043510237184314654,
          0.07977926268093584,
          0.03028715497200485,
          0.035639354915082626,
          0.04328985248077616,
          0.04077117015462191,
          0.054151670012316355,
          0.06517090518924121,
          0.040172983102160276,
          0.03271138671092831,
          0.03674127843277511,
          0.026131329133850335,
          0.026194296192004193,
          0.020779129190772558,
          0.02084209624892641,
          0.025123856203388636,
          0.03132611143154347,
          0.015930665712925625,
          0.015206544544156278,
          0.017347424521387392,
          0.02559610913954256,
          0.02587946090123491,
          0.02260517387723439,
          0.017567809224925887,
          0.014230555142771509,
          0.027768472645850598,
          0.006359672873539479,
          0.005698518762923988,
          0.0077134646238473875,
          0.007115277571385754,
          0.011050718706001769,
          0.009350608135847649,
          0.006580057577077975,
          0.00950802578123229,
          0.003148352907692811,
          0.0037465399601544457,
          0.005761485821077845,
          0.006107804640924055,
          0.006359672873539479,
          0.002518682326154249,
          0.0024242317389234647,
          0.0017315940992310463,
          74.61309891117362
         ]
        }
       ],
       "layout": {
        "coloraxis": {
         "colorbar": {
          "title": {
           "text": "percentage"
          }
         },
         "colorscale": [
          [
           0,
           "#000004"
          ],
          [
           0.1111111111111111,
           "#180f3d"
          ],
          [
           0.2222222222222222,
           "#440f76"
          ],
          [
           0.3333333333333333,
           "#721f81"
          ],
          [
           0.4444444444444444,
           "#9e2f7f"
          ],
          [
           0.5555555555555556,
           "#cd4071"
          ],
          [
           0.6666666666666666,
           "#f1605d"
          ],
          [
           0.7777777777777778,
           "#fd9668"
          ],
          [
           0.8888888888888888,
           "#feca8d"
          ],
          [
           1,
           "#fcfdbf"
          ]
         ]
        },
        "font": {
         "color": "white"
        },
        "legend": {
         "tracegroupgap": 0
        },
        "paper_bgcolor": "black",
        "plot_bgcolor": "black",
        "template": {
         "data": {
          "bar": [
           {
            "error_x": {
             "color": "#2a3f5f"
            },
            "error_y": {
             "color": "#2a3f5f"
            },
            "marker": {
             "line": {
              "color": "#E5ECF6",
              "width": 0.5
             },
             "pattern": {
              "fillmode": "overlay",
              "size": 10,
              "solidity": 0.2
             }
            },
            "type": "bar"
           }
          ],
          "barpolar": [
           {
            "marker": {
             "line": {
              "color": "#E5ECF6",
              "width": 0.5
             },
             "pattern": {
              "fillmode": "overlay",
              "size": 10,
              "solidity": 0.2
             }
            },
            "type": "barpolar"
           }
          ],
          "carpet": [
           {
            "aaxis": {
             "endlinecolor": "#2a3f5f",
             "gridcolor": "white",
             "linecolor": "white",
             "minorgridcolor": "white",
             "startlinecolor": "#2a3f5f"
            },
            "baxis": {
             "endlinecolor": "#2a3f5f",
             "gridcolor": "white",
             "linecolor": "white",
             "minorgridcolor": "white",
             "startlinecolor": "#2a3f5f"
            },
            "type": "carpet"
           }
          ],
          "choropleth": [
           {
            "colorbar": {
             "outlinewidth": 0,
             "ticks": ""
            },
            "type": "choropleth"
           }
          ],
          "contour": [
           {
            "colorbar": {
             "outlinewidth": 0,
             "ticks": ""
            },
            "colorscale": [
             [
              0,
              "#0d0887"
             ],
             [
              0.1111111111111111,
              "#46039f"
             ],
             [
              0.2222222222222222,
              "#7201a8"
             ],
             [
              0.3333333333333333,
              "#9c179e"
             ],
             [
              0.4444444444444444,
              "#bd3786"
             ],
             [
              0.5555555555555556,
              "#d8576b"
             ],
             [
              0.6666666666666666,
              "#ed7953"
             ],
             [
              0.7777777777777778,
              "#fb9f3a"
             ],
             [
              0.8888888888888888,
              "#fdca26"
             ],
             [
              1,
              "#f0f921"
             ]
            ],
            "type": "contour"
           }
          ],
          "contourcarpet": [
           {
            "colorbar": {
             "outlinewidth": 0,
             "ticks": ""
            },
            "type": "contourcarpet"
           }
          ],
          "heatmap": [
           {
            "colorbar": {
             "outlinewidth": 0,
             "ticks": ""
            },
            "colorscale": [
             [
              0,
              "#0d0887"
             ],
             [
              0.1111111111111111,
              "#46039f"
             ],
             [
              0.2222222222222222,
              "#7201a8"
             ],
             [
              0.3333333333333333,
              "#9c179e"
             ],
             [
              0.4444444444444444,
              "#bd3786"
             ],
             [
              0.5555555555555556,
              "#d8576b"
             ],
             [
              0.6666666666666666,
              "#ed7953"
             ],
             [
              0.7777777777777778,
              "#fb9f3a"
             ],
             [
              0.8888888888888888,
              "#fdca26"
             ],
             [
              1,
              "#f0f921"
             ]
            ],
            "type": "heatmap"
           }
          ],
          "heatmapgl": [
           {
            "colorbar": {
             "outlinewidth": 0,
             "ticks": ""
            },
            "colorscale": [
             [
              0,
              "#0d0887"
             ],
             [
              0.1111111111111111,
              "#46039f"
             ],
             [
              0.2222222222222222,
              "#7201a8"
             ],
             [
              0.3333333333333333,
              "#9c179e"
             ],
             [
              0.4444444444444444,
              "#bd3786"
             ],
             [
              0.5555555555555556,
              "#d8576b"
             ],
             [
              0.6666666666666666,
              "#ed7953"
             ],
             [
              0.7777777777777778,
              "#fb9f3a"
             ],
             [
              0.8888888888888888,
              "#fdca26"
             ],
             [
              1,
              "#f0f921"
             ]
            ],
            "type": "heatmapgl"
           }
          ],
          "histogram": [
           {
            "marker": {
             "pattern": {
              "fillmode": "overlay",
              "size": 10,
              "solidity": 0.2
             }
            },
            "type": "histogram"
           }
          ],
          "histogram2d": [
           {
            "colorbar": {
             "outlinewidth": 0,
             "ticks": ""
            },
            "colorscale": [
             [
              0,
              "#0d0887"
             ],
             [
              0.1111111111111111,
              "#46039f"
             ],
             [
              0.2222222222222222,
              "#7201a8"
             ],
             [
              0.3333333333333333,
              "#9c179e"
             ],
             [
              0.4444444444444444,
              "#bd3786"
             ],
             [
              0.5555555555555556,
              "#d8576b"
             ],
             [
              0.6666666666666666,
              "#ed7953"
             ],
             [
              0.7777777777777778,
              "#fb9f3a"
             ],
             [
              0.8888888888888888,
              "#fdca26"
             ],
             [
              1,
              "#f0f921"
             ]
            ],
            "type": "histogram2d"
           }
          ],
          "histogram2dcontour": [
           {
            "colorbar": {
             "outlinewidth": 0,
             "ticks": ""
            },
            "colorscale": [
             [
              0,
              "#0d0887"
             ],
             [
              0.1111111111111111,
              "#46039f"
             ],
             [
              0.2222222222222222,
              "#7201a8"
             ],
             [
              0.3333333333333333,
              "#9c179e"
             ],
             [
              0.4444444444444444,
              "#bd3786"
             ],
             [
              0.5555555555555556,
              "#d8576b"
             ],
             [
              0.6666666666666666,
              "#ed7953"
             ],
             [
              0.7777777777777778,
              "#fb9f3a"
             ],
             [
              0.8888888888888888,
              "#fdca26"
             ],
             [
              1,
              "#f0f921"
             ]
            ],
            "type": "histogram2dcontour"
           }
          ],
          "mesh3d": [
           {
            "colorbar": {
             "outlinewidth": 0,
             "ticks": ""
            },
            "type": "mesh3d"
           }
          ],
          "parcoords": [
           {
            "line": {
             "colorbar": {
              "outlinewidth": 0,
              "ticks": ""
             }
            },
            "type": "parcoords"
           }
          ],
          "pie": [
           {
            "automargin": true,
            "type": "pie"
           }
          ],
          "scatter": [
           {
            "fillpattern": {
             "fillmode": "overlay",
             "size": 10,
             "solidity": 0.2
            },
            "type": "scatter"
           }
          ],
          "scatter3d": [
           {
            "line": {
             "colorbar": {
              "outlinewidth": 0,
              "ticks": ""
             }
            },
            "marker": {
             "colorbar": {
              "outlinewidth": 0,
              "ticks": ""
             }
            },
            "type": "scatter3d"
           }
          ],
          "scattercarpet": [
           {
            "marker": {
             "colorbar": {
              "outlinewidth": 0,
              "ticks": ""
             }
            },
            "type": "scattercarpet"
           }
          ],
          "scattergeo": [
           {
            "marker": {
             "colorbar": {
              "outlinewidth": 0,
              "ticks": ""
             }
            },
            "type": "scattergeo"
           }
          ],
          "scattergl": [
           {
            "marker": {
             "colorbar": {
              "outlinewidth": 0,
              "ticks": ""
             }
            },
            "type": "scattergl"
           }
          ],
          "scattermapbox": [
           {
            "marker": {
             "colorbar": {
              "outlinewidth": 0,
              "ticks": ""
             }
            },
            "type": "scattermapbox"
           }
          ],
          "scatterpolar": [
           {
            "marker": {
             "colorbar": {
              "outlinewidth": 0,
              "ticks": ""
             }
            },
            "type": "scatterpolar"
           }
          ],
          "scatterpolargl": [
           {
            "marker": {
             "colorbar": {
              "outlinewidth": 0,
              "ticks": ""
             }
            },
            "type": "scatterpolargl"
           }
          ],
          "scatterternary": [
           {
            "marker": {
             "colorbar": {
              "outlinewidth": 0,
              "ticks": ""
             }
            },
            "type": "scatterternary"
           }
          ],
          "surface": [
           {
            "colorbar": {
             "outlinewidth": 0,
             "ticks": ""
            },
            "colorscale": [
             [
              0,
              "#0d0887"
             ],
             [
              0.1111111111111111,
              "#46039f"
             ],
             [
              0.2222222222222222,
              "#7201a8"
             ],
             [
              0.3333333333333333,
              "#9c179e"
             ],
             [
              0.4444444444444444,
              "#bd3786"
             ],
             [
              0.5555555555555556,
              "#d8576b"
             ],
             [
              0.6666666666666666,
              "#ed7953"
             ],
             [
              0.7777777777777778,
              "#fb9f3a"
             ],
             [
              0.8888888888888888,
              "#fdca26"
             ],
             [
              1,
              "#f0f921"
             ]
            ],
            "type": "surface"
           }
          ],
          "table": [
           {
            "cells": {
             "fill": {
              "color": "#EBF0F8"
             },
             "line": {
              "color": "white"
             }
            },
            "header": {
             "fill": {
              "color": "#C8D4E3"
             },
             "line": {
              "color": "white"
             }
            },
            "type": "table"
           }
          ]
         },
         "layout": {
          "annotationdefaults": {
           "arrowcolor": "#2a3f5f",
           "arrowhead": 0,
           "arrowwidth": 1
          },
          "autotypenumbers": "strict",
          "coloraxis": {
           "colorbar": {
            "outlinewidth": 0,
            "ticks": ""
           }
          },
          "colorscale": {
           "diverging": [
            [
             0,
             "#8e0152"
            ],
            [
             0.1,
             "#c51b7d"
            ],
            [
             0.2,
             "#de77ae"
            ],
            [
             0.3,
             "#f1b6da"
            ],
            [
             0.4,
             "#fde0ef"
            ],
            [
             0.5,
             "#f7f7f7"
            ],
            [
             0.6,
             "#e6f5d0"
            ],
            [
             0.7,
             "#b8e186"
            ],
            [
             0.8,
             "#7fbc41"
            ],
            [
             0.9,
             "#4d9221"
            ],
            [
             1,
             "#276419"
            ]
           ],
           "sequential": [
            [
             0,
             "#0d0887"
            ],
            [
             0.1111111111111111,
             "#46039f"
            ],
            [
             0.2222222222222222,
             "#7201a8"
            ],
            [
             0.3333333333333333,
             "#9c179e"
            ],
            [
             0.4444444444444444,
             "#bd3786"
            ],
            [
             0.5555555555555556,
             "#d8576b"
            ],
            [
             0.6666666666666666,
             "#ed7953"
            ],
            [
             0.7777777777777778,
             "#fb9f3a"
            ],
            [
             0.8888888888888888,
             "#fdca26"
            ],
            [
             1,
             "#f0f921"
            ]
           ],
           "sequentialminus": [
            [
             0,
             "#0d0887"
            ],
            [
             0.1111111111111111,
             "#46039f"
            ],
            [
             0.2222222222222222,
             "#7201a8"
            ],
            [
             0.3333333333333333,
             "#9c179e"
            ],
            [
             0.4444444444444444,
             "#bd3786"
            ],
            [
             0.5555555555555556,
             "#d8576b"
            ],
            [
             0.6666666666666666,
             "#ed7953"
            ],
            [
             0.7777777777777778,
             "#fb9f3a"
            ],
            [
             0.8888888888888888,
             "#fdca26"
            ],
            [
             1,
             "#f0f921"
            ]
           ]
          },
          "colorway": [
           "#636efa",
           "#EF553B",
           "#00cc96",
           "#ab63fa",
           "#FFA15A",
           "#19d3f3",
           "#FF6692",
           "#B6E880",
           "#FF97FF",
           "#FECB52"
          ],
          "font": {
           "color": "#2a3f5f"
          },
          "geo": {
           "bgcolor": "white",
           "lakecolor": "white",
           "landcolor": "#E5ECF6",
           "showlakes": true,
           "showland": true,
           "subunitcolor": "white"
          },
          "hoverlabel": {
           "align": "left"
          },
          "hovermode": "closest",
          "mapbox": {
           "style": "light"
          },
          "paper_bgcolor": "white",
          "plot_bgcolor": "#E5ECF6",
          "polar": {
           "angularaxis": {
            "gridcolor": "white",
            "linecolor": "white",
            "ticks": ""
           },
           "bgcolor": "#E5ECF6",
           "radialaxis": {
            "gridcolor": "white",
            "linecolor": "white",
            "ticks": ""
           }
          },
          "scene": {
           "xaxis": {
            "backgroundcolor": "#E5ECF6",
            "gridcolor": "white",
            "gridwidth": 2,
            "linecolor": "white",
            "showbackground": true,
            "ticks": "",
            "zerolinecolor": "white"
           },
           "yaxis": {
            "backgroundcolor": "#E5ECF6",
            "gridcolor": "white",
            "gridwidth": 2,
            "linecolor": "white",
            "showbackground": true,
            "ticks": "",
            "zerolinecolor": "white"
           },
           "zaxis": {
            "backgroundcolor": "#E5ECF6",
            "gridcolor": "white",
            "gridwidth": 2,
            "linecolor": "white",
            "showbackground": true,
            "ticks": "",
            "zerolinecolor": "white"
           }
          },
          "shapedefaults": {
           "line": {
            "color": "#2a3f5f"
           }
          },
          "ternary": {
           "aaxis": {
            "gridcolor": "white",
            "linecolor": "white",
            "ticks": ""
           },
           "baxis": {
            "gridcolor": "white",
            "linecolor": "white",
            "ticks": ""
           },
           "bgcolor": "#E5ECF6",
           "caxis": {
            "gridcolor": "white",
            "linecolor": "white",
            "ticks": ""
           }
          },
          "title": {
           "x": 0.05
          },
          "xaxis": {
           "automargin": true,
           "gridcolor": "white",
           "linecolor": "white",
           "ticks": "",
           "title": {
            "standoff": 15
           },
           "zerolinecolor": "white",
           "zerolinewidth": 2
          },
          "yaxis": {
           "automargin": true,
           "gridcolor": "white",
           "linecolor": "white",
           "ticks": "",
           "title": {
            "standoff": 15
           },
           "zerolinecolor": "white",
           "zerolinewidth": 2
          }
         }
        },
        "title": {
         "text": "ecoscore grad treemap"
        }
       }
      }
     },
     "metadata": {},
     "output_type": "display_data"
    }
   ],
   "source": [
    "df = pd.DataFrame(data_graph_ecoscore_grad)\n",
    "fig = px.treemap(df, path=['ecoscore_grad'], values='percentage',\n",
    "                 color='percentage', color_continuous_scale='Magma',\n",
    "                 title='ecoscore grad treemap')\n",
    "fig.update_layout(\n",
    "    paper_bgcolor='black',  \n",
    "    plot_bgcolor='black',   \n",
    "    font_color='white'      \n",
    ")\n",
    "fig.show()"
   ]
  },
  {
   "cell_type": "markdown",
   "metadata": {},
   "source": [
    "# ECOSCORE GROUPS:"
   ]
  },
  {
   "cell_type": "code",
   "execution_count": 31,
   "metadata": {},
   "outputs": [
    {
     "name": "stdout",
     "output_type": "stream",
     "text": [
      "z: 74.61%\n",
      "c: 5.59%\n",
      "b: 9.01%\n",
      "e: 3.51%\n",
      "d: 6.06%\n",
      "a: 1.21%\n"
     ]
    }
   ],
   "source": [
    "# retourne une liste des lettres écoscore présentes dans le fichier\n",
    "def extract_groups_ecoscore_from_jsonl(file_path):\n",
    "    ecoscore_groups_list = []\n",
    "    with open(file_path, 'r', encoding='utf-8') as file:\n",
    "        for line in file:\n",
    "            try:\n",
    "                record = json.loads(line)\n",
    "                ecoscore_groups = record.get('ecoscore_groups')\n",
    "                if ecoscore_groups is not None:\n",
    "                    ecoscore_groups_list.append(ecoscore_groups)\n",
    "            except json.JSONDecodeError:\n",
    "                print(f\"WARNING line: {line} in {file_path}\")\n",
    "    return ecoscore_groups_list\n",
    "ecoscore_groups_list = extract_groups_ecoscore_from_jsonl(jsonl_02)\n",
    "\n",
    "ecoscore_groups_counts = Counter(ecoscore_groups_list)\n",
    "total_ecoscore_groups = sum(ecoscore_groups_counts.values())\n",
    "\n",
    "data_graph_ecoscore_groups = []\n",
    "for ecoscore_group, count in ecoscore_groups_counts.items():\n",
    "    percentage = (count / total_ecoscore_groups) * 100\n",
    "    print(f\"{ecoscore_group}: {percentage:.2f}%\")\n",
    "    data_graph_ecoscore_groups.append({'ecoscore_group': ecoscore_group, 'percentage': percentage})\n"
   ]
  },
  {
   "cell_type": "code",
   "execution_count": 32,
   "metadata": {},
   "outputs": [
    {
     "data": {
      "application/vnd.plotly.v1+json": {
       "config": {
        "plotlyServerURL": "https://plot.ly"
       },
       "data": [
        {
         "branchvalues": "total",
         "customdata": [
          [
           1.212336254165271
          ],
          [
           9.00992486770621
          ],
          [
           5.593584160510588
          ],
          [
           6.063601766100047
          ],
          [
           3.507454040344254
          ],
          [
           74.61309891117362
          ]
         ],
         "domain": {
          "x": [
           0,
           1
          ],
          "y": [
           0,
           1
          ]
         },
         "hovertemplate": "labels=%{label}<br>percentage_sum=%{value}<br>parent=%{parent}<br>id=%{id}<br>percentage=%{color}<extra></extra>",
         "ids": [
          "a",
          "b",
          "c",
          "d",
          "e",
          "z"
         ],
         "labels": [
          "a",
          "b",
          "c",
          "d",
          "e",
          "z"
         ],
         "marker": {
          "coloraxis": "coloraxis",
          "colors": [
           1.212336254165271,
           9.00992486770621,
           5.593584160510588,
           6.063601766100047,
           3.507454040344254,
           74.61309891117362
          ]
         },
         "name": "",
         "parents": [
          "",
          "",
          "",
          "",
          "",
          ""
         ],
         "type": "treemap",
         "values": [
          1.212336254165271,
          9.00992486770621,
          5.593584160510588,
          6.063601766100047,
          3.507454040344254,
          74.61309891117362
         ]
        }
       ],
       "layout": {
        "coloraxis": {
         "colorbar": {
          "title": {
           "text": "percentage"
          }
         },
         "colorscale": [
          [
           0,
           "#000004"
          ],
          [
           0.1111111111111111,
           "#180f3d"
          ],
          [
           0.2222222222222222,
           "#440f76"
          ],
          [
           0.3333333333333333,
           "#721f81"
          ],
          [
           0.4444444444444444,
           "#9e2f7f"
          ],
          [
           0.5555555555555556,
           "#cd4071"
          ],
          [
           0.6666666666666666,
           "#f1605d"
          ],
          [
           0.7777777777777778,
           "#fd9668"
          ],
          [
           0.8888888888888888,
           "#feca8d"
          ],
          [
           1,
           "#fcfdbf"
          ]
         ]
        },
        "font": {
         "color": "white"
        },
        "legend": {
         "tracegroupgap": 0
        },
        "paper_bgcolor": "black",
        "plot_bgcolor": "black",
        "template": {
         "data": {
          "bar": [
           {
            "error_x": {
             "color": "#2a3f5f"
            },
            "error_y": {
             "color": "#2a3f5f"
            },
            "marker": {
             "line": {
              "color": "#E5ECF6",
              "width": 0.5
             },
             "pattern": {
              "fillmode": "overlay",
              "size": 10,
              "solidity": 0.2
             }
            },
            "type": "bar"
           }
          ],
          "barpolar": [
           {
            "marker": {
             "line": {
              "color": "#E5ECF6",
              "width": 0.5
             },
             "pattern": {
              "fillmode": "overlay",
              "size": 10,
              "solidity": 0.2
             }
            },
            "type": "barpolar"
           }
          ],
          "carpet": [
           {
            "aaxis": {
             "endlinecolor": "#2a3f5f",
             "gridcolor": "white",
             "linecolor": "white",
             "minorgridcolor": "white",
             "startlinecolor": "#2a3f5f"
            },
            "baxis": {
             "endlinecolor": "#2a3f5f",
             "gridcolor": "white",
             "linecolor": "white",
             "minorgridcolor": "white",
             "startlinecolor": "#2a3f5f"
            },
            "type": "carpet"
           }
          ],
          "choropleth": [
           {
            "colorbar": {
             "outlinewidth": 0,
             "ticks": ""
            },
            "type": "choropleth"
           }
          ],
          "contour": [
           {
            "colorbar": {
             "outlinewidth": 0,
             "ticks": ""
            },
            "colorscale": [
             [
              0,
              "#0d0887"
             ],
             [
              0.1111111111111111,
              "#46039f"
             ],
             [
              0.2222222222222222,
              "#7201a8"
             ],
             [
              0.3333333333333333,
              "#9c179e"
             ],
             [
              0.4444444444444444,
              "#bd3786"
             ],
             [
              0.5555555555555556,
              "#d8576b"
             ],
             [
              0.6666666666666666,
              "#ed7953"
             ],
             [
              0.7777777777777778,
              "#fb9f3a"
             ],
             [
              0.8888888888888888,
              "#fdca26"
             ],
             [
              1,
              "#f0f921"
             ]
            ],
            "type": "contour"
           }
          ],
          "contourcarpet": [
           {
            "colorbar": {
             "outlinewidth": 0,
             "ticks": ""
            },
            "type": "contourcarpet"
           }
          ],
          "heatmap": [
           {
            "colorbar": {
             "outlinewidth": 0,
             "ticks": ""
            },
            "colorscale": [
             [
              0,
              "#0d0887"
             ],
             [
              0.1111111111111111,
              "#46039f"
             ],
             [
              0.2222222222222222,
              "#7201a8"
             ],
             [
              0.3333333333333333,
              "#9c179e"
             ],
             [
              0.4444444444444444,
              "#bd3786"
             ],
             [
              0.5555555555555556,
              "#d8576b"
             ],
             [
              0.6666666666666666,
              "#ed7953"
             ],
             [
              0.7777777777777778,
              "#fb9f3a"
             ],
             [
              0.8888888888888888,
              "#fdca26"
             ],
             [
              1,
              "#f0f921"
             ]
            ],
            "type": "heatmap"
           }
          ],
          "heatmapgl": [
           {
            "colorbar": {
             "outlinewidth": 0,
             "ticks": ""
            },
            "colorscale": [
             [
              0,
              "#0d0887"
             ],
             [
              0.1111111111111111,
              "#46039f"
             ],
             [
              0.2222222222222222,
              "#7201a8"
             ],
             [
              0.3333333333333333,
              "#9c179e"
             ],
             [
              0.4444444444444444,
              "#bd3786"
             ],
             [
              0.5555555555555556,
              "#d8576b"
             ],
             [
              0.6666666666666666,
              "#ed7953"
             ],
             [
              0.7777777777777778,
              "#fb9f3a"
             ],
             [
              0.8888888888888888,
              "#fdca26"
             ],
             [
              1,
              "#f0f921"
             ]
            ],
            "type": "heatmapgl"
           }
          ],
          "histogram": [
           {
            "marker": {
             "pattern": {
              "fillmode": "overlay",
              "size": 10,
              "solidity": 0.2
             }
            },
            "type": "histogram"
           }
          ],
          "histogram2d": [
           {
            "colorbar": {
             "outlinewidth": 0,
             "ticks": ""
            },
            "colorscale": [
             [
              0,
              "#0d0887"
             ],
             [
              0.1111111111111111,
              "#46039f"
             ],
             [
              0.2222222222222222,
              "#7201a8"
             ],
             [
              0.3333333333333333,
              "#9c179e"
             ],
             [
              0.4444444444444444,
              "#bd3786"
             ],
             [
              0.5555555555555556,
              "#d8576b"
             ],
             [
              0.6666666666666666,
              "#ed7953"
             ],
             [
              0.7777777777777778,
              "#fb9f3a"
             ],
             [
              0.8888888888888888,
              "#fdca26"
             ],
             [
              1,
              "#f0f921"
             ]
            ],
            "type": "histogram2d"
           }
          ],
          "histogram2dcontour": [
           {
            "colorbar": {
             "outlinewidth": 0,
             "ticks": ""
            },
            "colorscale": [
             [
              0,
              "#0d0887"
             ],
             [
              0.1111111111111111,
              "#46039f"
             ],
             [
              0.2222222222222222,
              "#7201a8"
             ],
             [
              0.3333333333333333,
              "#9c179e"
             ],
             [
              0.4444444444444444,
              "#bd3786"
             ],
             [
              0.5555555555555556,
              "#d8576b"
             ],
             [
              0.6666666666666666,
              "#ed7953"
             ],
             [
              0.7777777777777778,
              "#fb9f3a"
             ],
             [
              0.8888888888888888,
              "#fdca26"
             ],
             [
              1,
              "#f0f921"
             ]
            ],
            "type": "histogram2dcontour"
           }
          ],
          "mesh3d": [
           {
            "colorbar": {
             "outlinewidth": 0,
             "ticks": ""
            },
            "type": "mesh3d"
           }
          ],
          "parcoords": [
           {
            "line": {
             "colorbar": {
              "outlinewidth": 0,
              "ticks": ""
             }
            },
            "type": "parcoords"
           }
          ],
          "pie": [
           {
            "automargin": true,
            "type": "pie"
           }
          ],
          "scatter": [
           {
            "fillpattern": {
             "fillmode": "overlay",
             "size": 10,
             "solidity": 0.2
            },
            "type": "scatter"
           }
          ],
          "scatter3d": [
           {
            "line": {
             "colorbar": {
              "outlinewidth": 0,
              "ticks": ""
             }
            },
            "marker": {
             "colorbar": {
              "outlinewidth": 0,
              "ticks": ""
             }
            },
            "type": "scatter3d"
           }
          ],
          "scattercarpet": [
           {
            "marker": {
             "colorbar": {
              "outlinewidth": 0,
              "ticks": ""
             }
            },
            "type": "scattercarpet"
           }
          ],
          "scattergeo": [
           {
            "marker": {
             "colorbar": {
              "outlinewidth": 0,
              "ticks": ""
             }
            },
            "type": "scattergeo"
           }
          ],
          "scattergl": [
           {
            "marker": {
             "colorbar": {
              "outlinewidth": 0,
              "ticks": ""
             }
            },
            "type": "scattergl"
           }
          ],
          "scattermapbox": [
           {
            "marker": {
             "colorbar": {
              "outlinewidth": 0,
              "ticks": ""
             }
            },
            "type": "scattermapbox"
           }
          ],
          "scatterpolar": [
           {
            "marker": {
             "colorbar": {
              "outlinewidth": 0,
              "ticks": ""
             }
            },
            "type": "scatterpolar"
           }
          ],
          "scatterpolargl": [
           {
            "marker": {
             "colorbar": {
              "outlinewidth": 0,
              "ticks": ""
             }
            },
            "type": "scatterpolargl"
           }
          ],
          "scatterternary": [
           {
            "marker": {
             "colorbar": {
              "outlinewidth": 0,
              "ticks": ""
             }
            },
            "type": "scatterternary"
           }
          ],
          "surface": [
           {
            "colorbar": {
             "outlinewidth": 0,
             "ticks": ""
            },
            "colorscale": [
             [
              0,
              "#0d0887"
             ],
             [
              0.1111111111111111,
              "#46039f"
             ],
             [
              0.2222222222222222,
              "#7201a8"
             ],
             [
              0.3333333333333333,
              "#9c179e"
             ],
             [
              0.4444444444444444,
              "#bd3786"
             ],
             [
              0.5555555555555556,
              "#d8576b"
             ],
             [
              0.6666666666666666,
              "#ed7953"
             ],
             [
              0.7777777777777778,
              "#fb9f3a"
             ],
             [
              0.8888888888888888,
              "#fdca26"
             ],
             [
              1,
              "#f0f921"
             ]
            ],
            "type": "surface"
           }
          ],
          "table": [
           {
            "cells": {
             "fill": {
              "color": "#EBF0F8"
             },
             "line": {
              "color": "white"
             }
            },
            "header": {
             "fill": {
              "color": "#C8D4E3"
             },
             "line": {
              "color": "white"
             }
            },
            "type": "table"
           }
          ]
         },
         "layout": {
          "annotationdefaults": {
           "arrowcolor": "#2a3f5f",
           "arrowhead": 0,
           "arrowwidth": 1
          },
          "autotypenumbers": "strict",
          "coloraxis": {
           "colorbar": {
            "outlinewidth": 0,
            "ticks": ""
           }
          },
          "colorscale": {
           "diverging": [
            [
             0,
             "#8e0152"
            ],
            [
             0.1,
             "#c51b7d"
            ],
            [
             0.2,
             "#de77ae"
            ],
            [
             0.3,
             "#f1b6da"
            ],
            [
             0.4,
             "#fde0ef"
            ],
            [
             0.5,
             "#f7f7f7"
            ],
            [
             0.6,
             "#e6f5d0"
            ],
            [
             0.7,
             "#b8e186"
            ],
            [
             0.8,
             "#7fbc41"
            ],
            [
             0.9,
             "#4d9221"
            ],
            [
             1,
             "#276419"
            ]
           ],
           "sequential": [
            [
             0,
             "#0d0887"
            ],
            [
             0.1111111111111111,
             "#46039f"
            ],
            [
             0.2222222222222222,
             "#7201a8"
            ],
            [
             0.3333333333333333,
             "#9c179e"
            ],
            [
             0.4444444444444444,
             "#bd3786"
            ],
            [
             0.5555555555555556,
             "#d8576b"
            ],
            [
             0.6666666666666666,
             "#ed7953"
            ],
            [
             0.7777777777777778,
             "#fb9f3a"
            ],
            [
             0.8888888888888888,
             "#fdca26"
            ],
            [
             1,
             "#f0f921"
            ]
           ],
           "sequentialminus": [
            [
             0,
             "#0d0887"
            ],
            [
             0.1111111111111111,
             "#46039f"
            ],
            [
             0.2222222222222222,
             "#7201a8"
            ],
            [
             0.3333333333333333,
             "#9c179e"
            ],
            [
             0.4444444444444444,
             "#bd3786"
            ],
            [
             0.5555555555555556,
             "#d8576b"
            ],
            [
             0.6666666666666666,
             "#ed7953"
            ],
            [
             0.7777777777777778,
             "#fb9f3a"
            ],
            [
             0.8888888888888888,
             "#fdca26"
            ],
            [
             1,
             "#f0f921"
            ]
           ]
          },
          "colorway": [
           "#636efa",
           "#EF553B",
           "#00cc96",
           "#ab63fa",
           "#FFA15A",
           "#19d3f3",
           "#FF6692",
           "#B6E880",
           "#FF97FF",
           "#FECB52"
          ],
          "font": {
           "color": "#2a3f5f"
          },
          "geo": {
           "bgcolor": "white",
           "lakecolor": "white",
           "landcolor": "#E5ECF6",
           "showlakes": true,
           "showland": true,
           "subunitcolor": "white"
          },
          "hoverlabel": {
           "align": "left"
          },
          "hovermode": "closest",
          "mapbox": {
           "style": "light"
          },
          "paper_bgcolor": "white",
          "plot_bgcolor": "#E5ECF6",
          "polar": {
           "angularaxis": {
            "gridcolor": "white",
            "linecolor": "white",
            "ticks": ""
           },
           "bgcolor": "#E5ECF6",
           "radialaxis": {
            "gridcolor": "white",
            "linecolor": "white",
            "ticks": ""
           }
          },
          "scene": {
           "xaxis": {
            "backgroundcolor": "#E5ECF6",
            "gridcolor": "white",
            "gridwidth": 2,
            "linecolor": "white",
            "showbackground": true,
            "ticks": "",
            "zerolinecolor": "white"
           },
           "yaxis": {
            "backgroundcolor": "#E5ECF6",
            "gridcolor": "white",
            "gridwidth": 2,
            "linecolor": "white",
            "showbackground": true,
            "ticks": "",
            "zerolinecolor": "white"
           },
           "zaxis": {
            "backgroundcolor": "#E5ECF6",
            "gridcolor": "white",
            "gridwidth": 2,
            "linecolor": "white",
            "showbackground": true,
            "ticks": "",
            "zerolinecolor": "white"
           }
          },
          "shapedefaults": {
           "line": {
            "color": "#2a3f5f"
           }
          },
          "ternary": {
           "aaxis": {
            "gridcolor": "white",
            "linecolor": "white",
            "ticks": ""
           },
           "baxis": {
            "gridcolor": "white",
            "linecolor": "white",
            "ticks": ""
           },
           "bgcolor": "#E5ECF6",
           "caxis": {
            "gridcolor": "white",
            "linecolor": "white",
            "ticks": ""
           }
          },
          "title": {
           "x": 0.05
          },
          "xaxis": {
           "automargin": true,
           "gridcolor": "white",
           "linecolor": "white",
           "ticks": "",
           "title": {
            "standoff": 15
           },
           "zerolinecolor": "white",
           "zerolinewidth": 2
          },
          "yaxis": {
           "automargin": true,
           "gridcolor": "white",
           "linecolor": "white",
           "ticks": "",
           "title": {
            "standoff": 15
           },
           "zerolinecolor": "white",
           "zerolinewidth": 2
          }
         }
        },
        "title": {
         "text": "ecoscore groups treemap"
        }
       }
      }
     },
     "metadata": {},
     "output_type": "display_data"
    }
   ],
   "source": [
    "df = pd.DataFrame(data_graph_ecoscore_groups)\n",
    "fig = px.treemap(df, path=['ecoscore_group'], values='percentage',\n",
    "                 color='percentage', color_continuous_scale='Magma',\n",
    "                 title='ecoscore groups treemap')\n",
    "fig.update_layout(\n",
    "    paper_bgcolor='black',  \n",
    "    plot_bgcolor='black',   \n",
    "    font_color='white'      \n",
    ")\n",
    "fig.show()"
   ]
  },
  {
   "cell_type": "markdown",
   "metadata": {},
   "source": [
    "# LABELS:"
   ]
  },
  {
   "cell_type": "code",
   "execution_count": 33,
   "metadata": {},
   "outputs": [
    {
     "name": "stdout",
     "output_type": "stream",
     "text": [
      "0: 70.95%\n",
      "6: 0.88%\n",
      "1: 11.32%\n",
      "5: 1.11%\n",
      "2: 8.13%\n",
      "3: 4.34%\n",
      "4: 2.05%\n",
      "8: 0.29%\n",
      "7: 0.47%\n",
      "10: 0.11%\n",
      "9: 0.18%\n",
      "11: 0.07%\n",
      "12: 0.04%\n",
      "14: 0.02%\n",
      "13: 0.02%\n",
      "19: 0.00%\n",
      "15: 0.01%\n",
      "17: 0.00%\n",
      "16: 0.01%\n",
      "25: 0.00%\n",
      "24: 0.00%\n",
      "28: 0.00%\n",
      "23: 0.00%\n",
      "18: 0.00%\n",
      "21: 0.00%\n",
      "20: 0.00%\n",
      "29: 0.00%\n",
      "22: 0.00%\n",
      "27: 0.00%\n",
      "26: 0.00%\n",
      "36: 0.00%\n"
     ]
    }
   ],
   "source": [
    "# retourne une liste des labels présents dans le fichier (sans doublons dans l'affichage)\n",
    "def extract_labels_from_jsonl(file_path):\n",
    "    labels_list = []\n",
    "    with open(file_path, 'r', encoding='utf-8') as file:\n",
    "        for line in file:\n",
    "            try:\n",
    "                record = json.loads(line)\n",
    "                labels = record.get('labels_note')\n",
    "                if labels is not None:\n",
    "                    labels_list.append(labels)\n",
    "            except json.JSONDecodeError:\n",
    "                print(f\"WARNING line: {line} in {file_path}\")\n",
    "    return labels_list\n",
    "\n",
    "labels_list = extract_labels_from_jsonl(jsonl_02)\n",
    "label_counts = Counter(labels_list)\n",
    "total_labels = sum(label_counts.values())\n",
    "\n",
    "data_graph_labels = []\n",
    "for label, count in label_counts.items():\n",
    "    percentage = (count / total_labels) * 100\n",
    "    print(f\"{label}: {percentage:.2f}%\")\n",
    "    data_graph_labels.append({'labels': label, 'percentage': percentage})"
   ]
  },
  {
   "cell_type": "code",
   "execution_count": 34,
   "metadata": {},
   "outputs": [
    {
     "data": {
      "application/vnd.plotly.v1+json": {
       "config": {
        "plotlyServerURL": "https://plot.ly"
       },
       "data": [
        {
         "branchvalues": "total",
         "customdata": [
          [
           70.94655859840367
          ],
          [
           11.321288154888888
          ],
          [
           8.131502922930839
          ],
          [
           4.337076515050386
          ],
          [
           2.051057468774636
          ],
          [
           1.109762916432639
          ],
          [
           0.879397934176756
          ],
          [
           0.4684749126646903
          ],
          [
           0.29119116043250814
          ],
          [
           0.1797394675001826
          ],
          [
           0.11019235176924841
          ],
          [
           0.06589502635801053
          ],
          [
           0.039228477229852426
          ],
          [
           0.024620119738157788
          ],
          [
           0.015678797480310203
          ],
          [
           0.009822861072001572
          ],
          [
           0.005887419937385557
          ],
          [
           0.0034317046693851643
          ],
          [
           0.0025816493843081054
          ],
          [
           0.002014945860923399
          ],
          [
           0.001700110570154118
          ],
          [
           0.0009130223432309152
          ],
          [
           0.0006296705815385622
          ],
          [
           0.000566703523384706
          ],
          [
           0.0002203847035384968
          ],
          [
           0.0003148352907692811
          ],
          [
           0.00006296705815385622
          ],
          [
           0.00009445058723078435
          ],
          [
           0.00003148352907692811
          ],
          [
           0.00003148352907692811
          ],
          [
           0.00003148352907692811
          ]
         ],
         "domain": {
          "x": [
           0,
           1
          ],
          "y": [
           0,
           1
          ]
         },
         "hovertemplate": "labels=%{label}<br>percentage_sum=%{value}<br>parent=%{parent}<br>id=%{id}<br>percentage=%{color}<extra></extra>",
         "ids": [
          "0",
          "1",
          "2",
          "3",
          "4",
          "5",
          "6",
          "7",
          "8",
          "9",
          "10",
          "11",
          "12",
          "13",
          "14",
          "15",
          "16",
          "17",
          "18",
          "19",
          "20",
          "21",
          "22",
          "23",
          "24",
          "25",
          "26",
          "27",
          "28",
          "29",
          "36"
         ],
         "labels": [
          "0",
          "1",
          "2",
          "3",
          "4",
          "5",
          "6",
          "7",
          "8",
          "9",
          "10",
          "11",
          "12",
          "13",
          "14",
          "15",
          "16",
          "17",
          "18",
          "19",
          "20",
          "21",
          "22",
          "23",
          "24",
          "25",
          "26",
          "27",
          "28",
          "29",
          "36"
         ],
         "marker": {
          "coloraxis": "coloraxis",
          "colors": [
           70.94655859840367,
           11.321288154888888,
           8.131502922930839,
           4.337076515050386,
           2.051057468774636,
           1.109762916432639,
           0.879397934176756,
           0.4684749126646903,
           0.29119116043250814,
           0.1797394675001826,
           0.11019235176924841,
           0.06589502635801053,
           0.039228477229852426,
           0.024620119738157788,
           0.015678797480310203,
           0.009822861072001572,
           0.005887419937385557,
           0.0034317046693851643,
           0.0025816493843081054,
           0.002014945860923399,
           0.001700110570154118,
           0.0009130223432309152,
           0.0006296705815385622,
           0.000566703523384706,
           0.0002203847035384968,
           0.0003148352907692811,
           0.00006296705815385622,
           0.00009445058723078435,
           0.00003148352907692811,
           0.00003148352907692811,
           0.00003148352907692811
          ]
         },
         "name": "",
         "parents": [
          "",
          "",
          "",
          "",
          "",
          "",
          "",
          "",
          "",
          "",
          "",
          "",
          "",
          "",
          "",
          "",
          "",
          "",
          "",
          "",
          "",
          "",
          "",
          "",
          "",
          "",
          "",
          "",
          "",
          "",
          ""
         ],
         "type": "treemap",
         "values": [
          70.94655859840367,
          11.321288154888888,
          8.131502922930839,
          4.337076515050386,
          2.051057468774636,
          1.109762916432639,
          0.879397934176756,
          0.4684749126646903,
          0.29119116043250814,
          0.1797394675001826,
          0.11019235176924841,
          0.06589502635801053,
          0.039228477229852426,
          0.024620119738157788,
          0.015678797480310203,
          0.009822861072001572,
          0.005887419937385557,
          0.0034317046693851643,
          0.0025816493843081054,
          0.002014945860923399,
          0.001700110570154118,
          0.0009130223432309152,
          0.0006296705815385622,
          0.000566703523384706,
          0.0002203847035384968,
          0.0003148352907692811,
          0.00006296705815385622,
          0.00009445058723078435,
          0.00003148352907692811,
          0.00003148352907692811,
          0.00003148352907692811
         ]
        }
       ],
       "layout": {
        "coloraxis": {
         "colorbar": {
          "title": {
           "text": "percentage"
          }
         },
         "colorscale": [
          [
           0,
           "#000004"
          ],
          [
           0.1111111111111111,
           "#180f3d"
          ],
          [
           0.2222222222222222,
           "#440f76"
          ],
          [
           0.3333333333333333,
           "#721f81"
          ],
          [
           0.4444444444444444,
           "#9e2f7f"
          ],
          [
           0.5555555555555556,
           "#cd4071"
          ],
          [
           0.6666666666666666,
           "#f1605d"
          ],
          [
           0.7777777777777778,
           "#fd9668"
          ],
          [
           0.8888888888888888,
           "#feca8d"
          ],
          [
           1,
           "#fcfdbf"
          ]
         ]
        },
        "font": {
         "color": "white"
        },
        "legend": {
         "tracegroupgap": 0
        },
        "paper_bgcolor": "black",
        "plot_bgcolor": "black",
        "template": {
         "data": {
          "bar": [
           {
            "error_x": {
             "color": "#2a3f5f"
            },
            "error_y": {
             "color": "#2a3f5f"
            },
            "marker": {
             "line": {
              "color": "#E5ECF6",
              "width": 0.5
             },
             "pattern": {
              "fillmode": "overlay",
              "size": 10,
              "solidity": 0.2
             }
            },
            "type": "bar"
           }
          ],
          "barpolar": [
           {
            "marker": {
             "line": {
              "color": "#E5ECF6",
              "width": 0.5
             },
             "pattern": {
              "fillmode": "overlay",
              "size": 10,
              "solidity": 0.2
             }
            },
            "type": "barpolar"
           }
          ],
          "carpet": [
           {
            "aaxis": {
             "endlinecolor": "#2a3f5f",
             "gridcolor": "white",
             "linecolor": "white",
             "minorgridcolor": "white",
             "startlinecolor": "#2a3f5f"
            },
            "baxis": {
             "endlinecolor": "#2a3f5f",
             "gridcolor": "white",
             "linecolor": "white",
             "minorgridcolor": "white",
             "startlinecolor": "#2a3f5f"
            },
            "type": "carpet"
           }
          ],
          "choropleth": [
           {
            "colorbar": {
             "outlinewidth": 0,
             "ticks": ""
            },
            "type": "choropleth"
           }
          ],
          "contour": [
           {
            "colorbar": {
             "outlinewidth": 0,
             "ticks": ""
            },
            "colorscale": [
             [
              0,
              "#0d0887"
             ],
             [
              0.1111111111111111,
              "#46039f"
             ],
             [
              0.2222222222222222,
              "#7201a8"
             ],
             [
              0.3333333333333333,
              "#9c179e"
             ],
             [
              0.4444444444444444,
              "#bd3786"
             ],
             [
              0.5555555555555556,
              "#d8576b"
             ],
             [
              0.6666666666666666,
              "#ed7953"
             ],
             [
              0.7777777777777778,
              "#fb9f3a"
             ],
             [
              0.8888888888888888,
              "#fdca26"
             ],
             [
              1,
              "#f0f921"
             ]
            ],
            "type": "contour"
           }
          ],
          "contourcarpet": [
           {
            "colorbar": {
             "outlinewidth": 0,
             "ticks": ""
            },
            "type": "contourcarpet"
           }
          ],
          "heatmap": [
           {
            "colorbar": {
             "outlinewidth": 0,
             "ticks": ""
            },
            "colorscale": [
             [
              0,
              "#0d0887"
             ],
             [
              0.1111111111111111,
              "#46039f"
             ],
             [
              0.2222222222222222,
              "#7201a8"
             ],
             [
              0.3333333333333333,
              "#9c179e"
             ],
             [
              0.4444444444444444,
              "#bd3786"
             ],
             [
              0.5555555555555556,
              "#d8576b"
             ],
             [
              0.6666666666666666,
              "#ed7953"
             ],
             [
              0.7777777777777778,
              "#fb9f3a"
             ],
             [
              0.8888888888888888,
              "#fdca26"
             ],
             [
              1,
              "#f0f921"
             ]
            ],
            "type": "heatmap"
           }
          ],
          "heatmapgl": [
           {
            "colorbar": {
             "outlinewidth": 0,
             "ticks": ""
            },
            "colorscale": [
             [
              0,
              "#0d0887"
             ],
             [
              0.1111111111111111,
              "#46039f"
             ],
             [
              0.2222222222222222,
              "#7201a8"
             ],
             [
              0.3333333333333333,
              "#9c179e"
             ],
             [
              0.4444444444444444,
              "#bd3786"
             ],
             [
              0.5555555555555556,
              "#d8576b"
             ],
             [
              0.6666666666666666,
              "#ed7953"
             ],
             [
              0.7777777777777778,
              "#fb9f3a"
             ],
             [
              0.8888888888888888,
              "#fdca26"
             ],
             [
              1,
              "#f0f921"
             ]
            ],
            "type": "heatmapgl"
           }
          ],
          "histogram": [
           {
            "marker": {
             "pattern": {
              "fillmode": "overlay",
              "size": 10,
              "solidity": 0.2
             }
            },
            "type": "histogram"
           }
          ],
          "histogram2d": [
           {
            "colorbar": {
             "outlinewidth": 0,
             "ticks": ""
            },
            "colorscale": [
             [
              0,
              "#0d0887"
             ],
             [
              0.1111111111111111,
              "#46039f"
             ],
             [
              0.2222222222222222,
              "#7201a8"
             ],
             [
              0.3333333333333333,
              "#9c179e"
             ],
             [
              0.4444444444444444,
              "#bd3786"
             ],
             [
              0.5555555555555556,
              "#d8576b"
             ],
             [
              0.6666666666666666,
              "#ed7953"
             ],
             [
              0.7777777777777778,
              "#fb9f3a"
             ],
             [
              0.8888888888888888,
              "#fdca26"
             ],
             [
              1,
              "#f0f921"
             ]
            ],
            "type": "histogram2d"
           }
          ],
          "histogram2dcontour": [
           {
            "colorbar": {
             "outlinewidth": 0,
             "ticks": ""
            },
            "colorscale": [
             [
              0,
              "#0d0887"
             ],
             [
              0.1111111111111111,
              "#46039f"
             ],
             [
              0.2222222222222222,
              "#7201a8"
             ],
             [
              0.3333333333333333,
              "#9c179e"
             ],
             [
              0.4444444444444444,
              "#bd3786"
             ],
             [
              0.5555555555555556,
              "#d8576b"
             ],
             [
              0.6666666666666666,
              "#ed7953"
             ],
             [
              0.7777777777777778,
              "#fb9f3a"
             ],
             [
              0.8888888888888888,
              "#fdca26"
             ],
             [
              1,
              "#f0f921"
             ]
            ],
            "type": "histogram2dcontour"
           }
          ],
          "mesh3d": [
           {
            "colorbar": {
             "outlinewidth": 0,
             "ticks": ""
            },
            "type": "mesh3d"
           }
          ],
          "parcoords": [
           {
            "line": {
             "colorbar": {
              "outlinewidth": 0,
              "ticks": ""
             }
            },
            "type": "parcoords"
           }
          ],
          "pie": [
           {
            "automargin": true,
            "type": "pie"
           }
          ],
          "scatter": [
           {
            "fillpattern": {
             "fillmode": "overlay",
             "size": 10,
             "solidity": 0.2
            },
            "type": "scatter"
           }
          ],
          "scatter3d": [
           {
            "line": {
             "colorbar": {
              "outlinewidth": 0,
              "ticks": ""
             }
            },
            "marker": {
             "colorbar": {
              "outlinewidth": 0,
              "ticks": ""
             }
            },
            "type": "scatter3d"
           }
          ],
          "scattercarpet": [
           {
            "marker": {
             "colorbar": {
              "outlinewidth": 0,
              "ticks": ""
             }
            },
            "type": "scattercarpet"
           }
          ],
          "scattergeo": [
           {
            "marker": {
             "colorbar": {
              "outlinewidth": 0,
              "ticks": ""
             }
            },
            "type": "scattergeo"
           }
          ],
          "scattergl": [
           {
            "marker": {
             "colorbar": {
              "outlinewidth": 0,
              "ticks": ""
             }
            },
            "type": "scattergl"
           }
          ],
          "scattermapbox": [
           {
            "marker": {
             "colorbar": {
              "outlinewidth": 0,
              "ticks": ""
             }
            },
            "type": "scattermapbox"
           }
          ],
          "scatterpolar": [
           {
            "marker": {
             "colorbar": {
              "outlinewidth": 0,
              "ticks": ""
             }
            },
            "type": "scatterpolar"
           }
          ],
          "scatterpolargl": [
           {
            "marker": {
             "colorbar": {
              "outlinewidth": 0,
              "ticks": ""
             }
            },
            "type": "scatterpolargl"
           }
          ],
          "scatterternary": [
           {
            "marker": {
             "colorbar": {
              "outlinewidth": 0,
              "ticks": ""
             }
            },
            "type": "scatterternary"
           }
          ],
          "surface": [
           {
            "colorbar": {
             "outlinewidth": 0,
             "ticks": ""
            },
            "colorscale": [
             [
              0,
              "#0d0887"
             ],
             [
              0.1111111111111111,
              "#46039f"
             ],
             [
              0.2222222222222222,
              "#7201a8"
             ],
             [
              0.3333333333333333,
              "#9c179e"
             ],
             [
              0.4444444444444444,
              "#bd3786"
             ],
             [
              0.5555555555555556,
              "#d8576b"
             ],
             [
              0.6666666666666666,
              "#ed7953"
             ],
             [
              0.7777777777777778,
              "#fb9f3a"
             ],
             [
              0.8888888888888888,
              "#fdca26"
             ],
             [
              1,
              "#f0f921"
             ]
            ],
            "type": "surface"
           }
          ],
          "table": [
           {
            "cells": {
             "fill": {
              "color": "#EBF0F8"
             },
             "line": {
              "color": "white"
             }
            },
            "header": {
             "fill": {
              "color": "#C8D4E3"
             },
             "line": {
              "color": "white"
             }
            },
            "type": "table"
           }
          ]
         },
         "layout": {
          "annotationdefaults": {
           "arrowcolor": "#2a3f5f",
           "arrowhead": 0,
           "arrowwidth": 1
          },
          "autotypenumbers": "strict",
          "coloraxis": {
           "colorbar": {
            "outlinewidth": 0,
            "ticks": ""
           }
          },
          "colorscale": {
           "diverging": [
            [
             0,
             "#8e0152"
            ],
            [
             0.1,
             "#c51b7d"
            ],
            [
             0.2,
             "#de77ae"
            ],
            [
             0.3,
             "#f1b6da"
            ],
            [
             0.4,
             "#fde0ef"
            ],
            [
             0.5,
             "#f7f7f7"
            ],
            [
             0.6,
             "#e6f5d0"
            ],
            [
             0.7,
             "#b8e186"
            ],
            [
             0.8,
             "#7fbc41"
            ],
            [
             0.9,
             "#4d9221"
            ],
            [
             1,
             "#276419"
            ]
           ],
           "sequential": [
            [
             0,
             "#0d0887"
            ],
            [
             0.1111111111111111,
             "#46039f"
            ],
            [
             0.2222222222222222,
             "#7201a8"
            ],
            [
             0.3333333333333333,
             "#9c179e"
            ],
            [
             0.4444444444444444,
             "#bd3786"
            ],
            [
             0.5555555555555556,
             "#d8576b"
            ],
            [
             0.6666666666666666,
             "#ed7953"
            ],
            [
             0.7777777777777778,
             "#fb9f3a"
            ],
            [
             0.8888888888888888,
             "#fdca26"
            ],
            [
             1,
             "#f0f921"
            ]
           ],
           "sequentialminus": [
            [
             0,
             "#0d0887"
            ],
            [
             0.1111111111111111,
             "#46039f"
            ],
            [
             0.2222222222222222,
             "#7201a8"
            ],
            [
             0.3333333333333333,
             "#9c179e"
            ],
            [
             0.4444444444444444,
             "#bd3786"
            ],
            [
             0.5555555555555556,
             "#d8576b"
            ],
            [
             0.6666666666666666,
             "#ed7953"
            ],
            [
             0.7777777777777778,
             "#fb9f3a"
            ],
            [
             0.8888888888888888,
             "#fdca26"
            ],
            [
             1,
             "#f0f921"
            ]
           ]
          },
          "colorway": [
           "#636efa",
           "#EF553B",
           "#00cc96",
           "#ab63fa",
           "#FFA15A",
           "#19d3f3",
           "#FF6692",
           "#B6E880",
           "#FF97FF",
           "#FECB52"
          ],
          "font": {
           "color": "#2a3f5f"
          },
          "geo": {
           "bgcolor": "white",
           "lakecolor": "white",
           "landcolor": "#E5ECF6",
           "showlakes": true,
           "showland": true,
           "subunitcolor": "white"
          },
          "hoverlabel": {
           "align": "left"
          },
          "hovermode": "closest",
          "mapbox": {
           "style": "light"
          },
          "paper_bgcolor": "white",
          "plot_bgcolor": "#E5ECF6",
          "polar": {
           "angularaxis": {
            "gridcolor": "white",
            "linecolor": "white",
            "ticks": ""
           },
           "bgcolor": "#E5ECF6",
           "radialaxis": {
            "gridcolor": "white",
            "linecolor": "white",
            "ticks": ""
           }
          },
          "scene": {
           "xaxis": {
            "backgroundcolor": "#E5ECF6",
            "gridcolor": "white",
            "gridwidth": 2,
            "linecolor": "white",
            "showbackground": true,
            "ticks": "",
            "zerolinecolor": "white"
           },
           "yaxis": {
            "backgroundcolor": "#E5ECF6",
            "gridcolor": "white",
            "gridwidth": 2,
            "linecolor": "white",
            "showbackground": true,
            "ticks": "",
            "zerolinecolor": "white"
           },
           "zaxis": {
            "backgroundcolor": "#E5ECF6",
            "gridcolor": "white",
            "gridwidth": 2,
            "linecolor": "white",
            "showbackground": true,
            "ticks": "",
            "zerolinecolor": "white"
           }
          },
          "shapedefaults": {
           "line": {
            "color": "#2a3f5f"
           }
          },
          "ternary": {
           "aaxis": {
            "gridcolor": "white",
            "linecolor": "white",
            "ticks": ""
           },
           "baxis": {
            "gridcolor": "white",
            "linecolor": "white",
            "ticks": ""
           },
           "bgcolor": "#E5ECF6",
           "caxis": {
            "gridcolor": "white",
            "linecolor": "white",
            "ticks": ""
           }
          },
          "title": {
           "x": 0.05
          },
          "xaxis": {
           "automargin": true,
           "gridcolor": "white",
           "linecolor": "white",
           "ticks": "",
           "title": {
            "standoff": 15
           },
           "zerolinecolor": "white",
           "zerolinewidth": 2
          },
          "yaxis": {
           "automargin": true,
           "gridcolor": "white",
           "linecolor": "white",
           "ticks": "",
           "title": {
            "standoff": 15
           },
           "zerolinecolor": "white",
           "zerolinewidth": 2
          }
         }
        },
        "title": {
         "text": "labels treemap"
        }
       }
      }
     },
     "metadata": {},
     "output_type": "display_data"
    }
   ],
   "source": [
    "df = pd.DataFrame(data_graph_labels)\n",
    "fig = px.treemap(df, path=['labels'], values='percentage',\n",
    "                 color='percentage', color_continuous_scale='Magma',\n",
    "                 title='labels treemap')\n",
    "fig.update_layout(\n",
    "    paper_bgcolor='black',  \n",
    "    plot_bgcolor='black',   \n",
    "    font_color='white'      \n",
    ")\n",
    "fig.show()"
   ]
  },
  {
   "cell_type": "markdown",
   "metadata": {},
   "source": [
    "# NONE NUMBER:"
   ]
  },
  {
   "cell_type": "code",
   "execution_count": 35,
   "metadata": {},
   "outputs": [],
   "source": [
    "def count_none_and_total_values(jsonl_file_path):\n",
    "    none_counts = defaultdict(int)\n",
    "    total_counts = defaultdict(int)\n",
    "    with open(jsonl_file_path, 'r', encoding='utf-8') as file:\n",
    "        for line in file:\n",
    "            data = json.loads(line)\n",
    "            for key, value in data.items():\n",
    "                total_counts[key] += 1\n",
    "                if value is None:\n",
    "                    none_counts[key] += 1\n",
    "    return none_counts, total_counts\n",
    "\n",
    "def calculate_percentage(none_counts, total_counts):\n",
    "    percentages = {}\n",
    "    for key in none_counts:\n",
    "        if total_counts[key] > 0:\n",
    "            percentage = (none_counts[key] / total_counts[key]) * 100\n",
    "        else:\n",
    "            percentage = 0\n",
    "        percentages[key] = percentage\n",
    "    return percentages\n",
    "\n",
    "none_counts, total_counts = count_none_and_total_values(jsonl_02)\n",
    "percentages = calculate_percentage(none_counts, total_counts)"
   ]
  },
  {
   "cell_type": "code",
   "execution_count": 36,
   "metadata": {},
   "outputs": [
    {
     "data": {
      "application/vnd.plotly.v1+json": {
       "config": {
        "plotlyServerURL": "https://plot.ly"
       },
       "data": [
        {
         "branchvalues": "total",
         "customdata": [
          [
           55.70396541345429
          ],
          [
           63.67417821692404
          ],
          [
           71.52736674281482
          ],
          [
           88.43446262653231
          ]
         ],
         "domain": {
          "x": [
           0,
           1
          ],
          "y": [
           0,
           1
          ]
         },
         "hovertemplate": "labels=%{label}<br>percentage_sum=%{value}<br>parent=%{parent}<br>id=%{id}<br>percentage=%{color}<extra></extra>",
         "ids": [
          "categories",
          "groups",
          "ingredients",
          "packaging"
         ],
         "labels": [
          "categories",
          "groups",
          "ingredients",
          "packaging"
         ],
         "marker": {
          "coloraxis": "coloraxis",
          "colors": [
           55.70396541345429,
           63.67417821692404,
           71.52736674281482,
           88.43446262653231
          ]
         },
         "name": "",
         "parents": [
          "",
          "",
          "",
          ""
         ],
         "type": "treemap",
         "values": [
          55.70396541345429,
          63.67417821692404,
          71.52736674281482,
          88.43446262653231
         ]
        }
       ],
       "layout": {
        "coloraxis": {
         "colorbar": {
          "title": {
           "text": "percentage"
          }
         },
         "colorscale": [
          [
           0,
           "#000004"
          ],
          [
           0.1111111111111111,
           "#180f3d"
          ],
          [
           0.2222222222222222,
           "#440f76"
          ],
          [
           0.3333333333333333,
           "#721f81"
          ],
          [
           0.4444444444444444,
           "#9e2f7f"
          ],
          [
           0.5555555555555556,
           "#cd4071"
          ],
          [
           0.6666666666666666,
           "#f1605d"
          ],
          [
           0.7777777777777778,
           "#fd9668"
          ],
          [
           0.8888888888888888,
           "#feca8d"
          ],
          [
           1,
           "#fcfdbf"
          ]
         ]
        },
        "font": {
         "color": "white"
        },
        "legend": {
         "tracegroupgap": 0
        },
        "paper_bgcolor": "black",
        "plot_bgcolor": "black",
        "template": {
         "data": {
          "bar": [
           {
            "error_x": {
             "color": "#2a3f5f"
            },
            "error_y": {
             "color": "#2a3f5f"
            },
            "marker": {
             "line": {
              "color": "#E5ECF6",
              "width": 0.5
             },
             "pattern": {
              "fillmode": "overlay",
              "size": 10,
              "solidity": 0.2
             }
            },
            "type": "bar"
           }
          ],
          "barpolar": [
           {
            "marker": {
             "line": {
              "color": "#E5ECF6",
              "width": 0.5
             },
             "pattern": {
              "fillmode": "overlay",
              "size": 10,
              "solidity": 0.2
             }
            },
            "type": "barpolar"
           }
          ],
          "carpet": [
           {
            "aaxis": {
             "endlinecolor": "#2a3f5f",
             "gridcolor": "white",
             "linecolor": "white",
             "minorgridcolor": "white",
             "startlinecolor": "#2a3f5f"
            },
            "baxis": {
             "endlinecolor": "#2a3f5f",
             "gridcolor": "white",
             "linecolor": "white",
             "minorgridcolor": "white",
             "startlinecolor": "#2a3f5f"
            },
            "type": "carpet"
           }
          ],
          "choropleth": [
           {
            "colorbar": {
             "outlinewidth": 0,
             "ticks": ""
            },
            "type": "choropleth"
           }
          ],
          "contour": [
           {
            "colorbar": {
             "outlinewidth": 0,
             "ticks": ""
            },
            "colorscale": [
             [
              0,
              "#0d0887"
             ],
             [
              0.1111111111111111,
              "#46039f"
             ],
             [
              0.2222222222222222,
              "#7201a8"
             ],
             [
              0.3333333333333333,
              "#9c179e"
             ],
             [
              0.4444444444444444,
              "#bd3786"
             ],
             [
              0.5555555555555556,
              "#d8576b"
             ],
             [
              0.6666666666666666,
              "#ed7953"
             ],
             [
              0.7777777777777778,
              "#fb9f3a"
             ],
             [
              0.8888888888888888,
              "#fdca26"
             ],
             [
              1,
              "#f0f921"
             ]
            ],
            "type": "contour"
           }
          ],
          "contourcarpet": [
           {
            "colorbar": {
             "outlinewidth": 0,
             "ticks": ""
            },
            "type": "contourcarpet"
           }
          ],
          "heatmap": [
           {
            "colorbar": {
             "outlinewidth": 0,
             "ticks": ""
            },
            "colorscale": [
             [
              0,
              "#0d0887"
             ],
             [
              0.1111111111111111,
              "#46039f"
             ],
             [
              0.2222222222222222,
              "#7201a8"
             ],
             [
              0.3333333333333333,
              "#9c179e"
             ],
             [
              0.4444444444444444,
              "#bd3786"
             ],
             [
              0.5555555555555556,
              "#d8576b"
             ],
             [
              0.6666666666666666,
              "#ed7953"
             ],
             [
              0.7777777777777778,
              "#fb9f3a"
             ],
             [
              0.8888888888888888,
              "#fdca26"
             ],
             [
              1,
              "#f0f921"
             ]
            ],
            "type": "heatmap"
           }
          ],
          "heatmapgl": [
           {
            "colorbar": {
             "outlinewidth": 0,
             "ticks": ""
            },
            "colorscale": [
             [
              0,
              "#0d0887"
             ],
             [
              0.1111111111111111,
              "#46039f"
             ],
             [
              0.2222222222222222,
              "#7201a8"
             ],
             [
              0.3333333333333333,
              "#9c179e"
             ],
             [
              0.4444444444444444,
              "#bd3786"
             ],
             [
              0.5555555555555556,
              "#d8576b"
             ],
             [
              0.6666666666666666,
              "#ed7953"
             ],
             [
              0.7777777777777778,
              "#fb9f3a"
             ],
             [
              0.8888888888888888,
              "#fdca26"
             ],
             [
              1,
              "#f0f921"
             ]
            ],
            "type": "heatmapgl"
           }
          ],
          "histogram": [
           {
            "marker": {
             "pattern": {
              "fillmode": "overlay",
              "size": 10,
              "solidity": 0.2
             }
            },
            "type": "histogram"
           }
          ],
          "histogram2d": [
           {
            "colorbar": {
             "outlinewidth": 0,
             "ticks": ""
            },
            "colorscale": [
             [
              0,
              "#0d0887"
             ],
             [
              0.1111111111111111,
              "#46039f"
             ],
             [
              0.2222222222222222,
              "#7201a8"
             ],
             [
              0.3333333333333333,
              "#9c179e"
             ],
             [
              0.4444444444444444,
              "#bd3786"
             ],
             [
              0.5555555555555556,
              "#d8576b"
             ],
             [
              0.6666666666666666,
              "#ed7953"
             ],
             [
              0.7777777777777778,
              "#fb9f3a"
             ],
             [
              0.8888888888888888,
              "#fdca26"
             ],
             [
              1,
              "#f0f921"
             ]
            ],
            "type": "histogram2d"
           }
          ],
          "histogram2dcontour": [
           {
            "colorbar": {
             "outlinewidth": 0,
             "ticks": ""
            },
            "colorscale": [
             [
              0,
              "#0d0887"
             ],
             [
              0.1111111111111111,
              "#46039f"
             ],
             [
              0.2222222222222222,
              "#7201a8"
             ],
             [
              0.3333333333333333,
              "#9c179e"
             ],
             [
              0.4444444444444444,
              "#bd3786"
             ],
             [
              0.5555555555555556,
              "#d8576b"
             ],
             [
              0.6666666666666666,
              "#ed7953"
             ],
             [
              0.7777777777777778,
              "#fb9f3a"
             ],
             [
              0.8888888888888888,
              "#fdca26"
             ],
             [
              1,
              "#f0f921"
             ]
            ],
            "type": "histogram2dcontour"
           }
          ],
          "mesh3d": [
           {
            "colorbar": {
             "outlinewidth": 0,
             "ticks": ""
            },
            "type": "mesh3d"
           }
          ],
          "parcoords": [
           {
            "line": {
             "colorbar": {
              "outlinewidth": 0,
              "ticks": ""
             }
            },
            "type": "parcoords"
           }
          ],
          "pie": [
           {
            "automargin": true,
            "type": "pie"
           }
          ],
          "scatter": [
           {
            "fillpattern": {
             "fillmode": "overlay",
             "size": 10,
             "solidity": 0.2
            },
            "type": "scatter"
           }
          ],
          "scatter3d": [
           {
            "line": {
             "colorbar": {
              "outlinewidth": 0,
              "ticks": ""
             }
            },
            "marker": {
             "colorbar": {
              "outlinewidth": 0,
              "ticks": ""
             }
            },
            "type": "scatter3d"
           }
          ],
          "scattercarpet": [
           {
            "marker": {
             "colorbar": {
              "outlinewidth": 0,
              "ticks": ""
             }
            },
            "type": "scattercarpet"
           }
          ],
          "scattergeo": [
           {
            "marker": {
             "colorbar": {
              "outlinewidth": 0,
              "ticks": ""
             }
            },
            "type": "scattergeo"
           }
          ],
          "scattergl": [
           {
            "marker": {
             "colorbar": {
              "outlinewidth": 0,
              "ticks": ""
             }
            },
            "type": "scattergl"
           }
          ],
          "scattermapbox": [
           {
            "marker": {
             "colorbar": {
              "outlinewidth": 0,
              "ticks": ""
             }
            },
            "type": "scattermapbox"
           }
          ],
          "scatterpolar": [
           {
            "marker": {
             "colorbar": {
              "outlinewidth": 0,
              "ticks": ""
             }
            },
            "type": "scatterpolar"
           }
          ],
          "scatterpolargl": [
           {
            "marker": {
             "colorbar": {
              "outlinewidth": 0,
              "ticks": ""
             }
            },
            "type": "scatterpolargl"
           }
          ],
          "scatterternary": [
           {
            "marker": {
             "colorbar": {
              "outlinewidth": 0,
              "ticks": ""
             }
            },
            "type": "scatterternary"
           }
          ],
          "surface": [
           {
            "colorbar": {
             "outlinewidth": 0,
             "ticks": ""
            },
            "colorscale": [
             [
              0,
              "#0d0887"
             ],
             [
              0.1111111111111111,
              "#46039f"
             ],
             [
              0.2222222222222222,
              "#7201a8"
             ],
             [
              0.3333333333333333,
              "#9c179e"
             ],
             [
              0.4444444444444444,
              "#bd3786"
             ],
             [
              0.5555555555555556,
              "#d8576b"
             ],
             [
              0.6666666666666666,
              "#ed7953"
             ],
             [
              0.7777777777777778,
              "#fb9f3a"
             ],
             [
              0.8888888888888888,
              "#fdca26"
             ],
             [
              1,
              "#f0f921"
             ]
            ],
            "type": "surface"
           }
          ],
          "table": [
           {
            "cells": {
             "fill": {
              "color": "#EBF0F8"
             },
             "line": {
              "color": "white"
             }
            },
            "header": {
             "fill": {
              "color": "#C8D4E3"
             },
             "line": {
              "color": "white"
             }
            },
            "type": "table"
           }
          ]
         },
         "layout": {
          "annotationdefaults": {
           "arrowcolor": "#2a3f5f",
           "arrowhead": 0,
           "arrowwidth": 1
          },
          "autotypenumbers": "strict",
          "coloraxis": {
           "colorbar": {
            "outlinewidth": 0,
            "ticks": ""
           }
          },
          "colorscale": {
           "diverging": [
            [
             0,
             "#8e0152"
            ],
            [
             0.1,
             "#c51b7d"
            ],
            [
             0.2,
             "#de77ae"
            ],
            [
             0.3,
             "#f1b6da"
            ],
            [
             0.4,
             "#fde0ef"
            ],
            [
             0.5,
             "#f7f7f7"
            ],
            [
             0.6,
             "#e6f5d0"
            ],
            [
             0.7,
             "#b8e186"
            ],
            [
             0.8,
             "#7fbc41"
            ],
            [
             0.9,
             "#4d9221"
            ],
            [
             1,
             "#276419"
            ]
           ],
           "sequential": [
            [
             0,
             "#0d0887"
            ],
            [
             0.1111111111111111,
             "#46039f"
            ],
            [
             0.2222222222222222,
             "#7201a8"
            ],
            [
             0.3333333333333333,
             "#9c179e"
            ],
            [
             0.4444444444444444,
             "#bd3786"
            ],
            [
             0.5555555555555556,
             "#d8576b"
            ],
            [
             0.6666666666666666,
             "#ed7953"
            ],
            [
             0.7777777777777778,
             "#fb9f3a"
            ],
            [
             0.8888888888888888,
             "#fdca26"
            ],
            [
             1,
             "#f0f921"
            ]
           ],
           "sequentialminus": [
            [
             0,
             "#0d0887"
            ],
            [
             0.1111111111111111,
             "#46039f"
            ],
            [
             0.2222222222222222,
             "#7201a8"
            ],
            [
             0.3333333333333333,
             "#9c179e"
            ],
            [
             0.4444444444444444,
             "#bd3786"
            ],
            [
             0.5555555555555556,
             "#d8576b"
            ],
            [
             0.6666666666666666,
             "#ed7953"
            ],
            [
             0.7777777777777778,
             "#fb9f3a"
            ],
            [
             0.8888888888888888,
             "#fdca26"
            ],
            [
             1,
             "#f0f921"
            ]
           ]
          },
          "colorway": [
           "#636efa",
           "#EF553B",
           "#00cc96",
           "#ab63fa",
           "#FFA15A",
           "#19d3f3",
           "#FF6692",
           "#B6E880",
           "#FF97FF",
           "#FECB52"
          ],
          "font": {
           "color": "#2a3f5f"
          },
          "geo": {
           "bgcolor": "white",
           "lakecolor": "white",
           "landcolor": "#E5ECF6",
           "showlakes": true,
           "showland": true,
           "subunitcolor": "white"
          },
          "hoverlabel": {
           "align": "left"
          },
          "hovermode": "closest",
          "mapbox": {
           "style": "light"
          },
          "paper_bgcolor": "white",
          "plot_bgcolor": "#E5ECF6",
          "polar": {
           "angularaxis": {
            "gridcolor": "white",
            "linecolor": "white",
            "ticks": ""
           },
           "bgcolor": "#E5ECF6",
           "radialaxis": {
            "gridcolor": "white",
            "linecolor": "white",
            "ticks": ""
           }
          },
          "scene": {
           "xaxis": {
            "backgroundcolor": "#E5ECF6",
            "gridcolor": "white",
            "gridwidth": 2,
            "linecolor": "white",
            "showbackground": true,
            "ticks": "",
            "zerolinecolor": "white"
           },
           "yaxis": {
            "backgroundcolor": "#E5ECF6",
            "gridcolor": "white",
            "gridwidth": 2,
            "linecolor": "white",
            "showbackground": true,
            "ticks": "",
            "zerolinecolor": "white"
           },
           "zaxis": {
            "backgroundcolor": "#E5ECF6",
            "gridcolor": "white",
            "gridwidth": 2,
            "linecolor": "white",
            "showbackground": true,
            "ticks": "",
            "zerolinecolor": "white"
           }
          },
          "shapedefaults": {
           "line": {
            "color": "#2a3f5f"
           }
          },
          "ternary": {
           "aaxis": {
            "gridcolor": "white",
            "linecolor": "white",
            "ticks": ""
           },
           "baxis": {
            "gridcolor": "white",
            "linecolor": "white",
            "ticks": ""
           },
           "bgcolor": "#E5ECF6",
           "caxis": {
            "gridcolor": "white",
            "linecolor": "white",
            "ticks": ""
           }
          },
          "title": {
           "x": 0.05
          },
          "xaxis": {
           "automargin": true,
           "gridcolor": "white",
           "linecolor": "white",
           "ticks": "",
           "title": {
            "standoff": 15
           },
           "zerolinecolor": "white",
           "zerolinewidth": 2
          },
          "yaxis": {
           "automargin": true,
           "gridcolor": "white",
           "linecolor": "white",
           "ticks": "",
           "title": {
            "standoff": 15
           },
           "zerolinecolor": "white",
           "zerolinewidth": 2
          }
         }
        },
        "title": {
         "text": "none treemap"
        }
       }
      }
     },
     "metadata": {},
     "output_type": "display_data"
    }
   ],
   "source": [
    "data_graph_none = [{'key': key, 'percentage': percentage} for key, percentage in percentages.items()]\n",
    "df = pd.DataFrame(data_graph_none)\n",
    "fig = px.treemap(df, path=['key'], values='percentage',\n",
    "                 color='percentage', color_continuous_scale='Magma',\n",
    "                 title='none treemap')\n",
    "fig.update_layout(\n",
    "    paper_bgcolor='black',  \n",
    "    plot_bgcolor='black',   \n",
    "    font_color='white'      \n",
    ")\n",
    "fig.show()"
   ]
  },
  {
   "cell_type": "markdown",
   "metadata": {},
   "source": [
    "# ECOSCORE NULL:"
   ]
  },
  {
   "cell_type": "code",
   "execution_count": 37,
   "metadata": {},
   "outputs": [],
   "source": [
    "def count_specific_values(jsonl_file_path):\n",
    "    counts = {\n",
    "        'ecoscore_groups': {'z': 0},\n",
    "        'ecoscore_note': {999: 0}\n",
    "    }\n",
    "    total_counts = {\n",
    "        'ecoscore_groups': 0,\n",
    "        'ecoscore_note': 0\n",
    "    }\n",
    "    with open(jsonl_file_path, 'r') as file:\n",
    "        for line in file:\n",
    "            data = json.loads(line)\n",
    "            for key, value in data.items():\n",
    "                if key in counts:\n",
    "                    total_counts[key] += 1\n",
    "                    if key == 'ecoscore_groups' and value == 'z':\n",
    "                        counts[key]['z'] += 1\n",
    "                    if key == 'ecoscore_note' and value == 999:\n",
    "                        counts[key][999] += 1\n",
    "    return counts, total_counts\n",
    "\n",
    "def calculate_percentage(count, total):\n",
    "    if total > 0:\n",
    "        percentage = (count / total) * 100\n",
    "    else:\n",
    "        percentage = 0\n",
    "    return percentage\n",
    "\n",
    "counts, total_counts = count_specific_values(jsonl_02)\n",
    "\n",
    "z_percentage = calculate_percentage(counts['ecoscore_groups']['z'], total_counts['ecoscore_groups'])\n",
    "number_999 = counts['ecoscore_note'][999]\n",
    "number_999_percentage = calculate_percentage(number_999, total_counts['ecoscore_note'])\n",
    "\n",
    "labels = ['Ecoscore Groups (z)', 'Ecoscore Note (999)']\n",
    "values = [z_percentage, number_999_percentage]\n",
    "counts_values = [counts['ecoscore_groups']['z'], counts['ecoscore_note'][999]]"
   ]
  },
  {
   "cell_type": "code",
   "execution_count": 38,
   "metadata": {},
   "outputs": [
    {
     "data": {
      "application/vnd.plotly.v1+json": {
       "config": {
        "plotlyServerURL": "https://plot.ly"
       },
       "data": [
        {
         "name": "Pourcentage",
         "text": [
          "74.61%",
          "74.61%"
         ],
         "textposition": "auto",
         "type": "bar",
         "x": [
          "Ecoscore Groups (z)",
          "Ecoscore Note (999)"
         ],
         "y": [
          74.61309891117362,
          74.61309891117362
         ]
        },
        {
         "name": "Nombre",
         "text": [
          "2369909",
          "2369909"
         ],
         "textposition": "auto",
         "type": "bar",
         "x": [
          "Ecoscore Groups (z)",
          "Ecoscore Note (999)"
         ],
         "y": [
          2369909,
          2369909
         ]
        }
       ],
       "layout": {
        "barmode": "group",
        "template": {
         "data": {
          "bar": [
           {
            "error_x": {
             "color": "#2a3f5f"
            },
            "error_y": {
             "color": "#2a3f5f"
            },
            "marker": {
             "line": {
              "color": "#E5ECF6",
              "width": 0.5
             },
             "pattern": {
              "fillmode": "overlay",
              "size": 10,
              "solidity": 0.2
             }
            },
            "type": "bar"
           }
          ],
          "barpolar": [
           {
            "marker": {
             "line": {
              "color": "#E5ECF6",
              "width": 0.5
             },
             "pattern": {
              "fillmode": "overlay",
              "size": 10,
              "solidity": 0.2
             }
            },
            "type": "barpolar"
           }
          ],
          "carpet": [
           {
            "aaxis": {
             "endlinecolor": "#2a3f5f",
             "gridcolor": "white",
             "linecolor": "white",
             "minorgridcolor": "white",
             "startlinecolor": "#2a3f5f"
            },
            "baxis": {
             "endlinecolor": "#2a3f5f",
             "gridcolor": "white",
             "linecolor": "white",
             "minorgridcolor": "white",
             "startlinecolor": "#2a3f5f"
            },
            "type": "carpet"
           }
          ],
          "choropleth": [
           {
            "colorbar": {
             "outlinewidth": 0,
             "ticks": ""
            },
            "type": "choropleth"
           }
          ],
          "contour": [
           {
            "colorbar": {
             "outlinewidth": 0,
             "ticks": ""
            },
            "colorscale": [
             [
              0,
              "#0d0887"
             ],
             [
              0.1111111111111111,
              "#46039f"
             ],
             [
              0.2222222222222222,
              "#7201a8"
             ],
             [
              0.3333333333333333,
              "#9c179e"
             ],
             [
              0.4444444444444444,
              "#bd3786"
             ],
             [
              0.5555555555555556,
              "#d8576b"
             ],
             [
              0.6666666666666666,
              "#ed7953"
             ],
             [
              0.7777777777777778,
              "#fb9f3a"
             ],
             [
              0.8888888888888888,
              "#fdca26"
             ],
             [
              1,
              "#f0f921"
             ]
            ],
            "type": "contour"
           }
          ],
          "contourcarpet": [
           {
            "colorbar": {
             "outlinewidth": 0,
             "ticks": ""
            },
            "type": "contourcarpet"
           }
          ],
          "heatmap": [
           {
            "colorbar": {
             "outlinewidth": 0,
             "ticks": ""
            },
            "colorscale": [
             [
              0,
              "#0d0887"
             ],
             [
              0.1111111111111111,
              "#46039f"
             ],
             [
              0.2222222222222222,
              "#7201a8"
             ],
             [
              0.3333333333333333,
              "#9c179e"
             ],
             [
              0.4444444444444444,
              "#bd3786"
             ],
             [
              0.5555555555555556,
              "#d8576b"
             ],
             [
              0.6666666666666666,
              "#ed7953"
             ],
             [
              0.7777777777777778,
              "#fb9f3a"
             ],
             [
              0.8888888888888888,
              "#fdca26"
             ],
             [
              1,
              "#f0f921"
             ]
            ],
            "type": "heatmap"
           }
          ],
          "heatmapgl": [
           {
            "colorbar": {
             "outlinewidth": 0,
             "ticks": ""
            },
            "colorscale": [
             [
              0,
              "#0d0887"
             ],
             [
              0.1111111111111111,
              "#46039f"
             ],
             [
              0.2222222222222222,
              "#7201a8"
             ],
             [
              0.3333333333333333,
              "#9c179e"
             ],
             [
              0.4444444444444444,
              "#bd3786"
             ],
             [
              0.5555555555555556,
              "#d8576b"
             ],
             [
              0.6666666666666666,
              "#ed7953"
             ],
             [
              0.7777777777777778,
              "#fb9f3a"
             ],
             [
              0.8888888888888888,
              "#fdca26"
             ],
             [
              1,
              "#f0f921"
             ]
            ],
            "type": "heatmapgl"
           }
          ],
          "histogram": [
           {
            "marker": {
             "pattern": {
              "fillmode": "overlay",
              "size": 10,
              "solidity": 0.2
             }
            },
            "type": "histogram"
           }
          ],
          "histogram2d": [
           {
            "colorbar": {
             "outlinewidth": 0,
             "ticks": ""
            },
            "colorscale": [
             [
              0,
              "#0d0887"
             ],
             [
              0.1111111111111111,
              "#46039f"
             ],
             [
              0.2222222222222222,
              "#7201a8"
             ],
             [
              0.3333333333333333,
              "#9c179e"
             ],
             [
              0.4444444444444444,
              "#bd3786"
             ],
             [
              0.5555555555555556,
              "#d8576b"
             ],
             [
              0.6666666666666666,
              "#ed7953"
             ],
             [
              0.7777777777777778,
              "#fb9f3a"
             ],
             [
              0.8888888888888888,
              "#fdca26"
             ],
             [
              1,
              "#f0f921"
             ]
            ],
            "type": "histogram2d"
           }
          ],
          "histogram2dcontour": [
           {
            "colorbar": {
             "outlinewidth": 0,
             "ticks": ""
            },
            "colorscale": [
             [
              0,
              "#0d0887"
             ],
             [
              0.1111111111111111,
              "#46039f"
             ],
             [
              0.2222222222222222,
              "#7201a8"
             ],
             [
              0.3333333333333333,
              "#9c179e"
             ],
             [
              0.4444444444444444,
              "#bd3786"
             ],
             [
              0.5555555555555556,
              "#d8576b"
             ],
             [
              0.6666666666666666,
              "#ed7953"
             ],
             [
              0.7777777777777778,
              "#fb9f3a"
             ],
             [
              0.8888888888888888,
              "#fdca26"
             ],
             [
              1,
              "#f0f921"
             ]
            ],
            "type": "histogram2dcontour"
           }
          ],
          "mesh3d": [
           {
            "colorbar": {
             "outlinewidth": 0,
             "ticks": ""
            },
            "type": "mesh3d"
           }
          ],
          "parcoords": [
           {
            "line": {
             "colorbar": {
              "outlinewidth": 0,
              "ticks": ""
             }
            },
            "type": "parcoords"
           }
          ],
          "pie": [
           {
            "automargin": true,
            "type": "pie"
           }
          ],
          "scatter": [
           {
            "fillpattern": {
             "fillmode": "overlay",
             "size": 10,
             "solidity": 0.2
            },
            "type": "scatter"
           }
          ],
          "scatter3d": [
           {
            "line": {
             "colorbar": {
              "outlinewidth": 0,
              "ticks": ""
             }
            },
            "marker": {
             "colorbar": {
              "outlinewidth": 0,
              "ticks": ""
             }
            },
            "type": "scatter3d"
           }
          ],
          "scattercarpet": [
           {
            "marker": {
             "colorbar": {
              "outlinewidth": 0,
              "ticks": ""
             }
            },
            "type": "scattercarpet"
           }
          ],
          "scattergeo": [
           {
            "marker": {
             "colorbar": {
              "outlinewidth": 0,
              "ticks": ""
             }
            },
            "type": "scattergeo"
           }
          ],
          "scattergl": [
           {
            "marker": {
             "colorbar": {
              "outlinewidth": 0,
              "ticks": ""
             }
            },
            "type": "scattergl"
           }
          ],
          "scattermapbox": [
           {
            "marker": {
             "colorbar": {
              "outlinewidth": 0,
              "ticks": ""
             }
            },
            "type": "scattermapbox"
           }
          ],
          "scatterpolar": [
           {
            "marker": {
             "colorbar": {
              "outlinewidth": 0,
              "ticks": ""
             }
            },
            "type": "scatterpolar"
           }
          ],
          "scatterpolargl": [
           {
            "marker": {
             "colorbar": {
              "outlinewidth": 0,
              "ticks": ""
             }
            },
            "type": "scatterpolargl"
           }
          ],
          "scatterternary": [
           {
            "marker": {
             "colorbar": {
              "outlinewidth": 0,
              "ticks": ""
             }
            },
            "type": "scatterternary"
           }
          ],
          "surface": [
           {
            "colorbar": {
             "outlinewidth": 0,
             "ticks": ""
            },
            "colorscale": [
             [
              0,
              "#0d0887"
             ],
             [
              0.1111111111111111,
              "#46039f"
             ],
             [
              0.2222222222222222,
              "#7201a8"
             ],
             [
              0.3333333333333333,
              "#9c179e"
             ],
             [
              0.4444444444444444,
              "#bd3786"
             ],
             [
              0.5555555555555556,
              "#d8576b"
             ],
             [
              0.6666666666666666,
              "#ed7953"
             ],
             [
              0.7777777777777778,
              "#fb9f3a"
             ],
             [
              0.8888888888888888,
              "#fdca26"
             ],
             [
              1,
              "#f0f921"
             ]
            ],
            "type": "surface"
           }
          ],
          "table": [
           {
            "cells": {
             "fill": {
              "color": "#EBF0F8"
             },
             "line": {
              "color": "white"
             }
            },
            "header": {
             "fill": {
              "color": "#C8D4E3"
             },
             "line": {
              "color": "white"
             }
            },
            "type": "table"
           }
          ]
         },
         "layout": {
          "annotationdefaults": {
           "arrowcolor": "#2a3f5f",
           "arrowhead": 0,
           "arrowwidth": 1
          },
          "autotypenumbers": "strict",
          "coloraxis": {
           "colorbar": {
            "outlinewidth": 0,
            "ticks": ""
           }
          },
          "colorscale": {
           "diverging": [
            [
             0,
             "#8e0152"
            ],
            [
             0.1,
             "#c51b7d"
            ],
            [
             0.2,
             "#de77ae"
            ],
            [
             0.3,
             "#f1b6da"
            ],
            [
             0.4,
             "#fde0ef"
            ],
            [
             0.5,
             "#f7f7f7"
            ],
            [
             0.6,
             "#e6f5d0"
            ],
            [
             0.7,
             "#b8e186"
            ],
            [
             0.8,
             "#7fbc41"
            ],
            [
             0.9,
             "#4d9221"
            ],
            [
             1,
             "#276419"
            ]
           ],
           "sequential": [
            [
             0,
             "#0d0887"
            ],
            [
             0.1111111111111111,
             "#46039f"
            ],
            [
             0.2222222222222222,
             "#7201a8"
            ],
            [
             0.3333333333333333,
             "#9c179e"
            ],
            [
             0.4444444444444444,
             "#bd3786"
            ],
            [
             0.5555555555555556,
             "#d8576b"
            ],
            [
             0.6666666666666666,
             "#ed7953"
            ],
            [
             0.7777777777777778,
             "#fb9f3a"
            ],
            [
             0.8888888888888888,
             "#fdca26"
            ],
            [
             1,
             "#f0f921"
            ]
           ],
           "sequentialminus": [
            [
             0,
             "#0d0887"
            ],
            [
             0.1111111111111111,
             "#46039f"
            ],
            [
             0.2222222222222222,
             "#7201a8"
            ],
            [
             0.3333333333333333,
             "#9c179e"
            ],
            [
             0.4444444444444444,
             "#bd3786"
            ],
            [
             0.5555555555555556,
             "#d8576b"
            ],
            [
             0.6666666666666666,
             "#ed7953"
            ],
            [
             0.7777777777777778,
             "#fb9f3a"
            ],
            [
             0.8888888888888888,
             "#fdca26"
            ],
            [
             1,
             "#f0f921"
            ]
           ]
          },
          "colorway": [
           "#636efa",
           "#EF553B",
           "#00cc96",
           "#ab63fa",
           "#FFA15A",
           "#19d3f3",
           "#FF6692",
           "#B6E880",
           "#FF97FF",
           "#FECB52"
          ],
          "font": {
           "color": "#2a3f5f"
          },
          "geo": {
           "bgcolor": "white",
           "lakecolor": "white",
           "landcolor": "#E5ECF6",
           "showlakes": true,
           "showland": true,
           "subunitcolor": "white"
          },
          "hoverlabel": {
           "align": "left"
          },
          "hovermode": "closest",
          "mapbox": {
           "style": "light"
          },
          "paper_bgcolor": "white",
          "plot_bgcolor": "#E5ECF6",
          "polar": {
           "angularaxis": {
            "gridcolor": "white",
            "linecolor": "white",
            "ticks": ""
           },
           "bgcolor": "#E5ECF6",
           "radialaxis": {
            "gridcolor": "white",
            "linecolor": "white",
            "ticks": ""
           }
          },
          "scene": {
           "xaxis": {
            "backgroundcolor": "#E5ECF6",
            "gridcolor": "white",
            "gridwidth": 2,
            "linecolor": "white",
            "showbackground": true,
            "ticks": "",
            "zerolinecolor": "white"
           },
           "yaxis": {
            "backgroundcolor": "#E5ECF6",
            "gridcolor": "white",
            "gridwidth": 2,
            "linecolor": "white",
            "showbackground": true,
            "ticks": "",
            "zerolinecolor": "white"
           },
           "zaxis": {
            "backgroundcolor": "#E5ECF6",
            "gridcolor": "white",
            "gridwidth": 2,
            "linecolor": "white",
            "showbackground": true,
            "ticks": "",
            "zerolinecolor": "white"
           }
          },
          "shapedefaults": {
           "line": {
            "color": "#2a3f5f"
           }
          },
          "ternary": {
           "aaxis": {
            "gridcolor": "white",
            "linecolor": "white",
            "ticks": ""
           },
           "baxis": {
            "gridcolor": "white",
            "linecolor": "white",
            "ticks": ""
           },
           "bgcolor": "#E5ECF6",
           "caxis": {
            "gridcolor": "white",
            "linecolor": "white",
            "ticks": ""
           }
          },
          "title": {
           "x": 0.05
          },
          "xaxis": {
           "automargin": true,
           "gridcolor": "white",
           "linecolor": "white",
           "ticks": "",
           "title": {
            "standoff": 15
           },
           "zerolinecolor": "white",
           "zerolinewidth": 2
          },
          "yaxis": {
           "automargin": true,
           "gridcolor": "white",
           "linecolor": "white",
           "ticks": "",
           "title": {
            "standoff": 15
           },
           "zerolinecolor": "white",
           "zerolinewidth": 2
          }
         }
        },
        "title": {
         "text": "percentage empty data ecoscore group and grad"
        },
        "xaxis": {
         "title": {
          "text": "Catégories"
         }
        },
        "yaxis": {
         "title": {
          "text": "Valeurs"
         }
        }
       }
      }
     },
     "metadata": {},
     "output_type": "display_data"
    }
   ],
   "source": [
    "fig = go.Figure()\n",
    "fig.add_trace(go.Bar(\n",
    "    x=labels,\n",
    "    y=values,\n",
    "    name='Pourcentage',\n",
    "    text=[f'{v:.2f}%' for v in values],\n",
    "    textposition='auto'\n",
    "))\n",
    "fig.add_trace(go.Bar(\n",
    "    x=labels,\n",
    "    y=counts_values,\n",
    "    name='Nombre',\n",
    "    text=[str(v) for v in counts_values],\n",
    "    textposition='auto'\n",
    "))\n",
    "fig.update_layout(\n",
    "    title='percentage empty data ecoscore group and grad',\n",
    "    xaxis_title='Catégories',\n",
    "    yaxis_title='Valeurs',\n",
    "    barmode='group'\n",
    ")\n",
    "fig.show()"
   ]
  },
  {
   "cell_type": "markdown",
   "metadata": {},
   "source": [
    "# TOTAL ARTICLES NUMBER:"
   ]
  },
  {
   "cell_type": "code",
   "execution_count": 39,
   "metadata": {},
   "outputs": [
    {
     "name": "stdout",
     "output_type": "stream",
     "text": [
      "total product number: 3176264\n"
     ]
    }
   ],
   "source": [
    "print(f\"total product number: {total_labels}\")"
   ]
  },
  {
   "cell_type": "markdown",
   "metadata": {},
   "source": [
    "# JSONL SAMPLE:"
   ]
  },
  {
   "cell_type": "code",
   "execution_count": 44,
   "metadata": {},
   "outputs": [
    {
     "data": {
      "text/html": [
       "<div>\n",
       "<style scoped>\n",
       "    .dataframe tbody tr th:only-of-type {\n",
       "        vertical-align: middle;\n",
       "    }\n",
       "\n",
       "    .dataframe tbody tr th {\n",
       "        vertical-align: top;\n",
       "    }\n",
       "\n",
       "    .dataframe thead th {\n",
       "        text-align: right;\n",
       "    }\n",
       "</style>\n",
       "<table border=\"1\" class=\"dataframe\">\n",
       "  <thead>\n",
       "    <tr style=\"text-align: right;\">\n",
       "      <th></th>\n",
       "      <th>groups</th>\n",
       "      <th>packaging</th>\n",
       "      <th>name</th>\n",
       "      <th>ecoscore_groups</th>\n",
       "      <th>ecoscore_note</th>\n",
       "      <th>code</th>\n",
       "      <th>countries</th>\n",
       "      <th>ingredients</th>\n",
       "      <th>categories</th>\n",
       "      <th>labels_note</th>\n",
       "    </tr>\n",
       "  </thead>\n",
       "  <tbody>\n",
       "    <tr>\n",
       "      <th>0</th>\n",
       "      <td>None</td>\n",
       "      <td>None</td>\n",
       "      <td>Fiesta, nacho chips</td>\n",
       "      <td>z</td>\n",
       "      <td>999</td>\n",
       "      <td>31903045355</td>\n",
       "      <td>united states</td>\n",
       "      <td>ground-corn-treated-with-lime, water, vegetable-oil, oil-and-fat, vegetable-oil-and-fat, coating, contains-one-and-more-of-the-following, corn-oil, palm-oil, palm-oil-and-fat, salt, maltodextrin, whey, dairy, partially-hydrogenated-soybean-oil, soya-oil, cheddar, cheese, romano-cheese, e621, tomato, vegetable, fruit-vegetable, onion, root-vegetable, onion-family-vegetable, dextrose, added-sugar, monosaccharide, glucose, garlic, skimmed-milk-powder, milk-powder, sodium-citrate, minerals, sodium, e330, e627, e631, paprika, condiment, spice, e270, natural-flavouring, flavouring, e160b, and-less-than-2-calcium-silicate-added, cottonseed-oil, milk, lactic-ferments, ferment, microbial-culture, enzyme, part-skim-cow-s-milk, anti-caking-agent</td>\n",
       "      <td>snacks</td>\n",
       "      <td>0</td>\n",
       "    </tr>\n",
       "    <tr>\n",
       "      <th>1</th>\n",
       "      <td>Milk and dairy products</td>\n",
       "      <td>None</td>\n",
       "      <td>International delight, hot chocolate, milk chocolate</td>\n",
       "      <td>d</td>\n",
       "      <td>36</td>\n",
       "      <td>41271027174</td>\n",
       "      <td>united states</td>\n",
       "      <td>ultra-pasteurized-skim-milk, cane-sugar, added-sugar, disaccharide, sugar, cream, dairy, contains-2-and-less-of, salt, natural-and-artificial-flavouring, flavouring, natural-flavouring, artificial-flavouring, modified-corn-starch, starch, corn-starch, modified-starch, e407, cocoa, plant, processed-with-alkali</td>\n",
       "      <td>dairies, milks</td>\n",
       "      <td>0</td>\n",
       "    </tr>\n",
       "    <tr>\n",
       "      <th>2</th>\n",
       "      <td>Cereals and potatoes</td>\n",
       "      <td>None</td>\n",
       "      <td>Pain à sandwich blanc</td>\n",
       "      <td>b</td>\n",
       "      <td>70</td>\n",
       "      <td>59749916332</td>\n",
       "      <td>canada</td>\n",
       "      <td>fortified-wheat-flour, cereal, flour, wheat, cereal-flour, wheat-flour, water, sugar, added-sugar, disaccharide, glucose, monosaccharide, fructose, yeast, canola-oil, oil-and-fat, vegetable-oil-and-fat, rapeseed-oil, soya, salt, e282, e481, soya-lecithin, e322, e322i</td>\n",
       "      <td>plant-based-foods-and-beverages, plant-based-foods, cereals-and-potatoes, breads, sliced-breads</td>\n",
       "      <td>0</td>\n",
       "    </tr>\n",
       "    <tr>\n",
       "      <th>3</th>\n",
       "      <td>Sugary snacks</td>\n",
       "      <td>None</td>\n",
       "      <td>Rope rainbow candy ounce package count</td>\n",
       "      <td>c</td>\n",
       "      <td>42</td>\n",
       "      <td>79200173067</td>\n",
       "      <td>france, spain, united states</td>\n",
       "      <td>dextrose, added-sugar, monosaccharide, glucose, sugar, disaccharide, corn-syrup, and-less-than-2-of-malic-acid, e428, confectioner-s-glaze, e422, e330, e903, natural-flavouring, flavouring, colour, carmine-color, e133, e132, e129, red-40-lake-yellow-5, e102, e110, lac-resin</td>\n",
       "      <td>snacks, sweet-snacks, confectioneries, candies</td>\n",
       "      <td>1</td>\n",
       "    </tr>\n",
       "    <tr>\n",
       "      <th>4</th>\n",
       "      <td>None</td>\n",
       "      <td>None</td>\n",
       "      <td>Pain au lait Bio</td>\n",
       "      <td>z</td>\n",
       "      <td>999</td>\n",
       "      <td>201934009453</td>\n",
       "      <td>france</td>\n",
       "      <td>None</td>\n",
       "      <td>None</td>\n",
       "      <td>2</td>\n",
       "    </tr>\n",
       "    <tr>\n",
       "      <th>5</th>\n",
       "      <td>None</td>\n",
       "      <td>None</td>\n",
       "      <td>100% Orange Juice</td>\n",
       "      <td>z</td>\n",
       "      <td>999</td>\n",
       "      <td>2127111484074</td>\n",
       "      <td>chili</td>\n",
       "      <td>None</td>\n",
       "      <td>None</td>\n",
       "      <td>0</td>\n",
       "    </tr>\n",
       "    <tr>\n",
       "      <th>6</th>\n",
       "      <td>None</td>\n",
       "      <td>None</td>\n",
       "      <td>1/2palette fumee sans os</td>\n",
       "      <td>z</td>\n",
       "      <td>999</td>\n",
       "      <td>2238805073938</td>\n",
       "      <td>france</td>\n",
       "      <td>None</td>\n",
       "      <td>None</td>\n",
       "      <td>0</td>\n",
       "    </tr>\n",
       "    <tr>\n",
       "      <th>7</th>\n",
       "      <td>Salty snacks</td>\n",
       "      <td>None</td>\n",
       "      <td>Chips Campagnardes</td>\n",
       "      <td>b</td>\n",
       "      <td>79</td>\n",
       "      <td>3258561239736</td>\n",
       "      <td>france</td>\n",
       "      <td>potato, vegetable, root-vegetable, tuber, sunflower-oil, oil-and-fat, vegetable-oil-and-fat, vegetable-oil, salt</td>\n",
       "      <td>plant-based-foods-and-beverages, plant-based-foods, snacks, cereals-and-potatoes, salty-snacks, appetizers, chips-and-fries, crisps, potato-crisps, farmer-s-crisps, potato-crisps-in-sunflower-oil</td>\n",
       "      <td>2</td>\n",
       "    </tr>\n",
       "    <tr>\n",
       "      <th>8</th>\n",
       "      <td>Fish Meat Eggs</td>\n",
       "      <td>None</td>\n",
       "      <td>Terrine de campagne</td>\n",
       "      <td>z</td>\n",
       "      <td>999</td>\n",
       "      <td>3525165233188</td>\n",
       "      <td>france</td>\n",
       "      <td>None</td>\n",
       "      <td>meats-and-their-products, meats, prepared-meats, terrines, country-terrines</td>\n",
       "      <td>0</td>\n",
       "    </tr>\n",
       "    <tr>\n",
       "      <th>9</th>\n",
       "      <td>Sugary snacks</td>\n",
       "      <td>Plastique, Sachet</td>\n",
       "      <td>Kouign Amann</td>\n",
       "      <td>b</td>\n",
       "      <td>78</td>\n",
       "      <td>3770003263005</td>\n",
       "      <td>france</td>\n",
       "      <td>wheat-flour, cereal, flour, wheat, cereal-flour, butter, dairy, sugar, added-sugar, disaccharide, water, dried-wheat-sourdough, dough, sourdough, wheat-sourdough, salt, yeast</td>\n",
       "      <td>snacks, desserts, sweet-snacks, biscuits-and-cakes, cakes, pastries, kouign-amann</td>\n",
       "      <td>2</td>\n",
       "    </tr>\n",
       "    <tr>\n",
       "      <th>10</th>\n",
       "      <td>Alcoholic beverages</td>\n",
       "      <td>Bouteille verre, Point vert</td>\n",
       "      <td>Camden gentleman's wit</td>\n",
       "      <td>c</td>\n",
       "      <td>50</td>\n",
       "      <td>5060228271007</td>\n",
       "      <td>france</td>\n",
       "      <td>malt, cereal, pilsner, wheat, torrified-wheat, yeast, kettle-hops, belgian-wit-yeast, perle</td>\n",
       "      <td>beverages, alcoholic-beverages, beers, wheat-beers</td>\n",
       "      <td>5</td>\n",
       "    </tr>\n",
       "    <tr>\n",
       "      <th>11</th>\n",
       "      <td>Fruits and vegetables</td>\n",
       "      <td>Surgelé</td>\n",
       "      <td>Carottes en rondelles ondulees</td>\n",
       "      <td>b</td>\n",
       "      <td>77</td>\n",
       "      <td>5411361420508</td>\n",
       "      <td>france</td>\n",
       "      <td>None</td>\n",
       "      <td>plant-based-foods-and-beverages, plant-based-foods, fruits-and-vegetables-based-foods, vegetables-based-foods, frozen-foods, vegetables, frozen-plant-based-foods, frozen-vegetables, carrots, frozen-carrots, frozen-chopped-carrots</td>\n",
       "      <td>0</td>\n",
       "    </tr>\n",
       "    <tr>\n",
       "      <th>12</th>\n",
       "      <td>None</td>\n",
       "      <td>None</td>\n",
       "      <td>Candy Sticks</td>\n",
       "      <td>z</td>\n",
       "      <td>999</td>\n",
       "      <td>8690146101444</td>\n",
       "      <td>france</td>\n",
       "      <td>None</td>\n",
       "      <td>None</td>\n",
       "      <td>0</td>\n",
       "    </tr>\n",
       "    <tr>\n",
       "      <th>13</th>\n",
       "      <td>None</td>\n",
       "      <td>None</td>\n",
       "      <td>Sunbreaks</td>\n",
       "      <td>z</td>\n",
       "      <td>999</td>\n",
       "      <td>8710398509376</td>\n",
       "      <td>france</td>\n",
       "      <td>None</td>\n",
       "      <td>None</td>\n",
       "      <td>0</td>\n",
       "    </tr>\n",
       "    <tr>\n",
       "      <th>14</th>\n",
       "      <td>Cereals and potatoes</td>\n",
       "      <td>Carton, plastique</td>\n",
       "      <td>Mezzelune mascarpone et basilic</td>\n",
       "      <td>z</td>\n",
       "      <td>999</td>\n",
       "      <td>7613269309840</td>\n",
       "      <td>switzerland, switzerland</td>\n",
       "      <td>finely-ground-durum-wheat, cereal, wheat, durum-wheat, ricotta, dairy, cheese, mascarpone, water, soft-white-cheese, egg, rice-flour, flour, rice, basil, herb, wheat-gluten, gluten, spinach, vegetable, leaf-vegetable, colour, spice, condiment, flavouring, thickener, carob-seed-flour, legume, pulse, carob-bean-locust-bean</td>\n",
       "      <td>plant-based-foods-and-beverages, plant-based-foods, cereals-and-potatoes, cereals-and-their-products, meals, pasta-dishes, pastas, stuffed-pastas, ravioli</td>\n",
       "      <td>1</td>\n",
       "    </tr>\n",
       "    <tr>\n",
       "      <th>15</th>\n",
       "      <td>None</td>\n",
       "      <td>None</td>\n",
       "      <td>Super Bio C Tamponné - 100 Capsules - Solaray</td>\n",
       "      <td>z</td>\n",
       "      <td>999</td>\n",
       "      <td>76280116229</td>\n",
       "      <td>france</td>\n",
       "      <td>None</td>\n",
       "      <td>None</td>\n",
       "      <td>1</td>\n",
       "    </tr>\n",
       "    <tr>\n",
       "      <th>16</th>\n",
       "      <td>Composite foods</td>\n",
       "      <td>Tray</td>\n",
       "      <td>ข้าวไข่เจียวกุ้ง</td>\n",
       "      <td>z</td>\n",
       "      <td>999</td>\n",
       "      <td>8851351380783</td>\n",
       "      <td>thailand</td>\n",
       "      <td>e451</td>\n",
       "      <td>meals, meals-with-shellfish, meals-with-shrimps</td>\n",
       "      <td>0</td>\n",
       "    </tr>\n",
       "    <tr>\n",
       "      <th>17</th>\n",
       "      <td>Beverages</td>\n",
       "      <td>None</td>\n",
       "      <td>Jus d'orange</td>\n",
       "      <td>c</td>\n",
       "      <td>43</td>\n",
       "      <td>7610097152327</td>\n",
       "      <td>switzerland</td>\n",
       "      <td>None</td>\n",
       "      <td>plant-based-foods-and-beverages, beverages, plant-based-beverages, fruit-based-beverages, juices-and-nectars, fruit-juices, orange-juices</td>\n",
       "      <td>0</td>\n",
       "    </tr>\n",
       "    <tr>\n",
       "      <th>18</th>\n",
       "      <td>Beverages</td>\n",
       "      <td>None</td>\n",
       "      <td>Thé vert Agrumes thé de Ceylan x 20 sachets de 1,8 g</td>\n",
       "      <td>a</td>\n",
       "      <td>102</td>\n",
       "      <td>3760278861426</td>\n",
       "      <td>france</td>\n",
       "      <td>green-tea, plant, tea, orange-leaves, lemongrass, herb, lemon-peel, fruit, citrus-fruit, lemon, orange-zest, orange, lemon-extract, orange-extract, flavouring, natural-flavouring, fruit-extract, natural-orange-flavouring, liquorice</td>\n",
       "      <td>beverages-and-beverages-preparations, plant-based-foods-and-beverages, beverages, hot-beverages, plant-based-beverages, teas, green-teas</td>\n",
       "      <td>10</td>\n",
       "    </tr>\n",
       "    <tr>\n",
       "      <th>19</th>\n",
       "      <td>Milk and dairy products</td>\n",
       "      <td>None</td>\n",
       "      <td>Yogourts nature</td>\n",
       "      <td>b</td>\n",
       "      <td>67</td>\n",
       "      <td>7623700121009</td>\n",
       "      <td>switzerland</td>\n",
       "      <td>None</td>\n",
       "      <td>dairies, fermented-foods, fermented-milk-products, desserts, dairy-desserts, fermented-dairy-desserts, yogurts</td>\n",
       "      <td>0</td>\n",
       "    </tr>\n",
       "    <tr>\n",
       "      <th>20</th>\n",
       "      <td>None</td>\n",
       "      <td>None</td>\n",
       "      <td>Rossini</td>\n",
       "      <td>z</td>\n",
       "      <td>999</td>\n",
       "      <td>27044216</td>\n",
       "      <td>belgium</td>\n",
       "      <td>None</td>\n",
       "      <td>None</td>\n",
       "      <td>0</td>\n",
       "    </tr>\n",
       "    <tr>\n",
       "      <th>21</th>\n",
       "      <td>None</td>\n",
       "      <td>None</td>\n",
       "      <td>Mermelada de Níspero</td>\n",
       "      <td>z</td>\n",
       "      <td>999</td>\n",
       "      <td>8428996920218</td>\n",
       "      <td>spain</td>\n",
       "      <td>None</td>\n",
       "      <td>None</td>\n",
       "      <td>0</td>\n",
       "    </tr>\n",
       "    <tr>\n",
       "      <th>22</th>\n",
       "      <td>None</td>\n",
       "      <td>None</td>\n",
       "      <td>Ice cream bombons</td>\n",
       "      <td>z</td>\n",
       "      <td>999</td>\n",
       "      <td>20550387</td>\n",
       "      <td>spain</td>\n",
       "      <td>None</td>\n",
       "      <td>None</td>\n",
       "      <td>0</td>\n",
       "    </tr>\n",
       "    <tr>\n",
       "      <th>23</th>\n",
       "      <td>Cereals and potatoes</td>\n",
       "      <td>Papier</td>\n",
       "      <td>Biscotte Complète</td>\n",
       "      <td>a</td>\n",
       "      <td>94</td>\n",
       "      <td>6131912000636</td>\n",
       "      <td>algeria</td>\n",
       "      <td>soft-wheat-flour, cereal, flour, wheat, cereal-flour, wheat-flour, water, yeast, salt, vegetable-oil, oil-and-fat, vegetable-oil-and-fat, antioxidant, emulsifier, e300, e170i, e170</td>\n",
       "      <td>plant-based-foods-and-beverages, plant-based-foods, cereals-and-potatoes, breads, rusks, toasts, wholemeal-rusks</td>\n",
       "      <td>2</td>\n",
       "    </tr>\n",
       "    <tr>\n",
       "      <th>24</th>\n",
       "      <td>None</td>\n",
       "      <td>Packung(en)</td>\n",
       "      <td>Leimer Mutschelmehl</td>\n",
       "      <td>z</td>\n",
       "      <td>999</td>\n",
       "      <td>4000186012404</td>\n",
       "      <td>france, germany</td>\n",
       "      <td>None</td>\n",
       "      <td>None</td>\n",
       "      <td>0</td>\n",
       "    </tr>\n",
       "    <tr>\n",
       "      <th>25</th>\n",
       "      <td>None</td>\n",
       "      <td>None</td>\n",
       "      <td>Crema di marroni</td>\n",
       "      <td>c</td>\n",
       "      <td>44</td>\n",
       "      <td>8003170059726</td>\n",
       "      <td>spain</td>\n",
       "      <td>None</td>\n",
       "      <td>plant-based-foods-and-beverages, plant-based-foods, spreads, nuts-and-their-products, plant-based-spreads, chestnut-spreads</td>\n",
       "      <td>0</td>\n",
       "    </tr>\n",
       "    <tr>\n",
       "      <th>26</th>\n",
       "      <td>Salty snacks</td>\n",
       "      <td>None</td>\n",
       "      <td>Crispy white tortilla chips</td>\n",
       "      <td>b</td>\n",
       "      <td>67</td>\n",
       "      <td>70038595847</td>\n",
       "      <td>united states</td>\n",
       "      <td>white-corn, cereal, corn, vegetable-oil, oil-and-fat, vegetable-oil-and-fat, and-salt, contains-one-and-more-of-the-following, soya-bean, vegetable, legume, pulse, soya, sunflower-oil, canola, root-vegetable, rapeseed</td>\n",
       "      <td>snacks, salty-snacks, appetizers, chips-and-fries, crisps, corn-chips</td>\n",
       "      <td>0</td>\n",
       "    </tr>\n",
       "    <tr>\n",
       "      <th>27</th>\n",
       "      <td>None</td>\n",
       "      <td>None</td>\n",
       "      <td>Boeuf</td>\n",
       "      <td>z</td>\n",
       "      <td>999</td>\n",
       "      <td>211027028537</td>\n",
       "      <td>france</td>\n",
       "      <td>None</td>\n",
       "      <td>None</td>\n",
       "      <td>0</td>\n",
       "    </tr>\n",
       "    <tr>\n",
       "      <th>28</th>\n",
       "      <td>None</td>\n",
       "      <td>None</td>\n",
       "      <td>Sun Snacks</td>\n",
       "      <td>z</td>\n",
       "      <td>999</td>\n",
       "      <td>4061458061445</td>\n",
       "      <td>germany</td>\n",
       "      <td>dextrose, added-sugar, monosaccharide, glucose, salt, onion, vegetable, root-vegetable, onion-family-vegetable, sugar, disaccharide, black-pepper, seed, pepper, natural-flavouring, flavouring, antioxidant, potato, tuber, sunflower, plant, rapeseed, e306</td>\n",
       "      <td>chips, salzige-snacks</td>\n",
       "      <td>4</td>\n",
       "    </tr>\n",
       "    <tr>\n",
       "      <th>29</th>\n",
       "      <td>None</td>\n",
       "      <td>None</td>\n",
       "      <td>Calamar patagónico</td>\n",
       "      <td>z</td>\n",
       "      <td>999</td>\n",
       "      <td>8413503760425</td>\n",
       "      <td>spain</td>\n",
       "      <td>None</td>\n",
       "      <td>None</td>\n",
       "      <td>0</td>\n",
       "    </tr>\n",
       "    <tr>\n",
       "      <th>30</th>\n",
       "      <td>Composite foods</td>\n",
       "      <td>None</td>\n",
       "      <td>Brandade de morue</td>\n",
       "      <td>e</td>\n",
       "      <td>1</td>\n",
       "      <td>2061305034440</td>\n",
       "      <td>france</td>\n",
       "      <td>None</td>\n",
       "      <td>meals, meals-with-fish, cod-brandade</td>\n",
       "      <td>1</td>\n",
       "    </tr>\n",
       "    <tr>\n",
       "      <th>31</th>\n",
       "      <td>None</td>\n",
       "      <td>None</td>\n",
       "      <td>Oat bran</td>\n",
       "      <td>z</td>\n",
       "      <td>999</td>\n",
       "      <td>3859892617615</td>\n",
       "      <td>croatia</td>\n",
       "      <td>None</td>\n",
       "      <td>None</td>\n",
       "      <td>0</td>\n",
       "    </tr>\n",
       "    <tr>\n",
       "      <th>32</th>\n",
       "      <td>None</td>\n",
       "      <td>None</td>\n",
       "      <td>Double Giant Karamell</td>\n",
       "      <td>z</td>\n",
       "      <td>999</td>\n",
       "      <td>28388418</td>\n",
       "      <td>ireland</td>\n",
       "      <td>None</td>\n",
       "      <td>None</td>\n",
       "      <td>0</td>\n",
       "    </tr>\n",
       "    <tr>\n",
       "      <th>33</th>\n",
       "      <td>Fat and sauces</td>\n",
       "      <td>None</td>\n",
       "      <td>Arabiata paste sauce</td>\n",
       "      <td>b</td>\n",
       "      <td>72</td>\n",
       "      <td>4290464120574</td>\n",
       "      <td>india</td>\n",
       "      <td>None</td>\n",
       "      <td>condiments, sauces, pasta-sauces, tomato-sauces, arrabbiata-sauces, groceries</td>\n",
       "      <td>0</td>\n",
       "    </tr>\n",
       "    <tr>\n",
       "      <th>34</th>\n",
       "      <td>None</td>\n",
       "      <td>None</td>\n",
       "      <td>Lean shake</td>\n",
       "      <td>z</td>\n",
       "      <td>999</td>\n",
       "      <td>48107194307</td>\n",
       "      <td>united states</td>\n",
       "      <td>None</td>\n",
       "      <td>None</td>\n",
       "      <td>0</td>\n",
       "    </tr>\n",
       "    <tr>\n",
       "      <th>35</th>\n",
       "      <td>None</td>\n",
       "      <td>None</td>\n",
       "      <td>stracciatella</td>\n",
       "      <td>z</td>\n",
       "      <td>999</td>\n",
       "      <td>8058697050916</td>\n",
       "      <td>italy</td>\n",
       "      <td>None</td>\n",
       "      <td>dairies</td>\n",
       "      <td>0</td>\n",
       "    </tr>\n",
       "    <tr>\n",
       "      <th>36</th>\n",
       "      <td>None</td>\n",
       "      <td>None</td>\n",
       "      <td>Pancetta affumicata</td>\n",
       "      <td>z</td>\n",
       "      <td>999</td>\n",
       "      <td>20632717</td>\n",
       "      <td>italy</td>\n",
       "      <td>None</td>\n",
       "      <td>None</td>\n",
       "      <td>1</td>\n",
       "    </tr>\n",
       "    <tr>\n",
       "      <th>37</th>\n",
       "      <td>Sugary snacks</td>\n",
       "      <td>None</td>\n",
       "      <td>Baking Mix, Chocolate Cake</td>\n",
       "      <td>z</td>\n",
       "      <td>999</td>\n",
       "      <td>41570145234</td>\n",
       "      <td>united states, world</td>\n",
       "      <td>al-al-mond-our-olate-6-aino-makes-finely-sih-flour-for-w-aw-n-saonamete-cr-a-almonds-from-calfm-somdd-ono-g-learn-more-at-bluediamond-com-questions-and-coments-write-blue-diamond-customer-support-po-box-1768, sacramento, ca-95812-and-call-1-800-967-2329-m-41570-ond-baking-m-late-cakex-1301-paper-plastic-66</td>\n",
       "      <td>snacks, sweet-snacks, biscuits-and-cakes, cakes, cooking-helpers, dessert-mixes, pastry-helpers, baking-mixes, cake-mixes</td>\n",
       "      <td>3</td>\n",
       "    </tr>\n",
       "    <tr>\n",
       "      <th>38</th>\n",
       "      <td>None</td>\n",
       "      <td>None</td>\n",
       "      <td>Breast Jerky</td>\n",
       "      <td>z</td>\n",
       "      <td>999</td>\n",
       "      <td>4901850710506</td>\n",
       "      <td>japan</td>\n",
       "      <td>None</td>\n",
       "      <td>None</td>\n",
       "      <td>0</td>\n",
       "    </tr>\n",
       "    <tr>\n",
       "      <th>39</th>\n",
       "      <td>None</td>\n",
       "      <td>None</td>\n",
       "      <td>Pomodori del Sole</td>\n",
       "      <td>z</td>\n",
       "      <td>999</td>\n",
       "      <td>8002960100297</td>\n",
       "      <td>italy</td>\n",
       "      <td>None</td>\n",
       "      <td>None</td>\n",
       "      <td>0</td>\n",
       "    </tr>\n",
       "    <tr>\n",
       "      <th>40</th>\n",
       "      <td>None</td>\n",
       "      <td>None</td>\n",
       "      <td>Fricassée de poulet aux queues d écrevisses</td>\n",
       "      <td>z</td>\n",
       "      <td>999</td>\n",
       "      <td>3067163655215</td>\n",
       "      <td>france</td>\n",
       "      <td>None</td>\n",
       "      <td>None</td>\n",
       "      <td>0</td>\n",
       "    </tr>\n",
       "    <tr>\n",
       "      <th>41</th>\n",
       "      <td>None</td>\n",
       "      <td>None</td>\n",
       "      <td>Le petit prince violet hard candy</td>\n",
       "      <td>z</td>\n",
       "      <td>999</td>\n",
       "      <td>685646525300</td>\n",
       "      <td>united states</td>\n",
       "      <td>None</td>\n",
       "      <td>None</td>\n",
       "      <td>0</td>\n",
       "    </tr>\n",
       "    <tr>\n",
       "      <th>42</th>\n",
       "      <td>None</td>\n",
       "      <td>None</td>\n",
       "      <td>СЛАДКО КЛАДЕНЧЕ</td>\n",
       "      <td>z</td>\n",
       "      <td>999</td>\n",
       "      <td>3800212210115</td>\n",
       "      <td>bulgaria</td>\n",
       "      <td>sugar, added-sugar, disaccharide, cow-s-milk, dairy, milk, egg, preservative, starch, emulsifier, glucose, monosaccharide, water, e331iii, e331, colour, e160ai, e160a, flavouring, glaze, whey-powder, whey, wheat-flour, cereal, flour, wheat, cereal-flour, e202, e407, e330, soya-lecithin, e322, e322i</td>\n",
       "      <td>десерт</td>\n",
       "      <td>0</td>\n",
       "    </tr>\n",
       "    <tr>\n",
       "      <th>43</th>\n",
       "      <td>None</td>\n",
       "      <td>None</td>\n",
       "      <td>Fattoria di vaira</td>\n",
       "      <td>z</td>\n",
       "      <td>999</td>\n",
       "      <td>8019010273085</td>\n",
       "      <td>italy</td>\n",
       "      <td>None</td>\n",
       "      <td>None</td>\n",
       "      <td>0</td>\n",
       "    </tr>\n",
       "    <tr>\n",
       "      <th>44</th>\n",
       "      <td>None</td>\n",
       "      <td>None</td>\n",
       "      <td>HolA</td>\n",
       "      <td>z</td>\n",
       "      <td>999</td>\n",
       "      <td>8424610175279</td>\n",
       "      <td>spain</td>\n",
       "      <td>None</td>\n",
       "      <td>None</td>\n",
       "      <td>0</td>\n",
       "    </tr>\n",
       "    <tr>\n",
       "      <th>45</th>\n",
       "      <td>None</td>\n",
       "      <td>None</td>\n",
       "      <td>Ribena Strawberry</td>\n",
       "      <td>z</td>\n",
       "      <td>999</td>\n",
       "      <td>35345602</td>\n",
       "      <td>united kingdom</td>\n",
       "      <td>None</td>\n",
       "      <td>None</td>\n",
       "      <td>0</td>\n",
       "    </tr>\n",
       "    <tr>\n",
       "      <th>46</th>\n",
       "      <td>None</td>\n",
       "      <td>None</td>\n",
       "      <td>Basilic Coupé</td>\n",
       "      <td>b</td>\n",
       "      <td>79</td>\n",
       "      <td>3060731011086</td>\n",
       "      <td>france</td>\n",
       "      <td>basil, herb, sunflower-oil, oil-and-fat, vegetable-oil-and-fat, vegetable-oil, colza-oil, rapeseed-oil</td>\n",
       "      <td>plant-based-foods-and-beverages, plant-based-foods, condiments, culinary-plants, frozen-foods, aromatic-plants, frozen-plant-based-foods, herbs, frozen-aromatic-plants, basil, frozen-basil</td>\n",
       "      <td>2</td>\n",
       "    </tr>\n",
       "    <tr>\n",
       "      <th>47</th>\n",
       "      <td>None</td>\n",
       "      <td>None</td>\n",
       "      <td>eggs</td>\n",
       "      <td>z</td>\n",
       "      <td>999</td>\n",
       "      <td>43005001115</td>\n",
       "      <td>united states</td>\n",
       "      <td>None</td>\n",
       "      <td>None</td>\n",
       "      <td>0</td>\n",
       "    </tr>\n",
       "    <tr>\n",
       "      <th>48</th>\n",
       "      <td>None</td>\n",
       "      <td>None</td>\n",
       "      <td>Arroz con Leche</td>\n",
       "      <td>z</td>\n",
       "      <td>999</td>\n",
       "      <td>261766260100000096</td>\n",
       "      <td>spain</td>\n",
       "      <td>None</td>\n",
       "      <td>None</td>\n",
       "      <td>0</td>\n",
       "    </tr>\n",
       "    <tr>\n",
       "      <th>49</th>\n",
       "      <td>None</td>\n",
       "      <td>None</td>\n",
       "      <td>This is vegan toffee</td>\n",
       "      <td>z</td>\n",
       "      <td>999</td>\n",
       "      <td>4751010578817</td>\n",
       "      <td>ireland</td>\n",
       "      <td>None</td>\n",
       "      <td>None</td>\n",
       "      <td>2</td>\n",
       "    </tr>\n",
       "    <tr>\n",
       "      <th>50</th>\n",
       "      <td>None</td>\n",
       "      <td>Lata</td>\n",
       "      <td>Lager</td>\n",
       "      <td>z</td>\n",
       "      <td>999</td>\n",
       "      <td>7898605253272</td>\n",
       "      <td>brazil</td>\n",
       "      <td>None</td>\n",
       "      <td>None</td>\n",
       "      <td>0</td>\n",
       "    </tr>\n",
       "    <tr>\n",
       "      <th>51</th>\n",
       "      <td>None</td>\n",
       "      <td>None</td>\n",
       "      <td>Saumon Atlantique Fumé au sel de l\\'ile de Ré</td>\n",
       "      <td>z</td>\n",
       "      <td>999</td>\n",
       "      <td>3385400343137</td>\n",
       "      <td>france</td>\n",
       "      <td>None</td>\n",
       "      <td>None</td>\n",
       "      <td>0</td>\n",
       "    </tr>\n",
       "    <tr>\n",
       "      <th>52</th>\n",
       "      <td>None</td>\n",
       "      <td>None</td>\n",
       "      <td>Café</td>\n",
       "      <td>z</td>\n",
       "      <td>999</td>\n",
       "      <td>3760289580019</td>\n",
       "      <td>france</td>\n",
       "      <td>coffee</td>\n",
       "      <td>plant-based-foods-and-beverages, plant-based-foods, coffees</td>\n",
       "      <td>3</td>\n",
       "    </tr>\n",
       "    <tr>\n",
       "      <th>53</th>\n",
       "      <td>None</td>\n",
       "      <td>None</td>\n",
       "      <td>Pilau Rice</td>\n",
       "      <td>z</td>\n",
       "      <td>999</td>\n",
       "      <td>5000128765039</td>\n",
       "      <td>united kingdom</td>\n",
       "      <td>None</td>\n",
       "      <td>None</td>\n",
       "      <td>0</td>\n",
       "    </tr>\n",
       "    <tr>\n",
       "      <th>54</th>\n",
       "      <td>Alcoholic beverages</td>\n",
       "      <td>None</td>\n",
       "      <td>Naturradler Zitrone</td>\n",
       "      <td>c</td>\n",
       "      <td>45</td>\n",
       "      <td>4000856003831</td>\n",
       "      <td>germany</td>\n",
       "      <td>beer, alcohol, water, sugar, added-sugar, disaccharide, lemon-juice, fruit, juice, fruit-juice, apple-juice, malaceous-fruit, apple, orange-juice, citrus-fruit, orange, e290, lemon-extract, lemon, natural-citrus-flavouring, flavouring, natural-flavouring, citrus-flavouring, antioxidant, malted-barley, cereal, malt, hops, plant, hop-extract, e300</td>\n",
       "      <td>beverages-and-beverages-preparations, beverages, alcoholic-beverages, premixed-alcoholic-beverages, beer-based-alcoholic-beverages, shandy</td>\n",
       "      <td>0</td>\n",
       "    </tr>\n",
       "    <tr>\n",
       "      <th>55</th>\n",
       "      <td>None</td>\n",
       "      <td>None</td>\n",
       "      <td>Oat &amp; Honey</td>\n",
       "      <td>z</td>\n",
       "      <td>999</td>\n",
       "      <td>79361700100</td>\n",
       "      <td>world</td>\n",
       "      <td>None</td>\n",
       "      <td>None</td>\n",
       "      <td>2</td>\n",
       "    </tr>\n",
       "    <tr>\n",
       "      <th>56</th>\n",
       "      <td>None</td>\n",
       "      <td>None</td>\n",
       "      <td>Indulge Granular Zero Calorie All-Purpose Sweetener</td>\n",
       "      <td>z</td>\n",
       "      <td>999</td>\n",
       "      <td>716123127219</td>\n",
       "      <td>world</td>\n",
       "      <td>None</td>\n",
       "      <td>None</td>\n",
       "      <td>2</td>\n",
       "    </tr>\n",
       "    <tr>\n",
       "      <th>57</th>\n",
       "      <td>None</td>\n",
       "      <td>None</td>\n",
       "      <td>Sopa de Agnoline</td>\n",
       "      <td>z</td>\n",
       "      <td>999</td>\n",
       "      <td>7898966759000</td>\n",
       "      <td>brazil</td>\n",
       "      <td>None</td>\n",
       "      <td>None</td>\n",
       "      <td>0</td>\n",
       "    </tr>\n",
       "    <tr>\n",
       "      <th>58</th>\n",
       "      <td>None</td>\n",
       "      <td>None</td>\n",
       "      <td>Salami de chocolat</td>\n",
       "      <td>z</td>\n",
       "      <td>999</td>\n",
       "      <td>5602017200678</td>\n",
       "      <td>france</td>\n",
       "      <td>None</td>\n",
       "      <td>None</td>\n",
       "      <td>0</td>\n",
       "    </tr>\n",
       "    <tr>\n",
       "      <th>59</th>\n",
       "      <td>None</td>\n",
       "      <td>None</td>\n",
       "      <td>Bolachas de arroz com iogurte e laranja</td>\n",
       "      <td>z</td>\n",
       "      <td>999</td>\n",
       "      <td>6546409</td>\n",
       "      <td>united states</td>\n",
       "      <td>None</td>\n",
       "      <td>None</td>\n",
       "      <td>0</td>\n",
       "    </tr>\n",
       "  </tbody>\n",
       "</table>\n",
       "</div>"
      ],
      "text/plain": [
       "                     groups                    packaging  \\\n",
       "0                      None                         None   \n",
       "1   Milk and dairy products                         None   \n",
       "2      Cereals and potatoes                         None   \n",
       "3             Sugary snacks                         None   \n",
       "4                      None                         None   \n",
       "5                      None                         None   \n",
       "6                      None                         None   \n",
       "7              Salty snacks                         None   \n",
       "8            Fish Meat Eggs                         None   \n",
       "9             Sugary snacks            Plastique, Sachet   \n",
       "10      Alcoholic beverages  Bouteille verre, Point vert   \n",
       "11    Fruits and vegetables                      Surgelé   \n",
       "12                     None                         None   \n",
       "13                     None                         None   \n",
       "14     Cereals and potatoes            Carton, plastique   \n",
       "15                     None                         None   \n",
       "16          Composite foods                         Tray   \n",
       "17                Beverages                         None   \n",
       "18                Beverages                         None   \n",
       "19  Milk and dairy products                         None   \n",
       "20                     None                         None   \n",
       "21                     None                         None   \n",
       "22                     None                         None   \n",
       "23     Cereals and potatoes                       Papier   \n",
       "24                     None                  Packung(en)   \n",
       "25                     None                         None   \n",
       "26             Salty snacks                         None   \n",
       "27                     None                         None   \n",
       "28                     None                         None   \n",
       "29                     None                         None   \n",
       "30          Composite foods                         None   \n",
       "31                     None                         None   \n",
       "32                     None                         None   \n",
       "33           Fat and sauces                         None   \n",
       "34                     None                         None   \n",
       "35                     None                         None   \n",
       "36                     None                         None   \n",
       "37            Sugary snacks                         None   \n",
       "38                     None                         None   \n",
       "39                     None                         None   \n",
       "40                     None                         None   \n",
       "41                     None                         None   \n",
       "42                     None                         None   \n",
       "43                     None                         None   \n",
       "44                     None                         None   \n",
       "45                     None                         None   \n",
       "46                     None                         None   \n",
       "47                     None                         None   \n",
       "48                     None                         None   \n",
       "49                     None                         None   \n",
       "50                     None                         Lata   \n",
       "51                     None                         None   \n",
       "52                     None                         None   \n",
       "53                     None                         None   \n",
       "54      Alcoholic beverages                         None   \n",
       "55                     None                         None   \n",
       "56                     None                         None   \n",
       "57                     None                         None   \n",
       "58                     None                         None   \n",
       "59                     None                         None   \n",
       "\n",
       "                                                    name ecoscore_groups  \\\n",
       "0                                    Fiesta, nacho chips               z   \n",
       "1   International delight, hot chocolate, milk chocolate               d   \n",
       "2                                  Pain à sandwich blanc               b   \n",
       "3                 Rope rainbow candy ounce package count               c   \n",
       "4                                       Pain au lait Bio               z   \n",
       "5                                      100% Orange Juice               z   \n",
       "6                               1/2palette fumee sans os               z   \n",
       "7                                     Chips Campagnardes               b   \n",
       "8                                    Terrine de campagne               z   \n",
       "9                                           Kouign Amann               b   \n",
       "10                                Camden gentleman's wit               c   \n",
       "11                        Carottes en rondelles ondulees               b   \n",
       "12                                          Candy Sticks               z   \n",
       "13                                             Sunbreaks               z   \n",
       "14                       Mezzelune mascarpone et basilic               z   \n",
       "15         Super Bio C Tamponné - 100 Capsules - Solaray               z   \n",
       "16                                      ข้าวไข่เจียวกุ้ง               z   \n",
       "17                                          Jus d'orange               c   \n",
       "18  Thé vert Agrumes thé de Ceylan x 20 sachets de 1,8 g               a   \n",
       "19                                       Yogourts nature               b   \n",
       "20                                               Rossini               z   \n",
       "21                                  Mermelada de Níspero               z   \n",
       "22                                     Ice cream bombons               z   \n",
       "23                                     Biscotte Complète               a   \n",
       "24                                   Leimer Mutschelmehl               z   \n",
       "25                                      Crema di marroni               c   \n",
       "26                           Crispy white tortilla chips               b   \n",
       "27                                                 Boeuf               z   \n",
       "28                                            Sun Snacks               z   \n",
       "29                                    Calamar patagónico               z   \n",
       "30                                     Brandade de morue               e   \n",
       "31                                              Oat bran               z   \n",
       "32                                 Double Giant Karamell               z   \n",
       "33                                  Arabiata paste sauce               b   \n",
       "34                                            Lean shake               z   \n",
       "35                                         stracciatella               z   \n",
       "36                                   Pancetta affumicata               z   \n",
       "37                            Baking Mix, Chocolate Cake               z   \n",
       "38                                          Breast Jerky               z   \n",
       "39                                     Pomodori del Sole               z   \n",
       "40           Fricassée de poulet aux queues d écrevisses               z   \n",
       "41                     Le petit prince violet hard candy               z   \n",
       "42                                       СЛАДКО КЛАДЕНЧЕ               z   \n",
       "43                                     Fattoria di vaira               z   \n",
       "44                                                  HolA               z   \n",
       "45                                     Ribena Strawberry               z   \n",
       "46                                         Basilic Coupé               b   \n",
       "47                                                  eggs               z   \n",
       "48                                       Arroz con Leche               z   \n",
       "49                                  This is vegan toffee               z   \n",
       "50                                                 Lager               z   \n",
       "51         Saumon Atlantique Fumé au sel de l\\'ile de Ré               z   \n",
       "52                                                  Café               z   \n",
       "53                                            Pilau Rice               z   \n",
       "54                                   Naturradler Zitrone               c   \n",
       "55                                           Oat & Honey               z   \n",
       "56   Indulge Granular Zero Calorie All-Purpose Sweetener               z   \n",
       "57                                      Sopa de Agnoline               z   \n",
       "58                                    Salami de chocolat               z   \n",
       "59               Bolachas de arroz com iogurte e laranja               z   \n",
       "\n",
       "    ecoscore_note                code                     countries  \\\n",
       "0             999         31903045355                 united states   \n",
       "1              36         41271027174                 united states   \n",
       "2              70         59749916332                        canada   \n",
       "3              42         79200173067  france, spain, united states   \n",
       "4             999        201934009453                        france   \n",
       "5             999       2127111484074                         chili   \n",
       "6             999       2238805073938                        france   \n",
       "7              79       3258561239736                        france   \n",
       "8             999       3525165233188                        france   \n",
       "9              78       3770003263005                        france   \n",
       "10             50       5060228271007                        france   \n",
       "11             77       5411361420508                        france   \n",
       "12            999       8690146101444                        france   \n",
       "13            999       8710398509376                        france   \n",
       "14            999       7613269309840      switzerland, switzerland   \n",
       "15            999         76280116229                        france   \n",
       "16            999       8851351380783                      thailand   \n",
       "17             43       7610097152327                   switzerland   \n",
       "18            102       3760278861426                        france   \n",
       "19             67       7623700121009                   switzerland   \n",
       "20            999            27044216                       belgium   \n",
       "21            999       8428996920218                         spain   \n",
       "22            999            20550387                         spain   \n",
       "23             94       6131912000636                       algeria   \n",
       "24            999       4000186012404               france, germany   \n",
       "25             44       8003170059726                         spain   \n",
       "26             67         70038595847                 united states   \n",
       "27            999        211027028537                        france   \n",
       "28            999       4061458061445                       germany   \n",
       "29            999       8413503760425                         spain   \n",
       "30              1       2061305034440                        france   \n",
       "31            999       3859892617615                       croatia   \n",
       "32            999            28388418                       ireland   \n",
       "33             72       4290464120574                         india   \n",
       "34            999         48107194307                 united states   \n",
       "35            999       8058697050916                         italy   \n",
       "36            999            20632717                         italy   \n",
       "37            999         41570145234          united states, world   \n",
       "38            999       4901850710506                         japan   \n",
       "39            999       8002960100297                         italy   \n",
       "40            999       3067163655215                        france   \n",
       "41            999        685646525300                 united states   \n",
       "42            999       3800212210115                      bulgaria   \n",
       "43            999       8019010273085                         italy   \n",
       "44            999       8424610175279                         spain   \n",
       "45            999            35345602                united kingdom   \n",
       "46             79       3060731011086                        france   \n",
       "47            999         43005001115                 united states   \n",
       "48            999  261766260100000096                         spain   \n",
       "49            999       4751010578817                       ireland   \n",
       "50            999       7898605253272                        brazil   \n",
       "51            999       3385400343137                        france   \n",
       "52            999       3760289580019                        france   \n",
       "53            999       5000128765039                united kingdom   \n",
       "54             45       4000856003831                       germany   \n",
       "55            999         79361700100                         world   \n",
       "56            999        716123127219                         world   \n",
       "57            999       7898966759000                        brazil   \n",
       "58            999       5602017200678                        france   \n",
       "59            999             6546409                 united states   \n",
       "\n",
       "                                                                                                                                                                                                                                                                                                                                                                                                                                                                                                                                                                                                                                                                                                                                                                 ingredients  \\\n",
       "0   ground-corn-treated-with-lime, water, vegetable-oil, oil-and-fat, vegetable-oil-and-fat, coating, contains-one-and-more-of-the-following, corn-oil, palm-oil, palm-oil-and-fat, salt, maltodextrin, whey, dairy, partially-hydrogenated-soybean-oil, soya-oil, cheddar, cheese, romano-cheese, e621, tomato, vegetable, fruit-vegetable, onion, root-vegetable, onion-family-vegetable, dextrose, added-sugar, monosaccharide, glucose, garlic, skimmed-milk-powder, milk-powder, sodium-citrate, minerals, sodium, e330, e627, e631, paprika, condiment, spice, e270, natural-flavouring, flavouring, e160b, and-less-than-2-calcium-silicate-added, cottonseed-oil, milk, lactic-ferments, ferment, microbial-culture, enzyme, part-skim-cow-s-milk, anti-caking-agent   \n",
       "1                                                                                                                                                                                                                                                                                                                                                                                                                                                     ultra-pasteurized-skim-milk, cane-sugar, added-sugar, disaccharide, sugar, cream, dairy, contains-2-and-less-of, salt, natural-and-artificial-flavouring, flavouring, natural-flavouring, artificial-flavouring, modified-corn-starch, starch, corn-starch, modified-starch, e407, cocoa, plant, processed-with-alkali   \n",
       "2                                                                                                                                                                                                                                                                                                                                                                                                                                                                                                fortified-wheat-flour, cereal, flour, wheat, cereal-flour, wheat-flour, water, sugar, added-sugar, disaccharide, glucose, monosaccharide, fructose, yeast, canola-oil, oil-and-fat, vegetable-oil-and-fat, rapeseed-oil, soya, salt, e282, e481, soya-lecithin, e322, e322i   \n",
       "3                                                                                                                                                                                                                                                                                                                                                                                                                                                                                         dextrose, added-sugar, monosaccharide, glucose, sugar, disaccharide, corn-syrup, and-less-than-2-of-malic-acid, e428, confectioner-s-glaze, e422, e330, e903, natural-flavouring, flavouring, colour, carmine-color, e133, e132, e129, red-40-lake-yellow-5, e102, e110, lac-resin   \n",
       "4                                                                                                                                                                                                                                                                                                                                                                                                                                                                                                                                                                                                                                                                                                                                                                       None   \n",
       "5                                                                                                                                                                                                                                                                                                                                                                                                                                                                                                                                                                                                                                                                                                                                                                       None   \n",
       "6                                                                                                                                                                                                                                                                                                                                                                                                                                                                                                                                                                                                                                                                                                                                                                       None   \n",
       "7                                                                                                                                                                                                                                                                                                                                                                                                                                                                                                                                                                                                                                                           potato, vegetable, root-vegetable, tuber, sunflower-oil, oil-and-fat, vegetable-oil-and-fat, vegetable-oil, salt   \n",
       "8                                                                                                                                                                                                                                                                                                                                                                                                                                                                                                                                                                                                                                                                                                                                                                       None   \n",
       "9                                                                                                                                                                                                                                                                                                                                                                                                                                                                                                                                                                                             wheat-flour, cereal, flour, wheat, cereal-flour, butter, dairy, sugar, added-sugar, disaccharide, water, dried-wheat-sourdough, dough, sourdough, wheat-sourdough, salt, yeast   \n",
       "10                                                                                                                                                                                                                                                                                                                                                                                                                                                                                                                                                                                                                                                                               malt, cereal, pilsner, wheat, torrified-wheat, yeast, kettle-hops, belgian-wit-yeast, perle   \n",
       "11                                                                                                                                                                                                                                                                                                                                                                                                                                                                                                                                                                                                                                                                                                                                                                      None   \n",
       "12                                                                                                                                                                                                                                                                                                                                                                                                                                                                                                                                                                                                                                                                                                                                                                      None   \n",
       "13                                                                                                                                                                                                                                                                                                                                                                                                                                                                                                                                                                                                                                                                                                                                                                      None   \n",
       "14                                                                                                                                                                                                                                                                                                                                                                                                                                        finely-ground-durum-wheat, cereal, wheat, durum-wheat, ricotta, dairy, cheese, mascarpone, water, soft-white-cheese, egg, rice-flour, flour, rice, basil, herb, wheat-gluten, gluten, spinach, vegetable, leaf-vegetable, colour, spice, condiment, flavouring, thickener, carob-seed-flour, legume, pulse, carob-bean-locust-bean   \n",
       "15                                                                                                                                                                                                                                                                                                                                                                                                                                                                                                                                                                                                                                                                                                                                                                      None   \n",
       "16                                                                                                                                                                                                                                                                                                                                                                                                                                                                                                                                                                                                                                                                                                                                                                      e451   \n",
       "17                                                                                                                                                                                                                                                                                                                                                                                                                                                                                                                                                                                                                                                                                                                                                                      None   \n",
       "18                                                                                                                                                                                                                                                                                                                                                                                                                                                                                                                                   green-tea, plant, tea, orange-leaves, lemongrass, herb, lemon-peel, fruit, citrus-fruit, lemon, orange-zest, orange, lemon-extract, orange-extract, flavouring, natural-flavouring, fruit-extract, natural-orange-flavouring, liquorice   \n",
       "19                                                                                                                                                                                                                                                                                                                                                                                                                                                                                                                                                                                                                                                                                                                                                                      None   \n",
       "20                                                                                                                                                                                                                                                                                                                                                                                                                                                                                                                                                                                                                                                                                                                                                                      None   \n",
       "21                                                                                                                                                                                                                                                                                                                                                                                                                                                                                                                                                                                                                                                                                                                                                                      None   \n",
       "22                                                                                                                                                                                                                                                                                                                                                                                                                                                                                                                                                                                                                                                                                                                                                                      None   \n",
       "23                                                                                                                                                                                                                                                                                                                                                                                                                                                                                                                                                                                      soft-wheat-flour, cereal, flour, wheat, cereal-flour, wheat-flour, water, yeast, salt, vegetable-oil, oil-and-fat, vegetable-oil-and-fat, antioxidant, emulsifier, e300, e170i, e170   \n",
       "24                                                                                                                                                                                                                                                                                                                                                                                                                                                                                                                                                                                                                                                                                                                                                                      None   \n",
       "25                                                                                                                                                                                                                                                                                                                                                                                                                                                                                                                                                                                                                                                                                                                                                                      None   \n",
       "26                                                                                                                                                                                                                                                                                                                                                                                                                                                                                                                                                 white-corn, cereal, corn, vegetable-oil, oil-and-fat, vegetable-oil-and-fat, and-salt, contains-one-and-more-of-the-following, soya-bean, vegetable, legume, pulse, soya, sunflower-oil, canola, root-vegetable, rapeseed   \n",
       "27                                                                                                                                                                                                                                                                                                                                                                                                                                                                                                                                                                                                                                                                                                                                                                      None   \n",
       "28                                                                                                                                                                                                                                                                                                                                                                                                                                                                                                             dextrose, added-sugar, monosaccharide, glucose, salt, onion, vegetable, root-vegetable, onion-family-vegetable, sugar, disaccharide, black-pepper, seed, pepper, natural-flavouring, flavouring, antioxidant, potato, tuber, sunflower, plant, rapeseed, e306   \n",
       "29                                                                                                                                                                                                                                                                                                                                                                                                                                                                                                                                                                                                                                                                                                                                                                      None   \n",
       "30                                                                                                                                                                                                                                                                                                                                                                                                                                                                                                                                                                                                                                                                                                                                                                      None   \n",
       "31                                                                                                                                                                                                                                                                                                                                                                                                                                                                                                                                                                                                                                                                                                                                                                      None   \n",
       "32                                                                                                                                                                                                                                                                                                                                                                                                                                                                                                                                                                                                                                                                                                                                                                      None   \n",
       "33                                                                                                                                                                                                                                                                                                                                                                                                                                                                                                                                                                                                                                                                                                                                                                      None   \n",
       "34                                                                                                                                                                                                                                                                                                                                                                                                                                                                                                                                                                                                                                                                                                                                                                      None   \n",
       "35                                                                                                                                                                                                                                                                                                                                                                                                                                                                                                                                                                                                                                                                                                                                                                      None   \n",
       "36                                                                                                                                                                                                                                                                                                                                                                                                                                                                                                                                                                                                                                                                                                                                                                      None   \n",
       "37                                                                                                                                                                                                                                                                                                                                                                                                                                                       al-al-mond-our-olate-6-aino-makes-finely-sih-flour-for-w-aw-n-saonamete-cr-a-almonds-from-calfm-somdd-ono-g-learn-more-at-bluediamond-com-questions-and-coments-write-blue-diamond-customer-support-po-box-1768, sacramento, ca-95812-and-call-1-800-967-2329-m-41570-ond-baking-m-late-cakex-1301-paper-plastic-66   \n",
       "38                                                                                                                                                                                                                                                                                                                                                                                                                                                                                                                                                                                                                                                                                                                                                                      None   \n",
       "39                                                                                                                                                                                                                                                                                                                                                                                                                                                                                                                                                                                                                                                                                                                                                                      None   \n",
       "40                                                                                                                                                                                                                                                                                                                                                                                                                                                                                                                                                                                                                                                                                                                                                                      None   \n",
       "41                                                                                                                                                                                                                                                                                                                                                                                                                                                                                                                                                                                                                                                                                                                                                                      None   \n",
       "42                                                                                                                                                                                                                                                                                                                                                                                                                                                               sugar, added-sugar, disaccharide, cow-s-milk, dairy, milk, egg, preservative, starch, emulsifier, glucose, monosaccharide, water, e331iii, e331, colour, e160ai, e160a, flavouring, glaze, whey-powder, whey, wheat-flour, cereal, flour, wheat, cereal-flour, e202, e407, e330, soya-lecithin, e322, e322i   \n",
       "43                                                                                                                                                                                                                                                                                                                                                                                                                                                                                                                                                                                                                                                                                                                                                                      None   \n",
       "44                                                                                                                                                                                                                                                                                                                                                                                                                                                                                                                                                                                                                                                                                                                                                                      None   \n",
       "45                                                                                                                                                                                                                                                                                                                                                                                                                                                                                                                                                                                                                                                                                                                                                                      None   \n",
       "46                                                                                                                                                                                                                                                                                                                                                                                                                                                                                                                                                                                                                                                                    basil, herb, sunflower-oil, oil-and-fat, vegetable-oil-and-fat, vegetable-oil, colza-oil, rapeseed-oil   \n",
       "47                                                                                                                                                                                                                                                                                                                                                                                                                                                                                                                                                                                                                                                                                                                                                                      None   \n",
       "48                                                                                                                                                                                                                                                                                                                                                                                                                                                                                                                                                                                                                                                                                                                                                                      None   \n",
       "49                                                                                                                                                                                                                                                                                                                                                                                                                                                                                                                                                                                                                                                                                                                                                                      None   \n",
       "50                                                                                                                                                                                                                                                                                                                                                                                                                                                                                                                                                                                                                                                                                                                                                                      None   \n",
       "51                                                                                                                                                                                                                                                                                                                                                                                                                                                                                                                                                                                                                                                                                                                                                                      None   \n",
       "52                                                                                                                                                                                                                                                                                                                                                                                                                                                                                                                                                                                                                                                                                                                                                                    coffee   \n",
       "53                                                                                                                                                                                                                                                                                                                                                                                                                                                                                                                                                                                                                                                                                                                                                                      None   \n",
       "54                                                                                                                                                                                                                                                                                                                                                                                                               beer, alcohol, water, sugar, added-sugar, disaccharide, lemon-juice, fruit, juice, fruit-juice, apple-juice, malaceous-fruit, apple, orange-juice, citrus-fruit, orange, e290, lemon-extract, lemon, natural-citrus-flavouring, flavouring, natural-flavouring, citrus-flavouring, antioxidant, malted-barley, cereal, malt, hops, plant, hop-extract, e300   \n",
       "55                                                                                                                                                                                                                                                                                                                                                                                                                                                                                                                                                                                                                                                                                                                                                                      None   \n",
       "56                                                                                                                                                                                                                                                                                                                                                                                                                                                                                                                                                                                                                                                                                                                                                                      None   \n",
       "57                                                                                                                                                                                                                                                                                                                                                                                                                                                                                                                                                                                                                                                                                                                                                                      None   \n",
       "58                                                                                                                                                                                                                                                                                                                                                                                                                                                                                                                                                                                                                                                                                                                                                                      None   \n",
       "59                                                                                                                                                                                                                                                                                                                                                                                                                                                                                                                                                                                                                                                                                                                                                                      None   \n",
       "\n",
       "                                                                                                                                                                                                                               categories  \\\n",
       "0                                                                                                                                                                                                                                  snacks   \n",
       "1                                                                                                                                                                                                                          dairies, milks   \n",
       "2                                                                                                                                         plant-based-foods-and-beverages, plant-based-foods, cereals-and-potatoes, breads, sliced-breads   \n",
       "3                                                                                                                                                                                          snacks, sweet-snacks, confectioneries, candies   \n",
       "4                                                                                                                                                                                                                                    None   \n",
       "5                                                                                                                                                                                                                                    None   \n",
       "6                                                                                                                                                                                                                                    None   \n",
       "7                                     plant-based-foods-and-beverages, plant-based-foods, snacks, cereals-and-potatoes, salty-snacks, appetizers, chips-and-fries, crisps, potato-crisps, farmer-s-crisps, potato-crisps-in-sunflower-oil   \n",
       "8                                                                                                                                                             meats-and-their-products, meats, prepared-meats, terrines, country-terrines   \n",
       "9                                                                                                                                                       snacks, desserts, sweet-snacks, biscuits-and-cakes, cakes, pastries, kouign-amann   \n",
       "10                                                                                                                                                                                     beverages, alcoholic-beverages, beers, wheat-beers   \n",
       "11  plant-based-foods-and-beverages, plant-based-foods, fruits-and-vegetables-based-foods, vegetables-based-foods, frozen-foods, vegetables, frozen-plant-based-foods, frozen-vegetables, carrots, frozen-carrots, frozen-chopped-carrots   \n",
       "12                                                                                                                                                                                                                                   None   \n",
       "13                                                                                                                                                                                                                                   None   \n",
       "14                                                                             plant-based-foods-and-beverages, plant-based-foods, cereals-and-potatoes, cereals-and-their-products, meals, pasta-dishes, pastas, stuffed-pastas, ravioli   \n",
       "15                                                                                                                                                                                                                                   None   \n",
       "16                                                                                                                                                                                        meals, meals-with-shellfish, meals-with-shrimps   \n",
       "17                                                                                              plant-based-foods-and-beverages, beverages, plant-based-beverages, fruit-based-beverages, juices-and-nectars, fruit-juices, orange-juices   \n",
       "18                                                                                               beverages-and-beverages-preparations, plant-based-foods-and-beverages, beverages, hot-beverages, plant-based-beverages, teas, green-teas   \n",
       "19                                                                                                                         dairies, fermented-foods, fermented-milk-products, desserts, dairy-desserts, fermented-dairy-desserts, yogurts   \n",
       "20                                                                                                                                                                                                                                   None   \n",
       "21                                                                                                                                                                                                                                   None   \n",
       "22                                                                                                                                                                                                                                   None   \n",
       "23                                                                                                                       plant-based-foods-and-beverages, plant-based-foods, cereals-and-potatoes, breads, rusks, toasts, wholemeal-rusks   \n",
       "24                                                                                                                                                                                                                                   None   \n",
       "25                                                                                                            plant-based-foods-and-beverages, plant-based-foods, spreads, nuts-and-their-products, plant-based-spreads, chestnut-spreads   \n",
       "26                                                                                                                                                                  snacks, salty-snacks, appetizers, chips-and-fries, crisps, corn-chips   \n",
       "27                                                                                                                                                                                                                                   None   \n",
       "28                                                                                                                                                                                                                  chips, salzige-snacks   \n",
       "29                                                                                                                                                                                                                                   None   \n",
       "30                                                                                                                                                                                                   meals, meals-with-fish, cod-brandade   \n",
       "31                                                                                                                                                                                                                                   None   \n",
       "32                                                                                                                                                                                                                                   None   \n",
       "33                                                                                                                                                          condiments, sauces, pasta-sauces, tomato-sauces, arrabbiata-sauces, groceries   \n",
       "34                                                                                                                                                                                                                                   None   \n",
       "35                                                                                                                                                                                                                                dairies   \n",
       "36                                                                                                                                                                                                                                   None   \n",
       "37                                                                                                              snacks, sweet-snacks, biscuits-and-cakes, cakes, cooking-helpers, dessert-mixes, pastry-helpers, baking-mixes, cake-mixes   \n",
       "38                                                                                                                                                                                                                                   None   \n",
       "39                                                                                                                                                                                                                                   None   \n",
       "40                                                                                                                                                                                                                                   None   \n",
       "41                                                                                                                                                                                                                                   None   \n",
       "42                                                                                                                                                                                                                                 десерт   \n",
       "43                                                                                                                                                                                                                                   None   \n",
       "44                                                                                                                                                                                                                                   None   \n",
       "45                                                                                                                                                                                                                                   None   \n",
       "46                                           plant-based-foods-and-beverages, plant-based-foods, condiments, culinary-plants, frozen-foods, aromatic-plants, frozen-plant-based-foods, herbs, frozen-aromatic-plants, basil, frozen-basil   \n",
       "47                                                                                                                                                                                                                                   None   \n",
       "48                                                                                                                                                                                                                                   None   \n",
       "49                                                                                                                                                                                                                                   None   \n",
       "50                                                                                                                                                                                                                                   None   \n",
       "51                                                                                                                                                                                                                                   None   \n",
       "52                                                                                                                                                                            plant-based-foods-and-beverages, plant-based-foods, coffees   \n",
       "53                                                                                                                                                                                                                                   None   \n",
       "54                                                                                             beverages-and-beverages-preparations, beverages, alcoholic-beverages, premixed-alcoholic-beverages, beer-based-alcoholic-beverages, shandy   \n",
       "55                                                                                                                                                                                                                                   None   \n",
       "56                                                                                                                                                                                                                                   None   \n",
       "57                                                                                                                                                                                                                                   None   \n",
       "58                                                                                                                                                                                                                                   None   \n",
       "59                                                                                                                                                                                                                                   None   \n",
       "\n",
       "    labels_note  \n",
       "0             0  \n",
       "1             0  \n",
       "2             0  \n",
       "3             1  \n",
       "4             2  \n",
       "5             0  \n",
       "6             0  \n",
       "7             2  \n",
       "8             0  \n",
       "9             2  \n",
       "10            5  \n",
       "11            0  \n",
       "12            0  \n",
       "13            0  \n",
       "14            1  \n",
       "15            1  \n",
       "16            0  \n",
       "17            0  \n",
       "18           10  \n",
       "19            0  \n",
       "20            0  \n",
       "21            0  \n",
       "22            0  \n",
       "23            2  \n",
       "24            0  \n",
       "25            0  \n",
       "26            0  \n",
       "27            0  \n",
       "28            4  \n",
       "29            0  \n",
       "30            1  \n",
       "31            0  \n",
       "32            0  \n",
       "33            0  \n",
       "34            0  \n",
       "35            0  \n",
       "36            1  \n",
       "37            3  \n",
       "38            0  \n",
       "39            0  \n",
       "40            0  \n",
       "41            0  \n",
       "42            0  \n",
       "43            0  \n",
       "44            0  \n",
       "45            0  \n",
       "46            2  \n",
       "47            0  \n",
       "48            0  \n",
       "49            2  \n",
       "50            0  \n",
       "51            0  \n",
       "52            3  \n",
       "53            0  \n",
       "54            0  \n",
       "55            2  \n",
       "56            2  \n",
       "57            0  \n",
       "58            0  \n",
       "59            0  "
      ]
     },
     "execution_count": 44,
     "metadata": {},
     "output_type": "execute_result"
    }
   ],
   "source": [
    "df = pd.read_json(jsonl_sample, lines=True)\n",
    "df.head(60)"
   ]
  },
  {
   "cell_type": "code",
   "execution_count": null,
   "metadata": {},
   "outputs": [],
   "source": []
  }
 ],
 "metadata": {
  "kernelspec": {
   "display_name": "greenIa",
   "language": "python",
   "name": "python3"
  },
  "language_info": {
   "codemirror_mode": {
    "name": "ipython",
    "version": 3
   },
   "file_extension": ".py",
   "mimetype": "text/x-python",
   "name": "python",
   "nbconvert_exporter": "python",
   "pygments_lexer": "ipython3",
   "version": "3.10.14"
  }
 },
 "nbformat": 4,
 "nbformat_minor": 2
}
