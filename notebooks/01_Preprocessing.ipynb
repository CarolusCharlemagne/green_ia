{
 "cells": [
  {
   "cell_type": "code",
   "execution_count": 44,
   "metadata": {},
   "outputs": [],
   "source": [
    "import tensorflow as tf\n",
    "\n",
    "def setup_gpu():\n",
    "    physical_devices = tf.config.list_physical_devices('GPU')\n",
    "    if physical_devices:\n",
    "        try:\n",
    "            tf.config.experimental.set_memory_growth(physical_devices[0], True)\n",
    "            print(\"config augmentation allocation mémoire gpu activée\")\n",
    "        except RuntimeError as e:\n",
    "            print(e)\n",
    "\n",
    "setup_gpu()"
   ]
  },
  {
   "cell_type": "code",
   "execution_count": 61,
   "metadata": {},
   "outputs": [],
   "source": [
    "import keras\n",
    "import numpy as np\n",
    "import math\n",
    "import matplotlib.pyplot as plt\n",
    "import pandas as pd\n",
    "import seaborn as sea\n",
    "import sklearn\n",
    "import scipy as sc\n",
    "import nltk as nltk\n",
    "import statsmodels as statsmodels\n",
    "import os\n",
    "\n",
    "pd.set_option('display.max_rows', 50)\n",
    "\n",
    "from sklearn.model_selection import train_test_split\n",
    "from sklearn.preprocessing import MinMaxScaler"
   ]
  },
  {
   "cell_type": "code",
   "execution_count": 46,
   "metadata": {},
   "outputs": [
    {
     "name": "stdout",
     "output_type": "stream",
     "text": [
      "Version de TensorFlow : 2.10.1\n"
     ]
    }
   ],
   "source": [
    "print(\"Version de TensorFlow :\", tf.__version__)"
   ]
  },
  {
   "cell_type": "code",
   "execution_count": 47,
   "metadata": {},
   "outputs": [
    {
     "name": "stdout",
     "output_type": "stream",
     "text": [
      "Version de Keras : 2.10.0\n"
     ]
    }
   ],
   "source": [
    "print(\"Version de Keras :\", keras.__version__)"
   ]
  },
  {
   "cell_type": "code",
   "execution_count": 48,
   "metadata": {},
   "outputs": [],
   "source": [
    "projectPath = \"/home/carolus/Documents/school/green_ia/\"\n",
    "fileNbr = '00' # numéro d'identification des csv à charger et générer\n",
    "csvPath = projectPath + \"data/\" + fileNbr + \"_openfoodfacts_00/\" "
   ]
  },
  {
   "cell_type": "code",
   "execution_count": 49,
   "metadata": {},
   "outputs": [],
   "source": [
    "# compter les fichiers csv dans le dossier traité \n",
    "def countCsv(directory):\n",
    "    csvNbr = 0\n",
    "    for csvFile in os.listdir(directory):\n",
    "        if csvFile.endswith('.csv'):\n",
    "            csvNbr += 1\n",
    "    return csvNbr"
   ]
  },
  {
   "cell_type": "code",
   "execution_count": 51,
   "metadata": {},
   "outputs": [],
   "source": [
    "# lister noms de colonnes et les sauvegarder dans un fichier texte\n",
    "def findAndSaveCol(df, csvPath, currentCsv):\n",
    "    colName = df.columns.tolist()\n",
    "    print(colName)\n",
    "    colTextFile = csvPath + \"colSaver.txt\"\n",
    "    with open(colTextFile, 'w') as file:\n",
    "        for name in colName:\n",
    "            file.write(name + \", \")"
   ]
  },
  {
   "cell_type": "code",
   "execution_count": 58,
   "metadata": {},
   "outputs": [
    {
     "name": "stdout",
     "output_type": "stream",
     "text": [
      "nombre csv répertoire: 331, fileNbr: 00\n",
      "current csv: /home/carolus/Documents/school/green_ia/data/00_openfoodfacts_00/1_openfoodfacts_00.csv\n"
     ]
    },
    {
     "name": "stderr",
     "output_type": "stream",
     "text": [
      "/tmp/ipykernel_47776/718055274.py:12: DtypeWarning: Columns (1,3,5,7,8,10,11,12,14,16,17,18,22,23,25,27,28,31,32,33,34,36,37,39,40,41,43,44,45,46,47,49,50,53,55,57,58,59,60,61,62,64,65,66,67,68,70,71,73,75,76,77,78,81,82,83,86,87,88,89,90,91,94,95,97,98,100,101,103,105,106,107,110,111,113,114,116,118,119,120,123,124,125,126,131,132,133,135,137,139,140,141,142,144,148,151,152,153,154,155,157,159,160,161,165,168,169,170,171,172,173,174,175,176,177,178,179,181,182,184,186,187,189,191,192,193,194,195,197,200,202,205,206,209,210,211,212,214,215,216,219,221,222,225,226,229,230,231,232,233,234,236,237,240,244,245,246,248,249,251,253,254,255,258,261,262,263,264,267,270,271,273,274,276,277,278,279,280,281,282,283,294,297,298,299,301,305,306,307,308,309,311,312,313,314,315,316,317,319,321,323,324,325,327,328,329,330,331,332,335,336,340,341,342,345,347,348,349,351,354,355,357,358,359,361,365,369,371,373,374,375,376,378,380,381,382,383,384,385,386,389,390,391,392,394,395,396,397,398,399,400,401,402,403,404,405,408,409,412,415,419,420,421,427,428,429,431,432,433,434,435,436,437,438,439,440,441,442,444,445,446,448,449,450,452,453,454,455,456,458,464,465,467,468,469,470,472,473,474,475,476,477,478,480,481,482,486,487,488,489,490,491,494,495,496,499,500,501,502,503,505,506,507,509,510,511,512,513,515,516,519,520,524,525,526,527,528,531,533,534,535,536,539,540,542,544,545,547,550,552,554,557,558,559,560,561,563,564,565,566,567,568,570,571,574,575,576,577,579,580,582,583,584,585,586,589,591,593,594,596,597,598,599,600,605,607,608,610,611,612,614,615,617,618,620,621,622,623,626,627,628,629,631,632,633,636,637,638,639,642,644,645,649,650,651,652,653,659,661,662,663,665,666,668,669,670,671,672,673,674,676,677,680,681,682,683,684,687,688,693,694,695,698,699,700,701,702,703,705,707,708,709,711,712,714,715,716,718) have mixed types. Specify dtype option on import or set low_memory=False.\n",
      "  df = pd.read_csv(currentCsv)\n"
     ]
    }
   ],
   "source": [
    "# compte le nombre de csv dans dossier\n",
    "csvNbr = countCsv(csvPath)\n",
    "print(f'nombre csv répertoire: {csvNbr}, fileNbr: {fileNbr}')\n",
    "\n",
    "csvIterator = 1\n",
    "#while csvIterator <= csvNbr:\n",
    "while csvIterator <= 1:\n",
    "    currentCsv = f\"{csvPath}{csvIterator}_openfoodfacts_00.csv\"\n",
    "    print(f\"current csv: {currentCsv}\")\n",
    "\n",
    "    # traitement ici \n",
    "    df = pd.read_csv(currentCsv)\n",
    "\n",
    "    # lister toutes les colonnes du premier csv et les sauvegarder dans un fichier texte\n",
    "    if csvNbr == 1:\n",
    "        findAndSaveCol(df, csvPath, currentCsv)\n",
    "\n",
    "    csvIterator+=1"
   ]
  },
  {
   "cell_type": "code",
   "execution_count": 70,
   "metadata": {},
   "outputs": [
    {
     "name": "stdout",
     "output_type": "stream",
     "text": [
      "9953   NaN\n",
      "3850   NaN\n",
      "4962   NaN\n",
      "3886   NaN\n",
      "5437   NaN\n",
      "8517   NaN\n",
      "2041   NaN\n",
      "1989   NaN\n",
      "1933   NaN\n",
      "9984   NaN\n",
      "8418   NaN\n",
      "2418   NaN\n",
      "6811   NaN\n",
      "1217   NaN\n",
      "6978   NaN\n",
      "6111   NaN\n",
      "7865   NaN\n",
      "7781   NaN\n",
      "Name: origin_it, dtype: float64\n"
     ]
    }
   ],
   "source": [
    "# afficher contenu d'une colonne\n",
    "print(df['origin_it'].sample(n=18, random_state=1))"
   ]
  },
  {
   "cell_type": "code",
   "execution_count": null,
   "metadata": {},
   "outputs": [],
   "source": []
  }
 ],
 "metadata": {
  "kernelspec": {
   "display_name": "greenIa",
   "language": "python",
   "name": "python3"
  },
  "language_info": {
   "codemirror_mode": {
    "name": "ipython",
    "version": 3
   },
   "file_extension": ".py",
   "mimetype": "text/x-python",
   "name": "python",
   "nbconvert_exporter": "python",
   "pygments_lexer": "ipython3",
   "version": "3.10.14"
  }
 },
 "nbformat": 4,
 "nbformat_minor": 2
}
