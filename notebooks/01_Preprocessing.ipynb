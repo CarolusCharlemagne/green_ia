{
 "cells": [
  {
   "cell_type": "code",
   "execution_count": 21,
   "metadata": {},
   "outputs": [],
   "source": [
    "import tensorflow as tf\n",
    "\n",
    "def setup_gpu():\n",
    "    physical_devices = tf.config.list_physical_devices('GPU')\n",
    "    if physical_devices:\n",
    "        try:\n",
    "            tf.config.experimental.set_memory_growth(physical_devices[0], True)\n",
    "            print(\"config augmentation allocation mémoire gpu activée\")\n",
    "        except RuntimeError as e:\n",
    "            print(e)\n",
    "\n",
    "setup_gpu()"
   ]
  },
  {
   "cell_type": "code",
   "execution_count": 22,
   "metadata": {},
   "outputs": [],
   "source": [
    "import keras\n",
    "import numpy as np\n",
    "import math\n",
    "import matplotlib.pyplot as plt\n",
    "import pandas as pd\n",
    "import seaborn as sea\n",
    "import sklearn\n",
    "import scipy as sc\n",
    "import nltk as nltk\n",
    "import statsmodels as statsmodels\n",
    "import os\n",
    "\n",
    "pd.set_option('display.max_rows', 50)\n",
    "\n",
    "from sklearn.model_selection import train_test_split\n",
    "from sklearn.preprocessing import MinMaxScaler"
   ]
  },
  {
   "cell_type": "code",
   "execution_count": 23,
   "metadata": {},
   "outputs": [
    {
     "name": "stdout",
     "output_type": "stream",
     "text": [
      "Version de TensorFlow : 2.10.1\n"
     ]
    }
   ],
   "source": [
    "print(\"Version de TensorFlow :\", tf.__version__)"
   ]
  },
  {
   "cell_type": "code",
   "execution_count": 24,
   "metadata": {},
   "outputs": [
    {
     "name": "stdout",
     "output_type": "stream",
     "text": [
      "Version de Keras : 2.10.0\n"
     ]
    }
   ],
   "source": [
    "print(\"Version de Keras :\", keras.__version__)"
   ]
  },
  {
   "cell_type": "code",
   "execution_count": 25,
   "metadata": {},
   "outputs": [],
   "source": [
    "projectPath = \"/home/carolus/Documents/school/green_ia/\"\n",
    "fileNbr = '00' # numéro d'identification des csv à charger et générer\n",
    "csvPath = projectPath + \"data/\" + fileNbr + \"_openfoodfacts_00/\" "
   ]
  },
  {
   "cell_type": "code",
   "execution_count": 26,
   "metadata": {},
   "outputs": [],
   "source": [
    "# compter les fichiers csv dans le dossier traité \n",
    "def countCsv(directory):\n",
    "    csvNbr = 0\n",
    "    for csvFile in os.listdir(directory):\n",
    "        if csvFile.endswith('.csv'):\n",
    "            csvNbr += 1\n",
    "    return csvNbr"
   ]
  },
  {
   "cell_type": "code",
   "execution_count": 27,
   "metadata": {},
   "outputs": [],
   "source": [
    "# lister noms de colonnes et les sauvegarder dans un fichier texte\n",
    "def findAndSaveCol(df, csvPath, currentCsv):\n",
    "    colName = df.columns.tolist()\n",
    "    print(f\"colName: {colName}\")\n",
    "\n",
    "    colTextFile = csvPath + \"colSaver.txt\"\n",
    "    with open(colTextFile, 'w') as file:\n",
    "        for name in colName:\n",
    "            file.write(name + \" | \")"
   ]
  },
  {
   "cell_type": "code",
   "execution_count": 28,
   "metadata": {},
   "outputs": [
    {
     "name": "stdout",
     "output_type": "stream",
     "text": [
      "nombre csv répertoire: 331, fileNbr: 00\n",
      "current csv: /home/carolus/Documents/school/green_ia/data/00_openfoodfacts_00/1_openfoodfacts_00.csv\n",
      "1\n",
      "colName: ['other_nutritional_substances_tags', 'ingredients_text_en_ocr_1563429232', 'correctors_tags', 'ingredients_text_en_ocr_1582131773_result', 'origin_it', 'ingredients_text_fr_ocr_1586424882', 'allergens_from_ingredients', 'ingredients_text_en_ocr_1562469025_result', 'ingredients_text_en_ocr_1550522058', 'informers_tags', 'ingredients_text_en_ocr_1550522122_result', 'ingredients_text_fr_ocr_1544477421_result', 'ingredients_text_en_ocr_1550522065_result', 'nutriscore_tags', 'ingredients_text_fr_ocr_1550256782', 'labels_old', 'ingredients_text_en_ocr_1585414184', 'product_name_xx_debug_tags', 'product_name_fr', 'allergens', 'categories_old', 'sources_fields', 'environment_impact_level_tags', 'stores', 'pnns_groups_1', 'ingredients_text_en_ocr_1584810972', 'popularity_tags', 'ingredients_text_en_ocr_1619260168', 'product_name_nl_debug_tags', 'ingredients_text_hu', 'ecoscore_data', 'ingredients_text_en_ocr_1594040535', 'product_name_pt', 'ingredients_text_fr_ocr_1552297686', 'ingredients_text_en_ocr_1669095913', 'brand_owner_imported', 'ingredients_text_en_ocr_1619260168_result', 'product_name_debug_tags', 'interface_version_created', 'ingredients_text_en_ocr_1595907088', 'labels_next_hierarchy', 'ingredients_text_en_ocr_1550522031', 'ingredients_tags', 'product_name_es', 'ingredients_text_en_ocr_1550522035', 'ingredients_text_en_ocr_1545732141', 'ingredients_text_en_ocr_1550256471_result', 'packaging', 'nutrition_score_warning_no_fiber', 'ingredients_text_en_ocr_1651137189', 'ingredients_text_en_ocr_1669095913_result', 'complete', 'generic_name_la', 'packaging_debug_tags', 'ingredients_hierarchy', 'product_name_nl', 'product_name', 'ingredients_text_th', 'ingredients_text_fr_ocr_1546335197', 'ingredients_text_en_ocr_1550522047_result', 'ingredients_text_fr_ocr_1582743448', 'generic_name_es', 'ingredients_text_en_ocr_1550522125_result', 'traces_hierarchy', 'ingredients_text_fr_ocr_1550256394_result', 'ingredients_text_en_ocr_1550522057', 'packaging_old_before_taxonomization', 'ingredients_text_en_ocr_1562503615_result', 'ingredients_text_en_ocr_1638897558_result', 'states_hierarchy', 'product_name_it', 'ingredients_text_en_ocr_1602541888_result', 'stores_tags', 'ingredients_text_en_ocr_1550522122', 'food_groups_tags', 'ingredients_text_en_ocr_1550522037_result', 'ingredients_text_en_ocr_1550522064', 'ingredients_text_en_ocr_1550522056', 'ingredients_text_en_ocr_1550522150', 'ingredients_sweeteners_n', 'ingredients_text_debug', 'informers', 'ingredients_text_en_ocr_1550522150_result', 'ingredients_text_fr_ocr_1550256780_result', 'ecoscore_tags', 'generic_name_hu', 'ingredients_text_en_ocr_1550522057_result', 'ingredients_text_en_ocr_1550522140_result', 'ingredients_text_en_ocr_1550522044_result', 'ingredients_text_fr_ocr_1566592555_result', 'nutrition_data_prepared', 'product_name_it_debug_tags', 'packaging_recycling_tags', 'forest_footprint_data', 'ingredients_text_en_ocr_1550522070_result', 'ingredients_text_en_ocr_1563348375', 'lang', 'ingredients_text_fr_ocr_1549271940', 'ingredients_text_fr_ocr_1579622569', 'amino_acids_tags', 'weighters_tags', 'ingredients_text_fr_ocr_1574091724', 'countries_imported', 'ingredients_text_en_ocr_1585414176', 'nova_group', 'ingredients_text_en_ocr_1585414184_result', 'ingredients_text_en_ocr_1550522157_result', 'ingredients_text_en_ocr_1550522125', 'origin_fr', 'last_modified_t', 'ingredients_text_en_ocr_1600727187', 'ingredients_text_en_ocr_1581467517', 'ingredients_from_or_that_may_be_from_palm_oil_n', 'ingredients_text_en_ocr_1550522147_result', 'ingredients_text_fr_ocr_1609851238', 'packagings_materials', 'traces_debug_tags', 'category_properties', 'ingredients_text_it', 'manufacturing_places', 'ingredients_text_with_allergens_pl', 'removed_countries_tags', 'categories_tags', 'ingredients_text_en_ocr_1585417607_result', 'generic_name_de', 'ingredients_text_fr_ocr_1559325558_result', 'stores_debug_tags', 'data_sources_tags', 'allergens_from_user', 'pnns_groups_2_tags', 'generic_name_th', 'ingredients_text_en_ocr_1589720450_result', 'categories_next_tags', 'ingredients_text_en_ocr_1587177528_result', 'brand_owner', 'ingredients_text_en_ocr_1587177528', 'generic_name_da', 'ingredients_text_en_ocr_1550522046', 'ingredients_from_palm_oil_tags', 'ingredients_text_en_ocr_1626225659_result', 'ingredients_text_en_ocr_1550522068_result', 'generic_name_nl', 'ingredients_text_fr_ocr_1550235883_result', 'last_checked_t', 'ingredients_text_en_ocr_1574121916', 'environment_impact_level', 'ingredients_original_tags', 'editors_tags', 'ingredients_text_en_ocr_1550522155', 'additives_debug_tags', 'product_name_ar', 'ingredients_text_fr_ocr_1551168025', 'origins_old', 'ingredients_text_fr_ocr_1550256472', 'ingredients_text_en_ocr_1564103424', 'ingredients_text_en_ocr_1550522036', '_id', 'ingredients_text_pl', 'main_countries_tags', 'ingredients_text_en_ocr_1550522143_result', 'ingredients_text_fr_ocr_1550256781_result', 'update_key', 'new_additives_n', 'packaging_text_es', 'ingredients_n_tags', 'ingredients_text_la', 'nutrition_score_warning_fruits_vegetables_nuts_estimate', 'id', 'generic_name_en_imported', 'ingredients_text_en_ocr_1596556204', 'ingredients_text_en_ocr_1562821941_result', 'categories_debug_tags', 'ingredients_text_en_ocr_1626225659', 'carbon_footprint_from_meat_or_fish_debug', 'ingredients_text_fr_ocr_1586799457', 'ingredients_text_fr_ocr_1550235900', 'ingredients_text_en_ocr_1574118744', 'ingredients_text_en_ocr_1550522147', 'ingredients_text_with_allergens_it', 'generic_name_it', 'data_sources_imported', 'ingredients_text_it_ocr_1592545152', 'link', 'languages_hierarchy', 'ingredients_text_en_ocr_1562577582', 'countries_lc', 'origin_en', 'ingredients_text_fr_ocr_1550235905_result', 'nutrient_levels_tags', 'ingredients_text_en_ocr_1550522139_result', 'nutrition_data_per', 'ingredients_text_en_ocr_1563167623', 'ingredients_text_fr_ocr_1586799457_result', 'ingredients_text_de', 'specific_ingredients', 'ingredients_text_fr_ocr_1550256394', 'labels_hierarchy', 'ingredients_text_en_ocr_1603524551_result', 'nutriscore_score_opposite', 'ingredients_analysis', 'ingredients_text_en_ocr_1584810972_result', 'photographers_tags', 'ingredients_text_en_ocr_1564023541', 'last_updated_t', 'ingredients_text_with_allergens_en', 'ingredients_text_en_ocr_1581109156_result', 'ingredients_text_en_ocr_1581364504_result', 'ingredients_analysis_tags', 'packagings_n', 'ingredients_text_fr_ocr_1550235898_result', 'expiration_date_debug_tags', 'ingredients_text_fr_ocr_1550256471', 'ingredients_text_en_ocr_1594598269_result', 'creator', 'ingredients_text_en_ocr_1627016129_result', 'ingredients_text_en_ocr_1638897558', 'ingredients_ids_debug', 'packaging_materials_tags', 'languages', 'ingredients_text_en_ocr_1585414176_result', 'additives_original_tags', 'labels_debug_tags', 'ingredients_text_en_ocr_1627143983_result', 'categories_lc', 'ingredients_text_with_allergens', 'ingredients_text_with_allergens_ro', 'product_name_la', 'last_image_dates_tags', 'ingredients_lc', 'emb_codes_20141016', 'ingredients_text_fr_ocr_1553587768_result', 'ingredients_text_fr_ocr_1550256780', 'ingredients_text_en_ocr_1693249087', 'ingredients_text_en_ocr_1596556204_result', 'ingredients_text_en_ocr_1581109156', 'origins_hierarchy', 'ingredients_text_en_ocr_1550522033', 'ingredients_text_en_ocr_1550522033_result', 'product_name_xx', 'completed_t', 'ingredients_text_fr_debug_tags', 'data_quality_errors_tags', 'max_imgid', 'nutrition_grades_tags', 'ingredients_text_en_ocr_1582913374', 'generic_name_fr_debug_tags', 'product_name_da', 'compared_to_category', 'ingredients_text_en_ocr_1563189298', 'ecoscore_extended_data', 'allergens_tags', 'ingredients_text_en_ocr_1664190723_result', 'nutrition_score_warning_fruits_vegetables_nuts_estimate_from_ingredients', 'ingredients_text_fr_ocr_1552297686_result', 'emb_codes_debug_tags', 'ingredients_text_fr_ocr_1544133019', 'nutrient_levels', 'ingredients_percent_analysis', 'ingredients_text_en_ocr_1600727187_result', 'nucleotides_prev_tags', 'additives_tags_n', 'ingredients_text_en_ocr_1630690091', 'ingredients_text_en_ocr_1575833484', 'ingredients_text_es', 'ingredients_text_en_ocr_1581364504', 'vitamins_tags', 'traces_tags', 'ingredients_text_with_allergens_nl', 'origin_es', 'categories', 'ingredients_text_fr_ocr_1549271940_result', 'ingredients_text_fr_ocr_1609851238_result', 'emb_codes_tags', 'ingredients_text_en_ocr_1562124897', 'ingredients_text_en_ocr_1562821941', 'origin_hu', 'ingredients_text_en_ocr_1633897800_result', 'ingredients_text_en_ocr_1605336098_result', 'ingredients_text_fr_ocr_1612453971_result', 'ingredients_text_en_ocr_1638212133_result', 'ingredients_text_en_ocr_1550522053_result', 'ingredients_text_en_ocr_1550522045', 'ingredients_text_en_ocr_1550522036_result', 'ingredients_text_en_ocr_1594598269', 'completeness', 'nutriscore_2021_tags', 'nutriments', 'amino_acids_prev_tags', 'categories_hierarchy', 'last_edit_dates_tags', 'created_t', 'nutriscore', 'unknown_nutrients_tags', 'minerals_tags', 'ingredients_text_en_ocr_1563348503_result', 'ecoscore_extended_data_version', 'product_quantity', 'generic_name', 'origin', 'ingredients_text_en_ocr_1585243792_result', 'unknown_ingredients_n', 'generic_name_de_debug_tags', 'images', 'ingredients_without_ciqual_codes', 'nova_group_debug', 'ingredients_text_fr_ocr_1550256782_result', 'ingredients_text_with_allergens_cs', 'ingredients_text_en_ocr_1550522050_result', 'ingredients_text_en_ocr_1550522056_result', 'ingredients_text_en_ocr_1550522153', 'product_name_en', 'carbon_footprint_from_known_ingredients_debug', 'packaging_text_de', 'categories_next_hierarchy', 'ingredients_text_en_ocr_1585176090', 'ingredients_text_fr_ocr_1550235906_result', 'ingredients_text_en_ocr_1630690091_result', 'nutriments_estimated', 'serving_size_imported', 'ingredients_text_fr_ocr_1550235906', 'nutriscore_2023_tags', 'ingredients_text_fr_ocr_1551168025_result', 'traces_lc', 'ingredients_text_en_ocr_1563167623_result', 'ingredients_text_fr_ocr_1544477421', 'manufacturing_places_debug_tags', 'cities_tags', 'ingredients_text_en_ocr_1550522139', 'ingredients_text_fr_ocr_1600099529_result', 'ingredients_text_en_ocr_1661187376_result', 'checked', 'ingredients_text_en_ocr_1562469025', 'ingredients_text_fr_ocr_1550235888_result', 'allergens_lc', 'packaging_lc', 'ingredients_text_fr_ocr_1562591327', 'ingredients_text_fr_ocr_1550235888', 'serving_size', 'origins_tags', 'ciqual_food_name_tags', 'ingredients_text_en_ocr_1550522047', 'ingredients_text_en_ocr_1583784779_result', 'ingredients_text_en_ocr_1605389497_result', 'vitamins_prev_tags', 'labels_lc', 'ingredients_text_en_ocr_1562578670', 'ingredients_that_may_be_from_palm_oil_n', 'ingredients_text_fr_ocr_1547496812_result', 'ingredients_text_en_ocr_1585176080', 'ingredients_text_en_ocr_1550522123', 'unique_scans_n', 'purchase_places_debug_tags', 'with_non_nutritive_sweeteners', 'pnns_groups_1_tags', 'ingredients_text_en_ocr_1550522052', 'ingredients_text_xx_debug_tags', 'origin_la', 'ingredients_text_fr_ocr_1546189713_result', 'ingredients_text_en_ocr_1563074700', 'allergens_debug_tags', 'nutrition_score_warning_fruits_vegetables_legumes_estimate_from_ingredients_value', 'ingredients_text_cs', 'countries_debug_tags', 'nova_groups', 'ingredients_with_unspecified_percent_sum', 'ingredients_text_en_ocr_1562226658', 'additives_prev_original_tags', 'additives_old_n', 'misc_tags', 'emb_codes_orig', 'ingredients_without_ciqual_codes_n', 'ingredients_text_en_ocr_1563348375_result', 'additives_tags', 'ingredients_text_en_ocr_1563792802_result', 'ingredients_text_with_allergens_es', 'ingredients_text_fr_ocr_1574120054', 'ingredients_text_fr_ocr_1550235882_result', 'code', 'ingredients_text_en_ocr_1627016129', 'nutriscore_grade', 'ingredients_text_fr_ocr_1550256783_result', 'ingredients_text_en_ocr_1589720450', 'generic_name_xx_debug_tags', 'ingredients_text_en_ocr_1564023541_result', 'ingredients_text_with_allergens_th', 'photographers', 'ingredients_text_fr_ocr_1550235898', 'nutrition_score_debug', 'last_modified_by', 'serving_size_debug_tags', 'ingredients_text_en_ocr_1582913374_result', 'ingredients_text_fr_ocr_1550256395_result', 'ingredients_text_en_ocr_1550522129', 'carbon_footprint_percent_of_known_ingredients', 'ingredients_text_en_ocr_1562550888_result', 'ingredients_text_fr_ocr_1574120054_result', 'ingredients_text_en_ocr_1550522143', 'ingredients_text_en_ocr_1550522061', 'ingredients_text_with_allergens_la', 'ingredients_text_en_ocr_1550522123_result', 'nutrition_data_per_debug_tags', 'generic_name_nl_debug_tags', 'ingredients_text_en_ocr_1545732141_result', 'ingredients_text_fr_ocr_1550235884', 'ingredients_text_en_ocr_1605336098', 'ingredients_text_fr_ocr_1550235905', 'nutriscore_data', 'origin_da', 'ingredients_text_en_ocr_1583862816', 'ingredients_text_en_ocr_1550522059_result', 'entry_dates_tags', 'ecoscore_score', 'ingredients_text_ro', 'sortkey', 'data_quality_bugs_tags', 'ingredients_text_en_ocr_1633897800', 'obsolete', 'nutrition_score_warning_no_fruits_vegetables_nuts', 'packaging_text_da', 'ingredients_text_en_ocr_1550522052_result', 'ingredients_text_en_ocr_1545921985', 'product_quantity_unit', 'ingredients_with_specified_percent_n', '_keywords', 'nutrition_data', 'purchase_places_tags', 'data_quality_tags', 'ingredients_text_en_ocr_1585774413', 'ingredients_text_en_ocr_1550256471', 'ingredients_text_en_ocr_1583862816_result', 'rev', 'ingredients_text_fr_ocr_1566592555', 'ingredients_text_en_ocr_1550522064_result', 'other_nutritional_substances_prev_tags', 'packaging_text_en', 'ingredients_text_en_ocr_1563189279', 'ingredients_text_nl', 'ingredients_text_en_ocr_1550522039', 'ingredients_text_en_ocr_1545921985_result', 'nutrition_score_warning_fruits_vegetables_nuts_from_category', 'data_quality_warning_tags', 'ingredients_text_fr_ocr_1562600554_result', 'ingredients_text_en_ocr_1550522135_result', 'nutrition_data_prepared_per_imported', 'labels_next_tags', 'ingredients_text_nl_debug_tags', 'ingredients_text_fr_ocr_1550235884_result', 'nutrition_data_per_imported', 'ingredients_text_en_ocr_1550522051_result', 'ingredients_text_fr_ocr_1552297073', 'ingredients_text_en_ocr_1550522154', 'teams_tags', 'ingredients_text_en_ocr_1550522061_result', 'ingredients_text_en_ocr_1550522140', 'ingredients_text_en_ocr_1550522154_result', 'ingredients_text_en_ocr_1603524551', 'traces', 'allergens_hierarchy', 'ingredients_text_en_ocr_1562469852', 'nutriscore_score', 'ingredients_text_fi', 'generic_name_xx', 'serving_quantity', 'labels_tags', 'ingredients_text_en_ocr_1650297044', 'ingredients_text_en_ocr_1585176090_result', 'nutrition_score_warning_fruits_vegetables_legumes_from_category_value', 'ingredients_text_en_ocr_1550522042', 'ingredients_text_en_ocr_1550522050', 'product_name_fr_debug_tags', 'editors', 'origins_lc', 'product_name_de', 'ingredients_text_fr_ocr_1554276510', 'ingredients_text_fr_ocr_1550235891', 'ingredients_text_fr_ocr_1562591327_result', 'ingredients_text_it_debug_tags', 'ingredients_text_en_ocr_1650297044_result', 'product_name_de_debug_tags', 'countries_hierarchy', 'ingredients_text_de_ocr_1657309465', 'countries_beforescanbot', 'emb_codes', 'teams', 'packaging_text_hu', 'last_image_t', 'ingredients_text_en_ocr_1550522031_result', 'ingredients_text_en_ocr_1562226658_result', 'ingredients_text_en_ocr_1693249087_result', 'ingredients_text_fr_ocr_1612453971', 'labels_prev_tags', 'ingredients_text_en_ocr_1563189279_result', 'nova_groups_markers', 'categories_properties', 'ingredients_text_fr_ocr_1550065169', 'ingredients_text_fr_ocr_1546335197_result', 'ingredients_text_en_ocr_1550522045_result', 'states_tags', 'generic_name_ar', 'ingredients_text_en_ocr_1550522068', 'ingredients_text_en_ocr_1563071860', 'ingredients_text_fr_ocr_1582743448_result', 'ingredients_text_en_ocr_1627143983', 'ingredients_text_fr_ocr_1579622569_result', 'nutrition_score_beverage', 'ingredients_text_en_ocr_1564103424_result', 'ingredients_text_fr_ocr_1550256783', 'ingredients_text_fr_ocr_1550256471_result', 'packaging_tags', 'origins_debug_tags', 'ingredients_text_fr_ocr_1550061027_result', 'ingredients_text_fr_ocr_1547496812', 'serving_quantity_unit', 'ingredients_text_en_ocr_1550522044', 'packagings', 'ingredients_text_en_ocr_1563189298_result', 'ingredients_text_en_ocr_1602541888', 'ecoscore_grade', 'origin_nl', 'ingredients_text_en_ocr_1563071860_result', 'ingredients_text_fr_ocr_1554276510_result', 'popularity_key', 'ingredients_text', 'origins_fr', 'owner_fields', 'product_name_sv', 'ingredients_text_en_ocr_1550522051', 'ingredients_text_en_ocr_1585243792', 'product_name_th', 'categories_imported', 'nutrition_grades', 'ingredients_text_fr_ocr_1550235891_result', 'data_quality_info_tags', 'ingredients_text_en_ocr_1550522039_result', 'ingredients_text_en_ocr_1550522129_result', 'ingredients_text_en_ocr_1562578670_result', 'ingredients_text_with_allergens_fr', 'brands_debug_tags', 'weighers_tags', 'ingredients_text_fr_ocr_1574091724_result', 'ingredients_text_en_ocr_1585176080_result', 'checkers_tags', 'labels_imported', 'fruits-vegetables-nuts_100g_estimate', 'ingredients_text_en_ocr_1550522066_result', 'traces_from_ingredients', 'nutrition_score_warning_fruits_vegetables_nuts_from_category_value', 'ingredients_text_fr_ocr_1544133019_result', 'packaging_text_it', 'packaging_shapes_tags', 'ingredients_debug', 'ingredients_with_unspecified_percent_n', 'ingredients_text_en_debug_tags', 'ingredients_n', 'ingredients_text_en_ocr_1661187376', 'scans_n', 'nutrition_score_warning_fruits_vegetables_nuts_estimate_from_ingredients_value', 'ingredients_text_en_ocr_1550522046_result', 'ingredients_text_en_ocr_1638212133', 'ingredients_text_en_ocr_1563429232_result', 'ingredients_text_en_ocr_1562550888', 'ingredients_text_en_ocr_1562578669', 'packaging_text_fr', 'ingredients_text_en_ocr_1594040535_result', 'ingredients_text_en_ocr_1563348503', 'ingredients_text_fr_ocr_1557146461', 'ingredients_text_en_ocr_1581467517_result', 'ingredients_text_es_debug_tags', 'ingredients_text_de_debug_tags', 'ingredients', 'generic_name_en_debug_tags', 'ingredients_text_fr_ocr_1550235883', 'countries', 'nutriscore_version', 'ingredients_text_fr_ocr_1550256472_result', 'ingredients_text_en_ocr_1550522053', 'ingredients_text_en_ocr_1583784779', 'origins', 'with_sweeteners', 'ingredients_text_fr', 'ingredients_text_en_ocr_1562576316_result', 'ingredients_that_may_be_from_palm_oil_tags', 'ingredients_text_nl_ocr_1583862816_result', 'ingredients_text_it_ocr_1592545152_result', 'nutrition_data_prepared_per_debug_tags', 'ingredients_text_nl_ocr_1583862816', 'purchase_places', 'last_editor', 'lc_imported', 'categories_prev_hierarchy', 'brands_tags', 'ingredients_text_en_ocr_1550522144', 'ingredients_text_en', 'ingredients_text_fr_ocr_1550256781', 'product_name_es_debug_tags', 'traces_from_user', 'ingredients_text_en_ocr_1550522157', 'ingredients_text_fr_ocr_1559325558', 'ingredients_text_fr_ocr_1546189713', 'ingredients_text_fr_ocr_1562600554', 'ingredients_text_en_ocr_1585774413_result', 'brands', 'nutrition_data_prepared_per', 'interface_version_modified', 'ingredients_from_palm_oil_n', 'ingredients_text_en_ocr_1575833484_result', 'data_sources', 'nutrition_score_warning_fruits_vegetables_legumes_from_category', 'ingredients_text_en_ocr_1651137189_result', 'obsolete_since_date', 'generic_name_it_debug_tags', 'packaging_text', 'ingredients_text_fr_ocr_1550235900_result', 'labels', 'ingredients_text_debug_tags', 'ingredients_text_fr_ocr_1550061027', 'nutrition_grade_fr', 'ingredients_text_en_ocr_1563074700_result', 'ingredients_text_fr_ocr_1600099529', 'nutrition_score_warning_fruits_vegetables_legumes_estimate_from_ingredients', 'ingredients_text_with_allergens_de', 'quantity', 'lang_debug_tags', 'ingredients_text_en_ocr_1550522145', 'lc', 'packaging_text_la', 'ingredients_text_en_ocr_1562469852_result', 'ingredients_text_fr_ocr_1586424882_result', 'generic_name_es_debug_tags', 'ingredients_text_en_ocr_1550522042_result', 'data_quality_warnings_tags', 'ingredients_text_fr_ocr_1550065169_result', 'ingredients_text_en_ocr_1562124897_result', 'ingredients_text_en_ocr_1585417607', 'manufacturing_places_tags', 'additives_n', 'correctors', 'ingredients_text_en_ocr_1550522066', 'expiration_date', 'no_nutrition_data', 'debug_param_sorted_langs', 'packaging_hierarchy', 'ingredients_text_de_ocr_1657309465_result', 'nutrition_score_warning_nutriments_estimated', 'nova_group_tags', 'ingredients_text_en_ocr_1627350038', 'nova_group_error', 'codes_tags', 'countries_tags', 'ingredients_text_en_ocr_1562913271_result', 'generic_name_fr', 'ingredients_text_fr_ocr_1550256395', 'ingredients_text_en_ocr_1550522070', 'ingredients_text_en_ocr_1605389497', 'ingredients_text_da', 'allergens_imported', 'ingredients_non_nutritive_sweeteners_n', 'nova_groups_tags', 'nucleotides_tags', 'ingredients_text_en_ocr_1550522145_result', 'ingredients_text_xx', 'last_checker', 'ingredients_text_fr_ocr_1557146461_result', 'labels_prev_hierarchy', 'food_groups', 'checkers', 'ingredients_text_en_ocr_1627188147_result', 'packaging_text_nl', 'ingredients_text_en_ocr_1550522135', 'ingredients_text_en_ocr_1550522037', 'ingredients_text_en_ocr_1595907088_result', 'ingredients_text_fr_ocr_1552297073_result', 'ingredients_text_en_ocr_1550522035_result', 'traces_imported', 'ingredients_text_en_ocr_1562576316', 'sources', 'categories_prev_tags', 'last_check_dates_tags', 'languages_codes', 'product_name_hu', 'ingredients_text_en_ocr_1574118744_result', 'ingredients_text_en_ocr_1627350038_result', 'ingredients_text_en_ocr_1550522059', 'ingredients_text_en_ocr_1550522155_result', 'ingredients_text_fr_ocr_1566592560', 'product_name_en_imported', 'packagings_complete', 'ingredients_text_en_ocr_1550522144_result', 'quantity_debug_tags', 'origin_de', 'ingredients_with_specified_percent_sum', 'ingredients_text_en_imported', 'languages_tags', 'ingredients_text_en_ocr_1550522058_result', 'ingredients_text_fr_ocr_1550235882', 'ingredients_text_en_ocr_1664190723', 'pnns_groups_2', 'additives_old_tags', 'ingredients_text_en_ocr_1627188147', 'generic_name_en', 'ingredients_text_en_ocr_1562913271', 'ingredients_text_en_ocr_1562578669_result', 'ingredients_text_en_ocr_1562577582_result', 'ingredients_text_en_ocr_1550522153_result', 'added_countries_tags', 'ingredients_text_fr_ocr_1566592560_result', 'minerals_prev_tags', 'ingredients_text_en_ocr_1574121916_result', 'link_debug_tags', 'ingredients_text_en_ocr_1563792802', 'states', 'ingredients_text_fr_ocr_1553587768', 'ingredients_text_en_ocr_1550522065', 'categories_properties_tags', 'ingredients_text_en_ocr_1582131773', 'ingredients_text_en_ocr_1562503615', 'product_name_en_debug_tags', 'ingredients_text_ar', 'packaging_old', 'known_ingredients_n']\n"
     ]
    },
    {
     "name": "stderr",
     "output_type": "stream",
     "text": [
      "/tmp/ipykernel_4326/141306014.py:12: DtypeWarning: Columns (1,3,5,7,8,10,11,12,14,16,17,18,22,23,25,27,28,31,32,33,34,36,37,39,40,41,43,44,45,46,47,49,50,53,55,57,58,59,60,61,62,64,65,66,67,68,70,71,73,75,76,77,78,81,82,83,86,87,88,89,90,91,94,95,97,98,100,101,103,105,106,107,110,111,113,114,116,118,119,120,123,124,125,126,131,132,133,135,137,139,140,141,142,144,148,151,152,153,154,155,157,159,160,161,165,168,169,170,171,172,173,174,175,176,177,178,179,181,182,184,186,187,189,191,192,193,194,195,197,200,202,205,206,209,210,211,212,214,215,216,219,221,222,225,226,229,230,231,232,233,234,236,237,240,244,245,246,248,249,251,253,254,255,258,261,262,263,264,267,270,271,273,274,276,277,278,279,280,281,282,283,294,297,298,299,301,305,306,307,308,309,311,312,313,314,315,316,317,319,321,323,324,325,327,328,329,330,331,332,335,336,340,341,342,345,347,348,349,351,354,355,357,358,359,361,365,369,371,373,374,375,376,378,380,381,382,383,384,385,386,389,390,391,392,394,395,396,397,398,399,400,401,402,403,404,405,408,409,412,415,419,420,421,427,428,429,431,432,433,434,435,436,437,438,439,440,441,442,444,445,446,448,449,450,452,453,454,455,456,458,464,465,467,468,469,470,472,473,474,475,476,477,478,480,481,482,486,487,488,489,490,491,494,495,496,499,500,501,502,503,505,506,507,509,510,511,512,513,515,516,519,520,524,525,526,527,528,531,533,534,535,536,539,540,542,544,545,547,550,552,554,557,558,559,560,561,563,564,565,566,567,568,570,571,574,575,576,577,579,580,582,583,584,585,586,589,591,593,594,596,597,598,599,600,605,607,608,610,611,612,614,615,617,618,620,621,622,623,626,627,628,629,631,632,633,636,637,638,639,642,644,645,649,650,651,652,653,659,661,662,663,665,666,668,669,670,671,672,673,674,676,677,680,681,682,683,684,687,688,693,694,695,698,699,700,701,702,703,705,707,708,709,711,712,714,715,716,718) have mixed types. Specify dtype option on import or set low_memory=False.\n",
      "  df = pd.read_csv(currentCsv)\n"
     ]
    }
   ],
   "source": [
    "# compte le nombre de csv dans dossier\n",
    "csvNbr = countCsv(csvPath)\n",
    "print(f'nombre csv répertoire: {csvNbr}, fileNbr: {fileNbr}')\n",
    "\n",
    "csvIterator = 1\n",
    "#while csvIterator <= csvNbr:\n",
    "while csvIterator <= 1:\n",
    "    currentCsv = f\"{csvPath}{csvIterator}_openfoodfacts_00.csv\"\n",
    "    print(f\"current csv: {currentCsv}\")\n",
    "\n",
    "    # traitement ici \n",
    "    df = pd.read_csv(currentCsv)\n",
    "\n",
    "    # lister toutes les colonnes du premier csv et les sauvegarder dans un fichier texte\n",
    "    if csvIterator == 1:\n",
    "        findAndSaveCol(df, csvPath, currentCsv)\n",
    "\n",
    "    csvIterator+=1"
   ]
  },
  {
   "cell_type": "code",
   "execution_count": 29,
   "metadata": {},
   "outputs": [
    {
     "name": "stdout",
     "output_type": "stream",
     "text": [
      "9953   NaN\n",
      "3850   NaN\n",
      "4962   NaN\n",
      "3886   NaN\n",
      "5437   NaN\n",
      "8517   NaN\n",
      "2041   NaN\n",
      "1989   NaN\n",
      "1933   NaN\n",
      "9984   NaN\n",
      "8418   NaN\n",
      "2418   NaN\n",
      "6811   NaN\n",
      "1217   NaN\n",
      "6978   NaN\n",
      "6111   NaN\n",
      "7865   NaN\n",
      "7781   NaN\n",
      "Name: origin_it, dtype: float64\n"
     ]
    }
   ],
   "source": [
    "# afficher contenu d'une colonne\n",
    "print(df['origin_it'].sample(n=18, random_state=1))"
   ]
  },
  {
   "cell_type": "code",
   "execution_count": null,
   "metadata": {},
   "outputs": [],
   "source": []
  }
 ],
 "metadata": {
  "kernelspec": {
   "display_name": "greenIa",
   "language": "python",
   "name": "python3"
  },
  "language_info": {
   "codemirror_mode": {
    "name": "ipython",
    "version": 3
   },
   "file_extension": ".py",
   "mimetype": "text/x-python",
   "name": "python",
   "nbconvert_exporter": "python",
   "pygments_lexer": "ipython3",
   "version": "3.10.14"
  }
 },
 "nbformat": 4,
 "nbformat_minor": 2
}
