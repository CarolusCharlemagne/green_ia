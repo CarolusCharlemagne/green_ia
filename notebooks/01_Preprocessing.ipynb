{
 "cells": [
  {
   "cell_type": "code",
   "execution_count": 8,
   "metadata": {},
   "outputs": [],
   "source": [
    "import tensorflow as tf\n",
    "\n",
    "def setup_gpu():\n",
    "    physical_devices = tf.config.list_physical_devices('GPU')\n",
    "    if physical_devices:\n",
    "        try:\n",
    "            tf.config.experimental.set_memory_growth(physical_devices[0], True)\n",
    "            print(\"config augmentation allocation mémoire gpu activée\")\n",
    "        except RuntimeError as e:\n",
    "            print(e)\n",
    "\n",
    "setup_gpu()"
   ]
  },
  {
   "cell_type": "code",
   "execution_count": 9,
   "metadata": {},
   "outputs": [],
   "source": [
    "import keras\n",
    "import numpy as np\n",
    "import math\n",
    "import matplotlib.pyplot as plt\n",
    "import pandas as pd\n",
    "import seaborn as sea\n",
    "import sklearn\n",
    "import scipy as sc\n",
    "import nltk as nltk\n",
    "import statsmodels as statsmodels\n",
    "import os\n",
    "\n",
    "from sklearn.model_selection import train_test_split\n",
    "from sklearn.preprocessing import MinMaxScaler"
   ]
  },
  {
   "cell_type": "code",
   "execution_count": 10,
   "metadata": {},
   "outputs": [
    {
     "name": "stdout",
     "output_type": "stream",
     "text": [
      "Version de TensorFlow : 2.10.1\n"
     ]
    }
   ],
   "source": [
    "print(\"Version de TensorFlow :\", tf.__version__)"
   ]
  },
  {
   "cell_type": "code",
   "execution_count": 11,
   "metadata": {},
   "outputs": [
    {
     "name": "stdout",
     "output_type": "stream",
     "text": [
      "Version de Keras : 2.10.0\n"
     ]
    }
   ],
   "source": [
    "print(\"Version de Keras :\", keras.__version__)"
   ]
  },
  {
   "cell_type": "markdown",
   "metadata": {},
   "source": [
    "## Panneau de configuration"
   ]
  },
  {
   "cell_type": "code",
   "execution_count": 14,
   "metadata": {},
   "outputs": [],
   "source": [
    "projectPath = \"/home/carolus/Documents/school/green_ia/data/\"\n",
    "fileNbr = '00' # numéro d'identification des csv à générer et charger"
   ]
  },
  {
   "cell_type": "code",
   "execution_count": 16,
   "metadata": {},
   "outputs": [],
   "source": [
    "# sauvegarde du csv dans un df\n",
    "df = pd.read_csv(projectPath + fileNbr + \"_OpenFoodFacts_00.csv\", sep='\\t', low_memory=False)"
   ]
  },
  {
   "cell_type": "code",
   "execution_count": 17,
   "metadata": {},
   "outputs": [
    {
     "data": {
      "text/html": [
       "<div>\n",
       "<style scoped>\n",
       "    .dataframe tbody tr th:only-of-type {\n",
       "        vertical-align: middle;\n",
       "    }\n",
       "\n",
       "    .dataframe tbody tr th {\n",
       "        vertical-align: top;\n",
       "    }\n",
       "\n",
       "    .dataframe thead th {\n",
       "        text-align: right;\n",
       "    }\n",
       "</style>\n",
       "<table border=\"1\" class=\"dataframe\">\n",
       "  <thead>\n",
       "    <tr style=\"text-align: right;\">\n",
       "      <th></th>\n",
       "      <th>code</th>\n",
       "      <th>url</th>\n",
       "      <th>creator</th>\n",
       "      <th>created_t</th>\n",
       "      <th>created_datetime</th>\n",
       "      <th>last_modified_t</th>\n",
       "      <th>last_modified_datetime</th>\n",
       "      <th>last_modified_by</th>\n",
       "      <th>last_updated_t</th>\n",
       "      <th>last_updated_datetime</th>\n",
       "      <th>...</th>\n",
       "      <th>glycemic-index_100g</th>\n",
       "      <th>water-hardness_100g</th>\n",
       "      <th>choline_100g</th>\n",
       "      <th>phylloquinone_100g</th>\n",
       "      <th>beta-glucan_100g</th>\n",
       "      <th>inositol_100g</th>\n",
       "      <th>carnitine_100g</th>\n",
       "      <th>sulphate_100g</th>\n",
       "      <th>nitrate_100g</th>\n",
       "      <th>acidity_100g</th>\n",
       "    </tr>\n",
       "  </thead>\n",
       "  <tbody>\n",
       "    <tr>\n",
       "      <th>0</th>\n",
       "      <td>00000000000000225</td>\n",
       "      <td>http://world-en.openfoodfacts.org/product/0000...</td>\n",
       "      <td>nutrinet-sante</td>\n",
       "      <td>1623855208</td>\n",
       "      <td>2021-06-16T14:53:28Z</td>\n",
       "      <td>1692101569</td>\n",
       "      <td>2023-08-15T12:12:49Z</td>\n",
       "      <td>digg</td>\n",
       "      <td>1.707748e+09</td>\n",
       "      <td>2024-02-12T14:25:39Z</td>\n",
       "      <td>...</td>\n",
       "      <td>NaN</td>\n",
       "      <td>NaN</td>\n",
       "      <td>NaN</td>\n",
       "      <td>NaN</td>\n",
       "      <td>NaN</td>\n",
       "      <td>NaN</td>\n",
       "      <td>NaN</td>\n",
       "      <td>NaN</td>\n",
       "      <td>NaN</td>\n",
       "      <td>NaN</td>\n",
       "    </tr>\n",
       "    <tr>\n",
       "      <th>1</th>\n",
       "      <td>0000000000000207025004</td>\n",
       "      <td>http://world-en.openfoodfacts.org/product/0000...</td>\n",
       "      <td>kiliweb</td>\n",
       "      <td>1656948610</td>\n",
       "      <td>2022-07-04T15:30:10Z</td>\n",
       "      <td>1656948613</td>\n",
       "      <td>2022-07-04T15:30:13Z</td>\n",
       "      <td>kiliweb</td>\n",
       "      <td>1.707864e+09</td>\n",
       "      <td>2024-02-13T22:43:38Z</td>\n",
       "      <td>...</td>\n",
       "      <td>NaN</td>\n",
       "      <td>NaN</td>\n",
       "      <td>NaN</td>\n",
       "      <td>NaN</td>\n",
       "      <td>NaN</td>\n",
       "      <td>NaN</td>\n",
       "      <td>NaN</td>\n",
       "      <td>NaN</td>\n",
       "      <td>NaN</td>\n",
       "      <td>NaN</td>\n",
       "    </tr>\n",
       "    <tr>\n",
       "      <th>2</th>\n",
       "      <td>00000000000003429145</td>\n",
       "      <td>http://world-en.openfoodfacts.org/product/0000...</td>\n",
       "      <td>kiliweb</td>\n",
       "      <td>1630483911</td>\n",
       "      <td>2021-09-01T08:11:51Z</td>\n",
       "      <td>1682646029</td>\n",
       "      <td>2023-04-28T01:40:29Z</td>\n",
       "      <td>isabel626</td>\n",
       "      <td>1.707844e+09</td>\n",
       "      <td>2024-02-13T17:00:47Z</td>\n",
       "      <td>...</td>\n",
       "      <td>NaN</td>\n",
       "      <td>NaN</td>\n",
       "      <td>NaN</td>\n",
       "      <td>NaN</td>\n",
       "      <td>NaN</td>\n",
       "      <td>NaN</td>\n",
       "      <td>NaN</td>\n",
       "      <td>NaN</td>\n",
       "      <td>NaN</td>\n",
       "      <td>NaN</td>\n",
       "    </tr>\n",
       "    <tr>\n",
       "      <th>3</th>\n",
       "      <td>00000000000026772226</td>\n",
       "      <td>http://world-en.openfoodfacts.org/product/0000...</td>\n",
       "      <td>kiliweb</td>\n",
       "      <td>1654250311</td>\n",
       "      <td>2022-06-03T09:58:31Z</td>\n",
       "      <td>1654270474</td>\n",
       "      <td>2022-06-03T15:34:34Z</td>\n",
       "      <td>quentinbrd</td>\n",
       "      <td>1.707742e+09</td>\n",
       "      <td>2024-02-12T12:49:37Z</td>\n",
       "      <td>...</td>\n",
       "      <td>NaN</td>\n",
       "      <td>NaN</td>\n",
       "      <td>NaN</td>\n",
       "      <td>NaN</td>\n",
       "      <td>NaN</td>\n",
       "      <td>NaN</td>\n",
       "      <td>NaN</td>\n",
       "      <td>NaN</td>\n",
       "      <td>NaN</td>\n",
       "      <td>NaN</td>\n",
       "    </tr>\n",
       "    <tr>\n",
       "      <th>4</th>\n",
       "      <td>0000000000017</td>\n",
       "      <td>http://world-en.openfoodfacts.org/product/0000...</td>\n",
       "      <td>kiliweb</td>\n",
       "      <td>1529059080</td>\n",
       "      <td>2018-06-15T10:38:00Z</td>\n",
       "      <td>1561463718</td>\n",
       "      <td>2019-06-25T11:55:18Z</td>\n",
       "      <td>kiliweb</td>\n",
       "      <td>1.707490e+09</td>\n",
       "      <td>2024-02-09T14:47:36Z</td>\n",
       "      <td>...</td>\n",
       "      <td>NaN</td>\n",
       "      <td>NaN</td>\n",
       "      <td>NaN</td>\n",
       "      <td>NaN</td>\n",
       "      <td>NaN</td>\n",
       "      <td>NaN</td>\n",
       "      <td>NaN</td>\n",
       "      <td>NaN</td>\n",
       "      <td>NaN</td>\n",
       "      <td>NaN</td>\n",
       "    </tr>\n",
       "  </tbody>\n",
       "</table>\n",
       "<p>5 rows × 206 columns</p>\n",
       "</div>"
      ],
      "text/plain": [
       "                     code                                                url  \\\n",
       "0       00000000000000225  http://world-en.openfoodfacts.org/product/0000...   \n",
       "1  0000000000000207025004  http://world-en.openfoodfacts.org/product/0000...   \n",
       "2    00000000000003429145  http://world-en.openfoodfacts.org/product/0000...   \n",
       "3    00000000000026772226  http://world-en.openfoodfacts.org/product/0000...   \n",
       "4           0000000000017  http://world-en.openfoodfacts.org/product/0000...   \n",
       "\n",
       "          creator   created_t      created_datetime  last_modified_t  \\\n",
       "0  nutrinet-sante  1623855208  2021-06-16T14:53:28Z       1692101569   \n",
       "1         kiliweb  1656948610  2022-07-04T15:30:10Z       1656948613   \n",
       "2         kiliweb  1630483911  2021-09-01T08:11:51Z       1682646029   \n",
       "3         kiliweb  1654250311  2022-06-03T09:58:31Z       1654270474   \n",
       "4         kiliweb  1529059080  2018-06-15T10:38:00Z       1561463718   \n",
       "\n",
       "  last_modified_datetime last_modified_by  last_updated_t  \\\n",
       "0   2023-08-15T12:12:49Z             digg    1.707748e+09   \n",
       "1   2022-07-04T15:30:13Z          kiliweb    1.707864e+09   \n",
       "2   2023-04-28T01:40:29Z        isabel626    1.707844e+09   \n",
       "3   2022-06-03T15:34:34Z       quentinbrd    1.707742e+09   \n",
       "4   2019-06-25T11:55:18Z          kiliweb    1.707490e+09   \n",
       "\n",
       "  last_updated_datetime  ... glycemic-index_100g water-hardness_100g  \\\n",
       "0  2024-02-12T14:25:39Z  ...                 NaN                 NaN   \n",
       "1  2024-02-13T22:43:38Z  ...                 NaN                 NaN   \n",
       "2  2024-02-13T17:00:47Z  ...                 NaN                 NaN   \n",
       "3  2024-02-12T12:49:37Z  ...                 NaN                 NaN   \n",
       "4  2024-02-09T14:47:36Z  ...                 NaN                 NaN   \n",
       "\n",
       "  choline_100g phylloquinone_100g beta-glucan_100g inositol_100g  \\\n",
       "0          NaN                NaN              NaN           NaN   \n",
       "1          NaN                NaN              NaN           NaN   \n",
       "2          NaN                NaN              NaN           NaN   \n",
       "3          NaN                NaN              NaN           NaN   \n",
       "4          NaN                NaN              NaN           NaN   \n",
       "\n",
       "  carnitine_100g sulphate_100g nitrate_100g acidity_100g  \n",
       "0            NaN           NaN          NaN          NaN  \n",
       "1            NaN           NaN          NaN          NaN  \n",
       "2            NaN           NaN          NaN          NaN  \n",
       "3            NaN           NaN          NaN          NaN  \n",
       "4            NaN           NaN          NaN          NaN  \n",
       "\n",
       "[5 rows x 206 columns]"
      ]
     },
     "execution_count": 17,
     "metadata": {},
     "output_type": "execute_result"
    }
   ],
   "source": [
    "df.head(5)"
   ]
  },
  {
   "cell_type": "code",
   "execution_count": null,
   "metadata": {},
   "outputs": [],
   "source": [
    "# import du csv de données openfoodfacts\n",
    "openfoodfactsCsv = projectPath + fileNbr + \"_OpenFoodFacts.csv\"\n",
    "df = pd.read_csv(openfoodfactsCsv, sep=';' , on_bad_lines='skip')"
   ]
  },
  {
   "cell_type": "code",
   "execution_count": null,
   "metadata": {},
   "outputs": [],
   "source": [
    "df.head(5)"
   ]
  },
  {
   "cell_type": "markdown",
   "metadata": {},
   "source": [
    "# Analyse des données "
   ]
  },
  {
   "cell_type": "code",
   "execution_count": null,
   "metadata": {},
   "outputs": [],
   "source": [
    "# affiche le nom de toutes les colonnes du df \n",
    "column_list = list(df.columns)\n",
    "print(f\"nbr col: {len(column_list)}, liste: {column_list}\")"
   ]
  },
  {
   "cell_type": "code",
   "execution_count": null,
   "metadata": {},
   "outputs": [],
   "source": [
    "# afficher % de nan / colonne:\n",
    "total_rows = df.shape[0]\n",
    "nan_counts = df.isna().sum()\n",
    "nan_percentage = (nan_counts / total_rows) * 100\n",
    "nan_df = pd.DataFrame({'column_name': nan_percentage.index, 'percentage_nan': nan_percentage.values})\n",
    "\n",
    "nan_percent_range = [(0, 10), (10, 20), (20, 30), (30, 40), (40, 50), (50, 60), (60, 70), (70, 80), (80, 90), (90, 100)]\n",
    "grouped = nan_df.groupby(pd.cut(nan_df['percentage_nan'], bins=[tranche[0] for tranche in nan_percent_range + [(100,)]]))\n",
    "\n",
    "for tranche, group in grouped:\n",
    "    print(f\"range {tranche}:\")\n",
    "    print(group['column_name'].tolist())\n",
    "    print()"
   ]
  },
  {
   "cell_type": "markdown",
   "metadata": {},
   "source": [
    "# Traitement des données "
   ]
  },
  {
   "cell_type": "code",
   "execution_count": null,
   "metadata": {},
   "outputs": [],
   "source": [
    "# récupérer les colonnes intéressantes \n",
    "col_classi = [\n",
    "    'product_name',\n",
    "    'pnns_groups_1',\n",
    "    'pnns_groups_2',\n",
    "    'energy-kcal_100g',\n",
    "    'fat_100g',\n",
    "    'saturated-fat_100g',\n",
    "    'carbohydrates_100g',\n",
    "    'sugars_100g',\n",
    "    'proteins_100g',\n",
    "    'salt_100g',\n",
    "    'sodium_100g',\n",
    "    'brands_tags',\n",
    "    'image_url'\n",
    "]\n",
    "cat_df = df[col_classi] \n",
    "cat_df.tail(3)"
   ]
  },
  {
   "cell_type": "code",
   "execution_count": null,
   "metadata": {},
   "outputs": [],
   "source": [
    "# renommer les colonnes \n",
    "rename_col = {\n",
    "    'pnns_groups_1': 'pnns1',\n",
    "    'energy-kcal_100g': 'kcal', \n",
    "    'fat_100g': 'fat',\n",
    "    'saturated-fat_100g': 'sat_fat',\n",
    "    'carbohydrates_100g': 'carbohyd',\n",
    "    'sugars_100g': 'sugar',\n",
    "    'proteins_100g': 'prot',\n",
    "    'salt_100g': 'salt',\n",
    "    'sodium_100g': 'sodium',\n",
    "    'brands_tags': 'brand',\n",
    "    'pnns_groups_2': 'pnns2',\n",
    "    'image_url': 'img_url',\n",
    "    'product_name': 'name',\n",
    "}\n",
    "cat_df = cat_df.rename(columns=rename_col)\n",
    "cat_df.tail(3)"
   ]
  },
  {
   "cell_type": "code",
   "execution_count": null,
   "metadata": {},
   "outputs": [],
   "source": [
    "# suppresion des lignes où pnns2 = unknow ou NaN\n",
    "cat_df = cat_df.dropna(subset = [\"pnns2\"])\n",
    "cat_df = cat_df[cat_df['pnns2'] != 'unknown']\n",
    "\n",
    "# mélange des lignes aléatoirement \n",
    "cat_df = cat_df.sample(frac=1).reset_index(drop=True)\n",
    "\n",
    "cat_df.tail(3)"
   ]
  },
  {
   "cell_type": "code",
   "execution_count": null,
   "metadata": {},
   "outputs": [],
   "source": [
    "# afficher les lignes pour les quelles url img et nom produit ne sont pas vides au même moment  \n",
    "result = cat_df[cat_df['img_url'].isna() & cat_df['name'].notna()]\n",
    "result.head(5)"
   ]
  },
  {
   "cell_type": "code",
   "execution_count": null,
   "metadata": {},
   "outputs": [],
   "source": [
    "# normalisation des données numériques \n",
    "# supprimer toutes les valeurs < 0 et > 100\n",
    "col_to_norm = ['kcal', 'fat', 'sat_fat', 'carbohyd', 'sugar', 'prot', 'salt', 'sodium']\n",
    "scaler = MinMaxScaler()\n",
    "cat_df[col_to_norm] = scaler.fit_transform(cat_df[col_to_norm])\n",
    "cat_df.tail(3)"
   ]
  },
  {
   "cell_type": "markdown",
   "metadata": {},
   "source": [
    "# Génération df predict catégories"
   ]
  },
  {
   "cell_type": "code",
   "execution_count": null,
   "metadata": {},
   "outputs": [],
   "source": [
    "# split des df de train, test et valid\n",
    "cat_train_df, cat_test_df = train_test_split(cat_df, test_size=0.1, random_state=42)\n",
    "cat_train_df, cat_valid_df = train_test_split(cat_train_df, test_size=0.05, random_state=42) \n",
    "\n",
    "# sauvegarde au format csv \n",
    "cat_train_df.to_csv(project_path + f'data/cat_train_df_{file_nbr}.csv', index=False, sep=\";\")\n",
    "cat_test_df.to_csv(project_path + f'data/cat_test_df_{file_nbr}.csv', index=False, sep=\";\")\n",
    "cat_valid_df.to_csv(project_path + f'data/cat_valid_df_{file_nbr}.csv', index=False, sep=\";\")"
   ]
  },
  {
   "cell_type": "code",
   "execution_count": null,
   "metadata": {},
   "outputs": [],
   "source": []
  }
 ],
 "metadata": {
  "kernelspec": {
   "display_name": "greenIa",
   "language": "python",
   "name": "greenia"
  },
  "language_info": {
   "codemirror_mode": {
    "name": "ipython",
    "version": 3
   },
   "file_extension": ".py",
   "mimetype": "text/x-python",
   "name": "python",
   "nbconvert_exporter": "python",
   "pygments_lexer": "ipython3",
   "version": "3.10.14"
  }
 },
 "nbformat": 4,
 "nbformat_minor": 2
}
