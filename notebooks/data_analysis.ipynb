{
 "cells": [
  {
   "cell_type": "code",
   "execution_count": 41,
   "metadata": {},
   "outputs": [],
   "source": [
    "import pandas as pd\n",
    "import numpy as np\n",
    "import json\n",
    "import os\n",
    "import warnings\n",
    "from datetime import datetime \n",
    "from collections import OrderedDict\n",
    "from collections import Counter\n",
    "import plotly.express as px\n",
    "from collections import defaultdict\n",
    "import plotly.graph_objects as go\n",
    "\n",
    "\n",
    "pd.set_option('display.max_rows', 100)\n",
    "pd.set_option('display.max_colwidth', None)\n",
    "\n",
    "warnings.filterwarnings(\"ignore\", category=pd.errors.DtypeWarning)"
   ]
  },
  {
   "cell_type": "code",
   "execution_count": 42,
   "metadata": {},
   "outputs": [],
   "source": [
    "chunk_size = 1000\n",
    "file_id = '02'\n",
    "project_path = \"/home/carolus/Documents/school/green_ia/\" \n",
    "jsonl_02 = project_path + 'data/' + file_id + '_openfoodfacts_02.jsonl' \n",
    "jsonl_sample = project_path + 'data/' + file_id + \"_openfoodfacts_sample.jsonl\"\n",
    "# récupérer la date du jour \n",
    "current_date_time = datetime.now()\n",
    "date_format = \"%d/%m/%Y %H:%M:%S.%f\"\n",
    "start_date = current_date_time.strftime(\"%d/%m/%Y %H:%M:%S.%f\")[:-3]\n",
    "date_code = current_date_time.strftime('%d%m%Y%H%M%S') + f\"{current_date_time.microsecond // 1000:03d}\""
   ]
  },
  {
   "cell_type": "code",
   "execution_count": 43,
   "metadata": {},
   "outputs": [],
   "source": [
    "def add_logs(logData):\n",
    "    print(logData)\n",
    "    #with open(f\"{project_path}logs/03_analysis_{date_code}_logs.txt\", \"a\") as logFile:\n",
    "     #   logFile.write(f'{logData}\\n')"
   ]
  },
  {
   "cell_type": "code",
   "execution_count": 44,
   "metadata": {},
   "outputs": [
    {
     "name": "stdout",
     "output_type": "stream",
     "text": [
      "jsonl format valid: /home/carolus/Documents/school/green_ia/data/02_openfoodfacts_02.jsonl\n"
     ]
    }
   ],
   "source": [
    "# verifie la validité de la structure du fichier jsonl\n",
    "with open(jsonl_02, 'r') as file:\n",
    "    for line in file:\n",
    "        try:\n",
    "            json_object = json.loads(line)\n",
    "        except json.JSONDecodeError as e:\n",
    "            add_logs(f\"ERROR decoding jsonl: {e}\")\n",
    "\n",
    "add_logs(f\"jsonl format valid: {jsonl_02}\")"
   ]
  },
  {
   "cell_type": "markdown",
   "metadata": {},
   "source": [
    "# COUNTRIES:"
   ]
  },
  {
   "cell_type": "code",
   "execution_count": 45,
   "metadata": {},
   "outputs": [
    {
     "name": "stdout",
     "output_type": "stream",
     "text": [
      "france: 32.92%\n",
      "united states: 22.05%\n",
      "None: 11.52%\n",
      "world: 1.01%\n",
      "bolivia: 0.05%\n",
      "mexico: 0.20%\n",
      "new zealand: 0.03%\n",
      "belgium: 2.35%\n",
      "danemark: 0.00%\n",
      "norway: 0.04%\n",
      "poland: 0.25%\n",
      "austria: 0.03%\n",
      "hungary: 0.02%\n",
      "czech republic: 0.04%\n",
      "thailand: 0.05%\n",
      "egypt: 0.00%\n",
      "japan: 0.03%\n",
      "croatia: 0.01%\n",
      "europe: 0.01%\n",
      "luxembourg: 0.01%\n",
      "argentina: 0.01%\n",
      "morocco: 0.03%\n",
      "spain: 6.66%\n",
      "costa rica: 0.00%\n",
      "moldavia: 0.00%\n",
      "sweden: 0.07%\n",
      "russia: 0.09%\n",
      "netherlands: 0.56%\n",
      "finland: 0.02%\n",
      "united kingdom: 2.67%\n",
      "saudi arabia: 0.01%\n",
      "lebanon: 0.00%\n",
      "philippines: 0.01%\n",
      "malaysia: 0.00%\n",
      "guyana: 0.00%\n",
      "barbados: 0.00%\n",
      "french polynesia: 0.01%\n",
      "brazil: 0.08%\n",
      "haiti: 0.00%\n",
      "bahrain: 0.00%\n",
      "colombia: 0.00%\n",
      "oman: 0.00%\n",
      "dominican republic: 0.00%\n",
      "greece: 0.01%\n",
      "kuwait: 0.00%\n",
      "hong kong: 0.01%\n",
      "puerto rico: 0.00%\n",
      "united arab emirates: 0.00%\n",
      "ireland: 0.38%\n",
      "singapore: 0.02%\n",
      "panama: 0.01%\n",
      "germany: 7.67%\n",
      "italy: 5.52%\n",
      "angola: 0.00%\n",
      "canada: 1.10%\n",
      "taiwan: 0.00%\n",
      ": 0.10%\n",
      "burkina faso: 0.00%\n",
      "vietnam: 0.00%\n",
      "israel: 0.00%\n",
      "china: 0.01%\n",
      "bulgaria: 0.04%\n",
      "ascension island: 0.00%\n",
      "ivory coast: 0.01%\n",
      "uruguay: 0.01%\n",
      "algeria: 0.02%\n",
      "saint pierre and miquelon: 0.00%\n",
      "mauritius: 0.00%\n",
      "indonesia: 0.01%\n",
      "armenia: 0.00%\n",
      "india: 0.07%\n",
      "australia: 0.66%\n",
      "switzerland: 2.78%\n",
      "south korea: 0.00%\n",
      "south africa: 0.01%\n",
      "ecuador: 0.00%\n",
      "chile: 0.01%\n",
      "peru: 0.00%\n",
      "salvador: 0.01%\n",
      "guatemala: 0.00%\n",
      "honduras: 0.00%\n",
      "nicaragua: 0.00%\n",
      "cambodia: 0.00%\n",
      "romania: 0.06%\n",
      "portugal: 0.09%\n",
      "denmark: 0.02%\n",
      "jordan: 0.00%\n",
      "serbia: 0.02%\n",
      "iraq: 0.00%\n",
      "togo: 0.00%\n",
      "french guiana: 0.01%\n",
      "somalia: 0.00%\n",
      "pakistan: 0.00%\n",
      "cyprus: 0.00%\n",
      "paraguay: 0.02%\n",
      "senegal: 0.00%\n",
      "suriname: 0.00%\n",
      "reunion: 0.02%\n",
      "slovakia: 0.01%\n",
      "dominica: 0.00%\n",
      "latvia: 0.01%\n",
      "lithuania: 0.05%\n",
      "ussr: 0.00%\n",
      "estonia: 0.01%\n",
      "slovenia: 0.01%\n",
      "france  switzerland  germany: 0.00%\n",
      "albania: 0.00%\n",
      "nigeria: 0.00%\n",
      "bosnia and herzegovina: 0.01%\n",
      "iran: 0.00%\n",
      "tunisia: 0.02%\n",
      "mali: 0.00%\n",
      "martinique: 0.00%\n",
      "monaco: 0.00%\n",
      "gabon: 0.00%\n",
      "afghanistan: 0.01%\n",
      "saint martin: 0.00%\n",
      "belarus: 0.00%\n",
      "kazakhstan: 0.00%\n",
      "republic of the congo: 0.00%\n",
      "andorra: 0.00%\n",
      "ukraine: 0.00%\n",
      "djibouti: 0.00%\n",
      "democratic republic of the congo: 0.00%\n",
      "liechtenstein: 0.00%\n",
      "vanuatu: 0.00%\n",
      "cameroon: 0.00%\n",
      "mongolia: 0.00%\n",
      "none: 0.23%\n",
      "england: 0.01%\n",
      "turkey: 0.00%\n",
      "mauritania: 0.00%\n",
      "qatar: 0.00%\n",
      "georgia: 0.00%\n",
      "east germany: 0.00%\n",
      "moldova: 0.00%\n",
      "eswatini: 0.00%\n",
      "kosovo: 0.00%\n",
      "kyrgyzstan: 0.00%\n",
      "uzbekistan: 0.00%\n",
      "mozambique: 0.00%\n",
      "cape verde: 0.00%\n",
      "sudan: 0.00%\n",
      "montenegro: 0.00%\n",
      "libya: 0.00%\n",
      "iceland: 0.00%\n",
      "bahrein: 0.00%\n",
      "ghana: 0.00%\n",
      "malta: 0.00%\n",
      "benin: 0.00%\n",
      "niger: 0.00%\n",
      "botswana: 0.00%\n",
      "chad: 0.00%\n",
      "central african republic: 0.00%\n",
      "syria: 0.00%\n",
      "yemen: 0.00%\n",
      "el salvador: 0.00%\n",
      "sri lanka: 0.00%\n",
      "benelux: 0.00%\n",
      "ریاستہائے متحدہ امریکہ: 0.00%\n",
      "north macedonia: 0.00%\n",
      "venezuela: 0.00%\n",
      "aruba: 0.00%\n",
      "jamaica: 0.00%\n",
      "cuba: 0.00%\n",
      "north korea: 0.00%\n",
      "burundi: 0.00%\n",
      "maldives: 0.00%\n",
      "palestine: 0.00%\n",
      "myanmar: 0.00%\n",
      "timor-leste: 0.00%\n",
      "wallis and futuna: 0.00%\n",
      "azerbaijan: 0.00%\n",
      "anguilla: 0.00%\n",
      "nepal: 0.00%\n",
      "saint lucia: 0.00%\n",
      "rwanda: 0.00%\n",
      "namibia: 0.00%\n",
      "british indian ocean territory: 0.00%\n",
      "fra: 0.00%\n",
      "sn: 0.00%\n",
      "ประเทศเวียดนาม: 0.00%\n",
      "нова каледония: 0.00%\n",
      "yugoslavia: 0.00%\n",
      "францыя: 0.00%\n",
      "trinidad and tobago: 0.00%\n",
      "macau: 0.00%\n",
      "middle east: 0.00%\n",
      "grenada: 0.00%\n",
      "brunei: 0.00%\n",
      "soviet union: 0.00%\n",
      "abkhazia: 0.00%\n",
      "republic of ireland: 0.00%\n",
      "saint: 0.00%\n",
      "unknown: 0.00%\n",
      "tajikistan: 0.00%\n",
      "bhutan: 0.00%\n",
      "madagascar: 0.00%\n",
      "christmas island: 0.00%\n",
      "?: 0.00%\n",
      "american samoa: 0.00%\n",
      "caribbean netherlands: 0.00%\n",
      "curaçao: 0.00%\n",
      "sint maarten: 0.00%\n",
      "bahamas: 0.00%\n",
      "saint vincent and the grenadines: 0.00%\n",
      "asia: 0.00%\n",
      "lesotho: 0.00%\n",
      "middle east and africa: 0.00%\n",
      "zambia: 0.00%\n",
      "latin america: 0.00%\n",
      "bermuda: 0.00%\n",
      "الكويت: 0.00%\n",
      "السعودية: 0.00%\n",
      "america: 0.00%\n",
      "laos: 0.00%\n",
      "aland islands: 0.00%\n",
      "liberia: 0.00%\n",
      "san marino: 0.00%\n",
      "isle of man: 0.00%\n",
      "spanish: 0.00%\n",
      "sierra leone: 0.00%\n",
      "belize: 0.00%\n",
      ":: 0.00%\n",
      "bonaire: 0.00%\n",
      "people's republic of china: 0.00%\n",
      "fiji: 0.00%\n",
      "iraqi kurdistan: 0.00%\n",
      "south sudan: 0.00%\n",
      "bangladesh: 0.00%\n",
      "guam: 0.00%\n",
      "turks and caicos islands: 0.00%\n",
      "west africa: 0.00%\n"
     ]
    }
   ],
   "source": [
    "# retourne une liste des pays présents dans le fichier\n",
    "def extract_countries_from_jsonl(file_path):\n",
    "    countries = []\n",
    "    with open(file_path, 'r', encoding='utf-8') as file:\n",
    "        for line in file:\n",
    "            try:\n",
    "                record = json.loads(line)\n",
    "                country = record.get('countries')\n",
    "                if country is not None:\n",
    "                    countries.append(country)\n",
    "            except json.JSONDecodeError:\n",
    "                print(f\"WARNING line: {line} in {file_path}\")    \n",
    "    return countries\n",
    "countries_list = extract_countries_from_jsonl(jsonl_02)\n",
    "\n",
    "separated_countries = []\n",
    "for entry in countries_list:\n",
    "    countries = [country.strip() for country in entry.split(',')]\n",
    "    separated_countries.extend(countries)\n",
    "\n",
    "country_counts = Counter(separated_countries)\n",
    "total_countries = sum(country_counts.values())\n",
    "\n",
    "data_graph_countries = []\n",
    "for country, count in country_counts.items():\n",
    "    percentage = (count / total_countries) * 100\n",
    "    print(f\"{country}: {percentage:.2f}%\")\n",
    "    data_graph_countries.append({'countries': country, 'percentage': percentage})"
   ]
  },
  {
   "cell_type": "code",
   "execution_count": 46,
   "metadata": {},
   "outputs": [
    {
     "data": {
      "application/vnd.plotly.v1+json": {
       "config": {
        "plotlyServerURL": "https://plot.ly"
       },
       "data": [
        {
         "branchvalues": "total",
         "customdata": [
          [
           0.10046533977390558
          ],
          [
           0.00006322551275890847
          ],
          [
           0.00006322551275890847
          ],
          [
           11.518423914417946
          ],
          [
           0.00006322551275890847
          ],
          [
           0.0060696492248552125
          ],
          [
           0.00031612756379454233
          ],
          [
           0.003603854227257783
          ],
          [
           0.017513467034217647
          ],
          [
           0.00006322551275890847
          ],
          [
           0.0001896765382767254
          ],
          [
           0.0037935307655345084
          ],
          [
           0.0001896765382767254
          ],
          [
           0.00012645102551781694
          ],
          [
           0.0060696492248552125
          ],
          [
           0.0016438633317316204
          ],
          [
           0.0008219316658658102
          ],
          [
           0.00006322551275890847
          ],
          [
           0.00006322551275890847
          ],
          [
           0.6552692142333274
          ],
          [
           0.033635972787739304
          ],
          [
           0.0003793530765534508
          ],
          [
           0.0002529020510356339
          ],
          [
           0.0006322551275890847
          ],
          [
           0.00006322551275890847
          ],
          [
           0.0001896765382767254
          ],
          [
           0.00044257858931235933
          ],
          [
           0.002845148074150881
          ],
          [
           2.3518626236058773
          ],
          [
           0.00006322551275890847
          ],
          [
           0.0005690296148301762
          ],
          [
           0.00044257858931235933
          ],
          [
           0.00006322551275890847
          ],
          [
           0.0003793530765534508
          ],
          [
           0.048936546875395164
          ],
          [
           0.00006322551275890847
          ],
          [
           0.007018031916238841
          ],
          [
           0.0001896765382767254
          ],
          [
           0.08244606863761665
          ],
          [
           0.00006322551275890847
          ],
          [
           0.00031612756379454233
          ],
          [
           0.041602387395361776
          ],
          [
           0.0015174123062138031
          ],
          [
           0.00006322551275890847
          ],
          [
           0.0008851571786247187
          ],
          [
           0.0009483826913836271
          ],
          [
           1.0980374800839636
          ],
          [
           0.00012645102551781694
          ],
          [
           0.00012645102551781694
          ],
          [
           0.00012645102551781694
          ],
          [
           0.0001896765382767254
          ],
          [
           0.007650287043827925
          ],
          [
           0.008535444222452645
          ],
          [
           0.00006322551275890847
          ],
          [
           0.0023393439720796137
          ],
          [
           0.003603854227257783
          ],
          [
           0.010179307554184265
          ],
          [
           0.0013909612806959864
          ],
          [
           0.0005690296148301762
          ],
          [
           0.0026554715358741558
          ],
          [
           0.04191851495915632
          ],
          [
           0.0042993348676057756
          ],
          [
           0.0005058041020712678
          ],
          [
           0.020042487544573988
          ],
          [
           0.0002529020510356339
          ],
          [
           0.00044257858931235933
          ],
          [
           0.002276118459320705
          ],
          [
           0.00031612756379454233
          ],
          [
           0.0018967653827672542
          ],
          [
           0.001201284742419261
          ],
          [
           0.00031612756379454233
          ],
          [
           0.006006423712096305
          ],
          [
           0.005184492046230495
          ],
          [
           0.0003793530765534508
          ],
          [
           0.011886396398674793
          ],
          [
           0.00012645102551781694
          ],
          [
           0.015616701651450392
          ],
          [
           0.00006322551275890847
          ],
          [
           32.92342125894641
          ],
          [
           0.00012645102551781694
          ],
          [
           0.007144482941756658
          ],
          [
           0.0074606105055512
          ],
          [
           0.0007587061531069016
          ],
          [
           0.0014541867934548952
          ],
          [
           7.67146759060216
          ],
          [
           0.0009483826913836271
          ],
          [
           0.009294150375559546
          ],
          [
           0.00006322551275890847
          ],
          [
           0.00012645102551781694
          ],
          [
           0.0030348246124276062
          ],
          [
           0.00031612756379454233
          ],
          [
           0.0013277357679370779
          ],
          [
           0.0032245011507043325
          ],
          [
           0.007334159480033383
          ],
          [
           0.021370223312511066
          ],
          [
           0.0012645102551781693
          ],
          [
           0.07359449685136947
          ],
          [
           0.0053109430717483115
          ],
          [
           0.0007587061531069016
          ],
          [
           0.0017703143572494373
          ],
          [
           0.0001896765382767254
          ],
          [
           0.3761285754027466
          ],
          [
           0.00006322551275890847
          ],
          [
           0.0010748337169014439
          ],
          [
           5.520219518980299
          ],
          [
           0.00828254217141701
          ],
          [
           0.0008851571786247187
          ],
          [
           0.027629549075643002
          ],
          [
           0.0007587061531069016
          ],
          [
           0.0016438633317316204
          ],
          [
           0.0006322551275890847
          ],
          [
           0.0013277357679370779
          ],
          [
           0.0005690296148301762
          ],
          [
           0.00006322551275890847
          ],
          [
           0.00006322551275890847
          ],
          [
           0.0051212665334715865
          ],
          [
           0.002023216408285071
          ],
          [
           0.00006322551275890847
          ],
          [
           0.00006322551275890847
          ],
          [
           0.0006322551275890847
          ],
          [
           0.0003793530765534508
          ],
          [
           0.05184492046230495
          ],
          [
           0.007334159480033383
          ],
          [
           0.0001896765382767254
          ],
          [
           0.00006322551275890847
          ],
          [
           0.002845148074150881
          ],
          [
           0.0001896765382767254
          ],
          [
           0.0008851571786247187
          ],
          [
           0.0013277357679370779
          ],
          [
           0.0016438633317316204
          ],
          [
           0.00044257858931235933
          ],
          [
           0.0015174123062138031
          ],
          [
           0.19897068865228498
          ],
          [
           0.00012645102551781694
          ],
          [
           0.00006322551275890847
          ],
          [
           0.0002529020510356339
          ],
          [
           0.0026554715358741558
          ],
          [
           0.0018967653827672542
          ],
          [
           0.0005058041020712678
          ],
          [
           0.004805138969677044
          ],
          [
           0.034457904453605116
          ],
          [
           0.0007587061531069016
          ],
          [
           0.0003793530765534508
          ],
          [
           0.0001896765382767254
          ],
          [
           0.00044257858931235933
          ],
          [
           0.5635289952201512
          ],
          [
           0.034268227915328395
          ],
          [
           0.0041096583293290505
          ],
          [
           0.00031612756379454233
          ],
          [
           0.0003793530765534508
          ],
          [
           0.22824410105965962
          ],
          [
           0.00006322551275890847
          ],
          [
           0.002402569484838522
          ],
          [
           0.0350901595811942
          ],
          [
           0.0006322551275890847
          ],
          [
           0.0008219316658658102
          ],
          [
           0.0003793530765534508
          ],
          [
           0.007650287043827925
          ],
          [
           0.01827217318732455
          ],
          [
           0.00006322551275890847
          ],
          [
           0.0029715990996686983
          ],
          [
           0.01081156268177335
          ],
          [
           0.24638982322146633
          ],
          [
           0.09281505273007763
          ],
          [
           0.0015806378189727117
          ],
          [
           0.0018335398700083457
          ],
          [
           0.00012645102551781694
          ],
          [
           0.00044257858931235933
          ],
          [
           0.018904428314913634
          ],
          [
           0.059748109557168506
          ],
          [
           0.09300472926835436
          ],
          [
           0.0001896765382767254
          ],
          [
           0.00012645102551781694
          ],
          [
           0.0002529020510356339
          ],
          [
           0.0006954806403479932
          ],
          [
           0.001201284742419261
          ],
          [
           0.00006322551275890847
          ],
          [
           0.00663867883968539
          ],
          [
           0.00012645102551781694
          ],
          [
           0.0074606105055512
          ],
          [
           0.003477403201739966
          ],
          [
           0.02497407753976885
          ],
          [
           0.00006322551275890847
          ],
          [
           0.018777977289395818
          ],
          [
           0.00006322551275890847
          ],
          [
           0.011507043322121343
          ],
          [
           0.007713512556586834
          ],
          [
           0.00006322551275890847
          ],
          [
           0.00031612756379454233
          ],
          [
           0.007207708454515566
          ],
          [
           0.0009483826913836271
          ],
          [
           0.00006322551275890847
          ],
          [
           0.00006322551275890847
          ],
          [
           6.65720391492375
          ],
          [
           0.00006322551275890847
          ],
          [
           0.0006322551275890847
          ],
          [
           0.00006322551275890847
          ],
          [
           0.0006954806403479932
          ],
          [
           0.07264611415998583
          ],
          [
           2.779140638830581
          ],
          [
           0.0003793530765534508
          ],
          [
           0.0015174123062138031
          ],
          [
           0.00012645102551781694
          ],
          [
           0.05487974507473256
          ],
          [
           0.00006322551275890847
          ],
          [
           0.0008219316658658102
          ],
          [
           0.0012645102551781693
          ],
          [
           0.01909410485319036
          ],
          [
           0.001707088844490529
          ],
          [
           0.00006322551275890847
          ],
          [
           0.0018335398700083457
          ],
          [
           0.0024657949975974308
          ],
          [
           2.66855921701525
          ],
          [
           22.049834349156573
          ],
          [
           0.0011380592296603524
          ],
          [
           0.009041248324523911
          ],
          [
           0.00012645102551781694
          ],
          [
           0.0003793530765534508
          ],
          [
           0.0001896765382767254
          ],
          [
           0.004362560380364685
          ],
          [
           0.001201284742419261
          ],
          [
           0.0001896765382767254
          ],
          [
           0.00006322551275890847
          ],
          [
           1.0093320856832149
          ],
          [
           0.0005058041020712678
          ],
          [
           0.00012645102551781694
          ],
          [
           0.00012645102551781694
          ],
          [
           0.00006322551275890847
          ],
          [
           0.0002529020510356339
          ],
          [
           0.00031612756379454233
          ],
          [
           0.00012645102551781694
          ],
          [
           0.00006322551275890847
          ],
          [
           0.0002529020510356339
          ]
         ],
         "domain": {
          "x": [
           0,
           1
          ],
          "y": [
           0,
           1
          ]
         },
         "hovertemplate": "labels=%{label}<br>percentage_sum=%{value}<br>parent=%{parent}<br>id=%{id}<br>percentage=%{color}<extra></extra>",
         "ids": [
          "",
          ":",
          "?",
          "None",
          "abkhazia",
          "afghanistan",
          "aland islands",
          "albania",
          "algeria",
          "america",
          "american samoa",
          "andorra",
          "angola",
          "anguilla",
          "argentina",
          "armenia",
          "aruba",
          "ascension island",
          "asia",
          "australia",
          "austria",
          "azerbaijan",
          "bahamas",
          "bahrain",
          "bahrein",
          "bangladesh",
          "barbados",
          "belarus",
          "belgium",
          "belize",
          "benelux",
          "benin",
          "bermuda",
          "bhutan",
          "bolivia",
          "bonaire",
          "bosnia and herzegovina",
          "botswana",
          "brazil",
          "british indian ocean territory",
          "brunei",
          "bulgaria",
          "burkina faso",
          "burundi",
          "cambodia",
          "cameroon",
          "canada",
          "cape verde",
          "caribbean netherlands",
          "central african republic",
          "chad",
          "chile",
          "china",
          "christmas island",
          "colombia",
          "costa rica",
          "croatia",
          "cuba",
          "curaçao",
          "cyprus",
          "czech republic",
          "danemark",
          "democratic republic of the congo",
          "denmark",
          "djibouti",
          "dominica",
          "dominican republic",
          "east germany",
          "ecuador",
          "egypt",
          "el salvador",
          "england",
          "estonia",
          "eswatini",
          "europe",
          "fiji",
          "finland",
          "fra",
          "france",
          "france  switzerland  germany",
          "french guiana",
          "french polynesia",
          "gabon",
          "georgia",
          "germany",
          "ghana",
          "greece",
          "grenada",
          "guam",
          "guatemala",
          "guyana",
          "haiti",
          "honduras",
          "hong kong",
          "hungary",
          "iceland",
          "india",
          "indonesia",
          "iran",
          "iraq",
          "iraqi kurdistan",
          "ireland",
          "isle of man",
          "israel",
          "italy",
          "ivory coast",
          "jamaica",
          "japan",
          "jordan",
          "kazakhstan",
          "kosovo",
          "kuwait",
          "kyrgyzstan",
          "laos",
          "latin america",
          "latvia",
          "lebanon",
          "lesotho",
          "liberia",
          "libya",
          "liechtenstein",
          "lithuania",
          "luxembourg",
          "macau",
          "madagascar",
          "malaysia",
          "maldives",
          "mali",
          "malta",
          "martinique",
          "mauritania",
          "mauritius",
          "mexico",
          "middle east",
          "middle east and africa",
          "moldavia",
          "moldova",
          "monaco",
          "mongolia",
          "montenegro",
          "morocco",
          "mozambique",
          "myanmar",
          "namibia",
          "nepal",
          "netherlands",
          "new zealand",
          "nicaragua",
          "niger",
          "nigeria",
          "none",
          "north korea",
          "north macedonia",
          "norway",
          "oman",
          "pakistan",
          "palestine",
          "panama",
          "paraguay",
          "people's republic of china",
          "peru",
          "philippines",
          "poland",
          "portugal",
          "puerto rico",
          "qatar",
          "republic of ireland",
          "republic of the congo",
          "reunion",
          "romania",
          "russia",
          "rwanda",
          "saint",
          "saint lucia",
          "saint martin",
          "saint pierre and miquelon",
          "saint vincent and the grenadines",
          "salvador",
          "san marino",
          "saudi arabia",
          "senegal",
          "serbia",
          "sierra leone",
          "singapore",
          "sint maarten",
          "slovakia",
          "slovenia",
          "sn",
          "somalia",
          "south africa",
          "south korea",
          "south sudan",
          "soviet union",
          "spain",
          "spanish",
          "sri lanka",
          "sudan",
          "suriname",
          "sweden",
          "switzerland",
          "syria",
          "taiwan",
          "tajikistan",
          "thailand",
          "timor-leste",
          "togo",
          "trinidad and tobago",
          "tunisia",
          "turkey",
          "turks and caicos islands",
          "ukraine",
          "united arab emirates",
          "united kingdom",
          "united states",
          "unknown",
          "uruguay",
          "ussr",
          "uzbekistan",
          "vanuatu",
          "venezuela",
          "vietnam",
          "wallis and futuna",
          "west africa",
          "world",
          "yemen",
          "yugoslavia",
          "zambia",
          "нова каледония",
          "францыя",
          "السعودية",
          "الكويت",
          "ریاستہائے متحدہ امریکہ",
          "ประเทศเวียดนาม"
         ],
         "labels": [
          "",
          ":",
          "?",
          "None",
          "abkhazia",
          "afghanistan",
          "aland islands",
          "albania",
          "algeria",
          "america",
          "american samoa",
          "andorra",
          "angola",
          "anguilla",
          "argentina",
          "armenia",
          "aruba",
          "ascension island",
          "asia",
          "australia",
          "austria",
          "azerbaijan",
          "bahamas",
          "bahrain",
          "bahrein",
          "bangladesh",
          "barbados",
          "belarus",
          "belgium",
          "belize",
          "benelux",
          "benin",
          "bermuda",
          "bhutan",
          "bolivia",
          "bonaire",
          "bosnia and herzegovina",
          "botswana",
          "brazil",
          "british indian ocean territory",
          "brunei",
          "bulgaria",
          "burkina faso",
          "burundi",
          "cambodia",
          "cameroon",
          "canada",
          "cape verde",
          "caribbean netherlands",
          "central african republic",
          "chad",
          "chile",
          "china",
          "christmas island",
          "colombia",
          "costa rica",
          "croatia",
          "cuba",
          "curaçao",
          "cyprus",
          "czech republic",
          "danemark",
          "democratic republic of the congo",
          "denmark",
          "djibouti",
          "dominica",
          "dominican republic",
          "east germany",
          "ecuador",
          "egypt",
          "el salvador",
          "england",
          "estonia",
          "eswatini",
          "europe",
          "fiji",
          "finland",
          "fra",
          "france",
          "france  switzerland  germany",
          "french guiana",
          "french polynesia",
          "gabon",
          "georgia",
          "germany",
          "ghana",
          "greece",
          "grenada",
          "guam",
          "guatemala",
          "guyana",
          "haiti",
          "honduras",
          "hong kong",
          "hungary",
          "iceland",
          "india",
          "indonesia",
          "iran",
          "iraq",
          "iraqi kurdistan",
          "ireland",
          "isle of man",
          "israel",
          "italy",
          "ivory coast",
          "jamaica",
          "japan",
          "jordan",
          "kazakhstan",
          "kosovo",
          "kuwait",
          "kyrgyzstan",
          "laos",
          "latin america",
          "latvia",
          "lebanon",
          "lesotho",
          "liberia",
          "libya",
          "liechtenstein",
          "lithuania",
          "luxembourg",
          "macau",
          "madagascar",
          "malaysia",
          "maldives",
          "mali",
          "malta",
          "martinique",
          "mauritania",
          "mauritius",
          "mexico",
          "middle east",
          "middle east and africa",
          "moldavia",
          "moldova",
          "monaco",
          "mongolia",
          "montenegro",
          "morocco",
          "mozambique",
          "myanmar",
          "namibia",
          "nepal",
          "netherlands",
          "new zealand",
          "nicaragua",
          "niger",
          "nigeria",
          "none",
          "north korea",
          "north macedonia",
          "norway",
          "oman",
          "pakistan",
          "palestine",
          "panama",
          "paraguay",
          "people's republic of china",
          "peru",
          "philippines",
          "poland",
          "portugal",
          "puerto rico",
          "qatar",
          "republic of ireland",
          "republic of the congo",
          "reunion",
          "romania",
          "russia",
          "rwanda",
          "saint",
          "saint lucia",
          "saint martin",
          "saint pierre and miquelon",
          "saint vincent and the grenadines",
          "salvador",
          "san marino",
          "saudi arabia",
          "senegal",
          "serbia",
          "sierra leone",
          "singapore",
          "sint maarten",
          "slovakia",
          "slovenia",
          "sn",
          "somalia",
          "south africa",
          "south korea",
          "south sudan",
          "soviet union",
          "spain",
          "spanish",
          "sri lanka",
          "sudan",
          "suriname",
          "sweden",
          "switzerland",
          "syria",
          "taiwan",
          "tajikistan",
          "thailand",
          "timor-leste",
          "togo",
          "trinidad and tobago",
          "tunisia",
          "turkey",
          "turks and caicos islands",
          "ukraine",
          "united arab emirates",
          "united kingdom",
          "united states",
          "unknown",
          "uruguay",
          "ussr",
          "uzbekistan",
          "vanuatu",
          "venezuela",
          "vietnam",
          "wallis and futuna",
          "west africa",
          "world",
          "yemen",
          "yugoslavia",
          "zambia",
          "нова каледония",
          "францыя",
          "السعودية",
          "الكويت",
          "ریاستہائے متحدہ امریکہ",
          "ประเทศเวียดนาม"
         ],
         "marker": {
          "coloraxis": "coloraxis",
          "colors": [
           0.10046533977390558,
           0.00006322551275890847,
           0.00006322551275890847,
           11.518423914417946,
           0.00006322551275890847,
           0.0060696492248552125,
           0.00031612756379454233,
           0.003603854227257783,
           0.017513467034217647,
           0.00006322551275890847,
           0.0001896765382767254,
           0.0037935307655345084,
           0.0001896765382767254,
           0.00012645102551781694,
           0.0060696492248552125,
           0.0016438633317316204,
           0.0008219316658658102,
           0.00006322551275890847,
           0.00006322551275890847,
           0.6552692142333274,
           0.033635972787739304,
           0.0003793530765534508,
           0.0002529020510356339,
           0.0006322551275890847,
           0.00006322551275890847,
           0.0001896765382767254,
           0.00044257858931235933,
           0.002845148074150881,
           2.3518626236058773,
           0.00006322551275890847,
           0.0005690296148301762,
           0.00044257858931235933,
           0.00006322551275890847,
           0.0003793530765534508,
           0.048936546875395164,
           0.00006322551275890847,
           0.007018031916238841,
           0.0001896765382767254,
           0.08244606863761665,
           0.00006322551275890847,
           0.00031612756379454233,
           0.041602387395361776,
           0.0015174123062138031,
           0.00006322551275890847,
           0.0008851571786247187,
           0.0009483826913836271,
           1.0980374800839636,
           0.00012645102551781694,
           0.00012645102551781694,
           0.00012645102551781694,
           0.0001896765382767254,
           0.007650287043827925,
           0.008535444222452645,
           0.00006322551275890847,
           0.0023393439720796137,
           0.003603854227257783,
           0.010179307554184265,
           0.0013909612806959864,
           0.0005690296148301762,
           0.0026554715358741558,
           0.04191851495915632,
           0.0042993348676057756,
           0.0005058041020712678,
           0.020042487544573988,
           0.0002529020510356339,
           0.00044257858931235933,
           0.002276118459320705,
           0.00031612756379454233,
           0.0018967653827672542,
           0.001201284742419261,
           0.00031612756379454233,
           0.006006423712096305,
           0.005184492046230495,
           0.0003793530765534508,
           0.011886396398674793,
           0.00012645102551781694,
           0.015616701651450392,
           0.00006322551275890847,
           32.92342125894641,
           0.00012645102551781694,
           0.007144482941756658,
           0.0074606105055512,
           0.0007587061531069016,
           0.0014541867934548952,
           7.67146759060216,
           0.0009483826913836271,
           0.009294150375559546,
           0.00006322551275890847,
           0.00012645102551781694,
           0.0030348246124276062,
           0.00031612756379454233,
           0.0013277357679370779,
           0.0032245011507043325,
           0.007334159480033383,
           0.021370223312511066,
           0.0012645102551781693,
           0.07359449685136947,
           0.0053109430717483115,
           0.0007587061531069016,
           0.0017703143572494373,
           0.0001896765382767254,
           0.3761285754027466,
           0.00006322551275890847,
           0.0010748337169014439,
           5.520219518980299,
           0.00828254217141701,
           0.0008851571786247187,
           0.027629549075643002,
           0.0007587061531069016,
           0.0016438633317316204,
           0.0006322551275890847,
           0.0013277357679370779,
           0.0005690296148301762,
           0.00006322551275890847,
           0.00006322551275890847,
           0.0051212665334715865,
           0.002023216408285071,
           0.00006322551275890847,
           0.00006322551275890847,
           0.0006322551275890847,
           0.0003793530765534508,
           0.05184492046230495,
           0.007334159480033383,
           0.0001896765382767254,
           0.00006322551275890847,
           0.002845148074150881,
           0.0001896765382767254,
           0.0008851571786247187,
           0.0013277357679370779,
           0.0016438633317316204,
           0.00044257858931235933,
           0.0015174123062138031,
           0.19897068865228498,
           0.00012645102551781694,
           0.00006322551275890847,
           0.0002529020510356339,
           0.0026554715358741558,
           0.0018967653827672542,
           0.0005058041020712678,
           0.004805138969677044,
           0.034457904453605116,
           0.0007587061531069016,
           0.0003793530765534508,
           0.0001896765382767254,
           0.00044257858931235933,
           0.5635289952201512,
           0.034268227915328395,
           0.0041096583293290505,
           0.00031612756379454233,
           0.0003793530765534508,
           0.22824410105965962,
           0.00006322551275890847,
           0.002402569484838522,
           0.0350901595811942,
           0.0006322551275890847,
           0.0008219316658658102,
           0.0003793530765534508,
           0.007650287043827925,
           0.01827217318732455,
           0.00006322551275890847,
           0.0029715990996686983,
           0.01081156268177335,
           0.24638982322146633,
           0.09281505273007763,
           0.0015806378189727117,
           0.0018335398700083457,
           0.00012645102551781694,
           0.00044257858931235933,
           0.018904428314913634,
           0.059748109557168506,
           0.09300472926835436,
           0.0001896765382767254,
           0.00012645102551781694,
           0.0002529020510356339,
           0.0006954806403479932,
           0.001201284742419261,
           0.00006322551275890847,
           0.00663867883968539,
           0.00012645102551781694,
           0.0074606105055512,
           0.003477403201739966,
           0.02497407753976885,
           0.00006322551275890847,
           0.018777977289395818,
           0.00006322551275890847,
           0.011507043322121343,
           0.007713512556586834,
           0.00006322551275890847,
           0.00031612756379454233,
           0.007207708454515566,
           0.0009483826913836271,
           0.00006322551275890847,
           0.00006322551275890847,
           6.65720391492375,
           0.00006322551275890847,
           0.0006322551275890847,
           0.00006322551275890847,
           0.0006954806403479932,
           0.07264611415998583,
           2.779140638830581,
           0.0003793530765534508,
           0.0015174123062138031,
           0.00012645102551781694,
           0.05487974507473256,
           0.00006322551275890847,
           0.0008219316658658102,
           0.0012645102551781693,
           0.01909410485319036,
           0.001707088844490529,
           0.00006322551275890847,
           0.0018335398700083457,
           0.0024657949975974308,
           2.66855921701525,
           22.049834349156573,
           0.0011380592296603524,
           0.009041248324523911,
           0.00012645102551781694,
           0.0003793530765534508,
           0.0001896765382767254,
           0.004362560380364685,
           0.001201284742419261,
           0.0001896765382767254,
           0.00006322551275890847,
           1.0093320856832149,
           0.0005058041020712678,
           0.00012645102551781694,
           0.00012645102551781694,
           0.00006322551275890847,
           0.0002529020510356339,
           0.00031612756379454233,
           0.00012645102551781694,
           0.00006322551275890847,
           0.0002529020510356339
          ]
         },
         "name": "",
         "parents": [
          "",
          "",
          "",
          "",
          "",
          "",
          "",
          "",
          "",
          "",
          "",
          "",
          "",
          "",
          "",
          "",
          "",
          "",
          "",
          "",
          "",
          "",
          "",
          "",
          "",
          "",
          "",
          "",
          "",
          "",
          "",
          "",
          "",
          "",
          "",
          "",
          "",
          "",
          "",
          "",
          "",
          "",
          "",
          "",
          "",
          "",
          "",
          "",
          "",
          "",
          "",
          "",
          "",
          "",
          "",
          "",
          "",
          "",
          "",
          "",
          "",
          "",
          "",
          "",
          "",
          "",
          "",
          "",
          "",
          "",
          "",
          "",
          "",
          "",
          "",
          "",
          "",
          "",
          "",
          "",
          "",
          "",
          "",
          "",
          "",
          "",
          "",
          "",
          "",
          "",
          "",
          "",
          "",
          "",
          "",
          "",
          "",
          "",
          "",
          "",
          "",
          "",
          "",
          "",
          "",
          "",
          "",
          "",
          "",
          "",
          "",
          "",
          "",
          "",
          "",
          "",
          "",
          "",
          "",
          "",
          "",
          "",
          "",
          "",
          "",
          "",
          "",
          "",
          "",
          "",
          "",
          "",
          "",
          "",
          "",
          "",
          "",
          "",
          "",
          "",
          "",
          "",
          "",
          "",
          "",
          "",
          "",
          "",
          "",
          "",
          "",
          "",
          "",
          "",
          "",
          "",
          "",
          "",
          "",
          "",
          "",
          "",
          "",
          "",
          "",
          "",
          "",
          "",
          "",
          "",
          "",
          "",
          "",
          "",
          "",
          "",
          "",
          "",
          "",
          "",
          "",
          "",
          "",
          "",
          "",
          "",
          "",
          "",
          "",
          "",
          "",
          "",
          "",
          "",
          "",
          "",
          "",
          "",
          "",
          "",
          "",
          "",
          "",
          "",
          "",
          "",
          "",
          "",
          "",
          "",
          "",
          "",
          "",
          "",
          "",
          "",
          "",
          "",
          "",
          "",
          "",
          "",
          "",
          "",
          "",
          "",
          "",
          "",
          "",
          "",
          "",
          "",
          ""
         ],
         "type": "treemap",
         "values": [
          0.10046533977390558,
          0.00006322551275890847,
          0.00006322551275890847,
          11.518423914417946,
          0.00006322551275890847,
          0.006069649224855213,
          0.00031612756379454233,
          0.003603854227257783,
          0.017513467034217647,
          0.00006322551275890847,
          0.00018967653827672542,
          0.0037935307655345084,
          0.00018967653827672542,
          0.00012645102551781694,
          0.006069649224855213,
          0.0016438633317316204,
          0.0008219316658658102,
          0.00006322551275890847,
          0.00006322551275890847,
          0.6552692142333274,
          0.033635972787739304,
          0.00037935307655345083,
          0.0002529020510356339,
          0.0006322551275890847,
          0.00006322551275890847,
          0.00018967653827672542,
          0.00044257858931235933,
          0.002845148074150881,
          2.3518626236058773,
          0.00006322551275890847,
          0.0005690296148301762,
          0.00044257858931235933,
          0.00006322551275890847,
          0.00037935307655345083,
          0.048936546875395164,
          0.00006322551275890847,
          0.007018031916238841,
          0.00018967653827672542,
          0.08244606863761665,
          0.00006322551275890847,
          0.00031612756379454233,
          0.041602387395361776,
          0.0015174123062138033,
          0.00006322551275890847,
          0.0008851571786247187,
          0.0009483826913836271,
          1.0980374800839636,
          0.00012645102551781694,
          0.00012645102551781694,
          0.00012645102551781694,
          0.00018967653827672542,
          0.007650287043827925,
          0.008535444222452645,
          0.00006322551275890847,
          0.0023393439720796137,
          0.003603854227257783,
          0.010179307554184265,
          0.0013909612806959864,
          0.0005690296148301762,
          0.0026554715358741558,
          0.04191851495915632,
          0.0042993348676057756,
          0.0005058041020712678,
          0.020042487544573988,
          0.0002529020510356339,
          0.00044257858931235933,
          0.002276118459320705,
          0.00031612756379454233,
          0.0018967653827672542,
          0.001201284742419261,
          0.00031612756379454233,
          0.006006423712096305,
          0.005184492046230495,
          0.00037935307655345083,
          0.011886396398674793,
          0.00012645102551781694,
          0.015616701651450392,
          0.00006322551275890847,
          32.92342125894641,
          0.00012645102551781694,
          0.007144482941756658,
          0.0074606105055512,
          0.0007587061531069017,
          0.001454186793454895,
          7.67146759060216,
          0.0009483826913836271,
          0.009294150375559546,
          0.00006322551275890847,
          0.00012645102551781694,
          0.0030348246124276067,
          0.00031612756379454233,
          0.0013277357679370779,
          0.0032245011507043325,
          0.007334159480033383,
          0.021370223312511066,
          0.0012645102551781693,
          0.07359449685136947,
          0.0053109430717483115,
          0.0007587061531069017,
          0.0017703143572494373,
          0.00018967653827672542,
          0.3761285754027465,
          0.00006322551275890847,
          0.0010748337169014439,
          5.520219518980299,
          0.00828254217141701,
          0.0008851571786247187,
          0.027629549075643002,
          0.0007587061531069017,
          0.0016438633317316204,
          0.0006322551275890847,
          0.0013277357679370779,
          0.0005690296148301762,
          0.00006322551275890847,
          0.00006322551275890847,
          0.0051212665334715865,
          0.002023216408285071,
          0.00006322551275890847,
          0.00006322551275890847,
          0.0006322551275890847,
          0.00037935307655345083,
          0.05184492046230495,
          0.007334159480033383,
          0.00018967653827672542,
          0.00006322551275890847,
          0.002845148074150881,
          0.00018967653827672542,
          0.0008851571786247187,
          0.0013277357679370779,
          0.0016438633317316204,
          0.00044257858931235933,
          0.0015174123062138033,
          0.19897068865228498,
          0.00012645102551781694,
          0.00006322551275890847,
          0.0002529020510356339,
          0.0026554715358741558,
          0.0018967653827672542,
          0.0005058041020712678,
          0.004805138969677044,
          0.034457904453605116,
          0.0007587061531069017,
          0.00037935307655345083,
          0.00018967653827672542,
          0.00044257858931235933,
          0.5635289952201512,
          0.034268227915328395,
          0.0041096583293290505,
          0.00031612756379454233,
          0.00037935307655345083,
          0.22824410105965962,
          0.00006322551275890847,
          0.002402569484838522,
          0.0350901595811942,
          0.0006322551275890847,
          0.0008219316658658102,
          0.00037935307655345083,
          0.007650287043827925,
          0.01827217318732455,
          0.00006322551275890847,
          0.0029715990996686983,
          0.01081156268177335,
          0.24638982322146633,
          0.09281505273007763,
          0.0015806378189727119,
          0.0018335398700083457,
          0.00012645102551781694,
          0.00044257858931235933,
          0.018904428314913634,
          0.059748109557168506,
          0.09300472926835436,
          0.00018967653827672542,
          0.00012645102551781694,
          0.0002529020510356339,
          0.0006954806403479932,
          0.001201284742419261,
          0.00006322551275890847,
          0.00663867883968539,
          0.00012645102551781694,
          0.0074606105055512,
          0.003477403201739966,
          0.02497407753976885,
          0.00006322551275890847,
          0.018777977289395818,
          0.00006322551275890847,
          0.011507043322121343,
          0.007713512556586834,
          0.00006322551275890847,
          0.00031612756379454233,
          0.007207708454515566,
          0.0009483826913836271,
          0.00006322551275890847,
          0.00006322551275890847,
          6.65720391492375,
          0.00006322551275890847,
          0.0006322551275890847,
          0.00006322551275890847,
          0.0006954806403479932,
          0.07264611415998583,
          2.779140638830581,
          0.00037935307655345083,
          0.0015174123062138033,
          0.00012645102551781694,
          0.05487974507473256,
          0.00006322551275890847,
          0.0008219316658658102,
          0.0012645102551781693,
          0.01909410485319036,
          0.001707088844490529,
          0.00006322551275890847,
          0.0018335398700083457,
          0.0024657949975974308,
          2.66855921701525,
          22.049834349156573,
          0.0011380592296603524,
          0.009041248324523911,
          0.00012645102551781694,
          0.00037935307655345083,
          0.00018967653827672542,
          0.004362560380364685,
          0.001201284742419261,
          0.00018967653827672542,
          0.00006322551275890847,
          1.0093320856832149,
          0.0005058041020712678,
          0.00012645102551781694,
          0.00012645102551781694,
          0.00006322551275890847,
          0.0002529020510356339,
          0.00031612756379454233,
          0.00012645102551781694,
          0.00006322551275890847,
          0.0002529020510356339
         ]
        }
       ],
       "layout": {
        "coloraxis": {
         "colorbar": {
          "title": {
           "text": "percentage"
          }
         },
         "colorscale": [
          [
           0,
           "#000004"
          ],
          [
           0.1111111111111111,
           "#180f3d"
          ],
          [
           0.2222222222222222,
           "#440f76"
          ],
          [
           0.3333333333333333,
           "#721f81"
          ],
          [
           0.4444444444444444,
           "#9e2f7f"
          ],
          [
           0.5555555555555556,
           "#cd4071"
          ],
          [
           0.6666666666666666,
           "#f1605d"
          ],
          [
           0.7777777777777778,
           "#fd9668"
          ],
          [
           0.8888888888888888,
           "#feca8d"
          ],
          [
           1,
           "#fcfdbf"
          ]
         ]
        },
        "font": {
         "color": "white"
        },
        "legend": {
         "tracegroupgap": 0
        },
        "paper_bgcolor": "black",
        "plot_bgcolor": "black",
        "template": {
         "data": {
          "bar": [
           {
            "error_x": {
             "color": "#2a3f5f"
            },
            "error_y": {
             "color": "#2a3f5f"
            },
            "marker": {
             "line": {
              "color": "#E5ECF6",
              "width": 0.5
             },
             "pattern": {
              "fillmode": "overlay",
              "size": 10,
              "solidity": 0.2
             }
            },
            "type": "bar"
           }
          ],
          "barpolar": [
           {
            "marker": {
             "line": {
              "color": "#E5ECF6",
              "width": 0.5
             },
             "pattern": {
              "fillmode": "overlay",
              "size": 10,
              "solidity": 0.2
             }
            },
            "type": "barpolar"
           }
          ],
          "carpet": [
           {
            "aaxis": {
             "endlinecolor": "#2a3f5f",
             "gridcolor": "white",
             "linecolor": "white",
             "minorgridcolor": "white",
             "startlinecolor": "#2a3f5f"
            },
            "baxis": {
             "endlinecolor": "#2a3f5f",
             "gridcolor": "white",
             "linecolor": "white",
             "minorgridcolor": "white",
             "startlinecolor": "#2a3f5f"
            },
            "type": "carpet"
           }
          ],
          "choropleth": [
           {
            "colorbar": {
             "outlinewidth": 0,
             "ticks": ""
            },
            "type": "choropleth"
           }
          ],
          "contour": [
           {
            "colorbar": {
             "outlinewidth": 0,
             "ticks": ""
            },
            "colorscale": [
             [
              0,
              "#0d0887"
             ],
             [
              0.1111111111111111,
              "#46039f"
             ],
             [
              0.2222222222222222,
              "#7201a8"
             ],
             [
              0.3333333333333333,
              "#9c179e"
             ],
             [
              0.4444444444444444,
              "#bd3786"
             ],
             [
              0.5555555555555556,
              "#d8576b"
             ],
             [
              0.6666666666666666,
              "#ed7953"
             ],
             [
              0.7777777777777778,
              "#fb9f3a"
             ],
             [
              0.8888888888888888,
              "#fdca26"
             ],
             [
              1,
              "#f0f921"
             ]
            ],
            "type": "contour"
           }
          ],
          "contourcarpet": [
           {
            "colorbar": {
             "outlinewidth": 0,
             "ticks": ""
            },
            "type": "contourcarpet"
           }
          ],
          "heatmap": [
           {
            "colorbar": {
             "outlinewidth": 0,
             "ticks": ""
            },
            "colorscale": [
             [
              0,
              "#0d0887"
             ],
             [
              0.1111111111111111,
              "#46039f"
             ],
             [
              0.2222222222222222,
              "#7201a8"
             ],
             [
              0.3333333333333333,
              "#9c179e"
             ],
             [
              0.4444444444444444,
              "#bd3786"
             ],
             [
              0.5555555555555556,
              "#d8576b"
             ],
             [
              0.6666666666666666,
              "#ed7953"
             ],
             [
              0.7777777777777778,
              "#fb9f3a"
             ],
             [
              0.8888888888888888,
              "#fdca26"
             ],
             [
              1,
              "#f0f921"
             ]
            ],
            "type": "heatmap"
           }
          ],
          "heatmapgl": [
           {
            "colorbar": {
             "outlinewidth": 0,
             "ticks": ""
            },
            "colorscale": [
             [
              0,
              "#0d0887"
             ],
             [
              0.1111111111111111,
              "#46039f"
             ],
             [
              0.2222222222222222,
              "#7201a8"
             ],
             [
              0.3333333333333333,
              "#9c179e"
             ],
             [
              0.4444444444444444,
              "#bd3786"
             ],
             [
              0.5555555555555556,
              "#d8576b"
             ],
             [
              0.6666666666666666,
              "#ed7953"
             ],
             [
              0.7777777777777778,
              "#fb9f3a"
             ],
             [
              0.8888888888888888,
              "#fdca26"
             ],
             [
              1,
              "#f0f921"
             ]
            ],
            "type": "heatmapgl"
           }
          ],
          "histogram": [
           {
            "marker": {
             "pattern": {
              "fillmode": "overlay",
              "size": 10,
              "solidity": 0.2
             }
            },
            "type": "histogram"
           }
          ],
          "histogram2d": [
           {
            "colorbar": {
             "outlinewidth": 0,
             "ticks": ""
            },
            "colorscale": [
             [
              0,
              "#0d0887"
             ],
             [
              0.1111111111111111,
              "#46039f"
             ],
             [
              0.2222222222222222,
              "#7201a8"
             ],
             [
              0.3333333333333333,
              "#9c179e"
             ],
             [
              0.4444444444444444,
              "#bd3786"
             ],
             [
              0.5555555555555556,
              "#d8576b"
             ],
             [
              0.6666666666666666,
              "#ed7953"
             ],
             [
              0.7777777777777778,
              "#fb9f3a"
             ],
             [
              0.8888888888888888,
              "#fdca26"
             ],
             [
              1,
              "#f0f921"
             ]
            ],
            "type": "histogram2d"
           }
          ],
          "histogram2dcontour": [
           {
            "colorbar": {
             "outlinewidth": 0,
             "ticks": ""
            },
            "colorscale": [
             [
              0,
              "#0d0887"
             ],
             [
              0.1111111111111111,
              "#46039f"
             ],
             [
              0.2222222222222222,
              "#7201a8"
             ],
             [
              0.3333333333333333,
              "#9c179e"
             ],
             [
              0.4444444444444444,
              "#bd3786"
             ],
             [
              0.5555555555555556,
              "#d8576b"
             ],
             [
              0.6666666666666666,
              "#ed7953"
             ],
             [
              0.7777777777777778,
              "#fb9f3a"
             ],
             [
              0.8888888888888888,
              "#fdca26"
             ],
             [
              1,
              "#f0f921"
             ]
            ],
            "type": "histogram2dcontour"
           }
          ],
          "mesh3d": [
           {
            "colorbar": {
             "outlinewidth": 0,
             "ticks": ""
            },
            "type": "mesh3d"
           }
          ],
          "parcoords": [
           {
            "line": {
             "colorbar": {
              "outlinewidth": 0,
              "ticks": ""
             }
            },
            "type": "parcoords"
           }
          ],
          "pie": [
           {
            "automargin": true,
            "type": "pie"
           }
          ],
          "scatter": [
           {
            "fillpattern": {
             "fillmode": "overlay",
             "size": 10,
             "solidity": 0.2
            },
            "type": "scatter"
           }
          ],
          "scatter3d": [
           {
            "line": {
             "colorbar": {
              "outlinewidth": 0,
              "ticks": ""
             }
            },
            "marker": {
             "colorbar": {
              "outlinewidth": 0,
              "ticks": ""
             }
            },
            "type": "scatter3d"
           }
          ],
          "scattercarpet": [
           {
            "marker": {
             "colorbar": {
              "outlinewidth": 0,
              "ticks": ""
             }
            },
            "type": "scattercarpet"
           }
          ],
          "scattergeo": [
           {
            "marker": {
             "colorbar": {
              "outlinewidth": 0,
              "ticks": ""
             }
            },
            "type": "scattergeo"
           }
          ],
          "scattergl": [
           {
            "marker": {
             "colorbar": {
              "outlinewidth": 0,
              "ticks": ""
             }
            },
            "type": "scattergl"
           }
          ],
          "scattermapbox": [
           {
            "marker": {
             "colorbar": {
              "outlinewidth": 0,
              "ticks": ""
             }
            },
            "type": "scattermapbox"
           }
          ],
          "scatterpolar": [
           {
            "marker": {
             "colorbar": {
              "outlinewidth": 0,
              "ticks": ""
             }
            },
            "type": "scatterpolar"
           }
          ],
          "scatterpolargl": [
           {
            "marker": {
             "colorbar": {
              "outlinewidth": 0,
              "ticks": ""
             }
            },
            "type": "scatterpolargl"
           }
          ],
          "scatterternary": [
           {
            "marker": {
             "colorbar": {
              "outlinewidth": 0,
              "ticks": ""
             }
            },
            "type": "scatterternary"
           }
          ],
          "surface": [
           {
            "colorbar": {
             "outlinewidth": 0,
             "ticks": ""
            },
            "colorscale": [
             [
              0,
              "#0d0887"
             ],
             [
              0.1111111111111111,
              "#46039f"
             ],
             [
              0.2222222222222222,
              "#7201a8"
             ],
             [
              0.3333333333333333,
              "#9c179e"
             ],
             [
              0.4444444444444444,
              "#bd3786"
             ],
             [
              0.5555555555555556,
              "#d8576b"
             ],
             [
              0.6666666666666666,
              "#ed7953"
             ],
             [
              0.7777777777777778,
              "#fb9f3a"
             ],
             [
              0.8888888888888888,
              "#fdca26"
             ],
             [
              1,
              "#f0f921"
             ]
            ],
            "type": "surface"
           }
          ],
          "table": [
           {
            "cells": {
             "fill": {
              "color": "#EBF0F8"
             },
             "line": {
              "color": "white"
             }
            },
            "header": {
             "fill": {
              "color": "#C8D4E3"
             },
             "line": {
              "color": "white"
             }
            },
            "type": "table"
           }
          ]
         },
         "layout": {
          "annotationdefaults": {
           "arrowcolor": "#2a3f5f",
           "arrowhead": 0,
           "arrowwidth": 1
          },
          "autotypenumbers": "strict",
          "coloraxis": {
           "colorbar": {
            "outlinewidth": 0,
            "ticks": ""
           }
          },
          "colorscale": {
           "diverging": [
            [
             0,
             "#8e0152"
            ],
            [
             0.1,
             "#c51b7d"
            ],
            [
             0.2,
             "#de77ae"
            ],
            [
             0.3,
             "#f1b6da"
            ],
            [
             0.4,
             "#fde0ef"
            ],
            [
             0.5,
             "#f7f7f7"
            ],
            [
             0.6,
             "#e6f5d0"
            ],
            [
             0.7,
             "#b8e186"
            ],
            [
             0.8,
             "#7fbc41"
            ],
            [
             0.9,
             "#4d9221"
            ],
            [
             1,
             "#276419"
            ]
           ],
           "sequential": [
            [
             0,
             "#0d0887"
            ],
            [
             0.1111111111111111,
             "#46039f"
            ],
            [
             0.2222222222222222,
             "#7201a8"
            ],
            [
             0.3333333333333333,
             "#9c179e"
            ],
            [
             0.4444444444444444,
             "#bd3786"
            ],
            [
             0.5555555555555556,
             "#d8576b"
            ],
            [
             0.6666666666666666,
             "#ed7953"
            ],
            [
             0.7777777777777778,
             "#fb9f3a"
            ],
            [
             0.8888888888888888,
             "#fdca26"
            ],
            [
             1,
             "#f0f921"
            ]
           ],
           "sequentialminus": [
            [
             0,
             "#0d0887"
            ],
            [
             0.1111111111111111,
             "#46039f"
            ],
            [
             0.2222222222222222,
             "#7201a8"
            ],
            [
             0.3333333333333333,
             "#9c179e"
            ],
            [
             0.4444444444444444,
             "#bd3786"
            ],
            [
             0.5555555555555556,
             "#d8576b"
            ],
            [
             0.6666666666666666,
             "#ed7953"
            ],
            [
             0.7777777777777778,
             "#fb9f3a"
            ],
            [
             0.8888888888888888,
             "#fdca26"
            ],
            [
             1,
             "#f0f921"
            ]
           ]
          },
          "colorway": [
           "#636efa",
           "#EF553B",
           "#00cc96",
           "#ab63fa",
           "#FFA15A",
           "#19d3f3",
           "#FF6692",
           "#B6E880",
           "#FF97FF",
           "#FECB52"
          ],
          "font": {
           "color": "#2a3f5f"
          },
          "geo": {
           "bgcolor": "white",
           "lakecolor": "white",
           "landcolor": "#E5ECF6",
           "showlakes": true,
           "showland": true,
           "subunitcolor": "white"
          },
          "hoverlabel": {
           "align": "left"
          },
          "hovermode": "closest",
          "mapbox": {
           "style": "light"
          },
          "paper_bgcolor": "white",
          "plot_bgcolor": "#E5ECF6",
          "polar": {
           "angularaxis": {
            "gridcolor": "white",
            "linecolor": "white",
            "ticks": ""
           },
           "bgcolor": "#E5ECF6",
           "radialaxis": {
            "gridcolor": "white",
            "linecolor": "white",
            "ticks": ""
           }
          },
          "scene": {
           "xaxis": {
            "backgroundcolor": "#E5ECF6",
            "gridcolor": "white",
            "gridwidth": 2,
            "linecolor": "white",
            "showbackground": true,
            "ticks": "",
            "zerolinecolor": "white"
           },
           "yaxis": {
            "backgroundcolor": "#E5ECF6",
            "gridcolor": "white",
            "gridwidth": 2,
            "linecolor": "white",
            "showbackground": true,
            "ticks": "",
            "zerolinecolor": "white"
           },
           "zaxis": {
            "backgroundcolor": "#E5ECF6",
            "gridcolor": "white",
            "gridwidth": 2,
            "linecolor": "white",
            "showbackground": true,
            "ticks": "",
            "zerolinecolor": "white"
           }
          },
          "shapedefaults": {
           "line": {
            "color": "#2a3f5f"
           }
          },
          "ternary": {
           "aaxis": {
            "gridcolor": "white",
            "linecolor": "white",
            "ticks": ""
           },
           "baxis": {
            "gridcolor": "white",
            "linecolor": "white",
            "ticks": ""
           },
           "bgcolor": "#E5ECF6",
           "caxis": {
            "gridcolor": "white",
            "linecolor": "white",
            "ticks": ""
           }
          },
          "title": {
           "x": 0.05
          },
          "xaxis": {
           "automargin": true,
           "gridcolor": "white",
           "linecolor": "white",
           "ticks": "",
           "title": {
            "standoff": 15
           },
           "zerolinecolor": "white",
           "zerolinewidth": 2
          },
          "yaxis": {
           "automargin": true,
           "gridcolor": "white",
           "linecolor": "white",
           "ticks": "",
           "title": {
            "standoff": 15
           },
           "zerolinecolor": "white",
           "zerolinewidth": 2
          }
         }
        },
        "title": {
         "text": "countries treemap"
        }
       }
      }
     },
     "metadata": {},
     "output_type": "display_data"
    }
   ],
   "source": [
    "df = pd.DataFrame(data_graph_countries)\n",
    "fig = px.treemap(df, path=['countries'], values='percentage',\n",
    "                 color='percentage', color_continuous_scale='Magma',\n",
    "                 title='countries treemap')\n",
    "fig.update_layout(\n",
    "    paper_bgcolor='black',  \n",
    "    plot_bgcolor='black',   \n",
    "    font_color='white'      \n",
    ")\n",
    "fig.show()"
   ]
  },
  {
   "cell_type": "markdown",
   "metadata": {},
   "source": [
    "# ECOSCORE GRAD:"
   ]
  },
  {
   "cell_type": "code",
   "execution_count": 47,
   "metadata": {},
   "outputs": [
    {
     "name": "stdout",
     "output_type": "stream",
     "text": [
      "999.0: 42.69%\n",
      "54.0: 0.80%\n",
      "75.0: 1.07%\n",
      "76.0: 0.85%\n",
      "77.0: 1.15%\n",
      "52.0: 0.38%\n",
      "9.0: 0.32%\n",
      "24.0: 0.34%\n",
      "50.0: 0.96%\n",
      "65.0: 0.37%\n",
      "49.0: 1.47%\n",
      "70.0: 0.66%\n",
      "79.0: 4.16%\n",
      "63.0: 0.49%\n",
      "29.0: 0.48%\n",
      "21.0: 1.13%\n",
      "56.0: 0.38%\n",
      "92.0: 0.09%\n",
      "34.0: 2.07%\n",
      "59.0: 0.48%\n",
      "55.0: 0.52%\n",
      "73.0: 0.49%\n",
      "27.0: 1.02%\n",
      "19.0: 0.72%\n",
      "60.0: 0.85%\n",
      "23.0: 0.38%\n",
      "47.0: 0.47%\n",
      "42.0: 1.04%\n",
      "0.0: 1.39%\n",
      "41.0: 0.38%\n",
      "67.0: 2.97%\n",
      "71.0: 0.62%\n",
      "74.0: 0.71%\n",
      "30.0: 0.62%\n",
      "15.0: 0.97%\n",
      "58.0: 0.58%\n",
      "61.0: 0.33%\n",
      "39.0: 1.15%\n",
      "91.0: 0.15%\n",
      "53.0: 0.43%\n",
      "44.0: 0.86%\n",
      "14.0: 0.23%\n",
      "72.0: 2.24%\n",
      "68.0: 0.64%\n",
      "12.0: 0.75%\n",
      "18.0: 0.46%\n",
      "5.0: 0.22%\n",
      "51.0: 0.49%\n",
      "66.0: 0.49%\n",
      "69.0: 0.40%\n",
      "43.0: 0.87%\n",
      "8.0: 0.22%\n",
      "2.0: 0.27%\n",
      "22.0: 0.59%\n",
      "46.0: 0.29%\n",
      "38.0: 0.70%\n",
      "26.0: 0.29%\n",
      "10.0: 0.10%\n",
      "36.0: 0.81%\n",
      "37.0: 0.88%\n",
      "78.0: 0.81%\n",
      "25.0: 0.76%\n",
      "64.0: 0.54%\n",
      "4.0: 0.43%\n",
      "40.0: 0.46%\n",
      "35.0: 0.70%\n",
      "20.0: 0.26%\n",
      "32.0: 0.46%\n",
      "85.0: 0.18%\n",
      "62.0: 0.50%\n",
      "31.0: 0.36%\n",
      "28.0: 0.43%\n",
      "89.0: 0.09%\n",
      "48.0: 0.48%\n",
      "83.0: 0.15%\n",
      "16.0: 0.61%\n",
      "90.0: 0.12%\n",
      "57.0: 0.55%\n",
      "45.0: 0.74%\n",
      "100.0: 0.70%\n",
      "33.0: 0.28%\n",
      "82.0: 0.13%\n",
      "13.0: 0.17%\n",
      "81.0: 0.20%\n",
      "1.0: 0.15%\n",
      "17.0: 0.30%\n",
      "6.0: 0.25%\n",
      "11.0: 0.11%\n",
      "99.0: 0.06%\n",
      "80.0: 0.16%\n",
      "86.0: 0.07%\n",
      "3.0: 0.18%\n",
      "84.0: 0.10%\n",
      "94.0: 0.08%\n",
      "88.0: 0.10%\n",
      "97.0: 0.05%\n",
      "93.0: 0.07%\n",
      "95.0: 0.06%\n",
      "7.0: 0.07%\n",
      "96.0: 0.06%\n",
      "87.0: 0.08%\n",
      "98.0: 0.05%\n",
      "78.4170138324: 0.00%\n"
     ]
    }
   ],
   "source": [
    "# retourne une liste des notes écoscores présentes dans le fichier\n",
    "def extract_grad_ecoscore_from_jsonl(file_path):\n",
    "    ecoscore_grad_list = []\n",
    "    with open(file_path, 'r', encoding='utf-8') as file:\n",
    "        for line in file:\n",
    "            try:\n",
    "                record = json.loads(line)\n",
    "                ecoscore_grad = record.get('ecoscore_note')\n",
    "                if ecoscore_grad is not None:\n",
    "                    ecoscore_grad_list.append(ecoscore_grad)\n",
    "            except json.JSONDecodeError:\n",
    "                print(f\"WARNING line: {line} in {file_path}\")\n",
    "    return ecoscore_grad_list\n",
    "ecoscore_grad_list = extract_grad_ecoscore_from_jsonl(jsonl_02)\n",
    "\n",
    "ecoscore_grad_counts = Counter(ecoscore_grad_list)\n",
    "total_ecoscore_grads = sum(ecoscore_grad_counts.values())\n",
    "data_graph_ecoscore_grad = []\n",
    "for ecoscore_grad, count in ecoscore_grad_counts.items():\n",
    "    percentage = (count / total_ecoscore_grads) * 100\n",
    "    print(f\"{ecoscore_grad}: {percentage:.2f}%\")\n",
    "    data_graph_ecoscore_grad.append({'ecoscore_grad': ecoscore_grad, 'percentage': percentage})"
   ]
  },
  {
   "cell_type": "code",
   "execution_count": 48,
   "metadata": {},
   "outputs": [
    {
     "data": {
      "application/vnd.plotly.v1+json": {
       "config": {
        "plotlyServerURL": "https://plot.ly"
       },
       "data": [
        {
         "branchvalues": "total",
         "customdata": [
          [
           1.3931635590643374
          ],
          [
           0.1500515802307043
          ],
          [
           0.26635576433944624
          ],
          [
           0.18294641055590133
          ],
          [
           0.4258566154842999
          ],
          [
           0.22323014445306483
          ],
          [
           0.2463915152651906
          ],
          [
           0.0689157352385337
          ],
          [
           0.2248642288968651
          ],
          [
           0.31900170228970753
          ],
          [
           0.0984713495263997
          ],
          [
           0.106783866044862
          ],
          [
           0.7506131369021737
          ],
          [
           0.16568195317140266
          ],
          [
           0.22763506773635253
          ],
          [
           0.9671648492805767
          ],
          [
           0.6114317705802279
          ],
          [
           0.3044370365949659
          ],
          [
           0.46209066184682795
          ],
          [
           0.7245388329510997
          ],
          [
           0.25946419081559285
          ],
          [
           1.1253158045805518
          ],
          [
           0.5875599282707976
          ],
          [
           0.38379670284387535
          ],
          [
           0.34145260160452884
          ],
          [
           0.7635437181531152
          ],
          [
           0.2887356165045371
          ],
          [
           1.0166136654929678
          ],
          [
           0.4284143128745961
          ],
          [
           0.48191281662162283
          ],
          [
           0.61654716536082
          ],
          [
           0.35587517299980964
          ],
          [
           0.45939087015707103
          ],
          [
           0.2758050352535957
          ],
          [
           2.0731558291344467
          ],
          [
           0.6998854719946346
          ],
          [
           0.8068114323389575
          ],
          [
           0.8798479022618569
          ],
          [
           0.6965462559573035
          ],
          [
           1.1465589023499554
          ],
          [
           0.46166437894844536
          ],
          [
           0.3776156008173265
          ],
          [
           1.0434694880910766
          ],
          [
           0.8710380556952816
          ],
          [
           0.8645727650698108
          ],
          [
           0.7418743374853288
          ],
          [
           0.29051179524779824
          ],
          [
           0.4670639623279594
          ],
          [
           0.4765842803918392
          ],
          [
           1.4705339051207944
          ],
          [
           0.9633283031951325
          ],
          [
           0.4918594175838854
          ],
          [
           0.37605256352325656
          ],
          [
           0.42699336987998715
          ],
          [
           0.7982147272215733
          ],
          [
           0.5238306349625865
          ],
          [
           0.37775769511678725
          ],
          [
           0.5462104871276774
          ],
          [
           0.577755421607996
          ],
          [
           0.4801366378783616
          ],
          [
           0.8535604568615917
          ],
          [
           0.3347031223801364
          ],
          [
           0.4963353880169036
          ],
          [
           0.49065161603846774
          ],
          [
           0.5381821592081368
          ],
          [
           0.36710062265722027
          ],
          [
           0.4918594175838854
          ],
          [
           2.97311007477002
          ],
          [
           0.6380034045794151
          ],
          [
           0.4032636218700178
          ],
          [
           0.6571861350066358
          ],
          [
           0.6181812498046203
          ],
          [
           2.2356406605679795
          ],
          [
           0.48582040985679736
          ],
          [
           0.7072033284168706
          ],
          [
           1.073238243828134
          ],
          [
           0.8526368439150958
          ],
          [
           1.1489034582910602
          ],
          [
           0.8122110157184713
          ],
          [
           0.00007104714973044712
          ],
          [
           4.1590290980706435
          ],
          [
           0.16077969984000182
          ],
          [
           0.20120552803662622
          ],
          [
           0.12994523685698778
          ],
          [
           0.14571770409714704
          ],
          [
           0.09818716092747791
          ],
          [
           0.18017557171641388
          ],
          [
           0.06827631089095967
          ],
          [
           0.08063851494405748
          ],
          [
           0.09761878372963434
          ],
          [
           0.09207710605065945
          ],
          [
           0.12220109753636904
          ],
          [
           0.1470675999420255
          ],
          [
           0.09065616305605051
          ],
          [
           0.07396008286939544
          ],
          [
           0.08276992943597089
          ],
          [
           0.05904018142600155
          ],
          [
           0.059111228575732
          ],
          [
           0.046891118822095096
          ],
          [
           0.04703321312155599
          ],
          [
           0.0566956254848968
          ],
          [
           0.6967593974064948
          ],
          [
           42.69237436732513
          ]
         ],
         "domain": {
          "x": [
           0,
           1
          ],
          "y": [
           0,
           1
          ]
         },
         "hovertemplate": "labels=%{label}<br>percentage_sum=%{value}<br>parent=%{parent}<br>id=%{id}<br>percentage=%{color}<extra></extra>",
         "ids": [
          "0.0",
          "1.0",
          "2.0",
          "3.0",
          "4.0",
          "5.0",
          "6.0",
          "7.0",
          "8.0",
          "9.0",
          "10.0",
          "11.0",
          "12.0",
          "13.0",
          "14.0",
          "15.0",
          "16.0",
          "17.0",
          "18.0",
          "19.0",
          "20.0",
          "21.0",
          "22.0",
          "23.0",
          "24.0",
          "25.0",
          "26.0",
          "27.0",
          "28.0",
          "29.0",
          "30.0",
          "31.0",
          "32.0",
          "33.0",
          "34.0",
          "35.0",
          "36.0",
          "37.0",
          "38.0",
          "39.0",
          "40.0",
          "41.0",
          "42.0",
          "43.0",
          "44.0",
          "45.0",
          "46.0",
          "47.0",
          "48.0",
          "49.0",
          "50.0",
          "51.0",
          "52.0",
          "53.0",
          "54.0",
          "55.0",
          "56.0",
          "57.0",
          "58.0",
          "59.0",
          "60.0",
          "61.0",
          "62.0",
          "63.0",
          "64.0",
          "65.0",
          "66.0",
          "67.0",
          "68.0",
          "69.0",
          "70.0",
          "71.0",
          "72.0",
          "73.0",
          "74.0",
          "75.0",
          "76.0",
          "77.0",
          "78.0",
          "78.4170138324",
          "79.0",
          "80.0",
          "81.0",
          "82.0",
          "83.0",
          "84.0",
          "85.0",
          "86.0",
          "87.0",
          "88.0",
          "89.0",
          "90.0",
          "91.0",
          "92.0",
          "93.0",
          "94.0",
          "95.0",
          "96.0",
          "97.0",
          "98.0",
          "99.0",
          "100.0",
          "999.0"
         ],
         "labels": [
          "0.0",
          "1.0",
          "2.0",
          "3.0",
          "4.0",
          "5.0",
          "6.0",
          "7.0",
          "8.0",
          "9.0",
          "10.0",
          "11.0",
          "12.0",
          "13.0",
          "14.0",
          "15.0",
          "16.0",
          "17.0",
          "18.0",
          "19.0",
          "20.0",
          "21.0",
          "22.0",
          "23.0",
          "24.0",
          "25.0",
          "26.0",
          "27.0",
          "28.0",
          "29.0",
          "30.0",
          "31.0",
          "32.0",
          "33.0",
          "34.0",
          "35.0",
          "36.0",
          "37.0",
          "38.0",
          "39.0",
          "40.0",
          "41.0",
          "42.0",
          "43.0",
          "44.0",
          "45.0",
          "46.0",
          "47.0",
          "48.0",
          "49.0",
          "50.0",
          "51.0",
          "52.0",
          "53.0",
          "54.0",
          "55.0",
          "56.0",
          "57.0",
          "58.0",
          "59.0",
          "60.0",
          "61.0",
          "62.0",
          "63.0",
          "64.0",
          "65.0",
          "66.0",
          "67.0",
          "68.0",
          "69.0",
          "70.0",
          "71.0",
          "72.0",
          "73.0",
          "74.0",
          "75.0",
          "76.0",
          "77.0",
          "78.0",
          "78.4170138324",
          "79.0",
          "80.0",
          "81.0",
          "82.0",
          "83.0",
          "84.0",
          "85.0",
          "86.0",
          "87.0",
          "88.0",
          "89.0",
          "90.0",
          "91.0",
          "92.0",
          "93.0",
          "94.0",
          "95.0",
          "96.0",
          "97.0",
          "98.0",
          "99.0",
          "100.0",
          "999.0"
         ],
         "marker": {
          "coloraxis": "coloraxis",
          "colors": [
           1.3931635590643374,
           0.1500515802307043,
           0.26635576433944624,
           0.18294641055590133,
           0.4258566154842999,
           0.22323014445306483,
           0.2463915152651906,
           0.0689157352385337,
           0.2248642288968651,
           0.31900170228970753,
           0.0984713495263997,
           0.106783866044862,
           0.7506131369021737,
           0.16568195317140266,
           0.22763506773635253,
           0.9671648492805767,
           0.6114317705802279,
           0.3044370365949659,
           0.46209066184682795,
           0.7245388329510997,
           0.25946419081559285,
           1.1253158045805518,
           0.5875599282707976,
           0.38379670284387535,
           0.34145260160452884,
           0.7635437181531152,
           0.2887356165045371,
           1.0166136654929678,
           0.4284143128745961,
           0.48191281662162283,
           0.61654716536082,
           0.35587517299980964,
           0.45939087015707103,
           0.2758050352535957,
           2.0731558291344467,
           0.6998854719946346,
           0.8068114323389575,
           0.8798479022618569,
           0.6965462559573035,
           1.1465589023499554,
           0.46166437894844536,
           0.3776156008173265,
           1.0434694880910766,
           0.8710380556952816,
           0.8645727650698108,
           0.7418743374853288,
           0.29051179524779824,
           0.4670639623279594,
           0.4765842803918392,
           1.4705339051207944,
           0.9633283031951325,
           0.4918594175838854,
           0.37605256352325656,
           0.42699336987998715,
           0.7982147272215733,
           0.5238306349625865,
           0.37775769511678725,
           0.5462104871276774,
           0.577755421607996,
           0.4801366378783616,
           0.8535604568615917,
           0.3347031223801364,
           0.4963353880169036,
           0.49065161603846774,
           0.5381821592081368,
           0.36710062265722027,
           0.4918594175838854,
           2.97311007477002,
           0.6380034045794151,
           0.4032636218700178,
           0.6571861350066358,
           0.6181812498046203,
           2.2356406605679795,
           0.48582040985679736,
           0.7072033284168706,
           1.073238243828134,
           0.8526368439150958,
           1.1489034582910602,
           0.8122110157184713,
           0.00007104714973044712,
           4.1590290980706435,
           0.16077969984000182,
           0.20120552803662622,
           0.12994523685698778,
           0.14571770409714704,
           0.09818716092747791,
           0.18017557171641388,
           0.06827631089095967,
           0.08063851494405748,
           0.09761878372963434,
           0.09207710605065945,
           0.12220109753636904,
           0.1470675999420255,
           0.09065616305605051,
           0.07396008286939544,
           0.08276992943597089,
           0.05904018142600155,
           0.059111228575732,
           0.046891118822095096,
           0.04703321312155599,
           0.0566956254848968,
           0.6967593974064948,
           42.69237436732513
          ]
         },
         "name": "",
         "parents": [
          "",
          "",
          "",
          "",
          "",
          "",
          "",
          "",
          "",
          "",
          "",
          "",
          "",
          "",
          "",
          "",
          "",
          "",
          "",
          "",
          "",
          "",
          "",
          "",
          "",
          "",
          "",
          "",
          "",
          "",
          "",
          "",
          "",
          "",
          "",
          "",
          "",
          "",
          "",
          "",
          "",
          "",
          "",
          "",
          "",
          "",
          "",
          "",
          "",
          "",
          "",
          "",
          "",
          "",
          "",
          "",
          "",
          "",
          "",
          "",
          "",
          "",
          "",
          "",
          "",
          "",
          "",
          "",
          "",
          "",
          "",
          "",
          "",
          "",
          "",
          "",
          "",
          "",
          "",
          "",
          "",
          "",
          "",
          "",
          "",
          "",
          "",
          "",
          "",
          "",
          "",
          "",
          "",
          "",
          "",
          "",
          "",
          "",
          "",
          "",
          "",
          "",
          ""
         ],
         "type": "treemap",
         "values": [
          1.3931635590643374,
          0.1500515802307043,
          0.26635576433944624,
          0.18294641055590133,
          0.4258566154843,
          0.22323014445306483,
          0.2463915152651906,
          0.0689157352385337,
          0.2248642288968651,
          0.31900170228970753,
          0.0984713495263997,
          0.10678386604486201,
          0.7506131369021738,
          0.16568195317140266,
          0.22763506773635253,
          0.9671648492805767,
          0.6114317705802279,
          0.3044370365949659,
          0.462090661846828,
          0.7245388329510997,
          0.25946419081559285,
          1.1253158045805518,
          0.5875599282707976,
          0.3837967028438753,
          0.34145260160452884,
          0.7635437181531152,
          0.2887356165045371,
          1.0166136654929678,
          0.4284143128745961,
          0.48191281662162283,
          0.61654716536082,
          0.3558751729998096,
          0.45939087015707103,
          0.2758050352535957,
          2.0731558291344467,
          0.6998854719946346,
          0.8068114323389575,
          0.8798479022618569,
          0.6965462559573035,
          1.1465589023499554,
          0.46166437894844536,
          0.3776156008173264,
          1.0434694880910766,
          0.8710380556952816,
          0.8645727650698108,
          0.7418743374853287,
          0.29051179524779824,
          0.4670639623279594,
          0.4765842803918392,
          1.4705339051207944,
          0.9633283031951325,
          0.4918594175838854,
          0.37605256352325656,
          0.42699336987998715,
          0.7982147272215733,
          0.5238306349625865,
          0.3777576951167873,
          0.5462104871276774,
          0.577755421607996,
          0.4801366378783616,
          0.8535604568615917,
          0.3347031223801364,
          0.4963353880169035,
          0.49065161603846774,
          0.5381821592081368,
          0.36710062265722027,
          0.4918594175838854,
          2.9731100747700205,
          0.6380034045794151,
          0.4032636218700178,
          0.6571861350066358,
          0.6181812498046203,
          2.2356406605679795,
          0.48582040985679736,
          0.7072033284168706,
          1.073238243828134,
          0.8526368439150958,
          1.1489034582910602,
          0.8122110157184713,
          0.00007104714973044712,
          4.1590290980706435,
          0.16077969984000182,
          0.20120552803662622,
          0.12994523685698778,
          0.14571770409714704,
          0.09818716092747791,
          0.18017557171641388,
          0.06827631089095967,
          0.08063851494405748,
          0.09761878372963434,
          0.09207710605065945,
          0.12220109753636904,
          0.1470675999420255,
          0.09065616305605051,
          0.07396008286939544,
          0.08276992943597089,
          0.05904018142600155,
          0.059111228575732,
          0.046891118822095096,
          0.04703321312155599,
          0.056695625484896796,
          0.6967593974064948,
          42.69237436732513
         ]
        }
       ],
       "layout": {
        "coloraxis": {
         "colorbar": {
          "title": {
           "text": "percentage"
          }
         },
         "colorscale": [
          [
           0,
           "#000004"
          ],
          [
           0.1111111111111111,
           "#180f3d"
          ],
          [
           0.2222222222222222,
           "#440f76"
          ],
          [
           0.3333333333333333,
           "#721f81"
          ],
          [
           0.4444444444444444,
           "#9e2f7f"
          ],
          [
           0.5555555555555556,
           "#cd4071"
          ],
          [
           0.6666666666666666,
           "#f1605d"
          ],
          [
           0.7777777777777778,
           "#fd9668"
          ],
          [
           0.8888888888888888,
           "#feca8d"
          ],
          [
           1,
           "#fcfdbf"
          ]
         ]
        },
        "font": {
         "color": "white"
        },
        "legend": {
         "tracegroupgap": 0
        },
        "paper_bgcolor": "black",
        "plot_bgcolor": "black",
        "template": {
         "data": {
          "bar": [
           {
            "error_x": {
             "color": "#2a3f5f"
            },
            "error_y": {
             "color": "#2a3f5f"
            },
            "marker": {
             "line": {
              "color": "#E5ECF6",
              "width": 0.5
             },
             "pattern": {
              "fillmode": "overlay",
              "size": 10,
              "solidity": 0.2
             }
            },
            "type": "bar"
           }
          ],
          "barpolar": [
           {
            "marker": {
             "line": {
              "color": "#E5ECF6",
              "width": 0.5
             },
             "pattern": {
              "fillmode": "overlay",
              "size": 10,
              "solidity": 0.2
             }
            },
            "type": "barpolar"
           }
          ],
          "carpet": [
           {
            "aaxis": {
             "endlinecolor": "#2a3f5f",
             "gridcolor": "white",
             "linecolor": "white",
             "minorgridcolor": "white",
             "startlinecolor": "#2a3f5f"
            },
            "baxis": {
             "endlinecolor": "#2a3f5f",
             "gridcolor": "white",
             "linecolor": "white",
             "minorgridcolor": "white",
             "startlinecolor": "#2a3f5f"
            },
            "type": "carpet"
           }
          ],
          "choropleth": [
           {
            "colorbar": {
             "outlinewidth": 0,
             "ticks": ""
            },
            "type": "choropleth"
           }
          ],
          "contour": [
           {
            "colorbar": {
             "outlinewidth": 0,
             "ticks": ""
            },
            "colorscale": [
             [
              0,
              "#0d0887"
             ],
             [
              0.1111111111111111,
              "#46039f"
             ],
             [
              0.2222222222222222,
              "#7201a8"
             ],
             [
              0.3333333333333333,
              "#9c179e"
             ],
             [
              0.4444444444444444,
              "#bd3786"
             ],
             [
              0.5555555555555556,
              "#d8576b"
             ],
             [
              0.6666666666666666,
              "#ed7953"
             ],
             [
              0.7777777777777778,
              "#fb9f3a"
             ],
             [
              0.8888888888888888,
              "#fdca26"
             ],
             [
              1,
              "#f0f921"
             ]
            ],
            "type": "contour"
           }
          ],
          "contourcarpet": [
           {
            "colorbar": {
             "outlinewidth": 0,
             "ticks": ""
            },
            "type": "contourcarpet"
           }
          ],
          "heatmap": [
           {
            "colorbar": {
             "outlinewidth": 0,
             "ticks": ""
            },
            "colorscale": [
             [
              0,
              "#0d0887"
             ],
             [
              0.1111111111111111,
              "#46039f"
             ],
             [
              0.2222222222222222,
              "#7201a8"
             ],
             [
              0.3333333333333333,
              "#9c179e"
             ],
             [
              0.4444444444444444,
              "#bd3786"
             ],
             [
              0.5555555555555556,
              "#d8576b"
             ],
             [
              0.6666666666666666,
              "#ed7953"
             ],
             [
              0.7777777777777778,
              "#fb9f3a"
             ],
             [
              0.8888888888888888,
              "#fdca26"
             ],
             [
              1,
              "#f0f921"
             ]
            ],
            "type": "heatmap"
           }
          ],
          "heatmapgl": [
           {
            "colorbar": {
             "outlinewidth": 0,
             "ticks": ""
            },
            "colorscale": [
             [
              0,
              "#0d0887"
             ],
             [
              0.1111111111111111,
              "#46039f"
             ],
             [
              0.2222222222222222,
              "#7201a8"
             ],
             [
              0.3333333333333333,
              "#9c179e"
             ],
             [
              0.4444444444444444,
              "#bd3786"
             ],
             [
              0.5555555555555556,
              "#d8576b"
             ],
             [
              0.6666666666666666,
              "#ed7953"
             ],
             [
              0.7777777777777778,
              "#fb9f3a"
             ],
             [
              0.8888888888888888,
              "#fdca26"
             ],
             [
              1,
              "#f0f921"
             ]
            ],
            "type": "heatmapgl"
           }
          ],
          "histogram": [
           {
            "marker": {
             "pattern": {
              "fillmode": "overlay",
              "size": 10,
              "solidity": 0.2
             }
            },
            "type": "histogram"
           }
          ],
          "histogram2d": [
           {
            "colorbar": {
             "outlinewidth": 0,
             "ticks": ""
            },
            "colorscale": [
             [
              0,
              "#0d0887"
             ],
             [
              0.1111111111111111,
              "#46039f"
             ],
             [
              0.2222222222222222,
              "#7201a8"
             ],
             [
              0.3333333333333333,
              "#9c179e"
             ],
             [
              0.4444444444444444,
              "#bd3786"
             ],
             [
              0.5555555555555556,
              "#d8576b"
             ],
             [
              0.6666666666666666,
              "#ed7953"
             ],
             [
              0.7777777777777778,
              "#fb9f3a"
             ],
             [
              0.8888888888888888,
              "#fdca26"
             ],
             [
              1,
              "#f0f921"
             ]
            ],
            "type": "histogram2d"
           }
          ],
          "histogram2dcontour": [
           {
            "colorbar": {
             "outlinewidth": 0,
             "ticks": ""
            },
            "colorscale": [
             [
              0,
              "#0d0887"
             ],
             [
              0.1111111111111111,
              "#46039f"
             ],
             [
              0.2222222222222222,
              "#7201a8"
             ],
             [
              0.3333333333333333,
              "#9c179e"
             ],
             [
              0.4444444444444444,
              "#bd3786"
             ],
             [
              0.5555555555555556,
              "#d8576b"
             ],
             [
              0.6666666666666666,
              "#ed7953"
             ],
             [
              0.7777777777777778,
              "#fb9f3a"
             ],
             [
              0.8888888888888888,
              "#fdca26"
             ],
             [
              1,
              "#f0f921"
             ]
            ],
            "type": "histogram2dcontour"
           }
          ],
          "mesh3d": [
           {
            "colorbar": {
             "outlinewidth": 0,
             "ticks": ""
            },
            "type": "mesh3d"
           }
          ],
          "parcoords": [
           {
            "line": {
             "colorbar": {
              "outlinewidth": 0,
              "ticks": ""
             }
            },
            "type": "parcoords"
           }
          ],
          "pie": [
           {
            "automargin": true,
            "type": "pie"
           }
          ],
          "scatter": [
           {
            "fillpattern": {
             "fillmode": "overlay",
             "size": 10,
             "solidity": 0.2
            },
            "type": "scatter"
           }
          ],
          "scatter3d": [
           {
            "line": {
             "colorbar": {
              "outlinewidth": 0,
              "ticks": ""
             }
            },
            "marker": {
             "colorbar": {
              "outlinewidth": 0,
              "ticks": ""
             }
            },
            "type": "scatter3d"
           }
          ],
          "scattercarpet": [
           {
            "marker": {
             "colorbar": {
              "outlinewidth": 0,
              "ticks": ""
             }
            },
            "type": "scattercarpet"
           }
          ],
          "scattergeo": [
           {
            "marker": {
             "colorbar": {
              "outlinewidth": 0,
              "ticks": ""
             }
            },
            "type": "scattergeo"
           }
          ],
          "scattergl": [
           {
            "marker": {
             "colorbar": {
              "outlinewidth": 0,
              "ticks": ""
             }
            },
            "type": "scattergl"
           }
          ],
          "scattermapbox": [
           {
            "marker": {
             "colorbar": {
              "outlinewidth": 0,
              "ticks": ""
             }
            },
            "type": "scattermapbox"
           }
          ],
          "scatterpolar": [
           {
            "marker": {
             "colorbar": {
              "outlinewidth": 0,
              "ticks": ""
             }
            },
            "type": "scatterpolar"
           }
          ],
          "scatterpolargl": [
           {
            "marker": {
             "colorbar": {
              "outlinewidth": 0,
              "ticks": ""
             }
            },
            "type": "scatterpolargl"
           }
          ],
          "scatterternary": [
           {
            "marker": {
             "colorbar": {
              "outlinewidth": 0,
              "ticks": ""
             }
            },
            "type": "scatterternary"
           }
          ],
          "surface": [
           {
            "colorbar": {
             "outlinewidth": 0,
             "ticks": ""
            },
            "colorscale": [
             [
              0,
              "#0d0887"
             ],
             [
              0.1111111111111111,
              "#46039f"
             ],
             [
              0.2222222222222222,
              "#7201a8"
             ],
             [
              0.3333333333333333,
              "#9c179e"
             ],
             [
              0.4444444444444444,
              "#bd3786"
             ],
             [
              0.5555555555555556,
              "#d8576b"
             ],
             [
              0.6666666666666666,
              "#ed7953"
             ],
             [
              0.7777777777777778,
              "#fb9f3a"
             ],
             [
              0.8888888888888888,
              "#fdca26"
             ],
             [
              1,
              "#f0f921"
             ]
            ],
            "type": "surface"
           }
          ],
          "table": [
           {
            "cells": {
             "fill": {
              "color": "#EBF0F8"
             },
             "line": {
              "color": "white"
             }
            },
            "header": {
             "fill": {
              "color": "#C8D4E3"
             },
             "line": {
              "color": "white"
             }
            },
            "type": "table"
           }
          ]
         },
         "layout": {
          "annotationdefaults": {
           "arrowcolor": "#2a3f5f",
           "arrowhead": 0,
           "arrowwidth": 1
          },
          "autotypenumbers": "strict",
          "coloraxis": {
           "colorbar": {
            "outlinewidth": 0,
            "ticks": ""
           }
          },
          "colorscale": {
           "diverging": [
            [
             0,
             "#8e0152"
            ],
            [
             0.1,
             "#c51b7d"
            ],
            [
             0.2,
             "#de77ae"
            ],
            [
             0.3,
             "#f1b6da"
            ],
            [
             0.4,
             "#fde0ef"
            ],
            [
             0.5,
             "#f7f7f7"
            ],
            [
             0.6,
             "#e6f5d0"
            ],
            [
             0.7,
             "#b8e186"
            ],
            [
             0.8,
             "#7fbc41"
            ],
            [
             0.9,
             "#4d9221"
            ],
            [
             1,
             "#276419"
            ]
           ],
           "sequential": [
            [
             0,
             "#0d0887"
            ],
            [
             0.1111111111111111,
             "#46039f"
            ],
            [
             0.2222222222222222,
             "#7201a8"
            ],
            [
             0.3333333333333333,
             "#9c179e"
            ],
            [
             0.4444444444444444,
             "#bd3786"
            ],
            [
             0.5555555555555556,
             "#d8576b"
            ],
            [
             0.6666666666666666,
             "#ed7953"
            ],
            [
             0.7777777777777778,
             "#fb9f3a"
            ],
            [
             0.8888888888888888,
             "#fdca26"
            ],
            [
             1,
             "#f0f921"
            ]
           ],
           "sequentialminus": [
            [
             0,
             "#0d0887"
            ],
            [
             0.1111111111111111,
             "#46039f"
            ],
            [
             0.2222222222222222,
             "#7201a8"
            ],
            [
             0.3333333333333333,
             "#9c179e"
            ],
            [
             0.4444444444444444,
             "#bd3786"
            ],
            [
             0.5555555555555556,
             "#d8576b"
            ],
            [
             0.6666666666666666,
             "#ed7953"
            ],
            [
             0.7777777777777778,
             "#fb9f3a"
            ],
            [
             0.8888888888888888,
             "#fdca26"
            ],
            [
             1,
             "#f0f921"
            ]
           ]
          },
          "colorway": [
           "#636efa",
           "#EF553B",
           "#00cc96",
           "#ab63fa",
           "#FFA15A",
           "#19d3f3",
           "#FF6692",
           "#B6E880",
           "#FF97FF",
           "#FECB52"
          ],
          "font": {
           "color": "#2a3f5f"
          },
          "geo": {
           "bgcolor": "white",
           "lakecolor": "white",
           "landcolor": "#E5ECF6",
           "showlakes": true,
           "showland": true,
           "subunitcolor": "white"
          },
          "hoverlabel": {
           "align": "left"
          },
          "hovermode": "closest",
          "mapbox": {
           "style": "light"
          },
          "paper_bgcolor": "white",
          "plot_bgcolor": "#E5ECF6",
          "polar": {
           "angularaxis": {
            "gridcolor": "white",
            "linecolor": "white",
            "ticks": ""
           },
           "bgcolor": "#E5ECF6",
           "radialaxis": {
            "gridcolor": "white",
            "linecolor": "white",
            "ticks": ""
           }
          },
          "scene": {
           "xaxis": {
            "backgroundcolor": "#E5ECF6",
            "gridcolor": "white",
            "gridwidth": 2,
            "linecolor": "white",
            "showbackground": true,
            "ticks": "",
            "zerolinecolor": "white"
           },
           "yaxis": {
            "backgroundcolor": "#E5ECF6",
            "gridcolor": "white",
            "gridwidth": 2,
            "linecolor": "white",
            "showbackground": true,
            "ticks": "",
            "zerolinecolor": "white"
           },
           "zaxis": {
            "backgroundcolor": "#E5ECF6",
            "gridcolor": "white",
            "gridwidth": 2,
            "linecolor": "white",
            "showbackground": true,
            "ticks": "",
            "zerolinecolor": "white"
           }
          },
          "shapedefaults": {
           "line": {
            "color": "#2a3f5f"
           }
          },
          "ternary": {
           "aaxis": {
            "gridcolor": "white",
            "linecolor": "white",
            "ticks": ""
           },
           "baxis": {
            "gridcolor": "white",
            "linecolor": "white",
            "ticks": ""
           },
           "bgcolor": "#E5ECF6",
           "caxis": {
            "gridcolor": "white",
            "linecolor": "white",
            "ticks": ""
           }
          },
          "title": {
           "x": 0.05
          },
          "xaxis": {
           "automargin": true,
           "gridcolor": "white",
           "linecolor": "white",
           "ticks": "",
           "title": {
            "standoff": 15
           },
           "zerolinecolor": "white",
           "zerolinewidth": 2
          },
          "yaxis": {
           "automargin": true,
           "gridcolor": "white",
           "linecolor": "white",
           "ticks": "",
           "title": {
            "standoff": 15
           },
           "zerolinecolor": "white",
           "zerolinewidth": 2
          }
         }
        },
        "title": {
         "text": "ecoscore grad treemap"
        }
       }
      }
     },
     "metadata": {},
     "output_type": "display_data"
    }
   ],
   "source": [
    "df = pd.DataFrame(data_graph_ecoscore_grad)\n",
    "fig = px.treemap(df, path=['ecoscore_grad'], values='percentage',\n",
    "                 color='percentage', color_continuous_scale='Magma',\n",
    "                 title='ecoscore grad treemap')\n",
    "fig.update_layout(\n",
    "    paper_bgcolor='black',  \n",
    "    plot_bgcolor='black',   \n",
    "    font_color='white'      \n",
    ")\n",
    "fig.show()"
   ]
  },
  {
   "cell_type": "markdown",
   "metadata": {},
   "source": [
    "# ECOSCORE GROUPS:"
   ]
  },
  {
   "cell_type": "code",
   "execution_count": 49,
   "metadata": {},
   "outputs": [
    {
     "name": "stdout",
     "output_type": "stream",
     "text": [
      "z: 42.69%\n",
      "c: 12.63%\n",
      "b: 20.34%\n",
      "e: 7.92%\n",
      "d: 13.69%\n",
      "a: 2.74%\n"
     ]
    }
   ],
   "source": [
    "# retourne une liste des lettres écoscore présentes dans le fichier\n",
    "def extract_groups_ecoscore_from_jsonl(file_path):\n",
    "    ecoscore_groups_list = []\n",
    "    with open(file_path, 'r', encoding='utf-8') as file:\n",
    "        for line in file:\n",
    "            try:\n",
    "                record = json.loads(line)\n",
    "                ecoscore_groups = record.get('ecoscore_groups')\n",
    "                if ecoscore_groups is not None:\n",
    "                    ecoscore_groups_list.append(ecoscore_groups)\n",
    "            except json.JSONDecodeError:\n",
    "                print(f\"WARNING line: {line} in {file_path}\")\n",
    "    return ecoscore_groups_list\n",
    "ecoscore_groups_list = extract_groups_ecoscore_from_jsonl(jsonl_02)\n",
    "\n",
    "ecoscore_groups_counts = Counter(ecoscore_groups_list)\n",
    "total_ecoscore_groups = sum(ecoscore_groups_counts.values())\n",
    "\n",
    "data_graph_ecoscore_groups = []\n",
    "for ecoscore_group, count in ecoscore_groups_counts.items():\n",
    "    percentage = (count / total_ecoscore_groups) * 100\n",
    "    print(f\"{ecoscore_group}: {percentage:.2f}%\")\n",
    "    data_graph_ecoscore_groups.append({'ecoscore_group': ecoscore_group, 'percentage': percentage})\n"
   ]
  },
  {
   "cell_type": "code",
   "execution_count": 50,
   "metadata": {},
   "outputs": [
    {
     "data": {
      "application/vnd.plotly.v1+json": {
       "config": {
        "plotlyServerURL": "https://plot.ly"
       },
       "data": [
        {
         "branchvalues": "total",
         "customdata": [
          [
           2.736736207616823
          ],
          [
           20.336962421741564
          ],
          [
           12.627067827292905
          ],
          [
           13.687233395570637
          ],
          [
           7.9196257804529395
          ],
          [
           42.69237436732513
          ]
         ],
         "domain": {
          "x": [
           0,
           1
          ],
          "y": [
           0,
           1
          ]
         },
         "hovertemplate": "labels=%{label}<br>percentage_sum=%{value}<br>parent=%{parent}<br>id=%{id}<br>percentage=%{color}<extra></extra>",
         "ids": [
          "a",
          "b",
          "c",
          "d",
          "e",
          "z"
         ],
         "labels": [
          "a",
          "b",
          "c",
          "d",
          "e",
          "z"
         ],
         "marker": {
          "coloraxis": "coloraxis",
          "colors": [
           2.736736207616823,
           20.336962421741564,
           12.627067827292905,
           13.687233395570637,
           7.9196257804529395,
           42.69237436732513
          ]
         },
         "name": "",
         "parents": [
          "",
          "",
          "",
          "",
          "",
          ""
         ],
         "type": "treemap",
         "values": [
          2.736736207616823,
          20.336962421741564,
          12.627067827292905,
          13.687233395570637,
          7.9196257804529395,
          42.69237436732513
         ]
        }
       ],
       "layout": {
        "coloraxis": {
         "colorbar": {
          "title": {
           "text": "percentage"
          }
         },
         "colorscale": [
          [
           0,
           "#000004"
          ],
          [
           0.1111111111111111,
           "#180f3d"
          ],
          [
           0.2222222222222222,
           "#440f76"
          ],
          [
           0.3333333333333333,
           "#721f81"
          ],
          [
           0.4444444444444444,
           "#9e2f7f"
          ],
          [
           0.5555555555555556,
           "#cd4071"
          ],
          [
           0.6666666666666666,
           "#f1605d"
          ],
          [
           0.7777777777777778,
           "#fd9668"
          ],
          [
           0.8888888888888888,
           "#feca8d"
          ],
          [
           1,
           "#fcfdbf"
          ]
         ]
        },
        "font": {
         "color": "white"
        },
        "legend": {
         "tracegroupgap": 0
        },
        "paper_bgcolor": "black",
        "plot_bgcolor": "black",
        "template": {
         "data": {
          "bar": [
           {
            "error_x": {
             "color": "#2a3f5f"
            },
            "error_y": {
             "color": "#2a3f5f"
            },
            "marker": {
             "line": {
              "color": "#E5ECF6",
              "width": 0.5
             },
             "pattern": {
              "fillmode": "overlay",
              "size": 10,
              "solidity": 0.2
             }
            },
            "type": "bar"
           }
          ],
          "barpolar": [
           {
            "marker": {
             "line": {
              "color": "#E5ECF6",
              "width": 0.5
             },
             "pattern": {
              "fillmode": "overlay",
              "size": 10,
              "solidity": 0.2
             }
            },
            "type": "barpolar"
           }
          ],
          "carpet": [
           {
            "aaxis": {
             "endlinecolor": "#2a3f5f",
             "gridcolor": "white",
             "linecolor": "white",
             "minorgridcolor": "white",
             "startlinecolor": "#2a3f5f"
            },
            "baxis": {
             "endlinecolor": "#2a3f5f",
             "gridcolor": "white",
             "linecolor": "white",
             "minorgridcolor": "white",
             "startlinecolor": "#2a3f5f"
            },
            "type": "carpet"
           }
          ],
          "choropleth": [
           {
            "colorbar": {
             "outlinewidth": 0,
             "ticks": ""
            },
            "type": "choropleth"
           }
          ],
          "contour": [
           {
            "colorbar": {
             "outlinewidth": 0,
             "ticks": ""
            },
            "colorscale": [
             [
              0,
              "#0d0887"
             ],
             [
              0.1111111111111111,
              "#46039f"
             ],
             [
              0.2222222222222222,
              "#7201a8"
             ],
             [
              0.3333333333333333,
              "#9c179e"
             ],
             [
              0.4444444444444444,
              "#bd3786"
             ],
             [
              0.5555555555555556,
              "#d8576b"
             ],
             [
              0.6666666666666666,
              "#ed7953"
             ],
             [
              0.7777777777777778,
              "#fb9f3a"
             ],
             [
              0.8888888888888888,
              "#fdca26"
             ],
             [
              1,
              "#f0f921"
             ]
            ],
            "type": "contour"
           }
          ],
          "contourcarpet": [
           {
            "colorbar": {
             "outlinewidth": 0,
             "ticks": ""
            },
            "type": "contourcarpet"
           }
          ],
          "heatmap": [
           {
            "colorbar": {
             "outlinewidth": 0,
             "ticks": ""
            },
            "colorscale": [
             [
              0,
              "#0d0887"
             ],
             [
              0.1111111111111111,
              "#46039f"
             ],
             [
              0.2222222222222222,
              "#7201a8"
             ],
             [
              0.3333333333333333,
              "#9c179e"
             ],
             [
              0.4444444444444444,
              "#bd3786"
             ],
             [
              0.5555555555555556,
              "#d8576b"
             ],
             [
              0.6666666666666666,
              "#ed7953"
             ],
             [
              0.7777777777777778,
              "#fb9f3a"
             ],
             [
              0.8888888888888888,
              "#fdca26"
             ],
             [
              1,
              "#f0f921"
             ]
            ],
            "type": "heatmap"
           }
          ],
          "heatmapgl": [
           {
            "colorbar": {
             "outlinewidth": 0,
             "ticks": ""
            },
            "colorscale": [
             [
              0,
              "#0d0887"
             ],
             [
              0.1111111111111111,
              "#46039f"
             ],
             [
              0.2222222222222222,
              "#7201a8"
             ],
             [
              0.3333333333333333,
              "#9c179e"
             ],
             [
              0.4444444444444444,
              "#bd3786"
             ],
             [
              0.5555555555555556,
              "#d8576b"
             ],
             [
              0.6666666666666666,
              "#ed7953"
             ],
             [
              0.7777777777777778,
              "#fb9f3a"
             ],
             [
              0.8888888888888888,
              "#fdca26"
             ],
             [
              1,
              "#f0f921"
             ]
            ],
            "type": "heatmapgl"
           }
          ],
          "histogram": [
           {
            "marker": {
             "pattern": {
              "fillmode": "overlay",
              "size": 10,
              "solidity": 0.2
             }
            },
            "type": "histogram"
           }
          ],
          "histogram2d": [
           {
            "colorbar": {
             "outlinewidth": 0,
             "ticks": ""
            },
            "colorscale": [
             [
              0,
              "#0d0887"
             ],
             [
              0.1111111111111111,
              "#46039f"
             ],
             [
              0.2222222222222222,
              "#7201a8"
             ],
             [
              0.3333333333333333,
              "#9c179e"
             ],
             [
              0.4444444444444444,
              "#bd3786"
             ],
             [
              0.5555555555555556,
              "#d8576b"
             ],
             [
              0.6666666666666666,
              "#ed7953"
             ],
             [
              0.7777777777777778,
              "#fb9f3a"
             ],
             [
              0.8888888888888888,
              "#fdca26"
             ],
             [
              1,
              "#f0f921"
             ]
            ],
            "type": "histogram2d"
           }
          ],
          "histogram2dcontour": [
           {
            "colorbar": {
             "outlinewidth": 0,
             "ticks": ""
            },
            "colorscale": [
             [
              0,
              "#0d0887"
             ],
             [
              0.1111111111111111,
              "#46039f"
             ],
             [
              0.2222222222222222,
              "#7201a8"
             ],
             [
              0.3333333333333333,
              "#9c179e"
             ],
             [
              0.4444444444444444,
              "#bd3786"
             ],
             [
              0.5555555555555556,
              "#d8576b"
             ],
             [
              0.6666666666666666,
              "#ed7953"
             ],
             [
              0.7777777777777778,
              "#fb9f3a"
             ],
             [
              0.8888888888888888,
              "#fdca26"
             ],
             [
              1,
              "#f0f921"
             ]
            ],
            "type": "histogram2dcontour"
           }
          ],
          "mesh3d": [
           {
            "colorbar": {
             "outlinewidth": 0,
             "ticks": ""
            },
            "type": "mesh3d"
           }
          ],
          "parcoords": [
           {
            "line": {
             "colorbar": {
              "outlinewidth": 0,
              "ticks": ""
             }
            },
            "type": "parcoords"
           }
          ],
          "pie": [
           {
            "automargin": true,
            "type": "pie"
           }
          ],
          "scatter": [
           {
            "fillpattern": {
             "fillmode": "overlay",
             "size": 10,
             "solidity": 0.2
            },
            "type": "scatter"
           }
          ],
          "scatter3d": [
           {
            "line": {
             "colorbar": {
              "outlinewidth": 0,
              "ticks": ""
             }
            },
            "marker": {
             "colorbar": {
              "outlinewidth": 0,
              "ticks": ""
             }
            },
            "type": "scatter3d"
           }
          ],
          "scattercarpet": [
           {
            "marker": {
             "colorbar": {
              "outlinewidth": 0,
              "ticks": ""
             }
            },
            "type": "scattercarpet"
           }
          ],
          "scattergeo": [
           {
            "marker": {
             "colorbar": {
              "outlinewidth": 0,
              "ticks": ""
             }
            },
            "type": "scattergeo"
           }
          ],
          "scattergl": [
           {
            "marker": {
             "colorbar": {
              "outlinewidth": 0,
              "ticks": ""
             }
            },
            "type": "scattergl"
           }
          ],
          "scattermapbox": [
           {
            "marker": {
             "colorbar": {
              "outlinewidth": 0,
              "ticks": ""
             }
            },
            "type": "scattermapbox"
           }
          ],
          "scatterpolar": [
           {
            "marker": {
             "colorbar": {
              "outlinewidth": 0,
              "ticks": ""
             }
            },
            "type": "scatterpolar"
           }
          ],
          "scatterpolargl": [
           {
            "marker": {
             "colorbar": {
              "outlinewidth": 0,
              "ticks": ""
             }
            },
            "type": "scatterpolargl"
           }
          ],
          "scatterternary": [
           {
            "marker": {
             "colorbar": {
              "outlinewidth": 0,
              "ticks": ""
             }
            },
            "type": "scatterternary"
           }
          ],
          "surface": [
           {
            "colorbar": {
             "outlinewidth": 0,
             "ticks": ""
            },
            "colorscale": [
             [
              0,
              "#0d0887"
             ],
             [
              0.1111111111111111,
              "#46039f"
             ],
             [
              0.2222222222222222,
              "#7201a8"
             ],
             [
              0.3333333333333333,
              "#9c179e"
             ],
             [
              0.4444444444444444,
              "#bd3786"
             ],
             [
              0.5555555555555556,
              "#d8576b"
             ],
             [
              0.6666666666666666,
              "#ed7953"
             ],
             [
              0.7777777777777778,
              "#fb9f3a"
             ],
             [
              0.8888888888888888,
              "#fdca26"
             ],
             [
              1,
              "#f0f921"
             ]
            ],
            "type": "surface"
           }
          ],
          "table": [
           {
            "cells": {
             "fill": {
              "color": "#EBF0F8"
             },
             "line": {
              "color": "white"
             }
            },
            "header": {
             "fill": {
              "color": "#C8D4E3"
             },
             "line": {
              "color": "white"
             }
            },
            "type": "table"
           }
          ]
         },
         "layout": {
          "annotationdefaults": {
           "arrowcolor": "#2a3f5f",
           "arrowhead": 0,
           "arrowwidth": 1
          },
          "autotypenumbers": "strict",
          "coloraxis": {
           "colorbar": {
            "outlinewidth": 0,
            "ticks": ""
           }
          },
          "colorscale": {
           "diverging": [
            [
             0,
             "#8e0152"
            ],
            [
             0.1,
             "#c51b7d"
            ],
            [
             0.2,
             "#de77ae"
            ],
            [
             0.3,
             "#f1b6da"
            ],
            [
             0.4,
             "#fde0ef"
            ],
            [
             0.5,
             "#f7f7f7"
            ],
            [
             0.6,
             "#e6f5d0"
            ],
            [
             0.7,
             "#b8e186"
            ],
            [
             0.8,
             "#7fbc41"
            ],
            [
             0.9,
             "#4d9221"
            ],
            [
             1,
             "#276419"
            ]
           ],
           "sequential": [
            [
             0,
             "#0d0887"
            ],
            [
             0.1111111111111111,
             "#46039f"
            ],
            [
             0.2222222222222222,
             "#7201a8"
            ],
            [
             0.3333333333333333,
             "#9c179e"
            ],
            [
             0.4444444444444444,
             "#bd3786"
            ],
            [
             0.5555555555555556,
             "#d8576b"
            ],
            [
             0.6666666666666666,
             "#ed7953"
            ],
            [
             0.7777777777777778,
             "#fb9f3a"
            ],
            [
             0.8888888888888888,
             "#fdca26"
            ],
            [
             1,
             "#f0f921"
            ]
           ],
           "sequentialminus": [
            [
             0,
             "#0d0887"
            ],
            [
             0.1111111111111111,
             "#46039f"
            ],
            [
             0.2222222222222222,
             "#7201a8"
            ],
            [
             0.3333333333333333,
             "#9c179e"
            ],
            [
             0.4444444444444444,
             "#bd3786"
            ],
            [
             0.5555555555555556,
             "#d8576b"
            ],
            [
             0.6666666666666666,
             "#ed7953"
            ],
            [
             0.7777777777777778,
             "#fb9f3a"
            ],
            [
             0.8888888888888888,
             "#fdca26"
            ],
            [
             1,
             "#f0f921"
            ]
           ]
          },
          "colorway": [
           "#636efa",
           "#EF553B",
           "#00cc96",
           "#ab63fa",
           "#FFA15A",
           "#19d3f3",
           "#FF6692",
           "#B6E880",
           "#FF97FF",
           "#FECB52"
          ],
          "font": {
           "color": "#2a3f5f"
          },
          "geo": {
           "bgcolor": "white",
           "lakecolor": "white",
           "landcolor": "#E5ECF6",
           "showlakes": true,
           "showland": true,
           "subunitcolor": "white"
          },
          "hoverlabel": {
           "align": "left"
          },
          "hovermode": "closest",
          "mapbox": {
           "style": "light"
          },
          "paper_bgcolor": "white",
          "plot_bgcolor": "#E5ECF6",
          "polar": {
           "angularaxis": {
            "gridcolor": "white",
            "linecolor": "white",
            "ticks": ""
           },
           "bgcolor": "#E5ECF6",
           "radialaxis": {
            "gridcolor": "white",
            "linecolor": "white",
            "ticks": ""
           }
          },
          "scene": {
           "xaxis": {
            "backgroundcolor": "#E5ECF6",
            "gridcolor": "white",
            "gridwidth": 2,
            "linecolor": "white",
            "showbackground": true,
            "ticks": "",
            "zerolinecolor": "white"
           },
           "yaxis": {
            "backgroundcolor": "#E5ECF6",
            "gridcolor": "white",
            "gridwidth": 2,
            "linecolor": "white",
            "showbackground": true,
            "ticks": "",
            "zerolinecolor": "white"
           },
           "zaxis": {
            "backgroundcolor": "#E5ECF6",
            "gridcolor": "white",
            "gridwidth": 2,
            "linecolor": "white",
            "showbackground": true,
            "ticks": "",
            "zerolinecolor": "white"
           }
          },
          "shapedefaults": {
           "line": {
            "color": "#2a3f5f"
           }
          },
          "ternary": {
           "aaxis": {
            "gridcolor": "white",
            "linecolor": "white",
            "ticks": ""
           },
           "baxis": {
            "gridcolor": "white",
            "linecolor": "white",
            "ticks": ""
           },
           "bgcolor": "#E5ECF6",
           "caxis": {
            "gridcolor": "white",
            "linecolor": "white",
            "ticks": ""
           }
          },
          "title": {
           "x": 0.05
          },
          "xaxis": {
           "automargin": true,
           "gridcolor": "white",
           "linecolor": "white",
           "ticks": "",
           "title": {
            "standoff": 15
           },
           "zerolinecolor": "white",
           "zerolinewidth": 2
          },
          "yaxis": {
           "automargin": true,
           "gridcolor": "white",
           "linecolor": "white",
           "ticks": "",
           "title": {
            "standoff": 15
           },
           "zerolinecolor": "white",
           "zerolinewidth": 2
          }
         }
        },
        "title": {
         "text": "ecoscore groups treemap"
        }
       }
      }
     },
     "metadata": {},
     "output_type": "display_data"
    }
   ],
   "source": [
    "df = pd.DataFrame(data_graph_ecoscore_groups)\n",
    "fig = px.treemap(df, path=['ecoscore_group'], values='percentage',\n",
    "                 color='percentage', color_continuous_scale='Magma',\n",
    "                 title='ecoscore groups treemap')\n",
    "fig.update_layout(\n",
    "    paper_bgcolor='black',  \n",
    "    plot_bgcolor='black',   \n",
    "    font_color='white'      \n",
    ")\n",
    "fig.show()"
   ]
  },
  {
   "cell_type": "markdown",
   "metadata": {},
   "source": [
    "# LABELS:"
   ]
  },
  {
   "cell_type": "code",
   "execution_count": 51,
   "metadata": {},
   "outputs": [
    {
     "name": "stdout",
     "output_type": "stream",
     "text": [
      "0: 61.92%\n",
      "1: 13.84%\n",
      "2: 9.63%\n",
      "3: 5.73%\n",
      "5: 1.85%\n",
      "6: 1.46%\n",
      "4: 3.24%\n",
      "8: 0.55%\n",
      "7: 0.85%\n",
      "9: 0.94%\n"
     ]
    }
   ],
   "source": [
    "# retourne une liste des labels présents dans le fichier (sans doublons dans l'affichage)\n",
    "def extract_labels_from_jsonl(file_path):\n",
    "    labels_list = []\n",
    "    with open(file_path, 'r', encoding='utf-8') as file:\n",
    "        for line in file:\n",
    "            try:\n",
    "                record = json.loads(line)\n",
    "                labels = record.get('labels_note')\n",
    "                if labels is not None:\n",
    "                    labels_list.append(labels)\n",
    "            except json.JSONDecodeError:\n",
    "                print(f\"WARNING line: {line} in {file_path}\")\n",
    "    return labels_list\n",
    "\n",
    "labels_list = extract_labels_from_jsonl(jsonl_02)\n",
    "label_counts = Counter(labels_list)\n",
    "total_labels = sum(label_counts.values())\n",
    "\n",
    "data_graph_labels = []\n",
    "for label, count in label_counts.items():\n",
    "    percentage = (count / total_labels) * 100\n",
    "    print(f\"{label}: {percentage:.2f}%\")\n",
    "    data_graph_labels.append({'labels': label, 'percentage': percentage})"
   ]
  },
  {
   "cell_type": "code",
   "execution_count": 52,
   "metadata": {},
   "outputs": [
    {
     "data": {
      "application/vnd.plotly.v1+json": {
       "config": {
        "plotlyServerURL": "https://plot.ly"
       },
       "data": [
        {
         "branchvalues": "total",
         "customdata": [
          [
           61.922351149116594
          ],
          [
           13.842684559180855
          ],
          [
           9.627670307122619
          ],
          [
           5.730378908658944
          ],
          [
           3.2418103950505714
          ],
          [
           1.8452365727991724
          ],
          [
           1.4557560979768613
          ],
          [
           0.8451768931933988
          ],
          [
           0.5505443632612347
          ],
          [
           0.9383907536397454
          ]
         ],
         "domain": {
          "x": [
           0,
           1
          ],
          "y": [
           0,
           1
          ]
         },
         "hovertemplate": "labels=%{label}<br>percentage_sum=%{value}<br>parent=%{parent}<br>id=%{id}<br>percentage=%{color}<extra></extra>",
         "ids": [
          "0",
          "1",
          "2",
          "3",
          "4",
          "5",
          "6",
          "7",
          "8",
          "9"
         ],
         "labels": [
          "0",
          "1",
          "2",
          "3",
          "4",
          "5",
          "6",
          "7",
          "8",
          "9"
         ],
         "marker": {
          "coloraxis": "coloraxis",
          "colors": [
           61.922351149116594,
           13.842684559180855,
           9.627670307122619,
           5.730378908658944,
           3.2418103950505714,
           1.8452365727991724,
           1.4557560979768613,
           0.8451768931933988,
           0.5505443632612347,
           0.9383907536397454
          ]
         },
         "name": "",
         "parents": [
          "",
          "",
          "",
          "",
          "",
          "",
          "",
          "",
          "",
          ""
         ],
         "type": "treemap",
         "values": [
          61.922351149116594,
          13.842684559180855,
          9.627670307122619,
          5.730378908658943,
          3.2418103950505714,
          1.8452365727991724,
          1.4557560979768613,
          0.8451768931933988,
          0.5505443632612347,
          0.9383907536397454
         ]
        }
       ],
       "layout": {
        "coloraxis": {
         "colorbar": {
          "title": {
           "text": "percentage"
          }
         },
         "colorscale": [
          [
           0,
           "#000004"
          ],
          [
           0.1111111111111111,
           "#180f3d"
          ],
          [
           0.2222222222222222,
           "#440f76"
          ],
          [
           0.3333333333333333,
           "#721f81"
          ],
          [
           0.4444444444444444,
           "#9e2f7f"
          ],
          [
           0.5555555555555556,
           "#cd4071"
          ],
          [
           0.6666666666666666,
           "#f1605d"
          ],
          [
           0.7777777777777778,
           "#fd9668"
          ],
          [
           0.8888888888888888,
           "#feca8d"
          ],
          [
           1,
           "#fcfdbf"
          ]
         ]
        },
        "font": {
         "color": "white"
        },
        "legend": {
         "tracegroupgap": 0
        },
        "paper_bgcolor": "black",
        "plot_bgcolor": "black",
        "template": {
         "data": {
          "bar": [
           {
            "error_x": {
             "color": "#2a3f5f"
            },
            "error_y": {
             "color": "#2a3f5f"
            },
            "marker": {
             "line": {
              "color": "#E5ECF6",
              "width": 0.5
             },
             "pattern": {
              "fillmode": "overlay",
              "size": 10,
              "solidity": 0.2
             }
            },
            "type": "bar"
           }
          ],
          "barpolar": [
           {
            "marker": {
             "line": {
              "color": "#E5ECF6",
              "width": 0.5
             },
             "pattern": {
              "fillmode": "overlay",
              "size": 10,
              "solidity": 0.2
             }
            },
            "type": "barpolar"
           }
          ],
          "carpet": [
           {
            "aaxis": {
             "endlinecolor": "#2a3f5f",
             "gridcolor": "white",
             "linecolor": "white",
             "minorgridcolor": "white",
             "startlinecolor": "#2a3f5f"
            },
            "baxis": {
             "endlinecolor": "#2a3f5f",
             "gridcolor": "white",
             "linecolor": "white",
             "minorgridcolor": "white",
             "startlinecolor": "#2a3f5f"
            },
            "type": "carpet"
           }
          ],
          "choropleth": [
           {
            "colorbar": {
             "outlinewidth": 0,
             "ticks": ""
            },
            "type": "choropleth"
           }
          ],
          "contour": [
           {
            "colorbar": {
             "outlinewidth": 0,
             "ticks": ""
            },
            "colorscale": [
             [
              0,
              "#0d0887"
             ],
             [
              0.1111111111111111,
              "#46039f"
             ],
             [
              0.2222222222222222,
              "#7201a8"
             ],
             [
              0.3333333333333333,
              "#9c179e"
             ],
             [
              0.4444444444444444,
              "#bd3786"
             ],
             [
              0.5555555555555556,
              "#d8576b"
             ],
             [
              0.6666666666666666,
              "#ed7953"
             ],
             [
              0.7777777777777778,
              "#fb9f3a"
             ],
             [
              0.8888888888888888,
              "#fdca26"
             ],
             [
              1,
              "#f0f921"
             ]
            ],
            "type": "contour"
           }
          ],
          "contourcarpet": [
           {
            "colorbar": {
             "outlinewidth": 0,
             "ticks": ""
            },
            "type": "contourcarpet"
           }
          ],
          "heatmap": [
           {
            "colorbar": {
             "outlinewidth": 0,
             "ticks": ""
            },
            "colorscale": [
             [
              0,
              "#0d0887"
             ],
             [
              0.1111111111111111,
              "#46039f"
             ],
             [
              0.2222222222222222,
              "#7201a8"
             ],
             [
              0.3333333333333333,
              "#9c179e"
             ],
             [
              0.4444444444444444,
              "#bd3786"
             ],
             [
              0.5555555555555556,
              "#d8576b"
             ],
             [
              0.6666666666666666,
              "#ed7953"
             ],
             [
              0.7777777777777778,
              "#fb9f3a"
             ],
             [
              0.8888888888888888,
              "#fdca26"
             ],
             [
              1,
              "#f0f921"
             ]
            ],
            "type": "heatmap"
           }
          ],
          "heatmapgl": [
           {
            "colorbar": {
             "outlinewidth": 0,
             "ticks": ""
            },
            "colorscale": [
             [
              0,
              "#0d0887"
             ],
             [
              0.1111111111111111,
              "#46039f"
             ],
             [
              0.2222222222222222,
              "#7201a8"
             ],
             [
              0.3333333333333333,
              "#9c179e"
             ],
             [
              0.4444444444444444,
              "#bd3786"
             ],
             [
              0.5555555555555556,
              "#d8576b"
             ],
             [
              0.6666666666666666,
              "#ed7953"
             ],
             [
              0.7777777777777778,
              "#fb9f3a"
             ],
             [
              0.8888888888888888,
              "#fdca26"
             ],
             [
              1,
              "#f0f921"
             ]
            ],
            "type": "heatmapgl"
           }
          ],
          "histogram": [
           {
            "marker": {
             "pattern": {
              "fillmode": "overlay",
              "size": 10,
              "solidity": 0.2
             }
            },
            "type": "histogram"
           }
          ],
          "histogram2d": [
           {
            "colorbar": {
             "outlinewidth": 0,
             "ticks": ""
            },
            "colorscale": [
             [
              0,
              "#0d0887"
             ],
             [
              0.1111111111111111,
              "#46039f"
             ],
             [
              0.2222222222222222,
              "#7201a8"
             ],
             [
              0.3333333333333333,
              "#9c179e"
             ],
             [
              0.4444444444444444,
              "#bd3786"
             ],
             [
              0.5555555555555556,
              "#d8576b"
             ],
             [
              0.6666666666666666,
              "#ed7953"
             ],
             [
              0.7777777777777778,
              "#fb9f3a"
             ],
             [
              0.8888888888888888,
              "#fdca26"
             ],
             [
              1,
              "#f0f921"
             ]
            ],
            "type": "histogram2d"
           }
          ],
          "histogram2dcontour": [
           {
            "colorbar": {
             "outlinewidth": 0,
             "ticks": ""
            },
            "colorscale": [
             [
              0,
              "#0d0887"
             ],
             [
              0.1111111111111111,
              "#46039f"
             ],
             [
              0.2222222222222222,
              "#7201a8"
             ],
             [
              0.3333333333333333,
              "#9c179e"
             ],
             [
              0.4444444444444444,
              "#bd3786"
             ],
             [
              0.5555555555555556,
              "#d8576b"
             ],
             [
              0.6666666666666666,
              "#ed7953"
             ],
             [
              0.7777777777777778,
              "#fb9f3a"
             ],
             [
              0.8888888888888888,
              "#fdca26"
             ],
             [
              1,
              "#f0f921"
             ]
            ],
            "type": "histogram2dcontour"
           }
          ],
          "mesh3d": [
           {
            "colorbar": {
             "outlinewidth": 0,
             "ticks": ""
            },
            "type": "mesh3d"
           }
          ],
          "parcoords": [
           {
            "line": {
             "colorbar": {
              "outlinewidth": 0,
              "ticks": ""
             }
            },
            "type": "parcoords"
           }
          ],
          "pie": [
           {
            "automargin": true,
            "type": "pie"
           }
          ],
          "scatter": [
           {
            "fillpattern": {
             "fillmode": "overlay",
             "size": 10,
             "solidity": 0.2
            },
            "type": "scatter"
           }
          ],
          "scatter3d": [
           {
            "line": {
             "colorbar": {
              "outlinewidth": 0,
              "ticks": ""
             }
            },
            "marker": {
             "colorbar": {
              "outlinewidth": 0,
              "ticks": ""
             }
            },
            "type": "scatter3d"
           }
          ],
          "scattercarpet": [
           {
            "marker": {
             "colorbar": {
              "outlinewidth": 0,
              "ticks": ""
             }
            },
            "type": "scattercarpet"
           }
          ],
          "scattergeo": [
           {
            "marker": {
             "colorbar": {
              "outlinewidth": 0,
              "ticks": ""
             }
            },
            "type": "scattergeo"
           }
          ],
          "scattergl": [
           {
            "marker": {
             "colorbar": {
              "outlinewidth": 0,
              "ticks": ""
             }
            },
            "type": "scattergl"
           }
          ],
          "scattermapbox": [
           {
            "marker": {
             "colorbar": {
              "outlinewidth": 0,
              "ticks": ""
             }
            },
            "type": "scattermapbox"
           }
          ],
          "scatterpolar": [
           {
            "marker": {
             "colorbar": {
              "outlinewidth": 0,
              "ticks": ""
             }
            },
            "type": "scatterpolar"
           }
          ],
          "scatterpolargl": [
           {
            "marker": {
             "colorbar": {
              "outlinewidth": 0,
              "ticks": ""
             }
            },
            "type": "scatterpolargl"
           }
          ],
          "scatterternary": [
           {
            "marker": {
             "colorbar": {
              "outlinewidth": 0,
              "ticks": ""
             }
            },
            "type": "scatterternary"
           }
          ],
          "surface": [
           {
            "colorbar": {
             "outlinewidth": 0,
             "ticks": ""
            },
            "colorscale": [
             [
              0,
              "#0d0887"
             ],
             [
              0.1111111111111111,
              "#46039f"
             ],
             [
              0.2222222222222222,
              "#7201a8"
             ],
             [
              0.3333333333333333,
              "#9c179e"
             ],
             [
              0.4444444444444444,
              "#bd3786"
             ],
             [
              0.5555555555555556,
              "#d8576b"
             ],
             [
              0.6666666666666666,
              "#ed7953"
             ],
             [
              0.7777777777777778,
              "#fb9f3a"
             ],
             [
              0.8888888888888888,
              "#fdca26"
             ],
             [
              1,
              "#f0f921"
             ]
            ],
            "type": "surface"
           }
          ],
          "table": [
           {
            "cells": {
             "fill": {
              "color": "#EBF0F8"
             },
             "line": {
              "color": "white"
             }
            },
            "header": {
             "fill": {
              "color": "#C8D4E3"
             },
             "line": {
              "color": "white"
             }
            },
            "type": "table"
           }
          ]
         },
         "layout": {
          "annotationdefaults": {
           "arrowcolor": "#2a3f5f",
           "arrowhead": 0,
           "arrowwidth": 1
          },
          "autotypenumbers": "strict",
          "coloraxis": {
           "colorbar": {
            "outlinewidth": 0,
            "ticks": ""
           }
          },
          "colorscale": {
           "diverging": [
            [
             0,
             "#8e0152"
            ],
            [
             0.1,
             "#c51b7d"
            ],
            [
             0.2,
             "#de77ae"
            ],
            [
             0.3,
             "#f1b6da"
            ],
            [
             0.4,
             "#fde0ef"
            ],
            [
             0.5,
             "#f7f7f7"
            ],
            [
             0.6,
             "#e6f5d0"
            ],
            [
             0.7,
             "#b8e186"
            ],
            [
             0.8,
             "#7fbc41"
            ],
            [
             0.9,
             "#4d9221"
            ],
            [
             1,
             "#276419"
            ]
           ],
           "sequential": [
            [
             0,
             "#0d0887"
            ],
            [
             0.1111111111111111,
             "#46039f"
            ],
            [
             0.2222222222222222,
             "#7201a8"
            ],
            [
             0.3333333333333333,
             "#9c179e"
            ],
            [
             0.4444444444444444,
             "#bd3786"
            ],
            [
             0.5555555555555556,
             "#d8576b"
            ],
            [
             0.6666666666666666,
             "#ed7953"
            ],
            [
             0.7777777777777778,
             "#fb9f3a"
            ],
            [
             0.8888888888888888,
             "#fdca26"
            ],
            [
             1,
             "#f0f921"
            ]
           ],
           "sequentialminus": [
            [
             0,
             "#0d0887"
            ],
            [
             0.1111111111111111,
             "#46039f"
            ],
            [
             0.2222222222222222,
             "#7201a8"
            ],
            [
             0.3333333333333333,
             "#9c179e"
            ],
            [
             0.4444444444444444,
             "#bd3786"
            ],
            [
             0.5555555555555556,
             "#d8576b"
            ],
            [
             0.6666666666666666,
             "#ed7953"
            ],
            [
             0.7777777777777778,
             "#fb9f3a"
            ],
            [
             0.8888888888888888,
             "#fdca26"
            ],
            [
             1,
             "#f0f921"
            ]
           ]
          },
          "colorway": [
           "#636efa",
           "#EF553B",
           "#00cc96",
           "#ab63fa",
           "#FFA15A",
           "#19d3f3",
           "#FF6692",
           "#B6E880",
           "#FF97FF",
           "#FECB52"
          ],
          "font": {
           "color": "#2a3f5f"
          },
          "geo": {
           "bgcolor": "white",
           "lakecolor": "white",
           "landcolor": "#E5ECF6",
           "showlakes": true,
           "showland": true,
           "subunitcolor": "white"
          },
          "hoverlabel": {
           "align": "left"
          },
          "hovermode": "closest",
          "mapbox": {
           "style": "light"
          },
          "paper_bgcolor": "white",
          "plot_bgcolor": "#E5ECF6",
          "polar": {
           "angularaxis": {
            "gridcolor": "white",
            "linecolor": "white",
            "ticks": ""
           },
           "bgcolor": "#E5ECF6",
           "radialaxis": {
            "gridcolor": "white",
            "linecolor": "white",
            "ticks": ""
           }
          },
          "scene": {
           "xaxis": {
            "backgroundcolor": "#E5ECF6",
            "gridcolor": "white",
            "gridwidth": 2,
            "linecolor": "white",
            "showbackground": true,
            "ticks": "",
            "zerolinecolor": "white"
           },
           "yaxis": {
            "backgroundcolor": "#E5ECF6",
            "gridcolor": "white",
            "gridwidth": 2,
            "linecolor": "white",
            "showbackground": true,
            "ticks": "",
            "zerolinecolor": "white"
           },
           "zaxis": {
            "backgroundcolor": "#E5ECF6",
            "gridcolor": "white",
            "gridwidth": 2,
            "linecolor": "white",
            "showbackground": true,
            "ticks": "",
            "zerolinecolor": "white"
           }
          },
          "shapedefaults": {
           "line": {
            "color": "#2a3f5f"
           }
          },
          "ternary": {
           "aaxis": {
            "gridcolor": "white",
            "linecolor": "white",
            "ticks": ""
           },
           "baxis": {
            "gridcolor": "white",
            "linecolor": "white",
            "ticks": ""
           },
           "bgcolor": "#E5ECF6",
           "caxis": {
            "gridcolor": "white",
            "linecolor": "white",
            "ticks": ""
           }
          },
          "title": {
           "x": 0.05
          },
          "xaxis": {
           "automargin": true,
           "gridcolor": "white",
           "linecolor": "white",
           "ticks": "",
           "title": {
            "standoff": 15
           },
           "zerolinecolor": "white",
           "zerolinewidth": 2
          },
          "yaxis": {
           "automargin": true,
           "gridcolor": "white",
           "linecolor": "white",
           "ticks": "",
           "title": {
            "standoff": 15
           },
           "zerolinecolor": "white",
           "zerolinewidth": 2
          }
         }
        },
        "title": {
         "text": "labels treemap"
        }
       }
      }
     },
     "metadata": {},
     "output_type": "display_data"
    }
   ],
   "source": [
    "df = pd.DataFrame(data_graph_labels)\n",
    "fig = px.treemap(df, path=['labels'], values='percentage',\n",
    "                 color='percentage', color_continuous_scale='Magma',\n",
    "                 title='labels treemap')\n",
    "fig.update_layout(\n",
    "    paper_bgcolor='black',  \n",
    "    plot_bgcolor='black',   \n",
    "    font_color='white'      \n",
    ")\n",
    "fig.show()"
   ]
  },
  {
   "cell_type": "markdown",
   "metadata": {},
   "source": [
    "# NONE NUMBER:"
   ]
  },
  {
   "cell_type": "code",
   "execution_count": 53,
   "metadata": {},
   "outputs": [],
   "source": [
    "def count_none_and_total_values(jsonl_file_path):\n",
    "    none_counts = defaultdict(int)\n",
    "    total_counts = defaultdict(int)\n",
    "    with open(jsonl_file_path, 'r', encoding='utf-8') as file:\n",
    "        for line in file:\n",
    "            data = json.loads(line)\n",
    "            for key, value in data.items():\n",
    "                total_counts[key] += 1\n",
    "                if value is None:\n",
    "                    none_counts[key] += 1\n",
    "    return none_counts, total_counts\n",
    "\n",
    "def calculate_percentage(none_counts, total_counts):\n",
    "    percentages = {}\n",
    "    for key in none_counts:\n",
    "        if total_counts[key] > 0:\n",
    "            percentage = (none_counts[key] / total_counts[key]) * 100\n",
    "        else:\n",
    "            percentage = 0\n",
    "        percentages[key] = percentage\n",
    "    return percentages\n",
    "\n",
    "none_counts, total_counts = count_none_and_total_values(jsonl_02)\n",
    "percentages = calculate_percentage(none_counts, total_counts)"
   ]
  },
  {
   "cell_type": "code",
   "execution_count": 54,
   "metadata": {},
   "outputs": [
    {
     "data": {
      "application/vnd.plotly.v1+json": {
       "config": {
        "plotlyServerURL": "https://plot.ly"
       },
       "data": [
        {
         "branchvalues": "total",
         "customdata": [
          [
           17.994608942278454
          ],
          [
           44.705850590686005
          ]
         ],
         "domain": {
          "x": [
           0,
           1
          ],
          "y": [
           0,
           1
          ]
         },
         "hovertemplate": "labels=%{label}<br>percentage_sum=%{value}<br>parent=%{parent}<br>id=%{id}<br>percentage=%{color}<extra></extra>",
         "ids": [
          "groups",
          "ingredients"
         ],
         "labels": [
          "groups",
          "ingredients"
         ],
         "marker": {
          "coloraxis": "coloraxis",
          "colors": [
           17.994608942278454,
           44.705850590686005
          ]
         },
         "name": "",
         "parents": [
          "",
          ""
         ],
         "type": "treemap",
         "values": [
          17.994608942278454,
          44.705850590686005
         ]
        }
       ],
       "layout": {
        "coloraxis": {
         "colorbar": {
          "title": {
           "text": "percentage"
          }
         },
         "colorscale": [
          [
           0,
           "#000004"
          ],
          [
           0.1111111111111111,
           "#180f3d"
          ],
          [
           0.2222222222222222,
           "#440f76"
          ],
          [
           0.3333333333333333,
           "#721f81"
          ],
          [
           0.4444444444444444,
           "#9e2f7f"
          ],
          [
           0.5555555555555556,
           "#cd4071"
          ],
          [
           0.6666666666666666,
           "#f1605d"
          ],
          [
           0.7777777777777778,
           "#fd9668"
          ],
          [
           0.8888888888888888,
           "#feca8d"
          ],
          [
           1,
           "#fcfdbf"
          ]
         ]
        },
        "font": {
         "color": "white"
        },
        "legend": {
         "tracegroupgap": 0
        },
        "paper_bgcolor": "black",
        "plot_bgcolor": "black",
        "template": {
         "data": {
          "bar": [
           {
            "error_x": {
             "color": "#2a3f5f"
            },
            "error_y": {
             "color": "#2a3f5f"
            },
            "marker": {
             "line": {
              "color": "#E5ECF6",
              "width": 0.5
             },
             "pattern": {
              "fillmode": "overlay",
              "size": 10,
              "solidity": 0.2
             }
            },
            "type": "bar"
           }
          ],
          "barpolar": [
           {
            "marker": {
             "line": {
              "color": "#E5ECF6",
              "width": 0.5
             },
             "pattern": {
              "fillmode": "overlay",
              "size": 10,
              "solidity": 0.2
             }
            },
            "type": "barpolar"
           }
          ],
          "carpet": [
           {
            "aaxis": {
             "endlinecolor": "#2a3f5f",
             "gridcolor": "white",
             "linecolor": "white",
             "minorgridcolor": "white",
             "startlinecolor": "#2a3f5f"
            },
            "baxis": {
             "endlinecolor": "#2a3f5f",
             "gridcolor": "white",
             "linecolor": "white",
             "minorgridcolor": "white",
             "startlinecolor": "#2a3f5f"
            },
            "type": "carpet"
           }
          ],
          "choropleth": [
           {
            "colorbar": {
             "outlinewidth": 0,
             "ticks": ""
            },
            "type": "choropleth"
           }
          ],
          "contour": [
           {
            "colorbar": {
             "outlinewidth": 0,
             "ticks": ""
            },
            "colorscale": [
             [
              0,
              "#0d0887"
             ],
             [
              0.1111111111111111,
              "#46039f"
             ],
             [
              0.2222222222222222,
              "#7201a8"
             ],
             [
              0.3333333333333333,
              "#9c179e"
             ],
             [
              0.4444444444444444,
              "#bd3786"
             ],
             [
              0.5555555555555556,
              "#d8576b"
             ],
             [
              0.6666666666666666,
              "#ed7953"
             ],
             [
              0.7777777777777778,
              "#fb9f3a"
             ],
             [
              0.8888888888888888,
              "#fdca26"
             ],
             [
              1,
              "#f0f921"
             ]
            ],
            "type": "contour"
           }
          ],
          "contourcarpet": [
           {
            "colorbar": {
             "outlinewidth": 0,
             "ticks": ""
            },
            "type": "contourcarpet"
           }
          ],
          "heatmap": [
           {
            "colorbar": {
             "outlinewidth": 0,
             "ticks": ""
            },
            "colorscale": [
             [
              0,
              "#0d0887"
             ],
             [
              0.1111111111111111,
              "#46039f"
             ],
             [
              0.2222222222222222,
              "#7201a8"
             ],
             [
              0.3333333333333333,
              "#9c179e"
             ],
             [
              0.4444444444444444,
              "#bd3786"
             ],
             [
              0.5555555555555556,
              "#d8576b"
             ],
             [
              0.6666666666666666,
              "#ed7953"
             ],
             [
              0.7777777777777778,
              "#fb9f3a"
             ],
             [
              0.8888888888888888,
              "#fdca26"
             ],
             [
              1,
              "#f0f921"
             ]
            ],
            "type": "heatmap"
           }
          ],
          "heatmapgl": [
           {
            "colorbar": {
             "outlinewidth": 0,
             "ticks": ""
            },
            "colorscale": [
             [
              0,
              "#0d0887"
             ],
             [
              0.1111111111111111,
              "#46039f"
             ],
             [
              0.2222222222222222,
              "#7201a8"
             ],
             [
              0.3333333333333333,
              "#9c179e"
             ],
             [
              0.4444444444444444,
              "#bd3786"
             ],
             [
              0.5555555555555556,
              "#d8576b"
             ],
             [
              0.6666666666666666,
              "#ed7953"
             ],
             [
              0.7777777777777778,
              "#fb9f3a"
             ],
             [
              0.8888888888888888,
              "#fdca26"
             ],
             [
              1,
              "#f0f921"
             ]
            ],
            "type": "heatmapgl"
           }
          ],
          "histogram": [
           {
            "marker": {
             "pattern": {
              "fillmode": "overlay",
              "size": 10,
              "solidity": 0.2
             }
            },
            "type": "histogram"
           }
          ],
          "histogram2d": [
           {
            "colorbar": {
             "outlinewidth": 0,
             "ticks": ""
            },
            "colorscale": [
             [
              0,
              "#0d0887"
             ],
             [
              0.1111111111111111,
              "#46039f"
             ],
             [
              0.2222222222222222,
              "#7201a8"
             ],
             [
              0.3333333333333333,
              "#9c179e"
             ],
             [
              0.4444444444444444,
              "#bd3786"
             ],
             [
              0.5555555555555556,
              "#d8576b"
             ],
             [
              0.6666666666666666,
              "#ed7953"
             ],
             [
              0.7777777777777778,
              "#fb9f3a"
             ],
             [
              0.8888888888888888,
              "#fdca26"
             ],
             [
              1,
              "#f0f921"
             ]
            ],
            "type": "histogram2d"
           }
          ],
          "histogram2dcontour": [
           {
            "colorbar": {
             "outlinewidth": 0,
             "ticks": ""
            },
            "colorscale": [
             [
              0,
              "#0d0887"
             ],
             [
              0.1111111111111111,
              "#46039f"
             ],
             [
              0.2222222222222222,
              "#7201a8"
             ],
             [
              0.3333333333333333,
              "#9c179e"
             ],
             [
              0.4444444444444444,
              "#bd3786"
             ],
             [
              0.5555555555555556,
              "#d8576b"
             ],
             [
              0.6666666666666666,
              "#ed7953"
             ],
             [
              0.7777777777777778,
              "#fb9f3a"
             ],
             [
              0.8888888888888888,
              "#fdca26"
             ],
             [
              1,
              "#f0f921"
             ]
            ],
            "type": "histogram2dcontour"
           }
          ],
          "mesh3d": [
           {
            "colorbar": {
             "outlinewidth": 0,
             "ticks": ""
            },
            "type": "mesh3d"
           }
          ],
          "parcoords": [
           {
            "line": {
             "colorbar": {
              "outlinewidth": 0,
              "ticks": ""
             }
            },
            "type": "parcoords"
           }
          ],
          "pie": [
           {
            "automargin": true,
            "type": "pie"
           }
          ],
          "scatter": [
           {
            "fillpattern": {
             "fillmode": "overlay",
             "size": 10,
             "solidity": 0.2
            },
            "type": "scatter"
           }
          ],
          "scatter3d": [
           {
            "line": {
             "colorbar": {
              "outlinewidth": 0,
              "ticks": ""
             }
            },
            "marker": {
             "colorbar": {
              "outlinewidth": 0,
              "ticks": ""
             }
            },
            "type": "scatter3d"
           }
          ],
          "scattercarpet": [
           {
            "marker": {
             "colorbar": {
              "outlinewidth": 0,
              "ticks": ""
             }
            },
            "type": "scattercarpet"
           }
          ],
          "scattergeo": [
           {
            "marker": {
             "colorbar": {
              "outlinewidth": 0,
              "ticks": ""
             }
            },
            "type": "scattergeo"
           }
          ],
          "scattergl": [
           {
            "marker": {
             "colorbar": {
              "outlinewidth": 0,
              "ticks": ""
             }
            },
            "type": "scattergl"
           }
          ],
          "scattermapbox": [
           {
            "marker": {
             "colorbar": {
              "outlinewidth": 0,
              "ticks": ""
             }
            },
            "type": "scattermapbox"
           }
          ],
          "scatterpolar": [
           {
            "marker": {
             "colorbar": {
              "outlinewidth": 0,
              "ticks": ""
             }
            },
            "type": "scatterpolar"
           }
          ],
          "scatterpolargl": [
           {
            "marker": {
             "colorbar": {
              "outlinewidth": 0,
              "ticks": ""
             }
            },
            "type": "scatterpolargl"
           }
          ],
          "scatterternary": [
           {
            "marker": {
             "colorbar": {
              "outlinewidth": 0,
              "ticks": ""
             }
            },
            "type": "scatterternary"
           }
          ],
          "surface": [
           {
            "colorbar": {
             "outlinewidth": 0,
             "ticks": ""
            },
            "colorscale": [
             [
              0,
              "#0d0887"
             ],
             [
              0.1111111111111111,
              "#46039f"
             ],
             [
              0.2222222222222222,
              "#7201a8"
             ],
             [
              0.3333333333333333,
              "#9c179e"
             ],
             [
              0.4444444444444444,
              "#bd3786"
             ],
             [
              0.5555555555555556,
              "#d8576b"
             ],
             [
              0.6666666666666666,
              "#ed7953"
             ],
             [
              0.7777777777777778,
              "#fb9f3a"
             ],
             [
              0.8888888888888888,
              "#fdca26"
             ],
             [
              1,
              "#f0f921"
             ]
            ],
            "type": "surface"
           }
          ],
          "table": [
           {
            "cells": {
             "fill": {
              "color": "#EBF0F8"
             },
             "line": {
              "color": "white"
             }
            },
            "header": {
             "fill": {
              "color": "#C8D4E3"
             },
             "line": {
              "color": "white"
             }
            },
            "type": "table"
           }
          ]
         },
         "layout": {
          "annotationdefaults": {
           "arrowcolor": "#2a3f5f",
           "arrowhead": 0,
           "arrowwidth": 1
          },
          "autotypenumbers": "strict",
          "coloraxis": {
           "colorbar": {
            "outlinewidth": 0,
            "ticks": ""
           }
          },
          "colorscale": {
           "diverging": [
            [
             0,
             "#8e0152"
            ],
            [
             0.1,
             "#c51b7d"
            ],
            [
             0.2,
             "#de77ae"
            ],
            [
             0.3,
             "#f1b6da"
            ],
            [
             0.4,
             "#fde0ef"
            ],
            [
             0.5,
             "#f7f7f7"
            ],
            [
             0.6,
             "#e6f5d0"
            ],
            [
             0.7,
             "#b8e186"
            ],
            [
             0.8,
             "#7fbc41"
            ],
            [
             0.9,
             "#4d9221"
            ],
            [
             1,
             "#276419"
            ]
           ],
           "sequential": [
            [
             0,
             "#0d0887"
            ],
            [
             0.1111111111111111,
             "#46039f"
            ],
            [
             0.2222222222222222,
             "#7201a8"
            ],
            [
             0.3333333333333333,
             "#9c179e"
            ],
            [
             0.4444444444444444,
             "#bd3786"
            ],
            [
             0.5555555555555556,
             "#d8576b"
            ],
            [
             0.6666666666666666,
             "#ed7953"
            ],
            [
             0.7777777777777778,
             "#fb9f3a"
            ],
            [
             0.8888888888888888,
             "#fdca26"
            ],
            [
             1,
             "#f0f921"
            ]
           ],
           "sequentialminus": [
            [
             0,
             "#0d0887"
            ],
            [
             0.1111111111111111,
             "#46039f"
            ],
            [
             0.2222222222222222,
             "#7201a8"
            ],
            [
             0.3333333333333333,
             "#9c179e"
            ],
            [
             0.4444444444444444,
             "#bd3786"
            ],
            [
             0.5555555555555556,
             "#d8576b"
            ],
            [
             0.6666666666666666,
             "#ed7953"
            ],
            [
             0.7777777777777778,
             "#fb9f3a"
            ],
            [
             0.8888888888888888,
             "#fdca26"
            ],
            [
             1,
             "#f0f921"
            ]
           ]
          },
          "colorway": [
           "#636efa",
           "#EF553B",
           "#00cc96",
           "#ab63fa",
           "#FFA15A",
           "#19d3f3",
           "#FF6692",
           "#B6E880",
           "#FF97FF",
           "#FECB52"
          ],
          "font": {
           "color": "#2a3f5f"
          },
          "geo": {
           "bgcolor": "white",
           "lakecolor": "white",
           "landcolor": "#E5ECF6",
           "showlakes": true,
           "showland": true,
           "subunitcolor": "white"
          },
          "hoverlabel": {
           "align": "left"
          },
          "hovermode": "closest",
          "mapbox": {
           "style": "light"
          },
          "paper_bgcolor": "white",
          "plot_bgcolor": "#E5ECF6",
          "polar": {
           "angularaxis": {
            "gridcolor": "white",
            "linecolor": "white",
            "ticks": ""
           },
           "bgcolor": "#E5ECF6",
           "radialaxis": {
            "gridcolor": "white",
            "linecolor": "white",
            "ticks": ""
           }
          },
          "scene": {
           "xaxis": {
            "backgroundcolor": "#E5ECF6",
            "gridcolor": "white",
            "gridwidth": 2,
            "linecolor": "white",
            "showbackground": true,
            "ticks": "",
            "zerolinecolor": "white"
           },
           "yaxis": {
            "backgroundcolor": "#E5ECF6",
            "gridcolor": "white",
            "gridwidth": 2,
            "linecolor": "white",
            "showbackground": true,
            "ticks": "",
            "zerolinecolor": "white"
           },
           "zaxis": {
            "backgroundcolor": "#E5ECF6",
            "gridcolor": "white",
            "gridwidth": 2,
            "linecolor": "white",
            "showbackground": true,
            "ticks": "",
            "zerolinecolor": "white"
           }
          },
          "shapedefaults": {
           "line": {
            "color": "#2a3f5f"
           }
          },
          "ternary": {
           "aaxis": {
            "gridcolor": "white",
            "linecolor": "white",
            "ticks": ""
           },
           "baxis": {
            "gridcolor": "white",
            "linecolor": "white",
            "ticks": ""
           },
           "bgcolor": "#E5ECF6",
           "caxis": {
            "gridcolor": "white",
            "linecolor": "white",
            "ticks": ""
           }
          },
          "title": {
           "x": 0.05
          },
          "xaxis": {
           "automargin": true,
           "gridcolor": "white",
           "linecolor": "white",
           "ticks": "",
           "title": {
            "standoff": 15
           },
           "zerolinecolor": "white",
           "zerolinewidth": 2
          },
          "yaxis": {
           "automargin": true,
           "gridcolor": "white",
           "linecolor": "white",
           "ticks": "",
           "title": {
            "standoff": 15
           },
           "zerolinecolor": "white",
           "zerolinewidth": 2
          }
         }
        },
        "title": {
         "text": "none treemap"
        }
       }
      }
     },
     "metadata": {},
     "output_type": "display_data"
    }
   ],
   "source": [
    "data_graph_none = [{'key': key, 'percentage': percentage} for key, percentage in percentages.items()]\n",
    "df = pd.DataFrame(data_graph_none)\n",
    "fig = px.treemap(df, path=['key'], values='percentage',\n",
    "                 color='percentage', color_continuous_scale='Magma',\n",
    "                 title='none treemap')\n",
    "fig.update_layout(\n",
    "    paper_bgcolor='black',  \n",
    "    plot_bgcolor='black',   \n",
    "    font_color='white'      \n",
    ")\n",
    "fig.show()"
   ]
  },
  {
   "cell_type": "markdown",
   "metadata": {},
   "source": [
    "# ECOSCORE NULL:"
   ]
  },
  {
   "cell_type": "code",
   "execution_count": 55,
   "metadata": {},
   "outputs": [],
   "source": [
    "def count_specific_values(jsonl_file_path):\n",
    "    counts = {\n",
    "        'ecoscore_groups': {'z': 0},\n",
    "        'ecoscore_note': {999: 0}\n",
    "    }\n",
    "    total_counts = {\n",
    "        'ecoscore_groups': 0,\n",
    "        'ecoscore_note': 0\n",
    "    }\n",
    "    with open(jsonl_file_path, 'r') as file:\n",
    "        for line in file:\n",
    "            data = json.loads(line)\n",
    "            for key, value in data.items():\n",
    "                if key in counts:\n",
    "                    total_counts[key] += 1\n",
    "                    if key == 'ecoscore_groups' and value == 'z':\n",
    "                        counts[key]['z'] += 1\n",
    "                    if key == 'ecoscore_note' and value == 999:\n",
    "                        counts[key][999] += 1\n",
    "    return counts, total_counts\n",
    "\n",
    "def calculate_percentage(count, total):\n",
    "    if total > 0:\n",
    "        percentage = (count / total) * 100\n",
    "    else:\n",
    "        percentage = 0\n",
    "    return percentage\n",
    "\n",
    "counts, total_counts = count_specific_values(jsonl_02)\n",
    "\n",
    "z_percentage = calculate_percentage(counts['ecoscore_groups']['z'], total_counts['ecoscore_groups'])\n",
    "number_999 = counts['ecoscore_note'][999]\n",
    "number_999_percentage = calculate_percentage(number_999, total_counts['ecoscore_note'])\n",
    "\n",
    "labels = ['Ecoscore Groups (z)', 'Ecoscore Note (999)']\n",
    "values = [z_percentage, number_999_percentage]\n",
    "counts_values = [counts['ecoscore_groups']['z'], counts['ecoscore_note'][999]]"
   ]
  },
  {
   "cell_type": "code",
   "execution_count": 56,
   "metadata": {},
   "outputs": [
    {
     "data": {
      "application/vnd.plotly.v1+json": {
       "config": {
        "plotlyServerURL": "https://plot.ly"
       },
       "data": [
        {
         "name": "Pourcentage",
         "text": [
          "42.69%",
          "42.69%"
         ],
         "textposition": "auto",
         "type": "bar",
         "x": [
          "Ecoscore Groups (z)",
          "Ecoscore Note (999)"
         ],
         "y": [
          42.69237436732513,
          42.69237436732513
         ]
        },
        {
         "name": "Nombre",
         "text": [
          "600902",
          "600902"
         ],
         "textposition": "auto",
         "type": "bar",
         "x": [
          "Ecoscore Groups (z)",
          "Ecoscore Note (999)"
         ],
         "y": [
          600902,
          600902
         ]
        }
       ],
       "layout": {
        "barmode": "group",
        "template": {
         "data": {
          "bar": [
           {
            "error_x": {
             "color": "#2a3f5f"
            },
            "error_y": {
             "color": "#2a3f5f"
            },
            "marker": {
             "line": {
              "color": "#E5ECF6",
              "width": 0.5
             },
             "pattern": {
              "fillmode": "overlay",
              "size": 10,
              "solidity": 0.2
             }
            },
            "type": "bar"
           }
          ],
          "barpolar": [
           {
            "marker": {
             "line": {
              "color": "#E5ECF6",
              "width": 0.5
             },
             "pattern": {
              "fillmode": "overlay",
              "size": 10,
              "solidity": 0.2
             }
            },
            "type": "barpolar"
           }
          ],
          "carpet": [
           {
            "aaxis": {
             "endlinecolor": "#2a3f5f",
             "gridcolor": "white",
             "linecolor": "white",
             "minorgridcolor": "white",
             "startlinecolor": "#2a3f5f"
            },
            "baxis": {
             "endlinecolor": "#2a3f5f",
             "gridcolor": "white",
             "linecolor": "white",
             "minorgridcolor": "white",
             "startlinecolor": "#2a3f5f"
            },
            "type": "carpet"
           }
          ],
          "choropleth": [
           {
            "colorbar": {
             "outlinewidth": 0,
             "ticks": ""
            },
            "type": "choropleth"
           }
          ],
          "contour": [
           {
            "colorbar": {
             "outlinewidth": 0,
             "ticks": ""
            },
            "colorscale": [
             [
              0,
              "#0d0887"
             ],
             [
              0.1111111111111111,
              "#46039f"
             ],
             [
              0.2222222222222222,
              "#7201a8"
             ],
             [
              0.3333333333333333,
              "#9c179e"
             ],
             [
              0.4444444444444444,
              "#bd3786"
             ],
             [
              0.5555555555555556,
              "#d8576b"
             ],
             [
              0.6666666666666666,
              "#ed7953"
             ],
             [
              0.7777777777777778,
              "#fb9f3a"
             ],
             [
              0.8888888888888888,
              "#fdca26"
             ],
             [
              1,
              "#f0f921"
             ]
            ],
            "type": "contour"
           }
          ],
          "contourcarpet": [
           {
            "colorbar": {
             "outlinewidth": 0,
             "ticks": ""
            },
            "type": "contourcarpet"
           }
          ],
          "heatmap": [
           {
            "colorbar": {
             "outlinewidth": 0,
             "ticks": ""
            },
            "colorscale": [
             [
              0,
              "#0d0887"
             ],
             [
              0.1111111111111111,
              "#46039f"
             ],
             [
              0.2222222222222222,
              "#7201a8"
             ],
             [
              0.3333333333333333,
              "#9c179e"
             ],
             [
              0.4444444444444444,
              "#bd3786"
             ],
             [
              0.5555555555555556,
              "#d8576b"
             ],
             [
              0.6666666666666666,
              "#ed7953"
             ],
             [
              0.7777777777777778,
              "#fb9f3a"
             ],
             [
              0.8888888888888888,
              "#fdca26"
             ],
             [
              1,
              "#f0f921"
             ]
            ],
            "type": "heatmap"
           }
          ],
          "heatmapgl": [
           {
            "colorbar": {
             "outlinewidth": 0,
             "ticks": ""
            },
            "colorscale": [
             [
              0,
              "#0d0887"
             ],
             [
              0.1111111111111111,
              "#46039f"
             ],
             [
              0.2222222222222222,
              "#7201a8"
             ],
             [
              0.3333333333333333,
              "#9c179e"
             ],
             [
              0.4444444444444444,
              "#bd3786"
             ],
             [
              0.5555555555555556,
              "#d8576b"
             ],
             [
              0.6666666666666666,
              "#ed7953"
             ],
             [
              0.7777777777777778,
              "#fb9f3a"
             ],
             [
              0.8888888888888888,
              "#fdca26"
             ],
             [
              1,
              "#f0f921"
             ]
            ],
            "type": "heatmapgl"
           }
          ],
          "histogram": [
           {
            "marker": {
             "pattern": {
              "fillmode": "overlay",
              "size": 10,
              "solidity": 0.2
             }
            },
            "type": "histogram"
           }
          ],
          "histogram2d": [
           {
            "colorbar": {
             "outlinewidth": 0,
             "ticks": ""
            },
            "colorscale": [
             [
              0,
              "#0d0887"
             ],
             [
              0.1111111111111111,
              "#46039f"
             ],
             [
              0.2222222222222222,
              "#7201a8"
             ],
             [
              0.3333333333333333,
              "#9c179e"
             ],
             [
              0.4444444444444444,
              "#bd3786"
             ],
             [
              0.5555555555555556,
              "#d8576b"
             ],
             [
              0.6666666666666666,
              "#ed7953"
             ],
             [
              0.7777777777777778,
              "#fb9f3a"
             ],
             [
              0.8888888888888888,
              "#fdca26"
             ],
             [
              1,
              "#f0f921"
             ]
            ],
            "type": "histogram2d"
           }
          ],
          "histogram2dcontour": [
           {
            "colorbar": {
             "outlinewidth": 0,
             "ticks": ""
            },
            "colorscale": [
             [
              0,
              "#0d0887"
             ],
             [
              0.1111111111111111,
              "#46039f"
             ],
             [
              0.2222222222222222,
              "#7201a8"
             ],
             [
              0.3333333333333333,
              "#9c179e"
             ],
             [
              0.4444444444444444,
              "#bd3786"
             ],
             [
              0.5555555555555556,
              "#d8576b"
             ],
             [
              0.6666666666666666,
              "#ed7953"
             ],
             [
              0.7777777777777778,
              "#fb9f3a"
             ],
             [
              0.8888888888888888,
              "#fdca26"
             ],
             [
              1,
              "#f0f921"
             ]
            ],
            "type": "histogram2dcontour"
           }
          ],
          "mesh3d": [
           {
            "colorbar": {
             "outlinewidth": 0,
             "ticks": ""
            },
            "type": "mesh3d"
           }
          ],
          "parcoords": [
           {
            "line": {
             "colorbar": {
              "outlinewidth": 0,
              "ticks": ""
             }
            },
            "type": "parcoords"
           }
          ],
          "pie": [
           {
            "automargin": true,
            "type": "pie"
           }
          ],
          "scatter": [
           {
            "fillpattern": {
             "fillmode": "overlay",
             "size": 10,
             "solidity": 0.2
            },
            "type": "scatter"
           }
          ],
          "scatter3d": [
           {
            "line": {
             "colorbar": {
              "outlinewidth": 0,
              "ticks": ""
             }
            },
            "marker": {
             "colorbar": {
              "outlinewidth": 0,
              "ticks": ""
             }
            },
            "type": "scatter3d"
           }
          ],
          "scattercarpet": [
           {
            "marker": {
             "colorbar": {
              "outlinewidth": 0,
              "ticks": ""
             }
            },
            "type": "scattercarpet"
           }
          ],
          "scattergeo": [
           {
            "marker": {
             "colorbar": {
              "outlinewidth": 0,
              "ticks": ""
             }
            },
            "type": "scattergeo"
           }
          ],
          "scattergl": [
           {
            "marker": {
             "colorbar": {
              "outlinewidth": 0,
              "ticks": ""
             }
            },
            "type": "scattergl"
           }
          ],
          "scattermapbox": [
           {
            "marker": {
             "colorbar": {
              "outlinewidth": 0,
              "ticks": ""
             }
            },
            "type": "scattermapbox"
           }
          ],
          "scatterpolar": [
           {
            "marker": {
             "colorbar": {
              "outlinewidth": 0,
              "ticks": ""
             }
            },
            "type": "scatterpolar"
           }
          ],
          "scatterpolargl": [
           {
            "marker": {
             "colorbar": {
              "outlinewidth": 0,
              "ticks": ""
             }
            },
            "type": "scatterpolargl"
           }
          ],
          "scatterternary": [
           {
            "marker": {
             "colorbar": {
              "outlinewidth": 0,
              "ticks": ""
             }
            },
            "type": "scatterternary"
           }
          ],
          "surface": [
           {
            "colorbar": {
             "outlinewidth": 0,
             "ticks": ""
            },
            "colorscale": [
             [
              0,
              "#0d0887"
             ],
             [
              0.1111111111111111,
              "#46039f"
             ],
             [
              0.2222222222222222,
              "#7201a8"
             ],
             [
              0.3333333333333333,
              "#9c179e"
             ],
             [
              0.4444444444444444,
              "#bd3786"
             ],
             [
              0.5555555555555556,
              "#d8576b"
             ],
             [
              0.6666666666666666,
              "#ed7953"
             ],
             [
              0.7777777777777778,
              "#fb9f3a"
             ],
             [
              0.8888888888888888,
              "#fdca26"
             ],
             [
              1,
              "#f0f921"
             ]
            ],
            "type": "surface"
           }
          ],
          "table": [
           {
            "cells": {
             "fill": {
              "color": "#EBF0F8"
             },
             "line": {
              "color": "white"
             }
            },
            "header": {
             "fill": {
              "color": "#C8D4E3"
             },
             "line": {
              "color": "white"
             }
            },
            "type": "table"
           }
          ]
         },
         "layout": {
          "annotationdefaults": {
           "arrowcolor": "#2a3f5f",
           "arrowhead": 0,
           "arrowwidth": 1
          },
          "autotypenumbers": "strict",
          "coloraxis": {
           "colorbar": {
            "outlinewidth": 0,
            "ticks": ""
           }
          },
          "colorscale": {
           "diverging": [
            [
             0,
             "#8e0152"
            ],
            [
             0.1,
             "#c51b7d"
            ],
            [
             0.2,
             "#de77ae"
            ],
            [
             0.3,
             "#f1b6da"
            ],
            [
             0.4,
             "#fde0ef"
            ],
            [
             0.5,
             "#f7f7f7"
            ],
            [
             0.6,
             "#e6f5d0"
            ],
            [
             0.7,
             "#b8e186"
            ],
            [
             0.8,
             "#7fbc41"
            ],
            [
             0.9,
             "#4d9221"
            ],
            [
             1,
             "#276419"
            ]
           ],
           "sequential": [
            [
             0,
             "#0d0887"
            ],
            [
             0.1111111111111111,
             "#46039f"
            ],
            [
             0.2222222222222222,
             "#7201a8"
            ],
            [
             0.3333333333333333,
             "#9c179e"
            ],
            [
             0.4444444444444444,
             "#bd3786"
            ],
            [
             0.5555555555555556,
             "#d8576b"
            ],
            [
             0.6666666666666666,
             "#ed7953"
            ],
            [
             0.7777777777777778,
             "#fb9f3a"
            ],
            [
             0.8888888888888888,
             "#fdca26"
            ],
            [
             1,
             "#f0f921"
            ]
           ],
           "sequentialminus": [
            [
             0,
             "#0d0887"
            ],
            [
             0.1111111111111111,
             "#46039f"
            ],
            [
             0.2222222222222222,
             "#7201a8"
            ],
            [
             0.3333333333333333,
             "#9c179e"
            ],
            [
             0.4444444444444444,
             "#bd3786"
            ],
            [
             0.5555555555555556,
             "#d8576b"
            ],
            [
             0.6666666666666666,
             "#ed7953"
            ],
            [
             0.7777777777777778,
             "#fb9f3a"
            ],
            [
             0.8888888888888888,
             "#fdca26"
            ],
            [
             1,
             "#f0f921"
            ]
           ]
          },
          "colorway": [
           "#636efa",
           "#EF553B",
           "#00cc96",
           "#ab63fa",
           "#FFA15A",
           "#19d3f3",
           "#FF6692",
           "#B6E880",
           "#FF97FF",
           "#FECB52"
          ],
          "font": {
           "color": "#2a3f5f"
          },
          "geo": {
           "bgcolor": "white",
           "lakecolor": "white",
           "landcolor": "#E5ECF6",
           "showlakes": true,
           "showland": true,
           "subunitcolor": "white"
          },
          "hoverlabel": {
           "align": "left"
          },
          "hovermode": "closest",
          "mapbox": {
           "style": "light"
          },
          "paper_bgcolor": "white",
          "plot_bgcolor": "#E5ECF6",
          "polar": {
           "angularaxis": {
            "gridcolor": "white",
            "linecolor": "white",
            "ticks": ""
           },
           "bgcolor": "#E5ECF6",
           "radialaxis": {
            "gridcolor": "white",
            "linecolor": "white",
            "ticks": ""
           }
          },
          "scene": {
           "xaxis": {
            "backgroundcolor": "#E5ECF6",
            "gridcolor": "white",
            "gridwidth": 2,
            "linecolor": "white",
            "showbackground": true,
            "ticks": "",
            "zerolinecolor": "white"
           },
           "yaxis": {
            "backgroundcolor": "#E5ECF6",
            "gridcolor": "white",
            "gridwidth": 2,
            "linecolor": "white",
            "showbackground": true,
            "ticks": "",
            "zerolinecolor": "white"
           },
           "zaxis": {
            "backgroundcolor": "#E5ECF6",
            "gridcolor": "white",
            "gridwidth": 2,
            "linecolor": "white",
            "showbackground": true,
            "ticks": "",
            "zerolinecolor": "white"
           }
          },
          "shapedefaults": {
           "line": {
            "color": "#2a3f5f"
           }
          },
          "ternary": {
           "aaxis": {
            "gridcolor": "white",
            "linecolor": "white",
            "ticks": ""
           },
           "baxis": {
            "gridcolor": "white",
            "linecolor": "white",
            "ticks": ""
           },
           "bgcolor": "#E5ECF6",
           "caxis": {
            "gridcolor": "white",
            "linecolor": "white",
            "ticks": ""
           }
          },
          "title": {
           "x": 0.05
          },
          "xaxis": {
           "automargin": true,
           "gridcolor": "white",
           "linecolor": "white",
           "ticks": "",
           "title": {
            "standoff": 15
           },
           "zerolinecolor": "white",
           "zerolinewidth": 2
          },
          "yaxis": {
           "automargin": true,
           "gridcolor": "white",
           "linecolor": "white",
           "ticks": "",
           "title": {
            "standoff": 15
           },
           "zerolinecolor": "white",
           "zerolinewidth": 2
          }
         }
        },
        "title": {
         "text": "percentage empty data ecoscore group and grad"
        },
        "xaxis": {
         "title": {
          "text": "Catégories"
         }
        },
        "yaxis": {
         "title": {
          "text": "Valeurs"
         }
        }
       }
      }
     },
     "metadata": {},
     "output_type": "display_data"
    }
   ],
   "source": [
    "fig = go.Figure()\n",
    "fig.add_trace(go.Bar(\n",
    "    x=labels,\n",
    "    y=values,\n",
    "    name='Pourcentage',\n",
    "    text=[f'{v:.2f}%' for v in values],\n",
    "    textposition='auto'\n",
    "))\n",
    "fig.add_trace(go.Bar(\n",
    "    x=labels,\n",
    "    y=counts_values,\n",
    "    name='Nombre',\n",
    "    text=[str(v) for v in counts_values],\n",
    "    textposition='auto'\n",
    "))\n",
    "fig.update_layout(\n",
    "    title='percentage empty data ecoscore group and grad',\n",
    "    xaxis_title='Catégories',\n",
    "    yaxis_title='Valeurs',\n",
    "    barmode='group'\n",
    ")\n",
    "fig.show()"
   ]
  },
  {
   "cell_type": "markdown",
   "metadata": {},
   "source": [
    "# TOTAL ARTICLES NUMBER:"
   ]
  },
  {
   "cell_type": "code",
   "execution_count": 57,
   "metadata": {},
   "outputs": [
    {
     "name": "stdout",
     "output_type": "stream",
     "text": [
      "total product number: 1407516\n"
     ]
    }
   ],
   "source": [
    "print(f\"total product number: {total_labels}\")"
   ]
  },
  {
   "cell_type": "markdown",
   "metadata": {},
   "source": [
    "# JSONL SAMPLE:"
   ]
  },
  {
   "cell_type": "code",
   "execution_count": 58,
   "metadata": {},
   "outputs": [
    {
     "data": {
      "text/html": [
       "<div>\n",
       "<style scoped>\n",
       "    .dataframe tbody tr th:only-of-type {\n",
       "        vertical-align: middle;\n",
       "    }\n",
       "\n",
       "    .dataframe tbody tr th {\n",
       "        vertical-align: top;\n",
       "    }\n",
       "\n",
       "    .dataframe thead th {\n",
       "        text-align: right;\n",
       "    }\n",
       "</style>\n",
       "<table border=\"1\" class=\"dataframe\">\n",
       "  <thead>\n",
       "    <tr style=\"text-align: right;\">\n",
       "      <th></th>\n",
       "      <th>groups</th>\n",
       "      <th>packaging</th>\n",
       "      <th>name</th>\n",
       "      <th>ecoscore_groups</th>\n",
       "      <th>ecoscore_note</th>\n",
       "      <th>code</th>\n",
       "      <th>countries</th>\n",
       "      <th>ingredients</th>\n",
       "      <th>categories</th>\n",
       "      <th>labels_note</th>\n",
       "    </tr>\n",
       "  </thead>\n",
       "  <tbody>\n",
       "    <tr>\n",
       "      <th>0</th>\n",
       "      <td>cereals and potatoes</td>\n",
       "      <td>none</td>\n",
       "      <td>linguine</td>\n",
       "      <td>z</td>\n",
       "      <td>999</td>\n",
       "      <td>26662523022</td>\n",
       "      <td>united states</td>\n",
       "      <td>durum-wheat-semolina, cereal, wheat, durum-wheat, semolina, niacin-ferrous-lactate, thiamin-mononitrate, thiamin, e101, folic-acid, folate, iron, minerals, vitamin-b12</td>\n",
       "      <td>plant-based-foods-and-beverages, plant-based-foods, cereals-and-potatoes, cereals-and-their-products, pastas</td>\n",
       "      <td>0</td>\n",
       "    </tr>\n",
       "    <tr>\n",
       "      <th>1</th>\n",
       "      <td>salty snacks</td>\n",
       "      <td>mixed plastic-packet</td>\n",
       "      <td>cheesy garlic slice</td>\n",
       "      <td>z</td>\n",
       "      <td>999</td>\n",
       "      <td>200011</td>\n",
       "      <td>france</td>\n",
       "      <td>wheat-flour, cereal, flour, wheat, cereal-flour, e170i, e170, iron, minerals, e375, thiamin-water-mature-cheddar-cheese, unsalted-butter, dairy, butter, rapeseed-oil-garlic-puree-yeast-wheat-fibre, lemon-juice-salt-parsley, flour-treatment-agent, e300</td>\n",
       "      <td>snacks, salty-snacks, appetizers, garlic-breads</td>\n",
       "      <td>0</td>\n",
       "    </tr>\n",
       "    <tr>\n",
       "      <th>2</th>\n",
       "      <td>composite foods</td>\n",
       "      <td>none</td>\n",
       "      <td>fully cooked oven roasted boneless skinless chicken breast strips with rib meat, oven roasted</td>\n",
       "      <td>z</td>\n",
       "      <td>999</td>\n",
       "      <td>36800397484</td>\n",
       "      <td>united states</td>\n",
       "      <td>chicken-breast-with-rib-meat, chicken-broth, poultry, chicken, broth, poultry-broth, less-than-2-of, modified-starch, starch, e326, dextrose, added-sugar, monosaccharide, glucose, e339, natural-flavouring, flavouring, yeast-extract, yeast, e262ii, e262, e330, lauric-arginate, e250, salt</td>\n",
       "      <td>meals</td>\n",
       "      <td>0</td>\n",
       "    </tr>\n",
       "    <tr>\n",
       "      <th>3</th>\n",
       "      <td>cereals and potatoes</td>\n",
       "      <td>none</td>\n",
       "      <td>organic white arborio rice</td>\n",
       "      <td>e</td>\n",
       "      <td>12</td>\n",
       "      <td>73416040908</td>\n",
       "      <td>united states, world</td>\n",
       "      <td>white-arborio-rice</td>\n",
       "      <td>plant-based-foods-and-beverages, plant-based-foods, cereals-and-potatoes, seeds, cereals-and-their-products, cereal-grains, rices, japonica-rices, rices-for-risotto, short-grain-rices, arborio-rices</td>\n",
       "      <td>3</td>\n",
       "    </tr>\n",
       "    <tr>\n",
       "      <th>4</th>\n",
       "      <td>cereals and potatoes</td>\n",
       "      <td>none</td>\n",
       "      <td>dark red kidney beans</td>\n",
       "      <td>b</td>\n",
       "      <td>72</td>\n",
       "      <td>99482455804</td>\n",
       "      <td>united states</td>\n",
       "      <td>dark-red-kidney-beans, water</td>\n",
       "      <td>plant-based-foods-and-beverages, plant-based-foods, legumes-and-their-products, canned-foods, legumes, seeds, canned-plant-based-foods, legume-seeds, pulses, common-beans, canned-legumes, red-beans, canned-common-beans</td>\n",
       "      <td>4</td>\n",
       "    </tr>\n",
       "    <tr>\n",
       "      <th>5</th>\n",
       "      <td>beverages</td>\n",
       "      <td>none</td>\n",
       "      <td>vapor distilled water with electrolytes</td>\n",
       "      <td>z</td>\n",
       "      <td>999</td>\n",
       "      <td>711535509103</td>\n",
       "      <td>united states</td>\n",
       "      <td>vapor-distilled-water, electrolytes, natural-blueberry-and-blackberry-flavors, calcium, minerals, potassium, magnesium</td>\n",
       "      <td>beverages, waters</td>\n",
       "      <td>0</td>\n",
       "    </tr>\n",
       "    <tr>\n",
       "      <th>6</th>\n",
       "      <td>milk and dairy products</td>\n",
       "      <td>none</td>\n",
       "      <td>milk shake schoko</td>\n",
       "      <td>z</td>\n",
       "      <td>999</td>\n",
       "      <td>20171117</td>\n",
       "      <td>france</td>\n",
       "      <td>None</td>\n",
       "      <td>beverages, dairies, dairy-drinks, flavoured-milks</td>\n",
       "      <td>2</td>\n",
       "    </tr>\n",
       "    <tr>\n",
       "      <th>7</th>\n",
       "      <td>fruits and vegetables</td>\n",
       "      <td>bocal en verre</td>\n",
       "      <td>mogette de vendee</td>\n",
       "      <td>z</td>\n",
       "      <td>999</td>\n",
       "      <td>3250391787012</td>\n",
       "      <td>france</td>\n",
       "      <td>vegetable, legume, pulse, white-beans, water, sea-salt, salt</td>\n",
       "      <td>plant-based-foods-and-beverages, plant-based-foods, fruits-and-vegetables-based-foods, legumes-and-their-products, legumes, seeds, vegetables-based-foods, legume-seeds, vegetables, pulses, common-beans, white-beans, french-vegetables, white-kidney-beans</td>\n",
       "      <td>3</td>\n",
       "    </tr>\n",
       "    <tr>\n",
       "      <th>8</th>\n",
       "      <td>beverages</td>\n",
       "      <td>plastique, pet - polytéréphtalate d'éthylène, bouteille en plastique</td>\n",
       "      <td>eau de source des montagnes d'auvergne</td>\n",
       "      <td>z</td>\n",
       "      <td>999</td>\n",
       "      <td>3256223510049</td>\n",
       "      <td>france</td>\n",
       "      <td>magnesium, minerals, sodium, potassium, sulfates, e551, calcium</td>\n",
       "      <td>beverages, waters, spring-waters, mineral-waters, unsweetened-beverages</td>\n",
       "      <td>1</td>\n",
       "    </tr>\n",
       "    <tr>\n",
       "      <th>9</th>\n",
       "      <td>milk and dairy products</td>\n",
       "      <td>none</td>\n",
       "      <td>yaourt sur lit d'abricot</td>\n",
       "      <td>b</td>\n",
       "      <td>63</td>\n",
       "      <td>3263858079810</td>\n",
       "      <td>france</td>\n",
       "      <td>whole-milk, dairy, milk, apricot, fruit, prunus-species-fruit, sugar, added-sugar, disaccharide, glucose-fructose-syrup, monosaccharide, fructose, glucose, milk-proteins, protein, animal-protein, cream, thickener, e440a, flavouring, fruit-preservative, preservative, lactic-ferments, ferment, microbial-culture, modified-tapioca-starch, starch, modified-starch, tapioca, e202, sodium-citrate, minerals, sodium</td>\n",
       "      <td>dairies, fermented-foods, fermented-milk-products, desserts, dairy-desserts, fermented-dairy-desserts, fermented-dairy-desserts-with-fruits, yogurts, fruit-yogurts, apricot-yogurts</td>\n",
       "      <td>0</td>\n",
       "    </tr>\n",
       "    <tr>\n",
       "      <th>10</th>\n",
       "      <td>cereals and potatoes</td>\n",
       "      <td>sachet plastique</td>\n",
       "      <td>spätzle aux oeufs</td>\n",
       "      <td>z</td>\n",
       "      <td>999</td>\n",
       "      <td>3292590837044</td>\n",
       "      <td>france</td>\n",
       "      <td>wheat-flour, cereal, flour, wheat, cereal-flour, water, egg, starch, salt, nutmeg, condiment, spice</td>\n",
       "      <td>plant-based-foods-and-beverages, plant-based-foods, cereals-and-potatoes, cereals-and-their-products, pastas, spatzle</td>\n",
       "      <td>0</td>\n",
       "    </tr>\n",
       "    <tr>\n",
       "      <th>11</th>\n",
       "      <td>fruits and vegetables</td>\n",
       "      <td>none</td>\n",
       "      <td>figues moelleuses bio</td>\n",
       "      <td>b</td>\n",
       "      <td>79</td>\n",
       "      <td>3299430033673</td>\n",
       "      <td>france</td>\n",
       "      <td>dried-fig, fruit, fig, water</td>\n",
       "      <td>plant-based-foods-and-beverages, plant-based-foods, fruits-and-vegetables-based-foods, fruits-based-foods, fruits, figs</td>\n",
       "      <td>7</td>\n",
       "    </tr>\n",
       "    <tr>\n",
       "      <th>12</th>\n",
       "      <td>fruits and vegetables</td>\n",
       "      <td>none</td>\n",
       "      <td>melon</td>\n",
       "      <td>z</td>\n",
       "      <td>999</td>\n",
       "      <td>3386381044589</td>\n",
       "      <td>france</td>\n",
       "      <td>None</td>\n",
       "      <td>plant-based-foods-and-beverages, plant-based-foods, fruits-and-vegetables-based-foods, fruits-based-foods, fruits, melons, fresh-fruits, muskmelons, fresh-muskmelons</td>\n",
       "      <td>0</td>\n",
       "    </tr>\n",
       "    <tr>\n",
       "      <th>13</th>\n",
       "      <td>beverages</td>\n",
       "      <td>none</td>\n",
       "      <td>jus de carotte</td>\n",
       "      <td>z</td>\n",
       "      <td>999</td>\n",
       "      <td>3556001010175</td>\n",
       "      <td>france</td>\n",
       "      <td>carrot-juice, vegetable, root-vegetable, taproot-vegetable, carrot, vegetable-juice, concentrated-lemon-juice, fruit, juice, fruit-juice, lemon-juice</td>\n",
       "      <td>plant-based-foods-and-beverages, beverages, plant-based-beverages, vegetable-based-foods-and-beverages, juices-and-nectars, vegetable-based-beverages, vegetable-juices, carrot-juices</td>\n",
       "      <td>1</td>\n",
       "    </tr>\n",
       "    <tr>\n",
       "      <th>14</th>\n",
       "      <td>sugary snacks</td>\n",
       "      <td>none</td>\n",
       "      <td>bonbons gommes acacia assortiment gourmand</td>\n",
       "      <td>b</td>\n",
       "      <td>69</td>\n",
       "      <td>3564700578704</td>\n",
       "      <td>france</td>\n",
       "      <td>glucose-syrup, added-sugar, monosaccharide, glucose, sugar, disaccharide, gelling-agent, pork-gelatin, animal, pork, e428, acid, flavouring, colour, e131, e153, e160c, e163, natural-mint-flavouring, natural-flavouring, mint-flavouring, natural-orange-blossom-flavouring, orange-blossom-flavouring, wheat-starch, starch, e414, e330, e100</td>\n",
       "      <td>snacks, sweet-snacks, confectioneries, candies, gummi-candies</td>\n",
       "      <td>0</td>\n",
       "    </tr>\n",
       "    <tr>\n",
       "      <th>15</th>\n",
       "      <td>fat and sauces</td>\n",
       "      <td>none</td>\n",
       "      <td>moutarde a l'ancienne - piment d'espelette</td>\n",
       "      <td>c</td>\n",
       "      <td>54</td>\n",
       "      <td>3664335000844</td>\n",
       "      <td>france</td>\n",
       "      <td>None</td>\n",
       "      <td>condiments, sauces, mustards, groceries</td>\n",
       "      <td>0</td>\n",
       "    </tr>\n",
       "    <tr>\n",
       "      <th>16</th>\n",
       "      <td>sugary snacks</td>\n",
       "      <td>none</td>\n",
       "      <td>chocolat à casser noir calisson &amp; nougat</td>\n",
       "      <td>e</td>\n",
       "      <td>15</td>\n",
       "      <td>3760170090269</td>\n",
       "      <td>france</td>\n",
       "      <td>nougat, almond, nut, tree-nut, fruit, melon, glucose-fructose-syrup, added-sugar, monosaccharide, fructose, glucose, sugar, disaccharide, e202, preservative, candied-orange-peel, glucose-syrup, wafer, egg-white, egg, natural-vanilla-flavouring, flavouring, natural-flavouring, vanilla-flavouring, natural-sour-almond-flavouring, cocoa-paste, plant, cocoa, emulsifier, honey, cocoa-butter, orange-zest, citrus-fruit, orange, acid, e330, water, soya-lecithin, e322, e322i, potato-starch, starch, e220</td>\n",
       "      <td>snacks, sweet-snacks, cocoa-and-its-products, chocolates, dark-chocolates</td>\n",
       "      <td>0</td>\n",
       "    </tr>\n",
       "    <tr>\n",
       "      <th>17</th>\n",
       "      <td>sugary snacks</td>\n",
       "      <td>plastique, sachet</td>\n",
       "      <td>zimsterne - étoiles en pain d'épices</td>\n",
       "      <td>b</td>\n",
       "      <td>71</td>\n",
       "      <td>4006894278101</td>\n",
       "      <td>france</td>\n",
       "      <td>sugar, added-sugar, disaccharide, fructose, monosaccharide, wheat-flour, cereal, flour, wheat, cereal-flour, almond-paste, nut, tree-nut, almond, cinnamon, condiment, spice, egg-white, egg, wheat-starch, starch, raising-agent, lemon-zest, fruit, citrus-fruit, lemon, orange-zest, orange, invert-sugar-syrup, invert-sugar, sugar-syrup, e503ii, e503, acid, e428, e330</td>\n",
       "      <td>snacks, sweet-snacks, biscuits-and-cakes, gingerbreads</td>\n",
       "      <td>0</td>\n",
       "    </tr>\n",
       "    <tr>\n",
       "      <th>18</th>\n",
       "      <td>fish meat eggs</td>\n",
       "      <td>plastic,film</td>\n",
       "      <td>delikatess bratwurst</td>\n",
       "      <td>z</td>\n",
       "      <td>999</td>\n",
       "      <td>4031829230107</td>\n",
       "      <td>france, germany</td>\n",
       "      <td>pork-meat, animal, meat, pork, water, sea-salt, salt, spice, condiment, dextrose, added-sugar, monosaccharide, glucose, sheeps-casing, casing, ginger, marjoram, herb, clove, coriander, caraway, parsley, vegetable, leaf-vegetable, pepper, seed</td>\n",
       "      <td>meats-and-their-products, prepared-meats, sausages, german-meat-products</td>\n",
       "      <td>8</td>\n",
       "    </tr>\n",
       "    <tr>\n",
       "      <th>19</th>\n",
       "      <td>fish meat eggs</td>\n",
       "      <td>metais,metais recicláveis,caixa,lata,lata de alimentos,canned</td>\n",
       "      <td>atum posta em azeite</td>\n",
       "      <td>d</td>\n",
       "      <td>27</td>\n",
       "      <td>5604450260080</td>\n",
       "      <td>portugal</td>\n",
       "      <td>tuna, fish, skipjack-tuna</td>\n",
       "      <td>seafood, fishes-and-their-products, canned-foods, fishes, fatty-fishes, canned-fishes, tunas, canned-tunas, tunas-in-oil, tuna-in-olive-oil</td>\n",
       "      <td>2</td>\n",
       "    </tr>\n",
       "    <tr>\n",
       "      <th>20</th>\n",
       "      <td>cereals and potatoes</td>\n",
       "      <td>frais, cartons sous plastique</td>\n",
       "      <td>tarte en or, brisée</td>\n",
       "      <td>c</td>\n",
       "      <td>41</td>\n",
       "      <td>7613034478061</td>\n",
       "      <td>france</td>\n",
       "      <td>wheat-flour, cereal, flour, wheat, cereal-flour, palm-oil, oil-and-fat, vegetable-oil-and-fat, palm-oil-and-fat, colza-oil, rapeseed-oil, sunflower-oil, vegetable-oil, water, concentrated-lemon-juice, fruit, juice, fruit-juice, lemon-juice, alcohol, salt, fruit-and-vegetable-concentrates, vegetable, preparation, fruit-concentrate, vegetable-concentrate, carrot, root-vegetable, taproot-vegetable, apple, malaceous-fruit, lemon, citrus-fruit</td>\n",
       "      <td>plant-based-foods-and-beverages, plant-based-foods, cereals-and-potatoes, cereals-and-their-products, pie-dough, shortcrust-pastry</td>\n",
       "      <td>2</td>\n",
       "    </tr>\n",
       "    <tr>\n",
       "      <th>21</th>\n",
       "      <td>milk and dairy products</td>\n",
       "      <td>pot en plastique</td>\n",
       "      <td>cancoillotte nature</td>\n",
       "      <td>d</td>\n",
       "      <td>35</td>\n",
       "      <td>267970000267</td>\n",
       "      <td>france</td>\n",
       "      <td>dairy, milk, water, butter, salt, sodium-citrate, minerals, sodium</td>\n",
       "      <td>dairies, fermented-foods, fermented-milk-products, cheeses, french-cheeses, processed-cheese, cancoillottes</td>\n",
       "      <td>1</td>\n",
       "    </tr>\n",
       "    <tr>\n",
       "      <th>22</th>\n",
       "      <td>sugary snacks</td>\n",
       "      <td>none</td>\n",
       "      <td>sucette chocolat</td>\n",
       "      <td>b</td>\n",
       "      <td>67</td>\n",
       "      <td>5414730418199</td>\n",
       "      <td>france</td>\n",
       "      <td>None</td>\n",
       "      <td>snacks, sweet-snacks, confectioneries, candies, lollipops</td>\n",
       "      <td>0</td>\n",
       "    </tr>\n",
       "    <tr>\n",
       "      <th>23</th>\n",
       "      <td>salty snacks</td>\n",
       "      <td>sachet</td>\n",
       "      <td>souffle de maïs</td>\n",
       "      <td>z</td>\n",
       "      <td>999</td>\n",
       "      <td>9391771707207</td>\n",
       "      <td>france</td>\n",
       "      <td>milled-roasted-peanuts, nut, peanut, roasted-peanuts, sunflower-oil, oil-and-fat, vegetable-oil-and-fat, vegetable-oil, salt, pepper, seed</td>\n",
       "      <td>snacks, salty-snacks, appetizers</td>\n",
       "      <td>2</td>\n",
       "    </tr>\n",
       "    <tr>\n",
       "      <th>24</th>\n",
       "      <td>None</td>\n",
       "      <td>none</td>\n",
       "      <td>acción memoria</td>\n",
       "      <td>z</td>\n",
       "      <td>999</td>\n",
       "      <td>8480000771759</td>\n",
       "      <td>spain</td>\n",
       "      <td>None</td>\n",
       "      <td>dietary-supplements</td>\n",
       "      <td>1</td>\n",
       "    </tr>\n",
       "    <tr>\n",
       "      <th>25</th>\n",
       "      <td>None</td>\n",
       "      <td>none</td>\n",
       "      <td>le chocolatier</td>\n",
       "      <td>z</td>\n",
       "      <td>999</td>\n",
       "      <td>3760061497535</td>\n",
       "      <td>france</td>\n",
       "      <td>None</td>\n",
       "      <td>snacks</td>\n",
       "      <td>7</td>\n",
       "    </tr>\n",
       "    <tr>\n",
       "      <th>26</th>\n",
       "      <td>fish meat eggs</td>\n",
       "      <td>none</td>\n",
       "      <td>chicharrillos</td>\n",
       "      <td>z</td>\n",
       "      <td>999</td>\n",
       "      <td>8480000183286</td>\n",
       "      <td>spain</td>\n",
       "      <td>None</td>\n",
       "      <td>seafood, fishes-and-their-products, canned-foods, fishes, canned-fishes</td>\n",
       "      <td>0</td>\n",
       "    </tr>\n",
       "    <tr>\n",
       "      <th>27</th>\n",
       "      <td>None</td>\n",
       "      <td>none</td>\n",
       "      <td>canela molida</td>\n",
       "      <td>e</td>\n",
       "      <td>2</td>\n",
       "      <td>8430807002785</td>\n",
       "      <td>spain</td>\n",
       "      <td>None</td>\n",
       "      <td>plant-based-foods-and-beverages, plant-based-foods, condiments, spices, cinnamon, cinnamon-powder, groceries</td>\n",
       "      <td>0</td>\n",
       "    </tr>\n",
       "    <tr>\n",
       "      <th>28</th>\n",
       "      <td>sugary snacks</td>\n",
       "      <td>none</td>\n",
       "      <td>fudge covered coconut dreams cookies</td>\n",
       "      <td>d</td>\n",
       "      <td>39</td>\n",
       "      <td>30100944034</td>\n",
       "      <td>united states</td>\n",
       "      <td>sugar, added-sugar, disaccharide, vegetable-oil, oil-and-fat, vegetable-oil-and-fat, flour, coconut, fruit, corn-syrup, sweetened-condensed-milk, dairy, milk, condensed-milk, cocoa, plant, contains-two-percent-and-less-of-sorbitol, e422, corn-starch, starch, invert-sugar, monosaccharide, salt, soya-lecithin, e322, e322i, dextrose, glucose, natural-and-artificial-flavouring, flavouring, natural-flavouring, artificial-flavouring, raising-agent, e407, condensed-skimmed-milk, peanut-flour, nut, peanut, palm-kernel-oil, palm-kernel-oil-and-fat, cottonseed-oil, soybean-and-palm-oil-with-tbhq-for-freshness, wheat-flour, cereal, wheat, cereal-flour, e375, reduced-iron, minerals, iron, thiamin, e101, folic-acid, folate, e341i, e341, e500ii, e500, thiamin-mononitrate</td>\n",
       "      <td>snacks, sweet-snacks, biscuits-and-cakes, biscuits</td>\n",
       "      <td>0</td>\n",
       "    </tr>\n",
       "    <tr>\n",
       "      <th>29</th>\n",
       "      <td>sugary snacks</td>\n",
       "      <td>none</td>\n",
       "      <td>gluten-free river of fudge bar</td>\n",
       "      <td>c</td>\n",
       "      <td>49</td>\n",
       "      <td>30955476537</td>\n",
       "      <td>united states</td>\n",
       "      <td>gf-rolled-oats, gf-brown-rice-flour, gf-sweet-rice-flour, gf-brown-sugar, gf-tapioca-starch, gf-golden-flax-meal, natural-gf-teff-flour, gf-millet-flour, gf-amaranth-flour, gf-quinoa-flour, butter, dairy, egg, sweetened-condensed-milk, milk, condensed-milk, vanilla, plant, e415, aluminum-free-baking-soda, gf-chocolate-chips-cane-sugar, cocoa-paste, cocoa, cocoa-butter, soya-lecithin, e322, e322i, vanilla-extract</td>\n",
       "      <td>snacks, sweet-snacks, biscuits-and-cakes, biscuits</td>\n",
       "      <td>0</td>\n",
       "    </tr>\n",
       "    <tr>\n",
       "      <th>30</th>\n",
       "      <td>beverages</td>\n",
       "      <td>none</td>\n",
       "      <td>red berry plus protein booster</td>\n",
       "      <td>z</td>\n",
       "      <td>999</td>\n",
       "      <td>856220004331</td>\n",
       "      <td>united states</td>\n",
       "      <td>pea-protein, protein, plant-protein, whole-food-fruit-blend, plantsweet, all-natural-flavors, fruitnourish, macronourish, apple, fruit, malaceous-fruit, strawberry, berries, cherry, prunus-species-fruit, blackberry, blueberry, raspberry, plant-based-soluble-fiber, coconut-nectar, stevia-extract, baobab, maqui-berry, pomegranate, an, prebiotic-blend-of-fermented-vegetables, whole-grains, seed, nut, and-herbs, acerola, anis, avocado, vegetable, fruit-vegetable, adzuki-bean, legume, pulse, banana, barley, cereal, black-bean, black-sesame, brazil-nut, tree-nut, brown-rice, rice, brown-sugar, added-sugar, disaccharide, sugar, cabbage, brassica, carambora, carrot, root-vegetable, taproot-vegetable, cashew-nuts, cassava, tuber, chickpea, chicory-root, shoot-vegetable, chicory, cinnamon, condiment, spice, clove, corn, couve-manteiga, ginger, green-bell-pepper, bell-pepper, guava, honey, jalo-bean, kiwi, lemon, citrus-fruit, lentils, mango, melon, millet, natto, oat, orange, papaya, passionfruit, pea, pod-and-seed-vegetable, pear, pineapple, plum, pumpkin, red-grape, grape, roxinho-bean, rye, sacred-lotus, seaweed, algae, sugar-beet, sweet-potato, tomato, turnip, watermelon, west-indian-lemon-grass, mate, plant, zedoary</td>\n",
       "      <td>beverages, dried-products, dried-products-to-be-rehydrated, dehydrated-beverages</td>\n",
       "      <td>0</td>\n",
       "    </tr>\n",
       "    <tr>\n",
       "      <th>31</th>\n",
       "      <td>None</td>\n",
       "      <td>none</td>\n",
       "      <td>dark chocolate almonds</td>\n",
       "      <td>z</td>\n",
       "      <td>999</td>\n",
       "      <td>884853800280</td>\n",
       "      <td>united states</td>\n",
       "      <td>dark-chocolate, chocolate, almond, nut, tree-nut, sugar, added-sugar, disaccharide, cocoa-paste, plant, cocoa, cocoa-butter, butterfat, dairy, oil-and-fat, fat, milkfat, soya-lecithin, e322, e322i, and-vanilla, e414, corn-syrup, and-certified-confectioners-glaze, emulsifier</td>\n",
       "      <td>snacks</td>\n",
       "      <td>0</td>\n",
       "    </tr>\n",
       "    <tr>\n",
       "      <th>32</th>\n",
       "      <td>None</td>\n",
       "      <td>none</td>\n",
       "      <td>sweetened whipped topping</td>\n",
       "      <td>z</td>\n",
       "      <td>999</td>\n",
       "      <td>70038475552</td>\n",
       "      <td>united states</td>\n",
       "      <td>cream, dairy, skimmed-milk, milk, corn-syrup, added-sugar, disaccharide, high-fructose-corn-syrup, monosaccharide, fructose, glucose, glucose-fructose-syrup, e471, e407, dextrose, natural-and-artificial-vanilla-flavoring-and-nitrous-oxide-as-whipping-propellant</td>\n",
       "      <td>baking-decorations</td>\n",
       "      <td>0</td>\n",
       "    </tr>\n",
       "    <tr>\n",
       "      <th>33</th>\n",
       "      <td>sugary snacks</td>\n",
       "      <td>none</td>\n",
       "      <td>1/2 sheet cake</td>\n",
       "      <td>z</td>\n",
       "      <td>999</td>\n",
       "      <td>23933682327</td>\n",
       "      <td>united states</td>\n",
       "      <td>sugar, added-sugar, disaccharide, wheat-flour, cereal, flour, wheat, cereal-flour, egg, soya-oil, oil-and-fat, vegetable-oil-and-fat, vegetable-oil, skimmed-milk, dairy, milk, water, egg-white, cocoa, plant, intersterified-soybean-oil, butter, modified-starch, starch, corn-syrup, skimmed-milk-powder, milk-powder, e500ii, e500, distilled-monoglycerides, salt, hydrogenated-cottonseed-oil, cottonseed-oil, e471, e450i, e450, natural-and-artificial-flavouring, flavouring, natural-flavouring, artificial-flavouring, propylene-glycol-monoester, e322i, e322, polyglycerol-ester-of-fatty-acids, e412, sodium-caseinate, caseinate, e415, e129, e133, e132, e127, e110, e102, processed-with-alkali</td>\n",
       "      <td>snacks, sweet-snacks, biscuits-and-cakes, cakes</td>\n",
       "      <td>0</td>\n",
       "    </tr>\n",
       "    <tr>\n",
       "      <th>34</th>\n",
       "      <td>beverages</td>\n",
       "      <td>none</td>\n",
       "      <td>sparkling mountain spring water, zesty lime, pomegranate lemonade, triple berry</td>\n",
       "      <td>z</td>\n",
       "      <td>999</td>\n",
       "      <td>71142446339</td>\n",
       "      <td>united states</td>\n",
       "      <td>mountain-spring-water, water, spring-water, co2, natural-flavouring, flavouring</td>\n",
       "      <td>beverages, waters</td>\n",
       "      <td>0</td>\n",
       "    </tr>\n",
       "    <tr>\n",
       "      <th>35</th>\n",
       "      <td>beverages</td>\n",
       "      <td>none</td>\n",
       "      <td>vintage vanilla cold-brew sparkling coffee, vintage vanilla</td>\n",
       "      <td>z</td>\n",
       "      <td>999</td>\n",
       "      <td>854560005711</td>\n",
       "      <td>united states</td>\n",
       "      <td>cold-brewed-coffee, cane-sugar, added-sugar, disaccharide, sugar, natural-flavouring, flavouring, e330, water, coffee</td>\n",
       "      <td>beverages</td>\n",
       "      <td>0</td>\n",
       "    </tr>\n",
       "    <tr>\n",
       "      <th>36</th>\n",
       "      <td>milk and dairy products</td>\n",
       "      <td>tetra pak</td>\n",
       "      <td>latte intero microfiltrato</td>\n",
       "      <td>b</td>\n",
       "      <td>74</td>\n",
       "      <td>8002011001078</td>\n",
       "      <td>italy</td>\n",
       "      <td>whole-milk, dairy, milk</td>\n",
       "      <td>dairies, milks, pasteurised-milks, whole-milks, microfiltered-milks</td>\n",
       "      <td>3</td>\n",
       "    </tr>\n",
       "    <tr>\n",
       "      <th>37</th>\n",
       "      <td>salty snacks</td>\n",
       "      <td>none</td>\n",
       "      <td>olive and oregano crackers</td>\n",
       "      <td>c</td>\n",
       "      <td>57</td>\n",
       "      <td>667888324187</td>\n",
       "      <td>canada</td>\n",
       "      <td>wheat-flour, cereal, flour, wheat, cereal-flour, palm-oil, oil-and-fat, vegetable-oil-and-fat, palm-oil-and-fat, sugar, added-sugar, disaccharide, salt, modified-milk-ingredients, dairy, milk, e500ii, e500, artificial-flavouring, flavouring, olive-paste, e339, oregano, herb, parsley, vegetable, leaf-vegetable, yeast, olive-oil, vegetable-oil, fructose-syrup, monosaccharide, fructose</td>\n",
       "      <td>snacks, salty-snacks, appetizers, crackers</td>\n",
       "      <td>0</td>\n",
       "    </tr>\n",
       "    <tr>\n",
       "      <th>38</th>\n",
       "      <td>None</td>\n",
       "      <td>none</td>\n",
       "      <td>vanille pudding</td>\n",
       "      <td>z</td>\n",
       "      <td>999</td>\n",
       "      <td>4058172487392</td>\n",
       "      <td>None, germany</td>\n",
       "      <td>None</td>\n",
       "      <td>plant-based-foods-and-beverages, plant-based-foods, condiments, spices, vanilla</td>\n",
       "      <td>7</td>\n",
       "    </tr>\n",
       "    <tr>\n",
       "      <th>39</th>\n",
       "      <td>beverages</td>\n",
       "      <td>none</td>\n",
       "      <td>zumo pera piña</td>\n",
       "      <td>e</td>\n",
       "      <td>4</td>\n",
       "      <td>8410707004065</td>\n",
       "      <td>spain</td>\n",
       "      <td>None</td>\n",
       "      <td>plant-based-foods-and-beverages, beverages, plant-based-beverages, fruit-based-beverages, juices-and-nectars, fruit-juices</td>\n",
       "      <td>0</td>\n",
       "    </tr>\n",
       "    <tr>\n",
       "      <th>40</th>\n",
       "      <td>milk and dairy products</td>\n",
       "      <td>none</td>\n",
       "      <td>comte aop 15 mois d'affinage</td>\n",
       "      <td>c</td>\n",
       "      <td>51</td>\n",
       "      <td>2460576053134</td>\n",
       "      <td>france</td>\n",
       "      <td>None</td>\n",
       "      <td>dairies, fermented-foods, fermented-milk-products, cheeses, hard-cheeses, french-cheeses, comte</td>\n",
       "      <td>1</td>\n",
       "    </tr>\n",
       "    <tr>\n",
       "      <th>41</th>\n",
       "      <td>milk and dairy products</td>\n",
       "      <td>none</td>\n",
       "      <td>tranchette de gouda</td>\n",
       "      <td>c</td>\n",
       "      <td>48</td>\n",
       "      <td>3658745129820</td>\n",
       "      <td>france</td>\n",
       "      <td>None</td>\n",
       "      <td>dairies, fermented-foods, fermented-milk-products, cheeses, cow-cheeses, uncooked-pressed-cheeses, cheeses-of-the-netherlands, gouda</td>\n",
       "      <td>0</td>\n",
       "    </tr>\n",
       "    <tr>\n",
       "      <th>42</th>\n",
       "      <td>cereals and potatoes</td>\n",
       "      <td>kunststoff, kasten, pappe, folie, karton</td>\n",
       "      <td>kelloggs</td>\n",
       "      <td>d</td>\n",
       "      <td>30</td>\n",
       "      <td>4316268628938</td>\n",
       "      <td>germany</td>\n",
       "      <td>wheat, cereal, sugar, added-sugar, disaccharide, glucose-syrup, monosaccharide, glucose, honey, sunflower-oil, oil-and-fat, vegetable-oil-and-fat, vegetable-oil</td>\n",
       "      <td>plant-based-foods-and-beverages, plant-based-foods, breakfasts, cereals-and-potatoes, cereals-and-their-products, breakfast-cereals, flakes, cereal-flakes, extruded-cereals, extruded-flakes, corn-flakes</td>\n",
       "      <td>0</td>\n",
       "    </tr>\n",
       "    <tr>\n",
       "      <th>43</th>\n",
       "      <td>milk and dairy products</td>\n",
       "      <td>none</td>\n",
       "      <td>mozzarella fior di latte bio carrefour</td>\n",
       "      <td>b</td>\n",
       "      <td>70</td>\n",
       "      <td>8012666048465</td>\n",
       "      <td>italy</td>\n",
       "      <td>None</td>\n",
       "      <td>dairies, fermented-foods, fermented-milk-products, cheeses, italian-cheeses, stretched-curd-cheeses, mozzarella</td>\n",
       "      <td>2</td>\n",
       "    </tr>\n",
       "    <tr>\n",
       "      <th>44</th>\n",
       "      <td>sugary snacks</td>\n",
       "      <td>none</td>\n",
       "      <td>biscuit petit-déjeuner</td>\n",
       "      <td>c</td>\n",
       "      <td>49</td>\n",
       "      <td>5400141367409</td>\n",
       "      <td>belgium</td>\n",
       "      <td>energy</td>\n",
       "      <td>snacks, sweet-snacks, biscuits-and-cakes, biscuits</td>\n",
       "      <td>3</td>\n",
       "    </tr>\n",
       "    <tr>\n",
       "      <th>45</th>\n",
       "      <td>fat and sauces</td>\n",
       "      <td>none</td>\n",
       "      <td>sugo pomodoro ciliegino alle melanzane</td>\n",
       "      <td>z</td>\n",
       "      <td>999</td>\n",
       "      <td>8025916122129</td>\n",
       "      <td>italy</td>\n",
       "      <td>None</td>\n",
       "      <td>condiments, sauces, pasta-sauces</td>\n",
       "      <td>0</td>\n",
       "    </tr>\n",
       "    <tr>\n",
       "      <th>46</th>\n",
       "      <td>cereals and potatoes</td>\n",
       "      <td>none</td>\n",
       "      <td>maccheroncini di campofilonr</td>\n",
       "      <td>z</td>\n",
       "      <td>999</td>\n",
       "      <td>8014311100108</td>\n",
       "      <td>italy</td>\n",
       "      <td>None</td>\n",
       "      <td>plant-based-foods-and-beverages, plant-based-foods, pastas, italian-pasta</td>\n",
       "      <td>0</td>\n",
       "    </tr>\n",
       "    <tr>\n",
       "      <th>47</th>\n",
       "      <td>salty snacks</td>\n",
       "      <td>none</td>\n",
       "      <td>dragon sweet chili</td>\n",
       "      <td>c</td>\n",
       "      <td>58</td>\n",
       "      <td>757528046569</td>\n",
       "      <td>canada</td>\n",
       "      <td>corn-flour, cereal, flour, corn, vegetable-oil, oil-and-fat, vegetable-oil-and-fat, coating, water, canola, vegetable, root-vegetable, rapeseed, palm, palm-oil-and-fat, palm-oil, sugar, added-sugar, disaccharide, salt, e508, hydrolysed-soy-protein, protein, plant-protein, hydrolysed-vegetable-protein, soy-protein, e260, e330, natural-flavouring, flavouring, autolyzed-yeast-extract, yeast, yeast-extract, spice, condiment, e129, e110, e160c, cayenne-pepper-sauce, e631, e627, e551, corn-maltodextrin, maltodextrin, dextrose, monosaccharide, glucose, colour</td>\n",
       "      <td>snacks, salty-snacks, appetizers, chips-and-fries, crisps, corn-chips</td>\n",
       "      <td>0</td>\n",
       "    </tr>\n",
       "    <tr>\n",
       "      <th>48</th>\n",
       "      <td>sugary snacks</td>\n",
       "      <td>none</td>\n",
       "      <td>galettes fines bretonnes</td>\n",
       "      <td>c</td>\n",
       "      <td>49</td>\n",
       "      <td>7600748742861</td>\n",
       "      <td>france</td>\n",
       "      <td>None</td>\n",
       "      <td>snacks, sweet-snacks, biscuits-and-cakes, biscuits, shortbread-cookies, shortbread-cookies-from-brittany</td>\n",
       "      <td>1</td>\n",
       "    </tr>\n",
       "    <tr>\n",
       "      <th>49</th>\n",
       "      <td>None</td>\n",
       "      <td>none</td>\n",
       "      <td>falafels</td>\n",
       "      <td>b</td>\n",
       "      <td>79</td>\n",
       "      <td>3175681274907</td>\n",
       "      <td>france</td>\n",
       "      <td>None</td>\n",
       "      <td>plant-based-foods-and-beverages, plant-based-foods, meat-alternatives, vegetarian-balls, falafels</td>\n",
       "      <td>9</td>\n",
       "    </tr>\n",
       "    <tr>\n",
       "      <th>50</th>\n",
       "      <td>None</td>\n",
       "      <td>none</td>\n",
       "      <td>cravn barbeque potato chips</td>\n",
       "      <td>z</td>\n",
       "      <td>999</td>\n",
       "      <td>36800487345</td>\n",
       "      <td>united states</td>\n",
       "      <td>None</td>\n",
       "      <td>snacks</td>\n",
       "      <td>0</td>\n",
       "    </tr>\n",
       "    <tr>\n",
       "      <th>51</th>\n",
       "      <td>None</td>\n",
       "      <td>none</td>\n",
       "      <td>pieza pan panaderia hucar 250 grs.</td>\n",
       "      <td>z</td>\n",
       "      <td>999</td>\n",
       "      <td>2603832001009</td>\n",
       "      <td>spain</td>\n",
       "      <td>None</td>\n",
       "      <td>plant-based-foods-and-beverages</td>\n",
       "      <td>0</td>\n",
       "    </tr>\n",
       "    <tr>\n",
       "      <th>52</th>\n",
       "      <td>milk and dairy products</td>\n",
       "      <td>none</td>\n",
       "      <td>mochi chocolate</td>\n",
       "      <td>b</td>\n",
       "      <td>67</td>\n",
       "      <td>8431876322422</td>\n",
       "      <td>spain</td>\n",
       "      <td>pasteurised-whole-milk, dairy, milk, pasteurised-milk, whole-milk, sugar, added-sugar, disaccharide, cream, water, rice-flour, flour, rice, cocoa-powder, plant, cocoa, trehalose, lactose-and-milk-proteins, protein, animal-protein, milk-proteins, lactose, potato-starch, starch, dehydrated-glucose-syrup, monosaccharide, glucose, glucose-syrup, egg-white, egg, emulsifier, stabiliser, cocoa-paste, cocoa-butter, e471, e410, soya-lecithin, e322, e322i, natural-vanilla-flavouring, flavouring, natural-flavouring, vanilla-flavouring</td>\n",
       "      <td>snacks, desserts, sweet-snacks, frozen-foods, biscuits-and-cakes, frozen-desserts, ice-creams-and-sorbets, ice-creams, pastries, mochi, mochi-ice-cream</td>\n",
       "      <td>3</td>\n",
       "    </tr>\n",
       "    <tr>\n",
       "      <th>53</th>\n",
       "      <td>fish meat eggs</td>\n",
       "      <td>none</td>\n",
       "      <td>camaron cocido</td>\n",
       "      <td>z</td>\n",
       "      <td>999</td>\n",
       "      <td>8480000872746</td>\n",
       "      <td>spain</td>\n",
       "      <td>None</td>\n",
       "      <td>seafood</td>\n",
       "      <td>0</td>\n",
       "    </tr>\n",
       "    <tr>\n",
       "      <th>54</th>\n",
       "      <td>None</td>\n",
       "      <td>none</td>\n",
       "      <td>glasur eierlikör</td>\n",
       "      <td>z</td>\n",
       "      <td>999</td>\n",
       "      <td>40225067</td>\n",
       "      <td>germany</td>\n",
       "      <td>None</td>\n",
       "      <td>cooking-helpers, pastry-helpers</td>\n",
       "      <td>0</td>\n",
       "    </tr>\n",
       "    <tr>\n",
       "      <th>55</th>\n",
       "      <td>fruits and vegetables</td>\n",
       "      <td>none</td>\n",
       "      <td>soupe potimarron/patate douce</td>\n",
       "      <td>b</td>\n",
       "      <td>79</td>\n",
       "      <td>3760346870657</td>\n",
       "      <td>france</td>\n",
       "      <td>red-kuri-squash, vegetable, fruit-vegetable, pumpkin, sweet-potato, root-vegetable, tuber, cooking-water, water, onion, onion-family-vegetable, garlic, salt-from-guerande, salt, sea-salt</td>\n",
       "      <td>plant-based-foods-and-beverages, plant-based-foods, fruits-and-vegetables-based-foods, vegetables-based-foods, meals, pumpkin-and-squash-plant-products, soups, pumpkins-and-their-products, vegetable-soups, pumpkin-soups, pumpkins</td>\n",
       "      <td>2</td>\n",
       "    </tr>\n",
       "    <tr>\n",
       "      <th>56</th>\n",
       "      <td>sugary snacks</td>\n",
       "      <td>pot</td>\n",
       "      <td>miel</td>\n",
       "      <td>a</td>\n",
       "      <td>100</td>\n",
       "      <td>3445731107913</td>\n",
       "      <td>france</td>\n",
       "      <td>None</td>\n",
       "      <td>breakfasts, spreads, sweet-spreads, bee-products, farming-products, sweeteners, honeys</td>\n",
       "      <td>0</td>\n",
       "    </tr>\n",
       "    <tr>\n",
       "      <th>57</th>\n",
       "      <td>beverages</td>\n",
       "      <td>none</td>\n",
       "      <td>barista creations roasted hazelnut flavoured</td>\n",
       "      <td>e</td>\n",
       "      <td>0</td>\n",
       "      <td>7630428735326</td>\n",
       "      <td>united kingdom</td>\n",
       "      <td>ground-roasted-coffee, coffee, ground-coffee, natural-flavouring, flavouring</td>\n",
       "      <td>beverages-and-beverages-preparations, plant-based-foods-and-beverages, beverages, plant-based-foods, hot-beverages, coffees, capsules, coffee-capsules, nespresso-compatible-coffee-capsules</td>\n",
       "      <td>0</td>\n",
       "    </tr>\n",
       "    <tr>\n",
       "      <th>58</th>\n",
       "      <td>None</td>\n",
       "      <td>none</td>\n",
       "      <td>rome</td>\n",
       "      <td>z</td>\n",
       "      <td>999</td>\n",
       "      <td>3322177108028</td>\n",
       "      <td>france, germany</td>\n",
       "      <td>None</td>\n",
       "      <td>beverages</td>\n",
       "      <td>0</td>\n",
       "    </tr>\n",
       "    <tr>\n",
       "      <th>59</th>\n",
       "      <td>None</td>\n",
       "      <td>none</td>\n",
       "      <td>triple chocolate protein bar</td>\n",
       "      <td>z</td>\n",
       "      <td>999</td>\n",
       "      <td>600025330825</td>\n",
       "      <td>None</td>\n",
       "      <td>None</td>\n",
       "      <td>dietary-supplements, bodybuilding-supplements, protein-bars</td>\n",
       "      <td>0</td>\n",
       "    </tr>\n",
       "  </tbody>\n",
       "</table>\n",
       "</div>"
      ],
      "text/plain": [
       "                     groups  \\\n",
       "0      cereals and potatoes   \n",
       "1              salty snacks   \n",
       "2           composite foods   \n",
       "3      cereals and potatoes   \n",
       "4      cereals and potatoes   \n",
       "5                 beverages   \n",
       "6   milk and dairy products   \n",
       "7     fruits and vegetables   \n",
       "8                 beverages   \n",
       "9   milk and dairy products   \n",
       "10     cereals and potatoes   \n",
       "11    fruits and vegetables   \n",
       "12    fruits and vegetables   \n",
       "13                beverages   \n",
       "14            sugary snacks   \n",
       "15           fat and sauces   \n",
       "16            sugary snacks   \n",
       "17            sugary snacks   \n",
       "18           fish meat eggs   \n",
       "19           fish meat eggs   \n",
       "20     cereals and potatoes   \n",
       "21  milk and dairy products   \n",
       "22            sugary snacks   \n",
       "23             salty snacks   \n",
       "24                     None   \n",
       "25                     None   \n",
       "26           fish meat eggs   \n",
       "27                     None   \n",
       "28            sugary snacks   \n",
       "29            sugary snacks   \n",
       "30                beverages   \n",
       "31                     None   \n",
       "32                     None   \n",
       "33            sugary snacks   \n",
       "34                beverages   \n",
       "35                beverages   \n",
       "36  milk and dairy products   \n",
       "37             salty snacks   \n",
       "38                     None   \n",
       "39                beverages   \n",
       "40  milk and dairy products   \n",
       "41  milk and dairy products   \n",
       "42     cereals and potatoes   \n",
       "43  milk and dairy products   \n",
       "44            sugary snacks   \n",
       "45           fat and sauces   \n",
       "46     cereals and potatoes   \n",
       "47             salty snacks   \n",
       "48            sugary snacks   \n",
       "49                     None   \n",
       "50                     None   \n",
       "51                     None   \n",
       "52  milk and dairy products   \n",
       "53           fish meat eggs   \n",
       "54                     None   \n",
       "55    fruits and vegetables   \n",
       "56            sugary snacks   \n",
       "57                beverages   \n",
       "58                     None   \n",
       "59                     None   \n",
       "\n",
       "                                                               packaging  \\\n",
       "0                                                                   none   \n",
       "1                                                   mixed plastic-packet   \n",
       "2                                                                   none   \n",
       "3                                                                   none   \n",
       "4                                                                   none   \n",
       "5                                                                   none   \n",
       "6                                                                   none   \n",
       "7                                                         bocal en verre   \n",
       "8   plastique, pet - polytéréphtalate d'éthylène, bouteille en plastique   \n",
       "9                                                                   none   \n",
       "10                                                      sachet plastique   \n",
       "11                                                                  none   \n",
       "12                                                                  none   \n",
       "13                                                                  none   \n",
       "14                                                                  none   \n",
       "15                                                                  none   \n",
       "16                                                                  none   \n",
       "17                                                     plastique, sachet   \n",
       "18                                                          plastic,film   \n",
       "19         metais,metais recicláveis,caixa,lata,lata de alimentos,canned   \n",
       "20                                         frais, cartons sous plastique   \n",
       "21                                                      pot en plastique   \n",
       "22                                                                  none   \n",
       "23                                                                sachet   \n",
       "24                                                                  none   \n",
       "25                                                                  none   \n",
       "26                                                                  none   \n",
       "27                                                                  none   \n",
       "28                                                                  none   \n",
       "29                                                                  none   \n",
       "30                                                                  none   \n",
       "31                                                                  none   \n",
       "32                                                                  none   \n",
       "33                                                                  none   \n",
       "34                                                                  none   \n",
       "35                                                                  none   \n",
       "36                                                             tetra pak   \n",
       "37                                                                  none   \n",
       "38                                                                  none   \n",
       "39                                                                  none   \n",
       "40                                                                  none   \n",
       "41                                                                  none   \n",
       "42                              kunststoff, kasten, pappe, folie, karton   \n",
       "43                                                                  none   \n",
       "44                                                                  none   \n",
       "45                                                                  none   \n",
       "46                                                                  none   \n",
       "47                                                                  none   \n",
       "48                                                                  none   \n",
       "49                                                                  none   \n",
       "50                                                                  none   \n",
       "51                                                                  none   \n",
       "52                                                                  none   \n",
       "53                                                                  none   \n",
       "54                                                                  none   \n",
       "55                                                                  none   \n",
       "56                                                                   pot   \n",
       "57                                                                  none   \n",
       "58                                                                  none   \n",
       "59                                                                  none   \n",
       "\n",
       "                                                                                             name  \\\n",
       "0                                                                                        linguine   \n",
       "1                                                                             cheesy garlic slice   \n",
       "2   fully cooked oven roasted boneless skinless chicken breast strips with rib meat, oven roasted   \n",
       "3                                                                      organic white arborio rice   \n",
       "4                                                                           dark red kidney beans   \n",
       "5                                                         vapor distilled water with electrolytes   \n",
       "6                                                                               milk shake schoko   \n",
       "7                                                                               mogette de vendee   \n",
       "8                                                          eau de source des montagnes d'auvergne   \n",
       "9                                                                        yaourt sur lit d'abricot   \n",
       "10                                                                              spätzle aux oeufs   \n",
       "11                                                                          figues moelleuses bio   \n",
       "12                                                                                          melon   \n",
       "13                                                                                 jus de carotte   \n",
       "14                                                     bonbons gommes acacia assortiment gourmand   \n",
       "15                                                     moutarde a l'ancienne - piment d'espelette   \n",
       "16                                                       chocolat à casser noir calisson & nougat   \n",
       "17                                                           zimsterne - étoiles en pain d'épices   \n",
       "18                                                                           delikatess bratwurst   \n",
       "19                                                                           atum posta em azeite   \n",
       "20                                                                            tarte en or, brisée   \n",
       "21                                                                            cancoillotte nature   \n",
       "22                                                                               sucette chocolat   \n",
       "23                                                                                souffle de maïs   \n",
       "24                                                                                 acción memoria   \n",
       "25                                                                                 le chocolatier   \n",
       "26                                                                                  chicharrillos   \n",
       "27                                                                                  canela molida   \n",
       "28                                                           fudge covered coconut dreams cookies   \n",
       "29                                                                 gluten-free river of fudge bar   \n",
       "30                                                                 red berry plus protein booster   \n",
       "31                                                                         dark chocolate almonds   \n",
       "32                                                                      sweetened whipped topping   \n",
       "33                                                                                 1/2 sheet cake   \n",
       "34                sparkling mountain spring water, zesty lime, pomegranate lemonade, triple berry   \n",
       "35                                    vintage vanilla cold-brew sparkling coffee, vintage vanilla   \n",
       "36                                                                     latte intero microfiltrato   \n",
       "37                                                                     olive and oregano crackers   \n",
       "38                                                                                vanille pudding   \n",
       "39                                                                                 zumo pera piña   \n",
       "40                                                                   comte aop 15 mois d'affinage   \n",
       "41                                                                            tranchette de gouda   \n",
       "42                                                                                       kelloggs   \n",
       "43                                                         mozzarella fior di latte bio carrefour   \n",
       "44                                                                         biscuit petit-déjeuner   \n",
       "45                                                         sugo pomodoro ciliegino alle melanzane   \n",
       "46                                                                   maccheroncini di campofilonr   \n",
       "47                                                                             dragon sweet chili   \n",
       "48                                                                       galettes fines bretonnes   \n",
       "49                                                                                       falafels   \n",
       "50                                                                    cravn barbeque potato chips   \n",
       "51                                                             pieza pan panaderia hucar 250 grs.   \n",
       "52                                                                                mochi chocolate   \n",
       "53                                                                                 camaron cocido   \n",
       "54                                                                               glasur eierlikör   \n",
       "55                                                                  soupe potimarron/patate douce   \n",
       "56                                                                                           miel   \n",
       "57                                                   barista creations roasted hazelnut flavoured   \n",
       "58                                                                                           rome   \n",
       "59                                                                   triple chocolate protein bar   \n",
       "\n",
       "   ecoscore_groups  ecoscore_note           code             countries  \\\n",
       "0                z            999    26662523022         united states   \n",
       "1                z            999         200011                france   \n",
       "2                z            999    36800397484         united states   \n",
       "3                e             12    73416040908  united states, world   \n",
       "4                b             72    99482455804         united states   \n",
       "5                z            999   711535509103         united states   \n",
       "6                z            999       20171117                france   \n",
       "7                z            999  3250391787012                france   \n",
       "8                z            999  3256223510049                france   \n",
       "9                b             63  3263858079810                france   \n",
       "10               z            999  3292590837044                france   \n",
       "11               b             79  3299430033673                france   \n",
       "12               z            999  3386381044589                france   \n",
       "13               z            999  3556001010175                france   \n",
       "14               b             69  3564700578704                france   \n",
       "15               c             54  3664335000844                france   \n",
       "16               e             15  3760170090269                france   \n",
       "17               b             71  4006894278101                france   \n",
       "18               z            999  4031829230107       france, germany   \n",
       "19               d             27  5604450260080              portugal   \n",
       "20               c             41  7613034478061                france   \n",
       "21               d             35   267970000267                france   \n",
       "22               b             67  5414730418199                france   \n",
       "23               z            999  9391771707207                france   \n",
       "24               z            999  8480000771759                 spain   \n",
       "25               z            999  3760061497535                france   \n",
       "26               z            999  8480000183286                 spain   \n",
       "27               e              2  8430807002785                 spain   \n",
       "28               d             39    30100944034         united states   \n",
       "29               c             49    30955476537         united states   \n",
       "30               z            999   856220004331         united states   \n",
       "31               z            999   884853800280         united states   \n",
       "32               z            999    70038475552         united states   \n",
       "33               z            999    23933682327         united states   \n",
       "34               z            999    71142446339         united states   \n",
       "35               z            999   854560005711         united states   \n",
       "36               b             74  8002011001078                 italy   \n",
       "37               c             57   667888324187                canada   \n",
       "38               z            999  4058172487392         None, germany   \n",
       "39               e              4  8410707004065                 spain   \n",
       "40               c             51  2460576053134                france   \n",
       "41               c             48  3658745129820                france   \n",
       "42               d             30  4316268628938               germany   \n",
       "43               b             70  8012666048465                 italy   \n",
       "44               c             49  5400141367409               belgium   \n",
       "45               z            999  8025916122129                 italy   \n",
       "46               z            999  8014311100108                 italy   \n",
       "47               c             58   757528046569                canada   \n",
       "48               c             49  7600748742861                france   \n",
       "49               b             79  3175681274907                france   \n",
       "50               z            999    36800487345         united states   \n",
       "51               z            999  2603832001009                 spain   \n",
       "52               b             67  8431876322422                 spain   \n",
       "53               z            999  8480000872746                 spain   \n",
       "54               z            999       40225067               germany   \n",
       "55               b             79  3760346870657                france   \n",
       "56               a            100  3445731107913                france   \n",
       "57               e              0  7630428735326        united kingdom   \n",
       "58               z            999  3322177108028       france, germany   \n",
       "59               z            999   600025330825                  None   \n",
       "\n",
       "                                                                                                                                                                                                                                                                                                                                                                                                                                                                                                                                                                                                                                                                                                                                                                                                                                                                                                                                                                                                                                                                                                                                                                                                                                                                       ingredients  \\\n",
       "0                                                                                                                                                                                                                                                                                                                                                                                                                                                                                                                                                                                                                                                                                                                                                                                                                                                                                                                                                                                                                                                                                                          durum-wheat-semolina, cereal, wheat, durum-wheat, semolina, niacin-ferrous-lactate, thiamin-mononitrate, thiamin, e101, folic-acid, folate, iron, minerals, vitamin-b12   \n",
       "1                                                                                                                                                                                                                                                                                                                                                                                                                                                                                                                                                                                                                                                                                                                                                                                                                                                                                                                                                                                                                      wheat-flour, cereal, flour, wheat, cereal-flour, e170i, e170, iron, minerals, e375, thiamin-water-mature-cheddar-cheese, unsalted-butter, dairy, butter, rapeseed-oil-garlic-puree-yeast-wheat-fibre, lemon-juice-salt-parsley, flour-treatment-agent, e300   \n",
       "2                                                                                                                                                                                                                                                                                                                                                                                                                                                                                                                                                                                                                                                                                                                                                                                                                                                                                                                                                                                  chicken-breast-with-rib-meat, chicken-broth, poultry, chicken, broth, poultry-broth, less-than-2-of, modified-starch, starch, e326, dextrose, added-sugar, monosaccharide, glucose, e339, natural-flavouring, flavouring, yeast-extract, yeast, e262ii, e262, e330, lauric-arginate, e250, salt   \n",
       "3                                                                                                                                                                                                                                                                                                                                                                                                                                                                                                                                                                                                                                                                                                                                                                                                                                                                                                                                                                                                                                                                                                                                                                                                                                                               white-arborio-rice   \n",
       "4                                                                                                                                                                                                                                                                                                                                                                                                                                                                                                                                                                                                                                                                                                                                                                                                                                                                                                                                                                                                                                                                                                                                                                                                                                                     dark-red-kidney-beans, water   \n",
       "5                                                                                                                                                                                                                                                                                                                                                                                                                                                                                                                                                                                                                                                                                                                                                                                                                                                                                                                                                                                                                                                                                                                                                           vapor-distilled-water, electrolytes, natural-blueberry-and-blackberry-flavors, calcium, minerals, potassium, magnesium   \n",
       "6                                                                                                                                                                                                                                                                                                                                                                                                                                                                                                                                                                                                                                                                                                                                                                                                                                                                                                                                                                                                                                                                                                                                                                                                                                                                             None   \n",
       "7                                                                                                                                                                                                                                                                                                                                                                                                                                                                                                                                                                                                                                                                                                                                                                                                                                                                                                                                                                                                                                                                                                                                                                                                                     vegetable, legume, pulse, white-beans, water, sea-salt, salt   \n",
       "8                                                                                                                                                                                                                                                                                                                                                                                                                                                                                                                                                                                                                                                                                                                                                                                                                                                                                                                                                                                                                                                                                                                                                                                                                  magnesium, minerals, sodium, potassium, sulfates, e551, calcium   \n",
       "9                                                                                                                                                                                                                                                                                                                                                                                                                                                                                                                                                                                                                                                                                                                                                                                                                                                        whole-milk, dairy, milk, apricot, fruit, prunus-species-fruit, sugar, added-sugar, disaccharide, glucose-fructose-syrup, monosaccharide, fructose, glucose, milk-proteins, protein, animal-protein, cream, thickener, e440a, flavouring, fruit-preservative, preservative, lactic-ferments, ferment, microbial-culture, modified-tapioca-starch, starch, modified-starch, tapioca, e202, sodium-citrate, minerals, sodium   \n",
       "10                                                                                                                                                                                                                                                                                                                                                                                                                                                                                                                                                                                                                                                                                                                                                                                                                                                                                                                                                                                                                                                                                                                                                                             wheat-flour, cereal, flour, wheat, cereal-flour, water, egg, starch, salt, nutmeg, condiment, spice   \n",
       "11                                                                                                                                                                                                                                                                                                                                                                                                                                                                                                                                                                                                                                                                                                                                                                                                                                                                                                                                                                                                                                                                                                                                                                                                                                                    dried-fig, fruit, fig, water   \n",
       "12                                                                                                                                                                                                                                                                                                                                                                                                                                                                                                                                                                                                                                                                                                                                                                                                                                                                                                                                                                                                                                                                                                                                                                                                                                                                            None   \n",
       "13                                                                                                                                                                                                                                                                                                                                                                                                                                                                                                                                                                                                                                                                                                                                                                                                                                                                                                                                                                                                                                                                                                                           carrot-juice, vegetable, root-vegetable, taproot-vegetable, carrot, vegetable-juice, concentrated-lemon-juice, fruit, juice, fruit-juice, lemon-juice   \n",
       "14                                                                                                                                                                                                                                                                                                                                                                                                                                                                                                                                                                                                                                                                                                                                                                                                                                                                                                                                glucose-syrup, added-sugar, monosaccharide, glucose, sugar, disaccharide, gelling-agent, pork-gelatin, animal, pork, e428, acid, flavouring, colour, e131, e153, e160c, e163, natural-mint-flavouring, natural-flavouring, mint-flavouring, natural-orange-blossom-flavouring, orange-blossom-flavouring, wheat-starch, starch, e414, e330, e100   \n",
       "15                                                                                                                                                                                                                                                                                                                                                                                                                                                                                                                                                                                                                                                                                                                                                                                                                                                                                                                                                                                                                                                                                                                                                                                                                                                                            None   \n",
       "16                                                                                                                                                                                                                                                                                                                                                                                                                                                                                                                                                                                                                                                                                                                                                              nougat, almond, nut, tree-nut, fruit, melon, glucose-fructose-syrup, added-sugar, monosaccharide, fructose, glucose, sugar, disaccharide, e202, preservative, candied-orange-peel, glucose-syrup, wafer, egg-white, egg, natural-vanilla-flavouring, flavouring, natural-flavouring, vanilla-flavouring, natural-sour-almond-flavouring, cocoa-paste, plant, cocoa, emulsifier, honey, cocoa-butter, orange-zest, citrus-fruit, orange, acid, e330, water, soya-lecithin, e322, e322i, potato-starch, starch, e220   \n",
       "17                                                                                                                                                                                                                                                                                                                                                                                                                                                                                                                                                                                                                                                                                                                                                                                                                                                                                                   sugar, added-sugar, disaccharide, fructose, monosaccharide, wheat-flour, cereal, flour, wheat, cereal-flour, almond-paste, nut, tree-nut, almond, cinnamon, condiment, spice, egg-white, egg, wheat-starch, starch, raising-agent, lemon-zest, fruit, citrus-fruit, lemon, orange-zest, orange, invert-sugar-syrup, invert-sugar, sugar-syrup, e503ii, e503, acid, e428, e330   \n",
       "18                                                                                                                                                                                                                                                                                                                                                                                                                                                                                                                                                                                                                                                                                                                                                                                                                                                                                                                                                                                                                              pork-meat, animal, meat, pork, water, sea-salt, salt, spice, condiment, dextrose, added-sugar, monosaccharide, glucose, sheeps-casing, casing, ginger, marjoram, herb, clove, coriander, caraway, parsley, vegetable, leaf-vegetable, pepper, seed   \n",
       "19                                                                                                                                                                                                                                                                                                                                                                                                                                                                                                                                                                                                                                                                                                                                                                                                                                                                                                                                                                                                                                                                                                                                                                                                                                                       tuna, fish, skipjack-tuna   \n",
       "20                                                                                                                                                                                                                                                                                                                                                                                                                                                                                                                                                                                                                                                                                                                                                                                                                      wheat-flour, cereal, flour, wheat, cereal-flour, palm-oil, oil-and-fat, vegetable-oil-and-fat, palm-oil-and-fat, colza-oil, rapeseed-oil, sunflower-oil, vegetable-oil, water, concentrated-lemon-juice, fruit, juice, fruit-juice, lemon-juice, alcohol, salt, fruit-and-vegetable-concentrates, vegetable, preparation, fruit-concentrate, vegetable-concentrate, carrot, root-vegetable, taproot-vegetable, apple, malaceous-fruit, lemon, citrus-fruit   \n",
       "21                                                                                                                                                                                                                                                                                                                                                                                                                                                                                                                                                                                                                                                                                                                                                                                                                                                                                                                                                                                                                                                                                                                                                                                                              dairy, milk, water, butter, salt, sodium-citrate, minerals, sodium   \n",
       "22                                                                                                                                                                                                                                                                                                                                                                                                                                                                                                                                                                                                                                                                                                                                                                                                                                                                                                                                                                                                                                                                                                                                                                                                                                                                            None   \n",
       "23                                                                                                                                                                                                                                                                                                                                                                                                                                                                                                                                                                                                                                                                                                                                                                                                                                                                                                                                                                                                                                                                                                                                      milled-roasted-peanuts, nut, peanut, roasted-peanuts, sunflower-oil, oil-and-fat, vegetable-oil-and-fat, vegetable-oil, salt, pepper, seed   \n",
       "24                                                                                                                                                                                                                                                                                                                                                                                                                                                                                                                                                                                                                                                                                                                                                                                                                                                                                                                                                                                                                                                                                                                                                                                                                                                                            None   \n",
       "25                                                                                                                                                                                                                                                                                                                                                                                                                                                                                                                                                                                                                                                                                                                                                                                                                                                                                                                                                                                                                                                                                                                                                                                                                                                                            None   \n",
       "26                                                                                                                                                                                                                                                                                                                                                                                                                                                                                                                                                                                                                                                                                                                                                                                                                                                                                                                                                                                                                                                                                                                                                                                                                                                                            None   \n",
       "27                                                                                                                                                                                                                                                                                                                                                                                                                                                                                                                                                                                                                                                                                                                                                                                                                                                                                                                                                                                                                                                                                                                                                                                                                                                                            None   \n",
       "28                                                                                                                                                                                                                                                                                                                                                                                                                                                                                 sugar, added-sugar, disaccharide, vegetable-oil, oil-and-fat, vegetable-oil-and-fat, flour, coconut, fruit, corn-syrup, sweetened-condensed-milk, dairy, milk, condensed-milk, cocoa, plant, contains-two-percent-and-less-of-sorbitol, e422, corn-starch, starch, invert-sugar, monosaccharide, salt, soya-lecithin, e322, e322i, dextrose, glucose, natural-and-artificial-flavouring, flavouring, natural-flavouring, artificial-flavouring, raising-agent, e407, condensed-skimmed-milk, peanut-flour, nut, peanut, palm-kernel-oil, palm-kernel-oil-and-fat, cottonseed-oil, soybean-and-palm-oil-with-tbhq-for-freshness, wheat-flour, cereal, wheat, cereal-flour, e375, reduced-iron, minerals, iron, thiamin, e101, folic-acid, folate, e341i, e341, e500ii, e500, thiamin-mononitrate   \n",
       "29                                                                                                                                                                                                                                                                                                                                                                                                                                                                                                                                                                                                                                                                                                                                                                                                                                                 gf-rolled-oats, gf-brown-rice-flour, gf-sweet-rice-flour, gf-brown-sugar, gf-tapioca-starch, gf-golden-flax-meal, natural-gf-teff-flour, gf-millet-flour, gf-amaranth-flour, gf-quinoa-flour, butter, dairy, egg, sweetened-condensed-milk, milk, condensed-milk, vanilla, plant, e415, aluminum-free-baking-soda, gf-chocolate-chips-cane-sugar, cocoa-paste, cocoa, cocoa-butter, soya-lecithin, e322, e322i, vanilla-extract   \n",
       "30  pea-protein, protein, plant-protein, whole-food-fruit-blend, plantsweet, all-natural-flavors, fruitnourish, macronourish, apple, fruit, malaceous-fruit, strawberry, berries, cherry, prunus-species-fruit, blackberry, blueberry, raspberry, plant-based-soluble-fiber, coconut-nectar, stevia-extract, baobab, maqui-berry, pomegranate, an, prebiotic-blend-of-fermented-vegetables, whole-grains, seed, nut, and-herbs, acerola, anis, avocado, vegetable, fruit-vegetable, adzuki-bean, legume, pulse, banana, barley, cereal, black-bean, black-sesame, brazil-nut, tree-nut, brown-rice, rice, brown-sugar, added-sugar, disaccharide, sugar, cabbage, brassica, carambora, carrot, root-vegetable, taproot-vegetable, cashew-nuts, cassava, tuber, chickpea, chicory-root, shoot-vegetable, chicory, cinnamon, condiment, spice, clove, corn, couve-manteiga, ginger, green-bell-pepper, bell-pepper, guava, honey, jalo-bean, kiwi, lemon, citrus-fruit, lentils, mango, melon, millet, natto, oat, orange, papaya, passionfruit, pea, pod-and-seed-vegetable, pear, pineapple, plum, pumpkin, red-grape, grape, roxinho-bean, rye, sacred-lotus, seaweed, algae, sugar-beet, sweet-potato, tomato, turnip, watermelon, west-indian-lemon-grass, mate, plant, zedoary   \n",
       "31                                                                                                                                                                                                                                                                                                                                                                                                                                                                                                                                                                                                                                                                                                                                                                                                                                                                                                                                                                                              dark-chocolate, chocolate, almond, nut, tree-nut, sugar, added-sugar, disaccharide, cocoa-paste, plant, cocoa, cocoa-butter, butterfat, dairy, oil-and-fat, fat, milkfat, soya-lecithin, e322, e322i, and-vanilla, e414, corn-syrup, and-certified-confectioners-glaze, emulsifier   \n",
       "32                                                                                                                                                                                                                                                                                                                                                                                                                                                                                                                                                                                                                                                                                                                                                                                                                                                                                                                                                                                                           cream, dairy, skimmed-milk, milk, corn-syrup, added-sugar, disaccharide, high-fructose-corn-syrup, monosaccharide, fructose, glucose, glucose-fructose-syrup, e471, e407, dextrose, natural-and-artificial-vanilla-flavoring-and-nitrous-oxide-as-whipping-propellant   \n",
       "33                                                                                                                                                                                                                                                                                                                                                                                                                                                                                                                                                               sugar, added-sugar, disaccharide, wheat-flour, cereal, flour, wheat, cereal-flour, egg, soya-oil, oil-and-fat, vegetable-oil-and-fat, vegetable-oil, skimmed-milk, dairy, milk, water, egg-white, cocoa, plant, intersterified-soybean-oil, butter, modified-starch, starch, corn-syrup, skimmed-milk-powder, milk-powder, e500ii, e500, distilled-monoglycerides, salt, hydrogenated-cottonseed-oil, cottonseed-oil, e471, e450i, e450, natural-and-artificial-flavouring, flavouring, natural-flavouring, artificial-flavouring, propylene-glycol-monoester, e322i, e322, polyglycerol-ester-of-fatty-acids, e412, sodium-caseinate, caseinate, e415, e129, e133, e132, e127, e110, e102, processed-with-alkali   \n",
       "34                                                                                                                                                                                                                                                                                                                                                                                                                                                                                                                                                                                                                                                                                                                                                                                                                                                                                                                                                                                                                                                                                                                                                                                                 mountain-spring-water, water, spring-water, co2, natural-flavouring, flavouring   \n",
       "35                                                                                                                                                                                                                                                                                                                                                                                                                                                                                                                                                                                                                                                                                                                                                                                                                                                                                                                                                                                                                                                                                                                                                           cold-brewed-coffee, cane-sugar, added-sugar, disaccharide, sugar, natural-flavouring, flavouring, e330, water, coffee   \n",
       "36                                                                                                                                                                                                                                                                                                                                                                                                                                                                                                                                                                                                                                                                                                                                                                                                                                                                                                                                                                                                                                                                                                                                                                                                                                                         whole-milk, dairy, milk   \n",
       "37                                                                                                                                                                                                                                                                                                                                                                                                                                                                                                                                                                                                                                                                                                                                                                                                                                                                               wheat-flour, cereal, flour, wheat, cereal-flour, palm-oil, oil-and-fat, vegetable-oil-and-fat, palm-oil-and-fat, sugar, added-sugar, disaccharide, salt, modified-milk-ingredients, dairy, milk, e500ii, e500, artificial-flavouring, flavouring, olive-paste, e339, oregano, herb, parsley, vegetable, leaf-vegetable, yeast, olive-oil, vegetable-oil, fructose-syrup, monosaccharide, fructose   \n",
       "38                                                                                                                                                                                                                                                                                                                                                                                                                                                                                                                                                                                                                                                                                                                                                                                                                                                                                                                                                                                                                                                                                                                                                                                                                                                                            None   \n",
       "39                                                                                                                                                                                                                                                                                                                                                                                                                                                                                                                                                                                                                                                                                                                                                                                                                                                                                                                                                                                                                                                                                                                                                                                                                                                                            None   \n",
       "40                                                                                                                                                                                                                                                                                                                                                                                                                                                                                                                                                                                                                                                                                                                                                                                                                                                                                                                                                                                                                                                                                                                                                                                                                                                                            None   \n",
       "41                                                                                                                                                                                                                                                                                                                                                                                                                                                                                                                                                                                                                                                                                                                                                                                                                                                                                                                                                                                                                                                                                                                                                                                                                                                                            None   \n",
       "42                                                                                                                                                                                                                                                                                                                                                                                                                                                                                                                                                                                                                                                                                                                                                                                                                                                                                                                                                                                                                                                                                                                wheat, cereal, sugar, added-sugar, disaccharide, glucose-syrup, monosaccharide, glucose, honey, sunflower-oil, oil-and-fat, vegetable-oil-and-fat, vegetable-oil   \n",
       "43                                                                                                                                                                                                                                                                                                                                                                                                                                                                                                                                                                                                                                                                                                                                                                                                                                                                                                                                                                                                                                                                                                                                                                                                                                                                            None   \n",
       "44                                                                                                                                                                                                                                                                                                                                                                                                                                                                                                                                                                                                                                                                                                                                                                                                                                                                                                                                                                                                                                                                                                                                                                                                                                                                          energy   \n",
       "45                                                                                                                                                                                                                                                                                                                                                                                                                                                                                                                                                                                                                                                                                                                                                                                                                                                                                                                                                                                                                                                                                                                                                                                                                                                                            None   \n",
       "46                                                                                                                                                                                                                                                                                                                                                                                                                                                                                                                                                                                                                                                                                                                                                                                                                                                                                                                                                                                                                                                                                                                                                                                                                                                                            None   \n",
       "47                                                                                                                                                                                                                                                                                                                                                                                                                                                                                                                                                                                                                                                                                                  corn-flour, cereal, flour, corn, vegetable-oil, oil-and-fat, vegetable-oil-and-fat, coating, water, canola, vegetable, root-vegetable, rapeseed, palm, palm-oil-and-fat, palm-oil, sugar, added-sugar, disaccharide, salt, e508, hydrolysed-soy-protein, protein, plant-protein, hydrolysed-vegetable-protein, soy-protein, e260, e330, natural-flavouring, flavouring, autolyzed-yeast-extract, yeast, yeast-extract, spice, condiment, e129, e110, e160c, cayenne-pepper-sauce, e631, e627, e551, corn-maltodextrin, maltodextrin, dextrose, monosaccharide, glucose, colour   \n",
       "48                                                                                                                                                                                                                                                                                                                                                                                                                                                                                                                                                                                                                                                                                                                                                                                                                                                                                                                                                                                                                                                                                                                                                                                                                                                                            None   \n",
       "49                                                                                                                                                                                                                                                                                                                                                                                                                                                                                                                                                                                                                                                                                                                                                                                                                                                                                                                                                                                                                                                                                                                                                                                                                                                                            None   \n",
       "50                                                                                                                                                                                                                                                                                                                                                                                                                                                                                                                                                                                                                                                                                                                                                                                                                                                                                                                                                                                                                                                                                                                                                                                                                                                                            None   \n",
       "51                                                                                                                                                                                                                                                                                                                                                                                                                                                                                                                                                                                                                                                                                                                                                                                                                                                                                                                                                                                                                                                                                                                                                                                                                                                                            None   \n",
       "52                                                                                                                                                                                                                                                                                                                                                                                                                                                                                                                                                                                                                                                                                                                               pasteurised-whole-milk, dairy, milk, pasteurised-milk, whole-milk, sugar, added-sugar, disaccharide, cream, water, rice-flour, flour, rice, cocoa-powder, plant, cocoa, trehalose, lactose-and-milk-proteins, protein, animal-protein, milk-proteins, lactose, potato-starch, starch, dehydrated-glucose-syrup, monosaccharide, glucose, glucose-syrup, egg-white, egg, emulsifier, stabiliser, cocoa-paste, cocoa-butter, e471, e410, soya-lecithin, e322, e322i, natural-vanilla-flavouring, flavouring, natural-flavouring, vanilla-flavouring   \n",
       "53                                                                                                                                                                                                                                                                                                                                                                                                                                                                                                                                                                                                                                                                                                                                                                                                                                                                                                                                                                                                                                                                                                                                                                                                                                                                            None   \n",
       "54                                                                                                                                                                                                                                                                                                                                                                                                                                                                                                                                                                                                                                                                                                                                                                                                                                                                                                                                                                                                                                                                                                                                                                                                                                                                            None   \n",
       "55                                                                                                                                                                                                                                                                                                                                                                                                                                                                                                                                                                                                                                                                                                                                                                                                                                                                                                                                                                                                                                                                                      red-kuri-squash, vegetable, fruit-vegetable, pumpkin, sweet-potato, root-vegetable, tuber, cooking-water, water, onion, onion-family-vegetable, garlic, salt-from-guerande, salt, sea-salt   \n",
       "56                                                                                                                                                                                                                                                                                                                                                                                                                                                                                                                                                                                                                                                                                                                                                                                                                                                                                                                                                                                                                                                                                                                                                                                                                                                                            None   \n",
       "57                                                                                                                                                                                                                                                                                                                                                                                                                                                                                                                                                                                                                                                                                                                                                                                                                                                                                                                                                                                                                                                                                                                                                                                                    ground-roasted-coffee, coffee, ground-coffee, natural-flavouring, flavouring   \n",
       "58                                                                                                                                                                                                                                                                                                                                                                                                                                                                                                                                                                                                                                                                                                                                                                                                                                                                                                                                                                                                                                                                                                                                                                                                                                                                            None   \n",
       "59                                                                                                                                                                                                                                                                                                                                                                                                                                                                                                                                                                                                                                                                                                                                                                                                                                                                                                                                                                                                                                                                                                                                                                                                                                                                            None   \n",
       "\n",
       "                                                                                                                                                                                                                                                       categories  \\\n",
       "0                                                                                                                                                    plant-based-foods-and-beverages, plant-based-foods, cereals-and-potatoes, cereals-and-their-products, pastas   \n",
       "1                                                                                                                                                                                                                 snacks, salty-snacks, appetizers, garlic-breads   \n",
       "2                                                                                                                                                                                                                                                           meals   \n",
       "3                                                          plant-based-foods-and-beverages, plant-based-foods, cereals-and-potatoes, seeds, cereals-and-their-products, cereal-grains, rices, japonica-rices, rices-for-risotto, short-grain-rices, arborio-rices   \n",
       "4                                      plant-based-foods-and-beverages, plant-based-foods, legumes-and-their-products, canned-foods, legumes, seeds, canned-plant-based-foods, legume-seeds, pulses, common-beans, canned-legumes, red-beans, canned-common-beans   \n",
       "5                                                                                                                                                                                                                                               beverages, waters   \n",
       "6                                                                                                                                                                                                               beverages, dairies, dairy-drinks, flavoured-milks   \n",
       "7   plant-based-foods-and-beverages, plant-based-foods, fruits-and-vegetables-based-foods, legumes-and-their-products, legumes, seeds, vegetables-based-foods, legume-seeds, vegetables, pulses, common-beans, white-beans, french-vegetables, white-kidney-beans   \n",
       "8                                                                                                                                                                                         beverages, waters, spring-waters, mineral-waters, unsweetened-beverages   \n",
       "9                                                                            dairies, fermented-foods, fermented-milk-products, desserts, dairy-desserts, fermented-dairy-desserts, fermented-dairy-desserts-with-fruits, yogurts, fruit-yogurts, apricot-yogurts   \n",
       "10                                                                                                                                          plant-based-foods-and-beverages, plant-based-foods, cereals-and-potatoes, cereals-and-their-products, pastas, spatzle   \n",
       "11                                                                                                                                        plant-based-foods-and-beverages, plant-based-foods, fruits-and-vegetables-based-foods, fruits-based-foods, fruits, figs   \n",
       "12                                                                                          plant-based-foods-and-beverages, plant-based-foods, fruits-and-vegetables-based-foods, fruits-based-foods, fruits, melons, fresh-fruits, muskmelons, fresh-muskmelons   \n",
       "13                                                                         plant-based-foods-and-beverages, beverages, plant-based-beverages, vegetable-based-foods-and-beverages, juices-and-nectars, vegetable-based-beverages, vegetable-juices, carrot-juices   \n",
       "14                                                                                                                                                                                                  snacks, sweet-snacks, confectioneries, candies, gummi-candies   \n",
       "15                                                                                                                                                                                                                        condiments, sauces, mustards, groceries   \n",
       "16                                                                                                                                                                                      snacks, sweet-snacks, cocoa-and-its-products, chocolates, dark-chocolates   \n",
       "17                                                                                                                                                                                                         snacks, sweet-snacks, biscuits-and-cakes, gingerbreads   \n",
       "18                                                                                                                                                                                       meats-and-their-products, prepared-meats, sausages, german-meat-products   \n",
       "19                                                                                                                    seafood, fishes-and-their-products, canned-foods, fishes, fatty-fishes, canned-fishes, tunas, canned-tunas, tunas-in-oil, tuna-in-olive-oil   \n",
       "20                                                                                                                             plant-based-foods-and-beverages, plant-based-foods, cereals-and-potatoes, cereals-and-their-products, pie-dough, shortcrust-pastry   \n",
       "21                                                                                                                                                    dairies, fermented-foods, fermented-milk-products, cheeses, french-cheeses, processed-cheese, cancoillottes   \n",
       "22                                                                                                                                                                                                      snacks, sweet-snacks, confectioneries, candies, lollipops   \n",
       "23                                                                                                                                                                                                                               snacks, salty-snacks, appetizers   \n",
       "24                                                                                                                                                                                                                                            dietary-supplements   \n",
       "25                                                                                                                                                                                                                                                         snacks   \n",
       "26                                                                                                                                                                                        seafood, fishes-and-their-products, canned-foods, fishes, canned-fishes   \n",
       "27                                                                                                                                                   plant-based-foods-and-beverages, plant-based-foods, condiments, spices, cinnamon, cinnamon-powder, groceries   \n",
       "28                                                                                                                                                                                                             snacks, sweet-snacks, biscuits-and-cakes, biscuits   \n",
       "29                                                                                                                                                                                                             snacks, sweet-snacks, biscuits-and-cakes, biscuits   \n",
       "30                                                                                                                                                                               beverages, dried-products, dried-products-to-be-rehydrated, dehydrated-beverages   \n",
       "31                                                                                                                                                                                                                                                         snacks   \n",
       "32                                                                                                                                                                                                                                             baking-decorations   \n",
       "33                                                                                                                                                                                                                snacks, sweet-snacks, biscuits-and-cakes, cakes   \n",
       "34                                                                                                                                                                                                                                              beverages, waters   \n",
       "35                                                                                                                                                                                                                                                      beverages   \n",
       "36                                                                                                                                                                                            dairies, milks, pasteurised-milks, whole-milks, microfiltered-milks   \n",
       "37                                                                                                                                                                                                                     snacks, salty-snacks, appetizers, crackers   \n",
       "38                                                                                                                                                                                plant-based-foods-and-beverages, plant-based-foods, condiments, spices, vanilla   \n",
       "39                                                                                                                                     plant-based-foods-and-beverages, beverages, plant-based-beverages, fruit-based-beverages, juices-and-nectars, fruit-juices   \n",
       "40                                                                                                                                                                dairies, fermented-foods, fermented-milk-products, cheeses, hard-cheeses, french-cheeses, comte   \n",
       "41                                                                                                                           dairies, fermented-foods, fermented-milk-products, cheeses, cow-cheeses, uncooked-pressed-cheeses, cheeses-of-the-netherlands, gouda   \n",
       "42                                                     plant-based-foods-and-beverages, plant-based-foods, breakfasts, cereals-and-potatoes, cereals-and-their-products, breakfast-cereals, flakes, cereal-flakes, extruded-cereals, extruded-flakes, corn-flakes   \n",
       "43                                                                                                                                                dairies, fermented-foods, fermented-milk-products, cheeses, italian-cheeses, stretched-curd-cheeses, mozzarella   \n",
       "44                                                                                                                                                                                                             snacks, sweet-snacks, biscuits-and-cakes, biscuits   \n",
       "45                                                                                                                                                                                                                               condiments, sauces, pasta-sauces   \n",
       "46                                                                                                                                                                                      plant-based-foods-and-beverages, plant-based-foods, pastas, italian-pasta   \n",
       "47                                                                                                                                                                                          snacks, salty-snacks, appetizers, chips-and-fries, crisps, corn-chips   \n",
       "48                                                                                                                                                       snacks, sweet-snacks, biscuits-and-cakes, biscuits, shortbread-cookies, shortbread-cookies-from-brittany   \n",
       "49                                                                                                                                                              plant-based-foods-and-beverages, plant-based-foods, meat-alternatives, vegetarian-balls, falafels   \n",
       "50                                                                                                                                                                                                                                                         snacks   \n",
       "51                                                                                                                                                                                                                                plant-based-foods-and-beverages   \n",
       "52                                                                                                        snacks, desserts, sweet-snacks, frozen-foods, biscuits-and-cakes, frozen-desserts, ice-creams-and-sorbets, ice-creams, pastries, mochi, mochi-ice-cream   \n",
       "53                                                                                                                                                                                                                                                        seafood   \n",
       "54                                                                                                                                                                                                                                cooking-helpers, pastry-helpers   \n",
       "55                          plant-based-foods-and-beverages, plant-based-foods, fruits-and-vegetables-based-foods, vegetables-based-foods, meals, pumpkin-and-squash-plant-products, soups, pumpkins-and-their-products, vegetable-soups, pumpkin-soups, pumpkins   \n",
       "56                                                                                                                                                                         breakfasts, spreads, sweet-spreads, bee-products, farming-products, sweeteners, honeys   \n",
       "57                                                                   beverages-and-beverages-preparations, plant-based-foods-and-beverages, beverages, plant-based-foods, hot-beverages, coffees, capsules, coffee-capsules, nespresso-compatible-coffee-capsules   \n",
       "58                                                                                                                                                                                                                                                      beverages   \n",
       "59                                                                                                                                                                                                    dietary-supplements, bodybuilding-supplements, protein-bars   \n",
       "\n",
       "    labels_note  \n",
       "0             0  \n",
       "1             0  \n",
       "2             0  \n",
       "3             3  \n",
       "4             4  \n",
       "5             0  \n",
       "6             2  \n",
       "7             3  \n",
       "8             1  \n",
       "9             0  \n",
       "10            0  \n",
       "11            7  \n",
       "12            0  \n",
       "13            1  \n",
       "14            0  \n",
       "15            0  \n",
       "16            0  \n",
       "17            0  \n",
       "18            8  \n",
       "19            2  \n",
       "20            2  \n",
       "21            1  \n",
       "22            0  \n",
       "23            2  \n",
       "24            1  \n",
       "25            7  \n",
       "26            0  \n",
       "27            0  \n",
       "28            0  \n",
       "29            0  \n",
       "30            0  \n",
       "31            0  \n",
       "32            0  \n",
       "33            0  \n",
       "34            0  \n",
       "35            0  \n",
       "36            3  \n",
       "37            0  \n",
       "38            7  \n",
       "39            0  \n",
       "40            1  \n",
       "41            0  \n",
       "42            0  \n",
       "43            2  \n",
       "44            3  \n",
       "45            0  \n",
       "46            0  \n",
       "47            0  \n",
       "48            1  \n",
       "49            9  \n",
       "50            0  \n",
       "51            0  \n",
       "52            3  \n",
       "53            0  \n",
       "54            0  \n",
       "55            2  \n",
       "56            0  \n",
       "57            0  \n",
       "58            0  \n",
       "59            0  "
      ]
     },
     "execution_count": 58,
     "metadata": {},
     "output_type": "execute_result"
    }
   ],
   "source": [
    "df = pd.read_json(jsonl_sample, lines=True)\n",
    "df.head(60)"
   ]
  },
  {
   "cell_type": "code",
   "execution_count": 59,
   "metadata": {},
   "outputs": [],
   "source": [
    "def display_first_n_lines_to_dataframe(jsonl_02, num_lines):\n",
    "    data = []\n",
    "    with open(jsonl_02, 'r', encoding='utf-8') as file:\n",
    "        for i, line in enumerate(file):\n",
    "            if i < num_lines:\n",
    "                data.append(json.loads(line.strip()))\n",
    "            else:\n",
    "                break\n",
    "    df_check = pd.DataFrame(data)\n",
    "    return df_check\n",
    "\n",
    "df_check = display_first_n_lines_to_dataframe(jsonl_02, num_lines=60)"
   ]
  },
  {
   "cell_type": "code",
   "execution_count": 60,
   "metadata": {},
   "outputs": [
    {
     "data": {
      "text/html": [
       "<div>\n",
       "<style scoped>\n",
       "    .dataframe tbody tr th:only-of-type {\n",
       "        vertical-align: middle;\n",
       "    }\n",
       "\n",
       "    .dataframe tbody tr th {\n",
       "        vertical-align: top;\n",
       "    }\n",
       "\n",
       "    .dataframe thead th {\n",
       "        text-align: right;\n",
       "    }\n",
       "</style>\n",
       "<table border=\"1\" class=\"dataframe\">\n",
       "  <thead>\n",
       "    <tr style=\"text-align: right;\">\n",
       "      <th></th>\n",
       "      <th>groups</th>\n",
       "      <th>packaging</th>\n",
       "      <th>name</th>\n",
       "      <th>ecoscore_groups</th>\n",
       "      <th>ecoscore_note</th>\n",
       "      <th>code</th>\n",
       "      <th>countries</th>\n",
       "      <th>ingredients</th>\n",
       "      <th>categories</th>\n",
       "      <th>labels_note</th>\n",
       "    </tr>\n",
       "  </thead>\n",
       "  <tbody>\n",
       "    <tr>\n",
       "      <th>0</th>\n",
       "      <td>sugary snacks</td>\n",
       "      <td>30g bottle, slim bottle</td>\n",
       "      <td>chocolat au lait</td>\n",
       "      <td>z</td>\n",
       "      <td>999.0</td>\n",
       "      <td>0</td>\n",
       "      <td>france, united states</td>\n",
       "      <td>mode-d-utilisation-utilisez-la-ut-assaisonner-les-potes-les-pizzas-et-lasagnes, prete-o-l-emploi, 182, alba, www-cascinasancassiano-com, pourioogde-produit-dtmurts-leg-prunes-lg-0-3b-4-22-cascina-san-cassiano-c-so-piave</td>\n",
       "      <td>snacks, sweet-snacks, confectioneries, chewing-gum, sugar-free-chewing-gum</td>\n",
       "      <td>0</td>\n",
       "    </tr>\n",
       "    <tr>\n",
       "      <th>1</th>\n",
       "      <td>fat and sauces</td>\n",
       "      <td>none</td>\n",
       "      <td>moutarde au moût de raisin</td>\n",
       "      <td>c</td>\n",
       "      <td>54.0</td>\n",
       "      <td>100</td>\n",
       "      <td>france</td>\n",
       "      <td>None</td>\n",
       "      <td>condiments, sauces, mustards, groceries</td>\n",
       "      <td>0</td>\n",
       "    </tr>\n",
       "    <tr>\n",
       "      <th>2</th>\n",
       "      <td>composite foods</td>\n",
       "      <td>none</td>\n",
       "      <td>salade de carottes râpées</td>\n",
       "      <td>b</td>\n",
       "      <td>75.0</td>\n",
       "      <td>949</td>\n",
       "      <td>france</td>\n",
       "      <td>None</td>\n",
       "      <td>plant-based-foods-and-beverages, plant-based-foods, fruits-and-vegetables-based-foods, vegetables-based-foods, meals, vegetables, prepared-vegetables, carrots, carrot-salads, grated-carrots, seasoned-grated-carrots</td>\n",
       "      <td>0</td>\n",
       "    </tr>\n",
       "    <tr>\n",
       "      <th>3</th>\n",
       "      <td>composite foods</td>\n",
       "      <td>plastique, barquette</td>\n",
       "      <td>tarte noix de coco</td>\n",
       "      <td>z</td>\n",
       "      <td>999.0</td>\n",
       "      <td>1281</td>\n",
       "      <td>france</td>\n",
       "      <td>None</td>\n",
       "      <td>sweet-pies, pies, coconut-pies</td>\n",
       "      <td>0</td>\n",
       "    </tr>\n",
       "    <tr>\n",
       "      <th>4</th>\n",
       "      <td>fruits and vegetables</td>\n",
       "      <td>none</td>\n",
       "      <td>compote de poire</td>\n",
       "      <td>b</td>\n",
       "      <td>76.0</td>\n",
       "      <td>1885</td>\n",
       "      <td>france</td>\n",
       "      <td>None</td>\n",
       "      <td>plant-based-foods-and-beverages, plant-based-foods, fruits-and-vegetables-based-foods, desserts, fruits-based-foods, compotes, pear-compotes</td>\n",
       "      <td>0</td>\n",
       "    </tr>\n",
       "    <tr>\n",
       "      <th>5</th>\n",
       "      <td>composite foods</td>\n",
       "      <td>none</td>\n",
       "      <td>salade de macedoine de légumes</td>\n",
       "      <td>b</td>\n",
       "      <td>77.0</td>\n",
       "      <td>2257</td>\n",
       "      <td>france</td>\n",
       "      <td>None</td>\n",
       "      <td>plant-based-foods-and-beverages, plant-based-foods, snacks, salty-snacks, appetizers, meals, prepared-vegetables, cold-starters, vegetables-macedoines</td>\n",
       "      <td>0</td>\n",
       "    </tr>\n",
       "    <tr>\n",
       "      <th>6</th>\n",
       "      <td>milk and dairy products</td>\n",
       "      <td>none</td>\n",
       "      <td>abondance</td>\n",
       "      <td>c</td>\n",
       "      <td>52.0</td>\n",
       "      <td>5005</td>\n",
       "      <td>france</td>\n",
       "      <td>None</td>\n",
       "      <td>dairies, fermented-foods, fermented-milk-products, cheeses, french-cheeses, abondance</td>\n",
       "      <td>0</td>\n",
       "    </tr>\n",
       "    <tr>\n",
       "      <th>7</th>\n",
       "      <td>cereals and potatoes</td>\n",
       "      <td>none</td>\n",
       "      <td>baguette bressan</td>\n",
       "      <td>b</td>\n",
       "      <td>77.0</td>\n",
       "      <td>5470</td>\n",
       "      <td>france</td>\n",
       "      <td>wheat-flour, cereal, flour, wheat, cereal-flour, water, salt, yeast, gluten, malted-wheat-flour, deactivated-yeast, e300, filling, acid, modified-tapioca-starch, starch, modified-starch, tapioca, flavouring, colour, bone, chicken-fillet, poultry, chicken, chicken-meat, e326, e262i, e262</td>\n",
       "      <td>plant-based-foods-and-beverages, plant-based-foods, cereals-and-potatoes, breads, baguettes</td>\n",
       "      <td>0</td>\n",
       "    </tr>\n",
       "    <tr>\n",
       "      <th>8</th>\n",
       "      <td>fish meat eggs</td>\n",
       "      <td>none</td>\n",
       "      <td>pavé de saumon fumé à la ficelle</td>\n",
       "      <td>e</td>\n",
       "      <td>9.0</td>\n",
       "      <td>5661</td>\n",
       "      <td>france</td>\n",
       "      <td>None</td>\n",
       "      <td>seafood, fishes-and-their-products, fishes, fatty-fishes, salmons, smoked-fishes, smoked-salmons, salmon-steaks</td>\n",
       "      <td>0</td>\n",
       "    </tr>\n",
       "    <tr>\n",
       "      <th>9</th>\n",
       "      <td>fish meat eggs</td>\n",
       "      <td>none</td>\n",
       "      <td>corned beef</td>\n",
       "      <td>z</td>\n",
       "      <td>999.0</td>\n",
       "      <td>7160</td>\n",
       "      <td>france</td>\n",
       "      <td>None</td>\n",
       "      <td>canned-foods, meats-and-their-products, meals, meats, meals-with-meat, beef-dishes, canned-meats, corned-beef</td>\n",
       "      <td>0</td>\n",
       "    </tr>\n",
       "    <tr>\n",
       "      <th>10</th>\n",
       "      <td>None</td>\n",
       "      <td>plastique, bocal</td>\n",
       "      <td>naturablue original</td>\n",
       "      <td>z</td>\n",
       "      <td>999.0</td>\n",
       "      <td>20114</td>\n",
       "      <td>france</td>\n",
       "      <td>e422, spirulina, algae, natural-lime-flavouring, flavouring, natural-flavouring, stabiliser</td>\n",
       "      <td>dietary-supplements</td>\n",
       "      <td>1</td>\n",
       "    </tr>\n",
       "    <tr>\n",
       "      <th>11</th>\n",
       "      <td>fruits and vegetables</td>\n",
       "      <td>none</td>\n",
       "      <td>organic baby lima beans</td>\n",
       "      <td>b</td>\n",
       "      <td>75.0</td>\n",
       "      <td>30717</td>\n",
       "      <td>united states</td>\n",
       "      <td>baby-lima-beans, vegetable, pod-and-seed-vegetable, lima-bean</td>\n",
       "      <td>plant-based-foods-and-beverages, plant-based-foods, fruits-and-vegetables-based-foods, legumes-and-their-products, legumes, seeds, vegetables-based-foods, legume-seeds, vegetables, pulses, butter-beans</td>\n",
       "      <td>1</td>\n",
       "    </tr>\n",
       "    <tr>\n",
       "      <th>12</th>\n",
       "      <td>sugary snacks</td>\n",
       "      <td>none</td>\n",
       "      <td>pack de 2 twix</td>\n",
       "      <td>z</td>\n",
       "      <td>999.0</td>\n",
       "      <td>39529</td>\n",
       "      <td>france, united states</td>\n",
       "      <td>None</td>\n",
       "      <td>snacks, sweet-snacks, cocoa-and-its-products, confectioneries, bars, chocolate-candies, bars-covered-with-chocolate</td>\n",
       "      <td>0</td>\n",
       "    </tr>\n",
       "    <tr>\n",
       "      <th>13</th>\n",
       "      <td>fruits and vegetables</td>\n",
       "      <td>none</td>\n",
       "      <td>cranberries</td>\n",
       "      <td>d</td>\n",
       "      <td>24.0</td>\n",
       "      <td>43595</td>\n",
       "      <td>united states</td>\n",
       "      <td>cranberry, fruit, sugar, added-sugar, disaccharide, sunflower-oil, oil-and-fat, vegetable-oil-and-fat, vegetable-oil</td>\n",
       "      <td>plant-based-foods-and-beverages, plant-based-foods, fruits-and-vegetables-based-foods, fruits-based-foods, fruits, berries, cranberries</td>\n",
       "      <td>0</td>\n",
       "    </tr>\n",
       "    <tr>\n",
       "      <th>14</th>\n",
       "      <td>composite foods</td>\n",
       "      <td>plastique, carton</td>\n",
       "      <td>blanquette de volaille et son riz</td>\n",
       "      <td>c</td>\n",
       "      <td>50.0</td>\n",
       "      <td>274722</td>\n",
       "      <td>france</td>\n",
       "      <td>rice, turkey-meat, poultry, turkey, water, carrot, vegetable, root-vegetable, taproot-vegetable, onion, onion-family-vegetable, modified-corn-starch, starch, corn-starch, modified-starch, natural-flavouring, flavouring, white-wine-extract, alcohol, wine, white-wine, salt, colza-oil, oil-and-fat, vegetable-oil-and-fat, rapeseed-oil, glucose-syrup, added-sugar, monosaccharide, glucose, stabiliser, e451i, e451</td>\n",
       "      <td>meats-and-their-products, meals, meals-with-meat, poultry-meals, microwave-meals, turkey-dishes</td>\n",
       "      <td>2</td>\n",
       "    </tr>\n",
       "    <tr>\n",
       "      <th>15</th>\n",
       "      <td>composite foods</td>\n",
       "      <td>plastique, carton</td>\n",
       "      <td>raviolini au fromage de chèvre et pesto</td>\n",
       "      <td>z</td>\n",
       "      <td>999.0</td>\n",
       "      <td>274739</td>\n",
       "      <td>france</td>\n",
       "      <td>None</td>\n",
       "      <td>meals, microwave-meals</td>\n",
       "      <td>0</td>\n",
       "    </tr>\n",
       "    <tr>\n",
       "      <th>16</th>\n",
       "      <td>fruits and vegetables</td>\n",
       "      <td>frais</td>\n",
       "      <td>salade cesar</td>\n",
       "      <td>z</td>\n",
       "      <td>999.0</td>\n",
       "      <td>290616</td>\n",
       "      <td>None</td>\n",
       "      <td>lettuce, vegetable, leaf-vegetable, salad, vinaigrette, sauce, crouton, lemon, fruit, citrus-fruit, canola-oil, oil-and-fat, vegetable-oil-and-fat, rapeseed-oil, water, garlic, root-vegetable, onion-family-vegetable, egg-yolk, egg, concentrated-lemon-juice, juice, fruit-juice, lemon-juice, salt, anchovy-paste, fish, oily-fish, anchovy, condiment, e415, flour, wheat, cereal, palm-oil, palm-oil-and-fat, glucose-fructose, added-sugar, monosaccharide, fructose, glucose, rye-flour, cereal-flour, wheat-gluten, gluten, e150, whey-powder, dairy, whey, maltodextrin, caraway, spice, yeast, vinegar, sugar, disaccharide, rye-sourdough, dough, sourdough, parsley, herb, e300, e341, e517, e516</td>\n",
       "      <td>plant-based-foods-and-beverages, plant-based-foods, fruits-and-vegetables-based-foods, vegetables-based-foods, vegetables, leaf-vegetables</td>\n",
       "      <td>0</td>\n",
       "    </tr>\n",
       "    <tr>\n",
       "      <th>17</th>\n",
       "      <td>sugary snacks</td>\n",
       "      <td>frais</td>\n",
       "      <td>danoises à la cannelle roulées</td>\n",
       "      <td>z</td>\n",
       "      <td>999.0</td>\n",
       "      <td>394710</td>\n",
       "      <td>None</td>\n",
       "      <td>water, butter, dairy, sugar, added-sugar, disaccharide, brown-sugar, yeast, whey-powder, whey, liquid-whole-egg, egg, whole-egg, salt, gluten, soya-oil, oil-and-fat, vegetable-oil-and-fat, vegetable-oil, e170i, e170, e300, e1100, artificial-flavouring, flavouring, filling, modified-milk-ingredients, milk, flour, spice, condiment, modified-corn-starch, starch, corn-starch, modified-starch, egg-powder, cocoa, plant, dextrose, monosaccharide, glucose, e203, e420, corn-syrup, e440a, e202, e410, e330, e406, colour, dough</td>\n",
       "      <td>snacks, sweet-snacks, biscuits-and-cakes, pastries</td>\n",
       "      <td>0</td>\n",
       "    </tr>\n",
       "    <tr>\n",
       "      <th>18</th>\n",
       "      <td>cereals and potatoes</td>\n",
       "      <td>paper, plastic film</td>\n",
       "      <td>flute</td>\n",
       "      <td>z</td>\n",
       "      <td>999.0</td>\n",
       "      <td>1071894</td>\n",
       "      <td>None</td>\n",
       "      <td>wheat, cereal</td>\n",
       "      <td>plant-based-foods-and-beverages, plant-based-foods, cereals-and-potatoes, breads</td>\n",
       "      <td>0</td>\n",
       "    </tr>\n",
       "    <tr>\n",
       "      <th>19</th>\n",
       "      <td>sugary snacks</td>\n",
       "      <td>frais</td>\n",
       "      <td>chaussons tressés aux pommes</td>\n",
       "      <td>b</td>\n",
       "      <td>65.0</td>\n",
       "      <td>1938067</td>\n",
       "      <td>None</td>\n",
       "      <td>dough, filling, water, sugar, added-sugar, disaccharide, glucose-fructose, monosaccharide, fructose, glucose, modified-corn-starch, starch, corn-starch, modified-starch, e330, cinnamon, condiment, spice, salt, e509, e211, e202, sulfite, flour, e920, apple, fruit, malaceous-fruit</td>\n",
       "      <td>snacks, sweet-snacks, biscuits-and-cakes, sweet-pastries-and-pies, viennoiseries, pastries, apple-turnovers</td>\n",
       "      <td>0</td>\n",
       "    </tr>\n",
       "    <tr>\n",
       "      <th>20</th>\n",
       "      <td>beverages</td>\n",
       "      <td>none</td>\n",
       "      <td>jus de pomme</td>\n",
       "      <td>c</td>\n",
       "      <td>49.0</td>\n",
       "      <td>2169385</td>\n",
       "      <td>france</td>\n",
       "      <td>None</td>\n",
       "      <td>plant-based-foods-and-beverages, beverages, plant-based-beverages, fruit-based-beverages, juices-and-nectars, fruit-juices, unsweetened-beverages, apple-juices</td>\n",
       "      <td>0</td>\n",
       "    </tr>\n",
       "    <tr>\n",
       "      <th>21</th>\n",
       "      <td>cereals and potatoes</td>\n",
       "      <td>none</td>\n",
       "      <td>pain de mie sans gluten</td>\n",
       "      <td>b</td>\n",
       "      <td>70.0</td>\n",
       "      <td>5029525</td>\n",
       "      <td>france</td>\n",
       "      <td>None</td>\n",
       "      <td>plant-based-foods-and-beverages, plant-based-foods, cereals-and-potatoes, specific-products, products-for-specific-diets, breads, products-without-gluten, gluten-free-breads, sliced-breads, gluten-free-sliced-breads</td>\n",
       "      <td>0</td>\n",
       "    </tr>\n",
       "    <tr>\n",
       "      <th>22</th>\n",
       "      <td>cereals and potatoes</td>\n",
       "      <td>sachet plastique</td>\n",
       "      <td>lentilles vertes</td>\n",
       "      <td>b</td>\n",
       "      <td>79.0</td>\n",
       "      <td>5200016</td>\n",
       "      <td>france</td>\n",
       "      <td>green-lentils, vegetable, legume, pulse, lentils</td>\n",
       "      <td>plant-based-foods-and-beverages, plant-based-foods, legumes-and-their-products, cereals-and-potatoes, legumes, seeds, legume-seeds, pulses, lentils, green-lentils</td>\n",
       "      <td>3</td>\n",
       "    </tr>\n",
       "    <tr>\n",
       "      <th>23</th>\n",
       "      <td>beverages</td>\n",
       "      <td>métal, boîte de conserve ou canette, canette</td>\n",
       "      <td>root beer</td>\n",
       "      <td>z</td>\n",
       "      <td>999.0</td>\n",
       "      <td>7020254</td>\n",
       "      <td>france, united states</td>\n",
       "      <td>carbonated-water, water, high-fructose-corn-syrup, added-sugar, disaccharide, monosaccharide, fructose, glucose, corn-syrup, glucose-fructose-syrup, colour, preservative, natural-and-artificial-flavouring, flavouring, natural-flavouring, artificial-flavouring, foaming-agent, e150, e211, e999</td>\n",
       "      <td>beverages, carbonated-drinks, sodas, non-alcoholic-beverages, non-alcoholic-beers, root-beers, sweetened-beverages</td>\n",
       "      <td>2</td>\n",
       "    </tr>\n",
       "    <tr>\n",
       "      <th>24</th>\n",
       "      <td>sugary snacks</td>\n",
       "      <td>boîte, carton</td>\n",
       "      <td>biscuits sablés fourrage au cacao</td>\n",
       "      <td>b</td>\n",
       "      <td>63.0</td>\n",
       "      <td>7730009</td>\n",
       "      <td>france</td>\n",
       "      <td>sugar, added-sugar, disaccharide, wheat-flour, cereal, flour, wheat, cereal-flour, fat, oil-and-fat, shea-butter, vegetable-oil-and-fat, vegetable-fat, colza-oil, rapeseed-oil, sunflower-oil, vegetable-oil, fat-reduced-cocoa-powder, plant, cocoa, cocoa-powder, glucose-syrup, monosaccharide, glucose, e1400, butterfat, dairy, milkfat, egg, hazelnut-paste, nut, tree-nut, hazelnut, cocoa-paste, emulsifier, sunflower-lecithin, e322, e322i, salt, raising-agent, flavouring, rapeseed-lecithin, e503</td>\n",
       "      <td>snacks, sweet-snacks, biscuits-and-cakes, biscuits, shortbread-cookies</td>\n",
       "      <td>1</td>\n",
       "    </tr>\n",
       "    <tr>\n",
       "      <th>25</th>\n",
       "      <td>beverages</td>\n",
       "      <td>none</td>\n",
       "      <td>a&amp;w - root beer - 355ml</td>\n",
       "      <td>z</td>\n",
       "      <td>999.0</td>\n",
       "      <td>7818707</td>\n",
       "      <td>france</td>\n",
       "      <td>carbonated-water, water, e150a</td>\n",
       "      <td>beverages</td>\n",
       "      <td>0</td>\n",
       "    </tr>\n",
       "    <tr>\n",
       "      <th>26</th>\n",
       "      <td>composite foods</td>\n",
       "      <td>frais</td>\n",
       "      <td>quiche lorraine</td>\n",
       "      <td>d</td>\n",
       "      <td>29.0</td>\n",
       "      <td>8237798</td>\n",
       "      <td>None</td>\n",
       "      <td>dextrose, added-sugar, monosaccharide, glucose, e250, e325, e316, liquid-egg, egg, onion, vegetable, root-vegetable, onion-family-vegetable, modified-corn-starch, starch, corn-starch, modified-starch, spice, condiment, salt, sodium-citrate, minerals, sodium, e339, e407, e410, crust, parsley, herb, leaf-vegetable, wheat, cereal, milk, dairy, mollusc, shellfish, crustacean, sesame, seed, mustard, soya, sulfite, filling, ham, animal, meat, pork, pork-meat, vegetable-broth, broth, sugar, disaccharide, modified-milk-ingredients, microbial-culture, ferment, microbial-rennet, enzyme, coagulating-enzyme, rennet, vegetarian-rennet, e509, e235, e460, flour, water, yeast, vegetable-oil, oil-and-fat, vegetable-oil-and-fat, e920, e281, colour</td>\n",
       "      <td>meals, pizzas-pies-and-quiches, quiches, lorraine-quiche</td>\n",
       "      <td>0</td>\n",
       "    </tr>\n",
       "    <tr>\n",
       "      <th>27</th>\n",
       "      <td>fish meat eggs</td>\n",
       "      <td>frais</td>\n",
       "      <td>pâté au poulet</td>\n",
       "      <td>d</td>\n",
       "      <td>21.0</td>\n",
       "      <td>8240095</td>\n",
       "      <td>None</td>\n",
       "      <td>None</td>\n",
       "      <td>meats-and-their-products, meats, chicken-and-its-products, poultries, chickens, cooked-poultries, cooked-chicken</td>\n",
       "      <td>0</td>\n",
       "    </tr>\n",
       "    <tr>\n",
       "      <th>28</th>\n",
       "      <td>fruits and vegetables</td>\n",
       "      <td>plastique, sachet</td>\n",
       "      <td>compote de pomme</td>\n",
       "      <td>b</td>\n",
       "      <td>79.0</td>\n",
       "      <td>9125124</td>\n",
       "      <td>france</td>\n",
       "      <td>fruit, malaceous-fruit, apple, sugar, added-sugar, disaccharide, corn-starch, starch, sucrose, emulsifier, sunflower-lecithin, e322, e322i</td>\n",
       "      <td>plant-based-foods-and-beverages, plant-based-foods, fruits-and-vegetables-based-foods, desserts, fruits-based-foods, dried-products, dried-products-to-be-rehydrated, compotes, apple-compotes</td>\n",
       "      <td>1</td>\n",
       "    </tr>\n",
       "    <tr>\n",
       "      <th>29</th>\n",
       "      <td>sugary snacks</td>\n",
       "      <td>carton</td>\n",
       "      <td>bonbons acidulés raisin fraise</td>\n",
       "      <td>c</td>\n",
       "      <td>56.0</td>\n",
       "      <td>9336247</td>\n",
       "      <td>france</td>\n",
       "      <td>dextrose, added-sugar, monosaccharide, glucose, sugar, disaccharide, glucose-syrup, acid, artificial-flavouring, flavouring, glazing-agent, colour, e132, e129, e102, e110, e296, e903, e133</td>\n",
       "      <td>snacks, sweet-snacks, confectioneries, candies</td>\n",
       "      <td>2</td>\n",
       "    </tr>\n",
       "    <tr>\n",
       "      <th>30</th>\n",
       "      <td>beverages</td>\n",
       "      <td>none</td>\n",
       "      <td>thé noir aromatisé violette et fleurs</td>\n",
       "      <td>z</td>\n",
       "      <td>999.0</td>\n",
       "      <td>10068175</td>\n",
       "      <td>france</td>\n",
       "      <td>None</td>\n",
       "      <td>beverages</td>\n",
       "      <td>0</td>\n",
       "    </tr>\n",
       "    <tr>\n",
       "      <th>31</th>\n",
       "      <td>beverages</td>\n",
       "      <td>métal, recyclable metals, aluminium</td>\n",
       "      <td>thé de noël aromatisé orange-cannelle</td>\n",
       "      <td>a</td>\n",
       "      <td>92.0</td>\n",
       "      <td>10090206</td>\n",
       "      <td>france</td>\n",
       "      <td>black-tea, plant, tea, orange-zest, fruit, citrus-fruit, orange, natural-flavouring, flavouring, cinnamon, condiment, spice</td>\n",
       "      <td>plant-based-foods-and-beverages, beverages, plant-based-foods, hot-beverages, plant-based-beverages, teas, herbal-teas, black-teas, flavored-teas, unsweetened-beverages, flavored-black-teas</td>\n",
       "      <td>0</td>\n",
       "    </tr>\n",
       "    <tr>\n",
       "      <th>32</th>\n",
       "      <td>None</td>\n",
       "      <td>verre, bouteille, carton</td>\n",
       "      <td>sirops pour ganache macarons</td>\n",
       "      <td>z</td>\n",
       "      <td>999.0</td>\n",
       "      <td>10127735</td>\n",
       "      <td>france</td>\n",
       "      <td>water, flavouring, acid, colour, e171, e211, e131, natural-flavouring, syrup, sugar, added-sugar, disaccharide, e330, safflower-concentrate, plant, safflower, apple, fruit, malaceous-fruit, sweet-potato, vegetable, root-vegetable, tuber, cherry, prunus-species-fruit, radish, taproot-vegetable, apple-extract, fruit-extract, blackcurrant, berries, carrot</td>\n",
       "      <td>syrups</td>\n",
       "      <td>0</td>\n",
       "    </tr>\n",
       "    <tr>\n",
       "      <th>33</th>\n",
       "      <td>sugary snacks</td>\n",
       "      <td>plastique</td>\n",
       "      <td>pâte d'amandes</td>\n",
       "      <td>d</td>\n",
       "      <td>34.0</td>\n",
       "      <td>10166697</td>\n",
       "      <td>france</td>\n",
       "      <td>sugar, added-sugar, disaccharide, almond, nut, tree-nut, glucose-syrup, monosaccharide, glucose, stabiliser, bitter-almond, colour, anti-caking-agent, emulsifier, beetroot, vegetable, root-vegetable, taproot-vegetable, e422, e339ii, e450, e401</td>\n",
       "      <td>snacks, sweet-snacks, confectioneries, marzipan, almond-paste</td>\n",
       "      <td>0</td>\n",
       "    </tr>\n",
       "    <tr>\n",
       "      <th>34</th>\n",
       "      <td>None</td>\n",
       "      <td>none</td>\n",
       "      <td>colorant alimentaire rouge velours en spray</td>\n",
       "      <td>z</td>\n",
       "      <td>999.0</td>\n",
       "      <td>10205648</td>\n",
       "      <td>france</td>\n",
       "      <td>None</td>\n",
       "      <td>food-additives, food-colorings</td>\n",
       "      <td>0</td>\n",
       "    </tr>\n",
       "    <tr>\n",
       "      <th>35</th>\n",
       "      <td>None</td>\n",
       "      <td>none</td>\n",
       "      <td>colorant alimentaire bleu velours en spray</td>\n",
       "      <td>z</td>\n",
       "      <td>999.0</td>\n",
       "      <td>10205679</td>\n",
       "      <td>france</td>\n",
       "      <td>colour, fruit, e171</td>\n",
       "      <td>food-additives, food-colorings</td>\n",
       "      <td>0</td>\n",
       "    </tr>\n",
       "    <tr>\n",
       "      <th>36</th>\n",
       "      <td>sugary snacks</td>\n",
       "      <td>plastique, sachet</td>\n",
       "      <td>pâte à sucre</td>\n",
       "      <td>z</td>\n",
       "      <td>999.0</td>\n",
       "      <td>10206515</td>\n",
       "      <td>france</td>\n",
       "      <td>sugar, added-sugar, disaccharide, glucose-syrup, monosaccharide, glucose, vegetable-fat, oil-and-fat, vegetable-oil-and-fat, invert-sugar-syrup, invert-sugar, sugar-syrup, stabiliser, water, humectant, thickener, emulsifier, acid, flavouring, preservative, palm, palm-oil-and-fat, palm-oil, sunflower, plant, illipe-oil, e420ii, e420, e422, e415, e471, e330</td>\n",
       "      <td>snacks, sweet-snacks, confectioneries, cooking-helpers, pastry-helpers, fondants</td>\n",
       "      <td>1</td>\n",
       "    </tr>\n",
       "    <tr>\n",
       "      <th>37</th>\n",
       "      <td>None</td>\n",
       "      <td>none</td>\n",
       "      <td>pate a sucre</td>\n",
       "      <td>z</td>\n",
       "      <td>999.0</td>\n",
       "      <td>10216477</td>\n",
       "      <td>france</td>\n",
       "      <td>None</td>\n",
       "      <td>cooking-helpers, pastry-helpers, fondants</td>\n",
       "      <td>0</td>\n",
       "    </tr>\n",
       "    <tr>\n",
       "      <th>38</th>\n",
       "      <td>sugary snacks</td>\n",
       "      <td>none</td>\n",
       "      <td>pâte à sucre</td>\n",
       "      <td>b</td>\n",
       "      <td>76.0</td>\n",
       "      <td>10216491</td>\n",
       "      <td>france</td>\n",
       "      <td>None</td>\n",
       "      <td>sweeteners, sugars</td>\n",
       "      <td>0</td>\n",
       "    </tr>\n",
       "    <tr>\n",
       "      <th>39</th>\n",
       "      <td>sugary snacks</td>\n",
       "      <td>en caissette</td>\n",
       "      <td>brioches roulées avec raisins</td>\n",
       "      <td>z</td>\n",
       "      <td>999.0</td>\n",
       "      <td>12167005</td>\n",
       "      <td>None</td>\n",
       "      <td>brioche, coating, sugar, added-sugar, disaccharide, e330, e407, e415, e202, artificial-flavouring, flavouring, sodium-citrate, minerals, sodium, e509, canola-oil, oil-and-fat, vegetable-oil-and-fat, rapeseed-oil, e339, flour, water, raisin, fruit, berries, grape, butter, dairy, yeast, modified-potato-starch, starch, modified-starch, potato-starch, liquid-whole-egg, egg, whole-egg, salt, whey-powder, whey, wheat-gluten, gluten, wheat-starch, e263, rapeseed-lecithin, e322, e322i, e300, e1100</td>\n",
       "      <td>snacks, sweet-snacks, biscuits-and-cakes, pastries</td>\n",
       "      <td>0</td>\n",
       "    </tr>\n",
       "    <tr>\n",
       "      <th>40</th>\n",
       "      <td>None</td>\n",
       "      <td>plastic</td>\n",
       "      <td>เล็บมือนาง (ตีนไก่ )</td>\n",
       "      <td>z</td>\n",
       "      <td>999.0</td>\n",
       "      <td>12345878</td>\n",
       "      <td>None</td>\n",
       "      <td>ตีนไก่</td>\n",
       "      <td>chicken-feet</td>\n",
       "      <td>1</td>\n",
       "    </tr>\n",
       "    <tr>\n",
       "      <th>41</th>\n",
       "      <td>composite foods</td>\n",
       "      <td>none</td>\n",
       "      <td>tripoux</td>\n",
       "      <td>z</td>\n",
       "      <td>999.0</td>\n",
       "      <td>18927207</td>\n",
       "      <td>france</td>\n",
       "      <td>None</td>\n",
       "      <td>meats-and-their-products, meals, meals-with-meat, sheep-dishes, tripoux</td>\n",
       "      <td>0</td>\n",
       "    </tr>\n",
       "    <tr>\n",
       "      <th>42</th>\n",
       "      <td>alcoholic beverages</td>\n",
       "      <td>verre, bouteille, 71</td>\n",
       "      <td>côtes du rhône villages 2014</td>\n",
       "      <td>c</td>\n",
       "      <td>59.0</td>\n",
       "      <td>20004552</td>\n",
       "      <td>france</td>\n",
       "      <td>red-wine, alcohol, wine</td>\n",
       "      <td>beverages, alcoholic-beverages, wines, wines-from-france, red-wines</td>\n",
       "      <td>5</td>\n",
       "    </tr>\n",
       "    <tr>\n",
       "      <th>43</th>\n",
       "      <td>cereals and potatoes</td>\n",
       "      <td>none</td>\n",
       "      <td>sliced plain bagel</td>\n",
       "      <td>b</td>\n",
       "      <td>75.0</td>\n",
       "      <td>20043131</td>\n",
       "      <td>united states</td>\n",
       "      <td>flour, water, sugar, added-sugar, disaccharide, contains-2-and-less-of, wheat-flour, cereal, wheat, cereal-flour, salt, yeast, distilled-vinegar, vinegar, cultured-corn-syrup-solids, cul, barley-malt-flour, barley, barley-flour, e375, reduced-iron, minerals, iron, thiamin-mononitrate, thiamin, e101, folic-acid, folate, wheat-gluten, gluten</td>\n",
       "      <td>plant-based-foods-and-beverages, plant-based-foods, cereals-and-potatoes, breads, special-breads, bagel-breads</td>\n",
       "      <td>0</td>\n",
       "    </tr>\n",
       "    <tr>\n",
       "      <th>44</th>\n",
       "      <td>sugary snacks</td>\n",
       "      <td>none</td>\n",
       "      <td>muffin</td>\n",
       "      <td>z</td>\n",
       "      <td>999.0</td>\n",
       "      <td>20045791</td>\n",
       "      <td>united states</td>\n",
       "      <td>wheat-flour, cereal, flour, wheat, cereal-flour, sugar, added-sugar, disaccharide, egg, soya-oil, oil-and-fat, vegetable-oil-and-fat, vegetable-oil, water, chocolate-chunk, chocolate, cocoa-powder-treated-with-alkali, dairy-whey, corn-starch, starch, raising-agent, e501ii, e501, calcium-ac, cocoa-paste, plant, cocoa, cocoa-butter, soya-lecithin, e322, e322i, and-vanilla, emulsifier</td>\n",
       "      <td>snacks, sweet-snacks, biscuits-and-cakes, cakes, muffins</td>\n",
       "      <td>0</td>\n",
       "    </tr>\n",
       "    <tr>\n",
       "      <th>45</th>\n",
       "      <td>sugary snacks</td>\n",
       "      <td>none</td>\n",
       "      <td>apple turnover</td>\n",
       "      <td>c</td>\n",
       "      <td>55.0</td>\n",
       "      <td>20047825</td>\n",
       "      <td>united states</td>\n",
       "      <td>pastry, dough, barley-malt-flour, cereal, flour, cereal-flour, barley, barley-flour, e375, iron, minerals, thiamin-mononitrate, thiamin, e101, folic-acid, folate, water, non-hydrogenated-palm-oil, oil-and-fat, vegetable-oil-and-fat, palm-oil-and-fat, palm-oil, sugar, added-sugar, disaccharide, salt, e300, e160ai, e160a, filling, corn-syrup, modified, wheat-flour, wheat, apple, fruit, malaceous-fruit</td>\n",
       "      <td>snacks, sweet-snacks, sweet-pastries-and-pies, viennoiseries, apple-turnovers</td>\n",
       "      <td>0</td>\n",
       "    </tr>\n",
       "    <tr>\n",
       "      <th>46</th>\n",
       "      <td>sugary snacks</td>\n",
       "      <td>pappe, 21 pap</td>\n",
       "      <td>belgische pralinen</td>\n",
       "      <td>z</td>\n",
       "      <td>999.0</td>\n",
       "      <td>20424640</td>\n",
       "      <td>None</td>\n",
       "      <td>sugar, added-sugar, disaccharide, cocoa-paste, plant, cocoa, cocoa-butter, whole-milk-powder, dairy, milk-powder, palm-oil, oil-and-fat, vegetable-oil-and-fat, palm-oil-and-fat, glucose-fructose-syrup, monosaccharide, fructose, glucose, butterfat, fat, milkfat, marzipan, dextrose, nut, tree-nut, hazelnut, fat-reduced-cocoa-powder, cocoa-powder, emulsifier, glucose-syrup, almond, flavouring, skimmed-milk-powder, coffee, water, salt, humectant, e420, e322, e422</td>\n",
       "      <td>snacks, sweet-snacks, cocoa-and-its-products, confectioneries, chocolate-candies, bonbons</td>\n",
       "      <td>3</td>\n",
       "    </tr>\n",
       "    <tr>\n",
       "      <th>47</th>\n",
       "      <td>cereals and potatoes</td>\n",
       "      <td>none</td>\n",
       "      <td>plain bagels</td>\n",
       "      <td>b</td>\n",
       "      <td>75.0</td>\n",
       "      <td>27249635</td>\n",
       "      <td>france</td>\n",
       "      <td>None</td>\n",
       "      <td>plant-based-foods-and-beverages, plant-based-foods, cereals-and-potatoes, breads, special-breads, bagel-breads</td>\n",
       "      <td>0</td>\n",
       "    </tr>\n",
       "    <tr>\n",
       "      <th>48</th>\n",
       "      <td>sugary snacks</td>\n",
       "      <td>plastic, bowl</td>\n",
       "      <td>luxury christmas pudding</td>\n",
       "      <td>z</td>\n",
       "      <td>999.0</td>\n",
       "      <td>27533024</td>\n",
       "      <td>None</td>\n",
       "      <td>demerara-sugar, added-sugar, disaccharide, sugar, cane-sugar, unrefined-sugar, unrefined-cane-sugar, sultana, fruit, berries, grape, raisin, bread-rusk, salt, yeast, cider, alcohol, currants, sherry, wine, liqueur-wine, palm-oil, oil-and-fat, vegetable-oil-and-fat, palm-oil-and-fat, cognac, glace-cherry, prunus-species-fruit, cherry, single-cream, dairy, cream, walnut, nut, tree-nut, almond, fortified-wheat-flour, cereal, flour, wheat, cereal-flour, wheat-flour, e170i, e170, iron, minerals, e375, thramin, brandy, rum, golden-syrup, monosaccharide, invert-sugar, sugar-syrup, invert-sugar-syrup, citrus-fruit, barley-malt-extract, malt, malted-barley, mixed-spices, condiment, spice, lemon-oil, lemon, orange-essential-oil, essential-oil, thiamin, glucose-fructose-syrup, fructose, glucose, colour, acidity-regulator, milk, glucose-syrup, orange-zest, orange, lemon-peel, coriander, herb, cinnamon, clove, fennel, vegetable, stalk-vegetable, ginger, nutmeg, cardamom, e163, e330</td>\n",
       "      <td>desserts, puddings, christmas-puddings</td>\n",
       "      <td>0</td>\n",
       "    </tr>\n",
       "    <tr>\n",
       "      <th>49</th>\n",
       "      <td>sugary snacks</td>\n",
       "      <td>plastic, bowl</td>\n",
       "      <td>luxury christmas pudding</td>\n",
       "      <td>z</td>\n",
       "      <td>999.0</td>\n",
       "      <td>27533048</td>\n",
       "      <td>None</td>\n",
       "      <td>demerara-sugar, added-sugar, disaccharide, sugar, cane-sugar, unrefined-sugar, unrefined-cane-sugar, sultana, fruit, berries, grape, raisin, bread-rusk, salt, yeast, cider, alcohol, currants, sherry, wine, liqueur-wine, palm-oil, oil-and-fat, vegetable-oil-and-fat, palm-oil-and-fat, cognac, glace-cherry, prunus-species-fruit, cherry, single-cream, dairy, cream, walnut, nut, tree-nut, almond, fortified-wheat-flour, cereal, flour, wheat, cereal-flour, wheat-flour, e170i, e170, iron, minerals, e375, thramin, brandy, rum, golden-syrup, monosaccharide, invert-sugar, sugar-syrup, invert-sugar-syrup, citrus-fruit, barley-malt-extract, malt, malted-barley, mixed-spices, condiment, spice, lemon-oil, lemon, orange-essential-oil, essential-oil, thiamin, glucose-fructose-syrup, fructose, glucose, colour, acidity-regulator, milk, glucose-syrup, orange-zest, orange, lemon-peel, coriander, herb, cinnamon, clove, fennel, vegetable, stalk-vegetable, ginger, nutmeg, cardamom, e163, e330</td>\n",
       "      <td>snacks, desserts, sweet-snacks, biscuits-and-cakes, cakes, puddings, christmas-puddings</td>\n",
       "      <td>0</td>\n",
       "    </tr>\n",
       "    <tr>\n",
       "      <th>50</th>\n",
       "      <td>sugary snacks</td>\n",
       "      <td>papier</td>\n",
       "      <td>pastille vichy</td>\n",
       "      <td>c</td>\n",
       "      <td>56.0</td>\n",
       "      <td>30053014</td>\n",
       "      <td>france</td>\n",
       "      <td>sweetener, glazing-agent, flavouring, e420, e951</td>\n",
       "      <td>snacks, sweet-snacks, confectioneries, candies</td>\n",
       "      <td>6</td>\n",
       "    </tr>\n",
       "    <tr>\n",
       "      <th>51</th>\n",
       "      <td>composite foods</td>\n",
       "      <td>none</td>\n",
       "      <td>céleri rémoulade</td>\n",
       "      <td>b</td>\n",
       "      <td>73.0</td>\n",
       "      <td>35000020</td>\n",
       "      <td>france</td>\n",
       "      <td>None</td>\n",
       "      <td>plant-based-foods-and-beverages, plant-based-foods, meals, prepared-vegetables, celeriac-in-remoulade-sauce</td>\n",
       "      <td>0</td>\n",
       "    </tr>\n",
       "    <tr>\n",
       "      <th>52</th>\n",
       "      <td>sugary snacks</td>\n",
       "      <td>plastique, sachet</td>\n",
       "      <td>m&amp;m's peanut butter</td>\n",
       "      <td>d</td>\n",
       "      <td>27.0</td>\n",
       "      <td>40144078</td>\n",
       "      <td>france</td>\n",
       "      <td>sugar, added-sugar, disaccharide, peanut, nut, cocoa-paste, plant, cocoa, skimmed-milk-powder, dairy, milk-powder, lactose-and-milk-proteins, protein, animal-protein, milk-proteins, lactose, vegetable-fat, oil-and-fat, vegetable-oil-and-fat, cocoa-butter, butterfat, fat, milkfat, starch, glucose-syrup, monosaccharide, glucose, e414, colour, flavouring, salt, vegetable-oil</td>\n",
       "      <td>snacks, sweet-snacks, cocoa-and-its-products, confectioneries, chocolate-candies, bonbons, chocolate-covered-nuts, chocolate-covered-peanuts</td>\n",
       "      <td>1</td>\n",
       "    </tr>\n",
       "    <tr>\n",
       "      <th>53</th>\n",
       "      <td>beverages</td>\n",
       "      <td>canette aluminium</td>\n",
       "      <td>pepsi, nouveau goût !</td>\n",
       "      <td>z</td>\n",
       "      <td>999.0</td>\n",
       "      <td>40608754</td>\n",
       "      <td>france</td>\n",
       "      <td>carbonated-water, water, sugar, added-sugar, disaccharide, colour, acid, flavouring, e150d, e338, caffeine, natural-extract</td>\n",
       "      <td>beverages, carbonated-drinks, sodas, colas, sweetened-beverages</td>\n",
       "      <td>0</td>\n",
       "    </tr>\n",
       "    <tr>\n",
       "      <th>54</th>\n",
       "      <td>fat and sauces</td>\n",
       "      <td>plastique, flacon souple</td>\n",
       "      <td>heinz squeeze sauce salade cream</td>\n",
       "      <td>z</td>\n",
       "      <td>999.0</td>\n",
       "      <td>50157846</td>\n",
       "      <td>france</td>\n",
       "      <td>alcohol-vinegar, vinegar, water, grape-seed-oil, oil-and-fat, vegetable-oil-and-fat, vegetable-oil, sugar, added-sugar, disaccharide, corn-flour, cereal, flour, corn, mustard, pasteurised-egg-yolk, egg, egg-yolk, salt, colour, e101</td>\n",
       "      <td>condiments, sauces, groceries</td>\n",
       "      <td>4</td>\n",
       "    </tr>\n",
       "    <tr>\n",
       "      <th>55</th>\n",
       "      <td>fat and sauces</td>\n",
       "      <td>none</td>\n",
       "      <td>heinz burger sauce 220ml</td>\n",
       "      <td>d</td>\n",
       "      <td>34.0</td>\n",
       "      <td>50457540</td>\n",
       "      <td>france</td>\n",
       "      <td>None</td>\n",
       "      <td>condiments, sauces, burger-sauces, groceries</td>\n",
       "      <td>0</td>\n",
       "    </tr>\n",
       "    <tr>\n",
       "      <th>56</th>\n",
       "      <td>beverages</td>\n",
       "      <td>none</td>\n",
       "      <td>blle pet 50cl coca cola cherry</td>\n",
       "      <td>z</td>\n",
       "      <td>999.0</td>\n",
       "      <td>54492790</td>\n",
       "      <td>france</td>\n",
       "      <td>sugar, added-sugar, disaccharide, acid, natural-flavouring, flavouring, colour, e338, vegetable-extract, extract, caffeine</td>\n",
       "      <td>beverages, sweetened-beverages</td>\n",
       "      <td>0</td>\n",
       "    </tr>\n",
       "    <tr>\n",
       "      <th>57</th>\n",
       "      <td>fish meat eggs</td>\n",
       "      <td>none</td>\n",
       "      <td>pavés de saumon, nature</td>\n",
       "      <td>e</td>\n",
       "      <td>19.0</td>\n",
       "      <td>69005138</td>\n",
       "      <td>france</td>\n",
       "      <td>salmon-fillet, fish, oily-fish, salmon</td>\n",
       "      <td>seafood, fishes-and-their-products, fishes, fatty-fishes, salmons, salmon-steaks</td>\n",
       "      <td>0</td>\n",
       "    </tr>\n",
       "    <tr>\n",
       "      <th>58</th>\n",
       "      <td>composite foods</td>\n",
       "      <td>none</td>\n",
       "      <td>galette de pommes de terre</td>\n",
       "      <td>b</td>\n",
       "      <td>60.0</td>\n",
       "      <td>69006562</td>\n",
       "      <td>france</td>\n",
       "      <td>potato, vegetable, root-vegetable, tuber, potato-starch, starch, palm-oil, oil-and-fat, vegetable-oil-and-fat, palm-oil-and-fat, egg, spice, condiment, rice-flour, flour, rice, salt, wheat-flour, cereal, wheat, cereal-flour, dextrose, added-sugar, monosaccharide, glucose, onion, onion-family-vegetable, turmeric</td>\n",
       "      <td>plant-based-foods-and-beverages, plant-based-foods, cereals-and-potatoes, frozen-foods, meals, prepared-vegetables, potato-preparations, frozen-ready-made-meals, rostis</td>\n",
       "      <td>0</td>\n",
       "    </tr>\n",
       "    <tr>\n",
       "      <th>59</th>\n",
       "      <td>fish meat eggs</td>\n",
       "      <td>plastique, sachet, surgelé, pebd - polyéthylène basse densité, 04</td>\n",
       "      <td>chicken chips</td>\n",
       "      <td>d</td>\n",
       "      <td>23.0</td>\n",
       "      <td>69013508</td>\n",
       "      <td>france</td>\n",
       "      <td>chicken-fillet, poultry, chicken, chicken-meat, corn, cereal, water, colza-oil, oil-and-fat, vegetable-oil-and-fat, rapeseed-oil, modified-wheat-starch, starch, modified-starch, wheat-starch, salt, wheat-flour, flour, wheat, cereal-flour, sugar, added-sugar, disaccharide, dextrose, monosaccharide, glucose, barley-malt-extract, malt, malted-barley, pepper-extract, seed, pepper</td>\n",
       "      <td>meats-and-their-products, frozen-foods, meals, meat-preparations, meats, chicken-and-its-products, poultries, chicken-preparations, breaded-products, chickens, cooked-poultries, cooked-chicken, frozen-ready-made-meals, poultry-nuggets, breaded-chicken, chicken-nuggets</td>\n",
       "      <td>0</td>\n",
       "    </tr>\n",
       "  </tbody>\n",
       "</table>\n",
       "</div>"
      ],
      "text/plain": [
       "                     groups  \\\n",
       "0             sugary snacks   \n",
       "1            fat and sauces   \n",
       "2           composite foods   \n",
       "3           composite foods   \n",
       "4     fruits and vegetables   \n",
       "5           composite foods   \n",
       "6   milk and dairy products   \n",
       "7      cereals and potatoes   \n",
       "8            fish meat eggs   \n",
       "9            fish meat eggs   \n",
       "10                     None   \n",
       "11    fruits and vegetables   \n",
       "12            sugary snacks   \n",
       "13    fruits and vegetables   \n",
       "14          composite foods   \n",
       "15          composite foods   \n",
       "16    fruits and vegetables   \n",
       "17            sugary snacks   \n",
       "18     cereals and potatoes   \n",
       "19            sugary snacks   \n",
       "20                beverages   \n",
       "21     cereals and potatoes   \n",
       "22     cereals and potatoes   \n",
       "23                beverages   \n",
       "24            sugary snacks   \n",
       "25                beverages   \n",
       "26          composite foods   \n",
       "27           fish meat eggs   \n",
       "28    fruits and vegetables   \n",
       "29            sugary snacks   \n",
       "30                beverages   \n",
       "31                beverages   \n",
       "32                     None   \n",
       "33            sugary snacks   \n",
       "34                     None   \n",
       "35                     None   \n",
       "36            sugary snacks   \n",
       "37                     None   \n",
       "38            sugary snacks   \n",
       "39            sugary snacks   \n",
       "40                     None   \n",
       "41          composite foods   \n",
       "42      alcoholic beverages   \n",
       "43     cereals and potatoes   \n",
       "44            sugary snacks   \n",
       "45            sugary snacks   \n",
       "46            sugary snacks   \n",
       "47     cereals and potatoes   \n",
       "48            sugary snacks   \n",
       "49            sugary snacks   \n",
       "50            sugary snacks   \n",
       "51          composite foods   \n",
       "52            sugary snacks   \n",
       "53                beverages   \n",
       "54           fat and sauces   \n",
       "55           fat and sauces   \n",
       "56                beverages   \n",
       "57           fish meat eggs   \n",
       "58          composite foods   \n",
       "59           fish meat eggs   \n",
       "\n",
       "                                                            packaging  \\\n",
       "0                                             30g bottle, slim bottle   \n",
       "1                                                                none   \n",
       "2                                                                none   \n",
       "3                                                plastique, barquette   \n",
       "4                                                                none   \n",
       "5                                                                none   \n",
       "6                                                                none   \n",
       "7                                                                none   \n",
       "8                                                                none   \n",
       "9                                                                none   \n",
       "10                                                   plastique, bocal   \n",
       "11                                                               none   \n",
       "12                                                               none   \n",
       "13                                                               none   \n",
       "14                                                  plastique, carton   \n",
       "15                                                  plastique, carton   \n",
       "16                                                              frais   \n",
       "17                                                              frais   \n",
       "18                                                paper, plastic film   \n",
       "19                                                              frais   \n",
       "20                                                               none   \n",
       "21                                                               none   \n",
       "22                                                   sachet plastique   \n",
       "23                       métal, boîte de conserve ou canette, canette   \n",
       "24                                                      boîte, carton   \n",
       "25                                                               none   \n",
       "26                                                              frais   \n",
       "27                                                              frais   \n",
       "28                                                  plastique, sachet   \n",
       "29                                                             carton   \n",
       "30                                                               none   \n",
       "31                                métal, recyclable metals, aluminium   \n",
       "32                                           verre, bouteille, carton   \n",
       "33                                                          plastique   \n",
       "34                                                               none   \n",
       "35                                                               none   \n",
       "36                                                  plastique, sachet   \n",
       "37                                                               none   \n",
       "38                                                               none   \n",
       "39                                                       en caissette   \n",
       "40                                                            plastic   \n",
       "41                                                               none   \n",
       "42                                               verre, bouteille, 71   \n",
       "43                                                               none   \n",
       "44                                                               none   \n",
       "45                                                               none   \n",
       "46                                                      pappe, 21 pap   \n",
       "47                                                               none   \n",
       "48                                                      plastic, bowl   \n",
       "49                                                      plastic, bowl   \n",
       "50                                                             papier   \n",
       "51                                                               none   \n",
       "52                                                  plastique, sachet   \n",
       "53                                                  canette aluminium   \n",
       "54                                           plastique, flacon souple   \n",
       "55                                                               none   \n",
       "56                                                               none   \n",
       "57                                                               none   \n",
       "58                                                               none   \n",
       "59  plastique, sachet, surgelé, pebd - polyéthylène basse densité, 04   \n",
       "\n",
       "                                           name ecoscore_groups  \\\n",
       "0                              chocolat au lait               z   \n",
       "1                   moutarde au moût de raisin                c   \n",
       "2                     salade de carottes râpées               b   \n",
       "3                            tarte noix de coco               z   \n",
       "4                              compote de poire               b   \n",
       "5                salade de macedoine de légumes               b   \n",
       "6                                     abondance               c   \n",
       "7                              baguette bressan               b   \n",
       "8              pavé de saumon fumé à la ficelle               e   \n",
       "9                                   corned beef               z   \n",
       "10                          naturablue original               z   \n",
       "11                      organic baby lima beans               b   \n",
       "12                               pack de 2 twix               z   \n",
       "13                                  cranberries               d   \n",
       "14            blanquette de volaille et son riz               c   \n",
       "15      raviolini au fromage de chèvre et pesto               z   \n",
       "16                                 salade cesar               z   \n",
       "17               danoises à la cannelle roulées               z   \n",
       "18                                        flute               z   \n",
       "19                 chaussons tressés aux pommes               b   \n",
       "20                                 jus de pomme               c   \n",
       "21                      pain de mie sans gluten               b   \n",
       "22                            lentilles vertes                b   \n",
       "23                                    root beer               z   \n",
       "24            biscuits sablés fourrage au cacao               b   \n",
       "25                      a&w - root beer - 355ml               z   \n",
       "26                              quiche lorraine               d   \n",
       "27                               pâté au poulet               d   \n",
       "28                             compote de pomme               b   \n",
       "29               bonbons acidulés raisin fraise               c   \n",
       "30        thé noir aromatisé violette et fleurs               z   \n",
       "31        thé de noël aromatisé orange-cannelle               a   \n",
       "32                 sirops pour ganache macarons               z   \n",
       "33                               pâte d'amandes               d   \n",
       "34  colorant alimentaire rouge velours en spray               z   \n",
       "35   colorant alimentaire bleu velours en spray               z   \n",
       "36                                 pâte à sucre               z   \n",
       "37                                 pate a sucre               z   \n",
       "38                                 pâte à sucre               b   \n",
       "39                brioches roulées avec raisins               z   \n",
       "40                         เล็บมือนาง (ตีนไก่ )               z   \n",
       "41                                      tripoux               z   \n",
       "42                 côtes du rhône villages 2014               c   \n",
       "43                           sliced plain bagel               b   \n",
       "44                                       muffin               z   \n",
       "45                               apple turnover               c   \n",
       "46                           belgische pralinen               z   \n",
       "47                                 plain bagels               b   \n",
       "48                     luxury christmas pudding               z   \n",
       "49                     luxury christmas pudding               z   \n",
       "50                               pastille vichy               c   \n",
       "51                             céleri rémoulade               b   \n",
       "52                          m&m's peanut butter               d   \n",
       "53                        pepsi, nouveau goût !               z   \n",
       "54             heinz squeeze sauce salade cream               z   \n",
       "55                     heinz burger sauce 220ml               d   \n",
       "56               blle pet 50cl coca cola cherry               z   \n",
       "57                      pavés de saumon, nature               e   \n",
       "58                   galette de pommes de terre               b   \n",
       "59                                chicken chips               d   \n",
       "\n",
       "    ecoscore_note      code              countries  \\\n",
       "0           999.0         0  france, united states   \n",
       "1            54.0       100                 france   \n",
       "2            75.0       949                 france   \n",
       "3           999.0      1281                 france   \n",
       "4            76.0      1885                 france   \n",
       "5            77.0      2257                 france   \n",
       "6            52.0      5005                 france   \n",
       "7            77.0      5470                 france   \n",
       "8             9.0      5661                 france   \n",
       "9           999.0      7160                 france   \n",
       "10          999.0     20114                 france   \n",
       "11           75.0     30717          united states   \n",
       "12          999.0     39529  france, united states   \n",
       "13           24.0     43595          united states   \n",
       "14           50.0    274722                 france   \n",
       "15          999.0    274739                 france   \n",
       "16          999.0    290616                   None   \n",
       "17          999.0    394710                   None   \n",
       "18          999.0   1071894                   None   \n",
       "19           65.0   1938067                   None   \n",
       "20           49.0   2169385                 france   \n",
       "21           70.0   5029525                 france   \n",
       "22           79.0   5200016                 france   \n",
       "23          999.0   7020254  france, united states   \n",
       "24           63.0   7730009                 france   \n",
       "25          999.0   7818707                 france   \n",
       "26           29.0   8237798                   None   \n",
       "27           21.0   8240095                   None   \n",
       "28           79.0   9125124                 france   \n",
       "29           56.0   9336247                 france   \n",
       "30          999.0  10068175                 france   \n",
       "31           92.0  10090206                 france   \n",
       "32          999.0  10127735                 france   \n",
       "33           34.0  10166697                 france   \n",
       "34          999.0  10205648                 france   \n",
       "35          999.0  10205679                 france   \n",
       "36          999.0  10206515                 france   \n",
       "37          999.0  10216477                 france   \n",
       "38           76.0  10216491                 france   \n",
       "39          999.0  12167005                   None   \n",
       "40          999.0  12345878                   None   \n",
       "41          999.0  18927207                 france   \n",
       "42           59.0  20004552                 france   \n",
       "43           75.0  20043131          united states   \n",
       "44          999.0  20045791          united states   \n",
       "45           55.0  20047825          united states   \n",
       "46          999.0  20424640                   None   \n",
       "47           75.0  27249635                 france   \n",
       "48          999.0  27533024                   None   \n",
       "49          999.0  27533048                   None   \n",
       "50           56.0  30053014                 france   \n",
       "51           73.0  35000020                 france   \n",
       "52           27.0  40144078                 france   \n",
       "53          999.0  40608754                 france   \n",
       "54          999.0  50157846                 france   \n",
       "55           34.0  50457540                 france   \n",
       "56          999.0  54492790                 france   \n",
       "57           19.0  69005138                 france   \n",
       "58           60.0  69006562                 france   \n",
       "59           23.0  69013508                 france   \n",
       "\n",
       "                                                                                                                                                                                                                                                                                                                                                                                                                                                                                                                                                                                                                                                                                                                                                                                                                                                                                                                                                                                                                ingredients  \\\n",
       "0                                                                                                                                                                                                                                                                                                                                                                                                                                                                                                                                                                                                                                                                                                                                                                                               mode-d-utilisation-utilisez-la-ut-assaisonner-les-potes-les-pizzas-et-lasagnes, prete-o-l-emploi, 182, alba, www-cascinasancassiano-com, pourioogde-produit-dtmurts-leg-prunes-lg-0-3b-4-22-cascina-san-cassiano-c-so-piave   \n",
       "1                                                                                                                                                                                                                                                                                                                                                                                                                                                                                                                                                                                                                                                                                                                                                                                                                                                                                                                                                                                                                      None   \n",
       "2                                                                                                                                                                                                                                                                                                                                                                                                                                                                                                                                                                                                                                                                                                                                                                                                                                                                                                                                                                                                                      None   \n",
       "3                                                                                                                                                                                                                                                                                                                                                                                                                                                                                                                                                                                                                                                                                                                                                                                                                                                                                                                                                                                                                      None   \n",
       "4                                                                                                                                                                                                                                                                                                                                                                                                                                                                                                                                                                                                                                                                                                                                                                                                                                                                                                                                                                                                                      None   \n",
       "5                                                                                                                                                                                                                                                                                                                                                                                                                                                                                                                                                                                                                                                                                                                                                                                                                                                                                                                                                                                                                      None   \n",
       "6                                                                                                                                                                                                                                                                                                                                                                                                                                                                                                                                                                                                                                                                                                                                                                                                                                                                                                                                                                                                                      None   \n",
       "7                                                                                                                                                                                                                                                                                                                                                                                                                                                                                                                                                                                                                                                                                                                           wheat-flour, cereal, flour, wheat, cereal-flour, water, salt, yeast, gluten, malted-wheat-flour, deactivated-yeast, e300, filling, acid, modified-tapioca-starch, starch, modified-starch, tapioca, flavouring, colour, bone, chicken-fillet, poultry, chicken, chicken-meat, e326, e262i, e262   \n",
       "8                                                                                                                                                                                                                                                                                                                                                                                                                                                                                                                                                                                                                                                                                                                                                                                                                                                                                                                                                                                                                      None   \n",
       "9                                                                                                                                                                                                                                                                                                                                                                                                                                                                                                                                                                                                                                                                                                                                                                                                                                                                                                                                                                                                                      None   \n",
       "10                                                                                                                                                                                                                                                                                                                                                                                                                                                                                                                                                                                                                                                                                                                                                                                                                                                                                                                              e422, spirulina, algae, natural-lime-flavouring, flavouring, natural-flavouring, stabiliser   \n",
       "11                                                                                                                                                                                                                                                                                                                                                                                                                                                                                                                                                                                                                                                                                                                                                                                                                                                                                                                                                            baby-lima-beans, vegetable, pod-and-seed-vegetable, lima-bean   \n",
       "12                                                                                                                                                                                                                                                                                                                                                                                                                                                                                                                                                                                                                                                                                                                                                                                                                                                                                                                                                                                                                     None   \n",
       "13                                                                                                                                                                                                                                                                                                                                                                                                                                                                                                                                                                                                                                                                                                                                                                                                                                                                                                     cranberry, fruit, sugar, added-sugar, disaccharide, sunflower-oil, oil-and-fat, vegetable-oil-and-fat, vegetable-oil   \n",
       "14                                                                                                                                                                                                                                                                                                                                                                                                                                                                                                                                                                                               rice, turkey-meat, poultry, turkey, water, carrot, vegetable, root-vegetable, taproot-vegetable, onion, onion-family-vegetable, modified-corn-starch, starch, corn-starch, modified-starch, natural-flavouring, flavouring, white-wine-extract, alcohol, wine, white-wine, salt, colza-oil, oil-and-fat, vegetable-oil-and-fat, rapeseed-oil, glucose-syrup, added-sugar, monosaccharide, glucose, stabiliser, e451i, e451   \n",
       "15                                                                                                                                                                                                                                                                                                                                                                                                                                                                                                                                                                                                                                                                                                                                                                                                                                                                                                                                                                                                                     None   \n",
       "16                                                                                                                                                                                                                                                                                                          lettuce, vegetable, leaf-vegetable, salad, vinaigrette, sauce, crouton, lemon, fruit, citrus-fruit, canola-oil, oil-and-fat, vegetable-oil-and-fat, rapeseed-oil, water, garlic, root-vegetable, onion-family-vegetable, egg-yolk, egg, concentrated-lemon-juice, juice, fruit-juice, lemon-juice, salt, anchovy-paste, fish, oily-fish, anchovy, condiment, e415, flour, wheat, cereal, palm-oil, palm-oil-and-fat, glucose-fructose, added-sugar, monosaccharide, fructose, glucose, rye-flour, cereal-flour, wheat-gluten, gluten, e150, whey-powder, dairy, whey, maltodextrin, caraway, spice, yeast, vinegar, sugar, disaccharide, rye-sourdough, dough, sourdough, parsley, herb, e300, e341, e517, e516   \n",
       "17                                                                                                                                                                                                                                                                                                                                                                                                                                                                                water, butter, dairy, sugar, added-sugar, disaccharide, brown-sugar, yeast, whey-powder, whey, liquid-whole-egg, egg, whole-egg, salt, gluten, soya-oil, oil-and-fat, vegetable-oil-and-fat, vegetable-oil, e170i, e170, e300, e1100, artificial-flavouring, flavouring, filling, modified-milk-ingredients, milk, flour, spice, condiment, modified-corn-starch, starch, corn-starch, modified-starch, egg-powder, cocoa, plant, dextrose, monosaccharide, glucose, e203, e420, corn-syrup, e440a, e202, e410, e330, e406, colour, dough   \n",
       "18                                                                                                                                                                                                                                                                                                                                                                                                                                                                                                                                                                                                                                                                                                                                                                                                                                                                                                                                                                                                            wheat, cereal   \n",
       "19                                                                                                                                                                                                                                                                                                                                                                                                                                                                                                                                                                                                                                                                                                                                  dough, filling, water, sugar, added-sugar, disaccharide, glucose-fructose, monosaccharide, fructose, glucose, modified-corn-starch, starch, corn-starch, modified-starch, e330, cinnamon, condiment, spice, salt, e509, e211, e202, sulfite, flour, e920, apple, fruit, malaceous-fruit   \n",
       "20                                                                                                                                                                                                                                                                                                                                                                                                                                                                                                                                                                                                                                                                                                                                                                                                                                                                                                                                                                                                                     None   \n",
       "21                                                                                                                                                                                                                                                                                                                                                                                                                                                                                                                                                                                                                                                                                                                                                                                                                                                                                                                                                                                                                     None   \n",
       "22                                                                                                                                                                                                                                                                                                                                                                                                                                                                                                                                                                                                                                                                                                                                                                                                                                                                                                                                                                         green-lentils, vegetable, legume, pulse, lentils   \n",
       "23                                                                                                                                                                                                                                                                                                                                                                                                                                                                                                                                                                                                                                                                                                                     carbonated-water, water, high-fructose-corn-syrup, added-sugar, disaccharide, monosaccharide, fructose, glucose, corn-syrup, glucose-fructose-syrup, colour, preservative, natural-and-artificial-flavouring, flavouring, natural-flavouring, artificial-flavouring, foaming-agent, e150, e211, e999   \n",
       "24                                                                                                                                                                                                                                                                                                                                                                                                                                                                                                          sugar, added-sugar, disaccharide, wheat-flour, cereal, flour, wheat, cereal-flour, fat, oil-and-fat, shea-butter, vegetable-oil-and-fat, vegetable-fat, colza-oil, rapeseed-oil, sunflower-oil, vegetable-oil, fat-reduced-cocoa-powder, plant, cocoa, cocoa-powder, glucose-syrup, monosaccharide, glucose, e1400, butterfat, dairy, milkfat, egg, hazelnut-paste, nut, tree-nut, hazelnut, cocoa-paste, emulsifier, sunflower-lecithin, e322, e322i, salt, raising-agent, flavouring, rapeseed-lecithin, e503   \n",
       "25                                                                                                                                                                                                                                                                                                                                                                                                                                                                                                                                                                                                                                                                                                                                                                                                                                                                                                                                                                                           carbonated-water, water, e150a   \n",
       "26                                                                                                                                                                                                                                                      dextrose, added-sugar, monosaccharide, glucose, e250, e325, e316, liquid-egg, egg, onion, vegetable, root-vegetable, onion-family-vegetable, modified-corn-starch, starch, corn-starch, modified-starch, spice, condiment, salt, sodium-citrate, minerals, sodium, e339, e407, e410, crust, parsley, herb, leaf-vegetable, wheat, cereal, milk, dairy, mollusc, shellfish, crustacean, sesame, seed, mustard, soya, sulfite, filling, ham, animal, meat, pork, pork-meat, vegetable-broth, broth, sugar, disaccharide, modified-milk-ingredients, microbial-culture, ferment, microbial-rennet, enzyme, coagulating-enzyme, rennet, vegetarian-rennet, e509, e235, e460, flour, water, yeast, vegetable-oil, oil-and-fat, vegetable-oil-and-fat, e920, e281, colour   \n",
       "27                                                                                                                                                                                                                                                                                                                                                                                                                                                                                                                                                                                                                                                                                                                                                                                                                                                                                                                                                                                                                     None   \n",
       "28                                                                                                                                                                                                                                                                                                                                                                                                                                                                                                                                                                                                                                                                                                                                                                                                                                                                               fruit, malaceous-fruit, apple, sugar, added-sugar, disaccharide, corn-starch, starch, sucrose, emulsifier, sunflower-lecithin, e322, e322i   \n",
       "29                                                                                                                                                                                                                                                                                                                                                                                                                                                                                                                                                                                                                                                                                                                                                                                                                             dextrose, added-sugar, monosaccharide, glucose, sugar, disaccharide, glucose-syrup, acid, artificial-flavouring, flavouring, glazing-agent, colour, e132, e129, e102, e110, e296, e903, e133   \n",
       "30                                                                                                                                                                                                                                                                                                                                                                                                                                                                                                                                                                                                                                                                                                                                                                                                                                                                                                                                                                                                                     None   \n",
       "31                                                                                                                                                                                                                                                                                                                                                                                                                                                                                                                                                                                                                                                                                                                                                                                                                                                                                              black-tea, plant, tea, orange-zest, fruit, citrus-fruit, orange, natural-flavouring, flavouring, cinnamon, condiment, spice   \n",
       "32                                                                                                                                                                                                                                                                                                                                                                                                                                                                                                                                                                                                                                                       water, flavouring, acid, colour, e171, e211, e131, natural-flavouring, syrup, sugar, added-sugar, disaccharide, e330, safflower-concentrate, plant, safflower, apple, fruit, malaceous-fruit, sweet-potato, vegetable, root-vegetable, tuber, cherry, prunus-species-fruit, radish, taproot-vegetable, apple-extract, fruit-extract, blackcurrant, berries, carrot   \n",
       "33                                                                                                                                                                                                                                                                                                                                                                                                                                                                                                                                                                                                                                                                                                                                                                      sugar, added-sugar, disaccharide, almond, nut, tree-nut, glucose-syrup, monosaccharide, glucose, stabiliser, bitter-almond, colour, anti-caking-agent, emulsifier, beetroot, vegetable, root-vegetable, taproot-vegetable, e422, e339ii, e450, e401   \n",
       "34                                                                                                                                                                                                                                                                                                                                                                                                                                                                                                                                                                                                                                                                                                                                                                                                                                                                                                                                                                                                                     None   \n",
       "35                                                                                                                                                                                                                                                                                                                                                                                                                                                                                                                                                                                                                                                                                                                                                                                                                                                                                                                                                                                                      colour, fruit, e171   \n",
       "36                                                                                                                                                                                                                                                                                                                                                                                                                                                                                                                                                                                                                                                    sugar, added-sugar, disaccharide, glucose-syrup, monosaccharide, glucose, vegetable-fat, oil-and-fat, vegetable-oil-and-fat, invert-sugar-syrup, invert-sugar, sugar-syrup, stabiliser, water, humectant, thickener, emulsifier, acid, flavouring, preservative, palm, palm-oil-and-fat, palm-oil, sunflower, plant, illipe-oil, e420ii, e420, e422, e415, e471, e330   \n",
       "37                                                                                                                                                                                                                                                                                                                                                                                                                                                                                                                                                                                                                                                                                                                                                                                                                                                                                                                                                                                                                     None   \n",
       "38                                                                                                                                                                                                                                                                                                                                                                                                                                                                                                                                                                                                                                                                                                                                                                                                                                                                                                                                                                                                                     None   \n",
       "39                                                                                                                                                                                                                                                                                                                                                                                                                                                                                                           brioche, coating, sugar, added-sugar, disaccharide, e330, e407, e415, e202, artificial-flavouring, flavouring, sodium-citrate, minerals, sodium, e509, canola-oil, oil-and-fat, vegetable-oil-and-fat, rapeseed-oil, e339, flour, water, raisin, fruit, berries, grape, butter, dairy, yeast, modified-potato-starch, starch, modified-starch, potato-starch, liquid-whole-egg, egg, whole-egg, salt, whey-powder, whey, wheat-gluten, gluten, wheat-starch, e263, rapeseed-lecithin, e322, e322i, e300, e1100   \n",
       "40                                                                                                                                                                                                                                                                                                                                                                                                                                                                                                                                                                                                                                                                                                                                                                                                                                                                                                                                                                                                                   ตีนไก่   \n",
       "41                                                                                                                                                                                                                                                                                                                                                                                                                                                                                                                                                                                                                                                                                                                                                                                                                                                                                                                                                                                                                     None   \n",
       "42                                                                                                                                                                                                                                                                                                                                                                                                                                                                                                                                                                                                                                                                                                                                                                                                                                                                                                                                                                                                  red-wine, alcohol, wine   \n",
       "43                                                                                                                                                                                                                                                                                                                                                                                                                                                                                                                                                                                                                                                                    flour, water, sugar, added-sugar, disaccharide, contains-2-and-less-of, wheat-flour, cereal, wheat, cereal-flour, salt, yeast, distilled-vinegar, vinegar, cultured-corn-syrup-solids, cul, barley-malt-flour, barley, barley-flour, e375, reduced-iron, minerals, iron, thiamin-mononitrate, thiamin, e101, folic-acid, folate, wheat-gluten, gluten   \n",
       "44                                                                                                                                                                                                                                                                                                                                                                                                                                                                                                                                                                                                                         wheat-flour, cereal, flour, wheat, cereal-flour, sugar, added-sugar, disaccharide, egg, soya-oil, oil-and-fat, vegetable-oil-and-fat, vegetable-oil, water, chocolate-chunk, chocolate, cocoa-powder-treated-with-alkali, dairy-whey, corn-starch, starch, raising-agent, e501ii, e501, calcium-ac, cocoa-paste, plant, cocoa, cocoa-butter, soya-lecithin, e322, e322i, and-vanilla, emulsifier   \n",
       "45                                                                                                                                                                                                                                                                                                                                                                                                                                                                                                                                                                                                       pastry, dough, barley-malt-flour, cereal, flour, cereal-flour, barley, barley-flour, e375, iron, minerals, thiamin-mononitrate, thiamin, e101, folic-acid, folate, water, non-hydrogenated-palm-oil, oil-and-fat, vegetable-oil-and-fat, palm-oil-and-fat, palm-oil, sugar, added-sugar, disaccharide, salt, e300, e160ai, e160a, filling, corn-syrup, modified, wheat-flour, wheat, apple, fruit, malaceous-fruit   \n",
       "46                                                                                                                                                                                                                                                                                                                                                                                                                                                                                                                                          sugar, added-sugar, disaccharide, cocoa-paste, plant, cocoa, cocoa-butter, whole-milk-powder, dairy, milk-powder, palm-oil, oil-and-fat, vegetable-oil-and-fat, palm-oil-and-fat, glucose-fructose-syrup, monosaccharide, fructose, glucose, butterfat, fat, milkfat, marzipan, dextrose, nut, tree-nut, hazelnut, fat-reduced-cocoa-powder, cocoa-powder, emulsifier, glucose-syrup, almond, flavouring, skimmed-milk-powder, coffee, water, salt, humectant, e420, e322, e422   \n",
       "47                                                                                                                                                                                                                                                                                                                                                                                                                                                                                                                                                                                                                                                                                                                                                                                                                                                                                                                                                                                                                     None   \n",
       "48  demerara-sugar, added-sugar, disaccharide, sugar, cane-sugar, unrefined-sugar, unrefined-cane-sugar, sultana, fruit, berries, grape, raisin, bread-rusk, salt, yeast, cider, alcohol, currants, sherry, wine, liqueur-wine, palm-oil, oil-and-fat, vegetable-oil-and-fat, palm-oil-and-fat, cognac, glace-cherry, prunus-species-fruit, cherry, single-cream, dairy, cream, walnut, nut, tree-nut, almond, fortified-wheat-flour, cereal, flour, wheat, cereal-flour, wheat-flour, e170i, e170, iron, minerals, e375, thramin, brandy, rum, golden-syrup, monosaccharide, invert-sugar, sugar-syrup, invert-sugar-syrup, citrus-fruit, barley-malt-extract, malt, malted-barley, mixed-spices, condiment, spice, lemon-oil, lemon, orange-essential-oil, essential-oil, thiamin, glucose-fructose-syrup, fructose, glucose, colour, acidity-regulator, milk, glucose-syrup, orange-zest, orange, lemon-peel, coriander, herb, cinnamon, clove, fennel, vegetable, stalk-vegetable, ginger, nutmeg, cardamom, e163, e330   \n",
       "49  demerara-sugar, added-sugar, disaccharide, sugar, cane-sugar, unrefined-sugar, unrefined-cane-sugar, sultana, fruit, berries, grape, raisin, bread-rusk, salt, yeast, cider, alcohol, currants, sherry, wine, liqueur-wine, palm-oil, oil-and-fat, vegetable-oil-and-fat, palm-oil-and-fat, cognac, glace-cherry, prunus-species-fruit, cherry, single-cream, dairy, cream, walnut, nut, tree-nut, almond, fortified-wheat-flour, cereal, flour, wheat, cereal-flour, wheat-flour, e170i, e170, iron, minerals, e375, thramin, brandy, rum, golden-syrup, monosaccharide, invert-sugar, sugar-syrup, invert-sugar-syrup, citrus-fruit, barley-malt-extract, malt, malted-barley, mixed-spices, condiment, spice, lemon-oil, lemon, orange-essential-oil, essential-oil, thiamin, glucose-fructose-syrup, fructose, glucose, colour, acidity-regulator, milk, glucose-syrup, orange-zest, orange, lemon-peel, coriander, herb, cinnamon, clove, fennel, vegetable, stalk-vegetable, ginger, nutmeg, cardamom, e163, e330   \n",
       "50                                                                                                                                                                                                                                                                                                                                                                                                                                                                                                                                                                                                                                                                                                                                                                                                                                                                                                                                                                         sweetener, glazing-agent, flavouring, e420, e951   \n",
       "51                                                                                                                                                                                                                                                                                                                                                                                                                                                                                                                                                                                                                                                                                                                                                                                                                                                                                                                                                                                                                     None   \n",
       "52                                                                                                                                                                                                                                                                                                                                                                                                                                                                                                                                                                                                                                   sugar, added-sugar, disaccharide, peanut, nut, cocoa-paste, plant, cocoa, skimmed-milk-powder, dairy, milk-powder, lactose-and-milk-proteins, protein, animal-protein, milk-proteins, lactose, vegetable-fat, oil-and-fat, vegetable-oil-and-fat, cocoa-butter, butterfat, fat, milkfat, starch, glucose-syrup, monosaccharide, glucose, e414, colour, flavouring, salt, vegetable-oil   \n",
       "53                                                                                                                                                                                                                                                                                                                                                                                                                                                                                                                                                                                                                                                                                                                                                                                                                                                                                              carbonated-water, water, sugar, added-sugar, disaccharide, colour, acid, flavouring, e150d, e338, caffeine, natural-extract   \n",
       "54                                                                                                                                                                                                                                                                                                                                                                                                                                                                                                                                                                                                                                                                                                                                                                                  alcohol-vinegar, vinegar, water, grape-seed-oil, oil-and-fat, vegetable-oil-and-fat, vegetable-oil, sugar, added-sugar, disaccharide, corn-flour, cereal, flour, corn, mustard, pasteurised-egg-yolk, egg, egg-yolk, salt, colour, e101   \n",
       "55                                                                                                                                                                                                                                                                                                                                                                                                                                                                                                                                                                                                                                                                                                                                                                                                                                                                                                                                                                                                                     None   \n",
       "56                                                                                                                                                                                                                                                                                                                                                                                                                                                                                                                                                                                                                                                                                                                                                                                                                                                                                               sugar, added-sugar, disaccharide, acid, natural-flavouring, flavouring, colour, e338, vegetable-extract, extract, caffeine   \n",
       "57                                                                                                                                                                                                                                                                                                                                                                                                                                                                                                                                                                                                                                                                                                                                                                                                                                                                                                                                                                                   salmon-fillet, fish, oily-fish, salmon   \n",
       "58                                                                                                                                                                                                                                                                                                                                                                                                                                                                                                                                                                                                                                                                                                 potato, vegetable, root-vegetable, tuber, potato-starch, starch, palm-oil, oil-and-fat, vegetable-oil-and-fat, palm-oil-and-fat, egg, spice, condiment, rice-flour, flour, rice, salt, wheat-flour, cereal, wheat, cereal-flour, dextrose, added-sugar, monosaccharide, glucose, onion, onion-family-vegetable, turmeric   \n",
       "59                                                                                                                                                                                                                                                                                                                                                                                                                                                                                                                                                                                                                               chicken-fillet, poultry, chicken, chicken-meat, corn, cereal, water, colza-oil, oil-and-fat, vegetable-oil-and-fat, rapeseed-oil, modified-wheat-starch, starch, modified-starch, wheat-starch, salt, wheat-flour, flour, wheat, cereal-flour, sugar, added-sugar, disaccharide, dextrose, monosaccharide, glucose, barley-malt-extract, malt, malted-barley, pepper-extract, seed, pepper   \n",
       "\n",
       "                                                                                                                                                                                                                                                                      categories  \\\n",
       "0                                                                                                                                                                                                     snacks, sweet-snacks, confectioneries, chewing-gum, sugar-free-chewing-gum   \n",
       "1                                                                                                                                                                                                                                        condiments, sauces, mustards, groceries   \n",
       "2                                                         plant-based-foods-and-beverages, plant-based-foods, fruits-and-vegetables-based-foods, vegetables-based-foods, meals, vegetables, prepared-vegetables, carrots, carrot-salads, grated-carrots, seasoned-grated-carrots   \n",
       "3                                                                                                                                                                                                                                                 sweet-pies, pies, coconut-pies   \n",
       "4                                                                                                                                   plant-based-foods-and-beverages, plant-based-foods, fruits-and-vegetables-based-foods, desserts, fruits-based-foods, compotes, pear-compotes   \n",
       "5                                                                                                                         plant-based-foods-and-beverages, plant-based-foods, snacks, salty-snacks, appetizers, meals, prepared-vegetables, cold-starters, vegetables-macedoines   \n",
       "6                                                                                                                                                                                          dairies, fermented-foods, fermented-milk-products, cheeses, french-cheeses, abondance   \n",
       "7                                                                                                                                                                                    plant-based-foods-and-beverages, plant-based-foods, cereals-and-potatoes, breads, baguettes   \n",
       "8                                                                                                                                                                seafood, fishes-and-their-products, fishes, fatty-fishes, salmons, smoked-fishes, smoked-salmons, salmon-steaks   \n",
       "9                                                                                                                                                                  canned-foods, meats-and-their-products, meals, meats, meals-with-meat, beef-dishes, canned-meats, corned-beef   \n",
       "10                                                                                                                                                                                                                                                           dietary-supplements   \n",
       "11                                                                     plant-based-foods-and-beverages, plant-based-foods, fruits-and-vegetables-based-foods, legumes-and-their-products, legumes, seeds, vegetables-based-foods, legume-seeds, vegetables, pulses, butter-beans   \n",
       "12                                                                                                                                                           snacks, sweet-snacks, cocoa-and-its-products, confectioneries, bars, chocolate-candies, bars-covered-with-chocolate   \n",
       "13                                                                                                                                       plant-based-foods-and-beverages, plant-based-foods, fruits-and-vegetables-based-foods, fruits-based-foods, fruits, berries, cranberries   \n",
       "14                                                                                                                                                                               meats-and-their-products, meals, meals-with-meat, poultry-meals, microwave-meals, turkey-dishes   \n",
       "15                                                                                                                                                                                                                                                        meals, microwave-meals   \n",
       "16                                                                                                                                    plant-based-foods-and-beverages, plant-based-foods, fruits-and-vegetables-based-foods, vegetables-based-foods, vegetables, leaf-vegetables   \n",
       "17                                                                                                                                                                                                                            snacks, sweet-snacks, biscuits-and-cakes, pastries   \n",
       "18                                                                                                                                                                                              plant-based-foods-and-beverages, plant-based-foods, cereals-and-potatoes, breads   \n",
       "19                                                                                                                                                                   snacks, sweet-snacks, biscuits-and-cakes, sweet-pastries-and-pies, viennoiseries, pastries, apple-turnovers   \n",
       "20                                                                                                               plant-based-foods-and-beverages, beverages, plant-based-beverages, fruit-based-beverages, juices-and-nectars, fruit-juices, unsweetened-beverages, apple-juices   \n",
       "21                                                       plant-based-foods-and-beverages, plant-based-foods, cereals-and-potatoes, specific-products, products-for-specific-diets, breads, products-without-gluten, gluten-free-breads, sliced-breads, gluten-free-sliced-breads   \n",
       "22                                                                                                            plant-based-foods-and-beverages, plant-based-foods, legumes-and-their-products, cereals-and-potatoes, legumes, seeds, legume-seeds, pulses, lentils, green-lentils   \n",
       "23                                                                                                                                                            beverages, carbonated-drinks, sodas, non-alcoholic-beverages, non-alcoholic-beers, root-beers, sweetened-beverages   \n",
       "24                                                                                                                                                                                                        snacks, sweet-snacks, biscuits-and-cakes, biscuits, shortbread-cookies   \n",
       "25                                                                                                                                                                                                                                                                     beverages   \n",
       "26                                                                                                                                                                                                                      meals, pizzas-pies-and-quiches, quiches, lorraine-quiche   \n",
       "27                                                                                                                                                              meats-and-their-products, meats, chicken-and-its-products, poultries, chickens, cooked-poultries, cooked-chicken   \n",
       "28                                                                                plant-based-foods-and-beverages, plant-based-foods, fruits-and-vegetables-based-foods, desserts, fruits-based-foods, dried-products, dried-products-to-be-rehydrated, compotes, apple-compotes   \n",
       "29                                                                                                                                                                                                                                snacks, sweet-snacks, confectioneries, candies   \n",
       "30                                                                                                                                                                                                                                                                     beverages   \n",
       "31                                                                                 plant-based-foods-and-beverages, beverages, plant-based-foods, hot-beverages, plant-based-beverages, teas, herbal-teas, black-teas, flavored-teas, unsweetened-beverages, flavored-black-teas   \n",
       "32                                                                                                                                                                                                                                                                        syrups   \n",
       "33                                                                                                                                                                                                                 snacks, sweet-snacks, confectioneries, marzipan, almond-paste   \n",
       "34                                                                                                                                                                                                                                                food-additives, food-colorings   \n",
       "35                                                                                                                                                                                                                                                food-additives, food-colorings   \n",
       "36                                                                                                                                                                                              snacks, sweet-snacks, confectioneries, cooking-helpers, pastry-helpers, fondants   \n",
       "37                                                                                                                                                                                                                                     cooking-helpers, pastry-helpers, fondants   \n",
       "38                                                                                                                                                                                                                                                            sweeteners, sugars   \n",
       "39                                                                                                                                                                                                                            snacks, sweet-snacks, biscuits-and-cakes, pastries   \n",
       "40                                                                                                                                                                                                                                                                  chicken-feet   \n",
       "41                                                                                                                                                                                                       meats-and-their-products, meals, meals-with-meat, sheep-dishes, tripoux   \n",
       "42                                                                                                                                                                                                           beverages, alcoholic-beverages, wines, wines-from-france, red-wines   \n",
       "43                                                                                                                                                                plant-based-foods-and-beverages, plant-based-foods, cereals-and-potatoes, breads, special-breads, bagel-breads   \n",
       "44                                                                                                                                                                                                                      snacks, sweet-snacks, biscuits-and-cakes, cakes, muffins   \n",
       "45                                                                                                                                                                                                 snacks, sweet-snacks, sweet-pastries-and-pies, viennoiseries, apple-turnovers   \n",
       "46                                                                                                                                                                                     snacks, sweet-snacks, cocoa-and-its-products, confectioneries, chocolate-candies, bonbons   \n",
       "47                                                                                                                                                                plant-based-foods-and-beverages, plant-based-foods, cereals-and-potatoes, breads, special-breads, bagel-breads   \n",
       "48                                                                                                                                                                                                                                        desserts, puddings, christmas-puddings   \n",
       "49                                                                                                                                                                                       snacks, desserts, sweet-snacks, biscuits-and-cakes, cakes, puddings, christmas-puddings   \n",
       "50                                                                                                                                                                                                                                snacks, sweet-snacks, confectioneries, candies   \n",
       "51                                                                                                                                                                   plant-based-foods-and-beverages, plant-based-foods, meals, prepared-vegetables, celeriac-in-remoulade-sauce   \n",
       "52                                                                                                                                  snacks, sweet-snacks, cocoa-and-its-products, confectioneries, chocolate-candies, bonbons, chocolate-covered-nuts, chocolate-covered-peanuts   \n",
       "53                                                                                                                                                                                                               beverages, carbonated-drinks, sodas, colas, sweetened-beverages   \n",
       "54                                                                                                                                                                                                                                                 condiments, sauces, groceries   \n",
       "55                                                                                                                                                                                                                                  condiments, sauces, burger-sauces, groceries   \n",
       "56                                                                                                                                                                                                                                                beverages, sweetened-beverages   \n",
       "57                                                                                                                                                                                              seafood, fishes-and-their-products, fishes, fatty-fishes, salmons, salmon-steaks   \n",
       "58                                                                                                      plant-based-foods-and-beverages, plant-based-foods, cereals-and-potatoes, frozen-foods, meals, prepared-vegetables, potato-preparations, frozen-ready-made-meals, rostis   \n",
       "59  meats-and-their-products, frozen-foods, meals, meat-preparations, meats, chicken-and-its-products, poultries, chicken-preparations, breaded-products, chickens, cooked-poultries, cooked-chicken, frozen-ready-made-meals, poultry-nuggets, breaded-chicken, chicken-nuggets   \n",
       "\n",
       "    labels_note  \n",
       "0             0  \n",
       "1             0  \n",
       "2             0  \n",
       "3             0  \n",
       "4             0  \n",
       "5             0  \n",
       "6             0  \n",
       "7             0  \n",
       "8             0  \n",
       "9             0  \n",
       "10            1  \n",
       "11            1  \n",
       "12            0  \n",
       "13            0  \n",
       "14            2  \n",
       "15            0  \n",
       "16            0  \n",
       "17            0  \n",
       "18            0  \n",
       "19            0  \n",
       "20            0  \n",
       "21            0  \n",
       "22            3  \n",
       "23            2  \n",
       "24            1  \n",
       "25            0  \n",
       "26            0  \n",
       "27            0  \n",
       "28            1  \n",
       "29            2  \n",
       "30            0  \n",
       "31            0  \n",
       "32            0  \n",
       "33            0  \n",
       "34            0  \n",
       "35            0  \n",
       "36            1  \n",
       "37            0  \n",
       "38            0  \n",
       "39            0  \n",
       "40            1  \n",
       "41            0  \n",
       "42            5  \n",
       "43            0  \n",
       "44            0  \n",
       "45            0  \n",
       "46            3  \n",
       "47            0  \n",
       "48            0  \n",
       "49            0  \n",
       "50            6  \n",
       "51            0  \n",
       "52            1  \n",
       "53            0  \n",
       "54            4  \n",
       "55            0  \n",
       "56            0  \n",
       "57            0  \n",
       "58            0  \n",
       "59            0  "
      ]
     },
     "execution_count": 60,
     "metadata": {},
     "output_type": "execute_result"
    }
   ],
   "source": [
    "df_check.head(60)"
   ]
  },
  {
   "cell_type": "code",
   "execution_count": null,
   "metadata": {},
   "outputs": [],
   "source": []
  }
 ],
 "metadata": {
  "kernelspec": {
   "display_name": "greenIa",
   "language": "python",
   "name": "python3"
  },
  "language_info": {
   "codemirror_mode": {
    "name": "ipython",
    "version": 3
   },
   "file_extension": ".py",
   "mimetype": "text/x-python",
   "name": "python",
   "nbconvert_exporter": "python",
   "pygments_lexer": "ipython3",
   "version": "3.10.14"
  }
 },
 "nbformat": 4,
 "nbformat_minor": 2
}
