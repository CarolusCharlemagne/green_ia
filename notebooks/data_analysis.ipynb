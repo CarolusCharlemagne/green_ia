{
 "cells": [
  {
   "cell_type": "code",
   "execution_count": null,
   "metadata": {},
   "outputs": [],
   "source": [
    "import pandas as pd\n",
    "import numpy as np\n",
    "import json\n",
    "import os\n",
    "import warnings\n",
    "from datetime import datetime \n",
    "from collections import OrderedDict\n",
    "from collections import Counter\n",
    "import plotly.express as px\n",
    "from collections import defaultdict\n",
    "import plotly.graph_objects as go\n",
    "\n",
    "\n",
    "pd.set_option('display.max_rows', 100)\n",
    "pd.set_option('display.max_colwidth', None)\n",
    "\n",
    "warnings.filterwarnings(\"ignore\", category=pd.errors.DtypeWarning)"
   ]
  },
  {
   "cell_type": "code",
   "execution_count": null,
   "metadata": {},
   "outputs": [],
   "source": [
    "chunk_size = 1000\n",
    "file_id = '02'\n",
    "project_path = \"/home/carolus/Documents/school/green_ia/\" \n",
    "jsonl_02 = project_path + 'data/' + file_id + '_openfoodfacts_02.jsonl' \n",
    "jsonl_sample = project_path + 'data/' + file_id + \"_openfoodfacts_sample.jsonl\"\n",
    "# récupérer la date du jour \n",
    "current_date_time = datetime.now()\n",
    "date_format = \"%d/%m/%Y %H:%M:%S.%f\"\n",
    "start_date = current_date_time.strftime(\"%d/%m/%Y %H:%M:%S.%f\")[:-3]\n",
    "date_code = current_date_time.strftime('%d%m%Y%H%M%S') + f\"{current_date_time.microsecond // 1000:03d}\""
   ]
  },
  {
   "cell_type": "code",
   "execution_count": null,
   "metadata": {},
   "outputs": [],
   "source": [
    "def add_logs(logData):\n",
    "    print(logData)\n",
    "    #with open(f\"{project_path}logs/03_analysis_{date_code}_logs.txt\", \"a\") as logFile:\n",
    "     #   logFile.write(f'{logData}\\n')"
   ]
  },
  {
   "cell_type": "code",
   "execution_count": 24,
   "metadata": {},
   "outputs": [
    {
     "name": "stdout",
     "output_type": "stream",
     "text": [
      "jsonl format valid: /home/carolus/Documents/school/green_ia/data/02_openfoodfacts_02.jsonl\n"
     ]
    }
   ],
   "source": [
    "# verifie la validité de la structure du fichier jsonl\n",
    "with open(jsonl_02, 'r') as file:\n",
    "    for line in file:\n",
    "        try:\n",
    "            json_object = json.loads(line)\n",
    "        except json.JSONDecodeError as e:\n",
    "            add_logs(f\"ERROR decoding jsonl: {e}\")\n",
    "\n",
    "add_logs(f\"jsonl format valid: {jsonl_02}\")"
   ]
  },
  {
   "cell_type": "markdown",
   "metadata": {},
   "source": [
    "# COUNTRIES:"
   ]
  },
  {
   "cell_type": "code",
   "execution_count": 25,
   "metadata": {},
   "outputs": [
    {
     "name": "stdout",
     "output_type": "stream",
     "text": [
      "none: 10.59%\n",
      "france: 30.22%\n",
      "united states: 18.76%\n",
      "world: 1.59%\n",
      "bolivia: 0.02%\n",
      "mexico: 0.10%\n",
      "new zealand: 0.02%\n",
      "belgium: 2.22%\n",
      "danemark: 0.00%\n",
      "norway: 0.07%\n",
      "poland: 0.16%\n",
      "austria: 0.02%\n",
      "hungary: 0.02%\n",
      "czech republic: 0.03%\n",
      "thailand: 0.03%\n",
      "egypt: 0.01%\n",
      "japan: 0.18%\n",
      "croatia: 0.00%\n",
      "europe: 0.01%\n",
      "luxembourg: 0.00%\n",
      "argentina: 0.01%\n",
      "morocco: 0.02%\n",
      "spain: 8.81%\n",
      "costa rica: 0.00%\n",
      "moldavia: 0.00%\n",
      "sweden: 0.10%\n",
      "russia: 0.25%\n",
      "netherlands: 0.37%\n",
      "finland: 0.04%\n",
      "united kingdom: 3.17%\n",
      "saudi arabia: 0.04%\n",
      "lebanon: 0.00%\n",
      "philippines: 0.04%\n",
      "malaysia: 0.02%\n",
      "guyana: 0.00%\n",
      ": 0.09%\n",
      "barbados: 0.00%\n",
      "french polynesia: 0.00%\n",
      "brazil: 0.34%\n",
      "haiti: 0.00%\n",
      "salvador: 0.00%\n",
      "bahrain: 0.00%\n",
      "guatemala: 0.00%\n",
      "colombia: 0.00%\n",
      "oman: 0.00%\n",
      "dominican republic: 0.00%\n",
      "greece: 0.01%\n",
      "kuwait: 0.00%\n",
      "hong kong: 0.00%\n",
      "puerto rico: 0.00%\n",
      "united arab emirates: 0.01%\n",
      "ireland: 1.55%\n",
      "singapore: 0.04%\n",
      "panama: 0.01%\n",
      "germany: 7.67%\n",
      "italy: 6.78%\n",
      "angola: 0.00%\n",
      "canada: 2.42%\n",
      "taiwan: 0.00%\n",
      "burkina faso: 0.00%\n",
      "vietnam: 0.00%\n",
      "israel: 0.00%\n",
      "china: 0.01%\n",
      "bulgaria: 0.04%\n",
      "ascension island: 0.00%\n",
      "ivory coast: 0.00%\n",
      "uruguay: 0.00%\n",
      "algeria: 0.01%\n",
      "saint pierre and miquelon: 0.00%\n",
      "mauritius: 0.00%\n",
      "indonesia: 0.04%\n",
      "armenia: 0.00%\n",
      "india: 0.08%\n",
      "australia: 1.15%\n",
      "switzerland: 2.38%\n",
      "south korea: 0.00%\n",
      "south africa: 0.02%\n",
      "ecuador: 0.00%\n",
      "chile: 0.00%\n",
      "peru: 0.00%\n",
      "honduras: 0.00%\n",
      "nicaragua: 0.00%\n",
      "cambodia: 0.00%\n",
      "romania: 0.06%\n",
      "portugal: 0.06%\n",
      "jamaica: 0.00%\n",
      "denmark: 0.06%\n",
      "jordan: 0.00%\n",
      "serbia: 0.01%\n",
      "iraq: 0.00%\n",
      "togo: 0.00%\n",
      "qatar: 0.02%\n",
      "reunion: 0.01%\n",
      "french guiana: 0.00%\n",
      "somalia: 0.00%\n",
      "pakistan: 0.00%\n",
      "monaco: 0.00%\n",
      "cyprus: 0.01%\n",
      "paraguay: 0.01%\n",
      "senegal: 0.00%\n",
      "suriname: 0.00%\n",
      "slovakia: 0.01%\n",
      "dominica: 0.00%\n",
      "latvia: 0.00%\n",
      "lithuania: 0.05%\n",
      "ussr: 0.00%\n",
      "estonia: 0.00%\n",
      "slovenia: 0.00%\n",
      "france  switzerland  germany: 0.00%\n",
      "albania: 0.00%\n",
      "nigeria: 0.00%\n",
      "bosnia and herzegovina: 0.00%\n",
      "iran: 0.00%\n",
      "afghanistan: 0.00%\n",
      "tunisia: 0.01%\n",
      "mali: 0.00%\n",
      "martinique: 0.00%\n",
      "democratic republic of the congo: 0.00%\n",
      "gabon: 0.00%\n",
      "saint martin: 0.00%\n",
      "belarus: 0.00%\n",
      "kazakhstan: 0.00%\n",
      "republic of the congo: 0.00%\n",
      "andorra: 0.00%\n",
      "ukraine: 0.00%\n",
      "djibouti: 0.00%\n",
      "liechtenstein: 0.00%\n",
      "vanuatu: 0.00%\n",
      "cameroon: 0.00%\n",
      "mongolia: 0.00%\n",
      "england: 0.00%\n",
      "turkey: 0.00%\n",
      "mauritania: 0.00%\n",
      "georgia: 0.00%\n",
      "east germany: 0.00%\n",
      "moldova: 0.00%\n",
      "eswatini: 0.00%\n",
      "kosovo: 0.00%\n",
      "kyrgyzstan: 0.00%\n",
      "uzbekistan: 0.00%\n",
      "mozambique: 0.00%\n",
      "cape verde: 0.00%\n",
      "sudan: 0.00%\n",
      "montenegro: 0.00%\n",
      "libya: 0.00%\n",
      "iceland: 0.00%\n",
      "bahrein: 0.00%\n",
      "ghana: 0.00%\n",
      "malta: 0.00%\n",
      "benin: 0.00%\n",
      "niger: 0.00%\n",
      "botswana: 0.00%\n",
      "chad: 0.00%\n",
      "central african republic: 0.00%\n",
      "syria: 0.00%\n",
      "yemen: 0.00%\n",
      "el salvador: 0.00%\n",
      "sri lanka: 0.00%\n",
      "benelux: 0.00%\n",
      "ریاستہائے متحدہ امریکہ: 0.00%\n",
      "north macedonia: 0.00%\n",
      "venezuela: 0.00%\n",
      "aruba: 0.00%\n",
      "cuba: 0.00%\n",
      "north korea: 0.00%\n",
      "burundi: 0.00%\n",
      "maldives: 0.00%\n",
      "palestine: 0.00%\n",
      "myanmar: 0.00%\n",
      "timor-leste: 0.00%\n",
      "wallis and futuna: 0.00%\n",
      "azerbaijan: 0.00%\n",
      "anguilla: 0.00%\n",
      "montserrat: 0.00%\n",
      "nepal: 0.00%\n",
      "saint lucia: 0.00%\n",
      "rwanda: 0.00%\n",
      "namibia: 0.00%\n",
      "british indian ocean territory: 0.00%\n",
      "fra: 0.00%\n",
      "sn: 0.00%\n",
      "ประเทศอินเดีย: 0.00%\n",
      "ประเทศเวียดนาม: 0.00%\n",
      "нова каледония: 0.00%\n",
      "yugoslavia: 0.00%\n",
      "францыя: 0.00%\n",
      "trinidad and tobago: 0.00%\n",
      "macau: 0.00%\n",
      "middle east: 0.00%\n",
      "grenada: 0.00%\n",
      "brunei: 0.00%\n",
      "soviet union: 0.00%\n",
      "abkhazia: 0.00%\n",
      "republic of ireland: 0.00%\n",
      "saint: 0.00%\n",
      "unknown: 0.00%\n",
      "tajikistan: 0.00%\n",
      "bhutan: 0.00%\n",
      "madagascar: 0.00%\n",
      "christmas island: 0.00%\n",
      "?: 0.00%\n",
      "american samoa: 0.00%\n",
      "german democratic republic: 0.00%\n",
      "caribbean netherlands: 0.00%\n",
      "curaçao: 0.00%\n",
      "sint maarten: 0.00%\n",
      "السعودية: 0.00%\n",
      "bahamas: 0.00%\n",
      "الكويت: 0.00%\n",
      "saint vincent and the grenadines: 0.00%\n",
      "asia: 0.00%\n",
      "lesotho: 0.00%\n",
      "middle east and africa: 0.00%\n",
      "zambia: 0.00%\n",
      "latin america: 0.00%\n",
      "bermuda: 0.00%\n",
      "liberia: 0.00%\n",
      "congo: 0.00%\n",
      "america: 0.00%\n",
      "laos: 0.00%\n",
      "aland islands: 0.00%\n",
      "bangladesh: 0.00%\n",
      "san marino: 0.00%\n",
      "united states virgin islands: 0.00%\n",
      "isle of man: 0.00%\n",
      "spanish: 0.00%\n",
      "vatican city: 0.00%\n",
      "sierra leone: 0.00%\n",
      "سلطنة عمان: 0.00%\n",
      "belize: 0.00%\n",
      ":: 0.00%\n",
      "bonaire: 0.00%\n",
      "people's republic of china: 0.00%\n",
      "fiji: 0.00%\n",
      "iraqi kurdistan: 0.00%\n",
      "guam: 0.00%\n",
      "south sudan: 0.00%\n",
      "turks and caicos islands: 0.00%\n",
      "west africa: 0.00%\n",
      "central america: 0.00%\n",
      "ethiopia: 0.00%\n",
      "faroe islands: 0.00%\n",
      "cayman islands: 0.00%\n",
      "damam: 0.00%\n",
      "sicily: 0.00%\n"
     ]
    }
   ],
   "source": [
    "# retourne une liste des pays présents dans le fichier\n",
    "def extract_countries_from_jsonl(file_path):\n",
    "    countries = []\n",
    "    with open(file_path, 'r', encoding='utf-8') as file:\n",
    "        for line in file:\n",
    "            try:\n",
    "                record = json.loads(line)\n",
    "                country = record.get('countries')\n",
    "                if country is not None:\n",
    "                    countries.append(country)\n",
    "            except json.JSONDecodeError:\n",
    "                print(f\"WARNING line: {line} in {file_path}\")    \n",
    "    return countries\n",
    "countries_list = extract_countries_from_jsonl(jsonl_02)\n",
    "\n",
    "separated_countries = []\n",
    "for entry in countries_list:\n",
    "    countries = [country.strip() for country in entry.split(',')]\n",
    "    separated_countries.extend(countries)\n",
    "\n",
    "country_counts = Counter(separated_countries)\n",
    "total_countries = sum(country_counts.values())\n",
    "\n",
    "data_graph_countries = []\n",
    "for country, count in country_counts.items():\n",
    "    percentage = (count / total_countries) * 100\n",
    "    print(f\"{country}: {percentage:.2f}%\")\n",
    "    data_graph_countries.append({'countries': country, 'percentage': percentage})"
   ]
  },
  {
   "cell_type": "code",
   "execution_count": 26,
   "metadata": {},
   "outputs": [
    {
     "data": {
      "application/vnd.plotly.v1+json": {
       "config": {
        "plotlyServerURL": "https://plot.ly"
       },
       "data": [
        {
         "branchvalues": "total",
         "customdata": [
          [
           0.08744475817255176
          ],
          [
           0.000029442679519377697
          ],
          [
           0.0000883280385581331
          ],
          [
           0.000029442679519377697
          ],
          [
           0.003356465465209058
          ],
          [
           0.0001472133975968885
          ],
          [
           0.0017371180916432843
          ],
          [
           0.010187167113704685
          ],
          [
           0.000029442679519377697
          ],
          [
           0.00011777071807751079
          ],
          [
           0.0018843314892401726
          ],
          [
           0.0000883280385581331
          ],
          [
           0.000058885359038755394
          ],
          [
           0.014839110477766359
          ],
          [
           0.000794952347023198
          ],
          [
           0.0004121975132712878
          ],
          [
           0.000029442679519377697
          ],
          [
           0.000058885359038755394
          ],
          [
           1.1535641835692183
          ],
          [
           0.023230274140789004
          ],
          [
           0.0002060987566356439
          ],
          [
           0.0001472133975968885
          ],
          [
           0.000294426795193777
          ],
          [
           0.000029442679519377697
          ],
          [
           0.00011777071807751079
          ],
          [
           0.0002060987566356439
          ],
          [
           0.001678232732604529
          ],
          [
           2.2217740392117604
          ],
          [
           0.000029442679519377697
          ],
          [
           0.00026498411567439927
          ],
          [
           0.00023554143615502158
          ],
          [
           0.0001472133975968885
          ],
          [
           0.0001766560771162662
          ],
          [
           0.022788633947998342
          ],
          [
           0.000029442679519377697
          ],
          [
           0.0034742361832865686
          ],
          [
           0.0000883280385581331
          ],
          [
           0.34291888836219203
          ],
          [
           0.000029442679519377697
          ],
          [
           0.0001472133975968885
          ],
          [
           0.044105133920027795
          ],
          [
           0.000883280385581331
          ],
          [
           0.000029442679519377697
          ],
          [
           0.00047108287231004315
          ],
          [
           0.000500525551829421
          ],
          [
           2.4228675403291104
          ],
          [
           0.000058885359038755394
          ],
          [
           0.0000883280385581331
          ],
          [
           0.000029442679519377697
          ],
          [
           0.0000883280385581331
          ],
          [
           0.000029442679519377697
          ],
          [
           0.00011777071807751079
          ],
          [
           0.004593058005022921
          ],
          [
           0.006035749301472429
          ],
          [
           0.000029442679519377697
          ],
          [
           0.0017371180916432843
          ],
          [
           0.000029442679519377697
          ],
          [
           0.0017371180916432843
          ],
          [
           0.00474027140261981
          ],
          [
           0.0006477389494263094
          ],
          [
           0.000294426795193777
          ],
          [
           0.006948472366573137
          ],
          [
           0.027705561427734417
          ],
          [
           0.000029442679519377697
          ],
          [
           0.002119872925395194
          ],
          [
           0.0004121975132712878
          ],
          [
           0.05573499233018198
          ],
          [
           0.0001472133975968885
          ],
          [
           0.0002060987566356439
          ],
          [
           0.001059936462697597
          ],
          [
           0.0001472133975968885
          ],
          [
           0.000883280385581331
          ],
          [
           0.006330176096666205
          ],
          [
           0.0001472133975968885
          ],
          [
           0.0027970545543408816
          ],
          [
           0.002473185079627727
          ],
          [
           0.0001766560771162662
          ],
          [
           0.000029442679519377697
          ],
          [
           0.006153520019549938
          ],
          [
           0.000029442679519377697
          ],
          [
           0.000058885359038755394
          ],
          [
           0.04192637563559384
          ],
          [
           0.000029442679519377697
          ],
          [
           30.221644491421873
          ],
          [
           0.000058885359038755394
          ],
          [
           0.0037097776194415896
          ],
          [
           0.0035920069013640793
          ],
          [
           0.000500525551829421
          ],
          [
           0.0030620386700152807
          ],
          [
           0.000029442679519377697
          ],
          [
           7.6733216936606965
          ],
          [
           0.00047108287231004315
          ],
          [
           0.008508934381100156
          ],
          [
           0.000029442679519377697
          ],
          [
           0.00011777071807751079
          ],
          [
           0.0014426912964495072
          ],
          [
           0.0001472133975968885
          ],
          [
           0.0006182962699069317
          ],
          [
           0.0016193473735657733
          ],
          [
           0.004386959248387277
          ],
          [
           0.018637216135766084
          ],
          [
           0.0006771816289456871
          ],
          [
           0.08149733690963748
          ],
          [
           0.037657187105284075
          ],
          [
           0.0003827548337519101
          ],
          [
           0.0008538377060619532
          ],
          [
           0.0000883280385581331
          ],
          [
           1.550392618131391
          ],
          [
           0.000029442679519377697
          ],
          [
           0.0005299682313487985
          ],
          [
           6.778646991105367
          ],
          [
           0.004121975132712878
          ],
          [
           0.000500525551829421
          ],
          [
           0.17992421454291715
          ],
          [
           0.0004121975132712878
          ],
          [
           0.0008243950265425755
          ],
          [
           0.0003533121542325324
          ],
          [
           0.0006771816289456871
          ],
          [
           0.0003238694747131547
          ],
          [
           0.000029442679519377697
          ],
          [
           0.000029442679519377697
          ],
          [
           0.002443742400108349
          ],
          [
           0.0010893791422169749
          ],
          [
           0.000029442679519377697
          ],
          [
           0.000058885359038755394
          ],
          [
           0.0003238694747131547
          ],
          [
           0.0003533121542325324
          ],
          [
           0.04881596264312823
          ],
          [
           0.0035920069013640793
          ],
          [
           0.0001472133975968885
          ],
          [
           0.0002060987566356439
          ],
          [
           0.015928489619983336
          ],
          [
           0.0000883280385581331
          ],
          [
           0.000500525551829421
          ],
          [
           0.0007066243084650648
          ],
          [
           0.0007655096675038202
          ],
          [
           0.00026498411567439927
          ],
          [
           0.0008243950265425755
          ],
          [
           0.09754359724769832
          ],
          [
           0.000058885359038755394
          ],
          [
           0.000029442679519377697
          ],
          [
           0.00011777071807751079
          ],
          [
           0.0017960034506820397
          ],
          [
           0.001059936462697597
          ],
          [
           0.00026498411567439927
          ],
          [
           0.002267086322992083
          ],
          [
           0.000029442679519377697
          ],
          [
           0.019785480637021815
          ],
          [
           0.0003533121542325324
          ],
          [
           0.0001766560771162662
          ],
          [
           0.0000883280385581331
          ],
          [
           0.0002060987566356439
          ],
          [
           0.37124274605983343
          ],
          [
           0.01828390398153355
          ],
          [
           0.001943216848278928
          ],
          [
           0.0001766560771162662
          ],
          [
           0.0002060987566356439
          ],
          [
           10.588294179476685
          ],
          [
           0.000058885359038755394
          ],
          [
           0.001177707180775108
          ],
          [
           0.06553940461013476
          ],
          [
           0.000294426795193777
          ],
          [
           0.00047108287231004315
          ],
          [
           0.00256151311818586
          ],
          [
           0.006595160212340604
          ],
          [
           0.008597262419658289
          ],
          [
           0.000029442679519377697
          ],
          [
           0.001472133975968885
          ],
          [
           0.03530177274373386
          ],
          [
           0.16493789066755388
          ],
          [
           0.06492110834022782
          ],
          [
           0.0008243950265425755
          ],
          [
           0.018725544174324215
          ],
          [
           0.000058885359038755394
          ],
          [
           0.000294426795193777
          ],
          [
           0.009686641561875263
          ],
          [
           0.05929755655202668
          ],
          [
           0.25199989400635375
          ],
          [
           0.00011777071807751079
          ],
          [
           0.000058885359038755394
          ],
          [
           0.00011777071807751079
          ],
          [
           0.0003827548337519101
          ],
          [
           0.0006182962699069317
          ],
          [
           0.000029442679519377697
          ],
          [
           0.003856991017038479
          ],
          [
           0.0001472133975968885
          ],
          [
           0.04289798405973331
          ],
          [
           0.0018254461302014175
          ],
          [
           0.012071498602944857
          ],
          [
           0.000029442679519377697
          ],
          [
           0.000029442679519377697
          ],
          [
           0.042809656021175174
          ],
          [
           0.0000883280385581331
          ],
          [
           0.00588853590387554
          ],
          [
           0.0038275483375191013
          ],
          [
           0.000058885359038755394
          ],
          [
           0.0001766560771162662
          ],
          [
           0.020609875663564387
          ],
          [
           0.00047108287231004315
          ],
          [
           0.000029442679519377697
          ],
          [
           0.000029442679519377697
          ],
          [
           8.813577786087157
          ],
          [
           0.000029442679519377697
          ],
          [
           0.0003533121542325324
          ],
          [
           0.000029442679519377697
          ],
          [
           0.0003238694747131547
          ],
          [
           0.09989901160924854
          ],
          [
           2.3837676619273767
          ],
          [
           0.00026498411567439927
          ],
          [
           0.0008243950265425755
          ],
          [
           0.00011777071807751079
          ],
          [
           0.026704510324075573
          ],
          [
           0.000029442679519377697
          ],
          [
           0.0003827548337519101
          ],
          [
           0.0006477389494263094
          ],
          [
           0.009245001369084599
          ],
          [
           0.004121975132712878
          ],
          [
           0.000029442679519377697
          ],
          [
           0.000971608424139464
          ],
          [
           0.005947421262914294
          ],
          [
           3.1710943549550556
          ],
          [
           18.75519295260023
          ],
          [
           0.000029442679519377697
          ],
          [
           0.0010304937831782195
          ],
          [
           0.004210303171271011
          ],
          [
           0.000058885359038755394
          ],
          [
           0.0003238694747131547
          ],
          [
           0.0000883280385581331
          ],
          [
           0.000029442679519377697
          ],
          [
           0.002031544886837061
          ],
          [
           0.0007066243084650648
          ],
          [
           0.0000883280385581331
          ],
          [
           0.000029442679519377697
          ],
          [
           1.5894630538536052
          ],
          [
           0.00023554143615502158
          ],
          [
           0.000058885359038755394
          ],
          [
           0.000058885359038755394
          ],
          [
           0.000029442679519377697
          ],
          [
           0.00047108287231004315
          ],
          [
           0.0005299682313487985
          ],
          [
           0.00026498411567439927
          ],
          [
           0.000029442679519377697
          ],
          [
           0.000029442679519377697
          ],
          [
           0.000029442679519377697
          ],
          [
           0.00011777071807751079
          ]
         ],
         "domain": {
          "x": [
           0,
           1
          ],
          "y": [
           0,
           1
          ]
         },
         "hovertemplate": "labels=%{label}<br>percentage_sum=%{value}<br>parent=%{parent}<br>id=%{id}<br>percentage=%{color}<extra></extra>",
         "ids": [
          "",
          ":",
          "?",
          "abkhazia",
          "afghanistan",
          "aland islands",
          "albania",
          "algeria",
          "america",
          "american samoa",
          "andorra",
          "angola",
          "anguilla",
          "argentina",
          "armenia",
          "aruba",
          "ascension island",
          "asia",
          "australia",
          "austria",
          "azerbaijan",
          "bahamas",
          "bahrain",
          "bahrein",
          "bangladesh",
          "barbados",
          "belarus",
          "belgium",
          "belize",
          "benelux",
          "benin",
          "bermuda",
          "bhutan",
          "bolivia",
          "bonaire",
          "bosnia and herzegovina",
          "botswana",
          "brazil",
          "british indian ocean territory",
          "brunei",
          "bulgaria",
          "burkina faso",
          "burundi",
          "cambodia",
          "cameroon",
          "canada",
          "cape verde",
          "caribbean netherlands",
          "cayman islands",
          "central african republic",
          "central america",
          "chad",
          "chile",
          "china",
          "christmas island",
          "colombia",
          "congo",
          "costa rica",
          "croatia",
          "cuba",
          "curaçao",
          "cyprus",
          "czech republic",
          "damam",
          "danemark",
          "democratic republic of the congo",
          "denmark",
          "djibouti",
          "dominica",
          "dominican republic",
          "east germany",
          "ecuador",
          "egypt",
          "el salvador",
          "england",
          "estonia",
          "eswatini",
          "ethiopia",
          "europe",
          "faroe islands",
          "fiji",
          "finland",
          "fra",
          "france",
          "france  switzerland  germany",
          "french guiana",
          "french polynesia",
          "gabon",
          "georgia",
          "german democratic republic",
          "germany",
          "ghana",
          "greece",
          "grenada",
          "guam",
          "guatemala",
          "guyana",
          "haiti",
          "honduras",
          "hong kong",
          "hungary",
          "iceland",
          "india",
          "indonesia",
          "iran",
          "iraq",
          "iraqi kurdistan",
          "ireland",
          "isle of man",
          "israel",
          "italy",
          "ivory coast",
          "jamaica",
          "japan",
          "jordan",
          "kazakhstan",
          "kosovo",
          "kuwait",
          "kyrgyzstan",
          "laos",
          "latin america",
          "latvia",
          "lebanon",
          "lesotho",
          "liberia",
          "libya",
          "liechtenstein",
          "lithuania",
          "luxembourg",
          "macau",
          "madagascar",
          "malaysia",
          "maldives",
          "mali",
          "malta",
          "martinique",
          "mauritania",
          "mauritius",
          "mexico",
          "middle east",
          "middle east and africa",
          "moldavia",
          "moldova",
          "monaco",
          "mongolia",
          "montenegro",
          "montserrat",
          "morocco",
          "mozambique",
          "myanmar",
          "namibia",
          "nepal",
          "netherlands",
          "new zealand",
          "nicaragua",
          "niger",
          "nigeria",
          "none",
          "north korea",
          "north macedonia",
          "norway",
          "oman",
          "pakistan",
          "palestine",
          "panama",
          "paraguay",
          "people's republic of china",
          "peru",
          "philippines",
          "poland",
          "portugal",
          "puerto rico",
          "qatar",
          "republic of ireland",
          "republic of the congo",
          "reunion",
          "romania",
          "russia",
          "rwanda",
          "saint",
          "saint lucia",
          "saint martin",
          "saint pierre and miquelon",
          "saint vincent and the grenadines",
          "salvador",
          "san marino",
          "saudi arabia",
          "senegal",
          "serbia",
          "sicily",
          "sierra leone",
          "singapore",
          "sint maarten",
          "slovakia",
          "slovenia",
          "sn",
          "somalia",
          "south africa",
          "south korea",
          "south sudan",
          "soviet union",
          "spain",
          "spanish",
          "sri lanka",
          "sudan",
          "suriname",
          "sweden",
          "switzerland",
          "syria",
          "taiwan",
          "tajikistan",
          "thailand",
          "timor-leste",
          "togo",
          "trinidad and tobago",
          "tunisia",
          "turkey",
          "turks and caicos islands",
          "ukraine",
          "united arab emirates",
          "united kingdom",
          "united states",
          "united states virgin islands",
          "unknown",
          "uruguay",
          "ussr",
          "uzbekistan",
          "vanuatu",
          "vatican city",
          "venezuela",
          "vietnam",
          "wallis and futuna",
          "west africa",
          "world",
          "yemen",
          "yugoslavia",
          "zambia",
          "нова каледония",
          "францыя",
          "السعودية",
          "الكويت",
          "ریاستہائے متحدہ امریکہ",
          "سلطنة عمان",
          "ประเทศอินเดีย",
          "ประเทศเวียดนาม"
         ],
         "labels": [
          "",
          ":",
          "?",
          "abkhazia",
          "afghanistan",
          "aland islands",
          "albania",
          "algeria",
          "america",
          "american samoa",
          "andorra",
          "angola",
          "anguilla",
          "argentina",
          "armenia",
          "aruba",
          "ascension island",
          "asia",
          "australia",
          "austria",
          "azerbaijan",
          "bahamas",
          "bahrain",
          "bahrein",
          "bangladesh",
          "barbados",
          "belarus",
          "belgium",
          "belize",
          "benelux",
          "benin",
          "bermuda",
          "bhutan",
          "bolivia",
          "bonaire",
          "bosnia and herzegovina",
          "botswana",
          "brazil",
          "british indian ocean territory",
          "brunei",
          "bulgaria",
          "burkina faso",
          "burundi",
          "cambodia",
          "cameroon",
          "canada",
          "cape verde",
          "caribbean netherlands",
          "cayman islands",
          "central african republic",
          "central america",
          "chad",
          "chile",
          "china",
          "christmas island",
          "colombia",
          "congo",
          "costa rica",
          "croatia",
          "cuba",
          "curaçao",
          "cyprus",
          "czech republic",
          "damam",
          "danemark",
          "democratic republic of the congo",
          "denmark",
          "djibouti",
          "dominica",
          "dominican republic",
          "east germany",
          "ecuador",
          "egypt",
          "el salvador",
          "england",
          "estonia",
          "eswatini",
          "ethiopia",
          "europe",
          "faroe islands",
          "fiji",
          "finland",
          "fra",
          "france",
          "france  switzerland  germany",
          "french guiana",
          "french polynesia",
          "gabon",
          "georgia",
          "german democratic republic",
          "germany",
          "ghana",
          "greece",
          "grenada",
          "guam",
          "guatemala",
          "guyana",
          "haiti",
          "honduras",
          "hong kong",
          "hungary",
          "iceland",
          "india",
          "indonesia",
          "iran",
          "iraq",
          "iraqi kurdistan",
          "ireland",
          "isle of man",
          "israel",
          "italy",
          "ivory coast",
          "jamaica",
          "japan",
          "jordan",
          "kazakhstan",
          "kosovo",
          "kuwait",
          "kyrgyzstan",
          "laos",
          "latin america",
          "latvia",
          "lebanon",
          "lesotho",
          "liberia",
          "libya",
          "liechtenstein",
          "lithuania",
          "luxembourg",
          "macau",
          "madagascar",
          "malaysia",
          "maldives",
          "mali",
          "malta",
          "martinique",
          "mauritania",
          "mauritius",
          "mexico",
          "middle east",
          "middle east and africa",
          "moldavia",
          "moldova",
          "monaco",
          "mongolia",
          "montenegro",
          "montserrat",
          "morocco",
          "mozambique",
          "myanmar",
          "namibia",
          "nepal",
          "netherlands",
          "new zealand",
          "nicaragua",
          "niger",
          "nigeria",
          "none",
          "north korea",
          "north macedonia",
          "norway",
          "oman",
          "pakistan",
          "palestine",
          "panama",
          "paraguay",
          "people's republic of china",
          "peru",
          "philippines",
          "poland",
          "portugal",
          "puerto rico",
          "qatar",
          "republic of ireland",
          "republic of the congo",
          "reunion",
          "romania",
          "russia",
          "rwanda",
          "saint",
          "saint lucia",
          "saint martin",
          "saint pierre and miquelon",
          "saint vincent and the grenadines",
          "salvador",
          "san marino",
          "saudi arabia",
          "senegal",
          "serbia",
          "sicily",
          "sierra leone",
          "singapore",
          "sint maarten",
          "slovakia",
          "slovenia",
          "sn",
          "somalia",
          "south africa",
          "south korea",
          "south sudan",
          "soviet union",
          "spain",
          "spanish",
          "sri lanka",
          "sudan",
          "suriname",
          "sweden",
          "switzerland",
          "syria",
          "taiwan",
          "tajikistan",
          "thailand",
          "timor-leste",
          "togo",
          "trinidad and tobago",
          "tunisia",
          "turkey",
          "turks and caicos islands",
          "ukraine",
          "united arab emirates",
          "united kingdom",
          "united states",
          "united states virgin islands",
          "unknown",
          "uruguay",
          "ussr",
          "uzbekistan",
          "vanuatu",
          "vatican city",
          "venezuela",
          "vietnam",
          "wallis and futuna",
          "west africa",
          "world",
          "yemen",
          "yugoslavia",
          "zambia",
          "нова каледония",
          "францыя",
          "السعودية",
          "الكويت",
          "ریاستہائے متحدہ امریکہ",
          "سلطنة عمان",
          "ประเทศอินเดีย",
          "ประเทศเวียดนาม"
         ],
         "marker": {
          "coloraxis": "coloraxis",
          "colors": [
           0.08744475817255176,
           0.000029442679519377697,
           0.0000883280385581331,
           0.000029442679519377697,
           0.003356465465209058,
           0.0001472133975968885,
           0.0017371180916432843,
           0.010187167113704685,
           0.000029442679519377697,
           0.00011777071807751079,
           0.0018843314892401726,
           0.0000883280385581331,
           0.000058885359038755394,
           0.014839110477766359,
           0.000794952347023198,
           0.0004121975132712878,
           0.000029442679519377697,
           0.000058885359038755394,
           1.1535641835692183,
           0.023230274140789004,
           0.0002060987566356439,
           0.0001472133975968885,
           0.000294426795193777,
           0.000029442679519377697,
           0.00011777071807751079,
           0.0002060987566356439,
           0.001678232732604529,
           2.2217740392117604,
           0.000029442679519377697,
           0.00026498411567439927,
           0.00023554143615502158,
           0.0001472133975968885,
           0.0001766560771162662,
           0.022788633947998342,
           0.000029442679519377697,
           0.0034742361832865686,
           0.0000883280385581331,
           0.34291888836219203,
           0.000029442679519377697,
           0.0001472133975968885,
           0.044105133920027795,
           0.000883280385581331,
           0.000029442679519377697,
           0.00047108287231004315,
           0.000500525551829421,
           2.4228675403291104,
           0.000058885359038755394,
           0.0000883280385581331,
           0.000029442679519377697,
           0.0000883280385581331,
           0.000029442679519377697,
           0.00011777071807751079,
           0.004593058005022921,
           0.006035749301472429,
           0.000029442679519377697,
           0.0017371180916432843,
           0.000029442679519377697,
           0.0017371180916432843,
           0.00474027140261981,
           0.0006477389494263094,
           0.000294426795193777,
           0.006948472366573137,
           0.027705561427734417,
           0.000029442679519377697,
           0.002119872925395194,
           0.0004121975132712878,
           0.05573499233018198,
           0.0001472133975968885,
           0.0002060987566356439,
           0.001059936462697597,
           0.0001472133975968885,
           0.000883280385581331,
           0.006330176096666205,
           0.0001472133975968885,
           0.0027970545543408816,
           0.002473185079627727,
           0.0001766560771162662,
           0.000029442679519377697,
           0.006153520019549938,
           0.000029442679519377697,
           0.000058885359038755394,
           0.04192637563559384,
           0.000029442679519377697,
           30.221644491421873,
           0.000058885359038755394,
           0.0037097776194415896,
           0.0035920069013640793,
           0.000500525551829421,
           0.0030620386700152807,
           0.000029442679519377697,
           7.6733216936606965,
           0.00047108287231004315,
           0.008508934381100156,
           0.000029442679519377697,
           0.00011777071807751079,
           0.0014426912964495072,
           0.0001472133975968885,
           0.0006182962699069317,
           0.0016193473735657733,
           0.004386959248387277,
           0.018637216135766084,
           0.0006771816289456871,
           0.08149733690963748,
           0.037657187105284075,
           0.0003827548337519101,
           0.0008538377060619532,
           0.0000883280385581331,
           1.550392618131391,
           0.000029442679519377697,
           0.0005299682313487985,
           6.778646991105367,
           0.004121975132712878,
           0.000500525551829421,
           0.17992421454291715,
           0.0004121975132712878,
           0.0008243950265425755,
           0.0003533121542325324,
           0.0006771816289456871,
           0.0003238694747131547,
           0.000029442679519377697,
           0.000029442679519377697,
           0.002443742400108349,
           0.0010893791422169749,
           0.000029442679519377697,
           0.000058885359038755394,
           0.0003238694747131547,
           0.0003533121542325324,
           0.04881596264312823,
           0.0035920069013640793,
           0.0001472133975968885,
           0.0002060987566356439,
           0.015928489619983336,
           0.0000883280385581331,
           0.000500525551829421,
           0.0007066243084650648,
           0.0007655096675038202,
           0.00026498411567439927,
           0.0008243950265425755,
           0.09754359724769832,
           0.000058885359038755394,
           0.000029442679519377697,
           0.00011777071807751079,
           0.0017960034506820397,
           0.001059936462697597,
           0.00026498411567439927,
           0.002267086322992083,
           0.000029442679519377697,
           0.019785480637021815,
           0.0003533121542325324,
           0.0001766560771162662,
           0.0000883280385581331,
           0.0002060987566356439,
           0.37124274605983343,
           0.01828390398153355,
           0.001943216848278928,
           0.0001766560771162662,
           0.0002060987566356439,
           10.588294179476685,
           0.000058885359038755394,
           0.001177707180775108,
           0.06553940461013476,
           0.000294426795193777,
           0.00047108287231004315,
           0.00256151311818586,
           0.006595160212340604,
           0.008597262419658289,
           0.000029442679519377697,
           0.001472133975968885,
           0.03530177274373386,
           0.16493789066755388,
           0.06492110834022782,
           0.0008243950265425755,
           0.018725544174324215,
           0.000058885359038755394,
           0.000294426795193777,
           0.009686641561875263,
           0.05929755655202668,
           0.25199989400635375,
           0.00011777071807751079,
           0.000058885359038755394,
           0.00011777071807751079,
           0.0003827548337519101,
           0.0006182962699069317,
           0.000029442679519377697,
           0.003856991017038479,
           0.0001472133975968885,
           0.04289798405973331,
           0.0018254461302014175,
           0.012071498602944857,
           0.000029442679519377697,
           0.000029442679519377697,
           0.042809656021175174,
           0.0000883280385581331,
           0.00588853590387554,
           0.0038275483375191013,
           0.000058885359038755394,
           0.0001766560771162662,
           0.020609875663564387,
           0.00047108287231004315,
           0.000029442679519377697,
           0.000029442679519377697,
           8.813577786087157,
           0.000029442679519377697,
           0.0003533121542325324,
           0.000029442679519377697,
           0.0003238694747131547,
           0.09989901160924854,
           2.3837676619273767,
           0.00026498411567439927,
           0.0008243950265425755,
           0.00011777071807751079,
           0.026704510324075573,
           0.000029442679519377697,
           0.0003827548337519101,
           0.0006477389494263094,
           0.009245001369084599,
           0.004121975132712878,
           0.000029442679519377697,
           0.000971608424139464,
           0.005947421262914294,
           3.1710943549550556,
           18.75519295260023,
           0.000029442679519377697,
           0.0010304937831782195,
           0.004210303171271011,
           0.000058885359038755394,
           0.0003238694747131547,
           0.0000883280385581331,
           0.000029442679519377697,
           0.002031544886837061,
           0.0007066243084650648,
           0.0000883280385581331,
           0.000029442679519377697,
           1.5894630538536052,
           0.00023554143615502158,
           0.000058885359038755394,
           0.000058885359038755394,
           0.000029442679519377697,
           0.00047108287231004315,
           0.0005299682313487985,
           0.00026498411567439927,
           0.000029442679519377697,
           0.000029442679519377697,
           0.000029442679519377697,
           0.00011777071807751079
          ]
         },
         "name": "",
         "parents": [
          "",
          "",
          "",
          "",
          "",
          "",
          "",
          "",
          "",
          "",
          "",
          "",
          "",
          "",
          "",
          "",
          "",
          "",
          "",
          "",
          "",
          "",
          "",
          "",
          "",
          "",
          "",
          "",
          "",
          "",
          "",
          "",
          "",
          "",
          "",
          "",
          "",
          "",
          "",
          "",
          "",
          "",
          "",
          "",
          "",
          "",
          "",
          "",
          "",
          "",
          "",
          "",
          "",
          "",
          "",
          "",
          "",
          "",
          "",
          "",
          "",
          "",
          "",
          "",
          "",
          "",
          "",
          "",
          "",
          "",
          "",
          "",
          "",
          "",
          "",
          "",
          "",
          "",
          "",
          "",
          "",
          "",
          "",
          "",
          "",
          "",
          "",
          "",
          "",
          "",
          "",
          "",
          "",
          "",
          "",
          "",
          "",
          "",
          "",
          "",
          "",
          "",
          "",
          "",
          "",
          "",
          "",
          "",
          "",
          "",
          "",
          "",
          "",
          "",
          "",
          "",
          "",
          "",
          "",
          "",
          "",
          "",
          "",
          "",
          "",
          "",
          "",
          "",
          "",
          "",
          "",
          "",
          "",
          "",
          "",
          "",
          "",
          "",
          "",
          "",
          "",
          "",
          "",
          "",
          "",
          "",
          "",
          "",
          "",
          "",
          "",
          "",
          "",
          "",
          "",
          "",
          "",
          "",
          "",
          "",
          "",
          "",
          "",
          "",
          "",
          "",
          "",
          "",
          "",
          "",
          "",
          "",
          "",
          "",
          "",
          "",
          "",
          "",
          "",
          "",
          "",
          "",
          "",
          "",
          "",
          "",
          "",
          "",
          "",
          "",
          "",
          "",
          "",
          "",
          "",
          "",
          "",
          "",
          "",
          "",
          "",
          "",
          "",
          "",
          "",
          "",
          "",
          "",
          "",
          "",
          "",
          "",
          "",
          "",
          "",
          "",
          "",
          "",
          "",
          "",
          "",
          "",
          "",
          "",
          "",
          "",
          "",
          "",
          "",
          "",
          "",
          "",
          "",
          "",
          "",
          "",
          "",
          "",
          "",
          "",
          "",
          "",
          "",
          "",
          ""
         ],
         "type": "treemap",
         "values": [
          0.08744475817255176,
          0.000029442679519377697,
          0.0000883280385581331,
          0.000029442679519377697,
          0.003356465465209058,
          0.0001472133975968885,
          0.0017371180916432843,
          0.010187167113704685,
          0.000029442679519377697,
          0.00011777071807751079,
          0.0018843314892401726,
          0.0000883280385581331,
          0.000058885359038755394,
          0.014839110477766359,
          0.000794952347023198,
          0.0004121975132712878,
          0.000029442679519377697,
          0.000058885359038755394,
          1.1535641835692183,
          0.023230274140789004,
          0.0002060987566356439,
          0.0001472133975968885,
          0.000294426795193777,
          0.000029442679519377697,
          0.00011777071807751079,
          0.0002060987566356439,
          0.001678232732604529,
          2.2217740392117604,
          0.000029442679519377697,
          0.00026498411567439927,
          0.00023554143615502158,
          0.0001472133975968885,
          0.0001766560771162662,
          0.02278863394799834,
          0.000029442679519377697,
          0.0034742361832865686,
          0.0000883280385581331,
          0.34291888836219203,
          0.000029442679519377697,
          0.0001472133975968885,
          0.044105133920027795,
          0.000883280385581331,
          0.000029442679519377697,
          0.00047108287231004315,
          0.000500525551829421,
          2.4228675403291104,
          0.000058885359038755394,
          0.0000883280385581331,
          0.000029442679519377697,
          0.0000883280385581331,
          0.000029442679519377697,
          0.00011777071807751079,
          0.004593058005022921,
          0.006035749301472429,
          0.000029442679519377697,
          0.0017371180916432843,
          0.000029442679519377697,
          0.0017371180916432843,
          0.00474027140261981,
          0.0006477389494263094,
          0.000294426795193777,
          0.006948472366573137,
          0.027705561427734417,
          0.000029442679519377697,
          0.002119872925395194,
          0.0004121975132712878,
          0.05573499233018198,
          0.0001472133975968885,
          0.0002060987566356439,
          0.001059936462697597,
          0.0001472133975968885,
          0.000883280385581331,
          0.006330176096666204,
          0.0001472133975968885,
          0.0027970545543408816,
          0.002473185079627727,
          0.0001766560771162662,
          0.000029442679519377697,
          0.006153520019549939,
          0.000029442679519377697,
          0.000058885359038755394,
          0.04192637563559384,
          0.000029442679519377697,
          30.221644491421873,
          0.000058885359038755394,
          0.0037097776194415896,
          0.0035920069013640793,
          0.000500525551829421,
          0.003062038670015281,
          0.000029442679519377697,
          7.6733216936606965,
          0.00047108287231004315,
          0.008508934381100156,
          0.000029442679519377697,
          0.00011777071807751079,
          0.0014426912964495072,
          0.0001472133975968885,
          0.0006182962699069317,
          0.0016193473735657733,
          0.004386959248387277,
          0.018637216135766084,
          0.0006771816289456871,
          0.08149733690963748,
          0.037657187105284075,
          0.00038275483375191014,
          0.0008538377060619532,
          0.0000883280385581331,
          1.550392618131391,
          0.000029442679519377697,
          0.0005299682313487985,
          6.778646991105367,
          0.004121975132712878,
          0.000500525551829421,
          0.17992421454291713,
          0.0004121975132712878,
          0.0008243950265425755,
          0.0003533121542325324,
          0.0006771816289456871,
          0.0003238694747131547,
          0.000029442679519377697,
          0.000029442679519377697,
          0.002443742400108349,
          0.0010893791422169749,
          0.000029442679519377697,
          0.000058885359038755394,
          0.0003238694747131547,
          0.0003533121542325324,
          0.04881596264312823,
          0.0035920069013640793,
          0.0001472133975968885,
          0.0002060987566356439,
          0.015928489619983336,
          0.0000883280385581331,
          0.000500525551829421,
          0.0007066243084650648,
          0.0007655096675038203,
          0.00026498411567439927,
          0.0008243950265425755,
          0.09754359724769832,
          0.000058885359038755394,
          0.000029442679519377697,
          0.00011777071807751079,
          0.0017960034506820397,
          0.001059936462697597,
          0.00026498411567439927,
          0.002267086322992083,
          0.000029442679519377697,
          0.019785480637021815,
          0.0003533121542325324,
          0.0001766560771162662,
          0.0000883280385581331,
          0.0002060987566356439,
          0.37124274605983343,
          0.01828390398153355,
          0.001943216848278928,
          0.0001766560771162662,
          0.0002060987566356439,
          10.588294179476685,
          0.000058885359038755394,
          0.001177707180775108,
          0.06553940461013476,
          0.000294426795193777,
          0.00047108287231004315,
          0.00256151311818586,
          0.006595160212340604,
          0.008597262419658289,
          0.000029442679519377697,
          0.001472133975968885,
          0.03530177274373386,
          0.16493789066755388,
          0.06492110834022782,
          0.0008243950265425755,
          0.018725544174324215,
          0.000058885359038755394,
          0.000294426795193777,
          0.009686641561875263,
          0.05929755655202668,
          0.25199989400635375,
          0.00011777071807751079,
          0.000058885359038755394,
          0.00011777071807751079,
          0.00038275483375191014,
          0.0006182962699069317,
          0.000029442679519377697,
          0.003856991017038479,
          0.0001472133975968885,
          0.04289798405973331,
          0.0018254461302014175,
          0.012071498602944857,
          0.000029442679519377697,
          0.000029442679519377697,
          0.042809656021175174,
          0.0000883280385581331,
          0.00588853590387554,
          0.0038275483375191013,
          0.000058885359038755394,
          0.0001766560771162662,
          0.020609875663564387,
          0.00047108287231004315,
          0.000029442679519377697,
          0.000029442679519377697,
          8.813577786087157,
          0.000029442679519377697,
          0.0003533121542325324,
          0.000029442679519377697,
          0.0003238694747131547,
          0.09989901160924854,
          2.3837676619273767,
          0.00026498411567439927,
          0.0008243950265425755,
          0.00011777071807751079,
          0.026704510324075573,
          0.000029442679519377697,
          0.00038275483375191014,
          0.0006477389494263094,
          0.009245001369084599,
          0.004121975132712878,
          0.000029442679519377697,
          0.000971608424139464,
          0.005947421262914295,
          3.1710943549550556,
          18.75519295260023,
          0.000029442679519377697,
          0.0010304937831782195,
          0.004210303171271011,
          0.000058885359038755394,
          0.0003238694747131547,
          0.0000883280385581331,
          0.000029442679519377697,
          0.002031544886837061,
          0.0007066243084650648,
          0.0000883280385581331,
          0.000029442679519377697,
          1.5894630538536052,
          0.00023554143615502158,
          0.000058885359038755394,
          0.000058885359038755394,
          0.000029442679519377697,
          0.00047108287231004315,
          0.0005299682313487985,
          0.00026498411567439927,
          0.000029442679519377697,
          0.000029442679519377697,
          0.000029442679519377697,
          0.00011777071807751079
         ]
        }
       ],
       "layout": {
        "coloraxis": {
         "colorbar": {
          "title": {
           "text": "percentage"
          }
         },
         "colorscale": [
          [
           0,
           "#000004"
          ],
          [
           0.1111111111111111,
           "#180f3d"
          ],
          [
           0.2222222222222222,
           "#440f76"
          ],
          [
           0.3333333333333333,
           "#721f81"
          ],
          [
           0.4444444444444444,
           "#9e2f7f"
          ],
          [
           0.5555555555555556,
           "#cd4071"
          ],
          [
           0.6666666666666666,
           "#f1605d"
          ],
          [
           0.7777777777777778,
           "#fd9668"
          ],
          [
           0.8888888888888888,
           "#feca8d"
          ],
          [
           1,
           "#fcfdbf"
          ]
         ]
        },
        "font": {
         "color": "white"
        },
        "legend": {
         "tracegroupgap": 0
        },
        "paper_bgcolor": "black",
        "plot_bgcolor": "black",
        "template": {
         "data": {
          "bar": [
           {
            "error_x": {
             "color": "#2a3f5f"
            },
            "error_y": {
             "color": "#2a3f5f"
            },
            "marker": {
             "line": {
              "color": "#E5ECF6",
              "width": 0.5
             },
             "pattern": {
              "fillmode": "overlay",
              "size": 10,
              "solidity": 0.2
             }
            },
            "type": "bar"
           }
          ],
          "barpolar": [
           {
            "marker": {
             "line": {
              "color": "#E5ECF6",
              "width": 0.5
             },
             "pattern": {
              "fillmode": "overlay",
              "size": 10,
              "solidity": 0.2
             }
            },
            "type": "barpolar"
           }
          ],
          "carpet": [
           {
            "aaxis": {
             "endlinecolor": "#2a3f5f",
             "gridcolor": "white",
             "linecolor": "white",
             "minorgridcolor": "white",
             "startlinecolor": "#2a3f5f"
            },
            "baxis": {
             "endlinecolor": "#2a3f5f",
             "gridcolor": "white",
             "linecolor": "white",
             "minorgridcolor": "white",
             "startlinecolor": "#2a3f5f"
            },
            "type": "carpet"
           }
          ],
          "choropleth": [
           {
            "colorbar": {
             "outlinewidth": 0,
             "ticks": ""
            },
            "type": "choropleth"
           }
          ],
          "contour": [
           {
            "colorbar": {
             "outlinewidth": 0,
             "ticks": ""
            },
            "colorscale": [
             [
              0,
              "#0d0887"
             ],
             [
              0.1111111111111111,
              "#46039f"
             ],
             [
              0.2222222222222222,
              "#7201a8"
             ],
             [
              0.3333333333333333,
              "#9c179e"
             ],
             [
              0.4444444444444444,
              "#bd3786"
             ],
             [
              0.5555555555555556,
              "#d8576b"
             ],
             [
              0.6666666666666666,
              "#ed7953"
             ],
             [
              0.7777777777777778,
              "#fb9f3a"
             ],
             [
              0.8888888888888888,
              "#fdca26"
             ],
             [
              1,
              "#f0f921"
             ]
            ],
            "type": "contour"
           }
          ],
          "contourcarpet": [
           {
            "colorbar": {
             "outlinewidth": 0,
             "ticks": ""
            },
            "type": "contourcarpet"
           }
          ],
          "heatmap": [
           {
            "colorbar": {
             "outlinewidth": 0,
             "ticks": ""
            },
            "colorscale": [
             [
              0,
              "#0d0887"
             ],
             [
              0.1111111111111111,
              "#46039f"
             ],
             [
              0.2222222222222222,
              "#7201a8"
             ],
             [
              0.3333333333333333,
              "#9c179e"
             ],
             [
              0.4444444444444444,
              "#bd3786"
             ],
             [
              0.5555555555555556,
              "#d8576b"
             ],
             [
              0.6666666666666666,
              "#ed7953"
             ],
             [
              0.7777777777777778,
              "#fb9f3a"
             ],
             [
              0.8888888888888888,
              "#fdca26"
             ],
             [
              1,
              "#f0f921"
             ]
            ],
            "type": "heatmap"
           }
          ],
          "heatmapgl": [
           {
            "colorbar": {
             "outlinewidth": 0,
             "ticks": ""
            },
            "colorscale": [
             [
              0,
              "#0d0887"
             ],
             [
              0.1111111111111111,
              "#46039f"
             ],
             [
              0.2222222222222222,
              "#7201a8"
             ],
             [
              0.3333333333333333,
              "#9c179e"
             ],
             [
              0.4444444444444444,
              "#bd3786"
             ],
             [
              0.5555555555555556,
              "#d8576b"
             ],
             [
              0.6666666666666666,
              "#ed7953"
             ],
             [
              0.7777777777777778,
              "#fb9f3a"
             ],
             [
              0.8888888888888888,
              "#fdca26"
             ],
             [
              1,
              "#f0f921"
             ]
            ],
            "type": "heatmapgl"
           }
          ],
          "histogram": [
           {
            "marker": {
             "pattern": {
              "fillmode": "overlay",
              "size": 10,
              "solidity": 0.2
             }
            },
            "type": "histogram"
           }
          ],
          "histogram2d": [
           {
            "colorbar": {
             "outlinewidth": 0,
             "ticks": ""
            },
            "colorscale": [
             [
              0,
              "#0d0887"
             ],
             [
              0.1111111111111111,
              "#46039f"
             ],
             [
              0.2222222222222222,
              "#7201a8"
             ],
             [
              0.3333333333333333,
              "#9c179e"
             ],
             [
              0.4444444444444444,
              "#bd3786"
             ],
             [
              0.5555555555555556,
              "#d8576b"
             ],
             [
              0.6666666666666666,
              "#ed7953"
             ],
             [
              0.7777777777777778,
              "#fb9f3a"
             ],
             [
              0.8888888888888888,
              "#fdca26"
             ],
             [
              1,
              "#f0f921"
             ]
            ],
            "type": "histogram2d"
           }
          ],
          "histogram2dcontour": [
           {
            "colorbar": {
             "outlinewidth": 0,
             "ticks": ""
            },
            "colorscale": [
             [
              0,
              "#0d0887"
             ],
             [
              0.1111111111111111,
              "#46039f"
             ],
             [
              0.2222222222222222,
              "#7201a8"
             ],
             [
              0.3333333333333333,
              "#9c179e"
             ],
             [
              0.4444444444444444,
              "#bd3786"
             ],
             [
              0.5555555555555556,
              "#d8576b"
             ],
             [
              0.6666666666666666,
              "#ed7953"
             ],
             [
              0.7777777777777778,
              "#fb9f3a"
             ],
             [
              0.8888888888888888,
              "#fdca26"
             ],
             [
              1,
              "#f0f921"
             ]
            ],
            "type": "histogram2dcontour"
           }
          ],
          "mesh3d": [
           {
            "colorbar": {
             "outlinewidth": 0,
             "ticks": ""
            },
            "type": "mesh3d"
           }
          ],
          "parcoords": [
           {
            "line": {
             "colorbar": {
              "outlinewidth": 0,
              "ticks": ""
             }
            },
            "type": "parcoords"
           }
          ],
          "pie": [
           {
            "automargin": true,
            "type": "pie"
           }
          ],
          "scatter": [
           {
            "fillpattern": {
             "fillmode": "overlay",
             "size": 10,
             "solidity": 0.2
            },
            "type": "scatter"
           }
          ],
          "scatter3d": [
           {
            "line": {
             "colorbar": {
              "outlinewidth": 0,
              "ticks": ""
             }
            },
            "marker": {
             "colorbar": {
              "outlinewidth": 0,
              "ticks": ""
             }
            },
            "type": "scatter3d"
           }
          ],
          "scattercarpet": [
           {
            "marker": {
             "colorbar": {
              "outlinewidth": 0,
              "ticks": ""
             }
            },
            "type": "scattercarpet"
           }
          ],
          "scattergeo": [
           {
            "marker": {
             "colorbar": {
              "outlinewidth": 0,
              "ticks": ""
             }
            },
            "type": "scattergeo"
           }
          ],
          "scattergl": [
           {
            "marker": {
             "colorbar": {
              "outlinewidth": 0,
              "ticks": ""
             }
            },
            "type": "scattergl"
           }
          ],
          "scattermapbox": [
           {
            "marker": {
             "colorbar": {
              "outlinewidth": 0,
              "ticks": ""
             }
            },
            "type": "scattermapbox"
           }
          ],
          "scatterpolar": [
           {
            "marker": {
             "colorbar": {
              "outlinewidth": 0,
              "ticks": ""
             }
            },
            "type": "scatterpolar"
           }
          ],
          "scatterpolargl": [
           {
            "marker": {
             "colorbar": {
              "outlinewidth": 0,
              "ticks": ""
             }
            },
            "type": "scatterpolargl"
           }
          ],
          "scatterternary": [
           {
            "marker": {
             "colorbar": {
              "outlinewidth": 0,
              "ticks": ""
             }
            },
            "type": "scatterternary"
           }
          ],
          "surface": [
           {
            "colorbar": {
             "outlinewidth": 0,
             "ticks": ""
            },
            "colorscale": [
             [
              0,
              "#0d0887"
             ],
             [
              0.1111111111111111,
              "#46039f"
             ],
             [
              0.2222222222222222,
              "#7201a8"
             ],
             [
              0.3333333333333333,
              "#9c179e"
             ],
             [
              0.4444444444444444,
              "#bd3786"
             ],
             [
              0.5555555555555556,
              "#d8576b"
             ],
             [
              0.6666666666666666,
              "#ed7953"
             ],
             [
              0.7777777777777778,
              "#fb9f3a"
             ],
             [
              0.8888888888888888,
              "#fdca26"
             ],
             [
              1,
              "#f0f921"
             ]
            ],
            "type": "surface"
           }
          ],
          "table": [
           {
            "cells": {
             "fill": {
              "color": "#EBF0F8"
             },
             "line": {
              "color": "white"
             }
            },
            "header": {
             "fill": {
              "color": "#C8D4E3"
             },
             "line": {
              "color": "white"
             }
            },
            "type": "table"
           }
          ]
         },
         "layout": {
          "annotationdefaults": {
           "arrowcolor": "#2a3f5f",
           "arrowhead": 0,
           "arrowwidth": 1
          },
          "autotypenumbers": "strict",
          "coloraxis": {
           "colorbar": {
            "outlinewidth": 0,
            "ticks": ""
           }
          },
          "colorscale": {
           "diverging": [
            [
             0,
             "#8e0152"
            ],
            [
             0.1,
             "#c51b7d"
            ],
            [
             0.2,
             "#de77ae"
            ],
            [
             0.3,
             "#f1b6da"
            ],
            [
             0.4,
             "#fde0ef"
            ],
            [
             0.5,
             "#f7f7f7"
            ],
            [
             0.6,
             "#e6f5d0"
            ],
            [
             0.7,
             "#b8e186"
            ],
            [
             0.8,
             "#7fbc41"
            ],
            [
             0.9,
             "#4d9221"
            ],
            [
             1,
             "#276419"
            ]
           ],
           "sequential": [
            [
             0,
             "#0d0887"
            ],
            [
             0.1111111111111111,
             "#46039f"
            ],
            [
             0.2222222222222222,
             "#7201a8"
            ],
            [
             0.3333333333333333,
             "#9c179e"
            ],
            [
             0.4444444444444444,
             "#bd3786"
            ],
            [
             0.5555555555555556,
             "#d8576b"
            ],
            [
             0.6666666666666666,
             "#ed7953"
            ],
            [
             0.7777777777777778,
             "#fb9f3a"
            ],
            [
             0.8888888888888888,
             "#fdca26"
            ],
            [
             1,
             "#f0f921"
            ]
           ],
           "sequentialminus": [
            [
             0,
             "#0d0887"
            ],
            [
             0.1111111111111111,
             "#46039f"
            ],
            [
             0.2222222222222222,
             "#7201a8"
            ],
            [
             0.3333333333333333,
             "#9c179e"
            ],
            [
             0.4444444444444444,
             "#bd3786"
            ],
            [
             0.5555555555555556,
             "#d8576b"
            ],
            [
             0.6666666666666666,
             "#ed7953"
            ],
            [
             0.7777777777777778,
             "#fb9f3a"
            ],
            [
             0.8888888888888888,
             "#fdca26"
            ],
            [
             1,
             "#f0f921"
            ]
           ]
          },
          "colorway": [
           "#636efa",
           "#EF553B",
           "#00cc96",
           "#ab63fa",
           "#FFA15A",
           "#19d3f3",
           "#FF6692",
           "#B6E880",
           "#FF97FF",
           "#FECB52"
          ],
          "font": {
           "color": "#2a3f5f"
          },
          "geo": {
           "bgcolor": "white",
           "lakecolor": "white",
           "landcolor": "#E5ECF6",
           "showlakes": true,
           "showland": true,
           "subunitcolor": "white"
          },
          "hoverlabel": {
           "align": "left"
          },
          "hovermode": "closest",
          "mapbox": {
           "style": "light"
          },
          "paper_bgcolor": "white",
          "plot_bgcolor": "#E5ECF6",
          "polar": {
           "angularaxis": {
            "gridcolor": "white",
            "linecolor": "white",
            "ticks": ""
           },
           "bgcolor": "#E5ECF6",
           "radialaxis": {
            "gridcolor": "white",
            "linecolor": "white",
            "ticks": ""
           }
          },
          "scene": {
           "xaxis": {
            "backgroundcolor": "#E5ECF6",
            "gridcolor": "white",
            "gridwidth": 2,
            "linecolor": "white",
            "showbackground": true,
            "ticks": "",
            "zerolinecolor": "white"
           },
           "yaxis": {
            "backgroundcolor": "#E5ECF6",
            "gridcolor": "white",
            "gridwidth": 2,
            "linecolor": "white",
            "showbackground": true,
            "ticks": "",
            "zerolinecolor": "white"
           },
           "zaxis": {
            "backgroundcolor": "#E5ECF6",
            "gridcolor": "white",
            "gridwidth": 2,
            "linecolor": "white",
            "showbackground": true,
            "ticks": "",
            "zerolinecolor": "white"
           }
          },
          "shapedefaults": {
           "line": {
            "color": "#2a3f5f"
           }
          },
          "ternary": {
           "aaxis": {
            "gridcolor": "white",
            "linecolor": "white",
            "ticks": ""
           },
           "baxis": {
            "gridcolor": "white",
            "linecolor": "white",
            "ticks": ""
           },
           "bgcolor": "#E5ECF6",
           "caxis": {
            "gridcolor": "white",
            "linecolor": "white",
            "ticks": ""
           }
          },
          "title": {
           "x": 0.05
          },
          "xaxis": {
           "automargin": true,
           "gridcolor": "white",
           "linecolor": "white",
           "ticks": "",
           "title": {
            "standoff": 15
           },
           "zerolinecolor": "white",
           "zerolinewidth": 2
          },
          "yaxis": {
           "automargin": true,
           "gridcolor": "white",
           "linecolor": "white",
           "ticks": "",
           "title": {
            "standoff": 15
           },
           "zerolinecolor": "white",
           "zerolinewidth": 2
          }
         }
        },
        "title": {
         "text": "countries treemap"
        }
       }
      }
     },
     "metadata": {},
     "output_type": "display_data"
    }
   ],
   "source": [
    "df = pd.DataFrame(data_graph_countries)\n",
    "fig = px.treemap(df, path=['countries'], values='percentage',\n",
    "                 color='percentage', color_continuous_scale='Magma',\n",
    "                 title='countries treemap')\n",
    "fig.update_layout(\n",
    "    paper_bgcolor='black',  \n",
    "    plot_bgcolor='black',   \n",
    "    font_color='white'      \n",
    ")\n",
    "fig.show()"
   ]
  },
  {
   "cell_type": "markdown",
   "metadata": {},
   "source": [
    "# ECOSCORE GRAD:"
   ]
  },
  {
   "cell_type": "code",
   "execution_count": 27,
   "metadata": {},
   "outputs": [
    {
     "name": "stdout",
     "output_type": "stream",
     "text": [
      "999.0: 74.62%\n",
      "54.0: 0.35%\n",
      "75.0: 0.48%\n",
      "76.0: 0.38%\n",
      "77.0: 0.51%\n",
      "52.0: 0.17%\n",
      "9.0: 0.14%\n",
      "24.0: 0.15%\n",
      "50.0: 0.43%\n",
      "65.0: 0.16%\n",
      "49.0: 0.65%\n",
      "70.0: 0.29%\n",
      "79.0: 1.84%\n",
      "63.0: 0.22%\n",
      "29.0: 0.21%\n",
      "21.0: 0.50%\n",
      "56.0: 0.17%\n",
      "92.0: 0.04%\n",
      "34.0: 0.92%\n",
      "59.0: 0.21%\n",
      "55.0: 0.23%\n",
      "73.0: 0.22%\n",
      "27.0: 0.45%\n",
      "19.0: 0.32%\n",
      "60.0: 0.38%\n",
      "23.0: 0.17%\n",
      "47.0: 0.21%\n",
      "42.0: 0.46%\n",
      "0.0: 0.62%\n",
      "41.0: 0.17%\n",
      "67.0: 1.32%\n",
      "71.0: 0.27%\n",
      "74.0: 0.31%\n",
      "30.0: 0.27%\n",
      "15.0: 0.43%\n",
      "58.0: 0.26%\n",
      "61.0: 0.15%\n",
      "39.0: 0.51%\n",
      "91.0: 0.07%\n",
      "53.0: 0.19%\n",
      "44.0: 0.38%\n",
      "14.0: 0.10%\n",
      "72.0: 0.99%\n",
      "68.0: 0.28%\n",
      "12.0: 0.33%\n",
      "18.0: 0.20%\n",
      "5.0: 0.10%\n",
      "51.0: 0.22%\n",
      "66.0: 0.22%\n",
      "69.0: 0.18%\n",
      "43.0: 0.39%\n",
      "8.0: 0.10%\n",
      "2.0: 0.12%\n",
      "22.0: 0.26%\n",
      "46.0: 0.13%\n",
      "38.0: 0.31%\n",
      "26.0: 0.13%\n",
      "10.0: 0.04%\n",
      "36.0: 0.36%\n",
      "37.0: 0.39%\n",
      "78.0: 0.36%\n",
      "25.0: 0.34%\n",
      "64.0: 0.24%\n",
      "4.0: 0.19%\n",
      "40.0: 0.20%\n",
      "35.0: 0.31%\n",
      "20.0: 0.11%\n",
      "32.0: 0.20%\n",
      "85.0: 0.08%\n",
      "62.0: 0.22%\n",
      "31.0: 0.16%\n",
      "28.0: 0.19%\n",
      "89.0: 0.04%\n",
      "48.0: 0.21%\n",
      "83.0: 0.06%\n",
      "16.0: 0.27%\n",
      "90.0: 0.05%\n",
      "57.0: 0.24%\n",
      "45.0: 0.33%\n",
      "100.0: 0.31%\n",
      "33.0: 0.12%\n",
      "82.0: 0.06%\n",
      "13.0: 0.07%\n",
      "81.0: 0.09%\n",
      "1.0: 0.07%\n",
      "17.0: 0.13%\n",
      "6.0: 0.11%\n",
      "11.0: 0.05%\n",
      "99.0: 0.03%\n",
      "80.0: 0.07%\n",
      "86.0: 0.03%\n",
      "3.0: 0.08%\n",
      "84.0: 0.04%\n",
      "94.0: 0.04%\n",
      "88.0: 0.04%\n",
      "97.0: 0.02%\n",
      "93.0: 0.03%\n",
      "95.0: 0.03%\n",
      "7.0: 0.03%\n",
      "96.0: 0.03%\n",
      "87.0: 0.04%\n",
      "98.0: 0.02%\n",
      "78.4170138324: 0.00%\n"
     ]
    }
   ],
   "source": [
    "# retourne une liste des notes écoscores présentes dans le fichier\n",
    "def extract_grad_ecoscore_from_jsonl(file_path):\n",
    "    ecoscore_grad_list = []\n",
    "    with open(file_path, 'r', encoding='utf-8') as file:\n",
    "        for line in file:\n",
    "            try:\n",
    "                record = json.loads(line)\n",
    "                ecoscore_grad = record.get('ecoscore_note')\n",
    "                if ecoscore_grad is not None:\n",
    "                    ecoscore_grad_list.append(ecoscore_grad)\n",
    "            except json.JSONDecodeError:\n",
    "                print(f\"WARNING line: {line} in {file_path}\")\n",
    "    return ecoscore_grad_list\n",
    "ecoscore_grad_list = extract_grad_ecoscore_from_jsonl(jsonl_02)\n",
    "\n",
    "ecoscore_grad_counts = Counter(ecoscore_grad_list)\n",
    "total_ecoscore_grads = sum(ecoscore_grad_counts.values())\n",
    "data_graph_ecoscore_grad = []\n",
    "for ecoscore_grad, count in ecoscore_grad_counts.items():\n",
    "    percentage = (count / total_ecoscore_grads) * 100\n",
    "    print(f\"{ecoscore_grad}: {percentage:.2f}%\")\n",
    "    data_graph_ecoscore_grad.append({'ecoscore_grad': ecoscore_grad, 'percentage': percentage})"
   ]
  },
  {
   "cell_type": "code",
   "execution_count": 28,
   "metadata": {},
   "outputs": [
    {
     "data": {
      "application/vnd.plotly.v1+json": {
       "config": {
        "plotlyServerURL": "https://plot.ly"
       },
       "data": [
        {
         "branchvalues": "total",
         "customdata": [
          [
           0.617056487306271
          ],
          [
           0.06646046719316867
          ],
          [
           0.11797362287272223
          ],
          [
           0.08103016241591351
          ],
          [
           0.18861933728970315
          ],
          [
           0.09887253215953405
          ],
          [
           0.10913110806150993
          ],
          [
           0.03052398351201402
          ],
          [
           0.09959629671703545
          ],
          [
           0.14129142883396179
          ],
          [
           0.043614681595516944
          ],
          [
           0.047296440431502135
          ],
          [
           0.3324596760870393
          ],
          [
           0.07338343252579041
          ],
          [
           0.10082354966236384
          ],
          [
           0.42837421396808956
          ],
          [
           0.2708138166024666
          ],
          [
           0.1348404838649279
          ],
          [
           0.20466802965168987
          ],
          [
           0.3209109111912567
          ],
          [
           0.11492122452152083
          ],
          [
           0.4984220359245259
          ],
          [
           0.2602405604580989
          ],
          [
           0.16999026694010283
          ],
          [
           0.15123532449354574
          ],
          [
           0.33818685649857183
          ],
          [
           0.127886050508067
          ],
          [
           0.45027595883856564
          ],
          [
           0.18975218616231396
          ],
          [
           0.2134476084144238
          ],
          [
           0.2730795143476883
          ],
          [
           0.15762333341410126
          ],
          [
           0.20347224473060066
          ],
          [
           0.12215887009653446
          ],
          [
           0.9182369472995557
          ],
          [
           0.3099915067802579
          ],
          [
           0.3573508832602384
          ],
          [
           0.3897000121781254
          ],
          [
           0.3085125096410159
          ],
          [
           0.5078309751720436
          ],
          [
           0.20447922150625472
          ],
          [
           0.1672525488312933
          ],
          [
           0.4621708720009793
          ],
          [
           0.3857979771724659
          ],
          [
           0.3829343869666996
          ],
          [
           0.32858910910561895
          ],
          [
           0.12867275111404672
          ],
          [
           0.20687079134843317
          ],
          [
           0.2110875065964846
          ],
          [
           0.6513251657027487
          ],
          [
           0.4266749406591733
          ],
          [
           0.21785313180791038
          ],
          [
           0.16656025229803115
          ],
          [
           0.1891228256775302
          ],
          [
           0.3535432523272964
          ],
          [
           0.23201374271554576
          ],
          [
           0.1673154848797717
          ],
          [
           0.2419261703508905
          ],
          [
           0.25589797311309076
          ],
          [
           0.21266090780844404
          ],
          [
           0.3780568432096251
          ],
          [
           0.14824586219082272
          ],
          [
           0.2198356173349793
          ],
          [
           0.21731817539584414
          ],
          [
           0.23837028361186208
          ],
          [
           0.16259528124389322
          ],
          [
           0.21785313180791038
          ],
          [
           1.316842410337372
          ],
          [
           0.28258285766792357
          ],
          [
           0.1786125055816408
          ],
          [
           0.2910792242125049
          ],
          [
           0.2738032789051897
          ],
          [
           0.9902043187345826
          ],
          [
           0.21517834974757924
          ],
          [
           0.3132327132768944
          ],
          [
           0.47535597415719977
          ],
          [
           0.37764775889451574
          ],
          [
           0.5088694199719368
          ],
          [
           0.3597424531024168
          ],
          [
           0.00003146802423918971
          ],
          [
           1.8421066709379261
          ],
          [
           0.07121213885328631
          ],
          [
           0.08911744464538526
          ],
          [
           0.05755501633347798
          ],
          [
           0.0645409177145781
          ],
          [
           0.04348880949856018
          ],
          [
           0.0798029094705851
          ],
          [
           0.030240771293861313
          ],
          [
           0.03571620751148032
          ],
          [
           0.04323706530464666
          ],
          [
           0.040782559413989866
          ],
          [
           0.054125001691406306
          ],
          [
           0.0651388101751227
          ],
          [
           0.040153198929206074
          ],
          [
           0.03275821323299649
          ],
          [
           0.03666024823865601
          ],
          [
           0.02614992814276665
          ],
          [
           0.02618139616700584
          ],
          [
           0.02076889599786521
          ],
          [
           0.020831832046343587
          ],
          [
           0.02511148334287339
          ],
          [
           0.3086069137137335
          ],
          [
           74.61745109633023
          ]
         ],
         "domain": {
          "x": [
           0,
           1
          ],
          "y": [
           0,
           1
          ]
         },
         "hovertemplate": "labels=%{label}<br>percentage_sum=%{value}<br>parent=%{parent}<br>id=%{id}<br>percentage=%{color}<extra></extra>",
         "ids": [
          "0.0",
          "1.0",
          "2.0",
          "3.0",
          "4.0",
          "5.0",
          "6.0",
          "7.0",
          "8.0",
          "9.0",
          "10.0",
          "11.0",
          "12.0",
          "13.0",
          "14.0",
          "15.0",
          "16.0",
          "17.0",
          "18.0",
          "19.0",
          "20.0",
          "21.0",
          "22.0",
          "23.0",
          "24.0",
          "25.0",
          "26.0",
          "27.0",
          "28.0",
          "29.0",
          "30.0",
          "31.0",
          "32.0",
          "33.0",
          "34.0",
          "35.0",
          "36.0",
          "37.0",
          "38.0",
          "39.0",
          "40.0",
          "41.0",
          "42.0",
          "43.0",
          "44.0",
          "45.0",
          "46.0",
          "47.0",
          "48.0",
          "49.0",
          "50.0",
          "51.0",
          "52.0",
          "53.0",
          "54.0",
          "55.0",
          "56.0",
          "57.0",
          "58.0",
          "59.0",
          "60.0",
          "61.0",
          "62.0",
          "63.0",
          "64.0",
          "65.0",
          "66.0",
          "67.0",
          "68.0",
          "69.0",
          "70.0",
          "71.0",
          "72.0",
          "73.0",
          "74.0",
          "75.0",
          "76.0",
          "77.0",
          "78.0",
          "78.4170138324",
          "79.0",
          "80.0",
          "81.0",
          "82.0",
          "83.0",
          "84.0",
          "85.0",
          "86.0",
          "87.0",
          "88.0",
          "89.0",
          "90.0",
          "91.0",
          "92.0",
          "93.0",
          "94.0",
          "95.0",
          "96.0",
          "97.0",
          "98.0",
          "99.0",
          "100.0",
          "999.0"
         ],
         "labels": [
          "0.0",
          "1.0",
          "2.0",
          "3.0",
          "4.0",
          "5.0",
          "6.0",
          "7.0",
          "8.0",
          "9.0",
          "10.0",
          "11.0",
          "12.0",
          "13.0",
          "14.0",
          "15.0",
          "16.0",
          "17.0",
          "18.0",
          "19.0",
          "20.0",
          "21.0",
          "22.0",
          "23.0",
          "24.0",
          "25.0",
          "26.0",
          "27.0",
          "28.0",
          "29.0",
          "30.0",
          "31.0",
          "32.0",
          "33.0",
          "34.0",
          "35.0",
          "36.0",
          "37.0",
          "38.0",
          "39.0",
          "40.0",
          "41.0",
          "42.0",
          "43.0",
          "44.0",
          "45.0",
          "46.0",
          "47.0",
          "48.0",
          "49.0",
          "50.0",
          "51.0",
          "52.0",
          "53.0",
          "54.0",
          "55.0",
          "56.0",
          "57.0",
          "58.0",
          "59.0",
          "60.0",
          "61.0",
          "62.0",
          "63.0",
          "64.0",
          "65.0",
          "66.0",
          "67.0",
          "68.0",
          "69.0",
          "70.0",
          "71.0",
          "72.0",
          "73.0",
          "74.0",
          "75.0",
          "76.0",
          "77.0",
          "78.0",
          "78.4170138324",
          "79.0",
          "80.0",
          "81.0",
          "82.0",
          "83.0",
          "84.0",
          "85.0",
          "86.0",
          "87.0",
          "88.0",
          "89.0",
          "90.0",
          "91.0",
          "92.0",
          "93.0",
          "94.0",
          "95.0",
          "96.0",
          "97.0",
          "98.0",
          "99.0",
          "100.0",
          "999.0"
         ],
         "marker": {
          "coloraxis": "coloraxis",
          "colors": [
           0.617056487306271,
           0.06646046719316867,
           0.11797362287272223,
           0.08103016241591351,
           0.18861933728970315,
           0.09887253215953405,
           0.10913110806150993,
           0.03052398351201402,
           0.09959629671703545,
           0.14129142883396179,
           0.043614681595516944,
           0.047296440431502135,
           0.3324596760870393,
           0.07338343252579041,
           0.10082354966236384,
           0.42837421396808956,
           0.2708138166024666,
           0.1348404838649279,
           0.20466802965168987,
           0.3209109111912567,
           0.11492122452152083,
           0.4984220359245259,
           0.2602405604580989,
           0.16999026694010283,
           0.15123532449354574,
           0.33818685649857183,
           0.127886050508067,
           0.45027595883856564,
           0.18975218616231396,
           0.2134476084144238,
           0.2730795143476883,
           0.15762333341410126,
           0.20347224473060066,
           0.12215887009653446,
           0.9182369472995557,
           0.3099915067802579,
           0.3573508832602384,
           0.3897000121781254,
           0.3085125096410159,
           0.5078309751720436,
           0.20447922150625472,
           0.1672525488312933,
           0.4621708720009793,
           0.3857979771724659,
           0.3829343869666996,
           0.32858910910561895,
           0.12867275111404672,
           0.20687079134843317,
           0.2110875065964846,
           0.6513251657027487,
           0.4266749406591733,
           0.21785313180791038,
           0.16656025229803115,
           0.1891228256775302,
           0.3535432523272964,
           0.23201374271554576,
           0.1673154848797717,
           0.2419261703508905,
           0.25589797311309076,
           0.21266090780844404,
           0.3780568432096251,
           0.14824586219082272,
           0.2198356173349793,
           0.21731817539584414,
           0.23837028361186208,
           0.16259528124389322,
           0.21785313180791038,
           1.316842410337372,
           0.28258285766792357,
           0.1786125055816408,
           0.2910792242125049,
           0.2738032789051897,
           0.9902043187345826,
           0.21517834974757924,
           0.3132327132768944,
           0.47535597415719977,
           0.37764775889451574,
           0.5088694199719368,
           0.3597424531024168,
           0.00003146802423918971,
           1.8421066709379261,
           0.07121213885328631,
           0.08911744464538526,
           0.05755501633347798,
           0.0645409177145781,
           0.04348880949856018,
           0.0798029094705851,
           0.030240771293861313,
           0.03571620751148032,
           0.04323706530464666,
           0.040782559413989866,
           0.054125001691406306,
           0.0651388101751227,
           0.040153198929206074,
           0.03275821323299649,
           0.03666024823865601,
           0.02614992814276665,
           0.02618139616700584,
           0.02076889599786521,
           0.020831832046343587,
           0.02511148334287339,
           0.3086069137137335,
           74.61745109633023
          ]
         },
         "name": "",
         "parents": [
          "",
          "",
          "",
          "",
          "",
          "",
          "",
          "",
          "",
          "",
          "",
          "",
          "",
          "",
          "",
          "",
          "",
          "",
          "",
          "",
          "",
          "",
          "",
          "",
          "",
          "",
          "",
          "",
          "",
          "",
          "",
          "",
          "",
          "",
          "",
          "",
          "",
          "",
          "",
          "",
          "",
          "",
          "",
          "",
          "",
          "",
          "",
          "",
          "",
          "",
          "",
          "",
          "",
          "",
          "",
          "",
          "",
          "",
          "",
          "",
          "",
          "",
          "",
          "",
          "",
          "",
          "",
          "",
          "",
          "",
          "",
          "",
          "",
          "",
          "",
          "",
          "",
          "",
          "",
          "",
          "",
          "",
          "",
          "",
          "",
          "",
          "",
          "",
          "",
          "",
          "",
          "",
          "",
          "",
          "",
          "",
          "",
          "",
          "",
          "",
          "",
          "",
          ""
         ],
         "type": "treemap",
         "values": [
          0.617056487306271,
          0.06646046719316867,
          0.11797362287272223,
          0.08103016241591351,
          0.18861933728970315,
          0.09887253215953407,
          0.10913110806150993,
          0.03052398351201402,
          0.09959629671703545,
          0.14129142883396179,
          0.043614681595516944,
          0.047296440431502135,
          0.3324596760870393,
          0.07338343252579041,
          0.10082354966236384,
          0.42837421396808956,
          0.2708138166024666,
          0.1348404838649279,
          0.20466802965168987,
          0.3209109111912567,
          0.11492122452152083,
          0.4984220359245259,
          0.2602405604580989,
          0.16999026694010283,
          0.15123532449354574,
          0.33818685649857183,
          0.127886050508067,
          0.4502759588385656,
          0.18975218616231396,
          0.2134476084144238,
          0.2730795143476883,
          0.15762333341410126,
          0.20347224473060066,
          0.12215887009653446,
          0.9182369472995557,
          0.3099915067802579,
          0.3573508832602384,
          0.3897000121781254,
          0.3085125096410159,
          0.5078309751720436,
          0.20447922150625472,
          0.1672525488312933,
          0.4621708720009793,
          0.3857979771724659,
          0.38293438696669957,
          0.32858910910561895,
          0.12867275111404672,
          0.20687079134843314,
          0.2110875065964846,
          0.6513251657027487,
          0.4266749406591733,
          0.21785313180791038,
          0.16656025229803115,
          0.18912282567753017,
          0.3535432523272964,
          0.23201374271554576,
          0.1673154848797717,
          0.2419261703508905,
          0.25589797311309076,
          0.21266090780844407,
          0.3780568432096252,
          0.14824586219082272,
          0.2198356173349793,
          0.21731817539584414,
          0.23837028361186208,
          0.16259528124389322,
          0.21785313180791038,
          1.316842410337372,
          0.28258285766792357,
          0.1786125055816408,
          0.2910792242125049,
          0.2738032789051897,
          0.9902043187345826,
          0.21517834974757924,
          0.3132327132768944,
          0.47535597415719977,
          0.37764775889451574,
          0.5088694199719368,
          0.3597424531024168,
          0.00003146802423918971,
          1.8421066709379263,
          0.07121213885328631,
          0.08911744464538526,
          0.05755501633347798,
          0.0645409177145781,
          0.04348880949856018,
          0.0798029094705851,
          0.030240771293861313,
          0.03571620751148032,
          0.04323706530464666,
          0.040782559413989866,
          0.0541250016914063,
          0.0651388101751227,
          0.040153198929206074,
          0.03275821323299649,
          0.03666024823865601,
          0.02614992814276665,
          0.02618139616700584,
          0.02076889599786521,
          0.020831832046343587,
          0.02511148334287339,
          0.3086069137137335,
          74.61745109633023
         ]
        }
       ],
       "layout": {
        "coloraxis": {
         "colorbar": {
          "title": {
           "text": "percentage"
          }
         },
         "colorscale": [
          [
           0,
           "#000004"
          ],
          [
           0.1111111111111111,
           "#180f3d"
          ],
          [
           0.2222222222222222,
           "#440f76"
          ],
          [
           0.3333333333333333,
           "#721f81"
          ],
          [
           0.4444444444444444,
           "#9e2f7f"
          ],
          [
           0.5555555555555556,
           "#cd4071"
          ],
          [
           0.6666666666666666,
           "#f1605d"
          ],
          [
           0.7777777777777778,
           "#fd9668"
          ],
          [
           0.8888888888888888,
           "#feca8d"
          ],
          [
           1,
           "#fcfdbf"
          ]
         ]
        },
        "font": {
         "color": "white"
        },
        "legend": {
         "tracegroupgap": 0
        },
        "paper_bgcolor": "black",
        "plot_bgcolor": "black",
        "template": {
         "data": {
          "bar": [
           {
            "error_x": {
             "color": "#2a3f5f"
            },
            "error_y": {
             "color": "#2a3f5f"
            },
            "marker": {
             "line": {
              "color": "#E5ECF6",
              "width": 0.5
             },
             "pattern": {
              "fillmode": "overlay",
              "size": 10,
              "solidity": 0.2
             }
            },
            "type": "bar"
           }
          ],
          "barpolar": [
           {
            "marker": {
             "line": {
              "color": "#E5ECF6",
              "width": 0.5
             },
             "pattern": {
              "fillmode": "overlay",
              "size": 10,
              "solidity": 0.2
             }
            },
            "type": "barpolar"
           }
          ],
          "carpet": [
           {
            "aaxis": {
             "endlinecolor": "#2a3f5f",
             "gridcolor": "white",
             "linecolor": "white",
             "minorgridcolor": "white",
             "startlinecolor": "#2a3f5f"
            },
            "baxis": {
             "endlinecolor": "#2a3f5f",
             "gridcolor": "white",
             "linecolor": "white",
             "minorgridcolor": "white",
             "startlinecolor": "#2a3f5f"
            },
            "type": "carpet"
           }
          ],
          "choropleth": [
           {
            "colorbar": {
             "outlinewidth": 0,
             "ticks": ""
            },
            "type": "choropleth"
           }
          ],
          "contour": [
           {
            "colorbar": {
             "outlinewidth": 0,
             "ticks": ""
            },
            "colorscale": [
             [
              0,
              "#0d0887"
             ],
             [
              0.1111111111111111,
              "#46039f"
             ],
             [
              0.2222222222222222,
              "#7201a8"
             ],
             [
              0.3333333333333333,
              "#9c179e"
             ],
             [
              0.4444444444444444,
              "#bd3786"
             ],
             [
              0.5555555555555556,
              "#d8576b"
             ],
             [
              0.6666666666666666,
              "#ed7953"
             ],
             [
              0.7777777777777778,
              "#fb9f3a"
             ],
             [
              0.8888888888888888,
              "#fdca26"
             ],
             [
              1,
              "#f0f921"
             ]
            ],
            "type": "contour"
           }
          ],
          "contourcarpet": [
           {
            "colorbar": {
             "outlinewidth": 0,
             "ticks": ""
            },
            "type": "contourcarpet"
           }
          ],
          "heatmap": [
           {
            "colorbar": {
             "outlinewidth": 0,
             "ticks": ""
            },
            "colorscale": [
             [
              0,
              "#0d0887"
             ],
             [
              0.1111111111111111,
              "#46039f"
             ],
             [
              0.2222222222222222,
              "#7201a8"
             ],
             [
              0.3333333333333333,
              "#9c179e"
             ],
             [
              0.4444444444444444,
              "#bd3786"
             ],
             [
              0.5555555555555556,
              "#d8576b"
             ],
             [
              0.6666666666666666,
              "#ed7953"
             ],
             [
              0.7777777777777778,
              "#fb9f3a"
             ],
             [
              0.8888888888888888,
              "#fdca26"
             ],
             [
              1,
              "#f0f921"
             ]
            ],
            "type": "heatmap"
           }
          ],
          "heatmapgl": [
           {
            "colorbar": {
             "outlinewidth": 0,
             "ticks": ""
            },
            "colorscale": [
             [
              0,
              "#0d0887"
             ],
             [
              0.1111111111111111,
              "#46039f"
             ],
             [
              0.2222222222222222,
              "#7201a8"
             ],
             [
              0.3333333333333333,
              "#9c179e"
             ],
             [
              0.4444444444444444,
              "#bd3786"
             ],
             [
              0.5555555555555556,
              "#d8576b"
             ],
             [
              0.6666666666666666,
              "#ed7953"
             ],
             [
              0.7777777777777778,
              "#fb9f3a"
             ],
             [
              0.8888888888888888,
              "#fdca26"
             ],
             [
              1,
              "#f0f921"
             ]
            ],
            "type": "heatmapgl"
           }
          ],
          "histogram": [
           {
            "marker": {
             "pattern": {
              "fillmode": "overlay",
              "size": 10,
              "solidity": 0.2
             }
            },
            "type": "histogram"
           }
          ],
          "histogram2d": [
           {
            "colorbar": {
             "outlinewidth": 0,
             "ticks": ""
            },
            "colorscale": [
             [
              0,
              "#0d0887"
             ],
             [
              0.1111111111111111,
              "#46039f"
             ],
             [
              0.2222222222222222,
              "#7201a8"
             ],
             [
              0.3333333333333333,
              "#9c179e"
             ],
             [
              0.4444444444444444,
              "#bd3786"
             ],
             [
              0.5555555555555556,
              "#d8576b"
             ],
             [
              0.6666666666666666,
              "#ed7953"
             ],
             [
              0.7777777777777778,
              "#fb9f3a"
             ],
             [
              0.8888888888888888,
              "#fdca26"
             ],
             [
              1,
              "#f0f921"
             ]
            ],
            "type": "histogram2d"
           }
          ],
          "histogram2dcontour": [
           {
            "colorbar": {
             "outlinewidth": 0,
             "ticks": ""
            },
            "colorscale": [
             [
              0,
              "#0d0887"
             ],
             [
              0.1111111111111111,
              "#46039f"
             ],
             [
              0.2222222222222222,
              "#7201a8"
             ],
             [
              0.3333333333333333,
              "#9c179e"
             ],
             [
              0.4444444444444444,
              "#bd3786"
             ],
             [
              0.5555555555555556,
              "#d8576b"
             ],
             [
              0.6666666666666666,
              "#ed7953"
             ],
             [
              0.7777777777777778,
              "#fb9f3a"
             ],
             [
              0.8888888888888888,
              "#fdca26"
             ],
             [
              1,
              "#f0f921"
             ]
            ],
            "type": "histogram2dcontour"
           }
          ],
          "mesh3d": [
           {
            "colorbar": {
             "outlinewidth": 0,
             "ticks": ""
            },
            "type": "mesh3d"
           }
          ],
          "parcoords": [
           {
            "line": {
             "colorbar": {
              "outlinewidth": 0,
              "ticks": ""
             }
            },
            "type": "parcoords"
           }
          ],
          "pie": [
           {
            "automargin": true,
            "type": "pie"
           }
          ],
          "scatter": [
           {
            "fillpattern": {
             "fillmode": "overlay",
             "size": 10,
             "solidity": 0.2
            },
            "type": "scatter"
           }
          ],
          "scatter3d": [
           {
            "line": {
             "colorbar": {
              "outlinewidth": 0,
              "ticks": ""
             }
            },
            "marker": {
             "colorbar": {
              "outlinewidth": 0,
              "ticks": ""
             }
            },
            "type": "scatter3d"
           }
          ],
          "scattercarpet": [
           {
            "marker": {
             "colorbar": {
              "outlinewidth": 0,
              "ticks": ""
             }
            },
            "type": "scattercarpet"
           }
          ],
          "scattergeo": [
           {
            "marker": {
             "colorbar": {
              "outlinewidth": 0,
              "ticks": ""
             }
            },
            "type": "scattergeo"
           }
          ],
          "scattergl": [
           {
            "marker": {
             "colorbar": {
              "outlinewidth": 0,
              "ticks": ""
             }
            },
            "type": "scattergl"
           }
          ],
          "scattermapbox": [
           {
            "marker": {
             "colorbar": {
              "outlinewidth": 0,
              "ticks": ""
             }
            },
            "type": "scattermapbox"
           }
          ],
          "scatterpolar": [
           {
            "marker": {
             "colorbar": {
              "outlinewidth": 0,
              "ticks": ""
             }
            },
            "type": "scatterpolar"
           }
          ],
          "scatterpolargl": [
           {
            "marker": {
             "colorbar": {
              "outlinewidth": 0,
              "ticks": ""
             }
            },
            "type": "scatterpolargl"
           }
          ],
          "scatterternary": [
           {
            "marker": {
             "colorbar": {
              "outlinewidth": 0,
              "ticks": ""
             }
            },
            "type": "scatterternary"
           }
          ],
          "surface": [
           {
            "colorbar": {
             "outlinewidth": 0,
             "ticks": ""
            },
            "colorscale": [
             [
              0,
              "#0d0887"
             ],
             [
              0.1111111111111111,
              "#46039f"
             ],
             [
              0.2222222222222222,
              "#7201a8"
             ],
             [
              0.3333333333333333,
              "#9c179e"
             ],
             [
              0.4444444444444444,
              "#bd3786"
             ],
             [
              0.5555555555555556,
              "#d8576b"
             ],
             [
              0.6666666666666666,
              "#ed7953"
             ],
             [
              0.7777777777777778,
              "#fb9f3a"
             ],
             [
              0.8888888888888888,
              "#fdca26"
             ],
             [
              1,
              "#f0f921"
             ]
            ],
            "type": "surface"
           }
          ],
          "table": [
           {
            "cells": {
             "fill": {
              "color": "#EBF0F8"
             },
             "line": {
              "color": "white"
             }
            },
            "header": {
             "fill": {
              "color": "#C8D4E3"
             },
             "line": {
              "color": "white"
             }
            },
            "type": "table"
           }
          ]
         },
         "layout": {
          "annotationdefaults": {
           "arrowcolor": "#2a3f5f",
           "arrowhead": 0,
           "arrowwidth": 1
          },
          "autotypenumbers": "strict",
          "coloraxis": {
           "colorbar": {
            "outlinewidth": 0,
            "ticks": ""
           }
          },
          "colorscale": {
           "diverging": [
            [
             0,
             "#8e0152"
            ],
            [
             0.1,
             "#c51b7d"
            ],
            [
             0.2,
             "#de77ae"
            ],
            [
             0.3,
             "#f1b6da"
            ],
            [
             0.4,
             "#fde0ef"
            ],
            [
             0.5,
             "#f7f7f7"
            ],
            [
             0.6,
             "#e6f5d0"
            ],
            [
             0.7,
             "#b8e186"
            ],
            [
             0.8,
             "#7fbc41"
            ],
            [
             0.9,
             "#4d9221"
            ],
            [
             1,
             "#276419"
            ]
           ],
           "sequential": [
            [
             0,
             "#0d0887"
            ],
            [
             0.1111111111111111,
             "#46039f"
            ],
            [
             0.2222222222222222,
             "#7201a8"
            ],
            [
             0.3333333333333333,
             "#9c179e"
            ],
            [
             0.4444444444444444,
             "#bd3786"
            ],
            [
             0.5555555555555556,
             "#d8576b"
            ],
            [
             0.6666666666666666,
             "#ed7953"
            ],
            [
             0.7777777777777778,
             "#fb9f3a"
            ],
            [
             0.8888888888888888,
             "#fdca26"
            ],
            [
             1,
             "#f0f921"
            ]
           ],
           "sequentialminus": [
            [
             0,
             "#0d0887"
            ],
            [
             0.1111111111111111,
             "#46039f"
            ],
            [
             0.2222222222222222,
             "#7201a8"
            ],
            [
             0.3333333333333333,
             "#9c179e"
            ],
            [
             0.4444444444444444,
             "#bd3786"
            ],
            [
             0.5555555555555556,
             "#d8576b"
            ],
            [
             0.6666666666666666,
             "#ed7953"
            ],
            [
             0.7777777777777778,
             "#fb9f3a"
            ],
            [
             0.8888888888888888,
             "#fdca26"
            ],
            [
             1,
             "#f0f921"
            ]
           ]
          },
          "colorway": [
           "#636efa",
           "#EF553B",
           "#00cc96",
           "#ab63fa",
           "#FFA15A",
           "#19d3f3",
           "#FF6692",
           "#B6E880",
           "#FF97FF",
           "#FECB52"
          ],
          "font": {
           "color": "#2a3f5f"
          },
          "geo": {
           "bgcolor": "white",
           "lakecolor": "white",
           "landcolor": "#E5ECF6",
           "showlakes": true,
           "showland": true,
           "subunitcolor": "white"
          },
          "hoverlabel": {
           "align": "left"
          },
          "hovermode": "closest",
          "mapbox": {
           "style": "light"
          },
          "paper_bgcolor": "white",
          "plot_bgcolor": "#E5ECF6",
          "polar": {
           "angularaxis": {
            "gridcolor": "white",
            "linecolor": "white",
            "ticks": ""
           },
           "bgcolor": "#E5ECF6",
           "radialaxis": {
            "gridcolor": "white",
            "linecolor": "white",
            "ticks": ""
           }
          },
          "scene": {
           "xaxis": {
            "backgroundcolor": "#E5ECF6",
            "gridcolor": "white",
            "gridwidth": 2,
            "linecolor": "white",
            "showbackground": true,
            "ticks": "",
            "zerolinecolor": "white"
           },
           "yaxis": {
            "backgroundcolor": "#E5ECF6",
            "gridcolor": "white",
            "gridwidth": 2,
            "linecolor": "white",
            "showbackground": true,
            "ticks": "",
            "zerolinecolor": "white"
           },
           "zaxis": {
            "backgroundcolor": "#E5ECF6",
            "gridcolor": "white",
            "gridwidth": 2,
            "linecolor": "white",
            "showbackground": true,
            "ticks": "",
            "zerolinecolor": "white"
           }
          },
          "shapedefaults": {
           "line": {
            "color": "#2a3f5f"
           }
          },
          "ternary": {
           "aaxis": {
            "gridcolor": "white",
            "linecolor": "white",
            "ticks": ""
           },
           "baxis": {
            "gridcolor": "white",
            "linecolor": "white",
            "ticks": ""
           },
           "bgcolor": "#E5ECF6",
           "caxis": {
            "gridcolor": "white",
            "linecolor": "white",
            "ticks": ""
           }
          },
          "title": {
           "x": 0.05
          },
          "xaxis": {
           "automargin": true,
           "gridcolor": "white",
           "linecolor": "white",
           "ticks": "",
           "title": {
            "standoff": 15
           },
           "zerolinecolor": "white",
           "zerolinewidth": 2
          },
          "yaxis": {
           "automargin": true,
           "gridcolor": "white",
           "linecolor": "white",
           "ticks": "",
           "title": {
            "standoff": 15
           },
           "zerolinecolor": "white",
           "zerolinewidth": 2
          }
         }
        },
        "title": {
         "text": "ecoscore grad treemap"
        }
       }
      }
     },
     "metadata": {},
     "output_type": "display_data"
    }
   ],
   "source": [
    "df = pd.DataFrame(data_graph_ecoscore_grad)\n",
    "fig = px.treemap(df, path=['ecoscore_grad'], values='percentage',\n",
    "                 color='percentage', color_continuous_scale='Magma',\n",
    "                 title='ecoscore grad treemap')\n",
    "fig.update_layout(\n",
    "    paper_bgcolor='black',  \n",
    "    plot_bgcolor='black',   \n",
    "    font_color='white'      \n",
    ")\n",
    "fig.show()"
   ]
  },
  {
   "cell_type": "markdown",
   "metadata": {},
   "source": [
    "# ECOSCORE GROUPS:"
   ]
  },
  {
   "cell_type": "code",
   "execution_count": 29,
   "metadata": {},
   "outputs": [
    {
     "name": "stdout",
     "output_type": "stream",
     "text": [
      "z: 74.62%\n",
      "c: 5.59%\n",
      "b: 9.01%\n",
      "e: 3.51%\n",
      "d: 6.06%\n",
      "a: 1.21%\n"
     ]
    }
   ],
   "source": [
    "# retourne une liste des lettres écoscore présentes dans le fichier\n",
    "def extract_groups_ecoscore_from_jsonl(file_path):\n",
    "    ecoscore_groups_list = []\n",
    "    with open(file_path, 'r', encoding='utf-8') as file:\n",
    "        for line in file:\n",
    "            try:\n",
    "                record = json.loads(line)\n",
    "                ecoscore_groups = record.get('ecoscore_groups')\n",
    "                if ecoscore_groups is not None:\n",
    "                    ecoscore_groups_list.append(ecoscore_groups)\n",
    "            except json.JSONDecodeError:\n",
    "                print(f\"WARNING line: {line} in {file_path}\")\n",
    "    return ecoscore_groups_list\n",
    "ecoscore_groups_list = extract_groups_ecoscore_from_jsonl(jsonl_02)\n",
    "\n",
    "ecoscore_groups_counts = Counter(ecoscore_groups_list)\n",
    "total_ecoscore_groups = sum(ecoscore_groups_counts.values())\n",
    "\n",
    "data_graph_ecoscore_groups = []\n",
    "for ecoscore_group, count in ecoscore_groups_counts.items():\n",
    "    percentage = (count / total_ecoscore_groups) * 100\n",
    "    print(f\"{ecoscore_group}: {percentage:.2f}%\")\n",
    "    data_graph_ecoscore_groups.append({'ecoscore_group': ecoscore_group, 'percentage': percentage})\n"
   ]
  },
  {
   "cell_type": "code",
   "execution_count": 30,
   "metadata": {},
   "outputs": [
    {
     "data": {
      "application/vnd.plotly.v1+json": {
       "config": {
        "plotlyServerURL": "https://plot.ly"
       },
       "data": [
        {
         "branchvalues": "total",
         "customdata": [
          [
           1.2121482936935877
          ],
          [
           9.007596066371098
          ],
          [
           5.592749011982709
          ],
          [
           6.062314869679898
          ],
          [
           3.5077406619424774
          ],
          [
           74.61745109633023
          ]
         ],
         "domain": {
          "x": [
           0,
           1
          ],
          "y": [
           0,
           1
          ]
         },
         "hovertemplate": "labels=%{label}<br>percentage_sum=%{value}<br>parent=%{parent}<br>id=%{id}<br>percentage=%{color}<extra></extra>",
         "ids": [
          "a",
          "b",
          "c",
          "d",
          "e",
          "z"
         ],
         "labels": [
          "a",
          "b",
          "c",
          "d",
          "e",
          "z"
         ],
         "marker": {
          "coloraxis": "coloraxis",
          "colors": [
           1.2121482936935877,
           9.007596066371098,
           5.592749011982709,
           6.062314869679898,
           3.5077406619424774,
           74.61745109633023
          ]
         },
         "name": "",
         "parents": [
          "",
          "",
          "",
          "",
          "",
          ""
         ],
         "type": "treemap",
         "values": [
          1.2121482936935877,
          9.007596066371098,
          5.592749011982709,
          6.0623148696798985,
          3.5077406619424774,
          74.61745109633023
         ]
        }
       ],
       "layout": {
        "coloraxis": {
         "colorbar": {
          "title": {
           "text": "percentage"
          }
         },
         "colorscale": [
          [
           0,
           "#000004"
          ],
          [
           0.1111111111111111,
           "#180f3d"
          ],
          [
           0.2222222222222222,
           "#440f76"
          ],
          [
           0.3333333333333333,
           "#721f81"
          ],
          [
           0.4444444444444444,
           "#9e2f7f"
          ],
          [
           0.5555555555555556,
           "#cd4071"
          ],
          [
           0.6666666666666666,
           "#f1605d"
          ],
          [
           0.7777777777777778,
           "#fd9668"
          ],
          [
           0.8888888888888888,
           "#feca8d"
          ],
          [
           1,
           "#fcfdbf"
          ]
         ]
        },
        "font": {
         "color": "white"
        },
        "legend": {
         "tracegroupgap": 0
        },
        "paper_bgcolor": "black",
        "plot_bgcolor": "black",
        "template": {
         "data": {
          "bar": [
           {
            "error_x": {
             "color": "#2a3f5f"
            },
            "error_y": {
             "color": "#2a3f5f"
            },
            "marker": {
             "line": {
              "color": "#E5ECF6",
              "width": 0.5
             },
             "pattern": {
              "fillmode": "overlay",
              "size": 10,
              "solidity": 0.2
             }
            },
            "type": "bar"
           }
          ],
          "barpolar": [
           {
            "marker": {
             "line": {
              "color": "#E5ECF6",
              "width": 0.5
             },
             "pattern": {
              "fillmode": "overlay",
              "size": 10,
              "solidity": 0.2
             }
            },
            "type": "barpolar"
           }
          ],
          "carpet": [
           {
            "aaxis": {
             "endlinecolor": "#2a3f5f",
             "gridcolor": "white",
             "linecolor": "white",
             "minorgridcolor": "white",
             "startlinecolor": "#2a3f5f"
            },
            "baxis": {
             "endlinecolor": "#2a3f5f",
             "gridcolor": "white",
             "linecolor": "white",
             "minorgridcolor": "white",
             "startlinecolor": "#2a3f5f"
            },
            "type": "carpet"
           }
          ],
          "choropleth": [
           {
            "colorbar": {
             "outlinewidth": 0,
             "ticks": ""
            },
            "type": "choropleth"
           }
          ],
          "contour": [
           {
            "colorbar": {
             "outlinewidth": 0,
             "ticks": ""
            },
            "colorscale": [
             [
              0,
              "#0d0887"
             ],
             [
              0.1111111111111111,
              "#46039f"
             ],
             [
              0.2222222222222222,
              "#7201a8"
             ],
             [
              0.3333333333333333,
              "#9c179e"
             ],
             [
              0.4444444444444444,
              "#bd3786"
             ],
             [
              0.5555555555555556,
              "#d8576b"
             ],
             [
              0.6666666666666666,
              "#ed7953"
             ],
             [
              0.7777777777777778,
              "#fb9f3a"
             ],
             [
              0.8888888888888888,
              "#fdca26"
             ],
             [
              1,
              "#f0f921"
             ]
            ],
            "type": "contour"
           }
          ],
          "contourcarpet": [
           {
            "colorbar": {
             "outlinewidth": 0,
             "ticks": ""
            },
            "type": "contourcarpet"
           }
          ],
          "heatmap": [
           {
            "colorbar": {
             "outlinewidth": 0,
             "ticks": ""
            },
            "colorscale": [
             [
              0,
              "#0d0887"
             ],
             [
              0.1111111111111111,
              "#46039f"
             ],
             [
              0.2222222222222222,
              "#7201a8"
             ],
             [
              0.3333333333333333,
              "#9c179e"
             ],
             [
              0.4444444444444444,
              "#bd3786"
             ],
             [
              0.5555555555555556,
              "#d8576b"
             ],
             [
              0.6666666666666666,
              "#ed7953"
             ],
             [
              0.7777777777777778,
              "#fb9f3a"
             ],
             [
              0.8888888888888888,
              "#fdca26"
             ],
             [
              1,
              "#f0f921"
             ]
            ],
            "type": "heatmap"
           }
          ],
          "heatmapgl": [
           {
            "colorbar": {
             "outlinewidth": 0,
             "ticks": ""
            },
            "colorscale": [
             [
              0,
              "#0d0887"
             ],
             [
              0.1111111111111111,
              "#46039f"
             ],
             [
              0.2222222222222222,
              "#7201a8"
             ],
             [
              0.3333333333333333,
              "#9c179e"
             ],
             [
              0.4444444444444444,
              "#bd3786"
             ],
             [
              0.5555555555555556,
              "#d8576b"
             ],
             [
              0.6666666666666666,
              "#ed7953"
             ],
             [
              0.7777777777777778,
              "#fb9f3a"
             ],
             [
              0.8888888888888888,
              "#fdca26"
             ],
             [
              1,
              "#f0f921"
             ]
            ],
            "type": "heatmapgl"
           }
          ],
          "histogram": [
           {
            "marker": {
             "pattern": {
              "fillmode": "overlay",
              "size": 10,
              "solidity": 0.2
             }
            },
            "type": "histogram"
           }
          ],
          "histogram2d": [
           {
            "colorbar": {
             "outlinewidth": 0,
             "ticks": ""
            },
            "colorscale": [
             [
              0,
              "#0d0887"
             ],
             [
              0.1111111111111111,
              "#46039f"
             ],
             [
              0.2222222222222222,
              "#7201a8"
             ],
             [
              0.3333333333333333,
              "#9c179e"
             ],
             [
              0.4444444444444444,
              "#bd3786"
             ],
             [
              0.5555555555555556,
              "#d8576b"
             ],
             [
              0.6666666666666666,
              "#ed7953"
             ],
             [
              0.7777777777777778,
              "#fb9f3a"
             ],
             [
              0.8888888888888888,
              "#fdca26"
             ],
             [
              1,
              "#f0f921"
             ]
            ],
            "type": "histogram2d"
           }
          ],
          "histogram2dcontour": [
           {
            "colorbar": {
             "outlinewidth": 0,
             "ticks": ""
            },
            "colorscale": [
             [
              0,
              "#0d0887"
             ],
             [
              0.1111111111111111,
              "#46039f"
             ],
             [
              0.2222222222222222,
              "#7201a8"
             ],
             [
              0.3333333333333333,
              "#9c179e"
             ],
             [
              0.4444444444444444,
              "#bd3786"
             ],
             [
              0.5555555555555556,
              "#d8576b"
             ],
             [
              0.6666666666666666,
              "#ed7953"
             ],
             [
              0.7777777777777778,
              "#fb9f3a"
             ],
             [
              0.8888888888888888,
              "#fdca26"
             ],
             [
              1,
              "#f0f921"
             ]
            ],
            "type": "histogram2dcontour"
           }
          ],
          "mesh3d": [
           {
            "colorbar": {
             "outlinewidth": 0,
             "ticks": ""
            },
            "type": "mesh3d"
           }
          ],
          "parcoords": [
           {
            "line": {
             "colorbar": {
              "outlinewidth": 0,
              "ticks": ""
             }
            },
            "type": "parcoords"
           }
          ],
          "pie": [
           {
            "automargin": true,
            "type": "pie"
           }
          ],
          "scatter": [
           {
            "fillpattern": {
             "fillmode": "overlay",
             "size": 10,
             "solidity": 0.2
            },
            "type": "scatter"
           }
          ],
          "scatter3d": [
           {
            "line": {
             "colorbar": {
              "outlinewidth": 0,
              "ticks": ""
             }
            },
            "marker": {
             "colorbar": {
              "outlinewidth": 0,
              "ticks": ""
             }
            },
            "type": "scatter3d"
           }
          ],
          "scattercarpet": [
           {
            "marker": {
             "colorbar": {
              "outlinewidth": 0,
              "ticks": ""
             }
            },
            "type": "scattercarpet"
           }
          ],
          "scattergeo": [
           {
            "marker": {
             "colorbar": {
              "outlinewidth": 0,
              "ticks": ""
             }
            },
            "type": "scattergeo"
           }
          ],
          "scattergl": [
           {
            "marker": {
             "colorbar": {
              "outlinewidth": 0,
              "ticks": ""
             }
            },
            "type": "scattergl"
           }
          ],
          "scattermapbox": [
           {
            "marker": {
             "colorbar": {
              "outlinewidth": 0,
              "ticks": ""
             }
            },
            "type": "scattermapbox"
           }
          ],
          "scatterpolar": [
           {
            "marker": {
             "colorbar": {
              "outlinewidth": 0,
              "ticks": ""
             }
            },
            "type": "scatterpolar"
           }
          ],
          "scatterpolargl": [
           {
            "marker": {
             "colorbar": {
              "outlinewidth": 0,
              "ticks": ""
             }
            },
            "type": "scatterpolargl"
           }
          ],
          "scatterternary": [
           {
            "marker": {
             "colorbar": {
              "outlinewidth": 0,
              "ticks": ""
             }
            },
            "type": "scatterternary"
           }
          ],
          "surface": [
           {
            "colorbar": {
             "outlinewidth": 0,
             "ticks": ""
            },
            "colorscale": [
             [
              0,
              "#0d0887"
             ],
             [
              0.1111111111111111,
              "#46039f"
             ],
             [
              0.2222222222222222,
              "#7201a8"
             ],
             [
              0.3333333333333333,
              "#9c179e"
             ],
             [
              0.4444444444444444,
              "#bd3786"
             ],
             [
              0.5555555555555556,
              "#d8576b"
             ],
             [
              0.6666666666666666,
              "#ed7953"
             ],
             [
              0.7777777777777778,
              "#fb9f3a"
             ],
             [
              0.8888888888888888,
              "#fdca26"
             ],
             [
              1,
              "#f0f921"
             ]
            ],
            "type": "surface"
           }
          ],
          "table": [
           {
            "cells": {
             "fill": {
              "color": "#EBF0F8"
             },
             "line": {
              "color": "white"
             }
            },
            "header": {
             "fill": {
              "color": "#C8D4E3"
             },
             "line": {
              "color": "white"
             }
            },
            "type": "table"
           }
          ]
         },
         "layout": {
          "annotationdefaults": {
           "arrowcolor": "#2a3f5f",
           "arrowhead": 0,
           "arrowwidth": 1
          },
          "autotypenumbers": "strict",
          "coloraxis": {
           "colorbar": {
            "outlinewidth": 0,
            "ticks": ""
           }
          },
          "colorscale": {
           "diverging": [
            [
             0,
             "#8e0152"
            ],
            [
             0.1,
             "#c51b7d"
            ],
            [
             0.2,
             "#de77ae"
            ],
            [
             0.3,
             "#f1b6da"
            ],
            [
             0.4,
             "#fde0ef"
            ],
            [
             0.5,
             "#f7f7f7"
            ],
            [
             0.6,
             "#e6f5d0"
            ],
            [
             0.7,
             "#b8e186"
            ],
            [
             0.8,
             "#7fbc41"
            ],
            [
             0.9,
             "#4d9221"
            ],
            [
             1,
             "#276419"
            ]
           ],
           "sequential": [
            [
             0,
             "#0d0887"
            ],
            [
             0.1111111111111111,
             "#46039f"
            ],
            [
             0.2222222222222222,
             "#7201a8"
            ],
            [
             0.3333333333333333,
             "#9c179e"
            ],
            [
             0.4444444444444444,
             "#bd3786"
            ],
            [
             0.5555555555555556,
             "#d8576b"
            ],
            [
             0.6666666666666666,
             "#ed7953"
            ],
            [
             0.7777777777777778,
             "#fb9f3a"
            ],
            [
             0.8888888888888888,
             "#fdca26"
            ],
            [
             1,
             "#f0f921"
            ]
           ],
           "sequentialminus": [
            [
             0,
             "#0d0887"
            ],
            [
             0.1111111111111111,
             "#46039f"
            ],
            [
             0.2222222222222222,
             "#7201a8"
            ],
            [
             0.3333333333333333,
             "#9c179e"
            ],
            [
             0.4444444444444444,
             "#bd3786"
            ],
            [
             0.5555555555555556,
             "#d8576b"
            ],
            [
             0.6666666666666666,
             "#ed7953"
            ],
            [
             0.7777777777777778,
             "#fb9f3a"
            ],
            [
             0.8888888888888888,
             "#fdca26"
            ],
            [
             1,
             "#f0f921"
            ]
           ]
          },
          "colorway": [
           "#636efa",
           "#EF553B",
           "#00cc96",
           "#ab63fa",
           "#FFA15A",
           "#19d3f3",
           "#FF6692",
           "#B6E880",
           "#FF97FF",
           "#FECB52"
          ],
          "font": {
           "color": "#2a3f5f"
          },
          "geo": {
           "bgcolor": "white",
           "lakecolor": "white",
           "landcolor": "#E5ECF6",
           "showlakes": true,
           "showland": true,
           "subunitcolor": "white"
          },
          "hoverlabel": {
           "align": "left"
          },
          "hovermode": "closest",
          "mapbox": {
           "style": "light"
          },
          "paper_bgcolor": "white",
          "plot_bgcolor": "#E5ECF6",
          "polar": {
           "angularaxis": {
            "gridcolor": "white",
            "linecolor": "white",
            "ticks": ""
           },
           "bgcolor": "#E5ECF6",
           "radialaxis": {
            "gridcolor": "white",
            "linecolor": "white",
            "ticks": ""
           }
          },
          "scene": {
           "xaxis": {
            "backgroundcolor": "#E5ECF6",
            "gridcolor": "white",
            "gridwidth": 2,
            "linecolor": "white",
            "showbackground": true,
            "ticks": "",
            "zerolinecolor": "white"
           },
           "yaxis": {
            "backgroundcolor": "#E5ECF6",
            "gridcolor": "white",
            "gridwidth": 2,
            "linecolor": "white",
            "showbackground": true,
            "ticks": "",
            "zerolinecolor": "white"
           },
           "zaxis": {
            "backgroundcolor": "#E5ECF6",
            "gridcolor": "white",
            "gridwidth": 2,
            "linecolor": "white",
            "showbackground": true,
            "ticks": "",
            "zerolinecolor": "white"
           }
          },
          "shapedefaults": {
           "line": {
            "color": "#2a3f5f"
           }
          },
          "ternary": {
           "aaxis": {
            "gridcolor": "white",
            "linecolor": "white",
            "ticks": ""
           },
           "baxis": {
            "gridcolor": "white",
            "linecolor": "white",
            "ticks": ""
           },
           "bgcolor": "#E5ECF6",
           "caxis": {
            "gridcolor": "white",
            "linecolor": "white",
            "ticks": ""
           }
          },
          "title": {
           "x": 0.05
          },
          "xaxis": {
           "automargin": true,
           "gridcolor": "white",
           "linecolor": "white",
           "ticks": "",
           "title": {
            "standoff": 15
           },
           "zerolinecolor": "white",
           "zerolinewidth": 2
          },
          "yaxis": {
           "automargin": true,
           "gridcolor": "white",
           "linecolor": "white",
           "ticks": "",
           "title": {
            "standoff": 15
           },
           "zerolinecolor": "white",
           "zerolinewidth": 2
          }
         }
        },
        "title": {
         "text": "ecoscore groups treemap"
        }
       }
      }
     },
     "metadata": {},
     "output_type": "display_data"
    }
   ],
   "source": [
    "df = pd.DataFrame(data_graph_ecoscore_groups)\n",
    "fig = px.treemap(df, path=['ecoscore_group'], values='percentage',\n",
    "                 color='percentage', color_continuous_scale='Magma',\n",
    "                 title='ecoscore groups treemap')\n",
    "fig.update_layout(\n",
    "    paper_bgcolor='black',  \n",
    "    plot_bgcolor='black',   \n",
    "    font_color='white'      \n",
    ")\n",
    "fig.show()"
   ]
  },
  {
   "cell_type": "markdown",
   "metadata": {},
   "source": [
    "# LABELS:"
   ]
  },
  {
   "cell_type": "code",
   "execution_count": 31,
   "metadata": {},
   "outputs": [
    {
     "name": "stdout",
     "output_type": "stream",
     "text": [
      "0: 70.95%\n",
      "6: 0.88%\n",
      "1: 11.32%\n",
      "5: 1.11%\n",
      "2: 8.13%\n",
      "3: 4.34%\n",
      "4: 2.05%\n",
      "8: 0.29%\n",
      "7: 0.47%\n",
      "9: 0.46%\n"
     ]
    }
   ],
   "source": [
    "# retourne une liste des labels présents dans le fichier (sans doublons dans l'affichage)\n",
    "def extract_labels_from_jsonl(file_path):\n",
    "    labels_list = []\n",
    "    with open(file_path, 'r', encoding='utf-8') as file:\n",
    "        for line in file:\n",
    "            try:\n",
    "                record = json.loads(line)\n",
    "                labels = record.get('labels_note')\n",
    "                if labels is not None:\n",
    "                    labels_list.append(labels)\n",
    "            except json.JSONDecodeError:\n",
    "                print(f\"WARNING line: {line} in {file_path}\")\n",
    "    return labels_list\n",
    "\n",
    "labels_list = extract_labels_from_jsonl(jsonl_02)\n",
    "label_counts = Counter(labels_list)\n",
    "total_labels = sum(label_counts.values())\n",
    "\n",
    "data_graph_labels = []\n",
    "for label, count in label_counts.items():\n",
    "    percentage = (count / total_labels) * 100\n",
    "    print(f\"{label}: {percentage:.2f}%\")\n",
    "    data_graph_labels.append({'labels': label, 'percentage': percentage})"
   ]
  },
  {
   "cell_type": "code",
   "execution_count": 32,
   "metadata": {},
   "outputs": [
    {
     "data": {
      "application/vnd.plotly.v1+json": {
       "config": {
        "plotlyServerURL": "https://plot.ly"
       },
       "data": [
        {
         "branchvalues": "total",
         "customdata": [
          [
           70.9526849934342
          ],
          [
           11.319331531054692
          ],
          [
           8.129354977879553
          ],
          [
           4.336293740160342
          ],
          [
           2.050550863498319
          ],
          [
           1.1094995986253509
          ],
          [
           0.8790907251460037
          ],
          [
           0.4683071367276213
          ],
          [
           0.2911421602609832
          ],
          [
           0.4637442732129388
          ]
         ],
         "domain": {
          "x": [
           0,
           1
          ],
          "y": [
           0,
           1
          ]
         },
         "hovertemplate": "labels=%{label}<br>percentage_sum=%{value}<br>parent=%{parent}<br>id=%{id}<br>percentage=%{color}<extra></extra>",
         "ids": [
          "0",
          "1",
          "2",
          "3",
          "4",
          "5",
          "6",
          "7",
          "8",
          "9"
         ],
         "labels": [
          "0",
          "1",
          "2",
          "3",
          "4",
          "5",
          "6",
          "7",
          "8",
          "9"
         ],
         "marker": {
          "coloraxis": "coloraxis",
          "colors": [
           70.9526849934342,
           11.319331531054692,
           8.129354977879553,
           4.336293740160342,
           2.050550863498319,
           1.1094995986253509,
           0.8790907251460037,
           0.4683071367276213,
           0.2911421602609832,
           0.4637442732129388
          ]
         },
         "name": "",
         "parents": [
          "",
          "",
          "",
          "",
          "",
          "",
          "",
          "",
          "",
          ""
         ],
         "type": "treemap",
         "values": [
          70.9526849934342,
          11.319331531054692,
          8.129354977879553,
          4.336293740160342,
          2.050550863498319,
          1.1094995986253509,
          0.8790907251460037,
          0.46830713672762125,
          0.2911421602609832,
          0.46374427321293876
         ]
        }
       ],
       "layout": {
        "coloraxis": {
         "colorbar": {
          "title": {
           "text": "percentage"
          }
         },
         "colorscale": [
          [
           0,
           "#000004"
          ],
          [
           0.1111111111111111,
           "#180f3d"
          ],
          [
           0.2222222222222222,
           "#440f76"
          ],
          [
           0.3333333333333333,
           "#721f81"
          ],
          [
           0.4444444444444444,
           "#9e2f7f"
          ],
          [
           0.5555555555555556,
           "#cd4071"
          ],
          [
           0.6666666666666666,
           "#f1605d"
          ],
          [
           0.7777777777777778,
           "#fd9668"
          ],
          [
           0.8888888888888888,
           "#feca8d"
          ],
          [
           1,
           "#fcfdbf"
          ]
         ]
        },
        "font": {
         "color": "white"
        },
        "legend": {
         "tracegroupgap": 0
        },
        "paper_bgcolor": "black",
        "plot_bgcolor": "black",
        "template": {
         "data": {
          "bar": [
           {
            "error_x": {
             "color": "#2a3f5f"
            },
            "error_y": {
             "color": "#2a3f5f"
            },
            "marker": {
             "line": {
              "color": "#E5ECF6",
              "width": 0.5
             },
             "pattern": {
              "fillmode": "overlay",
              "size": 10,
              "solidity": 0.2
             }
            },
            "type": "bar"
           }
          ],
          "barpolar": [
           {
            "marker": {
             "line": {
              "color": "#E5ECF6",
              "width": 0.5
             },
             "pattern": {
              "fillmode": "overlay",
              "size": 10,
              "solidity": 0.2
             }
            },
            "type": "barpolar"
           }
          ],
          "carpet": [
           {
            "aaxis": {
             "endlinecolor": "#2a3f5f",
             "gridcolor": "white",
             "linecolor": "white",
             "minorgridcolor": "white",
             "startlinecolor": "#2a3f5f"
            },
            "baxis": {
             "endlinecolor": "#2a3f5f",
             "gridcolor": "white",
             "linecolor": "white",
             "minorgridcolor": "white",
             "startlinecolor": "#2a3f5f"
            },
            "type": "carpet"
           }
          ],
          "choropleth": [
           {
            "colorbar": {
             "outlinewidth": 0,
             "ticks": ""
            },
            "type": "choropleth"
           }
          ],
          "contour": [
           {
            "colorbar": {
             "outlinewidth": 0,
             "ticks": ""
            },
            "colorscale": [
             [
              0,
              "#0d0887"
             ],
             [
              0.1111111111111111,
              "#46039f"
             ],
             [
              0.2222222222222222,
              "#7201a8"
             ],
             [
              0.3333333333333333,
              "#9c179e"
             ],
             [
              0.4444444444444444,
              "#bd3786"
             ],
             [
              0.5555555555555556,
              "#d8576b"
             ],
             [
              0.6666666666666666,
              "#ed7953"
             ],
             [
              0.7777777777777778,
              "#fb9f3a"
             ],
             [
              0.8888888888888888,
              "#fdca26"
             ],
             [
              1,
              "#f0f921"
             ]
            ],
            "type": "contour"
           }
          ],
          "contourcarpet": [
           {
            "colorbar": {
             "outlinewidth": 0,
             "ticks": ""
            },
            "type": "contourcarpet"
           }
          ],
          "heatmap": [
           {
            "colorbar": {
             "outlinewidth": 0,
             "ticks": ""
            },
            "colorscale": [
             [
              0,
              "#0d0887"
             ],
             [
              0.1111111111111111,
              "#46039f"
             ],
             [
              0.2222222222222222,
              "#7201a8"
             ],
             [
              0.3333333333333333,
              "#9c179e"
             ],
             [
              0.4444444444444444,
              "#bd3786"
             ],
             [
              0.5555555555555556,
              "#d8576b"
             ],
             [
              0.6666666666666666,
              "#ed7953"
             ],
             [
              0.7777777777777778,
              "#fb9f3a"
             ],
             [
              0.8888888888888888,
              "#fdca26"
             ],
             [
              1,
              "#f0f921"
             ]
            ],
            "type": "heatmap"
           }
          ],
          "heatmapgl": [
           {
            "colorbar": {
             "outlinewidth": 0,
             "ticks": ""
            },
            "colorscale": [
             [
              0,
              "#0d0887"
             ],
             [
              0.1111111111111111,
              "#46039f"
             ],
             [
              0.2222222222222222,
              "#7201a8"
             ],
             [
              0.3333333333333333,
              "#9c179e"
             ],
             [
              0.4444444444444444,
              "#bd3786"
             ],
             [
              0.5555555555555556,
              "#d8576b"
             ],
             [
              0.6666666666666666,
              "#ed7953"
             ],
             [
              0.7777777777777778,
              "#fb9f3a"
             ],
             [
              0.8888888888888888,
              "#fdca26"
             ],
             [
              1,
              "#f0f921"
             ]
            ],
            "type": "heatmapgl"
           }
          ],
          "histogram": [
           {
            "marker": {
             "pattern": {
              "fillmode": "overlay",
              "size": 10,
              "solidity": 0.2
             }
            },
            "type": "histogram"
           }
          ],
          "histogram2d": [
           {
            "colorbar": {
             "outlinewidth": 0,
             "ticks": ""
            },
            "colorscale": [
             [
              0,
              "#0d0887"
             ],
             [
              0.1111111111111111,
              "#46039f"
             ],
             [
              0.2222222222222222,
              "#7201a8"
             ],
             [
              0.3333333333333333,
              "#9c179e"
             ],
             [
              0.4444444444444444,
              "#bd3786"
             ],
             [
              0.5555555555555556,
              "#d8576b"
             ],
             [
              0.6666666666666666,
              "#ed7953"
             ],
             [
              0.7777777777777778,
              "#fb9f3a"
             ],
             [
              0.8888888888888888,
              "#fdca26"
             ],
             [
              1,
              "#f0f921"
             ]
            ],
            "type": "histogram2d"
           }
          ],
          "histogram2dcontour": [
           {
            "colorbar": {
             "outlinewidth": 0,
             "ticks": ""
            },
            "colorscale": [
             [
              0,
              "#0d0887"
             ],
             [
              0.1111111111111111,
              "#46039f"
             ],
             [
              0.2222222222222222,
              "#7201a8"
             ],
             [
              0.3333333333333333,
              "#9c179e"
             ],
             [
              0.4444444444444444,
              "#bd3786"
             ],
             [
              0.5555555555555556,
              "#d8576b"
             ],
             [
              0.6666666666666666,
              "#ed7953"
             ],
             [
              0.7777777777777778,
              "#fb9f3a"
             ],
             [
              0.8888888888888888,
              "#fdca26"
             ],
             [
              1,
              "#f0f921"
             ]
            ],
            "type": "histogram2dcontour"
           }
          ],
          "mesh3d": [
           {
            "colorbar": {
             "outlinewidth": 0,
             "ticks": ""
            },
            "type": "mesh3d"
           }
          ],
          "parcoords": [
           {
            "line": {
             "colorbar": {
              "outlinewidth": 0,
              "ticks": ""
             }
            },
            "type": "parcoords"
           }
          ],
          "pie": [
           {
            "automargin": true,
            "type": "pie"
           }
          ],
          "scatter": [
           {
            "fillpattern": {
             "fillmode": "overlay",
             "size": 10,
             "solidity": 0.2
            },
            "type": "scatter"
           }
          ],
          "scatter3d": [
           {
            "line": {
             "colorbar": {
              "outlinewidth": 0,
              "ticks": ""
             }
            },
            "marker": {
             "colorbar": {
              "outlinewidth": 0,
              "ticks": ""
             }
            },
            "type": "scatter3d"
           }
          ],
          "scattercarpet": [
           {
            "marker": {
             "colorbar": {
              "outlinewidth": 0,
              "ticks": ""
             }
            },
            "type": "scattercarpet"
           }
          ],
          "scattergeo": [
           {
            "marker": {
             "colorbar": {
              "outlinewidth": 0,
              "ticks": ""
             }
            },
            "type": "scattergeo"
           }
          ],
          "scattergl": [
           {
            "marker": {
             "colorbar": {
              "outlinewidth": 0,
              "ticks": ""
             }
            },
            "type": "scattergl"
           }
          ],
          "scattermapbox": [
           {
            "marker": {
             "colorbar": {
              "outlinewidth": 0,
              "ticks": ""
             }
            },
            "type": "scattermapbox"
           }
          ],
          "scatterpolar": [
           {
            "marker": {
             "colorbar": {
              "outlinewidth": 0,
              "ticks": ""
             }
            },
            "type": "scatterpolar"
           }
          ],
          "scatterpolargl": [
           {
            "marker": {
             "colorbar": {
              "outlinewidth": 0,
              "ticks": ""
             }
            },
            "type": "scatterpolargl"
           }
          ],
          "scatterternary": [
           {
            "marker": {
             "colorbar": {
              "outlinewidth": 0,
              "ticks": ""
             }
            },
            "type": "scatterternary"
           }
          ],
          "surface": [
           {
            "colorbar": {
             "outlinewidth": 0,
             "ticks": ""
            },
            "colorscale": [
             [
              0,
              "#0d0887"
             ],
             [
              0.1111111111111111,
              "#46039f"
             ],
             [
              0.2222222222222222,
              "#7201a8"
             ],
             [
              0.3333333333333333,
              "#9c179e"
             ],
             [
              0.4444444444444444,
              "#bd3786"
             ],
             [
              0.5555555555555556,
              "#d8576b"
             ],
             [
              0.6666666666666666,
              "#ed7953"
             ],
             [
              0.7777777777777778,
              "#fb9f3a"
             ],
             [
              0.8888888888888888,
              "#fdca26"
             ],
             [
              1,
              "#f0f921"
             ]
            ],
            "type": "surface"
           }
          ],
          "table": [
           {
            "cells": {
             "fill": {
              "color": "#EBF0F8"
             },
             "line": {
              "color": "white"
             }
            },
            "header": {
             "fill": {
              "color": "#C8D4E3"
             },
             "line": {
              "color": "white"
             }
            },
            "type": "table"
           }
          ]
         },
         "layout": {
          "annotationdefaults": {
           "arrowcolor": "#2a3f5f",
           "arrowhead": 0,
           "arrowwidth": 1
          },
          "autotypenumbers": "strict",
          "coloraxis": {
           "colorbar": {
            "outlinewidth": 0,
            "ticks": ""
           }
          },
          "colorscale": {
           "diverging": [
            [
             0,
             "#8e0152"
            ],
            [
             0.1,
             "#c51b7d"
            ],
            [
             0.2,
             "#de77ae"
            ],
            [
             0.3,
             "#f1b6da"
            ],
            [
             0.4,
             "#fde0ef"
            ],
            [
             0.5,
             "#f7f7f7"
            ],
            [
             0.6,
             "#e6f5d0"
            ],
            [
             0.7,
             "#b8e186"
            ],
            [
             0.8,
             "#7fbc41"
            ],
            [
             0.9,
             "#4d9221"
            ],
            [
             1,
             "#276419"
            ]
           ],
           "sequential": [
            [
             0,
             "#0d0887"
            ],
            [
             0.1111111111111111,
             "#46039f"
            ],
            [
             0.2222222222222222,
             "#7201a8"
            ],
            [
             0.3333333333333333,
             "#9c179e"
            ],
            [
             0.4444444444444444,
             "#bd3786"
            ],
            [
             0.5555555555555556,
             "#d8576b"
            ],
            [
             0.6666666666666666,
             "#ed7953"
            ],
            [
             0.7777777777777778,
             "#fb9f3a"
            ],
            [
             0.8888888888888888,
             "#fdca26"
            ],
            [
             1,
             "#f0f921"
            ]
           ],
           "sequentialminus": [
            [
             0,
             "#0d0887"
            ],
            [
             0.1111111111111111,
             "#46039f"
            ],
            [
             0.2222222222222222,
             "#7201a8"
            ],
            [
             0.3333333333333333,
             "#9c179e"
            ],
            [
             0.4444444444444444,
             "#bd3786"
            ],
            [
             0.5555555555555556,
             "#d8576b"
            ],
            [
             0.6666666666666666,
             "#ed7953"
            ],
            [
             0.7777777777777778,
             "#fb9f3a"
            ],
            [
             0.8888888888888888,
             "#fdca26"
            ],
            [
             1,
             "#f0f921"
            ]
           ]
          },
          "colorway": [
           "#636efa",
           "#EF553B",
           "#00cc96",
           "#ab63fa",
           "#FFA15A",
           "#19d3f3",
           "#FF6692",
           "#B6E880",
           "#FF97FF",
           "#FECB52"
          ],
          "font": {
           "color": "#2a3f5f"
          },
          "geo": {
           "bgcolor": "white",
           "lakecolor": "white",
           "landcolor": "#E5ECF6",
           "showlakes": true,
           "showland": true,
           "subunitcolor": "white"
          },
          "hoverlabel": {
           "align": "left"
          },
          "hovermode": "closest",
          "mapbox": {
           "style": "light"
          },
          "paper_bgcolor": "white",
          "plot_bgcolor": "#E5ECF6",
          "polar": {
           "angularaxis": {
            "gridcolor": "white",
            "linecolor": "white",
            "ticks": ""
           },
           "bgcolor": "#E5ECF6",
           "radialaxis": {
            "gridcolor": "white",
            "linecolor": "white",
            "ticks": ""
           }
          },
          "scene": {
           "xaxis": {
            "backgroundcolor": "#E5ECF6",
            "gridcolor": "white",
            "gridwidth": 2,
            "linecolor": "white",
            "showbackground": true,
            "ticks": "",
            "zerolinecolor": "white"
           },
           "yaxis": {
            "backgroundcolor": "#E5ECF6",
            "gridcolor": "white",
            "gridwidth": 2,
            "linecolor": "white",
            "showbackground": true,
            "ticks": "",
            "zerolinecolor": "white"
           },
           "zaxis": {
            "backgroundcolor": "#E5ECF6",
            "gridcolor": "white",
            "gridwidth": 2,
            "linecolor": "white",
            "showbackground": true,
            "ticks": "",
            "zerolinecolor": "white"
           }
          },
          "shapedefaults": {
           "line": {
            "color": "#2a3f5f"
           }
          },
          "ternary": {
           "aaxis": {
            "gridcolor": "white",
            "linecolor": "white",
            "ticks": ""
           },
           "baxis": {
            "gridcolor": "white",
            "linecolor": "white",
            "ticks": ""
           },
           "bgcolor": "#E5ECF6",
           "caxis": {
            "gridcolor": "white",
            "linecolor": "white",
            "ticks": ""
           }
          },
          "title": {
           "x": 0.05
          },
          "xaxis": {
           "automargin": true,
           "gridcolor": "white",
           "linecolor": "white",
           "ticks": "",
           "title": {
            "standoff": 15
           },
           "zerolinecolor": "white",
           "zerolinewidth": 2
          },
          "yaxis": {
           "automargin": true,
           "gridcolor": "white",
           "linecolor": "white",
           "ticks": "",
           "title": {
            "standoff": 15
           },
           "zerolinecolor": "white",
           "zerolinewidth": 2
          }
         }
        },
        "title": {
         "text": "labels treemap"
        }
       }
      }
     },
     "metadata": {},
     "output_type": "display_data"
    }
   ],
   "source": [
    "df = pd.DataFrame(data_graph_labels)\n",
    "fig = px.treemap(df, path=['labels'], values='percentage',\n",
    "                 color='percentage', color_continuous_scale='Magma',\n",
    "                 title='labels treemap')\n",
    "fig.update_layout(\n",
    "    paper_bgcolor='black',  \n",
    "    plot_bgcolor='black',   \n",
    "    font_color='white'      \n",
    ")\n",
    "fig.show()"
   ]
  },
  {
   "cell_type": "markdown",
   "metadata": {},
   "source": [
    "# NONE NUMBER:"
   ]
  },
  {
   "cell_type": "code",
   "execution_count": 33,
   "metadata": {},
   "outputs": [],
   "source": [
    "def count_none_and_total_values(jsonl_file_path):\n",
    "    none_counts = defaultdict(int)\n",
    "    total_counts = defaultdict(int)\n",
    "    with open(jsonl_file_path, 'r', encoding='utf-8') as file:\n",
    "        for line in file:\n",
    "            data = json.loads(line)\n",
    "            for key, value in data.items():\n",
    "                total_counts[key] += 1\n",
    "                if value is None:\n",
    "                    none_counts[key] += 1\n",
    "    return none_counts, total_counts\n",
    "\n",
    "def calculate_percentage(none_counts, total_counts):\n",
    "    percentages = {}\n",
    "    for key in none_counts:\n",
    "        if total_counts[key] > 0:\n",
    "            percentage = (none_counts[key] / total_counts[key]) * 100\n",
    "        else:\n",
    "            percentage = 0\n",
    "        percentages[key] = percentage\n",
    "    return percentages\n",
    "\n",
    "none_counts, total_counts = count_none_and_total_values(jsonl_02)\n",
    "percentages = calculate_percentage(none_counts, total_counts)"
   ]
  },
  {
   "cell_type": "code",
   "execution_count": 34,
   "metadata": {},
   "outputs": [
    {
     "data": {
      "application/vnd.plotly.v1+json": {
       "config": {
        "plotlyServerURL": "https://plot.ly"
       },
       "data": [
        {
         "branchvalues": "total",
         "customdata": [
          [
           55.70825239495265
          ],
          [
           63.67837917018191
          ],
          [
           71.5331441685503
          ]
         ],
         "domain": {
          "x": [
           0,
           1
          ],
          "y": [
           0,
           1
          ]
         },
         "hovertemplate": "labels=%{label}<br>percentage_sum=%{value}<br>parent=%{parent}<br>id=%{id}<br>percentage=%{color}<extra></extra>",
         "ids": [
          "categories",
          "groups",
          "ingredients"
         ],
         "labels": [
          "categories",
          "groups",
          "ingredients"
         ],
         "marker": {
          "coloraxis": "coloraxis",
          "colors": [
           55.70825239495265,
           63.67837917018191,
           71.5331441685503
          ]
         },
         "name": "",
         "parents": [
          "",
          "",
          ""
         ],
         "type": "treemap",
         "values": [
          55.70825239495265,
          63.67837917018191,
          71.5331441685503
         ]
        }
       ],
       "layout": {
        "coloraxis": {
         "colorbar": {
          "title": {
           "text": "percentage"
          }
         },
         "colorscale": [
          [
           0,
           "#000004"
          ],
          [
           0.1111111111111111,
           "#180f3d"
          ],
          [
           0.2222222222222222,
           "#440f76"
          ],
          [
           0.3333333333333333,
           "#721f81"
          ],
          [
           0.4444444444444444,
           "#9e2f7f"
          ],
          [
           0.5555555555555556,
           "#cd4071"
          ],
          [
           0.6666666666666666,
           "#f1605d"
          ],
          [
           0.7777777777777778,
           "#fd9668"
          ],
          [
           0.8888888888888888,
           "#feca8d"
          ],
          [
           1,
           "#fcfdbf"
          ]
         ]
        },
        "font": {
         "color": "white"
        },
        "legend": {
         "tracegroupgap": 0
        },
        "paper_bgcolor": "black",
        "plot_bgcolor": "black",
        "template": {
         "data": {
          "bar": [
           {
            "error_x": {
             "color": "#2a3f5f"
            },
            "error_y": {
             "color": "#2a3f5f"
            },
            "marker": {
             "line": {
              "color": "#E5ECF6",
              "width": 0.5
             },
             "pattern": {
              "fillmode": "overlay",
              "size": 10,
              "solidity": 0.2
             }
            },
            "type": "bar"
           }
          ],
          "barpolar": [
           {
            "marker": {
             "line": {
              "color": "#E5ECF6",
              "width": 0.5
             },
             "pattern": {
              "fillmode": "overlay",
              "size": 10,
              "solidity": 0.2
             }
            },
            "type": "barpolar"
           }
          ],
          "carpet": [
           {
            "aaxis": {
             "endlinecolor": "#2a3f5f",
             "gridcolor": "white",
             "linecolor": "white",
             "minorgridcolor": "white",
             "startlinecolor": "#2a3f5f"
            },
            "baxis": {
             "endlinecolor": "#2a3f5f",
             "gridcolor": "white",
             "linecolor": "white",
             "minorgridcolor": "white",
             "startlinecolor": "#2a3f5f"
            },
            "type": "carpet"
           }
          ],
          "choropleth": [
           {
            "colorbar": {
             "outlinewidth": 0,
             "ticks": ""
            },
            "type": "choropleth"
           }
          ],
          "contour": [
           {
            "colorbar": {
             "outlinewidth": 0,
             "ticks": ""
            },
            "colorscale": [
             [
              0,
              "#0d0887"
             ],
             [
              0.1111111111111111,
              "#46039f"
             ],
             [
              0.2222222222222222,
              "#7201a8"
             ],
             [
              0.3333333333333333,
              "#9c179e"
             ],
             [
              0.4444444444444444,
              "#bd3786"
             ],
             [
              0.5555555555555556,
              "#d8576b"
             ],
             [
              0.6666666666666666,
              "#ed7953"
             ],
             [
              0.7777777777777778,
              "#fb9f3a"
             ],
             [
              0.8888888888888888,
              "#fdca26"
             ],
             [
              1,
              "#f0f921"
             ]
            ],
            "type": "contour"
           }
          ],
          "contourcarpet": [
           {
            "colorbar": {
             "outlinewidth": 0,
             "ticks": ""
            },
            "type": "contourcarpet"
           }
          ],
          "heatmap": [
           {
            "colorbar": {
             "outlinewidth": 0,
             "ticks": ""
            },
            "colorscale": [
             [
              0,
              "#0d0887"
             ],
             [
              0.1111111111111111,
              "#46039f"
             ],
             [
              0.2222222222222222,
              "#7201a8"
             ],
             [
              0.3333333333333333,
              "#9c179e"
             ],
             [
              0.4444444444444444,
              "#bd3786"
             ],
             [
              0.5555555555555556,
              "#d8576b"
             ],
             [
              0.6666666666666666,
              "#ed7953"
             ],
             [
              0.7777777777777778,
              "#fb9f3a"
             ],
             [
              0.8888888888888888,
              "#fdca26"
             ],
             [
              1,
              "#f0f921"
             ]
            ],
            "type": "heatmap"
           }
          ],
          "heatmapgl": [
           {
            "colorbar": {
             "outlinewidth": 0,
             "ticks": ""
            },
            "colorscale": [
             [
              0,
              "#0d0887"
             ],
             [
              0.1111111111111111,
              "#46039f"
             ],
             [
              0.2222222222222222,
              "#7201a8"
             ],
             [
              0.3333333333333333,
              "#9c179e"
             ],
             [
              0.4444444444444444,
              "#bd3786"
             ],
             [
              0.5555555555555556,
              "#d8576b"
             ],
             [
              0.6666666666666666,
              "#ed7953"
             ],
             [
              0.7777777777777778,
              "#fb9f3a"
             ],
             [
              0.8888888888888888,
              "#fdca26"
             ],
             [
              1,
              "#f0f921"
             ]
            ],
            "type": "heatmapgl"
           }
          ],
          "histogram": [
           {
            "marker": {
             "pattern": {
              "fillmode": "overlay",
              "size": 10,
              "solidity": 0.2
             }
            },
            "type": "histogram"
           }
          ],
          "histogram2d": [
           {
            "colorbar": {
             "outlinewidth": 0,
             "ticks": ""
            },
            "colorscale": [
             [
              0,
              "#0d0887"
             ],
             [
              0.1111111111111111,
              "#46039f"
             ],
             [
              0.2222222222222222,
              "#7201a8"
             ],
             [
              0.3333333333333333,
              "#9c179e"
             ],
             [
              0.4444444444444444,
              "#bd3786"
             ],
             [
              0.5555555555555556,
              "#d8576b"
             ],
             [
              0.6666666666666666,
              "#ed7953"
             ],
             [
              0.7777777777777778,
              "#fb9f3a"
             ],
             [
              0.8888888888888888,
              "#fdca26"
             ],
             [
              1,
              "#f0f921"
             ]
            ],
            "type": "histogram2d"
           }
          ],
          "histogram2dcontour": [
           {
            "colorbar": {
             "outlinewidth": 0,
             "ticks": ""
            },
            "colorscale": [
             [
              0,
              "#0d0887"
             ],
             [
              0.1111111111111111,
              "#46039f"
             ],
             [
              0.2222222222222222,
              "#7201a8"
             ],
             [
              0.3333333333333333,
              "#9c179e"
             ],
             [
              0.4444444444444444,
              "#bd3786"
             ],
             [
              0.5555555555555556,
              "#d8576b"
             ],
             [
              0.6666666666666666,
              "#ed7953"
             ],
             [
              0.7777777777777778,
              "#fb9f3a"
             ],
             [
              0.8888888888888888,
              "#fdca26"
             ],
             [
              1,
              "#f0f921"
             ]
            ],
            "type": "histogram2dcontour"
           }
          ],
          "mesh3d": [
           {
            "colorbar": {
             "outlinewidth": 0,
             "ticks": ""
            },
            "type": "mesh3d"
           }
          ],
          "parcoords": [
           {
            "line": {
             "colorbar": {
              "outlinewidth": 0,
              "ticks": ""
             }
            },
            "type": "parcoords"
           }
          ],
          "pie": [
           {
            "automargin": true,
            "type": "pie"
           }
          ],
          "scatter": [
           {
            "fillpattern": {
             "fillmode": "overlay",
             "size": 10,
             "solidity": 0.2
            },
            "type": "scatter"
           }
          ],
          "scatter3d": [
           {
            "line": {
             "colorbar": {
              "outlinewidth": 0,
              "ticks": ""
             }
            },
            "marker": {
             "colorbar": {
              "outlinewidth": 0,
              "ticks": ""
             }
            },
            "type": "scatter3d"
           }
          ],
          "scattercarpet": [
           {
            "marker": {
             "colorbar": {
              "outlinewidth": 0,
              "ticks": ""
             }
            },
            "type": "scattercarpet"
           }
          ],
          "scattergeo": [
           {
            "marker": {
             "colorbar": {
              "outlinewidth": 0,
              "ticks": ""
             }
            },
            "type": "scattergeo"
           }
          ],
          "scattergl": [
           {
            "marker": {
             "colorbar": {
              "outlinewidth": 0,
              "ticks": ""
             }
            },
            "type": "scattergl"
           }
          ],
          "scattermapbox": [
           {
            "marker": {
             "colorbar": {
              "outlinewidth": 0,
              "ticks": ""
             }
            },
            "type": "scattermapbox"
           }
          ],
          "scatterpolar": [
           {
            "marker": {
             "colorbar": {
              "outlinewidth": 0,
              "ticks": ""
             }
            },
            "type": "scatterpolar"
           }
          ],
          "scatterpolargl": [
           {
            "marker": {
             "colorbar": {
              "outlinewidth": 0,
              "ticks": ""
             }
            },
            "type": "scatterpolargl"
           }
          ],
          "scatterternary": [
           {
            "marker": {
             "colorbar": {
              "outlinewidth": 0,
              "ticks": ""
             }
            },
            "type": "scatterternary"
           }
          ],
          "surface": [
           {
            "colorbar": {
             "outlinewidth": 0,
             "ticks": ""
            },
            "colorscale": [
             [
              0,
              "#0d0887"
             ],
             [
              0.1111111111111111,
              "#46039f"
             ],
             [
              0.2222222222222222,
              "#7201a8"
             ],
             [
              0.3333333333333333,
              "#9c179e"
             ],
             [
              0.4444444444444444,
              "#bd3786"
             ],
             [
              0.5555555555555556,
              "#d8576b"
             ],
             [
              0.6666666666666666,
              "#ed7953"
             ],
             [
              0.7777777777777778,
              "#fb9f3a"
             ],
             [
              0.8888888888888888,
              "#fdca26"
             ],
             [
              1,
              "#f0f921"
             ]
            ],
            "type": "surface"
           }
          ],
          "table": [
           {
            "cells": {
             "fill": {
              "color": "#EBF0F8"
             },
             "line": {
              "color": "white"
             }
            },
            "header": {
             "fill": {
              "color": "#C8D4E3"
             },
             "line": {
              "color": "white"
             }
            },
            "type": "table"
           }
          ]
         },
         "layout": {
          "annotationdefaults": {
           "arrowcolor": "#2a3f5f",
           "arrowhead": 0,
           "arrowwidth": 1
          },
          "autotypenumbers": "strict",
          "coloraxis": {
           "colorbar": {
            "outlinewidth": 0,
            "ticks": ""
           }
          },
          "colorscale": {
           "diverging": [
            [
             0,
             "#8e0152"
            ],
            [
             0.1,
             "#c51b7d"
            ],
            [
             0.2,
             "#de77ae"
            ],
            [
             0.3,
             "#f1b6da"
            ],
            [
             0.4,
             "#fde0ef"
            ],
            [
             0.5,
             "#f7f7f7"
            ],
            [
             0.6,
             "#e6f5d0"
            ],
            [
             0.7,
             "#b8e186"
            ],
            [
             0.8,
             "#7fbc41"
            ],
            [
             0.9,
             "#4d9221"
            ],
            [
             1,
             "#276419"
            ]
           ],
           "sequential": [
            [
             0,
             "#0d0887"
            ],
            [
             0.1111111111111111,
             "#46039f"
            ],
            [
             0.2222222222222222,
             "#7201a8"
            ],
            [
             0.3333333333333333,
             "#9c179e"
            ],
            [
             0.4444444444444444,
             "#bd3786"
            ],
            [
             0.5555555555555556,
             "#d8576b"
            ],
            [
             0.6666666666666666,
             "#ed7953"
            ],
            [
             0.7777777777777778,
             "#fb9f3a"
            ],
            [
             0.8888888888888888,
             "#fdca26"
            ],
            [
             1,
             "#f0f921"
            ]
           ],
           "sequentialminus": [
            [
             0,
             "#0d0887"
            ],
            [
             0.1111111111111111,
             "#46039f"
            ],
            [
             0.2222222222222222,
             "#7201a8"
            ],
            [
             0.3333333333333333,
             "#9c179e"
            ],
            [
             0.4444444444444444,
             "#bd3786"
            ],
            [
             0.5555555555555556,
             "#d8576b"
            ],
            [
             0.6666666666666666,
             "#ed7953"
            ],
            [
             0.7777777777777778,
             "#fb9f3a"
            ],
            [
             0.8888888888888888,
             "#fdca26"
            ],
            [
             1,
             "#f0f921"
            ]
           ]
          },
          "colorway": [
           "#636efa",
           "#EF553B",
           "#00cc96",
           "#ab63fa",
           "#FFA15A",
           "#19d3f3",
           "#FF6692",
           "#B6E880",
           "#FF97FF",
           "#FECB52"
          ],
          "font": {
           "color": "#2a3f5f"
          },
          "geo": {
           "bgcolor": "white",
           "lakecolor": "white",
           "landcolor": "#E5ECF6",
           "showlakes": true,
           "showland": true,
           "subunitcolor": "white"
          },
          "hoverlabel": {
           "align": "left"
          },
          "hovermode": "closest",
          "mapbox": {
           "style": "light"
          },
          "paper_bgcolor": "white",
          "plot_bgcolor": "#E5ECF6",
          "polar": {
           "angularaxis": {
            "gridcolor": "white",
            "linecolor": "white",
            "ticks": ""
           },
           "bgcolor": "#E5ECF6",
           "radialaxis": {
            "gridcolor": "white",
            "linecolor": "white",
            "ticks": ""
           }
          },
          "scene": {
           "xaxis": {
            "backgroundcolor": "#E5ECF6",
            "gridcolor": "white",
            "gridwidth": 2,
            "linecolor": "white",
            "showbackground": true,
            "ticks": "",
            "zerolinecolor": "white"
           },
           "yaxis": {
            "backgroundcolor": "#E5ECF6",
            "gridcolor": "white",
            "gridwidth": 2,
            "linecolor": "white",
            "showbackground": true,
            "ticks": "",
            "zerolinecolor": "white"
           },
           "zaxis": {
            "backgroundcolor": "#E5ECF6",
            "gridcolor": "white",
            "gridwidth": 2,
            "linecolor": "white",
            "showbackground": true,
            "ticks": "",
            "zerolinecolor": "white"
           }
          },
          "shapedefaults": {
           "line": {
            "color": "#2a3f5f"
           }
          },
          "ternary": {
           "aaxis": {
            "gridcolor": "white",
            "linecolor": "white",
            "ticks": ""
           },
           "baxis": {
            "gridcolor": "white",
            "linecolor": "white",
            "ticks": ""
           },
           "bgcolor": "#E5ECF6",
           "caxis": {
            "gridcolor": "white",
            "linecolor": "white",
            "ticks": ""
           }
          },
          "title": {
           "x": 0.05
          },
          "xaxis": {
           "automargin": true,
           "gridcolor": "white",
           "linecolor": "white",
           "ticks": "",
           "title": {
            "standoff": 15
           },
           "zerolinecolor": "white",
           "zerolinewidth": 2
          },
          "yaxis": {
           "automargin": true,
           "gridcolor": "white",
           "linecolor": "white",
           "ticks": "",
           "title": {
            "standoff": 15
           },
           "zerolinecolor": "white",
           "zerolinewidth": 2
          }
         }
        },
        "title": {
         "text": "none treemap"
        }
       }
      }
     },
     "metadata": {},
     "output_type": "display_data"
    }
   ],
   "source": [
    "data_graph_none = [{'key': key, 'percentage': percentage} for key, percentage in percentages.items()]\n",
    "df = pd.DataFrame(data_graph_none)\n",
    "fig = px.treemap(df, path=['key'], values='percentage',\n",
    "                 color='percentage', color_continuous_scale='Magma',\n",
    "                 title='none treemap')\n",
    "fig.update_layout(\n",
    "    paper_bgcolor='black',  \n",
    "    plot_bgcolor='black',   \n",
    "    font_color='white'      \n",
    ")\n",
    "fig.show()"
   ]
  },
  {
   "cell_type": "markdown",
   "metadata": {},
   "source": [
    "# ECOSCORE NULL:"
   ]
  },
  {
   "cell_type": "code",
   "execution_count": 35,
   "metadata": {},
   "outputs": [],
   "source": [
    "def count_specific_values(jsonl_file_path):\n",
    "    counts = {\n",
    "        'ecoscore_groups': {'z': 0},\n",
    "        'ecoscore_note': {999: 0}\n",
    "    }\n",
    "    total_counts = {\n",
    "        'ecoscore_groups': 0,\n",
    "        'ecoscore_note': 0\n",
    "    }\n",
    "    with open(jsonl_file_path, 'r') as file:\n",
    "        for line in file:\n",
    "            data = json.loads(line)\n",
    "            for key, value in data.items():\n",
    "                if key in counts:\n",
    "                    total_counts[key] += 1\n",
    "                    if key == 'ecoscore_groups' and value == 'z':\n",
    "                        counts[key]['z'] += 1\n",
    "                    if key == 'ecoscore_note' and value == 999:\n",
    "                        counts[key][999] += 1\n",
    "    return counts, total_counts\n",
    "\n",
    "def calculate_percentage(count, total):\n",
    "    if total > 0:\n",
    "        percentage = (count / total) * 100\n",
    "    else:\n",
    "        percentage = 0\n",
    "    return percentage\n",
    "\n",
    "counts, total_counts = count_specific_values(jsonl_02)\n",
    "\n",
    "z_percentage = calculate_percentage(counts['ecoscore_groups']['z'], total_counts['ecoscore_groups'])\n",
    "number_999 = counts['ecoscore_note'][999]\n",
    "number_999_percentage = calculate_percentage(number_999, total_counts['ecoscore_note'])\n",
    "\n",
    "labels = ['Ecoscore Groups (z)', 'Ecoscore Note (999)']\n",
    "values = [z_percentage, number_999_percentage]\n",
    "counts_values = [counts['ecoscore_groups']['z'], counts['ecoscore_note'][999]]"
   ]
  },
  {
   "cell_type": "code",
   "execution_count": 36,
   "metadata": {},
   "outputs": [
    {
     "data": {
      "application/vnd.plotly.v1+json": {
       "config": {
        "plotlyServerURL": "https://plot.ly"
       },
       "data": [
        {
         "name": "Pourcentage",
         "text": [
          "74.62%",
          "74.62%"
         ],
         "textposition": "auto",
         "type": "bar",
         "x": [
          "Ecoscore Groups (z)",
          "Ecoscore Note (999)"
         ],
         "y": [
          74.61745109633023,
          74.61745109633023
         ]
        },
        {
         "name": "Nombre",
         "text": [
          "2371215",
          "2371215"
         ],
         "textposition": "auto",
         "type": "bar",
         "x": [
          "Ecoscore Groups (z)",
          "Ecoscore Note (999)"
         ],
         "y": [
          2371215,
          2371215
         ]
        }
       ],
       "layout": {
        "barmode": "group",
        "template": {
         "data": {
          "bar": [
           {
            "error_x": {
             "color": "#2a3f5f"
            },
            "error_y": {
             "color": "#2a3f5f"
            },
            "marker": {
             "line": {
              "color": "#E5ECF6",
              "width": 0.5
             },
             "pattern": {
              "fillmode": "overlay",
              "size": 10,
              "solidity": 0.2
             }
            },
            "type": "bar"
           }
          ],
          "barpolar": [
           {
            "marker": {
             "line": {
              "color": "#E5ECF6",
              "width": 0.5
             },
             "pattern": {
              "fillmode": "overlay",
              "size": 10,
              "solidity": 0.2
             }
            },
            "type": "barpolar"
           }
          ],
          "carpet": [
           {
            "aaxis": {
             "endlinecolor": "#2a3f5f",
             "gridcolor": "white",
             "linecolor": "white",
             "minorgridcolor": "white",
             "startlinecolor": "#2a3f5f"
            },
            "baxis": {
             "endlinecolor": "#2a3f5f",
             "gridcolor": "white",
             "linecolor": "white",
             "minorgridcolor": "white",
             "startlinecolor": "#2a3f5f"
            },
            "type": "carpet"
           }
          ],
          "choropleth": [
           {
            "colorbar": {
             "outlinewidth": 0,
             "ticks": ""
            },
            "type": "choropleth"
           }
          ],
          "contour": [
           {
            "colorbar": {
             "outlinewidth": 0,
             "ticks": ""
            },
            "colorscale": [
             [
              0,
              "#0d0887"
             ],
             [
              0.1111111111111111,
              "#46039f"
             ],
             [
              0.2222222222222222,
              "#7201a8"
             ],
             [
              0.3333333333333333,
              "#9c179e"
             ],
             [
              0.4444444444444444,
              "#bd3786"
             ],
             [
              0.5555555555555556,
              "#d8576b"
             ],
             [
              0.6666666666666666,
              "#ed7953"
             ],
             [
              0.7777777777777778,
              "#fb9f3a"
             ],
             [
              0.8888888888888888,
              "#fdca26"
             ],
             [
              1,
              "#f0f921"
             ]
            ],
            "type": "contour"
           }
          ],
          "contourcarpet": [
           {
            "colorbar": {
             "outlinewidth": 0,
             "ticks": ""
            },
            "type": "contourcarpet"
           }
          ],
          "heatmap": [
           {
            "colorbar": {
             "outlinewidth": 0,
             "ticks": ""
            },
            "colorscale": [
             [
              0,
              "#0d0887"
             ],
             [
              0.1111111111111111,
              "#46039f"
             ],
             [
              0.2222222222222222,
              "#7201a8"
             ],
             [
              0.3333333333333333,
              "#9c179e"
             ],
             [
              0.4444444444444444,
              "#bd3786"
             ],
             [
              0.5555555555555556,
              "#d8576b"
             ],
             [
              0.6666666666666666,
              "#ed7953"
             ],
             [
              0.7777777777777778,
              "#fb9f3a"
             ],
             [
              0.8888888888888888,
              "#fdca26"
             ],
             [
              1,
              "#f0f921"
             ]
            ],
            "type": "heatmap"
           }
          ],
          "heatmapgl": [
           {
            "colorbar": {
             "outlinewidth": 0,
             "ticks": ""
            },
            "colorscale": [
             [
              0,
              "#0d0887"
             ],
             [
              0.1111111111111111,
              "#46039f"
             ],
             [
              0.2222222222222222,
              "#7201a8"
             ],
             [
              0.3333333333333333,
              "#9c179e"
             ],
             [
              0.4444444444444444,
              "#bd3786"
             ],
             [
              0.5555555555555556,
              "#d8576b"
             ],
             [
              0.6666666666666666,
              "#ed7953"
             ],
             [
              0.7777777777777778,
              "#fb9f3a"
             ],
             [
              0.8888888888888888,
              "#fdca26"
             ],
             [
              1,
              "#f0f921"
             ]
            ],
            "type": "heatmapgl"
           }
          ],
          "histogram": [
           {
            "marker": {
             "pattern": {
              "fillmode": "overlay",
              "size": 10,
              "solidity": 0.2
             }
            },
            "type": "histogram"
           }
          ],
          "histogram2d": [
           {
            "colorbar": {
             "outlinewidth": 0,
             "ticks": ""
            },
            "colorscale": [
             [
              0,
              "#0d0887"
             ],
             [
              0.1111111111111111,
              "#46039f"
             ],
             [
              0.2222222222222222,
              "#7201a8"
             ],
             [
              0.3333333333333333,
              "#9c179e"
             ],
             [
              0.4444444444444444,
              "#bd3786"
             ],
             [
              0.5555555555555556,
              "#d8576b"
             ],
             [
              0.6666666666666666,
              "#ed7953"
             ],
             [
              0.7777777777777778,
              "#fb9f3a"
             ],
             [
              0.8888888888888888,
              "#fdca26"
             ],
             [
              1,
              "#f0f921"
             ]
            ],
            "type": "histogram2d"
           }
          ],
          "histogram2dcontour": [
           {
            "colorbar": {
             "outlinewidth": 0,
             "ticks": ""
            },
            "colorscale": [
             [
              0,
              "#0d0887"
             ],
             [
              0.1111111111111111,
              "#46039f"
             ],
             [
              0.2222222222222222,
              "#7201a8"
             ],
             [
              0.3333333333333333,
              "#9c179e"
             ],
             [
              0.4444444444444444,
              "#bd3786"
             ],
             [
              0.5555555555555556,
              "#d8576b"
             ],
             [
              0.6666666666666666,
              "#ed7953"
             ],
             [
              0.7777777777777778,
              "#fb9f3a"
             ],
             [
              0.8888888888888888,
              "#fdca26"
             ],
             [
              1,
              "#f0f921"
             ]
            ],
            "type": "histogram2dcontour"
           }
          ],
          "mesh3d": [
           {
            "colorbar": {
             "outlinewidth": 0,
             "ticks": ""
            },
            "type": "mesh3d"
           }
          ],
          "parcoords": [
           {
            "line": {
             "colorbar": {
              "outlinewidth": 0,
              "ticks": ""
             }
            },
            "type": "parcoords"
           }
          ],
          "pie": [
           {
            "automargin": true,
            "type": "pie"
           }
          ],
          "scatter": [
           {
            "fillpattern": {
             "fillmode": "overlay",
             "size": 10,
             "solidity": 0.2
            },
            "type": "scatter"
           }
          ],
          "scatter3d": [
           {
            "line": {
             "colorbar": {
              "outlinewidth": 0,
              "ticks": ""
             }
            },
            "marker": {
             "colorbar": {
              "outlinewidth": 0,
              "ticks": ""
             }
            },
            "type": "scatter3d"
           }
          ],
          "scattercarpet": [
           {
            "marker": {
             "colorbar": {
              "outlinewidth": 0,
              "ticks": ""
             }
            },
            "type": "scattercarpet"
           }
          ],
          "scattergeo": [
           {
            "marker": {
             "colorbar": {
              "outlinewidth": 0,
              "ticks": ""
             }
            },
            "type": "scattergeo"
           }
          ],
          "scattergl": [
           {
            "marker": {
             "colorbar": {
              "outlinewidth": 0,
              "ticks": ""
             }
            },
            "type": "scattergl"
           }
          ],
          "scattermapbox": [
           {
            "marker": {
             "colorbar": {
              "outlinewidth": 0,
              "ticks": ""
             }
            },
            "type": "scattermapbox"
           }
          ],
          "scatterpolar": [
           {
            "marker": {
             "colorbar": {
              "outlinewidth": 0,
              "ticks": ""
             }
            },
            "type": "scatterpolar"
           }
          ],
          "scatterpolargl": [
           {
            "marker": {
             "colorbar": {
              "outlinewidth": 0,
              "ticks": ""
             }
            },
            "type": "scatterpolargl"
           }
          ],
          "scatterternary": [
           {
            "marker": {
             "colorbar": {
              "outlinewidth": 0,
              "ticks": ""
             }
            },
            "type": "scatterternary"
           }
          ],
          "surface": [
           {
            "colorbar": {
             "outlinewidth": 0,
             "ticks": ""
            },
            "colorscale": [
             [
              0,
              "#0d0887"
             ],
             [
              0.1111111111111111,
              "#46039f"
             ],
             [
              0.2222222222222222,
              "#7201a8"
             ],
             [
              0.3333333333333333,
              "#9c179e"
             ],
             [
              0.4444444444444444,
              "#bd3786"
             ],
             [
              0.5555555555555556,
              "#d8576b"
             ],
             [
              0.6666666666666666,
              "#ed7953"
             ],
             [
              0.7777777777777778,
              "#fb9f3a"
             ],
             [
              0.8888888888888888,
              "#fdca26"
             ],
             [
              1,
              "#f0f921"
             ]
            ],
            "type": "surface"
           }
          ],
          "table": [
           {
            "cells": {
             "fill": {
              "color": "#EBF0F8"
             },
             "line": {
              "color": "white"
             }
            },
            "header": {
             "fill": {
              "color": "#C8D4E3"
             },
             "line": {
              "color": "white"
             }
            },
            "type": "table"
           }
          ]
         },
         "layout": {
          "annotationdefaults": {
           "arrowcolor": "#2a3f5f",
           "arrowhead": 0,
           "arrowwidth": 1
          },
          "autotypenumbers": "strict",
          "coloraxis": {
           "colorbar": {
            "outlinewidth": 0,
            "ticks": ""
           }
          },
          "colorscale": {
           "diverging": [
            [
             0,
             "#8e0152"
            ],
            [
             0.1,
             "#c51b7d"
            ],
            [
             0.2,
             "#de77ae"
            ],
            [
             0.3,
             "#f1b6da"
            ],
            [
             0.4,
             "#fde0ef"
            ],
            [
             0.5,
             "#f7f7f7"
            ],
            [
             0.6,
             "#e6f5d0"
            ],
            [
             0.7,
             "#b8e186"
            ],
            [
             0.8,
             "#7fbc41"
            ],
            [
             0.9,
             "#4d9221"
            ],
            [
             1,
             "#276419"
            ]
           ],
           "sequential": [
            [
             0,
             "#0d0887"
            ],
            [
             0.1111111111111111,
             "#46039f"
            ],
            [
             0.2222222222222222,
             "#7201a8"
            ],
            [
             0.3333333333333333,
             "#9c179e"
            ],
            [
             0.4444444444444444,
             "#bd3786"
            ],
            [
             0.5555555555555556,
             "#d8576b"
            ],
            [
             0.6666666666666666,
             "#ed7953"
            ],
            [
             0.7777777777777778,
             "#fb9f3a"
            ],
            [
             0.8888888888888888,
             "#fdca26"
            ],
            [
             1,
             "#f0f921"
            ]
           ],
           "sequentialminus": [
            [
             0,
             "#0d0887"
            ],
            [
             0.1111111111111111,
             "#46039f"
            ],
            [
             0.2222222222222222,
             "#7201a8"
            ],
            [
             0.3333333333333333,
             "#9c179e"
            ],
            [
             0.4444444444444444,
             "#bd3786"
            ],
            [
             0.5555555555555556,
             "#d8576b"
            ],
            [
             0.6666666666666666,
             "#ed7953"
            ],
            [
             0.7777777777777778,
             "#fb9f3a"
            ],
            [
             0.8888888888888888,
             "#fdca26"
            ],
            [
             1,
             "#f0f921"
            ]
           ]
          },
          "colorway": [
           "#636efa",
           "#EF553B",
           "#00cc96",
           "#ab63fa",
           "#FFA15A",
           "#19d3f3",
           "#FF6692",
           "#B6E880",
           "#FF97FF",
           "#FECB52"
          ],
          "font": {
           "color": "#2a3f5f"
          },
          "geo": {
           "bgcolor": "white",
           "lakecolor": "white",
           "landcolor": "#E5ECF6",
           "showlakes": true,
           "showland": true,
           "subunitcolor": "white"
          },
          "hoverlabel": {
           "align": "left"
          },
          "hovermode": "closest",
          "mapbox": {
           "style": "light"
          },
          "paper_bgcolor": "white",
          "plot_bgcolor": "#E5ECF6",
          "polar": {
           "angularaxis": {
            "gridcolor": "white",
            "linecolor": "white",
            "ticks": ""
           },
           "bgcolor": "#E5ECF6",
           "radialaxis": {
            "gridcolor": "white",
            "linecolor": "white",
            "ticks": ""
           }
          },
          "scene": {
           "xaxis": {
            "backgroundcolor": "#E5ECF6",
            "gridcolor": "white",
            "gridwidth": 2,
            "linecolor": "white",
            "showbackground": true,
            "ticks": "",
            "zerolinecolor": "white"
           },
           "yaxis": {
            "backgroundcolor": "#E5ECF6",
            "gridcolor": "white",
            "gridwidth": 2,
            "linecolor": "white",
            "showbackground": true,
            "ticks": "",
            "zerolinecolor": "white"
           },
           "zaxis": {
            "backgroundcolor": "#E5ECF6",
            "gridcolor": "white",
            "gridwidth": 2,
            "linecolor": "white",
            "showbackground": true,
            "ticks": "",
            "zerolinecolor": "white"
           }
          },
          "shapedefaults": {
           "line": {
            "color": "#2a3f5f"
           }
          },
          "ternary": {
           "aaxis": {
            "gridcolor": "white",
            "linecolor": "white",
            "ticks": ""
           },
           "baxis": {
            "gridcolor": "white",
            "linecolor": "white",
            "ticks": ""
           },
           "bgcolor": "#E5ECF6",
           "caxis": {
            "gridcolor": "white",
            "linecolor": "white",
            "ticks": ""
           }
          },
          "title": {
           "x": 0.05
          },
          "xaxis": {
           "automargin": true,
           "gridcolor": "white",
           "linecolor": "white",
           "ticks": "",
           "title": {
            "standoff": 15
           },
           "zerolinecolor": "white",
           "zerolinewidth": 2
          },
          "yaxis": {
           "automargin": true,
           "gridcolor": "white",
           "linecolor": "white",
           "ticks": "",
           "title": {
            "standoff": 15
           },
           "zerolinecolor": "white",
           "zerolinewidth": 2
          }
         }
        },
        "title": {
         "text": "percentage empty data ecoscore group and grad"
        },
        "xaxis": {
         "title": {
          "text": "Catégories"
         }
        },
        "yaxis": {
         "title": {
          "text": "Valeurs"
         }
        }
       }
      }
     },
     "metadata": {},
     "output_type": "display_data"
    }
   ],
   "source": [
    "fig = go.Figure()\n",
    "fig.add_trace(go.Bar(\n",
    "    x=labels,\n",
    "    y=values,\n",
    "    name='Pourcentage',\n",
    "    text=[f'{v:.2f}%' for v in values],\n",
    "    textposition='auto'\n",
    "))\n",
    "fig.add_trace(go.Bar(\n",
    "    x=labels,\n",
    "    y=counts_values,\n",
    "    name='Nombre',\n",
    "    text=[str(v) for v in counts_values],\n",
    "    textposition='auto'\n",
    "))\n",
    "fig.update_layout(\n",
    "    title='percentage empty data ecoscore group and grad',\n",
    "    xaxis_title='Catégories',\n",
    "    yaxis_title='Valeurs',\n",
    "    barmode='group'\n",
    ")\n",
    "fig.show()"
   ]
  },
  {
   "cell_type": "markdown",
   "metadata": {},
   "source": [
    "# TOTAL ARTICLES NUMBER:"
   ]
  },
  {
   "cell_type": "code",
   "execution_count": 37,
   "metadata": {},
   "outputs": [
    {
     "name": "stdout",
     "output_type": "stream",
     "text": [
      "total product number: 3177829\n"
     ]
    }
   ],
   "source": [
    "print(f\"total product number: {total_labels}\")"
   ]
  },
  {
   "cell_type": "markdown",
   "metadata": {},
   "source": [
    "# JSONL SAMPLE:"
   ]
  },
  {
   "cell_type": "code",
   "execution_count": 38,
   "metadata": {},
   "outputs": [
    {
     "data": {
      "text/html": [
       "<div>\n",
       "<style scoped>\n",
       "    .dataframe tbody tr th:only-of-type {\n",
       "        vertical-align: middle;\n",
       "    }\n",
       "\n",
       "    .dataframe tbody tr th {\n",
       "        vertical-align: top;\n",
       "    }\n",
       "\n",
       "    .dataframe thead th {\n",
       "        text-align: right;\n",
       "    }\n",
       "</style>\n",
       "<table border=\"1\" class=\"dataframe\">\n",
       "  <thead>\n",
       "    <tr style=\"text-align: right;\">\n",
       "      <th></th>\n",
       "      <th>groups</th>\n",
       "      <th>packaging</th>\n",
       "      <th>name</th>\n",
       "      <th>ecoscore_groups</th>\n",
       "      <th>ecoscore_note</th>\n",
       "      <th>code</th>\n",
       "      <th>countries</th>\n",
       "      <th>ingredients</th>\n",
       "      <th>categories</th>\n",
       "      <th>labels_note</th>\n",
       "    </tr>\n",
       "  </thead>\n",
       "  <tbody>\n",
       "    <tr>\n",
       "      <th>0</th>\n",
       "      <td>None</td>\n",
       "      <td>none</td>\n",
       "      <td>kroger, potato salad</td>\n",
       "      <td>z</td>\n",
       "      <td>999</td>\n",
       "      <td>11110991881</td>\n",
       "      <td>united states</td>\n",
       "      <td>potato, vegetable, root-vegetable, tuber, mayonnaise, sauce, water, mustard, onion, onion-family-vegetable, sugar, added-sugar, disaccharide, contains-2-and-less-of, carrot, taproot-vegetable, bell-pepper, fruit-vegetable, celery, stalk-vegetable, salt, soya-oil, oil-and-fat, vegetable-oil-and-fat, vegetable-oil, wheat-germ, cereal, wheat, high-fructose-corn-syrup, monosaccharide, fructose, glucose, corn-syrup, glucose-fructose-syrup, e301, e300, e415, lactic-and-acetic-acids, e330, e435, natural-flavouring, flavouring, e325, spice, condiment, e160ai, e160a, turmeric, e385, e202, soybean-oil-vinegar, egg-yolk, egg, distilled-vinegar, vinegar, mustard-seed, colour, preservative</td>\n",
       "      <td>salted-snacks</td>\n",
       "      <td>0</td>\n",
       "    </tr>\n",
       "    <tr>\n",
       "      <th>1</th>\n",
       "      <td>milk and dairy products</td>\n",
       "      <td>none</td>\n",
       "      <td>crystal farms, fat free american cheese</td>\n",
       "      <td>d</td>\n",
       "      <td>34</td>\n",
       "      <td>75925286006</td>\n",
       "      <td>united states</td>\n",
       "      <td>skim-milk-cheese, water, whey, dairy, milk-protein-concentrate-buttermilk, sodium-citrate, minerals, sodium, sugar, added-sugar, disaccharide, maltodextrin, salt, e200, e407, annatto-and-b-apo-8-carotenal, pasteurized-skim-milk-cheese-culture, enzyme, preservative, colour</td>\n",
       "      <td>dairies, fermented-foods, fermented-milk-products, cheeses</td>\n",
       "      <td>0</td>\n",
       "    </tr>\n",
       "    <tr>\n",
       "      <th>2</th>\n",
       "      <td>fruits and vegetables</td>\n",
       "      <td>none</td>\n",
       "      <td>cut corn</td>\n",
       "      <td>z</td>\n",
       "      <td>999</td>\n",
       "      <td>78742110301</td>\n",
       "      <td>united states</td>\n",
       "      <td>corn, cereal</td>\n",
       "      <td>plant-based-foods-and-beverages, plant-based-foods, fruits-and-vegetables-based-foods, vegetables-based-foods, frozen-foods, frozen-plant-based-foods, frozen-vegetables</td>\n",
       "      <td>0</td>\n",
       "    </tr>\n",
       "    <tr>\n",
       "      <th>3</th>\n",
       "      <td>cereals and potatoes</td>\n",
       "      <td>none</td>\n",
       "      <td>enriched macaroni product, fettuccini pasta</td>\n",
       "      <td>z</td>\n",
       "      <td>999</td>\n",
       "      <td>92825104957</td>\n",
       "      <td>united states</td>\n",
       "      <td>durum-wheat-semolina, cereal, wheat, durum-wheat, semolina, iron, minerals, b-vitamins, e375, thiamin-mononitrate, thiamin, e101, folic-acid, folate, ferrous-sulfate</td>\n",
       "      <td>plant-based-foods-and-beverages, plant-based-foods, cereals-and-potatoes, cereals-and-their-products, pastas</td>\n",
       "      <td>0</td>\n",
       "    </tr>\n",
       "    <tr>\n",
       "      <th>4</th>\n",
       "      <td>fish meat eggs</td>\n",
       "      <td>sous-vide</td>\n",
       "      <td>barbecue ribs original</td>\n",
       "      <td>e</td>\n",
       "      <td>7</td>\n",
       "      <td>20639037</td>\n",
       "      <td>france</td>\n",
       "      <td>intercostal-meat-from-pork-loin, salt, sugar, added-sugar, disaccharide, sunflower-oil, oil-and-fat, vegetable-oil-and-fat, vegetable-oil, spice, condiment, dehydrated-aromatic-plants, smoke-flavouring, flavouring, natural-flavouring, possible-mustard-traces</td>\n",
       "      <td>meats-and-their-products, beef-and-its-products, meats, beef, pork-and-its-products, pork, beef-short-ribs</td>\n",
       "      <td>2</td>\n",
       "    </tr>\n",
       "    <tr>\n",
       "      <th>5</th>\n",
       "      <td>fruits and vegetables</td>\n",
       "      <td>plastique, bouchon de bouteille, film, flacon, bouchon de bouteille de vin</td>\n",
       "      <td>ail semoule</td>\n",
       "      <td>a</td>\n",
       "      <td>80</td>\n",
       "      <td>20864828</td>\n",
       "      <td>france</td>\n",
       "      <td>dried-garlic, vegetable, root-vegetable, onion-family-vegetable, garlic</td>\n",
       "      <td>plant-based-foods-and-beverages, plant-based-foods, fruits-and-vegetables-based-foods, condiments, vegetables-based-foods, culinary-plants, dried-products, dried-plant-based-foods, garlic-and-their-products, garlic, ground-dried-vegetables, garlic-powder, groceries</td>\n",
       "      <td>1</td>\n",
       "    </tr>\n",
       "    <tr>\n",
       "      <th>6</th>\n",
       "      <td>None</td>\n",
       "      <td>none</td>\n",
       "      <td>le caramel poire pointe de sel</td>\n",
       "      <td>z</td>\n",
       "      <td>999</td>\n",
       "      <td>3291810769967</td>\n",
       "      <td>france</td>\n",
       "      <td>sugar, added-sugar, disaccharide, cream, dairy, pear, fruit, water, egg-white, egg, e150, wheat-flour, cereal, flour, wheat, cereal-flour, glucose-syrup, monosaccharide, glucose, whole-milk-powder, milk-powder, modified-starch, starch, gelling-agent, milk-chocolate, chocolate, butter, stabiliser, non-hydrogenated-sunflower-oil, oil-and-fat, vegetable-oil-and-fat, vegetable-oil, sunflower-oil, colour, glucose-fructose-syrup, fructose, emulsifier, e407, e160c, e330, soya-lecithin, e322, e322i</td>\n",
       "      <td>None</td>\n",
       "      <td>0</td>\n",
       "    </tr>\n",
       "    <tr>\n",
       "      <th>7</th>\n",
       "      <td>None</td>\n",
       "      <td>none</td>\n",
       "      <td>mousseline de carottes a la crème fraîche et au beurre</td>\n",
       "      <td>z</td>\n",
       "      <td>999</td>\n",
       "      <td>3700428484235</td>\n",
       "      <td>france</td>\n",
       "      <td>None</td>\n",
       "      <td>None</td>\n",
       "      <td>0</td>\n",
       "    </tr>\n",
       "    <tr>\n",
       "      <th>8</th>\n",
       "      <td>cereals and potatoes</td>\n",
       "      <td>none</td>\n",
       "      <td>extra original</td>\n",
       "      <td>c</td>\n",
       "      <td>59</td>\n",
       "      <td>5053827187466</td>\n",
       "      <td>france, none, none</td>\n",
       "      <td>whole-grain-oat-flakes, cereal, oat, oat-flakes, sugar, added-sugar, disaccharide, palm-oil, oil-and-fat, vegetable-oil-and-fat, palm-oil-and-fat, wheat-flour, flour, wheat, cereal-flour, desiccated-coconut, fruit, coconut, molasses, salt, barley-malt-extract, malt, malted-barley, cinnamon, condiment, spice</td>\n",
       "      <td>plant-based-foods-and-beverages, plant-based-foods, breakfasts, cereals-and-potatoes, cereals-and-their-products, breakfast-cereals, mueslis</td>\n",
       "      <td>3</td>\n",
       "    </tr>\n",
       "    <tr>\n",
       "      <th>9</th>\n",
       "      <td>sugary snacks</td>\n",
       "      <td>none</td>\n",
       "      <td>amandes pralinés gianduja</td>\n",
       "      <td>d</td>\n",
       "      <td>22</td>\n",
       "      <td>3489811229126</td>\n",
       "      <td>france</td>\n",
       "      <td>None</td>\n",
       "      <td>snacks, sweet-snacks, cocoa-and-its-products, confectioneries, chocolate-candies, bonbons, chocolate-covered-nuts, chocolate-covered-almonds</td>\n",
       "      <td>0</td>\n",
       "    </tr>\n",
       "    <tr>\n",
       "      <th>10</th>\n",
       "      <td>milk and dairy products</td>\n",
       "      <td>none</td>\n",
       "      <td>creme dessert cafe sans sucre</td>\n",
       "      <td>z</td>\n",
       "      <td>999</td>\n",
       "      <td>3551100163395</td>\n",
       "      <td>france</td>\n",
       "      <td>None</td>\n",
       "      <td>dairies, desserts, dairy-desserts, creamy-puddings, coffee-desserts</td>\n",
       "      <td>3</td>\n",
       "    </tr>\n",
       "    <tr>\n",
       "      <th>11</th>\n",
       "      <td>None</td>\n",
       "      <td>none</td>\n",
       "      <td>fibactiv complément alimentaire</td>\n",
       "      <td>z</td>\n",
       "      <td>999</td>\n",
       "      <td>3700695212838</td>\n",
       "      <td>france</td>\n",
       "      <td>None</td>\n",
       "      <td>None</td>\n",
       "      <td>0</td>\n",
       "    </tr>\n",
       "    <tr>\n",
       "      <th>12</th>\n",
       "      <td>fish meat eggs</td>\n",
       "      <td>tranche</td>\n",
       "      <td>le saumon sauvage de sibérie</td>\n",
       "      <td>e</td>\n",
       "      <td>9</td>\n",
       "      <td>3033610079842</td>\n",
       "      <td>france</td>\n",
       "      <td>None</td>\n",
       "      <td>seafood, fishes-and-their-products, fishes, fatty-fishes, salmons, smoked-fishes, smoked-salmons, wild-salmons, wild-smoked-salmons</td>\n",
       "      <td>0</td>\n",
       "    </tr>\n",
       "    <tr>\n",
       "      <th>13</th>\n",
       "      <td>None</td>\n",
       "      <td>none</td>\n",
       "      <td>jambon sans sel nitrité</td>\n",
       "      <td>z</td>\n",
       "      <td>999</td>\n",
       "      <td>2231304030907</td>\n",
       "      <td>france</td>\n",
       "      <td>None</td>\n",
       "      <td>None</td>\n",
       "      <td>2</td>\n",
       "    </tr>\n",
       "    <tr>\n",
       "      <th>14</th>\n",
       "      <td>None</td>\n",
       "      <td>none</td>\n",
       "      <td>duo de fruits</td>\n",
       "      <td>z</td>\n",
       "      <td>999</td>\n",
       "      <td>208035035497</td>\n",
       "      <td>france</td>\n",
       "      <td>None</td>\n",
       "      <td>None</td>\n",
       "      <td>2</td>\n",
       "    </tr>\n",
       "    <tr>\n",
       "      <th>15</th>\n",
       "      <td>sugary snacks</td>\n",
       "      <td>none</td>\n",
       "      <td>gaufrette crunchy fondante</td>\n",
       "      <td>c</td>\n",
       "      <td>47</td>\n",
       "      <td>3061990142849</td>\n",
       "      <td>france</td>\n",
       "      <td>sugar, added-sugar, disaccharide, wheat-flour, cereal, flour, wheat, cereal-flour, vegetable-fat, oil-and-fat, vegetable-oil-and-fat, hazelnut-paste, nut, tree-nut, hazelnut, whole-milk-powder, dairy, milk-powder, cocoa-butter, plant, cocoa, cocoa-paste, modified-corn-starch, starch, corn-starch, modified-starch, whey-powder, whey, emulsifier, salt, fat-reduced-cocoa-powder, cocoa-powder, skimmed-milk-powder, powdered-egg-white, egg, egg-white, raising-agent, flavouring, palm, palm-oil-and-fat, palm-oil, palm-kernel-oil, palm-kernel-oil-and-fat, e442, e476, soya-lecithin, e322, e322i, e503, e500</td>\n",
       "      <td>snacks, sweet-snacks, biscuits-and-cakes, biscuits, wafers, stuffed-wafers</td>\n",
       "      <td>0</td>\n",
       "    </tr>\n",
       "    <tr>\n",
       "      <th>16</th>\n",
       "      <td>fruits and vegetables</td>\n",
       "      <td>none</td>\n",
       "      <td>cebolla en polvo</td>\n",
       "      <td>z</td>\n",
       "      <td>999</td>\n",
       "      <td>8413700086267</td>\n",
       "      <td>spain, bolivia</td>\n",
       "      <td>onion, vegetable, root-vegetable, onion-family-vegetable</td>\n",
       "      <td>plant-based-foods-and-beverages, plant-based-foods, fruits-and-vegetables-based-foods, condiments, vegetables-based-foods, specific-products, dried-products, products-for-specific-diets, spices, dried-plant-based-foods, onions-and-their-products, products-without-gluten, ground-dried-vegetables, onion-powder</td>\n",
       "      <td>2</td>\n",
       "    </tr>\n",
       "    <tr>\n",
       "      <th>17</th>\n",
       "      <td>cereals and potatoes</td>\n",
       "      <td>sachet</td>\n",
       "      <td>crêtes de coq ( tomate/basilic)</td>\n",
       "      <td>z</td>\n",
       "      <td>999</td>\n",
       "      <td>3760240723233</td>\n",
       "      <td>france</td>\n",
       "      <td>durum-wheat-semolina, cereal, wheat, durum-wheat, semolina, basil, herb, tomato, vegetable, fruit-vegetable, water</td>\n",
       "      <td>plant-based-foods-and-beverages, plant-based-foods, cereals-and-potatoes, cereals-and-their-products, pastas</td>\n",
       "      <td>2</td>\n",
       "    </tr>\n",
       "    <tr>\n",
       "      <th>18</th>\n",
       "      <td>sugary snacks</td>\n",
       "      <td>none</td>\n",
       "      <td>aviateur langues de chat 12x200g</td>\n",
       "      <td>c</td>\n",
       "      <td>40</td>\n",
       "      <td>8710504200050</td>\n",
       "      <td>france</td>\n",
       "      <td>None</td>\n",
       "      <td>snacks, sweet-snacks, biscuits-and-cakes, biscuits, cat-tongue</td>\n",
       "      <td>0</td>\n",
       "    </tr>\n",
       "    <tr>\n",
       "      <th>19</th>\n",
       "      <td>None</td>\n",
       "      <td>none</td>\n",
       "      <td>bacon fumé</td>\n",
       "      <td>z</td>\n",
       "      <td>999</td>\n",
       "      <td>200616022636</td>\n",
       "      <td>france</td>\n",
       "      <td>None</td>\n",
       "      <td>None</td>\n",
       "      <td>0</td>\n",
       "    </tr>\n",
       "    <tr>\n",
       "      <th>20</th>\n",
       "      <td>None</td>\n",
       "      <td>none</td>\n",
       "      <td>butter</td>\n",
       "      <td>z</td>\n",
       "      <td>999</td>\n",
       "      <td>32601033125</td>\n",
       "      <td>united states</td>\n",
       "      <td>butter-lettuce-leaves</td>\n",
       "      <td>plant-based-foods-and-beverages, plant-based-foods, fruits-and-vegetables-based-foods</td>\n",
       "      <td>0</td>\n",
       "    </tr>\n",
       "    <tr>\n",
       "      <th>21</th>\n",
       "      <td>None</td>\n",
       "      <td>none</td>\n",
       "      <td>salt free garlic &amp; herb seasoning</td>\n",
       "      <td>z</td>\n",
       "      <td>999</td>\n",
       "      <td>50428580875</td>\n",
       "      <td>united states</td>\n",
       "      <td>garlic, vegetable, root-vegetable, onion-family-vegetable, dehydrated-onion, onion, spice, condiment, carrot, taproot-vegetable, orange-zest, fruit, citrus-fruit, orange, natural-flavouring, flavouring, spice-extract, black-pepper, seed, pepper, parsley, herb, leaf-vegetable, fennel, stalk-vegetable, basil, bay-leaf, marjoram, oregano, summer-savory, thyme, cayenne-pepper, coriander, cumin, mustard, rosemary, celery-seed, celery</td>\n",
       "      <td>condiments, groceries</td>\n",
       "      <td>0</td>\n",
       "    </tr>\n",
       "    <tr>\n",
       "      <th>22</th>\n",
       "      <td>None</td>\n",
       "      <td>none</td>\n",
       "      <td>chocovit</td>\n",
       "      <td>z</td>\n",
       "      <td>999</td>\n",
       "      <td>5412451009337</td>\n",
       "      <td>belgium</td>\n",
       "      <td>None</td>\n",
       "      <td>None</td>\n",
       "      <td>0</td>\n",
       "    </tr>\n",
       "    <tr>\n",
       "      <th>23</th>\n",
       "      <td>None</td>\n",
       "      <td>none</td>\n",
       "      <td>carolina reaper</td>\n",
       "      <td>z</td>\n",
       "      <td>999</td>\n",
       "      <td>72600081505</td>\n",
       "      <td>france</td>\n",
       "      <td>None</td>\n",
       "      <td>None</td>\n",
       "      <td>0</td>\n",
       "    </tr>\n",
       "    <tr>\n",
       "      <th>24</th>\n",
       "      <td>None</td>\n",
       "      <td>none</td>\n",
       "      <td>small white khobez</td>\n",
       "      <td>z</td>\n",
       "      <td>999</td>\n",
       "      <td>5060065800026</td>\n",
       "      <td>united kingdom</td>\n",
       "      <td>None</td>\n",
       "      <td>None</td>\n",
       "      <td>1</td>\n",
       "    </tr>\n",
       "    <tr>\n",
       "      <th>25</th>\n",
       "      <td>None</td>\n",
       "      <td>none</td>\n",
       "      <td>biscuits multi céréales aux raisins</td>\n",
       "      <td>z</td>\n",
       "      <td>999</td>\n",
       "      <td>8717763836792</td>\n",
       "      <td>france</td>\n",
       "      <td>None</td>\n",
       "      <td>None</td>\n",
       "      <td>0</td>\n",
       "    </tr>\n",
       "    <tr>\n",
       "      <th>26</th>\n",
       "      <td>alcoholic beverages</td>\n",
       "      <td>none</td>\n",
       "      <td>cerveza rubia sin gluten botellín</td>\n",
       "      <td>z</td>\n",
       "      <td>999</td>\n",
       "      <td>8431876289640</td>\n",
       "      <td>spain</td>\n",
       "      <td>water, malted-barley, cereal, malt, hops, plant, yeast, vitamin-c</td>\n",
       "      <td>beverages, alcoholic-beverages</td>\n",
       "      <td>2</td>\n",
       "    </tr>\n",
       "    <tr>\n",
       "      <th>27</th>\n",
       "      <td>fish meat eggs</td>\n",
       "      <td>none</td>\n",
       "      <td>pilons de poulet blanc 1kg s/atm</td>\n",
       "      <td>e</td>\n",
       "      <td>15</td>\n",
       "      <td>3266980676889</td>\n",
       "      <td>france</td>\n",
       "      <td>None</td>\n",
       "      <td>meats-and-their-products, meats, chicken-and-its-products, poultries, chickens, cooked-poultries, cooked-chicken, chicken-drumsticks</td>\n",
       "      <td>0</td>\n",
       "    </tr>\n",
       "    <tr>\n",
       "      <th>28</th>\n",
       "      <td>None</td>\n",
       "      <td>none</td>\n",
       "      <td>brocoli chedar cheese</td>\n",
       "      <td>z</td>\n",
       "      <td>999</td>\n",
       "      <td>850010279442</td>\n",
       "      <td>none</td>\n",
       "      <td>None</td>\n",
       "      <td>None</td>\n",
       "      <td>1</td>\n",
       "    </tr>\n",
       "    <tr>\n",
       "      <th>29</th>\n",
       "      <td>None</td>\n",
       "      <td>none</td>\n",
       "      <td>poudre à pâte à double action sans alun</td>\n",
       "      <td>z</td>\n",
       "      <td>999</td>\n",
       "      <td>628739239531</td>\n",
       "      <td>canada</td>\n",
       "      <td>None</td>\n",
       "      <td>None</td>\n",
       "      <td>0</td>\n",
       "    </tr>\n",
       "    <tr>\n",
       "      <th>30</th>\n",
       "      <td>None</td>\n",
       "      <td>none</td>\n",
       "      <td>pancetta a cubetti</td>\n",
       "      <td>z</td>\n",
       "      <td>999</td>\n",
       "      <td>8056324751045</td>\n",
       "      <td>italy</td>\n",
       "      <td>None</td>\n",
       "      <td>None</td>\n",
       "      <td>0</td>\n",
       "    </tr>\n",
       "    <tr>\n",
       "      <th>31</th>\n",
       "      <td>None</td>\n",
       "      <td>none</td>\n",
       "      <td>conservas artesanales aceituna verde</td>\n",
       "      <td>z</td>\n",
       "      <td>999</td>\n",
       "      <td>8437019512071</td>\n",
       "      <td>spain</td>\n",
       "      <td>None</td>\n",
       "      <td>None</td>\n",
       "      <td>0</td>\n",
       "    </tr>\n",
       "    <tr>\n",
       "      <th>32</th>\n",
       "      <td>None</td>\n",
       "      <td>none</td>\n",
       "      <td>salamino toscano</td>\n",
       "      <td>z</td>\n",
       "      <td>999</td>\n",
       "      <td>2120518007518</td>\n",
       "      <td>france</td>\n",
       "      <td>None</td>\n",
       "      <td>None</td>\n",
       "      <td>1</td>\n",
       "    </tr>\n",
       "    <tr>\n",
       "      <th>33</th>\n",
       "      <td>sugary snacks</td>\n",
       "      <td>none</td>\n",
       "      <td>cioccolato fondente 55% con frutti di bosco</td>\n",
       "      <td>e</td>\n",
       "      <td>15</td>\n",
       "      <td>8053264784942</td>\n",
       "      <td>italy</td>\n",
       "      <td>dark-chocolate, chocolate, cocoa-paste, plant, cocoa, sugar, added-sugar, disaccharide, cocoa-butter, emulsifier, natural-vanilla-flavouring, flavouring, natural-flavouring, vanilla-flavouring, raspberry, fruit, berries, milk, dairy, gluten, egg, soya-lecithin, e322, e322i</td>\n",
       "      <td>snacks, sweet-snacks, cocoa-and-its-products, chocolates, dark-chocolates</td>\n",
       "      <td>4</td>\n",
       "    </tr>\n",
       "    <tr>\n",
       "      <th>34</th>\n",
       "      <td>None</td>\n",
       "      <td>none</td>\n",
       "      <td>plov</td>\n",
       "      <td>z</td>\n",
       "      <td>999</td>\n",
       "      <td>4605093013041</td>\n",
       "      <td>none</td>\n",
       "      <td>None</td>\n",
       "      <td>None</td>\n",
       "      <td>0</td>\n",
       "    </tr>\n",
       "    <tr>\n",
       "      <th>35</th>\n",
       "      <td>None</td>\n",
       "      <td>none</td>\n",
       "      <td>penne rigate</td>\n",
       "      <td>z</td>\n",
       "      <td>999</td>\n",
       "      <td>2000000007281</td>\n",
       "      <td>italy</td>\n",
       "      <td>None</td>\n",
       "      <td>None</td>\n",
       "      <td>0</td>\n",
       "    </tr>\n",
       "    <tr>\n",
       "      <th>36</th>\n",
       "      <td>None</td>\n",
       "      <td>none</td>\n",
       "      <td>torrone gianduia con nocciola di giffoni igp</td>\n",
       "      <td>z</td>\n",
       "      <td>999</td>\n",
       "      <td>8025916120279</td>\n",
       "      <td>italy</td>\n",
       "      <td>None</td>\n",
       "      <td>None</td>\n",
       "      <td>0</td>\n",
       "    </tr>\n",
       "    <tr>\n",
       "      <th>37</th>\n",
       "      <td>None</td>\n",
       "      <td>none</td>\n",
       "      <td>integratore alimantare</td>\n",
       "      <td>z</td>\n",
       "      <td>999</td>\n",
       "      <td>8052049550451</td>\n",
       "      <td>italy</td>\n",
       "      <td>None</td>\n",
       "      <td>None</td>\n",
       "      <td>1</td>\n",
       "    </tr>\n",
       "    <tr>\n",
       "      <th>38</th>\n",
       "      <td>None</td>\n",
       "      <td>none</td>\n",
       "      <td>apfel zimt frühstück</td>\n",
       "      <td>z</td>\n",
       "      <td>999</td>\n",
       "      <td>4260451120641</td>\n",
       "      <td>germany</td>\n",
       "      <td>None</td>\n",
       "      <td>None</td>\n",
       "      <td>0</td>\n",
       "    </tr>\n",
       "    <tr>\n",
       "      <th>39</th>\n",
       "      <td>None</td>\n",
       "      <td>none</td>\n",
       "      <td>seriously delicious vitamin d strawberry milkshake</td>\n",
       "      <td>z</td>\n",
       "      <td>999</td>\n",
       "      <td>705875802178</td>\n",
       "      <td>united states, none</td>\n",
       "      <td>None</td>\n",
       "      <td>dietary-supplements</td>\n",
       "      <td>2</td>\n",
       "    </tr>\n",
       "    <tr>\n",
       "      <th>40</th>\n",
       "      <td>None</td>\n",
       "      <td>none</td>\n",
       "      <td>pho ga</td>\n",
       "      <td>z</td>\n",
       "      <td>999</td>\n",
       "      <td>8934663900426</td>\n",
       "      <td>united states</td>\n",
       "      <td>None</td>\n",
       "      <td>None</td>\n",
       "      <td>0</td>\n",
       "    </tr>\n",
       "    <tr>\n",
       "      <th>41</th>\n",
       "      <td>fish meat eggs</td>\n",
       "      <td>none</td>\n",
       "      <td>jambon sec français</td>\n",
       "      <td>e</td>\n",
       "      <td>10</td>\n",
       "      <td>3517732310019</td>\n",
       "      <td>france</td>\n",
       "      <td>ham, animal, meat, pork, pork-meat, salt, dextrose, added-sugar, monosaccharide, glucose, preservative, e252</td>\n",
       "      <td>meats-and-their-products, prepared-meats, hams, cured-hams, dried-hams</td>\n",
       "      <td>2</td>\n",
       "    </tr>\n",
       "    <tr>\n",
       "      <th>42</th>\n",
       "      <td>milk and dairy products</td>\n",
       "      <td>none</td>\n",
       "      <td>dop san simon da costa</td>\n",
       "      <td>c</td>\n",
       "      <td>51</td>\n",
       "      <td>8428485011168</td>\n",
       "      <td>spain</td>\n",
       "      <td>None</td>\n",
       "      <td>dairies, fermented-foods, fermented-milk-products, cheeses, spanish-cheeses</td>\n",
       "      <td>1</td>\n",
       "    </tr>\n",
       "    <tr>\n",
       "      <th>43</th>\n",
       "      <td>milk and dairy products</td>\n",
       "      <td>none</td>\n",
       "      <td>viva strawberry flavour milk drink</td>\n",
       "      <td>d</td>\n",
       "      <td>37</td>\n",
       "      <td>5010652999633</td>\n",
       "      <td>ireland</td>\n",
       "      <td>None</td>\n",
       "      <td>dairies, milks</td>\n",
       "      <td>1</td>\n",
       "    </tr>\n",
       "    <tr>\n",
       "      <th>44</th>\n",
       "      <td>None</td>\n",
       "      <td>none</td>\n",
       "      <td>soffiati senza lievito</td>\n",
       "      <td>z</td>\n",
       "      <td>999</td>\n",
       "      <td>8056518573927</td>\n",
       "      <td>italy</td>\n",
       "      <td>None</td>\n",
       "      <td>None</td>\n",
       "      <td>0</td>\n",
       "    </tr>\n",
       "    <tr>\n",
       "      <th>45</th>\n",
       "      <td>None</td>\n",
       "      <td>none</td>\n",
       "      <td>moringa polvo bio</td>\n",
       "      <td>z</td>\n",
       "      <td>999</td>\n",
       "      <td>8436570763205</td>\n",
       "      <td>spain</td>\n",
       "      <td>None</td>\n",
       "      <td>None</td>\n",
       "      <td>3</td>\n",
       "    </tr>\n",
       "    <tr>\n",
       "      <th>46</th>\n",
       "      <td>None</td>\n",
       "      <td>none</td>\n",
       "      <td>biscotti orzo mela</td>\n",
       "      <td>z</td>\n",
       "      <td>999</td>\n",
       "      <td>8018072003548</td>\n",
       "      <td>italy</td>\n",
       "      <td>None</td>\n",
       "      <td>None</td>\n",
       "      <td>5</td>\n",
       "    </tr>\n",
       "    <tr>\n",
       "      <th>47</th>\n",
       "      <td>None</td>\n",
       "      <td>none</td>\n",
       "      <td>schlemmer-menü mit lachs und kräutersauce</td>\n",
       "      <td>z</td>\n",
       "      <td>999</td>\n",
       "      <td>4305615730370</td>\n",
       "      <td>germany</td>\n",
       "      <td>None</td>\n",
       "      <td>None</td>\n",
       "      <td>0</td>\n",
       "    </tr>\n",
       "    <tr>\n",
       "      <th>48</th>\n",
       "      <td>sugary snacks</td>\n",
       "      <td>none</td>\n",
       "      <td>merendine con crema all'albicocca</td>\n",
       "      <td>z</td>\n",
       "      <td>999</td>\n",
       "      <td>8003100898944</td>\n",
       "      <td>france</td>\n",
       "      <td>None</td>\n",
       "      <td>snacks, sweet-snacks, biscuits-and-cakes, cakes, filled-sponge-cake-slices</td>\n",
       "      <td>0</td>\n",
       "    </tr>\n",
       "    <tr>\n",
       "      <th>49</th>\n",
       "      <td>None</td>\n",
       "      <td>none</td>\n",
       "      <td>relax-mom</td>\n",
       "      <td>z</td>\n",
       "      <td>999</td>\n",
       "      <td>850975006640</td>\n",
       "      <td>united states</td>\n",
       "      <td>None</td>\n",
       "      <td>None</td>\n",
       "      <td>2</td>\n",
       "    </tr>\n",
       "    <tr>\n",
       "      <th>50</th>\n",
       "      <td>sugary snacks</td>\n",
       "      <td>none</td>\n",
       "      <td>madeleines</td>\n",
       "      <td>c</td>\n",
       "      <td>58</td>\n",
       "      <td>3477690000110</td>\n",
       "      <td>france</td>\n",
       "      <td>None</td>\n",
       "      <td>snacks, sweet-snacks, biscuits-and-cakes, cakes, madeleines</td>\n",
       "      <td>0</td>\n",
       "    </tr>\n",
       "    <tr>\n",
       "      <th>51</th>\n",
       "      <td>milk and dairy products</td>\n",
       "      <td>none</td>\n",
       "      <td>gilfi glace pistache</td>\n",
       "      <td>b</td>\n",
       "      <td>67</td>\n",
       "      <td>5414116310284</td>\n",
       "      <td>france</td>\n",
       "      <td>None</td>\n",
       "      <td>desserts, frozen-foods, frozen-desserts, ice-creams-and-sorbets, ice-creams, ice-cream-tubs, pistachio-ice-cream-tubs</td>\n",
       "      <td>1</td>\n",
       "    </tr>\n",
       "    <tr>\n",
       "      <th>52</th>\n",
       "      <td>None</td>\n",
       "      <td>none</td>\n",
       "      <td>coole kiste</td>\n",
       "      <td>z</td>\n",
       "      <td>999</td>\n",
       "      <td>4001686332979</td>\n",
       "      <td>germany</td>\n",
       "      <td>glucose-syrup, added-sugar, monosaccharide, glucose, sugar, disaccharide, fruit, radish, vegetable, root-vegetable, taproot-vegetable, apple, malaceous-fruit, spirulina, algae</td>\n",
       "      <td>None</td>\n",
       "      <td>1</td>\n",
       "    </tr>\n",
       "    <tr>\n",
       "      <th>53</th>\n",
       "      <td>None</td>\n",
       "      <td>none</td>\n",
       "      <td>white claw hard selzer</td>\n",
       "      <td>z</td>\n",
       "      <td>999</td>\n",
       "      <td>635985802136</td>\n",
       "      <td>united states</td>\n",
       "      <td>None</td>\n",
       "      <td>None</td>\n",
       "      <td>1</td>\n",
       "    </tr>\n",
       "    <tr>\n",
       "      <th>54</th>\n",
       "      <td>cereals and potatoes</td>\n",
       "      <td>none</td>\n",
       "      <td>pao rústico  mistura</td>\n",
       "      <td>z</td>\n",
       "      <td>999</td>\n",
       "      <td>5601312184645</td>\n",
       "      <td>none</td>\n",
       "      <td>None</td>\n",
       "      <td>plant-based-foods-and-beverages, plant-based-foods, cereals-and-potatoes, breads</td>\n",
       "      <td>3</td>\n",
       "    </tr>\n",
       "    <tr>\n",
       "      <th>55</th>\n",
       "      <td>None</td>\n",
       "      <td>none</td>\n",
       "      <td>bio pan crujiente sin gluten avellana nocciola</td>\n",
       "      <td>b</td>\n",
       "      <td>79</td>\n",
       "      <td>3380380103063</td>\n",
       "      <td>france</td>\n",
       "      <td>corn-flour, cereal, flour, corn, whole-cane-sugar, added-sugar, disaccharide, sugar, cane-sugar, unrefined-sugar, unrefined-cane-sugar, sea-salt, salt</td>\n",
       "      <td>plant-based-foods-and-beverages, plant-based-foods, snacks, cereals-and-potatoes, extruded-crispbreads</td>\n",
       "      <td>9</td>\n",
       "    </tr>\n",
       "    <tr>\n",
       "      <th>56</th>\n",
       "      <td>None</td>\n",
       "      <td>none</td>\n",
       "      <td>organic freshly sprouted wheat sourdough bread</td>\n",
       "      <td>z</td>\n",
       "      <td>999</td>\n",
       "      <td>28833170806</td>\n",
       "      <td>world</td>\n",
       "      <td>None</td>\n",
       "      <td>None</td>\n",
       "      <td>3</td>\n",
       "    </tr>\n",
       "    <tr>\n",
       "      <th>57</th>\n",
       "      <td>None</td>\n",
       "      <td>none</td>\n",
       "      <td>white fudge covered pretzels</td>\n",
       "      <td>z</td>\n",
       "      <td>999</td>\n",
       "      <td>85239921760</td>\n",
       "      <td>united states</td>\n",
       "      <td>None</td>\n",
       "      <td>None</td>\n",
       "      <td>0</td>\n",
       "    </tr>\n",
       "    <tr>\n",
       "      <th>58</th>\n",
       "      <td>None</td>\n",
       "      <td>none</td>\n",
       "      <td>kräutertee</td>\n",
       "      <td>z</td>\n",
       "      <td>999</td>\n",
       "      <td>4061459772203</td>\n",
       "      <td>germany</td>\n",
       "      <td>None</td>\n",
       "      <td>None</td>\n",
       "      <td>0</td>\n",
       "    </tr>\n",
       "    <tr>\n",
       "      <th>59</th>\n",
       "      <td>None</td>\n",
       "      <td>none</td>\n",
       "      <td>poulet au curry jaune</td>\n",
       "      <td>z</td>\n",
       "      <td>999</td>\n",
       "      <td>3366760052299</td>\n",
       "      <td>france</td>\n",
       "      <td>None</td>\n",
       "      <td>None</td>\n",
       "      <td>0</td>\n",
       "    </tr>\n",
       "  </tbody>\n",
       "</table>\n",
       "</div>"
      ],
      "text/plain": [
       "                     groups  \\\n",
       "0                      None   \n",
       "1   milk and dairy products   \n",
       "2     fruits and vegetables   \n",
       "3      cereals and potatoes   \n",
       "4            fish meat eggs   \n",
       "5     fruits and vegetables   \n",
       "6                      None   \n",
       "7                      None   \n",
       "8      cereals and potatoes   \n",
       "9             sugary snacks   \n",
       "10  milk and dairy products   \n",
       "11                     None   \n",
       "12           fish meat eggs   \n",
       "13                     None   \n",
       "14                     None   \n",
       "15            sugary snacks   \n",
       "16    fruits and vegetables   \n",
       "17     cereals and potatoes   \n",
       "18            sugary snacks   \n",
       "19                     None   \n",
       "20                     None   \n",
       "21                     None   \n",
       "22                     None   \n",
       "23                     None   \n",
       "24                     None   \n",
       "25                     None   \n",
       "26      alcoholic beverages   \n",
       "27           fish meat eggs   \n",
       "28                     None   \n",
       "29                     None   \n",
       "30                     None   \n",
       "31                     None   \n",
       "32                     None   \n",
       "33            sugary snacks   \n",
       "34                     None   \n",
       "35                     None   \n",
       "36                     None   \n",
       "37                     None   \n",
       "38                     None   \n",
       "39                     None   \n",
       "40                     None   \n",
       "41           fish meat eggs   \n",
       "42  milk and dairy products   \n",
       "43  milk and dairy products   \n",
       "44                     None   \n",
       "45                     None   \n",
       "46                     None   \n",
       "47                     None   \n",
       "48            sugary snacks   \n",
       "49                     None   \n",
       "50            sugary snacks   \n",
       "51  milk and dairy products   \n",
       "52                     None   \n",
       "53                     None   \n",
       "54     cereals and potatoes   \n",
       "55                     None   \n",
       "56                     None   \n",
       "57                     None   \n",
       "58                     None   \n",
       "59                     None   \n",
       "\n",
       "                                                                     packaging  \\\n",
       "0                                                                         none   \n",
       "1                                                                         none   \n",
       "2                                                                         none   \n",
       "3                                                                         none   \n",
       "4                                                                    sous-vide   \n",
       "5   plastique, bouchon de bouteille, film, flacon, bouchon de bouteille de vin   \n",
       "6                                                                         none   \n",
       "7                                                                         none   \n",
       "8                                                                         none   \n",
       "9                                                                         none   \n",
       "10                                                                        none   \n",
       "11                                                                        none   \n",
       "12                                                                     tranche   \n",
       "13                                                                        none   \n",
       "14                                                                        none   \n",
       "15                                                                        none   \n",
       "16                                                                        none   \n",
       "17                                                                      sachet   \n",
       "18                                                                        none   \n",
       "19                                                                        none   \n",
       "20                                                                        none   \n",
       "21                                                                        none   \n",
       "22                                                                        none   \n",
       "23                                                                        none   \n",
       "24                                                                        none   \n",
       "25                                                                        none   \n",
       "26                                                                        none   \n",
       "27                                                                        none   \n",
       "28                                                                        none   \n",
       "29                                                                        none   \n",
       "30                                                                        none   \n",
       "31                                                                        none   \n",
       "32                                                                        none   \n",
       "33                                                                        none   \n",
       "34                                                                        none   \n",
       "35                                                                        none   \n",
       "36                                                                        none   \n",
       "37                                                                        none   \n",
       "38                                                                        none   \n",
       "39                                                                        none   \n",
       "40                                                                        none   \n",
       "41                                                                        none   \n",
       "42                                                                        none   \n",
       "43                                                                        none   \n",
       "44                                                                        none   \n",
       "45                                                                        none   \n",
       "46                                                                        none   \n",
       "47                                                                        none   \n",
       "48                                                                        none   \n",
       "49                                                                        none   \n",
       "50                                                                        none   \n",
       "51                                                                        none   \n",
       "52                                                                        none   \n",
       "53                                                                        none   \n",
       "54                                                                        none   \n",
       "55                                                                        none   \n",
       "56                                                                        none   \n",
       "57                                                                        none   \n",
       "58                                                                        none   \n",
       "59                                                                        none   \n",
       "\n",
       "                                                      name ecoscore_groups  \\\n",
       "0                                     kroger, potato salad               z   \n",
       "1                  crystal farms, fat free american cheese               d   \n",
       "2                                                 cut corn               z   \n",
       "3              enriched macaroni product, fettuccini pasta               z   \n",
       "4                                   barbecue ribs original               e   \n",
       "5                                              ail semoule               a   \n",
       "6                           le caramel poire pointe de sel               z   \n",
       "7   mousseline de carottes a la crème fraîche et au beurre               z   \n",
       "8                                           extra original               c   \n",
       "9                                amandes pralinés gianduja               d   \n",
       "10                           creme dessert cafe sans sucre               z   \n",
       "11                         fibactiv complément alimentaire               z   \n",
       "12                            le saumon sauvage de sibérie               e   \n",
       "13                                 jambon sans sel nitrité               z   \n",
       "14                                           duo de fruits               z   \n",
       "15                              gaufrette crunchy fondante               c   \n",
       "16                                        cebolla en polvo               z   \n",
       "17                         crêtes de coq ( tomate/basilic)               z   \n",
       "18                        aviateur langues de chat 12x200g               c   \n",
       "19                                              bacon fumé               z   \n",
       "20                                                  butter               z   \n",
       "21                       salt free garlic & herb seasoning               z   \n",
       "22                                                chocovit               z   \n",
       "23                                         carolina reaper               z   \n",
       "24                                      small white khobez               z   \n",
       "25                     biscuits multi céréales aux raisins               z   \n",
       "26                       cerveza rubia sin gluten botellín               z   \n",
       "27                        pilons de poulet blanc 1kg s/atm               e   \n",
       "28                                   brocoli chedar cheese               z   \n",
       "29                 poudre à pâte à double action sans alun               z   \n",
       "30                                      pancetta a cubetti               z   \n",
       "31                    conservas artesanales aceituna verde               z   \n",
       "32                                        salamino toscano               z   \n",
       "33             cioccolato fondente 55% con frutti di bosco               e   \n",
       "34                                                    plov               z   \n",
       "35                                            penne rigate               z   \n",
       "36            torrone gianduia con nocciola di giffoni igp               z   \n",
       "37                                  integratore alimantare               z   \n",
       "38                                    apfel zimt frühstück               z   \n",
       "39      seriously delicious vitamin d strawberry milkshake               z   \n",
       "40                                                  pho ga               z   \n",
       "41                                     jambon sec français               e   \n",
       "42                                  dop san simon da costa               c   \n",
       "43                      viva strawberry flavour milk drink               d   \n",
       "44                                  soffiati senza lievito               z   \n",
       "45                                       moringa polvo bio               z   \n",
       "46                                      biscotti orzo mela               z   \n",
       "47               schlemmer-menü mit lachs und kräutersauce               z   \n",
       "48                       merendine con crema all'albicocca               z   \n",
       "49                                               relax-mom               z   \n",
       "50                                              madeleines               c   \n",
       "51                                    gilfi glace pistache               b   \n",
       "52                                             coole kiste               z   \n",
       "53                                  white claw hard selzer               z   \n",
       "54                                    pao rústico  mistura               z   \n",
       "55          bio pan crujiente sin gluten avellana nocciola               b   \n",
       "56          organic freshly sprouted wheat sourdough bread               z   \n",
       "57                            white fudge covered pretzels               z   \n",
       "58                                              kräutertee               z   \n",
       "59                                   poulet au curry jaune               z   \n",
       "\n",
       "    ecoscore_note           code            countries  \\\n",
       "0             999    11110991881        united states   \n",
       "1              34    75925286006        united states   \n",
       "2             999    78742110301        united states   \n",
       "3             999    92825104957        united states   \n",
       "4               7       20639037               france   \n",
       "5              80       20864828               france   \n",
       "6             999  3291810769967               france   \n",
       "7             999  3700428484235               france   \n",
       "8              59  5053827187466   france, none, none   \n",
       "9              22  3489811229126               france   \n",
       "10            999  3551100163395               france   \n",
       "11            999  3700695212838               france   \n",
       "12              9  3033610079842               france   \n",
       "13            999  2231304030907               france   \n",
       "14            999   208035035497               france   \n",
       "15             47  3061990142849               france   \n",
       "16            999  8413700086267       spain, bolivia   \n",
       "17            999  3760240723233               france   \n",
       "18             40  8710504200050               france   \n",
       "19            999   200616022636               france   \n",
       "20            999    32601033125        united states   \n",
       "21            999    50428580875        united states   \n",
       "22            999  5412451009337              belgium   \n",
       "23            999    72600081505               france   \n",
       "24            999  5060065800026       united kingdom   \n",
       "25            999  8717763836792               france   \n",
       "26            999  8431876289640                spain   \n",
       "27             15  3266980676889               france   \n",
       "28            999   850010279442                 none   \n",
       "29            999   628739239531               canada   \n",
       "30            999  8056324751045                italy   \n",
       "31            999  8437019512071                spain   \n",
       "32            999  2120518007518               france   \n",
       "33             15  8053264784942                italy   \n",
       "34            999  4605093013041                 none   \n",
       "35            999  2000000007281                italy   \n",
       "36            999  8025916120279                italy   \n",
       "37            999  8052049550451                italy   \n",
       "38            999  4260451120641              germany   \n",
       "39            999   705875802178  united states, none   \n",
       "40            999  8934663900426        united states   \n",
       "41             10  3517732310019               france   \n",
       "42             51  8428485011168                spain   \n",
       "43             37  5010652999633              ireland   \n",
       "44            999  8056518573927                italy   \n",
       "45            999  8436570763205                spain   \n",
       "46            999  8018072003548                italy   \n",
       "47            999  4305615730370              germany   \n",
       "48            999  8003100898944               france   \n",
       "49            999   850975006640        united states   \n",
       "50             58  3477690000110               france   \n",
       "51             67  5414116310284               france   \n",
       "52            999  4001686332979              germany   \n",
       "53            999   635985802136        united states   \n",
       "54            999  5601312184645                 none   \n",
       "55             79  3380380103063               france   \n",
       "56            999    28833170806                world   \n",
       "57            999    85239921760        united states   \n",
       "58            999  4061459772203              germany   \n",
       "59            999  3366760052299               france   \n",
       "\n",
       "                                                                                                                                                                                                                                                                                                                                                                                                                                                                                                                                                                                                                                                                                                      ingredients  \\\n",
       "0   potato, vegetable, root-vegetable, tuber, mayonnaise, sauce, water, mustard, onion, onion-family-vegetable, sugar, added-sugar, disaccharide, contains-2-and-less-of, carrot, taproot-vegetable, bell-pepper, fruit-vegetable, celery, stalk-vegetable, salt, soya-oil, oil-and-fat, vegetable-oil-and-fat, vegetable-oil, wheat-germ, cereal, wheat, high-fructose-corn-syrup, monosaccharide, fructose, glucose, corn-syrup, glucose-fructose-syrup, e301, e300, e415, lactic-and-acetic-acids, e330, e435, natural-flavouring, flavouring, e325, spice, condiment, e160ai, e160a, turmeric, e385, e202, soybean-oil-vinegar, egg-yolk, egg, distilled-vinegar, vinegar, mustard-seed, colour, preservative   \n",
       "1                                                                                                                                                                                                                                                                                                                                                                                                                                skim-milk-cheese, water, whey, dairy, milk-protein-concentrate-buttermilk, sodium-citrate, minerals, sodium, sugar, added-sugar, disaccharide, maltodextrin, salt, e200, e407, annatto-and-b-apo-8-carotenal, pasteurized-skim-milk-cheese-culture, enzyme, preservative, colour   \n",
       "2                                                                                                                                                                                                                                                                                                                                                                                                                                                                                                                                                                                                                                                                                                    corn, cereal   \n",
       "3                                                                                                                                                                                                                                                                                                                                                                                                                                                                                                                                           durum-wheat-semolina, cereal, wheat, durum-wheat, semolina, iron, minerals, b-vitamins, e375, thiamin-mononitrate, thiamin, e101, folic-acid, folate, ferrous-sulfate   \n",
       "4                                                                                                                                                                                                                                                                                                                                                                                                                                              intercostal-meat-from-pork-loin, salt, sugar, added-sugar, disaccharide, sunflower-oil, oil-and-fat, vegetable-oil-and-fat, vegetable-oil, spice, condiment, dehydrated-aromatic-plants, smoke-flavouring, flavouring, natural-flavouring, possible-mustard-traces   \n",
       "5                                                                                                                                                                                                                                                                                                                                                                                                                                                                                                                                                                                                                                         dried-garlic, vegetable, root-vegetable, onion-family-vegetable, garlic   \n",
       "6                                                                                                                                                                                                 sugar, added-sugar, disaccharide, cream, dairy, pear, fruit, water, egg-white, egg, e150, wheat-flour, cereal, flour, wheat, cereal-flour, glucose-syrup, monosaccharide, glucose, whole-milk-powder, milk-powder, modified-starch, starch, gelling-agent, milk-chocolate, chocolate, butter, stabiliser, non-hydrogenated-sunflower-oil, oil-and-fat, vegetable-oil-and-fat, vegetable-oil, sunflower-oil, colour, glucose-fructose-syrup, fructose, emulsifier, e407, e160c, e330, soya-lecithin, e322, e322i   \n",
       "7                                                                                                                                                                                                                                                                                                                                                                                                                                                                                                                                                                                                                                                                                                            None   \n",
       "8                                                                                                                                                                                                                                                                                                                                                                                            whole-grain-oat-flakes, cereal, oat, oat-flakes, sugar, added-sugar, disaccharide, palm-oil, oil-and-fat, vegetable-oil-and-fat, palm-oil-and-fat, wheat-flour, flour, wheat, cereal-flour, desiccated-coconut, fruit, coconut, molasses, salt, barley-malt-extract, malt, malted-barley, cinnamon, condiment, spice   \n",
       "9                                                                                                                                                                                                                                                                                                                                                                                                                                                                                                                                                                                                                                                                                                            None   \n",
       "10                                                                                                                                                                                                                                                                                                                                                                                                                                                                                                                                                                                                                                                                                                           None   \n",
       "11                                                                                                                                                                                                                                                                                                                                                                                                                                                                                                                                                                                                                                                                                                           None   \n",
       "12                                                                                                                                                                                                                                                                                                                                                                                                                                                                                                                                                                                                                                                                                                           None   \n",
       "13                                                                                                                                                                                                                                                                                                                                                                                                                                                                                                                                                                                                                                                                                                           None   \n",
       "14                                                                                                                                                                                                                                                                                                                                                                                                                                                                                                                                                                                                                                                                                                           None   \n",
       "15                                                                                     sugar, added-sugar, disaccharide, wheat-flour, cereal, flour, wheat, cereal-flour, vegetable-fat, oil-and-fat, vegetable-oil-and-fat, hazelnut-paste, nut, tree-nut, hazelnut, whole-milk-powder, dairy, milk-powder, cocoa-butter, plant, cocoa, cocoa-paste, modified-corn-starch, starch, corn-starch, modified-starch, whey-powder, whey, emulsifier, salt, fat-reduced-cocoa-powder, cocoa-powder, skimmed-milk-powder, powdered-egg-white, egg, egg-white, raising-agent, flavouring, palm, palm-oil-and-fat, palm-oil, palm-kernel-oil, palm-kernel-oil-and-fat, e442, e476, soya-lecithin, e322, e322i, e503, e500   \n",
       "16                                                                                                                                                                                                                                                                                                                                                                                                                                                                                                                                                                                                                                                       onion, vegetable, root-vegetable, onion-family-vegetable   \n",
       "17                                                                                                                                                                                                                                                                                                                                                                                                                                                                                                                                                                                             durum-wheat-semolina, cereal, wheat, durum-wheat, semolina, basil, herb, tomato, vegetable, fruit-vegetable, water   \n",
       "18                                                                                                                                                                                                                                                                                                                                                                                                                                                                                                                                                                                                                                                                                                           None   \n",
       "19                                                                                                                                                                                                                                                                                                                                                                                                                                                                                                                                                                                                                                                                                                           None   \n",
       "20                                                                                                                                                                                                                                                                                                                                                                                                                                                                                                                                                                                                                                                                                          butter-lettuce-leaves   \n",
       "21                                                                                                                                                                                                                                                               garlic, vegetable, root-vegetable, onion-family-vegetable, dehydrated-onion, onion, spice, condiment, carrot, taproot-vegetable, orange-zest, fruit, citrus-fruit, orange, natural-flavouring, flavouring, spice-extract, black-pepper, seed, pepper, parsley, herb, leaf-vegetable, fennel, stalk-vegetable, basil, bay-leaf, marjoram, oregano, summer-savory, thyme, cayenne-pepper, coriander, cumin, mustard, rosemary, celery-seed, celery   \n",
       "22                                                                                                                                                                                                                                                                                                                                                                                                                                                                                                                                                                                                                                                                                                           None   \n",
       "23                                                                                                                                                                                                                                                                                                                                                                                                                                                                                                                                                                                                                                                                                                           None   \n",
       "24                                                                                                                                                                                                                                                                                                                                                                                                                                                                                                                                                                                                                                                                                                           None   \n",
       "25                                                                                                                                                                                                                                                                                                                                                                                                                                                                                                                                                                                                                                                                                                           None   \n",
       "26                                                                                                                                                                                                                                                                                                                                                                                                                                                                                                                                                                                                                                              water, malted-barley, cereal, malt, hops, plant, yeast, vitamin-c   \n",
       "27                                                                                                                                                                                                                                                                                                                                                                                                                                                                                                                                                                                                                                                                                                           None   \n",
       "28                                                                                                                                                                                                                                                                                                                                                                                                                                                                                                                                                                                                                                                                                                           None   \n",
       "29                                                                                                                                                                                                                                                                                                                                                                                                                                                                                                                                                                                                                                                                                                           None   \n",
       "30                                                                                                                                                                                                                                                                                                                                                                                                                                                                                                                                                                                                                                                                                                           None   \n",
       "31                                                                                                                                                                                                                                                                                                                                                                                                                                                                                                                                                                                                                                                                                                           None   \n",
       "32                                                                                                                                                                                                                                                                                                                                                                                                                                                                                                                                                                                                                                                                                                           None   \n",
       "33                                                                                                                                                                                                                                                                                                                                                                                                                              dark-chocolate, chocolate, cocoa-paste, plant, cocoa, sugar, added-sugar, disaccharide, cocoa-butter, emulsifier, natural-vanilla-flavouring, flavouring, natural-flavouring, vanilla-flavouring, raspberry, fruit, berries, milk, dairy, gluten, egg, soya-lecithin, e322, e322i   \n",
       "34                                                                                                                                                                                                                                                                                                                                                                                                                                                                                                                                                                                                                                                                                                           None   \n",
       "35                                                                                                                                                                                                                                                                                                                                                                                                                                                                                                                                                                                                                                                                                                           None   \n",
       "36                                                                                                                                                                                                                                                                                                                                                                                                                                                                                                                                                                                                                                                                                                           None   \n",
       "37                                                                                                                                                                                                                                                                                                                                                                                                                                                                                                                                                                                                                                                                                                           None   \n",
       "38                                                                                                                                                                                                                                                                                                                                                                                                                                                                                                                                                                                                                                                                                                           None   \n",
       "39                                                                                                                                                                                                                                                                                                                                                                                                                                                                                                                                                                                                                                                                                                           None   \n",
       "40                                                                                                                                                                                                                                                                                                                                                                                                                                                                                                                                                                                                                                                                                                           None   \n",
       "41                                                                                                                                                                                                                                                                                                                                                                                                                                                                                                                                                                                                   ham, animal, meat, pork, pork-meat, salt, dextrose, added-sugar, monosaccharide, glucose, preservative, e252   \n",
       "42                                                                                                                                                                                                                                                                                                                                                                                                                                                                                                                                                                                                                                                                                                           None   \n",
       "43                                                                                                                                                                                                                                                                                                                                                                                                                                                                                                                                                                                                                                                                                                           None   \n",
       "44                                                                                                                                                                                                                                                                                                                                                                                                                                                                                                                                                                                                                                                                                                           None   \n",
       "45                                                                                                                                                                                                                                                                                                                                                                                                                                                                                                                                                                                                                                                                                                           None   \n",
       "46                                                                                                                                                                                                                                                                                                                                                                                                                                                                                                                                                                                                                                                                                                           None   \n",
       "47                                                                                                                                                                                                                                                                                                                                                                                                                                                                                                                                                                                                                                                                                                           None   \n",
       "48                                                                                                                                                                                                                                                                                                                                                                                                                                                                                                                                                                                                                                                                                                           None   \n",
       "49                                                                                                                                                                                                                                                                                                                                                                                                                                                                                                                                                                                                                                                                                                           None   \n",
       "50                                                                                                                                                                                                                                                                                                                                                                                                                                                                                                                                                                                                                                                                                                           None   \n",
       "51                                                                                                                                                                                                                                                                                                                                                                                                                                                                                                                                                                                                                                                                                                           None   \n",
       "52                                                                                                                                                                                                                                                                                                                                                                                                                                                                                                                                glucose-syrup, added-sugar, monosaccharide, glucose, sugar, disaccharide, fruit, radish, vegetable, root-vegetable, taproot-vegetable, apple, malaceous-fruit, spirulina, algae   \n",
       "53                                                                                                                                                                                                                                                                                                                                                                                                                                                                                                                                                                                                                                                                                                           None   \n",
       "54                                                                                                                                                                                                                                                                                                                                                                                                                                                                                                                                                                                                                                                                                                           None   \n",
       "55                                                                                                                                                                                                                                                                                                                                                                                                                                                                                                                                                         corn-flour, cereal, flour, corn, whole-cane-sugar, added-sugar, disaccharide, sugar, cane-sugar, unrefined-sugar, unrefined-cane-sugar, sea-salt, salt   \n",
       "56                                                                                                                                                                                                                                                                                                                                                                                                                                                                                                                                                                                                                                                                                                           None   \n",
       "57                                                                                                                                                                                                                                                                                                                                                                                                                                                                                                                                                                                                                                                                                                           None   \n",
       "58                                                                                                                                                                                                                                                                                                                                                                                                                                                                                                                                                                                                                                                                                                           None   \n",
       "59                                                                                                                                                                                                                                                                                                                                                                                                                                                                                                                                                                                                                                                                                                           None   \n",
       "\n",
       "                                                                                                                                                                                                                                                                                                               categories  \\\n",
       "0                                                                                                                                                                                                                                                                                                           salted-snacks   \n",
       "1                                                                                                                                                                                                                                                              dairies, fermented-foods, fermented-milk-products, cheeses   \n",
       "2                                                                                                                                                plant-based-foods-and-beverages, plant-based-foods, fruits-and-vegetables-based-foods, vegetables-based-foods, frozen-foods, frozen-plant-based-foods, frozen-vegetables   \n",
       "3                                                                                                                                                                                                            plant-based-foods-and-beverages, plant-based-foods, cereals-and-potatoes, cereals-and-their-products, pastas   \n",
       "4                                                                                                                                                                                                              meats-and-their-products, beef-and-its-products, meats, beef, pork-and-its-products, pork, beef-short-ribs   \n",
       "5                                               plant-based-foods-and-beverages, plant-based-foods, fruits-and-vegetables-based-foods, condiments, vegetables-based-foods, culinary-plants, dried-products, dried-plant-based-foods, garlic-and-their-products, garlic, ground-dried-vegetables, garlic-powder, groceries   \n",
       "6                                                                                                                                                                                                                                                                                                                    None   \n",
       "7                                                                                                                                                                                                                                                                                                                    None   \n",
       "8                                                                                                                                                                            plant-based-foods-and-beverages, plant-based-foods, breakfasts, cereals-and-potatoes, cereals-and-their-products, breakfast-cereals, mueslis   \n",
       "9                                                                                                                                                                            snacks, sweet-snacks, cocoa-and-its-products, confectioneries, chocolate-candies, bonbons, chocolate-covered-nuts, chocolate-covered-almonds   \n",
       "10                                                                                                                                                                                                                                                    dairies, desserts, dairy-desserts, creamy-puddings, coffee-desserts   \n",
       "11                                                                                                                                                                                                                                                                                                                   None   \n",
       "12                                                                                                                                                                                    seafood, fishes-and-their-products, fishes, fatty-fishes, salmons, smoked-fishes, smoked-salmons, wild-salmons, wild-smoked-salmons   \n",
       "13                                                                                                                                                                                                                                                                                                                   None   \n",
       "14                                                                                                                                                                                                                                                                                                                   None   \n",
       "15                                                                                                                                                                                                                                             snacks, sweet-snacks, biscuits-and-cakes, biscuits, wafers, stuffed-wafers   \n",
       "16  plant-based-foods-and-beverages, plant-based-foods, fruits-and-vegetables-based-foods, condiments, vegetables-based-foods, specific-products, dried-products, products-for-specific-diets, spices, dried-plant-based-foods, onions-and-their-products, products-without-gluten, ground-dried-vegetables, onion-powder   \n",
       "17                                                                                                                                                                                                           plant-based-foods-and-beverages, plant-based-foods, cereals-and-potatoes, cereals-and-their-products, pastas   \n",
       "18                                                                                                                                                                                                                                                         snacks, sweet-snacks, biscuits-and-cakes, biscuits, cat-tongue   \n",
       "19                                                                                                                                                                                                                                                                                                                   None   \n",
       "20                                                                                                                                                                                                                                  plant-based-foods-and-beverages, plant-based-foods, fruits-and-vegetables-based-foods   \n",
       "21                                                                                                                                                                                                                                                                                                  condiments, groceries   \n",
       "22                                                                                                                                                                                                                                                                                                                   None   \n",
       "23                                                                                                                                                                                                                                                                                                                   None   \n",
       "24                                                                                                                                                                                                                                                                                                                   None   \n",
       "25                                                                                                                                                                                                                                                                                                                   None   \n",
       "26                                                                                                                                                                                                                                                                                         beverages, alcoholic-beverages   \n",
       "27                                                                                                                                                                                   meats-and-their-products, meats, chicken-and-its-products, poultries, chickens, cooked-poultries, cooked-chicken, chicken-drumsticks   \n",
       "28                                                                                                                                                                                                                                                                                                                   None   \n",
       "29                                                                                                                                                                                                                                                                                                                   None   \n",
       "30                                                                                                                                                                                                                                                                                                                   None   \n",
       "31                                                                                                                                                                                                                                                                                                                   None   \n",
       "32                                                                                                                                                                                                                                                                                                                   None   \n",
       "33                                                                                                                                                                                                                                              snacks, sweet-snacks, cocoa-and-its-products, chocolates, dark-chocolates   \n",
       "34                                                                                                                                                                                                                                                                                                                   None   \n",
       "35                                                                                                                                                                                                                                                                                                                   None   \n",
       "36                                                                                                                                                                                                                                                                                                                   None   \n",
       "37                                                                                                                                                                                                                                                                                                                   None   \n",
       "38                                                                                                                                                                                                                                                                                                                   None   \n",
       "39                                                                                                                                                                                                                                                                                                    dietary-supplements   \n",
       "40                                                                                                                                                                                                                                                                                                                   None   \n",
       "41                                                                                                                                                                                                                                                 meats-and-their-products, prepared-meats, hams, cured-hams, dried-hams   \n",
       "42                                                                                                                                                                                                                                            dairies, fermented-foods, fermented-milk-products, cheeses, spanish-cheeses   \n",
       "43                                                                                                                                                                                                                                                                                                         dairies, milks   \n",
       "44                                                                                                                                                                                                                                                                                                                   None   \n",
       "45                                                                                                                                                                                                                                                                                                                   None   \n",
       "46                                                                                                                                                                                                                                                                                                                   None   \n",
       "47                                                                                                                                                                                                                                                                                                                   None   \n",
       "48                                                                                                                                                                                                                                             snacks, sweet-snacks, biscuits-and-cakes, cakes, filled-sponge-cake-slices   \n",
       "49                                                                                                                                                                                                                                                                                                                   None   \n",
       "50                                                                                                                                                                                                                                                            snacks, sweet-snacks, biscuits-and-cakes, cakes, madeleines   \n",
       "51                                                                                                                                                                                                  desserts, frozen-foods, frozen-desserts, ice-creams-and-sorbets, ice-creams, ice-cream-tubs, pistachio-ice-cream-tubs   \n",
       "52                                                                                                                                                                                                                                                                                                                   None   \n",
       "53                                                                                                                                                                                                                                                                                                                   None   \n",
       "54                                                                                                                                                                                                                                       plant-based-foods-and-beverages, plant-based-foods, cereals-and-potatoes, breads   \n",
       "55                                                                                                                                                                                                                 plant-based-foods-and-beverages, plant-based-foods, snacks, cereals-and-potatoes, extruded-crispbreads   \n",
       "56                                                                                                                                                                                                                                                                                                                   None   \n",
       "57                                                                                                                                                                                                                                                                                                                   None   \n",
       "58                                                                                                                                                                                                                                                                                                                   None   \n",
       "59                                                                                                                                                                                                                                                                                                                   None   \n",
       "\n",
       "    labels_note  \n",
       "0             0  \n",
       "1             0  \n",
       "2             0  \n",
       "3             0  \n",
       "4             2  \n",
       "5             1  \n",
       "6             0  \n",
       "7             0  \n",
       "8             3  \n",
       "9             0  \n",
       "10            3  \n",
       "11            0  \n",
       "12            0  \n",
       "13            2  \n",
       "14            2  \n",
       "15            0  \n",
       "16            2  \n",
       "17            2  \n",
       "18            0  \n",
       "19            0  \n",
       "20            0  \n",
       "21            0  \n",
       "22            0  \n",
       "23            0  \n",
       "24            1  \n",
       "25            0  \n",
       "26            2  \n",
       "27            0  \n",
       "28            1  \n",
       "29            0  \n",
       "30            0  \n",
       "31            0  \n",
       "32            1  \n",
       "33            4  \n",
       "34            0  \n",
       "35            0  \n",
       "36            0  \n",
       "37            1  \n",
       "38            0  \n",
       "39            2  \n",
       "40            0  \n",
       "41            2  \n",
       "42            1  \n",
       "43            1  \n",
       "44            0  \n",
       "45            3  \n",
       "46            5  \n",
       "47            0  \n",
       "48            0  \n",
       "49            2  \n",
       "50            0  \n",
       "51            1  \n",
       "52            1  \n",
       "53            1  \n",
       "54            3  \n",
       "55            9  \n",
       "56            3  \n",
       "57            0  \n",
       "58            0  \n",
       "59            0  "
      ]
     },
     "execution_count": 38,
     "metadata": {},
     "output_type": "execute_result"
    }
   ],
   "source": [
    "df = pd.read_json(jsonl_sample, lines=True)\n",
    "df.head(60)"
   ]
  },
  {
   "cell_type": "code",
   "execution_count": 39,
   "metadata": {},
   "outputs": [],
   "source": [
    "def display_first_n_lines_to_dataframe(jsonl_02, num_lines):\n",
    "    data = []\n",
    "    with open(jsonl_02, 'r', encoding='utf-8') as file:\n",
    "        for i, line in enumerate(file):\n",
    "            if i < num_lines:\n",
    "                data.append(json.loads(line.strip()))\n",
    "            else:\n",
    "                break\n",
    "    df_check = pd.DataFrame(data)\n",
    "    return df_check\n",
    "\n",
    "df_check = display_first_n_lines_to_dataframe(jsonl_02, num_lines=60)"
   ]
  },
  {
   "cell_type": "code",
   "execution_count": 40,
   "metadata": {},
   "outputs": [
    {
     "data": {
      "text/html": [
       "<div>\n",
       "<style scoped>\n",
       "    .dataframe tbody tr th:only-of-type {\n",
       "        vertical-align: middle;\n",
       "    }\n",
       "\n",
       "    .dataframe tbody tr th {\n",
       "        vertical-align: top;\n",
       "    }\n",
       "\n",
       "    .dataframe thead th {\n",
       "        text-align: right;\n",
       "    }\n",
       "</style>\n",
       "<table border=\"1\" class=\"dataframe\">\n",
       "  <thead>\n",
       "    <tr style=\"text-align: right;\">\n",
       "      <th></th>\n",
       "      <th>groups</th>\n",
       "      <th>packaging</th>\n",
       "      <th>name</th>\n",
       "      <th>ecoscore_groups</th>\n",
       "      <th>ecoscore_note</th>\n",
       "      <th>code</th>\n",
       "      <th>countries</th>\n",
       "      <th>ingredients</th>\n",
       "      <th>categories</th>\n",
       "      <th>labels_note</th>\n",
       "    </tr>\n",
       "  </thead>\n",
       "  <tbody>\n",
       "    <tr>\n",
       "      <th>0</th>\n",
       "      <td>None</td>\n",
       "      <td>none</td>\n",
       "      <td>brandenburger stachelbeere</td>\n",
       "      <td>z</td>\n",
       "      <td>999.0</td>\n",
       "      <td>0</td>\n",
       "      <td>none, none</td>\n",
       "      <td>None</td>\n",
       "      <td>None</td>\n",
       "      <td>0</td>\n",
       "    </tr>\n",
       "    <tr>\n",
       "      <th>1</th>\n",
       "      <td>sugary snacks</td>\n",
       "      <td>30g bottle, slim bottle</td>\n",
       "      <td>chocolat au lait</td>\n",
       "      <td>z</td>\n",
       "      <td>999.0</td>\n",
       "      <td>0</td>\n",
       "      <td>france, united states</td>\n",
       "      <td>mode-d-utilisation-utilisez-la-ut-assaisonner-les-potes-les-pizzas-et-lasagnes, prete-o-l-emploi, 182, alba, www-cascinasancassiano-com, pourioogde-produit-dtmurts-leg-prunes-lg-0-3b-4-22-cascina-san-cassiano-c-so-piave</td>\n",
       "      <td>snacks, sweet-snacks, confectioneries, chewing-gum, sugar-free-chewing-gum</td>\n",
       "      <td>0</td>\n",
       "    </tr>\n",
       "    <tr>\n",
       "      <th>2</th>\n",
       "      <td>None</td>\n",
       "      <td>none</td>\n",
       "      <td>vitória crackers</td>\n",
       "      <td>z</td>\n",
       "      <td>999.0</td>\n",
       "      <td>17</td>\n",
       "      <td>france</td>\n",
       "      <td>None</td>\n",
       "      <td>None</td>\n",
       "      <td>0</td>\n",
       "    </tr>\n",
       "    <tr>\n",
       "      <th>3</th>\n",
       "      <td>fat and sauces</td>\n",
       "      <td>none</td>\n",
       "      <td>moutarde au moût de raisin</td>\n",
       "      <td>c</td>\n",
       "      <td>54.0</td>\n",
       "      <td>100</td>\n",
       "      <td>france</td>\n",
       "      <td>None</td>\n",
       "      <td>condiments, sauces, mustards, groceries</td>\n",
       "      <td>0</td>\n",
       "    </tr>\n",
       "    <tr>\n",
       "      <th>4</th>\n",
       "      <td>None</td>\n",
       "      <td>none</td>\n",
       "      <td>sauce sweety chili 0%</td>\n",
       "      <td>z</td>\n",
       "      <td>999.0</td>\n",
       "      <td>123</td>\n",
       "      <td>france</td>\n",
       "      <td>None</td>\n",
       "      <td>None</td>\n",
       "      <td>0</td>\n",
       "    </tr>\n",
       "    <tr>\n",
       "      <th>5</th>\n",
       "      <td>None</td>\n",
       "      <td>none</td>\n",
       "      <td>mendiants</td>\n",
       "      <td>z</td>\n",
       "      <td>999.0</td>\n",
       "      <td>291</td>\n",
       "      <td>france</td>\n",
       "      <td>None</td>\n",
       "      <td>None</td>\n",
       "      <td>0</td>\n",
       "    </tr>\n",
       "    <tr>\n",
       "      <th>6</th>\n",
       "      <td>composite foods</td>\n",
       "      <td>none</td>\n",
       "      <td>salade de carottes râpées</td>\n",
       "      <td>b</td>\n",
       "      <td>75.0</td>\n",
       "      <td>949</td>\n",
       "      <td>france</td>\n",
       "      <td>None</td>\n",
       "      <td>plant-based-foods-and-beverages, plant-based-foods, fruits-and-vegetables-based-foods, vegetables-based-foods, meals, vegetables, prepared-vegetables, carrots, carrot-salads, grated-carrots, seasoned-grated-carrots</td>\n",
       "      <td>0</td>\n",
       "    </tr>\n",
       "    <tr>\n",
       "      <th>7</th>\n",
       "      <td>None</td>\n",
       "      <td>none</td>\n",
       "      <td>fromage blanc aux myrtilles</td>\n",
       "      <td>z</td>\n",
       "      <td>999.0</td>\n",
       "      <td>970</td>\n",
       "      <td>france</td>\n",
       "      <td>None</td>\n",
       "      <td>None</td>\n",
       "      <td>0</td>\n",
       "    </tr>\n",
       "    <tr>\n",
       "      <th>8</th>\n",
       "      <td>None</td>\n",
       "      <td>none</td>\n",
       "      <td>solène céréales poulet</td>\n",
       "      <td>z</td>\n",
       "      <td>999.0</td>\n",
       "      <td>1199</td>\n",
       "      <td>france</td>\n",
       "      <td>antioxidant, colour, tomato, vegetable, fruit-vegetable, mayonnaise, sauce, e316, e150, colza-oil, oil-and-fat, vegetable-oil-and-fat, rapeseed-oil, water, egg-yolk, egg, vinegar, mustard, salt, dextrose, added-sugar, monosaccharide, glucose, stabiliser, preservative, flavouring, mustard-seed, condiment, spice, turmeric, e466, e202, e160a</td>\n",
       "      <td>None</td>\n",
       "      <td>0</td>\n",
       "    </tr>\n",
       "    <tr>\n",
       "      <th>9</th>\n",
       "      <td>composite foods</td>\n",
       "      <td>plastique, barquette</td>\n",
       "      <td>tarte noix de coco</td>\n",
       "      <td>z</td>\n",
       "      <td>999.0</td>\n",
       "      <td>1281</td>\n",
       "      <td>france</td>\n",
       "      <td>None</td>\n",
       "      <td>sweet-pies, pies, coconut-pies</td>\n",
       "      <td>0</td>\n",
       "    </tr>\n",
       "    <tr>\n",
       "      <th>10</th>\n",
       "      <td>None</td>\n",
       "      <td>none</td>\n",
       "      <td>salade de fruits exotiques</td>\n",
       "      <td>z</td>\n",
       "      <td>999.0</td>\n",
       "      <td>1311</td>\n",
       "      <td>france</td>\n",
       "      <td>None</td>\n",
       "      <td>None</td>\n",
       "      <td>0</td>\n",
       "    </tr>\n",
       "    <tr>\n",
       "      <th>11</th>\n",
       "      <td>None</td>\n",
       "      <td>none</td>\n",
       "      <td>chouquettes x 30</td>\n",
       "      <td>z</td>\n",
       "      <td>999.0</td>\n",
       "      <td>1328</td>\n",
       "      <td>france</td>\n",
       "      <td>None</td>\n",
       "      <td>None</td>\n",
       "      <td>0</td>\n",
       "    </tr>\n",
       "    <tr>\n",
       "      <th>12</th>\n",
       "      <td>None</td>\n",
       "      <td>none</td>\n",
       "      <td>fromage blanc pêche</td>\n",
       "      <td>z</td>\n",
       "      <td>999.0</td>\n",
       "      <td>1564</td>\n",
       "      <td>france</td>\n",
       "      <td>None</td>\n",
       "      <td>None</td>\n",
       "      <td>0</td>\n",
       "    </tr>\n",
       "    <tr>\n",
       "      <th>13</th>\n",
       "      <td>None</td>\n",
       "      <td>none</td>\n",
       "      <td>crème dessert chocolat</td>\n",
       "      <td>z</td>\n",
       "      <td>999.0</td>\n",
       "      <td>1663</td>\n",
       "      <td>france</td>\n",
       "      <td>whole-milk, dairy, milk, sugar, added-sugar, disaccharide, corn-starch, starch, cocoa, plant, e406</td>\n",
       "      <td>None</td>\n",
       "      <td>0</td>\n",
       "    </tr>\n",
       "    <tr>\n",
       "      <th>14</th>\n",
       "      <td>fruits and vegetables</td>\n",
       "      <td>none</td>\n",
       "      <td>compote de poire</td>\n",
       "      <td>b</td>\n",
       "      <td>76.0</td>\n",
       "      <td>1885</td>\n",
       "      <td>france</td>\n",
       "      <td>None</td>\n",
       "      <td>plant-based-foods-and-beverages, plant-based-foods, fruits-and-vegetables-based-foods, desserts, fruits-based-foods, compotes, pear-compotes</td>\n",
       "      <td>0</td>\n",
       "    </tr>\n",
       "    <tr>\n",
       "      <th>15</th>\n",
       "      <td>None</td>\n",
       "      <td>none</td>\n",
       "      <td>paëlla de poulet</td>\n",
       "      <td>z</td>\n",
       "      <td>999.0</td>\n",
       "      <td>2042</td>\n",
       "      <td>france</td>\n",
       "      <td>None</td>\n",
       "      <td>None</td>\n",
       "      <td>0</td>\n",
       "    </tr>\n",
       "    <tr>\n",
       "      <th>16</th>\n",
       "      <td>None</td>\n",
       "      <td>none</td>\n",
       "      <td>salade shaker chef</td>\n",
       "      <td>z</td>\n",
       "      <td>999.0</td>\n",
       "      <td>2219</td>\n",
       "      <td>france</td>\n",
       "      <td>None</td>\n",
       "      <td>None</td>\n",
       "      <td>0</td>\n",
       "    </tr>\n",
       "    <tr>\n",
       "      <th>17</th>\n",
       "      <td>composite foods</td>\n",
       "      <td>none</td>\n",
       "      <td>salade de macedoine de légumes</td>\n",
       "      <td>b</td>\n",
       "      <td>77.0</td>\n",
       "      <td>2257</td>\n",
       "      <td>france</td>\n",
       "      <td>None</td>\n",
       "      <td>plant-based-foods-and-beverages, plant-based-foods, snacks, salty-snacks, appetizers, meals, prepared-vegetables, cold-starters, vegetables-macedoines</td>\n",
       "      <td>0</td>\n",
       "    </tr>\n",
       "    <tr>\n",
       "      <th>18</th>\n",
       "      <td>None</td>\n",
       "      <td>none</td>\n",
       "      <td>baguette poitevin</td>\n",
       "      <td>z</td>\n",
       "      <td>999.0</td>\n",
       "      <td>2264</td>\n",
       "      <td>france</td>\n",
       "      <td>water, salt, yeast, gluten, deactivated-yeast, e300, wheat-flour, cereal, flour, wheat, cereal-flour, pasteurised-milk, dairy, milk, coagulant</td>\n",
       "      <td>None</td>\n",
       "      <td>0</td>\n",
       "    </tr>\n",
       "    <tr>\n",
       "      <th>19</th>\n",
       "      <td>None</td>\n",
       "      <td>none</td>\n",
       "      <td>ciabatta bombay</td>\n",
       "      <td>z</td>\n",
       "      <td>999.0</td>\n",
       "      <td>2400</td>\n",
       "      <td>france</td>\n",
       "      <td>None</td>\n",
       "      <td>None</td>\n",
       "      <td>0</td>\n",
       "    </tr>\n",
       "    <tr>\n",
       "      <th>20</th>\n",
       "      <td>None</td>\n",
       "      <td>none</td>\n",
       "      <td>ciabatta roma</td>\n",
       "      <td>z</td>\n",
       "      <td>999.0</td>\n",
       "      <td>2417</td>\n",
       "      <td>france</td>\n",
       "      <td>None</td>\n",
       "      <td>None</td>\n",
       "      <td>0</td>\n",
       "    </tr>\n",
       "    <tr>\n",
       "      <th>21</th>\n",
       "      <td>None</td>\n",
       "      <td>none</td>\n",
       "      <td>farine de blé noir</td>\n",
       "      <td>z</td>\n",
       "      <td>999.0</td>\n",
       "      <td>3087</td>\n",
       "      <td>france</td>\n",
       "      <td>None</td>\n",
       "      <td>None</td>\n",
       "      <td>0</td>\n",
       "    </tr>\n",
       "    <tr>\n",
       "      <th>22</th>\n",
       "      <td>None</td>\n",
       "      <td>none</td>\n",
       "      <td>mousse chocolat douceur</td>\n",
       "      <td>z</td>\n",
       "      <td>999.0</td>\n",
       "      <td>3384</td>\n",
       "      <td>france</td>\n",
       "      <td>None</td>\n",
       "      <td>None</td>\n",
       "      <td>0</td>\n",
       "    </tr>\n",
       "    <tr>\n",
       "      <th>23</th>\n",
       "      <td>None</td>\n",
       "      <td>none</td>\n",
       "      <td>coca des flandres</td>\n",
       "      <td>z</td>\n",
       "      <td>999.0</td>\n",
       "      <td>3780</td>\n",
       "      <td>france</td>\n",
       "      <td>None</td>\n",
       "      <td>None</td>\n",
       "      <td>0</td>\n",
       "    </tr>\n",
       "    <tr>\n",
       "      <th>24</th>\n",
       "      <td>None</td>\n",
       "      <td>none</td>\n",
       "      <td>brochettes dinde</td>\n",
       "      <td>z</td>\n",
       "      <td>999.0</td>\n",
       "      <td>3803</td>\n",
       "      <td>france</td>\n",
       "      <td>None</td>\n",
       "      <td>None</td>\n",
       "      <td>0</td>\n",
       "    </tr>\n",
       "    <tr>\n",
       "      <th>25</th>\n",
       "      <td>None</td>\n",
       "      <td>none</td>\n",
       "      <td>suedois saumon</td>\n",
       "      <td>z</td>\n",
       "      <td>999.0</td>\n",
       "      <td>3827</td>\n",
       "      <td>france</td>\n",
       "      <td>water, rye-flour, flour, cereal-flour, sugar, added-sugar, disaccharide, colza-oil, oil-and-fat, vegetable-oil-and-fat, rapeseed-oil, sugar-syrup, wheat-gluten, gluten, salt, yeast, sourdough, dough, raising-agent, fructose, monosaccharide, flour-treatment-agent, enzyme, filling, salad, vegetable, wheat-flour, cereal, wheat, rye, e503, e300, atlantic-salmon, fish, oily-fish, salmon</td>\n",
       "      <td>None</td>\n",
       "      <td>0</td>\n",
       "    </tr>\n",
       "    <tr>\n",
       "      <th>26</th>\n",
       "      <td>None</td>\n",
       "      <td>none</td>\n",
       "      <td>salade shaker taboulé</td>\n",
       "      <td>z</td>\n",
       "      <td>999.0</td>\n",
       "      <td>4510</td>\n",
       "      <td>france</td>\n",
       "      <td>vegetable, colza-oil, oil-and-fat, vegetable-oil-and-fat, rapeseed-oil, salt, mint, herb, lemon-juice, fruit, juice, fruit-juice, sugar, added-sugar, disaccharide, preservative, flavouring, e202</td>\n",
       "      <td>None</td>\n",
       "      <td>0</td>\n",
       "    </tr>\n",
       "    <tr>\n",
       "      <th>27</th>\n",
       "      <td>None</td>\n",
       "      <td>none</td>\n",
       "      <td>banana chips sweetened (whole)</td>\n",
       "      <td>z</td>\n",
       "      <td>999.0</td>\n",
       "      <td>4530</td>\n",
       "      <td>united states</td>\n",
       "      <td>banana, fruit, vegetable-oil, oil-and-fat, vegetable-oil-and-fat, sugar, added-sugar, disaccharide, natural-banana-flavouring, flavouring, natural-flavouring, coconut-oil, corn-oil, palm-oil, palm-oil-and-fat</td>\n",
       "      <td>None</td>\n",
       "      <td>0</td>\n",
       "    </tr>\n",
       "    <tr>\n",
       "      <th>28</th>\n",
       "      <td>None</td>\n",
       "      <td>none</td>\n",
       "      <td>peanuts</td>\n",
       "      <td>z</td>\n",
       "      <td>999.0</td>\n",
       "      <td>4559</td>\n",
       "      <td>united states</td>\n",
       "      <td>peanut, nut, wheat-flour, cereal, flour, wheat, cereal-flour, sugar, added-sugar, disaccharide, rice-flour, rice, tapioca, starch, salt, raising-agent, soy-sauce, sauce, potato-starch, e503ii, e503, e500ii, e500, water, soya-bean, vegetable, legume, pulse, soya</td>\n",
       "      <td>None</td>\n",
       "      <td>0</td>\n",
       "    </tr>\n",
       "    <tr>\n",
       "      <th>29</th>\n",
       "      <td>None</td>\n",
       "      <td>none</td>\n",
       "      <td>pain epeautre</td>\n",
       "      <td>z</td>\n",
       "      <td>999.0</td>\n",
       "      <td>4572</td>\n",
       "      <td>france</td>\n",
       "      <td>None</td>\n",
       "      <td>None</td>\n",
       "      <td>0</td>\n",
       "    </tr>\n",
       "    <tr>\n",
       "      <th>30</th>\n",
       "      <td>None</td>\n",
       "      <td>none</td>\n",
       "      <td>fromage blanc à la creme de marron</td>\n",
       "      <td>z</td>\n",
       "      <td>999.0</td>\n",
       "      <td>4794</td>\n",
       "      <td>france</td>\n",
       "      <td>sugar, added-sugar, disaccharide</td>\n",
       "      <td>None</td>\n",
       "      <td>0</td>\n",
       "    </tr>\n",
       "    <tr>\n",
       "      <th>31</th>\n",
       "      <td>milk and dairy products</td>\n",
       "      <td>none</td>\n",
       "      <td>abondance</td>\n",
       "      <td>c</td>\n",
       "      <td>52.0</td>\n",
       "      <td>5005</td>\n",
       "      <td>france</td>\n",
       "      <td>None</td>\n",
       "      <td>dairies, fermented-foods, fermented-milk-products, cheeses, french-cheeses, abondance</td>\n",
       "      <td>0</td>\n",
       "    </tr>\n",
       "    <tr>\n",
       "      <th>32</th>\n",
       "      <td>None</td>\n",
       "      <td>none</td>\n",
       "      <td>salade verte</td>\n",
       "      <td>z</td>\n",
       "      <td>999.0</td>\n",
       "      <td>5081</td>\n",
       "      <td>france</td>\n",
       "      <td>None</td>\n",
       "      <td>None</td>\n",
       "      <td>0</td>\n",
       "    </tr>\n",
       "    <tr>\n",
       "      <th>33</th>\n",
       "      <td>None</td>\n",
       "      <td>none</td>\n",
       "      <td>sandwich solene céréales sicilien</td>\n",
       "      <td>z</td>\n",
       "      <td>999.0</td>\n",
       "      <td>5272</td>\n",
       "      <td>france</td>\n",
       "      <td>salt, yeast, filling, coppa, animal, meat, pork, pork-meat, ham, salad, vegetable, tomato, fruit-vegetable, basil, herb, olive-oil, oil-and-fat, vegetable-oil-and-fat, vegetable-oil, wheat-flour, cereal, flour, wheat, cereal-flour, wheat-gluten, gluten, whole-wheat-flour, wholemeal-flour, corn-flour, corn, durum-wheat-semolina, durum-wheat, semolina, flax-seed, seed, flax, sesame-seeds, sesame, rye-flour, corn-dextrose, added-sugar, monosaccharide, glucose, dextrose, fennel, stalk-vegetable, natural-flavouring, flavouring, sugar, disaccharide, preservative, e252, e250</td>\n",
       "      <td>None</td>\n",
       "      <td>0</td>\n",
       "    </tr>\n",
       "    <tr>\n",
       "      <th>34</th>\n",
       "      <td>None</td>\n",
       "      <td>none</td>\n",
       "      <td>brioché poulet caesar</td>\n",
       "      <td>z</td>\n",
       "      <td>999.0</td>\n",
       "      <td>5388</td>\n",
       "      <td>france</td>\n",
       "      <td>None</td>\n",
       "      <td>None</td>\n",
       "      <td>0</td>\n",
       "    </tr>\n",
       "    <tr>\n",
       "      <th>35</th>\n",
       "      <td>cereals and potatoes</td>\n",
       "      <td>none</td>\n",
       "      <td>baguette bressan</td>\n",
       "      <td>b</td>\n",
       "      <td>77.0</td>\n",
       "      <td>5470</td>\n",
       "      <td>france</td>\n",
       "      <td>wheat-flour, cereal, flour, wheat, cereal-flour, water, salt, yeast, gluten, malted-wheat-flour, deactivated-yeast, e300, filling, acid, modified-tapioca-starch, starch, modified-starch, tapioca, flavouring, colour, bone, chicken-fillet, poultry, chicken, chicken-meat, e326, e262i, e262</td>\n",
       "      <td>plant-based-foods-and-beverages, plant-based-foods, cereals-and-potatoes, breads, baguettes</td>\n",
       "      <td>0</td>\n",
       "    </tr>\n",
       "    <tr>\n",
       "      <th>36</th>\n",
       "      <td>fish meat eggs</td>\n",
       "      <td>none</td>\n",
       "      <td>pavé de saumon fumé à la ficelle</td>\n",
       "      <td>e</td>\n",
       "      <td>9.0</td>\n",
       "      <td>5661</td>\n",
       "      <td>france</td>\n",
       "      <td>None</td>\n",
       "      <td>seafood, fishes-and-their-products, fishes, fatty-fishes, salmons, smoked-fishes, smoked-salmons, salmon-steaks</td>\n",
       "      <td>0</td>\n",
       "    </tr>\n",
       "    <tr>\n",
       "      <th>37</th>\n",
       "      <td>None</td>\n",
       "      <td>none</td>\n",
       "      <td>torti au saumon fumé</td>\n",
       "      <td>z</td>\n",
       "      <td>999.0</td>\n",
       "      <td>7009</td>\n",
       "      <td>france</td>\n",
       "      <td>None</td>\n",
       "      <td>None</td>\n",
       "      <td>0</td>\n",
       "    </tr>\n",
       "    <tr>\n",
       "      <th>38</th>\n",
       "      <td>fish meat eggs</td>\n",
       "      <td>none</td>\n",
       "      <td>corned beef</td>\n",
       "      <td>z</td>\n",
       "      <td>999.0</td>\n",
       "      <td>7160</td>\n",
       "      <td>france</td>\n",
       "      <td>None</td>\n",
       "      <td>canned-foods, meats-and-their-products, meals, meats, meals-with-meat, beef-dishes, canned-meats, corned-beef</td>\n",
       "      <td>0</td>\n",
       "    </tr>\n",
       "    <tr>\n",
       "      <th>39</th>\n",
       "      <td>None</td>\n",
       "      <td>none</td>\n",
       "      <td>mediterranean pasta salad</td>\n",
       "      <td>z</td>\n",
       "      <td>999.0</td>\n",
       "      <td>9317</td>\n",
       "      <td>none</td>\n",
       "      <td>None</td>\n",
       "      <td>None</td>\n",
       "      <td>0</td>\n",
       "    </tr>\n",
       "    <tr>\n",
       "      <th>40</th>\n",
       "      <td>None</td>\n",
       "      <td>none</td>\n",
       "      <td>pâte de fruit fraise</td>\n",
       "      <td>z</td>\n",
       "      <td>999.0</td>\n",
       "      <td>14595</td>\n",
       "      <td>france</td>\n",
       "      <td>None</td>\n",
       "      <td>None</td>\n",
       "      <td>6</td>\n",
       "    </tr>\n",
       "    <tr>\n",
       "      <th>41</th>\n",
       "      <td>None</td>\n",
       "      <td>none</td>\n",
       "      <td>organic salted nut mix</td>\n",
       "      <td>z</td>\n",
       "      <td>999.0</td>\n",
       "      <td>16087</td>\n",
       "      <td>united states</td>\n",
       "      <td>hazelnut, nut, tree-nut, cashew-nuts, walnuts-almonds, sunflower-oil, oil-and-fat, vegetable-oil-and-fat, vegetable-oil, sea-salt, salt</td>\n",
       "      <td>None</td>\n",
       "      <td>1</td>\n",
       "    </tr>\n",
       "    <tr>\n",
       "      <th>42</th>\n",
       "      <td>None</td>\n",
       "      <td>none</td>\n",
       "      <td>organic polenta</td>\n",
       "      <td>z</td>\n",
       "      <td>999.0</td>\n",
       "      <td>16094</td>\n",
       "      <td>united states</td>\n",
       "      <td>polenta</td>\n",
       "      <td>None</td>\n",
       "      <td>1</td>\n",
       "    </tr>\n",
       "    <tr>\n",
       "      <th>43</th>\n",
       "      <td>None</td>\n",
       "      <td>none</td>\n",
       "      <td>breadshop honey gone nuts granola</td>\n",
       "      <td>z</td>\n",
       "      <td>999.0</td>\n",
       "      <td>16100</td>\n",
       "      <td>united states</td>\n",
       "      <td>oat-flakes, cereal, oat, grape, fruit, berries, canola-oil, oil-and-fat, vegetable-oil-and-fat, rapeseed-oil, sunflower-seed, plant, seed, sunflower, almond, nut, tree-nut, walnuts-oat-bran, sesame-seeds, sesame, cashew-nuts, natural-vitamin-e</td>\n",
       "      <td>None</td>\n",
       "      <td>0</td>\n",
       "    </tr>\n",
       "    <tr>\n",
       "      <th>44</th>\n",
       "      <td>None</td>\n",
       "      <td>none</td>\n",
       "      <td>organic long grain white rice</td>\n",
       "      <td>z</td>\n",
       "      <td>999.0</td>\n",
       "      <td>16117</td>\n",
       "      <td>united states</td>\n",
       "      <td>long-grain-white-rice, rice, long-grain-rice, white-rice</td>\n",
       "      <td>None</td>\n",
       "      <td>1</td>\n",
       "    </tr>\n",
       "    <tr>\n",
       "      <th>45</th>\n",
       "      <td>None</td>\n",
       "      <td>none</td>\n",
       "      <td>organic muesli</td>\n",
       "      <td>z</td>\n",
       "      <td>999.0</td>\n",
       "      <td>16124</td>\n",
       "      <td>united states</td>\n",
       "      <td>org-oats, org-hemp-granola, org-raisins, org-dates, org-almonds, org-hazelnuts, org-coconut, org-sunflower-seeds, org-pumpkin-seeds, org-flax-seeds, org-corn-flakes, org-quinoa-amaranth-flakes, evaporated-cane-juice, sugarcane, sugarcane-juice, org-expeller-pressed-canola-oil, crispy-rice, org-oat-solids, hemp-seed, seed, org-corn-meal, org-grape-and-pear-juice-concentrate, sea-salt, salt, org-yellow-corn-flour, org-evaporated-cane-juice, org-flax, org-buckwheat-flour, org-quinoa, org-amaranth, e306, org-brown-rice-flour, org-molasses, natural-vitamin-e</td>\n",
       "      <td>None</td>\n",
       "      <td>1</td>\n",
       "    </tr>\n",
       "    <tr>\n",
       "      <th>46</th>\n",
       "      <td>None</td>\n",
       "      <td>none</td>\n",
       "      <td>organic dark chocolate minis</td>\n",
       "      <td>z</td>\n",
       "      <td>999.0</td>\n",
       "      <td>16193</td>\n",
       "      <td>united states</td>\n",
       "      <td>cocoa-paste, plant, cocoa, unrefined-cane-sugar, added-sugar, disaccharide, sugar, cane-sugar, unrefined-sugar, cocoa-butter, unrefined-whole-cane-sugar, whole-cane-sugar, ground-vanilla-beans, vanilla, vanilla-pod</td>\n",
       "      <td>None</td>\n",
       "      <td>1</td>\n",
       "    </tr>\n",
       "    <tr>\n",
       "      <th>47</th>\n",
       "      <td>None</td>\n",
       "      <td>none</td>\n",
       "      <td>organic sunflower oil</td>\n",
       "      <td>z</td>\n",
       "      <td>999.0</td>\n",
       "      <td>16513</td>\n",
       "      <td>united states</td>\n",
       "      <td>expeller-pressed, high-oleic-sunflower-oil, oil-and-fat, vegetable-oil-and-fat, vegetable-oil, sunflower-oil</td>\n",
       "      <td>None</td>\n",
       "      <td>1</td>\n",
       "    </tr>\n",
       "    <tr>\n",
       "      <th>48</th>\n",
       "      <td>None</td>\n",
       "      <td>none</td>\n",
       "      <td>organic adzuki beans</td>\n",
       "      <td>z</td>\n",
       "      <td>999.0</td>\n",
       "      <td>16612</td>\n",
       "      <td>united states</td>\n",
       "      <td>adzuki-bean, vegetable, legume, pulse</td>\n",
       "      <td>None</td>\n",
       "      <td>1</td>\n",
       "    </tr>\n",
       "    <tr>\n",
       "      <th>49</th>\n",
       "      <td>None</td>\n",
       "      <td>none</td>\n",
       "      <td>organic penne pasta</td>\n",
       "      <td>z</td>\n",
       "      <td>999.0</td>\n",
       "      <td>16650</td>\n",
       "      <td>united states</td>\n",
       "      <td>refined-durum-semolina-wheat-flour</td>\n",
       "      <td>None</td>\n",
       "      <td>1</td>\n",
       "    </tr>\n",
       "    <tr>\n",
       "      <th>50</th>\n",
       "      <td>None</td>\n",
       "      <td>none</td>\n",
       "      <td>zen party mix</td>\n",
       "      <td>z</td>\n",
       "      <td>999.0</td>\n",
       "      <td>16872</td>\n",
       "      <td>united states</td>\n",
       "      <td>roasted-peanuts, nut, peanut, sesame-sticks, chili-crackers, tamari-roasted-almonds, salt, canola-oil, oil-and-fat, vegetable-oil-and-fat, rapeseed-oil, wheat-flour, cereal, flour, wheat, cereal-flour, sesame-seeds, seed, sesame, sunflower-oil, vegetable-oil, sa, t, beetroot, vegetable, root-vegetable, taproot-vegetable, turmeric, condiment, spice, rice, corn-starch, starch, soy-sauce, sauce, brown-rice-syrup, added-sugar, disaccharide, rice-syrup, paprika, onion, onion-family-vegetable, garlic, almond, tree-nut, tamari-shoyu, water, soya-bean, legume, pulse, soya</td>\n",
       "      <td>None</td>\n",
       "      <td>0</td>\n",
       "    </tr>\n",
       "    <tr>\n",
       "      <th>51</th>\n",
       "      <td>None</td>\n",
       "      <td>none</td>\n",
       "      <td>organic golden flax seeds</td>\n",
       "      <td>z</td>\n",
       "      <td>999.0</td>\n",
       "      <td>16933</td>\n",
       "      <td>united states</td>\n",
       "      <td>golden-flax-seeds, seed, flax, flax-seed</td>\n",
       "      <td>None</td>\n",
       "      <td>1</td>\n",
       "    </tr>\n",
       "    <tr>\n",
       "      <th>52</th>\n",
       "      <td>None</td>\n",
       "      <td>none</td>\n",
       "      <td>organic spicy punks</td>\n",
       "      <td>z</td>\n",
       "      <td>999.0</td>\n",
       "      <td>17497</td>\n",
       "      <td>united states</td>\n",
       "      <td>pumpkin-seed, vegetable, fruit-vegetable, seed, pumpkin, tamari, sauce, soy-sauce, garlic, root-vegetable, onion-family-vegetable, cayenne-pepper, condiment, spice, soya-bean, legume, pulse, soya, water, salt</td>\n",
       "      <td>None</td>\n",
       "      <td>1</td>\n",
       "    </tr>\n",
       "    <tr>\n",
       "      <th>53</th>\n",
       "      <td>None</td>\n",
       "      <td>none</td>\n",
       "      <td>cinnamon nut granola</td>\n",
       "      <td>z</td>\n",
       "      <td>999.0</td>\n",
       "      <td>18012</td>\n",
       "      <td>united states</td>\n",
       "      <td>oat-flakes, cereal, oat, honey, added-sugar, raisin, fruit, berries, grape, almond, nut, tree-nut, sunflower-seed, plant, seed, sunflower, walnut, wheat-germ, wheat, unrefined-expeller-pressed-safflower-oil, molasses, disaccharide, sugar, cinnamon, condiment, spice</td>\n",
       "      <td>None</td>\n",
       "      <td>0</td>\n",
       "    </tr>\n",
       "    <tr>\n",
       "      <th>54</th>\n",
       "      <td>None</td>\n",
       "      <td>none</td>\n",
       "      <td>organic hazelnuts</td>\n",
       "      <td>z</td>\n",
       "      <td>999.0</td>\n",
       "      <td>18050</td>\n",
       "      <td>united states</td>\n",
       "      <td>hazelnut, nut, tree-nut</td>\n",
       "      <td>None</td>\n",
       "      <td>1</td>\n",
       "    </tr>\n",
       "    <tr>\n",
       "      <th>55</th>\n",
       "      <td>None</td>\n",
       "      <td>none</td>\n",
       "      <td>organic sweetened banana chips</td>\n",
       "      <td>z</td>\n",
       "      <td>999.0</td>\n",
       "      <td>18173</td>\n",
       "      <td>united states</td>\n",
       "      <td>banana, fruit, coconut-oil, oil-and-fat, vegetable-oil-and-fat, vegetable-oil, sugar, added-sugar, disaccharide</td>\n",
       "      <td>None</td>\n",
       "      <td>1</td>\n",
       "    </tr>\n",
       "    <tr>\n",
       "      <th>56</th>\n",
       "      <td>None</td>\n",
       "      <td>none</td>\n",
       "      <td>lotus organic brown jasmine rice</td>\n",
       "      <td>z</td>\n",
       "      <td>999.0</td>\n",
       "      <td>18197</td>\n",
       "      <td>united states</td>\n",
       "      <td>brown-jasmine-rice</td>\n",
       "      <td>None</td>\n",
       "      <td>1</td>\n",
       "    </tr>\n",
       "    <tr>\n",
       "      <th>57</th>\n",
       "      <td>None</td>\n",
       "      <td>none</td>\n",
       "      <td>organic oat groats</td>\n",
       "      <td>z</td>\n",
       "      <td>999.0</td>\n",
       "      <td>18227</td>\n",
       "      <td>united states</td>\n",
       "      <td>oat-groats</td>\n",
       "      <td>None</td>\n",
       "      <td>1</td>\n",
       "    </tr>\n",
       "    <tr>\n",
       "      <th>58</th>\n",
       "      <td>None</td>\n",
       "      <td>none</td>\n",
       "      <td>energy power mix</td>\n",
       "      <td>z</td>\n",
       "      <td>999.0</td>\n",
       "      <td>18265</td>\n",
       "      <td>united states</td>\n",
       "      <td>yogurt-raisins, tamari-roasted-almonds, tamari-roasted-soy-nuts, dark-chocolate-stars, cranberry, fruit, dark-chocolate-chunks, chocolate, dark-chocolate, peanut-paste, nut, peanut, milk-chocolate-raisins, pineapple, papaya, peanut-butter-peanuts-and-raisins, roasted-peanuts</td>\n",
       "      <td>None</td>\n",
       "      <td>0</td>\n",
       "    </tr>\n",
       "    <tr>\n",
       "      <th>59</th>\n",
       "      <td>None</td>\n",
       "      <td>none</td>\n",
       "      <td>antioxidant mix - berries &amp; chocolate</td>\n",
       "      <td>z</td>\n",
       "      <td>999.0</td>\n",
       "      <td>18289</td>\n",
       "      <td>united states</td>\n",
       "      <td>chocolate-stars, roasted-peanuts, nut, peanut, dry-roasted-almonds, tree-nut, almond, cashew-nuts, cranberry, fruit, cherry, prunus-species-fruit, walnut, blueberry, berries, sugarcane-juice, sugarcane, chocolate, cocoa-butter, plant, cocoa, soya-lecithin, e322, e322i, natural-vanilla, vanilla, safflower, and-canola-oil, salt, sea-salt, evaporated-cane-juice, sunflower-oil, oil-and-fat, vegetable-oil-and-fat, vegetable-oil, emulsifier</td>\n",
       "      <td>None</td>\n",
       "      <td>0</td>\n",
       "    </tr>\n",
       "  </tbody>\n",
       "</table>\n",
       "</div>"
      ],
      "text/plain": [
       "                     groups                packaging  \\\n",
       "0                      None                     none   \n",
       "1             sugary snacks  30g bottle, slim bottle   \n",
       "2                      None                     none   \n",
       "3            fat and sauces                     none   \n",
       "4                      None                     none   \n",
       "5                      None                     none   \n",
       "6           composite foods                     none   \n",
       "7                      None                     none   \n",
       "8                      None                     none   \n",
       "9           composite foods     plastique, barquette   \n",
       "10                     None                     none   \n",
       "11                     None                     none   \n",
       "12                     None                     none   \n",
       "13                     None                     none   \n",
       "14    fruits and vegetables                     none   \n",
       "15                     None                     none   \n",
       "16                     None                     none   \n",
       "17          composite foods                     none   \n",
       "18                     None                     none   \n",
       "19                     None                     none   \n",
       "20                     None                     none   \n",
       "21                     None                     none   \n",
       "22                     None                     none   \n",
       "23                     None                     none   \n",
       "24                     None                     none   \n",
       "25                     None                     none   \n",
       "26                     None                     none   \n",
       "27                     None                     none   \n",
       "28                     None                     none   \n",
       "29                     None                     none   \n",
       "30                     None                     none   \n",
       "31  milk and dairy products                     none   \n",
       "32                     None                     none   \n",
       "33                     None                     none   \n",
       "34                     None                     none   \n",
       "35     cereals and potatoes                     none   \n",
       "36           fish meat eggs                     none   \n",
       "37                     None                     none   \n",
       "38           fish meat eggs                     none   \n",
       "39                     None                     none   \n",
       "40                     None                     none   \n",
       "41                     None                     none   \n",
       "42                     None                     none   \n",
       "43                     None                     none   \n",
       "44                     None                     none   \n",
       "45                     None                     none   \n",
       "46                     None                     none   \n",
       "47                     None                     none   \n",
       "48                     None                     none   \n",
       "49                     None                     none   \n",
       "50                     None                     none   \n",
       "51                     None                     none   \n",
       "52                     None                     none   \n",
       "53                     None                     none   \n",
       "54                     None                     none   \n",
       "55                     None                     none   \n",
       "56                     None                     none   \n",
       "57                     None                     none   \n",
       "58                     None                     none   \n",
       "59                     None                     none   \n",
       "\n",
       "                                     name ecoscore_groups  ecoscore_note  \\\n",
       "0              brandenburger stachelbeere               z          999.0   \n",
       "1                        chocolat au lait               z          999.0   \n",
       "2                        vitória crackers               z          999.0   \n",
       "3             moutarde au moût de raisin                c           54.0   \n",
       "4                   sauce sweety chili 0%               z          999.0   \n",
       "5                               mendiants               z          999.0   \n",
       "6               salade de carottes râpées               b           75.0   \n",
       "7             fromage blanc aux myrtilles               z          999.0   \n",
       "8                  solène céréales poulet               z          999.0   \n",
       "9                      tarte noix de coco               z          999.0   \n",
       "10             salade de fruits exotiques               z          999.0   \n",
       "11                       chouquettes x 30               z          999.0   \n",
       "12                    fromage blanc pêche               z          999.0   \n",
       "13                 crème dessert chocolat               z          999.0   \n",
       "14                       compote de poire               b           76.0   \n",
       "15                       paëlla de poulet               z          999.0   \n",
       "16                     salade shaker chef               z          999.0   \n",
       "17         salade de macedoine de légumes               b           77.0   \n",
       "18                      baguette poitevin               z          999.0   \n",
       "19                        ciabatta bombay               z          999.0   \n",
       "20                          ciabatta roma               z          999.0   \n",
       "21                     farine de blé noir               z          999.0   \n",
       "22                mousse chocolat douceur               z          999.0   \n",
       "23                      coca des flandres               z          999.0   \n",
       "24                       brochettes dinde               z          999.0   \n",
       "25                         suedois saumon               z          999.0   \n",
       "26                  salade shaker taboulé               z          999.0   \n",
       "27         banana chips sweetened (whole)               z          999.0   \n",
       "28                                peanuts               z          999.0   \n",
       "29                          pain epeautre               z          999.0   \n",
       "30     fromage blanc à la creme de marron               z          999.0   \n",
       "31                              abondance               c           52.0   \n",
       "32                           salade verte               z          999.0   \n",
       "33      sandwich solene céréales sicilien               z          999.0   \n",
       "34                  brioché poulet caesar               z          999.0   \n",
       "35                       baguette bressan               b           77.0   \n",
       "36       pavé de saumon fumé à la ficelle               e            9.0   \n",
       "37                   torti au saumon fumé               z          999.0   \n",
       "38                            corned beef               z          999.0   \n",
       "39              mediterranean pasta salad               z          999.0   \n",
       "40                   pâte de fruit fraise               z          999.0   \n",
       "41                 organic salted nut mix               z          999.0   \n",
       "42                        organic polenta               z          999.0   \n",
       "43      breadshop honey gone nuts granola               z          999.0   \n",
       "44          organic long grain white rice               z          999.0   \n",
       "45                         organic muesli               z          999.0   \n",
       "46           organic dark chocolate minis               z          999.0   \n",
       "47                  organic sunflower oil               z          999.0   \n",
       "48                   organic adzuki beans               z          999.0   \n",
       "49                    organic penne pasta               z          999.0   \n",
       "50                          zen party mix               z          999.0   \n",
       "51              organic golden flax seeds               z          999.0   \n",
       "52                    organic spicy punks               z          999.0   \n",
       "53                   cinnamon nut granola               z          999.0   \n",
       "54                      organic hazelnuts               z          999.0   \n",
       "55         organic sweetened banana chips               z          999.0   \n",
       "56       lotus organic brown jasmine rice               z          999.0   \n",
       "57                     organic oat groats               z          999.0   \n",
       "58                       energy power mix               z          999.0   \n",
       "59  antioxidant mix - berries & chocolate               z          999.0   \n",
       "\n",
       "     code              countries  \\\n",
       "0       0             none, none   \n",
       "1       0  france, united states   \n",
       "2      17                 france   \n",
       "3     100                 france   \n",
       "4     123                 france   \n",
       "5     291                 france   \n",
       "6     949                 france   \n",
       "7     970                 france   \n",
       "8    1199                 france   \n",
       "9    1281                 france   \n",
       "10   1311                 france   \n",
       "11   1328                 france   \n",
       "12   1564                 france   \n",
       "13   1663                 france   \n",
       "14   1885                 france   \n",
       "15   2042                 france   \n",
       "16   2219                 france   \n",
       "17   2257                 france   \n",
       "18   2264                 france   \n",
       "19   2400                 france   \n",
       "20   2417                 france   \n",
       "21   3087                 france   \n",
       "22   3384                 france   \n",
       "23   3780                 france   \n",
       "24   3803                 france   \n",
       "25   3827                 france   \n",
       "26   4510                 france   \n",
       "27   4530          united states   \n",
       "28   4559          united states   \n",
       "29   4572                 france   \n",
       "30   4794                 france   \n",
       "31   5005                 france   \n",
       "32   5081                 france   \n",
       "33   5272                 france   \n",
       "34   5388                 france   \n",
       "35   5470                 france   \n",
       "36   5661                 france   \n",
       "37   7009                 france   \n",
       "38   7160                 france   \n",
       "39   9317                   none   \n",
       "40  14595                 france   \n",
       "41  16087          united states   \n",
       "42  16094          united states   \n",
       "43  16100          united states   \n",
       "44  16117          united states   \n",
       "45  16124          united states   \n",
       "46  16193          united states   \n",
       "47  16513          united states   \n",
       "48  16612          united states   \n",
       "49  16650          united states   \n",
       "50  16872          united states   \n",
       "51  16933          united states   \n",
       "52  17497          united states   \n",
       "53  18012          united states   \n",
       "54  18050          united states   \n",
       "55  18173          united states   \n",
       "56  18197          united states   \n",
       "57  18227          united states   \n",
       "58  18265          united states   \n",
       "59  18289          united states   \n",
       "\n",
       "                                                                                                                                                                                                                                                                                                                                                                                                                                                                                                                                                                                       ingredients  \\\n",
       "0                                                                                                                                                                                                                                                                                                                                                                                                                                                                                                                                                                                             None   \n",
       "1                                                                                                                                                                                                                                                                                                                                                                      mode-d-utilisation-utilisez-la-ut-assaisonner-les-potes-les-pizzas-et-lasagnes, prete-o-l-emploi, 182, alba, www-cascinasancassiano-com, pourioogde-produit-dtmurts-leg-prunes-lg-0-3b-4-22-cascina-san-cassiano-c-so-piave   \n",
       "2                                                                                                                                                                                                                                                                                                                                                                                                                                                                                                                                                                                             None   \n",
       "3                                                                                                                                                                                                                                                                                                                                                                                                                                                                                                                                                                                             None   \n",
       "4                                                                                                                                                                                                                                                                                                                                                                                                                                                                                                                                                                                             None   \n",
       "5                                                                                                                                                                                                                                                                                                                                                                                                                                                                                                                                                                                             None   \n",
       "6                                                                                                                                                                                                                                                                                                                                                                                                                                                                                                                                                                                             None   \n",
       "7                                                                                                                                                                                                                                                                                                                                                                                                                                                                                                                                                                                             None   \n",
       "8                                                                                                                                                                                                                                             antioxidant, colour, tomato, vegetable, fruit-vegetable, mayonnaise, sauce, e316, e150, colza-oil, oil-and-fat, vegetable-oil-and-fat, rapeseed-oil, water, egg-yolk, egg, vinegar, mustard, salt, dextrose, added-sugar, monosaccharide, glucose, stabiliser, preservative, flavouring, mustard-seed, condiment, spice, turmeric, e466, e202, e160a   \n",
       "9                                                                                                                                                                                                                                                                                                                                                                                                                                                                                                                                                                                             None   \n",
       "10                                                                                                                                                                                                                                                                                                                                                                                                                                                                                                                                                                                            None   \n",
       "11                                                                                                                                                                                                                                                                                                                                                                                                                                                                                                                                                                                            None   \n",
       "12                                                                                                                                                                                                                                                                                                                                                                                                                                                                                                                                                                                            None   \n",
       "13                                                                                                                                                                                                                                                                                                                                                                                                                                                                                              whole-milk, dairy, milk, sugar, added-sugar, disaccharide, corn-starch, starch, cocoa, plant, e406   \n",
       "14                                                                                                                                                                                                                                                                                                                                                                                                                                                                                                                                                                                            None   \n",
       "15                                                                                                                                                                                                                                                                                                                                                                                                                                                                                                                                                                                            None   \n",
       "16                                                                                                                                                                                                                                                                                                                                                                                                                                                                                                                                                                                            None   \n",
       "17                                                                                                                                                                                                                                                                                                                                                                                                                                                                                                                                                                                            None   \n",
       "18                                                                                                                                                                                                                                                                                                                                                                                                                                                  water, salt, yeast, gluten, deactivated-yeast, e300, wheat-flour, cereal, flour, wheat, cereal-flour, pasteurised-milk, dairy, milk, coagulant   \n",
       "19                                                                                                                                                                                                                                                                                                                                                                                                                                                                                                                                                                                            None   \n",
       "20                                                                                                                                                                                                                                                                                                                                                                                                                                                                                                                                                                                            None   \n",
       "21                                                                                                                                                                                                                                                                                                                                                                                                                                                                                                                                                                                            None   \n",
       "22                                                                                                                                                                                                                                                                                                                                                                                                                                                                                                                                                                                            None   \n",
       "23                                                                                                                                                                                                                                                                                                                                                                                                                                                                                                                                                                                            None   \n",
       "24                                                                                                                                                                                                                                                                                                                                                                                                                                                                                                                                                                                            None   \n",
       "25                                                                                                                                                                                                water, rye-flour, flour, cereal-flour, sugar, added-sugar, disaccharide, colza-oil, oil-and-fat, vegetable-oil-and-fat, rapeseed-oil, sugar-syrup, wheat-gluten, gluten, salt, yeast, sourdough, dough, raising-agent, fructose, monosaccharide, flour-treatment-agent, enzyme, filling, salad, vegetable, wheat-flour, cereal, wheat, rye, e503, e300, atlantic-salmon, fish, oily-fish, salmon   \n",
       "26                                                                                                                                                                                                                                                                                                                                                                                              vegetable, colza-oil, oil-and-fat, vegetable-oil-and-fat, rapeseed-oil, salt, mint, herb, lemon-juice, fruit, juice, fruit-juice, sugar, added-sugar, disaccharide, preservative, flavouring, e202   \n",
       "27                                                                                                                                                                                                                                                                                                                                                                                banana, fruit, vegetable-oil, oil-and-fat, vegetable-oil-and-fat, sugar, added-sugar, disaccharide, natural-banana-flavouring, flavouring, natural-flavouring, coconut-oil, corn-oil, palm-oil, palm-oil-and-fat   \n",
       "28                                                                                                                                                                                                                                                                                                                           peanut, nut, wheat-flour, cereal, flour, wheat, cereal-flour, sugar, added-sugar, disaccharide, rice-flour, rice, tapioca, starch, salt, raising-agent, soy-sauce, sauce, potato-starch, e503ii, e503, e500ii, e500, water, soya-bean, vegetable, legume, pulse, soya   \n",
       "29                                                                                                                                                                                                                                                                                                                                                                                                                                                                                                                                                                                            None   \n",
       "30                                                                                                                                                                                                                                                                                                                                                                                                                                                                                                                                                                sugar, added-sugar, disaccharide   \n",
       "31                                                                                                                                                                                                                                                                                                                                                                                                                                                                                                                                                                                            None   \n",
       "32                                                                                                                                                                                                                                                                                                                                                                                                                                                                                                                                                                                            None   \n",
       "33  salt, yeast, filling, coppa, animal, meat, pork, pork-meat, ham, salad, vegetable, tomato, fruit-vegetable, basil, herb, olive-oil, oil-and-fat, vegetable-oil-and-fat, vegetable-oil, wheat-flour, cereal, flour, wheat, cereal-flour, wheat-gluten, gluten, whole-wheat-flour, wholemeal-flour, corn-flour, corn, durum-wheat-semolina, durum-wheat, semolina, flax-seed, seed, flax, sesame-seeds, sesame, rye-flour, corn-dextrose, added-sugar, monosaccharide, glucose, dextrose, fennel, stalk-vegetable, natural-flavouring, flavouring, sugar, disaccharide, preservative, e252, e250   \n",
       "34                                                                                                                                                                                                                                                                                                                                                                                                                                                                                                                                                                                            None   \n",
       "35                                                                                                                                                                                                                                                                                                 wheat-flour, cereal, flour, wheat, cereal-flour, water, salt, yeast, gluten, malted-wheat-flour, deactivated-yeast, e300, filling, acid, modified-tapioca-starch, starch, modified-starch, tapioca, flavouring, colour, bone, chicken-fillet, poultry, chicken, chicken-meat, e326, e262i, e262   \n",
       "36                                                                                                                                                                                                                                                                                                                                                                                                                                                                                                                                                                                            None   \n",
       "37                                                                                                                                                                                                                                                                                                                                                                                                                                                                                                                                                                                            None   \n",
       "38                                                                                                                                                                                                                                                                                                                                                                                                                                                                                                                                                                                            None   \n",
       "39                                                                                                                                                                                                                                                                                                                                                                                                                                                                                                                                                                                            None   \n",
       "40                                                                                                                                                                                                                                                                                                                                                                                                                                                                                                                                                                                            None   \n",
       "41                                                                                                                                                                                                                                                                                                                                                                                                                                                         hazelnut, nut, tree-nut, cashew-nuts, walnuts-almonds, sunflower-oil, oil-and-fat, vegetable-oil-and-fat, vegetable-oil, sea-salt, salt   \n",
       "42                                                                                                                                                                                                                                                                                                                                                                                                                                                                                                                                                                                         polenta   \n",
       "43                                                                                                                                                                                                                                                                                                                                             oat-flakes, cereal, oat, grape, fruit, berries, canola-oil, oil-and-fat, vegetable-oil-and-fat, rapeseed-oil, sunflower-seed, plant, seed, sunflower, almond, nut, tree-nut, walnuts-oat-bran, sesame-seeds, sesame, cashew-nuts, natural-vitamin-e   \n",
       "44                                                                                                                                                                                                                                                                                                                                                                                                                                                                                                                                        long-grain-white-rice, rice, long-grain-rice, white-rice   \n",
       "45                 org-oats, org-hemp-granola, org-raisins, org-dates, org-almonds, org-hazelnuts, org-coconut, org-sunflower-seeds, org-pumpkin-seeds, org-flax-seeds, org-corn-flakes, org-quinoa-amaranth-flakes, evaporated-cane-juice, sugarcane, sugarcane-juice, org-expeller-pressed-canola-oil, crispy-rice, org-oat-solids, hemp-seed, seed, org-corn-meal, org-grape-and-pear-juice-concentrate, sea-salt, salt, org-yellow-corn-flour, org-evaporated-cane-juice, org-flax, org-buckwheat-flour, org-quinoa, org-amaranth, e306, org-brown-rice-flour, org-molasses, natural-vitamin-e   \n",
       "46                                                                                                                                                                                                                                                                                                                                                                          cocoa-paste, plant, cocoa, unrefined-cane-sugar, added-sugar, disaccharide, sugar, cane-sugar, unrefined-sugar, cocoa-butter, unrefined-whole-cane-sugar, whole-cane-sugar, ground-vanilla-beans, vanilla, vanilla-pod   \n",
       "47                                                                                                                                                                                                                                                                                                                                                                                                                                                                                    expeller-pressed, high-oleic-sunflower-oil, oil-and-fat, vegetable-oil-and-fat, vegetable-oil, sunflower-oil   \n",
       "48                                                                                                                                                                                                                                                                                                                                                                                                                                                                                                                                                           adzuki-bean, vegetable, legume, pulse   \n",
       "49                                                                                                                                                                                                                                                                                                                                                                                                                                                                                                                                                              refined-durum-semolina-wheat-flour   \n",
       "50      roasted-peanuts, nut, peanut, sesame-sticks, chili-crackers, tamari-roasted-almonds, salt, canola-oil, oil-and-fat, vegetable-oil-and-fat, rapeseed-oil, wheat-flour, cereal, flour, wheat, cereal-flour, sesame-seeds, seed, sesame, sunflower-oil, vegetable-oil, sa, t, beetroot, vegetable, root-vegetable, taproot-vegetable, turmeric, condiment, spice, rice, corn-starch, starch, soy-sauce, sauce, brown-rice-syrup, added-sugar, disaccharide, rice-syrup, paprika, onion, onion-family-vegetable, garlic, almond, tree-nut, tamari-shoyu, water, soya-bean, legume, pulse, soya   \n",
       "51                                                                                                                                                                                                                                                                                                                                                                                                                                                                                                                                                        golden-flax-seeds, seed, flax, flax-seed   \n",
       "52                                                                                                                                                                                                                                                                                                                                                                                pumpkin-seed, vegetable, fruit-vegetable, seed, pumpkin, tamari, sauce, soy-sauce, garlic, root-vegetable, onion-family-vegetable, cayenne-pepper, condiment, spice, soya-bean, legume, pulse, soya, water, salt   \n",
       "53                                                                                                                                                                                                                                                                                                                       oat-flakes, cereal, oat, honey, added-sugar, raisin, fruit, berries, grape, almond, nut, tree-nut, sunflower-seed, plant, seed, sunflower, walnut, wheat-germ, wheat, unrefined-expeller-pressed-safflower-oil, molasses, disaccharide, sugar, cinnamon, condiment, spice   \n",
       "54                                                                                                                                                                                                                                                                                                                                                                                                                                                                                                                                                                         hazelnut, nut, tree-nut   \n",
       "55                                                                                                                                                                                                                                                                                                                                                                                                                                                                                 banana, fruit, coconut-oil, oil-and-fat, vegetable-oil-and-fat, vegetable-oil, sugar, added-sugar, disaccharide   \n",
       "56                                                                                                                                                                                                                                                                                                                                                                                                                                                                                                                                                                              brown-jasmine-rice   \n",
       "57                                                                                                                                                                                                                                                                                                                                                                                                                                                                                                                                                                                      oat-groats   \n",
       "58                                                                                                                                                                                                                                                                                                             yogurt-raisins, tamari-roasted-almonds, tamari-roasted-soy-nuts, dark-chocolate-stars, cranberry, fruit, dark-chocolate-chunks, chocolate, dark-chocolate, peanut-paste, nut, peanut, milk-chocolate-raisins, pineapple, papaya, peanut-butter-peanuts-and-raisins, roasted-peanuts   \n",
       "59                                                                                                                                          chocolate-stars, roasted-peanuts, nut, peanut, dry-roasted-almonds, tree-nut, almond, cashew-nuts, cranberry, fruit, cherry, prunus-species-fruit, walnut, blueberry, berries, sugarcane-juice, sugarcane, chocolate, cocoa-butter, plant, cocoa, soya-lecithin, e322, e322i, natural-vanilla, vanilla, safflower, and-canola-oil, salt, sea-salt, evaporated-cane-juice, sunflower-oil, oil-and-fat, vegetable-oil-and-fat, vegetable-oil, emulsifier   \n",
       "\n",
       "                                                                                                                                                                                                                categories  \\\n",
       "0                                                                                                                                                                                                                     None   \n",
       "1                                                                                                                                               snacks, sweet-snacks, confectioneries, chewing-gum, sugar-free-chewing-gum   \n",
       "2                                                                                                                                                                                                                     None   \n",
       "3                                                                                                                                                                                  condiments, sauces, mustards, groceries   \n",
       "4                                                                                                                                                                                                                     None   \n",
       "5                                                                                                                                                                                                                     None   \n",
       "6   plant-based-foods-and-beverages, plant-based-foods, fruits-and-vegetables-based-foods, vegetables-based-foods, meals, vegetables, prepared-vegetables, carrots, carrot-salads, grated-carrots, seasoned-grated-carrots   \n",
       "7                                                                                                                                                                                                                     None   \n",
       "8                                                                                                                                                                                                                     None   \n",
       "9                                                                                                                                                                                           sweet-pies, pies, coconut-pies   \n",
       "10                                                                                                                                                                                                                    None   \n",
       "11                                                                                                                                                                                                                    None   \n",
       "12                                                                                                                                                                                                                    None   \n",
       "13                                                                                                                                                                                                                    None   \n",
       "14                                                                            plant-based-foods-and-beverages, plant-based-foods, fruits-and-vegetables-based-foods, desserts, fruits-based-foods, compotes, pear-compotes   \n",
       "15                                                                                                                                                                                                                    None   \n",
       "16                                                                                                                                                                                                                    None   \n",
       "17                                                                  plant-based-foods-and-beverages, plant-based-foods, snacks, salty-snacks, appetizers, meals, prepared-vegetables, cold-starters, vegetables-macedoines   \n",
       "18                                                                                                                                                                                                                    None   \n",
       "19                                                                                                                                                                                                                    None   \n",
       "20                                                                                                                                                                                                                    None   \n",
       "21                                                                                                                                                                                                                    None   \n",
       "22                                                                                                                                                                                                                    None   \n",
       "23                                                                                                                                                                                                                    None   \n",
       "24                                                                                                                                                                                                                    None   \n",
       "25                                                                                                                                                                                                                    None   \n",
       "26                                                                                                                                                                                                                    None   \n",
       "27                                                                                                                                                                                                                    None   \n",
       "28                                                                                                                                                                                                                    None   \n",
       "29                                                                                                                                                                                                                    None   \n",
       "30                                                                                                                                                                                                                    None   \n",
       "31                                                                                                                                   dairies, fermented-foods, fermented-milk-products, cheeses, french-cheeses, abondance   \n",
       "32                                                                                                                                                                                                                    None   \n",
       "33                                                                                                                                                                                                                    None   \n",
       "34                                                                                                                                                                                                                    None   \n",
       "35                                                                                                                             plant-based-foods-and-beverages, plant-based-foods, cereals-and-potatoes, breads, baguettes   \n",
       "36                                                                                                         seafood, fishes-and-their-products, fishes, fatty-fishes, salmons, smoked-fishes, smoked-salmons, salmon-steaks   \n",
       "37                                                                                                                                                                                                                    None   \n",
       "38                                                                                                           canned-foods, meats-and-their-products, meals, meats, meals-with-meat, beef-dishes, canned-meats, corned-beef   \n",
       "39                                                                                                                                                                                                                    None   \n",
       "40                                                                                                                                                                                                                    None   \n",
       "41                                                                                                                                                                                                                    None   \n",
       "42                                                                                                                                                                                                                    None   \n",
       "43                                                                                                                                                                                                                    None   \n",
       "44                                                                                                                                                                                                                    None   \n",
       "45                                                                                                                                                                                                                    None   \n",
       "46                                                                                                                                                                                                                    None   \n",
       "47                                                                                                                                                                                                                    None   \n",
       "48                                                                                                                                                                                                                    None   \n",
       "49                                                                                                                                                                                                                    None   \n",
       "50                                                                                                                                                                                                                    None   \n",
       "51                                                                                                                                                                                                                    None   \n",
       "52                                                                                                                                                                                                                    None   \n",
       "53                                                                                                                                                                                                                    None   \n",
       "54                                                                                                                                                                                                                    None   \n",
       "55                                                                                                                                                                                                                    None   \n",
       "56                                                                                                                                                                                                                    None   \n",
       "57                                                                                                                                                                                                                    None   \n",
       "58                                                                                                                                                                                                                    None   \n",
       "59                                                                                                                                                                                                                    None   \n",
       "\n",
       "    labels_note  \n",
       "0             0  \n",
       "1             0  \n",
       "2             0  \n",
       "3             0  \n",
       "4             0  \n",
       "5             0  \n",
       "6             0  \n",
       "7             0  \n",
       "8             0  \n",
       "9             0  \n",
       "10            0  \n",
       "11            0  \n",
       "12            0  \n",
       "13            0  \n",
       "14            0  \n",
       "15            0  \n",
       "16            0  \n",
       "17            0  \n",
       "18            0  \n",
       "19            0  \n",
       "20            0  \n",
       "21            0  \n",
       "22            0  \n",
       "23            0  \n",
       "24            0  \n",
       "25            0  \n",
       "26            0  \n",
       "27            0  \n",
       "28            0  \n",
       "29            0  \n",
       "30            0  \n",
       "31            0  \n",
       "32            0  \n",
       "33            0  \n",
       "34            0  \n",
       "35            0  \n",
       "36            0  \n",
       "37            0  \n",
       "38            0  \n",
       "39            0  \n",
       "40            6  \n",
       "41            1  \n",
       "42            1  \n",
       "43            0  \n",
       "44            1  \n",
       "45            1  \n",
       "46            1  \n",
       "47            1  \n",
       "48            1  \n",
       "49            1  \n",
       "50            0  \n",
       "51            1  \n",
       "52            1  \n",
       "53            0  \n",
       "54            1  \n",
       "55            1  \n",
       "56            1  \n",
       "57            1  \n",
       "58            0  \n",
       "59            0  "
      ]
     },
     "execution_count": 40,
     "metadata": {},
     "output_type": "execute_result"
    }
   ],
   "source": [
    "df_check.head(60)"
   ]
  },
  {
   "cell_type": "code",
   "execution_count": null,
   "metadata": {},
   "outputs": [],
   "source": []
  }
 ],
 "metadata": {
  "kernelspec": {
   "display_name": "greenIa",
   "language": "python",
   "name": "python3"
  },
  "language_info": {
   "codemirror_mode": {
    "name": "ipython",
    "version": 3
   },
   "file_extension": ".py",
   "mimetype": "text/x-python",
   "name": "python",
   "nbconvert_exporter": "python",
   "pygments_lexer": "ipython3",
   "version": "3.10.14"
  }
 },
 "nbformat": 4,
 "nbformat_minor": 2
}
