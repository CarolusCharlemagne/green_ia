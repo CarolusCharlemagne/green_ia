{
 "cells": [
  {
   "cell_type": "code",
   "execution_count": 8,
   "metadata": {},
   "outputs": [],
   "source": [
    "import requests\n",
    "import gzip\n",
    "import pandas as pd\n",
    "from io import BytesIO\n",
    "import os\n",
    "import shutil\n",
    "from requests.exceptions import RequestException\n",
    "import warnings\n",
    "from datetime import datetime\n",
    "\n",
    "pd.set_option('display.max_rows', 50)\n",
    "warnings.filterwarnings(\"ignore\", category=pd.errors.DtypeWarning)"
   ]
  },
  {
   "cell_type": "code",
   "execution_count": 9,
   "metadata": {},
   "outputs": [],
   "source": [
    "download_url = \"https://static.openfoodfacts.org/data/openfoodfacts-products.jsonl.gz\"\n",
    "file_id = '03'\n",
    "project_path = \"/home/carolus/Documents/school/green_ia/\" \n",
    "jsonl_gz = project_path + \"data/\" + file_id + \"_openfoodfacts_00\" + \".jsonl.gz\""
   ]
  },
  {
   "cell_type": "code",
   "execution_count": 10,
   "metadata": {},
   "outputs": [
    {
     "name": "stdout",
     "output_type": "stream",
     "text": [
      "download_url: https://static.openfoodfacts.org/data/openfoodfacts-products.jsonl.gz \n",
      "file_id: 03 \n",
      "project_path: /home/carolus/Documents/school/green_ia/ \n",
      "jsonl_gz: /home/carolus/Documents/school/green_ia/data/03_openfoodfacts_00.jsonl.gz\n"
     ]
    }
   ],
   "source": [
    "print(f\"download_url: {download_url} \\nfile_id: {file_id} \\nproject_path: {project_path} \\njsonl_gz: {jsonl_gz}\")"
   ]
  },
  {
   "cell_type": "code",
   "execution_count": 11,
   "metadata": {},
   "outputs": [],
   "source": [
    "# fonction pour reprendre le téléchargement\n",
    "def download_file(download_url, jsonl_gz):\n",
    "    print(\"start downloading file from Open Food Facts\")\n",
    "    while True:\n",
    "        try:\n",
    "            # vérifier si fichier existe déjà et obtenir sa taille\n",
    "            file_size = 0\n",
    "            if os.path.exists(jsonl_gz):\n",
    "                file_size = os.path.getsize(jsonl_gz)\n",
    "\n",
    "            headers = {\"range\": f\"bytes={file_size}-\"}\n",
    "            response = requests.get(download_url, headers=headers, stream=True)\n",
    "\n",
    "            if response.status_code in [200, 206]:\n",
    "                mode = 'ab' if file_size else 'wb'\n",
    "                with open(jsonl_gz, mode) as file:\n",
    "                    for chunk in response.iter_content(chunk_size=8192):\n",
    "                        if chunk:\n",
    "                            file.write(chunk)\n",
    "                print(f\"downloaded: {jsonl_gz}\")\n",
    "                break  # sortir boucle une fois téléchargement terminé\n",
    "\n",
    "            else:\n",
    "                print(f\"ERROR while downloading: {response.status_code}\")\n",
    "                break  # sortir boucle si erreur statut\n",
    "\n",
    "        except RequestException as e:\n",
    "            print(f\"warning, continue downloading: {e}\")"
   ]
  },
  {
   "cell_type": "code",
   "execution_count": 12,
   "metadata": {},
   "outputs": [],
   "source": [
    "# décompresser du fichier jsonl\n",
    "def un_gz_file(jsonl_gz, file_id, project_path):\n",
    "    print(\"start unzziping jsonl compressed\")\n",
    "    jsonl = project_path + \"data/\" + file_id + '_openfoodfacts_00.jsonl'\n",
    "    with gzip.open(jsonl_gz, 'rb') as f_in:\n",
    "        with open(jsonl, 'wb') as f_out:\n",
    "            shutil.copyfileobj(f_in, f_out)\n",
    "\n",
    "    print(f'unzziping completed: {jsonl}')\n",
    "    return jsonl"
   ]
  },
  {
   "cell_type": "code",
   "execution_count": 13,
   "metadata": {},
   "outputs": [],
   "source": [
    "def delete_file(file_path):\n",
    "    if os.path.exists(file_path):\n",
    "        os.remove(file_path)\n",
    "        print(f\"file deleted: {file_path}\")\n",
    "    else:\n",
    "        print(f\"ERROR, does not exists: {file_path}\")\n"
   ]
  },
  {
   "cell_type": "code",
   "execution_count": 14,
   "metadata": {},
   "outputs": [
    {
     "name": "stdout",
     "output_type": "stream",
     "text": [
      "start downloading file from Open Food Facts\n",
      "warning, continue downloading: ('Connection broken: IncompleteRead(1081412951 bytes read, 6853064361 more expected)', IncompleteRead(1081412951 bytes read, 6853064361 more expected))\n",
      "downloaded: /home/carolus/Documents/school/green_ia/data/03_openfoodfacts_00.jsonl.gz\n",
      "start unzziping jsonl compressed\n",
      "unzziping completed: /home/carolus/Documents/school/green_ia/data/03_openfoodfacts_00.jsonl\n",
      "file deleted: /home/carolus/Documents/school/green_ia/data/03_openfoodfacts_00.jsonl.gz\n"
     ]
    }
   ],
   "source": [
    "# main algo\n",
    "download_file(download_url, jsonl_gz)\n",
    "jsonl = un_gz_file(jsonl_gz, file_id, project_path)\n",
    "delete_file(jsonl_gz)"
   ]
  }
 ],
 "metadata": {
  "kernelspec": {
   "display_name": "greenIa",
   "language": "python",
   "name": "python3"
  },
  "language_info": {
   "codemirror_mode": {
    "name": "ipython",
    "version": 3
   },
   "file_extension": ".py",
   "mimetype": "text/x-python",
   "name": "python",
   "nbconvert_exporter": "python",
   "pygments_lexer": "ipython3",
   "version": "3.10.14"
  }
 },
 "nbformat": 4,
 "nbformat_minor": 2
}
