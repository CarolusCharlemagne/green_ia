{
 "cells": [
  {
   "cell_type": "code",
   "execution_count": null,
   "metadata": {},
   "outputs": [],
   "source": [
    "import pandas as pd\n",
    "import numpy as np\n",
    "pd.set_option('display.max_rows', 100)\n",
    "pd.set_option('display.max_colwidth', None)\n",
    "\n",
    "# Chemin vers le fichier JSONL\n",
    "file_path = '/home/carolus/Documents/school/green_ia/data/02_openfoodfacts_sample.jsonl'\n",
    "\n",
    "# Lire le fichier JSONL en utilisant la méthode read_json de pandas avec l'option lines=True\n",
    "df = pd.read_json(file_path, lines=True)\n",
    "\n",
    "# Afficher le DataFrame\n",
    "print(df)\n"
   ]
  },
  {
   "cell_type": "code",
   "execution_count": null,
   "metadata": {},
   "outputs": [],
   "source": [
    "# main preprocessing\n",
    "\n",
    "df.rename(columns={'pnns_groups_1': 'groups'}, inplace=True)\n",
    "df.rename(columns={'ingredients_tags': 'ingredients_temp'}, inplace=True)\n",
    "df.rename(columns={'product_name': 'name'}, inplace=True)\n",
    "df.rename(columns={'ecoscore_tags': 'ecoscore_groups'}, inplace=True)\n",
    "df.rename(columns={'categories_tags': 'categories'}, inplace=True)\n",
    "df.rename(columns={'ecoscore_score': 'ecoscore_note'}, inplace=True)\n",
    "df.rename(columns={'labels_tags': 'labels'}, inplace=True)\n",
    "\n",
    "# traitement col GROUPS \n",
    "df['groups'] = df['groups'].replace(\"unknown\", None, regex=False)  \n",
    "\n",
    "\n",
    "# traitement col INGREDIENTS\n",
    "df['ingredients_temp'] = df['ingredients_temp'].replace(\"\", None)  # remplace vide par None\n",
    "df['ingredients_temp'] = df['ingredients_temp'].replace({np.nan: None}) # remplace NaN par None\n",
    "\n",
    "df['ingredients_temp'] = df['ingredients_temp'].apply(lambda x: x if isinstance(x, list) else []) # remplace None par liste vide \n",
    "df['ingredients_temp'] = df['ingredients_temp'].apply(lambda x: ', '.join(x)) # converti liste en string \n",
    "\n",
    "# extraire éléments avec 'en:' nouvelle colonne\n",
    "def extract_en_ingredients(ingredient_list):\n",
    "    ingredients = ingredient_list.strip('[]').split(', ')\n",
    "    return [ingredient.split(':')[-1] for ingredient in ingredients if ingredient.startswith('en:')]\n",
    "df['ingredients'] = df['ingredients_temp'].apply(extract_en_ingredients)\n",
    "df.drop(columns=['ingredients_temp'], inplace=True)\n",
    "df['ingredients'] = df['ingredients'].apply(lambda x: ', '.join(x))\n",
    "df['ingredients'] = df['ingredients'].replace(\"\", None)  "
   ]
  },
  {
   "cell_type": "code",
   "execution_count": null,
   "metadata": {},
   "outputs": [],
   "source": [
    "df.tail(50)"
   ]
  },
  {
   "cell_type": "code",
   "execution_count": null,
   "metadata": {},
   "outputs": [],
   "source": [
    "df['ingredients'].head(10)"
   ]
  },
  {
   "cell_type": "code",
   "execution_count": null,
   "metadata": {},
   "outputs": [],
   "source": [
    "nan_counts = df.isna().sum()\n",
    "\n",
    "# Compter les listes vides\n",
    "empty_list_counts = df.map(lambda x: x == []).sum()\n",
    "\n",
    "# Afficher les résultats\n",
    "print(\"nombre de NaN ou None par colonne :\")\n",
    "print(nan_counts)"
   ]
  },
  {
   "cell_type": "code",
   "execution_count": null,
   "metadata": {},
   "outputs": [],
   "source": [
    "print(\"nombre de listes vides par colonne :\")\n",
    "print(empty_list_counts)"
   ]
  },
  {
   "cell_type": "code",
   "execution_count": null,
   "metadata": {},
   "outputs": [],
   "source": [
    "df['labels'].head(50)"
   ]
  },
  {
   "cell_type": "code",
   "execution_count": null,
   "metadata": {},
   "outputs": [],
   "source": [
    "df['ingredients'].head(50)"
   ]
  },
  {
   "cell_type": "code",
   "execution_count": null,
   "metadata": {},
   "outputs": [],
   "source": []
  }
 ],
 "metadata": {
  "kernelspec": {
   "display_name": "greenIa",
   "language": "python",
   "name": "python3"
  },
  "language_info": {
   "codemirror_mode": {
    "name": "ipython",
    "version": 3
   },
   "file_extension": ".py",
   "mimetype": "text/x-python",
   "name": "python",
   "nbconvert_exporter": "python",
   "pygments_lexer": "ipython3",
   "version": "3.10.14"
  }
 },
 "nbformat": 4,
 "nbformat_minor": 2
}
