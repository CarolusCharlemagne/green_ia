{
 "cells": [
  {
   "cell_type": "code",
   "execution_count": 1,
   "metadata": {},
   "outputs": [],
   "source": [
    "import pandas as pd\n",
    "import numpy as np\n",
    "import json\n",
    "import os\n",
    "import warnings\n",
    "from datetime import datetime \n",
    "from collections import OrderedDict\n",
    "from collections import Counter\n",
    "import plotly.express as px\n",
    "from collections import defaultdict\n",
    "import plotly.graph_objects as go\n",
    "\n",
    "\n",
    "pd.set_option('display.max_rows', 100)\n",
    "pd.set_option('display.max_colwidth', None)\n",
    "\n",
    "warnings.filterwarnings(\"ignore\", category=pd.errors.DtypeWarning)"
   ]
  },
  {
   "cell_type": "code",
   "execution_count": 2,
   "metadata": {},
   "outputs": [],
   "source": [
    "chunk_size = 1000\n",
    "file_id = '02'\n",
    "project_path = \"/home/carolus/Documents/school/green_ia/\" \n",
    "jsonl_02 = project_path + 'data/' + file_id + '_openfoodfacts_02.jsonl' \n",
    "jsonl_sample = project_path + 'data/' + file_id + \"_openfoodfacts_sample.jsonl\"\n",
    "# récupérer la date du jour \n",
    "current_date_time = datetime.now()\n",
    "date_format = \"%d/%m/%Y %H:%M:%S.%f\"\n",
    "start_date = current_date_time.strftime(\"%d/%m/%Y %H:%M:%S.%f\")[:-3]\n",
    "date_code = current_date_time.strftime('%d%m%Y%H%M%S') + f\"{current_date_time.microsecond // 1000:03d}\""
   ]
  },
  {
   "cell_type": "code",
   "execution_count": 3,
   "metadata": {},
   "outputs": [],
   "source": [
    "def add_logs(logData):\n",
    "    print(logData)\n",
    "    #with open(f\"{project_path}logs/03_analysis_{date_code}_logs.txt\", \"a\") as logFile:\n",
    "     #   logFile.write(f'{logData}\\n')"
   ]
  },
  {
   "cell_type": "code",
   "execution_count": 4,
   "metadata": {},
   "outputs": [
    {
     "name": "stdout",
     "output_type": "stream",
     "text": [
      "jsonl format valid: /home/carolus/Documents/school/green_ia/data/02_openfoodfacts_02.jsonl\n"
     ]
    }
   ],
   "source": [
    "# verifie la validité de la structure du fichier jsonl\n",
    "with open(jsonl_02, 'r') as file:\n",
    "    for line in file:\n",
    "        try:\n",
    "            json_object = json.loads(line)\n",
    "        except json.JSONDecodeError as e:\n",
    "            add_logs(f\"ERROR decoding jsonl: {e}\")\n",
    "\n",
    "add_logs(f\"jsonl format valid: {jsonl_02}\")"
   ]
  },
  {
   "cell_type": "markdown",
   "metadata": {},
   "source": [
    "# COUNTRIES:"
   ]
  },
  {
   "cell_type": "code",
   "execution_count": 5,
   "metadata": {},
   "outputs": [
    {
     "name": "stdout",
     "output_type": "stream",
     "text": [
      "far: 8.35%\n",
      "germany: 7.68%\n",
      "france: 30.19%\n",
      "united states: 18.75%\n",
      "united kingdom: 3.20%\n",
      "netherlands: 0.43%\n",
      "world: 1.95%\n",
      "bolivia: 0.05%\n",
      "mexico: 0.13%\n",
      "new zealand: 0.07%\n",
      "italy: 6.82%\n",
      "belgium: 2.21%\n",
      "danemark: 0.00%\n",
      "norway: 0.09%\n",
      "poland: 0.23%\n",
      "austria: 0.10%\n",
      "hungary: 0.04%\n",
      "czech republic: 0.09%\n",
      "thailand: 0.06%\n",
      "egypt: 0.01%\n",
      "spain: 8.85%\n",
      "japan: 0.20%\n",
      "reunion: 0.03%\n",
      "croatia: 0.03%\n",
      "ireland: 1.59%\n",
      "europe: 0.01%\n",
      "switzerland: 2.43%\n",
      "australia: 1.15%\n",
      "luxembourg: 0.04%\n",
      "argentina: 0.06%\n",
      "morocco: 0.04%\n",
      "costa rica: 0.01%\n",
      "moldavia: 0.00%\n",
      "iraq: 0.01%\n",
      "sweden: 0.12%\n",
      "french polynesia: 0.01%\n",
      "canada: 2.45%\n",
      "singapore: 0.08%\n",
      "brazil: 0.38%\n",
      "russia: 0.27%\n",
      "finland: 0.08%\n",
      "saudi arabia: 0.07%\n",
      "panama: 0.01%\n",
      "lebanon: 0.01%\n",
      "philippines: 0.05%\n",
      "hong kong: 0.01%\n",
      "malaysia: 0.02%\n",
      "guyana: 0.00%\n",
      ": 0.09%\n",
      "barbados: 0.00%\n",
      "haiti: 0.00%\n",
      "salvador: 0.01%\n",
      "bahrain: 0.00%\n",
      "guatemala: 0.00%\n",
      "colombia: 0.01%\n",
      "taiwan: 0.00%\n",
      "oman: 0.00%\n",
      "dominican republic: 0.00%\n",
      "greece: 0.02%\n",
      "united arab emirates: 0.02%\n",
      "kuwait: 0.00%\n",
      "puerto rico: 0.01%\n",
      "israel: 0.01%\n",
      "none: 0.37%\n",
      "angola: 0.00%\n",
      "burkina faso: 0.00%\n",
      "vietnam: 0.00%\n",
      "china: 0.01%\n",
      "bulgaria: 0.09%\n",
      "ascension island: 0.00%\n",
      "ivory coast: 0.00%\n",
      "uruguay: 0.01%\n",
      "algeria: 0.02%\n",
      "saint pierre and miquelon: 0.00%\n",
      "mauritius: 0.00%\n",
      "indonesia: 0.06%\n",
      "armenia: 0.00%\n",
      "india: 0.11%\n",
      "south korea: 0.00%\n",
      "south africa: 0.04%\n",
      "ecuador: 0.00%\n",
      "chile: 0.01%\n",
      "peru: 0.01%\n",
      "honduras: 0.00%\n",
      "nicaragua: 0.00%\n",
      "cambodia: 0.00%\n",
      "romania: 0.09%\n",
      "portugal: 0.11%\n",
      "jamaica: 0.00%\n",
      "denmark: 0.08%\n",
      "tunisia: 0.01%\n",
      "jordan: 0.00%\n",
      "serbia: 0.02%\n",
      "togo: 0.00%\n",
      "qatar: 0.02%\n",
      "french guiana: 0.00%\n",
      "somalia: 0.00%\n",
      "pakistan: 0.00%\n",
      "monaco: 0.00%\n",
      "cyprus: 0.01%\n",
      "paraguay: 0.01%\n",
      "senegal: 0.00%\n",
      "suriname: 0.00%\n",
      "slovakia: 0.03%\n",
      "dominica: 0.00%\n",
      "latvia: 0.00%\n",
      "lithuania: 0.06%\n",
      "ussr: 0.00%\n",
      "ukraine: 0.01%\n",
      "estonia: 0.01%\n",
      "slovenia: 0.01%\n",
      "france  switzerland  germany: 0.00%\n",
      "albania: 0.00%\n",
      "nigeria: 0.00%\n",
      "malta: 0.00%\n",
      "bosnia and herzegovina: 0.00%\n",
      "iran: 0.00%\n",
      "afghanistan: 0.00%\n",
      "mali: 0.00%\n",
      "martinique: 0.00%\n",
      "democratic republic of the congo: 0.00%\n",
      "gabon: 0.00%\n",
      "saint martin: 0.00%\n",
      "belarus: 0.00%\n",
      "kazakhstan: 0.00%\n",
      "republic of the congo: 0.00%\n",
      "andorra: 0.00%\n",
      "djibouti: 0.00%\n",
      "liechtenstein: 0.00%\n",
      "vanuatu: 0.00%\n",
      "cameroon: 0.00%\n",
      "mongolia: 0.00%\n",
      "england: 0.00%\n",
      "turkey: 0.02%\n",
      "mauritania: 0.00%\n",
      "georgia: 0.01%\n",
      "montenegro: 0.00%\n",
      "north macedonia: 0.00%\n",
      "east germany: 0.00%\n",
      "moldova: 0.00%\n",
      "eswatini: 0.00%\n",
      "kosovo: 0.00%\n",
      "kyrgyzstan: 0.00%\n",
      "tajikistan: 0.00%\n",
      "uzbekistan: 0.00%\n",
      "azerbaijan: 0.00%\n",
      "mozambique: 0.00%\n",
      "cape verde: 0.00%\n",
      "sudan: 0.00%\n",
      "libya: 0.00%\n",
      "iceland: 0.00%\n",
      "bahrein: 0.00%\n",
      "ghana: 0.00%\n",
      "benin: 0.00%\n",
      "niger: 0.00%\n",
      "botswana: 0.00%\n",
      "chad: 0.00%\n",
      "السعودية: 0.00%\n",
      "central african republic: 0.00%\n",
      "cote d'ivoire: 0.00%\n",
      "syria: 0.00%\n",
      "yemen: 0.00%\n",
      "el salvador: 0.00%\n",
      "sri lanka: 0.00%\n",
      "benelux: 0.00%\n",
      "ریاستہائے متحدہ امریکہ: 0.00%\n",
      "venezuela: 0.00%\n",
      "aruba: 0.00%\n",
      "cuba: 0.00%\n",
      "north korea: 0.00%\n",
      "burundi: 0.00%\n",
      "maldives: 0.00%\n",
      "palestine: 0.01%\n",
      "myanmar: 0.00%\n",
      "timor-leste: 0.00%\n",
      "nepal: 0.00%\n",
      "laos: 0.00%\n",
      "wallis and futuna: 0.00%\n",
      "anguilla: 0.00%\n",
      "montserrat: 0.00%\n",
      "saint lucia: 0.00%\n",
      "rwanda: 0.00%\n",
      "namibia: 0.00%\n",
      "british indian ocean territory: 0.00%\n",
      "fra: 0.00%\n",
      "sn: 0.00%\n",
      "ประเทศอินเดีย: 0.00%\n",
      "ประเทศเวียดนาม: 0.00%\n",
      "нова каледония: 0.00%\n",
      "yugoslavia: 0.00%\n",
      "францыя: 0.00%\n",
      "trinidad and tobago: 0.00%\n",
      "macau: 0.00%\n",
      "middle east: 0.00%\n",
      "grenada: 0.00%\n",
      "brunei: 0.00%\n",
      "soviet union: 0.00%\n",
      "abkhazia: 0.00%\n",
      "republic of ireland: 0.00%\n",
      "saint: 0.00%\n",
      "unknown: 0.00%\n",
      "bhutan: 0.00%\n",
      "madagascar: 0.00%\n",
      "christmas island: 0.00%\n",
      "?: 0.00%\n",
      "american samoa: 0.00%\n",
      "german democratic republic: 0.00%\n",
      "tanzania: 0.00%\n",
      "caribbean netherlands: 0.00%\n",
      "curaçao: 0.00%\n",
      "sint maarten: 0.00%\n",
      "bahamas: 0.00%\n",
      "الكويت: 0.00%\n",
      "saint vincent and the grenadines: 0.00%\n",
      "asia: 0.00%\n",
      "lesotho: 0.00%\n",
      "middle east and africa: 0.00%\n",
      "zambia: 0.00%\n",
      "latin america: 0.00%\n",
      "bermuda: 0.00%\n",
      "liberia: 0.00%\n",
      "congo: 0.00%\n",
      "america: 0.00%\n",
      "aland islands: 0.00%\n",
      "bangladesh: 0.00%\n",
      "san marino: 0.00%\n",
      "united states virgin islands: 0.00%\n",
      "isle of man: 0.00%\n",
      "spanish: 0.00%\n",
      "vatican city: 0.00%\n",
      "sierra leone: 0.00%\n",
      "سلطنة عمان: 0.00%\n",
      "belize: 0.00%\n",
      ":: 0.00%\n",
      "bonaire: 0.00%\n",
      "people's republic of china: 0.00%\n",
      "fiji: 0.00%\n",
      "iraqi kurdistan: 0.00%\n",
      "guam: 0.00%\n",
      "south sudan: 0.00%\n",
      "turks and caicos islands: 0.00%\n",
      "kenya: 0.00%\n",
      "uganda: 0.00%\n",
      "west africa: 0.00%\n",
      "central america: 0.00%\n",
      "ethiopia: 0.00%\n",
      "faroe islands: 0.00%\n",
      "cayman islands: 0.00%\n",
      "damam: 0.00%\n",
      "sicily: 0.00%\n"
     ]
    }
   ],
   "source": [
    "# retourne une liste des pays présents dans le fichier\n",
    "def extract_countries_from_jsonl(file_path):\n",
    "    countries = []\n",
    "    with open(file_path, 'r', encoding='utf-8') as file:\n",
    "        for line in file:\n",
    "            try:\n",
    "                record = json.loads(line)\n",
    "                country = record.get('countries')\n",
    "                if country is not None:\n",
    "                    countries.append(country)\n",
    "            except json.JSONDecodeError:\n",
    "                print(f\"WARNING line: {line} in {file_path}\")    \n",
    "    return countries\n",
    "countries_list = extract_countries_from_jsonl(jsonl_02)\n",
    "\n",
    "separated_countries = []\n",
    "for entry in countries_list:\n",
    "    countries = [country.strip() for country in entry.split(',')]\n",
    "    separated_countries.extend(countries)\n",
    "\n",
    "country_counts = Counter(separated_countries)\n",
    "total_countries = sum(country_counts.values())\n",
    "\n",
    "data_graph_countries = []\n",
    "for country, count in country_counts.items():\n",
    "    percentage = (count / total_countries) * 100\n",
    "    print(f\"{country}: {percentage:.2f}%\")\n",
    "    data_graph_countries.append({'countries': country, 'percentage': percentage})"
   ]
  },
  {
   "cell_type": "code",
   "execution_count": 6,
   "metadata": {},
   "outputs": [
    {
     "data": {
      "application/vnd.plotly.v1+json": {
       "config": {
        "plotlyServerURL": "https://plot.ly"
       },
       "data": [
        {
         "branchvalues": "total",
         "customdata": [
          [
           0.08744475817255176
          ],
          [
           0.000029442679519377697
          ],
          [
           0.0000883280385581331
          ],
          [
           0.000029442679519377697
          ],
          [
           0.003356465465209058
          ],
          [
           0.0001472133975968885
          ],
          [
           0.002973710631457147
          ],
          [
           0.02358358629502154
          ],
          [
           0.000029442679519377697
          ],
          [
           0.00011777071807751079
          ],
          [
           0.004593058005022921
          ],
          [
           0.0000883280385581331
          ],
          [
           0.000058885359038755394
          ],
          [
           0.05879703100019727
          ],
          [
           0.001177707180775108
          ],
          [
           0.00047108287231004315
          ],
          [
           0.000029442679519377697
          ],
          [
           0.000058885359038755394
          ],
          [
           1.1540647091210476
          ],
          [
           0.09736694117058206
          ],
          [
           0.00026498411567439927
          ],
          [
           0.001001051103658842
          ],
          [
           0.0007655096675038202
          ],
          [
           0.000029442679519377697
          ],
          [
           0.00011777071807751079
          ],
          [
           0.00023554143615502158
          ],
          [
           0.0040925324531935
          ],
          [
           2.212381824445079
          ],
          [
           0.000029442679519377697
          ],
          [
           0.00026498411567439927
          ],
          [
           0.00026498411567439927
          ],
          [
           0.0001472133975968885
          ],
          [
           0.0001766560771162662
          ],
          [
           0.04790323957802752
          ],
          [
           0.000029442679519377697
          ],
          [
           0.004799156761658565
          ],
          [
           0.0000883280385581331
          ],
          [
           0.37533527851302695
          ],
          [
           0.000029442679519377697
          ],
          [
           0.0036803349399222125
          ],
          [
           0.08994738593169888
          ],
          [
           0.0012365925398138634
          ],
          [
           0.000029442679519377697
          ],
          [
           0.002679283836263371
          ],
          [
           0.002267086322992083
          ],
          [
           2.4509558565905967
          ],
          [
           0.0000883280385581331
          ],
          [
           0.0000883280385581331
          ],
          [
           0.000029442679519377697
          ],
          [
           0.0000883280385581331
          ],
          [
           0.000029442679519377697
          ],
          [
           0.00011777071807751079
          ],
          [
           0.01495688119584387
          ],
          [
           0.011070447499286016
          ],
          [
           0.000029442679519377697
          ],
          [
           0.011011562140247259
          ],
          [
           0.000029442679519377697
          ],
          [
           0.0055057810701236295
          ],
          [
           0.0017076754121239065
          ],
          [
           0.025144048309548556
          ],
          [
           0.001560462014527018
          ],
          [
           0.0004121975132712878
          ],
          [
           0.00959831352331713
          ],
          [
           0.08862246535332689
          ],
          [
           0.000029442679519377697
          ],
          [
           0.0024142997205889713
          ],
          [
           0.00047108287231004315
          ],
          [
           0.0843827195025365
          ],
          [
           0.0001472133975968885
          ],
          [
           0.0002060987566356439
          ],
          [
           0.002973710631457147
          ],
          [
           0.0001472133975968885
          ],
          [
           0.002914825272418392
          ],
          [
           0.014161928848820672
          ],
          [
           0.0001472133975968885
          ],
          [
           0.0027970545543408816
          ],
          [
           0.005594109108681763
          ],
          [
           0.0001766560771162662
          ],
          [
           0.0006771816289456871
          ],
          [
           0.007743424713596335
          ],
          [
           8.3515927017486
          ],
          [
           0.000029442679519377697
          ],
          [
           0.0000883280385581331
          ],
          [
           0.08420606342542021
          ],
          [
           0.000029442679519377697
          ],
          [
           30.186401604037183
          ],
          [
           0.000058885359038755394
          ],
          [
           0.0037097776194415896
          ],
          [
           0.009068345291968332
          ],
          [
           0.0007360669879844425
          ],
          [
           0.005800207865317406
          ],
          [
           0.000029442679519377697
          ],
          [
           7.67841527721755
          ],
          [
           0.0005299682313487985
          ],
          [
           0.021493156049145718
          ],
          [
           0.000029442679519377697
          ],
          [
           0.00011777071807751079
          ],
          [
           0.0030620386700152807
          ],
          [
           0.000500525551829421
          ],
          [
           0.0006771816289456871
          ],
          [
           0.002914825272418392
          ],
          [
           0.00883280385581331
          ],
          [
           0.04195581831511322
          ],
          [
           0.0015310193350076403
          ],
          [
           0.10767187900236423
          ],
          [
           0.06121133072078624
          ],
          [
           0.001589904694046396
          ],
          [
           0.006300733417146827
          ],
          [
           0.0000883280385581331
          ],
          [
           1.5939972264995894
          ],
          [
           0.000029442679519377697
          ],
          [
           0.010540479267937218
          ],
          [
           6.8240181602447265
          ],
          [
           0.004121975132712878
          ],
          [
           0.0007360669879844425
          ],
          [
           0.19906195623051265
          ],
          [
           0.001383805937410752
          ],
          [
           0.0010304937831782195
          ],
          [
           0.000029442679519377697
          ],
          [
           0.0003827548337519101
          ],
          [
           0.0014426912964495072
          ],
          [
           0.0003533121542325324
          ],
          [
           0.000058885359038755394
          ],
          [
           0.000029442679519377697
          ],
          [
           0.002443742400108349
          ],
          [
           0.00562355178820114
          ],
          [
           0.000029442679519377697
          ],
          [
           0.000058885359038755394
          ],
          [
           0.001059936462697597
          ],
          [
           0.0003533121542325324
          ],
          [
           0.061476314836460634
          ],
          [
           0.03515455934613697
          ],
          [
           0.0001472133975968885
          ],
          [
           0.0002060987566356439
          ],
          [
           0.02490850687339354
          ],
          [
           0.002002102207317684
          ],
          [
           0.0006477389494263094
          ],
          [
           0.00294426795193777
          ],
          [
           0.0007655096675038202
          ],
          [
           0.00026498411567439927
          ],
          [
           0.002679283836263371
          ],
          [
           0.13090215314315326
          ],
          [
           0.000058885359038755394
          ],
          [
           0.000029442679519377697
          ],
          [
           0.00011777071807751079
          ],
          [
           0.0028853825928990143
          ],
          [
           0.001472133975968885
          ],
          [
           0.00026498411567439927
          ],
          [
           0.002826497233860259
          ],
          [
           0.0007360669879844425
          ],
          [
           0.03671502136066399
          ],
          [
           0.0003533121542325324
          ],
          [
           0.0002060987566356439
          ],
          [
           0.0000883280385581331
          ],
          [
           0.0003238694747131547
          ],
          [
           0.42574114585020145
          ],
          [
           0.07478440597921936
          ],
          [
           0.002649841156743993
          ],
          [
           0.00026498411567439927
          ],
          [
           0.000294426795193777
          ],
          [
           0.3733626189852286
          ],
          [
           0.000058885359038755394
          ],
          [
           0.00256151311818586
          ],
          [
           0.0897707298545826
          ],
          [
           0.0004121975132712878
          ],
          [
           0.002149315604914572
          ],
          [
           0.009156673330526464
          ],
          [
           0.00959831352331713
          ],
          [
           0.013749731335549386
          ],
          [
           0.000029442679519377697
          ],
          [
           0.008391163663022644
          ],
          [
           0.05237852686497292
          ],
          [
           0.23377487538385894
          ],
          [
           0.1058758755516822
          ],
          [
           0.005446895711084874
          ],
          [
           0.020786531740680656
          ],
          [
           0.000058885359038755394
          ],
          [
           0.000294426795193777
          ],
          [
           0.031915864599005424
          ],
          [
           0.0880630544424587
          ],
          [
           0.2728747537855925
          ],
          [
           0.0001472133975968885
          ],
          [
           0.000058885359038755394
          ],
          [
           0.00011777071807751079
          ],
          [
           0.0003827548337519101
          ],
          [
           0.0006182962699069317
          ],
          [
           0.000029442679519377697
          ],
          [
           0.007448997918402558
          ],
          [
           0.0003238694747131547
          ],
          [
           0.06568661800773164
          ],
          [
           0.004328073889348522
          ],
          [
           0.021345942651548832
          ],
          [
           0.000029442679519377697
          ],
          [
           0.000029442679519377697
          ],
          [
           0.07605044119855259
          ],
          [
           0.0000883280385581331
          ],
          [
           0.029884319712168365
          ],
          [
           0.011011562140247259
          ],
          [
           0.0000883280385581331
          ],
          [
           0.0009421657446200863
          ],
          [
           0.04336906693204335
          ],
          [
           0.0027087265157827484
          ],
          [
           0.000029442679519377697
          ],
          [
           0.000029442679519377697
          ],
          [
           8.848320147920022
          ],
          [
           0.000029442679519377697
          ],
          [
           0.001943216848278928
          ],
          [
           0.000029442679519377697
          ],
          [
           0.003385908144728436
          ],
          [
           0.12245210412109185
          ],
          [
           2.4316709015054045
          ],
          [
           0.000294426795193777
          ],
          [
           0.004651943364061677
          ],
          [
           0.0001472133975968885
          ],
          [
           0.000029442679519377697
          ],
          [
           0.05641217395912767
          ],
          [
           0.000029442679519377697
          ],
          [
           0.0004416401927906655
          ],
          [
           0.0006477389494263094
          ],
          [
           0.012778122911409921
          ],
          [
           0.01522186531151827
          ],
          [
           0.000029442679519377697
          ],
          [
           0.000029442679519377697
          ],
          [
           0.0063890614557049604
          ],
          [
           0.016546785889890267
          ],
          [
           3.2035401877854097
          ],
          [
           18.753985802739937
          ],
          [
           0.000058885359038755394
          ],
          [
           0.0010304937831782195
          ],
          [
           0.01024605247274344
          ],
          [
           0.000058885359038755394
          ],
          [
           0.0005299682313487985
          ],
          [
           0.00011777071807751079
          ],
          [
           0.000029442679519377697
          ],
          [
           0.004004204414635368
          ],
          [
           0.002149315604914572
          ],
          [
           0.0000883280385581331
          ],
          [
           0.000029442679519377697
          ],
          [
           1.9486931866695325
          ],
          [
           0.000294426795193777
          ],
          [
           0.000058885359038755394
          ],
          [
           0.00011777071807751079
          ],
          [
           0.000029442679519377697
          ],
          [
           0.00047108287231004315
          ],
          [
           0.001266035219333241
          ],
          [
           0.0003533121542325324
          ],
          [
           0.000029442679519377697
          ],
          [
           0.000029442679519377697
          ],
          [
           0.000029442679519377697
          ],
          [
           0.00011777071807751079
          ]
         ],
         "domain": {
          "x": [
           0,
           1
          ],
          "y": [
           0,
           1
          ]
         },
         "hovertemplate": "labels=%{label}<br>percentage_sum=%{value}<br>parent=%{parent}<br>id=%{id}<br>percentage=%{color}<extra></extra>",
         "ids": [
          "",
          ":",
          "?",
          "abkhazia",
          "afghanistan",
          "aland islands",
          "albania",
          "algeria",
          "america",
          "american samoa",
          "andorra",
          "angola",
          "anguilla",
          "argentina",
          "armenia",
          "aruba",
          "ascension island",
          "asia",
          "australia",
          "austria",
          "azerbaijan",
          "bahamas",
          "bahrain",
          "bahrein",
          "bangladesh",
          "barbados",
          "belarus",
          "belgium",
          "belize",
          "benelux",
          "benin",
          "bermuda",
          "bhutan",
          "bolivia",
          "bonaire",
          "bosnia and herzegovina",
          "botswana",
          "brazil",
          "british indian ocean territory",
          "brunei",
          "bulgaria",
          "burkina faso",
          "burundi",
          "cambodia",
          "cameroon",
          "canada",
          "cape verde",
          "caribbean netherlands",
          "cayman islands",
          "central african republic",
          "central america",
          "chad",
          "chile",
          "china",
          "christmas island",
          "colombia",
          "congo",
          "costa rica",
          "cote d'ivoire",
          "croatia",
          "cuba",
          "curaçao",
          "cyprus",
          "czech republic",
          "damam",
          "danemark",
          "democratic republic of the congo",
          "denmark",
          "djibouti",
          "dominica",
          "dominican republic",
          "east germany",
          "ecuador",
          "egypt",
          "el salvador",
          "england",
          "estonia",
          "eswatini",
          "ethiopia",
          "europe",
          "far",
          "faroe islands",
          "fiji",
          "finland",
          "fra",
          "france",
          "france  switzerland  germany",
          "french guiana",
          "french polynesia",
          "gabon",
          "georgia",
          "german democratic republic",
          "germany",
          "ghana",
          "greece",
          "grenada",
          "guam",
          "guatemala",
          "guyana",
          "haiti",
          "honduras",
          "hong kong",
          "hungary",
          "iceland",
          "india",
          "indonesia",
          "iran",
          "iraq",
          "iraqi kurdistan",
          "ireland",
          "isle of man",
          "israel",
          "italy",
          "ivory coast",
          "jamaica",
          "japan",
          "jordan",
          "kazakhstan",
          "kenya",
          "kosovo",
          "kuwait",
          "kyrgyzstan",
          "laos",
          "latin america",
          "latvia",
          "lebanon",
          "lesotho",
          "liberia",
          "libya",
          "liechtenstein",
          "lithuania",
          "luxembourg",
          "macau",
          "madagascar",
          "malaysia",
          "maldives",
          "mali",
          "malta",
          "martinique",
          "mauritania",
          "mauritius",
          "mexico",
          "middle east",
          "middle east and africa",
          "moldavia",
          "moldova",
          "monaco",
          "mongolia",
          "montenegro",
          "montserrat",
          "morocco",
          "mozambique",
          "myanmar",
          "namibia",
          "nepal",
          "netherlands",
          "new zealand",
          "nicaragua",
          "niger",
          "nigeria",
          "none",
          "north korea",
          "north macedonia",
          "norway",
          "oman",
          "pakistan",
          "palestine",
          "panama",
          "paraguay",
          "people's republic of china",
          "peru",
          "philippines",
          "poland",
          "portugal",
          "puerto rico",
          "qatar",
          "republic of ireland",
          "republic of the congo",
          "reunion",
          "romania",
          "russia",
          "rwanda",
          "saint",
          "saint lucia",
          "saint martin",
          "saint pierre and miquelon",
          "saint vincent and the grenadines",
          "salvador",
          "san marino",
          "saudi arabia",
          "senegal",
          "serbia",
          "sicily",
          "sierra leone",
          "singapore",
          "sint maarten",
          "slovakia",
          "slovenia",
          "sn",
          "somalia",
          "south africa",
          "south korea",
          "south sudan",
          "soviet union",
          "spain",
          "spanish",
          "sri lanka",
          "sudan",
          "suriname",
          "sweden",
          "switzerland",
          "syria",
          "taiwan",
          "tajikistan",
          "tanzania",
          "thailand",
          "timor-leste",
          "togo",
          "trinidad and tobago",
          "tunisia",
          "turkey",
          "turks and caicos islands",
          "uganda",
          "ukraine",
          "united arab emirates",
          "united kingdom",
          "united states",
          "united states virgin islands",
          "unknown",
          "uruguay",
          "ussr",
          "uzbekistan",
          "vanuatu",
          "vatican city",
          "venezuela",
          "vietnam",
          "wallis and futuna",
          "west africa",
          "world",
          "yemen",
          "yugoslavia",
          "zambia",
          "нова каледония",
          "францыя",
          "السعودية",
          "الكويت",
          "ریاستہائے متحدہ امریکہ",
          "سلطنة عمان",
          "ประเทศอินเดีย",
          "ประเทศเวียดนาม"
         ],
         "labels": [
          "",
          ":",
          "?",
          "abkhazia",
          "afghanistan",
          "aland islands",
          "albania",
          "algeria",
          "america",
          "american samoa",
          "andorra",
          "angola",
          "anguilla",
          "argentina",
          "armenia",
          "aruba",
          "ascension island",
          "asia",
          "australia",
          "austria",
          "azerbaijan",
          "bahamas",
          "bahrain",
          "bahrein",
          "bangladesh",
          "barbados",
          "belarus",
          "belgium",
          "belize",
          "benelux",
          "benin",
          "bermuda",
          "bhutan",
          "bolivia",
          "bonaire",
          "bosnia and herzegovina",
          "botswana",
          "brazil",
          "british indian ocean territory",
          "brunei",
          "bulgaria",
          "burkina faso",
          "burundi",
          "cambodia",
          "cameroon",
          "canada",
          "cape verde",
          "caribbean netherlands",
          "cayman islands",
          "central african republic",
          "central america",
          "chad",
          "chile",
          "china",
          "christmas island",
          "colombia",
          "congo",
          "costa rica",
          "cote d'ivoire",
          "croatia",
          "cuba",
          "curaçao",
          "cyprus",
          "czech republic",
          "damam",
          "danemark",
          "democratic republic of the congo",
          "denmark",
          "djibouti",
          "dominica",
          "dominican republic",
          "east germany",
          "ecuador",
          "egypt",
          "el salvador",
          "england",
          "estonia",
          "eswatini",
          "ethiopia",
          "europe",
          "far",
          "faroe islands",
          "fiji",
          "finland",
          "fra",
          "france",
          "france  switzerland  germany",
          "french guiana",
          "french polynesia",
          "gabon",
          "georgia",
          "german democratic republic",
          "germany",
          "ghana",
          "greece",
          "grenada",
          "guam",
          "guatemala",
          "guyana",
          "haiti",
          "honduras",
          "hong kong",
          "hungary",
          "iceland",
          "india",
          "indonesia",
          "iran",
          "iraq",
          "iraqi kurdistan",
          "ireland",
          "isle of man",
          "israel",
          "italy",
          "ivory coast",
          "jamaica",
          "japan",
          "jordan",
          "kazakhstan",
          "kenya",
          "kosovo",
          "kuwait",
          "kyrgyzstan",
          "laos",
          "latin america",
          "latvia",
          "lebanon",
          "lesotho",
          "liberia",
          "libya",
          "liechtenstein",
          "lithuania",
          "luxembourg",
          "macau",
          "madagascar",
          "malaysia",
          "maldives",
          "mali",
          "malta",
          "martinique",
          "mauritania",
          "mauritius",
          "mexico",
          "middle east",
          "middle east and africa",
          "moldavia",
          "moldova",
          "monaco",
          "mongolia",
          "montenegro",
          "montserrat",
          "morocco",
          "mozambique",
          "myanmar",
          "namibia",
          "nepal",
          "netherlands",
          "new zealand",
          "nicaragua",
          "niger",
          "nigeria",
          "none",
          "north korea",
          "north macedonia",
          "norway",
          "oman",
          "pakistan",
          "palestine",
          "panama",
          "paraguay",
          "people's republic of china",
          "peru",
          "philippines",
          "poland",
          "portugal",
          "puerto rico",
          "qatar",
          "republic of ireland",
          "republic of the congo",
          "reunion",
          "romania",
          "russia",
          "rwanda",
          "saint",
          "saint lucia",
          "saint martin",
          "saint pierre and miquelon",
          "saint vincent and the grenadines",
          "salvador",
          "san marino",
          "saudi arabia",
          "senegal",
          "serbia",
          "sicily",
          "sierra leone",
          "singapore",
          "sint maarten",
          "slovakia",
          "slovenia",
          "sn",
          "somalia",
          "south africa",
          "south korea",
          "south sudan",
          "soviet union",
          "spain",
          "spanish",
          "sri lanka",
          "sudan",
          "suriname",
          "sweden",
          "switzerland",
          "syria",
          "taiwan",
          "tajikistan",
          "tanzania",
          "thailand",
          "timor-leste",
          "togo",
          "trinidad and tobago",
          "tunisia",
          "turkey",
          "turks and caicos islands",
          "uganda",
          "ukraine",
          "united arab emirates",
          "united kingdom",
          "united states",
          "united states virgin islands",
          "unknown",
          "uruguay",
          "ussr",
          "uzbekistan",
          "vanuatu",
          "vatican city",
          "venezuela",
          "vietnam",
          "wallis and futuna",
          "west africa",
          "world",
          "yemen",
          "yugoslavia",
          "zambia",
          "нова каледония",
          "францыя",
          "السعودية",
          "الكويت",
          "ریاستہائے متحدہ امریکہ",
          "سلطنة عمان",
          "ประเทศอินเดีย",
          "ประเทศเวียดนาม"
         ],
         "marker": {
          "coloraxis": "coloraxis",
          "colors": [
           0.08744475817255176,
           0.000029442679519377697,
           0.0000883280385581331,
           0.000029442679519377697,
           0.003356465465209058,
           0.0001472133975968885,
           0.002973710631457147,
           0.02358358629502154,
           0.000029442679519377697,
           0.00011777071807751079,
           0.004593058005022921,
           0.0000883280385581331,
           0.000058885359038755394,
           0.05879703100019727,
           0.001177707180775108,
           0.00047108287231004315,
           0.000029442679519377697,
           0.000058885359038755394,
           1.1540647091210476,
           0.09736694117058206,
           0.00026498411567439927,
           0.001001051103658842,
           0.0007655096675038202,
           0.000029442679519377697,
           0.00011777071807751079,
           0.00023554143615502158,
           0.0040925324531935,
           2.212381824445079,
           0.000029442679519377697,
           0.00026498411567439927,
           0.00026498411567439927,
           0.0001472133975968885,
           0.0001766560771162662,
           0.04790323957802752,
           0.000029442679519377697,
           0.004799156761658565,
           0.0000883280385581331,
           0.37533527851302695,
           0.000029442679519377697,
           0.0036803349399222125,
           0.08994738593169888,
           0.0012365925398138634,
           0.000029442679519377697,
           0.002679283836263371,
           0.002267086322992083,
           2.4509558565905967,
           0.0000883280385581331,
           0.0000883280385581331,
           0.000029442679519377697,
           0.0000883280385581331,
           0.000029442679519377697,
           0.00011777071807751079,
           0.01495688119584387,
           0.011070447499286016,
           0.000029442679519377697,
           0.011011562140247259,
           0.000029442679519377697,
           0.0055057810701236295,
           0.0017076754121239065,
           0.025144048309548556,
           0.001560462014527018,
           0.0004121975132712878,
           0.00959831352331713,
           0.08862246535332689,
           0.000029442679519377697,
           0.0024142997205889713,
           0.00047108287231004315,
           0.0843827195025365,
           0.0001472133975968885,
           0.0002060987566356439,
           0.002973710631457147,
           0.0001472133975968885,
           0.002914825272418392,
           0.014161928848820672,
           0.0001472133975968885,
           0.0027970545543408816,
           0.005594109108681763,
           0.0001766560771162662,
           0.0006771816289456871,
           0.007743424713596335,
           8.3515927017486,
           0.000029442679519377697,
           0.0000883280385581331,
           0.08420606342542021,
           0.000029442679519377697,
           30.186401604037183,
           0.000058885359038755394,
           0.0037097776194415896,
           0.009068345291968332,
           0.0007360669879844425,
           0.005800207865317406,
           0.000029442679519377697,
           7.67841527721755,
           0.0005299682313487985,
           0.021493156049145718,
           0.000029442679519377697,
           0.00011777071807751079,
           0.0030620386700152807,
           0.000500525551829421,
           0.0006771816289456871,
           0.002914825272418392,
           0.00883280385581331,
           0.04195581831511322,
           0.0015310193350076403,
           0.10767187900236423,
           0.06121133072078624,
           0.001589904694046396,
           0.006300733417146827,
           0.0000883280385581331,
           1.5939972264995894,
           0.000029442679519377697,
           0.010540479267937218,
           6.8240181602447265,
           0.004121975132712878,
           0.0007360669879844425,
           0.19906195623051265,
           0.001383805937410752,
           0.0010304937831782195,
           0.000029442679519377697,
           0.0003827548337519101,
           0.0014426912964495072,
           0.0003533121542325324,
           0.000058885359038755394,
           0.000029442679519377697,
           0.002443742400108349,
           0.00562355178820114,
           0.000029442679519377697,
           0.000058885359038755394,
           0.001059936462697597,
           0.0003533121542325324,
           0.061476314836460634,
           0.03515455934613697,
           0.0001472133975968885,
           0.0002060987566356439,
           0.02490850687339354,
           0.002002102207317684,
           0.0006477389494263094,
           0.00294426795193777,
           0.0007655096675038202,
           0.00026498411567439927,
           0.002679283836263371,
           0.13090215314315326,
           0.000058885359038755394,
           0.000029442679519377697,
           0.00011777071807751079,
           0.0028853825928990143,
           0.001472133975968885,
           0.00026498411567439927,
           0.002826497233860259,
           0.0007360669879844425,
           0.03671502136066399,
           0.0003533121542325324,
           0.0002060987566356439,
           0.0000883280385581331,
           0.0003238694747131547,
           0.42574114585020145,
           0.07478440597921936,
           0.002649841156743993,
           0.00026498411567439927,
           0.000294426795193777,
           0.3733626189852286,
           0.000058885359038755394,
           0.00256151311818586,
           0.0897707298545826,
           0.0004121975132712878,
           0.002149315604914572,
           0.009156673330526464,
           0.00959831352331713,
           0.013749731335549386,
           0.000029442679519377697,
           0.008391163663022644,
           0.05237852686497292,
           0.23377487538385894,
           0.1058758755516822,
           0.005446895711084874,
           0.020786531740680656,
           0.000058885359038755394,
           0.000294426795193777,
           0.031915864599005424,
           0.0880630544424587,
           0.2728747537855925,
           0.0001472133975968885,
           0.000058885359038755394,
           0.00011777071807751079,
           0.0003827548337519101,
           0.0006182962699069317,
           0.000029442679519377697,
           0.007448997918402558,
           0.0003238694747131547,
           0.06568661800773164,
           0.004328073889348522,
           0.021345942651548832,
           0.000029442679519377697,
           0.000029442679519377697,
           0.07605044119855259,
           0.0000883280385581331,
           0.029884319712168365,
           0.011011562140247259,
           0.0000883280385581331,
           0.0009421657446200863,
           0.04336906693204335,
           0.0027087265157827484,
           0.000029442679519377697,
           0.000029442679519377697,
           8.848320147920022,
           0.000029442679519377697,
           0.001943216848278928,
           0.000029442679519377697,
           0.003385908144728436,
           0.12245210412109185,
           2.4316709015054045,
           0.000294426795193777,
           0.004651943364061677,
           0.0001472133975968885,
           0.000029442679519377697,
           0.05641217395912767,
           0.000029442679519377697,
           0.0004416401927906655,
           0.0006477389494263094,
           0.012778122911409921,
           0.01522186531151827,
           0.000029442679519377697,
           0.000029442679519377697,
           0.0063890614557049604,
           0.016546785889890267,
           3.2035401877854097,
           18.753985802739937,
           0.000058885359038755394,
           0.0010304937831782195,
           0.01024605247274344,
           0.000058885359038755394,
           0.0005299682313487985,
           0.00011777071807751079,
           0.000029442679519377697,
           0.004004204414635368,
           0.002149315604914572,
           0.0000883280385581331,
           0.000029442679519377697,
           1.9486931866695325,
           0.000294426795193777,
           0.000058885359038755394,
           0.00011777071807751079,
           0.000029442679519377697,
           0.00047108287231004315,
           0.001266035219333241,
           0.0003533121542325324,
           0.000029442679519377697,
           0.000029442679519377697,
           0.000029442679519377697,
           0.00011777071807751079
          ]
         },
         "name": "",
         "parents": [
          "",
          "",
          "",
          "",
          "",
          "",
          "",
          "",
          "",
          "",
          "",
          "",
          "",
          "",
          "",
          "",
          "",
          "",
          "",
          "",
          "",
          "",
          "",
          "",
          "",
          "",
          "",
          "",
          "",
          "",
          "",
          "",
          "",
          "",
          "",
          "",
          "",
          "",
          "",
          "",
          "",
          "",
          "",
          "",
          "",
          "",
          "",
          "",
          "",
          "",
          "",
          "",
          "",
          "",
          "",
          "",
          "",
          "",
          "",
          "",
          "",
          "",
          "",
          "",
          "",
          "",
          "",
          "",
          "",
          "",
          "",
          "",
          "",
          "",
          "",
          "",
          "",
          "",
          "",
          "",
          "",
          "",
          "",
          "",
          "",
          "",
          "",
          "",
          "",
          "",
          "",
          "",
          "",
          "",
          "",
          "",
          "",
          "",
          "",
          "",
          "",
          "",
          "",
          "",
          "",
          "",
          "",
          "",
          "",
          "",
          "",
          "",
          "",
          "",
          "",
          "",
          "",
          "",
          "",
          "",
          "",
          "",
          "",
          "",
          "",
          "",
          "",
          "",
          "",
          "",
          "",
          "",
          "",
          "",
          "",
          "",
          "",
          "",
          "",
          "",
          "",
          "",
          "",
          "",
          "",
          "",
          "",
          "",
          "",
          "",
          "",
          "",
          "",
          "",
          "",
          "",
          "",
          "",
          "",
          "",
          "",
          "",
          "",
          "",
          "",
          "",
          "",
          "",
          "",
          "",
          "",
          "",
          "",
          "",
          "",
          "",
          "",
          "",
          "",
          "",
          "",
          "",
          "",
          "",
          "",
          "",
          "",
          "",
          "",
          "",
          "",
          "",
          "",
          "",
          "",
          "",
          "",
          "",
          "",
          "",
          "",
          "",
          "",
          "",
          "",
          "",
          "",
          "",
          "",
          "",
          "",
          "",
          "",
          "",
          "",
          "",
          "",
          "",
          "",
          "",
          "",
          "",
          "",
          "",
          "",
          "",
          "",
          "",
          "",
          "",
          "",
          "",
          "",
          "",
          "",
          "",
          "",
          "",
          "",
          "",
          "",
          "",
          "",
          "",
          "",
          "",
          "",
          "",
          "",
          ""
         ],
         "type": "treemap",
         "values": [
          0.08744475817255176,
          0.000029442679519377697,
          0.0000883280385581331,
          0.000029442679519377697,
          0.003356465465209058,
          0.0001472133975968885,
          0.0029737106314571475,
          0.02358358629502154,
          0.000029442679519377697,
          0.00011777071807751079,
          0.004593058005022921,
          0.0000883280385581331,
          0.000058885359038755394,
          0.05879703100019727,
          0.001177707180775108,
          0.00047108287231004315,
          0.000029442679519377697,
          0.000058885359038755394,
          1.1540647091210476,
          0.09736694117058205,
          0.00026498411567439927,
          0.001001051103658842,
          0.0007655096675038203,
          0.000029442679519377697,
          0.00011777071807751079,
          0.00023554143615502158,
          0.0040925324531935,
          2.212381824445079,
          0.000029442679519377697,
          0.00026498411567439927,
          0.00026498411567439927,
          0.0001472133975968885,
          0.0001766560771162662,
          0.047903239578027515,
          0.000029442679519377697,
          0.004799156761658565,
          0.0000883280385581331,
          0.3753352785130269,
          0.000029442679519377697,
          0.0036803349399222125,
          0.08994738593169888,
          0.0012365925398138634,
          0.000029442679519377697,
          0.002679283836263371,
          0.002267086322992083,
          2.4509558565905967,
          0.0000883280385581331,
          0.0000883280385581331,
          0.000029442679519377697,
          0.0000883280385581331,
          0.000029442679519377697,
          0.00011777071807751079,
          0.01495688119584387,
          0.011070447499286016,
          0.000029442679519377697,
          0.011011562140247259,
          0.000029442679519377697,
          0.0055057810701236295,
          0.0017076754121239065,
          0.025144048309548556,
          0.001560462014527018,
          0.0004121975132712878,
          0.00959831352331713,
          0.08862246535332688,
          0.000029442679519377697,
          0.0024142997205889713,
          0.00047108287231004315,
          0.0843827195025365,
          0.0001472133975968885,
          0.0002060987566356439,
          0.0029737106314571475,
          0.0001472133975968885,
          0.0029148252724183923,
          0.014161928848820674,
          0.0001472133975968885,
          0.0027970545543408816,
          0.005594109108681763,
          0.0001766560771162662,
          0.0006771816289456871,
          0.007743424713596335,
          8.3515927017486,
          0.000029442679519377697,
          0.0000883280385581331,
          0.08420606342542021,
          0.000029442679519377697,
          30.186401604037183,
          0.000058885359038755394,
          0.0037097776194415896,
          0.009068345291968332,
          0.0007360669879844425,
          0.005800207865317406,
          0.000029442679519377697,
          7.678415277217549,
          0.0005299682313487985,
          0.021493156049145718,
          0.000029442679519377697,
          0.00011777071807751079,
          0.003062038670015281,
          0.000500525551829421,
          0.0006771816289456871,
          0.0029148252724183923,
          0.00883280385581331,
          0.04195581831511322,
          0.0015310193350076406,
          0.10767187900236423,
          0.06121133072078624,
          0.001589904694046396,
          0.006300733417146828,
          0.0000883280385581331,
          1.5939972264995894,
          0.000029442679519377697,
          0.010540479267937218,
          6.8240181602447265,
          0.004121975132712878,
          0.0007360669879844425,
          0.19906195623051265,
          0.001383805937410752,
          0.0010304937831782195,
          0.000029442679519377697,
          0.00038275483375191014,
          0.0014426912964495072,
          0.0003533121542325324,
          0.000058885359038755394,
          0.000029442679519377697,
          0.002443742400108349,
          0.005623551788201141,
          0.000029442679519377697,
          0.000058885359038755394,
          0.001059936462697597,
          0.0003533121542325324,
          0.061476314836460634,
          0.03515455934613697,
          0.0001472133975968885,
          0.0002060987566356439,
          0.024908506873393535,
          0.002002102207317684,
          0.0006477389494263094,
          0.00294426795193777,
          0.0007655096675038203,
          0.00026498411567439927,
          0.002679283836263371,
          0.13090215314315326,
          0.000058885359038755394,
          0.000029442679519377697,
          0.00011777071807751079,
          0.0028853825928990143,
          0.001472133975968885,
          0.00026498411567439927,
          0.002826497233860259,
          0.0007360669879844425,
          0.03671502136066399,
          0.0003533121542325324,
          0.0002060987566356439,
          0.0000883280385581331,
          0.0003238694747131547,
          0.4257411458502015,
          0.07478440597921936,
          0.002649841156743993,
          0.00026498411567439927,
          0.000294426795193777,
          0.3733626189852286,
          0.000058885359038755394,
          0.00256151311818586,
          0.0897707298545826,
          0.0004121975132712878,
          0.002149315604914572,
          0.009156673330526464,
          0.00959831352331713,
          0.013749731335549386,
          0.000029442679519377697,
          0.008391163663022644,
          0.05237852686497292,
          0.23377487538385894,
          0.1058758755516822,
          0.005446895711084874,
          0.020786531740680656,
          0.000058885359038755394,
          0.000294426795193777,
          0.031915864599005424,
          0.0880630544424587,
          0.2728747537855925,
          0.0001472133975968885,
          0.000058885359038755394,
          0.00011777071807751079,
          0.00038275483375191014,
          0.0006182962699069317,
          0.000029442679519377697,
          0.007448997918402558,
          0.0003238694747131547,
          0.06568661800773164,
          0.004328073889348522,
          0.021345942651548832,
          0.000029442679519377697,
          0.000029442679519377697,
          0.07605044119855259,
          0.0000883280385581331,
          0.029884319712168365,
          0.011011562140247259,
          0.0000883280385581331,
          0.0009421657446200863,
          0.04336906693204335,
          0.0027087265157827484,
          0.000029442679519377697,
          0.000029442679519377697,
          8.848320147920022,
          0.000029442679519377697,
          0.001943216848278928,
          0.000029442679519377697,
          0.003385908144728436,
          0.12245210412109185,
          2.4316709015054045,
          0.000294426795193777,
          0.004651943364061677,
          0.0001472133975968885,
          0.000029442679519377697,
          0.05641217395912767,
          0.000029442679519377697,
          0.0004416401927906655,
          0.0006477389494263094,
          0.012778122911409921,
          0.01522186531151827,
          0.000029442679519377697,
          0.000029442679519377697,
          0.0063890614557049604,
          0.016546785889890267,
          3.20354018778541,
          18.753985802739937,
          0.000058885359038755394,
          0.0010304937831782195,
          0.01024605247274344,
          0.000058885359038755394,
          0.0005299682313487985,
          0.00011777071807751079,
          0.000029442679519377697,
          0.004004204414635368,
          0.002149315604914572,
          0.0000883280385581331,
          0.000029442679519377697,
          1.9486931866695325,
          0.000294426795193777,
          0.000058885359038755394,
          0.00011777071807751079,
          0.000029442679519377697,
          0.00047108287231004315,
          0.001266035219333241,
          0.0003533121542325324,
          0.000029442679519377697,
          0.000029442679519377697,
          0.000029442679519377697,
          0.00011777071807751079
         ]
        }
       ],
       "layout": {
        "coloraxis": {
         "colorbar": {
          "title": {
           "text": "percentage"
          }
         },
         "colorscale": [
          [
           0,
           "#000004"
          ],
          [
           0.1111111111111111,
           "#180f3d"
          ],
          [
           0.2222222222222222,
           "#440f76"
          ],
          [
           0.3333333333333333,
           "#721f81"
          ],
          [
           0.4444444444444444,
           "#9e2f7f"
          ],
          [
           0.5555555555555556,
           "#cd4071"
          ],
          [
           0.6666666666666666,
           "#f1605d"
          ],
          [
           0.7777777777777778,
           "#fd9668"
          ],
          [
           0.8888888888888888,
           "#feca8d"
          ],
          [
           1,
           "#fcfdbf"
          ]
         ]
        },
        "font": {
         "color": "white"
        },
        "legend": {
         "tracegroupgap": 0
        },
        "paper_bgcolor": "black",
        "plot_bgcolor": "black",
        "template": {
         "data": {
          "bar": [
           {
            "error_x": {
             "color": "#2a3f5f"
            },
            "error_y": {
             "color": "#2a3f5f"
            },
            "marker": {
             "line": {
              "color": "#E5ECF6",
              "width": 0.5
             },
             "pattern": {
              "fillmode": "overlay",
              "size": 10,
              "solidity": 0.2
             }
            },
            "type": "bar"
           }
          ],
          "barpolar": [
           {
            "marker": {
             "line": {
              "color": "#E5ECF6",
              "width": 0.5
             },
             "pattern": {
              "fillmode": "overlay",
              "size": 10,
              "solidity": 0.2
             }
            },
            "type": "barpolar"
           }
          ],
          "carpet": [
           {
            "aaxis": {
             "endlinecolor": "#2a3f5f",
             "gridcolor": "white",
             "linecolor": "white",
             "minorgridcolor": "white",
             "startlinecolor": "#2a3f5f"
            },
            "baxis": {
             "endlinecolor": "#2a3f5f",
             "gridcolor": "white",
             "linecolor": "white",
             "minorgridcolor": "white",
             "startlinecolor": "#2a3f5f"
            },
            "type": "carpet"
           }
          ],
          "choropleth": [
           {
            "colorbar": {
             "outlinewidth": 0,
             "ticks": ""
            },
            "type": "choropleth"
           }
          ],
          "contour": [
           {
            "colorbar": {
             "outlinewidth": 0,
             "ticks": ""
            },
            "colorscale": [
             [
              0,
              "#0d0887"
             ],
             [
              0.1111111111111111,
              "#46039f"
             ],
             [
              0.2222222222222222,
              "#7201a8"
             ],
             [
              0.3333333333333333,
              "#9c179e"
             ],
             [
              0.4444444444444444,
              "#bd3786"
             ],
             [
              0.5555555555555556,
              "#d8576b"
             ],
             [
              0.6666666666666666,
              "#ed7953"
             ],
             [
              0.7777777777777778,
              "#fb9f3a"
             ],
             [
              0.8888888888888888,
              "#fdca26"
             ],
             [
              1,
              "#f0f921"
             ]
            ],
            "type": "contour"
           }
          ],
          "contourcarpet": [
           {
            "colorbar": {
             "outlinewidth": 0,
             "ticks": ""
            },
            "type": "contourcarpet"
           }
          ],
          "heatmap": [
           {
            "colorbar": {
             "outlinewidth": 0,
             "ticks": ""
            },
            "colorscale": [
             [
              0,
              "#0d0887"
             ],
             [
              0.1111111111111111,
              "#46039f"
             ],
             [
              0.2222222222222222,
              "#7201a8"
             ],
             [
              0.3333333333333333,
              "#9c179e"
             ],
             [
              0.4444444444444444,
              "#bd3786"
             ],
             [
              0.5555555555555556,
              "#d8576b"
             ],
             [
              0.6666666666666666,
              "#ed7953"
             ],
             [
              0.7777777777777778,
              "#fb9f3a"
             ],
             [
              0.8888888888888888,
              "#fdca26"
             ],
             [
              1,
              "#f0f921"
             ]
            ],
            "type": "heatmap"
           }
          ],
          "heatmapgl": [
           {
            "colorbar": {
             "outlinewidth": 0,
             "ticks": ""
            },
            "colorscale": [
             [
              0,
              "#0d0887"
             ],
             [
              0.1111111111111111,
              "#46039f"
             ],
             [
              0.2222222222222222,
              "#7201a8"
             ],
             [
              0.3333333333333333,
              "#9c179e"
             ],
             [
              0.4444444444444444,
              "#bd3786"
             ],
             [
              0.5555555555555556,
              "#d8576b"
             ],
             [
              0.6666666666666666,
              "#ed7953"
             ],
             [
              0.7777777777777778,
              "#fb9f3a"
             ],
             [
              0.8888888888888888,
              "#fdca26"
             ],
             [
              1,
              "#f0f921"
             ]
            ],
            "type": "heatmapgl"
           }
          ],
          "histogram": [
           {
            "marker": {
             "pattern": {
              "fillmode": "overlay",
              "size": 10,
              "solidity": 0.2
             }
            },
            "type": "histogram"
           }
          ],
          "histogram2d": [
           {
            "colorbar": {
             "outlinewidth": 0,
             "ticks": ""
            },
            "colorscale": [
             [
              0,
              "#0d0887"
             ],
             [
              0.1111111111111111,
              "#46039f"
             ],
             [
              0.2222222222222222,
              "#7201a8"
             ],
             [
              0.3333333333333333,
              "#9c179e"
             ],
             [
              0.4444444444444444,
              "#bd3786"
             ],
             [
              0.5555555555555556,
              "#d8576b"
             ],
             [
              0.6666666666666666,
              "#ed7953"
             ],
             [
              0.7777777777777778,
              "#fb9f3a"
             ],
             [
              0.8888888888888888,
              "#fdca26"
             ],
             [
              1,
              "#f0f921"
             ]
            ],
            "type": "histogram2d"
           }
          ],
          "histogram2dcontour": [
           {
            "colorbar": {
             "outlinewidth": 0,
             "ticks": ""
            },
            "colorscale": [
             [
              0,
              "#0d0887"
             ],
             [
              0.1111111111111111,
              "#46039f"
             ],
             [
              0.2222222222222222,
              "#7201a8"
             ],
             [
              0.3333333333333333,
              "#9c179e"
             ],
             [
              0.4444444444444444,
              "#bd3786"
             ],
             [
              0.5555555555555556,
              "#d8576b"
             ],
             [
              0.6666666666666666,
              "#ed7953"
             ],
             [
              0.7777777777777778,
              "#fb9f3a"
             ],
             [
              0.8888888888888888,
              "#fdca26"
             ],
             [
              1,
              "#f0f921"
             ]
            ],
            "type": "histogram2dcontour"
           }
          ],
          "mesh3d": [
           {
            "colorbar": {
             "outlinewidth": 0,
             "ticks": ""
            },
            "type": "mesh3d"
           }
          ],
          "parcoords": [
           {
            "line": {
             "colorbar": {
              "outlinewidth": 0,
              "ticks": ""
             }
            },
            "type": "parcoords"
           }
          ],
          "pie": [
           {
            "automargin": true,
            "type": "pie"
           }
          ],
          "scatter": [
           {
            "fillpattern": {
             "fillmode": "overlay",
             "size": 10,
             "solidity": 0.2
            },
            "type": "scatter"
           }
          ],
          "scatter3d": [
           {
            "line": {
             "colorbar": {
              "outlinewidth": 0,
              "ticks": ""
             }
            },
            "marker": {
             "colorbar": {
              "outlinewidth": 0,
              "ticks": ""
             }
            },
            "type": "scatter3d"
           }
          ],
          "scattercarpet": [
           {
            "marker": {
             "colorbar": {
              "outlinewidth": 0,
              "ticks": ""
             }
            },
            "type": "scattercarpet"
           }
          ],
          "scattergeo": [
           {
            "marker": {
             "colorbar": {
              "outlinewidth": 0,
              "ticks": ""
             }
            },
            "type": "scattergeo"
           }
          ],
          "scattergl": [
           {
            "marker": {
             "colorbar": {
              "outlinewidth": 0,
              "ticks": ""
             }
            },
            "type": "scattergl"
           }
          ],
          "scattermapbox": [
           {
            "marker": {
             "colorbar": {
              "outlinewidth": 0,
              "ticks": ""
             }
            },
            "type": "scattermapbox"
           }
          ],
          "scatterpolar": [
           {
            "marker": {
             "colorbar": {
              "outlinewidth": 0,
              "ticks": ""
             }
            },
            "type": "scatterpolar"
           }
          ],
          "scatterpolargl": [
           {
            "marker": {
             "colorbar": {
              "outlinewidth": 0,
              "ticks": ""
             }
            },
            "type": "scatterpolargl"
           }
          ],
          "scatterternary": [
           {
            "marker": {
             "colorbar": {
              "outlinewidth": 0,
              "ticks": ""
             }
            },
            "type": "scatterternary"
           }
          ],
          "surface": [
           {
            "colorbar": {
             "outlinewidth": 0,
             "ticks": ""
            },
            "colorscale": [
             [
              0,
              "#0d0887"
             ],
             [
              0.1111111111111111,
              "#46039f"
             ],
             [
              0.2222222222222222,
              "#7201a8"
             ],
             [
              0.3333333333333333,
              "#9c179e"
             ],
             [
              0.4444444444444444,
              "#bd3786"
             ],
             [
              0.5555555555555556,
              "#d8576b"
             ],
             [
              0.6666666666666666,
              "#ed7953"
             ],
             [
              0.7777777777777778,
              "#fb9f3a"
             ],
             [
              0.8888888888888888,
              "#fdca26"
             ],
             [
              1,
              "#f0f921"
             ]
            ],
            "type": "surface"
           }
          ],
          "table": [
           {
            "cells": {
             "fill": {
              "color": "#EBF0F8"
             },
             "line": {
              "color": "white"
             }
            },
            "header": {
             "fill": {
              "color": "#C8D4E3"
             },
             "line": {
              "color": "white"
             }
            },
            "type": "table"
           }
          ]
         },
         "layout": {
          "annotationdefaults": {
           "arrowcolor": "#2a3f5f",
           "arrowhead": 0,
           "arrowwidth": 1
          },
          "autotypenumbers": "strict",
          "coloraxis": {
           "colorbar": {
            "outlinewidth": 0,
            "ticks": ""
           }
          },
          "colorscale": {
           "diverging": [
            [
             0,
             "#8e0152"
            ],
            [
             0.1,
             "#c51b7d"
            ],
            [
             0.2,
             "#de77ae"
            ],
            [
             0.3,
             "#f1b6da"
            ],
            [
             0.4,
             "#fde0ef"
            ],
            [
             0.5,
             "#f7f7f7"
            ],
            [
             0.6,
             "#e6f5d0"
            ],
            [
             0.7,
             "#b8e186"
            ],
            [
             0.8,
             "#7fbc41"
            ],
            [
             0.9,
             "#4d9221"
            ],
            [
             1,
             "#276419"
            ]
           ],
           "sequential": [
            [
             0,
             "#0d0887"
            ],
            [
             0.1111111111111111,
             "#46039f"
            ],
            [
             0.2222222222222222,
             "#7201a8"
            ],
            [
             0.3333333333333333,
             "#9c179e"
            ],
            [
             0.4444444444444444,
             "#bd3786"
            ],
            [
             0.5555555555555556,
             "#d8576b"
            ],
            [
             0.6666666666666666,
             "#ed7953"
            ],
            [
             0.7777777777777778,
             "#fb9f3a"
            ],
            [
             0.8888888888888888,
             "#fdca26"
            ],
            [
             1,
             "#f0f921"
            ]
           ],
           "sequentialminus": [
            [
             0,
             "#0d0887"
            ],
            [
             0.1111111111111111,
             "#46039f"
            ],
            [
             0.2222222222222222,
             "#7201a8"
            ],
            [
             0.3333333333333333,
             "#9c179e"
            ],
            [
             0.4444444444444444,
             "#bd3786"
            ],
            [
             0.5555555555555556,
             "#d8576b"
            ],
            [
             0.6666666666666666,
             "#ed7953"
            ],
            [
             0.7777777777777778,
             "#fb9f3a"
            ],
            [
             0.8888888888888888,
             "#fdca26"
            ],
            [
             1,
             "#f0f921"
            ]
           ]
          },
          "colorway": [
           "#636efa",
           "#EF553B",
           "#00cc96",
           "#ab63fa",
           "#FFA15A",
           "#19d3f3",
           "#FF6692",
           "#B6E880",
           "#FF97FF",
           "#FECB52"
          ],
          "font": {
           "color": "#2a3f5f"
          },
          "geo": {
           "bgcolor": "white",
           "lakecolor": "white",
           "landcolor": "#E5ECF6",
           "showlakes": true,
           "showland": true,
           "subunitcolor": "white"
          },
          "hoverlabel": {
           "align": "left"
          },
          "hovermode": "closest",
          "mapbox": {
           "style": "light"
          },
          "paper_bgcolor": "white",
          "plot_bgcolor": "#E5ECF6",
          "polar": {
           "angularaxis": {
            "gridcolor": "white",
            "linecolor": "white",
            "ticks": ""
           },
           "bgcolor": "#E5ECF6",
           "radialaxis": {
            "gridcolor": "white",
            "linecolor": "white",
            "ticks": ""
           }
          },
          "scene": {
           "xaxis": {
            "backgroundcolor": "#E5ECF6",
            "gridcolor": "white",
            "gridwidth": 2,
            "linecolor": "white",
            "showbackground": true,
            "ticks": "",
            "zerolinecolor": "white"
           },
           "yaxis": {
            "backgroundcolor": "#E5ECF6",
            "gridcolor": "white",
            "gridwidth": 2,
            "linecolor": "white",
            "showbackground": true,
            "ticks": "",
            "zerolinecolor": "white"
           },
           "zaxis": {
            "backgroundcolor": "#E5ECF6",
            "gridcolor": "white",
            "gridwidth": 2,
            "linecolor": "white",
            "showbackground": true,
            "ticks": "",
            "zerolinecolor": "white"
           }
          },
          "shapedefaults": {
           "line": {
            "color": "#2a3f5f"
           }
          },
          "ternary": {
           "aaxis": {
            "gridcolor": "white",
            "linecolor": "white",
            "ticks": ""
           },
           "baxis": {
            "gridcolor": "white",
            "linecolor": "white",
            "ticks": ""
           },
           "bgcolor": "#E5ECF6",
           "caxis": {
            "gridcolor": "white",
            "linecolor": "white",
            "ticks": ""
           }
          },
          "title": {
           "x": 0.05
          },
          "xaxis": {
           "automargin": true,
           "gridcolor": "white",
           "linecolor": "white",
           "ticks": "",
           "title": {
            "standoff": 15
           },
           "zerolinecolor": "white",
           "zerolinewidth": 2
          },
          "yaxis": {
           "automargin": true,
           "gridcolor": "white",
           "linecolor": "white",
           "ticks": "",
           "title": {
            "standoff": 15
           },
           "zerolinecolor": "white",
           "zerolinewidth": 2
          }
         }
        },
        "title": {
         "text": "countries treemap"
        }
       }
      }
     },
     "metadata": {},
     "output_type": "display_data"
    }
   ],
   "source": [
    "df = pd.DataFrame(data_graph_countries)\n",
    "fig = px.treemap(df, path=['countries'], values='percentage',\n",
    "                 color='percentage', color_continuous_scale='Magma',\n",
    "                 title='countries treemap')\n",
    "fig.update_layout(\n",
    "    paper_bgcolor='black',  \n",
    "    plot_bgcolor='black',   \n",
    "    font_color='white'      \n",
    ")\n",
    "fig.show()"
   ]
  },
  {
   "cell_type": "markdown",
   "metadata": {},
   "source": [
    "# ECOSCORE GRAD:"
   ]
  },
  {
   "cell_type": "code",
   "execution_count": 7,
   "metadata": {},
   "outputs": [
    {
     "name": "stdout",
     "output_type": "stream",
     "text": [
      "999.0: 74.62%\n",
      "54.0: 0.35%\n",
      "75.0: 0.48%\n",
      "76.0: 0.38%\n",
      "77.0: 0.51%\n",
      "52.0: 0.17%\n",
      "9.0: 0.14%\n",
      "24.0: 0.15%\n",
      "50.0: 0.43%\n",
      "65.0: 0.16%\n",
      "49.0: 0.65%\n",
      "70.0: 0.29%\n",
      "79.0: 1.84%\n",
      "63.0: 0.22%\n",
      "29.0: 0.21%\n",
      "21.0: 0.50%\n",
      "56.0: 0.17%\n",
      "92.0: 0.04%\n",
      "34.0: 0.92%\n",
      "59.0: 0.21%\n",
      "55.0: 0.23%\n",
      "73.0: 0.22%\n",
      "27.0: 0.45%\n",
      "19.0: 0.32%\n",
      "60.0: 0.38%\n",
      "23.0: 0.17%\n",
      "47.0: 0.21%\n",
      "42.0: 0.46%\n",
      "0.0: 0.62%\n",
      "41.0: 0.17%\n",
      "67.0: 1.32%\n",
      "71.0: 0.27%\n",
      "74.0: 0.31%\n",
      "30.0: 0.27%\n",
      "15.0: 0.43%\n",
      "58.0: 0.26%\n",
      "61.0: 0.15%\n",
      "39.0: 0.51%\n",
      "91.0: 0.07%\n",
      "53.0: 0.19%\n",
      "44.0: 0.38%\n",
      "14.0: 0.10%\n",
      "72.0: 0.99%\n",
      "68.0: 0.28%\n",
      "12.0: 0.33%\n",
      "18.0: 0.20%\n",
      "5.0: 0.10%\n",
      "51.0: 0.22%\n",
      "66.0: 0.22%\n",
      "69.0: 0.18%\n",
      "43.0: 0.39%\n",
      "8.0: 0.10%\n",
      "2.0: 0.12%\n",
      "22.0: 0.26%\n",
      "46.0: 0.13%\n",
      "38.0: 0.31%\n",
      "26.0: 0.13%\n",
      "10.0: 0.04%\n",
      "36.0: 0.36%\n",
      "37.0: 0.39%\n",
      "78.0: 0.36%\n",
      "25.0: 0.34%\n",
      "64.0: 0.24%\n",
      "4.0: 0.19%\n",
      "40.0: 0.20%\n",
      "35.0: 0.31%\n",
      "20.0: 0.11%\n",
      "32.0: 0.20%\n",
      "85.0: 0.08%\n",
      "62.0: 0.22%\n",
      "31.0: 0.16%\n",
      "28.0: 0.19%\n",
      "89.0: 0.04%\n",
      "48.0: 0.21%\n",
      "83.0: 0.06%\n",
      "16.0: 0.27%\n",
      "90.0: 0.05%\n",
      "57.0: 0.24%\n",
      "45.0: 0.33%\n",
      "100.0: 0.31%\n",
      "33.0: 0.12%\n",
      "82.0: 0.06%\n",
      "13.0: 0.07%\n",
      "81.0: 0.09%\n",
      "1.0: 0.07%\n",
      "17.0: 0.13%\n",
      "6.0: 0.11%\n",
      "11.0: 0.05%\n",
      "99.0: 0.03%\n",
      "80.0: 0.07%\n",
      "86.0: 0.03%\n",
      "3.0: 0.08%\n",
      "84.0: 0.04%\n",
      "94.0: 0.04%\n",
      "88.0: 0.04%\n",
      "97.0: 0.02%\n",
      "93.0: 0.03%\n",
      "95.0: 0.03%\n",
      "7.0: 0.03%\n",
      "96.0: 0.03%\n",
      "87.0: 0.04%\n",
      "98.0: 0.02%\n",
      "78.4170138324: 0.00%\n"
     ]
    }
   ],
   "source": [
    "# retourne une liste des notes écoscores présentes dans le fichier\n",
    "def extract_grad_ecoscore_from_jsonl(file_path):\n",
    "    ecoscore_grad_list = []\n",
    "    with open(file_path, 'r', encoding='utf-8') as file:\n",
    "        for line in file:\n",
    "            try:\n",
    "                record = json.loads(line)\n",
    "                ecoscore_grad = record.get('ecoscore_note')\n",
    "                if ecoscore_grad is not None:\n",
    "                    ecoscore_grad_list.append(ecoscore_grad)\n",
    "            except json.JSONDecodeError:\n",
    "                print(f\"WARNING line: {line} in {file_path}\")\n",
    "    return ecoscore_grad_list\n",
    "ecoscore_grad_list = extract_grad_ecoscore_from_jsonl(jsonl_02)\n",
    "\n",
    "ecoscore_grad_counts = Counter(ecoscore_grad_list)\n",
    "total_ecoscore_grads = sum(ecoscore_grad_counts.values())\n",
    "data_graph_ecoscore_grad = []\n",
    "for ecoscore_grad, count in ecoscore_grad_counts.items():\n",
    "    percentage = (count / total_ecoscore_grads) * 100\n",
    "    print(f\"{ecoscore_grad}: {percentage:.2f}%\")\n",
    "    data_graph_ecoscore_grad.append({'ecoscore_grad': ecoscore_grad, 'percentage': percentage})"
   ]
  },
  {
   "cell_type": "code",
   "execution_count": 8,
   "metadata": {},
   "outputs": [
    {
     "data": {
      "application/vnd.plotly.v1+json": {
       "config": {
        "plotlyServerURL": "https://plot.ly"
       },
       "data": [
        {
         "branchvalues": "total",
         "customdata": [
          [
           0.617056487306271
          ],
          [
           0.06646046719316867
          ],
          [
           0.11797362287272223
          ],
          [
           0.08103016241591351
          ],
          [
           0.18861933728970315
          ],
          [
           0.09887253215953405
          ],
          [
           0.10913110806150993
          ],
          [
           0.03052398351201402
          ],
          [
           0.09959629671703545
          ],
          [
           0.14129142883396179
          ],
          [
           0.043614681595516944
          ],
          [
           0.047296440431502135
          ],
          [
           0.3324596760870393
          ],
          [
           0.07338343252579041
          ],
          [
           0.10082354966236384
          ],
          [
           0.42837421396808956
          ],
          [
           0.2708138166024666
          ],
          [
           0.1348404838649279
          ],
          [
           0.20466802965168987
          ],
          [
           0.3209109111912567
          ],
          [
           0.11492122452152083
          ],
          [
           0.4984220359245259
          ],
          [
           0.2602405604580989
          ],
          [
           0.16999026694010283
          ],
          [
           0.15123532449354574
          ],
          [
           0.33818685649857183
          ],
          [
           0.127886050508067
          ],
          [
           0.45027595883856564
          ],
          [
           0.18975218616231396
          ],
          [
           0.2134476084144238
          ],
          [
           0.2730795143476883
          ],
          [
           0.15762333341410126
          ],
          [
           0.20347224473060066
          ],
          [
           0.12215887009653446
          ],
          [
           0.9182369472995557
          ],
          [
           0.3099915067802579
          ],
          [
           0.3573508832602384
          ],
          [
           0.3897000121781254
          ],
          [
           0.3085125096410159
          ],
          [
           0.5078309751720436
          ],
          [
           0.20447922150625472
          ],
          [
           0.1672525488312933
          ],
          [
           0.4621708720009793
          ],
          [
           0.3857979771724659
          ],
          [
           0.3829343869666996
          ],
          [
           0.32858910910561895
          ],
          [
           0.12867275111404672
          ],
          [
           0.20687079134843317
          ],
          [
           0.2110875065964846
          ],
          [
           0.6513251657027487
          ],
          [
           0.4266749406591733
          ],
          [
           0.21785313180791038
          ],
          [
           0.16656025229803115
          ],
          [
           0.1891228256775302
          ],
          [
           0.3535432523272964
          ],
          [
           0.23201374271554576
          ],
          [
           0.1673154848797717
          ],
          [
           0.2419261703508905
          ],
          [
           0.25589797311309076
          ],
          [
           0.21266090780844404
          ],
          [
           0.3780568432096251
          ],
          [
           0.14824586219082272
          ],
          [
           0.2198356173349793
          ],
          [
           0.21731817539584414
          ],
          [
           0.23837028361186208
          ],
          [
           0.16259528124389322
          ],
          [
           0.21785313180791038
          ],
          [
           1.316842410337372
          ],
          [
           0.28258285766792357
          ],
          [
           0.1786125055816408
          ],
          [
           0.2910792242125049
          ],
          [
           0.2738032789051897
          ],
          [
           0.9902043187345826
          ],
          [
           0.21517834974757924
          ],
          [
           0.3132327132768944
          ],
          [
           0.47535597415719977
          ],
          [
           0.37764775889451574
          ],
          [
           0.5088694199719368
          ],
          [
           0.3597424531024168
          ],
          [
           0.00003146802423918971
          ],
          [
           1.8421066709379261
          ],
          [
           0.07121213885328631
          ],
          [
           0.08911744464538526
          ],
          [
           0.05755501633347798
          ],
          [
           0.0645409177145781
          ],
          [
           0.04348880949856018
          ],
          [
           0.0798029094705851
          ],
          [
           0.030240771293861313
          ],
          [
           0.03571620751148032
          ],
          [
           0.04323706530464666
          ],
          [
           0.040782559413989866
          ],
          [
           0.054125001691406306
          ],
          [
           0.0651388101751227
          ],
          [
           0.040153198929206074
          ],
          [
           0.03275821323299649
          ],
          [
           0.03666024823865601
          ],
          [
           0.02614992814276665
          ],
          [
           0.02618139616700584
          ],
          [
           0.02076889599786521
          ],
          [
           0.020831832046343587
          ],
          [
           0.02511148334287339
          ],
          [
           0.3086069137137335
          ],
          [
           74.61745109633023
          ]
         ],
         "domain": {
          "x": [
           0,
           1
          ],
          "y": [
           0,
           1
          ]
         },
         "hovertemplate": "labels=%{label}<br>percentage_sum=%{value}<br>parent=%{parent}<br>id=%{id}<br>percentage=%{color}<extra></extra>",
         "ids": [
          "0.0",
          "1.0",
          "2.0",
          "3.0",
          "4.0",
          "5.0",
          "6.0",
          "7.0",
          "8.0",
          "9.0",
          "10.0",
          "11.0",
          "12.0",
          "13.0",
          "14.0",
          "15.0",
          "16.0",
          "17.0",
          "18.0",
          "19.0",
          "20.0",
          "21.0",
          "22.0",
          "23.0",
          "24.0",
          "25.0",
          "26.0",
          "27.0",
          "28.0",
          "29.0",
          "30.0",
          "31.0",
          "32.0",
          "33.0",
          "34.0",
          "35.0",
          "36.0",
          "37.0",
          "38.0",
          "39.0",
          "40.0",
          "41.0",
          "42.0",
          "43.0",
          "44.0",
          "45.0",
          "46.0",
          "47.0",
          "48.0",
          "49.0",
          "50.0",
          "51.0",
          "52.0",
          "53.0",
          "54.0",
          "55.0",
          "56.0",
          "57.0",
          "58.0",
          "59.0",
          "60.0",
          "61.0",
          "62.0",
          "63.0",
          "64.0",
          "65.0",
          "66.0",
          "67.0",
          "68.0",
          "69.0",
          "70.0",
          "71.0",
          "72.0",
          "73.0",
          "74.0",
          "75.0",
          "76.0",
          "77.0",
          "78.0",
          "78.4170138324",
          "79.0",
          "80.0",
          "81.0",
          "82.0",
          "83.0",
          "84.0",
          "85.0",
          "86.0",
          "87.0",
          "88.0",
          "89.0",
          "90.0",
          "91.0",
          "92.0",
          "93.0",
          "94.0",
          "95.0",
          "96.0",
          "97.0",
          "98.0",
          "99.0",
          "100.0",
          "999.0"
         ],
         "labels": [
          "0.0",
          "1.0",
          "2.0",
          "3.0",
          "4.0",
          "5.0",
          "6.0",
          "7.0",
          "8.0",
          "9.0",
          "10.0",
          "11.0",
          "12.0",
          "13.0",
          "14.0",
          "15.0",
          "16.0",
          "17.0",
          "18.0",
          "19.0",
          "20.0",
          "21.0",
          "22.0",
          "23.0",
          "24.0",
          "25.0",
          "26.0",
          "27.0",
          "28.0",
          "29.0",
          "30.0",
          "31.0",
          "32.0",
          "33.0",
          "34.0",
          "35.0",
          "36.0",
          "37.0",
          "38.0",
          "39.0",
          "40.0",
          "41.0",
          "42.0",
          "43.0",
          "44.0",
          "45.0",
          "46.0",
          "47.0",
          "48.0",
          "49.0",
          "50.0",
          "51.0",
          "52.0",
          "53.0",
          "54.0",
          "55.0",
          "56.0",
          "57.0",
          "58.0",
          "59.0",
          "60.0",
          "61.0",
          "62.0",
          "63.0",
          "64.0",
          "65.0",
          "66.0",
          "67.0",
          "68.0",
          "69.0",
          "70.0",
          "71.0",
          "72.0",
          "73.0",
          "74.0",
          "75.0",
          "76.0",
          "77.0",
          "78.0",
          "78.4170138324",
          "79.0",
          "80.0",
          "81.0",
          "82.0",
          "83.0",
          "84.0",
          "85.0",
          "86.0",
          "87.0",
          "88.0",
          "89.0",
          "90.0",
          "91.0",
          "92.0",
          "93.0",
          "94.0",
          "95.0",
          "96.0",
          "97.0",
          "98.0",
          "99.0",
          "100.0",
          "999.0"
         ],
         "marker": {
          "coloraxis": "coloraxis",
          "colors": [
           0.617056487306271,
           0.06646046719316867,
           0.11797362287272223,
           0.08103016241591351,
           0.18861933728970315,
           0.09887253215953405,
           0.10913110806150993,
           0.03052398351201402,
           0.09959629671703545,
           0.14129142883396179,
           0.043614681595516944,
           0.047296440431502135,
           0.3324596760870393,
           0.07338343252579041,
           0.10082354966236384,
           0.42837421396808956,
           0.2708138166024666,
           0.1348404838649279,
           0.20466802965168987,
           0.3209109111912567,
           0.11492122452152083,
           0.4984220359245259,
           0.2602405604580989,
           0.16999026694010283,
           0.15123532449354574,
           0.33818685649857183,
           0.127886050508067,
           0.45027595883856564,
           0.18975218616231396,
           0.2134476084144238,
           0.2730795143476883,
           0.15762333341410126,
           0.20347224473060066,
           0.12215887009653446,
           0.9182369472995557,
           0.3099915067802579,
           0.3573508832602384,
           0.3897000121781254,
           0.3085125096410159,
           0.5078309751720436,
           0.20447922150625472,
           0.1672525488312933,
           0.4621708720009793,
           0.3857979771724659,
           0.3829343869666996,
           0.32858910910561895,
           0.12867275111404672,
           0.20687079134843317,
           0.2110875065964846,
           0.6513251657027487,
           0.4266749406591733,
           0.21785313180791038,
           0.16656025229803115,
           0.1891228256775302,
           0.3535432523272964,
           0.23201374271554576,
           0.1673154848797717,
           0.2419261703508905,
           0.25589797311309076,
           0.21266090780844404,
           0.3780568432096251,
           0.14824586219082272,
           0.2198356173349793,
           0.21731817539584414,
           0.23837028361186208,
           0.16259528124389322,
           0.21785313180791038,
           1.316842410337372,
           0.28258285766792357,
           0.1786125055816408,
           0.2910792242125049,
           0.2738032789051897,
           0.9902043187345826,
           0.21517834974757924,
           0.3132327132768944,
           0.47535597415719977,
           0.37764775889451574,
           0.5088694199719368,
           0.3597424531024168,
           0.00003146802423918971,
           1.8421066709379261,
           0.07121213885328631,
           0.08911744464538526,
           0.05755501633347798,
           0.0645409177145781,
           0.04348880949856018,
           0.0798029094705851,
           0.030240771293861313,
           0.03571620751148032,
           0.04323706530464666,
           0.040782559413989866,
           0.054125001691406306,
           0.0651388101751227,
           0.040153198929206074,
           0.03275821323299649,
           0.03666024823865601,
           0.02614992814276665,
           0.02618139616700584,
           0.02076889599786521,
           0.020831832046343587,
           0.02511148334287339,
           0.3086069137137335,
           74.61745109633023
          ]
         },
         "name": "",
         "parents": [
          "",
          "",
          "",
          "",
          "",
          "",
          "",
          "",
          "",
          "",
          "",
          "",
          "",
          "",
          "",
          "",
          "",
          "",
          "",
          "",
          "",
          "",
          "",
          "",
          "",
          "",
          "",
          "",
          "",
          "",
          "",
          "",
          "",
          "",
          "",
          "",
          "",
          "",
          "",
          "",
          "",
          "",
          "",
          "",
          "",
          "",
          "",
          "",
          "",
          "",
          "",
          "",
          "",
          "",
          "",
          "",
          "",
          "",
          "",
          "",
          "",
          "",
          "",
          "",
          "",
          "",
          "",
          "",
          "",
          "",
          "",
          "",
          "",
          "",
          "",
          "",
          "",
          "",
          "",
          "",
          "",
          "",
          "",
          "",
          "",
          "",
          "",
          "",
          "",
          "",
          "",
          "",
          "",
          "",
          "",
          "",
          "",
          "",
          "",
          "",
          "",
          "",
          ""
         ],
         "type": "treemap",
         "values": [
          0.617056487306271,
          0.06646046719316867,
          0.11797362287272223,
          0.08103016241591351,
          0.18861933728970315,
          0.09887253215953407,
          0.10913110806150993,
          0.03052398351201402,
          0.09959629671703545,
          0.14129142883396179,
          0.043614681595516944,
          0.047296440431502135,
          0.3324596760870393,
          0.07338343252579041,
          0.10082354966236384,
          0.42837421396808956,
          0.2708138166024666,
          0.1348404838649279,
          0.20466802965168987,
          0.3209109111912567,
          0.11492122452152083,
          0.4984220359245259,
          0.2602405604580989,
          0.16999026694010283,
          0.15123532449354574,
          0.33818685649857183,
          0.127886050508067,
          0.4502759588385656,
          0.18975218616231396,
          0.2134476084144238,
          0.2730795143476883,
          0.15762333341410126,
          0.20347224473060066,
          0.12215887009653446,
          0.9182369472995557,
          0.3099915067802579,
          0.3573508832602384,
          0.3897000121781254,
          0.3085125096410159,
          0.5078309751720436,
          0.20447922150625472,
          0.1672525488312933,
          0.4621708720009793,
          0.3857979771724659,
          0.38293438696669957,
          0.32858910910561895,
          0.12867275111404672,
          0.20687079134843314,
          0.2110875065964846,
          0.6513251657027487,
          0.4266749406591733,
          0.21785313180791038,
          0.16656025229803115,
          0.18912282567753017,
          0.3535432523272964,
          0.23201374271554576,
          0.1673154848797717,
          0.2419261703508905,
          0.25589797311309076,
          0.21266090780844407,
          0.3780568432096252,
          0.14824586219082272,
          0.2198356173349793,
          0.21731817539584414,
          0.23837028361186208,
          0.16259528124389322,
          0.21785313180791038,
          1.316842410337372,
          0.28258285766792357,
          0.1786125055816408,
          0.2910792242125049,
          0.2738032789051897,
          0.9902043187345826,
          0.21517834974757924,
          0.3132327132768944,
          0.47535597415719977,
          0.37764775889451574,
          0.5088694199719368,
          0.3597424531024168,
          0.00003146802423918971,
          1.8421066709379263,
          0.07121213885328631,
          0.08911744464538526,
          0.05755501633347798,
          0.0645409177145781,
          0.04348880949856018,
          0.0798029094705851,
          0.030240771293861313,
          0.03571620751148032,
          0.04323706530464666,
          0.040782559413989866,
          0.0541250016914063,
          0.0651388101751227,
          0.040153198929206074,
          0.03275821323299649,
          0.03666024823865601,
          0.02614992814276665,
          0.02618139616700584,
          0.02076889599786521,
          0.020831832046343587,
          0.02511148334287339,
          0.3086069137137335,
          74.61745109633023
         ]
        }
       ],
       "layout": {
        "coloraxis": {
         "colorbar": {
          "title": {
           "text": "percentage"
          }
         },
         "colorscale": [
          [
           0,
           "#000004"
          ],
          [
           0.1111111111111111,
           "#180f3d"
          ],
          [
           0.2222222222222222,
           "#440f76"
          ],
          [
           0.3333333333333333,
           "#721f81"
          ],
          [
           0.4444444444444444,
           "#9e2f7f"
          ],
          [
           0.5555555555555556,
           "#cd4071"
          ],
          [
           0.6666666666666666,
           "#f1605d"
          ],
          [
           0.7777777777777778,
           "#fd9668"
          ],
          [
           0.8888888888888888,
           "#feca8d"
          ],
          [
           1,
           "#fcfdbf"
          ]
         ]
        },
        "font": {
         "color": "white"
        },
        "legend": {
         "tracegroupgap": 0
        },
        "paper_bgcolor": "black",
        "plot_bgcolor": "black",
        "template": {
         "data": {
          "bar": [
           {
            "error_x": {
             "color": "#2a3f5f"
            },
            "error_y": {
             "color": "#2a3f5f"
            },
            "marker": {
             "line": {
              "color": "#E5ECF6",
              "width": 0.5
             },
             "pattern": {
              "fillmode": "overlay",
              "size": 10,
              "solidity": 0.2
             }
            },
            "type": "bar"
           }
          ],
          "barpolar": [
           {
            "marker": {
             "line": {
              "color": "#E5ECF6",
              "width": 0.5
             },
             "pattern": {
              "fillmode": "overlay",
              "size": 10,
              "solidity": 0.2
             }
            },
            "type": "barpolar"
           }
          ],
          "carpet": [
           {
            "aaxis": {
             "endlinecolor": "#2a3f5f",
             "gridcolor": "white",
             "linecolor": "white",
             "minorgridcolor": "white",
             "startlinecolor": "#2a3f5f"
            },
            "baxis": {
             "endlinecolor": "#2a3f5f",
             "gridcolor": "white",
             "linecolor": "white",
             "minorgridcolor": "white",
             "startlinecolor": "#2a3f5f"
            },
            "type": "carpet"
           }
          ],
          "choropleth": [
           {
            "colorbar": {
             "outlinewidth": 0,
             "ticks": ""
            },
            "type": "choropleth"
           }
          ],
          "contour": [
           {
            "colorbar": {
             "outlinewidth": 0,
             "ticks": ""
            },
            "colorscale": [
             [
              0,
              "#0d0887"
             ],
             [
              0.1111111111111111,
              "#46039f"
             ],
             [
              0.2222222222222222,
              "#7201a8"
             ],
             [
              0.3333333333333333,
              "#9c179e"
             ],
             [
              0.4444444444444444,
              "#bd3786"
             ],
             [
              0.5555555555555556,
              "#d8576b"
             ],
             [
              0.6666666666666666,
              "#ed7953"
             ],
             [
              0.7777777777777778,
              "#fb9f3a"
             ],
             [
              0.8888888888888888,
              "#fdca26"
             ],
             [
              1,
              "#f0f921"
             ]
            ],
            "type": "contour"
           }
          ],
          "contourcarpet": [
           {
            "colorbar": {
             "outlinewidth": 0,
             "ticks": ""
            },
            "type": "contourcarpet"
           }
          ],
          "heatmap": [
           {
            "colorbar": {
             "outlinewidth": 0,
             "ticks": ""
            },
            "colorscale": [
             [
              0,
              "#0d0887"
             ],
             [
              0.1111111111111111,
              "#46039f"
             ],
             [
              0.2222222222222222,
              "#7201a8"
             ],
             [
              0.3333333333333333,
              "#9c179e"
             ],
             [
              0.4444444444444444,
              "#bd3786"
             ],
             [
              0.5555555555555556,
              "#d8576b"
             ],
             [
              0.6666666666666666,
              "#ed7953"
             ],
             [
              0.7777777777777778,
              "#fb9f3a"
             ],
             [
              0.8888888888888888,
              "#fdca26"
             ],
             [
              1,
              "#f0f921"
             ]
            ],
            "type": "heatmap"
           }
          ],
          "heatmapgl": [
           {
            "colorbar": {
             "outlinewidth": 0,
             "ticks": ""
            },
            "colorscale": [
             [
              0,
              "#0d0887"
             ],
             [
              0.1111111111111111,
              "#46039f"
             ],
             [
              0.2222222222222222,
              "#7201a8"
             ],
             [
              0.3333333333333333,
              "#9c179e"
             ],
             [
              0.4444444444444444,
              "#bd3786"
             ],
             [
              0.5555555555555556,
              "#d8576b"
             ],
             [
              0.6666666666666666,
              "#ed7953"
             ],
             [
              0.7777777777777778,
              "#fb9f3a"
             ],
             [
              0.8888888888888888,
              "#fdca26"
             ],
             [
              1,
              "#f0f921"
             ]
            ],
            "type": "heatmapgl"
           }
          ],
          "histogram": [
           {
            "marker": {
             "pattern": {
              "fillmode": "overlay",
              "size": 10,
              "solidity": 0.2
             }
            },
            "type": "histogram"
           }
          ],
          "histogram2d": [
           {
            "colorbar": {
             "outlinewidth": 0,
             "ticks": ""
            },
            "colorscale": [
             [
              0,
              "#0d0887"
             ],
             [
              0.1111111111111111,
              "#46039f"
             ],
             [
              0.2222222222222222,
              "#7201a8"
             ],
             [
              0.3333333333333333,
              "#9c179e"
             ],
             [
              0.4444444444444444,
              "#bd3786"
             ],
             [
              0.5555555555555556,
              "#d8576b"
             ],
             [
              0.6666666666666666,
              "#ed7953"
             ],
             [
              0.7777777777777778,
              "#fb9f3a"
             ],
             [
              0.8888888888888888,
              "#fdca26"
             ],
             [
              1,
              "#f0f921"
             ]
            ],
            "type": "histogram2d"
           }
          ],
          "histogram2dcontour": [
           {
            "colorbar": {
             "outlinewidth": 0,
             "ticks": ""
            },
            "colorscale": [
             [
              0,
              "#0d0887"
             ],
             [
              0.1111111111111111,
              "#46039f"
             ],
             [
              0.2222222222222222,
              "#7201a8"
             ],
             [
              0.3333333333333333,
              "#9c179e"
             ],
             [
              0.4444444444444444,
              "#bd3786"
             ],
             [
              0.5555555555555556,
              "#d8576b"
             ],
             [
              0.6666666666666666,
              "#ed7953"
             ],
             [
              0.7777777777777778,
              "#fb9f3a"
             ],
             [
              0.8888888888888888,
              "#fdca26"
             ],
             [
              1,
              "#f0f921"
             ]
            ],
            "type": "histogram2dcontour"
           }
          ],
          "mesh3d": [
           {
            "colorbar": {
             "outlinewidth": 0,
             "ticks": ""
            },
            "type": "mesh3d"
           }
          ],
          "parcoords": [
           {
            "line": {
             "colorbar": {
              "outlinewidth": 0,
              "ticks": ""
             }
            },
            "type": "parcoords"
           }
          ],
          "pie": [
           {
            "automargin": true,
            "type": "pie"
           }
          ],
          "scatter": [
           {
            "fillpattern": {
             "fillmode": "overlay",
             "size": 10,
             "solidity": 0.2
            },
            "type": "scatter"
           }
          ],
          "scatter3d": [
           {
            "line": {
             "colorbar": {
              "outlinewidth": 0,
              "ticks": ""
             }
            },
            "marker": {
             "colorbar": {
              "outlinewidth": 0,
              "ticks": ""
             }
            },
            "type": "scatter3d"
           }
          ],
          "scattercarpet": [
           {
            "marker": {
             "colorbar": {
              "outlinewidth": 0,
              "ticks": ""
             }
            },
            "type": "scattercarpet"
           }
          ],
          "scattergeo": [
           {
            "marker": {
             "colorbar": {
              "outlinewidth": 0,
              "ticks": ""
             }
            },
            "type": "scattergeo"
           }
          ],
          "scattergl": [
           {
            "marker": {
             "colorbar": {
              "outlinewidth": 0,
              "ticks": ""
             }
            },
            "type": "scattergl"
           }
          ],
          "scattermapbox": [
           {
            "marker": {
             "colorbar": {
              "outlinewidth": 0,
              "ticks": ""
             }
            },
            "type": "scattermapbox"
           }
          ],
          "scatterpolar": [
           {
            "marker": {
             "colorbar": {
              "outlinewidth": 0,
              "ticks": ""
             }
            },
            "type": "scatterpolar"
           }
          ],
          "scatterpolargl": [
           {
            "marker": {
             "colorbar": {
              "outlinewidth": 0,
              "ticks": ""
             }
            },
            "type": "scatterpolargl"
           }
          ],
          "scatterternary": [
           {
            "marker": {
             "colorbar": {
              "outlinewidth": 0,
              "ticks": ""
             }
            },
            "type": "scatterternary"
           }
          ],
          "surface": [
           {
            "colorbar": {
             "outlinewidth": 0,
             "ticks": ""
            },
            "colorscale": [
             [
              0,
              "#0d0887"
             ],
             [
              0.1111111111111111,
              "#46039f"
             ],
             [
              0.2222222222222222,
              "#7201a8"
             ],
             [
              0.3333333333333333,
              "#9c179e"
             ],
             [
              0.4444444444444444,
              "#bd3786"
             ],
             [
              0.5555555555555556,
              "#d8576b"
             ],
             [
              0.6666666666666666,
              "#ed7953"
             ],
             [
              0.7777777777777778,
              "#fb9f3a"
             ],
             [
              0.8888888888888888,
              "#fdca26"
             ],
             [
              1,
              "#f0f921"
             ]
            ],
            "type": "surface"
           }
          ],
          "table": [
           {
            "cells": {
             "fill": {
              "color": "#EBF0F8"
             },
             "line": {
              "color": "white"
             }
            },
            "header": {
             "fill": {
              "color": "#C8D4E3"
             },
             "line": {
              "color": "white"
             }
            },
            "type": "table"
           }
          ]
         },
         "layout": {
          "annotationdefaults": {
           "arrowcolor": "#2a3f5f",
           "arrowhead": 0,
           "arrowwidth": 1
          },
          "autotypenumbers": "strict",
          "coloraxis": {
           "colorbar": {
            "outlinewidth": 0,
            "ticks": ""
           }
          },
          "colorscale": {
           "diverging": [
            [
             0,
             "#8e0152"
            ],
            [
             0.1,
             "#c51b7d"
            ],
            [
             0.2,
             "#de77ae"
            ],
            [
             0.3,
             "#f1b6da"
            ],
            [
             0.4,
             "#fde0ef"
            ],
            [
             0.5,
             "#f7f7f7"
            ],
            [
             0.6,
             "#e6f5d0"
            ],
            [
             0.7,
             "#b8e186"
            ],
            [
             0.8,
             "#7fbc41"
            ],
            [
             0.9,
             "#4d9221"
            ],
            [
             1,
             "#276419"
            ]
           ],
           "sequential": [
            [
             0,
             "#0d0887"
            ],
            [
             0.1111111111111111,
             "#46039f"
            ],
            [
             0.2222222222222222,
             "#7201a8"
            ],
            [
             0.3333333333333333,
             "#9c179e"
            ],
            [
             0.4444444444444444,
             "#bd3786"
            ],
            [
             0.5555555555555556,
             "#d8576b"
            ],
            [
             0.6666666666666666,
             "#ed7953"
            ],
            [
             0.7777777777777778,
             "#fb9f3a"
            ],
            [
             0.8888888888888888,
             "#fdca26"
            ],
            [
             1,
             "#f0f921"
            ]
           ],
           "sequentialminus": [
            [
             0,
             "#0d0887"
            ],
            [
             0.1111111111111111,
             "#46039f"
            ],
            [
             0.2222222222222222,
             "#7201a8"
            ],
            [
             0.3333333333333333,
             "#9c179e"
            ],
            [
             0.4444444444444444,
             "#bd3786"
            ],
            [
             0.5555555555555556,
             "#d8576b"
            ],
            [
             0.6666666666666666,
             "#ed7953"
            ],
            [
             0.7777777777777778,
             "#fb9f3a"
            ],
            [
             0.8888888888888888,
             "#fdca26"
            ],
            [
             1,
             "#f0f921"
            ]
           ]
          },
          "colorway": [
           "#636efa",
           "#EF553B",
           "#00cc96",
           "#ab63fa",
           "#FFA15A",
           "#19d3f3",
           "#FF6692",
           "#B6E880",
           "#FF97FF",
           "#FECB52"
          ],
          "font": {
           "color": "#2a3f5f"
          },
          "geo": {
           "bgcolor": "white",
           "lakecolor": "white",
           "landcolor": "#E5ECF6",
           "showlakes": true,
           "showland": true,
           "subunitcolor": "white"
          },
          "hoverlabel": {
           "align": "left"
          },
          "hovermode": "closest",
          "mapbox": {
           "style": "light"
          },
          "paper_bgcolor": "white",
          "plot_bgcolor": "#E5ECF6",
          "polar": {
           "angularaxis": {
            "gridcolor": "white",
            "linecolor": "white",
            "ticks": ""
           },
           "bgcolor": "#E5ECF6",
           "radialaxis": {
            "gridcolor": "white",
            "linecolor": "white",
            "ticks": ""
           }
          },
          "scene": {
           "xaxis": {
            "backgroundcolor": "#E5ECF6",
            "gridcolor": "white",
            "gridwidth": 2,
            "linecolor": "white",
            "showbackground": true,
            "ticks": "",
            "zerolinecolor": "white"
           },
           "yaxis": {
            "backgroundcolor": "#E5ECF6",
            "gridcolor": "white",
            "gridwidth": 2,
            "linecolor": "white",
            "showbackground": true,
            "ticks": "",
            "zerolinecolor": "white"
           },
           "zaxis": {
            "backgroundcolor": "#E5ECF6",
            "gridcolor": "white",
            "gridwidth": 2,
            "linecolor": "white",
            "showbackground": true,
            "ticks": "",
            "zerolinecolor": "white"
           }
          },
          "shapedefaults": {
           "line": {
            "color": "#2a3f5f"
           }
          },
          "ternary": {
           "aaxis": {
            "gridcolor": "white",
            "linecolor": "white",
            "ticks": ""
           },
           "baxis": {
            "gridcolor": "white",
            "linecolor": "white",
            "ticks": ""
           },
           "bgcolor": "#E5ECF6",
           "caxis": {
            "gridcolor": "white",
            "linecolor": "white",
            "ticks": ""
           }
          },
          "title": {
           "x": 0.05
          },
          "xaxis": {
           "automargin": true,
           "gridcolor": "white",
           "linecolor": "white",
           "ticks": "",
           "title": {
            "standoff": 15
           },
           "zerolinecolor": "white",
           "zerolinewidth": 2
          },
          "yaxis": {
           "automargin": true,
           "gridcolor": "white",
           "linecolor": "white",
           "ticks": "",
           "title": {
            "standoff": 15
           },
           "zerolinecolor": "white",
           "zerolinewidth": 2
          }
         }
        },
        "title": {
         "text": "ecoscore grad treemap"
        }
       }
      }
     },
     "metadata": {},
     "output_type": "display_data"
    }
   ],
   "source": [
    "df = pd.DataFrame(data_graph_ecoscore_grad)\n",
    "fig = px.treemap(df, path=['ecoscore_grad'], values='percentage',\n",
    "                 color='percentage', color_continuous_scale='Magma',\n",
    "                 title='ecoscore grad treemap')\n",
    "fig.update_layout(\n",
    "    paper_bgcolor='black',  \n",
    "    plot_bgcolor='black',   \n",
    "    font_color='white'      \n",
    ")\n",
    "fig.show()"
   ]
  },
  {
   "cell_type": "markdown",
   "metadata": {},
   "source": [
    "# ECOSCORE GROUPS:"
   ]
  },
  {
   "cell_type": "code",
   "execution_count": 9,
   "metadata": {},
   "outputs": [
    {
     "name": "stdout",
     "output_type": "stream",
     "text": [
      "z: 74.62%\n",
      "c: 5.59%\n",
      "b: 9.01%\n",
      "e: 3.51%\n",
      "d: 6.06%\n",
      "a: 1.21%\n"
     ]
    }
   ],
   "source": [
    "# retourne une liste des lettres écoscore présentes dans le fichier\n",
    "def extract_groups_ecoscore_from_jsonl(file_path):\n",
    "    ecoscore_groups_list = []\n",
    "    with open(file_path, 'r', encoding='utf-8') as file:\n",
    "        for line in file:\n",
    "            try:\n",
    "                record = json.loads(line)\n",
    "                ecoscore_groups = record.get('ecoscore_groups')\n",
    "                if ecoscore_groups is not None:\n",
    "                    ecoscore_groups_list.append(ecoscore_groups)\n",
    "            except json.JSONDecodeError:\n",
    "                print(f\"WARNING line: {line} in {file_path}\")\n",
    "    return ecoscore_groups_list\n",
    "ecoscore_groups_list = extract_groups_ecoscore_from_jsonl(jsonl_02)\n",
    "\n",
    "ecoscore_groups_counts = Counter(ecoscore_groups_list)\n",
    "total_ecoscore_groups = sum(ecoscore_groups_counts.values())\n",
    "\n",
    "data_graph_ecoscore_groups = []\n",
    "for ecoscore_group, count in ecoscore_groups_counts.items():\n",
    "    percentage = (count / total_ecoscore_groups) * 100\n",
    "    print(f\"{ecoscore_group}: {percentage:.2f}%\")\n",
    "    data_graph_ecoscore_groups.append({'ecoscore_group': ecoscore_group, 'percentage': percentage})\n"
   ]
  },
  {
   "cell_type": "code",
   "execution_count": 10,
   "metadata": {},
   "outputs": [
    {
     "data": {
      "application/vnd.plotly.v1+json": {
       "config": {
        "plotlyServerURL": "https://plot.ly"
       },
       "data": [
        {
         "branchvalues": "total",
         "customdata": [
          [
           1.2121482936935877
          ],
          [
           9.007596066371098
          ],
          [
           5.592749011982709
          ],
          [
           6.062314869679898
          ],
          [
           3.5077406619424774
          ],
          [
           74.61745109633023
          ]
         ],
         "domain": {
          "x": [
           0,
           1
          ],
          "y": [
           0,
           1
          ]
         },
         "hovertemplate": "labels=%{label}<br>percentage_sum=%{value}<br>parent=%{parent}<br>id=%{id}<br>percentage=%{color}<extra></extra>",
         "ids": [
          "a",
          "b",
          "c",
          "d",
          "e",
          "z"
         ],
         "labels": [
          "a",
          "b",
          "c",
          "d",
          "e",
          "z"
         ],
         "marker": {
          "coloraxis": "coloraxis",
          "colors": [
           1.2121482936935877,
           9.007596066371098,
           5.592749011982709,
           6.062314869679898,
           3.5077406619424774,
           74.61745109633023
          ]
         },
         "name": "",
         "parents": [
          "",
          "",
          "",
          "",
          "",
          ""
         ],
         "type": "treemap",
         "values": [
          1.2121482936935877,
          9.007596066371098,
          5.592749011982709,
          6.0623148696798985,
          3.5077406619424774,
          74.61745109633023
         ]
        }
       ],
       "layout": {
        "coloraxis": {
         "colorbar": {
          "title": {
           "text": "percentage"
          }
         },
         "colorscale": [
          [
           0,
           "#000004"
          ],
          [
           0.1111111111111111,
           "#180f3d"
          ],
          [
           0.2222222222222222,
           "#440f76"
          ],
          [
           0.3333333333333333,
           "#721f81"
          ],
          [
           0.4444444444444444,
           "#9e2f7f"
          ],
          [
           0.5555555555555556,
           "#cd4071"
          ],
          [
           0.6666666666666666,
           "#f1605d"
          ],
          [
           0.7777777777777778,
           "#fd9668"
          ],
          [
           0.8888888888888888,
           "#feca8d"
          ],
          [
           1,
           "#fcfdbf"
          ]
         ]
        },
        "font": {
         "color": "white"
        },
        "legend": {
         "tracegroupgap": 0
        },
        "paper_bgcolor": "black",
        "plot_bgcolor": "black",
        "template": {
         "data": {
          "bar": [
           {
            "error_x": {
             "color": "#2a3f5f"
            },
            "error_y": {
             "color": "#2a3f5f"
            },
            "marker": {
             "line": {
              "color": "#E5ECF6",
              "width": 0.5
             },
             "pattern": {
              "fillmode": "overlay",
              "size": 10,
              "solidity": 0.2
             }
            },
            "type": "bar"
           }
          ],
          "barpolar": [
           {
            "marker": {
             "line": {
              "color": "#E5ECF6",
              "width": 0.5
             },
             "pattern": {
              "fillmode": "overlay",
              "size": 10,
              "solidity": 0.2
             }
            },
            "type": "barpolar"
           }
          ],
          "carpet": [
           {
            "aaxis": {
             "endlinecolor": "#2a3f5f",
             "gridcolor": "white",
             "linecolor": "white",
             "minorgridcolor": "white",
             "startlinecolor": "#2a3f5f"
            },
            "baxis": {
             "endlinecolor": "#2a3f5f",
             "gridcolor": "white",
             "linecolor": "white",
             "minorgridcolor": "white",
             "startlinecolor": "#2a3f5f"
            },
            "type": "carpet"
           }
          ],
          "choropleth": [
           {
            "colorbar": {
             "outlinewidth": 0,
             "ticks": ""
            },
            "type": "choropleth"
           }
          ],
          "contour": [
           {
            "colorbar": {
             "outlinewidth": 0,
             "ticks": ""
            },
            "colorscale": [
             [
              0,
              "#0d0887"
             ],
             [
              0.1111111111111111,
              "#46039f"
             ],
             [
              0.2222222222222222,
              "#7201a8"
             ],
             [
              0.3333333333333333,
              "#9c179e"
             ],
             [
              0.4444444444444444,
              "#bd3786"
             ],
             [
              0.5555555555555556,
              "#d8576b"
             ],
             [
              0.6666666666666666,
              "#ed7953"
             ],
             [
              0.7777777777777778,
              "#fb9f3a"
             ],
             [
              0.8888888888888888,
              "#fdca26"
             ],
             [
              1,
              "#f0f921"
             ]
            ],
            "type": "contour"
           }
          ],
          "contourcarpet": [
           {
            "colorbar": {
             "outlinewidth": 0,
             "ticks": ""
            },
            "type": "contourcarpet"
           }
          ],
          "heatmap": [
           {
            "colorbar": {
             "outlinewidth": 0,
             "ticks": ""
            },
            "colorscale": [
             [
              0,
              "#0d0887"
             ],
             [
              0.1111111111111111,
              "#46039f"
             ],
             [
              0.2222222222222222,
              "#7201a8"
             ],
             [
              0.3333333333333333,
              "#9c179e"
             ],
             [
              0.4444444444444444,
              "#bd3786"
             ],
             [
              0.5555555555555556,
              "#d8576b"
             ],
             [
              0.6666666666666666,
              "#ed7953"
             ],
             [
              0.7777777777777778,
              "#fb9f3a"
             ],
             [
              0.8888888888888888,
              "#fdca26"
             ],
             [
              1,
              "#f0f921"
             ]
            ],
            "type": "heatmap"
           }
          ],
          "heatmapgl": [
           {
            "colorbar": {
             "outlinewidth": 0,
             "ticks": ""
            },
            "colorscale": [
             [
              0,
              "#0d0887"
             ],
             [
              0.1111111111111111,
              "#46039f"
             ],
             [
              0.2222222222222222,
              "#7201a8"
             ],
             [
              0.3333333333333333,
              "#9c179e"
             ],
             [
              0.4444444444444444,
              "#bd3786"
             ],
             [
              0.5555555555555556,
              "#d8576b"
             ],
             [
              0.6666666666666666,
              "#ed7953"
             ],
             [
              0.7777777777777778,
              "#fb9f3a"
             ],
             [
              0.8888888888888888,
              "#fdca26"
             ],
             [
              1,
              "#f0f921"
             ]
            ],
            "type": "heatmapgl"
           }
          ],
          "histogram": [
           {
            "marker": {
             "pattern": {
              "fillmode": "overlay",
              "size": 10,
              "solidity": 0.2
             }
            },
            "type": "histogram"
           }
          ],
          "histogram2d": [
           {
            "colorbar": {
             "outlinewidth": 0,
             "ticks": ""
            },
            "colorscale": [
             [
              0,
              "#0d0887"
             ],
             [
              0.1111111111111111,
              "#46039f"
             ],
             [
              0.2222222222222222,
              "#7201a8"
             ],
             [
              0.3333333333333333,
              "#9c179e"
             ],
             [
              0.4444444444444444,
              "#bd3786"
             ],
             [
              0.5555555555555556,
              "#d8576b"
             ],
             [
              0.6666666666666666,
              "#ed7953"
             ],
             [
              0.7777777777777778,
              "#fb9f3a"
             ],
             [
              0.8888888888888888,
              "#fdca26"
             ],
             [
              1,
              "#f0f921"
             ]
            ],
            "type": "histogram2d"
           }
          ],
          "histogram2dcontour": [
           {
            "colorbar": {
             "outlinewidth": 0,
             "ticks": ""
            },
            "colorscale": [
             [
              0,
              "#0d0887"
             ],
             [
              0.1111111111111111,
              "#46039f"
             ],
             [
              0.2222222222222222,
              "#7201a8"
             ],
             [
              0.3333333333333333,
              "#9c179e"
             ],
             [
              0.4444444444444444,
              "#bd3786"
             ],
             [
              0.5555555555555556,
              "#d8576b"
             ],
             [
              0.6666666666666666,
              "#ed7953"
             ],
             [
              0.7777777777777778,
              "#fb9f3a"
             ],
             [
              0.8888888888888888,
              "#fdca26"
             ],
             [
              1,
              "#f0f921"
             ]
            ],
            "type": "histogram2dcontour"
           }
          ],
          "mesh3d": [
           {
            "colorbar": {
             "outlinewidth": 0,
             "ticks": ""
            },
            "type": "mesh3d"
           }
          ],
          "parcoords": [
           {
            "line": {
             "colorbar": {
              "outlinewidth": 0,
              "ticks": ""
             }
            },
            "type": "parcoords"
           }
          ],
          "pie": [
           {
            "automargin": true,
            "type": "pie"
           }
          ],
          "scatter": [
           {
            "fillpattern": {
             "fillmode": "overlay",
             "size": 10,
             "solidity": 0.2
            },
            "type": "scatter"
           }
          ],
          "scatter3d": [
           {
            "line": {
             "colorbar": {
              "outlinewidth": 0,
              "ticks": ""
             }
            },
            "marker": {
             "colorbar": {
              "outlinewidth": 0,
              "ticks": ""
             }
            },
            "type": "scatter3d"
           }
          ],
          "scattercarpet": [
           {
            "marker": {
             "colorbar": {
              "outlinewidth": 0,
              "ticks": ""
             }
            },
            "type": "scattercarpet"
           }
          ],
          "scattergeo": [
           {
            "marker": {
             "colorbar": {
              "outlinewidth": 0,
              "ticks": ""
             }
            },
            "type": "scattergeo"
           }
          ],
          "scattergl": [
           {
            "marker": {
             "colorbar": {
              "outlinewidth": 0,
              "ticks": ""
             }
            },
            "type": "scattergl"
           }
          ],
          "scattermapbox": [
           {
            "marker": {
             "colorbar": {
              "outlinewidth": 0,
              "ticks": ""
             }
            },
            "type": "scattermapbox"
           }
          ],
          "scatterpolar": [
           {
            "marker": {
             "colorbar": {
              "outlinewidth": 0,
              "ticks": ""
             }
            },
            "type": "scatterpolar"
           }
          ],
          "scatterpolargl": [
           {
            "marker": {
             "colorbar": {
              "outlinewidth": 0,
              "ticks": ""
             }
            },
            "type": "scatterpolargl"
           }
          ],
          "scatterternary": [
           {
            "marker": {
             "colorbar": {
              "outlinewidth": 0,
              "ticks": ""
             }
            },
            "type": "scatterternary"
           }
          ],
          "surface": [
           {
            "colorbar": {
             "outlinewidth": 0,
             "ticks": ""
            },
            "colorscale": [
             [
              0,
              "#0d0887"
             ],
             [
              0.1111111111111111,
              "#46039f"
             ],
             [
              0.2222222222222222,
              "#7201a8"
             ],
             [
              0.3333333333333333,
              "#9c179e"
             ],
             [
              0.4444444444444444,
              "#bd3786"
             ],
             [
              0.5555555555555556,
              "#d8576b"
             ],
             [
              0.6666666666666666,
              "#ed7953"
             ],
             [
              0.7777777777777778,
              "#fb9f3a"
             ],
             [
              0.8888888888888888,
              "#fdca26"
             ],
             [
              1,
              "#f0f921"
             ]
            ],
            "type": "surface"
           }
          ],
          "table": [
           {
            "cells": {
             "fill": {
              "color": "#EBF0F8"
             },
             "line": {
              "color": "white"
             }
            },
            "header": {
             "fill": {
              "color": "#C8D4E3"
             },
             "line": {
              "color": "white"
             }
            },
            "type": "table"
           }
          ]
         },
         "layout": {
          "annotationdefaults": {
           "arrowcolor": "#2a3f5f",
           "arrowhead": 0,
           "arrowwidth": 1
          },
          "autotypenumbers": "strict",
          "coloraxis": {
           "colorbar": {
            "outlinewidth": 0,
            "ticks": ""
           }
          },
          "colorscale": {
           "diverging": [
            [
             0,
             "#8e0152"
            ],
            [
             0.1,
             "#c51b7d"
            ],
            [
             0.2,
             "#de77ae"
            ],
            [
             0.3,
             "#f1b6da"
            ],
            [
             0.4,
             "#fde0ef"
            ],
            [
             0.5,
             "#f7f7f7"
            ],
            [
             0.6,
             "#e6f5d0"
            ],
            [
             0.7,
             "#b8e186"
            ],
            [
             0.8,
             "#7fbc41"
            ],
            [
             0.9,
             "#4d9221"
            ],
            [
             1,
             "#276419"
            ]
           ],
           "sequential": [
            [
             0,
             "#0d0887"
            ],
            [
             0.1111111111111111,
             "#46039f"
            ],
            [
             0.2222222222222222,
             "#7201a8"
            ],
            [
             0.3333333333333333,
             "#9c179e"
            ],
            [
             0.4444444444444444,
             "#bd3786"
            ],
            [
             0.5555555555555556,
             "#d8576b"
            ],
            [
             0.6666666666666666,
             "#ed7953"
            ],
            [
             0.7777777777777778,
             "#fb9f3a"
            ],
            [
             0.8888888888888888,
             "#fdca26"
            ],
            [
             1,
             "#f0f921"
            ]
           ],
           "sequentialminus": [
            [
             0,
             "#0d0887"
            ],
            [
             0.1111111111111111,
             "#46039f"
            ],
            [
             0.2222222222222222,
             "#7201a8"
            ],
            [
             0.3333333333333333,
             "#9c179e"
            ],
            [
             0.4444444444444444,
             "#bd3786"
            ],
            [
             0.5555555555555556,
             "#d8576b"
            ],
            [
             0.6666666666666666,
             "#ed7953"
            ],
            [
             0.7777777777777778,
             "#fb9f3a"
            ],
            [
             0.8888888888888888,
             "#fdca26"
            ],
            [
             1,
             "#f0f921"
            ]
           ]
          },
          "colorway": [
           "#636efa",
           "#EF553B",
           "#00cc96",
           "#ab63fa",
           "#FFA15A",
           "#19d3f3",
           "#FF6692",
           "#B6E880",
           "#FF97FF",
           "#FECB52"
          ],
          "font": {
           "color": "#2a3f5f"
          },
          "geo": {
           "bgcolor": "white",
           "lakecolor": "white",
           "landcolor": "#E5ECF6",
           "showlakes": true,
           "showland": true,
           "subunitcolor": "white"
          },
          "hoverlabel": {
           "align": "left"
          },
          "hovermode": "closest",
          "mapbox": {
           "style": "light"
          },
          "paper_bgcolor": "white",
          "plot_bgcolor": "#E5ECF6",
          "polar": {
           "angularaxis": {
            "gridcolor": "white",
            "linecolor": "white",
            "ticks": ""
           },
           "bgcolor": "#E5ECF6",
           "radialaxis": {
            "gridcolor": "white",
            "linecolor": "white",
            "ticks": ""
           }
          },
          "scene": {
           "xaxis": {
            "backgroundcolor": "#E5ECF6",
            "gridcolor": "white",
            "gridwidth": 2,
            "linecolor": "white",
            "showbackground": true,
            "ticks": "",
            "zerolinecolor": "white"
           },
           "yaxis": {
            "backgroundcolor": "#E5ECF6",
            "gridcolor": "white",
            "gridwidth": 2,
            "linecolor": "white",
            "showbackground": true,
            "ticks": "",
            "zerolinecolor": "white"
           },
           "zaxis": {
            "backgroundcolor": "#E5ECF6",
            "gridcolor": "white",
            "gridwidth": 2,
            "linecolor": "white",
            "showbackground": true,
            "ticks": "",
            "zerolinecolor": "white"
           }
          },
          "shapedefaults": {
           "line": {
            "color": "#2a3f5f"
           }
          },
          "ternary": {
           "aaxis": {
            "gridcolor": "white",
            "linecolor": "white",
            "ticks": ""
           },
           "baxis": {
            "gridcolor": "white",
            "linecolor": "white",
            "ticks": ""
           },
           "bgcolor": "#E5ECF6",
           "caxis": {
            "gridcolor": "white",
            "linecolor": "white",
            "ticks": ""
           }
          },
          "title": {
           "x": 0.05
          },
          "xaxis": {
           "automargin": true,
           "gridcolor": "white",
           "linecolor": "white",
           "ticks": "",
           "title": {
            "standoff": 15
           },
           "zerolinecolor": "white",
           "zerolinewidth": 2
          },
          "yaxis": {
           "automargin": true,
           "gridcolor": "white",
           "linecolor": "white",
           "ticks": "",
           "title": {
            "standoff": 15
           },
           "zerolinecolor": "white",
           "zerolinewidth": 2
          }
         }
        },
        "title": {
         "text": "ecoscore groups treemap"
        }
       }
      }
     },
     "metadata": {},
     "output_type": "display_data"
    }
   ],
   "source": [
    "df = pd.DataFrame(data_graph_ecoscore_groups)\n",
    "fig = px.treemap(df, path=['ecoscore_group'], values='percentage',\n",
    "                 color='percentage', color_continuous_scale='Magma',\n",
    "                 title='ecoscore groups treemap')\n",
    "fig.update_layout(\n",
    "    paper_bgcolor='black',  \n",
    "    plot_bgcolor='black',   \n",
    "    font_color='white'      \n",
    ")\n",
    "fig.show()"
   ]
  },
  {
   "cell_type": "markdown",
   "metadata": {},
   "source": [
    "# LABELS:"
   ]
  },
  {
   "cell_type": "code",
   "execution_count": 11,
   "metadata": {},
   "outputs": [
    {
     "name": "stdout",
     "output_type": "stream",
     "text": [
      "0: 70.95%\n",
      "6: 0.88%\n",
      "1: 11.32%\n",
      "5: 1.11%\n",
      "2: 8.13%\n",
      "3: 4.34%\n",
      "4: 2.05%\n",
      "8: 0.29%\n",
      "7: 0.47%\n",
      "9: 0.46%\n"
     ]
    }
   ],
   "source": [
    "# retourne une liste des labels présents dans le fichier (sans doublons dans l'affichage)\n",
    "def extract_labels_from_jsonl(file_path):\n",
    "    labels_list = []\n",
    "    with open(file_path, 'r', encoding='utf-8') as file:\n",
    "        for line in file:\n",
    "            try:\n",
    "                record = json.loads(line)\n",
    "                labels = record.get('labels_note')\n",
    "                if labels is not None:\n",
    "                    labels_list.append(labels)\n",
    "            except json.JSONDecodeError:\n",
    "                print(f\"WARNING line: {line} in {file_path}\")\n",
    "    return labels_list\n",
    "\n",
    "labels_list = extract_labels_from_jsonl(jsonl_02)\n",
    "label_counts = Counter(labels_list)\n",
    "total_labels = sum(label_counts.values())\n",
    "\n",
    "data_graph_labels = []\n",
    "for label, count in label_counts.items():\n",
    "    percentage = (count / total_labels) * 100\n",
    "    print(f\"{label}: {percentage:.2f}%\")\n",
    "    data_graph_labels.append({'labels': label, 'percentage': percentage})"
   ]
  },
  {
   "cell_type": "code",
   "execution_count": 12,
   "metadata": {},
   "outputs": [
    {
     "data": {
      "application/vnd.plotly.v1+json": {
       "config": {
        "plotlyServerURL": "https://plot.ly"
       },
       "data": [
        {
         "branchvalues": "total",
         "customdata": [
          [
           70.9526849934342
          ],
          [
           11.319331531054692
          ],
          [
           8.129354977879553
          ],
          [
           4.336293740160342
          ],
          [
           2.050550863498319
          ],
          [
           1.1094995986253509
          ],
          [
           0.8790907251460037
          ],
          [
           0.4683071367276213
          ],
          [
           0.2911421602609832
          ],
          [
           0.4637442732129388
          ]
         ],
         "domain": {
          "x": [
           0,
           1
          ],
          "y": [
           0,
           1
          ]
         },
         "hovertemplate": "labels=%{label}<br>percentage_sum=%{value}<br>parent=%{parent}<br>id=%{id}<br>percentage=%{color}<extra></extra>",
         "ids": [
          "0",
          "1",
          "2",
          "3",
          "4",
          "5",
          "6",
          "7",
          "8",
          "9"
         ],
         "labels": [
          "0",
          "1",
          "2",
          "3",
          "4",
          "5",
          "6",
          "7",
          "8",
          "9"
         ],
         "marker": {
          "coloraxis": "coloraxis",
          "colors": [
           70.9526849934342,
           11.319331531054692,
           8.129354977879553,
           4.336293740160342,
           2.050550863498319,
           1.1094995986253509,
           0.8790907251460037,
           0.4683071367276213,
           0.2911421602609832,
           0.4637442732129388
          ]
         },
         "name": "",
         "parents": [
          "",
          "",
          "",
          "",
          "",
          "",
          "",
          "",
          "",
          ""
         ],
         "type": "treemap",
         "values": [
          70.9526849934342,
          11.319331531054692,
          8.129354977879553,
          4.336293740160342,
          2.050550863498319,
          1.1094995986253509,
          0.8790907251460037,
          0.46830713672762125,
          0.2911421602609832,
          0.46374427321293876
         ]
        }
       ],
       "layout": {
        "coloraxis": {
         "colorbar": {
          "title": {
           "text": "percentage"
          }
         },
         "colorscale": [
          [
           0,
           "#000004"
          ],
          [
           0.1111111111111111,
           "#180f3d"
          ],
          [
           0.2222222222222222,
           "#440f76"
          ],
          [
           0.3333333333333333,
           "#721f81"
          ],
          [
           0.4444444444444444,
           "#9e2f7f"
          ],
          [
           0.5555555555555556,
           "#cd4071"
          ],
          [
           0.6666666666666666,
           "#f1605d"
          ],
          [
           0.7777777777777778,
           "#fd9668"
          ],
          [
           0.8888888888888888,
           "#feca8d"
          ],
          [
           1,
           "#fcfdbf"
          ]
         ]
        },
        "font": {
         "color": "white"
        },
        "legend": {
         "tracegroupgap": 0
        },
        "paper_bgcolor": "black",
        "plot_bgcolor": "black",
        "template": {
         "data": {
          "bar": [
           {
            "error_x": {
             "color": "#2a3f5f"
            },
            "error_y": {
             "color": "#2a3f5f"
            },
            "marker": {
             "line": {
              "color": "#E5ECF6",
              "width": 0.5
             },
             "pattern": {
              "fillmode": "overlay",
              "size": 10,
              "solidity": 0.2
             }
            },
            "type": "bar"
           }
          ],
          "barpolar": [
           {
            "marker": {
             "line": {
              "color": "#E5ECF6",
              "width": 0.5
             },
             "pattern": {
              "fillmode": "overlay",
              "size": 10,
              "solidity": 0.2
             }
            },
            "type": "barpolar"
           }
          ],
          "carpet": [
           {
            "aaxis": {
             "endlinecolor": "#2a3f5f",
             "gridcolor": "white",
             "linecolor": "white",
             "minorgridcolor": "white",
             "startlinecolor": "#2a3f5f"
            },
            "baxis": {
             "endlinecolor": "#2a3f5f",
             "gridcolor": "white",
             "linecolor": "white",
             "minorgridcolor": "white",
             "startlinecolor": "#2a3f5f"
            },
            "type": "carpet"
           }
          ],
          "choropleth": [
           {
            "colorbar": {
             "outlinewidth": 0,
             "ticks": ""
            },
            "type": "choropleth"
           }
          ],
          "contour": [
           {
            "colorbar": {
             "outlinewidth": 0,
             "ticks": ""
            },
            "colorscale": [
             [
              0,
              "#0d0887"
             ],
             [
              0.1111111111111111,
              "#46039f"
             ],
             [
              0.2222222222222222,
              "#7201a8"
             ],
             [
              0.3333333333333333,
              "#9c179e"
             ],
             [
              0.4444444444444444,
              "#bd3786"
             ],
             [
              0.5555555555555556,
              "#d8576b"
             ],
             [
              0.6666666666666666,
              "#ed7953"
             ],
             [
              0.7777777777777778,
              "#fb9f3a"
             ],
             [
              0.8888888888888888,
              "#fdca26"
             ],
             [
              1,
              "#f0f921"
             ]
            ],
            "type": "contour"
           }
          ],
          "contourcarpet": [
           {
            "colorbar": {
             "outlinewidth": 0,
             "ticks": ""
            },
            "type": "contourcarpet"
           }
          ],
          "heatmap": [
           {
            "colorbar": {
             "outlinewidth": 0,
             "ticks": ""
            },
            "colorscale": [
             [
              0,
              "#0d0887"
             ],
             [
              0.1111111111111111,
              "#46039f"
             ],
             [
              0.2222222222222222,
              "#7201a8"
             ],
             [
              0.3333333333333333,
              "#9c179e"
             ],
             [
              0.4444444444444444,
              "#bd3786"
             ],
             [
              0.5555555555555556,
              "#d8576b"
             ],
             [
              0.6666666666666666,
              "#ed7953"
             ],
             [
              0.7777777777777778,
              "#fb9f3a"
             ],
             [
              0.8888888888888888,
              "#fdca26"
             ],
             [
              1,
              "#f0f921"
             ]
            ],
            "type": "heatmap"
           }
          ],
          "heatmapgl": [
           {
            "colorbar": {
             "outlinewidth": 0,
             "ticks": ""
            },
            "colorscale": [
             [
              0,
              "#0d0887"
             ],
             [
              0.1111111111111111,
              "#46039f"
             ],
             [
              0.2222222222222222,
              "#7201a8"
             ],
             [
              0.3333333333333333,
              "#9c179e"
             ],
             [
              0.4444444444444444,
              "#bd3786"
             ],
             [
              0.5555555555555556,
              "#d8576b"
             ],
             [
              0.6666666666666666,
              "#ed7953"
             ],
             [
              0.7777777777777778,
              "#fb9f3a"
             ],
             [
              0.8888888888888888,
              "#fdca26"
             ],
             [
              1,
              "#f0f921"
             ]
            ],
            "type": "heatmapgl"
           }
          ],
          "histogram": [
           {
            "marker": {
             "pattern": {
              "fillmode": "overlay",
              "size": 10,
              "solidity": 0.2
             }
            },
            "type": "histogram"
           }
          ],
          "histogram2d": [
           {
            "colorbar": {
             "outlinewidth": 0,
             "ticks": ""
            },
            "colorscale": [
             [
              0,
              "#0d0887"
             ],
             [
              0.1111111111111111,
              "#46039f"
             ],
             [
              0.2222222222222222,
              "#7201a8"
             ],
             [
              0.3333333333333333,
              "#9c179e"
             ],
             [
              0.4444444444444444,
              "#bd3786"
             ],
             [
              0.5555555555555556,
              "#d8576b"
             ],
             [
              0.6666666666666666,
              "#ed7953"
             ],
             [
              0.7777777777777778,
              "#fb9f3a"
             ],
             [
              0.8888888888888888,
              "#fdca26"
             ],
             [
              1,
              "#f0f921"
             ]
            ],
            "type": "histogram2d"
           }
          ],
          "histogram2dcontour": [
           {
            "colorbar": {
             "outlinewidth": 0,
             "ticks": ""
            },
            "colorscale": [
             [
              0,
              "#0d0887"
             ],
             [
              0.1111111111111111,
              "#46039f"
             ],
             [
              0.2222222222222222,
              "#7201a8"
             ],
             [
              0.3333333333333333,
              "#9c179e"
             ],
             [
              0.4444444444444444,
              "#bd3786"
             ],
             [
              0.5555555555555556,
              "#d8576b"
             ],
             [
              0.6666666666666666,
              "#ed7953"
             ],
             [
              0.7777777777777778,
              "#fb9f3a"
             ],
             [
              0.8888888888888888,
              "#fdca26"
             ],
             [
              1,
              "#f0f921"
             ]
            ],
            "type": "histogram2dcontour"
           }
          ],
          "mesh3d": [
           {
            "colorbar": {
             "outlinewidth": 0,
             "ticks": ""
            },
            "type": "mesh3d"
           }
          ],
          "parcoords": [
           {
            "line": {
             "colorbar": {
              "outlinewidth": 0,
              "ticks": ""
             }
            },
            "type": "parcoords"
           }
          ],
          "pie": [
           {
            "automargin": true,
            "type": "pie"
           }
          ],
          "scatter": [
           {
            "fillpattern": {
             "fillmode": "overlay",
             "size": 10,
             "solidity": 0.2
            },
            "type": "scatter"
           }
          ],
          "scatter3d": [
           {
            "line": {
             "colorbar": {
              "outlinewidth": 0,
              "ticks": ""
             }
            },
            "marker": {
             "colorbar": {
              "outlinewidth": 0,
              "ticks": ""
             }
            },
            "type": "scatter3d"
           }
          ],
          "scattercarpet": [
           {
            "marker": {
             "colorbar": {
              "outlinewidth": 0,
              "ticks": ""
             }
            },
            "type": "scattercarpet"
           }
          ],
          "scattergeo": [
           {
            "marker": {
             "colorbar": {
              "outlinewidth": 0,
              "ticks": ""
             }
            },
            "type": "scattergeo"
           }
          ],
          "scattergl": [
           {
            "marker": {
             "colorbar": {
              "outlinewidth": 0,
              "ticks": ""
             }
            },
            "type": "scattergl"
           }
          ],
          "scattermapbox": [
           {
            "marker": {
             "colorbar": {
              "outlinewidth": 0,
              "ticks": ""
             }
            },
            "type": "scattermapbox"
           }
          ],
          "scatterpolar": [
           {
            "marker": {
             "colorbar": {
              "outlinewidth": 0,
              "ticks": ""
             }
            },
            "type": "scatterpolar"
           }
          ],
          "scatterpolargl": [
           {
            "marker": {
             "colorbar": {
              "outlinewidth": 0,
              "ticks": ""
             }
            },
            "type": "scatterpolargl"
           }
          ],
          "scatterternary": [
           {
            "marker": {
             "colorbar": {
              "outlinewidth": 0,
              "ticks": ""
             }
            },
            "type": "scatterternary"
           }
          ],
          "surface": [
           {
            "colorbar": {
             "outlinewidth": 0,
             "ticks": ""
            },
            "colorscale": [
             [
              0,
              "#0d0887"
             ],
             [
              0.1111111111111111,
              "#46039f"
             ],
             [
              0.2222222222222222,
              "#7201a8"
             ],
             [
              0.3333333333333333,
              "#9c179e"
             ],
             [
              0.4444444444444444,
              "#bd3786"
             ],
             [
              0.5555555555555556,
              "#d8576b"
             ],
             [
              0.6666666666666666,
              "#ed7953"
             ],
             [
              0.7777777777777778,
              "#fb9f3a"
             ],
             [
              0.8888888888888888,
              "#fdca26"
             ],
             [
              1,
              "#f0f921"
             ]
            ],
            "type": "surface"
           }
          ],
          "table": [
           {
            "cells": {
             "fill": {
              "color": "#EBF0F8"
             },
             "line": {
              "color": "white"
             }
            },
            "header": {
             "fill": {
              "color": "#C8D4E3"
             },
             "line": {
              "color": "white"
             }
            },
            "type": "table"
           }
          ]
         },
         "layout": {
          "annotationdefaults": {
           "arrowcolor": "#2a3f5f",
           "arrowhead": 0,
           "arrowwidth": 1
          },
          "autotypenumbers": "strict",
          "coloraxis": {
           "colorbar": {
            "outlinewidth": 0,
            "ticks": ""
           }
          },
          "colorscale": {
           "diverging": [
            [
             0,
             "#8e0152"
            ],
            [
             0.1,
             "#c51b7d"
            ],
            [
             0.2,
             "#de77ae"
            ],
            [
             0.3,
             "#f1b6da"
            ],
            [
             0.4,
             "#fde0ef"
            ],
            [
             0.5,
             "#f7f7f7"
            ],
            [
             0.6,
             "#e6f5d0"
            ],
            [
             0.7,
             "#b8e186"
            ],
            [
             0.8,
             "#7fbc41"
            ],
            [
             0.9,
             "#4d9221"
            ],
            [
             1,
             "#276419"
            ]
           ],
           "sequential": [
            [
             0,
             "#0d0887"
            ],
            [
             0.1111111111111111,
             "#46039f"
            ],
            [
             0.2222222222222222,
             "#7201a8"
            ],
            [
             0.3333333333333333,
             "#9c179e"
            ],
            [
             0.4444444444444444,
             "#bd3786"
            ],
            [
             0.5555555555555556,
             "#d8576b"
            ],
            [
             0.6666666666666666,
             "#ed7953"
            ],
            [
             0.7777777777777778,
             "#fb9f3a"
            ],
            [
             0.8888888888888888,
             "#fdca26"
            ],
            [
             1,
             "#f0f921"
            ]
           ],
           "sequentialminus": [
            [
             0,
             "#0d0887"
            ],
            [
             0.1111111111111111,
             "#46039f"
            ],
            [
             0.2222222222222222,
             "#7201a8"
            ],
            [
             0.3333333333333333,
             "#9c179e"
            ],
            [
             0.4444444444444444,
             "#bd3786"
            ],
            [
             0.5555555555555556,
             "#d8576b"
            ],
            [
             0.6666666666666666,
             "#ed7953"
            ],
            [
             0.7777777777777778,
             "#fb9f3a"
            ],
            [
             0.8888888888888888,
             "#fdca26"
            ],
            [
             1,
             "#f0f921"
            ]
           ]
          },
          "colorway": [
           "#636efa",
           "#EF553B",
           "#00cc96",
           "#ab63fa",
           "#FFA15A",
           "#19d3f3",
           "#FF6692",
           "#B6E880",
           "#FF97FF",
           "#FECB52"
          ],
          "font": {
           "color": "#2a3f5f"
          },
          "geo": {
           "bgcolor": "white",
           "lakecolor": "white",
           "landcolor": "#E5ECF6",
           "showlakes": true,
           "showland": true,
           "subunitcolor": "white"
          },
          "hoverlabel": {
           "align": "left"
          },
          "hovermode": "closest",
          "mapbox": {
           "style": "light"
          },
          "paper_bgcolor": "white",
          "plot_bgcolor": "#E5ECF6",
          "polar": {
           "angularaxis": {
            "gridcolor": "white",
            "linecolor": "white",
            "ticks": ""
           },
           "bgcolor": "#E5ECF6",
           "radialaxis": {
            "gridcolor": "white",
            "linecolor": "white",
            "ticks": ""
           }
          },
          "scene": {
           "xaxis": {
            "backgroundcolor": "#E5ECF6",
            "gridcolor": "white",
            "gridwidth": 2,
            "linecolor": "white",
            "showbackground": true,
            "ticks": "",
            "zerolinecolor": "white"
           },
           "yaxis": {
            "backgroundcolor": "#E5ECF6",
            "gridcolor": "white",
            "gridwidth": 2,
            "linecolor": "white",
            "showbackground": true,
            "ticks": "",
            "zerolinecolor": "white"
           },
           "zaxis": {
            "backgroundcolor": "#E5ECF6",
            "gridcolor": "white",
            "gridwidth": 2,
            "linecolor": "white",
            "showbackground": true,
            "ticks": "",
            "zerolinecolor": "white"
           }
          },
          "shapedefaults": {
           "line": {
            "color": "#2a3f5f"
           }
          },
          "ternary": {
           "aaxis": {
            "gridcolor": "white",
            "linecolor": "white",
            "ticks": ""
           },
           "baxis": {
            "gridcolor": "white",
            "linecolor": "white",
            "ticks": ""
           },
           "bgcolor": "#E5ECF6",
           "caxis": {
            "gridcolor": "white",
            "linecolor": "white",
            "ticks": ""
           }
          },
          "title": {
           "x": 0.05
          },
          "xaxis": {
           "automargin": true,
           "gridcolor": "white",
           "linecolor": "white",
           "ticks": "",
           "title": {
            "standoff": 15
           },
           "zerolinecolor": "white",
           "zerolinewidth": 2
          },
          "yaxis": {
           "automargin": true,
           "gridcolor": "white",
           "linecolor": "white",
           "ticks": "",
           "title": {
            "standoff": 15
           },
           "zerolinecolor": "white",
           "zerolinewidth": 2
          }
         }
        },
        "title": {
         "text": "labels treemap"
        }
       }
      }
     },
     "metadata": {},
     "output_type": "display_data"
    }
   ],
   "source": [
    "df = pd.DataFrame(data_graph_labels)\n",
    "fig = px.treemap(df, path=['labels'], values='percentage',\n",
    "                 color='percentage', color_continuous_scale='Magma',\n",
    "                 title='labels treemap')\n",
    "fig.update_layout(\n",
    "    paper_bgcolor='black',  \n",
    "    plot_bgcolor='black',   \n",
    "    font_color='white'      \n",
    ")\n",
    "fig.show()"
   ]
  },
  {
   "cell_type": "markdown",
   "metadata": {},
   "source": [
    "# NONE NUMBER:"
   ]
  },
  {
   "cell_type": "code",
   "execution_count": 13,
   "metadata": {},
   "outputs": [],
   "source": [
    "def count_none_and_total_values(jsonl_file_path):\n",
    "    none_counts = defaultdict(int)\n",
    "    total_counts = defaultdict(int)\n",
    "    with open(jsonl_file_path, 'r', encoding='utf-8') as file:\n",
    "        for line in file:\n",
    "            data = json.loads(line)\n",
    "            for key, value in data.items():\n",
    "                total_counts[key] += 1\n",
    "                if value is None:\n",
    "                    none_counts[key] += 1\n",
    "    return none_counts, total_counts\n",
    "\n",
    "def calculate_percentage(none_counts, total_counts):\n",
    "    percentages = {}\n",
    "    for key in none_counts:\n",
    "        if total_counts[key] > 0:\n",
    "            percentage = (none_counts[key] / total_counts[key]) * 100\n",
    "        else:\n",
    "            percentage = 0\n",
    "        percentages[key] = percentage\n",
    "    return percentages\n",
    "\n",
    "none_counts, total_counts = count_none_and_total_values(jsonl_02)\n",
    "percentages = calculate_percentage(none_counts, total_counts)"
   ]
  },
  {
   "cell_type": "code",
   "execution_count": 14,
   "metadata": {},
   "outputs": [
    {
     "data": {
      "application/vnd.plotly.v1+json": {
       "config": {
        "plotlyServerURL": "https://plot.ly"
       },
       "data": [
        {
         "branchvalues": "total",
         "customdata": [
          [
           55.70825239495265
          ],
          [
           63.67837917018191
          ],
          [
           71.5331441685503
          ],
          [
           88.44028423178214
          ]
         ],
         "domain": {
          "x": [
           0,
           1
          ],
          "y": [
           0,
           1
          ]
         },
         "hovertemplate": "labels=%{label}<br>percentage_sum=%{value}<br>parent=%{parent}<br>id=%{id}<br>percentage=%{color}<extra></extra>",
         "ids": [
          "categories",
          "groups",
          "ingredients",
          "packaging"
         ],
         "labels": [
          "categories",
          "groups",
          "ingredients",
          "packaging"
         ],
         "marker": {
          "coloraxis": "coloraxis",
          "colors": [
           55.70825239495265,
           63.67837917018191,
           71.5331441685503,
           88.44028423178214
          ]
         },
         "name": "",
         "parents": [
          "",
          "",
          "",
          ""
         ],
         "type": "treemap",
         "values": [
          55.70825239495265,
          63.67837917018191,
          71.5331441685503,
          88.44028423178214
         ]
        }
       ],
       "layout": {
        "coloraxis": {
         "colorbar": {
          "title": {
           "text": "percentage"
          }
         },
         "colorscale": [
          [
           0,
           "#000004"
          ],
          [
           0.1111111111111111,
           "#180f3d"
          ],
          [
           0.2222222222222222,
           "#440f76"
          ],
          [
           0.3333333333333333,
           "#721f81"
          ],
          [
           0.4444444444444444,
           "#9e2f7f"
          ],
          [
           0.5555555555555556,
           "#cd4071"
          ],
          [
           0.6666666666666666,
           "#f1605d"
          ],
          [
           0.7777777777777778,
           "#fd9668"
          ],
          [
           0.8888888888888888,
           "#feca8d"
          ],
          [
           1,
           "#fcfdbf"
          ]
         ]
        },
        "font": {
         "color": "white"
        },
        "legend": {
         "tracegroupgap": 0
        },
        "paper_bgcolor": "black",
        "plot_bgcolor": "black",
        "template": {
         "data": {
          "bar": [
           {
            "error_x": {
             "color": "#2a3f5f"
            },
            "error_y": {
             "color": "#2a3f5f"
            },
            "marker": {
             "line": {
              "color": "#E5ECF6",
              "width": 0.5
             },
             "pattern": {
              "fillmode": "overlay",
              "size": 10,
              "solidity": 0.2
             }
            },
            "type": "bar"
           }
          ],
          "barpolar": [
           {
            "marker": {
             "line": {
              "color": "#E5ECF6",
              "width": 0.5
             },
             "pattern": {
              "fillmode": "overlay",
              "size": 10,
              "solidity": 0.2
             }
            },
            "type": "barpolar"
           }
          ],
          "carpet": [
           {
            "aaxis": {
             "endlinecolor": "#2a3f5f",
             "gridcolor": "white",
             "linecolor": "white",
             "minorgridcolor": "white",
             "startlinecolor": "#2a3f5f"
            },
            "baxis": {
             "endlinecolor": "#2a3f5f",
             "gridcolor": "white",
             "linecolor": "white",
             "minorgridcolor": "white",
             "startlinecolor": "#2a3f5f"
            },
            "type": "carpet"
           }
          ],
          "choropleth": [
           {
            "colorbar": {
             "outlinewidth": 0,
             "ticks": ""
            },
            "type": "choropleth"
           }
          ],
          "contour": [
           {
            "colorbar": {
             "outlinewidth": 0,
             "ticks": ""
            },
            "colorscale": [
             [
              0,
              "#0d0887"
             ],
             [
              0.1111111111111111,
              "#46039f"
             ],
             [
              0.2222222222222222,
              "#7201a8"
             ],
             [
              0.3333333333333333,
              "#9c179e"
             ],
             [
              0.4444444444444444,
              "#bd3786"
             ],
             [
              0.5555555555555556,
              "#d8576b"
             ],
             [
              0.6666666666666666,
              "#ed7953"
             ],
             [
              0.7777777777777778,
              "#fb9f3a"
             ],
             [
              0.8888888888888888,
              "#fdca26"
             ],
             [
              1,
              "#f0f921"
             ]
            ],
            "type": "contour"
           }
          ],
          "contourcarpet": [
           {
            "colorbar": {
             "outlinewidth": 0,
             "ticks": ""
            },
            "type": "contourcarpet"
           }
          ],
          "heatmap": [
           {
            "colorbar": {
             "outlinewidth": 0,
             "ticks": ""
            },
            "colorscale": [
             [
              0,
              "#0d0887"
             ],
             [
              0.1111111111111111,
              "#46039f"
             ],
             [
              0.2222222222222222,
              "#7201a8"
             ],
             [
              0.3333333333333333,
              "#9c179e"
             ],
             [
              0.4444444444444444,
              "#bd3786"
             ],
             [
              0.5555555555555556,
              "#d8576b"
             ],
             [
              0.6666666666666666,
              "#ed7953"
             ],
             [
              0.7777777777777778,
              "#fb9f3a"
             ],
             [
              0.8888888888888888,
              "#fdca26"
             ],
             [
              1,
              "#f0f921"
             ]
            ],
            "type": "heatmap"
           }
          ],
          "heatmapgl": [
           {
            "colorbar": {
             "outlinewidth": 0,
             "ticks": ""
            },
            "colorscale": [
             [
              0,
              "#0d0887"
             ],
             [
              0.1111111111111111,
              "#46039f"
             ],
             [
              0.2222222222222222,
              "#7201a8"
             ],
             [
              0.3333333333333333,
              "#9c179e"
             ],
             [
              0.4444444444444444,
              "#bd3786"
             ],
             [
              0.5555555555555556,
              "#d8576b"
             ],
             [
              0.6666666666666666,
              "#ed7953"
             ],
             [
              0.7777777777777778,
              "#fb9f3a"
             ],
             [
              0.8888888888888888,
              "#fdca26"
             ],
             [
              1,
              "#f0f921"
             ]
            ],
            "type": "heatmapgl"
           }
          ],
          "histogram": [
           {
            "marker": {
             "pattern": {
              "fillmode": "overlay",
              "size": 10,
              "solidity": 0.2
             }
            },
            "type": "histogram"
           }
          ],
          "histogram2d": [
           {
            "colorbar": {
             "outlinewidth": 0,
             "ticks": ""
            },
            "colorscale": [
             [
              0,
              "#0d0887"
             ],
             [
              0.1111111111111111,
              "#46039f"
             ],
             [
              0.2222222222222222,
              "#7201a8"
             ],
             [
              0.3333333333333333,
              "#9c179e"
             ],
             [
              0.4444444444444444,
              "#bd3786"
             ],
             [
              0.5555555555555556,
              "#d8576b"
             ],
             [
              0.6666666666666666,
              "#ed7953"
             ],
             [
              0.7777777777777778,
              "#fb9f3a"
             ],
             [
              0.8888888888888888,
              "#fdca26"
             ],
             [
              1,
              "#f0f921"
             ]
            ],
            "type": "histogram2d"
           }
          ],
          "histogram2dcontour": [
           {
            "colorbar": {
             "outlinewidth": 0,
             "ticks": ""
            },
            "colorscale": [
             [
              0,
              "#0d0887"
             ],
             [
              0.1111111111111111,
              "#46039f"
             ],
             [
              0.2222222222222222,
              "#7201a8"
             ],
             [
              0.3333333333333333,
              "#9c179e"
             ],
             [
              0.4444444444444444,
              "#bd3786"
             ],
             [
              0.5555555555555556,
              "#d8576b"
             ],
             [
              0.6666666666666666,
              "#ed7953"
             ],
             [
              0.7777777777777778,
              "#fb9f3a"
             ],
             [
              0.8888888888888888,
              "#fdca26"
             ],
             [
              1,
              "#f0f921"
             ]
            ],
            "type": "histogram2dcontour"
           }
          ],
          "mesh3d": [
           {
            "colorbar": {
             "outlinewidth": 0,
             "ticks": ""
            },
            "type": "mesh3d"
           }
          ],
          "parcoords": [
           {
            "line": {
             "colorbar": {
              "outlinewidth": 0,
              "ticks": ""
             }
            },
            "type": "parcoords"
           }
          ],
          "pie": [
           {
            "automargin": true,
            "type": "pie"
           }
          ],
          "scatter": [
           {
            "fillpattern": {
             "fillmode": "overlay",
             "size": 10,
             "solidity": 0.2
            },
            "type": "scatter"
           }
          ],
          "scatter3d": [
           {
            "line": {
             "colorbar": {
              "outlinewidth": 0,
              "ticks": ""
             }
            },
            "marker": {
             "colorbar": {
              "outlinewidth": 0,
              "ticks": ""
             }
            },
            "type": "scatter3d"
           }
          ],
          "scattercarpet": [
           {
            "marker": {
             "colorbar": {
              "outlinewidth": 0,
              "ticks": ""
             }
            },
            "type": "scattercarpet"
           }
          ],
          "scattergeo": [
           {
            "marker": {
             "colorbar": {
              "outlinewidth": 0,
              "ticks": ""
             }
            },
            "type": "scattergeo"
           }
          ],
          "scattergl": [
           {
            "marker": {
             "colorbar": {
              "outlinewidth": 0,
              "ticks": ""
             }
            },
            "type": "scattergl"
           }
          ],
          "scattermapbox": [
           {
            "marker": {
             "colorbar": {
              "outlinewidth": 0,
              "ticks": ""
             }
            },
            "type": "scattermapbox"
           }
          ],
          "scatterpolar": [
           {
            "marker": {
             "colorbar": {
              "outlinewidth": 0,
              "ticks": ""
             }
            },
            "type": "scatterpolar"
           }
          ],
          "scatterpolargl": [
           {
            "marker": {
             "colorbar": {
              "outlinewidth": 0,
              "ticks": ""
             }
            },
            "type": "scatterpolargl"
           }
          ],
          "scatterternary": [
           {
            "marker": {
             "colorbar": {
              "outlinewidth": 0,
              "ticks": ""
             }
            },
            "type": "scatterternary"
           }
          ],
          "surface": [
           {
            "colorbar": {
             "outlinewidth": 0,
             "ticks": ""
            },
            "colorscale": [
             [
              0,
              "#0d0887"
             ],
             [
              0.1111111111111111,
              "#46039f"
             ],
             [
              0.2222222222222222,
              "#7201a8"
             ],
             [
              0.3333333333333333,
              "#9c179e"
             ],
             [
              0.4444444444444444,
              "#bd3786"
             ],
             [
              0.5555555555555556,
              "#d8576b"
             ],
             [
              0.6666666666666666,
              "#ed7953"
             ],
             [
              0.7777777777777778,
              "#fb9f3a"
             ],
             [
              0.8888888888888888,
              "#fdca26"
             ],
             [
              1,
              "#f0f921"
             ]
            ],
            "type": "surface"
           }
          ],
          "table": [
           {
            "cells": {
             "fill": {
              "color": "#EBF0F8"
             },
             "line": {
              "color": "white"
             }
            },
            "header": {
             "fill": {
              "color": "#C8D4E3"
             },
             "line": {
              "color": "white"
             }
            },
            "type": "table"
           }
          ]
         },
         "layout": {
          "annotationdefaults": {
           "arrowcolor": "#2a3f5f",
           "arrowhead": 0,
           "arrowwidth": 1
          },
          "autotypenumbers": "strict",
          "coloraxis": {
           "colorbar": {
            "outlinewidth": 0,
            "ticks": ""
           }
          },
          "colorscale": {
           "diverging": [
            [
             0,
             "#8e0152"
            ],
            [
             0.1,
             "#c51b7d"
            ],
            [
             0.2,
             "#de77ae"
            ],
            [
             0.3,
             "#f1b6da"
            ],
            [
             0.4,
             "#fde0ef"
            ],
            [
             0.5,
             "#f7f7f7"
            ],
            [
             0.6,
             "#e6f5d0"
            ],
            [
             0.7,
             "#b8e186"
            ],
            [
             0.8,
             "#7fbc41"
            ],
            [
             0.9,
             "#4d9221"
            ],
            [
             1,
             "#276419"
            ]
           ],
           "sequential": [
            [
             0,
             "#0d0887"
            ],
            [
             0.1111111111111111,
             "#46039f"
            ],
            [
             0.2222222222222222,
             "#7201a8"
            ],
            [
             0.3333333333333333,
             "#9c179e"
            ],
            [
             0.4444444444444444,
             "#bd3786"
            ],
            [
             0.5555555555555556,
             "#d8576b"
            ],
            [
             0.6666666666666666,
             "#ed7953"
            ],
            [
             0.7777777777777778,
             "#fb9f3a"
            ],
            [
             0.8888888888888888,
             "#fdca26"
            ],
            [
             1,
             "#f0f921"
            ]
           ],
           "sequentialminus": [
            [
             0,
             "#0d0887"
            ],
            [
             0.1111111111111111,
             "#46039f"
            ],
            [
             0.2222222222222222,
             "#7201a8"
            ],
            [
             0.3333333333333333,
             "#9c179e"
            ],
            [
             0.4444444444444444,
             "#bd3786"
            ],
            [
             0.5555555555555556,
             "#d8576b"
            ],
            [
             0.6666666666666666,
             "#ed7953"
            ],
            [
             0.7777777777777778,
             "#fb9f3a"
            ],
            [
             0.8888888888888888,
             "#fdca26"
            ],
            [
             1,
             "#f0f921"
            ]
           ]
          },
          "colorway": [
           "#636efa",
           "#EF553B",
           "#00cc96",
           "#ab63fa",
           "#FFA15A",
           "#19d3f3",
           "#FF6692",
           "#B6E880",
           "#FF97FF",
           "#FECB52"
          ],
          "font": {
           "color": "#2a3f5f"
          },
          "geo": {
           "bgcolor": "white",
           "lakecolor": "white",
           "landcolor": "#E5ECF6",
           "showlakes": true,
           "showland": true,
           "subunitcolor": "white"
          },
          "hoverlabel": {
           "align": "left"
          },
          "hovermode": "closest",
          "mapbox": {
           "style": "light"
          },
          "paper_bgcolor": "white",
          "plot_bgcolor": "#E5ECF6",
          "polar": {
           "angularaxis": {
            "gridcolor": "white",
            "linecolor": "white",
            "ticks": ""
           },
           "bgcolor": "#E5ECF6",
           "radialaxis": {
            "gridcolor": "white",
            "linecolor": "white",
            "ticks": ""
           }
          },
          "scene": {
           "xaxis": {
            "backgroundcolor": "#E5ECF6",
            "gridcolor": "white",
            "gridwidth": 2,
            "linecolor": "white",
            "showbackground": true,
            "ticks": "",
            "zerolinecolor": "white"
           },
           "yaxis": {
            "backgroundcolor": "#E5ECF6",
            "gridcolor": "white",
            "gridwidth": 2,
            "linecolor": "white",
            "showbackground": true,
            "ticks": "",
            "zerolinecolor": "white"
           },
           "zaxis": {
            "backgroundcolor": "#E5ECF6",
            "gridcolor": "white",
            "gridwidth": 2,
            "linecolor": "white",
            "showbackground": true,
            "ticks": "",
            "zerolinecolor": "white"
           }
          },
          "shapedefaults": {
           "line": {
            "color": "#2a3f5f"
           }
          },
          "ternary": {
           "aaxis": {
            "gridcolor": "white",
            "linecolor": "white",
            "ticks": ""
           },
           "baxis": {
            "gridcolor": "white",
            "linecolor": "white",
            "ticks": ""
           },
           "bgcolor": "#E5ECF6",
           "caxis": {
            "gridcolor": "white",
            "linecolor": "white",
            "ticks": ""
           }
          },
          "title": {
           "x": 0.05
          },
          "xaxis": {
           "automargin": true,
           "gridcolor": "white",
           "linecolor": "white",
           "ticks": "",
           "title": {
            "standoff": 15
           },
           "zerolinecolor": "white",
           "zerolinewidth": 2
          },
          "yaxis": {
           "automargin": true,
           "gridcolor": "white",
           "linecolor": "white",
           "ticks": "",
           "title": {
            "standoff": 15
           },
           "zerolinecolor": "white",
           "zerolinewidth": 2
          }
         }
        },
        "title": {
         "text": "none treemap"
        }
       }
      }
     },
     "metadata": {},
     "output_type": "display_data"
    }
   ],
   "source": [
    "data_graph_none = [{'key': key, 'percentage': percentage} for key, percentage in percentages.items()]\n",
    "df = pd.DataFrame(data_graph_none)\n",
    "fig = px.treemap(df, path=['key'], values='percentage',\n",
    "                 color='percentage', color_continuous_scale='Magma',\n",
    "                 title='none treemap')\n",
    "fig.update_layout(\n",
    "    paper_bgcolor='black',  \n",
    "    plot_bgcolor='black',   \n",
    "    font_color='white'      \n",
    ")\n",
    "fig.show()"
   ]
  },
  {
   "cell_type": "markdown",
   "metadata": {},
   "source": [
    "# ECOSCORE NULL:"
   ]
  },
  {
   "cell_type": "code",
   "execution_count": 15,
   "metadata": {},
   "outputs": [],
   "source": [
    "def count_specific_values(jsonl_file_path):\n",
    "    counts = {\n",
    "        'ecoscore_groups': {'z': 0},\n",
    "        'ecoscore_note': {999: 0}\n",
    "    }\n",
    "    total_counts = {\n",
    "        'ecoscore_groups': 0,\n",
    "        'ecoscore_note': 0\n",
    "    }\n",
    "    with open(jsonl_file_path, 'r') as file:\n",
    "        for line in file:\n",
    "            data = json.loads(line)\n",
    "            for key, value in data.items():\n",
    "                if key in counts:\n",
    "                    total_counts[key] += 1\n",
    "                    if key == 'ecoscore_groups' and value == 'z':\n",
    "                        counts[key]['z'] += 1\n",
    "                    if key == 'ecoscore_note' and value == 999:\n",
    "                        counts[key][999] += 1\n",
    "    return counts, total_counts\n",
    "\n",
    "def calculate_percentage(count, total):\n",
    "    if total > 0:\n",
    "        percentage = (count / total) * 100\n",
    "    else:\n",
    "        percentage = 0\n",
    "    return percentage\n",
    "\n",
    "counts, total_counts = count_specific_values(jsonl_02)\n",
    "\n",
    "z_percentage = calculate_percentage(counts['ecoscore_groups']['z'], total_counts['ecoscore_groups'])\n",
    "number_999 = counts['ecoscore_note'][999]\n",
    "number_999_percentage = calculate_percentage(number_999, total_counts['ecoscore_note'])\n",
    "\n",
    "labels = ['Ecoscore Groups (z)', 'Ecoscore Note (999)']\n",
    "values = [z_percentage, number_999_percentage]\n",
    "counts_values = [counts['ecoscore_groups']['z'], counts['ecoscore_note'][999]]"
   ]
  },
  {
   "cell_type": "code",
   "execution_count": 16,
   "metadata": {},
   "outputs": [
    {
     "data": {
      "application/vnd.plotly.v1+json": {
       "config": {
        "plotlyServerURL": "https://plot.ly"
       },
       "data": [
        {
         "name": "Pourcentage",
         "text": [
          "74.62%",
          "74.62%"
         ],
         "textposition": "auto",
         "type": "bar",
         "x": [
          "Ecoscore Groups (z)",
          "Ecoscore Note (999)"
         ],
         "y": [
          74.61745109633023,
          74.61745109633023
         ]
        },
        {
         "name": "Nombre",
         "text": [
          "2371215",
          "2371215"
         ],
         "textposition": "auto",
         "type": "bar",
         "x": [
          "Ecoscore Groups (z)",
          "Ecoscore Note (999)"
         ],
         "y": [
          2371215,
          2371215
         ]
        }
       ],
       "layout": {
        "barmode": "group",
        "template": {
         "data": {
          "bar": [
           {
            "error_x": {
             "color": "#2a3f5f"
            },
            "error_y": {
             "color": "#2a3f5f"
            },
            "marker": {
             "line": {
              "color": "#E5ECF6",
              "width": 0.5
             },
             "pattern": {
              "fillmode": "overlay",
              "size": 10,
              "solidity": 0.2
             }
            },
            "type": "bar"
           }
          ],
          "barpolar": [
           {
            "marker": {
             "line": {
              "color": "#E5ECF6",
              "width": 0.5
             },
             "pattern": {
              "fillmode": "overlay",
              "size": 10,
              "solidity": 0.2
             }
            },
            "type": "barpolar"
           }
          ],
          "carpet": [
           {
            "aaxis": {
             "endlinecolor": "#2a3f5f",
             "gridcolor": "white",
             "linecolor": "white",
             "minorgridcolor": "white",
             "startlinecolor": "#2a3f5f"
            },
            "baxis": {
             "endlinecolor": "#2a3f5f",
             "gridcolor": "white",
             "linecolor": "white",
             "minorgridcolor": "white",
             "startlinecolor": "#2a3f5f"
            },
            "type": "carpet"
           }
          ],
          "choropleth": [
           {
            "colorbar": {
             "outlinewidth": 0,
             "ticks": ""
            },
            "type": "choropleth"
           }
          ],
          "contour": [
           {
            "colorbar": {
             "outlinewidth": 0,
             "ticks": ""
            },
            "colorscale": [
             [
              0,
              "#0d0887"
             ],
             [
              0.1111111111111111,
              "#46039f"
             ],
             [
              0.2222222222222222,
              "#7201a8"
             ],
             [
              0.3333333333333333,
              "#9c179e"
             ],
             [
              0.4444444444444444,
              "#bd3786"
             ],
             [
              0.5555555555555556,
              "#d8576b"
             ],
             [
              0.6666666666666666,
              "#ed7953"
             ],
             [
              0.7777777777777778,
              "#fb9f3a"
             ],
             [
              0.8888888888888888,
              "#fdca26"
             ],
             [
              1,
              "#f0f921"
             ]
            ],
            "type": "contour"
           }
          ],
          "contourcarpet": [
           {
            "colorbar": {
             "outlinewidth": 0,
             "ticks": ""
            },
            "type": "contourcarpet"
           }
          ],
          "heatmap": [
           {
            "colorbar": {
             "outlinewidth": 0,
             "ticks": ""
            },
            "colorscale": [
             [
              0,
              "#0d0887"
             ],
             [
              0.1111111111111111,
              "#46039f"
             ],
             [
              0.2222222222222222,
              "#7201a8"
             ],
             [
              0.3333333333333333,
              "#9c179e"
             ],
             [
              0.4444444444444444,
              "#bd3786"
             ],
             [
              0.5555555555555556,
              "#d8576b"
             ],
             [
              0.6666666666666666,
              "#ed7953"
             ],
             [
              0.7777777777777778,
              "#fb9f3a"
             ],
             [
              0.8888888888888888,
              "#fdca26"
             ],
             [
              1,
              "#f0f921"
             ]
            ],
            "type": "heatmap"
           }
          ],
          "heatmapgl": [
           {
            "colorbar": {
             "outlinewidth": 0,
             "ticks": ""
            },
            "colorscale": [
             [
              0,
              "#0d0887"
             ],
             [
              0.1111111111111111,
              "#46039f"
             ],
             [
              0.2222222222222222,
              "#7201a8"
             ],
             [
              0.3333333333333333,
              "#9c179e"
             ],
             [
              0.4444444444444444,
              "#bd3786"
             ],
             [
              0.5555555555555556,
              "#d8576b"
             ],
             [
              0.6666666666666666,
              "#ed7953"
             ],
             [
              0.7777777777777778,
              "#fb9f3a"
             ],
             [
              0.8888888888888888,
              "#fdca26"
             ],
             [
              1,
              "#f0f921"
             ]
            ],
            "type": "heatmapgl"
           }
          ],
          "histogram": [
           {
            "marker": {
             "pattern": {
              "fillmode": "overlay",
              "size": 10,
              "solidity": 0.2
             }
            },
            "type": "histogram"
           }
          ],
          "histogram2d": [
           {
            "colorbar": {
             "outlinewidth": 0,
             "ticks": ""
            },
            "colorscale": [
             [
              0,
              "#0d0887"
             ],
             [
              0.1111111111111111,
              "#46039f"
             ],
             [
              0.2222222222222222,
              "#7201a8"
             ],
             [
              0.3333333333333333,
              "#9c179e"
             ],
             [
              0.4444444444444444,
              "#bd3786"
             ],
             [
              0.5555555555555556,
              "#d8576b"
             ],
             [
              0.6666666666666666,
              "#ed7953"
             ],
             [
              0.7777777777777778,
              "#fb9f3a"
             ],
             [
              0.8888888888888888,
              "#fdca26"
             ],
             [
              1,
              "#f0f921"
             ]
            ],
            "type": "histogram2d"
           }
          ],
          "histogram2dcontour": [
           {
            "colorbar": {
             "outlinewidth": 0,
             "ticks": ""
            },
            "colorscale": [
             [
              0,
              "#0d0887"
             ],
             [
              0.1111111111111111,
              "#46039f"
             ],
             [
              0.2222222222222222,
              "#7201a8"
             ],
             [
              0.3333333333333333,
              "#9c179e"
             ],
             [
              0.4444444444444444,
              "#bd3786"
             ],
             [
              0.5555555555555556,
              "#d8576b"
             ],
             [
              0.6666666666666666,
              "#ed7953"
             ],
             [
              0.7777777777777778,
              "#fb9f3a"
             ],
             [
              0.8888888888888888,
              "#fdca26"
             ],
             [
              1,
              "#f0f921"
             ]
            ],
            "type": "histogram2dcontour"
           }
          ],
          "mesh3d": [
           {
            "colorbar": {
             "outlinewidth": 0,
             "ticks": ""
            },
            "type": "mesh3d"
           }
          ],
          "parcoords": [
           {
            "line": {
             "colorbar": {
              "outlinewidth": 0,
              "ticks": ""
             }
            },
            "type": "parcoords"
           }
          ],
          "pie": [
           {
            "automargin": true,
            "type": "pie"
           }
          ],
          "scatter": [
           {
            "fillpattern": {
             "fillmode": "overlay",
             "size": 10,
             "solidity": 0.2
            },
            "type": "scatter"
           }
          ],
          "scatter3d": [
           {
            "line": {
             "colorbar": {
              "outlinewidth": 0,
              "ticks": ""
             }
            },
            "marker": {
             "colorbar": {
              "outlinewidth": 0,
              "ticks": ""
             }
            },
            "type": "scatter3d"
           }
          ],
          "scattercarpet": [
           {
            "marker": {
             "colorbar": {
              "outlinewidth": 0,
              "ticks": ""
             }
            },
            "type": "scattercarpet"
           }
          ],
          "scattergeo": [
           {
            "marker": {
             "colorbar": {
              "outlinewidth": 0,
              "ticks": ""
             }
            },
            "type": "scattergeo"
           }
          ],
          "scattergl": [
           {
            "marker": {
             "colorbar": {
              "outlinewidth": 0,
              "ticks": ""
             }
            },
            "type": "scattergl"
           }
          ],
          "scattermapbox": [
           {
            "marker": {
             "colorbar": {
              "outlinewidth": 0,
              "ticks": ""
             }
            },
            "type": "scattermapbox"
           }
          ],
          "scatterpolar": [
           {
            "marker": {
             "colorbar": {
              "outlinewidth": 0,
              "ticks": ""
             }
            },
            "type": "scatterpolar"
           }
          ],
          "scatterpolargl": [
           {
            "marker": {
             "colorbar": {
              "outlinewidth": 0,
              "ticks": ""
             }
            },
            "type": "scatterpolargl"
           }
          ],
          "scatterternary": [
           {
            "marker": {
             "colorbar": {
              "outlinewidth": 0,
              "ticks": ""
             }
            },
            "type": "scatterternary"
           }
          ],
          "surface": [
           {
            "colorbar": {
             "outlinewidth": 0,
             "ticks": ""
            },
            "colorscale": [
             [
              0,
              "#0d0887"
             ],
             [
              0.1111111111111111,
              "#46039f"
             ],
             [
              0.2222222222222222,
              "#7201a8"
             ],
             [
              0.3333333333333333,
              "#9c179e"
             ],
             [
              0.4444444444444444,
              "#bd3786"
             ],
             [
              0.5555555555555556,
              "#d8576b"
             ],
             [
              0.6666666666666666,
              "#ed7953"
             ],
             [
              0.7777777777777778,
              "#fb9f3a"
             ],
             [
              0.8888888888888888,
              "#fdca26"
             ],
             [
              1,
              "#f0f921"
             ]
            ],
            "type": "surface"
           }
          ],
          "table": [
           {
            "cells": {
             "fill": {
              "color": "#EBF0F8"
             },
             "line": {
              "color": "white"
             }
            },
            "header": {
             "fill": {
              "color": "#C8D4E3"
             },
             "line": {
              "color": "white"
             }
            },
            "type": "table"
           }
          ]
         },
         "layout": {
          "annotationdefaults": {
           "arrowcolor": "#2a3f5f",
           "arrowhead": 0,
           "arrowwidth": 1
          },
          "autotypenumbers": "strict",
          "coloraxis": {
           "colorbar": {
            "outlinewidth": 0,
            "ticks": ""
           }
          },
          "colorscale": {
           "diverging": [
            [
             0,
             "#8e0152"
            ],
            [
             0.1,
             "#c51b7d"
            ],
            [
             0.2,
             "#de77ae"
            ],
            [
             0.3,
             "#f1b6da"
            ],
            [
             0.4,
             "#fde0ef"
            ],
            [
             0.5,
             "#f7f7f7"
            ],
            [
             0.6,
             "#e6f5d0"
            ],
            [
             0.7,
             "#b8e186"
            ],
            [
             0.8,
             "#7fbc41"
            ],
            [
             0.9,
             "#4d9221"
            ],
            [
             1,
             "#276419"
            ]
           ],
           "sequential": [
            [
             0,
             "#0d0887"
            ],
            [
             0.1111111111111111,
             "#46039f"
            ],
            [
             0.2222222222222222,
             "#7201a8"
            ],
            [
             0.3333333333333333,
             "#9c179e"
            ],
            [
             0.4444444444444444,
             "#bd3786"
            ],
            [
             0.5555555555555556,
             "#d8576b"
            ],
            [
             0.6666666666666666,
             "#ed7953"
            ],
            [
             0.7777777777777778,
             "#fb9f3a"
            ],
            [
             0.8888888888888888,
             "#fdca26"
            ],
            [
             1,
             "#f0f921"
            ]
           ],
           "sequentialminus": [
            [
             0,
             "#0d0887"
            ],
            [
             0.1111111111111111,
             "#46039f"
            ],
            [
             0.2222222222222222,
             "#7201a8"
            ],
            [
             0.3333333333333333,
             "#9c179e"
            ],
            [
             0.4444444444444444,
             "#bd3786"
            ],
            [
             0.5555555555555556,
             "#d8576b"
            ],
            [
             0.6666666666666666,
             "#ed7953"
            ],
            [
             0.7777777777777778,
             "#fb9f3a"
            ],
            [
             0.8888888888888888,
             "#fdca26"
            ],
            [
             1,
             "#f0f921"
            ]
           ]
          },
          "colorway": [
           "#636efa",
           "#EF553B",
           "#00cc96",
           "#ab63fa",
           "#FFA15A",
           "#19d3f3",
           "#FF6692",
           "#B6E880",
           "#FF97FF",
           "#FECB52"
          ],
          "font": {
           "color": "#2a3f5f"
          },
          "geo": {
           "bgcolor": "white",
           "lakecolor": "white",
           "landcolor": "#E5ECF6",
           "showlakes": true,
           "showland": true,
           "subunitcolor": "white"
          },
          "hoverlabel": {
           "align": "left"
          },
          "hovermode": "closest",
          "mapbox": {
           "style": "light"
          },
          "paper_bgcolor": "white",
          "plot_bgcolor": "#E5ECF6",
          "polar": {
           "angularaxis": {
            "gridcolor": "white",
            "linecolor": "white",
            "ticks": ""
           },
           "bgcolor": "#E5ECF6",
           "radialaxis": {
            "gridcolor": "white",
            "linecolor": "white",
            "ticks": ""
           }
          },
          "scene": {
           "xaxis": {
            "backgroundcolor": "#E5ECF6",
            "gridcolor": "white",
            "gridwidth": 2,
            "linecolor": "white",
            "showbackground": true,
            "ticks": "",
            "zerolinecolor": "white"
           },
           "yaxis": {
            "backgroundcolor": "#E5ECF6",
            "gridcolor": "white",
            "gridwidth": 2,
            "linecolor": "white",
            "showbackground": true,
            "ticks": "",
            "zerolinecolor": "white"
           },
           "zaxis": {
            "backgroundcolor": "#E5ECF6",
            "gridcolor": "white",
            "gridwidth": 2,
            "linecolor": "white",
            "showbackground": true,
            "ticks": "",
            "zerolinecolor": "white"
           }
          },
          "shapedefaults": {
           "line": {
            "color": "#2a3f5f"
           }
          },
          "ternary": {
           "aaxis": {
            "gridcolor": "white",
            "linecolor": "white",
            "ticks": ""
           },
           "baxis": {
            "gridcolor": "white",
            "linecolor": "white",
            "ticks": ""
           },
           "bgcolor": "#E5ECF6",
           "caxis": {
            "gridcolor": "white",
            "linecolor": "white",
            "ticks": ""
           }
          },
          "title": {
           "x": 0.05
          },
          "xaxis": {
           "automargin": true,
           "gridcolor": "white",
           "linecolor": "white",
           "ticks": "",
           "title": {
            "standoff": 15
           },
           "zerolinecolor": "white",
           "zerolinewidth": 2
          },
          "yaxis": {
           "automargin": true,
           "gridcolor": "white",
           "linecolor": "white",
           "ticks": "",
           "title": {
            "standoff": 15
           },
           "zerolinecolor": "white",
           "zerolinewidth": 2
          }
         }
        },
        "title": {
         "text": "percentage empty data ecoscore group and grad"
        },
        "xaxis": {
         "title": {
          "text": "Catégories"
         }
        },
        "yaxis": {
         "title": {
          "text": "Valeurs"
         }
        }
       }
      }
     },
     "metadata": {},
     "output_type": "display_data"
    }
   ],
   "source": [
    "fig = go.Figure()\n",
    "fig.add_trace(go.Bar(\n",
    "    x=labels,\n",
    "    y=values,\n",
    "    name='Pourcentage',\n",
    "    text=[f'{v:.2f}%' for v in values],\n",
    "    textposition='auto'\n",
    "))\n",
    "fig.add_trace(go.Bar(\n",
    "    x=labels,\n",
    "    y=counts_values,\n",
    "    name='Nombre',\n",
    "    text=[str(v) for v in counts_values],\n",
    "    textposition='auto'\n",
    "))\n",
    "fig.update_layout(\n",
    "    title='percentage empty data ecoscore group and grad',\n",
    "    xaxis_title='Catégories',\n",
    "    yaxis_title='Valeurs',\n",
    "    barmode='group'\n",
    ")\n",
    "fig.show()"
   ]
  },
  {
   "cell_type": "markdown",
   "metadata": {},
   "source": [
    "# TOTAL ARTICLES NUMBER:"
   ]
  },
  {
   "cell_type": "code",
   "execution_count": 17,
   "metadata": {},
   "outputs": [
    {
     "name": "stdout",
     "output_type": "stream",
     "text": [
      "total product number: 3177829\n"
     ]
    }
   ],
   "source": [
    "print(f\"total product number: {total_labels}\")"
   ]
  },
  {
   "cell_type": "markdown",
   "metadata": {},
   "source": [
    "# JSONL SAMPLE:"
   ]
  },
  {
   "cell_type": "code",
   "execution_count": 18,
   "metadata": {},
   "outputs": [
    {
     "data": {
      "text/html": [
       "<div>\n",
       "<style scoped>\n",
       "    .dataframe tbody tr th:only-of-type {\n",
       "        vertical-align: middle;\n",
       "    }\n",
       "\n",
       "    .dataframe tbody tr th {\n",
       "        vertical-align: top;\n",
       "    }\n",
       "\n",
       "    .dataframe thead th {\n",
       "        text-align: right;\n",
       "    }\n",
       "</style>\n",
       "<table border=\"1\" class=\"dataframe\">\n",
       "  <thead>\n",
       "    <tr style=\"text-align: right;\">\n",
       "      <th></th>\n",
       "      <th>groups</th>\n",
       "      <th>packaging</th>\n",
       "      <th>name</th>\n",
       "      <th>ecoscore_groups</th>\n",
       "      <th>ecoscore_note</th>\n",
       "      <th>code</th>\n",
       "      <th>countries</th>\n",
       "      <th>ingredients</th>\n",
       "      <th>categories</th>\n",
       "      <th>labels_note</th>\n",
       "    </tr>\n",
       "  </thead>\n",
       "  <tbody>\n",
       "    <tr>\n",
       "      <th>0</th>\n",
       "      <td>Sugary snacks</td>\n",
       "      <td>None</td>\n",
       "      <td>Johnvince foods, sour watermelon slices</td>\n",
       "      <td>z</td>\n",
       "      <td>999</td>\n",
       "      <td>64777813331</td>\n",
       "      <td>united states</td>\n",
       "      <td>sugar, added-sugar, disaccharide, glucose-syrup, monosaccharide, glucose, modified-corn-starch, starch, corn-starch, modified-starch, e330, e334, sodium-citrate, minerals, sodium, e270, natural-and-artificial-flavouring, flavouring, natural-flavouring, artificial-flavouring, e102, e110, e129</td>\n",
       "      <td>snacks, sweet-snacks, confectioneries</td>\n",
       "      <td>0</td>\n",
       "    </tr>\n",
       "    <tr>\n",
       "      <th>1</th>\n",
       "      <td>None</td>\n",
       "      <td>None</td>\n",
       "      <td>Beef With Teriyaki Sauce And Noodles</td>\n",
       "      <td>z</td>\n",
       "      <td>999</td>\n",
       "      <td>118894904172</td>\n",
       "      <td>united states</td>\n",
       "      <td>flour-battered-beef, noodle, dough, teriyaki-sauce, sauce, pineapple-juice, fruit, juice, fruit-juice, pineapple, beef, animal, flour, canola-oil, oil-and-fat, vegetable-oil-and-fat, rapeseed-oil, wheat-flour, cereal, wheat, cereal-flour, water, canola, vegetable, root-vegetable, rapeseed, soya-oil, vegetable-oil, dried-epp-powder, egg-white, egg, salt, corn-starch, starch, fd-c-yellow-5-and-6, e211, e297, e300, vitamins, vitamin-e, vitamin-a, soy-sauce, sugar, added-sugar, disaccharide, ginger, condiment, spice, onion, onion-family-vegetable, potato-starch, garlic, black-pepper, seed, pepper, barley-malt-flour, barley, barley-flour, e375, reduced-iron, minerals, iron, thiamin-mononitrate, thiamin, e101, folic-acid, folate, vitamin-c, soya-bean, legume, pulse, soya, rice</td>\n",
       "      <td>None</td>\n",
       "      <td>0</td>\n",
       "    </tr>\n",
       "    <tr>\n",
       "      <th>2</th>\n",
       "      <td>Sugary snacks</td>\n",
       "      <td>None</td>\n",
       "      <td>Ktm, Enjoy, Juicy Gummy Bears</td>\n",
       "      <td>b</td>\n",
       "      <td>69</td>\n",
       "      <td>679757140132</td>\n",
       "      <td>united states</td>\n",
       "      <td>corn-syrup, added-sugar, disaccharide, e428, e420, pectic, e330, e296, sodium-citrate, minerals, sodium, medium-chain-triglycerides, e903, artificial-flavouring, flavouring, plum, fruit, prunus-species-fruit, e954, sucralose-caramel-color-aspartame-fd-c-red-40, e102, e133, beef, animal, coconut-oil, oil-and-fat, vegetable-oil-and-fat, vegetable-oil</td>\n",
       "      <td>snacks, sweet-snacks, confectioneries, candies, gummi-candies, gummy-bears</td>\n",
       "      <td>0</td>\n",
       "    </tr>\n",
       "    <tr>\n",
       "      <th>3</th>\n",
       "      <td>None</td>\n",
       "      <td>None</td>\n",
       "      <td>Emmentaler Switzerland Emmentaler Gotthelf</td>\n",
       "      <td>z</td>\n",
       "      <td>999</td>\n",
       "      <td>2107879007258</td>\n",
       "      <td>switzerland</td>\n",
       "      <td>milk, dairy, salt</td>\n",
       "      <td>None</td>\n",
       "      <td>1</td>\n",
       "    </tr>\n",
       "    <tr>\n",
       "      <th>4</th>\n",
       "      <td>Cereals and potatoes</td>\n",
       "      <td>Plastique,Sachet</td>\n",
       "      <td>Muffins complets</td>\n",
       "      <td>b</td>\n",
       "      <td>71</td>\n",
       "      <td>3245412694516</td>\n",
       "      <td>france</td>\n",
       "      <td>whole-wheat-flour, cereal, flour, wheat, cereal-flour, wholemeal-flour, wheat-flour, water, wheat-gluten, gluten, yeast, durum-wheat-semolina, durum-wheat, semolina, wheat-fiber, fiber, vegetable-fiber, sugar, added-sugar, disaccharide, salt, preservative, e282, e200</td>\n",
       "      <td>plant-based-foods-and-beverages, plant-based-foods, cereals-and-potatoes, breads, special-breads, english-muffins</td>\n",
       "      <td>5</td>\n",
       "    </tr>\n",
       "    <tr>\n",
       "      <th>5</th>\n",
       "      <td>Composite foods</td>\n",
       "      <td>Frozen,Sachet plastique</td>\n",
       "      <td>Emincés de poireaux à la crème</td>\n",
       "      <td>b</td>\n",
       "      <td>79</td>\n",
       "      <td>3250390561019</td>\n",
       "      <td>france</td>\n",
       "      <td>leek, vegetable, onion-family-vegetable, fresh-cream, dairy, cream, water, wheat-flour, cereal, flour, wheat, cereal-flour, butter, salt, poultry-broth, poultry, broth, modified-potato-starch, starch, modified-starch, potato-starch, pepper, seed, nutmeg, condiment, spice, dextrose, added-sugar, monosaccharide, glucose, poultry-fat, oil-and-fat, fat, animal-fat, flavouring, sugar, disaccharide, herbs-and-spices, herb, celery, stalk-vegetable</td>\n",
       "      <td>plant-based-foods-and-beverages, plant-based-foods, fruits-and-vegetables-based-foods, vegetables-based-foods, meals, vegetables, vegetable-rods, leeks</td>\n",
       "      <td>0</td>\n",
       "    </tr>\n",
       "    <tr>\n",
       "      <th>6</th>\n",
       "      <td>None</td>\n",
       "      <td>None</td>\n",
       "      <td>Iglo Grillade Océane Côté Sud Colin D'alaska Sauge</td>\n",
       "      <td>z</td>\n",
       "      <td>999</td>\n",
       "      <td>3661405000162</td>\n",
       "      <td>france</td>\n",
       "      <td>None</td>\n",
       "      <td>None</td>\n",
       "      <td>6</td>\n",
       "    </tr>\n",
       "    <tr>\n",
       "      <th>7</th>\n",
       "      <td>Sugary snacks</td>\n",
       "      <td>None</td>\n",
       "      <td>Chocolat bonnat</td>\n",
       "      <td>e</td>\n",
       "      <td>15</td>\n",
       "      <td>3700152400747</td>\n",
       "      <td>france</td>\n",
       "      <td>None</td>\n",
       "      <td>snacks, sweet-snacks, cocoa-and-its-products, chocolates, dark-chocolates</td>\n",
       "      <td>0</td>\n",
       "    </tr>\n",
       "    <tr>\n",
       "      <th>8</th>\n",
       "      <td>None</td>\n",
       "      <td>None</td>\n",
       "      <td>Sauce Samorai</td>\n",
       "      <td>z</td>\n",
       "      <td>999</td>\n",
       "      <td>3760257870913</td>\n",
       "      <td>france</td>\n",
       "      <td>None</td>\n",
       "      <td>None</td>\n",
       "      <td>0</td>\n",
       "    </tr>\n",
       "    <tr>\n",
       "      <th>9</th>\n",
       "      <td>None</td>\n",
       "      <td>None</td>\n",
       "      <td>Nescafe</td>\n",
       "      <td>z</td>\n",
       "      <td>999</td>\n",
       "      <td>4902201406147</td>\n",
       "      <td>far</td>\n",
       "      <td>None</td>\n",
       "      <td>None</td>\n",
       "      <td>0</td>\n",
       "    </tr>\n",
       "    <tr>\n",
       "      <th>10</th>\n",
       "      <td>None</td>\n",
       "      <td>None</td>\n",
       "      <td>Gaufrettes</td>\n",
       "      <td>z</td>\n",
       "      <td>999</td>\n",
       "      <td>5055534338315</td>\n",
       "      <td>france</td>\n",
       "      <td>None</td>\n",
       "      <td>None</td>\n",
       "      <td>0</td>\n",
       "    </tr>\n",
       "    <tr>\n",
       "      <th>11</th>\n",
       "      <td>Sugary snacks</td>\n",
       "      <td>None</td>\n",
       "      <td>bonbons raspberry</td>\n",
       "      <td>c</td>\n",
       "      <td>42</td>\n",
       "      <td>6411401034510</td>\n",
       "      <td>finland, france</td>\n",
       "      <td>sweetener, firming-agent, thickener, flavouring, glazing-agent, colour, e967, e470a, e466, e414, e903, e901, e904, e120</td>\n",
       "      <td>snacks, sweet-snacks, confectioneries, candies</td>\n",
       "      <td>3</td>\n",
       "    </tr>\n",
       "    <tr>\n",
       "      <th>12</th>\n",
       "      <td>None</td>\n",
       "      <td>Boite en carton, Enveloppes individuelles en papier aluminium</td>\n",
       "      <td>Bouillon Kub légumes</td>\n",
       "      <td>z</td>\n",
       "      <td>999</td>\n",
       "      <td>7613035918177</td>\n",
       "      <td>france, switzerland</td>\n",
       "      <td>salt, flavour-enhancer, glucose-syrup, added-sugar, monosaccharide, glucose, non-hydrogenated-palm-oil, oil-and-fat, vegetable-oil-and-fat, palm-oil-and-fat, palm-oil, vegetable, onion, root-vegetable, onion-family-vegetable, carrot, taproot-vegetable, shallot, tomato, fruit-vegetable, flavouring, turmeric, condiment, spice, parsley, herb, leaf-vegetable, coriander-seed, seed, coriander, nutmeg, e621, wheat, cereal</td>\n",
       "      <td>plant-based-foods-and-beverages, plant-based-foods, dried-products, dried-plant-based-foods, dried-products-to-be-rehydrated, broths, dehydrated-broths, vegetable-broths, bouillon-cubes, dehydrated-vegetable-bouillons, groceries</td>\n",
       "      <td>3</td>\n",
       "    </tr>\n",
       "    <tr>\n",
       "      <th>13</th>\n",
       "      <td>Fat and sauces</td>\n",
       "      <td>Plastic</td>\n",
       "      <td>Sriracha sehr scharfe Chilisauce</td>\n",
       "      <td>z</td>\n",
       "      <td>999</td>\n",
       "      <td>8853662056067</td>\n",
       "      <td>austria, germany</td>\n",
       "      <td>chili-pepper, vegetable, fruit-vegetable, sugar, added-sugar, disaccharide, water, salt, acid, e330, thickener, flavour-enhancer, preservative, e260, e415, e621, e202</td>\n",
       "      <td>condiments, sauces, hot-sauces</td>\n",
       "      <td>0</td>\n",
       "    </tr>\n",
       "    <tr>\n",
       "      <th>14</th>\n",
       "      <td>Sugary snacks</td>\n",
       "      <td>None</td>\n",
       "      <td>Fruchtaufstrich 75% Frucht, Bio Aprikose</td>\n",
       "      <td>b</td>\n",
       "      <td>79</td>\n",
       "      <td>4388844087200</td>\n",
       "      <td>germany</td>\n",
       "      <td>apricot, fruit, prunus-species-fruit, cane-sugar, added-sugar, disaccharide, sugar, lemon-juice, juice, fruit-juice, gelling-agent, e440a</td>\n",
       "      <td>plant-based-foods-and-beverages, plant-based-foods, fruits-and-vegetables-based-foods, breakfasts, spreads, fruits-based-foods, plant-based-spreads, sweet-spreads, fruit-and-vegetable-preserves, jams, apricot-jams, marmalades</td>\n",
       "      <td>4</td>\n",
       "    </tr>\n",
       "    <tr>\n",
       "      <th>15</th>\n",
       "      <td>Fish Meat Eggs</td>\n",
       "      <td>None</td>\n",
       "      <td>Cooked mussel meats</td>\n",
       "      <td>c</td>\n",
       "      <td>47</td>\n",
       "      <td>614583924020</td>\n",
       "      <td>united states</td>\n",
       "      <td>None</td>\n",
       "      <td>seafood, mollusc, mussels, cooked-mussels</td>\n",
       "      <td>2</td>\n",
       "    </tr>\n",
       "    <tr>\n",
       "      <th>16</th>\n",
       "      <td>Fish Meat Eggs</td>\n",
       "      <td>None</td>\n",
       "      <td>Jamón cocido al horno</td>\n",
       "      <td>e</td>\n",
       "      <td>12</td>\n",
       "      <td>584228700419001216</td>\n",
       "      <td>spain</td>\n",
       "      <td>None</td>\n",
       "      <td>meats-and-their-products, meats, prepared-meats, hams, white-hams</td>\n",
       "      <td>1</td>\n",
       "    </tr>\n",
       "    <tr>\n",
       "      <th>17</th>\n",
       "      <td>None</td>\n",
       "      <td>None</td>\n",
       "      <td>Sal con Hierbas</td>\n",
       "      <td>b</td>\n",
       "      <td>78</td>\n",
       "      <td>8412206000753</td>\n",
       "      <td>france, spain</td>\n",
       "      <td>sea-salt, salt, rosemary, herb, thyme, marjoram, basil</td>\n",
       "      <td>condiments, salts</td>\n",
       "      <td>2</td>\n",
       "    </tr>\n",
       "    <tr>\n",
       "      <th>18</th>\n",
       "      <td>None</td>\n",
       "      <td>None</td>\n",
       "      <td>Potage aux légumes</td>\n",
       "      <td>z</td>\n",
       "      <td>999</td>\n",
       "      <td>873976011550</td>\n",
       "      <td>canada</td>\n",
       "      <td>None</td>\n",
       "      <td>None</td>\n",
       "      <td>0</td>\n",
       "    </tr>\n",
       "    <tr>\n",
       "      <th>19</th>\n",
       "      <td>None</td>\n",
       "      <td>None</td>\n",
       "      <td>Infusion Pomme Cannelle</td>\n",
       "      <td>z</td>\n",
       "      <td>999</td>\n",
       "      <td>3422150002159</td>\n",
       "      <td>france</td>\n",
       "      <td>None</td>\n",
       "      <td>None</td>\n",
       "      <td>0</td>\n",
       "    </tr>\n",
       "    <tr>\n",
       "      <th>20</th>\n",
       "      <td>None</td>\n",
       "      <td>None</td>\n",
       "      <td>Chocolate flavored baking chips</td>\n",
       "      <td>z</td>\n",
       "      <td>999</td>\n",
       "      <td>11225038389</td>\n",
       "      <td>united states</td>\n",
       "      <td>sugar, added-sugar, disaccharide, hydrogenated-palm-kernel-oil, oil-and-fat, vegetable-oil-and-fat, palm-kernel-oil-and-fat, palm-kernel-oil, cocoa, plant, cocoa-processed-with-alkali, dextrose, monosaccharide, glucose, skimmed-milk-powder, dairy, milk-powder, and-soy-lecithin</td>\n",
       "      <td>baking-decorations</td>\n",
       "      <td>0</td>\n",
       "    </tr>\n",
       "    <tr>\n",
       "      <th>21</th>\n",
       "      <td>Composite foods</td>\n",
       "      <td>None</td>\n",
       "      <td>Sausage &amp; uncured pepperoni pizza</td>\n",
       "      <td>z</td>\n",
       "      <td>999</td>\n",
       "      <td>9427119760</td>\n",
       "      <td>united states</td>\n",
       "      <td>flour-blend, flour, water, grown-tomatoes-in-heavy-puree, mozzarella, dairy, cheese, white-cheddar, cheddar, all-natural-sausage, all-natural-uncured-pepperoni, wheat-flour, cereal, wheat, cereal-flour, barley-malt-flour, barley, barley-flour, vine-ripened-fresh-unpeeled-ground-tomatoes, extra-heavy-puree, and-sea-salt, pasteurised-milk, milk, lactic-ferments, ferment, microbial-culture, salt, and-enzymes, enzyme, pork, animal, spice, condiment, sugar, added-sugar, disaccharide, natural-flavouring, flavouring, garlic, vegetable, root-vegetable, onion-family-vegetable, no-nitrites-and-nitrates-added-except-for-naturally-occurring-in-celery-juice-and-cherry-powder, contains-2-and-less-of-turbinado-sugar, celery-juice, stalk-vegetable, celery, cherry, fruit, prunus-species-fruit, lactic-acid-starter-culture, oleoresin-of-paprika, lime-juice-concentrate, citrus-fruit, juice, fruit-juice, lime, lime-juice</td>\n",
       "      <td>meals, pizzas-pies-and-quiches, pizzas</td>\n",
       "      <td>0</td>\n",
       "    </tr>\n",
       "    <tr>\n",
       "      <th>22</th>\n",
       "      <td>Fish Meat Eggs</td>\n",
       "      <td>None</td>\n",
       "      <td>Elite Tandoori Wild Tuna</td>\n",
       "      <td>d</td>\n",
       "      <td>21</td>\n",
       "      <td>859480006237</td>\n",
       "      <td>united states, world</td>\n",
       "      <td>sardine, fish, oily-fish, extra-virgin-olive-oil, oil-and-fat, vegetable-oil-and-fat, vegetable-oil, olive-oil, virgin-olive-oil, sea-salt, salt</td>\n",
       "      <td>seafood, fishes-and-their-products, canned-foods, fishes, fatty-fishes, canned-fishes, tunas, canned-tunas</td>\n",
       "      <td>2</td>\n",
       "    </tr>\n",
       "    <tr>\n",
       "      <th>23</th>\n",
       "      <td>None</td>\n",
       "      <td>None</td>\n",
       "      <td>Palomitas</td>\n",
       "      <td>z</td>\n",
       "      <td>999</td>\n",
       "      <td>8437000299271</td>\n",
       "      <td>spain</td>\n",
       "      <td>None</td>\n",
       "      <td>None</td>\n",
       "      <td>0</td>\n",
       "    </tr>\n",
       "    <tr>\n",
       "      <th>24</th>\n",
       "      <td>None</td>\n",
       "      <td>None</td>\n",
       "      <td>Pommes</td>\n",
       "      <td>z</td>\n",
       "      <td>999</td>\n",
       "      <td>66022002569</td>\n",
       "      <td>canada</td>\n",
       "      <td>None</td>\n",
       "      <td>None</td>\n",
       "      <td>0</td>\n",
       "    </tr>\n",
       "    <tr>\n",
       "      <th>25</th>\n",
       "      <td>Fruits and vegetables</td>\n",
       "      <td>None</td>\n",
       "      <td>Oignon rouge</td>\n",
       "      <td>b</td>\n",
       "      <td>78</td>\n",
       "      <td>3664636000772</td>\n",
       "      <td>france</td>\n",
       "      <td>None</td>\n",
       "      <td>plant-based-foods-and-beverages, plant-based-foods, fruits-and-vegetables-based-foods, condiments, vegetables-based-foods, culinary-plants, onions-and-their-products, onions, red-onions, groceries</td>\n",
       "      <td>0</td>\n",
       "    </tr>\n",
       "    <tr>\n",
       "      <th>26</th>\n",
       "      <td>Sugary snacks</td>\n",
       "      <td>None</td>\n",
       "      <td>Kit kat framboise</td>\n",
       "      <td>d</td>\n",
       "      <td>33</td>\n",
       "      <td>4902201175326</td>\n",
       "      <td>france</td>\n",
       "      <td>None</td>\n",
       "      <td>snacks, sweet-snacks, cocoa-and-its-products, confectioneries, bars, chocolate-candies, bars-covered-with-chocolate, chocolate-biscuity-bars</td>\n",
       "      <td>0</td>\n",
       "    </tr>\n",
       "    <tr>\n",
       "      <th>27</th>\n",
       "      <td>Composite foods</td>\n",
       "      <td>None</td>\n",
       "      <td>Che Pinsa!</td>\n",
       "      <td>z</td>\n",
       "      <td>999</td>\n",
       "      <td>8015673027683</td>\n",
       "      <td>italy</td>\n",
       "      <td>None</td>\n",
       "      <td>frozen-foods, meals, pizzas-pies-and-quiches, pizzas, frozen-pizzas-and-pies, frozen-pizzas</td>\n",
       "      <td>0</td>\n",
       "    </tr>\n",
       "    <tr>\n",
       "      <th>28</th>\n",
       "      <td>None</td>\n",
       "      <td>None</td>\n",
       "      <td>Chocolate mousse</td>\n",
       "      <td>z</td>\n",
       "      <td>999</td>\n",
       "      <td>9334330000838</td>\n",
       "      <td>far</td>\n",
       "      <td>None</td>\n",
       "      <td>None</td>\n",
       "      <td>2</td>\n",
       "    </tr>\n",
       "    <tr>\n",
       "      <th>29</th>\n",
       "      <td>None</td>\n",
       "      <td>None</td>\n",
       "      <td>Blumenkohl Kokos Suppe</td>\n",
       "      <td>z</td>\n",
       "      <td>999</td>\n",
       "      <td>4056489375753</td>\n",
       "      <td>germany</td>\n",
       "      <td>None</td>\n",
       "      <td>None</td>\n",
       "      <td>0</td>\n",
       "    </tr>\n",
       "    <tr>\n",
       "      <th>30</th>\n",
       "      <td>None</td>\n",
       "      <td>None</td>\n",
       "      <td>Crema di mandorla bio</td>\n",
       "      <td>z</td>\n",
       "      <td>999</td>\n",
       "      <td>8025367000694</td>\n",
       "      <td>italy</td>\n",
       "      <td>None</td>\n",
       "      <td>None</td>\n",
       "      <td>2</td>\n",
       "    </tr>\n",
       "    <tr>\n",
       "      <th>31</th>\n",
       "      <td>None</td>\n",
       "      <td>None</td>\n",
       "      <td>White High Fibre Wrap</td>\n",
       "      <td>z</td>\n",
       "      <td>999</td>\n",
       "      <td>9310023145116</td>\n",
       "      <td>australia</td>\n",
       "      <td>None</td>\n",
       "      <td>None</td>\n",
       "      <td>4</td>\n",
       "    </tr>\n",
       "    <tr>\n",
       "      <th>32</th>\n",
       "      <td>None</td>\n",
       "      <td>None</td>\n",
       "      <td>Coconut wafer rolls</td>\n",
       "      <td>z</td>\n",
       "      <td>999</td>\n",
       "      <td>9415748021544</td>\n",
       "      <td>far, australia</td>\n",
       "      <td>None</td>\n",
       "      <td>None</td>\n",
       "      <td>0</td>\n",
       "    </tr>\n",
       "    <tr>\n",
       "      <th>33</th>\n",
       "      <td>None</td>\n",
       "      <td>None</td>\n",
       "      <td>Granola chocolat et amatante soufflee</td>\n",
       "      <td>z</td>\n",
       "      <td>999</td>\n",
       "      <td>3760302470204</td>\n",
       "      <td>france</td>\n",
       "      <td>None</td>\n",
       "      <td>None</td>\n",
       "      <td>2</td>\n",
       "    </tr>\n",
       "    <tr>\n",
       "      <th>34</th>\n",
       "      <td>None</td>\n",
       "      <td>None</td>\n",
       "      <td>Pasta Siciliana Style</td>\n",
       "      <td>z</td>\n",
       "      <td>999</td>\n",
       "      <td>4056489471868</td>\n",
       "      <td>spain</td>\n",
       "      <td>None</td>\n",
       "      <td>None</td>\n",
       "      <td>0</td>\n",
       "    </tr>\n",
       "    <tr>\n",
       "      <th>35</th>\n",
       "      <td>None</td>\n",
       "      <td>None</td>\n",
       "      <td>Natura rice and walnut drink</td>\n",
       "      <td>z</td>\n",
       "      <td>999</td>\n",
       "      <td>725821000915</td>\n",
       "      <td>united states</td>\n",
       "      <td>None</td>\n",
       "      <td>None</td>\n",
       "      <td>3</td>\n",
       "    </tr>\n",
       "    <tr>\n",
       "      <th>36</th>\n",
       "      <td>None</td>\n",
       "      <td>None</td>\n",
       "      <td>Organic Italian Soda Pomegranate</td>\n",
       "      <td>z</td>\n",
       "      <td>999</td>\n",
       "      <td>41220113538</td>\n",
       "      <td>united states</td>\n",
       "      <td>None</td>\n",
       "      <td>None</td>\n",
       "      <td>2</td>\n",
       "    </tr>\n",
       "    <tr>\n",
       "      <th>37</th>\n",
       "      <td>None</td>\n",
       "      <td>None</td>\n",
       "      <td>Vogelnestli</td>\n",
       "      <td>z</td>\n",
       "      <td>999</td>\n",
       "      <td>7640151031565</td>\n",
       "      <td>germany</td>\n",
       "      <td>None</td>\n",
       "      <td>None</td>\n",
       "      <td>0</td>\n",
       "    </tr>\n",
       "    <tr>\n",
       "      <th>38</th>\n",
       "      <td>None</td>\n",
       "      <td>None</td>\n",
       "      <td>I’m Free From</td>\n",
       "      <td>z</td>\n",
       "      <td>999</td>\n",
       "      <td>9310645271286</td>\n",
       "      <td>australia</td>\n",
       "      <td>None</td>\n",
       "      <td>beverages</td>\n",
       "      <td>0</td>\n",
       "    </tr>\n",
       "    <tr>\n",
       "      <th>39</th>\n",
       "      <td>None</td>\n",
       "      <td>None</td>\n",
       "      <td>Garlic &amp; Herbs goat cheese</td>\n",
       "      <td>z</td>\n",
       "      <td>999</td>\n",
       "      <td>75450254273</td>\n",
       "      <td>united states</td>\n",
       "      <td>None</td>\n",
       "      <td>None</td>\n",
       "      <td>0</td>\n",
       "    </tr>\n",
       "    <tr>\n",
       "      <th>40</th>\n",
       "      <td>None</td>\n",
       "      <td>None</td>\n",
       "      <td>Lentils</td>\n",
       "      <td>z</td>\n",
       "      <td>999</td>\n",
       "      <td>758890513116</td>\n",
       "      <td>united states</td>\n",
       "      <td>None</td>\n",
       "      <td>None</td>\n",
       "      <td>0</td>\n",
       "    </tr>\n",
       "    <tr>\n",
       "      <th>41</th>\n",
       "      <td>None</td>\n",
       "      <td>None</td>\n",
       "      <td>Galettes saveur gachr</td>\n",
       "      <td>z</td>\n",
       "      <td>999</td>\n",
       "      <td>3760211203092</td>\n",
       "      <td>france</td>\n",
       "      <td>None</td>\n",
       "      <td>None</td>\n",
       "      <td>0</td>\n",
       "    </tr>\n",
       "    <tr>\n",
       "      <th>42</th>\n",
       "      <td>None</td>\n",
       "      <td>None</td>\n",
       "      <td>Teryaki Beef Jerky</td>\n",
       "      <td>z</td>\n",
       "      <td>999</td>\n",
       "      <td>791604921128</td>\n",
       "      <td>united states</td>\n",
       "      <td>None</td>\n",
       "      <td>None</td>\n",
       "      <td>0</td>\n",
       "    </tr>\n",
       "    <tr>\n",
       "      <th>43</th>\n",
       "      <td>None</td>\n",
       "      <td>None</td>\n",
       "      <td>Egg salad sandwich</td>\n",
       "      <td>z</td>\n",
       "      <td>999</td>\n",
       "      <td>1390</td>\n",
       "      <td>ireland</td>\n",
       "      <td>None</td>\n",
       "      <td>None</td>\n",
       "      <td>0</td>\n",
       "    </tr>\n",
       "    <tr>\n",
       "      <th>44</th>\n",
       "      <td>None</td>\n",
       "      <td>None</td>\n",
       "      <td>Sablés bretons froment</td>\n",
       "      <td>z</td>\n",
       "      <td>999</td>\n",
       "      <td>3760074413324</td>\n",
       "      <td>france</td>\n",
       "      <td>None</td>\n",
       "      <td>None</td>\n",
       "      <td>0</td>\n",
       "    </tr>\n",
       "    <tr>\n",
       "      <th>45</th>\n",
       "      <td>None</td>\n",
       "      <td>None</td>\n",
       "      <td>Crispiest</td>\n",
       "      <td>z</td>\n",
       "      <td>999</td>\n",
       "      <td>1114900339</td>\n",
       "      <td>united states</td>\n",
       "      <td>None</td>\n",
       "      <td>None</td>\n",
       "      <td>0</td>\n",
       "    </tr>\n",
       "    <tr>\n",
       "      <th>46</th>\n",
       "      <td>None</td>\n",
       "      <td>None</td>\n",
       "      <td>Mini plateau libanais - les délices de Djamila</td>\n",
       "      <td>z</td>\n",
       "      <td>999</td>\n",
       "      <td>3582730003164</td>\n",
       "      <td>france</td>\n",
       "      <td>None</td>\n",
       "      <td>None</td>\n",
       "      <td>0</td>\n",
       "    </tr>\n",
       "    <tr>\n",
       "      <th>47</th>\n",
       "      <td>None</td>\n",
       "      <td>None</td>\n",
       "      <td>Marinated garlic cloves</td>\n",
       "      <td>z</td>\n",
       "      <td>999</td>\n",
       "      <td>755884550010</td>\n",
       "      <td>united states</td>\n",
       "      <td>None</td>\n",
       "      <td>None</td>\n",
       "      <td>0</td>\n",
       "    </tr>\n",
       "    <tr>\n",
       "      <th>48</th>\n",
       "      <td>None</td>\n",
       "      <td>None</td>\n",
       "      <td>KICCO season jar</td>\n",
       "      <td>z</td>\n",
       "      <td>999</td>\n",
       "      <td>9556639111156</td>\n",
       "      <td>brunei</td>\n",
       "      <td>None</td>\n",
       "      <td>None</td>\n",
       "      <td>0</td>\n",
       "    </tr>\n",
       "    <tr>\n",
       "      <th>49</th>\n",
       "      <td>None</td>\n",
       "      <td>None</td>\n",
       "      <td>Pflaumen</td>\n",
       "      <td>z</td>\n",
       "      <td>999</td>\n",
       "      <td>4018905267080</td>\n",
       "      <td>germany</td>\n",
       "      <td>None</td>\n",
       "      <td>None</td>\n",
       "      <td>0</td>\n",
       "    </tr>\n",
       "    <tr>\n",
       "      <th>50</th>\n",
       "      <td>None</td>\n",
       "      <td>None</td>\n",
       "      <td>Sardellenfilets</td>\n",
       "      <td>z</td>\n",
       "      <td>999</td>\n",
       "      <td>9120087692613</td>\n",
       "      <td>germany</td>\n",
       "      <td>None</td>\n",
       "      <td>None</td>\n",
       "      <td>0</td>\n",
       "    </tr>\n",
       "    <tr>\n",
       "      <th>51</th>\n",
       "      <td>None</td>\n",
       "      <td>None</td>\n",
       "      <td>Fürst von Metternich, Sekt</td>\n",
       "      <td>z</td>\n",
       "      <td>999</td>\n",
       "      <td>4003310112100</td>\n",
       "      <td>germany</td>\n",
       "      <td>None</td>\n",
       "      <td>None</td>\n",
       "      <td>0</td>\n",
       "    </tr>\n",
       "    <tr>\n",
       "      <th>52</th>\n",
       "      <td>Fish Meat Eggs</td>\n",
       "      <td>None</td>\n",
       "      <td>Květová špička Rump steak</td>\n",
       "      <td>z</td>\n",
       "      <td>999</td>\n",
       "      <td>2801056008365</td>\n",
       "      <td>far</td>\n",
       "      <td>None</td>\n",
       "      <td>meats-and-their-products, beef-and-its-products, meats, beef</td>\n",
       "      <td>0</td>\n",
       "    </tr>\n",
       "    <tr>\n",
       "      <th>53</th>\n",
       "      <td>Beverages</td>\n",
       "      <td>None</td>\n",
       "      <td>Douceur de fruits</td>\n",
       "      <td>d</td>\n",
       "      <td>21</td>\n",
       "      <td>3580288090179</td>\n",
       "      <td>france</td>\n",
       "      <td>None</td>\n",
       "      <td>beverages-and-beverages-preparations, plant-based-foods-and-beverages, beverages, plant-based-beverages, fruit-based-beverages, juices-and-nectars, fruit-juices, multifruit-juices, squeezed-juices, squeezed-multifruit-juices</td>\n",
       "      <td>0</td>\n",
       "    </tr>\n",
       "    <tr>\n",
       "      <th>54</th>\n",
       "      <td>None</td>\n",
       "      <td>None</td>\n",
       "      <td>coca cola</td>\n",
       "      <td>z</td>\n",
       "      <td>999</td>\n",
       "      <td>7790895001413</td>\n",
       "      <td>none</td>\n",
       "      <td>None</td>\n",
       "      <td>None</td>\n",
       "      <td>0</td>\n",
       "    </tr>\n",
       "    <tr>\n",
       "      <th>55</th>\n",
       "      <td>Sugary snacks</td>\n",
       "      <td>None</td>\n",
       "      <td>Milk Chocolate Truffles</td>\n",
       "      <td>z</td>\n",
       "      <td>999</td>\n",
       "      <td>4751027953836</td>\n",
       "      <td>united states</td>\n",
       "      <td>e965, e1200, whole-milk-powder, dairy, milk-powder, vegetable-fat, oil-and-fat, vegetable-oil-and-fat, cocoa-butter, plant, cocoa, hazelnut-paste, nut, tree-nut, hazelnut, cocoa-paste, sweet-whey-powder, whey, sweet-whey, e968, cocoa-powder, macadamia-nut, soya-lecithin, e322, e322i, e476, natural-and-artificial-flavouring, flavouring, natural-flavouring, artificial-flavouring, contains, soya, this-product-is-made-on-a-production-line-that-also-handles-almonds, coconut, fruit, palm-oil, palm-oil-and-fat, palm-kernel-oil, palm-kernel-oil-and-fat, sunflower-lecithin</td>\n",
       "      <td>snacks, sweet-snacks, cocoa-and-its-products, confectioneries, chocolate-candies, bonbons, chocolates, chocolate-truffles</td>\n",
       "      <td>2</td>\n",
       "    </tr>\n",
       "    <tr>\n",
       "      <th>56</th>\n",
       "      <td>None</td>\n",
       "      <td>None</td>\n",
       "      <td>Palkjuice jugo</td>\n",
       "      <td>z</td>\n",
       "      <td>999</td>\n",
       "      <td>7503021919991</td>\n",
       "      <td>spain</td>\n",
       "      <td>None</td>\n",
       "      <td>None</td>\n",
       "      <td>0</td>\n",
       "    </tr>\n",
       "    <tr>\n",
       "      <th>57</th>\n",
       "      <td>None</td>\n",
       "      <td>None</td>\n",
       "      <td>Flavored Syrup</td>\n",
       "      <td>z</td>\n",
       "      <td>999</td>\n",
       "      <td>890366431682</td>\n",
       "      <td>united states</td>\n",
       "      <td>None</td>\n",
       "      <td>None</td>\n",
       "      <td>0</td>\n",
       "    </tr>\n",
       "    <tr>\n",
       "      <th>58</th>\n",
       "      <td>None</td>\n",
       "      <td>None</td>\n",
       "      <td>Monkfruit sweetener classic with erythritol</td>\n",
       "      <td>z</td>\n",
       "      <td>999</td>\n",
       "      <td>830946000044</td>\n",
       "      <td>united states</td>\n",
       "      <td>None</td>\n",
       "      <td>None</td>\n",
       "      <td>0</td>\n",
       "    </tr>\n",
       "    <tr>\n",
       "      <th>59</th>\n",
       "      <td>None</td>\n",
       "      <td>None</td>\n",
       "      <td>Delicious</td>\n",
       "      <td>z</td>\n",
       "      <td>999</td>\n",
       "      <td>6281100850830</td>\n",
       "      <td>qatar</td>\n",
       "      <td>None</td>\n",
       "      <td>None</td>\n",
       "      <td>0</td>\n",
       "    </tr>\n",
       "  </tbody>\n",
       "</table>\n",
       "</div>"
      ],
      "text/plain": [
       "                   groups  \\\n",
       "0           Sugary snacks   \n",
       "1                    None   \n",
       "2           Sugary snacks   \n",
       "3                    None   \n",
       "4    Cereals and potatoes   \n",
       "5         Composite foods   \n",
       "6                    None   \n",
       "7           Sugary snacks   \n",
       "8                    None   \n",
       "9                    None   \n",
       "10                   None   \n",
       "11          Sugary snacks   \n",
       "12                   None   \n",
       "13         Fat and sauces   \n",
       "14          Sugary snacks   \n",
       "15         Fish Meat Eggs   \n",
       "16         Fish Meat Eggs   \n",
       "17                   None   \n",
       "18                   None   \n",
       "19                   None   \n",
       "20                   None   \n",
       "21        Composite foods   \n",
       "22         Fish Meat Eggs   \n",
       "23                   None   \n",
       "24                   None   \n",
       "25  Fruits and vegetables   \n",
       "26          Sugary snacks   \n",
       "27        Composite foods   \n",
       "28                   None   \n",
       "29                   None   \n",
       "30                   None   \n",
       "31                   None   \n",
       "32                   None   \n",
       "33                   None   \n",
       "34                   None   \n",
       "35                   None   \n",
       "36                   None   \n",
       "37                   None   \n",
       "38                   None   \n",
       "39                   None   \n",
       "40                   None   \n",
       "41                   None   \n",
       "42                   None   \n",
       "43                   None   \n",
       "44                   None   \n",
       "45                   None   \n",
       "46                   None   \n",
       "47                   None   \n",
       "48                   None   \n",
       "49                   None   \n",
       "50                   None   \n",
       "51                   None   \n",
       "52         Fish Meat Eggs   \n",
       "53              Beverages   \n",
       "54                   None   \n",
       "55          Sugary snacks   \n",
       "56                   None   \n",
       "57                   None   \n",
       "58                   None   \n",
       "59                   None   \n",
       "\n",
       "                                                        packaging  \\\n",
       "0                                                            None   \n",
       "1                                                            None   \n",
       "2                                                            None   \n",
       "3                                                            None   \n",
       "4                                                Plastique,Sachet   \n",
       "5                                         Frozen,Sachet plastique   \n",
       "6                                                            None   \n",
       "7                                                            None   \n",
       "8                                                            None   \n",
       "9                                                            None   \n",
       "10                                                           None   \n",
       "11                                                           None   \n",
       "12  Boite en carton, Enveloppes individuelles en papier aluminium   \n",
       "13                                                        Plastic   \n",
       "14                                                           None   \n",
       "15                                                           None   \n",
       "16                                                           None   \n",
       "17                                                           None   \n",
       "18                                                           None   \n",
       "19                                                           None   \n",
       "20                                                           None   \n",
       "21                                                           None   \n",
       "22                                                           None   \n",
       "23                                                           None   \n",
       "24                                                           None   \n",
       "25                                                           None   \n",
       "26                                                           None   \n",
       "27                                                           None   \n",
       "28                                                           None   \n",
       "29                                                           None   \n",
       "30                                                           None   \n",
       "31                                                           None   \n",
       "32                                                           None   \n",
       "33                                                           None   \n",
       "34                                                           None   \n",
       "35                                                           None   \n",
       "36                                                           None   \n",
       "37                                                           None   \n",
       "38                                                           None   \n",
       "39                                                           None   \n",
       "40                                                           None   \n",
       "41                                                           None   \n",
       "42                                                           None   \n",
       "43                                                           None   \n",
       "44                                                           None   \n",
       "45                                                           None   \n",
       "46                                                           None   \n",
       "47                                                           None   \n",
       "48                                                           None   \n",
       "49                                                           None   \n",
       "50                                                           None   \n",
       "51                                                           None   \n",
       "52                                                           None   \n",
       "53                                                           None   \n",
       "54                                                           None   \n",
       "55                                                           None   \n",
       "56                                                           None   \n",
       "57                                                           None   \n",
       "58                                                           None   \n",
       "59                                                           None   \n",
       "\n",
       "                                                  name ecoscore_groups  \\\n",
       "0              Johnvince foods, sour watermelon slices               z   \n",
       "1                 Beef With Teriyaki Sauce And Noodles               z   \n",
       "2                        Ktm, Enjoy, Juicy Gummy Bears               b   \n",
       "3           Emmentaler Switzerland Emmentaler Gotthelf               z   \n",
       "4                                     Muffins complets               b   \n",
       "5                       Emincés de poireaux à la crème               b   \n",
       "6   Iglo Grillade Océane Côté Sud Colin D'alaska Sauge               z   \n",
       "7                                      Chocolat bonnat               e   \n",
       "8                                        Sauce Samorai               z   \n",
       "9                                              Nescafe               z   \n",
       "10                                          Gaufrettes               z   \n",
       "11                                   bonbons raspberry               c   \n",
       "12                                Bouillon Kub légumes               z   \n",
       "13                    Sriracha sehr scharfe Chilisauce               z   \n",
       "14            Fruchtaufstrich 75% Frucht, Bio Aprikose               b   \n",
       "15                                 Cooked mussel meats               c   \n",
       "16                               Jamón cocido al horno               e   \n",
       "17                                     Sal con Hierbas               b   \n",
       "18                                  Potage aux légumes               z   \n",
       "19                             Infusion Pomme Cannelle               z   \n",
       "20                     Chocolate flavored baking chips               z   \n",
       "21                   Sausage & uncured pepperoni pizza               z   \n",
       "22                            Elite Tandoori Wild Tuna               d   \n",
       "23                                           Palomitas               z   \n",
       "24                                              Pommes               z   \n",
       "25                                        Oignon rouge               b   \n",
       "26                                   Kit kat framboise               d   \n",
       "27                                          Che Pinsa!               z   \n",
       "28                                    Chocolate mousse               z   \n",
       "29                              Blumenkohl Kokos Suppe               z   \n",
       "30                               Crema di mandorla bio               z   \n",
       "31                               White High Fibre Wrap               z   \n",
       "32                                 Coconut wafer rolls               z   \n",
       "33               Granola chocolat et amatante soufflee               z   \n",
       "34                               Pasta Siciliana Style               z   \n",
       "35                        Natura rice and walnut drink               z   \n",
       "36                    Organic Italian Soda Pomegranate               z   \n",
       "37                                         Vogelnestli               z   \n",
       "38                                       I’m Free From               z   \n",
       "39                          Garlic & Herbs goat cheese               z   \n",
       "40                                             Lentils               z   \n",
       "41                               Galettes saveur gachr               z   \n",
       "42                                  Teryaki Beef Jerky               z   \n",
       "43                                  Egg salad sandwich               z   \n",
       "44                              Sablés bretons froment               z   \n",
       "45                                           Crispiest               z   \n",
       "46      Mini plateau libanais - les délices de Djamila               z   \n",
       "47                             Marinated garlic cloves               z   \n",
       "48                                    KICCO season jar               z   \n",
       "49                                            Pflaumen               z   \n",
       "50                                     Sardellenfilets               z   \n",
       "51                          Fürst von Metternich, Sekt               z   \n",
       "52                           Květová špička Rump steak               z   \n",
       "53                                   Douceur de fruits               d   \n",
       "54                                           coca cola               z   \n",
       "55                             Milk Chocolate Truffles               z   \n",
       "56                                      Palkjuice jugo               z   \n",
       "57                                      Flavored Syrup               z   \n",
       "58         Monkfruit sweetener classic with erythritol               z   \n",
       "59                                           Delicious               z   \n",
       "\n",
       "    ecoscore_note                code             countries  \\\n",
       "0             999         64777813331         united states   \n",
       "1             999        118894904172         united states   \n",
       "2              69        679757140132         united states   \n",
       "3             999       2107879007258           switzerland   \n",
       "4              71       3245412694516                france   \n",
       "5              79       3250390561019                france   \n",
       "6             999       3661405000162                france   \n",
       "7              15       3700152400747                france   \n",
       "8             999       3760257870913                france   \n",
       "9             999       4902201406147                   far   \n",
       "10            999       5055534338315                france   \n",
       "11             42       6411401034510       finland, france   \n",
       "12            999       7613035918177   france, switzerland   \n",
       "13            999       8853662056067      austria, germany   \n",
       "14             79       4388844087200               germany   \n",
       "15             47        614583924020         united states   \n",
       "16             12  584228700419001216                 spain   \n",
       "17             78       8412206000753         france, spain   \n",
       "18            999        873976011550                canada   \n",
       "19            999       3422150002159                france   \n",
       "20            999         11225038389         united states   \n",
       "21            999          9427119760         united states   \n",
       "22             21        859480006237  united states, world   \n",
       "23            999       8437000299271                 spain   \n",
       "24            999         66022002569                canada   \n",
       "25             78       3664636000772                france   \n",
       "26             33       4902201175326                france   \n",
       "27            999       8015673027683                 italy   \n",
       "28            999       9334330000838                   far   \n",
       "29            999       4056489375753               germany   \n",
       "30            999       8025367000694                 italy   \n",
       "31            999       9310023145116             australia   \n",
       "32            999       9415748021544        far, australia   \n",
       "33            999       3760302470204                france   \n",
       "34            999       4056489471868                 spain   \n",
       "35            999        725821000915         united states   \n",
       "36            999         41220113538         united states   \n",
       "37            999       7640151031565               germany   \n",
       "38            999       9310645271286             australia   \n",
       "39            999         75450254273         united states   \n",
       "40            999        758890513116         united states   \n",
       "41            999       3760211203092                france   \n",
       "42            999        791604921128         united states   \n",
       "43            999                1390               ireland   \n",
       "44            999       3760074413324                france   \n",
       "45            999          1114900339         united states   \n",
       "46            999       3582730003164                france   \n",
       "47            999        755884550010         united states   \n",
       "48            999       9556639111156                brunei   \n",
       "49            999       4018905267080               germany   \n",
       "50            999       9120087692613               germany   \n",
       "51            999       4003310112100               germany   \n",
       "52            999       2801056008365                   far   \n",
       "53             21       3580288090179                france   \n",
       "54            999       7790895001413                  none   \n",
       "55            999       4751027953836         united states   \n",
       "56            999       7503021919991                 spain   \n",
       "57            999        890366431682         united states   \n",
       "58            999        830946000044         united states   \n",
       "59            999       6281100850830                 qatar   \n",
       "\n",
       "                                                                                                                                                                                                                                                                                                                                                                                                                                                                                                                                                                                                                                                                                                                                                                                                                                                                                                                                          ingredients  \\\n",
       "0                                                                                                                                                                                                                                                                                                                                                                                                                                                                                                                                                                                                                                                sugar, added-sugar, disaccharide, glucose-syrup, monosaccharide, glucose, modified-corn-starch, starch, corn-starch, modified-starch, e330, e334, sodium-citrate, minerals, sodium, e270, natural-and-artificial-flavouring, flavouring, natural-flavouring, artificial-flavouring, e102, e110, e129   \n",
       "1                                                                                                                                       flour-battered-beef, noodle, dough, teriyaki-sauce, sauce, pineapple-juice, fruit, juice, fruit-juice, pineapple, beef, animal, flour, canola-oil, oil-and-fat, vegetable-oil-and-fat, rapeseed-oil, wheat-flour, cereal, wheat, cereal-flour, water, canola, vegetable, root-vegetable, rapeseed, soya-oil, vegetable-oil, dried-epp-powder, egg-white, egg, salt, corn-starch, starch, fd-c-yellow-5-and-6, e211, e297, e300, vitamins, vitamin-e, vitamin-a, soy-sauce, sugar, added-sugar, disaccharide, ginger, condiment, spice, onion, onion-family-vegetable, potato-starch, garlic, black-pepper, seed, pepper, barley-malt-flour, barley, barley-flour, e375, reduced-iron, minerals, iron, thiamin-mononitrate, thiamin, e101, folic-acid, folate, vitamin-c, soya-bean, legume, pulse, soya, rice   \n",
       "2                                                                                                                                                                                                                                                                                                                                                                                                                                                                                                                                                                                      corn-syrup, added-sugar, disaccharide, e428, e420, pectic, e330, e296, sodium-citrate, minerals, sodium, medium-chain-triglycerides, e903, artificial-flavouring, flavouring, plum, fruit, prunus-species-fruit, e954, sucralose-caramel-color-aspartame-fd-c-red-40, e102, e133, beef, animal, coconut-oil, oil-and-fat, vegetable-oil-and-fat, vegetable-oil   \n",
       "3                                                                                                                                                                                                                                                                                                                                                                                                                                                                                                                                                                                                                                                                                                                                                                                                                                                                                                                                   milk, dairy, salt   \n",
       "4                                                                                                                                                                                                                                                                                                                                                                                                                                                                                                                                                                                                                                                                         whole-wheat-flour, cereal, flour, wheat, cereal-flour, wholemeal-flour, wheat-flour, water, wheat-gluten, gluten, yeast, durum-wheat-semolina, durum-wheat, semolina, wheat-fiber, fiber, vegetable-fiber, sugar, added-sugar, disaccharide, salt, preservative, e282, e200   \n",
       "5                                                                                                                                                                                                                                                                                                                                                                                                                                                                                        leek, vegetable, onion-family-vegetable, fresh-cream, dairy, cream, water, wheat-flour, cereal, flour, wheat, cereal-flour, butter, salt, poultry-broth, poultry, broth, modified-potato-starch, starch, modified-starch, potato-starch, pepper, seed, nutmeg, condiment, spice, dextrose, added-sugar, monosaccharide, glucose, poultry-fat, oil-and-fat, fat, animal-fat, flavouring, sugar, disaccharide, herbs-and-spices, herb, celery, stalk-vegetable   \n",
       "6                                                                                                                                                                                                                                                                                                                                                                                                                                                                                                                                                                                                                                                                                                                                                                                                                                                                                                                                                None   \n",
       "7                                                                                                                                                                                                                                                                                                                                                                                                                                                                                                                                                                                                                                                                                                                                                                                                                                                                                                                                                None   \n",
       "8                                                                                                                                                                                                                                                                                                                                                                                                                                                                                                                                                                                                                                                                                                                                                                                                                                                                                                                                                None   \n",
       "9                                                                                                                                                                                                                                                                                                                                                                                                                                                                                                                                                                                                                                                                                                                                                                                                                                                                                                                                                None   \n",
       "10                                                                                                                                                                                                                                                                                                                                                                                                                                                                                                                                                                                                                                                                                                                                                                                                                                                                                                                                               None   \n",
       "11                                                                                                                                                                                                                                                                                                                                                                                                                                                                                                                                                                                                                                                                                                                                                                                                                            sweetener, firming-agent, thickener, flavouring, glazing-agent, colour, e967, e470a, e466, e414, e903, e901, e904, e120   \n",
       "12                                                                                                                                                                                                                                                                                                                                                                                                                                                                                                                 salt, flavour-enhancer, glucose-syrup, added-sugar, monosaccharide, glucose, non-hydrogenated-palm-oil, oil-and-fat, vegetable-oil-and-fat, palm-oil-and-fat, palm-oil, vegetable, onion, root-vegetable, onion-family-vegetable, carrot, taproot-vegetable, shallot, tomato, fruit-vegetable, flavouring, turmeric, condiment, spice, parsley, herb, leaf-vegetable, coriander-seed, seed, coriander, nutmeg, e621, wheat, cereal   \n",
       "13                                                                                                                                                                                                                                                                                                                                                                                                                                                                                                                                                                                                                                                                                                                                                                             chili-pepper, vegetable, fruit-vegetable, sugar, added-sugar, disaccharide, water, salt, acid, e330, thickener, flavour-enhancer, preservative, e260, e415, e621, e202   \n",
       "14                                                                                                                                                                                                                                                                                                                                                                                                                                                                                                                                                                                                                                                                                                                                                                                                          apricot, fruit, prunus-species-fruit, cane-sugar, added-sugar, disaccharide, sugar, lemon-juice, juice, fruit-juice, gelling-agent, e440a   \n",
       "15                                                                                                                                                                                                                                                                                                                                                                                                                                                                                                                                                                                                                                                                                                                                                                                                                                                                                                                                               None   \n",
       "16                                                                                                                                                                                                                                                                                                                                                                                                                                                                                                                                                                                                                                                                                                                                                                                                                                                                                                                                               None   \n",
       "17                                                                                                                                                                                                                                                                                                                                                                                                                                                                                                                                                                                                                                                                                                                                                                                                                                                                                             sea-salt, salt, rosemary, herb, thyme, marjoram, basil   \n",
       "18                                                                                                                                                                                                                                                                                                                                                                                                                                                                                                                                                                                                                                                                                                                                                                                                                                                                                                                                               None   \n",
       "19                                                                                                                                                                                                                                                                                                                                                                                                                                                                                                                                                                                                                                                                                                                                                                                                                                                                                                                                               None   \n",
       "20                                                                                                                                                                                                                                                                                                                                                                                                                                                                                                                                                                                                                                                              sugar, added-sugar, disaccharide, hydrogenated-palm-kernel-oil, oil-and-fat, vegetable-oil-and-fat, palm-kernel-oil-and-fat, palm-kernel-oil, cocoa, plant, cocoa-processed-with-alkali, dextrose, monosaccharide, glucose, skimmed-milk-powder, dairy, milk-powder, and-soy-lecithin   \n",
       "21  flour-blend, flour, water, grown-tomatoes-in-heavy-puree, mozzarella, dairy, cheese, white-cheddar, cheddar, all-natural-sausage, all-natural-uncured-pepperoni, wheat-flour, cereal, wheat, cereal-flour, barley-malt-flour, barley, barley-flour, vine-ripened-fresh-unpeeled-ground-tomatoes, extra-heavy-puree, and-sea-salt, pasteurised-milk, milk, lactic-ferments, ferment, microbial-culture, salt, and-enzymes, enzyme, pork, animal, spice, condiment, sugar, added-sugar, disaccharide, natural-flavouring, flavouring, garlic, vegetable, root-vegetable, onion-family-vegetable, no-nitrites-and-nitrates-added-except-for-naturally-occurring-in-celery-juice-and-cherry-powder, contains-2-and-less-of-turbinado-sugar, celery-juice, stalk-vegetable, celery, cherry, fruit, prunus-species-fruit, lactic-acid-starter-culture, oleoresin-of-paprika, lime-juice-concentrate, citrus-fruit, juice, fruit-juice, lime, lime-juice   \n",
       "22                                                                                                                                                                                                                                                                                                                                                                                                                                                                                                                                                                                                                                                                                                                                                                                                   sardine, fish, oily-fish, extra-virgin-olive-oil, oil-and-fat, vegetable-oil-and-fat, vegetable-oil, olive-oil, virgin-olive-oil, sea-salt, salt   \n",
       "23                                                                                                                                                                                                                                                                                                                                                                                                                                                                                                                                                                                                                                                                                                                                                                                                                                                                                                                                               None   \n",
       "24                                                                                                                                                                                                                                                                                                                                                                                                                                                                                                                                                                                                                                                                                                                                                                                                                                                                                                                                               None   \n",
       "25                                                                                                                                                                                                                                                                                                                                                                                                                                                                                                                                                                                                                                                                                                                                                                                                                                                                                                                                               None   \n",
       "26                                                                                                                                                                                                                                                                                                                                                                                                                                                                                                                                                                                                                                                                                                                                                                                                                                                                                                                                               None   \n",
       "27                                                                                                                                                                                                                                                                                                                                                                                                                                                                                                                                                                                                                                                                                                                                                                                                                                                                                                                                               None   \n",
       "28                                                                                                                                                                                                                                                                                                                                                                                                                                                                                                                                                                                                                                                                                                                                                                                                                                                                                                                                               None   \n",
       "29                                                                                                                                                                                                                                                                                                                                                                                                                                                                                                                                                                                                                                                                                                                                                                                                                                                                                                                                               None   \n",
       "30                                                                                                                                                                                                                                                                                                                                                                                                                                                                                                                                                                                                                                                                                                                                                                                                                                                                                                                                               None   \n",
       "31                                                                                                                                                                                                                                                                                                                                                                                                                                                                                                                                                                                                                                                                                                                                                                                                                                                                                                                                               None   \n",
       "32                                                                                                                                                                                                                                                                                                                                                                                                                                                                                                                                                                                                                                                                                                                                                                                                                                                                                                                                               None   \n",
       "33                                                                                                                                                                                                                                                                                                                                                                                                                                                                                                                                                                                                                                                                                                                                                                                                                                                                                                                                               None   \n",
       "34                                                                                                                                                                                                                                                                                                                                                                                                                                                                                                                                                                                                                                                                                                                                                                                                                                                                                                                                               None   \n",
       "35                                                                                                                                                                                                                                                                                                                                                                                                                                                                                                                                                                                                                                                                                                                                                                                                                                                                                                                                               None   \n",
       "36                                                                                                                                                                                                                                                                                                                                                                                                                                                                                                                                                                                                                                                                                                                                                                                                                                                                                                                                               None   \n",
       "37                                                                                                                                                                                                                                                                                                                                                                                                                                                                                                                                                                                                                                                                                                                                                                                                                                                                                                                                               None   \n",
       "38                                                                                                                                                                                                                                                                                                                                                                                                                                                                                                                                                                                                                                                                                                                                                                                                                                                                                                                                               None   \n",
       "39                                                                                                                                                                                                                                                                                                                                                                                                                                                                                                                                                                                                                                                                                                                                                                                                                                                                                                                                               None   \n",
       "40                                                                                                                                                                                                                                                                                                                                                                                                                                                                                                                                                                                                                                                                                                                                                                                                                                                                                                                                               None   \n",
       "41                                                                                                                                                                                                                                                                                                                                                                                                                                                                                                                                                                                                                                                                                                                                                                                                                                                                                                                                               None   \n",
       "42                                                                                                                                                                                                                                                                                                                                                                                                                                                                                                                                                                                                                                                                                                                                                                                                                                                                                                                                               None   \n",
       "43                                                                                                                                                                                                                                                                                                                                                                                                                                                                                                                                                                                                                                                                                                                                                                                                                                                                                                                                               None   \n",
       "44                                                                                                                                                                                                                                                                                                                                                                                                                                                                                                                                                                                                                                                                                                                                                                                                                                                                                                                                               None   \n",
       "45                                                                                                                                                                                                                                                                                                                                                                                                                                                                                                                                                                                                                                                                                                                                                                                                                                                                                                                                               None   \n",
       "46                                                                                                                                                                                                                                                                                                                                                                                                                                                                                                                                                                                                                                                                                                                                                                                                                                                                                                                                               None   \n",
       "47                                                                                                                                                                                                                                                                                                                                                                                                                                                                                                                                                                                                                                                                                                                                                                                                                                                                                                                                               None   \n",
       "48                                                                                                                                                                                                                                                                                                                                                                                                                                                                                                                                                                                                                                                                                                                                                                                                                                                                                                                                               None   \n",
       "49                                                                                                                                                                                                                                                                                                                                                                                                                                                                                                                                                                                                                                                                                                                                                                                                                                                                                                                                               None   \n",
       "50                                                                                                                                                                                                                                                                                                                                                                                                                                                                                                                                                                                                                                                                                                                                                                                                                                                                                                                                               None   \n",
       "51                                                                                                                                                                                                                                                                                                                                                                                                                                                                                                                                                                                                                                                                                                                                                                                                                                                                                                                                               None   \n",
       "52                                                                                                                                                                                                                                                                                                                                                                                                                                                                                                                                                                                                                                                                                                                                                                                                                                                                                                                                               None   \n",
       "53                                                                                                                                                                                                                                                                                                                                                                                                                                                                                                                                                                                                                                                                                                                                                                                                                                                                                                                                               None   \n",
       "54                                                                                                                                                                                                                                                                                                                                                                                                                                                                                                                                                                                                                                                                                                                                                                                                                                                                                                                                               None   \n",
       "55                                                                                                                                                                                                                                                                                                                                                         e965, e1200, whole-milk-powder, dairy, milk-powder, vegetable-fat, oil-and-fat, vegetable-oil-and-fat, cocoa-butter, plant, cocoa, hazelnut-paste, nut, tree-nut, hazelnut, cocoa-paste, sweet-whey-powder, whey, sweet-whey, e968, cocoa-powder, macadamia-nut, soya-lecithin, e322, e322i, e476, natural-and-artificial-flavouring, flavouring, natural-flavouring, artificial-flavouring, contains, soya, this-product-is-made-on-a-production-line-that-also-handles-almonds, coconut, fruit, palm-oil, palm-oil-and-fat, palm-kernel-oil, palm-kernel-oil-and-fat, sunflower-lecithin   \n",
       "56                                                                                                                                                                                                                                                                                                                                                                                                                                                                                                                                                                                                                                                                                                                                                                                                                                                                                                                                               None   \n",
       "57                                                                                                                                                                                                                                                                                                                                                                                                                                                                                                                                                                                                                                                                                                                                                                                                                                                                                                                                               None   \n",
       "58                                                                                                                                                                                                                                                                                                                                                                                                                                                                                                                                                                                                                                                                                                                                                                                                                                                                                                                                               None   \n",
       "59                                                                                                                                                                                                                                                                                                                                                                                                                                                                                                                                                                                                                                                                                                                                                                                                                                                                                                                                               None   \n",
       "\n",
       "                                                                                                                                                                                                                              categories  \\\n",
       "0                                                                                                                                                                                                  snacks, sweet-snacks, confectioneries   \n",
       "1                                                                                                                                                                                                                                   None   \n",
       "2                                                                                                                                                             snacks, sweet-snacks, confectioneries, candies, gummi-candies, gummy-bears   \n",
       "3                                                                                                                                                                                                                                   None   \n",
       "4                                                                                                                      plant-based-foods-and-beverages, plant-based-foods, cereals-and-potatoes, breads, special-breads, english-muffins   \n",
       "5                                                                                plant-based-foods-and-beverages, plant-based-foods, fruits-and-vegetables-based-foods, vegetables-based-foods, meals, vegetables, vegetable-rods, leeks   \n",
       "6                                                                                                                                                                                                                                   None   \n",
       "7                                                                                                                                                              snacks, sweet-snacks, cocoa-and-its-products, chocolates, dark-chocolates   \n",
       "8                                                                                                                                                                                                                                   None   \n",
       "9                                                                                                                                                                                                                                   None   \n",
       "10                                                                                                                                                                                                                                  None   \n",
       "11                                                                                                                                                                                        snacks, sweet-snacks, confectioneries, candies   \n",
       "12  plant-based-foods-and-beverages, plant-based-foods, dried-products, dried-plant-based-foods, dried-products-to-be-rehydrated, broths, dehydrated-broths, vegetable-broths, bouillon-cubes, dehydrated-vegetable-bouillons, groceries   \n",
       "13                                                                                                                                                                                                        condiments, sauces, hot-sauces   \n",
       "14     plant-based-foods-and-beverages, plant-based-foods, fruits-and-vegetables-based-foods, breakfasts, spreads, fruits-based-foods, plant-based-spreads, sweet-spreads, fruit-and-vegetable-preserves, jams, apricot-jams, marmalades   \n",
       "15                                                                                                                                                                                             seafood, mollusc, mussels, cooked-mussels   \n",
       "16                                                                                                                                                                     meats-and-their-products, meats, prepared-meats, hams, white-hams   \n",
       "17                                                                                                                                                                                                                     condiments, salts   \n",
       "18                                                                                                                                                                                                                                  None   \n",
       "19                                                                                                                                                                                                                                  None   \n",
       "20                                                                                                                                                                                                                    baking-decorations   \n",
       "21                                                                                                                                                                                                meals, pizzas-pies-and-quiches, pizzas   \n",
       "22                                                                                                                            seafood, fishes-and-their-products, canned-foods, fishes, fatty-fishes, canned-fishes, tunas, canned-tunas   \n",
       "23                                                                                                                                                                                                                                  None   \n",
       "24                                                                                                                                                                                                                                  None   \n",
       "25                                  plant-based-foods-and-beverages, plant-based-foods, fruits-and-vegetables-based-foods, condiments, vegetables-based-foods, culinary-plants, onions-and-their-products, onions, red-onions, groceries   \n",
       "26                                                                                          snacks, sweet-snacks, cocoa-and-its-products, confectioneries, bars, chocolate-candies, bars-covered-with-chocolate, chocolate-biscuity-bars   \n",
       "27                                                                                                                                           frozen-foods, meals, pizzas-pies-and-quiches, pizzas, frozen-pizzas-and-pies, frozen-pizzas   \n",
       "28                                                                                                                                                                                                                                  None   \n",
       "29                                                                                                                                                                                                                                  None   \n",
       "30                                                                                                                                                                                                                                  None   \n",
       "31                                                                                                                                                                                                                                  None   \n",
       "32                                                                                                                                                                                                                                  None   \n",
       "33                                                                                                                                                                                                                                  None   \n",
       "34                                                                                                                                                                                                                                  None   \n",
       "35                                                                                                                                                                                                                                  None   \n",
       "36                                                                                                                                                                                                                                  None   \n",
       "37                                                                                                                                                                                                                                  None   \n",
       "38                                                                                                                                                                                                                             beverages   \n",
       "39                                                                                                                                                                                                                                  None   \n",
       "40                                                                                                                                                                                                                                  None   \n",
       "41                                                                                                                                                                                                                                  None   \n",
       "42                                                                                                                                                                                                                                  None   \n",
       "43                                                                                                                                                                                                                                  None   \n",
       "44                                                                                                                                                                                                                                  None   \n",
       "45                                                                                                                                                                                                                                  None   \n",
       "46                                                                                                                                                                                                                                  None   \n",
       "47                                                                                                                                                                                                                                  None   \n",
       "48                                                                                                                                                                                                                                  None   \n",
       "49                                                                                                                                                                                                                                  None   \n",
       "50                                                                                                                                                                                                                                  None   \n",
       "51                                                                                                                                                                                                                                  None   \n",
       "52                                                                                                                                                                          meats-and-their-products, beef-and-its-products, meats, beef   \n",
       "53      beverages-and-beverages-preparations, plant-based-foods-and-beverages, beverages, plant-based-beverages, fruit-based-beverages, juices-and-nectars, fruit-juices, multifruit-juices, squeezed-juices, squeezed-multifruit-juices   \n",
       "54                                                                                                                                                                                                                                  None   \n",
       "55                                                                                                             snacks, sweet-snacks, cocoa-and-its-products, confectioneries, chocolate-candies, bonbons, chocolates, chocolate-truffles   \n",
       "56                                                                                                                                                                                                                                  None   \n",
       "57                                                                                                                                                                                                                                  None   \n",
       "58                                                                                                                                                                                                                                  None   \n",
       "59                                                                                                                                                                                                                                  None   \n",
       "\n",
       "    labels_note  \n",
       "0             0  \n",
       "1             0  \n",
       "2             0  \n",
       "3             1  \n",
       "4             5  \n",
       "5             0  \n",
       "6             6  \n",
       "7             0  \n",
       "8             0  \n",
       "9             0  \n",
       "10            0  \n",
       "11            3  \n",
       "12            3  \n",
       "13            0  \n",
       "14            4  \n",
       "15            2  \n",
       "16            1  \n",
       "17            2  \n",
       "18            0  \n",
       "19            0  \n",
       "20            0  \n",
       "21            0  \n",
       "22            2  \n",
       "23            0  \n",
       "24            0  \n",
       "25            0  \n",
       "26            0  \n",
       "27            0  \n",
       "28            2  \n",
       "29            0  \n",
       "30            2  \n",
       "31            4  \n",
       "32            0  \n",
       "33            2  \n",
       "34            0  \n",
       "35            3  \n",
       "36            2  \n",
       "37            0  \n",
       "38            0  \n",
       "39            0  \n",
       "40            0  \n",
       "41            0  \n",
       "42            0  \n",
       "43            0  \n",
       "44            0  \n",
       "45            0  \n",
       "46            0  \n",
       "47            0  \n",
       "48            0  \n",
       "49            0  \n",
       "50            0  \n",
       "51            0  \n",
       "52            0  \n",
       "53            0  \n",
       "54            0  \n",
       "55            2  \n",
       "56            0  \n",
       "57            0  \n",
       "58            0  \n",
       "59            0  "
      ]
     },
     "execution_count": 18,
     "metadata": {},
     "output_type": "execute_result"
    }
   ],
   "source": [
    "df = pd.read_json(jsonl_sample, lines=True)\n",
    "df.head(60)"
   ]
  },
  {
   "cell_type": "code",
   "execution_count": 19,
   "metadata": {},
   "outputs": [],
   "source": [
    "def display_first_n_lines_to_dataframe(jsonl_02, num_lines):\n",
    "    data = []\n",
    "    with open(jsonl_02, 'r', encoding='utf-8') as file:\n",
    "        for i, line in enumerate(file):\n",
    "            if i < num_lines:\n",
    "                data.append(json.loads(line.strip()))\n",
    "            else:\n",
    "                break\n",
    "    df_check = pd.DataFrame(data)\n",
    "    return df_check\n",
    "\n",
    "df_check = display_first_n_lines_to_dataframe(jsonl_02, num_lines=60)"
   ]
  },
  {
   "cell_type": "code",
   "execution_count": 20,
   "metadata": {},
   "outputs": [
    {
     "data": {
      "text/html": [
       "<div>\n",
       "<style scoped>\n",
       "    .dataframe tbody tr th:only-of-type {\n",
       "        vertical-align: middle;\n",
       "    }\n",
       "\n",
       "    .dataframe tbody tr th {\n",
       "        vertical-align: top;\n",
       "    }\n",
       "\n",
       "    .dataframe thead th {\n",
       "        text-align: right;\n",
       "    }\n",
       "</style>\n",
       "<table border=\"1\" class=\"dataframe\">\n",
       "  <thead>\n",
       "    <tr style=\"text-align: right;\">\n",
       "      <th></th>\n",
       "      <th>groups</th>\n",
       "      <th>packaging</th>\n",
       "      <th>name</th>\n",
       "      <th>ecoscore_groups</th>\n",
       "      <th>ecoscore_note</th>\n",
       "      <th>code</th>\n",
       "      <th>countries</th>\n",
       "      <th>ingredients</th>\n",
       "      <th>categories</th>\n",
       "      <th>labels_note</th>\n",
       "    </tr>\n",
       "  </thead>\n",
       "  <tbody>\n",
       "    <tr>\n",
       "      <th>0</th>\n",
       "      <td>None</td>\n",
       "      <td>None</td>\n",
       "      <td>Brandenburger Stachelbeere</td>\n",
       "      <td>z</td>\n",
       "      <td>999.0</td>\n",
       "      <td>0</td>\n",
       "      <td>far, germany</td>\n",
       "      <td>None</td>\n",
       "      <td>None</td>\n",
       "      <td>0</td>\n",
       "    </tr>\n",
       "    <tr>\n",
       "      <th>1</th>\n",
       "      <td>Sugary snacks</td>\n",
       "      <td>30g bottle, Slim Bottle</td>\n",
       "      <td>Chocolat au lait</td>\n",
       "      <td>z</td>\n",
       "      <td>999.0</td>\n",
       "      <td>0</td>\n",
       "      <td>france, united states</td>\n",
       "      <td>mode-d-utilisation-utilisez-la-ut-assaisonner-les-potes-les-pizzas-et-lasagnes, prete-o-l-emploi, 182, alba, www-cascinasancassiano-com, pourioogde-produit-dtmurts-leg-prunes-lg-0-3b-4-22-cascina-san-cassiano-c-so-piave</td>\n",
       "      <td>snacks, sweet-snacks, confectioneries, chewing-gum, sugar-free-chewing-gum</td>\n",
       "      <td>0</td>\n",
       "    </tr>\n",
       "    <tr>\n",
       "      <th>2</th>\n",
       "      <td>None</td>\n",
       "      <td>None</td>\n",
       "      <td>Vitória crackers</td>\n",
       "      <td>z</td>\n",
       "      <td>999.0</td>\n",
       "      <td>17</td>\n",
       "      <td>france</td>\n",
       "      <td>None</td>\n",
       "      <td>None</td>\n",
       "      <td>0</td>\n",
       "    </tr>\n",
       "    <tr>\n",
       "      <th>3</th>\n",
       "      <td>Fat and sauces</td>\n",
       "      <td>None</td>\n",
       "      <td>moutarde au moût de raisin</td>\n",
       "      <td>c</td>\n",
       "      <td>54.0</td>\n",
       "      <td>100</td>\n",
       "      <td>france</td>\n",
       "      <td>None</td>\n",
       "      <td>condiments, sauces, mustards, groceries</td>\n",
       "      <td>0</td>\n",
       "    </tr>\n",
       "    <tr>\n",
       "      <th>4</th>\n",
       "      <td>None</td>\n",
       "      <td>None</td>\n",
       "      <td>Sauce Sweety chili 0%</td>\n",
       "      <td>z</td>\n",
       "      <td>999.0</td>\n",
       "      <td>123</td>\n",
       "      <td>france</td>\n",
       "      <td>None</td>\n",
       "      <td>None</td>\n",
       "      <td>0</td>\n",
       "    </tr>\n",
       "    <tr>\n",
       "      <th>5</th>\n",
       "      <td>None</td>\n",
       "      <td>None</td>\n",
       "      <td>Mendiants</td>\n",
       "      <td>z</td>\n",
       "      <td>999.0</td>\n",
       "      <td>291</td>\n",
       "      <td>france</td>\n",
       "      <td>None</td>\n",
       "      <td>None</td>\n",
       "      <td>0</td>\n",
       "    </tr>\n",
       "    <tr>\n",
       "      <th>6</th>\n",
       "      <td>Composite foods</td>\n",
       "      <td>None</td>\n",
       "      <td>Salade de carottes râpées</td>\n",
       "      <td>b</td>\n",
       "      <td>75.0</td>\n",
       "      <td>949</td>\n",
       "      <td>france</td>\n",
       "      <td>None</td>\n",
       "      <td>plant-based-foods-and-beverages, plant-based-foods, fruits-and-vegetables-based-foods, vegetables-based-foods, meals, vegetables, prepared-vegetables, carrots, carrot-salads, grated-carrots, seasoned-grated-carrots</td>\n",
       "      <td>0</td>\n",
       "    </tr>\n",
       "    <tr>\n",
       "      <th>7</th>\n",
       "      <td>None</td>\n",
       "      <td>None</td>\n",
       "      <td>Fromage blanc aux myrtilles</td>\n",
       "      <td>z</td>\n",
       "      <td>999.0</td>\n",
       "      <td>970</td>\n",
       "      <td>france</td>\n",
       "      <td>None</td>\n",
       "      <td>None</td>\n",
       "      <td>0</td>\n",
       "    </tr>\n",
       "    <tr>\n",
       "      <th>8</th>\n",
       "      <td>None</td>\n",
       "      <td>None</td>\n",
       "      <td>Solène céréales poulet</td>\n",
       "      <td>z</td>\n",
       "      <td>999.0</td>\n",
       "      <td>1199</td>\n",
       "      <td>france</td>\n",
       "      <td>antioxidant, colour, tomato, vegetable, fruit-vegetable, mayonnaise, sauce, e316, e150, colza-oil, oil-and-fat, vegetable-oil-and-fat, rapeseed-oil, water, egg-yolk, egg, vinegar, mustard, salt, dextrose, added-sugar, monosaccharide, glucose, stabiliser, preservative, flavouring, mustard-seed, condiment, spice, turmeric, e466, e202, e160a</td>\n",
       "      <td>None</td>\n",
       "      <td>0</td>\n",
       "    </tr>\n",
       "    <tr>\n",
       "      <th>9</th>\n",
       "      <td>Composite foods</td>\n",
       "      <td>Plastique, Barquette</td>\n",
       "      <td>Tarte noix de coco</td>\n",
       "      <td>z</td>\n",
       "      <td>999.0</td>\n",
       "      <td>1281</td>\n",
       "      <td>france</td>\n",
       "      <td>None</td>\n",
       "      <td>sweet-pies, pies, coconut-pies</td>\n",
       "      <td>0</td>\n",
       "    </tr>\n",
       "    <tr>\n",
       "      <th>10</th>\n",
       "      <td>None</td>\n",
       "      <td>None</td>\n",
       "      <td>Salade de fruits exotiques</td>\n",
       "      <td>z</td>\n",
       "      <td>999.0</td>\n",
       "      <td>1311</td>\n",
       "      <td>france</td>\n",
       "      <td>None</td>\n",
       "      <td>None</td>\n",
       "      <td>0</td>\n",
       "    </tr>\n",
       "    <tr>\n",
       "      <th>11</th>\n",
       "      <td>None</td>\n",
       "      <td>None</td>\n",
       "      <td>Chouquettes x 30</td>\n",
       "      <td>z</td>\n",
       "      <td>999.0</td>\n",
       "      <td>1328</td>\n",
       "      <td>france</td>\n",
       "      <td>None</td>\n",
       "      <td>None</td>\n",
       "      <td>0</td>\n",
       "    </tr>\n",
       "    <tr>\n",
       "      <th>12</th>\n",
       "      <td>None</td>\n",
       "      <td>None</td>\n",
       "      <td>Fromage blanc pêche</td>\n",
       "      <td>z</td>\n",
       "      <td>999.0</td>\n",
       "      <td>1564</td>\n",
       "      <td>france</td>\n",
       "      <td>None</td>\n",
       "      <td>None</td>\n",
       "      <td>0</td>\n",
       "    </tr>\n",
       "    <tr>\n",
       "      <th>13</th>\n",
       "      <td>None</td>\n",
       "      <td>None</td>\n",
       "      <td>Crème dessert chocolat</td>\n",
       "      <td>z</td>\n",
       "      <td>999.0</td>\n",
       "      <td>1663</td>\n",
       "      <td>france</td>\n",
       "      <td>whole-milk, dairy, milk, sugar, added-sugar, disaccharide, corn-starch, starch, cocoa, plant, e406</td>\n",
       "      <td>None</td>\n",
       "      <td>0</td>\n",
       "    </tr>\n",
       "    <tr>\n",
       "      <th>14</th>\n",
       "      <td>Fruits and vegetables</td>\n",
       "      <td>None</td>\n",
       "      <td>Compote de poire</td>\n",
       "      <td>b</td>\n",
       "      <td>76.0</td>\n",
       "      <td>1885</td>\n",
       "      <td>france</td>\n",
       "      <td>None</td>\n",
       "      <td>plant-based-foods-and-beverages, plant-based-foods, fruits-and-vegetables-based-foods, desserts, fruits-based-foods, compotes, pear-compotes</td>\n",
       "      <td>0</td>\n",
       "    </tr>\n",
       "    <tr>\n",
       "      <th>15</th>\n",
       "      <td>None</td>\n",
       "      <td>None</td>\n",
       "      <td>Paëlla de poulet</td>\n",
       "      <td>z</td>\n",
       "      <td>999.0</td>\n",
       "      <td>2042</td>\n",
       "      <td>france</td>\n",
       "      <td>None</td>\n",
       "      <td>None</td>\n",
       "      <td>0</td>\n",
       "    </tr>\n",
       "    <tr>\n",
       "      <th>16</th>\n",
       "      <td>None</td>\n",
       "      <td>None</td>\n",
       "      <td>Salade shaker chef</td>\n",
       "      <td>z</td>\n",
       "      <td>999.0</td>\n",
       "      <td>2219</td>\n",
       "      <td>france</td>\n",
       "      <td>None</td>\n",
       "      <td>None</td>\n",
       "      <td>0</td>\n",
       "    </tr>\n",
       "    <tr>\n",
       "      <th>17</th>\n",
       "      <td>Composite foods</td>\n",
       "      <td>None</td>\n",
       "      <td>Salade de macedoine de légumes</td>\n",
       "      <td>b</td>\n",
       "      <td>77.0</td>\n",
       "      <td>2257</td>\n",
       "      <td>france</td>\n",
       "      <td>None</td>\n",
       "      <td>plant-based-foods-and-beverages, plant-based-foods, snacks, salty-snacks, appetizers, meals, prepared-vegetables, cold-starters, vegetables-macedoines</td>\n",
       "      <td>0</td>\n",
       "    </tr>\n",
       "    <tr>\n",
       "      <th>18</th>\n",
       "      <td>None</td>\n",
       "      <td>None</td>\n",
       "      <td>Baguette Poitevin</td>\n",
       "      <td>z</td>\n",
       "      <td>999.0</td>\n",
       "      <td>2264</td>\n",
       "      <td>france</td>\n",
       "      <td>water, salt, yeast, gluten, deactivated-yeast, e300, wheat-flour, cereal, flour, wheat, cereal-flour, pasteurised-milk, dairy, milk, coagulant</td>\n",
       "      <td>None</td>\n",
       "      <td>0</td>\n",
       "    </tr>\n",
       "    <tr>\n",
       "      <th>19</th>\n",
       "      <td>None</td>\n",
       "      <td>None</td>\n",
       "      <td>Ciabatta Bombay</td>\n",
       "      <td>z</td>\n",
       "      <td>999.0</td>\n",
       "      <td>2400</td>\n",
       "      <td>france</td>\n",
       "      <td>None</td>\n",
       "      <td>None</td>\n",
       "      <td>0</td>\n",
       "    </tr>\n",
       "    <tr>\n",
       "      <th>20</th>\n",
       "      <td>None</td>\n",
       "      <td>None</td>\n",
       "      <td>Ciabatta Roma</td>\n",
       "      <td>z</td>\n",
       "      <td>999.0</td>\n",
       "      <td>2417</td>\n",
       "      <td>france</td>\n",
       "      <td>None</td>\n",
       "      <td>None</td>\n",
       "      <td>0</td>\n",
       "    </tr>\n",
       "    <tr>\n",
       "      <th>21</th>\n",
       "      <td>None</td>\n",
       "      <td>None</td>\n",
       "      <td>Farine de blé noir</td>\n",
       "      <td>z</td>\n",
       "      <td>999.0</td>\n",
       "      <td>3087</td>\n",
       "      <td>france</td>\n",
       "      <td>None</td>\n",
       "      <td>None</td>\n",
       "      <td>0</td>\n",
       "    </tr>\n",
       "    <tr>\n",
       "      <th>22</th>\n",
       "      <td>None</td>\n",
       "      <td>None</td>\n",
       "      <td>Mousse chocolat douceur</td>\n",
       "      <td>z</td>\n",
       "      <td>999.0</td>\n",
       "      <td>3384</td>\n",
       "      <td>france</td>\n",
       "      <td>None</td>\n",
       "      <td>None</td>\n",
       "      <td>0</td>\n",
       "    </tr>\n",
       "    <tr>\n",
       "      <th>23</th>\n",
       "      <td>None</td>\n",
       "      <td>None</td>\n",
       "      <td>Coca des flandres</td>\n",
       "      <td>z</td>\n",
       "      <td>999.0</td>\n",
       "      <td>3780</td>\n",
       "      <td>france</td>\n",
       "      <td>None</td>\n",
       "      <td>None</td>\n",
       "      <td>0</td>\n",
       "    </tr>\n",
       "    <tr>\n",
       "      <th>24</th>\n",
       "      <td>None</td>\n",
       "      <td>None</td>\n",
       "      <td>Brochettes dinde</td>\n",
       "      <td>z</td>\n",
       "      <td>999.0</td>\n",
       "      <td>3803</td>\n",
       "      <td>france</td>\n",
       "      <td>None</td>\n",
       "      <td>None</td>\n",
       "      <td>0</td>\n",
       "    </tr>\n",
       "    <tr>\n",
       "      <th>25</th>\n",
       "      <td>None</td>\n",
       "      <td>None</td>\n",
       "      <td>Suedois saumon</td>\n",
       "      <td>z</td>\n",
       "      <td>999.0</td>\n",
       "      <td>3827</td>\n",
       "      <td>france</td>\n",
       "      <td>water, rye-flour, flour, cereal-flour, sugar, added-sugar, disaccharide, colza-oil, oil-and-fat, vegetable-oil-and-fat, rapeseed-oil, sugar-syrup, wheat-gluten, gluten, salt, yeast, sourdough, dough, raising-agent, fructose, monosaccharide, flour-treatment-agent, enzyme, filling, salad, vegetable, wheat-flour, cereal, wheat, rye, e503, e300, atlantic-salmon, fish, oily-fish, salmon</td>\n",
       "      <td>None</td>\n",
       "      <td>0</td>\n",
       "    </tr>\n",
       "    <tr>\n",
       "      <th>26</th>\n",
       "      <td>None</td>\n",
       "      <td>None</td>\n",
       "      <td>Salade shaker taboulé</td>\n",
       "      <td>z</td>\n",
       "      <td>999.0</td>\n",
       "      <td>4510</td>\n",
       "      <td>france</td>\n",
       "      <td>vegetable, colza-oil, oil-and-fat, vegetable-oil-and-fat, rapeseed-oil, salt, mint, herb, lemon-juice, fruit, juice, fruit-juice, sugar, added-sugar, disaccharide, preservative, flavouring, e202</td>\n",
       "      <td>None</td>\n",
       "      <td>0</td>\n",
       "    </tr>\n",
       "    <tr>\n",
       "      <th>27</th>\n",
       "      <td>None</td>\n",
       "      <td>None</td>\n",
       "      <td>Banana Chips Sweetened (Whole)</td>\n",
       "      <td>z</td>\n",
       "      <td>999.0</td>\n",
       "      <td>4530</td>\n",
       "      <td>united states</td>\n",
       "      <td>banana, fruit, vegetable-oil, oil-and-fat, vegetable-oil-and-fat, sugar, added-sugar, disaccharide, natural-banana-flavouring, flavouring, natural-flavouring, coconut-oil, corn-oil, palm-oil, palm-oil-and-fat</td>\n",
       "      <td>None</td>\n",
       "      <td>0</td>\n",
       "    </tr>\n",
       "    <tr>\n",
       "      <th>28</th>\n",
       "      <td>None</td>\n",
       "      <td>None</td>\n",
       "      <td>Peanuts</td>\n",
       "      <td>z</td>\n",
       "      <td>999.0</td>\n",
       "      <td>4559</td>\n",
       "      <td>united states</td>\n",
       "      <td>peanut, nut, wheat-flour, cereal, flour, wheat, cereal-flour, sugar, added-sugar, disaccharide, rice-flour, rice, tapioca, starch, salt, raising-agent, soy-sauce, sauce, potato-starch, e503ii, e503, e500ii, e500, water, soya-bean, vegetable, legume, pulse, soya</td>\n",
       "      <td>None</td>\n",
       "      <td>0</td>\n",
       "    </tr>\n",
       "    <tr>\n",
       "      <th>29</th>\n",
       "      <td>None</td>\n",
       "      <td>None</td>\n",
       "      <td>Pain epeautre</td>\n",
       "      <td>z</td>\n",
       "      <td>999.0</td>\n",
       "      <td>4572</td>\n",
       "      <td>france</td>\n",
       "      <td>None</td>\n",
       "      <td>None</td>\n",
       "      <td>0</td>\n",
       "    </tr>\n",
       "    <tr>\n",
       "      <th>30</th>\n",
       "      <td>None</td>\n",
       "      <td>None</td>\n",
       "      <td>Fromage blanc à la creme de marron</td>\n",
       "      <td>z</td>\n",
       "      <td>999.0</td>\n",
       "      <td>4794</td>\n",
       "      <td>france</td>\n",
       "      <td>sugar, added-sugar, disaccharide</td>\n",
       "      <td>None</td>\n",
       "      <td>0</td>\n",
       "    </tr>\n",
       "    <tr>\n",
       "      <th>31</th>\n",
       "      <td>Milk and dairy products</td>\n",
       "      <td>None</td>\n",
       "      <td>Abondance</td>\n",
       "      <td>c</td>\n",
       "      <td>52.0</td>\n",
       "      <td>5005</td>\n",
       "      <td>france</td>\n",
       "      <td>None</td>\n",
       "      <td>dairies, fermented-foods, fermented-milk-products, cheeses, french-cheeses, abondance</td>\n",
       "      <td>0</td>\n",
       "    </tr>\n",
       "    <tr>\n",
       "      <th>32</th>\n",
       "      <td>None</td>\n",
       "      <td>None</td>\n",
       "      <td>Salade verte</td>\n",
       "      <td>z</td>\n",
       "      <td>999.0</td>\n",
       "      <td>5081</td>\n",
       "      <td>france</td>\n",
       "      <td>None</td>\n",
       "      <td>None</td>\n",
       "      <td>0</td>\n",
       "    </tr>\n",
       "    <tr>\n",
       "      <th>33</th>\n",
       "      <td>None</td>\n",
       "      <td>None</td>\n",
       "      <td>Sandwich solene céréales sicilien</td>\n",
       "      <td>z</td>\n",
       "      <td>999.0</td>\n",
       "      <td>5272</td>\n",
       "      <td>france</td>\n",
       "      <td>salt, yeast, filling, coppa, animal, meat, pork, pork-meat, ham, salad, vegetable, tomato, fruit-vegetable, basil, herb, olive-oil, oil-and-fat, vegetable-oil-and-fat, vegetable-oil, wheat-flour, cereal, flour, wheat, cereal-flour, wheat-gluten, gluten, whole-wheat-flour, wholemeal-flour, corn-flour, corn, durum-wheat-semolina, durum-wheat, semolina, flax-seed, seed, flax, sesame-seeds, sesame, rye-flour, corn-dextrose, added-sugar, monosaccharide, glucose, dextrose, fennel, stalk-vegetable, natural-flavouring, flavouring, sugar, disaccharide, preservative, e252, e250</td>\n",
       "      <td>None</td>\n",
       "      <td>0</td>\n",
       "    </tr>\n",
       "    <tr>\n",
       "      <th>34</th>\n",
       "      <td>None</td>\n",
       "      <td>None</td>\n",
       "      <td>Brioché poulet caesar</td>\n",
       "      <td>z</td>\n",
       "      <td>999.0</td>\n",
       "      <td>5388</td>\n",
       "      <td>france</td>\n",
       "      <td>None</td>\n",
       "      <td>None</td>\n",
       "      <td>0</td>\n",
       "    </tr>\n",
       "    <tr>\n",
       "      <th>35</th>\n",
       "      <td>Cereals and potatoes</td>\n",
       "      <td>None</td>\n",
       "      <td>BAguette bressan</td>\n",
       "      <td>b</td>\n",
       "      <td>77.0</td>\n",
       "      <td>5470</td>\n",
       "      <td>france</td>\n",
       "      <td>wheat-flour, cereal, flour, wheat, cereal-flour, water, salt, yeast, gluten, malted-wheat-flour, deactivated-yeast, e300, filling, acid, modified-tapioca-starch, starch, modified-starch, tapioca, flavouring, colour, bone, chicken-fillet, poultry, chicken, chicken-meat, e326, e262i, e262</td>\n",
       "      <td>plant-based-foods-and-beverages, plant-based-foods, cereals-and-potatoes, breads, baguettes</td>\n",
       "      <td>0</td>\n",
       "    </tr>\n",
       "    <tr>\n",
       "      <th>36</th>\n",
       "      <td>Fish Meat Eggs</td>\n",
       "      <td>None</td>\n",
       "      <td>Pavé de saumon fumé à la ficelle</td>\n",
       "      <td>e</td>\n",
       "      <td>9.0</td>\n",
       "      <td>5661</td>\n",
       "      <td>france</td>\n",
       "      <td>None</td>\n",
       "      <td>seafood, fishes-and-their-products, fishes, fatty-fishes, salmons, smoked-fishes, smoked-salmons, salmon-steaks</td>\n",
       "      <td>0</td>\n",
       "    </tr>\n",
       "    <tr>\n",
       "      <th>37</th>\n",
       "      <td>None</td>\n",
       "      <td>None</td>\n",
       "      <td>Torti au saumon fumé</td>\n",
       "      <td>z</td>\n",
       "      <td>999.0</td>\n",
       "      <td>7009</td>\n",
       "      <td>france</td>\n",
       "      <td>None</td>\n",
       "      <td>None</td>\n",
       "      <td>0</td>\n",
       "    </tr>\n",
       "    <tr>\n",
       "      <th>38</th>\n",
       "      <td>Fish Meat Eggs</td>\n",
       "      <td>None</td>\n",
       "      <td>CORNED BEEF</td>\n",
       "      <td>z</td>\n",
       "      <td>999.0</td>\n",
       "      <td>7160</td>\n",
       "      <td>france</td>\n",
       "      <td>None</td>\n",
       "      <td>canned-foods, meats-and-their-products, meals, meats, meals-with-meat, beef-dishes, canned-meats, corned-beef</td>\n",
       "      <td>0</td>\n",
       "    </tr>\n",
       "    <tr>\n",
       "      <th>39</th>\n",
       "      <td>None</td>\n",
       "      <td>None</td>\n",
       "      <td>Mediterranean Pasta Salad</td>\n",
       "      <td>z</td>\n",
       "      <td>999.0</td>\n",
       "      <td>9317</td>\n",
       "      <td>far</td>\n",
       "      <td>None</td>\n",
       "      <td>None</td>\n",
       "      <td>0</td>\n",
       "    </tr>\n",
       "    <tr>\n",
       "      <th>40</th>\n",
       "      <td>None</td>\n",
       "      <td>None</td>\n",
       "      <td>Pâte de fruit fraise</td>\n",
       "      <td>z</td>\n",
       "      <td>999.0</td>\n",
       "      <td>14595</td>\n",
       "      <td>france</td>\n",
       "      <td>None</td>\n",
       "      <td>None</td>\n",
       "      <td>6</td>\n",
       "    </tr>\n",
       "    <tr>\n",
       "      <th>41</th>\n",
       "      <td>None</td>\n",
       "      <td>None</td>\n",
       "      <td>Organic Salted Nut Mix</td>\n",
       "      <td>z</td>\n",
       "      <td>999.0</td>\n",
       "      <td>16087</td>\n",
       "      <td>united states</td>\n",
       "      <td>hazelnut, nut, tree-nut, cashew-nuts, walnuts-almonds, sunflower-oil, oil-and-fat, vegetable-oil-and-fat, vegetable-oil, sea-salt, salt</td>\n",
       "      <td>None</td>\n",
       "      <td>1</td>\n",
       "    </tr>\n",
       "    <tr>\n",
       "      <th>42</th>\n",
       "      <td>None</td>\n",
       "      <td>None</td>\n",
       "      <td>Organic Polenta</td>\n",
       "      <td>z</td>\n",
       "      <td>999.0</td>\n",
       "      <td>16094</td>\n",
       "      <td>united states</td>\n",
       "      <td>polenta</td>\n",
       "      <td>None</td>\n",
       "      <td>1</td>\n",
       "    </tr>\n",
       "    <tr>\n",
       "      <th>43</th>\n",
       "      <td>None</td>\n",
       "      <td>None</td>\n",
       "      <td>Breadshop Honey Gone Nuts Granola</td>\n",
       "      <td>z</td>\n",
       "      <td>999.0</td>\n",
       "      <td>16100</td>\n",
       "      <td>united states</td>\n",
       "      <td>oat-flakes, cereal, oat, grape, fruit, berries, canola-oil, oil-and-fat, vegetable-oil-and-fat, rapeseed-oil, sunflower-seed, plant, seed, sunflower, almond, nut, tree-nut, walnuts-oat-bran, sesame-seeds, sesame, cashew-nuts, natural-vitamin-e</td>\n",
       "      <td>None</td>\n",
       "      <td>0</td>\n",
       "    </tr>\n",
       "    <tr>\n",
       "      <th>44</th>\n",
       "      <td>None</td>\n",
       "      <td>None</td>\n",
       "      <td>Organic Long Grain White Rice</td>\n",
       "      <td>z</td>\n",
       "      <td>999.0</td>\n",
       "      <td>16117</td>\n",
       "      <td>united states</td>\n",
       "      <td>long-grain-white-rice, rice, long-grain-rice, white-rice</td>\n",
       "      <td>None</td>\n",
       "      <td>1</td>\n",
       "    </tr>\n",
       "    <tr>\n",
       "      <th>45</th>\n",
       "      <td>None</td>\n",
       "      <td>None</td>\n",
       "      <td>Organic Muesli</td>\n",
       "      <td>z</td>\n",
       "      <td>999.0</td>\n",
       "      <td>16124</td>\n",
       "      <td>united states</td>\n",
       "      <td>org-oats, org-hemp-granola, org-raisins, org-dates, org-almonds, org-hazelnuts, org-coconut, org-sunflower-seeds, org-pumpkin-seeds, org-flax-seeds, org-corn-flakes, org-quinoa-amaranth-flakes, evaporated-cane-juice, sugarcane, sugarcane-juice, org-expeller-pressed-canola-oil, crispy-rice, org-oat-solids, hemp-seed, seed, org-corn-meal, org-grape-and-pear-juice-concentrate, sea-salt, salt, org-yellow-corn-flour, org-evaporated-cane-juice, org-flax, org-buckwheat-flour, org-quinoa, org-amaranth, e306, org-brown-rice-flour, org-molasses, natural-vitamin-e</td>\n",
       "      <td>None</td>\n",
       "      <td>1</td>\n",
       "    </tr>\n",
       "    <tr>\n",
       "      <th>46</th>\n",
       "      <td>None</td>\n",
       "      <td>None</td>\n",
       "      <td>Organic Dark Chocolate Minis</td>\n",
       "      <td>z</td>\n",
       "      <td>999.0</td>\n",
       "      <td>16193</td>\n",
       "      <td>united states</td>\n",
       "      <td>cocoa-paste, plant, cocoa, unrefined-cane-sugar, added-sugar, disaccharide, sugar, cane-sugar, unrefined-sugar, cocoa-butter, unrefined-whole-cane-sugar, whole-cane-sugar, ground-vanilla-beans, vanilla, vanilla-pod</td>\n",
       "      <td>None</td>\n",
       "      <td>1</td>\n",
       "    </tr>\n",
       "    <tr>\n",
       "      <th>47</th>\n",
       "      <td>None</td>\n",
       "      <td>None</td>\n",
       "      <td>Organic Sunflower Oil</td>\n",
       "      <td>z</td>\n",
       "      <td>999.0</td>\n",
       "      <td>16513</td>\n",
       "      <td>united states</td>\n",
       "      <td>expeller-pressed, high-oleic-sunflower-oil, oil-and-fat, vegetable-oil-and-fat, vegetable-oil, sunflower-oil</td>\n",
       "      <td>None</td>\n",
       "      <td>1</td>\n",
       "    </tr>\n",
       "    <tr>\n",
       "      <th>48</th>\n",
       "      <td>None</td>\n",
       "      <td>None</td>\n",
       "      <td>Organic Adzuki Beans</td>\n",
       "      <td>z</td>\n",
       "      <td>999.0</td>\n",
       "      <td>16612</td>\n",
       "      <td>united states</td>\n",
       "      <td>adzuki-bean, vegetable, legume, pulse</td>\n",
       "      <td>None</td>\n",
       "      <td>1</td>\n",
       "    </tr>\n",
       "    <tr>\n",
       "      <th>49</th>\n",
       "      <td>None</td>\n",
       "      <td>None</td>\n",
       "      <td>Organic Penne Pasta</td>\n",
       "      <td>z</td>\n",
       "      <td>999.0</td>\n",
       "      <td>16650</td>\n",
       "      <td>united states</td>\n",
       "      <td>refined-durum-semolina-wheat-flour</td>\n",
       "      <td>None</td>\n",
       "      <td>1</td>\n",
       "    </tr>\n",
       "    <tr>\n",
       "      <th>50</th>\n",
       "      <td>None</td>\n",
       "      <td>None</td>\n",
       "      <td>Zen Party Mix</td>\n",
       "      <td>z</td>\n",
       "      <td>999.0</td>\n",
       "      <td>16872</td>\n",
       "      <td>united states</td>\n",
       "      <td>roasted-peanuts, nut, peanut, sesame-sticks, chili-crackers, tamari-roasted-almonds, salt, canola-oil, oil-and-fat, vegetable-oil-and-fat, rapeseed-oil, wheat-flour, cereal, flour, wheat, cereal-flour, sesame-seeds, seed, sesame, sunflower-oil, vegetable-oil, sa, t, beetroot, vegetable, root-vegetable, taproot-vegetable, turmeric, condiment, spice, rice, corn-starch, starch, soy-sauce, sauce, brown-rice-syrup, added-sugar, disaccharide, rice-syrup, paprika, onion, onion-family-vegetable, garlic, almond, tree-nut, tamari-shoyu, water, soya-bean, legume, pulse, soya</td>\n",
       "      <td>None</td>\n",
       "      <td>0</td>\n",
       "    </tr>\n",
       "    <tr>\n",
       "      <th>51</th>\n",
       "      <td>None</td>\n",
       "      <td>None</td>\n",
       "      <td>Organic Golden Flax Seeds</td>\n",
       "      <td>z</td>\n",
       "      <td>999.0</td>\n",
       "      <td>16933</td>\n",
       "      <td>united states</td>\n",
       "      <td>golden-flax-seeds, seed, flax, flax-seed</td>\n",
       "      <td>None</td>\n",
       "      <td>1</td>\n",
       "    </tr>\n",
       "    <tr>\n",
       "      <th>52</th>\n",
       "      <td>None</td>\n",
       "      <td>None</td>\n",
       "      <td>Organic Spicy Punks</td>\n",
       "      <td>z</td>\n",
       "      <td>999.0</td>\n",
       "      <td>17497</td>\n",
       "      <td>united states</td>\n",
       "      <td>pumpkin-seed, vegetable, fruit-vegetable, seed, pumpkin, tamari, sauce, soy-sauce, garlic, root-vegetable, onion-family-vegetable, cayenne-pepper, condiment, spice, soya-bean, legume, pulse, soya, water, salt</td>\n",
       "      <td>None</td>\n",
       "      <td>1</td>\n",
       "    </tr>\n",
       "    <tr>\n",
       "      <th>53</th>\n",
       "      <td>None</td>\n",
       "      <td>None</td>\n",
       "      <td>Cinnamon Nut Granola</td>\n",
       "      <td>z</td>\n",
       "      <td>999.0</td>\n",
       "      <td>18012</td>\n",
       "      <td>united states</td>\n",
       "      <td>oat-flakes, cereal, oat, honey, added-sugar, raisin, fruit, berries, grape, almond, nut, tree-nut, sunflower-seed, plant, seed, sunflower, walnut, wheat-germ, wheat, unrefined-expeller-pressed-safflower-oil, molasses, disaccharide, sugar, cinnamon, condiment, spice</td>\n",
       "      <td>None</td>\n",
       "      <td>0</td>\n",
       "    </tr>\n",
       "    <tr>\n",
       "      <th>54</th>\n",
       "      <td>None</td>\n",
       "      <td>None</td>\n",
       "      <td>Organic Hazelnuts</td>\n",
       "      <td>z</td>\n",
       "      <td>999.0</td>\n",
       "      <td>18050</td>\n",
       "      <td>united states</td>\n",
       "      <td>hazelnut, nut, tree-nut</td>\n",
       "      <td>None</td>\n",
       "      <td>1</td>\n",
       "    </tr>\n",
       "    <tr>\n",
       "      <th>55</th>\n",
       "      <td>None</td>\n",
       "      <td>None</td>\n",
       "      <td>Organic Sweetened Banana Chips</td>\n",
       "      <td>z</td>\n",
       "      <td>999.0</td>\n",
       "      <td>18173</td>\n",
       "      <td>united states</td>\n",
       "      <td>banana, fruit, coconut-oil, oil-and-fat, vegetable-oil-and-fat, vegetable-oil, sugar, added-sugar, disaccharide</td>\n",
       "      <td>None</td>\n",
       "      <td>1</td>\n",
       "    </tr>\n",
       "    <tr>\n",
       "      <th>56</th>\n",
       "      <td>None</td>\n",
       "      <td>None</td>\n",
       "      <td>Lotus Organic Brown Jasmine Rice</td>\n",
       "      <td>z</td>\n",
       "      <td>999.0</td>\n",
       "      <td>18197</td>\n",
       "      <td>united states</td>\n",
       "      <td>brown-jasmine-rice</td>\n",
       "      <td>None</td>\n",
       "      <td>1</td>\n",
       "    </tr>\n",
       "    <tr>\n",
       "      <th>57</th>\n",
       "      <td>None</td>\n",
       "      <td>None</td>\n",
       "      <td>Organic Oat Groats</td>\n",
       "      <td>z</td>\n",
       "      <td>999.0</td>\n",
       "      <td>18227</td>\n",
       "      <td>united states</td>\n",
       "      <td>oat-groats</td>\n",
       "      <td>None</td>\n",
       "      <td>1</td>\n",
       "    </tr>\n",
       "    <tr>\n",
       "      <th>58</th>\n",
       "      <td>None</td>\n",
       "      <td>None</td>\n",
       "      <td>Energy Power Mix</td>\n",
       "      <td>z</td>\n",
       "      <td>999.0</td>\n",
       "      <td>18265</td>\n",
       "      <td>united states</td>\n",
       "      <td>yogurt-raisins, tamari-roasted-almonds, tamari-roasted-soy-nuts, dark-chocolate-stars, cranberry, fruit, dark-chocolate-chunks, chocolate, dark-chocolate, peanut-paste, nut, peanut, milk-chocolate-raisins, pineapple, papaya, peanut-butter-peanuts-and-raisins, roasted-peanuts</td>\n",
       "      <td>None</td>\n",
       "      <td>0</td>\n",
       "    </tr>\n",
       "    <tr>\n",
       "      <th>59</th>\n",
       "      <td>None</td>\n",
       "      <td>None</td>\n",
       "      <td>Antioxidant Mix - Berries &amp; Chocolate</td>\n",
       "      <td>z</td>\n",
       "      <td>999.0</td>\n",
       "      <td>18289</td>\n",
       "      <td>united states</td>\n",
       "      <td>chocolate-stars, roasted-peanuts, nut, peanut, dry-roasted-almonds, tree-nut, almond, cashew-nuts, cranberry, fruit, cherry, prunus-species-fruit, walnut, blueberry, berries, sugarcane-juice, sugarcane, chocolate, cocoa-butter, plant, cocoa, soya-lecithin, e322, e322i, natural-vanilla, vanilla, safflower, and-canola-oil, salt, sea-salt, evaporated-cane-juice, sunflower-oil, oil-and-fat, vegetable-oil-and-fat, vegetable-oil, emulsifier</td>\n",
       "      <td>None</td>\n",
       "      <td>0</td>\n",
       "    </tr>\n",
       "  </tbody>\n",
       "</table>\n",
       "</div>"
      ],
      "text/plain": [
       "                     groups                packaging  \\\n",
       "0                      None                     None   \n",
       "1             Sugary snacks  30g bottle, Slim Bottle   \n",
       "2                      None                     None   \n",
       "3            Fat and sauces                     None   \n",
       "4                      None                     None   \n",
       "5                      None                     None   \n",
       "6           Composite foods                     None   \n",
       "7                      None                     None   \n",
       "8                      None                     None   \n",
       "9           Composite foods     Plastique, Barquette   \n",
       "10                     None                     None   \n",
       "11                     None                     None   \n",
       "12                     None                     None   \n",
       "13                     None                     None   \n",
       "14    Fruits and vegetables                     None   \n",
       "15                     None                     None   \n",
       "16                     None                     None   \n",
       "17          Composite foods                     None   \n",
       "18                     None                     None   \n",
       "19                     None                     None   \n",
       "20                     None                     None   \n",
       "21                     None                     None   \n",
       "22                     None                     None   \n",
       "23                     None                     None   \n",
       "24                     None                     None   \n",
       "25                     None                     None   \n",
       "26                     None                     None   \n",
       "27                     None                     None   \n",
       "28                     None                     None   \n",
       "29                     None                     None   \n",
       "30                     None                     None   \n",
       "31  Milk and dairy products                     None   \n",
       "32                     None                     None   \n",
       "33                     None                     None   \n",
       "34                     None                     None   \n",
       "35     Cereals and potatoes                     None   \n",
       "36           Fish Meat Eggs                     None   \n",
       "37                     None                     None   \n",
       "38           Fish Meat Eggs                     None   \n",
       "39                     None                     None   \n",
       "40                     None                     None   \n",
       "41                     None                     None   \n",
       "42                     None                     None   \n",
       "43                     None                     None   \n",
       "44                     None                     None   \n",
       "45                     None                     None   \n",
       "46                     None                     None   \n",
       "47                     None                     None   \n",
       "48                     None                     None   \n",
       "49                     None                     None   \n",
       "50                     None                     None   \n",
       "51                     None                     None   \n",
       "52                     None                     None   \n",
       "53                     None                     None   \n",
       "54                     None                     None   \n",
       "55                     None                     None   \n",
       "56                     None                     None   \n",
       "57                     None                     None   \n",
       "58                     None                     None   \n",
       "59                     None                     None   \n",
       "\n",
       "                                     name ecoscore_groups  ecoscore_note  \\\n",
       "0              Brandenburger Stachelbeere               z          999.0   \n",
       "1                        Chocolat au lait               z          999.0   \n",
       "2                        Vitória crackers               z          999.0   \n",
       "3             moutarde au moût de raisin                c           54.0   \n",
       "4                   Sauce Sweety chili 0%               z          999.0   \n",
       "5                               Mendiants               z          999.0   \n",
       "6               Salade de carottes râpées               b           75.0   \n",
       "7             Fromage blanc aux myrtilles               z          999.0   \n",
       "8                  Solène céréales poulet               z          999.0   \n",
       "9                      Tarte noix de coco               z          999.0   \n",
       "10             Salade de fruits exotiques               z          999.0   \n",
       "11                       Chouquettes x 30               z          999.0   \n",
       "12                    Fromage blanc pêche               z          999.0   \n",
       "13                 Crème dessert chocolat               z          999.0   \n",
       "14                       Compote de poire               b           76.0   \n",
       "15                       Paëlla de poulet               z          999.0   \n",
       "16                     Salade shaker chef               z          999.0   \n",
       "17         Salade de macedoine de légumes               b           77.0   \n",
       "18                      Baguette Poitevin               z          999.0   \n",
       "19                        Ciabatta Bombay               z          999.0   \n",
       "20                          Ciabatta Roma               z          999.0   \n",
       "21                     Farine de blé noir               z          999.0   \n",
       "22                Mousse chocolat douceur               z          999.0   \n",
       "23                      Coca des flandres               z          999.0   \n",
       "24                       Brochettes dinde               z          999.0   \n",
       "25                         Suedois saumon               z          999.0   \n",
       "26                  Salade shaker taboulé               z          999.0   \n",
       "27         Banana Chips Sweetened (Whole)               z          999.0   \n",
       "28                                Peanuts               z          999.0   \n",
       "29                          Pain epeautre               z          999.0   \n",
       "30     Fromage blanc à la creme de marron               z          999.0   \n",
       "31                              Abondance               c           52.0   \n",
       "32                           Salade verte               z          999.0   \n",
       "33      Sandwich solene céréales sicilien               z          999.0   \n",
       "34                  Brioché poulet caesar               z          999.0   \n",
       "35                       BAguette bressan               b           77.0   \n",
       "36       Pavé de saumon fumé à la ficelle               e            9.0   \n",
       "37                   Torti au saumon fumé               z          999.0   \n",
       "38                            CORNED BEEF               z          999.0   \n",
       "39              Mediterranean Pasta Salad               z          999.0   \n",
       "40                   Pâte de fruit fraise               z          999.0   \n",
       "41                 Organic Salted Nut Mix               z          999.0   \n",
       "42                        Organic Polenta               z          999.0   \n",
       "43      Breadshop Honey Gone Nuts Granola               z          999.0   \n",
       "44          Organic Long Grain White Rice               z          999.0   \n",
       "45                         Organic Muesli               z          999.0   \n",
       "46           Organic Dark Chocolate Minis               z          999.0   \n",
       "47                  Organic Sunflower Oil               z          999.0   \n",
       "48                   Organic Adzuki Beans               z          999.0   \n",
       "49                    Organic Penne Pasta               z          999.0   \n",
       "50                          Zen Party Mix               z          999.0   \n",
       "51              Organic Golden Flax Seeds               z          999.0   \n",
       "52                    Organic Spicy Punks               z          999.0   \n",
       "53                   Cinnamon Nut Granola               z          999.0   \n",
       "54                      Organic Hazelnuts               z          999.0   \n",
       "55         Organic Sweetened Banana Chips               z          999.0   \n",
       "56       Lotus Organic Brown Jasmine Rice               z          999.0   \n",
       "57                     Organic Oat Groats               z          999.0   \n",
       "58                       Energy Power Mix               z          999.0   \n",
       "59  Antioxidant Mix - Berries & Chocolate               z          999.0   \n",
       "\n",
       "     code              countries  \\\n",
       "0       0           far, germany   \n",
       "1       0  france, united states   \n",
       "2      17                 france   \n",
       "3     100                 france   \n",
       "4     123                 france   \n",
       "5     291                 france   \n",
       "6     949                 france   \n",
       "7     970                 france   \n",
       "8    1199                 france   \n",
       "9    1281                 france   \n",
       "10   1311                 france   \n",
       "11   1328                 france   \n",
       "12   1564                 france   \n",
       "13   1663                 france   \n",
       "14   1885                 france   \n",
       "15   2042                 france   \n",
       "16   2219                 france   \n",
       "17   2257                 france   \n",
       "18   2264                 france   \n",
       "19   2400                 france   \n",
       "20   2417                 france   \n",
       "21   3087                 france   \n",
       "22   3384                 france   \n",
       "23   3780                 france   \n",
       "24   3803                 france   \n",
       "25   3827                 france   \n",
       "26   4510                 france   \n",
       "27   4530          united states   \n",
       "28   4559          united states   \n",
       "29   4572                 france   \n",
       "30   4794                 france   \n",
       "31   5005                 france   \n",
       "32   5081                 france   \n",
       "33   5272                 france   \n",
       "34   5388                 france   \n",
       "35   5470                 france   \n",
       "36   5661                 france   \n",
       "37   7009                 france   \n",
       "38   7160                 france   \n",
       "39   9317                    far   \n",
       "40  14595                 france   \n",
       "41  16087          united states   \n",
       "42  16094          united states   \n",
       "43  16100          united states   \n",
       "44  16117          united states   \n",
       "45  16124          united states   \n",
       "46  16193          united states   \n",
       "47  16513          united states   \n",
       "48  16612          united states   \n",
       "49  16650          united states   \n",
       "50  16872          united states   \n",
       "51  16933          united states   \n",
       "52  17497          united states   \n",
       "53  18012          united states   \n",
       "54  18050          united states   \n",
       "55  18173          united states   \n",
       "56  18197          united states   \n",
       "57  18227          united states   \n",
       "58  18265          united states   \n",
       "59  18289          united states   \n",
       "\n",
       "                                                                                                                                                                                                                                                                                                                                                                                                                                                                                                                                                                                       ingredients  \\\n",
       "0                                                                                                                                                                                                                                                                                                                                                                                                                                                                                                                                                                                             None   \n",
       "1                                                                                                                                                                                                                                                                                                                                                                      mode-d-utilisation-utilisez-la-ut-assaisonner-les-potes-les-pizzas-et-lasagnes, prete-o-l-emploi, 182, alba, www-cascinasancassiano-com, pourioogde-produit-dtmurts-leg-prunes-lg-0-3b-4-22-cascina-san-cassiano-c-so-piave   \n",
       "2                                                                                                                                                                                                                                                                                                                                                                                                                                                                                                                                                                                             None   \n",
       "3                                                                                                                                                                                                                                                                                                                                                                                                                                                                                                                                                                                             None   \n",
       "4                                                                                                                                                                                                                                                                                                                                                                                                                                                                                                                                                                                             None   \n",
       "5                                                                                                                                                                                                                                                                                                                                                                                                                                                                                                                                                                                             None   \n",
       "6                                                                                                                                                                                                                                                                                                                                                                                                                                                                                                                                                                                             None   \n",
       "7                                                                                                                                                                                                                                                                                                                                                                                                                                                                                                                                                                                             None   \n",
       "8                                                                                                                                                                                                                                             antioxidant, colour, tomato, vegetable, fruit-vegetable, mayonnaise, sauce, e316, e150, colza-oil, oil-and-fat, vegetable-oil-and-fat, rapeseed-oil, water, egg-yolk, egg, vinegar, mustard, salt, dextrose, added-sugar, monosaccharide, glucose, stabiliser, preservative, flavouring, mustard-seed, condiment, spice, turmeric, e466, e202, e160a   \n",
       "9                                                                                                                                                                                                                                                                                                                                                                                                                                                                                                                                                                                             None   \n",
       "10                                                                                                                                                                                                                                                                                                                                                                                                                                                                                                                                                                                            None   \n",
       "11                                                                                                                                                                                                                                                                                                                                                                                                                                                                                                                                                                                            None   \n",
       "12                                                                                                                                                                                                                                                                                                                                                                                                                                                                                                                                                                                            None   \n",
       "13                                                                                                                                                                                                                                                                                                                                                                                                                                                                                              whole-milk, dairy, milk, sugar, added-sugar, disaccharide, corn-starch, starch, cocoa, plant, e406   \n",
       "14                                                                                                                                                                                                                                                                                                                                                                                                                                                                                                                                                                                            None   \n",
       "15                                                                                                                                                                                                                                                                                                                                                                                                                                                                                                                                                                                            None   \n",
       "16                                                                                                                                                                                                                                                                                                                                                                                                                                                                                                                                                                                            None   \n",
       "17                                                                                                                                                                                                                                                                                                                                                                                                                                                                                                                                                                                            None   \n",
       "18                                                                                                                                                                                                                                                                                                                                                                                                                                                  water, salt, yeast, gluten, deactivated-yeast, e300, wheat-flour, cereal, flour, wheat, cereal-flour, pasteurised-milk, dairy, milk, coagulant   \n",
       "19                                                                                                                                                                                                                                                                                                                                                                                                                                                                                                                                                                                            None   \n",
       "20                                                                                                                                                                                                                                                                                                                                                                                                                                                                                                                                                                                            None   \n",
       "21                                                                                                                                                                                                                                                                                                                                                                                                                                                                                                                                                                                            None   \n",
       "22                                                                                                                                                                                                                                                                                                                                                                                                                                                                                                                                                                                            None   \n",
       "23                                                                                                                                                                                                                                                                                                                                                                                                                                                                                                                                                                                            None   \n",
       "24                                                                                                                                                                                                                                                                                                                                                                                                                                                                                                                                                                                            None   \n",
       "25                                                                                                                                                                                                water, rye-flour, flour, cereal-flour, sugar, added-sugar, disaccharide, colza-oil, oil-and-fat, vegetable-oil-and-fat, rapeseed-oil, sugar-syrup, wheat-gluten, gluten, salt, yeast, sourdough, dough, raising-agent, fructose, monosaccharide, flour-treatment-agent, enzyme, filling, salad, vegetable, wheat-flour, cereal, wheat, rye, e503, e300, atlantic-salmon, fish, oily-fish, salmon   \n",
       "26                                                                                                                                                                                                                                                                                                                                                                                              vegetable, colza-oil, oil-and-fat, vegetable-oil-and-fat, rapeseed-oil, salt, mint, herb, lemon-juice, fruit, juice, fruit-juice, sugar, added-sugar, disaccharide, preservative, flavouring, e202   \n",
       "27                                                                                                                                                                                                                                                                                                                                                                                banana, fruit, vegetable-oil, oil-and-fat, vegetable-oil-and-fat, sugar, added-sugar, disaccharide, natural-banana-flavouring, flavouring, natural-flavouring, coconut-oil, corn-oil, palm-oil, palm-oil-and-fat   \n",
       "28                                                                                                                                                                                                                                                                                                                           peanut, nut, wheat-flour, cereal, flour, wheat, cereal-flour, sugar, added-sugar, disaccharide, rice-flour, rice, tapioca, starch, salt, raising-agent, soy-sauce, sauce, potato-starch, e503ii, e503, e500ii, e500, water, soya-bean, vegetable, legume, pulse, soya   \n",
       "29                                                                                                                                                                                                                                                                                                                                                                                                                                                                                                                                                                                            None   \n",
       "30                                                                                                                                                                                                                                                                                                                                                                                                                                                                                                                                                                sugar, added-sugar, disaccharide   \n",
       "31                                                                                                                                                                                                                                                                                                                                                                                                                                                                                                                                                                                            None   \n",
       "32                                                                                                                                                                                                                                                                                                                                                                                                                                                                                                                                                                                            None   \n",
       "33  salt, yeast, filling, coppa, animal, meat, pork, pork-meat, ham, salad, vegetable, tomato, fruit-vegetable, basil, herb, olive-oil, oil-and-fat, vegetable-oil-and-fat, vegetable-oil, wheat-flour, cereal, flour, wheat, cereal-flour, wheat-gluten, gluten, whole-wheat-flour, wholemeal-flour, corn-flour, corn, durum-wheat-semolina, durum-wheat, semolina, flax-seed, seed, flax, sesame-seeds, sesame, rye-flour, corn-dextrose, added-sugar, monosaccharide, glucose, dextrose, fennel, stalk-vegetable, natural-flavouring, flavouring, sugar, disaccharide, preservative, e252, e250   \n",
       "34                                                                                                                                                                                                                                                                                                                                                                                                                                                                                                                                                                                            None   \n",
       "35                                                                                                                                                                                                                                                                                                 wheat-flour, cereal, flour, wheat, cereal-flour, water, salt, yeast, gluten, malted-wheat-flour, deactivated-yeast, e300, filling, acid, modified-tapioca-starch, starch, modified-starch, tapioca, flavouring, colour, bone, chicken-fillet, poultry, chicken, chicken-meat, e326, e262i, e262   \n",
       "36                                                                                                                                                                                                                                                                                                                                                                                                                                                                                                                                                                                            None   \n",
       "37                                                                                                                                                                                                                                                                                                                                                                                                                                                                                                                                                                                            None   \n",
       "38                                                                                                                                                                                                                                                                                                                                                                                                                                                                                                                                                                                            None   \n",
       "39                                                                                                                                                                                                                                                                                                                                                                                                                                                                                                                                                                                            None   \n",
       "40                                                                                                                                                                                                                                                                                                                                                                                                                                                                                                                                                                                            None   \n",
       "41                                                                                                                                                                                                                                                                                                                                                                                                                                                         hazelnut, nut, tree-nut, cashew-nuts, walnuts-almonds, sunflower-oil, oil-and-fat, vegetable-oil-and-fat, vegetable-oil, sea-salt, salt   \n",
       "42                                                                                                                                                                                                                                                                                                                                                                                                                                                                                                                                                                                         polenta   \n",
       "43                                                                                                                                                                                                                                                                                                                                             oat-flakes, cereal, oat, grape, fruit, berries, canola-oil, oil-and-fat, vegetable-oil-and-fat, rapeseed-oil, sunflower-seed, plant, seed, sunflower, almond, nut, tree-nut, walnuts-oat-bran, sesame-seeds, sesame, cashew-nuts, natural-vitamin-e   \n",
       "44                                                                                                                                                                                                                                                                                                                                                                                                                                                                                                                                        long-grain-white-rice, rice, long-grain-rice, white-rice   \n",
       "45                 org-oats, org-hemp-granola, org-raisins, org-dates, org-almonds, org-hazelnuts, org-coconut, org-sunflower-seeds, org-pumpkin-seeds, org-flax-seeds, org-corn-flakes, org-quinoa-amaranth-flakes, evaporated-cane-juice, sugarcane, sugarcane-juice, org-expeller-pressed-canola-oil, crispy-rice, org-oat-solids, hemp-seed, seed, org-corn-meal, org-grape-and-pear-juice-concentrate, sea-salt, salt, org-yellow-corn-flour, org-evaporated-cane-juice, org-flax, org-buckwheat-flour, org-quinoa, org-amaranth, e306, org-brown-rice-flour, org-molasses, natural-vitamin-e   \n",
       "46                                                                                                                                                                                                                                                                                                                                                                          cocoa-paste, plant, cocoa, unrefined-cane-sugar, added-sugar, disaccharide, sugar, cane-sugar, unrefined-sugar, cocoa-butter, unrefined-whole-cane-sugar, whole-cane-sugar, ground-vanilla-beans, vanilla, vanilla-pod   \n",
       "47                                                                                                                                                                                                                                                                                                                                                                                                                                                                                    expeller-pressed, high-oleic-sunflower-oil, oil-and-fat, vegetable-oil-and-fat, vegetable-oil, sunflower-oil   \n",
       "48                                                                                                                                                                                                                                                                                                                                                                                                                                                                                                                                                           adzuki-bean, vegetable, legume, pulse   \n",
       "49                                                                                                                                                                                                                                                                                                                                                                                                                                                                                                                                                              refined-durum-semolina-wheat-flour   \n",
       "50      roasted-peanuts, nut, peanut, sesame-sticks, chili-crackers, tamari-roasted-almonds, salt, canola-oil, oil-and-fat, vegetable-oil-and-fat, rapeseed-oil, wheat-flour, cereal, flour, wheat, cereal-flour, sesame-seeds, seed, sesame, sunflower-oil, vegetable-oil, sa, t, beetroot, vegetable, root-vegetable, taproot-vegetable, turmeric, condiment, spice, rice, corn-starch, starch, soy-sauce, sauce, brown-rice-syrup, added-sugar, disaccharide, rice-syrup, paprika, onion, onion-family-vegetable, garlic, almond, tree-nut, tamari-shoyu, water, soya-bean, legume, pulse, soya   \n",
       "51                                                                                                                                                                                                                                                                                                                                                                                                                                                                                                                                                        golden-flax-seeds, seed, flax, flax-seed   \n",
       "52                                                                                                                                                                                                                                                                                                                                                                                pumpkin-seed, vegetable, fruit-vegetable, seed, pumpkin, tamari, sauce, soy-sauce, garlic, root-vegetable, onion-family-vegetable, cayenne-pepper, condiment, spice, soya-bean, legume, pulse, soya, water, salt   \n",
       "53                                                                                                                                                                                                                                                                                                                       oat-flakes, cereal, oat, honey, added-sugar, raisin, fruit, berries, grape, almond, nut, tree-nut, sunflower-seed, plant, seed, sunflower, walnut, wheat-germ, wheat, unrefined-expeller-pressed-safflower-oil, molasses, disaccharide, sugar, cinnamon, condiment, spice   \n",
       "54                                                                                                                                                                                                                                                                                                                                                                                                                                                                                                                                                                         hazelnut, nut, tree-nut   \n",
       "55                                                                                                                                                                                                                                                                                                                                                                                                                                                                                 banana, fruit, coconut-oil, oil-and-fat, vegetable-oil-and-fat, vegetable-oil, sugar, added-sugar, disaccharide   \n",
       "56                                                                                                                                                                                                                                                                                                                                                                                                                                                                                                                                                                              brown-jasmine-rice   \n",
       "57                                                                                                                                                                                                                                                                                                                                                                                                                                                                                                                                                                                      oat-groats   \n",
       "58                                                                                                                                                                                                                                                                                                             yogurt-raisins, tamari-roasted-almonds, tamari-roasted-soy-nuts, dark-chocolate-stars, cranberry, fruit, dark-chocolate-chunks, chocolate, dark-chocolate, peanut-paste, nut, peanut, milk-chocolate-raisins, pineapple, papaya, peanut-butter-peanuts-and-raisins, roasted-peanuts   \n",
       "59                                                                                                                                          chocolate-stars, roasted-peanuts, nut, peanut, dry-roasted-almonds, tree-nut, almond, cashew-nuts, cranberry, fruit, cherry, prunus-species-fruit, walnut, blueberry, berries, sugarcane-juice, sugarcane, chocolate, cocoa-butter, plant, cocoa, soya-lecithin, e322, e322i, natural-vanilla, vanilla, safflower, and-canola-oil, salt, sea-salt, evaporated-cane-juice, sunflower-oil, oil-and-fat, vegetable-oil-and-fat, vegetable-oil, emulsifier   \n",
       "\n",
       "                                                                                                                                                                                                                categories  \\\n",
       "0                                                                                                                                                                                                                     None   \n",
       "1                                                                                                                                               snacks, sweet-snacks, confectioneries, chewing-gum, sugar-free-chewing-gum   \n",
       "2                                                                                                                                                                                                                     None   \n",
       "3                                                                                                                                                                                  condiments, sauces, mustards, groceries   \n",
       "4                                                                                                                                                                                                                     None   \n",
       "5                                                                                                                                                                                                                     None   \n",
       "6   plant-based-foods-and-beverages, plant-based-foods, fruits-and-vegetables-based-foods, vegetables-based-foods, meals, vegetables, prepared-vegetables, carrots, carrot-salads, grated-carrots, seasoned-grated-carrots   \n",
       "7                                                                                                                                                                                                                     None   \n",
       "8                                                                                                                                                                                                                     None   \n",
       "9                                                                                                                                                                                           sweet-pies, pies, coconut-pies   \n",
       "10                                                                                                                                                                                                                    None   \n",
       "11                                                                                                                                                                                                                    None   \n",
       "12                                                                                                                                                                                                                    None   \n",
       "13                                                                                                                                                                                                                    None   \n",
       "14                                                                            plant-based-foods-and-beverages, plant-based-foods, fruits-and-vegetables-based-foods, desserts, fruits-based-foods, compotes, pear-compotes   \n",
       "15                                                                                                                                                                                                                    None   \n",
       "16                                                                                                                                                                                                                    None   \n",
       "17                                                                  plant-based-foods-and-beverages, plant-based-foods, snacks, salty-snacks, appetizers, meals, prepared-vegetables, cold-starters, vegetables-macedoines   \n",
       "18                                                                                                                                                                                                                    None   \n",
       "19                                                                                                                                                                                                                    None   \n",
       "20                                                                                                                                                                                                                    None   \n",
       "21                                                                                                                                                                                                                    None   \n",
       "22                                                                                                                                                                                                                    None   \n",
       "23                                                                                                                                                                                                                    None   \n",
       "24                                                                                                                                                                                                                    None   \n",
       "25                                                                                                                                                                                                                    None   \n",
       "26                                                                                                                                                                                                                    None   \n",
       "27                                                                                                                                                                                                                    None   \n",
       "28                                                                                                                                                                                                                    None   \n",
       "29                                                                                                                                                                                                                    None   \n",
       "30                                                                                                                                                                                                                    None   \n",
       "31                                                                                                                                   dairies, fermented-foods, fermented-milk-products, cheeses, french-cheeses, abondance   \n",
       "32                                                                                                                                                                                                                    None   \n",
       "33                                                                                                                                                                                                                    None   \n",
       "34                                                                                                                                                                                                                    None   \n",
       "35                                                                                                                             plant-based-foods-and-beverages, plant-based-foods, cereals-and-potatoes, breads, baguettes   \n",
       "36                                                                                                         seafood, fishes-and-their-products, fishes, fatty-fishes, salmons, smoked-fishes, smoked-salmons, salmon-steaks   \n",
       "37                                                                                                                                                                                                                    None   \n",
       "38                                                                                                           canned-foods, meats-and-their-products, meals, meats, meals-with-meat, beef-dishes, canned-meats, corned-beef   \n",
       "39                                                                                                                                                                                                                    None   \n",
       "40                                                                                                                                                                                                                    None   \n",
       "41                                                                                                                                                                                                                    None   \n",
       "42                                                                                                                                                                                                                    None   \n",
       "43                                                                                                                                                                                                                    None   \n",
       "44                                                                                                                                                                                                                    None   \n",
       "45                                                                                                                                                                                                                    None   \n",
       "46                                                                                                                                                                                                                    None   \n",
       "47                                                                                                                                                                                                                    None   \n",
       "48                                                                                                                                                                                                                    None   \n",
       "49                                                                                                                                                                                                                    None   \n",
       "50                                                                                                                                                                                                                    None   \n",
       "51                                                                                                                                                                                                                    None   \n",
       "52                                                                                                                                                                                                                    None   \n",
       "53                                                                                                                                                                                                                    None   \n",
       "54                                                                                                                                                                                                                    None   \n",
       "55                                                                                                                                                                                                                    None   \n",
       "56                                                                                                                                                                                                                    None   \n",
       "57                                                                                                                                                                                                                    None   \n",
       "58                                                                                                                                                                                                                    None   \n",
       "59                                                                                                                                                                                                                    None   \n",
       "\n",
       "    labels_note  \n",
       "0             0  \n",
       "1             0  \n",
       "2             0  \n",
       "3             0  \n",
       "4             0  \n",
       "5             0  \n",
       "6             0  \n",
       "7             0  \n",
       "8             0  \n",
       "9             0  \n",
       "10            0  \n",
       "11            0  \n",
       "12            0  \n",
       "13            0  \n",
       "14            0  \n",
       "15            0  \n",
       "16            0  \n",
       "17            0  \n",
       "18            0  \n",
       "19            0  \n",
       "20            0  \n",
       "21            0  \n",
       "22            0  \n",
       "23            0  \n",
       "24            0  \n",
       "25            0  \n",
       "26            0  \n",
       "27            0  \n",
       "28            0  \n",
       "29            0  \n",
       "30            0  \n",
       "31            0  \n",
       "32            0  \n",
       "33            0  \n",
       "34            0  \n",
       "35            0  \n",
       "36            0  \n",
       "37            0  \n",
       "38            0  \n",
       "39            0  \n",
       "40            6  \n",
       "41            1  \n",
       "42            1  \n",
       "43            0  \n",
       "44            1  \n",
       "45            1  \n",
       "46            1  \n",
       "47            1  \n",
       "48            1  \n",
       "49            1  \n",
       "50            0  \n",
       "51            1  \n",
       "52            1  \n",
       "53            0  \n",
       "54            1  \n",
       "55            1  \n",
       "56            1  \n",
       "57            1  \n",
       "58            0  \n",
       "59            0  "
      ]
     },
     "execution_count": 20,
     "metadata": {},
     "output_type": "execute_result"
    }
   ],
   "source": [
    "df_check.head(60)"
   ]
  },
  {
   "cell_type": "code",
   "execution_count": null,
   "metadata": {},
   "outputs": [],
   "source": []
  }
 ],
 "metadata": {
  "kernelspec": {
   "display_name": "greenIa",
   "language": "python",
   "name": "python3"
  },
  "language_info": {
   "codemirror_mode": {
    "name": "ipython",
    "version": 3
   },
   "file_extension": ".py",
   "mimetype": "text/x-python",
   "name": "python",
   "nbconvert_exporter": "python",
   "pygments_lexer": "ipython3",
   "version": "3.10.14"
  }
 },
 "nbformat": 4,
 "nbformat_minor": 2
}
