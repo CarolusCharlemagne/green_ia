{
 "cells": [
  {
   "cell_type": "markdown",
   "metadata": {},
   "source": [
    "### L'objectif de ce script est de charger les données en ligne de OpenFoodFacts pour les stocker dans un fichier décompressé Mongo DB Dump"
   ]
  },
  {
   "cell_type": "markdown",
   "metadata": {},
   "source": [
    "## Panneau de configuration"
   ]
  },
  {
   "cell_type": "code",
   "execution_count": 1,
   "metadata": {},
   "outputs": [],
   "source": [
    "projectPath = \"/home/carolus/Documents/school/green_ia/data/\"\n",
    "fileNbr = '00' # numéro d'identification du csv à générer \n",
    "datasetOpenFoodFacts = \"https://static.openfoodfacts.org/data/openfoodfacts-mongodbdump.gz\""
   ]
  },
  {
   "cell_type": "code",
   "execution_count": 2,
   "metadata": {},
   "outputs": [],
   "source": [
    "import os\n",
    "import requests\n",
    "import gzip\n",
    "import shutil\n",
    "import pandas as pd\n",
    "from requests.exceptions import RequestException"
   ]
  },
  {
   "cell_type": "code",
   "execution_count": 3,
   "metadata": {},
   "outputs": [],
   "source": [
    "# nom fichier téléchargé\n",
    "fileName = fileNbr + \"_OpenFoodFacts.gz\"\n",
    "filePath = os.path.join(projectPath, fileName)"
   ]
  },
  {
   "cell_type": "code",
   "execution_count": 4,
   "metadata": {},
   "outputs": [
    {
     "name": "stdout",
     "output_type": "stream",
     "text": [
      "erreur, reprise du téléchargement : ('Connection broken: IncompleteRead(1083829911 bytes read, 8300863313 more expected)', IncompleteRead(1083829911 bytes read, 8300863313 more expected))\n",
      "erreur, reprise du téléchargement : ('Connection broken: IncompleteRead(1083152646 bytes read, 7217714402 more expected)', IncompleteRead(1083152646 bytes read, 7217714402 more expected))\n",
      "erreur, reprise du téléchargement : ('Connection broken: IncompleteRead(1082021974 bytes read, 6135698834 more expected)', IncompleteRead(1082021974 bytes read, 6135698834 more expected))\n",
      "erreur, reprise du téléchargement : ('Connection broken: IncompleteRead(1081983424 bytes read, 5053721640 more expected)', IncompleteRead(1081983424 bytes read, 5053721640 more expected))\n",
      "fichier téléchargé et sauvegardé ici: /home/carolus/Documents/school/green_ia/data/00_OpenFoodFacts.gz\n"
     ]
    }
   ],
   "source": [
    "# fonction pour reprendre le téléchargement\n",
    "def download_file(url, file_path):\n",
    "    while True:\n",
    "        try:\n",
    "            # vérifier si le fichier existe déjà et obtenir sa taille\n",
    "            file_size = 0\n",
    "            if os.path.exists(file_path):\n",
    "                file_size = os.path.getsize(file_path)\n",
    "\n",
    "            headers = {\"Range\": f\"bytes={file_size}-\"}\n",
    "            response = requests.get(url, headers=headers, stream=True)\n",
    "\n",
    "            if response.status_code in [200, 206]:\n",
    "                mode = 'ab' if file_size else 'wb'\n",
    "                with open(file_path, mode) as file:\n",
    "                    for chunk in response.iter_content(chunk_size=8192):\n",
    "                        if chunk:\n",
    "                            file.write(chunk)\n",
    "                print(f\"fichier téléchargé et sauvegardé ici: {file_path}\")\n",
    "                break  # sortir de la boucle une fois le téléchargement terminé\n",
    "\n",
    "            else:\n",
    "                print(f\"erreur: {response.status_code}\")\n",
    "                break  # sortir de la boucle en cas d'erreur de statut\n",
    "\n",
    "        except RequestException as e:\n",
    "            print(f\"erreur, reprise du téléchargement : {e}\")\n",
    "\n",
    "download_file(datasetOpenFoodFacts, filePath)"
   ]
  },
  {
   "cell_type": "code",
   "execution_count": 5,
   "metadata": {},
   "outputs": [],
   "source": [
    "# décompresser le fichier gz\n",
    "def decompress_gz(filePath, projectPath):\n",
    "    \n",
    "    with gzip.open(filePath, 'rb') as f_in:\n",
    "        with open(projectPath, 'wb') as f_out:\n",
    "            shutil.copyfileobj(f_in, f_out)\n",
    "\n",
    "outputPath = projectPath + fileNbr + \"_OpenFoodFacts\"\n",
    "decompress_gz(filePath, outputPath)"
   ]
  }
 ],
 "metadata": {
  "kernelspec": {
   "display_name": "greenIa",
   "language": "python",
   "name": "greenia"
  },
  "language_info": {
   "codemirror_mode": {
    "name": "ipython",
    "version": 3
   },
   "file_extension": ".py",
   "mimetype": "text/x-python",
   "name": "python",
   "nbconvert_exporter": "python",
   "pygments_lexer": "ipython3",
   "version": "3.10.14"
  }
 },
 "nbformat": 4,
 "nbformat_minor": 2
}
