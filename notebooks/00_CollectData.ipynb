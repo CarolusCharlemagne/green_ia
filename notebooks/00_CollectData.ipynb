{
 "cells": [
  {
   "cell_type": "markdown",
   "metadata": {},
   "source": [
    "### L'objectif de ce script est de charger les données en ligne de OpenFoodFacts pour les stocker dans un fichier décompressé Mongo DB Dump"
   ]
  },
  {
   "cell_type": "markdown",
   "metadata": {},
   "source": [
    "## Panneau de configuration"
   ]
  },
  {
   "cell_type": "code",
   "execution_count": 33,
   "metadata": {},
   "outputs": [],
   "source": [
    "import requests\n",
    "import gzip\n",
    "import pandas as pd\n",
    "from io import BytesIO\n",
    "import os\n",
    "import shutil\n",
    "from requests.exceptions import RequestException"
   ]
  },
  {
   "cell_type": "code",
   "execution_count": 34,
   "metadata": {},
   "outputs": [],
   "source": [
    "url = \"https://static.openfoodfacts.org/data/openfoodfacts-products.jsonl.gz\"\n",
    "fileNbr = '00'\n",
    "projectPath = \"/home/carolus/Documents/school/green_ia/\" \n",
    "jsonGz = projectPath + \"data/\" + fileNbr + \"_openfoodfacts\" + \".jsonl.gz\""
   ]
  },
  {
   "cell_type": "code",
   "execution_count": 35,
   "metadata": {},
   "outputs": [],
   "source": [
    "# fonction pour reprendre le téléchargement\n",
    "def downloadFile(url, jsonGz):\n",
    "    while True:\n",
    "        try:\n",
    "            # vérifier si fichier existe déjà et obtenir sa taille\n",
    "            fileSize = 0\n",
    "            if os.path.exists(jsonGz):\n",
    "                fileSize = os.path.getsize(jsonGz)\n",
    "\n",
    "            headers = {\"range\": f\"bytes={fileSize}-\"}\n",
    "            response = requests.get(url, headers=headers, stream=True)\n",
    "\n",
    "            if response.status_code in [200, 206]:\n",
    "                mode = 'ab' if fileSize else 'wb'\n",
    "                with open(jsonGz, mode) as file:\n",
    "                    for chunk in response.iter_content(chunk_size=8192):\n",
    "                        if chunk:\n",
    "                            file.write(chunk)\n",
    "                print(f\"fichier téléchargé et sauvegardé ici: {jsonGz}\")\n",
    "                break  # sortir boucle une fois téléchargement terminé\n",
    "\n",
    "            else:\n",
    "                print(f\"erreur: {response.status_code}\")\n",
    "                break  # sortir boucle si erreur statut\n",
    "\n",
    "        except RequestException as e:\n",
    "            print(f\"pause, reprise du téléchargement : {e}\")"
   ]
  },
  {
   "cell_type": "code",
   "execution_count": 36,
   "metadata": {},
   "outputs": [],
   "source": [
    "# décompresser du fichier jsonl\n",
    "def unGzFile(jsonGz, fileNbr, projectPath):\n",
    "    jsonl = projectPath + \"data/\" + fileNbr + '_openfoodfacts.jsonl'\n",
    "    with gzip.open(jsonGz, 'rb') as f_in:\n",
    "        with open(jsonl, 'wb') as f_out:\n",
    "            shutil.copyfileobj(f_in, f_out)\n",
    "\n",
    "    print(f'fichier {jsonl} décompressé avec succès')\n",
    "    return jsonl"
   ]
  },
  {
   "cell_type": "code",
   "execution_count": 37,
   "metadata": {},
   "outputs": [],
   "source": [
    "# conversion en fichier csv\n",
    "def convertToCsv(jsonl, fileNbr, projectPath):\n",
    "    csv = projectPath + \"data/\" + fileNbr + '_openfoodfacts_00.csv'\n",
    "    chunksize = 10000  \n",
    "    chunkIter = pd.read_json(jsonl, lines=True, chunksize=chunksize)\n",
    "\n",
    "    for i, chunk in enumerate(chunkIter):\n",
    "        if i == 0:\n",
    "            chunk.to_csv(csv, index=False, escapechar='\\\\')\n",
    "        else:\n",
    "            chunk.to_csv(csv, mode='a', header=False, index=False, escapechar='\\\\')\n",
    "\n",
    "    print(\"conversion vers csv terminée\")"
   ]
  },
  {
   "cell_type": "code",
   "execution_count": 38,
   "metadata": {},
   "outputs": [],
   "source": [
    "def deleteFile(filePath):\n",
    "    if os.path.exists(filePath):\n",
    "        os.remove(filePath)\n",
    "        print(f\"fichier {filePath} supprimé\")\n",
    "    else:\n",
    "        print(f\"erreur, fichier {filePath} n'existe pas\")\n"
   ]
  },
  {
   "cell_type": "code",
   "execution_count": 39,
   "metadata": {},
   "outputs": [
    {
     "name": "stdout",
     "output_type": "stream",
     "text": [
      "pause, reprise du téléchargement : ('Connection broken: IncompleteRead(1082301847 bytes read, 6700411154 more expected)', IncompleteRead(1082301847 bytes read, 6700411154 more expected))\n",
      "pause, reprise du téléchargement : ('Connection broken: IncompleteRead(1083085454 bytes read, 5617333275 more expected)', IncompleteRead(1083085454 bytes read, 5617333275 more expected))\n",
      "fichier téléchargé et sauvegardé ici: /home/carolus/Documents/school/green_ia/data/00_openfoodfacts.jsonl.gz\n",
      "fichier /home/carolus/Documents/school/green_ia/data/00_openfoodfacts.jsonl décompressé avec succès\n",
      "fichier /home/carolus/Documents/school/green_ia/data/00_openfoodfacts.jsonl.gz supprimé\n",
      "conversion vers csv terminée\n",
      "fichier /home/carolus/Documents/school/green_ia/data/00_openfoodfacts.jsonl supprimé\n"
     ]
    }
   ],
   "source": [
    "downloadFile(url, jsonGz)\n",
    "jsonl = unGzFile(jsonGz, fileNbr, projectPath)\n",
    "deleteFile(jsonGz)\n",
    "convertToCsv(jsonl, fileNbr, projectPath)\n",
    "deleteFile(jsonl)"
   ]
  }
 ],
 "metadata": {
  "kernelspec": {
   "display_name": "greenIa",
   "language": "python",
   "name": "greenia"
  },
  "language_info": {
   "codemirror_mode": {
    "name": "ipython",
    "version": 3
   },
   "file_extension": ".py",
   "mimetype": "text/x-python",
   "name": "python",
   "nbconvert_exporter": "python",
   "pygments_lexer": "ipython3",
   "version": "3.10.14"
  }
 },
 "nbformat": 4,
 "nbformat_minor": 2
}
