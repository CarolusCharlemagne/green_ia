{
 "cells": [
  {
   "cell_type": "code",
   "execution_count": 1,
   "metadata": {},
   "outputs": [],
   "source": [
    "import requests\n",
    "import gzip\n",
    "import pandas as pd\n",
    "from io import BytesIO\n",
    "import os\n",
    "import shutil\n",
    "from requests.exceptions import RequestException\n",
    "import warnings\n",
    "from datetime import datetime\n",
    "\n",
    "pd.set_option('display.max_rows', 50)\n",
    "warnings.filterwarnings(\"ignore\", category=pd.errors.DtypeWarning)"
   ]
  },
  {
   "cell_type": "code",
   "execution_count": 2,
   "metadata": {},
   "outputs": [],
   "source": [
    "url = \"https://static.openfoodfacts.org/data/openfoodfacts-products.jsonl.gz\"\n",
    "fileNbr = '04'\n",
    "projectPath = \"/home/carolus/Documents/school/green_ia/\" \n",
    "jsonGz = projectPath + \"data/\" + fileNbr + \"_openfoodfacts\" + \".jsonl.gz\"\n",
    "csvPath = projectPath + \"data/\" + fileNbr + \"_openfoodfacts.csv\" \n",
    "\n",
    "colToSave = ['allergens_from_ingredients',\n",
    "            'nutriscore_tags',\n",
    "            'labels_old',\n",
    "            'categories_old',\n",
    "            'pnns_groups_1',\n",
    "            'ecoscore_data',\n",
    "            'brand_owner_imported',\n",
    "            'ingredients_tags',\n",
    "            'packaging',\n",
    "            'ingredients_hierarchy',\n",
    "            'product_name',\n",
    "            'food_groups_tags',\n",
    "            'ecoscore_tags',\n",
    "            'nova_group',\n",
    "            'ingredients_from_or_that_may_be_from_palm_oil_n',\n",
    "            'categories_tags',\n",
    "            'brand_owner',\n",
    "            'nutrient_levels_tags',\n",
    "            'allergens_tags',\n",
    "            'ecoscore_extended_data',\n",
    "            'categories',\n",
    "            'nutriments',\n",
    "            'nutriscore_2021_tags',\n",
    "            'additives_old_n',\n",
    "            'ecoscore_score',\n",
    "            'labels_tags',\n",
    "            'countries']\n",
    "\n",
    "# récupérer la date du jour \n",
    "currentDateTime = datetime.now()\n",
    "formattedDate = currentDateTime.strftime(\"%d/%m/%Y %H:%M:%S.%f\")[:-3]\n",
    "dateCode = currentDateTime.strftime('%d%m%Y%H%M%S') + f\"{currentDateTime.microsecond // 1000:03d}\""
   ]
  },
  {
   "cell_type": "code",
   "execution_count": 3,
   "metadata": {},
   "outputs": [],
   "source": [
    "def addLogs(logData):\n",
    "    print(logData)\n",
    "    with open(f\"{projectPath}logs/{dateCode}_logs.txt\", \"a\") as logFile:\n",
    "        logFile.write(f'{logData}\\n')"
   ]
  },
  {
   "cell_type": "code",
   "execution_count": 4,
   "metadata": {},
   "outputs": [
    {
     "name": "stdout",
     "output_type": "stream",
     "text": [
      "start date: 10/08/2024 16:30:04.706\n",
      "url: https://static.openfoodfacts.org/data/openfoodfacts-products.jsonl.gz \n",
      "fileNbr: 04 \n",
      "projectPath: /home/carolus/Documents/school/green_ia/ \n",
      "jsonGz: /home/carolus/Documents/school/green_ia/data/04_openfoodfacts.jsonl.gz \n",
      "csvPath: /home/carolus/Documents/school/green_ia/data/04_openfoodfacts.csv \n",
      "colToSave: ['allergens_from_ingredients', 'nutriscore_tags', 'labels_old', 'categories_old', 'pnns_groups_1', 'ecoscore_data', 'brand_owner_imported', 'ingredients_tags', 'packaging', 'ingredients_hierarchy', 'product_name', 'food_groups_tags', 'ecoscore_tags', 'nova_group', 'ingredients_from_or_that_may_be_from_palm_oil_n', 'categories_tags', 'brand_owner', 'nutrient_levels_tags', 'allergens_tags', 'ecoscore_extended_data', 'categories', 'nutriments', 'nutriscore_2021_tags', 'additives_old_n', 'ecoscore_score', 'labels_tags', 'countries']\n"
     ]
    }
   ],
   "source": [
    "addLogs(f\"start date: {formattedDate}\")\n",
    "addLogs(f\"url: {url} \\nfileNbr: {fileNbr} \\nprojectPath: {projectPath} \\njsonGz: {jsonGz} \\ncsvPath: {csvPath} \\ncolToSave: {colToSave}\")"
   ]
  },
  {
   "cell_type": "code",
   "execution_count": 5,
   "metadata": {},
   "outputs": [],
   "source": [
    "# fonction pour reprendre le téléchargement\n",
    "def downloadFile(url, jsonGz):\n",
    "    addLogs(\"start downloading file from Open Food Facts\")\n",
    "    while True:\n",
    "        try:\n",
    "            # vérifier si fichier existe déjà et obtenir sa taille\n",
    "            fileSize = 0\n",
    "            if os.path.exists(jsonGz):\n",
    "                fileSize = os.path.getsize(jsonGz)\n",
    "\n",
    "            headers = {\"range\": f\"bytes={fileSize}-\"}\n",
    "            response = requests.get(url, headers=headers, stream=True)\n",
    "\n",
    "            if response.status_code in [200, 206]:\n",
    "                mode = 'ab' if fileSize else 'wb'\n",
    "                with open(jsonGz, mode) as file:\n",
    "                    for chunk in response.iter_content(chunk_size=8192):\n",
    "                        if chunk:\n",
    "                            file.write(chunk)\n",
    "                addLogs(f\"downloaded: {jsonGz}\")\n",
    "                break  # sortir boucle une fois téléchargement terminé\n",
    "\n",
    "            else:\n",
    "                addLogs(f\"ERROR while downloading: {response.status_code}\")\n",
    "                break  # sortir boucle si erreur statut\n",
    "\n",
    "        except RequestException as e:\n",
    "            addLogs(f\"warning, continue downloading: {e}\")"
   ]
  },
  {
   "cell_type": "code",
   "execution_count": 6,
   "metadata": {},
   "outputs": [],
   "source": [
    "# décompresser du fichier jsonl\n",
    "def unGzFile(jsonGz, fileNbr, projectPath):\n",
    "    addLogs(\"start unzziping jsonl compressed\")\n",
    "    jsonl = projectPath + \"data/\" + fileNbr + '_openfoodfacts.jsonl'\n",
    "    with gzip.open(jsonGz, 'rb') as f_in:\n",
    "        with open(jsonl, 'wb') as f_out:\n",
    "            shutil.copyfileobj(f_in, f_out)\n",
    "\n",
    "    addLogs(f'unzziping completed: {jsonl}')\n",
    "    return jsonl"
   ]
  },
  {
   "cell_type": "code",
   "execution_count": 7,
   "metadata": {},
   "outputs": [],
   "source": [
    "# conversion en fichier csv\n",
    "def convertToCsv(jsonl, fileNbr, projectPath):\n",
    "    addLogs(\"converting jsonl file to csv file\")\n",
    "    heavyCsv = projectPath + \"data/\" + fileNbr + '_openfoodfacts_00.csv'\n",
    "    chunksize = 10000  \n",
    "    chunkIter = pd.read_json(jsonl, lines=True, chunksize=chunksize)\n",
    "\n",
    "    for i, chunk in enumerate(chunkIter):\n",
    "        if i == 0:\n",
    "            chunk.to_csv(heavyCsv, index=False, escapechar='\\\\')\n",
    "        else:\n",
    "            chunk.to_csv(heavyCsv, mode='a', header=False, index=False, escapechar='\\\\')\n",
    "\n",
    "    addLogs(f\"convert jsonl to heavy csv terminated: {heavyCsv}\")\n",
    "    return heavyCsv"
   ]
  },
  {
   "cell_type": "code",
   "execution_count": 8,
   "metadata": {},
   "outputs": [],
   "source": [
    "def deleteFile(filePath):\n",
    "    if os.path.exists(filePath):\n",
    "        os.remove(filePath)\n",
    "        addLogs(f\"file deleted: {filePath}\")\n",
    "    else:\n",
    "        addLogs(f\"ERROR, does not exists: {filePath}\")\n"
   ]
  },
  {
   "cell_type": "code",
   "execution_count": 9,
   "metadata": {},
   "outputs": [],
   "source": [
    "def createFolder(folderPath):\n",
    "    try:\n",
    "        os.makedirs(folderPath, exist_ok=True)\n",
    "        addLogs(f\"new folder: {folderPath}\")\n",
    "    except OSError as e:\n",
    "        addLogs(f\"ERROR while creating folder: {e}\")"
   ]
  },
  {
   "cell_type": "code",
   "execution_count": 10,
   "metadata": {},
   "outputs": [
    {
     "name": "stdout",
     "output_type": "stream",
     "text": [
      "start downloading file from Open Food Facts\n",
      "warning, continue downloading: ('Connection broken: IncompleteRead(1082166735 bytes read, 6843274364 more expected)', IncompleteRead(1082166735 bytes read, 6843274364 more expected))\n",
      "warning, continue downloading: ('Connection broken: IncompleteRead(1082208390 bytes read, 5761069509 more expected)', IncompleteRead(1082208390 bytes read, 5761069509 more expected))\n",
      "warning, continue downloading: ('Connection broken: IncompleteRead(1080408830 bytes read, 4680664909 more expected)', IncompleteRead(1080408830 bytes read, 4680664909 more expected))\n",
      "warning, continue downloading: ('Connection broken: IncompleteRead(1082205846 bytes read, 3598465973 more expected)', IncompleteRead(1082205846 bytes read, 3598465973 more expected))\n",
      "warning, continue downloading: ('Connection broken: IncompleteRead(1083126422 bytes read, 2515341237 more expected)', IncompleteRead(1083126422 bytes read, 2515341237 more expected))\n",
      "warning, continue downloading: ('Connection broken: IncompleteRead(1082584190 bytes read, 1432761805 more expected)', IncompleteRead(1082584190 bytes read, 1432761805 more expected))\n",
      "warning, continue downloading: ('Connection broken: IncompleteRead(1081434958 bytes read, 351330045 more expected)', IncompleteRead(1081434958 bytes read, 351330045 more expected))\n",
      "downloaded: /home/carolus/Documents/school/green_ia/data/04_openfoodfacts.jsonl.gz\n",
      "start unzziping jsonl compressed\n",
      "unzziping completed: /home/carolus/Documents/school/green_ia/data/04_openfoodfacts.jsonl\n",
      "converting jsonl file to csv file\n",
      "convert jsonl to heavy csv terminated: /home/carolus/Documents/school/green_ia/data/04_openfoodfacts_00.csv\n"
     ]
    }
   ],
   "source": [
    "# main algo\n",
    "downloadFile(url, jsonGz)\n",
    "jsonl = unGzFile(jsonGz, fileNbr, projectPath)\n",
    "#deleteFile(jsonGz)\n",
    "heavyCsv = convertToCsv(jsonl, fileNbr, projectPath)\n",
    "#deleteFile(jsonl)"
   ]
  },
  {
   "cell_type": "code",
   "execution_count": 11,
   "metadata": {},
   "outputs": [
    {
     "name": "stdout",
     "output_type": "stream",
     "text": [
      "end date: 10/08/2024 17:41:04.319\n"
     ]
    }
   ],
   "source": [
    "currentDateTime = datetime.now()\n",
    "formattedDate = currentDateTime.strftime(\"%d/%m/%Y %H:%M:%S.%f\")[:-3]\n",
    "addLogs(f\"end date: {formattedDate}\")"
   ]
  }
 ],
 "metadata": {
  "kernelspec": {
   "display_name": "greenIa",
   "language": "python",
   "name": "python3"
  },
  "language_info": {
   "codemirror_mode": {
    "name": "ipython",
    "version": 3
   },
   "file_extension": ".py",
   "mimetype": "text/x-python",
   "name": "python",
   "nbconvert_exporter": "python",
   "pygments_lexer": "ipython3",
   "version": "3.10.14"
  }
 },
 "nbformat": 4,
 "nbformat_minor": 2
}
