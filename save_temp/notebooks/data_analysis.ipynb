{
 "cells": [
  {
   "cell_type": "code",
   "execution_count": 82,
   "metadata": {},
   "outputs": [],
   "source": [
    "import pandas as pd\n",
    "import numpy as np\n",
    "import json\n",
    "import os\n",
    "import warnings\n",
    "from datetime import datetime \n",
    "from collections import OrderedDict\n",
    "from collections import Counter\n",
    "import plotly.express as px\n",
    "from collections import defaultdict\n",
    "import plotly.graph_objects as go\n",
    "\n",
    "\n",
    "pd.set_option('display.max_rows', 100)\n",
    "pd.set_option('display.max_colwidth', None)\n",
    "\n",
    "warnings.filterwarnings(\"ignore\", category=pd.errors.DtypeWarning)"
   ]
  },
  {
   "cell_type": "code",
   "execution_count": 83,
   "metadata": {},
   "outputs": [],
   "source": [
    "chunk_size = 1000\n",
    "file_id = '01'\n",
    "project_path = \"/home/carolus/Documents/school/green_ia/\" \n",
    "jsonl_02 = project_path + 'data/' + file_id + '_openfoodfacts_04.jsonl' \n",
    "jsonl_sample = project_path + 'data/' + file_id + \"_openfoodfacts_sample.jsonl\"\n",
    "# récupérer la date du jour \n",
    "current_date_time = datetime.now()\n",
    "date_format = \"%d/%m/%Y %H:%M:%S.%f\"\n",
    "start_date = current_date_time.strftime(\"%d/%m/%Y %H:%M:%S.%f\")[:-3]\n",
    "date_code = current_date_time.strftime('%d%m%Y%H%M%S') + f\"{current_date_time.microsecond // 1000:03d}\""
   ]
  },
  {
   "cell_type": "code",
   "execution_count": 84,
   "metadata": {},
   "outputs": [],
   "source": [
    "def add_logs(logData):\n",
    "    print(logData)\n",
    "    #with open(f\"{project_path}logs/03_analysis_{date_code}_logs.txt\", \"a\") as logFile:\n",
    "     #   logFile.write(f'{logData}\\n')"
   ]
  },
  {
   "cell_type": "code",
   "execution_count": 85,
   "metadata": {},
   "outputs": [
    {
     "name": "stdout",
     "output_type": "stream",
     "text": [
      "jsonl format valid: /home/carolus/Documents/school/green_ia/data/01_openfoodfacts_04.jsonl\n"
     ]
    }
   ],
   "source": [
    "# verifie la validité de la structure du fichier jsonl\n",
    "with open(jsonl_02, 'r') as file:\n",
    "    for line in file:\n",
    "        try:\n",
    "            json_object = json.loads(line)\n",
    "        except json.JSONDecodeError as e:\n",
    "            add_logs(f\"ERROR decoding jsonl: {e}\")\n",
    "\n",
    "add_logs(f\"jsonl format valid: {jsonl_02}\")"
   ]
  },
  {
   "cell_type": "markdown",
   "metadata": {},
   "source": [
    "# COUNTRIES:"
   ]
  },
  {
   "cell_type": "code",
   "execution_count": 86,
   "metadata": {},
   "outputs": [
    {
     "name": "stdout",
     "output_type": "stream",
     "text": [
      ": 100.00%\n"
     ]
    }
   ],
   "source": [
    "# retourne une liste des pays présents dans le fichier\n",
    "def extract_countries_from_jsonl(file_path):\n",
    "    countries = []\n",
    "    with open(file_path, 'r', encoding='utf-8') as file:\n",
    "        for line in file:\n",
    "            try:\n",
    "                record = json.loads(line)\n",
    "                country = record.get('countries')\n",
    "                if country is not None:\n",
    "                    countries.append(country)\n",
    "            except json.JSONDecodeError:\n",
    "                print(f\"WARNING line: {line} in {file_path}\")    \n",
    "    return countries\n",
    "countries_list = extract_countries_from_jsonl(jsonl_02)\n",
    "\n",
    "separated_countries = []\n",
    "for entry in countries_list:\n",
    "    countries = [country.strip() for country in entry.split(',')]\n",
    "    separated_countries.extend(countries)\n",
    "\n",
    "country_counts = Counter(separated_countries)\n",
    "total_countries = sum(country_counts.values())\n",
    "\n",
    "data_graph_countries = []\n",
    "for country, count in country_counts.items():\n",
    "    percentage = (count / total_countries) * 100\n",
    "    print(f\"{country}: {percentage:.2f}%\")\n",
    "    data_graph_countries.append({'countries': country, 'percentage': percentage})"
   ]
  },
  {
   "cell_type": "code",
   "execution_count": 87,
   "metadata": {},
   "outputs": [
    {
     "data": {
      "application/vnd.plotly.v1+json": {
       "config": {
        "plotlyServerURL": "https://plot.ly"
       },
       "data": [
        {
         "branchvalues": "total",
         "customdata": [
          [
           100
          ]
         ],
         "domain": {
          "x": [
           0,
           1
          ],
          "y": [
           0,
           1
          ]
         },
         "hovertemplate": "labels=%{label}<br>percentage_sum=%{value}<br>parent=%{parent}<br>id=%{id}<br>percentage=%{color}<extra></extra>",
         "ids": [
          ""
         ],
         "labels": [
          ""
         ],
         "marker": {
          "coloraxis": "coloraxis",
          "colors": [
           100
          ]
         },
         "name": "",
         "parents": [
          ""
         ],
         "type": "treemap",
         "values": [
          100
         ]
        }
       ],
       "layout": {
        "coloraxis": {
         "colorbar": {
          "title": {
           "text": "percentage"
          }
         },
         "colorscale": [
          [
           0,
           "#000004"
          ],
          [
           0.1111111111111111,
           "#180f3d"
          ],
          [
           0.2222222222222222,
           "#440f76"
          ],
          [
           0.3333333333333333,
           "#721f81"
          ],
          [
           0.4444444444444444,
           "#9e2f7f"
          ],
          [
           0.5555555555555556,
           "#cd4071"
          ],
          [
           0.6666666666666666,
           "#f1605d"
          ],
          [
           0.7777777777777778,
           "#fd9668"
          ],
          [
           0.8888888888888888,
           "#feca8d"
          ],
          [
           1,
           "#fcfdbf"
          ]
         ]
        },
        "font": {
         "color": "white"
        },
        "legend": {
         "tracegroupgap": 0
        },
        "paper_bgcolor": "black",
        "plot_bgcolor": "black",
        "template": {
         "data": {
          "bar": [
           {
            "error_x": {
             "color": "#2a3f5f"
            },
            "error_y": {
             "color": "#2a3f5f"
            },
            "marker": {
             "line": {
              "color": "#E5ECF6",
              "width": 0.5
             },
             "pattern": {
              "fillmode": "overlay",
              "size": 10,
              "solidity": 0.2
             }
            },
            "type": "bar"
           }
          ],
          "barpolar": [
           {
            "marker": {
             "line": {
              "color": "#E5ECF6",
              "width": 0.5
             },
             "pattern": {
              "fillmode": "overlay",
              "size": 10,
              "solidity": 0.2
             }
            },
            "type": "barpolar"
           }
          ],
          "carpet": [
           {
            "aaxis": {
             "endlinecolor": "#2a3f5f",
             "gridcolor": "white",
             "linecolor": "white",
             "minorgridcolor": "white",
             "startlinecolor": "#2a3f5f"
            },
            "baxis": {
             "endlinecolor": "#2a3f5f",
             "gridcolor": "white",
             "linecolor": "white",
             "minorgridcolor": "white",
             "startlinecolor": "#2a3f5f"
            },
            "type": "carpet"
           }
          ],
          "choropleth": [
           {
            "colorbar": {
             "outlinewidth": 0,
             "ticks": ""
            },
            "type": "choropleth"
           }
          ],
          "contour": [
           {
            "colorbar": {
             "outlinewidth": 0,
             "ticks": ""
            },
            "colorscale": [
             [
              0,
              "#0d0887"
             ],
             [
              0.1111111111111111,
              "#46039f"
             ],
             [
              0.2222222222222222,
              "#7201a8"
             ],
             [
              0.3333333333333333,
              "#9c179e"
             ],
             [
              0.4444444444444444,
              "#bd3786"
             ],
             [
              0.5555555555555556,
              "#d8576b"
             ],
             [
              0.6666666666666666,
              "#ed7953"
             ],
             [
              0.7777777777777778,
              "#fb9f3a"
             ],
             [
              0.8888888888888888,
              "#fdca26"
             ],
             [
              1,
              "#f0f921"
             ]
            ],
            "type": "contour"
           }
          ],
          "contourcarpet": [
           {
            "colorbar": {
             "outlinewidth": 0,
             "ticks": ""
            },
            "type": "contourcarpet"
           }
          ],
          "heatmap": [
           {
            "colorbar": {
             "outlinewidth": 0,
             "ticks": ""
            },
            "colorscale": [
             [
              0,
              "#0d0887"
             ],
             [
              0.1111111111111111,
              "#46039f"
             ],
             [
              0.2222222222222222,
              "#7201a8"
             ],
             [
              0.3333333333333333,
              "#9c179e"
             ],
             [
              0.4444444444444444,
              "#bd3786"
             ],
             [
              0.5555555555555556,
              "#d8576b"
             ],
             [
              0.6666666666666666,
              "#ed7953"
             ],
             [
              0.7777777777777778,
              "#fb9f3a"
             ],
             [
              0.8888888888888888,
              "#fdca26"
             ],
             [
              1,
              "#f0f921"
             ]
            ],
            "type": "heatmap"
           }
          ],
          "heatmapgl": [
           {
            "colorbar": {
             "outlinewidth": 0,
             "ticks": ""
            },
            "colorscale": [
             [
              0,
              "#0d0887"
             ],
             [
              0.1111111111111111,
              "#46039f"
             ],
             [
              0.2222222222222222,
              "#7201a8"
             ],
             [
              0.3333333333333333,
              "#9c179e"
             ],
             [
              0.4444444444444444,
              "#bd3786"
             ],
             [
              0.5555555555555556,
              "#d8576b"
             ],
             [
              0.6666666666666666,
              "#ed7953"
             ],
             [
              0.7777777777777778,
              "#fb9f3a"
             ],
             [
              0.8888888888888888,
              "#fdca26"
             ],
             [
              1,
              "#f0f921"
             ]
            ],
            "type": "heatmapgl"
           }
          ],
          "histogram": [
           {
            "marker": {
             "pattern": {
              "fillmode": "overlay",
              "size": 10,
              "solidity": 0.2
             }
            },
            "type": "histogram"
           }
          ],
          "histogram2d": [
           {
            "colorbar": {
             "outlinewidth": 0,
             "ticks": ""
            },
            "colorscale": [
             [
              0,
              "#0d0887"
             ],
             [
              0.1111111111111111,
              "#46039f"
             ],
             [
              0.2222222222222222,
              "#7201a8"
             ],
             [
              0.3333333333333333,
              "#9c179e"
             ],
             [
              0.4444444444444444,
              "#bd3786"
             ],
             [
              0.5555555555555556,
              "#d8576b"
             ],
             [
              0.6666666666666666,
              "#ed7953"
             ],
             [
              0.7777777777777778,
              "#fb9f3a"
             ],
             [
              0.8888888888888888,
              "#fdca26"
             ],
             [
              1,
              "#f0f921"
             ]
            ],
            "type": "histogram2d"
           }
          ],
          "histogram2dcontour": [
           {
            "colorbar": {
             "outlinewidth": 0,
             "ticks": ""
            },
            "colorscale": [
             [
              0,
              "#0d0887"
             ],
             [
              0.1111111111111111,
              "#46039f"
             ],
             [
              0.2222222222222222,
              "#7201a8"
             ],
             [
              0.3333333333333333,
              "#9c179e"
             ],
             [
              0.4444444444444444,
              "#bd3786"
             ],
             [
              0.5555555555555556,
              "#d8576b"
             ],
             [
              0.6666666666666666,
              "#ed7953"
             ],
             [
              0.7777777777777778,
              "#fb9f3a"
             ],
             [
              0.8888888888888888,
              "#fdca26"
             ],
             [
              1,
              "#f0f921"
             ]
            ],
            "type": "histogram2dcontour"
           }
          ],
          "mesh3d": [
           {
            "colorbar": {
             "outlinewidth": 0,
             "ticks": ""
            },
            "type": "mesh3d"
           }
          ],
          "parcoords": [
           {
            "line": {
             "colorbar": {
              "outlinewidth": 0,
              "ticks": ""
             }
            },
            "type": "parcoords"
           }
          ],
          "pie": [
           {
            "automargin": true,
            "type": "pie"
           }
          ],
          "scatter": [
           {
            "fillpattern": {
             "fillmode": "overlay",
             "size": 10,
             "solidity": 0.2
            },
            "type": "scatter"
           }
          ],
          "scatter3d": [
           {
            "line": {
             "colorbar": {
              "outlinewidth": 0,
              "ticks": ""
             }
            },
            "marker": {
             "colorbar": {
              "outlinewidth": 0,
              "ticks": ""
             }
            },
            "type": "scatter3d"
           }
          ],
          "scattercarpet": [
           {
            "marker": {
             "colorbar": {
              "outlinewidth": 0,
              "ticks": ""
             }
            },
            "type": "scattercarpet"
           }
          ],
          "scattergeo": [
           {
            "marker": {
             "colorbar": {
              "outlinewidth": 0,
              "ticks": ""
             }
            },
            "type": "scattergeo"
           }
          ],
          "scattergl": [
           {
            "marker": {
             "colorbar": {
              "outlinewidth": 0,
              "ticks": ""
             }
            },
            "type": "scattergl"
           }
          ],
          "scattermapbox": [
           {
            "marker": {
             "colorbar": {
              "outlinewidth": 0,
              "ticks": ""
             }
            },
            "type": "scattermapbox"
           }
          ],
          "scatterpolar": [
           {
            "marker": {
             "colorbar": {
              "outlinewidth": 0,
              "ticks": ""
             }
            },
            "type": "scatterpolar"
           }
          ],
          "scatterpolargl": [
           {
            "marker": {
             "colorbar": {
              "outlinewidth": 0,
              "ticks": ""
             }
            },
            "type": "scatterpolargl"
           }
          ],
          "scatterternary": [
           {
            "marker": {
             "colorbar": {
              "outlinewidth": 0,
              "ticks": ""
             }
            },
            "type": "scatterternary"
           }
          ],
          "surface": [
           {
            "colorbar": {
             "outlinewidth": 0,
             "ticks": ""
            },
            "colorscale": [
             [
              0,
              "#0d0887"
             ],
             [
              0.1111111111111111,
              "#46039f"
             ],
             [
              0.2222222222222222,
              "#7201a8"
             ],
             [
              0.3333333333333333,
              "#9c179e"
             ],
             [
              0.4444444444444444,
              "#bd3786"
             ],
             [
              0.5555555555555556,
              "#d8576b"
             ],
             [
              0.6666666666666666,
              "#ed7953"
             ],
             [
              0.7777777777777778,
              "#fb9f3a"
             ],
             [
              0.8888888888888888,
              "#fdca26"
             ],
             [
              1,
              "#f0f921"
             ]
            ],
            "type": "surface"
           }
          ],
          "table": [
           {
            "cells": {
             "fill": {
              "color": "#EBF0F8"
             },
             "line": {
              "color": "white"
             }
            },
            "header": {
             "fill": {
              "color": "#C8D4E3"
             },
             "line": {
              "color": "white"
             }
            },
            "type": "table"
           }
          ]
         },
         "layout": {
          "annotationdefaults": {
           "arrowcolor": "#2a3f5f",
           "arrowhead": 0,
           "arrowwidth": 1
          },
          "autotypenumbers": "strict",
          "coloraxis": {
           "colorbar": {
            "outlinewidth": 0,
            "ticks": ""
           }
          },
          "colorscale": {
           "diverging": [
            [
             0,
             "#8e0152"
            ],
            [
             0.1,
             "#c51b7d"
            ],
            [
             0.2,
             "#de77ae"
            ],
            [
             0.3,
             "#f1b6da"
            ],
            [
             0.4,
             "#fde0ef"
            ],
            [
             0.5,
             "#f7f7f7"
            ],
            [
             0.6,
             "#e6f5d0"
            ],
            [
             0.7,
             "#b8e186"
            ],
            [
             0.8,
             "#7fbc41"
            ],
            [
             0.9,
             "#4d9221"
            ],
            [
             1,
             "#276419"
            ]
           ],
           "sequential": [
            [
             0,
             "#0d0887"
            ],
            [
             0.1111111111111111,
             "#46039f"
            ],
            [
             0.2222222222222222,
             "#7201a8"
            ],
            [
             0.3333333333333333,
             "#9c179e"
            ],
            [
             0.4444444444444444,
             "#bd3786"
            ],
            [
             0.5555555555555556,
             "#d8576b"
            ],
            [
             0.6666666666666666,
             "#ed7953"
            ],
            [
             0.7777777777777778,
             "#fb9f3a"
            ],
            [
             0.8888888888888888,
             "#fdca26"
            ],
            [
             1,
             "#f0f921"
            ]
           ],
           "sequentialminus": [
            [
             0,
             "#0d0887"
            ],
            [
             0.1111111111111111,
             "#46039f"
            ],
            [
             0.2222222222222222,
             "#7201a8"
            ],
            [
             0.3333333333333333,
             "#9c179e"
            ],
            [
             0.4444444444444444,
             "#bd3786"
            ],
            [
             0.5555555555555556,
             "#d8576b"
            ],
            [
             0.6666666666666666,
             "#ed7953"
            ],
            [
             0.7777777777777778,
             "#fb9f3a"
            ],
            [
             0.8888888888888888,
             "#fdca26"
            ],
            [
             1,
             "#f0f921"
            ]
           ]
          },
          "colorway": [
           "#636efa",
           "#EF553B",
           "#00cc96",
           "#ab63fa",
           "#FFA15A",
           "#19d3f3",
           "#FF6692",
           "#B6E880",
           "#FF97FF",
           "#FECB52"
          ],
          "font": {
           "color": "#2a3f5f"
          },
          "geo": {
           "bgcolor": "white",
           "lakecolor": "white",
           "landcolor": "#E5ECF6",
           "showlakes": true,
           "showland": true,
           "subunitcolor": "white"
          },
          "hoverlabel": {
           "align": "left"
          },
          "hovermode": "closest",
          "mapbox": {
           "style": "light"
          },
          "paper_bgcolor": "white",
          "plot_bgcolor": "#E5ECF6",
          "polar": {
           "angularaxis": {
            "gridcolor": "white",
            "linecolor": "white",
            "ticks": ""
           },
           "bgcolor": "#E5ECF6",
           "radialaxis": {
            "gridcolor": "white",
            "linecolor": "white",
            "ticks": ""
           }
          },
          "scene": {
           "xaxis": {
            "backgroundcolor": "#E5ECF6",
            "gridcolor": "white",
            "gridwidth": 2,
            "linecolor": "white",
            "showbackground": true,
            "ticks": "",
            "zerolinecolor": "white"
           },
           "yaxis": {
            "backgroundcolor": "#E5ECF6",
            "gridcolor": "white",
            "gridwidth": 2,
            "linecolor": "white",
            "showbackground": true,
            "ticks": "",
            "zerolinecolor": "white"
           },
           "zaxis": {
            "backgroundcolor": "#E5ECF6",
            "gridcolor": "white",
            "gridwidth": 2,
            "linecolor": "white",
            "showbackground": true,
            "ticks": "",
            "zerolinecolor": "white"
           }
          },
          "shapedefaults": {
           "line": {
            "color": "#2a3f5f"
           }
          },
          "ternary": {
           "aaxis": {
            "gridcolor": "white",
            "linecolor": "white",
            "ticks": ""
           },
           "baxis": {
            "gridcolor": "white",
            "linecolor": "white",
            "ticks": ""
           },
           "bgcolor": "#E5ECF6",
           "caxis": {
            "gridcolor": "white",
            "linecolor": "white",
            "ticks": ""
           }
          },
          "title": {
           "x": 0.05
          },
          "xaxis": {
           "automargin": true,
           "gridcolor": "white",
           "linecolor": "white",
           "ticks": "",
           "title": {
            "standoff": 15
           },
           "zerolinecolor": "white",
           "zerolinewidth": 2
          },
          "yaxis": {
           "automargin": true,
           "gridcolor": "white",
           "linecolor": "white",
           "ticks": "",
           "title": {
            "standoff": 15
           },
           "zerolinecolor": "white",
           "zerolinewidth": 2
          }
         }
        },
        "title": {
         "text": "countries treemap"
        }
       }
      }
     },
     "metadata": {},
     "output_type": "display_data"
    }
   ],
   "source": [
    "df = pd.DataFrame(data_graph_countries)\n",
    "fig = px.treemap(df, path=['countries'], values='percentage',\n",
    "                 color='percentage', color_continuous_scale='Magma',\n",
    "                 title='countries treemap')\n",
    "fig.update_layout(\n",
    "    paper_bgcolor='black',  \n",
    "    plot_bgcolor='black',   \n",
    "    font_color='white'      \n",
    ")\n",
    "fig.show()"
   ]
  },
  {
   "cell_type": "markdown",
   "metadata": {},
   "source": [
    "# ECOSCORE GRAD:"
   ]
  },
  {
   "cell_type": "code",
   "execution_count": 88,
   "metadata": {},
   "outputs": [
    {
     "name": "stdout",
     "output_type": "stream",
     "text": [
      "32.0: 0.80%\n",
      "59.0: 0.85%\n",
      "43.0: 1.52%\n",
      "34.0: 3.60%\n",
      "67.0: 5.21%\n",
      "0.0: 2.43%\n",
      "65.0: 0.62%\n",
      "23.0: 0.70%\n",
      "79.0: 7.28%\n",
      "12.0: 1.31%\n",
      "57.0: 0.96%\n",
      "4.0: 0.74%\n",
      "35.0: 1.23%\n",
      "37.0: 1.54%\n",
      "71.0: 1.10%\n",
      "63.0: 0.62%\n",
      "10.0: 0.17%\n",
      "68.0: 1.10%\n",
      "86.0: 0.12%\n",
      "41.0: 0.66%\n",
      "25.0: 1.34%\n",
      "14.0: 0.40%\n",
      "52.0: 0.67%\n",
      "60.0: 1.49%\n",
      "77.0: 2.09%\n",
      "19.0: 1.26%\n",
      "13.0: 0.29%\n",
      "76.0: 1.45%\n",
      "50.0: 1.69%\n",
      "78.0: 1.40%\n",
      "39.0: 1.95%\n",
      "16.0: 1.07%\n",
      "53.0: 0.74%\n",
      "36.0: 1.41%\n",
      "21.0: 1.96%\n",
      "22.0: 1.01%\n",
      "91.0: 0.26%\n",
      "5.0: 0.39%\n",
      "75.0: 1.82%\n",
      "54.0: 1.39%\n",
      "26.0: 0.50%\n",
      "3.0: 0.32%\n",
      "1.0: 0.26%\n",
      "49.0: 2.56%\n",
      "66.0: 0.84%\n",
      "44.0: 1.50%\n",
      "72.0: 3.90%\n",
      "100.0: 1.22%\n",
      "27.0: 1.77%\n",
      "30.0: 1.07%\n",
      "2.0: 0.46%\n",
      "55.0: 0.91%\n",
      "74.0: 1.23%\n",
      "31.0: 0.62%\n",
      "38.0: 1.26%\n",
      "81.0: 0.34%\n",
      "20.0: 0.45%\n",
      "64.0: 1.17%\n",
      "45.0: 1.29%\n",
      "9.0: 0.56%\n",
      "58.0: 1.01%\n",
      "18.0: 0.89%\n",
      "40.0: 0.81%\n",
      "51.0: 0.84%\n",
      "8.0: 0.39%\n",
      "17.0: 0.44%\n",
      "84.0: 0.17%\n",
      "15.0: 1.69%\n",
      "42.0: 1.83%\n",
      "94.0: 0.14%\n",
      "46.0: 0.51%\n",
      "62.0: 1.09%\n",
      "83.0: 0.25%\n",
      "73.0: 0.85%\n",
      "48.0: 0.83%\n",
      "90.0: 0.21%\n",
      "70.0: 1.12%\n",
      "24.0: 0.59%\n",
      "85.0: 0.31%\n",
      "61.0: 0.36%\n",
      "99.0: 0.10%\n",
      "6.0: 0.43%\n",
      "28.0: 0.75%\n",
      "47.0: 0.82%\n",
      "69.0: 0.74%\n",
      "82.0: 0.24%\n",
      "80.0: 0.28%\n",
      "56.0: 0.66%\n",
      "7.0: 0.12%\n",
      "29.0: 0.84%\n",
      "98.0: 0.08%\n",
      "92.0: 0.16%\n",
      "33.0: 0.49%\n",
      "96.0: 0.10%\n",
      "11.0: 0.19%\n",
      "88.0: 0.17%\n",
      "89.0: 0.16%\n",
      "93.0: 0.13%\n",
      "97.0: 0.08%\n",
      "87.0: 0.14%\n",
      "95.0: 0.10%\n",
      "78.4170138324: 0.00%\n"
     ]
    }
   ],
   "source": [
    "# retourne une liste des notes écoscores présentes dans le fichier\n",
    "def extract_grad_ecoscore_from_jsonl(file_path):\n",
    "    ecoscore_grad_list = []\n",
    "    with open(file_path, 'r', encoding='utf-8') as file:\n",
    "        for line in file:\n",
    "            try:\n",
    "                record = json.loads(line)\n",
    "                ecoscore_grad = record.get('ecoscore_note')\n",
    "                if ecoscore_grad is not None:\n",
    "                    ecoscore_grad_list.append(ecoscore_grad)\n",
    "            except json.JSONDecodeError:\n",
    "                print(f\"WARNING line: {line} in {file_path}\")\n",
    "    return ecoscore_grad_list\n",
    "ecoscore_grad_list = extract_grad_ecoscore_from_jsonl(jsonl_02)\n",
    "\n",
    "ecoscore_grad_counts = Counter(ecoscore_grad_list)\n",
    "total_ecoscore_grads = sum(ecoscore_grad_counts.values())\n",
    "data_graph_ecoscore_grad = []\n",
    "for ecoscore_grad, count in ecoscore_grad_counts.items():\n",
    "    percentage = (count / total_ecoscore_grads) * 100\n",
    "    print(f\"{ecoscore_grad}: {percentage:.2f}%\")\n",
    "    data_graph_ecoscore_grad.append({'ecoscore_grad': ecoscore_grad, 'percentage': percentage})"
   ]
  },
  {
   "cell_type": "code",
   "execution_count": 89,
   "metadata": {},
   "outputs": [
    {
     "data": {
      "application/vnd.plotly.v1+json": {
       "config": {
        "plotlyServerURL": "https://plot.ly"
       },
       "data": [
        {
         "branchvalues": "total",
         "customdata": [
          [
           2.428160172677969
          ],
          [
           0.2613932557569637
          ],
          [
           0.4638740163717329
          ],
          [
           0.3189443276920906
          ],
          [
           0.741851882105701
          ],
          [
           0.3886244427447281
          ],
          [
           0.42934337321065674
          ],
          [
           0.12017653946023282
          ],
          [
           0.3914710549049602
          ],
          [
           0.5552131369913538
          ],
          [
           0.17252945005928377
          ],
          [
           0.18552485339947375
          ],
          [
           1.30857523348408
          ],
          [
           0.2898593773592845
          ],
          [
           0.3961741532566481
          ],
          [
           1.6870508850488501
          ],
          [
           1.0659943711338675
          ],
          [
           0.44308137102742895
          ],
          [
           0.8906183089143517
          ],
          [
           1.2622868444437843
          ],
          [
           0.4542202881761632
          ],
          [
           1.958716697731869
          ],
          [
           1.0057204527846055
          ],
          [
           0.6996477626866078
          ],
          [
           0.5908576718673033
          ],
          [
           1.337412652324692
          ],
          [
           0.5024889291540116
          ],
          [
           1.7733156100784921
          ],
          [
           0.7527432677622409
          ],
          [
           0.8404931817450475
          ],
          [
           1.0735440816457875
          ],
          [
           0.624274423313506
          ],
          [
           0.7969276391188869
          ],
          [
           0.48763703962236593
          ],
          [
           3.6039347605999175
          ],
          [
           1.2299839847124552
          ],
          [
           1.4065977043929414
          ],
          [
           1.5397696471933642
          ],
          [
           1.2579550433303877
          ],
          [
           1.9524046446809193
          ],
          [
           0.8088091507442035
          ],
          [
           0.6575674090136118
          ],
          [
           1.827648772615096
          ],
          [
           1.521452316771001
          ],
          [
           1.5022686261259588
          ],
          [
           1.2937233439524343
          ],
          [
           0.5071920275056995
          ],
          [
           0.8169776899866086
          ],
          [
           0.8283641386275369
          ],
          [
           2.562074709954974
          ],
          [
           1.6891549027325
          ],
          [
           0.8447012171123471
          ],
          [
           0.6724192985452574
          ],
          [
           0.744698494265933
          ],
          [
           1.3893942656854519
          ],
          [
           0.9117822514969467
          ],
          [
           0.6570723460292236
          ],
          [
           0.9584419377755333
          ],
          [
           1.0067105787533819
          ],
          [
           0.8531172878469463
          ],
          [
           1.4905108802467393
          ],
          [
           0.3589206636814369
          ],
          [
           1.091242583337665
          ],
          [
           0.6201901536923035
          ],
          [
           1.1734230387461044
          ],
          [
           0.6152395238484216
          ],
          [
           0.8359138491394568
          ],
          [
           5.2141271173225014
          ],
          [
           1.0955743844510617
          ],
          [
           0.7438321340432537
          ],
          [
           1.122431551354121
          ],
          [
           1.0958219159432558
          ],
          [
           3.902705271678189
          ],
          [
           0.8513845674015875
          ],
          [
           1.2281274985209993
          ],
          [
           1.8177475129273324
          ],
          [
           1.447811697843258
          ],
          [
           2.0907747488174184
          ],
          [
           1.3997905883576038
          ],
          [
           0.0001237657460970472
          ],
          [
           7.281881437365868
          ],
          [
           0.27946305468713256
          ],
          [
           0.3414696934817532
          ],
          [
           0.236021277807069
          ],
          [
           0.25223459054578223
          ],
          [
           0.17314827878976904
          ],
          [
           0.31424122934040283
          ],
          [
           0.11869135050706828
          ],
          [
           0.1419593107733131
          ],
          [
           0.17030166662953694
          ],
          [
           0.15743002903544404
          ],
          [
           0.2066887959820688
          ],
          [
           0.26362103918671054
          ],
          [
           0.15619237157447355
          ],
          [
           0.1326768798160346
          ],
          [
           0.14431085994915704
          ],
          [
           0.10235427202225801
          ],
          [
           0.1038394609754226
          ],
          [
           0.08378941010770095
          ],
          [
           0.08267551839282752
          ],
          [
           0.09777493941666728
          ],
          [
           1.2205777880090796
          ]
         ],
         "domain": {
          "x": [
           0,
           1
          ],
          "y": [
           0,
           1
          ]
         },
         "hovertemplate": "labels=%{label}<br>percentage_sum=%{value}<br>parent=%{parent}<br>id=%{id}<br>percentage=%{color}<extra></extra>",
         "ids": [
          "0.0",
          "1.0",
          "2.0",
          "3.0",
          "4.0",
          "5.0",
          "6.0",
          "7.0",
          "8.0",
          "9.0",
          "10.0",
          "11.0",
          "12.0",
          "13.0",
          "14.0",
          "15.0",
          "16.0",
          "17.0",
          "18.0",
          "19.0",
          "20.0",
          "21.0",
          "22.0",
          "23.0",
          "24.0",
          "25.0",
          "26.0",
          "27.0",
          "28.0",
          "29.0",
          "30.0",
          "31.0",
          "32.0",
          "33.0",
          "34.0",
          "35.0",
          "36.0",
          "37.0",
          "38.0",
          "39.0",
          "40.0",
          "41.0",
          "42.0",
          "43.0",
          "44.0",
          "45.0",
          "46.0",
          "47.0",
          "48.0",
          "49.0",
          "50.0",
          "51.0",
          "52.0",
          "53.0",
          "54.0",
          "55.0",
          "56.0",
          "57.0",
          "58.0",
          "59.0",
          "60.0",
          "61.0",
          "62.0",
          "63.0",
          "64.0",
          "65.0",
          "66.0",
          "67.0",
          "68.0",
          "69.0",
          "70.0",
          "71.0",
          "72.0",
          "73.0",
          "74.0",
          "75.0",
          "76.0",
          "77.0",
          "78.0",
          "78.4170138324",
          "79.0",
          "80.0",
          "81.0",
          "82.0",
          "83.0",
          "84.0",
          "85.0",
          "86.0",
          "87.0",
          "88.0",
          "89.0",
          "90.0",
          "91.0",
          "92.0",
          "93.0",
          "94.0",
          "95.0",
          "96.0",
          "97.0",
          "98.0",
          "99.0",
          "100.0"
         ],
         "labels": [
          "0.0",
          "1.0",
          "2.0",
          "3.0",
          "4.0",
          "5.0",
          "6.0",
          "7.0",
          "8.0",
          "9.0",
          "10.0",
          "11.0",
          "12.0",
          "13.0",
          "14.0",
          "15.0",
          "16.0",
          "17.0",
          "18.0",
          "19.0",
          "20.0",
          "21.0",
          "22.0",
          "23.0",
          "24.0",
          "25.0",
          "26.0",
          "27.0",
          "28.0",
          "29.0",
          "30.0",
          "31.0",
          "32.0",
          "33.0",
          "34.0",
          "35.0",
          "36.0",
          "37.0",
          "38.0",
          "39.0",
          "40.0",
          "41.0",
          "42.0",
          "43.0",
          "44.0",
          "45.0",
          "46.0",
          "47.0",
          "48.0",
          "49.0",
          "50.0",
          "51.0",
          "52.0",
          "53.0",
          "54.0",
          "55.0",
          "56.0",
          "57.0",
          "58.0",
          "59.0",
          "60.0",
          "61.0",
          "62.0",
          "63.0",
          "64.0",
          "65.0",
          "66.0",
          "67.0",
          "68.0",
          "69.0",
          "70.0",
          "71.0",
          "72.0",
          "73.0",
          "74.0",
          "75.0",
          "76.0",
          "77.0",
          "78.0",
          "78.4170138324",
          "79.0",
          "80.0",
          "81.0",
          "82.0",
          "83.0",
          "84.0",
          "85.0",
          "86.0",
          "87.0",
          "88.0",
          "89.0",
          "90.0",
          "91.0",
          "92.0",
          "93.0",
          "94.0",
          "95.0",
          "96.0",
          "97.0",
          "98.0",
          "99.0",
          "100.0"
         ],
         "marker": {
          "coloraxis": "coloraxis",
          "colors": [
           2.428160172677969,
           0.2613932557569637,
           0.4638740163717329,
           0.3189443276920906,
           0.741851882105701,
           0.3886244427447281,
           0.42934337321065674,
           0.12017653946023282,
           0.3914710549049602,
           0.5552131369913538,
           0.17252945005928377,
           0.18552485339947375,
           1.30857523348408,
           0.2898593773592845,
           0.3961741532566481,
           1.6870508850488501,
           1.0659943711338675,
           0.44308137102742895,
           0.8906183089143517,
           1.2622868444437843,
           0.4542202881761632,
           1.958716697731869,
           1.0057204527846055,
           0.6996477626866078,
           0.5908576718673033,
           1.337412652324692,
           0.5024889291540116,
           1.7733156100784921,
           0.7527432677622409,
           0.8404931817450475,
           1.0735440816457875,
           0.624274423313506,
           0.7969276391188869,
           0.48763703962236593,
           3.6039347605999175,
           1.2299839847124552,
           1.4065977043929414,
           1.5397696471933642,
           1.2579550433303877,
           1.9524046446809193,
           0.8088091507442035,
           0.6575674090136118,
           1.827648772615096,
           1.521452316771001,
           1.5022686261259588,
           1.2937233439524343,
           0.5071920275056995,
           0.8169776899866086,
           0.8283641386275369,
           2.562074709954974,
           1.6891549027325,
           0.8447012171123471,
           0.6724192985452574,
           0.744698494265933,
           1.3893942656854519,
           0.9117822514969467,
           0.6570723460292236,
           0.9584419377755333,
           1.0067105787533819,
           0.8531172878469463,
           1.4905108802467393,
           0.3589206636814369,
           1.091242583337665,
           0.6201901536923035,
           1.1734230387461044,
           0.6152395238484216,
           0.8359138491394568,
           5.2141271173225014,
           1.0955743844510617,
           0.7438321340432537,
           1.122431551354121,
           1.0958219159432558,
           3.902705271678189,
           0.8513845674015875,
           1.2281274985209993,
           1.8177475129273324,
           1.447811697843258,
           2.0907747488174184,
           1.3997905883576038,
           0.0001237657460970472,
           7.281881437365868,
           0.27946305468713256,
           0.3414696934817532,
           0.236021277807069,
           0.25223459054578223,
           0.17314827878976904,
           0.31424122934040283,
           0.11869135050706828,
           0.1419593107733131,
           0.17030166662953694,
           0.15743002903544404,
           0.2066887959820688,
           0.26362103918671054,
           0.15619237157447355,
           0.1326768798160346,
           0.14431085994915704,
           0.10235427202225801,
           0.1038394609754226,
           0.08378941010770095,
           0.08267551839282752,
           0.09777493941666728,
           1.2205777880090796
          ]
         },
         "name": "",
         "parents": [
          "",
          "",
          "",
          "",
          "",
          "",
          "",
          "",
          "",
          "",
          "",
          "",
          "",
          "",
          "",
          "",
          "",
          "",
          "",
          "",
          "",
          "",
          "",
          "",
          "",
          "",
          "",
          "",
          "",
          "",
          "",
          "",
          "",
          "",
          "",
          "",
          "",
          "",
          "",
          "",
          "",
          "",
          "",
          "",
          "",
          "",
          "",
          "",
          "",
          "",
          "",
          "",
          "",
          "",
          "",
          "",
          "",
          "",
          "",
          "",
          "",
          "",
          "",
          "",
          "",
          "",
          "",
          "",
          "",
          "",
          "",
          "",
          "",
          "",
          "",
          "",
          "",
          "",
          "",
          "",
          "",
          "",
          "",
          "",
          "",
          "",
          "",
          "",
          "",
          "",
          "",
          "",
          "",
          "",
          "",
          "",
          "",
          "",
          "",
          "",
          "",
          ""
         ],
         "type": "treemap",
         "values": [
          2.428160172677969,
          0.2613932557569637,
          0.4638740163717329,
          0.3189443276920906,
          0.7418518821057009,
          0.3886244427447282,
          0.42934337321065674,
          0.12017653946023282,
          0.39147105490496026,
          0.5552131369913538,
          0.17252945005928377,
          0.18552485339947375,
          1.30857523348408,
          0.2898593773592845,
          0.39617415325664807,
          1.6870508850488501,
          1.0659943711338675,
          0.44308137102742895,
          0.8906183089143517,
          1.2622868444437843,
          0.4542202881761632,
          1.958716697731869,
          1.0057204527846055,
          0.6996477626866078,
          0.5908576718673033,
          1.337412652324692,
          0.5024889291540116,
          1.7733156100784921,
          0.752743267762241,
          0.8404931817450475,
          1.0735440816457875,
          0.624274423313506,
          0.7969276391188869,
          0.48763703962236593,
          3.6039347605999175,
          1.2299839847124552,
          1.4065977043929414,
          1.5397696471933642,
          1.2579550433303877,
          1.9524046446809193,
          0.8088091507442035,
          0.6575674090136118,
          1.827648772615096,
          1.5214523167710012,
          1.5022686261259588,
          1.2937233439524343,
          0.5071920275056995,
          0.8169776899866086,
          0.8283641386275369,
          2.562074709954974,
          1.6891549027325001,
          0.8447012171123471,
          0.6724192985452574,
          0.744698494265933,
          1.3893942656854519,
          0.9117822514969467,
          0.6570723460292236,
          0.9584419377755334,
          1.0067105787533819,
          0.8531172878469464,
          1.4905108802467393,
          0.3589206636814369,
          1.091242583337665,
          0.6201901536923035,
          1.1734230387461044,
          0.6152395238484216,
          0.8359138491394568,
          5.2141271173225014,
          1.0955743844510617,
          0.7438321340432537,
          1.122431551354121,
          1.0958219159432558,
          3.902705271678189,
          0.8513845674015876,
          1.2281274985209993,
          1.8177475129273324,
          1.447811697843258,
          2.0907747488174184,
          1.3997905883576038,
          0.0001237657460970472,
          7.281881437365868,
          0.27946305468713256,
          0.3414696934817532,
          0.236021277807069,
          0.25223459054578223,
          0.17314827878976904,
          0.31424122934040283,
          0.11869135050706828,
          0.1419593107733131,
          0.17030166662953694,
          0.15743002903544404,
          0.2066887959820688,
          0.26362103918671054,
          0.15619237157447355,
          0.1326768798160346,
          0.14431085994915704,
          0.10235427202225802,
          0.1038394609754226,
          0.08378941010770095,
          0.08267551839282752,
          0.09777493941666728,
          1.2205777880090796
         ]
        }
       ],
       "layout": {
        "coloraxis": {
         "colorbar": {
          "title": {
           "text": "percentage"
          }
         },
         "colorscale": [
          [
           0,
           "#000004"
          ],
          [
           0.1111111111111111,
           "#180f3d"
          ],
          [
           0.2222222222222222,
           "#440f76"
          ],
          [
           0.3333333333333333,
           "#721f81"
          ],
          [
           0.4444444444444444,
           "#9e2f7f"
          ],
          [
           0.5555555555555556,
           "#cd4071"
          ],
          [
           0.6666666666666666,
           "#f1605d"
          ],
          [
           0.7777777777777778,
           "#fd9668"
          ],
          [
           0.8888888888888888,
           "#feca8d"
          ],
          [
           1,
           "#fcfdbf"
          ]
         ]
        },
        "font": {
         "color": "white"
        },
        "legend": {
         "tracegroupgap": 0
        },
        "paper_bgcolor": "black",
        "plot_bgcolor": "black",
        "template": {
         "data": {
          "bar": [
           {
            "error_x": {
             "color": "#2a3f5f"
            },
            "error_y": {
             "color": "#2a3f5f"
            },
            "marker": {
             "line": {
              "color": "#E5ECF6",
              "width": 0.5
             },
             "pattern": {
              "fillmode": "overlay",
              "size": 10,
              "solidity": 0.2
             }
            },
            "type": "bar"
           }
          ],
          "barpolar": [
           {
            "marker": {
             "line": {
              "color": "#E5ECF6",
              "width": 0.5
             },
             "pattern": {
              "fillmode": "overlay",
              "size": 10,
              "solidity": 0.2
             }
            },
            "type": "barpolar"
           }
          ],
          "carpet": [
           {
            "aaxis": {
             "endlinecolor": "#2a3f5f",
             "gridcolor": "white",
             "linecolor": "white",
             "minorgridcolor": "white",
             "startlinecolor": "#2a3f5f"
            },
            "baxis": {
             "endlinecolor": "#2a3f5f",
             "gridcolor": "white",
             "linecolor": "white",
             "minorgridcolor": "white",
             "startlinecolor": "#2a3f5f"
            },
            "type": "carpet"
           }
          ],
          "choropleth": [
           {
            "colorbar": {
             "outlinewidth": 0,
             "ticks": ""
            },
            "type": "choropleth"
           }
          ],
          "contour": [
           {
            "colorbar": {
             "outlinewidth": 0,
             "ticks": ""
            },
            "colorscale": [
             [
              0,
              "#0d0887"
             ],
             [
              0.1111111111111111,
              "#46039f"
             ],
             [
              0.2222222222222222,
              "#7201a8"
             ],
             [
              0.3333333333333333,
              "#9c179e"
             ],
             [
              0.4444444444444444,
              "#bd3786"
             ],
             [
              0.5555555555555556,
              "#d8576b"
             ],
             [
              0.6666666666666666,
              "#ed7953"
             ],
             [
              0.7777777777777778,
              "#fb9f3a"
             ],
             [
              0.8888888888888888,
              "#fdca26"
             ],
             [
              1,
              "#f0f921"
             ]
            ],
            "type": "contour"
           }
          ],
          "contourcarpet": [
           {
            "colorbar": {
             "outlinewidth": 0,
             "ticks": ""
            },
            "type": "contourcarpet"
           }
          ],
          "heatmap": [
           {
            "colorbar": {
             "outlinewidth": 0,
             "ticks": ""
            },
            "colorscale": [
             [
              0,
              "#0d0887"
             ],
             [
              0.1111111111111111,
              "#46039f"
             ],
             [
              0.2222222222222222,
              "#7201a8"
             ],
             [
              0.3333333333333333,
              "#9c179e"
             ],
             [
              0.4444444444444444,
              "#bd3786"
             ],
             [
              0.5555555555555556,
              "#d8576b"
             ],
             [
              0.6666666666666666,
              "#ed7953"
             ],
             [
              0.7777777777777778,
              "#fb9f3a"
             ],
             [
              0.8888888888888888,
              "#fdca26"
             ],
             [
              1,
              "#f0f921"
             ]
            ],
            "type": "heatmap"
           }
          ],
          "heatmapgl": [
           {
            "colorbar": {
             "outlinewidth": 0,
             "ticks": ""
            },
            "colorscale": [
             [
              0,
              "#0d0887"
             ],
             [
              0.1111111111111111,
              "#46039f"
             ],
             [
              0.2222222222222222,
              "#7201a8"
             ],
             [
              0.3333333333333333,
              "#9c179e"
             ],
             [
              0.4444444444444444,
              "#bd3786"
             ],
             [
              0.5555555555555556,
              "#d8576b"
             ],
             [
              0.6666666666666666,
              "#ed7953"
             ],
             [
              0.7777777777777778,
              "#fb9f3a"
             ],
             [
              0.8888888888888888,
              "#fdca26"
             ],
             [
              1,
              "#f0f921"
             ]
            ],
            "type": "heatmapgl"
           }
          ],
          "histogram": [
           {
            "marker": {
             "pattern": {
              "fillmode": "overlay",
              "size": 10,
              "solidity": 0.2
             }
            },
            "type": "histogram"
           }
          ],
          "histogram2d": [
           {
            "colorbar": {
             "outlinewidth": 0,
             "ticks": ""
            },
            "colorscale": [
             [
              0,
              "#0d0887"
             ],
             [
              0.1111111111111111,
              "#46039f"
             ],
             [
              0.2222222222222222,
              "#7201a8"
             ],
             [
              0.3333333333333333,
              "#9c179e"
             ],
             [
              0.4444444444444444,
              "#bd3786"
             ],
             [
              0.5555555555555556,
              "#d8576b"
             ],
             [
              0.6666666666666666,
              "#ed7953"
             ],
             [
              0.7777777777777778,
              "#fb9f3a"
             ],
             [
              0.8888888888888888,
              "#fdca26"
             ],
             [
              1,
              "#f0f921"
             ]
            ],
            "type": "histogram2d"
           }
          ],
          "histogram2dcontour": [
           {
            "colorbar": {
             "outlinewidth": 0,
             "ticks": ""
            },
            "colorscale": [
             [
              0,
              "#0d0887"
             ],
             [
              0.1111111111111111,
              "#46039f"
             ],
             [
              0.2222222222222222,
              "#7201a8"
             ],
             [
              0.3333333333333333,
              "#9c179e"
             ],
             [
              0.4444444444444444,
              "#bd3786"
             ],
             [
              0.5555555555555556,
              "#d8576b"
             ],
             [
              0.6666666666666666,
              "#ed7953"
             ],
             [
              0.7777777777777778,
              "#fb9f3a"
             ],
             [
              0.8888888888888888,
              "#fdca26"
             ],
             [
              1,
              "#f0f921"
             ]
            ],
            "type": "histogram2dcontour"
           }
          ],
          "mesh3d": [
           {
            "colorbar": {
             "outlinewidth": 0,
             "ticks": ""
            },
            "type": "mesh3d"
           }
          ],
          "parcoords": [
           {
            "line": {
             "colorbar": {
              "outlinewidth": 0,
              "ticks": ""
             }
            },
            "type": "parcoords"
           }
          ],
          "pie": [
           {
            "automargin": true,
            "type": "pie"
           }
          ],
          "scatter": [
           {
            "fillpattern": {
             "fillmode": "overlay",
             "size": 10,
             "solidity": 0.2
            },
            "type": "scatter"
           }
          ],
          "scatter3d": [
           {
            "line": {
             "colorbar": {
              "outlinewidth": 0,
              "ticks": ""
             }
            },
            "marker": {
             "colorbar": {
              "outlinewidth": 0,
              "ticks": ""
             }
            },
            "type": "scatter3d"
           }
          ],
          "scattercarpet": [
           {
            "marker": {
             "colorbar": {
              "outlinewidth": 0,
              "ticks": ""
             }
            },
            "type": "scattercarpet"
           }
          ],
          "scattergeo": [
           {
            "marker": {
             "colorbar": {
              "outlinewidth": 0,
              "ticks": ""
             }
            },
            "type": "scattergeo"
           }
          ],
          "scattergl": [
           {
            "marker": {
             "colorbar": {
              "outlinewidth": 0,
              "ticks": ""
             }
            },
            "type": "scattergl"
           }
          ],
          "scattermapbox": [
           {
            "marker": {
             "colorbar": {
              "outlinewidth": 0,
              "ticks": ""
             }
            },
            "type": "scattermapbox"
           }
          ],
          "scatterpolar": [
           {
            "marker": {
             "colorbar": {
              "outlinewidth": 0,
              "ticks": ""
             }
            },
            "type": "scatterpolar"
           }
          ],
          "scatterpolargl": [
           {
            "marker": {
             "colorbar": {
              "outlinewidth": 0,
              "ticks": ""
             }
            },
            "type": "scatterpolargl"
           }
          ],
          "scatterternary": [
           {
            "marker": {
             "colorbar": {
              "outlinewidth": 0,
              "ticks": ""
             }
            },
            "type": "scatterternary"
           }
          ],
          "surface": [
           {
            "colorbar": {
             "outlinewidth": 0,
             "ticks": ""
            },
            "colorscale": [
             [
              0,
              "#0d0887"
             ],
             [
              0.1111111111111111,
              "#46039f"
             ],
             [
              0.2222222222222222,
              "#7201a8"
             ],
             [
              0.3333333333333333,
              "#9c179e"
             ],
             [
              0.4444444444444444,
              "#bd3786"
             ],
             [
              0.5555555555555556,
              "#d8576b"
             ],
             [
              0.6666666666666666,
              "#ed7953"
             ],
             [
              0.7777777777777778,
              "#fb9f3a"
             ],
             [
              0.8888888888888888,
              "#fdca26"
             ],
             [
              1,
              "#f0f921"
             ]
            ],
            "type": "surface"
           }
          ],
          "table": [
           {
            "cells": {
             "fill": {
              "color": "#EBF0F8"
             },
             "line": {
              "color": "white"
             }
            },
            "header": {
             "fill": {
              "color": "#C8D4E3"
             },
             "line": {
              "color": "white"
             }
            },
            "type": "table"
           }
          ]
         },
         "layout": {
          "annotationdefaults": {
           "arrowcolor": "#2a3f5f",
           "arrowhead": 0,
           "arrowwidth": 1
          },
          "autotypenumbers": "strict",
          "coloraxis": {
           "colorbar": {
            "outlinewidth": 0,
            "ticks": ""
           }
          },
          "colorscale": {
           "diverging": [
            [
             0,
             "#8e0152"
            ],
            [
             0.1,
             "#c51b7d"
            ],
            [
             0.2,
             "#de77ae"
            ],
            [
             0.3,
             "#f1b6da"
            ],
            [
             0.4,
             "#fde0ef"
            ],
            [
             0.5,
             "#f7f7f7"
            ],
            [
             0.6,
             "#e6f5d0"
            ],
            [
             0.7,
             "#b8e186"
            ],
            [
             0.8,
             "#7fbc41"
            ],
            [
             0.9,
             "#4d9221"
            ],
            [
             1,
             "#276419"
            ]
           ],
           "sequential": [
            [
             0,
             "#0d0887"
            ],
            [
             0.1111111111111111,
             "#46039f"
            ],
            [
             0.2222222222222222,
             "#7201a8"
            ],
            [
             0.3333333333333333,
             "#9c179e"
            ],
            [
             0.4444444444444444,
             "#bd3786"
            ],
            [
             0.5555555555555556,
             "#d8576b"
            ],
            [
             0.6666666666666666,
             "#ed7953"
            ],
            [
             0.7777777777777778,
             "#fb9f3a"
            ],
            [
             0.8888888888888888,
             "#fdca26"
            ],
            [
             1,
             "#f0f921"
            ]
           ],
           "sequentialminus": [
            [
             0,
             "#0d0887"
            ],
            [
             0.1111111111111111,
             "#46039f"
            ],
            [
             0.2222222222222222,
             "#7201a8"
            ],
            [
             0.3333333333333333,
             "#9c179e"
            ],
            [
             0.4444444444444444,
             "#bd3786"
            ],
            [
             0.5555555555555556,
             "#d8576b"
            ],
            [
             0.6666666666666666,
             "#ed7953"
            ],
            [
             0.7777777777777778,
             "#fb9f3a"
            ],
            [
             0.8888888888888888,
             "#fdca26"
            ],
            [
             1,
             "#f0f921"
            ]
           ]
          },
          "colorway": [
           "#636efa",
           "#EF553B",
           "#00cc96",
           "#ab63fa",
           "#FFA15A",
           "#19d3f3",
           "#FF6692",
           "#B6E880",
           "#FF97FF",
           "#FECB52"
          ],
          "font": {
           "color": "#2a3f5f"
          },
          "geo": {
           "bgcolor": "white",
           "lakecolor": "white",
           "landcolor": "#E5ECF6",
           "showlakes": true,
           "showland": true,
           "subunitcolor": "white"
          },
          "hoverlabel": {
           "align": "left"
          },
          "hovermode": "closest",
          "mapbox": {
           "style": "light"
          },
          "paper_bgcolor": "white",
          "plot_bgcolor": "#E5ECF6",
          "polar": {
           "angularaxis": {
            "gridcolor": "white",
            "linecolor": "white",
            "ticks": ""
           },
           "bgcolor": "#E5ECF6",
           "radialaxis": {
            "gridcolor": "white",
            "linecolor": "white",
            "ticks": ""
           }
          },
          "scene": {
           "xaxis": {
            "backgroundcolor": "#E5ECF6",
            "gridcolor": "white",
            "gridwidth": 2,
            "linecolor": "white",
            "showbackground": true,
            "ticks": "",
            "zerolinecolor": "white"
           },
           "yaxis": {
            "backgroundcolor": "#E5ECF6",
            "gridcolor": "white",
            "gridwidth": 2,
            "linecolor": "white",
            "showbackground": true,
            "ticks": "",
            "zerolinecolor": "white"
           },
           "zaxis": {
            "backgroundcolor": "#E5ECF6",
            "gridcolor": "white",
            "gridwidth": 2,
            "linecolor": "white",
            "showbackground": true,
            "ticks": "",
            "zerolinecolor": "white"
           }
          },
          "shapedefaults": {
           "line": {
            "color": "#2a3f5f"
           }
          },
          "ternary": {
           "aaxis": {
            "gridcolor": "white",
            "linecolor": "white",
            "ticks": ""
           },
           "baxis": {
            "gridcolor": "white",
            "linecolor": "white",
            "ticks": ""
           },
           "bgcolor": "#E5ECF6",
           "caxis": {
            "gridcolor": "white",
            "linecolor": "white",
            "ticks": ""
           }
          },
          "title": {
           "x": 0.05
          },
          "xaxis": {
           "automargin": true,
           "gridcolor": "white",
           "linecolor": "white",
           "ticks": "",
           "title": {
            "standoff": 15
           },
           "zerolinecolor": "white",
           "zerolinewidth": 2
          },
          "yaxis": {
           "automargin": true,
           "gridcolor": "white",
           "linecolor": "white",
           "ticks": "",
           "title": {
            "standoff": 15
           },
           "zerolinecolor": "white",
           "zerolinewidth": 2
          }
         }
        },
        "title": {
         "text": "ecoscore grad treemap"
        }
       }
      }
     },
     "metadata": {},
     "output_type": "display_data"
    }
   ],
   "source": [
    "df = pd.DataFrame(data_graph_ecoscore_grad)\n",
    "fig = px.treemap(df, path=['ecoscore_grad'], values='percentage',\n",
    "                 color='percentage', color_continuous_scale='Magma',\n",
    "                 title='ecoscore grad treemap')\n",
    "fig.update_layout(\n",
    "    paper_bgcolor='black',  \n",
    "    plot_bgcolor='black',   \n",
    "    font_color='white'      \n",
    ")\n",
    "fig.show()"
   ]
  },
  {
   "cell_type": "markdown",
   "metadata": {},
   "source": [
    "# ECOSCORE GROUPS:"
   ]
  },
  {
   "cell_type": "code",
   "execution_count": 90,
   "metadata": {},
   "outputs": [
    {
     "name": "stdout",
     "output_type": "stream",
     "text": [
      "d: 23.89%\n",
      "c: 22.05%\n",
      "b: 35.48%\n",
      "e: 13.80%\n",
      "a: 4.78%\n"
     ]
    }
   ],
   "source": [
    "# retourne une liste des lettres écoscore présentes dans le fichier\n",
    "def extract_groups_ecoscore_from_jsonl(file_path):\n",
    "    ecoscore_groups_list = []\n",
    "    with open(file_path, 'r', encoding='utf-8') as file:\n",
    "        for line in file:\n",
    "            try:\n",
    "                record = json.loads(line)\n",
    "                ecoscore_groups = record.get('ecoscore_groups')\n",
    "                if ecoscore_groups is not None:\n",
    "                    ecoscore_groups_list.append(ecoscore_groups)\n",
    "            except json.JSONDecodeError:\n",
    "                print(f\"WARNING line: {line} in {file_path}\")\n",
    "    return ecoscore_groups_list\n",
    "ecoscore_groups_list = extract_groups_ecoscore_from_jsonl(jsonl_02)\n",
    "\n",
    "ecoscore_groups_counts = Counter(ecoscore_groups_list)\n",
    "total_ecoscore_groups = sum(ecoscore_groups_counts.values())\n",
    "\n",
    "data_graph_ecoscore_groups = []\n",
    "for ecoscore_group, count in ecoscore_groups_counts.items():\n",
    "    percentage = (count / total_ecoscore_groups) * 100\n",
    "    print(f\"{ecoscore_group}: {percentage:.2f}%\")\n",
    "    data_graph_ecoscore_groups.append({'ecoscore_group': ecoscore_group, 'percentage': percentage})\n"
   ]
  },
  {
   "cell_type": "code",
   "execution_count": 91,
   "metadata": {},
   "outputs": [
    {
     "data": {
      "application/vnd.plotly.v1+json": {
       "config": {
        "plotlyServerURL": "https://plot.ly"
       },
       "data": [
        {
         "branchvalues": "total",
         "customdata": [
          [
           4.779338051283574
          ],
          [
           35.47769865021077
          ],
          [
           22.053570765540645
          ],
          [
           23.888645482921564
          ],
          [
           13.80074705004344
          ]
         ],
         "domain": {
          "x": [
           0,
           1
          ],
          "y": [
           0,
           1
          ]
         },
         "hovertemplate": "labels=%{label}<br>percentage_sum=%{value}<br>parent=%{parent}<br>id=%{id}<br>percentage=%{color}<extra></extra>",
         "ids": [
          "a",
          "b",
          "c",
          "d",
          "e"
         ],
         "labels": [
          "a",
          "b",
          "c",
          "d",
          "e"
         ],
         "marker": {
          "coloraxis": "coloraxis",
          "colors": [
           4.779338051283574,
           35.47769865021077,
           22.053570765540645,
           23.888645482921564,
           13.80074705004344
          ]
         },
         "name": "",
         "parents": [
          "",
          "",
          "",
          "",
          ""
         ],
         "type": "treemap",
         "values": [
          4.779338051283574,
          35.47769865021077,
          22.053570765540645,
          23.888645482921564,
          13.80074705004344
         ]
        }
       ],
       "layout": {
        "coloraxis": {
         "colorbar": {
          "title": {
           "text": "percentage"
          }
         },
         "colorscale": [
          [
           0,
           "#000004"
          ],
          [
           0.1111111111111111,
           "#180f3d"
          ],
          [
           0.2222222222222222,
           "#440f76"
          ],
          [
           0.3333333333333333,
           "#721f81"
          ],
          [
           0.4444444444444444,
           "#9e2f7f"
          ],
          [
           0.5555555555555556,
           "#cd4071"
          ],
          [
           0.6666666666666666,
           "#f1605d"
          ],
          [
           0.7777777777777778,
           "#fd9668"
          ],
          [
           0.8888888888888888,
           "#feca8d"
          ],
          [
           1,
           "#fcfdbf"
          ]
         ]
        },
        "font": {
         "color": "white"
        },
        "legend": {
         "tracegroupgap": 0
        },
        "paper_bgcolor": "black",
        "plot_bgcolor": "black",
        "template": {
         "data": {
          "bar": [
           {
            "error_x": {
             "color": "#2a3f5f"
            },
            "error_y": {
             "color": "#2a3f5f"
            },
            "marker": {
             "line": {
              "color": "#E5ECF6",
              "width": 0.5
             },
             "pattern": {
              "fillmode": "overlay",
              "size": 10,
              "solidity": 0.2
             }
            },
            "type": "bar"
           }
          ],
          "barpolar": [
           {
            "marker": {
             "line": {
              "color": "#E5ECF6",
              "width": 0.5
             },
             "pattern": {
              "fillmode": "overlay",
              "size": 10,
              "solidity": 0.2
             }
            },
            "type": "barpolar"
           }
          ],
          "carpet": [
           {
            "aaxis": {
             "endlinecolor": "#2a3f5f",
             "gridcolor": "white",
             "linecolor": "white",
             "minorgridcolor": "white",
             "startlinecolor": "#2a3f5f"
            },
            "baxis": {
             "endlinecolor": "#2a3f5f",
             "gridcolor": "white",
             "linecolor": "white",
             "minorgridcolor": "white",
             "startlinecolor": "#2a3f5f"
            },
            "type": "carpet"
           }
          ],
          "choropleth": [
           {
            "colorbar": {
             "outlinewidth": 0,
             "ticks": ""
            },
            "type": "choropleth"
           }
          ],
          "contour": [
           {
            "colorbar": {
             "outlinewidth": 0,
             "ticks": ""
            },
            "colorscale": [
             [
              0,
              "#0d0887"
             ],
             [
              0.1111111111111111,
              "#46039f"
             ],
             [
              0.2222222222222222,
              "#7201a8"
             ],
             [
              0.3333333333333333,
              "#9c179e"
             ],
             [
              0.4444444444444444,
              "#bd3786"
             ],
             [
              0.5555555555555556,
              "#d8576b"
             ],
             [
              0.6666666666666666,
              "#ed7953"
             ],
             [
              0.7777777777777778,
              "#fb9f3a"
             ],
             [
              0.8888888888888888,
              "#fdca26"
             ],
             [
              1,
              "#f0f921"
             ]
            ],
            "type": "contour"
           }
          ],
          "contourcarpet": [
           {
            "colorbar": {
             "outlinewidth": 0,
             "ticks": ""
            },
            "type": "contourcarpet"
           }
          ],
          "heatmap": [
           {
            "colorbar": {
             "outlinewidth": 0,
             "ticks": ""
            },
            "colorscale": [
             [
              0,
              "#0d0887"
             ],
             [
              0.1111111111111111,
              "#46039f"
             ],
             [
              0.2222222222222222,
              "#7201a8"
             ],
             [
              0.3333333333333333,
              "#9c179e"
             ],
             [
              0.4444444444444444,
              "#bd3786"
             ],
             [
              0.5555555555555556,
              "#d8576b"
             ],
             [
              0.6666666666666666,
              "#ed7953"
             ],
             [
              0.7777777777777778,
              "#fb9f3a"
             ],
             [
              0.8888888888888888,
              "#fdca26"
             ],
             [
              1,
              "#f0f921"
             ]
            ],
            "type": "heatmap"
           }
          ],
          "heatmapgl": [
           {
            "colorbar": {
             "outlinewidth": 0,
             "ticks": ""
            },
            "colorscale": [
             [
              0,
              "#0d0887"
             ],
             [
              0.1111111111111111,
              "#46039f"
             ],
             [
              0.2222222222222222,
              "#7201a8"
             ],
             [
              0.3333333333333333,
              "#9c179e"
             ],
             [
              0.4444444444444444,
              "#bd3786"
             ],
             [
              0.5555555555555556,
              "#d8576b"
             ],
             [
              0.6666666666666666,
              "#ed7953"
             ],
             [
              0.7777777777777778,
              "#fb9f3a"
             ],
             [
              0.8888888888888888,
              "#fdca26"
             ],
             [
              1,
              "#f0f921"
             ]
            ],
            "type": "heatmapgl"
           }
          ],
          "histogram": [
           {
            "marker": {
             "pattern": {
              "fillmode": "overlay",
              "size": 10,
              "solidity": 0.2
             }
            },
            "type": "histogram"
           }
          ],
          "histogram2d": [
           {
            "colorbar": {
             "outlinewidth": 0,
             "ticks": ""
            },
            "colorscale": [
             [
              0,
              "#0d0887"
             ],
             [
              0.1111111111111111,
              "#46039f"
             ],
             [
              0.2222222222222222,
              "#7201a8"
             ],
             [
              0.3333333333333333,
              "#9c179e"
             ],
             [
              0.4444444444444444,
              "#bd3786"
             ],
             [
              0.5555555555555556,
              "#d8576b"
             ],
             [
              0.6666666666666666,
              "#ed7953"
             ],
             [
              0.7777777777777778,
              "#fb9f3a"
             ],
             [
              0.8888888888888888,
              "#fdca26"
             ],
             [
              1,
              "#f0f921"
             ]
            ],
            "type": "histogram2d"
           }
          ],
          "histogram2dcontour": [
           {
            "colorbar": {
             "outlinewidth": 0,
             "ticks": ""
            },
            "colorscale": [
             [
              0,
              "#0d0887"
             ],
             [
              0.1111111111111111,
              "#46039f"
             ],
             [
              0.2222222222222222,
              "#7201a8"
             ],
             [
              0.3333333333333333,
              "#9c179e"
             ],
             [
              0.4444444444444444,
              "#bd3786"
             ],
             [
              0.5555555555555556,
              "#d8576b"
             ],
             [
              0.6666666666666666,
              "#ed7953"
             ],
             [
              0.7777777777777778,
              "#fb9f3a"
             ],
             [
              0.8888888888888888,
              "#fdca26"
             ],
             [
              1,
              "#f0f921"
             ]
            ],
            "type": "histogram2dcontour"
           }
          ],
          "mesh3d": [
           {
            "colorbar": {
             "outlinewidth": 0,
             "ticks": ""
            },
            "type": "mesh3d"
           }
          ],
          "parcoords": [
           {
            "line": {
             "colorbar": {
              "outlinewidth": 0,
              "ticks": ""
             }
            },
            "type": "parcoords"
           }
          ],
          "pie": [
           {
            "automargin": true,
            "type": "pie"
           }
          ],
          "scatter": [
           {
            "fillpattern": {
             "fillmode": "overlay",
             "size": 10,
             "solidity": 0.2
            },
            "type": "scatter"
           }
          ],
          "scatter3d": [
           {
            "line": {
             "colorbar": {
              "outlinewidth": 0,
              "ticks": ""
             }
            },
            "marker": {
             "colorbar": {
              "outlinewidth": 0,
              "ticks": ""
             }
            },
            "type": "scatter3d"
           }
          ],
          "scattercarpet": [
           {
            "marker": {
             "colorbar": {
              "outlinewidth": 0,
              "ticks": ""
             }
            },
            "type": "scattercarpet"
           }
          ],
          "scattergeo": [
           {
            "marker": {
             "colorbar": {
              "outlinewidth": 0,
              "ticks": ""
             }
            },
            "type": "scattergeo"
           }
          ],
          "scattergl": [
           {
            "marker": {
             "colorbar": {
              "outlinewidth": 0,
              "ticks": ""
             }
            },
            "type": "scattergl"
           }
          ],
          "scattermapbox": [
           {
            "marker": {
             "colorbar": {
              "outlinewidth": 0,
              "ticks": ""
             }
            },
            "type": "scattermapbox"
           }
          ],
          "scatterpolar": [
           {
            "marker": {
             "colorbar": {
              "outlinewidth": 0,
              "ticks": ""
             }
            },
            "type": "scatterpolar"
           }
          ],
          "scatterpolargl": [
           {
            "marker": {
             "colorbar": {
              "outlinewidth": 0,
              "ticks": ""
             }
            },
            "type": "scatterpolargl"
           }
          ],
          "scatterternary": [
           {
            "marker": {
             "colorbar": {
              "outlinewidth": 0,
              "ticks": ""
             }
            },
            "type": "scatterternary"
           }
          ],
          "surface": [
           {
            "colorbar": {
             "outlinewidth": 0,
             "ticks": ""
            },
            "colorscale": [
             [
              0,
              "#0d0887"
             ],
             [
              0.1111111111111111,
              "#46039f"
             ],
             [
              0.2222222222222222,
              "#7201a8"
             ],
             [
              0.3333333333333333,
              "#9c179e"
             ],
             [
              0.4444444444444444,
              "#bd3786"
             ],
             [
              0.5555555555555556,
              "#d8576b"
             ],
             [
              0.6666666666666666,
              "#ed7953"
             ],
             [
              0.7777777777777778,
              "#fb9f3a"
             ],
             [
              0.8888888888888888,
              "#fdca26"
             ],
             [
              1,
              "#f0f921"
             ]
            ],
            "type": "surface"
           }
          ],
          "table": [
           {
            "cells": {
             "fill": {
              "color": "#EBF0F8"
             },
             "line": {
              "color": "white"
             }
            },
            "header": {
             "fill": {
              "color": "#C8D4E3"
             },
             "line": {
              "color": "white"
             }
            },
            "type": "table"
           }
          ]
         },
         "layout": {
          "annotationdefaults": {
           "arrowcolor": "#2a3f5f",
           "arrowhead": 0,
           "arrowwidth": 1
          },
          "autotypenumbers": "strict",
          "coloraxis": {
           "colorbar": {
            "outlinewidth": 0,
            "ticks": ""
           }
          },
          "colorscale": {
           "diverging": [
            [
             0,
             "#8e0152"
            ],
            [
             0.1,
             "#c51b7d"
            ],
            [
             0.2,
             "#de77ae"
            ],
            [
             0.3,
             "#f1b6da"
            ],
            [
             0.4,
             "#fde0ef"
            ],
            [
             0.5,
             "#f7f7f7"
            ],
            [
             0.6,
             "#e6f5d0"
            ],
            [
             0.7,
             "#b8e186"
            ],
            [
             0.8,
             "#7fbc41"
            ],
            [
             0.9,
             "#4d9221"
            ],
            [
             1,
             "#276419"
            ]
           ],
           "sequential": [
            [
             0,
             "#0d0887"
            ],
            [
             0.1111111111111111,
             "#46039f"
            ],
            [
             0.2222222222222222,
             "#7201a8"
            ],
            [
             0.3333333333333333,
             "#9c179e"
            ],
            [
             0.4444444444444444,
             "#bd3786"
            ],
            [
             0.5555555555555556,
             "#d8576b"
            ],
            [
             0.6666666666666666,
             "#ed7953"
            ],
            [
             0.7777777777777778,
             "#fb9f3a"
            ],
            [
             0.8888888888888888,
             "#fdca26"
            ],
            [
             1,
             "#f0f921"
            ]
           ],
           "sequentialminus": [
            [
             0,
             "#0d0887"
            ],
            [
             0.1111111111111111,
             "#46039f"
            ],
            [
             0.2222222222222222,
             "#7201a8"
            ],
            [
             0.3333333333333333,
             "#9c179e"
            ],
            [
             0.4444444444444444,
             "#bd3786"
            ],
            [
             0.5555555555555556,
             "#d8576b"
            ],
            [
             0.6666666666666666,
             "#ed7953"
            ],
            [
             0.7777777777777778,
             "#fb9f3a"
            ],
            [
             0.8888888888888888,
             "#fdca26"
            ],
            [
             1,
             "#f0f921"
            ]
           ]
          },
          "colorway": [
           "#636efa",
           "#EF553B",
           "#00cc96",
           "#ab63fa",
           "#FFA15A",
           "#19d3f3",
           "#FF6692",
           "#B6E880",
           "#FF97FF",
           "#FECB52"
          ],
          "font": {
           "color": "#2a3f5f"
          },
          "geo": {
           "bgcolor": "white",
           "lakecolor": "white",
           "landcolor": "#E5ECF6",
           "showlakes": true,
           "showland": true,
           "subunitcolor": "white"
          },
          "hoverlabel": {
           "align": "left"
          },
          "hovermode": "closest",
          "mapbox": {
           "style": "light"
          },
          "paper_bgcolor": "white",
          "plot_bgcolor": "#E5ECF6",
          "polar": {
           "angularaxis": {
            "gridcolor": "white",
            "linecolor": "white",
            "ticks": ""
           },
           "bgcolor": "#E5ECF6",
           "radialaxis": {
            "gridcolor": "white",
            "linecolor": "white",
            "ticks": ""
           }
          },
          "scene": {
           "xaxis": {
            "backgroundcolor": "#E5ECF6",
            "gridcolor": "white",
            "gridwidth": 2,
            "linecolor": "white",
            "showbackground": true,
            "ticks": "",
            "zerolinecolor": "white"
           },
           "yaxis": {
            "backgroundcolor": "#E5ECF6",
            "gridcolor": "white",
            "gridwidth": 2,
            "linecolor": "white",
            "showbackground": true,
            "ticks": "",
            "zerolinecolor": "white"
           },
           "zaxis": {
            "backgroundcolor": "#E5ECF6",
            "gridcolor": "white",
            "gridwidth": 2,
            "linecolor": "white",
            "showbackground": true,
            "ticks": "",
            "zerolinecolor": "white"
           }
          },
          "shapedefaults": {
           "line": {
            "color": "#2a3f5f"
           }
          },
          "ternary": {
           "aaxis": {
            "gridcolor": "white",
            "linecolor": "white",
            "ticks": ""
           },
           "baxis": {
            "gridcolor": "white",
            "linecolor": "white",
            "ticks": ""
           },
           "bgcolor": "#E5ECF6",
           "caxis": {
            "gridcolor": "white",
            "linecolor": "white",
            "ticks": ""
           }
          },
          "title": {
           "x": 0.05
          },
          "xaxis": {
           "automargin": true,
           "gridcolor": "white",
           "linecolor": "white",
           "ticks": "",
           "title": {
            "standoff": 15
           },
           "zerolinecolor": "white",
           "zerolinewidth": 2
          },
          "yaxis": {
           "automargin": true,
           "gridcolor": "white",
           "linecolor": "white",
           "ticks": "",
           "title": {
            "standoff": 15
           },
           "zerolinecolor": "white",
           "zerolinewidth": 2
          }
         }
        },
        "title": {
         "text": "ecoscore groups treemap"
        }
       }
      }
     },
     "metadata": {},
     "output_type": "display_data"
    }
   ],
   "source": [
    "df = pd.DataFrame(data_graph_ecoscore_groups)\n",
    "fig = px.treemap(df, path=['ecoscore_group'], values='percentage',\n",
    "                 color='percentage', color_continuous_scale='Magma',\n",
    "                 title='ecoscore groups treemap')\n",
    "fig.update_layout(\n",
    "    paper_bgcolor='black',  \n",
    "    plot_bgcolor='black',   \n",
    "    font_color='white'      \n",
    ")\n",
    "fig.show()"
   ]
  },
  {
   "cell_type": "markdown",
   "metadata": {},
   "source": [
    "# LABELS:"
   ]
  },
  {
   "cell_type": "code",
   "execution_count": 92,
   "metadata": {},
   "outputs": [
    {
     "name": "stdout",
     "output_type": "stream",
     "text": [
      "7: 0.90%\n",
      "2: 10.05%\n",
      "0: 60.27%\n",
      "3: 6.02%\n",
      "4: 3.41%\n",
      "1: 14.29%\n",
      "5: 1.94%\n",
      "9: 0.99%\n",
      "8: 0.58%\n",
      "6: 1.54%\n"
     ]
    }
   ],
   "source": [
    "# retourne une liste des labels présents dans le fichier (sans doublons dans l'affichage)\n",
    "def extract_labels_from_jsonl(file_path):\n",
    "    labels_list = []\n",
    "    with open(file_path, 'r', encoding='utf-8') as file:\n",
    "        for line in file:\n",
    "            try:\n",
    "                record = json.loads(line)\n",
    "                labels = record.get('labels_note')\n",
    "                if labels is not None:\n",
    "                    labels_list.append(labels)\n",
    "            except json.JSONDecodeError:\n",
    "                print(f\"WARNING line: {line} in {file_path}\")\n",
    "    return labels_list\n",
    "\n",
    "labels_list = extract_labels_from_jsonl(jsonl_02)\n",
    "label_counts = Counter(labels_list)\n",
    "total_labels = sum(label_counts.values())\n",
    "\n",
    "data_graph_labels = []\n",
    "for label, count in label_counts.items():\n",
    "    percentage = (count / total_labels) * 100\n",
    "    print(f\"{label}: {percentage:.2f}%\")\n",
    "    data_graph_labels.append({'labels': label, 'percentage': percentage})"
   ]
  },
  {
   "cell_type": "code",
   "execution_count": 93,
   "metadata": {},
   "outputs": [
    {
     "data": {
      "application/vnd.plotly.v1+json": {
       "config": {
        "plotlyServerURL": "https://plot.ly"
       },
       "data": [
        {
         "branchvalues": "total",
         "customdata": [
          [
           60.26997413050677
          ],
          [
           14.289323817851685
          ],
          [
           10.049055429084312
          ],
          [
           6.024545054451444
          ],
          [
           3.413980425719544
          ],
          [
           1.9407487042546356
          ],
          [
           1.5391233767574204
          ],
          [
           0.8972164491333762
          ],
          [
           0.583611804019391
          ],
          [
           0.992420808221429
          ]
         ],
         "domain": {
          "x": [
           0,
           1
          ],
          "y": [
           0,
           1
          ]
         },
         "hovertemplate": "labels=%{label}<br>percentage_sum=%{value}<br>parent=%{parent}<br>id=%{id}<br>percentage=%{color}<extra></extra>",
         "ids": [
          "0",
          "1",
          "2",
          "3",
          "4",
          "5",
          "6",
          "7",
          "8",
          "9"
         ],
         "labels": [
          "0",
          "1",
          "2",
          "3",
          "4",
          "5",
          "6",
          "7",
          "8",
          "9"
         ],
         "marker": {
          "coloraxis": "coloraxis",
          "colors": [
           60.26997413050677,
           14.289323817851685,
           10.049055429084312,
           6.024545054451444,
           3.413980425719544,
           1.9407487042546356,
           1.5391233767574204,
           0.8972164491333762,
           0.583611804019391,
           0.992420808221429
          ]
         },
         "name": "",
         "parents": [
          "",
          "",
          "",
          "",
          "",
          "",
          "",
          "",
          "",
          ""
         ],
         "type": "treemap",
         "values": [
          60.26997413050677,
          14.289323817851685,
          10.049055429084312,
          6.024545054451444,
          3.413980425719544,
          1.9407487042546356,
          1.5391233767574204,
          0.8972164491333762,
          0.583611804019391,
          0.992420808221429
         ]
        }
       ],
       "layout": {
        "coloraxis": {
         "colorbar": {
          "title": {
           "text": "percentage"
          }
         },
         "colorscale": [
          [
           0,
           "#000004"
          ],
          [
           0.1111111111111111,
           "#180f3d"
          ],
          [
           0.2222222222222222,
           "#440f76"
          ],
          [
           0.3333333333333333,
           "#721f81"
          ],
          [
           0.4444444444444444,
           "#9e2f7f"
          ],
          [
           0.5555555555555556,
           "#cd4071"
          ],
          [
           0.6666666666666666,
           "#f1605d"
          ],
          [
           0.7777777777777778,
           "#fd9668"
          ],
          [
           0.8888888888888888,
           "#feca8d"
          ],
          [
           1,
           "#fcfdbf"
          ]
         ]
        },
        "font": {
         "color": "white"
        },
        "legend": {
         "tracegroupgap": 0
        },
        "paper_bgcolor": "black",
        "plot_bgcolor": "black",
        "template": {
         "data": {
          "bar": [
           {
            "error_x": {
             "color": "#2a3f5f"
            },
            "error_y": {
             "color": "#2a3f5f"
            },
            "marker": {
             "line": {
              "color": "#E5ECF6",
              "width": 0.5
             },
             "pattern": {
              "fillmode": "overlay",
              "size": 10,
              "solidity": 0.2
             }
            },
            "type": "bar"
           }
          ],
          "barpolar": [
           {
            "marker": {
             "line": {
              "color": "#E5ECF6",
              "width": 0.5
             },
             "pattern": {
              "fillmode": "overlay",
              "size": 10,
              "solidity": 0.2
             }
            },
            "type": "barpolar"
           }
          ],
          "carpet": [
           {
            "aaxis": {
             "endlinecolor": "#2a3f5f",
             "gridcolor": "white",
             "linecolor": "white",
             "minorgridcolor": "white",
             "startlinecolor": "#2a3f5f"
            },
            "baxis": {
             "endlinecolor": "#2a3f5f",
             "gridcolor": "white",
             "linecolor": "white",
             "minorgridcolor": "white",
             "startlinecolor": "#2a3f5f"
            },
            "type": "carpet"
           }
          ],
          "choropleth": [
           {
            "colorbar": {
             "outlinewidth": 0,
             "ticks": ""
            },
            "type": "choropleth"
           }
          ],
          "contour": [
           {
            "colorbar": {
             "outlinewidth": 0,
             "ticks": ""
            },
            "colorscale": [
             [
              0,
              "#0d0887"
             ],
             [
              0.1111111111111111,
              "#46039f"
             ],
             [
              0.2222222222222222,
              "#7201a8"
             ],
             [
              0.3333333333333333,
              "#9c179e"
             ],
             [
              0.4444444444444444,
              "#bd3786"
             ],
             [
              0.5555555555555556,
              "#d8576b"
             ],
             [
              0.6666666666666666,
              "#ed7953"
             ],
             [
              0.7777777777777778,
              "#fb9f3a"
             ],
             [
              0.8888888888888888,
              "#fdca26"
             ],
             [
              1,
              "#f0f921"
             ]
            ],
            "type": "contour"
           }
          ],
          "contourcarpet": [
           {
            "colorbar": {
             "outlinewidth": 0,
             "ticks": ""
            },
            "type": "contourcarpet"
           }
          ],
          "heatmap": [
           {
            "colorbar": {
             "outlinewidth": 0,
             "ticks": ""
            },
            "colorscale": [
             [
              0,
              "#0d0887"
             ],
             [
              0.1111111111111111,
              "#46039f"
             ],
             [
              0.2222222222222222,
              "#7201a8"
             ],
             [
              0.3333333333333333,
              "#9c179e"
             ],
             [
              0.4444444444444444,
              "#bd3786"
             ],
             [
              0.5555555555555556,
              "#d8576b"
             ],
             [
              0.6666666666666666,
              "#ed7953"
             ],
             [
              0.7777777777777778,
              "#fb9f3a"
             ],
             [
              0.8888888888888888,
              "#fdca26"
             ],
             [
              1,
              "#f0f921"
             ]
            ],
            "type": "heatmap"
           }
          ],
          "heatmapgl": [
           {
            "colorbar": {
             "outlinewidth": 0,
             "ticks": ""
            },
            "colorscale": [
             [
              0,
              "#0d0887"
             ],
             [
              0.1111111111111111,
              "#46039f"
             ],
             [
              0.2222222222222222,
              "#7201a8"
             ],
             [
              0.3333333333333333,
              "#9c179e"
             ],
             [
              0.4444444444444444,
              "#bd3786"
             ],
             [
              0.5555555555555556,
              "#d8576b"
             ],
             [
              0.6666666666666666,
              "#ed7953"
             ],
             [
              0.7777777777777778,
              "#fb9f3a"
             ],
             [
              0.8888888888888888,
              "#fdca26"
             ],
             [
              1,
              "#f0f921"
             ]
            ],
            "type": "heatmapgl"
           }
          ],
          "histogram": [
           {
            "marker": {
             "pattern": {
              "fillmode": "overlay",
              "size": 10,
              "solidity": 0.2
             }
            },
            "type": "histogram"
           }
          ],
          "histogram2d": [
           {
            "colorbar": {
             "outlinewidth": 0,
             "ticks": ""
            },
            "colorscale": [
             [
              0,
              "#0d0887"
             ],
             [
              0.1111111111111111,
              "#46039f"
             ],
             [
              0.2222222222222222,
              "#7201a8"
             ],
             [
              0.3333333333333333,
              "#9c179e"
             ],
             [
              0.4444444444444444,
              "#bd3786"
             ],
             [
              0.5555555555555556,
              "#d8576b"
             ],
             [
              0.6666666666666666,
              "#ed7953"
             ],
             [
              0.7777777777777778,
              "#fb9f3a"
             ],
             [
              0.8888888888888888,
              "#fdca26"
             ],
             [
              1,
              "#f0f921"
             ]
            ],
            "type": "histogram2d"
           }
          ],
          "histogram2dcontour": [
           {
            "colorbar": {
             "outlinewidth": 0,
             "ticks": ""
            },
            "colorscale": [
             [
              0,
              "#0d0887"
             ],
             [
              0.1111111111111111,
              "#46039f"
             ],
             [
              0.2222222222222222,
              "#7201a8"
             ],
             [
              0.3333333333333333,
              "#9c179e"
             ],
             [
              0.4444444444444444,
              "#bd3786"
             ],
             [
              0.5555555555555556,
              "#d8576b"
             ],
             [
              0.6666666666666666,
              "#ed7953"
             ],
             [
              0.7777777777777778,
              "#fb9f3a"
             ],
             [
              0.8888888888888888,
              "#fdca26"
             ],
             [
              1,
              "#f0f921"
             ]
            ],
            "type": "histogram2dcontour"
           }
          ],
          "mesh3d": [
           {
            "colorbar": {
             "outlinewidth": 0,
             "ticks": ""
            },
            "type": "mesh3d"
           }
          ],
          "parcoords": [
           {
            "line": {
             "colorbar": {
              "outlinewidth": 0,
              "ticks": ""
             }
            },
            "type": "parcoords"
           }
          ],
          "pie": [
           {
            "automargin": true,
            "type": "pie"
           }
          ],
          "scatter": [
           {
            "fillpattern": {
             "fillmode": "overlay",
             "size": 10,
             "solidity": 0.2
            },
            "type": "scatter"
           }
          ],
          "scatter3d": [
           {
            "line": {
             "colorbar": {
              "outlinewidth": 0,
              "ticks": ""
             }
            },
            "marker": {
             "colorbar": {
              "outlinewidth": 0,
              "ticks": ""
             }
            },
            "type": "scatter3d"
           }
          ],
          "scattercarpet": [
           {
            "marker": {
             "colorbar": {
              "outlinewidth": 0,
              "ticks": ""
             }
            },
            "type": "scattercarpet"
           }
          ],
          "scattergeo": [
           {
            "marker": {
             "colorbar": {
              "outlinewidth": 0,
              "ticks": ""
             }
            },
            "type": "scattergeo"
           }
          ],
          "scattergl": [
           {
            "marker": {
             "colorbar": {
              "outlinewidth": 0,
              "ticks": ""
             }
            },
            "type": "scattergl"
           }
          ],
          "scattermapbox": [
           {
            "marker": {
             "colorbar": {
              "outlinewidth": 0,
              "ticks": ""
             }
            },
            "type": "scattermapbox"
           }
          ],
          "scatterpolar": [
           {
            "marker": {
             "colorbar": {
              "outlinewidth": 0,
              "ticks": ""
             }
            },
            "type": "scatterpolar"
           }
          ],
          "scatterpolargl": [
           {
            "marker": {
             "colorbar": {
              "outlinewidth": 0,
              "ticks": ""
             }
            },
            "type": "scatterpolargl"
           }
          ],
          "scatterternary": [
           {
            "marker": {
             "colorbar": {
              "outlinewidth": 0,
              "ticks": ""
             }
            },
            "type": "scatterternary"
           }
          ],
          "surface": [
           {
            "colorbar": {
             "outlinewidth": 0,
             "ticks": ""
            },
            "colorscale": [
             [
              0,
              "#0d0887"
             ],
             [
              0.1111111111111111,
              "#46039f"
             ],
             [
              0.2222222222222222,
              "#7201a8"
             ],
             [
              0.3333333333333333,
              "#9c179e"
             ],
             [
              0.4444444444444444,
              "#bd3786"
             ],
             [
              0.5555555555555556,
              "#d8576b"
             ],
             [
              0.6666666666666666,
              "#ed7953"
             ],
             [
              0.7777777777777778,
              "#fb9f3a"
             ],
             [
              0.8888888888888888,
              "#fdca26"
             ],
             [
              1,
              "#f0f921"
             ]
            ],
            "type": "surface"
           }
          ],
          "table": [
           {
            "cells": {
             "fill": {
              "color": "#EBF0F8"
             },
             "line": {
              "color": "white"
             }
            },
            "header": {
             "fill": {
              "color": "#C8D4E3"
             },
             "line": {
              "color": "white"
             }
            },
            "type": "table"
           }
          ]
         },
         "layout": {
          "annotationdefaults": {
           "arrowcolor": "#2a3f5f",
           "arrowhead": 0,
           "arrowwidth": 1
          },
          "autotypenumbers": "strict",
          "coloraxis": {
           "colorbar": {
            "outlinewidth": 0,
            "ticks": ""
           }
          },
          "colorscale": {
           "diverging": [
            [
             0,
             "#8e0152"
            ],
            [
             0.1,
             "#c51b7d"
            ],
            [
             0.2,
             "#de77ae"
            ],
            [
             0.3,
             "#f1b6da"
            ],
            [
             0.4,
             "#fde0ef"
            ],
            [
             0.5,
             "#f7f7f7"
            ],
            [
             0.6,
             "#e6f5d0"
            ],
            [
             0.7,
             "#b8e186"
            ],
            [
             0.8,
             "#7fbc41"
            ],
            [
             0.9,
             "#4d9221"
            ],
            [
             1,
             "#276419"
            ]
           ],
           "sequential": [
            [
             0,
             "#0d0887"
            ],
            [
             0.1111111111111111,
             "#46039f"
            ],
            [
             0.2222222222222222,
             "#7201a8"
            ],
            [
             0.3333333333333333,
             "#9c179e"
            ],
            [
             0.4444444444444444,
             "#bd3786"
            ],
            [
             0.5555555555555556,
             "#d8576b"
            ],
            [
             0.6666666666666666,
             "#ed7953"
            ],
            [
             0.7777777777777778,
             "#fb9f3a"
            ],
            [
             0.8888888888888888,
             "#fdca26"
            ],
            [
             1,
             "#f0f921"
            ]
           ],
           "sequentialminus": [
            [
             0,
             "#0d0887"
            ],
            [
             0.1111111111111111,
             "#46039f"
            ],
            [
             0.2222222222222222,
             "#7201a8"
            ],
            [
             0.3333333333333333,
             "#9c179e"
            ],
            [
             0.4444444444444444,
             "#bd3786"
            ],
            [
             0.5555555555555556,
             "#d8576b"
            ],
            [
             0.6666666666666666,
             "#ed7953"
            ],
            [
             0.7777777777777778,
             "#fb9f3a"
            ],
            [
             0.8888888888888888,
             "#fdca26"
            ],
            [
             1,
             "#f0f921"
            ]
           ]
          },
          "colorway": [
           "#636efa",
           "#EF553B",
           "#00cc96",
           "#ab63fa",
           "#FFA15A",
           "#19d3f3",
           "#FF6692",
           "#B6E880",
           "#FF97FF",
           "#FECB52"
          ],
          "font": {
           "color": "#2a3f5f"
          },
          "geo": {
           "bgcolor": "white",
           "lakecolor": "white",
           "landcolor": "#E5ECF6",
           "showlakes": true,
           "showland": true,
           "subunitcolor": "white"
          },
          "hoverlabel": {
           "align": "left"
          },
          "hovermode": "closest",
          "mapbox": {
           "style": "light"
          },
          "paper_bgcolor": "white",
          "plot_bgcolor": "#E5ECF6",
          "polar": {
           "angularaxis": {
            "gridcolor": "white",
            "linecolor": "white",
            "ticks": ""
           },
           "bgcolor": "#E5ECF6",
           "radialaxis": {
            "gridcolor": "white",
            "linecolor": "white",
            "ticks": ""
           }
          },
          "scene": {
           "xaxis": {
            "backgroundcolor": "#E5ECF6",
            "gridcolor": "white",
            "gridwidth": 2,
            "linecolor": "white",
            "showbackground": true,
            "ticks": "",
            "zerolinecolor": "white"
           },
           "yaxis": {
            "backgroundcolor": "#E5ECF6",
            "gridcolor": "white",
            "gridwidth": 2,
            "linecolor": "white",
            "showbackground": true,
            "ticks": "",
            "zerolinecolor": "white"
           },
           "zaxis": {
            "backgroundcolor": "#E5ECF6",
            "gridcolor": "white",
            "gridwidth": 2,
            "linecolor": "white",
            "showbackground": true,
            "ticks": "",
            "zerolinecolor": "white"
           }
          },
          "shapedefaults": {
           "line": {
            "color": "#2a3f5f"
           }
          },
          "ternary": {
           "aaxis": {
            "gridcolor": "white",
            "linecolor": "white",
            "ticks": ""
           },
           "baxis": {
            "gridcolor": "white",
            "linecolor": "white",
            "ticks": ""
           },
           "bgcolor": "#E5ECF6",
           "caxis": {
            "gridcolor": "white",
            "linecolor": "white",
            "ticks": ""
           }
          },
          "title": {
           "x": 0.05
          },
          "xaxis": {
           "automargin": true,
           "gridcolor": "white",
           "linecolor": "white",
           "ticks": "",
           "title": {
            "standoff": 15
           },
           "zerolinecolor": "white",
           "zerolinewidth": 2
          },
          "yaxis": {
           "automargin": true,
           "gridcolor": "white",
           "linecolor": "white",
           "ticks": "",
           "title": {
            "standoff": 15
           },
           "zerolinecolor": "white",
           "zerolinewidth": 2
          }
         }
        },
        "title": {
         "text": "labels treemap"
        }
       }
      }
     },
     "metadata": {},
     "output_type": "display_data"
    }
   ],
   "source": [
    "df = pd.DataFrame(data_graph_labels)\n",
    "fig = px.treemap(df, path=['labels'], values='percentage',\n",
    "                 color='percentage', color_continuous_scale='Magma',\n",
    "                 title='labels treemap')\n",
    "fig.update_layout(\n",
    "    paper_bgcolor='black',  \n",
    "    plot_bgcolor='black',   \n",
    "    font_color='white'      \n",
    ")\n",
    "fig.show()"
   ]
  },
  {
   "cell_type": "markdown",
   "metadata": {},
   "source": [
    "# NONE NUMBER:"
   ]
  },
  {
   "cell_type": "code",
   "execution_count": 94,
   "metadata": {},
   "outputs": [],
   "source": [
    "def count_none_and_total_values(jsonl_file_path):\n",
    "    none_counts = defaultdict(int)\n",
    "    total_counts = defaultdict(int)\n",
    "    with open(jsonl_file_path, 'r', encoding='utf-8') as file:\n",
    "        for line in file:\n",
    "            data = json.loads(line)\n",
    "            for key, value in data.items():\n",
    "                total_counts[key] += 1\n",
    "                if value is None:\n",
    "                    none_counts[key] += 1\n",
    "    return none_counts, total_counts\n",
    "\n",
    "def calculate_percentage(none_counts, total_counts):\n",
    "    percentages = {}\n",
    "    for key in none_counts:\n",
    "        if total_counts[key] > 0:\n",
    "            percentage = (none_counts[key] / total_counts[key]) * 100\n",
    "        else:\n",
    "            percentage = 0\n",
    "        percentages[key] = percentage\n",
    "    return percentages\n",
    "\n",
    "none_counts, total_counts = count_none_and_total_values(jsonl_02)\n",
    "percentages = calculate_percentage(none_counts, total_counts)"
   ]
  },
  {
   "cell_type": "code",
   "execution_count": 95,
   "metadata": {},
   "outputs": [
    {
     "data": {
      "application/vnd.plotly.v1+json": {
       "config": {
        "plotlyServerURL": "https://plot.ly"
       },
       "data": [
        {
         "branchvalues": "total",
         "customdata": [
          [
           33.284451303341896
          ],
          [
           33.284451303341896
          ],
          [
           4.5241474751027795
          ],
          [
           45.07451619588813
          ]
         ],
         "domain": {
          "x": [
           0,
           1
          ],
          "y": [
           0,
           1
          ]
         },
         "hovertemplate": "labels=%{label}<br>percentage_sum=%{value}<br>parent=%{parent}<br>id=%{id}<br>percentage=%{color}<extra></extra>",
         "ids": [
          "ecoscore_groups",
          "ecoscore_note",
          "groups",
          "ingredients"
         ],
         "labels": [
          "ecoscore_groups",
          "ecoscore_note",
          "groups",
          "ingredients"
         ],
         "marker": {
          "coloraxis": "coloraxis",
          "colors": [
           33.284451303341896,
           33.284451303341896,
           4.5241474751027795,
           45.07451619588813
          ]
         },
         "name": "",
         "parents": [
          "",
          "",
          "",
          ""
         ],
         "type": "treemap",
         "values": [
          33.284451303341896,
          33.284451303341896,
          4.5241474751027795,
          45.07451619588813
         ]
        }
       ],
       "layout": {
        "coloraxis": {
         "colorbar": {
          "title": {
           "text": "percentage"
          }
         },
         "colorscale": [
          [
           0,
           "#000004"
          ],
          [
           0.1111111111111111,
           "#180f3d"
          ],
          [
           0.2222222222222222,
           "#440f76"
          ],
          [
           0.3333333333333333,
           "#721f81"
          ],
          [
           0.4444444444444444,
           "#9e2f7f"
          ],
          [
           0.5555555555555556,
           "#cd4071"
          ],
          [
           0.6666666666666666,
           "#f1605d"
          ],
          [
           0.7777777777777778,
           "#fd9668"
          ],
          [
           0.8888888888888888,
           "#feca8d"
          ],
          [
           1,
           "#fcfdbf"
          ]
         ]
        },
        "font": {
         "color": "white"
        },
        "legend": {
         "tracegroupgap": 0
        },
        "paper_bgcolor": "black",
        "plot_bgcolor": "black",
        "template": {
         "data": {
          "bar": [
           {
            "error_x": {
             "color": "#2a3f5f"
            },
            "error_y": {
             "color": "#2a3f5f"
            },
            "marker": {
             "line": {
              "color": "#E5ECF6",
              "width": 0.5
             },
             "pattern": {
              "fillmode": "overlay",
              "size": 10,
              "solidity": 0.2
             }
            },
            "type": "bar"
           }
          ],
          "barpolar": [
           {
            "marker": {
             "line": {
              "color": "#E5ECF6",
              "width": 0.5
             },
             "pattern": {
              "fillmode": "overlay",
              "size": 10,
              "solidity": 0.2
             }
            },
            "type": "barpolar"
           }
          ],
          "carpet": [
           {
            "aaxis": {
             "endlinecolor": "#2a3f5f",
             "gridcolor": "white",
             "linecolor": "white",
             "minorgridcolor": "white",
             "startlinecolor": "#2a3f5f"
            },
            "baxis": {
             "endlinecolor": "#2a3f5f",
             "gridcolor": "white",
             "linecolor": "white",
             "minorgridcolor": "white",
             "startlinecolor": "#2a3f5f"
            },
            "type": "carpet"
           }
          ],
          "choropleth": [
           {
            "colorbar": {
             "outlinewidth": 0,
             "ticks": ""
            },
            "type": "choropleth"
           }
          ],
          "contour": [
           {
            "colorbar": {
             "outlinewidth": 0,
             "ticks": ""
            },
            "colorscale": [
             [
              0,
              "#0d0887"
             ],
             [
              0.1111111111111111,
              "#46039f"
             ],
             [
              0.2222222222222222,
              "#7201a8"
             ],
             [
              0.3333333333333333,
              "#9c179e"
             ],
             [
              0.4444444444444444,
              "#bd3786"
             ],
             [
              0.5555555555555556,
              "#d8576b"
             ],
             [
              0.6666666666666666,
              "#ed7953"
             ],
             [
              0.7777777777777778,
              "#fb9f3a"
             ],
             [
              0.8888888888888888,
              "#fdca26"
             ],
             [
              1,
              "#f0f921"
             ]
            ],
            "type": "contour"
           }
          ],
          "contourcarpet": [
           {
            "colorbar": {
             "outlinewidth": 0,
             "ticks": ""
            },
            "type": "contourcarpet"
           }
          ],
          "heatmap": [
           {
            "colorbar": {
             "outlinewidth": 0,
             "ticks": ""
            },
            "colorscale": [
             [
              0,
              "#0d0887"
             ],
             [
              0.1111111111111111,
              "#46039f"
             ],
             [
              0.2222222222222222,
              "#7201a8"
             ],
             [
              0.3333333333333333,
              "#9c179e"
             ],
             [
              0.4444444444444444,
              "#bd3786"
             ],
             [
              0.5555555555555556,
              "#d8576b"
             ],
             [
              0.6666666666666666,
              "#ed7953"
             ],
             [
              0.7777777777777778,
              "#fb9f3a"
             ],
             [
              0.8888888888888888,
              "#fdca26"
             ],
             [
              1,
              "#f0f921"
             ]
            ],
            "type": "heatmap"
           }
          ],
          "heatmapgl": [
           {
            "colorbar": {
             "outlinewidth": 0,
             "ticks": ""
            },
            "colorscale": [
             [
              0,
              "#0d0887"
             ],
             [
              0.1111111111111111,
              "#46039f"
             ],
             [
              0.2222222222222222,
              "#7201a8"
             ],
             [
              0.3333333333333333,
              "#9c179e"
             ],
             [
              0.4444444444444444,
              "#bd3786"
             ],
             [
              0.5555555555555556,
              "#d8576b"
             ],
             [
              0.6666666666666666,
              "#ed7953"
             ],
             [
              0.7777777777777778,
              "#fb9f3a"
             ],
             [
              0.8888888888888888,
              "#fdca26"
             ],
             [
              1,
              "#f0f921"
             ]
            ],
            "type": "heatmapgl"
           }
          ],
          "histogram": [
           {
            "marker": {
             "pattern": {
              "fillmode": "overlay",
              "size": 10,
              "solidity": 0.2
             }
            },
            "type": "histogram"
           }
          ],
          "histogram2d": [
           {
            "colorbar": {
             "outlinewidth": 0,
             "ticks": ""
            },
            "colorscale": [
             [
              0,
              "#0d0887"
             ],
             [
              0.1111111111111111,
              "#46039f"
             ],
             [
              0.2222222222222222,
              "#7201a8"
             ],
             [
              0.3333333333333333,
              "#9c179e"
             ],
             [
              0.4444444444444444,
              "#bd3786"
             ],
             [
              0.5555555555555556,
              "#d8576b"
             ],
             [
              0.6666666666666666,
              "#ed7953"
             ],
             [
              0.7777777777777778,
              "#fb9f3a"
             ],
             [
              0.8888888888888888,
              "#fdca26"
             ],
             [
              1,
              "#f0f921"
             ]
            ],
            "type": "histogram2d"
           }
          ],
          "histogram2dcontour": [
           {
            "colorbar": {
             "outlinewidth": 0,
             "ticks": ""
            },
            "colorscale": [
             [
              0,
              "#0d0887"
             ],
             [
              0.1111111111111111,
              "#46039f"
             ],
             [
              0.2222222222222222,
              "#7201a8"
             ],
             [
              0.3333333333333333,
              "#9c179e"
             ],
             [
              0.4444444444444444,
              "#bd3786"
             ],
             [
              0.5555555555555556,
              "#d8576b"
             ],
             [
              0.6666666666666666,
              "#ed7953"
             ],
             [
              0.7777777777777778,
              "#fb9f3a"
             ],
             [
              0.8888888888888888,
              "#fdca26"
             ],
             [
              1,
              "#f0f921"
             ]
            ],
            "type": "histogram2dcontour"
           }
          ],
          "mesh3d": [
           {
            "colorbar": {
             "outlinewidth": 0,
             "ticks": ""
            },
            "type": "mesh3d"
           }
          ],
          "parcoords": [
           {
            "line": {
             "colorbar": {
              "outlinewidth": 0,
              "ticks": ""
             }
            },
            "type": "parcoords"
           }
          ],
          "pie": [
           {
            "automargin": true,
            "type": "pie"
           }
          ],
          "scatter": [
           {
            "fillpattern": {
             "fillmode": "overlay",
             "size": 10,
             "solidity": 0.2
            },
            "type": "scatter"
           }
          ],
          "scatter3d": [
           {
            "line": {
             "colorbar": {
              "outlinewidth": 0,
              "ticks": ""
             }
            },
            "marker": {
             "colorbar": {
              "outlinewidth": 0,
              "ticks": ""
             }
            },
            "type": "scatter3d"
           }
          ],
          "scattercarpet": [
           {
            "marker": {
             "colorbar": {
              "outlinewidth": 0,
              "ticks": ""
             }
            },
            "type": "scattercarpet"
           }
          ],
          "scattergeo": [
           {
            "marker": {
             "colorbar": {
              "outlinewidth": 0,
              "ticks": ""
             }
            },
            "type": "scattergeo"
           }
          ],
          "scattergl": [
           {
            "marker": {
             "colorbar": {
              "outlinewidth": 0,
              "ticks": ""
             }
            },
            "type": "scattergl"
           }
          ],
          "scattermapbox": [
           {
            "marker": {
             "colorbar": {
              "outlinewidth": 0,
              "ticks": ""
             }
            },
            "type": "scattermapbox"
           }
          ],
          "scatterpolar": [
           {
            "marker": {
             "colorbar": {
              "outlinewidth": 0,
              "ticks": ""
             }
            },
            "type": "scatterpolar"
           }
          ],
          "scatterpolargl": [
           {
            "marker": {
             "colorbar": {
              "outlinewidth": 0,
              "ticks": ""
             }
            },
            "type": "scatterpolargl"
           }
          ],
          "scatterternary": [
           {
            "marker": {
             "colorbar": {
              "outlinewidth": 0,
              "ticks": ""
             }
            },
            "type": "scatterternary"
           }
          ],
          "surface": [
           {
            "colorbar": {
             "outlinewidth": 0,
             "ticks": ""
            },
            "colorscale": [
             [
              0,
              "#0d0887"
             ],
             [
              0.1111111111111111,
              "#46039f"
             ],
             [
              0.2222222222222222,
              "#7201a8"
             ],
             [
              0.3333333333333333,
              "#9c179e"
             ],
             [
              0.4444444444444444,
              "#bd3786"
             ],
             [
              0.5555555555555556,
              "#d8576b"
             ],
             [
              0.6666666666666666,
              "#ed7953"
             ],
             [
              0.7777777777777778,
              "#fb9f3a"
             ],
             [
              0.8888888888888888,
              "#fdca26"
             ],
             [
              1,
              "#f0f921"
             ]
            ],
            "type": "surface"
           }
          ],
          "table": [
           {
            "cells": {
             "fill": {
              "color": "#EBF0F8"
             },
             "line": {
              "color": "white"
             }
            },
            "header": {
             "fill": {
              "color": "#C8D4E3"
             },
             "line": {
              "color": "white"
             }
            },
            "type": "table"
           }
          ]
         },
         "layout": {
          "annotationdefaults": {
           "arrowcolor": "#2a3f5f",
           "arrowhead": 0,
           "arrowwidth": 1
          },
          "autotypenumbers": "strict",
          "coloraxis": {
           "colorbar": {
            "outlinewidth": 0,
            "ticks": ""
           }
          },
          "colorscale": {
           "diverging": [
            [
             0,
             "#8e0152"
            ],
            [
             0.1,
             "#c51b7d"
            ],
            [
             0.2,
             "#de77ae"
            ],
            [
             0.3,
             "#f1b6da"
            ],
            [
             0.4,
             "#fde0ef"
            ],
            [
             0.5,
             "#f7f7f7"
            ],
            [
             0.6,
             "#e6f5d0"
            ],
            [
             0.7,
             "#b8e186"
            ],
            [
             0.8,
             "#7fbc41"
            ],
            [
             0.9,
             "#4d9221"
            ],
            [
             1,
             "#276419"
            ]
           ],
           "sequential": [
            [
             0,
             "#0d0887"
            ],
            [
             0.1111111111111111,
             "#46039f"
            ],
            [
             0.2222222222222222,
             "#7201a8"
            ],
            [
             0.3333333333333333,
             "#9c179e"
            ],
            [
             0.4444444444444444,
             "#bd3786"
            ],
            [
             0.5555555555555556,
             "#d8576b"
            ],
            [
             0.6666666666666666,
             "#ed7953"
            ],
            [
             0.7777777777777778,
             "#fb9f3a"
            ],
            [
             0.8888888888888888,
             "#fdca26"
            ],
            [
             1,
             "#f0f921"
            ]
           ],
           "sequentialminus": [
            [
             0,
             "#0d0887"
            ],
            [
             0.1111111111111111,
             "#46039f"
            ],
            [
             0.2222222222222222,
             "#7201a8"
            ],
            [
             0.3333333333333333,
             "#9c179e"
            ],
            [
             0.4444444444444444,
             "#bd3786"
            ],
            [
             0.5555555555555556,
             "#d8576b"
            ],
            [
             0.6666666666666666,
             "#ed7953"
            ],
            [
             0.7777777777777778,
             "#fb9f3a"
            ],
            [
             0.8888888888888888,
             "#fdca26"
            ],
            [
             1,
             "#f0f921"
            ]
           ]
          },
          "colorway": [
           "#636efa",
           "#EF553B",
           "#00cc96",
           "#ab63fa",
           "#FFA15A",
           "#19d3f3",
           "#FF6692",
           "#B6E880",
           "#FF97FF",
           "#FECB52"
          ],
          "font": {
           "color": "#2a3f5f"
          },
          "geo": {
           "bgcolor": "white",
           "lakecolor": "white",
           "landcolor": "#E5ECF6",
           "showlakes": true,
           "showland": true,
           "subunitcolor": "white"
          },
          "hoverlabel": {
           "align": "left"
          },
          "hovermode": "closest",
          "mapbox": {
           "style": "light"
          },
          "paper_bgcolor": "white",
          "plot_bgcolor": "#E5ECF6",
          "polar": {
           "angularaxis": {
            "gridcolor": "white",
            "linecolor": "white",
            "ticks": ""
           },
           "bgcolor": "#E5ECF6",
           "radialaxis": {
            "gridcolor": "white",
            "linecolor": "white",
            "ticks": ""
           }
          },
          "scene": {
           "xaxis": {
            "backgroundcolor": "#E5ECF6",
            "gridcolor": "white",
            "gridwidth": 2,
            "linecolor": "white",
            "showbackground": true,
            "ticks": "",
            "zerolinecolor": "white"
           },
           "yaxis": {
            "backgroundcolor": "#E5ECF6",
            "gridcolor": "white",
            "gridwidth": 2,
            "linecolor": "white",
            "showbackground": true,
            "ticks": "",
            "zerolinecolor": "white"
           },
           "zaxis": {
            "backgroundcolor": "#E5ECF6",
            "gridcolor": "white",
            "gridwidth": 2,
            "linecolor": "white",
            "showbackground": true,
            "ticks": "",
            "zerolinecolor": "white"
           }
          },
          "shapedefaults": {
           "line": {
            "color": "#2a3f5f"
           }
          },
          "ternary": {
           "aaxis": {
            "gridcolor": "white",
            "linecolor": "white",
            "ticks": ""
           },
           "baxis": {
            "gridcolor": "white",
            "linecolor": "white",
            "ticks": ""
           },
           "bgcolor": "#E5ECF6",
           "caxis": {
            "gridcolor": "white",
            "linecolor": "white",
            "ticks": ""
           }
          },
          "title": {
           "x": 0.05
          },
          "xaxis": {
           "automargin": true,
           "gridcolor": "white",
           "linecolor": "white",
           "ticks": "",
           "title": {
            "standoff": 15
           },
           "zerolinecolor": "white",
           "zerolinewidth": 2
          },
          "yaxis": {
           "automargin": true,
           "gridcolor": "white",
           "linecolor": "white",
           "ticks": "",
           "title": {
            "standoff": 15
           },
           "zerolinecolor": "white",
           "zerolinewidth": 2
          }
         }
        },
        "title": {
         "text": "none treemap"
        }
       }
      }
     },
     "metadata": {},
     "output_type": "display_data"
    }
   ],
   "source": [
    "data_graph_none = [{'key': key, 'percentage': percentage} for key, percentage in percentages.items()]\n",
    "df = pd.DataFrame(data_graph_none)\n",
    "fig = px.treemap(df, path=['key'], values='percentage',\n",
    "                 color='percentage', color_continuous_scale='Magma',\n",
    "                 title='none treemap')\n",
    "fig.update_layout(\n",
    "    paper_bgcolor='black',  \n",
    "    plot_bgcolor='black',   \n",
    "    font_color='white'      \n",
    ")\n",
    "fig.show()"
   ]
  },
  {
   "cell_type": "markdown",
   "metadata": {},
   "source": [
    "# ECOSCORE NULL:"
   ]
  },
  {
   "cell_type": "code",
   "execution_count": 96,
   "metadata": {},
   "outputs": [],
   "source": [
    "def count_specific_values(jsonl_file_path):\n",
    "    counts = {\n",
    "        'ecoscore_groups': {'z': 0},\n",
    "        'ecoscore_note': {999: 0}\n",
    "    }\n",
    "    total_counts = {\n",
    "        'ecoscore_groups': 0,\n",
    "        'ecoscore_note': 0\n",
    "    }\n",
    "    with open(jsonl_file_path, 'r') as file:\n",
    "        for line in file:\n",
    "            data = json.loads(line)\n",
    "            for key, value in data.items():\n",
    "                if key in counts:\n",
    "                    total_counts[key] += 1\n",
    "                    if key == 'ecoscore_groups' and value == 'z':\n",
    "                        counts[key]['z'] += 1\n",
    "                    if key == 'ecoscore_note' and value == 999:\n",
    "                        counts[key][999] += 1\n",
    "    return counts, total_counts\n",
    "\n",
    "def calculate_percentage(count, total):\n",
    "    if total > 0:\n",
    "        percentage = (count / total) * 100\n",
    "    else:\n",
    "        percentage = 0\n",
    "    return percentage\n",
    "\n",
    "counts, total_counts = count_specific_values(jsonl_02)\n",
    "\n",
    "z_percentage = calculate_percentage(counts['ecoscore_groups']['z'], total_counts['ecoscore_groups'])\n",
    "number_999 = counts['ecoscore_note'][999]\n",
    "number_999_percentage = calculate_percentage(number_999, total_counts['ecoscore_note'])\n",
    "\n",
    "labels = ['Ecoscore Groups (z)', 'Ecoscore Note (999)']\n",
    "values = [z_percentage, number_999_percentage]\n",
    "counts_values = [counts['ecoscore_groups']['z'], counts['ecoscore_note'][999]]"
   ]
  },
  {
   "cell_type": "code",
   "execution_count": 97,
   "metadata": {},
   "outputs": [
    {
     "data": {
      "application/vnd.plotly.v1+json": {
       "config": {
        "plotlyServerURL": "https://plot.ly"
       },
       "data": [
        {
         "name": "Pourcentage",
         "text": [
          "0.00%",
          "0.00%"
         ],
         "textposition": "auto",
         "type": "bar",
         "x": [
          "Ecoscore Groups (z)",
          "Ecoscore Note (999)"
         ],
         "y": [
          0,
          0
         ]
        },
        {
         "name": "Nombre",
         "text": [
          "0",
          "0"
         ],
         "textposition": "auto",
         "type": "bar",
         "x": [
          "Ecoscore Groups (z)",
          "Ecoscore Note (999)"
         ],
         "y": [
          0,
          0
         ]
        }
       ],
       "layout": {
        "barmode": "group",
        "template": {
         "data": {
          "bar": [
           {
            "error_x": {
             "color": "#2a3f5f"
            },
            "error_y": {
             "color": "#2a3f5f"
            },
            "marker": {
             "line": {
              "color": "#E5ECF6",
              "width": 0.5
             },
             "pattern": {
              "fillmode": "overlay",
              "size": 10,
              "solidity": 0.2
             }
            },
            "type": "bar"
           }
          ],
          "barpolar": [
           {
            "marker": {
             "line": {
              "color": "#E5ECF6",
              "width": 0.5
             },
             "pattern": {
              "fillmode": "overlay",
              "size": 10,
              "solidity": 0.2
             }
            },
            "type": "barpolar"
           }
          ],
          "carpet": [
           {
            "aaxis": {
             "endlinecolor": "#2a3f5f",
             "gridcolor": "white",
             "linecolor": "white",
             "minorgridcolor": "white",
             "startlinecolor": "#2a3f5f"
            },
            "baxis": {
             "endlinecolor": "#2a3f5f",
             "gridcolor": "white",
             "linecolor": "white",
             "minorgridcolor": "white",
             "startlinecolor": "#2a3f5f"
            },
            "type": "carpet"
           }
          ],
          "choropleth": [
           {
            "colorbar": {
             "outlinewidth": 0,
             "ticks": ""
            },
            "type": "choropleth"
           }
          ],
          "contour": [
           {
            "colorbar": {
             "outlinewidth": 0,
             "ticks": ""
            },
            "colorscale": [
             [
              0,
              "#0d0887"
             ],
             [
              0.1111111111111111,
              "#46039f"
             ],
             [
              0.2222222222222222,
              "#7201a8"
             ],
             [
              0.3333333333333333,
              "#9c179e"
             ],
             [
              0.4444444444444444,
              "#bd3786"
             ],
             [
              0.5555555555555556,
              "#d8576b"
             ],
             [
              0.6666666666666666,
              "#ed7953"
             ],
             [
              0.7777777777777778,
              "#fb9f3a"
             ],
             [
              0.8888888888888888,
              "#fdca26"
             ],
             [
              1,
              "#f0f921"
             ]
            ],
            "type": "contour"
           }
          ],
          "contourcarpet": [
           {
            "colorbar": {
             "outlinewidth": 0,
             "ticks": ""
            },
            "type": "contourcarpet"
           }
          ],
          "heatmap": [
           {
            "colorbar": {
             "outlinewidth": 0,
             "ticks": ""
            },
            "colorscale": [
             [
              0,
              "#0d0887"
             ],
             [
              0.1111111111111111,
              "#46039f"
             ],
             [
              0.2222222222222222,
              "#7201a8"
             ],
             [
              0.3333333333333333,
              "#9c179e"
             ],
             [
              0.4444444444444444,
              "#bd3786"
             ],
             [
              0.5555555555555556,
              "#d8576b"
             ],
             [
              0.6666666666666666,
              "#ed7953"
             ],
             [
              0.7777777777777778,
              "#fb9f3a"
             ],
             [
              0.8888888888888888,
              "#fdca26"
             ],
             [
              1,
              "#f0f921"
             ]
            ],
            "type": "heatmap"
           }
          ],
          "heatmapgl": [
           {
            "colorbar": {
             "outlinewidth": 0,
             "ticks": ""
            },
            "colorscale": [
             [
              0,
              "#0d0887"
             ],
             [
              0.1111111111111111,
              "#46039f"
             ],
             [
              0.2222222222222222,
              "#7201a8"
             ],
             [
              0.3333333333333333,
              "#9c179e"
             ],
             [
              0.4444444444444444,
              "#bd3786"
             ],
             [
              0.5555555555555556,
              "#d8576b"
             ],
             [
              0.6666666666666666,
              "#ed7953"
             ],
             [
              0.7777777777777778,
              "#fb9f3a"
             ],
             [
              0.8888888888888888,
              "#fdca26"
             ],
             [
              1,
              "#f0f921"
             ]
            ],
            "type": "heatmapgl"
           }
          ],
          "histogram": [
           {
            "marker": {
             "pattern": {
              "fillmode": "overlay",
              "size": 10,
              "solidity": 0.2
             }
            },
            "type": "histogram"
           }
          ],
          "histogram2d": [
           {
            "colorbar": {
             "outlinewidth": 0,
             "ticks": ""
            },
            "colorscale": [
             [
              0,
              "#0d0887"
             ],
             [
              0.1111111111111111,
              "#46039f"
             ],
             [
              0.2222222222222222,
              "#7201a8"
             ],
             [
              0.3333333333333333,
              "#9c179e"
             ],
             [
              0.4444444444444444,
              "#bd3786"
             ],
             [
              0.5555555555555556,
              "#d8576b"
             ],
             [
              0.6666666666666666,
              "#ed7953"
             ],
             [
              0.7777777777777778,
              "#fb9f3a"
             ],
             [
              0.8888888888888888,
              "#fdca26"
             ],
             [
              1,
              "#f0f921"
             ]
            ],
            "type": "histogram2d"
           }
          ],
          "histogram2dcontour": [
           {
            "colorbar": {
             "outlinewidth": 0,
             "ticks": ""
            },
            "colorscale": [
             [
              0,
              "#0d0887"
             ],
             [
              0.1111111111111111,
              "#46039f"
             ],
             [
              0.2222222222222222,
              "#7201a8"
             ],
             [
              0.3333333333333333,
              "#9c179e"
             ],
             [
              0.4444444444444444,
              "#bd3786"
             ],
             [
              0.5555555555555556,
              "#d8576b"
             ],
             [
              0.6666666666666666,
              "#ed7953"
             ],
             [
              0.7777777777777778,
              "#fb9f3a"
             ],
             [
              0.8888888888888888,
              "#fdca26"
             ],
             [
              1,
              "#f0f921"
             ]
            ],
            "type": "histogram2dcontour"
           }
          ],
          "mesh3d": [
           {
            "colorbar": {
             "outlinewidth": 0,
             "ticks": ""
            },
            "type": "mesh3d"
           }
          ],
          "parcoords": [
           {
            "line": {
             "colorbar": {
              "outlinewidth": 0,
              "ticks": ""
             }
            },
            "type": "parcoords"
           }
          ],
          "pie": [
           {
            "automargin": true,
            "type": "pie"
           }
          ],
          "scatter": [
           {
            "fillpattern": {
             "fillmode": "overlay",
             "size": 10,
             "solidity": 0.2
            },
            "type": "scatter"
           }
          ],
          "scatter3d": [
           {
            "line": {
             "colorbar": {
              "outlinewidth": 0,
              "ticks": ""
             }
            },
            "marker": {
             "colorbar": {
              "outlinewidth": 0,
              "ticks": ""
             }
            },
            "type": "scatter3d"
           }
          ],
          "scattercarpet": [
           {
            "marker": {
             "colorbar": {
              "outlinewidth": 0,
              "ticks": ""
             }
            },
            "type": "scattercarpet"
           }
          ],
          "scattergeo": [
           {
            "marker": {
             "colorbar": {
              "outlinewidth": 0,
              "ticks": ""
             }
            },
            "type": "scattergeo"
           }
          ],
          "scattergl": [
           {
            "marker": {
             "colorbar": {
              "outlinewidth": 0,
              "ticks": ""
             }
            },
            "type": "scattergl"
           }
          ],
          "scattermapbox": [
           {
            "marker": {
             "colorbar": {
              "outlinewidth": 0,
              "ticks": ""
             }
            },
            "type": "scattermapbox"
           }
          ],
          "scatterpolar": [
           {
            "marker": {
             "colorbar": {
              "outlinewidth": 0,
              "ticks": ""
             }
            },
            "type": "scatterpolar"
           }
          ],
          "scatterpolargl": [
           {
            "marker": {
             "colorbar": {
              "outlinewidth": 0,
              "ticks": ""
             }
            },
            "type": "scatterpolargl"
           }
          ],
          "scatterternary": [
           {
            "marker": {
             "colorbar": {
              "outlinewidth": 0,
              "ticks": ""
             }
            },
            "type": "scatterternary"
           }
          ],
          "surface": [
           {
            "colorbar": {
             "outlinewidth": 0,
             "ticks": ""
            },
            "colorscale": [
             [
              0,
              "#0d0887"
             ],
             [
              0.1111111111111111,
              "#46039f"
             ],
             [
              0.2222222222222222,
              "#7201a8"
             ],
             [
              0.3333333333333333,
              "#9c179e"
             ],
             [
              0.4444444444444444,
              "#bd3786"
             ],
             [
              0.5555555555555556,
              "#d8576b"
             ],
             [
              0.6666666666666666,
              "#ed7953"
             ],
             [
              0.7777777777777778,
              "#fb9f3a"
             ],
             [
              0.8888888888888888,
              "#fdca26"
             ],
             [
              1,
              "#f0f921"
             ]
            ],
            "type": "surface"
           }
          ],
          "table": [
           {
            "cells": {
             "fill": {
              "color": "#EBF0F8"
             },
             "line": {
              "color": "white"
             }
            },
            "header": {
             "fill": {
              "color": "#C8D4E3"
             },
             "line": {
              "color": "white"
             }
            },
            "type": "table"
           }
          ]
         },
         "layout": {
          "annotationdefaults": {
           "arrowcolor": "#2a3f5f",
           "arrowhead": 0,
           "arrowwidth": 1
          },
          "autotypenumbers": "strict",
          "coloraxis": {
           "colorbar": {
            "outlinewidth": 0,
            "ticks": ""
           }
          },
          "colorscale": {
           "diverging": [
            [
             0,
             "#8e0152"
            ],
            [
             0.1,
             "#c51b7d"
            ],
            [
             0.2,
             "#de77ae"
            ],
            [
             0.3,
             "#f1b6da"
            ],
            [
             0.4,
             "#fde0ef"
            ],
            [
             0.5,
             "#f7f7f7"
            ],
            [
             0.6,
             "#e6f5d0"
            ],
            [
             0.7,
             "#b8e186"
            ],
            [
             0.8,
             "#7fbc41"
            ],
            [
             0.9,
             "#4d9221"
            ],
            [
             1,
             "#276419"
            ]
           ],
           "sequential": [
            [
             0,
             "#0d0887"
            ],
            [
             0.1111111111111111,
             "#46039f"
            ],
            [
             0.2222222222222222,
             "#7201a8"
            ],
            [
             0.3333333333333333,
             "#9c179e"
            ],
            [
             0.4444444444444444,
             "#bd3786"
            ],
            [
             0.5555555555555556,
             "#d8576b"
            ],
            [
             0.6666666666666666,
             "#ed7953"
            ],
            [
             0.7777777777777778,
             "#fb9f3a"
            ],
            [
             0.8888888888888888,
             "#fdca26"
            ],
            [
             1,
             "#f0f921"
            ]
           ],
           "sequentialminus": [
            [
             0,
             "#0d0887"
            ],
            [
             0.1111111111111111,
             "#46039f"
            ],
            [
             0.2222222222222222,
             "#7201a8"
            ],
            [
             0.3333333333333333,
             "#9c179e"
            ],
            [
             0.4444444444444444,
             "#bd3786"
            ],
            [
             0.5555555555555556,
             "#d8576b"
            ],
            [
             0.6666666666666666,
             "#ed7953"
            ],
            [
             0.7777777777777778,
             "#fb9f3a"
            ],
            [
             0.8888888888888888,
             "#fdca26"
            ],
            [
             1,
             "#f0f921"
            ]
           ]
          },
          "colorway": [
           "#636efa",
           "#EF553B",
           "#00cc96",
           "#ab63fa",
           "#FFA15A",
           "#19d3f3",
           "#FF6692",
           "#B6E880",
           "#FF97FF",
           "#FECB52"
          ],
          "font": {
           "color": "#2a3f5f"
          },
          "geo": {
           "bgcolor": "white",
           "lakecolor": "white",
           "landcolor": "#E5ECF6",
           "showlakes": true,
           "showland": true,
           "subunitcolor": "white"
          },
          "hoverlabel": {
           "align": "left"
          },
          "hovermode": "closest",
          "mapbox": {
           "style": "light"
          },
          "paper_bgcolor": "white",
          "plot_bgcolor": "#E5ECF6",
          "polar": {
           "angularaxis": {
            "gridcolor": "white",
            "linecolor": "white",
            "ticks": ""
           },
           "bgcolor": "#E5ECF6",
           "radialaxis": {
            "gridcolor": "white",
            "linecolor": "white",
            "ticks": ""
           }
          },
          "scene": {
           "xaxis": {
            "backgroundcolor": "#E5ECF6",
            "gridcolor": "white",
            "gridwidth": 2,
            "linecolor": "white",
            "showbackground": true,
            "ticks": "",
            "zerolinecolor": "white"
           },
           "yaxis": {
            "backgroundcolor": "#E5ECF6",
            "gridcolor": "white",
            "gridwidth": 2,
            "linecolor": "white",
            "showbackground": true,
            "ticks": "",
            "zerolinecolor": "white"
           },
           "zaxis": {
            "backgroundcolor": "#E5ECF6",
            "gridcolor": "white",
            "gridwidth": 2,
            "linecolor": "white",
            "showbackground": true,
            "ticks": "",
            "zerolinecolor": "white"
           }
          },
          "shapedefaults": {
           "line": {
            "color": "#2a3f5f"
           }
          },
          "ternary": {
           "aaxis": {
            "gridcolor": "white",
            "linecolor": "white",
            "ticks": ""
           },
           "baxis": {
            "gridcolor": "white",
            "linecolor": "white",
            "ticks": ""
           },
           "bgcolor": "#E5ECF6",
           "caxis": {
            "gridcolor": "white",
            "linecolor": "white",
            "ticks": ""
           }
          },
          "title": {
           "x": 0.05
          },
          "xaxis": {
           "automargin": true,
           "gridcolor": "white",
           "linecolor": "white",
           "ticks": "",
           "title": {
            "standoff": 15
           },
           "zerolinecolor": "white",
           "zerolinewidth": 2
          },
          "yaxis": {
           "automargin": true,
           "gridcolor": "white",
           "linecolor": "white",
           "ticks": "",
           "title": {
            "standoff": 15
           },
           "zerolinecolor": "white",
           "zerolinewidth": 2
          }
         }
        },
        "title": {
         "text": "percentage empty data ecoscore group and grad"
        },
        "xaxis": {
         "title": {
          "text": "Catégories"
         }
        },
        "yaxis": {
         "title": {
          "text": "Valeurs"
         }
        }
       }
      }
     },
     "metadata": {},
     "output_type": "display_data"
    }
   ],
   "source": [
    "fig = go.Figure()\n",
    "fig.add_trace(go.Bar(\n",
    "    x=labels,\n",
    "    y=values,\n",
    "    name='Pourcentage',\n",
    "    text=[f'{v:.2f}%' for v in values],\n",
    "    textposition='auto'\n",
    "))\n",
    "fig.add_trace(go.Bar(\n",
    "    x=labels,\n",
    "    y=counts_values,\n",
    "    name='Nombre',\n",
    "    text=[str(v) for v in counts_values],\n",
    "    textposition='auto'\n",
    "))\n",
    "fig.update_layout(\n",
    "    title='percentage empty data ecoscore group and grad',\n",
    "    xaxis_title='Catégories',\n",
    "    yaxis_title='Valeurs',\n",
    "    barmode='group'\n",
    ")\n",
    "fig.show()"
   ]
  },
  {
   "cell_type": "markdown",
   "metadata": {},
   "source": [
    "# TOTAL ARTICLES NUMBER:"
   ]
  },
  {
   "cell_type": "code",
   "execution_count": 98,
   "metadata": {},
   "outputs": [
    {
     "name": "stdout",
     "output_type": "stream",
     "text": [
      "total product number: 1211079\n"
     ]
    }
   ],
   "source": [
    "print(f\"total product number: {total_labels}\")"
   ]
  },
  {
   "cell_type": "markdown",
   "metadata": {},
   "source": [
    "# JSONL SAMPLE:"
   ]
  },
  {
   "cell_type": "code",
   "execution_count": 99,
   "metadata": {},
   "outputs": [
    {
     "data": {
      "text/html": [
       "<div>\n",
       "<style scoped>\n",
       "    .dataframe tbody tr th:only-of-type {\n",
       "        vertical-align: middle;\n",
       "    }\n",
       "\n",
       "    .dataframe tbody tr th {\n",
       "        vertical-align: top;\n",
       "    }\n",
       "\n",
       "    .dataframe thead th {\n",
       "        text-align: right;\n",
       "    }\n",
       "</style>\n",
       "<table border=\"1\" class=\"dataframe\">\n",
       "  <thead>\n",
       "    <tr style=\"text-align: right;\">\n",
       "      <th></th>\n",
       "      <th>groups</th>\n",
       "      <th>packaging</th>\n",
       "      <th>name</th>\n",
       "      <th>ecoscore_groups</th>\n",
       "      <th>ecoscore_note</th>\n",
       "      <th>code</th>\n",
       "      <th>countries</th>\n",
       "      <th>ingredients</th>\n",
       "      <th>categories</th>\n",
       "      <th>labels_note</th>\n",
       "    </tr>\n",
       "  </thead>\n",
       "  <tbody>\n",
       "    <tr>\n",
       "      <th>0</th>\n",
       "      <td>composite foods</td>\n",
       "      <td>none</td>\n",
       "      <td>gourmet pizza</td>\n",
       "      <td>None</td>\n",
       "      <td>NaN</td>\n",
       "      <td>750369051112</td>\n",
       "      <td></td>\n",
       "      <td>mozzarella-cheese-pizza, crust, rice-flour, flour, rice, modified-rice-starch, starch, modified-starch, rice-starch, potato-starch, canola, vegetable, root-vegetable, rapeseed, olive-oil-blend, evaporated-cane-sugar, tapioca-flour, tapioca, potato-flour, tuber, potato, fresh-yeast, yeast, baker-s-yeast, salt, e415, and-calcium-sulfate, sauce, tomato-puree, fruit-vegetable, tomato, parmigiano-reggiano, dairy, cheese, e460ii, e460, oregano, herb, pepper, seed, pasteurized-semi-skimmed-milk, milk, semi-skimmed-milk, lactic-ferments, ferment, microbial-culture, enzyme, water, added-for-freshness, e330, cultured-part-skim-cow-s-milk, anti-caking-agent, pasteurised-milk</td>\n",
       "      <td>meals, pizzas-pies-and-quiches, pizzas</td>\n",
       "      <td>0</td>\n",
       "    </tr>\n",
       "    <tr>\n",
       "      <th>1</th>\n",
       "      <td>fruits and vegetables</td>\n",
       "      <td>0</td>\n",
       "      <td>framboise noire hve3 100gx4</td>\n",
       "      <td>b</td>\n",
       "      <td>79.0</td>\n",
       "      <td>13251212512000151552</td>\n",
       "      <td></td>\n",
       "      <td>raspberry, fruit, berries</td>\n",
       "      <td>plant-based-foods-and-beverages, plant-based-foods, fruits-and-vegetables-based-foods, fruits-based-foods, fruits, berries, raspberries</td>\n",
       "      <td>0</td>\n",
       "    </tr>\n",
       "    <tr>\n",
       "      <th>2</th>\n",
       "      <td>cereals and potatoes</td>\n",
       "      <td>nan</td>\n",
       "      <td>pan de pueblo</td>\n",
       "      <td>None</td>\n",
       "      <td>NaN</td>\n",
       "      <td>8420622349295</td>\n",
       "      <td></td>\n",
       "      <td>None</td>\n",
       "      <td>plant-based-foods-and-beverages, plant-based-foods, cereals-and-potatoes, breads, white-breads</td>\n",
       "      <td>0</td>\n",
       "    </tr>\n",
       "  </tbody>\n",
       "</table>\n",
       "</div>"
      ],
      "text/plain": [
       "                  groups packaging                         name  \\\n",
       "0        composite foods      none                gourmet pizza   \n",
       "1  fruits and vegetables         0  framboise noire hve3 100gx4   \n",
       "2   cereals and potatoes       nan                pan de pueblo   \n",
       "\n",
       "  ecoscore_groups  ecoscore_note                  code countries  \\\n",
       "0            None            NaN          750369051112             \n",
       "1               b           79.0  13251212512000151552             \n",
       "2            None            NaN         8420622349295             \n",
       "\n",
       "                                                                                                                                                                                                                                                                                                                                                                                                                                                                                                                                                                                                                                                                                        ingredients  \\\n",
       "0  mozzarella-cheese-pizza, crust, rice-flour, flour, rice, modified-rice-starch, starch, modified-starch, rice-starch, potato-starch, canola, vegetable, root-vegetable, rapeseed, olive-oil-blend, evaporated-cane-sugar, tapioca-flour, tapioca, potato-flour, tuber, potato, fresh-yeast, yeast, baker-s-yeast, salt, e415, and-calcium-sulfate, sauce, tomato-puree, fruit-vegetable, tomato, parmigiano-reggiano, dairy, cheese, e460ii, e460, oregano, herb, pepper, seed, pasteurized-semi-skimmed-milk, milk, semi-skimmed-milk, lactic-ferments, ferment, microbial-culture, enzyme, water, added-for-freshness, e330, cultured-part-skim-cow-s-milk, anti-caking-agent, pasteurised-milk   \n",
       "1                                                                                                                                                                                                                                                                                                                                                                                                                                                                                                                                                                                                                                                                         raspberry, fruit, berries   \n",
       "2                                                                                                                                                                                                                                                                                                                                                                                                                                                                                                                                                                                                                                                                                              None   \n",
       "\n",
       "                                                                                                                                categories  \\\n",
       "0                                                                                                   meals, pizzas-pies-and-quiches, pizzas   \n",
       "1  plant-based-foods-and-beverages, plant-based-foods, fruits-and-vegetables-based-foods, fruits-based-foods, fruits, berries, raspberries   \n",
       "2                                           plant-based-foods-and-beverages, plant-based-foods, cereals-and-potatoes, breads, white-breads   \n",
       "\n",
       "   labels_note  \n",
       "0            0  \n",
       "1            0  \n",
       "2            0  "
      ]
     },
     "execution_count": 99,
     "metadata": {},
     "output_type": "execute_result"
    }
   ],
   "source": [
    "df = pd.read_json(jsonl_sample, lines=True)\n",
    "df.head(3)"
   ]
  },
  {
   "cell_type": "code",
   "execution_count": 100,
   "metadata": {},
   "outputs": [],
   "source": [
    "def display_first_n_lines_to_dataframe(jsonl_02, num_lines):\n",
    "    data = []\n",
    "    with open(jsonl_02, 'r', encoding='utf-8') as file:\n",
    "        for i, line in enumerate(file):\n",
    "            if i < num_lines:\n",
    "                data.append(json.loads(line.strip()))\n",
    "            else:\n",
    "                break\n",
    "    df_check = pd.DataFrame(data)\n",
    "    return df_check\n",
    "\n",
    "df_check = display_first_n_lines_to_dataframe(jsonl_02, num_lines=60)"
   ]
  },
  {
   "cell_type": "code",
   "execution_count": 101,
   "metadata": {},
   "outputs": [
    {
     "data": {
      "text/html": [
       "<div>\n",
       "<style scoped>\n",
       "    .dataframe tbody tr th:only-of-type {\n",
       "        vertical-align: middle;\n",
       "    }\n",
       "\n",
       "    .dataframe tbody tr th {\n",
       "        vertical-align: top;\n",
       "    }\n",
       "\n",
       "    .dataframe thead th {\n",
       "        text-align: right;\n",
       "    }\n",
       "</style>\n",
       "<table border=\"1\" class=\"dataframe\">\n",
       "  <thead>\n",
       "    <tr style=\"text-align: right;\">\n",
       "      <th></th>\n",
       "      <th>groups</th>\n",
       "      <th>packaging</th>\n",
       "      <th>name</th>\n",
       "      <th>ecoscore_groups</th>\n",
       "      <th>ecoscore_note</th>\n",
       "      <th>code</th>\n",
       "      <th>countries</th>\n",
       "      <th>ingredients</th>\n",
       "      <th>categories</th>\n",
       "      <th>labels_note</th>\n",
       "    </tr>\n",
       "  </thead>\n",
       "  <tbody>\n",
       "    <tr>\n",
       "      <th>0</th>\n",
       "      <td>fish meat eggs</td>\n",
       "      <td>plastique, frais, barquette en carton, barquette en plastique</td>\n",
       "      <td>jambon cuit à l'étouffée</td>\n",
       "      <td>d</td>\n",
       "      <td>32.0</td>\n",
       "      <td>7613036624930</td>\n",
       "      <td></td>\n",
       "      <td>ham, animal, meat, pork, pork-meat, salt, natural-flavouring, flavouring, beet-sugar, added-sugar, disaccharide, sugar, e300</td>\n",
       "      <td>meats-and-their-products, meats, prepared-meats, hams, white-hams</td>\n",
       "      <td>7</td>\n",
       "    </tr>\n",
       "    <tr>\n",
       "      <th>1</th>\n",
       "      <td>fat and sauces</td>\n",
       "      <td>tube</td>\n",
       "      <td>soft mustard</td>\n",
       "      <td>c</td>\n",
       "      <td>59.0</td>\n",
       "      <td>7610145651246</td>\n",
       "      <td></td>\n",
       "      <td>water, mustard-seed, condiment, mustard, spice, table-vinegar, vinegar, salt, sugar, added-sugar, disaccharide, turmeric</td>\n",
       "      <td>condiments, sauces, mustards, groceries</td>\n",
       "      <td>2</td>\n",
       "    </tr>\n",
       "    <tr>\n",
       "      <th>2</th>\n",
       "      <td>None</td>\n",
       "      <td>none</td>\n",
       "      <td>origan</td>\n",
       "      <td>c</td>\n",
       "      <td>43.0</td>\n",
       "      <td>7624841337090</td>\n",
       "      <td></td>\n",
       "      <td>None</td>\n",
       "      <td>plant-based-foods-and-beverages, plant-based-foods, condiments, culinary-plants, aromatic-plants, herbs, oregano</td>\n",
       "      <td>0</td>\n",
       "    </tr>\n",
       "    <tr>\n",
       "      <th>3</th>\n",
       "      <td>milk and dairy products</td>\n",
       "      <td>frais</td>\n",
       "      <td>fagotin light</td>\n",
       "      <td>d</td>\n",
       "      <td>34.0</td>\n",
       "      <td>5410578004198</td>\n",
       "      <td></td>\n",
       "      <td>pasteurised-milk, dairy, milk, milk-proteins, protein, animal-protein, salt, lactic-ferments, ferment, microbial-culture, microbial-coagulating-enzyme, enzyme, coagulating-enzyme, colour, e160b</td>\n",
       "      <td>dairies, fermented-foods, fermented-milk-products, cheeses</td>\n",
       "      <td>0</td>\n",
       "    </tr>\n",
       "    <tr>\n",
       "      <th>4</th>\n",
       "      <td>salty snacks</td>\n",
       "      <td>none</td>\n",
       "      <td>munchos</td>\n",
       "      <td>b</td>\n",
       "      <td>67.0</td>\n",
       "      <td>60410048023</td>\n",
       "      <td></td>\n",
       "      <td>potato-flakes, vegetable, root-vegetable, tuber, potato, vegetable-oil, oil-and-fat, vegetable-oil-and-fat, cornmeal, cereal, corn, potato-starch, starch, salt, yeast, e450i, e450, e330</td>\n",
       "      <td>plant-based-foods-and-beverages, plant-based-foods, snacks, cereals-and-potatoes, salty-snacks, appetizers, chips-and-fries, crisps, potato-crisps</td>\n",
       "      <td>0</td>\n",
       "    </tr>\n",
       "    <tr>\n",
       "      <th>5</th>\n",
       "      <td>fish meat eggs</td>\n",
       "      <td>dose</td>\n",
       "      <td>thunfisch filets geschnitten</td>\n",
       "      <td>e</td>\n",
       "      <td>0.0</td>\n",
       "      <td>42285885</td>\n",
       "      <td></td>\n",
       "      <td>None</td>\n",
       "      <td>seafood, fishes-and-their-products, canned-foods, fishes, fatty-fishes, canned-fishes, tunas, canned-tunas, tuna-in-brine</td>\n",
       "      <td>0</td>\n",
       "    </tr>\n",
       "    <tr>\n",
       "      <th>6</th>\n",
       "      <td>composite foods</td>\n",
       "      <td>métal, boîte, conserve</td>\n",
       "      <td>choucroute garnie</td>\n",
       "      <td>b</td>\n",
       "      <td>67.0</td>\n",
       "      <td>3250390001461</td>\n",
       "      <td></td>\n",
       "      <td>vegetable, salt, potato, root-vegetable, tuber, prepared-meat, meat, water, mechanically-separated-poultry-meat, poultry, poultry-meat, mechanically-separated-meat, pork, animal, pork-by-product, wheat-flour, cereal, flour, wheat, cereal-flour, modified-potato-starch, starch, modified-starch, potato-starch, e250, e452, e407, e401, carob-seed-flour, legume, pulse, carob-bean-locust-bean, spice, condiment, glucose-syrup, added-sugar, monosaccharide, glucose, flavouring, minerals, e301, prepared-sauce, sauce, e621, pork-meat, lard, oil-and-fat, fat, animal-fat, pork-fat, juniper-berry, plant, juniper, coriander-seed, seed, herb, coriander, sauerkraut, brassica, cabbage, white-cabbage, cured-sausage</td>\n",
       "      <td>plant-based-foods-and-beverages, plant-based-foods, fruits-and-vegetables-based-foods, canned-foods, vegetables-based-foods, meals, fermented-vegetables, sauerkrauts, canned-meals, sauerkraut-with-garnish</td>\n",
       "      <td>2</td>\n",
       "    </tr>\n",
       "    <tr>\n",
       "      <th>7</th>\n",
       "      <td>sugary snacks</td>\n",
       "      <td>none</td>\n",
       "      <td>chick-o-stick</td>\n",
       "      <td>None</td>\n",
       "      <td>NaN</td>\n",
       "      <td>41168631675</td>\n",
       "      <td></td>\n",
       "      <td>cane-sugar, added-sugar, disaccharide, sugar, corn-syrup, peanut-paste, nut, peanut, coconut, fruit, natural-and-artificial-flavouring, flavouring, natural-flavouring, artificial-flavouring, e102, e127, e129, e133, contains-fresh-ground-dry-roasted-peanuts, salt, and-tocopherol, preservative, e223, vitamin-e</td>\n",
       "      <td>snacks, sweet-snacks, confectioneries</td>\n",
       "      <td>0</td>\n",
       "    </tr>\n",
       "    <tr>\n",
       "      <th>8</th>\n",
       "      <td>fish meat eggs</td>\n",
       "      <td>plastica</td>\n",
       "      <td>bon roll con speck</td>\n",
       "      <td>None</td>\n",
       "      <td>NaN</td>\n",
       "      <td>8008110003159</td>\n",
       "      <td></td>\n",
       "      <td>turkey-meat, poultry, turkey, chicken, skimmed-milk-powder, dairy, milk-powder, egg, bacon, animal, meat, pork, pork-meat, wheat-flour, cereal, flour, wheat, cereal-flour, cheese, salt, milk-proteins, protein, animal-protein, butter, antioxidant, garlic, vegetable, root-vegetable, onion-family-vegetable, parsley, herb, leaf-vegetable, rosemary, flavouring, acidity-regulator, spice, condiment, dextrose, added-sugar, monosaccharide, glucose, preservative, e300, e330, e250, e301</td>\n",
       "      <td>meats-and-their-products, meat-preparations, meats</td>\n",
       "      <td>0</td>\n",
       "    </tr>\n",
       "    <tr>\n",
       "      <th>9</th>\n",
       "      <td>milk and dairy products</td>\n",
       "      <td>nan</td>\n",
       "      <td>petit fresa</td>\n",
       "      <td>b</td>\n",
       "      <td>65.0</td>\n",
       "      <td>8431876307832</td>\n",
       "      <td></td>\n",
       "      <td>pasteurized-skimmed-milk, dairy, milk, pasteurised-milk, skimmed-milk, sugar, added-sugar, disaccharide, cream, strawberry, fruit, berries, water, lactic-ferments, ferment, microbial-culture, natural-flavouring, flavouring, vitamin-d, acidity-regulator, e330</td>\n",
       "      <td>dairies, fermented-foods, fermented-milk-products, desserts, dairy-desserts, fermented-dairy-desserts, fermented-dairy-desserts-with-fruits, petits-suisses, petit-suisse-with-fruits</td>\n",
       "      <td>3</td>\n",
       "    </tr>\n",
       "    <tr>\n",
       "      <th>10</th>\n",
       "      <td>milk and dairy products</td>\n",
       "      <td>none</td>\n",
       "      <td>fat free rasberry yogurts</td>\n",
       "      <td>b</td>\n",
       "      <td>67.0</td>\n",
       "      <td>5010525062341</td>\n",
       "      <td></td>\n",
       "      <td>None</td>\n",
       "      <td>dairies, fermented-foods, fermented-milk-products, desserts, dairy-desserts, fermented-dairy-desserts, yogurts</td>\n",
       "      <td>0</td>\n",
       "    </tr>\n",
       "    <tr>\n",
       "      <th>11</th>\n",
       "      <td>salty snacks</td>\n",
       "      <td>none</td>\n",
       "      <td>noix de cajou</td>\n",
       "      <td>d</td>\n",
       "      <td>23.0</td>\n",
       "      <td>2427296446127</td>\n",
       "      <td></td>\n",
       "      <td>None</td>\n",
       "      <td>plant-based-foods-and-beverages, plant-based-foods, nuts-and-their-products, nuts, cashew-nuts</td>\n",
       "      <td>0</td>\n",
       "    </tr>\n",
       "    <tr>\n",
       "      <th>12</th>\n",
       "      <td>beverages</td>\n",
       "      <td>dose</td>\n",
       "      <td>lamate minze</td>\n",
       "      <td>None</td>\n",
       "      <td>NaN</td>\n",
       "      <td>4388860591637</td>\n",
       "      <td></td>\n",
       "      <td>water, sugar, added-sugar, disaccharide, e290, mate, plant, acid, caffeine, colour, antioxidant, e330, e150a, e300</td>\n",
       "      <td>beverages, carbonated-drinks, sodas, sweetened-beverages</td>\n",
       "      <td>4</td>\n",
       "    </tr>\n",
       "    <tr>\n",
       "      <th>13</th>\n",
       "      <td>fruits and vegetables</td>\n",
       "      <td>carton,plastique</td>\n",
       "      <td>pommes ananas touche de gingembre</td>\n",
       "      <td>b</td>\n",
       "      <td>79.0</td>\n",
       "      <td>3297760094210</td>\n",
       "      <td></td>\n",
       "      <td>apple-puree, fruit, malaceous-fruit, apple, puree, pineapple, lime-juice, citrus-fruit, juice, fruit-juice, lime, ginger, condiment, spice, antioxidant, e300</td>\n",
       "      <td>plant-based-foods-and-beverages, plant-based-foods, fruits-and-vegetables-based-foods, desserts, fruits-based-foods, compotes, apple-compotes</td>\n",
       "      <td>1</td>\n",
       "    </tr>\n",
       "    <tr>\n",
       "      <th>14</th>\n",
       "      <td>cereals and potatoes</td>\n",
       "      <td>nan</td>\n",
       "      <td>riz superfin</td>\n",
       "      <td>e</td>\n",
       "      <td>12.0</td>\n",
       "      <td>7610511119059</td>\n",
       "      <td></td>\n",
       "      <td>None</td>\n",
       "      <td>plant-based-foods-and-beverages, plant-based-foods, cereals-and-potatoes, seeds, cereals-and-their-products, cereal-grains, rices, japonica-rices, medium-grain-rices, rices-for-risotto, carnaroli-rices</td>\n",
       "      <td>0</td>\n",
       "    </tr>\n",
       "    <tr>\n",
       "      <th>15</th>\n",
       "      <td>beverages</td>\n",
       "      <td>none</td>\n",
       "      <td>italian style lemonade</td>\n",
       "      <td>None</td>\n",
       "      <td>NaN</td>\n",
       "      <td>753677367098</td>\n",
       "      <td></td>\n",
       "      <td>triple-filtered-carbonated-water, cane-sugar, added-sugar, disaccharide, sugar, e330, natural-lemon-flavouring, flavouring, natural-flavouring, e414, e211</td>\n",
       "      <td>beverages, carbonated-drinks, sodas</td>\n",
       "      <td>0</td>\n",
       "    </tr>\n",
       "    <tr>\n",
       "      <th>16</th>\n",
       "      <td>fat and sauces</td>\n",
       "      <td>none</td>\n",
       "      <td>sauce cocktail</td>\n",
       "      <td>None</td>\n",
       "      <td>NaN</td>\n",
       "      <td>3760042090410</td>\n",
       "      <td></td>\n",
       "      <td>brown-sugar, added-sugar, disaccharide, sugar, milk-powder, dairy, soya, white-vinegar, vinegar, sifted-tomato, vegetable, fruit-vegetable, tomato, water, sunflower-oil, oil-and-fat, vegetable-oil-and-fat, vegetable-oil, mustard, wine-vinegar, salt, e415, sulfite, wheat, cereal, fish</td>\n",
       "      <td>condiments, sauces, cocktail-sauces, groceries</td>\n",
       "      <td>1</td>\n",
       "    </tr>\n",
       "    <tr>\n",
       "      <th>17</th>\n",
       "      <td>fruits and vegetables</td>\n",
       "      <td>none</td>\n",
       "      <td>espárragos blancos extra</td>\n",
       "      <td>c</td>\n",
       "      <td>57.0</td>\n",
       "      <td>8421436020097</td>\n",
       "      <td></td>\n",
       "      <td>None</td>\n",
       "      <td>plant-based-foods-and-beverages, plant-based-foods, fruits-and-vegetables-based-foods, vegetables-based-foods, vegetables, vegetable-rods, asparagus, white-asparagus</td>\n",
       "      <td>1</td>\n",
       "    </tr>\n",
       "    <tr>\n",
       "      <th>18</th>\n",
       "      <td>fish meat eggs</td>\n",
       "      <td>none</td>\n",
       "      <td>mortadella</td>\n",
       "      <td>e</td>\n",
       "      <td>4.0</td>\n",
       "      <td>8019730086415</td>\n",
       "      <td></td>\n",
       "      <td>pork-meat, animal, meat, pork, salt, sucrose, added-sugar, disaccharide, sugar, pistachio-nuts, nut, tree-nut, natural-flavouring, flavouring, spice, condiment, antioxidant, preservative, e301, e250</td>\n",
       "      <td>meats-and-their-products, meats, prepared-meats, mortadella</td>\n",
       "      <td>2</td>\n",
       "    </tr>\n",
       "    <tr>\n",
       "      <th>19</th>\n",
       "      <td>sugary snacks</td>\n",
       "      <td>nan</td>\n",
       "      <td>premium authentic french brioche</td>\n",
       "      <td>d</td>\n",
       "      <td>35.0</td>\n",
       "      <td>811669020205</td>\n",
       "      <td></td>\n",
       "      <td>wheat-flour, cereal, flour, wheat, cereal-flour, vanilla-flavored-filling, sugar, added-sugar, disaccharide, egg, egg-white, palm-oil, oil-and-fat, vegetable-oil-and-fat, palm-oil-and-fat, rapeseed-vegetable-oil-oil, yeast, artificial-flavouring, flavouring, butterfat, dairy, fat, milkfat, salt, wheat-gluten, gluten, skimmed-milk, milk, e410, flour-treatment-agent, milk-proteins, protein, animal-protein, e282, e330, beta-carotene-color, water, modified-potato-starch, starch, modified-starch, potato-starch, whey, maltodextrin, natural-flavouring, e415, e471, e472e, sodium-stearoyl-lactilate, preservative</td>\n",
       "      <td>plant-based-foods-and-beverages, plant-based-foods, snacks, cereals-and-potatoes, sweet-snacks, sweet-pastries-and-pies, breads, viennoiseries, brioches, brioches-a-la-creme-patissiere</td>\n",
       "      <td>1</td>\n",
       "    </tr>\n",
       "    <tr>\n",
       "      <th>20</th>\n",
       "      <td>fruits and vegetables</td>\n",
       "      <td>nan</td>\n",
       "      <td>fresh garlic</td>\n",
       "      <td>None</td>\n",
       "      <td>NaN</td>\n",
       "      <td>70969003367</td>\n",
       "      <td></td>\n",
       "      <td>vegetable, root-vegetable, onion-family-vegetable, garlic</td>\n",
       "      <td>plant-based-foods-and-beverages, plant-based-foods, fruits-and-vegetables-based-foods, condiments, vegetables-based-foods, culinary-plants, fresh-foods, fresh-plant-based-foods, fresh-vegetables, garlic-and-their-products, garlic, fresh-garlic, groceries</td>\n",
       "      <td>0</td>\n",
       "    </tr>\n",
       "    <tr>\n",
       "      <th>21</th>\n",
       "      <td>cereals and potatoes</td>\n",
       "      <td>none</td>\n",
       "      <td>aunt millie's, best grains premium bread, butter potato</td>\n",
       "      <td>None</td>\n",
       "      <td>NaN</td>\n",
       "      <td>71314056205</td>\n",
       "      <td></td>\n",
       "      <td>flour, water, yeast, cane-sugar, added-sugar, disaccharide, sugar, butter, dairy, potato-flour, vegetable, root-vegetable, tuber, potato, sea-salt, salt, natural-sour, cultured-wheat-flour, buttermilk, wheat-gluten, gluten, natural-flavouring, flavouring, vinegar, e516, e330, e300, soya-lecithin, e322, e322i, topped-with-flour, wheat-flour, cereal, wheat, cereal-flour, barley-malt-flour, barley, barley-flour, reduced-iron, minerals, iron, thiamin-mononitrate, thiamin, e101, e375, folic-acid, folate</td>\n",
       "      <td>plant-based-foods-and-beverages, plant-based-foods, cereals-and-potatoes, breads</td>\n",
       "      <td>0</td>\n",
       "    </tr>\n",
       "    <tr>\n",
       "      <th>22</th>\n",
       "      <td>beverages</td>\n",
       "      <td>kunststoff, pet - polyethylenterephtalat</td>\n",
       "      <td>cappuccino</td>\n",
       "      <td>None</td>\n",
       "      <td>NaN</td>\n",
       "      <td>20148287</td>\n",
       "      <td></td>\n",
       "      <td>skimmed-milk, dairy, milk, sugar, added-sugar, disaccharide, caramelised-sugar-syrup, caramel-syrup, cocoa-powder, plant, cocoa, stabiliser, e407, e500</td>\n",
       "      <td>beverages, dairies, dairy-drinks, evaporated-milks, non-alcoholic-beverages, coffee-drinks, coffee-milks, sweetened-beverages</td>\n",
       "      <td>1</td>\n",
       "    </tr>\n",
       "    <tr>\n",
       "      <th>23</th>\n",
       "      <td>None</td>\n",
       "      <td>none</td>\n",
       "      <td>green tea</td>\n",
       "      <td>b</td>\n",
       "      <td>79.0</td>\n",
       "      <td>6947768888782</td>\n",
       "      <td></td>\n",
       "      <td>None</td>\n",
       "      <td>plant-based-foods-and-beverages, beverages, hot-beverages, plant-based-beverages, teas, green-teas</td>\n",
       "      <td>0</td>\n",
       "    </tr>\n",
       "    <tr>\n",
       "      <th>24</th>\n",
       "      <td>alcoholic beverages</td>\n",
       "      <td>none</td>\n",
       "      <td>sandels</td>\n",
       "      <td>d</td>\n",
       "      <td>37.0</td>\n",
       "      <td>6419800011637</td>\n",
       "      <td></td>\n",
       "      <td>water, malted-barley, cereal, malt, hops, plant</td>\n",
       "      <td>beverages-and-beverages-preparations, beverages, alcoholic-beverages, beers</td>\n",
       "      <td>0</td>\n",
       "    </tr>\n",
       "    <tr>\n",
       "      <th>25</th>\n",
       "      <td>salty snacks</td>\n",
       "      <td>plastic</td>\n",
       "      <td>roasted and salted blanched peanuts</td>\n",
       "      <td>d</td>\n",
       "      <td>35.0</td>\n",
       "      <td>5949065009700</td>\n",
       "      <td></td>\n",
       "      <td>peanut, nut, vegetable-sunflower-oil, unrefined-sea-salt, salt, sea-salt, produced-in-a-facility-that-uses-nuts, sesame-seeds, seed, sesame, mustard</td>\n",
       "      <td>plant-based-foods-and-beverages, plant-based-foods, legumes-and-their-products, snacks, legumes, salty-snacks, nuts-and-their-products, nuts, roasted-nuts, peanuts, salted-nuts, roasted-peanuts, unshelled-peanuts</td>\n",
       "      <td>0</td>\n",
       "    </tr>\n",
       "    <tr>\n",
       "      <th>26</th>\n",
       "      <td>sugary snacks</td>\n",
       "      <td>nan</td>\n",
       "      <td>circle k - gummy worms</td>\n",
       "      <td>c</td>\n",
       "      <td>59.0</td>\n",
       "      <td>194283550588</td>\n",
       "      <td></td>\n",
       "      <td>sugar, added-sugar, disaccharide, e428, modified-potato-starch, starch, modified-starch, potato-starch, e330, artificial-flavouring, flavouring, e901, e903, palm-oil, oil-and-fat, vegetable-oil-and-fat, palm-oil-and-fat, palm-kernel-oil, palm-kernel-oil-and-fat, e102, e129, e133, glucose-syrup-refined-sugar</td>\n",
       "      <td>snacks, sweet-snacks, confectioneries, candies, gummi-candies</td>\n",
       "      <td>0</td>\n",
       "    </tr>\n",
       "    <tr>\n",
       "      <th>27</th>\n",
       "      <td>fat and sauces</td>\n",
       "      <td>none</td>\n",
       "      <td>chipotle</td>\n",
       "      <td>None</td>\n",
       "      <td>NaN</td>\n",
       "      <td>859660004404</td>\n",
       "      <td></td>\n",
       "      <td>non, gmo-expeller-pressed-canola-oil, filtered-water, water, lemon-juice, fruit, juice, fruit-juice, chipotle, vegetable, fruit-vegetable, chili-pepper, jalapeno-pepper, white-vinegar, vinegar, and-less-of-the-following, salt, red-pepper-sauce, pea-protein, protein, plant-protein, spice, condiment, garlic, root-vegetable, onion-family-vegetable, modified-starch, starch, e160ai, e160a, e385, e330, sugar, added-sugar, disaccharide, red-bell-pepper, bell-pepper, to-preserve-freshness</td>\n",
       "      <td>condiments, sauces, groceries</td>\n",
       "      <td>0</td>\n",
       "    </tr>\n",
       "    <tr>\n",
       "      <th>28</th>\n",
       "      <td>milk and dairy products</td>\n",
       "      <td>nan</td>\n",
       "      <td>petit pot de crème aux œufs frais caramel</td>\n",
       "      <td>b</td>\n",
       "      <td>65.0</td>\n",
       "      <td>3256229129726</td>\n",
       "      <td></td>\n",
       "      <td>None</td>\n",
       "      <td>dairies, desserts, dairy-desserts, custard-puddings, custard-puddings-with-caramel-sauce</td>\n",
       "      <td>3</td>\n",
       "    </tr>\n",
       "    <tr>\n",
       "      <th>29</th>\n",
       "      <td>milk and dairy products</td>\n",
       "      <td>none</td>\n",
       "      <td>fromage  blanc nature 3.2%</td>\n",
       "      <td>b</td>\n",
       "      <td>71.0</td>\n",
       "      <td>650360080435</td>\n",
       "      <td></td>\n",
       "      <td>None</td>\n",
       "      <td>dairies, fermented-foods, fermented-milk-products, desserts, dairy-desserts, fermented-dairy-desserts, plain-fermented-dairy-desserts</td>\n",
       "      <td>0</td>\n",
       "    </tr>\n",
       "    <tr>\n",
       "      <th>30</th>\n",
       "      <td>fish meat eggs</td>\n",
       "      <td>tray, film en plastique</td>\n",
       "      <td>allumettes nature sans nitrite</td>\n",
       "      <td>None</td>\n",
       "      <td>NaN</td>\n",
       "      <td>3661112601812</td>\n",
       "      <td></td>\n",
       "      <td>None</td>\n",
       "      <td>meats-and-their-products, meats, prepared-meats</td>\n",
       "      <td>4</td>\n",
       "    </tr>\n",
       "    <tr>\n",
       "      <th>31</th>\n",
       "      <td>fat and sauces</td>\n",
       "      <td>none</td>\n",
       "      <td>mild hot n' sweet guava sauce, mild, hot n' sweet guava</td>\n",
       "      <td>None</td>\n",
       "      <td>NaN</td>\n",
       "      <td>14272146823</td>\n",
       "      <td></td>\n",
       "      <td>spirit-vinegar, vinegar, sugar, added-sugar, disaccharide, guava, fruit, cayenne-pepper, condiment, spice, salt, apple-juice, juice, malaceous-fruit, apple, fruit-juice, thickener, yeast-extract, yeast, preservative, antioxidant, e415, e211, e300</td>\n",
       "      <td>condiments, sauces, groceries</td>\n",
       "      <td>0</td>\n",
       "    </tr>\n",
       "    <tr>\n",
       "      <th>32</th>\n",
       "      <td>milk and dairy products</td>\n",
       "      <td>none</td>\n",
       "      <td>latte senza lattosio</td>\n",
       "      <td>d</td>\n",
       "      <td>37.0</td>\n",
       "      <td>8000212003044</td>\n",
       "      <td></td>\n",
       "      <td>None</td>\n",
       "      <td>dairies, milks, lactose-free-milk</td>\n",
       "      <td>1</td>\n",
       "    </tr>\n",
       "    <tr>\n",
       "      <th>33</th>\n",
       "      <td>beverages</td>\n",
       "      <td>none</td>\n",
       "      <td>sparkling beverage</td>\n",
       "      <td>None</td>\n",
       "      <td>NaN</td>\n",
       "      <td>851818001853</td>\n",
       "      <td></td>\n",
       "      <td>purified-carbonated-water, cane-sugar, added-sugar, disaccharide, sugar, natural-flavouring, flavouring, e338</td>\n",
       "      <td>beverages, waters</td>\n",
       "      <td>0</td>\n",
       "    </tr>\n",
       "    <tr>\n",
       "      <th>34</th>\n",
       "      <td>composite foods</td>\n",
       "      <td>none</td>\n",
       "      <td>baccala’ mantecato</td>\n",
       "      <td>None</td>\n",
       "      <td>NaN</td>\n",
       "      <td>8008082108234</td>\n",
       "      <td></td>\n",
       "      <td>None</td>\n",
       "      <td>meals</td>\n",
       "      <td>0</td>\n",
       "    </tr>\n",
       "    <tr>\n",
       "      <th>35</th>\n",
       "      <td>composite foods</td>\n",
       "      <td>conserve</td>\n",
       "      <td>ratatouille à la niçoise 1/2</td>\n",
       "      <td>b</td>\n",
       "      <td>79.0</td>\n",
       "      <td>3564700610510</td>\n",
       "      <td></td>\n",
       "      <td>courgette, vegetable, fruit-vegetable, tomato, tomato-juice, aubergine, bell-pepper, onion, root-vegetable, onion-family-vegetable, double-concentrated-tomato, tomato-concentrate, extra-virgin-olive-oil, oil-and-fat, vegetable-oil-and-fat, vegetable-oil, olive-oil, virgin-olive-oil, sugar, added-sugar, disaccharide, salt, modified-corn-starch, starch, corn-starch, modified-starch, garlic, thyme, herb, concentrated-lemon-juice, fruit, juice, fruit-juice, lemon-juice, acid, pepper, seed, e330</td>\n",
       "      <td>plant-based-foods-and-beverages, plant-based-foods, fruits-and-vegetables-based-foods, canned-foods, vegetables-based-foods, canned-plant-based-foods, meals, canned-vegetables, prepared-vegetables, canned-meals, ratatouille</td>\n",
       "      <td>3</td>\n",
       "    </tr>\n",
       "    <tr>\n",
       "      <th>36</th>\n",
       "      <td>sugary snacks</td>\n",
       "      <td>carton</td>\n",
       "      <td>les petites lunettes à la fraise</td>\n",
       "      <td>b</td>\n",
       "      <td>63.0</td>\n",
       "      <td>3329229939500</td>\n",
       "      <td></td>\n",
       "      <td>None</td>\n",
       "      <td>snacks, sweet-snacks, biscuits-and-cakes, biscuits, cakes, strawberry-biscuits</td>\n",
       "      <td>0</td>\n",
       "    </tr>\n",
       "    <tr>\n",
       "      <th>37</th>\n",
       "      <td>fat and sauces</td>\n",
       "      <td>nan</td>\n",
       "      <td>aceto di vino bianco</td>\n",
       "      <td>b</td>\n",
       "      <td>71.0</td>\n",
       "      <td>8003170060173</td>\n",
       "      <td></td>\n",
       "      <td>wine, alcohol, antioxidant, e224</td>\n",
       "      <td>condiments, vinegars, wine-vinegars, white-wine-vinegars</td>\n",
       "      <td>0</td>\n",
       "    </tr>\n",
       "    <tr>\n",
       "      <th>38</th>\n",
       "      <td>cereals and potatoes</td>\n",
       "      <td>none</td>\n",
       "      <td>ciabatta dinner rolls</td>\n",
       "      <td>None</td>\n",
       "      <td>NaN</td>\n",
       "      <td>826846138017</td>\n",
       "      <td></td>\n",
       "      <td>fortified-wheat-flour, cereal, flour, wheat, cereal-flour, wheat-flour, water, sea-salt, salt, yeast, malted-barley, malt, e375, reduced-iron, minerals, iron, thiamin-mononitrate, thiamin, e101, folic-acid, folate</td>\n",
       "      <td>plant-based-foods-and-beverages, plant-based-foods, cereals-and-potatoes, breads</td>\n",
       "      <td>0</td>\n",
       "    </tr>\n",
       "    <tr>\n",
       "      <th>39</th>\n",
       "      <td>beverages</td>\n",
       "      <td>none</td>\n",
       "      <td>country doctor soda</td>\n",
       "      <td>None</td>\n",
       "      <td>NaN</td>\n",
       "      <td>21333300230</td>\n",
       "      <td></td>\n",
       "      <td>carbonated-water, water, high-fructose-corn-syrup, added-sugar, disaccharide, monosaccharide, fructose, glucose, corn-syrup, glucose-fructose-syrup, e150a, e338, natural-and-artificial-flavouring, flavouring, natural-flavouring, artificial-flavouring, e211, caffeine, e270, preservative</td>\n",
       "      <td>beverages, carbonated-drinks, sodas</td>\n",
       "      <td>0</td>\n",
       "    </tr>\n",
       "    <tr>\n",
       "      <th>40</th>\n",
       "      <td>fish meat eggs</td>\n",
       "      <td>none</td>\n",
       "      <td>grattons de canard à l'echalote</td>\n",
       "      <td>None</td>\n",
       "      <td>NaN</td>\n",
       "      <td>3432770021461</td>\n",
       "      <td></td>\n",
       "      <td>None</td>\n",
       "      <td>meats-and-their-products, meats, prepared-meats</td>\n",
       "      <td>0</td>\n",
       "    </tr>\n",
       "    <tr>\n",
       "      <th>41</th>\n",
       "      <td>beverages</td>\n",
       "      <td>nan</td>\n",
       "      <td>pepsi max lemon</td>\n",
       "      <td>None</td>\n",
       "      <td>NaN</td>\n",
       "      <td>5410188033731</td>\n",
       "      <td></td>\n",
       "      <td>carbonated-water, water, lemon-juice-from-concentrate, fruit, juice, fruit-juice, lemon-juice, colour, flavouring, acid, sweetener, acidity-regulator, preservative, e150d, e338, e330, e951, e950, sodium-citrate, minerals, sodium, e211</td>\n",
       "      <td>plant-based-foods-and-beverages, beverages, plant-based-beverages, carbonated-drinks, fruit-based-beverages, artificially-sweetened-beverages, sodas, diet-beverages, fruit-sodas, colas, diet-sodas, diet-cola-soft-drink, lemon-soft-drinks, light-fruit-sodas, light-lemon-soft-drinks</td>\n",
       "      <td>1</td>\n",
       "    </tr>\n",
       "    <tr>\n",
       "      <th>42</th>\n",
       "      <td>fruits and vegetables</td>\n",
       "      <td>plastic,bag,frozen</td>\n",
       "      <td>petit pois bio</td>\n",
       "      <td>b</td>\n",
       "      <td>79.0</td>\n",
       "      <td>3263858400812</td>\n",
       "      <td></td>\n",
       "      <td>None</td>\n",
       "      <td>plant-based-foods-and-beverages, plant-based-foods, fruits-and-vegetables-based-foods, legumes-and-their-products, legumes, vegetables-based-foods, frozen-foods, vegetables, frozen-plant-based-foods, frozen-legumes, frozen-vegetables, green-peas, frozen-green-peas</td>\n",
       "      <td>3</td>\n",
       "    </tr>\n",
       "    <tr>\n",
       "      <th>43</th>\n",
       "      <td>beverages</td>\n",
       "      <td>none</td>\n",
       "      <td>7up lemon 1.5l</td>\n",
       "      <td>None</td>\n",
       "      <td>NaN</td>\n",
       "      <td>6111252420240</td>\n",
       "      <td></td>\n",
       "      <td>None</td>\n",
       "      <td>beverages-and-beverages-preparations, beverages, carbonated-drinks, sodas</td>\n",
       "      <td>0</td>\n",
       "    </tr>\n",
       "    <tr>\n",
       "      <th>44</th>\n",
       "      <td>fish meat eggs</td>\n",
       "      <td>barquette, film en plastique</td>\n",
       "      <td>3 saucisses toulouse</td>\n",
       "      <td>e</td>\n",
       "      <td>10.0</td>\n",
       "      <td>3661112800710</td>\n",
       "      <td></td>\n",
       "      <td>pork-meat, animal, meat, pork, water, salt, natural-flavouring, flavouring, cane-sugar, added-sugar, disaccharide, sugar, herbs-and-spices, condiment, herb, spice, dextrose, monosaccharide, glucose, antioxidant, preservative, e300, e325, collagen, pork-collagen</td>\n",
       "      <td>meats-and-their-products, meats, prepared-meats, sausages, french-sausages, toulouse-sausages</td>\n",
       "      <td>5</td>\n",
       "    </tr>\n",
       "    <tr>\n",
       "      <th>45</th>\n",
       "      <td>fat and sauces</td>\n",
       "      <td>none</td>\n",
       "      <td>schaller &amp; weber, bavarian style sweet &amp; spicy mustard</td>\n",
       "      <td>None</td>\n",
       "      <td>NaN</td>\n",
       "      <td>753633009185</td>\n",
       "      <td></td>\n",
       "      <td>mustard-seed, condiment, mustard, spice, vinegar, brown-sugar, added-sugar, disaccharide, sugar, salt, pepper, seed</td>\n",
       "      <td>condiments, sauces, groceries</td>\n",
       "      <td>0</td>\n",
       "    </tr>\n",
       "    <tr>\n",
       "      <th>46</th>\n",
       "      <td>fish meat eggs</td>\n",
       "      <td>none</td>\n",
       "      <td>premium chunk white chicken in water, white chicken</td>\n",
       "      <td>None</td>\n",
       "      <td>NaN</td>\n",
       "      <td>70784308562</td>\n",
       "      <td></td>\n",
       "      <td>white-chicken, water, contains-2-and-less-of-sea-salt, flavouring</td>\n",
       "      <td>canned-foods, meats-and-their-products, meats, canned-meats</td>\n",
       "      <td>0</td>\n",
       "    </tr>\n",
       "    <tr>\n",
       "      <th>47</th>\n",
       "      <td>sugary snacks</td>\n",
       "      <td>none</td>\n",
       "      <td>glutino, gluten free toaster pastry, strawberry, strawberry</td>\n",
       "      <td>None</td>\n",
       "      <td>NaN</td>\n",
       "      <td>678523043059</td>\n",
       "      <td></td>\n",
       "      <td>strawberry-flavored-filling, water, fondant, rice-flour, flour, rice, palm-oil, oil-and-fat, vegetable-oil-and-fat, palm-oil-and-fat, modified-potato-starch, starch, modified-starch, potato-starch, resistant-corn-starch, sugar, added-sugar, disaccharide, egg, modified-tapioca-starch, tapioca, tapioca-syrup, syrup, sugar-beet-fibre, fiber, vegetable-fiber, baking-powder, inulin, salt, e466, e415, cultured-corn-syrup-solids-and-citric-acid, vanilla-extract, plant, vanilla, e406, e410, apple, fruit, malaceous-fruit, strawberry, berries, e422, concentrated-white-grape-juice, juice, fruit-juice, grape, grape-juice, white-grape-juice, e440a, e330, e296, natural-flavouring, flavouring, e341iii, e341, black-carrot-juice, vegetable, root-vegetable, taproot-vegetable, carrot, e163, black-carrot, sodium-citrate, minerals, sodium, sucrose, invert-sugar, monosaccharide, e450i, e450, e500ii, e500, corn-starch, e341i, e516, mold-inhibitor, colour</td>\n",
       "      <td>snacks, sweet-snacks, biscuits-and-cakes, pastries</td>\n",
       "      <td>0</td>\n",
       "    </tr>\n",
       "    <tr>\n",
       "      <th>48</th>\n",
       "      <td>cereals and potatoes</td>\n",
       "      <td>none</td>\n",
       "      <td>organic boabab coconut granola</td>\n",
       "      <td>None</td>\n",
       "      <td>NaN</td>\n",
       "      <td>20743505</td>\n",
       "      <td></td>\n",
       "      <td>whole-grain-oat-flakes, cereal, oat, oat-flakes, sugar, added-sugar, disaccharide, canola-oil, oil-and-fat, vegetable-oil-and-fat, rapeseed-oil, rice-flour, flour, rice, coconut, fruit, corn-starch, starch, honey, natural-flavouring, flavouring, salt, baobab-fruit-powder, barley-malt-syrup, malt, malted-barley, barley-malt-extract, syrup, almond, nut, tree-nut, e306, natural-vitamin-e-to-maintain-freshness</td>\n",
       "      <td>plant-based-foods-and-beverages, plant-based-foods, cereals-and-potatoes, cereals-and-their-products</td>\n",
       "      <td>0</td>\n",
       "    </tr>\n",
       "    <tr>\n",
       "      <th>49</th>\n",
       "      <td>sugary snacks</td>\n",
       "      <td>nan</td>\n",
       "      <td>bienenstich</td>\n",
       "      <td>None</td>\n",
       "      <td>NaN</td>\n",
       "      <td>4337256206839</td>\n",
       "      <td></td>\n",
       "      <td>None</td>\n",
       "      <td>snacks, sweet-snacks, biscuits-and-cakes, cakes</td>\n",
       "      <td>2</td>\n",
       "    </tr>\n",
       "    <tr>\n",
       "      <th>50</th>\n",
       "      <td>None</td>\n",
       "      <td>none</td>\n",
       "      <td>gelatine; unflavored</td>\n",
       "      <td>b</td>\n",
       "      <td>68.0</td>\n",
       "      <td>43000048689</td>\n",
       "      <td></td>\n",
       "      <td>e428</td>\n",
       "      <td>food-additives, thickeners, gelatin</td>\n",
       "      <td>0</td>\n",
       "    </tr>\n",
       "    <tr>\n",
       "      <th>51</th>\n",
       "      <td>fat and sauces</td>\n",
       "      <td>verre</td>\n",
       "      <td>exotic sauce</td>\n",
       "      <td>a</td>\n",
       "      <td>86.0</td>\n",
       "      <td>87157796</td>\n",
       "      <td></td>\n",
       "      <td>sugar, added-sugar, disaccharide, apple-juice, fruit, juice, malaceous-fruit, apple, fruit-juice, vinegar, alcohol, pineapple-juice, pineapple, water, modified-starch, starch, pepper, seed, salt, ginger, condiment, spice, herbs-and-spices, herb, onion, vegetable, root-vegetable, onion-family-vegetable, acid, glucose-fructose-syrup, monosaccharide, fructose, glucose, e330</td>\n",
       "      <td>condiments, sauces, sweet-and-sour-sauces, groceries</td>\n",
       "      <td>0</td>\n",
       "    </tr>\n",
       "    <tr>\n",
       "      <th>52</th>\n",
       "      <td>None</td>\n",
       "      <td>plastico</td>\n",
       "      <td>levadura nutricional</td>\n",
       "      <td>c</td>\n",
       "      <td>41.0</td>\n",
       "      <td>8429215091474</td>\n",
       "      <td></td>\n",
       "      <td>brewer-s-yeast, yeast</td>\n",
       "      <td>food-additives, yeast</td>\n",
       "      <td>2</td>\n",
       "    </tr>\n",
       "    <tr>\n",
       "      <th>53</th>\n",
       "      <td>fish meat eggs</td>\n",
       "      <td>none</td>\n",
       "      <td>sardine en boites</td>\n",
       "      <td>d</td>\n",
       "      <td>25.0</td>\n",
       "      <td>7611654679875</td>\n",
       "      <td></td>\n",
       "      <td>sunflower-oil, oil-and-fat, vegetable-oil-and-fat, vegetable-oil, tomato-concentrate, vegetable, fruit-vegetable, tomato, sugar, added-sugar, disaccharide, salt, gherkin, cucumber, sardine, fish, oily-fish, onion, root-vegetable, onion-family-vegetable, carrot, taproot-vegetable, bell-pepper</td>\n",
       "      <td>seafood, fishes-and-their-products, canned-foods, fishes, fatty-fishes, canned-fishes, sardines, canned-sardines</td>\n",
       "      <td>4</td>\n",
       "    </tr>\n",
       "    <tr>\n",
       "      <th>54</th>\n",
       "      <td>None</td>\n",
       "      <td>none</td>\n",
       "      <td>pimientos picantes gewürzzubereitung</td>\n",
       "      <td>e</td>\n",
       "      <td>14.0</td>\n",
       "      <td>4052600006322</td>\n",
       "      <td></td>\n",
       "      <td>chili-pepper, vegetable, fruit-vegetable, sea-salt, salt</td>\n",
       "      <td>plant-based-foods-and-beverages, plant-based-foods, condiments, spices, spice-mix</td>\n",
       "      <td>0</td>\n",
       "    </tr>\n",
       "    <tr>\n",
       "      <th>55</th>\n",
       "      <td>salty snacks</td>\n",
       "      <td>ldpe-bag</td>\n",
       "      <td>home chips</td>\n",
       "      <td>None</td>\n",
       "      <td>NaN</td>\n",
       "      <td>5010228005348</td>\n",
       "      <td></td>\n",
       "      <td>potato, vegetable, root-vegetable, tuber, batter, flour, tapioca, starch, modified-starch, salt, maltodextrin, stabiliser, e100, colour, rapeseed-oil, oil-and-fat, vegetable-oil-and-fat, sunflower-oil, vegetable-oil, rice, wheat, cereal, corn, e415, e160c, calcium, minerals, iron, e375, thiamin</td>\n",
       "      <td>snacks, salty-snacks, appetizers, chips-and-fries, crisps</td>\n",
       "      <td>0</td>\n",
       "    </tr>\n",
       "    <tr>\n",
       "      <th>56</th>\n",
       "      <td>fruits and vegetables</td>\n",
       "      <td>plastique,frais</td>\n",
       "      <td>pomme de table</td>\n",
       "      <td>None</td>\n",
       "      <td>NaN</td>\n",
       "      <td>3590920888637</td>\n",
       "      <td></td>\n",
       "      <td>None</td>\n",
       "      <td>plant-based-foods-and-beverages, plant-based-foods, fruits-and-vegetables-based-foods, fruits-based-foods, fruits, apples, fresh-fruits, fresh-apples</td>\n",
       "      <td>0</td>\n",
       "    </tr>\n",
       "    <tr>\n",
       "      <th>57</th>\n",
       "      <td>beverages</td>\n",
       "      <td>none</td>\n",
       "      <td>nutrition shake</td>\n",
       "      <td>None</td>\n",
       "      <td>NaN</td>\n",
       "      <td>11822165877</td>\n",
       "      <td></td>\n",
       "      <td>water, corn-maltodextrin, maltodextrin, sugar, added-sugar, disaccharide, milk-proteins, protein, animal-protein, canola-oil, oil-and-fat, vegetable-oil-and-fat, rapeseed-oil, soy-protein-isolate, plant-protein, soy-protein, corn-oil, vegetable-oil, cocoa-powder, plant, cocoa, less-than-0-5-of, e343i, e343, whey-protein, natural-and-artificial-flavouring, flavouring, natural-flavouring, artificial-flavouring, sodium-citrate, minerals, sodium, soya-lecithin, e322, e322i, e341, e508, cellulose-gel, choline-chloride, e170i, e170, e466, e300, salt, e407, e525, ferric-orthophosphate, iron, dl-alpha-tocopheryl-acetate, vitamin-e, zinc-sulfate, zinc, e375, manganese-sulfate, manganese, calcium-pantothenate, vitamins, pantothenic-acid, e519, retinyl-palmitate, vitamin-a, thiamin-hydrochloride, thiamin, pyridoxine-hydrochloride, vitamin-b6, e101, chromium-chloride, chromium, folic-acid, folate, biotin, sodium-molybdate, molybdenum, sodium-selenite, selenium, potassium-iodide, iodine, cyanocobalamin, vitamin-b12, phylloquinone, vitamin-k, cholecalciferol, vitamin-d, processed-with-alkali, e332ii, e332</td>\n",
       "      <td>beverages</td>\n",
       "      <td>0</td>\n",
       "    </tr>\n",
       "    <tr>\n",
       "      <th>58</th>\n",
       "      <td>beverages</td>\n",
       "      <td>none</td>\n",
       "      <td>agua mineral natural</td>\n",
       "      <td>None</td>\n",
       "      <td>NaN</td>\n",
       "      <td>8414892319928</td>\n",
       "      <td></td>\n",
       "      <td>None</td>\n",
       "      <td>beverages, waters, spring-waters, mineral-waters</td>\n",
       "      <td>0</td>\n",
       "    </tr>\n",
       "    <tr>\n",
       "      <th>59</th>\n",
       "      <td>fish meat eggs</td>\n",
       "      <td>none</td>\n",
       "      <td>filetto di branzino al naturale</td>\n",
       "      <td>None</td>\n",
       "      <td>NaN</td>\n",
       "      <td>8003170092440</td>\n",
       "      <td></td>\n",
       "      <td>water, salt</td>\n",
       "      <td>seafood, fishes-and-their-products, canned-foods, fishes, canned-fishes</td>\n",
       "      <td>0</td>\n",
       "    </tr>\n",
       "  </tbody>\n",
       "</table>\n",
       "</div>"
      ],
      "text/plain": [
       "                     groups  \\\n",
       "0            fish meat eggs   \n",
       "1            fat and sauces   \n",
       "2                      None   \n",
       "3   milk and dairy products   \n",
       "4              salty snacks   \n",
       "5            fish meat eggs   \n",
       "6           composite foods   \n",
       "7             sugary snacks   \n",
       "8            fish meat eggs   \n",
       "9   milk and dairy products   \n",
       "10  milk and dairy products   \n",
       "11             salty snacks   \n",
       "12                beverages   \n",
       "13    fruits and vegetables   \n",
       "14     cereals and potatoes   \n",
       "15                beverages   \n",
       "16           fat and sauces   \n",
       "17    fruits and vegetables   \n",
       "18           fish meat eggs   \n",
       "19            sugary snacks   \n",
       "20    fruits and vegetables   \n",
       "21     cereals and potatoes   \n",
       "22                beverages   \n",
       "23                     None   \n",
       "24      alcoholic beverages   \n",
       "25             salty snacks   \n",
       "26            sugary snacks   \n",
       "27           fat and sauces   \n",
       "28  milk and dairy products   \n",
       "29  milk and dairy products   \n",
       "30           fish meat eggs   \n",
       "31           fat and sauces   \n",
       "32  milk and dairy products   \n",
       "33                beverages   \n",
       "34          composite foods   \n",
       "35          composite foods   \n",
       "36            sugary snacks   \n",
       "37           fat and sauces   \n",
       "38     cereals and potatoes   \n",
       "39                beverages   \n",
       "40           fish meat eggs   \n",
       "41                beverages   \n",
       "42    fruits and vegetables   \n",
       "43                beverages   \n",
       "44           fish meat eggs   \n",
       "45           fat and sauces   \n",
       "46           fish meat eggs   \n",
       "47            sugary snacks   \n",
       "48     cereals and potatoes   \n",
       "49            sugary snacks   \n",
       "50                     None   \n",
       "51           fat and sauces   \n",
       "52                     None   \n",
       "53           fish meat eggs   \n",
       "54                     None   \n",
       "55             salty snacks   \n",
       "56    fruits and vegetables   \n",
       "57                beverages   \n",
       "58                beverages   \n",
       "59           fish meat eggs   \n",
       "\n",
       "                                                        packaging  \\\n",
       "0   plastique, frais, barquette en carton, barquette en plastique   \n",
       "1                                                            tube   \n",
       "2                                                            none   \n",
       "3                                                           frais   \n",
       "4                                                            none   \n",
       "5                                                            dose   \n",
       "6                                          métal, boîte, conserve   \n",
       "7                                                            none   \n",
       "8                                                        plastica   \n",
       "9                                                             nan   \n",
       "10                                                           none   \n",
       "11                                                           none   \n",
       "12                                                           dose   \n",
       "13                                               carton,plastique   \n",
       "14                                                            nan   \n",
       "15                                                           none   \n",
       "16                                                           none   \n",
       "17                                                           none   \n",
       "18                                                           none   \n",
       "19                                                            nan   \n",
       "20                                                            nan   \n",
       "21                                                           none   \n",
       "22                       kunststoff, pet - polyethylenterephtalat   \n",
       "23                                                           none   \n",
       "24                                                           none   \n",
       "25                                                        plastic   \n",
       "26                                                            nan   \n",
       "27                                                           none   \n",
       "28                                                            nan   \n",
       "29                                                           none   \n",
       "30                                        tray, film en plastique   \n",
       "31                                                           none   \n",
       "32                                                           none   \n",
       "33                                                           none   \n",
       "34                                                           none   \n",
       "35                                                       conserve   \n",
       "36                                                         carton   \n",
       "37                                                            nan   \n",
       "38                                                           none   \n",
       "39                                                           none   \n",
       "40                                                           none   \n",
       "41                                                            nan   \n",
       "42                                             plastic,bag,frozen   \n",
       "43                                                           none   \n",
       "44                                   barquette, film en plastique   \n",
       "45                                                           none   \n",
       "46                                                           none   \n",
       "47                                                           none   \n",
       "48                                                           none   \n",
       "49                                                            nan   \n",
       "50                                                           none   \n",
       "51                                                          verre   \n",
       "52                                                       plastico   \n",
       "53                                                           none   \n",
       "54                                                           none   \n",
       "55                                                       ldpe-bag   \n",
       "56                                                plastique,frais   \n",
       "57                                                           none   \n",
       "58                                                           none   \n",
       "59                                                           none   \n",
       "\n",
       "                                                           name  \\\n",
       "0                                      jambon cuit à l'étouffée   \n",
       "1                                                  soft mustard   \n",
       "2                                                        origan   \n",
       "3                                                 fagotin light   \n",
       "4                                                       munchos   \n",
       "5                                  thunfisch filets geschnitten   \n",
       "6                                             choucroute garnie   \n",
       "7                                                 chick-o-stick   \n",
       "8                                            bon roll con speck   \n",
       "9                                                   petit fresa   \n",
       "10                                    fat free rasberry yogurts   \n",
       "11                                                noix de cajou   \n",
       "12                                                 lamate minze   \n",
       "13                            pommes ananas touche de gingembre   \n",
       "14                                                 riz superfin   \n",
       "15                                       italian style lemonade   \n",
       "16                                               sauce cocktail   \n",
       "17                                     espárragos blancos extra   \n",
       "18                                                   mortadella   \n",
       "19                             premium authentic french brioche   \n",
       "20                                                 fresh garlic   \n",
       "21      aunt millie's, best grains premium bread, butter potato   \n",
       "22                                                   cappuccino   \n",
       "23                                                    green tea   \n",
       "24                                                      sandels   \n",
       "25                          roasted and salted blanched peanuts   \n",
       "26                                       circle k - gummy worms   \n",
       "27                                                     chipotle   \n",
       "28                    petit pot de crème aux œufs frais caramel   \n",
       "29                                   fromage  blanc nature 3.2%   \n",
       "30                               allumettes nature sans nitrite   \n",
       "31      mild hot n' sweet guava sauce, mild, hot n' sweet guava   \n",
       "32                                         latte senza lattosio   \n",
       "33                                           sparkling beverage   \n",
       "34                                           baccala’ mantecato   \n",
       "35                                 ratatouille à la niçoise 1/2   \n",
       "36                             les petites lunettes à la fraise   \n",
       "37                                         aceto di vino bianco   \n",
       "38                                        ciabatta dinner rolls   \n",
       "39                                          country doctor soda   \n",
       "40                              grattons de canard à l'echalote   \n",
       "41                                              pepsi max lemon   \n",
       "42                                               petit pois bio   \n",
       "43                                               7up lemon 1.5l   \n",
       "44                                         3 saucisses toulouse   \n",
       "45       schaller & weber, bavarian style sweet & spicy mustard   \n",
       "46          premium chunk white chicken in water, white chicken   \n",
       "47  glutino, gluten free toaster pastry, strawberry, strawberry   \n",
       "48                               organic boabab coconut granola   \n",
       "49                                                  bienenstich   \n",
       "50                                         gelatine; unflavored   \n",
       "51                                                 exotic sauce   \n",
       "52                                         levadura nutricional   \n",
       "53                                            sardine en boites   \n",
       "54                         pimientos picantes gewürzzubereitung   \n",
       "55                                                   home chips   \n",
       "56                                               pomme de table   \n",
       "57                                              nutrition shake   \n",
       "58                                         agua mineral natural   \n",
       "59                              filetto di branzino al naturale   \n",
       "\n",
       "   ecoscore_groups  ecoscore_note           code countries  \\\n",
       "0                d           32.0  7613036624930             \n",
       "1                c           59.0  7610145651246             \n",
       "2                c           43.0  7624841337090             \n",
       "3                d           34.0  5410578004198             \n",
       "4                b           67.0    60410048023             \n",
       "5                e            0.0       42285885             \n",
       "6                b           67.0  3250390001461             \n",
       "7             None            NaN    41168631675             \n",
       "8             None            NaN  8008110003159             \n",
       "9                b           65.0  8431876307832             \n",
       "10               b           67.0  5010525062341             \n",
       "11               d           23.0  2427296446127             \n",
       "12            None            NaN  4388860591637             \n",
       "13               b           79.0  3297760094210             \n",
       "14               e           12.0  7610511119059             \n",
       "15            None            NaN   753677367098             \n",
       "16            None            NaN  3760042090410             \n",
       "17               c           57.0  8421436020097             \n",
       "18               e            4.0  8019730086415             \n",
       "19               d           35.0   811669020205             \n",
       "20            None            NaN    70969003367             \n",
       "21            None            NaN    71314056205             \n",
       "22            None            NaN       20148287             \n",
       "23               b           79.0  6947768888782             \n",
       "24               d           37.0  6419800011637             \n",
       "25               d           35.0  5949065009700             \n",
       "26               c           59.0   194283550588             \n",
       "27            None            NaN   859660004404             \n",
       "28               b           65.0  3256229129726             \n",
       "29               b           71.0   650360080435             \n",
       "30            None            NaN  3661112601812             \n",
       "31            None            NaN    14272146823             \n",
       "32               d           37.0  8000212003044             \n",
       "33            None            NaN   851818001853             \n",
       "34            None            NaN  8008082108234             \n",
       "35               b           79.0  3564700610510             \n",
       "36               b           63.0  3329229939500             \n",
       "37               b           71.0  8003170060173             \n",
       "38            None            NaN   826846138017             \n",
       "39            None            NaN    21333300230             \n",
       "40            None            NaN  3432770021461             \n",
       "41            None            NaN  5410188033731             \n",
       "42               b           79.0  3263858400812             \n",
       "43            None            NaN  6111252420240             \n",
       "44               e           10.0  3661112800710             \n",
       "45            None            NaN   753633009185             \n",
       "46            None            NaN    70784308562             \n",
       "47            None            NaN   678523043059             \n",
       "48            None            NaN       20743505             \n",
       "49            None            NaN  4337256206839             \n",
       "50               b           68.0    43000048689             \n",
       "51               a           86.0       87157796             \n",
       "52               c           41.0  8429215091474             \n",
       "53               d           25.0  7611654679875             \n",
       "54               e           14.0  4052600006322             \n",
       "55            None            NaN  5010228005348             \n",
       "56            None            NaN  3590920888637             \n",
       "57            None            NaN    11822165877             \n",
       "58            None            NaN  8414892319928             \n",
       "59            None            NaN  8003170092440             \n",
       "\n",
       "                                                                                                                                                                                                                                                                                                                                                                                                                                                                                                                                                                                                                                                                                                                                                                                                                                                                                                                                                                                                                                                                                                                                             ingredients  \\\n",
       "0                                                                                                                                                                                                                                                                                                                                                                                                                                                                                                                                                                                                                                                                                                                                                                                                                                                                                                                                                                                                                           ham, animal, meat, pork, pork-meat, salt, natural-flavouring, flavouring, beet-sugar, added-sugar, disaccharide, sugar, e300   \n",
       "1                                                                                                                                                                                                                                                                                                                                                                                                                                                                                                                                                                                                                                                                                                                                                                                                                                                                                                                                                                                                                               water, mustard-seed, condiment, mustard, spice, table-vinegar, vinegar, salt, sugar, added-sugar, disaccharide, turmeric   \n",
       "2                                                                                                                                                                                                                                                                                                                                                                                                                                                                                                                                                                                                                                                                                                                                                                                                                                                                                                                                                                                                                                                                                                                                                   None   \n",
       "3                                                                                                                                                                                                                                                                                                                                                                                                                                                                                                                                                                                                                                                                                                                                                                                                                                                                                                                                                      pasteurised-milk, dairy, milk, milk-proteins, protein, animal-protein, salt, lactic-ferments, ferment, microbial-culture, microbial-coagulating-enzyme, enzyme, coagulating-enzyme, colour, e160b   \n",
       "4                                                                                                                                                                                                                                                                                                                                                                                                                                                                                                                                                                                                                                                                                                                                                                                                                                                                                                                                                              potato-flakes, vegetable, root-vegetable, tuber, potato, vegetable-oil, oil-and-fat, vegetable-oil-and-fat, cornmeal, cereal, corn, potato-starch, starch, salt, yeast, e450i, e450, e330   \n",
       "5                                                                                                                                                                                                                                                                                                                                                                                                                                                                                                                                                                                                                                                                                                                                                                                                                                                                                                                                                                                                                                                                                                                                                   None   \n",
       "6                                                                                                                                                                                                                                                                                                                                                                                                                       vegetable, salt, potato, root-vegetable, tuber, prepared-meat, meat, water, mechanically-separated-poultry-meat, poultry, poultry-meat, mechanically-separated-meat, pork, animal, pork-by-product, wheat-flour, cereal, flour, wheat, cereal-flour, modified-potato-starch, starch, modified-starch, potato-starch, e250, e452, e407, e401, carob-seed-flour, legume, pulse, carob-bean-locust-bean, spice, condiment, glucose-syrup, added-sugar, monosaccharide, glucose, flavouring, minerals, e301, prepared-sauce, sauce, e621, pork-meat, lard, oil-and-fat, fat, animal-fat, pork-fat, juniper-berry, plant, juniper, coriander-seed, seed, herb, coriander, sauerkraut, brassica, cabbage, white-cabbage, cured-sausage   \n",
       "7                                                                                                                                                                                                                                                                                                                                                                                                                                                                                                                                                                                                                                                                                                                                                                                                                                  cane-sugar, added-sugar, disaccharide, sugar, corn-syrup, peanut-paste, nut, peanut, coconut, fruit, natural-and-artificial-flavouring, flavouring, natural-flavouring, artificial-flavouring, e102, e127, e129, e133, contains-fresh-ground-dry-roasted-peanuts, salt, and-tocopherol, preservative, e223, vitamin-e   \n",
       "8                                                                                                                                                                                                                                                                                                                                                                                                                                                                                                                                                                                                                                                       turkey-meat, poultry, turkey, chicken, skimmed-milk-powder, dairy, milk-powder, egg, bacon, animal, meat, pork, pork-meat, wheat-flour, cereal, flour, wheat, cereal-flour, cheese, salt, milk-proteins, protein, animal-protein, butter, antioxidant, garlic, vegetable, root-vegetable, onion-family-vegetable, parsley, herb, leaf-vegetable, rosemary, flavouring, acidity-regulator, spice, condiment, dextrose, added-sugar, monosaccharide, glucose, preservative, e300, e330, e250, e301   \n",
       "9                                                                                                                                                                                                                                                                                                                                                                                                                                                                                                                                                                                                                                                                                                                                                                                                                                                                                     pasteurized-skimmed-milk, dairy, milk, pasteurised-milk, skimmed-milk, sugar, added-sugar, disaccharide, cream, strawberry, fruit, berries, water, lactic-ferments, ferment, microbial-culture, natural-flavouring, flavouring, vitamin-d, acidity-regulator, e330   \n",
       "10                                                                                                                                                                                                                                                                                                                                                                                                                                                                                                                                                                                                                                                                                                                                                                                                                                                                                                                                                                                                                                                                                                                                                  None   \n",
       "11                                                                                                                                                                                                                                                                                                                                                                                                                                                                                                                                                                                                                                                                                                                                                                                                                                                                                                                                                                                                                                                                                                                                                  None   \n",
       "12                                                                                                                                                                                                                                                                                                                                                                                                                                                                                                                                                                                                                                                                                                                                                                                                                                                                                                                                                                                                                                    water, sugar, added-sugar, disaccharide, e290, mate, plant, acid, caffeine, colour, antioxidant, e330, e150a, e300   \n",
       "13                                                                                                                                                                                                                                                                                                                                                                                                                                                                                                                                                                                                                                                                                                                                                                                                                                                                                                                                                                                         apple-puree, fruit, malaceous-fruit, apple, puree, pineapple, lime-juice, citrus-fruit, juice, fruit-juice, lime, ginger, condiment, spice, antioxidant, e300   \n",
       "14                                                                                                                                                                                                                                                                                                                                                                                                                                                                                                                                                                                                                                                                                                                                                                                                                                                                                                                                                                                                                                                                                                                                                  None   \n",
       "15                                                                                                                                                                                                                                                                                                                                                                                                                                                                                                                                                                                                                                                                                                                                                                                                                                                                                                                                                                                            triple-filtered-carbonated-water, cane-sugar, added-sugar, disaccharide, sugar, e330, natural-lemon-flavouring, flavouring, natural-flavouring, e414, e211   \n",
       "16                                                                                                                                                                                                                                                                                                                                                                                                                                                                                                                                                                                                                                                                                                                                                                                                                                                          brown-sugar, added-sugar, disaccharide, sugar, milk-powder, dairy, soya, white-vinegar, vinegar, sifted-tomato, vegetable, fruit-vegetable, tomato, water, sunflower-oil, oil-and-fat, vegetable-oil-and-fat, vegetable-oil, mustard, wine-vinegar, salt, e415, sulfite, wheat, cereal, fish   \n",
       "17                                                                                                                                                                                                                                                                                                                                                                                                                                                                                                                                                                                                                                                                                                                                                                                                                                                                                                                                                                                                                                                                                                                                                  None   \n",
       "18                                                                                                                                                                                                                                                                                                                                                                                                                                                                                                                                                                                                                                                                                                                                                                                                                                                                                                                                                pork-meat, animal, meat, pork, salt, sucrose, added-sugar, disaccharide, sugar, pistachio-nuts, nut, tree-nut, natural-flavouring, flavouring, spice, condiment, antioxidant, preservative, e301, e250   \n",
       "19                                                                                                                                                                                                                                                                                                                                                                                                                                                                                                                    wheat-flour, cereal, flour, wheat, cereal-flour, vanilla-flavored-filling, sugar, added-sugar, disaccharide, egg, egg-white, palm-oil, oil-and-fat, vegetable-oil-and-fat, palm-oil-and-fat, rapeseed-vegetable-oil-oil, yeast, artificial-flavouring, flavouring, butterfat, dairy, fat, milkfat, salt, wheat-gluten, gluten, skimmed-milk, milk, e410, flour-treatment-agent, milk-proteins, protein, animal-protein, e282, e330, beta-carotene-color, water, modified-potato-starch, starch, modified-starch, potato-starch, whey, maltodextrin, natural-flavouring, e415, e471, e472e, sodium-stearoyl-lactilate, preservative   \n",
       "20                                                                                                                                                                                                                                                                                                                                                                                                                                                                                                                                                                                                                                                                                                                                                                                                                                                                                                                                                                                                                                                                                             vegetable, root-vegetable, onion-family-vegetable, garlic   \n",
       "21                                                                                                                                                                                                                                                                                                                                                                                                                                                                                                                                                                                                                               flour, water, yeast, cane-sugar, added-sugar, disaccharide, sugar, butter, dairy, potato-flour, vegetable, root-vegetable, tuber, potato, sea-salt, salt, natural-sour, cultured-wheat-flour, buttermilk, wheat-gluten, gluten, natural-flavouring, flavouring, vinegar, e516, e330, e300, soya-lecithin, e322, e322i, topped-with-flour, wheat-flour, cereal, wheat, cereal-flour, barley-malt-flour, barley, barley-flour, reduced-iron, minerals, iron, thiamin-mononitrate, thiamin, e101, e375, folic-acid, folate   \n",
       "22                                                                                                                                                                                                                                                                                                                                                                                                                                                                                                                                                                                                                                                                                                                                                                                                                                                                                                                                                                                               skimmed-milk, dairy, milk, sugar, added-sugar, disaccharide, caramelised-sugar-syrup, caramel-syrup, cocoa-powder, plant, cocoa, stabiliser, e407, e500   \n",
       "23                                                                                                                                                                                                                                                                                                                                                                                                                                                                                                                                                                                                                                                                                                                                                                                                                                                                                                                                                                                                                                                                                                                                                  None   \n",
       "24                                                                                                                                                                                                                                                                                                                                                                                                                                                                                                                                                                                                                                                                                                                                                                                                                                                                                                                                                                                                                                                                                                       water, malted-barley, cereal, malt, hops, plant   \n",
       "25                                                                                                                                                                                                                                                                                                                                                                                                                                                                                                                                                                                                                                                                                                                                                                                                                                                                                                                                                                                                  peanut, nut, vegetable-sunflower-oil, unrefined-sea-salt, salt, sea-salt, produced-in-a-facility-that-uses-nuts, sesame-seeds, seed, sesame, mustard   \n",
       "26                                                                                                                                                                                                                                                                                                                                                                                                                                                                                                                                                                                                                                                                                                                                                                                                                                  sugar, added-sugar, disaccharide, e428, modified-potato-starch, starch, modified-starch, potato-starch, e330, artificial-flavouring, flavouring, e901, e903, palm-oil, oil-and-fat, vegetable-oil-and-fat, palm-oil-and-fat, palm-kernel-oil, palm-kernel-oil-and-fat, e102, e129, e133, glucose-syrup-refined-sugar   \n",
       "27                                                                                                                                                                                                                                                                                                                                                                                                                                                                                                                                                                                                                                                 non, gmo-expeller-pressed-canola-oil, filtered-water, water, lemon-juice, fruit, juice, fruit-juice, chipotle, vegetable, fruit-vegetable, chili-pepper, jalapeno-pepper, white-vinegar, vinegar, and-less-of-the-following, salt, red-pepper-sauce, pea-protein, protein, plant-protein, spice, condiment, garlic, root-vegetable, onion-family-vegetable, modified-starch, starch, e160ai, e160a, e385, e330, sugar, added-sugar, disaccharide, red-bell-pepper, bell-pepper, to-preserve-freshness   \n",
       "28                                                                                                                                                                                                                                                                                                                                                                                                                                                                                                                                                                                                                                                                                                                                                                                                                                                                                                                                                                                                                                                                                                                                                  None   \n",
       "29                                                                                                                                                                                                                                                                                                                                                                                                                                                                                                                                                                                                                                                                                                                                                                                                                                                                                                                                                                                                                                                                                                                                                  None   \n",
       "30                                                                                                                                                                                                                                                                                                                                                                                                                                                                                                                                                                                                                                                                                                                                                                                                                                                                                                                                                                                                                                                                                                                                                  None   \n",
       "31                                                                                                                                                                                                                                                                                                                                                                                                                                                                                                                                                                                                                                                                                                                                                                                                                                                                                                spirit-vinegar, vinegar, sugar, added-sugar, disaccharide, guava, fruit, cayenne-pepper, condiment, spice, salt, apple-juice, juice, malaceous-fruit, apple, fruit-juice, thickener, yeast-extract, yeast, preservative, antioxidant, e415, e211, e300   \n",
       "32                                                                                                                                                                                                                                                                                                                                                                                                                                                                                                                                                                                                                                                                                                                                                                                                                                                                                                                                                                                                                                                                                                                                                  None   \n",
       "33                                                                                                                                                                                                                                                                                                                                                                                                                                                                                                                                                                                                                                                                                                                                                                                                                                                                                                                                                                                                                                         purified-carbonated-water, cane-sugar, added-sugar, disaccharide, sugar, natural-flavouring, flavouring, e338   \n",
       "34                                                                                                                                                                                                                                                                                                                                                                                                                                                                                                                                                                                                                                                                                                                                                                                                                                                                                                                                                                                                                                                                                                                                                  None   \n",
       "35                                                                                                                                                                                                                                                                                                                                                                                                                                                                                                                                                                                                                                       courgette, vegetable, fruit-vegetable, tomato, tomato-juice, aubergine, bell-pepper, onion, root-vegetable, onion-family-vegetable, double-concentrated-tomato, tomato-concentrate, extra-virgin-olive-oil, oil-and-fat, vegetable-oil-and-fat, vegetable-oil, olive-oil, virgin-olive-oil, sugar, added-sugar, disaccharide, salt, modified-corn-starch, starch, corn-starch, modified-starch, garlic, thyme, herb, concentrated-lemon-juice, fruit, juice, fruit-juice, lemon-juice, acid, pepper, seed, e330   \n",
       "36                                                                                                                                                                                                                                                                                                                                                                                                                                                                                                                                                                                                                                                                                                                                                                                                                                                                                                                                                                                                                                                                                                                                                  None   \n",
       "37                                                                                                                                                                                                                                                                                                                                                                                                                                                                                                                                                                                                                                                                                                                                                                                                                                                                                                                                                                                                                                                                                                                      wine, alcohol, antioxidant, e224   \n",
       "38                                                                                                                                                                                                                                                                                                                                                                                                                                                                                                                                                                                                                                                                                                                                                                                                                                                                                                                                 fortified-wheat-flour, cereal, flour, wheat, cereal-flour, wheat-flour, water, sea-salt, salt, yeast, malted-barley, malt, e375, reduced-iron, minerals, iron, thiamin-mononitrate, thiamin, e101, folic-acid, folate   \n",
       "39                                                                                                                                                                                                                                                                                                                                                                                                                                                                                                                                                                                                                                                                                                                                                                                                                                                        carbonated-water, water, high-fructose-corn-syrup, added-sugar, disaccharide, monosaccharide, fructose, glucose, corn-syrup, glucose-fructose-syrup, e150a, e338, natural-and-artificial-flavouring, flavouring, natural-flavouring, artificial-flavouring, e211, caffeine, e270, preservative   \n",
       "40                                                                                                                                                                                                                                                                                                                                                                                                                                                                                                                                                                                                                                                                                                                                                                                                                                                                                                                                                                                                                                                                                                                                                  None   \n",
       "41                                                                                                                                                                                                                                                                                                                                                                                                                                                                                                                                                                                                                                                                                                                                                                                                                                                                                                            carbonated-water, water, lemon-juice-from-concentrate, fruit, juice, fruit-juice, lemon-juice, colour, flavouring, acid, sweetener, acidity-regulator, preservative, e150d, e338, e330, e951, e950, sodium-citrate, minerals, sodium, e211   \n",
       "42                                                                                                                                                                                                                                                                                                                                                                                                                                                                                                                                                                                                                                                                                                                                                                                                                                                                                                                                                                                                                                                                                                                                                  None   \n",
       "43                                                                                                                                                                                                                                                                                                                                                                                                                                                                                                                                                                                                                                                                                                                                                                                                                                                                                                                                                                                                                                                                                                                                                  None   \n",
       "44                                                                                                                                                                                                                                                                                                                                                                                                                                                                                                                                                                                                                                                                                                                                                                                                                                                                                 pork-meat, animal, meat, pork, water, salt, natural-flavouring, flavouring, cane-sugar, added-sugar, disaccharide, sugar, herbs-and-spices, condiment, herb, spice, dextrose, monosaccharide, glucose, antioxidant, preservative, e300, e325, collagen, pork-collagen   \n",
       "45                                                                                                                                                                                                                                                                                                                                                                                                                                                                                                                                                                                                                                                                                                                                                                                                                                                                                                                                                                                                                                   mustard-seed, condiment, mustard, spice, vinegar, brown-sugar, added-sugar, disaccharide, sugar, salt, pepper, seed   \n",
       "46                                                                                                                                                                                                                                                                                                                                                                                                                                                                                                                                                                                                                                                                                                                                                                                                                                                                                                                                                                                                                                                                                     white-chicken, water, contains-2-and-less-of-sea-salt, flavouring   \n",
       "47                                                                                                                                                                     strawberry-flavored-filling, water, fondant, rice-flour, flour, rice, palm-oil, oil-and-fat, vegetable-oil-and-fat, palm-oil-and-fat, modified-potato-starch, starch, modified-starch, potato-starch, resistant-corn-starch, sugar, added-sugar, disaccharide, egg, modified-tapioca-starch, tapioca, tapioca-syrup, syrup, sugar-beet-fibre, fiber, vegetable-fiber, baking-powder, inulin, salt, e466, e415, cultured-corn-syrup-solids-and-citric-acid, vanilla-extract, plant, vanilla, e406, e410, apple, fruit, malaceous-fruit, strawberry, berries, e422, concentrated-white-grape-juice, juice, fruit-juice, grape, grape-juice, white-grape-juice, e440a, e330, e296, natural-flavouring, flavouring, e341iii, e341, black-carrot-juice, vegetable, root-vegetable, taproot-vegetable, carrot, e163, black-carrot, sodium-citrate, minerals, sodium, sucrose, invert-sugar, monosaccharide, e450i, e450, e500ii, e500, corn-starch, e341i, e516, mold-inhibitor, colour   \n",
       "48                                                                                                                                                                                                                                                                                                                                                                                                                                                                                                                                                                                                                                                                                                                             whole-grain-oat-flakes, cereal, oat, oat-flakes, sugar, added-sugar, disaccharide, canola-oil, oil-and-fat, vegetable-oil-and-fat, rapeseed-oil, rice-flour, flour, rice, coconut, fruit, corn-starch, starch, honey, natural-flavouring, flavouring, salt, baobab-fruit-powder, barley-malt-syrup, malt, malted-barley, barley-malt-extract, syrup, almond, nut, tree-nut, e306, natural-vitamin-e-to-maintain-freshness   \n",
       "49                                                                                                                                                                                                                                                                                                                                                                                                                                                                                                                                                                                                                                                                                                                                                                                                                                                                                                                                                                                                                                                                                                                                                  None   \n",
       "50                                                                                                                                                                                                                                                                                                                                                                                                                                                                                                                                                                                                                                                                                                                                                                                                                                                                                                                                                                                                                                                                                                                                                  e428   \n",
       "51                                                                                                                                                                                                                                                                                                                                                                                                                                                                                                                                                                                                                                                                                                                                                                 sugar, added-sugar, disaccharide, apple-juice, fruit, juice, malaceous-fruit, apple, fruit-juice, vinegar, alcohol, pineapple-juice, pineapple, water, modified-starch, starch, pepper, seed, salt, ginger, condiment, spice, herbs-and-spices, herb, onion, vegetable, root-vegetable, onion-family-vegetable, acid, glucose-fructose-syrup, monosaccharide, fructose, glucose, e330   \n",
       "52                                                                                                                                                                                                                                                                                                                                                                                                                                                                                                                                                                                                                                                                                                                                                                                                                                                                                                                                                                                                                                                                                                                                 brewer-s-yeast, yeast   \n",
       "53                                                                                                                                                                                                                                                                                                                                                                                                                                                                                                                                                                                                                                                                                                                                                                                                                                                  sunflower-oil, oil-and-fat, vegetable-oil-and-fat, vegetable-oil, tomato-concentrate, vegetable, fruit-vegetable, tomato, sugar, added-sugar, disaccharide, salt, gherkin, cucumber, sardine, fish, oily-fish, onion, root-vegetable, onion-family-vegetable, carrot, taproot-vegetable, bell-pepper   \n",
       "54                                                                                                                                                                                                                                                                                                                                                                                                                                                                                                                                                                                                                                                                                                                                                                                                                                                                                                                                                                                                                                                                                              chili-pepper, vegetable, fruit-vegetable, sea-salt, salt   \n",
       "55                                                                                                                                                                                                                                                                                                                                                                                                                                                                                                                                                                                                                                                                                                                                                                                                                                               potato, vegetable, root-vegetable, tuber, batter, flour, tapioca, starch, modified-starch, salt, maltodextrin, stabiliser, e100, colour, rapeseed-oil, oil-and-fat, vegetable-oil-and-fat, sunflower-oil, vegetable-oil, rice, wheat, cereal, corn, e415, e160c, calcium, minerals, iron, e375, thiamin   \n",
       "56                                                                                                                                                                                                                                                                                                                                                                                                                                                                                                                                                                                                                                                                                                                                                                                                                                                                                                                                                                                                                                                                                                                                                  None   \n",
       "57  water, corn-maltodextrin, maltodextrin, sugar, added-sugar, disaccharide, milk-proteins, protein, animal-protein, canola-oil, oil-and-fat, vegetable-oil-and-fat, rapeseed-oil, soy-protein-isolate, plant-protein, soy-protein, corn-oil, vegetable-oil, cocoa-powder, plant, cocoa, less-than-0-5-of, e343i, e343, whey-protein, natural-and-artificial-flavouring, flavouring, natural-flavouring, artificial-flavouring, sodium-citrate, minerals, sodium, soya-lecithin, e322, e322i, e341, e508, cellulose-gel, choline-chloride, e170i, e170, e466, e300, salt, e407, e525, ferric-orthophosphate, iron, dl-alpha-tocopheryl-acetate, vitamin-e, zinc-sulfate, zinc, e375, manganese-sulfate, manganese, calcium-pantothenate, vitamins, pantothenic-acid, e519, retinyl-palmitate, vitamin-a, thiamin-hydrochloride, thiamin, pyridoxine-hydrochloride, vitamin-b6, e101, chromium-chloride, chromium, folic-acid, folate, biotin, sodium-molybdate, molybdenum, sodium-selenite, selenium, potassium-iodide, iodine, cyanocobalamin, vitamin-b12, phylloquinone, vitamin-k, cholecalciferol, vitamin-d, processed-with-alkali, e332ii, e332   \n",
       "58                                                                                                                                                                                                                                                                                                                                                                                                                                                                                                                                                                                                                                                                                                                                                                                                                                                                                                                                                                                                                                                                                                                                                  None   \n",
       "59                                                                                                                                                                                                                                                                                                                                                                                                                                                                                                                                                                                                                                                                                                                                                                                                                                                                                                                                                                                                                                                                                                                                           water, salt   \n",
       "\n",
       "                                                                                                                                                                                                                                                                                   categories  \\\n",
       "0                                                                                                                                                                                                                           meats-and-their-products, meats, prepared-meats, hams, white-hams   \n",
       "1                                                                                                                                                                                                                                                     condiments, sauces, mustards, groceries   \n",
       "2                                                                                                                                                                            plant-based-foods-and-beverages, plant-based-foods, condiments, culinary-plants, aromatic-plants, herbs, oregano   \n",
       "3                                                                                                                                                                                                                                  dairies, fermented-foods, fermented-milk-products, cheeses   \n",
       "4                                                                                                                                          plant-based-foods-and-beverages, plant-based-foods, snacks, cereals-and-potatoes, salty-snacks, appetizers, chips-and-fries, crisps, potato-crisps   \n",
       "5                                                                                                                                                                   seafood, fishes-and-their-products, canned-foods, fishes, fatty-fishes, canned-fishes, tunas, canned-tunas, tuna-in-brine   \n",
       "6                                                                                plant-based-foods-and-beverages, plant-based-foods, fruits-and-vegetables-based-foods, canned-foods, vegetables-based-foods, meals, fermented-vegetables, sauerkrauts, canned-meals, sauerkraut-with-garnish   \n",
       "7                                                                                                                                                                                                                                                       snacks, sweet-snacks, confectioneries   \n",
       "8                                                                                                                                                                                                                                          meats-and-their-products, meat-preparations, meats   \n",
       "9                                                                                                       dairies, fermented-foods, fermented-milk-products, desserts, dairy-desserts, fermented-dairy-desserts, fermented-dairy-desserts-with-fruits, petits-suisses, petit-suisse-with-fruits   \n",
       "10                                                                                                                                                                             dairies, fermented-foods, fermented-milk-products, desserts, dairy-desserts, fermented-dairy-desserts, yogurts   \n",
       "11                                                                                                                                                                                             plant-based-foods-and-beverages, plant-based-foods, nuts-and-their-products, nuts, cashew-nuts   \n",
       "12                                                                                                                                                                                                                                   beverages, carbonated-drinks, sodas, sweetened-beverages   \n",
       "13                                                                                                                                              plant-based-foods-and-beverages, plant-based-foods, fruits-and-vegetables-based-foods, desserts, fruits-based-foods, compotes, apple-compotes   \n",
       "14                                                                                  plant-based-foods-and-beverages, plant-based-foods, cereals-and-potatoes, seeds, cereals-and-their-products, cereal-grains, rices, japonica-rices, medium-grain-rices, rices-for-risotto, carnaroli-rices   \n",
       "15                                                                                                                                                                                                                                                        beverages, carbonated-drinks, sodas   \n",
       "16                                                                                                                                                                                                                                             condiments, sauces, cocktail-sauces, groceries   \n",
       "17                                                                                                                      plant-based-foods-and-beverages, plant-based-foods, fruits-and-vegetables-based-foods, vegetables-based-foods, vegetables, vegetable-rods, asparagus, white-asparagus   \n",
       "18                                                                                                                                                                                                                                meats-and-their-products, meats, prepared-meats, mortadella   \n",
       "19                                                                                                   plant-based-foods-and-beverages, plant-based-foods, snacks, cereals-and-potatoes, sweet-snacks, sweet-pastries-and-pies, breads, viennoiseries, brioches, brioches-a-la-creme-patissiere   \n",
       "20                             plant-based-foods-and-beverages, plant-based-foods, fruits-and-vegetables-based-foods, condiments, vegetables-based-foods, culinary-plants, fresh-foods, fresh-plant-based-foods, fresh-vegetables, garlic-and-their-products, garlic, fresh-garlic, groceries   \n",
       "21                                                                                                                                                                                                           plant-based-foods-and-beverages, plant-based-foods, cereals-and-potatoes, breads   \n",
       "22                                                                                                                                                              beverages, dairies, dairy-drinks, evaporated-milks, non-alcoholic-beverages, coffee-drinks, coffee-milks, sweetened-beverages   \n",
       "23                                                                                                                                                                                         plant-based-foods-and-beverages, beverages, hot-beverages, plant-based-beverages, teas, green-teas   \n",
       "24                                                                                                                                                                                                                beverages-and-beverages-preparations, beverages, alcoholic-beverages, beers   \n",
       "25                                                                       plant-based-foods-and-beverages, plant-based-foods, legumes-and-their-products, snacks, legumes, salty-snacks, nuts-and-their-products, nuts, roasted-nuts, peanuts, salted-nuts, roasted-peanuts, unshelled-peanuts   \n",
       "26                                                                                                                                                                                                                              snacks, sweet-snacks, confectioneries, candies, gummi-candies   \n",
       "27                                                                                                                                                                                                                                                              condiments, sauces, groceries   \n",
       "28                                                                                                                                                                                                   dairies, desserts, dairy-desserts, custard-puddings, custard-puddings-with-caramel-sauce   \n",
       "29                                                                                                                                                      dairies, fermented-foods, fermented-milk-products, desserts, dairy-desserts, fermented-dairy-desserts, plain-fermented-dairy-desserts   \n",
       "30                                                                                                                                                                                                                                            meats-and-their-products, meats, prepared-meats   \n",
       "31                                                                                                                                                                                                                                                              condiments, sauces, groceries   \n",
       "32                                                                                                                                                                                                                                                          dairies, milks, lactose-free-milk   \n",
       "33                                                                                                                                                                                                                                                                          beverages, waters   \n",
       "34                                                                                                                                                                                                                                                                                      meals   \n",
       "35                                                            plant-based-foods-and-beverages, plant-based-foods, fruits-and-vegetables-based-foods, canned-foods, vegetables-based-foods, canned-plant-based-foods, meals, canned-vegetables, prepared-vegetables, canned-meals, ratatouille   \n",
       "36                                                                                                                                                                                                             snacks, sweet-snacks, biscuits-and-cakes, biscuits, cakes, strawberry-biscuits   \n",
       "37                                                                                                                                                                                                                                   condiments, vinegars, wine-vinegars, white-wine-vinegars   \n",
       "38                                                                                                                                                                                                           plant-based-foods-and-beverages, plant-based-foods, cereals-and-potatoes, breads   \n",
       "39                                                                                                                                                                                                                                                        beverages, carbonated-drinks, sodas   \n",
       "40                                                                                                                                                                                                                                            meats-and-their-products, meats, prepared-meats   \n",
       "41  plant-based-foods-and-beverages, beverages, plant-based-beverages, carbonated-drinks, fruit-based-beverages, artificially-sweetened-beverages, sodas, diet-beverages, fruit-sodas, colas, diet-sodas, diet-cola-soft-drink, lemon-soft-drinks, light-fruit-sodas, light-lemon-soft-drinks   \n",
       "42                   plant-based-foods-and-beverages, plant-based-foods, fruits-and-vegetables-based-foods, legumes-and-their-products, legumes, vegetables-based-foods, frozen-foods, vegetables, frozen-plant-based-foods, frozen-legumes, frozen-vegetables, green-peas, frozen-green-peas   \n",
       "43                                                                                                                                                                                                                  beverages-and-beverages-preparations, beverages, carbonated-drinks, sodas   \n",
       "44                                                                                                                                                                                              meats-and-their-products, meats, prepared-meats, sausages, french-sausages, toulouse-sausages   \n",
       "45                                                                                                                                                                                                                                                              condiments, sauces, groceries   \n",
       "46                                                                                                                                                                                                                                canned-foods, meats-and-their-products, meats, canned-meats   \n",
       "47                                                                                                                                                                                                                                         snacks, sweet-snacks, biscuits-and-cakes, pastries   \n",
       "48                                                                                                                                                                                       plant-based-foods-and-beverages, plant-based-foods, cereals-and-potatoes, cereals-and-their-products   \n",
       "49                                                                                                                                                                                                                                            snacks, sweet-snacks, biscuits-and-cakes, cakes   \n",
       "50                                                                                                                                                                                                                                                        food-additives, thickeners, gelatin   \n",
       "51                                                                                                                                                                                                                                       condiments, sauces, sweet-and-sour-sauces, groceries   \n",
       "52                                                                                                                                                                                                                                                                      food-additives, yeast   \n",
       "53                                                                                                                                                                           seafood, fishes-and-their-products, canned-foods, fishes, fatty-fishes, canned-fishes, sardines, canned-sardines   \n",
       "54                                                                                                                                                                                                          plant-based-foods-and-beverages, plant-based-foods, condiments, spices, spice-mix   \n",
       "55                                                                                                                                                                                                                                  snacks, salty-snacks, appetizers, chips-and-fries, crisps   \n",
       "56                                                                                                                                      plant-based-foods-and-beverages, plant-based-foods, fruits-and-vegetables-based-foods, fruits-based-foods, fruits, apples, fresh-fruits, fresh-apples   \n",
       "57                                                                                                                                                                                                                                                                                  beverages   \n",
       "58                                                                                                                                                                                                                                           beverages, waters, spring-waters, mineral-waters   \n",
       "59                                                                                                                                                                                                                    seafood, fishes-and-their-products, canned-foods, fishes, canned-fishes   \n",
       "\n",
       "    labels_note  \n",
       "0             7  \n",
       "1             2  \n",
       "2             0  \n",
       "3             0  \n",
       "4             0  \n",
       "5             0  \n",
       "6             2  \n",
       "7             0  \n",
       "8             0  \n",
       "9             3  \n",
       "10            0  \n",
       "11            0  \n",
       "12            4  \n",
       "13            1  \n",
       "14            0  \n",
       "15            0  \n",
       "16            1  \n",
       "17            1  \n",
       "18            2  \n",
       "19            1  \n",
       "20            0  \n",
       "21            0  \n",
       "22            1  \n",
       "23            0  \n",
       "24            0  \n",
       "25            0  \n",
       "26            0  \n",
       "27            0  \n",
       "28            3  \n",
       "29            0  \n",
       "30            4  \n",
       "31            0  \n",
       "32            1  \n",
       "33            0  \n",
       "34            0  \n",
       "35            3  \n",
       "36            0  \n",
       "37            0  \n",
       "38            0  \n",
       "39            0  \n",
       "40            0  \n",
       "41            1  \n",
       "42            3  \n",
       "43            0  \n",
       "44            5  \n",
       "45            0  \n",
       "46            0  \n",
       "47            0  \n",
       "48            0  \n",
       "49            2  \n",
       "50            0  \n",
       "51            0  \n",
       "52            2  \n",
       "53            4  \n",
       "54            0  \n",
       "55            0  \n",
       "56            0  \n",
       "57            0  \n",
       "58            0  \n",
       "59            0  "
      ]
     },
     "execution_count": 101,
     "metadata": {},
     "output_type": "execute_result"
    }
   ],
   "source": [
    "df_check.head(60)"
   ]
  },
  {
   "cell_type": "code",
   "execution_count": null,
   "metadata": {},
   "outputs": [],
   "source": []
  }
 ],
 "metadata": {
  "kernelspec": {
   "display_name": "greenIa",
   "language": "python",
   "name": "python3"
  },
  "language_info": {
   "codemirror_mode": {
    "name": "ipython",
    "version": 3
   },
   "file_extension": ".py",
   "mimetype": "text/x-python",
   "name": "python",
   "nbconvert_exporter": "python",
   "pygments_lexer": "ipython3",
   "version": "3.10.14"
  }
 },
 "nbformat": 4,
 "nbformat_minor": 2
}
